{
 "cells": [
  {
   "cell_type": "code",
   "execution_count": 32,
   "metadata": {
    "collapsed": true
   },
   "outputs": [],
   "source": [
    "import sys \n",
    "sys.path.insert(0, 'D:\\\\Anaconda\\\\envs\\\\tensorflow_cpu\\\\python36.zip')\n",
    "sys.path.insert(0, 'D:\\\\Anaconda\\\\envs\\\\tensorflow_cpu\\\\DLLs')\n",
    "sys.path.insert(0, 'D:\\\\Anaconda\\\\envs\\\\tensorflow_cpu\\\\lib')\n",
    "sys.path.insert(0, 'D:\\\\Anaconda\\\\envs\\\\tensorflow_cpu')\n",
    "sys.path.insert(0, 'D:\\\\Anaconda\\\\envs\\\\tensorflow_cpu\\\\lib\\\\site-packages')\n",
    "sys.path.insert(0, '')"
   ]
  },
  {
   "cell_type": "code",
   "execution_count": null,
   "metadata": {
    "collapsed": true
   },
   "outputs": [],
   "source": [
    "'D:\\\\Anaconda\\\\envs\\\\tensorflow_cpu\\\\python36.zip', \n",
    "'D:\\\\Anaconda\\\\envs\\\\tensorflow_cpu\\\\DLLs', \n",
    "'D:\\\\Anaconda\\\\envs\\\\tensorflow_cpu\\\\lib', \n",
    "'D:\\\\Anaconda\\\\envs\\\\tensorflow_cpu', \n",
    "'D:\\\\Anaconda\\\\envs\\\\tensorflow_cpu\\\\lib\\\\site-packages'"
   ]
  },
  {
   "cell_type": "code",
   "execution_count": 31,
   "metadata": {},
   "outputs": [],
   "source": [
    "sys.path.clear()"
   ]
  },
  {
   "cell_type": "code",
   "execution_count": 33,
   "metadata": {},
   "outputs": [
    {
     "data": {
      "text/plain": [
       "['',\n",
       " 'D:\\\\Anaconda\\\\envs\\\\tensorflow_cpu\\\\lib\\\\site-packages',\n",
       " 'D:\\\\Anaconda\\\\envs\\\\tensorflow_cpu',\n",
       " 'D:\\\\Anaconda\\\\envs\\\\tensorflow_cpu\\\\lib',\n",
       " 'D:\\\\Anaconda\\\\envs\\\\tensorflow_cpu\\\\DLLs',\n",
       " 'D:\\\\Anaconda\\\\envs\\\\tensorflow_cpu\\\\python36.zip']"
      ]
     },
     "execution_count": 33,
     "metadata": {},
     "output_type": "execute_result"
    }
   ],
   "source": [
    "sys.path"
   ]
  },
  {
   "cell_type": "code",
   "execution_count": 232,
   "metadata": {},
   "outputs": [
    {
     "name": "stdout",
     "output_type": "stream",
     "text": [
      "2.0.0\n"
     ]
    }
   ],
   "source": [
    "from __future__ import absolute_import, division, print_function, unicode_literals\n",
    "\n",
    "# TensorFlow and tf.keras\n",
    "import tensorflow as tf\n",
    "from tensorflow import keras\n",
    "\n",
    "# Helper libraries\n",
    "import numpy as np\n",
    "import matplotlib.pyplot as plt\n",
    "\n",
    "print(tf.__version__)"
   ]
  },
  {
   "cell_type": "code",
   "execution_count": 35,
   "metadata": {
    "collapsed": true
   },
   "outputs": [],
   "source": [
    "from scipy.sparse import csr_matrix, load_npz, save_npz\n",
    "from tqdm import tqdm\n",
    "from sklearn.preprocessing import normalize\n",
    "import datetime\n",
    "import json\n",
    "import pandas as pd\n",
    "import time\n",
    "import yaml\n",
    "import scipy.sparse as sparse\n",
    "from ast import literal_eval\n"
   ]
  },
  {
   "cell_type": "code",
   "execution_count": 36,
   "metadata": {
    "collapsed": true
   },
   "outputs": [],
   "source": [
    "# Load Original Data\n",
    "df_train = pd.read_csv('../../data/beer/Train.csv')\n",
    "df_valid = pd.read_csv('../../data/beer/Valid.csv')\n",
    "df_test = pd.read_csv('../../data/beer/Test.csv')"
   ]
  },
  {
   "cell_type": "code",
   "execution_count": 38,
   "metadata": {
    "collapsed": true
   },
   "outputs": [],
   "source": [
    "keyphrases = pd.read_csv('../../data/yelp/KeyPhrases.csv')['Phrases'].tolist()"
   ]
  },
  {
   "cell_type": "code",
   "execution_count": 44,
   "metadata": {
    "collapsed": true
   },
   "outputs": [],
   "source": [
    "def to_sparse_matrix(df, num_user, num_item, user_col, item_col, rating_col):\n",
    "\n",
    "    dok = df[[user_col, item_col, rating_col]].copy()\n",
    "    dok = dok.values\n",
    "    dok = dok[dok[:, 2] > 0]\n",
    "    shape = [num_user, num_item]\n",
    "\n",
    "    return sparse.csr_matrix((dok[:, 2].astype(np.float32), (dok[:, 0], dok[:, 1])), shape=shape)\n",
    "\n",
    "def generate_sparse():\n",
    "    num_users = df_train['UserIndex'].nunique()\n",
    "    num_items = df_train['ItemIndex'].nunique()\n",
    "    R_train = to_sparse_matrix(df_train, num_users, num_items, 'UserIndex', 'ItemIndex', rating_col)\n",
    "    sparse.save_npz('../../data/beer/' + 'Rtrain.npz', R_train)\n",
    "    \n",
    "    R_valid = to_sparse_matrix(df_valid, num_users, num_items, 'UserIndex','ItemIndex', rating_col)\n",
    "    sparse.save_npz('../../data/beer/' + 'Rvalid.npz', R_valid)\n",
    "    \n",
    "    R_test = to_sparse_matrix(df_test, num_users, num_items, 'UserIndex', 'ItemIndex', rating_col)\n",
    "    sparse.save_npz('../../data/beer/' + 'Rtest.npz', R_test)"
   ]
  },
  {
   "cell_type": "code",
   "execution_count": 47,
   "metadata": {},
   "outputs": [],
   "source": [
    "rating_col = 'Binary'\n",
    "generate_sparse()"
   ]
  },
  {
   "cell_type": "code",
   "execution_count": 49,
   "metadata": {},
   "outputs": [],
   "source": [
    "# Load U-I Data \n",
    "rtrain = load_npz(\"../../data/beer/Rtrain.npz\")\n",
    "rvalid = load_npz(\"../../data/beer/Rvalid.npz\")\n",
    "rtest = load_npz(\"../../data/beer/Rtest.npz\")"
   ]
  },
  {
   "cell_type": "code",
   "execution_count": 234,
   "metadata": {},
   "outputs": [
    {
     "data": {
      "text/plain": [
       "['',\n",
       " 'D:\\\\Anaconda\\\\envs\\\\tensorflow_cpu\\\\lib\\\\site-packages',\n",
       " 'D:\\\\Anaconda\\\\envs\\\\tensorflow_cpu',\n",
       " 'D:\\\\Anaconda\\\\envs\\\\tensorflow_cpu\\\\lib',\n",
       " 'D:\\\\Anaconda\\\\envs\\\\tensorflow_cpu\\\\DLLs',\n",
       " 'D:\\\\Anaconda\\\\envs\\\\tensorflow_cpu\\\\python36.zip']"
      ]
     },
     "execution_count": 234,
     "metadata": {},
     "output_type": "execute_result"
    }
   ],
   "source": [
    "sys.path"
   ]
  },
  {
   "cell_type": "code",
   "execution_count": 235,
   "metadata": {
    "collapsed": true
   },
   "outputs": [],
   "source": [
    "# Models\n",
    "from sklearn.metrics.pairwise import cosine_similarity\n",
    "def train(matrix_train):\n",
    "    similarity = cosine_similarity(X=matrix_train, Y=None, dense_output=True)\n",
    "    return similarity\n",
    "\n",
    "def get_I_K(df, row_name = 'ItemIndex', shape = (3668,75)):\n",
    "    rows = []\n",
    "    cols = []\n",
    "    vals = []\n",
    "    for i in tqdm(range(df.shape[0])):\n",
    "        key_vector = literal_eval(df['keyVector'][i])\n",
    "        rows.extend([df[row_name][i]]*len(key_vector)) ## Item index\n",
    "        cols.extend(key_vector) ## Keyword Index\n",
    "        vals.extend(np.array([1]*len(key_vector)))\n",
    "    return csr_matrix((vals, (rows, cols)), shape=shape)\n",
    "\n",
    "def predict(matrix_train, k, similarity, item_similarity_en = False):\n",
    "    \"\"\"\n",
    "    res = similarity * matrix_train    if item_similarity_en = False\n",
    "    res = similarity * matrix_train.T  if item_similarity_en = True\n",
    "    \"\"\"\n",
    "    prediction_scores = []\n",
    "    \n",
    "    if item_similarity_en:\n",
    "        matrix_train = matrix_train.transpose()\n",
    "        \n",
    "    for user_index in tqdm(range(matrix_train.shape[0])):\n",
    "        # Get user u's prediction scores to all users\n",
    "        vector_u = similarity[user_index]\n",
    "\n",
    "        # Get closest K neighbors excluding user u self\n",
    "        similar_users = vector_u.argsort()[::-1][1:k+1]\n",
    "        # Get neighbors similarity weights and ratings\n",
    "        similar_users_weights = similarity[user_index][similar_users]\n",
    "        similar_users_ratings = matrix_train[similar_users].toarray()\n",
    "\n",
    "        prediction_scores_u = similar_users_ratings * similar_users_weights[:, np.newaxis]\n",
    "\n",
    "        prediction_scores.append(np.sum(prediction_scores_u, axis=0))\n",
    "    res = np.array(prediction_scores)\n",
    "    \n",
    "    if item_similarity_en:\n",
    "        res = res.transpose()\n",
    "    \n",
    "    return res\n",
    "\n",
    "def prediction(prediction_score, topK, matrix_Train):\n",
    "\n",
    "    prediction = []\n",
    "\n",
    "    for user_index in tqdm(range(matrix_Train.shape[0])):\n",
    "        vector_u = prediction_score[user_index]\n",
    "        vector_train = matrix_Train[user_index]\n",
    "        if len(vector_train.nonzero()[0]) > 0:\n",
    "            vector_predict = sub_routine(vector_u, vector_train, topK=topK)\n",
    "        else:\n",
    "            vector_predict = np.zeros(topK, dtype=np.float32)\n",
    "\n",
    "        prediction.append(vector_predict)\n",
    "\n",
    "    return np.vstack(prediction)\n",
    "\n",
    "\n",
    "def sub_routine(vector_u, vector_train, topK=500):\n",
    "\n",
    "    train_index = vector_train.nonzero()[1]\n",
    "\n",
    "    vector_u = vector_u\n",
    "\n",
    "    candidate_index = np.argpartition(-vector_u, topK+len(train_index))[:topK+len(train_index)]\n",
    "    vector_u = candidate_index[vector_u[candidate_index].argsort()[::-1]]\n",
    "    vector_u = np.delete(vector_u, np.isin(vector_u, train_index).nonzero()[0])\n",
    "\n",
    "    return vector_u[:topK]\n"
   ]
  },
  {
   "cell_type": "code",
   "execution_count": 51,
   "metadata": {
    "collapsed": true
   },
   "outputs": [],
   "source": [
    "# Evluation \n",
    "def recallk(vector_true_dense, hits, **unused):\n",
    "    hits = len(hits.nonzero()[0])\n",
    "    return float(hits)/len(vector_true_dense)\n",
    "\n",
    "def precisionk(vector_predict, hits, **unused):\n",
    "    hits = len(hits.nonzero()[0])\n",
    "    return float(hits)/len(vector_predict)\n",
    "\n",
    "\n",
    "def average_precisionk(vector_predict, hits, **unused):\n",
    "    precisions = np.cumsum(hits, dtype=np.float32)/range(1, len(vector_predict)+1)\n",
    "    return np.mean(precisions)\n",
    "\n",
    "\n",
    "def r_precision(vector_true_dense, vector_predict, **unused):\n",
    "    vector_predict_short = vector_predict[:len(vector_true_dense)]\n",
    "    hits = len(np.isin(vector_predict_short, vector_true_dense).nonzero()[0])\n",
    "    return float(hits)/len(vector_true_dense)\n",
    "\n",
    "\n",
    "def _dcg_support(size):\n",
    "    arr = np.arange(1, size+1)+1\n",
    "    return 1./np.log2(arr)\n",
    "\n",
    "\n",
    "def ndcg(vector_true_dense, vector_predict, hits):\n",
    "    idcg = np.sum(_dcg_support(len(vector_true_dense)))\n",
    "    dcg_base = _dcg_support(len(vector_predict))\n",
    "    dcg_base[np.logical_not(hits)] = 0\n",
    "    dcg = np.sum(dcg_base)\n",
    "    return dcg/idcg\n",
    "\n",
    "\n",
    "def click(hits, **unused):\n",
    "    first_hit = next((i for i, x in enumerate(hits) if x), None)\n",
    "    if first_hit is None:\n",
    "        return 5\n",
    "    else:\n",
    "        return first_hit/10\n",
    "\n",
    "\n",
    "def evaluate(matrix_Predict, matrix_Test, metric_names =['R-Precision', 'NDCG', 'Precision', 'Recall', 'MAP'], atK = [5, 10, 15, 20, 50], analytical=False):\n",
    "    \"\"\"\n",
    "    :param matrix_U: Latent representations of users, for LRecs it is RQ, for ALSs it is U\n",
    "    :param matrix_V: Latent representations of items, for LRecs it is Q, for ALSs it is V\n",
    "    :param matrix_Train: Rating matrix for training, features.\n",
    "    :param matrix_Test: Rating matrix for evaluation, true labels.\n",
    "    :param k: Top K retrieval\n",
    "    :param metric_names: Evaluation metrics\n",
    "    :return:\n",
    "    \"\"\"\n",
    "    global_metrics = {\n",
    "        \"R-Precision\": r_precision,\n",
    "        \"NDCG\": ndcg,\n",
    "        \"Clicks\": click\n",
    "    }\n",
    "\n",
    "    local_metrics = {\n",
    "        \"Precision\": precisionk,\n",
    "        \"Recall\": recallk,\n",
    "        \"MAP\": average_precisionk\n",
    "    }\n",
    "\n",
    "    output = dict()\n",
    "\n",
    "    num_users = matrix_Predict.shape[0]\n",
    "\n",
    "    for k in atK:\n",
    "\n",
    "        local_metric_names = list(set(metric_names).intersection(local_metrics.keys()))\n",
    "        results = {name: [] for name in local_metric_names}\n",
    "        topK_Predict = matrix_Predict[:, :k]\n",
    "\n",
    "        for user_index in tqdm(range(topK_Predict.shape[0])):\n",
    "            vector_predict = topK_Predict[user_index]\n",
    "            if len(vector_predict.nonzero()[0]) > 0:\n",
    "                vector_true = matrix_Test[user_index]\n",
    "                vector_true_dense = vector_true.nonzero()[1]\n",
    "                hits = np.isin(vector_predict, vector_true_dense)\n",
    "\n",
    "                if vector_true_dense.size > 0:\n",
    "                    for name in local_metric_names:\n",
    "                        results[name].append(local_metrics[name](vector_true_dense=vector_true_dense,\n",
    "                                                                 vector_predict=vector_predict,\n",
    "                                                                 hits=hits))\n",
    "\n",
    "        results_summary = dict()\n",
    "        if analytical:\n",
    "            for name in local_metric_names:\n",
    "                results_summary['{0}@{1}'.format(name, k)] = results[name]\n",
    "        else:\n",
    "            for name in local_metric_names:\n",
    "                results_summary['{0}@{1}'.format(name, k)] = (np.average(results[name]),\n",
    "                                                              1.96*np.std(results[name])/np.sqrt(num_users))\n",
    "        output.update(results_summary)\n",
    "\n",
    "    global_metric_names = list(set(metric_names).intersection(global_metrics.keys()))\n",
    "    results = {name: [] for name in global_metric_names}\n",
    "\n",
    "    topK_Predict = matrix_Predict[:]\n",
    "\n",
    "    for user_index in tqdm(range(topK_Predict.shape[0])):\n",
    "        vector_predict = topK_Predict[user_index]\n",
    "\n",
    "        if len(vector_predict.nonzero()[0]) > 0:\n",
    "            vector_true = matrix_Test[user_index]\n",
    "            vector_true_dense = vector_true.nonzero()[1]\n",
    "            hits = np.isin(vector_predict, vector_true_dense)\n",
    "\n",
    "            # if user_index == 1:\n",
    "            #     import ipdb;\n",
    "            #     ipdb.set_trace()\n",
    "\n",
    "            if vector_true_dense.size > 0:\n",
    "                for name in global_metric_names:\n",
    "                    results[name].append(global_metrics[name](vector_true_dense=vector_true_dense,\n",
    "                                                              vector_predict=vector_predict,\n",
    "                                                              hits=hits))\n",
    "\n",
    "    results_summary = dict()\n",
    "    if analytical:\n",
    "        for name in global_metric_names:\n",
    "            results_summary[name] = results[name]\n",
    "    else:\n",
    "        for name in global_metric_names:\n",
    "            results_summary[name] = (np.average(results[name]), 1.96*np.std(results[name])/np.sqrt(num_users))\n",
    "    output.update(results_summary)\n",
    "\n",
    "    return output\n",
    "\n"
   ]
  },
  {
   "cell_type": "code",
   "execution_count": 57,
   "metadata": {
    "scrolled": true
   },
   "outputs": [
    {
     "data": {
      "text/plain": [
       "<6370x3668 sparse matrix of type '<class 'numpy.float32'>'\n",
       "\twith 167511 stored elements in Compressed Sparse Row format>"
      ]
     },
     "execution_count": 57,
     "metadata": {},
     "output_type": "execute_result"
    }
   ],
   "source": [
    "rtrain"
   ]
  },
  {
   "cell_type": "code",
   "execution_count": 58,
   "metadata": {},
   "outputs": [
    {
     "name": "stderr",
     "output_type": "stream",
     "text": [
      "100%|███████████████████████████████████████████████████████████████████████| 641773/641773 [00:33<00:00, 19242.25it/s]\n"
     ]
    }
   ],
   "source": [
    "# Generate U-K \n",
    "U_K = get_I_K(df_train, row_name = 'UserIndex', shape = (6370,75))"
   ]
  },
  {
   "cell_type": "markdown",
   "metadata": {},
   "source": [
    "## Original Res"
   ]
  },
  {
   "cell_type": "code",
   "execution_count": 236,
   "metadata": {
    "scrolled": true
   },
   "outputs": [
    {
     "name": "stderr",
     "output_type": "stream",
     "text": [
      "100%|█████████████████████████████████████████████████████████████████████████████| 6370/6370 [01:00<00:00, 105.31it/s]\n",
      "100%|████████████████████████████████████████████████████████████████████████████| 6370/6370 [00:02<00:00, 2701.35it/s]\n"
     ]
    }
   ],
   "source": [
    "similarity = normalize(train(rtrain))\n",
    "user_item_prediction_score = predict(rtrain, 450, similarity, item_similarity_en= False)\n",
    "user_item_predict = prediction(user_item_prediction_score, 50, rtrain)"
   ]
  },
  {
   "cell_type": "code",
   "execution_count": 237,
   "metadata": {
    "scrolled": true
   },
   "outputs": [
    {
     "name": "stderr",
     "output_type": "stream",
     "text": [
      "100%|████████████████████████████████████████████████████████████████████████████| 6370/6370 [00:01<00:00, 4820.41it/s]\n",
      "100%|████████████████████████████████████████████████████████████████████████████| 6370/6370 [00:01<00:00, 4717.07it/s]\n",
      "100%|████████████████████████████████████████████████████████████████████████████| 6370/6370 [00:01<00:00, 4651.89it/s]\n",
      "100%|████████████████████████████████████████████████████████████████████████████| 6370/6370 [00:01<00:00, 4420.09it/s]\n",
      "100%|████████████████████████████████████████████████████████████████████████████| 6370/6370 [00:01<00:00, 4552.32it/s]\n",
      "100%|████████████████████████████████████████████████████████████████████████████| 6370/6370 [00:01<00:00, 4218.62it/s]\n"
     ]
    }
   ],
   "source": [
    "user_item_res = evaluate(user_item_predict, rvalid)"
   ]
  },
  {
   "cell_type": "code",
   "execution_count": 59,
   "metadata": {},
   "outputs": [
    {
     "data": {
      "text/plain": [
       "{'MAP@10': (0.045144826330695706, 0.002354497505081906),\n",
       " 'MAP@15': (0.042265773714731864, 0.0019824373381772792),\n",
       " 'MAP@20': (0.040129338606794795, 0.0017567965943763916),\n",
       " 'MAP@5': (0.04956399929959726, 0.003133599222210933),\n",
       " 'MAP@50': (0.032943936395371624, 0.0012118312514037895),\n",
       " 'NDCG': (0.10093614993594359, 0.003179003332122599),\n",
       " 'Precision@10': (0.03883733146559272, 0.0017160204191020419),\n",
       " 'Precision@15': (0.035171890503706296, 0.0014211672707212524),\n",
       " 'Precision@20': (0.032708807564349504, 0.0012423089296096815),\n",
       " 'Precision@5': (0.044440553318157945, 0.002423972508292176),\n",
       " 'Precision@50': (0.024941341271230957, 0.0008480003467919996),\n",
       " 'R-Precision': (0.03997492992806294, 0.002317948843344031),\n",
       " 'Recall@10': (0.06845154159235434, 0.0040585896263153525),\n",
       " 'Recall@15': (0.09096277675804605, 0.004630203266326043),\n",
       " 'Recall@20': (0.11247720176840045, 0.005101760514228912),\n",
       " 'Recall@5': (0.040952551758442035, 0.0032340960406314727),\n",
       " 'Recall@50': (0.19980217392786573, 0.006326497493193988)}"
      ]
     },
     "execution_count": 59,
     "metadata": {},
     "output_type": "execute_result"
    }
   ],
   "source": [
    "# k = 100\n",
    "user_item_res"
   ]
  },
  {
   "cell_type": "code",
   "execution_count": 231,
   "metadata": {},
   "outputs": [
    {
     "data": {
      "text/plain": [
       "{'MAP@10': (0.04508650112703693, 0.0023953721196312986),\n",
       " 'MAP@15': (0.04235786629500515, 0.002008745280886499),\n",
       " 'MAP@20': (0.04037892464111684, 0.0017758143748504913),\n",
       " 'MAP@5': (0.04958267670577248, 0.0032171719228623035),\n",
       " 'MAP@50': (0.03349842902297764, 0.0012156249160740703),\n",
       " 'NDCG': (0.1055558286865324, 0.003300682664669801),\n",
       " 'Precision@10': (0.03885484153388199, 0.0016956609885519017),\n",
       " 'Precision@15': (0.03573221268896282, 0.0014173559588368445),\n",
       " 'Precision@20': (0.033549290842234285, 0.0012619992825901349),\n",
       " 'Precision@5': (0.04377517072316582, 0.0024269161122634064),\n",
       " 'Precision@50': (0.02543862721064612, 0.000847509622685325),\n",
       " 'R-Precision': (0.041259814644960036, 0.002453576631494307),\n",
       " 'Recall@10': (0.07301143636028665, 0.004238573282812461),\n",
       " 'Recall@15': (0.09722378576031213, 0.004835876328696097),\n",
       " 'Recall@20': (0.11915257488522873, 0.005277230322027469),\n",
       " 'Recall@5': (0.04207622316112506, 0.0032932693755679185),\n",
       " 'Recall@50': (0.21016528709525042, 0.0065300603148570145)}"
      ]
     },
     "execution_count": 231,
     "metadata": {},
     "output_type": "execute_result"
    }
   ],
   "source": [
    "# k = 450\n",
    "user_item_res"
   ]
  },
  {
   "cell_type": "code",
   "execution_count": 238,
   "metadata": {},
   "outputs": [
    {
     "data": {
      "text/plain": [
       "{'MAP@10': (0.04507482774817742, 0.0023948292773977673),\n",
       " 'MAP@15': (0.042346014103149456, 0.002008373036997442),\n",
       " 'MAP@20': (0.0403700676848506, 0.0017754967143902589),\n",
       " 'MAP@5': (0.04958267670577248, 0.0032171719228623035),\n",
       " 'MAP@50': (0.03349825936719119, 0.0012154894707161914),\n",
       " 'NDCG': (0.1055896605488807, 0.003300984064520391),\n",
       " 'Precision@10': (0.03885484153388198, 0.0016962836353977373),\n",
       " 'Precision@15': (0.03573221268896282, 0.0014173559588368445),\n",
       " 'Precision@20': (0.033549290842234285, 0.0012622084555109561),\n",
       " 'Precision@5': (0.04377517072316582, 0.0024269161122634064),\n",
       " 'Precision@50': (0.025452635265277537, 0.0008478539889811184),\n",
       " 'R-Precision': (0.04126221328445171, 0.0024536290298659913),\n",
       " 'Recall@10': (0.07300935182834745, 0.004238699096148311),\n",
       " 'Recall@15': (0.09722378576031213, 0.004835876328696097),\n",
       " 'Recall@20': (0.1191627890917308, 0.00527751575008427),\n",
       " 'Recall@5': (0.04207622316112506, 0.0032932693755679185),\n",
       " 'Recall@50': (0.2102435626973289, 0.006529800368505408)}"
      ]
     },
     "execution_count": 238,
     "metadata": {},
     "output_type": "execute_result"
    }
   ],
   "source": [
    "# k = 450 + normalize\n",
    "user_item_res"
   ]
  },
  {
   "cell_type": "code",
   "execution_count": 115,
   "metadata": {},
   "outputs": [
    {
     "name": "stderr",
     "output_type": "stream",
     "text": [
      "100%|█████████████████████████████████████████████████████████████████████████████| 6370/6370 [00:11<00:00, 534.25it/s]\n",
      "100%|████████████████████████████████████████████████████████████████████████████| 6370/6370 [00:01<00:00, 3390.11it/s]\n",
      "100%|████████████████████████████████████████████████████████████████████████████| 6370/6370 [00:01<00:00, 5520.35it/s]\n",
      "100%|████████████████████████████████████████████████████████████████████████████| 6370/6370 [00:01<00:00, 5524.97it/s]\n",
      "100%|████████████████████████████████████████████████████████████████████████████| 6370/6370 [00:01<00:00, 5468.36it/s]\n",
      "100%|████████████████████████████████████████████████████████████████████████████| 6370/6370 [00:01<00:00, 5510.67it/s]\n",
      "100%|████████████████████████████████████████████████████████████████████████████| 6370/6370 [00:01<00:00, 5440.42it/s]\n",
      "100%|████████████████████████████████████████████████████████████████████████████| 6370/6370 [00:01<00:00, 4909.26it/s]\n"
     ]
    },
    {
     "ename": "NameError",
     "evalue": "name 'user_item_res2' is not defined",
     "output_type": "error",
     "traceback": [
      "\u001b[1;31m---------------------------------------------------------------------------\u001b[0m",
      "\u001b[1;31mNameError\u001b[0m                                 Traceback (most recent call last)",
      "\u001b[1;32m<ipython-input-115-9705090e9b4b>\u001b[0m in \u001b[0;36m<module>\u001b[1;34m()\u001b[0m\n\u001b[0;32m      3\u001b[0m \u001b[0muser_item_predict\u001b[0m \u001b[1;33m=\u001b[0m \u001b[0mprediction\u001b[0m\u001b[1;33m(\u001b[0m\u001b[0muser_item_prediction_score\u001b[0m\u001b[1;33m,\u001b[0m \u001b[1;36m50\u001b[0m\u001b[1;33m,\u001b[0m \u001b[0mrtrain\u001b[0m\u001b[1;33m)\u001b[0m\u001b[1;33m\u001b[0m\u001b[0m\n\u001b[0;32m      4\u001b[0m \u001b[0muser_item_res\u001b[0m \u001b[1;33m=\u001b[0m \u001b[0mevaluate\u001b[0m\u001b[1;33m(\u001b[0m\u001b[0muser_item_predict\u001b[0m\u001b[1;33m,\u001b[0m \u001b[0mrvalid\u001b[0m\u001b[1;33m)\u001b[0m\u001b[1;33m\u001b[0m\u001b[0m\n\u001b[1;32m----> 5\u001b[1;33m \u001b[0muser_item_res2\u001b[0m\u001b[1;33m\u001b[0m\u001b[0m\n\u001b[0m",
      "\u001b[1;31mNameError\u001b[0m: name 'user_item_res2' is not defined"
     ]
    }
   ],
   "source": [
    "# With similarity diagnal values set to 0\n",
    "user_item_prediction_score = predict(rtrain, 100, test, item_similarity_en= False)\n",
    "user_item_predict = prediction(user_item_prediction_score, 50, rtrain)\n",
    "user_item_res = evaluate(user_item_predict, rvalid)"
   ]
  },
  {
   "cell_type": "code",
   "execution_count": 116,
   "metadata": {},
   "outputs": [
    {
     "data": {
      "text/plain": [
       "{'MAP@10': (0.044927201196243396, 0.0023405055457096638),\n",
       " 'MAP@15': (0.04209462168926361, 0.001969742340258044),\n",
       " 'MAP@20': (0.039992225689903314, 0.0017459659531029864),\n",
       " 'MAP@5': (0.049373139555244264, 0.0031164938614256506),\n",
       " 'MAP@50': (0.03276724419279445, 0.0012026552159499519),\n",
       " 'NDCG': (0.10107630572080299, 0.003202357091908435),\n",
       " 'Precision@10': (0.03860970057783225, 0.001708331996864007),\n",
       " 'Precision@15': (0.035160217124846786, 0.0014148878710044373),\n",
       " 'Precision@20': (0.03267378742777097, 0.0012475288598677123),\n",
       " 'Precision@5': (0.04458063386447208, 0.002411935874452824),\n",
       " 'Precision@50': (0.024906321134652427, 0.0008456291160631515),\n",
       " 'R-Precision': (0.04081498375317024, 0.0024099351750396583),\n",
       " 'Recall@10': (0.06853533972922739, 0.004072049507316102),\n",
       " 'Recall@15': (0.09172129488813952, 0.004652525383450842),\n",
       " 'Recall@20': (0.11268694933391117, 0.005113369923395411),\n",
       " 'Recall@5': (0.04136211988453176, 0.0032415315263509283),\n",
       " 'Recall@50': (0.1997124648831125, 0.006316782224320218)}"
      ]
     },
     "execution_count": 116,
     "metadata": {},
     "output_type": "execute_result"
    }
   ],
   "source": [
    "user_item_res"
   ]
  },
  {
   "cell_type": "markdown",
   "metadata": {},
   "source": [
    "## Unlearned Res"
   ]
  },
  {
   "cell_type": "code",
   "execution_count": 187,
   "metadata": {},
   "outputs": [
    {
     "name": "stderr",
     "output_type": "stream",
     "text": [
      "100%|█████████████████████████████████████████████████████████████████████████████| 6370/6370 [00:21<00:00, 294.31it/s]\n",
      "100%|████████████████████████████████████████████████████████████████████████████| 6370/6370 [00:01<00:00, 3305.68it/s]\n",
      "100%|████████████████████████████████████████████████████████████████████████████| 6370/6370 [00:01<00:00, 5520.22it/s]\n",
      "100%|████████████████████████████████████████████████████████████████████████████| 6370/6370 [00:01<00:00, 5458.87it/s]\n",
      "100%|████████████████████████████████████████████████████████████████████████████| 6370/6370 [00:01<00:00, 5505.81it/s]\n",
      "100%|████████████████████████████████████████████████████████████████████████████| 6370/6370 [00:01<00:00, 5510.11it/s]\n",
      "100%|████████████████████████████████████████████████████████████████████████████| 6370/6370 [00:01<00:00, 5469.59it/s]\n",
      "100%|████████████████████████████████████████████████████████████████████████████| 6370/6370 [00:01<00:00, 5001.47it/s]\n"
     ]
    }
   ],
   "source": [
    "similarity = train(U_K)\n",
    "unlearned_prediction_score = predict(rtrain, 100, similarity, item_similarity_en= False)\n",
    "unlearned_predict = prediction(unlearned_prediction_score, 50, rtrain)\n",
    "unlearned_res = evaluate(unlearned_predict, rvalid)"
   ]
  },
  {
   "cell_type": "code",
   "execution_count": 188,
   "metadata": {},
   "outputs": [
    {
     "data": {
      "text/plain": [
       "{'MAP@10': (0.031344898316532005, 0.0019419718247370961),\n",
       " 'MAP@15': (0.029866232135536987, 0.0016325577177255409),\n",
       " 'MAP@20': (0.028656128642907317, 0.0014423906282694256),\n",
       " 'MAP@5': (0.033376524835113525, 0.002590995553761898),\n",
       " 'MAP@50': (0.024320038944187366, 0.0009847994668677619),\n",
       " 'NDCG': (0.07721138347289283, 0.0028333472139054983),\n",
       " 'Precision@10': (0.028383820696900722, 0.0014345802902826993),\n",
       " 'Precision@15': (0.02613669526644487, 0.0011749008756399859),\n",
       " 'Precision@20': (0.024505340570828225, 0.001029564088716077),\n",
       " 'Precision@5': (0.030887760462265802, 0.002026027617556462),\n",
       " 'Precision@50': (0.019355629486955, 0.0006955690047862636),\n",
       " 'R-Precision': (0.028883717093828115, 0.002038446870856928),\n",
       " 'Recall@10': (0.052008110922374604, 0.0036721612954724284),\n",
       " 'Recall@15': (0.07063100178823213, 0.004204104035231979),\n",
       " 'Recall@20': (0.08660429125621157, 0.004636511047404981),\n",
       " 'Recall@5': (0.029146689761132605, 0.002806545567276444),\n",
       " 'Recall@50': (0.15816837853808208, 0.005809350841461786)}"
      ]
     },
     "execution_count": 188,
     "metadata": {},
     "output_type": "execute_result"
    }
   ],
   "source": [
    "unlearned_res"
   ]
  },
  {
   "cell_type": "code",
   "execution_count": 204,
   "metadata": {},
   "outputs": [
    {
     "name": "stderr",
     "output_type": "stream",
     "text": [
      "100%|██████████████████████████████████████████████████████████████████████████████| 6370/6370 [01:20<00:00, 79.59it/s]\n",
      "100%|████████████████████████████████████████████████████████████████████████████| 6370/6370 [00:01<00:00, 3306.82it/s]\n",
      "100%|████████████████████████████████████████████████████████████████████████████| 6370/6370 [00:01<00:00, 5464.87it/s]\n",
      "100%|████████████████████████████████████████████████████████████████████████████| 6370/6370 [00:01<00:00, 5646.85it/s]\n",
      "100%|████████████████████████████████████████████████████████████████████████████| 6370/6370 [00:01<00:00, 5408.04it/s]\n",
      "100%|████████████████████████████████████████████████████████████████████████████| 6370/6370 [00:01<00:00, 5274.07it/s]\n",
      "100%|████████████████████████████████████████████████████████████████████████████| 6370/6370 [00:01<00:00, 5179.97it/s]\n",
      "100%|████████████████████████████████████████████████████████████████████████████| 6370/6370 [00:01<00:00, 4762.80it/s]\n"
     ]
    },
    {
     "data": {
      "text/plain": [
       "{'MAP@10': (0.033381652783683956, 0.00204745944991459),\n",
       " 'MAP@15': (0.03135201769766644, 0.0017148691445157166),\n",
       " 'MAP@20': (0.0298541871885246, 0.001509988462353567),\n",
       " 'MAP@5': (0.03656277359481702, 0.002758406492295717),\n",
       " 'MAP@50': (0.025227820735318138, 0.001018012642898509),\n",
       " 'NDCG': (0.08171829377702637, 0.002959208265512183),\n",
       " 'Precision@10': (0.02869900192610752, 0.0014592935796887052),\n",
       " 'Precision@15': (0.026381836222494598, 0.0011998924678014592),\n",
       " 'Precision@20': (0.02482052180003502, 0.001051947713306281),\n",
       " 'Precision@5': (0.03253370688145684, 0.0020857093082908224),\n",
       " 'Precision@50': (0.02025914901068114, 0.0007167136070223958),\n",
       " 'R-Precision': (0.030383064859440045, 0.002176689772649127),\n",
       " 'Recall@10': (0.05380651555392237, 0.003761411130781288),\n",
       " 'Recall@15': (0.07078943972395199, 0.004195596238003561),\n",
       " 'Recall@20': (0.08826154969949812, 0.004670019397229334),\n",
       " 'Recall@5': (0.03159219339370157, 0.002941337954346157),\n",
       " 'Recall@50': (0.1681931591315732, 0.00602771925593589)}"
      ]
     },
     "execution_count": 204,
     "metadata": {},
     "output_type": "execute_result"
    }
   ],
   "source": [
    "similarity = train(U_K)\n",
    "unlearned_prediction_score = predict(rtrain, 450, similarity, item_similarity_en= False)\n",
    "unlearned_predict = prediction(unlearned_prediction_score, 50, rtrain)\n",
    "unlearned_res = evaluate(unlearned_predict, rvalid)\n",
    "unlearned_res"
   ]
  },
  {
   "cell_type": "markdown",
   "metadata": {},
   "source": [
    "## Normalized Unlearned"
   ]
  },
  {
   "cell_type": "code",
   "execution_count": 209,
   "metadata": {},
   "outputs": [
    {
     "name": "stderr",
     "output_type": "stream",
     "text": [
      "100%|██████████████████████████████████████████████████████████████████████████████| 6370/6370 [01:16<00:00, 82.38it/s]\n",
      "100%|████████████████████████████████████████████████████████████████████████████| 6370/6370 [00:01<00:00, 3301.17it/s]\n",
      "100%|████████████████████████████████████████████████████████████████████████████| 6370/6370 [00:01<00:00, 5582.93it/s]\n",
      "100%|████████████████████████████████████████████████████████████████████████████| 6370/6370 [00:01<00:00, 5578.06it/s]\n",
      "100%|████████████████████████████████████████████████████████████████████████████| 6370/6370 [00:01<00:00, 5551.04it/s]\n",
      "100%|████████████████████████████████████████████████████████████████████████████| 6370/6370 [00:01<00:00, 5563.49it/s]\n",
      "100%|████████████████████████████████████████████████████████████████████████████| 6370/6370 [00:01<00:00, 5501.18it/s]\n",
      "100%|████████████████████████████████████████████████████████████████████████████| 6370/6370 [00:01<00:00, 5113.35it/s]\n"
     ]
    },
    {
     "data": {
      "text/plain": [
       "{'MAP@10': (0.033381652783683956, 0.00204745944991459),\n",
       " 'MAP@15': (0.03135201769766644, 0.0017148691445157166),\n",
       " 'MAP@20': (0.0298541871885246, 0.001509988462353567),\n",
       " 'MAP@5': (0.03656277359481702, 0.002758406492295717),\n",
       " 'MAP@50': (0.025227820735318138, 0.001018012642898509),\n",
       " 'NDCG': (0.08171829377702637, 0.002959208265512183),\n",
       " 'Precision@10': (0.02869900192610752, 0.0014592935796887052),\n",
       " 'Precision@15': (0.026381836222494598, 0.0011998924678014592),\n",
       " 'Precision@20': (0.02482052180003502, 0.001051947713306281),\n",
       " 'Precision@5': (0.03253370688145684, 0.0020857093082908224),\n",
       " 'Precision@50': (0.02025914901068114, 0.0007167136070223958),\n",
       " 'R-Precision': (0.030383064859440045, 0.002176689772649127),\n",
       " 'Recall@10': (0.05380651555392237, 0.003761411130781288),\n",
       " 'Recall@15': (0.07078943972395199, 0.004195596238003561),\n",
       " 'Recall@20': (0.08826154969949812, 0.004670019397229334),\n",
       " 'Recall@5': (0.03159219339370157, 0.002941337954346157),\n",
       " 'Recall@50': (0.1681931591315732, 0.00602771925593589)}"
      ]
     },
     "execution_count": 209,
     "metadata": {},
     "output_type": "execute_result"
    }
   ],
   "source": [
    "similarity = normalize(train(U_K))\n",
    "unlearned_prediction_score = predict(rtrain, 450, similarity, item_similarity_en= False)\n",
    "unlearned_predict = prediction(unlearned_prediction_score, 50, rtrain)\n",
    "unlearned_res = evaluate(unlearned_predict, rvalid)\n",
    "unlearned_res"
   ]
  },
  {
   "cell_type": "markdown",
   "metadata": {},
   "source": [
    "# Learned Res"
   ]
  },
  {
   "cell_type": "markdown",
   "metadata": {},
   "source": [
    "## Linear Regression"
   ]
  },
  {
   "cell_type": "code",
   "execution_count": 62,
   "metadata": {
    "collapsed": true
   },
   "outputs": [],
   "source": [
    "from sklearn.linear_model import LinearRegression\n",
    "from sklearn.preprocessing import normalize"
   ]
  },
  {
   "cell_type": "code",
   "execution_count": 63,
   "metadata": {
    "collapsed": true
   },
   "outputs": [],
   "source": [
    "X = U_K.todense()\n",
    "y = train(rtrain)\n",
    "reg = LinearRegression().fit(X, y)\n",
    "lr_similarity = reg.predict(np.array(X))"
   ]
  },
  {
   "cell_type": "code",
   "execution_count": 64,
   "metadata": {},
   "outputs": [
    {
     "name": "stderr",
     "output_type": "stream",
     "text": [
      "100%|█████████████████████████████████████████████████████████████████████████████| 6370/6370 [00:25<00:00, 250.90it/s]\n",
      "100%|████████████████████████████████████████████████████████████████████████████| 6370/6370 [00:02<00:00, 3130.90it/s]\n",
      "100%|████████████████████████████████████████████████████████████████████████████| 6370/6370 [00:01<00:00, 5563.76it/s]\n",
      "100%|████████████████████████████████████████████████████████████████████████████| 6370/6370 [00:01<00:00, 5563.48it/s]\n",
      "100%|████████████████████████████████████████████████████████████████████████████| 6370/6370 [00:01<00:00, 5520.25it/s]\n",
      "100%|████████████████████████████████████████████████████████████████████████████| 6370/6370 [00:01<00:00, 5539.35it/s]\n",
      "100%|████████████████████████████████████████████████████████████████████████████| 6370/6370 [00:01<00:00, 5482.31it/s]\n",
      "100%|████████████████████████████████████████████████████████████████████████████| 6370/6370 [00:01<00:00, 4989.88it/s]\n"
     ]
    }
   ],
   "source": [
    "similarity = lr_similarity\n",
    "lr_prediction_score = predict(rtrain, 100, similarity, item_similarity_en= False)\n",
    "lr_predict = prediction(lr_prediction_score, 50, rtrain)\n",
    "lr_res = evaluate(lr_predict, rvalid)"
   ]
  },
  {
   "cell_type": "code",
   "execution_count": 91,
   "metadata": {
    "scrolled": true
   },
   "outputs": [
    {
     "data": {
      "text/plain": [
       "{'MAP@10': (0.028648396439063573, 0.0018400469256905094),\n",
       " 'MAP@15': (0.0283316787948201, 0.001610900127524552),\n",
       " 'MAP@20': (0.027879414774385672, 0.0014640831488321334),\n",
       " 'MAP@5': (0.027961244382186418, 0.0023105314443931753),\n",
       " 'MAP@50': (0.02513810297828301, 0.0010694045520145154),\n",
       " 'NDCG': (0.07459171903871083, 0.0024768326099763667),\n",
       " 'Precision@10': (0.028628961652950445, 0.0015334945590851372),\n",
       " 'Precision@15': (0.027070565575205742, 0.0012964698511657843),\n",
       " 'Precision@20': (0.02614253195587463, 0.0011665539834334715),\n",
       " 'Precision@5': (0.029521975135703028, 0.002010099175833927),\n",
       " 'Precision@50': (0.021190684643670108, 0.000793429184680451),\n",
       " 'R-Precision': (0.025192652986106085, 0.001597767014265539),\n",
       " 'Recall@10': (0.04585864252862637, 0.0033469994955957682),\n",
       " 'Recall@15': (0.06492564899852431, 0.003971149216248076),\n",
       " 'Recall@20': (0.081593969566691, 0.0043644956643599485),\n",
       " 'Recall@5': (0.022789760560507657, 0.0023629644885964736),\n",
       " 'Recall@50': (0.16346962972606943, 0.005862712633092253)}"
      ]
     },
     "execution_count": 91,
     "metadata": {},
     "output_type": "execute_result"
    }
   ],
   "source": [
    "lr_res"
   ]
  },
  {
   "cell_type": "code",
   "execution_count": 127,
   "metadata": {
    "collapsed": true
   },
   "outputs": [],
   "source": [
    "## With diag set to 0\n",
    "X = U_K.todense()\n",
    "# y = train(rtrain)\n",
    "y = U_I_similarity\n",
    "reg = LinearRegression().fit(X, y)\n",
    "lr_similarity = reg.predict(np.array(X))"
   ]
  },
  {
   "cell_type": "code",
   "execution_count": 128,
   "metadata": {},
   "outputs": [
    {
     "name": "stderr",
     "output_type": "stream",
     "text": [
      "100%|█████████████████████████████████████████████████████████████████████████████| 6370/6370 [00:22<00:00, 281.29it/s]\n",
      "100%|████████████████████████████████████████████████████████████████████████████| 6370/6370 [00:01<00:00, 3250.35it/s]\n",
      "100%|████████████████████████████████████████████████████████████████████████████| 6370/6370 [00:01<00:00, 5515.72it/s]\n",
      "100%|████████████████████████████████████████████████████████████████████████████| 6370/6370 [00:01<00:00, 5534.56it/s]\n",
      "100%|████████████████████████████████████████████████████████████████████████████| 6370/6370 [00:01<00:00, 5539.36it/s]\n",
      "100%|████████████████████████████████████████████████████████████████████████████| 6370/6370 [00:01<00:00, 5534.60it/s]\n",
      "100%|████████████████████████████████████████████████████████████████████████████| 6370/6370 [00:01<00:00, 5472.90it/s]\n",
      "100%|████████████████████████████████████████████████████████████████████████████| 6370/6370 [00:01<00:00, 5009.32it/s]\n"
     ]
    }
   ],
   "source": [
    "similarity = lr_similarity\n",
    "lr_prediction_score = predict(rtrain, 200, similarity, item_similarity_en= False)\n",
    "lr_predict = prediction(lr_prediction_score, 50, rtrain)\n",
    "lr_res = evaluate(lr_predict, rvalid)"
   ]
  },
  {
   "cell_type": "code",
   "execution_count": 129,
   "metadata": {},
   "outputs": [
    {
     "data": {
      "text/plain": [
       "{'MAP@10': (0.02863306818087067, 0.0018333400281224615),\n",
       " 'MAP@15': (0.028232323621047134, 0.001599947921573674),\n",
       " 'MAP@20': (0.02779711968023943, 0.0014531483467015924),\n",
       " 'MAP@5': (0.02785326562773595, 0.002320384077959574),\n",
       " 'MAP@50': (0.02510852743083808, 0.001067049005237428),\n",
       " 'NDCG': (0.07417360933095597, 0.002478185906575529),\n",
       " 'Precision@10': (0.028576431448082647, 0.0015101504496593471),\n",
       " 'Precision@15': (0.02707056557520575, 0.001296107794743386),\n",
       " 'Precision@20': (0.02612502188758536, 0.00115702044641536),\n",
       " 'Precision@5': (0.028996673087025044, 0.001994688417539286),\n",
       " 'Precision@50': (0.02121870075293294, 0.0008018237825573145),\n",
       " 'R-Precision': (0.025050916631414236, 0.0015956024486881082),\n",
       " 'Recall@10': (0.045664839020787835, 0.0032957843614861565),\n",
       " 'Recall@15': (0.06436363032241992, 0.0038993935577644506),\n",
       " 'Recall@20': (0.0814860175564146, 0.004366675444176269),\n",
       " 'Recall@5': (0.022505595732506226, 0.0023570623901051323),\n",
       " 'Recall@50': (0.1612765724307561, 0.005816674058262659)}"
      ]
     },
     "execution_count": 129,
     "metadata": {},
     "output_type": "execute_result"
    }
   ],
   "source": [
    "lr_res"
   ]
  },
  {
   "cell_type": "markdown",
   "metadata": {},
   "source": [
    "## Ridge"
   ]
  },
  {
   "cell_type": "code",
   "execution_count": 177,
   "metadata": {
    "collapsed": true
   },
   "outputs": [],
   "source": [
    "from sklearn.linear_model import Ridge\n",
    "X = U_K.todense()\n",
    "y = train(rtrain)\n",
    "# y = U_I_similarity\n",
    "clf = Ridge(alpha=0.001).fit(X, y)"
   ]
  },
  {
   "cell_type": "code",
   "execution_count": 178,
   "metadata": {
    "collapsed": true
   },
   "outputs": [],
   "source": [
    "lr_similarity = clf.predict(np.array(X))"
   ]
  },
  {
   "cell_type": "code",
   "execution_count": 194,
   "metadata": {},
   "outputs": [
    {
     "name": "stderr",
     "output_type": "stream",
     "text": [
      "100%|█████████████████████████████████████████████████████████████████████████████| 6370/6370 [00:23<00:00, 273.04it/s]\n",
      "100%|████████████████████████████████████████████████████████████████████████████| 6370/6370 [00:01<00:00, 3279.39it/s]\n",
      "100%|████████████████████████████████████████████████████████████████████████████| 6370/6370 [00:01<00:00, 5587.97it/s]\n",
      "100%|████████████████████████████████████████████████████████████████████████████| 6370/6370 [00:01<00:00, 5553.82it/s]\n",
      "100%|████████████████████████████████████████████████████████████████████████████| 6370/6370 [00:01<00:00, 5539.50it/s]\n",
      "100%|████████████████████████████████████████████████████████████████████████████| 6370/6370 [00:01<00:00, 5529.90it/s]\n",
      "100%|████████████████████████████████████████████████████████████████████████████| 6370/6370 [00:01<00:00, 5444.93it/s]\n",
      "100%|████████████████████████████████████████████████████████████████████████████| 6370/6370 [00:01<00:00, 5040.97it/s]\n"
     ]
    }
   ],
   "source": [
    "similarity = lr_similarity\n",
    "lr_prediction_score = predict(rtrain, 100, similarity, item_similarity_en= False)\n",
    "lr_predict = prediction(lr_prediction_score, 50, rtrain)\n",
    "lr_res = evaluate(lr_predict, rvalid)"
   ]
  },
  {
   "cell_type": "code",
   "execution_count": 195,
   "metadata": {},
   "outputs": [
    {
     "data": {
      "text/plain": [
       "{'MAP@10': (0.02863306818087067, 0.0018333400281224615),\n",
       " 'MAP@15': (0.028232323621047134, 0.001599947921573674),\n",
       " 'MAP@20': (0.02779711968023943, 0.0014531483467015924),\n",
       " 'MAP@5': (0.02785326562773595, 0.002320384077959574),\n",
       " 'MAP@50': (0.02510852743083808, 0.001067049005237428),\n",
       " 'NDCG': (0.07417360933095597, 0.002478185906575529),\n",
       " 'Precision@10': (0.028576431448082647, 0.0015101504496593471),\n",
       " 'Precision@15': (0.02707056557520575, 0.001296107794743386),\n",
       " 'Precision@20': (0.02612502188758536, 0.00115702044641536),\n",
       " 'Precision@5': (0.028996673087025044, 0.001994688417539286),\n",
       " 'Precision@50': (0.02121870075293294, 0.0008018237825573145),\n",
       " 'R-Precision': (0.025050916631414236, 0.0015956024486881082),\n",
       " 'Recall@10': (0.045664839020787835, 0.0032957843614861565),\n",
       " 'Recall@15': (0.06436363032241992, 0.0038993935577644506),\n",
       " 'Recall@20': (0.0814860175564146, 0.004366675444176269),\n",
       " 'Recall@5': (0.022505595732506226, 0.0023570623901051323),\n",
       " 'Recall@50': (0.1612765724307561, 0.005816674058262659)}"
      ]
     },
     "execution_count": 195,
     "metadata": {},
     "output_type": "execute_result"
    }
   ],
   "source": [
    "lr_res"
   ]
  },
  {
   "cell_type": "code",
   "execution_count": 191,
   "metadata": {},
   "outputs": [
    {
     "data": {
      "text/plain": [
       "{'MAP@10': (0.031344898316532005, 0.0019419718247370961),\n",
       " 'MAP@15': (0.029866232135536987, 0.0016325577177255409),\n",
       " 'MAP@20': (0.028656128642907317, 0.0014423906282694256),\n",
       " 'MAP@5': (0.033376524835113525, 0.002590995553761898),\n",
       " 'MAP@50': (0.024320038944187366, 0.0009847994668677619),\n",
       " 'NDCG': (0.07721138347289283, 0.0028333472139054983),\n",
       " 'Precision@10': (0.028383820696900722, 0.0014345802902826993),\n",
       " 'Precision@15': (0.02613669526644487, 0.0011749008756399859),\n",
       " 'Precision@20': (0.024505340570828225, 0.001029564088716077),\n",
       " 'Precision@5': (0.030887760462265802, 0.002026027617556462),\n",
       " 'Precision@50': (0.019355629486955, 0.0006955690047862636),\n",
       " 'R-Precision': (0.028883717093828115, 0.002038446870856928),\n",
       " 'Recall@10': (0.052008110922374604, 0.0036721612954724284),\n",
       " 'Recall@15': (0.07063100178823213, 0.004204104035231979),\n",
       " 'Recall@20': (0.08660429125621157, 0.004636511047404981),\n",
       " 'Recall@5': (0.029146689761132605, 0.002806545567276444),\n",
       " 'Recall@50': (0.15816837853808208, 0.005809350841461786)}"
      ]
     },
     "execution_count": 191,
     "metadata": {},
     "output_type": "execute_result"
    }
   ],
   "source": [
    "unlearned_res"
   ]
  },
  {
   "cell_type": "code",
   "execution_count": 197,
   "metadata": {
    "collapsed": true
   },
   "outputs": [],
   "source": [
    "def tuning_ridge():\n",
    "    res = []\n",
    "    for k in [50,70,100,150,200,250,300,350,400,450,500,550,600]:\n",
    "        lr_prediction_score = predict(rtrain, k, similarity, item_similarity_en= False)\n",
    "        lr_predict = prediction(lr_prediction_score, 50, rtrain)\n",
    "        lr_res = evaluate(lr_predict, rvalid)\n",
    "        res.append(lr_res)\n",
    "    return res"
   ]
  },
  {
   "cell_type": "code",
   "execution_count": 198,
   "metadata": {
    "scrolled": true
   },
   "outputs": [
    {
     "name": "stderr",
     "output_type": "stream",
     "text": [
      "100%|█████████████████████████████████████████████████████████████████████████████| 6370/6370 [00:13<00:00, 464.70it/s]\n",
      "100%|████████████████████████████████████████████████████████████████████████████| 6370/6370 [00:01<00:00, 3283.79it/s]\n",
      "100%|████████████████████████████████████████████████████████████████████████████| 6370/6370 [00:01<00:00, 5602.52it/s]\n",
      "100%|████████████████████████████████████████████████████████████████████████████| 6370/6370 [00:01<00:00, 5617.45it/s]\n",
      "100%|████████████████████████████████████████████████████████████████████████████| 6370/6370 [00:01<00:00, 5587.81it/s]\n",
      "100%|████████████████████████████████████████████████████████████████████████████| 6370/6370 [00:01<00:00, 5563.48it/s]\n",
      "100%|████████████████████████████████████████████████████████████████████████████| 6370/6370 [00:01<00:00, 5487.00it/s]\n",
      "100%|████████████████████████████████████████████████████████████████████████████| 6370/6370 [00:01<00:00, 5021.13it/s]\n",
      "100%|█████████████████████████████████████████████████████████████████████████████| 6370/6370 [00:16<00:00, 380.15it/s]\n",
      "100%|████████████████████████████████████████████████████████████████████████████| 6370/6370 [00:01<00:00, 3290.01it/s]\n",
      "100%|████████████████████████████████████████████████████████████████████████████| 6370/6370 [00:01<00:00, 5592.85it/s]\n",
      "100%|████████████████████████████████████████████████████████████████████████████| 6370/6370 [00:01<00:00, 5587.97it/s]\n",
      "100%|████████████████████████████████████████████████████████████████████████████| 6370/6370 [00:01<00:00, 5586.25it/s]\n",
      "100%|████████████████████████████████████████████████████████████████████████████| 6370/6370 [00:01<00:00, 5563.49it/s]\n",
      "100%|████████████████████████████████████████████████████████████████████████████| 6370/6370 [00:01<00:00, 5515.43it/s]\n",
      "100%|████████████████████████████████████████████████████████████████████████████| 6370/6370 [00:01<00:00, 5045.06it/s]\n",
      "100%|█████████████████████████████████████████████████████████████████████████████| 6370/6370 [00:23<00:00, 274.52it/s]\n",
      "100%|████████████████████████████████████████████████████████████████████████████| 6370/6370 [00:01<00:00, 3301.77it/s]\n",
      "100%|████████████████████████████████████████████████████████████████████████████| 6370/6370 [00:01<00:00, 5665.98it/s]\n",
      "100%|████████████████████████████████████████████████████████████████████████████| 6370/6370 [00:01<00:00, 5587.23it/s]\n",
      "100%|████████████████████████████████████████████████████████████████████████████| 6370/6370 [00:01<00:00, 5578.06it/s]\n",
      "100%|████████████████████████████████████████████████████████████████████████████| 6370/6370 [00:01<00:00, 5607.59it/s]\n",
      "100%|████████████████████████████████████████████████████████████████████████████| 6370/6370 [00:01<00:00, 5487.16it/s]\n",
      "100%|████████████████████████████████████████████████████████████████████████████| 6370/6370 [00:01<00:00, 5025.21it/s]\n",
      "100%|█████████████████████████████████████████████████████████████████████████████| 6370/6370 [00:31<00:00, 204.48it/s]\n",
      "100%|████████████████████████████████████████████████████████████████████████████| 6370/6370 [00:01<00:00, 3310.02it/s]\n",
      "100%|████████████████████████████████████████████████████████████████████████████| 6370/6370 [00:01<00:00, 5598.84it/s]\n",
      "100%|████████████████████████████████████████████████████████████████████████████| 6370/6370 [00:01<00:00, 5553.95it/s]\n",
      "100%|████████████████████████████████████████████████████████████████████████████| 6370/6370 [00:01<00:00, 5553.82it/s]\n",
      "100%|████████████████████████████████████████████████████████████████████████████| 6370/6370 [00:01<00:00, 5578.07it/s]\n",
      "100%|████████████████████████████████████████████████████████████████████████████| 6370/6370 [00:01<00:00, 5218.17it/s]\n",
      "100%|████████████████████████████████████████████████████████████████████████████| 6370/6370 [00:01<00:00, 5029.04it/s]\n",
      "100%|█████████████████████████████████████████████████████████████████████████████| 6370/6370 [00:39<00:00, 160.79it/s]\n",
      "100%|████████████████████████████████████████████████████████████████████████████| 6370/6370 [00:01<00:00, 3293.94it/s]\n",
      "100%|████████████████████████████████████████████████████████████████████████████| 6370/6370 [00:01<00:00, 5587.97it/s]\n",
      "100%|████████████████████████████████████████████████████████████████████████████| 6370/6370 [00:01<00:00, 5553.82it/s]\n",
      "100%|████████████████████████████████████████████████████████████████████████████| 6370/6370 [00:01<00:00, 5544.16it/s]\n",
      "100%|████████████████████████████████████████████████████████████████████████████| 6370/6370 [00:01<00:00, 5558.65it/s]\n",
      "100%|████████████████████████████████████████████████████████████████████████████| 6370/6370 [00:01<00:00, 5463.63it/s]\n",
      "100%|████████████████████████████████████████████████████████████████████████████| 6370/6370 [00:01<00:00, 5001.46it/s]\n",
      "100%|█████████████████████████████████████████████████████████████████████████████| 6370/6370 [00:47<00:00, 134.17it/s]\n",
      "100%|████████████████████████████████████████████████████████████████████████████| 6370/6370 [00:01<00:00, 3297.39it/s]\n",
      "100%|████████████████████████████████████████████████████████████████████████████| 6370/6370 [00:01<00:00, 5565.55it/s]\n",
      "100%|████████████████████████████████████████████████████████████████████████████| 6370/6370 [00:01<00:00, 5655.40it/s]\n",
      "100%|████████████████████████████████████████████████████████████████████████████| 6370/6370 [00:01<00:00, 5683.60it/s]\n",
      "100%|████████████████████████████████████████████████████████████████████████████| 6370/6370 [00:01<00:00, 5619.66it/s]\n",
      "100%|████████████████████████████████████████████████████████████████████████████| 6370/6370 [00:01<00:00, 5550.62it/s]\n",
      "100%|████████████████████████████████████████████████████████████████████████████| 6370/6370 [00:01<00:00, 5085.23it/s]\n",
      "100%|█████████████████████████████████████████████████████████████████████████████| 6370/6370 [00:55<00:00, 114.84it/s]\n",
      "100%|████████████████████████████████████████████████████████████████████████████| 6370/6370 [00:01<00:00, 3292.24it/s]\n",
      "100%|████████████████████████████████████████████████████████████████████████████| 6370/6370 [00:01<00:00, 5592.79it/s]\n",
      "100%|████████████████████████████████████████████████████████████████████████████| 6370/6370 [00:01<00:00, 5568.34it/s]\n",
      "100%|████████████████████████████████████████████████████████████████████████████| 6370/6370 [00:01<00:00, 5578.07it/s]\n",
      "100%|████████████████████████████████████████████████████████████████████████████| 6370/6370 [00:01<00:00, 5573.20it/s]\n",
      "100%|████████████████████████████████████████████████████████████████████████████| 6370/6370 [00:01<00:00, 5515.43it/s]\n",
      "100%|████████████████████████████████████████████████████████████████████████████| 6370/6370 [00:01<00:00, 5073.10it/s]\n",
      "100%|█████████████████████████████████████████████████████████████████████████████| 6370/6370 [01:03<00:00, 100.55it/s]\n",
      "100%|████████████████████████████████████████████████████████████████████████████| 6370/6370 [00:01<00:00, 3278.72it/s]\n",
      "100%|████████████████████████████████████████████████████████████████████████████| 6370/6370 [00:01<00:00, 5627.20it/s]\n",
      "100%|████████████████████████████████████████████████████████████████████████████| 6370/6370 [00:01<00:00, 5597.76it/s]\n",
      "100%|████████████████████████████████████████████████████████████████████████████| 6370/6370 [00:01<00:00, 5597.62it/s]\n",
      "100%|████████████████████████████████████████████████████████████████████████████| 6370/6370 [00:01<00:00, 5582.91it/s]\n",
      "100%|████████████████████████████████████████████████████████████████████████████| 6370/6370 [00:01<00:00, 5525.13it/s]\n",
      "100%|████████████████████████████████████████████████████████████████████████████| 6370/6370 [00:01<00:00, 5081.09it/s]\n",
      "100%|██████████████████████████████████████████████████████████████████████████████| 6370/6370 [01:11<00:00, 89.37it/s]\n",
      "100%|████████████████████████████████████████████████████████████████████████████| 6370/6370 [00:01<00:00, 3258.69it/s]\n",
      "100%|████████████████████████████████████████████████████████████████████████████| 6370/6370 [00:01<00:00, 5582.92it/s]\n",
      "100%|████████████████████████████████████████████████████████████████████████████| 6370/6370 [00:01<00:00, 5589.19it/s]\n"
     ]
    },
    {
     "name": "stderr",
     "output_type": "stream",
     "text": [
      "100%|████████████████████████████████████████████████████████████████████████████| 6370/6370 [00:01<00:00, 5602.54it/s]\n",
      "100%|████████████████████████████████████████████████████████████████████████████| 6370/6370 [00:01<00:00, 5568.34it/s]\n",
      "100%|████████████████████████████████████████████████████████████████████████████| 6370/6370 [00:01<00:00, 5526.22it/s]\n",
      "100%|████████████████████████████████████████████████████████████████████████████| 6370/6370 [00:01<00:00, 5084.59it/s]\n",
      "100%|██████████████████████████████████████████████████████████████████████████████| 6370/6370 [01:19<00:00, 80.46it/s]\n",
      "100%|████████████████████████████████████████████████████████████████████████████| 6370/6370 [00:01<00:00, 3320.76it/s]\n",
      "100%|████████████████████████████████████████████████████████████████████████████| 6370/6370 [00:01<00:00, 5582.91it/s]\n",
      "100%|████████████████████████████████████████████████████████████████████████████| 6370/6370 [00:01<00:00, 5573.40it/s]\n",
      "100%|████████████████████████████████████████████████████████████████████████████| 6370/6370 [00:01<00:00, 5563.63it/s]\n",
      "100%|████████████████████████████████████████████████████████████████████████████| 6370/6370 [00:01<00:00, 5573.35it/s]\n",
      "100%|████████████████████████████████████████████████████████████████████████████| 6370/6370 [00:01<00:00, 5515.45it/s]\n",
      "100%|████████████████████████████████████████████████████████████████████████████| 6370/6370 [00:01<00:00, 4978.21it/s]\n",
      "100%|██████████████████████████████████████████████████████████████████████████████| 6370/6370 [01:27<00:00, 73.20it/s]\n",
      "100%|████████████████████████████████████████████████████████████████████████████| 6370/6370 [00:01<00:00, 3287.16it/s]\n",
      "100%|████████████████████████████████████████████████████████████████████████████| 6370/6370 [00:01<00:00, 5607.56it/s]\n",
      "100%|████████████████████████████████████████████████████████████████████████████| 6370/6370 [00:01<00:00, 5602.81it/s]\n",
      "100%|████████████████████████████████████████████████████████████████████████████| 6370/6370 [00:01<00:00, 5578.20it/s]\n",
      "100%|████████████████████████████████████████████████████████████████████████████| 6370/6370 [00:01<00:00, 5587.84it/s]\n",
      "100%|████████████████████████████████████████████████████████████████████████████| 6370/6370 [00:01<00:00, 5496.46it/s]\n",
      "100%|████████████████████████████████████████████████████████████████████████████| 6370/6370 [00:01<00:00, 5053.04it/s]\n",
      "100%|██████████████████████████████████████████████████████████████████████████████| 6370/6370 [01:34<00:00, 67.26it/s]\n",
      "100%|████████████████████████████████████████████████████████████████████████████| 6370/6370 [00:01<00:00, 3310.83it/s]\n",
      "100%|████████████████████████████████████████████████████████████████████████████| 6370/6370 [00:01<00:00, 5622.40it/s]\n",
      "100%|████████████████████████████████████████████████████████████████████████████| 6370/6370 [00:01<00:00, 5592.71it/s]\n",
      "100%|████████████████████████████████████████████████████████████████████████████| 6370/6370 [00:01<00:00, 5544.31it/s]\n",
      "100%|████████████████████████████████████████████████████████████████████████████| 6370/6370 [00:01<00:00, 5539.37it/s]\n",
      "100%|████████████████████████████████████████████████████████████████████████████| 6370/6370 [00:01<00:00, 5491.87it/s]\n",
      "100%|████████████████████████████████████████████████████████████████████████████| 6370/6370 [00:01<00:00, 5045.06it/s]\n",
      "100%|██████████████████████████████████████████████████████████████████████████████| 6370/6370 [01:44<00:00, 60.75it/s]\n",
      "100%|████████████████████████████████████████████████████████████████████████████| 6370/6370 [00:01<00:00, 3280.50it/s]\n",
      "100%|████████████████████████████████████████████████████████████████████████████| 6370/6370 [00:01<00:00, 5630.17it/s]\n",
      "100%|████████████████████████████████████████████████████████████████████████████| 6370/6370 [00:01<00:00, 5582.94it/s]\n",
      "100%|████████████████████████████████████████████████████████████████████████████| 6370/6370 [00:01<00:00, 5578.13it/s]\n",
      "100%|████████████████████████████████████████████████████████████████████████████| 6370/6370 [00:01<00:00, 5573.34it/s]\n",
      "100%|████████████████████████████████████████████████████████████████████████████| 6370/6370 [00:01<00:00, 5515.31it/s]\n",
      "100%|████████████████████████████████████████████████████████████████████████████| 6370/6370 [00:01<00:00, 5133.71it/s]\n"
     ]
    }
   ],
   "source": [
    "ridge_tuning_res = tuning_ridge()"
   ]
  },
  {
   "cell_type": "code",
   "execution_count": 203,
   "metadata": {},
   "outputs": [
    {
     "name": "stdout",
     "output_type": "stream",
     "text": [
      "0 (0.072528084174872, 0.002410374920819861)\n",
      "1 (0.07378205696944092, 0.002459875766105016)\n",
      "2 (0.07417360933095597, 0.002478185906575529)\n",
      "3 (0.07569068174240462, 0.002521145340687763)\n",
      "4 (0.07662225612464846, 0.0026304183240553674)\n",
      "5 (0.07761031489604031, 0.0027082810478383608)\n",
      "6 (0.07850295265917212, 0.0027475757572904868)\n",
      "7 (0.07908263136428392, 0.0027689283833889507)\n",
      "8 (0.07879029810698521, 0.0027525465447888605)\n",
      "9 (0.0794821391006547, 0.0028267683170260342)\n",
      "10 (0.0793745062876197, 0.0028006813707403444)\n",
      "11 (0.07919224245876565, 0.0027935423511071347)\n",
      "12 (0.07898878257151257, 0.0027665782842939096)\n"
     ]
    }
   ],
   "source": [
    "for i in range(len(ridge_tuning_res)):\n",
    "    print (i, ridge_tuning_res[i]['NDCG'])"
   ]
  },
  {
   "cell_type": "markdown",
   "metadata": {},
   "source": [
    "## Normalized ridge"
   ]
  },
  {
   "cell_type": "code",
   "execution_count": 205,
   "metadata": {},
   "outputs": [
    {
     "name": "stderr",
     "output_type": "stream",
     "text": [
      "D:\\Anaconda\\lib\\site-packages\\sklearn\\utils\\validation.py:429: DataConversionWarning: Data with input dtype int32 was converted to float64 by the normalize function.\n",
      "  warnings.warn(msg, _DataConversionWarning)\n"
     ]
    }
   ],
   "source": [
    "X = normalize(U_K.todense())\n",
    "y = normalize(train(rtrain))\n",
    "# y = U_I_similarity\n",
    "clf = Ridge(alpha=0.001).fit(X, y)"
   ]
  },
  {
   "cell_type": "code",
   "execution_count": 206,
   "metadata": {
    "collapsed": true
   },
   "outputs": [],
   "source": [
    "lr_similarity = clf.predict(np.array(X))"
   ]
  },
  {
   "cell_type": "code",
   "execution_count": 207,
   "metadata": {},
   "outputs": [
    {
     "name": "stderr",
     "output_type": "stream",
     "text": [
      "100%|█████████████████████████████████████████████████████████████████████████████| 6370/6370 [00:27<00:00, 228.14it/s]\n",
      "100%|████████████████████████████████████████████████████████████████████████████| 6370/6370 [00:02<00:00, 3123.20it/s]\n",
      "100%|████████████████████████████████████████████████████████████████████████████| 6370/6370 [00:01<00:00, 5171.71it/s]\n",
      "100%|████████████████████████████████████████████████████████████████████████████| 6370/6370 [00:01<00:00, 5449.70it/s]\n",
      "100%|████████████████████████████████████████████████████████████████████████████| 6370/6370 [00:01<00:00, 5287.29it/s]\n",
      "100%|████████████████████████████████████████████████████████████████████████████| 6370/6370 [00:01<00:00, 5410.90it/s]\n",
      "100%|████████████████████████████████████████████████████████████████████████████| 6370/6370 [00:01<00:00, 5358.35it/s]\n",
      "100%|████████████████████████████████████████████████████████████████████████████| 6370/6370 [00:01<00:00, 5009.26it/s]\n"
     ]
    }
   ],
   "source": [
    "similarity = lr_similarity\n",
    "lr_prediction_score = predict(rtrain, 100, similarity, item_similarity_en= False)\n",
    "lr_predict = prediction(lr_prediction_score, 50, rtrain)\n",
    "lr_res = evaluate(lr_predict, rvalid)"
   ]
  },
  {
   "cell_type": "code",
   "execution_count": 208,
   "metadata": {},
   "outputs": [
    {
     "data": {
      "text/plain": [
       "{'MAP@10': (0.03263396591929248, 0.0019468804416455736),\n",
       " 'MAP@15': (0.031638375470453915, 0.0016638498848754906),\n",
       " 'MAP@20': (0.030682716465145466, 0.001488148270339107),\n",
       " 'MAP@5': (0.033189750773361344, 0.002531569958011714),\n",
       " 'MAP@50': (0.0266903984580071, 0.0010506598328740783),\n",
       " 'NDCG': (0.08478552305704484, 0.0028885505765459223),\n",
       " 'Precision@10': (0.031132901418315533, 0.0015264339278548051),\n",
       " 'Precision@15': (0.0287398587521158, 0.001270006219663063),\n",
       " 'Precision@20': (0.027341971633689368, 0.0011270103589157922),\n",
       " 'Precision@5': (0.033514270705655755, 0.0021126259276785905),\n",
       " 'Precision@50': (0.021610926282612502, 0.0007567863313728811),\n",
       " 'R-Precision': (0.03139425667660605, 0.0021073355445058567),\n",
       " 'Recall@10': (0.05636449421586743, 0.003757381223990521),\n",
       " 'Recall@15': (0.07740990068476872, 0.004399420210626781),\n",
       " 'Recall@20': (0.09693583023402128, 0.004895937315332809),\n",
       " 'Recall@5': (0.030727850842699442, 0.002795101908721248),\n",
       " 'Recall@50': (0.1810198848801792, 0.006284969269713838)}"
      ]
     },
     "execution_count": 208,
     "metadata": {},
     "output_type": "execute_result"
    }
   ],
   "source": [
    "lr_res"
   ]
  },
  {
   "cell_type": "markdown",
   "metadata": {},
   "source": [
    "## One Layer Res"
   ]
  },
  {
   "cell_type": "code",
   "execution_count": 66,
   "metadata": {},
   "outputs": [
    {
     "data": {
      "text/plain": [
       "<6370x3668 sparse matrix of type '<class 'numpy.float32'>'\n",
       "\twith 167511 stored elements in Compressed Sparse Row format>"
      ]
     },
     "execution_count": 66,
     "metadata": {},
     "output_type": "execute_result"
    }
   ],
   "source": [
    "rtrain"
   ]
  },
  {
   "cell_type": "code",
   "execution_count": 65,
   "metadata": {
    "scrolled": true
   },
   "outputs": [
    {
     "data": {
      "text/plain": [
       "<6370x75 sparse matrix of type '<class 'numpy.int32'>'\n",
       "\twith 324742 stored elements in Compressed Sparse Row format>"
      ]
     },
     "execution_count": 65,
     "metadata": {},
     "output_type": "execute_result"
    }
   ],
   "source": [
    "U_K"
   ]
  },
  {
   "cell_type": "code",
   "execution_count": 76,
   "metadata": {},
   "outputs": [
    {
     "data": {
      "text/plain": [
       "matrix([[ 7., 35., 27., ...,  2.,  2.,  0.],\n",
       "        [16., 35., 23., ...,  2.,  0.,  5.],\n",
       "        [ 0., 12.,  8., ...,  4.,  0.,  1.],\n",
       "        ...,\n",
       "        [ 6., 11.,  8., ...,  0.,  0.,  0.],\n",
       "        [ 4., 17.,  5., ...,  0.,  0.,  0.],\n",
       "        [10., 10.,  4., ...,  0.,  0.,  0.]])"
      ]
     },
     "execution_count": 76,
     "metadata": {},
     "output_type": "execute_result"
    }
   ],
   "source": [
    "U_K.todense().astype(float)"
   ]
  },
  {
   "cell_type": "code",
   "execution_count": 210,
   "metadata": {},
   "outputs": [],
   "source": [
    "R_train_keyphrase_tensor = tf.convert_to_tensor(normalize(U_K.todense().astype(float)))"
   ]
  },
  {
   "cell_type": "code",
   "execution_count": 211,
   "metadata": {
    "collapsed": true
   },
   "outputs": [],
   "source": [
    "R_train_keyphrase_tensor = tf.cast(R_train_keyphrase_tensor, tf.float32)"
   ]
  },
  {
   "cell_type": "code",
   "execution_count": 212,
   "metadata": {},
   "outputs": [
    {
     "data": {
      "text/plain": [
       "<tf.Tensor: id=210578, shape=(6370, 75), dtype=float32, numpy=\n",
       "array([[0.07405438, 0.37027192, 0.28563833, ..., 0.0211584 , 0.0211584 ,\n",
       "        0.        ],\n",
       "       [0.15975258, 0.34945875, 0.22964433, ..., 0.01996907, 0.        ,\n",
       "        0.04992268],\n",
       "       [0.        , 0.3815778 , 0.2543852 , ..., 0.1271926 , 0.        ,\n",
       "        0.03179815],\n",
       "       ...,\n",
       "       [0.31578946, 0.57894737, 0.42105263, ..., 0.        , 0.        ,\n",
       "        0.        ],\n",
       "       [0.1062988 , 0.4517699 , 0.1328735 , ..., 0.        , 0.        ,\n",
       "        0.        ],\n",
       "       [0.25967458, 0.25967458, 0.10386983, ..., 0.        , 0.        ,\n",
       "        0.        ]], dtype=float32)>"
      ]
     },
     "execution_count": 212,
     "metadata": {},
     "output_type": "execute_result"
    }
   ],
   "source": [
    "R_train_keyphrase_tensor"
   ]
  },
  {
   "cell_type": "code",
   "execution_count": 213,
   "metadata": {
    "collapsed": true
   },
   "outputs": [],
   "source": [
    "# R_Y_tensor = tf.convert_to_tensor(train(rtrain))\n",
    "U_I_similarity = normalize(train(rtrain))\n",
    "# np.fill_diagonal(U_I_similarity,0)\n",
    "R_Y_tensor = tf.convert_to_tensor(U_I_similarity)"
   ]
  },
  {
   "cell_type": "code",
   "execution_count": 214,
   "metadata": {
    "scrolled": true
   },
   "outputs": [
    {
     "data": {
      "text/plain": [
       "<tf.Tensor: id=210579, shape=(6370, 6370), dtype=float32, numpy=\n",
       "array([[0.31015164, 0.        , 0.        , ..., 0.        , 0.        ,\n",
       "        0.        ],\n",
       "       [0.        , 0.26469022, 0.        , ..., 0.        , 0.        ,\n",
       "        0.        ],\n",
       "       [0.        , 0.        , 0.40715232, ..., 0.        , 0.        ,\n",
       "        0.        ],\n",
       "       ...,\n",
       "       [0.        , 0.        , 0.        , ..., 0.32150823, 0.        ,\n",
       "        0.        ],\n",
       "       [0.        , 0.        , 0.        , ..., 0.        , 0.33610332,\n",
       "        0.        ],\n",
       "       [0.        , 0.        , 0.        , ..., 0.        , 0.        ,\n",
       "        0.304243  ]], dtype=float32)>"
      ]
     },
     "execution_count": 214,
     "metadata": {},
     "output_type": "execute_result"
    }
   ],
   "source": [
    "R_Y_tensor"
   ]
  },
  {
   "cell_type": "code",
   "execution_count": 215,
   "metadata": {
    "collapsed": true
   },
   "outputs": [],
   "source": [
    "train_dataset = [(R_train_keyphrase_tensor, R_Y_tensor)]"
   ]
  },
  {
   "cell_type": "code",
   "execution_count": 225,
   "metadata": {
    "scrolled": true
   },
   "outputs": [
    {
     "name": "stdout",
     "output_type": "stream",
     "text": [
      "Epoch: 0\n",
      "L2 loss is: 129.5386962890625\n",
      "Sum loss is: 129.56866455078125 \n",
      "\n",
      "Epoch: 1\n",
      "L2 loss is: 115.17894744873047\n",
      "Sum loss is: 115.19681549072266 \n",
      "\n",
      "Epoch: 2\n",
      "L2 loss is: 102.06536865234375\n",
      "Sum loss is: 102.07555389404297 \n",
      "\n",
      "Epoch: 3\n",
      "L2 loss is: 90.15873718261719\n",
      "Sum loss is: 90.1643295288086 \n",
      "\n",
      "Epoch: 4\n",
      "L2 loss is: 79.39019012451172\n",
      "Sum loss is: 79.3932876586914 \n",
      "\n",
      "Epoch: 5\n",
      "L2 loss is: 69.6876449584961\n",
      "Sum loss is: 69.6895751953125 \n",
      "\n",
      "Epoch: 6\n",
      "L2 loss is: 60.982879638671875\n",
      "Sum loss is: 60.98441696166992 \n",
      "\n",
      "Epoch: 7\n",
      "L2 loss is: 53.20631408691406\n",
      "Sum loss is: 53.20785903930664 \n",
      "\n",
      "Epoch: 8\n",
      "L2 loss is: 46.285301208496094\n",
      "Sum loss is: 46.28702163696289 \n",
      "\n",
      "Epoch: 9\n",
      "L2 loss is: 40.147850036621094\n",
      "Sum loss is: 40.1497802734375 \n",
      "\n",
      "Epoch: 10\n",
      "L2 loss is: 34.726280212402344\n",
      "Sum loss is: 34.72837448120117 \n",
      "\n",
      "Epoch: 11\n",
      "L2 loss is: 29.956636428833008\n",
      "Sum loss is: 29.95882797241211 \n",
      "\n",
      "Epoch: 12\n",
      "L2 loss is: 25.777036666870117\n",
      "Sum loss is: 25.779251098632812 \n",
      "\n",
      "Epoch: 13\n",
      "L2 loss is: 22.127647399902344\n",
      "Sum loss is: 22.129817962646484 \n",
      "\n",
      "Epoch: 14\n",
      "L2 loss is: 18.952564239501953\n",
      "Sum loss is: 18.95463752746582 \n",
      "\n",
      "Epoch: 15\n",
      "L2 loss is: 16.200883865356445\n",
      "Sum loss is: 16.202823638916016 \n",
      "\n",
      "Epoch: 16\n",
      "L2 loss is: 13.82596206665039\n",
      "Sum loss is: 13.827741622924805 \n",
      "\n",
      "Epoch: 17\n",
      "L2 loss is: 11.784268379211426\n",
      "Sum loss is: 11.785876274108887 \n",
      "\n",
      "Epoch: 18\n",
      "L2 loss is: 10.03533935546875\n",
      "Sum loss is: 10.036771774291992 \n",
      "\n",
      "Epoch: 19\n",
      "L2 loss is: 8.542572975158691\n",
      "Sum loss is: 8.54383373260498 \n",
      "\n",
      "Epoch: 20\n",
      "L2 loss is: 7.273479461669922\n",
      "Sum loss is: 7.274578094482422 \n",
      "\n",
      "Epoch: 21\n",
      "L2 loss is: 6.198964595794678\n",
      "Sum loss is: 6.199914455413818 \n",
      "\n",
      "Epoch: 22\n",
      "L2 loss is: 5.292559623718262\n",
      "Sum loss is: 5.293376445770264 \n",
      "\n",
      "Epoch: 23\n",
      "L2 loss is: 4.530357360839844\n",
      "Sum loss is: 4.531058311462402 \n",
      "\n",
      "Epoch: 24\n",
      "L2 loss is: 3.8913471698760986\n",
      "Sum loss is: 3.89194917678833 \n",
      "\n",
      "Epoch: 25\n",
      "L2 loss is: 3.357348680496216\n",
      "Sum loss is: 3.3578686714172363 \n",
      "\n",
      "Epoch: 26\n",
      "L2 loss is: 2.9124505519866943\n",
      "Sum loss is: 2.9129040241241455 \n",
      "\n",
      "Epoch: 27\n",
      "L2 loss is: 2.5425398349761963\n",
      "Sum loss is: 2.542940139770508 \n",
      "\n",
      "Epoch: 28\n",
      "L2 loss is: 2.235257863998413\n",
      "Sum loss is: 2.23561692237854 \n",
      "\n",
      "Epoch: 29\n",
      "L2 loss is: 1.980072259902954\n",
      "Sum loss is: 1.98039972782135 \n",
      "\n",
      "Epoch: 30\n",
      "L2 loss is: 1.768072247505188\n",
      "Sum loss is: 1.7683757543563843 \n",
      "\n",
      "Epoch: 31\n",
      "L2 loss is: 1.5915979146957397\n",
      "Sum loss is: 1.5918835401535034 \n",
      "\n",
      "Epoch: 32\n",
      "L2 loss is: 1.4440377950668335\n",
      "Sum loss is: 1.444309949874878 \n",
      "\n",
      "Epoch: 33\n",
      "L2 loss is: 1.3198130130767822\n",
      "Sum loss is: 1.3200749158859253 \n",
      "\n",
      "Epoch: 34\n",
      "L2 loss is: 1.2143241167068481\n",
      "Sum loss is: 1.2145779132843018 \n",
      "\n",
      "Epoch: 35\n",
      "L2 loss is: 1.1237773895263672\n",
      "Sum loss is: 1.124024510383606 \n",
      "\n",
      "Epoch: 36\n",
      "L2 loss is: 1.0450217723846436\n",
      "Sum loss is: 1.0452629327774048 \n",
      "\n",
      "Epoch: 37\n",
      "L2 loss is: 0.9754757881164551\n",
      "Sum loss is: 0.9757112264633179 \n",
      "\n",
      "Epoch: 38\n",
      "L2 loss is: 0.9130752086639404\n",
      "Sum loss is: 0.9133050441741943 \n",
      "\n",
      "Epoch: 39\n",
      "L2 loss is: 0.856193482875824\n",
      "Sum loss is: 0.8564175963401794 \n",
      "\n",
      "Epoch: 40\n",
      "L2 loss is: 0.8035710453987122\n",
      "Sum loss is: 0.8037891983985901 \n",
      "\n",
      "Epoch: 41\n",
      "L2 loss is: 0.754264235496521\n",
      "Sum loss is: 0.7544763088226318 \n",
      "\n",
      "Epoch: 42\n",
      "L2 loss is: 0.7075815200805664\n",
      "Sum loss is: 0.707787275314331 \n",
      "\n",
      "Epoch: 43\n",
      "L2 loss is: 0.6630151271820068\n",
      "Sum loss is: 0.6632145643234253 \n",
      "\n",
      "Epoch: 44\n",
      "L2 loss is: 0.6202106475830078\n",
      "Sum loss is: 0.6204037666320801 \n",
      "\n",
      "Epoch: 45\n",
      "L2 loss is: 0.5789579153060913\n",
      "Sum loss is: 0.5791448950767517 \n",
      "\n",
      "Epoch: 46\n",
      "L2 loss is: 0.5391528606414795\n",
      "Sum loss is: 0.5393338799476624 \n",
      "\n",
      "Epoch: 47\n",
      "L2 loss is: 0.5007429718971252\n",
      "Sum loss is: 0.5009183287620544 \n",
      "\n",
      "Epoch: 48\n",
      "L2 loss is: 0.4637126922607422\n",
      "Sum loss is: 0.463882714509964 \n",
      "\n",
      "Epoch: 49\n",
      "L2 loss is: 0.42809805274009705\n",
      "Sum loss is: 0.4282631278038025 \n",
      "\n"
     ]
    }
   ],
   "source": [
    "hidden_size = 100\n",
    "# hidden_size2 = 1000\n",
    "num_item_latent = 6370\n",
    "initializer = tf.initializers.VarianceScaling(scale=2.0)\n",
    "\n",
    "model = tf.keras.Sequential()\n",
    "model.add(tf.keras.layers.Dense(hidden_size,\n",
    "                                activation=\"relu\",\n",
    "                                kernel_initializer=initializer,\n",
    "                                kernel_regularizer=tf.keras.regularizers.l2(l=0.01)))\n",
    "# model.add(tf.keras.layers.Dense(hidden_size2,\n",
    "#                                 activation=\"softmax\",\n",
    "#                                 kernel_initializer=initializer,\n",
    "#                                 kernel_regularizer=tf.keras.regularizers.l2(l=0.01)))\n",
    "model.add(tf.keras.layers.Dense(num_item_latent,\n",
    "                                activation=None,\n",
    "                                kernel_initializer=initializer,\n",
    "                                kernel_regularizer=tf.keras.regularizers.l2(l=0.01)))\n",
    "\n",
    "learning_rate = 1e-2\n",
    "optimizer = tf.keras.optimizers.Adam(learning_rate=learning_rate)\n",
    "loss_fn = tf.losses.MeanSquaredError()\n",
    "\n",
    "# @tf.function\n",
    "# def model_static(R_train_keyphrase_tensor, R_Y_tensor):\n",
    "#     R_Y_pred_tensor = model(R_train_keyphrase_tensor)\n",
    "#     loss = loss_fn(R_Y_tensor, R_Y_pred_tensor) + sum(model.losses)\n",
    "\n",
    "num_epochs = 50\n",
    "for epoch in range(num_epochs):\n",
    "    # Iterate over the batches of a dataset.\n",
    "    for x_batch_train, y_batch_train in train_dataset:\n",
    "        with tf.GradientTape() as tape:\n",
    "            y_batch_predict = model(x_batch_train)\n",
    "            # Loss value for this minibatch\n",
    "            loss_value = loss_fn(y_batch_train, y_batch_predict)\n",
    "            # Add extra losses created during this forward pass:\n",
    "            loss_value += sum(model.losses)\n",
    "            print(\"Epoch: {}\".format(epoch))\n",
    "            print(\"L2 loss is: {}\".format(sum(model.losses)))\n",
    "            print(\"Sum loss is: {} \\n\".format(loss_value))\n",
    "\n",
    "        grads = tape.gradient(loss_value, model.trainable_weights)\n",
    "        optimizer.apply_gradients(zip(grads, model.trainable_weights))"
   ]
  },
  {
   "cell_type": "code",
   "execution_count": 226,
   "metadata": {
    "collapsed": true
   },
   "outputs": [],
   "source": [
    "onelayer_similarity = model(R_train_keyphrase_tensor).numpy()"
   ]
  },
  {
   "cell_type": "code",
   "execution_count": 227,
   "metadata": {
    "scrolled": true
   },
   "outputs": [
    {
     "name": "stderr",
     "output_type": "stream",
     "text": [
      "100%|█████████████████████████████████████████████████████████████████████████████| 6370/6370 [00:47<00:00, 134.71it/s]\n",
      "100%|████████████████████████████████████████████████████████████████████████████| 6370/6370 [00:01<00:00, 3209.52it/s]\n",
      "100%|████████████████████████████████████████████████████████████████████████████| 6370/6370 [00:01<00:00, 5444.92it/s]\n",
      "100%|████████████████████████████████████████████████████████████████████████████| 6370/6370 [00:01<00:00, 5291.80it/s]\n",
      "100%|████████████████████████████████████████████████████████████████████████████| 6370/6370 [00:01<00:00, 5160.02it/s]\n",
      "100%|████████████████████████████████████████████████████████████████████████████| 6370/6370 [00:01<00:00, 5421.94it/s]\n",
      "100%|████████████████████████████████████████████████████████████████████████████| 6370/6370 [00:01<00:00, 5197.06it/s]\n",
      "100%|████████████████████████████████████████████████████████████████████████████| 6370/6370 [00:01<00:00, 5023.65it/s]\n"
     ]
    }
   ],
   "source": [
    "similarity = onelayer_similarity\n",
    "onelayer_prediction_score = predict(rtrain, 450, similarity, item_similarity_en= False)\n",
    "onelayer_predict = prediction(onelayer_prediction_score, 50, rtrain)\n",
    "onelayer_res = evaluate(onelayer_predict, rvalid)"
   ]
  },
  {
   "cell_type": "code",
   "execution_count": 219,
   "metadata": {},
   "outputs": [
    {
     "data": {
      "text/plain": [
       "{'MAP@10': (0.02503557601176232, 0.0017625984514546562),\n",
       " 'MAP@15': (0.02427200431753049, 0.0014965028124616583),\n",
       " 'MAP@20': (0.023542942134936472, 0.0013367478043353662),\n",
       " 'MAP@5': (0.026229498628377982, 0.0023330042601491237),\n",
       " 'MAP@50': (0.02085671981333879, 0.0009396802044936343),\n",
       " 'NDCG': (0.06458872949738413, 0.00247671716591317),\n",
       " 'Precision@10': (0.023568551917352482, 0.0013274805435194799),\n",
       " 'Precision@15': (0.022015992529037534, 0.0011230171561493086),\n",
       " 'Precision@20': (0.020985816844685694, 0.0009929836341171035),\n",
       " 'Precision@5': (0.025109437926807917, 0.0018416765387969734),\n",
       " 'Precision@50': (0.01772369112239538, 0.0006948991137942933),\n",
       " 'R-Precision': (0.02245741837571335, 0.0017028854048965216),\n",
       " 'Recall@10': (0.040569177114471666, 0.0032465116229396093),\n",
       " 'Recall@15': (0.05462544083100035, 0.0036807779247994793),\n",
       " 'Recall@20': (0.06733024874599443, 0.00402748919236708),\n",
       " 'Recall@5': (0.02267004674235617, 0.0025181069989601537),\n",
       " 'Recall@50': (0.13854845237773672, 0.005511384173155274)}"
      ]
     },
     "execution_count": 219,
     "metadata": {},
     "output_type": "execute_result"
    }
   ],
   "source": [
    "# One layer with 50 hidden 100 iteration loss 0.03\n",
    "onelayer_res"
   ]
  },
  {
   "cell_type": "code",
   "execution_count": 224,
   "metadata": {},
   "outputs": [
    {
     "data": {
      "text/plain": [
       "{'MAP@10': (0.024942425227839342, 0.001753599015102256),\n",
       " 'MAP@15': (0.024229579832801683, 0.0014915719612718153),\n",
       " 'MAP@20': (0.02352988972177005, 0.0013332099664371537),\n",
       " 'MAP@5': (0.026108679157182044, 0.0023184204478332634),\n",
       " 'MAP@50': (0.020857001447091638, 0.0009389623189020825),\n",
       " 'NDCG': (0.06467503313992916, 0.002474370689867957),\n",
       " 'Precision@10': (0.02355104184906321, 0.0013304488397337573),\n",
       " 'Precision@15': (0.022086032802194594, 0.0011192560306701274),\n",
       " 'Precision@20': (0.020985816844685697, 0.000995373528265872),\n",
       " 'Precision@5': (0.02507441779022938, 0.001836222348234274),\n",
       " 'Precision@50': (0.01779022938189459, 0.000693842523292859),\n",
       " 'R-Precision': (0.022246267028263624, 0.0016957257584338027),\n",
       " 'Recall@10': (0.04050552128294041, 0.003242561893670821),\n",
       " 'Recall@15': (0.055376677397139, 0.003709429051252763),\n",
       " 'Recall@20': (0.06827447836960962, 0.004086801188359538),\n",
       " 'Recall@5': (0.022682588139254365, 0.002518252387818311),\n",
       " 'Recall@50': (0.13865705680982565, 0.005498994854150485)}"
      ]
     },
     "execution_count": 224,
     "metadata": {},
     "output_type": "execute_result"
    }
   ],
   "source": [
    "# One layer with 100 hidden 100 iteration loss 0.03\n",
    "onelayer_res"
   ]
  },
  {
   "cell_type": "code",
   "execution_count": 228,
   "metadata": {},
   "outputs": [
    {
     "data": {
      "text/plain": [
       "{'MAP@10': (0.024567939064962355, 0.0017126678103723274),\n",
       " 'MAP@15': (0.023573573161211055, 0.0014528270728242753),\n",
       " 'MAP@20': (0.02284868231644502, 0.001290925635622992),\n",
       " 'MAP@5': (0.025241347107920382, 0.002248852892312696),\n",
       " 'MAP@50': (0.02062495837180942, 0.0008985522680279224),\n",
       " 'NDCG': (0.06604758141356297, 0.002416536122886455),\n",
       " 'Precision@10': (0.02313080021012082, 0.0013004267660010722),\n",
       " 'Precision@15': (0.020895348158524486, 0.001061528037880263),\n",
       " 'Precision@20': (0.020434249693573804, 0.0009390352905327568),\n",
       " 'Precision@5': (0.024969357380493787, 0.0018197592567479309),\n",
       " 'Precision@50': (0.01783225354578883, 0.0006710223785133447),\n",
       " 'R-Precision': (0.02161900605361607, 0.001665857285943586),\n",
       " 'Recall@10': (0.04149973853251357, 0.003327109700326088),\n",
       " 'Recall@15': (0.05457084904471499, 0.0037409715295870236),\n",
       " 'Recall@20': (0.06949475009117022, 0.004112532271125076),\n",
       " 'Recall@5': (0.022011534947960643, 0.002416138348185266),\n",
       " 'Recall@50': (0.1461468298260892, 0.0056253260522673605)}"
      ]
     },
     "execution_count": 228,
     "metadata": {},
     "output_type": "execute_result"
    }
   ],
   "source": [
    "# One layer with 100 hidden 50 iteration loss 0.4\n",
    "onelayer_res"
   ]
  },
  {
   "cell_type": "code",
   "execution_count": 101,
   "metadata": {},
   "outputs": [
    {
     "name": "stderr",
     "output_type": "stream",
     "text": [
      "100%|█████████████████████████████████████████████████████████████████████████████| 6370/6370 [00:14<00:00, 427.51it/s]\n",
      "100%|████████████████████████████████████████████████████████████████████████████| 6370/6370 [00:01<00:00, 3245.53it/s]\n",
      "100%|████████████████████████████████████████████████████████████████████████████| 6370/6370 [00:01<00:00, 5487.01it/s]\n",
      "100%|████████████████████████████████████████████████████████████████████████████| 6370/6370 [00:01<00:00, 5473.05it/s]\n",
      "100%|████████████████████████████████████████████████████████████████████████████| 6370/6370 [00:01<00:00, 5463.81it/s]\n",
      "100%|████████████████████████████████████████████████████████████████████████████| 6370/6370 [00:01<00:00, 5435.64it/s]\n",
      "100%|████████████████████████████████████████████████████████████████████████████| 6370/6370 [00:01<00:00, 5394.34it/s]\n",
      "100%|████████████████████████████████████████████████████████████████████████████| 6370/6370 [00:01<00:00, 4945.74it/s]\n"
     ]
    },
    {
     "data": {
      "text/plain": [
       "{'MAP@10': (0.021213114207335886, 0.0015441247684382993),\n",
       " 'MAP@15': (0.021385818601717746, 0.0013445744371049868),\n",
       " 'MAP@20': (0.02120335184705455, 0.0012152896832169232),\n",
       " 'MAP@5': (0.0197040798459114, 0.001927988703831584),\n",
       " 'MAP@50': (0.01940122728371883, 0.0008835459331518419),\n",
       " 'NDCG': (0.058966962484347026, 0.0021559942015701335),\n",
       " 'Precision@10': (0.022535457888285766, 0.0013075234772306158),\n",
       " 'Precision@15': (0.021315589797466877, 0.0010918678163688046),\n",
       " 'Precision@20': (0.02025914901068114, 0.0009645911685747211),\n",
       " 'Precision@5': (0.02283312904920329, 0.00178173559032657),\n",
       " 'Precision@50': (0.01703029241814043, 0.0006780414144150939),\n",
       " 'R-Precision': (0.018570384041319415, 0.0013217106702485793),\n",
       " 'Recall@10': (0.03737663702395449, 0.0030866689903839783),\n",
       " 'Recall@15': (0.05330934947740096, 0.003634029695829435),\n",
       " 'Recall@20': (0.06718245649487496, 0.004043861874344541),\n",
       " 'Recall@5': (0.017695395613806054, 0.002061474609958878),\n",
       " 'Recall@50': (0.1326869310614646, 0.005408477218329208)}"
      ]
     },
     "execution_count": 101,
     "metadata": {},
     "output_type": "execute_result"
    }
   ],
   "source": [
    "# one layer with 50 hidden size 1000 iteration loss 0.03\n",
    "similarity = onelayer_similarity\n",
    "onelayer_prediction_score = predict(rtrain, 100, similarity, item_similarity_en= False)\n",
    "onelayer_predict = prediction(onelayer_prediction_score, 50, rtrain)\n",
    "onelayer_res = evaluate(onelayer_predict, rvalid)\n",
    "onelayer_res"
   ]
  },
  {
   "cell_type": "code",
   "execution_count": 105,
   "metadata": {},
   "outputs": [
    {
     "name": "stderr",
     "output_type": "stream",
     "text": [
      "100%|█████████████████████████████████████████████████████████████████████████████| 6370/6370 [00:14<00:00, 438.18it/s]\n",
      "100%|████████████████████████████████████████████████████████████████████████████| 6370/6370 [00:01<00:00, 3343.64it/s]\n",
      "100%|████████████████████████████████████████████████████████████████████████████| 6370/6370 [00:01<00:00, 5563.49it/s]\n",
      "100%|████████████████████████████████████████████████████████████████████████████| 6370/6370 [00:01<00:00, 5544.16it/s]\n",
      "100%|████████████████████████████████████████████████████████████████████████████| 6370/6370 [00:01<00:00, 5553.83it/s]\n",
      "100%|████████████████████████████████████████████████████████████████████████████| 6370/6370 [00:01<00:00, 5539.51it/s]\n",
      "100%|████████████████████████████████████████████████████████████████████████████| 6370/6370 [00:01<00:00, 5435.64it/s]\n",
      "100%|████████████████████████████████████████████████████████████████████████████| 6370/6370 [00:01<00:00, 5005.57it/s]\n"
     ]
    },
    {
     "data": {
      "text/plain": [
       "{'MAP@10': (0.021367001303527304, 0.0015465756923228947),\n",
       " 'MAP@15': (0.021473255792114135, 0.0013488235935652229),\n",
       " 'MAP@20': (0.021238032254585572, 0.0012210044232758212),\n",
       " 'MAP@5': (0.019814393276133775, 0.0019325750334235165),\n",
       " 'MAP@50': (0.01941099870491301, 0.0008885365739399716),\n",
       " 'NDCG': (0.059086422460514335, 0.002171153165354127),\n",
       " 'Precision@10': (0.022220276659078973, 0.0013091603340751815),\n",
       " 'Precision@15': (0.021245549524309813, 0.001099541562289181),\n",
       " 'Precision@20': (0.020127823498511645, 0.0009644702030258515),\n",
       " 'Precision@5': (0.02307827000525302, 0.0017786428134943574),\n",
       " 'Precision@50': (0.017163368937138854, 0.0006822963786275714),\n",
       " 'R-Precision': (0.01854720485265285, 0.0013457366474314636),\n",
       " 'Recall@10': (0.03636667166269102, 0.003022186541671131),\n",
       " 'Recall@15': (0.05198258402777817, 0.0035617406148507782),\n",
       " 'Recall@20': (0.06538572383034717, 0.00397471991358988),\n",
       " 'Recall@5': (0.018754512582407862, 0.002204187988334541),\n",
       " 'Recall@50': (0.13293780575424197, 0.005414391029368707)}"
      ]
     },
     "execution_count": 105,
     "metadata": {},
     "output_type": "execute_result"
    }
   ],
   "source": [
    "# two layers with 1000,500 hidden size 100 iteration loss 0.003\n",
    "similarity = onelayer_similarity\n",
    "onelayer_prediction_score = predict(rtrain, 100, similarity, item_similarity_en= False)\n",
    "onelayer_predict = prediction(onelayer_prediction_score, 50, rtrain)\n",
    "onelayer_res = evaluate(onelayer_predict, rvalid)\n",
    "onelayer_res"
   ]
  },
  {
   "cell_type": "markdown",
   "metadata": {},
   "source": [
    "### Set diagnal value of U-U similarity to 0 and then learn "
   ]
  },
  {
   "cell_type": "code",
   "execution_count": 126,
   "metadata": {},
   "outputs": [
    {
     "name": "stderr",
     "output_type": "stream",
     "text": [
      "100%|█████████████████████████████████████████████████████████████████████████████| 6370/6370 [00:14<00:00, 405.31it/s]\n",
      "100%|████████████████████████████████████████████████████████████████████████████| 6370/6370 [00:01<00:00, 3335.22it/s]\n",
      "100%|████████████████████████████████████████████████████████████████████████████| 6370/6370 [00:01<00:00, 5371.63it/s]\n",
      "100%|████████████████████████████████████████████████████████████████████████████| 6370/6370 [00:01<00:00, 5458.90it/s]\n",
      "100%|████████████████████████████████████████████████████████████████████████████| 6370/6370 [00:01<00:00, 5184.17it/s]\n",
      "100%|████████████████████████████████████████████████████████████████████████████| 6370/6370 [00:01<00:00, 5513.87it/s]\n",
      "100%|████████████████████████████████████████████████████████████████████████████| 6370/6370 [00:01<00:00, 5588.44it/s]\n",
      "100%|████████████████████████████████████████████████████████████████████████████| 6370/6370 [00:01<00:00, 4974.13it/s]\n"
     ]
    },
    {
     "data": {
      "text/plain": [
       "{'MAP@10': (0.021155115580347588, 0.0015360366206437165),\n",
       " 'MAP@15': (0.021489732697051907, 0.0013434719219333243),\n",
       " 'MAP@20': (0.021325879552625313, 0.0012195828703010503),\n",
       " 'MAP@5': (0.019381310920445923, 0.0019161506658330646),\n",
       " 'MAP@50': (0.019459487724907486, 0.0008892249991592676),\n",
       " 'NDCG': (0.05895307989821457, 0.0021539635794413457),\n",
       " 'Precision@10': (0.022395377341971636, 0.0013130016333348547),\n",
       " 'Precision@15': (0.021677464542111717, 0.0011023503734601241),\n",
       " 'Precision@20': (0.020232883908247245, 0.000968337472236033),\n",
       " 'Precision@5': (0.02269304850288916, 0.001763758560462977),\n",
       " 'Precision@50': (0.017156364909823148, 0.0006828357556058593),\n",
       " 'R-Precision': (0.018123183549739706, 0.0013209382625933882),\n",
       " 'Recall@10': (0.03676556194755701, 0.003042629436270779),\n",
       " 'Recall@15': (0.053657087597538844, 0.0036313985565362785),\n",
       " 'Recall@20': (0.06572098019789895, 0.0039671821696352985),\n",
       " 'Recall@5': (0.01752585067238741, 0.002077031751031006),\n",
       " 'Recall@50': (0.13287713270957807, 0.005407893529616724)}"
      ]
     },
     "execution_count": 126,
     "metadata": {},
     "output_type": "execute_result"
    }
   ],
   "source": [
    "# two layers with 1000,1000 hidden size 100 iteration loss 0.003\n",
    "similarity = onelayer_similarity\n",
    "onelayer_prediction_score = predict(rtrain, 100, similarity, item_similarity_en= False)\n",
    "onelayer_predict = prediction(onelayer_prediction_score, 50, rtrain)\n",
    "onelayer_res = evaluate(onelayer_predict, rvalid)\n",
    "onelayer_res"
   ]
  },
  {
   "cell_type": "code",
   "execution_count": 130,
   "metadata": {
    "scrolled": true
   },
   "outputs": [
    {
     "name": "stderr",
     "output_type": "stream",
     "text": [
      "100%|█████████████████████████████████████████████████████████████████████████████| 6370/6370 [00:24<00:00, 259.34it/s]\n",
      "100%|████████████████████████████████████████████████████████████████████████████| 6370/6370 [00:01<00:00, 3277.09it/s]\n",
      "100%|████████████████████████████████████████████████████████████████████████████| 6370/6370 [00:01<00:00, 5558.65it/s]\n",
      "100%|████████████████████████████████████████████████████████████████████████████| 6370/6370 [00:01<00:00, 5544.16it/s]\n",
      "100%|████████████████████████████████████████████████████████████████████████████| 6370/6370 [00:01<00:00, 5515.43it/s]\n",
      "100%|████████████████████████████████████████████████████████████████████████████| 6370/6370 [00:01<00:00, 5534.71it/s]\n",
      "100%|████████████████████████████████████████████████████████████████████████████| 6370/6370 [00:01<00:00, 5569.18it/s]\n",
      "100%|████████████████████████████████████████████████████████████████████████████| 6370/6370 [00:01<00:00, 5041.27it/s]\n"
     ]
    },
    {
     "data": {
      "text/plain": [
       "{'MAP@10': (0.021765202491432573, 0.0015526845600560475),\n",
       " 'MAP@15': (0.022049880410062516, 0.0013644357179226061),\n",
       " 'MAP@20': (0.02180937910360531, 0.0012398563754525923),\n",
       " 'MAP@5': (0.019955057491390885, 0.001933702044604114),\n",
       " 'MAP@50': (0.019876764071423293, 0.0009036541747648264),\n",
       " 'NDCG': (0.06005523877382802, 0.002181415237180367),\n",
       " 'Precision@10': (0.023761162668534404, 0.0013408543906885092),\n",
       " 'Precision@15': (0.021817545088425844, 0.0011176082906995454),\n",
       " 'Precision@20': (0.02068814568376817, 0.0009855566555685455),\n",
       " 'Precision@5': (0.02283312904920329, 0.0017578687007232115),\n",
       " 'Precision@50': (0.01730695149711084, 0.0006824305773343914),\n",
       " 'R-Precision': (0.018760004297206704, 0.0013097699165870852),\n",
       " 'Recall@10': (0.04030599394664136, 0.0032072455844968126),\n",
       " 'Recall@15': (0.052539438473823155, 0.0035653125479179902),\n",
       " 'Recall@20': (0.0673341789140699, 0.004055092489593483),\n",
       " 'Recall@5': (0.017723613895222083, 0.002101243798342838),\n",
       " 'Recall@50': (0.13495388413124607, 0.00544213929150181)}"
      ]
     },
     "execution_count": 130,
     "metadata": {},
     "output_type": "execute_result"
    }
   ],
   "source": [
    "# two layers with 1000,1000 hidden size 100 iteration loss 0.003\n",
    "similarity = onelayer_similarity\n",
    "onelayer_prediction_score = predict(rtrain, 200, similarity, item_similarity_en= False)\n",
    "onelayer_predict = prediction(onelayer_prediction_score, 50, rtrain)\n",
    "onelayer_res = evaluate(onelayer_predict, rvalid)\n",
    "onelayer_res"
   ]
  },
  {
   "cell_type": "markdown",
   "metadata": {},
   "source": [
    "## Tune one-layer"
   ]
  },
  {
   "cell_type": "code",
   "execution_count": 233,
   "metadata": {
    "collapsed": true
   },
   "outputs": [],
   "source": [
    "def train_onelayer(num_epochs = 50, hidden_size = 100, num_item_latent = 6370):\n",
    "\n",
    "    initializer = tf.initializers.VarianceScaling(scale=2.0)\n",
    "\n",
    "    model = tf.keras.Sequential()\n",
    "    model.add(tf.keras.layers.Dense(hidden_size,\n",
    "                                    activation=\"relu\",\n",
    "                                    kernel_initializer=initializer,\n",
    "                                    kernel_regularizer=tf.keras.regularizers.l2(l=0.01)))\n",
    "    model.add(tf.keras.layers.Dense(num_item_latent,\n",
    "                                    activation=None,\n",
    "                                    kernel_initializer=initializer,\n",
    "                                    kernel_regularizer=tf.keras.regularizers.l2(l=0.01)))\n",
    "\n",
    "    learning_rate = 1e-2\n",
    "    optimizer = tf.keras.optimizers.Adam(learning_rate=learning_rate)\n",
    "    loss_fn = tf.losses.MeanSquaredError()\n",
    "\n",
    "    for epoch in range(num_epochs):\n",
    "        # Iterate over the batches of a dataset.\n",
    "        for x_batch_train, y_batch_train in train_dataset:\n",
    "            with tf.GradientTape() as tape:\n",
    "                y_batch_predict = model(x_batch_train)\n",
    "                # Loss value for this minibatch\n",
    "                loss_value = loss_fn(y_batch_train, y_batch_predict)\n",
    "                # Add extra losses created during this forward pass:\n",
    "                loss_value += sum(model.losses)\n",
    "                print(\"Epoch: {}\".format(epoch))\n",
    "                print(\"L2 loss is: {}\".format(sum(model.losses)))\n",
    "                print(\"Sum loss is: {} \\n\".format(loss_value))\n",
    "\n",
    "            grads = tape.gradient(loss_value, model.trainable_weights)\n",
    "            optimizer.apply_gradients(zip(grads, model.trainable_weights))"
   ]
  },
  {
   "cell_type": "code",
   "execution_count": null,
   "metadata": {
    "collapsed": true
   },
   "outputs": [],
   "source": []
  },
  {
   "cell_type": "markdown",
   "metadata": {},
   "source": [
    "# PLREC"
   ]
  },
  {
   "cell_type": "code",
   "execution_count": 140,
   "metadata": {
    "collapsed": true
   },
   "outputs": [],
   "source": [
    "from sklearn.utils.extmath import randomized_svd\n",
    "def plrec(matrix_train, iteration=4, lamb=80, rank=200, seed=1, **unused):\n",
    "    \"\"\"\n",
    "    Function used to achieve generalized projected lrec w/o item-attribute embedding\n",
    "    :param matrix_train: user-item matrix with shape m*n\n",
    "    :param iteration: number of power iterations in randomized svd\n",
    "    :param lamb: parameter of penalty\n",
    "    :param rank: latent dimension size\n",
    "    :param seed: the seed of the pseudo random number generator to use when shuffling the data\n",
    "    :return: prediction in sparse matrix\n",
    "    \"\"\"\n",
    "    start_time = time.time()\n",
    "    P, sigma, Qt = randomized_svd(matrix_train,\n",
    "                                  n_components=rank,\n",
    "                                  n_iter=iteration,\n",
    "                                  random_state=seed)\n",
    "\n",
    "    RQ = matrix_train.dot(sparse.csc_matrix(Qt.T*np.sqrt(sigma)))\n",
    "\n",
    "\n",
    "    start_time = time.time()\n",
    "    pre_inv = RQ.T.dot(RQ) + lamb * sparse.identity(rank, dtype=np.float32)\n",
    "    inverse = sparse.linalg.inv(pre_inv.tocsc())\n",
    "    Y = inverse.dot(RQ.T).dot(matrix_train)\n",
    "\n",
    "    return np.array(RQ.todense()), np.array(Y.todense()), None"
   ]
  },
  {
   "cell_type": "code",
   "execution_count": 142,
   "metadata": {},
   "outputs": [],
   "source": [
    "Y, RQt, Bias = plrec(rtrain, iteration=4, lamb=80, rank=200, seed=1)"
   ]
  }
 ],
 "metadata": {
  "kernelspec": {
   "display_name": "Python 3",
   "language": "python",
   "name": "python3"
  },
  "language_info": {
   "codemirror_mode": {
    "name": "ipython",
    "version": 3
   },
   "file_extension": ".py",
   "mimetype": "text/x-python",
   "name": "python",
   "nbconvert_exporter": "python",
   "pygments_lexer": "ipython3",
   "version": "3.6.1"
  }
 },
 "nbformat": 4,
 "nbformat_minor": 2
}
