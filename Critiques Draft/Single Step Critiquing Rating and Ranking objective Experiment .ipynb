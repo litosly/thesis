{
 "cells": [
  {
   "cell_type": "code",
   "execution_count": 1,
   "metadata": {
    "scrolled": true
   },
   "outputs": [
    {
     "name": "stdout",
     "output_type": "stream",
     "text": [
      "2.1.0\n"
     ]
    }
   ],
   "source": [
    "from __future__ import absolute_import, division, print_function, unicode_literals\n",
    "\n",
    "# TensorFlow and tf.keras\n",
    "import tensorflow as tf\n",
    "from tensorflow import keras\n",
    "\n",
    "print(tf.__version__)"
   ]
  },
  {
   "cell_type": "code",
   "execution_count": 2,
   "metadata": {},
   "outputs": [
    {
     "data": {
      "text/plain": [
       "['/Users/litos/opt/anaconda3/envs/tensorflow_cpu/lib/python36.zip',\n",
       " '/Users/litos/opt/anaconda3/envs/tensorflow_cpu/lib/python3.6',\n",
       " '/Users/litos/opt/anaconda3/envs/tensorflow_cpu/lib/python3.6/lib-dynload',\n",
       " '',\n",
       " '/Users/litos/opt/anaconda3/envs/tensorflow_cpu/lib/python3.6/site-packages',\n",
       " '/Users/litos/opt/anaconda3/envs/tensorflow_cpu/lib/python3.6/site-packages/IPython/extensions',\n",
       " '/Users/litos/.ipython']"
      ]
     },
     "execution_count": 2,
     "metadata": {},
     "output_type": "execute_result"
    }
   ],
   "source": [
    "import sys\n",
    "sys.path"
   ]
  },
  {
   "cell_type": "markdown",
   "metadata": {},
   "source": [
    "sys.path = ['', '/Users/litos/opt/anaconda3/envs/tensorflow_cpu/lib/python36.zip', '/Users/litos/opt/anaconda3/envs/tensorflow_cpu/lib/python3.6', '/Users/litos/opt/anaconda3/envs/tensorflow_cpu/lib/python3.6/lib-dynload', '/Users/litos/opt/anaconda3/envs/tensorflow_cpu/lib/python3.6/site-packages']"
   ]
  },
  {
   "cell_type": "code",
   "execution_count": 3,
   "metadata": {
    "scrolled": true
   },
   "outputs": [],
   "source": [
    "from gurobipy import *"
   ]
  },
  {
   "cell_type": "code",
   "execution_count": 7,
   "metadata": {
    "scrolled": false
   },
   "outputs": [],
   "source": [
    "from scipy.sparse import csr_matrix, load_npz, save_npz\n",
    "from tqdm import tqdm\n",
    "from sklearn.preprocessing import normalize\n",
    "import datetime\n",
    "import json\n",
    "import pandas as pd\n",
    "import time\n",
    "# import yaml\n",
    "import scipy.sparse as sparse\n",
    "from ast import literal_eval\n",
    "\n",
    "import numpy as np\n",
    "import matplotlib.pyplot as plt"
   ]
  },
  {
   "cell_type": "code",
   "execution_count": 26,
   "metadata": {},
   "outputs": [],
   "source": [
    "from sklearn.linear_model import LinearRegression\n",
    "from sklearn.preprocessing import normalize\n",
    "from sklearn.linear_model import Ridge\n",
    "from sklearn.utils.extmath import randomized_svd\n",
    "\n",
    "from scipy.optimize import minimize"
   ]
  },
  {
   "cell_type": "markdown",
   "metadata": {},
   "source": [
    "# Load Data"
   ]
  },
  {
   "cell_type": "code",
   "execution_count": 54,
   "metadata": {},
   "outputs": [],
   "source": [
    "# Load Original Data\n",
    "df_train = pd.read_csv('../../data/yelp/Train.csv',encoding='latin-1')\n",
    "# df_valid = pd.read_csv('../../data/yelp/Valid.csv',encoding='latin-1')\n",
    "# df_test = pd.read_csv('../../data/yelp/Test.csv',encoding='latin-1')"
   ]
  },
  {
   "cell_type": "code",
   "execution_count": 8,
   "metadata": {},
   "outputs": [],
   "source": [
    "keyphrases = pd.read_csv('../../data/yelp/KeyPhrases.csv')['Phrases'].tolist()\n",
    "keyphrase_popularity = np.loadtxt('../data/yelp/'+'keyphrase_popularity.txt', dtype=int)\n",
    "\n",
    "# Load U-I Data \n",
    "rtrain = load_npz(\"../../data/yelp/Rtrain.npz\")\n",
    "rvalid = load_npz(\"../../data/yelp/Rvalid.npz\")\n",
    "rtest = load_npz(\"../../data/yelp/Rtest.npz\")\n",
    "\n",
    "# Load user/item keyphrase data\n",
    "U_K = load_npz(\"../../data/yelp/U_K.npz\")\n",
    "I_K = load_npz(\"../../data/yelp/I_K.npz\")"
   ]
  },
  {
   "cell_type": "markdown",
   "metadata": {},
   "source": [
    "# Models"
   ]
  },
  {
   "cell_type": "code",
   "execution_count": 9,
   "metadata": {},
   "outputs": [],
   "source": [
    "# Models\n",
    "from sklearn.metrics.pairwise import cosine_similarity\n",
    "def train(matrix_train):\n",
    "    similarity = cosine_similarity(X=matrix_train, Y=None, dense_output=True)\n",
    "    return similarity\n",
    "\n",
    "def get_I_K(df, row_name = 'ItemIndex', shape = (3668,75)):\n",
    "    rows = []\n",
    "    cols = []\n",
    "    vals = []\n",
    "    for i in tqdm(range(df.shape[0])):\n",
    "        key_vector = literal_eval(df['keyVector'][i])\n",
    "        rows.extend([df[row_name][i]]*len(key_vector)) ## Item index\n",
    "        cols.extend(key_vector) ## Keyword Index\n",
    "        vals.extend(np.array([1]*len(key_vector)))\n",
    "    return csr_matrix((vals, (rows, cols)), shape=shape)\n",
    "\n",
    "\n",
    "\n",
    "def prediction(prediction_score, topK, matrix_Train):\n",
    "\n",
    "    prediction = []\n",
    "\n",
    "    for user_index in tqdm(range(matrix_Train.shape[0])):\n",
    "        vector_u = prediction_score[user_index]\n",
    "        vector_train = matrix_Train[user_index]\n",
    "        if len(vector_train.nonzero()[0]) > 0:\n",
    "            vector_predict = sub_routine(vector_u, vector_train, topK=topK)\n",
    "        else:\n",
    "            vector_predict = np.zeros(topK, dtype=np.float32)\n",
    "\n",
    "        prediction.append(vector_predict)\n",
    "\n",
    "    return np.vstack(prediction)\n",
    "\n",
    "\n",
    "def sub_routine(vector_u, vector_train, topK=500):\n",
    "\n",
    "    train_index = vector_train.nonzero()[1]\n",
    "\n",
    "    vector_u = vector_u\n",
    "\n",
    "    candidate_index = np.argpartition(-vector_u, topK+len(train_index))[:topK+len(train_index)]\n",
    "    vector_u = candidate_index[vector_u[candidate_index].argsort()[::-1]]\n",
    "    vector_u = np.delete(vector_u, np.isin(vector_u, train_index).nonzero()[0])\n",
    "\n",
    "    return vector_u[:topK]\n"
   ]
  },
  {
   "cell_type": "code",
   "execution_count": 10,
   "metadata": {},
   "outputs": [],
   "source": [
    "def predict(matrix_train, k, similarity, item_similarity_en = False):\n",
    "    \"\"\"\n",
    "    res = similarity * matrix_train    if item_similarity_en = False\n",
    "    res = similarity * matrix_train.T  if item_similarity_en = True\n",
    "    \"\"\"\n",
    "    prediction_scores = []\n",
    "    \n",
    "    if item_similarity_en:\n",
    "        matrix_train = matrix_train.transpose()\n",
    "        \n",
    "    for user_index in tqdm(range(matrix_train.shape[0])):\n",
    "        # Get user u's prediction scores to all users\n",
    "        vector_u = similarity[user_index]\n",
    "\n",
    "        # Get closest K neighbors excluding user u self\n",
    "        similar_users = vector_u.argsort()[::-1][1:k+1]\n",
    "        # Get neighbors similarity weights and ratings\n",
    "        similar_users_weights = similarity[user_index][similar_users]\n",
    "        similar_users_ratings = matrix_train[similar_users].toarray()\n",
    "\n",
    "        prediction_scores_u = similar_users_ratings * similar_users_weights[:, np.newaxis]\n",
    "\n",
    "        prediction_scores.append(np.sum(prediction_scores_u, axis=0))\n",
    "    res = np.array(prediction_scores)\n",
    "    \n",
    "    if item_similarity_en:\n",
    "        res = res.transpose()\n",
    "    \n",
    "    return res\n",
    "\n",
    "def predict_vector(user_index, matrix_train, k, similarity):\n",
    "    \"\"\"\n",
    "    res = similarity * matrix_train    if item_similarity_en = False\n",
    "    res = similarity * matrix_train.T  if item_similarity_en = True\n",
    "    get only user_index row\n",
    "    \"\"\"\n",
    "    vector_u = similarity[user_index]\n",
    "    \n",
    "    # Get closest K neighbors excluding user u self\n",
    "    similar_users = vector_u.argsort()[::-1][1:k+1]\n",
    "    # Get neighbors similarity weights and ratings\n",
    "    similar_users_weights = similarity[user_index][similar_users]\n",
    "    similar_users_ratings = matrix_train[similar_users].toarray()\n",
    "    prediction_scores_u = similar_users_ratings * similar_users_weights[:, np.newaxis]\n",
    "    \n",
    "    return np.sum(prediction_scores_u, axis=0)\n",
    "    "
   ]
  },
  {
   "cell_type": "code",
   "execution_count": 11,
   "metadata": {},
   "outputs": [],
   "source": [
    "# PLREC \n",
    "def inhour(elapsed):\n",
    "    return time.strftime('%H:%M:%S', time.gmtime(elapsed))\n",
    "\n",
    "def plrec(matrix_train, iteration=4, lamb=80, rank=200, seed=1):\n",
    "    \"\"\"\n",
    "    Function used to achieve generalized projected lrec w/o item-attribute embedding\n",
    "    :param matrix_train: user-item matrix with shape m*n\n",
    "    :param iteration: number of power iterations in randomized svd\n",
    "    :param lamb: parameter of penalty\n",
    "    :param rank: latent dimension size\n",
    "    :param seed: the seed of the pseudo random number generator to use when shuffling the data\n",
    "    :return: prediction in sparse matrix\n",
    "    \"\"\"\n",
    "    print (\"Randomized SVD\")\n",
    "    start_time = time.time()\n",
    "    P, sigma, Qt = randomized_svd(matrix_train,\n",
    "                                  n_components=rank,\n",
    "                                  n_iter=iteration,\n",
    "                                  random_state=seed)\n",
    "\n",
    "    RQ = matrix_train.dot(sparse.csc_matrix(Qt.T*np.sqrt(sigma)))\n",
    "\n",
    "    print(\"Elapsed: {}\".format(inhour(time.time() - start_time)))\n",
    "\n",
    "    print (\"Closed-Form Linear Optimization\")\n",
    "    start_time = time.time()\n",
    "    pre_inv = RQ.T.dot(RQ) + lamb * sparse.identity(rank, dtype=np.float32)\n",
    "    inverse = sparse.linalg.inv(pre_inv.tocsc())\n",
    "    Y = inverse.dot(RQ.T).dot(matrix_train)\n",
    "    print(\"Elapsed: {}\".format(inhour(time.time() - start_time)))\n",
    "\n",
    "    return np.array(RQ.todense()), np.array(Y.todense()), None\n",
    "\n",
    "def predict_vector(rating_vector, train_vector, remove_train=True):\n",
    "    dim = len(rating_vector)\n",
    "    candidate_index = np.argpartition(-rating_vector, dim-1)[:dim]\n",
    "    prediction_items = candidate_index[rating_vector[candidate_index].argsort()[::-1]]\n",
    "    \n",
    "    if remove_train:\n",
    "        return np.delete(prediction_items, np.isin(prediction_items, train_vector.nonzero()[1]).nonzero()[0])\n",
    "    else:\n",
    "        return prediction_items\n",
    "\n",
    "    \n",
    "    \n",
    "def predict_scores(matrix_U, matrix_V, bias=None,\n",
    "                   penalize = False,\n",
    "                   keyphrase_freq = I_K, \n",
    "                   critiqued_keyphrase = 0, \n",
    "                   matrix_Train = rtrain,\n",
    "                   alpha = 0):\n",
    "    prediction = matrix_U.dot(matrix_V.T)\n",
    "    # Penalize\n",
    "    if penalize == True:\n",
    "        items_with_keyphrase = np.ravel(keyphrase_freq.T[critiqued_keyphrase].nonzero()[1])\n",
    "        items_without_keyphrase = np.setdiff1d(np.arange(matrix_Train.shape[1]), items_with_keyphrase)\n",
    "        prediction[items_without_keyphrase] = alpha # penalize\n",
    "    \n",
    "    return prediction\n"
   ]
  },
  {
   "cell_type": "code",
   "execution_count": null,
   "metadata": {},
   "outputs": [],
   "source": []
  },
  {
   "cell_type": "markdown",
   "metadata": {},
   "source": [
    "# Evaluation"
   ]
  },
  {
   "cell_type": "code",
   "execution_count": 12,
   "metadata": {},
   "outputs": [],
   "source": [
    "# Evluation \n",
    "def recallk(vector_true_dense, hits, **unused):\n",
    "    hits = len(hits.nonzero()[0])\n",
    "    return float(hits)/len(vector_true_dense)\n",
    "\n",
    "def precisionk(vector_predict, hits, **unused):\n",
    "    hits = len(hits.nonzero()[0])\n",
    "    return float(hits)/len(vector_predict)\n",
    "\n",
    "\n",
    "def average_precisionk(vector_predict, hits, **unused):\n",
    "    precisions = np.cumsum(hits, dtype=np.float32)/range(1, len(vector_predict)+1)\n",
    "    return np.mean(precisions)\n",
    "\n",
    "\n",
    "def r_precision(vector_true_dense, vector_predict, **unused):\n",
    "    vector_predict_short = vector_predict[:len(vector_true_dense)]\n",
    "    hits = len(np.isin(vector_predict_short, vector_true_dense).nonzero()[0])\n",
    "    return float(hits)/len(vector_true_dense)\n",
    "\n",
    "\n",
    "def _dcg_support(size):\n",
    "    arr = np.arange(1, size+1)+1\n",
    "    return 1./np.log2(arr)\n",
    "\n",
    "\n",
    "def ndcg(vector_true_dense, vector_predict, hits):\n",
    "    idcg = np.sum(_dcg_support(len(vector_true_dense)))\n",
    "    dcg_base = _dcg_support(len(vector_predict))\n",
    "    dcg_base[np.logical_not(hits)] = 0\n",
    "    dcg = np.sum(dcg_base)\n",
    "    return dcg/idcg\n",
    "\n",
    "\n",
    "def click(hits, **unused):\n",
    "    first_hit = next((i for i, x in enumerate(hits) if x), None)\n",
    "    if first_hit is None:\n",
    "        return 5\n",
    "    else:\n",
    "        return first_hit/10\n",
    "\n",
    "\n",
    "def evaluate(matrix_Predict, matrix_Test, metric_names =['R-Precision', 'NDCG', 'Precision', 'Recall', 'MAP'], atK = [5, 10, 15, 20, 50], analytical=False):\n",
    "    \"\"\"\n",
    "    :param matrix_U: Latent representations of users, for LRecs it is RQ, for ALSs it is U\n",
    "    :param matrix_V: Latent representations of items, for LRecs it is Q, for ALSs it is V\n",
    "    :param matrix_Train: Rating matrix for training, features.\n",
    "    :param matrix_Test: Rating matrix for evaluation, true labels.\n",
    "    :param k: Top K retrieval\n",
    "    :param metric_names: Evaluation metrics\n",
    "    :return:\n",
    "    \"\"\"\n",
    "    global_metrics = {\n",
    "        \"R-Precision\": r_precision,\n",
    "        \"NDCG\": ndcg,\n",
    "        \"Clicks\": click\n",
    "    }\n",
    "\n",
    "    local_metrics = {\n",
    "        \"Precision\": precisionk,\n",
    "        \"Recall\": recallk,\n",
    "        \"MAP\": average_precisionk\n",
    "    }\n",
    "\n",
    "    output = dict()\n",
    "\n",
    "    num_users = matrix_Predict.shape[0]\n",
    "\n",
    "    for k in atK:\n",
    "\n",
    "        local_metric_names = list(set(metric_names).intersection(local_metrics.keys()))\n",
    "        results = {name: [] for name in local_metric_names}\n",
    "        topK_Predict = matrix_Predict[:, :k]\n",
    "\n",
    "        for user_index in tqdm(range(topK_Predict.shape[0])):\n",
    "            vector_predict = topK_Predict[user_index]\n",
    "            if len(vector_predict.nonzero()[0]) > 0:\n",
    "                vector_true = matrix_Test[user_index]\n",
    "                vector_true_dense = vector_true.nonzero()[1]\n",
    "                hits = np.isin(vector_predict, vector_true_dense)\n",
    "\n",
    "                if vector_true_dense.size > 0:\n",
    "                    for name in local_metric_names:\n",
    "                        results[name].append(local_metrics[name](vector_true_dense=vector_true_dense,\n",
    "                                                                 vector_predict=vector_predict,\n",
    "                                                                 hits=hits))\n",
    "\n",
    "        results_summary = dict()\n",
    "        if analytical:\n",
    "            for name in local_metric_names:\n",
    "                results_summary['{0}@{1}'.format(name, k)] = results[name]\n",
    "        else:\n",
    "            for name in local_metric_names:\n",
    "                results_summary['{0}@{1}'.format(name, k)] = (np.average(results[name]),\n",
    "                                                              1.96*np.std(results[name])/np.sqrt(num_users))\n",
    "        output.update(results_summary)\n",
    "\n",
    "    global_metric_names = list(set(metric_names).intersection(global_metrics.keys()))\n",
    "    results = {name: [] for name in global_metric_names}\n",
    "\n",
    "    topK_Predict = matrix_Predict[:]\n",
    "\n",
    "    for user_index in tqdm(range(topK_Predict.shape[0])):\n",
    "        vector_predict = topK_Predict[user_index]\n",
    "\n",
    "        if len(vector_predict.nonzero()[0]) > 0:\n",
    "            vector_true = matrix_Test[user_index]\n",
    "            vector_true_dense = vector_true.nonzero()[1]\n",
    "            hits = np.isin(vector_predict, vector_true_dense)\n",
    "\n",
    "            # if user_index == 1:\n",
    "            #     import ipdb;\n",
    "            #     ipdb.set_trace()\n",
    "\n",
    "            if vector_true_dense.size > 0:\n",
    "                for name in global_metric_names:\n",
    "                    results[name].append(global_metrics[name](vector_true_dense=vector_true_dense,\n",
    "                                                              vector_predict=vector_predict,\n",
    "                                                              hits=hits))\n",
    "\n",
    "    results_summary = dict()\n",
    "    if analytical:\n",
    "        for name in global_metric_names:\n",
    "            results_summary[name] = results[name]\n",
    "    else:\n",
    "        for name in global_metric_names:\n",
    "            results_summary[name] = (np.average(results[name]), 1.96*np.std(results[name])/np.sqrt(num_users))\n",
    "    output.update(results_summary)\n",
    "\n",
    "    return output\n",
    "\n"
   ]
  },
  {
   "cell_type": "markdown",
   "metadata": {},
   "source": [
    "## Single Step Critiquing Pipline"
   ]
  },
  {
   "cell_type": "markdown",
   "metadata": {},
   "source": [
    "### Initial Prediction"
   ]
  },
  {
   "cell_type": "code",
   "execution_count": 13,
   "metadata": {},
   "outputs": [],
   "source": [
    "# KNN initial Prediction\n",
    "def get_initial_prediction(user,X = normalize(U_K.todense()), y = normalize(train(rtrain)),\n",
    "                            matrix_Train = rtrain, k = 100):\n",
    "    \"\"\"\n",
    "    Get the initial knn predictions before critiquing pipelines\n",
    "    get the linear regression model for critiquing embedding (W_2)\n",
    "    get the initial user similarity matrix \n",
    "    k here is the parameter for KNN\n",
    "    \"\"\"\n",
    "    clf = Ridge(alpha=0.1).fit(X, y)\n",
    "    similarity = normalize(train(matrix_Train))\n",
    "    user_item_prediction_score = predict_vector(user, matrix_Train, k, similarity)\n",
    "    return user_item_prediction_score, clf\n"
   ]
  },
  {
   "cell_type": "code",
   "execution_count": 14,
   "metadata": {},
   "outputs": [],
   "source": [
    "# PLREC initial Prediction\n",
    "def predict_scores(matrix_U, matrix_V, bias=None,\n",
    "                   penalize = False,\n",
    "                   keyphrase_freq = I_K, \n",
    "                   critiqued_keyphrase = 0, \n",
    "                   matrix_Train = rtrain,\n",
    "                   alpha = 0):\n",
    "    \n",
    "    prediction = matrix_U.dot(matrix_V.T)\n",
    "    # Penalize\n",
    "    if penalize == True:\n",
    "        items_with_keyphrase = np.ravel(keyphrase_freq.T[critiqued_keyphrase].nonzero()[1])\n",
    "        items_without_keyphrase = np.setdiff1d(np.arange(matrix_Train.shape[1]), items_with_keyphrase)\n",
    "        prediction[items_without_keyphrase] = alpha # penalize\n",
    "    \n",
    "    return prediction\n"
   ]
  },
  {
   "cell_type": "markdown",
   "metadata": {},
   "source": [
    "### Forward predict"
   ]
  },
  {
   "cell_type": "markdown",
   "metadata": {},
   "source": [
    "Predict a single row (for single user)"
   ]
  },
  {
   "cell_type": "code",
   "execution_count": 15,
   "metadata": {},
   "outputs": [],
   "source": [
    "# KNN\n",
    "\n",
    "def predict_vector(user_index, matrix_train, k, similarity):\n",
    "    \"\"\"\n",
    "    res = similarity * matrix_train    if item_similarity_en = False\n",
    "    res = similarity * matrix_train.T  if item_similarity_en = True\n",
    "    get only user_index row\n",
    "    \"\"\"\n",
    "    vector_u = similarity[user_index]\n",
    "    \n",
    "    # Get closest K neighbors excluding user u self\n",
    "    similar_users = vector_u.argsort()[::-1][1:k+1]\n",
    "    # Get neighbors similarity weights and ratings\n",
    "    similar_users_weights = similarity[user_index][similar_users]\n",
    "    similar_users_ratings = matrix_train[similar_users].toarray()\n",
    "    prediction_scores_u = similar_users_ratings * similar_users_weights[:, np.newaxis]\n",
    "    \n",
    "    return np.sum(prediction_scores_u, axis=0)\n",
    "    \n",
    "\n",
    "def predict_vector(user_index, matrix_train, k, similarity, with_keyphrase = False, \n",
    "                   keyphrase_freq = None, critiqued_keyphrase = None, alpha = 0):\n",
    "    \"\"\"\n",
    "    get only user_index row\n",
    "    if with_keyphrase = True, then penalize items without critiqued_keyphrase to alpha (default = 0)\n",
    "    \"\"\"\n",
    "    vector_u = similarity[user_index]\n",
    "    \n",
    "    # Get closest K neighbors excluding user u self\n",
    "    similar_users = vector_u.argsort()[::-1][1:k+1]\n",
    "    # Get neighbors similarity weights and ratings\n",
    "    similar_users_weights = similarity[user_index][similar_users]\n",
    "    similar_users_ratings = matrix_train[similar_users].toarray()\n",
    "    \n",
    "    prediction_scores_u = similar_users_ratings * similar_users_weights[:, np.newaxis]\n",
    "    \n",
    "    if with_keyphrase == False:\n",
    "        return np.sum(prediction_scores_u, axis=0)\n",
    "    \n",
    "    # Only Predict items with critiqued_keyphrase \n",
    "    else:\n",
    "        prediction_scores = np.sum(prediction_scores_u, axis=0)\n",
    "#         print (prediction_scores)\n",
    "        #penalize items without critiqued keyphrase\n",
    "        items_with_keyphrase = np.ravel(keyphrase_freq.T[critiqued_keyphrase].nonzero()[1])\n",
    "#         print (items_with_keyphrase)\n",
    "        #Return the unique values in ar1 that are not in ar2.\n",
    "        items_without_keyphrase = np.setdiff1d(np.arange(matrix_train.shape[1]), items_with_keyphrase)\n",
    "        prediction_scores[items_without_keyphrase] = alpha # penalize\n",
    "        return prediction_scores\n",
    "#         print (prediction_scores)\n",
    "#         return prediction_scores/sum(prediction_scores)\n"
   ]
  },
  {
   "cell_type": "code",
   "execution_count": 16,
   "metadata": {},
   "outputs": [],
   "source": [
    "# PLREC\n",
    "def predict_vector(rating_vector, train_vector, remove_train=True):\n",
    "    dim = len(rating_vector)\n",
    "    candidate_index = np.argpartition(-rating_vector, dim-1)[:dim]\n",
    "    prediction_items = candidate_index[rating_vector[candidate_index].argsort()[::-1]]\n",
    "    \n",
    "    if remove_train:\n",
    "        return np.delete(prediction_items, np.isin(prediction_items, train_vector.nonzero()[1]).nonzero()[0])\n",
    "    else:\n",
    "        return prediction_items\n"
   ]
  },
  {
   "cell_type": "markdown",
   "metadata": {},
   "source": [
    "### Keyphrase Selection"
   ]
  },
  {
   "cell_type": "code",
   "execution_count": 17,
   "metadata": {},
   "outputs": [],
   "source": [
    "def get_valid_keyphrases(keyphrase_freq,top_recommendations,item = None,threshold=50,mutiple_keyphrases_en = False, top_items = None):\n",
    "    \"\"\"\n",
    "    Wrapper function to get either top 1 or top n keyphrases\n",
    "    \"\"\"\n",
    "    if mutiple_keyphrases_en:\n",
    "        top_keyphrases = []\n",
    "        for item in top_items:\n",
    "            top_keyphrases.extend(get_valid_keyphrases_for_one_item(keyphrase_freq,top_recommendations,item,threshold=threshold))\n",
    "        return np.ravel(list(set(top_keyphrases))) # remove duplicate and reformat to np array\n",
    "    else:\n",
    "        return get_valid_keyphrases_for_one_item(keyphrase_freq,top_recommendations,item,threshold=threshold)\n",
    "\n",
    "def get_valid_keyphrases_for_one_item(keyphrase_freq,top_recommendations, item,threshold=50):\n",
    "    \"\"\"\n",
    "    Get keyphrases of item that make sense\n",
    "    E.g. if the item has fewer than threshold=50 keyphrases, get all of them\n",
    "    otherwise get top 50 keyphrases\n",
    "    \"\"\"\n",
    "    keyphrase_length = len(keyphrase_freq[item].nonzero()[1])\n",
    "    if keyphrase_length<threshold:\n",
    "        return keyphrase_freq[item].nonzero()[1]\n",
    "    else:\n",
    "        keyphrases = np.ravel(keyphrase_freq[top_recommendations[0]].todense())\n",
    "        top_keyphrases = np.argsort(keyphrases)[::-1][:threshold]\n",
    "        return top_keyphrases\n",
    "    \n",
    "# For keyphrase selecting method # 3 \"diff\" \n",
    "def get_item_keyphrase_freq(keyphrase_freq,item):\n",
    "    \"\"\"\n",
    "    Get item's keyphrase frequency \n",
    "    \"\"\"\n",
    "    count = keyphrase_freq[item].todense()\n",
    "    return count/np.sum(count)\n",
    "\n",
    "def get_keyphrase_popularity(df,keyphrases):\n",
    "    \"\"\"\n",
    "    Get keyphrase popularity (count) from dataframe\n",
    "    \"\"\"\n",
    "    keyphrase_popularity = np.zeros(len(keyphrases)) #initialize\n",
    "    for i in range(len(df)):\n",
    "        keyphrase_vector = literal_eval(df['keyVector'][i])\n",
    "        keyphrase_popularity[keyphrase_vector] += 1 # count\n",
    "    return keyphrase_popularity"
   ]
  },
  {
   "cell_type": "markdown",
   "metadata": {},
   "source": [
    "### Critiquing Methods"
   ]
  },
  {
   "cell_type": "code",
   "execution_count": 41,
   "metadata": {},
   "outputs": [],
   "source": [
    "# One hot encoding of critiquing\n",
    "def get_critiqued_UK(user_keyphrase_frequency,user_index,critiqued_keyphrase):\n",
    "    \"\"\"\n",
    "    user_keyphrase_frequency is the U_K matrix (csr sparse matrix)\n",
    "    return the one-hot encoding of the critique\n",
    "    \"\"\"\n",
    "    U_K_cp = user_keyphrase_frequency.copy()\n",
    "    U_K_cp[user_index] = 0\n",
    "    U_K_cp[user_index,critiqued_keyphrase] = 1\n",
    "    return U_K_cp\n",
    "\n",
    "def project_one_hot_encoding(reg, user_keyphrase_frequency,user_index = 0,critiqued_keyphrase = 0, normalize_en = True):\n",
    "    \"\"\"\n",
    "    Return the projection on user_sim space from one-hot encoding of critiqued keyphrase\n",
    "    The res[user_index] should be target embedding row\n",
    "    \"\"\"\n",
    "    critiqued_matrix = get_critiqued_UK(user_keyphrase_frequency, user_index, critiqued_keyphrase)\n",
    "    res = reg.predict(critiqued_matrix)\n",
    "    if normalize_en:\n",
    "        res = normalize((res))\n",
    "    return res"
   ]
  },
  {
   "cell_type": "code",
   "execution_count": 18,
   "metadata": {},
   "outputs": [],
   "source": [
    "# Upper bound method \n",
    "def get_all_affected_items(wanted_keyphrases,keyphrase_freq):\n",
    "    res = []\n",
    "    for keyphrase in wanted_keyphrases:\n",
    "        items = np.ravel(keyphrase_freq.T[keyphrase].nonzero()[1])\n",
    "        res.extend(items)\n",
    "    return np.array(list(set(res)))\n",
    "    \n",
    "def select_only_wanted_keyphrase(top_recommendations, wanted_keyphrases, keyphrase_freq, matrix_Train = rtrain):\n",
    "    all_items_with_keyphrases = get_all_affected_items(wanted_keyphrases,keyphrase_freq)\n",
    "    affected_items = np.setdiff1d(np.arange(matrix_Train.shape[1]), all_items_with_keyphrases) # Get all other keyphrases\n",
    "    top_recommendations[~np.in1d(top_recommendations, affected_items)]\n",
    "    return top_recommendations\n",
    "\n",
    "def pruning(prediction_score, \n",
    "           wanted_keyphrases_random, \n",
    "           top_recommendations, \n",
    "           keyphrase_freq, \n",
    "           matrix_Train = rtrain,\n",
    "           alpha = 0):\n",
    "    items_with_keyphrase = get_all_affected_items(wanted_keyphrases_random, keyphrase_freq)\n",
    "    #Return the unique values in ar1 that are not in ar2.\n",
    "    items_without_keyphrase = np.setdiff1d(np.arange(matrix_Train.shape[1]), items_with_keyphrase)\n",
    "#     print (items_without_keyphrase)\n",
    "    print (sum(prediction_score[items_without_keyphrase]))\n",
    "    score = np.copy(prediction_score)\n",
    "    score[items_without_keyphrase] = alpha # penalize\n",
    "    return score"
   ]
  },
  {
   "cell_type": "markdown",
   "metadata": {},
   "source": [
    "### Utilities"
   ]
  },
  {
   "cell_type": "code",
   "execution_count": 19,
   "metadata": {},
   "outputs": [],
   "source": [
    "# Utility function for getting restaurant info from ItemIndex\n",
    "def get_business_df(path = \"../../data/yelp/business.json\" ):\n",
    "    with open(path,encoding=\"utf8\") as json_file:\n",
    "        data = json_file.readlines()\n",
    "        data = list(map(json.loads, data))\n",
    "    df = pd.DataFrame(data)\n",
    "    \n",
    "    return df\n",
    "\n",
    "def get_restaurant_info(business_df, business_id, name = True, review_count = True, stars = True ):\n",
    "    output_list = {}\n",
    "    row_idx = int(business_df.index[business_df['business_id'] == business_id].tolist()[0])\n",
    "    if name == True:\n",
    "        output_list['name'] = business_df['name'][row_idx].encode('utf-8').strip()\n",
    "    if review_count == True:\n",
    "        output_list['review_count'] = business_df['review_count'][row_idx]\n",
    "    if stars == True:\n",
    "        output_list['stars'] = business_df['stars'][row_idx] \n",
    "    return output_list\n",
    "\n",
    "# def get_businessid_from_Itemindex(ItemIndex_list, itemindex):\n",
    "#     return ItemIndex_list['business_id'].tolist()[itemindex]\n",
    "\n",
    "def get_restaurant_name(df_train, business_df, ItemIndex):\n",
    "    rows = np.where(df_train['ItemIndex'] == ItemIndex)\n",
    "    if len(rows)!= 0:\n",
    "        business_id = df_train.loc[rows[0][0]]['business_id']\n",
    "        item_info = get_restaurant_info(business_df, business_id)\n",
    "        return item_info['name']\n",
    "    return \"NOT_FOUND\""
   ]
  },
  {
   "cell_type": "markdown",
   "metadata": {},
   "source": [
    "### Experiment Function"
   ]
  },
  {
   "cell_type": "code",
   "execution_count": 22,
   "metadata": {},
   "outputs": [],
   "source": [
    "business_df = get_business_df()"
   ]
  },
  {
   "cell_type": "code",
   "execution_count": 27,
   "metadata": {},
   "outputs": [
    {
     "name": "stdout",
     "output_type": "stream",
     "text": [
      "Randomized SVD\n",
      "Elapsed: 00:00:00\n",
      "Closed-Form Linear Optimization\n",
      "Elapsed: 00:00:00\n"
     ]
    }
   ],
   "source": [
    "Y, RQt, Bias = plrec(rtrain,\n",
    "                    iteration = 10,\n",
    "                    lamb = 200,\n",
    "                    rank = 200)\n",
    "RQ = RQt.T\n",
    "reg = LinearRegression().fit(normalize(U_K), Y)"
   ]
  },
  {
   "cell_type": "code",
   "execution_count": 179,
   "metadata": {},
   "outputs": [],
   "source": [
    "# Set up dataframe \n",
    "\n",
    "# post_ranki is post rank with different lambda ratio for combining pre-post User similarity matrix \n",
    "\n",
    "columns = ['user_id', 'target_item', 'item_name', 'iter', 'pre_rank', \n",
    "           'top_prediction_item_name',\n",
    "           'post_rank_random_all',\n",
    "           'post_rank_random_upper',\n",
    "           'random_scores',\n",
    "           'post_rank_pop_all',\n",
    "           'post_rank_pop_upper',\n",
    "           'pop_scores',\n",
    "           'post_rank_diff_all',\n",
    "           'post_rank_diff_upper',\n",
    "           'diff_scores',\n",
    "           'critiqued_keyphrase_random',\n",
    "           'keyphrase_name_random',\n",
    "           'critiqued_keyphrase_pop',\n",
    "           'keyphrase_name_pop',\n",
    "           'critiqued_keyphrase_diff',\n",
    "           'keyphrase_name_diff',\n",
    "           'num_existing_keyphrases',\n",
    "           'pure_pruning_rank'] \n",
    "df = pd.DataFrame(columns=columns)\n",
    "row = {}"
   ]
  },
  {
   "cell_type": "code",
   "execution_count": 243,
   "metadata": {},
   "outputs": [],
   "source": [
    "def single_step_critiquing_plrec(user = 2, \n",
    "                           keyphrase_length_threshold = 150, \n",
    "                           max_iteration_threshold = 5,\n",
    "                           k = 50,\n",
    "                           df = df,\n",
    "                           row = row,\n",
    "                           business_df = business_df,\n",
    "                           keyphrases = keyphrases,\n",
    "                           keyphrase_popularity = keyphrase_popularity, \n",
    "                           keyphrase_selection_method = 'random',\n",
    "                           recommend_type = 'all',\n",
    "                           lams = [0,0.1,0.2,0.3,0.4,0.5,0.6,0.7,0.8,0.9,1],\n",
    "                           reg = reg, Y = Y, RQt = RQt, Bias = Bias,\n",
    "                           top_k_rec = 20, affected_weight = 1, unaffected_weight = -1\n",
    "                          ):\n",
    "    \"\"\"\n",
    "    k: HR@k \n",
    "    keyphrase_length_threshold: limit the number of keyphrases in top recommended item\n",
    "    keyphrase_selection_method: 'random': randomly select keyphrase from wanted_keyphrases\n",
    "                                'pop': always select the most popular keyphrase in wanted_keyphrases\n",
    "                                'diff': select the keyphrase with largest frequency difference between top recommended \n",
    "                                        item and target item.\n",
    "    recommend_type: 'all': recommend all items\n",
    "                    'upper' (only_with_critiqued_keyphrase): recommend items with only critiqued_keyphrase\n",
    "    lam: modified_matrix = lam*origianl_matrix + (1-lam)*critiquing_embedding \n",
    "    \"\"\"\n",
    "    \n",
    "    row['user_id'] = user\n",
    "    print ('User ID ', user)\n",
    "    \n",
    "    # Set up (move to header line later)\n",
    "    matrix_Train = rtrain\n",
    "    matrix_Test = rtest\n",
    "    keyphrase_freq = I_K\n",
    "    num_items = rtrain.shape[1]\n",
    "    max_wanted_keyphrase = 10 # for keyphrase_selection_method == \"diff\"\n",
    "    initial_user_similarity_embedding = normalize(train(matrix_Train))\n",
    "    \n",
    "    # Get wanted items \n",
    "    candidate_items = matrix_Test[user].nonzero()[1]\n",
    "    train_items = matrix_Train[user].nonzero()[1]\n",
    "    wanted_items = np.setdiff1d(candidate_items, train_items)\n",
    "    print ('wanted_items length: ',len(wanted_items))\n",
    "    \n",
    "    # Get initial forward prediction \n",
    "    prediction_score = predict_scores(matrix_U=RQ,\n",
    "                                      matrix_V=Y,\n",
    "                                      bias=Bias).T[user]\n",
    "    \n",
    "    # Get initial top recommended item(s)\n",
    "    top_recommendations = np.argsort(prediction_score)[::-1]\n",
    "    print (\"Initial top recommendation index\",top_recommendations[0])\n",
    "    try:\n",
    "        row['top_prediction_item_name'] = get_restaurant_name(df_train, business_df, top_recommendations[0])\n",
    "    except: \n",
    "        row['top_prediction_item_name'] = 'CANNOT_FIND'\n",
    "        print ('Cannot get restaurant name for ItemIndex: ', top_recommendations[0])\n",
    "    \n",
    "    \n",
    "    # Get top recommended item's keyphrases\n",
    "    top_item = top_recommendations[0] \n",
    "    top_recommend_keyphrases = get_valid_keyphrases(keyphrase_freq,\n",
    "                                                    top_recommendations, \n",
    "                                                    item = top_item,\n",
    "                                                    threshold=keyphrase_length_threshold,\n",
    "                                                    mutiple_keyphrases_en = False, \n",
    "                                                    top_items = None)\n",
    "    top_recommended_keyphrase_freq = get_item_keyphrase_freq(keyphrase_freq,item = top_item)\n",
    "    \n",
    "    \n",
    "    #####################################\n",
    "    # For each item, do the critiquing\n",
    "    \n",
    "    #limit the item to only 10\n",
    "    num_target_item = 0 # initialize item count\n",
    "    \n",
    "    for item in wanted_items:    \n",
    "        print ('target_item: ', item)\n",
    "        row['target_item'] = item\n",
    "        try:\n",
    "            row['item_name'] = get_restaurant_name(df_train, business_df, item)\n",
    "        except:\n",
    "            row['item_name'] = 'CANNOT_FIND'\n",
    "            print ('Cannot get restaurant name for ItemIndex: ', item)\n",
    "\n",
    "        # Get pre-critiquing rank\n",
    "        initial_rank = np.where(item == np.argsort(prediction_score)[::-1])[0][0]\n",
    "        row['pre_rank'] = int(initial_rank)\n",
    "\n",
    "        # Get the target item's existing keyphrases\n",
    "        item_keyphrases = keyphrase_freq[item].nonzero()[1]\n",
    "        \n",
    "        # For diff \n",
    "        target_keyphrase_freq = get_item_keyphrase_freq(keyphrase_freq,item = item)\n",
    "        diff_keyphrase_freq = target_keyphrase_freq - top_recommended_keyphrase_freq\n",
    "        \n",
    "        wanted_keyphrases_random = np.setdiff1d(item_keyphrases,top_recommend_keyphrases)\n",
    "        wanted_keyphrases_pop = np.setdiff1d(item_keyphrases,top_recommend_keyphrases)\n",
    "        wanted_keyphrases_diff = np.argsort(np.ravel(diff_keyphrase_freq))[::-1][:max_wanted_keyphrase]\n",
    "        \n",
    "        pruned_prediction_score = pruning(prediction_score, \n",
    "                                           wanted_keyphrases_random, \n",
    "                                           top_recommendations, \n",
    "                                           keyphrase_freq, \n",
    "                                           matrix_Train = rtrain)\n",
    "        pure_pruning_rank = np.where(item == np.argsort(pruned_prediction_score)[::-1])[0][0]\n",
    "        if pure_pruning_rank>initial_rank:\n",
    "            pure_pruning_rank = initial_rank\n",
    "        row['pure_pruning_rank'] = int(pure_pruning_rank)    \n",
    "        \n",
    "        affected_items = np.array([])\n",
    "        modified_matrix = initial_user_similarity_embedding # initialize user similarity embedding\n",
    "        \n",
    "        #############################################\n",
    "        # Critiquing iteration\n",
    "        for iteration in range(max_iteration_threshold):\n",
    "            print ('cur_iter ', iteration)\n",
    "            row['iter'] = iteration\n",
    "\n",
    "            if len(wanted_keyphrases_random) == 0 or len(wanted_keyphrases_diff) == 0: \n",
    "                print ('no more keyphrase available')\n",
    "                break\n",
    "            critiqued_keyphrase_random = np.random.choice(wanted_keyphrases_random, size=1, replace=False)[0]\n",
    "            critiqued_keyphrase_pop = wanted_keyphrases_pop[np.argmin(keyphrase_popularity[wanted_keyphrases_pop])] # Select the least popular\n",
    "            critiqued_keyphrase_diff = wanted_keyphrases_diff[0]\n",
    "            \n",
    "            row['critiqued_keyphrase_random'] = critiqued_keyphrase_random\n",
    "            row['keyphrase_name_random'] = keyphrases[critiqued_keyphrase_random]\n",
    "            row['critiqued_keyphrase_pop'] = critiqued_keyphrase_pop\n",
    "            row['keyphrase_name_pop'] = keyphrases[critiqued_keyphrase_pop]\n",
    "            row['critiqued_keyphrase_diff'] = critiqued_keyphrase_diff\n",
    "            row['keyphrase_name_diff'] = keyphrases[critiqued_keyphrase_diff]\n",
    "            \n",
    "            # Do not critique this keyphrase next time\n",
    "            wanted_keyphrases_random = np.delete(wanted_keyphrases_random, np.where(critiqued_keyphrase_random == wanted_keyphrases_random))\n",
    "            wanted_keyphrases_pop = np.delete(wanted_keyphrases_pop, np.where(critiqued_keyphrase_pop == wanted_keyphrases_pop))\n",
    "            wanted_keyphrases_diff = np.delete(wanted_keyphrases_diff, np.where(critiqued_keyphrase_diff == wanted_keyphrases_diff))\n",
    "            \n",
    "            # Critiquing Embedding\n",
    "\n",
    "            # One hot encoding\n",
    "            critiqued_matrix_onehot = get_critiqued_UK(U_K,user,critiqued_keyphrase_random)\n",
    "            critiqued_matrix = reg.predict(critiqued_matrix_onehot)\n",
    "            critiqued_matrix_random =critiqued_matrix\n",
    "\n",
    "            critiqued_matrix_onehot = get_critiqued_UK(U_K,user,critiqued_keyphrase_pop)\n",
    "            critiqued_matrix = reg.predict(critiqued_matrix_onehot)\n",
    "            critiqued_matrix_pop = critiqued_matrix\n",
    "\n",
    "            critiqued_matrix_onehot = get_critiqued_UK(U_K,user,critiqued_keyphrase_diff)\n",
    "            critiqued_matrix = reg.predict(critiqued_matrix_onehot)\n",
    "            critiqued_matrix_diff = critiqued_matrix\n",
    "\n",
    "\n",
    "            # Warning!!! The following is used only for testing single step critiquing, \n",
    "            # for full average critiquing, use the above commented line \n",
    "            post_ranks_random_all = []\n",
    "            post_ranks_random_upper = []\n",
    "            random_scores = []\n",
    "            post_ranks_pop_all = []\n",
    "            post_ranks_pop_upper = []\n",
    "            pop_scores = []\n",
    "            post_ranks_diff_all = []\n",
    "            post_ranks_diff_upper = []\n",
    "            diff_scores = []\n",
    "            \n",
    "            num_items = matrix_Train.shape[1]\n",
    "            affected_items_random = keyphrase_freq[:,critiqued_keyphrase_random].nonzero()[0]\n",
    "            affected_items_pop = keyphrase_freq[:,critiqued_keyphrase_pop].nonzero()[0]\n",
    "            affected_items_diff = keyphrase_freq[:,critiqued_keyphrase_diff].nonzero()[0]\n",
    "            unaffected_items_random = np.setdiff1d(range(num_items), affected_items_random)\n",
    "            unaffected_items_pop = np.setdiff1d(range(num_items), affected_items_pop)\n",
    "            unaffected_items_diff = np.setdiff1d(range(num_items), affected_items_diff)\n",
    "            \n",
    "            for lam in lams:\n",
    "                modified_matrix_random = (1-lam)*Y + lam*critiqued_matrix_random \n",
    "                modified_matrix_pop = (1-lam)*Y + lam*critiqued_matrix_pop \n",
    "                modified_matrix_diff = (1-lam)*Y + lam*critiqued_matrix_diff \n",
    "                \n",
    "                # Random\n",
    "                prediction_scores_u = predict_scores(matrix_U=modified_matrix_random[user], \n",
    "                                     matrix_V=RQ,\n",
    "                                     )\n",
    "                prediction_items = predict_vector(rating_vector=prediction_scores_u,\n",
    "                                                  train_vector=matrix_Train[user],\n",
    "                                                  remove_train=False)\n",
    "                \n",
    "                item_rank = np.where(prediction_items == item)[0][0]\n",
    "                post_ranks_random_all.append(item_rank)\n",
    "                \n",
    "                # Random scores\n",
    "                affected_hit = sum(np.in1d(prediction_items[:top_k_rec],affected_items_random))\n",
    "                unaffected_hit = sum(np.in1d(prediction_items[:top_k_rec],unaffected_items_random))\n",
    "                score = affected_weight*affected_hit + unaffected_weight*unaffected_hit\n",
    "                random_scores.append(score)\n",
    "                \n",
    "                # Random upper \n",
    "                prediction_scores_u = predict_scores(matrix_U=modified_matrix_random[user], \n",
    "                                                     matrix_V=RQ, \n",
    "                                                     bias=None,\n",
    "                                                   penalize = True,\n",
    "                                                   keyphrase_freq = keyphrase_freq, \n",
    "                                                   critiqued_keyphrase = critiqued_keyphrase_random, \n",
    "                                                   matrix_Train = matrix_Train,\n",
    "                                                   alpha = 0)\n",
    "                prediction_items = predict_vector(rating_vector=prediction_scores_u,\n",
    "                                                  train_vector=matrix_Train[user],\n",
    "                                                  remove_train=False)\n",
    "                item_rank = np.where(prediction_items == item)[0][0]\n",
    "                post_ranks_random_upper.append(item_rank)\n",
    "                \n",
    "                # Pop\n",
    "                prediction_scores_u = predict_scores(matrix_U=modified_matrix_pop[user], \n",
    "                                     matrix_V=RQ,\n",
    "                                     )\n",
    "                prediction_items = predict_vector(rating_vector=prediction_scores_u,\n",
    "                                                  train_vector=matrix_Train[user],\n",
    "                                                  remove_train=False)\n",
    "                \n",
    "                item_rank = np.where(prediction_items == item)[0][0]\n",
    "                post_ranks_pop_all.append(item_rank)\n",
    "                \n",
    "                \n",
    "                # pop scores\n",
    "                affected_hit = sum(np.in1d(prediction_items[:top_k_rec],affected_items_pop))\n",
    "                unaffected_hit = sum(np.in1d(prediction_items[:top_k_rec],unaffected_items_pop))\n",
    "                score = affected_weight*affected_hit + unaffected_weight*unaffected_hit\n",
    "                pop_scores.append(score)\n",
    "                \n",
    "                # Pop upper \n",
    "                \n",
    "                prediction_scores_u = predict_scores(matrix_U=modified_matrix_pop[user], \n",
    "                                                     matrix_V=RQ, \n",
    "                                                     bias=None,\n",
    "                                                   penalize = True,\n",
    "                                                   keyphrase_freq = keyphrase_freq, \n",
    "                                                   critiqued_keyphrase = critiqued_keyphrase_pop, \n",
    "                                                   matrix_Train = matrix_Train,\n",
    "                                                   alpha = 0)\n",
    "                prediction_items = predict_vector(rating_vector=prediction_scores_u,\n",
    "                                                  train_vector=matrix_Train[user],\n",
    "                                                  remove_train=False)\n",
    "                item_rank = np.where(prediction_items == item)[0][0]\n",
    "                post_ranks_pop_upper.append(item_rank)\n",
    "                \n",
    "                # Diff\n",
    "                prediction_scores_u = predict_scores(matrix_U=modified_matrix_diff[user], \n",
    "                                     matrix_V=RQ,\n",
    "                                     )\n",
    "                prediction_items = predict_vector(rating_vector=prediction_scores_u,\n",
    "                                                  train_vector=matrix_Train[user],\n",
    "                                                  remove_train=False)\n",
    "                \n",
    "                item_rank = np.where(prediction_items == item)[0][0]\n",
    "                post_ranks_diff_all.append(item_rank)\n",
    "                \n",
    "                # Diff scores\n",
    "                affected_hit = sum(np.in1d(prediction_items[:top_k_rec],affected_items_diff))\n",
    "                unaffected_hit = sum(np.in1d(prediction_items[:top_k_rec],unaffected_items_diff))\n",
    "                score = affected_weight*affected_hit + unaffected_weight*unaffected_hit\n",
    "                diff_scores.append(score)\n",
    "                \n",
    "                # Diff upper \n",
    "                prediction_scores_u = predict_scores(matrix_U=modified_matrix_diff[user], \n",
    "                                                     matrix_V=RQ, \n",
    "                                                     bias=None,\n",
    "                                                   penalize = True,\n",
    "                                                   keyphrase_freq = keyphrase_freq, \n",
    "                                                   critiqued_keyphrase = critiqued_keyphrase_diff, \n",
    "                                                   matrix_Train = matrix_Train,\n",
    "                                                   alpha = 0)\n",
    "                prediction_items = predict_vector(rating_vector=prediction_scores_u,\n",
    "                                                  train_vector=matrix_Train[user],\n",
    "                                                  remove_train=False)\n",
    "                item_rank = np.where(prediction_items == item)[0][0]\n",
    "                post_ranks_diff_upper.append(item_rank)\n",
    "                \n",
    "                \n",
    "            row['post_rank_random_all'] = post_ranks_random_all\n",
    "            row['post_rank_random_upper'] = post_ranks_random_upper\n",
    "            row['random_scores'] = random_scores\n",
    "            row['post_rank_pop_all'] = post_ranks_pop_all\n",
    "            row['post_rank_pop_upper'] = post_ranks_pop_upper\n",
    "            row['pop_scores'] = pop_scores\n",
    "            row['post_rank_diff_all'] = post_ranks_diff_all\n",
    "            row['post_rank_diff_upper'] = post_ranks_diff_upper\n",
    "            row['diff_scores'] = diff_scores\n",
    "            df = df.append(row, ignore_index=True)\n",
    "            \n",
    "\n",
    "        # break after got 10 target items \n",
    "        num_target_item += 1\n",
    "        if num_target_item >10: # only want max 10 items per user\n",
    "            break\n",
    "            \n",
    "    return df"
   ]
  },
  {
   "cell_type": "code",
   "execution_count": 170,
   "metadata": {},
   "outputs": [],
   "source": [
    "single_step_with_avg_path = '../tables/critiquing/plrec_with_obj/'"
   ]
  },
  {
   "cell_type": "code",
   "execution_count": 252,
   "metadata": {
    "scrolled": true
   },
   "outputs": [
    {
     "name": "stdout",
     "output_type": "stream",
     "text": [
      "User ID  300\n",
      "wanted_items length:  14\n",
      "Initial top recommendation index 5010\n",
      "target_item:  101\n",
      "41.544414114716346\n",
      "cur_iter  0\n"
     ]
    },
    {
     "name": "stderr",
     "output_type": "stream",
     "text": [
      "/Users/litos/opt/anaconda3/envs/tensorflow_cpu/lib/python3.6/site-packages/scipy/sparse/_index.py:126: SparseEfficiencyWarning: Changing the sparsity structure of a csr_matrix is expensive. lil_matrix is more efficient.\n",
      "  self._set_arrayXarray(i, j, x)\n"
     ]
    },
    {
     "name": "stdout",
     "output_type": "stream",
     "text": [
      "cur_iter  1\n",
      "cur_iter  2\n",
      "cur_iter  3\n",
      "no more keyphrase available\n",
      "target_item:  886\n",
      "17.15062284177111\n",
      "cur_iter  0\n"
     ]
    },
    {
     "name": "stderr",
     "output_type": "stream",
     "text": [
      "/Users/litos/opt/anaconda3/envs/tensorflow_cpu/lib/python3.6/site-packages/scipy/sparse/_index.py:126: SparseEfficiencyWarning: Changing the sparsity structure of a csr_matrix is expensive. lil_matrix is more efficient.\n",
      "  self._set_arrayXarray(i, j, x)\n"
     ]
    },
    {
     "name": "stdout",
     "output_type": "stream",
     "text": [
      "cur_iter  1\n",
      "cur_iter  2\n",
      "cur_iter  3\n",
      "cur_iter  4\n",
      "cur_iter  5\n",
      "cur_iter  6\n",
      "cur_iter  7\n",
      "cur_iter  8\n",
      "cur_iter  9\n",
      "target_item:  968\n",
      "16.47581896918564\n",
      "cur_iter  0\n"
     ]
    },
    {
     "name": "stderr",
     "output_type": "stream",
     "text": [
      "/Users/litos/opt/anaconda3/envs/tensorflow_cpu/lib/python3.6/site-packages/scipy/sparse/_index.py:126: SparseEfficiencyWarning: Changing the sparsity structure of a csr_matrix is expensive. lil_matrix is more efficient.\n",
      "  self._set_arrayXarray(i, j, x)\n"
     ]
    },
    {
     "name": "stdout",
     "output_type": "stream",
     "text": [
      "cur_iter  1\n",
      "cur_iter  2\n",
      "cur_iter  3\n",
      "cur_iter  4\n",
      "cur_iter  5\n",
      "cur_iter  6\n",
      "cur_iter  7\n",
      "cur_iter  8\n",
      "cur_iter  9\n",
      "target_item:  1620\n",
      "140.59583212701546\n",
      "cur_iter  0\n",
      "no more keyphrase available\n",
      "target_item:  1898\n",
      "10.686736359377392\n",
      "cur_iter  0\n"
     ]
    },
    {
     "name": "stderr",
     "output_type": "stream",
     "text": [
      "/Users/litos/opt/anaconda3/envs/tensorflow_cpu/lib/python3.6/site-packages/scipy/sparse/_index.py:126: SparseEfficiencyWarning: Changing the sparsity structure of a csr_matrix is expensive. lil_matrix is more efficient.\n",
      "  self._set_arrayXarray(i, j, x)\n"
     ]
    },
    {
     "name": "stdout",
     "output_type": "stream",
     "text": [
      "cur_iter  1\n",
      "cur_iter  2\n",
      "cur_iter  3\n",
      "cur_iter  4\n",
      "cur_iter  5\n",
      "cur_iter  6\n",
      "cur_iter  7\n",
      "cur_iter  8\n",
      "cur_iter  9\n",
      "target_item:  2803\n",
      "11.87170214222715\n",
      "cur_iter  0\n"
     ]
    },
    {
     "name": "stderr",
     "output_type": "stream",
     "text": [
      "/Users/litos/opt/anaconda3/envs/tensorflow_cpu/lib/python3.6/site-packages/scipy/sparse/_index.py:126: SparseEfficiencyWarning: Changing the sparsity structure of a csr_matrix is expensive. lil_matrix is more efficient.\n",
      "  self._set_arrayXarray(i, j, x)\n"
     ]
    },
    {
     "name": "stdout",
     "output_type": "stream",
     "text": [
      "cur_iter  1\n",
      "cur_iter  2\n",
      "cur_iter  3\n",
      "cur_iter  4\n",
      "cur_iter  5\n",
      "cur_iter  6\n",
      "cur_iter  7\n",
      "cur_iter  8\n",
      "cur_iter  9\n",
      "target_item:  3822\n",
      "131.2818960825971\n",
      "cur_iter  0\n"
     ]
    },
    {
     "name": "stderr",
     "output_type": "stream",
     "text": [
      "/Users/litos/opt/anaconda3/envs/tensorflow_cpu/lib/python3.6/site-packages/scipy/sparse/_index.py:126: SparseEfficiencyWarning: Changing the sparsity structure of a csr_matrix is expensive. lil_matrix is more efficient.\n",
      "  self._set_arrayXarray(i, j, x)\n"
     ]
    },
    {
     "name": "stdout",
     "output_type": "stream",
     "text": [
      "cur_iter  1\n",
      "no more keyphrase available\n",
      "target_item:  4025\n",
      "44.43968693098577\n",
      "cur_iter  0\n"
     ]
    },
    {
     "name": "stderr",
     "output_type": "stream",
     "text": [
      "/Users/litos/opt/anaconda3/envs/tensorflow_cpu/lib/python3.6/site-packages/scipy/sparse/_index.py:126: SparseEfficiencyWarning: Changing the sparsity structure of a csr_matrix is expensive. lil_matrix is more efficient.\n",
      "  self._set_arrayXarray(i, j, x)\n"
     ]
    },
    {
     "name": "stdout",
     "output_type": "stream",
     "text": [
      "cur_iter  1\n",
      "cur_iter  2\n",
      "cur_iter  3\n",
      "cur_iter  4\n",
      "no more keyphrase available\n",
      "target_item:  4906\n",
      "28.51678266046656\n",
      "cur_iter  0\n"
     ]
    },
    {
     "name": "stderr",
     "output_type": "stream",
     "text": [
      "/Users/litos/opt/anaconda3/envs/tensorflow_cpu/lib/python3.6/site-packages/scipy/sparse/_index.py:126: SparseEfficiencyWarning: Changing the sparsity structure of a csr_matrix is expensive. lil_matrix is more efficient.\n",
      "  self._set_arrayXarray(i, j, x)\n"
     ]
    },
    {
     "name": "stdout",
     "output_type": "stream",
     "text": [
      "cur_iter  1\n",
      "cur_iter  2\n",
      "cur_iter  3\n",
      "cur_iter  4\n",
      "cur_iter  5\n",
      "cur_iter  6\n",
      "cur_iter  7\n",
      "cur_iter  8\n",
      "cur_iter  9\n",
      "target_item:  5041\n",
      "11.519449157189229\n",
      "cur_iter  0\n"
     ]
    },
    {
     "name": "stderr",
     "output_type": "stream",
     "text": [
      "/Users/litos/opt/anaconda3/envs/tensorflow_cpu/lib/python3.6/site-packages/scipy/sparse/_index.py:126: SparseEfficiencyWarning: Changing the sparsity structure of a csr_matrix is expensive. lil_matrix is more efficient.\n",
      "  self._set_arrayXarray(i, j, x)\n"
     ]
    },
    {
     "name": "stdout",
     "output_type": "stream",
     "text": [
      "cur_iter  1\n",
      "cur_iter  2\n",
      "cur_iter  3\n",
      "cur_iter  4\n",
      "cur_iter  5\n",
      "cur_iter  6\n",
      "cur_iter  7\n",
      "cur_iter  8\n",
      "cur_iter  9\n",
      "target_item:  5098\n",
      "8.70338155420177\n",
      "cur_iter  0\n"
     ]
    },
    {
     "name": "stderr",
     "output_type": "stream",
     "text": [
      "/Users/litos/opt/anaconda3/envs/tensorflow_cpu/lib/python3.6/site-packages/scipy/sparse/_index.py:126: SparseEfficiencyWarning: Changing the sparsity structure of a csr_matrix is expensive. lil_matrix is more efficient.\n",
      "  self._set_arrayXarray(i, j, x)\n"
     ]
    },
    {
     "name": "stdout",
     "output_type": "stream",
     "text": [
      "cur_iter  1\n",
      "cur_iter  2\n",
      "cur_iter  3\n",
      "cur_iter  4\n",
      "cur_iter  5\n",
      "cur_iter  6\n",
      "cur_iter  7\n",
      "cur_iter  8\n",
      "cur_iter  9\n"
     ]
    }
   ],
   "source": [
    "# PLREC\n",
    "columns = ['user_id', 'target_item', 'item_name', 'iter', 'pre_rank', \n",
    "           'top_prediction_item_name',\n",
    "           'post_rank_random_all',\n",
    "           'post_rank_random_upper',\n",
    "           'post_rank_pop_all',\n",
    "           'post_rank_pop_upper',\n",
    "           'post_rank_diff_all',\n",
    "           'post_rank_diff_upper',\n",
    "           'critiqued_keyphrase_random',\n",
    "           'keyphrase_name_random',\n",
    "           'critiqued_keyphrase_pop',\n",
    "           'keyphrase_name_pop',\n",
    "           'critiqued_keyphrase_diff',\n",
    "           'keyphrase_name_diff',\n",
    "           'num_existing_keyphrases',\n",
    "           'pure_pruning_rank'] \n",
    "df = pd.DataFrame(columns=columns)\n",
    "row = {}\n",
    "\n",
    "#only_with_critiqued_keyphrase\n",
    "for user in range(300,301):\n",
    "    df = single_step_critiquing_plrec(user = user, \n",
    "                           keyphrase_length_threshold = 230, \n",
    "                           max_iteration_threshold = 10,\n",
    "                           k = 50,\n",
    "                           df = df,\n",
    "                           row = row,\n",
    "                           business_df = business_df,\n",
    "                           keyphrases = keyphrases,\n",
    "                           keyphrase_popularity = keyphrase_popularity,\n",
    "                           keyphrase_selection_method = 'random',\n",
    "                           recommend_type = 'all',\n",
    "                           top_k_rec=40\n",
    "                           )\n",
    "df.to_csv(single_step_with_avg_path+\"test.csv\")"
   ]
  },
  {
   "cell_type": "code",
   "execution_count": 253,
   "metadata": {},
   "outputs": [
    {
     "data": {
      "text/html": [
       "<div>\n",
       "<style scoped>\n",
       "    .dataframe tbody tr th:only-of-type {\n",
       "        vertical-align: middle;\n",
       "    }\n",
       "\n",
       "    .dataframe tbody tr th {\n",
       "        vertical-align: top;\n",
       "    }\n",
       "\n",
       "    .dataframe thead th {\n",
       "        text-align: right;\n",
       "    }\n",
       "</style>\n",
       "<table border=\"1\" class=\"dataframe\">\n",
       "  <thead>\n",
       "    <tr style=\"text-align: right;\">\n",
       "      <th></th>\n",
       "      <th>user_id</th>\n",
       "      <th>target_item</th>\n",
       "      <th>item_name</th>\n",
       "      <th>iter</th>\n",
       "      <th>pre_rank</th>\n",
       "      <th>top_prediction_item_name</th>\n",
       "      <th>post_rank_random_all</th>\n",
       "      <th>post_rank_random_upper</th>\n",
       "      <th>post_rank_pop_all</th>\n",
       "      <th>post_rank_pop_upper</th>\n",
       "      <th>...</th>\n",
       "      <th>keyphrase_name_random</th>\n",
       "      <th>critiqued_keyphrase_pop</th>\n",
       "      <th>keyphrase_name_pop</th>\n",
       "      <th>critiqued_keyphrase_diff</th>\n",
       "      <th>keyphrase_name_diff</th>\n",
       "      <th>num_existing_keyphrases</th>\n",
       "      <th>pure_pruning_rank</th>\n",
       "      <th>diff_scores</th>\n",
       "      <th>pop_scores</th>\n",
       "      <th>random_scores</th>\n",
       "    </tr>\n",
       "  </thead>\n",
       "  <tbody>\n",
       "    <tr>\n",
       "      <th>0</th>\n",
       "      <td>300</td>\n",
       "      <td>101</td>\n",
       "      <td>b'Cabin Fever'</td>\n",
       "      <td>0</td>\n",
       "      <td>4830</td>\n",
       "      <td>b'Sansotei Ramen'</td>\n",
       "      <td>[4830, 4739, 4610, 4486, 4284, 3670, 3412, 316...</td>\n",
       "      <td>[6831, 6828, 6810, 6804, 6781, 903, 872, 841, ...</td>\n",
       "      <td>[4830, 4870, 4919, 4942, 4934, 4890, 4815, 468...</td>\n",
       "      <td>[7062, 7062, 7064, 7074, 7079, 7070, 7047, 702...</td>\n",
       "      <td>...</td>\n",
       "      <td>latte</td>\n",
       "      <td>155</td>\n",
       "      <td>refill</td>\n",
       "      <td>53</td>\n",
       "      <td>tea</td>\n",
       "      <td>NaN</td>\n",
       "      <td>4830</td>\n",
       "      <td>[40, 40, 38, 38, 38, 40, 40, 40, 40, 40, 40]</td>\n",
       "      <td>[-12, -8, -8, -6, -6, 0, 2, 10, 8, 6, 6]</td>\n",
       "      <td>[14, 12, 12, 12, 14, 16, 18, 16, 20, 22, 22]</td>\n",
       "    </tr>\n",
       "    <tr>\n",
       "      <th>1</th>\n",
       "      <td>300</td>\n",
       "      <td>101</td>\n",
       "      <td>b'Cabin Fever'</td>\n",
       "      <td>1</td>\n",
       "      <td>4830</td>\n",
       "      <td>b'Sansotei Ramen'</td>\n",
       "      <td>[4830, 4870, 4919, 4942, 4934, 4890, 4815, 468...</td>\n",
       "      <td>[7062, 7062, 7064, 7074, 7079, 7070, 7047, 702...</td>\n",
       "      <td>[4830, 4739, 4610, 4486, 4284, 3670, 3412, 316...</td>\n",
       "      <td>[6831, 6828, 6810, 6804, 6781, 903, 872, 841, ...</td>\n",
       "      <td>...</td>\n",
       "      <td>refill</td>\n",
       "      <td>105</td>\n",
       "      <td>latte</td>\n",
       "      <td>153</td>\n",
       "      <td>friendly</td>\n",
       "      <td>NaN</td>\n",
       "      <td>4830</td>\n",
       "      <td>[40, 40, 40, 40, 40, 40, 40, 40, 40, 38, 38]</td>\n",
       "      <td>[14, 12, 12, 12, 14, 16, 18, 16, 20, 22, 22]</td>\n",
       "      <td>[-12, -8, -8, -6, -6, 0, 2, 10, 8, 6, 6]</td>\n",
       "    </tr>\n",
       "    <tr>\n",
       "      <th>2</th>\n",
       "      <td>300</td>\n",
       "      <td>101</td>\n",
       "      <td>b'Cabin Fever'</td>\n",
       "      <td>2</td>\n",
       "      <td>4830</td>\n",
       "      <td>b'Sansotei Ramen'</td>\n",
       "      <td>[4830, 4720, 4589, 4394, 3757, 3473, 3180, 286...</td>\n",
       "      <td>[6685, 6671, 6655, 6630, 1151, 1109, 1060, 100...</td>\n",
       "      <td>[4830, 4720, 4589, 4394, 3757, 3473, 3180, 286...</td>\n",
       "      <td>[6685, 6671, 6655, 6630, 1151, 1109, 1060, 100...</td>\n",
       "      <td>...</td>\n",
       "      <td>bread</td>\n",
       "      <td>37</td>\n",
       "      <td>bread</td>\n",
       "      <td>105</td>\n",
       "      <td>latte</td>\n",
       "      <td>NaN</td>\n",
       "      <td>4830</td>\n",
       "      <td>[14, 12, 12, 12, 14, 16, 18, 16, 20, 22, 22]</td>\n",
       "      <td>[12, 12, 14, 12, 14, 18, 20, 18, 18, 24, 24]</td>\n",
       "      <td>[12, 12, 14, 12, 14, 18, 20, 18, 18, 24, 24]</td>\n",
       "    </tr>\n",
       "    <tr>\n",
       "      <th>3</th>\n",
       "      <td>300</td>\n",
       "      <td>886</td>\n",
       "      <td>b'Wok &amp; Roast Chinese BBQ'</td>\n",
       "      <td>0</td>\n",
       "      <td>3515</td>\n",
       "      <td>b'Sansotei Ramen'</td>\n",
       "      <td>[3515, 2877, 2365, 2086, 1917, 1813, 1747, 171...</td>\n",
       "      <td>[26, 29, 31, 30, 30, 31, 32, 33, 33, 33, 32]</td>\n",
       "      <td>[3515, 2877, 2365, 2086, 1917, 1813, 1747, 171...</td>\n",
       "      <td>[26, 29, 31, 30, 30, 31, 32, 33, 33, 33, 32]</td>\n",
       "      <td>...</td>\n",
       "      <td>general tao</td>\n",
       "      <td>223</td>\n",
       "      <td>general tao</td>\n",
       "      <td>27</td>\n",
       "      <td>bbq</td>\n",
       "      <td>NaN</td>\n",
       "      <td>2442</td>\n",
       "      <td>[-10, -12, -10, -10, -10, -2, -2, -4, 0, 4, 6]</td>\n",
       "      <td>[-40, -40, -40, -38, -36, -34, -34, -34, -34, ...</td>\n",
       "      <td>[-40, -40, -40, -38, -36, -34, -34, -34, -34, ...</td>\n",
       "    </tr>\n",
       "    <tr>\n",
       "      <th>4</th>\n",
       "      <td>300</td>\n",
       "      <td>886</td>\n",
       "      <td>b'Wok &amp; Roast Chinese BBQ'</td>\n",
       "      <td>1</td>\n",
       "      <td>3515</td>\n",
       "      <td>b'Sansotei Ramen'</td>\n",
       "      <td>[3515, 3364, 3166, 2981, 2744, 2530, 2358, 221...</td>\n",
       "      <td>[800, 784, 761, 735, 712, 675, 648, 621, 589, ...</td>\n",
       "      <td>[3515, 2822, 2360, 2019, 1796, 1669, 1590, 151...</td>\n",
       "      <td>[108, 115, 124, 128, 125, 123, 121, 118, 121, ...</td>\n",
       "      <td>...</td>\n",
       "      <td>sour</td>\n",
       "      <td>73</td>\n",
       "      <td>congee</td>\n",
       "      <td>0</td>\n",
       "      <td>chinese</td>\n",
       "      <td>NaN</td>\n",
       "      <td>2442</td>\n",
       "      <td>[-8, -4, -2, 4, 8, 16, 24, 24, 30, 30, 30]</td>\n",
       "      <td>[-28, -30, -22, -18, -12, -12, -8, -10, -10, -...</td>\n",
       "      <td>[20, 20, 22, 26, 26, 32, 30, 34, 30, 28, 26]</td>\n",
       "    </tr>\n",
       "    <tr>\n",
       "      <th>...</th>\n",
       "      <td>...</td>\n",
       "      <td>...</td>\n",
       "      <td>...</td>\n",
       "      <td>...</td>\n",
       "      <td>...</td>\n",
       "      <td>...</td>\n",
       "      <td>...</td>\n",
       "      <td>...</td>\n",
       "      <td>...</td>\n",
       "      <td>...</td>\n",
       "      <td>...</td>\n",
       "      <td>...</td>\n",
       "      <td>...</td>\n",
       "      <td>...</td>\n",
       "      <td>...</td>\n",
       "      <td>...</td>\n",
       "      <td>...</td>\n",
       "      <td>...</td>\n",
       "      <td>...</td>\n",
       "      <td>...</td>\n",
       "      <td>...</td>\n",
       "    </tr>\n",
       "    <tr>\n",
       "      <th>73</th>\n",
       "      <td>300</td>\n",
       "      <td>5098</td>\n",
       "      <td>b'Bar Hop'</td>\n",
       "      <td>5</td>\n",
       "      <td>111</td>\n",
       "      <td>b'Sansotei Ramen'</td>\n",
       "      <td>[111, 109, 116, 124, 132, 152, 202, 248, 359, ...</td>\n",
       "      <td>[85, 83, 91, 97, 102, 120, 158, 188, 262, 340,...</td>\n",
       "      <td>[111, 111, 112, 114, 130, 158, 219, 309, 479, ...</td>\n",
       "      <td>[36, 31, 33, 33, 34, 40, 51, 71, 100, 123, 164]</td>\n",
       "      <td>...</td>\n",
       "      <td>stick</td>\n",
       "      <td>78</td>\n",
       "      <td>strawberry</td>\n",
       "      <td>4</td>\n",
       "      <td>fry</td>\n",
       "      <td>NaN</td>\n",
       "      <td>110</td>\n",
       "      <td>[18, 20, 18, 20, 22, 24, 22, 22, 14, 14, 18]</td>\n",
       "      <td>[-22, -18, -16, -8, -14, -10, -12, -10, -16, -...</td>\n",
       "      <td>[30, 30, 30, 32, 28, 30, 30, 32, 34, 36, 38]</td>\n",
       "    </tr>\n",
       "    <tr>\n",
       "      <th>74</th>\n",
       "      <td>300</td>\n",
       "      <td>5098</td>\n",
       "      <td>b'Bar Hop'</td>\n",
       "      <td>6</td>\n",
       "      <td>111</td>\n",
       "      <td>b'Sansotei Ramen'</td>\n",
       "      <td>[111, 97, 82, 76, 69, 70, 75, 86, 100, 120, 136]</td>\n",
       "      <td>[63, 58, 52, 49, 49, 50, 56, 64, 77, 94, 100]</td>\n",
       "      <td>[111, 80, 56, 41, 35, 32, 32, 37, 36, 37, 41]</td>\n",
       "      <td>[25, 15, 13, 11, 9, 9, 9, 11, 12, 12, 13]</td>\n",
       "      <td>...</td>\n",
       "      <td>refreshing</td>\n",
       "      <td>85</td>\n",
       "      <td>patty</td>\n",
       "      <td>17</td>\n",
       "      <td>pub</td>\n",
       "      <td>NaN</td>\n",
       "      <td>110</td>\n",
       "      <td>[-14, -12, -14, -8, -4, -4, 2, 10, 10, 14, 10]</td>\n",
       "      <td>[-24, -24, -18, -18, -16, -16, -14, -12, -10, ...</td>\n",
       "      <td>[12, 10, 12, 12, 16, 16, 20, 28, 28, 28, 30]</td>\n",
       "    </tr>\n",
       "    <tr>\n",
       "      <th>75</th>\n",
       "      <td>300</td>\n",
       "      <td>5098</td>\n",
       "      <td>b'Bar Hop'</td>\n",
       "      <td>7</td>\n",
       "      <td>111</td>\n",
       "      <td>b'Sansotei Ramen'</td>\n",
       "      <td>[111, 131, 156, 209, 324, 566, 1271, 4752, 648...</td>\n",
       "      <td>[40, 52, 63, 87, 135, 201, 304, 7198, 7333, 73...</td>\n",
       "      <td>[111, 172, 326, 896, 5216, 6992, 7260, 7340, 7...</td>\n",
       "      <td>[32, 48, 84, 190, 7186, 7362, 7405, 7422, 7429...</td>\n",
       "      <td>...</td>\n",
       "      <td>brunch</td>\n",
       "      <td>70</td>\n",
       "      <td>honey</td>\n",
       "      <td>37</td>\n",
       "      <td>bread</td>\n",
       "      <td>NaN</td>\n",
       "      <td>110</td>\n",
       "      <td>[12, 12, 14, 12, 14, 18, 20, 18, 18, 24, 24]</td>\n",
       "      <td>[-12, -8, -12, -4, 0, 4, 4, 4, 8, 8, 14]</td>\n",
       "      <td>[-10, -12, -10, 0, 2, 2, -2, 10, 12, 12, 12]</td>\n",
       "    </tr>\n",
       "    <tr>\n",
       "      <th>76</th>\n",
       "      <td>300</td>\n",
       "      <td>5098</td>\n",
       "      <td>b'Bar Hop'</td>\n",
       "      <td>8</td>\n",
       "      <td>111</td>\n",
       "      <td>b'Sansotei Ramen'</td>\n",
       "      <td>[111, 98, 91, 81, 73, 67, 63, 62, 71, 76, 80]</td>\n",
       "      <td>[56, 47, 43, 41, 39, 40, 42, 42, 49, 50, 55]</td>\n",
       "      <td>[111, 123, 140, 168, 215, 327, 521, 1119, 2491...</td>\n",
       "      <td>[52, 58, 68, 81, 103, 133, 175, 273, 409, 7097...</td>\n",
       "      <td>...</td>\n",
       "      <td>sandwich</td>\n",
       "      <td>160</td>\n",
       "      <td>overpriced</td>\n",
       "      <td>173</td>\n",
       "      <td>dark</td>\n",
       "      <td>NaN</td>\n",
       "      <td>110</td>\n",
       "      <td>[12, 10, 10, 12, 14, 16, 20, 18, 18, 18, 18]</td>\n",
       "      <td>[0, 0, 4, 4, 8, 4, -2, -2, 2, 4, 2]</td>\n",
       "      <td>[6, 8, 8, 10, 12, 10, 12, 16, 20, 18, 20]</td>\n",
       "    </tr>\n",
       "    <tr>\n",
       "      <th>77</th>\n",
       "      <td>300</td>\n",
       "      <td>5098</td>\n",
       "      <td>b'Bar Hop'</td>\n",
       "      <td>9</td>\n",
       "      <td>111</td>\n",
       "      <td>b'Sansotei Ramen'</td>\n",
       "      <td>[111, 135, 163, 194, 299, 523, 1019, 2123, 546...</td>\n",
       "      <td>[66, 80, 98, 115, 162, 245, 391, 600, 7065, 72...</td>\n",
       "      <td>[111, 64, 33, 19, 18, 16, 15, 12, 12, 12, 12]</td>\n",
       "      <td>[33, 20, 15, 10, 10, 10, 11, 10, 10, 10, 10]</td>\n",
       "      <td>...</td>\n",
       "      <td>fancy</td>\n",
       "      <td>100</td>\n",
       "      <td>oyster</td>\n",
       "      <td>213</td>\n",
       "      <td>pot</td>\n",
       "      <td>NaN</td>\n",
       "      <td>110</td>\n",
       "      <td>[40, 40, 40, 40, 40, 40, 40, 40, 40, 40, 40]</td>\n",
       "      <td>[-14, -8, -2, -4, 4, 12, 10, 10, 14, 14, 12]</td>\n",
       "      <td>[12, 10, 12, 18, 14, 16, 16, 16, 14, 14, 18]</td>\n",
       "    </tr>\n",
       "  </tbody>\n",
       "</table>\n",
       "<p>78 rows × 23 columns</p>\n",
       "</div>"
      ],
      "text/plain": [
       "   user_id target_item                   item_name iter pre_rank  \\\n",
       "0      300         101              b'Cabin Fever'    0     4830   \n",
       "1      300         101              b'Cabin Fever'    1     4830   \n",
       "2      300         101              b'Cabin Fever'    2     4830   \n",
       "3      300         886  b'Wok & Roast Chinese BBQ'    0     3515   \n",
       "4      300         886  b'Wok & Roast Chinese BBQ'    1     3515   \n",
       "..     ...         ...                         ...  ...      ...   \n",
       "73     300        5098                  b'Bar Hop'    5      111   \n",
       "74     300        5098                  b'Bar Hop'    6      111   \n",
       "75     300        5098                  b'Bar Hop'    7      111   \n",
       "76     300        5098                  b'Bar Hop'    8      111   \n",
       "77     300        5098                  b'Bar Hop'    9      111   \n",
       "\n",
       "   top_prediction_item_name  \\\n",
       "0         b'Sansotei Ramen'   \n",
       "1         b'Sansotei Ramen'   \n",
       "2         b'Sansotei Ramen'   \n",
       "3         b'Sansotei Ramen'   \n",
       "4         b'Sansotei Ramen'   \n",
       "..                      ...   \n",
       "73        b'Sansotei Ramen'   \n",
       "74        b'Sansotei Ramen'   \n",
       "75        b'Sansotei Ramen'   \n",
       "76        b'Sansotei Ramen'   \n",
       "77        b'Sansotei Ramen'   \n",
       "\n",
       "                                 post_rank_random_all  \\\n",
       "0   [4830, 4739, 4610, 4486, 4284, 3670, 3412, 316...   \n",
       "1   [4830, 4870, 4919, 4942, 4934, 4890, 4815, 468...   \n",
       "2   [4830, 4720, 4589, 4394, 3757, 3473, 3180, 286...   \n",
       "3   [3515, 2877, 2365, 2086, 1917, 1813, 1747, 171...   \n",
       "4   [3515, 3364, 3166, 2981, 2744, 2530, 2358, 221...   \n",
       "..                                                ...   \n",
       "73  [111, 109, 116, 124, 132, 152, 202, 248, 359, ...   \n",
       "74   [111, 97, 82, 76, 69, 70, 75, 86, 100, 120, 136]   \n",
       "75  [111, 131, 156, 209, 324, 566, 1271, 4752, 648...   \n",
       "76      [111, 98, 91, 81, 73, 67, 63, 62, 71, 76, 80]   \n",
       "77  [111, 135, 163, 194, 299, 523, 1019, 2123, 546...   \n",
       "\n",
       "                               post_rank_random_upper  \\\n",
       "0   [6831, 6828, 6810, 6804, 6781, 903, 872, 841, ...   \n",
       "1   [7062, 7062, 7064, 7074, 7079, 7070, 7047, 702...   \n",
       "2   [6685, 6671, 6655, 6630, 1151, 1109, 1060, 100...   \n",
       "3        [26, 29, 31, 30, 30, 31, 32, 33, 33, 33, 32]   \n",
       "4   [800, 784, 761, 735, 712, 675, 648, 621, 589, ...   \n",
       "..                                                ...   \n",
       "73  [85, 83, 91, 97, 102, 120, 158, 188, 262, 340,...   \n",
       "74      [63, 58, 52, 49, 49, 50, 56, 64, 77, 94, 100]   \n",
       "75  [40, 52, 63, 87, 135, 201, 304, 7198, 7333, 73...   \n",
       "76       [56, 47, 43, 41, 39, 40, 42, 42, 49, 50, 55]   \n",
       "77  [66, 80, 98, 115, 162, 245, 391, 600, 7065, 72...   \n",
       "\n",
       "                                    post_rank_pop_all  \\\n",
       "0   [4830, 4870, 4919, 4942, 4934, 4890, 4815, 468...   \n",
       "1   [4830, 4739, 4610, 4486, 4284, 3670, 3412, 316...   \n",
       "2   [4830, 4720, 4589, 4394, 3757, 3473, 3180, 286...   \n",
       "3   [3515, 2877, 2365, 2086, 1917, 1813, 1747, 171...   \n",
       "4   [3515, 2822, 2360, 2019, 1796, 1669, 1590, 151...   \n",
       "..                                                ...   \n",
       "73  [111, 111, 112, 114, 130, 158, 219, 309, 479, ...   \n",
       "74      [111, 80, 56, 41, 35, 32, 32, 37, 36, 37, 41]   \n",
       "75  [111, 172, 326, 896, 5216, 6992, 7260, 7340, 7...   \n",
       "76  [111, 123, 140, 168, 215, 327, 521, 1119, 2491...   \n",
       "77      [111, 64, 33, 19, 18, 16, 15, 12, 12, 12, 12]   \n",
       "\n",
       "                                  post_rank_pop_upper  ...  \\\n",
       "0   [7062, 7062, 7064, 7074, 7079, 7070, 7047, 702...  ...   \n",
       "1   [6831, 6828, 6810, 6804, 6781, 903, 872, 841, ...  ...   \n",
       "2   [6685, 6671, 6655, 6630, 1151, 1109, 1060, 100...  ...   \n",
       "3        [26, 29, 31, 30, 30, 31, 32, 33, 33, 33, 32]  ...   \n",
       "4   [108, 115, 124, 128, 125, 123, 121, 118, 121, ...  ...   \n",
       "..                                                ...  ...   \n",
       "73    [36, 31, 33, 33, 34, 40, 51, 71, 100, 123, 164]  ...   \n",
       "74          [25, 15, 13, 11, 9, 9, 9, 11, 12, 12, 13]  ...   \n",
       "75  [32, 48, 84, 190, 7186, 7362, 7405, 7422, 7429...  ...   \n",
       "76  [52, 58, 68, 81, 103, 133, 175, 273, 409, 7097...  ...   \n",
       "77       [33, 20, 15, 10, 10, 10, 11, 10, 10, 10, 10]  ...   \n",
       "\n",
       "   keyphrase_name_random critiqued_keyphrase_pop keyphrase_name_pop  \\\n",
       "0                  latte                     155             refill   \n",
       "1                 refill                     105              latte   \n",
       "2                  bread                      37              bread   \n",
       "3            general tao                     223        general tao   \n",
       "4                   sour                      73             congee   \n",
       "..                   ...                     ...                ...   \n",
       "73                 stick                      78         strawberry   \n",
       "74            refreshing                      85              patty   \n",
       "75                brunch                      70              honey   \n",
       "76              sandwich                     160         overpriced   \n",
       "77                 fancy                     100             oyster   \n",
       "\n",
       "   critiqued_keyphrase_diff keyphrase_name_diff num_existing_keyphrases  \\\n",
       "0                        53                 tea                     NaN   \n",
       "1                       153            friendly                     NaN   \n",
       "2                       105               latte                     NaN   \n",
       "3                        27                 bbq                     NaN   \n",
       "4                         0             chinese                     NaN   \n",
       "..                      ...                 ...                     ...   \n",
       "73                        4                 fry                     NaN   \n",
       "74                       17                 pub                     NaN   \n",
       "75                       37               bread                     NaN   \n",
       "76                      173                dark                     NaN   \n",
       "77                      213                 pot                     NaN   \n",
       "\n",
       "   pure_pruning_rank                                     diff_scores  \\\n",
       "0               4830    [40, 40, 38, 38, 38, 40, 40, 40, 40, 40, 40]   \n",
       "1               4830    [40, 40, 40, 40, 40, 40, 40, 40, 40, 38, 38]   \n",
       "2               4830    [14, 12, 12, 12, 14, 16, 18, 16, 20, 22, 22]   \n",
       "3               2442  [-10, -12, -10, -10, -10, -2, -2, -4, 0, 4, 6]   \n",
       "4               2442      [-8, -4, -2, 4, 8, 16, 24, 24, 30, 30, 30]   \n",
       "..               ...                                             ...   \n",
       "73               110    [18, 20, 18, 20, 22, 24, 22, 22, 14, 14, 18]   \n",
       "74               110  [-14, -12, -14, -8, -4, -4, 2, 10, 10, 14, 10]   \n",
       "75               110    [12, 12, 14, 12, 14, 18, 20, 18, 18, 24, 24]   \n",
       "76               110    [12, 10, 10, 12, 14, 16, 20, 18, 18, 18, 18]   \n",
       "77               110    [40, 40, 40, 40, 40, 40, 40, 40, 40, 40, 40]   \n",
       "\n",
       "                                           pop_scores  \\\n",
       "0            [-12, -8, -8, -6, -6, 0, 2, 10, 8, 6, 6]   \n",
       "1        [14, 12, 12, 12, 14, 16, 18, 16, 20, 22, 22]   \n",
       "2        [12, 12, 14, 12, 14, 18, 20, 18, 18, 24, 24]   \n",
       "3   [-40, -40, -40, -38, -36, -34, -34, -34, -34, ...   \n",
       "4   [-28, -30, -22, -18, -12, -12, -8, -10, -10, -...   \n",
       "..                                                ...   \n",
       "73  [-22, -18, -16, -8, -14, -10, -12, -10, -16, -...   \n",
       "74  [-24, -24, -18, -18, -16, -16, -14, -12, -10, ...   \n",
       "75           [-12, -8, -12, -4, 0, 4, 4, 4, 8, 8, 14]   \n",
       "76                [0, 0, 4, 4, 8, 4, -2, -2, 2, 4, 2]   \n",
       "77       [-14, -8, -2, -4, 4, 12, 10, 10, 14, 14, 12]   \n",
       "\n",
       "                                        random_scores  \n",
       "0        [14, 12, 12, 12, 14, 16, 18, 16, 20, 22, 22]  \n",
       "1            [-12, -8, -8, -6, -6, 0, 2, 10, 8, 6, 6]  \n",
       "2        [12, 12, 14, 12, 14, 18, 20, 18, 18, 24, 24]  \n",
       "3   [-40, -40, -40, -38, -36, -34, -34, -34, -34, ...  \n",
       "4        [20, 20, 22, 26, 26, 32, 30, 34, 30, 28, 26]  \n",
       "..                                                ...  \n",
       "73       [30, 30, 30, 32, 28, 30, 30, 32, 34, 36, 38]  \n",
       "74       [12, 10, 12, 12, 16, 16, 20, 28, 28, 28, 30]  \n",
       "75       [-10, -12, -10, 0, 2, 2, -2, 10, 12, 12, 12]  \n",
       "76          [6, 8, 8, 10, 12, 10, 12, 16, 20, 18, 20]  \n",
       "77       [12, 10, 12, 18, 14, 16, 16, 16, 14, 14, 18]  \n",
       "\n",
       "[78 rows x 23 columns]"
      ]
     },
     "execution_count": 253,
     "metadata": {},
     "output_type": "execute_result"
    }
   ],
   "source": [
    "df"
   ]
  },
  {
   "cell_type": "code",
   "execution_count": 256,
   "metadata": {},
   "outputs": [
    {
     "data": {
      "text/plain": [
       "[4830, 4739, 4610, 4486, 4284, 3670, 3412, 3167, 2935, 2735, 2576]"
      ]
     },
     "execution_count": 256,
     "metadata": {},
     "output_type": "execute_result"
    }
   ],
   "source": [
    "df['post_rank_random_all'][0]"
   ]
  },
  {
   "cell_type": "markdown",
   "metadata": {},
   "source": [
    "# Forward"
   ]
  },
  {
   "cell_type": "code",
   "execution_count": 29,
   "metadata": {},
   "outputs": [
    {
     "name": "stderr",
     "output_type": "stream",
     "text": [
      "100%|██████████| 2343/2343 [00:01<00:00, 1393.91it/s]\n",
      "100%|██████████| 2343/2343 [00:00<00:00, 2992.28it/s]\n",
      "100%|██████████| 2343/2343 [00:00<00:00, 5021.59it/s]\n",
      "100%|██████████| 2343/2343 [00:00<00:00, 5005.95it/s]\n",
      "100%|██████████| 2343/2343 [00:00<00:00, 5092.48it/s]\n",
      "100%|██████████| 2343/2343 [00:00<00:00, 4942.57it/s]\n",
      "100%|██████████| 2343/2343 [00:00<00:00, 4744.95it/s]\n",
      "100%|██████████| 2343/2343 [00:00<00:00, 4548.68it/s]\n"
     ]
    }
   ],
   "source": [
    "# KNN Forward \n",
    "similarity = normalize(train(rtrain))\n",
    "user_item_prediction_score = predict(rtrain, 100, similarity, item_similarity_en= False)\n",
    "user_item_predict = prediction(user_item_prediction_score, 50, rtrain)\n",
    "user_item_res = evaluate(user_item_predict, rtest)"
   ]
  },
  {
   "cell_type": "code",
   "execution_count": 30,
   "metadata": {},
   "outputs": [
    {
     "data": {
      "text/plain": [
       "{'MAP@5': (0.06940666362391602, 0.0060646277121995185),\n",
       " 'Recall@5': (0.026408137823500974, 0.002191309117794643),\n",
       " 'Precision@5': (0.06462802373345505, 0.004754606217931856),\n",
       " 'MAP@10': (0.06333952750429245, 0.00455145183026277),\n",
       " 'Recall@10': (0.04269615369598775, 0.0027831077562657665),\n",
       " 'Precision@10': (0.05330899132816066, 0.0032544740534870857),\n",
       " 'MAP@15': (0.05872249612550844, 0.0038121823597348156),\n",
       " 'Recall@15': (0.05562887733868642, 0.0031389991916236284),\n",
       " 'Precision@15': (0.04698006998326487, 0.0025622684368576416),\n",
       " 'MAP@20': (0.055196280875748356, 0.003345258771111864),\n",
       " 'Recall@20': (0.0677664821917642, 0.003424484045821138),\n",
       " 'Precision@20': (0.043336376083979916, 0.002222006808632301),\n",
       " 'MAP@50': (0.04436838784245958, 0.0022020570312340938),\n",
       " 'Recall@50': (0.12696642809611336, 0.0048241883971306436),\n",
       " 'Precision@50': (0.032889091738931994, 0.0014317314500480152),\n",
       " 'R-Precision': (0.048464138894968055, 0.0027869069242192506),\n",
       " 'NDCG': (0.09071795198195, 0.003803970590016347)}"
      ]
     },
     "execution_count": 30,
     "metadata": {},
     "output_type": "execute_result"
    }
   ],
   "source": [
    "# Evaluation result with k = 100\n",
    "user_item_res"
   ]
  },
  {
   "cell_type": "code",
   "execution_count": null,
   "metadata": {},
   "outputs": [],
   "source": [
    "# PLREC Forward\n"
   ]
  },
  {
   "cell_type": "code",
   "execution_count": null,
   "metadata": {},
   "outputs": [],
   "source": [
    "# PLREC \n"
   ]
  },
  {
   "cell_type": "code",
   "execution_count": null,
   "metadata": {},
   "outputs": [],
   "source": [
    "# Learn User-Keyphrase matrix to Latent Embedding\n",
    "# Training \n",
    "X = normalize(U_K.todense())\n",
    "y = normalize(train(rtrain))\n",
    "clf = Ridge(alpha=0.1).fit(X, y) # Optimality at L2 regularization = 0.1\n",
    "lr_similarity = clf.predict(np.array(X))"
   ]
  },
  {
   "cell_type": "markdown",
   "metadata": {},
   "source": [
    "# Experiment"
   ]
  },
  {
   "cell_type": "code",
   "execution_count": 32,
   "metadata": {},
   "outputs": [],
   "source": [
    "# keyphrase_popularity = get_keyphrase_popularity(df_train,keyphrases)\n",
    "\n",
    "# Save and load\n",
    "# np.savetxt('../data/yelp/'+'keyphrase_popularity.txt', keyphrase_popularity, fmt='%d')\n",
    "keyphrase_popularity = np.loadtxt('../data/yelp/'+'keyphrase_popularity.txt', dtype=int)"
   ]
  },
  {
   "cell_type": "code",
   "execution_count": null,
   "metadata": {},
   "outputs": [],
   "source": []
  },
  {
   "cell_type": "markdown",
   "metadata": {},
   "source": [
    "# Testing Gurobi"
   ]
  },
  {
   "cell_type": "code",
   "execution_count": null,
   "metadata": {},
   "outputs": [],
   "source": [
    "# critiqued_matrix_onehot = get_critiqued_UK(U_K,user,critiqued_keyphrase_random)\n",
    "critiqued_matrix_onehot = get_critiqued_UK(U_K,0,0)\n",
    "critiqued_matrix = reg.predict(critiqued_matrix_onehot)\n",
    "critiqued_matrix_random =critiqued_matrix\n",
    "\n",
    "U_V_critique = critiqued_matrix_random\n",
    "U_V_initial = Y\n",
    "latent_diff = U_V_critique - U_V_initial\n",
    "\n",
    "rating_diff = predict_scores(matrix_U=lamb * latent_diff[user], \n",
    "                     matrix_V=RQ)\n",
    "rating_diff_sum_unaffected = np.sum(abs(rating_diff), where = np.in1d(range(num_items),unaffected_items))\n",
    "rating_diff_sum_affected = np.sum(rating_diff, where = np.in1d(range(num_items),affected_items))\n",
    "obj = w1*abs(rating_diff_sum_unaffected) + w2*rating_diff_sum_affected "
   ]
  },
  {
   "cell_type": "code",
   "execution_count": 68,
   "metadata": {
    "scrolled": true
   },
   "outputs": [
    {
     "name": "stderr",
     "output_type": "stream",
     "text": [
      "/Users/litos/opt/anaconda3/envs/tensorflow_cpu/lib/python3.6/site-packages/scipy/sparse/_index.py:126: SparseEfficiencyWarning: Changing the sparsity structure of a csr_matrix is expensive. lil_matrix is more efficient.\n",
      "  self._set_arrayXarray(i, j, x)\n"
     ]
    }
   ],
   "source": [
    "user = 0\n",
    "critiqued_keyphrase_random = 0\n",
    "critiqued_matrix_onehot = get_critiqued_UK(U_K,user,critiqued_keyphrase_random)\n",
    "critiqued_matrix = reg.predict(critiqued_matrix_onehot)\n",
    "critiqued_matrix_random =critiqued_matrix\n",
    "modified_matrix_random = critiqued_matrix_random + Y\n",
    "matrix_Train = rtrain\n",
    "prediction_scores_u = predict_scores(matrix_U=modified_matrix_random[user], \n",
    "                                     matrix_V=RQ,\n",
    "                                     )\n",
    "prediction_items = predict_vector(rating_vector=prediction_scores_u,\n",
    "                                  train_vector=matrix_Train[user],\n",
    "                                  remove_train=True)"
   ]
  },
  {
   "cell_type": "code",
   "execution_count": 70,
   "metadata": {
    "scrolled": true
   },
   "outputs": [],
   "source": [
    "num_items = rtrain.shape[1]\n",
    "affected_items = I_K[:, critiqued_keyphrase_random].nonzero()[0]\n",
    "unaffected_items = np.setdiff1d(range(num_items), affected_items)"
   ]
  },
  {
   "cell_type": "code",
   "execution_count": 77,
   "metadata": {
    "scrolled": true
   },
   "outputs": [
    {
     "data": {
      "text/plain": [
       "5"
      ]
     },
     "execution_count": 77,
     "metadata": {},
     "output_type": "execute_result"
    }
   ],
   "source": [
    "prediction_score = predict_scores(matrix_U=RQ,\n",
    "                                      matrix_V=Y,\n",
    "                                      bias=Bias).T[user]\n",
    "# Get initial top recommended item(s)\n",
    "initial_top_recommendations = np.argsort(prediction_score)[::-1]\n",
    "\n",
    "sum(np.in1d(initial_top_recommendations[:10], affected_items))"
   ]
  },
  {
   "cell_type": "code",
   "execution_count": 78,
   "metadata": {},
   "outputs": [
    {
     "data": {
      "text/plain": [
       "7"
      ]
     },
     "execution_count": 78,
     "metadata": {},
     "output_type": "execute_result"
    }
   ],
   "source": [
    "sum(np.in1d(prediction_items[:10], affected_items))"
   ]
  },
  {
   "cell_type": "code",
   "execution_count": 80,
   "metadata": {},
   "outputs": [
    {
     "name": "stdout",
     "output_type": "stream",
     "text": [
      "5\n",
      "3\n"
     ]
    }
   ],
   "source": [
    "print (sum(np.in1d(initial_top_recommendations[:10], unaffected_items)))\n",
    "print (sum(np.in1d(prediction_items[:10], unaffected_items)))"
   ]
  },
  {
   "cell_type": "markdown",
   "metadata": {},
   "source": [
    "# LP Model"
   ]
  },
  {
   "cell_type": "markdown",
   "metadata": {},
   "source": [
    "## Ranking Model"
   ]
  },
  {
   "cell_type": "code",
   "execution_count": null,
   "metadata": {},
   "outputs": [],
   "source": [
    "# \n",
    "quicksum(\n",
    "    initial_prediction_u[affected_item] * num_unaffected_items + \n",
    "    quicksum(lambs[k] * critiqued_vector[query[k]] * W[affected_item][query[k]] * num_unaffected_items \n",
    "                 for k in range(num_critiques)) for affected_item in affected_items) - \n",
    "    quicksum(initial_prediction_u[unaffected_item] * num_affected_items + \n",
    "             quicksum(lambs[k] * critiqued_vector[query[k]] * W[unaffected_item][query[k]] * num_affected_items \n",
    "                for k in range(num_critiques)) for unaffected_item in unaffected_items)\n",
    "# maximize rank: \n",
    "rank = sum(np.in1d(prediction_items[:10], affected_items))\n"
   ]
  },
  {
   "cell_type": "code",
   "execution_count": 99,
   "metadata": {},
   "outputs": [],
   "source": [
    "prediction_scores_u = modified_matrix_random[user].dot(RQ.T)"
   ]
  },
  {
   "cell_type": "code",
   "execution_count": 103,
   "metadata": {},
   "outputs": [
    {
     "data": {
      "text/plain": [
       "array([6222, 5410, 2804, ..., 3713, 4582, 7163])"
      ]
     },
     "execution_count": 103,
     "metadata": {},
     "output_type": "execute_result"
    }
   ],
   "source": [
    "np.argsort(prediction_scores_u)[::-1]"
   ]
  },
  {
   "cell_type": "code",
   "execution_count": 166,
   "metadata": {},
   "outputs": [],
   "source": [
    "k = 10 # top k precision\n",
    "user = 0\n",
    "\n",
    "# modified_matrix_random = lamb*critiqued_matrix_random + (1-lamb)*Y\n",
    "# prediction_scores_u = predict_scores(matrix_U=modified_matrix_random[user], \n",
    "#                                      matrix_V=RQ,\n",
    "#                                      )\n",
    "# prediction_scores_u = modified_matrix_random[user].dot(RQ.T)\n",
    "# prediction_items = predict_vector(rating_vector=prediction_scores_u,\n",
    "#                                   train_vector=matrix_Train[user],\n",
    "#                                   remove_train=True)\n",
    "# dim = len(rating_vector)\n",
    "# candidate_index = np.argpartition(-rating_vector, dim-1)[:dim]\n",
    "# prediction_items = candidate_index[rating_vector[candidate_index].argsort()[::-1]]\n",
    "\n",
    "# prediction_items = np.argsort(prediction_scores_u)[::-1][::k]\n",
    "\n",
    "# prediction_items = np.argsort((lamb*critiqued_matrix_random + (1-lamb)*Y)[user].dot(RQ.T))[::-1][:k]\n",
    "# np.in1d(prediction_items,affected_items)\n",
    "# Model\n",
    "m = Model(\"Ranking\")\n",
    "# Assign Variable \n",
    "lamb = m.addVar(lb = 0, \n",
    "                ub = 1,\n",
    "                vtype = GRB.CONTINUOUS,\n",
    "                name = \"lamb\"\n",
    "               )\n",
    "# quicksum(np.in1d(np.argsort(prediction_items)[:10],affected_items))\n",
    "# Set Objective\n",
    "m.setObjective(\n",
    "    quicksum(\n",
    "             (np.array([lamb*critiqued_matrix_random[0][i] for i in range(len(Y[0]))]) + \n",
    "             np.array([(1-lamb)*Y[0][i] for i in range(len(Y[0]))])).dot(RQ.T)\n",
    "            \n",
    "            )\n",
    ", GRB.MINIMIZE)"
   ]
  },
  {
   "cell_type": "code",
   "execution_count": 156,
   "metadata": {},
   "outputs": [],
   "source": [
    "lamb = 0.1\n",
    "modified_matrix = np.array([lamb*critiqued_matrix_random[0][i] for i in range(len(Y[0]))]) + np.array([(1-lamb)*Y[0][i] for i in range(len(Y[0]))])"
   ]
  },
  {
   "cell_type": "code",
   "execution_count": 161,
   "metadata": {},
   "outputs": [],
   "source": [
    "prediction_score = modified_matrix.dot(RQ.T)"
   ]
  },
  {
   "cell_type": "code",
   "execution_count": 164,
   "metadata": {},
   "outputs": [
    {
     "data": {
      "text/plain": [
       "array([6222, 5410, 6454, 2804, 5081, 4358, 6299, 6940,  585, 6099])"
      ]
     },
     "execution_count": 164,
     "metadata": {},
     "output_type": "execute_result"
    }
   ],
   "source": [
    "np.argsort(prediction_score)[::-1][:10]"
   ]
  },
  {
   "cell_type": "code",
   "execution_count": 132,
   "metadata": {},
   "outputs": [
    {
     "data": {
      "text/plain": [
       "array([6222, 5410, 6454, 2804, 5081, 4358, 6299, 6940,  585, 6099])"
      ]
     },
     "execution_count": 132,
     "metadata": {},
     "output_type": "execute_result"
    }
   ],
   "source": [
    "np.argsort(modified_matrix.dot(RQ.T))[::-1][:10]"
   ]
  },
  {
   "cell_type": "code",
   "execution_count": null,
   "metadata": {},
   "outputs": [],
   "source": [
    "m.optimize()\n",
    "for v in m.getVars():\n",
    "    print('%s %g' % (v.varName, v.x))\n",
    "print('Obj: %g' % m.objVal)"
   ]
  },
  {
   "cell_type": "code",
   "execution_count": 89,
   "metadata": {},
   "outputs": [
    {
     "name": "stdout",
     "output_type": "stream",
     "text": [
      "Gurobi Optimizer version 9.0.1 build v9.0.1rc0 (mac64)\n",
      "Optimize a model with 2 rows, 3 columns and 5 nonzeros\n",
      "Model fingerprint: 0x30cdba21\n",
      "Coefficient statistics:\n",
      "  Matrix range     [1e+00, 3e+00]\n",
      "  Objective range  [1e+00, 3e+00]\n",
      "  Bounds range     [1e+00, 1e+00]\n",
      "  RHS range        [1e+00, 4e+00]\n",
      "Presolve removed 2 rows and 3 columns\n",
      "Presolve time: 0.00s\n",
      "Presolve: All rows and columns removed\n",
      "Iteration    Objective       Primal Inf.    Dual Inf.      Time\n",
      "       0    6.5000000e+00   0.000000e+00   0.000000e+00      0s\n",
      "\n",
      "Solved in 0 iterations and 0.01 seconds\n",
      "Optimal objective  6.500000000e+00\n",
      "[<gurobi.Var x (value -1.0)>, <gurobi.Var y (value 2.5)>, <gurobi.Var z (value 0.0)>]\n",
      "Obj: 6.5\n"
     ]
    }
   ],
   "source": [
    "# This example formulates and solves the following simple MIP model:\n",
    "#  maximize\n",
    "#        x + y + 2 z\n",
    "#  subject to\n",
    "#        x + 2 y + 3 z <= 4\n",
    "#        x +   y       >= 1\n",
    "#        x, y, z binary\n",
    "\n",
    "import gurobipy as gp\n",
    "from gurobipy import GRB\n",
    "\n",
    "# Create a new model\n",
    "m = gp.Model(\"mip1\")\n",
    "\n",
    "# Create variables\n",
    "x = m.addVar(lb = -1,\n",
    "             ub = 1,\n",
    "             vtype=GRB.CONTINUOUS, \n",
    "             name=\"x\")\n",
    "y = m.addVar(vtype=GRB.CONTINUOUS, name=\"y\")\n",
    "z = m.addVar(vtype=GRB.CONTINUOUS, name=\"z\")\n",
    "\n",
    "# Set objective\n",
    "m.setObjective(x + y*3 + 2 * z, GRB.MAXIMIZE)\n",
    "\n",
    "# Add constraint: x + 2 y + 3 z <= 4\n",
    "m.addConstr(x + 2 * y + 3 * z <= 4, \"c0\")\n",
    "\n",
    "# Add constraint: x + y >= 1\n",
    "m.addConstr(x + y >= 1, \"c1\")\n",
    "\n",
    "# Optimize model\n",
    "m.optimize()\n",
    "\n",
    "# for v in m.getVars():\n",
    "#     print('%s %g' % (v.varName, v.x))\n",
    "print (m.getVars())\n",
    "print('Obj: %g' % m.objVal)"
   ]
  },
  {
   "cell_type": "code",
   "execution_count": null,
   "metadata": {},
   "outputs": [],
   "source": []
  },
  {
   "cell_type": "code",
   "execution_count": 47,
   "metadata": {},
   "outputs": [],
   "source": [
    "expr = quicksum([2*x, 3*y+1, 4*z*z])\n",
    "# expr = quicksum(model.getVars())"
   ]
  },
  {
   "cell_type": "code",
   "execution_count": 48,
   "metadata": {},
   "outputs": [
    {
     "data": {
      "text/plain": [
       "<gurobi.QuadExpr: 1.0 + 2.0 x + 3.0 y + [ 4.0 z ^ 2 ]>"
      ]
     },
     "execution_count": 48,
     "metadata": {},
     "output_type": "execute_result"
    }
   ],
   "source": [
    "expr"
   ]
  },
  {
   "cell_type": "markdown",
   "metadata": {},
   "source": [
    "# Visualize Results"
   ]
  },
  {
   "cell_type": "code",
   "execution_count": 219,
   "metadata": {},
   "outputs": [],
   "source": [
    "# Get post rank hr_k with different lambda values\n",
    "def get_post_rank(df,rank_type = 'random_all', line = 0):\n",
    "    \"\"\"\n",
    "    get one line of the post_rank res\n",
    "    \"\"\"\n",
    "    return np.array(literal_eval(df['post_rank_'+rank_type][line])).reshape(1,11)\n",
    "\n",
    "def get_ranking_scores(df, rank_type = 'random', line = 0):\n",
    "    \"\"\"\n",
    "    get one line of the ranking score for different lambda\n",
    "    \"\"\"\n",
    "    return np.array(literal_eval(df[rank_type+'_scores'][line])).reshape(1,11)\n",
    "\n",
    "def concat_rank(df,rank_type = 'random_all'):\n",
    "    \"\"\"\n",
    "    concat all post_rank res to one matrix\n",
    "    \"\"\"\n",
    "    res = get_post_rank(df, rank_type=rank_type, line = 0)\n",
    "    for i in range(1,len(df)):\n",
    "        res = np.concatenate((res,get_post_rank(df, rank_type=rank_type, line = i)))\n",
    "    return res\n",
    "\n",
    "def get_post_hr_at_k(df, k, rank_type = 'random_all'):\n",
    "    \"\"\"\n",
    "    Get hr_at_k for rank_type\n",
    "    return a numpy array of length 11 corresponding to each lambda value \n",
    "    \"\"\"\n",
    "    ranks = concat_rank(df,rank_type = rank_type) # concat the experiment result for rank_type\n",
    "\n",
    "    hr_at_k = np.where(ranks<k)[1] # compare rank with k\n",
    "    count = np.unique(hr_at_k, return_counts=True) # get count for each lambda value\n",
    "\n",
    "    return count[1]/len(df) \n",
    "\n",
    "def get_pre_hr_at_k(df, k, pre_col = 'pre_rank'):\n",
    "    pre_hit = len(np.where(df[pre_col]<k)[0])\n",
    "    return pre_hit/len(df)"
   ]
  },
  {
   "cell_type": "code",
   "execution_count": 175,
   "metadata": {},
   "outputs": [],
   "source": [
    "def plot_lambda_vs_performance(df, k = 25, show = True, savefig = False):\n",
    "    \"\"\"get hr@k graph for all 6 options\n",
    "    x_axis: lambda from all initial to all modified matrix\n",
    "    y_axis: performance (hr@k)\"\"\"\n",
    "    plt.figure(figsize=(12,12))\n",
    "    # Get lines\n",
    "    pre_hr = [get_pre_hr_at_k(df,k,pre_col = 'pre_rank')]*11 # repeat len(lams) times\n",
    "    pruned_hr = [get_pre_hr_at_k(df,k,pre_col = 'pure_pruning_rank')]*11 # repeat len(lams) times\n",
    "    random_all = get_post_hr_at_k(df,k,rank_type='random_all')\n",
    "    random_upper = get_post_hr_at_k(df,k,rank_type='random_upper')\n",
    "    pop_all = get_post_hr_at_k(df,k,rank_type='pop_all')\n",
    "    pop_upper = get_post_hr_at_k(df,k,rank_type='pop_upper')\n",
    "    diff_all = get_post_hr_at_k(df,k,rank_type='diff_all')\n",
    "    diff_upper = get_post_hr_at_k(df,k,rank_type='diff_upper')\n",
    "\n",
    "    plt.plot(np.arange(11), pre_hr,'b')\n",
    "    plt.plot(np.arange(11), pruned_hr,'b--')\n",
    "    plt.plot(np.arange(11), random_all,'r-')\n",
    "    plt.plot(np.arange(11), random_upper,'r--')\n",
    "    plt.plot(np.arange(11), pop_all,'y-')\n",
    "    plt.plot(np.arange(11), pop_upper,'y--')\n",
    "    plt.plot(np.arange(11), diff_all,'g-')\n",
    "    plt.plot(np.arange(11), diff_upper,'g--')\n",
    "\n",
    "    x = [0, .1, .2, .3, .4, .5, .6, .7, .8, .9, 1]\n",
    "    xi = list(range(len(x)))\n",
    "    # plt.xticks(np.arange(len(k_list)), k_list)\n",
    "    plt.xlabel('lambda')\n",
    "    plt.ylabel('HR@K')\n",
    "    plt.legend(['Pre-Critiquing', 'Pure-pruning','Random', 'Random_Upper','Pop','Pop_Upper','Diff','Diff_Upper'])\n",
    "    plt.xticks(xi, x)\n",
    "    if show == True:\n",
    "        plt.show()\n",
    "    if savefig == True:\n",
    "        plt.savefig('../figs/three_keyphrase_selection_methods_with_upper_bound_0115_hr15')"
   ]
  },
  {
   "cell_type": "code",
   "execution_count": 326,
   "metadata": {},
   "outputs": [],
   "source": [
    "def get_optimal_lamb(df,rank_type1 = \"random_all\", rank_type2 = \"random\"):\n",
    "    \"\"\"\n",
    "    get optimal predicted and real lamb \n",
    "    rank_type1: optimal real \n",
    "    rank_type2: optimal predicted\n",
    "    \"\"\"\n",
    "    actual_bests = []\n",
    "    predicted_bests = []\n",
    "    for i in range(len(df)):\n",
    "        actual_best = np.argmin(get_post_rank(df,rank_type = rank_type1, line = i))\n",
    "        predicted_best = np.argmax(get_ranking_scores(df,rank_type = rank_type2, line = i))\n",
    "        # Question: how to evaluate the difference\n",
    "        actual_bests.append(actual_best)\n",
    "        predicted_bests.append(predicted_best)\n",
    "    return actual_bests,predicted_bests\n",
    "\n",
    "def get_dict_from_scatter_plot(df,rank_type1 = \"random_all\", rank_type2 = \"random\"):\n",
    "    \"\"\"\n",
    "    Get data dict for scatter plot\n",
    "    keys are predicted\n",
    "    \n",
    "    \"\"\"\n",
    "    actual_bests,predicted_bests = get_optimal_lamb(df,rank_type1 = rank_type1, rank_type2 = rank_type2)\n",
    "    data_dict = defaultdict(list)\n",
    "    for i,predicted_best in enumerate(predicted_bests):\n",
    "        data_dict[predicted_best].append(actual_bests[i])\n",
    "    return data_dict\n",
    "\n",
    "def plot_real_predicted_best_lambda(df, rank_type1=\"random_all\", rank_type2=\"random\" ,\n",
    "                                    show = True, savefig = False,figname = None):\n",
    "    \"\"\"\n",
    "    Get scaller plot for comparing real/predicted optimal lambda for each prediction\n",
    "    x-axis: actual optimal lambda\n",
    "    y-axis: predicted optimal lambda\n",
    "    \"\"\"\n",
    "    data_dict = get_dict_from_scatter_plot(df, rank_type1=rank_type1, rank_type2 = rank_type2)\n",
    "    size_constant = 5\n",
    "\n",
    "    for xe, ye in data_dict.items():\n",
    "        xAxis = [xe] * len(ye)\n",
    "\n",
    "        #square it to amplify the effect, if you do ye.count(num)*size_constant the effect is barely noticeable\n",
    "        sizes = [ye.count(num)**2.5 * size_constant for num in ye]\n",
    "        plt.scatter(xAxis, ye, s=sizes)\n",
    "        \n",
    "    x = [0, .1, .2, .3, .4, .5, .6, .7, .8, .9, 1]\n",
    "    xi = list(range(len(x)))\n",
    "    # plt.xticks(np.arange(len(k_list)), k_list)\n",
    "    plt.xlabel('real optimal lambda')\n",
    "    plt.ylabel('predicted optimal lambda')\n",
    "#     plt.legend(['Pre-Critiquing', 'Pure-pruning','Random', 'Random_Upper','Pop','Pop_Upper','Diff','Diff_Upper'])\n",
    "    plt.xticks(xi, x)\n",
    "    plt.yticks(xi, x)\n",
    "    \n",
    "    if show:\n",
    "        plt.show()\n",
    "    if savefig:\n",
    "        try:\n",
    "            plt.savefig('../figs/' + figname)\n",
    "        except:\n",
    "            print ('FigName Not Defined')"
   ]
  },
  {
   "cell_type": "code",
   "execution_count": 264,
   "metadata": {
    "scrolled": true
   },
   "outputs": [
    {
     "name": "stdout",
     "output_type": "stream",
     "text": [
      "[40 40 38 38 38 40 40 40 40 40 40]\n"
     ]
    },
    {
     "data": {
      "text/plain": [
       "(array([ 0,  1,  5,  6,  7,  8,  9, 10]),)"
      ]
     },
     "execution_count": 264,
     "metadata": {},
     "output_type": "execute_result"
    }
   ],
   "source": [
    "### Get all predicted best lambda\n",
    "score = get_ranking_scores(df,rank_type = 'diff', line = 0)[0]\n",
    "print (score)\n",
    "np.where(score == np.amax(score))\n",
    "\n",
    "### Get only the first predicted best lambda"
   ]
  },
  {
   "cell_type": "code",
   "execution_count": 327,
   "metadata": {
    "scrolled": false
   },
   "outputs": [
    {
     "data": {
      "image/png": "[encoded data removed]",
      "text/plain": [
       "<Figure size 432x288 with 1 Axes>"
      ]
     },
     "metadata": {
      "needs_background": "light"
     },
     "output_type": "display_data"
    }
   ],
   "source": [
    "plot_real_predicted_best_lambda(df, rank_type1= \"diff_all\", rank_type2=\"diff\",\n",
    "                                show = True, \n",
    "                                savefig = False, figname = None)"
   ]
  },
  {
   "cell_type": "code",
   "execution_count": 257,
   "metadata": {
    "scrolled": false
   },
   "outputs": [
    {
     "data": {
      "image/png": "[encoded data removed]",
      "text/plain": [
       "<Figure size 864x864 with 1 Axes>"
      ]
     },
     "metadata": {
      "needs_background": "light"
     },
     "output_type": "display_data"
    }
   ],
   "source": [
    "df = pd.read_csv(single_step_with_avg_path+\"test.csv\")\n",
    "plot_lambda_vs_performance(df, k = 30, show = True, savefig = False)"
   ]
  }
 ],
 "metadata": {
  "kernelspec": {
   "display_name": "Python 3",
   "language": "python",
   "name": "python3"
  },
  "language_info": {
   "codemirror_mode": {
    "name": "ipython",
    "version": 3
   },
   "file_extension": ".py",
   "mimetype": "text/x-python",
   "name": "python",
   "nbconvert_exporter": "python",
   "pygments_lexer": "ipython3",
   "version": "3.6.10"
  }
 },
 "nbformat": 4,
 "nbformat_minor": 2
}
