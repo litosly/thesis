{
 "cells": [
  {
   "cell_type": "code",
   "execution_count": 2,
   "metadata": {
    "scrolled": true
   },
   "outputs": [
    {
     "name": "stdout",
     "output_type": "stream",
     "text": [
      "2.0.0\n"
     ]
    }
   ],
   "source": [
    "from __future__ import absolute_import, division, print_function, unicode_literals\n",
    "\n",
    "# TensorFlow and tf.keras\n",
    "import tensorflow as tf\n",
    "from tensorflow import keras\n",
    "\n",
    "print(tf.__version__)"
   ]
  },
  {
   "cell_type": "code",
   "execution_count": 1,
   "metadata": {
    "collapsed": true
   },
   "outputs": [],
   "source": [
    "import sys \n",
    "# sys.path.clear()\n",
    "sys.path.insert(0, 'D:\\\\Anaconda\\\\envs\\\\tensorflow_cpu\\\\python36.zip')\n",
    "sys.path.insert(0, 'D:\\\\Anaconda\\\\envs\\\\tensorflow_cpu\\\\DLLs')\n",
    "sys.path.insert(0, 'D:\\\\Anaconda\\\\envs\\\\tensorflow_cpu\\\\lib')\n",
    "sys.path.insert(0, 'D:\\\\Anaconda\\\\envs\\\\tensorflow_cpu')\n",
    "sys.path.insert(0, 'D:\\\\Anaconda\\\\envs\\\\tensorflow_cpu\\\\lib\\\\site-packages')\n",
    "sys.path.insert(0, '')"
   ]
  },
  {
   "cell_type": "code",
   "execution_count": 2,
   "metadata": {},
   "outputs": [
    {
     "data": {
      "text/plain": [
       "['/Users/litos/opt/anaconda3/envs/tensorflow_cpu/lib/python36.zip',\n",
       " '/Users/litos/opt/anaconda3/envs/tensorflow_cpu/lib/python3.6',\n",
       " '/Users/litos/opt/anaconda3/envs/tensorflow_cpu/lib/python3.6/lib-dynload',\n",
       " '',\n",
       " '/Users/litos/opt/anaconda3/envs/tensorflow_cpu/lib/python3.6/site-packages',\n",
       " '/Users/litos/opt/anaconda3/envs/tensorflow_cpu/lib/python3.6/site-packages/IPython/extensions',\n",
       " '/Users/litos/.ipython']"
      ]
     },
     "execution_count": 2,
     "metadata": {},
     "output_type": "execute_result"
    }
   ],
   "source": [
    "import sys\n",
    "sys.path"
   ]
  },
  {
   "cell_type": "markdown",
   "metadata": {},
   "source": [
    "sys.path = ['', '/Users/litos/opt/anaconda3/envs/tensorflow_cpu/lib/python36.zip', '/Users/litos/opt/anaconda3/envs/tensorflow_cpu/lib/python3.6', '/Users/litos/opt/anaconda3/envs/tensorflow_cpu/lib/python3.6/lib-dynload', '/Users/litos/opt/anaconda3/envs/tensorflow_cpu/lib/python3.6/site-packages']"
   ]
  },
  {
   "cell_type": "code",
   "execution_count": 3,
   "metadata": {
    "collapsed": true,
    "scrolled": true
   },
   "outputs": [],
   "source": [
    "from gurobipy import *"
   ]
  },
  {
   "cell_type": "code",
   "execution_count": 35,
   "metadata": {
    "collapsed": true,
    "scrolled": false
   },
   "outputs": [],
   "source": [
    "from scipy.sparse import csr_matrix, load_npz, save_npz\n",
    "from tqdm import tqdm\n",
    "from sklearn.preprocessing import normalize\n",
    "from collections import *\n",
    "import datetime\n",
    "import json\n",
    "import pandas as pd\n",
    "import time\n",
    "# import yaml\n",
    "import scipy.sparse as sparse\n",
    "from ast import literal_eval\n",
    "\n",
    "import numpy as np\n",
    "import matplotlib.pyplot as plt"
   ]
  },
  {
   "cell_type": "code",
   "execution_count": 4,
   "metadata": {
    "collapsed": true
   },
   "outputs": [],
   "source": [
    "from sklearn.linear_model import LinearRegression\n",
    "from sklearn.preprocessing import normalize\n",
    "from sklearn.linear_model import Ridge\n",
    "from sklearn.utils.extmath import randomized_svd\n",
    "\n",
    "from scipy.optimize import minimize"
   ]
  },
  {
   "cell_type": "markdown",
   "metadata": {},
   "source": [
    "# Load Data"
   ]
  },
  {
   "cell_type": "code",
   "execution_count": 5,
   "metadata": {
    "collapsed": true
   },
   "outputs": [],
   "source": [
    "# Load Original Data\n",
    "df_train = pd.read_csv('../../data/yelp/Train.csv',encoding='latin-1')\n",
    "# df_valid = pd.read_csv('../../data/yelp/Valid.csv',encoding='latin-1')\n",
    "# df_test = pd.read_csv('../../data/yelp/Test.csv',encoding='latin-1')"
   ]
  },
  {
   "cell_type": "code",
   "execution_count": 6,
   "metadata": {
    "collapsed": true
   },
   "outputs": [],
   "source": [
    "keyphrases = pd.read_csv('../../data/yelp/KeyPhrases.csv')['Phrases'].tolist()\n",
    "keyphrase_popularity = np.loadtxt('../data/yelp/'+'keyphrase_popularity.txt', dtype=int)\n",
    "\n",
    "# Load U-I Data \n",
    "rtrain = load_npz(\"../../data/yelp/Rtrain.npz\")\n",
    "rvalid = load_npz(\"../../data/yelp/Rvalid.npz\")\n",
    "rtest = load_npz(\"../../data/yelp/Rtest.npz\")\n",
    "\n",
    "# Load user/item keyphrase data\n",
    "U_K = load_npz(\"../../data/yelp/U_K.npz\")\n",
    "I_K = load_npz(\"../../data/yelp/I_K.npz\")"
   ]
  },
  {
   "cell_type": "markdown",
   "metadata": {},
   "source": [
    "# Models"
   ]
  },
  {
   "cell_type": "code",
   "execution_count": 7,
   "metadata": {
    "collapsed": true
   },
   "outputs": [],
   "source": [
    "# Models\n",
    "from sklearn.metrics.pairwise import cosine_similarity\n",
    "def train(matrix_train):\n",
    "    similarity = cosine_similarity(X=matrix_train, Y=None, dense_output=True)\n",
    "    return similarity\n",
    "\n",
    "def get_I_K(df, row_name = 'ItemIndex', shape = (3668,75)):\n",
    "    rows = []\n",
    "    cols = []\n",
    "    vals = []\n",
    "    for i in tqdm(range(df.shape[0])):\n",
    "        key_vector = literal_eval(df['keyVector'][i])\n",
    "        rows.extend([df[row_name][i]]*len(key_vector)) ## Item index\n",
    "        cols.extend(key_vector) ## Keyword Index\n",
    "        vals.extend(np.array([1]*len(key_vector)))\n",
    "    return csr_matrix((vals, (rows, cols)), shape=shape)\n",
    "\n",
    "\n",
    "\n",
    "def prediction(prediction_score, topK, matrix_Train):\n",
    "\n",
    "    prediction = []\n",
    "\n",
    "    for user_index in tqdm(range(matrix_Train.shape[0])):\n",
    "        vector_u = prediction_score[user_index]\n",
    "        vector_train = matrix_Train[user_index]\n",
    "        if len(vector_train.nonzero()[0]) > 0:\n",
    "            vector_predict = sub_routine(vector_u, vector_train, topK=topK)\n",
    "        else:\n",
    "            vector_predict = np.zeros(topK, dtype=np.float32)\n",
    "\n",
    "        prediction.append(vector_predict)\n",
    "\n",
    "    return np.vstack(prediction)\n",
    "\n",
    "\n",
    "def sub_routine(vector_u, vector_train, topK=500):\n",
    "\n",
    "    train_index = vector_train.nonzero()[1]\n",
    "\n",
    "    vector_u = vector_u\n",
    "\n",
    "    candidate_index = np.argpartition(-vector_u, topK+len(train_index))[:topK+len(train_index)]\n",
    "    vector_u = candidate_index[vector_u[candidate_index].argsort()[::-1]]\n",
    "    vector_u = np.delete(vector_u, np.isin(vector_u, train_index).nonzero()[0])\n",
    "\n",
    "    return vector_u[:topK]\n"
   ]
  },
  {
   "cell_type": "code",
   "execution_count": 8,
   "metadata": {
    "collapsed": true
   },
   "outputs": [],
   "source": [
    "def predict(matrix_train, k, similarity, item_similarity_en = False):\n",
    "    \"\"\"\n",
    "    res = similarity * matrix_train    if item_similarity_en = False\n",
    "    res = similarity * matrix_train.T  if item_similarity_en = True\n",
    "    \"\"\"\n",
    "    prediction_scores = []\n",
    "    \n",
    "    if item_similarity_en:\n",
    "        matrix_train = matrix_train.transpose()\n",
    "        \n",
    "    for user_index in tqdm(range(matrix_train.shape[0])):\n",
    "        # Get user u's prediction scores to all users\n",
    "        vector_u = similarity[user_index]\n",
    "\n",
    "        # Get closest K neighbors excluding user u self\n",
    "        similar_users = vector_u.argsort()[::-1][1:k+1]\n",
    "        # Get neighbors similarity weights and ratings\n",
    "        similar_users_weights = similarity[user_index][similar_users]\n",
    "        similar_users_ratings = matrix_train[similar_users].toarray()\n",
    "\n",
    "        prediction_scores_u = similar_users_ratings * similar_users_weights[:, np.newaxis]\n",
    "\n",
    "        prediction_scores.append(np.sum(prediction_scores_u, axis=0))\n",
    "    res = np.array(prediction_scores)\n",
    "    \n",
    "    if item_similarity_en:\n",
    "        res = res.transpose()\n",
    "    \n",
    "    return res\n",
    "\n",
    "def predict_vector(user_index, matrix_train, k, similarity):\n",
    "    \"\"\"\n",
    "    res = similarity * matrix_train    if item_similarity_en = False\n",
    "    res = similarity * matrix_train.T  if item_similarity_en = True\n",
    "    get only user_index row\n",
    "    \"\"\"\n",
    "    vector_u = similarity[user_index]\n",
    "    \n",
    "    # Get closest K neighbors excluding user u self\n",
    "    similar_users = vector_u.argsort()[::-1][1:k+1]\n",
    "    # Get neighbors similarity weights and ratings\n",
    "    similar_users_weights = similarity[user_index][similar_users]\n",
    "    similar_users_ratings = matrix_train[similar_users].toarray()\n",
    "    prediction_scores_u = similar_users_ratings * similar_users_weights[:, np.newaxis]\n",
    "    \n",
    "    return np.sum(prediction_scores_u, axis=0)\n",
    "    "
   ]
  },
  {
   "cell_type": "code",
   "execution_count": 9,
   "metadata": {
    "collapsed": true
   },
   "outputs": [],
   "source": [
    "# PLREC \n",
    "def inhour(elapsed):\n",
    "    return time.strftime('%H:%M:%S', time.gmtime(elapsed))\n",
    "\n",
    "def plrec(matrix_train, iteration=4, lamb=80, rank=200, seed=1):\n",
    "    \"\"\"\n",
    "    Function used to achieve generalized projected lrec w/o item-attribute embedding\n",
    "    :param matrix_train: user-item matrix with shape m*n\n",
    "    :param iteration: number of power iterations in randomized svd\n",
    "    :param lamb: parameter of penalty\n",
    "    :param rank: latent dimension size\n",
    "    :param seed: the seed of the pseudo random number generator to use when shuffling the data\n",
    "    :return: prediction in sparse matrix\n",
    "    \"\"\"\n",
    "    print (\"Randomized SVD\")\n",
    "    start_time = time.time()\n",
    "    P, sigma, Qt = randomized_svd(matrix_train,\n",
    "                                  n_components=rank,\n",
    "                                  n_iter=iteration,\n",
    "                                  random_state=seed)\n",
    "\n",
    "    RQ = matrix_train.dot(sparse.csc_matrix(Qt.T*np.sqrt(sigma)))\n",
    "\n",
    "    print(\"Elapsed: {}\".format(inhour(time.time() - start_time)))\n",
    "\n",
    "    print (\"Closed-Form Linear Optimization\")\n",
    "    start_time = time.time()\n",
    "    pre_inv = RQ.T.dot(RQ) + lamb * sparse.identity(rank, dtype=np.float32)\n",
    "    inverse = sparse.linalg.inv(pre_inv.tocsc())\n",
    "    Y = inverse.dot(RQ.T).dot(matrix_train)\n",
    "    print(\"Elapsed: {}\".format(inhour(time.time() - start_time)))\n",
    "\n",
    "    return np.array(RQ.todense()), np.array(Y.todense()), None\n",
    "\n",
    "def predict_vector(rating_vector, train_vector, remove_train=True):\n",
    "    dim = len(rating_vector)\n",
    "    candidate_index = np.argpartition(-rating_vector, dim-1)[:dim]\n",
    "    prediction_items = candidate_index[rating_vector[candidate_index].argsort()[::-1]]\n",
    "    \n",
    "    if remove_train:\n",
    "        return np.delete(prediction_items, np.isin(prediction_items, train_vector.nonzero()[1]).nonzero()[0])\n",
    "    else:\n",
    "        return prediction_items\n",
    "\n",
    "    \n",
    "    \n",
    "def predict_scores(matrix_U, matrix_V, bias=None,\n",
    "                   penalize = False,\n",
    "                   keyphrase_freq = I_K, \n",
    "                   critiqued_keyphrase = 0, \n",
    "                   matrix_Train = rtrain,\n",
    "                   alpha = 0):\n",
    "    prediction = matrix_U.dot(matrix_V.T)\n",
    "    # Penalize\n",
    "    if penalize == True:\n",
    "        items_with_keyphrase = np.ravel(keyphrase_freq.T[critiqued_keyphrase].nonzero()[1])\n",
    "        items_without_keyphrase = np.setdiff1d(np.arange(matrix_Train.shape[1]), items_with_keyphrase)\n",
    "        prediction[items_without_keyphrase] = alpha # penalize\n",
    "    \n",
    "    return prediction\n"
   ]
  },
  {
   "cell_type": "markdown",
   "metadata": {},
   "source": [
    "# Evaluation"
   ]
  },
  {
   "cell_type": "code",
   "execution_count": 10,
   "metadata": {
    "collapsed": true
   },
   "outputs": [],
   "source": [
    "# Evluation \n",
    "def recallk(vector_true_dense, hits, **unused):\n",
    "    hits = len(hits.nonzero()[0])\n",
    "    return float(hits)/len(vector_true_dense)\n",
    "\n",
    "def precisionk(vector_predict, hits, **unused):\n",
    "    hits = len(hits.nonzero()[0])\n",
    "    return float(hits)/len(vector_predict)\n",
    "\n",
    "\n",
    "def average_precisionk(vector_predict, hits, **unused):\n",
    "    precisions = np.cumsum(hits, dtype=np.float32)/range(1, len(vector_predict)+1)\n",
    "    return np.mean(precisions)\n",
    "\n",
    "\n",
    "def r_precision(vector_true_dense, vector_predict, **unused):\n",
    "    vector_predict_short = vector_predict[:len(vector_true_dense)]\n",
    "    hits = len(np.isin(vector_predict_short, vector_true_dense).nonzero()[0])\n",
    "    return float(hits)/len(vector_true_dense)\n",
    "\n",
    "\n",
    "def _dcg_support(size):\n",
    "    arr = np.arange(1, size+1)+1\n",
    "    return 1./np.log2(arr)\n",
    "\n",
    "\n",
    "def ndcg(vector_true_dense, vector_predict, hits):\n",
    "    idcg = np.sum(_dcg_support(len(vector_true_dense)))\n",
    "    dcg_base = _dcg_support(len(vector_predict))\n",
    "    dcg_base[np.logical_not(hits)] = 0\n",
    "    dcg = np.sum(dcg_base)\n",
    "    return dcg/idcg\n",
    "\n",
    "\n",
    "def click(hits, **unused):\n",
    "    first_hit = next((i for i, x in enumerate(hits) if x), None)\n",
    "    if first_hit is None:\n",
    "        return 5\n",
    "    else:\n",
    "        return first_hit/10\n",
    "\n",
    "\n",
    "def evaluate(matrix_Predict, matrix_Test, metric_names =['R-Precision', 'NDCG', 'Precision', 'Recall', 'MAP'], atK = [5, 10, 15, 20, 50], analytical=False):\n",
    "    \"\"\"\n",
    "    :param matrix_U: Latent representations of users, for LRecs it is RQ, for ALSs it is U\n",
    "    :param matrix_V: Latent representations of items, for LRecs it is Q, for ALSs it is V\n",
    "    :param matrix_Train: Rating matrix for training, features.\n",
    "    :param matrix_Test: Rating matrix for evaluation, true labels.\n",
    "    :param k: Top K retrieval\n",
    "    :param metric_names: Evaluation metrics\n",
    "    :return:\n",
    "    \"\"\"\n",
    "    global_metrics = {\n",
    "        \"R-Precision\": r_precision,\n",
    "        \"NDCG\": ndcg,\n",
    "        \"Clicks\": click\n",
    "    }\n",
    "\n",
    "    local_metrics = {\n",
    "        \"Precision\": precisionk,\n",
    "        \"Recall\": recallk,\n",
    "        \"MAP\": average_precisionk\n",
    "    }\n",
    "\n",
    "    output = dict()\n",
    "\n",
    "    num_users = matrix_Predict.shape[0]\n",
    "\n",
    "    for k in atK:\n",
    "\n",
    "        local_metric_names = list(set(metric_names).intersection(local_metrics.keys()))\n",
    "        results = {name: [] for name in local_metric_names}\n",
    "        topK_Predict = matrix_Predict[:, :k]\n",
    "\n",
    "        for user_index in tqdm(range(topK_Predict.shape[0])):\n",
    "            vector_predict = topK_Predict[user_index]\n",
    "            if len(vector_predict.nonzero()[0]) > 0:\n",
    "                vector_true = matrix_Test[user_index]\n",
    "                vector_true_dense = vector_true.nonzero()[1]\n",
    "                hits = np.isin(vector_predict, vector_true_dense)\n",
    "\n",
    "                if vector_true_dense.size > 0:\n",
    "                    for name in local_metric_names:\n",
    "                        results[name].append(local_metrics[name](vector_true_dense=vector_true_dense,\n",
    "                                                                 vector_predict=vector_predict,\n",
    "                                                                 hits=hits))\n",
    "\n",
    "        results_summary = dict()\n",
    "        if analytical:\n",
    "            for name in local_metric_names:\n",
    "                results_summary['{0}@{1}'.format(name, k)] = results[name]\n",
    "        else:\n",
    "            for name in local_metric_names:\n",
    "                results_summary['{0}@{1}'.format(name, k)] = (np.average(results[name]),\n",
    "                                                              1.96*np.std(results[name])/np.sqrt(num_users))\n",
    "        output.update(results_summary)\n",
    "\n",
    "    global_metric_names = list(set(metric_names).intersection(global_metrics.keys()))\n",
    "    results = {name: [] for name in global_metric_names}\n",
    "\n",
    "    topK_Predict = matrix_Predict[:]\n",
    "\n",
    "    for user_index in tqdm(range(topK_Predict.shape[0])):\n",
    "        vector_predict = topK_Predict[user_index]\n",
    "\n",
    "        if len(vector_predict.nonzero()[0]) > 0:\n",
    "            vector_true = matrix_Test[user_index]\n",
    "            vector_true_dense = vector_true.nonzero()[1]\n",
    "            hits = np.isin(vector_predict, vector_true_dense)\n",
    "\n",
    "            # if user_index == 1:\n",
    "            #     import ipdb;\n",
    "            #     ipdb.set_trace()\n",
    "\n",
    "            if vector_true_dense.size > 0:\n",
    "                for name in global_metric_names:\n",
    "                    results[name].append(global_metrics[name](vector_true_dense=vector_true_dense,\n",
    "                                                              vector_predict=vector_predict,\n",
    "                                                              hits=hits))\n",
    "\n",
    "    results_summary = dict()\n",
    "    if analytical:\n",
    "        for name in global_metric_names:\n",
    "            results_summary[name] = results[name]\n",
    "    else:\n",
    "        for name in global_metric_names:\n",
    "            results_summary[name] = (np.average(results[name]), 1.96*np.std(results[name])/np.sqrt(num_users))\n",
    "    output.update(results_summary)\n",
    "\n",
    "    return output\n",
    "\n"
   ]
  },
  {
   "cell_type": "markdown",
   "metadata": {},
   "source": [
    "## Single Step Critiquing Pipline"
   ]
  },
  {
   "cell_type": "markdown",
   "metadata": {},
   "source": [
    "### Initial Prediction"
   ]
  },
  {
   "cell_type": "code",
   "execution_count": 11,
   "metadata": {
    "collapsed": true
   },
   "outputs": [],
   "source": [
    "# KNN initial Prediction\n",
    "def get_initial_prediction(user,X = normalize(U_K.todense()), y = normalize(train(rtrain)),\n",
    "                            matrix_Train = rtrain, k = 100):\n",
    "    \"\"\"\n",
    "    Get the initial knn predictions before critiquing pipelines\n",
    "    get the linear regression model for critiquing embedding (W_2)\n",
    "    get the initial user similarity matrix \n",
    "    k here is the parameter for KNN\n",
    "    \"\"\"\n",
    "    clf = Ridge(alpha=0.1).fit(X, y)\n",
    "    similarity = normalize(train(matrix_Train))\n",
    "    user_item_prediction_score = predict_vector(user, matrix_Train, k, similarity)\n",
    "    return user_item_prediction_score, clf\n"
   ]
  },
  {
   "cell_type": "code",
   "execution_count": 12,
   "metadata": {
    "collapsed": true
   },
   "outputs": [],
   "source": [
    "# PLREC initial Prediction\n",
    "def predict_scores(matrix_U, matrix_V, bias=None,\n",
    "                   penalize = False,\n",
    "                   keyphrase_freq = I_K, \n",
    "                   critiqued_keyphrase = 0, \n",
    "                   matrix_Train = rtrain,\n",
    "                   alpha = 0):\n",
    "    \n",
    "    prediction = matrix_U.dot(matrix_V.T)\n",
    "    # Penalize\n",
    "    if penalize == True:\n",
    "        items_with_keyphrase = np.ravel(keyphrase_freq.T[critiqued_keyphrase].nonzero()[1])\n",
    "        items_without_keyphrase = np.setdiff1d(np.arange(matrix_Train.shape[1]), items_with_keyphrase)\n",
    "        prediction[items_without_keyphrase] = alpha # penalize\n",
    "    \n",
    "    return prediction\n"
   ]
  },
  {
   "cell_type": "markdown",
   "metadata": {},
   "source": [
    "### Forward predict"
   ]
  },
  {
   "cell_type": "markdown",
   "metadata": {},
   "source": [
    "Predict a single row (for single user)"
   ]
  },
  {
   "cell_type": "code",
   "execution_count": 13,
   "metadata": {
    "collapsed": true
   },
   "outputs": [],
   "source": [
    "# KNN\n",
    "\n",
    "def predict_vector(user_index, matrix_train, k, similarity):\n",
    "    \"\"\"\n",
    "    res = similarity * matrix_train    if item_similarity_en = False\n",
    "    res = similarity * matrix_train.T  if item_similarity_en = True\n",
    "    get only user_index row\n",
    "    \"\"\"\n",
    "    vector_u = similarity[user_index]\n",
    "    \n",
    "    # Get closest K neighbors excluding user u self\n",
    "    similar_users = vector_u.argsort()[::-1][1:k+1]\n",
    "    # Get neighbors similarity weights and ratings\n",
    "    similar_users_weights = similarity[user_index][similar_users]\n",
    "    similar_users_ratings = matrix_train[similar_users].toarray()\n",
    "    prediction_scores_u = similar_users_ratings * similar_users_weights[:, np.newaxis]\n",
    "    \n",
    "    return np.sum(prediction_scores_u, axis=0)\n",
    "    \n",
    "\n",
    "def predict_vector(user_index, matrix_train, k, similarity, with_keyphrase = False, \n",
    "                   keyphrase_freq = None, critiqued_keyphrase = None, alpha = 0):\n",
    "    \"\"\"\n",
    "    get only user_index row\n",
    "    if with_keyphrase = True, then penalize items without critiqued_keyphrase to alpha (default = 0)\n",
    "    \"\"\"\n",
    "    vector_u = similarity[user_index]\n",
    "    \n",
    "    # Get closest K neighbors excluding user u self\n",
    "    similar_users = vector_u.argsort()[::-1][1:k+1]\n",
    "    # Get neighbors similarity weights and ratings\n",
    "    similar_users_weights = similarity[user_index][similar_users]\n",
    "    similar_users_ratings = matrix_train[similar_users].toarray()\n",
    "    \n",
    "    prediction_scores_u = similar_users_ratings * similar_users_weights[:, np.newaxis]\n",
    "    \n",
    "    if with_keyphrase == False:\n",
    "        return np.sum(prediction_scores_u, axis=0)\n",
    "    \n",
    "    # Only Predict items with critiqued_keyphrase \n",
    "    else:\n",
    "        prediction_scores = np.sum(prediction_scores_u, axis=0)\n",
    "#         print (prediction_scores)\n",
    "        #penalize items without critiqued keyphrase\n",
    "        items_with_keyphrase = np.ravel(keyphrase_freq.T[critiqued_keyphrase].nonzero()[1])\n",
    "#         print (items_with_keyphrase)\n",
    "        #Return the unique values in ar1 that are not in ar2.\n",
    "        items_without_keyphrase = np.setdiff1d(np.arange(matrix_train.shape[1]), items_with_keyphrase)\n",
    "        prediction_scores[items_without_keyphrase] = alpha # penalize\n",
    "        return prediction_scores\n",
    "#         print (prediction_scores)\n",
    "#         return prediction_scores/sum(prediction_scores)\n"
   ]
  },
  {
   "cell_type": "code",
   "execution_count": 14,
   "metadata": {
    "collapsed": true
   },
   "outputs": [],
   "source": [
    "# PLREC\n",
    "def predict_vector(rating_vector, train_vector, remove_train=True):\n",
    "    dim = len(rating_vector)\n",
    "    candidate_index = np.argpartition(-rating_vector, dim-1)[:dim]\n",
    "    prediction_items = candidate_index[rating_vector[candidate_index].argsort()[::-1]]\n",
    "    \n",
    "    if remove_train:\n",
    "        return np.delete(prediction_items, np.isin(prediction_items, train_vector.nonzero()[1]).nonzero()[0])\n",
    "    else:\n",
    "        return prediction_items\n"
   ]
  },
  {
   "cell_type": "markdown",
   "metadata": {},
   "source": [
    "### Keyphrase Selection"
   ]
  },
  {
   "cell_type": "code",
   "execution_count": 15,
   "metadata": {
    "collapsed": true
   },
   "outputs": [],
   "source": [
    "def get_valid_keyphrases(keyphrase_freq,top_recommendations,item = None,threshold=50,mutiple_keyphrases_en = False, top_items = None):\n",
    "    \"\"\"\n",
    "    Wrapper function to get either top 1 or top n keyphrases\n",
    "    \"\"\"\n",
    "    if mutiple_keyphrases_en:\n",
    "        top_keyphrases = []\n",
    "        for item in top_items:\n",
    "            top_keyphrases.extend(get_valid_keyphrases_for_one_item(keyphrase_freq,top_recommendations,item,threshold=threshold))\n",
    "        return np.ravel(list(set(top_keyphrases))) # remove duplicate and reformat to np array\n",
    "    else:\n",
    "        return get_valid_keyphrases_for_one_item(keyphrase_freq,top_recommendations,item,threshold=threshold)\n",
    "\n",
    "def get_valid_keyphrases_for_one_item(keyphrase_freq,top_recommendations, item,threshold=50):\n",
    "    \"\"\"\n",
    "    Get keyphrases of item that make sense\n",
    "    E.g. if the item has fewer than threshold=50 keyphrases, get all of them\n",
    "    otherwise get top 50 keyphrases\n",
    "    \"\"\"\n",
    "    keyphrase_length = len(keyphrase_freq[item].nonzero()[1])\n",
    "    if keyphrase_length<threshold:\n",
    "        return keyphrase_freq[item].nonzero()[1]\n",
    "    else:\n",
    "        keyphrases = np.ravel(keyphrase_freq[top_recommendations[0]].todense())\n",
    "        top_keyphrases = np.argsort(keyphrases)[::-1][:threshold]\n",
    "        return top_keyphrases\n",
    "    \n",
    "# For keyphrase selecting method # 3 \"diff\" \n",
    "def get_item_keyphrase_freq(keyphrase_freq,item):\n",
    "    \"\"\"\n",
    "    Get item's keyphrase frequency \n",
    "    \"\"\"\n",
    "    count = keyphrase_freq[item].todense()\n",
    "    return count/np.sum(count)\n",
    "\n",
    "def get_keyphrase_popularity(df,keyphrases):\n",
    "    \"\"\"\n",
    "    Get keyphrase popularity (count) from dataframe\n",
    "    \"\"\"\n",
    "    keyphrase_popularity = np.zeros(len(keyphrases)) #initialize\n",
    "    for i in range(len(df)):\n",
    "        keyphrase_vector = literal_eval(df['keyVector'][i])\n",
    "        keyphrase_popularity[keyphrase_vector] += 1 # count\n",
    "    return keyphrase_popularity"
   ]
  },
  {
   "cell_type": "markdown",
   "metadata": {},
   "source": [
    "### Critiquing Methods"
   ]
  },
  {
   "cell_type": "code",
   "execution_count": 16,
   "metadata": {
    "collapsed": true
   },
   "outputs": [],
   "source": [
    "# One hot encoding of critiquing\n",
    "def get_critiqued_UK(user_keyphrase_frequency,user_index,critiqued_keyphrase):\n",
    "    \"\"\"\n",
    "    user_keyphrase_frequency is the U_K matrix (csr sparse matrix)\n",
    "    return the one-hot encoding of the critique\n",
    "    \"\"\"\n",
    "    U_K_cp = user_keyphrase_frequency.copy()\n",
    "    U_K_cp[user_index] = 0\n",
    "    U_K_cp[user_index,critiqued_keyphrase] = 1\n",
    "    return U_K_cp\n",
    "\n",
    "def project_one_hot_encoding(reg, user_keyphrase_frequency,user_index = 0,critiqued_keyphrase = 0, normalize_en = True):\n",
    "    \"\"\"\n",
    "    Return the projection on user_sim space from one-hot encoding of critiqued keyphrase\n",
    "    The res[user_index] should be target embedding row\n",
    "    \"\"\"\n",
    "    critiqued_matrix = get_critiqued_UK(user_keyphrase_frequency, user_index, critiqued_keyphrase)\n",
    "    res = reg.predict(critiqued_matrix)\n",
    "    if normalize_en:\n",
    "        res = normalize((res))\n",
    "    return res"
   ]
  },
  {
   "cell_type": "code",
   "execution_count": 17,
   "metadata": {
    "collapsed": true
   },
   "outputs": [],
   "source": [
    "# Upper bound method \n",
    "def get_all_affected_items(wanted_keyphrases,keyphrase_freq):\n",
    "    res = []\n",
    "    for keyphrase in wanted_keyphrases:\n",
    "        items = np.ravel(keyphrase_freq.T[keyphrase].nonzero()[1])\n",
    "        res.extend(items)\n",
    "    return np.array(list(set(res)))\n",
    "    \n",
    "def select_only_wanted_keyphrase(top_recommendations, wanted_keyphrases, keyphrase_freq, matrix_Train = rtrain):\n",
    "    all_items_with_keyphrases = get_all_affected_items(wanted_keyphrases,keyphrase_freq)\n",
    "    affected_items = np.setdiff1d(np.arange(matrix_Train.shape[1]), all_items_with_keyphrases) # Get all other keyphrases\n",
    "    top_recommendations[~np.in1d(top_recommendations, affected_items)]\n",
    "    return top_recommendations\n",
    "\n",
    "def pruning(prediction_score, \n",
    "           wanted_keyphrases_random, \n",
    "           top_recommendations, \n",
    "           keyphrase_freq, \n",
    "           matrix_Train = rtrain,\n",
    "           alpha = 0):\n",
    "    items_with_keyphrase = get_all_affected_items(wanted_keyphrases_random, keyphrase_freq)\n",
    "    #Return the unique values in ar1 that are not in ar2.\n",
    "    items_without_keyphrase = np.setdiff1d(np.arange(matrix_Train.shape[1]), items_with_keyphrase)\n",
    "#     print (items_without_keyphrase)\n",
    "    print (sum(prediction_score[items_without_keyphrase]))\n",
    "    score = np.copy(prediction_score)\n",
    "    score[items_without_keyphrase] = alpha # penalize\n",
    "    return score"
   ]
  },
  {
   "cell_type": "markdown",
   "metadata": {},
   "source": [
    "### Utilities"
   ]
  },
  {
   "cell_type": "code",
   "execution_count": 18,
   "metadata": {
    "collapsed": true
   },
   "outputs": [],
   "source": [
    "# Utility function for getting restaurant info from ItemIndex\n",
    "def get_business_df(path = \"../../data/yelp/business.json\" ):\n",
    "    with open(path,encoding=\"utf8\") as json_file:\n",
    "        data = json_file.readlines()\n",
    "        data = list(map(json.loads, data))\n",
    "    df = pd.DataFrame(data)\n",
    "    \n",
    "    return df\n",
    "\n",
    "def get_restaurant_info(business_df, business_id, name = True, review_count = True, stars = True ):\n",
    "    output_list = {}\n",
    "    row_idx = int(business_df.index[business_df['business_id'] == business_id].tolist()[0])\n",
    "    if name == True:\n",
    "        output_list['name'] = business_df['name'][row_idx].encode('utf-8').strip()\n",
    "    if review_count == True:\n",
    "        output_list['review_count'] = business_df['review_count'][row_idx]\n",
    "    if stars == True:\n",
    "        output_list['stars'] = business_df['stars'][row_idx] \n",
    "    return output_list\n",
    "\n",
    "# def get_businessid_from_Itemindex(ItemIndex_list, itemindex):\n",
    "#     return ItemIndex_list['business_id'].tolist()[itemindex]\n",
    "\n",
    "def get_restaurant_name(df_train, business_df, ItemIndex):\n",
    "    rows = np.where(df_train['ItemIndex'] == ItemIndex)\n",
    "    if len(rows)!= 0:\n",
    "        business_id = df_train.loc[rows[0][0]]['business_id']\n",
    "        item_info = get_restaurant_info(business_df, business_id)\n",
    "        return item_info['name']\n",
    "    return \"NOT_FOUND\""
   ]
  },
  {
   "cell_type": "markdown",
   "metadata": {},
   "source": [
    "### Experiment Function"
   ]
  },
  {
   "cell_type": "code",
   "execution_count": 19,
   "metadata": {
    "collapsed": true
   },
   "outputs": [],
   "source": [
    "business_df = get_business_df()"
   ]
  },
  {
   "cell_type": "code",
   "execution_count": 20,
   "metadata": {},
   "outputs": [
    {
     "name": "stdout",
     "output_type": "stream",
     "text": [
      "Randomized SVD\n",
      "Elapsed: 00:00:00\n",
      "Closed-Form Linear Optimization\n",
      "Elapsed: 00:00:00\n"
     ]
    }
   ],
   "source": [
    "Y, RQt, Bias = plrec(rtrain,\n",
    "                    iteration = 10,\n",
    "                    lamb = 200,\n",
    "                    rank = 200)\n",
    "RQ = RQt.T\n",
    "reg = LinearRegression().fit(normalize(U_K), Y)"
   ]
  },
  {
   "cell_type": "code",
   "execution_count": 21,
   "metadata": {
    "collapsed": true
   },
   "outputs": [],
   "source": [
    "# Set up dataframe \n",
    "\n",
    "# post_ranki is post rank with different lambda ratio for combining pre-post User similarity matrix \n",
    "\n",
    "columns = ['user_id', 'target_item', 'item_name', 'iter', 'pre_rank', \n",
    "           'top_prediction_item_name',\n",
    "           'post_rank_random_all',\n",
    "           'post_rank_random_upper',\n",
    "           'random_scores',\n",
    "           'post_rank_pop_all',\n",
    "           'post_rank_pop_upper',\n",
    "           'pop_scores',\n",
    "           'post_rank_diff_all',\n",
    "           'post_rank_diff_upper',\n",
    "           'diff_scores',\n",
    "           'critiqued_keyphrase_random',\n",
    "           'keyphrase_name_random',\n",
    "           'critiqued_keyphrase_pop',\n",
    "           'keyphrase_name_pop',\n",
    "           'critiqued_keyphrase_diff',\n",
    "           'keyphrase_name_diff',\n",
    "           'num_existing_keyphrases',\n",
    "           'pure_pruning_rank'] \n",
    "df = pd.DataFrame(columns=columns)\n",
    "row = {}"
   ]
  },
  {
   "cell_type": "code",
   "execution_count": 22,
   "metadata": {
    "collapsed": true
   },
   "outputs": [],
   "source": [
    "def single_step_critiquing_plrec(user = 2, \n",
    "                           keyphrase_length_threshold = 150, \n",
    "                           max_iteration_threshold = 5,\n",
    "                           k = 50,\n",
    "                           df = df,\n",
    "                           row = row,\n",
    "                           business_df = business_df,\n",
    "                           keyphrases = keyphrases,\n",
    "                           keyphrase_popularity = keyphrase_popularity, \n",
    "                           keyphrase_selection_method = 'random',\n",
    "                           recommend_type = 'all',\n",
    "                           lams = [0,0.1,0.2,0.3,0.4,0.5,0.6,0.7,0.8,0.9,1],\n",
    "                           reg = reg, Y = Y, RQt = RQt, Bias = Bias,\n",
    "                           top_k_rec = 20, affected_weight = 1, unaffected_weight = -1\n",
    "                          ):\n",
    "    \"\"\"\n",
    "    k: HR@k \n",
    "    keyphrase_length_threshold: limit the number of keyphrases in top recommended item\n",
    "    keyphrase_selection_method: 'random': randomly select keyphrase from wanted_keyphrases\n",
    "                                'pop': always select the most popular keyphrase in wanted_keyphrases\n",
    "                                'diff': select the keyphrase with largest frequency difference between top recommended \n",
    "                                        item and target item.\n",
    "    recommend_type: 'all': recommend all items\n",
    "                    'upper' (only_with_critiqued_keyphrase): recommend items with only critiqued_keyphrase\n",
    "    lam: modified_matrix = lam*origianl_matrix + (1-lam)*critiquing_embedding \n",
    "    \"\"\"\n",
    "    \n",
    "    row['user_id'] = user\n",
    "    print ('User ID ', user)\n",
    "    \n",
    "    # Set up (move to header line later)\n",
    "    matrix_Train = rtrain\n",
    "    matrix_Test = rtest\n",
    "    keyphrase_freq = I_K\n",
    "    num_items = rtrain.shape[1]\n",
    "    max_wanted_keyphrase = 10 # for keyphrase_selection_method == \"diff\"\n",
    "    initial_user_similarity_embedding = normalize(train(matrix_Train))\n",
    "    \n",
    "    # Get wanted items \n",
    "    candidate_items = matrix_Test[user].nonzero()[1]\n",
    "    train_items = matrix_Train[user].nonzero()[1]\n",
    "    wanted_items = np.setdiff1d(candidate_items, train_items)\n",
    "    print ('wanted_items length: ',len(wanted_items))\n",
    "    \n",
    "    # Get initial forward prediction \n",
    "    prediction_score = predict_scores(matrix_U=RQ,\n",
    "                                      matrix_V=Y,\n",
    "                                      bias=Bias).T[user]\n",
    "    \n",
    "    # Get initial top recommended item(s)\n",
    "    top_recommendations = np.argsort(prediction_score)[::-1]\n",
    "    print (\"Initial top recommendation index\",top_recommendations[0])\n",
    "    try:\n",
    "        row['top_prediction_item_name'] = get_restaurant_name(df_train, business_df, top_recommendations[0])\n",
    "    except: \n",
    "        row['top_prediction_item_name'] = 'CANNOT_FIND'\n",
    "        print ('Cannot get restaurant name for ItemIndex: ', top_recommendations[0])\n",
    "    \n",
    "    \n",
    "    # Get top recommended item's keyphrases\n",
    "    top_item = top_recommendations[0] \n",
    "    top_recommend_keyphrases = get_valid_keyphrases(keyphrase_freq,\n",
    "                                                    top_recommendations, \n",
    "                                                    item = top_item,\n",
    "                                                    threshold=keyphrase_length_threshold,\n",
    "                                                    mutiple_keyphrases_en = False, \n",
    "                                                    top_items = None)\n",
    "    top_recommended_keyphrase_freq = get_item_keyphrase_freq(keyphrase_freq,item = top_item)\n",
    "    \n",
    "    \n",
    "    #####################################\n",
    "    # For each item, do the critiquing\n",
    "    \n",
    "    #limit the item to only 10\n",
    "    num_target_item = 0 # initialize item count\n",
    "    \n",
    "    for item in wanted_items:    \n",
    "        print ('target_item: ', item)\n",
    "        row['target_item'] = item\n",
    "        try:\n",
    "            row['item_name'] = get_restaurant_name(df_train, business_df, item)\n",
    "        except:\n",
    "            row['item_name'] = 'CANNOT_FIND'\n",
    "            print ('Cannot get restaurant name for ItemIndex: ', item)\n",
    "\n",
    "        # Get pre-critiquing rank\n",
    "        initial_rank = np.where(item == np.argsort(prediction_score)[::-1])[0][0]\n",
    "        row['pre_rank'] = int(initial_rank)\n",
    "\n",
    "        # Get the target item's existing keyphrases\n",
    "        item_keyphrases = keyphrase_freq[item].nonzero()[1]\n",
    "        \n",
    "        # For diff \n",
    "        target_keyphrase_freq = get_item_keyphrase_freq(keyphrase_freq,item = item)\n",
    "        diff_keyphrase_freq = target_keyphrase_freq - top_recommended_keyphrase_freq\n",
    "        \n",
    "        wanted_keyphrases_random = np.setdiff1d(item_keyphrases,top_recommend_keyphrases)\n",
    "        wanted_keyphrases_pop = np.setdiff1d(item_keyphrases,top_recommend_keyphrases)\n",
    "        wanted_keyphrases_diff = np.argsort(np.ravel(diff_keyphrase_freq))[::-1][:max_wanted_keyphrase]\n",
    "        \n",
    "        pruned_prediction_score = pruning(prediction_score, \n",
    "                                           wanted_keyphrases_random, \n",
    "                                           top_recommendations, \n",
    "                                           keyphrase_freq, \n",
    "                                           matrix_Train = rtrain)\n",
    "        pure_pruning_rank = np.where(item == np.argsort(pruned_prediction_score)[::-1])[0][0]\n",
    "        if pure_pruning_rank>initial_rank:\n",
    "            pure_pruning_rank = initial_rank\n",
    "        row['pure_pruning_rank'] = int(pure_pruning_rank)    \n",
    "        \n",
    "        affected_items = np.array([])\n",
    "        modified_matrix = initial_user_similarity_embedding # initialize user similarity embedding\n",
    "        \n",
    "        #############################################\n",
    "        # Critiquing iteration\n",
    "        for iteration in range(max_iteration_threshold):\n",
    "            print ('cur_iter ', iteration)\n",
    "            row['iter'] = iteration\n",
    "\n",
    "            if len(wanted_keyphrases_random) == 0 or len(wanted_keyphrases_diff) == 0: \n",
    "                print ('no more keyphrase available')\n",
    "                break\n",
    "            critiqued_keyphrase_random = np.random.choice(wanted_keyphrases_random, size=1, replace=False)[0]\n",
    "            critiqued_keyphrase_pop = wanted_keyphrases_pop[np.argmin(keyphrase_popularity[wanted_keyphrases_pop])] # Select the least popular\n",
    "            critiqued_keyphrase_diff = wanted_keyphrases_diff[0]\n",
    "            \n",
    "            row['critiqued_keyphrase_random'] = critiqued_keyphrase_random\n",
    "            row['keyphrase_name_random'] = keyphrases[critiqued_keyphrase_random]\n",
    "            row['critiqued_keyphrase_pop'] = critiqued_keyphrase_pop\n",
    "            row['keyphrase_name_pop'] = keyphrases[critiqued_keyphrase_pop]\n",
    "            row['critiqued_keyphrase_diff'] = critiqued_keyphrase_diff\n",
    "            row['keyphrase_name_diff'] = keyphrases[critiqued_keyphrase_diff]\n",
    "            \n",
    "            # Do not critique this keyphrase next time\n",
    "            wanted_keyphrases_random = np.delete(wanted_keyphrases_random, np.where(critiqued_keyphrase_random == wanted_keyphrases_random))\n",
    "            wanted_keyphrases_pop = np.delete(wanted_keyphrases_pop, np.where(critiqued_keyphrase_pop == wanted_keyphrases_pop))\n",
    "            wanted_keyphrases_diff = np.delete(wanted_keyphrases_diff, np.where(critiqued_keyphrase_diff == wanted_keyphrases_diff))\n",
    "            \n",
    "            # Critiquing Embedding\n",
    "\n",
    "            # One hot encoding\n",
    "            critiqued_matrix_onehot = get_critiqued_UK(U_K,user,critiqued_keyphrase_random)\n",
    "            critiqued_matrix = reg.predict(critiqued_matrix_onehot)\n",
    "            critiqued_matrix_random =critiqued_matrix\n",
    "\n",
    "            critiqued_matrix_onehot = get_critiqued_UK(U_K,user,critiqued_keyphrase_pop)\n",
    "            critiqued_matrix = reg.predict(critiqued_matrix_onehot)\n",
    "            critiqued_matrix_pop = critiqued_matrix\n",
    "\n",
    "            critiqued_matrix_onehot = get_critiqued_UK(U_K,user,critiqued_keyphrase_diff)\n",
    "            critiqued_matrix = reg.predict(critiqued_matrix_onehot)\n",
    "            critiqued_matrix_diff = critiqued_matrix\n",
    "\n",
    "\n",
    "            # Warning!!! The following is used only for testing single step critiquing, \n",
    "            # for full average critiquing, use the above commented line \n",
    "            post_ranks_random_all = []\n",
    "            post_ranks_random_upper = []\n",
    "            random_scores = []\n",
    "            post_ranks_pop_all = []\n",
    "            post_ranks_pop_upper = []\n",
    "            pop_scores = []\n",
    "            post_ranks_diff_all = []\n",
    "            post_ranks_diff_upper = []\n",
    "            diff_scores = []\n",
    "            \n",
    "            num_items = matrix_Train.shape[1]\n",
    "            affected_items_random = keyphrase_freq[:,critiqued_keyphrase_random].nonzero()[0]\n",
    "            affected_items_pop = keyphrase_freq[:,critiqued_keyphrase_pop].nonzero()[0]\n",
    "            affected_items_diff = keyphrase_freq[:,critiqued_keyphrase_diff].nonzero()[0]\n",
    "            unaffected_items_random = np.setdiff1d(range(num_items), affected_items_random)\n",
    "            unaffected_items_pop = np.setdiff1d(range(num_items), affected_items_pop)\n",
    "            unaffected_items_diff = np.setdiff1d(range(num_items), affected_items_diff)\n",
    "            \n",
    "            for lam in lams:\n",
    "                modified_matrix_random = (1-lam)*Y + lam*critiqued_matrix_random \n",
    "                modified_matrix_pop = (1-lam)*Y + lam*critiqued_matrix_pop \n",
    "                modified_matrix_diff = (1-lam)*Y + lam*critiqued_matrix_diff \n",
    "                \n",
    "                # Random\n",
    "                prediction_scores_u = predict_scores(matrix_U=modified_matrix_random[user], \n",
    "                                     matrix_V=RQ,\n",
    "                                     )\n",
    "                prediction_items = predict_vector(rating_vector=prediction_scores_u,\n",
    "                                                  train_vector=matrix_Train[user],\n",
    "                                                  remove_train=False)\n",
    "                \n",
    "                item_rank = np.where(prediction_items == item)[0][0]\n",
    "                post_ranks_random_all.append(item_rank)\n",
    "                \n",
    "                # Random scores\n",
    "                affected_hit = sum(np.in1d(prediction_items[:top_k_rec],affected_items_random))\n",
    "                unaffected_hit = sum(np.in1d(prediction_items[:top_k_rec],unaffected_items_random))\n",
    "                score = affected_weight*affected_hit + unaffected_weight*unaffected_hit\n",
    "                random_scores.append(score)\n",
    "                \n",
    "                # Random upper \n",
    "                prediction_scores_u = predict_scores(matrix_U=modified_matrix_random[user], \n",
    "                                                     matrix_V=RQ, \n",
    "                                                     bias=None,\n",
    "                                                   penalize = True,\n",
    "                                                   keyphrase_freq = keyphrase_freq, \n",
    "                                                   critiqued_keyphrase = critiqued_keyphrase_random, \n",
    "                                                   matrix_Train = matrix_Train,\n",
    "                                                   alpha = 0)\n",
    "                prediction_items = predict_vector(rating_vector=prediction_scores_u,\n",
    "                                                  train_vector=matrix_Train[user],\n",
    "                                                  remove_train=False)\n",
    "                item_rank = np.where(prediction_items == item)[0][0]\n",
    "                post_ranks_random_upper.append(item_rank)\n",
    "                \n",
    "                # Pop\n",
    "                prediction_scores_u = predict_scores(matrix_U=modified_matrix_pop[user], \n",
    "                                     matrix_V=RQ,\n",
    "                                     )\n",
    "                prediction_items = predict_vector(rating_vector=prediction_scores_u,\n",
    "                                                  train_vector=matrix_Train[user],\n",
    "                                                  remove_train=False)\n",
    "                \n",
    "                item_rank = np.where(prediction_items == item)[0][0]\n",
    "                post_ranks_pop_all.append(item_rank)\n",
    "                \n",
    "                \n",
    "                # pop scores\n",
    "                affected_hit = sum(np.in1d(prediction_items[:top_k_rec],affected_items_pop))\n",
    "                unaffected_hit = sum(np.in1d(prediction_items[:top_k_rec],unaffected_items_pop))\n",
    "                score = affected_weight*affected_hit + unaffected_weight*unaffected_hit\n",
    "                pop_scores.append(score)\n",
    "                \n",
    "                # Pop upper \n",
    "                \n",
    "                prediction_scores_u = predict_scores(matrix_U=modified_matrix_pop[user], \n",
    "                                                     matrix_V=RQ, \n",
    "                                                     bias=None,\n",
    "                                                   penalize = True,\n",
    "                                                   keyphrase_freq = keyphrase_freq, \n",
    "                                                   critiqued_keyphrase = critiqued_keyphrase_pop, \n",
    "                                                   matrix_Train = matrix_Train,\n",
    "                                                   alpha = 0)\n",
    "                prediction_items = predict_vector(rating_vector=prediction_scores_u,\n",
    "                                                  train_vector=matrix_Train[user],\n",
    "                                                  remove_train=False)\n",
    "                item_rank = np.where(prediction_items == item)[0][0]\n",
    "                post_ranks_pop_upper.append(item_rank)\n",
    "                \n",
    "                # Diff\n",
    "                prediction_scores_u = predict_scores(matrix_U=modified_matrix_diff[user], \n",
    "                                     matrix_V=RQ,\n",
    "                                     )\n",
    "                prediction_items = predict_vector(rating_vector=prediction_scores_u,\n",
    "                                                  train_vector=matrix_Train[user],\n",
    "                                                  remove_train=False)\n",
    "                \n",
    "                item_rank = np.where(prediction_items == item)[0][0]\n",
    "                post_ranks_diff_all.append(item_rank)\n",
    "                \n",
    "                # Diff scores\n",
    "                affected_hit = sum(np.in1d(prediction_items[:top_k_rec],affected_items_diff))\n",
    "                unaffected_hit = sum(np.in1d(prediction_items[:top_k_rec],unaffected_items_diff))\n",
    "                score = affected_weight*affected_hit + unaffected_weight*unaffected_hit\n",
    "                diff_scores.append(score)\n",
    "                \n",
    "                # Diff upper \n",
    "                prediction_scores_u = predict_scores(matrix_U=modified_matrix_diff[user], \n",
    "                                                     matrix_V=RQ, \n",
    "                                                     bias=None,\n",
    "                                                   penalize = True,\n",
    "                                                   keyphrase_freq = keyphrase_freq, \n",
    "                                                   critiqued_keyphrase = critiqued_keyphrase_diff, \n",
    "                                                   matrix_Train = matrix_Train,\n",
    "                                                   alpha = 0)\n",
    "                prediction_items = predict_vector(rating_vector=prediction_scores_u,\n",
    "                                                  train_vector=matrix_Train[user],\n",
    "                                                  remove_train=False)\n",
    "                item_rank = np.where(prediction_items == item)[0][0]\n",
    "                post_ranks_diff_upper.append(item_rank)\n",
    "                \n",
    "                \n",
    "            row['post_rank_random_all'] = post_ranks_random_all\n",
    "            row['post_rank_random_upper'] = post_ranks_random_upper\n",
    "            row['random_scores'] = random_scores\n",
    "            row['post_rank_pop_all'] = post_ranks_pop_all\n",
    "            row['post_rank_pop_upper'] = post_ranks_pop_upper\n",
    "            row['pop_scores'] = pop_scores\n",
    "            row['post_rank_diff_all'] = post_ranks_diff_all\n",
    "            row['post_rank_diff_upper'] = post_ranks_diff_upper\n",
    "            row['diff_scores'] = diff_scores\n",
    "            df = df.append(row, ignore_index=True)\n",
    "            \n",
    "\n",
    "        # break after got 10 target items \n",
    "        num_target_item += 1\n",
    "        if num_target_item >10: # only want max 10 items per user\n",
    "            break\n",
    "            \n",
    "    return df"
   ]
  },
  {
   "cell_type": "code",
   "execution_count": 23,
   "metadata": {
    "collapsed": true
   },
   "outputs": [],
   "source": [
    "single_step_with_avg_path = '../tables/critiquing/plrec_with_obj/'"
   ]
  },
  {
   "cell_type": "code",
   "execution_count": 46,
   "metadata": {
    "scrolled": true
   },
   "outputs": [
    {
     "name": "stdout",
     "output_type": "stream",
     "text": [
      "User ID  300\n",
      "wanted_items length:  14\n",
      "Initial top recommendation index 5010\n",
      "target_item:  101\n",
      "41.54450767803064\n",
      "cur_iter  0\n"
     ]
    },
    {
     "name": "stderr",
     "output_type": "stream",
     "text": [
      "D:\\Anaconda\\envs\\tensorflow_cpu\\lib\\site-packages\\scipy\\sparse\\_index.py:126: SparseEfficiencyWarning: Changing the sparsity structure of a csr_matrix is expensive. lil_matrix is more efficient.\n",
      "  self._set_arrayXarray(i, j, x)\n"
     ]
    },
    {
     "name": "stdout",
     "output_type": "stream",
     "text": [
      "cur_iter  1\n",
      "cur_iter  2\n",
      "cur_iter  3\n",
      "no more keyphrase available\n",
      "target_item:  886\n",
      "17.15063242740507\n",
      "cur_iter  0\n"
     ]
    },
    {
     "name": "stderr",
     "output_type": "stream",
     "text": [
      "D:\\Anaconda\\envs\\tensorflow_cpu\\lib\\site-packages\\scipy\\sparse\\_index.py:126: SparseEfficiencyWarning: Changing the sparsity structure of a csr_matrix is expensive. lil_matrix is more efficient.\n",
      "  self._set_arrayXarray(i, j, x)\n"
     ]
    },
    {
     "name": "stdout",
     "output_type": "stream",
     "text": [
      "cur_iter  1\n",
      "cur_iter  2\n",
      "cur_iter  3\n",
      "cur_iter  4\n",
      "cur_iter  5\n",
      "cur_iter  6\n",
      "cur_iter  7\n",
      "cur_iter  8\n",
      "cur_iter  9\n",
      "target_item:  968\n",
      "16.475838166974427\n",
      "cur_iter  0\n"
     ]
    },
    {
     "name": "stderr",
     "output_type": "stream",
     "text": [
      "D:\\Anaconda\\envs\\tensorflow_cpu\\lib\\site-packages\\scipy\\sparse\\_index.py:126: SparseEfficiencyWarning: Changing the sparsity structure of a csr_matrix is expensive. lil_matrix is more efficient.\n",
      "  self._set_arrayXarray(i, j, x)\n"
     ]
    },
    {
     "name": "stdout",
     "output_type": "stream",
     "text": [
      "cur_iter  1\n",
      "cur_iter  2\n",
      "cur_iter  3\n",
      "cur_iter  4\n",
      "cur_iter  5\n",
      "cur_iter  6\n",
      "cur_iter  7\n",
      "cur_iter  8\n",
      "cur_iter  9\n",
      "target_item:  1620\n",
      "140.5959442619278\n",
      "cur_iter  0\n",
      "no more keyphrase available\n",
      "target_item:  1898\n",
      "10.686718769607978\n",
      "cur_iter  0\n"
     ]
    },
    {
     "name": "stderr",
     "output_type": "stream",
     "text": [
      "D:\\Anaconda\\envs\\tensorflow_cpu\\lib\\site-packages\\scipy\\sparse\\_index.py:126: SparseEfficiencyWarning: Changing the sparsity structure of a csr_matrix is expensive. lil_matrix is more efficient.\n",
      "  self._set_arrayXarray(i, j, x)\n"
     ]
    },
    {
     "name": "stdout",
     "output_type": "stream",
     "text": [
      "cur_iter  1\n",
      "cur_iter  2\n",
      "cur_iter  3\n",
      "cur_iter  4\n",
      "cur_iter  5\n",
      "cur_iter  6\n",
      "cur_iter  7\n",
      "cur_iter  8\n",
      "cur_iter  9\n",
      "target_item:  2803\n",
      "11.871685572277784\n",
      "cur_iter  0\n"
     ]
    },
    {
     "name": "stderr",
     "output_type": "stream",
     "text": [
      "D:\\Anaconda\\envs\\tensorflow_cpu\\lib\\site-packages\\scipy\\sparse\\_index.py:126: SparseEfficiencyWarning: Changing the sparsity structure of a csr_matrix is expensive. lil_matrix is more efficient.\n",
      "  self._set_arrayXarray(i, j, x)\n"
     ]
    },
    {
     "name": "stdout",
     "output_type": "stream",
     "text": [
      "cur_iter  1\n",
      "cur_iter  2\n",
      "cur_iter  3\n",
      "cur_iter  4\n",
      "cur_iter  5\n",
      "cur_iter  6\n",
      "cur_iter  7\n",
      "cur_iter  8\n",
      "cur_iter  9\n",
      "target_item:  3822\n",
      "131.28218291769008\n",
      "cur_iter  0\n"
     ]
    },
    {
     "name": "stderr",
     "output_type": "stream",
     "text": [
      "D:\\Anaconda\\envs\\tensorflow_cpu\\lib\\site-packages\\scipy\\sparse\\_index.py:126: SparseEfficiencyWarning: Changing the sparsity structure of a csr_matrix is expensive. lil_matrix is more efficient.\n",
      "  self._set_arrayXarray(i, j, x)\n"
     ]
    },
    {
     "name": "stdout",
     "output_type": "stream",
     "text": [
      "cur_iter  1\n",
      "no more keyphrase available\n",
      "target_item:  4025\n",
      "44.43994439533708\n",
      "cur_iter  0\n"
     ]
    },
    {
     "name": "stderr",
     "output_type": "stream",
     "text": [
      "D:\\Anaconda\\envs\\tensorflow_cpu\\lib\\site-packages\\scipy\\sparse\\_index.py:126: SparseEfficiencyWarning: Changing the sparsity structure of a csr_matrix is expensive. lil_matrix is more efficient.\n",
      "  self._set_arrayXarray(i, j, x)\n"
     ]
    },
    {
     "name": "stdout",
     "output_type": "stream",
     "text": [
      "cur_iter  1\n",
      "cur_iter  2\n",
      "cur_iter  3\n",
      "cur_iter  4\n",
      "no more keyphrase available\n",
      "target_item:  4906\n",
      "28.516939810702752\n",
      "cur_iter  0\n"
     ]
    },
    {
     "name": "stderr",
     "output_type": "stream",
     "text": [
      "D:\\Anaconda\\envs\\tensorflow_cpu\\lib\\site-packages\\scipy\\sparse\\_index.py:126: SparseEfficiencyWarning: Changing the sparsity structure of a csr_matrix is expensive. lil_matrix is more efficient.\n",
      "  self._set_arrayXarray(i, j, x)\n"
     ]
    },
    {
     "name": "stdout",
     "output_type": "stream",
     "text": [
      "cur_iter  1\n",
      "cur_iter  2\n",
      "cur_iter  3\n",
      "cur_iter  4\n",
      "cur_iter  5\n",
      "cur_iter  6\n",
      "cur_iter  7\n",
      "cur_iter  8\n",
      "cur_iter  9\n",
      "target_item:  5041\n",
      "11.519445263089438\n",
      "cur_iter  0\n"
     ]
    },
    {
     "name": "stderr",
     "output_type": "stream",
     "text": [
      "D:\\Anaconda\\envs\\tensorflow_cpu\\lib\\site-packages\\scipy\\sparse\\_index.py:126: SparseEfficiencyWarning: Changing the sparsity structure of a csr_matrix is expensive. lil_matrix is more efficient.\n",
      "  self._set_arrayXarray(i, j, x)\n"
     ]
    },
    {
     "name": "stdout",
     "output_type": "stream",
     "text": [
      "cur_iter  1\n",
      "cur_iter  2\n",
      "cur_iter  3\n",
      "cur_iter  4\n",
      "cur_iter  5\n",
      "cur_iter  6\n",
      "cur_iter  7\n",
      "cur_iter  8\n",
      "cur_iter  9\n",
      "target_item:  5098\n",
      "8.70336792814851\n",
      "cur_iter  0\n"
     ]
    },
    {
     "name": "stderr",
     "output_type": "stream",
     "text": [
      "D:\\Anaconda\\envs\\tensorflow_cpu\\lib\\site-packages\\scipy\\sparse\\_index.py:126: SparseEfficiencyWarning: Changing the sparsity structure of a csr_matrix is expensive. lil_matrix is more efficient.\n",
      "  self._set_arrayXarray(i, j, x)\n"
     ]
    },
    {
     "name": "stdout",
     "output_type": "stream",
     "text": [
      "cur_iter  1\n",
      "cur_iter  2\n",
      "cur_iter  3\n",
      "cur_iter  4\n",
      "cur_iter  5\n",
      "cur_iter  6\n",
      "cur_iter  7\n",
      "cur_iter  8\n",
      "cur_iter  9\n",
      "User ID  301\n",
      "wanted_items length:  0\n",
      "Initial top recommendation index 7455\n",
      "User ID  302\n",
      "wanted_items length:  7\n",
      "Initial top recommendation index 2804\n",
      "target_item:  1833\n",
      "115.29525302378534\n",
      "cur_iter  0\n",
      "no more keyphrase available\n",
      "target_item:  2286\n",
      "21.13192866949612\n",
      "cur_iter  0\n"
     ]
    },
    {
     "name": "stderr",
     "output_type": "stream",
     "text": [
      "D:\\Anaconda\\envs\\tensorflow_cpu\\lib\\site-packages\\scipy\\sparse\\_index.py:126: SparseEfficiencyWarning: Changing the sparsity structure of a csr_matrix is expensive. lil_matrix is more efficient.\n",
      "  self._set_arrayXarray(i, j, x)\n"
     ]
    },
    {
     "name": "stdout",
     "output_type": "stream",
     "text": [
      "cur_iter  1\n",
      "cur_iter  2\n",
      "cur_iter  3\n",
      "cur_iter  4\n",
      "cur_iter  5\n",
      "cur_iter  6\n",
      "cur_iter  7\n",
      "cur_iter  8\n",
      "cur_iter  9\n",
      "target_item:  2810\n",
      "40.393916500204796\n",
      "cur_iter  0\n"
     ]
    },
    {
     "name": "stderr",
     "output_type": "stream",
     "text": [
      "D:\\Anaconda\\envs\\tensorflow_cpu\\lib\\site-packages\\scipy\\sparse\\_index.py:126: SparseEfficiencyWarning: Changing the sparsity structure of a csr_matrix is expensive. lil_matrix is more efficient.\n",
      "  self._set_arrayXarray(i, j, x)\n"
     ]
    },
    {
     "name": "stdout",
     "output_type": "stream",
     "text": [
      "cur_iter  1\n",
      "cur_iter  2\n",
      "cur_iter  3\n",
      "cur_iter  4\n",
      "cur_iter  5\n",
      "cur_iter  6\n",
      "cur_iter  7\n",
      "no more keyphrase available\n",
      "target_item:  4091\n",
      "30.837863495446072\n",
      "cur_iter  0\n"
     ]
    },
    {
     "name": "stderr",
     "output_type": "stream",
     "text": [
      "D:\\Anaconda\\envs\\tensorflow_cpu\\lib\\site-packages\\scipy\\sparse\\_index.py:126: SparseEfficiencyWarning: Changing the sparsity structure of a csr_matrix is expensive. lil_matrix is more efficient.\n",
      "  self._set_arrayXarray(i, j, x)\n"
     ]
    },
    {
     "name": "stdout",
     "output_type": "stream",
     "text": [
      "cur_iter  1\n",
      "cur_iter  2\n",
      "cur_iter  3\n",
      "cur_iter  4\n",
      "cur_iter  5\n",
      "cur_iter  6\n",
      "cur_iter  7\n",
      "cur_iter  8\n",
      "cur_iter  9\n",
      "target_item:  4216\n",
      "21.71423218932614\n",
      "cur_iter  0\n"
     ]
    },
    {
     "name": "stderr",
     "output_type": "stream",
     "text": [
      "D:\\Anaconda\\envs\\tensorflow_cpu\\lib\\site-packages\\scipy\\sparse\\_index.py:126: SparseEfficiencyWarning: Changing the sparsity structure of a csr_matrix is expensive. lil_matrix is more efficient.\n",
      "  self._set_arrayXarray(i, j, x)\n"
     ]
    },
    {
     "name": "stdout",
     "output_type": "stream",
     "text": [
      "cur_iter  1\n",
      "cur_iter  2\n",
      "cur_iter  3\n",
      "cur_iter  4\n",
      "cur_iter  5\n",
      "cur_iter  6\n",
      "cur_iter  7\n",
      "cur_iter  8\n",
      "cur_iter  9\n",
      "target_item:  4499\n",
      "23.53944493585368\n",
      "cur_iter  0\n"
     ]
    },
    {
     "name": "stderr",
     "output_type": "stream",
     "text": [
      "D:\\Anaconda\\envs\\tensorflow_cpu\\lib\\site-packages\\scipy\\sparse\\_index.py:126: SparseEfficiencyWarning: Changing the sparsity structure of a csr_matrix is expensive. lil_matrix is more efficient.\n",
      "  self._set_arrayXarray(i, j, x)\n"
     ]
    },
    {
     "name": "stdout",
     "output_type": "stream",
     "text": [
      "cur_iter  1\n",
      "cur_iter  2\n",
      "cur_iter  3\n",
      "cur_iter  4\n",
      "cur_iter  5\n",
      "cur_iter  6\n",
      "cur_iter  7\n",
      "cur_iter  8\n",
      "cur_iter  9\n",
      "target_item:  5040\n",
      "18.724573726161907\n",
      "cur_iter  0\n"
     ]
    },
    {
     "name": "stderr",
     "output_type": "stream",
     "text": [
      "D:\\Anaconda\\envs\\tensorflow_cpu\\lib\\site-packages\\scipy\\sparse\\_index.py:126: SparseEfficiencyWarning: Changing the sparsity structure of a csr_matrix is expensive. lil_matrix is more efficient.\n",
      "  self._set_arrayXarray(i, j, x)\n"
     ]
    },
    {
     "name": "stdout",
     "output_type": "stream",
     "text": [
      "cur_iter  1\n",
      "cur_iter  2\n",
      "cur_iter  3\n",
      "cur_iter  4\n",
      "cur_iter  5\n",
      "cur_iter  6\n",
      "cur_iter  7\n",
      "cur_iter  8\n",
      "cur_iter  9\n",
      "User ID  303\n",
      "wanted_items length:  7\n",
      "Initial top recommendation index 1406\n",
      "target_item:  38\n",
      "8.093505860144433\n",
      "cur_iter  0\n"
     ]
    },
    {
     "name": "stderr",
     "output_type": "stream",
     "text": [
      "D:\\Anaconda\\envs\\tensorflow_cpu\\lib\\site-packages\\scipy\\sparse\\_index.py:126: SparseEfficiencyWarning: Changing the sparsity structure of a csr_matrix is expensive. lil_matrix is more efficient.\n",
      "  self._set_arrayXarray(i, j, x)\n"
     ]
    },
    {
     "name": "stdout",
     "output_type": "stream",
     "text": [
      "cur_iter  1\n",
      "cur_iter  2\n",
      "cur_iter  3\n",
      "cur_iter  4\n",
      "cur_iter  5\n",
      "cur_iter  6\n",
      "cur_iter  7\n",
      "cur_iter  8\n",
      "cur_iter  9\n",
      "target_item:  1199\n",
      "9.765815448432477\n",
      "cur_iter  0\n"
     ]
    },
    {
     "name": "stderr",
     "output_type": "stream",
     "text": [
      "D:\\Anaconda\\envs\\tensorflow_cpu\\lib\\site-packages\\scipy\\sparse\\_index.py:126: SparseEfficiencyWarning: Changing the sparsity structure of a csr_matrix is expensive. lil_matrix is more efficient.\n",
      "  self._set_arrayXarray(i, j, x)\n"
     ]
    },
    {
     "name": "stdout",
     "output_type": "stream",
     "text": [
      "cur_iter  1\n",
      "cur_iter  2\n",
      "cur_iter  3\n",
      "cur_iter  4\n",
      "cur_iter  5\n",
      "cur_iter  6\n",
      "cur_iter  7\n",
      "cur_iter  8\n",
      "cur_iter  9\n",
      "target_item:  3368\n",
      "8.21222663304934\n",
      "cur_iter  0\n"
     ]
    },
    {
     "name": "stderr",
     "output_type": "stream",
     "text": [
      "D:\\Anaconda\\envs\\tensorflow_cpu\\lib\\site-packages\\scipy\\sparse\\_index.py:126: SparseEfficiencyWarning: Changing the sparsity structure of a csr_matrix is expensive. lil_matrix is more efficient.\n",
      "  self._set_arrayXarray(i, j, x)\n"
     ]
    },
    {
     "name": "stdout",
     "output_type": "stream",
     "text": [
      "cur_iter  1\n",
      "cur_iter  2\n",
      "cur_iter  3\n",
      "cur_iter  4\n",
      "cur_iter  5\n",
      "cur_iter  6\n",
      "cur_iter  7\n",
      "cur_iter  8\n",
      "cur_iter  9\n",
      "target_item:  4432\n",
      "17.631019831282856\n",
      "cur_iter  0\n"
     ]
    },
    {
     "name": "stderr",
     "output_type": "stream",
     "text": [
      "D:\\Anaconda\\envs\\tensorflow_cpu\\lib\\site-packages\\scipy\\sparse\\_index.py:126: SparseEfficiencyWarning: Changing the sparsity structure of a csr_matrix is expensive. lil_matrix is more efficient.\n",
      "  self._set_arrayXarray(i, j, x)\n"
     ]
    },
    {
     "name": "stdout",
     "output_type": "stream",
     "text": [
      "cur_iter  1\n",
      "cur_iter  2\n",
      "cur_iter  3\n",
      "cur_iter  4\n",
      "cur_iter  5\n",
      "cur_iter  6\n",
      "cur_iter  7\n",
      "cur_iter  8\n",
      "no more keyphrase available\n",
      "target_item:  5659\n",
      "5.192670696333153\n",
      "cur_iter  0\n"
     ]
    },
    {
     "name": "stderr",
     "output_type": "stream",
     "text": [
      "D:\\Anaconda\\envs\\tensorflow_cpu\\lib\\site-packages\\scipy\\sparse\\_index.py:126: SparseEfficiencyWarning: Changing the sparsity structure of a csr_matrix is expensive. lil_matrix is more efficient.\n",
      "  self._set_arrayXarray(i, j, x)\n"
     ]
    },
    {
     "name": "stdout",
     "output_type": "stream",
     "text": [
      "cur_iter  1\n",
      "cur_iter  2\n",
      "cur_iter  3\n",
      "cur_iter  4\n",
      "cur_iter  5\n",
      "cur_iter  6\n",
      "cur_iter  7\n",
      "cur_iter  8\n",
      "cur_iter  9\n",
      "target_item:  6023\n",
      "10.36828398755415\n",
      "cur_iter  0\n"
     ]
    },
    {
     "name": "stderr",
     "output_type": "stream",
     "text": [
      "D:\\Anaconda\\envs\\tensorflow_cpu\\lib\\site-packages\\scipy\\sparse\\_index.py:126: SparseEfficiencyWarning: Changing the sparsity structure of a csr_matrix is expensive. lil_matrix is more efficient.\n",
      "  self._set_arrayXarray(i, j, x)\n"
     ]
    },
    {
     "name": "stdout",
     "output_type": "stream",
     "text": [
      "cur_iter  1\n",
      "cur_iter  2\n",
      "cur_iter  3\n",
      "cur_iter  4\n",
      "cur_iter  5\n",
      "cur_iter  6\n",
      "cur_iter  7\n",
      "cur_iter  8\n",
      "cur_iter  9\n",
      "target_item:  6990\n",
      "10.106438368605723\n",
      "cur_iter  0\n"
     ]
    },
    {
     "name": "stderr",
     "output_type": "stream",
     "text": [
      "D:\\Anaconda\\envs\\tensorflow_cpu\\lib\\site-packages\\scipy\\sparse\\_index.py:126: SparseEfficiencyWarning: Changing the sparsity structure of a csr_matrix is expensive. lil_matrix is more efficient.\n",
      "  self._set_arrayXarray(i, j, x)\n"
     ]
    },
    {
     "name": "stdout",
     "output_type": "stream",
     "text": [
      "cur_iter  1\n",
      "cur_iter  2\n",
      "cur_iter  3\n",
      "cur_iter  4\n",
      "cur_iter  5\n",
      "cur_iter  6\n",
      "cur_iter  7\n",
      "cur_iter  8\n",
      "cur_iter  9\n",
      "User ID  304\n",
      "wanted_items length:  10\n",
      "Initial top recommendation index 6454\n",
      "target_item:  1483\n",
      "55.639043799475076\n",
      "cur_iter  0\n"
     ]
    },
    {
     "name": "stderr",
     "output_type": "stream",
     "text": [
      "D:\\Anaconda\\envs\\tensorflow_cpu\\lib\\site-packages\\scipy\\sparse\\_index.py:126: SparseEfficiencyWarning: Changing the sparsity structure of a csr_matrix is expensive. lil_matrix is more efficient.\n",
      "  self._set_arrayXarray(i, j, x)\n"
     ]
    },
    {
     "name": "stdout",
     "output_type": "stream",
     "text": [
      "cur_iter  1\n",
      "cur_iter  2\n",
      "cur_iter  3\n",
      "no more keyphrase available\n",
      "target_item:  1985\n",
      "32.2618766240339\n",
      "cur_iter  0\n"
     ]
    },
    {
     "name": "stderr",
     "output_type": "stream",
     "text": [
      "D:\\Anaconda\\envs\\tensorflow_cpu\\lib\\site-packages\\scipy\\sparse\\_index.py:126: SparseEfficiencyWarning: Changing the sparsity structure of a csr_matrix is expensive. lil_matrix is more efficient.\n",
      "  self._set_arrayXarray(i, j, x)\n"
     ]
    },
    {
     "name": "stdout",
     "output_type": "stream",
     "text": [
      "cur_iter  1\n",
      "cur_iter  2\n",
      "cur_iter  3\n",
      "cur_iter  4\n",
      "cur_iter  5\n",
      "cur_iter  6\n",
      "cur_iter  7\n",
      "cur_iter  8\n",
      "no more keyphrase available\n",
      "target_item:  3158\n",
      "68.55869760168298\n",
      "cur_iter  0\n"
     ]
    },
    {
     "name": "stderr",
     "output_type": "stream",
     "text": [
      "D:\\Anaconda\\envs\\tensorflow_cpu\\lib\\site-packages\\scipy\\sparse\\_index.py:126: SparseEfficiencyWarning: Changing the sparsity structure of a csr_matrix is expensive. lil_matrix is more efficient.\n",
      "  self._set_arrayXarray(i, j, x)\n"
     ]
    },
    {
     "name": "stdout",
     "output_type": "stream",
     "text": [
      "cur_iter  1\n",
      "cur_iter  2\n",
      "cur_iter  3\n",
      "no more keyphrase available\n",
      "target_item:  4323\n",
      "2.3940936588478507\n",
      "cur_iter  0\n"
     ]
    },
    {
     "name": "stderr",
     "output_type": "stream",
     "text": [
      "D:\\Anaconda\\envs\\tensorflow_cpu\\lib\\site-packages\\scipy\\sparse\\_index.py:126: SparseEfficiencyWarning: Changing the sparsity structure of a csr_matrix is expensive. lil_matrix is more efficient.\n",
      "  self._set_arrayXarray(i, j, x)\n"
     ]
    },
    {
     "name": "stdout",
     "output_type": "stream",
     "text": [
      "cur_iter  1\n",
      "cur_iter  2\n",
      "cur_iter  3\n",
      "cur_iter  4\n",
      "cur_iter  5\n",
      "cur_iter  6\n",
      "cur_iter  7\n",
      "cur_iter  8\n",
      "cur_iter  9\n",
      "target_item:  5081\n",
      "1.0545628861691512\n",
      "cur_iter  0\n"
     ]
    },
    {
     "name": "stderr",
     "output_type": "stream",
     "text": [
      "D:\\Anaconda\\envs\\tensorflow_cpu\\lib\\site-packages\\scipy\\sparse\\_index.py:126: SparseEfficiencyWarning: Changing the sparsity structure of a csr_matrix is expensive. lil_matrix is more efficient.\n",
      "  self._set_arrayXarray(i, j, x)\n"
     ]
    },
    {
     "name": "stdout",
     "output_type": "stream",
     "text": [
      "cur_iter  1\n",
      "cur_iter  2\n",
      "cur_iter  3\n",
      "cur_iter  4\n",
      "cur_iter  5\n",
      "cur_iter  6\n",
      "cur_iter  7\n",
      "cur_iter  8\n",
      "cur_iter  9\n",
      "target_item:  5710\n",
      "123.45319507330441\n",
      "cur_iter  0\n",
      "no more keyphrase available\n",
      "target_item:  6222\n",
      "13.676836167596775\n",
      "cur_iter  0\n"
     ]
    },
    {
     "name": "stderr",
     "output_type": "stream",
     "text": [
      "D:\\Anaconda\\envs\\tensorflow_cpu\\lib\\site-packages\\scipy\\sparse\\_index.py:126: SparseEfficiencyWarning: Changing the sparsity structure of a csr_matrix is expensive. lil_matrix is more efficient.\n",
      "  self._set_arrayXarray(i, j, x)\n"
     ]
    },
    {
     "name": "stdout",
     "output_type": "stream",
     "text": [
      "cur_iter  1\n",
      "cur_iter  2\n",
      "cur_iter  3\n",
      "cur_iter  4\n",
      "cur_iter  5\n",
      "cur_iter  6\n",
      "cur_iter  7\n",
      "cur_iter  8\n",
      "cur_iter  9\n",
      "target_item:  6323\n",
      "16.192818702566\n",
      "cur_iter  0\n"
     ]
    },
    {
     "name": "stderr",
     "output_type": "stream",
     "text": [
      "D:\\Anaconda\\envs\\tensorflow_cpu\\lib\\site-packages\\scipy\\sparse\\_index.py:126: SparseEfficiencyWarning: Changing the sparsity structure of a csr_matrix is expensive. lil_matrix is more efficient.\n",
      "  self._set_arrayXarray(i, j, x)\n"
     ]
    },
    {
     "name": "stdout",
     "output_type": "stream",
     "text": [
      "cur_iter  1\n",
      "cur_iter  2\n",
      "cur_iter  3\n",
      "cur_iter  4\n",
      "cur_iter  5\n",
      "cur_iter  6\n",
      "cur_iter  7\n",
      "cur_iter  8\n",
      "cur_iter  9\n",
      "target_item:  6708\n",
      "16.492949171883083\n",
      "cur_iter  0\n"
     ]
    },
    {
     "name": "stderr",
     "output_type": "stream",
     "text": [
      "D:\\Anaconda\\envs\\tensorflow_cpu\\lib\\site-packages\\scipy\\sparse\\_index.py:126: SparseEfficiencyWarning: Changing the sparsity structure of a csr_matrix is expensive. lil_matrix is more efficient.\n",
      "  self._set_arrayXarray(i, j, x)\n"
     ]
    },
    {
     "name": "stdout",
     "output_type": "stream",
     "text": [
      "cur_iter  1\n",
      "cur_iter  2\n",
      "cur_iter  3\n",
      "cur_iter  4\n",
      "cur_iter  5\n",
      "cur_iter  6\n",
      "cur_iter  7\n",
      "cur_iter  8\n",
      "cur_iter  9\n",
      "target_item:  7163\n",
      "3.2621703870318015\n",
      "cur_iter  0\n"
     ]
    },
    {
     "name": "stderr",
     "output_type": "stream",
     "text": [
      "D:\\Anaconda\\envs\\tensorflow_cpu\\lib\\site-packages\\scipy\\sparse\\_index.py:126: SparseEfficiencyWarning: Changing the sparsity structure of a csr_matrix is expensive. lil_matrix is more efficient.\n",
      "  self._set_arrayXarray(i, j, x)\n"
     ]
    },
    {
     "name": "stdout",
     "output_type": "stream",
     "text": [
      "cur_iter  1\n",
      "cur_iter  2\n",
      "cur_iter  3\n",
      "cur_iter  4\n",
      "cur_iter  5\n",
      "cur_iter  6\n",
      "cur_iter  7\n",
      "cur_iter  8\n",
      "cur_iter  9\n",
      "User ID  305\n",
      "wanted_items length:  15\n",
      "Initial top recommendation index 3377\n",
      "target_item:  39\n",
      "6.28778319957928\n",
      "cur_iter  0\n"
     ]
    },
    {
     "name": "stderr",
     "output_type": "stream",
     "text": [
      "D:\\Anaconda\\envs\\tensorflow_cpu\\lib\\site-packages\\scipy\\sparse\\_index.py:126: SparseEfficiencyWarning: Changing the sparsity structure of a csr_matrix is expensive. lil_matrix is more efficient.\n",
      "  self._set_arrayXarray(i, j, x)\n"
     ]
    },
    {
     "name": "stdout",
     "output_type": "stream",
     "text": [
      "cur_iter  1\n",
      "cur_iter  2\n",
      "cur_iter  3\n",
      "cur_iter  4\n",
      "cur_iter  5\n",
      "cur_iter  6\n",
      "cur_iter  7\n",
      "cur_iter  8\n",
      "cur_iter  9\n",
      "target_item:  1890\n",
      "24.091780765886142\n",
      "cur_iter  0\n"
     ]
    },
    {
     "name": "stderr",
     "output_type": "stream",
     "text": [
      "D:\\Anaconda\\envs\\tensorflow_cpu\\lib\\site-packages\\scipy\\sparse\\_index.py:126: SparseEfficiencyWarning: Changing the sparsity structure of a csr_matrix is expensive. lil_matrix is more efficient.\n",
      "  self._set_arrayXarray(i, j, x)\n"
     ]
    },
    {
     "name": "stdout",
     "output_type": "stream",
     "text": [
      "cur_iter  1\n",
      "cur_iter  2\n",
      "cur_iter  3\n",
      "cur_iter  4\n",
      "cur_iter  5\n",
      "cur_iter  6\n",
      "cur_iter  7\n",
      "cur_iter  8\n",
      "cur_iter  9\n",
      "target_item:  1985\n",
      "7.123054937228517\n",
      "cur_iter  0\n"
     ]
    },
    {
     "name": "stderr",
     "output_type": "stream",
     "text": [
      "D:\\Anaconda\\envs\\tensorflow_cpu\\lib\\site-packages\\scipy\\sparse\\_index.py:126: SparseEfficiencyWarning: Changing the sparsity structure of a csr_matrix is expensive. lil_matrix is more efficient.\n",
      "  self._set_arrayXarray(i, j, x)\n"
     ]
    },
    {
     "name": "stdout",
     "output_type": "stream",
     "text": [
      "cur_iter  1\n",
      "cur_iter  2\n",
      "cur_iter  3\n",
      "cur_iter  4\n",
      "cur_iter  5\n",
      "cur_iter  6\n",
      "cur_iter  7\n",
      "cur_iter  8\n",
      "cur_iter  9\n",
      "target_item:  2589\n",
      "8.522378457637387\n",
      "cur_iter  0\n"
     ]
    },
    {
     "name": "stderr",
     "output_type": "stream",
     "text": [
      "D:\\Anaconda\\envs\\tensorflow_cpu\\lib\\site-packages\\scipy\\sparse\\_index.py:126: SparseEfficiencyWarning: Changing the sparsity structure of a csr_matrix is expensive. lil_matrix is more efficient.\n",
      "  self._set_arrayXarray(i, j, x)\n"
     ]
    },
    {
     "name": "stdout",
     "output_type": "stream",
     "text": [
      "cur_iter  1\n",
      "cur_iter  2\n",
      "cur_iter  3\n",
      "cur_iter  4\n",
      "cur_iter  5\n",
      "cur_iter  6\n",
      "cur_iter  7\n",
      "cur_iter  8\n",
      "cur_iter  9\n",
      "target_item:  2780\n",
      "16.44211614359847\n",
      "cur_iter  0\n"
     ]
    },
    {
     "name": "stderr",
     "output_type": "stream",
     "text": [
      "D:\\Anaconda\\envs\\tensorflow_cpu\\lib\\site-packages\\scipy\\sparse\\_index.py:126: SparseEfficiencyWarning: Changing the sparsity structure of a csr_matrix is expensive. lil_matrix is more efficient.\n",
      "  self._set_arrayXarray(i, j, x)\n"
     ]
    },
    {
     "name": "stdout",
     "output_type": "stream",
     "text": [
      "cur_iter  1\n",
      "cur_iter  2\n",
      "cur_iter  3\n",
      "cur_iter  4\n",
      "cur_iter  5\n",
      "cur_iter  6\n",
      "cur_iter  7\n",
      "cur_iter  8\n",
      "cur_iter  9\n",
      "target_item:  3598\n",
      "11.081918920339376\n",
      "cur_iter  0\n"
     ]
    },
    {
     "name": "stderr",
     "output_type": "stream",
     "text": [
      "D:\\Anaconda\\envs\\tensorflow_cpu\\lib\\site-packages\\scipy\\sparse\\_index.py:126: SparseEfficiencyWarning: Changing the sparsity structure of a csr_matrix is expensive. lil_matrix is more efficient.\n",
      "  self._set_arrayXarray(i, j, x)\n"
     ]
    },
    {
     "name": "stdout",
     "output_type": "stream",
     "text": [
      "cur_iter  1\n",
      "cur_iter  2\n",
      "cur_iter  3\n",
      "cur_iter  4\n",
      "cur_iter  5\n",
      "cur_iter  6\n",
      "cur_iter  7\n",
      "cur_iter  8\n",
      "cur_iter  9\n",
      "target_item:  3850\n",
      "14.022928320418941\n",
      "cur_iter  0\n"
     ]
    },
    {
     "name": "stderr",
     "output_type": "stream",
     "text": [
      "D:\\Anaconda\\envs\\tensorflow_cpu\\lib\\site-packages\\scipy\\sparse\\_index.py:126: SparseEfficiencyWarning: Changing the sparsity structure of a csr_matrix is expensive. lil_matrix is more efficient.\n",
      "  self._set_arrayXarray(i, j, x)\n"
     ]
    },
    {
     "name": "stdout",
     "output_type": "stream",
     "text": [
      "cur_iter  1\n",
      "cur_iter  2\n",
      "cur_iter  3\n",
      "cur_iter  4\n",
      "cur_iter  5\n",
      "cur_iter  6\n",
      "cur_iter  7\n",
      "cur_iter  8\n",
      "cur_iter  9\n",
      "target_item:  4238\n",
      "12.258416679660513\n",
      "cur_iter  0\n"
     ]
    },
    {
     "name": "stderr",
     "output_type": "stream",
     "text": [
      "D:\\Anaconda\\envs\\tensorflow_cpu\\lib\\site-packages\\scipy\\sparse\\_index.py:126: SparseEfficiencyWarning: Changing the sparsity structure of a csr_matrix is expensive. lil_matrix is more efficient.\n",
      "  self._set_arrayXarray(i, j, x)\n"
     ]
    },
    {
     "name": "stdout",
     "output_type": "stream",
     "text": [
      "cur_iter  1\n",
      "cur_iter  2\n",
      "cur_iter  3\n",
      "cur_iter  4\n",
      "cur_iter  5\n",
      "cur_iter  6\n",
      "cur_iter  7\n",
      "cur_iter  8\n",
      "cur_iter  9\n",
      "target_item:  4299\n",
      "54.64380187390816\n",
      "cur_iter  0\n"
     ]
    },
    {
     "name": "stderr",
     "output_type": "stream",
     "text": [
      "D:\\Anaconda\\envs\\tensorflow_cpu\\lib\\site-packages\\scipy\\sparse\\_index.py:126: SparseEfficiencyWarning: Changing the sparsity structure of a csr_matrix is expensive. lil_matrix is more efficient.\n",
      "  self._set_arrayXarray(i, j, x)\n"
     ]
    },
    {
     "name": "stdout",
     "output_type": "stream",
     "text": [
      "cur_iter  1\n",
      "cur_iter  2\n",
      "cur_iter  3\n",
      "no more keyphrase available\n",
      "target_item:  4772\n",
      "8.740459875494707\n",
      "cur_iter  0\n"
     ]
    },
    {
     "name": "stderr",
     "output_type": "stream",
     "text": [
      "D:\\Anaconda\\envs\\tensorflow_cpu\\lib\\site-packages\\scipy\\sparse\\_index.py:126: SparseEfficiencyWarning: Changing the sparsity structure of a csr_matrix is expensive. lil_matrix is more efficient.\n",
      "  self._set_arrayXarray(i, j, x)\n"
     ]
    },
    {
     "name": "stdout",
     "output_type": "stream",
     "text": [
      "cur_iter  1\n",
      "cur_iter  2\n",
      "cur_iter  3\n",
      "cur_iter  4\n",
      "cur_iter  5\n",
      "cur_iter  6\n",
      "cur_iter  7\n",
      "cur_iter  8\n",
      "cur_iter  9\n",
      "target_item:  5364\n",
      "5.7202746126586135\n",
      "cur_iter  0\n"
     ]
    },
    {
     "name": "stderr",
     "output_type": "stream",
     "text": [
      "D:\\Anaconda\\envs\\tensorflow_cpu\\lib\\site-packages\\scipy\\sparse\\_index.py:126: SparseEfficiencyWarning: Changing the sparsity structure of a csr_matrix is expensive. lil_matrix is more efficient.\n",
      "  self._set_arrayXarray(i, j, x)\n"
     ]
    },
    {
     "name": "stdout",
     "output_type": "stream",
     "text": [
      "cur_iter  1\n",
      "cur_iter  2\n",
      "cur_iter  3\n",
      "cur_iter  4\n",
      "cur_iter  5\n",
      "cur_iter  6\n",
      "cur_iter  7\n",
      "cur_iter  8\n",
      "cur_iter  9\n",
      "User ID  306\n",
      "wanted_items length:  9\n",
      "Initial top recommendation index 5410\n",
      "target_item:  647\n",
      "21.557759184200904\n",
      "cur_iter  0\n"
     ]
    },
    {
     "name": "stderr",
     "output_type": "stream",
     "text": [
      "D:\\Anaconda\\envs\\tensorflow_cpu\\lib\\site-packages\\scipy\\sparse\\_index.py:126: SparseEfficiencyWarning: Changing the sparsity structure of a csr_matrix is expensive. lil_matrix is more efficient.\n",
      "  self._set_arrayXarray(i, j, x)\n"
     ]
    },
    {
     "name": "stdout",
     "output_type": "stream",
     "text": [
      "cur_iter  1\n",
      "cur_iter  2\n",
      "cur_iter  3\n",
      "cur_iter  4\n",
      "cur_iter  5\n",
      "cur_iter  6\n",
      "cur_iter  7\n",
      "cur_iter  8\n",
      "cur_iter  9\n",
      "target_item:  1340\n",
      "10.454419865753835\n",
      "cur_iter  0\n"
     ]
    },
    {
     "name": "stderr",
     "output_type": "stream",
     "text": [
      "D:\\Anaconda\\envs\\tensorflow_cpu\\lib\\site-packages\\scipy\\sparse\\_index.py:126: SparseEfficiencyWarning: Changing the sparsity structure of a csr_matrix is expensive. lil_matrix is more efficient.\n",
      "  self._set_arrayXarray(i, j, x)\n"
     ]
    },
    {
     "name": "stdout",
     "output_type": "stream",
     "text": [
      "cur_iter  1\n",
      "cur_iter  2\n",
      "cur_iter  3\n",
      "cur_iter  4\n",
      "cur_iter  5\n",
      "cur_iter  6\n",
      "cur_iter  7\n",
      "cur_iter  8\n",
      "cur_iter  9\n",
      "target_item:  1488\n",
      "13.096237904399231\n",
      "cur_iter  0\n"
     ]
    },
    {
     "name": "stderr",
     "output_type": "stream",
     "text": [
      "D:\\Anaconda\\envs\\tensorflow_cpu\\lib\\site-packages\\scipy\\sparse\\_index.py:126: SparseEfficiencyWarning: Changing the sparsity structure of a csr_matrix is expensive. lil_matrix is more efficient.\n",
      "  self._set_arrayXarray(i, j, x)\n"
     ]
    },
    {
     "name": "stdout",
     "output_type": "stream",
     "text": [
      "cur_iter  1\n",
      "cur_iter  2\n",
      "cur_iter  3\n",
      "cur_iter  4\n",
      "cur_iter  5\n",
      "cur_iter  6\n",
      "cur_iter  7\n",
      "cur_iter  8\n",
      "cur_iter  9\n",
      "target_item:  1562\n",
      "10.639681713839309\n",
      "cur_iter  0\n"
     ]
    },
    {
     "name": "stderr",
     "output_type": "stream",
     "text": [
      "D:\\Anaconda\\envs\\tensorflow_cpu\\lib\\site-packages\\scipy\\sparse\\_index.py:126: SparseEfficiencyWarning: Changing the sparsity structure of a csr_matrix is expensive. lil_matrix is more efficient.\n",
      "  self._set_arrayXarray(i, j, x)\n"
     ]
    },
    {
     "name": "stdout",
     "output_type": "stream",
     "text": [
      "cur_iter  1\n",
      "cur_iter  2\n",
      "cur_iter  3\n",
      "cur_iter  4\n",
      "cur_iter  5\n",
      "cur_iter  6\n",
      "cur_iter  7\n",
      "cur_iter  8\n",
      "cur_iter  9\n",
      "target_item:  2039\n",
      "13.824247260419725\n",
      "cur_iter  0\n"
     ]
    },
    {
     "name": "stderr",
     "output_type": "stream",
     "text": [
      "D:\\Anaconda\\envs\\tensorflow_cpu\\lib\\site-packages\\scipy\\sparse\\_index.py:126: SparseEfficiencyWarning: Changing the sparsity structure of a csr_matrix is expensive. lil_matrix is more efficient.\n",
      "  self._set_arrayXarray(i, j, x)\n"
     ]
    },
    {
     "name": "stdout",
     "output_type": "stream",
     "text": [
      "cur_iter  1\n",
      "cur_iter  2\n",
      "cur_iter  3\n",
      "cur_iter  4\n",
      "cur_iter  5\n",
      "cur_iter  6\n",
      "cur_iter  7\n",
      "cur_iter  8\n",
      "cur_iter  9\n",
      "target_item:  3554\n",
      "9.817353331041886\n",
      "cur_iter  0\n"
     ]
    },
    {
     "name": "stderr",
     "output_type": "stream",
     "text": [
      "D:\\Anaconda\\envs\\tensorflow_cpu\\lib\\site-packages\\scipy\\sparse\\_index.py:126: SparseEfficiencyWarning: Changing the sparsity structure of a csr_matrix is expensive. lil_matrix is more efficient.\n",
      "  self._set_arrayXarray(i, j, x)\n"
     ]
    },
    {
     "name": "stdout",
     "output_type": "stream",
     "text": [
      "cur_iter  1\n",
      "cur_iter  2\n",
      "cur_iter  3\n",
      "cur_iter  4\n",
      "cur_iter  5\n",
      "cur_iter  6\n",
      "cur_iter  7\n",
      "cur_iter  8\n",
      "cur_iter  9\n",
      "target_item:  6454\n",
      "8.652911561390283\n",
      "cur_iter  0\n"
     ]
    },
    {
     "name": "stderr",
     "output_type": "stream",
     "text": [
      "D:\\Anaconda\\envs\\tensorflow_cpu\\lib\\site-packages\\scipy\\sparse\\_index.py:126: SparseEfficiencyWarning: Changing the sparsity structure of a csr_matrix is expensive. lil_matrix is more efficient.\n",
      "  self._set_arrayXarray(i, j, x)\n"
     ]
    },
    {
     "name": "stdout",
     "output_type": "stream",
     "text": [
      "cur_iter  1\n",
      "cur_iter  2\n",
      "cur_iter  3\n",
      "cur_iter  4\n",
      "cur_iter  5\n",
      "cur_iter  6\n",
      "cur_iter  7\n",
      "cur_iter  8\n",
      "cur_iter  9\n",
      "target_item:  6772\n",
      "17.086175616650507\n",
      "cur_iter  0\n"
     ]
    },
    {
     "name": "stderr",
     "output_type": "stream",
     "text": [
      "D:\\Anaconda\\envs\\tensorflow_cpu\\lib\\site-packages\\scipy\\sparse\\_index.py:126: SparseEfficiencyWarning: Changing the sparsity structure of a csr_matrix is expensive. lil_matrix is more efficient.\n",
      "  self._set_arrayXarray(i, j, x)\n"
     ]
    },
    {
     "name": "stdout",
     "output_type": "stream",
     "text": [
      "cur_iter  1\n",
      "cur_iter  2\n",
      "cur_iter  3\n",
      "cur_iter  4\n",
      "cur_iter  5\n",
      "cur_iter  6\n",
      "cur_iter  7\n",
      "cur_iter  8\n",
      "cur_iter  9\n",
      "target_item:  7286\n",
      "10.110714223674222\n",
      "cur_iter  0\n"
     ]
    },
    {
     "name": "stderr",
     "output_type": "stream",
     "text": [
      "D:\\Anaconda\\envs\\tensorflow_cpu\\lib\\site-packages\\scipy\\sparse\\_index.py:126: SparseEfficiencyWarning: Changing the sparsity structure of a csr_matrix is expensive. lil_matrix is more efficient.\n",
      "  self._set_arrayXarray(i, j, x)\n"
     ]
    },
    {
     "name": "stdout",
     "output_type": "stream",
     "text": [
      "cur_iter  1\n",
      "cur_iter  2\n",
      "cur_iter  3\n",
      "cur_iter  4\n",
      "cur_iter  5\n",
      "cur_iter  6\n",
      "cur_iter  7\n",
      "cur_iter  8\n",
      "cur_iter  9\n",
      "User ID  307\n",
      "wanted_items length:  5\n",
      "Initial top recommendation index 5659\n",
      "target_item:  1392\n",
      "42.83638768234596\n",
      "cur_iter  0\n"
     ]
    },
    {
     "name": "stderr",
     "output_type": "stream",
     "text": [
      "D:\\Anaconda\\envs\\tensorflow_cpu\\lib\\site-packages\\scipy\\sparse\\_index.py:126: SparseEfficiencyWarning: Changing the sparsity structure of a csr_matrix is expensive. lil_matrix is more efficient.\n",
      "  self._set_arrayXarray(i, j, x)\n"
     ]
    },
    {
     "name": "stdout",
     "output_type": "stream",
     "text": [
      "cur_iter  1\n",
      "cur_iter  2\n",
      "cur_iter  3\n",
      "cur_iter  4\n",
      "no more keyphrase available\n",
      "target_item:  2517\n",
      "58.425356291374555\n",
      "cur_iter  0\n"
     ]
    },
    {
     "name": "stderr",
     "output_type": "stream",
     "text": [
      "D:\\Anaconda\\envs\\tensorflow_cpu\\lib\\site-packages\\scipy\\sparse\\_index.py:126: SparseEfficiencyWarning: Changing the sparsity structure of a csr_matrix is expensive. lil_matrix is more efficient.\n",
      "  self._set_arrayXarray(i, j, x)\n"
     ]
    },
    {
     "name": "stdout",
     "output_type": "stream",
     "text": [
      "cur_iter  1\n",
      "cur_iter  2\n",
      "cur_iter  3\n",
      "cur_iter  4\n",
      "no more keyphrase available\n",
      "target_item:  2841\n",
      "19.239740810713556\n",
      "cur_iter  0\n"
     ]
    },
    {
     "name": "stderr",
     "output_type": "stream",
     "text": [
      "D:\\Anaconda\\envs\\tensorflow_cpu\\lib\\site-packages\\scipy\\sparse\\_index.py:126: SparseEfficiencyWarning: Changing the sparsity structure of a csr_matrix is expensive. lil_matrix is more efficient.\n",
      "  self._set_arrayXarray(i, j, x)\n"
     ]
    },
    {
     "name": "stdout",
     "output_type": "stream",
     "text": [
      "cur_iter  1\n",
      "cur_iter  2\n",
      "cur_iter  3\n",
      "cur_iter  4\n",
      "cur_iter  5\n",
      "cur_iter  6\n",
      "cur_iter  7\n",
      "cur_iter  8\n",
      "cur_iter  9\n",
      "target_item:  5147\n",
      "74.88214341306048\n",
      "cur_iter  0\n"
     ]
    },
    {
     "name": "stderr",
     "output_type": "stream",
     "text": [
      "D:\\Anaconda\\envs\\tensorflow_cpu\\lib\\site-packages\\scipy\\sparse\\_index.py:126: SparseEfficiencyWarning: Changing the sparsity structure of a csr_matrix is expensive. lil_matrix is more efficient.\n",
      "  self._set_arrayXarray(i, j, x)\n"
     ]
    },
    {
     "name": "stdout",
     "output_type": "stream",
     "text": [
      "cur_iter  1\n",
      "no more keyphrase available\n",
      "target_item:  5280\n",
      "28.661173629632685\n",
      "cur_iter  0\n"
     ]
    },
    {
     "name": "stderr",
     "output_type": "stream",
     "text": [
      "D:\\Anaconda\\envs\\tensorflow_cpu\\lib\\site-packages\\scipy\\sparse\\_index.py:126: SparseEfficiencyWarning: Changing the sparsity structure of a csr_matrix is expensive. lil_matrix is more efficient.\n",
      "  self._set_arrayXarray(i, j, x)\n"
     ]
    },
    {
     "name": "stdout",
     "output_type": "stream",
     "text": [
      "cur_iter  1\n",
      "cur_iter  2\n",
      "cur_iter  3\n",
      "cur_iter  4\n",
      "cur_iter  5\n",
      "cur_iter  6\n",
      "cur_iter  7\n",
      "cur_iter  8\n",
      "cur_iter  9\n",
      "no more keyphrase available\n",
      "User ID  308\n",
      "wanted_items length:  25\n",
      "Initial top recommendation index 5363\n",
      "target_item:  213\n",
      "88.89424569472112\n",
      "cur_iter  0\n"
     ]
    },
    {
     "name": "stderr",
     "output_type": "stream",
     "text": [
      "D:\\Anaconda\\envs\\tensorflow_cpu\\lib\\site-packages\\scipy\\sparse\\_index.py:126: SparseEfficiencyWarning: Changing the sparsity structure of a csr_matrix is expensive. lil_matrix is more efficient.\n",
      "  self._set_arrayXarray(i, j, x)\n"
     ]
    },
    {
     "name": "stdout",
     "output_type": "stream",
     "text": [
      "cur_iter  1\n",
      "cur_iter  2\n",
      "cur_iter  3\n",
      "cur_iter  4\n",
      "cur_iter  5\n",
      "cur_iter  6\n",
      "no more keyphrase available\n",
      "target_item:  467\n",
      "37.03649839752552\n",
      "cur_iter  0\n"
     ]
    },
    {
     "name": "stderr",
     "output_type": "stream",
     "text": [
      "D:\\Anaconda\\envs\\tensorflow_cpu\\lib\\site-packages\\scipy\\sparse\\_index.py:126: SparseEfficiencyWarning: Changing the sparsity structure of a csr_matrix is expensive. lil_matrix is more efficient.\n",
      "  self._set_arrayXarray(i, j, x)\n"
     ]
    },
    {
     "name": "stdout",
     "output_type": "stream",
     "text": [
      "cur_iter  1\n",
      "cur_iter  2\n",
      "cur_iter  3\n",
      "cur_iter  4\n",
      "cur_iter  5\n",
      "cur_iter  6\n",
      "cur_iter  7\n",
      "cur_iter  8\n",
      "cur_iter  9\n",
      "target_item:  545\n",
      "103.59029356193287\n",
      "cur_iter  0\n"
     ]
    },
    {
     "name": "stderr",
     "output_type": "stream",
     "text": [
      "D:\\Anaconda\\envs\\tensorflow_cpu\\lib\\site-packages\\scipy\\sparse\\_index.py:126: SparseEfficiencyWarning: Changing the sparsity structure of a csr_matrix is expensive. lil_matrix is more efficient.\n",
      "  self._set_arrayXarray(i, j, x)\n"
     ]
    },
    {
     "name": "stdout",
     "output_type": "stream",
     "text": [
      "cur_iter  1\n",
      "cur_iter  2\n",
      "cur_iter  3\n",
      "cur_iter  4\n",
      "cur_iter  5\n",
      "cur_iter  6\n",
      "no more keyphrase available\n",
      "target_item:  637\n",
      "39.190079759679065\n",
      "cur_iter  0\n"
     ]
    },
    {
     "name": "stderr",
     "output_type": "stream",
     "text": [
      "D:\\Anaconda\\envs\\tensorflow_cpu\\lib\\site-packages\\scipy\\sparse\\_index.py:126: SparseEfficiencyWarning: Changing the sparsity structure of a csr_matrix is expensive. lil_matrix is more efficient.\n",
      "  self._set_arrayXarray(i, j, x)\n"
     ]
    },
    {
     "name": "stdout",
     "output_type": "stream",
     "text": [
      "cur_iter  1\n",
      "cur_iter  2\n",
      "cur_iter  3\n",
      "cur_iter  4\n",
      "cur_iter  5\n",
      "cur_iter  6\n",
      "cur_iter  7\n",
      "cur_iter  8\n",
      "cur_iter  9\n",
      "no more keyphrase available\n",
      "target_item:  867\n",
      "105.19793699112279\n",
      "cur_iter  0\n"
     ]
    },
    {
     "name": "stderr",
     "output_type": "stream",
     "text": [
      "D:\\Anaconda\\envs\\tensorflow_cpu\\lib\\site-packages\\scipy\\sparse\\_index.py:126: SparseEfficiencyWarning: Changing the sparsity structure of a csr_matrix is expensive. lil_matrix is more efficient.\n",
      "  self._set_arrayXarray(i, j, x)\n"
     ]
    },
    {
     "name": "stdout",
     "output_type": "stream",
     "text": [
      "cur_iter  1\n",
      "cur_iter  2\n",
      "cur_iter  3\n",
      "no more keyphrase available\n",
      "target_item:  870\n",
      "23.84333159239395\n",
      "cur_iter  0\n"
     ]
    },
    {
     "name": "stderr",
     "output_type": "stream",
     "text": [
      "D:\\Anaconda\\envs\\tensorflow_cpu\\lib\\site-packages\\scipy\\sparse\\_index.py:126: SparseEfficiencyWarning: Changing the sparsity structure of a csr_matrix is expensive. lil_matrix is more efficient.\n",
      "  self._set_arrayXarray(i, j, x)\n"
     ]
    },
    {
     "name": "stdout",
     "output_type": "stream",
     "text": [
      "cur_iter  1\n",
      "cur_iter  2\n",
      "cur_iter  3\n",
      "cur_iter  4\n",
      "cur_iter  5\n",
      "cur_iter  6\n",
      "cur_iter  7\n",
      "cur_iter  8\n",
      "cur_iter  9\n",
      "target_item:  1244\n",
      "36.45351960503103\n",
      "cur_iter  0\n"
     ]
    },
    {
     "name": "stderr",
     "output_type": "stream",
     "text": [
      "D:\\Anaconda\\envs\\tensorflow_cpu\\lib\\site-packages\\scipy\\sparse\\_index.py:126: SparseEfficiencyWarning: Changing the sparsity structure of a csr_matrix is expensive. lil_matrix is more efficient.\n",
      "  self._set_arrayXarray(i, j, x)\n"
     ]
    },
    {
     "name": "stdout",
     "output_type": "stream",
     "text": [
      "cur_iter  1\n",
      "cur_iter  2\n",
      "cur_iter  3\n",
      "cur_iter  4\n",
      "cur_iter  5\n",
      "cur_iter  6\n",
      "cur_iter  7\n",
      "cur_iter  8\n",
      "cur_iter  9\n",
      "target_item:  1608\n",
      "23.83167016189327\n",
      "cur_iter  0\n"
     ]
    },
    {
     "name": "stderr",
     "output_type": "stream",
     "text": [
      "D:\\Anaconda\\envs\\tensorflow_cpu\\lib\\site-packages\\scipy\\sparse\\_index.py:126: SparseEfficiencyWarning: Changing the sparsity structure of a csr_matrix is expensive. lil_matrix is more efficient.\n",
      "  self._set_arrayXarray(i, j, x)\n"
     ]
    },
    {
     "name": "stdout",
     "output_type": "stream",
     "text": [
      "cur_iter  1\n",
      "cur_iter  2\n",
      "cur_iter  3\n",
      "cur_iter  4\n",
      "cur_iter  5\n",
      "cur_iter  6\n",
      "cur_iter  7\n",
      "cur_iter  8\n",
      "cur_iter  9\n",
      "target_item:  1784\n",
      "55.95916726899668\n",
      "cur_iter  0\n"
     ]
    },
    {
     "name": "stderr",
     "output_type": "stream",
     "text": [
      "D:\\Anaconda\\envs\\tensorflow_cpu\\lib\\site-packages\\scipy\\sparse\\_index.py:126: SparseEfficiencyWarning: Changing the sparsity structure of a csr_matrix is expensive. lil_matrix is more efficient.\n",
      "  self._set_arrayXarray(i, j, x)\n"
     ]
    },
    {
     "name": "stdout",
     "output_type": "stream",
     "text": [
      "cur_iter  1\n",
      "cur_iter  2\n",
      "cur_iter  3\n",
      "cur_iter  4\n",
      "cur_iter  5\n",
      "cur_iter  6\n",
      "cur_iter  7\n",
      "cur_iter  8\n",
      "cur_iter  9\n",
      "no more keyphrase available\n",
      "target_item:  2055\n",
      "22.353767205753684\n",
      "cur_iter  0\n"
     ]
    },
    {
     "name": "stderr",
     "output_type": "stream",
     "text": [
      "D:\\Anaconda\\envs\\tensorflow_cpu\\lib\\site-packages\\scipy\\sparse\\_index.py:126: SparseEfficiencyWarning: Changing the sparsity structure of a csr_matrix is expensive. lil_matrix is more efficient.\n",
      "  self._set_arrayXarray(i, j, x)\n"
     ]
    },
    {
     "name": "stdout",
     "output_type": "stream",
     "text": [
      "cur_iter  1\n",
      "cur_iter  2\n",
      "cur_iter  3\n",
      "cur_iter  4\n",
      "cur_iter  5\n",
      "cur_iter  6\n",
      "cur_iter  7\n",
      "cur_iter  8\n",
      "cur_iter  9\n",
      "target_item:  2089\n",
      "Cannot get restaurant name for ItemIndex:  2089\n",
      "60.57288503902464\n",
      "cur_iter  0\n"
     ]
    },
    {
     "name": "stderr",
     "output_type": "stream",
     "text": [
      "D:\\Anaconda\\envs\\tensorflow_cpu\\lib\\site-packages\\scipy\\sparse\\_index.py:126: SparseEfficiencyWarning: Changing the sparsity structure of a csr_matrix is expensive. lil_matrix is more efficient.\n",
      "  self._set_arrayXarray(i, j, x)\n"
     ]
    },
    {
     "name": "stdout",
     "output_type": "stream",
     "text": [
      "cur_iter  1\n",
      "cur_iter  2\n",
      "cur_iter  3\n",
      "cur_iter  4\n",
      "cur_iter  5\n",
      "cur_iter  6\n",
      "cur_iter  7\n",
      "no more keyphrase available\n",
      "User ID  309\n",
      "wanted_items length:  13\n",
      "Initial top recommendation index 1652\n",
      "target_item:  179\n",
      "20.426827677629262\n",
      "cur_iter  0\n"
     ]
    },
    {
     "name": "stderr",
     "output_type": "stream",
     "text": [
      "D:\\Anaconda\\envs\\tensorflow_cpu\\lib\\site-packages\\scipy\\sparse\\_index.py:126: SparseEfficiencyWarning: Changing the sparsity structure of a csr_matrix is expensive. lil_matrix is more efficient.\n",
      "  self._set_arrayXarray(i, j, x)\n"
     ]
    },
    {
     "name": "stdout",
     "output_type": "stream",
     "text": [
      "cur_iter  1\n",
      "cur_iter  2\n",
      "cur_iter  3\n",
      "cur_iter  4\n",
      "cur_iter  5\n",
      "cur_iter  6\n",
      "cur_iter  7\n",
      "cur_iter  8\n",
      "cur_iter  9\n",
      "target_item:  754\n",
      "7.659004584595095\n",
      "cur_iter  0\n"
     ]
    },
    {
     "name": "stderr",
     "output_type": "stream",
     "text": [
      "D:\\Anaconda\\envs\\tensorflow_cpu\\lib\\site-packages\\scipy\\sparse\\_index.py:126: SparseEfficiencyWarning: Changing the sparsity structure of a csr_matrix is expensive. lil_matrix is more efficient.\n",
      "  self._set_arrayXarray(i, j, x)\n"
     ]
    },
    {
     "name": "stdout",
     "output_type": "stream",
     "text": [
      "cur_iter  1\n",
      "cur_iter  2\n",
      "cur_iter  3\n",
      "cur_iter  4\n",
      "cur_iter  5\n",
      "cur_iter  6\n",
      "cur_iter  7\n",
      "cur_iter  8\n",
      "cur_iter  9\n",
      "target_item:  2038\n",
      "11.065235780220974\n",
      "cur_iter  0\n"
     ]
    },
    {
     "name": "stderr",
     "output_type": "stream",
     "text": [
      "D:\\Anaconda\\envs\\tensorflow_cpu\\lib\\site-packages\\scipy\\sparse\\_index.py:126: SparseEfficiencyWarning: Changing the sparsity structure of a csr_matrix is expensive. lil_matrix is more efficient.\n",
      "  self._set_arrayXarray(i, j, x)\n"
     ]
    },
    {
     "name": "stdout",
     "output_type": "stream",
     "text": [
      "cur_iter  1\n",
      "cur_iter  2\n",
      "cur_iter  3\n",
      "cur_iter  4\n",
      "cur_iter  5\n",
      "cur_iter  6\n",
      "cur_iter  7\n",
      "cur_iter  8\n",
      "cur_iter  9\n",
      "target_item:  3114\n",
      "44.02543922961377\n",
      "cur_iter  0\n"
     ]
    },
    {
     "name": "stderr",
     "output_type": "stream",
     "text": [
      "D:\\Anaconda\\envs\\tensorflow_cpu\\lib\\site-packages\\scipy\\sparse\\_index.py:126: SparseEfficiencyWarning: Changing the sparsity structure of a csr_matrix is expensive. lil_matrix is more efficient.\n",
      "  self._set_arrayXarray(i, j, x)\n"
     ]
    },
    {
     "name": "stdout",
     "output_type": "stream",
     "text": [
      "cur_iter  1\n",
      "cur_iter  2\n",
      "cur_iter  3\n",
      "cur_iter  4\n",
      "cur_iter  5\n",
      "cur_iter  6\n",
      "cur_iter  7\n",
      "no more keyphrase available\n",
      "target_item:  3139\n",
      "10.253860624647132\n",
      "cur_iter  0\n"
     ]
    },
    {
     "name": "stderr",
     "output_type": "stream",
     "text": [
      "D:\\Anaconda\\envs\\tensorflow_cpu\\lib\\site-packages\\scipy\\sparse\\_index.py:126: SparseEfficiencyWarning: Changing the sparsity structure of a csr_matrix is expensive. lil_matrix is more efficient.\n",
      "  self._set_arrayXarray(i, j, x)\n"
     ]
    },
    {
     "name": "stdout",
     "output_type": "stream",
     "text": [
      "cur_iter  1\n",
      "cur_iter  2\n",
      "cur_iter  3\n",
      "cur_iter  4\n",
      "cur_iter  5\n",
      "cur_iter  6\n",
      "cur_iter  7\n",
      "cur_iter  8\n",
      "cur_iter  9\n",
      "target_item:  3247\n",
      "15.957386880047125\n",
      "cur_iter  0\n"
     ]
    },
    {
     "name": "stderr",
     "output_type": "stream",
     "text": [
      "D:\\Anaconda\\envs\\tensorflow_cpu\\lib\\site-packages\\scipy\\sparse\\_index.py:126: SparseEfficiencyWarning: Changing the sparsity structure of a csr_matrix is expensive. lil_matrix is more efficient.\n",
      "  self._set_arrayXarray(i, j, x)\n"
     ]
    },
    {
     "name": "stdout",
     "output_type": "stream",
     "text": [
      "cur_iter  1\n",
      "cur_iter  2\n",
      "cur_iter  3\n",
      "cur_iter  4\n",
      "cur_iter  5\n",
      "cur_iter  6\n",
      "cur_iter  7\n",
      "cur_iter  8\n",
      "cur_iter  9\n",
      "target_item:  4072\n",
      "8.912003458963227\n",
      "cur_iter  0\n"
     ]
    },
    {
     "name": "stderr",
     "output_type": "stream",
     "text": [
      "D:\\Anaconda\\envs\\tensorflow_cpu\\lib\\site-packages\\scipy\\sparse\\_index.py:126: SparseEfficiencyWarning: Changing the sparsity structure of a csr_matrix is expensive. lil_matrix is more efficient.\n",
      "  self._set_arrayXarray(i, j, x)\n"
     ]
    },
    {
     "name": "stdout",
     "output_type": "stream",
     "text": [
      "cur_iter  1\n",
      "cur_iter  2\n",
      "cur_iter  3\n",
      "cur_iter  4\n",
      "cur_iter  5\n",
      "cur_iter  6\n",
      "cur_iter  7\n",
      "cur_iter  8\n",
      "cur_iter  9\n",
      "target_item:  4707\n",
      "10.64231486827157\n",
      "cur_iter  0\n"
     ]
    },
    {
     "name": "stderr",
     "output_type": "stream",
     "text": [
      "D:\\Anaconda\\envs\\tensorflow_cpu\\lib\\site-packages\\scipy\\sparse\\_index.py:126: SparseEfficiencyWarning: Changing the sparsity structure of a csr_matrix is expensive. lil_matrix is more efficient.\n",
      "  self._set_arrayXarray(i, j, x)\n"
     ]
    },
    {
     "name": "stdout",
     "output_type": "stream",
     "text": [
      "cur_iter  1\n",
      "cur_iter  2\n",
      "cur_iter  3\n",
      "cur_iter  4\n",
      "cur_iter  5\n",
      "cur_iter  6\n",
      "cur_iter  7\n",
      "cur_iter  8\n",
      "cur_iter  9\n",
      "target_item:  4828\n",
      "14.520350007960587\n",
      "cur_iter  0\n"
     ]
    },
    {
     "name": "stderr",
     "output_type": "stream",
     "text": [
      "D:\\Anaconda\\envs\\tensorflow_cpu\\lib\\site-packages\\scipy\\sparse\\_index.py:126: SparseEfficiencyWarning: Changing the sparsity structure of a csr_matrix is expensive. lil_matrix is more efficient.\n",
      "  self._set_arrayXarray(i, j, x)\n"
     ]
    },
    {
     "name": "stdout",
     "output_type": "stream",
     "text": [
      "cur_iter  1\n",
      "cur_iter  2\n",
      "cur_iter  3\n",
      "cur_iter  4\n",
      "cur_iter  5\n",
      "cur_iter  6\n",
      "cur_iter  7\n",
      "cur_iter  8\n",
      "cur_iter  9\n",
      "target_item:  5377\n",
      "9.660384956327107\n",
      "cur_iter  0\n"
     ]
    },
    {
     "name": "stderr",
     "output_type": "stream",
     "text": [
      "D:\\Anaconda\\envs\\tensorflow_cpu\\lib\\site-packages\\scipy\\sparse\\_index.py:126: SparseEfficiencyWarning: Changing the sparsity structure of a csr_matrix is expensive. lil_matrix is more efficient.\n",
      "  self._set_arrayXarray(i, j, x)\n"
     ]
    },
    {
     "name": "stdout",
     "output_type": "stream",
     "text": [
      "cur_iter  1\n",
      "cur_iter  2\n",
      "cur_iter  3\n",
      "cur_iter  4\n",
      "cur_iter  5\n",
      "cur_iter  6\n",
      "cur_iter  7\n",
      "cur_iter  8\n",
      "cur_iter  9\n",
      "target_item:  5471\n",
      "32.35336940640809\n",
      "cur_iter  0\n"
     ]
    },
    {
     "name": "stderr",
     "output_type": "stream",
     "text": [
      "D:\\Anaconda\\envs\\tensorflow_cpu\\lib\\site-packages\\scipy\\sparse\\_index.py:126: SparseEfficiencyWarning: Changing the sparsity structure of a csr_matrix is expensive. lil_matrix is more efficient.\n",
      "  self._set_arrayXarray(i, j, x)\n"
     ]
    },
    {
     "name": "stdout",
     "output_type": "stream",
     "text": [
      "cur_iter  1\n",
      "cur_iter  2\n",
      "cur_iter  3\n",
      "cur_iter  4\n",
      "cur_iter  5\n",
      "cur_iter  6\n",
      "cur_iter  7\n",
      "cur_iter  8\n",
      "no more keyphrase available\n",
      "User ID  310\n",
      "wanted_items length:  8\n",
      "Initial top recommendation index 2446\n",
      "target_item:  425\n",
      "96.03763066108718\n",
      "cur_iter  0\n",
      "no more keyphrase available\n",
      "target_item:  754\n",
      "4.520565126618749\n",
      "cur_iter  0\n"
     ]
    },
    {
     "name": "stderr",
     "output_type": "stream",
     "text": [
      "D:\\Anaconda\\envs\\tensorflow_cpu\\lib\\site-packages\\scipy\\sparse\\_index.py:126: SparseEfficiencyWarning: Changing the sparsity structure of a csr_matrix is expensive. lil_matrix is more efficient.\n",
      "  self._set_arrayXarray(i, j, x)\n"
     ]
    },
    {
     "name": "stdout",
     "output_type": "stream",
     "text": [
      "cur_iter  1\n",
      "cur_iter  2\n",
      "cur_iter  3\n",
      "cur_iter  4\n",
      "cur_iter  5\n",
      "cur_iter  6\n",
      "cur_iter  7\n",
      "cur_iter  8\n",
      "cur_iter  9\n",
      "target_item:  3072\n",
      "17.668003073840737\n",
      "cur_iter  0\n"
     ]
    },
    {
     "name": "stderr",
     "output_type": "stream",
     "text": [
      "D:\\Anaconda\\envs\\tensorflow_cpu\\lib\\site-packages\\scipy\\sparse\\_index.py:126: SparseEfficiencyWarning: Changing the sparsity structure of a csr_matrix is expensive. lil_matrix is more efficient.\n",
      "  self._set_arrayXarray(i, j, x)\n"
     ]
    },
    {
     "name": "stdout",
     "output_type": "stream",
     "text": [
      "cur_iter  1\n",
      "cur_iter  2\n",
      "cur_iter  3\n",
      "cur_iter  4\n",
      "cur_iter  5\n",
      "cur_iter  6\n",
      "cur_iter  7\n",
      "no more keyphrase available\n",
      "target_item:  3964\n",
      "14.871009393229542\n",
      "cur_iter  0\n"
     ]
    },
    {
     "name": "stderr",
     "output_type": "stream",
     "text": [
      "D:\\Anaconda\\envs\\tensorflow_cpu\\lib\\site-packages\\scipy\\sparse\\_index.py:126: SparseEfficiencyWarning: Changing the sparsity structure of a csr_matrix is expensive. lil_matrix is more efficient.\n",
      "  self._set_arrayXarray(i, j, x)\n"
     ]
    },
    {
     "name": "stdout",
     "output_type": "stream",
     "text": [
      "cur_iter  1\n",
      "cur_iter  2\n",
      "cur_iter  3\n",
      "cur_iter  4\n",
      "cur_iter  5\n",
      "cur_iter  6\n",
      "cur_iter  7\n",
      "cur_iter  8\n",
      "cur_iter  9\n",
      "no more keyphrase available\n",
      "target_item:  4582\n",
      "12.441912505859591\n",
      "cur_iter  0\n"
     ]
    },
    {
     "name": "stderr",
     "output_type": "stream",
     "text": [
      "D:\\Anaconda\\envs\\tensorflow_cpu\\lib\\site-packages\\scipy\\sparse\\_index.py:126: SparseEfficiencyWarning: Changing the sparsity structure of a csr_matrix is expensive. lil_matrix is more efficient.\n",
      "  self._set_arrayXarray(i, j, x)\n"
     ]
    },
    {
     "name": "stdout",
     "output_type": "stream",
     "text": [
      "cur_iter  1\n",
      "cur_iter  2\n",
      "cur_iter  3\n",
      "cur_iter  4\n",
      "cur_iter  5\n",
      "cur_iter  6\n",
      "cur_iter  7\n",
      "cur_iter  8\n",
      "cur_iter  9\n",
      "target_item:  4799\n",
      "11.573035209115915\n",
      "cur_iter  0\n"
     ]
    },
    {
     "name": "stderr",
     "output_type": "stream",
     "text": [
      "D:\\Anaconda\\envs\\tensorflow_cpu\\lib\\site-packages\\scipy\\sparse\\_index.py:126: SparseEfficiencyWarning: Changing the sparsity structure of a csr_matrix is expensive. lil_matrix is more efficient.\n",
      "  self._set_arrayXarray(i, j, x)\n"
     ]
    },
    {
     "name": "stdout",
     "output_type": "stream",
     "text": [
      "cur_iter  1\n",
      "cur_iter  2\n",
      "cur_iter  3\n",
      "cur_iter  4\n",
      "cur_iter  5\n",
      "cur_iter  6\n",
      "cur_iter  7\n",
      "cur_iter  8\n",
      "cur_iter  9\n",
      "target_item:  7100\n",
      "3.570004828654419\n",
      "cur_iter  0\n"
     ]
    },
    {
     "name": "stderr",
     "output_type": "stream",
     "text": [
      "D:\\Anaconda\\envs\\tensorflow_cpu\\lib\\site-packages\\scipy\\sparse\\_index.py:126: SparseEfficiencyWarning: Changing the sparsity structure of a csr_matrix is expensive. lil_matrix is more efficient.\n",
      "  self._set_arrayXarray(i, j, x)\n"
     ]
    },
    {
     "name": "stdout",
     "output_type": "stream",
     "text": [
      "cur_iter  1\n",
      "cur_iter  2\n",
      "cur_iter  3\n",
      "cur_iter  4\n",
      "cur_iter  5\n",
      "cur_iter  6\n",
      "cur_iter  7\n",
      "cur_iter  8\n",
      "cur_iter  9\n",
      "target_item:  7445\n",
      "23.07169950251614\n",
      "cur_iter  0\n"
     ]
    },
    {
     "name": "stderr",
     "output_type": "stream",
     "text": [
      "D:\\Anaconda\\envs\\tensorflow_cpu\\lib\\site-packages\\scipy\\sparse\\_index.py:126: SparseEfficiencyWarning: Changing the sparsity structure of a csr_matrix is expensive. lil_matrix is more efficient.\n",
      "  self._set_arrayXarray(i, j, x)\n"
     ]
    },
    {
     "name": "stdout",
     "output_type": "stream",
     "text": [
      "cur_iter  1\n",
      "cur_iter  2\n",
      "cur_iter  3\n",
      "cur_iter  4\n",
      "cur_iter  5\n",
      "cur_iter  6\n",
      "no more keyphrase available\n",
      "User ID  311\n",
      "wanted_items length:  6\n",
      "Initial top recommendation index 3997\n",
      "target_item:  279\n",
      "3.69326971159353\n",
      "cur_iter  0\n"
     ]
    },
    {
     "name": "stderr",
     "output_type": "stream",
     "text": [
      "D:\\Anaconda\\envs\\tensorflow_cpu\\lib\\site-packages\\scipy\\sparse\\_index.py:126: SparseEfficiencyWarning: Changing the sparsity structure of a csr_matrix is expensive. lil_matrix is more efficient.\n",
      "  self._set_arrayXarray(i, j, x)\n"
     ]
    },
    {
     "name": "stdout",
     "output_type": "stream",
     "text": [
      "cur_iter  1\n",
      "cur_iter  2\n",
      "cur_iter  3\n",
      "cur_iter  4\n",
      "cur_iter  5\n",
      "cur_iter  6\n",
      "cur_iter  7\n",
      "cur_iter  8\n",
      "cur_iter  9\n",
      "target_item:  2089\n",
      "Cannot get restaurant name for ItemIndex:  2089\n",
      "4.728034570633099\n",
      "cur_iter  0\n"
     ]
    },
    {
     "name": "stderr",
     "output_type": "stream",
     "text": [
      "D:\\Anaconda\\envs\\tensorflow_cpu\\lib\\site-packages\\scipy\\sparse\\_index.py:126: SparseEfficiencyWarning: Changing the sparsity structure of a csr_matrix is expensive. lil_matrix is more efficient.\n",
      "  self._set_arrayXarray(i, j, x)\n"
     ]
    },
    {
     "name": "stdout",
     "output_type": "stream",
     "text": [
      "cur_iter  1\n",
      "cur_iter  2\n",
      "cur_iter  3\n",
      "cur_iter  4\n",
      "cur_iter  5\n",
      "cur_iter  6\n",
      "cur_iter  7\n",
      "cur_iter  8\n",
      "cur_iter  9\n",
      "target_item:  3229\n",
      "3.4945797231575852\n",
      "cur_iter  0\n"
     ]
    },
    {
     "name": "stderr",
     "output_type": "stream",
     "text": [
      "D:\\Anaconda\\envs\\tensorflow_cpu\\lib\\site-packages\\scipy\\sparse\\_index.py:126: SparseEfficiencyWarning: Changing the sparsity structure of a csr_matrix is expensive. lil_matrix is more efficient.\n",
      "  self._set_arrayXarray(i, j, x)\n"
     ]
    },
    {
     "name": "stdout",
     "output_type": "stream",
     "text": [
      "cur_iter  1\n",
      "cur_iter  2\n",
      "cur_iter  3\n",
      "cur_iter  4\n",
      "cur_iter  5\n",
      "cur_iter  6\n",
      "cur_iter  7\n",
      "cur_iter  8\n",
      "cur_iter  9\n",
      "target_item:  6437\n",
      "4.422368473936331\n",
      "cur_iter  0\n"
     ]
    },
    {
     "name": "stderr",
     "output_type": "stream",
     "text": [
      "D:\\Anaconda\\envs\\tensorflow_cpu\\lib\\site-packages\\scipy\\sparse\\_index.py:126: SparseEfficiencyWarning: Changing the sparsity structure of a csr_matrix is expensive. lil_matrix is more efficient.\n",
      "  self._set_arrayXarray(i, j, x)\n"
     ]
    },
    {
     "name": "stdout",
     "output_type": "stream",
     "text": [
      "cur_iter  1\n",
      "cur_iter  2\n",
      "cur_iter  3\n",
      "cur_iter  4\n",
      "cur_iter  5\n",
      "cur_iter  6\n",
      "cur_iter  7\n",
      "cur_iter  8\n",
      "cur_iter  9\n",
      "target_item:  6735\n",
      "3.744158851103748\n",
      "cur_iter  0\n"
     ]
    },
    {
     "name": "stderr",
     "output_type": "stream",
     "text": [
      "D:\\Anaconda\\envs\\tensorflow_cpu\\lib\\site-packages\\scipy\\sparse\\_index.py:126: SparseEfficiencyWarning: Changing the sparsity structure of a csr_matrix is expensive. lil_matrix is more efficient.\n",
      "  self._set_arrayXarray(i, j, x)\n"
     ]
    },
    {
     "name": "stdout",
     "output_type": "stream",
     "text": [
      "cur_iter  1\n",
      "cur_iter  2\n",
      "cur_iter  3\n",
      "cur_iter  4\n",
      "cur_iter  5\n",
      "cur_iter  6\n",
      "cur_iter  7\n",
      "cur_iter  8\n",
      "cur_iter  9\n",
      "target_item:  7427\n",
      "3.318152206634295\n",
      "cur_iter  0\n"
     ]
    },
    {
     "name": "stderr",
     "output_type": "stream",
     "text": [
      "D:\\Anaconda\\envs\\tensorflow_cpu\\lib\\site-packages\\scipy\\sparse\\_index.py:126: SparseEfficiencyWarning: Changing the sparsity structure of a csr_matrix is expensive. lil_matrix is more efficient.\n",
      "  self._set_arrayXarray(i, j, x)\n"
     ]
    },
    {
     "name": "stdout",
     "output_type": "stream",
     "text": [
      "cur_iter  1\n",
      "cur_iter  2\n",
      "cur_iter  3\n",
      "cur_iter  4\n",
      "cur_iter  5\n",
      "cur_iter  6\n",
      "cur_iter  7\n",
      "cur_iter  8\n",
      "cur_iter  9\n",
      "User ID  312\n",
      "wanted_items length:  9\n",
      "Initial top recommendation index 6454\n",
      "target_item:  75\n",
      "14.670182154133727\n",
      "cur_iter  0\n"
     ]
    },
    {
     "name": "stderr",
     "output_type": "stream",
     "text": [
      "D:\\Anaconda\\envs\\tensorflow_cpu\\lib\\site-packages\\scipy\\sparse\\_index.py:126: SparseEfficiencyWarning: Changing the sparsity structure of a csr_matrix is expensive. lil_matrix is more efficient.\n",
      "  self._set_arrayXarray(i, j, x)\n"
     ]
    },
    {
     "name": "stdout",
     "output_type": "stream",
     "text": [
      "cur_iter  1\n",
      "cur_iter  2\n",
      "cur_iter  3\n",
      "cur_iter  4\n",
      "cur_iter  5\n",
      "cur_iter  6\n",
      "cur_iter  7\n",
      "cur_iter  8\n",
      "cur_iter  9\n",
      "target_item:  299\n",
      "11.11814121147654\n",
      "cur_iter  0\n"
     ]
    },
    {
     "name": "stderr",
     "output_type": "stream",
     "text": [
      "D:\\Anaconda\\envs\\tensorflow_cpu\\lib\\site-packages\\scipy\\sparse\\_index.py:126: SparseEfficiencyWarning: Changing the sparsity structure of a csr_matrix is expensive. lil_matrix is more efficient.\n",
      "  self._set_arrayXarray(i, j, x)\n"
     ]
    },
    {
     "name": "stdout",
     "output_type": "stream",
     "text": [
      "cur_iter  1\n",
      "cur_iter  2\n",
      "cur_iter  3\n",
      "cur_iter  4\n",
      "cur_iter  5\n",
      "cur_iter  6\n",
      "cur_iter  7\n",
      "cur_iter  8\n",
      "cur_iter  9\n",
      "target_item:  2341\n",
      "6.331159969913642\n",
      "cur_iter  0\n"
     ]
    },
    {
     "name": "stderr",
     "output_type": "stream",
     "text": [
      "D:\\Anaconda\\envs\\tensorflow_cpu\\lib\\site-packages\\scipy\\sparse\\_index.py:126: SparseEfficiencyWarning: Changing the sparsity structure of a csr_matrix is expensive. lil_matrix is more efficient.\n",
      "  self._set_arrayXarray(i, j, x)\n"
     ]
    },
    {
     "name": "stdout",
     "output_type": "stream",
     "text": [
      "cur_iter  1\n",
      "cur_iter  2\n",
      "cur_iter  3\n",
      "cur_iter  4\n",
      "cur_iter  5\n",
      "cur_iter  6\n",
      "cur_iter  7\n",
      "cur_iter  8\n",
      "cur_iter  9\n",
      "target_item:  3718\n",
      "6.705197324579785\n",
      "cur_iter  0\n"
     ]
    },
    {
     "name": "stderr",
     "output_type": "stream",
     "text": [
      "D:\\Anaconda\\envs\\tensorflow_cpu\\lib\\site-packages\\scipy\\sparse\\_index.py:126: SparseEfficiencyWarning: Changing the sparsity structure of a csr_matrix is expensive. lil_matrix is more efficient.\n",
      "  self._set_arrayXarray(i, j, x)\n"
     ]
    },
    {
     "name": "stdout",
     "output_type": "stream",
     "text": [
      "cur_iter  1\n",
      "cur_iter  2\n",
      "cur_iter  3\n",
      "cur_iter  4\n",
      "cur_iter  5\n",
      "cur_iter  6\n",
      "cur_iter  7\n",
      "cur_iter  8\n",
      "cur_iter  9\n",
      "target_item:  5144\n",
      "14.395450766509384\n",
      "cur_iter  0\n"
     ]
    },
    {
     "name": "stderr",
     "output_type": "stream",
     "text": [
      "D:\\Anaconda\\envs\\tensorflow_cpu\\lib\\site-packages\\scipy\\sparse\\_index.py:126: SparseEfficiencyWarning: Changing the sparsity structure of a csr_matrix is expensive. lil_matrix is more efficient.\n",
      "  self._set_arrayXarray(i, j, x)\n"
     ]
    },
    {
     "name": "stdout",
     "output_type": "stream",
     "text": [
      "cur_iter  1\n",
      "cur_iter  2\n",
      "cur_iter  3\n",
      "cur_iter  4\n",
      "cur_iter  5\n",
      "cur_iter  6\n",
      "cur_iter  7\n",
      "cur_iter  8\n",
      "cur_iter  9\n",
      "no more keyphrase available\n",
      "target_item:  5402\n",
      "8.164501424968194\n",
      "cur_iter  0\n"
     ]
    },
    {
     "name": "stderr",
     "output_type": "stream",
     "text": [
      "D:\\Anaconda\\envs\\tensorflow_cpu\\lib\\site-packages\\scipy\\sparse\\_index.py:126: SparseEfficiencyWarning: Changing the sparsity structure of a csr_matrix is expensive. lil_matrix is more efficient.\n",
      "  self._set_arrayXarray(i, j, x)\n"
     ]
    },
    {
     "name": "stdout",
     "output_type": "stream",
     "text": [
      "cur_iter  1\n",
      "cur_iter  2\n",
      "cur_iter  3\n",
      "cur_iter  4\n",
      "cur_iter  5\n",
      "cur_iter  6\n",
      "cur_iter  7\n",
      "cur_iter  8\n",
      "cur_iter  9\n",
      "target_item:  5784\n",
      "8.433530338583296\n",
      "cur_iter  0\n"
     ]
    },
    {
     "name": "stderr",
     "output_type": "stream",
     "text": [
      "D:\\Anaconda\\envs\\tensorflow_cpu\\lib\\site-packages\\scipy\\sparse\\_index.py:126: SparseEfficiencyWarning: Changing the sparsity structure of a csr_matrix is expensive. lil_matrix is more efficient.\n",
      "  self._set_arrayXarray(i, j, x)\n"
     ]
    },
    {
     "name": "stdout",
     "output_type": "stream",
     "text": [
      "cur_iter  1\n",
      "cur_iter  2\n",
      "cur_iter  3\n",
      "cur_iter  4\n",
      "cur_iter  5\n",
      "cur_iter  6\n",
      "cur_iter  7\n",
      "cur_iter  8\n",
      "cur_iter  9\n",
      "target_item:  6508\n",
      "22.528001588514826\n",
      "cur_iter  0\n"
     ]
    },
    {
     "name": "stderr",
     "output_type": "stream",
     "text": [
      "D:\\Anaconda\\envs\\tensorflow_cpu\\lib\\site-packages\\scipy\\sparse\\_index.py:126: SparseEfficiencyWarning: Changing the sparsity structure of a csr_matrix is expensive. lil_matrix is more efficient.\n",
      "  self._set_arrayXarray(i, j, x)\n"
     ]
    },
    {
     "name": "stdout",
     "output_type": "stream",
     "text": [
      "cur_iter  1\n",
      "cur_iter  2\n",
      "cur_iter  3\n",
      "cur_iter  4\n",
      "cur_iter  5\n",
      "cur_iter  6\n",
      "cur_iter  7\n",
      "cur_iter  8\n",
      "cur_iter  9\n",
      "target_item:  6739\n",
      "8.339587744141681\n",
      "cur_iter  0\n"
     ]
    },
    {
     "name": "stderr",
     "output_type": "stream",
     "text": [
      "D:\\Anaconda\\envs\\tensorflow_cpu\\lib\\site-packages\\scipy\\sparse\\_index.py:126: SparseEfficiencyWarning: Changing the sparsity structure of a csr_matrix is expensive. lil_matrix is more efficient.\n",
      "  self._set_arrayXarray(i, j, x)\n"
     ]
    },
    {
     "name": "stdout",
     "output_type": "stream",
     "text": [
      "cur_iter  1\n",
      "cur_iter  2\n",
      "cur_iter  3\n",
      "cur_iter  4\n",
      "cur_iter  5\n",
      "cur_iter  6\n",
      "cur_iter  7\n",
      "cur_iter  8\n",
      "cur_iter  9\n",
      "User ID  313\n",
      "wanted_items length:  6\n",
      "Initial top recommendation index 6688\n",
      "target_item:  957\n",
      "29.79575613864381\n",
      "cur_iter  0\n"
     ]
    },
    {
     "name": "stderr",
     "output_type": "stream",
     "text": [
      "D:\\Anaconda\\envs\\tensorflow_cpu\\lib\\site-packages\\scipy\\sparse\\_index.py:126: SparseEfficiencyWarning: Changing the sparsity structure of a csr_matrix is expensive. lil_matrix is more efficient.\n",
      "  self._set_arrayXarray(i, j, x)\n"
     ]
    },
    {
     "name": "stdout",
     "output_type": "stream",
     "text": [
      "cur_iter  1\n",
      "cur_iter  2\n",
      "no more keyphrase available\n",
      "target_item:  1392\n",
      "7.005471110488088\n",
      "cur_iter  0\n"
     ]
    },
    {
     "name": "stderr",
     "output_type": "stream",
     "text": [
      "D:\\Anaconda\\envs\\tensorflow_cpu\\lib\\site-packages\\scipy\\sparse\\_index.py:126: SparseEfficiencyWarning: Changing the sparsity structure of a csr_matrix is expensive. lil_matrix is more efficient.\n",
      "  self._set_arrayXarray(i, j, x)\n"
     ]
    },
    {
     "name": "stdout",
     "output_type": "stream",
     "text": [
      "cur_iter  1\n",
      "cur_iter  2\n",
      "cur_iter  3\n",
      "cur_iter  4\n",
      "cur_iter  5\n",
      "cur_iter  6\n",
      "cur_iter  7\n",
      "cur_iter  8\n",
      "cur_iter  9\n",
      "target_item:  1548\n",
      "3.084778967612692\n",
      "cur_iter  0\n"
     ]
    },
    {
     "name": "stderr",
     "output_type": "stream",
     "text": [
      "D:\\Anaconda\\envs\\tensorflow_cpu\\lib\\site-packages\\scipy\\sparse\\_index.py:126: SparseEfficiencyWarning: Changing the sparsity structure of a csr_matrix is expensive. lil_matrix is more efficient.\n",
      "  self._set_arrayXarray(i, j, x)\n"
     ]
    },
    {
     "name": "stdout",
     "output_type": "stream",
     "text": [
      "cur_iter  1\n",
      "cur_iter  2\n",
      "cur_iter  3\n",
      "cur_iter  4\n",
      "cur_iter  5\n",
      "cur_iter  6\n",
      "cur_iter  7\n",
      "cur_iter  8\n",
      "cur_iter  9\n",
      "target_item:  4952\n",
      "5.310037241206828\n",
      "cur_iter  0\n"
     ]
    },
    {
     "name": "stderr",
     "output_type": "stream",
     "text": [
      "D:\\Anaconda\\envs\\tensorflow_cpu\\lib\\site-packages\\scipy\\sparse\\_index.py:126: SparseEfficiencyWarning: Changing the sparsity structure of a csr_matrix is expensive. lil_matrix is more efficient.\n",
      "  self._set_arrayXarray(i, j, x)\n"
     ]
    },
    {
     "name": "stdout",
     "output_type": "stream",
     "text": [
      "cur_iter  1\n",
      "cur_iter  2\n",
      "cur_iter  3\n",
      "cur_iter  4\n",
      "cur_iter  5\n",
      "cur_iter  6\n",
      "cur_iter  7\n",
      "cur_iter  8\n",
      "cur_iter  9\n",
      "target_item:  5478\n",
      "6.59125299701418\n",
      "cur_iter  0\n"
     ]
    },
    {
     "name": "stderr",
     "output_type": "stream",
     "text": [
      "D:\\Anaconda\\envs\\tensorflow_cpu\\lib\\site-packages\\scipy\\sparse\\_index.py:126: SparseEfficiencyWarning: Changing the sparsity structure of a csr_matrix is expensive. lil_matrix is more efficient.\n",
      "  self._set_arrayXarray(i, j, x)\n"
     ]
    },
    {
     "name": "stdout",
     "output_type": "stream",
     "text": [
      "cur_iter  1\n",
      "cur_iter  2\n",
      "cur_iter  3\n",
      "cur_iter  4\n",
      "cur_iter  5\n",
      "cur_iter  6\n",
      "cur_iter  7\n",
      "cur_iter  8\n",
      "cur_iter  9\n",
      "target_item:  6717\n",
      "4.64915414866573\n",
      "cur_iter  0\n"
     ]
    },
    {
     "name": "stderr",
     "output_type": "stream",
     "text": [
      "D:\\Anaconda\\envs\\tensorflow_cpu\\lib\\site-packages\\scipy\\sparse\\_index.py:126: SparseEfficiencyWarning: Changing the sparsity structure of a csr_matrix is expensive. lil_matrix is more efficient.\n",
      "  self._set_arrayXarray(i, j, x)\n"
     ]
    },
    {
     "name": "stdout",
     "output_type": "stream",
     "text": [
      "cur_iter  1\n",
      "cur_iter  2\n",
      "cur_iter  3\n",
      "cur_iter  4\n",
      "cur_iter  5\n",
      "cur_iter  6\n",
      "cur_iter  7\n",
      "cur_iter  8\n",
      "cur_iter  9\n",
      "User ID  314\n",
      "wanted_items length:  36\n",
      "Initial top recommendation index 3377\n",
      "target_item:  20\n",
      "17.416210611802853\n",
      "cur_iter  0\n"
     ]
    },
    {
     "name": "stderr",
     "output_type": "stream",
     "text": [
      "D:\\Anaconda\\envs\\tensorflow_cpu\\lib\\site-packages\\scipy\\sparse\\_index.py:126: SparseEfficiencyWarning: Changing the sparsity structure of a csr_matrix is expensive. lil_matrix is more efficient.\n",
      "  self._set_arrayXarray(i, j, x)\n"
     ]
    },
    {
     "name": "stdout",
     "output_type": "stream",
     "text": [
      "cur_iter  1\n",
      "cur_iter  2\n",
      "cur_iter  3\n",
      "cur_iter  4\n",
      "cur_iter  5\n",
      "cur_iter  6\n",
      "cur_iter  7\n",
      "cur_iter  8\n",
      "cur_iter  9\n",
      "target_item:  42\n",
      "Cannot get restaurant name for ItemIndex:  42\n"
     ]
    },
    {
     "name": "stderr",
     "output_type": "stream",
     "text": [
      "D:\\Anaconda\\lib\\site-packages\\ipykernel_launcher.py:33: RuntimeWarning: invalid value encountered in true_divide\n"
     ]
    },
    {
     "name": "stdout",
     "output_type": "stream",
     "text": [
      "454.23964947815057\n",
      "cur_iter  0\n",
      "no more keyphrase available\n",
      "target_item:  53\n",
      "39.15758283811101\n",
      "cur_iter  0\n"
     ]
    },
    {
     "name": "stderr",
     "output_type": "stream",
     "text": [
      "D:\\Anaconda\\envs\\tensorflow_cpu\\lib\\site-packages\\scipy\\sparse\\_index.py:126: SparseEfficiencyWarning: Changing the sparsity structure of a csr_matrix is expensive. lil_matrix is more efficient.\n",
      "  self._set_arrayXarray(i, j, x)\n"
     ]
    },
    {
     "name": "stdout",
     "output_type": "stream",
     "text": [
      "cur_iter  1\n",
      "cur_iter  2\n",
      "cur_iter  3\n",
      "cur_iter  4\n",
      "cur_iter  5\n",
      "cur_iter  6\n",
      "cur_iter  7\n",
      "cur_iter  8\n",
      "cur_iter  9\n",
      "no more keyphrase available\n",
      "target_item:  84\n",
      "14.081707121936233\n",
      "cur_iter  0\n"
     ]
    },
    {
     "name": "stderr",
     "output_type": "stream",
     "text": [
      "D:\\Anaconda\\envs\\tensorflow_cpu\\lib\\site-packages\\scipy\\sparse\\_index.py:126: SparseEfficiencyWarning: Changing the sparsity structure of a csr_matrix is expensive. lil_matrix is more efficient.\n",
      "  self._set_arrayXarray(i, j, x)\n"
     ]
    },
    {
     "name": "stdout",
     "output_type": "stream",
     "text": [
      "cur_iter  1\n",
      "cur_iter  2\n",
      "cur_iter  3\n",
      "cur_iter  4\n",
      "cur_iter  5\n",
      "cur_iter  6\n",
      "cur_iter  7\n",
      "cur_iter  8\n",
      "cur_iter  9\n",
      "target_item:  774\n",
      "9.658837687057712\n",
      "cur_iter  0\n"
     ]
    },
    {
     "name": "stderr",
     "output_type": "stream",
     "text": [
      "D:\\Anaconda\\envs\\tensorflow_cpu\\lib\\site-packages\\scipy\\sparse\\_index.py:126: SparseEfficiencyWarning: Changing the sparsity structure of a csr_matrix is expensive. lil_matrix is more efficient.\n",
      "  self._set_arrayXarray(i, j, x)\n"
     ]
    },
    {
     "name": "stdout",
     "output_type": "stream",
     "text": [
      "cur_iter  1\n",
      "cur_iter  2\n",
      "cur_iter  3\n",
      "cur_iter  4\n",
      "cur_iter  5\n",
      "cur_iter  6\n",
      "cur_iter  7\n",
      "cur_iter  8\n",
      "cur_iter  9\n",
      "target_item:  818\n",
      "14.588304458550738\n",
      "cur_iter  0\n"
     ]
    },
    {
     "name": "stderr",
     "output_type": "stream",
     "text": [
      "D:\\Anaconda\\envs\\tensorflow_cpu\\lib\\site-packages\\scipy\\sparse\\_index.py:126: SparseEfficiencyWarning: Changing the sparsity structure of a csr_matrix is expensive. lil_matrix is more efficient.\n",
      "  self._set_arrayXarray(i, j, x)\n"
     ]
    },
    {
     "name": "stdout",
     "output_type": "stream",
     "text": [
      "cur_iter  1\n",
      "cur_iter  2\n",
      "cur_iter  3\n",
      "cur_iter  4\n",
      "cur_iter  5\n",
      "cur_iter  6\n",
      "cur_iter  7\n",
      "cur_iter  8\n",
      "cur_iter  9\n",
      "target_item:  868\n",
      "25.45710843991492\n",
      "cur_iter  0\n"
     ]
    },
    {
     "name": "stderr",
     "output_type": "stream",
     "text": [
      "D:\\Anaconda\\envs\\tensorflow_cpu\\lib\\site-packages\\scipy\\sparse\\_index.py:126: SparseEfficiencyWarning: Changing the sparsity structure of a csr_matrix is expensive. lil_matrix is more efficient.\n",
      "  self._set_arrayXarray(i, j, x)\n"
     ]
    },
    {
     "name": "stdout",
     "output_type": "stream",
     "text": [
      "cur_iter  1\n",
      "cur_iter  2\n",
      "cur_iter  3\n",
      "cur_iter  4\n",
      "cur_iter  5\n",
      "cur_iter  6\n",
      "cur_iter  7\n",
      "cur_iter  8\n",
      "cur_iter  9\n",
      "target_item:  991\n",
      "454.23964947815057\n",
      "cur_iter  0\n",
      "no more keyphrase available\n",
      "target_item:  1063\n",
      "14.983840600108124\n",
      "cur_iter  0\n"
     ]
    },
    {
     "name": "stderr",
     "output_type": "stream",
     "text": [
      "D:\\Anaconda\\envs\\tensorflow_cpu\\lib\\site-packages\\scipy\\sparse\\_index.py:126: SparseEfficiencyWarning: Changing the sparsity structure of a csr_matrix is expensive. lil_matrix is more efficient.\n",
      "  self._set_arrayXarray(i, j, x)\n"
     ]
    },
    {
     "name": "stdout",
     "output_type": "stream",
     "text": [
      "cur_iter  1\n",
      "cur_iter  2\n",
      "cur_iter  3\n",
      "cur_iter  4\n",
      "cur_iter  5\n",
      "cur_iter  6\n",
      "cur_iter  7\n",
      "cur_iter  8\n",
      "cur_iter  9\n",
      "target_item:  1726\n",
      "20.160409943776358\n",
      "cur_iter  0\n"
     ]
    },
    {
     "name": "stderr",
     "output_type": "stream",
     "text": [
      "D:\\Anaconda\\envs\\tensorflow_cpu\\lib\\site-packages\\scipy\\sparse\\_index.py:126: SparseEfficiencyWarning: Changing the sparsity structure of a csr_matrix is expensive. lil_matrix is more efficient.\n",
      "  self._set_arrayXarray(i, j, x)\n"
     ]
    },
    {
     "name": "stdout",
     "output_type": "stream",
     "text": [
      "cur_iter  1\n",
      "cur_iter  2\n",
      "cur_iter  3\n",
      "cur_iter  4\n",
      "cur_iter  5\n",
      "cur_iter  6\n",
      "cur_iter  7\n",
      "cur_iter  8\n",
      "cur_iter  9\n",
      "target_item:  1858\n",
      "12.345332956211678\n",
      "cur_iter  0\n"
     ]
    },
    {
     "name": "stderr",
     "output_type": "stream",
     "text": [
      "D:\\Anaconda\\envs\\tensorflow_cpu\\lib\\site-packages\\scipy\\sparse\\_index.py:126: SparseEfficiencyWarning: Changing the sparsity structure of a csr_matrix is expensive. lil_matrix is more efficient.\n",
      "  self._set_arrayXarray(i, j, x)\n"
     ]
    },
    {
     "name": "stdout",
     "output_type": "stream",
     "text": [
      "cur_iter  1\n",
      "cur_iter  2\n",
      "cur_iter  3\n",
      "cur_iter  4\n",
      "cur_iter  5\n",
      "cur_iter  6\n",
      "cur_iter  7\n",
      "cur_iter  8\n",
      "cur_iter  9\n",
      "User ID  315\n",
      "wanted_items length:  12\n",
      "Initial top recommendation index 5659\n",
      "target_item:  488\n",
      "59.324265322112296\n",
      "cur_iter  0\n"
     ]
    },
    {
     "name": "stderr",
     "output_type": "stream",
     "text": [
      "D:\\Anaconda\\envs\\tensorflow_cpu\\lib\\site-packages\\scipy\\sparse\\_index.py:126: SparseEfficiencyWarning: Changing the sparsity structure of a csr_matrix is expensive. lil_matrix is more efficient.\n",
      "  self._set_arrayXarray(i, j, x)\n"
     ]
    },
    {
     "name": "stdout",
     "output_type": "stream",
     "text": [
      "cur_iter  1\n",
      "cur_iter  2\n",
      "cur_iter  3\n",
      "cur_iter  4\n",
      "cur_iter  5\n",
      "no more keyphrase available\n",
      "target_item:  1202\n",
      "77.69497656517615\n",
      "cur_iter  0\n"
     ]
    },
    {
     "name": "stderr",
     "output_type": "stream",
     "text": [
      "D:\\Anaconda\\envs\\tensorflow_cpu\\lib\\site-packages\\scipy\\sparse\\_index.py:126: SparseEfficiencyWarning: Changing the sparsity structure of a csr_matrix is expensive. lil_matrix is more efficient.\n",
      "  self._set_arrayXarray(i, j, x)\n"
     ]
    },
    {
     "name": "stdout",
     "output_type": "stream",
     "text": [
      "cur_iter  1\n",
      "cur_iter  2\n",
      "cur_iter  3\n",
      "no more keyphrase available\n",
      "target_item:  1218\n",
      "35.16940868881193\n",
      "cur_iter  0\n"
     ]
    },
    {
     "name": "stderr",
     "output_type": "stream",
     "text": [
      "D:\\Anaconda\\envs\\tensorflow_cpu\\lib\\site-packages\\scipy\\sparse\\_index.py:126: SparseEfficiencyWarning: Changing the sparsity structure of a csr_matrix is expensive. lil_matrix is more efficient.\n",
      "  self._set_arrayXarray(i, j, x)\n"
     ]
    },
    {
     "name": "stdout",
     "output_type": "stream",
     "text": [
      "cur_iter  1\n",
      "cur_iter  2\n",
      "cur_iter  3\n",
      "cur_iter  4\n",
      "cur_iter  5\n",
      "cur_iter  6\n",
      "cur_iter  7\n",
      "cur_iter  8\n",
      "no more keyphrase available\n",
      "target_item:  2729\n",
      "20.050708165458673\n",
      "cur_iter  0\n"
     ]
    },
    {
     "name": "stderr",
     "output_type": "stream",
     "text": [
      "D:\\Anaconda\\envs\\tensorflow_cpu\\lib\\site-packages\\scipy\\sparse\\_index.py:126: SparseEfficiencyWarning: Changing the sparsity structure of a csr_matrix is expensive. lil_matrix is more efficient.\n",
      "  self._set_arrayXarray(i, j, x)\n"
     ]
    },
    {
     "name": "stdout",
     "output_type": "stream",
     "text": [
      "cur_iter  1\n",
      "cur_iter  2\n",
      "cur_iter  3\n",
      "cur_iter  4\n",
      "cur_iter  5\n",
      "cur_iter  6\n",
      "cur_iter  7\n",
      "cur_iter  8\n",
      "cur_iter  9\n",
      "target_item:  3040\n",
      "45.709226514381044\n",
      "cur_iter  0\n"
     ]
    },
    {
     "name": "stderr",
     "output_type": "stream",
     "text": [
      "D:\\Anaconda\\envs\\tensorflow_cpu\\lib\\site-packages\\scipy\\sparse\\_index.py:126: SparseEfficiencyWarning: Changing the sparsity structure of a csr_matrix is expensive. lil_matrix is more efficient.\n",
      "  self._set_arrayXarray(i, j, x)\n"
     ]
    },
    {
     "name": "stdout",
     "output_type": "stream",
     "text": [
      "cur_iter  1\n",
      "cur_iter  2\n",
      "cur_iter  3\n",
      "cur_iter  4\n",
      "cur_iter  5\n",
      "cur_iter  6\n",
      "cur_iter  7\n",
      "cur_iter  8\n",
      "no more keyphrase available\n",
      "target_item:  4034\n",
      "30.353928087058193\n",
      "cur_iter  0\n"
     ]
    },
    {
     "name": "stderr",
     "output_type": "stream",
     "text": [
      "D:\\Anaconda\\envs\\tensorflow_cpu\\lib\\site-packages\\scipy\\sparse\\_index.py:126: SparseEfficiencyWarning: Changing the sparsity structure of a csr_matrix is expensive. lil_matrix is more efficient.\n",
      "  self._set_arrayXarray(i, j, x)\n"
     ]
    },
    {
     "name": "stdout",
     "output_type": "stream",
     "text": [
      "cur_iter  1\n",
      "cur_iter  2\n",
      "cur_iter  3\n",
      "cur_iter  4\n",
      "cur_iter  5\n",
      "cur_iter  6\n",
      "cur_iter  7\n",
      "cur_iter  8\n",
      "cur_iter  9\n",
      "target_item:  5820\n",
      "37.96124102363137\n",
      "cur_iter  0\n"
     ]
    },
    {
     "name": "stderr",
     "output_type": "stream",
     "text": [
      "D:\\Anaconda\\envs\\tensorflow_cpu\\lib\\site-packages\\scipy\\sparse\\_index.py:126: SparseEfficiencyWarning: Changing the sparsity structure of a csr_matrix is expensive. lil_matrix is more efficient.\n",
      "  self._set_arrayXarray(i, j, x)\n"
     ]
    },
    {
     "name": "stdout",
     "output_type": "stream",
     "text": [
      "cur_iter  1\n",
      "cur_iter  2\n",
      "cur_iter  3\n",
      "cur_iter  4\n",
      "cur_iter  5\n",
      "cur_iter  6\n",
      "cur_iter  7\n",
      "cur_iter  8\n",
      "cur_iter  9\n",
      "target_item:  6243\n",
      "50.69140190762391\n",
      "cur_iter  0\n"
     ]
    },
    {
     "name": "stderr",
     "output_type": "stream",
     "text": [
      "D:\\Anaconda\\envs\\tensorflow_cpu\\lib\\site-packages\\scipy\\sparse\\_index.py:126: SparseEfficiencyWarning: Changing the sparsity structure of a csr_matrix is expensive. lil_matrix is more efficient.\n",
      "  self._set_arrayXarray(i, j, x)\n"
     ]
    },
    {
     "name": "stdout",
     "output_type": "stream",
     "text": [
      "cur_iter  1\n",
      "cur_iter  2\n",
      "cur_iter  3\n",
      "cur_iter  4\n",
      "cur_iter  5\n",
      "cur_iter  6\n",
      "cur_iter  7\n",
      "no more keyphrase available\n",
      "target_item:  6258\n",
      "26.887229852404744\n",
      "cur_iter  0\n"
     ]
    },
    {
     "name": "stderr",
     "output_type": "stream",
     "text": [
      "D:\\Anaconda\\envs\\tensorflow_cpu\\lib\\site-packages\\scipy\\sparse\\_index.py:126: SparseEfficiencyWarning: Changing the sparsity structure of a csr_matrix is expensive. lil_matrix is more efficient.\n",
      "  self._set_arrayXarray(i, j, x)\n"
     ]
    },
    {
     "name": "stdout",
     "output_type": "stream",
     "text": [
      "cur_iter  1\n",
      "cur_iter  2\n",
      "cur_iter  3\n",
      "cur_iter  4\n",
      "cur_iter  5\n",
      "cur_iter  6\n",
      "cur_iter  7\n",
      "cur_iter  8\n",
      "cur_iter  9\n",
      "target_item:  6437\n",
      "35.13769839606266\n",
      "cur_iter  0\n"
     ]
    },
    {
     "name": "stderr",
     "output_type": "stream",
     "text": [
      "D:\\Anaconda\\envs\\tensorflow_cpu\\lib\\site-packages\\scipy\\sparse\\_index.py:126: SparseEfficiencyWarning: Changing the sparsity structure of a csr_matrix is expensive. lil_matrix is more efficient.\n",
      "  self._set_arrayXarray(i, j, x)\n"
     ]
    },
    {
     "name": "stdout",
     "output_type": "stream",
     "text": [
      "cur_iter  1\n",
      "cur_iter  2\n",
      "cur_iter  3\n",
      "cur_iter  4\n",
      "cur_iter  5\n",
      "cur_iter  6\n",
      "cur_iter  7\n",
      "cur_iter  8\n",
      "cur_iter  9\n",
      "target_item:  7037\n",
      "66.13069384285973\n",
      "cur_iter  0\n"
     ]
    },
    {
     "name": "stderr",
     "output_type": "stream",
     "text": [
      "D:\\Anaconda\\envs\\tensorflow_cpu\\lib\\site-packages\\scipy\\sparse\\_index.py:126: SparseEfficiencyWarning: Changing the sparsity structure of a csr_matrix is expensive. lil_matrix is more efficient.\n",
      "  self._set_arrayXarray(i, j, x)\n"
     ]
    },
    {
     "name": "stdout",
     "output_type": "stream",
     "text": [
      "cur_iter  1\n",
      "no more keyphrase available\n",
      "User ID  316\n",
      "wanted_items length:  7\n",
      "Initial top recommendation index 3347\n",
      "target_item:  463\n",
      "13.727132054901176\n",
      "cur_iter  0\n"
     ]
    },
    {
     "name": "stderr",
     "output_type": "stream",
     "text": [
      "D:\\Anaconda\\envs\\tensorflow_cpu\\lib\\site-packages\\scipy\\sparse\\_index.py:126: SparseEfficiencyWarning: Changing the sparsity structure of a csr_matrix is expensive. lil_matrix is more efficient.\n",
      "  self._set_arrayXarray(i, j, x)\n"
     ]
    },
    {
     "name": "stdout",
     "output_type": "stream",
     "text": [
      "cur_iter  1\n",
      "cur_iter  2\n",
      "cur_iter  3\n",
      "cur_iter  4\n",
      "cur_iter  5\n",
      "cur_iter  6\n",
      "cur_iter  7\n",
      "cur_iter  8\n",
      "cur_iter  9\n",
      "target_item:  914\n",
      "23.344327047436764\n",
      "cur_iter  0\n"
     ]
    },
    {
     "name": "stderr",
     "output_type": "stream",
     "text": [
      "D:\\Anaconda\\envs\\tensorflow_cpu\\lib\\site-packages\\scipy\\sparse\\_index.py:126: SparseEfficiencyWarning: Changing the sparsity structure of a csr_matrix is expensive. lil_matrix is more efficient.\n",
      "  self._set_arrayXarray(i, j, x)\n"
     ]
    },
    {
     "name": "stdout",
     "output_type": "stream",
     "text": [
      "cur_iter  1\n",
      "cur_iter  2\n",
      "cur_iter  3\n",
      "cur_iter  4\n",
      "cur_iter  5\n",
      "no more keyphrase available\n",
      "target_item:  1700\n",
      "15.113677684165395\n",
      "cur_iter  0\n"
     ]
    },
    {
     "name": "stderr",
     "output_type": "stream",
     "text": [
      "D:\\Anaconda\\envs\\tensorflow_cpu\\lib\\site-packages\\scipy\\sparse\\_index.py:126: SparseEfficiencyWarning: Changing the sparsity structure of a csr_matrix is expensive. lil_matrix is more efficient.\n",
      "  self._set_arrayXarray(i, j, x)\n"
     ]
    },
    {
     "name": "stdout",
     "output_type": "stream",
     "text": [
      "cur_iter  1\n",
      "cur_iter  2\n",
      "cur_iter  3\n",
      "cur_iter  4\n",
      "cur_iter  5\n",
      "cur_iter  6\n",
      "cur_iter  7\n",
      "cur_iter  8\n",
      "cur_iter  9\n",
      "target_item:  2667\n",
      "12.774674745200628\n",
      "cur_iter  0\n"
     ]
    },
    {
     "name": "stderr",
     "output_type": "stream",
     "text": [
      "D:\\Anaconda\\envs\\tensorflow_cpu\\lib\\site-packages\\scipy\\sparse\\_index.py:126: SparseEfficiencyWarning: Changing the sparsity structure of a csr_matrix is expensive. lil_matrix is more efficient.\n",
      "  self._set_arrayXarray(i, j, x)\n"
     ]
    },
    {
     "name": "stdout",
     "output_type": "stream",
     "text": [
      "cur_iter  1\n",
      "cur_iter  2\n",
      "cur_iter  3\n",
      "cur_iter  4\n",
      "cur_iter  5\n",
      "cur_iter  6\n",
      "cur_iter  7\n",
      "cur_iter  8\n",
      "cur_iter  9\n",
      "target_item:  4442\n",
      "10.704753505543067\n",
      "cur_iter  0\n"
     ]
    },
    {
     "name": "stderr",
     "output_type": "stream",
     "text": [
      "D:\\Anaconda\\envs\\tensorflow_cpu\\lib\\site-packages\\scipy\\sparse\\_index.py:126: SparseEfficiencyWarning: Changing the sparsity structure of a csr_matrix is expensive. lil_matrix is more efficient.\n",
      "  self._set_arrayXarray(i, j, x)\n"
     ]
    },
    {
     "name": "stdout",
     "output_type": "stream",
     "text": [
      "cur_iter  1\n",
      "cur_iter  2\n",
      "cur_iter  3\n",
      "cur_iter  4\n",
      "cur_iter  5\n",
      "cur_iter  6\n",
      "cur_iter  7\n",
      "cur_iter  8\n",
      "cur_iter  9\n",
      "target_item:  5485\n",
      "9.161848062176887\n",
      "cur_iter  0\n"
     ]
    },
    {
     "name": "stderr",
     "output_type": "stream",
     "text": [
      "D:\\Anaconda\\envs\\tensorflow_cpu\\lib\\site-packages\\scipy\\sparse\\_index.py:126: SparseEfficiencyWarning: Changing the sparsity structure of a csr_matrix is expensive. lil_matrix is more efficient.\n",
      "  self._set_arrayXarray(i, j, x)\n"
     ]
    },
    {
     "name": "stdout",
     "output_type": "stream",
     "text": [
      "cur_iter  1\n",
      "cur_iter  2\n",
      "cur_iter  3\n",
      "cur_iter  4\n",
      "cur_iter  5\n",
      "cur_iter  6\n",
      "cur_iter  7\n",
      "cur_iter  8\n",
      "cur_iter  9\n",
      "target_item:  5852\n",
      "13.616757290754776\n",
      "cur_iter  0\n"
     ]
    },
    {
     "name": "stderr",
     "output_type": "stream",
     "text": [
      "D:\\Anaconda\\envs\\tensorflow_cpu\\lib\\site-packages\\scipy\\sparse\\_index.py:126: SparseEfficiencyWarning: Changing the sparsity structure of a csr_matrix is expensive. lil_matrix is more efficient.\n",
      "  self._set_arrayXarray(i, j, x)\n"
     ]
    },
    {
     "name": "stdout",
     "output_type": "stream",
     "text": [
      "cur_iter  1\n",
      "cur_iter  2\n",
      "cur_iter  3\n",
      "cur_iter  4\n",
      "cur_iter  5\n",
      "cur_iter  6\n",
      "cur_iter  7\n",
      "cur_iter  8\n",
      "cur_iter  9\n",
      "User ID  317\n",
      "wanted_items length:  37\n",
      "Initial top recommendation index 419\n",
      "target_item:  278\n",
      "30.811917497131617\n",
      "cur_iter  0\n"
     ]
    },
    {
     "name": "stderr",
     "output_type": "stream",
     "text": [
      "D:\\Anaconda\\envs\\tensorflow_cpu\\lib\\site-packages\\scipy\\sparse\\_index.py:126: SparseEfficiencyWarning: Changing the sparsity structure of a csr_matrix is expensive. lil_matrix is more efficient.\n",
      "  self._set_arrayXarray(i, j, x)\n"
     ]
    },
    {
     "name": "stdout",
     "output_type": "stream",
     "text": [
      "cur_iter  1\n",
      "cur_iter  2\n",
      "cur_iter  3\n",
      "cur_iter  4\n",
      "cur_iter  5\n",
      "cur_iter  6\n",
      "cur_iter  7\n",
      "cur_iter  8\n",
      "cur_iter  9\n",
      "target_item:  612\n",
      "77.58287549949728\n",
      "cur_iter  0\n"
     ]
    },
    {
     "name": "stderr",
     "output_type": "stream",
     "text": [
      "D:\\Anaconda\\envs\\tensorflow_cpu\\lib\\site-packages\\scipy\\sparse\\_index.py:126: SparseEfficiencyWarning: Changing the sparsity structure of a csr_matrix is expensive. lil_matrix is more efficient.\n",
      "  self._set_arrayXarray(i, j, x)\n"
     ]
    },
    {
     "name": "stdout",
     "output_type": "stream",
     "text": [
      "cur_iter  1\n",
      "cur_iter  2\n",
      "cur_iter  3\n",
      "cur_iter  4\n",
      "cur_iter  5\n",
      "cur_iter  6\n",
      "cur_iter  7\n",
      "cur_iter  8\n",
      "cur_iter  9\n",
      "target_item:  711\n",
      "121.30676118465726\n",
      "cur_iter  0\n"
     ]
    },
    {
     "name": "stderr",
     "output_type": "stream",
     "text": [
      "D:\\Anaconda\\envs\\tensorflow_cpu\\lib\\site-packages\\scipy\\sparse\\_index.py:126: SparseEfficiencyWarning: Changing the sparsity structure of a csr_matrix is expensive. lil_matrix is more efficient.\n",
      "  self._set_arrayXarray(i, j, x)\n"
     ]
    },
    {
     "name": "stdout",
     "output_type": "stream",
     "text": [
      "cur_iter  1\n",
      "cur_iter  2\n",
      "cur_iter  3\n",
      "cur_iter  4\n",
      "cur_iter  5\n",
      "cur_iter  6\n",
      "cur_iter  7\n",
      "no more keyphrase available\n",
      "target_item:  1249\n",
      "23.702677916148787\n",
      "cur_iter  0\n"
     ]
    },
    {
     "name": "stderr",
     "output_type": "stream",
     "text": [
      "D:\\Anaconda\\envs\\tensorflow_cpu\\lib\\site-packages\\scipy\\sparse\\_index.py:126: SparseEfficiencyWarning: Changing the sparsity structure of a csr_matrix is expensive. lil_matrix is more efficient.\n",
      "  self._set_arrayXarray(i, j, x)\n"
     ]
    },
    {
     "name": "stdout",
     "output_type": "stream",
     "text": [
      "cur_iter  1\n",
      "cur_iter  2\n",
      "cur_iter  3\n",
      "cur_iter  4\n",
      "cur_iter  5\n",
      "cur_iter  6\n",
      "cur_iter  7\n",
      "cur_iter  8\n",
      "cur_iter  9\n",
      "target_item:  1291\n",
      "28.998596120533875\n",
      "cur_iter  0\n"
     ]
    },
    {
     "name": "stderr",
     "output_type": "stream",
     "text": [
      "D:\\Anaconda\\envs\\tensorflow_cpu\\lib\\site-packages\\scipy\\sparse\\_index.py:126: SparseEfficiencyWarning: Changing the sparsity structure of a csr_matrix is expensive. lil_matrix is more efficient.\n",
      "  self._set_arrayXarray(i, j, x)\n"
     ]
    },
    {
     "name": "stdout",
     "output_type": "stream",
     "text": [
      "cur_iter  1\n",
      "cur_iter  2\n",
      "cur_iter  3\n",
      "cur_iter  4\n",
      "cur_iter  5\n",
      "cur_iter  6\n",
      "cur_iter  7\n",
      "cur_iter  8\n",
      "cur_iter  9\n",
      "target_item:  1308\n",
      "39.48985959517722\n",
      "cur_iter  0\n"
     ]
    },
    {
     "name": "stderr",
     "output_type": "stream",
     "text": [
      "D:\\Anaconda\\envs\\tensorflow_cpu\\lib\\site-packages\\scipy\\sparse\\_index.py:126: SparseEfficiencyWarning: Changing the sparsity structure of a csr_matrix is expensive. lil_matrix is more efficient.\n",
      "  self._set_arrayXarray(i, j, x)\n"
     ]
    },
    {
     "name": "stdout",
     "output_type": "stream",
     "text": [
      "cur_iter  1\n",
      "cur_iter  2\n",
      "cur_iter  3\n",
      "cur_iter  4\n",
      "cur_iter  5\n",
      "cur_iter  6\n",
      "cur_iter  7\n",
      "cur_iter  8\n",
      "cur_iter  9\n",
      "target_item:  1445\n",
      "24.715684403427986\n",
      "cur_iter  0\n"
     ]
    },
    {
     "name": "stderr",
     "output_type": "stream",
     "text": [
      "D:\\Anaconda\\envs\\tensorflow_cpu\\lib\\site-packages\\scipy\\sparse\\_index.py:126: SparseEfficiencyWarning: Changing the sparsity structure of a csr_matrix is expensive. lil_matrix is more efficient.\n",
      "  self._set_arrayXarray(i, j, x)\n"
     ]
    },
    {
     "name": "stdout",
     "output_type": "stream",
     "text": [
      "cur_iter  1\n",
      "cur_iter  2\n",
      "cur_iter  3\n",
      "cur_iter  4\n",
      "cur_iter  5\n",
      "cur_iter  6\n",
      "cur_iter  7\n",
      "cur_iter  8\n",
      "cur_iter  9\n",
      "target_item:  1782\n",
      "47.28297025475604\n",
      "cur_iter  0\n"
     ]
    },
    {
     "name": "stderr",
     "output_type": "stream",
     "text": [
      "D:\\Anaconda\\envs\\tensorflow_cpu\\lib\\site-packages\\scipy\\sparse\\_index.py:126: SparseEfficiencyWarning: Changing the sparsity structure of a csr_matrix is expensive. lil_matrix is more efficient.\n",
      "  self._set_arrayXarray(i, j, x)\n"
     ]
    },
    {
     "name": "stdout",
     "output_type": "stream",
     "text": [
      "cur_iter  1\n",
      "cur_iter  2\n",
      "cur_iter  3\n",
      "cur_iter  4\n",
      "cur_iter  5\n",
      "cur_iter  6\n",
      "cur_iter  7\n",
      "cur_iter  8\n",
      "cur_iter  9\n",
      "target_item:  1784\n",
      "37.3809689511063\n",
      "cur_iter  0\n"
     ]
    },
    {
     "name": "stderr",
     "output_type": "stream",
     "text": [
      "D:\\Anaconda\\envs\\tensorflow_cpu\\lib\\site-packages\\scipy\\sparse\\_index.py:126: SparseEfficiencyWarning: Changing the sparsity structure of a csr_matrix is expensive. lil_matrix is more efficient.\n",
      "  self._set_arrayXarray(i, j, x)\n"
     ]
    },
    {
     "name": "stdout",
     "output_type": "stream",
     "text": [
      "cur_iter  1\n",
      "cur_iter  2\n",
      "cur_iter  3\n",
      "cur_iter  4\n",
      "cur_iter  5\n",
      "cur_iter  6\n",
      "cur_iter  7\n",
      "cur_iter  8\n",
      "cur_iter  9\n",
      "target_item:  1864\n",
      "99.28751508786354\n",
      "cur_iter  0\n"
     ]
    },
    {
     "name": "stderr",
     "output_type": "stream",
     "text": [
      "D:\\Anaconda\\envs\\tensorflow_cpu\\lib\\site-packages\\scipy\\sparse\\_index.py:126: SparseEfficiencyWarning: Changing the sparsity structure of a csr_matrix is expensive. lil_matrix is more efficient.\n",
      "  self._set_arrayXarray(i, j, x)\n"
     ]
    },
    {
     "name": "stdout",
     "output_type": "stream",
     "text": [
      "cur_iter  1\n",
      "cur_iter  2\n",
      "cur_iter  3\n",
      "cur_iter  4\n",
      "cur_iter  5\n",
      "cur_iter  6\n",
      "cur_iter  7\n",
      "cur_iter  8\n",
      "cur_iter  9\n",
      "target_item:  1978\n",
      "146.4652453791723\n",
      "cur_iter  0\n"
     ]
    },
    {
     "name": "stderr",
     "output_type": "stream",
     "text": [
      "D:\\Anaconda\\envs\\tensorflow_cpu\\lib\\site-packages\\scipy\\sparse\\_index.py:126: SparseEfficiencyWarning: Changing the sparsity structure of a csr_matrix is expensive. lil_matrix is more efficient.\n",
      "  self._set_arrayXarray(i, j, x)\n"
     ]
    },
    {
     "name": "stdout",
     "output_type": "stream",
     "text": [
      "cur_iter  1\n",
      "cur_iter  2\n",
      "cur_iter  3\n",
      "cur_iter  4\n",
      "cur_iter  5\n",
      "cur_iter  6\n",
      "cur_iter  7\n",
      "no more keyphrase available\n",
      "User ID  318\n",
      "wanted_items length:  5\n",
      "Initial top recommendation index 4762\n",
      "target_item:  1528\n",
      "9.017085440927985\n",
      "cur_iter  0\n"
     ]
    },
    {
     "name": "stderr",
     "output_type": "stream",
     "text": [
      "D:\\Anaconda\\envs\\tensorflow_cpu\\lib\\site-packages\\scipy\\sparse\\_index.py:126: SparseEfficiencyWarning: Changing the sparsity structure of a csr_matrix is expensive. lil_matrix is more efficient.\n",
      "  self._set_arrayXarray(i, j, x)\n"
     ]
    },
    {
     "name": "stdout",
     "output_type": "stream",
     "text": [
      "cur_iter  1\n",
      "cur_iter  2\n",
      "cur_iter  3\n",
      "cur_iter  4\n",
      "cur_iter  5\n",
      "cur_iter  6\n",
      "cur_iter  7\n",
      "cur_iter  8\n",
      "cur_iter  9\n",
      "target_item:  4115\n",
      "61.59169163073011\n",
      "cur_iter  0\n"
     ]
    },
    {
     "name": "stderr",
     "output_type": "stream",
     "text": [
      "D:\\Anaconda\\envs\\tensorflow_cpu\\lib\\site-packages\\scipy\\sparse\\_index.py:126: SparseEfficiencyWarning: Changing the sparsity structure of a csr_matrix is expensive. lil_matrix is more efficient.\n",
      "  self._set_arrayXarray(i, j, x)\n"
     ]
    },
    {
     "name": "stdout",
     "output_type": "stream",
     "text": [
      "cur_iter  1\n",
      "no more keyphrase available\n",
      "target_item:  5493\n",
      "51.97182234020465\n",
      "cur_iter  0\n"
     ]
    },
    {
     "name": "stderr",
     "output_type": "stream",
     "text": [
      "D:\\Anaconda\\envs\\tensorflow_cpu\\lib\\site-packages\\scipy\\sparse\\_index.py:126: SparseEfficiencyWarning: Changing the sparsity structure of a csr_matrix is expensive. lil_matrix is more efficient.\n",
      "  self._set_arrayXarray(i, j, x)\n"
     ]
    },
    {
     "name": "stdout",
     "output_type": "stream",
     "text": [
      "cur_iter  1\n",
      "cur_iter  2\n",
      "cur_iter  3\n",
      "no more keyphrase available\n",
      "target_item:  6268\n",
      "6.633201158262182\n",
      "cur_iter  0\n"
     ]
    },
    {
     "name": "stderr",
     "output_type": "stream",
     "text": [
      "D:\\Anaconda\\envs\\tensorflow_cpu\\lib\\site-packages\\scipy\\sparse\\_index.py:126: SparseEfficiencyWarning: Changing the sparsity structure of a csr_matrix is expensive. lil_matrix is more efficient.\n",
      "  self._set_arrayXarray(i, j, x)\n"
     ]
    },
    {
     "name": "stdout",
     "output_type": "stream",
     "text": [
      "cur_iter  1\n",
      "cur_iter  2\n",
      "cur_iter  3\n",
      "cur_iter  4\n",
      "cur_iter  5\n",
      "cur_iter  6\n",
      "cur_iter  7\n",
      "cur_iter  8\n",
      "cur_iter  9\n",
      "target_item:  6617\n"
     ]
    },
    {
     "name": "stderr",
     "output_type": "stream",
     "text": [
      "D:\\Anaconda\\lib\\site-packages\\ipykernel_launcher.py:33: RuntimeWarning: invalid value encountered in true_divide\n"
     ]
    },
    {
     "name": "stdout",
     "output_type": "stream",
     "text": [
      "68.40659091088446\n",
      "cur_iter  0\n",
      "no more keyphrase available\n",
      "User ID  319\n",
      "wanted_items length:  7\n",
      "Initial top recommendation index 5286\n",
      "target_item:  39\n",
      "8.549212264357266\n",
      "cur_iter  0\n"
     ]
    },
    {
     "name": "stderr",
     "output_type": "stream",
     "text": [
      "D:\\Anaconda\\envs\\tensorflow_cpu\\lib\\site-packages\\scipy\\sparse\\_index.py:126: SparseEfficiencyWarning: Changing the sparsity structure of a csr_matrix is expensive. lil_matrix is more efficient.\n",
      "  self._set_arrayXarray(i, j, x)\n"
     ]
    },
    {
     "name": "stdout",
     "output_type": "stream",
     "text": [
      "cur_iter  1\n",
      "cur_iter  2\n",
      "cur_iter  3\n",
      "cur_iter  4\n",
      "cur_iter  5\n",
      "cur_iter  6\n",
      "cur_iter  7\n",
      "cur_iter  8\n",
      "cur_iter  9\n",
      "target_item:  2401\n",
      "41.98999464612734\n",
      "cur_iter  0\n"
     ]
    },
    {
     "name": "stderr",
     "output_type": "stream",
     "text": [
      "D:\\Anaconda\\envs\\tensorflow_cpu\\lib\\site-packages\\scipy\\sparse\\_index.py:126: SparseEfficiencyWarning: Changing the sparsity structure of a csr_matrix is expensive. lil_matrix is more efficient.\n",
      "  self._set_arrayXarray(i, j, x)\n"
     ]
    },
    {
     "name": "stdout",
     "output_type": "stream",
     "text": [
      "cur_iter  1\n",
      "cur_iter  2\n",
      "cur_iter  3\n",
      "no more keyphrase available\n",
      "target_item:  2641\n",
      "24.594848950070627\n",
      "cur_iter  0\n"
     ]
    },
    {
     "name": "stderr",
     "output_type": "stream",
     "text": [
      "D:\\Anaconda\\envs\\tensorflow_cpu\\lib\\site-packages\\scipy\\sparse\\_index.py:126: SparseEfficiencyWarning: Changing the sparsity structure of a csr_matrix is expensive. lil_matrix is more efficient.\n",
      "  self._set_arrayXarray(i, j, x)\n"
     ]
    },
    {
     "name": "stdout",
     "output_type": "stream",
     "text": [
      "cur_iter  1\n",
      "cur_iter  2\n",
      "cur_iter  3\n",
      "no more keyphrase available\n",
      "target_item:  3182\n",
      "11.782398340163127\n",
      "cur_iter  0\n"
     ]
    },
    {
     "name": "stderr",
     "output_type": "stream",
     "text": [
      "D:\\Anaconda\\envs\\tensorflow_cpu\\lib\\site-packages\\scipy\\sparse\\_index.py:126: SparseEfficiencyWarning: Changing the sparsity structure of a csr_matrix is expensive. lil_matrix is more efficient.\n",
      "  self._set_arrayXarray(i, j, x)\n"
     ]
    },
    {
     "name": "stdout",
     "output_type": "stream",
     "text": [
      "cur_iter  1\n",
      "cur_iter  2\n",
      "cur_iter  3\n",
      "cur_iter  4\n",
      "cur_iter  5\n",
      "cur_iter  6\n",
      "cur_iter  7\n",
      "cur_iter  8\n",
      "cur_iter  9\n",
      "target_item:  3895\n",
      "22.342214749371124\n",
      "cur_iter  0\n"
     ]
    },
    {
     "name": "stderr",
     "output_type": "stream",
     "text": [
      "D:\\Anaconda\\envs\\tensorflow_cpu\\lib\\site-packages\\scipy\\sparse\\_index.py:126: SparseEfficiencyWarning: Changing the sparsity structure of a csr_matrix is expensive. lil_matrix is more efficient.\n",
      "  self._set_arrayXarray(i, j, x)\n"
     ]
    },
    {
     "name": "stdout",
     "output_type": "stream",
     "text": [
      "cur_iter  1\n",
      "cur_iter  2\n",
      "cur_iter  3\n",
      "cur_iter  4\n",
      "cur_iter  5\n",
      "cur_iter  6\n",
      "no more keyphrase available\n",
      "target_item:  6320\n",
      "58.29076277162403\n",
      "cur_iter  0\n"
     ]
    },
    {
     "name": "stderr",
     "output_type": "stream",
     "text": [
      "D:\\Anaconda\\envs\\tensorflow_cpu\\lib\\site-packages\\scipy\\sparse\\_index.py:126: SparseEfficiencyWarning: Changing the sparsity structure of a csr_matrix is expensive. lil_matrix is more efficient.\n",
      "  self._set_arrayXarray(i, j, x)\n"
     ]
    },
    {
     "name": "stdout",
     "output_type": "stream",
     "text": [
      "cur_iter  1\n",
      "no more keyphrase available\n",
      "target_item:  6454\n",
      "5.2923106212792845\n",
      "cur_iter  0\n"
     ]
    },
    {
     "name": "stderr",
     "output_type": "stream",
     "text": [
      "D:\\Anaconda\\envs\\tensorflow_cpu\\lib\\site-packages\\scipy\\sparse\\_index.py:126: SparseEfficiencyWarning: Changing the sparsity structure of a csr_matrix is expensive. lil_matrix is more efficient.\n",
      "  self._set_arrayXarray(i, j, x)\n"
     ]
    },
    {
     "name": "stdout",
     "output_type": "stream",
     "text": [
      "cur_iter  1\n",
      "cur_iter  2\n",
      "cur_iter  3\n",
      "cur_iter  4\n",
      "cur_iter  5\n",
      "cur_iter  6\n",
      "cur_iter  7\n",
      "cur_iter  8\n",
      "cur_iter  9\n",
      "User ID  320\n",
      "wanted_items length:  7\n",
      "Initial top recommendation index 5081\n",
      "target_item:  68\n",
      "3.5275838226034466\n",
      "cur_iter  0\n"
     ]
    },
    {
     "name": "stderr",
     "output_type": "stream",
     "text": [
      "D:\\Anaconda\\envs\\tensorflow_cpu\\lib\\site-packages\\scipy\\sparse\\_index.py:126: SparseEfficiencyWarning: Changing the sparsity structure of a csr_matrix is expensive. lil_matrix is more efficient.\n",
      "  self._set_arrayXarray(i, j, x)\n"
     ]
    },
    {
     "name": "stdout",
     "output_type": "stream",
     "text": [
      "cur_iter  1\n",
      "cur_iter  2\n",
      "cur_iter  3\n",
      "cur_iter  4\n",
      "cur_iter  5\n",
      "cur_iter  6\n",
      "cur_iter  7\n",
      "cur_iter  8\n",
      "cur_iter  9\n",
      "target_item:  1288\n",
      "2.7659297262416658\n",
      "cur_iter  0\n"
     ]
    },
    {
     "name": "stderr",
     "output_type": "stream",
     "text": [
      "D:\\Anaconda\\envs\\tensorflow_cpu\\lib\\site-packages\\scipy\\sparse\\_index.py:126: SparseEfficiencyWarning: Changing the sparsity structure of a csr_matrix is expensive. lil_matrix is more efficient.\n",
      "  self._set_arrayXarray(i, j, x)\n"
     ]
    },
    {
     "name": "stdout",
     "output_type": "stream",
     "text": [
      "cur_iter  1\n",
      "cur_iter  2\n",
      "cur_iter  3\n",
      "cur_iter  4\n",
      "cur_iter  5\n",
      "cur_iter  6\n",
      "cur_iter  7\n",
      "cur_iter  8\n",
      "cur_iter  9\n",
      "target_item:  3083\n",
      "2.4688391124527698\n",
      "cur_iter  0\n"
     ]
    },
    {
     "name": "stderr",
     "output_type": "stream",
     "text": [
      "D:\\Anaconda\\envs\\tensorflow_cpu\\lib\\site-packages\\scipy\\sparse\\_index.py:126: SparseEfficiencyWarning: Changing the sparsity structure of a csr_matrix is expensive. lil_matrix is more efficient.\n",
      "  self._set_arrayXarray(i, j, x)\n"
     ]
    },
    {
     "name": "stdout",
     "output_type": "stream",
     "text": [
      "cur_iter  1\n",
      "cur_iter  2\n",
      "cur_iter  3\n",
      "cur_iter  4\n",
      "cur_iter  5\n",
      "cur_iter  6\n",
      "cur_iter  7\n",
      "cur_iter  8\n",
      "cur_iter  9\n",
      "target_item:  3333\n",
      "3.0817781553141685\n",
      "cur_iter  0\n"
     ]
    },
    {
     "name": "stderr",
     "output_type": "stream",
     "text": [
      "D:\\Anaconda\\envs\\tensorflow_cpu\\lib\\site-packages\\scipy\\sparse\\_index.py:126: SparseEfficiencyWarning: Changing the sparsity structure of a csr_matrix is expensive. lil_matrix is more efficient.\n",
      "  self._set_arrayXarray(i, j, x)\n"
     ]
    },
    {
     "name": "stdout",
     "output_type": "stream",
     "text": [
      "cur_iter  1\n",
      "cur_iter  2\n",
      "cur_iter  3\n",
      "cur_iter  4\n",
      "cur_iter  5\n",
      "cur_iter  6\n",
      "cur_iter  7\n",
      "cur_iter  8\n",
      "cur_iter  9\n",
      "target_item:  4072\n",
      "3.374489015868676\n",
      "cur_iter  0\n"
     ]
    },
    {
     "name": "stderr",
     "output_type": "stream",
     "text": [
      "D:\\Anaconda\\envs\\tensorflow_cpu\\lib\\site-packages\\scipy\\sparse\\_index.py:126: SparseEfficiencyWarning: Changing the sparsity structure of a csr_matrix is expensive. lil_matrix is more efficient.\n",
      "  self._set_arrayXarray(i, j, x)\n"
     ]
    },
    {
     "name": "stdout",
     "output_type": "stream",
     "text": [
      "cur_iter  1\n",
      "cur_iter  2\n",
      "cur_iter  3\n",
      "cur_iter  4\n",
      "cur_iter  5\n",
      "cur_iter  6\n",
      "cur_iter  7\n",
      "cur_iter  8\n",
      "cur_iter  9\n",
      "target_item:  4495\n",
      "2.2791840517547826\n",
      "cur_iter  0\n"
     ]
    },
    {
     "name": "stderr",
     "output_type": "stream",
     "text": [
      "D:\\Anaconda\\envs\\tensorflow_cpu\\lib\\site-packages\\scipy\\sparse\\_index.py:126: SparseEfficiencyWarning: Changing the sparsity structure of a csr_matrix is expensive. lil_matrix is more efficient.\n",
      "  self._set_arrayXarray(i, j, x)\n"
     ]
    },
    {
     "name": "stdout",
     "output_type": "stream",
     "text": [
      "cur_iter  1\n",
      "cur_iter  2\n",
      "cur_iter  3\n",
      "cur_iter  4\n",
      "cur_iter  5\n",
      "cur_iter  6\n",
      "cur_iter  7\n",
      "cur_iter  8\n",
      "cur_iter  9\n",
      "target_item:  5577\n",
      "2.3376743406297464\n",
      "cur_iter  0\n"
     ]
    },
    {
     "name": "stderr",
     "output_type": "stream",
     "text": [
      "D:\\Anaconda\\envs\\tensorflow_cpu\\lib\\site-packages\\scipy\\sparse\\_index.py:126: SparseEfficiencyWarning: Changing the sparsity structure of a csr_matrix is expensive. lil_matrix is more efficient.\n",
      "  self._set_arrayXarray(i, j, x)\n"
     ]
    },
    {
     "name": "stdout",
     "output_type": "stream",
     "text": [
      "cur_iter  1\n",
      "cur_iter  2\n",
      "cur_iter  3\n",
      "cur_iter  4\n",
      "cur_iter  5\n",
      "cur_iter  6\n",
      "cur_iter  7\n",
      "cur_iter  8\n",
      "cur_iter  9\n",
      "User ID  321\n",
      "wanted_items length:  24\n",
      "Initial top recommendation index 6454\n",
      "target_item:  174\n",
      "33.4622726039961\n",
      "cur_iter  0\n"
     ]
    },
    {
     "name": "stderr",
     "output_type": "stream",
     "text": [
      "D:\\Anaconda\\envs\\tensorflow_cpu\\lib\\site-packages\\scipy\\sparse\\_index.py:126: SparseEfficiencyWarning: Changing the sparsity structure of a csr_matrix is expensive. lil_matrix is more efficient.\n",
      "  self._set_arrayXarray(i, j, x)\n"
     ]
    },
    {
     "name": "stdout",
     "output_type": "stream",
     "text": [
      "cur_iter  1\n",
      "cur_iter  2\n",
      "cur_iter  3\n",
      "cur_iter  4\n",
      "cur_iter  5\n",
      "cur_iter  6\n",
      "cur_iter  7\n",
      "cur_iter  8\n",
      "cur_iter  9\n",
      "target_item:  201\n",
      "17.10717293494963\n",
      "cur_iter  0\n"
     ]
    },
    {
     "name": "stderr",
     "output_type": "stream",
     "text": [
      "D:\\Anaconda\\envs\\tensorflow_cpu\\lib\\site-packages\\scipy\\sparse\\_index.py:126: SparseEfficiencyWarning: Changing the sparsity structure of a csr_matrix is expensive. lil_matrix is more efficient.\n",
      "  self._set_arrayXarray(i, j, x)\n"
     ]
    },
    {
     "name": "stdout",
     "output_type": "stream",
     "text": [
      "cur_iter  1\n",
      "cur_iter  2\n",
      "cur_iter  3\n",
      "cur_iter  4\n",
      "cur_iter  5\n",
      "cur_iter  6\n",
      "cur_iter  7\n",
      "cur_iter  8\n",
      "cur_iter  9\n",
      "target_item:  910\n",
      "48.31708066189458\n",
      "cur_iter  0\n"
     ]
    },
    {
     "name": "stderr",
     "output_type": "stream",
     "text": [
      "D:\\Anaconda\\envs\\tensorflow_cpu\\lib\\site-packages\\scipy\\sparse\\_index.py:126: SparseEfficiencyWarning: Changing the sparsity structure of a csr_matrix is expensive. lil_matrix is more efficient.\n",
      "  self._set_arrayXarray(i, j, x)\n"
     ]
    },
    {
     "name": "stdout",
     "output_type": "stream",
     "text": [
      "cur_iter  1\n",
      "cur_iter  2\n",
      "cur_iter  3\n",
      "cur_iter  4\n",
      "cur_iter  5\n",
      "cur_iter  6\n",
      "cur_iter  7\n",
      "cur_iter  8\n",
      "no more keyphrase available\n",
      "target_item:  1361\n",
      "22.54133091896074\n",
      "cur_iter  0\n"
     ]
    },
    {
     "name": "stderr",
     "output_type": "stream",
     "text": [
      "D:\\Anaconda\\envs\\tensorflow_cpu\\lib\\site-packages\\scipy\\sparse\\_index.py:126: SparseEfficiencyWarning: Changing the sparsity structure of a csr_matrix is expensive. lil_matrix is more efficient.\n",
      "  self._set_arrayXarray(i, j, x)\n"
     ]
    },
    {
     "name": "stdout",
     "output_type": "stream",
     "text": [
      "cur_iter  1\n",
      "cur_iter  2\n",
      "cur_iter  3\n",
      "cur_iter  4\n",
      "cur_iter  5\n",
      "cur_iter  6\n",
      "cur_iter  7\n",
      "cur_iter  8\n",
      "cur_iter  9\n",
      "target_item:  1378\n",
      "19.210014884651173\n",
      "cur_iter  0\n"
     ]
    },
    {
     "name": "stderr",
     "output_type": "stream",
     "text": [
      "D:\\Anaconda\\envs\\tensorflow_cpu\\lib\\site-packages\\scipy\\sparse\\_index.py:126: SparseEfficiencyWarning: Changing the sparsity structure of a csr_matrix is expensive. lil_matrix is more efficient.\n",
      "  self._set_arrayXarray(i, j, x)\n"
     ]
    },
    {
     "name": "stdout",
     "output_type": "stream",
     "text": [
      "cur_iter  1\n",
      "cur_iter  2\n",
      "cur_iter  3\n",
      "cur_iter  4\n",
      "cur_iter  5\n",
      "cur_iter  6\n",
      "cur_iter  7\n",
      "cur_iter  8\n",
      "cur_iter  9\n",
      "target_item:  1488\n",
      "31.435894141803146\n",
      "cur_iter  0\n"
     ]
    },
    {
     "name": "stderr",
     "output_type": "stream",
     "text": [
      "D:\\Anaconda\\envs\\tensorflow_cpu\\lib\\site-packages\\scipy\\sparse\\_index.py:126: SparseEfficiencyWarning: Changing the sparsity structure of a csr_matrix is expensive. lil_matrix is more efficient.\n",
      "  self._set_arrayXarray(i, j, x)\n"
     ]
    },
    {
     "name": "stdout",
     "output_type": "stream",
     "text": [
      "cur_iter  1\n",
      "cur_iter  2\n",
      "cur_iter  3\n",
      "cur_iter  4\n",
      "cur_iter  5\n",
      "cur_iter  6\n",
      "cur_iter  7\n",
      "cur_iter  8\n",
      "cur_iter  9\n",
      "target_item:  1652\n",
      "26.12626371208171\n",
      "cur_iter  0\n"
     ]
    },
    {
     "name": "stderr",
     "output_type": "stream",
     "text": [
      "D:\\Anaconda\\envs\\tensorflow_cpu\\lib\\site-packages\\scipy\\sparse\\_index.py:126: SparseEfficiencyWarning: Changing the sparsity structure of a csr_matrix is expensive. lil_matrix is more efficient.\n",
      "  self._set_arrayXarray(i, j, x)\n"
     ]
    },
    {
     "name": "stdout",
     "output_type": "stream",
     "text": [
      "cur_iter  1\n",
      "cur_iter  2\n",
      "cur_iter  3\n",
      "cur_iter  4\n",
      "cur_iter  5\n",
      "cur_iter  6\n",
      "cur_iter  7\n",
      "cur_iter  8\n",
      "cur_iter  9\n",
      "target_item:  1807\n",
      "47.41046888483106\n",
      "cur_iter  0\n"
     ]
    },
    {
     "name": "stderr",
     "output_type": "stream",
     "text": [
      "D:\\Anaconda\\envs\\tensorflow_cpu\\lib\\site-packages\\scipy\\sparse\\_index.py:126: SparseEfficiencyWarning: Changing the sparsity structure of a csr_matrix is expensive. lil_matrix is more efficient.\n",
      "  self._set_arrayXarray(i, j, x)\n"
     ]
    },
    {
     "name": "stdout",
     "output_type": "stream",
     "text": [
      "cur_iter  1\n",
      "cur_iter  2\n",
      "cur_iter  3\n",
      "cur_iter  4\n",
      "cur_iter  5\n",
      "cur_iter  6\n",
      "cur_iter  7\n",
      "cur_iter  8\n",
      "cur_iter  9\n",
      "target_item:  2243\n",
      "32.169868973585835\n",
      "cur_iter  0\n"
     ]
    },
    {
     "name": "stderr",
     "output_type": "stream",
     "text": [
      "D:\\Anaconda\\envs\\tensorflow_cpu\\lib\\site-packages\\scipy\\sparse\\_index.py:126: SparseEfficiencyWarning: Changing the sparsity structure of a csr_matrix is expensive. lil_matrix is more efficient.\n",
      "  self._set_arrayXarray(i, j, x)\n"
     ]
    },
    {
     "name": "stdout",
     "output_type": "stream",
     "text": [
      "cur_iter  1\n",
      "cur_iter  2\n",
      "cur_iter  3\n",
      "cur_iter  4\n",
      "cur_iter  5\n",
      "cur_iter  6\n",
      "cur_iter  7\n",
      "cur_iter  8\n",
      "cur_iter  9\n",
      "target_item:  2537\n",
      "42.4132701837043\n",
      "cur_iter  0\n"
     ]
    },
    {
     "name": "stderr",
     "output_type": "stream",
     "text": [
      "D:\\Anaconda\\envs\\tensorflow_cpu\\lib\\site-packages\\scipy\\sparse\\_index.py:126: SparseEfficiencyWarning: Changing the sparsity structure of a csr_matrix is expensive. lil_matrix is more efficient.\n",
      "  self._set_arrayXarray(i, j, x)\n"
     ]
    },
    {
     "name": "stdout",
     "output_type": "stream",
     "text": [
      "cur_iter  1\n",
      "cur_iter  2\n",
      "cur_iter  3\n",
      "cur_iter  4\n",
      "cur_iter  5\n",
      "cur_iter  6\n",
      "cur_iter  7\n",
      "cur_iter  8\n",
      "cur_iter  9\n",
      "target_item:  3333\n",
      "20.695202854272793\n",
      "cur_iter  0\n"
     ]
    },
    {
     "name": "stderr",
     "output_type": "stream",
     "text": [
      "D:\\Anaconda\\envs\\tensorflow_cpu\\lib\\site-packages\\scipy\\sparse\\_index.py:126: SparseEfficiencyWarning: Changing the sparsity structure of a csr_matrix is expensive. lil_matrix is more efficient.\n",
      "  self._set_arrayXarray(i, j, x)\n"
     ]
    },
    {
     "name": "stdout",
     "output_type": "stream",
     "text": [
      "cur_iter  1\n",
      "cur_iter  2\n",
      "cur_iter  3\n",
      "cur_iter  4\n",
      "cur_iter  5\n",
      "cur_iter  6\n",
      "cur_iter  7\n",
      "cur_iter  8\n",
      "cur_iter  9\n",
      "User ID  322\n",
      "wanted_items length:  18\n",
      "Initial top recommendation index 43\n",
      "target_item:  1250\n",
      "45.00917631345328\n",
      "cur_iter  0\n"
     ]
    },
    {
     "name": "stderr",
     "output_type": "stream",
     "text": [
      "D:\\Anaconda\\envs\\tensorflow_cpu\\lib\\site-packages\\scipy\\sparse\\_index.py:126: SparseEfficiencyWarning: Changing the sparsity structure of a csr_matrix is expensive. lil_matrix is more efficient.\n",
      "  self._set_arrayXarray(i, j, x)\n"
     ]
    },
    {
     "name": "stdout",
     "output_type": "stream",
     "text": [
      "cur_iter  1\n",
      "cur_iter  2\n",
      "cur_iter  3\n",
      "cur_iter  4\n",
      "cur_iter  5\n",
      "cur_iter  6\n",
      "cur_iter  7\n",
      "cur_iter  8\n",
      "no more keyphrase available\n",
      "target_item:  2147\n",
      "57.73829915045826\n",
      "cur_iter  0\n"
     ]
    },
    {
     "name": "stderr",
     "output_type": "stream",
     "text": [
      "D:\\Anaconda\\envs\\tensorflow_cpu\\lib\\site-packages\\scipy\\sparse\\_index.py:126: SparseEfficiencyWarning: Changing the sparsity structure of a csr_matrix is expensive. lil_matrix is more efficient.\n",
      "  self._set_arrayXarray(i, j, x)\n"
     ]
    },
    {
     "name": "stdout",
     "output_type": "stream",
     "text": [
      "cur_iter  1\n",
      "cur_iter  2\n",
      "cur_iter  3\n",
      "cur_iter  4\n",
      "cur_iter  5\n",
      "cur_iter  6\n",
      "cur_iter  7\n",
      "no more keyphrase available\n",
      "target_item:  2446\n",
      "14.07008168183711\n",
      "cur_iter  0\n"
     ]
    },
    {
     "name": "stderr",
     "output_type": "stream",
     "text": [
      "D:\\Anaconda\\envs\\tensorflow_cpu\\lib\\site-packages\\scipy\\sparse\\_index.py:126: SparseEfficiencyWarning: Changing the sparsity structure of a csr_matrix is expensive. lil_matrix is more efficient.\n",
      "  self._set_arrayXarray(i, j, x)\n"
     ]
    },
    {
     "name": "stdout",
     "output_type": "stream",
     "text": [
      "cur_iter  1\n",
      "cur_iter  2\n",
      "cur_iter  3\n",
      "cur_iter  4\n",
      "cur_iter  5\n",
      "cur_iter  6\n",
      "cur_iter  7\n",
      "cur_iter  8\n",
      "cur_iter  9\n",
      "target_item:  2449\n",
      "22.070690071917852\n",
      "cur_iter  0\n"
     ]
    },
    {
     "name": "stderr",
     "output_type": "stream",
     "text": [
      "D:\\Anaconda\\envs\\tensorflow_cpu\\lib\\site-packages\\scipy\\sparse\\_index.py:126: SparseEfficiencyWarning: Changing the sparsity structure of a csr_matrix is expensive. lil_matrix is more efficient.\n",
      "  self._set_arrayXarray(i, j, x)\n"
     ]
    },
    {
     "name": "stdout",
     "output_type": "stream",
     "text": [
      "cur_iter  1\n",
      "cur_iter  2\n",
      "cur_iter  3\n",
      "cur_iter  4\n",
      "cur_iter  5\n",
      "cur_iter  6\n",
      "cur_iter  7\n",
      "cur_iter  8\n",
      "cur_iter  9\n",
      "target_item:  2942\n",
      "20.174814130246887\n",
      "cur_iter  0\n"
     ]
    },
    {
     "name": "stderr",
     "output_type": "stream",
     "text": [
      "D:\\Anaconda\\envs\\tensorflow_cpu\\lib\\site-packages\\scipy\\sparse\\_index.py:126: SparseEfficiencyWarning: Changing the sparsity structure of a csr_matrix is expensive. lil_matrix is more efficient.\n",
      "  self._set_arrayXarray(i, j, x)\n"
     ]
    },
    {
     "name": "stdout",
     "output_type": "stream",
     "text": [
      "cur_iter  1\n",
      "cur_iter  2\n",
      "cur_iter  3\n",
      "cur_iter  4\n",
      "cur_iter  5\n",
      "cur_iter  6\n",
      "cur_iter  7\n",
      "cur_iter  8\n",
      "cur_iter  9\n",
      "target_item:  3301\n",
      "51.93874159439474\n",
      "cur_iter  0\n"
     ]
    },
    {
     "name": "stderr",
     "output_type": "stream",
     "text": [
      "D:\\Anaconda\\envs\\tensorflow_cpu\\lib\\site-packages\\scipy\\sparse\\_index.py:126: SparseEfficiencyWarning: Changing the sparsity structure of a csr_matrix is expensive. lil_matrix is more efficient.\n",
      "  self._set_arrayXarray(i, j, x)\n"
     ]
    },
    {
     "name": "stdout",
     "output_type": "stream",
     "text": [
      "cur_iter  1\n",
      "cur_iter  2\n",
      "cur_iter  3\n",
      "cur_iter  4\n",
      "cur_iter  5\n",
      "no more keyphrase available\n",
      "target_item:  3333\n",
      "16.068718160744538\n",
      "cur_iter  0\n"
     ]
    },
    {
     "name": "stderr",
     "output_type": "stream",
     "text": [
      "D:\\Anaconda\\envs\\tensorflow_cpu\\lib\\site-packages\\scipy\\sparse\\_index.py:126: SparseEfficiencyWarning: Changing the sparsity structure of a csr_matrix is expensive. lil_matrix is more efficient.\n",
      "  self._set_arrayXarray(i, j, x)\n"
     ]
    },
    {
     "name": "stdout",
     "output_type": "stream",
     "text": [
      "cur_iter  1\n",
      "cur_iter  2\n",
      "cur_iter  3\n",
      "cur_iter  4\n",
      "cur_iter  5\n",
      "cur_iter  6\n",
      "cur_iter  7\n",
      "cur_iter  8\n",
      "cur_iter  9\n",
      "target_item:  3377\n",
      "26.850064493048194\n",
      "cur_iter  0\n"
     ]
    },
    {
     "name": "stderr",
     "output_type": "stream",
     "text": [
      "D:\\Anaconda\\envs\\tensorflow_cpu\\lib\\site-packages\\scipy\\sparse\\_index.py:126: SparseEfficiencyWarning: Changing the sparsity structure of a csr_matrix is expensive. lil_matrix is more efficient.\n",
      "  self._set_arrayXarray(i, j, x)\n"
     ]
    },
    {
     "name": "stdout",
     "output_type": "stream",
     "text": [
      "cur_iter  1\n",
      "cur_iter  2\n",
      "cur_iter  3\n",
      "cur_iter  4\n",
      "cur_iter  5\n",
      "cur_iter  6\n",
      "cur_iter  7\n",
      "cur_iter  8\n",
      "cur_iter  9\n",
      "target_item:  3558\n",
      "77.83762546935941\n",
      "cur_iter  0\n"
     ]
    },
    {
     "name": "stderr",
     "output_type": "stream",
     "text": [
      "D:\\Anaconda\\envs\\tensorflow_cpu\\lib\\site-packages\\scipy\\sparse\\_index.py:126: SparseEfficiencyWarning: Changing the sparsity structure of a csr_matrix is expensive. lil_matrix is more efficient.\n",
      "  self._set_arrayXarray(i, j, x)\n"
     ]
    },
    {
     "name": "stdout",
     "output_type": "stream",
     "text": [
      "cur_iter  1\n",
      "no more keyphrase available\n",
      "target_item:  4495\n",
      "16.37379479275296\n",
      "cur_iter  0\n"
     ]
    },
    {
     "name": "stderr",
     "output_type": "stream",
     "text": [
      "D:\\Anaconda\\envs\\tensorflow_cpu\\lib\\site-packages\\scipy\\sparse\\_index.py:126: SparseEfficiencyWarning: Changing the sparsity structure of a csr_matrix is expensive. lil_matrix is more efficient.\n",
      "  self._set_arrayXarray(i, j, x)\n"
     ]
    },
    {
     "name": "stdout",
     "output_type": "stream",
     "text": [
      "cur_iter  1\n",
      "cur_iter  2\n",
      "cur_iter  3\n",
      "cur_iter  4\n",
      "cur_iter  5\n",
      "cur_iter  6\n",
      "cur_iter  7\n",
      "cur_iter  8\n",
      "cur_iter  9\n",
      "target_item:  5081\n",
      "22.415069339929687\n",
      "cur_iter  0\n"
     ]
    },
    {
     "name": "stderr",
     "output_type": "stream",
     "text": [
      "D:\\Anaconda\\envs\\tensorflow_cpu\\lib\\site-packages\\scipy\\sparse\\_index.py:126: SparseEfficiencyWarning: Changing the sparsity structure of a csr_matrix is expensive. lil_matrix is more efficient.\n",
      "  self._set_arrayXarray(i, j, x)\n"
     ]
    },
    {
     "name": "stdout",
     "output_type": "stream",
     "text": [
      "cur_iter  1\n",
      "cur_iter  2\n",
      "cur_iter  3\n",
      "cur_iter  4\n",
      "cur_iter  5\n",
      "cur_iter  6\n",
      "cur_iter  7\n",
      "cur_iter  8\n",
      "cur_iter  9\n",
      "User ID  323\n",
      "wanted_items length:  7\n",
      "Initial top recommendation index 3997\n",
      "target_item:  161\n",
      "3.3512202443916976\n",
      "cur_iter  0\n"
     ]
    },
    {
     "name": "stderr",
     "output_type": "stream",
     "text": [
      "D:\\Anaconda\\envs\\tensorflow_cpu\\lib\\site-packages\\scipy\\sparse\\_index.py:126: SparseEfficiencyWarning: Changing the sparsity structure of a csr_matrix is expensive. lil_matrix is more efficient.\n",
      "  self._set_arrayXarray(i, j, x)\n"
     ]
    },
    {
     "name": "stdout",
     "output_type": "stream",
     "text": [
      "cur_iter  1\n",
      "cur_iter  2\n",
      "cur_iter  3\n",
      "cur_iter  4\n",
      "cur_iter  5\n",
      "cur_iter  6\n",
      "cur_iter  7\n",
      "cur_iter  8\n",
      "cur_iter  9\n",
      "target_item:  1218\n",
      "6.581460685588354\n",
      "cur_iter  0\n"
     ]
    },
    {
     "name": "stderr",
     "output_type": "stream",
     "text": [
      "D:\\Anaconda\\envs\\tensorflow_cpu\\lib\\site-packages\\scipy\\sparse\\_index.py:126: SparseEfficiencyWarning: Changing the sparsity structure of a csr_matrix is expensive. lil_matrix is more efficient.\n",
      "  self._set_arrayXarray(i, j, x)\n"
     ]
    },
    {
     "name": "stdout",
     "output_type": "stream",
     "text": [
      "cur_iter  1\n",
      "cur_iter  2\n",
      "cur_iter  3\n",
      "cur_iter  4\n",
      "cur_iter  5\n",
      "cur_iter  6\n",
      "cur_iter  7\n",
      "cur_iter  8\n",
      "cur_iter  9\n",
      "target_item:  1490\n",
      "3.8078857661093934\n",
      "cur_iter  0\n"
     ]
    },
    {
     "name": "stderr",
     "output_type": "stream",
     "text": [
      "D:\\Anaconda\\envs\\tensorflow_cpu\\lib\\site-packages\\scipy\\sparse\\_index.py:126: SparseEfficiencyWarning: Changing the sparsity structure of a csr_matrix is expensive. lil_matrix is more efficient.\n",
      "  self._set_arrayXarray(i, j, x)\n"
     ]
    },
    {
     "name": "stdout",
     "output_type": "stream",
     "text": [
      "cur_iter  1\n",
      "cur_iter  2\n",
      "cur_iter  3\n",
      "cur_iter  4\n",
      "cur_iter  5\n",
      "cur_iter  6\n",
      "cur_iter  7\n",
      "cur_iter  8\n",
      "cur_iter  9\n",
      "target_item:  4383\n",
      "25.218179115451676\n",
      "cur_iter  0\n"
     ]
    },
    {
     "name": "stderr",
     "output_type": "stream",
     "text": [
      "D:\\Anaconda\\envs\\tensorflow_cpu\\lib\\site-packages\\scipy\\sparse\\_index.py:126: SparseEfficiencyWarning: Changing the sparsity structure of a csr_matrix is expensive. lil_matrix is more efficient.\n",
      "  self._set_arrayXarray(i, j, x)\n"
     ]
    },
    {
     "name": "stdout",
     "output_type": "stream",
     "text": [
      "cur_iter  1\n",
      "cur_iter  2\n",
      "cur_iter  3\n",
      "cur_iter  4\n",
      "cur_iter  5\n",
      "cur_iter  6\n",
      "no more keyphrase available\n",
      "target_item:  4421\n",
      "4.339086238755954\n",
      "cur_iter  0\n"
     ]
    },
    {
     "name": "stderr",
     "output_type": "stream",
     "text": [
      "D:\\Anaconda\\envs\\tensorflow_cpu\\lib\\site-packages\\scipy\\sparse\\_index.py:126: SparseEfficiencyWarning: Changing the sparsity structure of a csr_matrix is expensive. lil_matrix is more efficient.\n",
      "  self._set_arrayXarray(i, j, x)\n"
     ]
    },
    {
     "name": "stdout",
     "output_type": "stream",
     "text": [
      "cur_iter  1\n",
      "cur_iter  2\n",
      "cur_iter  3\n",
      "cur_iter  4\n",
      "cur_iter  5\n",
      "cur_iter  6\n",
      "cur_iter  7\n",
      "cur_iter  8\n",
      "cur_iter  9\n",
      "target_item:  5637\n",
      "90.94476714955726\n",
      "cur_iter  0\n",
      "no more keyphrase available\n",
      "target_item:  6555\n",
      "5.754812209510419\n",
      "cur_iter  0\n"
     ]
    },
    {
     "name": "stderr",
     "output_type": "stream",
     "text": [
      "D:\\Anaconda\\envs\\tensorflow_cpu\\lib\\site-packages\\scipy\\sparse\\_index.py:126: SparseEfficiencyWarning: Changing the sparsity structure of a csr_matrix is expensive. lil_matrix is more efficient.\n",
      "  self._set_arrayXarray(i, j, x)\n"
     ]
    },
    {
     "name": "stdout",
     "output_type": "stream",
     "text": [
      "cur_iter  1\n",
      "cur_iter  2\n",
      "cur_iter  3\n",
      "cur_iter  4\n",
      "cur_iter  5\n",
      "cur_iter  6\n",
      "cur_iter  7\n",
      "cur_iter  8\n",
      "cur_iter  9\n",
      "User ID  324\n",
      "wanted_items length:  25\n",
      "Initial top recommendation index 4443\n",
      "target_item:  533\n",
      "57.84027231740765\n",
      "cur_iter  0\n"
     ]
    },
    {
     "name": "stderr",
     "output_type": "stream",
     "text": [
      "D:\\Anaconda\\envs\\tensorflow_cpu\\lib\\site-packages\\scipy\\sparse\\_index.py:126: SparseEfficiencyWarning: Changing the sparsity structure of a csr_matrix is expensive. lil_matrix is more efficient.\n",
      "  self._set_arrayXarray(i, j, x)\n"
     ]
    },
    {
     "name": "stdout",
     "output_type": "stream",
     "text": [
      "cur_iter  1\n",
      "cur_iter  2\n",
      "cur_iter  3\n",
      "cur_iter  4\n",
      "cur_iter  5\n",
      "cur_iter  6\n",
      "cur_iter  7\n",
      "cur_iter  8\n",
      "cur_iter  9\n",
      "target_item:  635\n",
      "71.889970024371\n",
      "cur_iter  0\n"
     ]
    },
    {
     "name": "stderr",
     "output_type": "stream",
     "text": [
      "D:\\Anaconda\\envs\\tensorflow_cpu\\lib\\site-packages\\scipy\\sparse\\_index.py:126: SparseEfficiencyWarning: Changing the sparsity structure of a csr_matrix is expensive. lil_matrix is more efficient.\n",
      "  self._set_arrayXarray(i, j, x)\n"
     ]
    },
    {
     "name": "stdout",
     "output_type": "stream",
     "text": [
      "cur_iter  1\n",
      "cur_iter  2\n",
      "cur_iter  3\n",
      "cur_iter  4\n",
      "cur_iter  5\n",
      "cur_iter  6\n",
      "cur_iter  7\n",
      "cur_iter  8\n",
      "cur_iter  9\n",
      "target_item:  766\n",
      "118.05594918290444\n",
      "cur_iter  0\n"
     ]
    },
    {
     "name": "stderr",
     "output_type": "stream",
     "text": [
      "D:\\Anaconda\\envs\\tensorflow_cpu\\lib\\site-packages\\scipy\\sparse\\_index.py:126: SparseEfficiencyWarning: Changing the sparsity structure of a csr_matrix is expensive. lil_matrix is more efficient.\n",
      "  self._set_arrayXarray(i, j, x)\n"
     ]
    },
    {
     "name": "stdout",
     "output_type": "stream",
     "text": [
      "cur_iter  1\n",
      "cur_iter  2\n",
      "cur_iter  3\n",
      "no more keyphrase available\n",
      "target_item:  854\n",
      "79.07636843757791\n",
      "cur_iter  0\n"
     ]
    },
    {
     "name": "stderr",
     "output_type": "stream",
     "text": [
      "D:\\Anaconda\\envs\\tensorflow_cpu\\lib\\site-packages\\scipy\\sparse\\_index.py:126: SparseEfficiencyWarning: Changing the sparsity structure of a csr_matrix is expensive. lil_matrix is more efficient.\n",
      "  self._set_arrayXarray(i, j, x)\n"
     ]
    },
    {
     "name": "stdout",
     "output_type": "stream",
     "text": [
      "cur_iter  1\n",
      "cur_iter  2\n",
      "cur_iter  3\n",
      "cur_iter  4\n",
      "cur_iter  5\n",
      "no more keyphrase available\n",
      "target_item:  1209\n",
      "55.445754034757556\n",
      "cur_iter  0\n"
     ]
    },
    {
     "name": "stderr",
     "output_type": "stream",
     "text": [
      "D:\\Anaconda\\envs\\tensorflow_cpu\\lib\\site-packages\\scipy\\sparse\\_index.py:126: SparseEfficiencyWarning: Changing the sparsity structure of a csr_matrix is expensive. lil_matrix is more efficient.\n",
      "  self._set_arrayXarray(i, j, x)\n"
     ]
    },
    {
     "name": "stdout",
     "output_type": "stream",
     "text": [
      "cur_iter  1\n",
      "cur_iter  2\n",
      "cur_iter  3\n",
      "cur_iter  4\n",
      "cur_iter  5\n",
      "cur_iter  6\n",
      "cur_iter  7\n",
      "cur_iter  8\n",
      "cur_iter  9\n",
      "target_item:  1337\n",
      "147.9646187273902\n",
      "cur_iter  0\n"
     ]
    },
    {
     "name": "stderr",
     "output_type": "stream",
     "text": [
      "D:\\Anaconda\\envs\\tensorflow_cpu\\lib\\site-packages\\scipy\\sparse\\_index.py:126: SparseEfficiencyWarning: Changing the sparsity structure of a csr_matrix is expensive. lil_matrix is more efficient.\n",
      "  self._set_arrayXarray(i, j, x)\n"
     ]
    },
    {
     "name": "stdout",
     "output_type": "stream",
     "text": [
      "cur_iter  1\n",
      "cur_iter  2\n",
      "cur_iter  3\n",
      "cur_iter  4\n",
      "cur_iter  5\n",
      "cur_iter  6\n",
      "no more keyphrase available\n",
      "target_item:  1474\n",
      "280.90689680577634\n",
      "cur_iter  0\n"
     ]
    },
    {
     "name": "stderr",
     "output_type": "stream",
     "text": [
      "D:\\Anaconda\\envs\\tensorflow_cpu\\lib\\site-packages\\scipy\\sparse\\_index.py:126: SparseEfficiencyWarning: Changing the sparsity structure of a csr_matrix is expensive. lil_matrix is more efficient.\n",
      "  self._set_arrayXarray(i, j, x)\n"
     ]
    },
    {
     "name": "stdout",
     "output_type": "stream",
     "text": [
      "cur_iter  1\n",
      "no more keyphrase available\n",
      "target_item:  2031\n",
      "52.94250177004142\n",
      "cur_iter  0\n"
     ]
    },
    {
     "name": "stderr",
     "output_type": "stream",
     "text": [
      "D:\\Anaconda\\envs\\tensorflow_cpu\\lib\\site-packages\\scipy\\sparse\\_index.py:126: SparseEfficiencyWarning: Changing the sparsity structure of a csr_matrix is expensive. lil_matrix is more efficient.\n",
      "  self._set_arrayXarray(i, j, x)\n"
     ]
    },
    {
     "name": "stdout",
     "output_type": "stream",
     "text": [
      "cur_iter  1\n",
      "cur_iter  2\n",
      "cur_iter  3\n",
      "cur_iter  4\n",
      "cur_iter  5\n",
      "cur_iter  6\n",
      "cur_iter  7\n",
      "cur_iter  8\n",
      "cur_iter  9\n",
      "target_item:  2509\n",
      "97.83647506498528\n",
      "cur_iter  0\n"
     ]
    },
    {
     "name": "stderr",
     "output_type": "stream",
     "text": [
      "D:\\Anaconda\\envs\\tensorflow_cpu\\lib\\site-packages\\scipy\\sparse\\_index.py:126: SparseEfficiencyWarning: Changing the sparsity structure of a csr_matrix is expensive. lil_matrix is more efficient.\n",
      "  self._set_arrayXarray(i, j, x)\n"
     ]
    },
    {
     "name": "stdout",
     "output_type": "stream",
     "text": [
      "cur_iter  1\n",
      "cur_iter  2\n",
      "cur_iter  3\n",
      "cur_iter  4\n",
      "cur_iter  5\n",
      "cur_iter  6\n",
      "cur_iter  7\n",
      "no more keyphrase available\n",
      "target_item:  2894\n",
      "54.87213874261943\n",
      "cur_iter  0\n"
     ]
    },
    {
     "name": "stderr",
     "output_type": "stream",
     "text": [
      "D:\\Anaconda\\envs\\tensorflow_cpu\\lib\\site-packages\\scipy\\sparse\\_index.py:126: SparseEfficiencyWarning: Changing the sparsity structure of a csr_matrix is expensive. lil_matrix is more efficient.\n",
      "  self._set_arrayXarray(i, j, x)\n"
     ]
    },
    {
     "name": "stdout",
     "output_type": "stream",
     "text": [
      "cur_iter  1\n",
      "cur_iter  2\n",
      "cur_iter  3\n",
      "cur_iter  4\n",
      "cur_iter  5\n",
      "cur_iter  6\n",
      "cur_iter  7\n",
      "cur_iter  8\n",
      "cur_iter  9\n",
      "target_item:  2923\n",
      "236.80204039495584\n",
      "cur_iter  0\n"
     ]
    },
    {
     "name": "stderr",
     "output_type": "stream",
     "text": [
      "D:\\Anaconda\\envs\\tensorflow_cpu\\lib\\site-packages\\scipy\\sparse\\_index.py:126: SparseEfficiencyWarning: Changing the sparsity structure of a csr_matrix is expensive. lil_matrix is more efficient.\n",
      "  self._set_arrayXarray(i, j, x)\n"
     ]
    },
    {
     "name": "stdout",
     "output_type": "stream",
     "text": [
      "cur_iter  1\n",
      "cur_iter  2\n",
      "cur_iter  3\n",
      "no more keyphrase available\n",
      "User ID  325\n",
      "wanted_items length:  8\n",
      "Initial top recommendation index 4972\n",
      "target_item:  1463\n",
      "33.012809720832706\n",
      "cur_iter  0\n"
     ]
    },
    {
     "name": "stderr",
     "output_type": "stream",
     "text": [
      "D:\\Anaconda\\envs\\tensorflow_cpu\\lib\\site-packages\\scipy\\sparse\\_index.py:126: SparseEfficiencyWarning: Changing the sparsity structure of a csr_matrix is expensive. lil_matrix is more efficient.\n",
      "  self._set_arrayXarray(i, j, x)\n"
     ]
    },
    {
     "name": "stdout",
     "output_type": "stream",
     "text": [
      "cur_iter  1\n",
      "cur_iter  2\n",
      "cur_iter  3\n",
      "no more keyphrase available\n",
      "target_item:  1567\n",
      "30.984612303334984\n",
      "cur_iter  0\n"
     ]
    },
    {
     "name": "stderr",
     "output_type": "stream",
     "text": [
      "D:\\Anaconda\\envs\\tensorflow_cpu\\lib\\site-packages\\scipy\\sparse\\_index.py:126: SparseEfficiencyWarning: Changing the sparsity structure of a csr_matrix is expensive. lil_matrix is more efficient.\n",
      "  self._set_arrayXarray(i, j, x)\n"
     ]
    },
    {
     "name": "stdout",
     "output_type": "stream",
     "text": [
      "cur_iter  1\n",
      "cur_iter  2\n",
      "cur_iter  3\n",
      "cur_iter  4\n",
      "cur_iter  5\n",
      "cur_iter  6\n",
      "no more keyphrase available\n",
      "target_item:  2794\n",
      "11.621598765823933\n",
      "cur_iter  0\n"
     ]
    },
    {
     "name": "stderr",
     "output_type": "stream",
     "text": [
      "D:\\Anaconda\\envs\\tensorflow_cpu\\lib\\site-packages\\scipy\\sparse\\_index.py:126: SparseEfficiencyWarning: Changing the sparsity structure of a csr_matrix is expensive. lil_matrix is more efficient.\n",
      "  self._set_arrayXarray(i, j, x)\n"
     ]
    },
    {
     "name": "stdout",
     "output_type": "stream",
     "text": [
      "cur_iter  1\n",
      "cur_iter  2\n",
      "cur_iter  3\n",
      "cur_iter  4\n",
      "cur_iter  5\n",
      "cur_iter  6\n",
      "cur_iter  7\n",
      "cur_iter  8\n",
      "cur_iter  9\n",
      "target_item:  2957\n",
      "7.229773198648218\n",
      "cur_iter  0\n"
     ]
    },
    {
     "name": "stderr",
     "output_type": "stream",
     "text": [
      "D:\\Anaconda\\envs\\tensorflow_cpu\\lib\\site-packages\\scipy\\sparse\\_index.py:126: SparseEfficiencyWarning: Changing the sparsity structure of a csr_matrix is expensive. lil_matrix is more efficient.\n",
      "  self._set_arrayXarray(i, j, x)\n"
     ]
    },
    {
     "name": "stdout",
     "output_type": "stream",
     "text": [
      "cur_iter  1\n",
      "cur_iter  2\n",
      "cur_iter  3\n",
      "cur_iter  4\n",
      "cur_iter  5\n",
      "cur_iter  6\n",
      "cur_iter  7\n",
      "cur_iter  8\n",
      "cur_iter  9\n",
      "target_item:  4141\n",
      "6.536370588247792\n",
      "cur_iter  0\n"
     ]
    },
    {
     "name": "stderr",
     "output_type": "stream",
     "text": [
      "D:\\Anaconda\\envs\\tensorflow_cpu\\lib\\site-packages\\scipy\\sparse\\_index.py:126: SparseEfficiencyWarning: Changing the sparsity structure of a csr_matrix is expensive. lil_matrix is more efficient.\n",
      "  self._set_arrayXarray(i, j, x)\n"
     ]
    },
    {
     "name": "stdout",
     "output_type": "stream",
     "text": [
      "cur_iter  1\n",
      "cur_iter  2\n",
      "cur_iter  3\n",
      "cur_iter  4\n",
      "cur_iter  5\n",
      "cur_iter  6\n",
      "cur_iter  7\n",
      "cur_iter  8\n",
      "cur_iter  9\n",
      "target_item:  6071\n",
      "16.935405753821215\n",
      "cur_iter  0\n"
     ]
    },
    {
     "name": "stderr",
     "output_type": "stream",
     "text": [
      "D:\\Anaconda\\envs\\tensorflow_cpu\\lib\\site-packages\\scipy\\sparse\\_index.py:126: SparseEfficiencyWarning: Changing the sparsity structure of a csr_matrix is expensive. lil_matrix is more efficient.\n",
      "  self._set_arrayXarray(i, j, x)\n"
     ]
    },
    {
     "name": "stdout",
     "output_type": "stream",
     "text": [
      "cur_iter  1\n",
      "cur_iter  2\n",
      "cur_iter  3\n",
      "cur_iter  4\n",
      "cur_iter  5\n",
      "cur_iter  6\n",
      "cur_iter  7\n",
      "cur_iter  8\n",
      "cur_iter  9\n",
      "target_item:  7195\n",
      "11.069311177132022\n",
      "cur_iter  0\n"
     ]
    },
    {
     "name": "stderr",
     "output_type": "stream",
     "text": [
      "D:\\Anaconda\\envs\\tensorflow_cpu\\lib\\site-packages\\scipy\\sparse\\_index.py:126: SparseEfficiencyWarning: Changing the sparsity structure of a csr_matrix is expensive. lil_matrix is more efficient.\n",
      "  self._set_arrayXarray(i, j, x)\n"
     ]
    },
    {
     "name": "stdout",
     "output_type": "stream",
     "text": [
      "cur_iter  1\n",
      "cur_iter  2\n",
      "cur_iter  3\n",
      "cur_iter  4\n",
      "cur_iter  5\n",
      "cur_iter  6\n",
      "cur_iter  7\n",
      "cur_iter  8\n",
      "cur_iter  9\n",
      "target_item:  7425\n",
      "10.299651991722385\n",
      "cur_iter  0\n"
     ]
    },
    {
     "name": "stderr",
     "output_type": "stream",
     "text": [
      "D:\\Anaconda\\envs\\tensorflow_cpu\\lib\\site-packages\\scipy\\sparse\\_index.py:126: SparseEfficiencyWarning: Changing the sparsity structure of a csr_matrix is expensive. lil_matrix is more efficient.\n",
      "  self._set_arrayXarray(i, j, x)\n"
     ]
    },
    {
     "name": "stdout",
     "output_type": "stream",
     "text": [
      "cur_iter  1\n",
      "cur_iter  2\n",
      "cur_iter  3\n",
      "cur_iter  4\n",
      "cur_iter  5\n",
      "cur_iter  6\n",
      "cur_iter  7\n",
      "cur_iter  8\n",
      "cur_iter  9\n",
      "User ID  326\n",
      "wanted_items length:  13\n",
      "Initial top recommendation index 5410\n",
      "target_item:  36\n",
      "5.603118195831485\n",
      "cur_iter  0\n"
     ]
    },
    {
     "name": "stderr",
     "output_type": "stream",
     "text": [
      "D:\\Anaconda\\envs\\tensorflow_cpu\\lib\\site-packages\\scipy\\sparse\\_index.py:126: SparseEfficiencyWarning: Changing the sparsity structure of a csr_matrix is expensive. lil_matrix is more efficient.\n",
      "  self._set_arrayXarray(i, j, x)\n"
     ]
    },
    {
     "name": "stdout",
     "output_type": "stream",
     "text": [
      "cur_iter  1\n",
      "cur_iter  2\n",
      "cur_iter  3\n",
      "cur_iter  4\n",
      "cur_iter  5\n",
      "cur_iter  6\n",
      "cur_iter  7\n",
      "cur_iter  8\n",
      "cur_iter  9\n",
      "target_item:  828\n",
      "10.84730287353159\n",
      "cur_iter  0\n"
     ]
    },
    {
     "name": "stderr",
     "output_type": "stream",
     "text": [
      "D:\\Anaconda\\envs\\tensorflow_cpu\\lib\\site-packages\\scipy\\sparse\\_index.py:126: SparseEfficiencyWarning: Changing the sparsity structure of a csr_matrix is expensive. lil_matrix is more efficient.\n",
      "  self._set_arrayXarray(i, j, x)\n"
     ]
    },
    {
     "name": "stdout",
     "output_type": "stream",
     "text": [
      "cur_iter  1\n",
      "cur_iter  2\n",
      "cur_iter  3\n",
      "cur_iter  4\n",
      "cur_iter  5\n",
      "cur_iter  6\n",
      "cur_iter  7\n",
      "cur_iter  8\n",
      "cur_iter  9\n",
      "target_item:  1219\n",
      "8.153617194358958\n",
      "cur_iter  0\n"
     ]
    },
    {
     "name": "stderr",
     "output_type": "stream",
     "text": [
      "D:\\Anaconda\\envs\\tensorflow_cpu\\lib\\site-packages\\scipy\\sparse\\_index.py:126: SparseEfficiencyWarning: Changing the sparsity structure of a csr_matrix is expensive. lil_matrix is more efficient.\n",
      "  self._set_arrayXarray(i, j, x)\n"
     ]
    },
    {
     "name": "stdout",
     "output_type": "stream",
     "text": [
      "cur_iter  1\n",
      "cur_iter  2\n",
      "cur_iter  3\n",
      "cur_iter  4\n",
      "cur_iter  5\n",
      "cur_iter  6\n",
      "cur_iter  7\n",
      "cur_iter  8\n",
      "cur_iter  9\n",
      "target_item:  1411\n",
      "16.595520323011442\n",
      "cur_iter  0\n"
     ]
    },
    {
     "name": "stderr",
     "output_type": "stream",
     "text": [
      "D:\\Anaconda\\envs\\tensorflow_cpu\\lib\\site-packages\\scipy\\sparse\\_index.py:126: SparseEfficiencyWarning: Changing the sparsity structure of a csr_matrix is expensive. lil_matrix is more efficient.\n",
      "  self._set_arrayXarray(i, j, x)\n"
     ]
    },
    {
     "name": "stdout",
     "output_type": "stream",
     "text": [
      "cur_iter  1\n",
      "cur_iter  2\n",
      "cur_iter  3\n",
      "cur_iter  4\n",
      "cur_iter  5\n",
      "cur_iter  6\n",
      "cur_iter  7\n",
      "cur_iter  8\n",
      "cur_iter  9\n",
      "target_item:  1467\n",
      "12.470883081026841\n",
      "cur_iter  0\n"
     ]
    },
    {
     "name": "stderr",
     "output_type": "stream",
     "text": [
      "D:\\Anaconda\\envs\\tensorflow_cpu\\lib\\site-packages\\scipy\\sparse\\_index.py:126: SparseEfficiencyWarning: Changing the sparsity structure of a csr_matrix is expensive. lil_matrix is more efficient.\n",
      "  self._set_arrayXarray(i, j, x)\n"
     ]
    },
    {
     "name": "stdout",
     "output_type": "stream",
     "text": [
      "cur_iter  1\n",
      "cur_iter  2\n",
      "cur_iter  3\n",
      "cur_iter  4\n",
      "cur_iter  5\n",
      "cur_iter  6\n",
      "cur_iter  7\n",
      "cur_iter  8\n",
      "cur_iter  9\n",
      "target_item:  1780\n",
      "30.100888469765778\n",
      "cur_iter  0\n"
     ]
    },
    {
     "name": "stderr",
     "output_type": "stream",
     "text": [
      "D:\\Anaconda\\envs\\tensorflow_cpu\\lib\\site-packages\\scipy\\sparse\\_index.py:126: SparseEfficiencyWarning: Changing the sparsity structure of a csr_matrix is expensive. lil_matrix is more efficient.\n",
      "  self._set_arrayXarray(i, j, x)\n"
     ]
    },
    {
     "name": "stdout",
     "output_type": "stream",
     "text": [
      "cur_iter  1\n",
      "cur_iter  2\n",
      "cur_iter  3\n",
      "cur_iter  4\n",
      "cur_iter  5\n",
      "no more keyphrase available\n",
      "target_item:  3264\n",
      "13.905563450847694\n",
      "cur_iter  0\n"
     ]
    },
    {
     "name": "stderr",
     "output_type": "stream",
     "text": [
      "D:\\Anaconda\\envs\\tensorflow_cpu\\lib\\site-packages\\scipy\\sparse\\_index.py:126: SparseEfficiencyWarning: Changing the sparsity structure of a csr_matrix is expensive. lil_matrix is more efficient.\n",
      "  self._set_arrayXarray(i, j, x)\n"
     ]
    },
    {
     "name": "stdout",
     "output_type": "stream",
     "text": [
      "cur_iter  1\n",
      "cur_iter  2\n",
      "cur_iter  3\n",
      "cur_iter  4\n",
      "cur_iter  5\n",
      "cur_iter  6\n",
      "cur_iter  7\n",
      "cur_iter  8\n",
      "cur_iter  9\n",
      "no more keyphrase available\n",
      "target_item:  3743\n",
      "24.793590341192612\n",
      "cur_iter  0\n"
     ]
    },
    {
     "name": "stderr",
     "output_type": "stream",
     "text": [
      "D:\\Anaconda\\envs\\tensorflow_cpu\\lib\\site-packages\\scipy\\sparse\\_index.py:126: SparseEfficiencyWarning: Changing the sparsity structure of a csr_matrix is expensive. lil_matrix is more efficient.\n",
      "  self._set_arrayXarray(i, j, x)\n"
     ]
    },
    {
     "name": "stdout",
     "output_type": "stream",
     "text": [
      "cur_iter  1\n",
      "cur_iter  2\n",
      "cur_iter  3\n",
      "cur_iter  4\n",
      "cur_iter  5\n",
      "cur_iter  6\n",
      "cur_iter  7\n",
      "no more keyphrase available\n",
      "target_item:  3771\n",
      "8.090019588235009\n",
      "cur_iter  0\n"
     ]
    },
    {
     "name": "stderr",
     "output_type": "stream",
     "text": [
      "D:\\Anaconda\\envs\\tensorflow_cpu\\lib\\site-packages\\scipy\\sparse\\_index.py:126: SparseEfficiencyWarning: Changing the sparsity structure of a csr_matrix is expensive. lil_matrix is more efficient.\n",
      "  self._set_arrayXarray(i, j, x)\n"
     ]
    },
    {
     "name": "stdout",
     "output_type": "stream",
     "text": [
      "cur_iter  1\n",
      "cur_iter  2\n",
      "cur_iter  3\n",
      "cur_iter  4\n",
      "cur_iter  5\n",
      "cur_iter  6\n",
      "cur_iter  7\n",
      "cur_iter  8\n",
      "cur_iter  9\n",
      "target_item:  4554\n",
      "21.96198870724038\n",
      "cur_iter  0\n"
     ]
    },
    {
     "name": "stderr",
     "output_type": "stream",
     "text": [
      "D:\\Anaconda\\envs\\tensorflow_cpu\\lib\\site-packages\\scipy\\sparse\\_index.py:126: SparseEfficiencyWarning: Changing the sparsity structure of a csr_matrix is expensive. lil_matrix is more efficient.\n",
      "  self._set_arrayXarray(i, j, x)\n"
     ]
    },
    {
     "name": "stdout",
     "output_type": "stream",
     "text": [
      "cur_iter  1\n",
      "cur_iter  2\n",
      "cur_iter  3\n",
      "cur_iter  4\n",
      "cur_iter  5\n",
      "cur_iter  6\n",
      "cur_iter  7\n",
      "no more keyphrase available\n",
      "target_item:  4673\n",
      "8.562274900024931\n",
      "cur_iter  0\n"
     ]
    },
    {
     "name": "stderr",
     "output_type": "stream",
     "text": [
      "D:\\Anaconda\\envs\\tensorflow_cpu\\lib\\site-packages\\scipy\\sparse\\_index.py:126: SparseEfficiencyWarning: Changing the sparsity structure of a csr_matrix is expensive. lil_matrix is more efficient.\n",
      "  self._set_arrayXarray(i, j, x)\n"
     ]
    },
    {
     "name": "stdout",
     "output_type": "stream",
     "text": [
      "cur_iter  1\n",
      "cur_iter  2\n",
      "cur_iter  3\n",
      "cur_iter  4\n",
      "cur_iter  5\n",
      "cur_iter  6\n",
      "cur_iter  7\n",
      "cur_iter  8\n",
      "cur_iter  9\n",
      "User ID  327\n",
      "wanted_items length:  8\n",
      "Initial top recommendation index 6668\n",
      "target_item:  95\n",
      "Cannot get restaurant name for ItemIndex:  95\n"
     ]
    },
    {
     "name": "stderr",
     "output_type": "stream",
     "text": [
      "D:\\Anaconda\\lib\\site-packages\\ipykernel_launcher.py:33: RuntimeWarning: invalid value encountered in true_divide\n"
     ]
    },
    {
     "name": "stdout",
     "output_type": "stream",
     "text": [
      "116.30833311879633\n",
      "cur_iter  0\n",
      "no more keyphrase available\n",
      "target_item:  1044\n",
      "15.46147513838514\n",
      "cur_iter  0\n"
     ]
    },
    {
     "name": "stderr",
     "output_type": "stream",
     "text": [
      "D:\\Anaconda\\envs\\tensorflow_cpu\\lib\\site-packages\\scipy\\sparse\\_index.py:126: SparseEfficiencyWarning: Changing the sparsity structure of a csr_matrix is expensive. lil_matrix is more efficient.\n",
      "  self._set_arrayXarray(i, j, x)\n"
     ]
    },
    {
     "name": "stdout",
     "output_type": "stream",
     "text": [
      "cur_iter  1\n",
      "cur_iter  2\n",
      "cur_iter  3\n",
      "cur_iter  4\n",
      "cur_iter  5\n",
      "cur_iter  6\n",
      "cur_iter  7\n",
      "cur_iter  8\n",
      "cur_iter  9\n",
      "target_item:  1644\n",
      "14.564457879754627\n",
      "cur_iter  0\n"
     ]
    },
    {
     "name": "stderr",
     "output_type": "stream",
     "text": [
      "D:\\Anaconda\\envs\\tensorflow_cpu\\lib\\site-packages\\scipy\\sparse\\_index.py:126: SparseEfficiencyWarning: Changing the sparsity structure of a csr_matrix is expensive. lil_matrix is more efficient.\n",
      "  self._set_arrayXarray(i, j, x)\n"
     ]
    },
    {
     "name": "stdout",
     "output_type": "stream",
     "text": [
      "cur_iter  1\n",
      "cur_iter  2\n",
      "cur_iter  3\n",
      "cur_iter  4\n",
      "cur_iter  5\n",
      "cur_iter  6\n",
      "cur_iter  7\n",
      "cur_iter  8\n",
      "cur_iter  9\n",
      "target_item:  1955\n",
      "9.257163756490627\n",
      "cur_iter  0\n"
     ]
    },
    {
     "name": "stderr",
     "output_type": "stream",
     "text": [
      "D:\\Anaconda\\envs\\tensorflow_cpu\\lib\\site-packages\\scipy\\sparse\\_index.py:126: SparseEfficiencyWarning: Changing the sparsity structure of a csr_matrix is expensive. lil_matrix is more efficient.\n",
      "  self._set_arrayXarray(i, j, x)\n"
     ]
    },
    {
     "name": "stdout",
     "output_type": "stream",
     "text": [
      "cur_iter  1\n",
      "cur_iter  2\n",
      "cur_iter  3\n",
      "cur_iter  4\n",
      "cur_iter  5\n",
      "cur_iter  6\n",
      "cur_iter  7\n",
      "cur_iter  8\n",
      "cur_iter  9\n",
      "target_item:  2889\n",
      "10.517596935271285\n",
      "cur_iter  0\n"
     ]
    },
    {
     "name": "stderr",
     "output_type": "stream",
     "text": [
      "D:\\Anaconda\\envs\\tensorflow_cpu\\lib\\site-packages\\scipy\\sparse\\_index.py:126: SparseEfficiencyWarning: Changing the sparsity structure of a csr_matrix is expensive. lil_matrix is more efficient.\n",
      "  self._set_arrayXarray(i, j, x)\n"
     ]
    },
    {
     "name": "stdout",
     "output_type": "stream",
     "text": [
      "cur_iter  1\n",
      "cur_iter  2\n",
      "cur_iter  3\n",
      "cur_iter  4\n",
      "cur_iter  5\n",
      "cur_iter  6\n",
      "cur_iter  7\n",
      "cur_iter  8\n",
      "cur_iter  9\n",
      "target_item:  3339\n",
      "44.58751413782602\n",
      "cur_iter  0\n"
     ]
    },
    {
     "name": "stderr",
     "output_type": "stream",
     "text": [
      "D:\\Anaconda\\envs\\tensorflow_cpu\\lib\\site-packages\\scipy\\sparse\\_index.py:126: SparseEfficiencyWarning: Changing the sparsity structure of a csr_matrix is expensive. lil_matrix is more efficient.\n",
      "  self._set_arrayXarray(i, j, x)\n"
     ]
    },
    {
     "name": "stdout",
     "output_type": "stream",
     "text": [
      "cur_iter  1\n",
      "cur_iter  2\n",
      "cur_iter  3\n",
      "cur_iter  4\n",
      "cur_iter  5\n",
      "cur_iter  6\n",
      "no more keyphrase available\n",
      "target_item:  5118\n",
      "7.448677393034814\n",
      "cur_iter  0\n"
     ]
    },
    {
     "name": "stderr",
     "output_type": "stream",
     "text": [
      "D:\\Anaconda\\envs\\tensorflow_cpu\\lib\\site-packages\\scipy\\sparse\\_index.py:126: SparseEfficiencyWarning: Changing the sparsity structure of a csr_matrix is expensive. lil_matrix is more efficient.\n",
      "  self._set_arrayXarray(i, j, x)\n"
     ]
    },
    {
     "name": "stdout",
     "output_type": "stream",
     "text": [
      "cur_iter  1\n",
      "cur_iter  2\n",
      "cur_iter  3\n",
      "cur_iter  4\n",
      "cur_iter  5\n",
      "cur_iter  6\n",
      "cur_iter  7\n",
      "cur_iter  8\n",
      "cur_iter  9\n",
      "target_item:  7070\n",
      "10.345717244116258\n",
      "cur_iter  0\n"
     ]
    },
    {
     "name": "stderr",
     "output_type": "stream",
     "text": [
      "D:\\Anaconda\\envs\\tensorflow_cpu\\lib\\site-packages\\scipy\\sparse\\_index.py:126: SparseEfficiencyWarning: Changing the sparsity structure of a csr_matrix is expensive. lil_matrix is more efficient.\n",
      "  self._set_arrayXarray(i, j, x)\n"
     ]
    },
    {
     "name": "stdout",
     "output_type": "stream",
     "text": [
      "cur_iter  1\n",
      "cur_iter  2\n",
      "cur_iter  3\n",
      "cur_iter  4\n",
      "cur_iter  5\n",
      "cur_iter  6\n",
      "cur_iter  7\n",
      "cur_iter  8\n",
      "cur_iter  9\n",
      "User ID  328\n",
      "wanted_items length:  8\n",
      "Initial top recommendation index 4443\n",
      "target_item:  3401\n",
      "17.39641975730774\n",
      "cur_iter  0\n"
     ]
    },
    {
     "name": "stderr",
     "output_type": "stream",
     "text": [
      "D:\\Anaconda\\envs\\tensorflow_cpu\\lib\\site-packages\\scipy\\sparse\\_index.py:126: SparseEfficiencyWarning: Changing the sparsity structure of a csr_matrix is expensive. lil_matrix is more efficient.\n",
      "  self._set_arrayXarray(i, j, x)\n"
     ]
    },
    {
     "name": "stdout",
     "output_type": "stream",
     "text": [
      "cur_iter  1\n",
      "cur_iter  2\n",
      "cur_iter  3\n",
      "cur_iter  4\n",
      "cur_iter  5\n",
      "cur_iter  6\n",
      "no more keyphrase available\n",
      "target_item:  4011\n",
      "12.384185321378027\n",
      "cur_iter  0\n"
     ]
    },
    {
     "name": "stderr",
     "output_type": "stream",
     "text": [
      "D:\\Anaconda\\envs\\tensorflow_cpu\\lib\\site-packages\\scipy\\sparse\\_index.py:126: SparseEfficiencyWarning: Changing the sparsity structure of a csr_matrix is expensive. lil_matrix is more efficient.\n",
      "  self._set_arrayXarray(i, j, x)\n"
     ]
    },
    {
     "name": "stdout",
     "output_type": "stream",
     "text": [
      "cur_iter  1\n",
      "cur_iter  2\n",
      "cur_iter  3\n",
      "cur_iter  4\n",
      "cur_iter  5\n",
      "cur_iter  6\n",
      "cur_iter  7\n",
      "cur_iter  8\n",
      "cur_iter  9\n",
      "target_item:  4820\n",
      "11.490794900557376\n",
      "cur_iter  0\n"
     ]
    },
    {
     "name": "stderr",
     "output_type": "stream",
     "text": [
      "D:\\Anaconda\\envs\\tensorflow_cpu\\lib\\site-packages\\scipy\\sparse\\_index.py:126: SparseEfficiencyWarning: Changing the sparsity structure of a csr_matrix is expensive. lil_matrix is more efficient.\n",
      "  self._set_arrayXarray(i, j, x)\n"
     ]
    },
    {
     "name": "stdout",
     "output_type": "stream",
     "text": [
      "cur_iter  1\n",
      "cur_iter  2\n",
      "cur_iter  3\n",
      "cur_iter  4\n",
      "cur_iter  5\n",
      "cur_iter  6\n",
      "cur_iter  7\n",
      "cur_iter  8\n",
      "cur_iter  9\n",
      "target_item:  6167\n",
      "8.627727742399657\n",
      "cur_iter  0\n"
     ]
    },
    {
     "name": "stderr",
     "output_type": "stream",
     "text": [
      "D:\\Anaconda\\envs\\tensorflow_cpu\\lib\\site-packages\\scipy\\sparse\\_index.py:126: SparseEfficiencyWarning: Changing the sparsity structure of a csr_matrix is expensive. lil_matrix is more efficient.\n",
      "  self._set_arrayXarray(i, j, x)\n"
     ]
    },
    {
     "name": "stdout",
     "output_type": "stream",
     "text": [
      "cur_iter  1\n",
      "cur_iter  2\n",
      "cur_iter  3\n",
      "cur_iter  4\n",
      "cur_iter  5\n",
      "cur_iter  6\n",
      "cur_iter  7\n",
      "cur_iter  8\n",
      "cur_iter  9\n",
      "target_item:  6288\n",
      "23.53299924264502\n",
      "cur_iter  0\n"
     ]
    },
    {
     "name": "stderr",
     "output_type": "stream",
     "text": [
      "D:\\Anaconda\\envs\\tensorflow_cpu\\lib\\site-packages\\scipy\\sparse\\_index.py:126: SparseEfficiencyWarning: Changing the sparsity structure of a csr_matrix is expensive. lil_matrix is more efficient.\n",
      "  self._set_arrayXarray(i, j, x)\n"
     ]
    },
    {
     "name": "stdout",
     "output_type": "stream",
     "text": [
      "cur_iter  1\n",
      "cur_iter  2\n",
      "cur_iter  3\n",
      "cur_iter  4\n",
      "cur_iter  5\n",
      "cur_iter  6\n",
      "cur_iter  7\n",
      "cur_iter  8\n",
      "cur_iter  9\n",
      "target_item:  6864\n",
      "14.565477080956043\n",
      "cur_iter  0\n"
     ]
    },
    {
     "name": "stderr",
     "output_type": "stream",
     "text": [
      "D:\\Anaconda\\envs\\tensorflow_cpu\\lib\\site-packages\\scipy\\sparse\\_index.py:126: SparseEfficiencyWarning: Changing the sparsity structure of a csr_matrix is expensive. lil_matrix is more efficient.\n",
      "  self._set_arrayXarray(i, j, x)\n"
     ]
    },
    {
     "name": "stdout",
     "output_type": "stream",
     "text": [
      "cur_iter  1\n",
      "cur_iter  2\n",
      "cur_iter  3\n",
      "cur_iter  4\n",
      "cur_iter  5\n",
      "cur_iter  6\n",
      "cur_iter  7\n",
      "cur_iter  8\n",
      "cur_iter  9\n",
      "no more keyphrase available\n",
      "target_item:  6950\n",
      "Cannot get restaurant name for ItemIndex:  6950\n"
     ]
    },
    {
     "name": "stderr",
     "output_type": "stream",
     "text": [
      "D:\\Anaconda\\lib\\site-packages\\ipykernel_launcher.py:33: RuntimeWarning: invalid value encountered in true_divide\n"
     ]
    },
    {
     "name": "stdout",
     "output_type": "stream",
     "text": [
      "119.28915449399574\n",
      "cur_iter  0\n",
      "no more keyphrase available\n",
      "target_item:  6958\n",
      "8.694130947238591\n",
      "cur_iter  0\n"
     ]
    },
    {
     "name": "stderr",
     "output_type": "stream",
     "text": [
      "D:\\Anaconda\\envs\\tensorflow_cpu\\lib\\site-packages\\scipy\\sparse\\_index.py:126: SparseEfficiencyWarning: Changing the sparsity structure of a csr_matrix is expensive. lil_matrix is more efficient.\n",
      "  self._set_arrayXarray(i, j, x)\n"
     ]
    },
    {
     "name": "stdout",
     "output_type": "stream",
     "text": [
      "cur_iter  1\n",
      "cur_iter  2\n",
      "cur_iter  3\n",
      "cur_iter  4\n",
      "cur_iter  5\n",
      "cur_iter  6\n",
      "cur_iter  7\n",
      "cur_iter  8\n",
      "cur_iter  9\n",
      "User ID  329\n",
      "wanted_items length:  14\n",
      "Initial top recommendation index 6739\n",
      "target_item:  790\n",
      "11.657252141591016\n",
      "cur_iter  0\n"
     ]
    },
    {
     "name": "stderr",
     "output_type": "stream",
     "text": [
      "D:\\Anaconda\\envs\\tensorflow_cpu\\lib\\site-packages\\scipy\\sparse\\_index.py:126: SparseEfficiencyWarning: Changing the sparsity structure of a csr_matrix is expensive. lil_matrix is more efficient.\n",
      "  self._set_arrayXarray(i, j, x)\n"
     ]
    },
    {
     "name": "stdout",
     "output_type": "stream",
     "text": [
      "cur_iter  1\n",
      "cur_iter  2\n",
      "cur_iter  3\n",
      "cur_iter  4\n",
      "cur_iter  5\n",
      "cur_iter  6\n",
      "cur_iter  7\n",
      "cur_iter  8\n",
      "cur_iter  9\n",
      "target_item:  1107\n",
      "11.383940249532316\n",
      "cur_iter  0\n"
     ]
    },
    {
     "name": "stderr",
     "output_type": "stream",
     "text": [
      "D:\\Anaconda\\envs\\tensorflow_cpu\\lib\\site-packages\\scipy\\sparse\\_index.py:126: SparseEfficiencyWarning: Changing the sparsity structure of a csr_matrix is expensive. lil_matrix is more efficient.\n",
      "  self._set_arrayXarray(i, j, x)\n"
     ]
    },
    {
     "name": "stdout",
     "output_type": "stream",
     "text": [
      "cur_iter  1\n",
      "cur_iter  2\n",
      "cur_iter  3\n",
      "cur_iter  4\n",
      "cur_iter  5\n",
      "cur_iter  6\n",
      "cur_iter  7\n",
      "cur_iter  8\n",
      "cur_iter  9\n",
      "target_item:  1259\n",
      "9.256586665334908\n",
      "cur_iter  0\n"
     ]
    },
    {
     "name": "stderr",
     "output_type": "stream",
     "text": [
      "D:\\Anaconda\\envs\\tensorflow_cpu\\lib\\site-packages\\scipy\\sparse\\_index.py:126: SparseEfficiencyWarning: Changing the sparsity structure of a csr_matrix is expensive. lil_matrix is more efficient.\n",
      "  self._set_arrayXarray(i, j, x)\n"
     ]
    },
    {
     "name": "stdout",
     "output_type": "stream",
     "text": [
      "cur_iter  1\n",
      "cur_iter  2\n",
      "cur_iter  3\n",
      "cur_iter  4\n",
      "cur_iter  5\n",
      "cur_iter  6\n",
      "cur_iter  7\n",
      "cur_iter  8\n",
      "cur_iter  9\n",
      "target_item:  1658\n",
      "18.47062210391232\n",
      "cur_iter  0\n"
     ]
    },
    {
     "name": "stderr",
     "output_type": "stream",
     "text": [
      "D:\\Anaconda\\envs\\tensorflow_cpu\\lib\\site-packages\\scipy\\sparse\\_index.py:126: SparseEfficiencyWarning: Changing the sparsity structure of a csr_matrix is expensive. lil_matrix is more efficient.\n",
      "  self._set_arrayXarray(i, j, x)\n"
     ]
    },
    {
     "name": "stdout",
     "output_type": "stream",
     "text": [
      "cur_iter  1\n",
      "cur_iter  2\n",
      "cur_iter  3\n",
      "cur_iter  4\n",
      "cur_iter  5\n",
      "cur_iter  6\n",
      "cur_iter  7\n",
      "cur_iter  8\n",
      "cur_iter  9\n",
      "target_item:  2436\n",
      "70.0344870897261\n",
      "cur_iter  0\n"
     ]
    },
    {
     "name": "stderr",
     "output_type": "stream",
     "text": [
      "D:\\Anaconda\\envs\\tensorflow_cpu\\lib\\site-packages\\scipy\\sparse\\_index.py:126: SparseEfficiencyWarning: Changing the sparsity structure of a csr_matrix is expensive. lil_matrix is more efficient.\n",
      "  self._set_arrayXarray(i, j, x)\n"
     ]
    },
    {
     "name": "stdout",
     "output_type": "stream",
     "text": [
      "cur_iter  1\n",
      "cur_iter  2\n",
      "cur_iter  3\n",
      "no more keyphrase available\n",
      "target_item:  2643\n",
      "48.66911045629968\n",
      "cur_iter  0\n"
     ]
    },
    {
     "name": "stderr",
     "output_type": "stream",
     "text": [
      "D:\\Anaconda\\envs\\tensorflow_cpu\\lib\\site-packages\\scipy\\sparse\\_index.py:126: SparseEfficiencyWarning: Changing the sparsity structure of a csr_matrix is expensive. lil_matrix is more efficient.\n",
      "  self._set_arrayXarray(i, j, x)\n"
     ]
    },
    {
     "name": "stdout",
     "output_type": "stream",
     "text": [
      "cur_iter  1\n",
      "cur_iter  2\n",
      "cur_iter  3\n",
      "cur_iter  4\n",
      "cur_iter  5\n",
      "cur_iter  6\n",
      "cur_iter  7\n",
      "no more keyphrase available\n",
      "target_item:  2653\n",
      "36.78532954112961\n",
      "cur_iter  0\n"
     ]
    },
    {
     "name": "stderr",
     "output_type": "stream",
     "text": [
      "D:\\Anaconda\\envs\\tensorflow_cpu\\lib\\site-packages\\scipy\\sparse\\_index.py:126: SparseEfficiencyWarning: Changing the sparsity structure of a csr_matrix is expensive. lil_matrix is more efficient.\n",
      "  self._set_arrayXarray(i, j, x)\n"
     ]
    },
    {
     "name": "stdout",
     "output_type": "stream",
     "text": [
      "cur_iter  1\n",
      "cur_iter  2\n",
      "cur_iter  3\n",
      "cur_iter  4\n",
      "cur_iter  5\n",
      "cur_iter  6\n",
      "no more keyphrase available\n",
      "target_item:  2699\n",
      "69.65716652420997\n",
      "cur_iter  0\n"
     ]
    },
    {
     "name": "stderr",
     "output_type": "stream",
     "text": [
      "D:\\Anaconda\\envs\\tensorflow_cpu\\lib\\site-packages\\scipy\\sparse\\_index.py:126: SparseEfficiencyWarning: Changing the sparsity structure of a csr_matrix is expensive. lil_matrix is more efficient.\n",
      "  self._set_arrayXarray(i, j, x)\n"
     ]
    },
    {
     "name": "stdout",
     "output_type": "stream",
     "text": [
      "cur_iter  1\n",
      "cur_iter  2\n",
      "cur_iter  3\n",
      "cur_iter  4\n",
      "cur_iter  5\n",
      "cur_iter  6\n",
      "cur_iter  7\n",
      "cur_iter  8\n",
      "no more keyphrase available\n",
      "target_item:  4332\n",
      "20.881771955489967\n",
      "cur_iter  0\n"
     ]
    },
    {
     "name": "stderr",
     "output_type": "stream",
     "text": [
      "D:\\Anaconda\\envs\\tensorflow_cpu\\lib\\site-packages\\scipy\\sparse\\_index.py:126: SparseEfficiencyWarning: Changing the sparsity structure of a csr_matrix is expensive. lil_matrix is more efficient.\n",
      "  self._set_arrayXarray(i, j, x)\n"
     ]
    },
    {
     "name": "stdout",
     "output_type": "stream",
     "text": [
      "cur_iter  1\n",
      "cur_iter  2\n",
      "cur_iter  3\n",
      "cur_iter  4\n",
      "cur_iter  5\n",
      "cur_iter  6\n",
      "cur_iter  7\n",
      "cur_iter  8\n",
      "cur_iter  9\n",
      "target_item:  4428\n",
      "9.056939679703646\n",
      "cur_iter  0\n"
     ]
    },
    {
     "name": "stderr",
     "output_type": "stream",
     "text": [
      "D:\\Anaconda\\envs\\tensorflow_cpu\\lib\\site-packages\\scipy\\sparse\\_index.py:126: SparseEfficiencyWarning: Changing the sparsity structure of a csr_matrix is expensive. lil_matrix is more efficient.\n",
      "  self._set_arrayXarray(i, j, x)\n"
     ]
    },
    {
     "name": "stdout",
     "output_type": "stream",
     "text": [
      "cur_iter  1\n",
      "cur_iter  2\n",
      "cur_iter  3\n",
      "cur_iter  4\n",
      "cur_iter  5\n",
      "cur_iter  6\n",
      "cur_iter  7\n",
      "cur_iter  8\n",
      "cur_iter  9\n",
      "target_item:  4939\n",
      "10.094633115480974\n",
      "cur_iter  0\n"
     ]
    },
    {
     "name": "stderr",
     "output_type": "stream",
     "text": [
      "D:\\Anaconda\\envs\\tensorflow_cpu\\lib\\site-packages\\scipy\\sparse\\_index.py:126: SparseEfficiencyWarning: Changing the sparsity structure of a csr_matrix is expensive. lil_matrix is more efficient.\n",
      "  self._set_arrayXarray(i, j, x)\n"
     ]
    },
    {
     "name": "stdout",
     "output_type": "stream",
     "text": [
      "cur_iter  1\n",
      "cur_iter  2\n",
      "cur_iter  3\n",
      "cur_iter  4\n",
      "cur_iter  5\n",
      "cur_iter  6\n",
      "cur_iter  7\n",
      "cur_iter  8\n",
      "cur_iter  9\n",
      "User ID  330\n",
      "wanted_items length:  5\n",
      "Initial top recommendation index 201\n",
      "target_item:  1187\n",
      "6.199841367198587\n",
      "cur_iter  0\n"
     ]
    },
    {
     "name": "stderr",
     "output_type": "stream",
     "text": [
      "D:\\Anaconda\\envs\\tensorflow_cpu\\lib\\site-packages\\scipy\\sparse\\_index.py:126: SparseEfficiencyWarning: Changing the sparsity structure of a csr_matrix is expensive. lil_matrix is more efficient.\n",
      "  self._set_arrayXarray(i, j, x)\n"
     ]
    },
    {
     "name": "stdout",
     "output_type": "stream",
     "text": [
      "cur_iter  1\n",
      "cur_iter  2\n",
      "cur_iter  3\n",
      "cur_iter  4\n",
      "cur_iter  5\n",
      "cur_iter  6\n",
      "cur_iter  7\n",
      "cur_iter  8\n",
      "cur_iter  9\n",
      "target_item:  1898\n",
      "7.455229607679485\n",
      "cur_iter  0\n"
     ]
    },
    {
     "name": "stderr",
     "output_type": "stream",
     "text": [
      "D:\\Anaconda\\envs\\tensorflow_cpu\\lib\\site-packages\\scipy\\sparse\\_index.py:126: SparseEfficiencyWarning: Changing the sparsity structure of a csr_matrix is expensive. lil_matrix is more efficient.\n",
      "  self._set_arrayXarray(i, j, x)\n"
     ]
    },
    {
     "name": "stdout",
     "output_type": "stream",
     "text": [
      "cur_iter  1\n",
      "cur_iter  2\n",
      "cur_iter  3\n",
      "cur_iter  4\n",
      "cur_iter  5\n",
      "cur_iter  6\n",
      "cur_iter  7\n",
      "cur_iter  8\n",
      "cur_iter  9\n",
      "target_item:  3149\n",
      "5.407471556290602\n",
      "cur_iter  0\n"
     ]
    },
    {
     "name": "stderr",
     "output_type": "stream",
     "text": [
      "D:\\Anaconda\\envs\\tensorflow_cpu\\lib\\site-packages\\scipy\\sparse\\_index.py:126: SparseEfficiencyWarning: Changing the sparsity structure of a csr_matrix is expensive. lil_matrix is more efficient.\n",
      "  self._set_arrayXarray(i, j, x)\n"
     ]
    },
    {
     "name": "stdout",
     "output_type": "stream",
     "text": [
      "cur_iter  1\n",
      "cur_iter  2\n",
      "cur_iter  3\n",
      "cur_iter  4\n",
      "cur_iter  5\n",
      "cur_iter  6\n",
      "cur_iter  7\n",
      "cur_iter  8\n",
      "cur_iter  9\n",
      "target_item:  3185\n",
      "7.675009369615509\n",
      "cur_iter  0\n"
     ]
    },
    {
     "name": "stderr",
     "output_type": "stream",
     "text": [
      "D:\\Anaconda\\envs\\tensorflow_cpu\\lib\\site-packages\\scipy\\sparse\\_index.py:126: SparseEfficiencyWarning: Changing the sparsity structure of a csr_matrix is expensive. lil_matrix is more efficient.\n",
      "  self._set_arrayXarray(i, j, x)\n"
     ]
    },
    {
     "name": "stdout",
     "output_type": "stream",
     "text": [
      "cur_iter  1\n",
      "cur_iter  2\n",
      "cur_iter  3\n",
      "cur_iter  4\n",
      "cur_iter  5\n",
      "cur_iter  6\n",
      "cur_iter  7\n",
      "cur_iter  8\n",
      "cur_iter  9\n",
      "target_item:  4831\n",
      "15.085698071417937\n",
      "cur_iter  0\n"
     ]
    },
    {
     "name": "stderr",
     "output_type": "stream",
     "text": [
      "D:\\Anaconda\\envs\\tensorflow_cpu\\lib\\site-packages\\scipy\\sparse\\_index.py:126: SparseEfficiencyWarning: Changing the sparsity structure of a csr_matrix is expensive. lil_matrix is more efficient.\n",
      "  self._set_arrayXarray(i, j, x)\n"
     ]
    },
    {
     "name": "stdout",
     "output_type": "stream",
     "text": [
      "cur_iter  1\n",
      "cur_iter  2\n",
      "cur_iter  3\n",
      "cur_iter  4\n",
      "cur_iter  5\n",
      "cur_iter  6\n",
      "cur_iter  7\n",
      "cur_iter  8\n",
      "cur_iter  9\n",
      "User ID  331\n",
      "wanted_items length:  5\n",
      "Initial top recommendation index 5852\n",
      "target_item:  3279\n",
      "9.284386301826089\n",
      "cur_iter  0\n"
     ]
    },
    {
     "name": "stderr",
     "output_type": "stream",
     "text": [
      "D:\\Anaconda\\envs\\tensorflow_cpu\\lib\\site-packages\\scipy\\sparse\\_index.py:126: SparseEfficiencyWarning: Changing the sparsity structure of a csr_matrix is expensive. lil_matrix is more efficient.\n",
      "  self._set_arrayXarray(i, j, x)\n"
     ]
    },
    {
     "name": "stdout",
     "output_type": "stream",
     "text": [
      "cur_iter  1\n",
      "cur_iter  2\n",
      "cur_iter  3\n",
      "cur_iter  4\n",
      "cur_iter  5\n",
      "cur_iter  6\n",
      "cur_iter  7\n",
      "cur_iter  8\n",
      "cur_iter  9\n",
      "target_item:  4713\n",
      "34.50680308139226\n",
      "cur_iter  0\n"
     ]
    },
    {
     "name": "stderr",
     "output_type": "stream",
     "text": [
      "D:\\Anaconda\\envs\\tensorflow_cpu\\lib\\site-packages\\scipy\\sparse\\_index.py:126: SparseEfficiencyWarning: Changing the sparsity structure of a csr_matrix is expensive. lil_matrix is more efficient.\n",
      "  self._set_arrayXarray(i, j, x)\n"
     ]
    },
    {
     "name": "stdout",
     "output_type": "stream",
     "text": [
      "cur_iter  1\n",
      "no more keyphrase available\n",
      "target_item:  5033\n",
      "3.457781318812522\n",
      "cur_iter  0\n"
     ]
    },
    {
     "name": "stderr",
     "output_type": "stream",
     "text": [
      "D:\\Anaconda\\envs\\tensorflow_cpu\\lib\\site-packages\\scipy\\sparse\\_index.py:126: SparseEfficiencyWarning: Changing the sparsity structure of a csr_matrix is expensive. lil_matrix is more efficient.\n",
      "  self._set_arrayXarray(i, j, x)\n"
     ]
    },
    {
     "name": "stdout",
     "output_type": "stream",
     "text": [
      "cur_iter  1\n",
      "cur_iter  2\n",
      "cur_iter  3\n",
      "cur_iter  4\n",
      "cur_iter  5\n",
      "cur_iter  6\n",
      "cur_iter  7\n",
      "cur_iter  8\n",
      "cur_iter  9\n",
      "target_item:  5850\n",
      "11.167739660005282\n",
      "cur_iter  0\n"
     ]
    },
    {
     "name": "stderr",
     "output_type": "stream",
     "text": [
      "D:\\Anaconda\\envs\\tensorflow_cpu\\lib\\site-packages\\scipy\\sparse\\_index.py:126: SparseEfficiencyWarning: Changing the sparsity structure of a csr_matrix is expensive. lil_matrix is more efficient.\n",
      "  self._set_arrayXarray(i, j, x)\n"
     ]
    },
    {
     "name": "stdout",
     "output_type": "stream",
     "text": [
      "cur_iter  1\n",
      "cur_iter  2\n",
      "cur_iter  3\n",
      "cur_iter  4\n",
      "cur_iter  5\n",
      "cur_iter  6\n",
      "cur_iter  7\n",
      "cur_iter  8\n",
      "cur_iter  9\n",
      "target_item:  7199\n",
      "10.351160435327984\n",
      "cur_iter  0\n"
     ]
    },
    {
     "name": "stderr",
     "output_type": "stream",
     "text": [
      "D:\\Anaconda\\envs\\tensorflow_cpu\\lib\\site-packages\\scipy\\sparse\\_index.py:126: SparseEfficiencyWarning: Changing the sparsity structure of a csr_matrix is expensive. lil_matrix is more efficient.\n",
      "  self._set_arrayXarray(i, j, x)\n"
     ]
    },
    {
     "name": "stdout",
     "output_type": "stream",
     "text": [
      "cur_iter  1\n",
      "cur_iter  2\n",
      "cur_iter  3\n",
      "cur_iter  4\n",
      "cur_iter  5\n",
      "cur_iter  6\n",
      "cur_iter  7\n",
      "cur_iter  8\n",
      "cur_iter  9\n",
      "User ID  332\n",
      "wanted_items length:  0\n",
      "Initial top recommendation index 7455\n",
      "User ID  333\n",
      "wanted_items length:  20\n",
      "Initial top recommendation index 6222\n",
      "target_item:  570\n",
      "7.371595370426803\n",
      "cur_iter  0\n"
     ]
    },
    {
     "name": "stderr",
     "output_type": "stream",
     "text": [
      "D:\\Anaconda\\envs\\tensorflow_cpu\\lib\\site-packages\\scipy\\sparse\\_index.py:126: SparseEfficiencyWarning: Changing the sparsity structure of a csr_matrix is expensive. lil_matrix is more efficient.\n",
      "  self._set_arrayXarray(i, j, x)\n"
     ]
    },
    {
     "name": "stdout",
     "output_type": "stream",
     "text": [
      "cur_iter  1\n",
      "cur_iter  2\n",
      "cur_iter  3\n",
      "cur_iter  4\n",
      "cur_iter  5\n",
      "cur_iter  6\n",
      "cur_iter  7\n",
      "cur_iter  8\n",
      "cur_iter  9\n",
      "target_item:  790\n",
      "7.049107267597719\n",
      "cur_iter  0\n"
     ]
    },
    {
     "name": "stderr",
     "output_type": "stream",
     "text": [
      "D:\\Anaconda\\envs\\tensorflow_cpu\\lib\\site-packages\\scipy\\sparse\\_index.py:126: SparseEfficiencyWarning: Changing the sparsity structure of a csr_matrix is expensive. lil_matrix is more efficient.\n",
      "  self._set_arrayXarray(i, j, x)\n"
     ]
    },
    {
     "name": "stdout",
     "output_type": "stream",
     "text": [
      "cur_iter  1\n",
      "cur_iter  2\n",
      "cur_iter  3\n",
      "cur_iter  4\n",
      "cur_iter  5\n",
      "cur_iter  6\n",
      "cur_iter  7\n",
      "cur_iter  8\n",
      "cur_iter  9\n",
      "target_item:  1268\n",
      "10.954568646164262\n",
      "cur_iter  0\n"
     ]
    },
    {
     "name": "stderr",
     "output_type": "stream",
     "text": [
      "D:\\Anaconda\\envs\\tensorflow_cpu\\lib\\site-packages\\scipy\\sparse\\_index.py:126: SparseEfficiencyWarning: Changing the sparsity structure of a csr_matrix is expensive. lil_matrix is more efficient.\n",
      "  self._set_arrayXarray(i, j, x)\n"
     ]
    },
    {
     "name": "stdout",
     "output_type": "stream",
     "text": [
      "cur_iter  1\n",
      "cur_iter  2\n",
      "cur_iter  3\n",
      "cur_iter  4\n",
      "cur_iter  5\n",
      "cur_iter  6\n",
      "cur_iter  7\n",
      "cur_iter  8\n",
      "cur_iter  9\n",
      "target_item:  1863\n",
      "8.389025059354026\n",
      "cur_iter  0\n"
     ]
    },
    {
     "name": "stderr",
     "output_type": "stream",
     "text": [
      "D:\\Anaconda\\envs\\tensorflow_cpu\\lib\\site-packages\\scipy\\sparse\\_index.py:126: SparseEfficiencyWarning: Changing the sparsity structure of a csr_matrix is expensive. lil_matrix is more efficient.\n",
      "  self._set_arrayXarray(i, j, x)\n"
     ]
    },
    {
     "name": "stdout",
     "output_type": "stream",
     "text": [
      "cur_iter  1\n",
      "cur_iter  2\n",
      "cur_iter  3\n",
      "cur_iter  4\n",
      "cur_iter  5\n",
      "cur_iter  6\n",
      "cur_iter  7\n",
      "cur_iter  8\n",
      "cur_iter  9\n",
      "target_item:  1887\n",
      "22.50692542543402\n",
      "cur_iter  0\n"
     ]
    },
    {
     "name": "stderr",
     "output_type": "stream",
     "text": [
      "D:\\Anaconda\\envs\\tensorflow_cpu\\lib\\site-packages\\scipy\\sparse\\_index.py:126: SparseEfficiencyWarning: Changing the sparsity structure of a csr_matrix is expensive. lil_matrix is more efficient.\n",
      "  self._set_arrayXarray(i, j, x)\n"
     ]
    },
    {
     "name": "stdout",
     "output_type": "stream",
     "text": [
      "cur_iter  1\n",
      "cur_iter  2\n",
      "cur_iter  3\n",
      "cur_iter  4\n",
      "cur_iter  5\n",
      "cur_iter  6\n",
      "cur_iter  7\n",
      "no more keyphrase available\n",
      "target_item:  2299\n",
      "7.43890419145464\n",
      "cur_iter  0\n"
     ]
    },
    {
     "name": "stderr",
     "output_type": "stream",
     "text": [
      "D:\\Anaconda\\envs\\tensorflow_cpu\\lib\\site-packages\\scipy\\sparse\\_index.py:126: SparseEfficiencyWarning: Changing the sparsity structure of a csr_matrix is expensive. lil_matrix is more efficient.\n",
      "  self._set_arrayXarray(i, j, x)\n"
     ]
    },
    {
     "name": "stdout",
     "output_type": "stream",
     "text": [
      "cur_iter  1\n",
      "cur_iter  2\n",
      "cur_iter  3\n",
      "cur_iter  4\n",
      "cur_iter  5\n",
      "cur_iter  6\n",
      "cur_iter  7\n",
      "cur_iter  8\n",
      "cur_iter  9\n",
      "target_item:  2898\n",
      "7.387350683613477\n",
      "cur_iter  0\n"
     ]
    },
    {
     "name": "stderr",
     "output_type": "stream",
     "text": [
      "D:\\Anaconda\\envs\\tensorflow_cpu\\lib\\site-packages\\scipy\\sparse\\_index.py:126: SparseEfficiencyWarning: Changing the sparsity structure of a csr_matrix is expensive. lil_matrix is more efficient.\n",
      "  self._set_arrayXarray(i, j, x)\n"
     ]
    },
    {
     "name": "stdout",
     "output_type": "stream",
     "text": [
      "cur_iter  1\n",
      "cur_iter  2\n",
      "cur_iter  3\n",
      "cur_iter  4\n",
      "cur_iter  5\n",
      "cur_iter  6\n",
      "cur_iter  7\n",
      "cur_iter  8\n",
      "cur_iter  9\n",
      "target_item:  3064\n",
      "13.846205820926116\n",
      "cur_iter  0\n"
     ]
    },
    {
     "name": "stderr",
     "output_type": "stream",
     "text": [
      "D:\\Anaconda\\envs\\tensorflow_cpu\\lib\\site-packages\\scipy\\sparse\\_index.py:126: SparseEfficiencyWarning: Changing the sparsity structure of a csr_matrix is expensive. lil_matrix is more efficient.\n",
      "  self._set_arrayXarray(i, j, x)\n"
     ]
    },
    {
     "name": "stdout",
     "output_type": "stream",
     "text": [
      "cur_iter  1\n",
      "cur_iter  2\n",
      "cur_iter  3\n",
      "cur_iter  4\n",
      "cur_iter  5\n",
      "cur_iter  6\n",
      "cur_iter  7\n",
      "cur_iter  8\n",
      "cur_iter  9\n",
      "target_item:  3417\n",
      "13.08251386351185\n",
      "cur_iter  0\n"
     ]
    },
    {
     "name": "stderr",
     "output_type": "stream",
     "text": [
      "D:\\Anaconda\\envs\\tensorflow_cpu\\lib\\site-packages\\scipy\\sparse\\_index.py:126: SparseEfficiencyWarning: Changing the sparsity structure of a csr_matrix is expensive. lil_matrix is more efficient.\n",
      "  self._set_arrayXarray(i, j, x)\n"
     ]
    },
    {
     "name": "stdout",
     "output_type": "stream",
     "text": [
      "cur_iter  1\n",
      "cur_iter  2\n",
      "cur_iter  3\n",
      "cur_iter  4\n",
      "cur_iter  5\n",
      "cur_iter  6\n",
      "cur_iter  7\n",
      "cur_iter  8\n",
      "cur_iter  9\n",
      "target_item:  3428\n",
      "5.802086874071392\n",
      "cur_iter  0\n"
     ]
    },
    {
     "name": "stderr",
     "output_type": "stream",
     "text": [
      "D:\\Anaconda\\envs\\tensorflow_cpu\\lib\\site-packages\\scipy\\sparse\\_index.py:126: SparseEfficiencyWarning: Changing the sparsity structure of a csr_matrix is expensive. lil_matrix is more efficient.\n",
      "  self._set_arrayXarray(i, j, x)\n"
     ]
    },
    {
     "name": "stdout",
     "output_type": "stream",
     "text": [
      "cur_iter  1\n",
      "cur_iter  2\n",
      "cur_iter  3\n",
      "cur_iter  4\n",
      "cur_iter  5\n",
      "cur_iter  6\n",
      "cur_iter  7\n",
      "cur_iter  8\n",
      "cur_iter  9\n",
      "target_item:  3585\n",
      "16.8153845967463\n",
      "cur_iter  0\n"
     ]
    },
    {
     "name": "stderr",
     "output_type": "stream",
     "text": [
      "D:\\Anaconda\\envs\\tensorflow_cpu\\lib\\site-packages\\scipy\\sparse\\_index.py:126: SparseEfficiencyWarning: Changing the sparsity structure of a csr_matrix is expensive. lil_matrix is more efficient.\n",
      "  self._set_arrayXarray(i, j, x)\n"
     ]
    },
    {
     "name": "stdout",
     "output_type": "stream",
     "text": [
      "cur_iter  1\n",
      "cur_iter  2\n",
      "cur_iter  3\n",
      "cur_iter  4\n",
      "cur_iter  5\n",
      "cur_iter  6\n",
      "cur_iter  7\n",
      "cur_iter  8\n",
      "cur_iter  9\n",
      "User ID  334\n",
      "wanted_items length:  8\n",
      "Initial top recommendation index 4443\n",
      "target_item:  276\n",
      "1.9383252703742073\n",
      "cur_iter  0\n"
     ]
    },
    {
     "name": "stderr",
     "output_type": "stream",
     "text": [
      "D:\\Anaconda\\envs\\tensorflow_cpu\\lib\\site-packages\\scipy\\sparse\\_index.py:126: SparseEfficiencyWarning: Changing the sparsity structure of a csr_matrix is expensive. lil_matrix is more efficient.\n",
      "  self._set_arrayXarray(i, j, x)\n"
     ]
    },
    {
     "name": "stdout",
     "output_type": "stream",
     "text": [
      "cur_iter  1\n",
      "cur_iter  2\n",
      "cur_iter  3\n",
      "cur_iter  4\n",
      "cur_iter  5\n",
      "cur_iter  6\n",
      "cur_iter  7\n",
      "cur_iter  8\n",
      "cur_iter  9\n",
      "target_item:  535\n",
      "2.9771960269649753\n",
      "cur_iter  0\n"
     ]
    },
    {
     "name": "stderr",
     "output_type": "stream",
     "text": [
      "D:\\Anaconda\\envs\\tensorflow_cpu\\lib\\site-packages\\scipy\\sparse\\_index.py:126: SparseEfficiencyWarning: Changing the sparsity structure of a csr_matrix is expensive. lil_matrix is more efficient.\n",
      "  self._set_arrayXarray(i, j, x)\n"
     ]
    },
    {
     "name": "stdout",
     "output_type": "stream",
     "text": [
      "cur_iter  1\n",
      "cur_iter  2\n",
      "cur_iter  3\n",
      "cur_iter  4\n",
      "cur_iter  5\n",
      "cur_iter  6\n",
      "cur_iter  7\n",
      "cur_iter  8\n",
      "cur_iter  9\n",
      "target_item:  3416\n",
      "7.007151242677082\n",
      "cur_iter  0\n"
     ]
    },
    {
     "name": "stderr",
     "output_type": "stream",
     "text": [
      "D:\\Anaconda\\envs\\tensorflow_cpu\\lib\\site-packages\\scipy\\sparse\\_index.py:126: SparseEfficiencyWarning: Changing the sparsity structure of a csr_matrix is expensive. lil_matrix is more efficient.\n",
      "  self._set_arrayXarray(i, j, x)\n"
     ]
    },
    {
     "name": "stdout",
     "output_type": "stream",
     "text": [
      "cur_iter  1\n",
      "cur_iter  2\n",
      "cur_iter  3\n",
      "cur_iter  4\n",
      "cur_iter  5\n",
      "no more keyphrase available\n",
      "target_item:  3499\n",
      "1.5842739731201618\n",
      "cur_iter  0\n"
     ]
    },
    {
     "name": "stderr",
     "output_type": "stream",
     "text": [
      "D:\\Anaconda\\envs\\tensorflow_cpu\\lib\\site-packages\\scipy\\sparse\\_index.py:126: SparseEfficiencyWarning: Changing the sparsity structure of a csr_matrix is expensive. lil_matrix is more efficient.\n",
      "  self._set_arrayXarray(i, j, x)\n"
     ]
    },
    {
     "name": "stdout",
     "output_type": "stream",
     "text": [
      "cur_iter  1\n",
      "cur_iter  2\n",
      "cur_iter  3\n",
      "cur_iter  4\n",
      "cur_iter  5\n",
      "cur_iter  6\n",
      "cur_iter  7\n",
      "cur_iter  8\n",
      "cur_iter  9\n",
      "target_item:  3646\n",
      "2.4259717385889417\n",
      "cur_iter  0\n"
     ]
    },
    {
     "name": "stderr",
     "output_type": "stream",
     "text": [
      "D:\\Anaconda\\envs\\tensorflow_cpu\\lib\\site-packages\\scipy\\sparse\\_index.py:126: SparseEfficiencyWarning: Changing the sparsity structure of a csr_matrix is expensive. lil_matrix is more efficient.\n",
      "  self._set_arrayXarray(i, j, x)\n"
     ]
    },
    {
     "name": "stdout",
     "output_type": "stream",
     "text": [
      "cur_iter  1\n",
      "cur_iter  2\n",
      "cur_iter  3\n",
      "cur_iter  4\n",
      "cur_iter  5\n",
      "cur_iter  6\n",
      "cur_iter  7\n",
      "cur_iter  8\n",
      "cur_iter  9\n",
      "target_item:  3700\n",
      "2.7889782859697334\n",
      "cur_iter  0\n"
     ]
    },
    {
     "name": "stderr",
     "output_type": "stream",
     "text": [
      "D:\\Anaconda\\envs\\tensorflow_cpu\\lib\\site-packages\\scipy\\sparse\\_index.py:126: SparseEfficiencyWarning: Changing the sparsity structure of a csr_matrix is expensive. lil_matrix is more efficient.\n",
      "  self._set_arrayXarray(i, j, x)\n"
     ]
    },
    {
     "name": "stdout",
     "output_type": "stream",
     "text": [
      "cur_iter  1\n",
      "cur_iter  2\n",
      "cur_iter  3\n",
      "cur_iter  4\n",
      "cur_iter  5\n",
      "cur_iter  6\n",
      "cur_iter  7\n",
      "cur_iter  8\n",
      "cur_iter  9\n",
      "target_item:  5972\n",
      "3.2414727426698846\n",
      "cur_iter  0\n"
     ]
    },
    {
     "name": "stderr",
     "output_type": "stream",
     "text": [
      "D:\\Anaconda\\envs\\tensorflow_cpu\\lib\\site-packages\\scipy\\sparse\\_index.py:126: SparseEfficiencyWarning: Changing the sparsity structure of a csr_matrix is expensive. lil_matrix is more efficient.\n",
      "  self._set_arrayXarray(i, j, x)\n"
     ]
    },
    {
     "name": "stdout",
     "output_type": "stream",
     "text": [
      "cur_iter  1\n",
      "cur_iter  2\n",
      "cur_iter  3\n",
      "cur_iter  4\n",
      "cur_iter  5\n",
      "cur_iter  6\n",
      "cur_iter  7\n",
      "cur_iter  8\n",
      "cur_iter  9\n",
      "target_item:  7090\n",
      "31.265193468345387\n",
      "cur_iter  0\n"
     ]
    },
    {
     "name": "stderr",
     "output_type": "stream",
     "text": [
      "D:\\Anaconda\\envs\\tensorflow_cpu\\lib\\site-packages\\scipy\\sparse\\_index.py:126: SparseEfficiencyWarning: Changing the sparsity structure of a csr_matrix is expensive. lil_matrix is more efficient.\n",
      "  self._set_arrayXarray(i, j, x)\n"
     ]
    },
    {
     "name": "stdout",
     "output_type": "stream",
     "text": [
      "cur_iter  1\n",
      "cur_iter  2\n",
      "cur_iter  3\n",
      "cur_iter  4\n",
      "cur_iter  5\n",
      "no more keyphrase available\n",
      "User ID  335\n",
      "wanted_items length:  9\n",
      "Initial top recommendation index 3772\n",
      "target_item:  2013\n",
      "6.379761045614828\n",
      "cur_iter  0\n"
     ]
    },
    {
     "name": "stderr",
     "output_type": "stream",
     "text": [
      "D:\\Anaconda\\envs\\tensorflow_cpu\\lib\\site-packages\\scipy\\sparse\\_index.py:126: SparseEfficiencyWarning: Changing the sparsity structure of a csr_matrix is expensive. lil_matrix is more efficient.\n",
      "  self._set_arrayXarray(i, j, x)\n"
     ]
    },
    {
     "name": "stdout",
     "output_type": "stream",
     "text": [
      "cur_iter  1\n",
      "cur_iter  2\n",
      "cur_iter  3\n",
      "cur_iter  4\n",
      "cur_iter  5\n",
      "cur_iter  6\n",
      "cur_iter  7\n",
      "cur_iter  8\n",
      "cur_iter  9\n",
      "target_item:  2573\n",
      "2.2179468252469405\n",
      "cur_iter  0\n"
     ]
    },
    {
     "name": "stderr",
     "output_type": "stream",
     "text": [
      "D:\\Anaconda\\envs\\tensorflow_cpu\\lib\\site-packages\\scipy\\sparse\\_index.py:126: SparseEfficiencyWarning: Changing the sparsity structure of a csr_matrix is expensive. lil_matrix is more efficient.\n",
      "  self._set_arrayXarray(i, j, x)\n"
     ]
    },
    {
     "name": "stdout",
     "output_type": "stream",
     "text": [
      "cur_iter  1\n",
      "cur_iter  2\n",
      "cur_iter  3\n",
      "cur_iter  4\n",
      "cur_iter  5\n",
      "cur_iter  6\n",
      "cur_iter  7\n",
      "cur_iter  8\n",
      "cur_iter  9\n",
      "target_item:  3983\n",
      "3.9504496022454987\n",
      "cur_iter  0\n"
     ]
    },
    {
     "name": "stderr",
     "output_type": "stream",
     "text": [
      "D:\\Anaconda\\envs\\tensorflow_cpu\\lib\\site-packages\\scipy\\sparse\\_index.py:126: SparseEfficiencyWarning: Changing the sparsity structure of a csr_matrix is expensive. lil_matrix is more efficient.\n",
      "  self._set_arrayXarray(i, j, x)\n"
     ]
    },
    {
     "name": "stdout",
     "output_type": "stream",
     "text": [
      "cur_iter  1\n",
      "cur_iter  2\n",
      "cur_iter  3\n",
      "cur_iter  4\n",
      "cur_iter  5\n",
      "cur_iter  6\n",
      "cur_iter  7\n",
      "cur_iter  8\n",
      "cur_iter  9\n",
      "target_item:  4495\n",
      "2.61582894478488\n",
      "cur_iter  0\n"
     ]
    },
    {
     "name": "stderr",
     "output_type": "stream",
     "text": [
      "D:\\Anaconda\\envs\\tensorflow_cpu\\lib\\site-packages\\scipy\\sparse\\_index.py:126: SparseEfficiencyWarning: Changing the sparsity structure of a csr_matrix is expensive. lil_matrix is more efficient.\n",
      "  self._set_arrayXarray(i, j, x)\n"
     ]
    },
    {
     "name": "stdout",
     "output_type": "stream",
     "text": [
      "cur_iter  1\n",
      "cur_iter  2\n",
      "cur_iter  3\n",
      "cur_iter  4\n",
      "cur_iter  5\n",
      "cur_iter  6\n",
      "cur_iter  7\n",
      "cur_iter  8\n",
      "cur_iter  9\n",
      "target_item:  4683\n",
      "4.182686355787155\n",
      "cur_iter  0\n"
     ]
    },
    {
     "name": "stderr",
     "output_type": "stream",
     "text": [
      "D:\\Anaconda\\envs\\tensorflow_cpu\\lib\\site-packages\\scipy\\sparse\\_index.py:126: SparseEfficiencyWarning: Changing the sparsity structure of a csr_matrix is expensive. lil_matrix is more efficient.\n",
      "  self._set_arrayXarray(i, j, x)\n"
     ]
    },
    {
     "name": "stdout",
     "output_type": "stream",
     "text": [
      "cur_iter  1\n",
      "cur_iter  2\n",
      "cur_iter  3\n",
      "cur_iter  4\n",
      "cur_iter  5\n",
      "cur_iter  6\n",
      "cur_iter  7\n",
      "cur_iter  8\n",
      "cur_iter  9\n",
      "target_item:  6068\n",
      "31.064527600905308\n",
      "cur_iter  0\n"
     ]
    },
    {
     "name": "stderr",
     "output_type": "stream",
     "text": [
      "D:\\Anaconda\\envs\\tensorflow_cpu\\lib\\site-packages\\scipy\\sparse\\_index.py:126: SparseEfficiencyWarning: Changing the sparsity structure of a csr_matrix is expensive. lil_matrix is more efficient.\n",
      "  self._set_arrayXarray(i, j, x)\n"
     ]
    },
    {
     "name": "stdout",
     "output_type": "stream",
     "text": [
      "cur_iter  1\n",
      "cur_iter  2\n",
      "cur_iter  3\n",
      "no more keyphrase available\n",
      "target_item:  6302\n",
      "92.2462516989466\n",
      "cur_iter  0\n",
      "no more keyphrase available\n",
      "target_item:  6815\n",
      "8.525645816893643\n",
      "cur_iter  0\n"
     ]
    },
    {
     "name": "stderr",
     "output_type": "stream",
     "text": [
      "D:\\Anaconda\\envs\\tensorflow_cpu\\lib\\site-packages\\scipy\\sparse\\_index.py:126: SparseEfficiencyWarning: Changing the sparsity structure of a csr_matrix is expensive. lil_matrix is more efficient.\n",
      "  self._set_arrayXarray(i, j, x)\n"
     ]
    },
    {
     "name": "stdout",
     "output_type": "stream",
     "text": [
      "cur_iter  1\n",
      "cur_iter  2\n",
      "cur_iter  3\n",
      "cur_iter  4\n",
      "cur_iter  5\n",
      "cur_iter  6\n",
      "cur_iter  7\n",
      "cur_iter  8\n",
      "cur_iter  9\n",
      "target_item:  7303\n",
      "8.127281518092673\n",
      "cur_iter  0\n"
     ]
    },
    {
     "name": "stderr",
     "output_type": "stream",
     "text": [
      "D:\\Anaconda\\envs\\tensorflow_cpu\\lib\\site-packages\\scipy\\sparse\\_index.py:126: SparseEfficiencyWarning: Changing the sparsity structure of a csr_matrix is expensive. lil_matrix is more efficient.\n",
      "  self._set_arrayXarray(i, j, x)\n"
     ]
    },
    {
     "name": "stdout",
     "output_type": "stream",
     "text": [
      "cur_iter  1\n",
      "cur_iter  2\n",
      "cur_iter  3\n",
      "cur_iter  4\n",
      "cur_iter  5\n",
      "cur_iter  6\n",
      "cur_iter  7\n",
      "cur_iter  8\n",
      "cur_iter  9\n",
      "User ID  336\n",
      "wanted_items length:  5\n",
      "Initial top recommendation index 6498\n",
      "target_item:  593\n",
      "14.910754313731104\n",
      "cur_iter  0\n"
     ]
    },
    {
     "name": "stderr",
     "output_type": "stream",
     "text": [
      "D:\\Anaconda\\envs\\tensorflow_cpu\\lib\\site-packages\\scipy\\sparse\\_index.py:126: SparseEfficiencyWarning: Changing the sparsity structure of a csr_matrix is expensive. lil_matrix is more efficient.\n",
      "  self._set_arrayXarray(i, j, x)\n"
     ]
    },
    {
     "name": "stdout",
     "output_type": "stream",
     "text": [
      "cur_iter  1\n",
      "cur_iter  2\n",
      "no more keyphrase available\n",
      "target_item:  3198\n",
      "15.778408250311713\n",
      "cur_iter  0\n"
     ]
    },
    {
     "name": "stderr",
     "output_type": "stream",
     "text": [
      "D:\\Anaconda\\envs\\tensorflow_cpu\\lib\\site-packages\\scipy\\sparse\\_index.py:126: SparseEfficiencyWarning: Changing the sparsity structure of a csr_matrix is expensive. lil_matrix is more efficient.\n",
      "  self._set_arrayXarray(i, j, x)\n"
     ]
    },
    {
     "name": "stdout",
     "output_type": "stream",
     "text": [
      "cur_iter  1\n",
      "cur_iter  2\n",
      "no more keyphrase available\n",
      "target_item:  3337\n",
      "3.831325997991371\n",
      "cur_iter  0\n"
     ]
    },
    {
     "name": "stderr",
     "output_type": "stream",
     "text": [
      "D:\\Anaconda\\envs\\tensorflow_cpu\\lib\\site-packages\\scipy\\sparse\\_index.py:126: SparseEfficiencyWarning: Changing the sparsity structure of a csr_matrix is expensive. lil_matrix is more efficient.\n",
      "  self._set_arrayXarray(i, j, x)\n"
     ]
    },
    {
     "name": "stdout",
     "output_type": "stream",
     "text": [
      "cur_iter  1\n",
      "cur_iter  2\n",
      "cur_iter  3\n",
      "cur_iter  4\n",
      "cur_iter  5\n",
      "cur_iter  6\n",
      "cur_iter  7\n",
      "cur_iter  8\n",
      "cur_iter  9\n",
      "target_item:  6149\n",
      "9.681149757579533\n",
      "cur_iter  0\n"
     ]
    },
    {
     "name": "stderr",
     "output_type": "stream",
     "text": [
      "D:\\Anaconda\\envs\\tensorflow_cpu\\lib\\site-packages\\scipy\\sparse\\_index.py:126: SparseEfficiencyWarning: Changing the sparsity structure of a csr_matrix is expensive. lil_matrix is more efficient.\n",
      "  self._set_arrayXarray(i, j, x)\n"
     ]
    },
    {
     "name": "stdout",
     "output_type": "stream",
     "text": [
      "cur_iter  1\n",
      "cur_iter  2\n",
      "cur_iter  3\n",
      "cur_iter  4\n",
      "no more keyphrase available\n",
      "target_item:  6811\n",
      "6.697612468691659\n",
      "cur_iter  0\n"
     ]
    },
    {
     "name": "stderr",
     "output_type": "stream",
     "text": [
      "D:\\Anaconda\\envs\\tensorflow_cpu\\lib\\site-packages\\scipy\\sparse\\_index.py:126: SparseEfficiencyWarning: Changing the sparsity structure of a csr_matrix is expensive. lil_matrix is more efficient.\n",
      "  self._set_arrayXarray(i, j, x)\n"
     ]
    },
    {
     "name": "stdout",
     "output_type": "stream",
     "text": [
      "cur_iter  1\n",
      "cur_iter  2\n",
      "cur_iter  3\n",
      "cur_iter  4\n",
      "cur_iter  5\n",
      "cur_iter  6\n",
      "cur_iter  7\n",
      "cur_iter  8\n",
      "cur_iter  9\n",
      "User ID  337\n",
      "wanted_items length:  7\n",
      "Initial top recommendation index 39\n",
      "target_item:  533\n",
      "3.2696969733142396\n",
      "cur_iter  0\n"
     ]
    },
    {
     "name": "stderr",
     "output_type": "stream",
     "text": [
      "D:\\Anaconda\\envs\\tensorflow_cpu\\lib\\site-packages\\scipy\\sparse\\_index.py:126: SparseEfficiencyWarning: Changing the sparsity structure of a csr_matrix is expensive. lil_matrix is more efficient.\n",
      "  self._set_arrayXarray(i, j, x)\n"
     ]
    },
    {
     "name": "stdout",
     "output_type": "stream",
     "text": [
      "cur_iter  1\n",
      "cur_iter  2\n",
      "cur_iter  3\n",
      "cur_iter  4\n",
      "cur_iter  5\n",
      "cur_iter  6\n",
      "cur_iter  7\n",
      "cur_iter  8\n",
      "cur_iter  9\n",
      "target_item:  1043\n",
      "8.256168857682496\n",
      "cur_iter  0\n"
     ]
    },
    {
     "name": "stderr",
     "output_type": "stream",
     "text": [
      "D:\\Anaconda\\envs\\tensorflow_cpu\\lib\\site-packages\\scipy\\sparse\\_index.py:126: SparseEfficiencyWarning: Changing the sparsity structure of a csr_matrix is expensive. lil_matrix is more efficient.\n",
      "  self._set_arrayXarray(i, j, x)\n"
     ]
    },
    {
     "name": "stdout",
     "output_type": "stream",
     "text": [
      "cur_iter  1\n",
      "cur_iter  2\n",
      "cur_iter  3\n",
      "cur_iter  4\n",
      "cur_iter  5\n",
      "cur_iter  6\n",
      "cur_iter  7\n",
      "cur_iter  8\n",
      "cur_iter  9\n",
      "target_item:  2964\n",
      "7.560744827995222\n",
      "cur_iter  0\n"
     ]
    },
    {
     "name": "stderr",
     "output_type": "stream",
     "text": [
      "D:\\Anaconda\\envs\\tensorflow_cpu\\lib\\site-packages\\scipy\\sparse\\_index.py:126: SparseEfficiencyWarning: Changing the sparsity structure of a csr_matrix is expensive. lil_matrix is more efficient.\n",
      "  self._set_arrayXarray(i, j, x)\n"
     ]
    },
    {
     "name": "stdout",
     "output_type": "stream",
     "text": [
      "cur_iter  1\n",
      "cur_iter  2\n",
      "cur_iter  3\n",
      "cur_iter  4\n",
      "cur_iter  5\n",
      "cur_iter  6\n",
      "cur_iter  7\n",
      "cur_iter  8\n",
      "cur_iter  9\n",
      "target_item:  3185\n",
      "1.932391399426706\n",
      "cur_iter  0\n"
     ]
    },
    {
     "name": "stderr",
     "output_type": "stream",
     "text": [
      "D:\\Anaconda\\envs\\tensorflow_cpu\\lib\\site-packages\\scipy\\sparse\\_index.py:126: SparseEfficiencyWarning: Changing the sparsity structure of a csr_matrix is expensive. lil_matrix is more efficient.\n",
      "  self._set_arrayXarray(i, j, x)\n"
     ]
    },
    {
     "name": "stdout",
     "output_type": "stream",
     "text": [
      "cur_iter  1\n",
      "cur_iter  2\n",
      "cur_iter  3\n",
      "cur_iter  4\n",
      "cur_iter  5\n",
      "cur_iter  6\n",
      "cur_iter  7\n",
      "cur_iter  8\n",
      "cur_iter  9\n",
      "target_item:  3748\n",
      "1.5228518085386895\n",
      "cur_iter  0\n"
     ]
    },
    {
     "name": "stderr",
     "output_type": "stream",
     "text": [
      "D:\\Anaconda\\envs\\tensorflow_cpu\\lib\\site-packages\\scipy\\sparse\\_index.py:126: SparseEfficiencyWarning: Changing the sparsity structure of a csr_matrix is expensive. lil_matrix is more efficient.\n",
      "  self._set_arrayXarray(i, j, x)\n"
     ]
    },
    {
     "name": "stdout",
     "output_type": "stream",
     "text": [
      "cur_iter  1\n",
      "cur_iter  2\n",
      "cur_iter  3\n",
      "cur_iter  4\n",
      "cur_iter  5\n",
      "cur_iter  6\n",
      "cur_iter  7\n",
      "cur_iter  8\n",
      "cur_iter  9\n",
      "target_item:  5080\n",
      "3.8943133187649437\n",
      "cur_iter  0\n"
     ]
    },
    {
     "name": "stderr",
     "output_type": "stream",
     "text": [
      "D:\\Anaconda\\envs\\tensorflow_cpu\\lib\\site-packages\\scipy\\sparse\\_index.py:126: SparseEfficiencyWarning: Changing the sparsity structure of a csr_matrix is expensive. lil_matrix is more efficient.\n",
      "  self._set_arrayXarray(i, j, x)\n"
     ]
    },
    {
     "name": "stdout",
     "output_type": "stream",
     "text": [
      "cur_iter  1\n",
      "cur_iter  2\n",
      "cur_iter  3\n",
      "cur_iter  4\n",
      "cur_iter  5\n",
      "cur_iter  6\n",
      "cur_iter  7\n",
      "cur_iter  8\n",
      "cur_iter  9\n",
      "target_item:  5288\n",
      "2.1986914007047744\n",
      "cur_iter  0\n"
     ]
    },
    {
     "name": "stderr",
     "output_type": "stream",
     "text": [
      "D:\\Anaconda\\envs\\tensorflow_cpu\\lib\\site-packages\\scipy\\sparse\\_index.py:126: SparseEfficiencyWarning: Changing the sparsity structure of a csr_matrix is expensive. lil_matrix is more efficient.\n",
      "  self._set_arrayXarray(i, j, x)\n"
     ]
    },
    {
     "name": "stdout",
     "output_type": "stream",
     "text": [
      "cur_iter  1\n",
      "cur_iter  2\n",
      "cur_iter  3\n",
      "cur_iter  4\n",
      "cur_iter  5\n",
      "cur_iter  6\n",
      "cur_iter  7\n",
      "cur_iter  8\n",
      "cur_iter  9\n",
      "User ID  338\n",
      "wanted_items length:  11\n",
      "Initial top recommendation index 2729\n",
      "target_item:  1438\n",
      "13.00260535794041\n",
      "cur_iter  0\n"
     ]
    },
    {
     "name": "stderr",
     "output_type": "stream",
     "text": [
      "D:\\Anaconda\\envs\\tensorflow_cpu\\lib\\site-packages\\scipy\\sparse\\_index.py:126: SparseEfficiencyWarning: Changing the sparsity structure of a csr_matrix is expensive. lil_matrix is more efficient.\n",
      "  self._set_arrayXarray(i, j, x)\n"
     ]
    },
    {
     "name": "stdout",
     "output_type": "stream",
     "text": [
      "cur_iter  1\n",
      "cur_iter  2\n",
      "cur_iter  3\n",
      "cur_iter  4\n",
      "cur_iter  5\n",
      "cur_iter  6\n",
      "cur_iter  7\n",
      "cur_iter  8\n",
      "cur_iter  9\n",
      "target_item:  2812\n",
      "8.843413227291109\n",
      "cur_iter  0\n"
     ]
    },
    {
     "name": "stderr",
     "output_type": "stream",
     "text": [
      "D:\\Anaconda\\envs\\tensorflow_cpu\\lib\\site-packages\\scipy\\sparse\\_index.py:126: SparseEfficiencyWarning: Changing the sparsity structure of a csr_matrix is expensive. lil_matrix is more efficient.\n",
      "  self._set_arrayXarray(i, j, x)\n"
     ]
    },
    {
     "name": "stdout",
     "output_type": "stream",
     "text": [
      "cur_iter  1\n",
      "cur_iter  2\n",
      "cur_iter  3\n",
      "cur_iter  4\n",
      "cur_iter  5\n",
      "cur_iter  6\n",
      "cur_iter  7\n",
      "cur_iter  8\n",
      "cur_iter  9\n",
      "target_item:  3259\n",
      "12.245280783424732\n",
      "cur_iter  0\n"
     ]
    },
    {
     "name": "stderr",
     "output_type": "stream",
     "text": [
      "D:\\Anaconda\\envs\\tensorflow_cpu\\lib\\site-packages\\scipy\\sparse\\_index.py:126: SparseEfficiencyWarning: Changing the sparsity structure of a csr_matrix is expensive. lil_matrix is more efficient.\n",
      "  self._set_arrayXarray(i, j, x)\n"
     ]
    },
    {
     "name": "stdout",
     "output_type": "stream",
     "text": [
      "cur_iter  1\n",
      "cur_iter  2\n",
      "cur_iter  3\n",
      "cur_iter  4\n",
      "cur_iter  5\n",
      "cur_iter  6\n",
      "cur_iter  7\n",
      "cur_iter  8\n",
      "cur_iter  9\n",
      "target_item:  3717\n",
      "15.32738866522186\n",
      "cur_iter  0\n"
     ]
    },
    {
     "name": "stderr",
     "output_type": "stream",
     "text": [
      "D:\\Anaconda\\envs\\tensorflow_cpu\\lib\\site-packages\\scipy\\sparse\\_index.py:126: SparseEfficiencyWarning: Changing the sparsity structure of a csr_matrix is expensive. lil_matrix is more efficient.\n",
      "  self._set_arrayXarray(i, j, x)\n"
     ]
    },
    {
     "name": "stdout",
     "output_type": "stream",
     "text": [
      "cur_iter  1\n",
      "cur_iter  2\n",
      "cur_iter  3\n",
      "cur_iter  4\n",
      "cur_iter  5\n",
      "cur_iter  6\n",
      "cur_iter  7\n",
      "cur_iter  8\n",
      "cur_iter  9\n",
      "target_item:  4423\n",
      "9.54444131687842\n",
      "cur_iter  0\n"
     ]
    },
    {
     "name": "stderr",
     "output_type": "stream",
     "text": [
      "D:\\Anaconda\\envs\\tensorflow_cpu\\lib\\site-packages\\scipy\\sparse\\_index.py:126: SparseEfficiencyWarning: Changing the sparsity structure of a csr_matrix is expensive. lil_matrix is more efficient.\n",
      "  self._set_arrayXarray(i, j, x)\n"
     ]
    },
    {
     "name": "stdout",
     "output_type": "stream",
     "text": [
      "cur_iter  1\n",
      "cur_iter  2\n",
      "cur_iter  3\n",
      "cur_iter  4\n",
      "cur_iter  5\n",
      "cur_iter  6\n",
      "cur_iter  7\n",
      "cur_iter  8\n",
      "cur_iter  9\n",
      "target_item:  5315\n",
      "5.719723903753675\n",
      "cur_iter  0\n"
     ]
    },
    {
     "name": "stderr",
     "output_type": "stream",
     "text": [
      "D:\\Anaconda\\envs\\tensorflow_cpu\\lib\\site-packages\\scipy\\sparse\\_index.py:126: SparseEfficiencyWarning: Changing the sparsity structure of a csr_matrix is expensive. lil_matrix is more efficient.\n",
      "  self._set_arrayXarray(i, j, x)\n"
     ]
    },
    {
     "name": "stdout",
     "output_type": "stream",
     "text": [
      "cur_iter  1\n",
      "cur_iter  2\n",
      "cur_iter  3\n",
      "cur_iter  4\n",
      "cur_iter  5\n",
      "cur_iter  6\n",
      "cur_iter  7\n",
      "cur_iter  8\n",
      "cur_iter  9\n",
      "target_item:  5659\n",
      "4.936712384156181\n",
      "cur_iter  0\n"
     ]
    },
    {
     "name": "stderr",
     "output_type": "stream",
     "text": [
      "D:\\Anaconda\\envs\\tensorflow_cpu\\lib\\site-packages\\scipy\\sparse\\_index.py:126: SparseEfficiencyWarning: Changing the sparsity structure of a csr_matrix is expensive. lil_matrix is more efficient.\n",
      "  self._set_arrayXarray(i, j, x)\n"
     ]
    },
    {
     "name": "stdout",
     "output_type": "stream",
     "text": [
      "cur_iter  1\n",
      "cur_iter  2\n",
      "cur_iter  3\n",
      "cur_iter  4\n",
      "cur_iter  5\n",
      "cur_iter  6\n",
      "cur_iter  7\n",
      "cur_iter  8\n",
      "cur_iter  9\n",
      "target_item:  6454\n",
      "5.220482814625939\n",
      "cur_iter  0\n"
     ]
    },
    {
     "name": "stderr",
     "output_type": "stream",
     "text": [
      "D:\\Anaconda\\envs\\tensorflow_cpu\\lib\\site-packages\\scipy\\sparse\\_index.py:126: SparseEfficiencyWarning: Changing the sparsity structure of a csr_matrix is expensive. lil_matrix is more efficient.\n",
      "  self._set_arrayXarray(i, j, x)\n"
     ]
    },
    {
     "name": "stdout",
     "output_type": "stream",
     "text": [
      "cur_iter  1\n",
      "cur_iter  2\n",
      "cur_iter  3\n",
      "cur_iter  4\n",
      "cur_iter  5\n",
      "cur_iter  6\n",
      "cur_iter  7\n",
      "cur_iter  8\n",
      "cur_iter  9\n",
      "target_item:  6776\n",
      "8.138656753819305\n",
      "cur_iter  0\n"
     ]
    },
    {
     "name": "stderr",
     "output_type": "stream",
     "text": [
      "D:\\Anaconda\\envs\\tensorflow_cpu\\lib\\site-packages\\scipy\\sparse\\_index.py:126: SparseEfficiencyWarning: Changing the sparsity structure of a csr_matrix is expensive. lil_matrix is more efficient.\n",
      "  self._set_arrayXarray(i, j, x)\n"
     ]
    },
    {
     "name": "stdout",
     "output_type": "stream",
     "text": [
      "cur_iter  1\n",
      "cur_iter  2\n",
      "cur_iter  3\n",
      "cur_iter  4\n",
      "cur_iter  5\n",
      "cur_iter  6\n",
      "cur_iter  7\n",
      "cur_iter  8\n",
      "cur_iter  9\n",
      "target_item:  6975\n",
      "8.599062066082752\n",
      "cur_iter  0\n"
     ]
    },
    {
     "name": "stderr",
     "output_type": "stream",
     "text": [
      "D:\\Anaconda\\envs\\tensorflow_cpu\\lib\\site-packages\\scipy\\sparse\\_index.py:126: SparseEfficiencyWarning: Changing the sparsity structure of a csr_matrix is expensive. lil_matrix is more efficient.\n",
      "  self._set_arrayXarray(i, j, x)\n"
     ]
    },
    {
     "name": "stdout",
     "output_type": "stream",
     "text": [
      "cur_iter  1\n",
      "cur_iter  2\n",
      "cur_iter  3\n",
      "cur_iter  4\n",
      "cur_iter  5\n",
      "cur_iter  6\n",
      "cur_iter  7\n",
      "cur_iter  8\n",
      "cur_iter  9\n",
      "target_item:  7205\n",
      "8.940809596378585\n",
      "cur_iter  0\n"
     ]
    },
    {
     "name": "stderr",
     "output_type": "stream",
     "text": [
      "D:\\Anaconda\\envs\\tensorflow_cpu\\lib\\site-packages\\scipy\\sparse\\_index.py:126: SparseEfficiencyWarning: Changing the sparsity structure of a csr_matrix is expensive. lil_matrix is more efficient.\n",
      "  self._set_arrayXarray(i, j, x)\n"
     ]
    },
    {
     "name": "stdout",
     "output_type": "stream",
     "text": [
      "cur_iter  1\n",
      "cur_iter  2\n",
      "cur_iter  3\n",
      "cur_iter  4\n",
      "cur_iter  5\n",
      "cur_iter  6\n",
      "cur_iter  7\n",
      "cur_iter  8\n",
      "cur_iter  9\n",
      "User ID  339\n",
      "wanted_items length:  7\n",
      "Initial top recommendation index 7100\n",
      "target_item:  38\n",
      "25.293083702783406\n",
      "cur_iter  0\n"
     ]
    },
    {
     "name": "stderr",
     "output_type": "stream",
     "text": [
      "D:\\Anaconda\\envs\\tensorflow_cpu\\lib\\site-packages\\scipy\\sparse\\_index.py:126: SparseEfficiencyWarning: Changing the sparsity structure of a csr_matrix is expensive. lil_matrix is more efficient.\n",
      "  self._set_arrayXarray(i, j, x)\n"
     ]
    },
    {
     "name": "stdout",
     "output_type": "stream",
     "text": [
      "cur_iter  1\n",
      "cur_iter  2\n",
      "cur_iter  3\n",
      "cur_iter  4\n",
      "cur_iter  5\n",
      "cur_iter  6\n",
      "cur_iter  7\n",
      "cur_iter  8\n",
      "cur_iter  9\n",
      "target_item:  2630\n",
      "101.38105195156868\n",
      "cur_iter  0\n",
      "no more keyphrase available\n",
      "target_item:  3477\n",
      "25.732562975339988\n",
      "cur_iter  0\n"
     ]
    },
    {
     "name": "stderr",
     "output_type": "stream",
     "text": [
      "D:\\Anaconda\\envs\\tensorflow_cpu\\lib\\site-packages\\scipy\\sparse\\_index.py:126: SparseEfficiencyWarning: Changing the sparsity structure of a csr_matrix is expensive. lil_matrix is more efficient.\n",
      "  self._set_arrayXarray(i, j, x)\n"
     ]
    },
    {
     "name": "stdout",
     "output_type": "stream",
     "text": [
      "cur_iter  1\n",
      "cur_iter  2\n",
      "cur_iter  3\n",
      "cur_iter  4\n",
      "cur_iter  5\n",
      "cur_iter  6\n",
      "cur_iter  7\n",
      "cur_iter  8\n",
      "no more keyphrase available\n",
      "target_item:  3758\n",
      "41.556183703156876\n",
      "cur_iter  0\n"
     ]
    },
    {
     "name": "stderr",
     "output_type": "stream",
     "text": [
      "D:\\Anaconda\\envs\\tensorflow_cpu\\lib\\site-packages\\scipy\\sparse\\_index.py:126: SparseEfficiencyWarning: Changing the sparsity structure of a csr_matrix is expensive. lil_matrix is more efficient.\n",
      "  self._set_arrayXarray(i, j, x)\n"
     ]
    },
    {
     "name": "stdout",
     "output_type": "stream",
     "text": [
      "cur_iter  1\n",
      "cur_iter  2\n",
      "cur_iter  3\n",
      "cur_iter  4\n",
      "no more keyphrase available\n",
      "target_item:  4442\n",
      "28.42638132142929\n",
      "cur_iter  0\n"
     ]
    },
    {
     "name": "stderr",
     "output_type": "stream",
     "text": [
      "D:\\Anaconda\\envs\\tensorflow_cpu\\lib\\site-packages\\scipy\\sparse\\_index.py:126: SparseEfficiencyWarning: Changing the sparsity structure of a csr_matrix is expensive. lil_matrix is more efficient.\n",
      "  self._set_arrayXarray(i, j, x)\n"
     ]
    },
    {
     "name": "stdout",
     "output_type": "stream",
     "text": [
      "cur_iter  1\n",
      "cur_iter  2\n",
      "cur_iter  3\n",
      "cur_iter  4\n",
      "cur_iter  5\n",
      "cur_iter  6\n",
      "cur_iter  7\n",
      "cur_iter  8\n",
      "cur_iter  9\n",
      "target_item:  5424\n",
      "70.21601352431799\n",
      "cur_iter  0\n"
     ]
    },
    {
     "name": "stderr",
     "output_type": "stream",
     "text": [
      "D:\\Anaconda\\envs\\tensorflow_cpu\\lib\\site-packages\\scipy\\sparse\\_index.py:126: SparseEfficiencyWarning: Changing the sparsity structure of a csr_matrix is expensive. lil_matrix is more efficient.\n",
      "  self._set_arrayXarray(i, j, x)\n"
     ]
    },
    {
     "name": "stdout",
     "output_type": "stream",
     "text": [
      "cur_iter  1\n",
      "cur_iter  2\n",
      "cur_iter  3\n",
      "no more keyphrase available\n",
      "target_item:  6681\n",
      "20.052030687651495\n",
      "cur_iter  0\n"
     ]
    },
    {
     "name": "stderr",
     "output_type": "stream",
     "text": [
      "D:\\Anaconda\\envs\\tensorflow_cpu\\lib\\site-packages\\scipy\\sparse\\_index.py:126: SparseEfficiencyWarning: Changing the sparsity structure of a csr_matrix is expensive. lil_matrix is more efficient.\n",
      "  self._set_arrayXarray(i, j, x)\n"
     ]
    },
    {
     "name": "stdout",
     "output_type": "stream",
     "text": [
      "cur_iter  1\n",
      "cur_iter  2\n",
      "cur_iter  3\n",
      "cur_iter  4\n",
      "cur_iter  5\n",
      "cur_iter  6\n",
      "cur_iter  7\n",
      "cur_iter  8\n",
      "cur_iter  9\n",
      "User ID  340\n",
      "wanted_items length:  4\n",
      "Initial top recommendation index 2804\n",
      "target_item:  2489\n",
      "12.263708542969425\n",
      "cur_iter  0\n"
     ]
    },
    {
     "name": "stderr",
     "output_type": "stream",
     "text": [
      "D:\\Anaconda\\envs\\tensorflow_cpu\\lib\\site-packages\\scipy\\sparse\\_index.py:126: SparseEfficiencyWarning: Changing the sparsity structure of a csr_matrix is expensive. lil_matrix is more efficient.\n",
      "  self._set_arrayXarray(i, j, x)\n"
     ]
    },
    {
     "name": "stdout",
     "output_type": "stream",
     "text": [
      "cur_iter  1\n",
      "cur_iter  2\n",
      "cur_iter  3\n",
      "cur_iter  4\n",
      "cur_iter  5\n",
      "cur_iter  6\n",
      "cur_iter  7\n",
      "no more keyphrase available\n",
      "target_item:  4417\n",
      "14.459417314399161\n",
      "cur_iter  0\n"
     ]
    },
    {
     "name": "stderr",
     "output_type": "stream",
     "text": [
      "D:\\Anaconda\\envs\\tensorflow_cpu\\lib\\site-packages\\scipy\\sparse\\_index.py:126: SparseEfficiencyWarning: Changing the sparsity structure of a csr_matrix is expensive. lil_matrix is more efficient.\n",
      "  self._set_arrayXarray(i, j, x)\n"
     ]
    },
    {
     "name": "stdout",
     "output_type": "stream",
     "text": [
      "cur_iter  1\n",
      "cur_iter  2\n",
      "cur_iter  3\n",
      "cur_iter  4\n",
      "cur_iter  5\n",
      "cur_iter  6\n",
      "no more keyphrase available\n",
      "target_item:  5626\n",
      "5.820064100887976\n",
      "cur_iter  0\n"
     ]
    },
    {
     "name": "stderr",
     "output_type": "stream",
     "text": [
      "D:\\Anaconda\\envs\\tensorflow_cpu\\lib\\site-packages\\scipy\\sparse\\_index.py:126: SparseEfficiencyWarning: Changing the sparsity structure of a csr_matrix is expensive. lil_matrix is more efficient.\n",
      "  self._set_arrayXarray(i, j, x)\n"
     ]
    },
    {
     "name": "stdout",
     "output_type": "stream",
     "text": [
      "cur_iter  1\n",
      "cur_iter  2\n",
      "cur_iter  3\n",
      "cur_iter  4\n",
      "cur_iter  5\n",
      "cur_iter  6\n",
      "cur_iter  7\n",
      "cur_iter  8\n",
      "cur_iter  9\n",
      "target_item:  6644\n",
      "5.316535479512822\n",
      "cur_iter  0\n"
     ]
    },
    {
     "name": "stderr",
     "output_type": "stream",
     "text": [
      "D:\\Anaconda\\envs\\tensorflow_cpu\\lib\\site-packages\\scipy\\sparse\\_index.py:126: SparseEfficiencyWarning: Changing the sparsity structure of a csr_matrix is expensive. lil_matrix is more efficient.\n",
      "  self._set_arrayXarray(i, j, x)\n"
     ]
    },
    {
     "name": "stdout",
     "output_type": "stream",
     "text": [
      "cur_iter  1\n",
      "cur_iter  2\n",
      "cur_iter  3\n",
      "cur_iter  4\n",
      "cur_iter  5\n",
      "cur_iter  6\n",
      "cur_iter  7\n",
      "cur_iter  8\n",
      "cur_iter  9\n",
      "User ID  341\n",
      "wanted_items length:  27\n",
      "Initial top recommendation index 5081\n",
      "target_item:  43\n",
      "4.248640084253566\n",
      "cur_iter  0\n"
     ]
    },
    {
     "name": "stderr",
     "output_type": "stream",
     "text": [
      "D:\\Anaconda\\envs\\tensorflow_cpu\\lib\\site-packages\\scipy\\sparse\\_index.py:126: SparseEfficiencyWarning: Changing the sparsity structure of a csr_matrix is expensive. lil_matrix is more efficient.\n",
      "  self._set_arrayXarray(i, j, x)\n"
     ]
    },
    {
     "name": "stdout",
     "output_type": "stream",
     "text": [
      "cur_iter  1\n",
      "cur_iter  2\n",
      "cur_iter  3\n",
      "cur_iter  4\n",
      "cur_iter  5\n",
      "cur_iter  6\n",
      "cur_iter  7\n",
      "cur_iter  8\n",
      "cur_iter  9\n",
      "target_item:  68\n",
      "8.289863504232017\n",
      "cur_iter  0\n"
     ]
    },
    {
     "name": "stderr",
     "output_type": "stream",
     "text": [
      "D:\\Anaconda\\envs\\tensorflow_cpu\\lib\\site-packages\\scipy\\sparse\\_index.py:126: SparseEfficiencyWarning: Changing the sparsity structure of a csr_matrix is expensive. lil_matrix is more efficient.\n",
      "  self._set_arrayXarray(i, j, x)\n"
     ]
    },
    {
     "name": "stdout",
     "output_type": "stream",
     "text": [
      "cur_iter  1\n",
      "cur_iter  2\n",
      "cur_iter  3\n",
      "cur_iter  4\n",
      "cur_iter  5\n",
      "cur_iter  6\n",
      "cur_iter  7\n",
      "cur_iter  8\n",
      "cur_iter  9\n",
      "target_item:  407\n",
      "14.93244436083478\n",
      "cur_iter  0\n"
     ]
    },
    {
     "name": "stderr",
     "output_type": "stream",
     "text": [
      "D:\\Anaconda\\envs\\tensorflow_cpu\\lib\\site-packages\\scipy\\sparse\\_index.py:126: SparseEfficiencyWarning: Changing the sparsity structure of a csr_matrix is expensive. lil_matrix is more efficient.\n",
      "  self._set_arrayXarray(i, j, x)\n"
     ]
    },
    {
     "name": "stdout",
     "output_type": "stream",
     "text": [
      "cur_iter  1\n",
      "cur_iter  2\n",
      "cur_iter  3\n",
      "cur_iter  4\n",
      "cur_iter  5\n",
      "cur_iter  6\n",
      "cur_iter  7\n",
      "cur_iter  8\n",
      "cur_iter  9\n",
      "target_item:  673\n",
      "4.61680146423987\n",
      "cur_iter  0\n"
     ]
    },
    {
     "name": "stderr",
     "output_type": "stream",
     "text": [
      "D:\\Anaconda\\envs\\tensorflow_cpu\\lib\\site-packages\\scipy\\sparse\\_index.py:126: SparseEfficiencyWarning: Changing the sparsity structure of a csr_matrix is expensive. lil_matrix is more efficient.\n",
      "  self._set_arrayXarray(i, j, x)\n"
     ]
    },
    {
     "name": "stdout",
     "output_type": "stream",
     "text": [
      "cur_iter  1\n",
      "cur_iter  2\n",
      "cur_iter  3\n",
      "cur_iter  4\n",
      "cur_iter  5\n",
      "cur_iter  6\n",
      "cur_iter  7\n",
      "cur_iter  8\n",
      "cur_iter  9\n",
      "target_item:  934\n",
      "8.868559421543068\n",
      "cur_iter  0\n"
     ]
    },
    {
     "name": "stderr",
     "output_type": "stream",
     "text": [
      "D:\\Anaconda\\envs\\tensorflow_cpu\\lib\\site-packages\\scipy\\sparse\\_index.py:126: SparseEfficiencyWarning: Changing the sparsity structure of a csr_matrix is expensive. lil_matrix is more efficient.\n",
      "  self._set_arrayXarray(i, j, x)\n"
     ]
    },
    {
     "name": "stdout",
     "output_type": "stream",
     "text": [
      "cur_iter  1\n",
      "cur_iter  2\n",
      "cur_iter  3\n",
      "cur_iter  4\n",
      "cur_iter  5\n",
      "cur_iter  6\n",
      "cur_iter  7\n",
      "cur_iter  8\n",
      "cur_iter  9\n",
      "target_item:  1244\n",
      "9.552486934291665\n",
      "cur_iter  0\n"
     ]
    },
    {
     "name": "stderr",
     "output_type": "stream",
     "text": [
      "D:\\Anaconda\\envs\\tensorflow_cpu\\lib\\site-packages\\scipy\\sparse\\_index.py:126: SparseEfficiencyWarning: Changing the sparsity structure of a csr_matrix is expensive. lil_matrix is more efficient.\n",
      "  self._set_arrayXarray(i, j, x)\n"
     ]
    },
    {
     "name": "stdout",
     "output_type": "stream",
     "text": [
      "cur_iter  1\n",
      "cur_iter  2\n",
      "cur_iter  3\n",
      "cur_iter  4\n",
      "cur_iter  5\n",
      "cur_iter  6\n",
      "cur_iter  7\n",
      "cur_iter  8\n",
      "cur_iter  9\n",
      "target_item:  1777\n",
      "5.012241134058058\n",
      "cur_iter  0\n"
     ]
    },
    {
     "name": "stderr",
     "output_type": "stream",
     "text": [
      "D:\\Anaconda\\envs\\tensorflow_cpu\\lib\\site-packages\\scipy\\sparse\\_index.py:126: SparseEfficiencyWarning: Changing the sparsity structure of a csr_matrix is expensive. lil_matrix is more efficient.\n",
      "  self._set_arrayXarray(i, j, x)\n"
     ]
    },
    {
     "name": "stdout",
     "output_type": "stream",
     "text": [
      "cur_iter  1\n",
      "cur_iter  2\n",
      "cur_iter  3\n",
      "cur_iter  4\n",
      "cur_iter  5\n",
      "cur_iter  6\n",
      "cur_iter  7\n",
      "cur_iter  8\n",
      "cur_iter  9\n",
      "target_item:  2400\n",
      "7.365855893876869\n",
      "cur_iter  0\n"
     ]
    },
    {
     "name": "stderr",
     "output_type": "stream",
     "text": [
      "D:\\Anaconda\\envs\\tensorflow_cpu\\lib\\site-packages\\scipy\\sparse\\_index.py:126: SparseEfficiencyWarning: Changing the sparsity structure of a csr_matrix is expensive. lil_matrix is more efficient.\n",
      "  self._set_arrayXarray(i, j, x)\n"
     ]
    },
    {
     "name": "stdout",
     "output_type": "stream",
     "text": [
      "cur_iter  1\n",
      "cur_iter  2\n",
      "cur_iter  3\n",
      "cur_iter  4\n",
      "cur_iter  5\n",
      "cur_iter  6\n",
      "cur_iter  7\n",
      "cur_iter  8\n",
      "cur_iter  9\n",
      "target_item:  2569\n",
      "6.373300176456723\n",
      "cur_iter  0\n"
     ]
    },
    {
     "name": "stderr",
     "output_type": "stream",
     "text": [
      "D:\\Anaconda\\envs\\tensorflow_cpu\\lib\\site-packages\\scipy\\sparse\\_index.py:126: SparseEfficiencyWarning: Changing the sparsity structure of a csr_matrix is expensive. lil_matrix is more efficient.\n",
      "  self._set_arrayXarray(i, j, x)\n"
     ]
    },
    {
     "name": "stdout",
     "output_type": "stream",
     "text": [
      "cur_iter  1\n",
      "cur_iter  2\n",
      "cur_iter  3\n",
      "cur_iter  4\n",
      "cur_iter  5\n",
      "cur_iter  6\n",
      "cur_iter  7\n",
      "cur_iter  8\n",
      "cur_iter  9\n",
      "target_item:  2812\n",
      "12.415025973072261\n",
      "cur_iter  0\n"
     ]
    },
    {
     "name": "stderr",
     "output_type": "stream",
     "text": [
      "D:\\Anaconda\\envs\\tensorflow_cpu\\lib\\site-packages\\scipy\\sparse\\_index.py:126: SparseEfficiencyWarning: Changing the sparsity structure of a csr_matrix is expensive. lil_matrix is more efficient.\n",
      "  self._set_arrayXarray(i, j, x)\n"
     ]
    },
    {
     "name": "stdout",
     "output_type": "stream",
     "text": [
      "cur_iter  1\n",
      "cur_iter  2\n",
      "cur_iter  3\n",
      "cur_iter  4\n",
      "cur_iter  5\n",
      "cur_iter  6\n",
      "cur_iter  7\n",
      "cur_iter  8\n",
      "cur_iter  9\n",
      "target_item:  3044\n",
      "5.176004570967962\n",
      "cur_iter  0\n"
     ]
    },
    {
     "name": "stderr",
     "output_type": "stream",
     "text": [
      "D:\\Anaconda\\envs\\tensorflow_cpu\\lib\\site-packages\\scipy\\sparse\\_index.py:126: SparseEfficiencyWarning: Changing the sparsity structure of a csr_matrix is expensive. lil_matrix is more efficient.\n",
      "  self._set_arrayXarray(i, j, x)\n"
     ]
    },
    {
     "name": "stdout",
     "output_type": "stream",
     "text": [
      "cur_iter  1\n",
      "cur_iter  2\n",
      "cur_iter  3\n",
      "cur_iter  4\n",
      "cur_iter  5\n",
      "cur_iter  6\n",
      "cur_iter  7\n",
      "cur_iter  8\n",
      "cur_iter  9\n",
      "User ID  342\n",
      "wanted_items length:  5\n",
      "Initial top recommendation index 7137\n",
      "target_item:  1057\n",
      "5.763608593434583\n",
      "cur_iter  0\n"
     ]
    },
    {
     "name": "stderr",
     "output_type": "stream",
     "text": [
      "D:\\Anaconda\\envs\\tensorflow_cpu\\lib\\site-packages\\scipy\\sparse\\_index.py:126: SparseEfficiencyWarning: Changing the sparsity structure of a csr_matrix is expensive. lil_matrix is more efficient.\n",
      "  self._set_arrayXarray(i, j, x)\n"
     ]
    },
    {
     "name": "stdout",
     "output_type": "stream",
     "text": [
      "cur_iter  1\n",
      "cur_iter  2\n",
      "cur_iter  3\n",
      "cur_iter  4\n",
      "cur_iter  5\n",
      "cur_iter  6\n",
      "cur_iter  7\n",
      "cur_iter  8\n",
      "cur_iter  9\n",
      "target_item:  5041\n",
      "2.7540277292173414\n",
      "cur_iter  0\n"
     ]
    },
    {
     "name": "stderr",
     "output_type": "stream",
     "text": [
      "D:\\Anaconda\\envs\\tensorflow_cpu\\lib\\site-packages\\scipy\\sparse\\_index.py:126: SparseEfficiencyWarning: Changing the sparsity structure of a csr_matrix is expensive. lil_matrix is more efficient.\n",
      "  self._set_arrayXarray(i, j, x)\n"
     ]
    },
    {
     "name": "stdout",
     "output_type": "stream",
     "text": [
      "cur_iter  1\n",
      "cur_iter  2\n",
      "cur_iter  3\n",
      "cur_iter  4\n",
      "cur_iter  5\n",
      "cur_iter  6\n",
      "cur_iter  7\n",
      "cur_iter  8\n",
      "cur_iter  9\n",
      "target_item:  5208\n",
      "14.560438511743996\n",
      "cur_iter  0\n"
     ]
    },
    {
     "name": "stderr",
     "output_type": "stream",
     "text": [
      "D:\\Anaconda\\envs\\tensorflow_cpu\\lib\\site-packages\\scipy\\sparse\\_index.py:126: SparseEfficiencyWarning: Changing the sparsity structure of a csr_matrix is expensive. lil_matrix is more efficient.\n",
      "  self._set_arrayXarray(i, j, x)\n"
     ]
    },
    {
     "name": "stdout",
     "output_type": "stream",
     "text": [
      "cur_iter  1\n",
      "cur_iter  2\n",
      "cur_iter  3\n",
      "cur_iter  4\n",
      "cur_iter  5\n",
      "no more keyphrase available\n",
      "target_item:  6509\n",
      "Cannot get restaurant name for ItemIndex:  6509\n"
     ]
    },
    {
     "name": "stderr",
     "output_type": "stream",
     "text": [
      "D:\\Anaconda\\lib\\site-packages\\ipykernel_launcher.py:33: RuntimeWarning: invalid value encountered in true_divide\n"
     ]
    },
    {
     "name": "stdout",
     "output_type": "stream",
     "text": [
      "62.20142586699092\n",
      "cur_iter  0\n",
      "no more keyphrase available\n",
      "target_item:  7304\n",
      "62.20142586699092\n",
      "cur_iter  0\n",
      "no more keyphrase available\n",
      "User ID  343\n",
      "wanted_items length:  49\n",
      "Initial top recommendation index 6167\n",
      "target_item:  84\n",
      "57.86126381097233\n",
      "cur_iter  0\n"
     ]
    },
    {
     "name": "stderr",
     "output_type": "stream",
     "text": [
      "D:\\Anaconda\\envs\\tensorflow_cpu\\lib\\site-packages\\scipy\\sparse\\_index.py:126: SparseEfficiencyWarning: Changing the sparsity structure of a csr_matrix is expensive. lil_matrix is more efficient.\n",
      "  self._set_arrayXarray(i, j, x)\n"
     ]
    },
    {
     "name": "stdout",
     "output_type": "stream",
     "text": [
      "cur_iter  1\n",
      "cur_iter  2\n",
      "cur_iter  3\n",
      "cur_iter  4\n",
      "cur_iter  5\n",
      "cur_iter  6\n",
      "cur_iter  7\n",
      "cur_iter  8\n",
      "cur_iter  9\n",
      "target_item:  108\n",
      "127.91958560446324\n",
      "cur_iter  0\n"
     ]
    },
    {
     "name": "stderr",
     "output_type": "stream",
     "text": [
      "D:\\Anaconda\\envs\\tensorflow_cpu\\lib\\site-packages\\scipy\\sparse\\_index.py:126: SparseEfficiencyWarning: Changing the sparsity structure of a csr_matrix is expensive. lil_matrix is more efficient.\n",
      "  self._set_arrayXarray(i, j, x)\n"
     ]
    },
    {
     "name": "stdout",
     "output_type": "stream",
     "text": [
      "cur_iter  1\n",
      "cur_iter  2\n",
      "cur_iter  3\n",
      "cur_iter  4\n",
      "cur_iter  5\n",
      "cur_iter  6\n",
      "cur_iter  7\n",
      "cur_iter  8\n",
      "cur_iter  9\n",
      "target_item:  735\n",
      "44.882011285932776\n",
      "cur_iter  0\n"
     ]
    },
    {
     "name": "stderr",
     "output_type": "stream",
     "text": [
      "D:\\Anaconda\\envs\\tensorflow_cpu\\lib\\site-packages\\scipy\\sparse\\_index.py:126: SparseEfficiencyWarning: Changing the sparsity structure of a csr_matrix is expensive. lil_matrix is more efficient.\n",
      "  self._set_arrayXarray(i, j, x)\n"
     ]
    },
    {
     "name": "stdout",
     "output_type": "stream",
     "text": [
      "cur_iter  1\n",
      "cur_iter  2\n",
      "cur_iter  3\n",
      "cur_iter  4\n",
      "cur_iter  5\n",
      "cur_iter  6\n",
      "cur_iter  7\n",
      "cur_iter  8\n",
      "cur_iter  9\n",
      "target_item:  935\n",
      "32.1978502884092\n",
      "cur_iter  0\n"
     ]
    },
    {
     "name": "stderr",
     "output_type": "stream",
     "text": [
      "D:\\Anaconda\\envs\\tensorflow_cpu\\lib\\site-packages\\scipy\\sparse\\_index.py:126: SparseEfficiencyWarning: Changing the sparsity structure of a csr_matrix is expensive. lil_matrix is more efficient.\n",
      "  self._set_arrayXarray(i, j, x)\n"
     ]
    },
    {
     "name": "stdout",
     "output_type": "stream",
     "text": [
      "cur_iter  1\n",
      "cur_iter  2\n",
      "cur_iter  3\n",
      "cur_iter  4\n",
      "cur_iter  5\n",
      "cur_iter  6\n",
      "cur_iter  7\n",
      "cur_iter  8\n",
      "cur_iter  9\n",
      "target_item:  955\n",
      "57.03537560384643\n",
      "cur_iter  0\n"
     ]
    },
    {
     "name": "stderr",
     "output_type": "stream",
     "text": [
      "D:\\Anaconda\\envs\\tensorflow_cpu\\lib\\site-packages\\scipy\\sparse\\_index.py:126: SparseEfficiencyWarning: Changing the sparsity structure of a csr_matrix is expensive. lil_matrix is more efficient.\n",
      "  self._set_arrayXarray(i, j, x)\n"
     ]
    },
    {
     "name": "stdout",
     "output_type": "stream",
     "text": [
      "cur_iter  1\n",
      "cur_iter  2\n",
      "cur_iter  3\n",
      "cur_iter  4\n",
      "cur_iter  5\n",
      "cur_iter  6\n",
      "cur_iter  7\n",
      "cur_iter  8\n",
      "cur_iter  9\n",
      "target_item:  1472\n",
      "71.96619129752139\n",
      "cur_iter  0\n"
     ]
    },
    {
     "name": "stderr",
     "output_type": "stream",
     "text": [
      "D:\\Anaconda\\envs\\tensorflow_cpu\\lib\\site-packages\\scipy\\sparse\\_index.py:126: SparseEfficiencyWarning: Changing the sparsity structure of a csr_matrix is expensive. lil_matrix is more efficient.\n",
      "  self._set_arrayXarray(i, j, x)\n"
     ]
    },
    {
     "name": "stdout",
     "output_type": "stream",
     "text": [
      "cur_iter  1\n",
      "cur_iter  2\n",
      "cur_iter  3\n",
      "cur_iter  4\n",
      "cur_iter  5\n",
      "cur_iter  6\n",
      "cur_iter  7\n",
      "cur_iter  8\n",
      "cur_iter  9\n",
      "target_item:  1652\n",
      "28.518935270877364\n",
      "cur_iter  0\n"
     ]
    },
    {
     "name": "stderr",
     "output_type": "stream",
     "text": [
      "D:\\Anaconda\\envs\\tensorflow_cpu\\lib\\site-packages\\scipy\\sparse\\_index.py:126: SparseEfficiencyWarning: Changing the sparsity structure of a csr_matrix is expensive. lil_matrix is more efficient.\n",
      "  self._set_arrayXarray(i, j, x)\n"
     ]
    },
    {
     "name": "stdout",
     "output_type": "stream",
     "text": [
      "cur_iter  1\n",
      "cur_iter  2\n",
      "cur_iter  3\n",
      "cur_iter  4\n",
      "cur_iter  5\n",
      "cur_iter  6\n",
      "cur_iter  7\n",
      "cur_iter  8\n",
      "cur_iter  9\n",
      "target_item:  1665\n",
      "145.88702716913645\n",
      "cur_iter  0\n"
     ]
    },
    {
     "name": "stderr",
     "output_type": "stream",
     "text": [
      "D:\\Anaconda\\envs\\tensorflow_cpu\\lib\\site-packages\\scipy\\sparse\\_index.py:126: SparseEfficiencyWarning: Changing the sparsity structure of a csr_matrix is expensive. lil_matrix is more efficient.\n",
      "  self._set_arrayXarray(i, j, x)\n"
     ]
    },
    {
     "name": "stdout",
     "output_type": "stream",
     "text": [
      "cur_iter  1\n",
      "cur_iter  2\n",
      "cur_iter  3\n",
      "cur_iter  4\n",
      "cur_iter  5\n",
      "cur_iter  6\n",
      "cur_iter  7\n",
      "no more keyphrase available\n",
      "target_item:  1710\n",
      "106.63403322858244\n",
      "cur_iter  0\n"
     ]
    },
    {
     "name": "stderr",
     "output_type": "stream",
     "text": [
      "D:\\Anaconda\\envs\\tensorflow_cpu\\lib\\site-packages\\scipy\\sparse\\_index.py:126: SparseEfficiencyWarning: Changing the sparsity structure of a csr_matrix is expensive. lil_matrix is more efficient.\n",
      "  self._set_arrayXarray(i, j, x)\n"
     ]
    },
    {
     "name": "stdout",
     "output_type": "stream",
     "text": [
      "cur_iter  1\n",
      "cur_iter  2\n",
      "cur_iter  3\n",
      "cur_iter  4\n",
      "cur_iter  5\n",
      "cur_iter  6\n",
      "cur_iter  7\n",
      "cur_iter  8\n",
      "cur_iter  9\n",
      "no more keyphrase available\n",
      "target_item:  2564\n",
      "65.70772866661059\n",
      "cur_iter  0\n"
     ]
    },
    {
     "name": "stderr",
     "output_type": "stream",
     "text": [
      "D:\\Anaconda\\envs\\tensorflow_cpu\\lib\\site-packages\\scipy\\sparse\\_index.py:126: SparseEfficiencyWarning: Changing the sparsity structure of a csr_matrix is expensive. lil_matrix is more efficient.\n",
      "  self._set_arrayXarray(i, j, x)\n"
     ]
    },
    {
     "name": "stdout",
     "output_type": "stream",
     "text": [
      "cur_iter  1\n",
      "cur_iter  2\n",
      "cur_iter  3\n",
      "cur_iter  4\n",
      "cur_iter  5\n",
      "cur_iter  6\n",
      "cur_iter  7\n",
      "cur_iter  8\n",
      "cur_iter  9\n",
      "target_item:  2696\n",
      "80.22293046496156\n",
      "cur_iter  0\n"
     ]
    },
    {
     "name": "stderr",
     "output_type": "stream",
     "text": [
      "D:\\Anaconda\\envs\\tensorflow_cpu\\lib\\site-packages\\scipy\\sparse\\_index.py:126: SparseEfficiencyWarning: Changing the sparsity structure of a csr_matrix is expensive. lil_matrix is more efficient.\n",
      "  self._set_arrayXarray(i, j, x)\n"
     ]
    },
    {
     "name": "stdout",
     "output_type": "stream",
     "text": [
      "cur_iter  1\n",
      "cur_iter  2\n",
      "cur_iter  3\n",
      "cur_iter  4\n",
      "cur_iter  5\n",
      "cur_iter  6\n",
      "cur_iter  7\n",
      "cur_iter  8\n",
      "cur_iter  9\n",
      "User ID  344\n",
      "wanted_items length:  41\n",
      "Initial top recommendation index 4786\n",
      "target_item:  116\n",
      "339.50964417297655\n",
      "cur_iter  0\n"
     ]
    },
    {
     "name": "stderr",
     "output_type": "stream",
     "text": [
      "D:\\Anaconda\\envs\\tensorflow_cpu\\lib\\site-packages\\scipy\\sparse\\_index.py:126: SparseEfficiencyWarning: Changing the sparsity structure of a csr_matrix is expensive. lil_matrix is more efficient.\n",
      "  self._set_arrayXarray(i, j, x)\n"
     ]
    },
    {
     "name": "stdout",
     "output_type": "stream",
     "text": [
      "cur_iter  1\n",
      "no more keyphrase available\n",
      "target_item:  201\n",
      "17.1789593476351\n",
      "cur_iter  0\n"
     ]
    },
    {
     "name": "stderr",
     "output_type": "stream",
     "text": [
      "D:\\Anaconda\\envs\\tensorflow_cpu\\lib\\site-packages\\scipy\\sparse\\_index.py:126: SparseEfficiencyWarning: Changing the sparsity structure of a csr_matrix is expensive. lil_matrix is more efficient.\n",
      "  self._set_arrayXarray(i, j, x)\n"
     ]
    },
    {
     "name": "stdout",
     "output_type": "stream",
     "text": [
      "cur_iter  1\n",
      "cur_iter  2\n",
      "cur_iter  3\n",
      "cur_iter  4\n",
      "cur_iter  5\n",
      "cur_iter  6\n",
      "cur_iter  7\n",
      "cur_iter  8\n",
      "cur_iter  9\n",
      "target_item:  327\n",
      "41.50873886701447\n",
      "cur_iter  0\n"
     ]
    },
    {
     "name": "stderr",
     "output_type": "stream",
     "text": [
      "D:\\Anaconda\\envs\\tensorflow_cpu\\lib\\site-packages\\scipy\\sparse\\_index.py:126: SparseEfficiencyWarning: Changing the sparsity structure of a csr_matrix is expensive. lil_matrix is more efficient.\n",
      "  self._set_arrayXarray(i, j, x)\n"
     ]
    },
    {
     "name": "stdout",
     "output_type": "stream",
     "text": [
      "cur_iter  1\n",
      "cur_iter  2\n",
      "cur_iter  3\n",
      "cur_iter  4\n",
      "cur_iter  5\n",
      "cur_iter  6\n",
      "cur_iter  7\n",
      "cur_iter  8\n",
      "cur_iter  9\n",
      "target_item:  530\n",
      "32.296315203049744\n",
      "cur_iter  0\n"
     ]
    },
    {
     "name": "stderr",
     "output_type": "stream",
     "text": [
      "D:\\Anaconda\\envs\\tensorflow_cpu\\lib\\site-packages\\scipy\\sparse\\_index.py:126: SparseEfficiencyWarning: Changing the sparsity structure of a csr_matrix is expensive. lil_matrix is more efficient.\n",
      "  self._set_arrayXarray(i, j, x)\n"
     ]
    },
    {
     "name": "stdout",
     "output_type": "stream",
     "text": [
      "cur_iter  1\n",
      "cur_iter  2\n",
      "cur_iter  3\n",
      "cur_iter  4\n",
      "cur_iter  5\n",
      "cur_iter  6\n",
      "cur_iter  7\n",
      "cur_iter  8\n",
      "cur_iter  9\n",
      "target_item:  1246\n",
      "38.78807938715181\n",
      "cur_iter  0\n"
     ]
    },
    {
     "name": "stderr",
     "output_type": "stream",
     "text": [
      "D:\\Anaconda\\envs\\tensorflow_cpu\\lib\\site-packages\\scipy\\sparse\\_index.py:126: SparseEfficiencyWarning: Changing the sparsity structure of a csr_matrix is expensive. lil_matrix is more efficient.\n",
      "  self._set_arrayXarray(i, j, x)\n"
     ]
    },
    {
     "name": "stdout",
     "output_type": "stream",
     "text": [
      "cur_iter  1\n",
      "cur_iter  2\n",
      "cur_iter  3\n",
      "cur_iter  4\n",
      "cur_iter  5\n",
      "cur_iter  6\n",
      "cur_iter  7\n",
      "cur_iter  8\n",
      "cur_iter  9\n",
      "target_item:  1478\n",
      "41.448079135057924\n",
      "cur_iter  0\n"
     ]
    },
    {
     "name": "stderr",
     "output_type": "stream",
     "text": [
      "D:\\Anaconda\\envs\\tensorflow_cpu\\lib\\site-packages\\scipy\\sparse\\_index.py:126: SparseEfficiencyWarning: Changing the sparsity structure of a csr_matrix is expensive. lil_matrix is more efficient.\n",
      "  self._set_arrayXarray(i, j, x)\n"
     ]
    },
    {
     "name": "stdout",
     "output_type": "stream",
     "text": [
      "cur_iter  1\n",
      "cur_iter  2\n",
      "cur_iter  3\n",
      "cur_iter  4\n",
      "cur_iter  5\n",
      "cur_iter  6\n",
      "cur_iter  7\n",
      "cur_iter  8\n",
      "cur_iter  9\n",
      "target_item:  1488\n",
      "31.45959324195428\n",
      "cur_iter  0\n"
     ]
    },
    {
     "name": "stderr",
     "output_type": "stream",
     "text": [
      "D:\\Anaconda\\envs\\tensorflow_cpu\\lib\\site-packages\\scipy\\sparse\\_index.py:126: SparseEfficiencyWarning: Changing the sparsity structure of a csr_matrix is expensive. lil_matrix is more efficient.\n",
      "  self._set_arrayXarray(i, j, x)\n"
     ]
    },
    {
     "name": "stdout",
     "output_type": "stream",
     "text": [
      "cur_iter  1\n",
      "cur_iter  2\n",
      "cur_iter  3\n",
      "cur_iter  4\n",
      "cur_iter  5\n",
      "cur_iter  6\n",
      "cur_iter  7\n",
      "cur_iter  8\n",
      "cur_iter  9\n",
      "target_item:  1689\n",
      "32.92438605076313\n",
      "cur_iter  0\n"
     ]
    },
    {
     "name": "stderr",
     "output_type": "stream",
     "text": [
      "D:\\Anaconda\\envs\\tensorflow_cpu\\lib\\site-packages\\scipy\\sparse\\_index.py:126: SparseEfficiencyWarning: Changing the sparsity structure of a csr_matrix is expensive. lil_matrix is more efficient.\n",
      "  self._set_arrayXarray(i, j, x)\n"
     ]
    },
    {
     "name": "stdout",
     "output_type": "stream",
     "text": [
      "cur_iter  1\n",
      "cur_iter  2\n",
      "cur_iter  3\n",
      "cur_iter  4\n",
      "cur_iter  5\n",
      "cur_iter  6\n",
      "cur_iter  7\n",
      "cur_iter  8\n",
      "cur_iter  9\n",
      "target_item:  1761\n",
      "37.89355831429566\n",
      "cur_iter  0\n"
     ]
    },
    {
     "name": "stderr",
     "output_type": "stream",
     "text": [
      "D:\\Anaconda\\envs\\tensorflow_cpu\\lib\\site-packages\\scipy\\sparse\\_index.py:126: SparseEfficiencyWarning: Changing the sparsity structure of a csr_matrix is expensive. lil_matrix is more efficient.\n",
      "  self._set_arrayXarray(i, j, x)\n"
     ]
    },
    {
     "name": "stdout",
     "output_type": "stream",
     "text": [
      "cur_iter  1\n",
      "cur_iter  2\n",
      "cur_iter  3\n",
      "cur_iter  4\n",
      "cur_iter  5\n",
      "cur_iter  6\n",
      "cur_iter  7\n",
      "cur_iter  8\n",
      "cur_iter  9\n",
      "target_item:  1776\n",
      "78.0746804022856\n",
      "cur_iter  0\n"
     ]
    },
    {
     "name": "stderr",
     "output_type": "stream",
     "text": [
      "D:\\Anaconda\\envs\\tensorflow_cpu\\lib\\site-packages\\scipy\\sparse\\_index.py:126: SparseEfficiencyWarning: Changing the sparsity structure of a csr_matrix is expensive. lil_matrix is more efficient.\n",
      "  self._set_arrayXarray(i, j, x)\n"
     ]
    },
    {
     "name": "stdout",
     "output_type": "stream",
     "text": [
      "cur_iter  1\n",
      "cur_iter  2\n",
      "cur_iter  3\n",
      "cur_iter  4\n",
      "cur_iter  5\n",
      "cur_iter  6\n",
      "cur_iter  7\n",
      "no more keyphrase available\n",
      "target_item:  1832\n",
      "23.63271454070491\n",
      "cur_iter  0\n"
     ]
    },
    {
     "name": "stderr",
     "output_type": "stream",
     "text": [
      "D:\\Anaconda\\envs\\tensorflow_cpu\\lib\\site-packages\\scipy\\sparse\\_index.py:126: SparseEfficiencyWarning: Changing the sparsity structure of a csr_matrix is expensive. lil_matrix is more efficient.\n",
      "  self._set_arrayXarray(i, j, x)\n"
     ]
    },
    {
     "name": "stdout",
     "output_type": "stream",
     "text": [
      "cur_iter  1\n",
      "cur_iter  2\n",
      "cur_iter  3\n",
      "cur_iter  4\n",
      "cur_iter  5\n",
      "cur_iter  6\n",
      "cur_iter  7\n",
      "cur_iter  8\n",
      "cur_iter  9\n",
      "User ID  345\n",
      "wanted_items length:  8\n",
      "Initial top recommendation index 6299\n",
      "target_item:  495\n",
      "21.913122513412418\n",
      "cur_iter  0\n"
     ]
    },
    {
     "name": "stderr",
     "output_type": "stream",
     "text": [
      "D:\\Anaconda\\envs\\tensorflow_cpu\\lib\\site-packages\\scipy\\sparse\\_index.py:126: SparseEfficiencyWarning: Changing the sparsity structure of a csr_matrix is expensive. lil_matrix is more efficient.\n",
      "  self._set_arrayXarray(i, j, x)\n"
     ]
    },
    {
     "name": "stdout",
     "output_type": "stream",
     "text": [
      "cur_iter  1\n",
      "cur_iter  2\n",
      "cur_iter  3\n",
      "no more keyphrase available\n",
      "target_item:  601\n",
      "7.664101013019717\n",
      "cur_iter  0\n"
     ]
    },
    {
     "name": "stderr",
     "output_type": "stream",
     "text": [
      "D:\\Anaconda\\envs\\tensorflow_cpu\\lib\\site-packages\\scipy\\sparse\\_index.py:126: SparseEfficiencyWarning: Changing the sparsity structure of a csr_matrix is expensive. lil_matrix is more efficient.\n",
      "  self._set_arrayXarray(i, j, x)\n"
     ]
    },
    {
     "name": "stdout",
     "output_type": "stream",
     "text": [
      "cur_iter  1\n",
      "cur_iter  2\n",
      "cur_iter  3\n",
      "cur_iter  4\n",
      "cur_iter  5\n",
      "cur_iter  6\n",
      "cur_iter  7\n",
      "cur_iter  8\n",
      "cur_iter  9\n",
      "target_item:  2687\n",
      "24.718403623989616\n",
      "cur_iter  0\n"
     ]
    },
    {
     "name": "stderr",
     "output_type": "stream",
     "text": [
      "D:\\Anaconda\\envs\\tensorflow_cpu\\lib\\site-packages\\scipy\\sparse\\_index.py:126: SparseEfficiencyWarning: Changing the sparsity structure of a csr_matrix is expensive. lil_matrix is more efficient.\n",
      "  self._set_arrayXarray(i, j, x)\n"
     ]
    },
    {
     "name": "stdout",
     "output_type": "stream",
     "text": [
      "cur_iter  1\n",
      "cur_iter  2\n",
      "cur_iter  3\n",
      "cur_iter  4\n",
      "cur_iter  5\n",
      "cur_iter  6\n",
      "no more keyphrase available\n",
      "target_item:  2788\n",
      "7.962339771424922\n",
      "cur_iter  0\n"
     ]
    },
    {
     "name": "stderr",
     "output_type": "stream",
     "text": [
      "D:\\Anaconda\\envs\\tensorflow_cpu\\lib\\site-packages\\scipy\\sparse\\_index.py:126: SparseEfficiencyWarning: Changing the sparsity structure of a csr_matrix is expensive. lil_matrix is more efficient.\n",
      "  self._set_arrayXarray(i, j, x)\n"
     ]
    },
    {
     "name": "stdout",
     "output_type": "stream",
     "text": [
      "cur_iter  1\n",
      "cur_iter  2\n",
      "cur_iter  3\n",
      "cur_iter  4\n",
      "cur_iter  5\n",
      "cur_iter  6\n",
      "cur_iter  7\n",
      "cur_iter  8\n",
      "cur_iter  9\n",
      "target_item:  2847\n",
      "7.3746326356713325\n",
      "cur_iter  0\n"
     ]
    },
    {
     "name": "stderr",
     "output_type": "stream",
     "text": [
      "D:\\Anaconda\\envs\\tensorflow_cpu\\lib\\site-packages\\scipy\\sparse\\_index.py:126: SparseEfficiencyWarning: Changing the sparsity structure of a csr_matrix is expensive. lil_matrix is more efficient.\n",
      "  self._set_arrayXarray(i, j, x)\n"
     ]
    },
    {
     "name": "stdout",
     "output_type": "stream",
     "text": [
      "cur_iter  1\n",
      "cur_iter  2\n",
      "cur_iter  3\n",
      "cur_iter  4\n",
      "cur_iter  5\n",
      "cur_iter  6\n",
      "cur_iter  7\n",
      "cur_iter  8\n",
      "cur_iter  9\n",
      "target_item:  3211\n",
      "7.45410994535996\n",
      "cur_iter  0\n"
     ]
    },
    {
     "name": "stderr",
     "output_type": "stream",
     "text": [
      "D:\\Anaconda\\envs\\tensorflow_cpu\\lib\\site-packages\\scipy\\sparse\\_index.py:126: SparseEfficiencyWarning: Changing the sparsity structure of a csr_matrix is expensive. lil_matrix is more efficient.\n",
      "  self._set_arrayXarray(i, j, x)\n"
     ]
    },
    {
     "name": "stdout",
     "output_type": "stream",
     "text": [
      "cur_iter  1\n",
      "cur_iter  2\n",
      "cur_iter  3\n",
      "cur_iter  4\n",
      "cur_iter  5\n",
      "cur_iter  6\n",
      "cur_iter  7\n",
      "cur_iter  8\n",
      "cur_iter  9\n",
      "target_item:  4566\n",
      "7.894092172760793\n",
      "cur_iter  0\n"
     ]
    },
    {
     "name": "stderr",
     "output_type": "stream",
     "text": [
      "D:\\Anaconda\\envs\\tensorflow_cpu\\lib\\site-packages\\scipy\\sparse\\_index.py:126: SparseEfficiencyWarning: Changing the sparsity structure of a csr_matrix is expensive. lil_matrix is more efficient.\n",
      "  self._set_arrayXarray(i, j, x)\n"
     ]
    },
    {
     "name": "stdout",
     "output_type": "stream",
     "text": [
      "cur_iter  1\n",
      "cur_iter  2\n",
      "cur_iter  3\n",
      "cur_iter  4\n",
      "cur_iter  5\n",
      "cur_iter  6\n",
      "cur_iter  7\n",
      "cur_iter  8\n",
      "cur_iter  9\n",
      "target_item:  7313\n",
      "5.68710525626193\n",
      "cur_iter  0\n"
     ]
    },
    {
     "name": "stderr",
     "output_type": "stream",
     "text": [
      "D:\\Anaconda\\envs\\tensorflow_cpu\\lib\\site-packages\\scipy\\sparse\\_index.py:126: SparseEfficiencyWarning: Changing the sparsity structure of a csr_matrix is expensive. lil_matrix is more efficient.\n",
      "  self._set_arrayXarray(i, j, x)\n"
     ]
    },
    {
     "name": "stdout",
     "output_type": "stream",
     "text": [
      "cur_iter  1\n",
      "cur_iter  2\n",
      "cur_iter  3\n",
      "cur_iter  4\n",
      "cur_iter  5\n",
      "cur_iter  6\n",
      "cur_iter  7\n",
      "cur_iter  8\n",
      "cur_iter  9\n",
      "User ID  346\n",
      "wanted_items length:  11\n",
      "Initial top recommendation index 6776\n",
      "target_item:  17\n",
      "10.482377745140184\n",
      "cur_iter  0\n"
     ]
    },
    {
     "name": "stderr",
     "output_type": "stream",
     "text": [
      "D:\\Anaconda\\envs\\tensorflow_cpu\\lib\\site-packages\\scipy\\sparse\\_index.py:126: SparseEfficiencyWarning: Changing the sparsity structure of a csr_matrix is expensive. lil_matrix is more efficient.\n",
      "  self._set_arrayXarray(i, j, x)\n"
     ]
    },
    {
     "name": "stdout",
     "output_type": "stream",
     "text": [
      "cur_iter  1\n",
      "cur_iter  2\n",
      "cur_iter  3\n",
      "cur_iter  4\n",
      "cur_iter  5\n",
      "cur_iter  6\n",
      "cur_iter  7\n",
      "cur_iter  8\n",
      "cur_iter  9\n",
      "target_item:  416\n",
      "11.62667292525839\n",
      "cur_iter  0\n"
     ]
    },
    {
     "name": "stderr",
     "output_type": "stream",
     "text": [
      "D:\\Anaconda\\envs\\tensorflow_cpu\\lib\\site-packages\\scipy\\sparse\\_index.py:126: SparseEfficiencyWarning: Changing the sparsity structure of a csr_matrix is expensive. lil_matrix is more efficient.\n",
      "  self._set_arrayXarray(i, j, x)\n"
     ]
    },
    {
     "name": "stdout",
     "output_type": "stream",
     "text": [
      "cur_iter  1\n",
      "cur_iter  2\n",
      "cur_iter  3\n",
      "cur_iter  4\n",
      "cur_iter  5\n",
      "cur_iter  6\n",
      "cur_iter  7\n",
      "cur_iter  8\n",
      "cur_iter  9\n",
      "target_item:  1204\n",
      "6.535947868676885\n",
      "cur_iter  0\n"
     ]
    },
    {
     "name": "stderr",
     "output_type": "stream",
     "text": [
      "D:\\Anaconda\\envs\\tensorflow_cpu\\lib\\site-packages\\scipy\\sparse\\_index.py:126: SparseEfficiencyWarning: Changing the sparsity structure of a csr_matrix is expensive. lil_matrix is more efficient.\n",
      "  self._set_arrayXarray(i, j, x)\n"
     ]
    },
    {
     "name": "stdout",
     "output_type": "stream",
     "text": [
      "cur_iter  1\n",
      "cur_iter  2\n",
      "cur_iter  3\n",
      "cur_iter  4\n",
      "cur_iter  5\n",
      "cur_iter  6\n",
      "cur_iter  7\n",
      "cur_iter  8\n",
      "cur_iter  9\n",
      "target_item:  3590\n",
      "10.944103361840462\n",
      "cur_iter  0\n"
     ]
    },
    {
     "name": "stderr",
     "output_type": "stream",
     "text": [
      "D:\\Anaconda\\envs\\tensorflow_cpu\\lib\\site-packages\\scipy\\sparse\\_index.py:126: SparseEfficiencyWarning: Changing the sparsity structure of a csr_matrix is expensive. lil_matrix is more efficient.\n",
      "  self._set_arrayXarray(i, j, x)\n"
     ]
    },
    {
     "name": "stdout",
     "output_type": "stream",
     "text": [
      "cur_iter  1\n",
      "cur_iter  2\n",
      "cur_iter  3\n",
      "cur_iter  4\n",
      "cur_iter  5\n",
      "cur_iter  6\n",
      "cur_iter  7\n",
      "cur_iter  8\n",
      "cur_iter  9\n",
      "target_item:  3883\n",
      "6.9156894537154585\n",
      "cur_iter  0\n"
     ]
    },
    {
     "name": "stderr",
     "output_type": "stream",
     "text": [
      "D:\\Anaconda\\envs\\tensorflow_cpu\\lib\\site-packages\\scipy\\sparse\\_index.py:126: SparseEfficiencyWarning: Changing the sparsity structure of a csr_matrix is expensive. lil_matrix is more efficient.\n",
      "  self._set_arrayXarray(i, j, x)\n"
     ]
    },
    {
     "name": "stdout",
     "output_type": "stream",
     "text": [
      "cur_iter  1\n",
      "cur_iter  2\n",
      "cur_iter  3\n",
      "cur_iter  4\n",
      "cur_iter  5\n",
      "cur_iter  6\n",
      "cur_iter  7\n",
      "cur_iter  8\n",
      "cur_iter  9\n",
      "target_item:  3958\n",
      "28.27724381330154\n",
      "cur_iter  0\n"
     ]
    },
    {
     "name": "stderr",
     "output_type": "stream",
     "text": [
      "D:\\Anaconda\\envs\\tensorflow_cpu\\lib\\site-packages\\scipy\\sparse\\_index.py:126: SparseEfficiencyWarning: Changing the sparsity structure of a csr_matrix is expensive. lil_matrix is more efficient.\n",
      "  self._set_arrayXarray(i, j, x)\n"
     ]
    },
    {
     "name": "stdout",
     "output_type": "stream",
     "text": [
      "cur_iter  1\n",
      "cur_iter  2\n",
      "cur_iter  3\n",
      "cur_iter  4\n",
      "cur_iter  5\n",
      "cur_iter  6\n",
      "cur_iter  7\n",
      "cur_iter  8\n",
      "cur_iter  9\n",
      "target_item:  4788\n",
      "9.581881199437703\n",
      "cur_iter  0\n"
     ]
    },
    {
     "name": "stderr",
     "output_type": "stream",
     "text": [
      "D:\\Anaconda\\envs\\tensorflow_cpu\\lib\\site-packages\\scipy\\sparse\\_index.py:126: SparseEfficiencyWarning: Changing the sparsity structure of a csr_matrix is expensive. lil_matrix is more efficient.\n",
      "  self._set_arrayXarray(i, j, x)\n"
     ]
    },
    {
     "name": "stdout",
     "output_type": "stream",
     "text": [
      "cur_iter  1\n",
      "cur_iter  2\n",
      "cur_iter  3\n",
      "cur_iter  4\n",
      "cur_iter  5\n",
      "cur_iter  6\n",
      "cur_iter  7\n",
      "cur_iter  8\n",
      "cur_iter  9\n",
      "target_item:  5010\n",
      "6.229080880713809\n",
      "cur_iter  0\n"
     ]
    },
    {
     "name": "stderr",
     "output_type": "stream",
     "text": [
      "D:\\Anaconda\\envs\\tensorflow_cpu\\lib\\site-packages\\scipy\\sparse\\_index.py:126: SparseEfficiencyWarning: Changing the sparsity structure of a csr_matrix is expensive. lil_matrix is more efficient.\n",
      "  self._set_arrayXarray(i, j, x)\n"
     ]
    },
    {
     "name": "stdout",
     "output_type": "stream",
     "text": [
      "cur_iter  1\n",
      "cur_iter  2\n",
      "cur_iter  3\n",
      "cur_iter  4\n",
      "cur_iter  5\n",
      "cur_iter  6\n",
      "cur_iter  7\n",
      "cur_iter  8\n",
      "cur_iter  9\n",
      "target_item:  5410\n",
      "7.246435473414749\n",
      "cur_iter  0\n"
     ]
    },
    {
     "name": "stderr",
     "output_type": "stream",
     "text": [
      "D:\\Anaconda\\envs\\tensorflow_cpu\\lib\\site-packages\\scipy\\sparse\\_index.py:126: SparseEfficiencyWarning: Changing the sparsity structure of a csr_matrix is expensive. lil_matrix is more efficient.\n",
      "  self._set_arrayXarray(i, j, x)\n"
     ]
    },
    {
     "name": "stdout",
     "output_type": "stream",
     "text": [
      "cur_iter  1\n",
      "cur_iter  2\n",
      "cur_iter  3\n",
      "cur_iter  4\n",
      "cur_iter  5\n",
      "cur_iter  6\n",
      "cur_iter  7\n",
      "cur_iter  8\n",
      "cur_iter  9\n",
      "target_item:  5538\n",
      "18.474784559590262\n",
      "cur_iter  0\n"
     ]
    },
    {
     "name": "stderr",
     "output_type": "stream",
     "text": [
      "D:\\Anaconda\\envs\\tensorflow_cpu\\lib\\site-packages\\scipy\\sparse\\_index.py:126: SparseEfficiencyWarning: Changing the sparsity structure of a csr_matrix is expensive. lil_matrix is more efficient.\n",
      "  self._set_arrayXarray(i, j, x)\n"
     ]
    },
    {
     "name": "stdout",
     "output_type": "stream",
     "text": [
      "cur_iter  1\n",
      "cur_iter  2\n",
      "cur_iter  3\n",
      "cur_iter  4\n",
      "cur_iter  5\n",
      "cur_iter  6\n",
      "cur_iter  7\n",
      "cur_iter  8\n",
      "cur_iter  9\n",
      "target_item:  5773\n",
      "74.94007055407383\n",
      "cur_iter  0\n"
     ]
    },
    {
     "name": "stderr",
     "output_type": "stream",
     "text": [
      "D:\\Anaconda\\envs\\tensorflow_cpu\\lib\\site-packages\\scipy\\sparse\\_index.py:126: SparseEfficiencyWarning: Changing the sparsity structure of a csr_matrix is expensive. lil_matrix is more efficient.\n",
      "  self._set_arrayXarray(i, j, x)\n"
     ]
    },
    {
     "name": "stdout",
     "output_type": "stream",
     "text": [
      "cur_iter  1\n",
      "cur_iter  2\n",
      "no more keyphrase available\n",
      "User ID  347\n",
      "wanted_items length:  49\n",
      "Initial top recommendation index 2514\n",
      "target_item:  476\n",
      "46.8458319600968\n",
      "cur_iter  0\n"
     ]
    },
    {
     "name": "stderr",
     "output_type": "stream",
     "text": [
      "D:\\Anaconda\\envs\\tensorflow_cpu\\lib\\site-packages\\scipy\\sparse\\_index.py:126: SparseEfficiencyWarning: Changing the sparsity structure of a csr_matrix is expensive. lil_matrix is more efficient.\n",
      "  self._set_arrayXarray(i, j, x)\n"
     ]
    },
    {
     "name": "stdout",
     "output_type": "stream",
     "text": [
      "cur_iter  1\n",
      "cur_iter  2\n",
      "cur_iter  3\n",
      "cur_iter  4\n",
      "cur_iter  5\n",
      "cur_iter  6\n",
      "cur_iter  7\n",
      "cur_iter  8\n",
      "cur_iter  9\n",
      "target_item:  566\n",
      "39.897555286367606\n",
      "cur_iter  0\n"
     ]
    },
    {
     "name": "stderr",
     "output_type": "stream",
     "text": [
      "D:\\Anaconda\\envs\\tensorflow_cpu\\lib\\site-packages\\scipy\\sparse\\_index.py:126: SparseEfficiencyWarning: Changing the sparsity structure of a csr_matrix is expensive. lil_matrix is more efficient.\n",
      "  self._set_arrayXarray(i, j, x)\n"
     ]
    },
    {
     "name": "stdout",
     "output_type": "stream",
     "text": [
      "cur_iter  1\n",
      "cur_iter  2\n",
      "cur_iter  3\n",
      "cur_iter  4\n",
      "cur_iter  5\n",
      "cur_iter  6\n",
      "cur_iter  7\n",
      "cur_iter  8\n",
      "cur_iter  9\n",
      "target_item:  612\n",
      "63.22920840338065\n",
      "cur_iter  0\n"
     ]
    },
    {
     "name": "stderr",
     "output_type": "stream",
     "text": [
      "D:\\Anaconda\\envs\\tensorflow_cpu\\lib\\site-packages\\scipy\\sparse\\_index.py:126: SparseEfficiencyWarning: Changing the sparsity structure of a csr_matrix is expensive. lil_matrix is more efficient.\n",
      "  self._set_arrayXarray(i, j, x)\n"
     ]
    },
    {
     "name": "stdout",
     "output_type": "stream",
     "text": [
      "cur_iter  1\n",
      "cur_iter  2\n",
      "cur_iter  3\n",
      "cur_iter  4\n",
      "cur_iter  5\n",
      "cur_iter  6\n",
      "cur_iter  7\n",
      "cur_iter  8\n",
      "cur_iter  9\n",
      "target_item:  935\n",
      "29.98317638122262\n",
      "cur_iter  0\n"
     ]
    },
    {
     "name": "stderr",
     "output_type": "stream",
     "text": [
      "D:\\Anaconda\\envs\\tensorflow_cpu\\lib\\site-packages\\scipy\\sparse\\_index.py:126: SparseEfficiencyWarning: Changing the sparsity structure of a csr_matrix is expensive. lil_matrix is more efficient.\n",
      "  self._set_arrayXarray(i, j, x)\n"
     ]
    },
    {
     "name": "stdout",
     "output_type": "stream",
     "text": [
      "cur_iter  1\n",
      "cur_iter  2\n",
      "cur_iter  3\n",
      "cur_iter  4\n",
      "cur_iter  5\n",
      "cur_iter  6\n",
      "cur_iter  7\n",
      "cur_iter  8\n",
      "cur_iter  9\n",
      "target_item:  973\n",
      "41.362226945185284\n",
      "cur_iter  0\n"
     ]
    },
    {
     "name": "stderr",
     "output_type": "stream",
     "text": [
      "D:\\Anaconda\\envs\\tensorflow_cpu\\lib\\site-packages\\scipy\\sparse\\_index.py:126: SparseEfficiencyWarning: Changing the sparsity structure of a csr_matrix is expensive. lil_matrix is more efficient.\n",
      "  self._set_arrayXarray(i, j, x)\n"
     ]
    },
    {
     "name": "stdout",
     "output_type": "stream",
     "text": [
      "cur_iter  1\n",
      "cur_iter  2\n",
      "cur_iter  3\n",
      "cur_iter  4\n",
      "cur_iter  5\n",
      "cur_iter  6\n",
      "cur_iter  7\n",
      "cur_iter  8\n",
      "cur_iter  9\n",
      "target_item:  1311\n",
      "120.45250828826738\n",
      "cur_iter  0\n"
     ]
    },
    {
     "name": "stderr",
     "output_type": "stream",
     "text": [
      "D:\\Anaconda\\envs\\tensorflow_cpu\\lib\\site-packages\\scipy\\sparse\\_index.py:126: SparseEfficiencyWarning: Changing the sparsity structure of a csr_matrix is expensive. lil_matrix is more efficient.\n",
      "  self._set_arrayXarray(i, j, x)\n"
     ]
    },
    {
     "name": "stdout",
     "output_type": "stream",
     "text": [
      "cur_iter  1\n",
      "cur_iter  2\n",
      "cur_iter  3\n",
      "cur_iter  4\n",
      "cur_iter  5\n",
      "no more keyphrase available\n",
      "target_item:  1438\n",
      "36.988595421452374\n",
      "cur_iter  0\n"
     ]
    },
    {
     "name": "stderr",
     "output_type": "stream",
     "text": [
      "D:\\Anaconda\\envs\\tensorflow_cpu\\lib\\site-packages\\scipy\\sparse\\_index.py:126: SparseEfficiencyWarning: Changing the sparsity structure of a csr_matrix is expensive. lil_matrix is more efficient.\n",
      "  self._set_arrayXarray(i, j, x)\n"
     ]
    },
    {
     "name": "stdout",
     "output_type": "stream",
     "text": [
      "cur_iter  1\n",
      "cur_iter  2\n",
      "cur_iter  3\n",
      "cur_iter  4\n",
      "cur_iter  5\n",
      "cur_iter  6\n",
      "cur_iter  7\n",
      "cur_iter  8\n",
      "cur_iter  9\n",
      "target_item:  1643\n",
      "60.795600330163325\n",
      "cur_iter  0\n"
     ]
    },
    {
     "name": "stderr",
     "output_type": "stream",
     "text": [
      "D:\\Anaconda\\envs\\tensorflow_cpu\\lib\\site-packages\\scipy\\sparse\\_index.py:126: SparseEfficiencyWarning: Changing the sparsity structure of a csr_matrix is expensive. lil_matrix is more efficient.\n",
      "  self._set_arrayXarray(i, j, x)\n"
     ]
    },
    {
     "name": "stdout",
     "output_type": "stream",
     "text": [
      "cur_iter  1\n",
      "cur_iter  2\n",
      "cur_iter  3\n",
      "cur_iter  4\n",
      "cur_iter  5\n",
      "cur_iter  6\n",
      "cur_iter  7\n",
      "cur_iter  8\n",
      "cur_iter  9\n",
      "target_item:  1898\n",
      "39.759632550599235\n",
      "cur_iter  0\n"
     ]
    },
    {
     "name": "stderr",
     "output_type": "stream",
     "text": [
      "D:\\Anaconda\\envs\\tensorflow_cpu\\lib\\site-packages\\scipy\\sparse\\_index.py:126: SparseEfficiencyWarning: Changing the sparsity structure of a csr_matrix is expensive. lil_matrix is more efficient.\n",
      "  self._set_arrayXarray(i, j, x)\n"
     ]
    },
    {
     "name": "stdout",
     "output_type": "stream",
     "text": [
      "cur_iter  1\n",
      "cur_iter  2\n",
      "cur_iter  3\n",
      "cur_iter  4\n",
      "cur_iter  5\n",
      "cur_iter  6\n",
      "cur_iter  7\n",
      "cur_iter  8\n",
      "cur_iter  9\n",
      "target_item:  2006\n",
      "29.8807231012006\n",
      "cur_iter  0\n"
     ]
    },
    {
     "name": "stderr",
     "output_type": "stream",
     "text": [
      "D:\\Anaconda\\envs\\tensorflow_cpu\\lib\\site-packages\\scipy\\sparse\\_index.py:126: SparseEfficiencyWarning: Changing the sparsity structure of a csr_matrix is expensive. lil_matrix is more efficient.\n",
      "  self._set_arrayXarray(i, j, x)\n"
     ]
    },
    {
     "name": "stdout",
     "output_type": "stream",
     "text": [
      "cur_iter  1\n",
      "cur_iter  2\n",
      "cur_iter  3\n",
      "cur_iter  4\n",
      "cur_iter  5\n",
      "cur_iter  6\n",
      "cur_iter  7\n",
      "cur_iter  8\n",
      "cur_iter  9\n",
      "target_item:  2313\n",
      "36.14095972040104\n",
      "cur_iter  0\n"
     ]
    },
    {
     "name": "stderr",
     "output_type": "stream",
     "text": [
      "D:\\Anaconda\\envs\\tensorflow_cpu\\lib\\site-packages\\scipy\\sparse\\_index.py:126: SparseEfficiencyWarning: Changing the sparsity structure of a csr_matrix is expensive. lil_matrix is more efficient.\n",
      "  self._set_arrayXarray(i, j, x)\n"
     ]
    },
    {
     "name": "stdout",
     "output_type": "stream",
     "text": [
      "cur_iter  1\n",
      "cur_iter  2\n",
      "cur_iter  3\n",
      "cur_iter  4\n",
      "cur_iter  5\n",
      "cur_iter  6\n",
      "cur_iter  7\n",
      "cur_iter  8\n",
      "cur_iter  9\n",
      "User ID  348\n",
      "wanted_items length:  5\n",
      "Initial top recommendation index 2804\n",
      "target_item:  149\n",
      "22.565958432555362\n",
      "cur_iter  0\n"
     ]
    },
    {
     "name": "stderr",
     "output_type": "stream",
     "text": [
      "D:\\Anaconda\\envs\\tensorflow_cpu\\lib\\site-packages\\scipy\\sparse\\_index.py:126: SparseEfficiencyWarning: Changing the sparsity structure of a csr_matrix is expensive. lil_matrix is more efficient.\n",
      "  self._set_arrayXarray(i, j, x)\n"
     ]
    },
    {
     "name": "stdout",
     "output_type": "stream",
     "text": [
      "cur_iter  1\n",
      "cur_iter  2\n",
      "cur_iter  3\n",
      "cur_iter  4\n",
      "cur_iter  5\n",
      "cur_iter  6\n",
      "no more keyphrase available\n",
      "target_item:  823\n",
      "9.838339096917025\n",
      "cur_iter  0\n"
     ]
    },
    {
     "name": "stderr",
     "output_type": "stream",
     "text": [
      "D:\\Anaconda\\envs\\tensorflow_cpu\\lib\\site-packages\\scipy\\sparse\\_index.py:126: SparseEfficiencyWarning: Changing the sparsity structure of a csr_matrix is expensive. lil_matrix is more efficient.\n",
      "  self._set_arrayXarray(i, j, x)\n"
     ]
    },
    {
     "name": "stdout",
     "output_type": "stream",
     "text": [
      "cur_iter  1\n",
      "cur_iter  2\n",
      "cur_iter  3\n",
      "cur_iter  4\n",
      "cur_iter  5\n",
      "cur_iter  6\n",
      "cur_iter  7\n",
      "cur_iter  8\n",
      "cur_iter  9\n",
      "target_item:  2791\n",
      "7.8183959352340935\n",
      "cur_iter  0\n"
     ]
    },
    {
     "name": "stderr",
     "output_type": "stream",
     "text": [
      "D:\\Anaconda\\envs\\tensorflow_cpu\\lib\\site-packages\\scipy\\sparse\\_index.py:126: SparseEfficiencyWarning: Changing the sparsity structure of a csr_matrix is expensive. lil_matrix is more efficient.\n",
      "  self._set_arrayXarray(i, j, x)\n"
     ]
    },
    {
     "name": "stdout",
     "output_type": "stream",
     "text": [
      "cur_iter  1\n",
      "cur_iter  2\n",
      "cur_iter  3\n",
      "cur_iter  4\n",
      "cur_iter  5\n",
      "cur_iter  6\n",
      "cur_iter  7\n",
      "cur_iter  8\n",
      "cur_iter  9\n",
      "target_item:  3933\n",
      "8.702800315210425\n",
      "cur_iter  0\n"
     ]
    },
    {
     "name": "stderr",
     "output_type": "stream",
     "text": [
      "D:\\Anaconda\\envs\\tensorflow_cpu\\lib\\site-packages\\scipy\\sparse\\_index.py:126: SparseEfficiencyWarning: Changing the sparsity structure of a csr_matrix is expensive. lil_matrix is more efficient.\n",
      "  self._set_arrayXarray(i, j, x)\n"
     ]
    },
    {
     "name": "stdout",
     "output_type": "stream",
     "text": [
      "cur_iter  1\n",
      "cur_iter  2\n",
      "cur_iter  3\n",
      "cur_iter  4\n",
      "cur_iter  5\n",
      "cur_iter  6\n",
      "cur_iter  7\n",
      "cur_iter  8\n",
      "cur_iter  9\n",
      "target_item:  6858\n",
      "7.8810880984342475\n",
      "cur_iter  0\n"
     ]
    },
    {
     "name": "stderr",
     "output_type": "stream",
     "text": [
      "D:\\Anaconda\\envs\\tensorflow_cpu\\lib\\site-packages\\scipy\\sparse\\_index.py:126: SparseEfficiencyWarning: Changing the sparsity structure of a csr_matrix is expensive. lil_matrix is more efficient.\n",
      "  self._set_arrayXarray(i, j, x)\n"
     ]
    },
    {
     "name": "stdout",
     "output_type": "stream",
     "text": [
      "cur_iter  1\n",
      "cur_iter  2\n",
      "cur_iter  3\n",
      "cur_iter  4\n",
      "cur_iter  5\n",
      "cur_iter  6\n",
      "cur_iter  7\n",
      "cur_iter  8\n",
      "cur_iter  9\n",
      "User ID  349\n",
      "wanted_items length:  8\n",
      "Initial top recommendation index 2154\n",
      "target_item:  265\n",
      "4.498716580348173\n",
      "cur_iter  0\n"
     ]
    },
    {
     "name": "stderr",
     "output_type": "stream",
     "text": [
      "D:\\Anaconda\\envs\\tensorflow_cpu\\lib\\site-packages\\scipy\\sparse\\_index.py:126: SparseEfficiencyWarning: Changing the sparsity structure of a csr_matrix is expensive. lil_matrix is more efficient.\n",
      "  self._set_arrayXarray(i, j, x)\n"
     ]
    },
    {
     "name": "stdout",
     "output_type": "stream",
     "text": [
      "cur_iter  1\n",
      "cur_iter  2\n",
      "cur_iter  3\n",
      "cur_iter  4\n",
      "cur_iter  5\n",
      "cur_iter  6\n",
      "cur_iter  7\n",
      "cur_iter  8\n",
      "cur_iter  9\n",
      "target_item:  1357\n",
      "3.94483704831282\n",
      "cur_iter  0\n"
     ]
    },
    {
     "name": "stderr",
     "output_type": "stream",
     "text": [
      "D:\\Anaconda\\envs\\tensorflow_cpu\\lib\\site-packages\\scipy\\sparse\\_index.py:126: SparseEfficiencyWarning: Changing the sparsity structure of a csr_matrix is expensive. lil_matrix is more efficient.\n",
      "  self._set_arrayXarray(i, j, x)\n"
     ]
    },
    {
     "name": "stdout",
     "output_type": "stream",
     "text": [
      "cur_iter  1\n",
      "cur_iter  2\n",
      "cur_iter  3\n",
      "cur_iter  4\n",
      "cur_iter  5\n",
      "cur_iter  6\n",
      "cur_iter  7\n",
      "cur_iter  8\n",
      "cur_iter  9\n",
      "target_item:  1621\n",
      "76.47046768302346\n",
      "cur_iter  0\n",
      "no more keyphrase available\n",
      "target_item:  2855\n",
      "2.5992250663816776\n",
      "cur_iter  0\n"
     ]
    },
    {
     "name": "stderr",
     "output_type": "stream",
     "text": [
      "D:\\Anaconda\\envs\\tensorflow_cpu\\lib\\site-packages\\scipy\\sparse\\_index.py:126: SparseEfficiencyWarning: Changing the sparsity structure of a csr_matrix is expensive. lil_matrix is more efficient.\n",
      "  self._set_arrayXarray(i, j, x)\n"
     ]
    },
    {
     "name": "stdout",
     "output_type": "stream",
     "text": [
      "cur_iter  1\n",
      "cur_iter  2\n",
      "cur_iter  3\n",
      "cur_iter  4\n",
      "cur_iter  5\n",
      "cur_iter  6\n",
      "cur_iter  7\n",
      "cur_iter  8\n",
      "cur_iter  9\n",
      "target_item:  3865\n",
      "3.502272245460972\n",
      "cur_iter  0\n"
     ]
    },
    {
     "name": "stderr",
     "output_type": "stream",
     "text": [
      "D:\\Anaconda\\envs\\tensorflow_cpu\\lib\\site-packages\\scipy\\sparse\\_index.py:126: SparseEfficiencyWarning: Changing the sparsity structure of a csr_matrix is expensive. lil_matrix is more efficient.\n",
      "  self._set_arrayXarray(i, j, x)\n"
     ]
    },
    {
     "name": "stdout",
     "output_type": "stream",
     "text": [
      "cur_iter  1\n",
      "cur_iter  2\n",
      "cur_iter  3\n",
      "cur_iter  4\n",
      "cur_iter  5\n",
      "cur_iter  6\n",
      "cur_iter  7\n",
      "cur_iter  8\n",
      "cur_iter  9\n",
      "target_item:  4148\n",
      "3.6138504591203855\n",
      "cur_iter  0\n"
     ]
    },
    {
     "name": "stderr",
     "output_type": "stream",
     "text": [
      "D:\\Anaconda\\envs\\tensorflow_cpu\\lib\\site-packages\\scipy\\sparse\\_index.py:126: SparseEfficiencyWarning: Changing the sparsity structure of a csr_matrix is expensive. lil_matrix is more efficient.\n",
      "  self._set_arrayXarray(i, j, x)\n"
     ]
    },
    {
     "name": "stdout",
     "output_type": "stream",
     "text": [
      "cur_iter  1\n",
      "cur_iter  2\n",
      "cur_iter  3\n",
      "cur_iter  4\n",
      "cur_iter  5\n",
      "cur_iter  6\n",
      "cur_iter  7\n",
      "cur_iter  8\n",
      "cur_iter  9\n",
      "target_item:  4495\n",
      "3.7859466631548457\n",
      "cur_iter  0\n"
     ]
    },
    {
     "name": "stderr",
     "output_type": "stream",
     "text": [
      "D:\\Anaconda\\envs\\tensorflow_cpu\\lib\\site-packages\\scipy\\sparse\\_index.py:126: SparseEfficiencyWarning: Changing the sparsity structure of a csr_matrix is expensive. lil_matrix is more efficient.\n",
      "  self._set_arrayXarray(i, j, x)\n"
     ]
    },
    {
     "name": "stdout",
     "output_type": "stream",
     "text": [
      "cur_iter  1\n",
      "cur_iter  2\n",
      "cur_iter  3\n",
      "cur_iter  4\n",
      "cur_iter  5\n",
      "cur_iter  6\n",
      "cur_iter  7\n",
      "cur_iter  8\n",
      "cur_iter  9\n",
      "target_item:  6210\n",
      "5.580482321810905\n",
      "cur_iter  0\n"
     ]
    },
    {
     "name": "stderr",
     "output_type": "stream",
     "text": [
      "D:\\Anaconda\\envs\\tensorflow_cpu\\lib\\site-packages\\scipy\\sparse\\_index.py:126: SparseEfficiencyWarning: Changing the sparsity structure of a csr_matrix is expensive. lil_matrix is more efficient.\n",
      "  self._set_arrayXarray(i, j, x)\n"
     ]
    },
    {
     "name": "stdout",
     "output_type": "stream",
     "text": [
      "cur_iter  1\n",
      "cur_iter  2\n",
      "cur_iter  3\n",
      "cur_iter  4\n",
      "cur_iter  5\n",
      "cur_iter  6\n",
      "cur_iter  7\n",
      "cur_iter  8\n",
      "cur_iter  9\n"
     ]
    }
   ],
   "source": [
    "# PLREC\n",
    "columns = ['user_id', 'target_item', 'item_name', 'iter', 'pre_rank', \n",
    "           'top_prediction_item_name',\n",
    "           'post_rank_random_all',\n",
    "           'post_rank_random_upper',\n",
    "           'post_rank_pop_all',\n",
    "           'post_rank_pop_upper',\n",
    "           'post_rank_diff_all',\n",
    "           'post_rank_diff_upper',\n",
    "           'critiqued_keyphrase_random',\n",
    "           'keyphrase_name_random',\n",
    "           'critiqued_keyphrase_pop',\n",
    "           'keyphrase_name_pop',\n",
    "           'critiqued_keyphrase_diff',\n",
    "           'keyphrase_name_diff',\n",
    "           'num_existing_keyphrases',\n",
    "           'pure_pruning_rank'] \n",
    "df = pd.DataFrame(columns=columns)\n",
    "row = {}\n",
    "\n",
    "#only_with_critiqued_keyphrase\n",
    "for user in range(300,350):\n",
    "    df = single_step_critiquing_plrec(user = user, \n",
    "                           keyphrase_length_threshold = 230, \n",
    "                           max_iteration_threshold = 10,\n",
    "                           k = 50,\n",
    "                           df = df,\n",
    "                           row = row,\n",
    "                           business_df = business_df,\n",
    "                           keyphrases = keyphrases,\n",
    "                           keyphrase_popularity = keyphrase_popularity,\n",
    "                           keyphrase_selection_method = 'random',\n",
    "                           recommend_type = 'all',\n",
    "                           top_k_rec=40\n",
    "                           )\n",
    "df.to_csv(single_step_with_avg_path+\"ranking_and_rating_test.csv\")"
   ]
  },
  {
   "cell_type": "code",
   "execution_count": 47,
   "metadata": {},
   "outputs": [
    {
     "data": {
      "text/html": [
       "<div>\n",
       "<style>\n",
       "    .dataframe thead tr:only-child th {\n",
       "        text-align: right;\n",
       "    }\n",
       "\n",
       "    .dataframe thead th {\n",
       "        text-align: left;\n",
       "    }\n",
       "\n",
       "    .dataframe tbody tr th {\n",
       "        vertical-align: top;\n",
       "    }\n",
       "</style>\n",
       "<table border=\"1\" class=\"dataframe\">\n",
       "  <thead>\n",
       "    <tr style=\"text-align: right;\">\n",
       "      <th></th>\n",
       "      <th>user_id</th>\n",
       "      <th>target_item</th>\n",
       "      <th>item_name</th>\n",
       "      <th>iter</th>\n",
       "      <th>pre_rank</th>\n",
       "      <th>top_prediction_item_name</th>\n",
       "      <th>post_rank_random_all</th>\n",
       "      <th>post_rank_random_upper</th>\n",
       "      <th>post_rank_pop_all</th>\n",
       "      <th>post_rank_pop_upper</th>\n",
       "      <th>...</th>\n",
       "      <th>keyphrase_name_random</th>\n",
       "      <th>critiqued_keyphrase_pop</th>\n",
       "      <th>keyphrase_name_pop</th>\n",
       "      <th>critiqued_keyphrase_diff</th>\n",
       "      <th>keyphrase_name_diff</th>\n",
       "      <th>num_existing_keyphrases</th>\n",
       "      <th>pure_pruning_rank</th>\n",
       "      <th>diff_scores</th>\n",
       "      <th>pop_scores</th>\n",
       "      <th>random_scores</th>\n",
       "    </tr>\n",
       "  </thead>\n",
       "  <tbody>\n",
       "    <tr>\n",
       "      <th>0</th>\n",
       "      <td>300</td>\n",
       "      <td>101</td>\n",
       "      <td>b'Cabin Fever'</td>\n",
       "      <td>0</td>\n",
       "      <td>4830</td>\n",
       "      <td>b'Sansotei Ramen'</td>\n",
       "      <td>[4830, 4739, 4610, 4486, 4284, 3670, 3412, 316...</td>\n",
       "      <td>[6831, 6828, 6810, 6804, 6781, 903, 872, 841, ...</td>\n",
       "      <td>[4830, 4870, 4919, 4942, 4934, 4890, 4815, 468...</td>\n",
       "      <td>[7062, 7062, 7064, 7074, 7079, 7070, 7047, 702...</td>\n",
       "      <td>...</td>\n",
       "      <td>latte</td>\n",
       "      <td>155</td>\n",
       "      <td>refill</td>\n",
       "      <td>53</td>\n",
       "      <td>tea</td>\n",
       "      <td>NaN</td>\n",
       "      <td>4830</td>\n",
       "      <td>[40, 40, 38, 38, 38, 40, 40, 40, 40, 40, 40]</td>\n",
       "      <td>[-12, -8, -8, -6, -6, 0, 2, 10, 8, 6, 6]</td>\n",
       "      <td>[14, 12, 12, 12, 14, 16, 18, 16, 20, 22, 22]</td>\n",
       "    </tr>\n",
       "    <tr>\n",
       "      <th>1</th>\n",
       "      <td>300</td>\n",
       "      <td>101</td>\n",
       "      <td>b'Cabin Fever'</td>\n",
       "      <td>1</td>\n",
       "      <td>4830</td>\n",
       "      <td>b'Sansotei Ramen'</td>\n",
       "      <td>[4830, 4870, 4919, 4942, 4934, 4890, 4815, 468...</td>\n",
       "      <td>[7062, 7062, 7064, 7074, 7079, 7070, 7047, 702...</td>\n",
       "      <td>[4830, 4739, 4610, 4486, 4284, 3670, 3412, 316...</td>\n",
       "      <td>[6831, 6828, 6810, 6804, 6781, 903, 872, 841, ...</td>\n",
       "      <td>...</td>\n",
       "      <td>refill</td>\n",
       "      <td>105</td>\n",
       "      <td>latte</td>\n",
       "      <td>153</td>\n",
       "      <td>friendly</td>\n",
       "      <td>NaN</td>\n",
       "      <td>4830</td>\n",
       "      <td>[40, 40, 40, 40, 40, 40, 40, 40, 40, 38, 38]</td>\n",
       "      <td>[14, 12, 12, 12, 14, 16, 18, 16, 20, 22, 22]</td>\n",
       "      <td>[-12, -8, -8, -6, -6, 0, 2, 10, 8, 6, 6]</td>\n",
       "    </tr>\n",
       "    <tr>\n",
       "      <th>2</th>\n",
       "      <td>300</td>\n",
       "      <td>101</td>\n",
       "      <td>b'Cabin Fever'</td>\n",
       "      <td>2</td>\n",
       "      <td>4830</td>\n",
       "      <td>b'Sansotei Ramen'</td>\n",
       "      <td>[4830, 4720, 4589, 4394, 3757, 3473, 3180, 286...</td>\n",
       "      <td>[6685, 6671, 6655, 6630, 1151, 1109, 1060, 100...</td>\n",
       "      <td>[4830, 4720, 4589, 4394, 3757, 3473, 3180, 286...</td>\n",
       "      <td>[6685, 6671, 6655, 6630, 1151, 1109, 1060, 100...</td>\n",
       "      <td>...</td>\n",
       "      <td>bread</td>\n",
       "      <td>37</td>\n",
       "      <td>bread</td>\n",
       "      <td>105</td>\n",
       "      <td>latte</td>\n",
       "      <td>NaN</td>\n",
       "      <td>4830</td>\n",
       "      <td>[14, 12, 12, 12, 14, 16, 18, 16, 20, 22, 22]</td>\n",
       "      <td>[12, 12, 14, 12, 14, 18, 20, 18, 18, 24, 24]</td>\n",
       "      <td>[12, 12, 14, 12, 14, 18, 20, 18, 18, 24, 24]</td>\n",
       "    </tr>\n",
       "    <tr>\n",
       "      <th>3</th>\n",
       "      <td>300</td>\n",
       "      <td>886</td>\n",
       "      <td>b'Wok &amp; Roast Chinese BBQ'</td>\n",
       "      <td>0</td>\n",
       "      <td>3515</td>\n",
       "      <td>b'Sansotei Ramen'</td>\n",
       "      <td>[3515, 4187, 4557, 4934, 5270, 5442, 5503, 554...</td>\n",
       "      <td>[563, 7021, 7067, 7107, 7136, 7137, 7135, 7141...</td>\n",
       "      <td>[3515, 2877, 2365, 2086, 1917, 1813, 1747, 171...</td>\n",
       "      <td>[26, 29, 31, 30, 30, 31, 32, 33, 33, 33, 32]</td>\n",
       "      <td>...</td>\n",
       "      <td>toast</td>\n",
       "      <td>223</td>\n",
       "      <td>general tao</td>\n",
       "      <td>27</td>\n",
       "      <td>bbq</td>\n",
       "      <td>NaN</td>\n",
       "      <td>2442</td>\n",
       "      <td>[-10, -12, -10, -10, -10, -2, -2, -4, 0, 4, 6]</td>\n",
       "      <td>[-40, -40, -40, -38, -36, -34, -34, -34, -34, ...</td>\n",
       "      <td>[4, 0, 4, 12, 14, 14, 10, 14, 16, 16, 16]</td>\n",
       "    </tr>\n",
       "    <tr>\n",
       "      <th>4</th>\n",
       "      <td>300</td>\n",
       "      <td>886</td>\n",
       "      <td>b'Wok &amp; Roast Chinese BBQ'</td>\n",
       "      <td>1</td>\n",
       "      <td>3515</td>\n",
       "      <td>b'Sansotei Ramen'</td>\n",
       "      <td>[3515, 4422, 5016, 5376, 5627, 5740, 5802, 580...</td>\n",
       "      <td>[267, 7254, 7271, 7277, 7297, 7305, 7308, 7305...</td>\n",
       "      <td>[3515, 2822, 2360, 2019, 1796, 1669, 1590, 151...</td>\n",
       "      <td>[108, 115, 124, 128, 125, 123, 121, 118, 121, ...</td>\n",
       "      <td>...</td>\n",
       "      <td>squid</td>\n",
       "      <td>73</td>\n",
       "      <td>congee</td>\n",
       "      <td>0</td>\n",
       "      <td>chinese</td>\n",
       "      <td>NaN</td>\n",
       "      <td>2442</td>\n",
       "      <td>[-8, -4, -2, 4, 8, 16, 24, 24, 30, 30, 30]</td>\n",
       "      <td>[-28, -30, -22, -18, -12, -12, -8, -10, -10, -...</td>\n",
       "      <td>[-20, -22, -18, -14, -10, -6, -6, -2, -6, -6, -6]</td>\n",
       "    </tr>\n",
       "    <tr>\n",
       "      <th>5</th>\n",
       "      <td>300</td>\n",
       "      <td>886</td>\n",
       "      <td>b'Wok &amp; Roast Chinese BBQ'</td>\n",
       "      <td>2</td>\n",
       "      <td>3515</td>\n",
       "      <td>b'Sansotei Ramen'</td>\n",
       "      <td>[3515, 4382, 4970, 5417, 5776, 5975, 6115, 617...</td>\n",
       "      <td>[463, 7012, 7093, 7147, 7187, 7209, 7229, 7237...</td>\n",
       "      <td>[3515, 4422, 5016, 5376, 5627, 5740, 5802, 580...</td>\n",
       "      <td>[267, 7254, 7271, 7277, 7297, 7305, 7308, 7305...</td>\n",
       "      <td>...</td>\n",
       "      <td>takeout</td>\n",
       "      <td>60</td>\n",
       "      <td>squid</td>\n",
       "      <td>5</td>\n",
       "      <td>fried</td>\n",
       "      <td>NaN</td>\n",
       "      <td>2442</td>\n",
       "      <td>[30, 30, 30, 28, 24, 22, 20, 22, 22, 22, 22]</td>\n",
       "      <td>[-20, -22, -18, -14, -10, -6, -6, -2, -6, -6, -6]</td>\n",
       "      <td>[-22, -24, -22, -18, -8, -2, -4, 4, 6, 4, 6]</td>\n",
       "    </tr>\n",
       "    <tr>\n",
       "      <th>6</th>\n",
       "      <td>300</td>\n",
       "      <td>886</td>\n",
       "      <td>b'Wok &amp; Roast Chinese BBQ'</td>\n",
       "      <td>3</td>\n",
       "      <td>3515</td>\n",
       "      <td>b'Sansotei Ramen'</td>\n",
       "      <td>[3515, 4840, 5647, 6197, 6545, 6819, 6952, 701...</td>\n",
       "      <td>[689, 6953, 7058, 7147, 7203, 7261, 7293, 7302...</td>\n",
       "      <td>[3515, 3340, 3194, 3055, 2902, 2751, 2616, 252...</td>\n",
       "      <td>[255, 238, 234, 238, 235, 237, 245, 236, 230, ...</td>\n",
       "      <td>...</td>\n",
       "      <td>fancy</td>\n",
       "      <td>133</td>\n",
       "      <td>fried rice</td>\n",
       "      <td>133</td>\n",
       "      <td>fried rice</td>\n",
       "      <td>NaN</td>\n",
       "      <td>2442</td>\n",
       "      <td>[-28, -28, -28, -22, -22, -22, -20, -20, -18, ...</td>\n",
       "      <td>[-28, -28, -28, -22, -22, -22, -20, -20, -18, ...</td>\n",
       "      <td>[12, 10, 12, 18, 14, 16, 16, 16, 14, 14, 18]</td>\n",
       "    </tr>\n",
       "    <tr>\n",
       "      <th>7</th>\n",
       "      <td>300</td>\n",
       "      <td>886</td>\n",
       "      <td>b'Wok &amp; Roast Chinese BBQ'</td>\n",
       "      <td>4</td>\n",
       "      <td>3515</td>\n",
       "      <td>b'Sansotei Ramen'</td>\n",
       "      <td>[3515, 3364, 3166, 2981, 2744, 2530, 2358, 221...</td>\n",
       "      <td>[800, 784, 761, 735, 712, 675, 648, 621, 589, ...</td>\n",
       "      <td>[3515, 4382, 4970, 5417, 5776, 5975, 6115, 617...</td>\n",
       "      <td>[463, 7012, 7093, 7147, 7187, 7209, 7229, 7237...</td>\n",
       "      <td>...</td>\n",
       "      <td>sour</td>\n",
       "      <td>15</td>\n",
       "      <td>takeout</td>\n",
       "      <td>60</td>\n",
       "      <td>squid</td>\n",
       "      <td>NaN</td>\n",
       "      <td>2442</td>\n",
       "      <td>[-20, -22, -18, -14, -10, -6, -6, -2, -6, -6, -6]</td>\n",
       "      <td>[-22, -24, -22, -18, -8, -2, -4, 4, 6, 4, 6]</td>\n",
       "      <td>[20, 20, 22, 26, 26, 32, 30, 34, 30, 28, 26]</td>\n",
       "    </tr>\n",
       "    <tr>\n",
       "      <th>8</th>\n",
       "      <td>300</td>\n",
       "      <td>886</td>\n",
       "      <td>b'Wok &amp; Roast Chinese BBQ'</td>\n",
       "      <td>5</td>\n",
       "      <td>3515</td>\n",
       "      <td>b'Sansotei Ramen'</td>\n",
       "      <td>[3515, 4861, 5639, 6199, 6511, 6652, 6711, 671...</td>\n",
       "      <td>[492, 7087, 7148, 7213, 7246, 7269, 7269, 7266...</td>\n",
       "      <td>[3515, 4861, 5639, 6199, 6511, 6652, 6711, 671...</td>\n",
       "      <td>[492, 7087, 7148, 7213, 7246, 7269, 7269, 7266...</td>\n",
       "      <td>...</td>\n",
       "      <td>juice</td>\n",
       "      <td>81</td>\n",
       "      <td>juice</td>\n",
       "      <td>73</td>\n",
       "      <td>congee</td>\n",
       "      <td>NaN</td>\n",
       "      <td>2442</td>\n",
       "      <td>[-28, -30, -22, -18, -12, -12, -8, -10, -10, -...</td>\n",
       "      <td>[-6, -6, -2, -4, 2, 6, 0, 2, 6, 6, 6]</td>\n",
       "      <td>[-6, -6, -2, -4, 2, 6, 0, 2, 6, 6, 6]</td>\n",
       "    </tr>\n",
       "    <tr>\n",
       "      <th>9</th>\n",
       "      <td>300</td>\n",
       "      <td>886</td>\n",
       "      <td>b'Wok &amp; Roast Chinese BBQ'</td>\n",
       "      <td>6</td>\n",
       "      <td>3515</td>\n",
       "      <td>b'Sansotei Ramen'</td>\n",
       "      <td>[3515, 3520, 3524, 3549, 3621, 4031, 4103, 414...</td>\n",
       "      <td>[1217, 1220, 1216, 1227, 1236, 6502, 6500, 647...</td>\n",
       "      <td>[3515, 3055, 2655, 2327, 2003, 1721, 1529, 139...</td>\n",
       "      <td>[300, 286, 280, 285, 276, 272, 257, 253, 243, ...</td>\n",
       "      <td>...</td>\n",
       "      <td>reasonable</td>\n",
       "      <td>115</td>\n",
       "      <td>lobster</td>\n",
       "      <td>52</td>\n",
       "      <td>beef</td>\n",
       "      <td>NaN</td>\n",
       "      <td>2442</td>\n",
       "      <td>[22, 20, 18, 18, 20, 22, 24, 28, 30, 34, 34]</td>\n",
       "      <td>[-26, -26, -24, -16, -12, -6, -4, 0, -4, -4, -4]</td>\n",
       "      <td>[30, 28, 26, 28, 32, 28, 28, 26, 26, 28, 30]</td>\n",
       "    </tr>\n",
       "    <tr>\n",
       "      <th>10</th>\n",
       "      <td>300</td>\n",
       "      <td>886</td>\n",
       "      <td>b'Wok &amp; Roast Chinese BBQ'</td>\n",
       "      <td>7</td>\n",
       "      <td>3515</td>\n",
       "      <td>b'Sansotei Ramen'</td>\n",
       "      <td>[3515, 4817, 5601, 6150, 6555, 6817, 6968, 703...</td>\n",
       "      <td>[615, 7080, 7158, 7237, 7290, 7314, 7341, 7354...</td>\n",
       "      <td>[3515, 4840, 5647, 6197, 6545, 6819, 6952, 701...</td>\n",
       "      <td>[689, 6953, 7058, 7147, 7203, 7261, 7293, 7302...</td>\n",
       "      <td>...</td>\n",
       "      <td>burger</td>\n",
       "      <td>171</td>\n",
       "      <td>fancy</td>\n",
       "      <td>198</td>\n",
       "      <td>crunchy</td>\n",
       "      <td>NaN</td>\n",
       "      <td>2442</td>\n",
       "      <td>[8, 6, 8, 10, 12, 10, 14, 14, 14, 18, 16]</td>\n",
       "      <td>[12, 10, 12, 18, 14, 16, 16, 16, 14, 14, 18]</td>\n",
       "      <td>[2, 0, 4, 6, 8, 6, 8, 16, 14, 12, 10]</td>\n",
       "    </tr>\n",
       "    <tr>\n",
       "      <th>11</th>\n",
       "      <td>300</td>\n",
       "      <td>886</td>\n",
       "      <td>b'Wok &amp; Roast Chinese BBQ'</td>\n",
       "      <td>8</td>\n",
       "      <td>3515</td>\n",
       "      <td>b'Sansotei Ramen'</td>\n",
       "      <td>[3515, 3055, 2655, 2327, 2003, 1721, 1529, 139...</td>\n",
       "      <td>[300, 286, 280, 285, 276, 272, 257, 253, 243, ...</td>\n",
       "      <td>[3515, 4187, 4557, 4934, 5270, 5442, 5503, 554...</td>\n",
       "      <td>[563, 7021, 7067, 7107, 7136, 7137, 7135, 7141...</td>\n",
       "      <td>...</td>\n",
       "      <td>lobster</td>\n",
       "      <td>97</td>\n",
       "      <td>toast</td>\n",
       "      <td>213</td>\n",
       "      <td>pot</td>\n",
       "      <td>NaN</td>\n",
       "      <td>2442</td>\n",
       "      <td>[40, 40, 40, 40, 40, 40, 40, 40, 40, 40, 40]</td>\n",
       "      <td>[4, 0, 4, 12, 14, 14, 10, 14, 16, 16, 16]</td>\n",
       "      <td>[-26, -26, -24, -16, -12, -6, -4, 0, -4, -4, -4]</td>\n",
       "    </tr>\n",
       "    <tr>\n",
       "      <th>12</th>\n",
       "      <td>300</td>\n",
       "      <td>886</td>\n",
       "      <td>b'Wok &amp; Roast Chinese BBQ'</td>\n",
       "      <td>9</td>\n",
       "      <td>3515</td>\n",
       "      <td>b'Sansotei Ramen'</td>\n",
       "      <td>[3515, 2822, 2360, 2019, 1796, 1669, 1590, 151...</td>\n",
       "      <td>[108, 115, 124, 128, 125, 123, 121, 118, 121, ...</td>\n",
       "      <td>[3515, 3364, 3166, 2981, 2744, 2530, 2358, 221...</td>\n",
       "      <td>[800, 784, 761, 735, 712, 675, 648, 621, 589, ...</td>\n",
       "      <td>...</td>\n",
       "      <td>congee</td>\n",
       "      <td>215</td>\n",
       "      <td>sour</td>\n",
       "      <td>35</td>\n",
       "      <td>crispy</td>\n",
       "      <td>NaN</td>\n",
       "      <td>2442</td>\n",
       "      <td>[26, 24, 26, 28, 28, 28, 30, 32, 34, 36, 34]</td>\n",
       "      <td>[20, 20, 22, 26, 26, 32, 30, 34, 30, 28, 26]</td>\n",
       "      <td>[-28, -30, -22, -18, -12, -12, -8, -10, -10, -...</td>\n",
       "    </tr>\n",
       "    <tr>\n",
       "      <th>13</th>\n",
       "      <td>300</td>\n",
       "      <td>968</td>\n",
       "      <td>b'Porter Airlines'</td>\n",
       "      <td>0</td>\n",
       "      <td>663</td>\n",
       "      <td>b'Sansotei Ramen'</td>\n",
       "      <td>[663, 629, 609, 604, 631, 699, 823, 1028, 1321...</td>\n",
       "      <td>[157, 146, 143, 149, 171, 182, 214, 255, 298, ...</td>\n",
       "      <td>[663, 286, 180, 158, 141, 132, 136, 138, 140, ...</td>\n",
       "      <td>[24, 18, 14, 11, 11, 10, 10, 9, 9, 9, 9]</td>\n",
       "      <td>...</td>\n",
       "      <td>breakfast</td>\n",
       "      <td>230</td>\n",
       "      <td>alcoholic beverage</td>\n",
       "      <td>47</td>\n",
       "      <td>coffee</td>\n",
       "      <td>NaN</td>\n",
       "      <td>625</td>\n",
       "      <td>[2, 4, 0, 4, 8, 12, 22, 28, 34, 36, 36]</td>\n",
       "      <td>[-30, -32, -32, -34, -32, -32, -34, -34, -34, ...</td>\n",
       "      <td>[-12, -10, -10, -10, -10, -10, -6, -6, -8, -8,...</td>\n",
       "    </tr>\n",
       "    <tr>\n",
       "      <th>14</th>\n",
       "      <td>300</td>\n",
       "      <td>968</td>\n",
       "      <td>b'Porter Airlines'</td>\n",
       "      <td>1</td>\n",
       "      <td>663</td>\n",
       "      <td>b'Sansotei Ramen'</td>\n",
       "      <td>[663, 593, 531, 465, 404, 375, 367, 380, 408, ...</td>\n",
       "      <td>[271, 249, 228, 205, 191, 183, 185, 190, 207, ...</td>\n",
       "      <td>[663, 563, 487, 465, 506, 540, 608, 676, 733, ...</td>\n",
       "      <td>[83, 81, 79, 81, 98, 97, 109, 116, 126, 137, 145]</td>\n",
       "      <td>...</td>\n",
       "      <td>sandwich</td>\n",
       "      <td>69</td>\n",
       "      <td>cookie</td>\n",
       "      <td>26</td>\n",
       "      <td>downtown</td>\n",
       "      <td>NaN</td>\n",
       "      <td>625</td>\n",
       "      <td>[8, 10, 14, 16, 22, 24, 28, 32, 36, 38, 38]</td>\n",
       "      <td>[-26, -24, -24, -24, -18, -16, -8, -10, -10, -...</td>\n",
       "      <td>[6, 8, 8, 10, 12, 10, 12, 16, 20, 18, 20]</td>\n",
       "    </tr>\n",
       "    <tr>\n",
       "      <th>15</th>\n",
       "      <td>300</td>\n",
       "      <td>968</td>\n",
       "      <td>b'Porter Airlines'</td>\n",
       "      <td>2</td>\n",
       "      <td>663</td>\n",
       "      <td>b'Sansotei Ramen'</td>\n",
       "      <td>[663, 563, 487, 465, 506, 540, 608, 676, 733, ...</td>\n",
       "      <td>[83, 81, 79, 81, 98, 97, 109, 116, 126, 137, 145]</td>\n",
       "      <td>[663, 600, 579, 589, 616, 683, 753, 843, 917, ...</td>\n",
       "      <td>[47, 51, 59, 68, 64, 68, 76, 84, 90, 93, 95]</td>\n",
       "      <td>...</td>\n",
       "      <td>cookie</td>\n",
       "      <td>205</td>\n",
       "      <td>gelato</td>\n",
       "      <td>116</td>\n",
       "      <td>wine</td>\n",
       "      <td>NaN</td>\n",
       "      <td>625</td>\n",
       "      <td>[18, 20, 22, 22, 26, 30, 34, 32, 32, 30, 30]</td>\n",
       "      <td>[-32, -32, -28, -24, -22, -22, -20, -20, -18, ...</td>\n",
       "      <td>[-26, -24, -24, -24, -18, -16, -8, -10, -10, -...</td>\n",
       "    </tr>\n",
       "    <tr>\n",
       "      <th>16</th>\n",
       "      <td>300</td>\n",
       "      <td>968</td>\n",
       "      <td>b'Porter Airlines'</td>\n",
       "      <td>3</td>\n",
       "      <td>663</td>\n",
       "      <td>b'Sansotei Ramen'</td>\n",
       "      <td>[663, 597, 541, 513, 459, 403, 388, 395, 422, ...</td>\n",
       "      <td>[409, 384, 353, 338, 312, 270, 270, 275, 293, ...</td>\n",
       "      <td>[663, 462, 320, 254, 221, 203, 192, 199, 199, ...</td>\n",
       "      <td>[98, 88, 77, 77, 79, 77, 80, 86, 86, 91, 94]</td>\n",
       "      <td>...</td>\n",
       "      <td>reasonable</td>\n",
       "      <td>65</td>\n",
       "      <td>espresso</td>\n",
       "      <td>87</td>\n",
       "      <td>tart</td>\n",
       "      <td>NaN</td>\n",
       "      <td>625</td>\n",
       "      <td>[40, 38, 38, 38, 38, 38, 40, 40, 38, 38, 38]</td>\n",
       "      <td>[-26, -28, -22, -16, -14, -12, -10, -6, 0, 4, 6]</td>\n",
       "      <td>[30, 28, 26, 28, 32, 28, 28, 26, 26, 28, 30]</td>\n",
       "    </tr>\n",
       "    <tr>\n",
       "      <th>17</th>\n",
       "      <td>300</td>\n",
       "      <td>968</td>\n",
       "      <td>b'Porter Airlines'</td>\n",
       "      <td>4</td>\n",
       "      <td>663</td>\n",
       "      <td>b'Sansotei Ramen'</td>\n",
       "      <td>[663, 286, 180, 158, 141, 132, 136, 138, 140, ...</td>\n",
       "      <td>[24, 18, 14, 11, 11, 10, 10, 9, 9, 9, 9]</td>\n",
       "      <td>[663, 545, 452, 367, 296, 280, 288, 302, 330, ...</td>\n",
       "      <td>[93, 83, 78, 69, 63, 63, 66, 66, 68, 70, 75]</td>\n",
       "      <td>...</td>\n",
       "      <td>alcoholic beverage</td>\n",
       "      <td>163</td>\n",
       "      <td>dog</td>\n",
       "      <td>172</td>\n",
       "      <td>comfortable</td>\n",
       "      <td>NaN</td>\n",
       "      <td>625</td>\n",
       "      <td>[24, 22, 22, 22, 26, 30, 24, 22, 24, 24, 24]</td>\n",
       "      <td>[-26, -28, -24, -22, -16, -12, -16, -16, -8, -...</td>\n",
       "      <td>[-30, -32, -32, -34, -32, -32, -34, -34, -34, ...</td>\n",
       "    </tr>\n",
       "    <tr>\n",
       "      <th>18</th>\n",
       "      <td>300</td>\n",
       "      <td>968</td>\n",
       "      <td>b'Porter Airlines'</td>\n",
       "      <td>5</td>\n",
       "      <td>663</td>\n",
       "      <td>b'Sansotei Ramen'</td>\n",
       "      <td>[663, 908, 1408, 2649, 5858, 6875, 7196, 7306,...</td>\n",
       "      <td>[344, 430, 604, 922, 6921, 7222, 7320, 7364, 7...</td>\n",
       "      <td>[663, 801, 1122, 1778, 3477, 5607, 6248, 6532,...</td>\n",
       "      <td>[118, 133, 172, 227, 309, 7258, 7299, 7330, 73...</td>\n",
       "      <td>...</td>\n",
       "      <td>bread</td>\n",
       "      <td>68</td>\n",
       "      <td>banana</td>\n",
       "      <td>185</td>\n",
       "      <td>wait</td>\n",
       "      <td>NaN</td>\n",
       "      <td>625</td>\n",
       "      <td>[38, 38, 38, 38, 38, 38, 38, 38, 38, 40, 40]</td>\n",
       "      <td>[-18, -20, -20, -18, -16, -14, -12, -8, -6, -4...</td>\n",
       "      <td>[12, 12, 14, 12, 14, 18, 20, 18, 18, 24, 24]</td>\n",
       "    </tr>\n",
       "    <tr>\n",
       "      <th>19</th>\n",
       "      <td>300</td>\n",
       "      <td>968</td>\n",
       "      <td>b'Porter Airlines'</td>\n",
       "      <td>6</td>\n",
       "      <td>663</td>\n",
       "      <td>b'Sansotei Ramen'</td>\n",
       "      <td>[663, 1072, 2330, 5867, 6887, 7139, 7256, 7279...</td>\n",
       "      <td>[119, 165, 276, 7212, 7321, 7375, 7405, 7409, ...</td>\n",
       "      <td>[663, 483, 356, 258, 210, 177, 161, 148, 152, ...</td>\n",
       "      <td>[177, 140, 124, 100, 93, 85, 79, 72, 72, 74, 73]</td>\n",
       "      <td>...</td>\n",
       "      <td>coconut</td>\n",
       "      <td>195</td>\n",
       "      <td>healthy</td>\n",
       "      <td>153</td>\n",
       "      <td>friendly</td>\n",
       "      <td>NaN</td>\n",
       "      <td>625</td>\n",
       "      <td>[40, 40, 40, 40, 40, 40, 40, 40, 40, 38, 38]</td>\n",
       "      <td>[-4, -2, 2, -2, 4, 2, 6, 12, 12, 14, 12]</td>\n",
       "      <td>[-22, -20, -16, -22, -16, -16, -12, -10, -6, -...</td>\n",
       "    </tr>\n",
       "    <tr>\n",
       "      <th>20</th>\n",
       "      <td>300</td>\n",
       "      <td>968</td>\n",
       "      <td>b'Porter Airlines'</td>\n",
       "      <td>7</td>\n",
       "      <td>663</td>\n",
       "      <td>b'Sansotei Ramen'</td>\n",
       "      <td>[663, 801, 1122, 1778, 3477, 5607, 6248, 6532,...</td>\n",
       "      <td>[118, 133, 172, 227, 309, 7258, 7299, 7330, 73...</td>\n",
       "      <td>[663, 884, 1336, 2556, 5676, 6604, 6925, 7058,...</td>\n",
       "      <td>[183, 221, 297, 422, 7147, 7260, 7304, 7333, 7...</td>\n",
       "      <td>...</td>\n",
       "      <td>banana</td>\n",
       "      <td>81</td>\n",
       "      <td>juice</td>\n",
       "      <td>41</td>\n",
       "      <td>beer</td>\n",
       "      <td>NaN</td>\n",
       "      <td>625</td>\n",
       "      <td>[26, 28, 28, 30, 28, 28, 30, 32, 34, 32, 34]</td>\n",
       "      <td>[-6, -6, -2, -4, 2, 6, 0, 2, 6, 6, 6]</td>\n",
       "      <td>[-18, -20, -20, -18, -16, -14, -12, -8, -6, -4...</td>\n",
       "    </tr>\n",
       "    <tr>\n",
       "      <th>21</th>\n",
       "      <td>300</td>\n",
       "      <td>968</td>\n",
       "      <td>b'Porter Airlines'</td>\n",
       "      <td>8</td>\n",
       "      <td>663</td>\n",
       "      <td>b'Sansotei Ramen'</td>\n",
       "      <td>[663, 470, 316, 206, 158, 122, 100, 80, 79, 73...</td>\n",
       "      <td>[274, 220, 164, 119, 98, 85, 77, 68, 69, 63, 62]</td>\n",
       "      <td>[663, 1072, 2330, 5867, 6887, 7139, 7256, 7279...</td>\n",
       "      <td>[119, 165, 276, 7212, 7321, 7375, 7405, 7409, ...</td>\n",
       "      <td>...</td>\n",
       "      <td>coffee</td>\n",
       "      <td>94</td>\n",
       "      <td>coconut</td>\n",
       "      <td>167</td>\n",
       "      <td>pleasant</td>\n",
       "      <td>NaN</td>\n",
       "      <td>625</td>\n",
       "      <td>[26, 22, 22, 20, 18, 16, 16, 22, 26, 26, 24]</td>\n",
       "      <td>[-22, -20, -16, -22, -16, -16, -12, -10, -6, -...</td>\n",
       "      <td>[2, 4, 0, 4, 8, 12, 22, 28, 34, 36, 36]</td>\n",
       "    </tr>\n",
       "    <tr>\n",
       "      <th>22</th>\n",
       "      <td>300</td>\n",
       "      <td>968</td>\n",
       "      <td>b'Porter Airlines'</td>\n",
       "      <td>9</td>\n",
       "      <td>663</td>\n",
       "      <td>b'Sansotei Ramen'</td>\n",
       "      <td>[663, 545, 452, 367, 296, 280, 288, 302, 330, ...</td>\n",
       "      <td>[93, 83, 78, 69, 63, 63, 66, 66, 68, 70, 75]</td>\n",
       "      <td>[663, 468, 301, 201, 157, 119, 101, 76, 75, 69...</td>\n",
       "      <td>[227, 177, 132, 95, 71, 56, 49, 40, 41, 37, 36]</td>\n",
       "      <td>...</td>\n",
       "      <td>dog</td>\n",
       "      <td>103</td>\n",
       "      <td>fruit</td>\n",
       "      <td>154</td>\n",
       "      <td>convenient</td>\n",
       "      <td>NaN</td>\n",
       "      <td>625</td>\n",
       "      <td>[-8, -2, -2, -2, -2, 4, 14, 18, 20, 16, 18]</td>\n",
       "      <td>[-10, -4, -2, 2, 2, 6, 6, 4, 0, -4, -4]</td>\n",
       "      <td>[-26, -28, -24, -22, -16, -12, -16, -16, -8, -...</td>\n",
       "    </tr>\n",
       "    <tr>\n",
       "      <th>23</th>\n",
       "      <td>300</td>\n",
       "      <td>1898</td>\n",
       "      <td>b'416 Snack Bar'</td>\n",
       "      <td>0</td>\n",
       "      <td>20</td>\n",
       "      <td>b'Sansotei Ramen'</td>\n",
       "      <td>[20, 18, 15, 15, 16, 17, 28, 38, 58, 120, 201]</td>\n",
       "      <td>[10, 9, 7, 6, 7, 11, 22, 31, 47, 78, 99]</td>\n",
       "      <td>[20, 25, 54, 104, 283, 1379, 5945, 6947, 7179,...</td>\n",
       "      <td>[5, 7, 16, 24, 52, 108, 7394, 7424, 7434, 7440...</td>\n",
       "      <td>...</td>\n",
       "      <td>steak</td>\n",
       "      <td>63</td>\n",
       "      <td>donut</td>\n",
       "      <td>3</td>\n",
       "      <td>bar</td>\n",
       "      <td>NaN</td>\n",
       "      <td>19</td>\n",
       "      <td>[32, 32, 34, 34, 32, 32, 36, 36, 36, 40, 40]</td>\n",
       "      <td>[-16, -20, -16, -12, -12, -12, -12, -14, -16, ...</td>\n",
       "      <td>[2, 0, 0, 8, 14, 18, 20, 26, 30, 28, 24]</td>\n",
       "    </tr>\n",
       "    <tr>\n",
       "      <th>24</th>\n",
       "      <td>300</td>\n",
       "      <td>1898</td>\n",
       "      <td>b'416 Snack Bar'</td>\n",
       "      <td>1</td>\n",
       "      <td>20</td>\n",
       "      <td>b'Sansotei Ramen'</td>\n",
       "      <td>[20, 20, 21, 22, 22, 21, 23, 23, 27, 40, 49]</td>\n",
       "      <td>[12, 13, 13, 15, 15, 14, 17, 18, 20, 31, 36]</td>\n",
       "      <td>[20, 23, 32, 46, 78, 140, 280, 602, 1390, 3902...</td>\n",
       "      <td>[2, 4, 12, 19, 33, 46, 69, 109, 151, 7333, 7361]</td>\n",
       "      <td>...</td>\n",
       "      <td>apple</td>\n",
       "      <td>66</td>\n",
       "      <td>octopus</td>\n",
       "      <td>119</td>\n",
       "      <td>bun</td>\n",
       "      <td>NaN</td>\n",
       "      <td>19</td>\n",
       "      <td>[30, 30, 28, 28, 28, 32, 30, 26, 30, 28, 28]</td>\n",
       "      <td>[-22, -14, -6, -8, -6, -6, -4, -2, 0, 2, 2]</td>\n",
       "      <td>[6, 4, 8, 10, 12, 14, 14, 16, 18, 22, 22]</td>\n",
       "    </tr>\n",
       "    <tr>\n",
       "      <th>25</th>\n",
       "      <td>300</td>\n",
       "      <td>1898</td>\n",
       "      <td>b'416 Snack Bar'</td>\n",
       "      <td>2</td>\n",
       "      <td>20</td>\n",
       "      <td>b'Sansotei Ramen'</td>\n",
       "      <td>[20, 20, 27, 41, 73, 118, 231, 623, 1831, 5626...</td>\n",
       "      <td>[3, 3, 4, 9, 20, 31, 67, 125, 241, 7345, 7393]</td>\n",
       "      <td>[20, 23, 25, 41, 70, 120, 252, 699, 2320, 5580...</td>\n",
       "      <td>[4, 6, 9, 13, 24, 33, 65, 134, 222, 7290, 7339]</td>\n",
       "      <td>...</td>\n",
       "      <td>dumpling</td>\n",
       "      <td>60</td>\n",
       "      <td>squid</td>\n",
       "      <td>87</td>\n",
       "      <td>tart</td>\n",
       "      <td>NaN</td>\n",
       "      <td>19</td>\n",
       "      <td>[40, 38, 38, 38, 38, 38, 40, 40, 38, 38, 38]</td>\n",
       "      <td>[-20, -22, -18, -14, -10, -6, -6, -2, -6, -6, -6]</td>\n",
       "      <td>[-28, -28, -24, -22, -16, -12, -8, -8, -8, -6,...</td>\n",
       "    </tr>\n",
       "    <tr>\n",
       "      <th>26</th>\n",
       "      <td>300</td>\n",
       "      <td>1898</td>\n",
       "      <td>b'416 Snack Bar'</td>\n",
       "      <td>3</td>\n",
       "      <td>20</td>\n",
       "      <td>b'Sansotei Ramen'</td>\n",
       "      <td>[20, 28, 52, 100, 386, 4881, 7126, 7328, 7389,...</td>\n",
       "      <td>[9, 11, 21, 38, 114, 7147, 7388, 7424, 7432, 7...</td>\n",
       "      <td>[20, 29, 61, 132, 493, 5088, 7165, 7359, 7397,...</td>\n",
       "      <td>[1, 1, 7, 16, 59, 7376, 7440, 7447, 7449, 7450...</td>\n",
       "      <td>...</td>\n",
       "      <td>lettuce</td>\n",
       "      <td>12</td>\n",
       "      <td>mexican</td>\n",
       "      <td>5</td>\n",
       "      <td>fried</td>\n",
       "      <td>NaN</td>\n",
       "      <td>19</td>\n",
       "      <td>[30, 30, 30, 28, 24, 22, 20, 22, 22, 22, 22]</td>\n",
       "      <td>[-36, -36, -30, -28, -24, -22, -20, -18, -20, ...</td>\n",
       "      <td>[-6, -10, -8, -2, -2, -6, -10, -10, -8, -4, -2]</td>\n",
       "    </tr>\n",
       "    <tr>\n",
       "      <th>27</th>\n",
       "      <td>300</td>\n",
       "      <td>1898</td>\n",
       "      <td>b'416 Snack Bar'</td>\n",
       "      <td>4</td>\n",
       "      <td>20</td>\n",
       "      <td>b'Sansotei Ramen'</td>\n",
       "      <td>[20, 25, 31, 53, 120, 268, 738, 2080, 5676, 66...</td>\n",
       "      <td>[3, 7, 10, 23, 48, 82, 156, 257, 7344, 7392, 7...</td>\n",
       "      <td>[20, 25, 43, 88, 236, 828, 4459, 6861, 7194, 7...</td>\n",
       "      <td>[4, 5, 9, 20, 45, 117, 7353, 7411, 7426, 7435,...</td>\n",
       "      <td>...</td>\n",
       "      <td>movie</td>\n",
       "      <td>74</td>\n",
       "      <td>skewer</td>\n",
       "      <td>127</td>\n",
       "      <td>fried chicken</td>\n",
       "      <td>NaN</td>\n",
       "      <td>19</td>\n",
       "      <td>[-8, -10, 0, 6, 10, 14, 16, 14, 8, 6, 8]</td>\n",
       "      <td>[-26, -22, -22, -20, -14, -14, -12, -14, -12, ...</td>\n",
       "      <td>[-16, -16, -12, -8, 2, 12, 12, 12, 12, 12, 12]</td>\n",
       "    </tr>\n",
       "    <tr>\n",
       "      <th>28</th>\n",
       "      <td>300</td>\n",
       "      <td>1898</td>\n",
       "      <td>b'416 Snack Bar'</td>\n",
       "      <td>5</td>\n",
       "      <td>20</td>\n",
       "      <td>b'Sansotei Ramen'</td>\n",
       "      <td>[20, 18, 17, 16, 17, 15, 14, 9, 12, 26, 54]</td>\n",
       "      <td>[17, 15, 14, 13, 14, 12, 11, 6, 8, 20, 48]</td>\n",
       "      <td>[20, 25, 31, 53, 120, 268, 738, 2080, 5676, 66...</td>\n",
       "      <td>[3, 7, 10, 23, 48, 82, 156, 257, 7344, 7392, 7...</td>\n",
       "      <td>...</td>\n",
       "      <td>reasonable</td>\n",
       "      <td>140</td>\n",
       "      <td>movie</td>\n",
       "      <td>100</td>\n",
       "      <td>oyster</td>\n",
       "      <td>NaN</td>\n",
       "      <td>19</td>\n",
       "      <td>[-14, -8, -2, -4, 4, 12, 10, 10, 14, 14, 12]</td>\n",
       "      <td>[-16, -16, -12, -8, 2, 12, 12, 12, 12, 12, 12]</td>\n",
       "      <td>[30, 28, 26, 28, 32, 28, 28, 26, 26, 28, 30]</td>\n",
       "    </tr>\n",
       "    <tr>\n",
       "      <th>29</th>\n",
       "      <td>300</td>\n",
       "      <td>1898</td>\n",
       "      <td>b'416 Snack Bar'</td>\n",
       "      <td>6</td>\n",
       "      <td>20</td>\n",
       "      <td>b'Sansotei Ramen'</td>\n",
       "      <td>[20, 20, 21, 25, 28, 34, 58, 115, 230, 535, 1329]</td>\n",
       "      <td>[8, 8, 10, 11, 16, 20, 33, 56, 90, 159, 275]</td>\n",
       "      <td>[20, 22, 20, 20, 22, 29, 35, 48, 59, 76, 96]</td>\n",
       "      <td>[5, 6, 6, 8, 10, 11, 11, 15, 20, 31, 35]</td>\n",
       "      <td>...</td>\n",
       "      <td>honey</td>\n",
       "      <td>64</td>\n",
       "      <td>olive</td>\n",
       "      <td>123</td>\n",
       "      <td>steak</td>\n",
       "      <td>NaN</td>\n",
       "      <td>19</td>\n",
       "      <td>[2, 0, 0, 8, 14, 18, 20, 26, 30, 28, 24]</td>\n",
       "      <td>[-12, -18, -16, -16, -12, -12, -16, -14, -12, ...</td>\n",
       "      <td>[-12, -8, -12, -4, 0, 4, 4, 4, 8, 8, 14]</td>\n",
       "    </tr>\n",
       "    <tr>\n",
       "      <th>...</th>\n",
       "      <td>...</td>\n",
       "      <td>...</td>\n",
       "      <td>...</td>\n",
       "      <td>...</td>\n",
       "      <td>...</td>\n",
       "      <td>...</td>\n",
       "      <td>...</td>\n",
       "      <td>...</td>\n",
       "      <td>...</td>\n",
       "      <td>...</td>\n",
       "      <td>...</td>\n",
       "      <td>...</td>\n",
       "      <td>...</td>\n",
       "      <td>...</td>\n",
       "      <td>...</td>\n",
       "      <td>...</td>\n",
       "      <td>...</td>\n",
       "      <td>...</td>\n",
       "      <td>...</td>\n",
       "      <td>...</td>\n",
       "      <td>...</td>\n",
       "    </tr>\n",
       "    <tr>\n",
       "      <th>3483</th>\n",
       "      <td>349</td>\n",
       "      <td>4148</td>\n",
       "      <td>b'The Marlowe Restaurant and Wine Bar'</td>\n",
       "      <td>0</td>\n",
       "      <td>116</td>\n",
       "      <td>b'Jim Chai Kee'</td>\n",
       "      <td>[116, 125, 172, 269, 514, 1149, 3031, 5393, 61...</td>\n",
       "      <td>[17, 23, 43, 66, 109, 182, 285, 7247, 7288, 73...</td>\n",
       "      <td>[116, 168, 271, 586, 1285, 2708, 5425, 6322, 6...</td>\n",
       "      <td>[9, 19, 31, 69, 109, 151, 7371, 7391, 7403, 74...</td>\n",
       "      <td>...</td>\n",
       "      <td>banana</td>\n",
       "      <td>89</td>\n",
       "      <td>crepe</td>\n",
       "      <td>7</td>\n",
       "      <td>dinner</td>\n",
       "      <td>NaN</td>\n",
       "      <td>115</td>\n",
       "      <td>[36, 36, 36, 36, 38, 38, 38, 38, 38, 38, 38]</td>\n",
       "      <td>[-34, -28, -20, -22, -24, -22, -24, -24, -24, ...</td>\n",
       "      <td>[-28, -32, -24, -18, -6, 0, -4, -6, -6, -4, -6]</td>\n",
       "    </tr>\n",
       "    <tr>\n",
       "      <th>3484</th>\n",
       "      <td>349</td>\n",
       "      <td>4148</td>\n",
       "      <td>b'The Marlowe Restaurant and Wine Bar'</td>\n",
       "      <td>1</td>\n",
       "      <td>116</td>\n",
       "      <td>b'Jim Chai Kee'</td>\n",
       "      <td>[116, 112, 117, 139, 168, 213, 311, 459, 663, ...</td>\n",
       "      <td>[38, 43, 51, 69, 79, 97, 127, 174, 217, 265, 309]</td>\n",
       "      <td>[116, 94, 87, 83, 113, 159, 213, 291, 407, 522...</td>\n",
       "      <td>[20, 18, 17, 23, 27, 39, 55, 68, 87, 111, 124]</td>\n",
       "      <td>...</td>\n",
       "      <td>roasted</td>\n",
       "      <td>194</td>\n",
       "      <td>gravy</td>\n",
       "      <td>116</td>\n",
       "      <td>wine</td>\n",
       "      <td>NaN</td>\n",
       "      <td>115</td>\n",
       "      <td>[-4, -4, -4, 0, 8, 20, 30, 30, 26, 30, 30]</td>\n",
       "      <td>[-22, -20, -18, -16, -12, -16, -20, -20, -20, ...</td>\n",
       "      <td>[-8, -6, -2, 6, 12, 16, 18, 18, 18, 18, 20]</td>\n",
       "    </tr>\n",
       "    <tr>\n",
       "      <th>3485</th>\n",
       "      <td>349</td>\n",
       "      <td>4148</td>\n",
       "      <td>b'The Marlowe Restaurant and Wine Bar'</td>\n",
       "      <td>2</td>\n",
       "      <td>116</td>\n",
       "      <td>b'Jim Chai Kee'</td>\n",
       "      <td>[116, 97, 77, 76, 63, 68, 86, 90, 112, 147, 185]</td>\n",
       "      <td>[38, 30, 25, 31, 30, 37, 51, 60, 67, 86, 109]</td>\n",
       "      <td>[116, 125, 172, 269, 514, 1149, 3031, 5393, 61...</td>\n",
       "      <td>[17, 23, 43, 66, 109, 182, 285, 7247, 7288, 73...</td>\n",
       "      <td>...</td>\n",
       "      <td>chocolate</td>\n",
       "      <td>68</td>\n",
       "      <td>banana</td>\n",
       "      <td>49</td>\n",
       "      <td>cheese</td>\n",
       "      <td>NaN</td>\n",
       "      <td>115</td>\n",
       "      <td>[-2, 0, 0, 2, 8, 14, 16, 24, 24, 34, 34]</td>\n",
       "      <td>[-28, -32, -24, -18, -6, 0, -4, -6, -6, -4, -6]</td>\n",
       "      <td>[-16, -16, -14, -8, 0, 6, 14, 20, 18, 20, 20]</td>\n",
       "    </tr>\n",
       "    <tr>\n",
       "      <th>3486</th>\n",
       "      <td>349</td>\n",
       "      <td>4148</td>\n",
       "      <td>b'The Marlowe Restaurant and Wine Bar'</td>\n",
       "      <td>3</td>\n",
       "      <td>116</td>\n",
       "      <td>b'Jim Chai Kee'</td>\n",
       "      <td>[116, 133, 180, 279, 481, 1132, 4472, 6659, 71...</td>\n",
       "      <td>[64, 77, 107, 169, 261, 466, 6803, 7140, 7273,...</td>\n",
       "      <td>[116, 115, 139, 189, 272, 411, 696, 1123, 1671...</td>\n",
       "      <td>[17, 22, 33, 51, 72, 94, 123, 173, 217, 259, 7...</td>\n",
       "      <td>...</td>\n",
       "      <td>pricey</td>\n",
       "      <td>64</td>\n",
       "      <td>olive</td>\n",
       "      <td>50</td>\n",
       "      <td>salad</td>\n",
       "      <td>NaN</td>\n",
       "      <td>115</td>\n",
       "      <td>[10, 10, 10, 10, 14, 20, 24, 26, 26, 28, 30]</td>\n",
       "      <td>[-28, -32, -20, -18, -18, -12, -10, -14, -10, ...</td>\n",
       "      <td>[0, 0, 2, 6, 14, 14, 14, 14, 14, 16, 18]</td>\n",
       "    </tr>\n",
       "    <tr>\n",
       "      <th>3487</th>\n",
       "      <td>349</td>\n",
       "      <td>4148</td>\n",
       "      <td>b'The Marlowe Restaurant and Wine Bar'</td>\n",
       "      <td>4</td>\n",
       "      <td>116</td>\n",
       "      <td>b'Jim Chai Kee'</td>\n",
       "      <td>[116, 126, 159, 249, 432, 979, 2968, 5843, 654...</td>\n",
       "      <td>[54, 59, 80, 128, 204, 362, 657, 7108, 7211, 7...</td>\n",
       "      <td>[116, 115, 122, 153, 189, 234, 297, 379, 500, ...</td>\n",
       "      <td>[38, 39, 47, 62, 76, 82, 94, 106, 123, 138, 149]</td>\n",
       "      <td>...</td>\n",
       "      <td>modern</td>\n",
       "      <td>72</td>\n",
       "      <td>scallop</td>\n",
       "      <td>24</td>\n",
       "      <td>birthday</td>\n",
       "      <td>NaN</td>\n",
       "      <td>115</td>\n",
       "      <td>[-10, -10, -6, 0, 6, 8, 8, 14, 20, 12, 14]</td>\n",
       "      <td>[-16, -14, -10, -2, 6, 8, 12, 10, 12, 12, 16]</td>\n",
       "      <td>[2, 0, 2, 8, 14, 14, 14, 16, 20, 22, 22]</td>\n",
       "    </tr>\n",
       "    <tr>\n",
       "      <th>3488</th>\n",
       "      <td>349</td>\n",
       "      <td>4148</td>\n",
       "      <td>b'The Marlowe Restaurant and Wine Bar'</td>\n",
       "      <td>5</td>\n",
       "      <td>116</td>\n",
       "      <td>b'Jim Chai Kee'</td>\n",
       "      <td>[116, 132, 151, 203, 285, 483, 770, 1160, 1786...</td>\n",
       "      <td>[40, 49, 58, 81, 115, 178, 235, 303, 371, 449,...</td>\n",
       "      <td>[116, 123, 136, 195, 341, 670, 1494, 4089, 557...</td>\n",
       "      <td>[21, 22, 27, 42, 70, 99, 161, 7241, 7313, 7358...</td>\n",
       "      <td>...</td>\n",
       "      <td>crust</td>\n",
       "      <td>132</td>\n",
       "      <td>spring roll</td>\n",
       "      <td>6</td>\n",
       "      <td>dessert</td>\n",
       "      <td>NaN</td>\n",
       "      <td>115</td>\n",
       "      <td>[10, 14, 16, 16, 20, 26, 30, 32, 34, 32, 34]</td>\n",
       "      <td>[-20, -16, -18, -20, -18, -20, -20, -20, -20, ...</td>\n",
       "      <td>[-8, -6, -6, 2, 10, 12, 16, 14, 14, 14, 16]</td>\n",
       "    </tr>\n",
       "    <tr>\n",
       "      <th>3489</th>\n",
       "      <td>349</td>\n",
       "      <td>4148</td>\n",
       "      <td>b'The Marlowe Restaurant and Wine Bar'</td>\n",
       "      <td>6</td>\n",
       "      <td>116</td>\n",
       "      <td>b'Jim Chai Kee'</td>\n",
       "      <td>[116, 108, 106, 106, 116, 142, 174, 227, 320, ...</td>\n",
       "      <td>[68, 63, 69, 69, 72, 87, 103, 125, 159, 180, 218]</td>\n",
       "      <td>[116, 134, 207, 387, 742, 1413, 2629, 4678, 55...</td>\n",
       "      <td>[14, 24, 46, 83, 130, 192, 261, 7281, 7310, 73...</td>\n",
       "      <td>...</td>\n",
       "      <td>rare</td>\n",
       "      <td>102</td>\n",
       "      <td>cheesecake</td>\n",
       "      <td>30</td>\n",
       "      <td>seafood</td>\n",
       "      <td>NaN</td>\n",
       "      <td>115</td>\n",
       "      <td>[0, -2, 8, 8, 12, 16, 18, 22, 20, 18, 16]</td>\n",
       "      <td>[-28, -22, -14, -14, -10, -6, -6, -4, 4, 4, 4]</td>\n",
       "      <td>[18, 20, 22, 20, 22, 22, 22, 18, 18, 18, 16]</td>\n",
       "    </tr>\n",
       "    <tr>\n",
       "      <th>3490</th>\n",
       "      <td>349</td>\n",
       "      <td>4148</td>\n",
       "      <td>b'The Marlowe Restaurant and Wine Bar'</td>\n",
       "      <td>7</td>\n",
       "      <td>116</td>\n",
       "      <td>b'Jim Chai Kee'</td>\n",
       "      <td>[116, 116, 125, 151, 207, 297, 444, 656, 952, ...</td>\n",
       "      <td>[50, 51, 61, 74, 105, 152, 198, 272, 360, 468,...</td>\n",
       "      <td>[116, 100, 90, 88, 99, 118, 142, 171, 224, 297...</td>\n",
       "      <td>[50, 46, 48, 49, 58, 69, 82, 98, 116, 141, 160]</td>\n",
       "      <td>...</td>\n",
       "      <td>tomato</td>\n",
       "      <td>159</td>\n",
       "      <td>crowded</td>\n",
       "      <td>185</td>\n",
       "      <td>wait</td>\n",
       "      <td>NaN</td>\n",
       "      <td>115</td>\n",
       "      <td>[40, 40, 40, 40, 40, 40, 40, 40, 40, 40, 40]</td>\n",
       "      <td>[-2, 0, 4, 12, 18, 20, 20, 24, 26, 26, 26]</td>\n",
       "      <td>[0, -4, 0, 4, 8, 8, 8, 8, 12, 14, 16]</td>\n",
       "    </tr>\n",
       "    <tr>\n",
       "      <th>3491</th>\n",
       "      <td>349</td>\n",
       "      <td>4148</td>\n",
       "      <td>b'The Marlowe Restaurant and Wine Bar'</td>\n",
       "      <td>8</td>\n",
       "      <td>116</td>\n",
       "      <td>b'Jim Chai Kee'</td>\n",
       "      <td>[116, 168, 271, 586, 1285, 2708, 5425, 6322, 6...</td>\n",
       "      <td>[9, 19, 31, 69, 109, 151, 7371, 7391, 7403, 74...</td>\n",
       "      <td>[116, 91, 74, 73, 69, 83, 91, 113, 127, 143, 168]</td>\n",
       "      <td>[44, 39, 33, 34, 31, 43, 51, 61, 65, 70, 76]</td>\n",
       "      <td>...</td>\n",
       "      <td>crepe</td>\n",
       "      <td>82</td>\n",
       "      <td>booth</td>\n",
       "      <td>3</td>\n",
       "      <td>bar</td>\n",
       "      <td>NaN</td>\n",
       "      <td>115</td>\n",
       "      <td>[24, 24, 24, 26, 28, 36, 38, 38, 40, 40, 40]</td>\n",
       "      <td>[-8, -8, -8, -8, 0, 4, 2, 2, 2, 4, 6]</td>\n",
       "      <td>[-34, -28, -20, -22, -24, -22, -24, -24, -24, ...</td>\n",
       "    </tr>\n",
       "    <tr>\n",
       "      <th>3492</th>\n",
       "      <td>349</td>\n",
       "      <td>4148</td>\n",
       "      <td>b'The Marlowe Restaurant and Wine Bar'</td>\n",
       "      <td>9</td>\n",
       "      <td>116</td>\n",
       "      <td>b'Jim Chai Kee'</td>\n",
       "      <td>[116, 115, 122, 153, 189, 234, 297, 379, 500, ...</td>\n",
       "      <td>[38, 39, 47, 62, 76, 82, 94, 106, 123, 138, 149]</td>\n",
       "      <td>[116, 112, 117, 139, 168, 213, 311, 459, 663, ...</td>\n",
       "      <td>[38, 43, 51, 69, 79, 97, 127, 174, 217, 265, 309]</td>\n",
       "      <td>...</td>\n",
       "      <td>scallop</td>\n",
       "      <td>210</td>\n",
       "      <td>roasted</td>\n",
       "      <td>43</td>\n",
       "      <td>cake</td>\n",
       "      <td>NaN</td>\n",
       "      <td>115</td>\n",
       "      <td>[16, 16, 20, 22, 24, 22, 22, 24, 26, 26, 22]</td>\n",
       "      <td>[-8, -6, -2, 6, 12, 16, 18, 18, 18, 18, 20]</td>\n",
       "      <td>[-16, -14, -10, -2, 6, 8, 12, 10, 12, 12, 16]</td>\n",
       "    </tr>\n",
       "    <tr>\n",
       "      <th>3493</th>\n",
       "      <td>349</td>\n",
       "      <td>4495</td>\n",
       "      <td>b'Dragon Legend'</td>\n",
       "      <td>0</td>\n",
       "      <td>201</td>\n",
       "      <td>b'Jim Chai Kee'</td>\n",
       "      <td>[201, 181, 168, 162, 170, 191, 224, 273, 330, ...</td>\n",
       "      <td>[63, 67, 69, 77, 81, 89, 100, 114, 131, 151, 175]</td>\n",
       "      <td>[201, 39, 19, 19, 18, 17, 17, 16, 16, 17, 16]</td>\n",
       "      <td>[6, 4, 1, 1, 1, 1, 1, 1, 2, 2, 1]</td>\n",
       "      <td>...</td>\n",
       "      <td>roasted</td>\n",
       "      <td>223</td>\n",
       "      <td>general tao</td>\n",
       "      <td>14</td>\n",
       "      <td>buffet</td>\n",
       "      <td>NaN</td>\n",
       "      <td>200</td>\n",
       "      <td>[-26, -18, -14, -10, -6, -4, -4, -6, -6, -8, -10]</td>\n",
       "      <td>[-30, -30, -34, -34, -34, -34, -34, -34, -34, ...</td>\n",
       "      <td>[-8, -6, -2, 6, 12, 16, 18, 18, 18, 18, 20]</td>\n",
       "    </tr>\n",
       "    <tr>\n",
       "      <th>3494</th>\n",
       "      <td>349</td>\n",
       "      <td>4495</td>\n",
       "      <td>b'Dragon Legend'</td>\n",
       "      <td>1</td>\n",
       "      <td>201</td>\n",
       "      <td>b'Jim Chai Kee'</td>\n",
       "      <td>[201, 417, 1078, 3129, 5726, 6376, 6646, 6778,...</td>\n",
       "      <td>[27, 58, 99, 145, 7342, 7363, 7382, 7383, 7386...</td>\n",
       "      <td>[201, 7062, 7415, 7438, 7442, 7443, 7444, 7444...</td>\n",
       "      <td>[18, 7439, 7449, 7455, 7455, 7455, 7455, 7455,...</td>\n",
       "      <td>...</td>\n",
       "      <td>bubble tea</td>\n",
       "      <td>231</td>\n",
       "      <td>grand opening</td>\n",
       "      <td>108</td>\n",
       "      <td>duck</td>\n",
       "      <td>NaN</td>\n",
       "      <td>200</td>\n",
       "      <td>[-10, -6, 4, 12, 14, 16, 16, 16, 14, 14, 10]</td>\n",
       "      <td>[-26, -24, -24, -18, -18, -16, -16, -16, -18, ...</td>\n",
       "      <td>[-30, -30, -32, -26, -28, -30, -30, -30, -30, ...</td>\n",
       "    </tr>\n",
       "    <tr>\n",
       "      <th>3495</th>\n",
       "      <td>349</td>\n",
       "      <td>4495</td>\n",
       "      <td>b'Dragon Legend'</td>\n",
       "      <td>2</td>\n",
       "      <td>201</td>\n",
       "      <td>b'Jim Chai Kee'</td>\n",
       "      <td>[201, 38, 12, 8, 7, 5, 5, 5, 4, 4, 4]</td>\n",
       "      <td>[55, 16, 8, 6, 5, 4, 4, 5, 4, 4, 4]</td>\n",
       "      <td>[201, 128, 88, 70, 71, 74, 76, 84, 89, 87, 90]</td>\n",
       "      <td>[18, 11, 9, 10, 13, 13, 15, 17, 19, 18, 18]</td>\n",
       "      <td>...</td>\n",
       "      <td>duck</td>\n",
       "      <td>62</td>\n",
       "      <td>tapioca</td>\n",
       "      <td>44</td>\n",
       "      <td>sushi</td>\n",
       "      <td>NaN</td>\n",
       "      <td>200</td>\n",
       "      <td>[-24, -16, -16, -8, 0, 2, 8, 10, 14, 18, 22]</td>\n",
       "      <td>[-38, -38, -34, -32, -28, -24, -24, -24, -24, ...</td>\n",
       "      <td>[-10, -6, 4, 12, 14, 16, 16, 16, 14, 14, 10]</td>\n",
       "    </tr>\n",
       "    <tr>\n",
       "      <th>3496</th>\n",
       "      <td>349</td>\n",
       "      <td>4495</td>\n",
       "      <td>b'Dragon Legend'</td>\n",
       "      <td>3</td>\n",
       "      <td>201</td>\n",
       "      <td>b'Jim Chai Kee'</td>\n",
       "      <td>[201, 230, 310, 452, 649, 872, 1132, 1402, 164...</td>\n",
       "      <td>[39, 51, 64, 90, 116, 147, 167, 175, 190, 195,...</td>\n",
       "      <td>[201, 300, 503, 909, 1538, 2366, 3978, 5101, 5...</td>\n",
       "      <td>[29, 55, 74, 101, 129, 141, 7420, 7418, 7425, ...</td>\n",
       "      <td>...</td>\n",
       "      <td>bubble</td>\n",
       "      <td>73</td>\n",
       "      <td>congee</td>\n",
       "      <td>110</td>\n",
       "      <td>sashimi</td>\n",
       "      <td>NaN</td>\n",
       "      <td>200</td>\n",
       "      <td>[-26, -24, -14, -6, -2, -2, -2, 0, 0, -2, -2]</td>\n",
       "      <td>[-16, -14, -4, -8, -8, -10, -10, -8, -10, -10,...</td>\n",
       "      <td>[-22, -16, -8, -6, -8, -12, -12, -12, -12, -10...</td>\n",
       "    </tr>\n",
       "    <tr>\n",
       "      <th>3497</th>\n",
       "      <td>349</td>\n",
       "      <td>4495</td>\n",
       "      <td>b'Dragon Legend'</td>\n",
       "      <td>4</td>\n",
       "      <td>201</td>\n",
       "      <td>b'Jim Chai Kee'</td>\n",
       "      <td>[201, 325, 584, 1561, 6236, 7130, 7311, 7363, ...</td>\n",
       "      <td>[109, 162, 272, 554, 7047, 7303, 7377, 7404, 7...</td>\n",
       "      <td>[201, 311, 509, 1053, 2574, 5787, 6606, 6884, ...</td>\n",
       "      <td>[32, 45, 71, 112, 178, 7384, 7400, 7410, 7418,...</td>\n",
       "      <td>...</td>\n",
       "      <td>latte</td>\n",
       "      <td>61</td>\n",
       "      <td>tempura</td>\n",
       "      <td>6</td>\n",
       "      <td>dessert</td>\n",
       "      <td>NaN</td>\n",
       "      <td>200</td>\n",
       "      <td>[10, 14, 16, 16, 20, 26, 30, 32, 34, 32, 34]</td>\n",
       "      <td>[-26, -20, -20, -18, -16, -14, -12, -12, -10, ...</td>\n",
       "      <td>[4, 8, 12, 14, 22, 24, 26, 24, 24, 22, 22]</td>\n",
       "    </tr>\n",
       "    <tr>\n",
       "      <th>3498</th>\n",
       "      <td>349</td>\n",
       "      <td>4495</td>\n",
       "      <td>b'Dragon Legend'</td>\n",
       "      <td>5</td>\n",
       "      <td>201</td>\n",
       "      <td>b'Jim Chai Kee'</td>\n",
       "      <td>[201, 167, 140, 119, 113, 104, 108, 113, 124, ...</td>\n",
       "      <td>[104, 88, 77, 67, 65, 64, 69, 71, 77, 78, 85]</td>\n",
       "      <td>[201, 28, 8, 4, 3, 3, 2, 2, 2, 2, 2]</td>\n",
       "      <td>[23, 9, 4, 3, 2, 2, 2, 2, 2, 2, 2]</td>\n",
       "      <td>...</td>\n",
       "      <td>seafood</td>\n",
       "      <td>14</td>\n",
       "      <td>buffet</td>\n",
       "      <td>7</td>\n",
       "      <td>dinner</td>\n",
       "      <td>NaN</td>\n",
       "      <td>200</td>\n",
       "      <td>[36, 36, 36, 36, 38, 38, 38, 38, 38, 38, 38]</td>\n",
       "      <td>[-26, -18, -14, -10, -6, -4, -4, -6, -6, -8, -10]</td>\n",
       "      <td>[0, -2, 8, 8, 12, 16, 18, 22, 20, 18, 16]</td>\n",
       "    </tr>\n",
       "    <tr>\n",
       "      <th>3499</th>\n",
       "      <td>349</td>\n",
       "      <td>4495</td>\n",
       "      <td>b'Dragon Legend'</td>\n",
       "      <td>6</td>\n",
       "      <td>201</td>\n",
       "      <td>b'Jim Chai Kee'</td>\n",
       "      <td>[201, 358, 805, 2641, 6480, 7069, 7216, 7289, ...</td>\n",
       "      <td>[45, 93, 166, 325, 7346, 7406, 7418, 7424, 742...</td>\n",
       "      <td>[201, 356, 741, 2215, 6039, 6797, 7036, 7146, ...</td>\n",
       "      <td>[68, 105, 150, 242, 7329, 7365, 7377, 7389, 73...</td>\n",
       "      <td>...</td>\n",
       "      <td>fried chicken</td>\n",
       "      <td>60</td>\n",
       "      <td>squid</td>\n",
       "      <td>124</td>\n",
       "      <td>salmon</td>\n",
       "      <td>NaN</td>\n",
       "      <td>200</td>\n",
       "      <td>[-14, -14, -8, 0, 6, 4, 14, 12, 12, 12, 10]</td>\n",
       "      <td>[-8, -6, -6, 4, 4, -2, -4, -2, -2, -6, -6]</td>\n",
       "      <td>[-20, -14, -8, 4, 6, 4, 6, 10, 10, 10, 8]</td>\n",
       "    </tr>\n",
       "    <tr>\n",
       "      <th>3500</th>\n",
       "      <td>349</td>\n",
       "      <td>4495</td>\n",
       "      <td>b'Dragon Legend'</td>\n",
       "      <td>7</td>\n",
       "      <td>201</td>\n",
       "      <td>b'Jim Chai Kee'</td>\n",
       "      <td>[201, 158, 134, 125, 139, 154, 162, 179, 202, ...</td>\n",
       "      <td>[34, 40, 44, 46, 57, 67, 69, 68, 69, 68, 72]</td>\n",
       "      <td>[201, 125, 77, 54, 40, 32, 31, 29, 29, 33, 34]</td>\n",
       "      <td>[26, 18, 9, 9, 8, 11, 12, 12, 13, 15, 16]</td>\n",
       "      <td>...</td>\n",
       "      <td>movie</td>\n",
       "      <td>163</td>\n",
       "      <td>dog</td>\n",
       "      <td>0</td>\n",
       "      <td>chinese</td>\n",
       "      <td>NaN</td>\n",
       "      <td>200</td>\n",
       "      <td>[10, 16, 20, 24, 24, 26, 26, 28, 30, 30, 30]</td>\n",
       "      <td>[-26, -28, -26, -28, -24, -12, -8, -2, -2, -2,...</td>\n",
       "      <td>[-22, -22, -8, -2, 6, 12, 12, 10, 12, 14, 12]</td>\n",
       "    </tr>\n",
       "    <tr>\n",
       "      <th>3501</th>\n",
       "      <td>349</td>\n",
       "      <td>4495</td>\n",
       "      <td>b'Dragon Legend'</td>\n",
       "      <td>8</td>\n",
       "      <td>201</td>\n",
       "      <td>b'Jim Chai Kee'</td>\n",
       "      <td>[201, 354, 817, 3845, 6390, 6894, 7053, 7141, ...</td>\n",
       "      <td>[80, 120, 193, 7170, 7299, 7338, 7355, 7371, 7...</td>\n",
       "      <td>[201, 158, 134, 125, 139, 154, 162, 179, 202, ...</td>\n",
       "      <td>[34, 40, 44, 46, 57, 67, 69, 68, 69, 68, 72]</td>\n",
       "      <td>...</td>\n",
       "      <td>belly</td>\n",
       "      <td>140</td>\n",
       "      <td>movie</td>\n",
       "      <td>57</td>\n",
       "      <td>dim sum</td>\n",
       "      <td>NaN</td>\n",
       "      <td>200</td>\n",
       "      <td>[-16, -16, -10, -10, -4, -8, -8, -6, -8, -8, -8]</td>\n",
       "      <td>[-22, -22, -8, -2, 6, 12, 12, 10, 12, 14, 12]</td>\n",
       "      <td>[-6, -2, 2, 10, 16, 18, 16, 18, 18, 20, 20]</td>\n",
       "    </tr>\n",
       "    <tr>\n",
       "      <th>3502</th>\n",
       "      <td>349</td>\n",
       "      <td>4495</td>\n",
       "      <td>b'Dragon Legend'</td>\n",
       "      <td>9</td>\n",
       "      <td>201</td>\n",
       "      <td>b'Jim Chai Kee'</td>\n",
       "      <td>[201, 298, 468, 912, 2486, 6045, 6820, 7068, 7...</td>\n",
       "      <td>[106, 145, 211, 333, 611, 7078, 7217, 7285, 73...</td>\n",
       "      <td>[201, 140, 93, 77, 69, 75, 72, 86, 97, 106, 123]</td>\n",
       "      <td>[36, 29, 21, 24, 25, 30, 31, 35, 36, 39, 43]</td>\n",
       "      <td>...</td>\n",
       "      <td>wrap</td>\n",
       "      <td>68</td>\n",
       "      <td>banana</td>\n",
       "      <td>59</td>\n",
       "      <td>ice cream</td>\n",
       "      <td>NaN</td>\n",
       "      <td>200</td>\n",
       "      <td>[-6, -4, 2, 2, 2, 4, 8, 14, 16, 16, 18]</td>\n",
       "      <td>[-28, -32, -24, -18, -6, 0, -4, -6, -6, -4, -6]</td>\n",
       "      <td>[8, 6, 4, 2, 4, 8, 8, 8, 12, 18, 16]</td>\n",
       "    </tr>\n",
       "    <tr>\n",
       "      <th>3503</th>\n",
       "      <td>349</td>\n",
       "      <td>6210</td>\n",
       "      <td>b\"Osmow's\"</td>\n",
       "      <td>0</td>\n",
       "      <td>5581</td>\n",
       "      <td>b'Jim Chai Kee'</td>\n",
       "      <td>[5581, 5873, 6046, 6171, 6243, 6225, 6134, 604...</td>\n",
       "      <td>[6973, 7028, 7062, 7100, 7124, 7131, 7121, 710...</td>\n",
       "      <td>[5581, 4910, 3483, 2657, 2154, 1834, 1669, 154...</td>\n",
       "      <td>[7267, 7241, 297, 261, 243, 222, 213, 208, 199...</td>\n",
       "      <td>...</td>\n",
       "      <td>dark</td>\n",
       "      <td>64</td>\n",
       "      <td>olive</td>\n",
       "      <td>56</td>\n",
       "      <td>chicken</td>\n",
       "      <td>NaN</td>\n",
       "      <td>5581</td>\n",
       "      <td>[34, 34, 36, 38, 38, 36, 38, 36, 30, 28, 22]</td>\n",
       "      <td>[-28, -32, -20, -18, -18, -12, -10, -14, -10, ...</td>\n",
       "      <td>[-8, -8, -8, -4, -4, 6, 12, 14, 14, 18, 18]</td>\n",
       "    </tr>\n",
       "    <tr>\n",
       "      <th>3504</th>\n",
       "      <td>349</td>\n",
       "      <td>6210</td>\n",
       "      <td>b\"Osmow's\"</td>\n",
       "      <td>1</td>\n",
       "      <td>5581</td>\n",
       "      <td>b'Jim Chai Kee'</td>\n",
       "      <td>[5581, 5665, 5710, 5730, 5693, 5636, 5543, 541...</td>\n",
       "      <td>[6856, 6865, 6866, 6877, 6868, 6846, 6839, 681...</td>\n",
       "      <td>[5581, 5813, 6008, 6140, 6182, 6201, 6157, 609...</td>\n",
       "      <td>[7117, 7143, 7156, 7173, 7185, 7190, 7181, 717...</td>\n",
       "      <td>...</td>\n",
       "      <td>topped</td>\n",
       "      <td>160</td>\n",
       "      <td>overpriced</td>\n",
       "      <td>150</td>\n",
       "      <td>clean</td>\n",
       "      <td>NaN</td>\n",
       "      <td>5581</td>\n",
       "      <td>[38, 38, 38, 38, 38, 38, 38, 38, 38, 38, 34]</td>\n",
       "      <td>[-10, -10, -10, -10, -6, -2, 0, 2, 2, 0, 2]</td>\n",
       "      <td>[12, 12, 10, 10, 16, 16, 20, 24, 26, 30, 36]</td>\n",
       "    </tr>\n",
       "    <tr>\n",
       "      <th>3505</th>\n",
       "      <td>349</td>\n",
       "      <td>6210</td>\n",
       "      <td>b\"Osmow's\"</td>\n",
       "      <td>2</td>\n",
       "      <td>5581</td>\n",
       "      <td>b'Jim Chai Kee'</td>\n",
       "      <td>[5581, 6024, 6357, 6602, 6707, 6769, 6786, 679...</td>\n",
       "      <td>[6968, 7065, 7143, 7203, 7229, 7245, 7253, 726...</td>\n",
       "      <td>[5581, 5090, 4262, 3007, 2424, 2051, 1799, 163...</td>\n",
       "      <td>[7191, 7165, 7127, 451, 408, 362, 330, 302, 28...</td>\n",
       "      <td>...</td>\n",
       "      <td>tomato</td>\n",
       "      <td>76</td>\n",
       "      <td>lettuce</td>\n",
       "      <td>42</td>\n",
       "      <td>sandwich</td>\n",
       "      <td>NaN</td>\n",
       "      <td>5581</td>\n",
       "      <td>[-6, -6, -4, -2, 0, 8, 10, 20, 18, 16, 20]</td>\n",
       "      <td>[-8, -6, -6, -6, -8, -8, -8, -4, -2, -4, -2]</td>\n",
       "      <td>[0, -4, 0, 4, 8, 8, 8, 8, 12, 14, 16]</td>\n",
       "    </tr>\n",
       "    <tr>\n",
       "      <th>3506</th>\n",
       "      <td>349</td>\n",
       "      <td>6210</td>\n",
       "      <td>b\"Osmow's\"</td>\n",
       "      <td>3</td>\n",
       "      <td>5581</td>\n",
       "      <td>b'Jim Chai Kee'</td>\n",
       "      <td>[5581, 5813, 6008, 6140, 6182, 6201, 6157, 609...</td>\n",
       "      <td>[7117, 7143, 7156, 7173, 7185, 7190, 7181, 717...</td>\n",
       "      <td>[5581, 5397, 5126, 4751, 4308, 3894, 3174, 289...</td>\n",
       "      <td>[7220, 7219, 7204, 7181, 7158, 7146, 349, 331,...</td>\n",
       "      <td>...</td>\n",
       "      <td>overpriced</td>\n",
       "      <td>193</td>\n",
       "      <td>mayo</td>\n",
       "      <td>50</td>\n",
       "      <td>salad</td>\n",
       "      <td>NaN</td>\n",
       "      <td>5581</td>\n",
       "      <td>[10, 10, 10, 10, 14, 20, 24, 26, 26, 28, 30]</td>\n",
       "      <td>[-16, -8, -2, 4, 6, 14, 16, 14, 20, 18, 18]</td>\n",
       "      <td>[-10, -10, -10, -10, -6, -2, 0, 2, 2, 0, 2]</td>\n",
       "    </tr>\n",
       "    <tr>\n",
       "      <th>3507</th>\n",
       "      <td>349</td>\n",
       "      <td>6210</td>\n",
       "      <td>b\"Osmow's\"</td>\n",
       "      <td>4</td>\n",
       "      <td>5581</td>\n",
       "      <td>b'Jim Chai Kee'</td>\n",
       "      <td>[5581, 5712, 5838, 5926, 6004, 6043, 6043, 601...</td>\n",
       "      <td>[6905, 6936, 6969, 6979, 7011, 7021, 7026, 701...</td>\n",
       "      <td>[5581, 6143, 6525, 6717, 6774, 6777, 6775, 675...</td>\n",
       "      <td>[7126, 7186, 7247, 7264, 7264, 7263, 7262, 725...</td>\n",
       "      <td>...</td>\n",
       "      <td>fry</td>\n",
       "      <td>203</td>\n",
       "      <td>greasy</td>\n",
       "      <td>208</td>\n",
       "      <td>topped</td>\n",
       "      <td>NaN</td>\n",
       "      <td>5581</td>\n",
       "      <td>[12, 12, 10, 10, 16, 16, 20, 24, 26, 30, 36]</td>\n",
       "      <td>[10, 10, 8, 10, 16, 20, 20, 18, 18, 18, 20]</td>\n",
       "      <td>[16, 16, 16, 16, 18, 14, 14, 16, 18, 18, 18]</td>\n",
       "    </tr>\n",
       "    <tr>\n",
       "      <th>3508</th>\n",
       "      <td>349</td>\n",
       "      <td>6210</td>\n",
       "      <td>b\"Osmow's\"</td>\n",
       "      <td>5</td>\n",
       "      <td>5581</td>\n",
       "      <td>b'Jim Chai Kee'</td>\n",
       "      <td>[5581, 5381, 5097, 4694, 4119, 3198, 2738, 239...</td>\n",
       "      <td>[7167, 7158, 7136, 7116, 7089, 423, 399, 370, ...</td>\n",
       "      <td>[5581, 5952, 6255, 6455, 6563, 6616, 6630, 661...</td>\n",
       "      <td>[7020, 7066, 7123, 7164, 7182, 7201, 7196, 719...</td>\n",
       "      <td>...</td>\n",
       "      <td>pizza</td>\n",
       "      <td>164</td>\n",
       "      <td>quiet</td>\n",
       "      <td>178</td>\n",
       "      <td>honestly</td>\n",
       "      <td>NaN</td>\n",
       "      <td>5581</td>\n",
       "      <td>[16, 16, 16, 18, 22, 30, 34, 34, 36, 36, 34]</td>\n",
       "      <td>[-2, 0, 0, 4, 10, 12, 16, 16, 16, 12, 12]</td>\n",
       "      <td>[-18, -18, -16, -16, -10, -6, -6, -2, 0, -2, -2]</td>\n",
       "    </tr>\n",
       "    <tr>\n",
       "      <th>3509</th>\n",
       "      <td>349</td>\n",
       "      <td>6210</td>\n",
       "      <td>b\"Osmow's\"</td>\n",
       "      <td>6</td>\n",
       "      <td>5581</td>\n",
       "      <td>b'Jim Chai Kee'</td>\n",
       "      <td>[5581, 5952, 6255, 6455, 6563, 6616, 6630, 661...</td>\n",
       "      <td>[7020, 7066, 7123, 7164, 7182, 7201, 7196, 719...</td>\n",
       "      <td>[5581, 5873, 6046, 6171, 6243, 6225, 6134, 604...</td>\n",
       "      <td>[6973, 7028, 7062, 7100, 7124, 7131, 7121, 710...</td>\n",
       "      <td>...</td>\n",
       "      <td>quiet</td>\n",
       "      <td>173</td>\n",
       "      <td>dark</td>\n",
       "      <td>76</td>\n",
       "      <td>lettuce</td>\n",
       "      <td>NaN</td>\n",
       "      <td>5581</td>\n",
       "      <td>[-8, -6, -6, -6, -8, -8, -8, -4, -2, -4, -2]</td>\n",
       "      <td>[-8, -8, -8, -4, -4, 6, 12, 14, 14, 18, 18]</td>\n",
       "      <td>[-2, 0, 0, 4, 10, 12, 16, 16, 16, 12, 12]</td>\n",
       "    </tr>\n",
       "    <tr>\n",
       "      <th>3510</th>\n",
       "      <td>349</td>\n",
       "      <td>6210</td>\n",
       "      <td>b\"Osmow's\"</td>\n",
       "      <td>7</td>\n",
       "      <td>5581</td>\n",
       "      <td>b'Jim Chai Kee'</td>\n",
       "      <td>[5581, 4967, 3906, 2506, 1838, 1367, 1057, 841...</td>\n",
       "      <td>[6797, 6694, 6567, 955, 822, 707, 586, 513, 45...</td>\n",
       "      <td>[5581, 5522, 5441, 5265, 5040, 4738, 4432, 408...</td>\n",
       "      <td>[6924, 6921, 6922, 6906, 6869, 6840, 6822, 677...</td>\n",
       "      <td>...</td>\n",
       "      <td>crispy</td>\n",
       "      <td>178</td>\n",
       "      <td>honestly</td>\n",
       "      <td>114</td>\n",
       "      <td>tomato</td>\n",
       "      <td>NaN</td>\n",
       "      <td>5581</td>\n",
       "      <td>[0, -4, 0, 4, 8, 8, 8, 8, 12, 14, 16]</td>\n",
       "      <td>[16, 16, 16, 18, 22, 30, 34, 34, 36, 36, 34]</td>\n",
       "      <td>[30, 30, 30, 34, 34, 34, 34, 36, 36, 34, 34]</td>\n",
       "    </tr>\n",
       "    <tr>\n",
       "      <th>3511</th>\n",
       "      <td>349</td>\n",
       "      <td>6210</td>\n",
       "      <td>b\"Osmow's\"</td>\n",
       "      <td>8</td>\n",
       "      <td>5581</td>\n",
       "      <td>b'Jim Chai Kee'</td>\n",
       "      <td>[5581, 4910, 3483, 2657, 2154, 1834, 1669, 154...</td>\n",
       "      <td>[7267, 7241, 297, 261, 243, 222, 213, 208, 199...</td>\n",
       "      <td>[5581, 5103, 4404, 3061, 2375, 1949, 1647, 144...</td>\n",
       "      <td>[7009, 6958, 6897, 676, 599, 524, 463, 426, 39...</td>\n",
       "      <td>...</td>\n",
       "      <td>olive</td>\n",
       "      <td>91</td>\n",
       "      <td>wrap</td>\n",
       "      <td>161</td>\n",
       "      <td>cheaper</td>\n",
       "      <td>NaN</td>\n",
       "      <td>5581</td>\n",
       "      <td>[6, 8, 20, 20, 18, 18, 20, 20, 22, 20, 22]</td>\n",
       "      <td>[8, 6, 4, 2, 4, 8, 8, 8, 12, 18, 16]</td>\n",
       "      <td>[-28, -32, -20, -18, -18, -12, -10, -14, -10, ...</td>\n",
       "    </tr>\n",
       "    <tr>\n",
       "      <th>3512</th>\n",
       "      <td>349</td>\n",
       "      <td>6210</td>\n",
       "      <td>b\"Osmow's\"</td>\n",
       "      <td>9</td>\n",
       "      <td>5581</td>\n",
       "      <td>b'Jim Chai Kee'</td>\n",
       "      <td>[5581, 5603, 5605, 5524, 5418, 5200, 4958, 467...</td>\n",
       "      <td>[6901, 6928, 6951, 6956, 6950, 6932, 6901, 686...</td>\n",
       "      <td>[5581, 5665, 5710, 5730, 5693, 5636, 5543, 541...</td>\n",
       "      <td>[6856, 6865, 6866, 6877, 6868, 6846, 6839, 681...</td>\n",
       "      <td>...</td>\n",
       "      <td>sandwich</td>\n",
       "      <td>208</td>\n",
       "      <td>topped</td>\n",
       "      <td>7</td>\n",
       "      <td>dinner</td>\n",
       "      <td>NaN</td>\n",
       "      <td>5581</td>\n",
       "      <td>[36, 36, 36, 36, 38, 38, 38, 38, 38, 38, 38]</td>\n",
       "      <td>[12, 12, 10, 10, 16, 16, 20, 24, 26, 30, 36]</td>\n",
       "      <td>[-6, -6, -4, -2, 0, 8, 10, 20, 18, 16, 20]</td>\n",
       "    </tr>\n",
       "  </tbody>\n",
       "</table>\n",
       "<p>3513 rows × 23 columns</p>\n",
       "</div>"
      ],
      "text/plain": [
       "     user_id target_item                               item_name iter  \\\n",
       "0        300         101                          b'Cabin Fever'    0   \n",
       "1        300         101                          b'Cabin Fever'    1   \n",
       "2        300         101                          b'Cabin Fever'    2   \n",
       "3        300         886              b'Wok & Roast Chinese BBQ'    0   \n",
       "4        300         886              b'Wok & Roast Chinese BBQ'    1   \n",
       "5        300         886              b'Wok & Roast Chinese BBQ'    2   \n",
       "6        300         886              b'Wok & Roast Chinese BBQ'    3   \n",
       "7        300         886              b'Wok & Roast Chinese BBQ'    4   \n",
       "8        300         886              b'Wok & Roast Chinese BBQ'    5   \n",
       "9        300         886              b'Wok & Roast Chinese BBQ'    6   \n",
       "10       300         886              b'Wok & Roast Chinese BBQ'    7   \n",
       "11       300         886              b'Wok & Roast Chinese BBQ'    8   \n",
       "12       300         886              b'Wok & Roast Chinese BBQ'    9   \n",
       "13       300         968                      b'Porter Airlines'    0   \n",
       "14       300         968                      b'Porter Airlines'    1   \n",
       "15       300         968                      b'Porter Airlines'    2   \n",
       "16       300         968                      b'Porter Airlines'    3   \n",
       "17       300         968                      b'Porter Airlines'    4   \n",
       "18       300         968                      b'Porter Airlines'    5   \n",
       "19       300         968                      b'Porter Airlines'    6   \n",
       "20       300         968                      b'Porter Airlines'    7   \n",
       "21       300         968                      b'Porter Airlines'    8   \n",
       "22       300         968                      b'Porter Airlines'    9   \n",
       "23       300        1898                        b'416 Snack Bar'    0   \n",
       "24       300        1898                        b'416 Snack Bar'    1   \n",
       "25       300        1898                        b'416 Snack Bar'    2   \n",
       "26       300        1898                        b'416 Snack Bar'    3   \n",
       "27       300        1898                        b'416 Snack Bar'    4   \n",
       "28       300        1898                        b'416 Snack Bar'    5   \n",
       "29       300        1898                        b'416 Snack Bar'    6   \n",
       "...      ...         ...                                     ...  ...   \n",
       "3483     349        4148  b'The Marlowe Restaurant and Wine Bar'    0   \n",
       "3484     349        4148  b'The Marlowe Restaurant and Wine Bar'    1   \n",
       "3485     349        4148  b'The Marlowe Restaurant and Wine Bar'    2   \n",
       "3486     349        4148  b'The Marlowe Restaurant and Wine Bar'    3   \n",
       "3487     349        4148  b'The Marlowe Restaurant and Wine Bar'    4   \n",
       "3488     349        4148  b'The Marlowe Restaurant and Wine Bar'    5   \n",
       "3489     349        4148  b'The Marlowe Restaurant and Wine Bar'    6   \n",
       "3490     349        4148  b'The Marlowe Restaurant and Wine Bar'    7   \n",
       "3491     349        4148  b'The Marlowe Restaurant and Wine Bar'    8   \n",
       "3492     349        4148  b'The Marlowe Restaurant and Wine Bar'    9   \n",
       "3493     349        4495                        b'Dragon Legend'    0   \n",
       "3494     349        4495                        b'Dragon Legend'    1   \n",
       "3495     349        4495                        b'Dragon Legend'    2   \n",
       "3496     349        4495                        b'Dragon Legend'    3   \n",
       "3497     349        4495                        b'Dragon Legend'    4   \n",
       "3498     349        4495                        b'Dragon Legend'    5   \n",
       "3499     349        4495                        b'Dragon Legend'    6   \n",
       "3500     349        4495                        b'Dragon Legend'    7   \n",
       "3501     349        4495                        b'Dragon Legend'    8   \n",
       "3502     349        4495                        b'Dragon Legend'    9   \n",
       "3503     349        6210                              b\"Osmow's\"    0   \n",
       "3504     349        6210                              b\"Osmow's\"    1   \n",
       "3505     349        6210                              b\"Osmow's\"    2   \n",
       "3506     349        6210                              b\"Osmow's\"    3   \n",
       "3507     349        6210                              b\"Osmow's\"    4   \n",
       "3508     349        6210                              b\"Osmow's\"    5   \n",
       "3509     349        6210                              b\"Osmow's\"    6   \n",
       "3510     349        6210                              b\"Osmow's\"    7   \n",
       "3511     349        6210                              b\"Osmow's\"    8   \n",
       "3512     349        6210                              b\"Osmow's\"    9   \n",
       "\n",
       "     pre_rank top_prediction_item_name  \\\n",
       "0        4830        b'Sansotei Ramen'   \n",
       "1        4830        b'Sansotei Ramen'   \n",
       "2        4830        b'Sansotei Ramen'   \n",
       "3        3515        b'Sansotei Ramen'   \n",
       "4        3515        b'Sansotei Ramen'   \n",
       "5        3515        b'Sansotei Ramen'   \n",
       "6        3515        b'Sansotei Ramen'   \n",
       "7        3515        b'Sansotei Ramen'   \n",
       "8        3515        b'Sansotei Ramen'   \n",
       "9        3515        b'Sansotei Ramen'   \n",
       "10       3515        b'Sansotei Ramen'   \n",
       "11       3515        b'Sansotei Ramen'   \n",
       "12       3515        b'Sansotei Ramen'   \n",
       "13        663        b'Sansotei Ramen'   \n",
       "14        663        b'Sansotei Ramen'   \n",
       "15        663        b'Sansotei Ramen'   \n",
       "16        663        b'Sansotei Ramen'   \n",
       "17        663        b'Sansotei Ramen'   \n",
       "18        663        b'Sansotei Ramen'   \n",
       "19        663        b'Sansotei Ramen'   \n",
       "20        663        b'Sansotei Ramen'   \n",
       "21        663        b'Sansotei Ramen'   \n",
       "22        663        b'Sansotei Ramen'   \n",
       "23         20        b'Sansotei Ramen'   \n",
       "24         20        b'Sansotei Ramen'   \n",
       "25         20        b'Sansotei Ramen'   \n",
       "26         20        b'Sansotei Ramen'   \n",
       "27         20        b'Sansotei Ramen'   \n",
       "28         20        b'Sansotei Ramen'   \n",
       "29         20        b'Sansotei Ramen'   \n",
       "...       ...                      ...   \n",
       "3483      116          b'Jim Chai Kee'   \n",
       "3484      116          b'Jim Chai Kee'   \n",
       "3485      116          b'Jim Chai Kee'   \n",
       "3486      116          b'Jim Chai Kee'   \n",
       "3487      116          b'Jim Chai Kee'   \n",
       "3488      116          b'Jim Chai Kee'   \n",
       "3489      116          b'Jim Chai Kee'   \n",
       "3490      116          b'Jim Chai Kee'   \n",
       "3491      116          b'Jim Chai Kee'   \n",
       "3492      116          b'Jim Chai Kee'   \n",
       "3493      201          b'Jim Chai Kee'   \n",
       "3494      201          b'Jim Chai Kee'   \n",
       "3495      201          b'Jim Chai Kee'   \n",
       "3496      201          b'Jim Chai Kee'   \n",
       "3497      201          b'Jim Chai Kee'   \n",
       "3498      201          b'Jim Chai Kee'   \n",
       "3499      201          b'Jim Chai Kee'   \n",
       "3500      201          b'Jim Chai Kee'   \n",
       "3501      201          b'Jim Chai Kee'   \n",
       "3502      201          b'Jim Chai Kee'   \n",
       "3503     5581          b'Jim Chai Kee'   \n",
       "3504     5581          b'Jim Chai Kee'   \n",
       "3505     5581          b'Jim Chai Kee'   \n",
       "3506     5581          b'Jim Chai Kee'   \n",
       "3507     5581          b'Jim Chai Kee'   \n",
       "3508     5581          b'Jim Chai Kee'   \n",
       "3509     5581          b'Jim Chai Kee'   \n",
       "3510     5581          b'Jim Chai Kee'   \n",
       "3511     5581          b'Jim Chai Kee'   \n",
       "3512     5581          b'Jim Chai Kee'   \n",
       "\n",
       "                                   post_rank_random_all  \\\n",
       "0     [4830, 4739, 4610, 4486, 4284, 3670, 3412, 316...   \n",
       "1     [4830, 4870, 4919, 4942, 4934, 4890, 4815, 468...   \n",
       "2     [4830, 4720, 4589, 4394, 3757, 3473, 3180, 286...   \n",
       "3     [3515, 4187, 4557, 4934, 5270, 5442, 5503, 554...   \n",
       "4     [3515, 4422, 5016, 5376, 5627, 5740, 5802, 580...   \n",
       "5     [3515, 4382, 4970, 5417, 5776, 5975, 6115, 617...   \n",
       "6     [3515, 4840, 5647, 6197, 6545, 6819, 6952, 701...   \n",
       "7     [3515, 3364, 3166, 2981, 2744, 2530, 2358, 221...   \n",
       "8     [3515, 4861, 5639, 6199, 6511, 6652, 6711, 671...   \n",
       "9     [3515, 3520, 3524, 3549, 3621, 4031, 4103, 414...   \n",
       "10    [3515, 4817, 5601, 6150, 6555, 6817, 6968, 703...   \n",
       "11    [3515, 3055, 2655, 2327, 2003, 1721, 1529, 139...   \n",
       "12    [3515, 2822, 2360, 2019, 1796, 1669, 1590, 151...   \n",
       "13    [663, 629, 609, 604, 631, 699, 823, 1028, 1321...   \n",
       "14    [663, 593, 531, 465, 404, 375, 367, 380, 408, ...   \n",
       "15    [663, 563, 487, 465, 506, 540, 608, 676, 733, ...   \n",
       "16    [663, 597, 541, 513, 459, 403, 388, 395, 422, ...   \n",
       "17    [663, 286, 180, 158, 141, 132, 136, 138, 140, ...   \n",
       "18    [663, 908, 1408, 2649, 5858, 6875, 7196, 7306,...   \n",
       "19    [663, 1072, 2330, 5867, 6887, 7139, 7256, 7279...   \n",
       "20    [663, 801, 1122, 1778, 3477, 5607, 6248, 6532,...   \n",
       "21    [663, 470, 316, 206, 158, 122, 100, 80, 79, 73...   \n",
       "22    [663, 545, 452, 367, 296, 280, 288, 302, 330, ...   \n",
       "23       [20, 18, 15, 15, 16, 17, 28, 38, 58, 120, 201]   \n",
       "24         [20, 20, 21, 22, 22, 21, 23, 23, 27, 40, 49]   \n",
       "25    [20, 20, 27, 41, 73, 118, 231, 623, 1831, 5626...   \n",
       "26    [20, 28, 52, 100, 386, 4881, 7126, 7328, 7389,...   \n",
       "27    [20, 25, 31, 53, 120, 268, 738, 2080, 5676, 66...   \n",
       "28          [20, 18, 17, 16, 17, 15, 14, 9, 12, 26, 54]   \n",
       "29    [20, 20, 21, 25, 28, 34, 58, 115, 230, 535, 1329]   \n",
       "...                                                 ...   \n",
       "3483  [116, 125, 172, 269, 514, 1149, 3031, 5393, 61...   \n",
       "3484  [116, 112, 117, 139, 168, 213, 311, 459, 663, ...   \n",
       "3485   [116, 97, 77, 76, 63, 68, 86, 90, 112, 147, 185]   \n",
       "3486  [116, 133, 180, 279, 481, 1132, 4472, 6659, 71...   \n",
       "3487  [116, 126, 159, 249, 432, 979, 2968, 5843, 654...   \n",
       "3488  [116, 132, 151, 203, 285, 483, 770, 1160, 1786...   \n",
       "3489  [116, 108, 106, 106, 116, 142, 174, 227, 320, ...   \n",
       "3490  [116, 116, 125, 151, 207, 297, 444, 656, 952, ...   \n",
       "3491  [116, 168, 271, 586, 1285, 2708, 5425, 6322, 6...   \n",
       "3492  [116, 115, 122, 153, 189, 234, 297, 379, 500, ...   \n",
       "3493  [201, 181, 168, 162, 170, 191, 224, 273, 330, ...   \n",
       "3494  [201, 417, 1078, 3129, 5726, 6376, 6646, 6778,...   \n",
       "3495              [201, 38, 12, 8, 7, 5, 5, 5, 4, 4, 4]   \n",
       "3496  [201, 230, 310, 452, 649, 872, 1132, 1402, 164...   \n",
       "3497  [201, 325, 584, 1561, 6236, 7130, 7311, 7363, ...   \n",
       "3498  [201, 167, 140, 119, 113, 104, 108, 113, 124, ...   \n",
       "3499  [201, 358, 805, 2641, 6480, 7069, 7216, 7289, ...   \n",
       "3500  [201, 158, 134, 125, 139, 154, 162, 179, 202, ...   \n",
       "3501  [201, 354, 817, 3845, 6390, 6894, 7053, 7141, ...   \n",
       "3502  [201, 298, 468, 912, 2486, 6045, 6820, 7068, 7...   \n",
       "3503  [5581, 5873, 6046, 6171, 6243, 6225, 6134, 604...   \n",
       "3504  [5581, 5665, 5710, 5730, 5693, 5636, 5543, 541...   \n",
       "3505  [5581, 6024, 6357, 6602, 6707, 6769, 6786, 679...   \n",
       "3506  [5581, 5813, 6008, 6140, 6182, 6201, 6157, 609...   \n",
       "3507  [5581, 5712, 5838, 5926, 6004, 6043, 6043, 601...   \n",
       "3508  [5581, 5381, 5097, 4694, 4119, 3198, 2738, 239...   \n",
       "3509  [5581, 5952, 6255, 6455, 6563, 6616, 6630, 661...   \n",
       "3510  [5581, 4967, 3906, 2506, 1838, 1367, 1057, 841...   \n",
       "3511  [5581, 4910, 3483, 2657, 2154, 1834, 1669, 154...   \n",
       "3512  [5581, 5603, 5605, 5524, 5418, 5200, 4958, 467...   \n",
       "\n",
       "                                 post_rank_random_upper  \\\n",
       "0     [6831, 6828, 6810, 6804, 6781, 903, 872, 841, ...   \n",
       "1     [7062, 7062, 7064, 7074, 7079, 7070, 7047, 702...   \n",
       "2     [6685, 6671, 6655, 6630, 1151, 1109, 1060, 100...   \n",
       "3     [563, 7021, 7067, 7107, 7136, 7137, 7135, 7141...   \n",
       "4     [267, 7254, 7271, 7277, 7297, 7305, 7308, 7305...   \n",
       "5     [463, 7012, 7093, 7147, 7187, 7209, 7229, 7237...   \n",
       "6     [689, 6953, 7058, 7147, 7203, 7261, 7293, 7302...   \n",
       "7     [800, 784, 761, 735, 712, 675, 648, 621, 589, ...   \n",
       "8     [492, 7087, 7148, 7213, 7246, 7269, 7269, 7266...   \n",
       "9     [1217, 1220, 1216, 1227, 1236, 6502, 6500, 647...   \n",
       "10    [615, 7080, 7158, 7237, 7290, 7314, 7341, 7354...   \n",
       "11    [300, 286, 280, 285, 276, 272, 257, 253, 243, ...   \n",
       "12    [108, 115, 124, 128, 125, 123, 121, 118, 121, ...   \n",
       "13    [157, 146, 143, 149, 171, 182, 214, 255, 298, ...   \n",
       "14    [271, 249, 228, 205, 191, 183, 185, 190, 207, ...   \n",
       "15    [83, 81, 79, 81, 98, 97, 109, 116, 126, 137, 145]   \n",
       "16    [409, 384, 353, 338, 312, 270, 270, 275, 293, ...   \n",
       "17             [24, 18, 14, 11, 11, 10, 10, 9, 9, 9, 9]   \n",
       "18    [344, 430, 604, 922, 6921, 7222, 7320, 7364, 7...   \n",
       "19    [119, 165, 276, 7212, 7321, 7375, 7405, 7409, ...   \n",
       "20    [118, 133, 172, 227, 309, 7258, 7299, 7330, 73...   \n",
       "21     [274, 220, 164, 119, 98, 85, 77, 68, 69, 63, 62]   \n",
       "22         [93, 83, 78, 69, 63, 63, 66, 66, 68, 70, 75]   \n",
       "23             [10, 9, 7, 6, 7, 11, 22, 31, 47, 78, 99]   \n",
       "24         [12, 13, 13, 15, 15, 14, 17, 18, 20, 31, 36]   \n",
       "25       [3, 3, 4, 9, 20, 31, 67, 125, 241, 7345, 7393]   \n",
       "26    [9, 11, 21, 38, 114, 7147, 7388, 7424, 7432, 7...   \n",
       "27    [3, 7, 10, 23, 48, 82, 156, 257, 7344, 7392, 7...   \n",
       "28           [17, 15, 14, 13, 14, 12, 11, 6, 8, 20, 48]   \n",
       "29         [8, 8, 10, 11, 16, 20, 33, 56, 90, 159, 275]   \n",
       "...                                                 ...   \n",
       "3483  [17, 23, 43, 66, 109, 182, 285, 7247, 7288, 73...   \n",
       "3484  [38, 43, 51, 69, 79, 97, 127, 174, 217, 265, 309]   \n",
       "3485      [38, 30, 25, 31, 30, 37, 51, 60, 67, 86, 109]   \n",
       "3486  [64, 77, 107, 169, 261, 466, 6803, 7140, 7273,...   \n",
       "3487  [54, 59, 80, 128, 204, 362, 657, 7108, 7211, 7...   \n",
       "3488  [40, 49, 58, 81, 115, 178, 235, 303, 371, 449,...   \n",
       "3489  [68, 63, 69, 69, 72, 87, 103, 125, 159, 180, 218]   \n",
       "3490  [50, 51, 61, 74, 105, 152, 198, 272, 360, 468,...   \n",
       "3491  [9, 19, 31, 69, 109, 151, 7371, 7391, 7403, 74...   \n",
       "3492   [38, 39, 47, 62, 76, 82, 94, 106, 123, 138, 149]   \n",
       "3493  [63, 67, 69, 77, 81, 89, 100, 114, 131, 151, 175]   \n",
       "3494  [27, 58, 99, 145, 7342, 7363, 7382, 7383, 7386...   \n",
       "3495                [55, 16, 8, 6, 5, 4, 4, 5, 4, 4, 4]   \n",
       "3496  [39, 51, 64, 90, 116, 147, 167, 175, 190, 195,...   \n",
       "3497  [109, 162, 272, 554, 7047, 7303, 7377, 7404, 7...   \n",
       "3498      [104, 88, 77, 67, 65, 64, 69, 71, 77, 78, 85]   \n",
       "3499  [45, 93, 166, 325, 7346, 7406, 7418, 7424, 742...   \n",
       "3500       [34, 40, 44, 46, 57, 67, 69, 68, 69, 68, 72]   \n",
       "3501  [80, 120, 193, 7170, 7299, 7338, 7355, 7371, 7...   \n",
       "3502  [106, 145, 211, 333, 611, 7078, 7217, 7285, 73...   \n",
       "3503  [6973, 7028, 7062, 7100, 7124, 7131, 7121, 710...   \n",
       "3504  [6856, 6865, 6866, 6877, 6868, 6846, 6839, 681...   \n",
       "3505  [6968, 7065, 7143, 7203, 7229, 7245, 7253, 726...   \n",
       "3506  [7117, 7143, 7156, 7173, 7185, 7190, 7181, 717...   \n",
       "3507  [6905, 6936, 6969, 6979, 7011, 7021, 7026, 701...   \n",
       "3508  [7167, 7158, 7136, 7116, 7089, 423, 399, 370, ...   \n",
       "3509  [7020, 7066, 7123, 7164, 7182, 7201, 7196, 719...   \n",
       "3510  [6797, 6694, 6567, 955, 822, 707, 586, 513, 45...   \n",
       "3511  [7267, 7241, 297, 261, 243, 222, 213, 208, 199...   \n",
       "3512  [6901, 6928, 6951, 6956, 6950, 6932, 6901, 686...   \n",
       "\n",
       "                                      post_rank_pop_all  \\\n",
       "0     [4830, 4870, 4919, 4942, 4934, 4890, 4815, 468...   \n",
       "1     [4830, 4739, 4610, 4486, 4284, 3670, 3412, 316...   \n",
       "2     [4830, 4720, 4589, 4394, 3757, 3473, 3180, 286...   \n",
       "3     [3515, 2877, 2365, 2086, 1917, 1813, 1747, 171...   \n",
       "4     [3515, 2822, 2360, 2019, 1796, 1669, 1590, 151...   \n",
       "5     [3515, 4422, 5016, 5376, 5627, 5740, 5802, 580...   \n",
       "6     [3515, 3340, 3194, 3055, 2902, 2751, 2616, 252...   \n",
       "7     [3515, 4382, 4970, 5417, 5776, 5975, 6115, 617...   \n",
       "8     [3515, 4861, 5639, 6199, 6511, 6652, 6711, 671...   \n",
       "9     [3515, 3055, 2655, 2327, 2003, 1721, 1529, 139...   \n",
       "10    [3515, 4840, 5647, 6197, 6545, 6819, 6952, 701...   \n",
       "11    [3515, 4187, 4557, 4934, 5270, 5442, 5503, 554...   \n",
       "12    [3515, 3364, 3166, 2981, 2744, 2530, 2358, 221...   \n",
       "13    [663, 286, 180, 158, 141, 132, 136, 138, 140, ...   \n",
       "14    [663, 563, 487, 465, 506, 540, 608, 676, 733, ...   \n",
       "15    [663, 600, 579, 589, 616, 683, 753, 843, 917, ...   \n",
       "16    [663, 462, 320, 254, 221, 203, 192, 199, 199, ...   \n",
       "17    [663, 545, 452, 367, 296, 280, 288, 302, 330, ...   \n",
       "18    [663, 801, 1122, 1778, 3477, 5607, 6248, 6532,...   \n",
       "19    [663, 483, 356, 258, 210, 177, 161, 148, 152, ...   \n",
       "20    [663, 884, 1336, 2556, 5676, 6604, 6925, 7058,...   \n",
       "21    [663, 1072, 2330, 5867, 6887, 7139, 7256, 7279...   \n",
       "22    [663, 468, 301, 201, 157, 119, 101, 76, 75, 69...   \n",
       "23    [20, 25, 54, 104, 283, 1379, 5945, 6947, 7179,...   \n",
       "24    [20, 23, 32, 46, 78, 140, 280, 602, 1390, 3902...   \n",
       "25    [20, 23, 25, 41, 70, 120, 252, 699, 2320, 5580...   \n",
       "26    [20, 29, 61, 132, 493, 5088, 7165, 7359, 7397,...   \n",
       "27    [20, 25, 43, 88, 236, 828, 4459, 6861, 7194, 7...   \n",
       "28    [20, 25, 31, 53, 120, 268, 738, 2080, 5676, 66...   \n",
       "29         [20, 22, 20, 20, 22, 29, 35, 48, 59, 76, 96]   \n",
       "...                                                 ...   \n",
       "3483  [116, 168, 271, 586, 1285, 2708, 5425, 6322, 6...   \n",
       "3484  [116, 94, 87, 83, 113, 159, 213, 291, 407, 522...   \n",
       "3485  [116, 125, 172, 269, 514, 1149, 3031, 5393, 61...   \n",
       "3486  [116, 115, 139, 189, 272, 411, 696, 1123, 1671...   \n",
       "3487  [116, 115, 122, 153, 189, 234, 297, 379, 500, ...   \n",
       "3488  [116, 123, 136, 195, 341, 670, 1494, 4089, 557...   \n",
       "3489  [116, 134, 207, 387, 742, 1413, 2629, 4678, 55...   \n",
       "3490  [116, 100, 90, 88, 99, 118, 142, 171, 224, 297...   \n",
       "3491  [116, 91, 74, 73, 69, 83, 91, 113, 127, 143, 168]   \n",
       "3492  [116, 112, 117, 139, 168, 213, 311, 459, 663, ...   \n",
       "3493      [201, 39, 19, 19, 18, 17, 17, 16, 16, 17, 16]   \n",
       "3494  [201, 7062, 7415, 7438, 7442, 7443, 7444, 7444...   \n",
       "3495     [201, 128, 88, 70, 71, 74, 76, 84, 89, 87, 90]   \n",
       "3496  [201, 300, 503, 909, 1538, 2366, 3978, 5101, 5...   \n",
       "3497  [201, 311, 509, 1053, 2574, 5787, 6606, 6884, ...   \n",
       "3498               [201, 28, 8, 4, 3, 3, 2, 2, 2, 2, 2]   \n",
       "3499  [201, 356, 741, 2215, 6039, 6797, 7036, 7146, ...   \n",
       "3500     [201, 125, 77, 54, 40, 32, 31, 29, 29, 33, 34]   \n",
       "3501  [201, 158, 134, 125, 139, 154, 162, 179, 202, ...   \n",
       "3502   [201, 140, 93, 77, 69, 75, 72, 86, 97, 106, 123]   \n",
       "3503  [5581, 4910, 3483, 2657, 2154, 1834, 1669, 154...   \n",
       "3504  [5581, 5813, 6008, 6140, 6182, 6201, 6157, 609...   \n",
       "3505  [5581, 5090, 4262, 3007, 2424, 2051, 1799, 163...   \n",
       "3506  [5581, 5397, 5126, 4751, 4308, 3894, 3174, 289...   \n",
       "3507  [5581, 6143, 6525, 6717, 6774, 6777, 6775, 675...   \n",
       "3508  [5581, 5952, 6255, 6455, 6563, 6616, 6630, 661...   \n",
       "3509  [5581, 5873, 6046, 6171, 6243, 6225, 6134, 604...   \n",
       "3510  [5581, 5522, 5441, 5265, 5040, 4738, 4432, 408...   \n",
       "3511  [5581, 5103, 4404, 3061, 2375, 1949, 1647, 144...   \n",
       "3512  [5581, 5665, 5710, 5730, 5693, 5636, 5543, 541...   \n",
       "\n",
       "                                    post_rank_pop_upper  \\\n",
       "0     [7062, 7062, 7064, 7074, 7079, 7070, 7047, 702...   \n",
       "1     [6831, 6828, 6810, 6804, 6781, 903, 872, 841, ...   \n",
       "2     [6685, 6671, 6655, 6630, 1151, 1109, 1060, 100...   \n",
       "3          [26, 29, 31, 30, 30, 31, 32, 33, 33, 33, 32]   \n",
       "4     [108, 115, 124, 128, 125, 123, 121, 118, 121, ...   \n",
       "5     [267, 7254, 7271, 7277, 7297, 7305, 7308, 7305...   \n",
       "6     [255, 238, 234, 238, 235, 237, 245, 236, 230, ...   \n",
       "7     [463, 7012, 7093, 7147, 7187, 7209, 7229, 7237...   \n",
       "8     [492, 7087, 7148, 7213, 7246, 7269, 7269, 7266...   \n",
       "9     [300, 286, 280, 285, 276, 272, 257, 253, 243, ...   \n",
       "10    [689, 6953, 7058, 7147, 7203, 7261, 7293, 7302...   \n",
       "11    [563, 7021, 7067, 7107, 7136, 7137, 7135, 7141...   \n",
       "12    [800, 784, 761, 735, 712, 675, 648, 621, 589, ...   \n",
       "13             [24, 18, 14, 11, 11, 10, 10, 9, 9, 9, 9]   \n",
       "14    [83, 81, 79, 81, 98, 97, 109, 116, 126, 137, 145]   \n",
       "15         [47, 51, 59, 68, 64, 68, 76, 84, 90, 93, 95]   \n",
       "16         [98, 88, 77, 77, 79, 77, 80, 86, 86, 91, 94]   \n",
       "17         [93, 83, 78, 69, 63, 63, 66, 66, 68, 70, 75]   \n",
       "18    [118, 133, 172, 227, 309, 7258, 7299, 7330, 73...   \n",
       "19     [177, 140, 124, 100, 93, 85, 79, 72, 72, 74, 73]   \n",
       "20    [183, 221, 297, 422, 7147, 7260, 7304, 7333, 7...   \n",
       "21    [119, 165, 276, 7212, 7321, 7375, 7405, 7409, ...   \n",
       "22      [227, 177, 132, 95, 71, 56, 49, 40, 41, 37, 36]   \n",
       "23    [5, 7, 16, 24, 52, 108, 7394, 7424, 7434, 7440...   \n",
       "24     [2, 4, 12, 19, 33, 46, 69, 109, 151, 7333, 7361]   \n",
       "25      [4, 6, 9, 13, 24, 33, 65, 134, 222, 7290, 7339]   \n",
       "26    [1, 1, 7, 16, 59, 7376, 7440, 7447, 7449, 7450...   \n",
       "27    [4, 5, 9, 20, 45, 117, 7353, 7411, 7426, 7435,...   \n",
       "28    [3, 7, 10, 23, 48, 82, 156, 257, 7344, 7392, 7...   \n",
       "29             [5, 6, 6, 8, 10, 11, 11, 15, 20, 31, 35]   \n",
       "...                                                 ...   \n",
       "3483  [9, 19, 31, 69, 109, 151, 7371, 7391, 7403, 74...   \n",
       "3484     [20, 18, 17, 23, 27, 39, 55, 68, 87, 111, 124]   \n",
       "3485  [17, 23, 43, 66, 109, 182, 285, 7247, 7288, 73...   \n",
       "3486  [17, 22, 33, 51, 72, 94, 123, 173, 217, 259, 7...   \n",
       "3487   [38, 39, 47, 62, 76, 82, 94, 106, 123, 138, 149]   \n",
       "3488  [21, 22, 27, 42, 70, 99, 161, 7241, 7313, 7358...   \n",
       "3489  [14, 24, 46, 83, 130, 192, 261, 7281, 7310, 73...   \n",
       "3490    [50, 46, 48, 49, 58, 69, 82, 98, 116, 141, 160]   \n",
       "3491       [44, 39, 33, 34, 31, 43, 51, 61, 65, 70, 76]   \n",
       "3492  [38, 43, 51, 69, 79, 97, 127, 174, 217, 265, 309]   \n",
       "3493                  [6, 4, 1, 1, 1, 1, 1, 1, 2, 2, 1]   \n",
       "3494  [18, 7439, 7449, 7455, 7455, 7455, 7455, 7455,...   \n",
       "3495        [18, 11, 9, 10, 13, 13, 15, 17, 19, 18, 18]   \n",
       "3496  [29, 55, 74, 101, 129, 141, 7420, 7418, 7425, ...   \n",
       "3497  [32, 45, 71, 112, 178, 7384, 7400, 7410, 7418,...   \n",
       "3498                 [23, 9, 4, 3, 2, 2, 2, 2, 2, 2, 2]   \n",
       "3499  [68, 105, 150, 242, 7329, 7365, 7377, 7389, 73...   \n",
       "3500          [26, 18, 9, 9, 8, 11, 12, 12, 13, 15, 16]   \n",
       "3501       [34, 40, 44, 46, 57, 67, 69, 68, 69, 68, 72]   \n",
       "3502       [36, 29, 21, 24, 25, 30, 31, 35, 36, 39, 43]   \n",
       "3503  [7267, 7241, 297, 261, 243, 222, 213, 208, 199...   \n",
       "3504  [7117, 7143, 7156, 7173, 7185, 7190, 7181, 717...   \n",
       "3505  [7191, 7165, 7127, 451, 408, 362, 330, 302, 28...   \n",
       "3506  [7220, 7219, 7204, 7181, 7158, 7146, 349, 331,...   \n",
       "3507  [7126, 7186, 7247, 7264, 7264, 7263, 7262, 725...   \n",
       "3508  [7020, 7066, 7123, 7164, 7182, 7201, 7196, 719...   \n",
       "3509  [6973, 7028, 7062, 7100, 7124, 7131, 7121, 710...   \n",
       "3510  [6924, 6921, 6922, 6906, 6869, 6840, 6822, 677...   \n",
       "3511  [7009, 6958, 6897, 676, 599, 524, 463, 426, 39...   \n",
       "3512  [6856, 6865, 6866, 6877, 6868, 6846, 6839, 681...   \n",
       "\n",
       "                            ...                         keyphrase_name_random  \\\n",
       "0                           ...                                         latte   \n",
       "1                           ...                                        refill   \n",
       "2                           ...                                         bread   \n",
       "3                           ...                                         toast   \n",
       "4                           ...                                         squid   \n",
       "5                           ...                                       takeout   \n",
       "6                           ...                                         fancy   \n",
       "7                           ...                                          sour   \n",
       "8                           ...                                         juice   \n",
       "9                           ...                                    reasonable   \n",
       "10                          ...                                        burger   \n",
       "11                          ...                                       lobster   \n",
       "12                          ...                                        congee   \n",
       "13                          ...                                     breakfast   \n",
       "14                          ...                                      sandwich   \n",
       "15                          ...                                        cookie   \n",
       "16                          ...                                    reasonable   \n",
       "17                          ...                            alcoholic beverage   \n",
       "18                          ...                                         bread   \n",
       "19                          ...                                       coconut   \n",
       "20                          ...                                        banana   \n",
       "21                          ...                                        coffee   \n",
       "22                          ...                                           dog   \n",
       "23                          ...                                         steak   \n",
       "24                          ...                                         apple   \n",
       "25                          ...                                      dumpling   \n",
       "26                          ...                                       lettuce   \n",
       "27                          ...                                         movie   \n",
       "28                          ...                                    reasonable   \n",
       "29                          ...                                         honey   \n",
       "...                         ...                                           ...   \n",
       "3483                        ...                                        banana   \n",
       "3484                        ...                                       roasted   \n",
       "3485                        ...                                     chocolate   \n",
       "3486                        ...                                        pricey   \n",
       "3487                        ...                                        modern   \n",
       "3488                        ...                                         crust   \n",
       "3489                        ...                                          rare   \n",
       "3490                        ...                                        tomato   \n",
       "3491                        ...                                         crepe   \n",
       "3492                        ...                                       scallop   \n",
       "3493                        ...                                       roasted   \n",
       "3494                        ...                                    bubble tea   \n",
       "3495                        ...                                          duck   \n",
       "3496                        ...                                        bubble   \n",
       "3497                        ...                                         latte   \n",
       "3498                        ...                                       seafood   \n",
       "3499                        ...                                 fried chicken   \n",
       "3500                        ...                                         movie   \n",
       "3501                        ...                                         belly   \n",
       "3502                        ...                                          wrap   \n",
       "3503                        ...                                          dark   \n",
       "3504                        ...                                        topped   \n",
       "3505                        ...                                        tomato   \n",
       "3506                        ...                                    overpriced   \n",
       "3507                        ...                                           fry   \n",
       "3508                        ...                                         pizza   \n",
       "3509                        ...                                         quiet   \n",
       "3510                        ...                                        crispy   \n",
       "3511                        ...                                         olive   \n",
       "3512                        ...                                      sandwich   \n",
       "\n",
       "     critiqued_keyphrase_pop  keyphrase_name_pop critiqued_keyphrase_diff  \\\n",
       "0                        155              refill                       53   \n",
       "1                        105               latte                      153   \n",
       "2                         37               bread                      105   \n",
       "3                        223         general tao                       27   \n",
       "4                         73              congee                        0   \n",
       "5                         60               squid                        5   \n",
       "6                        133          fried rice                      133   \n",
       "7                         15             takeout                       60   \n",
       "8                         81               juice                       73   \n",
       "9                        115             lobster                       52   \n",
       "10                       171               fancy                      198   \n",
       "11                        97               toast                      213   \n",
       "12                       215                sour                       35   \n",
       "13                       230  alcoholic beverage                       47   \n",
       "14                        69              cookie                       26   \n",
       "15                       205              gelato                      116   \n",
       "16                        65            espresso                       87   \n",
       "17                       163                 dog                      172   \n",
       "18                        68              banana                      185   \n",
       "19                       195             healthy                      153   \n",
       "20                        81               juice                       41   \n",
       "21                        94             coconut                      167   \n",
       "22                       103               fruit                      154   \n",
       "23                        63               donut                        3   \n",
       "24                        66             octopus                      119   \n",
       "25                        60               squid                       87   \n",
       "26                        12             mexican                        5   \n",
       "27                        74              skewer                      127   \n",
       "28                       140               movie                      100   \n",
       "29                        64               olive                      123   \n",
       "...                      ...                 ...                      ...   \n",
       "3483                      89               crepe                        7   \n",
       "3484                     194               gravy                      116   \n",
       "3485                      68              banana                       49   \n",
       "3486                      64               olive                       50   \n",
       "3487                      72             scallop                       24   \n",
       "3488                     132         spring roll                        6   \n",
       "3489                     102          cheesecake                       30   \n",
       "3490                     159             crowded                      185   \n",
       "3491                      82               booth                        3   \n",
       "3492                     210             roasted                       43   \n",
       "3493                     223         general tao                       14   \n",
       "3494                     231       grand opening                      108   \n",
       "3495                      62             tapioca                       44   \n",
       "3496                      73              congee                      110   \n",
       "3497                      61             tempura                        6   \n",
       "3498                      14              buffet                        7   \n",
       "3499                      60               squid                      124   \n",
       "3500                     163                 dog                        0   \n",
       "3501                     140               movie                       57   \n",
       "3502                      68              banana                       59   \n",
       "3503                      64               olive                       56   \n",
       "3504                     160          overpriced                      150   \n",
       "3505                      76             lettuce                       42   \n",
       "3506                     193                mayo                       50   \n",
       "3507                     203              greasy                      208   \n",
       "3508                     164               quiet                      178   \n",
       "3509                     173                dark                       76   \n",
       "3510                     178            honestly                      114   \n",
       "3511                      91                wrap                      161   \n",
       "3512                     208              topped                        7   \n",
       "\n",
       "     keyphrase_name_diff num_existing_keyphrases pure_pruning_rank  \\\n",
       "0                    tea                     NaN              4830   \n",
       "1               friendly                     NaN              4830   \n",
       "2                  latte                     NaN              4830   \n",
       "3                    bbq                     NaN              2442   \n",
       "4                chinese                     NaN              2442   \n",
       "5                  fried                     NaN              2442   \n",
       "6             fried rice                     NaN              2442   \n",
       "7                  squid                     NaN              2442   \n",
       "8                 congee                     NaN              2442   \n",
       "9                   beef                     NaN              2442   \n",
       "10               crunchy                     NaN              2442   \n",
       "11                   pot                     NaN              2442   \n",
       "12                crispy                     NaN              2442   \n",
       "13                coffee                     NaN               625   \n",
       "14              downtown                     NaN               625   \n",
       "15                  wine                     NaN               625   \n",
       "16                  tart                     NaN               625   \n",
       "17           comfortable                     NaN               625   \n",
       "18                  wait                     NaN               625   \n",
       "19              friendly                     NaN               625   \n",
       "20                  beer                     NaN               625   \n",
       "21              pleasant                     NaN               625   \n",
       "22            convenient                     NaN               625   \n",
       "23                   bar                     NaN                19   \n",
       "24                   bun                     NaN                19   \n",
       "25                  tart                     NaN                19   \n",
       "26                 fried                     NaN                19   \n",
       "27         fried chicken                     NaN                19   \n",
       "28                oyster                     NaN                19   \n",
       "29                 steak                     NaN                19   \n",
       "...                  ...                     ...               ...   \n",
       "3483              dinner                     NaN               115   \n",
       "3484                wine                     NaN               115   \n",
       "3485              cheese                     NaN               115   \n",
       "3486               salad                     NaN               115   \n",
       "3487            birthday                     NaN               115   \n",
       "3488             dessert                     NaN               115   \n",
       "3489             seafood                     NaN               115   \n",
       "3490                wait                     NaN               115   \n",
       "3491                 bar                     NaN               115   \n",
       "3492                cake                     NaN               115   \n",
       "3493              buffet                     NaN               200   \n",
       "3494                duck                     NaN               200   \n",
       "3495               sushi                     NaN               200   \n",
       "3496             sashimi                     NaN               200   \n",
       "3497             dessert                     NaN               200   \n",
       "3498              dinner                     NaN               200   \n",
       "3499              salmon                     NaN               200   \n",
       "3500             chinese                     NaN               200   \n",
       "3501             dim sum                     NaN               200   \n",
       "3502           ice cream                     NaN               200   \n",
       "3503             chicken                     NaN              5581   \n",
       "3504               clean                     NaN              5581   \n",
       "3505            sandwich                     NaN              5581   \n",
       "3506               salad                     NaN              5581   \n",
       "3507              topped                     NaN              5581   \n",
       "3508            honestly                     NaN              5581   \n",
       "3509             lettuce                     NaN              5581   \n",
       "3510              tomato                     NaN              5581   \n",
       "3511             cheaper                     NaN              5581   \n",
       "3512              dinner                     NaN              5581   \n",
       "\n",
       "                                            diff_scores  \\\n",
       "0          [40, 40, 38, 38, 38, 40, 40, 40, 40, 40, 40]   \n",
       "1          [40, 40, 40, 40, 40, 40, 40, 40, 40, 38, 38]   \n",
       "2          [14, 12, 12, 12, 14, 16, 18, 16, 20, 22, 22]   \n",
       "3        [-10, -12, -10, -10, -10, -2, -2, -4, 0, 4, 6]   \n",
       "4            [-8, -4, -2, 4, 8, 16, 24, 24, 30, 30, 30]   \n",
       "5          [30, 30, 30, 28, 24, 22, 20, 22, 22, 22, 22]   \n",
       "6     [-28, -28, -28, -22, -22, -22, -20, -20, -18, ...   \n",
       "7     [-20, -22, -18, -14, -10, -6, -6, -2, -6, -6, -6]   \n",
       "8     [-28, -30, -22, -18, -12, -12, -8, -10, -10, -...   \n",
       "9          [22, 20, 18, 18, 20, 22, 24, 28, 30, 34, 34]   \n",
       "10            [8, 6, 8, 10, 12, 10, 14, 14, 14, 18, 16]   \n",
       "11         [40, 40, 40, 40, 40, 40, 40, 40, 40, 40, 40]   \n",
       "12         [26, 24, 26, 28, 28, 28, 30, 32, 34, 36, 34]   \n",
       "13              [2, 4, 0, 4, 8, 12, 22, 28, 34, 36, 36]   \n",
       "14          [8, 10, 14, 16, 22, 24, 28, 32, 36, 38, 38]   \n",
       "15         [18, 20, 22, 22, 26, 30, 34, 32, 32, 30, 30]   \n",
       "16         [40, 38, 38, 38, 38, 38, 40, 40, 38, 38, 38]   \n",
       "17         [24, 22, 22, 22, 26, 30, 24, 22, 24, 24, 24]   \n",
       "18         [38, 38, 38, 38, 38, 38, 38, 38, 38, 40, 40]   \n",
       "19         [40, 40, 40, 40, 40, 40, 40, 40, 40, 38, 38]   \n",
       "20         [26, 28, 28, 30, 28, 28, 30, 32, 34, 32, 34]   \n",
       "21         [26, 22, 22, 20, 18, 16, 16, 22, 26, 26, 24]   \n",
       "22          [-8, -2, -2, -2, -2, 4, 14, 18, 20, 16, 18]   \n",
       "23         [32, 32, 34, 34, 32, 32, 36, 36, 36, 40, 40]   \n",
       "24         [30, 30, 28, 28, 28, 32, 30, 26, 30, 28, 28]   \n",
       "25         [40, 38, 38, 38, 38, 38, 40, 40, 38, 38, 38]   \n",
       "26         [30, 30, 30, 28, 24, 22, 20, 22, 22, 22, 22]   \n",
       "27             [-8, -10, 0, 6, 10, 14, 16, 14, 8, 6, 8]   \n",
       "28         [-14, -8, -2, -4, 4, 12, 10, 10, 14, 14, 12]   \n",
       "29             [2, 0, 0, 8, 14, 18, 20, 26, 30, 28, 24]   \n",
       "...                                                 ...   \n",
       "3483       [36, 36, 36, 36, 38, 38, 38, 38, 38, 38, 38]   \n",
       "3484         [-4, -4, -4, 0, 8, 20, 30, 30, 26, 30, 30]   \n",
       "3485           [-2, 0, 0, 2, 8, 14, 16, 24, 24, 34, 34]   \n",
       "3486       [10, 10, 10, 10, 14, 20, 24, 26, 26, 28, 30]   \n",
       "3487         [-10, -10, -6, 0, 6, 8, 8, 14, 20, 12, 14]   \n",
       "3488       [10, 14, 16, 16, 20, 26, 30, 32, 34, 32, 34]   \n",
       "3489          [0, -2, 8, 8, 12, 16, 18, 22, 20, 18, 16]   \n",
       "3490       [40, 40, 40, 40, 40, 40, 40, 40, 40, 40, 40]   \n",
       "3491       [24, 24, 24, 26, 28, 36, 38, 38, 40, 40, 40]   \n",
       "3492       [16, 16, 20, 22, 24, 22, 22, 24, 26, 26, 22]   \n",
       "3493  [-26, -18, -14, -10, -6, -4, -4, -6, -6, -8, -10]   \n",
       "3494       [-10, -6, 4, 12, 14, 16, 16, 16, 14, 14, 10]   \n",
       "3495       [-24, -16, -16, -8, 0, 2, 8, 10, 14, 18, 22]   \n",
       "3496      [-26, -24, -14, -6, -2, -2, -2, 0, 0, -2, -2]   \n",
       "3497       [10, 14, 16, 16, 20, 26, 30, 32, 34, 32, 34]   \n",
       "3498       [36, 36, 36, 36, 38, 38, 38, 38, 38, 38, 38]   \n",
       "3499        [-14, -14, -8, 0, 6, 4, 14, 12, 12, 12, 10]   \n",
       "3500       [10, 16, 20, 24, 24, 26, 26, 28, 30, 30, 30]   \n",
       "3501   [-16, -16, -10, -10, -4, -8, -8, -6, -8, -8, -8]   \n",
       "3502            [-6, -4, 2, 2, 2, 4, 8, 14, 16, 16, 18]   \n",
       "3503       [34, 34, 36, 38, 38, 36, 38, 36, 30, 28, 22]   \n",
       "3504       [38, 38, 38, 38, 38, 38, 38, 38, 38, 38, 34]   \n",
       "3505         [-6, -6, -4, -2, 0, 8, 10, 20, 18, 16, 20]   \n",
       "3506       [10, 10, 10, 10, 14, 20, 24, 26, 26, 28, 30]   \n",
       "3507       [12, 12, 10, 10, 16, 16, 20, 24, 26, 30, 36]   \n",
       "3508       [16, 16, 16, 18, 22, 30, 34, 34, 36, 36, 34]   \n",
       "3509       [-8, -6, -6, -6, -8, -8, -8, -4, -2, -4, -2]   \n",
       "3510              [0, -4, 0, 4, 8, 8, 8, 8, 12, 14, 16]   \n",
       "3511         [6, 8, 20, 20, 18, 18, 20, 20, 22, 20, 22]   \n",
       "3512       [36, 36, 36, 36, 38, 38, 38, 38, 38, 38, 38]   \n",
       "\n",
       "                                             pop_scores  \\\n",
       "0              [-12, -8, -8, -6, -6, 0, 2, 10, 8, 6, 6]   \n",
       "1          [14, 12, 12, 12, 14, 16, 18, 16, 20, 22, 22]   \n",
       "2          [12, 12, 14, 12, 14, 18, 20, 18, 18, 24, 24]   \n",
       "3     [-40, -40, -40, -38, -36, -34, -34, -34, -34, ...   \n",
       "4     [-28, -30, -22, -18, -12, -12, -8, -10, -10, -...   \n",
       "5     [-20, -22, -18, -14, -10, -6, -6, -2, -6, -6, -6]   \n",
       "6     [-28, -28, -28, -22, -22, -22, -20, -20, -18, ...   \n",
       "7          [-22, -24, -22, -18, -8, -2, -4, 4, 6, 4, 6]   \n",
       "8                 [-6, -6, -2, -4, 2, 6, 0, 2, 6, 6, 6]   \n",
       "9      [-26, -26, -24, -16, -12, -6, -4, 0, -4, -4, -4]   \n",
       "10         [12, 10, 12, 18, 14, 16, 16, 16, 14, 14, 18]   \n",
       "11            [4, 0, 4, 12, 14, 14, 10, 14, 16, 16, 16]   \n",
       "12         [20, 20, 22, 26, 26, 32, 30, 34, 30, 28, 26]   \n",
       "13    [-30, -32, -32, -34, -32, -32, -34, -34, -34, ...   \n",
       "14    [-26, -24, -24, -24, -18, -16, -8, -10, -10, -...   \n",
       "15    [-32, -32, -28, -24, -22, -22, -20, -20, -18, ...   \n",
       "16     [-26, -28, -22, -16, -14, -12, -10, -6, 0, 4, 6]   \n",
       "17    [-26, -28, -24, -22, -16, -12, -16, -16, -8, -...   \n",
       "18    [-18, -20, -20, -18, -16, -14, -12, -8, -6, -4...   \n",
       "19             [-4, -2, 2, -2, 4, 2, 6, 12, 12, 14, 12]   \n",
       "20                [-6, -6, -2, -4, 2, 6, 0, 2, 6, 6, 6]   \n",
       "21    [-22, -20, -16, -22, -16, -16, -12, -10, -6, -...   \n",
       "22              [-10, -4, -2, 2, 2, 6, 6, 4, 0, -4, -4]   \n",
       "23    [-16, -20, -16, -12, -12, -12, -12, -14, -16, ...   \n",
       "24          [-22, -14, -6, -8, -6, -6, -4, -2, 0, 2, 2]   \n",
       "25    [-20, -22, -18, -14, -10, -6, -6, -2, -6, -6, -6]   \n",
       "26    [-36, -36, -30, -28, -24, -22, -20, -18, -20, ...   \n",
       "27    [-26, -22, -22, -20, -14, -14, -12, -14, -12, ...   \n",
       "28       [-16, -16, -12, -8, 2, 12, 12, 12, 12, 12, 12]   \n",
       "29    [-12, -18, -16, -16, -12, -12, -16, -14, -12, ...   \n",
       "...                                                 ...   \n",
       "3483  [-34, -28, -20, -22, -24, -22, -24, -24, -24, ...   \n",
       "3484  [-22, -20, -18, -16, -12, -16, -20, -20, -20, ...   \n",
       "3485    [-28, -32, -24, -18, -6, 0, -4, -6, -6, -4, -6]   \n",
       "3486  [-28, -32, -20, -18, -18, -12, -10, -14, -10, ...   \n",
       "3487      [-16, -14, -10, -2, 6, 8, 12, 10, 12, 12, 16]   \n",
       "3488  [-20, -16, -18, -20, -18, -20, -20, -20, -20, ...   \n",
       "3489     [-28, -22, -14, -14, -10, -6, -6, -4, 4, 4, 4]   \n",
       "3490         [-2, 0, 4, 12, 18, 20, 20, 24, 26, 26, 26]   \n",
       "3491              [-8, -8, -8, -8, 0, 4, 2, 2, 2, 4, 6]   \n",
       "3492        [-8, -6, -2, 6, 12, 16, 18, 18, 18, 18, 20]   \n",
       "3493  [-30, -30, -34, -34, -34, -34, -34, -34, -34, ...   \n",
       "3494  [-26, -24, -24, -18, -18, -16, -16, -16, -18, ...   \n",
       "3495  [-38, -38, -34, -32, -28, -24, -24, -24, -24, ...   \n",
       "3496  [-16, -14, -4, -8, -8, -10, -10, -8, -10, -10,...   \n",
       "3497  [-26, -20, -20, -18, -16, -14, -12, -12, -10, ...   \n",
       "3498  [-26, -18, -14, -10, -6, -4, -4, -6, -6, -8, -10]   \n",
       "3499         [-8, -6, -6, 4, 4, -2, -4, -2, -2, -6, -6]   \n",
       "3500  [-26, -28, -26, -28, -24, -12, -8, -2, -2, -2,...   \n",
       "3501      [-22, -22, -8, -2, 6, 12, 12, 10, 12, 14, 12]   \n",
       "3502    [-28, -32, -24, -18, -6, 0, -4, -6, -6, -4, -6]   \n",
       "3503  [-28, -32, -20, -18, -18, -12, -10, -14, -10, ...   \n",
       "3504        [-10, -10, -10, -10, -6, -2, 0, 2, 2, 0, 2]   \n",
       "3505       [-8, -6, -6, -6, -8, -8, -8, -4, -2, -4, -2]   \n",
       "3506        [-16, -8, -2, 4, 6, 14, 16, 14, 20, 18, 18]   \n",
       "3507        [10, 10, 8, 10, 16, 20, 20, 18, 18, 18, 20]   \n",
       "3508          [-2, 0, 0, 4, 10, 12, 16, 16, 16, 12, 12]   \n",
       "3509        [-8, -8, -8, -4, -4, 6, 12, 14, 14, 18, 18]   \n",
       "3510       [16, 16, 16, 18, 22, 30, 34, 34, 36, 36, 34]   \n",
       "3511               [8, 6, 4, 2, 4, 8, 8, 8, 12, 18, 16]   \n",
       "3512       [12, 12, 10, 10, 16, 16, 20, 24, 26, 30, 36]   \n",
       "\n",
       "                                          random_scores  \n",
       "0          [14, 12, 12, 12, 14, 16, 18, 16, 20, 22, 22]  \n",
       "1              [-12, -8, -8, -6, -6, 0, 2, 10, 8, 6, 6]  \n",
       "2          [12, 12, 14, 12, 14, 18, 20, 18, 18, 24, 24]  \n",
       "3             [4, 0, 4, 12, 14, 14, 10, 14, 16, 16, 16]  \n",
       "4     [-20, -22, -18, -14, -10, -6, -6, -2, -6, -6, -6]  \n",
       "5          [-22, -24, -22, -18, -8, -2, -4, 4, 6, 4, 6]  \n",
       "6          [12, 10, 12, 18, 14, 16, 16, 16, 14, 14, 18]  \n",
       "7          [20, 20, 22, 26, 26, 32, 30, 34, 30, 28, 26]  \n",
       "8                 [-6, -6, -2, -4, 2, 6, 0, 2, 6, 6, 6]  \n",
       "9          [30, 28, 26, 28, 32, 28, 28, 26, 26, 28, 30]  \n",
       "10                [2, 0, 4, 6, 8, 6, 8, 16, 14, 12, 10]  \n",
       "11     [-26, -26, -24, -16, -12, -6, -4, 0, -4, -4, -4]  \n",
       "12    [-28, -30, -22, -18, -12, -12, -8, -10, -10, -...  \n",
       "13    [-12, -10, -10, -10, -10, -10, -6, -6, -8, -8,...  \n",
       "14            [6, 8, 8, 10, 12, 10, 12, 16, 20, 18, 20]  \n",
       "15    [-26, -24, -24, -24, -18, -16, -8, -10, -10, -...  \n",
       "16         [30, 28, 26, 28, 32, 28, 28, 26, 26, 28, 30]  \n",
       "17    [-30, -32, -32, -34, -32, -32, -34, -34, -34, ...  \n",
       "18         [12, 12, 14, 12, 14, 18, 20, 18, 18, 24, 24]  \n",
       "19    [-22, -20, -16, -22, -16, -16, -12, -10, -6, -...  \n",
       "20    [-18, -20, -20, -18, -16, -14, -12, -8, -6, -4...  \n",
       "21              [2, 4, 0, 4, 8, 12, 22, 28, 34, 36, 36]  \n",
       "22    [-26, -28, -24, -22, -16, -12, -16, -16, -8, -...  \n",
       "23             [2, 0, 0, 8, 14, 18, 20, 26, 30, 28, 24]  \n",
       "24            [6, 4, 8, 10, 12, 14, 14, 16, 18, 22, 22]  \n",
       "25    [-28, -28, -24, -22, -16, -12, -8, -8, -8, -6,...  \n",
       "26      [-6, -10, -8, -2, -2, -6, -10, -10, -8, -4, -2]  \n",
       "27       [-16, -16, -12, -8, 2, 12, 12, 12, 12, 12, 12]  \n",
       "28         [30, 28, 26, 28, 32, 28, 28, 26, 26, 28, 30]  \n",
       "29             [-12, -8, -12, -4, 0, 4, 4, 4, 8, 8, 14]  \n",
       "...                                                 ...  \n",
       "3483    [-28, -32, -24, -18, -6, 0, -4, -6, -6, -4, -6]  \n",
       "3484        [-8, -6, -2, 6, 12, 16, 18, 18, 18, 18, 20]  \n",
       "3485      [-16, -16, -14, -8, 0, 6, 14, 20, 18, 20, 20]  \n",
       "3486           [0, 0, 2, 6, 14, 14, 14, 14, 14, 16, 18]  \n",
       "3487           [2, 0, 2, 8, 14, 14, 14, 16, 20, 22, 22]  \n",
       "3488        [-8, -6, -6, 2, 10, 12, 16, 14, 14, 14, 16]  \n",
       "3489       [18, 20, 22, 20, 22, 22, 22, 18, 18, 18, 16]  \n",
       "3490              [0, -4, 0, 4, 8, 8, 8, 8, 12, 14, 16]  \n",
       "3491  [-34, -28, -20, -22, -24, -22, -24, -24, -24, ...  \n",
       "3492      [-16, -14, -10, -2, 6, 8, 12, 10, 12, 12, 16]  \n",
       "3493        [-8, -6, -2, 6, 12, 16, 18, 18, 18, 18, 20]  \n",
       "3494  [-30, -30, -32, -26, -28, -30, -30, -30, -30, ...  \n",
       "3495       [-10, -6, 4, 12, 14, 16, 16, 16, 14, 14, 10]  \n",
       "3496  [-22, -16, -8, -6, -8, -12, -12, -12, -12, -10...  \n",
       "3497         [4, 8, 12, 14, 22, 24, 26, 24, 24, 22, 22]  \n",
       "3498          [0, -2, 8, 8, 12, 16, 18, 22, 20, 18, 16]  \n",
       "3499          [-20, -14, -8, 4, 6, 4, 6, 10, 10, 10, 8]  \n",
       "3500      [-22, -22, -8, -2, 6, 12, 12, 10, 12, 14, 12]  \n",
       "3501        [-6, -2, 2, 10, 16, 18, 16, 18, 18, 20, 20]  \n",
       "3502               [8, 6, 4, 2, 4, 8, 8, 8, 12, 18, 16]  \n",
       "3503        [-8, -8, -8, -4, -4, 6, 12, 14, 14, 18, 18]  \n",
       "3504       [12, 12, 10, 10, 16, 16, 20, 24, 26, 30, 36]  \n",
       "3505              [0, -4, 0, 4, 8, 8, 8, 8, 12, 14, 16]  \n",
       "3506        [-10, -10, -10, -10, -6, -2, 0, 2, 2, 0, 2]  \n",
       "3507       [16, 16, 16, 16, 18, 14, 14, 16, 18, 18, 18]  \n",
       "3508   [-18, -18, -16, -16, -10, -6, -6, -2, 0, -2, -2]  \n",
       "3509          [-2, 0, 0, 4, 10, 12, 16, 16, 16, 12, 12]  \n",
       "3510       [30, 30, 30, 34, 34, 34, 34, 36, 36, 34, 34]  \n",
       "3511  [-28, -32, -20, -18, -18, -12, -10, -14, -10, ...  \n",
       "3512         [-6, -6, -4, -2, 0, 8, 10, 20, 18, 16, 20]  \n",
       "\n",
       "[3513 rows x 23 columns]"
      ]
     },
     "execution_count": 47,
     "metadata": {},
     "output_type": "execute_result"
    }
   ],
   "source": [
    "df"
   ]
  },
  {
   "cell_type": "code",
   "execution_count": 27,
   "metadata": {},
   "outputs": [
    {
     "data": {
      "text/plain": [
       "[4830, 4739, 4610, 4486, 4284, 3670, 3412, 3168, 2935, 2735, 2576]"
      ]
     },
     "execution_count": 27,
     "metadata": {},
     "output_type": "execute_result"
    }
   ],
   "source": [
    "df['post_rank_random_all'][0]"
   ]
  },
  {
   "cell_type": "markdown",
   "metadata": {},
   "source": [
    "# Forward"
   ]
  },
  {
   "cell_type": "code",
   "execution_count": 29,
   "metadata": {},
   "outputs": [
    {
     "name": "stderr",
     "output_type": "stream",
     "text": [
      "100%|██████████| 2343/2343 [00:01<00:00, 1393.91it/s]\n",
      "100%|██████████| 2343/2343 [00:00<00:00, 2992.28it/s]\n",
      "100%|██████████| 2343/2343 [00:00<00:00, 5021.59it/s]\n",
      "100%|██████████| 2343/2343 [00:00<00:00, 5005.95it/s]\n",
      "100%|██████████| 2343/2343 [00:00<00:00, 5092.48it/s]\n",
      "100%|██████████| 2343/2343 [00:00<00:00, 4942.57it/s]\n",
      "100%|██████████| 2343/2343 [00:00<00:00, 4744.95it/s]\n",
      "100%|██████████| 2343/2343 [00:00<00:00, 4548.68it/s]\n"
     ]
    }
   ],
   "source": [
    "# KNN Forward \n",
    "similarity = normalize(train(rtrain))\n",
    "user_item_prediction_score = predict(rtrain, 100, similarity, item_similarity_en= False)\n",
    "user_item_predict = prediction(user_item_prediction_score, 50, rtrain)\n",
    "user_item_res = evaluate(user_item_predict, rtest)"
   ]
  },
  {
   "cell_type": "code",
   "execution_count": 30,
   "metadata": {},
   "outputs": [
    {
     "data": {
      "text/plain": [
       "{'MAP@5': (0.06940666362391602, 0.0060646277121995185),\n",
       " 'Recall@5': (0.026408137823500974, 0.002191309117794643),\n",
       " 'Precision@5': (0.06462802373345505, 0.004754606217931856),\n",
       " 'MAP@10': (0.06333952750429245, 0.00455145183026277),\n",
       " 'Recall@10': (0.04269615369598775, 0.0027831077562657665),\n",
       " 'Precision@10': (0.05330899132816066, 0.0032544740534870857),\n",
       " 'MAP@15': (0.05872249612550844, 0.0038121823597348156),\n",
       " 'Recall@15': (0.05562887733868642, 0.0031389991916236284),\n",
       " 'Precision@15': (0.04698006998326487, 0.0025622684368576416),\n",
       " 'MAP@20': (0.055196280875748356, 0.003345258771111864),\n",
       " 'Recall@20': (0.0677664821917642, 0.003424484045821138),\n",
       " 'Precision@20': (0.043336376083979916, 0.002222006808632301),\n",
       " 'MAP@50': (0.04436838784245958, 0.0022020570312340938),\n",
       " 'Recall@50': (0.12696642809611336, 0.0048241883971306436),\n",
       " 'Precision@50': (0.032889091738931994, 0.0014317314500480152),\n",
       " 'R-Precision': (0.048464138894968055, 0.0027869069242192506),\n",
       " 'NDCG': (0.09071795198195, 0.003803970590016347)}"
      ]
     },
     "execution_count": 30,
     "metadata": {},
     "output_type": "execute_result"
    }
   ],
   "source": [
    "# Evaluation result with k = 100\n",
    "user_item_res"
   ]
  },
  {
   "cell_type": "code",
   "execution_count": null,
   "metadata": {
    "collapsed": true
   },
   "outputs": [],
   "source": [
    "# PLREC Forward\n"
   ]
  },
  {
   "cell_type": "code",
   "execution_count": null,
   "metadata": {
    "collapsed": true
   },
   "outputs": [],
   "source": [
    "# PLREC \n"
   ]
  },
  {
   "cell_type": "code",
   "execution_count": null,
   "metadata": {
    "collapsed": true
   },
   "outputs": [],
   "source": [
    "# Learn User-Keyphrase matrix to Latent Embedding\n",
    "# Training \n",
    "X = normalize(U_K.todense())\n",
    "y = normalize(train(rtrain))\n",
    "clf = Ridge(alpha=0.1).fit(X, y) # Optimality at L2 regularization = 0.1\n",
    "lr_similarity = clf.predict(np.array(X))"
   ]
  },
  {
   "cell_type": "markdown",
   "metadata": {},
   "source": [
    "# Experiment"
   ]
  },
  {
   "cell_type": "code",
   "execution_count": 32,
   "metadata": {
    "collapsed": true
   },
   "outputs": [],
   "source": [
    "# keyphrase_popularity = get_keyphrase_popularity(df_train,keyphrases)\n",
    "\n",
    "# Save and load\n",
    "# np.savetxt('../data/yelp/'+'keyphrase_popularity.txt', keyphrase_popularity, fmt='%d')\n",
    "keyphrase_popularity = np.loadtxt('../data/yelp/'+'keyphrase_popularity.txt', dtype=int)"
   ]
  },
  {
   "cell_type": "code",
   "execution_count": null,
   "metadata": {
    "collapsed": true
   },
   "outputs": [],
   "source": []
  },
  {
   "cell_type": "markdown",
   "metadata": {},
   "source": [
    "# Testing Gurobi"
   ]
  },
  {
   "cell_type": "code",
   "execution_count": null,
   "metadata": {
    "collapsed": true
   },
   "outputs": [],
   "source": [
    "# critiqued_matrix_onehot = get_critiqued_UK(U_K,user,critiqued_keyphrase_random)\n",
    "critiqued_matrix_onehot = get_critiqued_UK(U_K,0,0)\n",
    "critiqued_matrix = reg.predict(critiqued_matrix_onehot)\n",
    "critiqued_matrix_random =critiqued_matrix\n",
    "\n",
    "U_V_critique = critiqued_matrix_random\n",
    "U_V_initial = Y\n",
    "latent_diff = U_V_critique - U_V_initial\n",
    "\n",
    "rating_diff = predict_scores(matrix_U=lamb * latent_diff[user], \n",
    "                     matrix_V=RQ)\n",
    "rating_diff_sum_unaffected = np.sum(abs(rating_diff), where = np.in1d(range(num_items),unaffected_items))\n",
    "rating_diff_sum_affected = np.sum(rating_diff, where = np.in1d(range(num_items),affected_items))\n",
    "obj = w1*abs(rating_diff_sum_unaffected) + w2*rating_diff_sum_affected "
   ]
  },
  {
   "cell_type": "code",
   "execution_count": 68,
   "metadata": {
    "scrolled": true
   },
   "outputs": [
    {
     "name": "stderr",
     "output_type": "stream",
     "text": [
      "/Users/litos/opt/anaconda3/envs/tensorflow_cpu/lib/python3.6/site-packages/scipy/sparse/_index.py:126: SparseEfficiencyWarning: Changing the sparsity structure of a csr_matrix is expensive. lil_matrix is more efficient.\n",
      "  self._set_arrayXarray(i, j, x)\n"
     ]
    }
   ],
   "source": [
    "user = 0\n",
    "critiqued_keyphrase_random = 0\n",
    "critiqued_matrix_onehot = get_critiqued_UK(U_K,user,critiqued_keyphrase_random)\n",
    "critiqued_matrix = reg.predict(critiqued_matrix_onehot)\n",
    "critiqued_matrix_random =critiqued_matrix\n",
    "modified_matrix_random = critiqued_matrix_random + Y\n",
    "matrix_Train = rtrain\n",
    "prediction_scores_u = predict_scores(matrix_U=modified_matrix_random[user], \n",
    "                                     matrix_V=RQ,\n",
    "                                     )\n",
    "prediction_items = predict_vector(rating_vector=prediction_scores_u,\n",
    "                                  train_vector=matrix_Train[user],\n",
    "                                  remove_train=True)"
   ]
  },
  {
   "cell_type": "code",
   "execution_count": 70,
   "metadata": {
    "collapsed": true,
    "scrolled": true
   },
   "outputs": [],
   "source": [
    "num_items = rtrain.shape[1]\n",
    "affected_items = I_K[:, critiqued_keyphrase_random].nonzero()[0]\n",
    "unaffected_items = np.setdiff1d(range(num_items), affected_items)"
   ]
  },
  {
   "cell_type": "code",
   "execution_count": 77,
   "metadata": {
    "scrolled": true
   },
   "outputs": [
    {
     "data": {
      "text/plain": [
       "5"
      ]
     },
     "execution_count": 77,
     "metadata": {},
     "output_type": "execute_result"
    }
   ],
   "source": [
    "prediction_score = predict_scores(matrix_U=RQ,\n",
    "                                      matrix_V=Y,\n",
    "                                      bias=Bias).T[user]\n",
    "# Get initial top recommended item(s)\n",
    "initial_top_recommendations = np.argsort(prediction_score)[::-1]\n",
    "\n",
    "sum(np.in1d(initial_top_recommendations[:10], affected_items))"
   ]
  },
  {
   "cell_type": "code",
   "execution_count": 78,
   "metadata": {},
   "outputs": [
    {
     "data": {
      "text/plain": [
       "7"
      ]
     },
     "execution_count": 78,
     "metadata": {},
     "output_type": "execute_result"
    }
   ],
   "source": [
    "sum(np.in1d(prediction_items[:10], affected_items))"
   ]
  },
  {
   "cell_type": "code",
   "execution_count": 80,
   "metadata": {},
   "outputs": [
    {
     "name": "stdout",
     "output_type": "stream",
     "text": [
      "5\n",
      "3\n"
     ]
    }
   ],
   "source": [
    "print (sum(np.in1d(initial_top_recommendations[:10], unaffected_items)))\n",
    "print (sum(np.in1d(prediction_items[:10], unaffected_items)))"
   ]
  },
  {
   "cell_type": "markdown",
   "metadata": {},
   "source": [
    "# LP Model"
   ]
  },
  {
   "cell_type": "markdown",
   "metadata": {},
   "source": [
    "## Ranking Model"
   ]
  },
  {
   "cell_type": "code",
   "execution_count": null,
   "metadata": {
    "collapsed": true
   },
   "outputs": [],
   "source": [
    "# \n",
    "quicksum(\n",
    "    initial_prediction_u[affected_item] * num_unaffected_items + \n",
    "    quicksum(lambs[k] * critiqued_vector[query[k]] * W[affected_item][query[k]] * num_unaffected_items \n",
    "                 for k in range(num_critiques)) for affected_item in affected_items) - \n",
    "    quicksum(initial_prediction_u[unaffected_item] * num_affected_items + \n",
    "             quicksum(lambs[k] * critiqued_vector[query[k]] * W[unaffected_item][query[k]] * num_affected_items \n",
    "                for k in range(num_critiques)) for unaffected_item in unaffected_items)\n",
    "# maximize rank: \n",
    "rank = sum(np.in1d(prediction_items[:10], affected_items))\n"
   ]
  },
  {
   "cell_type": "code",
   "execution_count": 99,
   "metadata": {
    "collapsed": true
   },
   "outputs": [],
   "source": [
    "prediction_scores_u = modified_matrix_random[user].dot(RQ.T)"
   ]
  },
  {
   "cell_type": "code",
   "execution_count": 103,
   "metadata": {},
   "outputs": [
    {
     "data": {
      "text/plain": [
       "array([6222, 5410, 2804, ..., 3713, 4582, 7163])"
      ]
     },
     "execution_count": 103,
     "metadata": {},
     "output_type": "execute_result"
    }
   ],
   "source": [
    "np.argsort(prediction_scores_u)[::-1]"
   ]
  },
  {
   "cell_type": "code",
   "execution_count": 166,
   "metadata": {
    "collapsed": true
   },
   "outputs": [],
   "source": [
    "k = 10 # top k precision\n",
    "user = 0\n",
    "\n",
    "# modified_matrix_random = lamb*critiqued_matrix_random + (1-lamb)*Y\n",
    "# prediction_scores_u = predict_scores(matrix_U=modified_matrix_random[user], \n",
    "#                                      matrix_V=RQ,\n",
    "#                                      )\n",
    "# prediction_scores_u = modified_matrix_random[user].dot(RQ.T)\n",
    "# prediction_items = predict_vector(rating_vector=prediction_scores_u,\n",
    "#                                   train_vector=matrix_Train[user],\n",
    "#                                   remove_train=True)\n",
    "# dim = len(rating_vector)\n",
    "# candidate_index = np.argpartition(-rating_vector, dim-1)[:dim]\n",
    "# prediction_items = candidate_index[rating_vector[candidate_index].argsort()[::-1]]\n",
    "\n",
    "# prediction_items = np.argsort(prediction_scores_u)[::-1][::k]\n",
    "\n",
    "# prediction_items = np.argsort((lamb*critiqued_matrix_random + (1-lamb)*Y)[user].dot(RQ.T))[::-1][:k]\n",
    "# np.in1d(prediction_items,affected_items)\n",
    "# Model\n",
    "m = Model(\"Ranking\")\n",
    "# Assign Variable \n",
    "lamb = m.addVar(lb = 0, \n",
    "                ub = 1,\n",
    "                vtype = GRB.CONTINUOUS,\n",
    "                name = \"lamb\"\n",
    "               )\n",
    "# quicksum(np.in1d(np.argsort(prediction_items)[:10],affected_items))\n",
    "# Set Objective\n",
    "m.setObjective(\n",
    "    quicksum(\n",
    "             (np.array([lamb*critiqued_matrix_random[0][i] for i in range(len(Y[0]))]) + \n",
    "             np.array([(1-lamb)*Y[0][i] for i in range(len(Y[0]))])).dot(RQ.T)\n",
    "            \n",
    "            )\n",
    ", GRB.MINIMIZE)"
   ]
  },
  {
   "cell_type": "code",
   "execution_count": 156,
   "metadata": {
    "collapsed": true
   },
   "outputs": [],
   "source": [
    "lamb = 0.1\n",
    "modified_matrix = np.array([lamb*critiqued_matrix_random[0][i] for i in range(len(Y[0]))]) + np.array([(1-lamb)*Y[0][i] for i in range(len(Y[0]))])"
   ]
  },
  {
   "cell_type": "code",
   "execution_count": 161,
   "metadata": {
    "collapsed": true
   },
   "outputs": [],
   "source": [
    "prediction_score = modified_matrix.dot(RQ.T)"
   ]
  },
  {
   "cell_type": "code",
   "execution_count": 164,
   "metadata": {},
   "outputs": [
    {
     "data": {
      "text/plain": [
       "array([6222, 5410, 6454, 2804, 5081, 4358, 6299, 6940,  585, 6099])"
      ]
     },
     "execution_count": 164,
     "metadata": {},
     "output_type": "execute_result"
    }
   ],
   "source": [
    "np.argsort(prediction_score)[::-1][:10]"
   ]
  },
  {
   "cell_type": "code",
   "execution_count": 132,
   "metadata": {},
   "outputs": [
    {
     "data": {
      "text/plain": [
       "array([6222, 5410, 6454, 2804, 5081, 4358, 6299, 6940,  585, 6099])"
      ]
     },
     "execution_count": 132,
     "metadata": {},
     "output_type": "execute_result"
    }
   ],
   "source": [
    "np.argsort(modified_matrix.dot(RQ.T))[::-1][:10]"
   ]
  },
  {
   "cell_type": "code",
   "execution_count": null,
   "metadata": {
    "collapsed": true
   },
   "outputs": [],
   "source": [
    "m.optimize()\n",
    "for v in m.getVars():\n",
    "    print('%s %g' % (v.varName, v.x))\n",
    "print('Obj: %g' % m.objVal)"
   ]
  },
  {
   "cell_type": "code",
   "execution_count": 89,
   "metadata": {},
   "outputs": [
    {
     "name": "stdout",
     "output_type": "stream",
     "text": [
      "Gurobi Optimizer version 9.0.1 build v9.0.1rc0 (mac64)\n",
      "Optimize a model with 2 rows, 3 columns and 5 nonzeros\n",
      "Model fingerprint: 0x30cdba21\n",
      "Coefficient statistics:\n",
      "  Matrix range     [1e+00, 3e+00]\n",
      "  Objective range  [1e+00, 3e+00]\n",
      "  Bounds range     [1e+00, 1e+00]\n",
      "  RHS range        [1e+00, 4e+00]\n",
      "Presolve removed 2 rows and 3 columns\n",
      "Presolve time: 0.00s\n",
      "Presolve: All rows and columns removed\n",
      "Iteration    Objective       Primal Inf.    Dual Inf.      Time\n",
      "       0    6.5000000e+00   0.000000e+00   0.000000e+00      0s\n",
      "\n",
      "Solved in 0 iterations and 0.01 seconds\n",
      "Optimal objective  6.500000000e+00\n",
      "[<gurobi.Var x (value -1.0)>, <gurobi.Var y (value 2.5)>, <gurobi.Var z (value 0.0)>]\n",
      "Obj: 6.5\n"
     ]
    }
   ],
   "source": [
    "# This example formulates and solves the following simple MIP model:\n",
    "#  maximize\n",
    "#        x + y + 2 z\n",
    "#  subject to\n",
    "#        x + 2 y + 3 z <= 4\n",
    "#        x +   y       >= 1\n",
    "#        x, y, z binary\n",
    "\n",
    "import gurobipy as gp\n",
    "from gurobipy import GRB\n",
    "\n",
    "# Create a new model\n",
    "m = gp.Model(\"mip1\")\n",
    "\n",
    "# Create variables\n",
    "x = m.addVar(lb = -1,\n",
    "             ub = 1,\n",
    "             vtype=GRB.CONTINUOUS, \n",
    "             name=\"x\")\n",
    "y = m.addVar(vtype=GRB.CONTINUOUS, name=\"y\")\n",
    "z = m.addVar(vtype=GRB.CONTINUOUS, name=\"z\")\n",
    "\n",
    "# Set objective\n",
    "m.setObjective(x + y*3 + 2 * z, GRB.MAXIMIZE)\n",
    "\n",
    "# Add constraint: x + 2 y + 3 z <= 4\n",
    "m.addConstr(x + 2 * y + 3 * z <= 4, \"c0\")\n",
    "\n",
    "# Add constraint: x + y >= 1\n",
    "m.addConstr(x + y >= 1, \"c1\")\n",
    "\n",
    "# Optimize model\n",
    "m.optimize()\n",
    "\n",
    "# for v in m.getVars():\n",
    "#     print('%s %g' % (v.varName, v.x))\n",
    "print (m.getVars())\n",
    "print('Obj: %g' % m.objVal)"
   ]
  },
  {
   "cell_type": "code",
   "execution_count": null,
   "metadata": {
    "collapsed": true
   },
   "outputs": [],
   "source": []
  },
  {
   "cell_type": "code",
   "execution_count": 47,
   "metadata": {
    "collapsed": true
   },
   "outputs": [],
   "source": [
    "expr = quicksum([2*x, 3*y+1, 4*z*z])\n",
    "# expr = quicksum(model.getVars())"
   ]
  },
  {
   "cell_type": "code",
   "execution_count": 48,
   "metadata": {},
   "outputs": [
    {
     "data": {
      "text/plain": [
       "<gurobi.QuadExpr: 1.0 + 2.0 x + 3.0 y + [ 4.0 z ^ 2 ]>"
      ]
     },
     "execution_count": 48,
     "metadata": {},
     "output_type": "execute_result"
    }
   ],
   "source": [
    "expr"
   ]
  },
  {
   "cell_type": "markdown",
   "metadata": {},
   "source": [
    "# Visualize Results"
   ]
  },
  {
   "cell_type": "code",
   "execution_count": 33,
   "metadata": {
    "collapsed": true
   },
   "outputs": [],
   "source": [
    "# Get post rank hr_k with different lambda values\n",
    "def get_post_rank(df,rank_type = 'random_all', line = 0):\n",
    "    \"\"\"\n",
    "    get one line of the post_rank res\n",
    "    \"\"\"\n",
    "    return np.array(literal_eval(df['post_rank_'+rank_type][line])).reshape(1,11)\n",
    "\n",
    "def get_ranking_scores(df, rank_type = 'random', line = 0):\n",
    "    \"\"\"\n",
    "    get one line of the ranking score for different lambda\n",
    "    \"\"\"\n",
    "    return np.array(literal_eval(df[rank_type+'_scores'][line])).reshape(1,11)\n",
    "\n",
    "def concat_rank(df,rank_type = 'random_all'):\n",
    "    \"\"\"\n",
    "    concat all post_rank res to one matrix\n",
    "    \"\"\"\n",
    "    res = get_post_rank(df, rank_type=rank_type, line = 0)\n",
    "    for i in range(1,len(df)):\n",
    "        res = np.concatenate((res,get_post_rank(df, rank_type=rank_type, line = i)))\n",
    "    return res\n",
    "\n",
    "def get_post_hr_at_k(df, k, rank_type = 'random_all'):\n",
    "    \"\"\"\n",
    "    Get hr_at_k for rank_type\n",
    "    return a numpy array of length 11 corresponding to each lambda value \n",
    "    \"\"\"\n",
    "    ranks = concat_rank(df,rank_type = rank_type) # concat the experiment result for rank_type\n",
    "\n",
    "    hr_at_k = np.where(ranks<k)[1] # compare rank with k\n",
    "    count = np.unique(hr_at_k, return_counts=True) # get count for each lambda value\n",
    "\n",
    "    return count[1]/len(df) \n",
    "\n",
    "def get_pre_hr_at_k(df, k, pre_col = 'pre_rank'):\n",
    "    pre_hit = len(np.where(df[pre_col]<k)[0])\n",
    "    return pre_hit/len(df)"
   ]
  },
  {
   "cell_type": "code",
   "execution_count": 32,
   "metadata": {
    "collapsed": true
   },
   "outputs": [],
   "source": [
    "def plot_lambda_vs_performance(df, k = 25, show = True, savefig = False):\n",
    "    \"\"\"get hr@k graph for all 6 options\n",
    "    x_axis: lambda from all initial to all modified matrix\n",
    "    y_axis: performance (hr@k)\"\"\"\n",
    "    plt.figure(figsize=(12,12))\n",
    "    # Get lines\n",
    "    pre_hr = [get_pre_hr_at_k(df,k,pre_col = 'pre_rank')]*11 # repeat len(lams) times\n",
    "    pruned_hr = [get_pre_hr_at_k(df,k,pre_col = 'pure_pruning_rank')]*11 # repeat len(lams) times\n",
    "    random_all = get_post_hr_at_k(df,k,rank_type='random_all')\n",
    "    random_upper = get_post_hr_at_k(df,k,rank_type='random_upper')\n",
    "    pop_all = get_post_hr_at_k(df,k,rank_type='pop_all')\n",
    "    pop_upper = get_post_hr_at_k(df,k,rank_type='pop_upper')\n",
    "    diff_all = get_post_hr_at_k(df,k,rank_type='diff_all')\n",
    "    diff_upper = get_post_hr_at_k(df,k,rank_type='diff_upper')\n",
    "\n",
    "    plt.plot(np.arange(11), pre_hr,'b')\n",
    "    plt.plot(np.arange(11), pruned_hr,'b--')\n",
    "    plt.plot(np.arange(11), random_all,'r-')\n",
    "    plt.plot(np.arange(11), random_upper,'r--')\n",
    "    plt.plot(np.arange(11), pop_all,'y-')\n",
    "    plt.plot(np.arange(11), pop_upper,'y--')\n",
    "    plt.plot(np.arange(11), diff_all,'g-')\n",
    "    plt.plot(np.arange(11), diff_upper,'g--')\n",
    "\n",
    "    x = [0, .1, .2, .3, .4, .5, .6, .7, .8, .9, 1]\n",
    "    xi = list(range(len(x)))\n",
    "    # plt.xticks(np.arange(len(k_list)), k_list)\n",
    "    plt.xlabel('lambda')\n",
    "    plt.ylabel('HR@K')\n",
    "    plt.legend(['Pre-Critiquing', 'Pure-pruning','Random', 'Random_Upper','Pop','Pop_Upper','Diff','Diff_Upper'])\n",
    "    plt.xticks(xi, x)\n",
    "    if show == True:\n",
    "        plt.show()\n",
    "    if savefig == True:\n",
    "        plt.savefig('../figs/three_keyphrase_selection_methods_with_upper_bound_0115_hr15')"
   ]
  },
  {
   "cell_type": "code",
   "execution_count": 38,
   "metadata": {},
   "outputs": [],
   "source": [
    "def get_optimal_lamb(df,rank_type1 = \"random_all\", rank_type2 = \"random\"):\n",
    "    \"\"\"\n",
    "    get optimal predicted and real lamb \n",
    "    rank_type1: optimal real \n",
    "    rank_type2: optimal predicted\n",
    "    \"\"\"\n",
    "    actual_bests = []\n",
    "    predicted_bests = []\n",
    "    for i in range(len(df)):\n",
    "        actual_best = np.argmin(get_post_rank(df,rank_type = rank_type1, line = i))\n",
    "        predicted_best = np.argmax(get_ranking_scores(df,rank_type = rank_type2, line = i))\n",
    "        # Question: how to evaluate the difference\n",
    "        actual_bests.append(actual_best)\n",
    "        predicted_bests.append(predicted_best)\n",
    "    return actual_bests,predicted_bests\n",
    "\n",
    "def get_dict_from_scatter_plot(df,rank_type1 = \"random_all\", rank_type2 = \"random\"):\n",
    "    \"\"\"\n",
    "    Get data dict for scatter plot\n",
    "    keys are predicted\n",
    "    \n",
    "    \"\"\"\n",
    "    actual_bests,predicted_bests = get_optimal_lamb(df,rank_type1 = rank_type1, rank_type2 = rank_type2)\n",
    "    data_dict = defaultdict(list)\n",
    "    for i,predicted_best in enumerate(predicted_bests):\n",
    "        data_dict[predicted_best].append(actual_bests[i])\n",
    "    return data_dict\n",
    "\n",
    "def plot_real_predicted_best_lambda(df, rank_type1=\"random_all\", rank_type2=\"random\" ,size_constant = 1,\n",
    "                                    show = True, savefig = False,figname = None):\n",
    "    \"\"\"\n",
    "    Get scaller plot for comparing real/predicted optimal lambda for each prediction\n",
    "    x-axis: actual optimal lambda\n",
    "    y-axis: predicted optimal lambda\n",
    "    \"\"\"\n",
    "    data_dict = get_dict_from_scatter_plot(df, rank_type1=rank_type1, rank_type2 = rank_type2)\n",
    "#     size_constant = 5\n",
    "\n",
    "    for xe, ye in data_dict.items():\n",
    "        xAxis = [xe] * len(ye)\n",
    "\n",
    "        #square it to amplify the effect, if you do ye.count(num)*size_constant the effect is barely noticeable\n",
    "        sizes = [ye.count(num)**2.5 * size_constant for num in ye]\n",
    "        plt.scatter(xAxis, ye, s=sizes)\n",
    "        \n",
    "    x = [0, .1, .2, .3, .4, .5, .6, .7, .8, .9, 1]\n",
    "    xi = list(range(len(x)))\n",
    "    # plt.xticks(np.arange(len(k_list)), k_list)\n",
    "    plt.xlabel('real optimal lambda')\n",
    "    plt.ylabel('predicted optimal lambda')\n",
    "#     plt.legend(['Pre-Critiquing', 'Pure-pruning','Random', 'Random_Upper','Pop','Pop_Upper','Diff','Diff_Upper'])\n",
    "    plt.xticks(xi, x)\n",
    "    plt.yticks(xi, x)\n",
    "    \n",
    "    if show:\n",
    "        plt.show()\n",
    "    if savefig:\n",
    "        try:\n",
    "            plt.savefig('../figs/' + figname)\n",
    "        except:\n",
    "            print ('FigName Not Defined')"
   ]
  },
  {
   "cell_type": "code",
   "execution_count": 264,
   "metadata": {
    "scrolled": false
   },
   "outputs": [
    {
     "name": "stdout",
     "output_type": "stream",
     "text": [
      "[40 40 38 38 38 40 40 40 40 40 40]\n"
     ]
    },
    {
     "data": {
      "text/plain": [
       "(array([ 0,  1,  5,  6,  7,  8,  9, 10]),)"
      ]
     },
     "execution_count": 264,
     "metadata": {},
     "output_type": "execute_result"
    }
   ],
   "source": [
    "### Get all predicted best lambda\n",
    "score = get_ranking_scores(df,rank_type = 'diff', line = 0)[0]\n",
    "print (score)\n",
    "np.where(score == np.amax(score))\n",
    "\n",
    "### Get only the first predicted best lambda"
   ]
  },
  {
   "cell_type": "code",
   "execution_count": 48,
   "metadata": {},
   "outputs": [],
   "source": [
    "df = pd.read_csv(single_step_with_avg_path+\"ranking1_500user.csv\")"
   ]
  },
  {
   "cell_type": "code",
   "execution_count": 52,
   "metadata": {
    "scrolled": false
   },
   "outputs": [
    {
     "data": {
      "image/png": "[encoded data removed]",
      "text/plain": [
       "<Figure size 432x288 with 1 Axes>"
      ]
     },
     "metadata": {},
     "output_type": "display_data"
    }
   ],
   "source": [
    "plot_real_predicted_best_lambda(df, rank_type1= \"diff_all\", rank_type2=\"diff\",size_constant=0.001,\n",
    "                                show = True, \n",
    "                                savefig = False, figname = None)"
   ]
  },
  {
   "cell_type": "code",
   "execution_count": 54,
   "metadata": {},
   "outputs": [
    {
     "data": {
      "image/png": "[encoded data removed]",
      "text/plain": [
       "<Figure size 432x288 with 1 Axes>"
      ]
     },
     "metadata": {},
     "output_type": "display_data"
    }
   ],
   "source": [
    "plot_real_predicted_best_lambda(df, rank_type1= \"random_all\", rank_type2=\"random\",size_constant=0.001,\n",
    "                                show = True, \n",
    "                                savefig = False, figname = None)"
   ]
  },
  {
   "cell_type": "code",
   "execution_count": 55,
   "metadata": {},
   "outputs": [
    {
     "data": {
      "image/png": "[encoded data removed]",
      "text/plain": [
       "<Figure size 432x288 with 1 Axes>"
      ]
     },
     "metadata": {},
     "output_type": "display_data"
    }
   ],
   "source": [
    "plot_real_predicted_best_lambda(df, rank_type1= \"pop_all\", rank_type2=\"pop\",size_constant=0.001,\n",
    "                                show = True, \n",
    "                                savefig = False, figname = None)"
   ]
  },
  {
   "cell_type": "code",
   "execution_count": 53,
   "metadata": {
    "scrolled": false
   },
   "outputs": [
    {
     "data": {
      "image/png": "[encoded data removed]",
      "text/plain": [
       "<Figure size 864x864 with 1 Axes>"
      ]
     },
     "metadata": {},
     "output_type": "display_data"
    }
   ],
   "source": [
    "plot_lambda_vs_performance(df, k = 30, show = True, savefig = False)"
   ]
  }
 ],
 "metadata": {
  "kernelspec": {
   "display_name": "Python 3",
   "language": "python",
   "name": "python3"
  },
  "language_info": {
   "codemirror_mode": {
    "name": "ipython",
    "version": 3
   },
   "file_extension": ".py",
   "mimetype": "text/x-python",
   "name": "python",
   "nbconvert_exporter": "python",
   "pygments_lexer": "ipython3",
   "version": "3.6.1"
  }
 },
 "nbformat": 4,
 "nbformat_minor": 2
}
