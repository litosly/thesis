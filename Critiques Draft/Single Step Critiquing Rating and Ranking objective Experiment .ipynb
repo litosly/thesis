{
 "cells": [
  {
   "cell_type": "code",
   "execution_count": 2,
   "metadata": {
    "scrolled": false
   },
   "outputs": [
    {
     "ename": "ModuleNotFoundError",
     "evalue": "No module named 'tensorflow'",
     "output_type": "error",
     "traceback": [
      "\u001b[0;31m---------------------------------------------------------------------------\u001b[0m",
      "\u001b[0;31mModuleNotFoundError\u001b[0m                       Traceback (most recent call last)",
      "\u001b[0;32m<ipython-input-2-50bb0edcd41b>\u001b[0m in \u001b[0;36m<module>\u001b[0;34m\u001b[0m\n\u001b[1;32m      2\u001b[0m \u001b[0;34m\u001b[0m\u001b[0m\n\u001b[1;32m      3\u001b[0m \u001b[0;31m# TensorFlow and tf.keras\u001b[0m\u001b[0;34m\u001b[0m\u001b[0;34m\u001b[0m\u001b[0;34m\u001b[0m\u001b[0m\n\u001b[0;32m----> 4\u001b[0;31m \u001b[0;32mimport\u001b[0m \u001b[0mtensorflow\u001b[0m \u001b[0;32mas\u001b[0m \u001b[0mtf\u001b[0m\u001b[0;34m\u001b[0m\u001b[0;34m\u001b[0m\u001b[0m\n\u001b[0m\u001b[1;32m      5\u001b[0m \u001b[0;32mfrom\u001b[0m \u001b[0mtensorflow\u001b[0m \u001b[0;32mimport\u001b[0m \u001b[0mkeras\u001b[0m\u001b[0;34m\u001b[0m\u001b[0;34m\u001b[0m\u001b[0m\n\u001b[1;32m      6\u001b[0m \u001b[0;34m\u001b[0m\u001b[0m\n",
      "\u001b[0;31mModuleNotFoundError\u001b[0m: No module named 'tensorflow'"
     ]
    }
   ],
   "source": [
    "from __future__ import absolute_import, division, print_function, unicode_literals\n",
    "\n",
    "# TensorFlow and tf.keras\n",
    "import tensorflow as tf\n",
    "from tensorflow import keras\n",
    "\n",
    "print(tf.__version__)"
   ]
  },
  {
   "cell_type": "code",
   "execution_count": 1,
   "metadata": {
    "collapsed": true
   },
   "outputs": [],
   "source": [
    "import sys \n",
    "# sys.path.clear()\n",
    "sys.path.insert(0, 'D:\\\\Anaconda\\\\envs\\\\tensorflow_cpu\\\\python36.zip')\n",
    "sys.path.insert(0, 'D:\\\\Anaconda\\\\envs\\\\tensorflow_cpu\\\\DLLs')\n",
    "sys.path.insert(0, 'D:\\\\Anaconda\\\\envs\\\\tensorflow_cpu\\\\lib')\n",
    "sys.path.insert(0, 'D:\\\\Anaconda\\\\envs\\\\tensorflow_cpu')\n",
    "sys.path.insert(0, 'D:\\\\Anaconda\\\\envs\\\\tensorflow_cpu\\\\lib\\\\site-packages')\n",
    "sys.path.insert(0, '')"
   ]
  },
  {
   "cell_type": "code",
   "execution_count": 1,
   "metadata": {
    "scrolled": true
   },
   "outputs": [
    {
     "data": {
      "text/plain": [
       "['/Users/litos/Desktop/thesis/Critiques Draft',\n",
       " '/Users/litos/opt/anaconda3/lib/python37.zip',\n",
       " '/Users/litos/opt/anaconda3/lib/python3.7',\n",
       " '/Users/litos/opt/anaconda3/lib/python3.7/lib-dynload',\n",
       " '',\n",
       " '/Users/litos/opt/anaconda3/lib/python3.7/site-packages',\n",
       " '/Users/litos/opt/anaconda3/lib/python3.7/site-packages/aeosa',\n",
       " '/Users/litos/opt/anaconda3/lib/python3.7/site-packages/IPython/extensions',\n",
       " '/Users/litos/.ipython']"
      ]
     },
     "execution_count": 1,
     "metadata": {},
     "output_type": "execute_result"
    }
   ],
   "source": [
    "import sys\n",
    "sys.path"
   ]
  },
  {
   "cell_type": "code",
   "execution_count": 2,
   "metadata": {},
   "outputs": [],
   "source": [
    "sys.path = ['', '/Users/litos/opt/anaconda3/envs/tensorflow_cpu/lib/python36.zip', '/Users/litos/opt/anaconda3/envs/tensorflow_cpu/lib/python3.6', '/Users/litos/opt/anaconda3/envs/tensorflow_cpu/lib/python3.6/lib-dynload', '/Users/litos/opt/anaconda3/envs/tensorflow_cpu/lib/python3.6/site-packages']"
   ]
  },
  {
   "cell_type": "code",
   "execution_count": 3,
   "metadata": {
    "scrolled": true
   },
   "outputs": [
    {
     "ename": "ModuleNotFoundError",
     "evalue": "No module named 'gurobipy'",
     "output_type": "error",
     "traceback": [
      "\u001b[0;31m---------------------------------------------------------------------------\u001b[0m",
      "\u001b[0;31mModuleNotFoundError\u001b[0m                       Traceback (most recent call last)",
      "\u001b[0;32m<ipython-input-3-63cdd5112d6e>\u001b[0m in \u001b[0;36m<module>\u001b[0;34m\u001b[0m\n\u001b[0;32m----> 1\u001b[0;31m \u001b[0;32mfrom\u001b[0m \u001b[0mgurobipy\u001b[0m \u001b[0;32mimport\u001b[0m \u001b[0;34m*\u001b[0m\u001b[0;34m\u001b[0m\u001b[0;34m\u001b[0m\u001b[0m\n\u001b[0m",
      "\u001b[0;31mModuleNotFoundError\u001b[0m: No module named 'gurobipy'"
     ]
    }
   ],
   "source": [
    "from gurobipy import *"
   ]
  },
  {
   "cell_type": "code",
   "execution_count": 4,
   "metadata": {
    "scrolled": false
   },
   "outputs": [],
   "source": [
    "from scipy.sparse import csr_matrix, load_npz, save_npz\n",
    "from tqdm import tqdm\n",
    "from sklearn.preprocessing import normalize\n",
    "from collections import *\n",
    "import datetime\n",
    "import json\n",
    "import pandas as pd\n",
    "import time\n",
    "# import yaml\n",
    "import scipy.sparse as sparse\n",
    "from ast import literal_eval\n",
    "\n",
    "import numpy as np\n",
    "import matplotlib.pyplot as plt\n",
    "import random"
   ]
  },
  {
   "cell_type": "code",
   "execution_count": 5,
   "metadata": {},
   "outputs": [],
   "source": [
    "from sklearn.linear_model import LinearRegression\n",
    "from sklearn.preprocessing import normalize\n",
    "from sklearn.linear_model import Ridge\n",
    "from sklearn.utils.extmath import randomized_svd\n",
    "\n",
    "from scipy.optimize import minimize"
   ]
  },
  {
   "cell_type": "markdown",
   "metadata": {},
   "source": [
    "# Load Data"
   ]
  },
  {
   "cell_type": "code",
   "execution_count": 6,
   "metadata": {},
   "outputs": [],
   "source": [
    "# Load Original Data\n",
    "df_train = pd.read_csv('../../data/yelp/Train.csv',encoding='latin-1')\n",
    "# df_valid = pd.read_csv('../../data/yelp/Valid.csv',encoding='latin-1')\n",
    "# df_test = pd.read_csv('../../data/yelp/Test.csv',encoding='latin-1')"
   ]
  },
  {
   "cell_type": "code",
   "execution_count": 7,
   "metadata": {},
   "outputs": [],
   "source": [
    "keyphrases = pd.read_csv('../../data/yelp/KeyPhrases.csv')['Phrases'].tolist()\n",
    "keyphrase_popularity = np.loadtxt('../data/yelp/'+'keyphrase_popularity.txt', dtype=int)\n",
    "\n",
    "# Load U-I Data \n",
    "rtrain = load_npz(\"../../data/yelp/Rtrain.npz\")\n",
    "rvalid = load_npz(\"../../data/yelp/Rvalid.npz\")\n",
    "rtest = load_npz(\"../../data/yelp/Rtest.npz\")\n",
    "\n",
    "# Load user/item keyphrase data\n",
    "U_K = load_npz(\"../../data/yelp/U_K.npz\")\n",
    "I_K = load_npz(\"../../data/yelp/I_K.npz\")"
   ]
  },
  {
   "cell_type": "markdown",
   "metadata": {},
   "source": [
    "# Models"
   ]
  },
  {
   "cell_type": "code",
   "execution_count": 8,
   "metadata": {},
   "outputs": [],
   "source": [
    "# Models\n",
    "from sklearn.metrics.pairwise import cosine_similarity\n",
    "def train(matrix_train):\n",
    "    similarity = cosine_similarity(X=matrix_train, Y=None, dense_output=True)\n",
    "    return similarity\n",
    "\n",
    "def get_I_K(df, row_name = 'ItemIndex', shape = (3668,75)):\n",
    "    rows = []\n",
    "    cols = []\n",
    "    vals = []\n",
    "    for i in tqdm(range(df.shape[0])):\n",
    "        key_vector = literal_eval(df['keyVector'][i])\n",
    "        rows.extend([df[row_name][i]]*len(key_vector)) ## Item index\n",
    "        cols.extend(key_vector) ## Keyword Index\n",
    "        vals.extend(np.array([1]*len(key_vector)))\n",
    "    return csr_matrix((vals, (rows, cols)), shape=shape)\n",
    "\n",
    "\n",
    "\n",
    "def prediction(prediction_score, topK, matrix_Train):\n",
    "\n",
    "    prediction = []\n",
    "\n",
    "    for user_index in tqdm(range(matrix_Train.shape[0])):\n",
    "        vector_u = prediction_score[user_index]\n",
    "        vector_train = matrix_Train[user_index]\n",
    "        if len(vector_train.nonzero()[0]) > 0:\n",
    "            vector_predict = sub_routine(vector_u, vector_train, topK=topK)\n",
    "        else:\n",
    "            vector_predict = np.zeros(topK, dtype=np.float32)\n",
    "\n",
    "        prediction.append(vector_predict)\n",
    "\n",
    "    return np.vstack(prediction)\n",
    "\n",
    "\n",
    "def sub_routine(vector_u, vector_train, topK=500):\n",
    "\n",
    "    train_index = vector_train.nonzero()[1]\n",
    "\n",
    "    vector_u = vector_u\n",
    "\n",
    "    candidate_index = np.argpartition(-vector_u, topK+len(train_index))[:topK+len(train_index)]\n",
    "    vector_u = candidate_index[vector_u[candidate_index].argsort()[::-1]]\n",
    "    vector_u = np.delete(vector_u, np.isin(vector_u, train_index).nonzero()[0])\n",
    "\n",
    "    return vector_u[:topK]\n"
   ]
  },
  {
   "cell_type": "code",
   "execution_count": 9,
   "metadata": {},
   "outputs": [],
   "source": [
    "def predict(matrix_train, k, similarity, item_similarity_en = False):\n",
    "    \"\"\"\n",
    "    res = similarity * matrix_train    if item_similarity_en = False\n",
    "    res = similarity * matrix_train.T  if item_similarity_en = True\n",
    "    \"\"\"\n",
    "    prediction_scores = []\n",
    "    \n",
    "    if item_similarity_en:\n",
    "        matrix_train = matrix_train.transpose()\n",
    "        \n",
    "    for user_index in tqdm(range(matrix_train.shape[0])):\n",
    "        # Get user u's prediction scores to all users\n",
    "        vector_u = similarity[user_index]\n",
    "\n",
    "        # Get closest K neighbors excluding user u self\n",
    "        similar_users = vector_u.argsort()[::-1][1:k+1]\n",
    "        # Get neighbors similarity weights and ratings\n",
    "        similar_users_weights = similarity[user_index][similar_users]\n",
    "        similar_users_ratings = matrix_train[similar_users].toarray()\n",
    "\n",
    "        prediction_scores_u = similar_users_ratings * similar_users_weights[:, np.newaxis]\n",
    "\n",
    "        prediction_scores.append(np.sum(prediction_scores_u, axis=0))\n",
    "    res = np.array(prediction_scores)\n",
    "    \n",
    "    if item_similarity_en:\n",
    "        res = res.transpose()\n",
    "    \n",
    "    return res\n",
    "\n",
    "def predict_vector(user_index, matrix_train, k, similarity):\n",
    "    \"\"\"\n",
    "    res = similarity * matrix_train    if item_similarity_en = False\n",
    "    res = similarity * matrix_train.T  if item_similarity_en = True\n",
    "    get only user_index row\n",
    "    \"\"\"\n",
    "    vector_u = similarity[user_index]\n",
    "    \n",
    "    # Get closest K neighbors excluding user u self\n",
    "    similar_users = vector_u.argsort()[::-1][1:k+1]\n",
    "    # Get neighbors similarity weights and ratings\n",
    "    similar_users_weights = similarity[user_index][similar_users]\n",
    "    similar_users_ratings = matrix_train[similar_users].toarray()\n",
    "    prediction_scores_u = similar_users_ratings * similar_users_weights[:, np.newaxis]\n",
    "    \n",
    "    return np.sum(prediction_scores_u, axis=0)\n",
    "    "
   ]
  },
  {
   "cell_type": "code",
   "execution_count": 10,
   "metadata": {},
   "outputs": [],
   "source": [
    "# PLREC \n",
    "def inhour(elapsed):\n",
    "    return time.strftime('%H:%M:%S', time.gmtime(elapsed))\n",
    "\n",
    "def plrec(matrix_train, iteration=4, lamb=80, rank=200, seed=1):\n",
    "    \"\"\"\n",
    "    Function used to achieve generalized projected lrec w/o item-attribute embedding\n",
    "    :param matrix_train: user-item matrix with shape m*n\n",
    "    :param iteration: number of power iterations in randomized svd\n",
    "    :param lamb: parameter of penalty\n",
    "    :param rank: latent dimension size\n",
    "    :param seed: the seed of the pseudo random number generator to use when shuffling the data\n",
    "    :return: prediction in sparse matrix\n",
    "    \"\"\"\n",
    "    print (\"Randomized SVD\")\n",
    "    start_time = time.time()\n",
    "    P, sigma, Qt = randomized_svd(matrix_train,\n",
    "                                  n_components=rank,\n",
    "                                  n_iter=iteration,\n",
    "                                  random_state=seed)\n",
    "\n",
    "    RQ = matrix_train.dot(sparse.csc_matrix(Qt.T*np.sqrt(sigma)))\n",
    "\n",
    "    print(\"Elapsed: {}\".format(inhour(time.time() - start_time)))\n",
    "\n",
    "    print (\"Closed-Form Linear Optimization\")\n",
    "    start_time = time.time()\n",
    "    pre_inv = RQ.T.dot(RQ) + lamb * sparse.identity(rank, dtype=np.float32)\n",
    "    inverse = sparse.linalg.inv(pre_inv.tocsc())\n",
    "    Y = inverse.dot(RQ.T).dot(matrix_train)\n",
    "    print(\"Elapsed: {}\".format(inhour(time.time() - start_time)))\n",
    "\n",
    "    return np.array(RQ.todense()), np.array(Y.todense()), None\n",
    "\n",
    "def predict_vector(rating_vector, train_vector, remove_train=True):\n",
    "    dim = len(rating_vector)\n",
    "    candidate_index = np.argpartition(-rating_vector, dim-1)[:dim]\n",
    "    prediction_items = candidate_index[rating_vector[candidate_index].argsort()[::-1]]\n",
    "    \n",
    "    if remove_train:\n",
    "        return np.delete(prediction_items, np.isin(prediction_items, train_vector.nonzero()[1]).nonzero()[0])\n",
    "    else:\n",
    "        return prediction_items\n",
    "\n",
    "    \n",
    "    \n",
    "def predict_scores(matrix_U, matrix_V, bias=None,\n",
    "                   penalize = False,\n",
    "                   keyphrase_freq = I_K, \n",
    "                   critiqued_keyphrase = 0, \n",
    "                   matrix_Train = rtrain,\n",
    "                   alpha = 0):\n",
    "    prediction = matrix_U.dot(matrix_V.T)\n",
    "    # Penalize\n",
    "    if penalize == True:\n",
    "        items_with_keyphrase = np.ravel(keyphrase_freq.T[critiqued_keyphrase].nonzero()[1])\n",
    "        items_without_keyphrase = np.setdiff1d(np.arange(matrix_Train.shape[1]), items_with_keyphrase)\n",
    "        prediction[items_without_keyphrase] = alpha # penalize\n",
    "    \n",
    "    return prediction\n"
   ]
  },
  {
   "cell_type": "markdown",
   "metadata": {},
   "source": [
    "# Evaluation"
   ]
  },
  {
   "cell_type": "code",
   "execution_count": 11,
   "metadata": {},
   "outputs": [],
   "source": [
    "# Evluation \n",
    "def recallk(vector_true_dense, hits, **unused):\n",
    "    hits = len(hits.nonzero()[0])\n",
    "    return float(hits)/len(vector_true_dense)\n",
    "\n",
    "def precisionk(vector_predict, hits, **unused):\n",
    "    hits = len(hits.nonzero()[0])\n",
    "    return float(hits)/len(vector_predict)\n",
    "\n",
    "\n",
    "def average_precisionk(vector_predict, hits, **unused):\n",
    "    precisions = np.cumsum(hits, dtype=np.float32)/range(1, len(vector_predict)+1)\n",
    "    return np.mean(precisions)\n",
    "\n",
    "\n",
    "def r_precision(vector_true_dense, vector_predict, **unused):\n",
    "    vector_predict_short = vector_predict[:len(vector_true_dense)]\n",
    "    hits = len(np.isin(vector_predict_short, vector_true_dense).nonzero()[0])\n",
    "    return float(hits)/len(vector_true_dense)\n",
    "\n",
    "\n",
    "def _dcg_support(size):\n",
    "    arr = np.arange(1, size+1)+1\n",
    "    return 1./np.log2(arr)\n",
    "\n",
    "\n",
    "def ndcg(vector_true_dense, vector_predict, hits):\n",
    "    idcg = np.sum(_dcg_support(len(vector_true_dense)))\n",
    "    dcg_base = _dcg_support(len(vector_predict))\n",
    "    dcg_base[np.logical_not(hits)] = 0\n",
    "    dcg = np.sum(dcg_base)\n",
    "    return dcg/idcg\n",
    "\n",
    "\n",
    "def click(hits, **unused):\n",
    "    first_hit = next((i for i, x in enumerate(hits) if x), None)\n",
    "    if first_hit is None:\n",
    "        return 5\n",
    "    else:\n",
    "        return first_hit/10\n",
    "\n",
    "\n",
    "def evaluate(matrix_Predict, matrix_Test, metric_names =['R-Precision', 'NDCG', 'Precision', 'Recall', 'MAP'], atK = [5, 10, 15, 20, 50], analytical=False):\n",
    "    \"\"\"\n",
    "    :param matrix_U: Latent representations of users, for LRecs it is RQ, for ALSs it is U\n",
    "    :param matrix_V: Latent representations of items, for LRecs it is Q, for ALSs it is V\n",
    "    :param matrix_Train: Rating matrix for training, features.\n",
    "    :param matrix_Test: Rating matrix for evaluation, true labels.\n",
    "    :param k: Top K retrieval\n",
    "    :param metric_names: Evaluation metrics\n",
    "    :return:\n",
    "    \"\"\"\n",
    "    global_metrics = {\n",
    "        \"R-Precision\": r_precision,\n",
    "        \"NDCG\": ndcg,\n",
    "        \"Clicks\": click\n",
    "    }\n",
    "\n",
    "    local_metrics = {\n",
    "        \"Precision\": precisionk,\n",
    "        \"Recall\": recallk,\n",
    "        \"MAP\": average_precisionk\n",
    "    }\n",
    "\n",
    "    output = dict()\n",
    "\n",
    "    num_users = matrix_Predict.shape[0]\n",
    "\n",
    "    for k in atK:\n",
    "\n",
    "        local_metric_names = list(set(metric_names).intersection(local_metrics.keys()))\n",
    "        results = {name: [] for name in local_metric_names}\n",
    "        topK_Predict = matrix_Predict[:, :k]\n",
    "\n",
    "        for user_index in tqdm(range(topK_Predict.shape[0])):\n",
    "            vector_predict = topK_Predict[user_index]\n",
    "            if len(vector_predict.nonzero()[0]) > 0:\n",
    "                vector_true = matrix_Test[user_index]\n",
    "                vector_true_dense = vector_true.nonzero()[1]\n",
    "                hits = np.isin(vector_predict, vector_true_dense)\n",
    "\n",
    "                if vector_true_dense.size > 0:\n",
    "                    for name in local_metric_names:\n",
    "                        results[name].append(local_metrics[name](vector_true_dense=vector_true_dense,\n",
    "                                                                 vector_predict=vector_predict,\n",
    "                                                                 hits=hits))\n",
    "\n",
    "        results_summary = dict()\n",
    "        if analytical:\n",
    "            for name in local_metric_names:\n",
    "                results_summary['{0}@{1}'.format(name, k)] = results[name]\n",
    "        else:\n",
    "            for name in local_metric_names:\n",
    "                results_summary['{0}@{1}'.format(name, k)] = (np.average(results[name]),\n",
    "                                                              1.96*np.std(results[name])/np.sqrt(num_users))\n",
    "        output.update(results_summary)\n",
    "\n",
    "    global_metric_names = list(set(metric_names).intersection(global_metrics.keys()))\n",
    "    results = {name: [] for name in global_metric_names}\n",
    "\n",
    "    topK_Predict = matrix_Predict[:]\n",
    "\n",
    "    for user_index in tqdm(range(topK_Predict.shape[0])):\n",
    "        vector_predict = topK_Predict[user_index]\n",
    "\n",
    "        if len(vector_predict.nonzero()[0]) > 0:\n",
    "            vector_true = matrix_Test[user_index]\n",
    "            vector_true_dense = vector_true.nonzero()[1]\n",
    "            hits = np.isin(vector_predict, vector_true_dense)\n",
    "\n",
    "            # if user_index == 1:\n",
    "            #     import ipdb;\n",
    "            #     ipdb.set_trace()\n",
    "\n",
    "            if vector_true_dense.size > 0:\n",
    "                for name in global_metric_names:\n",
    "                    results[name].append(global_metrics[name](vector_true_dense=vector_true_dense,\n",
    "                                                              vector_predict=vector_predict,\n",
    "                                                              hits=hits))\n",
    "\n",
    "    results_summary = dict()\n",
    "    if analytical:\n",
    "        for name in global_metric_names:\n",
    "            results_summary[name] = results[name]\n",
    "    else:\n",
    "        for name in global_metric_names:\n",
    "            results_summary[name] = (np.average(results[name]), 1.96*np.std(results[name])/np.sqrt(num_users))\n",
    "    output.update(results_summary)\n",
    "\n",
    "    return output\n",
    "\n"
   ]
  },
  {
   "cell_type": "markdown",
   "metadata": {},
   "source": [
    "## Single Step Critiquing Pipline"
   ]
  },
  {
   "cell_type": "markdown",
   "metadata": {},
   "source": [
    "### Initial Prediction"
   ]
  },
  {
   "cell_type": "code",
   "execution_count": 12,
   "metadata": {},
   "outputs": [],
   "source": [
    "# KNN initial Prediction\n",
    "def get_initial_prediction(user,X = normalize(U_K.todense()), y = normalize(train(rtrain)),\n",
    "                            matrix_Train = rtrain, k = 100):\n",
    "    \"\"\"\n",
    "    Get the initial knn predictions before critiquing pipelines\n",
    "    get the linear regression model for critiquing embedding (W_2)\n",
    "    get the initial user similarity matrix \n",
    "    k here is the parameter for KNN\n",
    "    \"\"\"\n",
    "    clf = Ridge(alpha=0.1).fit(X, y)\n",
    "    similarity = normalize(train(matrix_Train))\n",
    "    user_item_prediction_score = predict_vector(user, matrix_Train, k, similarity)\n",
    "    return user_item_prediction_score, clf\n"
   ]
  },
  {
   "cell_type": "code",
   "execution_count": 14,
   "metadata": {},
   "outputs": [],
   "source": [
    "# PLREC initial Prediction\n",
    "def predict_scores(matrix_U, matrix_V, bias=None,\n",
    "                   penalize = False,\n",
    "                   keyphrase_freq = I_K, \n",
    "                   critiqued_keyphrase = 0, \n",
    "                   matrix_Train = rtrain,\n",
    "                   alpha = 0):\n",
    "    \n",
    "    prediction = matrix_U.dot(matrix_V.T)\n",
    "    # Penalize\n",
    "    if penalize == True:\n",
    "        items_with_keyphrase = np.ravel(keyphrase_freq.T[critiqued_keyphrase].nonzero()[1])\n",
    "        items_without_keyphrase = np.setdiff1d(np.arange(matrix_Train.shape[1]), items_with_keyphrase)\n",
    "        prediction[items_without_keyphrase] = alpha # penalize\n",
    "    \n",
    "    return prediction\n"
   ]
  },
  {
   "cell_type": "markdown",
   "metadata": {},
   "source": [
    "### Forward predict"
   ]
  },
  {
   "cell_type": "markdown",
   "metadata": {},
   "source": [
    "Predict a single row (for single user)"
   ]
  },
  {
   "cell_type": "code",
   "execution_count": 15,
   "metadata": {},
   "outputs": [],
   "source": [
    "# KNN\n",
    "\n",
    "def predict_vector(user_index, matrix_train, k, similarity):\n",
    "    \"\"\"\n",
    "    res = similarity * matrix_train    if item_similarity_en = False\n",
    "    res = similarity * matrix_train.T  if item_similarity_en = True\n",
    "    get only user_index row\n",
    "    \"\"\"\n",
    "    vector_u = similarity[user_index]\n",
    "    \n",
    "    # Get closest K neighbors excluding user u self\n",
    "    similar_users = vector_u.argsort()[::-1][1:k+1]\n",
    "    # Get neighbors similarity weights and ratings\n",
    "    similar_users_weights = similarity[user_index][similar_users]\n",
    "    similar_users_ratings = matrix_train[similar_users].toarray()\n",
    "    prediction_scores_u = similar_users_ratings * similar_users_weights[:, np.newaxis]\n",
    "    \n",
    "    return np.sum(prediction_scores_u, axis=0)\n",
    "    \n",
    "\n",
    "def predict_vector(user_index, matrix_train, k, similarity, with_keyphrase = False, \n",
    "                   keyphrase_freq = None, critiqued_keyphrase = None, alpha = 0):\n",
    "    \"\"\"\n",
    "    get only user_index row\n",
    "    if with_keyphrase = True, then penalize items without critiqued_keyphrase to alpha (default = 0)\n",
    "    \"\"\"\n",
    "    vector_u = similarity[user_index]\n",
    "    \n",
    "    # Get closest K neighbors excluding user u self\n",
    "    similar_users = vector_u.argsort()[::-1][1:k+1]\n",
    "    # Get neighbors similarity weights and ratings\n",
    "    similar_users_weights = similarity[user_index][similar_users]\n",
    "    similar_users_ratings = matrix_train[similar_users].toarray()\n",
    "    \n",
    "    prediction_scores_u = similar_users_ratings * similar_users_weights[:, np.newaxis]\n",
    "    \n",
    "    if with_keyphrase == False:\n",
    "        return np.sum(prediction_scores_u, axis=0)\n",
    "    \n",
    "    # Only Predict items with critiqued_keyphrase \n",
    "    else:\n",
    "        prediction_scores = np.sum(prediction_scores_u, axis=0)\n",
    "#         print (prediction_scores)\n",
    "        #penalize items without critiqued keyphrase\n",
    "        items_with_keyphrase = np.ravel(keyphrase_freq.T[critiqued_keyphrase].nonzero()[1])\n",
    "#         print (items_with_keyphrase)\n",
    "        #Return the unique values in ar1 that are not in ar2.\n",
    "        items_without_keyphrase = np.setdiff1d(np.arange(matrix_train.shape[1]), items_with_keyphrase)\n",
    "        prediction_scores[items_without_keyphrase] = alpha # penalize\n",
    "        return prediction_scores\n",
    "#         print (prediction_scores)\n",
    "#         return prediction_scores/sum(prediction_scores)\n"
   ]
  },
  {
   "cell_type": "code",
   "execution_count": 16,
   "metadata": {},
   "outputs": [],
   "source": [
    "# PLREC\n",
    "def predict_vector(rating_vector, train_vector, remove_train=True):\n",
    "    dim = len(rating_vector)\n",
    "    candidate_index = np.argpartition(-rating_vector, dim-1)[:dim]\n",
    "    prediction_items = candidate_index[rating_vector[candidate_index].argsort()[::-1]]\n",
    "    \n",
    "    if remove_train:\n",
    "        return np.delete(prediction_items, np.isin(prediction_items, train_vector.nonzero()[1]).nonzero()[0])\n",
    "    else:\n",
    "        return prediction_items\n"
   ]
  },
  {
   "cell_type": "markdown",
   "metadata": {},
   "source": [
    "### Keyphrase Selection"
   ]
  },
  {
   "cell_type": "code",
   "execution_count": 17,
   "metadata": {},
   "outputs": [],
   "source": [
    "def get_valid_keyphrases(keyphrase_freq,top_recommendations,item = None,threshold=50,mutiple_keyphrases_en = False, top_items = None):\n",
    "    \"\"\"\n",
    "    Wrapper function to get either top 1 or top n keyphrases\n",
    "    \"\"\"\n",
    "    if mutiple_keyphrases_en:\n",
    "        top_keyphrases = []\n",
    "        for item in top_items:\n",
    "            top_keyphrases.extend(get_valid_keyphrases_for_one_item(keyphrase_freq,top_recommendations,item,threshold=threshold))\n",
    "        return np.ravel(list(set(top_keyphrases))) # remove duplicate and reformat to np array\n",
    "    else:\n",
    "        return get_valid_keyphrases_for_one_item(keyphrase_freq,top_recommendations,item,threshold=threshold)\n",
    "\n",
    "def get_valid_keyphrases_for_one_item(keyphrase_freq,top_recommendations, item,threshold=50):\n",
    "    \"\"\"\n",
    "    Get keyphrases of item that make sense\n",
    "    E.g. if the item has fewer than threshold=50 keyphrases, get all of them\n",
    "    otherwise get top 50 keyphrases\n",
    "    \"\"\"\n",
    "    keyphrase_length = len(keyphrase_freq[item].nonzero()[1])\n",
    "    if keyphrase_length<threshold:\n",
    "        return keyphrase_freq[item].nonzero()[1]\n",
    "    else:\n",
    "        keyphrases = np.ravel(keyphrase_freq[top_recommendations[0]].todense())\n",
    "        top_keyphrases = np.argsort(keyphrases)[::-1][:threshold]\n",
    "        return top_keyphrases\n",
    "    \n",
    "# For keyphrase selecting method # 3 \"diff\" \n",
    "def get_item_keyphrase_freq(keyphrase_freq,item):\n",
    "    \"\"\"\n",
    "    Get item's keyphrase frequency \n",
    "    \"\"\"\n",
    "    count = keyphrase_freq[item].todense()\n",
    "    return count/np.sum(count)\n",
    "\n",
    "def get_keyphrase_popularity(df,keyphrases):\n",
    "    \"\"\"\n",
    "    Get keyphrase popularity (count) from dataframe\n",
    "    \"\"\"\n",
    "    keyphrase_popularity = np.zeros(len(keyphrases)) #initialize\n",
    "    for i in range(len(df)):\n",
    "        keyphrase_vector = literal_eval(df['keyVector'][i])\n",
    "        keyphrase_popularity[keyphrase_vector] += 1 # count\n",
    "    return keyphrase_popularity"
   ]
  },
  {
   "cell_type": "markdown",
   "metadata": {},
   "source": [
    "### Critiquing Methods"
   ]
  },
  {
   "cell_type": "code",
   "execution_count": 18,
   "metadata": {},
   "outputs": [],
   "source": [
    "# One hot encoding of critiquing\n",
    "def get_critiqued_UK(user_keyphrase_frequency,user_index,critiqued_keyphrase):\n",
    "    \"\"\"\n",
    "    user_keyphrase_frequency is the U_K matrix (csr sparse matrix)\n",
    "    return the one-hot encoding of the critique\n",
    "    \"\"\"\n",
    "    U_K_cp = user_keyphrase_frequency.copy()\n",
    "    U_K_cp[user_index] = 0\n",
    "    U_K_cp[user_index,critiqued_keyphrase] = 1\n",
    "    return U_K_cp\n",
    "\n",
    "def project_one_hot_encoding(reg, user_keyphrase_frequency,user_index = 0,critiqued_keyphrase = 0, normalize_en = True):\n",
    "    \"\"\"\n",
    "    Return the projection on user_sim space from one-hot encoding of critiqued keyphrase\n",
    "    The res[user_index] should be target embedding row\n",
    "    \"\"\"\n",
    "    critiqued_matrix = get_critiqued_UK(user_keyphrase_frequency, user_index, critiqued_keyphrase)\n",
    "    res = reg.predict(critiqued_matrix)\n",
    "    if normalize_en:\n",
    "        res = normalize((res))\n",
    "    return res"
   ]
  },
  {
   "cell_type": "code",
   "execution_count": 19,
   "metadata": {},
   "outputs": [],
   "source": [
    "# Upper bound method \n",
    "def get_all_affected_items(wanted_keyphrases,keyphrase_freq):\n",
    "    res = []\n",
    "    for keyphrase in wanted_keyphrases:\n",
    "        items = np.ravel(keyphrase_freq.T[keyphrase].nonzero()[1])\n",
    "        res.extend(items)\n",
    "    return np.array(list(set(res)))\n",
    "    \n",
    "def select_only_wanted_keyphrase(top_recommendations, wanted_keyphrases, keyphrase_freq, matrix_Train = rtrain):\n",
    "    all_items_with_keyphrases = get_all_affected_items(wanted_keyphrases,keyphrase_freq)\n",
    "    affected_items = np.setdiff1d(np.arange(matrix_Train.shape[1]), all_items_with_keyphrases) # Get all other keyphrases\n",
    "    top_recommendations[~np.in1d(top_recommendations, affected_items)]\n",
    "    return top_recommendations\n",
    "\n",
    "def pruning(prediction_score, \n",
    "           wanted_keyphrases_random, \n",
    "           top_recommendations, \n",
    "           keyphrase_freq, \n",
    "           matrix_Train = rtrain,\n",
    "           alpha = 0):\n",
    "    items_with_keyphrase = get_all_affected_items(wanted_keyphrases_random, keyphrase_freq)\n",
    "    #Return the unique values in ar1 that are not in ar2.\n",
    "    items_without_keyphrase = np.setdiff1d(np.arange(matrix_Train.shape[1]), items_with_keyphrase)\n",
    "#     print (items_without_keyphrase)\n",
    "    print (sum(prediction_score[items_without_keyphrase]))\n",
    "    score = np.copy(prediction_score)\n",
    "    score[items_without_keyphrase] = alpha # penalize\n",
    "    return score"
   ]
  },
  {
   "cell_type": "markdown",
   "metadata": {},
   "source": [
    "### Utilities"
   ]
  },
  {
   "cell_type": "code",
   "execution_count": 20,
   "metadata": {},
   "outputs": [],
   "source": [
    "# Utility function for getting restaurant info from ItemIndex\n",
    "def get_business_df(path = \"../../data/yelp/business.json\" ):\n",
    "    with open(path,encoding=\"utf8\") as json_file:\n",
    "        data = json_file.readlines()\n",
    "        data = list(map(json.loads, data))\n",
    "    df = pd.DataFrame(data)\n",
    "    \n",
    "    return df\n",
    "\n",
    "def get_restaurant_info(business_df, business_id, name = True, review_count = True, stars = True ):\n",
    "    output_list = {}\n",
    "    row_idx = int(business_df.index[business_df['business_id'] == business_id].tolist()[0])\n",
    "    if name == True:\n",
    "        output_list['name'] = business_df['name'][row_idx].encode('utf-8').strip()\n",
    "    if review_count == True:\n",
    "        output_list['review_count'] = business_df['review_count'][row_idx]\n",
    "    if stars == True:\n",
    "        output_list['stars'] = business_df['stars'][row_idx] \n",
    "    return output_list\n",
    "\n",
    "# def get_businessid_from_Itemindex(ItemIndex_list, itemindex):\n",
    "#     return ItemIndex_list['business_id'].tolist()[itemindex]\n",
    "\n",
    "def get_restaurant_name(df_train, business_df, ItemIndex):\n",
    "    rows = np.where(df_train['ItemIndex'] == ItemIndex)\n",
    "    if len(rows)!= 0:\n",
    "        business_id = df_train.loc[rows[0][0]]['business_id']\n",
    "        item_info = get_restaurant_info(business_df, business_id)\n",
    "        return item_info['name']\n",
    "    return \"NOT_FOUND\""
   ]
  },
  {
   "cell_type": "markdown",
   "metadata": {},
   "source": [
    "### Experiment Function"
   ]
  },
  {
   "cell_type": "code",
   "execution_count": 21,
   "metadata": {},
   "outputs": [],
   "source": [
    "business_df = get_business_df()"
   ]
  },
  {
   "cell_type": "code",
   "execution_count": 22,
   "metadata": {},
   "outputs": [
    {
     "name": "stdout",
     "output_type": "stream",
     "text": [
      "Randomized SVD\n",
      "Elapsed: 00:00:00\n",
      "Closed-Form Linear Optimization\n",
      "Elapsed: 00:00:00\n"
     ]
    }
   ],
   "source": [
    "Y, RQt, Bias = plrec(rtrain,\n",
    "                    iteration = 10,\n",
    "                    lamb = 200,\n",
    "                    rank = 200)\n",
    "RQ = RQt.T\n",
    "reg = LinearRegression().fit(normalize(U_K), Y)"
   ]
  },
  {
   "cell_type": "code",
   "execution_count": 23,
   "metadata": {},
   "outputs": [],
   "source": [
    "# Set up dataframe \n",
    "\n",
    "# post_ranki is post rank with different lambda ratio for combining pre-post User similarity matrix \n",
    "\n",
    "columns = ['user_id', 'target_item', 'item_name', 'iter', 'pre_rank', \n",
    "           'top_prediction_item_name',\n",
    "           'post_rank_random_all',\n",
    "           'post_rank_random_upper',\n",
    "           'random_scores',\n",
    "           'post_rank_pop_all',\n",
    "           'post_rank_pop_upper',\n",
    "           'pop_scores',\n",
    "           'post_rank_diff_all',\n",
    "           'post_rank_diff_upper',\n",
    "           'diff_scores',\n",
    "           'critiqued_keyphrase_random',\n",
    "           'keyphrase_name_random',\n",
    "           'critiqued_keyphrase_pop',\n",
    "           'keyphrase_name_pop',\n",
    "           'critiqued_keyphrase_diff',\n",
    "           'keyphrase_name_diff',\n",
    "           'num_existing_keyphrases',\n",
    "           'pure_pruning_rank'] \n",
    "df = pd.DataFrame(columns=columns)\n",
    "row = {}"
   ]
  },
  {
   "cell_type": "code",
   "execution_count": 49,
   "metadata": {},
   "outputs": [],
   "source": [
    "def single_step_critiquing_plrec(user = 2, \n",
    "                           keyphrase_length_threshold = 150, \n",
    "                           max_iteration_threshold = 5,\n",
    "                           k = 50,\n",
    "                           df = df,\n",
    "                           row = row,\n",
    "                           business_df = business_df,\n",
    "                           keyphrases = keyphrases,\n",
    "                           keyphrase_popularity = keyphrase_popularity, \n",
    "                           keyphrase_selection_method = 'random',\n",
    "                           recommend_type = 'all',\n",
    "                           lams = [0,0.1,0.2,0.3,0.4,0.5,0.6,0.7,0.8,0.9,1],\n",
    "                           reg = reg, Y = Y, RQt = RQt, Bias = Bias,\n",
    "                           top_k_rec = 20, affected_weight = 1, unaffected_weight = -1,\n",
    "                                 w1 = 1, w2 = 1\n",
    "                          ):\n",
    "    \"\"\"\n",
    "    k: HR@k \n",
    "    keyphrase_length_threshold: limit the number of keyphrases in top recommended item\n",
    "    keyphrase_selection_method: 'random': randomly select keyphrase from wanted_keyphrases\n",
    "                                'pop': always select the most popular keyphrase in wanted_keyphrases\n",
    "                                'diff': select the keyphrase with largest frequency difference between top recommended \n",
    "                                        item and target item.\n",
    "    recommend_type: 'all': recommend all items\n",
    "                    'upper' (only_with_critiqued_keyphrase): recommend items with only critiqued_keyphrase\n",
    "    lam: modified_matrix = lam*origianl_matrix + (1-lam)*critiquing_embedding \n",
    "    \"\"\"\n",
    "    \n",
    "    row['user_id'] = user\n",
    "    print ('User ID ', user)\n",
    "    \n",
    "    # Set up (move to header line later)\n",
    "    matrix_Train = rtrain\n",
    "    matrix_Test = rtest\n",
    "    keyphrase_freq = I_K\n",
    "    num_items = rtrain.shape[1]\n",
    "    max_wanted_keyphrase = 10 # for keyphrase_selection_method == \"diff\"\n",
    "    initial_user_similarity_embedding = normalize(train(matrix_Train))\n",
    "    \n",
    "    # Get wanted items \n",
    "    candidate_items = matrix_Test[user].nonzero()[1]\n",
    "    train_items = matrix_Train[user].nonzero()[1]\n",
    "    wanted_items = np.setdiff1d(candidate_items, train_items)\n",
    "    print ('wanted_items length: ',len(wanted_items))\n",
    "    \n",
    "    # Get initial forward prediction \n",
    "    prediction_score = predict_scores(matrix_U=RQ,\n",
    "                                      matrix_V=Y,\n",
    "                                      bias=Bias).T[user]\n",
    "    prediction_items = predict_vector(rating_vector=prediction_score,\n",
    "                                                              train_vector=matrix_Train[user],\n",
    "                                                              remove_train=True)\n",
    "    # Get initial top recommended item(s)\n",
    "    top_recommendations = np.argsort(prediction_score)[::-1]\n",
    "    print (\"Initial top recommendation index\",top_recommendations[0])\n",
    "    try:\n",
    "        row['top_prediction_item_name'] = get_restaurant_name(df_train, business_df, top_recommendations[0])\n",
    "    except: \n",
    "        row['top_prediction_item_name'] = 'CANNOT_FIND'\n",
    "        print ('Cannot get restaurant name for ItemIndex: ', top_recommendations[0])\n",
    "    \n",
    "    \n",
    "    # Get top recommended item's keyphrases\n",
    "    top_item = top_recommendations[0] \n",
    "    top_recommend_keyphrases = get_valid_keyphrases(keyphrase_freq,\n",
    "                                                    top_recommendations, \n",
    "                                                    item = top_item,\n",
    "                                                    threshold=keyphrase_length_threshold,\n",
    "                                                    mutiple_keyphrases_en = False, \n",
    "                                                    top_items = None)\n",
    "    top_recommended_keyphrase_freq = get_item_keyphrase_freq(keyphrase_freq,item = top_item)\n",
    "    \n",
    "    \n",
    "    #####################################\n",
    "    # For each item, do the critiquing\n",
    "    \n",
    "    #limit the item to only 10\n",
    "    num_target_item = 0 # initialize item count\n",
    "    \n",
    "    for item in wanted_items:    \n",
    "        print ('target_item: ', item)\n",
    "        row['target_item'] = item\n",
    "        try:\n",
    "            row['item_name'] = get_restaurant_name(df_train, business_df, item)\n",
    "        except:\n",
    "            row['item_name'] = 'CANNOT_FIND'\n",
    "            print ('Cannot get restaurant name for ItemIndex: ', item)\n",
    "\n",
    "        # Get pre-critiquing rank\n",
    "        initial_rank = np.where(item == np.argsort(prediction_score)[::-1])[0][0]\n",
    "        row['pre_rank'] = int(initial_rank)\n",
    "\n",
    "        # Get the target item's existing keyphrases\n",
    "        item_keyphrases = keyphrase_freq[item].nonzero()[1]\n",
    "        \n",
    "        # For diff \n",
    "        target_keyphrase_freq = get_item_keyphrase_freq(keyphrase_freq,item = item)\n",
    "        diff_keyphrase_freq = target_keyphrase_freq - top_recommended_keyphrase_freq\n",
    "        \n",
    "        wanted_keyphrases_random = np.setdiff1d(item_keyphrases,top_recommend_keyphrases)\n",
    "        wanted_keyphrases_pop = np.setdiff1d(item_keyphrases,top_recommend_keyphrases)\n",
    "        wanted_keyphrases_diff = np.argsort(np.ravel(diff_keyphrase_freq))[::-1][:max_wanted_keyphrase]\n",
    "        \n",
    "        pruned_prediction_score = pruning(prediction_score, \n",
    "                                           wanted_keyphrases_random, \n",
    "                                           top_recommendations, \n",
    "                                           keyphrase_freq, \n",
    "                                           matrix_Train = rtrain)\n",
    "        pure_pruning_rank = np.where(item == np.argsort(pruned_prediction_score)[::-1])[0][0]\n",
    "        if pure_pruning_rank>initial_rank:\n",
    "            pure_pruning_rank = initial_rank\n",
    "        row['pure_pruning_rank'] = int(pure_pruning_rank)    \n",
    "        \n",
    "        affected_items = np.array([])\n",
    "        modified_matrix = initial_user_similarity_embedding # initialize user similarity embedding\n",
    "        \n",
    "        #############################################\n",
    "        # Critiquing iteration\n",
    "        for iteration in range(max_iteration_threshold):\n",
    "            print ('cur_iter ', iteration)\n",
    "            row['iter'] = iteration\n",
    "\n",
    "            if len(wanted_keyphrases_random) == 0 or len(wanted_keyphrases_diff) == 0: \n",
    "                print ('no more keyphrase available')\n",
    "                break\n",
    "            critiqued_keyphrase_random = np.random.choice(wanted_keyphrases_random, size=1, replace=False)[0]\n",
    "            critiqued_keyphrase_pop = wanted_keyphrases_pop[np.argmin(keyphrase_popularity[wanted_keyphrases_pop])] # Select the least popular\n",
    "            critiqued_keyphrase_diff = wanted_keyphrases_diff[0]\n",
    "            \n",
    "            row['critiqued_keyphrase_random'] = critiqued_keyphrase_random\n",
    "            row['keyphrase_name_random'] = keyphrases[critiqued_keyphrase_random]\n",
    "            row['critiqued_keyphrase_pop'] = critiqued_keyphrase_pop\n",
    "            row['keyphrase_name_pop'] = keyphrases[critiqued_keyphrase_pop]\n",
    "            row['critiqued_keyphrase_diff'] = critiqued_keyphrase_diff\n",
    "            row['keyphrase_name_diff'] = keyphrases[critiqued_keyphrase_diff]\n",
    "            \n",
    "            # Do not critique this keyphrase next time\n",
    "            wanted_keyphrases_random = np.delete(wanted_keyphrases_random, np.where(critiqued_keyphrase_random == wanted_keyphrases_random))\n",
    "            wanted_keyphrases_pop = np.delete(wanted_keyphrases_pop, np.where(critiqued_keyphrase_pop == wanted_keyphrases_pop))\n",
    "            wanted_keyphrases_diff = np.delete(wanted_keyphrases_diff, np.where(critiqued_keyphrase_diff == wanted_keyphrases_diff))\n",
    "            \n",
    "            # Critiquing Embedding\n",
    "\n",
    "            # One hot encoding\n",
    "            critiqued_matrix_onehot = get_critiqued_UK(U_K,user,critiqued_keyphrase_random)\n",
    "            critiqued_matrix = reg.predict(critiqued_matrix_onehot)\n",
    "            critiqued_matrix_random =critiqued_matrix\n",
    "\n",
    "            critiqued_matrix_onehot = get_critiqued_UK(U_K,user,critiqued_keyphrase_pop)\n",
    "            critiqued_matrix = reg.predict(critiqued_matrix_onehot)\n",
    "            critiqued_matrix_pop = critiqued_matrix\n",
    "\n",
    "            critiqued_matrix_onehot = get_critiqued_UK(U_K,user,critiqued_keyphrase_diff)\n",
    "            critiqued_matrix = reg.predict(critiqued_matrix_onehot)\n",
    "            critiqued_matrix_diff = critiqued_matrix\n",
    "\n",
    "\n",
    "            # Warning!!! The following is used only for testing single step critiquing, \n",
    "            # for full average critiquing, use the above commented line \n",
    "            post_ranks_random_all = []\n",
    "            post_ranks_random_upper = []\n",
    "            random_scores = []\n",
    "            random_ratings = []\n",
    "            post_ranks_pop_all = []\n",
    "            post_ranks_pop_upper = []\n",
    "            pop_scores = []\n",
    "            pop_ratings = []\n",
    "            post_ranks_diff_all = []\n",
    "            post_ranks_diff_upper = []\n",
    "            diff_scores = []\n",
    "            diff_ratings = []\n",
    "            \n",
    "            num_items = matrix_Train.shape[1]\n",
    "            affected_items_random = keyphrase_freq[:,critiqued_keyphrase_random].nonzero()[0]\n",
    "            affected_items_pop = keyphrase_freq[:,critiqued_keyphrase_pop].nonzero()[0]\n",
    "            affected_items_diff = keyphrase_freq[:,critiqued_keyphrase_diff].nonzero()[0]\n",
    "            \n",
    "            unaffected_items_random = np.setdiff1d(range(num_items), affected_items_random)\n",
    "            unaffected_items_pop = np.setdiff1d(range(num_items), affected_items_pop)\n",
    "            unaffected_items_diff = np.setdiff1d(range(num_items), affected_items_diff)\n",
    "            \n",
    "            for lam in lams:\n",
    "                modified_matrix_random = (1-lam)*Y + lam*critiqued_matrix_random \n",
    "                modified_matrix_pop = (1-lam)*Y + lam*critiqued_matrix_pop \n",
    "                modified_matrix_diff = (1-lam)*Y + lam*critiqued_matrix_diff \n",
    "                \n",
    "                # Random\n",
    "                prediction_scores_u = predict_scores(matrix_U=modified_matrix_random[user], \n",
    "                                     matrix_V=RQ,\n",
    "                                     )\n",
    "                prediction_items = predict_vector(rating_vector=prediction_scores_u,\n",
    "                                                  train_vector=matrix_Train[user],\n",
    "                                                  remove_train=False)\n",
    "                \n",
    "                item_rank = np.where(prediction_items == item)[0][0]\n",
    "                post_ranks_random_all.append(item_rank)\n",
    "                \n",
    "                # Random scores\n",
    "                affected_hit = sum(np.in1d(prediction_items[:top_k_rec],affected_items_random))\n",
    "                unaffected_hit = sum(np.in1d(prediction_items[:top_k_rec],unaffected_items_random))\n",
    "                score = affected_weight*affected_hit + unaffected_weight*unaffected_hit\n",
    "                random_scores.append(score)\n",
    "                \n",
    "                # Random Rating\n",
    "                latent_diff = modified_matrix_random - Y #post-pre\n",
    "                rating_diff = predict_scores(matrix_U=latent_diff[user], \n",
    "                                     matrix_V=RQ,\n",
    "                                     )\n",
    "                affected_items_mask = np.in1d(prediction_items, affected_items_random)\n",
    "                affected_items_index_rank = np.where(affected_items_mask == True)\n",
    "                unaffected_items_index_rank = np.where(affected_items_mask == False)\n",
    "                \n",
    "                rating_diff_sum_unaffected = np.sum(np.abs(rating_diff), \n",
    "                                                    where = np.in1d(range(num_items),np.intersect1d(unaffected_items_random, prediction_items[unaffected_items_index_rank[0][:100]])))\n",
    "                rating_diff_sum_affected = np.sum(rating_diff, where = np.in1d(range(num_items), \n",
    "                                                                               np.intersect1d(affected_items_random, prediction_items[affected_items_index_rank[0][:100]])))\n",
    "                rating_score = w1*rating_diff_sum_unaffected - w2*rating_diff_sum_affected\n",
    "#                 print (rating_score)\n",
    "                random_ratings.append(rating_score)\n",
    "    \n",
    "                # Random upper \n",
    "                prediction_scores_u = predict_scores(matrix_U=modified_matrix_random[user], \n",
    "                                                     matrix_V=RQ, \n",
    "                                                     bias=None,\n",
    "                                                   penalize = True,\n",
    "                                                   keyphrase_freq = keyphrase_freq, \n",
    "                                                   critiqued_keyphrase = critiqued_keyphrase_random, \n",
    "                                                   matrix_Train = matrix_Train,\n",
    "                                                   alpha = 0)\n",
    "                prediction_items = predict_vector(rating_vector=prediction_scores_u,\n",
    "                                                  train_vector=matrix_Train[user],\n",
    "                                                  remove_train=False)\n",
    "                item_rank = np.where(prediction_items == item)[0][0]\n",
    "                post_ranks_random_upper.append(item_rank)\n",
    "                \n",
    "                # Pop\n",
    "                prediction_scores_u = predict_scores(matrix_U=modified_matrix_pop[user], \n",
    "                                     matrix_V=RQ,\n",
    "                                     )\n",
    "                prediction_items = predict_vector(rating_vector=prediction_scores_u,\n",
    "                                                  train_vector=matrix_Train[user],\n",
    "                                                  remove_train=False)\n",
    "                \n",
    "                item_rank = np.where(prediction_items == item)[0][0]\n",
    "                post_ranks_pop_all.append(item_rank)\n",
    "                \n",
    "                \n",
    "                # pop scores\n",
    "                affected_hit = sum(np.in1d(prediction_items[:top_k_rec],affected_items_pop))\n",
    "                unaffected_hit = sum(np.in1d(prediction_items[:top_k_rec],unaffected_items_pop))\n",
    "                score = affected_weight*affected_hit + unaffected_weight*unaffected_hit\n",
    "                pop_scores.append(score)\n",
    "            \n",
    "                # Pop Rating\n",
    "                latent_diff = modified_matrix_pop - Y #post-pre\n",
    "                rating_diff = predict_scores(matrix_U=latent_diff[user], \n",
    "                                     matrix_V=RQ,\n",
    "                                     )\n",
    "                affected_items_mask = np.in1d(prediction_items, affected_items_pop)\n",
    "                affected_items_index_rank = np.where(affected_items_mask == True)\n",
    "                unaffected_items_index_rank = np.where(affected_items_mask == False)\n",
    "                \n",
    "                rating_diff_sum_unaffected = np.sum(np.abs(rating_diff), where = np.in1d(range(num_items),np.intersect1d(unaffected_items_pop, prediction_items[unaffected_items_index_rank[0][:100]])))\n",
    "                rating_diff_sum_affected = np.sum(rating_diff, where = np.in1d(range(num_items), np.intersect1d(affected_items_pop, prediction_items[affected_items_index_rank[0][:100]])))\n",
    "                rating_score = w1*rating_diff_sum_unaffected - w2*rating_diff_sum_affected\n",
    "                pop_ratings.append(rating_score)\n",
    "                \n",
    "                # Pop upper \n",
    "                \n",
    "                prediction_scores_u = predict_scores(matrix_U=modified_matrix_pop[user], \n",
    "                                                     matrix_V=RQ, \n",
    "                                                     bias=None,\n",
    "                                                   penalize = True,\n",
    "                                                   keyphrase_freq = keyphrase_freq, \n",
    "                                                   critiqued_keyphrase = critiqued_keyphrase_pop, \n",
    "                                                   matrix_Train = matrix_Train,\n",
    "                                                   alpha = 0)\n",
    "                prediction_items = predict_vector(rating_vector=prediction_scores_u,\n",
    "                                                  train_vector=matrix_Train[user],\n",
    "                                                  remove_train=False)\n",
    "                item_rank = np.where(prediction_items == item)[0][0]\n",
    "                post_ranks_pop_upper.append(item_rank)\n",
    "                \n",
    "                # Diff\n",
    "                prediction_scores_u = predict_scores(matrix_U=modified_matrix_diff[user], \n",
    "                                     matrix_V=RQ,\n",
    "                                     )\n",
    "                prediction_items = predict_vector(rating_vector=prediction_scores_u,\n",
    "                                                  train_vector=matrix_Train[user],\n",
    "                                                  remove_train=False)\n",
    "                \n",
    "                item_rank = np.where(prediction_items == item)[0][0]\n",
    "                post_ranks_diff_all.append(item_rank)\n",
    "                \n",
    "                # Diff scores\n",
    "                affected_hit = sum(np.in1d(prediction_items[:top_k_rec],affected_items_diff))\n",
    "                unaffected_hit = sum(np.in1d(prediction_items[:top_k_rec],unaffected_items_diff))\n",
    "                score = affected_weight*affected_hit + unaffected_weight*unaffected_hit\n",
    "                diff_scores.append(score)\n",
    "                \n",
    "                # Diff Rating\n",
    "                latent_diff = modified_matrix_diff - Y #post-pre\n",
    "                rating_diff = predict_scores(matrix_U=latent_diff[user], \n",
    "                                     matrix_V=RQ,\n",
    "                                     )\n",
    "                affected_items_mask = np.in1d(prediction_items, affected_items_diff)\n",
    "                affected_items_index_rank = np.where(affected_items_mask == True)\n",
    "                unaffected_items_index_rank = np.where(affected_items_mask == False)\n",
    "                \n",
    "                rating_diff_sum_unaffected = np.sum(np.abs(rating_diff), where = np.in1d(range(num_items),np.intersect1d(unaffected_items_diff, prediction_items[unaffected_items_index_rank[0][:100]])))\n",
    "                rating_diff_sum_affected = np.sum(rating_diff, where = np.in1d(range(num_items), np.intersect1d(affected_items_diff, prediction_items[affected_items_index_rank[0][:100]])))\n",
    "                rating_score = w1*rating_diff_sum_unaffected - w2*rating_diff_sum_affected\n",
    "                diff_ratings.append(rating_score)\n",
    "                # Diff upper \n",
    "                prediction_scores_u = predict_scores(matrix_U=modified_matrix_diff[user], \n",
    "                                                     matrix_V=RQ, \n",
    "                                                     bias=None,\n",
    "                                                   penalize = True,\n",
    "                                                   keyphrase_freq = keyphrase_freq, \n",
    "                                                   critiqued_keyphrase = critiqued_keyphrase_diff, \n",
    "                                                   matrix_Train = matrix_Train,\n",
    "                                                   alpha = 0)\n",
    "                prediction_items = predict_vector(rating_vector=prediction_scores_u,\n",
    "                                                  train_vector=matrix_Train[user],\n",
    "                                                  remove_train=False)\n",
    "                item_rank = np.where(prediction_items == item)[0][0]\n",
    "                post_ranks_diff_upper.append(item_rank)\n",
    "            \n",
    "            ######################################################\n",
    "            # optimal predicted lambda from ranking obj \n",
    "            random_ranking_opti_predicted = lams[np.argmax(random_scores)]\n",
    "            pop_ranking_opti_predicted = lams[np.argmax(pop_scores)]\n",
    "            diff_ranking_opti_predicted = lams[np.argmax(diff_scores)]\n",
    "            \n",
    "            # optimal predicted lambda from rating obj \n",
    "            random_rating_opti_predicted = lams[np.argmin(random_ratings)]\n",
    "            pop_rating_opti_predicted = lams[np.argmin(pop_ratings)]\n",
    "            diff_rating_opti_predicted = lams[np.argmin(diff_ratings)]\n",
    "            \n",
    "            ####################################################\n",
    "            # Get optimal post_ranking predicted\n",
    "            modified_matrix_random_opti_predicted = (1-random_ranking_opti_predicted)*Y + random_ranking_opti_predicted*critiqued_matrix_random \n",
    "            modified_matrix_pop_opti_predicted = (1-random_ranking_opti_predicted)*Y + random_ranking_opti_predicted*critiqued_matrix_pop \n",
    "            modified_matrix_diff_opti_predicted = (1-random_ranking_opti_predicted)*Y + random_ranking_opti_predicted*critiqued_matrix_diff \n",
    "            # Random\n",
    "            prediction_scores_u = predict_scores(matrix_U=modified_matrix_random_opti_predicted[user], \n",
    "                                     matrix_V=RQ,\n",
    "                                     )\n",
    "            prediction_items = predict_vector(rating_vector=prediction_scores_u,\n",
    "                                              train_vector=matrix_Train[user],\n",
    "                                              remove_train=False)\n",
    "\n",
    "            item_rank = np.where(prediction_items == item)[0][0]\n",
    "            row['random_opti_ranking'] = item_rank\n",
    "            \n",
    "            modified_matrix_random_opti_predicted = (1-random_rating_opti_predicted)*Y + random_rating_opti_predicted*critiqued_matrix_random \n",
    "            prediction_scores_u = predict_scores(matrix_U=modified_matrix_random_opti_predicted[user], \n",
    "                                     matrix_V=RQ,\n",
    "                                     )\n",
    "            prediction_items = predict_vector(rating_vector=prediction_scores_u,\n",
    "                                              train_vector=matrix_Train[user],\n",
    "                                              remove_train=False)\n",
    "\n",
    "            item_rank = np.where(prediction_items == item)[0][0]\n",
    "            row['random_opti_rating'] = item_rank\n",
    "            \n",
    "            # Pop\n",
    "            prediction_scores_u = predict_scores(matrix_U=modified_matrix_pop_opti_predicted[user], \n",
    "                                     matrix_V=RQ,\n",
    "                                     )\n",
    "            prediction_items = predict_vector(rating_vector=prediction_scores_u,\n",
    "                                              train_vector=matrix_Train[user],\n",
    "                                              remove_train=False)\n",
    "\n",
    "            item_rank = np.where(prediction_items == item)[0][0]\n",
    "            row['pop_opti_ranking'] = item_rank\n",
    "            \n",
    "            modified_matrix_pop_opti_predicted = (1-pop_rating_opti_predicted)*Y + pop_rating_opti_predicted*critiqued_matrix_pop \n",
    "            prediction_scores_u = predict_scores(matrix_U=modified_matrix_pop_opti_predicted[user], \n",
    "                                     matrix_V=RQ,\n",
    "                                     )\n",
    "            prediction_items = predict_vector(rating_vector=prediction_scores_u,\n",
    "                                              train_vector=matrix_Train[user],\n",
    "                                              remove_train=False)\n",
    "\n",
    "            item_rank = np.where(prediction_items == item)[0][0]\n",
    "            row['pop_opti_rating'] = item_rank\n",
    "            \n",
    "            # Diff\n",
    "            prediction_scores_u = predict_scores(matrix_U=modified_matrix_diff_opti_predicted[user], \n",
    "                                     matrix_V=RQ,\n",
    "                                     )\n",
    "            prediction_items = predict_vector(rating_vector=prediction_scores_u,\n",
    "                                              train_vector=matrix_Train[user],\n",
    "                                              remove_train=False)\n",
    "\n",
    "            item_rank = np.where(prediction_items == item)[0][0]\n",
    "            row['diff_opti_ranking'] = item_rank\n",
    "#             print ('diff_opti_ranking ', item_rank)\n",
    "            \n",
    "            modified_matrix_diff_opti_predicted = (1-diff_rating_opti_predicted)*Y + diff_rating_opti_predicted*critiqued_matrix_diff \n",
    "            prediction_scores_u = predict_scores(matrix_U=modified_matrix_diff_opti_predicted[user], \n",
    "                                     matrix_V=RQ,\n",
    "                                     )\n",
    "            prediction_items = predict_vector(rating_vector=prediction_scores_u,\n",
    "                                              train_vector=matrix_Train[user],\n",
    "                                              remove_train=False)\n",
    "\n",
    "            item_rank = np.where(prediction_items == item)[0][0]\n",
    "            row['diff_opti_rating'] = item_rank\n",
    "            \n",
    "            row['post_rank_random_all'] = post_ranks_random_all\n",
    "            row['post_rank_random_upper'] = post_ranks_random_upper\n",
    "            row['random_scores'] = random_scores\n",
    "            row['random_ratings'] = random_ratings\n",
    "            \n",
    "            row['post_rank_pop_all'] = post_ranks_pop_all\n",
    "            row['post_rank_pop_upper'] = post_ranks_pop_upper\n",
    "            row['pop_scores'] = pop_scores\n",
    "            row['pop_ratings'] = pop_ratings\n",
    "            \n",
    "            row['post_rank_diff_all'] = post_ranks_diff_all\n",
    "            row['post_rank_diff_upper'] = post_ranks_diff_upper\n",
    "            row['diff_scores'] = diff_scores\n",
    "            row['diff_ratings'] = diff_ratings\n",
    "            \n",
    "            df = df.append(row, ignore_index=True)\n",
    "            \n",
    "\n",
    "        # break after got 10 target items \n",
    "        num_target_item += 1\n",
    "        if num_target_item >10: # only want max 10 items per user\n",
    "            break\n",
    "            \n",
    "    return df"
   ]
  },
  {
   "cell_type": "code",
   "execution_count": 149,
   "metadata": {},
   "outputs": [
    {
     "data": {
      "text/plain": [
       "9"
      ]
     },
     "execution_count": 149,
     "metadata": {},
     "output_type": "execute_result"
    }
   ],
   "source": [
    "np.argmax(literal_eval(df['random_scores'][0]))"
   ]
  },
  {
   "cell_type": "code",
   "execution_count": 25,
   "metadata": {},
   "outputs": [],
   "source": [
    "single_step_with_avg_path = '../tables/critiquing/plrec_with_obj/'"
   ]
  },
  {
   "cell_type": "code",
   "execution_count": 50,
   "metadata": {
    "scrolled": true
   },
   "outputs": [
    {
     "name": "stdout",
     "output_type": "stream",
     "text": [
      "User ID  300\n",
      "wanted_items length:  14\n",
      "Initial top recommendation index 5010\n",
      "target_item:  101\n",
      "41.544414114716346\n",
      "cur_iter  0\n"
     ]
    },
    {
     "name": "stderr",
     "output_type": "stream",
     "text": [
      "/Users/litos/opt/anaconda3/lib/python3.7/site-packages/scipy/sparse/_index.py:127: SparseEfficiencyWarning: Changing the sparsity structure of a csr_matrix is expensive. lil_matrix is more efficient.\n",
      "  self._set_arrayXarray(i, j, x)\n"
     ]
    },
    {
     "name": "stdout",
     "output_type": "stream",
     "text": [
      "cur_iter  1\n",
      "cur_iter  2\n",
      "cur_iter  3\n",
      "no more keyphrase available\n",
      "target_item:  886\n",
      "17.15062284177111\n",
      "cur_iter  0\n"
     ]
    },
    {
     "name": "stderr",
     "output_type": "stream",
     "text": [
      "/Users/litos/opt/anaconda3/lib/python3.7/site-packages/scipy/sparse/_index.py:127: SparseEfficiencyWarning: Changing the sparsity structure of a csr_matrix is expensive. lil_matrix is more efficient.\n",
      "  self._set_arrayXarray(i, j, x)\n"
     ]
    },
    {
     "name": "stdout",
     "output_type": "stream",
     "text": [
      "cur_iter  1\n",
      "cur_iter  2\n",
      "cur_iter  3\n",
      "cur_iter  4\n",
      "cur_iter  5\n",
      "cur_iter  6\n",
      "cur_iter  7\n",
      "cur_iter  8\n",
      "cur_iter  9\n",
      "target_item:  968\n",
      "16.47581896918564\n",
      "cur_iter  0\n"
     ]
    },
    {
     "name": "stderr",
     "output_type": "stream",
     "text": [
      "/Users/litos/opt/anaconda3/lib/python3.7/site-packages/scipy/sparse/_index.py:127: SparseEfficiencyWarning: Changing the sparsity structure of a csr_matrix is expensive. lil_matrix is more efficient.\n",
      "  self._set_arrayXarray(i, j, x)\n"
     ]
    },
    {
     "name": "stdout",
     "output_type": "stream",
     "text": [
      "cur_iter  1\n",
      "cur_iter  2\n",
      "cur_iter  3\n",
      "cur_iter  4\n",
      "cur_iter  5\n",
      "cur_iter  6\n",
      "cur_iter  7\n",
      "cur_iter  8\n",
      "cur_iter  9\n",
      "target_item:  1620\n",
      "140.59583212701546\n",
      "cur_iter  0\n",
      "no more keyphrase available\n",
      "target_item:  1898\n",
      "10.686736359377392\n",
      "cur_iter  0\n"
     ]
    },
    {
     "name": "stderr",
     "output_type": "stream",
     "text": [
      "/Users/litos/opt/anaconda3/lib/python3.7/site-packages/scipy/sparse/_index.py:127: SparseEfficiencyWarning: Changing the sparsity structure of a csr_matrix is expensive. lil_matrix is more efficient.\n",
      "  self._set_arrayXarray(i, j, x)\n"
     ]
    },
    {
     "name": "stdout",
     "output_type": "stream",
     "text": [
      "cur_iter  1\n",
      "cur_iter  2\n",
      "cur_iter  3\n",
      "cur_iter  4\n",
      "cur_iter  5\n",
      "cur_iter  6\n",
      "cur_iter  7\n",
      "cur_iter  8\n",
      "cur_iter  9\n",
      "target_item:  2803\n",
      "11.87170214222715\n",
      "cur_iter  0\n"
     ]
    },
    {
     "name": "stderr",
     "output_type": "stream",
     "text": [
      "/Users/litos/opt/anaconda3/lib/python3.7/site-packages/scipy/sparse/_index.py:127: SparseEfficiencyWarning: Changing the sparsity structure of a csr_matrix is expensive. lil_matrix is more efficient.\n",
      "  self._set_arrayXarray(i, j, x)\n"
     ]
    },
    {
     "name": "stdout",
     "output_type": "stream",
     "text": [
      "cur_iter  1\n",
      "cur_iter  2\n",
      "cur_iter  3\n",
      "cur_iter  4\n",
      "cur_iter  5\n",
      "cur_iter  6\n",
      "cur_iter  7\n",
      "cur_iter  8\n",
      "cur_iter  9\n",
      "target_item:  3822\n",
      "131.2818960825971\n",
      "cur_iter  0\n"
     ]
    },
    {
     "name": "stderr",
     "output_type": "stream",
     "text": [
      "/Users/litos/opt/anaconda3/lib/python3.7/site-packages/scipy/sparse/_index.py:127: SparseEfficiencyWarning: Changing the sparsity structure of a csr_matrix is expensive. lil_matrix is more efficient.\n",
      "  self._set_arrayXarray(i, j, x)\n"
     ]
    },
    {
     "name": "stdout",
     "output_type": "stream",
     "text": [
      "cur_iter  1\n",
      "no more keyphrase available\n",
      "target_item:  4025\n",
      "44.43968693098577\n",
      "cur_iter  0\n"
     ]
    },
    {
     "name": "stderr",
     "output_type": "stream",
     "text": [
      "/Users/litos/opt/anaconda3/lib/python3.7/site-packages/scipy/sparse/_index.py:127: SparseEfficiencyWarning: Changing the sparsity structure of a csr_matrix is expensive. lil_matrix is more efficient.\n",
      "  self._set_arrayXarray(i, j, x)\n"
     ]
    },
    {
     "name": "stdout",
     "output_type": "stream",
     "text": [
      "cur_iter  1\n",
      "cur_iter  2\n",
      "cur_iter  3\n",
      "cur_iter  4\n",
      "no more keyphrase available\n",
      "target_item:  4906\n",
      "28.51678266046656\n",
      "cur_iter  0\n"
     ]
    },
    {
     "name": "stderr",
     "output_type": "stream",
     "text": [
      "/Users/litos/opt/anaconda3/lib/python3.7/site-packages/scipy/sparse/_index.py:127: SparseEfficiencyWarning: Changing the sparsity structure of a csr_matrix is expensive. lil_matrix is more efficient.\n",
      "  self._set_arrayXarray(i, j, x)\n"
     ]
    },
    {
     "name": "stdout",
     "output_type": "stream",
     "text": [
      "cur_iter  1\n",
      "cur_iter  2\n",
      "cur_iter  3\n",
      "cur_iter  4\n",
      "cur_iter  5\n",
      "cur_iter  6\n",
      "cur_iter  7\n",
      "cur_iter  8\n",
      "cur_iter  9\n",
      "target_item:  5041\n",
      "11.519449157189229\n",
      "cur_iter  0\n"
     ]
    },
    {
     "name": "stderr",
     "output_type": "stream",
     "text": [
      "/Users/litos/opt/anaconda3/lib/python3.7/site-packages/scipy/sparse/_index.py:127: SparseEfficiencyWarning: Changing the sparsity structure of a csr_matrix is expensive. lil_matrix is more efficient.\n",
      "  self._set_arrayXarray(i, j, x)\n"
     ]
    },
    {
     "name": "stdout",
     "output_type": "stream",
     "text": [
      "cur_iter  1\n",
      "cur_iter  2\n",
      "cur_iter  3\n",
      "cur_iter  4\n",
      "cur_iter  5\n",
      "cur_iter  6\n",
      "cur_iter  7\n",
      "cur_iter  8\n",
      "cur_iter  9\n",
      "target_item:  5098\n",
      "8.70338155420177\n",
      "cur_iter  0\n"
     ]
    },
    {
     "name": "stderr",
     "output_type": "stream",
     "text": [
      "/Users/litos/opt/anaconda3/lib/python3.7/site-packages/scipy/sparse/_index.py:127: SparseEfficiencyWarning: Changing the sparsity structure of a csr_matrix is expensive. lil_matrix is more efficient.\n",
      "  self._set_arrayXarray(i, j, x)\n"
     ]
    },
    {
     "name": "stdout",
     "output_type": "stream",
     "text": [
      "cur_iter  1\n",
      "cur_iter  2\n",
      "cur_iter  3\n",
      "cur_iter  4\n",
      "cur_iter  5\n",
      "cur_iter  6\n",
      "cur_iter  7\n",
      "cur_iter  8\n",
      "cur_iter  9\n",
      "User ID  301\n",
      "wanted_items length:  0\n",
      "Initial top recommendation index 7455\n",
      "User ID  302\n",
      "wanted_items length:  7\n",
      "Initial top recommendation index 2804\n",
      "target_item:  1833\n",
      "115.2953798038252\n",
      "cur_iter  0\n",
      "no more keyphrase available\n",
      "target_item:  2286\n",
      "21.131997340427915\n",
      "cur_iter  0\n"
     ]
    },
    {
     "name": "stderr",
     "output_type": "stream",
     "text": [
      "/Users/litos/opt/anaconda3/lib/python3.7/site-packages/scipy/sparse/_index.py:127: SparseEfficiencyWarning: Changing the sparsity structure of a csr_matrix is expensive. lil_matrix is more efficient.\n",
      "  self._set_arrayXarray(i, j, x)\n"
     ]
    },
    {
     "name": "stdout",
     "output_type": "stream",
     "text": [
      "cur_iter  1\n",
      "cur_iter  2\n",
      "cur_iter  3\n",
      "cur_iter  4\n",
      "cur_iter  5\n",
      "cur_iter  6\n",
      "cur_iter  7\n",
      "cur_iter  8\n",
      "cur_iter  9\n",
      "target_item:  2810\n",
      "40.394062391711486\n",
      "cur_iter  0\n"
     ]
    },
    {
     "name": "stderr",
     "output_type": "stream",
     "text": [
      "/Users/litos/opt/anaconda3/lib/python3.7/site-packages/scipy/sparse/_index.py:127: SparseEfficiencyWarning: Changing the sparsity structure of a csr_matrix is expensive. lil_matrix is more efficient.\n",
      "  self._set_arrayXarray(i, j, x)\n"
     ]
    },
    {
     "name": "stdout",
     "output_type": "stream",
     "text": [
      "cur_iter  1\n",
      "cur_iter  2\n",
      "cur_iter  3\n",
      "cur_iter  4\n",
      "cur_iter  5\n",
      "cur_iter  6\n",
      "cur_iter  7\n",
      "no more keyphrase available\n",
      "target_item:  4091\n",
      "30.837981232438324\n",
      "cur_iter  0\n"
     ]
    },
    {
     "name": "stderr",
     "output_type": "stream",
     "text": [
      "/Users/litos/opt/anaconda3/lib/python3.7/site-packages/scipy/sparse/_index.py:127: SparseEfficiencyWarning: Changing the sparsity structure of a csr_matrix is expensive. lil_matrix is more efficient.\n",
      "  self._set_arrayXarray(i, j, x)\n"
     ]
    },
    {
     "name": "stdout",
     "output_type": "stream",
     "text": [
      "cur_iter  1\n",
      "cur_iter  2\n",
      "cur_iter  3\n",
      "cur_iter  4\n",
      "cur_iter  5\n",
      "cur_iter  6\n",
      "cur_iter  7\n",
      "cur_iter  8\n",
      "cur_iter  9\n",
      "target_item:  4216\n",
      "21.714283244164108\n",
      "cur_iter  0\n"
     ]
    },
    {
     "name": "stderr",
     "output_type": "stream",
     "text": [
      "/Users/litos/opt/anaconda3/lib/python3.7/site-packages/scipy/sparse/_index.py:127: SparseEfficiencyWarning: Changing the sparsity structure of a csr_matrix is expensive. lil_matrix is more efficient.\n",
      "  self._set_arrayXarray(i, j, x)\n"
     ]
    },
    {
     "name": "stdout",
     "output_type": "stream",
     "text": [
      "cur_iter  1\n",
      "cur_iter  2\n",
      "cur_iter  3\n",
      "cur_iter  4\n",
      "cur_iter  5\n",
      "cur_iter  6\n",
      "cur_iter  7\n",
      "cur_iter  8\n",
      "cur_iter  9\n",
      "target_item:  4499\n",
      "23.539536897525977\n",
      "cur_iter  0\n"
     ]
    },
    {
     "name": "stderr",
     "output_type": "stream",
     "text": [
      "/Users/litos/opt/anaconda3/lib/python3.7/site-packages/scipy/sparse/_index.py:127: SparseEfficiencyWarning: Changing the sparsity structure of a csr_matrix is expensive. lil_matrix is more efficient.\n",
      "  self._set_arrayXarray(i, j, x)\n"
     ]
    },
    {
     "name": "stdout",
     "output_type": "stream",
     "text": [
      "cur_iter  1\n",
      "cur_iter  2\n",
      "cur_iter  3\n",
      "cur_iter  4\n",
      "cur_iter  5\n",
      "cur_iter  6\n",
      "cur_iter  7\n",
      "cur_iter  8\n",
      "cur_iter  9\n",
      "target_item:  5040\n",
      "18.72463711000819\n",
      "cur_iter  0\n"
     ]
    },
    {
     "name": "stderr",
     "output_type": "stream",
     "text": [
      "/Users/litos/opt/anaconda3/lib/python3.7/site-packages/scipy/sparse/_index.py:127: SparseEfficiencyWarning: Changing the sparsity structure of a csr_matrix is expensive. lil_matrix is more efficient.\n",
      "  self._set_arrayXarray(i, j, x)\n"
     ]
    },
    {
     "name": "stdout",
     "output_type": "stream",
     "text": [
      "cur_iter  1\n",
      "cur_iter  2\n",
      "cur_iter  3\n",
      "cur_iter  4\n",
      "cur_iter  5\n",
      "cur_iter  6\n",
      "cur_iter  7\n",
      "cur_iter  8\n",
      "cur_iter  9\n",
      "User ID  303\n",
      "wanted_items length:  7\n",
      "Initial top recommendation index 1406\n",
      "target_item:  38\n",
      "8.09358193983553\n",
      "cur_iter  0\n"
     ]
    },
    {
     "name": "stderr",
     "output_type": "stream",
     "text": [
      "/Users/litos/opt/anaconda3/lib/python3.7/site-packages/scipy/sparse/_index.py:127: SparseEfficiencyWarning: Changing the sparsity structure of a csr_matrix is expensive. lil_matrix is more efficient.\n",
      "  self._set_arrayXarray(i, j, x)\n"
     ]
    },
    {
     "name": "stdout",
     "output_type": "stream",
     "text": [
      "cur_iter  1\n",
      "cur_iter  2\n",
      "cur_iter  3\n",
      "cur_iter  4\n",
      "cur_iter  5\n",
      "cur_iter  6\n",
      "cur_iter  7\n",
      "cur_iter  8\n",
      "cur_iter  9\n",
      "target_item:  1199\n",
      "9.765911905952635\n",
      "cur_iter  0\n"
     ]
    },
    {
     "name": "stderr",
     "output_type": "stream",
     "text": [
      "/Users/litos/opt/anaconda3/lib/python3.7/site-packages/scipy/sparse/_index.py:127: SparseEfficiencyWarning: Changing the sparsity structure of a csr_matrix is expensive. lil_matrix is more efficient.\n",
      "  self._set_arrayXarray(i, j, x)\n"
     ]
    },
    {
     "name": "stdout",
     "output_type": "stream",
     "text": [
      "cur_iter  1\n",
      "cur_iter  2\n",
      "cur_iter  3\n",
      "cur_iter  4\n",
      "cur_iter  5\n",
      "cur_iter  6\n",
      "cur_iter  7\n",
      "cur_iter  8\n",
      "cur_iter  9\n",
      "target_item:  3368\n",
      "8.21230263087682\n",
      "cur_iter  0\n"
     ]
    },
    {
     "name": "stderr",
     "output_type": "stream",
     "text": [
      "/Users/litos/opt/anaconda3/lib/python3.7/site-packages/scipy/sparse/_index.py:127: SparseEfficiencyWarning: Changing the sparsity structure of a csr_matrix is expensive. lil_matrix is more efficient.\n",
      "  self._set_arrayXarray(i, j, x)\n"
     ]
    },
    {
     "name": "stdout",
     "output_type": "stream",
     "text": [
      "cur_iter  1\n",
      "cur_iter  2\n",
      "cur_iter  3\n",
      "cur_iter  4\n",
      "cur_iter  5\n",
      "cur_iter  6\n",
      "cur_iter  7\n",
      "cur_iter  8\n",
      "cur_iter  9\n",
      "target_item:  4432\n",
      "17.631123209773705\n",
      "cur_iter  0\n"
     ]
    },
    {
     "name": "stderr",
     "output_type": "stream",
     "text": [
      "/Users/litos/opt/anaconda3/lib/python3.7/site-packages/scipy/sparse/_index.py:127: SparseEfficiencyWarning: Changing the sparsity structure of a csr_matrix is expensive. lil_matrix is more efficient.\n",
      "  self._set_arrayXarray(i, j, x)\n"
     ]
    },
    {
     "name": "stdout",
     "output_type": "stream",
     "text": [
      "cur_iter  1\n",
      "cur_iter  2\n",
      "cur_iter  3\n",
      "cur_iter  4\n",
      "cur_iter  5\n",
      "cur_iter  6\n",
      "cur_iter  7\n",
      "cur_iter  8\n",
      "no more keyphrase available\n",
      "target_item:  5659\n",
      "5.192703764769249\n",
      "cur_iter  0\n"
     ]
    },
    {
     "name": "stderr",
     "output_type": "stream",
     "text": [
      "/Users/litos/opt/anaconda3/lib/python3.7/site-packages/scipy/sparse/_index.py:127: SparseEfficiencyWarning: Changing the sparsity structure of a csr_matrix is expensive. lil_matrix is more efficient.\n",
      "  self._set_arrayXarray(i, j, x)\n"
     ]
    },
    {
     "name": "stdout",
     "output_type": "stream",
     "text": [
      "cur_iter  1\n",
      "cur_iter  2\n",
      "cur_iter  3\n",
      "cur_iter  4\n",
      "cur_iter  5\n",
      "cur_iter  6\n",
      "cur_iter  7\n",
      "cur_iter  8\n",
      "cur_iter  9\n",
      "target_item:  6023\n",
      "10.36838437261531\n",
      "cur_iter  0\n"
     ]
    },
    {
     "name": "stderr",
     "output_type": "stream",
     "text": [
      "/Users/litos/opt/anaconda3/lib/python3.7/site-packages/scipy/sparse/_index.py:127: SparseEfficiencyWarning: Changing the sparsity structure of a csr_matrix is expensive. lil_matrix is more efficient.\n",
      "  self._set_arrayXarray(i, j, x)\n"
     ]
    },
    {
     "name": "stdout",
     "output_type": "stream",
     "text": [
      "cur_iter  1\n",
      "cur_iter  2\n",
      "cur_iter  3\n",
      "cur_iter  4\n",
      "cur_iter  5\n",
      "cur_iter  6\n",
      "cur_iter  7\n",
      "cur_iter  8\n",
      "cur_iter  9\n",
      "target_item:  6990\n",
      "10.106503969855567\n",
      "cur_iter  0\n"
     ]
    },
    {
     "name": "stderr",
     "output_type": "stream",
     "text": [
      "/Users/litos/opt/anaconda3/lib/python3.7/site-packages/scipy/sparse/_index.py:127: SparseEfficiencyWarning: Changing the sparsity structure of a csr_matrix is expensive. lil_matrix is more efficient.\n",
      "  self._set_arrayXarray(i, j, x)\n"
     ]
    },
    {
     "name": "stdout",
     "output_type": "stream",
     "text": [
      "cur_iter  1\n",
      "cur_iter  2\n",
      "cur_iter  3\n",
      "cur_iter  4\n",
      "cur_iter  5\n",
      "cur_iter  6\n",
      "cur_iter  7\n",
      "cur_iter  8\n",
      "cur_iter  9\n",
      "User ID  304\n",
      "wanted_items length:  10\n",
      "Initial top recommendation index 6454\n",
      "target_item:  1483\n",
      "55.63940756380134\n",
      "cur_iter  0\n"
     ]
    },
    {
     "name": "stderr",
     "output_type": "stream",
     "text": [
      "/Users/litos/opt/anaconda3/lib/python3.7/site-packages/scipy/sparse/_index.py:127: SparseEfficiencyWarning: Changing the sparsity structure of a csr_matrix is expensive. lil_matrix is more efficient.\n",
      "  self._set_arrayXarray(i, j, x)\n"
     ]
    },
    {
     "name": "stdout",
     "output_type": "stream",
     "text": [
      "cur_iter  1\n",
      "cur_iter  2\n",
      "cur_iter  3\n",
      "no more keyphrase available\n",
      "target_item:  1985\n",
      "32.2619852881262\n",
      "cur_iter  0\n"
     ]
    },
    {
     "name": "stderr",
     "output_type": "stream",
     "text": [
      "/Users/litos/opt/anaconda3/lib/python3.7/site-packages/scipy/sparse/_index.py:127: SparseEfficiencyWarning: Changing the sparsity structure of a csr_matrix is expensive. lil_matrix is more efficient.\n",
      "  self._set_arrayXarray(i, j, x)\n"
     ]
    },
    {
     "name": "stdout",
     "output_type": "stream",
     "text": [
      "cur_iter  1\n",
      "cur_iter  2\n",
      "cur_iter  3\n",
      "cur_iter  4\n",
      "cur_iter  5\n",
      "cur_iter  6\n",
      "cur_iter  7\n",
      "cur_iter  8\n",
      "no more keyphrase available\n",
      "target_item:  3158\n",
      "68.55928420094233\n",
      "cur_iter  0\n"
     ]
    },
    {
     "name": "stderr",
     "output_type": "stream",
     "text": [
      "/Users/litos/opt/anaconda3/lib/python3.7/site-packages/scipy/sparse/_index.py:127: SparseEfficiencyWarning: Changing the sparsity structure of a csr_matrix is expensive. lil_matrix is more efficient.\n",
      "  self._set_arrayXarray(i, j, x)\n"
     ]
    },
    {
     "name": "stdout",
     "output_type": "stream",
     "text": [
      "cur_iter  1\n",
      "cur_iter  2\n",
      "cur_iter  3\n",
      "no more keyphrase available\n",
      "target_item:  4323\n",
      "2.394275938518149\n",
      "cur_iter  0\n"
     ]
    },
    {
     "name": "stderr",
     "output_type": "stream",
     "text": [
      "/Users/litos/opt/anaconda3/lib/python3.7/site-packages/scipy/sparse/_index.py:127: SparseEfficiencyWarning: Changing the sparsity structure of a csr_matrix is expensive. lil_matrix is more efficient.\n",
      "  self._set_arrayXarray(i, j, x)\n"
     ]
    },
    {
     "name": "stdout",
     "output_type": "stream",
     "text": [
      "cur_iter  1\n",
      "cur_iter  2\n",
      "cur_iter  3\n",
      "cur_iter  4\n",
      "cur_iter  5\n",
      "cur_iter  6\n",
      "cur_iter  7\n",
      "cur_iter  8\n",
      "cur_iter  9\n",
      "target_item:  5081\n",
      "1.0547012167107823\n",
      "cur_iter  0\n"
     ]
    },
    {
     "name": "stderr",
     "output_type": "stream",
     "text": [
      "/Users/litos/opt/anaconda3/lib/python3.7/site-packages/scipy/sparse/_index.py:127: SparseEfficiencyWarning: Changing the sparsity structure of a csr_matrix is expensive. lil_matrix is more efficient.\n",
      "  self._set_arrayXarray(i, j, x)\n"
     ]
    },
    {
     "name": "stdout",
     "output_type": "stream",
     "text": [
      "cur_iter  1\n",
      "cur_iter  2\n",
      "cur_iter  3\n",
      "cur_iter  4\n",
      "cur_iter  5\n",
      "cur_iter  6\n",
      "cur_iter  7\n",
      "cur_iter  8\n",
      "cur_iter  9\n",
      "target_item:  5710\n",
      "123.45372508457467\n",
      "cur_iter  0\n",
      "no more keyphrase available\n",
      "target_item:  6222\n",
      "13.67697322107324\n",
      "cur_iter  0\n"
     ]
    },
    {
     "name": "stderr",
     "output_type": "stream",
     "text": [
      "/Users/litos/opt/anaconda3/lib/python3.7/site-packages/scipy/sparse/_index.py:127: SparseEfficiencyWarning: Changing the sparsity structure of a csr_matrix is expensive. lil_matrix is more efficient.\n",
      "  self._set_arrayXarray(i, j, x)\n"
     ]
    },
    {
     "name": "stdout",
     "output_type": "stream",
     "text": [
      "cur_iter  1\n",
      "cur_iter  2\n",
      "cur_iter  3\n",
      "cur_iter  4\n",
      "cur_iter  5\n",
      "cur_iter  6\n",
      "cur_iter  7\n",
      "cur_iter  8\n",
      "cur_iter  9\n",
      "target_item:  6323\n",
      "16.192987892999554\n",
      "cur_iter  0\n"
     ]
    },
    {
     "name": "stderr",
     "output_type": "stream",
     "text": [
      "/Users/litos/opt/anaconda3/lib/python3.7/site-packages/scipy/sparse/_index.py:127: SparseEfficiencyWarning: Changing the sparsity structure of a csr_matrix is expensive. lil_matrix is more efficient.\n",
      "  self._set_arrayXarray(i, j, x)\n"
     ]
    },
    {
     "name": "stdout",
     "output_type": "stream",
     "text": [
      "cur_iter  1\n",
      "cur_iter  2\n",
      "cur_iter  3\n",
      "cur_iter  4\n",
      "cur_iter  5\n",
      "cur_iter  6\n",
      "cur_iter  7\n",
      "cur_iter  8\n",
      "cur_iter  9\n",
      "target_item:  6708\n",
      "16.493156750037997\n",
      "cur_iter  0\n"
     ]
    },
    {
     "name": "stderr",
     "output_type": "stream",
     "text": [
      "/Users/litos/opt/anaconda3/lib/python3.7/site-packages/scipy/sparse/_index.py:127: SparseEfficiencyWarning: Changing the sparsity structure of a csr_matrix is expensive. lil_matrix is more efficient.\n",
      "  self._set_arrayXarray(i, j, x)\n"
     ]
    },
    {
     "name": "stdout",
     "output_type": "stream",
     "text": [
      "cur_iter  1\n",
      "cur_iter  2\n",
      "cur_iter  3\n",
      "cur_iter  4\n",
      "cur_iter  5\n",
      "cur_iter  6\n",
      "cur_iter  7\n",
      "cur_iter  8\n",
      "cur_iter  9\n",
      "target_item:  7163\n",
      "3.262237164018188\n",
      "cur_iter  0\n"
     ]
    },
    {
     "name": "stderr",
     "output_type": "stream",
     "text": [
      "/Users/litos/opt/anaconda3/lib/python3.7/site-packages/scipy/sparse/_index.py:127: SparseEfficiencyWarning: Changing the sparsity structure of a csr_matrix is expensive. lil_matrix is more efficient.\n",
      "  self._set_arrayXarray(i, j, x)\n"
     ]
    },
    {
     "name": "stdout",
     "output_type": "stream",
     "text": [
      "cur_iter  1\n",
      "cur_iter  2\n",
      "cur_iter  3\n",
      "cur_iter  4\n",
      "cur_iter  5\n",
      "cur_iter  6\n",
      "cur_iter  7\n",
      "cur_iter  8\n",
      "cur_iter  9\n",
      "User ID  305\n",
      "wanted_items length:  15\n",
      "Initial top recommendation index 3377\n",
      "target_item:  39\n",
      "6.28777008754696\n",
      "cur_iter  0\n"
     ]
    },
    {
     "name": "stderr",
     "output_type": "stream",
     "text": [
      "/Users/litos/opt/anaconda3/lib/python3.7/site-packages/scipy/sparse/_index.py:127: SparseEfficiencyWarning: Changing the sparsity structure of a csr_matrix is expensive. lil_matrix is more efficient.\n",
      "  self._set_arrayXarray(i, j, x)\n"
     ]
    },
    {
     "name": "stdout",
     "output_type": "stream",
     "text": [
      "cur_iter  1\n",
      "cur_iter  2\n",
      "cur_iter  3\n",
      "cur_iter  4\n",
      "cur_iter  5\n",
      "cur_iter  6\n",
      "cur_iter  7\n",
      "cur_iter  8\n",
      "cur_iter  9\n",
      "target_item:  1890\n",
      "24.091915121995044\n",
      "cur_iter  0\n"
     ]
    },
    {
     "name": "stderr",
     "output_type": "stream",
     "text": [
      "/Users/litos/opt/anaconda3/lib/python3.7/site-packages/scipy/sparse/_index.py:127: SparseEfficiencyWarning: Changing the sparsity structure of a csr_matrix is expensive. lil_matrix is more efficient.\n",
      "  self._set_arrayXarray(i, j, x)\n"
     ]
    },
    {
     "name": "stdout",
     "output_type": "stream",
     "text": [
      "cur_iter  1\n",
      "cur_iter  2\n",
      "cur_iter  3\n",
      "cur_iter  4\n",
      "cur_iter  5\n",
      "cur_iter  6\n",
      "cur_iter  7\n",
      "cur_iter  8\n",
      "cur_iter  9\n",
      "target_item:  1985\n",
      "7.123070193976673\n",
      "cur_iter  0\n"
     ]
    },
    {
     "name": "stderr",
     "output_type": "stream",
     "text": [
      "/Users/litos/opt/anaconda3/lib/python3.7/site-packages/scipy/sparse/_index.py:127: SparseEfficiencyWarning: Changing the sparsity structure of a csr_matrix is expensive. lil_matrix is more efficient.\n",
      "  self._set_arrayXarray(i, j, x)\n"
     ]
    },
    {
     "name": "stdout",
     "output_type": "stream",
     "text": [
      "cur_iter  1\n",
      "cur_iter  2\n",
      "cur_iter  3\n",
      "cur_iter  4\n",
      "cur_iter  5\n",
      "cur_iter  6\n",
      "cur_iter  7\n",
      "cur_iter  8\n",
      "cur_iter  9\n",
      "target_item:  2589\n",
      "8.522417081869207\n",
      "cur_iter  0\n"
     ]
    },
    {
     "name": "stderr",
     "output_type": "stream",
     "text": [
      "/Users/litos/opt/anaconda3/lib/python3.7/site-packages/scipy/sparse/_index.py:127: SparseEfficiencyWarning: Changing the sparsity structure of a csr_matrix is expensive. lil_matrix is more efficient.\n",
      "  self._set_arrayXarray(i, j, x)\n"
     ]
    },
    {
     "name": "stdout",
     "output_type": "stream",
     "text": [
      "cur_iter  1\n",
      "cur_iter  2\n",
      "cur_iter  3\n",
      "cur_iter  4\n",
      "cur_iter  5\n",
      "cur_iter  6\n",
      "cur_iter  7\n",
      "cur_iter  8\n",
      "cur_iter  9\n",
      "target_item:  2780\n",
      "16.44225250272393\n",
      "cur_iter  0\n"
     ]
    },
    {
     "name": "stderr",
     "output_type": "stream",
     "text": [
      "/Users/litos/opt/anaconda3/lib/python3.7/site-packages/scipy/sparse/_index.py:127: SparseEfficiencyWarning: Changing the sparsity structure of a csr_matrix is expensive. lil_matrix is more efficient.\n",
      "  self._set_arrayXarray(i, j, x)\n"
     ]
    },
    {
     "name": "stdout",
     "output_type": "stream",
     "text": [
      "cur_iter  1\n",
      "cur_iter  2\n",
      "cur_iter  3\n",
      "cur_iter  4\n",
      "cur_iter  5\n",
      "cur_iter  6\n",
      "cur_iter  7\n",
      "cur_iter  8\n",
      "cur_iter  9\n",
      "target_item:  3598\n",
      "11.082065955474718\n",
      "cur_iter  0\n"
     ]
    },
    {
     "name": "stderr",
     "output_type": "stream",
     "text": [
      "/Users/litos/opt/anaconda3/lib/python3.7/site-packages/scipy/sparse/_index.py:127: SparseEfficiencyWarning: Changing the sparsity structure of a csr_matrix is expensive. lil_matrix is more efficient.\n",
      "  self._set_arrayXarray(i, j, x)\n"
     ]
    },
    {
     "name": "stdout",
     "output_type": "stream",
     "text": [
      "cur_iter  1\n",
      "cur_iter  2\n",
      "cur_iter  3\n",
      "cur_iter  4\n",
      "cur_iter  5\n",
      "cur_iter  6\n",
      "cur_iter  7\n",
      "cur_iter  8\n",
      "cur_iter  9\n",
      "target_item:  3850\n",
      "14.023018677957225\n",
      "cur_iter  0\n"
     ]
    },
    {
     "name": "stderr",
     "output_type": "stream",
     "text": [
      "/Users/litos/opt/anaconda3/lib/python3.7/site-packages/scipy/sparse/_index.py:127: SparseEfficiencyWarning: Changing the sparsity structure of a csr_matrix is expensive. lil_matrix is more efficient.\n",
      "  self._set_arrayXarray(i, j, x)\n"
     ]
    },
    {
     "name": "stdout",
     "output_type": "stream",
     "text": [
      "cur_iter  1\n",
      "cur_iter  2\n",
      "cur_iter  3\n",
      "cur_iter  4\n",
      "cur_iter  5\n",
      "cur_iter  6\n",
      "cur_iter  7\n",
      "cur_iter  8\n",
      "cur_iter  9\n",
      "target_item:  4238\n",
      "12.25854317671292\n",
      "cur_iter  0\n"
     ]
    },
    {
     "name": "stderr",
     "output_type": "stream",
     "text": [
      "/Users/litos/opt/anaconda3/lib/python3.7/site-packages/scipy/sparse/_index.py:127: SparseEfficiencyWarning: Changing the sparsity structure of a csr_matrix is expensive. lil_matrix is more efficient.\n",
      "  self._set_arrayXarray(i, j, x)\n"
     ]
    },
    {
     "name": "stdout",
     "output_type": "stream",
     "text": [
      "cur_iter  1\n",
      "cur_iter  2\n",
      "cur_iter  3\n",
      "cur_iter  4\n",
      "cur_iter  5\n",
      "cur_iter  6\n",
      "cur_iter  7\n",
      "cur_iter  8\n",
      "cur_iter  9\n",
      "target_item:  4299\n",
      "54.6439944127369\n",
      "cur_iter  0\n"
     ]
    },
    {
     "name": "stderr",
     "output_type": "stream",
     "text": [
      "/Users/litos/opt/anaconda3/lib/python3.7/site-packages/scipy/sparse/_index.py:127: SparseEfficiencyWarning: Changing the sparsity structure of a csr_matrix is expensive. lil_matrix is more efficient.\n",
      "  self._set_arrayXarray(i, j, x)\n"
     ]
    },
    {
     "name": "stdout",
     "output_type": "stream",
     "text": [
      "cur_iter  1\n",
      "cur_iter  2\n",
      "cur_iter  3\n",
      "no more keyphrase available\n",
      "target_item:  4772\n",
      "8.74051236845844\n",
      "cur_iter  0\n"
     ]
    },
    {
     "name": "stderr",
     "output_type": "stream",
     "text": [
      "/Users/litos/opt/anaconda3/lib/python3.7/site-packages/scipy/sparse/_index.py:127: SparseEfficiencyWarning: Changing the sparsity structure of a csr_matrix is expensive. lil_matrix is more efficient.\n",
      "  self._set_arrayXarray(i, j, x)\n"
     ]
    },
    {
     "name": "stdout",
     "output_type": "stream",
     "text": [
      "cur_iter  1\n",
      "cur_iter  2\n",
      "cur_iter  3\n",
      "cur_iter  4\n",
      "cur_iter  5\n",
      "cur_iter  6\n",
      "cur_iter  7\n",
      "cur_iter  8\n",
      "cur_iter  9\n",
      "target_item:  5364\n",
      "5.720303037245685\n",
      "cur_iter  0\n"
     ]
    },
    {
     "name": "stderr",
     "output_type": "stream",
     "text": [
      "/Users/litos/opt/anaconda3/lib/python3.7/site-packages/scipy/sparse/_index.py:127: SparseEfficiencyWarning: Changing the sparsity structure of a csr_matrix is expensive. lil_matrix is more efficient.\n",
      "  self._set_arrayXarray(i, j, x)\n"
     ]
    },
    {
     "name": "stdout",
     "output_type": "stream",
     "text": [
      "cur_iter  1\n",
      "cur_iter  2\n",
      "cur_iter  3\n",
      "cur_iter  4\n",
      "cur_iter  5\n",
      "cur_iter  6\n",
      "cur_iter  7\n",
      "cur_iter  8\n",
      "cur_iter  9\n",
      "User ID  306\n",
      "wanted_items length:  9\n",
      "Initial top recommendation index 5410\n",
      "target_item:  647\n",
      "21.557859250633328\n",
      "cur_iter  0\n"
     ]
    },
    {
     "name": "stderr",
     "output_type": "stream",
     "text": [
      "/Users/litos/opt/anaconda3/lib/python3.7/site-packages/scipy/sparse/_index.py:127: SparseEfficiencyWarning: Changing the sparsity structure of a csr_matrix is expensive. lil_matrix is more efficient.\n",
      "  self._set_arrayXarray(i, j, x)\n"
     ]
    },
    {
     "name": "stdout",
     "output_type": "stream",
     "text": [
      "cur_iter  1\n",
      "cur_iter  2\n",
      "cur_iter  3\n",
      "cur_iter  4\n",
      "cur_iter  5\n",
      "cur_iter  6\n",
      "cur_iter  7\n",
      "cur_iter  8\n",
      "cur_iter  9\n",
      "target_item:  1340\n",
      "10.454470912014358\n",
      "cur_iter  0\n"
     ]
    },
    {
     "name": "stderr",
     "output_type": "stream",
     "text": [
      "/Users/litos/opt/anaconda3/lib/python3.7/site-packages/scipy/sparse/_index.py:127: SparseEfficiencyWarning: Changing the sparsity structure of a csr_matrix is expensive. lil_matrix is more efficient.\n",
      "  self._set_arrayXarray(i, j, x)\n"
     ]
    },
    {
     "name": "stdout",
     "output_type": "stream",
     "text": [
      "cur_iter  1\n",
      "cur_iter  2\n",
      "cur_iter  3\n",
      "cur_iter  4\n",
      "cur_iter  5\n",
      "cur_iter  6\n",
      "cur_iter  7\n",
      "cur_iter  8\n",
      "cur_iter  9\n",
      "target_item:  1488\n",
      "13.096249822750679\n",
      "cur_iter  0\n"
     ]
    },
    {
     "name": "stderr",
     "output_type": "stream",
     "text": [
      "/Users/litos/opt/anaconda3/lib/python3.7/site-packages/scipy/sparse/_index.py:127: SparseEfficiencyWarning: Changing the sparsity structure of a csr_matrix is expensive. lil_matrix is more efficient.\n",
      "  self._set_arrayXarray(i, j, x)\n"
     ]
    },
    {
     "name": "stdout",
     "output_type": "stream",
     "text": [
      "cur_iter  1\n",
      "cur_iter  2\n",
      "cur_iter  3\n",
      "cur_iter  4\n",
      "cur_iter  5\n",
      "cur_iter  6\n",
      "cur_iter  7\n",
      "cur_iter  8\n",
      "cur_iter  9\n",
      "target_item:  1562\n",
      "10.639697891756441\n",
      "cur_iter  0\n"
     ]
    },
    {
     "name": "stderr",
     "output_type": "stream",
     "text": [
      "/Users/litos/opt/anaconda3/lib/python3.7/site-packages/scipy/sparse/_index.py:127: SparseEfficiencyWarning: Changing the sparsity structure of a csr_matrix is expensive. lil_matrix is more efficient.\n",
      "  self._set_arrayXarray(i, j, x)\n"
     ]
    },
    {
     "name": "stdout",
     "output_type": "stream",
     "text": [
      "cur_iter  1\n",
      "cur_iter  2\n",
      "cur_iter  3\n",
      "cur_iter  4\n",
      "cur_iter  5\n",
      "cur_iter  6\n",
      "cur_iter  7\n",
      "cur_iter  8\n",
      "cur_iter  9\n",
      "target_item:  2039\n",
      "13.824290231366831\n",
      "cur_iter  0\n"
     ]
    },
    {
     "name": "stderr",
     "output_type": "stream",
     "text": [
      "/Users/litos/opt/anaconda3/lib/python3.7/site-packages/scipy/sparse/_index.py:127: SparseEfficiencyWarning: Changing the sparsity structure of a csr_matrix is expensive. lil_matrix is more efficient.\n",
      "  self._set_arrayXarray(i, j, x)\n"
     ]
    },
    {
     "name": "stdout",
     "output_type": "stream",
     "text": [
      "cur_iter  1\n",
      "cur_iter  2\n",
      "cur_iter  3\n",
      "cur_iter  4\n",
      "cur_iter  5\n",
      "cur_iter  6\n",
      "cur_iter  7\n",
      "cur_iter  8\n",
      "cur_iter  9\n",
      "target_item:  3554\n",
      "9.817367573365118\n",
      "cur_iter  0\n"
     ]
    },
    {
     "name": "stderr",
     "output_type": "stream",
     "text": [
      "/Users/litos/opt/anaconda3/lib/python3.7/site-packages/scipy/sparse/_index.py:127: SparseEfficiencyWarning: Changing the sparsity structure of a csr_matrix is expensive. lil_matrix is more efficient.\n",
      "  self._set_arrayXarray(i, j, x)\n"
     ]
    },
    {
     "name": "stdout",
     "output_type": "stream",
     "text": [
      "cur_iter  1\n",
      "cur_iter  2\n",
      "cur_iter  3\n",
      "cur_iter  4\n",
      "cur_iter  5\n",
      "cur_iter  6\n",
      "cur_iter  7\n",
      "cur_iter  8\n",
      "cur_iter  9\n",
      "target_item:  6454\n",
      "8.652964081351456\n",
      "cur_iter  0\n"
     ]
    },
    {
     "name": "stderr",
     "output_type": "stream",
     "text": [
      "/Users/litos/opt/anaconda3/lib/python3.7/site-packages/scipy/sparse/_index.py:127: SparseEfficiencyWarning: Changing the sparsity structure of a csr_matrix is expensive. lil_matrix is more efficient.\n",
      "  self._set_arrayXarray(i, j, x)\n"
     ]
    },
    {
     "name": "stdout",
     "output_type": "stream",
     "text": [
      "cur_iter  1\n",
      "cur_iter  2\n",
      "cur_iter  3\n",
      "cur_iter  4\n",
      "cur_iter  5\n",
      "cur_iter  6\n",
      "cur_iter  7\n",
      "cur_iter  8\n",
      "cur_iter  9\n",
      "target_item:  6772\n",
      "17.08624232368129\n",
      "cur_iter  0\n"
     ]
    },
    {
     "name": "stderr",
     "output_type": "stream",
     "text": [
      "/Users/litos/opt/anaconda3/lib/python3.7/site-packages/scipy/sparse/_index.py:127: SparseEfficiencyWarning: Changing the sparsity structure of a csr_matrix is expensive. lil_matrix is more efficient.\n",
      "  self._set_arrayXarray(i, j, x)\n"
     ]
    },
    {
     "name": "stdout",
     "output_type": "stream",
     "text": [
      "cur_iter  1\n",
      "cur_iter  2\n",
      "cur_iter  3\n",
      "cur_iter  4\n",
      "cur_iter  5\n",
      "cur_iter  6\n",
      "cur_iter  7\n",
      "cur_iter  8\n",
      "cur_iter  9\n",
      "target_item:  7286\n",
      "10.110763720016621\n",
      "cur_iter  0\n"
     ]
    },
    {
     "name": "stderr",
     "output_type": "stream",
     "text": [
      "/Users/litos/opt/anaconda3/lib/python3.7/site-packages/scipy/sparse/_index.py:127: SparseEfficiencyWarning: Changing the sparsity structure of a csr_matrix is expensive. lil_matrix is more efficient.\n",
      "  self._set_arrayXarray(i, j, x)\n"
     ]
    },
    {
     "name": "stdout",
     "output_type": "stream",
     "text": [
      "cur_iter  1\n",
      "cur_iter  2\n",
      "cur_iter  3\n",
      "cur_iter  4\n",
      "cur_iter  5\n",
      "cur_iter  6\n",
      "cur_iter  7\n",
      "cur_iter  8\n",
      "cur_iter  9\n",
      "User ID  307\n",
      "wanted_items length:  5\n",
      "Initial top recommendation index 5659\n",
      "target_item:  1392\n",
      "42.83656223412072\n",
      "cur_iter  0\n"
     ]
    },
    {
     "name": "stderr",
     "output_type": "stream",
     "text": [
      "/Users/litos/opt/anaconda3/lib/python3.7/site-packages/scipy/sparse/_index.py:127: SparseEfficiencyWarning: Changing the sparsity structure of a csr_matrix is expensive. lil_matrix is more efficient.\n",
      "  self._set_arrayXarray(i, j, x)\n"
     ]
    },
    {
     "name": "stdout",
     "output_type": "stream",
     "text": [
      "cur_iter  1\n",
      "cur_iter  2\n",
      "cur_iter  3\n",
      "cur_iter  4\n",
      "no more keyphrase available\n",
      "target_item:  2517\n",
      "58.4255738837237\n",
      "cur_iter  0\n"
     ]
    },
    {
     "name": "stderr",
     "output_type": "stream",
     "text": [
      "/Users/litos/opt/anaconda3/lib/python3.7/site-packages/scipy/sparse/_index.py:127: SparseEfficiencyWarning: Changing the sparsity structure of a csr_matrix is expensive. lil_matrix is more efficient.\n",
      "  self._set_arrayXarray(i, j, x)\n"
     ]
    },
    {
     "name": "stdout",
     "output_type": "stream",
     "text": [
      "cur_iter  1\n",
      "cur_iter  2\n",
      "cur_iter  3\n",
      "cur_iter  4\n",
      "no more keyphrase available\n",
      "target_item:  2841\n",
      "19.239814215425213\n",
      "cur_iter  0\n"
     ]
    },
    {
     "name": "stderr",
     "output_type": "stream",
     "text": [
      "/Users/litos/opt/anaconda3/lib/python3.7/site-packages/scipy/sparse/_index.py:127: SparseEfficiencyWarning: Changing the sparsity structure of a csr_matrix is expensive. lil_matrix is more efficient.\n",
      "  self._set_arrayXarray(i, j, x)\n"
     ]
    },
    {
     "name": "stdout",
     "output_type": "stream",
     "text": [
      "cur_iter  1\n",
      "cur_iter  2\n",
      "cur_iter  3\n",
      "cur_iter  4\n",
      "cur_iter  5\n",
      "cur_iter  6\n",
      "cur_iter  7\n",
      "cur_iter  8\n",
      "cur_iter  9\n",
      "target_item:  5147\n",
      "74.8824115988973\n",
      "cur_iter  0\n"
     ]
    },
    {
     "name": "stderr",
     "output_type": "stream",
     "text": [
      "/Users/litos/opt/anaconda3/lib/python3.7/site-packages/scipy/sparse/_index.py:127: SparseEfficiencyWarning: Changing the sparsity structure of a csr_matrix is expensive. lil_matrix is more efficient.\n",
      "  self._set_arrayXarray(i, j, x)\n"
     ]
    },
    {
     "name": "stdout",
     "output_type": "stream",
     "text": [
      "cur_iter  1\n",
      "no more keyphrase available\n",
      "target_item:  5280\n",
      "28.661252940384657\n",
      "cur_iter  0\n"
     ]
    },
    {
     "name": "stderr",
     "output_type": "stream",
     "text": [
      "/Users/litos/opt/anaconda3/lib/python3.7/site-packages/scipy/sparse/_index.py:127: SparseEfficiencyWarning: Changing the sparsity structure of a csr_matrix is expensive. lil_matrix is more efficient.\n",
      "  self._set_arrayXarray(i, j, x)\n"
     ]
    },
    {
     "name": "stdout",
     "output_type": "stream",
     "text": [
      "cur_iter  1\n",
      "cur_iter  2\n",
      "cur_iter  3\n",
      "cur_iter  4\n",
      "cur_iter  5\n",
      "cur_iter  6\n",
      "cur_iter  7\n",
      "cur_iter  8\n",
      "cur_iter  9\n",
      "no more keyphrase available\n",
      "User ID  308\n",
      "wanted_items length:  25\n",
      "Initial top recommendation index 5363\n",
      "target_item:  213\n",
      "88.89410041617248\n",
      "cur_iter  0\n"
     ]
    },
    {
     "name": "stderr",
     "output_type": "stream",
     "text": [
      "/Users/litos/opt/anaconda3/lib/python3.7/site-packages/scipy/sparse/_index.py:127: SparseEfficiencyWarning: Changing the sparsity structure of a csr_matrix is expensive. lil_matrix is more efficient.\n",
      "  self._set_arrayXarray(i, j, x)\n"
     ]
    },
    {
     "name": "stdout",
     "output_type": "stream",
     "text": [
      "cur_iter  1\n",
      "cur_iter  2\n",
      "cur_iter  3\n",
      "cur_iter  4\n",
      "cur_iter  5\n",
      "cur_iter  6\n",
      "no more keyphrase available\n",
      "target_item:  467\n",
      "37.03650225590991\n",
      "cur_iter  0\n"
     ]
    },
    {
     "name": "stderr",
     "output_type": "stream",
     "text": [
      "/Users/litos/opt/anaconda3/lib/python3.7/site-packages/scipy/sparse/_index.py:127: SparseEfficiencyWarning: Changing the sparsity structure of a csr_matrix is expensive. lil_matrix is more efficient.\n",
      "  self._set_arrayXarray(i, j, x)\n"
     ]
    },
    {
     "name": "stdout",
     "output_type": "stream",
     "text": [
      "cur_iter  1\n",
      "cur_iter  2\n",
      "cur_iter  3\n",
      "cur_iter  4\n",
      "cur_iter  5\n",
      "cur_iter  6\n",
      "cur_iter  7\n",
      "cur_iter  8\n",
      "cur_iter  9\n",
      "target_item:  545\n",
      "103.59009388666254\n",
      "cur_iter  0\n"
     ]
    },
    {
     "name": "stderr",
     "output_type": "stream",
     "text": [
      "/Users/litos/opt/anaconda3/lib/python3.7/site-packages/scipy/sparse/_index.py:127: SparseEfficiencyWarning: Changing the sparsity structure of a csr_matrix is expensive. lil_matrix is more efficient.\n",
      "  self._set_arrayXarray(i, j, x)\n"
     ]
    },
    {
     "name": "stdout",
     "output_type": "stream",
     "text": [
      "cur_iter  1\n",
      "cur_iter  2\n",
      "cur_iter  3\n",
      "cur_iter  4\n",
      "cur_iter  5\n",
      "cur_iter  6\n",
      "no more keyphrase available\n",
      "target_item:  637\n",
      "39.19008132070303\n",
      "cur_iter  0\n"
     ]
    },
    {
     "name": "stderr",
     "output_type": "stream",
     "text": [
      "/Users/litos/opt/anaconda3/lib/python3.7/site-packages/scipy/sparse/_index.py:127: SparseEfficiencyWarning: Changing the sparsity structure of a csr_matrix is expensive. lil_matrix is more efficient.\n",
      "  self._set_arrayXarray(i, j, x)\n"
     ]
    },
    {
     "name": "stdout",
     "output_type": "stream",
     "text": [
      "cur_iter  1\n",
      "cur_iter  2\n",
      "cur_iter  3\n",
      "cur_iter  4\n",
      "cur_iter  5\n",
      "cur_iter  6\n",
      "cur_iter  7\n",
      "cur_iter  8\n",
      "cur_iter  9\n",
      "no more keyphrase available\n",
      "target_item:  867\n",
      "105.19795162863466\n",
      "cur_iter  0\n"
     ]
    },
    {
     "name": "stderr",
     "output_type": "stream",
     "text": [
      "/Users/litos/opt/anaconda3/lib/python3.7/site-packages/scipy/sparse/_index.py:127: SparseEfficiencyWarning: Changing the sparsity structure of a csr_matrix is expensive. lil_matrix is more efficient.\n",
      "  self._set_arrayXarray(i, j, x)\n"
     ]
    },
    {
     "name": "stdout",
     "output_type": "stream",
     "text": [
      "cur_iter  1\n",
      "cur_iter  2\n",
      "cur_iter  3\n",
      "no more keyphrase available\n",
      "target_item:  870\n",
      "23.843328922499495\n",
      "cur_iter  0\n"
     ]
    },
    {
     "name": "stderr",
     "output_type": "stream",
     "text": [
      "/Users/litos/opt/anaconda3/lib/python3.7/site-packages/scipy/sparse/_index.py:127: SparseEfficiencyWarning: Changing the sparsity structure of a csr_matrix is expensive. lil_matrix is more efficient.\n",
      "  self._set_arrayXarray(i, j, x)\n"
     ]
    },
    {
     "name": "stdout",
     "output_type": "stream",
     "text": [
      "cur_iter  1\n",
      "cur_iter  2\n",
      "cur_iter  3\n",
      "cur_iter  4\n",
      "cur_iter  5\n",
      "cur_iter  6\n",
      "cur_iter  7\n",
      "cur_iter  8\n",
      "cur_iter  9\n",
      "target_item:  1244\n",
      "36.45353719609557\n",
      "cur_iter  0\n"
     ]
    },
    {
     "name": "stderr",
     "output_type": "stream",
     "text": [
      "/Users/litos/opt/anaconda3/lib/python3.7/site-packages/scipy/sparse/_index.py:127: SparseEfficiencyWarning: Changing the sparsity structure of a csr_matrix is expensive. lil_matrix is more efficient.\n",
      "  self._set_arrayXarray(i, j, x)\n"
     ]
    },
    {
     "name": "stdout",
     "output_type": "stream",
     "text": [
      "cur_iter  1\n",
      "cur_iter  2\n",
      "cur_iter  3\n",
      "cur_iter  4\n",
      "cur_iter  5\n",
      "cur_iter  6\n",
      "cur_iter  7\n",
      "cur_iter  8\n",
      "cur_iter  9\n",
      "target_item:  1608\n",
      "23.831571985541814\n",
      "cur_iter  0\n"
     ]
    },
    {
     "name": "stderr",
     "output_type": "stream",
     "text": [
      "/Users/litos/opt/anaconda3/lib/python3.7/site-packages/scipy/sparse/_index.py:127: SparseEfficiencyWarning: Changing the sparsity structure of a csr_matrix is expensive. lil_matrix is more efficient.\n",
      "  self._set_arrayXarray(i, j, x)\n"
     ]
    },
    {
     "name": "stdout",
     "output_type": "stream",
     "text": [
      "cur_iter  1\n",
      "cur_iter  2\n",
      "cur_iter  3\n",
      "cur_iter  4\n",
      "cur_iter  5\n",
      "cur_iter  6\n",
      "cur_iter  7\n",
      "cur_iter  8\n",
      "cur_iter  9\n",
      "target_item:  1784\n",
      "55.95923246296661\n",
      "cur_iter  0\n"
     ]
    },
    {
     "name": "stderr",
     "output_type": "stream",
     "text": [
      "/Users/litos/opt/anaconda3/lib/python3.7/site-packages/scipy/sparse/_index.py:127: SparseEfficiencyWarning: Changing the sparsity structure of a csr_matrix is expensive. lil_matrix is more efficient.\n",
      "  self._set_arrayXarray(i, j, x)\n"
     ]
    },
    {
     "name": "stdout",
     "output_type": "stream",
     "text": [
      "cur_iter  1\n",
      "cur_iter  2\n",
      "cur_iter  3\n",
      "cur_iter  4\n",
      "cur_iter  5\n",
      "cur_iter  6\n",
      "cur_iter  7\n",
      "cur_iter  8\n",
      "cur_iter  9\n",
      "no more keyphrase available\n",
      "target_item:  2055\n",
      "22.35365326927422\n",
      "cur_iter  0\n"
     ]
    },
    {
     "name": "stderr",
     "output_type": "stream",
     "text": [
      "/Users/litos/opt/anaconda3/lib/python3.7/site-packages/scipy/sparse/_index.py:127: SparseEfficiencyWarning: Changing the sparsity structure of a csr_matrix is expensive. lil_matrix is more efficient.\n",
      "  self._set_arrayXarray(i, j, x)\n"
     ]
    },
    {
     "name": "stdout",
     "output_type": "stream",
     "text": [
      "cur_iter  1\n",
      "cur_iter  2\n",
      "cur_iter  3\n",
      "cur_iter  4\n",
      "cur_iter  5\n",
      "cur_iter  6\n",
      "cur_iter  7\n",
      "cur_iter  8\n",
      "cur_iter  9\n",
      "target_item:  2089\n",
      "Cannot get restaurant name for ItemIndex:  2089\n",
      "60.57292299405981\n",
      "cur_iter  0\n"
     ]
    },
    {
     "name": "stderr",
     "output_type": "stream",
     "text": [
      "/Users/litos/opt/anaconda3/lib/python3.7/site-packages/scipy/sparse/_index.py:127: SparseEfficiencyWarning: Changing the sparsity structure of a csr_matrix is expensive. lil_matrix is more efficient.\n",
      "  self._set_arrayXarray(i, j, x)\n"
     ]
    },
    {
     "name": "stdout",
     "output_type": "stream",
     "text": [
      "cur_iter  1\n",
      "cur_iter  2\n",
      "cur_iter  3\n",
      "cur_iter  4\n",
      "cur_iter  5\n",
      "cur_iter  6\n",
      "cur_iter  7\n",
      "no more keyphrase available\n",
      "User ID  309\n",
      "wanted_items length:  13\n",
      "Initial top recommendation index 1652\n",
      "target_item:  179\n",
      "20.426698228108762\n",
      "cur_iter  0\n"
     ]
    },
    {
     "name": "stderr",
     "output_type": "stream",
     "text": [
      "/Users/litos/opt/anaconda3/lib/python3.7/site-packages/scipy/sparse/_index.py:127: SparseEfficiencyWarning: Changing the sparsity structure of a csr_matrix is expensive. lil_matrix is more efficient.\n",
      "  self._set_arrayXarray(i, j, x)\n"
     ]
    },
    {
     "name": "stdout",
     "output_type": "stream",
     "text": [
      "cur_iter  1\n",
      "cur_iter  2\n",
      "cur_iter  3\n",
      "cur_iter  4\n",
      "cur_iter  5\n",
      "cur_iter  6\n",
      "cur_iter  7\n",
      "cur_iter  8\n",
      "cur_iter  9\n",
      "target_item:  754\n",
      "7.658910639147507\n",
      "cur_iter  0\n"
     ]
    },
    {
     "name": "stderr",
     "output_type": "stream",
     "text": [
      "/Users/litos/opt/anaconda3/lib/python3.7/site-packages/scipy/sparse/_index.py:127: SparseEfficiencyWarning: Changing the sparsity structure of a csr_matrix is expensive. lil_matrix is more efficient.\n",
      "  self._set_arrayXarray(i, j, x)\n"
     ]
    },
    {
     "name": "stdout",
     "output_type": "stream",
     "text": [
      "cur_iter  1\n",
      "cur_iter  2\n",
      "cur_iter  3\n",
      "cur_iter  4\n",
      "cur_iter  5\n",
      "cur_iter  6\n",
      "cur_iter  7\n",
      "cur_iter  8\n",
      "cur_iter  9\n",
      "target_item:  2038\n",
      "11.06509869105139\n",
      "cur_iter  0\n"
     ]
    },
    {
     "name": "stderr",
     "output_type": "stream",
     "text": [
      "/Users/litos/opt/anaconda3/lib/python3.7/site-packages/scipy/sparse/_index.py:127: SparseEfficiencyWarning: Changing the sparsity structure of a csr_matrix is expensive. lil_matrix is more efficient.\n",
      "  self._set_arrayXarray(i, j, x)\n"
     ]
    },
    {
     "name": "stdout",
     "output_type": "stream",
     "text": [
      "cur_iter  1\n",
      "cur_iter  2\n",
      "cur_iter  3\n",
      "cur_iter  4\n",
      "cur_iter  5\n",
      "cur_iter  6\n",
      "cur_iter  7\n",
      "cur_iter  8\n",
      "cur_iter  9\n",
      "target_item:  3114\n",
      "44.025248958952034\n",
      "cur_iter  0\n"
     ]
    },
    {
     "name": "stderr",
     "output_type": "stream",
     "text": [
      "/Users/litos/opt/anaconda3/lib/python3.7/site-packages/scipy/sparse/_index.py:127: SparseEfficiencyWarning: Changing the sparsity structure of a csr_matrix is expensive. lil_matrix is more efficient.\n",
      "  self._set_arrayXarray(i, j, x)\n"
     ]
    },
    {
     "name": "stdout",
     "output_type": "stream",
     "text": [
      "cur_iter  1\n",
      "cur_iter  2\n",
      "cur_iter  3\n",
      "cur_iter  4\n",
      "cur_iter  5\n",
      "cur_iter  6\n",
      "cur_iter  7\n",
      "no more keyphrase available\n",
      "target_item:  3139\n",
      "10.253737620078937\n",
      "cur_iter  0\n"
     ]
    },
    {
     "name": "stderr",
     "output_type": "stream",
     "text": [
      "/Users/litos/opt/anaconda3/lib/python3.7/site-packages/scipy/sparse/_index.py:127: SparseEfficiencyWarning: Changing the sparsity structure of a csr_matrix is expensive. lil_matrix is more efficient.\n",
      "  self._set_arrayXarray(i, j, x)\n"
     ]
    },
    {
     "name": "stdout",
     "output_type": "stream",
     "text": [
      "cur_iter  1\n",
      "cur_iter  2\n",
      "cur_iter  3\n",
      "cur_iter  4\n",
      "cur_iter  5\n",
      "cur_iter  6\n",
      "cur_iter  7\n",
      "cur_iter  8\n",
      "cur_iter  9\n",
      "target_item:  3247\n",
      "15.957236290574656\n",
      "cur_iter  0\n"
     ]
    },
    {
     "name": "stderr",
     "output_type": "stream",
     "text": [
      "/Users/litos/opt/anaconda3/lib/python3.7/site-packages/scipy/sparse/_index.py:127: SparseEfficiencyWarning: Changing the sparsity structure of a csr_matrix is expensive. lil_matrix is more efficient.\n",
      "  self._set_arrayXarray(i, j, x)\n"
     ]
    },
    {
     "name": "stdout",
     "output_type": "stream",
     "text": [
      "cur_iter  1\n",
      "cur_iter  2\n",
      "cur_iter  3\n",
      "cur_iter  4\n",
      "cur_iter  5\n",
      "cur_iter  6\n",
      "cur_iter  7\n",
      "cur_iter  8\n",
      "cur_iter  9\n",
      "target_item:  4072\n",
      "8.91189648229647\n",
      "cur_iter  0\n"
     ]
    },
    {
     "name": "stderr",
     "output_type": "stream",
     "text": [
      "/Users/litos/opt/anaconda3/lib/python3.7/site-packages/scipy/sparse/_index.py:127: SparseEfficiencyWarning: Changing the sparsity structure of a csr_matrix is expensive. lil_matrix is more efficient.\n",
      "  self._set_arrayXarray(i, j, x)\n"
     ]
    },
    {
     "name": "stdout",
     "output_type": "stream",
     "text": [
      "cur_iter  1\n",
      "cur_iter  2\n",
      "cur_iter  3\n",
      "cur_iter  4\n",
      "cur_iter  5\n",
      "cur_iter  6\n",
      "cur_iter  7\n",
      "cur_iter  8\n",
      "cur_iter  9\n",
      "target_item:  4707\n",
      "10.642189533316014\n",
      "cur_iter  0\n"
     ]
    },
    {
     "name": "stderr",
     "output_type": "stream",
     "text": [
      "/Users/litos/opt/anaconda3/lib/python3.7/site-packages/scipy/sparse/_index.py:127: SparseEfficiencyWarning: Changing the sparsity structure of a csr_matrix is expensive. lil_matrix is more efficient.\n",
      "  self._set_arrayXarray(i, j, x)\n"
     ]
    },
    {
     "name": "stdout",
     "output_type": "stream",
     "text": [
      "cur_iter  1\n",
      "cur_iter  2\n",
      "cur_iter  3\n",
      "cur_iter  4\n",
      "cur_iter  5\n",
      "cur_iter  6\n",
      "cur_iter  7\n",
      "cur_iter  8\n",
      "cur_iter  9\n",
      "target_item:  4828\n",
      "14.520308970689257\n",
      "cur_iter  0\n"
     ]
    },
    {
     "name": "stderr",
     "output_type": "stream",
     "text": [
      "/Users/litos/opt/anaconda3/lib/python3.7/site-packages/scipy/sparse/_index.py:127: SparseEfficiencyWarning: Changing the sparsity structure of a csr_matrix is expensive. lil_matrix is more efficient.\n",
      "  self._set_arrayXarray(i, j, x)\n"
     ]
    },
    {
     "name": "stdout",
     "output_type": "stream",
     "text": [
      "cur_iter  1\n",
      "cur_iter  2\n",
      "cur_iter  3\n",
      "cur_iter  4\n",
      "cur_iter  5\n",
      "cur_iter  6\n",
      "cur_iter  7\n",
      "cur_iter  8\n",
      "cur_iter  9\n",
      "target_item:  5377\n",
      "9.660282569578158\n",
      "cur_iter  0\n"
     ]
    },
    {
     "name": "stderr",
     "output_type": "stream",
     "text": [
      "/Users/litos/opt/anaconda3/lib/python3.7/site-packages/scipy/sparse/_index.py:127: SparseEfficiencyWarning: Changing the sparsity structure of a csr_matrix is expensive. lil_matrix is more efficient.\n",
      "  self._set_arrayXarray(i, j, x)\n"
     ]
    },
    {
     "name": "stdout",
     "output_type": "stream",
     "text": [
      "cur_iter  1\n",
      "cur_iter  2\n",
      "cur_iter  3\n",
      "cur_iter  4\n",
      "cur_iter  5\n",
      "cur_iter  6\n",
      "cur_iter  7\n",
      "cur_iter  8\n",
      "cur_iter  9\n",
      "target_item:  5471\n",
      "32.35327982746912\n",
      "cur_iter  0\n"
     ]
    },
    {
     "name": "stderr",
     "output_type": "stream",
     "text": [
      "/Users/litos/opt/anaconda3/lib/python3.7/site-packages/scipy/sparse/_index.py:127: SparseEfficiencyWarning: Changing the sparsity structure of a csr_matrix is expensive. lil_matrix is more efficient.\n",
      "  self._set_arrayXarray(i, j, x)\n"
     ]
    },
    {
     "name": "stdout",
     "output_type": "stream",
     "text": [
      "cur_iter  1\n",
      "cur_iter  2\n",
      "cur_iter  3\n",
      "cur_iter  4\n",
      "cur_iter  5\n",
      "cur_iter  6\n",
      "cur_iter  7\n",
      "cur_iter  8\n",
      "no more keyphrase available\n",
      "User ID  310\n",
      "wanted_items length:  8\n",
      "Initial top recommendation index 2446\n",
      "target_item:  425\n",
      "96.03770544327506\n",
      "cur_iter  0\n",
      "no more keyphrase available\n",
      "target_item:  754\n",
      "4.520669449289926\n",
      "cur_iter  0\n"
     ]
    },
    {
     "name": "stderr",
     "output_type": "stream",
     "text": [
      "/Users/litos/opt/anaconda3/lib/python3.7/site-packages/scipy/sparse/_index.py:127: SparseEfficiencyWarning: Changing the sparsity structure of a csr_matrix is expensive. lil_matrix is more efficient.\n",
      "  self._set_arrayXarray(i, j, x)\n"
     ]
    },
    {
     "name": "stdout",
     "output_type": "stream",
     "text": [
      "cur_iter  1\n",
      "cur_iter  2\n",
      "cur_iter  3\n",
      "cur_iter  4\n",
      "cur_iter  5\n",
      "cur_iter  6\n",
      "cur_iter  7\n",
      "cur_iter  8\n",
      "cur_iter  9\n",
      "target_item:  3072\n",
      "17.66810866502965\n",
      "cur_iter  0\n"
     ]
    },
    {
     "name": "stderr",
     "output_type": "stream",
     "text": [
      "/Users/litos/opt/anaconda3/lib/python3.7/site-packages/scipy/sparse/_index.py:127: SparseEfficiencyWarning: Changing the sparsity structure of a csr_matrix is expensive. lil_matrix is more efficient.\n",
      "  self._set_arrayXarray(i, j, x)\n"
     ]
    },
    {
     "name": "stdout",
     "output_type": "stream",
     "text": [
      "cur_iter  1\n",
      "cur_iter  2\n",
      "cur_iter  3\n",
      "cur_iter  4\n",
      "cur_iter  5\n",
      "cur_iter  6\n",
      "cur_iter  7\n",
      "no more keyphrase available\n",
      "target_item:  3964\n",
      "14.871176776441644\n",
      "cur_iter  0\n"
     ]
    },
    {
     "name": "stderr",
     "output_type": "stream",
     "text": [
      "/Users/litos/opt/anaconda3/lib/python3.7/site-packages/scipy/sparse/_index.py:127: SparseEfficiencyWarning: Changing the sparsity structure of a csr_matrix is expensive. lil_matrix is more efficient.\n",
      "  self._set_arrayXarray(i, j, x)\n"
     ]
    },
    {
     "name": "stdout",
     "output_type": "stream",
     "text": [
      "cur_iter  1\n",
      "cur_iter  2\n",
      "cur_iter  3\n",
      "cur_iter  4\n",
      "cur_iter  5\n",
      "cur_iter  6\n",
      "cur_iter  7\n",
      "cur_iter  8\n",
      "cur_iter  9\n",
      "no more keyphrase available\n",
      "target_item:  4582\n",
      "12.442088107748873\n",
      "cur_iter  0\n"
     ]
    },
    {
     "name": "stderr",
     "output_type": "stream",
     "text": [
      "/Users/litos/opt/anaconda3/lib/python3.7/site-packages/scipy/sparse/_index.py:127: SparseEfficiencyWarning: Changing the sparsity structure of a csr_matrix is expensive. lil_matrix is more efficient.\n",
      "  self._set_arrayXarray(i, j, x)\n"
     ]
    },
    {
     "name": "stdout",
     "output_type": "stream",
     "text": [
      "cur_iter  1\n",
      "cur_iter  2\n",
      "cur_iter  3\n",
      "cur_iter  4\n",
      "cur_iter  5\n",
      "cur_iter  6\n",
      "cur_iter  7\n",
      "cur_iter  8\n",
      "cur_iter  9\n",
      "target_item:  4799\n",
      "11.573109008075335\n",
      "cur_iter  0\n"
     ]
    },
    {
     "name": "stderr",
     "output_type": "stream",
     "text": [
      "/Users/litos/opt/anaconda3/lib/python3.7/site-packages/scipy/sparse/_index.py:127: SparseEfficiencyWarning: Changing the sparsity structure of a csr_matrix is expensive. lil_matrix is more efficient.\n",
      "  self._set_arrayXarray(i, j, x)\n"
     ]
    },
    {
     "name": "stdout",
     "output_type": "stream",
     "text": [
      "cur_iter  1\n",
      "cur_iter  2\n",
      "cur_iter  3\n",
      "cur_iter  4\n",
      "cur_iter  5\n",
      "cur_iter  6\n",
      "cur_iter  7\n",
      "cur_iter  8\n",
      "cur_iter  9\n",
      "target_item:  7100\n",
      "3.5701335168378137\n",
      "cur_iter  0\n"
     ]
    },
    {
     "name": "stderr",
     "output_type": "stream",
     "text": [
      "/Users/litos/opt/anaconda3/lib/python3.7/site-packages/scipy/sparse/_index.py:127: SparseEfficiencyWarning: Changing the sparsity structure of a csr_matrix is expensive. lil_matrix is more efficient.\n",
      "  self._set_arrayXarray(i, j, x)\n"
     ]
    },
    {
     "name": "stdout",
     "output_type": "stream",
     "text": [
      "cur_iter  1\n",
      "cur_iter  2\n",
      "cur_iter  3\n",
      "cur_iter  4\n",
      "cur_iter  5\n",
      "cur_iter  6\n",
      "cur_iter  7\n",
      "cur_iter  8\n",
      "cur_iter  9\n",
      "target_item:  7445\n",
      "23.07169413848112\n",
      "cur_iter  0\n"
     ]
    },
    {
     "name": "stderr",
     "output_type": "stream",
     "text": [
      "/Users/litos/opt/anaconda3/lib/python3.7/site-packages/scipy/sparse/_index.py:127: SparseEfficiencyWarning: Changing the sparsity structure of a csr_matrix is expensive. lil_matrix is more efficient.\n",
      "  self._set_arrayXarray(i, j, x)\n"
     ]
    },
    {
     "name": "stdout",
     "output_type": "stream",
     "text": [
      "cur_iter  1\n",
      "cur_iter  2\n",
      "cur_iter  3\n",
      "cur_iter  4\n",
      "cur_iter  5\n",
      "cur_iter  6\n",
      "no more keyphrase available\n",
      "User ID  311\n",
      "wanted_items length:  6\n",
      "Initial top recommendation index 3997\n",
      "target_item:  279\n",
      "3.6932988268463305\n",
      "cur_iter  0\n"
     ]
    },
    {
     "name": "stderr",
     "output_type": "stream",
     "text": [
      "/Users/litos/opt/anaconda3/lib/python3.7/site-packages/scipy/sparse/_index.py:127: SparseEfficiencyWarning: Changing the sparsity structure of a csr_matrix is expensive. lil_matrix is more efficient.\n",
      "  self._set_arrayXarray(i, j, x)\n"
     ]
    },
    {
     "name": "stdout",
     "output_type": "stream",
     "text": [
      "cur_iter  1\n",
      "cur_iter  2\n",
      "cur_iter  3\n",
      "cur_iter  4\n",
      "cur_iter  5\n",
      "cur_iter  6\n",
      "cur_iter  7\n",
      "cur_iter  8\n",
      "cur_iter  9\n",
      "target_item:  2089\n",
      "Cannot get restaurant name for ItemIndex:  2089\n",
      "4.728052205559834\n",
      "cur_iter  0\n"
     ]
    },
    {
     "name": "stderr",
     "output_type": "stream",
     "text": [
      "/Users/litos/opt/anaconda3/lib/python3.7/site-packages/scipy/sparse/_index.py:127: SparseEfficiencyWarning: Changing the sparsity structure of a csr_matrix is expensive. lil_matrix is more efficient.\n",
      "  self._set_arrayXarray(i, j, x)\n"
     ]
    },
    {
     "name": "stdout",
     "output_type": "stream",
     "text": [
      "cur_iter  1\n",
      "cur_iter  2\n",
      "cur_iter  3\n",
      "cur_iter  4\n",
      "cur_iter  5\n",
      "cur_iter  6\n",
      "cur_iter  7\n",
      "cur_iter  8\n",
      "cur_iter  9\n",
      "target_item:  3229\n",
      "3.494613359042887\n",
      "cur_iter  0\n"
     ]
    },
    {
     "name": "stderr",
     "output_type": "stream",
     "text": [
      "/Users/litos/opt/anaconda3/lib/python3.7/site-packages/scipy/sparse/_index.py:127: SparseEfficiencyWarning: Changing the sparsity structure of a csr_matrix is expensive. lil_matrix is more efficient.\n",
      "  self._set_arrayXarray(i, j, x)\n"
     ]
    },
    {
     "name": "stdout",
     "output_type": "stream",
     "text": [
      "cur_iter  1\n",
      "cur_iter  2\n",
      "cur_iter  3\n",
      "cur_iter  4\n",
      "cur_iter  5\n",
      "cur_iter  6\n",
      "cur_iter  7\n",
      "cur_iter  8\n",
      "cur_iter  9\n",
      "target_item:  6437\n",
      "4.422369961989716\n",
      "cur_iter  0\n"
     ]
    },
    {
     "name": "stderr",
     "output_type": "stream",
     "text": [
      "/Users/litos/opt/anaconda3/lib/python3.7/site-packages/scipy/sparse/_index.py:127: SparseEfficiencyWarning: Changing the sparsity structure of a csr_matrix is expensive. lil_matrix is more efficient.\n",
      "  self._set_arrayXarray(i, j, x)\n"
     ]
    },
    {
     "name": "stdout",
     "output_type": "stream",
     "text": [
      "cur_iter  1\n",
      "cur_iter  2\n",
      "cur_iter  3\n",
      "cur_iter  4\n",
      "cur_iter  5\n",
      "cur_iter  6\n",
      "cur_iter  7\n",
      "cur_iter  8\n",
      "cur_iter  9\n",
      "target_item:  6735\n",
      "3.7441837813148595\n",
      "cur_iter  0\n"
     ]
    },
    {
     "name": "stderr",
     "output_type": "stream",
     "text": [
      "/Users/litos/opt/anaconda3/lib/python3.7/site-packages/scipy/sparse/_index.py:127: SparseEfficiencyWarning: Changing the sparsity structure of a csr_matrix is expensive. lil_matrix is more efficient.\n",
      "  self._set_arrayXarray(i, j, x)\n"
     ]
    },
    {
     "name": "stdout",
     "output_type": "stream",
     "text": [
      "cur_iter  1\n",
      "cur_iter  2\n",
      "cur_iter  3\n",
      "cur_iter  4\n",
      "cur_iter  5\n",
      "cur_iter  6\n",
      "cur_iter  7\n",
      "cur_iter  8\n",
      "cur_iter  9\n",
      "target_item:  7427\n",
      "3.3181694241775403\n",
      "cur_iter  0\n"
     ]
    },
    {
     "name": "stderr",
     "output_type": "stream",
     "text": [
      "/Users/litos/opt/anaconda3/lib/python3.7/site-packages/scipy/sparse/_index.py:127: SparseEfficiencyWarning: Changing the sparsity structure of a csr_matrix is expensive. lil_matrix is more efficient.\n",
      "  self._set_arrayXarray(i, j, x)\n"
     ]
    },
    {
     "name": "stdout",
     "output_type": "stream",
     "text": [
      "cur_iter  1\n",
      "cur_iter  2\n",
      "cur_iter  3\n",
      "cur_iter  4\n",
      "cur_iter  5\n",
      "cur_iter  6\n",
      "cur_iter  7\n",
      "cur_iter  8\n",
      "cur_iter  9\n",
      "User ID  312\n",
      "wanted_items length:  9\n",
      "Initial top recommendation index 6454\n",
      "target_item:  75\n",
      "14.670108846645235\n",
      "cur_iter  0\n"
     ]
    },
    {
     "name": "stderr",
     "output_type": "stream",
     "text": [
      "/Users/litos/opt/anaconda3/lib/python3.7/site-packages/scipy/sparse/_index.py:127: SparseEfficiencyWarning: Changing the sparsity structure of a csr_matrix is expensive. lil_matrix is more efficient.\n",
      "  self._set_arrayXarray(i, j, x)\n"
     ]
    },
    {
     "name": "stdout",
     "output_type": "stream",
     "text": [
      "cur_iter  1\n",
      "cur_iter  2\n",
      "cur_iter  3\n",
      "cur_iter  4\n",
      "cur_iter  5\n",
      "cur_iter  6\n",
      "cur_iter  7\n",
      "cur_iter  8\n",
      "cur_iter  9\n",
      "target_item:  299\n",
      "11.118075859039891\n",
      "cur_iter  0\n"
     ]
    },
    {
     "name": "stderr",
     "output_type": "stream",
     "text": [
      "/Users/litos/opt/anaconda3/lib/python3.7/site-packages/scipy/sparse/_index.py:127: SparseEfficiencyWarning: Changing the sparsity structure of a csr_matrix is expensive. lil_matrix is more efficient.\n",
      "  self._set_arrayXarray(i, j, x)\n"
     ]
    },
    {
     "name": "stdout",
     "output_type": "stream",
     "text": [
      "cur_iter  1\n",
      "cur_iter  2\n",
      "cur_iter  3\n",
      "cur_iter  4\n",
      "cur_iter  5\n",
      "cur_iter  6\n",
      "cur_iter  7\n",
      "cur_iter  8\n",
      "cur_iter  9\n",
      "target_item:  2341\n",
      "6.331110694945892\n",
      "cur_iter  0\n"
     ]
    },
    {
     "name": "stderr",
     "output_type": "stream",
     "text": [
      "/Users/litos/opt/anaconda3/lib/python3.7/site-packages/scipy/sparse/_index.py:127: SparseEfficiencyWarning: Changing the sparsity structure of a csr_matrix is expensive. lil_matrix is more efficient.\n",
      "  self._set_arrayXarray(i, j, x)\n"
     ]
    },
    {
     "name": "stdout",
     "output_type": "stream",
     "text": [
      "cur_iter  1\n",
      "cur_iter  2\n",
      "cur_iter  3\n",
      "cur_iter  4\n",
      "cur_iter  5\n",
      "cur_iter  6\n",
      "cur_iter  7\n",
      "cur_iter  8\n",
      "cur_iter  9\n",
      "target_item:  3718\n",
      "6.7051970014817925\n",
      "cur_iter  0\n"
     ]
    },
    {
     "name": "stderr",
     "output_type": "stream",
     "text": [
      "/Users/litos/opt/anaconda3/lib/python3.7/site-packages/scipy/sparse/_index.py:127: SparseEfficiencyWarning: Changing the sparsity structure of a csr_matrix is expensive. lil_matrix is more efficient.\n",
      "  self._set_arrayXarray(i, j, x)\n"
     ]
    },
    {
     "name": "stdout",
     "output_type": "stream",
     "text": [
      "cur_iter  1\n",
      "cur_iter  2\n",
      "cur_iter  3\n",
      "cur_iter  4\n",
      "cur_iter  5\n",
      "cur_iter  6\n",
      "cur_iter  7\n",
      "cur_iter  8\n",
      "cur_iter  9\n",
      "target_item:  5144\n",
      "14.395529343999442\n",
      "cur_iter  0\n"
     ]
    },
    {
     "name": "stderr",
     "output_type": "stream",
     "text": [
      "/Users/litos/opt/anaconda3/lib/python3.7/site-packages/scipy/sparse/_index.py:127: SparseEfficiencyWarning: Changing the sparsity structure of a csr_matrix is expensive. lil_matrix is more efficient.\n",
      "  self._set_arrayXarray(i, j, x)\n"
     ]
    },
    {
     "name": "stdout",
     "output_type": "stream",
     "text": [
      "cur_iter  1\n",
      "cur_iter  2\n",
      "cur_iter  3\n",
      "cur_iter  4\n",
      "cur_iter  5\n",
      "cur_iter  6\n",
      "cur_iter  7\n",
      "cur_iter  8\n",
      "cur_iter  9\n",
      "no more keyphrase available\n",
      "target_item:  5402\n",
      "8.1644408370895\n",
      "cur_iter  0\n"
     ]
    },
    {
     "name": "stderr",
     "output_type": "stream",
     "text": [
      "/Users/litos/opt/anaconda3/lib/python3.7/site-packages/scipy/sparse/_index.py:127: SparseEfficiencyWarning: Changing the sparsity structure of a csr_matrix is expensive. lil_matrix is more efficient.\n",
      "  self._set_arrayXarray(i, j, x)\n"
     ]
    },
    {
     "name": "stdout",
     "output_type": "stream",
     "text": [
      "cur_iter  1\n",
      "cur_iter  2\n",
      "cur_iter  3\n",
      "cur_iter  4\n",
      "cur_iter  5\n",
      "cur_iter  6\n",
      "cur_iter  7\n",
      "cur_iter  8\n",
      "cur_iter  9\n",
      "target_item:  5784\n",
      "8.43345702962506\n",
      "cur_iter  0\n"
     ]
    },
    {
     "name": "stderr",
     "output_type": "stream",
     "text": [
      "/Users/litos/opt/anaconda3/lib/python3.7/site-packages/scipy/sparse/_index.py:127: SparseEfficiencyWarning: Changing the sparsity structure of a csr_matrix is expensive. lil_matrix is more efficient.\n",
      "  self._set_arrayXarray(i, j, x)\n"
     ]
    },
    {
     "name": "stdout",
     "output_type": "stream",
     "text": [
      "cur_iter  1\n",
      "cur_iter  2\n",
      "cur_iter  3\n",
      "cur_iter  4\n",
      "cur_iter  5\n",
      "cur_iter  6\n",
      "cur_iter  7\n",
      "cur_iter  8\n",
      "cur_iter  9\n",
      "target_item:  6508\n",
      "22.52788478610921\n",
      "cur_iter  0\n"
     ]
    },
    {
     "name": "stderr",
     "output_type": "stream",
     "text": [
      "/Users/litos/opt/anaconda3/lib/python3.7/site-packages/scipy/sparse/_index.py:127: SparseEfficiencyWarning: Changing the sparsity structure of a csr_matrix is expensive. lil_matrix is more efficient.\n",
      "  self._set_arrayXarray(i, j, x)\n"
     ]
    },
    {
     "name": "stdout",
     "output_type": "stream",
     "text": [
      "cur_iter  1\n",
      "cur_iter  2\n",
      "cur_iter  3\n",
      "cur_iter  4\n",
      "cur_iter  5\n",
      "cur_iter  6\n",
      "cur_iter  7\n",
      "cur_iter  8\n",
      "cur_iter  9\n",
      "target_item:  6739\n",
      "8.339530290819312\n",
      "cur_iter  0\n"
     ]
    },
    {
     "name": "stderr",
     "output_type": "stream",
     "text": [
      "/Users/litos/opt/anaconda3/lib/python3.7/site-packages/scipy/sparse/_index.py:127: SparseEfficiencyWarning: Changing the sparsity structure of a csr_matrix is expensive. lil_matrix is more efficient.\n",
      "  self._set_arrayXarray(i, j, x)\n"
     ]
    },
    {
     "name": "stdout",
     "output_type": "stream",
     "text": [
      "cur_iter  1\n",
      "cur_iter  2\n",
      "cur_iter  3\n",
      "cur_iter  4\n",
      "cur_iter  5\n",
      "cur_iter  6\n",
      "cur_iter  7\n",
      "cur_iter  8\n",
      "cur_iter  9\n",
      "User ID  313\n",
      "wanted_items length:  6\n",
      "Initial top recommendation index 6688\n",
      "target_item:  957\n",
      "29.79583747288507\n",
      "cur_iter  0\n"
     ]
    },
    {
     "name": "stderr",
     "output_type": "stream",
     "text": [
      "/Users/litos/opt/anaconda3/lib/python3.7/site-packages/scipy/sparse/_index.py:127: SparseEfficiencyWarning: Changing the sparsity structure of a csr_matrix is expensive. lil_matrix is more efficient.\n",
      "  self._set_arrayXarray(i, j, x)\n"
     ]
    },
    {
     "name": "stdout",
     "output_type": "stream",
     "text": [
      "cur_iter  1\n",
      "cur_iter  2\n",
      "no more keyphrase available\n",
      "target_item:  1392\n",
      "7.005493033048424\n",
      "cur_iter  0\n"
     ]
    },
    {
     "name": "stderr",
     "output_type": "stream",
     "text": [
      "/Users/litos/opt/anaconda3/lib/python3.7/site-packages/scipy/sparse/_index.py:127: SparseEfficiencyWarning: Changing the sparsity structure of a csr_matrix is expensive. lil_matrix is more efficient.\n",
      "  self._set_arrayXarray(i, j, x)\n"
     ]
    },
    {
     "name": "stdout",
     "output_type": "stream",
     "text": [
      "cur_iter  1\n",
      "cur_iter  2\n",
      "cur_iter  3\n",
      "cur_iter  4\n",
      "cur_iter  5\n",
      "cur_iter  6\n",
      "cur_iter  7\n",
      "cur_iter  8\n",
      "cur_iter  9\n",
      "target_item:  1548\n",
      "3.0847849564643184\n",
      "cur_iter  0\n"
     ]
    },
    {
     "name": "stderr",
     "output_type": "stream",
     "text": [
      "/Users/litos/opt/anaconda3/lib/python3.7/site-packages/scipy/sparse/_index.py:127: SparseEfficiencyWarning: Changing the sparsity structure of a csr_matrix is expensive. lil_matrix is more efficient.\n",
      "  self._set_arrayXarray(i, j, x)\n"
     ]
    },
    {
     "name": "stdout",
     "output_type": "stream",
     "text": [
      "cur_iter  1\n",
      "cur_iter  2\n",
      "cur_iter  3\n",
      "cur_iter  4\n",
      "cur_iter  5\n",
      "cur_iter  6\n",
      "cur_iter  7\n",
      "cur_iter  8\n",
      "cur_iter  9\n",
      "target_item:  4952\n",
      "5.3100821481407365\n",
      "cur_iter  0\n"
     ]
    },
    {
     "name": "stderr",
     "output_type": "stream",
     "text": [
      "/Users/litos/opt/anaconda3/lib/python3.7/site-packages/scipy/sparse/_index.py:127: SparseEfficiencyWarning: Changing the sparsity structure of a csr_matrix is expensive. lil_matrix is more efficient.\n",
      "  self._set_arrayXarray(i, j, x)\n"
     ]
    },
    {
     "name": "stdout",
     "output_type": "stream",
     "text": [
      "cur_iter  1\n",
      "cur_iter  2\n",
      "cur_iter  3\n",
      "cur_iter  4\n",
      "cur_iter  5\n",
      "cur_iter  6\n",
      "cur_iter  7\n",
      "cur_iter  8\n",
      "cur_iter  9\n",
      "target_item:  5478\n",
      "6.591252339082075\n",
      "cur_iter  0\n"
     ]
    },
    {
     "name": "stderr",
     "output_type": "stream",
     "text": [
      "/Users/litos/opt/anaconda3/lib/python3.7/site-packages/scipy/sparse/_index.py:127: SparseEfficiencyWarning: Changing the sparsity structure of a csr_matrix is expensive. lil_matrix is more efficient.\n",
      "  self._set_arrayXarray(i, j, x)\n"
     ]
    },
    {
     "name": "stdout",
     "output_type": "stream",
     "text": [
      "cur_iter  1\n",
      "cur_iter  2\n",
      "cur_iter  3\n",
      "cur_iter  4\n",
      "cur_iter  5\n",
      "cur_iter  6\n",
      "cur_iter  7\n",
      "cur_iter  8\n",
      "cur_iter  9\n",
      "target_item:  6717\n",
      "4.649172835438549\n",
      "cur_iter  0\n"
     ]
    },
    {
     "name": "stderr",
     "output_type": "stream",
     "text": [
      "/Users/litos/opt/anaconda3/lib/python3.7/site-packages/scipy/sparse/_index.py:127: SparseEfficiencyWarning: Changing the sparsity structure of a csr_matrix is expensive. lil_matrix is more efficient.\n",
      "  self._set_arrayXarray(i, j, x)\n"
     ]
    },
    {
     "name": "stdout",
     "output_type": "stream",
     "text": [
      "cur_iter  1\n",
      "cur_iter  2\n",
      "cur_iter  3\n",
      "cur_iter  4\n",
      "cur_iter  5\n",
      "cur_iter  6\n",
      "cur_iter  7\n",
      "cur_iter  8\n",
      "cur_iter  9\n",
      "User ID  314\n",
      "wanted_items length:  36\n",
      "Initial top recommendation index 3377\n",
      "target_item:  20\n",
      "17.416249928728575\n",
      "cur_iter  0\n"
     ]
    },
    {
     "name": "stderr",
     "output_type": "stream",
     "text": [
      "/Users/litos/opt/anaconda3/lib/python3.7/site-packages/scipy/sparse/_index.py:127: SparseEfficiencyWarning: Changing the sparsity structure of a csr_matrix is expensive. lil_matrix is more efficient.\n",
      "  self._set_arrayXarray(i, j, x)\n"
     ]
    },
    {
     "name": "stdout",
     "output_type": "stream",
     "text": [
      "cur_iter  1\n",
      "cur_iter  2\n",
      "cur_iter  3\n",
      "cur_iter  4\n",
      "cur_iter  5\n",
      "cur_iter  6\n",
      "cur_iter  7\n",
      "cur_iter  8\n",
      "cur_iter  9\n",
      "target_item:  42\n",
      "Cannot get restaurant name for ItemIndex:  42\n",
      "454.2394997584943\n",
      "cur_iter  0\n",
      "no more keyphrase available\n",
      "target_item:  53\n",
      "39.15754373705022\n",
      "cur_iter  0\n"
     ]
    },
    {
     "name": "stderr",
     "output_type": "stream",
     "text": [
      "/Users/litos/opt/anaconda3/lib/python3.7/site-packages/ipykernel_launcher.py:33: RuntimeWarning: invalid value encountered in true_divide\n",
      "/Users/litos/opt/anaconda3/lib/python3.7/site-packages/scipy/sparse/_index.py:127: SparseEfficiencyWarning: Changing the sparsity structure of a csr_matrix is expensive. lil_matrix is more efficient.\n",
      "  self._set_arrayXarray(i, j, x)\n"
     ]
    },
    {
     "name": "stdout",
     "output_type": "stream",
     "text": [
      "cur_iter  1\n",
      "cur_iter  2\n",
      "cur_iter  3\n",
      "cur_iter  4\n",
      "cur_iter  5\n",
      "cur_iter  6\n",
      "cur_iter  7\n",
      "cur_iter  8\n",
      "cur_iter  9\n",
      "no more keyphrase available\n",
      "target_item:  84\n",
      "14.08180982130034\n",
      "cur_iter  0\n"
     ]
    },
    {
     "name": "stderr",
     "output_type": "stream",
     "text": [
      "/Users/litos/opt/anaconda3/lib/python3.7/site-packages/scipy/sparse/_index.py:127: SparseEfficiencyWarning: Changing the sparsity structure of a csr_matrix is expensive. lil_matrix is more efficient.\n",
      "  self._set_arrayXarray(i, j, x)\n"
     ]
    },
    {
     "name": "stdout",
     "output_type": "stream",
     "text": [
      "cur_iter  1\n",
      "cur_iter  2\n",
      "cur_iter  3\n",
      "cur_iter  4\n",
      "cur_iter  5\n",
      "cur_iter  6\n",
      "cur_iter  7\n",
      "cur_iter  8\n",
      "cur_iter  9\n",
      "target_item:  774\n",
      "9.658901339631484\n",
      "cur_iter  0\n"
     ]
    },
    {
     "name": "stderr",
     "output_type": "stream",
     "text": [
      "/Users/litos/opt/anaconda3/lib/python3.7/site-packages/scipy/sparse/_index.py:127: SparseEfficiencyWarning: Changing the sparsity structure of a csr_matrix is expensive. lil_matrix is more efficient.\n",
      "  self._set_arrayXarray(i, j, x)\n"
     ]
    },
    {
     "name": "stdout",
     "output_type": "stream",
     "text": [
      "cur_iter  1\n",
      "cur_iter  2\n",
      "cur_iter  3\n",
      "cur_iter  4\n",
      "cur_iter  5\n",
      "cur_iter  6\n",
      "cur_iter  7\n",
      "cur_iter  8\n",
      "cur_iter  9\n",
      "target_item:  818\n",
      "14.58834891591141\n",
      "cur_iter  0\n"
     ]
    },
    {
     "name": "stderr",
     "output_type": "stream",
     "text": [
      "/Users/litos/opt/anaconda3/lib/python3.7/site-packages/scipy/sparse/_index.py:127: SparseEfficiencyWarning: Changing the sparsity structure of a csr_matrix is expensive. lil_matrix is more efficient.\n",
      "  self._set_arrayXarray(i, j, x)\n"
     ]
    },
    {
     "name": "stdout",
     "output_type": "stream",
     "text": [
      "cur_iter  1\n",
      "cur_iter  2\n",
      "cur_iter  3\n",
      "cur_iter  4\n",
      "cur_iter  5\n",
      "cur_iter  6\n",
      "cur_iter  7\n",
      "cur_iter  8\n",
      "cur_iter  9\n",
      "target_item:  868\n",
      "25.45731338346559\n",
      "cur_iter  0\n"
     ]
    },
    {
     "name": "stderr",
     "output_type": "stream",
     "text": [
      "/Users/litos/opt/anaconda3/lib/python3.7/site-packages/scipy/sparse/_index.py:127: SparseEfficiencyWarning: Changing the sparsity structure of a csr_matrix is expensive. lil_matrix is more efficient.\n",
      "  self._set_arrayXarray(i, j, x)\n"
     ]
    },
    {
     "name": "stdout",
     "output_type": "stream",
     "text": [
      "cur_iter  1\n",
      "cur_iter  2\n",
      "cur_iter  3\n",
      "cur_iter  4\n",
      "cur_iter  5\n",
      "cur_iter  6\n",
      "cur_iter  7\n",
      "cur_iter  8\n",
      "cur_iter  9\n",
      "target_item:  991\n",
      "454.2394997584943\n",
      "cur_iter  0\n",
      "no more keyphrase available\n",
      "target_item:  1063\n",
      "14.983971552481307\n",
      "cur_iter  0\n"
     ]
    },
    {
     "name": "stderr",
     "output_type": "stream",
     "text": [
      "/Users/litos/opt/anaconda3/lib/python3.7/site-packages/scipy/sparse/_index.py:127: SparseEfficiencyWarning: Changing the sparsity structure of a csr_matrix is expensive. lil_matrix is more efficient.\n",
      "  self._set_arrayXarray(i, j, x)\n"
     ]
    },
    {
     "name": "stdout",
     "output_type": "stream",
     "text": [
      "cur_iter  1\n",
      "cur_iter  2\n",
      "cur_iter  3\n",
      "cur_iter  4\n",
      "cur_iter  5\n",
      "cur_iter  6\n",
      "cur_iter  7\n",
      "cur_iter  8\n",
      "cur_iter  9\n",
      "target_item:  1726\n",
      "20.160437874832496\n",
      "cur_iter  0\n"
     ]
    },
    {
     "name": "stderr",
     "output_type": "stream",
     "text": [
      "/Users/litos/opt/anaconda3/lib/python3.7/site-packages/scipy/sparse/_index.py:127: SparseEfficiencyWarning: Changing the sparsity structure of a csr_matrix is expensive. lil_matrix is more efficient.\n",
      "  self._set_arrayXarray(i, j, x)\n"
     ]
    },
    {
     "name": "stdout",
     "output_type": "stream",
     "text": [
      "cur_iter  1\n",
      "cur_iter  2\n",
      "cur_iter  3\n",
      "cur_iter  4\n",
      "cur_iter  5\n",
      "cur_iter  6\n",
      "cur_iter  7\n",
      "cur_iter  8\n",
      "cur_iter  9\n",
      "target_item:  1858\n",
      "12.34540879173619\n",
      "cur_iter  0\n"
     ]
    },
    {
     "name": "stderr",
     "output_type": "stream",
     "text": [
      "/Users/litos/opt/anaconda3/lib/python3.7/site-packages/scipy/sparse/_index.py:127: SparseEfficiencyWarning: Changing the sparsity structure of a csr_matrix is expensive. lil_matrix is more efficient.\n",
      "  self._set_arrayXarray(i, j, x)\n"
     ]
    },
    {
     "name": "stdout",
     "output_type": "stream",
     "text": [
      "cur_iter  1\n",
      "cur_iter  2\n",
      "cur_iter  3\n",
      "cur_iter  4\n",
      "cur_iter  5\n",
      "cur_iter  6\n",
      "cur_iter  7\n",
      "cur_iter  8\n",
      "cur_iter  9\n",
      "User ID  315\n",
      "wanted_items length:  12\n",
      "Initial top recommendation index 5659\n",
      "target_item:  488\n",
      "59.324331106807165\n",
      "cur_iter  0\n"
     ]
    },
    {
     "name": "stderr",
     "output_type": "stream",
     "text": [
      "/Users/litos/opt/anaconda3/lib/python3.7/site-packages/scipy/sparse/_index.py:127: SparseEfficiencyWarning: Changing the sparsity structure of a csr_matrix is expensive. lil_matrix is more efficient.\n",
      "  self._set_arrayXarray(i, j, x)\n"
     ]
    },
    {
     "name": "stdout",
     "output_type": "stream",
     "text": [
      "cur_iter  1\n",
      "cur_iter  2\n",
      "cur_iter  3\n",
      "cur_iter  4\n",
      "cur_iter  5\n",
      "no more keyphrase available\n",
      "target_item:  1202\n",
      "77.69506441187326\n",
      "cur_iter  0\n"
     ]
    },
    {
     "name": "stderr",
     "output_type": "stream",
     "text": [
      "/Users/litos/opt/anaconda3/lib/python3.7/site-packages/scipy/sparse/_index.py:127: SparseEfficiencyWarning: Changing the sparsity structure of a csr_matrix is expensive. lil_matrix is more efficient.\n",
      "  self._set_arrayXarray(i, j, x)\n"
     ]
    },
    {
     "name": "stdout",
     "output_type": "stream",
     "text": [
      "cur_iter  1\n",
      "cur_iter  2\n",
      "cur_iter  3\n",
      "no more keyphrase available\n",
      "target_item:  1218\n",
      "35.16956783845302\n",
      "cur_iter  0\n"
     ]
    },
    {
     "name": "stderr",
     "output_type": "stream",
     "text": [
      "/Users/litos/opt/anaconda3/lib/python3.7/site-packages/scipy/sparse/_index.py:127: SparseEfficiencyWarning: Changing the sparsity structure of a csr_matrix is expensive. lil_matrix is more efficient.\n",
      "  self._set_arrayXarray(i, j, x)\n"
     ]
    },
    {
     "name": "stdout",
     "output_type": "stream",
     "text": [
      "cur_iter  1\n",
      "cur_iter  2\n",
      "cur_iter  3\n",
      "cur_iter  4\n",
      "cur_iter  5\n",
      "cur_iter  6\n",
      "cur_iter  7\n",
      "cur_iter  8\n",
      "no more keyphrase available\n",
      "target_item:  2729\n",
      "20.050842472932345\n",
      "cur_iter  0\n"
     ]
    },
    {
     "name": "stderr",
     "output_type": "stream",
     "text": [
      "/Users/litos/opt/anaconda3/lib/python3.7/site-packages/scipy/sparse/_index.py:127: SparseEfficiencyWarning: Changing the sparsity structure of a csr_matrix is expensive. lil_matrix is more efficient.\n",
      "  self._set_arrayXarray(i, j, x)\n"
     ]
    },
    {
     "name": "stdout",
     "output_type": "stream",
     "text": [
      "cur_iter  1\n",
      "cur_iter  2\n",
      "cur_iter  3\n",
      "cur_iter  4\n",
      "cur_iter  5\n",
      "cur_iter  6\n",
      "cur_iter  7\n",
      "cur_iter  8\n",
      "cur_iter  9\n",
      "target_item:  3040\n",
      "45.70931584977916\n",
      "cur_iter  0\n"
     ]
    },
    {
     "name": "stderr",
     "output_type": "stream",
     "text": [
      "/Users/litos/opt/anaconda3/lib/python3.7/site-packages/scipy/sparse/_index.py:127: SparseEfficiencyWarning: Changing the sparsity structure of a csr_matrix is expensive. lil_matrix is more efficient.\n",
      "  self._set_arrayXarray(i, j, x)\n"
     ]
    },
    {
     "name": "stdout",
     "output_type": "stream",
     "text": [
      "cur_iter  1\n",
      "cur_iter  2\n",
      "cur_iter  3\n",
      "cur_iter  4\n",
      "cur_iter  5\n",
      "cur_iter  6\n",
      "cur_iter  7\n",
      "cur_iter  8\n",
      "no more keyphrase available\n",
      "target_item:  4034\n",
      "30.35403702743315\n",
      "cur_iter  0\n"
     ]
    },
    {
     "name": "stderr",
     "output_type": "stream",
     "text": [
      "/Users/litos/opt/anaconda3/lib/python3.7/site-packages/scipy/sparse/_index.py:127: SparseEfficiencyWarning: Changing the sparsity structure of a csr_matrix is expensive. lil_matrix is more efficient.\n",
      "  self._set_arrayXarray(i, j, x)\n"
     ]
    },
    {
     "name": "stdout",
     "output_type": "stream",
     "text": [
      "cur_iter  1\n",
      "cur_iter  2\n",
      "cur_iter  3\n",
      "cur_iter  4\n",
      "cur_iter  5\n",
      "cur_iter  6\n",
      "cur_iter  7\n",
      "cur_iter  8\n",
      "cur_iter  9\n",
      "target_item:  5820\n",
      "37.961325457772546\n",
      "cur_iter  0\n"
     ]
    },
    {
     "name": "stderr",
     "output_type": "stream",
     "text": [
      "/Users/litos/opt/anaconda3/lib/python3.7/site-packages/scipy/sparse/_index.py:127: SparseEfficiencyWarning: Changing the sparsity structure of a csr_matrix is expensive. lil_matrix is more efficient.\n",
      "  self._set_arrayXarray(i, j, x)\n"
     ]
    },
    {
     "name": "stdout",
     "output_type": "stream",
     "text": [
      "cur_iter  1\n",
      "cur_iter  2\n",
      "cur_iter  3\n",
      "cur_iter  4\n",
      "cur_iter  5\n",
      "cur_iter  6\n",
      "cur_iter  7\n",
      "cur_iter  8\n",
      "cur_iter  9\n",
      "target_item:  6243\n",
      "50.6916474141762\n",
      "cur_iter  0\n"
     ]
    },
    {
     "name": "stderr",
     "output_type": "stream",
     "text": [
      "/Users/litos/opt/anaconda3/lib/python3.7/site-packages/scipy/sparse/_index.py:127: SparseEfficiencyWarning: Changing the sparsity structure of a csr_matrix is expensive. lil_matrix is more efficient.\n",
      "  self._set_arrayXarray(i, j, x)\n"
     ]
    },
    {
     "name": "stdout",
     "output_type": "stream",
     "text": [
      "cur_iter  1\n",
      "cur_iter  2\n",
      "cur_iter  3\n",
      "cur_iter  4\n",
      "cur_iter  5\n",
      "cur_iter  6\n",
      "cur_iter  7\n",
      "no more keyphrase available\n",
      "target_item:  6258\n",
      "26.88740038569449\n",
      "cur_iter  0\n"
     ]
    },
    {
     "name": "stderr",
     "output_type": "stream",
     "text": [
      "/Users/litos/opt/anaconda3/lib/python3.7/site-packages/scipy/sparse/_index.py:127: SparseEfficiencyWarning: Changing the sparsity structure of a csr_matrix is expensive. lil_matrix is more efficient.\n",
      "  self._set_arrayXarray(i, j, x)\n"
     ]
    },
    {
     "name": "stdout",
     "output_type": "stream",
     "text": [
      "cur_iter  1\n",
      "cur_iter  2\n",
      "cur_iter  3\n",
      "cur_iter  4\n",
      "cur_iter  5\n",
      "cur_iter  6\n",
      "cur_iter  7\n",
      "cur_iter  8\n",
      "cur_iter  9\n",
      "target_item:  6437\n",
      "35.13780323436913\n",
      "cur_iter  0\n"
     ]
    },
    {
     "name": "stderr",
     "output_type": "stream",
     "text": [
      "/Users/litos/opt/anaconda3/lib/python3.7/site-packages/scipy/sparse/_index.py:127: SparseEfficiencyWarning: Changing the sparsity structure of a csr_matrix is expensive. lil_matrix is more efficient.\n",
      "  self._set_arrayXarray(i, j, x)\n"
     ]
    },
    {
     "name": "stdout",
     "output_type": "stream",
     "text": [
      "cur_iter  1\n",
      "cur_iter  2\n",
      "cur_iter  3\n",
      "cur_iter  4\n",
      "cur_iter  5\n",
      "cur_iter  6\n",
      "cur_iter  7\n",
      "cur_iter  8\n",
      "cur_iter  9\n",
      "target_item:  7037\n",
      "66.13093431061128\n",
      "cur_iter  0\n"
     ]
    },
    {
     "name": "stderr",
     "output_type": "stream",
     "text": [
      "/Users/litos/opt/anaconda3/lib/python3.7/site-packages/scipy/sparse/_index.py:127: SparseEfficiencyWarning: Changing the sparsity structure of a csr_matrix is expensive. lil_matrix is more efficient.\n",
      "  self._set_arrayXarray(i, j, x)\n"
     ]
    },
    {
     "name": "stdout",
     "output_type": "stream",
     "text": [
      "cur_iter  1\n",
      "no more keyphrase available\n",
      "User ID  316\n",
      "wanted_items length:  7\n",
      "Initial top recommendation index 3347\n",
      "target_item:  463\n",
      "13.727177036610556\n",
      "cur_iter  0\n"
     ]
    },
    {
     "name": "stderr",
     "output_type": "stream",
     "text": [
      "/Users/litos/opt/anaconda3/lib/python3.7/site-packages/scipy/sparse/_index.py:127: SparseEfficiencyWarning: Changing the sparsity structure of a csr_matrix is expensive. lil_matrix is more efficient.\n",
      "  self._set_arrayXarray(i, j, x)\n"
     ]
    },
    {
     "name": "stdout",
     "output_type": "stream",
     "text": [
      "cur_iter  1\n",
      "cur_iter  2\n",
      "cur_iter  3\n",
      "cur_iter  4\n",
      "cur_iter  5\n",
      "cur_iter  6\n",
      "cur_iter  7\n",
      "cur_iter  8\n",
      "cur_iter  9\n",
      "target_item:  914\n",
      "23.34433457048999\n",
      "cur_iter  0\n"
     ]
    },
    {
     "name": "stderr",
     "output_type": "stream",
     "text": [
      "/Users/litos/opt/anaconda3/lib/python3.7/site-packages/scipy/sparse/_index.py:127: SparseEfficiencyWarning: Changing the sparsity structure of a csr_matrix is expensive. lil_matrix is more efficient.\n",
      "  self._set_arrayXarray(i, j, x)\n"
     ]
    },
    {
     "name": "stdout",
     "output_type": "stream",
     "text": [
      "cur_iter  1\n",
      "cur_iter  2\n",
      "cur_iter  3\n",
      "cur_iter  4\n",
      "cur_iter  5\n",
      "no more keyphrase available\n",
      "target_item:  1700\n",
      "15.11369986816635\n",
      "cur_iter  0\n"
     ]
    },
    {
     "name": "stderr",
     "output_type": "stream",
     "text": [
      "/Users/litos/opt/anaconda3/lib/python3.7/site-packages/scipy/sparse/_index.py:127: SparseEfficiencyWarning: Changing the sparsity structure of a csr_matrix is expensive. lil_matrix is more efficient.\n",
      "  self._set_arrayXarray(i, j, x)\n"
     ]
    },
    {
     "name": "stdout",
     "output_type": "stream",
     "text": [
      "cur_iter  1\n",
      "cur_iter  2\n",
      "cur_iter  3\n",
      "cur_iter  4\n",
      "cur_iter  5\n",
      "cur_iter  6\n",
      "cur_iter  7\n",
      "cur_iter  8\n",
      "cur_iter  9\n",
      "target_item:  2667\n",
      "12.774704798633252\n",
      "cur_iter  0\n"
     ]
    },
    {
     "name": "stderr",
     "output_type": "stream",
     "text": [
      "/Users/litos/opt/anaconda3/lib/python3.7/site-packages/scipy/sparse/_index.py:127: SparseEfficiencyWarning: Changing the sparsity structure of a csr_matrix is expensive. lil_matrix is more efficient.\n",
      "  self._set_arrayXarray(i, j, x)\n"
     ]
    },
    {
     "name": "stdout",
     "output_type": "stream",
     "text": [
      "cur_iter  1\n",
      "cur_iter  2\n",
      "cur_iter  3\n",
      "cur_iter  4\n",
      "cur_iter  5\n",
      "cur_iter  6\n",
      "cur_iter  7\n",
      "cur_iter  8\n",
      "cur_iter  9\n",
      "target_item:  4442\n",
      "10.704803156035837\n",
      "cur_iter  0\n"
     ]
    },
    {
     "name": "stderr",
     "output_type": "stream",
     "text": [
      "/Users/litos/opt/anaconda3/lib/python3.7/site-packages/scipy/sparse/_index.py:127: SparseEfficiencyWarning: Changing the sparsity structure of a csr_matrix is expensive. lil_matrix is more efficient.\n",
      "  self._set_arrayXarray(i, j, x)\n"
     ]
    },
    {
     "name": "stdout",
     "output_type": "stream",
     "text": [
      "cur_iter  1\n",
      "cur_iter  2\n",
      "cur_iter  3\n",
      "cur_iter  4\n",
      "cur_iter  5\n",
      "cur_iter  6\n",
      "cur_iter  7\n",
      "cur_iter  8\n",
      "cur_iter  9\n",
      "target_item:  5485\n",
      "9.161863386389996\n",
      "cur_iter  0\n"
     ]
    },
    {
     "name": "stderr",
     "output_type": "stream",
     "text": [
      "/Users/litos/opt/anaconda3/lib/python3.7/site-packages/scipy/sparse/_index.py:127: SparseEfficiencyWarning: Changing the sparsity structure of a csr_matrix is expensive. lil_matrix is more efficient.\n",
      "  self._set_arrayXarray(i, j, x)\n"
     ]
    },
    {
     "name": "stdout",
     "output_type": "stream",
     "text": [
      "cur_iter  1\n",
      "cur_iter  2\n",
      "cur_iter  3\n",
      "cur_iter  4\n",
      "cur_iter  5\n",
      "cur_iter  6\n",
      "cur_iter  7\n",
      "cur_iter  8\n",
      "cur_iter  9\n",
      "target_item:  5852\n",
      "13.61680653581891\n",
      "cur_iter  0\n"
     ]
    },
    {
     "name": "stderr",
     "output_type": "stream",
     "text": [
      "/Users/litos/opt/anaconda3/lib/python3.7/site-packages/scipy/sparse/_index.py:127: SparseEfficiencyWarning: Changing the sparsity structure of a csr_matrix is expensive. lil_matrix is more efficient.\n",
      "  self._set_arrayXarray(i, j, x)\n"
     ]
    },
    {
     "name": "stdout",
     "output_type": "stream",
     "text": [
      "cur_iter  1\n",
      "cur_iter  2\n",
      "cur_iter  3\n",
      "cur_iter  4\n",
      "cur_iter  5\n",
      "cur_iter  6\n",
      "cur_iter  7\n",
      "cur_iter  8\n",
      "cur_iter  9\n",
      "User ID  317\n",
      "wanted_items length:  37\n",
      "Initial top recommendation index 419\n",
      "target_item:  278\n",
      "30.81195115089713\n",
      "cur_iter  0\n"
     ]
    },
    {
     "name": "stderr",
     "output_type": "stream",
     "text": [
      "/Users/litos/opt/anaconda3/lib/python3.7/site-packages/scipy/sparse/_index.py:127: SparseEfficiencyWarning: Changing the sparsity structure of a csr_matrix is expensive. lil_matrix is more efficient.\n",
      "  self._set_arrayXarray(i, j, x)\n"
     ]
    },
    {
     "name": "stdout",
     "output_type": "stream",
     "text": [
      "cur_iter  1\n",
      "cur_iter  2\n",
      "cur_iter  3\n",
      "cur_iter  4\n",
      "cur_iter  5\n",
      "cur_iter  6\n",
      "cur_iter  7\n",
      "cur_iter  8\n",
      "cur_iter  9\n",
      "target_item:  612\n",
      "77.58279411238027\n",
      "cur_iter  0\n"
     ]
    },
    {
     "name": "stderr",
     "output_type": "stream",
     "text": [
      "/Users/litos/opt/anaconda3/lib/python3.7/site-packages/scipy/sparse/_index.py:127: SparseEfficiencyWarning: Changing the sparsity structure of a csr_matrix is expensive. lil_matrix is more efficient.\n",
      "  self._set_arrayXarray(i, j, x)\n"
     ]
    },
    {
     "name": "stdout",
     "output_type": "stream",
     "text": [
      "cur_iter  1\n",
      "cur_iter  2\n",
      "cur_iter  3\n",
      "cur_iter  4\n",
      "cur_iter  5\n",
      "cur_iter  6\n",
      "cur_iter  7\n",
      "cur_iter  8\n",
      "cur_iter  9\n",
      "target_item:  711\n",
      "121.30677842760088\n",
      "cur_iter  0\n"
     ]
    },
    {
     "name": "stderr",
     "output_type": "stream",
     "text": [
      "/Users/litos/opt/anaconda3/lib/python3.7/site-packages/scipy/sparse/_index.py:127: SparseEfficiencyWarning: Changing the sparsity structure of a csr_matrix is expensive. lil_matrix is more efficient.\n",
      "  self._set_arrayXarray(i, j, x)\n"
     ]
    },
    {
     "name": "stdout",
     "output_type": "stream",
     "text": [
      "cur_iter  1\n",
      "cur_iter  2\n",
      "cur_iter  3\n",
      "cur_iter  4\n",
      "cur_iter  5\n",
      "cur_iter  6\n",
      "cur_iter  7\n",
      "no more keyphrase available\n",
      "target_item:  1249\n",
      "23.702762062244346\n",
      "cur_iter  0\n"
     ]
    },
    {
     "name": "stderr",
     "output_type": "stream",
     "text": [
      "/Users/litos/opt/anaconda3/lib/python3.7/site-packages/scipy/sparse/_index.py:127: SparseEfficiencyWarning: Changing the sparsity structure of a csr_matrix is expensive. lil_matrix is more efficient.\n",
      "  self._set_arrayXarray(i, j, x)\n"
     ]
    },
    {
     "name": "stdout",
     "output_type": "stream",
     "text": [
      "cur_iter  1\n",
      "cur_iter  2\n",
      "cur_iter  3\n",
      "cur_iter  4\n",
      "cur_iter  5\n",
      "cur_iter  6\n",
      "cur_iter  7\n",
      "cur_iter  8\n",
      "cur_iter  9\n",
      "target_item:  1291\n",
      "28.998669385842277\n",
      "cur_iter  0\n"
     ]
    },
    {
     "name": "stderr",
     "output_type": "stream",
     "text": [
      "/Users/litos/opt/anaconda3/lib/python3.7/site-packages/scipy/sparse/_index.py:127: SparseEfficiencyWarning: Changing the sparsity structure of a csr_matrix is expensive. lil_matrix is more efficient.\n",
      "  self._set_arrayXarray(i, j, x)\n"
     ]
    },
    {
     "name": "stdout",
     "output_type": "stream",
     "text": [
      "cur_iter  1\n",
      "cur_iter  2\n",
      "cur_iter  3\n",
      "cur_iter  4\n",
      "cur_iter  5\n",
      "cur_iter  6\n",
      "cur_iter  7\n",
      "cur_iter  8\n",
      "cur_iter  9\n",
      "target_item:  1308\n",
      "39.489871645496805\n",
      "cur_iter  0\n"
     ]
    },
    {
     "name": "stderr",
     "output_type": "stream",
     "text": [
      "/Users/litos/opt/anaconda3/lib/python3.7/site-packages/scipy/sparse/_index.py:127: SparseEfficiencyWarning: Changing the sparsity structure of a csr_matrix is expensive. lil_matrix is more efficient.\n",
      "  self._set_arrayXarray(i, j, x)\n"
     ]
    },
    {
     "name": "stdout",
     "output_type": "stream",
     "text": [
      "cur_iter  1\n",
      "cur_iter  2\n",
      "cur_iter  3\n",
      "cur_iter  4\n",
      "cur_iter  5\n",
      "cur_iter  6\n",
      "cur_iter  7\n",
      "cur_iter  8\n",
      "cur_iter  9\n",
      "target_item:  1445\n",
      "24.71571729334164\n",
      "cur_iter  0\n"
     ]
    },
    {
     "name": "stderr",
     "output_type": "stream",
     "text": [
      "/Users/litos/opt/anaconda3/lib/python3.7/site-packages/scipy/sparse/_index.py:127: SparseEfficiencyWarning: Changing the sparsity structure of a csr_matrix is expensive. lil_matrix is more efficient.\n",
      "  self._set_arrayXarray(i, j, x)\n"
     ]
    },
    {
     "name": "stdout",
     "output_type": "stream",
     "text": [
      "cur_iter  1\n",
      "cur_iter  2\n",
      "cur_iter  3\n",
      "cur_iter  4\n",
      "cur_iter  5\n",
      "cur_iter  6\n",
      "cur_iter  7\n",
      "cur_iter  8\n",
      "cur_iter  9\n",
      "target_item:  1782\n",
      "47.28304665894939\n",
      "cur_iter  0\n"
     ]
    },
    {
     "name": "stderr",
     "output_type": "stream",
     "text": [
      "/Users/litos/opt/anaconda3/lib/python3.7/site-packages/scipy/sparse/_index.py:127: SparseEfficiencyWarning: Changing the sparsity structure of a csr_matrix is expensive. lil_matrix is more efficient.\n",
      "  self._set_arrayXarray(i, j, x)\n"
     ]
    },
    {
     "name": "stdout",
     "output_type": "stream",
     "text": [
      "cur_iter  1\n",
      "cur_iter  2\n",
      "cur_iter  3\n",
      "cur_iter  4\n",
      "cur_iter  5\n",
      "cur_iter  6\n",
      "cur_iter  7\n",
      "cur_iter  8\n",
      "cur_iter  9\n",
      "target_item:  1784\n",
      "37.381081731729864\n",
      "cur_iter  0\n"
     ]
    },
    {
     "name": "stderr",
     "output_type": "stream",
     "text": [
      "/Users/litos/opt/anaconda3/lib/python3.7/site-packages/scipy/sparse/_index.py:127: SparseEfficiencyWarning: Changing the sparsity structure of a csr_matrix is expensive. lil_matrix is more efficient.\n",
      "  self._set_arrayXarray(i, j, x)\n"
     ]
    },
    {
     "name": "stdout",
     "output_type": "stream",
     "text": [
      "cur_iter  1\n",
      "cur_iter  2\n",
      "cur_iter  3\n",
      "cur_iter  4\n",
      "cur_iter  5\n",
      "cur_iter  6\n",
      "cur_iter  7\n",
      "cur_iter  8\n",
      "cur_iter  9\n",
      "target_item:  1864\n",
      "99.28758748265864\n",
      "cur_iter  0\n"
     ]
    },
    {
     "name": "stderr",
     "output_type": "stream",
     "text": [
      "/Users/litos/opt/anaconda3/lib/python3.7/site-packages/scipy/sparse/_index.py:127: SparseEfficiencyWarning: Changing the sparsity structure of a csr_matrix is expensive. lil_matrix is more efficient.\n",
      "  self._set_arrayXarray(i, j, x)\n"
     ]
    },
    {
     "name": "stdout",
     "output_type": "stream",
     "text": [
      "cur_iter  1\n",
      "cur_iter  2\n",
      "cur_iter  3\n",
      "cur_iter  4\n",
      "cur_iter  5\n",
      "cur_iter  6\n",
      "cur_iter  7\n",
      "cur_iter  8\n",
      "cur_iter  9\n",
      "target_item:  1978\n",
      "146.46540271190497\n",
      "cur_iter  0\n"
     ]
    },
    {
     "name": "stderr",
     "output_type": "stream",
     "text": [
      "/Users/litos/opt/anaconda3/lib/python3.7/site-packages/scipy/sparse/_index.py:127: SparseEfficiencyWarning: Changing the sparsity structure of a csr_matrix is expensive. lil_matrix is more efficient.\n",
      "  self._set_arrayXarray(i, j, x)\n"
     ]
    },
    {
     "name": "stdout",
     "output_type": "stream",
     "text": [
      "cur_iter  1\n",
      "cur_iter  2\n",
      "cur_iter  3\n",
      "cur_iter  4\n",
      "cur_iter  5\n",
      "cur_iter  6\n",
      "cur_iter  7\n",
      "no more keyphrase available\n",
      "User ID  318\n",
      "wanted_items length:  5\n",
      "Initial top recommendation index 4762\n",
      "target_item:  1528\n",
      "9.017041911080014\n",
      "cur_iter  0\n"
     ]
    },
    {
     "name": "stderr",
     "output_type": "stream",
     "text": [
      "/Users/litos/opt/anaconda3/lib/python3.7/site-packages/scipy/sparse/_index.py:127: SparseEfficiencyWarning: Changing the sparsity structure of a csr_matrix is expensive. lil_matrix is more efficient.\n",
      "  self._set_arrayXarray(i, j, x)\n"
     ]
    },
    {
     "name": "stdout",
     "output_type": "stream",
     "text": [
      "cur_iter  1\n",
      "cur_iter  2\n",
      "cur_iter  3\n",
      "cur_iter  4\n",
      "cur_iter  5\n",
      "cur_iter  6\n",
      "cur_iter  7\n",
      "cur_iter  8\n",
      "cur_iter  9\n",
      "target_item:  4115\n",
      "61.591611226486975\n",
      "cur_iter  0\n"
     ]
    },
    {
     "name": "stderr",
     "output_type": "stream",
     "text": [
      "/Users/litos/opt/anaconda3/lib/python3.7/site-packages/scipy/sparse/_index.py:127: SparseEfficiencyWarning: Changing the sparsity structure of a csr_matrix is expensive. lil_matrix is more efficient.\n",
      "  self._set_arrayXarray(i, j, x)\n"
     ]
    },
    {
     "name": "stdout",
     "output_type": "stream",
     "text": [
      "cur_iter  1\n",
      "no more keyphrase available\n",
      "target_item:  5493\n",
      "51.97167516008017\n",
      "cur_iter  0\n"
     ]
    },
    {
     "name": "stderr",
     "output_type": "stream",
     "text": [
      "/Users/litos/opt/anaconda3/lib/python3.7/site-packages/scipy/sparse/_index.py:127: SparseEfficiencyWarning: Changing the sparsity structure of a csr_matrix is expensive. lil_matrix is more efficient.\n",
      "  self._set_arrayXarray(i, j, x)\n"
     ]
    },
    {
     "name": "stdout",
     "output_type": "stream",
     "text": [
      "cur_iter  1\n",
      "cur_iter  2\n",
      "cur_iter  3\n",
      "no more keyphrase available\n",
      "target_item:  6268\n",
      "6.633139287604763\n",
      "cur_iter  0\n"
     ]
    },
    {
     "name": "stderr",
     "output_type": "stream",
     "text": [
      "/Users/litos/opt/anaconda3/lib/python3.7/site-packages/scipy/sparse/_index.py:127: SparseEfficiencyWarning: Changing the sparsity structure of a csr_matrix is expensive. lil_matrix is more efficient.\n",
      "  self._set_arrayXarray(i, j, x)\n"
     ]
    },
    {
     "name": "stdout",
     "output_type": "stream",
     "text": [
      "cur_iter  1\n",
      "cur_iter  2\n",
      "cur_iter  3\n",
      "cur_iter  4\n",
      "cur_iter  5\n",
      "cur_iter  6\n",
      "cur_iter  7\n",
      "cur_iter  8\n",
      "cur_iter  9\n",
      "target_item:  6617\n",
      "68.4065086521889\n",
      "cur_iter  0\n",
      "no more keyphrase available\n",
      "User ID  319\n",
      "wanted_items length:  7\n",
      "Initial top recommendation index 5286\n",
      "target_item:  39\n"
     ]
    },
    {
     "name": "stderr",
     "output_type": "stream",
     "text": [
      "/Users/litos/opt/anaconda3/lib/python3.7/site-packages/ipykernel_launcher.py:33: RuntimeWarning: invalid value encountered in true_divide\n",
      "/Users/litos/opt/anaconda3/lib/python3.7/site-packages/scipy/sparse/_index.py:127: SparseEfficiencyWarning: Changing the sparsity structure of a csr_matrix is expensive. lil_matrix is more efficient.\n",
      "  self._set_arrayXarray(i, j, x)\n"
     ]
    },
    {
     "name": "stdout",
     "output_type": "stream",
     "text": [
      "8.549191638155662\n",
      "cur_iter  0\n",
      "cur_iter  1\n",
      "cur_iter  2\n",
      "cur_iter  3\n",
      "cur_iter  4\n",
      "cur_iter  5\n",
      "cur_iter  6\n",
      "cur_iter  7\n",
      "cur_iter  8\n",
      "cur_iter  9\n",
      "target_item:  2401\n",
      "41.98987502620503\n",
      "cur_iter  0\n"
     ]
    },
    {
     "name": "stderr",
     "output_type": "stream",
     "text": [
      "/Users/litos/opt/anaconda3/lib/python3.7/site-packages/scipy/sparse/_index.py:127: SparseEfficiencyWarning: Changing the sparsity structure of a csr_matrix is expensive. lil_matrix is more efficient.\n",
      "  self._set_arrayXarray(i, j, x)\n"
     ]
    },
    {
     "name": "stdout",
     "output_type": "stream",
     "text": [
      "cur_iter  1\n",
      "cur_iter  2\n",
      "cur_iter  3\n",
      "no more keyphrase available\n",
      "target_item:  2641\n",
      "24.594646990915408\n",
      "cur_iter  0\n"
     ]
    },
    {
     "name": "stderr",
     "output_type": "stream",
     "text": [
      "/Users/litos/opt/anaconda3/lib/python3.7/site-packages/scipy/sparse/_index.py:127: SparseEfficiencyWarning: Changing the sparsity structure of a csr_matrix is expensive. lil_matrix is more efficient.\n",
      "  self._set_arrayXarray(i, j, x)\n"
     ]
    },
    {
     "name": "stdout",
     "output_type": "stream",
     "text": [
      "cur_iter  1\n",
      "cur_iter  2\n",
      "cur_iter  3\n",
      "no more keyphrase available\n",
      "target_item:  3182\n",
      "11.78226345923531\n",
      "cur_iter  0\n"
     ]
    },
    {
     "name": "stderr",
     "output_type": "stream",
     "text": [
      "/Users/litos/opt/anaconda3/lib/python3.7/site-packages/scipy/sparse/_index.py:127: SparseEfficiencyWarning: Changing the sparsity structure of a csr_matrix is expensive. lil_matrix is more efficient.\n",
      "  self._set_arrayXarray(i, j, x)\n"
     ]
    },
    {
     "name": "stdout",
     "output_type": "stream",
     "text": [
      "cur_iter  1\n",
      "cur_iter  2\n",
      "cur_iter  3\n",
      "cur_iter  4\n",
      "cur_iter  5\n",
      "cur_iter  6\n",
      "cur_iter  7\n",
      "cur_iter  8\n",
      "cur_iter  9\n",
      "target_item:  3895\n",
      "22.34205040614097\n",
      "cur_iter  0\n"
     ]
    },
    {
     "name": "stderr",
     "output_type": "stream",
     "text": [
      "/Users/litos/opt/anaconda3/lib/python3.7/site-packages/scipy/sparse/_index.py:127: SparseEfficiencyWarning: Changing the sparsity structure of a csr_matrix is expensive. lil_matrix is more efficient.\n",
      "  self._set_arrayXarray(i, j, x)\n"
     ]
    },
    {
     "name": "stdout",
     "output_type": "stream",
     "text": [
      "cur_iter  1\n",
      "cur_iter  2\n",
      "cur_iter  3\n",
      "cur_iter  4\n",
      "cur_iter  5\n",
      "cur_iter  6\n",
      "no more keyphrase available\n",
      "target_item:  6320\n",
      "58.290599650235436\n",
      "cur_iter  0\n"
     ]
    },
    {
     "name": "stderr",
     "output_type": "stream",
     "text": [
      "/Users/litos/opt/anaconda3/lib/python3.7/site-packages/scipy/sparse/_index.py:127: SparseEfficiencyWarning: Changing the sparsity structure of a csr_matrix is expensive. lil_matrix is more efficient.\n",
      "  self._set_arrayXarray(i, j, x)\n"
     ]
    },
    {
     "name": "stdout",
     "output_type": "stream",
     "text": [
      "cur_iter  1\n",
      "no more keyphrase available\n",
      "target_item:  6454\n",
      "5.292301215919451\n",
      "cur_iter  0\n"
     ]
    },
    {
     "name": "stderr",
     "output_type": "stream",
     "text": [
      "/Users/litos/opt/anaconda3/lib/python3.7/site-packages/scipy/sparse/_index.py:127: SparseEfficiencyWarning: Changing the sparsity structure of a csr_matrix is expensive. lil_matrix is more efficient.\n",
      "  self._set_arrayXarray(i, j, x)\n"
     ]
    },
    {
     "name": "stdout",
     "output_type": "stream",
     "text": [
      "cur_iter  1\n",
      "cur_iter  2\n",
      "cur_iter  3\n",
      "cur_iter  4\n",
      "cur_iter  5\n",
      "cur_iter  6\n",
      "cur_iter  7\n",
      "cur_iter  8\n",
      "cur_iter  9\n",
      "User ID  320\n",
      "wanted_items length:  7\n",
      "Initial top recommendation index 5081\n",
      "target_item:  68\n",
      "3.527513013673797\n",
      "cur_iter  0\n"
     ]
    },
    {
     "name": "stderr",
     "output_type": "stream",
     "text": [
      "/Users/litos/opt/anaconda3/lib/python3.7/site-packages/scipy/sparse/_index.py:127: SparseEfficiencyWarning: Changing the sparsity structure of a csr_matrix is expensive. lil_matrix is more efficient.\n",
      "  self._set_arrayXarray(i, j, x)\n"
     ]
    },
    {
     "name": "stdout",
     "output_type": "stream",
     "text": [
      "cur_iter  1\n",
      "cur_iter  2\n",
      "cur_iter  3\n",
      "cur_iter  4\n",
      "cur_iter  5\n",
      "cur_iter  6\n",
      "cur_iter  7\n",
      "cur_iter  8\n",
      "cur_iter  9\n",
      "target_item:  1288\n",
      "2.765902456118056\n",
      "cur_iter  0\n"
     ]
    },
    {
     "name": "stderr",
     "output_type": "stream",
     "text": [
      "/Users/litos/opt/anaconda3/lib/python3.7/site-packages/scipy/sparse/_index.py:127: SparseEfficiencyWarning: Changing the sparsity structure of a csr_matrix is expensive. lil_matrix is more efficient.\n",
      "  self._set_arrayXarray(i, j, x)\n"
     ]
    },
    {
     "name": "stdout",
     "output_type": "stream",
     "text": [
      "cur_iter  1\n",
      "cur_iter  2\n",
      "cur_iter  3\n",
      "cur_iter  4\n",
      "cur_iter  5\n",
      "cur_iter  6\n",
      "cur_iter  7\n",
      "cur_iter  8\n",
      "cur_iter  9\n",
      "target_item:  3083\n",
      "2.4688066641042496\n",
      "cur_iter  0\n"
     ]
    },
    {
     "name": "stderr",
     "output_type": "stream",
     "text": [
      "/Users/litos/opt/anaconda3/lib/python3.7/site-packages/scipy/sparse/_index.py:127: SparseEfficiencyWarning: Changing the sparsity structure of a csr_matrix is expensive. lil_matrix is more efficient.\n",
      "  self._set_arrayXarray(i, j, x)\n"
     ]
    },
    {
     "name": "stdout",
     "output_type": "stream",
     "text": [
      "cur_iter  1\n",
      "cur_iter  2\n",
      "cur_iter  3\n",
      "cur_iter  4\n",
      "cur_iter  5\n",
      "cur_iter  6\n",
      "cur_iter  7\n",
      "cur_iter  8\n",
      "cur_iter  9\n",
      "target_item:  3333\n",
      "3.0817733845033217\n",
      "cur_iter  0\n"
     ]
    },
    {
     "name": "stderr",
     "output_type": "stream",
     "text": [
      "/Users/litos/opt/anaconda3/lib/python3.7/site-packages/scipy/sparse/_index.py:127: SparseEfficiencyWarning: Changing the sparsity structure of a csr_matrix is expensive. lil_matrix is more efficient.\n",
      "  self._set_arrayXarray(i, j, x)\n"
     ]
    },
    {
     "name": "stdout",
     "output_type": "stream",
     "text": [
      "cur_iter  1\n",
      "cur_iter  2\n",
      "cur_iter  3\n",
      "cur_iter  4\n",
      "cur_iter  5\n",
      "cur_iter  6\n",
      "cur_iter  7\n",
      "cur_iter  8\n",
      "cur_iter  9\n",
      "target_item:  4072\n",
      "3.374476061642781\n",
      "cur_iter  0\n"
     ]
    },
    {
     "name": "stderr",
     "output_type": "stream",
     "text": [
      "/Users/litos/opt/anaconda3/lib/python3.7/site-packages/scipy/sparse/_index.py:127: SparseEfficiencyWarning: Changing the sparsity structure of a csr_matrix is expensive. lil_matrix is more efficient.\n",
      "  self._set_arrayXarray(i, j, x)\n"
     ]
    },
    {
     "name": "stdout",
     "output_type": "stream",
     "text": [
      "cur_iter  1\n",
      "cur_iter  2\n",
      "cur_iter  3\n",
      "cur_iter  4\n",
      "cur_iter  5\n",
      "cur_iter  6\n",
      "cur_iter  7\n",
      "cur_iter  8\n",
      "cur_iter  9\n",
      "target_item:  4495\n",
      "2.2791742664703634\n",
      "cur_iter  0\n"
     ]
    },
    {
     "name": "stderr",
     "output_type": "stream",
     "text": [
      "/Users/litos/opt/anaconda3/lib/python3.7/site-packages/scipy/sparse/_index.py:127: SparseEfficiencyWarning: Changing the sparsity structure of a csr_matrix is expensive. lil_matrix is more efficient.\n",
      "  self._set_arrayXarray(i, j, x)\n"
     ]
    },
    {
     "name": "stdout",
     "output_type": "stream",
     "text": [
      "cur_iter  1\n",
      "cur_iter  2\n",
      "cur_iter  3\n",
      "cur_iter  4\n",
      "cur_iter  5\n",
      "cur_iter  6\n",
      "cur_iter  7\n",
      "cur_iter  8\n",
      "cur_iter  9\n",
      "target_item:  5577\n",
      "2.3376413442510966\n",
      "cur_iter  0\n"
     ]
    },
    {
     "name": "stderr",
     "output_type": "stream",
     "text": [
      "/Users/litos/opt/anaconda3/lib/python3.7/site-packages/scipy/sparse/_index.py:127: SparseEfficiencyWarning: Changing the sparsity structure of a csr_matrix is expensive. lil_matrix is more efficient.\n",
      "  self._set_arrayXarray(i, j, x)\n"
     ]
    },
    {
     "name": "stdout",
     "output_type": "stream",
     "text": [
      "cur_iter  1\n",
      "cur_iter  2\n",
      "cur_iter  3\n",
      "cur_iter  4\n",
      "cur_iter  5\n",
      "cur_iter  6\n",
      "cur_iter  7\n",
      "cur_iter  8\n",
      "cur_iter  9\n",
      "User ID  321\n",
      "wanted_items length:  24\n",
      "Initial top recommendation index 6454\n",
      "target_item:  174\n",
      "33.462671265077915\n",
      "cur_iter  0\n"
     ]
    },
    {
     "name": "stderr",
     "output_type": "stream",
     "text": [
      "/Users/litos/opt/anaconda3/lib/python3.7/site-packages/scipy/sparse/_index.py:127: SparseEfficiencyWarning: Changing the sparsity structure of a csr_matrix is expensive. lil_matrix is more efficient.\n",
      "  self._set_arrayXarray(i, j, x)\n"
     ]
    },
    {
     "name": "stdout",
     "output_type": "stream",
     "text": [
      "cur_iter  1\n",
      "cur_iter  2\n",
      "cur_iter  3\n",
      "cur_iter  4\n",
      "cur_iter  5\n",
      "cur_iter  6\n",
      "cur_iter  7\n",
      "cur_iter  8\n",
      "cur_iter  9\n",
      "target_item:  201\n",
      "17.107432480158423\n",
      "cur_iter  0\n"
     ]
    },
    {
     "name": "stderr",
     "output_type": "stream",
     "text": [
      "/Users/litos/opt/anaconda3/lib/python3.7/site-packages/scipy/sparse/_index.py:127: SparseEfficiencyWarning: Changing the sparsity structure of a csr_matrix is expensive. lil_matrix is more efficient.\n",
      "  self._set_arrayXarray(i, j, x)\n"
     ]
    },
    {
     "name": "stdout",
     "output_type": "stream",
     "text": [
      "cur_iter  1\n",
      "cur_iter  2\n",
      "cur_iter  3\n",
      "cur_iter  4\n",
      "cur_iter  5\n",
      "cur_iter  6\n",
      "cur_iter  7\n",
      "cur_iter  8\n",
      "cur_iter  9\n",
      "target_item:  910\n",
      "48.317320893073884\n",
      "cur_iter  0\n"
     ]
    },
    {
     "name": "stderr",
     "output_type": "stream",
     "text": [
      "/Users/litos/opt/anaconda3/lib/python3.7/site-packages/scipy/sparse/_index.py:127: SparseEfficiencyWarning: Changing the sparsity structure of a csr_matrix is expensive. lil_matrix is more efficient.\n",
      "  self._set_arrayXarray(i, j, x)\n"
     ]
    },
    {
     "name": "stdout",
     "output_type": "stream",
     "text": [
      "cur_iter  1\n",
      "cur_iter  2\n",
      "cur_iter  3\n",
      "cur_iter  4\n",
      "cur_iter  5\n",
      "cur_iter  6\n",
      "cur_iter  7\n",
      "cur_iter  8\n",
      "no more keyphrase available\n",
      "target_item:  1361\n",
      "22.541580956893995\n",
      "cur_iter  0\n"
     ]
    },
    {
     "name": "stderr",
     "output_type": "stream",
     "text": [
      "/Users/litos/opt/anaconda3/lib/python3.7/site-packages/scipy/sparse/_index.py:127: SparseEfficiencyWarning: Changing the sparsity structure of a csr_matrix is expensive. lil_matrix is more efficient.\n",
      "  self._set_arrayXarray(i, j, x)\n"
     ]
    },
    {
     "name": "stdout",
     "output_type": "stream",
     "text": [
      "cur_iter  1\n",
      "cur_iter  2\n",
      "cur_iter  3\n",
      "cur_iter  4\n",
      "cur_iter  5\n",
      "cur_iter  6\n",
      "cur_iter  7\n",
      "cur_iter  8\n",
      "cur_iter  9\n",
      "target_item:  1378\n",
      "19.210259668178878\n",
      "cur_iter  0\n"
     ]
    },
    {
     "name": "stderr",
     "output_type": "stream",
     "text": [
      "/Users/litos/opt/anaconda3/lib/python3.7/site-packages/scipy/sparse/_index.py:127: SparseEfficiencyWarning: Changing the sparsity structure of a csr_matrix is expensive. lil_matrix is more efficient.\n",
      "  self._set_arrayXarray(i, j, x)\n"
     ]
    },
    {
     "name": "stdout",
     "output_type": "stream",
     "text": [
      "cur_iter  1\n",
      "cur_iter  2\n",
      "cur_iter  3\n",
      "cur_iter  4\n",
      "cur_iter  5\n",
      "cur_iter  6\n",
      "cur_iter  7\n",
      "cur_iter  8\n",
      "cur_iter  9\n",
      "target_item:  1488\n",
      "31.43619538069379\n",
      "cur_iter  0\n"
     ]
    },
    {
     "name": "stderr",
     "output_type": "stream",
     "text": [
      "/Users/litos/opt/anaconda3/lib/python3.7/site-packages/scipy/sparse/_index.py:127: SparseEfficiencyWarning: Changing the sparsity structure of a csr_matrix is expensive. lil_matrix is more efficient.\n",
      "  self._set_arrayXarray(i, j, x)\n"
     ]
    },
    {
     "name": "stdout",
     "output_type": "stream",
     "text": [
      "cur_iter  1\n",
      "cur_iter  2\n",
      "cur_iter  3\n",
      "cur_iter  4\n",
      "cur_iter  5\n",
      "cur_iter  6\n",
      "cur_iter  7\n",
      "cur_iter  8\n",
      "cur_iter  9\n",
      "target_item:  1652\n",
      "26.126450448092328\n",
      "cur_iter  0\n"
     ]
    },
    {
     "name": "stderr",
     "output_type": "stream",
     "text": [
      "/Users/litos/opt/anaconda3/lib/python3.7/site-packages/scipy/sparse/_index.py:127: SparseEfficiencyWarning: Changing the sparsity structure of a csr_matrix is expensive. lil_matrix is more efficient.\n",
      "  self._set_arrayXarray(i, j, x)\n"
     ]
    },
    {
     "name": "stdout",
     "output_type": "stream",
     "text": [
      "cur_iter  1\n",
      "cur_iter  2\n",
      "cur_iter  3\n",
      "cur_iter  4\n",
      "cur_iter  5\n",
      "cur_iter  6\n",
      "cur_iter  7\n",
      "cur_iter  8\n",
      "cur_iter  9\n",
      "target_item:  1807\n",
      "47.410819628449644\n",
      "cur_iter  0\n"
     ]
    },
    {
     "name": "stderr",
     "output_type": "stream",
     "text": [
      "/Users/litos/opt/anaconda3/lib/python3.7/site-packages/scipy/sparse/_index.py:127: SparseEfficiencyWarning: Changing the sparsity structure of a csr_matrix is expensive. lil_matrix is more efficient.\n",
      "  self._set_arrayXarray(i, j, x)\n"
     ]
    },
    {
     "name": "stdout",
     "output_type": "stream",
     "text": [
      "cur_iter  1\n",
      "cur_iter  2\n",
      "cur_iter  3\n",
      "cur_iter  4\n",
      "cur_iter  5\n",
      "cur_iter  6\n",
      "cur_iter  7\n",
      "cur_iter  8\n",
      "cur_iter  9\n",
      "target_item:  2243\n",
      "32.1702430349751\n",
      "cur_iter  0\n"
     ]
    },
    {
     "name": "stderr",
     "output_type": "stream",
     "text": [
      "/Users/litos/opt/anaconda3/lib/python3.7/site-packages/scipy/sparse/_index.py:127: SparseEfficiencyWarning: Changing the sparsity structure of a csr_matrix is expensive. lil_matrix is more efficient.\n",
      "  self._set_arrayXarray(i, j, x)\n"
     ]
    },
    {
     "name": "stdout",
     "output_type": "stream",
     "text": [
      "cur_iter  1\n",
      "cur_iter  2\n",
      "cur_iter  3\n",
      "cur_iter  4\n",
      "cur_iter  5\n",
      "cur_iter  6\n",
      "cur_iter  7\n",
      "cur_iter  8\n",
      "cur_iter  9\n",
      "target_item:  2537\n",
      "42.41361646085261\n",
      "cur_iter  0\n"
     ]
    },
    {
     "name": "stderr",
     "output_type": "stream",
     "text": [
      "/Users/litos/opt/anaconda3/lib/python3.7/site-packages/scipy/sparse/_index.py:127: SparseEfficiencyWarning: Changing the sparsity structure of a csr_matrix is expensive. lil_matrix is more efficient.\n",
      "  self._set_arrayXarray(i, j, x)\n"
     ]
    },
    {
     "name": "stdout",
     "output_type": "stream",
     "text": [
      "cur_iter  1\n",
      "cur_iter  2\n",
      "cur_iter  3\n",
      "cur_iter  4\n",
      "cur_iter  5\n",
      "cur_iter  6\n",
      "cur_iter  7\n",
      "cur_iter  8\n",
      "cur_iter  9\n",
      "target_item:  3333\n",
      "20.695512107557988\n",
      "cur_iter  0\n"
     ]
    },
    {
     "name": "stderr",
     "output_type": "stream",
     "text": [
      "/Users/litos/opt/anaconda3/lib/python3.7/site-packages/scipy/sparse/_index.py:127: SparseEfficiencyWarning: Changing the sparsity structure of a csr_matrix is expensive. lil_matrix is more efficient.\n",
      "  self._set_arrayXarray(i, j, x)\n"
     ]
    },
    {
     "name": "stdout",
     "output_type": "stream",
     "text": [
      "cur_iter  1\n",
      "cur_iter  2\n",
      "cur_iter  3\n",
      "cur_iter  4\n",
      "cur_iter  5\n",
      "cur_iter  6\n",
      "cur_iter  7\n",
      "cur_iter  8\n",
      "cur_iter  9\n",
      "User ID  322\n",
      "wanted_items length:  18\n",
      "Initial top recommendation index 43\n",
      "target_item:  1250\n",
      "45.010428425401415\n",
      "cur_iter  0\n"
     ]
    },
    {
     "name": "stderr",
     "output_type": "stream",
     "text": [
      "/Users/litos/opt/anaconda3/lib/python3.7/site-packages/scipy/sparse/_index.py:127: SparseEfficiencyWarning: Changing the sparsity structure of a csr_matrix is expensive. lil_matrix is more efficient.\n",
      "  self._set_arrayXarray(i, j, x)\n"
     ]
    },
    {
     "name": "stdout",
     "output_type": "stream",
     "text": [
      "cur_iter  1\n",
      "cur_iter  2\n",
      "cur_iter  3\n",
      "cur_iter  4\n",
      "cur_iter  5\n",
      "cur_iter  6\n",
      "cur_iter  7\n",
      "cur_iter  8\n",
      "no more keyphrase available\n",
      "target_item:  2147\n",
      "57.73924976168587\n",
      "cur_iter  0\n"
     ]
    },
    {
     "name": "stderr",
     "output_type": "stream",
     "text": [
      "/Users/litos/opt/anaconda3/lib/python3.7/site-packages/scipy/sparse/_index.py:127: SparseEfficiencyWarning: Changing the sparsity structure of a csr_matrix is expensive. lil_matrix is more efficient.\n",
      "  self._set_arrayXarray(i, j, x)\n"
     ]
    },
    {
     "name": "stdout",
     "output_type": "stream",
     "text": [
      "cur_iter  1\n",
      "cur_iter  2\n",
      "cur_iter  3\n",
      "cur_iter  4\n",
      "cur_iter  5\n",
      "cur_iter  6\n",
      "cur_iter  7\n",
      "no more keyphrase available\n",
      "target_item:  2446\n",
      "14.070267241412012\n",
      "cur_iter  0\n"
     ]
    },
    {
     "name": "stderr",
     "output_type": "stream",
     "text": [
      "/Users/litos/opt/anaconda3/lib/python3.7/site-packages/scipy/sparse/_index.py:127: SparseEfficiencyWarning: Changing the sparsity structure of a csr_matrix is expensive. lil_matrix is more efficient.\n",
      "  self._set_arrayXarray(i, j, x)\n"
     ]
    },
    {
     "name": "stdout",
     "output_type": "stream",
     "text": [
      "cur_iter  1\n",
      "cur_iter  2\n",
      "cur_iter  3\n",
      "cur_iter  4\n",
      "cur_iter  5\n",
      "cur_iter  6\n",
      "cur_iter  7\n",
      "cur_iter  8\n",
      "cur_iter  9\n",
      "target_item:  2449\n",
      "22.07103074165957\n",
      "cur_iter  0\n"
     ]
    },
    {
     "name": "stderr",
     "output_type": "stream",
     "text": [
      "/Users/litos/opt/anaconda3/lib/python3.7/site-packages/scipy/sparse/_index.py:127: SparseEfficiencyWarning: Changing the sparsity structure of a csr_matrix is expensive. lil_matrix is more efficient.\n",
      "  self._set_arrayXarray(i, j, x)\n"
     ]
    },
    {
     "name": "stdout",
     "output_type": "stream",
     "text": [
      "cur_iter  1\n",
      "cur_iter  2\n",
      "cur_iter  3\n",
      "cur_iter  4\n",
      "cur_iter  5\n",
      "cur_iter  6\n",
      "cur_iter  7\n",
      "cur_iter  8\n",
      "cur_iter  9\n",
      "target_item:  2942\n",
      "20.175078485990753\n",
      "cur_iter  0\n"
     ]
    },
    {
     "name": "stderr",
     "output_type": "stream",
     "text": [
      "/Users/litos/opt/anaconda3/lib/python3.7/site-packages/scipy/sparse/_index.py:127: SparseEfficiencyWarning: Changing the sparsity structure of a csr_matrix is expensive. lil_matrix is more efficient.\n",
      "  self._set_arrayXarray(i, j, x)\n"
     ]
    },
    {
     "name": "stdout",
     "output_type": "stream",
     "text": [
      "cur_iter  1\n",
      "cur_iter  2\n",
      "cur_iter  3\n",
      "cur_iter  4\n",
      "cur_iter  5\n",
      "cur_iter  6\n",
      "cur_iter  7\n",
      "cur_iter  8\n",
      "cur_iter  9\n",
      "target_item:  3301\n",
      "51.939383577144554\n",
      "cur_iter  0\n"
     ]
    },
    {
     "name": "stderr",
     "output_type": "stream",
     "text": [
      "/Users/litos/opt/anaconda3/lib/python3.7/site-packages/scipy/sparse/_index.py:127: SparseEfficiencyWarning: Changing the sparsity structure of a csr_matrix is expensive. lil_matrix is more efficient.\n",
      "  self._set_arrayXarray(i, j, x)\n"
     ]
    },
    {
     "name": "stdout",
     "output_type": "stream",
     "text": [
      "cur_iter  1\n",
      "cur_iter  2\n",
      "cur_iter  3\n",
      "cur_iter  4\n",
      "cur_iter  5\n",
      "no more keyphrase available\n",
      "target_item:  3333\n",
      "16.06886120540753\n",
      "cur_iter  0\n"
     ]
    },
    {
     "name": "stderr",
     "output_type": "stream",
     "text": [
      "/Users/litos/opt/anaconda3/lib/python3.7/site-packages/scipy/sparse/_index.py:127: SparseEfficiencyWarning: Changing the sparsity structure of a csr_matrix is expensive. lil_matrix is more efficient.\n",
      "  self._set_arrayXarray(i, j, x)\n"
     ]
    },
    {
     "name": "stdout",
     "output_type": "stream",
     "text": [
      "cur_iter  1\n",
      "cur_iter  2\n",
      "cur_iter  3\n",
      "cur_iter  4\n",
      "cur_iter  5\n",
      "cur_iter  6\n",
      "cur_iter  7\n",
      "cur_iter  8\n",
      "cur_iter  9\n",
      "target_item:  3377\n",
      "26.85070856484913\n",
      "cur_iter  0\n"
     ]
    },
    {
     "name": "stderr",
     "output_type": "stream",
     "text": [
      "/Users/litos/opt/anaconda3/lib/python3.7/site-packages/scipy/sparse/_index.py:127: SparseEfficiencyWarning: Changing the sparsity structure of a csr_matrix is expensive. lil_matrix is more efficient.\n",
      "  self._set_arrayXarray(i, j, x)\n"
     ]
    },
    {
     "name": "stdout",
     "output_type": "stream",
     "text": [
      "cur_iter  1\n",
      "cur_iter  2\n",
      "cur_iter  3\n",
      "cur_iter  4\n",
      "cur_iter  5\n",
      "cur_iter  6\n",
      "cur_iter  7\n",
      "cur_iter  8\n",
      "cur_iter  9\n",
      "target_item:  3558\n",
      "77.83857599077987\n",
      "cur_iter  0\n"
     ]
    },
    {
     "name": "stderr",
     "output_type": "stream",
     "text": [
      "/Users/litos/opt/anaconda3/lib/python3.7/site-packages/scipy/sparse/_index.py:127: SparseEfficiencyWarning: Changing the sparsity structure of a csr_matrix is expensive. lil_matrix is more efficient.\n",
      "  self._set_arrayXarray(i, j, x)\n"
     ]
    },
    {
     "name": "stdout",
     "output_type": "stream",
     "text": [
      "cur_iter  1\n",
      "no more keyphrase available\n",
      "target_item:  4495\n",
      "16.37400916496722\n",
      "cur_iter  0\n"
     ]
    },
    {
     "name": "stderr",
     "output_type": "stream",
     "text": [
      "/Users/litos/opt/anaconda3/lib/python3.7/site-packages/scipy/sparse/_index.py:127: SparseEfficiencyWarning: Changing the sparsity structure of a csr_matrix is expensive. lil_matrix is more efficient.\n",
      "  self._set_arrayXarray(i, j, x)\n"
     ]
    },
    {
     "name": "stdout",
     "output_type": "stream",
     "text": [
      "cur_iter  1\n",
      "cur_iter  2\n",
      "cur_iter  3\n",
      "cur_iter  4\n",
      "cur_iter  5\n",
      "cur_iter  6\n",
      "cur_iter  7\n",
      "cur_iter  8\n",
      "cur_iter  9\n",
      "target_item:  5081\n",
      "22.41544031467879\n",
      "cur_iter  0\n"
     ]
    },
    {
     "name": "stderr",
     "output_type": "stream",
     "text": [
      "/Users/litos/opt/anaconda3/lib/python3.7/site-packages/scipy/sparse/_index.py:127: SparseEfficiencyWarning: Changing the sparsity structure of a csr_matrix is expensive. lil_matrix is more efficient.\n",
      "  self._set_arrayXarray(i, j, x)\n"
     ]
    },
    {
     "name": "stdout",
     "output_type": "stream",
     "text": [
      "cur_iter  1\n",
      "cur_iter  2\n",
      "cur_iter  3\n",
      "cur_iter  4\n",
      "cur_iter  5\n",
      "cur_iter  6\n",
      "cur_iter  7\n",
      "cur_iter  8\n",
      "cur_iter  9\n",
      "User ID  323\n",
      "wanted_items length:  7\n",
      "Initial top recommendation index 3997\n",
      "target_item:  161\n",
      "3.3511783447456764\n",
      "cur_iter  0\n"
     ]
    },
    {
     "name": "stderr",
     "output_type": "stream",
     "text": [
      "/Users/litos/opt/anaconda3/lib/python3.7/site-packages/scipy/sparse/_index.py:127: SparseEfficiencyWarning: Changing the sparsity structure of a csr_matrix is expensive. lil_matrix is more efficient.\n",
      "  self._set_arrayXarray(i, j, x)\n"
     ]
    },
    {
     "name": "stdout",
     "output_type": "stream",
     "text": [
      "cur_iter  1\n",
      "cur_iter  2\n",
      "cur_iter  3\n",
      "cur_iter  4\n",
      "cur_iter  5\n",
      "cur_iter  6\n",
      "cur_iter  7\n",
      "cur_iter  8\n",
      "cur_iter  9\n",
      "target_item:  1218\n",
      "6.581349408478673\n",
      "cur_iter  0\n"
     ]
    },
    {
     "name": "stderr",
     "output_type": "stream",
     "text": [
      "/Users/litos/opt/anaconda3/lib/python3.7/site-packages/scipy/sparse/_index.py:127: SparseEfficiencyWarning: Changing the sparsity structure of a csr_matrix is expensive. lil_matrix is more efficient.\n",
      "  self._set_arrayXarray(i, j, x)\n"
     ]
    },
    {
     "name": "stdout",
     "output_type": "stream",
     "text": [
      "cur_iter  1\n",
      "cur_iter  2\n",
      "cur_iter  3\n",
      "cur_iter  4\n",
      "cur_iter  5\n",
      "cur_iter  6\n",
      "cur_iter  7\n",
      "cur_iter  8\n",
      "cur_iter  9\n",
      "target_item:  1490\n",
      "3.807823326009384\n",
      "cur_iter  0\n"
     ]
    },
    {
     "name": "stderr",
     "output_type": "stream",
     "text": [
      "/Users/litos/opt/anaconda3/lib/python3.7/site-packages/scipy/sparse/_index.py:127: SparseEfficiencyWarning: Changing the sparsity structure of a csr_matrix is expensive. lil_matrix is more efficient.\n",
      "  self._set_arrayXarray(i, j, x)\n"
     ]
    },
    {
     "name": "stdout",
     "output_type": "stream",
     "text": [
      "cur_iter  1\n",
      "cur_iter  2\n",
      "cur_iter  3\n",
      "cur_iter  4\n",
      "cur_iter  5\n",
      "cur_iter  6\n",
      "cur_iter  7\n",
      "cur_iter  8\n",
      "cur_iter  9\n",
      "target_item:  4383\n",
      "25.21806167873001\n",
      "cur_iter  0\n"
     ]
    },
    {
     "name": "stderr",
     "output_type": "stream",
     "text": [
      "/Users/litos/opt/anaconda3/lib/python3.7/site-packages/scipy/sparse/_index.py:127: SparseEfficiencyWarning: Changing the sparsity structure of a csr_matrix is expensive. lil_matrix is more efficient.\n",
      "  self._set_arrayXarray(i, j, x)\n"
     ]
    },
    {
     "name": "stdout",
     "output_type": "stream",
     "text": [
      "cur_iter  1\n",
      "cur_iter  2\n",
      "cur_iter  3\n",
      "cur_iter  4\n",
      "cur_iter  5\n",
      "cur_iter  6\n",
      "no more keyphrase available\n",
      "target_item:  4421\n",
      "4.339014348936871\n",
      "cur_iter  0\n"
     ]
    },
    {
     "name": "stderr",
     "output_type": "stream",
     "text": [
      "/Users/litos/opt/anaconda3/lib/python3.7/site-packages/scipy/sparse/_index.py:127: SparseEfficiencyWarning: Changing the sparsity structure of a csr_matrix is expensive. lil_matrix is more efficient.\n",
      "  self._set_arrayXarray(i, j, x)\n"
     ]
    },
    {
     "name": "stdout",
     "output_type": "stream",
     "text": [
      "cur_iter  1\n",
      "cur_iter  2\n",
      "cur_iter  3\n",
      "cur_iter  4\n",
      "cur_iter  5\n",
      "cur_iter  6\n",
      "cur_iter  7\n",
      "cur_iter  8\n",
      "cur_iter  9\n",
      "target_item:  5637\n",
      "90.94447101075639\n",
      "cur_iter  0\n",
      "no more keyphrase available\n",
      "target_item:  6555\n",
      "5.754710796754807\n",
      "cur_iter  0\n"
     ]
    },
    {
     "name": "stderr",
     "output_type": "stream",
     "text": [
      "/Users/litos/opt/anaconda3/lib/python3.7/site-packages/scipy/sparse/_index.py:127: SparseEfficiencyWarning: Changing the sparsity structure of a csr_matrix is expensive. lil_matrix is more efficient.\n",
      "  self._set_arrayXarray(i, j, x)\n"
     ]
    },
    {
     "name": "stdout",
     "output_type": "stream",
     "text": [
      "cur_iter  1\n",
      "cur_iter  2\n",
      "cur_iter  3\n",
      "cur_iter  4\n",
      "cur_iter  5\n",
      "cur_iter  6\n",
      "cur_iter  7\n",
      "cur_iter  8\n",
      "cur_iter  9\n",
      "User ID  324\n",
      "wanted_items length:  25\n",
      "Initial top recommendation index 4443\n",
      "target_item:  533\n",
      "57.840464279270236\n",
      "cur_iter  0\n"
     ]
    },
    {
     "name": "stderr",
     "output_type": "stream",
     "text": [
      "/Users/litos/opt/anaconda3/lib/python3.7/site-packages/scipy/sparse/_index.py:127: SparseEfficiencyWarning: Changing the sparsity structure of a csr_matrix is expensive. lil_matrix is more efficient.\n",
      "  self._set_arrayXarray(i, j, x)\n"
     ]
    },
    {
     "name": "stdout",
     "output_type": "stream",
     "text": [
      "cur_iter  1\n",
      "cur_iter  2\n",
      "cur_iter  3\n",
      "cur_iter  4\n",
      "cur_iter  5\n",
      "cur_iter  6\n",
      "cur_iter  7\n",
      "cur_iter  8\n",
      "cur_iter  9\n",
      "target_item:  635\n",
      "71.89009503194029\n",
      "cur_iter  0\n"
     ]
    },
    {
     "name": "stderr",
     "output_type": "stream",
     "text": [
      "/Users/litos/opt/anaconda3/lib/python3.7/site-packages/scipy/sparse/_index.py:127: SparseEfficiencyWarning: Changing the sparsity structure of a csr_matrix is expensive. lil_matrix is more efficient.\n",
      "  self._set_arrayXarray(i, j, x)\n"
     ]
    },
    {
     "name": "stdout",
     "output_type": "stream",
     "text": [
      "cur_iter  1\n",
      "cur_iter  2\n",
      "cur_iter  3\n",
      "cur_iter  4\n",
      "cur_iter  5\n",
      "cur_iter  6\n",
      "cur_iter  7\n",
      "cur_iter  8\n",
      "cur_iter  9\n",
      "target_item:  766\n",
      "118.05658522207887\n",
      "cur_iter  0\n"
     ]
    },
    {
     "name": "stderr",
     "output_type": "stream",
     "text": [
      "/Users/litos/opt/anaconda3/lib/python3.7/site-packages/scipy/sparse/_index.py:127: SparseEfficiencyWarning: Changing the sparsity structure of a csr_matrix is expensive. lil_matrix is more efficient.\n",
      "  self._set_arrayXarray(i, j, x)\n"
     ]
    },
    {
     "name": "stdout",
     "output_type": "stream",
     "text": [
      "cur_iter  1\n",
      "cur_iter  2\n",
      "cur_iter  3\n",
      "no more keyphrase available\n",
      "target_item:  854\n",
      "79.07658616499612\n",
      "cur_iter  0\n"
     ]
    },
    {
     "name": "stderr",
     "output_type": "stream",
     "text": [
      "/Users/litos/opt/anaconda3/lib/python3.7/site-packages/scipy/sparse/_index.py:127: SparseEfficiencyWarning: Changing the sparsity structure of a csr_matrix is expensive. lil_matrix is more efficient.\n",
      "  self._set_arrayXarray(i, j, x)\n"
     ]
    },
    {
     "name": "stdout",
     "output_type": "stream",
     "text": [
      "cur_iter  1\n",
      "cur_iter  2\n",
      "cur_iter  3\n",
      "cur_iter  4\n",
      "cur_iter  5\n",
      "no more keyphrase available\n",
      "target_item:  1209\n",
      "55.44591822039001\n",
      "cur_iter  0\n"
     ]
    },
    {
     "name": "stderr",
     "output_type": "stream",
     "text": [
      "/Users/litos/opt/anaconda3/lib/python3.7/site-packages/scipy/sparse/_index.py:127: SparseEfficiencyWarning: Changing the sparsity structure of a csr_matrix is expensive. lil_matrix is more efficient.\n",
      "  self._set_arrayXarray(i, j, x)\n"
     ]
    },
    {
     "name": "stdout",
     "output_type": "stream",
     "text": [
      "cur_iter  1\n",
      "cur_iter  2\n",
      "cur_iter  3\n",
      "cur_iter  4\n",
      "cur_iter  5\n",
      "cur_iter  6\n",
      "cur_iter  7\n",
      "cur_iter  8\n",
      "cur_iter  9\n",
      "target_item:  1337\n",
      "147.9644603197048\n",
      "cur_iter  0\n"
     ]
    },
    {
     "name": "stderr",
     "output_type": "stream",
     "text": [
      "/Users/litos/opt/anaconda3/lib/python3.7/site-packages/scipy/sparse/_index.py:127: SparseEfficiencyWarning: Changing the sparsity structure of a csr_matrix is expensive. lil_matrix is more efficient.\n",
      "  self._set_arrayXarray(i, j, x)\n"
     ]
    },
    {
     "name": "stdout",
     "output_type": "stream",
     "text": [
      "cur_iter  1\n",
      "cur_iter  2\n",
      "cur_iter  3\n",
      "cur_iter  4\n",
      "cur_iter  5\n",
      "cur_iter  6\n",
      "no more keyphrase available\n",
      "target_item:  1474\n",
      "280.90678719104835\n",
      "cur_iter  0\n"
     ]
    },
    {
     "name": "stderr",
     "output_type": "stream",
     "text": [
      "/Users/litos/opt/anaconda3/lib/python3.7/site-packages/scipy/sparse/_index.py:127: SparseEfficiencyWarning: Changing the sparsity structure of a csr_matrix is expensive. lil_matrix is more efficient.\n",
      "  self._set_arrayXarray(i, j, x)\n"
     ]
    },
    {
     "name": "stdout",
     "output_type": "stream",
     "text": [
      "cur_iter  1\n",
      "no more keyphrase available\n",
      "target_item:  2031\n",
      "52.94265027000438\n",
      "cur_iter  0\n"
     ]
    },
    {
     "name": "stderr",
     "output_type": "stream",
     "text": [
      "/Users/litos/opt/anaconda3/lib/python3.7/site-packages/scipy/sparse/_index.py:127: SparseEfficiencyWarning: Changing the sparsity structure of a csr_matrix is expensive. lil_matrix is more efficient.\n",
      "  self._set_arrayXarray(i, j, x)\n"
     ]
    },
    {
     "name": "stdout",
     "output_type": "stream",
     "text": [
      "cur_iter  1\n",
      "cur_iter  2\n",
      "cur_iter  3\n",
      "cur_iter  4\n",
      "cur_iter  5\n",
      "cur_iter  6\n",
      "cur_iter  7\n",
      "cur_iter  8\n",
      "cur_iter  9\n",
      "target_item:  2509\n",
      "97.8366545458448\n",
      "cur_iter  0\n"
     ]
    },
    {
     "name": "stderr",
     "output_type": "stream",
     "text": [
      "/Users/litos/opt/anaconda3/lib/python3.7/site-packages/scipy/sparse/_index.py:127: SparseEfficiencyWarning: Changing the sparsity structure of a csr_matrix is expensive. lil_matrix is more efficient.\n",
      "  self._set_arrayXarray(i, j, x)\n"
     ]
    },
    {
     "name": "stdout",
     "output_type": "stream",
     "text": [
      "cur_iter  1\n",
      "cur_iter  2\n",
      "cur_iter  3\n",
      "cur_iter  4\n",
      "cur_iter  5\n",
      "cur_iter  6\n",
      "cur_iter  7\n",
      "no more keyphrase available\n",
      "target_item:  2894\n",
      "54.872302457177284\n",
      "cur_iter  0\n"
     ]
    },
    {
     "name": "stderr",
     "output_type": "stream",
     "text": [
      "/Users/litos/opt/anaconda3/lib/python3.7/site-packages/scipy/sparse/_index.py:127: SparseEfficiencyWarning: Changing the sparsity structure of a csr_matrix is expensive. lil_matrix is more efficient.\n",
      "  self._set_arrayXarray(i, j, x)\n"
     ]
    },
    {
     "name": "stdout",
     "output_type": "stream",
     "text": [
      "cur_iter  1\n",
      "cur_iter  2\n",
      "cur_iter  3\n",
      "cur_iter  4\n",
      "cur_iter  5\n",
      "cur_iter  6\n",
      "cur_iter  7\n",
      "cur_iter  8\n",
      "cur_iter  9\n",
      "target_item:  2923\n",
      "236.80206468357574\n",
      "cur_iter  0\n"
     ]
    },
    {
     "name": "stderr",
     "output_type": "stream",
     "text": [
      "/Users/litos/opt/anaconda3/lib/python3.7/site-packages/scipy/sparse/_index.py:127: SparseEfficiencyWarning: Changing the sparsity structure of a csr_matrix is expensive. lil_matrix is more efficient.\n",
      "  self._set_arrayXarray(i, j, x)\n"
     ]
    },
    {
     "name": "stdout",
     "output_type": "stream",
     "text": [
      "cur_iter  1\n",
      "cur_iter  2\n",
      "cur_iter  3\n",
      "no more keyphrase available\n",
      "User ID  325\n",
      "wanted_items length:  8\n",
      "Initial top recommendation index 4972\n",
      "target_item:  1463\n",
      "33.012655928849426\n",
      "cur_iter  0\n"
     ]
    },
    {
     "name": "stderr",
     "output_type": "stream",
     "text": [
      "/Users/litos/opt/anaconda3/lib/python3.7/site-packages/scipy/sparse/_index.py:127: SparseEfficiencyWarning: Changing the sparsity structure of a csr_matrix is expensive. lil_matrix is more efficient.\n",
      "  self._set_arrayXarray(i, j, x)\n"
     ]
    },
    {
     "name": "stdout",
     "output_type": "stream",
     "text": [
      "cur_iter  1\n",
      "cur_iter  2\n",
      "cur_iter  3\n",
      "no more keyphrase available\n",
      "target_item:  1567\n",
      "30.98443755307585\n",
      "cur_iter  0\n"
     ]
    },
    {
     "name": "stderr",
     "output_type": "stream",
     "text": [
      "/Users/litos/opt/anaconda3/lib/python3.7/site-packages/scipy/sparse/_index.py:127: SparseEfficiencyWarning: Changing the sparsity structure of a csr_matrix is expensive. lil_matrix is more efficient.\n",
      "  self._set_arrayXarray(i, j, x)\n"
     ]
    },
    {
     "name": "stdout",
     "output_type": "stream",
     "text": [
      "cur_iter  1\n",
      "cur_iter  2\n",
      "cur_iter  3\n",
      "cur_iter  4\n",
      "cur_iter  5\n",
      "cur_iter  6\n",
      "no more keyphrase available\n",
      "target_item:  2794\n",
      "11.621537110257805\n",
      "cur_iter  0\n"
     ]
    },
    {
     "name": "stderr",
     "output_type": "stream",
     "text": [
      "/Users/litos/opt/anaconda3/lib/python3.7/site-packages/scipy/sparse/_index.py:127: SparseEfficiencyWarning: Changing the sparsity structure of a csr_matrix is expensive. lil_matrix is more efficient.\n",
      "  self._set_arrayXarray(i, j, x)\n"
     ]
    },
    {
     "name": "stdout",
     "output_type": "stream",
     "text": [
      "cur_iter  1\n",
      "cur_iter  2\n",
      "cur_iter  3\n",
      "cur_iter  4\n",
      "cur_iter  5\n",
      "cur_iter  6\n",
      "cur_iter  7\n",
      "cur_iter  8\n",
      "cur_iter  9\n",
      "target_item:  2957\n",
      "7.229763178217581\n",
      "cur_iter  0\n"
     ]
    },
    {
     "name": "stderr",
     "output_type": "stream",
     "text": [
      "/Users/litos/opt/anaconda3/lib/python3.7/site-packages/scipy/sparse/_index.py:127: SparseEfficiencyWarning: Changing the sparsity structure of a csr_matrix is expensive. lil_matrix is more efficient.\n",
      "  self._set_arrayXarray(i, j, x)\n"
     ]
    },
    {
     "name": "stdout",
     "output_type": "stream",
     "text": [
      "cur_iter  1\n",
      "cur_iter  2\n",
      "cur_iter  3\n",
      "cur_iter  4\n",
      "cur_iter  5\n",
      "cur_iter  6\n",
      "cur_iter  7\n",
      "cur_iter  8\n",
      "cur_iter  9\n",
      "target_item:  4141\n",
      "6.5363701208420935\n",
      "cur_iter  0\n"
     ]
    },
    {
     "name": "stderr",
     "output_type": "stream",
     "text": [
      "/Users/litos/opt/anaconda3/lib/python3.7/site-packages/scipy/sparse/_index.py:127: SparseEfficiencyWarning: Changing the sparsity structure of a csr_matrix is expensive. lil_matrix is more efficient.\n",
      "  self._set_arrayXarray(i, j, x)\n"
     ]
    },
    {
     "name": "stdout",
     "output_type": "stream",
     "text": [
      "cur_iter  1\n",
      "cur_iter  2\n",
      "cur_iter  3\n",
      "cur_iter  4\n",
      "cur_iter  5\n",
      "cur_iter  6\n",
      "cur_iter  7\n",
      "cur_iter  8\n",
      "cur_iter  9\n",
      "target_item:  6071\n",
      "16.935360531669176\n",
      "cur_iter  0\n"
     ]
    },
    {
     "name": "stderr",
     "output_type": "stream",
     "text": [
      "/Users/litos/opt/anaconda3/lib/python3.7/site-packages/scipy/sparse/_index.py:127: SparseEfficiencyWarning: Changing the sparsity structure of a csr_matrix is expensive. lil_matrix is more efficient.\n",
      "  self._set_arrayXarray(i, j, x)\n"
     ]
    },
    {
     "name": "stdout",
     "output_type": "stream",
     "text": [
      "cur_iter  1\n",
      "cur_iter  2\n",
      "cur_iter  3\n",
      "cur_iter  4\n",
      "cur_iter  5\n",
      "cur_iter  6\n",
      "cur_iter  7\n",
      "cur_iter  8\n",
      "cur_iter  9\n",
      "target_item:  7195\n",
      "11.06925931451542\n",
      "cur_iter  0\n"
     ]
    },
    {
     "name": "stderr",
     "output_type": "stream",
     "text": [
      "/Users/litos/opt/anaconda3/lib/python3.7/site-packages/scipy/sparse/_index.py:127: SparseEfficiencyWarning: Changing the sparsity structure of a csr_matrix is expensive. lil_matrix is more efficient.\n",
      "  self._set_arrayXarray(i, j, x)\n"
     ]
    },
    {
     "name": "stdout",
     "output_type": "stream",
     "text": [
      "cur_iter  1\n",
      "cur_iter  2\n",
      "cur_iter  3\n",
      "cur_iter  4\n",
      "cur_iter  5\n",
      "cur_iter  6\n",
      "cur_iter  7\n",
      "cur_iter  8\n",
      "cur_iter  9\n",
      "target_item:  7425\n",
      "10.299639229914646\n",
      "cur_iter  0\n"
     ]
    },
    {
     "name": "stderr",
     "output_type": "stream",
     "text": [
      "/Users/litos/opt/anaconda3/lib/python3.7/site-packages/scipy/sparse/_index.py:127: SparseEfficiencyWarning: Changing the sparsity structure of a csr_matrix is expensive. lil_matrix is more efficient.\n",
      "  self._set_arrayXarray(i, j, x)\n"
     ]
    },
    {
     "name": "stdout",
     "output_type": "stream",
     "text": [
      "cur_iter  1\n",
      "cur_iter  2\n",
      "cur_iter  3\n",
      "cur_iter  4\n",
      "cur_iter  5\n",
      "cur_iter  6\n",
      "cur_iter  7\n",
      "cur_iter  8\n",
      "cur_iter  9\n",
      "User ID  326\n",
      "wanted_items length:  13\n",
      "Initial top recommendation index 5410\n",
      "target_item:  36\n",
      "5.603136837402417\n",
      "cur_iter  0\n"
     ]
    },
    {
     "name": "stderr",
     "output_type": "stream",
     "text": [
      "/Users/litos/opt/anaconda3/lib/python3.7/site-packages/scipy/sparse/_index.py:127: SparseEfficiencyWarning: Changing the sparsity structure of a csr_matrix is expensive. lil_matrix is more efficient.\n",
      "  self._set_arrayXarray(i, j, x)\n"
     ]
    },
    {
     "name": "stdout",
     "output_type": "stream",
     "text": [
      "cur_iter  1\n",
      "cur_iter  2\n",
      "cur_iter  3\n",
      "cur_iter  4\n",
      "cur_iter  5\n",
      "cur_iter  6\n",
      "cur_iter  7\n",
      "cur_iter  8\n",
      "cur_iter  9\n",
      "target_item:  828\n",
      "10.847378242091509\n",
      "cur_iter  0\n"
     ]
    },
    {
     "name": "stderr",
     "output_type": "stream",
     "text": [
      "/Users/litos/opt/anaconda3/lib/python3.7/site-packages/scipy/sparse/_index.py:127: SparseEfficiencyWarning: Changing the sparsity structure of a csr_matrix is expensive. lil_matrix is more efficient.\n",
      "  self._set_arrayXarray(i, j, x)\n"
     ]
    },
    {
     "name": "stdout",
     "output_type": "stream",
     "text": [
      "cur_iter  1\n",
      "cur_iter  2\n",
      "cur_iter  3\n",
      "cur_iter  4\n",
      "cur_iter  5\n",
      "cur_iter  6\n",
      "cur_iter  7\n",
      "cur_iter  8\n",
      "cur_iter  9\n",
      "target_item:  1219\n",
      "8.153686372788798\n",
      "cur_iter  0\n"
     ]
    },
    {
     "name": "stderr",
     "output_type": "stream",
     "text": [
      "/Users/litos/opt/anaconda3/lib/python3.7/site-packages/scipy/sparse/_index.py:127: SparseEfficiencyWarning: Changing the sparsity structure of a csr_matrix is expensive. lil_matrix is more efficient.\n",
      "  self._set_arrayXarray(i, j, x)\n"
     ]
    },
    {
     "name": "stdout",
     "output_type": "stream",
     "text": [
      "cur_iter  1\n",
      "cur_iter  2\n",
      "cur_iter  3\n",
      "cur_iter  4\n",
      "cur_iter  5\n",
      "cur_iter  6\n",
      "cur_iter  7\n",
      "cur_iter  8\n",
      "cur_iter  9\n",
      "target_item:  1411\n",
      "16.59562105432269\n",
      "cur_iter  0\n"
     ]
    },
    {
     "name": "stderr",
     "output_type": "stream",
     "text": [
      "/Users/litos/opt/anaconda3/lib/python3.7/site-packages/scipy/sparse/_index.py:127: SparseEfficiencyWarning: Changing the sparsity structure of a csr_matrix is expensive. lil_matrix is more efficient.\n",
      "  self._set_arrayXarray(i, j, x)\n"
     ]
    },
    {
     "name": "stdout",
     "output_type": "stream",
     "text": [
      "cur_iter  1\n",
      "cur_iter  2\n",
      "cur_iter  3\n",
      "cur_iter  4\n",
      "cur_iter  5\n",
      "cur_iter  6\n",
      "cur_iter  7\n",
      "cur_iter  8\n",
      "cur_iter  9\n",
      "target_item:  1467\n",
      "12.470992521615699\n",
      "cur_iter  0\n"
     ]
    },
    {
     "name": "stderr",
     "output_type": "stream",
     "text": [
      "/Users/litos/opt/anaconda3/lib/python3.7/site-packages/scipy/sparse/_index.py:127: SparseEfficiencyWarning: Changing the sparsity structure of a csr_matrix is expensive. lil_matrix is more efficient.\n",
      "  self._set_arrayXarray(i, j, x)\n"
     ]
    },
    {
     "name": "stdout",
     "output_type": "stream",
     "text": [
      "cur_iter  1\n",
      "cur_iter  2\n",
      "cur_iter  3\n",
      "cur_iter  4\n",
      "cur_iter  5\n",
      "cur_iter  6\n",
      "cur_iter  7\n",
      "cur_iter  8\n",
      "cur_iter  9\n",
      "target_item:  1780\n",
      "30.10119468953053\n",
      "cur_iter  0\n"
     ]
    },
    {
     "name": "stderr",
     "output_type": "stream",
     "text": [
      "/Users/litos/opt/anaconda3/lib/python3.7/site-packages/scipy/sparse/_index.py:127: SparseEfficiencyWarning: Changing the sparsity structure of a csr_matrix is expensive. lil_matrix is more efficient.\n",
      "  self._set_arrayXarray(i, j, x)\n"
     ]
    },
    {
     "name": "stdout",
     "output_type": "stream",
     "text": [
      "cur_iter  1\n",
      "cur_iter  2\n",
      "cur_iter  3\n",
      "cur_iter  4\n",
      "cur_iter  5\n",
      "no more keyphrase available\n",
      "target_item:  3264\n",
      "13.905610474408604\n",
      "cur_iter  0\n"
     ]
    },
    {
     "name": "stderr",
     "output_type": "stream",
     "text": [
      "/Users/litos/opt/anaconda3/lib/python3.7/site-packages/scipy/sparse/_index.py:127: SparseEfficiencyWarning: Changing the sparsity structure of a csr_matrix is expensive. lil_matrix is more efficient.\n",
      "  self._set_arrayXarray(i, j, x)\n"
     ]
    },
    {
     "name": "stdout",
     "output_type": "stream",
     "text": [
      "cur_iter  1\n",
      "cur_iter  2\n",
      "cur_iter  3\n",
      "cur_iter  4\n",
      "cur_iter  5\n",
      "cur_iter  6\n",
      "cur_iter  7\n",
      "cur_iter  8\n",
      "cur_iter  9\n",
      "no more keyphrase available\n",
      "target_item:  3743\n",
      "24.793710585305234\n",
      "cur_iter  0\n"
     ]
    },
    {
     "name": "stderr",
     "output_type": "stream",
     "text": [
      "/Users/litos/opt/anaconda3/lib/python3.7/site-packages/scipy/sparse/_index.py:127: SparseEfficiencyWarning: Changing the sparsity structure of a csr_matrix is expensive. lil_matrix is more efficient.\n",
      "  self._set_arrayXarray(i, j, x)\n"
     ]
    },
    {
     "name": "stdout",
     "output_type": "stream",
     "text": [
      "cur_iter  1\n",
      "cur_iter  2\n",
      "cur_iter  3\n",
      "cur_iter  4\n",
      "cur_iter  5\n",
      "cur_iter  6\n",
      "cur_iter  7\n",
      "no more keyphrase available\n",
      "target_item:  3771\n",
      "8.090047037490876\n",
      "cur_iter  0\n"
     ]
    },
    {
     "name": "stderr",
     "output_type": "stream",
     "text": [
      "/Users/litos/opt/anaconda3/lib/python3.7/site-packages/scipy/sparse/_index.py:127: SparseEfficiencyWarning: Changing the sparsity structure of a csr_matrix is expensive. lil_matrix is more efficient.\n",
      "  self._set_arrayXarray(i, j, x)\n"
     ]
    },
    {
     "name": "stdout",
     "output_type": "stream",
     "text": [
      "cur_iter  1\n",
      "cur_iter  2\n",
      "cur_iter  3\n",
      "cur_iter  4\n",
      "cur_iter  5\n",
      "cur_iter  6\n",
      "cur_iter  7\n",
      "cur_iter  8\n",
      "cur_iter  9\n",
      "target_item:  4554\n",
      "21.96208844477951\n",
      "cur_iter  0\n"
     ]
    },
    {
     "name": "stderr",
     "output_type": "stream",
     "text": [
      "/Users/litos/opt/anaconda3/lib/python3.7/site-packages/scipy/sparse/_index.py:127: SparseEfficiencyWarning: Changing the sparsity structure of a csr_matrix is expensive. lil_matrix is more efficient.\n",
      "  self._set_arrayXarray(i, j, x)\n"
     ]
    },
    {
     "name": "stdout",
     "output_type": "stream",
     "text": [
      "cur_iter  1\n",
      "cur_iter  2\n",
      "cur_iter  3\n",
      "cur_iter  4\n",
      "cur_iter  5\n",
      "cur_iter  6\n",
      "cur_iter  7\n",
      "no more keyphrase available\n",
      "target_item:  4673\n",
      "8.56231707072584\n",
      "cur_iter  0\n"
     ]
    },
    {
     "name": "stderr",
     "output_type": "stream",
     "text": [
      "/Users/litos/opt/anaconda3/lib/python3.7/site-packages/scipy/sparse/_index.py:127: SparseEfficiencyWarning: Changing the sparsity structure of a csr_matrix is expensive. lil_matrix is more efficient.\n",
      "  self._set_arrayXarray(i, j, x)\n"
     ]
    },
    {
     "name": "stdout",
     "output_type": "stream",
     "text": [
      "cur_iter  1\n",
      "cur_iter  2\n",
      "cur_iter  3\n",
      "cur_iter  4\n",
      "cur_iter  5\n",
      "cur_iter  6\n",
      "cur_iter  7\n",
      "cur_iter  8\n",
      "cur_iter  9\n",
      "User ID  327\n",
      "wanted_items length:  8\n",
      "Initial top recommendation index 6668\n",
      "target_item:  95\n",
      "Cannot get restaurant name for ItemIndex:  95\n",
      "116.30826236820121\n",
      "cur_iter  0\n",
      "no more keyphrase available\n",
      "target_item:  1044\n",
      "15.461497416541533\n",
      "cur_iter  0\n"
     ]
    },
    {
     "name": "stderr",
     "output_type": "stream",
     "text": [
      "/Users/litos/opt/anaconda3/lib/python3.7/site-packages/ipykernel_launcher.py:33: RuntimeWarning: invalid value encountered in true_divide\n",
      "/Users/litos/opt/anaconda3/lib/python3.7/site-packages/scipy/sparse/_index.py:127: SparseEfficiencyWarning: Changing the sparsity structure of a csr_matrix is expensive. lil_matrix is more efficient.\n",
      "  self._set_arrayXarray(i, j, x)\n"
     ]
    },
    {
     "name": "stdout",
     "output_type": "stream",
     "text": [
      "cur_iter  1\n",
      "cur_iter  2\n",
      "cur_iter  3\n",
      "cur_iter  4\n",
      "cur_iter  5\n",
      "cur_iter  6\n",
      "cur_iter  7\n",
      "cur_iter  8\n",
      "cur_iter  9\n",
      "target_item:  1644\n",
      "14.564467683601833\n",
      "cur_iter  0\n"
     ]
    },
    {
     "name": "stderr",
     "output_type": "stream",
     "text": [
      "/Users/litos/opt/anaconda3/lib/python3.7/site-packages/scipy/sparse/_index.py:127: SparseEfficiencyWarning: Changing the sparsity structure of a csr_matrix is expensive. lil_matrix is more efficient.\n",
      "  self._set_arrayXarray(i, j, x)\n"
     ]
    },
    {
     "name": "stdout",
     "output_type": "stream",
     "text": [
      "cur_iter  1\n",
      "cur_iter  2\n",
      "cur_iter  3\n",
      "cur_iter  4\n",
      "cur_iter  5\n",
      "cur_iter  6\n",
      "cur_iter  7\n",
      "cur_iter  8\n",
      "cur_iter  9\n",
      "target_item:  1955\n",
      "9.257120016820409\n",
      "cur_iter  0\n"
     ]
    },
    {
     "name": "stderr",
     "output_type": "stream",
     "text": [
      "/Users/litos/opt/anaconda3/lib/python3.7/site-packages/scipy/sparse/_index.py:127: SparseEfficiencyWarning: Changing the sparsity structure of a csr_matrix is expensive. lil_matrix is more efficient.\n",
      "  self._set_arrayXarray(i, j, x)\n"
     ]
    },
    {
     "name": "stdout",
     "output_type": "stream",
     "text": [
      "cur_iter  1\n",
      "cur_iter  2\n",
      "cur_iter  3\n",
      "cur_iter  4\n",
      "cur_iter  5\n",
      "cur_iter  6\n",
      "cur_iter  7\n",
      "cur_iter  8\n",
      "cur_iter  9\n",
      "target_item:  2889\n",
      "10.517609660641028\n",
      "cur_iter  0\n"
     ]
    },
    {
     "name": "stderr",
     "output_type": "stream",
     "text": [
      "/Users/litos/opt/anaconda3/lib/python3.7/site-packages/scipy/sparse/_index.py:127: SparseEfficiencyWarning: Changing the sparsity structure of a csr_matrix is expensive. lil_matrix is more efficient.\n",
      "  self._set_arrayXarray(i, j, x)\n"
     ]
    },
    {
     "name": "stdout",
     "output_type": "stream",
     "text": [
      "cur_iter  1\n",
      "cur_iter  2\n",
      "cur_iter  3\n",
      "cur_iter  4\n",
      "cur_iter  5\n",
      "cur_iter  6\n",
      "cur_iter  7\n",
      "cur_iter  8\n",
      "cur_iter  9\n",
      "target_item:  3339\n",
      "44.587461297472146\n",
      "cur_iter  0\n"
     ]
    },
    {
     "name": "stderr",
     "output_type": "stream",
     "text": [
      "/Users/litos/opt/anaconda3/lib/python3.7/site-packages/scipy/sparse/_index.py:127: SparseEfficiencyWarning: Changing the sparsity structure of a csr_matrix is expensive. lil_matrix is more efficient.\n",
      "  self._set_arrayXarray(i, j, x)\n"
     ]
    },
    {
     "name": "stdout",
     "output_type": "stream",
     "text": [
      "cur_iter  1\n",
      "cur_iter  2\n",
      "cur_iter  3\n",
      "cur_iter  4\n",
      "cur_iter  5\n",
      "cur_iter  6\n",
      "no more keyphrase available\n",
      "target_item:  5118\n",
      "7.448638010746436\n",
      "cur_iter  0\n"
     ]
    },
    {
     "name": "stderr",
     "output_type": "stream",
     "text": [
      "/Users/litos/opt/anaconda3/lib/python3.7/site-packages/scipy/sparse/_index.py:127: SparseEfficiencyWarning: Changing the sparsity structure of a csr_matrix is expensive. lil_matrix is more efficient.\n",
      "  self._set_arrayXarray(i, j, x)\n"
     ]
    },
    {
     "name": "stdout",
     "output_type": "stream",
     "text": [
      "cur_iter  1\n",
      "cur_iter  2\n",
      "cur_iter  3\n",
      "cur_iter  4\n",
      "cur_iter  5\n",
      "cur_iter  6\n",
      "cur_iter  7\n",
      "cur_iter  8\n",
      "cur_iter  9\n",
      "target_item:  7070\n",
      "10.345757127493016\n",
      "cur_iter  0\n"
     ]
    },
    {
     "name": "stderr",
     "output_type": "stream",
     "text": [
      "/Users/litos/opt/anaconda3/lib/python3.7/site-packages/scipy/sparse/_index.py:127: SparseEfficiencyWarning: Changing the sparsity structure of a csr_matrix is expensive. lil_matrix is more efficient.\n",
      "  self._set_arrayXarray(i, j, x)\n"
     ]
    },
    {
     "name": "stdout",
     "output_type": "stream",
     "text": [
      "cur_iter  1\n",
      "cur_iter  2\n",
      "cur_iter  3\n",
      "cur_iter  4\n",
      "cur_iter  5\n",
      "cur_iter  6\n",
      "cur_iter  7\n",
      "cur_iter  8\n",
      "cur_iter  9\n",
      "User ID  328\n",
      "wanted_items length:  8\n",
      "Initial top recommendation index 4443\n",
      "target_item:  3401\n",
      "17.396649325775797\n",
      "cur_iter  0\n"
     ]
    },
    {
     "name": "stderr",
     "output_type": "stream",
     "text": [
      "/Users/litos/opt/anaconda3/lib/python3.7/site-packages/scipy/sparse/_index.py:127: SparseEfficiencyWarning: Changing the sparsity structure of a csr_matrix is expensive. lil_matrix is more efficient.\n",
      "  self._set_arrayXarray(i, j, x)\n"
     ]
    },
    {
     "name": "stdout",
     "output_type": "stream",
     "text": [
      "cur_iter  1\n",
      "cur_iter  2\n",
      "cur_iter  3\n",
      "cur_iter  4\n",
      "cur_iter  5\n",
      "cur_iter  6\n",
      "no more keyphrase available\n",
      "target_item:  4011\n",
      "12.38437177783635\n",
      "cur_iter  0\n"
     ]
    },
    {
     "name": "stderr",
     "output_type": "stream",
     "text": [
      "/Users/litos/opt/anaconda3/lib/python3.7/site-packages/scipy/sparse/_index.py:127: SparseEfficiencyWarning: Changing the sparsity structure of a csr_matrix is expensive. lil_matrix is more efficient.\n",
      "  self._set_arrayXarray(i, j, x)\n"
     ]
    },
    {
     "name": "stdout",
     "output_type": "stream",
     "text": [
      "cur_iter  1\n",
      "cur_iter  2\n",
      "cur_iter  3\n",
      "cur_iter  4\n",
      "cur_iter  5\n",
      "cur_iter  6\n",
      "cur_iter  7\n",
      "cur_iter  8\n",
      "cur_iter  9\n",
      "target_item:  4820\n",
      "11.491033591571977\n",
      "cur_iter  0\n"
     ]
    },
    {
     "name": "stderr",
     "output_type": "stream",
     "text": [
      "/Users/litos/opt/anaconda3/lib/python3.7/site-packages/scipy/sparse/_index.py:127: SparseEfficiencyWarning: Changing the sparsity structure of a csr_matrix is expensive. lil_matrix is more efficient.\n",
      "  self._set_arrayXarray(i, j, x)\n"
     ]
    },
    {
     "name": "stdout",
     "output_type": "stream",
     "text": [
      "cur_iter  1\n",
      "cur_iter  2\n",
      "cur_iter  3\n",
      "cur_iter  4\n",
      "cur_iter  5\n",
      "cur_iter  6\n",
      "cur_iter  7\n",
      "cur_iter  8\n",
      "cur_iter  9\n",
      "target_item:  6167\n",
      "8.627882112436055\n",
      "cur_iter  0\n"
     ]
    },
    {
     "name": "stderr",
     "output_type": "stream",
     "text": [
      "/Users/litos/opt/anaconda3/lib/python3.7/site-packages/scipy/sparse/_index.py:127: SparseEfficiencyWarning: Changing the sparsity structure of a csr_matrix is expensive. lil_matrix is more efficient.\n",
      "  self._set_arrayXarray(i, j, x)\n"
     ]
    },
    {
     "name": "stdout",
     "output_type": "stream",
     "text": [
      "cur_iter  1\n",
      "cur_iter  2\n",
      "cur_iter  3\n",
      "cur_iter  4\n",
      "cur_iter  5\n",
      "cur_iter  6\n",
      "cur_iter  7\n",
      "cur_iter  8\n",
      "cur_iter  9\n",
      "target_item:  6288\n",
      "23.533195622683706\n",
      "cur_iter  0\n"
     ]
    },
    {
     "name": "stderr",
     "output_type": "stream",
     "text": [
      "/Users/litos/opt/anaconda3/lib/python3.7/site-packages/scipy/sparse/_index.py:127: SparseEfficiencyWarning: Changing the sparsity structure of a csr_matrix is expensive. lil_matrix is more efficient.\n",
      "  self._set_arrayXarray(i, j, x)\n"
     ]
    },
    {
     "name": "stdout",
     "output_type": "stream",
     "text": [
      "cur_iter  1\n",
      "cur_iter  2\n",
      "cur_iter  3\n",
      "cur_iter  4\n",
      "cur_iter  5\n",
      "cur_iter  6\n",
      "cur_iter  7\n",
      "cur_iter  8\n",
      "cur_iter  9\n",
      "target_item:  6864\n",
      "14.565759796665589\n",
      "cur_iter  0\n"
     ]
    },
    {
     "name": "stderr",
     "output_type": "stream",
     "text": [
      "/Users/litos/opt/anaconda3/lib/python3.7/site-packages/scipy/sparse/_index.py:127: SparseEfficiencyWarning: Changing the sparsity structure of a csr_matrix is expensive. lil_matrix is more efficient.\n",
      "  self._set_arrayXarray(i, j, x)\n"
     ]
    },
    {
     "name": "stdout",
     "output_type": "stream",
     "text": [
      "cur_iter  1\n",
      "cur_iter  2\n",
      "cur_iter  3\n",
      "cur_iter  4\n",
      "cur_iter  5\n",
      "cur_iter  6\n",
      "cur_iter  7\n",
      "cur_iter  8\n",
      "cur_iter  9\n",
      "no more keyphrase available\n",
      "target_item:  6950\n",
      "Cannot get restaurant name for ItemIndex:  6950\n",
      "119.28952302080324\n",
      "cur_iter  0\n",
      "no more keyphrase available\n",
      "target_item:  6958\n",
      "8.694313558620706\n",
      "cur_iter  0\n"
     ]
    },
    {
     "name": "stderr",
     "output_type": "stream",
     "text": [
      "/Users/litos/opt/anaconda3/lib/python3.7/site-packages/ipykernel_launcher.py:33: RuntimeWarning: invalid value encountered in true_divide\n",
      "/Users/litos/opt/anaconda3/lib/python3.7/site-packages/scipy/sparse/_index.py:127: SparseEfficiencyWarning: Changing the sparsity structure of a csr_matrix is expensive. lil_matrix is more efficient.\n",
      "  self._set_arrayXarray(i, j, x)\n"
     ]
    },
    {
     "name": "stdout",
     "output_type": "stream",
     "text": [
      "cur_iter  1\n",
      "cur_iter  2\n",
      "cur_iter  3\n",
      "cur_iter  4\n",
      "cur_iter  5\n",
      "cur_iter  6\n",
      "cur_iter  7\n",
      "cur_iter  8\n",
      "cur_iter  9\n",
      "User ID  329\n",
      "wanted_items length:  14\n",
      "Initial top recommendation index 6739\n",
      "target_item:  790\n",
      "11.657244435000393\n",
      "cur_iter  0\n"
     ]
    },
    {
     "name": "stderr",
     "output_type": "stream",
     "text": [
      "/Users/litos/opt/anaconda3/lib/python3.7/site-packages/scipy/sparse/_index.py:127: SparseEfficiencyWarning: Changing the sparsity structure of a csr_matrix is expensive. lil_matrix is more efficient.\n",
      "  self._set_arrayXarray(i, j, x)\n"
     ]
    },
    {
     "name": "stdout",
     "output_type": "stream",
     "text": [
      "cur_iter  1\n",
      "cur_iter  2\n",
      "cur_iter  3\n",
      "cur_iter  4\n",
      "cur_iter  5\n",
      "cur_iter  6\n",
      "cur_iter  7\n",
      "cur_iter  8\n",
      "cur_iter  9\n",
      "target_item:  1107\n",
      "11.383998840739878\n",
      "cur_iter  0\n"
     ]
    },
    {
     "name": "stderr",
     "output_type": "stream",
     "text": [
      "/Users/litos/opt/anaconda3/lib/python3.7/site-packages/scipy/sparse/_index.py:127: SparseEfficiencyWarning: Changing the sparsity structure of a csr_matrix is expensive. lil_matrix is more efficient.\n",
      "  self._set_arrayXarray(i, j, x)\n"
     ]
    },
    {
     "name": "stdout",
     "output_type": "stream",
     "text": [
      "cur_iter  1\n",
      "cur_iter  2\n",
      "cur_iter  3\n",
      "cur_iter  4\n",
      "cur_iter  5\n",
      "cur_iter  6\n",
      "cur_iter  7\n",
      "cur_iter  8\n",
      "cur_iter  9\n",
      "target_item:  1259\n",
      "9.256603579427974\n",
      "cur_iter  0\n"
     ]
    },
    {
     "name": "stderr",
     "output_type": "stream",
     "text": [
      "/Users/litos/opt/anaconda3/lib/python3.7/site-packages/scipy/sparse/_index.py:127: SparseEfficiencyWarning: Changing the sparsity structure of a csr_matrix is expensive. lil_matrix is more efficient.\n",
      "  self._set_arrayXarray(i, j, x)\n"
     ]
    },
    {
     "name": "stdout",
     "output_type": "stream",
     "text": [
      "cur_iter  1\n",
      "cur_iter  2\n",
      "cur_iter  3\n",
      "cur_iter  4\n",
      "cur_iter  5\n",
      "cur_iter  6\n",
      "cur_iter  7\n",
      "cur_iter  8\n",
      "cur_iter  9\n",
      "target_item:  1658\n",
      "18.470672399140312\n",
      "cur_iter  0\n"
     ]
    },
    {
     "name": "stderr",
     "output_type": "stream",
     "text": [
      "/Users/litos/opt/anaconda3/lib/python3.7/site-packages/scipy/sparse/_index.py:127: SparseEfficiencyWarning: Changing the sparsity structure of a csr_matrix is expensive. lil_matrix is more efficient.\n",
      "  self._set_arrayXarray(i, j, x)\n"
     ]
    },
    {
     "name": "stdout",
     "output_type": "stream",
     "text": [
      "cur_iter  1\n",
      "cur_iter  2\n",
      "cur_iter  3\n",
      "cur_iter  4\n",
      "cur_iter  5\n",
      "cur_iter  6\n",
      "cur_iter  7\n",
      "cur_iter  8\n",
      "cur_iter  9\n",
      "target_item:  2436\n",
      "70.0347088308472\n",
      "cur_iter  0\n"
     ]
    },
    {
     "name": "stderr",
     "output_type": "stream",
     "text": [
      "/Users/litos/opt/anaconda3/lib/python3.7/site-packages/scipy/sparse/_index.py:127: SparseEfficiencyWarning: Changing the sparsity structure of a csr_matrix is expensive. lil_matrix is more efficient.\n",
      "  self._set_arrayXarray(i, j, x)\n"
     ]
    },
    {
     "name": "stdout",
     "output_type": "stream",
     "text": [
      "cur_iter  1\n",
      "cur_iter  2\n",
      "cur_iter  3\n",
      "no more keyphrase available\n",
      "target_item:  2643\n",
      "48.669305409955996\n",
      "cur_iter  0\n"
     ]
    },
    {
     "name": "stderr",
     "output_type": "stream",
     "text": [
      "/Users/litos/opt/anaconda3/lib/python3.7/site-packages/scipy/sparse/_index.py:127: SparseEfficiencyWarning: Changing the sparsity structure of a csr_matrix is expensive. lil_matrix is more efficient.\n",
      "  self._set_arrayXarray(i, j, x)\n"
     ]
    },
    {
     "name": "stdout",
     "output_type": "stream",
     "text": [
      "cur_iter  1\n",
      "cur_iter  2\n",
      "cur_iter  3\n",
      "cur_iter  4\n",
      "cur_iter  5\n",
      "cur_iter  6\n",
      "cur_iter  7\n",
      "no more keyphrase available\n",
      "target_item:  2653\n",
      "36.78553431193541\n",
      "cur_iter  0\n"
     ]
    },
    {
     "name": "stderr",
     "output_type": "stream",
     "text": [
      "/Users/litos/opt/anaconda3/lib/python3.7/site-packages/scipy/sparse/_index.py:127: SparseEfficiencyWarning: Changing the sparsity structure of a csr_matrix is expensive. lil_matrix is more efficient.\n",
      "  self._set_arrayXarray(i, j, x)\n"
     ]
    },
    {
     "name": "stdout",
     "output_type": "stream",
     "text": [
      "cur_iter  1\n",
      "cur_iter  2\n",
      "cur_iter  3\n",
      "cur_iter  4\n",
      "cur_iter  5\n",
      "cur_iter  6\n",
      "no more keyphrase available\n",
      "target_item:  2699\n",
      "69.65718957422268\n",
      "cur_iter  0\n"
     ]
    },
    {
     "name": "stderr",
     "output_type": "stream",
     "text": [
      "/Users/litos/opt/anaconda3/lib/python3.7/site-packages/scipy/sparse/_index.py:127: SparseEfficiencyWarning: Changing the sparsity structure of a csr_matrix is expensive. lil_matrix is more efficient.\n",
      "  self._set_arrayXarray(i, j, x)\n"
     ]
    },
    {
     "name": "stdout",
     "output_type": "stream",
     "text": [
      "cur_iter  1\n",
      "cur_iter  2\n",
      "cur_iter  3\n",
      "cur_iter  4\n",
      "cur_iter  5\n",
      "cur_iter  6\n",
      "cur_iter  7\n",
      "cur_iter  8\n",
      "no more keyphrase available\n",
      "target_item:  4332\n",
      "20.88182823373063\n",
      "cur_iter  0\n"
     ]
    },
    {
     "name": "stderr",
     "output_type": "stream",
     "text": [
      "/Users/litos/opt/anaconda3/lib/python3.7/site-packages/scipy/sparse/_index.py:127: SparseEfficiencyWarning: Changing the sparsity structure of a csr_matrix is expensive. lil_matrix is more efficient.\n",
      "  self._set_arrayXarray(i, j, x)\n"
     ]
    },
    {
     "name": "stdout",
     "output_type": "stream",
     "text": [
      "cur_iter  1\n",
      "cur_iter  2\n",
      "cur_iter  3\n",
      "cur_iter  4\n",
      "cur_iter  5\n",
      "cur_iter  6\n",
      "cur_iter  7\n",
      "cur_iter  8\n",
      "cur_iter  9\n",
      "target_item:  4428\n",
      "9.056943851230244\n",
      "cur_iter  0\n"
     ]
    },
    {
     "name": "stderr",
     "output_type": "stream",
     "text": [
      "/Users/litos/opt/anaconda3/lib/python3.7/site-packages/scipy/sparse/_index.py:127: SparseEfficiencyWarning: Changing the sparsity structure of a csr_matrix is expensive. lil_matrix is more efficient.\n",
      "  self._set_arrayXarray(i, j, x)\n"
     ]
    },
    {
     "name": "stdout",
     "output_type": "stream",
     "text": [
      "cur_iter  1\n",
      "cur_iter  2\n",
      "cur_iter  3\n",
      "cur_iter  4\n",
      "cur_iter  5\n",
      "cur_iter  6\n",
      "cur_iter  7\n",
      "cur_iter  8\n",
      "cur_iter  9\n",
      "target_item:  4939\n",
      "10.094714873832345\n",
      "cur_iter  0\n"
     ]
    },
    {
     "name": "stderr",
     "output_type": "stream",
     "text": [
      "/Users/litos/opt/anaconda3/lib/python3.7/site-packages/scipy/sparse/_index.py:127: SparseEfficiencyWarning: Changing the sparsity structure of a csr_matrix is expensive. lil_matrix is more efficient.\n",
      "  self._set_arrayXarray(i, j, x)\n"
     ]
    },
    {
     "name": "stdout",
     "output_type": "stream",
     "text": [
      "cur_iter  1\n",
      "cur_iter  2\n",
      "cur_iter  3\n",
      "cur_iter  4\n",
      "cur_iter  5\n",
      "cur_iter  6\n",
      "cur_iter  7\n",
      "cur_iter  8\n",
      "cur_iter  9\n",
      "User ID  330\n",
      "wanted_items length:  5\n",
      "Initial top recommendation index 201\n",
      "target_item:  1187\n",
      "6.19976533414183\n",
      "cur_iter  0\n"
     ]
    },
    {
     "name": "stderr",
     "output_type": "stream",
     "text": [
      "/Users/litos/opt/anaconda3/lib/python3.7/site-packages/scipy/sparse/_index.py:127: SparseEfficiencyWarning: Changing the sparsity structure of a csr_matrix is expensive. lil_matrix is more efficient.\n",
      "  self._set_arrayXarray(i, j, x)\n"
     ]
    },
    {
     "name": "stdout",
     "output_type": "stream",
     "text": [
      "cur_iter  1\n",
      "cur_iter  2\n",
      "cur_iter  3\n",
      "cur_iter  4\n",
      "cur_iter  5\n",
      "cur_iter  6\n",
      "cur_iter  7\n",
      "cur_iter  8\n",
      "cur_iter  9\n",
      "target_item:  1898\n",
      "7.455156247887771\n",
      "cur_iter  0\n"
     ]
    },
    {
     "name": "stderr",
     "output_type": "stream",
     "text": [
      "/Users/litos/opt/anaconda3/lib/python3.7/site-packages/scipy/sparse/_index.py:127: SparseEfficiencyWarning: Changing the sparsity structure of a csr_matrix is expensive. lil_matrix is more efficient.\n",
      "  self._set_arrayXarray(i, j, x)\n"
     ]
    },
    {
     "name": "stdout",
     "output_type": "stream",
     "text": [
      "cur_iter  1\n",
      "cur_iter  2\n",
      "cur_iter  3\n",
      "cur_iter  4\n",
      "cur_iter  5\n",
      "cur_iter  6\n",
      "cur_iter  7\n",
      "cur_iter  8\n",
      "cur_iter  9\n",
      "target_item:  3149\n",
      "5.407350244036024\n",
      "cur_iter  0\n"
     ]
    },
    {
     "name": "stderr",
     "output_type": "stream",
     "text": [
      "/Users/litos/opt/anaconda3/lib/python3.7/site-packages/scipy/sparse/_index.py:127: SparseEfficiencyWarning: Changing the sparsity structure of a csr_matrix is expensive. lil_matrix is more efficient.\n",
      "  self._set_arrayXarray(i, j, x)\n"
     ]
    },
    {
     "name": "stdout",
     "output_type": "stream",
     "text": [
      "cur_iter  1\n",
      "cur_iter  2\n",
      "cur_iter  3\n",
      "cur_iter  4\n",
      "cur_iter  5\n",
      "cur_iter  6\n",
      "cur_iter  7\n",
      "cur_iter  8\n",
      "cur_iter  9\n",
      "target_item:  3185\n",
      "7.6748762049596735\n",
      "cur_iter  0\n"
     ]
    },
    {
     "name": "stderr",
     "output_type": "stream",
     "text": [
      "/Users/litos/opt/anaconda3/lib/python3.7/site-packages/scipy/sparse/_index.py:127: SparseEfficiencyWarning: Changing the sparsity structure of a csr_matrix is expensive. lil_matrix is more efficient.\n",
      "  self._set_arrayXarray(i, j, x)\n"
     ]
    },
    {
     "name": "stdout",
     "output_type": "stream",
     "text": [
      "cur_iter  1\n",
      "cur_iter  2\n",
      "cur_iter  3\n",
      "cur_iter  4\n",
      "cur_iter  5\n",
      "cur_iter  6\n",
      "cur_iter  7\n",
      "cur_iter  8\n",
      "cur_iter  9\n",
      "target_item:  4831\n",
      "15.085564015430009\n",
      "cur_iter  0\n"
     ]
    },
    {
     "name": "stderr",
     "output_type": "stream",
     "text": [
      "/Users/litos/opt/anaconda3/lib/python3.7/site-packages/scipy/sparse/_index.py:127: SparseEfficiencyWarning: Changing the sparsity structure of a csr_matrix is expensive. lil_matrix is more efficient.\n",
      "  self._set_arrayXarray(i, j, x)\n"
     ]
    },
    {
     "name": "stdout",
     "output_type": "stream",
     "text": [
      "cur_iter  1\n",
      "cur_iter  2\n",
      "cur_iter  3\n",
      "cur_iter  4\n",
      "cur_iter  5\n",
      "cur_iter  6\n",
      "cur_iter  7\n",
      "cur_iter  8\n",
      "cur_iter  9\n",
      "User ID  331\n",
      "wanted_items length:  5\n",
      "Initial top recommendation index 5852\n",
      "target_item:  3279\n",
      "9.284364901816843\n",
      "cur_iter  0\n"
     ]
    },
    {
     "name": "stderr",
     "output_type": "stream",
     "text": [
      "/Users/litos/opt/anaconda3/lib/python3.7/site-packages/scipy/sparse/_index.py:127: SparseEfficiencyWarning: Changing the sparsity structure of a csr_matrix is expensive. lil_matrix is more efficient.\n",
      "  self._set_arrayXarray(i, j, x)\n"
     ]
    },
    {
     "name": "stdout",
     "output_type": "stream",
     "text": [
      "cur_iter  1\n",
      "cur_iter  2\n",
      "cur_iter  3\n",
      "cur_iter  4\n",
      "cur_iter  5\n",
      "cur_iter  6\n",
      "cur_iter  7\n",
      "cur_iter  8\n",
      "cur_iter  9\n",
      "target_item:  4713\n",
      "34.50686777062242\n",
      "cur_iter  0\n"
     ]
    },
    {
     "name": "stderr",
     "output_type": "stream",
     "text": [
      "/Users/litos/opt/anaconda3/lib/python3.7/site-packages/scipy/sparse/_index.py:127: SparseEfficiencyWarning: Changing the sparsity structure of a csr_matrix is expensive. lil_matrix is more efficient.\n",
      "  self._set_arrayXarray(i, j, x)\n"
     ]
    },
    {
     "name": "stdout",
     "output_type": "stream",
     "text": [
      "cur_iter  1\n",
      "no more keyphrase available\n",
      "target_item:  5033\n",
      "3.457781907145545\n",
      "cur_iter  0\n"
     ]
    },
    {
     "name": "stderr",
     "output_type": "stream",
     "text": [
      "/Users/litos/opt/anaconda3/lib/python3.7/site-packages/scipy/sparse/_index.py:127: SparseEfficiencyWarning: Changing the sparsity structure of a csr_matrix is expensive. lil_matrix is more efficient.\n",
      "  self._set_arrayXarray(i, j, x)\n"
     ]
    },
    {
     "name": "stdout",
     "output_type": "stream",
     "text": [
      "cur_iter  1\n",
      "cur_iter  2\n",
      "cur_iter  3\n",
      "cur_iter  4\n",
      "cur_iter  5\n",
      "cur_iter  6\n",
      "cur_iter  7\n",
      "cur_iter  8\n",
      "cur_iter  9\n",
      "target_item:  5850\n",
      "11.167737929628856\n",
      "cur_iter  0\n"
     ]
    },
    {
     "name": "stderr",
     "output_type": "stream",
     "text": [
      "/Users/litos/opt/anaconda3/lib/python3.7/site-packages/scipy/sparse/_index.py:127: SparseEfficiencyWarning: Changing the sparsity structure of a csr_matrix is expensive. lil_matrix is more efficient.\n",
      "  self._set_arrayXarray(i, j, x)\n"
     ]
    },
    {
     "name": "stdout",
     "output_type": "stream",
     "text": [
      "cur_iter  1\n",
      "cur_iter  2\n",
      "cur_iter  3\n",
      "cur_iter  4\n",
      "cur_iter  5\n",
      "cur_iter  6\n",
      "cur_iter  7\n",
      "cur_iter  8\n",
      "cur_iter  9\n",
      "target_item:  7199\n",
      "10.351130481459222\n",
      "cur_iter  0\n"
     ]
    },
    {
     "name": "stderr",
     "output_type": "stream",
     "text": [
      "/Users/litos/opt/anaconda3/lib/python3.7/site-packages/scipy/sparse/_index.py:127: SparseEfficiencyWarning: Changing the sparsity structure of a csr_matrix is expensive. lil_matrix is more efficient.\n",
      "  self._set_arrayXarray(i, j, x)\n"
     ]
    },
    {
     "name": "stdout",
     "output_type": "stream",
     "text": [
      "cur_iter  1\n",
      "cur_iter  2\n",
      "cur_iter  3\n",
      "cur_iter  4\n",
      "cur_iter  5\n",
      "cur_iter  6\n",
      "cur_iter  7\n",
      "cur_iter  8\n",
      "cur_iter  9\n",
      "User ID  332\n",
      "wanted_items length:  0\n",
      "Initial top recommendation index 7455\n",
      "User ID  333\n",
      "wanted_items length:  20\n",
      "Initial top recommendation index 6222\n",
      "target_item:  570\n",
      "7.371665711332753\n",
      "cur_iter  0\n"
     ]
    },
    {
     "name": "stderr",
     "output_type": "stream",
     "text": [
      "/Users/litos/opt/anaconda3/lib/python3.7/site-packages/scipy/sparse/_index.py:127: SparseEfficiencyWarning: Changing the sparsity structure of a csr_matrix is expensive. lil_matrix is more efficient.\n",
      "  self._set_arrayXarray(i, j, x)\n"
     ]
    },
    {
     "name": "stdout",
     "output_type": "stream",
     "text": [
      "cur_iter  1\n",
      "cur_iter  2\n",
      "cur_iter  3\n",
      "cur_iter  4\n",
      "cur_iter  5\n",
      "cur_iter  6\n",
      "cur_iter  7\n",
      "cur_iter  8\n",
      "cur_iter  9\n",
      "target_item:  790\n",
      "7.049124705445138\n",
      "cur_iter  0\n"
     ]
    },
    {
     "name": "stderr",
     "output_type": "stream",
     "text": [
      "/Users/litos/opt/anaconda3/lib/python3.7/site-packages/scipy/sparse/_index.py:127: SparseEfficiencyWarning: Changing the sparsity structure of a csr_matrix is expensive. lil_matrix is more efficient.\n",
      "  self._set_arrayXarray(i, j, x)\n"
     ]
    },
    {
     "name": "stdout",
     "output_type": "stream",
     "text": [
      "cur_iter  1\n",
      "cur_iter  2\n",
      "cur_iter  3\n",
      "cur_iter  4\n",
      "cur_iter  5\n",
      "cur_iter  6\n",
      "cur_iter  7\n",
      "cur_iter  8\n",
      "cur_iter  9\n",
      "target_item:  1268\n",
      "10.954714171759406\n",
      "cur_iter  0\n"
     ]
    },
    {
     "name": "stderr",
     "output_type": "stream",
     "text": [
      "/Users/litos/opt/anaconda3/lib/python3.7/site-packages/scipy/sparse/_index.py:127: SparseEfficiencyWarning: Changing the sparsity structure of a csr_matrix is expensive. lil_matrix is more efficient.\n",
      "  self._set_arrayXarray(i, j, x)\n"
     ]
    },
    {
     "name": "stdout",
     "output_type": "stream",
     "text": [
      "cur_iter  1\n",
      "cur_iter  2\n",
      "cur_iter  3\n",
      "cur_iter  4\n",
      "cur_iter  5\n",
      "cur_iter  6\n",
      "cur_iter  7\n",
      "cur_iter  8\n",
      "cur_iter  9\n",
      "target_item:  1863\n",
      "8.389039615638467\n",
      "cur_iter  0\n"
     ]
    },
    {
     "name": "stderr",
     "output_type": "stream",
     "text": [
      "/Users/litos/opt/anaconda3/lib/python3.7/site-packages/scipy/sparse/_index.py:127: SparseEfficiencyWarning: Changing the sparsity structure of a csr_matrix is expensive. lil_matrix is more efficient.\n",
      "  self._set_arrayXarray(i, j, x)\n"
     ]
    },
    {
     "name": "stdout",
     "output_type": "stream",
     "text": [
      "cur_iter  1\n",
      "cur_iter  2\n",
      "cur_iter  3\n",
      "cur_iter  4\n",
      "cur_iter  5\n",
      "cur_iter  6\n",
      "cur_iter  7\n",
      "cur_iter  8\n",
      "cur_iter  9\n",
      "target_item:  1887\n",
      "22.507021895053185\n",
      "cur_iter  0\n"
     ]
    },
    {
     "name": "stderr",
     "output_type": "stream",
     "text": [
      "/Users/litos/opt/anaconda3/lib/python3.7/site-packages/scipy/sparse/_index.py:127: SparseEfficiencyWarning: Changing the sparsity structure of a csr_matrix is expensive. lil_matrix is more efficient.\n",
      "  self._set_arrayXarray(i, j, x)\n"
     ]
    },
    {
     "name": "stdout",
     "output_type": "stream",
     "text": [
      "cur_iter  1\n",
      "cur_iter  2\n",
      "cur_iter  3\n",
      "cur_iter  4\n",
      "cur_iter  5\n",
      "cur_iter  6\n",
      "cur_iter  7\n",
      "no more keyphrase available\n",
      "target_item:  2299\n",
      "7.439049405857077\n",
      "cur_iter  0\n"
     ]
    },
    {
     "name": "stderr",
     "output_type": "stream",
     "text": [
      "/Users/litos/opt/anaconda3/lib/python3.7/site-packages/scipy/sparse/_index.py:127: SparseEfficiencyWarning: Changing the sparsity structure of a csr_matrix is expensive. lil_matrix is more efficient.\n",
      "  self._set_arrayXarray(i, j, x)\n"
     ]
    },
    {
     "name": "stdout",
     "output_type": "stream",
     "text": [
      "cur_iter  1\n",
      "cur_iter  2\n",
      "cur_iter  3\n",
      "cur_iter  4\n",
      "cur_iter  5\n",
      "cur_iter  6\n",
      "cur_iter  7\n",
      "cur_iter  8\n",
      "cur_iter  9\n",
      "target_item:  2898\n",
      "7.387352367310086\n",
      "cur_iter  0\n"
     ]
    },
    {
     "name": "stderr",
     "output_type": "stream",
     "text": [
      "/Users/litos/opt/anaconda3/lib/python3.7/site-packages/scipy/sparse/_index.py:127: SparseEfficiencyWarning: Changing the sparsity structure of a csr_matrix is expensive. lil_matrix is more efficient.\n",
      "  self._set_arrayXarray(i, j, x)\n"
     ]
    },
    {
     "name": "stdout",
     "output_type": "stream",
     "text": [
      "cur_iter  1\n",
      "cur_iter  2\n",
      "cur_iter  3\n",
      "cur_iter  4\n",
      "cur_iter  5\n",
      "cur_iter  6\n",
      "cur_iter  7\n",
      "cur_iter  8\n",
      "cur_iter  9\n",
      "target_item:  3064\n",
      "13.846310535005614\n",
      "cur_iter  0\n"
     ]
    },
    {
     "name": "stderr",
     "output_type": "stream",
     "text": [
      "/Users/litos/opt/anaconda3/lib/python3.7/site-packages/scipy/sparse/_index.py:127: SparseEfficiencyWarning: Changing the sparsity structure of a csr_matrix is expensive. lil_matrix is more efficient.\n",
      "  self._set_arrayXarray(i, j, x)\n"
     ]
    },
    {
     "name": "stdout",
     "output_type": "stream",
     "text": [
      "cur_iter  1\n",
      "cur_iter  2\n",
      "cur_iter  3\n",
      "cur_iter  4\n",
      "cur_iter  5\n",
      "cur_iter  6\n",
      "cur_iter  7\n",
      "cur_iter  8\n",
      "cur_iter  9\n",
      "target_item:  3417\n",
      "13.082595996926102\n",
      "cur_iter  0\n"
     ]
    },
    {
     "name": "stderr",
     "output_type": "stream",
     "text": [
      "/Users/litos/opt/anaconda3/lib/python3.7/site-packages/scipy/sparse/_index.py:127: SparseEfficiencyWarning: Changing the sparsity structure of a csr_matrix is expensive. lil_matrix is more efficient.\n",
      "  self._set_arrayXarray(i, j, x)\n"
     ]
    },
    {
     "name": "stdout",
     "output_type": "stream",
     "text": [
      "cur_iter  1\n",
      "cur_iter  2\n",
      "cur_iter  3\n",
      "cur_iter  4\n",
      "cur_iter  5\n",
      "cur_iter  6\n",
      "cur_iter  7\n",
      "cur_iter  8\n",
      "cur_iter  9\n",
      "target_item:  3428\n",
      "5.802101020872215\n",
      "cur_iter  0\n"
     ]
    },
    {
     "name": "stderr",
     "output_type": "stream",
     "text": [
      "/Users/litos/opt/anaconda3/lib/python3.7/site-packages/scipy/sparse/_index.py:127: SparseEfficiencyWarning: Changing the sparsity structure of a csr_matrix is expensive. lil_matrix is more efficient.\n",
      "  self._set_arrayXarray(i, j, x)\n"
     ]
    },
    {
     "name": "stdout",
     "output_type": "stream",
     "text": [
      "cur_iter  1\n",
      "cur_iter  2\n",
      "cur_iter  3\n",
      "cur_iter  4\n",
      "cur_iter  5\n",
      "cur_iter  6\n",
      "cur_iter  7\n",
      "cur_iter  8\n",
      "cur_iter  9\n",
      "target_item:  3585\n",
      "16.815320638979756\n",
      "cur_iter  0\n"
     ]
    },
    {
     "name": "stderr",
     "output_type": "stream",
     "text": [
      "/Users/litos/opt/anaconda3/lib/python3.7/site-packages/scipy/sparse/_index.py:127: SparseEfficiencyWarning: Changing the sparsity structure of a csr_matrix is expensive. lil_matrix is more efficient.\n",
      "  self._set_arrayXarray(i, j, x)\n"
     ]
    },
    {
     "name": "stdout",
     "output_type": "stream",
     "text": [
      "cur_iter  1\n",
      "cur_iter  2\n",
      "cur_iter  3\n",
      "cur_iter  4\n",
      "cur_iter  5\n",
      "cur_iter  6\n",
      "cur_iter  7\n",
      "cur_iter  8\n",
      "cur_iter  9\n",
      "User ID  334\n",
      "wanted_items length:  8\n",
      "Initial top recommendation index 4443\n",
      "target_item:  276\n",
      "1.9384091181016174\n",
      "cur_iter  0\n"
     ]
    },
    {
     "name": "stderr",
     "output_type": "stream",
     "text": [
      "/Users/litos/opt/anaconda3/lib/python3.7/site-packages/scipy/sparse/_index.py:127: SparseEfficiencyWarning: Changing the sparsity structure of a csr_matrix is expensive. lil_matrix is more efficient.\n",
      "  self._set_arrayXarray(i, j, x)\n"
     ]
    },
    {
     "name": "stdout",
     "output_type": "stream",
     "text": [
      "cur_iter  1\n",
      "cur_iter  2\n",
      "cur_iter  3\n",
      "cur_iter  4\n",
      "cur_iter  5\n",
      "cur_iter  6\n",
      "cur_iter  7\n",
      "cur_iter  8\n",
      "cur_iter  9\n",
      "target_item:  535\n",
      "2.977277880794418\n",
      "cur_iter  0\n"
     ]
    },
    {
     "name": "stderr",
     "output_type": "stream",
     "text": [
      "/Users/litos/opt/anaconda3/lib/python3.7/site-packages/scipy/sparse/_index.py:127: SparseEfficiencyWarning: Changing the sparsity structure of a csr_matrix is expensive. lil_matrix is more efficient.\n",
      "  self._set_arrayXarray(i, j, x)\n"
     ]
    },
    {
     "name": "stdout",
     "output_type": "stream",
     "text": [
      "cur_iter  1\n",
      "cur_iter  2\n",
      "cur_iter  3\n",
      "cur_iter  4\n",
      "cur_iter  5\n",
      "cur_iter  6\n",
      "cur_iter  7\n",
      "cur_iter  8\n",
      "cur_iter  9\n",
      "target_item:  3416\n",
      "7.007353976486911\n",
      "cur_iter  0\n"
     ]
    },
    {
     "name": "stderr",
     "output_type": "stream",
     "text": [
      "/Users/litos/opt/anaconda3/lib/python3.7/site-packages/scipy/sparse/_index.py:127: SparseEfficiencyWarning: Changing the sparsity structure of a csr_matrix is expensive. lil_matrix is more efficient.\n",
      "  self._set_arrayXarray(i, j, x)\n"
     ]
    },
    {
     "name": "stdout",
     "output_type": "stream",
     "text": [
      "cur_iter  1\n",
      "cur_iter  2\n",
      "cur_iter  3\n",
      "cur_iter  4\n",
      "cur_iter  5\n",
      "no more keyphrase available\n",
      "target_item:  3499\n",
      "1.5843400000228485\n",
      "cur_iter  0\n"
     ]
    },
    {
     "name": "stderr",
     "output_type": "stream",
     "text": [
      "/Users/litos/opt/anaconda3/lib/python3.7/site-packages/scipy/sparse/_index.py:127: SparseEfficiencyWarning: Changing the sparsity structure of a csr_matrix is expensive. lil_matrix is more efficient.\n",
      "  self._set_arrayXarray(i, j, x)\n"
     ]
    },
    {
     "name": "stdout",
     "output_type": "stream",
     "text": [
      "cur_iter  1\n",
      "cur_iter  2\n",
      "cur_iter  3\n",
      "cur_iter  4\n",
      "cur_iter  5\n",
      "cur_iter  6\n",
      "cur_iter  7\n",
      "cur_iter  8\n",
      "cur_iter  9\n",
      "target_item:  3646\n",
      "2.426134015560592\n",
      "cur_iter  0\n"
     ]
    },
    {
     "name": "stderr",
     "output_type": "stream",
     "text": [
      "/Users/litos/opt/anaconda3/lib/python3.7/site-packages/scipy/sparse/_index.py:127: SparseEfficiencyWarning: Changing the sparsity structure of a csr_matrix is expensive. lil_matrix is more efficient.\n",
      "  self._set_arrayXarray(i, j, x)\n"
     ]
    },
    {
     "name": "stdout",
     "output_type": "stream",
     "text": [
      "cur_iter  1\n",
      "cur_iter  2\n",
      "cur_iter  3\n",
      "cur_iter  4\n",
      "cur_iter  5\n",
      "cur_iter  6\n",
      "cur_iter  7\n",
      "cur_iter  8\n",
      "cur_iter  9\n",
      "target_item:  3700\n",
      "2.7891055686939126\n",
      "cur_iter  0\n"
     ]
    },
    {
     "name": "stderr",
     "output_type": "stream",
     "text": [
      "/Users/litos/opt/anaconda3/lib/python3.7/site-packages/scipy/sparse/_index.py:127: SparseEfficiencyWarning: Changing the sparsity structure of a csr_matrix is expensive. lil_matrix is more efficient.\n",
      "  self._set_arrayXarray(i, j, x)\n"
     ]
    },
    {
     "name": "stdout",
     "output_type": "stream",
     "text": [
      "cur_iter  1\n",
      "cur_iter  2\n",
      "cur_iter  3\n",
      "cur_iter  4\n",
      "cur_iter  5\n",
      "cur_iter  6\n",
      "cur_iter  7\n",
      "cur_iter  8\n",
      "cur_iter  9\n",
      "target_item:  5972\n",
      "3.2415388495535353\n",
      "cur_iter  0\n"
     ]
    },
    {
     "name": "stderr",
     "output_type": "stream",
     "text": [
      "/Users/litos/opt/anaconda3/lib/python3.7/site-packages/scipy/sparse/_index.py:127: SparseEfficiencyWarning: Changing the sparsity structure of a csr_matrix is expensive. lil_matrix is more efficient.\n",
      "  self._set_arrayXarray(i, j, x)\n"
     ]
    },
    {
     "name": "stdout",
     "output_type": "stream",
     "text": [
      "cur_iter  1\n",
      "cur_iter  2\n",
      "cur_iter  3\n",
      "cur_iter  4\n",
      "cur_iter  5\n",
      "cur_iter  6\n",
      "cur_iter  7\n",
      "cur_iter  8\n",
      "cur_iter  9\n",
      "target_item:  7090\n",
      "31.265495261338174\n",
      "cur_iter  0\n"
     ]
    },
    {
     "name": "stderr",
     "output_type": "stream",
     "text": [
      "/Users/litos/opt/anaconda3/lib/python3.7/site-packages/scipy/sparse/_index.py:127: SparseEfficiencyWarning: Changing the sparsity structure of a csr_matrix is expensive. lil_matrix is more efficient.\n",
      "  self._set_arrayXarray(i, j, x)\n"
     ]
    },
    {
     "name": "stdout",
     "output_type": "stream",
     "text": [
      "cur_iter  1\n",
      "cur_iter  2\n",
      "cur_iter  3\n",
      "cur_iter  4\n",
      "cur_iter  5\n",
      "no more keyphrase available\n",
      "User ID  335\n",
      "wanted_items length:  9\n",
      "Initial top recommendation index 3772\n",
      "target_item:  2013\n",
      "6.379754104344045\n",
      "cur_iter  0\n"
     ]
    },
    {
     "name": "stderr",
     "output_type": "stream",
     "text": [
      "/Users/litos/opt/anaconda3/lib/python3.7/site-packages/scipy/sparse/_index.py:127: SparseEfficiencyWarning: Changing the sparsity structure of a csr_matrix is expensive. lil_matrix is more efficient.\n",
      "  self._set_arrayXarray(i, j, x)\n"
     ]
    },
    {
     "name": "stdout",
     "output_type": "stream",
     "text": [
      "cur_iter  1\n",
      "cur_iter  2\n",
      "cur_iter  3\n",
      "cur_iter  4\n",
      "cur_iter  5\n",
      "cur_iter  6\n",
      "cur_iter  7\n",
      "cur_iter  8\n",
      "cur_iter  9\n",
      "target_item:  2573\n",
      "2.217953541258737\n",
      "cur_iter  0\n"
     ]
    },
    {
     "name": "stderr",
     "output_type": "stream",
     "text": [
      "/Users/litos/opt/anaconda3/lib/python3.7/site-packages/scipy/sparse/_index.py:127: SparseEfficiencyWarning: Changing the sparsity structure of a csr_matrix is expensive. lil_matrix is more efficient.\n",
      "  self._set_arrayXarray(i, j, x)\n"
     ]
    },
    {
     "name": "stdout",
     "output_type": "stream",
     "text": [
      "cur_iter  1\n",
      "cur_iter  2\n",
      "cur_iter  3\n",
      "cur_iter  4\n",
      "cur_iter  5\n",
      "cur_iter  6\n",
      "cur_iter  7\n",
      "cur_iter  8\n",
      "cur_iter  9\n",
      "target_item:  3983\n",
      "3.9504652674104364\n",
      "cur_iter  0\n"
     ]
    },
    {
     "name": "stderr",
     "output_type": "stream",
     "text": [
      "/Users/litos/opt/anaconda3/lib/python3.7/site-packages/scipy/sparse/_index.py:127: SparseEfficiencyWarning: Changing the sparsity structure of a csr_matrix is expensive. lil_matrix is more efficient.\n",
      "  self._set_arrayXarray(i, j, x)\n"
     ]
    },
    {
     "name": "stdout",
     "output_type": "stream",
     "text": [
      "cur_iter  1\n",
      "cur_iter  2\n",
      "cur_iter  3\n",
      "cur_iter  4\n",
      "cur_iter  5\n",
      "cur_iter  6\n",
      "cur_iter  7\n",
      "cur_iter  8\n",
      "cur_iter  9\n",
      "target_item:  4495\n",
      "2.6158405583646527\n",
      "cur_iter  0\n"
     ]
    },
    {
     "name": "stderr",
     "output_type": "stream",
     "text": [
      "/Users/litos/opt/anaconda3/lib/python3.7/site-packages/scipy/sparse/_index.py:127: SparseEfficiencyWarning: Changing the sparsity structure of a csr_matrix is expensive. lil_matrix is more efficient.\n",
      "  self._set_arrayXarray(i, j, x)\n"
     ]
    },
    {
     "name": "stdout",
     "output_type": "stream",
     "text": [
      "cur_iter  1\n",
      "cur_iter  2\n",
      "cur_iter  3\n",
      "cur_iter  4\n",
      "cur_iter  5\n",
      "cur_iter  6\n",
      "cur_iter  7\n",
      "cur_iter  8\n",
      "cur_iter  9\n",
      "target_item:  4683\n",
      "4.182703058765583\n",
      "cur_iter  0\n"
     ]
    },
    {
     "name": "stderr",
     "output_type": "stream",
     "text": [
      "/Users/litos/opt/anaconda3/lib/python3.7/site-packages/scipy/sparse/_index.py:127: SparseEfficiencyWarning: Changing the sparsity structure of a csr_matrix is expensive. lil_matrix is more efficient.\n",
      "  self._set_arrayXarray(i, j, x)\n"
     ]
    },
    {
     "name": "stdout",
     "output_type": "stream",
     "text": [
      "cur_iter  1\n",
      "cur_iter  2\n",
      "cur_iter  3\n",
      "cur_iter  4\n",
      "cur_iter  5\n",
      "cur_iter  6\n",
      "cur_iter  7\n",
      "cur_iter  8\n",
      "cur_iter  9\n",
      "target_item:  6068\n",
      "31.06455301165164\n",
      "cur_iter  0\n"
     ]
    },
    {
     "name": "stderr",
     "output_type": "stream",
     "text": [
      "/Users/litos/opt/anaconda3/lib/python3.7/site-packages/scipy/sparse/_index.py:127: SparseEfficiencyWarning: Changing the sparsity structure of a csr_matrix is expensive. lil_matrix is more efficient.\n",
      "  self._set_arrayXarray(i, j, x)\n"
     ]
    },
    {
     "name": "stdout",
     "output_type": "stream",
     "text": [
      "cur_iter  1\n",
      "cur_iter  2\n",
      "cur_iter  3\n",
      "no more keyphrase available\n",
      "target_item:  6302\n",
      "92.24622359513882\n",
      "cur_iter  0\n",
      "no more keyphrase available\n",
      "target_item:  6815\n",
      "8.525644574784508\n",
      "cur_iter  0\n"
     ]
    },
    {
     "name": "stderr",
     "output_type": "stream",
     "text": [
      "/Users/litos/opt/anaconda3/lib/python3.7/site-packages/scipy/sparse/_index.py:127: SparseEfficiencyWarning: Changing the sparsity structure of a csr_matrix is expensive. lil_matrix is more efficient.\n",
      "  self._set_arrayXarray(i, j, x)\n"
     ]
    },
    {
     "name": "stdout",
     "output_type": "stream",
     "text": [
      "cur_iter  1\n",
      "cur_iter  2\n",
      "cur_iter  3\n",
      "cur_iter  4\n",
      "cur_iter  5\n",
      "cur_iter  6\n",
      "cur_iter  7\n",
      "cur_iter  8\n",
      "cur_iter  9\n",
      "target_item:  7303\n",
      "8.127280485360586\n",
      "cur_iter  0\n"
     ]
    },
    {
     "name": "stderr",
     "output_type": "stream",
     "text": [
      "/Users/litos/opt/anaconda3/lib/python3.7/site-packages/scipy/sparse/_index.py:127: SparseEfficiencyWarning: Changing the sparsity structure of a csr_matrix is expensive. lil_matrix is more efficient.\n",
      "  self._set_arrayXarray(i, j, x)\n"
     ]
    },
    {
     "name": "stdout",
     "output_type": "stream",
     "text": [
      "cur_iter  1\n",
      "cur_iter  2\n",
      "cur_iter  3\n",
      "cur_iter  4\n",
      "cur_iter  5\n",
      "cur_iter  6\n",
      "cur_iter  7\n",
      "cur_iter  8\n",
      "cur_iter  9\n",
      "User ID  336\n",
      "wanted_items length:  5\n",
      "Initial top recommendation index 6498\n",
      "target_item:  593\n",
      "14.910882108449414\n",
      "cur_iter  0\n"
     ]
    },
    {
     "name": "stderr",
     "output_type": "stream",
     "text": [
      "/Users/litos/opt/anaconda3/lib/python3.7/site-packages/scipy/sparse/_index.py:127: SparseEfficiencyWarning: Changing the sparsity structure of a csr_matrix is expensive. lil_matrix is more efficient.\n",
      "  self._set_arrayXarray(i, j, x)\n"
     ]
    },
    {
     "name": "stdout",
     "output_type": "stream",
     "text": [
      "cur_iter  1\n",
      "cur_iter  2\n",
      "no more keyphrase available\n",
      "target_item:  3198\n",
      "15.778564176465125\n",
      "cur_iter  0\n"
     ]
    },
    {
     "name": "stderr",
     "output_type": "stream",
     "text": [
      "/Users/litos/opt/anaconda3/lib/python3.7/site-packages/scipy/sparse/_index.py:127: SparseEfficiencyWarning: Changing the sparsity structure of a csr_matrix is expensive. lil_matrix is more efficient.\n",
      "  self._set_arrayXarray(i, j, x)\n"
     ]
    },
    {
     "name": "stdout",
     "output_type": "stream",
     "text": [
      "cur_iter  1\n",
      "cur_iter  2\n",
      "no more keyphrase available\n",
      "target_item:  3337\n",
      "3.8314112838761503\n",
      "cur_iter  0\n"
     ]
    },
    {
     "name": "stderr",
     "output_type": "stream",
     "text": [
      "/Users/litos/opt/anaconda3/lib/python3.7/site-packages/scipy/sparse/_index.py:127: SparseEfficiencyWarning: Changing the sparsity structure of a csr_matrix is expensive. lil_matrix is more efficient.\n",
      "  self._set_arrayXarray(i, j, x)\n"
     ]
    },
    {
     "name": "stdout",
     "output_type": "stream",
     "text": [
      "cur_iter  1\n",
      "cur_iter  2\n",
      "cur_iter  3\n",
      "cur_iter  4\n",
      "cur_iter  5\n",
      "cur_iter  6\n",
      "cur_iter  7\n",
      "cur_iter  8\n",
      "cur_iter  9\n",
      "target_item:  6149\n",
      "9.681240306086465\n",
      "cur_iter  0\n"
     ]
    },
    {
     "name": "stderr",
     "output_type": "stream",
     "text": [
      "/Users/litos/opt/anaconda3/lib/python3.7/site-packages/scipy/sparse/_index.py:127: SparseEfficiencyWarning: Changing the sparsity structure of a csr_matrix is expensive. lil_matrix is more efficient.\n",
      "  self._set_arrayXarray(i, j, x)\n"
     ]
    },
    {
     "name": "stdout",
     "output_type": "stream",
     "text": [
      "cur_iter  1\n",
      "cur_iter  2\n",
      "cur_iter  3\n",
      "cur_iter  4\n",
      "no more keyphrase available\n",
      "target_item:  6811\n",
      "6.6976987967118475\n",
      "cur_iter  0\n"
     ]
    },
    {
     "name": "stderr",
     "output_type": "stream",
     "text": [
      "/Users/litos/opt/anaconda3/lib/python3.7/site-packages/scipy/sparse/_index.py:127: SparseEfficiencyWarning: Changing the sparsity structure of a csr_matrix is expensive. lil_matrix is more efficient.\n",
      "  self._set_arrayXarray(i, j, x)\n"
     ]
    },
    {
     "name": "stdout",
     "output_type": "stream",
     "text": [
      "cur_iter  1\n",
      "cur_iter  2\n",
      "cur_iter  3\n",
      "cur_iter  4\n",
      "cur_iter  5\n",
      "cur_iter  6\n",
      "cur_iter  7\n",
      "cur_iter  8\n",
      "cur_iter  9\n",
      "User ID  337\n",
      "wanted_items length:  7\n",
      "Initial top recommendation index 39\n",
      "target_item:  533\n",
      "3.2697005527725196\n",
      "cur_iter  0\n"
     ]
    },
    {
     "name": "stderr",
     "output_type": "stream",
     "text": [
      "/Users/litos/opt/anaconda3/lib/python3.7/site-packages/scipy/sparse/_index.py:127: SparseEfficiencyWarning: Changing the sparsity structure of a csr_matrix is expensive. lil_matrix is more efficient.\n",
      "  self._set_arrayXarray(i, j, x)\n"
     ]
    },
    {
     "name": "stdout",
     "output_type": "stream",
     "text": [
      "cur_iter  1\n",
      "cur_iter  2\n",
      "cur_iter  3\n",
      "cur_iter  4\n",
      "cur_iter  5\n",
      "cur_iter  6\n",
      "cur_iter  7\n",
      "cur_iter  8\n",
      "cur_iter  9\n",
      "target_item:  1043\n",
      "8.256112128772656\n",
      "cur_iter  0\n"
     ]
    },
    {
     "name": "stderr",
     "output_type": "stream",
     "text": [
      "/Users/litos/opt/anaconda3/lib/python3.7/site-packages/scipy/sparse/_index.py:127: SparseEfficiencyWarning: Changing the sparsity structure of a csr_matrix is expensive. lil_matrix is more efficient.\n",
      "  self._set_arrayXarray(i, j, x)\n"
     ]
    },
    {
     "name": "stdout",
     "output_type": "stream",
     "text": [
      "cur_iter  1\n",
      "cur_iter  2\n",
      "cur_iter  3\n",
      "cur_iter  4\n",
      "cur_iter  5\n",
      "cur_iter  6\n",
      "cur_iter  7\n",
      "cur_iter  8\n",
      "cur_iter  9\n",
      "target_item:  2964\n",
      "7.560720078565396\n",
      "cur_iter  0\n"
     ]
    },
    {
     "name": "stderr",
     "output_type": "stream",
     "text": [
      "/Users/litos/opt/anaconda3/lib/python3.7/site-packages/scipy/sparse/_index.py:127: SparseEfficiencyWarning: Changing the sparsity structure of a csr_matrix is expensive. lil_matrix is more efficient.\n",
      "  self._set_arrayXarray(i, j, x)\n"
     ]
    },
    {
     "name": "stdout",
     "output_type": "stream",
     "text": [
      "cur_iter  1\n",
      "cur_iter  2\n",
      "cur_iter  3\n",
      "cur_iter  4\n",
      "cur_iter  5\n",
      "cur_iter  6\n",
      "cur_iter  7\n",
      "cur_iter  8\n",
      "cur_iter  9\n",
      "target_item:  3185\n",
      "1.9323880827068933\n",
      "cur_iter  0\n"
     ]
    },
    {
     "name": "stderr",
     "output_type": "stream",
     "text": [
      "/Users/litos/opt/anaconda3/lib/python3.7/site-packages/scipy/sparse/_index.py:127: SparseEfficiencyWarning: Changing the sparsity structure of a csr_matrix is expensive. lil_matrix is more efficient.\n",
      "  self._set_arrayXarray(i, j, x)\n"
     ]
    },
    {
     "name": "stdout",
     "output_type": "stream",
     "text": [
      "cur_iter  1\n",
      "cur_iter  2\n",
      "cur_iter  3\n",
      "cur_iter  4\n",
      "cur_iter  5\n",
      "cur_iter  6\n",
      "cur_iter  7\n",
      "cur_iter  8\n",
      "cur_iter  9\n",
      "target_item:  3748\n",
      "1.5227854065742576\n",
      "cur_iter  0\n"
     ]
    },
    {
     "name": "stderr",
     "output_type": "stream",
     "text": [
      "/Users/litos/opt/anaconda3/lib/python3.7/site-packages/scipy/sparse/_index.py:127: SparseEfficiencyWarning: Changing the sparsity structure of a csr_matrix is expensive. lil_matrix is more efficient.\n",
      "  self._set_arrayXarray(i, j, x)\n"
     ]
    },
    {
     "name": "stdout",
     "output_type": "stream",
     "text": [
      "cur_iter  1\n",
      "cur_iter  2\n",
      "cur_iter  3\n",
      "cur_iter  4\n",
      "cur_iter  5\n",
      "cur_iter  6\n",
      "cur_iter  7\n",
      "cur_iter  8\n",
      "cur_iter  9\n",
      "target_item:  5080\n",
      "3.8942728912925304\n",
      "cur_iter  0\n"
     ]
    },
    {
     "name": "stderr",
     "output_type": "stream",
     "text": [
      "/Users/litos/opt/anaconda3/lib/python3.7/site-packages/scipy/sparse/_index.py:127: SparseEfficiencyWarning: Changing the sparsity structure of a csr_matrix is expensive. lil_matrix is more efficient.\n",
      "  self._set_arrayXarray(i, j, x)\n"
     ]
    },
    {
     "name": "stdout",
     "output_type": "stream",
     "text": [
      "cur_iter  1\n",
      "cur_iter  2\n",
      "cur_iter  3\n",
      "cur_iter  4\n",
      "cur_iter  5\n",
      "cur_iter  6\n",
      "cur_iter  7\n",
      "cur_iter  8\n",
      "cur_iter  9\n",
      "target_item:  5288\n",
      "2.1986856546900526\n",
      "cur_iter  0\n"
     ]
    },
    {
     "name": "stderr",
     "output_type": "stream",
     "text": [
      "/Users/litos/opt/anaconda3/lib/python3.7/site-packages/scipy/sparse/_index.py:127: SparseEfficiencyWarning: Changing the sparsity structure of a csr_matrix is expensive. lil_matrix is more efficient.\n",
      "  self._set_arrayXarray(i, j, x)\n"
     ]
    },
    {
     "name": "stdout",
     "output_type": "stream",
     "text": [
      "cur_iter  1\n",
      "cur_iter  2\n",
      "cur_iter  3\n",
      "cur_iter  4\n",
      "cur_iter  5\n",
      "cur_iter  6\n",
      "cur_iter  7\n",
      "cur_iter  8\n",
      "cur_iter  9\n",
      "User ID  338\n",
      "wanted_items length:  11\n",
      "Initial top recommendation index 2729\n",
      "target_item:  1438\n",
      "13.00243670305099\n",
      "cur_iter  0\n"
     ]
    },
    {
     "name": "stderr",
     "output_type": "stream",
     "text": [
      "/Users/litos/opt/anaconda3/lib/python3.7/site-packages/scipy/sparse/_index.py:127: SparseEfficiencyWarning: Changing the sparsity structure of a csr_matrix is expensive. lil_matrix is more efficient.\n",
      "  self._set_arrayXarray(i, j, x)\n"
     ]
    },
    {
     "name": "stdout",
     "output_type": "stream",
     "text": [
      "cur_iter  1\n",
      "cur_iter  2\n",
      "cur_iter  3\n",
      "cur_iter  4\n",
      "cur_iter  5\n",
      "cur_iter  6\n",
      "cur_iter  7\n",
      "cur_iter  8\n",
      "cur_iter  9\n",
      "target_item:  2812\n",
      "8.843384964755927\n",
      "cur_iter  0\n"
     ]
    },
    {
     "name": "stderr",
     "output_type": "stream",
     "text": [
      "/Users/litos/opt/anaconda3/lib/python3.7/site-packages/scipy/sparse/_index.py:127: SparseEfficiencyWarning: Changing the sparsity structure of a csr_matrix is expensive. lil_matrix is more efficient.\n",
      "  self._set_arrayXarray(i, j, x)\n"
     ]
    },
    {
     "name": "stdout",
     "output_type": "stream",
     "text": [
      "cur_iter  1\n",
      "cur_iter  2\n",
      "cur_iter  3\n",
      "cur_iter  4\n",
      "cur_iter  5\n",
      "cur_iter  6\n",
      "cur_iter  7\n",
      "cur_iter  8\n",
      "cur_iter  9\n",
      "target_item:  3259\n",
      "12.245142204661079\n",
      "cur_iter  0\n"
     ]
    },
    {
     "name": "stderr",
     "output_type": "stream",
     "text": [
      "/Users/litos/opt/anaconda3/lib/python3.7/site-packages/scipy/sparse/_index.py:127: SparseEfficiencyWarning: Changing the sparsity structure of a csr_matrix is expensive. lil_matrix is more efficient.\n",
      "  self._set_arrayXarray(i, j, x)\n"
     ]
    },
    {
     "name": "stdout",
     "output_type": "stream",
     "text": [
      "cur_iter  1\n",
      "cur_iter  2\n",
      "cur_iter  3\n",
      "cur_iter  4\n",
      "cur_iter  5\n",
      "cur_iter  6\n",
      "cur_iter  7\n",
      "cur_iter  8\n",
      "cur_iter  9\n",
      "target_item:  3717\n",
      "15.327337674421415\n",
      "cur_iter  0\n"
     ]
    },
    {
     "name": "stderr",
     "output_type": "stream",
     "text": [
      "/Users/litos/opt/anaconda3/lib/python3.7/site-packages/scipy/sparse/_index.py:127: SparseEfficiencyWarning: Changing the sparsity structure of a csr_matrix is expensive. lil_matrix is more efficient.\n",
      "  self._set_arrayXarray(i, j, x)\n"
     ]
    },
    {
     "name": "stdout",
     "output_type": "stream",
     "text": [
      "cur_iter  1\n",
      "cur_iter  2\n",
      "cur_iter  3\n",
      "cur_iter  4\n",
      "cur_iter  5\n",
      "cur_iter  6\n",
      "cur_iter  7\n",
      "cur_iter  8\n",
      "cur_iter  9\n",
      "target_item:  4423\n",
      "9.54420480984436\n",
      "cur_iter  0\n"
     ]
    },
    {
     "name": "stderr",
     "output_type": "stream",
     "text": [
      "/Users/litos/opt/anaconda3/lib/python3.7/site-packages/scipy/sparse/_index.py:127: SparseEfficiencyWarning: Changing the sparsity structure of a csr_matrix is expensive. lil_matrix is more efficient.\n",
      "  self._set_arrayXarray(i, j, x)\n"
     ]
    },
    {
     "name": "stdout",
     "output_type": "stream",
     "text": [
      "cur_iter  1\n",
      "cur_iter  2\n",
      "cur_iter  3\n",
      "cur_iter  4\n",
      "cur_iter  5\n",
      "cur_iter  6\n",
      "cur_iter  7\n",
      "cur_iter  8\n",
      "cur_iter  9\n",
      "target_item:  5315\n",
      "5.719603259548876\n",
      "cur_iter  0\n"
     ]
    },
    {
     "name": "stderr",
     "output_type": "stream",
     "text": [
      "/Users/litos/opt/anaconda3/lib/python3.7/site-packages/scipy/sparse/_index.py:127: SparseEfficiencyWarning: Changing the sparsity structure of a csr_matrix is expensive. lil_matrix is more efficient.\n",
      "  self._set_arrayXarray(i, j, x)\n"
     ]
    },
    {
     "name": "stdout",
     "output_type": "stream",
     "text": [
      "cur_iter  1\n",
      "cur_iter  2\n",
      "cur_iter  3\n",
      "cur_iter  4\n",
      "cur_iter  5\n",
      "cur_iter  6\n",
      "cur_iter  7\n",
      "cur_iter  8\n",
      "cur_iter  9\n",
      "target_item:  5659\n",
      "4.936621005759207\n",
      "cur_iter  0\n"
     ]
    },
    {
     "name": "stderr",
     "output_type": "stream",
     "text": [
      "/Users/litos/opt/anaconda3/lib/python3.7/site-packages/scipy/sparse/_index.py:127: SparseEfficiencyWarning: Changing the sparsity structure of a csr_matrix is expensive. lil_matrix is more efficient.\n",
      "  self._set_arrayXarray(i, j, x)\n"
     ]
    },
    {
     "name": "stdout",
     "output_type": "stream",
     "text": [
      "cur_iter  1\n",
      "cur_iter  2\n",
      "cur_iter  3\n",
      "cur_iter  4\n",
      "cur_iter  5\n",
      "cur_iter  6\n",
      "cur_iter  7\n",
      "cur_iter  8\n",
      "cur_iter  9\n",
      "target_item:  6454\n",
      "5.2204027075586055\n",
      "cur_iter  0\n"
     ]
    },
    {
     "name": "stderr",
     "output_type": "stream",
     "text": [
      "/Users/litos/opt/anaconda3/lib/python3.7/site-packages/scipy/sparse/_index.py:127: SparseEfficiencyWarning: Changing the sparsity structure of a csr_matrix is expensive. lil_matrix is more efficient.\n",
      "  self._set_arrayXarray(i, j, x)\n"
     ]
    },
    {
     "name": "stdout",
     "output_type": "stream",
     "text": [
      "cur_iter  1\n",
      "cur_iter  2\n",
      "cur_iter  3\n",
      "cur_iter  4\n",
      "cur_iter  5\n",
      "cur_iter  6\n",
      "cur_iter  7\n",
      "cur_iter  8\n",
      "cur_iter  9\n",
      "target_item:  6776\n",
      "8.138519089605325\n",
      "cur_iter  0\n"
     ]
    },
    {
     "name": "stderr",
     "output_type": "stream",
     "text": [
      "/Users/litos/opt/anaconda3/lib/python3.7/site-packages/scipy/sparse/_index.py:127: SparseEfficiencyWarning: Changing the sparsity structure of a csr_matrix is expensive. lil_matrix is more efficient.\n",
      "  self._set_arrayXarray(i, j, x)\n"
     ]
    },
    {
     "name": "stdout",
     "output_type": "stream",
     "text": [
      "cur_iter  1\n",
      "cur_iter  2\n",
      "cur_iter  3\n",
      "cur_iter  4\n",
      "cur_iter  5\n",
      "cur_iter  6\n",
      "cur_iter  7\n",
      "cur_iter  8\n",
      "cur_iter  9\n",
      "target_item:  6975\n",
      "8.598932653512293\n",
      "cur_iter  0\n"
     ]
    },
    {
     "name": "stderr",
     "output_type": "stream",
     "text": [
      "/Users/litos/opt/anaconda3/lib/python3.7/site-packages/scipy/sparse/_index.py:127: SparseEfficiencyWarning: Changing the sparsity structure of a csr_matrix is expensive. lil_matrix is more efficient.\n",
      "  self._set_arrayXarray(i, j, x)\n"
     ]
    },
    {
     "name": "stdout",
     "output_type": "stream",
     "text": [
      "cur_iter  1\n",
      "cur_iter  2\n",
      "cur_iter  3\n",
      "cur_iter  4\n",
      "cur_iter  5\n",
      "cur_iter  6\n",
      "cur_iter  7\n",
      "cur_iter  8\n",
      "cur_iter  9\n",
      "target_item:  7205\n",
      "8.940650259722588\n",
      "cur_iter  0\n"
     ]
    },
    {
     "name": "stderr",
     "output_type": "stream",
     "text": [
      "/Users/litos/opt/anaconda3/lib/python3.7/site-packages/scipy/sparse/_index.py:127: SparseEfficiencyWarning: Changing the sparsity structure of a csr_matrix is expensive. lil_matrix is more efficient.\n",
      "  self._set_arrayXarray(i, j, x)\n"
     ]
    },
    {
     "name": "stdout",
     "output_type": "stream",
     "text": [
      "cur_iter  1\n",
      "cur_iter  2\n",
      "cur_iter  3\n",
      "cur_iter  4\n",
      "cur_iter  5\n",
      "cur_iter  6\n",
      "cur_iter  7\n",
      "cur_iter  8\n",
      "cur_iter  9\n",
      "User ID  339\n",
      "wanted_items length:  7\n",
      "Initial top recommendation index 7100\n",
      "target_item:  38\n",
      "25.293207514750065\n",
      "cur_iter  0\n"
     ]
    },
    {
     "name": "stderr",
     "output_type": "stream",
     "text": [
      "/Users/litos/opt/anaconda3/lib/python3.7/site-packages/scipy/sparse/_index.py:127: SparseEfficiencyWarning: Changing the sparsity structure of a csr_matrix is expensive. lil_matrix is more efficient.\n",
      "  self._set_arrayXarray(i, j, x)\n"
     ]
    },
    {
     "name": "stdout",
     "output_type": "stream",
     "text": [
      "cur_iter  1\n",
      "cur_iter  2\n",
      "cur_iter  3\n",
      "cur_iter  4\n",
      "cur_iter  5\n",
      "cur_iter  6\n",
      "cur_iter  7\n",
      "cur_iter  8\n",
      "cur_iter  9\n",
      "target_item:  2630\n",
      "101.381165792508\n",
      "cur_iter  0\n",
      "no more keyphrase available\n",
      "target_item:  3477\n",
      "25.73271069207567\n",
      "cur_iter  0\n"
     ]
    },
    {
     "name": "stderr",
     "output_type": "stream",
     "text": [
      "/Users/litos/opt/anaconda3/lib/python3.7/site-packages/scipy/sparse/_index.py:127: SparseEfficiencyWarning: Changing the sparsity structure of a csr_matrix is expensive. lil_matrix is more efficient.\n",
      "  self._set_arrayXarray(i, j, x)\n"
     ]
    },
    {
     "name": "stdout",
     "output_type": "stream",
     "text": [
      "cur_iter  1\n",
      "cur_iter  2\n",
      "cur_iter  3\n",
      "cur_iter  4\n",
      "cur_iter  5\n",
      "cur_iter  6\n",
      "cur_iter  7\n",
      "cur_iter  8\n",
      "no more keyphrase available\n",
      "target_item:  3758\n",
      "41.55629508909715\n",
      "cur_iter  0\n"
     ]
    },
    {
     "name": "stderr",
     "output_type": "stream",
     "text": [
      "/Users/litos/opt/anaconda3/lib/python3.7/site-packages/scipy/sparse/_index.py:127: SparseEfficiencyWarning: Changing the sparsity structure of a csr_matrix is expensive. lil_matrix is more efficient.\n",
      "  self._set_arrayXarray(i, j, x)\n"
     ]
    },
    {
     "name": "stdout",
     "output_type": "stream",
     "text": [
      "cur_iter  1\n",
      "cur_iter  2\n",
      "cur_iter  3\n",
      "cur_iter  4\n",
      "no more keyphrase available\n",
      "target_item:  4442\n",
      "28.426388156188295\n",
      "cur_iter  0\n"
     ]
    },
    {
     "name": "stderr",
     "output_type": "stream",
     "text": [
      "/Users/litos/opt/anaconda3/lib/python3.7/site-packages/scipy/sparse/_index.py:127: SparseEfficiencyWarning: Changing the sparsity structure of a csr_matrix is expensive. lil_matrix is more efficient.\n",
      "  self._set_arrayXarray(i, j, x)\n"
     ]
    },
    {
     "name": "stdout",
     "output_type": "stream",
     "text": [
      "cur_iter  1\n",
      "cur_iter  2\n",
      "cur_iter  3\n",
      "cur_iter  4\n",
      "cur_iter  5\n",
      "cur_iter  6\n",
      "cur_iter  7\n",
      "cur_iter  8\n",
      "cur_iter  9\n",
      "target_item:  5424\n",
      "70.21610874593625\n",
      "cur_iter  0\n"
     ]
    },
    {
     "name": "stderr",
     "output_type": "stream",
     "text": [
      "/Users/litos/opt/anaconda3/lib/python3.7/site-packages/scipy/sparse/_index.py:127: SparseEfficiencyWarning: Changing the sparsity structure of a csr_matrix is expensive. lil_matrix is more efficient.\n",
      "  self._set_arrayXarray(i, j, x)\n"
     ]
    },
    {
     "name": "stdout",
     "output_type": "stream",
     "text": [
      "cur_iter  1\n",
      "cur_iter  2\n",
      "cur_iter  3\n",
      "no more keyphrase available\n",
      "target_item:  6681\n",
      "20.05210575955698\n",
      "cur_iter  0\n"
     ]
    },
    {
     "name": "stderr",
     "output_type": "stream",
     "text": [
      "/Users/litos/opt/anaconda3/lib/python3.7/site-packages/scipy/sparse/_index.py:127: SparseEfficiencyWarning: Changing the sparsity structure of a csr_matrix is expensive. lil_matrix is more efficient.\n",
      "  self._set_arrayXarray(i, j, x)\n"
     ]
    },
    {
     "name": "stdout",
     "output_type": "stream",
     "text": [
      "cur_iter  1\n",
      "cur_iter  2\n",
      "cur_iter  3\n",
      "cur_iter  4\n",
      "cur_iter  5\n",
      "cur_iter  6\n",
      "cur_iter  7\n",
      "cur_iter  8\n",
      "cur_iter  9\n",
      "User ID  340\n",
      "wanted_items length:  4\n",
      "Initial top recommendation index 2804\n",
      "target_item:  2489\n",
      "12.263714600587718\n",
      "cur_iter  0\n"
     ]
    },
    {
     "name": "stderr",
     "output_type": "stream",
     "text": [
      "/Users/litos/opt/anaconda3/lib/python3.7/site-packages/scipy/sparse/_index.py:127: SparseEfficiencyWarning: Changing the sparsity structure of a csr_matrix is expensive. lil_matrix is more efficient.\n",
      "  self._set_arrayXarray(i, j, x)\n"
     ]
    },
    {
     "name": "stdout",
     "output_type": "stream",
     "text": [
      "cur_iter  1\n",
      "cur_iter  2\n",
      "cur_iter  3\n",
      "cur_iter  4\n",
      "cur_iter  5\n",
      "cur_iter  6\n",
      "cur_iter  7\n",
      "no more keyphrase available\n",
      "target_item:  4417\n",
      "14.459477307701036\n",
      "cur_iter  0\n"
     ]
    },
    {
     "name": "stderr",
     "output_type": "stream",
     "text": [
      "/Users/litos/opt/anaconda3/lib/python3.7/site-packages/scipy/sparse/_index.py:127: SparseEfficiencyWarning: Changing the sparsity structure of a csr_matrix is expensive. lil_matrix is more efficient.\n",
      "  self._set_arrayXarray(i, j, x)\n"
     ]
    },
    {
     "name": "stdout",
     "output_type": "stream",
     "text": [
      "cur_iter  1\n",
      "cur_iter  2\n",
      "cur_iter  3\n",
      "cur_iter  4\n",
      "cur_iter  5\n",
      "cur_iter  6\n",
      "no more keyphrase available\n",
      "target_item:  5626\n",
      "5.82007833593525\n",
      "cur_iter  0\n"
     ]
    },
    {
     "name": "stderr",
     "output_type": "stream",
     "text": [
      "/Users/litos/opt/anaconda3/lib/python3.7/site-packages/scipy/sparse/_index.py:127: SparseEfficiencyWarning: Changing the sparsity structure of a csr_matrix is expensive. lil_matrix is more efficient.\n",
      "  self._set_arrayXarray(i, j, x)\n"
     ]
    },
    {
     "name": "stdout",
     "output_type": "stream",
     "text": [
      "cur_iter  1\n",
      "cur_iter  2\n",
      "cur_iter  3\n",
      "cur_iter  4\n",
      "cur_iter  5\n",
      "cur_iter  6\n",
      "cur_iter  7\n",
      "cur_iter  8\n",
      "cur_iter  9\n",
      "target_item:  6644\n",
      "5.316555300192704\n",
      "cur_iter  0\n"
     ]
    },
    {
     "name": "stderr",
     "output_type": "stream",
     "text": [
      "/Users/litos/opt/anaconda3/lib/python3.7/site-packages/scipy/sparse/_index.py:127: SparseEfficiencyWarning: Changing the sparsity structure of a csr_matrix is expensive. lil_matrix is more efficient.\n",
      "  self._set_arrayXarray(i, j, x)\n"
     ]
    },
    {
     "name": "stdout",
     "output_type": "stream",
     "text": [
      "cur_iter  1\n",
      "cur_iter  2\n",
      "cur_iter  3\n",
      "cur_iter  4\n",
      "cur_iter  5\n",
      "cur_iter  6\n",
      "cur_iter  7\n",
      "cur_iter  8\n",
      "cur_iter  9\n",
      "User ID  341\n",
      "wanted_items length:  27\n",
      "Initial top recommendation index 5081\n",
      "target_item:  43\n",
      "4.248720794414112\n",
      "cur_iter  0\n"
     ]
    },
    {
     "name": "stderr",
     "output_type": "stream",
     "text": [
      "/Users/litos/opt/anaconda3/lib/python3.7/site-packages/scipy/sparse/_index.py:127: SparseEfficiencyWarning: Changing the sparsity structure of a csr_matrix is expensive. lil_matrix is more efficient.\n",
      "  self._set_arrayXarray(i, j, x)\n"
     ]
    },
    {
     "name": "stdout",
     "output_type": "stream",
     "text": [
      "cur_iter  1\n",
      "cur_iter  2\n",
      "cur_iter  3\n",
      "cur_iter  4\n",
      "cur_iter  5\n",
      "cur_iter  6\n",
      "cur_iter  7\n",
      "cur_iter  8\n",
      "cur_iter  9\n",
      "target_item:  68\n",
      "8.290051268828392\n",
      "cur_iter  0\n"
     ]
    },
    {
     "name": "stderr",
     "output_type": "stream",
     "text": [
      "/Users/litos/opt/anaconda3/lib/python3.7/site-packages/scipy/sparse/_index.py:127: SparseEfficiencyWarning: Changing the sparsity structure of a csr_matrix is expensive. lil_matrix is more efficient.\n",
      "  self._set_arrayXarray(i, j, x)\n"
     ]
    },
    {
     "name": "stdout",
     "output_type": "stream",
     "text": [
      "cur_iter  1\n",
      "cur_iter  2\n",
      "cur_iter  3\n",
      "cur_iter  4\n",
      "cur_iter  5\n",
      "cur_iter  6\n",
      "cur_iter  7\n",
      "cur_iter  8\n",
      "cur_iter  9\n",
      "target_item:  407\n",
      "14.9326273800325\n",
      "cur_iter  0\n"
     ]
    },
    {
     "name": "stderr",
     "output_type": "stream",
     "text": [
      "/Users/litos/opt/anaconda3/lib/python3.7/site-packages/scipy/sparse/_index.py:127: SparseEfficiencyWarning: Changing the sparsity structure of a csr_matrix is expensive. lil_matrix is more efficient.\n",
      "  self._set_arrayXarray(i, j, x)\n"
     ]
    },
    {
     "name": "stdout",
     "output_type": "stream",
     "text": [
      "cur_iter  1\n",
      "cur_iter  2\n",
      "cur_iter  3\n",
      "cur_iter  4\n",
      "cur_iter  5\n",
      "cur_iter  6\n",
      "cur_iter  7\n",
      "cur_iter  8\n",
      "cur_iter  9\n",
      "target_item:  673\n",
      "4.616954522069136\n",
      "cur_iter  0\n"
     ]
    },
    {
     "name": "stderr",
     "output_type": "stream",
     "text": [
      "/Users/litos/opt/anaconda3/lib/python3.7/site-packages/scipy/sparse/_index.py:127: SparseEfficiencyWarning: Changing the sparsity structure of a csr_matrix is expensive. lil_matrix is more efficient.\n",
      "  self._set_arrayXarray(i, j, x)\n"
     ]
    },
    {
     "name": "stdout",
     "output_type": "stream",
     "text": [
      "cur_iter  1\n",
      "cur_iter  2\n",
      "cur_iter  3\n",
      "cur_iter  4\n",
      "cur_iter  5\n",
      "cur_iter  6\n",
      "cur_iter  7\n",
      "cur_iter  8\n",
      "cur_iter  9\n",
      "target_item:  934\n",
      "8.868788568986929\n",
      "cur_iter  0\n"
     ]
    },
    {
     "name": "stderr",
     "output_type": "stream",
     "text": [
      "/Users/litos/opt/anaconda3/lib/python3.7/site-packages/scipy/sparse/_index.py:127: SparseEfficiencyWarning: Changing the sparsity structure of a csr_matrix is expensive. lil_matrix is more efficient.\n",
      "  self._set_arrayXarray(i, j, x)\n"
     ]
    },
    {
     "name": "stdout",
     "output_type": "stream",
     "text": [
      "cur_iter  1\n",
      "cur_iter  2\n",
      "cur_iter  3\n",
      "cur_iter  4\n",
      "cur_iter  5\n",
      "cur_iter  6\n",
      "cur_iter  7\n",
      "cur_iter  8\n",
      "cur_iter  9\n",
      "target_item:  1244\n",
      "9.552609854850743\n",
      "cur_iter  0\n"
     ]
    },
    {
     "name": "stderr",
     "output_type": "stream",
     "text": [
      "/Users/litos/opt/anaconda3/lib/python3.7/site-packages/scipy/sparse/_index.py:127: SparseEfficiencyWarning: Changing the sparsity structure of a csr_matrix is expensive. lil_matrix is more efficient.\n",
      "  self._set_arrayXarray(i, j, x)\n"
     ]
    },
    {
     "name": "stdout",
     "output_type": "stream",
     "text": [
      "cur_iter  1\n",
      "cur_iter  2\n",
      "cur_iter  3\n",
      "cur_iter  4\n",
      "cur_iter  5\n",
      "cur_iter  6\n",
      "cur_iter  7\n",
      "cur_iter  8\n",
      "cur_iter  9\n",
      "target_item:  1777\n",
      "5.012333924460108\n",
      "cur_iter  0\n"
     ]
    },
    {
     "name": "stderr",
     "output_type": "stream",
     "text": [
      "/Users/litos/opt/anaconda3/lib/python3.7/site-packages/scipy/sparse/_index.py:127: SparseEfficiencyWarning: Changing the sparsity structure of a csr_matrix is expensive. lil_matrix is more efficient.\n",
      "  self._set_arrayXarray(i, j, x)\n"
     ]
    },
    {
     "name": "stdout",
     "output_type": "stream",
     "text": [
      "cur_iter  1\n",
      "cur_iter  2\n",
      "cur_iter  3\n",
      "cur_iter  4\n",
      "cur_iter  5\n",
      "cur_iter  6\n",
      "cur_iter  7\n",
      "cur_iter  8\n",
      "cur_iter  9\n",
      "target_item:  2400\n",
      "7.365938494920556\n",
      "cur_iter  0\n"
     ]
    },
    {
     "name": "stderr",
     "output_type": "stream",
     "text": [
      "/Users/litos/opt/anaconda3/lib/python3.7/site-packages/scipy/sparse/_index.py:127: SparseEfficiencyWarning: Changing the sparsity structure of a csr_matrix is expensive. lil_matrix is more efficient.\n",
      "  self._set_arrayXarray(i, j, x)\n"
     ]
    },
    {
     "name": "stdout",
     "output_type": "stream",
     "text": [
      "cur_iter  1\n",
      "cur_iter  2\n",
      "cur_iter  3\n",
      "cur_iter  4\n",
      "cur_iter  5\n",
      "cur_iter  6\n",
      "cur_iter  7\n",
      "cur_iter  8\n",
      "cur_iter  9\n",
      "target_item:  2569\n",
      "6.373436891240999\n",
      "cur_iter  0\n"
     ]
    },
    {
     "name": "stderr",
     "output_type": "stream",
     "text": [
      "/Users/litos/opt/anaconda3/lib/python3.7/site-packages/scipy/sparse/_index.py:127: SparseEfficiencyWarning: Changing the sparsity structure of a csr_matrix is expensive. lil_matrix is more efficient.\n",
      "  self._set_arrayXarray(i, j, x)\n"
     ]
    },
    {
     "name": "stdout",
     "output_type": "stream",
     "text": [
      "cur_iter  1\n",
      "cur_iter  2\n",
      "cur_iter  3\n",
      "cur_iter  4\n",
      "cur_iter  5\n",
      "cur_iter  6\n",
      "cur_iter  7\n",
      "cur_iter  8\n",
      "cur_iter  9\n",
      "target_item:  2812\n",
      "12.415149574199859\n",
      "cur_iter  0\n"
     ]
    },
    {
     "name": "stderr",
     "output_type": "stream",
     "text": [
      "/Users/litos/opt/anaconda3/lib/python3.7/site-packages/scipy/sparse/_index.py:127: SparseEfficiencyWarning: Changing the sparsity structure of a csr_matrix is expensive. lil_matrix is more efficient.\n",
      "  self._set_arrayXarray(i, j, x)\n"
     ]
    },
    {
     "name": "stdout",
     "output_type": "stream",
     "text": [
      "cur_iter  1\n",
      "cur_iter  2\n",
      "cur_iter  3\n",
      "cur_iter  4\n",
      "cur_iter  5\n",
      "cur_iter  6\n",
      "cur_iter  7\n",
      "cur_iter  8\n",
      "cur_iter  9\n",
      "target_item:  3044\n",
      "5.176112784414727\n",
      "cur_iter  0\n"
     ]
    },
    {
     "name": "stderr",
     "output_type": "stream",
     "text": [
      "/Users/litos/opt/anaconda3/lib/python3.7/site-packages/scipy/sparse/_index.py:127: SparseEfficiencyWarning: Changing the sparsity structure of a csr_matrix is expensive. lil_matrix is more efficient.\n",
      "  self._set_arrayXarray(i, j, x)\n"
     ]
    },
    {
     "name": "stdout",
     "output_type": "stream",
     "text": [
      "cur_iter  1\n",
      "cur_iter  2\n",
      "cur_iter  3\n",
      "cur_iter  4\n",
      "cur_iter  5\n",
      "cur_iter  6\n",
      "cur_iter  7\n",
      "cur_iter  8\n",
      "cur_iter  9\n",
      "User ID  342\n",
      "wanted_items length:  5\n",
      "Initial top recommendation index 7137\n",
      "target_item:  1057\n",
      "5.763606511845865\n",
      "cur_iter  0\n"
     ]
    },
    {
     "name": "stderr",
     "output_type": "stream",
     "text": [
      "/Users/litos/opt/anaconda3/lib/python3.7/site-packages/scipy/sparse/_index.py:127: SparseEfficiencyWarning: Changing the sparsity structure of a csr_matrix is expensive. lil_matrix is more efficient.\n",
      "  self._set_arrayXarray(i, j, x)\n"
     ]
    },
    {
     "name": "stdout",
     "output_type": "stream",
     "text": [
      "cur_iter  1\n",
      "cur_iter  2\n",
      "cur_iter  3\n",
      "cur_iter  4\n",
      "cur_iter  5\n",
      "cur_iter  6\n",
      "cur_iter  7\n",
      "cur_iter  8\n",
      "cur_iter  9\n",
      "target_item:  5041\n",
      "2.754019013100333\n",
      "cur_iter  0\n"
     ]
    },
    {
     "name": "stderr",
     "output_type": "stream",
     "text": [
      "/Users/litos/opt/anaconda3/lib/python3.7/site-packages/scipy/sparse/_index.py:127: SparseEfficiencyWarning: Changing the sparsity structure of a csr_matrix is expensive. lil_matrix is more efficient.\n",
      "  self._set_arrayXarray(i, j, x)\n"
     ]
    },
    {
     "name": "stdout",
     "output_type": "stream",
     "text": [
      "cur_iter  1\n",
      "cur_iter  2\n",
      "cur_iter  3\n",
      "cur_iter  4\n",
      "cur_iter  5\n",
      "cur_iter  6\n",
      "cur_iter  7\n",
      "cur_iter  8\n",
      "cur_iter  9\n",
      "target_item:  5208\n",
      "14.56040418583052\n",
      "cur_iter  0\n"
     ]
    },
    {
     "name": "stderr",
     "output_type": "stream",
     "text": [
      "/Users/litos/opt/anaconda3/lib/python3.7/site-packages/scipy/sparse/_index.py:127: SparseEfficiencyWarning: Changing the sparsity structure of a csr_matrix is expensive. lil_matrix is more efficient.\n",
      "  self._set_arrayXarray(i, j, x)\n"
     ]
    },
    {
     "name": "stdout",
     "output_type": "stream",
     "text": [
      "cur_iter  1\n",
      "cur_iter  2\n",
      "cur_iter  3\n",
      "cur_iter  4\n",
      "cur_iter  5\n",
      "no more keyphrase available\n",
      "target_item:  6509\n",
      "Cannot get restaurant name for ItemIndex:  6509\n",
      "62.20131501805804\n",
      "cur_iter  0\n",
      "no more keyphrase available\n",
      "target_item:  7304\n",
      "62.20131501805804\n",
      "cur_iter  0\n",
      "no more keyphrase available\n",
      "User ID  343\n",
      "wanted_items length:  49\n",
      "Initial top recommendation index 6167\n",
      "target_item:  84\n"
     ]
    },
    {
     "name": "stderr",
     "output_type": "stream",
     "text": [
      "/Users/litos/opt/anaconda3/lib/python3.7/site-packages/ipykernel_launcher.py:33: RuntimeWarning: invalid value encountered in true_divide\n"
     ]
    },
    {
     "name": "stdout",
     "output_type": "stream",
     "text": [
      "57.86124029320763\n",
      "cur_iter  0\n"
     ]
    },
    {
     "name": "stderr",
     "output_type": "stream",
     "text": [
      "/Users/litos/opt/anaconda3/lib/python3.7/site-packages/scipy/sparse/_index.py:127: SparseEfficiencyWarning: Changing the sparsity structure of a csr_matrix is expensive. lil_matrix is more efficient.\n",
      "  self._set_arrayXarray(i, j, x)\n"
     ]
    },
    {
     "name": "stdout",
     "output_type": "stream",
     "text": [
      "cur_iter  1\n",
      "cur_iter  2\n",
      "cur_iter  3\n",
      "cur_iter  4\n",
      "cur_iter  5\n",
      "cur_iter  6\n",
      "cur_iter  7\n",
      "cur_iter  8\n",
      "cur_iter  9\n",
      "target_item:  108\n",
      "127.91964783025742\n",
      "cur_iter  0\n"
     ]
    },
    {
     "name": "stderr",
     "output_type": "stream",
     "text": [
      "/Users/litos/opt/anaconda3/lib/python3.7/site-packages/scipy/sparse/_index.py:127: SparseEfficiencyWarning: Changing the sparsity structure of a csr_matrix is expensive. lil_matrix is more efficient.\n",
      "  self._set_arrayXarray(i, j, x)\n"
     ]
    },
    {
     "name": "stdout",
     "output_type": "stream",
     "text": [
      "cur_iter  1\n",
      "cur_iter  2\n",
      "cur_iter  3\n",
      "cur_iter  4\n",
      "cur_iter  5\n",
      "cur_iter  6\n",
      "cur_iter  7\n",
      "cur_iter  8\n",
      "cur_iter  9\n",
      "target_item:  735\n",
      "44.8820327309395\n",
      "cur_iter  0\n"
     ]
    },
    {
     "name": "stderr",
     "output_type": "stream",
     "text": [
      "/Users/litos/opt/anaconda3/lib/python3.7/site-packages/scipy/sparse/_index.py:127: SparseEfficiencyWarning: Changing the sparsity structure of a csr_matrix is expensive. lil_matrix is more efficient.\n",
      "  self._set_arrayXarray(i, j, x)\n"
     ]
    },
    {
     "name": "stdout",
     "output_type": "stream",
     "text": [
      "cur_iter  1\n",
      "cur_iter  2\n",
      "cur_iter  3\n",
      "cur_iter  4\n",
      "cur_iter  5\n",
      "cur_iter  6\n",
      "cur_iter  7\n",
      "cur_iter  8\n",
      "cur_iter  9\n",
      "target_item:  935\n",
      "32.19784787996741\n",
      "cur_iter  0\n"
     ]
    },
    {
     "name": "stderr",
     "output_type": "stream",
     "text": [
      "/Users/litos/opt/anaconda3/lib/python3.7/site-packages/scipy/sparse/_index.py:127: SparseEfficiencyWarning: Changing the sparsity structure of a csr_matrix is expensive. lil_matrix is more efficient.\n",
      "  self._set_arrayXarray(i, j, x)\n"
     ]
    },
    {
     "name": "stdout",
     "output_type": "stream",
     "text": [
      "cur_iter  1\n",
      "cur_iter  2\n",
      "cur_iter  3\n",
      "cur_iter  4\n",
      "cur_iter  5\n",
      "cur_iter  6\n",
      "cur_iter  7\n",
      "cur_iter  8\n",
      "cur_iter  9\n",
      "target_item:  955\n",
      "57.03546009126421\n",
      "cur_iter  0\n"
     ]
    },
    {
     "name": "stderr",
     "output_type": "stream",
     "text": [
      "/Users/litos/opt/anaconda3/lib/python3.7/site-packages/scipy/sparse/_index.py:127: SparseEfficiencyWarning: Changing the sparsity structure of a csr_matrix is expensive. lil_matrix is more efficient.\n",
      "  self._set_arrayXarray(i, j, x)\n"
     ]
    },
    {
     "name": "stdout",
     "output_type": "stream",
     "text": [
      "cur_iter  1\n",
      "cur_iter  2\n",
      "cur_iter  3\n",
      "cur_iter  4\n",
      "cur_iter  5\n",
      "cur_iter  6\n",
      "cur_iter  7\n",
      "cur_iter  8\n",
      "cur_iter  9\n",
      "target_item:  1472\n",
      "71.96619745818589\n",
      "cur_iter  0\n"
     ]
    },
    {
     "name": "stderr",
     "output_type": "stream",
     "text": [
      "/Users/litos/opt/anaconda3/lib/python3.7/site-packages/scipy/sparse/_index.py:127: SparseEfficiencyWarning: Changing the sparsity structure of a csr_matrix is expensive. lil_matrix is more efficient.\n",
      "  self._set_arrayXarray(i, j, x)\n"
     ]
    },
    {
     "name": "stdout",
     "output_type": "stream",
     "text": [
      "cur_iter  1\n",
      "cur_iter  2\n",
      "cur_iter  3\n",
      "cur_iter  4\n",
      "cur_iter  5\n",
      "cur_iter  6\n",
      "cur_iter  7\n",
      "cur_iter  8\n",
      "cur_iter  9\n",
      "target_item:  1652\n",
      "28.518937643882055\n",
      "cur_iter  0\n"
     ]
    },
    {
     "name": "stderr",
     "output_type": "stream",
     "text": [
      "/Users/litos/opt/anaconda3/lib/python3.7/site-packages/scipy/sparse/_index.py:127: SparseEfficiencyWarning: Changing the sparsity structure of a csr_matrix is expensive. lil_matrix is more efficient.\n",
      "  self._set_arrayXarray(i, j, x)\n"
     ]
    },
    {
     "name": "stdout",
     "output_type": "stream",
     "text": [
      "cur_iter  1\n",
      "cur_iter  2\n",
      "cur_iter  3\n",
      "cur_iter  4\n",
      "cur_iter  5\n",
      "cur_iter  6\n",
      "cur_iter  7\n",
      "cur_iter  8\n",
      "cur_iter  9\n",
      "target_item:  1665\n",
      "145.8871462115303\n",
      "cur_iter  0\n"
     ]
    },
    {
     "name": "stderr",
     "output_type": "stream",
     "text": [
      "/Users/litos/opt/anaconda3/lib/python3.7/site-packages/scipy/sparse/_index.py:127: SparseEfficiencyWarning: Changing the sparsity structure of a csr_matrix is expensive. lil_matrix is more efficient.\n",
      "  self._set_arrayXarray(i, j, x)\n"
     ]
    },
    {
     "name": "stdout",
     "output_type": "stream",
     "text": [
      "cur_iter  1\n",
      "cur_iter  2\n",
      "cur_iter  3\n",
      "cur_iter  4\n",
      "cur_iter  5\n",
      "cur_iter  6\n",
      "cur_iter  7\n",
      "no more keyphrase available\n",
      "target_item:  1710\n",
      "106.63409987395335\n",
      "cur_iter  0\n"
     ]
    },
    {
     "name": "stderr",
     "output_type": "stream",
     "text": [
      "/Users/litos/opt/anaconda3/lib/python3.7/site-packages/scipy/sparse/_index.py:127: SparseEfficiencyWarning: Changing the sparsity structure of a csr_matrix is expensive. lil_matrix is more efficient.\n",
      "  self._set_arrayXarray(i, j, x)\n"
     ]
    },
    {
     "name": "stdout",
     "output_type": "stream",
     "text": [
      "cur_iter  1\n",
      "cur_iter  2\n",
      "cur_iter  3\n",
      "cur_iter  4\n",
      "cur_iter  5\n",
      "cur_iter  6\n",
      "cur_iter  7\n",
      "cur_iter  8\n",
      "cur_iter  9\n",
      "no more keyphrase available\n",
      "target_item:  2564\n",
      "65.7077123486988\n",
      "cur_iter  0\n"
     ]
    },
    {
     "name": "stderr",
     "output_type": "stream",
     "text": [
      "/Users/litos/opt/anaconda3/lib/python3.7/site-packages/scipy/sparse/_index.py:127: SparseEfficiencyWarning: Changing the sparsity structure of a csr_matrix is expensive. lil_matrix is more efficient.\n",
      "  self._set_arrayXarray(i, j, x)\n"
     ]
    },
    {
     "name": "stdout",
     "output_type": "stream",
     "text": [
      "cur_iter  1\n",
      "cur_iter  2\n",
      "cur_iter  3\n",
      "cur_iter  4\n",
      "cur_iter  5\n",
      "cur_iter  6\n",
      "cur_iter  7\n",
      "cur_iter  8\n",
      "cur_iter  9\n",
      "target_item:  2696\n",
      "80.22299928326811\n",
      "cur_iter  0\n"
     ]
    },
    {
     "name": "stderr",
     "output_type": "stream",
     "text": [
      "/Users/litos/opt/anaconda3/lib/python3.7/site-packages/scipy/sparse/_index.py:127: SparseEfficiencyWarning: Changing the sparsity structure of a csr_matrix is expensive. lil_matrix is more efficient.\n",
      "  self._set_arrayXarray(i, j, x)\n"
     ]
    },
    {
     "name": "stdout",
     "output_type": "stream",
     "text": [
      "cur_iter  1\n",
      "cur_iter  2\n",
      "cur_iter  3\n",
      "cur_iter  4\n",
      "cur_iter  5\n",
      "cur_iter  6\n",
      "cur_iter  7\n",
      "cur_iter  8\n",
      "cur_iter  9\n",
      "User ID  344\n",
      "wanted_items length:  41\n",
      "Initial top recommendation index 4786\n",
      "target_item:  116\n",
      "339.5090109180928\n",
      "cur_iter  0\n"
     ]
    },
    {
     "name": "stderr",
     "output_type": "stream",
     "text": [
      "/Users/litos/opt/anaconda3/lib/python3.7/site-packages/scipy/sparse/_index.py:127: SparseEfficiencyWarning: Changing the sparsity structure of a csr_matrix is expensive. lil_matrix is more efficient.\n",
      "  self._set_arrayXarray(i, j, x)\n"
     ]
    },
    {
     "name": "stdout",
     "output_type": "stream",
     "text": [
      "cur_iter  1\n",
      "no more keyphrase available\n",
      "target_item:  201\n",
      "17.178857583610807\n",
      "cur_iter  0\n"
     ]
    },
    {
     "name": "stderr",
     "output_type": "stream",
     "text": [
      "/Users/litos/opt/anaconda3/lib/python3.7/site-packages/scipy/sparse/_index.py:127: SparseEfficiencyWarning: Changing the sparsity structure of a csr_matrix is expensive. lil_matrix is more efficient.\n",
      "  self._set_arrayXarray(i, j, x)\n"
     ]
    },
    {
     "name": "stdout",
     "output_type": "stream",
     "text": [
      "cur_iter  1\n",
      "cur_iter  2\n",
      "cur_iter  3\n",
      "cur_iter  4\n",
      "cur_iter  5\n",
      "cur_iter  6\n",
      "cur_iter  7\n",
      "cur_iter  8\n",
      "cur_iter  9\n",
      "target_item:  327\n",
      "41.50846188745709\n",
      "cur_iter  0\n"
     ]
    },
    {
     "name": "stderr",
     "output_type": "stream",
     "text": [
      "/Users/litos/opt/anaconda3/lib/python3.7/site-packages/scipy/sparse/_index.py:127: SparseEfficiencyWarning: Changing the sparsity structure of a csr_matrix is expensive. lil_matrix is more efficient.\n",
      "  self._set_arrayXarray(i, j, x)\n"
     ]
    },
    {
     "name": "stdout",
     "output_type": "stream",
     "text": [
      "cur_iter  1\n",
      "cur_iter  2\n",
      "cur_iter  3\n",
      "cur_iter  4\n",
      "cur_iter  5\n",
      "cur_iter  6\n",
      "cur_iter  7\n",
      "cur_iter  8\n",
      "cur_iter  9\n",
      "target_item:  530\n",
      "32.29613625582715\n",
      "cur_iter  0\n"
     ]
    },
    {
     "name": "stderr",
     "output_type": "stream",
     "text": [
      "/Users/litos/opt/anaconda3/lib/python3.7/site-packages/scipy/sparse/_index.py:127: SparseEfficiencyWarning: Changing the sparsity structure of a csr_matrix is expensive. lil_matrix is more efficient.\n",
      "  self._set_arrayXarray(i, j, x)\n"
     ]
    },
    {
     "name": "stdout",
     "output_type": "stream",
     "text": [
      "cur_iter  1\n",
      "cur_iter  2\n",
      "cur_iter  3\n",
      "cur_iter  4\n",
      "cur_iter  5\n",
      "cur_iter  6\n",
      "cur_iter  7\n",
      "cur_iter  8\n",
      "cur_iter  9\n",
      "target_item:  1246\n",
      "38.78805962829574\n",
      "cur_iter  0\n"
     ]
    },
    {
     "name": "stderr",
     "output_type": "stream",
     "text": [
      "/Users/litos/opt/anaconda3/lib/python3.7/site-packages/scipy/sparse/_index.py:127: SparseEfficiencyWarning: Changing the sparsity structure of a csr_matrix is expensive. lil_matrix is more efficient.\n",
      "  self._set_arrayXarray(i, j, x)\n"
     ]
    },
    {
     "name": "stdout",
     "output_type": "stream",
     "text": [
      "cur_iter  1\n",
      "cur_iter  2\n",
      "cur_iter  3\n",
      "cur_iter  4\n",
      "cur_iter  5\n",
      "cur_iter  6\n",
      "cur_iter  7\n",
      "cur_iter  8\n",
      "cur_iter  9\n",
      "target_item:  1478\n",
      "41.44767936192875\n",
      "cur_iter  0\n"
     ]
    },
    {
     "name": "stderr",
     "output_type": "stream",
     "text": [
      "/Users/litos/opt/anaconda3/lib/python3.7/site-packages/scipy/sparse/_index.py:127: SparseEfficiencyWarning: Changing the sparsity structure of a csr_matrix is expensive. lil_matrix is more efficient.\n",
      "  self._set_arrayXarray(i, j, x)\n"
     ]
    },
    {
     "name": "stdout",
     "output_type": "stream",
     "text": [
      "cur_iter  1\n",
      "cur_iter  2\n",
      "cur_iter  3\n",
      "cur_iter  4\n",
      "cur_iter  5\n",
      "cur_iter  6\n",
      "cur_iter  7\n",
      "cur_iter  8\n",
      "cur_iter  9\n",
      "target_item:  1488\n",
      "31.459391546130064\n",
      "cur_iter  0\n"
     ]
    },
    {
     "name": "stderr",
     "output_type": "stream",
     "text": [
      "/Users/litos/opt/anaconda3/lib/python3.7/site-packages/scipy/sparse/_index.py:127: SparseEfficiencyWarning: Changing the sparsity structure of a csr_matrix is expensive. lil_matrix is more efficient.\n",
      "  self._set_arrayXarray(i, j, x)\n"
     ]
    },
    {
     "name": "stdout",
     "output_type": "stream",
     "text": [
      "cur_iter  1\n",
      "cur_iter  2\n",
      "cur_iter  3\n",
      "cur_iter  4\n",
      "cur_iter  5\n",
      "cur_iter  6\n",
      "cur_iter  7\n",
      "cur_iter  8\n",
      "cur_iter  9\n",
      "target_item:  1689\n",
      "32.92417252561427\n",
      "cur_iter  0\n"
     ]
    },
    {
     "name": "stderr",
     "output_type": "stream",
     "text": [
      "/Users/litos/opt/anaconda3/lib/python3.7/site-packages/scipy/sparse/_index.py:127: SparseEfficiencyWarning: Changing the sparsity structure of a csr_matrix is expensive. lil_matrix is more efficient.\n",
      "  self._set_arrayXarray(i, j, x)\n"
     ]
    },
    {
     "name": "stdout",
     "output_type": "stream",
     "text": [
      "cur_iter  1\n",
      "cur_iter  2\n",
      "cur_iter  3\n",
      "cur_iter  4\n",
      "cur_iter  5\n",
      "cur_iter  6\n",
      "cur_iter  7\n",
      "cur_iter  8\n",
      "cur_iter  9\n",
      "target_item:  1761\n",
      "37.89322084160813\n",
      "cur_iter  0\n"
     ]
    },
    {
     "name": "stderr",
     "output_type": "stream",
     "text": [
      "/Users/litos/opt/anaconda3/lib/python3.7/site-packages/scipy/sparse/_index.py:127: SparseEfficiencyWarning: Changing the sparsity structure of a csr_matrix is expensive. lil_matrix is more efficient.\n",
      "  self._set_arrayXarray(i, j, x)\n"
     ]
    },
    {
     "name": "stdout",
     "output_type": "stream",
     "text": [
      "cur_iter  1\n",
      "cur_iter  2\n",
      "cur_iter  3\n",
      "cur_iter  4\n",
      "cur_iter  5\n",
      "cur_iter  6\n",
      "cur_iter  7\n",
      "cur_iter  8\n",
      "cur_iter  9\n",
      "target_item:  1776\n",
      "78.07411511465034\n",
      "cur_iter  0\n"
     ]
    },
    {
     "name": "stderr",
     "output_type": "stream",
     "text": [
      "/Users/litos/opt/anaconda3/lib/python3.7/site-packages/scipy/sparse/_index.py:127: SparseEfficiencyWarning: Changing the sparsity structure of a csr_matrix is expensive. lil_matrix is more efficient.\n",
      "  self._set_arrayXarray(i, j, x)\n"
     ]
    },
    {
     "name": "stdout",
     "output_type": "stream",
     "text": [
      "cur_iter  1\n",
      "cur_iter  2\n",
      "cur_iter  3\n",
      "cur_iter  4\n",
      "cur_iter  5\n",
      "cur_iter  6\n",
      "cur_iter  7\n",
      "no more keyphrase available\n",
      "target_item:  1832\n",
      "23.632602165685967\n",
      "cur_iter  0\n"
     ]
    },
    {
     "name": "stderr",
     "output_type": "stream",
     "text": [
      "/Users/litos/opt/anaconda3/lib/python3.7/site-packages/scipy/sparse/_index.py:127: SparseEfficiencyWarning: Changing the sparsity structure of a csr_matrix is expensive. lil_matrix is more efficient.\n",
      "  self._set_arrayXarray(i, j, x)\n"
     ]
    },
    {
     "name": "stdout",
     "output_type": "stream",
     "text": [
      "cur_iter  1\n",
      "cur_iter  2\n",
      "cur_iter  3\n",
      "cur_iter  4\n",
      "cur_iter  5\n",
      "cur_iter  6\n",
      "cur_iter  7\n",
      "cur_iter  8\n",
      "cur_iter  9\n",
      "User ID  345\n",
      "wanted_items length:  8\n",
      "Initial top recommendation index 6299\n",
      "target_item:  495\n",
      "21.91297270391351\n",
      "cur_iter  0\n"
     ]
    },
    {
     "name": "stderr",
     "output_type": "stream",
     "text": [
      "/Users/litos/opt/anaconda3/lib/python3.7/site-packages/scipy/sparse/_index.py:127: SparseEfficiencyWarning: Changing the sparsity structure of a csr_matrix is expensive. lil_matrix is more efficient.\n",
      "  self._set_arrayXarray(i, j, x)\n"
     ]
    },
    {
     "name": "stdout",
     "output_type": "stream",
     "text": [
      "cur_iter  1\n",
      "cur_iter  2\n",
      "cur_iter  3\n",
      "no more keyphrase available\n",
      "target_item:  601\n",
      "7.664044588068691\n",
      "cur_iter  0\n"
     ]
    },
    {
     "name": "stderr",
     "output_type": "stream",
     "text": [
      "/Users/litos/opt/anaconda3/lib/python3.7/site-packages/scipy/sparse/_index.py:127: SparseEfficiencyWarning: Changing the sparsity structure of a csr_matrix is expensive. lil_matrix is more efficient.\n",
      "  self._set_arrayXarray(i, j, x)\n"
     ]
    },
    {
     "name": "stdout",
     "output_type": "stream",
     "text": [
      "cur_iter  1\n",
      "cur_iter  2\n",
      "cur_iter  3\n",
      "cur_iter  4\n",
      "cur_iter  5\n",
      "cur_iter  6\n",
      "cur_iter  7\n",
      "cur_iter  8\n",
      "cur_iter  9\n",
      "target_item:  2687\n",
      "24.7182313001058\n",
      "cur_iter  0\n"
     ]
    },
    {
     "name": "stderr",
     "output_type": "stream",
     "text": [
      "/Users/litos/opt/anaconda3/lib/python3.7/site-packages/scipy/sparse/_index.py:127: SparseEfficiencyWarning: Changing the sparsity structure of a csr_matrix is expensive. lil_matrix is more efficient.\n",
      "  self._set_arrayXarray(i, j, x)\n"
     ]
    },
    {
     "name": "stdout",
     "output_type": "stream",
     "text": [
      "cur_iter  1\n",
      "cur_iter  2\n",
      "cur_iter  3\n",
      "cur_iter  4\n",
      "cur_iter  5\n",
      "cur_iter  6\n",
      "no more keyphrase available\n",
      "target_item:  2788\n",
      "7.962212846388184\n",
      "cur_iter  0\n"
     ]
    },
    {
     "name": "stderr",
     "output_type": "stream",
     "text": [
      "/Users/litos/opt/anaconda3/lib/python3.7/site-packages/scipy/sparse/_index.py:127: SparseEfficiencyWarning: Changing the sparsity structure of a csr_matrix is expensive. lil_matrix is more efficient.\n",
      "  self._set_arrayXarray(i, j, x)\n"
     ]
    },
    {
     "name": "stdout",
     "output_type": "stream",
     "text": [
      "cur_iter  1\n",
      "cur_iter  2\n",
      "cur_iter  3\n",
      "cur_iter  4\n",
      "cur_iter  5\n",
      "cur_iter  6\n",
      "cur_iter  7\n",
      "cur_iter  8\n",
      "cur_iter  9\n",
      "target_item:  2847\n",
      "7.374564328826864\n",
      "cur_iter  0\n"
     ]
    },
    {
     "name": "stderr",
     "output_type": "stream",
     "text": [
      "/Users/litos/opt/anaconda3/lib/python3.7/site-packages/scipy/sparse/_index.py:127: SparseEfficiencyWarning: Changing the sparsity structure of a csr_matrix is expensive. lil_matrix is more efficient.\n",
      "  self._set_arrayXarray(i, j, x)\n"
     ]
    },
    {
     "name": "stdout",
     "output_type": "stream",
     "text": [
      "cur_iter  1\n",
      "cur_iter  2\n",
      "cur_iter  3\n",
      "cur_iter  4\n",
      "cur_iter  5\n",
      "cur_iter  6\n",
      "cur_iter  7\n",
      "cur_iter  8\n",
      "cur_iter  9\n",
      "target_item:  3211\n",
      "7.453990407928359\n",
      "cur_iter  0\n"
     ]
    },
    {
     "name": "stderr",
     "output_type": "stream",
     "text": [
      "/Users/litos/opt/anaconda3/lib/python3.7/site-packages/scipy/sparse/_index.py:127: SparseEfficiencyWarning: Changing the sparsity structure of a csr_matrix is expensive. lil_matrix is more efficient.\n",
      "  self._set_arrayXarray(i, j, x)\n"
     ]
    },
    {
     "name": "stdout",
     "output_type": "stream",
     "text": [
      "cur_iter  1\n",
      "cur_iter  2\n",
      "cur_iter  3\n",
      "cur_iter  4\n",
      "cur_iter  5\n",
      "cur_iter  6\n",
      "cur_iter  7\n",
      "cur_iter  8\n",
      "cur_iter  9\n",
      "target_item:  4566\n",
      "7.894015566738972\n",
      "cur_iter  0\n"
     ]
    },
    {
     "name": "stderr",
     "output_type": "stream",
     "text": [
      "/Users/litos/opt/anaconda3/lib/python3.7/site-packages/scipy/sparse/_index.py:127: SparseEfficiencyWarning: Changing the sparsity structure of a csr_matrix is expensive. lil_matrix is more efficient.\n",
      "  self._set_arrayXarray(i, j, x)\n"
     ]
    },
    {
     "name": "stdout",
     "output_type": "stream",
     "text": [
      "cur_iter  1\n",
      "cur_iter  2\n",
      "cur_iter  3\n",
      "cur_iter  4\n",
      "cur_iter  5\n",
      "cur_iter  6\n",
      "cur_iter  7\n",
      "cur_iter  8\n",
      "cur_iter  9\n",
      "target_item:  7313\n",
      "5.68704772420665\n",
      "cur_iter  0\n"
     ]
    },
    {
     "name": "stderr",
     "output_type": "stream",
     "text": [
      "/Users/litos/opt/anaconda3/lib/python3.7/site-packages/scipy/sparse/_index.py:127: SparseEfficiencyWarning: Changing the sparsity structure of a csr_matrix is expensive. lil_matrix is more efficient.\n",
      "  self._set_arrayXarray(i, j, x)\n"
     ]
    },
    {
     "name": "stdout",
     "output_type": "stream",
     "text": [
      "cur_iter  1\n",
      "cur_iter  2\n",
      "cur_iter  3\n",
      "cur_iter  4\n",
      "cur_iter  5\n",
      "cur_iter  6\n",
      "cur_iter  7\n",
      "cur_iter  8\n",
      "cur_iter  9\n",
      "User ID  346\n",
      "wanted_items length:  11\n",
      "Initial top recommendation index 6776\n",
      "target_item:  17\n",
      "10.482355109362743\n",
      "cur_iter  0\n"
     ]
    },
    {
     "name": "stderr",
     "output_type": "stream",
     "text": [
      "/Users/litos/opt/anaconda3/lib/python3.7/site-packages/scipy/sparse/_index.py:127: SparseEfficiencyWarning: Changing the sparsity structure of a csr_matrix is expensive. lil_matrix is more efficient.\n",
      "  self._set_arrayXarray(i, j, x)\n"
     ]
    },
    {
     "name": "stdout",
     "output_type": "stream",
     "text": [
      "cur_iter  1\n",
      "cur_iter  2\n",
      "cur_iter  3\n",
      "cur_iter  4\n",
      "cur_iter  5\n",
      "cur_iter  6\n",
      "cur_iter  7\n",
      "cur_iter  8\n",
      "cur_iter  9\n",
      "target_item:  416\n",
      "11.626652302400089\n",
      "cur_iter  0\n"
     ]
    },
    {
     "name": "stderr",
     "output_type": "stream",
     "text": [
      "/Users/litos/opt/anaconda3/lib/python3.7/site-packages/scipy/sparse/_index.py:127: SparseEfficiencyWarning: Changing the sparsity structure of a csr_matrix is expensive. lil_matrix is more efficient.\n",
      "  self._set_arrayXarray(i, j, x)\n"
     ]
    },
    {
     "name": "stdout",
     "output_type": "stream",
     "text": [
      "cur_iter  1\n",
      "cur_iter  2\n",
      "cur_iter  3\n",
      "cur_iter  4\n",
      "cur_iter  5\n",
      "cur_iter  6\n",
      "cur_iter  7\n",
      "cur_iter  8\n",
      "cur_iter  9\n",
      "target_item:  1204\n",
      "6.535916247346449\n",
      "cur_iter  0\n"
     ]
    },
    {
     "name": "stderr",
     "output_type": "stream",
     "text": [
      "/Users/litos/opt/anaconda3/lib/python3.7/site-packages/scipy/sparse/_index.py:127: SparseEfficiencyWarning: Changing the sparsity structure of a csr_matrix is expensive. lil_matrix is more efficient.\n",
      "  self._set_arrayXarray(i, j, x)\n"
     ]
    },
    {
     "name": "stdout",
     "output_type": "stream",
     "text": [
      "cur_iter  1\n",
      "cur_iter  2\n",
      "cur_iter  3\n",
      "cur_iter  4\n",
      "cur_iter  5\n",
      "cur_iter  6\n",
      "cur_iter  7\n",
      "cur_iter  8\n",
      "cur_iter  9\n",
      "target_item:  3590\n",
      "10.944093726638584\n",
      "cur_iter  0\n"
     ]
    },
    {
     "name": "stderr",
     "output_type": "stream",
     "text": [
      "/Users/litos/opt/anaconda3/lib/python3.7/site-packages/scipy/sparse/_index.py:127: SparseEfficiencyWarning: Changing the sparsity structure of a csr_matrix is expensive. lil_matrix is more efficient.\n",
      "  self._set_arrayXarray(i, j, x)\n"
     ]
    },
    {
     "name": "stdout",
     "output_type": "stream",
     "text": [
      "cur_iter  1\n",
      "cur_iter  2\n",
      "cur_iter  3\n",
      "cur_iter  4\n",
      "cur_iter  5\n",
      "cur_iter  6\n",
      "cur_iter  7\n",
      "cur_iter  8\n",
      "cur_iter  9\n",
      "target_item:  3883\n",
      "6.915687957588943\n",
      "cur_iter  0\n"
     ]
    },
    {
     "name": "stderr",
     "output_type": "stream",
     "text": [
      "/Users/litos/opt/anaconda3/lib/python3.7/site-packages/scipy/sparse/_index.py:127: SparseEfficiencyWarning: Changing the sparsity structure of a csr_matrix is expensive. lil_matrix is more efficient.\n",
      "  self._set_arrayXarray(i, j, x)\n"
     ]
    },
    {
     "name": "stdout",
     "output_type": "stream",
     "text": [
      "cur_iter  1\n",
      "cur_iter  2\n",
      "cur_iter  3\n",
      "cur_iter  4\n",
      "cur_iter  5\n",
      "cur_iter  6\n",
      "cur_iter  7\n",
      "cur_iter  8\n",
      "cur_iter  9\n",
      "target_item:  3958\n",
      "28.277288548900742\n",
      "cur_iter  0\n"
     ]
    },
    {
     "name": "stderr",
     "output_type": "stream",
     "text": [
      "/Users/litos/opt/anaconda3/lib/python3.7/site-packages/scipy/sparse/_index.py:127: SparseEfficiencyWarning: Changing the sparsity structure of a csr_matrix is expensive. lil_matrix is more efficient.\n",
      "  self._set_arrayXarray(i, j, x)\n"
     ]
    },
    {
     "name": "stdout",
     "output_type": "stream",
     "text": [
      "cur_iter  1\n",
      "cur_iter  2\n",
      "cur_iter  3\n",
      "cur_iter  4\n",
      "cur_iter  5\n",
      "cur_iter  6\n",
      "cur_iter  7\n",
      "cur_iter  8\n",
      "cur_iter  9\n",
      "target_item:  4788\n",
      "9.581885089149637\n",
      "cur_iter  0\n"
     ]
    },
    {
     "name": "stderr",
     "output_type": "stream",
     "text": [
      "/Users/litos/opt/anaconda3/lib/python3.7/site-packages/scipy/sparse/_index.py:127: SparseEfficiencyWarning: Changing the sparsity structure of a csr_matrix is expensive. lil_matrix is more efficient.\n",
      "  self._set_arrayXarray(i, j, x)\n"
     ]
    },
    {
     "name": "stdout",
     "output_type": "stream",
     "text": [
      "cur_iter  1\n",
      "cur_iter  2\n",
      "cur_iter  3\n",
      "cur_iter  4\n",
      "cur_iter  5\n",
      "cur_iter  6\n",
      "cur_iter  7\n",
      "cur_iter  8\n",
      "cur_iter  9\n",
      "target_item:  5010\n",
      "6.229060620882137\n",
      "cur_iter  0\n"
     ]
    },
    {
     "name": "stderr",
     "output_type": "stream",
     "text": [
      "/Users/litos/opt/anaconda3/lib/python3.7/site-packages/scipy/sparse/_index.py:127: SparseEfficiencyWarning: Changing the sparsity structure of a csr_matrix is expensive. lil_matrix is more efficient.\n",
      "  self._set_arrayXarray(i, j, x)\n"
     ]
    },
    {
     "name": "stdout",
     "output_type": "stream",
     "text": [
      "cur_iter  1\n",
      "cur_iter  2\n",
      "cur_iter  3\n",
      "cur_iter  4\n",
      "cur_iter  5\n",
      "cur_iter  6\n",
      "cur_iter  7\n",
      "cur_iter  8\n",
      "cur_iter  9\n",
      "target_item:  5410\n",
      "7.246406409743486\n",
      "cur_iter  0\n"
     ]
    },
    {
     "name": "stderr",
     "output_type": "stream",
     "text": [
      "/Users/litos/opt/anaconda3/lib/python3.7/site-packages/scipy/sparse/_index.py:127: SparseEfficiencyWarning: Changing the sparsity structure of a csr_matrix is expensive. lil_matrix is more efficient.\n",
      "  self._set_arrayXarray(i, j, x)\n"
     ]
    },
    {
     "name": "stdout",
     "output_type": "stream",
     "text": [
      "cur_iter  1\n",
      "cur_iter  2\n",
      "cur_iter  3\n",
      "cur_iter  4\n",
      "cur_iter  5\n",
      "cur_iter  6\n",
      "cur_iter  7\n",
      "cur_iter  8\n",
      "cur_iter  9\n",
      "target_item:  5538\n",
      "18.474765199856392\n",
      "cur_iter  0\n"
     ]
    },
    {
     "name": "stderr",
     "output_type": "stream",
     "text": [
      "/Users/litos/opt/anaconda3/lib/python3.7/site-packages/scipy/sparse/_index.py:127: SparseEfficiencyWarning: Changing the sparsity structure of a csr_matrix is expensive. lil_matrix is more efficient.\n",
      "  self._set_arrayXarray(i, j, x)\n"
     ]
    },
    {
     "name": "stdout",
     "output_type": "stream",
     "text": [
      "cur_iter  1\n",
      "cur_iter  2\n",
      "cur_iter  3\n",
      "cur_iter  4\n",
      "cur_iter  5\n",
      "cur_iter  6\n",
      "cur_iter  7\n",
      "cur_iter  8\n",
      "cur_iter  9\n",
      "target_item:  5773\n",
      "74.94024941676935\n",
      "cur_iter  0\n"
     ]
    },
    {
     "name": "stderr",
     "output_type": "stream",
     "text": [
      "/Users/litos/opt/anaconda3/lib/python3.7/site-packages/scipy/sparse/_index.py:127: SparseEfficiencyWarning: Changing the sparsity structure of a csr_matrix is expensive. lil_matrix is more efficient.\n",
      "  self._set_arrayXarray(i, j, x)\n"
     ]
    },
    {
     "name": "stdout",
     "output_type": "stream",
     "text": [
      "cur_iter  1\n",
      "cur_iter  2\n",
      "no more keyphrase available\n",
      "User ID  347\n",
      "wanted_items length:  49\n",
      "Initial top recommendation index 2514\n",
      "target_item:  476\n",
      "46.84591543427996\n",
      "cur_iter  0\n"
     ]
    },
    {
     "name": "stderr",
     "output_type": "stream",
     "text": [
      "/Users/litos/opt/anaconda3/lib/python3.7/site-packages/scipy/sparse/_index.py:127: SparseEfficiencyWarning: Changing the sparsity structure of a csr_matrix is expensive. lil_matrix is more efficient.\n",
      "  self._set_arrayXarray(i, j, x)\n"
     ]
    },
    {
     "name": "stdout",
     "output_type": "stream",
     "text": [
      "cur_iter  1\n",
      "cur_iter  2\n",
      "cur_iter  3\n",
      "cur_iter  4\n",
      "cur_iter  5\n",
      "cur_iter  6\n",
      "cur_iter  7\n",
      "cur_iter  8\n",
      "cur_iter  9\n",
      "target_item:  566\n",
      "39.897791835033786\n",
      "cur_iter  0\n"
     ]
    },
    {
     "name": "stderr",
     "output_type": "stream",
     "text": [
      "/Users/litos/opt/anaconda3/lib/python3.7/site-packages/scipy/sparse/_index.py:127: SparseEfficiencyWarning: Changing the sparsity structure of a csr_matrix is expensive. lil_matrix is more efficient.\n",
      "  self._set_arrayXarray(i, j, x)\n"
     ]
    },
    {
     "name": "stdout",
     "output_type": "stream",
     "text": [
      "cur_iter  1\n",
      "cur_iter  2\n",
      "cur_iter  3\n",
      "cur_iter  4\n",
      "cur_iter  5\n",
      "cur_iter  6\n",
      "cur_iter  7\n",
      "cur_iter  8\n",
      "cur_iter  9\n",
      "target_item:  612\n",
      "63.22957223169033\n",
      "cur_iter  0\n"
     ]
    },
    {
     "name": "stderr",
     "output_type": "stream",
     "text": [
      "/Users/litos/opt/anaconda3/lib/python3.7/site-packages/scipy/sparse/_index.py:127: SparseEfficiencyWarning: Changing the sparsity structure of a csr_matrix is expensive. lil_matrix is more efficient.\n",
      "  self._set_arrayXarray(i, j, x)\n"
     ]
    },
    {
     "name": "stdout",
     "output_type": "stream",
     "text": [
      "cur_iter  1\n",
      "cur_iter  2\n",
      "cur_iter  3\n",
      "cur_iter  4\n",
      "cur_iter  5\n",
      "cur_iter  6\n",
      "cur_iter  7\n",
      "cur_iter  8\n",
      "cur_iter  9\n",
      "target_item:  935\n",
      "29.983218412691713\n",
      "cur_iter  0\n"
     ]
    },
    {
     "name": "stderr",
     "output_type": "stream",
     "text": [
      "/Users/litos/opt/anaconda3/lib/python3.7/site-packages/scipy/sparse/_index.py:127: SparseEfficiencyWarning: Changing the sparsity structure of a csr_matrix is expensive. lil_matrix is more efficient.\n",
      "  self._set_arrayXarray(i, j, x)\n"
     ]
    },
    {
     "name": "stdout",
     "output_type": "stream",
     "text": [
      "cur_iter  1\n",
      "cur_iter  2\n",
      "cur_iter  3\n",
      "cur_iter  4\n",
      "cur_iter  5\n",
      "cur_iter  6\n",
      "cur_iter  7\n",
      "cur_iter  8\n",
      "cur_iter  9\n",
      "target_item:  973\n",
      "41.36229531933168\n",
      "cur_iter  0\n"
     ]
    },
    {
     "name": "stderr",
     "output_type": "stream",
     "text": [
      "/Users/litos/opt/anaconda3/lib/python3.7/site-packages/scipy/sparse/_index.py:127: SparseEfficiencyWarning: Changing the sparsity structure of a csr_matrix is expensive. lil_matrix is more efficient.\n",
      "  self._set_arrayXarray(i, j, x)\n"
     ]
    },
    {
     "name": "stdout",
     "output_type": "stream",
     "text": [
      "cur_iter  1\n",
      "cur_iter  2\n",
      "cur_iter  3\n",
      "cur_iter  4\n",
      "cur_iter  5\n",
      "cur_iter  6\n",
      "cur_iter  7\n",
      "cur_iter  8\n",
      "cur_iter  9\n",
      "target_item:  1311\n",
      "120.45295871245071\n",
      "cur_iter  0\n"
     ]
    },
    {
     "name": "stderr",
     "output_type": "stream",
     "text": [
      "/Users/litos/opt/anaconda3/lib/python3.7/site-packages/scipy/sparse/_index.py:127: SparseEfficiencyWarning: Changing the sparsity structure of a csr_matrix is expensive. lil_matrix is more efficient.\n",
      "  self._set_arrayXarray(i, j, x)\n"
     ]
    },
    {
     "name": "stdout",
     "output_type": "stream",
     "text": [
      "cur_iter  1\n",
      "cur_iter  2\n",
      "cur_iter  3\n",
      "cur_iter  4\n",
      "cur_iter  5\n",
      "no more keyphrase available\n",
      "target_item:  1438\n",
      "36.98867264495311\n",
      "cur_iter  0\n"
     ]
    },
    {
     "name": "stderr",
     "output_type": "stream",
     "text": [
      "/Users/litos/opt/anaconda3/lib/python3.7/site-packages/scipy/sparse/_index.py:127: SparseEfficiencyWarning: Changing the sparsity structure of a csr_matrix is expensive. lil_matrix is more efficient.\n",
      "  self._set_arrayXarray(i, j, x)\n"
     ]
    },
    {
     "name": "stdout",
     "output_type": "stream",
     "text": [
      "cur_iter  1\n",
      "cur_iter  2\n",
      "cur_iter  3\n",
      "cur_iter  4\n",
      "cur_iter  5\n",
      "cur_iter  6\n",
      "cur_iter  7\n",
      "cur_iter  8\n",
      "cur_iter  9\n",
      "target_item:  1643\n",
      "60.79584204951061\n",
      "cur_iter  0\n"
     ]
    },
    {
     "name": "stderr",
     "output_type": "stream",
     "text": [
      "/Users/litos/opt/anaconda3/lib/python3.7/site-packages/scipy/sparse/_index.py:127: SparseEfficiencyWarning: Changing the sparsity structure of a csr_matrix is expensive. lil_matrix is more efficient.\n",
      "  self._set_arrayXarray(i, j, x)\n"
     ]
    },
    {
     "name": "stdout",
     "output_type": "stream",
     "text": [
      "cur_iter  1\n",
      "cur_iter  2\n",
      "cur_iter  3\n",
      "cur_iter  4\n",
      "cur_iter  5\n",
      "cur_iter  6\n",
      "cur_iter  7\n",
      "cur_iter  8\n",
      "cur_iter  9\n",
      "target_item:  1898\n",
      "39.759631459795855\n",
      "cur_iter  0\n"
     ]
    },
    {
     "name": "stderr",
     "output_type": "stream",
     "text": [
      "/Users/litos/opt/anaconda3/lib/python3.7/site-packages/scipy/sparse/_index.py:127: SparseEfficiencyWarning: Changing the sparsity structure of a csr_matrix is expensive. lil_matrix is more efficient.\n",
      "  self._set_arrayXarray(i, j, x)\n"
     ]
    },
    {
     "name": "stdout",
     "output_type": "stream",
     "text": [
      "cur_iter  1\n",
      "cur_iter  2\n",
      "cur_iter  3\n",
      "cur_iter  4\n",
      "cur_iter  5\n",
      "cur_iter  6\n",
      "cur_iter  7\n",
      "cur_iter  8\n",
      "cur_iter  9\n",
      "target_item:  2006\n",
      "29.880838557515744\n",
      "cur_iter  0\n"
     ]
    },
    {
     "name": "stderr",
     "output_type": "stream",
     "text": [
      "/Users/litos/opt/anaconda3/lib/python3.7/site-packages/scipy/sparse/_index.py:127: SparseEfficiencyWarning: Changing the sparsity structure of a csr_matrix is expensive. lil_matrix is more efficient.\n",
      "  self._set_arrayXarray(i, j, x)\n"
     ]
    },
    {
     "name": "stdout",
     "output_type": "stream",
     "text": [
      "cur_iter  1\n",
      "cur_iter  2\n",
      "cur_iter  3\n",
      "cur_iter  4\n",
      "cur_iter  5\n",
      "cur_iter  6\n",
      "cur_iter  7\n",
      "cur_iter  8\n",
      "cur_iter  9\n",
      "target_item:  2313\n",
      "36.14117814529709\n",
      "cur_iter  0\n"
     ]
    },
    {
     "name": "stderr",
     "output_type": "stream",
     "text": [
      "/Users/litos/opt/anaconda3/lib/python3.7/site-packages/scipy/sparse/_index.py:127: SparseEfficiencyWarning: Changing the sparsity structure of a csr_matrix is expensive. lil_matrix is more efficient.\n",
      "  self._set_arrayXarray(i, j, x)\n"
     ]
    },
    {
     "name": "stdout",
     "output_type": "stream",
     "text": [
      "cur_iter  1\n",
      "cur_iter  2\n",
      "cur_iter  3\n",
      "cur_iter  4\n",
      "cur_iter  5\n",
      "cur_iter  6\n",
      "cur_iter  7\n",
      "cur_iter  8\n",
      "cur_iter  9\n",
      "User ID  348\n",
      "wanted_items length:  5\n",
      "Initial top recommendation index 2804\n",
      "target_item:  149\n",
      "22.56564872347326\n",
      "cur_iter  0\n"
     ]
    },
    {
     "name": "stderr",
     "output_type": "stream",
     "text": [
      "/Users/litos/opt/anaconda3/lib/python3.7/site-packages/scipy/sparse/_index.py:127: SparseEfficiencyWarning: Changing the sparsity structure of a csr_matrix is expensive. lil_matrix is more efficient.\n",
      "  self._set_arrayXarray(i, j, x)\n"
     ]
    },
    {
     "name": "stdout",
     "output_type": "stream",
     "text": [
      "cur_iter  1\n",
      "cur_iter  2\n",
      "cur_iter  3\n",
      "cur_iter  4\n",
      "cur_iter  5\n",
      "cur_iter  6\n",
      "no more keyphrase available\n",
      "target_item:  823\n",
      "9.838244154032509\n",
      "cur_iter  0\n"
     ]
    },
    {
     "name": "stderr",
     "output_type": "stream",
     "text": [
      "/Users/litos/opt/anaconda3/lib/python3.7/site-packages/scipy/sparse/_index.py:127: SparseEfficiencyWarning: Changing the sparsity structure of a csr_matrix is expensive. lil_matrix is more efficient.\n",
      "  self._set_arrayXarray(i, j, x)\n"
     ]
    },
    {
     "name": "stdout",
     "output_type": "stream",
     "text": [
      "cur_iter  1\n",
      "cur_iter  2\n",
      "cur_iter  3\n",
      "cur_iter  4\n",
      "cur_iter  5\n",
      "cur_iter  6\n",
      "cur_iter  7\n",
      "cur_iter  8\n",
      "cur_iter  9\n",
      "target_item:  2791\n",
      "7.818321905455832\n",
      "cur_iter  0\n"
     ]
    },
    {
     "name": "stderr",
     "output_type": "stream",
     "text": [
      "/Users/litos/opt/anaconda3/lib/python3.7/site-packages/scipy/sparse/_index.py:127: SparseEfficiencyWarning: Changing the sparsity structure of a csr_matrix is expensive. lil_matrix is more efficient.\n",
      "  self._set_arrayXarray(i, j, x)\n"
     ]
    },
    {
     "name": "stdout",
     "output_type": "stream",
     "text": [
      "cur_iter  1\n",
      "cur_iter  2\n",
      "cur_iter  3\n",
      "cur_iter  4\n",
      "cur_iter  5\n",
      "cur_iter  6\n",
      "cur_iter  7\n",
      "cur_iter  8\n",
      "cur_iter  9\n",
      "target_item:  3933\n",
      "8.702713309314731\n",
      "cur_iter  0\n"
     ]
    },
    {
     "name": "stderr",
     "output_type": "stream",
     "text": [
      "/Users/litos/opt/anaconda3/lib/python3.7/site-packages/scipy/sparse/_index.py:127: SparseEfficiencyWarning: Changing the sparsity structure of a csr_matrix is expensive. lil_matrix is more efficient.\n",
      "  self._set_arrayXarray(i, j, x)\n"
     ]
    },
    {
     "name": "stdout",
     "output_type": "stream",
     "text": [
      "cur_iter  1\n",
      "cur_iter  2\n",
      "cur_iter  3\n",
      "cur_iter  4\n",
      "cur_iter  5\n",
      "cur_iter  6\n",
      "cur_iter  7\n",
      "cur_iter  8\n",
      "cur_iter  9\n",
      "target_item:  6858\n",
      "7.881005450226439\n",
      "cur_iter  0\n"
     ]
    },
    {
     "name": "stderr",
     "output_type": "stream",
     "text": [
      "/Users/litos/opt/anaconda3/lib/python3.7/site-packages/scipy/sparse/_index.py:127: SparseEfficiencyWarning: Changing the sparsity structure of a csr_matrix is expensive. lil_matrix is more efficient.\n",
      "  self._set_arrayXarray(i, j, x)\n"
     ]
    },
    {
     "name": "stdout",
     "output_type": "stream",
     "text": [
      "cur_iter  1\n",
      "cur_iter  2\n",
      "cur_iter  3\n",
      "cur_iter  4\n",
      "cur_iter  5\n",
      "cur_iter  6\n",
      "cur_iter  7\n",
      "cur_iter  8\n",
      "cur_iter  9\n",
      "User ID  349\n",
      "wanted_items length:  8\n",
      "Initial top recommendation index 2154\n",
      "target_item:  265\n",
      "4.498733634829705\n",
      "cur_iter  0\n"
     ]
    },
    {
     "name": "stderr",
     "output_type": "stream",
     "text": [
      "/Users/litos/opt/anaconda3/lib/python3.7/site-packages/scipy/sparse/_index.py:127: SparseEfficiencyWarning: Changing the sparsity structure of a csr_matrix is expensive. lil_matrix is more efficient.\n",
      "  self._set_arrayXarray(i, j, x)\n"
     ]
    },
    {
     "name": "stdout",
     "output_type": "stream",
     "text": [
      "cur_iter  1\n",
      "cur_iter  2\n",
      "cur_iter  3\n",
      "cur_iter  4\n",
      "cur_iter  5\n",
      "cur_iter  6\n",
      "cur_iter  7\n",
      "cur_iter  8\n",
      "cur_iter  9\n",
      "target_item:  1357\n",
      "3.9448585771590388\n",
      "cur_iter  0\n"
     ]
    },
    {
     "name": "stderr",
     "output_type": "stream",
     "text": [
      "/Users/litos/opt/anaconda3/lib/python3.7/site-packages/scipy/sparse/_index.py:127: SparseEfficiencyWarning: Changing the sparsity structure of a csr_matrix is expensive. lil_matrix is more efficient.\n",
      "  self._set_arrayXarray(i, j, x)\n"
     ]
    },
    {
     "name": "stdout",
     "output_type": "stream",
     "text": [
      "cur_iter  1\n",
      "cur_iter  2\n",
      "cur_iter  3\n",
      "cur_iter  4\n",
      "cur_iter  5\n",
      "cur_iter  6\n",
      "cur_iter  7\n",
      "cur_iter  8\n",
      "cur_iter  9\n",
      "target_item:  1621\n",
      "76.4704951538522\n",
      "cur_iter  0\n",
      "no more keyphrase available\n",
      "target_item:  2855\n",
      "2.5992305436286642\n",
      "cur_iter  0\n"
     ]
    },
    {
     "name": "stderr",
     "output_type": "stream",
     "text": [
      "/Users/litos/opt/anaconda3/lib/python3.7/site-packages/scipy/sparse/_index.py:127: SparseEfficiencyWarning: Changing the sparsity structure of a csr_matrix is expensive. lil_matrix is more efficient.\n",
      "  self._set_arrayXarray(i, j, x)\n"
     ]
    },
    {
     "name": "stdout",
     "output_type": "stream",
     "text": [
      "cur_iter  1\n",
      "cur_iter  2\n",
      "cur_iter  3\n",
      "cur_iter  4\n",
      "cur_iter  5\n",
      "cur_iter  6\n",
      "cur_iter  7\n",
      "cur_iter  8\n",
      "cur_iter  9\n",
      "target_item:  3865\n",
      "3.5022917046173916\n",
      "cur_iter  0\n"
     ]
    },
    {
     "name": "stderr",
     "output_type": "stream",
     "text": [
      "/Users/litos/opt/anaconda3/lib/python3.7/site-packages/scipy/sparse/_index.py:127: SparseEfficiencyWarning: Changing the sparsity structure of a csr_matrix is expensive. lil_matrix is more efficient.\n",
      "  self._set_arrayXarray(i, j, x)\n"
     ]
    },
    {
     "name": "stdout",
     "output_type": "stream",
     "text": [
      "cur_iter  1\n",
      "cur_iter  2\n",
      "cur_iter  3\n",
      "cur_iter  4\n",
      "cur_iter  5\n",
      "cur_iter  6\n",
      "cur_iter  7\n",
      "cur_iter  8\n",
      "cur_iter  9\n",
      "target_item:  4148\n",
      "3.6138588959249773\n",
      "cur_iter  0\n"
     ]
    },
    {
     "name": "stderr",
     "output_type": "stream",
     "text": [
      "/Users/litos/opt/anaconda3/lib/python3.7/site-packages/scipy/sparse/_index.py:127: SparseEfficiencyWarning: Changing the sparsity structure of a csr_matrix is expensive. lil_matrix is more efficient.\n",
      "  self._set_arrayXarray(i, j, x)\n"
     ]
    },
    {
     "name": "stdout",
     "output_type": "stream",
     "text": [
      "cur_iter  1\n",
      "cur_iter  2\n",
      "cur_iter  3\n",
      "cur_iter  4\n",
      "cur_iter  5\n",
      "cur_iter  6\n",
      "cur_iter  7\n",
      "cur_iter  8\n",
      "cur_iter  9\n",
      "target_item:  4495\n",
      "3.78595773985694\n",
      "cur_iter  0\n"
     ]
    },
    {
     "name": "stderr",
     "output_type": "stream",
     "text": [
      "/Users/litos/opt/anaconda3/lib/python3.7/site-packages/scipy/sparse/_index.py:127: SparseEfficiencyWarning: Changing the sparsity structure of a csr_matrix is expensive. lil_matrix is more efficient.\n",
      "  self._set_arrayXarray(i, j, x)\n"
     ]
    },
    {
     "name": "stdout",
     "output_type": "stream",
     "text": [
      "cur_iter  1\n",
      "cur_iter  2\n",
      "cur_iter  3\n",
      "cur_iter  4\n",
      "cur_iter  5\n",
      "cur_iter  6\n",
      "cur_iter  7\n",
      "cur_iter  8\n",
      "cur_iter  9\n",
      "target_item:  6210\n",
      "5.580485760507372\n",
      "cur_iter  0\n"
     ]
    },
    {
     "name": "stderr",
     "output_type": "stream",
     "text": [
      "/Users/litos/opt/anaconda3/lib/python3.7/site-packages/scipy/sparse/_index.py:127: SparseEfficiencyWarning: Changing the sparsity structure of a csr_matrix is expensive. lil_matrix is more efficient.\n",
      "  self._set_arrayXarray(i, j, x)\n"
     ]
    },
    {
     "name": "stdout",
     "output_type": "stream",
     "text": [
      "cur_iter  1\n",
      "cur_iter  2\n",
      "cur_iter  3\n",
      "cur_iter  4\n",
      "cur_iter  5\n",
      "cur_iter  6\n",
      "cur_iter  7\n",
      "cur_iter  8\n",
      "cur_iter  9\n"
     ]
    }
   ],
   "source": [
    "# Set up dataframe \n",
    "\n",
    "# post_ranki is post rank with different lambda ratio for combining pre-post User similarity matrix \n",
    "\n",
    "columns = ['user_id', 'target_item', 'item_name', 'iter', 'pre_rank', \n",
    "           'top_prediction_item_name',\n",
    "           'post_rank_random_all',\n",
    "           'post_rank_random_upper',\n",
    "           'random_scores',\n",
    "           'random_ratings',\n",
    "           'random_opti_ranking',\n",
    "           'random_opti_rating',\n",
    "           'post_rank_pop_all',\n",
    "           'post_rank_pop_upper',\n",
    "           'pop_scores',\n",
    "           'pop_ratings',\n",
    "           'pop_opti_ranking',\n",
    "           'pop_opti_rating',\n",
    "           'post_rank_diff_all',\n",
    "           'post_rank_diff_upper',\n",
    "           'diff_scores',\n",
    "           'diff_ratings',\n",
    "           'diff_opti_ranking',\n",
    "           'diff_opti_rating',\n",
    "           'critiqued_keyphrase_random',\n",
    "           'keyphrase_name_random',\n",
    "           'critiqued_keyphrase_pop',\n",
    "           'keyphrase_name_pop',\n",
    "           'critiqued_keyphrase_diff',\n",
    "           'keyphrase_name_diff',\n",
    "           'num_existing_keyphrases',\n",
    "           'pure_pruning_rank'] \n",
    "df = pd.DataFrame(columns=columns)\n",
    "row = {}\n",
    "\n",
    "#only_with_critiqued_keyphrase\n",
    "for user in range(300,350):\n",
    "    df = single_step_critiquing_plrec(user = user, \n",
    "                           keyphrase_length_threshold = 230, \n",
    "                           max_iteration_threshold = 10,\n",
    "                           k = 50,\n",
    "                           df = df,\n",
    "                           row = row,\n",
    "                           business_df = business_df,\n",
    "                           keyphrases = keyphrases,\n",
    "                           keyphrase_popularity = keyphrase_popularity,\n",
    "                           keyphrase_selection_method = 'random',\n",
    "                           recommend_type = 'all',\n",
    "                           top_k_rec=100\n",
    "                           )\n",
    "df.to_csv(single_step_with_avg_path+\"ranking_and_rating_50user_optimal_included.csv\")"
   ]
  },
  {
   "cell_type": "code",
   "execution_count": 51,
   "metadata": {},
   "outputs": [
    {
     "data": {
      "text/html": [
       "<div>\n",
       "<style scoped>\n",
       "    .dataframe tbody tr th:only-of-type {\n",
       "        vertical-align: middle;\n",
       "    }\n",
       "\n",
       "    .dataframe tbody tr th {\n",
       "        vertical-align: top;\n",
       "    }\n",
       "\n",
       "    .dataframe thead th {\n",
       "        text-align: right;\n",
       "    }\n",
       "</style>\n",
       "<table border=\"1\" class=\"dataframe\">\n",
       "  <thead>\n",
       "    <tr style=\"text-align: right;\">\n",
       "      <th></th>\n",
       "      <th>user_id</th>\n",
       "      <th>target_item</th>\n",
       "      <th>item_name</th>\n",
       "      <th>iter</th>\n",
       "      <th>pre_rank</th>\n",
       "      <th>top_prediction_item_name</th>\n",
       "      <th>post_rank_random_all</th>\n",
       "      <th>post_rank_random_upper</th>\n",
       "      <th>random_scores</th>\n",
       "      <th>random_ratings</th>\n",
       "      <th>...</th>\n",
       "      <th>diff_opti_ranking</th>\n",
       "      <th>diff_opti_rating</th>\n",
       "      <th>critiqued_keyphrase_random</th>\n",
       "      <th>keyphrase_name_random</th>\n",
       "      <th>critiqued_keyphrase_pop</th>\n",
       "      <th>keyphrase_name_pop</th>\n",
       "      <th>critiqued_keyphrase_diff</th>\n",
       "      <th>keyphrase_name_diff</th>\n",
       "      <th>num_existing_keyphrases</th>\n",
       "      <th>pure_pruning_rank</th>\n",
       "    </tr>\n",
       "  </thead>\n",
       "  <tbody>\n",
       "    <tr>\n",
       "      <td>0</td>\n",
       "      <td>300</td>\n",
       "      <td>101</td>\n",
       "      <td>b'Cabin Fever'</td>\n",
       "      <td>0</td>\n",
       "      <td>4830</td>\n",
       "      <td>b'Sansotei Ramen'</td>\n",
       "      <td>[4830, 4739, 4610, 4486, 4284, 3670, 3412, 316...</td>\n",
       "      <td>[6831, 6828, 6810, 6804, 6781, 903, 872, 841, ...</td>\n",
       "      <td>[30, 32, 30, 32, 36, 40, 42, 46, 50, 56, 54]</td>\n",
       "      <td>[0.0, 9.027975089145073, 16.591201696750893, 2...</td>\n",
       "      <td>...</td>\n",
       "      <td>2984</td>\n",
       "      <td>2805</td>\n",
       "      <td>105</td>\n",
       "      <td>latte</td>\n",
       "      <td>155</td>\n",
       "      <td>refill</td>\n",
       "      <td>53</td>\n",
       "      <td>tea</td>\n",
       "      <td>NaN</td>\n",
       "      <td>4830</td>\n",
       "    </tr>\n",
       "    <tr>\n",
       "      <td>1</td>\n",
       "      <td>300</td>\n",
       "      <td>101</td>\n",
       "      <td>b'Cabin Fever'</td>\n",
       "      <td>1</td>\n",
       "      <td>4830</td>\n",
       "      <td>b'Sansotei Ramen'</td>\n",
       "      <td>[4830, 4870, 4919, 4942, 4934, 4890, 4815, 468...</td>\n",
       "      <td>[7062, 7062, 7064, 7074, 7079, 7070, 7047, 702...</td>\n",
       "      <td>[-26, -20, -16, -14, -10, -8, 4, 4, 6, 12, 20]</td>\n",
       "      <td>[0.0, 9.371879606434273, 17.51011956256211, 20...</td>\n",
       "      <td>...</td>\n",
       "      <td>3001</td>\n",
       "      <td>3001</td>\n",
       "      <td>155</td>\n",
       "      <td>refill</td>\n",
       "      <td>105</td>\n",
       "      <td>latte</td>\n",
       "      <td>153</td>\n",
       "      <td>friendly</td>\n",
       "      <td>NaN</td>\n",
       "      <td>4830</td>\n",
       "    </tr>\n",
       "    <tr>\n",
       "      <td>2</td>\n",
       "      <td>300</td>\n",
       "      <td>101</td>\n",
       "      <td>b'Cabin Fever'</td>\n",
       "      <td>2</td>\n",
       "      <td>4830</td>\n",
       "      <td>b'Sansotei Ramen'</td>\n",
       "      <td>[4830, 4720, 4589, 4394, 3757, 3473, 3180, 286...</td>\n",
       "      <td>[6685, 6671, 6655, 6630, 1151, 1109, 1060, 100...</td>\n",
       "      <td>[38, 38, 36, 34, 32, 36, 42, 48, 54, 56, 56]</td>\n",
       "      <td>[0.0, 10.242908497664047, 19.00187129953043, 2...</td>\n",
       "      <td>...</td>\n",
       "      <td>2735</td>\n",
       "      <td>2576</td>\n",
       "      <td>37</td>\n",
       "      <td>bread</td>\n",
       "      <td>37</td>\n",
       "      <td>bread</td>\n",
       "      <td>105</td>\n",
       "      <td>latte</td>\n",
       "      <td>NaN</td>\n",
       "      <td>4830</td>\n",
       "    </tr>\n",
       "    <tr>\n",
       "      <td>3</td>\n",
       "      <td>300</td>\n",
       "      <td>886</td>\n",
       "      <td>b'Wok &amp; Roast Chinese BBQ'</td>\n",
       "      <td>0</td>\n",
       "      <td>3515</td>\n",
       "      <td>b'Sansotei Ramen'</td>\n",
       "      <td>[3515, 4861, 5639, 6199, 6511, 6652, 6711, 671...</td>\n",
       "      <td>[492, 7087, 7148, 7213, 7246, 7269, 7269, 7266...</td>\n",
       "      <td>[-24, -26, -26, -20, -14, -8, -12, -10, -4, -6...</td>\n",
       "      <td>[0.0, 12.012296591615225, 20.873883584041486, ...</td>\n",
       "      <td>...</td>\n",
       "      <td>3973</td>\n",
       "      <td>3871</td>\n",
       "      <td>81</td>\n",
       "      <td>juice</td>\n",
       "      <td>223</td>\n",
       "      <td>general tao</td>\n",
       "      <td>27</td>\n",
       "      <td>bbq</td>\n",
       "      <td>NaN</td>\n",
       "      <td>2442</td>\n",
       "    </tr>\n",
       "    <tr>\n",
       "      <td>4</td>\n",
       "      <td>300</td>\n",
       "      <td>886</td>\n",
       "      <td>b'Wok &amp; Roast Chinese BBQ'</td>\n",
       "      <td>1</td>\n",
       "      <td>3515</td>\n",
       "      <td>b'Sansotei Ramen'</td>\n",
       "      <td>[3515, 2877, 2365, 2086, 1917, 1813, 1747, 171...</td>\n",
       "      <td>[26, 29, 31, 30, 30, 31, 32, 33, 33, 33, 32]</td>\n",
       "      <td>[-98, -98, -96, -94, -92, -92, -94, -94, -94, ...</td>\n",
       "      <td>[0.0, 10.10873862920019, 20.171239853516084, 3...</td>\n",
       "      <td>...</td>\n",
       "      <td>2652</td>\n",
       "      <td>1840</td>\n",
       "      <td>223</td>\n",
       "      <td>general tao</td>\n",
       "      <td>73</td>\n",
       "      <td>congee</td>\n",
       "      <td>0</td>\n",
       "      <td>chinese</td>\n",
       "      <td>NaN</td>\n",
       "      <td>2442</td>\n",
       "    </tr>\n",
       "    <tr>\n",
       "      <td>...</td>\n",
       "      <td>...</td>\n",
       "      <td>...</td>\n",
       "      <td>...</td>\n",
       "      <td>...</td>\n",
       "      <td>...</td>\n",
       "      <td>...</td>\n",
       "      <td>...</td>\n",
       "      <td>...</td>\n",
       "      <td>...</td>\n",
       "      <td>...</td>\n",
       "      <td>...</td>\n",
       "      <td>...</td>\n",
       "      <td>...</td>\n",
       "      <td>...</td>\n",
       "      <td>...</td>\n",
       "      <td>...</td>\n",
       "      <td>...</td>\n",
       "      <td>...</td>\n",
       "      <td>...</td>\n",
       "      <td>...</td>\n",
       "      <td>...</td>\n",
       "    </tr>\n",
       "    <tr>\n",
       "      <td>3508</td>\n",
       "      <td>349</td>\n",
       "      <td>6210</td>\n",
       "      <td>b\"Osmow's\"</td>\n",
       "      <td>5</td>\n",
       "      <td>5581</td>\n",
       "      <td>b'Jim Chai Kee'</td>\n",
       "      <td>[5581, 6143, 6525, 6717, 6774, 6777, 6775, 675...</td>\n",
       "      <td>[7126, 7186, 7247, 7264, 7264, 7263, 7262, 725...</td>\n",
       "      <td>[-4, -4, 8, 4, 16, 24, 22, 26, 26, 24, 18]</td>\n",
       "      <td>[0.0, 8.34193428173412, 13.332088703619092, 13...</td>\n",
       "      <td>...</td>\n",
       "      <td>4087</td>\n",
       "      <td>2891</td>\n",
       "      <td>203</td>\n",
       "      <td>greasy</td>\n",
       "      <td>164</td>\n",
       "      <td>quiet</td>\n",
       "      <td>178</td>\n",
       "      <td>honestly</td>\n",
       "      <td>NaN</td>\n",
       "      <td>5581</td>\n",
       "    </tr>\n",
       "    <tr>\n",
       "      <td>3509</td>\n",
       "      <td>349</td>\n",
       "      <td>6210</td>\n",
       "      <td>b\"Osmow's\"</td>\n",
       "      <td>6</td>\n",
       "      <td>5581</td>\n",
       "      <td>b'Jim Chai Kee'</td>\n",
       "      <td>[5581, 5427, 5195, 4858, 4302, 3311, 2797, 236...</td>\n",
       "      <td>[6615, 6577, 6525, 6449, 6303, 1291, 1186, 107...</td>\n",
       "      <td>[60, 60, 58, 62, 70, 76, 74, 80, 78, 84, 82]</td>\n",
       "      <td>[0.0, 6.186683190663671, 11.577878061303528, 1...</td>\n",
       "      <td>...</td>\n",
       "      <td>1450</td>\n",
       "      <td>5581</td>\n",
       "      <td>117</td>\n",
       "      <td>rib</td>\n",
       "      <td>173</td>\n",
       "      <td>dark</td>\n",
       "      <td>76</td>\n",
       "      <td>lettuce</td>\n",
       "      <td>NaN</td>\n",
       "      <td>5581</td>\n",
       "    </tr>\n",
       "    <tr>\n",
       "      <td>3510</td>\n",
       "      <td>349</td>\n",
       "      <td>6210</td>\n",
       "      <td>b\"Osmow's\"</td>\n",
       "      <td>7</td>\n",
       "      <td>5581</td>\n",
       "      <td>b'Jim Chai Kee'</td>\n",
       "      <td>[5581, 5381, 5097, 4694, 4119, 3198, 2738, 239...</td>\n",
       "      <td>[7167, 7158, 7136, 7116, 7089, 423, 399, 370, ...</td>\n",
       "      <td>[-50, -46, -40, -42, -30, -24, -16, -14, -16, ...</td>\n",
       "      <td>[0.0, 6.477634326082224, 11.267076368863448, 1...</td>\n",
       "      <td>...</td>\n",
       "      <td>6688</td>\n",
       "      <td>6688</td>\n",
       "      <td>40</td>\n",
       "      <td>pizza</td>\n",
       "      <td>178</td>\n",
       "      <td>honestly</td>\n",
       "      <td>114</td>\n",
       "      <td>tomato</td>\n",
       "      <td>NaN</td>\n",
       "      <td>5581</td>\n",
       "    </tr>\n",
       "    <tr>\n",
       "      <td>3511</td>\n",
       "      <td>349</td>\n",
       "      <td>6210</td>\n",
       "      <td>b\"Osmow's\"</td>\n",
       "      <td>8</td>\n",
       "      <td>5581</td>\n",
       "      <td>b'Jim Chai Kee'</td>\n",
       "      <td>[5581, 5103, 4404, 3061, 2375, 1949, 1647, 144...</td>\n",
       "      <td>[7009, 6958, 6897, 676, 599, 524, 463, 426, 39...</td>\n",
       "      <td>[0, 2, 6, 6, 8, 12, 18, 12, 12, 12, 10]</td>\n",
       "      <td>[0.0, 5.840329602906028, 9.273004940589976, 10...</td>\n",
       "      <td>...</td>\n",
       "      <td>6146</td>\n",
       "      <td>5887</td>\n",
       "      <td>91</td>\n",
       "      <td>wrap</td>\n",
       "      <td>91</td>\n",
       "      <td>wrap</td>\n",
       "      <td>161</td>\n",
       "      <td>cheaper</td>\n",
       "      <td>NaN</td>\n",
       "      <td>5581</td>\n",
       "    </tr>\n",
       "    <tr>\n",
       "      <td>3512</td>\n",
       "      <td>349</td>\n",
       "      <td>6210</td>\n",
       "      <td>b\"Osmow's\"</td>\n",
       "      <td>9</td>\n",
       "      <td>5581</td>\n",
       "      <td>b'Jim Chai Kee'</td>\n",
       "      <td>[5581, 5397, 5126, 4751, 4308, 3894, 3174, 289...</td>\n",
       "      <td>[7220, 7219, 7204, 7181, 7158, 7146, 349, 331,...</td>\n",
       "      <td>[-42, -28, -18, -4, -2, 0, 4, 8, 8, 8, 10]</td>\n",
       "      <td>[0.0, 4.881507641454596, 6.450492496261553, 5....</td>\n",
       "      <td>...</td>\n",
       "      <td>5928</td>\n",
       "      <td>5928</td>\n",
       "      <td>193</td>\n",
       "      <td>mayo</td>\n",
       "      <td>208</td>\n",
       "      <td>topped</td>\n",
       "      <td>7</td>\n",
       "      <td>dinner</td>\n",
       "      <td>NaN</td>\n",
       "      <td>5581</td>\n",
       "    </tr>\n",
       "  </tbody>\n",
       "</table>\n",
       "<p>3513 rows × 32 columns</p>\n",
       "</div>"
      ],
      "text/plain": [
       "     user_id target_item                   item_name iter pre_rank  \\\n",
       "0        300         101              b'Cabin Fever'    0     4830   \n",
       "1        300         101              b'Cabin Fever'    1     4830   \n",
       "2        300         101              b'Cabin Fever'    2     4830   \n",
       "3        300         886  b'Wok & Roast Chinese BBQ'    0     3515   \n",
       "4        300         886  b'Wok & Roast Chinese BBQ'    1     3515   \n",
       "...      ...         ...                         ...  ...      ...   \n",
       "3508     349        6210                  b\"Osmow's\"    5     5581   \n",
       "3509     349        6210                  b\"Osmow's\"    6     5581   \n",
       "3510     349        6210                  b\"Osmow's\"    7     5581   \n",
       "3511     349        6210                  b\"Osmow's\"    8     5581   \n",
       "3512     349        6210                  b\"Osmow's\"    9     5581   \n",
       "\n",
       "     top_prediction_item_name  \\\n",
       "0           b'Sansotei Ramen'   \n",
       "1           b'Sansotei Ramen'   \n",
       "2           b'Sansotei Ramen'   \n",
       "3           b'Sansotei Ramen'   \n",
       "4           b'Sansotei Ramen'   \n",
       "...                       ...   \n",
       "3508          b'Jim Chai Kee'   \n",
       "3509          b'Jim Chai Kee'   \n",
       "3510          b'Jim Chai Kee'   \n",
       "3511          b'Jim Chai Kee'   \n",
       "3512          b'Jim Chai Kee'   \n",
       "\n",
       "                                   post_rank_random_all  \\\n",
       "0     [4830, 4739, 4610, 4486, 4284, 3670, 3412, 316...   \n",
       "1     [4830, 4870, 4919, 4942, 4934, 4890, 4815, 468...   \n",
       "2     [4830, 4720, 4589, 4394, 3757, 3473, 3180, 286...   \n",
       "3     [3515, 4861, 5639, 6199, 6511, 6652, 6711, 671...   \n",
       "4     [3515, 2877, 2365, 2086, 1917, 1813, 1747, 171...   \n",
       "...                                                 ...   \n",
       "3508  [5581, 6143, 6525, 6717, 6774, 6777, 6775, 675...   \n",
       "3509  [5581, 5427, 5195, 4858, 4302, 3311, 2797, 236...   \n",
       "3510  [5581, 5381, 5097, 4694, 4119, 3198, 2738, 239...   \n",
       "3511  [5581, 5103, 4404, 3061, 2375, 1949, 1647, 144...   \n",
       "3512  [5581, 5397, 5126, 4751, 4308, 3894, 3174, 289...   \n",
       "\n",
       "                                 post_rank_random_upper  \\\n",
       "0     [6831, 6828, 6810, 6804, 6781, 903, 872, 841, ...   \n",
       "1     [7062, 7062, 7064, 7074, 7079, 7070, 7047, 702...   \n",
       "2     [6685, 6671, 6655, 6630, 1151, 1109, 1060, 100...   \n",
       "3     [492, 7087, 7148, 7213, 7246, 7269, 7269, 7266...   \n",
       "4          [26, 29, 31, 30, 30, 31, 32, 33, 33, 33, 32]   \n",
       "...                                                 ...   \n",
       "3508  [7126, 7186, 7247, 7264, 7264, 7263, 7262, 725...   \n",
       "3509  [6615, 6577, 6525, 6449, 6303, 1291, 1186, 107...   \n",
       "3510  [7167, 7158, 7136, 7116, 7089, 423, 399, 370, ...   \n",
       "3511  [7009, 6958, 6897, 676, 599, 524, 463, 426, 39...   \n",
       "3512  [7220, 7219, 7204, 7181, 7158, 7146, 349, 331,...   \n",
       "\n",
       "                                          random_scores  \\\n",
       "0          [30, 32, 30, 32, 36, 40, 42, 46, 50, 56, 54]   \n",
       "1        [-26, -20, -16, -14, -10, -8, 4, 4, 6, 12, 20]   \n",
       "2          [38, 38, 36, 34, 32, 36, 42, 48, 54, 56, 56]   \n",
       "3     [-24, -26, -26, -20, -14, -8, -12, -10, -4, -6...   \n",
       "4     [-98, -98, -96, -94, -92, -92, -94, -94, -94, ...   \n",
       "...                                                 ...   \n",
       "3508         [-4, -4, 8, 4, 16, 24, 22, 26, 26, 24, 18]   \n",
       "3509       [60, 60, 58, 62, 70, 76, 74, 80, 78, 84, 82]   \n",
       "3510  [-50, -46, -40, -42, -30, -24, -16, -14, -16, ...   \n",
       "3511            [0, 2, 6, 6, 8, 12, 18, 12, 12, 12, 10]   \n",
       "3512         [-42, -28, -18, -4, -2, 0, 4, 8, 8, 8, 10]   \n",
       "\n",
       "                                         random_ratings  ...  \\\n",
       "0     [0.0, 9.027975089145073, 16.591201696750893, 2...  ...   \n",
       "1     [0.0, 9.371879606434273, 17.51011956256211, 20...  ...   \n",
       "2     [0.0, 10.242908497664047, 19.00187129953043, 2...  ...   \n",
       "3     [0.0, 12.012296591615225, 20.873883584041486, ...  ...   \n",
       "4     [0.0, 10.10873862920019, 20.171239853516084, 3...  ...   \n",
       "...                                                 ...  ...   \n",
       "3508  [0.0, 8.34193428173412, 13.332088703619092, 13...  ...   \n",
       "3509  [0.0, 6.186683190663671, 11.577878061303528, 1...  ...   \n",
       "3510  [0.0, 6.477634326082224, 11.267076368863448, 1...  ...   \n",
       "3511  [0.0, 5.840329602906028, 9.273004940589976, 10...  ...   \n",
       "3512  [0.0, 4.881507641454596, 6.450492496261553, 5....  ...   \n",
       "\n",
       "     diff_opti_ranking diff_opti_rating critiqued_keyphrase_random  \\\n",
       "0                 2984             2805                        105   \n",
       "1                 3001             3001                        155   \n",
       "2                 2735             2576                         37   \n",
       "3                 3973             3871                         81   \n",
       "4                 2652             1840                        223   \n",
       "...                ...              ...                        ...   \n",
       "3508              4087             2891                        203   \n",
       "3509              1450             5581                        117   \n",
       "3510              6688             6688                         40   \n",
       "3511              6146             5887                         91   \n",
       "3512              5928             5928                        193   \n",
       "\n",
       "     keyphrase_name_random critiqued_keyphrase_pop keyphrase_name_pop  \\\n",
       "0                    latte                     155             refill   \n",
       "1                   refill                     105              latte   \n",
       "2                    bread                      37              bread   \n",
       "3                    juice                     223        general tao   \n",
       "4              general tao                      73             congee   \n",
       "...                    ...                     ...                ...   \n",
       "3508                greasy                     164              quiet   \n",
       "3509                   rib                     173               dark   \n",
       "3510                 pizza                     178           honestly   \n",
       "3511                  wrap                      91               wrap   \n",
       "3512                  mayo                     208             topped   \n",
       "\n",
       "     critiqued_keyphrase_diff keyphrase_name_diff num_existing_keyphrases  \\\n",
       "0                          53                 tea                     NaN   \n",
       "1                         153            friendly                     NaN   \n",
       "2                         105               latte                     NaN   \n",
       "3                          27                 bbq                     NaN   \n",
       "4                           0             chinese                     NaN   \n",
       "...                       ...                 ...                     ...   \n",
       "3508                      178            honestly                     NaN   \n",
       "3509                       76             lettuce                     NaN   \n",
       "3510                      114              tomato                     NaN   \n",
       "3511                      161             cheaper                     NaN   \n",
       "3512                        7              dinner                     NaN   \n",
       "\n",
       "     pure_pruning_rank  \n",
       "0                 4830  \n",
       "1                 4830  \n",
       "2                 4830  \n",
       "3                 2442  \n",
       "4                 2442  \n",
       "...                ...  \n",
       "3508              5581  \n",
       "3509              5581  \n",
       "3510              5581  \n",
       "3511              5581  \n",
       "3512              5581  \n",
       "\n",
       "[3513 rows x 32 columns]"
      ]
     },
     "execution_count": 51,
     "metadata": {},
     "output_type": "execute_result"
    }
   ],
   "source": [
    "df"
   ]
  },
  {
   "cell_type": "code",
   "execution_count": 27,
   "metadata": {
    "scrolled": true
   },
   "outputs": [
    {
     "data": {
      "text/plain": [
       "[4830, 4739, 4610, 4486, 4284, 3670, 3412, 3168, 2935, 2735, 2576]"
      ]
     },
     "execution_count": 27,
     "metadata": {},
     "output_type": "execute_result"
    }
   ],
   "source": [
    "df['post_rank_random_all'][0]"
   ]
  },
  {
   "cell_type": "markdown",
   "metadata": {},
   "source": [
    "# Forward"
   ]
  },
  {
   "cell_type": "code",
   "execution_count": 29,
   "metadata": {},
   "outputs": [
    {
     "name": "stderr",
     "output_type": "stream",
     "text": [
      "100%|██████████| 2343/2343 [00:01<00:00, 1393.91it/s]\n",
      "100%|██████████| 2343/2343 [00:00<00:00, 2992.28it/s]\n",
      "100%|██████████| 2343/2343 [00:00<00:00, 5021.59it/s]\n",
      "100%|██████████| 2343/2343 [00:00<00:00, 5005.95it/s]\n",
      "100%|██████████| 2343/2343 [00:00<00:00, 5092.48it/s]\n",
      "100%|██████████| 2343/2343 [00:00<00:00, 4942.57it/s]\n",
      "100%|██████████| 2343/2343 [00:00<00:00, 4744.95it/s]\n",
      "100%|██████████| 2343/2343 [00:00<00:00, 4548.68it/s]\n"
     ]
    }
   ],
   "source": [
    "# KNN Forward \n",
    "similarity = normalize(train(rtrain))\n",
    "user_item_prediction_score = predict(rtrain, 100, similarity, item_similarity_en= False)\n",
    "user_item_predict = prediction(user_item_prediction_score, 50, rtrain)\n",
    "user_item_res = evaluate(user_item_predict, rtest)"
   ]
  },
  {
   "cell_type": "code",
   "execution_count": 30,
   "metadata": {},
   "outputs": [
    {
     "data": {
      "text/plain": [
       "{'MAP@5': (0.06940666362391602, 0.0060646277121995185),\n",
       " 'Recall@5': (0.026408137823500974, 0.002191309117794643),\n",
       " 'Precision@5': (0.06462802373345505, 0.004754606217931856),\n",
       " 'MAP@10': (0.06333952750429245, 0.00455145183026277),\n",
       " 'Recall@10': (0.04269615369598775, 0.0027831077562657665),\n",
       " 'Precision@10': (0.05330899132816066, 0.0032544740534870857),\n",
       " 'MAP@15': (0.05872249612550844, 0.0038121823597348156),\n",
       " 'Recall@15': (0.05562887733868642, 0.0031389991916236284),\n",
       " 'Precision@15': (0.04698006998326487, 0.0025622684368576416),\n",
       " 'MAP@20': (0.055196280875748356, 0.003345258771111864),\n",
       " 'Recall@20': (0.0677664821917642, 0.003424484045821138),\n",
       " 'Precision@20': (0.043336376083979916, 0.002222006808632301),\n",
       " 'MAP@50': (0.04436838784245958, 0.0022020570312340938),\n",
       " 'Recall@50': (0.12696642809611336, 0.0048241883971306436),\n",
       " 'Precision@50': (0.032889091738931994, 0.0014317314500480152),\n",
       " 'R-Precision': (0.048464138894968055, 0.0027869069242192506),\n",
       " 'NDCG': (0.09071795198195, 0.003803970590016347)}"
      ]
     },
     "execution_count": 30,
     "metadata": {},
     "output_type": "execute_result"
    }
   ],
   "source": [
    "# Evaluation result with k = 100\n",
    "user_item_res"
   ]
  },
  {
   "cell_type": "code",
   "execution_count": null,
   "metadata": {
    "collapsed": true
   },
   "outputs": [],
   "source": [
    "# PLREC Forward\n"
   ]
  },
  {
   "cell_type": "code",
   "execution_count": null,
   "metadata": {
    "collapsed": true
   },
   "outputs": [],
   "source": [
    "# PLREC \n"
   ]
  },
  {
   "cell_type": "code",
   "execution_count": null,
   "metadata": {
    "collapsed": true
   },
   "outputs": [],
   "source": [
    "# Learn User-Keyphrase matrix to Latent Embedding\n",
    "# Training \n",
    "X = normalize(U_K.todense())\n",
    "y = normalize(train(rtrain))\n",
    "clf = Ridge(alpha=0.1).fit(X, y) # Optimality at L2 regularization = 0.1\n",
    "lr_similarity = clf.predict(np.array(X))"
   ]
  },
  {
   "cell_type": "markdown",
   "metadata": {},
   "source": [
    "# Experiment"
   ]
  },
  {
   "cell_type": "code",
   "execution_count": 32,
   "metadata": {
    "collapsed": true
   },
   "outputs": [],
   "source": [
    "# keyphrase_popularity = get_keyphrase_popularity(df_train,keyphrases)\n",
    "\n",
    "# Save and load\n",
    "# np.savetxt('../data/yelp/'+'keyphrase_popularity.txt', keyphrase_popularity, fmt='%d')\n",
    "keyphrase_popularity = np.loadtxt('../data/yelp/'+'keyphrase_popularity.txt', dtype=int)"
   ]
  },
  {
   "cell_type": "code",
   "execution_count": null,
   "metadata": {
    "collapsed": true
   },
   "outputs": [],
   "source": []
  },
  {
   "cell_type": "markdown",
   "metadata": {},
   "source": [
    "# Testing Gurobi"
   ]
  },
  {
   "cell_type": "code",
   "execution_count": null,
   "metadata": {
    "collapsed": true
   },
   "outputs": [],
   "source": [
    "# critiqued_matrix_onehot = get_critiqued_UK(U_K,user,critiqued_keyphrase_random)\n",
    "critiqued_matrix_onehot = get_critiqued_UK(U_K,0,0)\n",
    "critiqued_matrix = reg.predict(critiqued_matrix_onehot)\n",
    "critiqued_matrix_random =critiqued_matrix\n",
    "\n",
    "U_V_critique = critiqued_matrix_random\n",
    "U_V_initial = Y\n",
    "latent_diff = U_V_critique - U_V_initial\n",
    "\n",
    "rating_diff = predict_scores(matrix_U=lamb * latent_diff[user], \n",
    "                     matrix_V=RQ)\n",
    "rating_diff_sum_unaffected = np.sum(abs(rating_diff), where = np.in1d(range(num_items),unaffected_items))\n",
    "rating_diff_sum_affected = np.sum(rating_diff, where = np.in1d(range(num_items),affected_items))\n",
    "obj = w1*abs(rating_diff_sum_unaffected) + w2*rating_diff_sum_affected "
   ]
  },
  {
   "cell_type": "code",
   "execution_count": 68,
   "metadata": {
    "scrolled": true
   },
   "outputs": [
    {
     "name": "stderr",
     "output_type": "stream",
     "text": [
      "/Users/litos/opt/anaconda3/envs/tensorflow_cpu/lib/python3.6/site-packages/scipy/sparse/_index.py:126: SparseEfficiencyWarning: Changing the sparsity structure of a csr_matrix is expensive. lil_matrix is more efficient.\n",
      "  self._set_arrayXarray(i, j, x)\n"
     ]
    }
   ],
   "source": [
    "user = 0\n",
    "critiqued_keyphrase_random = 0\n",
    "critiqued_matrix_onehot = get_critiqued_UK(U_K,user,critiqued_keyphrase_random)\n",
    "critiqued_matrix = reg.predict(critiqued_matrix_onehot)\n",
    "critiqued_matrix_random =critiqued_matrix\n",
    "modified_matrix_random = critiqued_matrix_random + Y\n",
    "matrix_Train = rtrain\n",
    "prediction_scores_u = predict_scores(matrix_U=modified_matrix_random[user], \n",
    "                                     matrix_V=RQ,\n",
    "                                     )\n",
    "prediction_items = predict_vector(rating_vector=prediction_scores_u,\n",
    "                                  train_vector=matrix_Train[user],\n",
    "                                  remove_train=True)"
   ]
  },
  {
   "cell_type": "code",
   "execution_count": 70,
   "metadata": {
    "collapsed": true,
    "scrolled": true
   },
   "outputs": [],
   "source": [
    "num_items = rtrain.shape[1]\n",
    "affected_items = I_K[:, critiqued_keyphrase_random].nonzero()[0]\n",
    "unaffected_items = np.setdiff1d(range(num_items), affected_items)"
   ]
  },
  {
   "cell_type": "code",
   "execution_count": 77,
   "metadata": {
    "scrolled": true
   },
   "outputs": [
    {
     "data": {
      "text/plain": [
       "5"
      ]
     },
     "execution_count": 77,
     "metadata": {},
     "output_type": "execute_result"
    }
   ],
   "source": [
    "prediction_score = predict_scores(matrix_U=RQ,\n",
    "                                      matrix_V=Y,\n",
    "                                      bias=Bias).T[user]\n",
    "# Get initial top recommended item(s)\n",
    "initial_top_recommendations = np.argsort(prediction_score)[::-1]\n",
    "\n",
    "sum(np.in1d(initial_top_recommendations[:10], affected_items))"
   ]
  },
  {
   "cell_type": "code",
   "execution_count": 78,
   "metadata": {},
   "outputs": [
    {
     "data": {
      "text/plain": [
       "7"
      ]
     },
     "execution_count": 78,
     "metadata": {},
     "output_type": "execute_result"
    }
   ],
   "source": [
    "sum(np.in1d(prediction_items[:10], affected_items))"
   ]
  },
  {
   "cell_type": "code",
   "execution_count": 80,
   "metadata": {},
   "outputs": [
    {
     "name": "stdout",
     "output_type": "stream",
     "text": [
      "5\n",
      "3\n"
     ]
    }
   ],
   "source": [
    "print (sum(np.in1d(initial_top_recommendations[:10], unaffected_items)))\n",
    "print (sum(np.in1d(prediction_items[:10], unaffected_items)))"
   ]
  },
  {
   "cell_type": "markdown",
   "metadata": {},
   "source": [
    "# LP Model"
   ]
  },
  {
   "cell_type": "markdown",
   "metadata": {},
   "source": [
    "## Ranking Model"
   ]
  },
  {
   "cell_type": "code",
   "execution_count": null,
   "metadata": {
    "collapsed": true
   },
   "outputs": [],
   "source": [
    "# \n",
    "quicksum(\n",
    "    initial_prediction_u[affected_item] * num_unaffected_items + \n",
    "    quicksum(lambs[k] * critiqued_vector[query[k]] * W[affected_item][query[k]] * num_unaffected_items \n",
    "                 for k in range(num_critiques)) for affected_item in affected_items) - \n",
    "    quicksum(initial_prediction_u[unaffected_item] * num_affected_items + \n",
    "             quicksum(lambs[k] * critiqued_vector[query[k]] * W[unaffected_item][query[k]] * num_affected_items \n",
    "                for k in range(num_critiques)) for unaffected_item in unaffected_items)\n",
    "# maximize rank: \n",
    "rank = sum(np.in1d(prediction_items[:10], affected_items))\n"
   ]
  },
  {
   "cell_type": "code",
   "execution_count": 99,
   "metadata": {
    "collapsed": true
   },
   "outputs": [],
   "source": [
    "prediction_scores_u = modified_matrix_random[user].dot(RQ.T)"
   ]
  },
  {
   "cell_type": "code",
   "execution_count": 103,
   "metadata": {},
   "outputs": [
    {
     "data": {
      "text/plain": [
       "array([6222, 5410, 2804, ..., 3713, 4582, 7163])"
      ]
     },
     "execution_count": 103,
     "metadata": {},
     "output_type": "execute_result"
    }
   ],
   "source": [
    "np.argsort(prediction_scores_u)[::-1]"
   ]
  },
  {
   "cell_type": "code",
   "execution_count": 166,
   "metadata": {
    "collapsed": true
   },
   "outputs": [],
   "source": [
    "k = 10 # top k precision\n",
    "user = 0\n",
    "\n",
    "# modified_matrix_random = lamb*critiqued_matrix_random + (1-lamb)*Y\n",
    "# prediction_scores_u = predict_scores(matrix_U=modified_matrix_random[user], \n",
    "#                                      matrix_V=RQ,\n",
    "#                                      )\n",
    "# prediction_scores_u = modified_matrix_random[user].dot(RQ.T)\n",
    "# prediction_items = predict_vector(rating_vector=prediction_scores_u,\n",
    "#                                   train_vector=matrix_Train[user],\n",
    "#                                   remove_train=True)\n",
    "# dim = len(rating_vector)\n",
    "# candidate_index = np.argpartition(-rating_vector, dim-1)[:dim]\n",
    "# prediction_items = candidate_index[rating_vector[candidate_index].argsort()[::-1]]\n",
    "\n",
    "# prediction_items = np.argsort(prediction_scores_u)[::-1][::k]\n",
    "\n",
    "# prediction_items = np.argsort((lamb*critiqued_matrix_random + (1-lamb)*Y)[user].dot(RQ.T))[::-1][:k]\n",
    "# np.in1d(prediction_items,affected_items)\n",
    "# Model\n",
    "m = Model(\"Ranking\")\n",
    "# Assign Variable \n",
    "lamb = m.addVar(lb = 0, \n",
    "                ub = 1,\n",
    "                vtype = GRB.CONTINUOUS,\n",
    "                name = \"lamb\"\n",
    "               )\n",
    "# quicksum(np.in1d(np.argsort(prediction_items)[:10],affected_items))\n",
    "# Set Objective\n",
    "m.setObjective(\n",
    "    quicksum(\n",
    "             (np.array([lamb*critiqued_matrix_random[0][i] for i in range(len(Y[0]))]) + \n",
    "             np.array([(1-lamb)*Y[0][i] for i in range(len(Y[0]))])).dot(RQ.T)\n",
    "            \n",
    "            )\n",
    ", GRB.MINIMIZE)"
   ]
  },
  {
   "cell_type": "code",
   "execution_count": 156,
   "metadata": {
    "collapsed": true
   },
   "outputs": [],
   "source": [
    "lamb = 0.1\n",
    "modified_matrix = np.array([lamb*critiqued_matrix_random[0][i] for i in range(len(Y[0]))]) + np.array([(1-lamb)*Y[0][i] for i in range(len(Y[0]))])"
   ]
  },
  {
   "cell_type": "code",
   "execution_count": 161,
   "metadata": {
    "collapsed": true
   },
   "outputs": [],
   "source": [
    "prediction_score = modified_matrix.dot(RQ.T)"
   ]
  },
  {
   "cell_type": "code",
   "execution_count": 164,
   "metadata": {},
   "outputs": [
    {
     "data": {
      "text/plain": [
       "array([6222, 5410, 6454, 2804, 5081, 4358, 6299, 6940,  585, 6099])"
      ]
     },
     "execution_count": 164,
     "metadata": {},
     "output_type": "execute_result"
    }
   ],
   "source": [
    "np.argsort(prediction_score)[::-1][:10]"
   ]
  },
  {
   "cell_type": "code",
   "execution_count": 132,
   "metadata": {},
   "outputs": [
    {
     "data": {
      "text/plain": [
       "array([6222, 5410, 6454, 2804, 5081, 4358, 6299, 6940,  585, 6099])"
      ]
     },
     "execution_count": 132,
     "metadata": {},
     "output_type": "execute_result"
    }
   ],
   "source": [
    "np.argsort(modified_matrix.dot(RQ.T))[::-1][:10]"
   ]
  },
  {
   "cell_type": "code",
   "execution_count": null,
   "metadata": {
    "collapsed": true
   },
   "outputs": [],
   "source": [
    "m.optimize()\n",
    "for v in m.getVars():\n",
    "    print('%s %g' % (v.varName, v.x))\n",
    "print('Obj: %g' % m.objVal)"
   ]
  },
  {
   "cell_type": "code",
   "execution_count": 89,
   "metadata": {},
   "outputs": [
    {
     "name": "stdout",
     "output_type": "stream",
     "text": [
      "Gurobi Optimizer version 9.0.1 build v9.0.1rc0 (mac64)\n",
      "Optimize a model with 2 rows, 3 columns and 5 nonzeros\n",
      "Model fingerprint: 0x30cdba21\n",
      "Coefficient statistics:\n",
      "  Matrix range     [1e+00, 3e+00]\n",
      "  Objective range  [1e+00, 3e+00]\n",
      "  Bounds range     [1e+00, 1e+00]\n",
      "  RHS range        [1e+00, 4e+00]\n",
      "Presolve removed 2 rows and 3 columns\n",
      "Presolve time: 0.00s\n",
      "Presolve: All rows and columns removed\n",
      "Iteration    Objective       Primal Inf.    Dual Inf.      Time\n",
      "       0    6.5000000e+00   0.000000e+00   0.000000e+00      0s\n",
      "\n",
      "Solved in 0 iterations and 0.01 seconds\n",
      "Optimal objective  6.500000000e+00\n",
      "[<gurobi.Var x (value -1.0)>, <gurobi.Var y (value 2.5)>, <gurobi.Var z (value 0.0)>]\n",
      "Obj: 6.5\n"
     ]
    }
   ],
   "source": [
    "# This example formulates and solves the following simple MIP model:\n",
    "#  maximize\n",
    "#        x + y + 2 z\n",
    "#  subject to\n",
    "#        x + 2 y + 3 z <= 4\n",
    "#        x +   y       >= 1\n",
    "#        x, y, z binary\n",
    "\n",
    "import gurobipy as gp\n",
    "from gurobipy import GRB\n",
    "\n",
    "# Create a new model\n",
    "m = gp.Model(\"mip1\")\n",
    "\n",
    "# Create variables\n",
    "x = m.addVar(lb = -1,\n",
    "             ub = 1,\n",
    "             vtype=GRB.CONTINUOUS, \n",
    "             name=\"x\")\n",
    "y = m.addVar(vtype=GRB.CONTINUOUS, name=\"y\")\n",
    "z = m.addVar(vtype=GRB.CONTINUOUS, name=\"z\")\n",
    "\n",
    "# Set objective\n",
    "m.setObjective(x + y*3 + 2 * z, GRB.MAXIMIZE)\n",
    "\n",
    "# Add constraint: x + 2 y + 3 z <= 4\n",
    "m.addConstr(x + 2 * y + 3 * z <= 4, \"c0\")\n",
    "\n",
    "# Add constraint: x + y >= 1\n",
    "m.addConstr(x + y >= 1, \"c1\")\n",
    "\n",
    "# Optimize model\n",
    "m.optimize()\n",
    "\n",
    "# for v in m.getVars():\n",
    "#     print('%s %g' % (v.varName, v.x))\n",
    "print (m.getVars())\n",
    "print('Obj: %g' % m.objVal)"
   ]
  },
  {
   "cell_type": "code",
   "execution_count": null,
   "metadata": {
    "collapsed": true
   },
   "outputs": [],
   "source": []
  },
  {
   "cell_type": "code",
   "execution_count": 47,
   "metadata": {
    "collapsed": true
   },
   "outputs": [],
   "source": [
    "expr = quicksum([2*x, 3*y+1, 4*z*z])\n",
    "# expr = quicksum(model.getVars())"
   ]
  },
  {
   "cell_type": "code",
   "execution_count": 48,
   "metadata": {},
   "outputs": [
    {
     "data": {
      "text/plain": [
       "<gurobi.QuadExpr: 1.0 + 2.0 x + 3.0 y + [ 4.0 z ^ 2 ]>"
      ]
     },
     "execution_count": 48,
     "metadata": {},
     "output_type": "execute_result"
    }
   ],
   "source": [
    "expr"
   ]
  },
  {
   "cell_type": "markdown",
   "metadata": {},
   "source": [
    "# Visualize Results"
   ]
  },
  {
   "cell_type": "code",
   "execution_count": 26,
   "metadata": {},
   "outputs": [],
   "source": [
    "# Get post rank hr_k with different lambda values\n",
    "def get_post_rank(df,rank_type = 'random_all', line = 0):\n",
    "    \"\"\"\n",
    "    get one line of the post_rank res\n",
    "    \"\"\"\n",
    "    return np.array(literal_eval(df['post_rank_'+rank_type][line])).reshape(1,11)\n",
    "\n",
    "def get_ranking_scores(df, rank_type = 'random', line = 0):\n",
    "    \"\"\"\n",
    "    get one line of the ranking score for different lambda\n",
    "    \"\"\"\n",
    "    return np.array(literal_eval(df[rank_type+'_scores'][line])).reshape(1,11)\n",
    "\n",
    "def get_rating_scores(df, rank_type = 'random', line = 0):\n",
    "    \"\"\"\n",
    "    get one line of the rating score for different lambda\n",
    "    \"\"\"\n",
    "    return np.array(literal_eval(df[rank_type+'_ratings'][line])).reshape(1,11)\n",
    "\n",
    "def concat_rank(df,rank_type = 'random_all'):\n",
    "    \"\"\"\n",
    "    concat all post_rank res to one matrix\n",
    "    \"\"\"\n",
    "    res = get_post_rank(df, rank_type=rank_type, line = 0)\n",
    "    for i in range(1,len(df)):\n",
    "        res = np.concatenate((res,get_post_rank(df, rank_type=rank_type, line = i)))\n",
    "    return res\n",
    "\n",
    "def get_post_hr_at_k(df, k, rank_type = 'random_all'):\n",
    "    \"\"\"\n",
    "    Get hr_at_k for rank_type\n",
    "    return a numpy array of length 11 corresponding to each lambda value \n",
    "    \"\"\"\n",
    "    ranks = concat_rank(df,rank_type = rank_type) # concat the experiment result for rank_type\n",
    "\n",
    "    hr_at_k = np.where(ranks<k)[1] # compare rank with k\n",
    "    count = np.unique(hr_at_k, return_counts=True) # get count for each lambda value\n",
    "\n",
    "    return count[1]/len(df) \n",
    "\n",
    "def get_pre_hr_at_k(df, k, pre_col = 'pre_rank'):\n",
    "    pre_hit = len(np.where(df[pre_col]<k)[0])\n",
    "    return pre_hit/len(df)"
   ]
  },
  {
   "cell_type": "code",
   "execution_count": 41,
   "metadata": {},
   "outputs": [
    {
     "data": {
      "text/plain": [
       "0     4830\n",
       "1     4830\n",
       "2     4830\n",
       "3     3515\n",
       "4     3515\n",
       "      ... \n",
       "73     111\n",
       "74     111\n",
       "75     111\n",
       "76     111\n",
       "77     111\n",
       "Name: pre_rank, Length: 78, dtype: int64"
      ]
     },
     "execution_count": 41,
     "metadata": {},
     "output_type": "execute_result"
    }
   ],
   "source": [
    "df['pre_rank']"
   ]
  },
  {
   "cell_type": "code",
   "execution_count": 65,
   "metadata": {},
   "outputs": [],
   "source": [
    "def plot_lambda_vs_performance(df, k = 25, show = True, savefig = False, figname = None, title = 'lambda vs. performance for different methods'):\n",
    "    \"\"\"get hr@k graph for all 6 options\n",
    "    x_axis: lambda from all initial to all modified matrix\n",
    "    y_axis: performance (hr@k)\"\"\"\n",
    "    plt.figure(figsize=(12,12))\n",
    "    # Get lines\n",
    "    pre_hr = [get_pre_hr_at_k(df,k,pre_col = 'pre_rank')]*11 # repeat len(lams) times\n",
    "    pruned_hr = [get_pre_hr_at_k(df,k,pre_col = 'pure_pruning_rank')]*11 # repeat len(lams) times\n",
    "    \n",
    "    random_opti_rating = [get_pre_hr_at_k(df,k,pre_col = 'random_opti_rating')]*11 \n",
    "    random_opti_ranking = [get_pre_hr_at_k(df,k,pre_col = 'random_opti_ranking')]*11 \n",
    "    pop_opti_rating = [get_pre_hr_at_k(df,k,pre_col = 'pop_opti_rating')]*11 \n",
    "    pop_opti_ranking = [get_pre_hr_at_k(df,k,pre_col = 'pop_opti_ranking')]*11 \n",
    "    diff_opti_rating = [get_pre_hr_at_k(df,k,pre_col = 'diff_opti_rating')]*11 \n",
    "    diff_opti_ranking = [get_pre_hr_at_k(df,k,pre_col = 'diff_opti_ranking')]*11 \n",
    "    \n",
    "    random_all = get_post_hr_at_k(df,k,rank_type='random_all')\n",
    "    random_upper = get_post_hr_at_k(df,k,rank_type='random_upper')\n",
    "    pop_all = get_post_hr_at_k(df,k,rank_type='pop_all')\n",
    "    pop_upper = get_post_hr_at_k(df,k,rank_type='pop_upper')\n",
    "    diff_all = get_post_hr_at_k(df,k,rank_type='diff_all')\n",
    "    diff_upper = get_post_hr_at_k(df,k,rank_type='diff_upper')\n",
    "    \n",
    "\n",
    "    plt.plot(np.arange(11), pre_hr,'b')\n",
    "    plt.plot(np.arange(11), pruned_hr,'b--')\n",
    "    \n",
    "    plt.plot(np.arange(11), random_all,'r-')\n",
    "    plt.plot(np.arange(11), random_upper,'r--')\n",
    "    plt.plot(np.arange(11), random_opti_ranking,'r*')\n",
    "    plt.plot(np.arange(11), random_opti_rating,'r+')\n",
    "    \n",
    "    plt.plot(np.arange(11), pop_all,'y-')\n",
    "    plt.plot(np.arange(11), pop_upper,'y--')\n",
    "    plt.plot(np.arange(11), pop_opti_ranking,'y*')\n",
    "    plt.plot(np.arange(11), pop_opti_rating,'y+')\n",
    "    \n",
    "    plt.plot(np.arange(11), diff_all,'g-')\n",
    "    plt.plot(np.arange(11), diff_upper,'g--')\n",
    "    plt.plot(np.arange(11), diff_opti_ranking,'g*')\n",
    "    plt.plot(np.arange(11), diff_opti_rating,'g+')\n",
    "\n",
    "    x = [0, .1, .2, .3, .4, .5, .6, .7, .8, .9, 1]\n",
    "    xi = list(range(len(x)))\n",
    "    # plt.xticks(np.arange(len(k_list)), k_list)\n",
    "    plt.xlabel('lambda')\n",
    "    plt.ylabel(('HR@'+str(k)))\n",
    "    plt.legend(['Pre-Critiquing', 'Pure-pruning','Random', 'Random_Upper','random_ranking','random_rating',\n",
    "                'Pop','Pop_Upper', 'Pop_ranking', 'Pop_rating',\n",
    "                'Diff','Diff_Upper','Diff_ranking','Diff_ranking'],loc = 2)\n",
    "    plt.xticks(xi, x)\n",
    "    plt.title(title)\n",
    "    if show == True:\n",
    "        plt.show()\n",
    "    if savefig == True:\n",
    "        try:\n",
    "            plt.savefig('../figs/'+figname)\n",
    "        except:\n",
    "            print ('no figname')\n",
    "        "
   ]
  },
  {
   "cell_type": "code",
   "execution_count": 28,
   "metadata": {},
   "outputs": [],
   "source": [
    "def get_optimal_lamb_ranking_obj(df,rank_type1 = \"random_all\", rank_type2 = \"random\",get_only_first = True, get_all = False):\n",
    "    \"\"\"\n",
    "    get optimal predicted and real lamb for ranking based objective\n",
    "    rank_type1: optimal real \n",
    "    rank_type2: optimal predicted\n",
    "    \"\"\"\n",
    "    actual_bests = []\n",
    "    predicted_bests = []\n",
    "    for i in range(len(df)):\n",
    "        actual_best = np.argmin(get_post_rank(df,rank_type = rank_type1, line = i))\n",
    "        \n",
    "        if get_only_first:\n",
    "            # Get only the first\n",
    "            predicted_best = np.argmax(get_ranking_scores(df,rank_type = rank_type2, line = i)) \n",
    "            # Question: how to evaluate the difference\n",
    "            actual_bests.append(actual_best)\n",
    "            predicted_bests.append(predicted_best)\n",
    "        elif get_all:\n",
    "            # Get all \n",
    "            score = get_ranking_scores(df,rank_type = rank_type2, line = i)[0]\n",
    "            predicted_best = np.where(score == np.amax(score))[0] # an array of best lambdas\n",
    "            for lamb in predicted_best:\n",
    "                actual_bests.append(actual_best)\n",
    "                predicted_bests.append(lamb)\n",
    "        else:\n",
    "            # Randomly select one\n",
    "            score = get_ranking_scores(df,rank_type = rank_type2, line = i)[0]\n",
    "            temp = np.where(score == np.amax(score))[0] # an array of best lambdas\n",
    "            predicted_best = random.choice(temp)\n",
    "            # Question: how to evaluate the difference\n",
    "            actual_bests.append(actual_best)\n",
    "            predicted_bests.append(predicted_best)\n",
    "\n",
    "    return actual_bests,predicted_bests\n",
    "\n",
    "def get_optimal_lamb_rating_obj(df,rank_type1 = \"random_all\", rank_type2 = \"random\",get_only_first = True, get_all = False):\n",
    "    \"\"\"\n",
    "    get optimal predicted and real lamb for rating based objective \n",
    "    rank_type1: optimal real \n",
    "    rank_type2: optimal predicted\n",
    "    \"\"\"\n",
    "    actual_bests = []\n",
    "    predicted_bests = []\n",
    "    for i in range(len(df)):\n",
    "        actual_best = np.argmin(get_post_rank(df,rank_type = rank_type1, line = i))\n",
    "        \n",
    "        if get_only_first:\n",
    "            # Get only the first\n",
    "            predicted_best = np.argmin(get_rating_scores(df,rank_type = rank_type2, line = i)) \n",
    "            # Question: how to evaluate the difference\n",
    "            actual_bests.append(actual_best)\n",
    "            predicted_bests.append(predicted_best)\n",
    "            \n",
    "        elif get_all:\n",
    "            # Get all \n",
    "            score = get_rating_scores(df,rank_type = rank_type2, line = i)[0]\n",
    "            predicted_best = np.where(score == np.argmin(score))[0] # an array of best lambdas\n",
    "            for lamb in predicted_best:\n",
    "                actual_bests.append(actual_best)\n",
    "                predicted_bests.append(lamb)\n",
    "        else:\n",
    "            # Randomly select one\n",
    "            score = get_ranking_scores(df,rank_type = rank_type2, line = i)[0]\n",
    "            temp = np.where(score == np.argmin(score))[0] # an array of best lambdas\n",
    "            predicted_best = random.choice(temp)\n",
    "            # Question: how to evaluate the difference\n",
    "            actual_bests.append(actual_best)\n",
    "            predicted_bests.append(predicted_best)\n",
    "    return actual_bests,predicted_bests\n",
    "\n",
    "\n",
    "def get_dict_for_scatter_plot(df,rank_type1 = \"random_all\", rank_type2 = \"random\", get_only_first = True, get_all = False, obj = \"ranking\"):\n",
    "    \"\"\"\n",
    "    Get data dict for scatter plot\n",
    "    keys are predicted\n",
    "    \n",
    "    \"\"\"\n",
    "    if obj == \"ranking\":\n",
    "        actual_bests,predicted_bests = get_optimal_lamb_ranking_obj(df,rank_type1 = rank_type1, rank_type2 = rank_type2, \n",
    "                                                    get_only_first=get_only_first, get_all = get_all)\n",
    "    if obj == \"rating\":\n",
    "        actual_bests,predicted_bests = get_optimal_lamb_rating_obj(df,rank_type1 = rank_type1, rank_type2 = rank_type2, \n",
    "                                                    get_only_first=get_only_first, get_all = get_all)\n",
    "    data_dict = defaultdict(list)\n",
    "    for i,predicted_best in enumerate(predicted_bests):\n",
    "        data_dict[predicted_best].append(actual_bests[i])\n",
    "    return data_dict\n",
    "\n",
    "def plot_real_predicted_best_lambda(df, rank_type1=\"random_all\", rank_type2=\"random\" ,size_constant = 1,\n",
    "                                    get_only_first = True, get_all = False, obj = \"ranking\",\n",
    "                                    show = True, savefig = False,figname = None):\n",
    "    \"\"\"\n",
    "    Get scaller plot for comparing real/predicted optimal lambda for each prediction\n",
    "    x-axis: actual optimal lambda\n",
    "    y-axis: predicted optimal lambda\n",
    "    \"\"\"\n",
    "    data_dict = get_dict_for_scatter_plot(df, rank_type1=rank_type1, rank_type2 = rank_type2, \n",
    "                                          get_only_first=get_only_first, get_all = get_all, obj = obj)\n",
    "#     size_constant = 5\n",
    "\n",
    "    for xe, ye in data_dict.items():\n",
    "        xAxis = [xe] * len(ye)\n",
    "\n",
    "        #square it to amplify the effect, if you do ye.count(num)*size_constant the effect is barely noticeable\n",
    "        sizes = [ye.count(num)**2.5 * size_constant for num in ye]\n",
    "        plt.scatter(xAxis, ye, s=sizes)\n",
    "        \n",
    "    x = [0, .1, .2, .3, .4, .5, .6, .7, .8, .9, 1]\n",
    "    xi = list(range(len(x)))\n",
    "    # plt.xticks(np.arange(len(k_list)), k_list)\n",
    "    plt.xlabel('real optimal lambda')\n",
    "    plt.ylabel('predicted optimal lambda')\n",
    "#     plt.legend(['Pre-Critiquing', 'Pure-pruning','Random', 'Random_Upper','Pop','Pop_Upper','Diff','Diff_Upper'])\n",
    "    plt.xticks(xi, x)\n",
    "    plt.yticks(xi, x)\n",
    "    \n",
    "    if show:\n",
    "        plt.show()\n",
    "    if savefig:\n",
    "        try:\n",
    "            plt.savefig('../figs/' + figname)\n",
    "        except:\n",
    "            print ('FigName Not Defined')"
   ]
  },
  {
   "cell_type": "code",
   "execution_count": 85,
   "metadata": {
    "scrolled": false
   },
   "outputs": [
    {
     "data": {
      "text/plain": [
       "array([ 0,  1,  5,  6,  7,  8,  9, 10], dtype=int64)"
      ]
     },
     "execution_count": 85,
     "metadata": {},
     "output_type": "execute_result"
    }
   ],
   "source": [
    "### Get all predicted best lambda\n",
    "score = get_ranking_scores(df,rank_type = 'diff', line = 0)[0]\n",
    "np.where(score == np.amax(score))[0]\n",
    "\n",
    "### Get only the first predicted best lambda"
   ]
  },
  {
   "cell_type": "markdown",
   "metadata": {},
   "source": [
    "# 50 Users rating and ranking"
   ]
  },
  {
   "cell_type": "code",
   "execution_count": 66,
   "metadata": {},
   "outputs": [
    {
     "data": {
      "image/png": "[encoded data removed]",
      "text/plain": [
       "<Figure size 864x864 with 1 Axes>"
      ]
     },
     "metadata": {
      "needs_background": "light"
     },
     "output_type": "display_data"
    }
   ],
   "source": [
    "plot_lambda_vs_performance(df, k = 25, show = False, savefig = True, figname = \"predicted_optimal_lambda.png\")"
   ]
  },
  {
   "cell_type": "code",
   "execution_count": 68,
   "metadata": {},
   "outputs": [
    {
     "data": {
      "image/png": "[encoded data removed]",
      "text/plain": [
       "<Figure size 864x864 with 1 Axes>"
      ]
     },
     "metadata": {
      "needs_background": "light"
     },
     "output_type": "display_data"
    }
   ],
   "source": [
    "plot_lambda_vs_performance(df, k = 50, show = False, savefig = True, figname = \"predicted_optimal_lambda_hr50.png\")"
   ]
  },
  {
   "cell_type": "code",
   "execution_count": 53,
   "metadata": {},
   "outputs": [],
   "source": [
    "df = pd.read_csv(\"../tables/critiquing/plrec_with_obj/ranking_and_rating_50user_optimal_included.csv\")"
   ]
  },
  {
   "cell_type": "code",
   "execution_count": 39,
   "metadata": {},
   "outputs": [
    {
     "data": {
      "text/plain": [
       "0     2984\n",
       "1     3001\n",
       "2     2735\n",
       "3     3668\n",
       "4     2067\n",
       "      ... \n",
       "73    6796\n",
       "74       9\n",
       "75     155\n",
       "76    7191\n",
       "77      97\n",
       "Name: diff_opti_ranking, Length: 78, dtype: int64"
      ]
     },
     "execution_count": 39,
     "metadata": {},
     "output_type": "execute_result"
    }
   ],
   "source": [
    "df['diff_opti_ranking']"
   ]
  },
  {
   "cell_type": "code",
   "execution_count": 77,
   "metadata": {},
   "outputs": [
    {
     "data": {
      "image/png": "[encoded data removed]",
      "text/plain": [
       "<Figure size 432x288 with 1 Axes>"
      ]
     },
     "metadata": {
      "needs_background": "light"
     },
     "output_type": "display_data"
    }
   ],
   "source": [
    "plot_real_predicted_best_lambda(df, rank_type1= \"random_all\", rank_type2=\"random\",size_constant=0.0001,\n",
    "                                show = False, get_only_first = True, get_all = False,obj='rating',\n",
    "                                savefig = True, figname = \"real_vs_predicted_optimal/random_rating\")"
   ]
  },
  {
   "cell_type": "code",
   "execution_count": 79,
   "metadata": {},
   "outputs": [
    {
     "data": {
      "image/png": "[encoded data removed]",
      "text/plain": [
       "<Figure size 432x288 with 1 Axes>"
      ]
     },
     "metadata": {
      "needs_background": "light"
     },
     "output_type": "display_data"
    }
   ],
   "source": [
    "plot_real_predicted_best_lambda(df, rank_type1= \"pop_all\", rank_type2=\"pop\",size_constant=0.0001,\n",
    "                                show = False, get_only_first = True, get_all = False,obj='rating',\n",
    "                                savefig = True, figname = \"real_vs_predicted_optimal/pop_rating\")"
   ]
  },
  {
   "cell_type": "code",
   "execution_count": 80,
   "metadata": {},
   "outputs": [
    {
     "data": {
      "image/png": "[encoded data removed]",
      "text/plain": [
       "<Figure size 432x288 with 1 Axes>"
      ]
     },
     "metadata": {
      "needs_background": "light"
     },
     "output_type": "display_data"
    }
   ],
   "source": [
    "plot_real_predicted_best_lambda(df, rank_type1= \"diff_all\", rank_type2=\"diff\",size_constant=0.0001,\n",
    "                                show = False, get_only_first = True, get_all = False,obj='rating',\n",
    "                                savefig = True, figname = \"real_vs_predicted_optimal/diff_rating\")"
   ]
  },
  {
   "cell_type": "markdown",
   "metadata": {},
   "source": [
    "### Ranking"
   ]
  },
  {
   "cell_type": "code",
   "execution_count": 138,
   "metadata": {},
   "outputs": [
    {
     "data": {
      "image/png": "[encoded data removed]",
      "text/plain": [
       "<Figure size 432x288 with 1 Axes>"
      ]
     },
     "metadata": {},
     "output_type": "display_data"
    }
   ],
   "source": [
    "plot_real_predicted_best_lambda(df, rank_type1= \"random_all\", rank_type2=\"random\",size_constant=0.001,\n",
    "                                show = True, get_only_first = True, get_all = False,\n",
    "                                savefig = False, figname = None)"
   ]
  },
  {
   "cell_type": "code",
   "execution_count": 139,
   "metadata": {},
   "outputs": [
    {
     "data": {
      "image/png": "[encoded data removed]",
      "text/plain": [
       "<Figure size 432x288 with 1 Axes>"
      ]
     },
     "metadata": {},
     "output_type": "display_data"
    }
   ],
   "source": [
    "plot_real_predicted_best_lambda(df, rank_type1= \"pop_all\", rank_type2=\"pop\",size_constant=0.001,\n",
    "                                show = True, get_only_first = True, get_all = False,\n",
    "                                savefig = False, figname = None)"
   ]
  },
  {
   "cell_type": "code",
   "execution_count": 135,
   "metadata": {},
   "outputs": [
    {
     "data": {
      "image/png": "[encoded data removed]",
      "text/plain": [
       "<Figure size 432x288 with 1 Axes>"
      ]
     },
     "metadata": {},
     "output_type": "display_data"
    }
   ],
   "source": [
    "plot_real_predicted_best_lambda(df, rank_type1= \"diff_all\", rank_type2=\"diff\",size_constant=0.001,\n",
    "                                show = True, get_only_first = True, get_all = False,\n",
    "                                savefig = False, figname = None)"
   ]
  },
  {
   "cell_type": "markdown",
   "metadata": {},
   "source": [
    "### Rating"
   ]
  },
  {
   "cell_type": "code",
   "execution_count": 143,
   "metadata": {},
   "outputs": [
    {
     "data": {
      "image/png": "[encoded data removed]",
      "text/plain": [
       "<Figure size 432x288 with 1 Axes>"
      ]
     },
     "metadata": {},
     "output_type": "display_data"
    }
   ],
   "source": [
    "plot_real_predicted_best_lambda(df, rank_type1= \"random_all\", rank_type2=\"random\",size_constant=0.001,\n",
    "                                show = True, get_only_first = True, get_all = False,obj = 'rating', \n",
    "                                savefig = False, figname = None)"
   ]
  },
  {
   "cell_type": "code",
   "execution_count": 144,
   "metadata": {},
   "outputs": [
    {
     "data": {
      "image/png": "[encoded data removed]",
      "text/plain": [
       "<Figure size 432x288 with 1 Axes>"
      ]
     },
     "metadata": {},
     "output_type": "display_data"
    }
   ],
   "source": [
    "plot_real_predicted_best_lambda(df, rank_type1= \"pop_all\", rank_type2=\"pop\",size_constant=0.001,\n",
    "                                show = True, get_only_first = True, get_all = False,obj = 'rating', \n",
    "                                savefig = False, figname = None)"
   ]
  },
  {
   "cell_type": "code",
   "execution_count": 146,
   "metadata": {},
   "outputs": [
    {
     "data": {
      "image/png": "[encoded data removed]",
      "text/plain": [
       "<Figure size 432x288 with 1 Axes>"
      ]
     },
     "metadata": {},
     "output_type": "display_data"
    }
   ],
   "source": [
    "plot_real_predicted_best_lambda(df, rank_type1= \"diff_all\", rank_type2=\"diff\",size_constant=0.0001,\n",
    "                                show = True, get_only_first = True, get_all = False,obj = 'rating', \n",
    "                                savefig = False, figname = None)"
   ]
  },
  {
   "cell_type": "code",
   "execution_count": 140,
   "metadata": {},
   "outputs": [
    {
     "data": {
      "image/png": "[encoded data removed]",
      "text/plain": [
       "<Figure size 864x864 with 1 Axes>"
      ]
     },
     "metadata": {},
     "output_type": "display_data"
    }
   ],
   "source": [
    "plot_lambda_vs_performance(df, k = 30, show = True, savefig = False)"
   ]
  },
  {
   "cell_type": "markdown",
   "metadata": {},
   "source": [
    "# Test"
   ]
  },
  {
   "cell_type": "code",
   "execution_count": 124,
   "metadata": {
    "scrolled": false
   },
   "outputs": [
    {
     "data": {
      "image/png": "[encoded data removed]",
      "text/plain": [
       "<Figure size 432x288 with 1 Axes>"
      ]
     },
     "metadata": {},
     "output_type": "display_data"
    }
   ],
   "source": [
    "plot_real_predicted_best_lambda(df, rank_type1= \"diff_all\", rank_type2=\"diff\",size_constant=10,\n",
    "                                show = True, get_only_first = False, get_all = False,\n",
    "                                savefig = False, figname = None)"
   ]
  },
  {
   "cell_type": "code",
   "execution_count": 117,
   "metadata": {},
   "outputs": [
    {
     "data": {
      "image/png": "[encoded data removed]",
      "text/plain": [
       "<Figure size 432x288 with 1 Axes>"
      ]
     },
     "metadata": {},
     "output_type": "display_data"
    }
   ],
   "source": [
    "plot_real_predicted_best_lambda(df, rank_type1= \"random_all\", rank_type2=\"random\",size_constant=0.001,\n",
    "                                show = True, get_only_first = True, get_all = False,\n",
    "                                savefig = False, figname = None)"
   ]
  },
  {
   "cell_type": "code",
   "execution_count": 118,
   "metadata": {},
   "outputs": [
    {
     "data": {
      "image/png": "[encoded data removed]",
      "text/plain": [
       "<Figure size 432x288 with 1 Axes>"
      ]
     },
     "metadata": {},
     "output_type": "display_data"
    }
   ],
   "source": [
    "plot_real_predicted_best_lambda(df, rank_type1= \"diff_all\", rank_type2=\"diff\",size_constant=0.001,\n",
    "                                show = True, get_only_first = True, get_all = False,\n",
    "                                savefig = False, figname = None)"
   ]
  },
  {
   "cell_type": "code",
   "execution_count": 54,
   "metadata": {},
   "outputs": [
    {
     "data": {
      "image/png": "[encoded data removed]",
      "text/plain": [
       "<Figure size 432x288 with 1 Axes>"
      ]
     },
     "metadata": {},
     "output_type": "display_data"
    }
   ],
   "source": [
    "plot_real_predicted_best_lambda(df, rank_type1= \"random_all\", rank_type2=\"random\",size_constant=0.001,\n",
    "                                show = True, \n",
    "                                savefig = False, figname = None)"
   ]
  },
  {
   "cell_type": "code",
   "execution_count": 55,
   "metadata": {},
   "outputs": [
    {
     "data": {
      "image/png": "[encoded data removed]",
      "text/plain": [
       "<Figure size 432x288 with 1 Axes>"
      ]
     },
     "metadata": {},
     "output_type": "display_data"
    }
   ],
   "source": [
    "plot_real_predicted_best_lambda(df, rank_type1= \"pop_all\", rank_type2=\"pop\",size_constant=0.001,\n",
    "                                show = True, \n",
    "                                savefig = False, figname = None)"
   ]
  },
  {
   "cell_type": "code",
   "execution_count": 53,
   "metadata": {
    "scrolled": false
   },
   "outputs": [
    {
     "data": {
      "image/png": "[encoded data removed]",
      "text/plain": [
       "<Figure size 864x864 with 1 Axes>"
      ]
     },
     "metadata": {},
     "output_type": "display_data"
    }
   ],
   "source": [
    "plot_lambda_vs_performance(df, k = 30, show = True, savefig = False)"
   ]
  }
 ],
 "metadata": {
  "kernelspec": {
   "display_name": "Python 3",
   "language": "python",
   "name": "python3"
  },
  "language_info": {
   "codemirror_mode": {
    "name": "ipython",
    "version": 3
   },
   "file_extension": ".py",
   "mimetype": "text/x-python",
   "name": "python",
   "nbconvert_exporter": "python",
   "pygments_lexer": "ipython3",
   "version": "3.6.10"
  }
 },
 "nbformat": 4,
 "nbformat_minor": 2
}
