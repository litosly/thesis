{
 "cells": [
  {
   "cell_type": "code",
   "execution_count": 1,
   "metadata": {},
   "outputs": [],
   "source": [
    "import matplotlib.pyplot as plt\n",
    "import seaborn as sns\n",
    "import pandas as pd\n",
    "import numpy as np\n",
    "import math"
   ]
  },
  {
   "cell_type": "code",
   "execution_count": 2,
   "metadata": {},
   "outputs": [],
   "source": [
    "def save_dataframe_csv(df, path, name):\n",
    "    df.to_csv(path+name, index=False)\n",
    "\n",
    "def load_dataframe_csv(path, name, index_col=None):\n",
    "    return pd.read_csv(path+name, index_col=index_col)"
   ]
  },
  {
   "cell_type": "code",
   "execution_count": 207,
   "metadata": {},
   "outputs": [],
   "source": [
    "def get_average_length(df, n):\n",
    "    df_s_f = df[(df['result'] == 'successful') | (df['result'] == 'fail')]\n",
    "    iteration = df_s_f[df_s_f['target_rank']==n].groupby('user_id', as_index=False).agg({'iteration':'mean'})['iteration'].to_numpy()\n",
    "    return (np.average(iteration), 1.96*np.std(iteration)/np.sqrt(len(iteration)))\n",
    "\n",
    "def get_success_num(df, n):\n",
    "    return len(df[(df['result'] == 'successful') & (df['target_rank'] == n)])\n",
    "\n",
    "def get_fail_num(df, n):\n",
    "    return len(df[(df['result'] == 'fail') & (df['target_rank'] == n)])\n",
    "\n",
    "def get_success_rate(df, n):\n",
    "    df_s_f = df[(df['result'] == 'successful') | (df['result'] == 'fail')]\n",
    "    df_list_result = df_s_f[df_s_f['target_rank']==n].groupby('user_id', as_index=False)['result'].apply(list).reset_index(name='result')\n",
    "    successful_rate = df_list_result['result'].apply(lambda r: r.count(\"successful\")/len(r)).to_numpy()\n",
    "    return (np.average(successful_rate), 1.96*np.std(successful_rate)/np.sqrt(len(successful_rate)))\n",
    "\n"
   ]
  },
  {
   "cell_type": "code",
   "execution_count": 216,
   "metadata": {},
   "outputs": [],
   "source": [
    "def get_2_metric(df, topk = 1, print_result = True):\n",
    "    if topk != 1:\n",
    "        df = change_target_rank(df,topk=topk)\n",
    "    if print_result:\n",
    "        print ('avg_length: ',get_average_length(df,topk))\n",
    "        print ('suc_rate: ',get_success_rate(df,topk))\n",
    "        return \n",
    "    else:\n",
    "        return get_average_length(df,topk), get_success_rate(df,topk)"
   ]
  },
  {
   "cell_type": "code",
   "execution_count": 160,
   "metadata": {},
   "outputs": [],
   "source": [
    "def get_best_metric_with_single_lambda(data_path, lambs, dataset_name = \"yelp\", keyphrase_selection_method = \"random\",topk = 20, return_all = False):\n",
    "    avg_lengths = []\n",
    "    suc_rates = []\n",
    "    for lamb in lambs:\n",
    "        table_name = '../tables/tuning_lambda/'+dataset_name+'/tuning_'+dataset_name+'_at_lamb_'+ str(lamb)+'_with_'+ keyphrase_selection_method+'.csv'\n",
    "        df = load_dataframe_csv(data_path, table_name)\n",
    "        avg_length, suc_rate = get_2_metric(df, topk = topk, print_result = False)\n",
    "\n",
    "        avg_lengths.append(avg_length)\n",
    "        suc_rates.append(suc_rate)\n",
    "        \n",
    "    if return_all:\n",
    "        return avg_lengths, suc_rates\n",
    "    else:\n",
    "        suc_rates_temp = [suc_rate[0] for suc_rate in suc_rates]\n",
    "        optimal_lambda_index = np.argmax(suc_rates_temp)\n",
    "#         print (optimal_lambda_index)\n",
    "        return lambs[optimal_lambda_index], avg_lengths[optimal_lambda_index], suc_rates[optimal_lambda_index]"
   ]
  },
  {
   "cell_type": "code",
   "execution_count": 231,
   "metadata": {},
   "outputs": [],
   "source": [
    "def get_drop_index(df, topk = 20):\n",
    "    drop_index = []\n",
    "    iter_flag = 0 \n",
    "\n",
    "    for i in range(len(df)):\n",
    "        if df[\"iteration\"][i] == 0:\n",
    "            iter_flag = 0\n",
    "        if df['item_rank'][i] < topk and iter_flag == 0:\n",
    "            iter_flag = 1\n",
    "        elif iter_flag == 1:\n",
    "            drop_index.append(i)\n",
    "    return drop_index        \n",
    "def change_target_rank(df,topk = 20):\n",
    "    modified_df = df.drop(get_drop_index(df,topk = topk))\n",
    "    modified_df = modified_df.reset_index(drop=True)\n",
    "    modified_df['target_rank'] = topk\n",
    "    for i in range(len(modified_df)):\n",
    "        if modified_df['item_rank'][i] < modified_df['target_rank'][i]:\n",
    "            modified_df.at[i,\"result\"] = \"successful\"\n",
    "    return modified_df"
   ]
  },
  {
   "cell_type": "code",
   "execution_count": 135,
   "metadata": {
    "scrolled": true
   },
   "outputs": [],
   "source": [
    "dataset_name = \"beer\"\n",
    "lamb = 1\n",
    "keyphrase_selection_method = \"diff\"\n",
    "table_path = '../tables/tuning_lambda/'+dataset_name+'/tuning_'+dataset_name+'_at_lamb_'+ str(lamb)+'_with_'+ keyphrase_selection_method+'.csv'\n",
    "df = load_dataframe_csv(table_path,\"\")     \n",
    "# get_2_metric(df,topk = 20)"
   ]
  },
  {
   "cell_type": "code",
   "execution_count": 146,
   "metadata": {},
   "outputs": [],
   "source": [
    "table_path = \"../tables/reproducing/beer/lp1simplified_top100_sample_25users.csv\"\n",
    "df = load_dataframe_csv(table_path,\"\")    "
   ]
  },
  {
   "cell_type": "code",
   "execution_count": 187,
   "metadata": {},
   "outputs": [],
   "source": [
    "table_path = \"../tables/reproducing/beer/lp1simplified_top100_50users_random.csv\"\n",
    "df = load_dataframe_csv(table_path,\"\")    "
   ]
  },
  {
   "cell_type": "code",
   "execution_count": 151,
   "metadata": {
    "scrolled": true
   },
   "outputs": [
    {
     "name": "stdout",
     "output_type": "stream",
     "text": [
      "top1 result:\n",
      "avg_length:  (19.74962962962963, 0.29107414958393807)\n",
      "suc_rate:  (0.022623456790123456, 0.020989635923557414)\n",
      "top20 result:\n",
      "avg_length:  (17.746574074074076, 1.1476013615327938)\n",
      "suc_rate:  (0.1270356803690137, 0.0616629059833558)\n"
     ]
    }
   ],
   "source": [
    "# new rating random \n",
    "print (\"top1 result:\")\n",
    "get_2_metric(df, topk = 1, print_result= True)\n",
    "print ('top20 result:')\n",
    "df_20 = change_target_rank(df,topk=20)\n",
    "get_2_metric(df_20, topk = 20, print_result= True)"
   ]
  },
  {
   "cell_type": "code",
   "execution_count": 167,
   "metadata": {},
   "outputs": [],
   "source": [
    "# average random\n",
    "table_path = \"../tables/reproducing/beer/avg_top100_sample_25users.csv\"\n",
    "df = load_dataframe_csv(table_path,\"\")  "
   ]
  },
  {
   "cell_type": "code",
   "execution_count": 168,
   "metadata": {
    "scrolled": true
   },
   "outputs": [
    {
     "name": "stdout",
     "output_type": "stream",
     "text": [
      "top1 result:\n",
      "avg_length:  (19.958333333333332, 0.07994717584709247)\n",
      "suc_rate:  (0.005208333333333333, 0.009993396980886561)\n",
      "top20 result:\n",
      "avg_length:  (17.770470787382553, 1.0594595506005924)\n",
      "suc_rate:  (0.17312225719088464, 0.07581358661361602)\n"
     ]
    }
   ],
   "source": [
    " print (\"top1 result:\")\n",
    "get_2_metric(df, topk = 1, print_result= True)\n",
    "print ('top20 result:')\n",
    "get_2_metric(df_20, topk = 20, print_result= True)"
   ]
  },
  {
   "cell_type": "code",
   "execution_count": 169,
   "metadata": {},
   "outputs": [],
   "source": [
    "# RankSVM3 random\n",
    "dataset_name = \"beer\"\n",
    "lamb = 0.01\n",
    "keyphrase_selection_method = \"random\"\n",
    "table_path = '../tables/tuning_lambda/'+dataset_name+'/tuning_'+dataset_name+'_at_lamb_'+ str(lamb)+'_with_'+ keyphrase_selection_method+'.csv'\n",
    "df = load_dataframe_csv(table_path,\"\")     "
   ]
  },
  {
   "cell_type": "code",
   "execution_count": 170,
   "metadata": {},
   "outputs": [
    {
     "name": "stdout",
     "output_type": "stream",
     "text": [
      "top1 result:\n",
      "avg_length:  (19.92509259259259, 0.09356016847696566)\n",
      "suc_rate:  (0.00558641975308642, 0.006657888556071205)\n",
      "top20 result:\n",
      "avg_length:  (17.770470787382553, 1.0594595506005924)\n",
      "suc_rate:  (0.17312225719088464, 0.07581358661361602)\n"
     ]
    }
   ],
   "source": [
    " print (\"top1 result:\")\n",
    "get_2_metric(df, topk = 1, print_result= True)\n",
    "print ('top20 result:')\n",
    "get_2_metric(df_20, topk = 20, print_result= True)"
   ]
  },
  {
   "cell_type": "code",
   "execution_count": 137,
   "metadata": {},
   "outputs": [
    {
     "name": "stdout",
     "output_type": "stream",
     "text": [
      "avg_length:  (19.308145135547093, 0.510198578509671)\n",
      "suc_rate:  (0.04709948366811111, 0.033635644108119644)\n"
     ]
    }
   ],
   "source": [
    "get_2_metric(df, topk = 1, print_result= True)"
   ]
  },
  {
   "cell_type": "code",
   "execution_count": 140,
   "metadata": {
    "scrolled": false
   },
   "outputs": [
    {
     "name": "stdout",
     "output_type": "stream",
     "text": [
      "avg_length:  (16.003874304707637, 1.4707664579856916)\n",
      "suc_rate:  (0.22928394408786568, 0.08431886915092991)\n"
     ]
    }
   ],
   "source": [
    "df_20 = change_target_rank(df,topk=20)\n",
    "get_2_metric(df_20, topk = 20, print_result= True)"
   ]
  },
  {
   "cell_type": "code",
   "execution_count": 141,
   "metadata": {},
   "outputs": [],
   "source": [
    "dataset_name = \"beer\"\n",
    "lamb = 1\n",
    "keyphrase_selection_method = \"random\"\n",
    "table_path = '../tables/tuning_lambda/'+dataset_name+'/tuning_'+dataset_name+'_at_lamb_'+ str(lamb)+'_with_'+ keyphrase_selection_method+'.csv'\n",
    "df = load_dataframe_csv(table_path,\"\")"
   ]
  },
  {
   "cell_type": "code",
   "execution_count": 142,
   "metadata": {},
   "outputs": [
    {
     "name": "stdout",
     "output_type": "stream",
     "text": [
      "avg_length:  (19.870587437254105, 0.14267671270303392)\n",
      "suc_rate:  (0.018618572785239453, 0.02253631479002173)\n"
     ]
    }
   ],
   "source": [
    "get_2_metric(df, topk = 1, print_result= True)"
   ]
  },
  {
   "cell_type": "code",
   "execution_count": 143,
   "metadata": {},
   "outputs": [
    {
     "name": "stdout",
     "output_type": "stream",
     "text": [
      "avg_length:  (18.15803243053243, 1.0057396691448985)\n",
      "suc_rate:  (0.10936757686757687, 0.05489371263025239)\n"
     ]
    }
   ],
   "source": [
    "df_20 = change_target_rank(df,topk=20)\n",
    "get_2_metric(df_20, topk = 20, print_result= True)"
   ]
  },
  {
   "cell_type": "markdown",
   "metadata": {},
   "source": [
    "# Yelp"
   ]
  },
  {
   "cell_type": "markdown",
   "metadata": {},
   "source": [
    "## Random"
   ]
  },
  {
   "cell_type": "markdown",
   "metadata": {},
   "source": [
    "### Avg"
   ]
  },
  {
   "cell_type": "code",
   "execution_count": 236,
   "metadata": {},
   "outputs": [],
   "source": [
    "# average random\n",
    "table_path = \"../tables/reproducing/yelp/average_50_users_random.csv\"\n",
    "df = load_dataframe_csv(table_path,\"\")   "
   ]
  },
  {
   "cell_type": "code",
   "execution_count": 237,
   "metadata": {},
   "outputs": [
    {
     "name": "stdout",
     "output_type": "stream",
     "text": [
      "top1 result:\n",
      "avg_length:  (19.03559877104511, 0.3572120449980587)\n",
      "suc_rate:  (0.015840222299200627, 0.009591226262474677)\n",
      "top5 result:\n",
      "avg_length:  (18.60254403037814, 0.37723308447177045)\n",
      "suc_rate:  (0.0551611808861551, 0.01883349549045509)\n",
      "top10 result:\n",
      "avg_length:  (18.15496984411071, 0.465279928173111)\n",
      "suc_rate:  (0.0845436633942826, 0.024319431068433355)\n",
      "top20 result:\n",
      "avg_length:  (17.453566172962457, 0.5241739324116091)\n",
      "suc_rate:  (0.13157701856489268, 0.028787120650399345)\n",
      "top50 result:\n",
      "avg_length:  (16.14465360276119, 0.6586009718201147)\n",
      "suc_rate:  (0.21532475636964804, 0.03851832752271652)\n"
     ]
    }
   ],
   "source": [
    "# avg random \n",
    "print (\"top1 result:\")\n",
    "get_2_metric(df, topk = 1, print_result= True)\n",
    "\n",
    "print (\"top5 result:\")\n",
    "get_2_metric(df, topk = 5, print_result= True)\n",
    "\n",
    "print (\"top10 result:\")\n",
    "get_2_metric(df, topk = 10, print_result= True)\n",
    "\n",
    "print ('top20 result:')\n",
    "get_2_metric(df, topk = 20, print_result= True)\n",
    "\n",
    "print ('top50 result:')\n",
    "get_2_metric(df, topk = 50, print_result= True)"
   ]
  },
  {
   "cell_type": "markdown",
   "metadata": {},
   "source": [
    "### Rating "
   ]
  },
  {
   "cell_type": "code",
   "execution_count": 234,
   "metadata": {},
   "outputs": [],
   "source": [
    "table_path = \"../tables/reproducing/yelp/lp1simplified_top100_50users_random.csv\"\n",
    "df = load_dataframe_csv(table_path,\"\")   "
   ]
  },
  {
   "cell_type": "code",
   "execution_count": 235,
   "metadata": {},
   "outputs": [
    {
     "name": "stdout",
     "output_type": "stream",
     "text": [
      "top1 result:\n",
      "avg_length:  (19.028766511600622, 0.3384511962364016)\n",
      "suc_rate:  (0.011059850643183978, 0.008876222642763183)\n",
      "top5 result:\n",
      "avg_length:  (18.880373392374167, 0.3470727930073836)\n",
      "suc_rate:  (0.022017180350513685, 0.012945332297826436)\n",
      "top10 result:\n",
      "avg_length:  (18.624498653078376, 0.3991413461197096)\n",
      "suc_rate:  (0.03837325118026873, 0.019772108658030165)\n",
      "top20 result:\n",
      "avg_length:  (18.13328310793094, 0.5137145355516685)\n",
      "suc_rate:  (0.06651036776165775, 0.023884815401298304)\n",
      "top50 result:\n",
      "avg_length:  (17.177852856780877, 0.6105745073551999)\n",
      "suc_rate:  (0.12241955522786277, 0.034405594316651876)\n"
     ]
    }
   ],
   "source": [
    "# new rating random \n",
    "print (\"top1 result:\")\n",
    "get_2_metric(df, topk = 1, print_result= True)\n",
    "\n",
    "print (\"top5 result:\")\n",
    "get_2_metric(df, topk = 5, print_result= True)\n",
    "\n",
    "print (\"top10 result:\")\n",
    "get_2_metric(df, topk = 10, print_result= True)\n",
    "\n",
    "print ('top20 result:')\n",
    "get_2_metric(df, topk = 20, print_result= True)\n",
    "\n",
    "print ('top50 result:')\n",
    "get_2_metric(df, topk = 50, print_result= True)"
   ]
  },
  {
   "cell_type": "markdown",
   "metadata": {},
   "source": [
    "### RankSVM3"
   ]
  },
  {
   "cell_type": "code",
   "execution_count": 208,
   "metadata": {},
   "outputs": [
    {
     "data": {
      "text/plain": [
       "(100000,\n",
       " (17.389133431354796, 0.499215381635217),\n",
       " (0.16223344098473091, 0.04137193257843606))"
      ]
     },
     "execution_count": 208,
     "metadata": {},
     "output_type": "execute_result"
    }
   ],
   "source": [
    "get_best_metric_with_single_lambda(data_path = \"\", \n",
    "                                   lambs = [0.0001, 0.001, 0.01, 0.05, 0.1, 0.5, 1, 5, 10, 30, 50, 70, 90, 100, 200, 500, 1000, 10000, 100000],\n",
    "                                   dataset_name = \"yelp\", \n",
    "                                   keyphrase_selection_method = \"random\",\n",
    "                                   topk = 20, \n",
    "                                   return_all = False)"
   ]
  },
  {
   "cell_type": "code",
   "execution_count": 227,
   "metadata": {},
   "outputs": [],
   "source": [
    "table_path = \"../tables/tuning_lambda/yelp/tuning_yelp_at_lamb_30_with_random.csv\"\n",
    "df = load_dataframe_csv(table_path,\"\")   "
   ]
  },
  {
   "cell_type": "code",
   "execution_count": 233,
   "metadata": {
    "scrolled": true
   },
   "outputs": [
    {
     "name": "stdout",
     "output_type": "stream",
     "text": [
      "top1 result:\n",
      "avg_length:  (19.034609094943203, 0.33549197179709683)\n",
      "suc_rate:  (0.022188999272332605, 0.012952897978773284)\n",
      "top5 result:\n",
      "avg_length:  (18.52658623330192, 0.38175761171278694)\n",
      "suc_rate:  (0.06590186454221543, 0.0256616527244365)\n",
      "top10 result:\n",
      "avg_length:  (18.103375154257506, 0.44793462922060046)\n",
      "suc_rate:  (0.090069070792755, 0.031621431885388136)\n",
      "top20 result:\n",
      "avg_length:  (17.36721675455035, 0.5360957700454426)\n",
      "suc_rate:  (0.14679590824456665, 0.035741131818330704)\n",
      "top50 result:\n",
      "avg_length:  (15.821626805474844, 0.7154176801839158)\n",
      "suc_rate:  (0.25878101731429903, 0.052692963315011165)\n"
     ]
    }
   ],
   "source": [
    "# ranksvm3 random \n",
    "print (\"top1 result:\")\n",
    "get_2_metric(df, topk = 1, print_result= True)\n",
    "\n",
    "print (\"top5 result:\")\n",
    "get_2_metric(df, topk = 5, print_result= True)\n",
    "\n",
    "print (\"top10 result:\")\n",
    "get_2_metric(df, topk = 10, print_result= True)\n",
    "\n",
    "print ('top20 result:')\n",
    "get_2_metric(df, topk = 20, print_result= True)\n",
    "\n",
    "print ('top50 result:')\n",
    "get_2_metric(df, topk = 50, print_result= True)"
   ]
  },
  {
   "cell_type": "markdown",
   "metadata": {},
   "source": [
    "## Diff"
   ]
  },
  {
   "cell_type": "markdown",
   "metadata": {},
   "source": [
    "### Avg"
   ]
  },
  {
   "cell_type": "code",
   "execution_count": 247,
   "metadata": {},
   "outputs": [
    {
     "name": "stdout",
     "output_type": "stream",
     "text": [
      "top1 result:\n",
      "avg_length:  (18.812405262781745, 0.3302589191939282)\n",
      "suc_rate:  (0.10025091722451729, 0.028769890927680498)\n",
      "top5 result:\n",
      "avg_length:  (17.469156477253545, 0.5618742525336571)\n",
      "suc_rate:  (0.1725893382055046, 0.04168937445645123)\n",
      "top10 result:\n",
      "avg_length:  (16.641559414060755, 0.6625164541548163)\n",
      "suc_rate:  (0.22978683575626296, 0.04578745671961498)\n",
      "top20 result:\n",
      "avg_length:  (15.549882405055126, 0.7904222340790882)\n",
      "suc_rate:  (0.29514030155729915, 0.04986112295320664)\n",
      "top50 result:\n",
      "avg_length:  (13.676527731851461, 0.9619422832228972)\n",
      "suc_rate:  (0.39613395524100187, 0.05741273752075427)\n"
     ]
    }
   ],
   "source": [
    "# average random\n",
    "table_path = \"../tables/reproducing/yelp/average_50_users_diff.csv\"\n",
    "df = load_dataframe_csv(table_path,\"\")   \n",
    "\n",
    "# avg diff \n",
    "print (\"top1 result:\")\n",
    "get_2_metric(df, topk = 1, print_result= True)\n",
    "\n",
    "print (\"top5 result:\")\n",
    "get_2_metric(df, topk = 5, print_result= True)\n",
    "\n",
    "print (\"top10 result:\")\n",
    "get_2_metric(df, topk = 10, print_result= True)\n",
    "\n",
    "print ('top20 result:')\n",
    "get_2_metric(df, topk = 20, print_result= True)\n",
    "\n",
    "print ('top50 result:')\n",
    "get_2_metric(df, topk = 50, print_result= True)"
   ]
  },
  {
   "cell_type": "markdown",
   "metadata": {},
   "source": [
    "### Rating"
   ]
  },
  {
   "cell_type": "code",
   "execution_count": 261,
   "metadata": {},
   "outputs": [
    {
     "name": "stdout",
     "output_type": "stream",
     "text": [
      "top1 result:\n",
      "avg_length:  (19.69089649072865, 0.18087670240336048)\n",
      "suc_rate:  (0.023072894065372863, 0.013403120863550031)\n",
      "top5 result:\n",
      "avg_length:  (19.326414132720082, 0.3118213441873929)\n",
      "suc_rate:  (0.04504713057765285, 0.020165883247737514)\n",
      "top10 result:\n",
      "avg_length:  (18.869447096133477, 0.4238667770155522)\n",
      "suc_rate:  (0.08097138144755589, 0.02678793192479579)\n",
      "top20 result:\n",
      "avg_length:  (18.145935761808524, 0.5495414647468356)\n",
      "suc_rate:  (0.11822160990622423, 0.034817509020406645)\n",
      "top50 result:\n",
      "avg_length:  (17.053157619589847, 0.687032093938541)\n",
      "suc_rate:  (0.1754022981737008, 0.03968158044397756)\n"
     ]
    }
   ],
   "source": [
    "table_path = \"../tables/reproducing/yelp/lp1simplified_top100_50users_diff.csv\"\n",
    "df = load_dataframe_csv(table_path,\"\")  \n",
    "\n",
    "# rating diff \n",
    "print (\"top1 result:\")\n",
    "get_2_metric(df, topk = 1, print_result= True)\n",
    "\n",
    "print (\"top5 result:\")\n",
    "get_2_metric(df, topk = 5, print_result= True)\n",
    "\n",
    "print (\"top10 result:\")\n",
    "get_2_metric(df, topk = 10, print_result= True)\n",
    "\n",
    "print ('top20 result:')\n",
    "get_2_metric(df, topk = 20, print_result= True)\n",
    "\n",
    "print ('top50 result:')\n",
    "get_2_metric(df, topk = 50, print_result= True)"
   ]
  },
  {
   "cell_type": "markdown",
   "metadata": {},
   "source": [
    "### RankSVM3"
   ]
  },
  {
   "cell_type": "code",
   "execution_count": null,
   "metadata": {},
   "outputs": [],
   "source": []
  },
  {
   "cell_type": "markdown",
   "metadata": {},
   "source": [
    "# Beer"
   ]
  },
  {
   "cell_type": "markdown",
   "metadata": {},
   "source": [
    "## Random"
   ]
  },
  {
   "cell_type": "markdown",
   "metadata": {},
   "source": [
    "### Avg"
   ]
  },
  {
   "cell_type": "code",
   "execution_count": 259,
   "metadata": {},
   "outputs": [
    {
     "name": "stdout",
     "output_type": "stream",
     "text": [
      "top1 result:\n",
      "avg_length:  (19.757354497354495, 0.2779927766784297)\n",
      "suc_rate:  (0.019944755680049796, 0.02258021880252023)\n",
      "top5 result:\n",
      "avg_length:  (19.5425, 0.3305248261097751)\n",
      "suc_rate:  (0.04490948231144309, 0.032302378695209445)\n",
      "top10 result:\n",
      "avg_length:  (19.12864197530864, 0.49555452117671855)\n",
      "suc_rate:  (0.0627489884842826, 0.03415633080480409)\n",
      "top20 result:\n",
      "avg_length:  (18.462072491778372, 0.5792931262511614)\n",
      "suc_rate:  (0.12167948065006888, 0.04664426913400822)\n",
      "top50 result:\n",
      "avg_length:  (17.54504050234442, 0.7749913409029133)\n",
      "suc_rate:  (0.17959713670497984, 0.059711756932172046)\n"
     ]
    }
   ],
   "source": [
    "# average random\n",
    "table_path = \"../tables/reproducing/beer/avg_50users_random.csv\"\n",
    "df = load_dataframe_csv(table_path,\"\")   \n",
    "\n",
    "# avg random \n",
    "print (\"top1 result:\")\n",
    "get_2_metric(df, topk = 1, print_result= True)\n",
    "\n",
    "print (\"top5 result:\")\n",
    "get_2_metric(df, topk = 5, print_result= True)\n",
    "\n",
    "print (\"top10 result:\")\n",
    "get_2_metric(df, topk = 10, print_result= True)\n",
    "\n",
    "print ('top20 result:')\n",
    "get_2_metric(df, topk = 20, print_result= True)\n",
    "\n",
    "print ('top50 result:')\n",
    "get_2_metric(df, topk = 50, print_result= True)"
   ]
  },
  {
   "cell_type": "markdown",
   "metadata": {},
   "source": [
    "### Rating"
   ]
  },
  {
   "cell_type": "code",
   "execution_count": 238,
   "metadata": {},
   "outputs": [
    {
     "name": "stdout",
     "output_type": "stream",
     "text": [
      "top1 result:\n",
      "avg_length:  (19.74962962962963, 0.29107414958393807)\n",
      "suc_rate:  (0.022623456790123456, 0.020989635923557414)\n",
      "top5 result:\n",
      "avg_length:  (18.816529982363313, 0.9036814563363051)\n",
      "suc_rate:  (0.06635361552028218, 0.05151346941071546)\n",
      "top10 result:\n",
      "avg_length:  (18.414528218694883, 1.0432722209167709)\n",
      "suc_rate:  (0.08388447971781306, 0.054973102609672884)\n",
      "top20 result:\n",
      "avg_length:  (17.746574074074076, 1.1476013615327938)\n",
      "suc_rate:  (0.1270356803690137, 0.0616629059833558)\n",
      "top50 result:\n",
      "avg_length:  (16.975411968206085, 1.1800766837586478)\n",
      "suc_rate:  (0.1723705180077729, 0.0629333496347026)\n"
     ]
    }
   ],
   "source": [
    "table_path = \"../tables/reproducing/beer/lp1simplified_top100_50users_random.csv\"\n",
    "df = load_dataframe_csv(table_path,\"\")  \n",
    "\n",
    "# rating random \n",
    "print (\"top1 result:\")\n",
    "get_2_metric(df, topk = 1, print_result= True)\n",
    "\n",
    "print (\"top5 result:\")\n",
    "get_2_metric(df, topk = 5, print_result= True)\n",
    "\n",
    "print (\"top10 result:\")\n",
    "get_2_metric(df, topk = 10, print_result= True)\n",
    "\n",
    "print ('top20 result:')\n",
    "get_2_metric(df, topk = 20, print_result= True)\n",
    "\n",
    "print ('top50 result:')\n",
    "get_2_metric(df, topk = 50, print_result= True)"
   ]
  },
  {
   "cell_type": "markdown",
   "metadata": {},
   "source": [
    "### RankSVM3"
   ]
  },
  {
   "cell_type": "code",
   "execution_count": 242,
   "metadata": {},
   "outputs": [
    {
     "data": {
      "text/plain": [
       "(0.01,\n",
       " (17.770470787382553, 1.0594595506005924),\n",
       " (0.17312225719088464, 0.07581358661361602))"
      ]
     },
     "execution_count": 242,
     "metadata": {},
     "output_type": "execute_result"
    }
   ],
   "source": [
    "get_best_metric_with_single_lambda(data_path = \"\", \n",
    "                                   lambs = [0.0001, 0.001, 0.01, 0.05, 0.1, 0.5, 1, 5, 10, 30, 50, 70, 90, 100, 200, 500, 1000, 10000, 100000],\n",
    "                                   dataset_name = \"beer\", \n",
    "                                   keyphrase_selection_method = \"random\",\n",
    "                                   topk = 20, \n",
    "                                   return_all = False)"
   ]
  },
  {
   "cell_type": "code",
   "execution_count": 240,
   "metadata": {},
   "outputs": [
    {
     "name": "stdout",
     "output_type": "stream",
     "text": [
      "top1 result:\n",
      "avg_length:  (19.92509259259259, 0.09356016847696566)\n",
      "suc_rate:  (0.00558641975308642, 0.006657888556071205)\n",
      "top5 result:\n",
      "avg_length:  (19.250091451758117, 0.7464982051921484)\n",
      "suc_rate:  (0.06044437044437044, 0.04870071177690609)\n",
      "top10 result:\n",
      "avg_length:  (18.499294686794688, 1.007070361355241)\n",
      "suc_rate:  (0.10716259049592382, 0.06418012749394501)\n",
      "top20 result:\n",
      "avg_length:  (17.770470787382553, 1.0594595506005924)\n",
      "suc_rate:  (0.17312225719088464, 0.07581358661361602)\n",
      "top50 result:\n",
      "avg_length:  (15.926921571529418, 1.3104969760739227)\n",
      "suc_rate:  (0.27958704512626076, 0.08501716689840598)\n"
     ]
    }
   ],
   "source": [
    "table_path = \"../tables/tuning_lambda/beer/tuning_beer_at_lamb_0.01_with_random.csv\"\n",
    "df = load_dataframe_csv(table_path,\"\")\n",
    "\n",
    "# ranksvm3 random \n",
    "print (\"top1 result:\")\n",
    "get_2_metric(df, topk = 1, print_result= True)\n",
    "\n",
    "print (\"top5 result:\")\n",
    "get_2_metric(df, topk = 5, print_result= True)\n",
    "\n",
    "print (\"top10 result:\")\n",
    "get_2_metric(df, topk = 10, print_result= True)\n",
    "\n",
    "print ('top20 result:')\n",
    "get_2_metric(df, topk = 20, print_result= True)\n",
    "\n",
    "print ('top50 result:')\n",
    "get_2_metric(df, topk = 50, print_result= True)"
   ]
  },
  {
   "cell_type": "markdown",
   "metadata": {},
   "source": [
    "## Diff"
   ]
  },
  {
   "cell_type": "markdown",
   "metadata": {},
   "source": [
    "### Avg"
   ]
  },
  {
   "cell_type": "code",
   "execution_count": 260,
   "metadata": {},
   "outputs": [
    {
     "name": "stdout",
     "output_type": "stream",
     "text": [
      "top1 result:\n",
      "avg_length:  (18.981453330619996, 0.7190037785221393)\n",
      "suc_rate:  (0.07821292904626237, 0.053722202011929204)\n",
      "top5 result:\n",
      "avg_length:  (17.312430926009355, 1.3441390819310814)\n",
      "suc_rate:  (0.17424553478475044, 0.0864047434366746)\n",
      "top10 result:\n",
      "avg_length:  (16.426035957506546, 1.5095761942759542)\n",
      "suc_rate:  (0.22156556043810943, 0.08479871488892018)\n",
      "top20 result:\n",
      "avg_length:  (15.37963706953903, 1.6271043925616488)\n",
      "suc_rate:  (0.3014591853317343, 0.09681698783849414)\n",
      "top50 result:\n",
      "avg_length:  (13.23296066315674, 1.626929072483989)\n",
      "suc_rate:  (0.4003343497461144, 0.09134749284494897)\n"
     ]
    }
   ],
   "source": [
    "# average diff\n",
    "table_path = \"../tables/reproducing/beer/avg_50users_diff.csv\"\n",
    "df = load_dataframe_csv(table_path,\"\")   \n",
    "\n",
    "# avg random \n",
    "print (\"top1 result:\")\n",
    "get_2_metric(df, topk = 1, print_result= True)\n",
    "\n",
    "print (\"top5 result:\")\n",
    "get_2_metric(df, topk = 5, print_result= True)\n",
    "\n",
    "print (\"top10 result:\")\n",
    "get_2_metric(df, topk = 10, print_result= True)\n",
    "\n",
    "print ('top20 result:')\n",
    "get_2_metric(df, topk = 20, print_result= True)\n",
    "\n",
    "print ('top50 result:')\n",
    "get_2_metric(df, topk = 50, print_result= True)"
   ]
  },
  {
   "cell_type": "markdown",
   "metadata": {},
   "source": [
    "### Rating"
   ]
  },
  {
   "cell_type": "code",
   "execution_count": 262,
   "metadata": {},
   "outputs": [
    {
     "name": "stdout",
     "output_type": "stream",
     "text": [
      "top1 result:\n",
      "avg_length:  (19.784197530864194, 0.2891664582151433)\n",
      "suc_rate:  (0.011358024691358024, 0.01521928727448122)\n",
      "top5 result:\n",
      "avg_length:  (18.845101410934745, 0.6689630742150717)\n",
      "suc_rate:  (0.08013227513227514, 0.05432908711783081)\n",
      "top10 result:\n",
      "avg_length:  (18.30531746031746, 1.0395149608590142)\n",
      "suc_rate:  (0.09081128747795415, 0.0548829961707191)\n",
      "top20 result:\n",
      "avg_length:  (17.59619488536155, 1.1588406332651495)\n",
      "suc_rate:  (0.1290299823633157, 0.0614884697126393)\n",
      "top50 result:\n",
      "avg_length:  (16.925220717916797, 1.1975878514748912)\n",
      "suc_rate:  (0.16381600788463535, 0.06354448635932486)\n"
     ]
    }
   ],
   "source": [
    "table_path = \"../tables/reproducing/beer/lp1simplified_top100_50users_diff.csv\"\n",
    "df = load_dataframe_csv(table_path,\"\")  \n",
    "\n",
    "# rating diff \n",
    "print (\"top1 result:\")\n",
    "get_2_metric(df, topk = 1, print_result= True)\n",
    "\n",
    "print (\"top5 result:\")\n",
    "get_2_metric(df, topk = 5, print_result= True)\n",
    "\n",
    "print (\"top10 result:\")\n",
    "get_2_metric(df, topk = 10, print_result= True)\n",
    "\n",
    "print ('top20 result:')\n",
    "get_2_metric(df, topk = 20, print_result= True)\n",
    "\n",
    "print ('top50 result:')\n",
    "get_2_metric(df, topk = 50, print_result= True)"
   ]
  },
  {
   "cell_type": "markdown",
   "metadata": {},
   "source": [
    "### RankSVM3"
   ]
  },
  {
   "cell_type": "code",
   "execution_count": 248,
   "metadata": {},
   "outputs": [
    {
     "data": {
      "text/plain": [
       "(0.0001,\n",
       " (15.759583361446104, 1.5417415098045595),\n",
       " (0.23833228137149703, 0.08512265198286892))"
      ]
     },
     "execution_count": 248,
     "metadata": {},
     "output_type": "execute_result"
    }
   ],
   "source": [
    "get_best_metric_with_single_lambda(data_path = \"\", \n",
    "                                   lambs = [0.0001, 0.001, 0.01, 0.05, 0.1, 0.5, 1, 5, 10, 30, 50, 70, 90, 100, 200, 500, 1000, 10000, 100000],\n",
    "                                   dataset_name = \"beer\", \n",
    "                                   keyphrase_selection_method = \"diff\",\n",
    "                                   topk = 20, \n",
    "                                   return_all = False)"
   ]
  },
  {
   "cell_type": "code",
   "execution_count": 246,
   "metadata": {},
   "outputs": [
    {
     "name": "stdout",
     "output_type": "stream",
     "text": [
      "top1 result:\n",
      "avg_length:  (19.00496204412871, 0.7102924877807976)\n",
      "suc_rate:  (0.08116280596672754, 0.06397039354138734)\n",
      "top5 result:\n",
      "avg_length:  (17.597803461970127, 1.1630273528838047)\n",
      "suc_rate:  (0.15395452949374516, 0.07644532943557877)\n",
      "top10 result:\n",
      "avg_length:  (16.913637504470838, 1.3778430179926433)\n",
      "suc_rate:  (0.1794888408613899, 0.07794923950722438)\n",
      "top20 result:\n",
      "avg_length:  (15.759583361446104, 1.5417415098045595)\n",
      "suc_rate:  (0.23833228137149703, 0.08512265198286892)\n",
      "top50 result:\n",
      "avg_length:  (13.755153258143455, 1.6641026938409798)\n",
      "suc_rate:  (0.35802075012859325, 0.09329036252246106)\n"
     ]
    }
   ],
   "source": [
    "table_path = \"../tables/tuning_lambda/beer/tuning_beer_at_lamb_0.0001_with_diff.csv\"\n",
    "df = load_dataframe_csv(table_path,\"\")\n",
    "\n",
    "# ranksvm3 diff \n",
    "print (\"top1 result:\")\n",
    "get_2_metric(df, topk = 1, print_result= True)\n",
    "\n",
    "print (\"top5 result:\")\n",
    "get_2_metric(df, topk = 5, print_result= True)\n",
    "\n",
    "print (\"top10 result:\")\n",
    "get_2_metric(df, topk = 10, print_result= True)\n",
    "\n",
    "print ('top20 result:')\n",
    "get_2_metric(df, topk = 20, print_result= True)\n",
    "\n",
    "print ('top50 result:')\n",
    "get_2_metric(df, topk = 50, print_result= True)"
   ]
  },
  {
   "cell_type": "markdown",
   "metadata": {},
   "source": [
    "# CD "
   ]
  },
  {
   "cell_type": "markdown",
   "metadata": {},
   "source": [
    "## Random"
   ]
  },
  {
   "cell_type": "markdown",
   "metadata": {},
   "source": [
    "### Average"
   ]
  },
  {
   "cell_type": "code",
   "execution_count": 263,
   "metadata": {},
   "outputs": [
    {
     "name": "stdout",
     "output_type": "stream",
     "text": [
      "top1 result:\n",
      "avg_length:  (15.330252525252524, 0.9154090905344333)\n",
      "suc_rate:  (0.02, 0.02715855666268)\n",
      "top5 result:\n",
      "avg_length:  (14.565560217560218, 1.0099158700747741)\n",
      "suc_rate:  (0.06098290598290598, 0.04143737957985024)\n",
      "top10 result:\n",
      "avg_length:  (13.179090132090131, 1.0861944539214539)\n",
      "suc_rate:  (0.1436153846153846, 0.05652049994804877)\n",
      "top20 result:\n",
      "avg_length:  (11.815252525252527, 1.2129030520469177)\n",
      "suc_rate:  (0.2342820512820513, 0.076645945997584)\n",
      "top50 result:\n",
      "avg_length:  (9.189067599067599, 1.2666736042577258)\n",
      "suc_rate:  (0.43297824397824397, 0.09498761451865143)\n"
     ]
    }
   ],
   "source": [
    "# average random\n",
    "table_path = \"../tables/reproducing/cd/avg_50users_random.csv\"\n",
    "df = load_dataframe_csv(table_path,\"\")   \n",
    "\n",
    "# avg random \n",
    "print (\"top1 result:\")\n",
    "get_2_metric(df, topk = 1, print_result= True)\n",
    "\n",
    "print (\"top5 result:\")\n",
    "get_2_metric(df, topk = 5, print_result= True)\n",
    "\n",
    "print (\"top10 result:\")\n",
    "get_2_metric(df, topk = 10, print_result= True)\n",
    "\n",
    "print ('top20 result:')\n",
    "get_2_metric(df, topk = 20, print_result= True)\n",
    "\n",
    "print ('top50 result:')\n",
    "get_2_metric(df, topk = 50, print_result= True)"
   ]
  },
  {
   "cell_type": "markdown",
   "metadata": {},
   "source": [
    "### Rating"
   ]
  },
  {
   "cell_type": "code",
   "execution_count": 265,
   "metadata": {},
   "outputs": [
    {
     "name": "stdout",
     "output_type": "stream",
     "text": [
      "top1 result:\n",
      "avg_length:  (14.728030303030302, 0.9805020354671313)\n",
      "suc_rate:  (0.04488888888888889, 0.032916648249033766)\n",
      "top5 result:\n",
      "avg_length:  (13.20812432012432, 1.124248430608588)\n",
      "suc_rate:  (0.15496581196581197, 0.06096709454739042)\n",
      "top10 result:\n",
      "avg_length:  (12.257836829836831, 1.2004344612045517)\n",
      "suc_rate:  (0.19645687645687646, 0.06751396921668301)\n",
      "top20 result:\n",
      "avg_length:  (11.25860606060606, 1.1764097751062257)\n",
      "suc_rate:  (0.26455089355089356, 0.07639058068222888)\n",
      "top50 result:\n",
      "avg_length:  (9.500571872571873, 1.263131624214617)\n",
      "suc_rate:  (0.379055167055167, 0.0906789451734067)\n"
     ]
    }
   ],
   "source": [
    "table_path = \"../tables/reproducing/cd/lp1simplified_top100_random.csv\"\n",
    "df = load_dataframe_csv(table_path,\"\")  \n",
    "\n",
    "# rating random \n",
    "print (\"top1 result:\")\n",
    "get_2_metric(df, topk = 1, print_result= True)\n",
    "\n",
    "print (\"top5 result:\")\n",
    "get_2_metric(df, topk = 5, print_result= True)\n",
    "\n",
    "print (\"top10 result:\")\n",
    "get_2_metric(df, topk = 10, print_result= True)\n",
    "\n",
    "print ('top20 result:')\n",
    "get_2_metric(df, topk = 20, print_result= True)\n",
    "\n",
    "print ('top50 result:')\n",
    "get_2_metric(df, topk = 50, print_result= True)"
   ]
  },
  {
   "cell_type": "markdown",
   "metadata": {},
   "source": [
    "### RankSVM3"
   ]
  },
  {
   "cell_type": "code",
   "execution_count": 249,
   "metadata": {},
   "outputs": [
    {
     "data": {
      "text/plain": [
       "(1,\n",
       " (11.445679875679877, 1.1777676820860519),\n",
       " (0.25874358974358974, 0.0814482211780933))"
      ]
     },
     "execution_count": 249,
     "metadata": {},
     "output_type": "execute_result"
    }
   ],
   "source": [
    "get_best_metric_with_single_lambda(data_path = \"\", \n",
    "                                   lambs = [0.0001, 0.001, 0.01, 0.05, 0.1, 0.5, 1, 5, 10, 30, 50, 70, 90, 100, 200, 500, 1000, 10000, 100000],\n",
    "                                   dataset_name = \"cd\", \n",
    "                                   keyphrase_selection_method = \"random\",\n",
    "                                   topk = 20, \n",
    "                                   return_all = False)"
   ]
  },
  {
   "cell_type": "code",
   "execution_count": 251,
   "metadata": {},
   "outputs": [
    {
     "name": "stdout",
     "output_type": "stream",
     "text": [
      "top1 result:\n",
      "avg_length:  (15.51269696969697, 0.8872857281923647)\n",
      "suc_rate:  (0.00044444444444444447, 0.0008623560033670605)\n",
      "top5 result:\n",
      "avg_length:  (14.507654234654234, 1.0675023525914091)\n",
      "suc_rate:  (0.06887179487179487, 0.04190257852605433)\n",
      "top10 result:\n",
      "avg_length:  (12.904295260295262, 1.0185065526439159)\n",
      "suc_rate:  (0.17385470085470087, 0.06176702370735052)\n",
      "top20 result:\n",
      "avg_length:  (11.445679875679877, 1.1777676820860519)\n",
      "suc_rate:  (0.25874358974358974, 0.0814482211780933)\n",
      "top50 result:\n",
      "avg_length:  (9.476691530691532, 1.095483144627841)\n",
      "suc_rate:  (0.4123628593628594, 0.07778894528541312)\n"
     ]
    }
   ],
   "source": [
    "table_path = \"../tables/tuning_lambda/cd/tuning_cd_at_lamb_1_with_random.csv\"\n",
    "df = load_dataframe_csv(table_path,\"\")\n",
    "\n",
    "# ranksvm3 random \n",
    "print (\"top1 result:\")\n",
    "get_2_metric(df, topk = 1, print_result= True)\n",
    "\n",
    "print (\"top5 result:\")\n",
    "get_2_metric(df, topk = 5, print_result= True)\n",
    "\n",
    "print (\"top10 result:\")\n",
    "get_2_metric(df, topk = 10, print_result= True)\n",
    "\n",
    "print ('top20 result:')\n",
    "get_2_metric(df, topk = 20, print_result= True)\n",
    "\n",
    "print ('top50 result:')\n",
    "get_2_metric(df, topk = 50, print_result= True)"
   ]
  },
  {
   "cell_type": "markdown",
   "metadata": {},
   "source": [
    "## Diff"
   ]
  },
  {
   "cell_type": "markdown",
   "metadata": {},
   "source": [
    "### Average"
   ]
  },
  {
   "cell_type": "code",
   "execution_count": 266,
   "metadata": {},
   "outputs": [
    {
     "name": "stdout",
     "output_type": "stream",
     "text": [
      "top1 result:\n",
      "avg_length:  (19.80688888888889, 0.36858341191401006)\n",
      "suc_rate:  (0.010444444444444445, 0.019404574377332576)\n",
      "top5 result:\n",
      "avg_length:  (18.88533333333333, 0.7358294917565255)\n",
      "suc_rate:  (0.0782222222222222, 0.0461964521495956)\n",
      "top10 result:\n",
      "avg_length:  (17.133923076923075, 1.1366983255576752)\n",
      "suc_rate:  (0.1738717948717949, 0.06721606111703819)\n",
      "top20 result:\n",
      "avg_length:  (15.454273504273504, 1.4980372058706233)\n",
      "suc_rate:  (0.24950427350427348, 0.08179478911531693)\n",
      "top50 result:\n",
      "avg_length:  (11.965618492618495, 1.6157171906561767)\n",
      "suc_rate:  (0.44497824397824404, 0.08505796618004202)\n"
     ]
    }
   ],
   "source": [
    "# average random\n",
    "table_path = \"../tables/reproducing/cd/avg_50users_diff.csv\"\n",
    "df = load_dataframe_csv(table_path,\"\")   \n",
    "\n",
    "# avg random \n",
    "print (\"top1 result:\")\n",
    "get_2_metric(df, topk = 1, print_result= True)\n",
    "\n",
    "print (\"top5 result:\")\n",
    "get_2_metric(df, topk = 5, print_result= True)\n",
    "\n",
    "print (\"top10 result:\")\n",
    "get_2_metric(df, topk = 10, print_result= True)\n",
    "\n",
    "print ('top20 result:')\n",
    "get_2_metric(df, topk = 20, print_result= True)\n",
    "\n",
    "print ('top50 result:')\n",
    "get_2_metric(df, topk = 50, print_result= True)"
   ]
  },
  {
   "cell_type": "markdown",
   "metadata": {},
   "source": [
    "### Rating"
   ]
  },
  {
   "cell_type": "code",
   "execution_count": 267,
   "metadata": {},
   "outputs": [
    {
     "name": "stdout",
     "output_type": "stream",
     "text": [
      "top1 result:\n",
      "avg_length:  (19.108, 0.626048286455783)\n",
      "suc_rate:  (0.05244444444444443, 0.03473969923038027)\n",
      "top5 result:\n",
      "avg_length:  (17.29931623931624, 1.0772688452562702)\n",
      "suc_rate:  (0.15252136752136752, 0.05982914064609926)\n",
      "top10 result:\n",
      "avg_length:  (16.317216783216782, 1.2821504540765372)\n",
      "suc_rate:  (0.20125174825174824, 0.06886181784401578)\n",
      "top20 result:\n",
      "avg_length:  (15.20365268065268, 1.3950310563510468)\n",
      "suc_rate:  (0.2574568764568765, 0.07410571071925763)\n",
      "top50 result:\n",
      "avg_length:  (12.858071484071486, 1.5746680337512364)\n",
      "suc_rate:  (0.39329448329448324, 0.08459444984284296)\n"
     ]
    }
   ],
   "source": [
    "table_path = \"../tables/reproducing/cd/lp1simplified_top100_diff.csv\"\n",
    "df = load_dataframe_csv(table_path,\"\")  \n",
    "\n",
    "# rating random \n",
    "print (\"top1 result:\")\n",
    "get_2_metric(df, topk = 1, print_result= True)\n",
    "\n",
    "print (\"top5 result:\")\n",
    "get_2_metric(df, topk = 5, print_result= True)\n",
    "\n",
    "print (\"top10 result:\")\n",
    "get_2_metric(df, topk = 10, print_result= True)\n",
    "\n",
    "print ('top20 result:')\n",
    "get_2_metric(df, topk = 20, print_result= True)\n",
    "\n",
    "print ('top50 result:')\n",
    "get_2_metric(df, topk = 50, print_result= True)"
   ]
  },
  {
   "cell_type": "markdown",
   "metadata": {},
   "source": [
    "### RankSVM3"
   ]
  },
  {
   "cell_type": "code",
   "execution_count": 255,
   "metadata": {},
   "outputs": [
    {
     "data": {
      "text/plain": [
       "(0.5,\n",
       " (15.701196581196582, 1.3644102903578286),\n",
       " (0.24994871794871792, 0.07898130125943605))"
      ]
     },
     "execution_count": 255,
     "metadata": {},
     "output_type": "execute_result"
    }
   ],
   "source": [
    "get_best_metric_with_single_lambda(data_path = \"\", \n",
    "                                   lambs = [0.0001, 0.001, 0.01, 0.05, 0.1, 0.5, 1, 5, 10, 30, 50, 70, 90, 100, 200, 500, 1000, 10000, 100000],\n",
    "                                   dataset_name = \"cd\", \n",
    "                                   keyphrase_selection_method = \"diff\",\n",
    "                                   topk = 20, \n",
    "                                   return_all = False)"
   ]
  },
  {
   "cell_type": "code",
   "execution_count": 256,
   "metadata": {},
   "outputs": [
    {
     "name": "stdout",
     "output_type": "stream",
     "text": [
      "top1 result:\n",
      "avg_length:  (19.80377777777778, 0.36860848708114)\n",
      "suc_rate:  (0.010888888888888887, 0.019444421546653188)\n",
      "top5 result:\n",
      "avg_length:  (18.973444444444443, 0.6850892426333598)\n",
      "suc_rate:  (0.06744444444444443, 0.044688520031628744)\n",
      "top10 result:\n",
      "avg_length:  (17.21054700854701, 1.112399545918299)\n",
      "suc_rate:  (0.1645384615384615, 0.06600664793263698)\n",
      "top20 result:\n",
      "avg_length:  (15.701196581196582, 1.3644102903578286)\n",
      "suc_rate:  (0.24994871794871792, 0.07898130125943605)\n",
      "top50 result:\n",
      "avg_length:  (12.702292152292152, 1.5786776267931855)\n",
      "suc_rate:  (0.40538228438228435, 0.0864953934289889)\n"
     ]
    }
   ],
   "source": [
    "table_path = \"../tables/tuning_lambda/cd/tuning_cd_at_lamb_0.5_with_diff.csv\"\n",
    "df = load_dataframe_csv(table_path,\"\")\n",
    "\n",
    "# ranksvm3 random \n",
    "print (\"top1 result:\")\n",
    "get_2_metric(df, topk = 1, print_result= True)\n",
    "\n",
    "print (\"top5 result:\")\n",
    "get_2_metric(df, topk = 5, print_result= True)\n",
    "\n",
    "print (\"top10 result:\")\n",
    "get_2_metric(df, topk = 10, print_result= True)\n",
    "\n",
    "print ('top20 result:')\n",
    "get_2_metric(df, topk = 20, print_result= True)\n",
    "\n",
    "print ('top50 result:')\n",
    "get_2_metric(df, topk = 50, print_result= True)"
   ]
  }
 ],
 "metadata": {
  "kernelspec": {
   "display_name": "Python 3",
   "language": "python",
   "name": "python3"
  },
  "language_info": {
   "codemirror_mode": {
    "name": "ipython",
    "version": 3
   },
   "file_extension": ".py",
   "mimetype": "text/x-python",
   "name": "python",
   "nbconvert_exporter": "python",
   "pygments_lexer": "ipython3",
   "version": "3.6.10"
  }
 },
 "nbformat": 4,
 "nbformat_minor": 2
}
