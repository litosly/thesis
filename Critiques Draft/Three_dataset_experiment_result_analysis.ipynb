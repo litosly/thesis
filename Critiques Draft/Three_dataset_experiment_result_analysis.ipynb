{
 "cells": [
  {
   "cell_type": "markdown",
   "metadata": {},
   "source": [
    "# Keyphrase Boosting "
   ]
  },
  {
   "cell_type": "code",
   "execution_count": 1,
   "metadata": {},
   "outputs": [],
   "source": [
    "import matplotlib.pyplot as plt\n",
    "import seaborn as sns\n",
    "import pandas as pd\n",
    "import numpy as np\n",
    "import math"
   ]
  },
  {
   "cell_type": "code",
   "execution_count": 2,
   "metadata": {},
   "outputs": [],
   "source": [
    "def save_dataframe_csv(df, path, name):\n",
    "    df.to_csv(path+name, index=False)\n",
    "\n",
    "def load_dataframe_csv(path, name, index_col=None):\n",
    "    return pd.read_csv(path+name, index_col=index_col)"
   ]
  },
  {
   "cell_type": "code",
   "execution_count": 3,
   "metadata": {},
   "outputs": [],
   "source": [
    "def get_average_length(df, n):\n",
    "    df_s_f = df[(df['result'] == 'successful') | (df['result'] == 'fail')]\n",
    "    iteration = df_s_f[df_s_f['target_rank']==n].groupby('user_id', as_index=False).agg({'iteration':'mean'})['iteration'].to_numpy()\n",
    "    return (np.average(iteration), 1.96*np.std(iteration)/np.sqrt(len(iteration)))\n",
    "\n",
    "def get_success_num(df, n):\n",
    "    return len(df[(df['result'] == 'successful') & (df['target_rank'] == n)])\n",
    "\n",
    "def get_fail_num(df, n):\n",
    "    return len(df[(df['result'] == 'fail') & (df['target_rank'] == n)])\n",
    "\n",
    "def get_success_rate(df, n):\n",
    "    df_s_f = df[(df['result'] == 'successful') | (df['result'] == 'fail')]\n",
    "    df_list_result = df_s_f[df_s_f['target_rank']==n].groupby('user_id', as_index=False)['result'].apply(list).reset_index(name='result')\n",
    "    successful_rate = df_list_result['result'].apply(lambda r: r.count(\"successful\")/len(r)).to_numpy()\n",
    "    return (np.average(successful_rate), 1.96*np.std(successful_rate)/np.sqrt(len(successful_rate)))\n",
    "\n"
   ]
  },
  {
   "cell_type": "code",
   "execution_count": 4,
   "metadata": {},
   "outputs": [],
   "source": [
    "def get_2_metric(df, topk = 1, print_result = True):\n",
    "    if topk != 1:\n",
    "        df = change_target_rank(df,topk=topk)\n",
    "    if print_result:\n",
    "        print ('avg_length: ',get_average_length(df,topk))\n",
    "        print ('suc_rate: ',get_success_rate(df,topk))\n",
    "        return \n",
    "    else:\n",
    "        return get_average_length(df,topk), get_success_rate(df,topk)"
   ]
  },
  {
   "cell_type": "code",
   "execution_count": 107,
   "metadata": {},
   "outputs": [],
   "source": [
    "def get_best_metric_with_single_lambda(data_path, lambs, dataset_name = \"yelp\", keyphrase_selection_method = \"random\",topk = 20, return_all = False, top_affected = None):\n",
    "    avg_lengths = []\n",
    "    suc_rates = []\n",
    "    for lamb in lambs:\n",
    "        table_name = '../tables/tuning_lambda/'+dataset_name+'/tuning_'+dataset_name+'_at_lamb_'+ str(lamb)+'_with_'+ keyphrase_selection_method+'.csv'\n",
    "        if top_affected != None:\n",
    "            table_name = '../tables/tuning_lambda/topk_' + str(top_affected) +'/'+dataset_name+'/tuning_'+dataset_name+'_at_lamb_'+ str(lamb)+'_with_'+ keyphrase_selection_method+'.csv'\n",
    "        df = load_dataframe_csv(data_path, table_name)\n",
    "        avg_length, suc_rate = get_2_metric(df, topk = topk, print_result = False)\n",
    "\n",
    "        avg_lengths.append(avg_length)\n",
    "        suc_rates.append(suc_rate)\n",
    "        \n",
    "    if return_all:\n",
    "        return avg_lengths, suc_rates\n",
    "    else:\n",
    "        suc_rates_temp = [suc_rate[0] for suc_rate in suc_rates]\n",
    "        optimal_lambda_index = np.argmax(suc_rates_temp)\n",
    "#         print (optimal_lambda_index)\n",
    "        return lambs[optimal_lambda_index], avg_lengths[optimal_lambda_index], suc_rates[optimal_lambda_index]"
   ]
  },
  {
   "cell_type": "code",
   "execution_count": 6,
   "metadata": {},
   "outputs": [],
   "source": [
    "def get_drop_index(df, topk = 20):\n",
    "    drop_index = []\n",
    "    iter_flag = 0 \n",
    "\n",
    "    for i in range(len(df)):\n",
    "        if df[\"iteration\"][i] == 0:\n",
    "            iter_flag = 0\n",
    "        if df['item_rank'][i] < topk and iter_flag == 0:\n",
    "            iter_flag = 1\n",
    "        elif iter_flag == 1:\n",
    "            drop_index.append(i)\n",
    "    return drop_index        \n",
    "def change_target_rank(df,topk = 20):\n",
    "    modified_df = df.drop(get_drop_index(df,topk = topk))\n",
    "    modified_df = modified_df.reset_index(drop=True)\n",
    "    modified_df['target_rank'] = topk\n",
    "    for i in range(len(modified_df)):\n",
    "        if modified_df['item_rank'][i] < modified_df['target_rank'][i]:\n",
    "            modified_df.at[i,\"result\"] = \"successful\"\n",
    "    return modified_df"
   ]
  },
  {
   "cell_type": "code",
   "execution_count": 146,
   "metadata": {},
   "outputs": [],
   "source": [
    "table_path = \"../tables/reproducing/beer/lp1simplified_top100_sample_25users.csv\"\n",
    "df = load_dataframe_csv(table_path,\"\")    "
   ]
  },
  {
   "cell_type": "code",
   "execution_count": 187,
   "metadata": {},
   "outputs": [],
   "source": [
    "table_path = \"../tables/reproducing/beer/lp1simplified_top100_50users_random.csv\"\n",
    "df = load_dataframe_csv(table_path,\"\")    "
   ]
  },
  {
   "cell_type": "code",
   "execution_count": 151,
   "metadata": {
    "scrolled": true
   },
   "outputs": [
    {
     "name": "stdout",
     "output_type": "stream",
     "text": [
      "top1 result:\n",
      "avg_length:  (19.74962962962963, 0.29107414958393807)\n",
      "suc_rate:  (0.022623456790123456, 0.020989635923557414)\n",
      "top20 result:\n",
      "avg_length:  (17.746574074074076, 1.1476013615327938)\n",
      "suc_rate:  (0.1270356803690137, 0.0616629059833558)\n"
     ]
    }
   ],
   "source": [
    "# new rating random \n",
    "print (\"top1 result:\")\n",
    "get_2_metric(df, topk = 1, print_result= True)\n",
    "print ('top20 result:')\n",
    "df_20 = change_target_rank(df,topk=20)\n",
    "get_2_metric(df_20, topk = 20, print_result= True)"
   ]
  },
  {
   "cell_type": "code",
   "execution_count": 167,
   "metadata": {},
   "outputs": [],
   "source": [
    "# average random\n",
    "table_path = \"../tables/reproducing/beer/avg_top100_sample_25users.csv\"\n",
    "df = load_dataframe_csv(table_path,\"\")  "
   ]
  },
  {
   "cell_type": "code",
   "execution_count": 168,
   "metadata": {
    "scrolled": true
   },
   "outputs": [
    {
     "name": "stdout",
     "output_type": "stream",
     "text": [
      "top1 result:\n",
      "avg_length:  (19.958333333333332, 0.07994717584709247)\n",
      "suc_rate:  (0.005208333333333333, 0.009993396980886561)\n",
      "top20 result:\n",
      "avg_length:  (17.770470787382553, 1.0594595506005924)\n",
      "suc_rate:  (0.17312225719088464, 0.07581358661361602)\n"
     ]
    }
   ],
   "source": [
    " print (\"top1 result:\")\n",
    "get_2_metric(df, topk = 1, print_result= True)\n",
    "print ('top20 result:')\n",
    "get_2_metric(df_20, topk = 20, print_result= True)"
   ]
  },
  {
   "cell_type": "code",
   "execution_count": 169,
   "metadata": {},
   "outputs": [],
   "source": [
    "# RankSVM3 random\n",
    "dataset_name = \"beer\"\n",
    "lamb = 0.01\n",
    "keyphrase_selection_method = \"random\"\n",
    "table_path = '../tables/tuning_lambda/'+dataset_name+'/tuning_'+dataset_name+'_at_lamb_'+ str(lamb)+'_with_'+ keyphrase_selection_method+'.csv'\n",
    "df = load_dataframe_csv(table_path,\"\")     "
   ]
  },
  {
   "cell_type": "code",
   "execution_count": 170,
   "metadata": {},
   "outputs": [
    {
     "name": "stdout",
     "output_type": "stream",
     "text": [
      "top1 result:\n",
      "avg_length:  (19.92509259259259, 0.09356016847696566)\n",
      "suc_rate:  (0.00558641975308642, 0.006657888556071205)\n",
      "top20 result:\n",
      "avg_length:  (17.770470787382553, 1.0594595506005924)\n",
      "suc_rate:  (0.17312225719088464, 0.07581358661361602)\n"
     ]
    }
   ],
   "source": [
    " print (\"top1 result:\")\n",
    "get_2_metric(df, topk = 1, print_result= True)\n",
    "print ('top20 result:')\n",
    "get_2_metric(df_20, topk = 20, print_result= True)"
   ]
  },
  {
   "cell_type": "code",
   "execution_count": 137,
   "metadata": {},
   "outputs": [
    {
     "name": "stdout",
     "output_type": "stream",
     "text": [
      "avg_length:  (19.308145135547093, 0.510198578509671)\n",
      "suc_rate:  (0.04709948366811111, 0.033635644108119644)\n"
     ]
    }
   ],
   "source": [
    "get_2_metric(df, topk = 1, print_result= True)"
   ]
  },
  {
   "cell_type": "code",
   "execution_count": 140,
   "metadata": {
    "scrolled": false
   },
   "outputs": [
    {
     "name": "stdout",
     "output_type": "stream",
     "text": [
      "avg_length:  (16.003874304707637, 1.4707664579856916)\n",
      "suc_rate:  (0.22928394408786568, 0.08431886915092991)\n"
     ]
    }
   ],
   "source": [
    "df_20 = change_target_rank(df,topk=20)\n",
    "get_2_metric(df_20, topk = 20, print_result= True)"
   ]
  },
  {
   "cell_type": "code",
   "execution_count": 141,
   "metadata": {},
   "outputs": [],
   "source": [
    "dataset_name = \"beer\"\n",
    "lamb = 1\n",
    "keyphrase_selection_method = \"random\"\n",
    "table_path = '../tables/tuning_lambda/'+dataset_name+'/tuning_'+dataset_name+'_at_lamb_'+ str(lamb)+'_with_'+ keyphrase_selection_method+'.csv'\n",
    "df = load_dataframe_csv(table_path,\"\")"
   ]
  },
  {
   "cell_type": "code",
   "execution_count": 142,
   "metadata": {},
   "outputs": [
    {
     "name": "stdout",
     "output_type": "stream",
     "text": [
      "avg_length:  (19.870587437254105, 0.14267671270303392)\n",
      "suc_rate:  (0.018618572785239453, 0.02253631479002173)\n"
     ]
    }
   ],
   "source": [
    "get_2_metric(df, topk = 1, print_result= True)"
   ]
  },
  {
   "cell_type": "code",
   "execution_count": 143,
   "metadata": {
    "scrolled": true
   },
   "outputs": [
    {
     "name": "stdout",
     "output_type": "stream",
     "text": [
      "avg_length:  (18.15803243053243, 1.0057396691448985)\n",
      "suc_rate:  (0.10936757686757687, 0.05489371263025239)\n"
     ]
    }
   ],
   "source": [
    "df_20 = change_target_rank(df,topk=20)\n",
    "get_2_metric(df_20, topk = 20, print_result= True)"
   ]
  },
  {
   "cell_type": "markdown",
   "metadata": {},
   "source": [
    "# Table for Overleaf"
   ]
  },
  {
   "cell_type": "code",
   "execution_count": 121,
   "metadata": {},
   "outputs": [],
   "source": [
    "def latex_row(df, table_name = \"success_rate\", value_precision = 3, uncertainty_precision = 4):\n",
    "    row = {}\n",
    "    for i in columns:\n",
    "        sr, al = get_2_metric(df, topk = i,  print_result=False)\n",
    "        if table_name == \"success_rate\":\n",
    "            metric = al\n",
    "        else:\n",
    "            metric = sr\n",
    "        row[i] = str(round(metric[0],value_precision)) + r'$\\pm$' + str(round(metric[1],uncertainty_precision))\n",
    "    return row"
   ]
  },
  {
   "cell_type": "code",
   "execution_count": 122,
   "metadata": {},
   "outputs": [],
   "source": [
    "def latex_table_row(df, table_name = \"success_rate\", value_precision = 3, uncertainty_precision = 4):\n",
    "    columns = [1,5,10,20,50] \n",
    "    table = pd.DataFrame(columns=columns)\n",
    "    row = latex_row(df, \n",
    "                     table_name = table_name, \n",
    "                     value_precision = value_precision, \n",
    "                     uncertainty_precision = uncertainty_precision)\n",
    "    table = table.append(row, ignore_index=True)\n",
    "    print (table.to_latex(escape=False))"
   ]
  },
  {
   "cell_type": "code",
   "execution_count": 123,
   "metadata": {},
   "outputs": [
    {
     "name": "stdout",
     "output_type": "stream",
     "text": [
      "\\begin{tabular}{llllll}\n",
      "\\toprule\n",
      "{} &                1  &                5  &               10 &                20 &                50 \\\\\n",
      "\\midrule\n",
      "0 &  0.015$\\pm$0.0218 &  0.069$\\pm$0.0508 &  0.127$\\pm$0.076 &  0.195$\\pm$0.0835 &  0.243$\\pm$0.0842 \\\\\n",
      "\\bottomrule\n",
      "\\end{tabular}\n",
      "\n"
     ]
    }
   ],
   "source": [
    "latex_table_row(df, table_name = \"success_rate\", value_precision = 3, uncertainty_precision = 4)"
   ]
  },
  {
   "cell_type": "markdown",
   "metadata": {},
   "source": [
    "# Yelp"
   ]
  },
  {
   "cell_type": "markdown",
   "metadata": {},
   "source": [
    "## Random"
   ]
  },
  {
   "cell_type": "markdown",
   "metadata": {},
   "source": [
    "### Avg"
   ]
  },
  {
   "cell_type": "code",
   "execution_count": 127,
   "metadata": {},
   "outputs": [],
   "source": [
    "# average random\n",
    "table_path = \"../tables/reproducing/yelp/average_50_users_random.csv\"\n",
    "df = load_dataframe_csv(table_path,\"\")   "
   ]
  },
  {
   "cell_type": "code",
   "execution_count": 128,
   "metadata": {},
   "outputs": [
    {
     "name": "stdout",
     "output_type": "stream",
     "text": [
      "\\begin{tabular}{llllll}\n",
      "\\toprule\n",
      "{} &               1  &                5  &                10 &                20 &                50 \\\\\n",
      "\\midrule\n",
      "0 &  0.0158$\\pm$0.01 &  0.0552$\\pm$0.019 &  0.0845$\\pm$0.024 &  0.1316$\\pm$0.029 &  0.2153$\\pm$0.039 \\\\\n",
      "\\bottomrule\n",
      "\\end{tabular}\n",
      "\n",
      "\\begin{tabular}{llllll}\n",
      "\\toprule\n",
      "{} &                1  &                5  &                10 &                20 &                50 \\\\\n",
      "\\midrule\n",
      "0 &  19.036$\\pm$0.357 &  18.603$\\pm$0.377 &  18.155$\\pm$0.465 &  17.454$\\pm$0.524 &  16.145$\\pm$0.659 \\\\\n",
      "\\bottomrule\n",
      "\\end{tabular}\n",
      "\n"
     ]
    }
   ],
   "source": [
    "latex_table_row(df, table_name = \"success_rate\", value_precision = 4, uncertainty_precision = 3)\n",
    "latex_table_row(df, table_name = \"avg_length\", value_precision = 3, uncertainty_precision = 3)"
   ]
  },
  {
   "cell_type": "code",
   "execution_count": 237,
   "metadata": {},
   "outputs": [
    {
     "name": "stdout",
     "output_type": "stream",
     "text": [
      "top1 result:\n",
      "avg_length:  (19.03559877104511, 0.3572120449980587)\n",
      "suc_rate:  (0.015840222299200627, 0.009591226262474677)\n",
      "top5 result:\n",
      "avg_length:  (18.60254403037814, 0.37723308447177045)\n",
      "suc_rate:  (0.0551611808861551, 0.01883349549045509)\n",
      "top10 result:\n",
      "avg_length:  (18.15496984411071, 0.465279928173111)\n",
      "suc_rate:  (0.0845436633942826, 0.024319431068433355)\n",
      "top20 result:\n",
      "avg_length:  (17.453566172962457, 0.5241739324116091)\n",
      "suc_rate:  (0.13157701856489268, 0.028787120650399345)\n",
      "top50 result:\n",
      "avg_length:  (16.14465360276119, 0.6586009718201147)\n",
      "suc_rate:  (0.21532475636964804, 0.03851832752271652)\n"
     ]
    }
   ],
   "source": [
    "# avg random \n",
    "print (\"top1 result:\")\n",
    "get_2_metric(df, topk = 1, print_result= True)\n",
    "\n",
    "print (\"top5 result:\")\n",
    "get_2_metric(df, topk = 5, print_result= True)\n",
    "\n",
    "print (\"top10 result:\")\n",
    "get_2_metric(df, topk = 10, print_result= True)\n",
    "\n",
    "print ('top20 result:')\n",
    "get_2_metric(df, topk = 20, print_result= True)\n",
    "\n",
    "print ('top50 result:')\n",
    "get_2_metric(df, topk = 50, print_result= True)"
   ]
  },
  {
   "cell_type": "markdown",
   "metadata": {},
   "source": [
    "### Rating "
   ]
  },
  {
   "cell_type": "code",
   "execution_count": 133,
   "metadata": {},
   "outputs": [],
   "source": [
    "table_path = \"../tables/reproducing/yelp/lp1simplified_top100_50users_random.csv\"\n",
    "df = load_dataframe_csv(table_path,\"\")   "
   ]
  },
  {
   "cell_type": "code",
   "execution_count": 134,
   "metadata": {
    "scrolled": true
   },
   "outputs": [
    {
     "name": "stdout",
     "output_type": "stream",
     "text": [
      "\\begin{tabular}{llllll}\n",
      "\\toprule\n",
      "{} &                1  &               5  &               10 &                20 &                50 \\\\\n",
      "\\midrule\n",
      "0 &  0.0111$\\pm$0.009 &  0.022$\\pm$0.013 &  0.0384$\\pm$0.02 &  0.0665$\\pm$0.024 &  0.1224$\\pm$0.034 \\\\\n",
      "\\bottomrule\n",
      "\\end{tabular}\n",
      "\n",
      "\\begin{tabular}{llllll}\n",
      "\\toprule\n",
      "{} &                1  &               5  &                10 &                20 &                50 \\\\\n",
      "\\midrule\n",
      "0 &  19.029$\\pm$0.338 &  18.88$\\pm$0.347 &  18.624$\\pm$0.399 &  18.133$\\pm$0.514 &  17.178$\\pm$0.611 \\\\\n",
      "\\bottomrule\n",
      "\\end{tabular}\n",
      "\n"
     ]
    }
   ],
   "source": [
    "latex_table_row(df, table_name = \"success_rate\", value_precision = 4, uncertainty_precision = 3)\n",
    "latex_table_row(df, table_name = \"avg_length\", value_precision = 3, uncertainty_precision = 3)"
   ]
  },
  {
   "cell_type": "code",
   "execution_count": 235,
   "metadata": {},
   "outputs": [
    {
     "name": "stdout",
     "output_type": "stream",
     "text": [
      "top1 result:\n",
      "avg_length:  (19.028766511600622, 0.3384511962364016)\n",
      "suc_rate:  (0.011059850643183978, 0.008876222642763183)\n",
      "top5 result:\n",
      "avg_length:  (18.880373392374167, 0.3470727930073836)\n",
      "suc_rate:  (0.022017180350513685, 0.012945332297826436)\n",
      "top10 result:\n",
      "avg_length:  (18.624498653078376, 0.3991413461197096)\n",
      "suc_rate:  (0.03837325118026873, 0.019772108658030165)\n",
      "top20 result:\n",
      "avg_length:  (18.13328310793094, 0.5137145355516685)\n",
      "suc_rate:  (0.06651036776165775, 0.023884815401298304)\n",
      "top50 result:\n",
      "avg_length:  (17.177852856780877, 0.6105745073551999)\n",
      "suc_rate:  (0.12241955522786277, 0.034405594316651876)\n"
     ]
    }
   ],
   "source": [
    "# new rating random \n",
    "print (\"top1 result:\")\n",
    "get_2_metric(df, topk = 1, print_result= True)\n",
    "\n",
    "print (\"top5 result:\")\n",
    "get_2_metric(df, topk = 5, print_result= True)\n",
    "\n",
    "print (\"top10 result:\")\n",
    "get_2_metric(df, topk = 10, print_result= True)\n",
    "\n",
    "print ('top20 result:')\n",
    "get_2_metric(df, topk = 20, print_result= True)\n",
    "\n",
    "print ('top50 result:')\n",
    "get_2_metric(df, topk = 50, print_result= True)"
   ]
  },
  {
   "cell_type": "markdown",
   "metadata": {},
   "source": [
    "### RankSVM3"
   ]
  },
  {
   "cell_type": "code",
   "execution_count": 106,
   "metadata": {},
   "outputs": [
    {
     "data": {
      "text/plain": [
       "(10,\n",
       " (17.93324644749051, 0.44290528302809007),\n",
       " (0.12766005370236533, 0.03531259989093568))"
      ]
     },
     "execution_count": 106,
     "metadata": {},
     "output_type": "execute_result"
    }
   ],
   "source": [
    "# Top 20\n",
    "get_best_metric_with_single_lambda(data_path = \"\", \n",
    "                                   lambs = [0.0001, 0.001, 0.01, 0.05, 0.1, 0.5, 1, 5, 10, 30, 50, 70, 90, 100, 200, 500, 1000, 10000, 100000],\n",
    "                                   dataset_name = \"yelp\", \n",
    "                                   keyphrase_selection_method = \"random\",\n",
    "                                   topk = 20, \n",
    "                                   return_all = False)"
   ]
  },
  {
   "cell_type": "code",
   "execution_count": 227,
   "metadata": {},
   "outputs": [],
   "source": [
    "table_path = \"../tables/tuning_lambda/yelp/tuning_yelp_at_lamb_30_with_random.csv\"\n",
    "df = load_dataframe_csv(table_path,\"\")   "
   ]
  },
  {
   "cell_type": "code",
   "execution_count": 233,
   "metadata": {
    "scrolled": true
   },
   "outputs": [
    {
     "name": "stdout",
     "output_type": "stream",
     "text": [
      "top1 result:\n",
      "avg_length:  (19.034609094943203, 0.33549197179709683)\n",
      "suc_rate:  (0.022188999272332605, 0.012952897978773284)\n",
      "top5 result:\n",
      "avg_length:  (18.52658623330192, 0.38175761171278694)\n",
      "suc_rate:  (0.06590186454221543, 0.0256616527244365)\n",
      "top10 result:\n",
      "avg_length:  (18.103375154257506, 0.44793462922060046)\n",
      "suc_rate:  (0.090069070792755, 0.031621431885388136)\n",
      "top20 result:\n",
      "avg_length:  (17.36721675455035, 0.5360957700454426)\n",
      "suc_rate:  (0.14679590824456665, 0.035741131818330704)\n",
      "top50 result:\n",
      "avg_length:  (15.821626805474844, 0.7154176801839158)\n",
      "suc_rate:  (0.25878101731429903, 0.052692963315011165)\n"
     ]
    }
   ],
   "source": [
    "# ranksvm3 random \n",
    "print (\"top1 result:\")\n",
    "get_2_metric(df, topk = 1, print_result= True)\n",
    "\n",
    "print (\"top5 result:\")\n",
    "get_2_metric(df, topk = 5, print_result= True)\n",
    "\n",
    "print (\"top10 result:\")\n",
    "get_2_metric(df, topk = 10, print_result= True)\n",
    "\n",
    "print ('top20 result:')\n",
    "get_2_metric(df, topk = 20, print_result= True)\n",
    "\n",
    "print ('top50 result:')\n",
    "get_2_metric(df, topk = 50, print_result= True)"
   ]
  },
  {
   "cell_type": "code",
   "execution_count": 7,
   "metadata": {},
   "outputs": [
    {
     "data": {
      "text/plain": [
       "(0.1,\n",
       " (17.74606602943935, 0.4742818250689491),\n",
       " (0.11851021570448815, 0.03132887341800652))"
      ]
     },
     "execution_count": 7,
     "metadata": {},
     "output_type": "execute_result"
    }
   ],
   "source": [
    "## top 100\n",
    "get_best_metric_with_single_lambda(data_path = \"\", \n",
    "                                   lambs = [0.0001, 0.001, 0.01, 0.05, 0.1, 0.5, 1, 5, 10, 30, 50, 70, 90, 100, 200, 500, 1000, 10000, 100000],\n",
    "                                   dataset_name = \"yelp\", \n",
    "                                   keyphrase_selection_method = \"random\",\n",
    "                                   topk = 20, \n",
    "                                   return_all = False)"
   ]
  },
  {
   "cell_type": "code",
   "execution_count": 8,
   "metadata": {
    "scrolled": true
   },
   "outputs": [
    {
     "name": "stdout",
     "output_type": "stream",
     "text": [
      "top1 result:\n",
      "avg_length:  (19.160659241190714, 0.3416172378009567)\n",
      "suc_rate:  (0.010282946423297301, 0.00928726298792895)\n",
      "top5 result:\n",
      "avg_length:  (18.711211581962353, 0.34252710474322823)\n",
      "suc_rate:  (0.05088513744215499, 0.019464453019866164)\n",
      "top10 result:\n",
      "avg_length:  (18.216013514778993, 0.39560407979512496)\n",
      "suc_rate:  (0.08492479513377348, 0.025993019241378326)\n",
      "top20 result:\n",
      "avg_length:  (17.74606602943935, 0.4742818250689491)\n",
      "suc_rate:  (0.11851021570448815, 0.03132887341800652)\n",
      "top50 result:\n",
      "avg_length:  (16.612341300961013, 0.6677124645629706)\n",
      "suc_rate:  (0.19409974733633142, 0.04419279273860129)\n"
     ]
    }
   ],
   "source": [
    "table_path = \"../tables/tuning_lambda/yelp/tuning_yelp_at_lamb_0.1_with_random.csv\"\n",
    "df = load_dataframe_csv(table_path,\"\")   \n",
    "# ranksvm3 random \n",
    "print (\"top1 result:\")\n",
    "get_2_metric(df, topk = 1, print_result= True)\n",
    "\n",
    "print (\"top5 result:\")\n",
    "get_2_metric(df, topk = 5, print_result= True)\n",
    "\n",
    "print (\"top10 result:\")\n",
    "get_2_metric(df, topk = 10, print_result= True)\n",
    "\n",
    "print ('top20 result:')\n",
    "get_2_metric(df, topk = 20, print_result= True)\n",
    "\n",
    "print ('top50 result:')\n",
    "get_2_metric(df, topk = 50, print_result= True)"
   ]
  },
  {
   "cell_type": "code",
   "execution_count": 7,
   "metadata": {},
   "outputs": [
    {
     "data": {
      "text/plain": [
       "(10,\n",
       " (17.93324644749051, 0.44290528302809007),\n",
       " (0.12766005370236533, 0.03531259989093568))"
      ]
     },
     "execution_count": 7,
     "metadata": {},
     "output_type": "execute_result"
    }
   ],
   "source": [
    "## top 50\n",
    "get_best_metric_with_single_lambda(data_path = \"\", \n",
    "                                   lambs = [0.0001, 0.001, 0.01, 0.05, 0.1, 0.5, 1, 5, 10, 30, 50, 70, 90, 100, 200, 500, 1000, 10000, 100000],\n",
    "                                   dataset_name = \"yelp\", \n",
    "                                   keyphrase_selection_method = \"random\",\n",
    "                                   topk = 20, \n",
    "                                   return_all = False)"
   ]
  },
  {
   "cell_type": "code",
   "execution_count": 140,
   "metadata": {},
   "outputs": [
    {
     "data": {
      "text/plain": [
       "(10,\n",
       " (17.93324644749051, 0.44290528302809007),\n",
       " (0.12766005370236533, 0.03531259989093568))"
      ]
     },
     "execution_count": 140,
     "metadata": {},
     "output_type": "execute_result"
    }
   ],
   "source": [
    "get_best_metric_with_single_lambda(data_path = \"\", \n",
    "                                   lambs = [0.0001, 0.001, 0.01, 0.05, 0.1, 0.5, 1, 5, 10, 30, 50, 70, 90, 100, 200, 500, 1000, 10000, 100000],\n",
    "                                   dataset_name = \"yelp\", \n",
    "                                   keyphrase_selection_method = \"random\",\n",
    "                                   topk = 20, \n",
    "                                   return_all = False,\n",
    "                                   top_affected=50)"
   ]
  },
  {
   "cell_type": "code",
   "execution_count": 136,
   "metadata": {},
   "outputs": [
    {
     "name": "stdout",
     "output_type": "stream",
     "text": [
      "\\begin{tabular}{llllll}\n",
      "\\toprule\n",
      "{} &                1  &                5  &                10 &                20 &                50 \\\\\n",
      "\\midrule\n",
      "0 &  0.0226$\\pm$0.012 &  0.0764$\\pm$0.027 &  0.1097$\\pm$0.033 &  0.1623$\\pm$0.044 &  0.2587$\\pm$0.046 \\\\\n",
      "\\bottomrule\n",
      "\\end{tabular}\n",
      "\n",
      "\\begin{tabular}{llllll}\n",
      "\\toprule\n",
      "{} &                1  &                5  &               10 &                20 &                50 \\\\\n",
      "\\midrule\n",
      "0 &  18.983$\\pm$0.342 &  18.416$\\pm$0.413 &  17.998$\\pm$0.45 &  17.336$\\pm$0.566 &  15.944$\\pm$0.681 \\\\\n",
      "\\bottomrule\n",
      "\\end{tabular}\n",
      "\n"
     ]
    }
   ],
   "source": [
    "# top 10\n",
    "table_path = \"../tables/tuning_lambda/topk_10/yelp/tuning_yelp_at_lamb_70_with_random.csv\"\n",
    "df = load_dataframe_csv(table_path,\"\")   \n",
    "\n",
    "latex_table_row(df, table_name = \"success_rate\", value_precision = 4, uncertainty_precision = 3)\n",
    "latex_table_row(df, table_name = \"avg_length\", value_precision = 3, uncertainty_precision = 3)"
   ]
  },
  {
   "cell_type": "code",
   "execution_count": 141,
   "metadata": {},
   "outputs": [
    {
     "name": "stdout",
     "output_type": "stream",
     "text": [
      "\\begin{tabular}{llllll}\n",
      "\\toprule\n",
      "{} &                1  &                5  &                10 &                20 &                50 \\\\\n",
      "\\midrule\n",
      "0 &  0.0223$\\pm$0.014 &  0.0501$\\pm$0.022 &  0.0986$\\pm$0.033 &  0.1622$\\pm$0.041 &  0.2545$\\pm$0.054 \\\\\n",
      "\\bottomrule\n",
      "\\end{tabular}\n",
      "\n",
      "\\begin{tabular}{llllll}\n",
      "\\toprule\n",
      "{} &                1  &                5  &                10 &                20 &               50 \\\\\n",
      "\\midrule\n",
      "0 &  19.089$\\pm$0.342 &  18.696$\\pm$0.366 &  18.071$\\pm$0.452 &  17.389$\\pm$0.499 &  15.93$\\pm$0.755 \\\\\n",
      "\\bottomrule\n",
      "\\end{tabular}\n",
      "\n"
     ]
    }
   ],
   "source": [
    "# top 20\n",
    "table_path = \"../tables/tuning_lambda/topk_20/yelp/tuning_yelp_at_lamb_100000_with_random.csv\"\n",
    "df = load_dataframe_csv(table_path,\"\")   \n",
    "\n",
    "latex_table_row(df, table_name = \"success_rate\", value_precision = 4, uncertainty_precision = 3)\n",
    "latex_table_row(df, table_name = \"avg_length\", value_precision = 3, uncertainty_precision = 3)"
   ]
  },
  {
   "cell_type": "code",
   "execution_count": 142,
   "metadata": {},
   "outputs": [
    {
     "name": "stdout",
     "output_type": "stream",
     "text": [
      "\\begin{tabular}{llllll}\n",
      "\\toprule\n",
      "{} &                1  &                5  &                10 &                20 &                50 \\\\\n",
      "\\midrule\n",
      "0 &  0.0293$\\pm$0.015 &  0.0598$\\pm$0.024 &  0.0832$\\pm$0.028 &  0.1277$\\pm$0.035 &  0.2119$\\pm$0.043 \\\\\n",
      "\\bottomrule\n",
      "\\end{tabular}\n",
      "\n",
      "\\begin{tabular}{llllll}\n",
      "\\toprule\n",
      "{} &                1  &                5  &               10 &                20 &                50 \\\\\n",
      "\\midrule\n",
      "0 &  19.013$\\pm$0.334 &  18.741$\\pm$0.345 &  18.31$\\pm$0.398 &  17.933$\\pm$0.443 &  16.818$\\pm$0.547 \\\\\n",
      "\\bottomrule\n",
      "\\end{tabular}\n",
      "\n"
     ]
    }
   ],
   "source": [
    "# top 50\n",
    "table_path = \"../tables/tuning_lambda/topk_50/yelp/tuning_yelp_at_lamb_10_with_random.csv\"\n",
    "df = load_dataframe_csv(table_path,\"\")   \n",
    "\n",
    "latex_table_row(df, table_name = \"success_rate\", value_precision = 4, uncertainty_precision = 3)\n",
    "latex_table_row(df, table_name = \"avg_length\", value_precision = 3, uncertainty_precision = 3)"
   ]
  },
  {
   "cell_type": "code",
   "execution_count": 143,
   "metadata": {},
   "outputs": [
    {
     "name": "stdout",
     "output_type": "stream",
     "text": [
      "\\begin{tabular}{llllll}\n",
      "\\toprule\n",
      "{} &                1  &                5  &                10 &                20 &                50 \\\\\n",
      "\\midrule\n",
      "0 &  0.0103$\\pm$0.009 &  0.0509$\\pm$0.019 &  0.0849$\\pm$0.026 &  0.1185$\\pm$0.031 &  0.1941$\\pm$0.044 \\\\\n",
      "\\bottomrule\n",
      "\\end{tabular}\n",
      "\n",
      "\\begin{tabular}{llllll}\n",
      "\\toprule\n",
      "{} &                1  &                5  &                10 &                20 &                50 \\\\\n",
      "\\midrule\n",
      "0 &  19.161$\\pm$0.342 &  18.711$\\pm$0.343 &  18.216$\\pm$0.396 &  17.746$\\pm$0.474 &  16.612$\\pm$0.668 \\\\\n",
      "\\bottomrule\n",
      "\\end{tabular}\n",
      "\n"
     ]
    }
   ],
   "source": [
    "# top 100\n",
    "table_path = \"../tables/tuning_lambda/topk_100/yelp/tuning_yelp_at_lamb_0.1_with_random.csv\"\n",
    "df = load_dataframe_csv(table_path,\"\")   \n",
    "\n",
    "latex_table_row(df, table_name = \"success_rate\", value_precision = 4, uncertainty_precision = 3)\n",
    "latex_table_row(df, table_name = \"avg_length\", value_precision = 3, uncertainty_precision = 3)"
   ]
  },
  {
   "cell_type": "markdown",
   "metadata": {},
   "source": [
    "## Diff"
   ]
  },
  {
   "cell_type": "markdown",
   "metadata": {},
   "source": [
    "### Avg"
   ]
  },
  {
   "cell_type": "code",
   "execution_count": 21,
   "metadata": {},
   "outputs": [
    {
     "name": "stdout",
     "output_type": "stream",
     "text": [
      "top1 result:\n",
      "avg_length:  (18.984194443841186, 0.30060481206045847)\n",
      "suc_rate:  (0.07804148017669353, 0.023076297560144423)\n",
      "top5 result:\n",
      "avg_length:  (17.656210925512397, 0.5623516044007251)\n",
      "suc_rate:  (0.15401386399081243, 0.03873249194652888)\n",
      "top10 result:\n",
      "avg_length:  (16.905572819572853, 0.6508707049449296)\n",
      "suc_rate:  (0.19554000976887637, 0.04234699877460717)\n",
      "top20 result:\n",
      "avg_length:  (15.944536041387906, 0.7545039677122095)\n",
      "suc_rate:  (0.2516436886986423, 0.04341759823817416)\n",
      "top50 result:\n",
      "avg_length:  (13.867099421980633, 0.9210663061370019)\n",
      "suc_rate:  (0.3887600489540521, 0.05534350943383171)\n"
     ]
    }
   ],
   "source": [
    "# average random\n",
    "table_path = \"../tables/reproducing/yelp/average_50_users_diff.csv\"\n",
    "df = load_dataframe_csv(table_path,\"\")   \n",
    "\n",
    "# avg diff \n",
    "print (\"top1 result:\")\n",
    "get_2_metric(df, topk = 1, print_result= True)\n",
    "\n",
    "print (\"top5 result:\")\n",
    "get_2_metric(df, topk = 5, print_result= True)\n",
    "\n",
    "print (\"top10 result:\")\n",
    "get_2_metric(df, topk = 10, print_result= True)\n",
    "\n",
    "print ('top20 result:')\n",
    "get_2_metric(df, topk = 20, print_result= True)\n",
    "\n",
    "print ('top50 result:')\n",
    "get_2_metric(df, topk = 50, print_result= True)"
   ]
  },
  {
   "cell_type": "code",
   "execution_count": 154,
   "metadata": {},
   "outputs": [
    {
     "name": "stdout",
     "output_type": "stream",
     "text": [
      "\\begin{tabular}{llllll}\n",
      "\\toprule\n",
      "{} &               1  &               5  &                10 &                20 &                50 \\\\\n",
      "\\midrule\n",
      "0 &  0.078$\\pm$0.023 &  0.154$\\pm$0.039 &  0.1955$\\pm$0.042 &  0.2516$\\pm$0.043 &  0.3888$\\pm$0.055 \\\\\n",
      "\\bottomrule\n",
      "\\end{tabular}\n",
      "\n",
      "\\begin{tabular}{llllll}\n",
      "\\toprule\n",
      "{} &                1  &                5  &                10 &                20 &                50 \\\\\n",
      "\\midrule\n",
      "0 &  18.984$\\pm$0.301 &  17.656$\\pm$0.562 &  16.906$\\pm$0.651 &  15.945$\\pm$0.755 &  13.867$\\pm$0.921 \\\\\n",
      "\\bottomrule\n",
      "\\end{tabular}\n",
      "\n"
     ]
    }
   ],
   "source": [
    "# average random\n",
    "table_path = \"../tables/reproducing/yelp/average_50_users_diff.csv\"\n",
    "df = load_dataframe_csv(table_path,\"\")   \n",
    "\n",
    "latex_table_row(df, table_name = \"success_rate\", value_precision = 4, uncertainty_precision = 3)\n",
    "latex_table_row(df, table_name = \"avg_length\", value_precision = 3, uncertainty_precision = 3)"
   ]
  },
  {
   "cell_type": "markdown",
   "metadata": {},
   "source": [
    "### Rating"
   ]
  },
  {
   "cell_type": "code",
   "execution_count": 261,
   "metadata": {},
   "outputs": [
    {
     "name": "stdout",
     "output_type": "stream",
     "text": [
      "top1 result:\n",
      "avg_length:  (19.69089649072865, 0.18087670240336048)\n",
      "suc_rate:  (0.023072894065372863, 0.013403120863550031)\n",
      "top5 result:\n",
      "avg_length:  (19.326414132720082, 0.3118213441873929)\n",
      "suc_rate:  (0.04504713057765285, 0.020165883247737514)\n",
      "top10 result:\n",
      "avg_length:  (18.869447096133477, 0.4238667770155522)\n",
      "suc_rate:  (0.08097138144755589, 0.02678793192479579)\n",
      "top20 result:\n",
      "avg_length:  (18.145935761808524, 0.5495414647468356)\n",
      "suc_rate:  (0.11822160990622423, 0.034817509020406645)\n",
      "top50 result:\n",
      "avg_length:  (17.053157619589847, 0.687032093938541)\n",
      "suc_rate:  (0.1754022981737008, 0.03968158044397756)\n"
     ]
    }
   ],
   "source": [
    "table_path = \"../tables/reproducing/yelp/lp1simplified_top100_50users_diff.csv\"\n",
    "df = load_dataframe_csv(table_path,\"\")  \n",
    "\n",
    "# rating diff \n",
    "print (\"top1 result:\")\n",
    "get_2_metric(df, topk = 1, print_result= True)\n",
    "\n",
    "print (\"top5 result:\")\n",
    "get_2_metric(df, topk = 5, print_result= True)\n",
    "\n",
    "print (\"top10 result:\")\n",
    "get_2_metric(df, topk = 10, print_result= True)\n",
    "\n",
    "print ('top20 result:')\n",
    "get_2_metric(df, topk = 20, print_result= True)\n",
    "\n",
    "print ('top50 result:')\n",
    "get_2_metric(df, topk = 50, print_result= True)"
   ]
  },
  {
   "cell_type": "code",
   "execution_count": 155,
   "metadata": {},
   "outputs": [
    {
     "name": "stdout",
     "output_type": "stream",
     "text": [
      "\\begin{tabular}{llllll}\n",
      "\\toprule\n",
      "{} &                1  &              5  &               10 &                20 &               50 \\\\\n",
      "\\midrule\n",
      "0 &  0.0231$\\pm$0.013 &  0.045$\\pm$0.02 &  0.081$\\pm$0.027 &  0.1182$\\pm$0.035 &  0.1754$\\pm$0.04 \\\\\n",
      "\\bottomrule\n",
      "\\end{tabular}\n",
      "\n",
      "\\begin{tabular}{llllll}\n",
      "\\toprule\n",
      "{} &                1  &                5  &                10 &               20 &                50 \\\\\n",
      "\\midrule\n",
      "0 &  19.691$\\pm$0.181 &  19.326$\\pm$0.312 &  18.869$\\pm$0.424 &  18.146$\\pm$0.55 &  17.053$\\pm$0.687 \\\\\n",
      "\\bottomrule\n",
      "\\end{tabular}\n",
      "\n"
     ]
    }
   ],
   "source": [
    "table_path = \"../tables/reproducing/yelp/lp1simplified_top100_50users_diff.csv\"\n",
    "df = load_dataframe_csv(table_path,\"\")  \n",
    "\n",
    "latex_table_row(df, table_name = \"success_rate\", value_precision = 4, uncertainty_precision = 3)\n",
    "latex_table_row(df, table_name = \"avg_length\", value_precision = 3, uncertainty_precision = 3)"
   ]
  },
  {
   "cell_type": "markdown",
   "metadata": {},
   "source": [
    "### RankSVM3"
   ]
  },
  {
   "cell_type": "code",
   "execution_count": 9,
   "metadata": {},
   "outputs": [
    {
     "data": {
      "text/plain": [
       "(1,\n",
       " (15.8854973973395, 0.7586524035818217),\n",
       " (0.27935166067275036, 0.048777170782023295))"
      ]
     },
     "execution_count": 9,
     "metadata": {},
     "output_type": "execute_result"
    }
   ],
   "source": [
    "## top 20\n",
    "get_best_metric_with_single_lambda(data_path = \"\", \n",
    "                                   lambs = [0.0001, 0.001, 0.01, 0.05, 0.1, 0.5, 1, 5, 10, 30, 50, 70, 90, 100, 200, 500, 1000, 10000, 100000],\n",
    "                                   dataset_name = \"yelp\", \n",
    "                                   keyphrase_selection_method = \"diff\",\n",
    "                                   topk = 20, \n",
    "                                   return_all = False)"
   ]
  },
  {
   "cell_type": "code",
   "execution_count": 11,
   "metadata": {},
   "outputs": [
    {
     "name": "stdout",
     "output_type": "stream",
     "text": [
      "top1 result:\n",
      "avg_length:  (18.849091372005372, 0.351516857654142)\n",
      "suc_rate:  (0.10413941605723809, 0.028097781907989814)\n",
      "top5 result:\n",
      "avg_length:  (17.599548578552735, 0.5829075988289408)\n",
      "suc_rate:  (0.16126934211299535, 0.04017829502830795)\n",
      "top10 result:\n",
      "avg_length:  (16.89499000120256, 0.65274502563568)\n",
      "suc_rate:  (0.20826815928907394, 0.042430761938265255)\n",
      "top20 result:\n",
      "avg_length:  (15.8854973973395, 0.7586524035818217)\n",
      "suc_rate:  (0.27935166067275036, 0.048777170782023295)\n",
      "top50 result:\n",
      "avg_length:  (14.120772580654041, 0.8887500473478734)\n",
      "suc_rate:  (0.38747810324275855, 0.05615032543929048)\n"
     ]
    }
   ],
   "source": [
    "table_path = \"../tables/tuning_lambda/yelp/tuning_yelp_at_lamb_1_with_diff.csv\"\n",
    "df = load_dataframe_csv(table_path,\"\")   \n",
    "# ranksvm3 diff \n",
    "print (\"top1 result:\")\n",
    "get_2_metric(df, topk = 1, print_result= True)\n",
    "\n",
    "print (\"top5 result:\")\n",
    "get_2_metric(df, topk = 5, print_result= True)\n",
    "\n",
    "print (\"top10 result:\")\n",
    "get_2_metric(df, topk = 10, print_result= True)\n",
    "\n",
    "print ('top20 result:')\n",
    "get_2_metric(df, topk = 20, print_result= True)\n",
    "\n",
    "print ('top50 result:')\n",
    "get_2_metric(df, topk = 50, print_result= True)"
   ]
  },
  {
   "cell_type": "code",
   "execution_count": 108,
   "metadata": {},
   "outputs": [
    {
     "data": {
      "text/plain": [
       "(1,\n",
       " (15.73286308956781, 0.7457676901025765),\n",
       " (0.27937594815707617, 0.044958993185112504))"
      ]
     },
     "execution_count": 108,
     "metadata": {},
     "output_type": "execute_result"
    }
   ],
   "source": [
    "get_best_metric_with_single_lambda(data_path = \"\", \n",
    "                                   lambs = [0.0001, 0.001, 0.01, 0.05, 0.1, 0.5, 1, 5, 10, 30, 50, 70, 90, 100, 200, 500, 1000, 10000, 100000],\n",
    "                                   dataset_name = \"yelp\", \n",
    "                                   keyphrase_selection_method = \"diff\",\n",
    "                                   topk = 20, \n",
    "                                   return_all = False,\n",
    "                                  top_affected=10)"
   ]
  },
  {
   "cell_type": "code",
   "execution_count": 10,
   "metadata": {},
   "outputs": [
    {
     "name": "stdout",
     "output_type": "stream",
     "text": [
      "top1 result:\n",
      "avg_length:  (18.843504412581257, 0.3506871248384387)\n",
      "suc_rate:  (0.08511449869135963, 0.024419740386181714)\n",
      "top5 result:\n",
      "avg_length:  (17.582124907779438, 0.5934202205454729)\n",
      "suc_rate:  (0.16149050173775908, 0.04158940627209419)\n",
      "top10 result:\n",
      "avg_length:  (16.58167493873553, 0.6982054686562067)\n",
      "suc_rate:  (0.21801127340861826, 0.045932618580687604)\n",
      "top20 result:\n",
      "avg_length:  (15.67059917912026, 0.7653716069626618)\n",
      "suc_rate:  (0.2767144099936198, 0.04598138117907132)\n",
      "top50 result:\n",
      "avg_length:  (13.72779260783114, 0.9052273274898496)\n",
      "suc_rate:  (0.39964310500301203, 0.05572815872981459)\n"
     ]
    }
   ],
   "source": [
    "table_path = \"../tables/tuning_lambda/yelp/tuning_yelp_at_lamb_0.1_with_diff.csv\"\n",
    "df = load_dataframe_csv(table_path,\"\")   \n",
    "# ranksvm3 diff \n",
    "print (\"top1 result:\")\n",
    "get_2_metric(df, topk = 1, print_result= True)\n",
    "\n",
    "print (\"top5 result:\")\n",
    "get_2_metric(df, topk = 5, print_result= True)\n",
    "\n",
    "print (\"top10 result:\")\n",
    "get_2_metric(df, topk = 10, print_result= True)\n",
    "\n",
    "print ('top20 result:')\n",
    "get_2_metric(df, topk = 20, print_result= True)\n",
    "\n",
    "print ('top50 result:')\n",
    "get_2_metric(df, topk = 50, print_result= True)"
   ]
  },
  {
   "cell_type": "code",
   "execution_count": 173,
   "metadata": {},
   "outputs": [
    {
     "data": {
      "text/plain": [
       "(1,\n",
       " (15.8854973973395, 0.7586524035818217),\n",
       " (0.27935166067275036, 0.048777170782023295))"
      ]
     },
     "execution_count": 173,
     "metadata": {},
     "output_type": "execute_result"
    }
   ],
   "source": [
    "get_best_metric_with_single_lambda(data_path = \"\", \n",
    "                                   lambs = [0.0001, 0.001, 0.01, 0.05, 0.1, 0.5, 1, 5, 10, 30, 50, 70, 90, 100, 200, 500, 1000, 10000, 100000],\n",
    "                                   dataset_name = \"yelp\", \n",
    "                                   keyphrase_selection_method = \"diff\",\n",
    "                                   topk = 20, \n",
    "                                   return_all = False,\n",
    "                                   top_affected=20)"
   ]
  },
  {
   "cell_type": "code",
   "execution_count": 158,
   "metadata": {
    "scrolled": true
   },
   "outputs": [
    {
     "name": "stdout",
     "output_type": "stream",
     "text": [
      "\\begin{tabular}{llllll}\n",
      "\\toprule\n",
      "{} &               1  &                5  &                10 &                20 &                50 \\\\\n",
      "\\midrule\n",
      "0 &  0.1093$\\pm$0.03 &  0.1716$\\pm$0.038 &  0.2232$\\pm$0.044 &  0.2794$\\pm$0.045 &  0.4032$\\pm$0.057 \\\\\n",
      "\\bottomrule\n",
      "\\end{tabular}\n",
      "\n",
      "\\begin{tabular}{llllll}\n",
      "\\toprule\n",
      "{} &                1  &               5  &                10 &                20 &                50 \\\\\n",
      "\\midrule\n",
      "0 &  18.806$\\pm$0.354 &  17.452$\\pm$0.59 &  16.688$\\pm$0.657 &  15.733$\\pm$0.746 &  13.743$\\pm$0.952 \\\\\n",
      "\\bottomrule\n",
      "\\end{tabular}\n",
      "\n"
     ]
    }
   ],
   "source": [
    "# top 10\n",
    "table_path = \"../tables/tuning_lambda/topk_10/yelp/tuning_yelp_at_lamb_1_with_diff.csv\"\n",
    "df = load_dataframe_csv(table_path,\"\")   \n",
    "\n",
    "latex_table_row(df, table_name = \"success_rate\", value_precision = 4, uncertainty_precision = 3)\n",
    "latex_table_row(df, table_name = \"avg_length\", value_precision = 3, uncertainty_precision = 3)"
   ]
  },
  {
   "cell_type": "code",
   "execution_count": 174,
   "metadata": {},
   "outputs": [
    {
     "name": "stdout",
     "output_type": "stream",
     "text": [
      "\\begin{tabular}{llllll}\n",
      "\\toprule\n",
      "{} &                1  &               5  &                10 &                20 &                50 \\\\\n",
      "\\midrule\n",
      "0 &  0.1041$\\pm$0.028 &  0.1613$\\pm$0.04 &  0.2083$\\pm$0.042 &  0.2794$\\pm$0.049 &  0.3875$\\pm$0.056 \\\\\n",
      "\\bottomrule\n",
      "\\end{tabular}\n",
      "\n",
      "\\begin{tabular}{llllll}\n",
      "\\toprule\n",
      "{} &                1  &              5  &                10 &                20 &                50 \\\\\n",
      "\\midrule\n",
      "0 &  18.849$\\pm$0.352 &  17.6$\\pm$0.583 &  16.895$\\pm$0.653 &  15.885$\\pm$0.759 &  14.121$\\pm$0.889 \\\\\n",
      "\\bottomrule\n",
      "\\end{tabular}\n",
      "\n"
     ]
    }
   ],
   "source": [
    "# top 20\n",
    "table_path = \"../tables/tuning_lambda/topk_20/yelp/tuning_yelp_at_lamb_1_with_diff.csv\"\n",
    "df = load_dataframe_csv(table_path,\"\")   \n",
    "\n",
    "latex_table_row(df, table_name = \"success_rate\", value_precision = 4, uncertainty_precision = 3)\n",
    "latex_table_row(df, table_name = \"avg_length\", value_precision = 3, uncertainty_precision = 3)"
   ]
  },
  {
   "cell_type": "code",
   "execution_count": 163,
   "metadata": {},
   "outputs": [
    {
     "name": "stdout",
     "output_type": "stream",
     "text": [
      "\\begin{tabular}{llllll}\n",
      "\\toprule\n",
      "{} &                1  &                5  &              10 &                20 &                50 \\\\\n",
      "\\midrule\n",
      "0 &  0.0896$\\pm$0.026 &  0.1616$\\pm$0.039 &  0.21$\\pm$0.045 &  0.2706$\\pm$0.044 &  0.4081$\\pm$0.059 \\\\\n",
      "\\bottomrule\n",
      "\\end{tabular}\n",
      "\n",
      "\\begin{tabular}{llllll}\n",
      "\\toprule\n",
      "{} &                1  &                5  &               10 &                20 &                50 \\\\\n",
      "\\midrule\n",
      "0 &  18.804$\\pm$0.345 &  17.572$\\pm$0.576 &  16.68$\\pm$0.697 &  15.708$\\pm$0.763 &  13.536$\\pm$0.994 \\\\\n",
      "\\bottomrule\n",
      "\\end{tabular}\n",
      "\n"
     ]
    }
   ],
   "source": [
    "# top 50\n",
    "table_path = \"../tables/tuning_lambda/topk_50/yelp/tuning_yelp_at_lamb_0.5_with_diff.csv\"\n",
    "df = load_dataframe_csv(table_path,\"\")   \n",
    "\n",
    "latex_table_row(df, table_name = \"success_rate\", value_precision = 4, uncertainty_precision = 3)\n",
    "latex_table_row(df, table_name = \"avg_length\", value_precision = 3, uncertainty_precision = 3)"
   ]
  },
  {
   "cell_type": "code",
   "execution_count": 164,
   "metadata": {},
   "outputs": [
    {
     "name": "stdout",
     "output_type": "stream",
     "text": [
      "\\begin{tabular}{llllll}\n",
      "\\toprule\n",
      "{} &                1  &                5  &               10 &                20 &                50 \\\\\n",
      "\\midrule\n",
      "0 &  0.0851$\\pm$0.024 &  0.1615$\\pm$0.042 &  0.218$\\pm$0.046 &  0.2767$\\pm$0.046 &  0.3996$\\pm$0.056 \\\\\n",
      "\\bottomrule\n",
      "\\end{tabular}\n",
      "\n",
      "\\begin{tabular}{llllll}\n",
      "\\toprule\n",
      "{} &                1  &                5  &                10 &                20 &                50 \\\\\n",
      "\\midrule\n",
      "0 &  18.844$\\pm$0.351 &  17.582$\\pm$0.593 &  16.582$\\pm$0.698 &  15.671$\\pm$0.765 &  13.728$\\pm$0.905 \\\\\n",
      "\\bottomrule\n",
      "\\end{tabular}\n",
      "\n"
     ]
    }
   ],
   "source": [
    "# top 100\n",
    "table_path = \"../tables/tuning_lambda/topk_100/yelp/tuning_yelp_at_lamb_0.1_with_diff.csv\"\n",
    "df = load_dataframe_csv(table_path,\"\")   \n",
    "\n",
    "latex_table_row(df, table_name = \"success_rate\", value_precision = 4, uncertainty_precision = 3)\n",
    "latex_table_row(df, table_name = \"avg_length\", value_precision = 3, uncertainty_precision = 3)"
   ]
  },
  {
   "cell_type": "markdown",
   "metadata": {},
   "source": [
    "# Beer"
   ]
  },
  {
   "cell_type": "markdown",
   "metadata": {},
   "source": [
    "## Random"
   ]
  },
  {
   "cell_type": "markdown",
   "metadata": {},
   "source": [
    "### Avg"
   ]
  },
  {
   "cell_type": "code",
   "execution_count": 139,
   "metadata": {},
   "outputs": [
    {
     "name": "stdout",
     "output_type": "stream",
     "text": [
      "\\begin{tabular}{llllll}\n",
      "\\toprule\n",
      "{} &                1  &                5  &                10 &                20 &               50 \\\\\n",
      "\\midrule\n",
      "0 &  0.0199$\\pm$0.023 &  0.0449$\\pm$0.032 &  0.0627$\\pm$0.034 &  0.1217$\\pm$0.047 &  0.1796$\\pm$0.06 \\\\\n",
      "\\bottomrule\n",
      "\\end{tabular}\n",
      "\n",
      "\\begin{tabular}{llllll}\n",
      "\\toprule\n",
      "{} &                1  &                5  &                10 &                20 &                50 \\\\\n",
      "\\midrule\n",
      "0 &  19.757$\\pm$0.278 &  19.542$\\pm$0.331 &  19.129$\\pm$0.496 &  18.462$\\pm$0.579 &  17.545$\\pm$0.775 \\\\\n",
      "\\bottomrule\n",
      "\\end{tabular}\n",
      "\n"
     ]
    }
   ],
   "source": [
    "table_path = \"../tables/reproducing/beer/avg_50users_random.csv\"\n",
    "df = load_dataframe_csv(table_path,\"\") \n",
    "\n",
    "latex_table_row(df, table_name = \"success_rate\", value_precision = 4, uncertainty_precision = 3)\n",
    "latex_table_row(df, table_name = \"avg_length\", value_precision = 3, uncertainty_precision = 3)"
   ]
  },
  {
   "cell_type": "code",
   "execution_count": 259,
   "metadata": {},
   "outputs": [
    {
     "name": "stdout",
     "output_type": "stream",
     "text": [
      "top1 result:\n",
      "avg_length:  (19.757354497354495, 0.2779927766784297)\n",
      "suc_rate:  (0.019944755680049796, 0.02258021880252023)\n",
      "top5 result:\n",
      "avg_length:  (19.5425, 0.3305248261097751)\n",
      "suc_rate:  (0.04490948231144309, 0.032302378695209445)\n",
      "top10 result:\n",
      "avg_length:  (19.12864197530864, 0.49555452117671855)\n",
      "suc_rate:  (0.0627489884842826, 0.03415633080480409)\n",
      "top20 result:\n",
      "avg_length:  (18.462072491778372, 0.5792931262511614)\n",
      "suc_rate:  (0.12167948065006888, 0.04664426913400822)\n",
      "top50 result:\n",
      "avg_length:  (17.54504050234442, 0.7749913409029133)\n",
      "suc_rate:  (0.17959713670497984, 0.059711756932172046)\n"
     ]
    }
   ],
   "source": [
    "# average random\n",
    "table_path = \"../tables/reproducing/beer/avg_50users_random.csv\"\n",
    "df = load_dataframe_csv(table_path,\"\")   \n",
    "\n",
    "# avg random \n",
    "print (\"top1 result:\")\n",
    "get_2_metric(df, topk = 1, print_result= True)\n",
    "\n",
    "print (\"top5 result:\")\n",
    "get_2_metric(df, topk = 5, print_result= True)\n",
    "\n",
    "print (\"top10 result:\")\n",
    "get_2_metric(df, topk = 10, print_result= True)\n",
    "\n",
    "print ('top20 result:')\n",
    "get_2_metric(df, topk = 20, print_result= True)\n",
    "\n",
    "print ('top50 result:')\n",
    "get_2_metric(df, topk = 50, print_result= True)"
   ]
  },
  {
   "cell_type": "markdown",
   "metadata": {},
   "source": [
    "### Rating"
   ]
  },
  {
   "cell_type": "code",
   "execution_count": 144,
   "metadata": {},
   "outputs": [
    {
     "name": "stdout",
     "output_type": "stream",
     "text": [
      "\\begin{tabular}{llllll}\n",
      "\\toprule\n",
      "{} &                1  &                5  &                10 &               20 &                50 \\\\\n",
      "\\midrule\n",
      "0 &  0.0226$\\pm$0.021 &  0.0664$\\pm$0.052 &  0.0839$\\pm$0.055 &  0.127$\\pm$0.062 &  0.1724$\\pm$0.063 \\\\\n",
      "\\bottomrule\n",
      "\\end{tabular}\n",
      "\n",
      "\\begin{tabular}{llllll}\n",
      "\\toprule\n",
      "{} &               1  &                5  &                10 &                20 &               50 \\\\\n",
      "\\midrule\n",
      "0 &  19.75$\\pm$0.291 &  18.817$\\pm$0.904 &  18.415$\\pm$1.043 &  17.747$\\pm$1.148 &  16.975$\\pm$1.18 \\\\\n",
      "\\bottomrule\n",
      "\\end{tabular}\n",
      "\n"
     ]
    }
   ],
   "source": [
    "table_path = \"../tables/reproducing/beer/lp1simplified_top100_50users_random.csv\"\n",
    "df = load_dataframe_csv(table_path,\"\")  \n",
    "\n",
    "latex_table_row(df, table_name = \"success_rate\", value_precision = 4, uncertainty_precision = 3)\n",
    "latex_table_row(df, table_name = \"avg_length\", value_precision = 3, uncertainty_precision = 3)"
   ]
  },
  {
   "cell_type": "code",
   "execution_count": 238,
   "metadata": {},
   "outputs": [
    {
     "name": "stdout",
     "output_type": "stream",
     "text": [
      "top1 result:\n",
      "avg_length:  (19.74962962962963, 0.29107414958393807)\n",
      "suc_rate:  (0.022623456790123456, 0.020989635923557414)\n",
      "top5 result:\n",
      "avg_length:  (18.816529982363313, 0.9036814563363051)\n",
      "suc_rate:  (0.06635361552028218, 0.05151346941071546)\n",
      "top10 result:\n",
      "avg_length:  (18.414528218694883, 1.0432722209167709)\n",
      "suc_rate:  (0.08388447971781306, 0.054973102609672884)\n",
      "top20 result:\n",
      "avg_length:  (17.746574074074076, 1.1476013615327938)\n",
      "suc_rate:  (0.1270356803690137, 0.0616629059833558)\n",
      "top50 result:\n",
      "avg_length:  (16.975411968206085, 1.1800766837586478)\n",
      "suc_rate:  (0.1723705180077729, 0.0629333496347026)\n"
     ]
    }
   ],
   "source": [
    "table_path = \"../tables/reproducing/beer/lp1simplified_top100_50users_random.csv\"\n",
    "df = load_dataframe_csv(table_path,\"\")  \n",
    "\n",
    "# rating random \n",
    "print (\"top1 result:\")\n",
    "get_2_metric(df, topk = 1, print_result= True)\n",
    "\n",
    "print (\"top5 result:\")\n",
    "get_2_metric(df, topk = 5, print_result= True)\n",
    "\n",
    "print (\"top10 result:\")\n",
    "get_2_metric(df, topk = 10, print_result= True)\n",
    "\n",
    "print ('top20 result:')\n",
    "get_2_metric(df, topk = 20, print_result= True)\n",
    "\n",
    "print ('top50 result:')\n",
    "get_2_metric(df, topk = 50, print_result= True)"
   ]
  },
  {
   "cell_type": "markdown",
   "metadata": {},
   "source": [
    "### RankSVM3"
   ]
  },
  {
   "cell_type": "code",
   "execution_count": 242,
   "metadata": {},
   "outputs": [
    {
     "data": {
      "text/plain": [
       "(0.01,\n",
       " (17.770470787382553, 1.0594595506005924),\n",
       " (0.17312225719088464, 0.07581358661361602))"
      ]
     },
     "execution_count": 242,
     "metadata": {},
     "output_type": "execute_result"
    }
   ],
   "source": [
    "get_best_metric_with_single_lambda(data_path = \"\", \n",
    "                                   lambs = [0.0001, 0.001, 0.01, 0.05, 0.1, 0.5, 1, 5, 10, 30, 50, 70, 90, 100, 200, 500, 1000, 10000, 100000],\n",
    "                                   dataset_name = \"beer\", \n",
    "                                   keyphrase_selection_method = \"random\",\n",
    "                                   topk = 20, \n",
    "                                   return_all = False)"
   ]
  },
  {
   "cell_type": "code",
   "execution_count": 240,
   "metadata": {},
   "outputs": [
    {
     "name": "stdout",
     "output_type": "stream",
     "text": [
      "top1 result:\n",
      "avg_length:  (19.92509259259259, 0.09356016847696566)\n",
      "suc_rate:  (0.00558641975308642, 0.006657888556071205)\n",
      "top5 result:\n",
      "avg_length:  (19.250091451758117, 0.7464982051921484)\n",
      "suc_rate:  (0.06044437044437044, 0.04870071177690609)\n",
      "top10 result:\n",
      "avg_length:  (18.499294686794688, 1.007070361355241)\n",
      "suc_rate:  (0.10716259049592382, 0.06418012749394501)\n",
      "top20 result:\n",
      "avg_length:  (17.770470787382553, 1.0594595506005924)\n",
      "suc_rate:  (0.17312225719088464, 0.07581358661361602)\n",
      "top50 result:\n",
      "avg_length:  (15.926921571529418, 1.3104969760739227)\n",
      "suc_rate:  (0.27958704512626076, 0.08501716689840598)\n"
     ]
    }
   ],
   "source": [
    "table_path = \"../tables/tuning_lambda/beer/tuning_beer_at_lamb_0.01_with_random.csv\"\n",
    "df = load_dataframe_csv(table_path,\"\")\n",
    "\n",
    "# ranksvm3 random \n",
    "print (\"top1 result:\")\n",
    "get_2_metric(df, topk = 1, print_result= True)\n",
    "\n",
    "print (\"top5 result:\")\n",
    "get_2_metric(df, topk = 5, print_result= True)\n",
    "\n",
    "print (\"top10 result:\")\n",
    "get_2_metric(df, topk = 10, print_result= True)\n",
    "\n",
    "print ('top20 result:')\n",
    "get_2_metric(df, topk = 20, print_result= True)\n",
    "\n",
    "print ('top50 result:')\n",
    "get_2_metric(df, topk = 50, print_result= True)"
   ]
  },
  {
   "cell_type": "code",
   "execution_count": 19,
   "metadata": {},
   "outputs": [
    {
     "data": {
      "text/plain": [
       "(90,\n",
       " (18.067917295123173, 0.7857402024453743),\n",
       " (0.15895253802116543, 0.06744632683682779))"
      ]
     },
     "execution_count": 19,
     "metadata": {},
     "output_type": "execute_result"
    }
   ],
   "source": [
    "## Top 100\n",
    "get_best_metric_with_single_lambda(data_path = \"\", \n",
    "                                   lambs = [0.0001, 0.001, 0.01, 0.05, 0.1, 0.5, 1, 5, 10, 30, 50, 70, 90, 100, 200, 500, 1000, 10000, 100000],\n",
    "                                   dataset_name = \"beer\", \n",
    "                                   keyphrase_selection_method = \"random\",\n",
    "                                   topk = 20, \n",
    "                                   return_all = False)"
   ]
  },
  {
   "cell_type": "code",
   "execution_count": 12,
   "metadata": {},
   "outputs": [
    {
     "name": "stdout",
     "output_type": "stream",
     "text": [
      "top1 result:\n",
      "avg_length:  (19.854256854256853, 0.23845579617408874)\n",
      "suc_rate:  (0.01653038319704986, 0.02234804478743511)\n",
      "top5 result:\n",
      "avg_length:  (19.71609948693282, 0.2806533031737103)\n",
      "suc_rate:  (0.026636203302869973, 0.023767272842814605)\n",
      "top10 result:\n",
      "avg_length:  (19.415035300574516, 0.35420278491294976)\n",
      "suc_rate:  (0.0514120538140146, 0.029034846490640264)\n",
      "top20 result:\n",
      "avg_length:  (18.067917295123173, 0.7857402024453743)\n",
      "suc_rate:  (0.15895253802116543, 0.06744632683682779)\n",
      "top50 result:\n",
      "avg_length:  (15.89804251485624, 1.167381071237386)\n",
      "suc_rate:  (0.2958496006535222, 0.08830123898824303)\n"
     ]
    }
   ],
   "source": [
    "table_path = \"../tables/tuning_lambda/beer/tuning_beer_at_lamb_90_with_random.csv\"\n",
    "df = load_dataframe_csv(table_path,\"\")\n",
    "\n",
    "# ranksvm3 random \n",
    "print (\"top1 result:\")\n",
    "get_2_metric(df, topk = 1, print_result= True)\n",
    "\n",
    "print (\"top5 result:\")\n",
    "get_2_metric(df, topk = 5, print_result= True)\n",
    "\n",
    "print (\"top10 result:\")\n",
    "get_2_metric(df, topk = 10, print_result= True)\n",
    "\n",
    "print ('top20 result:')\n",
    "get_2_metric(df, topk = 20, print_result= True)\n",
    "\n",
    "print ('top50 result:')\n",
    "get_2_metric(df, topk = 50, print_result= True)"
   ]
  },
  {
   "cell_type": "code",
   "execution_count": 151,
   "metadata": {},
   "outputs": [
    {
     "data": {
      "text/plain": [
       "(90,\n",
       " (18.067917295123173, 0.7857402024453743),\n",
       " (0.15895253802116543, 0.06744632683682779))"
      ]
     },
     "execution_count": 151,
     "metadata": {},
     "output_type": "execute_result"
    }
   ],
   "source": [
    "get_best_metric_with_single_lambda(data_path = \"\", \n",
    "                                   lambs = [0.0001, 0.001, 0.01, 0.05, 0.1, 0.5, 1, 5, 10, 30, 50, 70, 90, 100, 200, 500, 1000, 10000, 100000],\n",
    "                                   dataset_name = \"beer\", \n",
    "                                   keyphrase_selection_method = \"random\",\n",
    "                                   topk = 20, \n",
    "                                   return_all = False,\n",
    "                                   top_affected=100)"
   ]
  },
  {
   "cell_type": "code",
   "execution_count": 153,
   "metadata": {},
   "outputs": [
    {
     "name": "stdout",
     "output_type": "stream",
     "text": [
      "\\begin{tabular}{llllll}\n",
      "\\toprule\n",
      "{} &                1  &                5  &               10 &                20 &               50 \\\\\n",
      "\\midrule\n",
      "0 &  0.0146$\\pm$0.022 &  0.0685$\\pm$0.051 &  0.127$\\pm$0.076 &  0.1953$\\pm$0.083 &  0.243$\\pm$0.084 \\\\\n",
      "\\bottomrule\n",
      "\\end{tabular}\n",
      "\n",
      "\\begin{tabular}{llllll}\n",
      "\\toprule\n",
      "{} &                1  &                5  &                10 &                20 &                50 \\\\\n",
      "\\midrule\n",
      "0 &  19.768$\\pm$0.349 &  19.012$\\pm$0.689 &  18.657$\\pm$0.768 &  17.277$\\pm$1.215 &  16.328$\\pm$1.232 \\\\\n",
      "\\bottomrule\n",
      "\\end{tabular}\n",
      "\n"
     ]
    }
   ],
   "source": [
    "# top 10\n",
    "table_path = \"../tables/tuning_lambda/topk_10/beer/tuning_beer_at_lamb_0.05_with_random.csv\"\n",
    "df = load_dataframe_csv(table_path,\"\")   \n",
    "\n",
    "latex_table_row(df, table_name = \"success_rate\", value_precision = 4, uncertainty_precision = 3)\n",
    "latex_table_row(df, table_name = \"avg_length\", value_precision = 3, uncertainty_precision = 3)"
   ]
  },
  {
   "cell_type": "code",
   "execution_count": 148,
   "metadata": {},
   "outputs": [
    {
     "name": "stdout",
     "output_type": "stream",
     "text": [
      "\\begin{tabular}{llllll}\n",
      "\\toprule\n",
      "{} &                1  &                5  &               10 &                20 &                50 \\\\\n",
      "\\midrule\n",
      "0 &  0.0143$\\pm$0.022 &  0.0692$\\pm$0.052 &  0.102$\\pm$0.059 &  0.1928$\\pm$0.089 &  0.2665$\\pm$0.087 \\\\\n",
      "\\bottomrule\n",
      "\\end{tabular}\n",
      "\n",
      "\\begin{tabular}{llllll}\n",
      "\\toprule\n",
      "{} &                1  &                5  &                10 &                20 &                50 \\\\\n",
      "\\midrule\n",
      "0 &  19.768$\\pm$0.358 &  19.115$\\pm$0.645 &  18.672$\\pm$0.768 &  17.359$\\pm$1.277 &  15.987$\\pm$1.339 \\\\\n",
      "\\bottomrule\n",
      "\\end{tabular}\n",
      "\n"
     ]
    }
   ],
   "source": [
    "# top 20\n",
    "table_path = \"../tables/tuning_lambda/topk_20/beer/tuning_beer_at_lamb_70_with_random.csv\"\n",
    "df = load_dataframe_csv(table_path,\"\")   \n",
    "\n",
    "latex_table_row(df, table_name = \"success_rate\", value_precision = 4, uncertainty_precision = 3)\n",
    "latex_table_row(df, table_name = \"avg_length\", value_precision = 3, uncertainty_precision = 3)"
   ]
  },
  {
   "cell_type": "code",
   "execution_count": 150,
   "metadata": {},
   "outputs": [
    {
     "name": "stdout",
     "output_type": "stream",
     "text": [
      "\\begin{tabular}{llllll}\n",
      "\\toprule\n",
      "{} &                1  &                5  &                10 &                20 &                50 \\\\\n",
      "\\midrule\n",
      "0 &  0.0151$\\pm$0.022 &  0.0516$\\pm$0.038 &  0.0864$\\pm$0.055 &  0.1861$\\pm$0.082 &  0.3138$\\pm$0.098 \\\\\n",
      "\\bottomrule\n",
      "\\end{tabular}\n",
      "\n",
      "\\begin{tabular}{llllll}\n",
      "\\toprule\n",
      "{} &                1  &                5  &                10 &                20 &                50 \\\\\n",
      "\\midrule\n",
      "0 &  19.818$\\pm$0.284 &  19.294$\\pm$0.549 &  18.884$\\pm$0.736 &  17.835$\\pm$0.971 &  16.015$\\pm$1.228 \\\\\n",
      "\\bottomrule\n",
      "\\end{tabular}\n",
      "\n"
     ]
    }
   ],
   "source": [
    "# top 50\n",
    "table_path = \"../tables/tuning_lambda/topk_50/beer/tuning_beer_at_lamb_90_with_random.csv\"\n",
    "df = load_dataframe_csv(table_path,\"\")   \n",
    "\n",
    "latex_table_row(df, table_name = \"success_rate\", value_precision = 4, uncertainty_precision = 3)\n",
    "latex_table_row(df, table_name = \"avg_length\", value_precision = 3, uncertainty_precision = 3)"
   ]
  },
  {
   "cell_type": "code",
   "execution_count": 152,
   "metadata": {},
   "outputs": [
    {
     "name": "stdout",
     "output_type": "stream",
     "text": [
      "\\begin{tabular}{llllll}\n",
      "\\toprule\n",
      "{} &                1  &                5  &                10 &               20 &                50 \\\\\n",
      "\\midrule\n",
      "0 &  0.0165$\\pm$0.022 &  0.0266$\\pm$0.024 &  0.0514$\\pm$0.029 &  0.159$\\pm$0.067 &  0.2958$\\pm$0.088 \\\\\n",
      "\\bottomrule\n",
      "\\end{tabular}\n",
      "\n",
      "\\begin{tabular}{llllll}\n",
      "\\toprule\n",
      "{} &                1  &                5  &                10 &                20 &                50 \\\\\n",
      "\\midrule\n",
      "0 &  19.854$\\pm$0.238 &  19.716$\\pm$0.281 &  19.415$\\pm$0.354 &  18.068$\\pm$0.786 &  15.898$\\pm$1.167 \\\\\n",
      "\\bottomrule\n",
      "\\end{tabular}\n",
      "\n"
     ]
    }
   ],
   "source": [
    "# top 100\n",
    "table_path = \"../tables/tuning_lambda/topk_100/beer/tuning_beer_at_lamb_90_with_random.csv\"\n",
    "df = load_dataframe_csv(table_path,\"\")   \n",
    "\n",
    "latex_table_row(df, table_name = \"success_rate\", value_precision = 4, uncertainty_precision = 3)\n",
    "latex_table_row(df, table_name = \"avg_length\", value_precision = 3, uncertainty_precision = 3)"
   ]
  },
  {
   "cell_type": "markdown",
   "metadata": {},
   "source": [
    "## Diff"
   ]
  },
  {
   "cell_type": "markdown",
   "metadata": {},
   "source": [
    "### Avg"
   ]
  },
  {
   "cell_type": "code",
   "execution_count": 22,
   "metadata": {},
   "outputs": [
    {
     "name": "stdout",
     "output_type": "stream",
     "text": [
      "top1 result:\n",
      "avg_length:  (19.00496204412871, 0.7102924877807976)\n",
      "suc_rate:  (0.08116280596672754, 0.06397039354138734)\n",
      "top5 result:\n",
      "avg_length:  (17.597803461970127, 1.1630273528838047)\n",
      "suc_rate:  (0.15395452949374516, 0.07644532943557877)\n",
      "top10 result:\n",
      "avg_length:  (16.913637504470838, 1.3778430179926433)\n",
      "suc_rate:  (0.1794888408613899, 0.07794923950722438)\n",
      "top20 result:\n",
      "avg_length:  (15.759583361446104, 1.5417415098045595)\n",
      "suc_rate:  (0.23833228137149703, 0.08512265198286892)\n",
      "top50 result:\n",
      "avg_length:  (13.755153258143455, 1.6641026938409798)\n",
      "suc_rate:  (0.35802075012859325, 0.09329036252246106)\n"
     ]
    }
   ],
   "source": [
    "# average diff\n",
    "table_path = \"../tables/reproducing/beer/avg_50users_diff.csv\"\n",
    "df = load_dataframe_csv(table_path,\"\")   \n",
    "\n",
    "# avg random \n",
    "print (\"top1 result:\")\n",
    "get_2_metric(df, topk = 1, print_result= True)\n",
    "\n",
    "print (\"top5 result:\")\n",
    "get_2_metric(df, topk = 5, print_result= True)\n",
    "\n",
    "print (\"top10 result:\")\n",
    "get_2_metric(df, topk = 10, print_result= True)\n",
    "\n",
    "print ('top20 result:')\n",
    "get_2_metric(df, topk = 20, print_result= True)\n",
    "\n",
    "print ('top50 result:')\n",
    "get_2_metric(df, topk = 50, print_result= True)"
   ]
  },
  {
   "cell_type": "code",
   "execution_count": 165,
   "metadata": {},
   "outputs": [
    {
     "name": "stdout",
     "output_type": "stream",
     "text": [
      "\\begin{tabular}{llllll}\n",
      "\\toprule\n",
      "{} &                1  &               5  &                10 &                20 &               50 \\\\\n",
      "\\midrule\n",
      "0 &  0.0812$\\pm$0.064 &  0.154$\\pm$0.076 &  0.1795$\\pm$0.078 &  0.2383$\\pm$0.085 &  0.358$\\pm$0.093 \\\\\n",
      "\\bottomrule\n",
      "\\end{tabular}\n",
      "\n",
      "\\begin{tabular}{llllll}\n",
      "\\toprule\n",
      "{} &               1  &                5  &                10 &               20 &                50 \\\\\n",
      "\\midrule\n",
      "0 &  19.005$\\pm$0.71 &  17.598$\\pm$1.163 &  16.914$\\pm$1.378 &  15.76$\\pm$1.542 &  13.755$\\pm$1.664 \\\\\n",
      "\\bottomrule\n",
      "\\end{tabular}\n",
      "\n"
     ]
    }
   ],
   "source": [
    "table_path = \"../tables/reproducing/beer/avg_50users_diff.csv\"\n",
    "df = load_dataframe_csv(table_path,\"\") \n",
    "\n",
    "latex_table_row(df, table_name = \"success_rate\", value_precision = 4, uncertainty_precision = 3)\n",
    "latex_table_row(df, table_name = \"avg_length\", value_precision = 3, uncertainty_precision = 3)"
   ]
  },
  {
   "cell_type": "markdown",
   "metadata": {},
   "source": [
    "### Rating"
   ]
  },
  {
   "cell_type": "code",
   "execution_count": 262,
   "metadata": {},
   "outputs": [
    {
     "name": "stdout",
     "output_type": "stream",
     "text": [
      "top1 result:\n",
      "avg_length:  (19.784197530864194, 0.2891664582151433)\n",
      "suc_rate:  (0.011358024691358024, 0.01521928727448122)\n",
      "top5 result:\n",
      "avg_length:  (18.845101410934745, 0.6689630742150717)\n",
      "suc_rate:  (0.08013227513227514, 0.05432908711783081)\n",
      "top10 result:\n",
      "avg_length:  (18.30531746031746, 1.0395149608590142)\n",
      "suc_rate:  (0.09081128747795415, 0.0548829961707191)\n",
      "top20 result:\n",
      "avg_length:  (17.59619488536155, 1.1588406332651495)\n",
      "suc_rate:  (0.1290299823633157, 0.0614884697126393)\n",
      "top50 result:\n",
      "avg_length:  (16.925220717916797, 1.1975878514748912)\n",
      "suc_rate:  (0.16381600788463535, 0.06354448635932486)\n"
     ]
    }
   ],
   "source": [
    "table_path = \"../tables/reproducing/beer/lp1simplified_top100_50users_diff.csv\"\n",
    "df = load_dataframe_csv(table_path,\"\")  \n",
    "\n",
    "# rating diff \n",
    "print (\"top1 result:\")\n",
    "get_2_metric(df, topk = 1, print_result= True)\n",
    "\n",
    "print (\"top5 result:\")\n",
    "get_2_metric(df, topk = 5, print_result= True)\n",
    "\n",
    "print (\"top10 result:\")\n",
    "get_2_metric(df, topk = 10, print_result= True)\n",
    "\n",
    "print ('top20 result:')\n",
    "get_2_metric(df, topk = 20, print_result= True)\n",
    "\n",
    "print ('top50 result:')\n",
    "get_2_metric(df, topk = 50, print_result= True)"
   ]
  },
  {
   "cell_type": "code",
   "execution_count": 166,
   "metadata": {},
   "outputs": [
    {
     "name": "stdout",
     "output_type": "stream",
     "text": [
      "\\begin{tabular}{llllll}\n",
      "\\toprule\n",
      "{} &                1  &                5  &                10 &               20 &                50 \\\\\n",
      "\\midrule\n",
      "0 &  0.0114$\\pm$0.015 &  0.0801$\\pm$0.054 &  0.0908$\\pm$0.055 &  0.129$\\pm$0.061 &  0.1638$\\pm$0.064 \\\\\n",
      "\\bottomrule\n",
      "\\end{tabular}\n",
      "\n",
      "\\begin{tabular}{llllll}\n",
      "\\toprule\n",
      "{} &                1  &                5  &               10 &                20 &                50 \\\\\n",
      "\\midrule\n",
      "0 &  19.784$\\pm$0.289 &  18.845$\\pm$0.669 &  18.305$\\pm$1.04 &  17.596$\\pm$1.159 &  16.925$\\pm$1.198 \\\\\n",
      "\\bottomrule\n",
      "\\end{tabular}\n",
      "\n"
     ]
    }
   ],
   "source": [
    "table_path = \"../tables/reproducing/beer/lp1simplified_top100_50users_diff.csv\"\n",
    "df = load_dataframe_csv(table_path,\"\")  \n",
    "\n",
    "latex_table_row(df, table_name = \"success_rate\", value_precision = 4, uncertainty_precision = 3)\n",
    "latex_table_row(df, table_name = \"avg_length\", value_precision = 3, uncertainty_precision = 3)"
   ]
  },
  {
   "cell_type": "markdown",
   "metadata": {},
   "source": [
    "### RankSVM3"
   ]
  },
  {
   "cell_type": "code",
   "execution_count": 20,
   "metadata": {},
   "outputs": [
    {
     "data": {
      "text/plain": [
       "(0.0001,\n",
       " (15.759583361446104, 1.5417415098045595),\n",
       " (0.23833228137149703, 0.08512265198286892))"
      ]
     },
     "execution_count": 20,
     "metadata": {},
     "output_type": "execute_result"
    }
   ],
   "source": [
    "## top 20\n",
    "get_best_metric_with_single_lambda(data_path = \"\", \n",
    "                                   lambs = [0.0001, 0.001, 0.01, 0.05, 0.1, 0.5, 1, 5, 10, 30, 50, 70, 90, 100, 200, 500, 1000, 10000, 100000],\n",
    "                                   dataset_name = \"beer\", \n",
    "                                   keyphrase_selection_method = \"diff\",\n",
    "                                   topk = 20, \n",
    "                                   return_all = False)"
   ]
  },
  {
   "cell_type": "code",
   "execution_count": 246,
   "metadata": {
    "scrolled": true
   },
   "outputs": [
    {
     "name": "stdout",
     "output_type": "stream",
     "text": [
      "top1 result:\n",
      "avg_length:  (19.00496204412871, 0.7102924877807976)\n",
      "suc_rate:  (0.08116280596672754, 0.06397039354138734)\n",
      "top5 result:\n",
      "avg_length:  (17.597803461970127, 1.1630273528838047)\n",
      "suc_rate:  (0.15395452949374516, 0.07644532943557877)\n",
      "top10 result:\n",
      "avg_length:  (16.913637504470838, 1.3778430179926433)\n",
      "suc_rate:  (0.1794888408613899, 0.07794923950722438)\n",
      "top20 result:\n",
      "avg_length:  (15.759583361446104, 1.5417415098045595)\n",
      "suc_rate:  (0.23833228137149703, 0.08512265198286892)\n",
      "top50 result:\n",
      "avg_length:  (13.755153258143455, 1.6641026938409798)\n",
      "suc_rate:  (0.35802075012859325, 0.09329036252246106)\n"
     ]
    }
   ],
   "source": [
    "table_path = \"../tables/tuning_lambda/beer/tuning_beer_at_lamb_0.0001_with_diff.csv\"\n",
    "df = load_dataframe_csv(table_path,\"\")\n",
    "\n",
    "# ranksvm3 diff \n",
    "print (\"top1 result:\")\n",
    "get_2_metric(df, topk = 1, print_result= True)\n",
    "\n",
    "print (\"top5 result:\")\n",
    "get_2_metric(df, topk = 5, print_result= True)\n",
    "\n",
    "print (\"top10 result:\")\n",
    "get_2_metric(df, topk = 10, print_result= True)\n",
    "\n",
    "print ('top20 result:')\n",
    "get_2_metric(df, topk = 20, print_result= True)\n",
    "\n",
    "print ('top50 result:')\n",
    "get_2_metric(df, topk = 50, print_result= True)"
   ]
  },
  {
   "cell_type": "code",
   "execution_count": 13,
   "metadata": {},
   "outputs": [
    {
     "data": {
      "text/plain": [
       "(0.0001,\n",
       " (15.759583361446104, 1.5417415098045595),\n",
       " (0.23833228137149703, 0.08512265198286892))"
      ]
     },
     "execution_count": 13,
     "metadata": {},
     "output_type": "execute_result"
    }
   ],
   "source": [
    "## Top 100\n",
    "get_best_metric_with_single_lambda(data_path = \"\", \n",
    "                                   lambs = [0.0001, 0.001, 0.01, 0.05, 0.1, 0.5, 1, 5, 10, 30, 50, 70, 90, 100, 200, 500, 1000, 10000, 100000],\n",
    "                                   dataset_name = \"beer\", \n",
    "                                   keyphrase_selection_method = \"diff\",\n",
    "                                   topk = 20, \n",
    "                                   return_all = False)"
   ]
  },
  {
   "cell_type": "code",
   "execution_count": 14,
   "metadata": {},
   "outputs": [
    {
     "name": "stdout",
     "output_type": "stream",
     "text": [
      "top1 result:\n",
      "avg_length:  (19.00496204412871, 0.7102924877807976)\n",
      "suc_rate:  (0.08116280596672754, 0.06397039354138734)\n",
      "top5 result:\n",
      "avg_length:  (17.597803461970127, 1.1630273528838047)\n",
      "suc_rate:  (0.15395452949374516, 0.07644532943557877)\n",
      "top10 result:\n",
      "avg_length:  (16.913637504470838, 1.3778430179926433)\n",
      "suc_rate:  (0.1794888408613899, 0.07794923950722438)\n",
      "top20 result:\n",
      "avg_length:  (15.759583361446104, 1.5417415098045595)\n",
      "suc_rate:  (0.23833228137149703, 0.08512265198286892)\n",
      "top50 result:\n",
      "avg_length:  (13.755153258143455, 1.6641026938409798)\n",
      "suc_rate:  (0.35802075012859325, 0.09329036252246106)\n"
     ]
    }
   ],
   "source": [
    "table_path = \"../tables/tuning_lambda/beer/tuning_beer_at_lamb_0.0001_with_diff.csv\"\n",
    "df = load_dataframe_csv(table_path,\"\")\n",
    "\n",
    "# ranksvm3 diff \n",
    "print (\"top1 result:\")\n",
    "get_2_metric(df, topk = 1, print_result= True)\n",
    "\n",
    "print (\"top5 result:\")\n",
    "get_2_metric(df, topk = 5, print_result= True)\n",
    "\n",
    "print (\"top10 result:\")\n",
    "get_2_metric(df, topk = 10, print_result= True)\n",
    "\n",
    "print ('top20 result:')\n",
    "get_2_metric(df, topk = 20, print_result= True)\n",
    "\n",
    "print ('top50 result:')\n",
    "get_2_metric(df, topk = 50, print_result= True)"
   ]
  },
  {
   "cell_type": "code",
   "execution_count": 172,
   "metadata": {},
   "outputs": [
    {
     "data": {
      "text/plain": [
       "(0.0001,\n",
       " (15.759583361446104, 1.5417415098045595),\n",
       " (0.23833228137149703, 0.08512265198286892))"
      ]
     },
     "execution_count": 172,
     "metadata": {},
     "output_type": "execute_result"
    }
   ],
   "source": [
    "get_best_metric_with_single_lambda(data_path = \"\", \n",
    "                                   lambs = [0.0001, 0.001, 0.01, 0.05, 0.1, 0.5, 1, 5, 10, 30, 50, 70, 90, 100, 200, 500, 1000, 10000, 100000],\n",
    "                                   dataset_name = \"beer\", \n",
    "                                   keyphrase_selection_method = \"diff\",\n",
    "                                   topk = 20, \n",
    "                                   return_all = False,\n",
    "                                   top_affected= 100)"
   ]
  },
  {
   "cell_type": "code",
   "execution_count": 168,
   "metadata": {},
   "outputs": [
    {
     "name": "stdout",
     "output_type": "stream",
     "text": [
      "\\begin{tabular}{llllll}\n",
      "\\toprule\n",
      "{} &                1  &               5  &                10 &                20 &               50 \\\\\n",
      "\\midrule\n",
      "0 &  0.0812$\\pm$0.064 &  0.154$\\pm$0.076 &  0.1795$\\pm$0.078 &  0.2383$\\pm$0.085 &  0.358$\\pm$0.093 \\\\\n",
      "\\bottomrule\n",
      "\\end{tabular}\n",
      "\n",
      "\\begin{tabular}{llllll}\n",
      "\\toprule\n",
      "{} &               1  &                5  &                10 &               20 &                50 \\\\\n",
      "\\midrule\n",
      "0 &  19.005$\\pm$0.71 &  17.598$\\pm$1.163 &  16.914$\\pm$1.378 &  15.76$\\pm$1.542 &  13.755$\\pm$1.664 \\\\\n",
      "\\bottomrule\n",
      "\\end{tabular}\n",
      "\n"
     ]
    }
   ],
   "source": [
    "table_path = \"../tables/tuning_lambda/topk_10/beer/tuning_beer_at_lamb_0.0001_with_diff.csv\"\n",
    "df = load_dataframe_csv(table_path,\"\")\n",
    "\n",
    "latex_table_row(df, table_name = \"success_rate\", value_precision = 4, uncertainty_precision = 3)\n",
    "latex_table_row(df, table_name = \"avg_length\", value_precision = 3, uncertainty_precision = 3)"
   ]
  },
  {
   "cell_type": "code",
   "execution_count": 170,
   "metadata": {},
   "outputs": [
    {
     "name": "stdout",
     "output_type": "stream",
     "text": [
      "\\begin{tabular}{llllll}\n",
      "\\toprule\n",
      "{} &                1  &               5  &                10 &                20 &               50 \\\\\n",
      "\\midrule\n",
      "0 &  0.0812$\\pm$0.064 &  0.154$\\pm$0.076 &  0.1795$\\pm$0.078 &  0.2383$\\pm$0.085 &  0.358$\\pm$0.093 \\\\\n",
      "\\bottomrule\n",
      "\\end{tabular}\n",
      "\n",
      "\\begin{tabular}{llllll}\n",
      "\\toprule\n",
      "{} &               1  &                5  &                10 &               20 &                50 \\\\\n",
      "\\midrule\n",
      "0 &  19.005$\\pm$0.71 &  17.598$\\pm$1.163 &  16.914$\\pm$1.378 &  15.76$\\pm$1.542 &  13.755$\\pm$1.664 \\\\\n",
      "\\bottomrule\n",
      "\\end{tabular}\n",
      "\n"
     ]
    }
   ],
   "source": [
    "table_path = \"../tables/tuning_lambda/topk_20/beer/tuning_beer_at_lamb_0.0001_with_diff.csv\"\n",
    "df = load_dataframe_csv(table_path,\"\")\n",
    "\n",
    "latex_table_row(df, table_name = \"success_rate\", value_precision = 4, uncertainty_precision = 3)\n",
    "latex_table_row(df, table_name = \"avg_length\", value_precision = 3, uncertainty_precision = 3)"
   ]
  },
  {
   "cell_type": "code",
   "execution_count": null,
   "metadata": {},
   "outputs": [],
   "source": [
    "table_path = \"../tables/tuning_lambda/topk_50/beer/tuning_beer_at_lamb_0.0001_with_diff.csv\"\n",
    "df = load_dataframe_csv(table_path,\"\")\n",
    "\n",
    "latex_table_row(df, table_name = \"success_rate\", value_precision = 4, uncertainty_precision = 3)\n",
    "latex_table_row(df, table_name = \"avg_length\", value_precision = 3, uncertainty_precision = 3)"
   ]
  },
  {
   "cell_type": "markdown",
   "metadata": {},
   "source": [
    "# CD "
   ]
  },
  {
   "cell_type": "markdown",
   "metadata": {},
   "source": [
    "## Random"
   ]
  },
  {
   "cell_type": "markdown",
   "metadata": {},
   "source": [
    "### Average"
   ]
  },
  {
   "cell_type": "code",
   "execution_count": 263,
   "metadata": {},
   "outputs": [
    {
     "name": "stdout",
     "output_type": "stream",
     "text": [
      "top1 result:\n",
      "avg_length:  (15.330252525252524, 0.9154090905344333)\n",
      "suc_rate:  (0.02, 0.02715855666268)\n",
      "top5 result:\n",
      "avg_length:  (14.565560217560218, 1.0099158700747741)\n",
      "suc_rate:  (0.06098290598290598, 0.04143737957985024)\n",
      "top10 result:\n",
      "avg_length:  (13.179090132090131, 1.0861944539214539)\n",
      "suc_rate:  (0.1436153846153846, 0.05652049994804877)\n",
      "top20 result:\n",
      "avg_length:  (11.815252525252527, 1.2129030520469177)\n",
      "suc_rate:  (0.2342820512820513, 0.076645945997584)\n",
      "top50 result:\n",
      "avg_length:  (9.189067599067599, 1.2666736042577258)\n",
      "suc_rate:  (0.43297824397824397, 0.09498761451865143)\n"
     ]
    }
   ],
   "source": [
    "# average random\n",
    "table_path = \"../tables/reproducing/cd/avg_50users_random.csv\"\n",
    "df = load_dataframe_csv(table_path,\"\")   \n",
    "\n",
    "# avg random \n",
    "print (\"top1 result:\")\n",
    "get_2_metric(df, topk = 1, print_result= True)\n",
    "\n",
    "print (\"top5 result:\")\n",
    "get_2_metric(df, topk = 5, print_result= True)\n",
    "\n",
    "print (\"top10 result:\")\n",
    "get_2_metric(df, topk = 10, print_result= True)\n",
    "\n",
    "print ('top20 result:')\n",
    "get_2_metric(df, topk = 20, print_result= True)\n",
    "\n",
    "print ('top50 result:')\n",
    "get_2_metric(df, topk = 50, print_result= True)"
   ]
  },
  {
   "cell_type": "markdown",
   "metadata": {},
   "source": [
    "### Rating"
   ]
  },
  {
   "cell_type": "code",
   "execution_count": 265,
   "metadata": {},
   "outputs": [
    {
     "name": "stdout",
     "output_type": "stream",
     "text": [
      "top1 result:\n",
      "avg_length:  (14.728030303030302, 0.9805020354671313)\n",
      "suc_rate:  (0.04488888888888889, 0.032916648249033766)\n",
      "top5 result:\n",
      "avg_length:  (13.20812432012432, 1.124248430608588)\n",
      "suc_rate:  (0.15496581196581197, 0.06096709454739042)\n",
      "top10 result:\n",
      "avg_length:  (12.257836829836831, 1.2004344612045517)\n",
      "suc_rate:  (0.19645687645687646, 0.06751396921668301)\n",
      "top20 result:\n",
      "avg_length:  (11.25860606060606, 1.1764097751062257)\n",
      "suc_rate:  (0.26455089355089356, 0.07639058068222888)\n",
      "top50 result:\n",
      "avg_length:  (9.500571872571873, 1.263131624214617)\n",
      "suc_rate:  (0.379055167055167, 0.0906789451734067)\n"
     ]
    }
   ],
   "source": [
    "table_path = \"../tables/reproducing/cd/lp1simplified_top100_random.csv\"\n",
    "df = load_dataframe_csv(table_path,\"\")  \n",
    "\n",
    "# rating random \n",
    "print (\"top1 result:\")\n",
    "get_2_metric(df, topk = 1, print_result= True)\n",
    "\n",
    "print (\"top5 result:\")\n",
    "get_2_metric(df, topk = 5, print_result= True)\n",
    "\n",
    "print (\"top10 result:\")\n",
    "get_2_metric(df, topk = 10, print_result= True)\n",
    "\n",
    "print ('top20 result:')\n",
    "get_2_metric(df, topk = 20, print_result= True)\n",
    "\n",
    "print ('top50 result:')\n",
    "get_2_metric(df, topk = 50, print_result= True)"
   ]
  },
  {
   "cell_type": "markdown",
   "metadata": {},
   "source": [
    "### RankSVM3"
   ]
  },
  {
   "cell_type": "code",
   "execution_count": 249,
   "metadata": {},
   "outputs": [
    {
     "data": {
      "text/plain": [
       "(1,\n",
       " (11.445679875679877, 1.1777676820860519),\n",
       " (0.25874358974358974, 0.0814482211780933))"
      ]
     },
     "execution_count": 249,
     "metadata": {},
     "output_type": "execute_result"
    }
   ],
   "source": [
    "get_best_metric_with_single_lambda(data_path = \"\", \n",
    "                                   lambs = [0.0001, 0.001, 0.01, 0.05, 0.1, 0.5, 1, 5, 10, 30, 50, 70, 90, 100, 200, 500, 1000, 10000, 100000],\n",
    "                                   dataset_name = \"cd\", \n",
    "                                   keyphrase_selection_method = \"random\",\n",
    "                                   topk = 20, \n",
    "                                   return_all = False)"
   ]
  },
  {
   "cell_type": "code",
   "execution_count": 251,
   "metadata": {},
   "outputs": [
    {
     "name": "stdout",
     "output_type": "stream",
     "text": [
      "top1 result:\n",
      "avg_length:  (15.51269696969697, 0.8872857281923647)\n",
      "suc_rate:  (0.00044444444444444447, 0.0008623560033670605)\n",
      "top5 result:\n",
      "avg_length:  (14.507654234654234, 1.0675023525914091)\n",
      "suc_rate:  (0.06887179487179487, 0.04190257852605433)\n",
      "top10 result:\n",
      "avg_length:  (12.904295260295262, 1.0185065526439159)\n",
      "suc_rate:  (0.17385470085470087, 0.06176702370735052)\n",
      "top20 result:\n",
      "avg_length:  (11.445679875679877, 1.1777676820860519)\n",
      "suc_rate:  (0.25874358974358974, 0.0814482211780933)\n",
      "top50 result:\n",
      "avg_length:  (9.476691530691532, 1.095483144627841)\n",
      "suc_rate:  (0.4123628593628594, 0.07778894528541312)\n"
     ]
    }
   ],
   "source": [
    "table_path = \"../tables/tuning_lambda/cd/tuning_cd_at_lamb_1_with_random.csv\"\n",
    "df = load_dataframe_csv(table_path,\"\")\n",
    "\n",
    "# ranksvm3 random \n",
    "print (\"top1 result:\")\n",
    "get_2_metric(df, topk = 1, print_result= True)\n",
    "\n",
    "print (\"top5 result:\")\n",
    "get_2_metric(df, topk = 5, print_result= True)\n",
    "\n",
    "print (\"top10 result:\")\n",
    "get_2_metric(df, topk = 10, print_result= True)\n",
    "\n",
    "print ('top20 result:')\n",
    "get_2_metric(df, topk = 20, print_result= True)\n",
    "\n",
    "print ('top50 result:')\n",
    "get_2_metric(df, topk = 50, print_result= True)"
   ]
  },
  {
   "cell_type": "code",
   "execution_count": 15,
   "metadata": {},
   "outputs": [
    {
     "data": {
      "text/plain": [
       "(0.05,\n",
       " (11.773568764568765, 1.1759729184744652),\n",
       " (0.25685470085470086, 0.08114215225680596))"
      ]
     },
     "execution_count": 15,
     "metadata": {},
     "output_type": "execute_result"
    }
   ],
   "source": [
    "# Top 100\n",
    "get_best_metric_with_single_lambda(data_path = \"\", \n",
    "                                   lambs = [0.0001, 0.001, 0.01, 0.05, 0.1, 0.5, 1, 5, 10, 30, 50, 70, 90, 100, 200, 500, 1000, 10000, 100000],\n",
    "                                   dataset_name = \"cd\", \n",
    "                                   keyphrase_selection_method = \"random\",\n",
    "                                   topk = 20, \n",
    "                                   return_all = False)"
   ]
  },
  {
   "cell_type": "code",
   "execution_count": 18,
   "metadata": {},
   "outputs": [
    {
     "name": "stdout",
     "output_type": "stream",
     "text": [
      "top1 result:\n",
      "avg_length:  (15.506919191919193, 0.886678937380012)\n",
      "suc_rate:  (0.0008888888888888889, 0.001724712006734121)\n",
      "top5 result:\n",
      "avg_length:  (14.379252525252527, 0.9900297215182119)\n",
      "suc_rate:  (0.08622222222222221, 0.05041660445273174)\n",
      "top10 result:\n",
      "avg_length:  (12.718671328671327, 1.13926426316782)\n",
      "suc_rate:  (0.194982905982906, 0.07531617532858065)\n",
      "top20 result:\n",
      "avg_length:  (11.773568764568765, 1.1759729184744652)\n",
      "suc_rate:  (0.25685470085470086, 0.08114215225680596)\n",
      "top50 result:\n",
      "avg_length:  (9.480096348096346, 1.060067319269504)\n",
      "suc_rate:  (0.39652758352758355, 0.07904671649034066)\n"
     ]
    }
   ],
   "source": [
    "table_path = \"../tables/tuning_lambda/cd/tuning_cd_at_lamb_0.05_with_random.csv\"\n",
    "df = load_dataframe_csv(table_path,\"\")\n",
    "\n",
    "# ranksvm3 random \n",
    "print (\"top1 result:\")\n",
    "get_2_metric(df, topk = 1, print_result= True)\n",
    "\n",
    "print (\"top5 result:\")\n",
    "get_2_metric(df, topk = 5, print_result= True)\n",
    "\n",
    "print (\"top10 result:\")\n",
    "get_2_metric(df, topk = 10, print_result= True)\n",
    "\n",
    "print ('top20 result:')\n",
    "get_2_metric(df, topk = 20, print_result= True)\n",
    "\n",
    "print ('top50 result:')\n",
    "get_2_metric(df, topk = 50, print_result= True)"
   ]
  },
  {
   "cell_type": "markdown",
   "metadata": {},
   "source": [
    "## Diff"
   ]
  },
  {
   "cell_type": "markdown",
   "metadata": {},
   "source": [
    "### Average"
   ]
  },
  {
   "cell_type": "code",
   "execution_count": 266,
   "metadata": {},
   "outputs": [
    {
     "name": "stdout",
     "output_type": "stream",
     "text": [
      "top1 result:\n",
      "avg_length:  (19.80688888888889, 0.36858341191401006)\n",
      "suc_rate:  (0.010444444444444445, 0.019404574377332576)\n",
      "top5 result:\n",
      "avg_length:  (18.88533333333333, 0.7358294917565255)\n",
      "suc_rate:  (0.0782222222222222, 0.0461964521495956)\n",
      "top10 result:\n",
      "avg_length:  (17.133923076923075, 1.1366983255576752)\n",
      "suc_rate:  (0.1738717948717949, 0.06721606111703819)\n",
      "top20 result:\n",
      "avg_length:  (15.454273504273504, 1.4980372058706233)\n",
      "suc_rate:  (0.24950427350427348, 0.08179478911531693)\n",
      "top50 result:\n",
      "avg_length:  (11.965618492618495, 1.6157171906561767)\n",
      "suc_rate:  (0.44497824397824404, 0.08505796618004202)\n"
     ]
    }
   ],
   "source": [
    "# average random\n",
    "table_path = \"../tables/reproducing/cd/avg_50users_diff.csv\"\n",
    "df = load_dataframe_csv(table_path,\"\")   \n",
    "\n",
    "# avg random \n",
    "print (\"top1 result:\")\n",
    "get_2_metric(df, topk = 1, print_result= True)\n",
    "\n",
    "print (\"top5 result:\")\n",
    "get_2_metric(df, topk = 5, print_result= True)\n",
    "\n",
    "print (\"top10 result:\")\n",
    "get_2_metric(df, topk = 10, print_result= True)\n",
    "\n",
    "print ('top20 result:')\n",
    "get_2_metric(df, topk = 20, print_result= True)\n",
    "\n",
    "print ('top50 result:')\n",
    "get_2_metric(df, topk = 50, print_result= True)"
   ]
  },
  {
   "cell_type": "markdown",
   "metadata": {},
   "source": [
    "### Rating"
   ]
  },
  {
   "cell_type": "code",
   "execution_count": 267,
   "metadata": {},
   "outputs": [
    {
     "name": "stdout",
     "output_type": "stream",
     "text": [
      "top1 result:\n",
      "avg_length:  (19.108, 0.626048286455783)\n",
      "suc_rate:  (0.05244444444444443, 0.03473969923038027)\n",
      "top5 result:\n",
      "avg_length:  (17.29931623931624, 1.0772688452562702)\n",
      "suc_rate:  (0.15252136752136752, 0.05982914064609926)\n",
      "top10 result:\n",
      "avg_length:  (16.317216783216782, 1.2821504540765372)\n",
      "suc_rate:  (0.20125174825174824, 0.06886181784401578)\n",
      "top20 result:\n",
      "avg_length:  (15.20365268065268, 1.3950310563510468)\n",
      "suc_rate:  (0.2574568764568765, 0.07410571071925763)\n",
      "top50 result:\n",
      "avg_length:  (12.858071484071486, 1.5746680337512364)\n",
      "suc_rate:  (0.39329448329448324, 0.08459444984284296)\n"
     ]
    }
   ],
   "source": [
    "table_path = \"../tables/reproducing/cd/lp1simplified_top100_diff.csv\"\n",
    "df = load_dataframe_csv(table_path,\"\")  \n",
    "\n",
    "# rating random \n",
    "print (\"top1 result:\")\n",
    "get_2_metric(df, topk = 1, print_result= True)\n",
    "\n",
    "print (\"top5 result:\")\n",
    "get_2_metric(df, topk = 5, print_result= True)\n",
    "\n",
    "print (\"top10 result:\")\n",
    "get_2_metric(df, topk = 10, print_result= True)\n",
    "\n",
    "print ('top20 result:')\n",
    "get_2_metric(df, topk = 20, print_result= True)\n",
    "\n",
    "print ('top50 result:')\n",
    "get_2_metric(df, topk = 50, print_result= True)"
   ]
  },
  {
   "cell_type": "markdown",
   "metadata": {},
   "source": [
    "### RankSVM3"
   ]
  },
  {
   "cell_type": "code",
   "execution_count": 255,
   "metadata": {},
   "outputs": [
    {
     "data": {
      "text/plain": [
       "(0.5,\n",
       " (15.701196581196582, 1.3644102903578286),\n",
       " (0.24994871794871792, 0.07898130125943605))"
      ]
     },
     "execution_count": 255,
     "metadata": {},
     "output_type": "execute_result"
    }
   ],
   "source": [
    "get_best_metric_with_single_lambda(data_path = \"\", \n",
    "                                   lambs = [0.0001, 0.001, 0.01, 0.05, 0.1, 0.5, 1, 5, 10, 30, 50, 70, 90, 100, 200, 500, 1000, 10000, 100000],\n",
    "                                   dataset_name = \"cd\", \n",
    "                                   keyphrase_selection_method = \"diff\",\n",
    "                                   topk = 20, \n",
    "                                   return_all = False)"
   ]
  },
  {
   "cell_type": "code",
   "execution_count": 256,
   "metadata": {},
   "outputs": [
    {
     "name": "stdout",
     "output_type": "stream",
     "text": [
      "top1 result:\n",
      "avg_length:  (19.80377777777778, 0.36860848708114)\n",
      "suc_rate:  (0.010888888888888887, 0.019444421546653188)\n",
      "top5 result:\n",
      "avg_length:  (18.973444444444443, 0.6850892426333598)\n",
      "suc_rate:  (0.06744444444444443, 0.044688520031628744)\n",
      "top10 result:\n",
      "avg_length:  (17.21054700854701, 1.112399545918299)\n",
      "suc_rate:  (0.1645384615384615, 0.06600664793263698)\n",
      "top20 result:\n",
      "avg_length:  (15.701196581196582, 1.3644102903578286)\n",
      "suc_rate:  (0.24994871794871792, 0.07898130125943605)\n",
      "top50 result:\n",
      "avg_length:  (12.702292152292152, 1.5786776267931855)\n",
      "suc_rate:  (0.40538228438228435, 0.0864953934289889)\n"
     ]
    }
   ],
   "source": [
    "table_path = \"../tables/tuning_lambda/cd/tuning_cd_at_lamb_0.5_with_diff.csv\"\n",
    "df = load_dataframe_csv(table_path,\"\")\n",
    "\n",
    "# ranksvm3 random \n",
    "print (\"top1 result:\")\n",
    "get_2_metric(df, topk = 1, print_result= True)\n",
    "\n",
    "print (\"top5 result:\")\n",
    "get_2_metric(df, topk = 5, print_result= True)\n",
    "\n",
    "print (\"top10 result:\")\n",
    "get_2_metric(df, topk = 10, print_result= True)\n",
    "\n",
    "print ('top20 result:')\n",
    "get_2_metric(df, topk = 20, print_result= True)\n",
    "\n",
    "print ('top50 result:')\n",
    "get_2_metric(df, topk = 50, print_result= True)"
   ]
  },
  {
   "cell_type": "code",
   "execution_count": 17,
   "metadata": {},
   "outputs": [
    {
     "data": {
      "text/plain": [
       "(0.0001,\n",
       " (15.86731623931624, 1.361310585524252),\n",
       " (0.23463247863247866, 0.07622905884921852))"
      ]
     },
     "execution_count": 17,
     "metadata": {},
     "output_type": "execute_result"
    }
   ],
   "source": [
    "## Top 100\n",
    "get_best_metric_with_single_lambda(data_path = \"\", \n",
    "                                   lambs = [0.0001, 0.001, 0.01, 0.05, 0.1, 0.5, 1, 5, 10, 30, 50, 70, 90, 100, 200, 500, 1000, 10000, 100000],\n",
    "                                   dataset_name = \"cd\", \n",
    "                                   keyphrase_selection_method = \"diff\",\n",
    "                                   topk = 20, \n",
    "                                   return_all = False)"
   ]
  },
  {
   "cell_type": "code",
   "execution_count": 20,
   "metadata": {},
   "outputs": [
    {
     "name": "stdout",
     "output_type": "stream",
     "text": [
      "top1 result:\n",
      "avg_length:  (19.80377777777778, 0.36860848708114)\n",
      "suc_rate:  (0.010444444444444445, 0.019404574377332576)\n",
      "top5 result:\n",
      "avg_length:  (18.894777777777776, 0.7700799848253058)\n",
      "suc_rate:  (0.06299999999999999, 0.044439059055945106)\n",
      "top10 result:\n",
      "avg_length:  (17.291888888888888, 1.1146541174414977)\n",
      "suc_rate:  (0.158, 0.06447999514750465)\n",
      "top20 result:\n",
      "avg_length:  (15.86731623931624, 1.361310585524252)\n",
      "suc_rate:  (0.23463247863247866, 0.07622905884921852)\n",
      "top50 result:\n",
      "avg_length:  (12.53661693861694, 1.640370317447069)\n",
      "suc_rate:  (0.41451048951048947, 0.08677753802432024)\n"
     ]
    }
   ],
   "source": [
    "table_path = \"../tables/tuning_lambda/cd/tuning_cd_at_lamb_0.0001_with_diff.csv\"\n",
    "df = load_dataframe_csv(table_path,\"\")\n",
    "\n",
    "# ranksvm3 random \n",
    "print (\"top1 result:\")\n",
    "get_2_metric(df, topk = 1, print_result= True)\n",
    "\n",
    "print (\"top5 result:\")\n",
    "get_2_metric(df, topk = 5, print_result= True)\n",
    "\n",
    "print (\"top10 result:\")\n",
    "get_2_metric(df, topk = 10, print_result= True)\n",
    "\n",
    "print ('top20 result:')\n",
    "get_2_metric(df, topk = 20, print_result= True)\n",
    "\n",
    "print ('top50 result:')\n",
    "get_2_metric(df, topk = 50, print_result= True)"
   ]
  },
  {
   "cell_type": "code",
   "execution_count": null,
   "metadata": {},
   "outputs": [],
   "source": []
  }
 ],
 "metadata": {
  "kernelspec": {
   "display_name": "Python 3",
   "language": "python",
   "name": "python3"
  },
  "language_info": {
   "codemirror_mode": {
    "name": "ipython",
    "version": 3
   },
   "file_extension": ".py",
   "mimetype": "text/x-python",
   "name": "python",
   "nbconvert_exporter": "python",
   "pygments_lexer": "ipython3",
   "version": "3.6.10"
  }
 },
 "nbformat": 4,
 "nbformat_minor": 2
}
