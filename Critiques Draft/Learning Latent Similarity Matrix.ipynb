{
 "cells": [
  {
   "cell_type": "code",
   "execution_count": 1,
   "metadata": {
    "collapsed": true
   },
   "outputs": [],
   "source": [
    "import sys \n",
    "# sys.path.clear()\n",
    "sys.path.insert(0, 'D:\\\\Anaconda\\\\envs\\\\tensorflow_cpu\\\\python36.zip')\n",
    "sys.path.insert(0, 'D:\\\\Anaconda\\\\envs\\\\tensorflow_cpu\\\\DLLs')\n",
    "sys.path.insert(0, 'D:\\\\Anaconda\\\\envs\\\\tensorflow_cpu\\\\lib')\n",
    "sys.path.insert(0, 'D:\\\\Anaconda\\\\envs\\\\tensorflow_cpu')\n",
    "sys.path.insert(0, 'D:\\\\Anaconda\\\\envs\\\\tensorflow_cpu\\\\lib\\\\site-packages')\n",
    "sys.path.insert(0, '')"
   ]
  },
  {
   "cell_type": "code",
   "execution_count": 6,
   "metadata": {
    "scrolled": false
   },
   "outputs": [
    {
     "data": {
      "text/plain": [
       "['',\n",
       " 'D:\\\\Anaconda\\\\envs\\\\tensorflow_cpu\\\\lib\\\\site-packages',\n",
       " 'D:\\\\Anaconda\\\\envs\\\\tensorflow_cpu',\n",
       " 'D:\\\\Anaconda\\\\envs\\\\tensorflow_cpu\\\\lib',\n",
       " 'D:\\\\Anaconda\\\\envs\\\\tensorflow_cpu\\\\DLLs',\n",
       " 'D:\\\\Anaconda\\\\envs\\\\tensorflow_cpu\\\\python36.zip',\n",
       " '',\n",
       " 'D:\\\\Anaconda\\\\python36.zip',\n",
       " 'D:\\\\Anaconda\\\\DLLs',\n",
       " 'D:\\\\Anaconda\\\\lib',\n",
       " 'D:\\\\Anaconda',\n",
       " 'D:\\\\Anaconda\\\\lib\\\\site-packages',\n",
       " 'D:\\\\Anaconda\\\\lib\\\\site-packages\\\\Sphinx-1.5.6-py3.6.egg',\n",
       " 'D:\\\\Anaconda\\\\lib\\\\site-packages\\\\win32',\n",
       " 'D:\\\\Anaconda\\\\lib\\\\site-packages\\\\win32\\\\lib',\n",
       " 'D:\\\\Anaconda\\\\lib\\\\site-packages\\\\Pythonwin',\n",
       " 'D:\\\\Anaconda\\\\lib\\\\site-packages\\\\setuptools-27.2.0-py3.6.egg',\n",
       " 'D:\\\\Anaconda\\\\lib\\\\site-packages\\\\IPython\\\\extensions',\n",
       " 'C:\\\\Users\\\\Litos\\\\.ipython']"
      ]
     },
     "execution_count": 6,
     "metadata": {},
     "output_type": "execute_result"
    }
   ],
   "source": [
    "sys.path"
   ]
  },
  {
   "cell_type": "code",
   "execution_count": 2,
   "metadata": {},
   "outputs": [
    {
     "name": "stdout",
     "output_type": "stream",
     "text": [
      "2.0.0\n"
     ]
    }
   ],
   "source": [
    "from __future__ import absolute_import, division, print_function, unicode_literals\n",
    "\n",
    "# TensorFlow and tf.keras\n",
    "import tensorflow as tf\n",
    "from tensorflow import keras\n",
    "\n",
    "# Helper libraries\n",
    "import numpy as np\n",
    "import matplotlib.pyplot as plt\n",
    "\n",
    "print(tf.__version__)"
   ]
  },
  {
   "cell_type": "code",
   "execution_count": 3,
   "metadata": {
    "collapsed": true
   },
   "outputs": [],
   "source": [
    "from scipy.sparse import csr_matrix, load_npz, save_npz\n",
    "from tqdm import tqdm\n",
    "from sklearn.preprocessing import normalize\n",
    "import datetime\n",
    "import json\n",
    "import pandas as pd\n",
    "import time\n",
    "import yaml\n",
    "import scipy.sparse as sparse\n",
    "from ast import literal_eval"
   ]
  },
  {
   "cell_type": "markdown",
   "metadata": {},
   "source": [
    "# Load data"
   ]
  },
  {
   "cell_type": "code",
   "execution_count": 4,
   "metadata": {
    "collapsed": true
   },
   "outputs": [],
   "source": [
    "# Load Original Data\n",
    "df_train = pd.read_csv('../../data/yelp/Train.csv',encoding='latin-1')\n",
    "df_valid = pd.read_csv('../../data/yelp/Valid.csv',encoding='latin-1')\n",
    "df_test = pd.read_csv('../../data/yelp/Test.csv',encoding='latin-1')\n",
    "keyphrases = pd.read_csv('../../data/yelp/KeyPhrases.csv')['Phrases'].tolist()"
   ]
  },
  {
   "cell_type": "code",
   "execution_count": 6,
   "metadata": {
    "collapsed": true
   },
   "outputs": [],
   "source": [
    "def to_sparse_matrix(df, num_user, num_item, user_col, item_col, rating_col):\n",
    "\n",
    "    dok = df[[user_col, item_col, rating_col]].copy()\n",
    "    dok = dok.values\n",
    "    dok = dok[dok[:, 2] > 0]\n",
    "    shape = [num_user, num_item]\n",
    "    return sparse.csr_matrix((dok[:, 2].astype(np.float32), (dok[:, 0], dok[:, 1])), shape=shape)\n",
    "\n",
    "def generate_sparse():\n",
    "#     num_users = df_train['UserIndex'].nunique()\n",
    "#     num_items = df_train['ItemIndex'].nunique()\n",
    "    num_users = df_train['UserIndex'].max() + 1\n",
    "    num_items = df_train['ItemIndex'].max() + 1\n",
    "    R_train = to_sparse_matrix(df_train, num_users, num_items, 'UserIndex', 'ItemIndex', rating_col)\n",
    "    sparse.save_npz('../../data/yelp/' + 'Rtrain.npz', R_train)\n",
    "    \n",
    "    R_valid = to_sparse_matrix(df_valid, num_users, num_items, 'UserIndex','ItemIndex', rating_col)\n",
    "    sparse.save_npz('../../data/yelp/' + 'Rvalid.npz', R_valid)\n",
    "    \n",
    "    R_test = to_sparse_matrix(df_test, num_users, num_items, 'UserIndex', 'ItemIndex', rating_col)\n",
    "    sparse.save_npz('../../data/yelp/' + 'Rtest.npz', R_test)"
   ]
  },
  {
   "cell_type": "code",
   "execution_count": 9,
   "metadata": {
    "scrolled": false
   },
   "outputs": [
    {
     "data": {
      "text/plain": [
       "7455"
      ]
     },
     "execution_count": 9,
     "metadata": {},
     "output_type": "execute_result"
    }
   ],
   "source": [
    "df_train['ItemIndex'].max()"
   ]
  },
  {
   "cell_type": "code",
   "execution_count": 10,
   "metadata": {},
   "outputs": [
    {
     "data": {
      "text/plain": [
       "2191"
      ]
     },
     "execution_count": 10,
     "metadata": {},
     "output_type": "execute_result"
    }
   ],
   "source": [
    "df_train['UserIndex'].nunique()"
   ]
  },
  {
   "cell_type": "code",
   "execution_count": 11,
   "metadata": {},
   "outputs": [
    {
     "data": {
      "text/plain": [
       "2342"
      ]
     },
     "execution_count": 11,
     "metadata": {},
     "output_type": "execute_result"
    }
   ],
   "source": [
    "df_train['UserIndex'].max()"
   ]
  },
  {
   "cell_type": "code",
   "execution_count": 12,
   "metadata": {
    "collapsed": true
   },
   "outputs": [],
   "source": [
    "rating_col = 'rating'\n",
    "generate_sparse()"
   ]
  },
  {
   "cell_type": "code",
   "execution_count": 7,
   "metadata": {
    "collapsed": true
   },
   "outputs": [],
   "source": [
    "# Load U-I Data \n",
    "rtrain = load_npz(\"../../data/yelp/Rtrain.npz\")\n",
    "rvalid = load_npz(\"../../data/yelp/Rvalid.npz\")\n",
    "rtest = load_npz(\"../../data/yelp/Rtest.npz\")"
   ]
  },
  {
   "cell_type": "code",
   "execution_count": 14,
   "metadata": {},
   "outputs": [
    {
     "data": {
      "text/plain": [
       "<2343x7456 sparse matrix of type '<class 'numpy.float32'>'\n",
       "\twith 95153 stored elements in Compressed Sparse Row format>"
      ]
     },
     "execution_count": 14,
     "metadata": {},
     "output_type": "execute_result"
    }
   ],
   "source": [
    "rtrain"
   ]
  },
  {
   "cell_type": "markdown",
   "metadata": {},
   "source": [
    "# Models"
   ]
  },
  {
   "cell_type": "code",
   "execution_count": 8,
   "metadata": {
    "collapsed": true
   },
   "outputs": [],
   "source": [
    "# Models\n",
    "from sklearn.metrics.pairwise import cosine_similarity\n",
    "def train(matrix_train):\n",
    "    similarity = cosine_similarity(X=matrix_train, Y=None, dense_output=True)\n",
    "    return similarity\n",
    "\n",
    "def get_I_K(df, row_name = 'ItemIndex', shape = (3668,75)):\n",
    "    rows = []\n",
    "    cols = []\n",
    "    vals = []\n",
    "    for i in tqdm(range(df.shape[0])):\n",
    "        key_vector = literal_eval(df['keyVector'][i])\n",
    "        rows.extend([df[row_name][i]]*len(key_vector)) ## Item index\n",
    "        cols.extend(key_vector) ## Keyword Index\n",
    "        vals.extend(np.array([1]*len(key_vector)))\n",
    "    return csr_matrix((vals, (rows, cols)), shape=shape)\n",
    "\n",
    "def predict(matrix_train, k, similarity, item_similarity_en = False):\n",
    "    \"\"\"\n",
    "    res = similarity * matrix_train    if item_similarity_en = False\n",
    "    res = similarity * matrix_train.T  if item_similarity_en = True\n",
    "    \"\"\"\n",
    "    prediction_scores = []\n",
    "    \n",
    "    if item_similarity_en:\n",
    "        matrix_train = matrix_train.transpose()\n",
    "        \n",
    "    for user_index in tqdm(range(matrix_train.shape[0])):\n",
    "        # Get user u's prediction scores to all users\n",
    "        vector_u = similarity[user_index]\n",
    "\n",
    "        # Get closest K neighbors excluding user u self\n",
    "        similar_users = vector_u.argsort()[::-1][1:k+1]\n",
    "        # Get neighbors similarity weights and ratings\n",
    "        similar_users_weights = similarity[user_index][similar_users]\n",
    "        similar_users_ratings = matrix_train[similar_users].toarray()\n",
    "\n",
    "        prediction_scores_u = similar_users_ratings * similar_users_weights[:, np.newaxis]\n",
    "\n",
    "        prediction_scores.append(np.sum(prediction_scores_u, axis=0))\n",
    "    res = np.array(prediction_scores)\n",
    "    \n",
    "    if item_similarity_en:\n",
    "        res = res.transpose()\n",
    "    \n",
    "    return res\n",
    "\n",
    "def prediction(prediction_score, topK, matrix_Train):\n",
    "\n",
    "    prediction = []\n",
    "\n",
    "    for user_index in tqdm(range(matrix_Train.shape[0])):\n",
    "        vector_u = prediction_score[user_index]\n",
    "        vector_train = matrix_Train[user_index]\n",
    "        if len(vector_train.nonzero()[0]) > 0:\n",
    "            vector_predict = sub_routine(vector_u, vector_train, topK=topK)\n",
    "        else:\n",
    "            vector_predict = np.zeros(topK, dtype=np.float32)\n",
    "\n",
    "        prediction.append(vector_predict)\n",
    "\n",
    "    return np.vstack(prediction)\n",
    "\n",
    "\n",
    "def sub_routine(vector_u, vector_train, topK=500):\n",
    "\n",
    "    train_index = vector_train.nonzero()[1]\n",
    "\n",
    "    vector_u = vector_u\n",
    "\n",
    "    candidate_index = np.argpartition(-vector_u, topK+len(train_index))[:topK+len(train_index)]\n",
    "    vector_u = candidate_index[vector_u[candidate_index].argsort()[::-1]]\n",
    "    vector_u = np.delete(vector_u, np.isin(vector_u, train_index).nonzero()[0])\n",
    "\n",
    "    return vector_u[:topK]\n"
   ]
  },
  {
   "cell_type": "code",
   "execution_count": 9,
   "metadata": {
    "collapsed": true
   },
   "outputs": [],
   "source": [
    "# Evluation \n",
    "def recallk(vector_true_dense, hits, **unused):\n",
    "    hits = len(hits.nonzero()[0])\n",
    "    return float(hits)/len(vector_true_dense)\n",
    "\n",
    "def precisionk(vector_predict, hits, **unused):\n",
    "    hits = len(hits.nonzero()[0])\n",
    "    return float(hits)/len(vector_predict)\n",
    "\n",
    "\n",
    "def average_precisionk(vector_predict, hits, **unused):\n",
    "    precisions = np.cumsum(hits, dtype=np.float32)/range(1, len(vector_predict)+1)\n",
    "    return np.mean(precisions)\n",
    "\n",
    "\n",
    "def r_precision(vector_true_dense, vector_predict, **unused):\n",
    "    vector_predict_short = vector_predict[:len(vector_true_dense)]\n",
    "    hits = len(np.isin(vector_predict_short, vector_true_dense).nonzero()[0])\n",
    "    return float(hits)/len(vector_true_dense)\n",
    "\n",
    "\n",
    "def _dcg_support(size):\n",
    "    arr = np.arange(1, size+1)+1\n",
    "    return 1./np.log2(arr)\n",
    "\n",
    "\n",
    "def ndcg(vector_true_dense, vector_predict, hits):\n",
    "    idcg = np.sum(_dcg_support(len(vector_true_dense)))\n",
    "    dcg_base = _dcg_support(len(vector_predict))\n",
    "    dcg_base[np.logical_not(hits)] = 0\n",
    "    dcg = np.sum(dcg_base)\n",
    "    return dcg/idcg\n",
    "\n",
    "\n",
    "def click(hits, **unused):\n",
    "    first_hit = next((i for i, x in enumerate(hits) if x), None)\n",
    "    if first_hit is None:\n",
    "        return 5\n",
    "    else:\n",
    "        return first_hit/10\n",
    "\n",
    "\n",
    "def evaluate(matrix_Predict, matrix_Test, metric_names =['R-Precision', 'NDCG', 'Precision', 'Recall', 'MAP'], atK = [5, 10, 15, 20, 50], analytical=False):\n",
    "    \"\"\"\n",
    "    :param matrix_U: Latent representations of users, for LRecs it is RQ, for ALSs it is U\n",
    "    :param matrix_V: Latent representations of items, for LRecs it is Q, for ALSs it is V\n",
    "    :param matrix_Train: Rating matrix for training, features.\n",
    "    :param matrix_Test: Rating matrix for evaluation, true labels.\n",
    "    :param k: Top K retrieval\n",
    "    :param metric_names: Evaluation metrics\n",
    "    :return:\n",
    "    \"\"\"\n",
    "    global_metrics = {\n",
    "        \"R-Precision\": r_precision,\n",
    "        \"NDCG\": ndcg,\n",
    "        \"Clicks\": click\n",
    "    }\n",
    "\n",
    "    local_metrics = {\n",
    "        \"Precision\": precisionk,\n",
    "        \"Recall\": recallk,\n",
    "        \"MAP\": average_precisionk\n",
    "    }\n",
    "\n",
    "    output = dict()\n",
    "\n",
    "    num_users = matrix_Predict.shape[0]\n",
    "\n",
    "    for k in atK:\n",
    "\n",
    "        local_metric_names = list(set(metric_names).intersection(local_metrics.keys()))\n",
    "        results = {name: [] for name in local_metric_names}\n",
    "        topK_Predict = matrix_Predict[:, :k]\n",
    "\n",
    "        for user_index in tqdm(range(topK_Predict.shape[0])):\n",
    "            vector_predict = topK_Predict[user_index]\n",
    "            if len(vector_predict.nonzero()[0]) > 0:\n",
    "                vector_true = matrix_Test[user_index]\n",
    "                vector_true_dense = vector_true.nonzero()[1]\n",
    "                hits = np.isin(vector_predict, vector_true_dense)\n",
    "\n",
    "                if vector_true_dense.size > 0:\n",
    "                    for name in local_metric_names:\n",
    "                        results[name].append(local_metrics[name](vector_true_dense=vector_true_dense,\n",
    "                                                                 vector_predict=vector_predict,\n",
    "                                                                 hits=hits))\n",
    "\n",
    "        results_summary = dict()\n",
    "        if analytical:\n",
    "            for name in local_metric_names:\n",
    "                results_summary['{0}@{1}'.format(name, k)] = results[name]\n",
    "        else:\n",
    "            for name in local_metric_names:\n",
    "                results_summary['{0}@{1}'.format(name, k)] = (np.average(results[name]),\n",
    "                                                              1.96*np.std(results[name])/np.sqrt(num_users))\n",
    "        output.update(results_summary)\n",
    "\n",
    "    global_metric_names = list(set(metric_names).intersection(global_metrics.keys()))\n",
    "    results = {name: [] for name in global_metric_names}\n",
    "\n",
    "    topK_Predict = matrix_Predict[:]\n",
    "\n",
    "    for user_index in tqdm(range(topK_Predict.shape[0])):\n",
    "        vector_predict = topK_Predict[user_index]\n",
    "\n",
    "        if len(vector_predict.nonzero()[0]) > 0:\n",
    "            vector_true = matrix_Test[user_index]\n",
    "            vector_true_dense = vector_true.nonzero()[1]\n",
    "            hits = np.isin(vector_predict, vector_true_dense)\n",
    "\n",
    "            # if user_index == 1:\n",
    "            #     import ipdb;\n",
    "            #     ipdb.set_trace()\n",
    "\n",
    "            if vector_true_dense.size > 0:\n",
    "                for name in global_metric_names:\n",
    "                    results[name].append(global_metrics[name](vector_true_dense=vector_true_dense,\n",
    "                                                              vector_predict=vector_predict,\n",
    "                                                              hits=hits))\n",
    "\n",
    "    results_summary = dict()\n",
    "    if analytical:\n",
    "        for name in global_metric_names:\n",
    "            results_summary[name] = results[name]\n",
    "    else:\n",
    "        for name in global_metric_names:\n",
    "            results_summary[name] = (np.average(results[name]), 1.96*np.std(results[name])/np.sqrt(num_users))\n",
    "    output.update(results_summary)\n",
    "\n",
    "    return output\n",
    "\n"
   ]
  },
  {
   "cell_type": "code",
   "execution_count": 10,
   "metadata": {},
   "outputs": [
    {
     "data": {
      "text/plain": [
       "<2343x7456 sparse matrix of type '<class 'numpy.float32'>'\n",
       "\twith 95153 stored elements in Compressed Sparse Row format>"
      ]
     },
     "execution_count": 10,
     "metadata": {},
     "output_type": "execute_result"
    }
   ],
   "source": [
    "rtrain"
   ]
  },
  {
   "cell_type": "code",
   "execution_count": 18,
   "metadata": {},
   "outputs": [
    {
     "data": {
      "text/plain": [
       "235"
      ]
     },
     "execution_count": 18,
     "metadata": {},
     "output_type": "execute_result"
    }
   ],
   "source": [
    "len(keyphrases)"
   ]
  },
  {
   "cell_type": "code",
   "execution_count": 14,
   "metadata": {},
   "outputs": [
    {
     "name": "stderr",
     "output_type": "stream",
     "text": [
      "100%|███████████████████████████████████████████████████████████████████████████| 95153/95153 [04:33<00:00, 348.48it/s]\n"
     ]
    }
   ],
   "source": [
    "# Generate U-K \n",
    "U_K = get_I_K(df_train, row_name = 'UserIndex', shape = (2343,235))"
   ]
  },
  {
   "cell_type": "code",
   "execution_count": 32,
   "metadata": {
    "collapsed": true
   },
   "outputs": [],
   "source": [
    "save_npz(\"../../data/yelp/U_K\",U_K)"
   ]
  },
  {
   "cell_type": "code",
   "execution_count": 11,
   "metadata": {
    "collapsed": true
   },
   "outputs": [],
   "source": [
    "U_K = load_npz(\"../../data/yelp/U_K.npz\")"
   ]
  },
  {
   "cell_type": "code",
   "execution_count": 194,
   "metadata": {},
   "outputs": [
    {
     "name": "stderr",
     "output_type": "stream",
     "text": [
      "100%|███████████████████████████████████████████████████████████████████████████| 95153/95153 [04:03<00:00, 391.29it/s]\n"
     ]
    }
   ],
   "source": [
    "# Generate I-K \n",
    "I_K = get_I_K(df_train, row_name = 'ItemIndex', shape = (7456,235))"
   ]
  },
  {
   "cell_type": "code",
   "execution_count": 196,
   "metadata": {
    "collapsed": true
   },
   "outputs": [],
   "source": [
    "save_npz(\"../../data/yelp/I_K\",I_K)"
   ]
  },
  {
   "cell_type": "code",
   "execution_count": 12,
   "metadata": {
    "collapsed": true
   },
   "outputs": [],
   "source": [
    "I_K = load_npz(\"../../data/yelp/I_K.npz\")"
   ]
  },
  {
   "cell_type": "markdown",
   "metadata": {},
   "source": [
    "# U_I Result"
   ]
  },
  {
   "cell_type": "code",
   "execution_count": 53,
   "metadata": {},
   "outputs": [
    {
     "name": "stderr",
     "output_type": "stream",
     "text": [
      "100%|█████████████████████████████████████████████████████████████████████████████| 2343/2343 [00:07<00:00, 316.79it/s]\n",
      "100%|████████████████████████████████████████████████████████████████████████████| 2343/2343 [00:00<00:00, 2736.76it/s]\n",
      "100%|████████████████████████████████████████████████████████████████████████████| 2343/2343 [00:00<00:00, 4707.96it/s]\n",
      "100%|████████████████████████████████████████████████████████████████████████████| 2343/2343 [00:00<00:00, 4633.55it/s]\n",
      "100%|████████████████████████████████████████████████████████████████████████████| 2343/2343 [00:00<00:00, 4424.24it/s]\n",
      "100%|████████████████████████████████████████████████████████████████████████████| 2343/2343 [00:00<00:00, 4372.45it/s]\n",
      "100%|████████████████████████████████████████████████████████████████████████████| 2343/2343 [00:00<00:00, 4570.56it/s]\n",
      "100%|████████████████████████████████████████████████████████████████████████████| 2343/2343 [00:00<00:00, 3882.90it/s]\n"
     ]
    }
   ],
   "source": [
    "similarity = normalize(train(rtrain))\n",
    "user_item_prediction_score = predict(rtrain, 100, similarity, item_similarity_en= False)\n",
    "user_item_predict = prediction(user_item_prediction_score, 50, rtrain)\n",
    "user_item_res = evaluate(user_item_predict, rtest)"
   ]
  },
  {
   "cell_type": "code",
   "execution_count": 54,
   "metadata": {
    "scrolled": true
   },
   "outputs": [
    {
     "data": {
      "text/plain": [
       "{'MAP@10': (0.06333952750429245, 0.00455145183026277),\n",
       " 'MAP@15': (0.05872249612550844, 0.0038121823597348156),\n",
       " 'MAP@20': (0.055196280875748356, 0.003345258771111864),\n",
       " 'MAP@5': (0.06940666362391602, 0.0060646277121995185),\n",
       " 'MAP@50': (0.04436838784245958, 0.0022020570312340938),\n",
       " 'NDCG': (0.09071795198195, 0.003803970590016347),\n",
       " 'Precision@10': (0.05330899132816066, 0.0032544740534870857),\n",
       " 'Precision@15': (0.04698006998326487, 0.0025622684368576416),\n",
       " 'Precision@20': (0.043336376083979916, 0.002222006808632301),\n",
       " 'Precision@5': (0.06462802373345505, 0.004754606217931856),\n",
       " 'Precision@50': (0.032889091738931994, 0.0014317314500480152),\n",
       " 'R-Precision': (0.048464138894968055, 0.0027869069242192506),\n",
       " 'Recall@10': (0.04269615369598775, 0.0027831077562657665),\n",
       " 'Recall@15': (0.05562887733868642, 0.0031389991916236284),\n",
       " 'Recall@20': (0.0677664821917642, 0.003424484045821138),\n",
       " 'Recall@5': (0.026408137823500974, 0.002191309117794643),\n",
       " 'Recall@50': (0.12696642809611336, 0.0048241883971306436)}"
      ]
     },
     "execution_count": 54,
     "metadata": {},
     "output_type": "execute_result"
    }
   ],
   "source": [
    "# k = 100\n",
    "user_item_res"
   ]
  },
  {
   "cell_type": "markdown",
   "metadata": {},
   "source": [
    "### Recsys14 style normalization"
   ]
  },
  {
   "cell_type": "code",
   "execution_count": 56,
   "metadata": {
    "collapsed": true
   },
   "outputs": [],
   "source": [
    "similarity =train(rtrain)\n",
    "similarity = normalize(similarity.T).T"
   ]
  },
  {
   "cell_type": "code",
   "execution_count": 57,
   "metadata": {},
   "outputs": [
    {
     "name": "stderr",
     "output_type": "stream",
     "text": [
      "100%|█████████████████████████████████████████████████████████████████████████████| 2343/2343 [00:07<00:00, 315.02it/s]\n",
      "100%|████████████████████████████████████████████████████████████████████████████| 2343/2343 [00:00<00:00, 2607.32it/s]\n",
      "100%|████████████████████████████████████████████████████████████████████████████| 2343/2343 [00:00<00:00, 4624.54it/s]\n",
      "100%|████████████████████████████████████████████████████████████████████████████| 2343/2343 [00:00<00:00, 4689.16it/s]\n",
      "100%|████████████████████████████████████████████████████████████████████████████| 2343/2343 [00:00<00:00, 4449.14it/s]\n",
      "100%|████████████████████████████████████████████████████████████████████████████| 2343/2343 [00:00<00:00, 4570.32it/s]\n",
      "100%|████████████████████████████████████████████████████████████████████████████| 2343/2343 [00:00<00:00, 4457.59it/s]\n",
      "100%|████████████████████████████████████████████████████████████████████████████| 2343/2343 [00:00<00:00, 3851.27it/s]\n"
     ]
    }
   ],
   "source": [
    "user_item_prediction_score = predict(normalize(rtrain), 100, similarity, item_similarity_en= False)\n",
    "user_item_predict = prediction(user_item_prediction_score, 50, rtrain)\n",
    "user_item_res = evaluate(user_item_predict, rtest)"
   ]
  },
  {
   "cell_type": "code",
   "execution_count": 58,
   "metadata": {},
   "outputs": [
    {
     "data": {
      "text/plain": [
       "{'MAP@10': (0.06370092659001833, 0.004556800214078768),\n",
       " 'MAP@15': (0.059054675398810506, 0.0038016289715754833),\n",
       " 'MAP@20': (0.055604339782743234, 0.0033408205027605008),\n",
       " 'MAP@5': (0.07105431309904152, 0.006198900000542999),\n",
       " 'MAP@50': (0.044528226214501844, 0.0022039132659122675),\n",
       " 'NDCG': (0.09053317886655628, 0.0038034625149712706),\n",
       " 'Precision@10': (0.05326335006846189, 0.0032268393531510787),\n",
       " 'Precision@15': (0.0480754602160353, 0.0026394244210492745),\n",
       " 'Precision@20': (0.04386125057051574, 0.0022541432349504993),\n",
       " 'Precision@5': (0.061798265632131436, 0.004583417285455465),\n",
       " 'Precision@50': (0.03297124600638977, 0.0014485014634401355),\n",
       " 'R-Precision': (0.04779854921317674, 0.002693423071180068),\n",
       " 'Recall@10': (0.041582539180156135, 0.002647782330163792),\n",
       " 'Recall@15': (0.056391989896148215, 0.003169227471950738),\n",
       " 'Recall@20': (0.06785713007089812, 0.0034282135104452384),\n",
       " 'Recall@5': (0.024449264509783047, 0.0020154799928708326),\n",
       " 'Recall@50': (0.1247707158596782, 0.004702420971035759)}"
      ]
     },
     "execution_count": 58,
     "metadata": {},
     "output_type": "execute_result"
    }
   ],
   "source": [
    "user_item_res"
   ]
  },
  {
   "cell_type": "markdown",
   "metadata": {},
   "source": [
    "# Unlearned"
   ]
  },
  {
   "cell_type": "code",
   "execution_count": 59,
   "metadata": {},
   "outputs": [
    {
     "name": "stderr",
     "output_type": "stream",
     "text": [
      "100%|█████████████████████████████████████████████████████████████████████████████| 2343/2343 [00:12<00:00, 191.17it/s]\n",
      "100%|████████████████████████████████████████████████████████████████████████████| 2343/2343 [00:00<00:00, 2633.63it/s]\n",
      "100%|████████████████████████████████████████████████████████████████████████████| 2343/2343 [00:00<00:00, 4679.54it/s]\n",
      "100%|████████████████████████████████████████████████████████████████████████████| 2343/2343 [00:00<00:00, 4698.30it/s]\n",
      "100%|████████████████████████████████████████████████████████████████████████████| 2343/2343 [00:00<00:00, 4745.71it/s]\n",
      "100%|████████████████████████████████████████████████████████████████████████████| 2343/2343 [00:00<00:00, 4689.17it/s]\n",
      "100%|████████████████████████████████████████████████████████████████████████████| 2343/2343 [00:00<00:00, 4670.23it/s]\n",
      "100%|████████████████████████████████████████████████████████████████████████████| 2343/2343 [00:00<00:00, 4085.69it/s]\n"
     ]
    },
    {
     "data": {
      "text/plain": [
       "{'MAP@10': (0.04616609796208153, 0.0037864359210289583),\n",
       " 'MAP@15': (0.04342978960961617, 0.0031726331101981425),\n",
       " 'MAP@20': (0.04132202221205415, 0.002792719589436067),\n",
       " 'MAP@5': (0.05050205385668644, 0.00504479215759216),\n",
       " 'MAP@50': (0.03404977623315559, 0.001862465024105411),\n",
       " 'NDCG': (0.07053219505877557, 0.00334909199172866),\n",
       " 'Precision@10': (0.03920584208124144, 0.002691758978691653),\n",
       " 'Precision@15': (0.036695572797809224, 0.0022337200545543097),\n",
       " 'Precision@20': (0.03409402099497946, 0.0019426780260705812),\n",
       " 'Precision@5': (0.04701049748973072, 0.0038993152478885473),\n",
       " 'Precision@50': (0.02596074851665906, 0.0012562675740487661),\n",
       " 'R-Precision': (0.037593615050130605, 0.002441995632950046),\n",
       " 'Recall@10': (0.03213938990141511, 0.002392993987580395),\n",
       " 'Recall@15': (0.044561241825622634, 0.00282176676196221),\n",
       " 'Recall@20': (0.05447875144420225, 0.0031513892251596727),\n",
       " 'Recall@5': (0.01973991877110838, 0.00186028913456729),\n",
       " 'Recall@50': (0.10065883793602966, 0.004400404987236048)}"
      ]
     },
     "execution_count": 59,
     "metadata": {},
     "output_type": "execute_result"
    }
   ],
   "source": [
    "similarity = normalize(train(U_K))\n",
    "unlearned_prediction_score = predict(rtrain, 100, similarity, item_similarity_en= False)\n",
    "unlearned_predict = prediction(unlearned_prediction_score, 50, rtrain)\n",
    "unlearned_res = evaluate(unlearned_predict, rtest)\n",
    "unlearned_res"
   ]
  },
  {
   "cell_type": "markdown",
   "metadata": {},
   "source": [
    "### Recsys14 style normalization"
   ]
  },
  {
   "cell_type": "code",
   "execution_count": 60,
   "metadata": {},
   "outputs": [
    {
     "name": "stderr",
     "output_type": "stream",
     "text": [
      "100%|█████████████████████████████████████████████████████████████████████████████| 2343/2343 [00:11<00:00, 195.26it/s]\n",
      "100%|████████████████████████████████████████████████████████████████████████████| 2343/2343 [00:00<00:00, 2645.49it/s]\n",
      "100%|████████████████████████████████████████████████████████████████████████████| 2343/2343 [00:00<00:00, 4597.16it/s]\n",
      "100%|████████████████████████████████████████████████████████████████████████████| 2343/2343 [00:00<00:00, 4579.23it/s]\n",
      "100%|████████████████████████████████████████████████████████████████████████████| 2343/2343 [00:00<00:00, 4543.76it/s]\n",
      "100%|████████████████████████████████████████████████████████████████████████████| 2343/2343 [00:00<00:00, 4561.46it/s]\n",
      "100%|████████████████████████████████████████████████████████████████████████████| 2343/2343 [00:00<00:00, 4286.76it/s]\n",
      "100%|████████████████████████████████████████████████████████████████████████████| 2343/2343 [00:00<00:00, 3915.64it/s]\n"
     ]
    },
    {
     "data": {
      "text/plain": [
       "{'MAP@10': (0.046286431505509554, 0.0038460926768623858),\n",
       " 'MAP@15': (0.043101291426257196, 0.0031901335149288296),\n",
       " 'MAP@20': (0.040653442292212565, 0.0027930635298885286),\n",
       " 'MAP@5': (0.05130838277803133, 0.005239203557595133),\n",
       " 'MAP@50': (0.033150181198070255, 0.0018188894372221888),\n",
       " 'NDCG': (0.06786482370839758, 0.003242372573834944),\n",
       " 'Precision@10': (0.03952533089913282, 0.002674311227006322),\n",
       " 'Precision@15': (0.035235052487448654, 0.0021701215837329688),\n",
       " 'Precision@20': (0.0323368324965769, 0.0018556471705838693),\n",
       " 'Precision@5': (0.045641259698767686, 0.0039067884830291085),\n",
       " 'Precision@50': (0.024984025559105432, 0.0011703579502333073),\n",
       " 'R-Precision': (0.036611736285640205, 0.0023451225795725126),\n",
       " 'Recall@10': (0.03147223445649655, 0.00229544833074995),\n",
       " 'Recall@15': (0.040725357784652964, 0.0026104679925674007),\n",
       " 'Recall@20': (0.04973310760018437, 0.0029069880494074934),\n",
       " 'Recall@5': (0.018900211900466236, 0.0018228095328281862),\n",
       " 'Recall@50': (0.09532258187037224, 0.0041415660080370885)}"
      ]
     },
     "execution_count": 60,
     "metadata": {},
     "output_type": "execute_result"
    }
   ],
   "source": [
    "similarity = train(U_K)\n",
    "similarity = normalize(similarity.T).T\n",
    "unlearned_prediction_score = predict(normalize(rtrain), 100, similarity, item_similarity_en= False)\n",
    "unlearned_predict = prediction(unlearned_prediction_score, 50, rtrain)\n",
    "unlearned_res = evaluate(unlearned_predict, rtest)\n",
    "unlearned_res"
   ]
  },
  {
   "cell_type": "markdown",
   "metadata": {},
   "source": [
    "# Learned with Linear Regression"
   ]
  },
  {
   "cell_type": "code",
   "execution_count": 13,
   "metadata": {
    "collapsed": true
   },
   "outputs": [],
   "source": [
    "from sklearn.linear_model import LinearRegression\n",
    "from sklearn.preprocessing import normalize\n",
    "from sklearn.linear_model import Ridge"
   ]
  },
  {
   "cell_type": "code",
   "execution_count": 61,
   "metadata": {
    "collapsed": true
   },
   "outputs": [],
   "source": [
    "X = normalize(U_K.todense())\n",
    "y = normalize(train(rtrain))"
   ]
  },
  {
   "cell_type": "code",
   "execution_count": 62,
   "metadata": {
    "collapsed": true
   },
   "outputs": [],
   "source": [
    "clf = Ridge(alpha=0.1).fit(X, y)"
   ]
  },
  {
   "cell_type": "code",
   "execution_count": 63,
   "metadata": {
    "collapsed": true
   },
   "outputs": [],
   "source": [
    "lr_similarity = clf.predict(np.array(X))"
   ]
  },
  {
   "cell_type": "code",
   "execution_count": 64,
   "metadata": {},
   "outputs": [
    {
     "name": "stderr",
     "output_type": "stream",
     "text": [
      "100%|█████████████████████████████████████████████████████████████████████████████| 2343/2343 [00:12<00:00, 190.37it/s]\n",
      "100%|████████████████████████████████████████████████████████████████████████████| 2343/2343 [00:00<00:00, 2542.43it/s]\n",
      "100%|████████████████████████████████████████████████████████████████████████████| 2343/2343 [00:00<00:00, 4570.57it/s]\n",
      "100%|████████████████████████████████████████████████████████████████████████████| 2343/2343 [00:00<00:00, 4483.09it/s]\n",
      "100%|████████████████████████████████████████████████████████████████████████████| 2343/2343 [00:00<00:00, 4517.59it/s]\n",
      "100%|████████████████████████████████████████████████████████████████████████████| 2343/2343 [00:00<00:00, 4517.83it/s]\n",
      "100%|████████████████████████████████████████████████████████████████████████████| 2343/2343 [00:00<00:00, 4491.67it/s]\n",
      "100%|████████████████████████████████████████████████████████████████████████████| 2343/2343 [00:00<00:00, 3975.08it/s]\n"
     ]
    }
   ],
   "source": [
    "similarity = lr_similarity\n",
    "lr_prediction_score = predict(rtrain, 100, similarity, item_similarity_en= False)\n",
    "lr_predict = prediction(lr_prediction_score, 50, rtrain)\n",
    "lr_res = evaluate(lr_predict, rtest)"
   ]
  },
  {
   "cell_type": "code",
   "execution_count": 65,
   "metadata": {},
   "outputs": [
    {
     "data": {
      "text/plain": [
       "{'MAP@10': (0.0579191932364, 0.004337173760974245),\n",
       " 'MAP@15': (0.05410621479539782, 0.0036420905948940153),\n",
       " 'MAP@20': (0.0514113544178991, 0.00321063889760705),\n",
       " 'MAP@5': (0.06349003499163244, 0.005785447754232044),\n",
       " 'MAP@50': (0.04161249065006333, 0.0021296299920805146),\n",
       " 'NDCG': (0.08514745492045937, 0.0037227182371916663),\n",
       " 'Precision@10': (0.04906435417617526, 0.0030992493571670326),\n",
       " 'Precision@15': (0.04533698463410924, 0.002564070020831653),\n",
       " 'Precision@20': (0.04210406207211319, 0.002221280781856864),\n",
       " 'Precision@5': (0.05942492012779552, 0.004510206593046768),\n",
       " 'Precision@50': (0.030789593792788686, 0.0013693555346728124),\n",
       " 'R-Precision': (0.04498034624026185, 0.002658267116070035),\n",
       " 'Recall@10': (0.03907562491767253, 0.0026192096631670594),\n",
       " 'Recall@15': (0.05420595429830032, 0.003173562295251404),\n",
       " 'Recall@20': (0.06650439279850905, 0.003556459694516587),\n",
       " 'Recall@5': (0.024423385789734176, 0.002051772794243629),\n",
       " 'Recall@50': (0.11966359399827448, 0.0047284204524481906)}"
      ]
     },
     "execution_count": 65,
     "metadata": {},
     "output_type": "execute_result"
    }
   ],
   "source": [
    "lr_res"
   ]
  },
  {
   "cell_type": "markdown",
   "metadata": {},
   "source": [
    "### Recsys14 style normalization"
   ]
  },
  {
   "cell_type": "code",
   "execution_count": 66,
   "metadata": {},
   "outputs": [
    {
     "name": "stderr",
     "output_type": "stream",
     "text": [
      "100%|█████████████████████████████████████████████████████████████████████████████| 2343/2343 [00:12<00:00, 193.43it/s]\n",
      "100%|████████████████████████████████████████████████████████████████████████████| 2343/2343 [00:00<00:00, 2722.21it/s]\n",
      "100%|████████████████████████████████████████████████████████████████████████████| 2343/2343 [00:00<00:00, 4597.38it/s]\n",
      "100%|████████████████████████████████████████████████████████████████████████████| 2343/2343 [00:00<00:00, 4633.41it/s]\n",
      "100%|████████████████████████████████████████████████████████████████████████████| 2343/2343 [00:00<00:00, 4726.62it/s]\n",
      "100%|████████████████████████████████████████████████████████████████████████████| 2343/2343 [00:00<00:00, 4707.84it/s]\n",
      "100%|████████████████████████████████████████████████████████████████████████████| 2343/2343 [00:00<00:00, 4466.29it/s]\n",
      "100%|████████████████████████████████████████████████████████████████████████████| 2343/2343 [00:00<00:00, 4106.88it/s]\n"
     ]
    }
   ],
   "source": [
    "similarity = lr_similarity\n",
    "similarity = normalize(similarity.T).T\n",
    "lr_prediction_score = predict(normalize(rtrain), 100, similarity, item_similarity_en= False)\n",
    "lr_predict = prediction(lr_prediction_score, 50, rtrain)\n",
    "lr_res = evaluate(lr_predict, rtest)"
   ]
  },
  {
   "cell_type": "code",
   "execution_count": 67,
   "metadata": {
    "scrolled": true
   },
   "outputs": [
    {
     "data": {
      "text/plain": [
       "{'MAP@10': (0.053627719458390385, 0.004256517836080131),\n",
       " 'MAP@15': (0.05034291029726904, 0.0035618909350839077),\n",
       " 'MAP@20': (0.04781615485729063, 0.0031361924683084106),\n",
       " 'MAP@5': (0.05951163852122318, 0.005744536719798424),\n",
       " 'MAP@50': (0.03926394715340559, 0.0020976475198012305),\n",
       " 'NDCG': (0.07923504928970157, 0.003596842109502567),\n",
       " 'Precision@10': (0.04596074851665906, 0.003056233443712461),\n",
       " 'Precision@15': (0.041929103909934574, 0.0024947793350315692),\n",
       " 'Precision@20': (0.03920584208124144, 0.0021768408210327017),\n",
       " 'Precision@5': (0.05120949338201734, 0.0042356655365392865),\n",
       " 'Precision@50': (0.02964856230031949, 0.0014050395633547145),\n",
       " 'R-Precision': (0.04084470847747212, 0.002536196891555325),\n",
       " 'Recall@10': (0.035358653396231995, 0.0024698265714274232),\n",
       " 'Recall@15': (0.0486306529804357, 0.0029998576924290658),\n",
       " 'Recall@20': (0.060313196096256294, 0.0033697953679102345),\n",
       " 'Recall@5': (0.020403258434140918, 0.0019006714565957018),\n",
       " 'Recall@50': (0.11165103505822944, 0.0045813341890237344)}"
      ]
     },
     "execution_count": 67,
     "metadata": {},
     "output_type": "execute_result"
    }
   ],
   "source": [
    "lr_res"
   ]
  },
  {
   "cell_type": "markdown",
   "metadata": {},
   "source": [
    "### Linear Regression Tuning"
   ]
  },
  {
   "cell_type": "code",
   "execution_count": 196,
   "metadata": {
    "collapsed": true
   },
   "outputs": [],
   "source": [
    "clf = Ridge(alpha=0.001).fit(X, y)"
   ]
  },
  {
   "cell_type": "code",
   "execution_count": 26,
   "metadata": {
    "collapsed": true
   },
   "outputs": [],
   "source": [
    "alpha_list = [1e-5, 1e-4, 1e-3, 1e-2, 0.1, 1, 10, 10e1, 10e2, 10e3, 10e4]"
   ]
  },
  {
   "cell_type": "code",
   "execution_count": 214,
   "metadata": {
    "collapsed": true
   },
   "outputs": [],
   "source": [
    "def tune_ridge(X, y, rtrain, rvalid, alpha_list):\n",
    "    tuning_res = []\n",
    "    for alpha in alpha_list:\n",
    "        clf = Ridge(alpha=alpha).fit(X, y)\n",
    "        lr_similarity = clf.predict(np.array(X))\n",
    "        lr_prediction_score = predict(rtrain, 100, lr_similarity, item_similarity_en= False)\n",
    "        lr_predict = prediction(lr_prediction_score, 50, rtrain)\n",
    "        lr_res = evaluate(lr_predict, rvalid)\n",
    "        print ('current alpha: ',alpha, ', ndcg is: ',lr_res['NDCG'])\n",
    "        tuning_res.append(lr_res)\n",
    "    return tuning_res"
   ]
  },
  {
   "cell_type": "code",
   "execution_count": 215,
   "metadata": {},
   "outputs": [
    {
     "name": "stderr",
     "output_type": "stream",
     "text": [
      "100%|█████████████████████████████████████████████████████████████████████████████| 2343/2343 [00:12<00:00, 193.06it/s]\n",
      "100%|████████████████████████████████████████████████████████████████████████████| 2343/2343 [00:00<00:00, 2636.99it/s]\n",
      "100%|████████████████████████████████████████████████████████████████████████████| 2343/2343 [00:00<00:00, 4794.42it/s]\n",
      "100%|████████████████████████████████████████████████████████████████████████████| 2343/2343 [00:00<00:00, 4901.33it/s]\n",
      "100%|████████████████████████████████████████████████████████████████████████████| 2343/2343 [00:00<00:00, 4794.52it/s]\n",
      "100%|████████████████████████████████████████████████████████████████████████████| 2343/2343 [00:00<00:00, 4909.38it/s]\n",
      "100%|████████████████████████████████████████████████████████████████████████████| 2343/2343 [00:00<00:00, 4770.30it/s]\n",
      "100%|████████████████████████████████████████████████████████████████████████████| 2343/2343 [00:00<00:00, 4251.39it/s]\n"
     ]
    },
    {
     "name": "stdout",
     "output_type": "stream",
     "text": [
      "current alpha:  1e-05 , ndcg is:  (0.07999846961007356, 0.003667573156475868)\n"
     ]
    },
    {
     "name": "stderr",
     "output_type": "stream",
     "text": [
      "100%|█████████████████████████████████████████████████████████████████████████████| 2343/2343 [00:12<00:00, 193.11it/s]\n",
      "100%|████████████████████████████████████████████████████████████████████████████| 2343/2343 [00:00<00:00, 2629.60it/s]\n",
      "100%|████████████████████████████████████████████████████████████████████████████| 2343/2343 [00:00<00:00, 4681.72it/s]\n",
      "100%|████████████████████████████████████████████████████████████████████████████| 2343/2343 [00:00<00:00, 4824.24it/s]\n",
      "100%|████████████████████████████████████████████████████████████████████████████| 2343/2343 [00:00<00:00, 4821.06it/s]\n",
      "100%|████████████████████████████████████████████████████████████████████████████| 2343/2343 [00:00<00:00, 4928.32it/s]\n",
      "100%|████████████████████████████████████████████████████████████████████████████| 2343/2343 [00:00<00:00, 4713.19it/s]\n",
      "100%|████████████████████████████████████████████████████████████████████████████| 2343/2343 [00:00<00:00, 4248.03it/s]\n"
     ]
    },
    {
     "name": "stdout",
     "output_type": "stream",
     "text": [
      "current alpha:  0.0001 , ndcg is:  (0.08000529666068963, 0.0036670777127993334)\n"
     ]
    },
    {
     "name": "stderr",
     "output_type": "stream",
     "text": [
      "100%|█████████████████████████████████████████████████████████████████████████████| 2343/2343 [00:12<00:00, 191.28it/s]\n",
      "100%|████████████████████████████████████████████████████████████████████████████| 2343/2343 [00:00<00:00, 2618.18it/s]\n",
      "100%|████████████████████████████████████████████████████████████████████████████| 2343/2343 [00:00<00:00, 4823.64it/s]\n",
      "100%|████████████████████████████████████████████████████████████████████████████| 2343/2343 [00:00<00:00, 4926.48it/s]\n",
      "100%|████████████████████████████████████████████████████████████████████████████| 2343/2343 [00:00<00:00, 4849.22it/s]\n",
      "100%|████████████████████████████████████████████████████████████████████████████| 2343/2343 [00:00<00:00, 4798.31it/s]\n",
      "100%|████████████████████████████████████████████████████████████████████████████| 2343/2343 [00:00<00:00, 4784.66it/s]\n",
      "100%|████████████████████████████████████████████████████████████████████████████| 2343/2343 [00:00<00:00, 4269.93it/s]\n"
     ]
    },
    {
     "name": "stdout",
     "output_type": "stream",
     "text": [
      "current alpha:  0.001 , ndcg is:  (0.080007877002718, 0.0036741296182457423)\n"
     ]
    },
    {
     "name": "stderr",
     "output_type": "stream",
     "text": [
      "100%|█████████████████████████████████████████████████████████████████████████████| 2343/2343 [00:12<00:00, 192.26it/s]\n",
      "100%|████████████████████████████████████████████████████████████████████████████| 2343/2343 [00:00<00:00, 2632.63it/s]\n",
      "100%|████████████████████████████████████████████████████████████████████████████| 2343/2343 [00:00<00:00, 4979.51it/s]\n",
      "100%|████████████████████████████████████████████████████████████████████████████| 2343/2343 [00:00<00:00, 4810.84it/s]\n",
      "100%|████████████████████████████████████████████████████████████████████████████| 2343/2343 [00:00<00:00, 4814.79it/s]\n",
      "100%|████████████████████████████████████████████████████████████████████████████| 2343/2343 [00:00<00:00, 4858.65it/s]\n",
      "100%|████████████████████████████████████████████████████████████████████████████| 2343/2343 [00:00<00:00, 4920.08it/s]\n",
      "100%|████████████████████████████████████████████████████████████████████████████| 2343/2343 [00:00<00:00, 4267.31it/s]\n"
     ]
    },
    {
     "name": "stdout",
     "output_type": "stream",
     "text": [
      "current alpha:  0.01 , ndcg is:  (0.08043380500071191, 0.0036998659209957186)\n"
     ]
    },
    {
     "name": "stderr",
     "output_type": "stream",
     "text": [
      "100%|█████████████████████████████████████████████████████████████████████████████| 2343/2343 [00:12<00:00, 193.03it/s]\n",
      "100%|████████████████████████████████████████████████████████████████████████████| 2343/2343 [00:00<00:00, 2615.39it/s]\n",
      "100%|████████████████████████████████████████████████████████████████████████████| 2343/2343 [00:00<00:00, 4867.75it/s]\n",
      "100%|████████████████████████████████████████████████████████████████████████████| 2343/2343 [00:00<00:00, 4902.25it/s]\n",
      "100%|████████████████████████████████████████████████████████████████████████████| 2343/2343 [00:00<00:00, 4728.80it/s]\n",
      "100%|████████████████████████████████████████████████████████████████████████████| 2343/2343 [00:00<00:00, 4802.44it/s]\n",
      "100%|████████████████████████████████████████████████████████████████████████████| 2343/2343 [00:00<00:00, 4897.21it/s]\n",
      "100%|████████████████████████████████████████████████████████████████████████████| 2343/2343 [00:00<00:00, 4219.90it/s]\n"
     ]
    },
    {
     "name": "stdout",
     "output_type": "stream",
     "text": [
      "current alpha:  0.1 , ndcg is:  (0.08087210958821404, 0.0036921417685742137)\n"
     ]
    },
    {
     "name": "stderr",
     "output_type": "stream",
     "text": [
      "100%|█████████████████████████████████████████████████████████████████████████████| 2343/2343 [00:12<00:00, 190.56it/s]\n",
      "100%|████████████████████████████████████████████████████████████████████████████| 2343/2343 [00:00<00:00, 2510.35it/s]\n",
      "100%|████████████████████████████████████████████████████████████████████████████| 2343/2343 [00:00<00:00, 4725.83it/s]\n",
      "100%|████████████████████████████████████████████████████████████████████████████| 2343/2343 [00:00<00:00, 4725.09it/s]\n",
      "100%|████████████████████████████████████████████████████████████████████████████| 2343/2343 [00:00<00:00, 4688.36it/s]\n",
      "100%|████████████████████████████████████████████████████████████████████████████| 2343/2343 [00:00<00:00, 4615.46it/s]\n",
      "100%|████████████████████████████████████████████████████████████████████████████| 2343/2343 [00:00<00:00, 4588.14it/s]\n",
      "100%|████████████████████████████████████████████████████████████████████████████| 2343/2343 [00:00<00:00, 3952.64it/s]\n"
     ]
    },
    {
     "name": "stdout",
     "output_type": "stream",
     "text": [
      "current alpha:  1 , ndcg is:  (0.07960564513731182, 0.0036804935593721328)\n"
     ]
    },
    {
     "name": "stderr",
     "output_type": "stream",
     "text": [
      "100%|█████████████████████████████████████████████████████████████████████████████| 2343/2343 [00:12<00:00, 185.02it/s]\n",
      "100%|████████████████████████████████████████████████████████████████████████████| 2343/2343 [00:00<00:00, 2631.30it/s]\n",
      "100%|████████████████████████████████████████████████████████████████████████████| 2343/2343 [00:00<00:00, 4847.09it/s]\n",
      "100%|████████████████████████████████████████████████████████████████████████████| 2343/2343 [00:00<00:00, 4816.44it/s]\n",
      "100%|████████████████████████████████████████████████████████████████████████████| 2343/2343 [00:00<00:00, 4875.05it/s]\n",
      "100%|████████████████████████████████████████████████████████████████████████████| 2343/2343 [00:00<00:00, 4838.38it/s]\n",
      "100%|████████████████████████████████████████████████████████████████████████████| 2343/2343 [00:00<00:00, 4771.38it/s]\n",
      "100%|████████████████████████████████████████████████████████████████████████████| 2343/2343 [00:00<00:00, 4237.26it/s]\n"
     ]
    },
    {
     "name": "stdout",
     "output_type": "stream",
     "text": [
      "current alpha:  10 , ndcg is:  (0.07281249287226271, 0.00355865136827868)\n"
     ]
    },
    {
     "name": "stderr",
     "output_type": "stream",
     "text": [
      "100%|█████████████████████████████████████████████████████████████████████████████| 2343/2343 [00:12<00:00, 191.05it/s]\n",
      "100%|████████████████████████████████████████████████████████████████████████████| 2343/2343 [00:00<00:00, 2597.74it/s]\n",
      "100%|████████████████████████████████████████████████████████████████████████████| 2343/2343 [00:00<00:00, 4943.98it/s]\n",
      "100%|████████████████████████████████████████████████████████████████████████████| 2343/2343 [00:00<00:00, 4785.12it/s]\n",
      "100%|████████████████████████████████████████████████████████████████████████████| 2343/2343 [00:00<00:00, 4797.37it/s]\n",
      "100%|████████████████████████████████████████████████████████████████████████████| 2343/2343 [00:00<00:00, 4803.10it/s]\n",
      "100%|████████████████████████████████████████████████████████████████████████████| 2343/2343 [00:00<00:00, 4696.76it/s]\n",
      "100%|████████████████████████████████████████████████████████████████████████████| 2343/2343 [00:00<00:00, 4223.65it/s]\n"
     ]
    },
    {
     "name": "stdout",
     "output_type": "stream",
     "text": [
      "current alpha:  100.0 , ndcg is:  (0.06289987867513577, 0.0033241969133523718)\n"
     ]
    },
    {
     "name": "stderr",
     "output_type": "stream",
     "text": [
      "100%|█████████████████████████████████████████████████████████████████████████████| 2343/2343 [00:12<00:00, 185.63it/s]\n",
      "100%|████████████████████████████████████████████████████████████████████████████| 2343/2343 [00:00<00:00, 2626.73it/s]\n",
      "100%|████████████████████████████████████████████████████████████████████████████| 2343/2343 [00:00<00:00, 4831.81it/s]\n",
      "100%|████████████████████████████████████████████████████████████████████████████| 2343/2343 [00:00<00:00, 4740.36it/s]\n",
      "100%|████████████████████████████████████████████████████████████████████████████| 2343/2343 [00:00<00:00, 4803.58it/s]\n",
      "100%|████████████████████████████████████████████████████████████████████████████| 2343/2343 [00:00<00:00, 4814.07it/s]\n",
      "100%|████████████████████████████████████████████████████████████████████████████| 2343/2343 [00:00<00:00, 4819.58it/s]\n",
      "100%|████████████████████████████████████████████████████████████████████████████| 2343/2343 [00:00<00:00, 4214.66it/s]\n"
     ]
    },
    {
     "name": "stdout",
     "output_type": "stream",
     "text": [
      "current alpha:  1000.0 , ndcg is:  (0.05458719957746896, 0.0031396412398791785)\n"
     ]
    },
    {
     "name": "stderr",
     "output_type": "stream",
     "text": [
      "100%|█████████████████████████████████████████████████████████████████████████████| 2343/2343 [00:12<00:00, 191.50it/s]\n",
      "100%|████████████████████████████████████████████████████████████████████████████| 2343/2343 [00:00<00:00, 2622.47it/s]\n",
      "100%|████████████████████████████████████████████████████████████████████████████| 2343/2343 [00:00<00:00, 4839.04it/s]\n",
      "100%|████████████████████████████████████████████████████████████████████████████| 2343/2343 [00:00<00:00, 4785.46it/s]\n",
      "100%|████████████████████████████████████████████████████████████████████████████| 2343/2343 [00:00<00:00, 4707.64it/s]\n",
      "100%|████████████████████████████████████████████████████████████████████████████| 2343/2343 [00:00<00:00, 4633.79it/s]\n",
      "100%|████████████████████████████████████████████████████████████████████████████| 2343/2343 [00:00<00:00, 4552.60it/s]\n",
      "100%|████████████████████████████████████████████████████████████████████████████| 2343/2343 [00:00<00:00, 4143.33it/s]\n"
     ]
    },
    {
     "name": "stdout",
     "output_type": "stream",
     "text": [
      "current alpha:  10000.0 , ndcg is:  (0.05358431086764726, 0.0031846692519490946)\n"
     ]
    },
    {
     "name": "stderr",
     "output_type": "stream",
     "text": [
      "100%|█████████████████████████████████████████████████████████████████████████████| 2343/2343 [00:12<00:00, 186.30it/s]\n",
      "100%|████████████████████████████████████████████████████████████████████████████| 2343/2343 [00:00<00:00, 2539.59it/s]\n",
      "100%|████████████████████████████████████████████████████████████████████████████| 2343/2343 [00:00<00:00, 4806.40it/s]\n",
      "100%|████████████████████████████████████████████████████████████████████████████| 2343/2343 [00:00<00:00, 4914.07it/s]\n",
      "100%|████████████████████████████████████████████████████████████████████████████| 2343/2343 [00:00<00:00, 4741.68it/s]\n",
      "100%|████████████████████████████████████████████████████████████████████████████| 2343/2343 [00:00<00:00, 4535.26it/s]\n",
      "100%|████████████████████████████████████████████████████████████████████████████| 2343/2343 [00:00<00:00, 4388.80it/s]\n",
      "100%|████████████████████████████████████████████████████████████████████████████| 2343/2343 [00:00<00:00, 4076.85it/s]\n"
     ]
    },
    {
     "name": "stdout",
     "output_type": "stream",
     "text": [
      "current alpha:  100000.0 , ndcg is:  (0.05332854336586803, 0.003183953841922479)\n"
     ]
    },
    {
     "data": {
      "text/plain": [
       "[{'MAP@10': (0.04805285692551781, 0.003920472733145397),\n",
       "  'MAP@15': (0.04478661254562669, 0.0032521352364207534),\n",
       "  'MAP@20': (0.04222788103154307, 0.0028366138847246646),\n",
       "  'MAP@5': (0.05272782595466301, 0.005321405124878171),\n",
       "  'MAP@50': (0.03409391764848641, 0.0018218910300791065),\n",
       "  'NDCG': (0.07999846961007356, 0.003667573156475868),\n",
       "  'Precision@10': (0.040529438612505714, 0.0027466305158265897),\n",
       "  'Precision@15': (0.0368172828236726, 0.0021988964610603003),\n",
       "  'Precision@20': (0.033637608397991785, 0.0018635893937487664),\n",
       "  'Precision@5': (0.048288452761296216, 0.004032639600205658),\n",
       "  'Precision@50': (0.025330899132816064, 0.0011567750212765242),\n",
       "  'R-Precision': (0.03989187810787577, 0.002782451941732588),\n",
       "  'Recall@10': (0.04020196625676252, 0.002937246513260588),\n",
       "  'Recall@15': (0.05435976722347167, 0.0033554903532078627),\n",
       "  'Recall@20': (0.06554471573041062, 0.003642413854233583),\n",
       "  'Recall@5': (0.024423312239891477, 0.0023407448537697763),\n",
       "  'Recall@50': (0.1224714284883836, 0.0050740715711463415)},\n",
       " {'MAP@10': (0.04801464142632559, 0.00391914171725252),\n",
       "  'MAP@15': (0.044761510950465766, 0.003251494795421121),\n",
       "  'MAP@20': (0.04221889274825364, 0.002836120259618524),\n",
       "  'MAP@5': (0.052674577818347786, 0.005318663524596082),\n",
       "  'MAP@50': (0.034090316654134104, 0.0018215986967601014),\n",
       "  'NDCG': (0.08000529666068963, 0.0036670777127993334),\n",
       "  'Precision@10': (0.040529438612505714, 0.0027520742519510557),\n",
       "  'Precision@15': (0.036786855317206754, 0.002198975159274995),\n",
       "  'Precision@20': (0.03368324965769055, 0.0018642454052646006),\n",
       "  'Precision@5': (0.048288452761296216, 0.004032639600205658),\n",
       "  'Precision@50': (0.025340027384755822, 0.0011568353710660392),\n",
       "  'R-Precision': (0.03989187810787577, 0.002782451941732588),\n",
       "  'Recall@10': (0.04018122022962671, 0.0029379750667246195),\n",
       "  'Recall@15': (0.054302715648848206, 0.0033552626221346406),\n",
       "  'Recall@20': (0.06567693049064911, 0.0036478313617199325),\n",
       "  'Recall@5': (0.024423312239891477, 0.0023407448537697763),\n",
       "  'Recall@50': (0.12251706974808237, 0.005074477216992957)},\n",
       " {'MAP@10': (0.04791011931929322, 0.003909906530540023),\n",
       "  'MAP@15': (0.04472455659356618, 0.0032453570885310626),\n",
       "  'MAP@20': (0.042183593262152395, 0.002831975800912942),\n",
       "  'MAP@5': (0.05255134641716111, 0.0053077652762159545),\n",
       "  'MAP@50': (0.03409008663773755, 0.0018206458827478736),\n",
       "  'NDCG': (0.080007877002718, 0.0036741296182457423),\n",
       "  'Precision@10': (0.04043815609310817, 0.0027488356456966574),\n",
       "  'Precision@15': (0.036969420356001835, 0.002209056993815675),\n",
       "  'Precision@20': (0.03372889091738932, 0.001865902272311573),\n",
       "  'Precision@5': (0.04801460520310361, 0.004019422218032844),\n",
       "  'Precision@50': (0.025349155636695576, 0.0011602543418718766),\n",
       "  'R-Precision': (0.03995729846245619, 0.0027870432323067475),\n",
       "  'Recall@10': (0.04015089215945651, 0.002938149676122475),\n",
       "  'Recall@15': (0.05452043367806783, 0.003360650501561797),\n",
       "  'Recall@20': (0.06574394345131794, 0.003655624471281709),\n",
       "  'Recall@5': (0.024317606292104284, 0.0023406152577752615),\n",
       "  'Recall@50': (0.12248665145198735, 0.005089844615252921)},\n",
       " {'MAP@10': (0.048495577144595854, 0.00395933050256202),\n",
       "  'MAP@15': (0.045224578656801386, 0.0032780467110968777),\n",
       "  'MAP@20': (0.04256328472197412, 0.002857824964414625),\n",
       "  'MAP@5': (0.05373954054465236, 0.0053909896530433335),\n",
       "  'MAP@50': (0.0342424045797377, 0.0018322869023224037),\n",
       "  'NDCG': (0.08043380500071191, 0.0036998659209957186),\n",
       "  'Precision@10': (0.04084892743039708, 0.0027511271554653918),\n",
       "  'Precision@15': (0.03690856534307014, 0.0022046987708253347),\n",
       "  'Precision@20': (0.033660429027841166, 0.0018674273584072302),\n",
       "  'Precision@5': (0.04783204016430854, 0.00400808074134652),\n",
       "  'Precision@50': (0.025431309904153356, 0.001172080839360107),\n",
       "  'R-Precision': (0.03981012850776358, 0.0027810360707041463),\n",
       "  'Recall@10': (0.0401481313045176, 0.0029143782505927436),\n",
       "  'Recall@15': (0.05448318640640888, 0.003366412333813082),\n",
       "  'Recall@20': (0.06574791710724277, 0.0036942240615169953),\n",
       "  'Recall@5': (0.024185477070091572, 0.002336109219601218),\n",
       "  'Recall@50': (0.12249066385576951, 0.005076405115678246)},\n",
       " {'MAP@10': (0.04857197191975832, 0.003918017050333634),\n",
       "  'MAP@15': (0.04529459383863766, 0.003258534357079463),\n",
       "  'MAP@20': (0.04265967116355809, 0.0028453088773639757),\n",
       "  'MAP@5': (0.05324813631522896, 0.005298532756480907),\n",
       "  'MAP@50': (0.034417844186429764, 0.0018277495708422535),\n",
       "  'NDCG': (0.08087210958821404, 0.0036921417685742137),\n",
       "  'Precision@10': (0.04162482884527613, 0.0027606032943672644),\n",
       "  'Precision@15': (0.03684771033013844, 0.002221390292531523),\n",
       "  'Precision@20': (0.03359196713829302, 0.0018447663063144637),\n",
       "  'Precision@5': (0.048379735280693746, 0.004049368043176081),\n",
       "  'Precision@50': (0.025604746691008668, 0.0011752071793307327),\n",
       "  'R-Precision': (0.04036796368890473, 0.0027949521756369037),\n",
       "  'Recall@10': (0.04118594300083115, 0.002939737333051959),\n",
       "  'Recall@15': (0.05417744741707205, 0.0033537691429439908),\n",
       "  'Recall@20': (0.06611906089611184, 0.0036735845093150915),\n",
       "  'Recall@5': (0.02489119420346103, 0.002397161998898327),\n",
       "  'Recall@50': (0.12325468352769572, 0.005089213924203643)},\n",
       " {'MAP@10': (0.04865892576412886, 0.003946746034156704),\n",
       "  'MAP@15': (0.0452632781455237, 0.0032664827759907125),\n",
       "  'MAP@20': (0.04269348796085319, 0.002853849535076459),\n",
       "  'MAP@5': (0.054154876007911155, 0.00539076480836093),\n",
       "  'MAP@50': (0.034144412162355905, 0.0018276690368129343),\n",
       "  'NDCG': (0.07960564513731182, 0.0036804935593721328),\n",
       "  'Precision@10': (0.04103149246919215, 0.0027466690648610117),\n",
       "  'Precision@15': (0.036756427810740906, 0.002185398779212518),\n",
       "  'Precision@20': (0.03395709721588316, 0.001884093280782768),\n",
       "  'Precision@5': (0.04819717024189868, 0.004075032684735309),\n",
       "  'Precision@50': (0.024856230031948885, 0.001132518335907174),\n",
       "  'R-Precision': (0.039179618775816535, 0.0027177750214641455),\n",
       "  'Recall@10': (0.04076018068450955, 0.002956209515673313),\n",
       "  'Recall@15': (0.054123109254221834, 0.003339563791871889),\n",
       "  'Recall@20': (0.06662387707659974, 0.0037111567477740334),\n",
       "  'Recall@5': (0.02402406925760149, 0.0023012203867147835),\n",
       "  'Recall@50': (0.12027265165702775, 0.004986501323581564)},\n",
       " {'MAP@10': (0.043617576956235096, 0.0038169807583606314),\n",
       "  'MAP@15': (0.04048429806074718, 0.003146980059122653),\n",
       "  'MAP@20': (0.03830930729546637, 0.002742402873139176),\n",
       "  'MAP@5': (0.048423855165069224, 0.005215969810450486),\n",
       "  'MAP@50': (0.03101982715189442, 0.0017606575518771294),\n",
       "  'NDCG': (0.07281249287226271, 0.00355865136827868),\n",
       "  'Precision@10': (0.03692377909630306, 0.0026328216184463883),\n",
       "  'Precision@15': (0.032800851970181046, 0.0020549094279460416),\n",
       "  'Precision@20': (0.031150159744408944, 0.0018128224080648566),\n",
       "  'Precision@5': (0.041716111364673666, 0.0038905953030134964),\n",
       "  'Precision@50': (0.02293929712460064, 0.001091858336114151),\n",
       "  'R-Precision': (0.035259845700440134, 0.0025547527532833033),\n",
       "  'Recall@10': (0.03626105803660199, 0.0028137847102652287),\n",
       "  'Recall@15': (0.04792385008976156, 0.0031743490724566573),\n",
       "  'Recall@20': (0.061055171396160915, 0.003619776258222094),\n",
       "  'Recall@5': (0.02071815275387351, 0.00212525292817098),\n",
       "  'Recall@50': (0.11114952226980868, 0.004833387312621674)},\n",
       " {'MAP@10': (0.03702672549317917, 0.003496897878936031),\n",
       "  'MAP@15': (0.03455158091397252, 0.0028930213581597527),\n",
       "  'MAP@20': (0.03272875346753868, 0.002532257854154533),\n",
       "  'MAP@5': (0.040654191389015666, 0.004755749047804195),\n",
       "  'MAP@50': (0.026691582733232227, 0.001633536662793059),\n",
       "  'NDCG': (0.06289987867513577, 0.0033241969133523718),\n",
       "  'Precision@10': (0.0314924691921497, 0.0024355873233472066),\n",
       "  'Precision@15': (0.02857142857142857, 0.001966379337166055),\n",
       "  'Precision@20': (0.026745778183477863, 0.0017045726294668718),\n",
       "  'Precision@5': (0.03614787768142401, 0.0035559420298826843),\n",
       "  'Precision@50': (0.019844819717024193, 0.0010169379848932647),\n",
       "  'R-Precision': (0.03169284067516947, 0.0024320997442153435),\n",
       "  'Recall@10': (0.030921156297033587, 0.0025715353514958166),\n",
       "  'Recall@15': (0.04188040029965524, 0.002994810072610523),\n",
       "  'Recall@20': (0.05199460971035658, 0.003357751470995719),\n",
       "  'Recall@5': (0.01853674122106548, 0.0019971786275024025),\n",
       "  'Recall@50': (0.09591363016082617, 0.004504236593864037)},\n",
       " {'MAP@10': (0.03221041345185571, 0.003342657471252415),\n",
       "  'MAP@15': (0.0299248058262207, 0.002745057766987044),\n",
       "  'MAP@20': (0.02823187137480288, 0.002382624118307416),\n",
       "  'MAP@5': (0.03664993153811045, 0.004628449791543453),\n",
       "  'MAP@50': (0.022693246106644048, 0.0015036326720018272),\n",
       "  'NDCG': (0.05458719957746896, 0.0031396412398791785),\n",
       "  'Precision@10': (0.02647193062528526, 0.002246610268769767),\n",
       "  'Precision@15': (0.02464628023733455, 0.0018077330571309612),\n",
       "  'Precision@20': (0.02263806481058877, 0.0015297597607073549),\n",
       "  'Precision@5': (0.03057964399817435, 0.003272549432121322),\n",
       "  'Precision@50': (0.01695116385212232, 0.000921866192449628),\n",
       "  'R-Precision': (0.026323477964256107, 0.0022373416390388205),\n",
       "  'Recall@10': (0.026158674412779023, 0.002350237790724701),\n",
       "  'Recall@15': (0.03644639379527352, 0.0028197015716967576),\n",
       "  'Recall@20': (0.044668333586231714, 0.003138563711577948),\n",
       "  'Recall@5': (0.01573833225344326, 0.0018667894431288491),\n",
       "  'Recall@50': (0.08364096517686813, 0.004278464966138456)},\n",
       " {'MAP@10': (0.032338661769287055, 0.003375985716318971),\n",
       "  'MAP@15': (0.029906603952701626, 0.0027624478927901625),\n",
       "  'MAP@20': (0.027944926343598152, 0.002391771700249803),\n",
       "  'MAP@5': (0.03693595009888939, 0.004700853973822252),\n",
       "  'MAP@50': (0.022214934624567768, 0.0014950353379012255),\n",
       "  'NDCG': (0.05358431086764726, 0.0031846692519490946),\n",
       "  'Precision@10': (0.0267001369237791, 0.002233818592217926),\n",
       "  'Precision@15': (0.023642172523961662, 0.0017506264236445968),\n",
       "  'Precision@20': (0.02149703331811958, 0.0014901958535111872),\n",
       "  'Precision@5': (0.029119123687813785, 0.0031645538835968746),\n",
       "  'Precision@50': (0.016366955727978093, 0.0009125025106226652),\n",
       "  'R-Precision': (0.025836127684728115, 0.002222637524671206),\n",
       "  'Recall@10': (0.02656797604236947, 0.0023684391239337617),\n",
       "  'Recall@15': (0.035093906617930534, 0.0027528173116825915),\n",
       "  'Recall@20': (0.0422531722244368, 0.0030627483871334222),\n",
       "  'Recall@5': (0.015215765272610968, 0.0018287591403903034),\n",
       "  'Recall@50': (0.08053877785627529, 0.004216801464856186)},\n",
       " {'MAP@10': (0.03216341382133258, 0.003371961802168599),\n",
       "  'MAP@15': (0.029736433672992325, 0.0027580458910000934),\n",
       "  'MAP@20': (0.027795686056830894, 0.0023870894359840043),\n",
       "  'MAP@5': (0.036820325574319177, 0.004700892571561991),\n",
       "  'MAP@50': (0.02211694905267566, 0.0014917255006994153),\n",
       "  'NDCG': (0.05332854336586803, 0.003183953841922479),\n",
       "  'Precision@10': (0.026152441807393883, 0.0022108233512596006),\n",
       "  'Precision@15': (0.023733455043359195, 0.0017684589653445154),\n",
       "  'Precision@20': (0.02131446827932451, 0.001475592543137034),\n",
       "  'Precision@5': (0.028388863532633504, 0.003118341853793341),\n",
       "  'Precision@50': (0.016266544956640802, 0.0009106880415641046),\n",
       "  'R-Precision': (0.025712357165593714, 0.002211359744603607),\n",
       "  'Recall@10': (0.026011986401189166, 0.0023622247349787),\n",
       "  'Recall@15': (0.03517193211120444, 0.0027734264781213683),\n",
       "  'Recall@20': (0.04210512748981158, 0.00306806441346407),\n",
       "  'Recall@5': (0.014849729614471245, 0.0018141332903555208),\n",
       "  'Recall@50': (0.08013549877316964, 0.004226800948371019)}]"
      ]
     },
     "execution_count": 215,
     "metadata": {},
     "output_type": "execute_result"
    }
   ],
   "source": [
    "tuning_res = tune_ridge(X, y, rtrain, rvalid, alpha_list)"
   ]
  },
  {
   "cell_type": "code",
   "execution_count": 25,
   "metadata": {},
   "outputs": [
    {
     "data": {
      "text/plain": [
       "[{'MAP@10': (0.04805285692551781, 0.003920472733145397),\n",
       "  'MAP@15': (0.04478661254562669, 0.0032521352364207534),\n",
       "  'MAP@20': (0.04222788103154307, 0.0028366138847246646),\n",
       "  'MAP@5': (0.05272782595466301, 0.005321405124878171),\n",
       "  'MAP@50': (0.03409391764848641, 0.0018218910300791065),\n",
       "  'NDCG': (0.07999846961007356, 0.003667573156475868),\n",
       "  'Precision@10': (0.040529438612505714, 0.0027466305158265897),\n",
       "  'Precision@15': (0.0368172828236726, 0.0021988964610603003),\n",
       "  'Precision@20': (0.033637608397991785, 0.0018635893937487664),\n",
       "  'Precision@5': (0.048288452761296216, 0.004032639600205658),\n",
       "  'Precision@50': (0.025330899132816064, 0.0011567750212765242),\n",
       "  'R-Precision': (0.03989187810787577, 0.002782451941732588),\n",
       "  'Recall@10': (0.04020196625676252, 0.002937246513260588),\n",
       "  'Recall@15': (0.05435976722347167, 0.0033554903532078627),\n",
       "  'Recall@20': (0.06554471573041062, 0.003642413854233583),\n",
       "  'Recall@5': (0.024423312239891477, 0.0023407448537697763),\n",
       "  'Recall@50': (0.1224714284883836, 0.0050740715711463415)},\n",
       " {'MAP@10': (0.04801464142632559, 0.00391914171725252),\n",
       "  'MAP@15': (0.044761510950465766, 0.003251494795421121),\n",
       "  'MAP@20': (0.04221889274825364, 0.002836120259618524),\n",
       "  'MAP@5': (0.052674577818347786, 0.005318663524596082),\n",
       "  'MAP@50': (0.034090316654134104, 0.0018215986967601014),\n",
       "  'NDCG': (0.08000529666068963, 0.0036670777127993334),\n",
       "  'Precision@10': (0.040529438612505714, 0.0027520742519510557),\n",
       "  'Precision@15': (0.036786855317206754, 0.002198975159274995),\n",
       "  'Precision@20': (0.03368324965769055, 0.0018642454052646006),\n",
       "  'Precision@5': (0.048288452761296216, 0.004032639600205658),\n",
       "  'Precision@50': (0.025340027384755822, 0.0011568353710660392),\n",
       "  'R-Precision': (0.03989187810787577, 0.002782451941732588),\n",
       "  'Recall@10': (0.04018122022962671, 0.0029379750667246195),\n",
       "  'Recall@15': (0.054302715648848206, 0.0033552626221346406),\n",
       "  'Recall@20': (0.06567693049064911, 0.0036478313617199325),\n",
       "  'Recall@5': (0.024423312239891477, 0.0023407448537697763),\n",
       "  'Recall@50': (0.12251706974808237, 0.005074477216992957)},\n",
       " {'MAP@10': (0.04791011931929322, 0.003909906530540023),\n",
       "  'MAP@15': (0.04472455659356618, 0.0032453570885310626),\n",
       "  'MAP@20': (0.042183593262152395, 0.002831975800912942),\n",
       "  'MAP@5': (0.05255134641716111, 0.0053077652762159545),\n",
       "  'MAP@50': (0.03409008663773755, 0.0018206458827478736),\n",
       "  'NDCG': (0.080007877002718, 0.0036741296182457423),\n",
       "  'Precision@10': (0.04043815609310817, 0.0027488356456966574),\n",
       "  'Precision@15': (0.036969420356001835, 0.002209056993815675),\n",
       "  'Precision@20': (0.03372889091738932, 0.001865902272311573),\n",
       "  'Precision@5': (0.04801460520310361, 0.004019422218032844),\n",
       "  'Precision@50': (0.025349155636695576, 0.0011602543418718766),\n",
       "  'R-Precision': (0.03995729846245619, 0.0027870432323067475),\n",
       "  'Recall@10': (0.04015089215945651, 0.002938149676122475),\n",
       "  'Recall@15': (0.05452043367806783, 0.003360650501561797),\n",
       "  'Recall@20': (0.06574394345131794, 0.003655624471281709),\n",
       "  'Recall@5': (0.024317606292104284, 0.0023406152577752615),\n",
       "  'Recall@50': (0.12248665145198735, 0.005089844615252921)},\n",
       " {'MAP@10': (0.048495577144595854, 0.00395933050256202),\n",
       "  'MAP@15': (0.045224578656801386, 0.0032780467110968777),\n",
       "  'MAP@20': (0.04256328472197412, 0.002857824964414625),\n",
       "  'MAP@5': (0.05373954054465236, 0.0053909896530433335),\n",
       "  'MAP@50': (0.0342424045797377, 0.0018322869023224037),\n",
       "  'NDCG': (0.08043380500071191, 0.0036998659209957186),\n",
       "  'Precision@10': (0.04084892743039708, 0.0027511271554653918),\n",
       "  'Precision@15': (0.03690856534307014, 0.0022046987708253347),\n",
       "  'Precision@20': (0.033660429027841166, 0.0018674273584072302),\n",
       "  'Precision@5': (0.04783204016430854, 0.00400808074134652),\n",
       "  'Precision@50': (0.025431309904153356, 0.001172080839360107),\n",
       "  'R-Precision': (0.03981012850776358, 0.0027810360707041463),\n",
       "  'Recall@10': (0.0401481313045176, 0.0029143782505927436),\n",
       "  'Recall@15': (0.05448318640640888, 0.003366412333813082),\n",
       "  'Recall@20': (0.06574791710724277, 0.0036942240615169953),\n",
       "  'Recall@5': (0.024185477070091572, 0.002336109219601218),\n",
       "  'Recall@50': (0.12249066385576951, 0.005076405115678246)},\n",
       " {'MAP@10': (0.04857197191975832, 0.003918017050333634),\n",
       "  'MAP@15': (0.04529459383863766, 0.003258534357079463),\n",
       "  'MAP@20': (0.04265967116355809, 0.0028453088773639757),\n",
       "  'MAP@5': (0.05324813631522896, 0.005298532756480907),\n",
       "  'MAP@50': (0.034417844186429764, 0.0018277495708422535),\n",
       "  'NDCG': (0.08087210958821404, 0.0036921417685742137),\n",
       "  'Precision@10': (0.04162482884527613, 0.0027606032943672644),\n",
       "  'Precision@15': (0.03684771033013844, 0.002221390292531523),\n",
       "  'Precision@20': (0.03359196713829302, 0.0018447663063144637),\n",
       "  'Precision@5': (0.048379735280693746, 0.004049368043176081),\n",
       "  'Precision@50': (0.025604746691008668, 0.0011752071793307327),\n",
       "  'R-Precision': (0.04036796368890473, 0.0027949521756369037),\n",
       "  'Recall@10': (0.04118594300083115, 0.002939737333051959),\n",
       "  'Recall@15': (0.05417744741707205, 0.0033537691429439908),\n",
       "  'Recall@20': (0.06611906089611184, 0.0036735845093150915),\n",
       "  'Recall@5': (0.02489119420346103, 0.002397161998898327),\n",
       "  'Recall@50': (0.12325468352769572, 0.005089213924203643)},\n",
       " {'MAP@10': (0.04865892576412886, 0.003946746034156704),\n",
       "  'MAP@15': (0.0452632781455237, 0.0032664827759907125),\n",
       "  'MAP@20': (0.04269348796085319, 0.002853849535076459),\n",
       "  'MAP@5': (0.054154876007911155, 0.00539076480836093),\n",
       "  'MAP@50': (0.034144412162355905, 0.0018276690368129343),\n",
       "  'NDCG': (0.07960564513731182, 0.0036804935593721328),\n",
       "  'Precision@10': (0.04103149246919215, 0.0027466690648610117),\n",
       "  'Precision@15': (0.036756427810740906, 0.002185398779212518),\n",
       "  'Precision@20': (0.03395709721588316, 0.001884093280782768),\n",
       "  'Precision@5': (0.04819717024189868, 0.004075032684735309),\n",
       "  'Precision@50': (0.024856230031948885, 0.001132518335907174),\n",
       "  'R-Precision': (0.039179618775816535, 0.0027177750214641455),\n",
       "  'Recall@10': (0.04076018068450955, 0.002956209515673313),\n",
       "  'Recall@15': (0.054123109254221834, 0.003339563791871889),\n",
       "  'Recall@20': (0.06662387707659974, 0.0037111567477740334),\n",
       "  'Recall@5': (0.02402406925760149, 0.0023012203867147835),\n",
       "  'Recall@50': (0.12027265165702775, 0.004986501323581564)},\n",
       " {'MAP@10': (0.043617576956235096, 0.0038169807583606314),\n",
       "  'MAP@15': (0.04048429806074718, 0.003146980059122653),\n",
       "  'MAP@20': (0.03830930729546637, 0.002742402873139176),\n",
       "  'MAP@5': (0.048423855165069224, 0.005215969810450486),\n",
       "  'MAP@50': (0.03101982715189442, 0.0017606575518771294),\n",
       "  'NDCG': (0.07281249287226271, 0.00355865136827868),\n",
       "  'Precision@10': (0.03692377909630306, 0.0026328216184463883),\n",
       "  'Precision@15': (0.032800851970181046, 0.0020549094279460416),\n",
       "  'Precision@20': (0.031150159744408944, 0.0018128224080648566),\n",
       "  'Precision@5': (0.041716111364673666, 0.0038905953030134964),\n",
       "  'Precision@50': (0.02293929712460064, 0.001091858336114151),\n",
       "  'R-Precision': (0.035259845700440134, 0.0025547527532833033),\n",
       "  'Recall@10': (0.03626105803660199, 0.0028137847102652287),\n",
       "  'Recall@15': (0.04792385008976156, 0.0031743490724566573),\n",
       "  'Recall@20': (0.061055171396160915, 0.003619776258222094),\n",
       "  'Recall@5': (0.02071815275387351, 0.00212525292817098),\n",
       "  'Recall@50': (0.11114952226980868, 0.004833387312621674)},\n",
       " {'MAP@10': (0.03702672549317917, 0.003496897878936031),\n",
       "  'MAP@15': (0.03455158091397252, 0.0028930213581597527),\n",
       "  'MAP@20': (0.03272875346753868, 0.002532257854154533),\n",
       "  'MAP@5': (0.040654191389015666, 0.004755749047804195),\n",
       "  'MAP@50': (0.026691582733232227, 0.001633536662793059),\n",
       "  'NDCG': (0.06289987867513577, 0.0033241969133523718),\n",
       "  'Precision@10': (0.0314924691921497, 0.0024355873233472066),\n",
       "  'Precision@15': (0.02857142857142857, 0.001966379337166055),\n",
       "  'Precision@20': (0.026745778183477863, 0.0017045726294668718),\n",
       "  'Precision@5': (0.03614787768142401, 0.0035559420298826843),\n",
       "  'Precision@50': (0.019844819717024193, 0.0010169379848932647),\n",
       "  'R-Precision': (0.03169284067516947, 0.0024320997442153435),\n",
       "  'Recall@10': (0.030921156297033587, 0.0025715353514958166),\n",
       "  'Recall@15': (0.04188040029965524, 0.002994810072610523),\n",
       "  'Recall@20': (0.05199460971035658, 0.003357751470995719),\n",
       "  'Recall@5': (0.01853674122106548, 0.0019971786275024025),\n",
       "  'Recall@50': (0.09591363016082617, 0.004504236593864037)},\n",
       " {'MAP@10': (0.03221041345185571, 0.003342657471252415),\n",
       "  'MAP@15': (0.0299248058262207, 0.002745057766987044),\n",
       "  'MAP@20': (0.02823187137480288, 0.002382624118307416),\n",
       "  'MAP@5': (0.03664993153811045, 0.004628449791543453),\n",
       "  'MAP@50': (0.022693246106644048, 0.0015036326720018272),\n",
       "  'NDCG': (0.05458719957746896, 0.0031396412398791785),\n",
       "  'Precision@10': (0.02647193062528526, 0.002246610268769767),\n",
       "  'Precision@15': (0.02464628023733455, 0.0018077330571309612),\n",
       "  'Precision@20': (0.02263806481058877, 0.0015297597607073549),\n",
       "  'Precision@5': (0.03057964399817435, 0.003272549432121322),\n",
       "  'Precision@50': (0.01695116385212232, 0.000921866192449628),\n",
       "  'R-Precision': (0.026323477964256107, 0.0022373416390388205),\n",
       "  'Recall@10': (0.026158674412779023, 0.002350237790724701),\n",
       "  'Recall@15': (0.03644639379527352, 0.0028197015716967576),\n",
       "  'Recall@20': (0.044668333586231714, 0.003138563711577948),\n",
       "  'Recall@5': (0.01573833225344326, 0.0018667894431288491),\n",
       "  'Recall@50': (0.08364096517686813, 0.004278464966138456)},\n",
       " {'MAP@10': (0.032338661769287055, 0.003375985716318971),\n",
       "  'MAP@15': (0.029906603952701626, 0.0027624478927901625),\n",
       "  'MAP@20': (0.027944926343598152, 0.002391771700249803),\n",
       "  'MAP@5': (0.03693595009888939, 0.004700853973822252),\n",
       "  'MAP@50': (0.022214934624567768, 0.0014950353379012255),\n",
       "  'NDCG': (0.05358431086764726, 0.0031846692519490946),\n",
       "  'Precision@10': (0.0267001369237791, 0.002233818592217926),\n",
       "  'Precision@15': (0.023642172523961662, 0.0017506264236445968),\n",
       "  'Precision@20': (0.02149703331811958, 0.0014901958535111872),\n",
       "  'Precision@5': (0.029119123687813785, 0.0031645538835968746),\n",
       "  'Precision@50': (0.016366955727978093, 0.0009125025106226652),\n",
       "  'R-Precision': (0.025836127684728115, 0.002222637524671206),\n",
       "  'Recall@10': (0.02656797604236947, 0.0023684391239337617),\n",
       "  'Recall@15': (0.035093906617930534, 0.0027528173116825915),\n",
       "  'Recall@20': (0.0422531722244368, 0.0030627483871334222),\n",
       "  'Recall@5': (0.015215765272610968, 0.0018287591403903034),\n",
       "  'Recall@50': (0.08053877785627529, 0.004216801464856186)},\n",
       " {'MAP@10': (0.03216341382133258, 0.003371961802168599),\n",
       "  'MAP@15': (0.029736433672992325, 0.0027580458910000934),\n",
       "  'MAP@20': (0.027795686056830894, 0.0023870894359840043),\n",
       "  'MAP@5': (0.036820325574319177, 0.004700892571561991),\n",
       "  'MAP@50': (0.02211694905267566, 0.0014917255006994153),\n",
       "  'NDCG': (0.05332854336586803, 0.003183953841922479),\n",
       "  'Precision@10': (0.026152441807393883, 0.0022108233512596006),\n",
       "  'Precision@15': (0.023733455043359195, 0.0017684589653445154),\n",
       "  'Precision@20': (0.02131446827932451, 0.001475592543137034),\n",
       "  'Precision@5': (0.028388863532633504, 0.003118341853793341),\n",
       "  'Precision@50': (0.016266544956640802, 0.0009106880415641046),\n",
       "  'R-Precision': (0.025712357165593714, 0.002211359744603607),\n",
       "  'Recall@10': (0.026011986401189166, 0.0023622247349787),\n",
       "  'Recall@15': (0.03517193211120444, 0.0027734264781213683),\n",
       "  'Recall@20': (0.04210512748981158, 0.00306806441346407),\n",
       "  'Recall@5': (0.014849729614471245, 0.0018141332903555208),\n",
       "  'Recall@50': (0.08013549877316964, 0.004226800948371019)}]"
      ]
     },
     "execution_count": 25,
     "metadata": {},
     "output_type": "execute_result"
    }
   ],
   "source": [
    "tuning_res"
   ]
  },
  {
   "cell_type": "code",
   "execution_count": 48,
   "metadata": {
    "collapsed": true
   },
   "outputs": [],
   "source": [
    "ndcgs = [res['NDCG'][0] for res in tuning_res]\n",
    "r_precisions = [res['R-Precision'][0] for res in tuning_res]\n",
    "map_10 = [res['MAP@10'][0] for res in tuning_res]\n",
    "recall_10 = [res['Recall@10'][0] for res in tuning_res]\n",
    "precision_10 = [res['Precision@10'][0] for res in tuning_res]"
   ]
  },
  {
   "cell_type": "code",
   "execution_count": 229,
   "metadata": {},
   "outputs": [
    {
     "name": "stderr",
     "output_type": "stream",
     "text": [
      "100%|█████████████████████████████████████████████████████████████████████████████| 2343/2343 [00:12<00:00, 193.19it/s]\n",
      "100%|████████████████████████████████████████████████████████████████████████████| 2343/2343 [00:00<00:00, 2633.98it/s]\n",
      "100%|████████████████████████████████████████████████████████████████████████████| 2343/2343 [00:00<00:00, 4818.55it/s]\n",
      "100%|████████████████████████████████████████████████████████████████████████████| 2343/2343 [00:00<00:00, 4789.89it/s]\n",
      "100%|████████████████████████████████████████████████████████████████████████████| 2343/2343 [00:00<00:00, 4751.97it/s]\n",
      "100%|████████████████████████████████████████████████████████████████████████████| 2343/2343 [00:00<00:00, 4776.19it/s]\n",
      "100%|████████████████████████████████████████████████████████████████████████████| 2343/2343 [00:00<00:00, 4714.95it/s]\n",
      "100%|████████████████████████████████████████████████████████████████████████████| 2343/2343 [00:00<00:00, 4195.40it/s]\n"
     ]
    }
   ],
   "source": [
    "clf = Ridge(alpha=0).fit(X, y)\n",
    "lr_similarity = clf.predict(np.array(X))\n",
    "lr_prediction_score = predict(rtrain, 100, lr_similarity, item_similarity_en= False)\n",
    "lr_predict = prediction(lr_prediction_score, 50, rtrain)\n",
    "lr_res = evaluate(lr_predict, rvalid)"
   ]
  },
  {
   "cell_type": "code",
   "execution_count": 230,
   "metadata": {
    "scrolled": false
   },
   "outputs": [
    {
     "data": {
      "text/plain": [
       "(0.08000013961454337, 0.003667587149024021)"
      ]
     },
     "execution_count": 230,
     "metadata": {},
     "output_type": "execute_result"
    }
   ],
   "source": [
    "lr_res['NDCG']"
   ]
  },
  {
   "cell_type": "code",
   "execution_count": 52,
   "metadata": {},
   "outputs": [],
   "source": [
    "plt.figure(figsize=(8,8))\n",
    "\n",
    "plt.plot(np.arange(len(alpha_list)), ndcgs)\n",
    "plt.plot(np.arange(len(alpha_list)), r_precisions)\n",
    "plt.plot(np.arange(len(alpha_list)), map_10)\n",
    "plt.plot(np.arange(len(alpha_list)), recall_10)\n",
    "plt.plot(np.arange(len(alpha_list)), precision_10)\n",
    "\n",
    "plt.xticks(np.arange(len(alpha_list)), alpha_list)\n",
    "plt.xlabel('alpha value')\n",
    "plt.ylabel('score')\n",
    "plt.legend(['NDCG','R-Precision','map_10','recall_10','precision_10'])\n",
    "# plt.show()\n",
    "plt.savefig('../figs/Tuning_latent_similarity_space_LR')"
   ]
  },
  {
   "cell_type": "markdown",
   "metadata": {},
   "source": [
    "### Best Alpha on validation set = 0.1"
   ]
  },
  {
   "cell_type": "code",
   "execution_count": 22,
   "metadata": {
    "scrolled": true
   },
   "outputs": [
    {
     "name": "stderr",
     "output_type": "stream",
     "text": [
      "100%|█████████████████████████████████████████████████████████████████████████████| 2343/2343 [00:12<00:00, 189.04it/s]\n",
      "100%|████████████████████████████████████████████████████████████████████████████| 2343/2343 [00:00<00:00, 2672.56it/s]\n",
      "100%|████████████████████████████████████████████████████████████████████████████| 2343/2343 [00:00<00:00, 4698.25it/s]\n",
      "100%|████████████████████████████████████████████████████████████████████████████| 2343/2343 [00:00<00:00, 4823.97it/s]\n",
      "100%|████████████████████████████████████████████████████████████████████████████| 2343/2343 [00:00<00:00, 4774.95it/s]\n",
      "100%|████████████████████████████████████████████████████████████████████████████| 2343/2343 [00:00<00:00, 4784.40it/s]\n",
      "100%|████████████████████████████████████████████████████████████████████████████| 2343/2343 [00:00<00:00, 4707.96it/s]\n",
      "100%|████████████████████████████████████████████████████████████████████████████| 2343/2343 [00:00<00:00, 4172.74it/s]\n"
     ]
    }
   ],
   "source": [
    "clf = Ridge(alpha=0.1).fit(X, y)\n",
    "lr_similarity = clf.predict(np.array(X))\n",
    "lr_prediction_score = predict(rtrain, 100, lr_similarity, item_similarity_en= False)\n",
    "lr_predict = prediction(lr_prediction_score, 50, rtrain)\n",
    "lr_res = evaluate(lr_predict, rtest)"
   ]
  },
  {
   "cell_type": "code",
   "execution_count": 23,
   "metadata": {
    "scrolled": true
   },
   "outputs": [
    {
     "data": {
      "text/plain": [
       "{'MAP@10': (0.0579191932364, 0.004337173760974245),\n",
       " 'MAP@15': (0.05410621479539782, 0.0036420905948940153),\n",
       " 'MAP@20': (0.0514113544178991, 0.00321063889760705),\n",
       " 'MAP@5': (0.06349003499163244, 0.005785447754232044),\n",
       " 'MAP@50': (0.04161249065006333, 0.0021296299920805146),\n",
       " 'NDCG': (0.08514745492045937, 0.0037227182371916663),\n",
       " 'Precision@10': (0.04906435417617526, 0.0030992493571670326),\n",
       " 'Precision@15': (0.04533698463410924, 0.002564070020831653),\n",
       " 'Precision@20': (0.04210406207211319, 0.002221280781856864),\n",
       " 'Precision@5': (0.05942492012779552, 0.004510206593046768),\n",
       " 'Precision@50': (0.030789593792788686, 0.0013693555346728124),\n",
       " 'R-Precision': (0.04498034624026185, 0.002658267116070035),\n",
       " 'Recall@10': (0.03907562491767253, 0.0026192096631670594),\n",
       " 'Recall@15': (0.05420595429830032, 0.003173562295251404),\n",
       " 'Recall@20': (0.06650439279850905, 0.003556459694516587),\n",
       " 'Recall@5': (0.024423385789734176, 0.002051772794243629),\n",
       " 'Recall@50': (0.11966359399827448, 0.0047284204524481906)}"
      ]
     },
     "execution_count": 23,
     "metadata": {},
     "output_type": "execute_result"
    }
   ],
   "source": [
    "# Result on test data\n",
    "lr_res"
   ]
  },
  {
   "cell_type": "markdown",
   "metadata": {},
   "source": [
    "# Popularity Base Line"
   ]
  },
  {
   "cell_type": "markdown",
   "metadata": {},
   "source": [
    "## 1. Recommend most-reviewed restaurants to customers"
   ]
  },
  {
   "cell_type": "code",
   "execution_count": 157,
   "metadata": {
    "collapsed": true
   },
   "outputs": [],
   "source": [
    "def get_most_reviewed_item(df, item_col = 'ItemIndex', topk = 50):\n",
    "    item_index = df[item_col]\n",
    "    item_frequency = item_index.value_counts()\n",
    "    return item_frequency.index[:20]"
   ]
  },
  {
   "cell_type": "code",
   "execution_count": 87,
   "metadata": {},
   "outputs": [
    {
     "data": {
      "text/plain": [
       "Int64Index([6454, 4443, 5410, 2804, 1652, 3347, 6776,   75, 1406, 7100, 4908,\n",
       "            5010, 5315, 5659, 2847, 7427, 1522, 3149, 5577,  201],\n",
       "           dtype='int64')"
      ]
     },
     "execution_count": 87,
     "metadata": {},
     "output_type": "execute_result"
    }
   ],
   "source": [
    "get_most_reviewed_item(df_train, target_col = 'ItemIndex', topk = 50)"
   ]
  },
  {
   "cell_type": "markdown",
   "metadata": {},
   "source": [
    "## 2. Recommend highest-average-ratings restaurants to customers "
   ]
  },
  {
   "cell_type": "code",
   "execution_count": 103,
   "metadata": {
    "collapsed": true
   },
   "outputs": [],
   "source": [
    "means = [item_idx.loc[item_idx['ItemIndex'] == i]['rating'].mean() for i in range(rtrain.shape[1])]"
   ]
  },
  {
   "cell_type": "code",
   "execution_count": 108,
   "metadata": {
    "collapsed": true
   },
   "outputs": [],
   "source": [
    "means_allvalid = np.nan_to_num(means, nan=0)"
   ]
  },
  {
   "cell_type": "code",
   "execution_count": 116,
   "metadata": {
    "collapsed": true
   },
   "outputs": [],
   "source": [
    "def get_highest_avg_rating_item(df, item_size = 7456, item_col = 'ItemIndex', rating_col= 'rating', topk = 50):\n",
    "    item_idx = df[[item_col, rating_col]]\n",
    "    avg_ratings = [item_idx.loc[item_idx[item_col] == i][rating_col].mean() for i in range(item_size)]\n",
    "    avg_ratings = np.nan_to_num(avg_ratings, nan=0) # Setting nan to 0 rating\n",
    "    topk_index = np.argsort(avg_ratings)[::-1][:topk]\n",
    "    return topk_index\n",
    "\n",
    "def construct_avg_rating(df, item_size = 7456, item_col = 'ItemIndex', rating_col= 'rating'):\n",
    "    item_idx = df[[item_col, rating_col]]\n",
    "    avg_ratings = [item_idx.loc[item_idx[item_col] == i][rating_col].mean() for i in range(item_size)]\n",
    "    avg_ratings = np.nan_to_num(avg_ratings, nan=0) # Setting nan to 0 rating\n",
    "    return avg_ratings\n",
    "\n",
    "def get_highest_avg_rating_item2(avg_ratings, topk = 50):\n",
    "    \"\"\"\n",
    "    Quicker version for get_highest_avg_rating_item(), but needed to construct avg_ratings array first\n",
    "    \"\"\"\n",
    "    return np.argsort(avg_ratings)[::-1][:topk]"
   ]
  },
  {
   "cell_type": "code",
   "execution_count": 117,
   "metadata": {},
   "outputs": [
    {
     "data": {
      "text/plain": [
       "array([3727, 6753, 3701, 3704, 3708, 6768, 3714, 3724, 3736, 3746, 3749,\n",
       "       3763, 3766, 3769, 3931, 6751, 6750, 3773, 3781, 3784, 3798, 3809,\n",
       "       3853, 3884, 3911, 3919, 6775, 3673, 6778, 3641, 3336, 3339, 3345,\n",
       "       6817, 3381, 3394, 3398, 3404, 3433, 3435, 3457, 3467, 3469, 3479,\n",
       "       3500, 6797, 3542, 3547, 3573, 3581], dtype=int64)"
      ]
     },
     "execution_count": 117,
     "metadata": {},
     "output_type": "execute_result"
    }
   ],
   "source": [
    "get_highest_avg_rating_item(df_train,item_col = 'ItemIndex', rating_col= 'rating', topk = 50)"
   ]
  },
  {
   "cell_type": "markdown",
   "metadata": {},
   "source": [
    "## 3. Recommend restaurants with most 4/5-ratings to customers"
   ]
  },
  {
   "cell_type": "code",
   "execution_count": 128,
   "metadata": {
    "collapsed": true
   },
   "outputs": [],
   "source": [
    "threshold = 3\n",
    "df_train['pos_rating'] = (df_train['rating'] > threshold)*1\n",
    "# df[BINARY_RATING] = (df[RATING] > threshold)*1"
   ]
  },
  {
   "cell_type": "code",
   "execution_count": 135,
   "metadata": {},
   "outputs": [
    {
     "data": {
      "text/plain": [
       "5"
      ]
     },
     "execution_count": 135,
     "metadata": {},
     "output_type": "execute_result"
    }
   ],
   "source": [
    "df_train.loc[df_train['ItemIndex'] == 0]['pos_rating'].sum()"
   ]
  },
  {
   "cell_type": "code",
   "execution_count": 131,
   "metadata": {
    "scrolled": true
   },
   "outputs": [
    {
     "data": {
      "text/plain": [
       "<2343x7456 sparse matrix of type '<class 'numpy.float32'>'\n",
       "\twith 95153 stored elements in Compressed Sparse Row format>"
      ]
     },
     "execution_count": 131,
     "metadata": {},
     "output_type": "execute_result"
    }
   ],
   "source": [
    "rtrain"
   ]
  },
  {
   "cell_type": "code",
   "execution_count": 132,
   "metadata": {
    "collapsed": true
   },
   "outputs": [],
   "source": [
    "def get_most_pos_rating_item(df, item_size = 7456, threshold = 3,\n",
    "                             item_col = 'ItemIndex', BINARY_RATING= 'pos_rating',RATING = 'rating', topk = 50):\n",
    "    \"\"\"\n",
    "    Similar to highest average rating, but with sum of binary ratings\n",
    "    \"\"\"\n",
    "    df[BINARY_RATING] = (df[RATING] > threshold)*1 # get implicit rating (positive threshold = 3 by default)\n",
    "    item_idx = df[[item_col, BINARY_RATING]]\n",
    "    sum_ratings = [item_idx.loc[item_idx[item_col] == i][BINARY_RATING].sum() for i in range(item_size)]\n",
    "    sum_ratings = np.nan_to_num(sum_ratings, nan=0) # Setting nan to 0 rating\n",
    "    topk_index = np.argsort(sum_ratings)[::-1][:topk]\n",
    "    return topk_index"
   ]
  },
  {
   "cell_type": "code",
   "execution_count": 134,
   "metadata": {},
   "outputs": [
    {
     "data": {
      "text/plain": [
       "array([6454, 5410, 4443, 2804, 6776, 1652, 6222, 1406, 7100,  201, 4908,\n",
       "       5315, 5010, 5659,   75, 5286, 5081, 5626, 5363, 1522, 4141, 3428,\n",
       "       7313, 3377, 2446, 4397, 7163, 3347, 2729, 5972, 1548, 6739, 4762,\n",
       "       2514, 3997,  754,  325, 3211, 5577, 1445, 2188, 6732, 3739, 5852,\n",
       "       2895,  419, 1985, 1113, 4037, 2942], dtype=int64)"
      ]
     },
     "execution_count": 134,
     "metadata": {},
     "output_type": "execute_result"
    }
   ],
   "source": [
    "get_most_pos_rating_item(df_train, item_size = 7456, threshold = 3,\n",
    "                             item_col = 'ItemIndex', BINARY_RATING= 'pos_rating',RATING = 'rating', topk = 50)"
   ]
  },
  {
   "cell_type": "markdown",
   "metadata": {},
   "source": [
    "## 4. Other baselines"
   ]
  },
  {
   "cell_type": "code",
   "execution_count": null,
   "metadata": {
    "collapsed": true
   },
   "outputs": [],
   "source": []
  },
  {
   "cell_type": "code",
   "execution_count": null,
   "metadata": {
    "collapsed": true
   },
   "outputs": [],
   "source": []
  },
  {
   "cell_type": "markdown",
   "metadata": {},
   "source": [
    "## Baseline Prediction Res"
   ]
  },
  {
   "cell_type": "code",
   "execution_count": 164,
   "metadata": {
    "collapsed": true
   },
   "outputs": [],
   "source": [
    "def baseline_recommendation(df, user_size = 2343, item_size = 7456, \n",
    "                            item_col = 'ItemIndex', BINARY_RATING= 'pos_rating',RATING = 'rating', topk = 50, method = 1):\n",
    "    if method == 1:\n",
    "        \n",
    "        # 1. Recommend most-reviewed restaurants to customers\n",
    "        topk_item = get_most_reviewed_item(df_train, item_col = item_col, topk = topk)\n",
    "    elif method == 2:\n",
    "        # 2. Recommend highest-average-ratings restaurants to customers\n",
    "        topk_item = get_highest_avg_rating_item(df_train, item_col = item_col, rating_col= RATING, topk = topk)\n",
    "    elif method == 3:\n",
    "        # 3. Recommend restaurants with most 4/5-ratings to customers\n",
    "        topk_item = get_most_pos_rating_item(df_train, item_size = item_size, threshold = 3,\n",
    "                                 item_col = item_col, BINARY_RATING= BINARY_RATING, RATING = RATING, topk = topk)\n",
    "    baseline_prediction = [np.array(topk_item)]*user_size\n",
    "    return np.array(baseline_prediction)"
   ]
  },
  {
   "cell_type": "code",
   "execution_count": 159,
   "metadata": {
    "collapsed": true
   },
   "outputs": [],
   "source": [
    "base_predict = baseline_recommendation(df_train, user_size = 2343, item_size = 7456, \n",
    "                            item_col = 'ItemIndex', BINARY_RATING= 'pos_rating',RATING = 'rating', topk = 50, method = 1)"
   ]
  },
  {
   "cell_type": "code",
   "execution_count": 161,
   "metadata": {},
   "outputs": [
    {
     "name": "stderr",
     "output_type": "stream",
     "text": [
      "100%|████████████████████████████████████████████████████████████████████████████| 2343/2343 [00:00<00:00, 4620.45it/s]\n",
      "100%|████████████████████████████████████████████████████████████████████████████| 2343/2343 [00:00<00:00, 4698.55it/s]\n",
      "100%|████████████████████████████████████████████████████████████████████████████| 2343/2343 [00:00<00:00, 4517.57it/s]\n",
      "100%|████████████████████████████████████████████████████████████████████████████| 2343/2343 [00:00<00:00, 4483.13it/s]\n",
      "100%|████████████████████████████████████████████████████████████████████████████| 2343/2343 [00:00<00:00, 4633.75it/s]\n",
      "100%|████████████████████████████████████████████████████████████████████████████| 2343/2343 [00:00<00:00, 4180.00it/s]\n"
     ]
    }
   ],
   "source": [
    "base_res = evaluate(base_predict, rvalid)"
   ]
  },
  {
   "cell_type": "code",
   "execution_count": 162,
   "metadata": {
    "scrolled": true
   },
   "outputs": [
    {
     "data": {
      "text/plain": [
       "{'MAP@10': (0.02756279295530779, 0.0030674003503804296),\n",
       " 'MAP@15': (0.025664745856439148, 0.002495221336583842),\n",
       " 'MAP@20': (0.0245251386356516, 0.002154826475118933),\n",
       " 'MAP@5': (0.03146812718697702, 0.004299791684373221),\n",
       " 'MAP@50': (0.0245251386356516, 0.002154826475118933),\n",
       " 'NDCG': (0.035676821097590614, 0.0028569302171470522),\n",
       " 'Precision@10': (0.022866271109082615, 0.001988596051332705),\n",
       " 'Precision@15': (0.021481819564886658, 0.0016070534268667908),\n",
       " 'Precision@20': (0.02083523505248745, 0.0014204913842516612),\n",
       " 'Precision@5': (0.024372432679141947, 0.0029077654080710857),\n",
       " 'Precision@50': (0.02083523505248745, 0.0014204913842516612),\n",
       " 'R-Precision': (0.02208079679050068, 0.002045209143131415),\n",
       " 'Recall@10': (0.02382092703618299, 0.002287648852888764),\n",
       " 'Recall@15': (0.033385924988189306, 0.0027159580476557293),\n",
       " 'Recall@20': (0.04260836046012948, 0.0030774531232506393),\n",
       " 'Recall@5': (0.01306075448751601, 0.001733854536671442),\n",
       " 'Recall@50': (0.04260836046012948, 0.0030774531232506393)}"
      ]
     },
     "execution_count": 162,
     "metadata": {},
     "output_type": "execute_result"
    }
   ],
   "source": [
    "base_res"
   ]
  },
  {
   "cell_type": "code",
   "execution_count": 165,
   "metadata": {
    "collapsed": true
   },
   "outputs": [],
   "source": [
    "base_predict = baseline_recommendation(df_train, user_size = 2343, item_size = 7456, \n",
    "                            item_col = 'ItemIndex', BINARY_RATING= 'pos_rating',RATING = 'rating', topk = 50, method = 2)"
   ]
  },
  {
   "cell_type": "code",
   "execution_count": 166,
   "metadata": {},
   "outputs": [
    {
     "name": "stderr",
     "output_type": "stream",
     "text": [
      "100%|████████████████████████████████████████████████████████████████████████████| 2343/2343 [00:00<00:00, 4588.42it/s]\n",
      "100%|████████████████████████████████████████████████████████████████████████████| 2343/2343 [00:00<00:00, 4500.51it/s]\n",
      "100%|████████████████████████████████████████████████████████████████████████████| 2343/2343 [00:00<00:00, 4509.12it/s]\n",
      "100%|████████████████████████████████████████████████████████████████████████████| 2343/2343 [00:00<00:00, 4415.67it/s]\n",
      "100%|████████████████████████████████████████████████████████████████████████████| 2343/2343 [00:00<00:00, 4570.83it/s]\n",
      "100%|████████████████████████████████████████████████████████████████████████████| 2343/2343 [00:00<00:00, 4107.24it/s]\n"
     ]
    }
   ],
   "source": [
    "base_res = evaluate(base_predict, rvalid)"
   ]
  },
  {
   "cell_type": "code",
   "execution_count": 167,
   "metadata": {},
   "outputs": [
    {
     "data": {
      "text/plain": [
       "{'MAP@10': (0.00023925438119869888, 0.00018890762255986796),\n",
       " 'MAP@15': (0.0002793810142052953, 0.00018504787859034537),\n",
       " 'MAP@20': (0.0002860790734558032, 0.00017480285580780816),\n",
       " 'MAP@5': (0.00013083827780313402, 0.00015999478795695156),\n",
       " 'MAP@50': (0.00027032663727369246, 0.00012440828866581207),\n",
       " 'NDCG': (0.0006786256462460687, 0.0002741411553596563),\n",
       " 'Precision@10': (0.0004107713372889092, 0.00025898593396981765),\n",
       " 'Precision@15': (0.0003347025711242964, 0.000190792315976979),\n",
       " 'Precision@20': (0.00027384755819260615, 0.00014942277305503114),\n",
       " 'Precision@5': (0.00027384755819260615, 0.00029946207625880164),\n",
       " 'Precision@50': (0.0002464628023733455, 8.934454787826891e-05),\n",
       " 'R-Precision': (0.00029551214819409697, 0.0001764347223105854),\n",
       " 'Recall@10': (0.00039290353644529823, 0.0002793898005101686),\n",
       " 'Recall@15': (0.0004980167406000359, 0.00032943253005846956),\n",
       " 'Recall@20': (0.0005170339321411891, 0.0003313507790775532),\n",
       " 'Recall@5': (0.00011878430408781848, 0.0001307098316334704),\n",
       " 'Recall@50': (0.0013198497269349958, 0.0005740090562246555)}"
      ]
     },
     "execution_count": 167,
     "metadata": {},
     "output_type": "execute_result"
    }
   ],
   "source": [
    "base_res"
   ]
  },
  {
   "cell_type": "code",
   "execution_count": 168,
   "metadata": {
    "collapsed": true
   },
   "outputs": [],
   "source": [
    "base_predict = baseline_recommendation(df_train, user_size = 2343, item_size = 7456, \n",
    "                            item_col = 'ItemIndex', BINARY_RATING= 'pos_rating',RATING = 'rating', topk = 50, method = 3)"
   ]
  },
  {
   "cell_type": "code",
   "execution_count": 169,
   "metadata": {},
   "outputs": [
    {
     "name": "stderr",
     "output_type": "stream",
     "text": [
      "100%|████████████████████████████████████████████████████████████████████████████| 2343/2343 [00:00<00:00, 4423.98it/s]\n",
      "100%|████████████████████████████████████████████████████████████████████████████| 2343/2343 [00:00<00:00, 4698.28it/s]\n",
      "100%|████████████████████████████████████████████████████████████████████████████| 2343/2343 [00:00<00:00, 4689.17it/s]\n",
      "100%|████████████████████████████████████████████████████████████████████████████| 2343/2343 [00:00<00:00, 4679.54it/s]\n",
      "100%|████████████████████████████████████████████████████████████████████████████| 2343/2343 [00:00<00:00, 4642.81it/s]\n",
      "100%|████████████████████████████████████████████████████████████████████████████| 2343/2343 [00:00<00:00, 4143.33it/s]\n"
     ]
    }
   ],
   "source": [
    "base_res = evaluate(base_predict, rvalid)"
   ]
  },
  {
   "cell_type": "code",
   "execution_count": 170,
   "metadata": {},
   "outputs": [
    {
     "data": {
      "text/plain": [
       "{'MAP@10': (0.026848815138408928, 0.0030582277610226734),\n",
       " 'MAP@15': (0.02479511706576974, 0.0024835827470534857),\n",
       " 'MAP@20': (0.023597298766080462, 0.0021372343536750077),\n",
       " 'MAP@5': (0.03148638369085653, 0.004293697270112032),\n",
       " 'MAP@50': (0.01935310615849926, 0.0013169468896284768),\n",
       " 'NDCG': (0.048252012535976815, 0.0029840713542375464),\n",
       " 'Precision@10': (0.021040620721131907, 0.0019459208520586748),\n",
       " 'Precision@15': (0.021390537045489124, 0.0016038726862727547),\n",
       " 'Precision@20': (0.0193518941122775, 0.0013427970336753483),\n",
       " 'Precision@5': (0.02628936558649019, 0.0030172956768867967),\n",
       " 'Precision@50': (0.014824281150159746, 0.0007996623320726392),\n",
       " 'R-Precision': (0.02258659626024878, 0.002087125571553334),\n",
       " 'Recall@10': (0.02174962011198104, 0.002183283532423727),\n",
       " 'Recall@15': (0.03324965244811066, 0.002700859989671627),\n",
       " 'Recall@20': (0.03956607739668501, 0.0029368771587676987),\n",
       " 'Recall@5': (0.014723698025483165, 0.0018582930154224643),\n",
       " 'Recall@50': (0.07409566385413648, 0.00395758928714422)}"
      ]
     },
     "execution_count": 170,
     "metadata": {},
     "output_type": "execute_result"
    }
   ],
   "source": [
    "base_res"
   ]
  },
  {
   "cell_type": "markdown",
   "metadata": {},
   "source": [
    "# One-hot encoding of critiques"
   ]
  },
  {
   "cell_type": "markdown",
   "metadata": {},
   "source": [
    "Use one-hot encoding of critiques to project into user-similarity space"
   ]
  },
  {
   "cell_type": "code",
   "execution_count": 65,
   "metadata": {},
   "outputs": [
    {
     "data": {
      "text/plain": [
       "<2343x235 sparse matrix of type '<class 'numpy.int32'>'\n",
       "\twith 242115 stored elements in Compressed Sparse Row format>"
      ]
     },
     "execution_count": 65,
     "metadata": {},
     "output_type": "execute_result"
    }
   ],
   "source": [
    "U_K"
   ]
  },
  {
   "cell_type": "code",
   "execution_count": 155,
   "metadata": {
    "collapsed": true
   },
   "outputs": [],
   "source": [
    "def get_critiqued_UK(user_keyphrase_frequency,user_index,critiqued_keyphrase):\n",
    "    \"\"\"\n",
    "    user_keyphrase_frequency is the U_K matrix (csr sparse matrix)\n",
    "    return the one-hot encoding of the critique\n",
    "    \"\"\"\n",
    "    U_K_cp = user_keyphrase_frequency.copy()\n",
    "    U_K_cp[user_index] = 0\n",
    "    U_K_cp[user_index,critiqued_keyphrase] = 1\n",
    "    return U_K_cp\n",
    "\n",
    "def project_one_hot_encoding(reg, user_keyphrase_frequency,user_index,critiqued_keyphrase, normalize_en = True):\n",
    "    \"\"\"\n",
    "    Return the projection on user_sim space from one-hot encoding of critiqued keyphrase\n",
    "    The res[user_index] should be target embedding row\n",
    "    \"\"\"\n",
    "    critiqued_matrix = get_critiqued_UK(user_keyphrase_frequency, user_index, critiqued_keyphrase)\n",
    "    res = reg.predict(critiqued_matrix)\n",
    "    if normalize_en:\n",
    "        res = normalize((res))\n",
    "    return res"
   ]
  },
  {
   "cell_type": "code",
   "execution_count": 158,
   "metadata": {},
   "outputs": [
    {
     "name": "stderr",
     "output_type": "stream",
     "text": [
      "D:\\Anaconda\\envs\\tensorflow_cpu\\lib\\site-packages\\scipy\\sparse\\_index.py:126: SparseEfficiencyWarning: Changing the sparsity structure of a csr_matrix is expensive. lil_matrix is more efficient.\n",
      "  self._set_arrayXarray(i, j, x)\n"
     ]
    }
   ],
   "source": [
    "# test\n",
    "critiqued_matrix = project_one_hot_encoding(clf, U_K, 0, 0,normalize_en = True)"
   ]
  },
  {
   "cell_type": "code",
   "execution_count": 159,
   "metadata": {},
   "outputs": [
    {
     "data": {
      "text/plain": [
       "array([0.00503134, 0.1046469 , 0.02630396, ..., 0.        , 0.00029115,\n",
       "       0.00124497])"
      ]
     },
     "execution_count": 159,
     "metadata": {},
     "output_type": "execute_result"
    }
   ],
   "source": [
    "critiqued_matrix[1]"
   ]
  },
  {
   "cell_type": "markdown",
   "metadata": {},
   "source": [
    "# Embedding of original U_U + critique projection"
   ]
  },
  {
   "cell_type": "code",
   "execution_count": 165,
   "metadata": {
    "collapsed": true
   },
   "outputs": [],
   "source": [
    "# initialize the matrix\n",
    "modified_matrix = normalize(train(rtrain)).copy()"
   ]
  },
  {
   "cell_type": "code",
   "execution_count": 166,
   "metadata": {},
   "outputs": [
    {
     "data": {
      "text/plain": [
       "array([0.4867929 , 0.01587667, 0.01536822, ..., 0.        , 0.        ,\n",
       "       0.        ], dtype=float32)"
      ]
     },
     "execution_count": 166,
     "metadata": {},
     "output_type": "execute_result"
    }
   ],
   "source": [
    "modified_matrix[0]"
   ]
  },
  {
   "cell_type": "markdown",
   "metadata": {},
   "source": [
    "# Learn the lambdas"
   ]
  },
  {
   "cell_type": "code",
   "execution_count": 167,
   "metadata": {},
   "outputs": [
    {
     "data": {
      "text/plain": [
       "array([[0.4867929 , 0.01587667, 0.01536822, ..., 0.        , 0.        ,\n",
       "        0.        ],\n",
       "       [0.01717785, 0.5266886 , 0.00329018, ..., 0.        , 0.01379578,\n",
       "        0.        ],\n",
       "       [0.01747107, 0.00345705, 0.55340123, ..., 0.        , 0.        ,\n",
       "        0.0229555 ],\n",
       "       ...,\n",
       "       [0.        , 0.        , 0.        , ..., 0.        , 0.        ,\n",
       "        0.        ],\n",
       "       [0.        , 0.01634563, 0.        , ..., 0.        , 0.6240353 ,\n",
       "        0.        ],\n",
       "       [0.        , 0.        , 0.02697603, ..., 0.        , 0.        ,\n",
       "        0.6503266 ]], dtype=float32)"
      ]
     },
     "execution_count": 167,
     "metadata": {},
     "output_type": "execute_result"
    }
   ],
   "source": [
    "modified_matrix"
   ]
  },
  {
   "cell_type": "code",
   "execution_count": 168,
   "metadata": {},
   "outputs": [
    {
     "data": {
      "text/plain": [
       "array([[-0.00612141, -0.02221741, -0.00579472, ...,  0.        ,\n",
       "         0.03756859, -0.0309494 ],\n",
       "       [ 0.00503134,  0.1046469 ,  0.02630396, ...,  0.        ,\n",
       "         0.00029115,  0.00124497],\n",
       "       [ 0.01630788,  0.02821016,  0.09550076, ...,  0.        ,\n",
       "         0.01960971,  0.02490069],\n",
       "       ...,\n",
       "       [ 0.00338559, -0.04381626, -0.01855125, ...,  0.        ,\n",
       "        -0.01606787,  0.03146326],\n",
       "       [ 0.01187455,  0.01655502,  0.02848183, ...,  0.        ,\n",
       "         0.15997426,  0.01094426],\n",
       "       [ 0.0025182 , -0.00189156,  0.03735052, ...,  0.        ,\n",
       "         0.03354831,  0.1618768 ]])"
      ]
     },
     "execution_count": 168,
     "metadata": {},
     "output_type": "execute_result"
    }
   ],
   "source": [
    "critiqued_matrix"
   ]
  },
  {
   "cell_type": "code",
   "execution_count": 170,
   "metadata": {
    "collapsed": true
   },
   "outputs": [],
   "source": [
    "# AVERAGE \n",
    "\n",
    "# Combine critiqued matrix with modified directly (asumming only one critique)\n",
    "modified_matrix = modified_matrix + critiqued_matrix"
   ]
  },
  {
   "cell_type": "code",
   "execution_count": 171,
   "metadata": {},
   "outputs": [
    {
     "data": {
      "text/plain": [
       "array([ 0.48067148, -0.00634074,  0.00957349, ...,  0.        ,\n",
       "        0.03756859, -0.0309494 ])"
      ]
     },
     "execution_count": 171,
     "metadata": {},
     "output_type": "execute_result"
    }
   ],
   "source": [
    "modified_matrix[0]"
   ]
  },
  {
   "cell_type": "markdown",
   "metadata": {},
   "source": [
    "### Constructing the w*p matrix"
   ]
  },
  {
   "cell_type": "code",
   "execution_count": 183,
   "metadata": {},
   "outputs": [
    {
     "data": {
      "text/plain": [
       "array([[ 0.48067148],\n",
       "       [-0.00634074],\n",
       "       [ 0.00957349],\n",
       "       ...,\n",
       "       [ 0.        ],\n",
       "       [ 0.03756859],\n",
       "       [-0.0309494 ]])"
      ]
     },
     "execution_count": 183,
     "metadata": {},
     "output_type": "execute_result"
    }
   ],
   "source": [
    "W.reshape(2343,1)"
   ]
  },
  {
   "cell_type": "code",
   "execution_count": 186,
   "metadata": {
    "collapsed": true
   },
   "outputs": [],
   "source": [
    "# l = lambda, the weights we want to learn\n",
    "W = modified_matrix[0]\n",
    "P = rtrain[:,0]"
   ]
  },
  {
   "cell_type": "code",
   "execution_count": 191,
   "metadata": {
    "collapsed": true
   },
   "outputs": [],
   "source": [
    "train_row = W*np.ravel(P.todense())"
   ]
  },
  {
   "cell_type": "code",
   "execution_count": 193,
   "metadata": {},
   "outputs": [
    {
     "data": {
      "text/plain": [
       "(2343,)"
      ]
     },
     "execution_count": 193,
     "metadata": {},
     "output_type": "execute_result"
    }
   ],
   "source": [
    "train_row.shape"
   ]
  },
  {
   "cell_type": "code",
   "execution_count": null,
   "metadata": {
    "collapsed": true
   },
   "outputs": [],
   "source": []
  },
  {
   "cell_type": "markdown",
   "metadata": {},
   "source": [
    "## Define rating targets"
   ]
  },
  {
   "cell_type": "code",
   "execution_count": null,
   "metadata": {
    "collapsed": true
   },
   "outputs": [],
   "source": [
    "# To define the rating targets, simply modify final prediction of U-I matrix's user_index row,\n",
    "# Make the target critiqued item's predicted rating to be 1 (out of 5)"
   ]
  },
  {
   "cell_type": "code",
   "execution_count": 202,
   "metadata": {
    "collapsed": true
   },
   "outputs": [],
   "source": [
    "critiqued_keyphrase = 0\n",
    "user_index = 0\n",
    "affected_items = I_K[:, critiqued_keyphrase].nonzero()[user_index]"
   ]
  },
  {
   "cell_type": "code",
   "execution_count": 206,
   "metadata": {},
   "outputs": [
    {
     "data": {
      "text/plain": [
       "array([   2,    6,   13, ..., 7434, 7439, 7441])"
      ]
     },
     "execution_count": 206,
     "metadata": {},
     "output_type": "execute_result"
    }
   ],
   "source": [
    "affected_items"
   ]
  },
  {
   "cell_type": "code",
   "execution_count": 204,
   "metadata": {
    "scrolled": true
   },
   "outputs": [
    {
     "name": "stdout",
     "output_type": "stream",
     "text": [
      "  (0, 309)\t5.0\n",
      "  (0, 539)\t4.0\n",
      "  (0, 585)\t3.0\n",
      "  (0, 719)\t4.0\n",
      "  (0, 823)\t4.0\n",
      "  (0, 831)\t5.0\n",
      "  (0, 1438)\t4.0\n",
      "  (0, 1650)\t4.0\n",
      "  (0, 1710)\t4.0\n",
      "  (0, 1999)\t3.0\n",
      "  (0, 2075)\t4.0\n",
      "  (0, 2804)\t4.0\n",
      "  (0, 2868)\t4.0\n",
      "  (0, 3298)\t4.0\n",
      "  (0, 3623)\t3.0\n",
      "  (0, 3729)\t4.0\n",
      "  (0, 4358)\t5.0\n",
      "  (0, 4841)\t4.0\n",
      "  (0, 5081)\t4.0\n",
      "  (0, 5291)\t3.0\n",
      "  (0, 5410)\t4.0\n",
      "  (0, 5706)\t4.0\n",
      "  (0, 6099)\t4.0\n",
      "  (0, 6222)\t5.0\n",
      "  (0, 6299)\t4.0\n",
      "  (0, 6454)\t4.0\n",
      "  (0, 6940)\t5.0\n",
      "  (0, 7060)\t2.0\n"
     ]
    }
   ],
   "source": [
    "target_rating = rtrain[user_index]\n",
    "print (target_rating)"
   ]
  },
  {
   "cell_type": "code",
   "execution_count": 209,
   "metadata": {
    "collapsed": true
   },
   "outputs": [],
   "source": [
    "# if affected items in the rtrain[user_index] list, set the rating to low (default = 1)\n",
    "low = 1\n",
    "updated_target_rating = np.ravel(target_rating.todense())\n",
    "updated_target_rating[affected_items] = 1"
   ]
  },
  {
   "cell_type": "code",
   "execution_count": 210,
   "metadata": {},
   "outputs": [
    {
     "data": {
      "text/plain": [
       "array([0., 0., 1., ..., 0., 0., 0.], dtype=float32)"
      ]
     },
     "execution_count": 210,
     "metadata": {},
     "output_type": "execute_result"
    }
   ],
   "source": [
    "updated_target_rating"
   ]
  },
  {
   "cell_type": "code",
   "execution_count": null,
   "metadata": {
    "collapsed": true
   },
   "outputs": [],
   "source": []
  }
 ],
 "metadata": {
  "kernelspec": {
   "display_name": "Python 3",
   "language": "python",
   "name": "python3"
  },
  "language_info": {
   "codemirror_mode": {
    "name": "ipython",
    "version": 3
   },
   "file_extension": ".py",
   "mimetype": "text/x-python",
   "name": "python",
   "nbconvert_exporter": "python",
   "pygments_lexer": "ipython3",
   "version": "3.6.1"
  }
 },
 "nbformat": 4,
 "nbformat_minor": 2
}
