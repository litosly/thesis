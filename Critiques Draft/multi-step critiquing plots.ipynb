{
 "cells": [
  {
   "cell_type": "code",
   "execution_count": 1,
   "metadata": {
    "scrolled": true
   },
   "outputs": [
    {
     "data": {
      "text/plain": [
       "{'figure.facecolor': 'white',\n",
       " 'axes.labelcolor': '.15',\n",
       " 'xtick.direction': 'out',\n",
       " 'ytick.direction': 'out',\n",
       " 'xtick.color': '.15',\n",
       " 'ytick.color': '.15',\n",
       " 'axes.axisbelow': True,\n",
       " 'grid.linestyle': '-',\n",
       " 'text.color': '.15',\n",
       " 'font.family': ['sans-serif'],\n",
       " 'font.sans-serif': ['Arial',\n",
       "  'DejaVu Sans',\n",
       "  'Liberation Sans',\n",
       "  'Bitstream Vera Sans',\n",
       "  'sans-serif'],\n",
       " 'lines.solid_capstyle': 'round',\n",
       " 'patch.edgecolor': 'w',\n",
       " 'patch.force_edgecolor': True,\n",
       " 'image.cmap': 'rocket',\n",
       " 'xtick.top': False,\n",
       " 'ytick.right': False,\n",
       " 'axes.grid': False,\n",
       " 'axes.facecolor': 'white',\n",
       " 'axes.edgecolor': '.15',\n",
       " 'grid.color': '.8',\n",
       " 'axes.spines.left': True,\n",
       " 'axes.spines.bottom': True,\n",
       " 'axes.spines.right': True,\n",
       " 'axes.spines.top': True,\n",
       " 'xtick.bottom': False,\n",
       " 'ytick.left': False}"
      ]
     },
     "execution_count": 1,
     "metadata": {},
     "output_type": "execute_result"
    }
   ],
   "source": [
    "import matplotlib.pyplot as plt\n",
    "import seaborn as sns\n",
    "import pandas as pd\n",
    "import numpy as np\n",
    "sns.axes_style(\"white\")"
   ]
  },
  {
   "cell_type": "code",
   "execution_count": 2,
   "metadata": {},
   "outputs": [],
   "source": [
    "def show_lineplot(df, hue='model', x='iteration', y='item_rank', xlabel='Iteration', ylabel='Item Rank', name=\"item_rank_iteration\", save=True):\n",
    "    fig, ax = plt.subplots(figsize=(6, 3))\n",
    "#     df = df.sort_values(by=['model'])\n",
    "    #plt.axhline(y=0.165, color='r', linestyle='-')\n",
    "    ax = sns.lineplot(x=x, y=y, hue=hue, style=hue, data=df, ci=68)\n",
    "    ax.set_xlabel(xlabel)\n",
    "    ax.set_ylabel(ylabel)\n",
    "    handles, labels = ax.get_legend_handles_labels()\n",
    "    ax.legend(handles=handles[1:], labels=labels[1:])\n",
    "    plt.tight_layout()\n",
    "    if save:\n",
    "        fig_path = load_yaml('config/global.yml', key='path')['figs']\n",
    "        fig.savefig('{0}/{1}.pdf'.format(fig_path, name),\n",
    "                    bbox_inches=\"tight\", pad_inches=0, format='pdf')\n",
    "    else:\n",
    "        plt.show()\n",
    "\n",
    "def show_barplot(df, hue='Model', x='target_rank', y='Popularity', xlabel='Target Rank', ylabel='Popularity', name=\"item_pop\", save=True):\n",
    "    fig, ax = plt.subplots(figsize=(6, 3))\n",
    "    df = df.sort_values(by=['Model'])\n",
    "    #plt.axhline(y=0.165, color='r', linestyle='-')\n",
    "#    ax = sns.barplot(y=x, x=y, hue=hue, data=df, orient='h', ci=68)\n",
    "#    ax = sns.barplot(x=x, y=y, hue=hue, data=df, ci=68)\n",
    "#    ax = sns.boxplot(x=x, y=y, hue=hue, data=df)\n",
    "    ax = sns.violinplot(x=x, y=y, hue=hue, data=df)\n",
    "\n",
    "    ax.set_xlabel(xlabel)\n",
    "    ax.set_ylabel(ylabel)\n",
    "    handles, labels = ax.get_legend_handles_labels()\n",
    "    ax.legend(handles=handles[:], labels=labels[0:])\n",
    "#    ax.legend(handles=handles[1:], labels=labels[1:])\n",
    "    plt.tight_layout()\n",
    "    if save:\n",
    "        fig_path = load_yaml('config/global.yml', key='path')['figs']\n",
    "        fig.savefig('{0}/{1}.pdf'.format(fig_path, name),\n",
    "                    bbox_inches=\"tight\", pad_inches=0, format='pdf')\n",
    "    else:\n",
    "        plt.show()\n"
   ]
  },
  {
   "cell_type": "code",
   "execution_count": 3,
   "metadata": {},
   "outputs": [],
   "source": [
    "def save_dataframe_csv(df, path, name):\n",
    "    df.to_csv(path+name, index=False)\n",
    "\n",
    "\n",
    "def load_dataframe_csv(path, name, index_col=None):\n",
    "    return pd.read_csv(path+name, index_col=index_col)"
   ]
  },
  {
   "cell_type": "code",
   "execution_count": 58,
   "metadata": {},
   "outputs": [],
   "source": [
    "table_path = '../tables/critiquing/multi_step_critiquing/yelp/ranksvm/'\n",
    "name = '25user_critique_lambda1to1.csv'\n",
    "df = load_dataframe_csv(table_path, name)"
   ]
  },
  {
   "cell_type": "code",
   "execution_count": 5,
   "metadata": {},
   "outputs": [],
   "source": [
    "def avg_successful_rate(df):\n",
    "    num_runs = len(np.where(df['iteration'] == 0)[0])\n",
    "    num_success = len(np.where(df['result'] == 'successful')[0])\n",
    "    \n",
    "    return num_success/num_runs"
   ]
  },
  {
   "cell_type": "code",
   "execution_count": 7,
   "metadata": {},
   "outputs": [],
   "source": [
    "def avg_length(df,include_fail = True):\n",
    "    num_runs = len(np.where(df['iteration'] == 0)[0])\n",
    "    return len(df)/num_runs"
   ]
  },
  {
   "cell_type": "code",
   "execution_count": 10,
   "metadata": {
    "scrolled": true
   },
   "outputs": [
    {
     "data": {
      "text/plain": [
       "17.711111111111112"
      ]
     },
     "execution_count": 10,
     "metadata": {},
     "output_type": "execute_result"
    }
   ],
   "source": [
    "avg_length(df)"
   ]
  },
  {
   "cell_type": "code",
   "execution_count": 44,
   "metadata": {},
   "outputs": [
    {
     "data": {
      "text/plain": [
       "0.6325301204819277"
      ]
     },
     "execution_count": 44,
     "metadata": {},
     "output_type": "execute_result"
    }
   ],
   "source": [
    "avg_successful_rate(df)"
   ]
  },
  {
   "cell_type": "code",
   "execution_count": 59,
   "metadata": {},
   "outputs": [],
   "source": [
    "df_5 =  df[df['target_rank'] == 5]\n",
    "df_10 = df[df['target_rank'] == 10]\n",
    "df_20 = df[df['target_rank'] == 20]\n",
    "df_50 = df[df['target_rank'] == 50]"
   ]
  },
  {
   "cell_type": "markdown",
   "metadata": {},
   "source": [
    "# AVG"
   ]
  },
  {
   "cell_type": "code",
   "execution_count": 13,
   "metadata": {},
   "outputs": [
    {
     "name": "stdout",
     "output_type": "stream",
     "text": [
      "18.622222222222224\n",
      "0.15555555555555556\n"
     ]
    }
   ],
   "source": [
    "print (avg_length(df_20))\n",
    "print (avg_successful_rate(df_20))"
   ]
  },
  {
   "cell_type": "code",
   "execution_count": 14,
   "metadata": {},
   "outputs": [
    {
     "name": "stdout",
     "output_type": "stream",
     "text": [
      "16.8\n",
      "0.28888888888888886\n"
     ]
    }
   ],
   "source": [
    "print (avg_length(df_50))\n",
    "print (avg_successful_rate(df_50))"
   ]
  },
  {
   "cell_type": "markdown",
   "metadata": {},
   "source": [
    "# RankSVM"
   ]
  },
  {
   "cell_type": "markdown",
   "metadata": {},
   "source": [
    "## test with wrong obj"
   ]
  },
  {
   "cell_type": "code",
   "execution_count": 30,
   "metadata": {},
   "outputs": [
    {
     "name": "stdout",
     "output_type": "stream",
     "text": [
      "18.91111111111111\n",
      "0.13333333333333333\n"
     ]
    }
   ],
   "source": [
    "print (avg_length(df_20))\n",
    "print (avg_successful_rate(df_20))"
   ]
  },
  {
   "cell_type": "code",
   "execution_count": 29,
   "metadata": {},
   "outputs": [
    {
     "name": "stdout",
     "output_type": "stream",
     "text": [
      "17.066666666666666\n",
      "0.26666666666666666\n"
     ]
    }
   ],
   "source": [
    "print (avg_length(df_50))\n",
    "print (avg_successful_rate(df_50))"
   ]
  },
  {
   "cell_type": "markdown",
   "metadata": {},
   "source": [
    "## 1 with 0-1 lamb and 2*uk"
   ]
  },
  {
   "cell_type": "code",
   "execution_count": 34,
   "metadata": {},
   "outputs": [
    {
     "name": "stdout",
     "output_type": "stream",
     "text": [
      "18.866666666666667\n",
      "0.13333333333333333\n"
     ]
    }
   ],
   "source": [
    "print (avg_length(df_20))\n",
    "print (avg_successful_rate(df_20))"
   ]
  },
  {
   "cell_type": "code",
   "execution_count": 33,
   "metadata": {},
   "outputs": [
    {
     "name": "stdout",
     "output_type": "stream",
     "text": [
      "16.977777777777778\n",
      "0.28888888888888886\n"
     ]
    }
   ],
   "source": [
    "print (avg_length(df_50))\n",
    "print (avg_successful_rate(df_50))"
   ]
  },
  {
   "cell_type": "markdown",
   "metadata": {},
   "source": [
    "# 1 user with absolute objective"
   ]
  },
  {
   "cell_type": "code",
   "execution_count": 41,
   "metadata": {},
   "outputs": [
    {
     "name": "stdout",
     "output_type": "stream",
     "text": [
      "18.333333333333332\n",
      "0.17777777777777778\n"
     ]
    }
   ],
   "source": [
    "print (avg_length(df_20))\n",
    "print (avg_successful_rate(df_20))"
   ]
  },
  {
   "cell_type": "code",
   "execution_count": 42,
   "metadata": {},
   "outputs": [
    {
     "name": "stdout",
     "output_type": "stream",
     "text": [
      "16.711111111111112\n",
      "0.3111111111111111\n"
     ]
    }
   ],
   "source": [
    "print (avg_length(df_50))\n",
    "print (avg_successful_rate(df_50))"
   ]
  },
  {
   "cell_type": "markdown",
   "metadata": {},
   "source": [
    "## 25 user with absolute objective"
   ]
  },
  {
   "cell_type": "code",
   "execution_count": 45,
   "metadata": {},
   "outputs": [
    {
     "name": "stdout",
     "output_type": "stream",
     "text": [
      "17.470175438596492\n",
      "0.22807017543859648\n"
     ]
    }
   ],
   "source": [
    "print (avg_length(df_20))\n",
    "print (avg_successful_rate(df_20))"
   ]
  },
  {
   "cell_type": "code",
   "execution_count": 46,
   "metadata": {},
   "outputs": [
    {
     "name": "stdout",
     "output_type": "stream",
     "text": [
      "15.256140350877192\n",
      "0.3684210526315789\n"
     ]
    }
   ],
   "source": [
    "print (avg_length(df_50))\n",
    "print (avg_successful_rate(df_50))"
   ]
  },
  {
   "cell_type": "markdown",
   "metadata": {},
   "source": [
    "## 25 user avg"
   ]
  },
  {
   "cell_type": "code",
   "execution_count": 50,
   "metadata": {},
   "outputs": [
    {
     "name": "stdout",
     "output_type": "stream",
     "text": [
      "17.09122807017544\n",
      "0.28421052631578947\n"
     ]
    }
   ],
   "source": [
    "print (avg_length(df_20))\n",
    "print (avg_successful_rate(df_20))"
   ]
  },
  {
   "cell_type": "code",
   "execution_count": 51,
   "metadata": {},
   "outputs": [
    {
     "name": "stdout",
     "output_type": "stream",
     "text": [
      "14.901754385964912\n",
      "0.38596491228070173\n"
     ]
    }
   ],
   "source": [
    "print (avg_length(df_50))\n",
    "print (avg_successful_rate(df_50))"
   ]
  },
  {
   "cell_type": "markdown",
   "metadata": {},
   "source": [
    "## 25 user absolute obj lambd -100 to 100"
   ]
  },
  {
   "cell_type": "code",
   "execution_count": 56,
   "metadata": {},
   "outputs": [
    {
     "name": "stdout",
     "output_type": "stream",
     "text": [
      "19.270175438596493\n",
      "0.09824561403508772\n"
     ]
    }
   ],
   "source": [
    "print (avg_length(df_5))\n",
    "print (avg_successful_rate(df_5))"
   ]
  },
  {
   "cell_type": "code",
   "execution_count": 57,
   "metadata": {},
   "outputs": [
    {
     "name": "stdout",
     "output_type": "stream",
     "text": [
      "18.736842105263158\n",
      "0.12631578947368421\n"
     ]
    }
   ],
   "source": [
    "print (avg_length(df_10))\n",
    "print (avg_successful_rate(df_10))"
   ]
  },
  {
   "cell_type": "code",
   "execution_count": 54,
   "metadata": {},
   "outputs": [
    {
     "name": "stdout",
     "output_type": "stream",
     "text": [
      "18.15438596491228\n",
      "0.1649122807017544\n"
     ]
    }
   ],
   "source": [
    "print (avg_length(df_20))\n",
    "print (avg_successful_rate(df_20))"
   ]
  },
  {
   "cell_type": "markdown",
   "metadata": {},
   "source": [
    "### 25 user absolute obj lambda -1 to 1"
   ]
  },
  {
   "cell_type": "code",
   "execution_count": 60,
   "metadata": {},
   "outputs": [
    {
     "name": "stdout",
     "output_type": "stream",
     "text": [
      "19.256140350877192\n",
      "0.10175438596491228\n"
     ]
    }
   ],
   "source": [
    "print (avg_length(df_5))\n",
    "print (avg_successful_rate(df_5))"
   ]
  },
  {
   "cell_type": "code",
   "execution_count": 61,
   "metadata": {},
   "outputs": [
    {
     "name": "stdout",
     "output_type": "stream",
     "text": [
      "18.164912280701753\n",
      "0.16140350877192983\n"
     ]
    }
   ],
   "source": [
    "print (avg_length(df_20))\n",
    "print (avg_successful_rate(df_20))"
   ]
  },
  {
   "cell_type": "markdown",
   "metadata": {},
   "source": [
    "## 50 user"
   ]
  },
  {
   "cell_type": "markdown",
   "metadata": {},
   "source": [
    "### AVG"
   ]
  },
  {
   "cell_type": "code",
   "execution_count": 62,
   "metadata": {},
   "outputs": [
    {
     "name": "stdout",
     "output_type": "stream",
     "text": [
      "17.003012048192772\n",
      "0.2756024096385542\n",
      "15.045180722891565\n",
      "0.39457831325301207\n"
     ]
    }
   ],
   "source": [
    "table_path = '../tables/critiquing/multi_step_critiquing/yelp/avg/'\n",
    "name = 'average_50users.csv'\n",
    "df = load_dataframe_csv(table_path, name)\n",
    "\n",
    "df_20 = df[df['target_rank'] == 20]\n",
    "df_50 = df[df['target_rank'] == 50]\n",
    "\n",
    "print (avg_length(df_20))\n",
    "print (avg_successful_rate(df_20))\n",
    "\n",
    "print (avg_length(df_50))\n",
    "print (avg_successful_rate(df_50))"
   ]
  },
  {
   "cell_type": "code",
   "execution_count": 63,
   "metadata": {
    "scrolled": true
   },
   "outputs": [
    {
     "name": "stdout",
     "output_type": "stream",
     "text": [
      "18.408132530120483\n",
      "0.16566265060240964\n",
      "16.936746987951807\n",
      "0.26656626506024095\n"
     ]
    }
   ],
   "source": [
    "table_path = '../tables/critiquing/multi_step_critiquing/yelp/rating/'\n",
    "name = 'ratingobjective_50users.csv'\n",
    "df = load_dataframe_csv(table_path, name)\n",
    "\n",
    "df_20 = df[df['target_rank'] == 20]\n",
    "df_50 = df[df['target_rank'] == 50]\n",
    "\n",
    "print (avg_length(df_20))\n",
    "print (avg_successful_rate(df_20))\n",
    "\n",
    "print (avg_length(df_50))\n",
    "print (avg_successful_rate(df_50))"
   ]
  },
  {
   "cell_type": "code",
   "execution_count": 64,
   "metadata": {},
   "outputs": [
    {
     "name": "stdout",
     "output_type": "stream",
     "text": [
      "17.593373493975903\n",
      "0.21234939759036145\n",
      "15.521084337349398\n",
      "0.33433734939759036\n"
     ]
    }
   ],
   "source": [
    "table_path = '../tables/critiquing/multi_step_critiquing/yelp/ranksvm/'\n",
    "name = 'ranksvm_50users.csv'\n",
    "df = load_dataframe_csv(table_path, name)\n",
    "\n",
    "df_20 = df[df['target_rank'] == 20]\n",
    "df_50 = df[df['target_rank'] == 50]\n",
    "\n",
    "print (avg_length(df_20))\n",
    "print (avg_successful_rate(df_20))\n",
    "\n",
    "print (avg_length(df_50))\n",
    "print (avg_successful_rate(df_50))"
   ]
  },
  {
   "cell_type": "markdown",
   "metadata": {},
   "source": [
    "# Tuning Lamb1 and Lamb2"
   ]
  },
  {
   "cell_type": "code",
   "execution_count": 2,
   "metadata": {},
   "outputs": [],
   "source": [
    "def save_dataframe_csv(df, path, name):\n",
    "    df.to_csv(path+name, index=False)\n",
    "\n",
    "\n",
    "def load_dataframe_csv(path, name, index_col=None):\n",
    "    return pd.read_csv(path+name, index_col=index_col)\n"
   ]
  },
  {
   "cell_type": "code",
   "execution_count": 5,
   "metadata": {},
   "outputs": [],
   "source": [
    "lamb1 = 1\n",
    "lamb2 = 1\n",
    "\n",
    "table_path = '../tables/critiquing/tuning/'\n",
    "name = 'lamb1_'+ str(lamb1)+'_lamb2_' + str(lamb2) + '_test.csv'\n",
    "# save_dataframe_csv(df, table_path, name)\n",
    "df = load_dataframe_csv(table_path,name)"
   ]
  },
  {
   "cell_type": "code",
   "execution_count": 3,
   "metadata": {},
   "outputs": [],
   "source": [
    "def get_average_length(df, n):\n",
    "    df_s_f = df[(df['result'] == 'successful') | (df['result'] == 'fail')]\n",
    "    iteration = df_s_f[df_s_f['target_rank']==n].groupby('user_id', as_index=False).agg({'iteration':'mean'})['iteration'].to_numpy()\n",
    "    return (np.average(iteration), 1.96*np.std(iteration)/np.sqrt(len(iteration)))\n",
    "\n",
    "def get_success_num(df, n):\n",
    "    return len(df[(df['result'] == 'successful') & (df['target_rank'] == n)])\n",
    "\n",
    "def get_fail_num(df, n):\n",
    "    return len(df[(df['result'] == 'fail') & (df['target_rank'] == n)])\n",
    "\n",
    "def get_success_rate(df, n):\n",
    "    df_s_f = df[(df['result'] == 'successful') | (df['result'] == 'fail')]\n",
    "    df_list_result = df_s_f[df_s_f['target_rank']==n].groupby('user_id', as_index=False)['result'].apply(list).reset_index(name='result')\n",
    "    successful_rate = df_list_result['result'].apply(lambda r: r.count(\"successful\")/len(r)).to_numpy()\n",
    "    return (np.average(successful_rate), 1.96*np.std(successful_rate)/np.sqrt(len(successful_rate)))\n"
   ]
  },
  {
   "cell_type": "code",
   "execution_count": 13,
   "metadata": {},
   "outputs": [],
   "source": [
    "lambs = [0.001,0.01,0.1,1,10,100,1000]"
   ]
  },
  {
   "cell_type": "code",
   "execution_count": 14,
   "metadata": {},
   "outputs": [
    {
     "name": "stdout",
     "output_type": "stream",
     "text": [
      "lamb1:  0.001 , lamb2:  0.001\n",
      "avg_length:  (20.0, 0.0)\n",
      "suc_rate:  (0.0, 0.0)\n",
      "lamb1:  0.001 , lamb2:  0.01\n",
      "avg_length:  (20.0, 0.0)\n",
      "suc_rate:  (0.0, 0.0)\n",
      "lamb1:  0.001 , lamb2:  0.1\n",
      "avg_length:  (20.0, 0.0)\n",
      "suc_rate:  (0.0, 0.0)\n",
      "lamb1:  0.001 , lamb2:  1\n",
      "avg_length:  (16.656986169897355, 1.0124591595305623)\n",
      "suc_rate:  (0.22699545215992586, 0.06463024489350024)\n",
      "lamb1:  0.001 , lamb2:  10\n",
      "avg_length:  (16.648936160696028, 0.987942599960155)\n",
      "suc_rate:  (0.22169563806076964, 0.057033637349996495)\n",
      "lamb1:  0.001 , lamb2:  100\n",
      "avg_length:  (16.648936160696028, 0.987942599960155)\n",
      "suc_rate:  (0.22169563806076964, 0.057033637349996495)\n",
      "lamb1:  0.001 , lamb2:  1000\n",
      "avg_length:  (16.648936160696028, 0.987942599960155)\n",
      "suc_rate:  (0.22169563806076964, 0.057033637349996495)\n",
      "lamb1:  0.01 , lamb2:  0.001\n",
      "avg_length:  (20.0, 0.0)\n",
      "suc_rate:  (0.0, 0.0)\n",
      "lamb1:  0.01 , lamb2:  0.01\n",
      "avg_length:  (20.0, 0.0)\n",
      "suc_rate:  (0.0, 0.0)\n",
      "lamb1:  0.01 , lamb2:  0.1\n",
      "avg_length:  (20.0, 0.0)\n",
      "suc_rate:  (0.0, 0.0)\n",
      "lamb1:  0.01 , lamb2:  1\n",
      "avg_length:  (16.656986169897355, 1.0124591595305623)\n",
      "suc_rate:  (0.22699545215992586, 0.06463024489350024)\n",
      "lamb1:  0.01 , lamb2:  10\n",
      "avg_length:  (16.648936160696028, 0.987942599960155)\n",
      "suc_rate:  (0.22169563806076964, 0.057033637349996495)\n",
      "lamb1:  0.01 , lamb2:  100\n",
      "avg_length:  (16.648936160696028, 0.987942599960155)\n",
      "suc_rate:  (0.22169563806076964, 0.057033637349996495)\n",
      "lamb1:  0.01 , lamb2:  1000\n",
      "avg_length:  (16.648936160696028, 0.987942599960155)\n",
      "suc_rate:  (0.22169563806076964, 0.057033637349996495)\n",
      "lamb1:  0.1 , lamb2:  0.001\n",
      "avg_length:  (18.786873947811447, 0.6704209082460937)\n",
      "suc_rate:  (0.07301134233700024, 0.03860620070258339)\n",
      "lamb1:  0.1 , lamb2:  0.01\n",
      "avg_length:  (18.810311447811447, 0.6755503308203621)\n",
      "suc_rate:  (0.07040717567033357, 0.03904060489044314)\n",
      "lamb1:  0.1 , lamb2:  0.1\n",
      "avg_length:  (18.755487717083113, 0.6714009075570828)\n",
      "suc_rate:  (0.07360942846140216, 0.038194808376814014)\n",
      "lamb1:  0.1 , lamb2:  1\n",
      "avg_length:  (16.656986169897355, 1.0124591595305623)\n",
      "suc_rate:  (0.22699545215992586, 0.06463024489350024)\n",
      "lamb1:  0.1 , lamb2:  10\n",
      "avg_length:  (16.648936160696028, 0.987942599960155)\n",
      "suc_rate:  (0.22169563806076964, 0.057033637349996495)\n",
      "lamb1:  0.1 , lamb2:  100\n",
      "avg_length:  (16.648936160696028, 0.987942599960155)\n",
      "suc_rate:  (0.22169563806076964, 0.057033637349996495)\n",
      "lamb1:  0.1 , lamb2:  1000\n",
      "avg_length:  (16.648936160696028, 0.987942599960155)\n",
      "suc_rate:  (0.22169563806076964, 0.057033637349996495)\n",
      "lamb1:  1 , lamb2:  0.001\n",
      "avg_length:  (16.951056640119138, 0.9179152688530373)\n",
      "suc_rate:  (0.18976054403685982, 0.056643856156748745)\n",
      "lamb1:  1 , lamb2:  0.01\n",
      "avg_length:  (16.93173845830096, 0.9150754330014921)\n",
      "suc_rate:  (0.19253832181463762, 0.056451349972505296)\n",
      "lamb1:  1 , lamb2:  0.1\n",
      "avg_length:  (16.88188697876198, 0.898333638506494)\n",
      "suc_rate:  (0.1985030168418326, 0.05554165611705565)\n",
      "lamb1:  1 , lamb2:  1\n",
      "avg_length:  (16.547333979982007, 1.0393203400526496)\n",
      "suc_rate:  (0.23024266790714157, 0.06871391313852522)\n",
      "lamb1:  1 , lamb2:  10\n",
      "avg_length:  (16.41505162113715, 1.0034353952887425)\n",
      "suc_rate:  (0.23761563424392373, 0.058291970815747635)\n",
      "lamb1:  1 , lamb2:  100\n",
      "avg_length:  (16.648936160696028, 0.987942599960155)\n",
      "suc_rate:  (0.22169563806076964, 0.057033637349996495)\n",
      "lamb1:  1 , lamb2:  1000\n",
      "avg_length:  (16.648936160696028, 0.987942599960155)\n",
      "suc_rate:  (0.22169563806076964, 0.057033637349996495)\n",
      "lamb1:  10 , lamb2:  0.001\n",
      "avg_length:  (16.86103390091877, 0.8976177429305083)\n",
      "suc_rate:  (0.21501019387532547, 0.05659086106227969)\n",
      "lamb1:  10 , lamb2:  0.01\n",
      "avg_length:  (16.87442826118813, 0.8957955627781307)\n",
      "suc_rate:  (0.21038056424569582, 0.055732100381916554)\n",
      "lamb1:  10 , lamb2:  0.1\n",
      "avg_length:  (16.81962295440914, 0.918699530474898)\n",
      "suc_rate:  (0.21096535956733323, 0.05860570341993365)\n",
      "lamb1:  10 , lamb2:  1\n",
      "avg_length:  (16.810937159210184, 0.9524538063255676)\n",
      "suc_rate:  (0.20731547935495306, 0.06147336556009623)\n",
      "lamb1:  10 , lamb2:  10\n",
      "avg_length:  (16.31238338598536, 0.9657729332162018)\n",
      "suc_rate:  (0.25607628239207186, 0.05649780381914166)\n",
      "lamb1:  10 , lamb2:  100\n",
      "avg_length:  (16.391643663354188, 0.9779126187532188)\n",
      "suc_rate:  (0.23794059863138814, 0.05466025979482232)\n",
      "lamb1:  10 , lamb2:  1000\n",
      "avg_length:  (16.648936160696028, 0.987942599960155)\n",
      "suc_rate:  (0.22169563806076964, 0.057033637349996495)\n",
      "lamb1:  100 , lamb2:  0.001\n",
      "avg_length:  (16.78617424242424, 0.9602509646066539)\n",
      "suc_rate:  (0.20271824605706187, 0.059152939874469256)\n",
      "lamb1:  100 , lamb2:  0.01\n",
      "avg_length:  (16.78617424242424, 0.9602509646066539)\n",
      "suc_rate:  (0.20271824605706187, 0.059152939874469256)\n",
      "lamb1:  100 , lamb2:  0.1\n",
      "avg_length:  (16.759322390572393, 0.9606862440518155)\n",
      "suc_rate:  (0.212903431242247, 0.06067203612414748)\n",
      "lamb1:  100 , lamb2:  1\n",
      "avg_length:  (16.813832232582232, 0.9585001536331512)\n",
      "suc_rate:  (0.20175023258904837, 0.05847078294094451)\n",
      "lamb1:  100 , lamb2:  10\n",
      "avg_length:  (16.792813956876458, 0.9744229591085427)\n",
      "suc_rate:  (0.20979421407052987, 0.06372168373163392)\n",
      "lamb1:  100 , lamb2:  100\n",
      "avg_length:  (16.256969023909814, 0.9796208210951667)\n",
      "suc_rate:  (0.25241466623045566, 0.06214995024408813)\n",
      "lamb1:  100 , lamb2:  1000\n",
      "avg_length:  (16.37967631783421, 0.98649938634521)\n",
      "suc_rate:  (0.24114572683651633, 0.0570525242639355)\n",
      "lamb1:  1000 , lamb2:  0.001\n",
      "avg_length:  (16.88270647176897, 0.9137719510368786)\n",
      "suc_rate:  (0.19686686364317943, 0.056821003086351546)\n",
      "lamb1:  1000 , lamb2:  0.01\n",
      "avg_length:  (16.88270647176897, 0.9137719510368786)\n",
      "suc_rate:  (0.19686686364317943, 0.056821003086351546)\n",
      "lamb1:  1000 , lamb2:  0.1\n",
      "avg_length:  (16.88270647176897, 0.9137719510368786)\n",
      "suc_rate:  (0.19686686364317943, 0.056821003086351546)\n",
      "lamb1:  1000 , lamb2:  1\n",
      "avg_length:  (16.812193651256152, 0.9610234296379282)\n",
      "suc_rate:  (0.20007199184830762, 0.05881402077503645)\n",
      "lamb1:  1000 , lamb2:  10\n",
      "avg_length:  (16.781128188940688, 0.9693356873311574)\n",
      "suc_rate:  (0.2045280103668262, 0.05953561559736855)\n",
      "lamb1:  1000 , lamb2:  100\n",
      "avg_length:  (16.712292075614446, 0.9415000199992983)\n",
      "suc_rate:  (0.22577612750310116, 0.05733960495877693)\n",
      "lamb1:  1000 , lamb2:  1000\n",
      "avg_length:  (16.25994548214943, 0.9781301278443776)\n",
      "suc_rate:  (0.25022168377431536, 0.06223165748670525)\n"
     ]
    }
   ],
   "source": [
    "for lamb1 in lambs:\n",
    "    for lamb2 in lambs:\n",
    "        \n",
    "        name = 'lamb1_'+ str(lamb1)+'_lamb2_' + str(lamb2) + '_test.csv'\n",
    "        df = load_dataframe_csv(table_path,name)\n",
    "    \n",
    "        print ('lamb1: ',lamb1, \", lamb2: \",lamb2)\n",
    "        print ('avg_length: ',get_average_length(df,20))\n",
    "        print ('suc_rate: ',get_success_rate(df,20))\n"
   ]
  },
  {
   "cell_type": "code",
   "execution_count": null,
   "metadata": {},
   "outputs": [],
   "source": []
  },
  {
   "cell_type": "code",
   "execution_count": 4,
   "metadata": {},
   "outputs": [
    {
     "name": "stdout",
     "output_type": "stream",
     "text": [
      "avg_length:  (15.954481875945694, 1.0930675137129924)\n",
      "suc_rate:  (0.28832060057389003, 0.07097334293171635)\n"
     ]
    }
   ],
   "source": [
    "# Orginal one-hot encoding averaging,\n",
    "# new prediction = initial/num_critiques + critiqued\n",
    "table_path = '../tables/critiquing/multi_step_critiquing/yelp/avg/test_with_onehot_critique_25users.csv'\n",
    "df = load_dataframe_csv(table_path,\"\")       \n",
    "print ('avg_length: ',get_average_length(df,20))\n",
    "print ('suc_rate: ',get_success_rate(df,20))"
   ]
  },
  {
   "cell_type": "code",
   "execution_count": 5,
   "metadata": {},
   "outputs": [
    {
     "name": "stdout",
     "output_type": "stream",
     "text": [
      "avg_length:  (16.65485766061424, 0.9474722722897446)\n",
      "suc_rate:  (0.23899926219005166, 0.0627783514828643)\n"
     ]
    }
   ],
   "source": [
    "# one-hot encoding averaging\n",
    "# new prediction = initial + critiqued\n",
    "table_path = '../tables/critiquing/multi_step_critiquing/yelp/avg/test_with_onehot_critique_25users_correct_prediction.csv'\n",
    "df = load_dataframe_csv(table_path,\"\")       \n",
    "print ('avg_length: ',get_average_length(df,20))\n",
    "print ('suc_rate: ',get_success_rate(df,20))"
   ]
  },
  {
   "cell_type": "code",
   "execution_count": 6,
   "metadata": {},
   "outputs": [
    {
     "name": "stdout",
     "output_type": "stream",
     "text": [
      "avg_length:  (16.648936160696028, 0.987942599960155)\n",
      "suc_rate:  (0.22169563806076964, 0.057033637349996495)\n"
     ]
    }
   ],
   "source": [
    "# use user-keyphrase frequency as critique vector averaging\n",
    "# new prediction = initial + critiqued\n",
    "table_path = '../tables/critiquing/multi_step_critiquing/yelp/avg/test_with_uk_critique_25users_correct_prediction.csv'\n",
    "df = load_dataframe_csv(table_path,\"\")       \n",
    "print ('avg_length: ',get_average_length(df,20))\n",
    "print ('suc_rate: ',get_success_rate(df,20))"
   ]
  },
  {
   "cell_type": "code",
   "execution_count": 7,
   "metadata": {},
   "outputs": [
    {
     "name": "stdout",
     "output_type": "stream",
     "text": [
      "avg_length:  (16.09175009627312, 1.1116775712841986)\n",
      "suc_rate:  (0.27679065878079034, 0.07455656532945706)\n"
     ]
    }
   ],
   "source": [
    "# use user-keyphrase frequency as critique vector averaging\n",
    "# new prediction = theta[0]*initial/num_critiques + critiqued\n",
    "table_path = '../tables/critiquing/multi_step_critiquing/yelp/ranksvm/lamb100_100_new_prediction_method_25user.csv'\n",
    "df = load_dataframe_csv(table_path,\"\")       \n",
    "print ('avg_length: ',get_average_length(df,20))\n",
    "print ('suc_rate: ',get_success_rate(df,20))"
   ]
  },
  {
   "cell_type": "code",
   "execution_count": 8,
   "metadata": {},
   "outputs": [
    {
     "name": "stdout",
     "output_type": "stream",
     "text": [
      "avg_length:  (16.354464176174705, 1.0155681616698524)\n",
      "suc_rate:  (0.2563361133262449, 0.06405152246491823)\n"
     ]
    }
   ],
   "source": [
    "# use user-keyphrase frequency as critique vector averaging\n",
    "# new prediction = initial/num_critiques + critiqued\n",
    "table_path = '../tables/critiquing/multi_step_critiquing/yelp/ranksvm/lamb100_100_new_prediction_method_notheta0_25user.csv'\n",
    "df = load_dataframe_csv(table_path,\"\")       \n",
    "print ('avg_length: ',get_average_length(df,20))\n",
    "print ('suc_rate: ',get_success_rate(df,20))"
   ]
  },
  {
   "cell_type": "code",
   "execution_count": 9,
   "metadata": {},
   "outputs": [
    {
     "name": "stdout",
     "output_type": "stream",
     "text": [
      "avg_length:  (16.103395629711418, 1.0698415037433144)\n",
      "suc_rate:  (0.28175172780435936, 0.07399945541270281)\n"
     ]
    }
   ],
   "source": [
    "## use user-keyphrase frequency as critique vector averaging\n",
    "# no intial prediction\n",
    "table_path = '../tables/critiquing/multi_step_critiquing/yelp/ranksvm/lamb100_100_new_prediction_method_noinitial_25user.csv'\n",
    "df = load_dataframe_csv(table_path,\"\")       \n",
    "print ('avg_length: ',get_average_length(df,20))\n",
    "print ('suc_rate: ',get_success_rate(df,20))"
   ]
  },
  {
   "cell_type": "code",
   "execution_count": null,
   "metadata": {},
   "outputs": [],
   "source": []
  },
  {
   "cell_type": "markdown",
   "metadata": {},
   "source": [
    "# Friday Night experiment"
   ]
  },
  {
   "cell_type": "code",
   "execution_count": 10,
   "metadata": {},
   "outputs": [],
   "source": [
    "lambs = [1,10,20,30,40,50,60,70,80,90,100]"
   ]
  },
  {
   "cell_type": "code",
   "execution_count": 12,
   "metadata": {
    "scrolled": true
   },
   "outputs": [
    {
     "name": "stdout",
     "output_type": "stream",
     "text": [
      "lamb1:  1 , lamb2:  1\n",
      "avg_length:  (16.712712865837865, 1.046770275957054)\n",
      "suc_rate:  (0.22839929320192476, 0.06488599196266555)\n",
      "lamb1:  1 , lamb2:  10\n",
      "avg_length:  (16.047486185232895, 1.083286344838874)\n",
      "suc_rate:  (0.24821200363963522, 0.058421253849105174)\n",
      "lamb1:  1 , lamb2:  20\n",
      "avg_length:  (16.23445440402677, 1.0647649780004353)\n",
      "suc_rate:  (0.24395468688231847, 0.05911711472122202)\n",
      "lamb1:  1 , lamb2:  30\n",
      "avg_length:  (16.25907561614798, 1.0600557676089697)\n",
      "suc_rate:  (0.23924088216851377, 0.05804357957890585)\n",
      "lamb1:  1 , lamb2:  40\n",
      "avg_length:  (16.25907561614798, 1.0600557676089697)\n",
      "suc_rate:  (0.23924088216851377, 0.05804357957890585)\n",
      "lamb1:  1 , lamb2:  50\n",
      "avg_length:  (16.25907561614798, 1.0600557676089697)\n",
      "suc_rate:  (0.23924088216851377, 0.05804357957890585)\n",
      "lamb1:  1 , lamb2:  60\n",
      "avg_length:  (16.25907561614798, 1.0600557676089697)\n",
      "suc_rate:  (0.23924088216851377, 0.05804357957890585)\n",
      "lamb1:  1 , lamb2:  70\n",
      "avg_length:  (16.25907561614798, 1.0600557676089697)\n",
      "suc_rate:  (0.23924088216851377, 0.05804357957890585)\n",
      "lamb1:  1 , lamb2:  80\n",
      "avg_length:  (16.25907561614798, 1.0600557676089697)\n",
      "suc_rate:  (0.23924088216851377, 0.05804357957890585)\n",
      "lamb1:  1 , lamb2:  90\n",
      "avg_length:  (16.25907561614798, 1.0600557676089697)\n",
      "suc_rate:  (0.23924088216851377, 0.05804357957890585)\n",
      "lamb1:  1 , lamb2:  100\n",
      "avg_length:  (16.25907561614798, 1.0600557676089697)\n",
      "suc_rate:  (0.23924088216851377, 0.05804357957890585)\n",
      "lamb1:  10 , lamb2:  1\n",
      "avg_length:  (16.872011763212424, 1.0179611874819192)\n",
      "suc_rate:  (0.20911229365176734, 0.06313830999177686)\n",
      "lamb1:  10 , lamb2:  10\n",
      "avg_length:  (16.208540341846263, 1.1172371862682153)\n",
      "suc_rate:  (0.2579439170722065, 0.07294063284149462)\n",
      "lamb1:  10 , lamb2:  20\n",
      "avg_length:  (15.947009079492632, 1.0978977096452132)\n",
      "suc_rate:  (0.28503981702994863, 0.07318865948394675)\n",
      "lamb1:  10 , lamb2:  30\n",
      "avg_length:  (16.08101197961395, 0.9887982987915653)\n",
      "suc_rate:  (0.2587286282187598, 0.05949176171704718)\n",
      "lamb1:  10 , lamb2:  40\n",
      "avg_length:  (15.928986836141439, 1.0560430020682257)\n",
      "suc_rate:  (0.26512388987717933, 0.05800321063764223)\n",
      "lamb1:  10 , lamb2:  50\n",
      "avg_length:  (15.9812933016058, 1.0652364520193005)\n",
      "suc_rate:  (0.2678660551193446, 0.06080281234298882)\n",
      "lamb1:  10 , lamb2:  60\n",
      "avg_length:  (16.024140890177076, 1.0617715332382154)\n",
      "suc_rate:  (0.25646559215638165, 0.06011400593808122)\n",
      "lamb1:  10 , lamb2:  70\n",
      "avg_length:  (15.941776443585653, 1.0521718784204495)\n",
      "suc_rate:  (0.26213688845267796, 0.059708079355299)\n",
      "lamb1:  10 , lamb2:  80\n",
      "avg_length:  (16.066045066045064, 1.0500906170752924)\n",
      "suc_rate:  (0.25040498609577555, 0.058346301618665504)\n",
      "lamb1:  10 , lamb2:  90\n",
      "avg_length:  (16.05626669870091, 1.0850759206465175)\n",
      "suc_rate:  (0.24821200363963522, 0.058421253849105174)\n",
      "lamb1:  10 , lamb2:  100\n",
      "avg_length:  (16.099488133698657, 1.0738833459957902)\n",
      "suc_rate:  (0.2469008148284464, 0.05690500119150624)\n",
      "lamb1:  20 , lamb2:  1\n",
      "avg_length:  (16.738594254794915, 1.0668586698400122)\n",
      "suc_rate:  (0.21866495164192534, 0.06793170087766517)\n",
      "lamb1:  20 , lamb2:  10\n",
      "avg_length:  (16.4316920469881, 1.0539737784658527)\n",
      "suc_rate:  (0.2375152929429245, 0.06594302034174442)\n",
      "lamb1:  20 , lamb2:  20\n",
      "avg_length:  (16.148388554062894, 1.1026001750514107)\n",
      "suc_rate:  (0.2679146176679071, 0.06656000050070478)\n",
      "lamb1:  20 , lamb2:  30\n",
      "avg_length:  (16.062729607137502, 1.087170188532637)\n",
      "suc_rate:  (0.27296069245082405, 0.06732441675469682)\n",
      "lamb1:  20 , lamb2:  40\n",
      "avg_length:  (15.961841466282257, 1.1202133604074136)\n",
      "suc_rate:  (0.29068923888002834, 0.07465311340269552)\n",
      "lamb1:  20 , lamb2:  50\n",
      "avg_length:  (15.851726909786118, 1.1208899474269056)\n",
      "suc_rate:  (0.28706887958532695, 0.07112931724102098)\n",
      "lamb1:  20 , lamb2:  60\n",
      "avg_length:  (15.929050947225287, 1.0144789432302335)\n",
      "suc_rate:  (0.2790613413146308, 0.06592453417984565)\n",
      "lamb1:  20 , lamb2:  70\n",
      "avg_length:  (15.916690990539673, 1.0690490978833216)\n",
      "suc_rate:  (0.2720327217860113, 0.06299554151455493)\n",
      "lamb1:  20 , lamb2:  80\n",
      "avg_length:  (15.969963083943346, 1.0503394502934131)\n",
      "suc_rate:  (0.26740309215638164, 0.060225720792140836)\n",
      "lamb1:  20 , lamb2:  90\n",
      "avg_length:  (15.958611140930222, 1.0473748512547718)\n",
      "suc_rate:  (0.26296690334519285, 0.057138651112981234)\n",
      "lamb1:  20 , lamb2:  100\n",
      "avg_length:  (15.999938082750583, 1.0646554674249642)\n",
      "suc_rate:  (0.26180544905873854, 0.06035799269053111)\n",
      "lamb1:  30 , lamb2:  1\n",
      "avg_length:  (16.702740652987362, 1.0720424491850091)\n",
      "suc_rate:  (0.2329342258618574, 0.06832195887563133)\n",
      "lamb1:  30 , lamb2:  10\n",
      "avg_length:  (16.404442855511935, 1.0337118682065427)\n",
      "suc_rate:  (0.25255588100982834, 0.06354514591476085)\n",
      "lamb1:  30 , lamb2:  20\n",
      "avg_length:  (16.35463932083998, 1.081661635075309)\n",
      "suc_rate:  (0.2652121544391281, 0.07124380294695049)\n",
      "lamb1:  30 , lamb2:  30\n",
      "avg_length:  (16.1779104089137, 1.0870678036902661)\n",
      "suc_rate:  (0.27110357965621124, 0.06791555908704472)\n",
      "lamb1:  30 , lamb2:  40\n",
      "avg_length:  (16.174281402077455, 1.0562401314223773)\n",
      "suc_rate:  (0.26100135549148706, 0.06676256646061769)\n",
      "lamb1:  30 , lamb2:  50\n",
      "avg_length:  (16.075217445200998, 1.0671300081363841)\n",
      "suc_rate:  (0.2702606147507463, 0.06966986296908441)\n",
      "lamb1:  30 , lamb2:  60\n",
      "avg_length:  (15.93832948240843, 1.1353689946519585)\n",
      "suc_rate:  (0.2973803273967748, 0.0744214795957873)\n",
      "lamb1:  30 , lamb2:  70\n",
      "avg_length:  (15.86139424354885, 1.1180407147300564)\n",
      "suc_rate:  (0.2840341462874358, 0.07030674499094582)\n",
      "lamb1:  30 , lamb2:  80\n",
      "avg_length:  (15.924163531400373, 1.0987063321289858)\n",
      "suc_rate:  (0.27561663786992735, 0.06512181344067379)\n",
      "lamb1:  30 , lamb2:  90\n",
      "avg_length:  (15.918444503230688, 1.01490494001602)\n",
      "suc_rate:  (0.2790613413146308, 0.06592453417984565)\n",
      "lamb1:  30 , lamb2:  100\n",
      "avg_length:  (15.947386482912798, 1.0467091367411747)\n",
      "suc_rate:  (0.2745211477119372, 0.06412517711099419)\n",
      "lamb1:  40 , lamb2:  1\n",
      "avg_length:  (16.82153193115364, 1.0508901864461535)\n",
      "suc_rate:  (0.2245810628211944, 0.06893100845563782)\n",
      "lamb1:  40 , lamb2:  10\n",
      "avg_length:  (16.59407387811993, 1.040143741730851)\n",
      "suc_rate:  (0.22165881146144306, 0.06392510347071911)\n",
      "lamb1:  40 , lamb2:  20\n",
      "avg_length:  (16.35208182107853, 1.0832055975773007)\n",
      "suc_rate:  (0.2558310628211944, 0.07299224920586218)\n",
      "lamb1:  40 , lamb2:  30\n",
      "avg_length:  (16.215296542516935, 1.101054037145879)\n",
      "suc_rate:  (0.2626957624490519, 0.06624486346021831)\n",
      "lamb1:  40 , lamb2:  40\n",
      "avg_length:  (16.04644228213307, 1.0784467093888817)\n",
      "suc_rate:  (0.2833142278043594, 0.07385397687611098)\n",
      "lamb1:  40 , lamb2:  50\n",
      "avg_length:  (16.02451103051432, 1.0770231231889942)\n",
      "suc_rate:  (0.26681065036328194, 0.0676468319952538)\n",
      "lamb1:  40 , lamb2:  60\n",
      "avg_length:  (16.054648884254146, 1.0778649524539856)\n",
      "suc_rate:  (0.2696758194291089, 0.06323491141997989)\n",
      "lamb1:  40 , lamb2:  70\n",
      "avg_length:  (16.080078577611474, 1.079855680203552)\n",
      "suc_rate:  (0.27376478601807547, 0.07256005893174097)\n",
      "lamb1:  40 , lamb2:  80\n",
      "avg_length:  (15.962992782071728, 1.1280584270003065)\n",
      "suc_rate:  (0.2954863880028354, 0.07606461930352262)\n",
      "lamb1:  40 , lamb2:  90\n",
      "avg_length:  (15.925079169733776, 1.1117059894567873)\n",
      "suc_rate:  (0.28391435866764814, 0.07149621732719343)\n",
      "lamb1:  40 , lamb2:  100\n",
      "avg_length:  (15.829446817193528, 1.1061672606574473)\n",
      "suc_rate:  (0.2824392499556973, 0.06764382008507751)\n",
      "lamb1:  50 , lamb2:  1\n",
      "avg_length:  (16.85777577989749, 1.049192548063587)\n",
      "suc_rate:  (0.21476819050832208, 0.0671559301818239)\n",
      "lamb1:  50 , lamb2:  10\n",
      "avg_length:  (16.502353111070217, 1.0680459360312933)\n",
      "suc_rate:  (0.2352110000136316, 0.06604058175790861)\n",
      "lamb1:  50 , lamb2:  20\n",
      "avg_length:  (16.361775012268435, 1.0660794624798735)\n",
      "suc_rate:  (0.2523337073501547, 0.06404075574371806)\n",
      "lamb1:  50 , lamb2:  30\n",
      "avg_length:  (16.34266113394403, 1.0721037254876777)\n",
      "suc_rate:  (0.25026903225916386, 0.06683098558176198)\n",
      "lamb1:  50 , lamb2:  40\n",
      "avg_length:  (16.270814845485898, 1.1116416962268814)\n",
      "suc_rate:  (0.2571778641679957, 0.06736720563204035)\n",
      "lamb1:  50 , lamb2:  50\n",
      "avg_length:  (16.063540346106134, 1.071785863837117)\n",
      "suc_rate:  (0.2807100611376927, 0.07456041412765622)\n",
      "lamb1:  50 , lamb2:  60\n",
      "avg_length:  (16.105829870056844, 1.0922732502226802)\n",
      "suc_rate:  (0.2691351563884459, 0.0699638455557149)\n",
      "lamb1:  50 , lamb2:  70\n",
      "avg_length:  (16.040710942931337, 1.0939589757318726)\n",
      "suc_rate:  (0.2720768540669856, 0.07140015158863908)\n",
      "lamb1:  50 , lamb2:  80\n",
      "avg_length:  (16.089354791164002, 1.0599066231918939)\n",
      "suc_rate:  (0.2611749666025982, 0.06109665667722668)\n",
      "lamb1:  50 , lamb2:  90\n",
      "avg_length:  (16.118916518423095, 1.0447076958452388)\n",
      "suc_rate:  (0.26791987861066807, 0.06654799237275025)\n"
     ]
    },
    {
     "name": "stdout",
     "output_type": "stream",
     "text": [
      "lamb1:  50 , lamb2:  100\n",
      "avg_length:  (15.967622411701358, 1.1245356227016365)\n",
      "suc_rate:  (0.28496007221336167, 0.0681209389286149)\n",
      "lamb1:  60 , lamb2:  1\n",
      "avg_length:  (16.870893291041316, 1.0613835836532335)\n",
      "suc_rate:  (0.19480574554587715, 0.061360609328757615)\n",
      "lamb1:  60 , lamb2:  10\n",
      "avg_length:  (16.50649656143077, 1.0592550832709988)\n",
      "suc_rate:  (0.2431865892392208, 0.06234039936657734)\n",
      "lamb1:  60 , lamb2:  20\n",
      "avg_length:  (16.335056558329587, 1.0432518672120565)\n",
      "suc_rate:  (0.2676447121348437, 0.0679322890377424)\n",
      "lamb1:  60 , lamb2:  30\n",
      "avg_length:  (16.395333330777408, 1.0646612111830154)\n",
      "suc_rate:  (0.2401615471516787, 0.06441648060375664)\n",
      "lamb1:  60 , lamb2:  40\n",
      "avg_length:  (16.298600163238323, 1.1058264081258768)\n",
      "suc_rate:  (0.25922924845622214, 0.07617352423587406)\n",
      "lamb1:  60 , lamb2:  50\n",
      "avg_length:  (16.330104861025912, 1.0868039137687022)\n",
      "suc_rate:  (0.2479186049087365, 0.06973970492843105)\n",
      "lamb1:  60 , lamb2:  60\n",
      "avg_length:  (16.10361416117995, 1.0699718958735802)\n",
      "suc_rate:  (0.27654339447102605, 0.07391922172305518)\n",
      "lamb1:  60 , lamb2:  70\n",
      "avg_length:  (16.136457417460708, 1.0931908280640283)\n",
      "suc_rate:  (0.26610042309055465, 0.06806943173805913)\n",
      "lamb1:  60 , lamb2:  80\n",
      "avg_length:  (16.227094834989572, 1.0644068513248024)\n",
      "suc_rate:  (0.27700552675881623, 0.06669462617797683)\n",
      "lamb1:  60 , lamb2:  90\n",
      "avg_length:  (16.054648884254146, 1.0778649524539856)\n",
      "suc_rate:  (0.27346369821698774, 0.06368027190289188)\n",
      "lamb1:  60 , lamb2:  100\n",
      "avg_length:  (16.05367313911722, 1.0916231067816333)\n",
      "suc_rate:  (0.2631943379476274, 0.06562103839061036)\n",
      "lamb1:  70 , lamb2:  1\n",
      "avg_length:  (16.876460092660754, 1.0631846177650766)\n",
      "suc_rate:  (0.19960577008274374, 0.06444149009267869)\n",
      "lamb1:  70 , lamb2:  10\n",
      "avg_length:  (16.46120031284505, 1.0543375252274187)\n",
      "suc_rate:  (0.22893469529982688, 0.06598217213477467)\n",
      "lamb1:  70 , lamb2:  20\n",
      "avg_length:  (16.33929334250058, 1.038939206616291)\n",
      "suc_rate:  (0.24088229630992788, 0.06658929428510353)\n",
      "lamb1:  70 , lamb2:  30\n",
      "avg_length:  (16.431852303398355, 1.0603405834321908)\n",
      "suc_rate:  (0.25040498609577555, 0.0668315920390147)\n",
      "lamb1:  70 , lamb2:  40\n",
      "avg_length:  (16.471811208406603, 1.0757333591905969)\n",
      "suc_rate:  (0.2466231989258305, 0.07271045448988149)\n",
      "lamb1:  70 , lamb2:  50\n",
      "avg_length:  (16.204232353903404, 1.0925087715005002)\n",
      "suc_rate:  (0.2597083776360092, 0.06822999625027598)\n",
      "lamb1:  70 , lamb2:  60\n",
      "avg_length:  (16.303898827171853, 1.104193173058159)\n",
      "suc_rate:  (0.25730938773701933, 0.07105839252403974)\n",
      "lamb1:  70 , lamb2:  70\n",
      "avg_length:  (16.097448336264126, 1.0698728941780067)\n",
      "suc_rate:  (0.27914756113769273, 0.07323031854807958)\n",
      "lamb1:  70 , lamb2:  80\n",
      "avg_length:  (16.05706007868837, 1.1288083964312843)\n",
      "suc_rate:  (0.27191376484139645, 0.07200385526035902)\n",
      "lamb1:  70 , lamb2:  90\n",
      "avg_length:  (16.1251221092504, 1.054086023589922)\n",
      "suc_rate:  (0.2773790536948431, 0.06787445606279123)\n",
      "lamb1:  70 , lamb2:  100\n",
      "avg_length:  (16.09326416152074, 1.075830408203685)\n",
      "suc_rate:  (0.26273784999113947, 0.06618396296998161)\n",
      "lamb1:  80 , lamb2:  1\n",
      "avg_length:  (16.969606298306957, 0.9867224867797496)\n",
      "suc_rate:  (0.1894561974331711, 0.0575684166996697)\n",
      "lamb1:  80 , lamb2:  10\n",
      "avg_length:  (16.4641051626249, 1.062091227644009)\n",
      "suc_rate:  (0.22636614116877274, 0.0658138905338232)\n",
      "lamb1:  80 , lamb2:  20\n",
      "avg_length:  (16.503698953945662, 1.0562120335712342)\n",
      "suc_rate:  (0.22555595598358757, 0.06438378278368054)\n",
      "lamb1:  80 , lamb2:  30\n",
      "avg_length:  (16.469428384724438, 1.0533930076123945)\n",
      "suc_rate:  (0.2347019026295342, 0.06499110356051249)\n",
      "lamb1:  80 , lamb2:  40\n",
      "avg_length:  (16.38449093243501, 1.0688157894280514)\n",
      "suc_rate:  (0.2401615471516787, 0.06441648060375664)\n",
      "lamb1:  80 , lamb2:  50\n",
      "avg_length:  (16.31334051547867, 1.0753934929465614)\n",
      "suc_rate:  (0.2715200248094985, 0.0645708113801023)\n",
      "lamb1:  80 , lamb2:  60\n",
      "avg_length:  (16.215851625226623, 1.0909621298190164)\n",
      "suc_rate:  (0.2525838470739787, 0.0652619776610671)\n",
      "lamb1:  80 , lamb2:  70\n",
      "avg_length:  (16.19799336567429, 1.094151459118997)\n",
      "suc_rate:  (0.26214862440191383, 0.06677860538051558)\n",
      "lamb1:  80 , lamb2:  80\n",
      "avg_length:  (16.097448336264126, 1.0698728941780067)\n",
      "suc_rate:  (0.27914756113769273, 0.07323031854807958)\n",
      "lamb1:  80 , lamb2:  90\n",
      "avg_length:  (16.09197655110484, 1.1315664884528576)\n",
      "suc_rate:  (0.27464945507708666, 0.07494457112702678)\n",
      "lamb1:  80 , lamb2:  100\n",
      "avg_length:  (15.998848151726442, 1.0733914616293585)\n",
      "suc_rate:  (0.2749388069289385, 0.06610765096693799)\n",
      "lamb1:  90 , lamb2:  1\n",
      "avg_length:  (16.966828520529177, 0.9864828297158676)\n",
      "suc_rate:  (0.1894561974331711, 0.0575684166996697)\n",
      "lamb1:  90 , lamb2:  10\n",
      "avg_length:  (16.61869270471244, 0.9718499198368723)\n",
      "suc_rate:  (0.22346857577120735, 0.05905527090509779)\n",
      "lamb1:  90 , lamb2:  20\n",
      "avg_length:  (16.56581586359547, 1.0793476805972333)\n",
      "suc_rate:  (0.21909673233686391, 0.06830577783138891)\n",
      "lamb1:  90 , lamb2:  30\n",
      "avg_length:  (16.292850762176418, 1.051374695401568)\n",
      "suc_rate:  (0.25927133599830965, 0.06669415809617796)\n",
      "lamb1:  90 , lamb2:  40\n",
      "avg_length:  (16.41500278169686, 1.065153131326313)\n",
      "suc_rate:  (0.24736294711623655, 0.06412496818688065)\n",
      "lamb1:  90 , lamb2:  50\n",
      "avg_length:  (16.406142864202074, 1.0556455678390293)\n",
      "suc_rate:  (0.25557732350495505, 0.06497158836005897)\n",
      "lamb1:  90 , lamb2:  60\n",
      "avg_length:  (16.288647396706608, 1.107600144473976)\n",
      "suc_rate:  (0.2700610823143718, 0.07715534961066448)\n",
      "lamb1:  90 , lamb2:  70\n",
      "avg_length:  (16.20819987152224, 1.110931353733616)\n",
      "suc_rate:  (0.25911389110402266, 0.06825530702816396)\n",
      "lamb1:  90 , lamb2:  80\n",
      "avg_length:  (16.223174133371504, 1.0971467635127523)\n",
      "suc_rate:  (0.2544356989258305, 0.0687751453454009)\n",
      "lamb1:  90 , lamb2:  90\n",
      "avg_length:  (16.10385859267438, 1.0662290254478979)\n",
      "suc_rate:  (0.27712209817472977, 0.07059989717991759)\n",
      "lamb1:  90 , lamb2:  100\n",
      "avg_length:  (16.087373226189015, 1.110257136451423)\n",
      "suc_rate:  (0.2707300527201843, 0.07054558120205424)\n",
      "lamb1:  100 , lamb2:  1\n",
      "avg_length:  (16.983495187195846, 0.9883511196279773)\n",
      "suc_rate:  (0.19266132563829932, 0.05960024412313886)\n",
      "lamb1:  100 , lamb2:  10\n",
      "avg_length:  (16.646863029757764, 0.9492493417342653)\n",
      "suc_rate:  (0.22733010775773932, 0.056124442405837006)\n",
      "lamb1:  100 , lamb2:  20\n",
      "avg_length:  (16.48148942614403, 1.0794438727367972)\n",
      "suc_rate:  (0.23920405556918714, 0.06930536308877111)\n",
      "lamb1:  100 , lamb2:  30\n",
      "avg_length:  (16.349737527944765, 1.0413156425212744)\n",
      "suc_rate:  (0.2607479995637891, 0.06846552282326919)\n",
      "lamb1:  100 , lamb2:  40\n",
      "avg_length:  (16.40241939468913, 1.10187713727555)\n",
      "suc_rate:  (0.2466171073078968, 0.06824143520608754)\n",
      "lamb1:  100 , lamb2:  50\n",
      "avg_length:  (16.37030743075151, 1.0717562944990937)\n",
      "suc_rate:  (0.23599488048501205, 0.0621836220999787)\n",
      "lamb1:  100 , lamb2:  60\n",
      "avg_length:  (16.33879187028858, 1.0775391491632305)\n",
      "suc_rate:  (0.2581394026295342, 0.06481155359634236)\n",
      "lamb1:  100 , lamb2:  70\n",
      "avg_length:  (16.224968562139612, 1.0715682262439667)\n",
      "suc_rate:  (0.25872215321228476, 0.06467598699707387)\n",
      "lamb1:  100 , lamb2:  80\n",
      "avg_length:  (16.206382865428917, 1.055713766628312)\n",
      "suc_rate:  (0.27001899477228425, 0.061077862998622445)\n",
      "lamb1:  100 , lamb2:  90\n",
      "avg_length:  (16.166556974945134, 1.1402743478337005)\n",
      "suc_rate:  (0.25363160535857904, 0.06973434311762004)\n",
      "lamb1:  100 , lamb2:  100\n",
      "avg_length:  (16.103395629711418, 1.0698415037433144)\n",
      "suc_rate:  (0.28175172780435936, 0.07399945541270281)\n"
     ]
    }
   ],
   "source": [
    "table_path = '../tables/critiquing/tuning/'\n",
    "for lamb1 in lambs:\n",
    "    for lamb2 in lambs:\n",
    "        \n",
    "        name = 'lamb1_'+ str(lamb1)+'_lamb2_' + str(lamb2) + '_test.csv'\n",
    "        df = load_dataframe_csv(table_path,name)\n",
    "    \n",
    "        print ('lamb1: ',lamb1, \", lamb2: \",lamb2)\n",
    "        print ('avg_length: ',get_average_length(df,20))\n",
    "        print ('suc_rate: ',get_success_rate(df,20))"
   ]
  },
  {
   "cell_type": "code",
   "execution_count": 14,
   "metadata": {},
   "outputs": [
    {
     "name": "stdout",
     "output_type": "stream",
     "text": [
      "lamb1:  30 , lamb2:  60\n",
      "avg_length:  (15.93832948240843, 1.1353689946519585)\n",
      "suc_rate:  (0.2973803273967748, 0.0744214795957873)\n"
     ]
    }
   ],
   "source": [
    "highest = 0\n",
    "for lamb1 in lambs:\n",
    "    for lamb2 in lambs:\n",
    "        \n",
    "        name = 'lamb1_'+ str(lamb1)+'_lamb2_' + str(lamb2) + '_test.csv'\n",
    "        df = load_dataframe_csv(table_path,name)\n",
    "        \n",
    "        sr = get_success_rate(df,20)[0]\n",
    "        if sr > highest:\n",
    "            index = (lamb1,lamb2)\n",
    "            highest = sr\n",
    "name = 'lamb1_'+ str(index[0])+'_lamb2_' + str(index[1]) + '_test.csv'\n",
    "df = load_dataframe_csv(table_path,name)\n",
    "print ('lamb1: ',index[0], \", lamb2: \",index[1])\n",
    "print ('avg_length: ',get_average_length(df,20))\n",
    "print ('suc_rate: ',get_success_rate(df,20))"
   ]
  }
 ],
 "metadata": {
  "kernelspec": {
   "display_name": "Python 3",
   "language": "python",
   "name": "python3"
  },
  "language_info": {
   "codemirror_mode": {
    "name": "ipython",
    "version": 3
   },
   "file_extension": ".py",
   "mimetype": "text/x-python",
   "name": "python",
   "nbconvert_exporter": "python",
   "pygments_lexer": "ipython3",
   "version": "3.6.10"
  }
 },
 "nbformat": 4,
 "nbformat_minor": 2
}
