{
 "cells": [
  {
   "cell_type": "code",
   "execution_count": 5,
   "metadata": {
    "scrolled": true
   },
   "outputs": [
    {
     "data": {
      "text/plain": [
       "{'figure.facecolor': 'white',\n",
       " 'axes.labelcolor': '.15',\n",
       " 'xtick.direction': 'out',\n",
       " 'ytick.direction': 'out',\n",
       " 'xtick.color': '.15',\n",
       " 'ytick.color': '.15',\n",
       " 'axes.axisbelow': True,\n",
       " 'grid.linestyle': '-',\n",
       " 'text.color': '.15',\n",
       " 'font.family': ['sans-serif'],\n",
       " 'font.sans-serif': ['Arial',\n",
       "  'DejaVu Sans',\n",
       "  'Liberation Sans',\n",
       "  'Bitstream Vera Sans',\n",
       "  'sans-serif'],\n",
       " 'lines.solid_capstyle': 'round',\n",
       " 'patch.edgecolor': 'w',\n",
       " 'patch.force_edgecolor': True,\n",
       " 'image.cmap': 'rocket',\n",
       " 'xtick.top': False,\n",
       " 'ytick.right': False,\n",
       " 'axes.grid': False,\n",
       " 'axes.facecolor': 'white',\n",
       " 'axes.edgecolor': '.15',\n",
       " 'grid.color': '.8',\n",
       " 'axes.spines.left': True,\n",
       " 'axes.spines.bottom': True,\n",
       " 'axes.spines.right': True,\n",
       " 'axes.spines.top': True,\n",
       " 'xtick.bottom': False,\n",
       " 'ytick.left': False}"
      ]
     },
     "execution_count": 5,
     "metadata": {},
     "output_type": "execute_result"
    }
   ],
   "source": [
    "import matplotlib.pyplot as plt\n",
    "import seaborn as sns\n",
    "import pandas as pd\n",
    "import numpy as np\n",
    "sns.axes_style(\"white\")"
   ]
  },
  {
   "cell_type": "code",
   "execution_count": 2,
   "metadata": {},
   "outputs": [],
   "source": [
    "def show_lineplot(df, hue='model', x='iteration', y='item_rank', xlabel='Iteration', ylabel='Item Rank', name=\"item_rank_iteration\", save=True):\n",
    "    fig, ax = plt.subplots(figsize=(6, 3))\n",
    "#     df = df.sort_values(by=['model'])\n",
    "    #plt.axhline(y=0.165, color='r', linestyle='-')\n",
    "    ax = sns.lineplot(x=x, y=y, hue=hue, style=hue, data=df, ci=68)\n",
    "    ax.set_xlabel(xlabel)\n",
    "    ax.set_ylabel(ylabel)\n",
    "    handles, labels = ax.get_legend_handles_labels()\n",
    "    ax.legend(handles=handles[1:], labels=labels[1:])\n",
    "    plt.tight_layout()\n",
    "    if save:\n",
    "        fig_path = load_yaml('config/global.yml', key='path')['figs']\n",
    "        fig.savefig('{0}/{1}.pdf'.format(fig_path, name),\n",
    "                    bbox_inches=\"tight\", pad_inches=0, format='pdf')\n",
    "    else:\n",
    "        plt.show()\n",
    "\n",
    "def show_barplot(df, hue='Model', x='target_rank', y='Popularity', xlabel='Target Rank', ylabel='Popularity', name=\"item_pop\", save=True):\n",
    "    fig, ax = plt.subplots(figsize=(6, 3))\n",
    "    df = df.sort_values(by=['Model'])\n",
    "    #plt.axhline(y=0.165, color='r', linestyle='-')\n",
    "#    ax = sns.barplot(y=x, x=y, hue=hue, data=df, orient='h', ci=68)\n",
    "#    ax = sns.barplot(x=x, y=y, hue=hue, data=df, ci=68)\n",
    "#    ax = sns.boxplot(x=x, y=y, hue=hue, data=df)\n",
    "    ax = sns.violinplot(x=x, y=y, hue=hue, data=df)\n",
    "\n",
    "    ax.set_xlabel(xlabel)\n",
    "    ax.set_ylabel(ylabel)\n",
    "    handles, labels = ax.get_legend_handles_labels()\n",
    "    ax.legend(handles=handles[:], labels=labels[0:])\n",
    "#    ax.legend(handles=handles[1:], labels=labels[1:])\n",
    "    plt.tight_layout()\n",
    "    if save:\n",
    "        fig_path = load_yaml('config/global.yml', key='path')['figs']\n",
    "        fig.savefig('{0}/{1}.pdf'.format(fig_path, name),\n",
    "                    bbox_inches=\"tight\", pad_inches=0, format='pdf')\n",
    "    else:\n",
    "        plt.show()\n"
   ]
  },
  {
   "cell_type": "code",
   "execution_count": 3,
   "metadata": {},
   "outputs": [],
   "source": [
    "def save_dataframe_csv(df, path, name):\n",
    "    df.to_csv(path+name, index=False)\n",
    "\n",
    "\n",
    "def load_dataframe_csv(path, name, index_col=None):\n",
    "    return pd.read_csv(path+name, index_col=index_col)"
   ]
  },
  {
   "cell_type": "code",
   "execution_count": 58,
   "metadata": {},
   "outputs": [],
   "source": [
    "table_path = '../tables/critiquing/multi_step_critiquing/yelp/ranksvm/'\n",
    "name = '25user_critique_lambda1to1.csv'\n",
    "df = load_dataframe_csv(table_path, name)"
   ]
  },
  {
   "cell_type": "code",
   "execution_count": 5,
   "metadata": {},
   "outputs": [],
   "source": [
    "def avg_successful_rate(df):\n",
    "    num_runs = len(np.where(df['iteration'] == 0)[0])\n",
    "    num_success = len(np.where(df['result'] == 'successful')[0])\n",
    "    \n",
    "    return num_success/num_runs"
   ]
  },
  {
   "cell_type": "code",
   "execution_count": 7,
   "metadata": {},
   "outputs": [],
   "source": [
    "def avg_length(df,include_fail = True):\n",
    "    num_runs = len(np.where(df['iteration'] == 0)[0])\n",
    "    return len(df)/num_runs"
   ]
  },
  {
   "cell_type": "code",
   "execution_count": 10,
   "metadata": {
    "scrolled": true
   },
   "outputs": [
    {
     "data": {
      "text/plain": [
       "17.711111111111112"
      ]
     },
     "execution_count": 10,
     "metadata": {},
     "output_type": "execute_result"
    }
   ],
   "source": [
    "avg_length(df)"
   ]
  },
  {
   "cell_type": "code",
   "execution_count": 44,
   "metadata": {},
   "outputs": [
    {
     "data": {
      "text/plain": [
       "0.6325301204819277"
      ]
     },
     "execution_count": 44,
     "metadata": {},
     "output_type": "execute_result"
    }
   ],
   "source": [
    "avg_successful_rate(df)"
   ]
  },
  {
   "cell_type": "code",
   "execution_count": 59,
   "metadata": {},
   "outputs": [],
   "source": [
    "df_5 =  df[df['target_rank'] == 5]\n",
    "df_10 = df[df['target_rank'] == 10]\n",
    "df_20 = df[df['target_rank'] == 20]\n",
    "df_50 = df[df['target_rank'] == 50]"
   ]
  },
  {
   "cell_type": "markdown",
   "metadata": {},
   "source": [
    "# AVG"
   ]
  },
  {
   "cell_type": "code",
   "execution_count": 13,
   "metadata": {},
   "outputs": [
    {
     "name": "stdout",
     "output_type": "stream",
     "text": [
      "18.622222222222224\n",
      "0.15555555555555556\n"
     ]
    }
   ],
   "source": [
    "print (avg_length(df_20))\n",
    "print (avg_successful_rate(df_20))"
   ]
  },
  {
   "cell_type": "code",
   "execution_count": 14,
   "metadata": {},
   "outputs": [
    {
     "name": "stdout",
     "output_type": "stream",
     "text": [
      "16.8\n",
      "0.28888888888888886\n"
     ]
    }
   ],
   "source": [
    "print (avg_length(df_50))\n",
    "print (avg_successful_rate(df_50))"
   ]
  },
  {
   "cell_type": "markdown",
   "metadata": {},
   "source": [
    "# RankSVM"
   ]
  },
  {
   "cell_type": "markdown",
   "metadata": {},
   "source": [
    "## test with wrong obj"
   ]
  },
  {
   "cell_type": "code",
   "execution_count": 30,
   "metadata": {},
   "outputs": [
    {
     "name": "stdout",
     "output_type": "stream",
     "text": [
      "18.91111111111111\n",
      "0.13333333333333333\n"
     ]
    }
   ],
   "source": [
    "print (avg_length(df_20))\n",
    "print (avg_successful_rate(df_20))"
   ]
  },
  {
   "cell_type": "code",
   "execution_count": 29,
   "metadata": {},
   "outputs": [
    {
     "name": "stdout",
     "output_type": "stream",
     "text": [
      "17.066666666666666\n",
      "0.26666666666666666\n"
     ]
    }
   ],
   "source": [
    "print (avg_length(df_50))\n",
    "print (avg_successful_rate(df_50))"
   ]
  },
  {
   "cell_type": "markdown",
   "metadata": {},
   "source": [
    "## 1 with 0-1 lamb and 2*uk"
   ]
  },
  {
   "cell_type": "code",
   "execution_count": 34,
   "metadata": {},
   "outputs": [
    {
     "name": "stdout",
     "output_type": "stream",
     "text": [
      "18.866666666666667\n",
      "0.13333333333333333\n"
     ]
    }
   ],
   "source": [
    "print (avg_length(df_20))\n",
    "print (avg_successful_rate(df_20))"
   ]
  },
  {
   "cell_type": "code",
   "execution_count": 33,
   "metadata": {},
   "outputs": [
    {
     "name": "stdout",
     "output_type": "stream",
     "text": [
      "16.977777777777778\n",
      "0.28888888888888886\n"
     ]
    }
   ],
   "source": [
    "print (avg_length(df_50))\n",
    "print (avg_successful_rate(df_50))"
   ]
  },
  {
   "cell_type": "markdown",
   "metadata": {},
   "source": [
    "# 1 user with absolute objective"
   ]
  },
  {
   "cell_type": "code",
   "execution_count": 41,
   "metadata": {},
   "outputs": [
    {
     "name": "stdout",
     "output_type": "stream",
     "text": [
      "18.333333333333332\n",
      "0.17777777777777778\n"
     ]
    }
   ],
   "source": [
    "print (avg_length(df_20))\n",
    "print (avg_successful_rate(df_20))"
   ]
  },
  {
   "cell_type": "code",
   "execution_count": 42,
   "metadata": {},
   "outputs": [
    {
     "name": "stdout",
     "output_type": "stream",
     "text": [
      "16.711111111111112\n",
      "0.3111111111111111\n"
     ]
    }
   ],
   "source": [
    "print (avg_length(df_50))\n",
    "print (avg_successful_rate(df_50))"
   ]
  },
  {
   "cell_type": "markdown",
   "metadata": {},
   "source": [
    "## 25 user with absolute objective"
   ]
  },
  {
   "cell_type": "code",
   "execution_count": 45,
   "metadata": {},
   "outputs": [
    {
     "name": "stdout",
     "output_type": "stream",
     "text": [
      "17.470175438596492\n",
      "0.22807017543859648\n"
     ]
    }
   ],
   "source": [
    "print (avg_length(df_20))\n",
    "print (avg_successful_rate(df_20))"
   ]
  },
  {
   "cell_type": "code",
   "execution_count": 46,
   "metadata": {},
   "outputs": [
    {
     "name": "stdout",
     "output_type": "stream",
     "text": [
      "15.256140350877192\n",
      "0.3684210526315789\n"
     ]
    }
   ],
   "source": [
    "print (avg_length(df_50))\n",
    "print (avg_successful_rate(df_50))"
   ]
  },
  {
   "cell_type": "markdown",
   "metadata": {},
   "source": [
    "## 25 user avg"
   ]
  },
  {
   "cell_type": "code",
   "execution_count": 50,
   "metadata": {},
   "outputs": [
    {
     "name": "stdout",
     "output_type": "stream",
     "text": [
      "17.09122807017544\n",
      "0.28421052631578947\n"
     ]
    }
   ],
   "source": [
    "print (avg_length(df_20))\n",
    "print (avg_successful_rate(df_20))"
   ]
  },
  {
   "cell_type": "code",
   "execution_count": 51,
   "metadata": {},
   "outputs": [
    {
     "name": "stdout",
     "output_type": "stream",
     "text": [
      "14.901754385964912\n",
      "0.38596491228070173\n"
     ]
    }
   ],
   "source": [
    "print (avg_length(df_50))\n",
    "print (avg_successful_rate(df_50))"
   ]
  },
  {
   "cell_type": "markdown",
   "metadata": {},
   "source": [
    "## 25 user absolute obj lambd -100 to 100"
   ]
  },
  {
   "cell_type": "code",
   "execution_count": 56,
   "metadata": {},
   "outputs": [
    {
     "name": "stdout",
     "output_type": "stream",
     "text": [
      "19.270175438596493\n",
      "0.09824561403508772\n"
     ]
    }
   ],
   "source": [
    "print (avg_length(df_5))\n",
    "print (avg_successful_rate(df_5))"
   ]
  },
  {
   "cell_type": "code",
   "execution_count": 57,
   "metadata": {},
   "outputs": [
    {
     "name": "stdout",
     "output_type": "stream",
     "text": [
      "18.736842105263158\n",
      "0.12631578947368421\n"
     ]
    }
   ],
   "source": [
    "print (avg_length(df_10))\n",
    "print (avg_successful_rate(df_10))"
   ]
  },
  {
   "cell_type": "code",
   "execution_count": 54,
   "metadata": {},
   "outputs": [
    {
     "name": "stdout",
     "output_type": "stream",
     "text": [
      "18.15438596491228\n",
      "0.1649122807017544\n"
     ]
    }
   ],
   "source": [
    "print (avg_length(df_20))\n",
    "print (avg_successful_rate(df_20))"
   ]
  },
  {
   "cell_type": "markdown",
   "metadata": {},
   "source": [
    "### 25 user absolute obj lambda -1 to 1"
   ]
  },
  {
   "cell_type": "code",
   "execution_count": 60,
   "metadata": {},
   "outputs": [
    {
     "name": "stdout",
     "output_type": "stream",
     "text": [
      "19.256140350877192\n",
      "0.10175438596491228\n"
     ]
    }
   ],
   "source": [
    "print (avg_length(df_5))\n",
    "print (avg_successful_rate(df_5))"
   ]
  },
  {
   "cell_type": "code",
   "execution_count": 61,
   "metadata": {},
   "outputs": [
    {
     "name": "stdout",
     "output_type": "stream",
     "text": [
      "18.164912280701753\n",
      "0.16140350877192983\n"
     ]
    }
   ],
   "source": [
    "print (avg_length(df_20))\n",
    "print (avg_successful_rate(df_20))"
   ]
  },
  {
   "cell_type": "markdown",
   "metadata": {},
   "source": [
    "## 50 user"
   ]
  },
  {
   "cell_type": "markdown",
   "metadata": {},
   "source": [
    "### AVG"
   ]
  },
  {
   "cell_type": "code",
   "execution_count": 62,
   "metadata": {},
   "outputs": [
    {
     "name": "stdout",
     "output_type": "stream",
     "text": [
      "17.003012048192772\n",
      "0.2756024096385542\n",
      "15.045180722891565\n",
      "0.39457831325301207\n"
     ]
    }
   ],
   "source": [
    "table_path = '../tables/critiquing/multi_step_critiquing/yelp/avg/'\n",
    "name = 'average_50users.csv'\n",
    "df = load_dataframe_csv(table_path, name)\n",
    "\n",
    "df_20 = df[df['target_rank'] == 20]\n",
    "df_50 = df[df['target_rank'] == 50]\n",
    "\n",
    "print (avg_length(df_20))\n",
    "print (avg_successful_rate(df_20))\n",
    "\n",
    "print (avg_length(df_50))\n",
    "print (avg_successful_rate(df_50))"
   ]
  },
  {
   "cell_type": "code",
   "execution_count": 63,
   "metadata": {
    "scrolled": true
   },
   "outputs": [
    {
     "name": "stdout",
     "output_type": "stream",
     "text": [
      "18.408132530120483\n",
      "0.16566265060240964\n",
      "16.936746987951807\n",
      "0.26656626506024095\n"
     ]
    }
   ],
   "source": [
    "table_path = '../tables/critiquing/multi_step_critiquing/yelp/rating/'\n",
    "name = 'ratingobjective_50users.csv'\n",
    "df = load_dataframe_csv(table_path, name)\n",
    "\n",
    "df_20 = df[df['target_rank'] == 20]\n",
    "df_50 = df[df['target_rank'] == 50]\n",
    "\n",
    "print (avg_length(df_20))\n",
    "print (avg_successful_rate(df_20))\n",
    "\n",
    "print (avg_length(df_50))\n",
    "print (avg_successful_rate(df_50))"
   ]
  },
  {
   "cell_type": "code",
   "execution_count": 64,
   "metadata": {},
   "outputs": [
    {
     "name": "stdout",
     "output_type": "stream",
     "text": [
      "17.593373493975903\n",
      "0.21234939759036145\n",
      "15.521084337349398\n",
      "0.33433734939759036\n"
     ]
    }
   ],
   "source": [
    "table_path = '../tables/critiquing/multi_step_critiquing/yelp/ranksvm/'\n",
    "name = 'ranksvm_50users.csv'\n",
    "df = load_dataframe_csv(table_path, name)\n",
    "\n",
    "df_20 = df[df['target_rank'] == 20]\n",
    "df_50 = df[df['target_rank'] == 50]\n",
    "\n",
    "print (avg_length(df_20))\n",
    "print (avg_successful_rate(df_20))\n",
    "\n",
    "print (avg_length(df_50))\n",
    "print (avg_successful_rate(df_50))"
   ]
  },
  {
   "cell_type": "markdown",
   "metadata": {},
   "source": [
    "# Tuning Lamb1 and Lamb2"
   ]
  },
  {
   "cell_type": "code",
   "execution_count": 2,
   "metadata": {},
   "outputs": [],
   "source": [
    "def save_dataframe_csv(df, path, name):\n",
    "    df.to_csv(path+name, index=False)\n",
    "\n",
    "\n",
    "def load_dataframe_csv(path, name, index_col=None):\n",
    "    return pd.read_csv(path+name, index_col=index_col)\n"
   ]
  },
  {
   "cell_type": "code",
   "execution_count": 5,
   "metadata": {},
   "outputs": [],
   "source": [
    "lamb1 = 1\n",
    "lamb2 = 1\n",
    "\n",
    "table_path = '../tables/critiquing/tuning/'\n",
    "name = 'lamb1_'+ str(lamb1)+'_lamb2_' + str(lamb2) + '_test.csv'\n",
    "# save_dataframe_csv(df, table_path, name)\n",
    "df = load_dataframe_csv(table_path,name)"
   ]
  },
  {
   "cell_type": "code",
   "execution_count": 3,
   "metadata": {},
   "outputs": [],
   "source": [
    "def get_average_length(df, n):\n",
    "    df_s_f = df[(df['result'] == 'successful') | (df['result'] == 'fail')]\n",
    "    iteration = df_s_f[df_s_f['target_rank']==n].groupby('user_id', as_index=False).agg({'iteration':'mean'})['iteration'].to_numpy()\n",
    "    return (np.average(iteration), 1.96*np.std(iteration)/np.sqrt(len(iteration)))\n",
    "\n",
    "def get_success_num(df, n):\n",
    "    return len(df[(df['result'] == 'successful') & (df['target_rank'] == n)])\n",
    "\n",
    "def get_fail_num(df, n):\n",
    "    return len(df[(df['result'] == 'fail') & (df['target_rank'] == n)])\n",
    "\n",
    "def get_success_rate(df, n):\n",
    "    df_s_f = df[(df['result'] == 'successful') | (df['result'] == 'fail')]\n",
    "    df_list_result = df_s_f[df_s_f['target_rank']==n].groupby('user_id', as_index=False)['result'].apply(list).reset_index(name='result')\n",
    "    successful_rate = df_list_result['result'].apply(lambda r: r.count(\"successful\")/len(r)).to_numpy()\n",
    "    return (np.average(successful_rate), 1.96*np.std(successful_rate)/np.sqrt(len(successful_rate)))\n"
   ]
  },
  {
   "cell_type": "code",
   "execution_count": 13,
   "metadata": {},
   "outputs": [],
   "source": [
    "lambs = [0.001,0.01,0.1,1,10,100,1000]"
   ]
  },
  {
   "cell_type": "code",
   "execution_count": 14,
   "metadata": {},
   "outputs": [
    {
     "name": "stdout",
     "output_type": "stream",
     "text": [
      "lamb1:  0.001 , lamb2:  0.001\n",
      "avg_length:  (20.0, 0.0)\n",
      "suc_rate:  (0.0, 0.0)\n",
      "lamb1:  0.001 , lamb2:  0.01\n",
      "avg_length:  (20.0, 0.0)\n",
      "suc_rate:  (0.0, 0.0)\n",
      "lamb1:  0.001 , lamb2:  0.1\n",
      "avg_length:  (20.0, 0.0)\n",
      "suc_rate:  (0.0, 0.0)\n",
      "lamb1:  0.001 , lamb2:  1\n",
      "avg_length:  (16.656986169897355, 1.0124591595305623)\n",
      "suc_rate:  (0.22699545215992586, 0.06463024489350024)\n",
      "lamb1:  0.001 , lamb2:  10\n",
      "avg_length:  (16.648936160696028, 0.987942599960155)\n",
      "suc_rate:  (0.22169563806076964, 0.057033637349996495)\n",
      "lamb1:  0.001 , lamb2:  100\n",
      "avg_length:  (16.648936160696028, 0.987942599960155)\n",
      "suc_rate:  (0.22169563806076964, 0.057033637349996495)\n",
      "lamb1:  0.001 , lamb2:  1000\n",
      "avg_length:  (16.648936160696028, 0.987942599960155)\n",
      "suc_rate:  (0.22169563806076964, 0.057033637349996495)\n",
      "lamb1:  0.01 , lamb2:  0.001\n",
      "avg_length:  (20.0, 0.0)\n",
      "suc_rate:  (0.0, 0.0)\n",
      "lamb1:  0.01 , lamb2:  0.01\n",
      "avg_length:  (20.0, 0.0)\n",
      "suc_rate:  (0.0, 0.0)\n",
      "lamb1:  0.01 , lamb2:  0.1\n",
      "avg_length:  (20.0, 0.0)\n",
      "suc_rate:  (0.0, 0.0)\n",
      "lamb1:  0.01 , lamb2:  1\n",
      "avg_length:  (16.656986169897355, 1.0124591595305623)\n",
      "suc_rate:  (0.22699545215992586, 0.06463024489350024)\n",
      "lamb1:  0.01 , lamb2:  10\n",
      "avg_length:  (16.648936160696028, 0.987942599960155)\n",
      "suc_rate:  (0.22169563806076964, 0.057033637349996495)\n",
      "lamb1:  0.01 , lamb2:  100\n",
      "avg_length:  (16.648936160696028, 0.987942599960155)\n",
      "suc_rate:  (0.22169563806076964, 0.057033637349996495)\n",
      "lamb1:  0.01 , lamb2:  1000\n",
      "avg_length:  (16.648936160696028, 0.987942599960155)\n",
      "suc_rate:  (0.22169563806076964, 0.057033637349996495)\n",
      "lamb1:  0.1 , lamb2:  0.001\n",
      "avg_length:  (18.786873947811447, 0.6704209082460937)\n",
      "suc_rate:  (0.07301134233700024, 0.03860620070258339)\n",
      "lamb1:  0.1 , lamb2:  0.01\n",
      "avg_length:  (18.810311447811447, 0.6755503308203621)\n",
      "suc_rate:  (0.07040717567033357, 0.03904060489044314)\n",
      "lamb1:  0.1 , lamb2:  0.1\n",
      "avg_length:  (18.755487717083113, 0.6714009075570828)\n",
      "suc_rate:  (0.07360942846140216, 0.038194808376814014)\n",
      "lamb1:  0.1 , lamb2:  1\n",
      "avg_length:  (16.656986169897355, 1.0124591595305623)\n",
      "suc_rate:  (0.22699545215992586, 0.06463024489350024)\n",
      "lamb1:  0.1 , lamb2:  10\n",
      "avg_length:  (16.648936160696028, 0.987942599960155)\n",
      "suc_rate:  (0.22169563806076964, 0.057033637349996495)\n",
      "lamb1:  0.1 , lamb2:  100\n",
      "avg_length:  (16.648936160696028, 0.987942599960155)\n",
      "suc_rate:  (0.22169563806076964, 0.057033637349996495)\n",
      "lamb1:  0.1 , lamb2:  1000\n",
      "avg_length:  (16.648936160696028, 0.987942599960155)\n",
      "suc_rate:  (0.22169563806076964, 0.057033637349996495)\n",
      "lamb1:  1 , lamb2:  0.001\n",
      "avg_length:  (16.951056640119138, 0.9179152688530373)\n",
      "suc_rate:  (0.18976054403685982, 0.056643856156748745)\n",
      "lamb1:  1 , lamb2:  0.01\n",
      "avg_length:  (16.93173845830096, 0.9150754330014921)\n",
      "suc_rate:  (0.19253832181463762, 0.056451349972505296)\n",
      "lamb1:  1 , lamb2:  0.1\n",
      "avg_length:  (16.88188697876198, 0.898333638506494)\n",
      "suc_rate:  (0.1985030168418326, 0.05554165611705565)\n",
      "lamb1:  1 , lamb2:  1\n",
      "avg_length:  (16.547333979982007, 1.0393203400526496)\n",
      "suc_rate:  (0.23024266790714157, 0.06871391313852522)\n",
      "lamb1:  1 , lamb2:  10\n",
      "avg_length:  (16.41505162113715, 1.0034353952887425)\n",
      "suc_rate:  (0.23761563424392373, 0.058291970815747635)\n",
      "lamb1:  1 , lamb2:  100\n",
      "avg_length:  (16.648936160696028, 0.987942599960155)\n",
      "suc_rate:  (0.22169563806076964, 0.057033637349996495)\n",
      "lamb1:  1 , lamb2:  1000\n",
      "avg_length:  (16.648936160696028, 0.987942599960155)\n",
      "suc_rate:  (0.22169563806076964, 0.057033637349996495)\n",
      "lamb1:  10 , lamb2:  0.001\n",
      "avg_length:  (16.86103390091877, 0.8976177429305083)\n",
      "suc_rate:  (0.21501019387532547, 0.05659086106227969)\n",
      "lamb1:  10 , lamb2:  0.01\n",
      "avg_length:  (16.87442826118813, 0.8957955627781307)\n",
      "suc_rate:  (0.21038056424569582, 0.055732100381916554)\n",
      "lamb1:  10 , lamb2:  0.1\n",
      "avg_length:  (16.81962295440914, 0.918699530474898)\n",
      "suc_rate:  (0.21096535956733323, 0.05860570341993365)\n",
      "lamb1:  10 , lamb2:  1\n",
      "avg_length:  (16.810937159210184, 0.9524538063255676)\n",
      "suc_rate:  (0.20731547935495306, 0.06147336556009623)\n",
      "lamb1:  10 , lamb2:  10\n",
      "avg_length:  (16.31238338598536, 0.9657729332162018)\n",
      "suc_rate:  (0.25607628239207186, 0.05649780381914166)\n",
      "lamb1:  10 , lamb2:  100\n",
      "avg_length:  (16.391643663354188, 0.9779126187532188)\n",
      "suc_rate:  (0.23794059863138814, 0.05466025979482232)\n",
      "lamb1:  10 , lamb2:  1000\n",
      "avg_length:  (16.648936160696028, 0.987942599960155)\n",
      "suc_rate:  (0.22169563806076964, 0.057033637349996495)\n",
      "lamb1:  100 , lamb2:  0.001\n",
      "avg_length:  (16.78617424242424, 0.9602509646066539)\n",
      "suc_rate:  (0.20271824605706187, 0.059152939874469256)\n",
      "lamb1:  100 , lamb2:  0.01\n",
      "avg_length:  (16.78617424242424, 0.9602509646066539)\n",
      "suc_rate:  (0.20271824605706187, 0.059152939874469256)\n",
      "lamb1:  100 , lamb2:  0.1\n",
      "avg_length:  (16.759322390572393, 0.9606862440518155)\n",
      "suc_rate:  (0.212903431242247, 0.06067203612414748)\n",
      "lamb1:  100 , lamb2:  1\n",
      "avg_length:  (16.813832232582232, 0.9585001536331512)\n",
      "suc_rate:  (0.20175023258904837, 0.05847078294094451)\n",
      "lamb1:  100 , lamb2:  10\n",
      "avg_length:  (16.792813956876458, 0.9744229591085427)\n",
      "suc_rate:  (0.20979421407052987, 0.06372168373163392)\n",
      "lamb1:  100 , lamb2:  100\n",
      "avg_length:  (16.256969023909814, 0.9796208210951667)\n",
      "suc_rate:  (0.25241466623045566, 0.06214995024408813)\n",
      "lamb1:  100 , lamb2:  1000\n",
      "avg_length:  (16.37967631783421, 0.98649938634521)\n",
      "suc_rate:  (0.24114572683651633, 0.0570525242639355)\n",
      "lamb1:  1000 , lamb2:  0.001\n",
      "avg_length:  (16.88270647176897, 0.9137719510368786)\n",
      "suc_rate:  (0.19686686364317943, 0.056821003086351546)\n",
      "lamb1:  1000 , lamb2:  0.01\n",
      "avg_length:  (16.88270647176897, 0.9137719510368786)\n",
      "suc_rate:  (0.19686686364317943, 0.056821003086351546)\n",
      "lamb1:  1000 , lamb2:  0.1\n",
      "avg_length:  (16.88270647176897, 0.9137719510368786)\n",
      "suc_rate:  (0.19686686364317943, 0.056821003086351546)\n",
      "lamb1:  1000 , lamb2:  1\n",
      "avg_length:  (16.812193651256152, 0.9610234296379282)\n",
      "suc_rate:  (0.20007199184830762, 0.05881402077503645)\n",
      "lamb1:  1000 , lamb2:  10\n",
      "avg_length:  (16.781128188940688, 0.9693356873311574)\n",
      "suc_rate:  (0.2045280103668262, 0.05953561559736855)\n",
      "lamb1:  1000 , lamb2:  100\n",
      "avg_length:  (16.712292075614446, 0.9415000199992983)\n",
      "suc_rate:  (0.22577612750310116, 0.05733960495877693)\n",
      "lamb1:  1000 , lamb2:  1000\n",
      "avg_length:  (16.25994548214943, 0.9781301278443776)\n",
      "suc_rate:  (0.25022168377431536, 0.06223165748670525)\n"
     ]
    }
   ],
   "source": [
    "table_path = '../tables/critiquing/tuning/'\n",
    "for lamb1 in lambs:\n",
    "    for lamb2 in lambs:\n",
    "        \n",
    "        name = 'lamb1_'+ str(lamb1)+'_lamb2_' + str(lamb2) + '_test.csv'\n",
    "        df = load_dataframe_csv(table_path,name)\n",
    "    \n",
    "        print ('lamb1: ',lamb1, \", lamb2: \",lamb2)\n",
    "        print ('avg_length: ',get_average_length(df,20))\n",
    "        print ('suc_rate: ',get_success_rate(df,20))\n"
   ]
  },
  {
   "cell_type": "code",
   "execution_count": 48,
   "metadata": {
    "scrolled": true
   },
   "outputs": [],
   "source": [
    "table_path = '../tables/critiquing/tuning_ranksvm3_diff/'\n",
    "lambs = lambs = [0.01,0.1,1,10,30,50,70,90,100]\n",
    "lamb1 = 10\n",
    "\n",
    "sr10 = [1]\n",
    "for lamb2 in lambs:\n",
    "\n",
    "    name = 'lamb1_'+ str(lamb1)+'_lamb2_' + str(lamb2) + '_test.csv'\n",
    "    df = load_dataframe_csv(table_path,name)\n",
    "    \n",
    "    sr10.append(get_success_rate(df,20)[0])\n",
    "sr10.append(sr10[-1])\n",
    "#     print ('lamb1: ',lamb1, \", lamb2: \",lamb2)\n",
    "#     print ('avg_length: ',get_average_length(df,20))\n",
    "#     print ('suc_rate: ',get_success_rate(df,20))"
   ]
  },
  {
   "cell_type": "code",
   "execution_count": 62,
   "metadata": {
    "scrolled": false
   },
   "outputs": [
    {
     "data": {
      "image/png": "[encoded data removed]",
      "text/plain": [
       "<Figure size 720x720 with 1 Axes>"
      ]
     },
     "metadata": {
      "needs_background": "light"
     },
     "output_type": "display_data"
    }
   ],
   "source": [
    "plt.figure(figsize=(10,10))\n",
    "plt.plot(np.arange(11),success_rates1,\"r\",label = \"RankSVM2_lambda1 = 1\")\n",
    "plt.plot(np.arange(11), success_rates10,\"r--\",label = \"RankSVM2_lambda1 = 10\")\n",
    "# plt.plot(np.arange(11), success_rates100,\"r-.\",label = \"RankSVM2_lambda1 = 100\")\n",
    "\n",
    "plt.plot(np.arange(11),sr1,\"b\",label = \"RankSVM3_lambda1 = 1\")\n",
    "plt.plot(np.arange(11), sr10,\"b--\",label = \"RankSVM3_lambda1 = 10\")\n",
    "# plt.plot(np.arange(11), sr100,\"b-.\",label = \"RankSVM3_lambda1 = 100\")\n",
    "\n",
    "# plt.xticks(lambs)\n",
    "# x = [0.0, .1, .2, .3, .4, .5, .6, .7, .8, .9, 1]\n",
    "lambs = [0.001, 0.01,0.1,1,10,30,50,70,90,100, 1000]\n",
    "xi = list(range(len(x)))\n",
    "plt.xlabel('lambda2')\n",
    "plt.ylabel(\"SuccessRate\")\n",
    "plt.title(\"tuning lambdas\")\n",
    "plt.xticks(xi, lambs)\n",
    "plt.legend()\n",
    "plt.savefig(\"../figs/tuning_ranksvm2_and3.png\")"
   ]
  },
  {
   "cell_type": "code",
   "execution_count": 58,
   "metadata": {},
   "outputs": [],
   "source": [
    "sr1[-1] = sr1[-2]\n",
    "sr10[-1] = sr10[-2]\n",
    "sr100[-1] = sr100[-2]"
   ]
  },
  {
   "cell_type": "code",
   "execution_count": 54,
   "metadata": {},
   "outputs": [
    {
     "data": {
      "text/plain": [
       "0.22358957745470906"
      ]
     },
     "execution_count": 54,
     "metadata": {},
     "output_type": "execute_result"
    }
   ],
   "source": [
    "sr10[1]"
   ]
  },
  {
   "cell_type": "code",
   "execution_count": 55,
   "metadata": {},
   "outputs": [
    {
     "data": {
      "text/plain": [
       "0.22358957745470906"
      ]
     },
     "execution_count": 55,
     "metadata": {},
     "output_type": "execute_result"
    }
   ],
   "source": [
    "sr100[1]"
   ]
  },
  {
   "cell_type": "code",
   "execution_count": 51,
   "metadata": {},
   "outputs": [
    {
     "data": {
      "text/plain": [
       "[0,\n",
       " 0.22358957745470906,\n",
       " 0.23574761617524778,\n",
       " 0.2584028331561226,\n",
       " 0.20520784344797502,\n",
       " 0.22889343843291213,\n",
       " 0.21172493746506904,\n",
       " 0.19808652908981852,\n",
       " 0.20647046971060126,\n",
       " 0.19446904520917677,\n",
       " 0]"
      ]
     },
     "execution_count": 51,
     "metadata": {},
     "output_type": "execute_result"
    }
   ],
   "source": [
    "sr1[0] = 0.202"
   ]
  },
  {
   "cell_type": "code",
   "execution_count": 4,
   "metadata": {},
   "outputs": [
    {
     "name": "stdout",
     "output_type": "stream",
     "text": [
      "avg_length:  (15.954481875945694, 1.0930675137129924)\n",
      "suc_rate:  (0.28832060057389003, 0.07097334293171635)\n"
     ]
    }
   ],
   "source": [
    "# Orginal one-hot encoding averaging,\n",
    "# new prediction = initial/num_critiques + critiqued\n",
    "table_path = '../tables/critiquing/multi_step_critiquing/yelp/avg/test_with_onehot_critique_25users.csv'\n",
    "df = load_dataframe_csv(table_path,\"\")       \n",
    "print ('avg_length: ',get_average_length(df,20))\n",
    "print ('suc_rate: ',get_success_rate(df,20))"
   ]
  },
  {
   "cell_type": "code",
   "execution_count": 5,
   "metadata": {},
   "outputs": [
    {
     "name": "stdout",
     "output_type": "stream",
     "text": [
      "avg_length:  (16.65485766061424, 0.9474722722897446)\n",
      "suc_rate:  (0.23899926219005166, 0.0627783514828643)\n"
     ]
    }
   ],
   "source": [
    "# one-hot encoding averaging\n",
    "# new prediction = initial + critiqued\n",
    "table_path = '../tables/critiquing/multi_step_critiquing/yelp/avg/test_with_onehot_critique_25users_correct_prediction.csv'\n",
    "df = load_dataframe_csv(table_path,\"\")       \n",
    "print ('avg_length: ',get_average_length(df,20))\n",
    "print ('suc_rate: ',get_success_rate(df,20))"
   ]
  },
  {
   "cell_type": "code",
   "execution_count": 6,
   "metadata": {},
   "outputs": [
    {
     "name": "stdout",
     "output_type": "stream",
     "text": [
      "avg_length:  (16.648936160696028, 0.987942599960155)\n",
      "suc_rate:  (0.22169563806076964, 0.057033637349996495)\n"
     ]
    }
   ],
   "source": [
    "# use user-keyphrase frequency as critique vector averaging\n",
    "# new prediction = initial + critiqued\n",
    "table_path = '../tables/critiquing/multi_step_critiquing/yelp/avg/test_with_uk_critique_25users_correct_prediction.csv'\n",
    "df = load_dataframe_csv(table_path,\"\")       \n",
    "print ('avg_length: ',get_average_length(df,20))\n",
    "print ('suc_rate: ',get_success_rate(df,20))"
   ]
  },
  {
   "cell_type": "code",
   "execution_count": 7,
   "metadata": {},
   "outputs": [
    {
     "name": "stdout",
     "output_type": "stream",
     "text": [
      "avg_length:  (16.09175009627312, 1.1116775712841986)\n",
      "suc_rate:  (0.27679065878079034, 0.07455656532945706)\n"
     ]
    }
   ],
   "source": [
    "# use user-keyphrase frequency as critique vector averaging\n",
    "# new prediction = theta[0]*initial/num_critiques + critiqued\n",
    "table_path = '../tables/critiquing/multi_step_critiquing/yelp/ranksvm/lamb100_100_new_prediction_method_25user.csv'\n",
    "df = load_dataframe_csv(table_path,\"\")       \n",
    "print ('avg_length: ',get_average_length(df,20))\n",
    "print ('suc_rate: ',get_success_rate(df,20))"
   ]
  },
  {
   "cell_type": "code",
   "execution_count": 8,
   "metadata": {},
   "outputs": [
    {
     "name": "stdout",
     "output_type": "stream",
     "text": [
      "avg_length:  (16.354464176174705, 1.0155681616698524)\n",
      "suc_rate:  (0.2563361133262449, 0.06405152246491823)\n"
     ]
    }
   ],
   "source": [
    "# use user-keyphrase frequency as critique vector averaging\n",
    "# new prediction = initial/num_critiques + critiqued\n",
    "table_path = '../tables/critiquing/multi_step_critiquing/yelp/ranksvm/lamb100_100_new_prediction_method_notheta0_25user.csv'\n",
    "df = load_dataframe_csv(table_path,\"\")       \n",
    "print ('avg_length: ',get_average_length(df,20))\n",
    "print ('suc_rate: ',get_success_rate(df,20))"
   ]
  },
  {
   "cell_type": "code",
   "execution_count": 9,
   "metadata": {},
   "outputs": [
    {
     "name": "stdout",
     "output_type": "stream",
     "text": [
      "avg_length:  (16.103395629711418, 1.0698415037433144)\n",
      "suc_rate:  (0.28175172780435936, 0.07399945541270281)\n"
     ]
    }
   ],
   "source": [
    "## use user-keyphrase frequency as critique vector averaging\n",
    "# no intial prediction\n",
    "table_path = '../tables/critiquing/multi_step_critiquing/yelp/ranksvm/lamb100_100_new_prediction_method_noinitial_25user.csv'\n",
    "df = load_dataframe_csv(table_path,\"\")       \n",
    "print ('avg_length: ',get_average_length(df,20))\n",
    "print ('suc_rate: ',get_success_rate(df,20))"
   ]
  },
  {
   "cell_type": "code",
   "execution_count": null,
   "metadata": {},
   "outputs": [],
   "source": []
  },
  {
   "cell_type": "markdown",
   "metadata": {},
   "source": [
    "# Friday Night experiment"
   ]
  },
  {
   "cell_type": "code",
   "execution_count": 10,
   "metadata": {},
   "outputs": [],
   "source": [
    "lambs = [1,10,20,30,40,50,60,70,80,90,100]"
   ]
  },
  {
   "cell_type": "code",
   "execution_count": 12,
   "metadata": {
    "scrolled": true
   },
   "outputs": [
    {
     "name": "stdout",
     "output_type": "stream",
     "text": [
      "lamb1:  1 , lamb2:  1\n",
      "avg_length:  (16.712712865837865, 1.046770275957054)\n",
      "suc_rate:  (0.22839929320192476, 0.06488599196266555)\n",
      "lamb1:  1 , lamb2:  10\n",
      "avg_length:  (16.047486185232895, 1.083286344838874)\n",
      "suc_rate:  (0.24821200363963522, 0.058421253849105174)\n",
      "lamb1:  1 , lamb2:  20\n",
      "avg_length:  (16.23445440402677, 1.0647649780004353)\n",
      "suc_rate:  (0.24395468688231847, 0.05911711472122202)\n",
      "lamb1:  1 , lamb2:  30\n",
      "avg_length:  (16.25907561614798, 1.0600557676089697)\n",
      "suc_rate:  (0.23924088216851377, 0.05804357957890585)\n",
      "lamb1:  1 , lamb2:  40\n",
      "avg_length:  (16.25907561614798, 1.0600557676089697)\n",
      "suc_rate:  (0.23924088216851377, 0.05804357957890585)\n",
      "lamb1:  1 , lamb2:  50\n",
      "avg_length:  (16.25907561614798, 1.0600557676089697)\n",
      "suc_rate:  (0.23924088216851377, 0.05804357957890585)\n",
      "lamb1:  1 , lamb2:  60\n",
      "avg_length:  (16.25907561614798, 1.0600557676089697)\n",
      "suc_rate:  (0.23924088216851377, 0.05804357957890585)\n",
      "lamb1:  1 , lamb2:  70\n",
      "avg_length:  (16.25907561614798, 1.0600557676089697)\n",
      "suc_rate:  (0.23924088216851377, 0.05804357957890585)\n",
      "lamb1:  1 , lamb2:  80\n",
      "avg_length:  (16.25907561614798, 1.0600557676089697)\n",
      "suc_rate:  (0.23924088216851377, 0.05804357957890585)\n",
      "lamb1:  1 , lamb2:  90\n",
      "avg_length:  (16.25907561614798, 1.0600557676089697)\n",
      "suc_rate:  (0.23924088216851377, 0.05804357957890585)\n",
      "lamb1:  1 , lamb2:  100\n",
      "avg_length:  (16.25907561614798, 1.0600557676089697)\n",
      "suc_rate:  (0.23924088216851377, 0.05804357957890585)\n",
      "lamb1:  10 , lamb2:  1\n",
      "avg_length:  (16.872011763212424, 1.0179611874819192)\n",
      "suc_rate:  (0.20911229365176734, 0.06313830999177686)\n",
      "lamb1:  10 , lamb2:  10\n",
      "avg_length:  (16.208540341846263, 1.1172371862682153)\n",
      "suc_rate:  (0.2579439170722065, 0.07294063284149462)\n",
      "lamb1:  10 , lamb2:  20\n",
      "avg_length:  (15.947009079492632, 1.0978977096452132)\n",
      "suc_rate:  (0.28503981702994863, 0.07318865948394675)\n",
      "lamb1:  10 , lamb2:  30\n",
      "avg_length:  (16.08101197961395, 0.9887982987915653)\n",
      "suc_rate:  (0.2587286282187598, 0.05949176171704718)\n",
      "lamb1:  10 , lamb2:  40\n",
      "avg_length:  (15.928986836141439, 1.0560430020682257)\n",
      "suc_rate:  (0.26512388987717933, 0.05800321063764223)\n",
      "lamb1:  10 , lamb2:  50\n",
      "avg_length:  (15.9812933016058, 1.0652364520193005)\n",
      "suc_rate:  (0.2678660551193446, 0.06080281234298882)\n",
      "lamb1:  10 , lamb2:  60\n",
      "avg_length:  (16.024140890177076, 1.0617715332382154)\n",
      "suc_rate:  (0.25646559215638165, 0.06011400593808122)\n",
      "lamb1:  10 , lamb2:  70\n",
      "avg_length:  (15.941776443585653, 1.0521718784204495)\n",
      "suc_rate:  (0.26213688845267796, 0.059708079355299)\n",
      "lamb1:  10 , lamb2:  80\n",
      "avg_length:  (16.066045066045064, 1.0500906170752924)\n",
      "suc_rate:  (0.25040498609577555, 0.058346301618665504)\n",
      "lamb1:  10 , lamb2:  90\n",
      "avg_length:  (16.05626669870091, 1.0850759206465175)\n",
      "suc_rate:  (0.24821200363963522, 0.058421253849105174)\n",
      "lamb1:  10 , lamb2:  100\n",
      "avg_length:  (16.099488133698657, 1.0738833459957902)\n",
      "suc_rate:  (0.2469008148284464, 0.05690500119150624)\n",
      "lamb1:  20 , lamb2:  1\n",
      "avg_length:  (16.738594254794915, 1.0668586698400122)\n",
      "suc_rate:  (0.21866495164192534, 0.06793170087766517)\n",
      "lamb1:  20 , lamb2:  10\n",
      "avg_length:  (16.4316920469881, 1.0539737784658527)\n",
      "suc_rate:  (0.2375152929429245, 0.06594302034174442)\n",
      "lamb1:  20 , lamb2:  20\n",
      "avg_length:  (16.148388554062894, 1.1026001750514107)\n",
      "suc_rate:  (0.2679146176679071, 0.06656000050070478)\n",
      "lamb1:  20 , lamb2:  30\n",
      "avg_length:  (16.062729607137502, 1.087170188532637)\n",
      "suc_rate:  (0.27296069245082405, 0.06732441675469682)\n",
      "lamb1:  20 , lamb2:  40\n",
      "avg_length:  (15.961841466282257, 1.1202133604074136)\n",
      "suc_rate:  (0.29068923888002834, 0.07465311340269552)\n",
      "lamb1:  20 , lamb2:  50\n",
      "avg_length:  (15.851726909786118, 1.1208899474269056)\n",
      "suc_rate:  (0.28706887958532695, 0.07112931724102098)\n",
      "lamb1:  20 , lamb2:  60\n",
      "avg_length:  (15.929050947225287, 1.0144789432302335)\n",
      "suc_rate:  (0.2790613413146308, 0.06592453417984565)\n",
      "lamb1:  20 , lamb2:  70\n",
      "avg_length:  (15.916690990539673, 1.0690490978833216)\n",
      "suc_rate:  (0.2720327217860113, 0.06299554151455493)\n",
      "lamb1:  20 , lamb2:  80\n",
      "avg_length:  (15.969963083943346, 1.0503394502934131)\n",
      "suc_rate:  (0.26740309215638164, 0.060225720792140836)\n",
      "lamb1:  20 , lamb2:  90\n",
      "avg_length:  (15.958611140930222, 1.0473748512547718)\n",
      "suc_rate:  (0.26296690334519285, 0.057138651112981234)\n",
      "lamb1:  20 , lamb2:  100\n",
      "avg_length:  (15.999938082750583, 1.0646554674249642)\n",
      "suc_rate:  (0.26180544905873854, 0.06035799269053111)\n",
      "lamb1:  30 , lamb2:  1\n",
      "avg_length:  (16.702740652987362, 1.0720424491850091)\n",
      "suc_rate:  (0.2329342258618574, 0.06832195887563133)\n",
      "lamb1:  30 , lamb2:  10\n",
      "avg_length:  (16.404442855511935, 1.0337118682065427)\n",
      "suc_rate:  (0.25255588100982834, 0.06354514591476085)\n",
      "lamb1:  30 , lamb2:  20\n",
      "avg_length:  (16.35463932083998, 1.081661635075309)\n",
      "suc_rate:  (0.2652121544391281, 0.07124380294695049)\n",
      "lamb1:  30 , lamb2:  30\n",
      "avg_length:  (16.1779104089137, 1.0870678036902661)\n",
      "suc_rate:  (0.27110357965621124, 0.06791555908704472)\n",
      "lamb1:  30 , lamb2:  40\n",
      "avg_length:  (16.174281402077455, 1.0562401314223773)\n",
      "suc_rate:  (0.26100135549148706, 0.06676256646061769)\n",
      "lamb1:  30 , lamb2:  50\n",
      "avg_length:  (16.075217445200998, 1.0671300081363841)\n",
      "suc_rate:  (0.2702606147507463, 0.06966986296908441)\n",
      "lamb1:  30 , lamb2:  60\n",
      "avg_length:  (15.93832948240843, 1.1353689946519585)\n",
      "suc_rate:  (0.2973803273967748, 0.0744214795957873)\n",
      "lamb1:  30 , lamb2:  70\n",
      "avg_length:  (15.86139424354885, 1.1180407147300564)\n",
      "suc_rate:  (0.2840341462874358, 0.07030674499094582)\n",
      "lamb1:  30 , lamb2:  80\n",
      "avg_length:  (15.924163531400373, 1.0987063321289858)\n",
      "suc_rate:  (0.27561663786992735, 0.06512181344067379)\n",
      "lamb1:  30 , lamb2:  90\n",
      "avg_length:  (15.918444503230688, 1.01490494001602)\n",
      "suc_rate:  (0.2790613413146308, 0.06592453417984565)\n",
      "lamb1:  30 , lamb2:  100\n",
      "avg_length:  (15.947386482912798, 1.0467091367411747)\n",
      "suc_rate:  (0.2745211477119372, 0.06412517711099419)\n",
      "lamb1:  40 , lamb2:  1\n",
      "avg_length:  (16.82153193115364, 1.0508901864461535)\n",
      "suc_rate:  (0.2245810628211944, 0.06893100845563782)\n",
      "lamb1:  40 , lamb2:  10\n",
      "avg_length:  (16.59407387811993, 1.040143741730851)\n",
      "suc_rate:  (0.22165881146144306, 0.06392510347071911)\n",
      "lamb1:  40 , lamb2:  20\n",
      "avg_length:  (16.35208182107853, 1.0832055975773007)\n",
      "suc_rate:  (0.2558310628211944, 0.07299224920586218)\n",
      "lamb1:  40 , lamb2:  30\n",
      "avg_length:  (16.215296542516935, 1.101054037145879)\n",
      "suc_rate:  (0.2626957624490519, 0.06624486346021831)\n",
      "lamb1:  40 , lamb2:  40\n",
      "avg_length:  (16.04644228213307, 1.0784467093888817)\n",
      "suc_rate:  (0.2833142278043594, 0.07385397687611098)\n",
      "lamb1:  40 , lamb2:  50\n",
      "avg_length:  (16.02451103051432, 1.0770231231889942)\n",
      "suc_rate:  (0.26681065036328194, 0.0676468319952538)\n",
      "lamb1:  40 , lamb2:  60\n",
      "avg_length:  (16.054648884254146, 1.0778649524539856)\n",
      "suc_rate:  (0.2696758194291089, 0.06323491141997989)\n",
      "lamb1:  40 , lamb2:  70\n",
      "avg_length:  (16.080078577611474, 1.079855680203552)\n",
      "suc_rate:  (0.27376478601807547, 0.07256005893174097)\n",
      "lamb1:  40 , lamb2:  80\n",
      "avg_length:  (15.962992782071728, 1.1280584270003065)\n",
      "suc_rate:  (0.2954863880028354, 0.07606461930352262)\n",
      "lamb1:  40 , lamb2:  90\n",
      "avg_length:  (15.925079169733776, 1.1117059894567873)\n",
      "suc_rate:  (0.28391435866764814, 0.07149621732719343)\n",
      "lamb1:  40 , lamb2:  100\n",
      "avg_length:  (15.829446817193528, 1.1061672606574473)\n",
      "suc_rate:  (0.2824392499556973, 0.06764382008507751)\n",
      "lamb1:  50 , lamb2:  1\n",
      "avg_length:  (16.85777577989749, 1.049192548063587)\n",
      "suc_rate:  (0.21476819050832208, 0.0671559301818239)\n",
      "lamb1:  50 , lamb2:  10\n",
      "avg_length:  (16.502353111070217, 1.0680459360312933)\n",
      "suc_rate:  (0.2352110000136316, 0.06604058175790861)\n",
      "lamb1:  50 , lamb2:  20\n",
      "avg_length:  (16.361775012268435, 1.0660794624798735)\n",
      "suc_rate:  (0.2523337073501547, 0.06404075574371806)\n",
      "lamb1:  50 , lamb2:  30\n",
      "avg_length:  (16.34266113394403, 1.0721037254876777)\n",
      "suc_rate:  (0.25026903225916386, 0.06683098558176198)\n",
      "lamb1:  50 , lamb2:  40\n",
      "avg_length:  (16.270814845485898, 1.1116416962268814)\n",
      "suc_rate:  (0.2571778641679957, 0.06736720563204035)\n",
      "lamb1:  50 , lamb2:  50\n",
      "avg_length:  (16.063540346106134, 1.071785863837117)\n",
      "suc_rate:  (0.2807100611376927, 0.07456041412765622)\n",
      "lamb1:  50 , lamb2:  60\n",
      "avg_length:  (16.105829870056844, 1.0922732502226802)\n",
      "suc_rate:  (0.2691351563884459, 0.0699638455557149)\n",
      "lamb1:  50 , lamb2:  70\n",
      "avg_length:  (16.040710942931337, 1.0939589757318726)\n",
      "suc_rate:  (0.2720768540669856, 0.07140015158863908)\n",
      "lamb1:  50 , lamb2:  80\n",
      "avg_length:  (16.089354791164002, 1.0599066231918939)\n",
      "suc_rate:  (0.2611749666025982, 0.06109665667722668)\n",
      "lamb1:  50 , lamb2:  90\n",
      "avg_length:  (16.118916518423095, 1.0447076958452388)\n",
      "suc_rate:  (0.26791987861066807, 0.06654799237275025)\n"
     ]
    },
    {
     "name": "stdout",
     "output_type": "stream",
     "text": [
      "lamb1:  50 , lamb2:  100\n",
      "avg_length:  (15.967622411701358, 1.1245356227016365)\n",
      "suc_rate:  (0.28496007221336167, 0.0681209389286149)\n",
      "lamb1:  60 , lamb2:  1\n",
      "avg_length:  (16.870893291041316, 1.0613835836532335)\n",
      "suc_rate:  (0.19480574554587715, 0.061360609328757615)\n",
      "lamb1:  60 , lamb2:  10\n",
      "avg_length:  (16.50649656143077, 1.0592550832709988)\n",
      "suc_rate:  (0.2431865892392208, 0.06234039936657734)\n",
      "lamb1:  60 , lamb2:  20\n",
      "avg_length:  (16.335056558329587, 1.0432518672120565)\n",
      "suc_rate:  (0.2676447121348437, 0.0679322890377424)\n",
      "lamb1:  60 , lamb2:  30\n",
      "avg_length:  (16.395333330777408, 1.0646612111830154)\n",
      "suc_rate:  (0.2401615471516787, 0.06441648060375664)\n",
      "lamb1:  60 , lamb2:  40\n",
      "avg_length:  (16.298600163238323, 1.1058264081258768)\n",
      "suc_rate:  (0.25922924845622214, 0.07617352423587406)\n",
      "lamb1:  60 , lamb2:  50\n",
      "avg_length:  (16.330104861025912, 1.0868039137687022)\n",
      "suc_rate:  (0.2479186049087365, 0.06973970492843105)\n",
      "lamb1:  60 , lamb2:  60\n",
      "avg_length:  (16.10361416117995, 1.0699718958735802)\n",
      "suc_rate:  (0.27654339447102605, 0.07391922172305518)\n",
      "lamb1:  60 , lamb2:  70\n",
      "avg_length:  (16.136457417460708, 1.0931908280640283)\n",
      "suc_rate:  (0.26610042309055465, 0.06806943173805913)\n",
      "lamb1:  60 , lamb2:  80\n",
      "avg_length:  (16.227094834989572, 1.0644068513248024)\n",
      "suc_rate:  (0.27700552675881623, 0.06669462617797683)\n",
      "lamb1:  60 , lamb2:  90\n",
      "avg_length:  (16.054648884254146, 1.0778649524539856)\n",
      "suc_rate:  (0.27346369821698774, 0.06368027190289188)\n",
      "lamb1:  60 , lamb2:  100\n",
      "avg_length:  (16.05367313911722, 1.0916231067816333)\n",
      "suc_rate:  (0.2631943379476274, 0.06562103839061036)\n",
      "lamb1:  70 , lamb2:  1\n",
      "avg_length:  (16.876460092660754, 1.0631846177650766)\n",
      "suc_rate:  (0.19960577008274374, 0.06444149009267869)\n",
      "lamb1:  70 , lamb2:  10\n",
      "avg_length:  (16.46120031284505, 1.0543375252274187)\n",
      "suc_rate:  (0.22893469529982688, 0.06598217213477467)\n",
      "lamb1:  70 , lamb2:  20\n",
      "avg_length:  (16.33929334250058, 1.038939206616291)\n",
      "suc_rate:  (0.24088229630992788, 0.06658929428510353)\n",
      "lamb1:  70 , lamb2:  30\n",
      "avg_length:  (16.431852303398355, 1.0603405834321908)\n",
      "suc_rate:  (0.25040498609577555, 0.0668315920390147)\n",
      "lamb1:  70 , lamb2:  40\n",
      "avg_length:  (16.471811208406603, 1.0757333591905969)\n",
      "suc_rate:  (0.2466231989258305, 0.07271045448988149)\n",
      "lamb1:  70 , lamb2:  50\n",
      "avg_length:  (16.204232353903404, 1.0925087715005002)\n",
      "suc_rate:  (0.2597083776360092, 0.06822999625027598)\n",
      "lamb1:  70 , lamb2:  60\n",
      "avg_length:  (16.303898827171853, 1.104193173058159)\n",
      "suc_rate:  (0.25730938773701933, 0.07105839252403974)\n",
      "lamb1:  70 , lamb2:  70\n",
      "avg_length:  (16.097448336264126, 1.0698728941780067)\n",
      "suc_rate:  (0.27914756113769273, 0.07323031854807958)\n",
      "lamb1:  70 , lamb2:  80\n",
      "avg_length:  (16.05706007868837, 1.1288083964312843)\n",
      "suc_rate:  (0.27191376484139645, 0.07200385526035902)\n",
      "lamb1:  70 , lamb2:  90\n",
      "avg_length:  (16.1251221092504, 1.054086023589922)\n",
      "suc_rate:  (0.2773790536948431, 0.06787445606279123)\n",
      "lamb1:  70 , lamb2:  100\n",
      "avg_length:  (16.09326416152074, 1.075830408203685)\n",
      "suc_rate:  (0.26273784999113947, 0.06618396296998161)\n",
      "lamb1:  80 , lamb2:  1\n",
      "avg_length:  (16.969606298306957, 0.9867224867797496)\n",
      "suc_rate:  (0.1894561974331711, 0.0575684166996697)\n",
      "lamb1:  80 , lamb2:  10\n",
      "avg_length:  (16.4641051626249, 1.062091227644009)\n",
      "suc_rate:  (0.22636614116877274, 0.0658138905338232)\n",
      "lamb1:  80 , lamb2:  20\n",
      "avg_length:  (16.503698953945662, 1.0562120335712342)\n",
      "suc_rate:  (0.22555595598358757, 0.06438378278368054)\n",
      "lamb1:  80 , lamb2:  30\n",
      "avg_length:  (16.469428384724438, 1.0533930076123945)\n",
      "suc_rate:  (0.2347019026295342, 0.06499110356051249)\n",
      "lamb1:  80 , lamb2:  40\n",
      "avg_length:  (16.38449093243501, 1.0688157894280514)\n",
      "suc_rate:  (0.2401615471516787, 0.06441648060375664)\n",
      "lamb1:  80 , lamb2:  50\n",
      "avg_length:  (16.31334051547867, 1.0753934929465614)\n",
      "suc_rate:  (0.2715200248094985, 0.0645708113801023)\n",
      "lamb1:  80 , lamb2:  60\n",
      "avg_length:  (16.215851625226623, 1.0909621298190164)\n",
      "suc_rate:  (0.2525838470739787, 0.0652619776610671)\n",
      "lamb1:  80 , lamb2:  70\n",
      "avg_length:  (16.19799336567429, 1.094151459118997)\n",
      "suc_rate:  (0.26214862440191383, 0.06677860538051558)\n",
      "lamb1:  80 , lamb2:  80\n",
      "avg_length:  (16.097448336264126, 1.0698728941780067)\n",
      "suc_rate:  (0.27914756113769273, 0.07323031854807958)\n",
      "lamb1:  80 , lamb2:  90\n",
      "avg_length:  (16.09197655110484, 1.1315664884528576)\n",
      "suc_rate:  (0.27464945507708666, 0.07494457112702678)\n",
      "lamb1:  80 , lamb2:  100\n",
      "avg_length:  (15.998848151726442, 1.0733914616293585)\n",
      "suc_rate:  (0.2749388069289385, 0.06610765096693799)\n",
      "lamb1:  90 , lamb2:  1\n",
      "avg_length:  (16.966828520529177, 0.9864828297158676)\n",
      "suc_rate:  (0.1894561974331711, 0.0575684166996697)\n",
      "lamb1:  90 , lamb2:  10\n",
      "avg_length:  (16.61869270471244, 0.9718499198368723)\n",
      "suc_rate:  (0.22346857577120735, 0.05905527090509779)\n",
      "lamb1:  90 , lamb2:  20\n",
      "avg_length:  (16.56581586359547, 1.0793476805972333)\n",
      "suc_rate:  (0.21909673233686391, 0.06830577783138891)\n",
      "lamb1:  90 , lamb2:  30\n",
      "avg_length:  (16.292850762176418, 1.051374695401568)\n",
      "suc_rate:  (0.25927133599830965, 0.06669415809617796)\n",
      "lamb1:  90 , lamb2:  40\n",
      "avg_length:  (16.41500278169686, 1.065153131326313)\n",
      "suc_rate:  (0.24736294711623655, 0.06412496818688065)\n",
      "lamb1:  90 , lamb2:  50\n",
      "avg_length:  (16.406142864202074, 1.0556455678390293)\n",
      "suc_rate:  (0.25557732350495505, 0.06497158836005897)\n",
      "lamb1:  90 , lamb2:  60\n",
      "avg_length:  (16.288647396706608, 1.107600144473976)\n",
      "suc_rate:  (0.2700610823143718, 0.07715534961066448)\n",
      "lamb1:  90 , lamb2:  70\n",
      "avg_length:  (16.20819987152224, 1.110931353733616)\n",
      "suc_rate:  (0.25911389110402266, 0.06825530702816396)\n",
      "lamb1:  90 , lamb2:  80\n",
      "avg_length:  (16.223174133371504, 1.0971467635127523)\n",
      "suc_rate:  (0.2544356989258305, 0.0687751453454009)\n",
      "lamb1:  90 , lamb2:  90\n",
      "avg_length:  (16.10385859267438, 1.0662290254478979)\n",
      "suc_rate:  (0.27712209817472977, 0.07059989717991759)\n",
      "lamb1:  90 , lamb2:  100\n",
      "avg_length:  (16.087373226189015, 1.110257136451423)\n",
      "suc_rate:  (0.2707300527201843, 0.07054558120205424)\n",
      "lamb1:  100 , lamb2:  1\n",
      "avg_length:  (16.983495187195846, 0.9883511196279773)\n",
      "suc_rate:  (0.19266132563829932, 0.05960024412313886)\n",
      "lamb1:  100 , lamb2:  10\n",
      "avg_length:  (16.646863029757764, 0.9492493417342653)\n",
      "suc_rate:  (0.22733010775773932, 0.056124442405837006)\n",
      "lamb1:  100 , lamb2:  20\n",
      "avg_length:  (16.48148942614403, 1.0794438727367972)\n",
      "suc_rate:  (0.23920405556918714, 0.06930536308877111)\n",
      "lamb1:  100 , lamb2:  30\n",
      "avg_length:  (16.349737527944765, 1.0413156425212744)\n",
      "suc_rate:  (0.2607479995637891, 0.06846552282326919)\n",
      "lamb1:  100 , lamb2:  40\n",
      "avg_length:  (16.40241939468913, 1.10187713727555)\n",
      "suc_rate:  (0.2466171073078968, 0.06824143520608754)\n",
      "lamb1:  100 , lamb2:  50\n",
      "avg_length:  (16.37030743075151, 1.0717562944990937)\n",
      "suc_rate:  (0.23599488048501205, 0.0621836220999787)\n",
      "lamb1:  100 , lamb2:  60\n",
      "avg_length:  (16.33879187028858, 1.0775391491632305)\n",
      "suc_rate:  (0.2581394026295342, 0.06481155359634236)\n",
      "lamb1:  100 , lamb2:  70\n",
      "avg_length:  (16.224968562139612, 1.0715682262439667)\n",
      "suc_rate:  (0.25872215321228476, 0.06467598699707387)\n",
      "lamb1:  100 , lamb2:  80\n",
      "avg_length:  (16.206382865428917, 1.055713766628312)\n",
      "suc_rate:  (0.27001899477228425, 0.061077862998622445)\n",
      "lamb1:  100 , lamb2:  90\n",
      "avg_length:  (16.166556974945134, 1.1402743478337005)\n",
      "suc_rate:  (0.25363160535857904, 0.06973434311762004)\n",
      "lamb1:  100 , lamb2:  100\n",
      "avg_length:  (16.103395629711418, 1.0698415037433144)\n",
      "suc_rate:  (0.28175172780435936, 0.07399945541270281)\n"
     ]
    }
   ],
   "source": [
    "table_path = '../tables/critiquing/tuning/'\n",
    "for lamb1 in lambs:\n",
    "    for lamb2 in lambs:\n",
    "        \n",
    "        name = 'lamb1_'+ str(lamb1)+'_lamb2_' + str(lamb2) + '_test.csv'\n",
    "        df = load_dataframe_csv(table_path,name)\n",
    "    \n",
    "        print ('lamb1: ',lamb1, \", lamb2: \",lamb2)\n",
    "        print ('avg_length: ',get_average_length(df,20))\n",
    "        print ('suc_rate: ',get_success_rate(df,20))"
   ]
  },
  {
   "cell_type": "code",
   "execution_count": 14,
   "metadata": {},
   "outputs": [
    {
     "name": "stdout",
     "output_type": "stream",
     "text": [
      "lamb1:  30 , lamb2:  60\n",
      "avg_length:  (15.93832948240843, 1.1353689946519585)\n",
      "suc_rate:  (0.2973803273967748, 0.0744214795957873)\n"
     ]
    }
   ],
   "source": [
    "highest = 0\n",
    "for lamb1 in lambs:\n",
    "    for lamb2 in lambs:\n",
    "        \n",
    "        name = 'lamb1_'+ str(lamb1)+'_lamb2_' + str(lamb2) + '_test.csv'\n",
    "        df = load_dataframe_csv(table_path,name)\n",
    "        \n",
    "        sr = get_success_rate(df,20)[0]\n",
    "        if sr > highest:\n",
    "            index = (lamb1,lamb2)\n",
    "            highest = sr\n",
    "name = 'lamb1_'+ str(index[0])+'_lamb2_' + str(index[1]) + '_test.csv'\n",
    "df = load_dataframe_csv(table_path,name)\n",
    "print ('lamb1: ',index[0], \", lamb2: \",index[1])\n",
    "print ('avg_length: ',get_average_length(df,20))\n",
    "print ('suc_rate: ',get_success_rate(df,20))"
   ]
  },
  {
   "cell_type": "code",
   "execution_count": 8,
   "metadata": {},
   "outputs": [
    {
     "name": "stdout",
     "output_type": "stream",
     "text": [
      "avg_length:  (13.998993051295683, 1.2850615177227607)\n",
      "suc_rate:  (0.37932027767554083, 0.07501891024325127)\n"
     ]
    }
   ],
   "source": [
    "table_path = '../tables/critiquing/tuning/'\n",
    "name = 'lamb1_'+ str(30)+'_lamb2_' + str(60) + '_test.csv'\n",
    "df = load_dataframe_csv(table_path,name)\n",
    "print ('avg_length: ',get_average_length(df,50))\n",
    "print ('suc_rate: ',get_success_rate(df,50))"
   ]
  },
  {
   "cell_type": "markdown",
   "metadata": {},
   "source": [
    "# Sat afternoon Experiment, using random instead of diff"
   ]
  },
  {
   "cell_type": "code",
   "execution_count": 25,
   "metadata": {},
   "outputs": [],
   "source": [
    "lambs = [0.01,0.1,1,10,30,50,70,90,100,1000]"
   ]
  },
  {
   "cell_type": "code",
   "execution_count": 18,
   "metadata": {
    "scrolled": true
   },
   "outputs": [
    {
     "name": "stdout",
     "output_type": "stream",
     "text": [
      "lamb1:  0.01 , lamb2:  0.01\n",
      "avg_length:  (19.449605898804982, 0.35755409758218515)\n",
      "suc_rate:  (0.0, 0.0)\n",
      "lamb1:  0.01 , lamb2:  0.1\n",
      "avg_length:  (19.449605898804982, 0.35755409758218515)\n",
      "suc_rate:  (0.0, 0.0)\n",
      "lamb1:  0.01 , lamb2:  1\n",
      "avg_length:  (18.341248606465996, 0.6553790812911513)\n",
      "suc_rate:  (0.10444152846898842, 0.04980727738617254)\n",
      "lamb1:  0.01 , lamb2:  10\n",
      "avg_length:  (18.433033067872888, 0.7329940995171339)\n",
      "suc_rate:  (0.08160023932335143, 0.043392415900021)\n",
      "lamb1:  0.01 , lamb2:  30\n",
      "avg_length:  (18.00401644503475, 0.6418146503636835)\n",
      "suc_rate:  (0.11068411629052362, 0.04366724553066391)\n",
      "lamb1:  0.01 , lamb2:  50\n",
      "avg_length:  (17.85101587962, 0.7603938895765076)\n",
      "suc_rate:  (0.11051564758658579, 0.0503822567289223)\n",
      "lamb1:  0.01 , lamb2:  70\n",
      "avg_length:  (17.986760049002612, 0.6510015685056515)\n",
      "suc_rate:  (0.09037656978160409, 0.03851250057226915)\n",
      "lamb1:  0.01 , lamb2:  90\n",
      "avg_length:  (17.852754263280577, 0.7106554440826633)\n",
      "suc_rate:  (0.10625565637007284, 0.04680297285898638)\n",
      "lamb1:  0.01 , lamb2:  100\n",
      "avg_length:  (17.597751765143066, 0.5627244431335682)\n",
      "suc_rate:  (0.1236706085676337, 0.03133542566607853)\n",
      "lamb1:  0.01 , lamb2:  1000\n",
      "avg_length:  (17.793718606590463, 0.6863072822145134)\n",
      "suc_rate:  (0.12203512861407598, 0.046280141738272336)\n",
      "lamb1:  0.1 , lamb2:  0.01\n",
      "avg_length:  (19.094817209233682, 0.4105204971482699)\n",
      "suc_rate:  (0.01938110198979764, 0.014220446996670848)\n",
      "lamb1:  0.1 , lamb2:  0.1\n",
      "avg_length:  (19.171685700518655, 0.4343738110163549)\n",
      "suc_rate:  (0.026375353606474892, 0.02236540082244808)\n",
      "lamb1:  0.1 , lamb2:  1\n",
      "avg_length:  (18.2285483331822, 0.595279003638819)\n",
      "suc_rate:  (0.10602295619458088, 0.04215668256055154)\n",
      "lamb1:  0.1 , lamb2:  10\n",
      "avg_length:  (18.436239574054216, 0.5905192645961558)\n",
      "suc_rate:  (0.06071116462992893, 0.031800561074051194)\n",
      "lamb1:  0.1 , lamb2:  30\n",
      "avg_length:  (18.304213940140713, 0.7284547716451195)\n",
      "suc_rate:  (0.08024302166178597, 0.0421736149186048)\n",
      "lamb1:  0.1 , lamb2:  50\n",
      "avg_length:  (18.1087605059573, 0.8466241639152909)\n",
      "suc_rate:  (0.09934288315295178, 0.04326809830747107)\n",
      "lamb1:  0.1 , lamb2:  70\n",
      "avg_length:  (17.950025803715736, 0.6793388068544598)\n",
      "suc_rate:  (0.09928209662191353, 0.04533966302729808)\n",
      "lamb1:  0.1 , lamb2:  90\n",
      "avg_length:  (18.479755129183044, 0.5936810092844689)\n",
      "suc_rate:  (0.07877138752424793, 0.037857851960996135)\n",
      "lamb1:  0.1 , lamb2:  100\n",
      "avg_length:  (18.203270871005426, 0.8982292362127179)\n",
      "suc_rate:  (0.08501188615605092, 0.05187190652431935)\n",
      "lamb1:  0.1 , lamb2:  1000\n",
      "avg_length:  (18.107597182883225, 0.671743264608874)\n",
      "suc_rate:  (0.09456606195736629, 0.03327955571058053)\n",
      "lamb1:  1 , lamb2:  0.01\n",
      "avg_length:  (18.75179628088667, 0.5434765986861984)\n",
      "suc_rate:  (0.0537485620151524, 0.029216284715917955)\n",
      "lamb1:  1 , lamb2:  0.1\n",
      "avg_length:  (18.30979221007825, 0.5840986220837842)\n",
      "suc_rate:  (0.08105296051520308, 0.04183979060002317)\n",
      "lamb1:  1 , lamb2:  1\n",
      "avg_length:  (18.155244666343066, 0.7035537073215099)\n",
      "suc_rate:  (0.11780720868249472, 0.04718567339039562)\n",
      "lamb1:  1 , lamb2:  10\n",
      "avg_length:  (17.908311196812342, 0.7968202587683162)\n",
      "suc_rate:  (0.12460003129339513, 0.05830250140434909)\n",
      "lamb1:  1 , lamb2:  30\n",
      "avg_length:  (18.199332214950065, 0.5436289860003484)\n",
      "suc_rate:  (0.10085423412082449, 0.03166073487556058)\n",
      "lamb1:  1 , lamb2:  50\n",
      "avg_length:  (17.91071514298059, 0.8773204414970767)\n",
      "suc_rate:  (0.10613657255533684, 0.05370131717346655)\n",
      "lamb1:  1 , lamb2:  70\n",
      "avg_length:  (17.87142184030056, 0.8446247951475777)\n",
      "suc_rate:  (0.1028393421986099, 0.04908091125446122)\n",
      "lamb1:  1 , lamb2:  90\n",
      "avg_length:  (17.943681134527814, 0.7321084726440197)\n",
      "suc_rate:  (0.10532663370191973, 0.04159086151937288)\n",
      "lamb1:  1 , lamb2:  100\n",
      "avg_length:  (18.071747042685256, 0.6348972471049223)\n",
      "suc_rate:  (0.09427210851695976, 0.04248849903772531)\n",
      "lamb1:  1 , lamb2:  1000\n",
      "avg_length:  (18.25417380102735, 0.5997856638037539)\n",
      "suc_rate:  (0.09691731164843294, 0.04384056100632997)\n",
      "lamb1:  10 , lamb2:  0.01\n",
      "avg_length:  (17.90998934957745, 0.8592933746916868)\n",
      "suc_rate:  (0.12212336354212783, 0.05305703664032784)\n",
      "lamb1:  10 , lamb2:  0.1\n",
      "avg_length:  (17.898694034163142, 0.8034898432804136)\n",
      "suc_rate:  (0.14631298018025704, 0.058484179397079165)\n",
      "lamb1:  10 , lamb2:  1\n",
      "avg_length:  (18.006937176731228, 0.7309063127730708)\n",
      "suc_rate:  (0.130123093280988, 0.056317369351043985)\n",
      "lamb1:  10 , lamb2:  10\n",
      "avg_length:  (17.941597990110576, 0.7638043478796109)\n",
      "suc_rate:  (0.11605304497180927, 0.05350495224927179)\n",
      "lamb1:  10 , lamb2:  30\n",
      "avg_length:  (18.046642249817307, 0.6555516726959588)\n",
      "suc_rate:  (0.11217942050321911, 0.04455396819819559)\n",
      "lamb1:  10 , lamb2:  50\n",
      "avg_length:  (18.109097843422784, 0.7524317893603912)\n",
      "suc_rate:  (0.08486110888856885, 0.045476634916676306)\n",
      "lamb1:  10 , lamb2:  70\n",
      "avg_length:  (17.811157940076704, 0.7856671972375578)\n",
      "suc_rate:  (0.11367007960257386, 0.04971510724043944)\n",
      "lamb1:  10 , lamb2:  90\n",
      "avg_length:  (17.95334794877129, 0.8334684829150594)\n",
      "suc_rate:  (0.10806216095117696, 0.05202553219679802)\n",
      "lamb1:  10 , lamb2:  100\n",
      "avg_length:  (18.22771790248907, 0.6298664028840203)\n",
      "suc_rate:  (0.10546683166820466, 0.04498683611082728)\n",
      "lamb1:  10 , lamb2:  1000\n",
      "avg_length:  (18.004662315817917, 0.8166081275982812)\n",
      "suc_rate:  (0.10611292470560205, 0.05128796905597244)\n",
      "lamb1:  30 , lamb2:  0.01\n",
      "avg_length:  (17.965588111354702, 0.7180043292094161)\n",
      "suc_rate:  (0.12213260931796402, 0.05026371020636878)\n",
      "lamb1:  30 , lamb2:  0.1\n",
      "avg_length:  (18.30546389791241, 0.5023865706516106)\n",
      "suc_rate:  (0.10181323888417708, 0.04308654483212396)\n",
      "lamb1:  30 , lamb2:  1\n",
      "avg_length:  (18.016328729114765, 0.6573641926319654)\n",
      "suc_rate:  (0.11554043782304652, 0.04966389344217283)\n",
      "lamb1:  30 , lamb2:  10\n",
      "avg_length:  (17.844655363705705, 0.6232948750479219)\n",
      "suc_rate:  (0.13695434364770748, 0.05309097350447003)\n",
      "lamb1:  30 , lamb2:  30\n",
      "avg_length:  (18.31625680764697, 0.6225938409045657)\n",
      "suc_rate:  (0.1253588739000638, 0.049040633772050146)\n",
      "lamb1:  30 , lamb2:  50\n",
      "avg_length:  (17.976509639610327, 0.6731128173512235)\n",
      "suc_rate:  (0.125612666001682, 0.04860899478373446)\n",
      "lamb1:  30 , lamb2:  70\n",
      "avg_length:  (17.899486814990247, 0.8881874588737948)\n",
      "suc_rate:  (0.11209494167160071, 0.05194753506378718)\n",
      "lamb1:  30 , lamb2:  90\n",
      "avg_length:  (18.06446870571585, 0.6784648803259102)\n",
      "suc_rate:  (0.10474259404465354, 0.0455328489189885)\n",
      "lamb1:  30 , lamb2:  100\n",
      "avg_length:  (17.88758090053857, 0.6226833970757285)\n",
      "suc_rate:  (0.10856218851070111, 0.04284304607785874)\n",
      "lamb1:  30 , lamb2:  1000\n",
      "avg_length:  (17.81726764209602, 0.7018203609411687)\n",
      "suc_rate:  (0.10780121226345482, 0.03869373819115055)\n",
      "lamb1:  50 , lamb2:  0.01\n",
      "avg_length:  (18.031488267643873, 0.7540513413603809)\n",
      "suc_rate:  (0.117537814334153, 0.0555097348285608)\n",
      "lamb1:  50 , lamb2:  0.1\n",
      "avg_length:  (18.035780530174126, 0.6591641071453748)\n",
      "suc_rate:  (0.13862320618613524, 0.05073676551300358)\n",
      "lamb1:  50 , lamb2:  1\n",
      "avg_length:  (18.081108857453252, 0.7451657716954586)\n",
      "suc_rate:  (0.1223442175673297, 0.05509343902452882)\n",
      "lamb1:  50 , lamb2:  10\n",
      "avg_length:  (17.947123274640436, 0.6908536100092565)\n",
      "suc_rate:  (0.1297426384954989, 0.058050230637015574)\n",
      "lamb1:  50 , lamb2:  30\n",
      "avg_length:  (18.07027149687333, 0.678747564212363)\n",
      "suc_rate:  (0.11732538374414804, 0.05257128935028004)\n",
      "lamb1:  50 , lamb2:  50\n",
      "avg_length:  (17.96848448398792, 0.6967751246391631)\n",
      "suc_rate:  (0.10377854411035188, 0.04134359320801091)\n",
      "lamb1:  50 , lamb2:  70\n",
      "avg_length:  (17.973862902924687, 0.6147080277013246)\n",
      "suc_rate:  (0.14062867275109836, 0.05028396317037469)\n",
      "lamb1:  50 , lamb2:  90\n",
      "avg_length:  (17.730907606250856, 0.7733815349919141)\n",
      "suc_rate:  (0.13064839114610283, 0.05154888279353595)\n",
      "lamb1:  50 , lamb2:  100\n",
      "avg_length:  (17.8512554474511, 0.857468027143373)\n",
      "suc_rate:  (0.12289527469733418, 0.05365991963412646)\n",
      "lamb1:  50 , lamb2:  1000\n",
      "avg_length:  (18.048934446560303, 0.6756224088945278)\n",
      "suc_rate:  (0.09798230945256116, 0.04237412487374781)\n",
      "lamb1:  70 , lamb2:  0.01\n",
      "avg_length:  (18.163703395511178, 0.6233252869471725)\n",
      "suc_rate:  (0.1439389494309403, 0.054228281150125325)\n",
      "lamb1:  70 , lamb2:  0.1\n",
      "avg_length:  (18.025075566437117, 0.6284589498338768)\n",
      "suc_rate:  (0.11722490260819782, 0.043700381664327485)\n",
      "lamb1:  70 , lamb2:  1\n",
      "avg_length:  (18.061711419777783, 0.6449564850033755)\n",
      "suc_rate:  (0.12248274862691337, 0.05071690177415674)\n",
      "lamb1:  70 , lamb2:  10\n",
      "avg_length:  (18.24570422585297, 0.6251589181696557)\n",
      "suc_rate:  (0.13380917963297825, 0.05248009658299015)\n",
      "lamb1:  70 , lamb2:  30\n",
      "avg_length:  (18.50733901237334, 0.6341073568873281)\n",
      "suc_rate:  (0.09486290470272163, 0.04704568880254569)\n",
      "lamb1:  70 , lamb2:  50\n"
     ]
    },
    {
     "name": "stdout",
     "output_type": "stream",
     "text": [
      "avg_length:  (18.016153903939944, 0.6962840693861192)\n",
      "suc_rate:  (0.109190501209952, 0.04579595831948261)\n",
      "lamb1:  70 , lamb2:  70\n",
      "avg_length:  (18.101567336807612, 0.7238223931272895)\n",
      "suc_rate:  (0.11016430810481155, 0.05105977161608013)\n",
      "lamb1:  70 , lamb2:  90\n",
      "avg_length:  (17.781334223239263, 0.7800011322126464)\n",
      "suc_rate:  (0.12689725098191917, 0.04968968303412761)\n",
      "lamb1:  70 , lamb2:  100\n",
      "avg_length:  (17.842703771565326, 0.6678116227885134)\n",
      "suc_rate:  (0.13246460823691944, 0.04467765276546106)\n",
      "lamb1:  70 , lamb2:  1000\n",
      "avg_length:  (18.033860453683108, 0.8346153051102503)\n",
      "suc_rate:  (0.09689955353570913, 0.05198162511461601)\n",
      "lamb1:  90 , lamb2:  0.01\n",
      "avg_length:  (18.02657298206497, 0.7607977254847429)\n",
      "suc_rate:  (0.13646702902995808, 0.05368547883910841)\n",
      "lamb1:  90 , lamb2:  0.1\n",
      "avg_length:  (18.21464748701591, 0.6031432296051684)\n",
      "suc_rate:  (0.14151164434345212, 0.04882544358975456)\n",
      "lamb1:  90 , lamb2:  1\n",
      "avg_length:  (17.615287890345094, 0.830492822364516)\n",
      "suc_rate:  (0.14614406696786558, 0.05768123562437478)\n",
      "lamb1:  90 , lamb2:  10\n",
      "avg_length:  (18.293863827502268, 0.6015123201220386)\n",
      "suc_rate:  (0.10924417560573167, 0.046612769667533235)\n",
      "lamb1:  90 , lamb2:  30\n",
      "avg_length:  (18.02803741516556, 0.7821004733622798)\n",
      "suc_rate:  (0.13656919929803224, 0.05792260690191732)\n",
      "lamb1:  90 , lamb2:  50\n",
      "avg_length:  (18.050699923011134, 0.6789290550421075)\n",
      "suc_rate:  (0.11649517530524393, 0.05313346897821857)\n",
      "lamb1:  90 , lamb2:  70\n",
      "avg_length:  (18.26695297456167, 0.6321718807856337)\n",
      "suc_rate:  (0.09378437161617939, 0.0483504324495737)\n",
      "lamb1:  90 , lamb2:  90\n",
      "avg_length:  (17.870798417194298, 0.6447533724544474)\n",
      "suc_rate:  (0.1296594265129734, 0.04855609274555834)\n",
      "lamb1:  90 , lamb2:  100\n",
      "avg_length:  (17.902141019417908, 0.8415335803044574)\n",
      "suc_rate:  (0.1280906450528876, 0.0576614184333389)\n",
      "lamb1:  90 , lamb2:  1000\n",
      "avg_length:  (18.082352881037092, 0.8401713674301534)\n",
      "suc_rate:  (0.11139901923654782, 0.05397026091260365)\n",
      "lamb1:  100 , lamb2:  0.01\n",
      "avg_length:  (18.000475001733584, 0.726732221407946)\n",
      "suc_rate:  (0.137075983386052, 0.049343014706307364)\n",
      "lamb1:  100 , lamb2:  0.1\n",
      "avg_length:  (17.956431948422793, 0.8044916633238538)\n",
      "suc_rate:  (0.11659652323267884, 0.05494306177819887)\n",
      "lamb1:  100 , lamb2:  1\n",
      "avg_length:  (18.309399842466203, 0.6856239059465995)\n",
      "suc_rate:  (0.11238636141382136, 0.05031887368969806)\n",
      "lamb1:  100 , lamb2:  10\n",
      "avg_length:  (17.846208831849562, 0.6979403876537928)\n",
      "suc_rate:  (0.13905313476251688, 0.05535321392441728)\n",
      "lamb1:  100 , lamb2:  30\n",
      "avg_length:  (18.117922691978755, 0.6206537756381537)\n",
      "suc_rate:  (0.12939003216463169, 0.0523165630080333)\n",
      "lamb1:  100 , lamb2:  50\n",
      "avg_length:  (18.19113472340017, 0.7604900262629386)\n",
      "suc_rate:  (0.10138331030779543, 0.04757754897936308)\n",
      "lamb1:  100 , lamb2:  70\n",
      "avg_length:  (17.80749783524383, 0.7448125466055762)\n",
      "suc_rate:  (0.12151656505203418, 0.05320091042631032)\n",
      "lamb1:  100 , lamb2:  90\n",
      "avg_length:  (18.013138780873334, 0.6683414638010405)\n",
      "suc_rate:  (0.11938910314196356, 0.05102724046130315)\n",
      "lamb1:  100 , lamb2:  100\n",
      "avg_length:  (17.826909163808477, 0.7281092818960108)\n",
      "suc_rate:  (0.14011639898367587, 0.05108602513752912)\n",
      "lamb1:  100 , lamb2:  1000\n",
      "avg_length:  (17.809388907558244, 0.7455482364575418)\n",
      "suc_rate:  (0.12618954907284424, 0.04733116929451518)\n",
      "lamb1:  1000 , lamb2:  0.01\n",
      "avg_length:  (18.207441427121065, 0.7266708505271142)\n",
      "suc_rate:  (0.10793589832491433, 0.05405373480561947)\n",
      "lamb1:  1000 , lamb2:  0.1\n",
      "avg_length:  (18.300484158607727, 0.7175566656980934)\n",
      "suc_rate:  (0.10653267403839485, 0.05542972770356667)\n",
      "lamb1:  1000 , lamb2:  1\n",
      "avg_length:  (18.024529576703493, 0.7649675757747985)\n",
      "suc_rate:  (0.14158803312121387, 0.051051715818915794)\n",
      "lamb1:  1000 , lamb2:  10\n",
      "avg_length:  (18.140748089947174, 0.6838928646272522)\n",
      "suc_rate:  (0.12075516652175688, 0.05421230620996968)\n",
      "lamb1:  1000 , lamb2:  30\n",
      "avg_length:  (18.040555640012165, 0.6432361803378386)\n",
      "suc_rate:  (0.13481463552973852, 0.05457290909342475)\n",
      "lamb1:  1000 , lamb2:  50\n",
      "avg_length:  (17.776530175900888, 0.9183391593970247)\n",
      "suc_rate:  (0.12882961813167765, 0.06354495056026481)\n",
      "lamb1:  1000 , lamb2:  70\n",
      "avg_length:  (18.11107428358572, 0.5665721509224241)\n",
      "suc_rate:  (0.10940799919632871, 0.04109133738962565)\n",
      "lamb1:  1000 , lamb2:  90\n",
      "avg_length:  (17.781945000080007, 0.7711459557172338)\n",
      "suc_rate:  (0.13841037553852198, 0.05885867479509557)\n",
      "lamb1:  1000 , lamb2:  100\n",
      "avg_length:  (17.86028541443301, 0.6011332018685374)\n",
      "suc_rate:  (0.14045722584052103, 0.052313283490795344)\n",
      "lamb1:  1000 , lamb2:  1000\n",
      "avg_length:  (17.98383713921471, 0.6652239370703283)\n",
      "suc_rate:  (0.13332862154372452, 0.04728421279003326)\n"
     ]
    }
   ],
   "source": [
    "table_path = '../tables/critiquing/tuning_random/'\n",
    "for lamb1 in lambs:\n",
    "    for lamb2 in lambs:\n",
    "        \n",
    "        name = 'lamb1_'+ str(lamb1)+'_lamb2_' + str(lamb2) + '_test.csv'\n",
    "        df = load_dataframe_csv(table_path,name)\n",
    "    \n",
    "        print ('lamb1: ',lamb1, \", lamb2: \",lamb2)\n",
    "        print ('avg_length: ',get_average_length(df,20))\n",
    "        print ('suc_rate: ',get_success_rate(df,20))"
   ]
  },
  {
   "cell_type": "code",
   "execution_count": 19,
   "metadata": {
    "scrolled": true
   },
   "outputs": [
    {
     "name": "stdout",
     "output_type": "stream",
     "text": [
      "lamb1:  10 , lamb2:  0.1\n",
      "avg_length:  (17.898694034163142, 0.8034898432804136)\n",
      "suc_rate:  (0.14631298018025704, 0.058484179397079165)\n"
     ]
    }
   ],
   "source": [
    "# Best lambda values given largest success rate and performance\n",
    "\n",
    "highest = 0\n",
    "for lamb1 in lambs:\n",
    "    for lamb2 in lambs:\n",
    "        \n",
    "        name = 'lamb1_'+ str(lamb1)+'_lamb2_' + str(lamb2) + '_test.csv'\n",
    "        df = load_dataframe_csv(table_path,name)\n",
    "        \n",
    "        sr = get_success_rate(df,20)[0]\n",
    "        if sr > highest:\n",
    "            index = (lamb1,lamb2)\n",
    "            highest = sr\n",
    "name = 'lamb1_'+ str(index[0])+'_lamb2_' + str(index[1]) + '_test.csv'\n",
    "df = load_dataframe_csv(table_path,name)\n",
    "print ('lamb1: ',index[0], \", lamb2: \",index[1])\n",
    "print ('avg_length: ',get_average_length(df,20))\n",
    "print ('suc_rate: ',get_success_rate(df,20))"
   ]
  },
  {
   "cell_type": "code",
   "execution_count": 27,
   "metadata": {},
   "outputs": [
    {
     "name": "stdout",
     "output_type": "stream",
     "text": [
      "lamb1:  30 , lamb2:  1\n",
      "avg_length:  (16.34818351620411, 0.8906851183220629)\n",
      "suc_rate:  (0.25936654878302473, 0.08291712703103085)\n"
     ]
    }
   ],
   "source": [
    "# Best lambda values given largest success rate and performance at top50\n",
    "\n",
    "highest = 0\n",
    "for lamb1 in lambs:\n",
    "    for lamb2 in lambs:\n",
    "        \n",
    "        name = 'lamb1_'+ str(lamb1)+'_lamb2_' + str(lamb2) + '_test.csv'\n",
    "        df = load_dataframe_csv(table_path,name)\n",
    "        \n",
    "        sr = get_success_rate(df,50)[0]\n",
    "        if sr > highest:\n",
    "            index = (lamb1,lamb2)\n",
    "            highest = sr\n",
    "name = 'lamb1_'+ str(index[0])+'_lamb2_' + str(index[1]) + '_test.csv'\n",
    "df = load_dataframe_csv(table_path,name)\n",
    "print ('lamb1: ',index[0], \", lamb2: \",index[1])\n",
    "print ('avg_length: ',get_average_length(df,50))\n",
    "print ('suc_rate: ',get_success_rate(df,50))"
   ]
  },
  {
   "cell_type": "code",
   "execution_count": 23,
   "metadata": {},
   "outputs": [
    {
     "name": "stdout",
     "output_type": "stream",
     "text": [
      "avg_length:  (17.948449465611933, 0.7559111488630073)\n",
      "suc_rate:  (0.09899114361356923, 0.047233394015732476)\n"
     ]
    }
   ],
   "source": [
    "# Avg performance\n",
    "\n",
    "table_path = '../tables/critiquing/multi_step_critiquing/yelp/avg/'\n",
    "name = 'random_25user.csv'\n",
    "df = load_dataframe_csv(table_path,name)\n",
    "print ('avg_length: ',get_average_length(df,20))\n",
    "print ('suc_rate: ',get_success_rate(df,20))"
   ]
  },
  {
   "cell_type": "code",
   "execution_count": 28,
   "metadata": {},
   "outputs": [
    {
     "name": "stdout",
     "output_type": "stream",
     "text": [
      "avg_length:  (16.89367644496363, 0.888253318488126)\n",
      "suc_rate:  (0.17540319139289384, 0.05360965785435396)\n"
     ]
    }
   ],
   "source": [
    "# Avg performance\n",
    "\n",
    "table_path = '../tables/critiquing/multi_step_critiquing/yelp/avg/'\n",
    "name = 'random_25user.csv'\n",
    "df = load_dataframe_csv(table_path,name)\n",
    "print ('avg_length: ',get_average_length(df,50))\n",
    "print ('suc_rate: ',get_success_rate(df,50))"
   ]
  },
  {
   "cell_type": "markdown",
   "metadata": {},
   "source": [
    "# Sat Evening Experiment of RankSVM3"
   ]
  },
  {
   "cell_type": "code",
   "execution_count": 12,
   "metadata": {},
   "outputs": [],
   "source": [
    "lambs = [0.01,0.1,1,10,30,50,70,90,100,1000]"
   ]
  },
  {
   "cell_type": "code",
   "execution_count": 33,
   "metadata": {
    "scrolled": true
   },
   "outputs": [
    {
     "name": "stdout",
     "output_type": "stream",
     "text": [
      "lamb:  0.01\n",
      "avg_length:  (17.809496989788748, 0.7273036855837584)\n",
      "suc_rate:  (0.11455434026944322, 0.04442104763315606)\n",
      "lamb:  0.1\n",
      "avg_length:  (17.769271664008503, 0.715248531301992)\n",
      "suc_rate:  (0.14043520044664207, 0.05417576844059579)\n",
      "lamb:  1\n",
      "avg_length:  (17.835797510397054, 0.7455951674433285)\n",
      "suc_rate:  (0.12501978062618796, 0.05561369985319594)\n",
      "lamb:  10\n",
      "avg_length:  (17.705078620210198, 0.7592800959477547)\n",
      "suc_rate:  (0.14682565400528785, 0.04964228858559208)\n",
      "lamb:  30\n",
      "avg_length:  (17.67785947843156, 0.6078276736393621)\n",
      "suc_rate:  (0.1519686168141546, 0.05463446719234482)\n",
      "lamb:  50\n",
      "avg_length:  (18.009633364982335, 0.6747669600741912)\n",
      "suc_rate:  (0.12681028290296026, 0.05147825904053108)\n",
      "lamb:  70\n",
      "avg_length:  (17.774711958522026, 0.695895915233447)\n",
      "suc_rate:  (0.12284546752510138, 0.04613755773487017)\n",
      "lamb:  90\n",
      "avg_length:  (17.84569986967012, 0.6982131959074807)\n",
      "suc_rate:  (0.1326073843522356, 0.05156377807481029)\n",
      "lamb:  100\n",
      "avg_length:  (17.731335534539195, 0.8674751156511765)\n",
      "suc_rate:  (0.13286962211447337, 0.05972234594888111)\n",
      "lamb:  1000\n",
      "avg_length:  (17.950778645458282, 0.7068961946879752)\n",
      "suc_rate:  (0.13406806135639088, 0.049203673071691566)\n"
     ]
    }
   ],
   "source": [
    "table_path = '../tables/critiquing/tuning_ranksvm3/'\n",
    "for lamb in lambs:\n",
    "        \n",
    "    name = 'lamb_'+ str(lamb) +'_test.csv'\n",
    "    df = load_dataframe_csv(table_path,name)\n",
    "\n",
    "    print ('lamb: ',lamb)\n",
    "    print ('avg_length: ',get_average_length(df,20))\n",
    "    print ('suc_rate: ',get_success_rate(df,20))"
   ]
  },
  {
   "cell_type": "code",
   "execution_count": 14,
   "metadata": {
    "scrolled": true
   },
   "outputs": [
    {
     "name": "stdout",
     "output_type": "stream",
     "text": [
      "lamb:  0.01\n",
      "avg_length:  (16.32087618394826, 0.9161347007028843)\n",
      "suc_rate:  (0.21874634391796863, 0.05709411466005028)\n",
      "lamb:  0.1\n",
      "avg_length:  (16.796223678431915, 1.0873371934568796)\n",
      "suc_rate:  (0.18770474059375658, 0.0675342268662083)\n",
      "lamb:  1\n",
      "avg_length:  (16.537390228637367, 0.9230326205277359)\n",
      "suc_rate:  (0.23198322780702638, 0.06296149194601566)\n",
      "lamb:  10\n",
      "avg_length:  (16.206520761211838, 0.9382716857255727)\n",
      "suc_rate:  (0.24846277864012417, 0.0707159394290006)\n",
      "lamb:  30\n",
      "avg_length:  (16.18064836892068, 1.1593800472160827)\n",
      "suc_rate:  (0.22908421034851242, 0.07910858254972869)\n",
      "lamb:  50\n",
      "avg_length:  (16.31759119979944, 1.0237276277714125)\n",
      "suc_rate:  (0.23895552070609274, 0.07894425859691025)\n",
      "lamb:  70\n",
      "avg_length:  (16.58795791038354, 0.8874907767478744)\n",
      "suc_rate:  (0.24099808150151397, 0.06317103231497095)\n",
      "lamb:  90\n",
      "avg_length:  (16.378949257581983, 1.009452076148892)\n",
      "suc_rate:  (0.25988304538075707, 0.0880003856369011)\n",
      "lamb:  100\n",
      "avg_length:  (16.06972397358553, 0.92497825288634)\n",
      "suc_rate:  (0.2632389064025219, 0.06923845185767717)\n",
      "lamb:  1000\n",
      "avg_length:  (16.048040828990484, 1.082613969672299)\n",
      "suc_rate:  (0.2809595915145114, 0.08067356529141455)\n"
     ]
    }
   ],
   "source": [
    "table_path = '../tables/critiquing/tuning_ranksvm3_random/'\n",
    "for lamb in lambs:\n",
    "        \n",
    "    name = 'lamb_'+ str(lamb) +'_test.csv'\n",
    "    df = load_dataframe_csv(table_path,name)\n",
    "\n",
    "    print ('lamb: ',lamb)\n",
    "    print ('avg_length: ',get_average_length(df,50))\n",
    "    print ('suc_rate: ',get_success_rate(df,50))"
   ]
  },
  {
   "cell_type": "markdown",
   "metadata": {},
   "source": [
    "### Rating Objective"
   ]
  },
  {
   "cell_type": "code",
   "execution_count": 34,
   "metadata": {},
   "outputs": [
    {
     "name": "stdout",
     "output_type": "stream",
     "text": [
      "avg_length:  (18.046238658366807, 0.6537610235094382)\n",
      "suc_rate:  (0.09284945921101527, 0.04132267842400911)\n"
     ]
    }
   ],
   "source": [
    "# Random \n",
    "table_path = '../tables/critiquing/multi_step_critiquing/yelp/rating/'\n",
    "name = 'rating_25user_random.csv'\n",
    "df = load_dataframe_csv(table_path,name)\n",
    "print ('avg_length: ',get_average_length(df,20))\n",
    "print ('suc_rate: ',get_success_rate(df,20))"
   ]
  },
  {
   "cell_type": "code",
   "execution_count": 6,
   "metadata": {},
   "outputs": [
    {
     "name": "stdout",
     "output_type": "stream",
     "text": [
      "avg_length:  (16.97611720532201, 0.9325394144433178)\n",
      "suc_rate:  (0.16807151340904203, 0.06538446733950773)\n"
     ]
    }
   ],
   "source": [
    "# Random \n",
    "table_path = '../tables/critiquing/multi_step_critiquing/yelp/rating/'\n",
    "name = 'rating_25user_random.csv'\n",
    "df = load_dataframe_csv(table_path,name)\n",
    "print ('avg_length: ',get_average_length(df,50))\n",
    "print ('suc_rate: ',get_success_rate(df,50))"
   ]
  },
  {
   "cell_type": "code",
   "execution_count": 35,
   "metadata": {},
   "outputs": [
    {
     "name": "stdout",
     "output_type": "stream",
     "text": [
      "avg_length:  (17.309917196594828, 0.8586851028916351)\n",
      "suc_rate:  (0.16062944730707887, 0.04913946934691592)\n"
     ]
    }
   ],
   "source": [
    "# Diff\n",
    "table_path = '../tables/critiquing/multi_step_critiquing/yelp/rating/'\n",
    "name = 'rating_25user_diff.csv'\n",
    "df = load_dataframe_csv(table_path,name)\n",
    "print ('avg_length: ',get_average_length(df,20))\n",
    "print ('suc_rate: ',get_success_rate(df,20))"
   ]
  },
  {
   "cell_type": "code",
   "execution_count": 7,
   "metadata": {},
   "outputs": [
    {
     "name": "stdout",
     "output_type": "stream",
     "text": [
      "avg_length:  (15.254113929442875, 1.2300913081943443)\n",
      "suc_rate:  (0.2808759192805245, 0.0691376397808046)\n"
     ]
    }
   ],
   "source": [
    "# Diff\n",
    "table_path = '../tables/critiquing/multi_step_critiquing/yelp/rating/'\n",
    "name = 'rating_25user_diff.csv'\n",
    "df = load_dataframe_csv(table_path,name)\n",
    "print ('avg_length: ',get_average_length(df,50))\n",
    "print ('suc_rate: ',get_success_rate(df,50))"
   ]
  },
  {
   "cell_type": "markdown",
   "metadata": {},
   "source": [
    "# RankSVM3 single lambda for Diff"
   ]
  },
  {
   "cell_type": "code",
   "execution_count": 36,
   "metadata": {
    "scrolled": true
   },
   "outputs": [
    {
     "name": "stdout",
     "output_type": "stream",
     "text": [
      "lamb:  0.01\n",
      "avg_length:  (16.588793063052933, 1.0060076162398666)\n",
      "suc_rate:  (0.22358957745470906, 0.05741935756618009)\n",
      "lamb:  0.1\n",
      "avg_length:  (16.359719048617077, 0.9790634002376569)\n",
      "suc_rate:  (0.23574761617524778, 0.05466027265238925)\n",
      "lamb:  1\n",
      "avg_length:  (16.365770858040595, 0.9579935029814082)\n",
      "suc_rate:  (0.2584028331561226, 0.06636988944816283)\n",
      "lamb:  10\n",
      "avg_length:  (16.724807091665642, 0.9270117548476825)\n",
      "suc_rate:  (0.20520784344797502, 0.05684771980682749)\n",
      "lamb:  30\n",
      "avg_length:  (16.62498743337559, 0.9576677018603679)\n",
      "suc_rate:  (0.22889343843291213, 0.06472245926438955)\n",
      "lamb:  50\n",
      "avg_length:  (16.69099290390409, 0.9652684009260489)\n",
      "suc_rate:  (0.21172493746506904, 0.060671140360066066)\n",
      "lamb:  70\n",
      "avg_length:  (16.83202467914639, 0.9454185759492753)\n",
      "suc_rate:  (0.19808652908981852, 0.054099444325286586)\n",
      "lamb:  90\n",
      "avg_length:  (16.902942528353712, 1.004923772954367)\n",
      "suc_rate:  (0.20647046971060126, 0.06026247234340568)\n",
      "lamb:  100\n",
      "avg_length:  (16.942427117838303, 1.002010925345077)\n",
      "suc_rate:  (0.19446904520917677, 0.05778881807107767)\n",
      "lamb:  1000\n",
      "avg_length:  (16.898581973581972, 0.9951151084937001)\n",
      "suc_rate:  (0.20752830259409205, 0.06677063861324493)\n"
     ]
    }
   ],
   "source": [
    "lambs = [0.01,0.1,1,10,30,50,70,90,100,1000]\n",
    "table_path = '../tables/critiquing/tuning_ranksvm3_diff/'\n",
    "for lamb in lambs:\n",
    "        \n",
    "    name = 'lamb_'+ str(lamb) +'_test.csv'\n",
    "    df = load_dataframe_csv(table_path,name)\n",
    "\n",
    "    print ('lamb: ',lamb)\n",
    "    print ('avg_length: ',get_average_length(df,20))\n",
    "    print ('suc_rate: ',get_success_rate(df,20))"
   ]
  },
  {
   "cell_type": "code",
   "execution_count": 16,
   "metadata": {
    "scrolled": true
   },
   "outputs": [
    {
     "name": "stdout",
     "output_type": "stream",
     "text": [
      "lamb:  0.01\n",
      "avg_length:  (14.140220716783217, 1.3534970826611041)\n",
      "suc_rate:  (0.3799492052781526, 0.08345913439203766)\n",
      "lamb:  0.1\n",
      "avg_length:  (13.841428646280619, 1.3563531210824116)\n",
      "suc_rate:  (0.39662473247999563, 0.08325819085212377)\n",
      "lamb:  1\n",
      "avg_length:  (14.308813293188294, 1.3032345766642393)\n",
      "suc_rate:  (0.3748545679466732, 0.08039917443195378)\n",
      "lamb:  10\n",
      "avg_length:  (14.868009719325508, 1.2868939537173238)\n",
      "suc_rate:  (0.32164705421284373, 0.07988259286722449)\n",
      "lamb:  30\n",
      "avg_length:  (14.866978872735451, 1.2703526006583539)\n",
      "suc_rate:  (0.33982887239466186, 0.0762722874650088)\n",
      "lamb:  50\n",
      "avg_length:  (14.854994168234299, 1.3311357506195984)\n",
      "suc_rate:  (0.3458752930792404, 0.0750673769510871)\n",
      "lamb:  70\n",
      "avg_length:  (14.876948529662345, 1.3323235560861386)\n",
      "suc_rate:  (0.34986630389590917, 0.07517174886456349)\n",
      "lamb:  90\n",
      "avg_length:  (14.84345570669584, 1.2859681935284772)\n",
      "suc_rate:  (0.3365957781253834, 0.07641251065629355)\n",
      "lamb:  100\n",
      "avg_length:  (14.816940555180686, 1.2868469357510524)\n",
      "suc_rate:  (0.3416462831758884, 0.07619065909187059)\n",
      "lamb:  1000\n",
      "avg_length:  (14.944131450299215, 1.3170597639262294)\n",
      "suc_rate:  (0.3297958072629125, 0.08129977547543467)\n"
     ]
    }
   ],
   "source": [
    "lambs = [0.01,0.1,1,10,30,50,70,90,100,1000]\n",
    "table_path = '../tables/critiquing/tuning_ranksvm3_diff/'\n",
    "for lamb in lambs:\n",
    "        \n",
    "    name = 'lamb_'+ str(lamb) +'_test.csv'\n",
    "    df = load_dataframe_csv(table_path,name)\n",
    "\n",
    "    print ('lamb: ',lamb)\n",
    "    print ('avg_length: ',get_average_length(df,50))\n",
    "    print ('suc_rate: ',get_success_rate(df,50))"
   ]
  },
  {
   "cell_type": "markdown",
   "metadata": {},
   "source": [
    "## RankSVM3 2D lambda for diff"
   ]
  },
  {
   "cell_type": "code",
   "execution_count": 37,
   "metadata": {
    "scrolled": true
   },
   "outputs": [
    {
     "name": "stdout",
     "output_type": "stream",
     "text": [
      "lamb1:  0.01 , lamb2:  0.01\n",
      "avg_length:  (16.365770858040595, 0.9579935029814082)\n",
      "suc_rate:  (0.2584028331561226, 0.06636988944816283)\n",
      "lamb1:  0.01 , lamb2:  0.1\n",
      "avg_length:  (16.724807091665642, 0.9270117548476825)\n",
      "suc_rate:  (0.20520784344797502, 0.05684771980682749)\n",
      "lamb1:  0.01 , lamb2:  1\n",
      "avg_length:  (16.942427117838303, 1.002010925345077)\n",
      "suc_rate:  (0.19446904520917677, 0.05778881807107767)\n",
      "lamb1:  0.01 , lamb2:  10\n",
      "avg_length:  (16.898581973581972, 0.9951151084937001)\n",
      "suc_rate:  (0.20752830259409205, 0.06677063861324493)\n",
      "lamb1:  0.01 , lamb2:  30\n",
      "avg_length:  (16.87863895363895, 1.0065033278214415)\n",
      "suc_rate:  (0.20213019193282347, 0.06550446515425662)\n",
      "lamb1:  0.01 , lamb2:  50\n",
      "avg_length:  (16.87863895363895, 1.0065033278214415)\n",
      "suc_rate:  (0.20213019193282347, 0.06550446515425662)\n",
      "lamb1:  0.01 , lamb2:  70\n",
      "avg_length:  (16.87863895363895, 1.0065033278214415)\n",
      "suc_rate:  (0.20213019193282347, 0.06550446515425662)\n",
      "lamb1:  0.01 , lamb2:  90\n",
      "avg_length:  (16.880831936095092, 1.006554447198516)\n",
      "suc_rate:  (0.19993720947668314, 0.06559455473296064)\n",
      "lamb1:  0.01 , lamb2:  100\n",
      "avg_length:  (16.880831936095092, 1.006554447198516)\n",
      "suc_rate:  (0.19993720947668314, 0.06559455473296064)\n",
      "lamb1:  0.01 , lamb2:  1000\n",
      "avg_length:  (16.93175786202102, 0.9841176044276608)\n",
      "suc_rate:  (0.19530757984705352, 0.06339692244622742)\n",
      "lamb1:  0.1 , lamb2:  0.01\n",
      "avg_length:  (16.359719048617077, 0.9790634002376569)\n",
      "suc_rate:  (0.23574761617524778, 0.05466027265238925)\n",
      "lamb1:  0.1 , lamb2:  0.1\n",
      "avg_length:  (16.365770858040595, 0.9579935029814082)\n",
      "suc_rate:  (0.2584028331561226, 0.06636988944816283)\n",
      "lamb1:  0.1 , lamb2:  1\n",
      "avg_length:  (16.724807091665642, 0.9270117548476825)\n",
      "suc_rate:  (0.20520784344797502, 0.05684771980682749)\n",
      "lamb1:  0.1 , lamb2:  10\n",
      "avg_length:  (16.942427117838303, 1.002010925345077)\n",
      "suc_rate:  (0.19446904520917677, 0.05778881807107767)\n",
      "lamb1:  0.1 , lamb2:  30\n",
      "avg_length:  (16.943953174627513, 0.9521157204411018)\n",
      "suc_rate:  (0.1952310512343407, 0.05789643678376086)\n",
      "lamb1:  0.1 , lamb2:  50\n",
      "avg_length:  (16.891882365319866, 0.9887235015684995)\n",
      "suc_rate:  (0.2041556548957865, 0.06328852960349918)\n",
      "lamb1:  0.1 , lamb2:  70\n",
      "avg_length:  (16.882556332556334, 0.996992605710415)\n",
      "suc_rate:  (0.20213019193282353, 0.0642882437301248)\n",
      "lamb1:  0.1 , lamb2:  90\n",
      "avg_length:  (16.924222999223, 0.9807832115871667)\n",
      "suc_rate:  (0.20213019193282353, 0.0642882437301248)\n",
      "lamb1:  0.1 , lamb2:  100\n",
      "avg_length:  (16.898581973581972, 0.9951151084937001)\n",
      "suc_rate:  (0.20752830259409205, 0.06677063861324493)\n",
      "lamb1:  0.1 , lamb2:  1000\n",
      "avg_length:  (16.880831936095092, 1.006554447198516)\n",
      "suc_rate:  (0.19993720947668314, 0.06559455473296064)\n",
      "lamb1:  1 , lamb2:  0.01\n",
      "avg_length:  (16.588793063052933, 1.0060076162398666)\n",
      "suc_rate:  (0.22358957745470906, 0.05741935756618009)\n",
      "lamb1:  1 , lamb2:  0.1\n",
      "avg_length:  (16.359719048617077, 0.9790634002376569)\n",
      "suc_rate:  (0.23574761617524778, 0.05466027265238925)\n",
      "lamb1:  1 , lamb2:  1\n",
      "avg_length:  (16.365770858040595, 0.9579935029814082)\n",
      "suc_rate:  (0.2584028331561226, 0.06636988944816283)\n",
      "lamb1:  1 , lamb2:  10\n",
      "avg_length:  (16.724807091665642, 0.9270117548476825)\n",
      "suc_rate:  (0.20520784344797502, 0.05684771980682749)\n",
      "lamb1:  1 , lamb2:  30\n",
      "avg_length:  (16.62498743337559, 0.9576677018603679)\n",
      "suc_rate:  (0.22889343843291213, 0.06472245926438955)\n",
      "lamb1:  1 , lamb2:  50\n",
      "avg_length:  (16.69099290390409, 0.9652684009260489)\n",
      "suc_rate:  (0.21172493746506904, 0.060671140360066066)\n",
      "lamb1:  1 , lamb2:  70\n",
      "avg_length:  (16.83202467914639, 0.9454185759492753)\n",
      "suc_rate:  (0.19808652908981852, 0.054099444325286586)\n",
      "lamb1:  1 , lamb2:  90\n",
      "avg_length:  (16.902942528353712, 1.004923772954367)\n",
      "suc_rate:  (0.20647046971060126, 0.06026247234340568)\n",
      "lamb1:  1 , lamb2:  100\n",
      "avg_length:  (16.942427117838303, 1.002010925345077)\n",
      "suc_rate:  (0.19446904520917677, 0.05778881807107767)\n",
      "lamb1:  1 , lamb2:  1000\n",
      "avg_length:  (16.898581973581972, 0.9951151084937001)\n",
      "suc_rate:  (0.20752830259409205, 0.06677063861324493)\n",
      "lamb1:  10 , lamb2:  0.01\n",
      "avg_length:  (16.588793063052933, 1.0060076162398666)\n",
      "suc_rate:  (0.22358957745470906, 0.05741935756618009)\n",
      "lamb1:  10 , lamb2:  0.1\n",
      "avg_length:  (16.588793063052933, 1.0060076162398666)\n",
      "suc_rate:  (0.22358957745470906, 0.05741935756618009)\n",
      "lamb1:  10 , lamb2:  1\n",
      "avg_length:  (16.359719048617077, 0.9790634002376569)\n",
      "suc_rate:  (0.23574761617524778, 0.05466027265238925)\n",
      "lamb1:  10 , lamb2:  10\n",
      "avg_length:  (16.365770858040595, 0.9579935029814082)\n",
      "suc_rate:  (0.2584028331561226, 0.06636988944816283)\n",
      "lamb1:  10 , lamb2:  30\n",
      "avg_length:  (16.40693098324677, 1.0647470304410545)\n",
      "suc_rate:  (0.23961440910454068, 0.07043735496620969)\n",
      "lamb1:  10 , lamb2:  50\n",
      "avg_length:  (16.590944596947885, 0.990862816566488)\n",
      "suc_rate:  (0.2288149076800393, 0.060598156736853794)\n",
      "lamb1:  10 , lamb2:  70\n",
      "avg_length:  (16.590386787919684, 1.0379405715768328)\n",
      "suc_rate:  (0.21909268545781702, 0.062402540510151934)\n",
      "lamb1:  10 , lamb2:  90\n",
      "avg_length:  (16.673430343413894, 0.9310027634430796)\n",
      "suc_rate:  (0.22235730278493437, 0.05725273968670538)\n",
      "lamb1:  10 , lamb2:  100\n",
      "avg_length:  (16.724807091665642, 0.9270117548476825)\n",
      "suc_rate:  (0.20520784344797502, 0.05684771980682749)\n",
      "lamb1:  10 , lamb2:  1000\n",
      "avg_length:  (16.942427117838303, 1.002010925345077)\n",
      "suc_rate:  (0.19446904520917677, 0.05778881807107767)\n",
      "lamb1:  30 , lamb2:  0.01\n",
      "avg_length:  (16.588793063052933, 1.0060076162398666)\n",
      "suc_rate:  (0.22358957745470906, 0.05741935756618009)\n",
      "lamb1:  30 , lamb2:  0.1\n",
      "avg_length:  (16.588793063052933, 1.0060076162398666)\n",
      "suc_rate:  (0.22358957745470906, 0.05741935756618009)\n",
      "lamb1:  30 , lamb2:  1\n",
      "avg_length:  (16.547126396386265, 0.9884885266543961)\n",
      "suc_rate:  (0.22619374412137572, 0.05645929835457212)\n",
      "lamb1:  30 , lamb2:  10\n",
      "avg_length:  (16.228886154050628, 0.981152417576503)\n",
      "suc_rate:  (0.25027872346951296, 0.057210122611987664)\n",
      "lamb1:  30 , lamb2:  30\n",
      "avg_length:  (16.365770858040595, 0.9579935029814082)\n",
      "suc_rate:  (0.2584028331561226, 0.06636988944816283)\n",
      "lamb1:  30 , lamb2:  50\n",
      "avg_length:  (16.38520109580965, 1.037440096181677)\n",
      "suc_rate:  (0.25036899017162173, 0.06938163460313605)\n",
      "lamb1:  30 , lamb2:  70\n",
      "avg_length:  (16.456376965505257, 0.997707378514404)\n",
      "suc_rate:  (0.23460599159612316, 0.061943347216398666)\n",
      "lamb1:  30 , lamb2:  90\n",
      "avg_length:  (16.40693098324677, 1.0647470304410545)\n",
      "suc_rate:  (0.23961440910454068, 0.07043735496620969)\n",
      "lamb1:  30 , lamb2:  100\n",
      "avg_length:  (16.372152509405797, 1.1233763971518387)\n",
      "suc_rate:  (0.24185030977794134, 0.07105307480833183)\n",
      "lamb1:  30 , lamb2:  1000\n",
      "avg_length:  (16.65478541317357, 0.9503311498344547)\n",
      "suc_rate:  (0.22328527344974713, 0.06031867810010089)\n",
      "lamb1:  50 , lamb2:  0.01\n",
      "avg_length:  (16.588793063052933, 1.0060076162398666)\n",
      "suc_rate:  (0.22358957745470906, 0.05741935756618009)\n",
      "lamb1:  50 , lamb2:  0.1\n",
      "avg_length:  (16.588793063052933, 1.0060076162398666)\n",
      "suc_rate:  (0.22358957745470906, 0.05741935756618009)\n",
      "lamb1:  50 , lamb2:  1\n",
      "avg_length:  (16.588793063052933, 1.0060076162398666)\n",
      "suc_rate:  (0.22358957745470906, 0.05741935756618009)\n",
      "lamb1:  50 , lamb2:  10\n",
      "avg_length:  (16.103352903188426, 1.0839486134921483)\n",
      "suc_rate:  (0.2558245878147194, 0.06080100579184092)\n",
      "lamb1:  50 , lamb2:  30\n",
      "avg_length:  (16.061253390858653, 1.0038779239856612)\n",
      "suc_rate:  (0.28280834662413606, 0.07093800923518241)\n",
      "lamb1:  50 , lamb2:  50\n",
      "avg_length:  (16.365770858040595, 0.9579935029814082)\n",
      "suc_rate:  (0.2584028331561226, 0.06636988944816283)\n",
      "lamb1:  50 , lamb2:  70\n",
      "avg_length:  (16.427042694147957, 0.9578586499876601)\n",
      "suc_rate:  (0.24307084849848004, 0.06111602993849344)\n",
      "lamb1:  50 , lamb2:  90\n",
      "avg_length:  (16.310209764650555, 0.9528832393766128)\n",
      "suc_rate:  (0.2662622982524298, 0.06647175518075304)\n",
      "lamb1:  50 , lamb2:  100\n",
      "avg_length:  (16.398717501431317, 1.0182619386993215)\n",
      "suc_rate:  (0.24678545747624692, 0.07006999219368312)\n",
      "lamb1:  50 , lamb2:  1000\n",
      "avg_length:  (16.70411001036001, 0.9127909198781083)\n",
      "suc_rate:  (0.21685030977794137, 0.06007219113175067)\n",
      "lamb1:  70 , lamb2:  0.01\n",
      "avg_length:  (16.588793063052933, 1.0060076162398666)\n",
      "suc_rate:  (0.22358957745470906, 0.05741935756618009)\n",
      "lamb1:  70 , lamb2:  0.1\n",
      "avg_length:  (16.588793063052933, 1.0060076162398666)\n",
      "suc_rate:  (0.22358957745470906, 0.05741935756618009)\n",
      "lamb1:  70 , lamb2:  1\n",
      "avg_length:  (16.588793063052933, 1.0060076162398666)\n",
      "suc_rate:  (0.22358957745470906, 0.05741935756618009)\n",
      "lamb1:  70 , lamb2:  10\n",
      "avg_length:  (16.30645564535367, 1.0065005326027587)\n",
      "suc_rate:  (0.23979449522212679, 0.05673267087391937)\n",
      "lamb1:  70 , lamb2:  30\n",
      "avg_length:  (15.965184976451424, 1.0776377522448775)\n",
      "suc_rate:  (0.279313866567156, 0.06777078018075165)\n",
      "lamb1:  70 , lamb2:  50\n"
     ]
    },
    {
     "name": "stdout",
     "output_type": "stream",
     "text": [
      "avg_length:  (16.168202180373232, 1.0077060193325615)\n",
      "suc_rate:  (0.27397079346092507, 0.06652557163109797)\n",
      "lamb1:  70 , lamb2:  70\n",
      "avg_length:  (16.365770858040595, 0.9579935029814082)\n",
      "suc_rate:  (0.2584028331561226, 0.06636988944816283)\n",
      "lamb1:  70 , lamb2:  90\n",
      "avg_length:  (16.457370857699804, 0.9355672533113849)\n",
      "suc_rate:  (0.2535077282610177, 0.061460830332203065)\n",
      "lamb1:  70 , lamb2:  100\n",
      "avg_length:  (16.502983998214262, 0.9940426135142226)\n",
      "suc_rate:  (0.23052876095639255, 0.06137609549721574)\n",
      "lamb1:  70 , lamb2:  1000\n",
      "avg_length:  (16.664534046606416, 0.9524476061065584)\n",
      "suc_rate:  (0.21947025927289085, 0.0646357201840076)\n",
      "lamb1:  90 , lamb2:  0.01\n",
      "avg_length:  (16.588793063052933, 1.0060076162398666)\n",
      "suc_rate:  (0.22358957745470906, 0.05741935756618009)\n",
      "lamb1:  90 , lamb2:  0.1\n",
      "avg_length:  (16.588793063052933, 1.0060076162398666)\n",
      "suc_rate:  (0.22358957745470906, 0.05741935756618009)\n",
      "lamb1:  90 , lamb2:  1\n",
      "avg_length:  (16.588793063052933, 1.0060076162398666)\n",
      "suc_rate:  (0.22358957745470906, 0.05741935756618009)\n",
      "lamb1:  90 , lamb2:  10\n",
      "avg_length:  (16.340656629554655, 0.9873953140389466)\n",
      "suc_rate:  (0.23705880498643653, 0.05652300813427419)\n",
      "lamb1:  90 , lamb2:  30\n",
      "avg_length:  (16.228886154050628, 0.981152417576503)\n",
      "suc_rate:  (0.25027872346951296, 0.057210122611987664)\n",
      "lamb1:  90 , lamb2:  50\n",
      "avg_length:  (15.935057495501574, 1.0876441953970835)\n",
      "suc_rate:  (0.2816707689240584, 0.06856513758735587)\n",
      "lamb1:  90 , lamb2:  70\n",
      "avg_length:  (16.215609813553893, 1.0236031155346783)\n",
      "suc_rate:  (0.2689194577352472, 0.06911349387320925)\n",
      "lamb1:  90 , lamb2:  90\n",
      "avg_length:  (16.365770858040595, 0.9579935029814082)\n",
      "suc_rate:  (0.2584028331561226, 0.06636988944816283)\n",
      "lamb1:  90 , lamb2:  100\n",
      "avg_length:  (16.29662264514238, 0.9688405715286189)\n",
      "suc_rate:  (0.25557123188702136, 0.06251812076737644)\n",
      "lamb1:  90 , lamb2:  1000\n",
      "avg_length:  (16.78430507418994, 0.9343371211124547)\n",
      "suc_rate:  (0.19775187349200507, 0.057519280733095084)\n",
      "lamb1:  100 , lamb2:  0.01\n",
      "avg_length:  (16.588793063052933, 1.0060076162398666)\n",
      "suc_rate:  (0.22358957745470906, 0.05741935756618009)\n",
      "lamb1:  100 , lamb2:  0.1\n",
      "avg_length:  (16.588793063052933, 1.0060076162398666)\n",
      "suc_rate:  (0.22358957745470906, 0.05741935756618009)\n",
      "lamb1:  100 , lamb2:  1\n",
      "avg_length:  (16.588793063052933, 1.0060076162398666)\n",
      "suc_rate:  (0.22358957745470906, 0.05741935756618009)\n",
      "lamb1:  100 , lamb2:  10\n",
      "avg_length:  (16.359719048617077, 0.9790634002376569)\n",
      "suc_rate:  (0.23574761617524778, 0.05466027265238925)\n",
      "lamb1:  100 , lamb2:  30\n",
      "avg_length:  (16.009970785793154, 1.0486005003695271)\n",
      "suc_rate:  (0.2754268605419921, 0.06306616541151024)\n",
      "lamb1:  100 , lamb2:  50\n",
      "avg_length:  (15.992911273667852, 1.0542245325352295)\n",
      "suc_rate:  (0.27009669484998433, 0.061763532523899704)\n",
      "lamb1:  100 , lamb2:  70\n",
      "avg_length:  (16.127590151685546, 1.0085089939471958)\n",
      "suc_rate:  (0.26980412679425836, 0.06471529450552445)\n",
      "lamb1:  100 , lamb2:  90\n",
      "avg_length:  (16.30484984374787, 0.9881873980071227)\n",
      "suc_rate:  (0.2601175171076487, 0.06519702383805932)\n",
      "lamb1:  100 , lamb2:  100\n",
      "avg_length:  (16.365770858040595, 0.9579935029814082)\n",
      "suc_rate:  (0.2584028331561226, 0.06636988944816283)\n",
      "lamb1:  100 , lamb2:  1000\n",
      "avg_length:  (16.724807091665642, 0.9270117548476825)\n",
      "suc_rate:  (0.20520784344797502, 0.05684771980682749)\n",
      "lamb1:  1000 , lamb2:  0.01\n",
      "avg_length:  (16.588793063052933, 1.0060076162398666)\n",
      "suc_rate:  (0.22358957745470906, 0.05741935756618009)\n",
      "lamb1:  1000 , lamb2:  0.1\n",
      "avg_length:  (16.588793063052933, 1.0060076162398666)\n",
      "suc_rate:  (0.22358957745470906, 0.05741935756618009)\n",
      "lamb1:  1000 , lamb2:  1\n",
      "avg_length:  (16.588793063052933, 1.0060076162398666)\n",
      "suc_rate:  (0.22358957745470906, 0.05741935756618009)\n",
      "lamb1:  1000 , lamb2:  10\n",
      "avg_length:  (16.588793063052933, 1.0060076162398666)\n",
      "suc_rate:  (0.22358957745470906, 0.05741935756618009)\n",
      "lamb1:  1000 , lamb2:  30\n",
      "avg_length:  (16.547126396386265, 0.9884885266543961)\n",
      "suc_rate:  (0.22619374412137572, 0.05645929835457212)\n",
      "lamb1:  1000 , lamb2:  50\n",
      "avg_length:  (16.46409210611513, 0.9860872423834804)\n",
      "suc_rate:  (0.2346954276230592, 0.05767506310591191)\n",
      "lamb1:  1000 , lamb2:  70\n",
      "avg_length:  (16.40576929466732, 0.9808988838586283)\n",
      "suc_rate:  (0.2403772458048774, 0.05666820196088699)\n",
      "lamb1:  1000 , lamb2:  90\n",
      "avg_length:  (16.36526934322987, 0.9770583829024367)\n",
      "suc_rate:  (0.2403772458048774, 0.05666820196088699)\n",
      "lamb1:  1000 , lamb2:  100\n",
      "avg_length:  (16.359719048617077, 0.9790634002376569)\n",
      "suc_rate:  (0.23574761617524778, 0.05466027265238925)\n",
      "lamb1:  1000 , lamb2:  1000\n",
      "avg_length:  (16.365770858040595, 0.9579935029814082)\n",
      "suc_rate:  (0.2584028331561226, 0.06636988944816283)\n"
     ]
    }
   ],
   "source": [
    "table_path = '../tables/critiquing/tuning_ranksvm3_diff/'\n",
    "for lamb1 in lambs:\n",
    "    for lamb2 in lambs:\n",
    "        \n",
    "        name = 'lamb1_'+ str(lamb1)+'_lamb2_' + str(lamb2) + '_test.csv'\n",
    "        df = load_dataframe_csv(table_path,name)\n",
    "    \n",
    "        print ('lamb1: ',lamb1, \", lamb2: \",lamb2)\n",
    "        print ('avg_length: ',get_average_length(df,20))\n",
    "        print ('suc_rate: ',get_success_rate(df,20))"
   ]
  },
  {
   "cell_type": "code",
   "execution_count": 38,
   "metadata": {
    "scrolled": true
   },
   "outputs": [
    {
     "name": "stdout",
     "output_type": "stream",
     "text": [
      "lamb1:  50 , lamb2:  30\n",
      "avg_length:  (16.061253390858653, 1.0038779239856612)\n",
      "suc_rate:  (0.28280834662413606, 0.07093800923518241)\n"
     ]
    }
   ],
   "source": [
    "# Best \n",
    "highest = 0\n",
    "for lamb1 in lambs:\n",
    "    for lamb2 in lambs:\n",
    "        \n",
    "        name = 'lamb1_'+ str(lamb1)+'_lamb2_' + str(lamb2) + '_test.csv'\n",
    "        df = load_dataframe_csv(table_path,name)\n",
    "        \n",
    "        sr = get_success_rate(df,20)[0]\n",
    "        if sr > highest:\n",
    "            index = (lamb1,lamb2)\n",
    "            highest = sr\n",
    "name = 'lamb1_'+ str(index[0])+'_lamb2_' + str(index[1]) + '_test.csv'\n",
    "df = load_dataframe_csv(table_path,name)\n",
    "print ('lamb1: ',index[0], \", lamb2: \",index[1])\n",
    "print ('avg_length: ',get_average_length(df,20))\n",
    "print ('suc_rate: ',get_success_rate(df,20))"
   ]
  },
  {
   "cell_type": "code",
   "execution_count": 17,
   "metadata": {},
   "outputs": [
    {
     "name": "stdout",
     "output_type": "stream",
     "text": [
      "lamb1:  50 , lamb2:  30\n",
      "avg_length:  (14.03633814102564, 1.30260904283099)\n",
      "suc_rate:  (0.3760536795076268, 0.07371147861292143)\n"
     ]
    }
   ],
   "source": [
    "# Best \n",
    "highest = 0\n",
    "for lamb1 in lambs:\n",
    "    for lamb2 in lambs:\n",
    "        \n",
    "        name = 'lamb1_'+ str(lamb1)+'_lamb2_' + str(lamb2) + '_test.csv'\n",
    "        df = load_dataframe_csv(table_path,name)\n",
    "        \n",
    "        sr = get_success_rate(df,20)[0]\n",
    "        if sr > highest:\n",
    "            index = (lamb1,lamb2)\n",
    "            highest = sr\n",
    "name = 'lamb1_'+ str(index[0])+'_lamb2_' + str(index[1]) + '_test.csv'\n",
    "df = load_dataframe_csv(table_path,name)\n",
    "print ('lamb1: ',index[0], \", lamb2: \",index[1])\n",
    "print ('avg_length: ',get_average_length(df,50))\n",
    "print ('suc_rate: ',get_success_rate(df,50))"
   ]
  },
  {
   "cell_type": "markdown",
   "metadata": {},
   "source": [
    "# RandSVM 2d lambda for random"
   ]
  },
  {
   "cell_type": "code",
   "execution_count": 39,
   "metadata": {},
   "outputs": [
    {
     "name": "stdout",
     "output_type": "stream",
     "text": [
      "lamb1:  0.01 , lamb2:  0.01\n",
      "avg_length:  (17.956770908344136, 0.6368476557776691)\n",
      "suc_rate:  (0.11810787420055154, 0.04765795441248264)\n",
      "lamb1:  0.01 , lamb2:  0.1\n",
      "avg_length:  (17.85965699060665, 0.7429917769528366)\n",
      "suc_rate:  (0.1475067743088338, 0.05549736865306147)\n",
      "lamb1:  0.01 , lamb2:  1\n",
      "avg_length:  (17.556867722285343, 0.747538051457003)\n",
      "suc_rate:  (0.14964901612498865, 0.05539782333423902)\n",
      "lamb1:  0.01 , lamb2:  10\n",
      "avg_length:  (17.466532869622114, 0.7474780165111008)\n",
      "suc_rate:  (0.14437303416136366, 0.05352088225207561)\n",
      "lamb1:  0.01 , lamb2:  30\n",
      "avg_length:  (17.844378834996682, 0.7566928765724089)\n",
      "suc_rate:  (0.1391633284081797, 0.05586918691577601)\n",
      "lamb1:  0.01 , lamb2:  50\n",
      "avg_length:  (17.655924519797516, 0.7354524502620451)\n",
      "suc_rate:  (0.13929977027803114, 0.050396919161413624)\n",
      "lamb1:  0.01 , lamb2:  70\n",
      "avg_length:  (17.98652294819343, 0.6367188403111427)\n",
      "suc_rate:  (0.11550449931456798, 0.04572593673175304)\n",
      "lamb1:  0.01 , lamb2:  90\n",
      "avg_length:  (18.039456170577456, 0.6985926266984619)\n",
      "suc_rate:  (0.12387792731042158, 0.05152616029454987)\n",
      "lamb1:  0.01 , lamb2:  100\n",
      "avg_length:  (18.068520867004846, 0.7536066038744035)\n",
      "suc_rate:  (0.1405277248812718, 0.06206786289559403)\n",
      "lamb1:  0.01 , lamb2:  1000\n",
      "avg_length:  (17.499064465283006, 0.8643521671590532)\n",
      "suc_rate:  (0.15020729651736514, 0.05695725459813864)\n",
      "lamb1:  0.1 , lamb2:  0.01\n",
      "avg_length:  (17.855697420428537, 0.6478442341670149)\n",
      "suc_rate:  (0.1251608453839575, 0.04847295282135634)\n",
      "lamb1:  0.1 , lamb2:  0.1\n",
      "avg_length:  (17.50703099024037, 0.7773728918571633)\n",
      "suc_rate:  (0.16363162962133213, 0.0549345377707224)\n",
      "lamb1:  0.1 , lamb2:  1\n",
      "avg_length:  (18.139581099678356, 0.6564391246871212)\n",
      "suc_rate:  (0.1312801043350242, 0.050408167945121214)\n",
      "lamb1:  0.1 , lamb2:  10\n",
      "avg_length:  (17.81016248562015, 0.7636302339007749)\n",
      "suc_rate:  (0.13076076288318852, 0.058958628395267276)\n",
      "lamb1:  0.1 , lamb2:  30\n",
      "avg_length:  (17.72837753080888, 0.7636688924552905)\n",
      "suc_rate:  (0.1547485282325099, 0.06111125297397792)\n",
      "lamb1:  0.1 , lamb2:  50\n",
      "avg_length:  (17.889929838785676, 0.7295762410856123)\n",
      "suc_rate:  (0.12236237573766175, 0.05000801393152114)\n",
      "lamb1:  0.1 , lamb2:  70\n",
      "avg_length:  (17.90122686555753, 0.5942125322090701)\n",
      "suc_rate:  (0.12745130854398584, 0.04790442138556362)\n",
      "lamb1:  0.1 , lamb2:  90\n",
      "avg_length:  (18.136893179284485, 0.7398913417196985)\n",
      "suc_rate:  (0.12092574664084962, 0.05443712896988467)\n",
      "lamb1:  0.1 , lamb2:  100\n",
      "avg_length:  (17.92517378057996, 0.766647744847458)\n",
      "suc_rate:  (0.13285904281327623, 0.05310573424633982)\n",
      "lamb1:  0.1 , lamb2:  1000\n",
      "avg_length:  (18.05707546331116, 0.6829520938023466)\n",
      "suc_rate:  (0.10826487903146942, 0.047958310257951185)\n",
      "lamb1:  1 , lamb2:  0.01\n",
      "avg_length:  (18.051630745938525, 0.6391317208016633)\n",
      "suc_rate:  (0.09568762346222298, 0.03989263289441824)\n",
      "lamb1:  1 , lamb2:  0.1\n",
      "avg_length:  (17.87974248291754, 0.7090178061955142)\n",
      "suc_rate:  (0.12444798717682012, 0.04627133721270154)\n",
      "lamb1:  1 , lamb2:  1\n",
      "avg_length:  (18.033461885178134, 0.6919898074426635)\n",
      "suc_rate:  (0.13018556894415018, 0.05210372879698208)\n",
      "lamb1:  1 , lamb2:  10\n",
      "avg_length:  (17.674994265840947, 0.7284926518434601)\n",
      "suc_rate:  (0.14715630161854415, 0.050949135996556524)\n",
      "lamb1:  1 , lamb2:  30\n",
      "avg_length:  (17.807401199106007, 0.7668716228428483)\n",
      "suc_rate:  (0.15211301538532657, 0.05669234859406977)\n",
      "lamb1:  1 , lamb2:  50\n",
      "avg_length:  (17.75002413680903, 0.8341532084228084)\n",
      "suc_rate:  (0.14183593548582107, 0.06047638904099966)\n",
      "lamb1:  1 , lamb2:  70\n",
      "avg_length:  (17.88697087936218, 0.5679138090639241)\n",
      "suc_rate:  (0.14672892896577103, 0.04727068907678534)\n",
      "lamb1:  1 , lamb2:  90\n",
      "avg_length:  (18.150918887875406, 0.7052453607752031)\n",
      "suc_rate:  (0.10902285484665347, 0.049077999808175496)\n",
      "lamb1:  1 , lamb2:  100\n",
      "avg_length:  (17.970802373319536, 0.6658847695060175)\n",
      "suc_rate:  (0.1371080991218291, 0.060622137171614375)\n",
      "lamb1:  1 , lamb2:  1000\n",
      "avg_length:  (17.985330109758028, 0.6726768591763447)\n",
      "suc_rate:  (0.13908138327474712, 0.06120915386355982)\n",
      "lamb1:  10 , lamb2:  0.01\n",
      "avg_length:  (18.11520716760992, 0.6315154710821242)\n",
      "suc_rate:  (0.09810730522973085, 0.03859367552244695)\n",
      "lamb1:  10 , lamb2:  0.1\n",
      "avg_length:  (18.13059569466892, 0.6970060325556157)\n",
      "suc_rate:  (0.09889441857405243, 0.046102623520597005)\n",
      "lamb1:  10 , lamb2:  1\n",
      "avg_length:  (17.82175917776604, 0.8811309640105909)\n",
      "suc_rate:  (0.11827129773354027, 0.05016571821444642)\n",
      "lamb1:  10 , lamb2:  10\n",
      "avg_length:  (17.94470154813404, 0.7426226058853461)\n",
      "suc_rate:  (0.135478886737468, 0.054819210525601715)\n",
      "lamb1:  10 , lamb2:  30\n",
      "avg_length:  (17.76106852720125, 0.828253188692533)\n",
      "suc_rate:  (0.12963786785297082, 0.056048305077750396)\n",
      "lamb1:  10 , lamb2:  50\n",
      "avg_length:  (17.914070070534603, 0.7339282771419325)\n",
      "suc_rate:  (0.14869381190891487, 0.06581731694979809)\n",
      "lamb1:  10 , lamb2:  70\n",
      "avg_length:  (18.132764429188914, 0.6765804876209869)\n",
      "suc_rate:  (0.11908081430392645, 0.049526216486505674)\n",
      "lamb1:  10 , lamb2:  90\n",
      "avg_length:  (17.970156080253332, 0.6261821819684177)\n",
      "suc_rate:  (0.13569427330868977, 0.05299066562379731)\n",
      "lamb1:  10 , lamb2:  100\n",
      "avg_length:  (17.676677352649893, 0.6835047947145161)\n",
      "suc_rate:  (0.14996152779333558, 0.05350007097654054)\n",
      "lamb1:  10 , lamb2:  1000\n",
      "avg_length:  (18.100257103689597, 0.6853005193976707)\n",
      "suc_rate:  (0.11833970758455883, 0.049873769332486786)\n",
      "lamb1:  30 , lamb2:  0.01\n",
      "avg_length:  (17.799419872017125, 0.8619284316507542)\n",
      "suc_rate:  (0.10506352914819735, 0.048860709952563364)\n",
      "lamb1:  30 , lamb2:  0.1\n",
      "avg_length:  (18.098164580143983, 0.635302355797834)\n",
      "suc_rate:  (0.09448707280515059, 0.042794098116551854)\n",
      "lamb1:  30 , lamb2:  1\n",
      "avg_length:  (18.074889984157718, 0.6569830880667525)\n",
      "suc_rate:  (0.09231609351746652, 0.03904370969170874)\n",
      "lamb1:  30 , lamb2:  10\n",
      "avg_length:  (17.27167143179729, 0.7648786664351634)\n",
      "suc_rate:  (0.15112320618613523, 0.0528700131906299)\n",
      "lamb1:  30 , lamb2:  30\n",
      "avg_length:  (18.10687939063225, 0.7423664327613059)\n",
      "suc_rate:  (0.11925094991456546, 0.048094779471292363)\n",
      "lamb1:  30 , lamb2:  50\n",
      "avg_length:  (17.766487618661532, 0.7925637197176166)\n",
      "suc_rate:  (0.1399166813354456, 0.060713150943326064)\n",
      "lamb1:  30 , lamb2:  70\n",
      "avg_length:  (18.08789612370848, 0.6514595033073598)\n",
      "suc_rate:  (0.13470993156347844, 0.047209605222639686)\n",
      "lamb1:  30 , lamb2:  90\n",
      "avg_length:  (17.712846538790473, 0.7912276024723283)\n",
      "suc_rate:  (0.13370745387335775, 0.05936945860428984)\n",
      "lamb1:  30 , lamb2:  100\n",
      "avg_length:  (17.782215372346947, 0.7191877095953003)\n",
      "suc_rate:  (0.13703668883874834, 0.05047491313525214)\n",
      "lamb1:  30 , lamb2:  1000\n",
      "avg_length:  (17.80682558288394, 0.8039065528776991)\n",
      "suc_rate:  (0.15145385379939152, 0.06645462095604503)\n",
      "lamb1:  50 , lamb2:  0.01\n",
      "avg_length:  (18.0247407404444, 0.7308070129546095)\n",
      "suc_rate:  (0.10185842316849181, 0.048157944062262724)\n",
      "lamb1:  50 , lamb2:  0.1\n",
      "avg_length:  (18.681066251317965, 0.570718614000478)\n",
      "suc_rate:  (0.06009167542348319, 0.03557805540476426)\n",
      "lamb1:  50 , lamb2:  1\n",
      "avg_length:  (18.162538249952437, 0.6694756574465416)\n",
      "suc_rate:  (0.09762970312169396, 0.04401323085885226)\n",
      "lamb1:  50 , lamb2:  10\n",
      "avg_length:  (17.884118246360806, 0.6623798944582285)\n",
      "suc_rate:  (0.10283774196817674, 0.04200543334637651)\n",
      "lamb1:  50 , lamb2:  30\n",
      "avg_length:  (17.543079181179866, 0.774577289489784)\n",
      "suc_rate:  (0.1415238905513505, 0.05529484707895318)\n",
      "lamb1:  50 , lamb2:  50\n",
      "avg_length:  (17.69619342963164, 0.7311057681151546)\n",
      "suc_rate:  (0.1293486039767504, 0.050596523453193105)\n",
      "lamb1:  50 , lamb2:  70\n",
      "avg_length:  (17.351570492817633, 0.7241985598314065)\n",
      "suc_rate:  (0.1576373664474351, 0.05270993916501922)\n",
      "lamb1:  50 , lamb2:  90\n",
      "avg_length:  (17.86956757328611, 0.6864200575831619)\n",
      "suc_rate:  (0.1420255405667305, 0.04736294007761452)\n",
      "lamb1:  50 , lamb2:  100\n",
      "avg_length:  (17.789653110047844, 0.5364983960530656)\n",
      "suc_rate:  (0.1577961226416604, 0.05171241010974502)\n",
      "lamb1:  50 , lamb2:  1000\n",
      "avg_length:  (17.723464890055283, 0.8112891079598681)\n",
      "suc_rate:  (0.14039977312288524, 0.062435623703397676)\n",
      "lamb1:  70 , lamb2:  0.01\n",
      "avg_length:  (17.99144543480928, 0.7134063743756727)\n",
      "suc_rate:  (0.10847348684877288, 0.04469628735562728)\n",
      "lamb1:  70 , lamb2:  0.1\n",
      "avg_length:  (17.907124225888523, 0.6209177317283792)\n",
      "suc_rate:  (0.09597604277238143, 0.03597925860513615)\n",
      "lamb1:  70 , lamb2:  1\n",
      "avg_length:  (18.188941340886423, 0.6671845041573702)\n",
      "suc_rate:  (0.09259271112818022, 0.04887714222947195)\n",
      "lamb1:  70 , lamb2:  10\n",
      "avg_length:  (17.859388418598943, 0.6418742656796448)\n",
      "suc_rate:  (0.11079395432942343, 0.04133893552846772)\n"
     ]
    },
    {
     "name": "stdout",
     "output_type": "stream",
     "text": [
      "lamb1:  70 , lamb2:  30\n",
      "avg_length:  (17.97592051033126, 0.7751706764374868)\n",
      "suc_rate:  (0.11967583331999808, 0.049154513970431704)\n",
      "lamb1:  70 , lamb2:  50\n",
      "avg_length:  (18.054934377216984, 0.7174548525797129)\n",
      "suc_rate:  (0.12064323929312488, 0.05159768406030375)\n",
      "lamb1:  70 , lamb2:  70\n",
      "avg_length:  (17.819001425094104, 0.8303327862706494)\n",
      "suc_rate:  (0.1358923018247961, 0.05722992583782392)\n",
      "lamb1:  70 , lamb2:  90\n",
      "avg_length:  (17.844878418047756, 0.777867881661188)\n",
      "suc_rate:  (0.13258838161584158, 0.052525935668028004)\n",
      "lamb1:  70 , lamb2:  100\n",
      "avg_length:  (17.885772706825342, 0.6462761449372079)\n",
      "suc_rate:  (0.13425262126635124, 0.053527662847376596)\n",
      "lamb1:  70 , lamb2:  1000\n",
      "avg_length:  (17.46782016610392, 0.6696451097932525)\n",
      "suc_rate:  (0.14244402305043033, 0.0519885375596169)\n",
      "lamb1:  90 , lamb2:  0.01\n",
      "avg_length:  (18.045873583573815, 0.6835066773928457)\n",
      "suc_rate:  (0.1048853701599697, 0.04841858984798958)\n",
      "lamb1:  90 , lamb2:  0.1\n",
      "avg_length:  (17.780856532229528, 0.8571825666245034)\n",
      "suc_rate:  (0.10764078916252831, 0.054130832130038935)\n",
      "lamb1:  90 , lamb2:  1\n",
      "avg_length:  (18.057977015356876, 0.6611740151820493)\n",
      "suc_rate:  (0.10387526914986867, 0.04674795588380559)\n",
      "lamb1:  90 , lamb2:  10\n",
      "avg_length:  (17.97578744672566, 0.7485373963224233)\n",
      "suc_rate:  (0.09992861194234191, 0.043504044870850335)\n",
      "lamb1:  90 , lamb2:  30\n",
      "avg_length:  (18.160482976215242, 0.7002375586233458)\n",
      "suc_rate:  (0.11024329725702724, 0.05173391371281363)\n",
      "lamb1:  90 , lamb2:  50\n",
      "avg_length:  (17.735680738026275, 0.7075914845263412)\n",
      "suc_rate:  (0.12135227472756074, 0.04881342903959283)\n",
      "lamb1:  90 , lamb2:  70\n",
      "avg_length:  (17.842795673688123, 0.8066254435759656)\n",
      "suc_rate:  (0.1315241839269299, 0.057877416900912186)\n",
      "lamb1:  90 , lamb2:  90\n",
      "avg_length:  (17.912893278854376, 0.6663715456012356)\n",
      "suc_rate:  (0.12903569225079523, 0.04606146469932747)\n",
      "lamb1:  90 , lamb2:  100\n",
      "avg_length:  (17.810819135733322, 0.6660360011572913)\n",
      "suc_rate:  (0.1348953138140781, 0.04643342827178849)\n",
      "lamb1:  90 , lamb2:  1000\n",
      "avg_length:  (17.745386624562826, 0.7323295685118408)\n",
      "suc_rate:  (0.129569057944344, 0.048773501278695876)\n",
      "lamb1:  100 , lamb2:  0.01\n",
      "avg_length:  (18.081419413284404, 0.6473801743590021)\n",
      "suc_rate:  (0.09589496443043351, 0.04058937461733158)\n",
      "lamb1:  100 , lamb2:  0.1\n",
      "avg_length:  (18.114132435070648, 0.6997846512409306)\n",
      "suc_rate:  (0.09515050167224079, 0.04148610394796879)\n",
      "lamb1:  100 , lamb2:  1\n",
      "avg_length:  (17.711289625706105, 0.7170549358385861)\n",
      "suc_rate:  (0.12296837411253887, 0.04653772042283047)\n",
      "lamb1:  100 , lamb2:  10\n",
      "avg_length:  (18.114909235818846, 0.6125777155783564)\n",
      "suc_rate:  (0.11134412244252061, 0.04504518817350637)\n",
      "lamb1:  100 , lamb2:  30\n",
      "avg_length:  (18.01689998915399, 0.6844517831157372)\n",
      "suc_rate:  (0.11317900888839105, 0.04462111525532258)\n",
      "lamb1:  100 , lamb2:  50\n",
      "avg_length:  (17.883555854265236, 0.6336582316960967)\n",
      "suc_rate:  (0.10943927036604384, 0.04012841642561086)\n",
      "lamb1:  100 , lamb2:  70\n",
      "avg_length:  (17.678148142221367, 0.7075356368961369)\n",
      "suc_rate:  (0.1394914423232501, 0.05516504106281062)\n",
      "lamb1:  100 , lamb2:  90\n",
      "avg_length:  (17.66770023772312, 0.722385872976925)\n",
      "suc_rate:  (0.13013536171430906, 0.05066806710177447)\n",
      "lamb1:  100 , lamb2:  100\n",
      "avg_length:  (18.027889838358945, 0.6981254839984657)\n",
      "suc_rate:  (0.1051387177531342, 0.04808169489560517)\n",
      "lamb1:  100 , lamb2:  1000\n",
      "avg_length:  (17.964357000741444, 0.6142815883511097)\n",
      "suc_rate:  (0.13810255343436117, 0.05044171546431603)\n",
      "lamb1:  1000 , lamb2:  0.01\n",
      "avg_length:  (18.742104596395215, 0.4684729378702458)\n",
      "suc_rate:  (0.06374949103782054, 0.02937260797471542)\n",
      "lamb1:  1000 , lamb2:  0.1\n",
      "avg_length:  (18.088255531018692, 0.615127479783091)\n",
      "suc_rate:  (0.10918165549172414, 0.046691104358415315)\n",
      "lamb1:  1000 , lamb2:  1\n",
      "avg_length:  (18.05716756546276, 0.8098651883299567)\n",
      "suc_rate:  (0.09166408851763543, 0.05070731365228858)\n",
      "lamb1:  1000 , lamb2:  10\n",
      "avg_length:  (17.82669664431678, 0.7717074527604063)\n",
      "suc_rate:  (0.12511692794873575, 0.04741278835457949)\n",
      "lamb1:  1000 , lamb2:  30\n",
      "avg_length:  (18.129951246312803, 0.6471680279242286)\n",
      "suc_rate:  (0.0978868512621373, 0.0420087455403992)\n",
      "lamb1:  1000 , lamb2:  50\n",
      "avg_length:  (17.94256670738364, 0.715853948125618)\n",
      "suc_rate:  (0.10851949347372687, 0.044286019488110485)\n",
      "lamb1:  1000 , lamb2:  70\n",
      "avg_length:  (17.88483268257296, 0.6572018431989561)\n",
      "suc_rate:  (0.10915462937774148, 0.04405850470817061)\n",
      "lamb1:  1000 , lamb2:  90\n",
      "avg_length:  (17.85803657948967, 0.8434377437558945)\n",
      "suc_rate:  (0.11766996669742665, 0.056420152865602376)\n",
      "lamb1:  1000 , lamb2:  100\n",
      "avg_length:  (17.944317403928387, 0.7231388917797839)\n",
      "suc_rate:  (0.11699769211210859, 0.04655394827398727)\n",
      "lamb1:  1000 , lamb2:  1000\n",
      "avg_length:  (18.106098522631704, 0.6493066010209281)\n",
      "suc_rate:  (0.12928995108628977, 0.05068744396887167)\n"
     ]
    }
   ],
   "source": [
    "table_path = '../tables/critiquing/tuning_ranksvm3_random/'\n",
    "for lamb1 in lambs:\n",
    "    for lamb2 in lambs:\n",
    "        \n",
    "        name = 'lamb1_'+ str(lamb1)+'_lamb2_' + str(lamb2) + '_test.csv'\n",
    "        df = load_dataframe_csv(table_path,name)\n",
    "    \n",
    "        print ('lamb1: ',lamb1, \", lamb2: \",lamb2)\n",
    "        print ('avg_length: ',get_average_length(df,20))\n",
    "        print ('suc_rate: ',get_success_rate(df,20))"
   ]
  },
  {
   "cell_type": "code",
   "execution_count": 40,
   "metadata": {},
   "outputs": [
    {
     "name": "stdout",
     "output_type": "stream",
     "text": [
      "lamb1:  0.1 , lamb2:  0.1\n",
      "avg_length:  (17.50703099024037, 0.7773728918571633)\n",
      "suc_rate:  (0.16363162962133213, 0.0549345377707224)\n"
     ]
    }
   ],
   "source": [
    "# Best \n",
    "highest = 0\n",
    "for lamb1 in lambs:\n",
    "    for lamb2 in lambs:\n",
    "        \n",
    "        name = 'lamb1_'+ str(lamb1)+'_lamb2_' + str(lamb2) + '_test.csv'\n",
    "        df = load_dataframe_csv(table_path,name)\n",
    "        \n",
    "        sr = get_success_rate(df,20)[0]\n",
    "        if sr > highest:\n",
    "            index = (lamb1,lamb2)\n",
    "            highest = sr\n",
    "name = 'lamb1_'+ str(index[0])+'_lamb2_' + str(index[1]) + '_test.csv'\n",
    "df = load_dataframe_csv(table_path,name)\n",
    "print ('lamb1: ',index[0], \", lamb2: \",index[1])\n",
    "print ('avg_length: ',get_average_length(df,20))\n",
    "print ('suc_rate: ',get_success_rate(df,20))"
   ]
  },
  {
   "cell_type": "code",
   "execution_count": 15,
   "metadata": {},
   "outputs": [
    {
     "name": "stdout",
     "output_type": "stream",
     "text": [
      "lamb1:  0.1 , lamb2:  0.1\n",
      "avg_length:  (16.816420675688413, 0.8508231080020625)\n",
      "suc_rate:  (0.2242596489450036, 0.06862834925000649)\n"
     ]
    }
   ],
   "source": [
    "table_path = '../tables/critiquing/tuning_ranksvm3_random/'\n",
    "# Best \n",
    "highest = 0\n",
    "for lamb1 in lambs:\n",
    "    for lamb2 in lambs:\n",
    "        \n",
    "        name = 'lamb1_'+ str(lamb1)+'_lamb2_' + str(lamb2) + '_test.csv'\n",
    "        df = load_dataframe_csv(table_path,name)\n",
    "        \n",
    "        sr = get_success_rate(df,20)[0]\n",
    "        if sr > highest:\n",
    "            index = (lamb1,lamb2)\n",
    "            highest = sr\n",
    "name = 'lamb1_'+ str(index[0])+'_lamb2_' + str(index[1]) + '_test.csv'\n",
    "df = load_dataframe_csv(table_path,name)\n",
    "print ('lamb1: ',index[0], \", lamb2: \",index[1])\n",
    "print ('avg_length: ',get_average_length(df,50))\n",
    "print ('suc_rate: ',get_success_rate(df,50))"
   ]
  },
  {
   "cell_type": "markdown",
   "metadata": {},
   "source": [
    "# Plot avg, rating, ranksvm2 and 3"
   ]
  },
  {
   "cell_type": "code",
   "execution_count": 61,
   "metadata": {},
   "outputs": [],
   "source": [
    "def get_success_rates_and_avg_length(lambs, model_name,topk = 20):\n",
    "    if model_name == \"ranksvm2_random\":\n",
    "        table_path = '../tables/critiquing/tuning_random/'\n",
    "    elif model_name == \"ranksvm2_diff\":\n",
    "        table_path = '../tables/critiquing/tuning/'\n",
    "    elif model_name == \"ranksvm3_random\":\n",
    "        table_path = '../tables/critiquing/tuning_ranksvm3_random/'\n",
    "    elif model_name == \"ranksvm3_diff\":\n",
    "        table_path = '../tables/critiquing/tuning_ranksvm3_diff/'\n",
    "    \n",
    "    success_rate = []\n",
    "    avg_length = []\n",
    "    \n",
    "    if type(lambs) == list:\n",
    "        print (\"2D regularization\")\n",
    "        for lamb1 in lambs:\n",
    "            for lamb2 in lambs:\n",
    "                name = 'lamb1_'+ str(lamb1)+'_lamb2_' + str(lamb2) + '_test.csv'\n",
    "                df = load_dataframe_csv(table_path,name)\n",
    "\n",
    "                success_rate.append(get_average_length(df,topk)[0])\n",
    "                avg_length.append(get_success_rate(df,topk)[0])\n",
    "    else:\n",
    "        print (\"single lambda regularization\")\n",
    "        for lamb in lambs:\n",
    "            name = 'lamb_'+ str(lamb) + '_test.csv'\n",
    "            df = load_dataframe_csv(table_path,name)\n",
    "            success_rate.append(get_average_length(df,topk)[0])\n",
    "            avg_length.append(get_success_rate(df,topk)[0])\n",
    "    return success_rate,avg_length"
   ]
  }
 ],
 "metadata": {
  "kernelspec": {
   "display_name": "Python 3",
   "language": "python",
   "name": "python3"
  },
  "language_info": {
   "codemirror_mode": {
    "name": "ipython",
    "version": 3
   },
   "file_extension": ".py",
   "mimetype": "text/x-python",
   "name": "python",
   "nbconvert_exporter": "python",
   "pygments_lexer": "ipython3",
   "version": "3.6.10"
  }
 },
 "nbformat": 4,
 "nbformat_minor": 2
}
