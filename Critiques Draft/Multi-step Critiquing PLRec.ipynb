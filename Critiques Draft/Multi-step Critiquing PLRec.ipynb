{
 "cells": [
  {
   "cell_type": "code",
   "execution_count": 2,
   "metadata": {
    "scrolled": false
   },
   "outputs": [
    {
     "data": {
      "text/plain": [
       "['/Users/litos/opt/anaconda3/envs/tensorflow_cpu/lib/python36.zip',\n",
       " '/Users/litos/opt/anaconda3/envs/tensorflow_cpu/lib/python3.6',\n",
       " '/Users/litos/opt/anaconda3/envs/tensorflow_cpu/lib/python3.6/lib-dynload',\n",
       " '',\n",
       " '/Users/litos/opt/anaconda3/envs/tensorflow_cpu/lib/python3.6/site-packages',\n",
       " '/Users/litos/opt/anaconda3/envs/tensorflow_cpu/lib/python3.6/site-packages/IPython/extensions',\n",
       " '/Users/litos/.ipython']"
      ]
     },
     "execution_count": 2,
     "metadata": {},
     "output_type": "execute_result"
    }
   ],
   "source": [
    "import sys\n",
    "sys.path"
   ]
  },
  {
   "cell_type": "code",
   "execution_count": 3,
   "metadata": {},
   "outputs": [],
   "source": [
    "from gurobipy import *\n",
    "\n",
    "from scipy.sparse import csr_matrix, load_npz, save_npz\n",
    "from tqdm import tqdm\n",
    "from sklearn.preprocessing import normalize\n",
    "from collections import *\n",
    "import datetime\n",
    "import json\n",
    "import pandas as pd\n",
    "import time\n",
    "# import yaml\n",
    "import scipy.sparse as sparse\n",
    "from ast import literal_eval\n",
    "\n",
    "import numpy as np\n",
    "import matplotlib.pyplot as plt\n",
    "import random\n",
    "\n",
    "from sklearn.linear_model import LinearRegression\n",
    "from sklearn.preprocessing import normalize\n",
    "from sklearn.linear_model import Ridge\n",
    "from sklearn.utils.extmath import randomized_svd\n",
    "\n",
    "from scipy.optimize import minimize"
   ]
  },
  {
   "cell_type": "markdown",
   "metadata": {},
   "source": [
    "# Utils"
   ]
  },
  {
   "cell_type": "code",
   "execution_count": 4,
   "metadata": {},
   "outputs": [],
   "source": [
    "def save_dataframe_csv(df, path, name):\n",
    "    df.to_csv(path+name, index=False)\n",
    "\n",
    "\n",
    "def load_dataframe_csv(path, name, index_col=None):\n",
    "    return pd.read_csv(path+name, index_col=index_col)\n"
   ]
  },
  {
   "cell_type": "markdown",
   "metadata": {},
   "source": [
    "# Load Data"
   ]
  },
  {
   "cell_type": "code",
   "execution_count": 5,
   "metadata": {},
   "outputs": [],
   "source": [
    "# Load Original Data\n",
    "df_train = pd.read_csv('../../data/yelp/Train.csv',encoding='latin-1')\n",
    "# df_valid = pd.read_csv('../../data/yelp/Valid.csv',encoding='latin-1')\n",
    "# df_test = pd.read_csv('../../data/yelp/Test.csv',encoding='latin-1')"
   ]
  },
  {
   "cell_type": "code",
   "execution_count": 6,
   "metadata": {},
   "outputs": [],
   "source": [
    "keyphrases = pd.read_csv('../../data/yelp/KeyPhrases.csv')['Phrases'].tolist()\n",
    "keyphrase_popularity = np.loadtxt('../data/yelp/'+'keyphrase_popularity.txt', dtype=int)\n",
    "\n",
    "# Load U-I Data \n",
    "rtrain = load_npz(\"../../data/yelp/Rtrain.npz\")\n",
    "rvalid = load_npz(\"../../data/yelp/Rvalid.npz\")\n",
    "rtest = load_npz(\"../../data/yelp/Rtest.npz\")\n",
    "\n",
    "# Load user/item keyphrase data\n",
    "U_K = load_npz(\"../../data/yelp/U_K.npz\")\n",
    "I_K = load_npz(\"../../data/yelp/I_K.npz\")"
   ]
  },
  {
   "cell_type": "markdown",
   "metadata": {},
   "source": [
    "# Models"
   ]
  },
  {
   "cell_type": "code",
   "execution_count": 7,
   "metadata": {},
   "outputs": [],
   "source": [
    "def get_I_K(df, row_name = 'ItemIndex', shape = (3668,75)):\n",
    "    rows = []\n",
    "    cols = []\n",
    "    vals = []\n",
    "    for i in tqdm(range(df.shape[0])):\n",
    "        key_vector = literal_eval(df['keyVector'][i])\n",
    "        rows.extend([df[row_name][i]]*len(key_vector)) ## Item index\n",
    "        cols.extend(key_vector) ## Keyword Index\n",
    "        vals.extend(np.array([1]*len(key_vector)))\n",
    "    return csr_matrix((vals, (rows, cols)), shape=shape)\n"
   ]
  },
  {
   "cell_type": "code",
   "execution_count": 8,
   "metadata": {},
   "outputs": [],
   "source": [
    "# PLREC \n",
    "def inhour(elapsed):\n",
    "    return time.strftime('%H:%M:%S', time.gmtime(elapsed))\n",
    "\n",
    "def plrec(matrix_train, iteration=4, lamb=80, rank=200, seed=1):\n",
    "    \"\"\"\n",
    "    Function used to achieve generalized projected lrec w/o item-attribute embedding\n",
    "    :param matrix_train: user-item matrix with shape m*n\n",
    "    :param iteration: number of power iterations in randomized svd\n",
    "    :param lamb: parameter of penalty\n",
    "    :param rank: latent dimension size\n",
    "    :param seed: the seed of the pseudo random number generator to use when shuffling the data\n",
    "    :return: prediction in sparse matrix\n",
    "    \"\"\"\n",
    "    print (\"Randomized SVD\")\n",
    "    start_time = time.time()\n",
    "    P, sigma, Qt = randomized_svd(matrix_train,\n",
    "                                  n_components=rank,\n",
    "                                  n_iter=iteration,\n",
    "                                  random_state=seed)\n",
    "\n",
    "    RQ = matrix_train.dot(sparse.csc_matrix(Qt.T*np.sqrt(sigma)))\n",
    "\n",
    "    print(\"Elapsed: {}\".format(inhour(time.time() - start_time)))\n",
    "\n",
    "    print (\"Closed-Form Linear Optimization\")\n",
    "    start_time = time.time()\n",
    "    pre_inv = RQ.T.dot(RQ) + lamb * sparse.identity(rank, dtype=np.float32)\n",
    "    inverse = sparse.linalg.inv(pre_inv.tocsc())\n",
    "    Y = inverse.dot(RQ.T).dot(matrix_train)\n",
    "    print(\"Elapsed: {}\".format(inhour(time.time() - start_time)))\n",
    "\n",
    "    return np.array(RQ.todense()), np.array(Y.todense()), None\n",
    "\n",
    "# def predict_vector(rating_vector, train_vector, remove_train=True):\n",
    "#     dim = len(rating_vector)\n",
    "#     candidate_index = np.argpartition(-rating_vector, dim-1)[:dim]\n",
    "#     prediction_items = candidate_index[rating_vector[candidate_index].argsort()[::-1]]\n",
    "    \n",
    "#     if remove_train:\n",
    "#         return np.delete(prediction_items, np.isin(prediction_items, train_vector.nonzero()[1]).nonzero()[0])\n",
    "#     else:\n",
    "#         return prediction_items\n",
    "\n",
    "    \n",
    "def predict_scores(matrix_U, matrix_V, bias=None,\n",
    "                   penalize = False,\n",
    "                   keyphrase_freq = I_K, \n",
    "                   critiqued_keyphrase = 0, \n",
    "                   matrix_Train = rtrain,\n",
    "                   alpha = 0):\n",
    "    prediction = matrix_U.dot(matrix_V.T)\n",
    "    # Penalize\n",
    "    if penalize == True:\n",
    "        items_with_keyphrase = np.ravel(keyphrase_freq.T[critiqued_keyphrase].nonzero()[1])\n",
    "        items_without_keyphrase = np.setdiff1d(np.arange(matrix_Train.shape[1]), items_with_keyphrase)\n",
    "        prediction[items_without_keyphrase] = alpha # penalize\n",
    "    \n",
    "    return prediction\n",
    "\n",
    "def predict_vector(rating_vector, train_vector, remove_train=True):\n",
    "    dim = len(rating_vector)\n",
    "    candidate_index = np.argpartition(-rating_vector, dim-1)[:dim]\n",
    "    prediction_items = candidate_index[rating_vector[candidate_index].argsort()[::-1]]\n",
    "    \n",
    "    if remove_train:\n",
    "        return np.delete(prediction_items, np.isin(prediction_items, train_vector.nonzero()[1]).nonzero()[0])\n",
    "    else:\n",
    "        return prediction_items\n"
   ]
  },
  {
   "cell_type": "code",
   "execution_count": 9,
   "metadata": {},
   "outputs": [],
   "source": [
    "# initial Prediction\n",
    "def predict_scores(matrix_U, matrix_V, bias=None,\n",
    "                   penalize = False,\n",
    "                   keyphrase_freq = I_K, \n",
    "                   critiqued_keyphrase = 0, \n",
    "                   matrix_Train = rtrain,\n",
    "                   alpha = 0):\n",
    "    \n",
    "    prediction = matrix_U.dot(matrix_V.T)\n",
    "    # Penalize\n",
    "    if penalize == True:\n",
    "        items_with_keyphrase = np.ravel(keyphrase_freq.T[critiqued_keyphrase].nonzero()[1])\n",
    "        items_without_keyphrase = np.setdiff1d(np.arange(matrix_Train.shape[1]), items_with_keyphrase)\n",
    "        prediction[items_without_keyphrase] = alpha # penalize\n",
    "    \n",
    "    return prediction\n"
   ]
  },
  {
   "cell_type": "code",
   "execution_count": 10,
   "metadata": {},
   "outputs": [],
   "source": [
    "# Keyphrase Selection Helpers\n",
    "def get_valid_keyphrases(keyphrase_freq,top_recommendations,item = None,threshold=50,mutiple_keyphrases_en = False, top_items = None):\n",
    "    \"\"\"\n",
    "    Wrapper function to get either top 1 or top n keyphrases\n",
    "    \"\"\"\n",
    "    if mutiple_keyphrases_en:\n",
    "        top_keyphrases = []\n",
    "        for item in top_items:\n",
    "            top_keyphrases.extend(get_valid_keyphrases_for_one_item(keyphrase_freq,top_recommendations,item,threshold=threshold))\n",
    "        return np.ravel(list(set(top_keyphrases))) # remove duplicate and reformat to np array\n",
    "    else:\n",
    "        return get_valid_keyphrases_for_one_item(keyphrase_freq,top_recommendations,item,threshold=threshold)\n",
    "\n",
    "def get_valid_keyphrases_for_one_item(keyphrase_freq,top_recommendations, item,threshold=50):\n",
    "    \"\"\"\n",
    "    Get keyphrases of item that make sense\n",
    "    E.g. if the item has fewer than threshold=50 keyphrases, get all of them\n",
    "    otherwise get top 50 keyphrases\n",
    "    \"\"\"\n",
    "    keyphrase_length = len(keyphrase_freq[item].nonzero()[1])\n",
    "    if keyphrase_length<threshold:\n",
    "        return keyphrase_freq[item].nonzero()[1]\n",
    "    else:\n",
    "        keyphrases = np.ravel(keyphrase_freq[top_recommendations[0]].todense())\n",
    "        top_keyphrases = np.argsort(keyphrases)[::-1][:threshold]\n",
    "        return top_keyphrases\n",
    "    \n",
    "# For keyphrase selecting method # 3 \"diff\" \n",
    "def get_item_keyphrase_freq(keyphrase_freq,item):\n",
    "    \"\"\"\n",
    "    Get item's keyphrase frequency \n",
    "    \"\"\"\n",
    "    count = keyphrase_freq[item].todense()\n",
    "    return np.ravel(count/(np.sum(count)+0.001))\n",
    "\n",
    "def get_all_item_keyphrase_freq(item_keyphrase_freq = I_K):\n",
    "    res = []\n",
    "    num_items = item_keyphrase_freq.shape[0]\n",
    "    for item in range(num_items):\n",
    "        res.append(np.ravel(get_item_keyphrase_freq(item_keyphrase_freq,item)))\n",
    "    return np.array(res)\n",
    "\n",
    "def get_keyphrase_popularity(df,keyphrases):\n",
    "    \"\"\"\n",
    "    Get keyphrase popularity (count) from dataframe\n",
    "    \"\"\"\n",
    "    keyphrase_popularity = np.zeros(len(keyphrases)) #initialize\n",
    "    for i in range(len(df)):\n",
    "        keyphrase_vector = literal_eval(df['keyVector'][i])\n",
    "        keyphrase_popularity[keyphrase_vector] += 1 # count\n",
    "    return keyphrase_popularity"
   ]
  },
  {
   "cell_type": "code",
   "execution_count": 11,
   "metadata": {},
   "outputs": [],
   "source": [
    "all_item_keyphrase_freq = get_all_item_keyphrase_freq()"
   ]
  },
  {
   "cell_type": "code",
   "execution_count": 12,
   "metadata": {},
   "outputs": [],
   "source": [
    "# One hot encoding of critiquing\n",
    "def get_critiqued_UK(user_keyphrase_frequency,user_index,critiqued_keyphrase):\n",
    "    \"\"\"\n",
    "    user_keyphrase_frequency is the U_K matrix (csr sparse matrix)\n",
    "    return the one-hot encoding of the critique\n",
    "    \"\"\"\n",
    "    U_K_cp = user_keyphrase_frequency.copy()\n",
    "    U_K_cp[user_index] = 0\n",
    "    U_K_cp[user_index,critiqued_keyphrase] = 1\n",
    "    return U_K_cp\n",
    "\n",
    "def project_one_hot_encoding(reg, user_keyphrase_frequency,user_index = 0,critiqued_keyphrase = 0, normalize_en = True):\n",
    "    \"\"\"\n",
    "    Return the projection on user_sim space from one-hot encoding of critiqued keyphrase\n",
    "    The res[user_index] should be target embedding row\n",
    "    \"\"\"\n",
    "    critiqued_matrix = get_critiqued_UK(user_keyphrase_frequency, user_index, critiqued_keyphrase)\n",
    "    res = reg.predict(critiqued_matrix)\n",
    "    if normalize_en:\n",
    "        res = normalize((res))\n",
    "    return res"
   ]
  },
  {
   "cell_type": "code",
   "execution_count": 13,
   "metadata": {},
   "outputs": [],
   "source": [
    "# Upper bound method \n",
    "def get_all_affected_items(wanted_keyphrases,keyphrase_freq):\n",
    "    res = []\n",
    "    for keyphrase in wanted_keyphrases:\n",
    "        items = np.ravel(keyphrase_freq.T[keyphrase].nonzero()[1])\n",
    "        res.extend(items)\n",
    "    return np.array(list(set(res)))\n",
    "    \n",
    "def select_only_wanted_keyphrase(top_recommendations, wanted_keyphrases, keyphrase_freq, matrix_Train = rtrain):\n",
    "    all_items_with_keyphrases = get_all_affected_items(wanted_keyphrases,keyphrase_freq)\n",
    "    affected_items = np.setdiff1d(np.arange(matrix_Train.shape[1]), all_items_with_keyphrases) # Get all other keyphrases\n",
    "    top_recommendations[~np.in1d(top_recommendations, affected_items)]\n",
    "    return top_recommendations\n",
    "\n",
    "def pruning(prediction_score, \n",
    "           wanted_keyphrases_random, \n",
    "           top_recommendations, \n",
    "           keyphrase_freq, \n",
    "           matrix_Train = rtrain,\n",
    "           alpha = 0):\n",
    "    items_with_keyphrase = get_all_affected_items(wanted_keyphrases_random, keyphrase_freq)\n",
    "    #Return the unique values in ar1 that are not in ar2.\n",
    "    items_without_keyphrase = np.setdiff1d(np.arange(matrix_Train.shape[1]), items_with_keyphrase)\n",
    "#     print (items_without_keyphrase)\n",
    "    print (sum(prediction_score[items_without_keyphrase]))\n",
    "    score = np.copy(prediction_score)\n",
    "    score[items_without_keyphrase] = alpha # penalize\n",
    "    return score"
   ]
  },
  {
   "cell_type": "markdown",
   "metadata": {},
   "source": [
    "# Utils"
   ]
  },
  {
   "cell_type": "code",
   "execution_count": 14,
   "metadata": {},
   "outputs": [],
   "source": [
    "# Utility function for getting restaurant info from ItemIndex\n",
    "def get_business_df(path = \"../../data/yelp/business.json\" ):\n",
    "    with open(path,encoding=\"utf8\") as json_file:\n",
    "        data = json_file.readlines()\n",
    "        data = list(map(json.loads, data))\n",
    "    df = pd.DataFrame(data)\n",
    "    \n",
    "    return df\n",
    "\n",
    "def get_restaurant_info(business_df, business_id, name = True, review_count = True, stars = True ):\n",
    "    output_list = {}\n",
    "    row_idx = int(business_df.index[business_df['business_id'] == business_id].tolist()[0])\n",
    "    if name == True:\n",
    "        output_list['name'] = business_df['name'][row_idx].encode('utf-8').strip()\n",
    "    if review_count == True:\n",
    "        output_list['review_count'] = business_df['review_count'][row_idx]\n",
    "    if stars == True:\n",
    "        output_list['stars'] = business_df['stars'][row_idx] \n",
    "    return output_list\n",
    "\n",
    "# def get_businessid_from_Itemindex(ItemIndex_list, itemindex):\n",
    "#     return ItemIndex_list['business_id'].tolist()[itemindex]\n",
    "\n",
    "def get_restaurant_name(df_train, business_df, ItemIndex):\n",
    "    rows = np.where(df_train['ItemIndex'] == ItemIndex)\n",
    "    if len(rows)!= 0:\n",
    "        business_id = df_train.loc[rows[0][0]]['business_id']\n",
    "        item_info = get_restaurant_info(business_df, business_id)\n",
    "        return item_info['name']\n",
    "    return \"NOT_FOUND\""
   ]
  },
  {
   "cell_type": "markdown",
   "metadata": {},
   "source": [
    "# Evaluation "
   ]
  },
  {
   "cell_type": "code",
   "execution_count": 15,
   "metadata": {},
   "outputs": [],
   "source": [
    "# Evluation \n",
    "def recallk(vector_true_dense, hits, **unused):\n",
    "    hits = len(hits.nonzero()[0])\n",
    "    return float(hits)/len(vector_true_dense)\n",
    "\n",
    "def precisionk(vector_predict, hits, **unused):\n",
    "    hits = len(hits.nonzero()[0])\n",
    "    return float(hits)/len(vector_predict)\n",
    "\n",
    "\n",
    "def average_precisionk(vector_predict, hits, **unused):\n",
    "    precisions = np.cumsum(hits, dtype=np.float32)/range(1, len(vector_predict)+1)\n",
    "    return np.mean(precisions)\n",
    "\n",
    "\n",
    "def r_precision(vector_true_dense, vector_predict, **unused):\n",
    "    vector_predict_short = vector_predict[:len(vector_true_dense)]\n",
    "    hits = len(np.isin(vector_predict_short, vector_true_dense).nonzero()[0])\n",
    "    return float(hits)/len(vector_true_dense)\n",
    "\n",
    "\n",
    "def _dcg_support(size):\n",
    "    arr = np.arange(1, size+1)+1\n",
    "    return 1./np.log2(arr)\n",
    "\n",
    "\n",
    "def ndcg(vector_true_dense, vector_predict, hits):\n",
    "    idcg = np.sum(_dcg_support(len(vector_true_dense)))\n",
    "    dcg_base = _dcg_support(len(vector_predict))\n",
    "    dcg_base[np.logical_not(hits)] = 0\n",
    "    dcg = np.sum(dcg_base)\n",
    "    return dcg/idcg\n",
    "\n",
    "\n",
    "def click(hits, **unused):\n",
    "    first_hit = next((i for i, x in enumerate(hits) if x), None)\n",
    "    if first_hit is None:\n",
    "        return 5\n",
    "    else:\n",
    "        return first_hit/10\n",
    "\n",
    "\n",
    "def evaluate(matrix_Predict, matrix_Test, metric_names =['R-Precision', 'NDCG', 'Precision', 'Recall', 'MAP'], atK = [5, 10, 15, 20, 50], analytical=False):\n",
    "    \"\"\"\n",
    "    :param matrix_U: Latent representations of users, for LRecs it is RQ, for ALSs it is U\n",
    "    :param matrix_V: Latent representations of items, for LRecs it is Q, for ALSs it is V\n",
    "    :param matrix_Train: Rating matrix for training, features.\n",
    "    :param matrix_Test: Rating matrix for evaluation, true labels.\n",
    "    :param k: Top K retrieval\n",
    "    :param metric_names: Evaluation metrics\n",
    "    :return:\n",
    "    \"\"\"\n",
    "    global_metrics = {\n",
    "        \"R-Precision\": r_precision,\n",
    "        \"NDCG\": ndcg,\n",
    "        \"Clicks\": click\n",
    "    }\n",
    "\n",
    "    local_metrics = {\n",
    "        \"Precision\": precisionk,\n",
    "        \"Recall\": recallk,\n",
    "        \"MAP\": average_precisionk\n",
    "    }\n",
    "\n",
    "    output = dict()\n",
    "\n",
    "    num_users = matrix_Predict.shape[0]\n",
    "\n",
    "    for k in atK:\n",
    "\n",
    "        local_metric_names = list(set(metric_names).intersection(local_metrics.keys()))\n",
    "        results = {name: [] for name in local_metric_names}\n",
    "        topK_Predict = matrix_Predict[:, :k]\n",
    "\n",
    "        for user_index in tqdm(range(topK_Predict.shape[0])):\n",
    "            vector_predict = topK_Predict[user_index]\n",
    "            if len(vector_predict.nonzero()[0]) > 0:\n",
    "                vector_true = matrix_Test[user_index]\n",
    "                vector_true_dense = vector_true.nonzero()[1]\n",
    "                hits = np.isin(vector_predict, vector_true_dense)\n",
    "\n",
    "                if vector_true_dense.size > 0:\n",
    "                    for name in local_metric_names:\n",
    "                        results[name].append(local_metrics[name](vector_true_dense=vector_true_dense,\n",
    "                                                                 vector_predict=vector_predict,\n",
    "                                                                 hits=hits))\n",
    "\n",
    "        results_summary = dict()\n",
    "        if analytical:\n",
    "            for name in local_metric_names:\n",
    "                results_summary['{0}@{1}'.format(name, k)] = results[name]\n",
    "        else:\n",
    "            for name in local_metric_names:\n",
    "                results_summary['{0}@{1}'.format(name, k)] = (np.average(results[name]),\n",
    "                                                              1.96*np.std(results[name])/np.sqrt(num_users))\n",
    "        output.update(results_summary)\n",
    "\n",
    "    global_metric_names = list(set(metric_names).intersection(global_metrics.keys()))\n",
    "    results = {name: [] for name in global_metric_names}\n",
    "\n",
    "    topK_Predict = matrix_Predict[:]\n",
    "\n",
    "    for user_index in tqdm(range(topK_Predict.shape[0])):\n",
    "        vector_predict = topK_Predict[user_index]\n",
    "\n",
    "        if len(vector_predict.nonzero()[0]) > 0:\n",
    "            vector_true = matrix_Test[user_index]\n",
    "            vector_true_dense = vector_true.nonzero()[1]\n",
    "            hits = np.isin(vector_predict, vector_true_dense)\n",
    "\n",
    "            # if user_index == 1:\n",
    "            #     import ipdb;\n",
    "            #     ipdb.set_trace()\n",
    "\n",
    "            if vector_true_dense.size > 0:\n",
    "                for name in global_metric_names:\n",
    "                    results[name].append(global_metrics[name](vector_true_dense=vector_true_dense,\n",
    "                                                              vector_predict=vector_predict,\n",
    "                                                              hits=hits))\n",
    "\n",
    "    results_summary = dict()\n",
    "    if analytical:\n",
    "        for name in global_metric_names:\n",
    "            results_summary[name] = results[name]\n",
    "    else:\n",
    "        for name in global_metric_names:\n",
    "            results_summary[name] = (np.average(results[name]), 1.96*np.std(results[name])/np.sqrt(num_users))\n",
    "    output.update(results_summary)\n",
    "\n",
    "    return output\n",
    "\n"
   ]
  },
  {
   "cell_type": "markdown",
   "metadata": {},
   "source": [
    "# Critiquing Pipline"
   ]
  },
  {
   "cell_type": "code",
   "execution_count": 16,
   "metadata": {},
   "outputs": [],
   "source": [
    "business_df = get_business_df()"
   ]
  },
  {
   "cell_type": "code",
   "execution_count": 17,
   "metadata": {},
   "outputs": [],
   "source": [
    "keyphrase_popularity = np.loadtxt('../data/yelp/'+'keyphrase_popularity.txt', dtype=int)"
   ]
  },
  {
   "cell_type": "code",
   "execution_count": 18,
   "metadata": {},
   "outputs": [
    {
     "name": "stdout",
     "output_type": "stream",
     "text": [
      "Randomized SVD\n",
      "Elapsed: 00:00:00\n",
      "Closed-Form Linear Optimization\n",
      "Elapsed: 00:00:00\n"
     ]
    }
   ],
   "source": [
    "Y, RQt, Bias = plrec(rtrain,\n",
    "                    iteration = 10,\n",
    "                    lamb = 200,\n",
    "                    rank = 200)\n",
    "RQ = RQt.T\n",
    "reg = LinearRegression().fit(normalize(U_K), Y)"
   ]
  },
  {
   "cell_type": "code",
   "execution_count": 19,
   "metadata": {},
   "outputs": [],
   "source": [
    "# Set up dataframe \n",
    "\n",
    "# post_ranki is post rank with different lambda ratio for combining pre-post User similarity matrix \n",
    "\n",
    "columns = ['user_id', 'target_item', 'item_name', 'iter', 'pre_rank', \n",
    "           'top_prediction_item_name',\n",
    "           'post_rank_random_all',\n",
    "           'post_rank_random_upper',\n",
    "           'random_scores',\n",
    "           'post_rank_pop_all',\n",
    "           'post_rank_pop_upper',\n",
    "           'pop_scores',\n",
    "           'post_rank_diff_all',\n",
    "           'post_rank_diff_upper',\n",
    "           'diff_scores',\n",
    "           'critiqued_keyphrase_random',\n",
    "           'keyphrase_name_random',\n",
    "           'critiqued_keyphrase_pop',\n",
    "           'keyphrase_name_pop',\n",
    "           'critiqued_keyphrase_diff',\n",
    "           'keyphrase_name_diff',\n",
    "           'num_existing_keyphrases',\n",
    "           'pure_pruning_rank'] \n",
    "df = pd.DataFrame(columns=columns)\n",
    "row = {}"
   ]
  },
  {
   "cell_type": "markdown",
   "metadata": {},
   "source": [
    "## Average"
   ]
  },
  {
   "cell_type": "code",
   "execution_count": 48,
   "metadata": {},
   "outputs": [],
   "source": [
    "def Average(initial_prediction_u, keyphrase_freq, affected_items, unaffected_items, num_keyphrases, query, test_user, item_latent, reg, all_equal = True):\n",
    "    critiqued_vector = np.zeros(keyphrase_freq.shape[1])\n",
    "    \n",
    "    for q in query:\n",
    "#         critiqued_vector[q] = 1\n",
    "        critiqued_vector[q] = max(keyphrase_freq[test_user , q],1)\n",
    "        \n",
    "    num_critiques = len(query)\n",
    "    \n",
    "    # Get item latent for updating prediction\n",
    "    W2 = reg.coef_\n",
    "    W = item_latent.dot(W2)\n",
    "    \n",
    "    optimal_lambda = 1 # weight all critiquing equally\n",
    "    \n",
    "    lambdas = [optimal_lambda]*num_critiques\n",
    "    \n",
    "    # Record lambda values \n",
    "    for k in range(num_critiques):\n",
    "        critiqued_vector[query[k]] *= optimal_lambda\n",
    "\n",
    "    # Get rating score\n",
    "    critique_score = predict_scores(matrix_U=reg.predict(critiqued_vector.reshape(1, -1)),\n",
    "                                    matrix_V=item_latent)\n",
    "    new_prediction = initial_prediction_u + critique_score.flatten()\n",
    "    \n",
    "#     if all_equal:\n",
    "#         # weight initial and each critiquing equally \n",
    "#         new_prediction = initial_prediction_u/(num_critiques) + critique_score.flatten()\n",
    "#     else:\n",
    "#         # weight intial and combined critiquing equally\n",
    "#         new_prediction = initial_prediction_u + critique_score.flatten() \n",
    "# #     print (len(new_prediction))\n",
    "    return new_prediction, lambdas   \n"
   ]
  },
  {
   "cell_type": "markdown",
   "metadata": {},
   "source": [
    "## Rating Objective"
   ]
  },
  {
   "cell_type": "code",
   "execution_count": 103,
   "metadata": {},
   "outputs": [],
   "source": [
    "def LP1SimplifiedOptimize(initial_prediction_u, keyphrase_freq, affected_items, unaffected_items, num_keyphrases, \n",
    "                          query, test_user, item_latent, reg):\n",
    "\n",
    "    critiqued_vector = np.zeros(keyphrase_freq.shape[1])\n",
    "\n",
    "    for q in query:\n",
    "#         critiqued_vector[q] = -keyphrase_freq[test_user][q]\n",
    "        critiqued_vector[q] = max(keyphrase_freq[test_user , q],1)\n",
    "\n",
    "    num_critiques = len(query)\n",
    "    \n",
    "    W2 = reg.coef_\n",
    "    W = item_latent.dot(W2)\n",
    "\n",
    "    num_affected_items = len(affected_items)\n",
    "    num_unaffected_items = len(unaffected_items)\n",
    "\n",
    "    start_time = time.time()\n",
    "\n",
    "    # Model\n",
    "    m = Model(\"LP1Simplified\")\n",
    "    m.setParam('OutputFlag', 0)\n",
    "    # Assignment variables\n",
    "    lambs = []\n",
    "\n",
    "    for k in range(num_critiques):\n",
    "        lambs.append(m.addVar(lb=-1,\n",
    "                              ub=1,\n",
    "                              vtype=GRB.CONTINUOUS,\n",
    "                              name=\"lamb%d\" % query[k]))\n",
    "        \n",
    "#     print ('affected_items', affected_items)\n",
    "#     print (int(affected_items[0]))\n",
    "#     print ('unaffected_items', unaffected_items)\n",
    "#     print (int(unaffected_items[0]))\n",
    "    \n",
    "#     m.setObjective( quicksum(initial_prediction_u[unaffected_item] * num_affected_items + quicksum(lambs[i] * critiqued_vector[query[i]] * W[unaffected_item][query[i]] * num_affected_items for i in range(num_critiques) ) for unaffected_item in unaffected_items - \n",
    "#                     quicksum(initial_prediction_u[affected_item] * num_unaffected_items + quicksum(lambs[i] * critiqued_vector[query[i]] * W[affected_item][query[i]] * num_unaffected_items for i in range(num_critiques) ) for affected_item in affected_items)), GRB.MINIMIZE)\n",
    "    m.setObjective(quicksum(initial_prediction_u[affected_item] * num_unaffected_items + quicksum(lambs[k] * critiqued_vector[query[k]] * W[affected_item][query[k]] * num_unaffected_items for k in range(num_critiques)) for affected_item in affected_items) - quicksum(initial_prediction_u[unaffected_item] * num_affected_items + quicksum(lambs[k] * critiqued_vector[query[k]] * W[unaffected_item][query[k]] * num_affected_items for k in range(num_critiques)) for unaffected_item in unaffected_items), GRB.MAXIMIZE)\n",
    "\n",
    "    # Optimize\n",
    "    m.optimize()\n",
    "\n",
    "#     print(\"Elapsed: {}\".format(inhour(time.time() - start_time)))\n",
    "\n",
    "    lambdas = []\n",
    "    for k in range(num_critiques):\n",
    "        optimal_lambda = m.getVars()[k].X\n",
    "        lambdas.append(optimal_lambda)\n",
    "        critiqued_vector[query[k]] *= optimal_lambda\n",
    "\n",
    "    critique_score = predict_scores(matrix_U=reg.predict(critiqued_vector.reshape(1, -1)),\n",
    "                                    matrix_V=item_latent)\n",
    "\n",
    "    new_prediction = initial_prediction_u + critique_score.flatten()\n",
    "\n",
    "    return new_prediction, lambdas\n"
   ]
  },
  {
   "cell_type": "markdown",
   "metadata": {},
   "source": [
    "## RankSVM Objective"
   ]
  },
  {
   "cell_type": "code",
   "execution_count": 33,
   "metadata": {},
   "outputs": [],
   "source": [
    "#### See https://www.overleaf.com/read/wwftdhpcmxnx\n",
    "#### For the RankSVM math\n",
    "\n",
    "def rankSVM(initial_prediction_u, keyphrase_freq, affected_items, unaffected_items, num_keyphrases, \n",
    "            query, test_user, item_latent, reg, user_latent_embedding, item_keyphrase_freq = I_K):\n",
    "    critiques = query # fix this variable name later\n",
    "    \n",
    "#     critiqued_vector = np.zeros(keyphrase_freq.shape[1])\n",
    "    \n",
    "#     for c in critiques:\n",
    "# #         critiqued_vector[q] = 1 # set critiqued/boosted keyphrase to 1\n",
    "#         critiqued_vector[c] = max(keyphrase_freq[test_user , c],1)\n",
    "# #         print ('critiqued_vector setting: ',critiqued_vector[q])\n",
    "#     print ('affected items, ',affected_items)\n",
    "#     print ('unaffected items, ',unaffected_items)\n",
    "    \n",
    "    num_critiques = len(critiques)\n",
    "\n",
    "    W2 = reg.coef_\n",
    "    W = item_latent.dot(W2)\n",
    "\n",
    "    num_affected_items = len(affected_items)\n",
    "    num_unaffected_items = len(unaffected_items)\n",
    "\n",
    "    start_time = time.time()\n",
    "\n",
    "    # Model\n",
    "    m = Model(\"LP2RankSVM\")\n",
    "    m.setParam('OutputFlag', 0)\n",
    "    \n",
    "    # Assignment variables\n",
    "    thetas = []\n",
    "    us = []\n",
    "    xis = []\n",
    "    # weight thetas\n",
    "    for k in range(num_critiques + 1):\n",
    "        thetas.append(m.addVar(lb=-1,\n",
    "                              ub=1,\n",
    "                              vtype=GRB.CONTINUOUS,\n",
    "                              name=\"theta%d\" % k))\n",
    "    thetas = np.array(thetas)\n",
    "    # dummy variable u for absolute theta\n",
    "    for k in range(num_critiques + 1):\n",
    "        us.append(m.addVar(vtype=GRB.CONTINUOUS,\n",
    "                          name=\"u%d\" % k))\n",
    "        \n",
    "    # slack variables xi\n",
    "    for i in range(num_affected_items):\n",
    "        for j in range(num_unaffected_items):\n",
    "            xis.append(m.addVar(lb = 0, \n",
    "                                vtype = GRB.CONTINUOUS,\n",
    "                                name = \"xi_%d_%d\" % (i,j) ))\n",
    "      \n",
    "    ## constraints\n",
    "    # constraints for dummy variable u's\n",
    "    for k in range(num_critiques+1):\n",
    "        m.addConstr(us[k] >= thetas[k])\n",
    "        m.addConstr(us[k] >= -thetas[k])\n",
    "        \n",
    "    \n",
    "    ## Pre-calculate critique embedding\n",
    "    u_i = Y[test_user]\n",
    "    phi_js = []\n",
    "    phi_jprimes = []\n",
    "    k_cis = []\n",
    "    \n",
    "    user_latent_embedding = np.array(user_latent_embedding)\n",
    "#     print ('user latent embedding shape: ', user_latent_embedding.shape)\n",
    "    # constraints for rankSVM \n",
    "    for j in range(num_affected_items):\n",
    "        for j_ in range(num_unaffected_items):\n",
    "            m.addConstr( thetas.dot(user_latent_embedding.dot(RQ[affected_items[j]])) >= thetas.dot(user_latent_embedding.dot(RQ[unaffected_items[j_]])) + 1 - xis[j*num_affected_items + j_], name = \"constraints%d_%d\" % (j,j_))\n",
    "#             print ('item j embedding :',user_latent_embedding.dot(RQ[j]) )\n",
    "#             print ('item j_ embedding:',user_latent_embedding.dot(RQ[j_]) )\n",
    "    lamb = 5 #regularization parameter (trading-off margin size against training error\n",
    "    m.setObjective(quicksum(us) + lamb * quicksum(xis), GRB.MINIMIZE)\n",
    "                \n",
    "    # Optimize\n",
    "    m.optimize()\n",
    "\n",
    "#     print(\"Elapsed: {}\".format(inhour(time.time() - start_time)))\n",
    "\n",
    "    thetas = []\n",
    "    for k in range(num_critiques+1):\n",
    "        optimal_theta = m.getVarByName(\"theta%d\" % k).X\n",
    "        thetas.append(optimal_theta)\n",
    "        \n",
    "#     print ('optimal thetas: ',thetas)\n",
    "\n",
    "\n",
    "    critiqued_vector = np.zeros(keyphrase_freq.shape[1])\n",
    "    \n",
    "    # Combine weights to critiqued vector\n",
    "    for c in critiques:\n",
    "#         critiqued_vector[q] = 1 # set critiqued/boosted keyphrase to 1\n",
    "        critiqued_vector[c] = max(keyphrase_freq[test_user , c],1)\n",
    "    for k in range(num_critiques):\n",
    "        critiqued_vector[critiques[k]] *= thetas[k+1]\n",
    "    \n",
    "    # Get rating score\n",
    "    critique_score = predict_scores(matrix_U=reg.predict(critiqued_vector.reshape(1, -1)),\n",
    "                                    matrix_V=item_latent)\n",
    "    new_prediction = thetas[0]*initial_prediction_u + critique_score.flatten()\n",
    "    \n",
    "    return new_prediction, thetas"
   ]
  },
  {
   "cell_type": "code",
   "execution_count": 41,
   "metadata": {},
   "outputs": [],
   "source": [
    "#### See https://www.overleaf.com/read/wwftdhpcmxnx\n",
    "#### For the RankSVM math\n",
    "\n",
    "def rankSVM2(initial_prediction_u, keyphrase_freq, affected_items, unaffected_items, num_keyphrases, \n",
    "            query, test_user, item_latent, reg, user_latent_embedding, item_keyphrase_freq = I_K, lamb = [5,5]):\n",
    "    critiques = query # fix this variable name later\n",
    "\n",
    "    # pre calculate some value\n",
    "    num_critiques = len(critiques)\n",
    "\n",
    "    num_affected_items = len(affected_items)\n",
    "    num_unaffected_items = len(unaffected_items)\n",
    "\n",
    "#     start_time = time.time()\n",
    "\n",
    "    # Model\n",
    "    m = Model(\"LP2RankSVM2\")\n",
    "    m.setParam('OutputFlag', 0) # set to 1 for outputing details\n",
    "    \n",
    "    # Assignment variables\n",
    "    thetas = []\n",
    "    us = []\n",
    "    xi_pos = []\n",
    "    xi_neg = []\n",
    "    # weight thetas\n",
    "    for k in range(num_critiques + 1):\n",
    "        thetas.append(m.addVar(lb=-1,\n",
    "                              ub=1,\n",
    "                              vtype=GRB.CONTINUOUS,\n",
    "                              name=\"theta%d\" % k))\n",
    "    thetas = np.array(thetas)\n",
    "    \n",
    "    # dummy variable u for absolute theta\n",
    "    for k in range(num_critiques + 1):\n",
    "        us.append(m.addVar(vtype=GRB.CONTINUOUS,\n",
    "                          name=\"u%d\" % k))\n",
    "        \n",
    "    # slack variables xi\n",
    "    for i in range(num_affected_items):\n",
    "        xi_pos.append(m.addVar(lb = 0, \n",
    "                                vtype = GRB.CONTINUOUS,\n",
    "                                name = \"xi_pos%d\" % i ))\n",
    "    for i in range(num_unaffected_items):\n",
    "        xi_neg.append(m.addVar(lb = 0, \n",
    "                                vtype = GRB.CONTINUOUS,\n",
    "                                name = \"xi_neg%d\" % i ))\n",
    "        \n",
    "    ## constraints\n",
    "    # constraints for dummy variable u's\n",
    "    for k in range(num_critiques+1):\n",
    "        m.addConstr(us[k] >= thetas[k])\n",
    "        m.addConstr(us[k] >= -thetas[k])\n",
    " \n",
    "    user_latent_embedding = np.array(user_latent_embedding)\n",
    "    \n",
    "    # Affected items rank higher\n",
    "    for j in range(num_affected_items):\n",
    "        m.addConstr( thetas.dot(user_latent_embedding.dot(RQ[affected_items[j]])) >= initial_prediction_u[affected_items[j]] + 1 - xi_pos[j], name = \"pos_constraint%d\" % j )\n",
    "    \n",
    "    # Unaffected items rank lower\n",
    "    for j in range(num_unaffected_items):\n",
    "        m.addConstr( initial_prediction_u[unaffected_items[j]] - thetas.dot(user_latent_embedding.dot(RQ[unaffected_items[j]])) >=  1 - xi_neg[j], name = \"neg_constraint%d\" % j )\n",
    "            \n",
    "    # objective\n",
    "    lamb1 = lamb[0] #regularization for trading-off margin size against training error\n",
    "    lamb2 = lamb[1] #regularization for trading-off deviation from Averaging \n",
    "\n",
    "    m.setObjective(quicksum(us) + lamb1 * (quicksum(xi_pos)+quicksum(xi_neg)) + lamb2 * quicksum( [( 1- theta) for theta in thetas]), GRB.MINIMIZE) \n",
    "    \n",
    "\n",
    "                \n",
    "    # Optimize\n",
    "    m.optimize()\n",
    "\n",
    "    # Save optimal thetas\n",
    "    thetas = []\n",
    "    for k in range(num_critiques+1):\n",
    "        optimal_theta = m.getVarByName(\"theta%d\" % k).X\n",
    "        thetas.append(optimal_theta)\n",
    "        \n",
    "    critiqued_vector = np.zeros(keyphrase_freq.shape[1])\n",
    "    \n",
    "    # Combine weights to critiqued vector\n",
    "    for c in critiques:\n",
    "#         critiqued_vector[c] = 1 # set critiqued/boosted keyphrase to 1\n",
    "        critiqued_vector[c] = max(keyphrase_freq[test_user , c],1)\n",
    "    \n",
    "    for k in range(num_critiques):\n",
    "        critiqued_vector[critiques[k]] *= thetas[k+1]\n",
    "    \n",
    "    # Get rating score\n",
    "    critique_score = predict_scores(matrix_U=reg.predict(critiqued_vector.reshape(1, -1)),\n",
    "                                    matrix_V=item_latent)\n",
    "    new_prediction = thetas[0]*initial_prediction_u/num_critiques + critique_score.flatten()\n",
    "#     new_prediction = initial_prediction_u/num_critiques + critique_score.flatten()\n",
    "#     new_prediction = critique_score.flatten()\n",
    "    \n",
    "    return new_prediction, thetas"
   ]
  },
  {
   "cell_type": "code",
   "execution_count": 120,
   "metadata": {},
   "outputs": [],
   "source": [
    "#### Changes minimization objective compares to ranksvm2\n",
    "\n",
    "def rankSVM3(initial_prediction_u, keyphrase_freq, affected_items, unaffected_items, num_keyphrases, \n",
    "            query, test_user, item_latent, reg, user_latent_embedding, item_keyphrase_freq = I_K, lamb = 5):\n",
    "    critiques = query # fix this variable name later\n",
    "\n",
    "    # pre calculate some value\n",
    "    num_critiques = len(critiques)\n",
    "\n",
    "    num_affected_items = len(affected_items)\n",
    "    num_unaffected_items = len(unaffected_items)\n",
    "\n",
    "#     start_time = time.time()\n",
    "\n",
    "    # Model\n",
    "    m = Model(\"LP2RankSVM2\")\n",
    "    m.setParam('OutputFlag', 0) # set to 1 for outputing details\n",
    "    \n",
    "    # Assignment variables\n",
    "    thetas = []\n",
    "    us = []\n",
    "    xi_pos = []\n",
    "    xi_neg = []\n",
    "    # weight thetas\n",
    "    for k in range(num_critiques + 1):\n",
    "        thetas.append(m.addVar(lb=-2,\n",
    "                              ub=2,\n",
    "                              vtype=GRB.CONTINUOUS,\n",
    "                              name=\"theta%d\" % k))\n",
    "    thetas = np.array(thetas)\n",
    "    \n",
    "    # dummy variable u for absolute theta\n",
    "    for k in range(num_critiques + 1):\n",
    "        us.append(m.addVar(vtype=GRB.CONTINUOUS,\n",
    "                          name=\"u%d\" % k))\n",
    "        \n",
    "    # slack variables xi\n",
    "    for i in range(num_affected_items):\n",
    "        xi_pos.append(m.addVar(lb = 0, \n",
    "                                vtype = GRB.CONTINUOUS,\n",
    "                                name = \"xi_pos%d\" % i ))\n",
    "    for i in range(num_unaffected_items):\n",
    "        xi_neg.append(m.addVar(lb = 0, \n",
    "                                vtype = GRB.CONTINUOUS,\n",
    "                                name = \"xi_neg%d\" % i ))\n",
    "        \n",
    "    ## constraints\n",
    "    # constraints for dummy variable u's\n",
    "    for k in range(num_critiques+1):\n",
    "        m.addConstr(us[k] >= thetas[k] - 1)\n",
    "        m.addConstr(us[k] >= 1 - thetas[k])\n",
    " \n",
    "    user_latent_embedding = np.array(user_latent_embedding)\n",
    "    \n",
    "    # Affected items rank higher\n",
    "    for j in range(num_affected_items):\n",
    "        m.addConstr( thetas.dot(user_latent_embedding.dot(RQ[affected_items[j]])) >= initial_prediction_u[affected_items[j]] + 1 - xi_pos[j], name = \"pos_constraint%d\" % j )\n",
    "    \n",
    "    # Unaffected items rank lower\n",
    "    for j in range(num_unaffected_items):\n",
    "        m.addConstr( initial_prediction_u[unaffected_items[j]] - thetas.dot(user_latent_embedding.dot(RQ[unaffected_items[j]])) >=  1 - xi_neg[j], name = \"neg_constraint%d\" % j )\n",
    "            \n",
    "    # objective\n",
    "    if type(lamb) != list:\n",
    "        m.setObjective(quicksum(us) + lamb * (quicksum(xi_pos)+quicksum(xi_neg)), GRB.MINIMIZE)  # Single regularization\n",
    "    else:\n",
    "        lamb1 = lamb[0] #regularization for trading-off margin size against training error\n",
    "        lamb2 = lamb[1] #regularization for trading-off deviation from Averaging \n",
    "        m.setObjective(lamb1* quicksum(us) + lamb2 * (quicksum(xi_pos)+quicksum(xi_neg)), GRB.MINIMIZE) # double regularization\n",
    "    \n",
    "                \n",
    "    # Optimize\n",
    "    m.optimize()\n",
    "\n",
    "    # Save optimal thetas\n",
    "    thetas = []\n",
    "    for k in range(num_critiques+1):\n",
    "        optimal_theta = m.getVarByName(\"theta%d\" % k).X\n",
    "        thetas.append(optimal_theta)\n",
    "        \n",
    "    critiqued_vector = np.zeros(keyphrase_freq.shape[1])\n",
    "    \n",
    "    # Combine weights to critiqued vector\n",
    "    for c in critiques:\n",
    "#         critiqued_vector[c] = 1 # set critiqued/boosted keyphrase to 1\n",
    "        critiqued_vector[c] = max(keyphrase_freq[test_user , c],1)\n",
    "    \n",
    "    for k in range(num_critiques):\n",
    "        critiqued_vector[critiques[k]] *= thetas[k+1]\n",
    "    \n",
    "    # Get rating score\n",
    "    critique_score = predict_scores(matrix_U=reg.predict(critiqued_vector.reshape(1, -1)),\n",
    "                                    matrix_V=item_latent)\n",
    "    new_prediction = thetas[0]*initial_prediction_u/num_critiques + critique_score.flatten()\n",
    "#     new_prediction = initial_prediction_u/num_critiques + critique_score.flatten()\n",
    "#     new_prediction = critique_score.flatten()\n",
    "    \n",
    "    return new_prediction, thetas"
   ]
  },
  {
   "cell_type": "markdown",
   "metadata": {},
   "source": [
    "# Main"
   ]
  },
  {
   "cell_type": "code",
   "execution_count": 111,
   "metadata": {},
   "outputs": [],
   "source": [
    "class LP1Simplified(object):\n",
    "    def __init__(self, keyphrase_freq, item_keyphrase_freq, row, matrix_Train, matrix_Test, test_users,\n",
    "                 target_ranks, num_items_sampled, num_keyphrases, df,\n",
    "                 max_iteration_threshold, keyphrase_popularity, dataset_name,\n",
    "                 model, parameters_row, keyphrases_names, keyphrase_selection_method, max_wanted_keyphrase, lamb, **unused):\n",
    "        self.keyphrase_freq = keyphrase_freq\n",
    "        self.item_keyphrase_freq = item_keyphrase_freq\n",
    "        self.row = row\n",
    "        self.matrix_Train = matrix_Train\n",
    "        self.num_users, self.num_items = matrix_Train.shape\n",
    "        self.matrix_Test = matrix_Test\n",
    "        self.test_users = test_users\n",
    "        self.target_ranks = target_ranks\n",
    "        self.num_items_sampled = num_items_sampled\n",
    "        self.num_keyphrases = num_keyphrases\n",
    "        self.df = df\n",
    "        self.max_iteration_threshold = max_iteration_threshold\n",
    "        self.keyphrase_popularity = keyphrase_popularity\n",
    "        self.dataset_name = dataset_name\n",
    "        self.model = model\n",
    "        self.parameters_row = parameters_row\n",
    "        self.keyphrase_selection_method = keyphrase_selection_method\n",
    "        self.max_wanted_keyphrase = max_wanted_keyphrase\n",
    "        \n",
    "        self.lamb = lamb\n",
    "        self.keyphrases_names = keyphrases_names\n",
    "\n",
    "    def start_critiquing(self):\n",
    "#         self.get_initial_predictions() # No need to do it every time\n",
    "        self.RQ = RQ\n",
    "        Yt = Y.T \n",
    "        self.Y = Y\n",
    "\n",
    "        self.reg = reg\n",
    "\n",
    "        self.prediction_scores = predict_scores(matrix_U=self.RQ,\n",
    "                                                matrix_V=self.Y,\n",
    "                                                bias=Bias).T\n",
    "        \n",
    "        for user in tqdm(self.test_users):\n",
    "            start_time = time.time()\n",
    "            # User id starts from 0\n",
    "            self.row['user_id'] = user\n",
    "            \n",
    "            initial_prediction_items = predict_vector(rating_vector=self.prediction_scores[user],\n",
    "                                                            train_vector=self.matrix_Train[user],\n",
    "                                                            remove_train=True)\n",
    "            # For keyphrase selection method 'diff' \n",
    "            top_recommended_keyphrase_freq = get_item_keyphrase_freq(self.item_keyphrase_freq,item = initial_prediction_items[0])\n",
    "            \n",
    "            # The iteration will stop if the wanted item is in top n\n",
    "            for target_rank in self.target_ranks:\n",
    "                self.row['target_rank'] = target_rank\n",
    "                \n",
    "                # Pick wanted items in test items\n",
    "                candidate_items = self.matrix_Test[user].nonzero()[1]\n",
    "                train_items = self.matrix_Train[user].nonzero()[1]\n",
    "                wanted_items = np.setdiff1d(candidate_items, train_items)\n",
    "                \n",
    "                for item in wanted_items:\n",
    "                    # Item id starts from 0\n",
    "                    self.row['item_id'] = item\n",
    "                    try:\n",
    "                        self.row['item_name'] = get_restaurant_name(df_train, business_df,item)\n",
    "                    except:\n",
    "                        self.row['item_name'] = 'NOT_FOUND'\n",
    "                    # Set the wanted item's initial rank as None\n",
    "                    self.row['item_rank'] = None\n",
    "                    # Set the wanted item's initial prediction score as None\n",
    "                    self.row['item_score'] = None\n",
    "                    \n",
    "                    if self.keyphrase_selection_method == \"random\" or self.keyphrase_selection_method == \"pop\":\n",
    "                        # Get the item's existing keyphrases (we can boost)\n",
    "                        remaining_keyphrases = self.item_keyphrase_freq[item].nonzero()[1]\n",
    "                    if self.keyphrase_selection_method == \"diff\":\n",
    "                        # For keyphrase selection method 'diff' \n",
    "                        target_keyphrase_freq = get_item_keyphrase_freq(self.item_keyphrase_freq,item = item)\n",
    "                        diff_keyphrase_freq = target_keyphrase_freq - top_recommended_keyphrase_freq\n",
    "                        remaining_keyphrases = np.argsort(np.ravel(diff_keyphrase_freq))[::-1][:self.max_wanted_keyphrase]\n",
    "                        \n",
    "#                    print(\"The number of remaining_keyphrases is {}. remaining_keyphrases are: {}\".format(len(remaining_keyphrases), remaining_keyphrases))\n",
    "                    self.row['num_existing_keyphrases'] = len(remaining_keyphrases)\n",
    "                    if len(remaining_keyphrases) == 0:\n",
    "                        break\n",
    "                    self.row['iteration'] = 0\n",
    "                    self.row['critiqued_keyphrase'] = None\n",
    "                    self.row['result'] = None\n",
    "                    self.df = self.df.append(self.row, ignore_index=True)\n",
    "\n",
    "                    query = []\n",
    "                    affected_items = np.array([])\n",
    "                    \n",
    "                    # Set up latent embedding\n",
    "                    user_latent_embedding = [Y[user]]\n",
    "                    \n",
    "                    for iteration in range(self.max_iteration_threshold):\n",
    "                        self.row['iteration'] = iteration + 1\n",
    "                                                \n",
    "                        if self.keyphrase_selection_method == \"pop\":\n",
    "                            # Always critique the most popular keyphrase\n",
    "                            critiqued_keyphrase = remaining_keyphrases[np.argmax(self.keyphrase_popularity[remaining_keyphrases])]\n",
    "    #                        print(\"remaining keyphrases popularity: {}\".format(self.keyphrase_popularity[remaining_keyphrases]))\n",
    "                        elif self.keyphrase_selection_method == \"random\":\n",
    "                            critiqued_keyphrase = np.random.choice(remaining_keyphrases, size=1, replace=False)[0]\n",
    "            \n",
    "                        elif self.keyphrase_selection_method == \"diff\":\n",
    "                            critiqued_keyphrase = remaining_keyphrases[0]\n",
    "#                             print ('critiqued_keyphrase', critiqued_keyphrase)\n",
    "                        \n",
    "                        self.row['critiqued_keyphrase'] = critiqued_keyphrase\n",
    "                        self.row['critiqued_keyphrase_name'] = keyphrases_names[critiqued_keyphrase]\n",
    "                        query.append(critiqued_keyphrase)\n",
    "\n",
    "                        # Get affected items (items have critiqued keyphrase)\n",
    "                        current_affected_items = self.item_keyphrase_freq[:, critiqued_keyphrase].nonzero()[0]\n",
    "                        affected_items = np.unique(np.concatenate((affected_items, current_affected_items))).astype(int)\n",
    "                        unaffected_items = np.setdiff1d(range(self.num_items), affected_items)\n",
    "\n",
    "                        if iteration == 0:\n",
    "                            prediction_items = initial_prediction_items #calculated once for each user\n",
    "\n",
    "                        affected_items_mask = np.in1d(prediction_items, affected_items)\n",
    "                        affected_items_index_rank = np.where(affected_items_mask == True)\n",
    "                        unaffected_items_index_rank = np.where(affected_items_mask == False)\n",
    "\n",
    "                        import copy\n",
    "                        \n",
    "                        ## concat critique embeddings to user latent embedding\n",
    "                        # Get critique vector \n",
    "                        critiqued_vector = np.zeros(self.keyphrase_freq.shape[1])\n",
    "                        critiqued_vector[critiqued_keyphrase] = max(self.keyphrase_freq[user , critiqued_keyphrase],1)\n",
    "                        # map user critique to user latent embedding\n",
    "                        k_ci = reg.predict(critiqued_vector.reshape(1, -1)).flatten()\n",
    "                        user_latent_embedding.append(k_ci)\n",
    "#                         print ('user latent embedding shape: ', np.array(user_latent_embedding).shape)\n",
    "\n",
    "                        \n",
    "#                         prediction_scores_u, lambdas = Average(initial_prediction_u=self.prediction_scores[user],\n",
    "#                                                                              keyphrase_freq=copy.deepcopy(self.keyphrase_freq),\n",
    "#                                                                              affected_items=np.intersect1d(affected_items, prediction_items[affected_items_index_rank[0][:20]]),\n",
    "#                                                                              unaffected_items=np.intersect1d(unaffected_items, prediction_items[unaffected_items_index_rank[0][:20]]),\n",
    "#                                                                              num_keyphrases=self.num_keyphrases,\n",
    "#                                                                              query=query,\n",
    "#                                                                              test_user=user,\n",
    "#                                                                              item_latent=self.RQ,\n",
    "#                                                                              reg=self.reg)\n",
    "#                         prediction_scores_u, lambdas = LP1SimplifiedOptimize(initial_prediction_u=self.prediction_scores[user],\n",
    "#                                                                              keyphrase_freq=copy.deepcopy(self.keyphrase_freq),\n",
    "#                                                                              affected_items=np.intersect1d(affected_items, prediction_items[affected_items_index_rank[0][:20]]),\n",
    "#                                                                              unaffected_items=np.intersect1d(unaffected_items, prediction_items[unaffected_items_index_rank[0][:20]]),\n",
    "#                                                                              num_keyphrases=self.num_keyphrases,\n",
    "#                                                                              query=query,\n",
    "#                                                                              test_user=user,\n",
    "#                                                                              item_latent=self.RQ,\n",
    "#                                                                              reg=self.reg)\n",
    "#                         prediction_scores_u, lambdas = rankSVM(initial_prediction_u=self.prediction_scores[user],\n",
    "#                                                                              keyphrase_freq=copy.deepcopy(self.keyphrase_freq),\n",
    "#                                                                              affected_items=np.intersect1d(affected_items, prediction_items[affected_items_index_rank[0][:20]]),\n",
    "#                                                                              unaffected_items=np.intersect1d(unaffected_items, prediction_items[unaffected_items_index_rank[0][:20]]),\n",
    "#                                                                              num_keyphrases=self.num_keyphrases,\n",
    "#                                                                              query=query,\n",
    "#                                                                              test_user=user,\n",
    "#                                                                              item_latent=self.RQ,\n",
    "#                                                                              reg=self.reg,\n",
    "#                                                                              user_latent_embedding = user_latent_embedding,\n",
    "#                                                                              item_keyphrase_freq = all_item_keyphrase_freq\n",
    "#                                                                              )\n",
    "#                         prediction_scores_u, lambdas = rankSVM2(initial_prediction_u=self.prediction_scores[user],\n",
    "#                                                                              keyphrase_freq=copy.deepcopy(self.keyphrase_freq),\n",
    "#                                                                              affected_items=np.intersect1d(affected_items, prediction_items[affected_items_index_rank[0][:20]]),\n",
    "#                                                                              unaffected_items=np.intersect1d(unaffected_items, prediction_items[unaffected_items_index_rank[0][:20]]),\n",
    "#                                                                              num_keyphrases=self.num_keyphrases,\n",
    "#                                                                              query=query,\n",
    "#                                                                              test_user=user,\n",
    "#                                                                              item_latent=self.RQ,\n",
    "#                                                                              reg=self.reg,\n",
    "#                                                                              user_latent_embedding = user_latent_embedding,\n",
    "#                                                                              item_keyphrase_freq = all_item_keyphrase_freq,\n",
    "#                                                                              lamb = self.lamb\n",
    "#                                                                              )    \n",
    "                        prediction_scores_u, lambdas = rankSVM3(initial_prediction_u=self.prediction_scores[user],\n",
    "                                                                             keyphrase_freq=copy.deepcopy(self.keyphrase_freq),\n",
    "                                                                             affected_items=np.intersect1d(affected_items, prediction_items[affected_items_index_rank[0][:20]]),\n",
    "                                                                             unaffected_items=np.intersect1d(unaffected_items, prediction_items[unaffected_items_index_rank[0][:20]]),\n",
    "                                                                             num_keyphrases=self.num_keyphrases,\n",
    "                                                                             query=query,\n",
    "                                                                             test_user=user,\n",
    "                                                                             item_latent=self.RQ,\n",
    "                                                                             reg=self.reg,\n",
    "                                                                             user_latent_embedding = user_latent_embedding,\n",
    "                                                                             item_keyphrase_freq = all_item_keyphrase_freq,\n",
    "                                                                             lamb = self.lamb\n",
    "                                                                             )                       \n",
    "    \n",
    "#                         item_keyphrase_freq = get_all_item_keyphrase_freq()\n",
    "                        \n",
    "                        self.row['lambda'] = lambdas\n",
    "                        prediction_items = predict_vector(rating_vector=prediction_scores_u,\n",
    "                                                          train_vector=self.matrix_Train[user],\n",
    "                                                          remove_train=False)\n",
    "                        recommended_items = prediction_items\n",
    "                        \n",
    "                        # Current item rank\n",
    "                        item_rank = np.where(recommended_items == item)[0][0]\n",
    "\n",
    "                        self.row['item_rank'] = item_rank\n",
    "                        self.row['item_score'] = prediction_scores_u[item]\n",
    "\n",
    "                        if item_rank + 1 <= target_rank:\n",
    "                            # Items is ranked within target rank\n",
    "                            self.row['result'] = 'successful'\n",
    "                            self.df = self.df.append(self.row, ignore_index=True)\n",
    "                            break\n",
    "                        else:\n",
    "                            remaining_keyphrases = np.setdiff1d(remaining_keyphrases, critiqued_keyphrase)\n",
    "                            # Continue if more keyphrases and iterations remained\n",
    "                            if len(remaining_keyphrases) > 0 and self.row['iteration'] < self.max_iteration_threshold:\n",
    "                                self.row['result'] = None\n",
    "                                self.df = self.df.append(self.row, ignore_index=True)\n",
    "                            else:\n",
    "                                # Otherwise, mark fail\n",
    "                                self.row['result'] = 'fail'\n",
    "                                self.df = self.df.append(self.row, ignore_index=True)\n",
    "                                break\n",
    "#                         break ## For Testing LP Objective\n",
    "        \n",
    "            print(\"User \", user ,\"Elapsed: {}\".format(inhour(time.time() - start_time)))\n",
    "        return self.df\n",
    "\n",
    "\n",
    "    def get_initial_predictions(self):\n",
    "        self.RQ, Yt, Bias = plrec(self.matrix_Train,\n",
    "                                       iteration=self.parameters_row['iter'],\n",
    "                                       lamb=self.parameters_row['lambda'],\n",
    "                                       rank=self.parameters_row['rank'])\n",
    "        self.Y = Yt.T\n",
    "\n",
    "        self.reg = LinearRegression().fit(self.keyphrase_freq, self.RQ)\n",
    "\n",
    "        self.prediction_scores = predict_scores(matrix_U=self.RQ,\n",
    "                                                matrix_V=self.Y,\n",
    "                                                bias=Bias)\n",
    "\n"
   ]
  },
  {
   "cell_type": "code",
   "execution_count": 117,
   "metadata": {
    "scrolled": true
   },
   "outputs": [
    {
     "name": "stderr",
     "output_type": "stream",
     "text": [
      "\n",
      "\n",
      "  0%|          | 0/1 [00:00<?, ?it/s]\u001b[A\u001b[A\n",
      "\n",
      "100%|██████████| 1/1 [00:33<00:00, 33.68s/it]\u001b[A\u001b[A"
     ]
    },
    {
     "name": "stdout",
     "output_type": "stream",
     "text": [
      "User  1 Elapsed: 00:00:33\n"
     ]
    },
    {
     "name": "stderr",
     "output_type": "stream",
     "text": [
      "\n"
     ]
    }
   ],
   "source": [
    "row = {}\n",
    "matrix_Train = rtrain\n",
    "matrix_Test = rtest\n",
    "test_users = np.arange(25)\n",
    "test_users = [1]\n",
    "# target_ranks = [20, 50]\n",
    "num_items_sampled = 5\n",
    "num_keyphrases = 235\n",
    "df = pd.DataFrame(row)\n",
    "max_iteration_threshold = 20\n",
    "keyphrase_popularity = keyphrase_popularity\n",
    "dataset_name = \"yelp\"\n",
    "model = \"plrec\"\n",
    "parameters_row = {'iter': 10,\n",
    "                  'lambda':200,\n",
    "                  'rank':200}\n",
    "keyphrases_names = keyphrases\n",
    "keyphrase_selection_method = 'diff'\n",
    "max_wanted_keyphrase = 20\n",
    "# lamb = [1000,1]\n",
    "lamb = 1\n",
    "critiquing_model = LP1Simplified(keyphrase_freq=U_K,\n",
    "                                item_keyphrase_freq=I_K,\n",
    "                                row=row,\n",
    "                                matrix_Train=matrix_Train,\n",
    "                                matrix_Test=matrix_Test,\n",
    "                                test_users=test_users,\n",
    "                                target_ranks=target_ranks,\n",
    "                                num_items_sampled=num_items_sampled,\n",
    "                                num_keyphrases=num_keyphrases,\n",
    "                                df=df,\n",
    "                                max_iteration_threshold=max_iteration_threshold,\n",
    "                                keyphrase_popularity=keyphrase_popularity,\n",
    "                                dataset_name=dataset_name,\n",
    "                                model=model,\n",
    "                                parameters_row=parameters_row,\n",
    "                                keyphrases_names = keyphrases_names,\n",
    "                                keyphrase_selection_method = keyphrase_selection_method,\n",
    "                                max_wanted_keyphrase = max_wanted_keyphrase,\n",
    "                                lamb = lamb)\n",
    "df = critiquing_model.start_critiquing()\n",
    "\n",
    "table_path = '../tables/critiquing/multi_step_critiquing/yelp/ranksvm/'\n",
    "name = 'rank_svm_test.csv'\n",
    "save_dataframe_csv(df, table_path, name)"
   ]
  },
  {
   "cell_type": "markdown",
   "metadata": {},
   "source": [
    "# Tune lambda"
   ]
  },
  {
   "cell_type": "code",
   "execution_count": 123,
   "metadata": {},
   "outputs": [
    {
     "name": "stderr",
     "output_type": "stream",
     "text": [
      "\n",
      "\n",
      "\n",
      "\n",
      "  0%|          | 0/25 [00:00<?, ?it/s]\u001b[A\u001b[A\u001b[A\u001b[A\n",
      "\n",
      "\n",
      "\n",
      "  4%|▍         | 1/25 [00:07<02:53,  7.22s/it]\u001b[A\u001b[A\u001b[A\u001b[A"
     ]
    },
    {
     "name": "stdout",
     "output_type": "stream",
     "text": [
      "User  0 Elapsed: 00:00:07\n"
     ]
    },
    {
     "name": "stderr",
     "output_type": "stream",
     "text": [
      "\n",
      "\n",
      "\n",
      "\n",
      "  8%|▊         | 2/25 [00:39<05:37, 14.68s/it]\u001b[A\u001b[A\u001b[A\u001b[A"
     ]
    },
    {
     "name": "stdout",
     "output_type": "stream",
     "text": [
      "User  1 Elapsed: 00:00:32\n"
     ]
    },
    {
     "name": "stderr",
     "output_type": "stream",
     "text": [
      "\n",
      "\n",
      "\n",
      "\n",
      " 12%|█▏        | 3/25 [00:46<04:34, 12.48s/it]\u001b[A\u001b[A\u001b[A\u001b[A"
     ]
    },
    {
     "name": "stdout",
     "output_type": "stream",
     "text": [
      "User  2 Elapsed: 00:00:07\n"
     ]
    },
    {
     "name": "stderr",
     "output_type": "stream",
     "text": [
      "\n",
      "\n",
      "\n",
      "\n",
      " 16%|█▌        | 4/25 [00:55<03:59, 11.38s/it]\u001b[A\u001b[A\u001b[A\u001b[A"
     ]
    },
    {
     "name": "stdout",
     "output_type": "stream",
     "text": [
      "User  3 Elapsed: 00:00:08\n"
     ]
    },
    {
     "name": "stderr",
     "output_type": "stream",
     "text": [
      "\n",
      "\n",
      "\n",
      "\n",
      " 20%|██        | 5/25 [00:58<02:57,  8.89s/it]\u001b[A\u001b[A\u001b[A\u001b[A"
     ]
    },
    {
     "name": "stdout",
     "output_type": "stream",
     "text": [
      "User  4 Elapsed: 00:00:03\n"
     ]
    },
    {
     "name": "stderr",
     "output_type": "stream",
     "text": [
      "\n",
      "\n",
      "\n",
      "\n",
      " 24%|██▍       | 6/25 [01:03<02:25,  7.68s/it]\u001b[A\u001b[A\u001b[A\u001b[A"
     ]
    },
    {
     "name": "stdout",
     "output_type": "stream",
     "text": [
      "User  5 Elapsed: 00:00:04\n"
     ]
    },
    {
     "name": "stderr",
     "output_type": "stream",
     "text": [
      "\n",
      "\n",
      "\n",
      "\n",
      " 28%|██▊       | 7/25 [01:07<02:00,  6.67s/it]\u001b[A\u001b[A\u001b[A\u001b[A"
     ]
    },
    {
     "name": "stdout",
     "output_type": "stream",
     "text": [
      "User  6 Elapsed: 00:00:04\n"
     ]
    },
    {
     "name": "stderr",
     "output_type": "stream",
     "text": [
      "\n",
      "\n",
      "\n",
      "\n",
      " 32%|███▏      | 8/25 [01:12<01:44,  6.14s/it]\u001b[A\u001b[A\u001b[A\u001b[A"
     ]
    },
    {
     "name": "stdout",
     "output_type": "stream",
     "text": [
      "User  7 Elapsed: 00:00:04\n"
     ]
    },
    {
     "name": "stderr",
     "output_type": "stream",
     "text": [
      "\n",
      "\n",
      "\n",
      "\n",
      " 36%|███▌      | 9/25 [01:18<01:38,  6.13s/it]\u001b[A\u001b[A\u001b[A\u001b[A"
     ]
    },
    {
     "name": "stdout",
     "output_type": "stream",
     "text": [
      "User  8 Elapsed: 00:00:06\n"
     ]
    },
    {
     "name": "stderr",
     "output_type": "stream",
     "text": [
      "\n",
      "\n",
      "\n",
      "\n",
      " 40%|████      | 10/25 [01:30<01:59,  7.96s/it]\u001b[A\u001b[A\u001b[A\u001b[A"
     ]
    },
    {
     "name": "stdout",
     "output_type": "stream",
     "text": [
      "User  9 Elapsed: 00:00:12\n"
     ]
    },
    {
     "name": "stderr",
     "output_type": "stream",
     "text": [
      "\n",
      "\n",
      "\n",
      "\n",
      " 44%|████▍     | 11/25 [01:40<01:58,  8.43s/it]\u001b[A\u001b[A\u001b[A\u001b[A"
     ]
    },
    {
     "name": "stdout",
     "output_type": "stream",
     "text": [
      "User  10 Elapsed: 00:00:09\n"
     ]
    },
    {
     "name": "stderr",
     "output_type": "stream",
     "text": [
      "\n",
      "\n",
      "\n",
      "\n",
      " 48%|████▊     | 12/25 [01:49<01:50,  8.50s/it]\u001b[A\u001b[A\u001b[A\u001b[A"
     ]
    },
    {
     "name": "stdout",
     "output_type": "stream",
     "text": [
      "User  11 Elapsed: 00:00:08\n"
     ]
    },
    {
     "name": "stderr",
     "output_type": "stream",
     "text": [
      "\n",
      "\n",
      "\n",
      "\n",
      " 52%|█████▏    | 13/25 [01:55<01:32,  7.74s/it]\u001b[A\u001b[A\u001b[A\u001b[A"
     ]
    },
    {
     "name": "stdout",
     "output_type": "stream",
     "text": [
      "User  12 Elapsed: 00:00:05\n"
     ]
    },
    {
     "name": "stderr",
     "output_type": "stream",
     "text": [
      "\n",
      "\n",
      "\n",
      "\n",
      " 56%|█████▌    | 14/25 [02:02<01:24,  7.70s/it]\u001b[A\u001b[A\u001b[A\u001b[A"
     ]
    },
    {
     "name": "stdout",
     "output_type": "stream",
     "text": [
      "User  13 Elapsed: 00:00:07\n"
     ]
    },
    {
     "name": "stderr",
     "output_type": "stream",
     "text": [
      "\n",
      "\n",
      "\n",
      "\n",
      " 60%|██████    | 15/25 [02:09<01:15,  7.51s/it]\u001b[A\u001b[A\u001b[A\u001b[A"
     ]
    },
    {
     "name": "stdout",
     "output_type": "stream",
     "text": [
      "User  14 Elapsed: 00:00:07\n"
     ]
    },
    {
     "name": "stderr",
     "output_type": "stream",
     "text": [
      "\n",
      "\n",
      "\n",
      "\n",
      " 64%|██████▍   | 16/25 [02:16<01:04,  7.12s/it]\u001b[A\u001b[A\u001b[A\u001b[A"
     ]
    },
    {
     "name": "stdout",
     "output_type": "stream",
     "text": [
      "User  15 Elapsed: 00:00:06\n"
     ]
    },
    {
     "name": "stderr",
     "output_type": "stream",
     "text": [
      "\n",
      "\n",
      "\n",
      "\n",
      " 68%|██████▊   | 17/25 [02:31<01:17,  9.74s/it]\u001b[A\u001b[A\u001b[A\u001b[A"
     ]
    },
    {
     "name": "stdout",
     "output_type": "stream",
     "text": [
      "User  16 Elapsed: 00:00:15\n"
     ]
    },
    {
     "name": "stderr",
     "output_type": "stream",
     "text": [
      "\n",
      "\n",
      "\n",
      "\n",
      " 72%|███████▏  | 18/25 [02:49<01:24, 12.02s/it]\u001b[A\u001b[A\u001b[A\u001b[A"
     ]
    },
    {
     "name": "stdout",
     "output_type": "stream",
     "text": [
      "User  17 Elapsed: 00:00:17\n"
     ]
    },
    {
     "name": "stderr",
     "output_type": "stream",
     "text": [
      "\n",
      "\n",
      "\n",
      "\n",
      " 76%|███████▌  | 19/25 [02:57<01:04, 10.82s/it]\u001b[A\u001b[A\u001b[A\u001b[A"
     ]
    },
    {
     "name": "stdout",
     "output_type": "stream",
     "text": [
      "User  18 Elapsed: 00:00:07\n"
     ]
    },
    {
     "name": "stderr",
     "output_type": "stream",
     "text": [
      "\n",
      "\n",
      "\n",
      "\n",
      " 80%|████████  | 20/25 [03:13<01:03, 12.60s/it]\u001b[A\u001b[A\u001b[A\u001b[A"
     ]
    },
    {
     "name": "stdout",
     "output_type": "stream",
     "text": [
      "User  19 Elapsed: 00:00:16\n"
     ]
    },
    {
     "name": "stderr",
     "output_type": "stream",
     "text": [
      "\n",
      "\n",
      "\n",
      "\n",
      " 84%|████████▍ | 21/25 [03:25<00:48, 12.17s/it]\u001b[A\u001b[A\u001b[A\u001b[A"
     ]
    },
    {
     "name": "stdout",
     "output_type": "stream",
     "text": [
      "User  20 Elapsed: 00:00:11\n"
     ]
    },
    {
     "name": "stderr",
     "output_type": "stream",
     "text": [
      "\n",
      "\n",
      "\n",
      "\n",
      " 88%|████████▊ | 22/25 [03:33<00:33, 11.14s/it]\u001b[A\u001b[A\u001b[A\u001b[A"
     ]
    },
    {
     "name": "stdout",
     "output_type": "stream",
     "text": [
      "User  21 Elapsed: 00:00:08\n"
     ]
    },
    {
     "name": "stderr",
     "output_type": "stream",
     "text": [
      "\n",
      "\n",
      "\n",
      "\n",
      " 92%|█████████▏| 23/25 [03:37<00:17,  8.79s/it]\u001b[A\u001b[A\u001b[A\u001b[A"
     ]
    },
    {
     "name": "stdout",
     "output_type": "stream",
     "text": [
      "User  22 Elapsed: 00:00:03\n",
      "User  23 Elapsed: 00:00:00\n"
     ]
    },
    {
     "name": "stderr",
     "output_type": "stream",
     "text": [
      "\n",
      "\n",
      "\n",
      "\n",
      "100%|██████████| 25/25 [03:42<00:00,  8.90s/it]\u001b[A\u001b[A\u001b[A\u001b[A\n",
      "\n",
      "\n",
      "\n",
      "\n",
      "  0%|          | 0/25 [00:00<?, ?it/s]\u001b[A\u001b[A\u001b[A\u001b[A"
     ]
    },
    {
     "name": "stdout",
     "output_type": "stream",
     "text": [
      "User  24 Elapsed: 00:00:05\n"
     ]
    },
    {
     "name": "stderr",
     "output_type": "stream",
     "text": [
      "\n",
      "\n",
      "\n",
      "\n",
      "  4%|▍         | 1/25 [00:07<02:56,  7.36s/it]\u001b[A\u001b[A\u001b[A\u001b[A"
     ]
    },
    {
     "name": "stdout",
     "output_type": "stream",
     "text": [
      "User  0 Elapsed: 00:00:07\n"
     ]
    },
    {
     "name": "stderr",
     "output_type": "stream",
     "text": [
      "\n",
      "\n",
      "\n",
      "\n",
      "  8%|▊         | 2/25 [00:41<05:55, 15.44s/it]\u001b[A\u001b[A\u001b[A\u001b[A"
     ]
    },
    {
     "name": "stdout",
     "output_type": "stream",
     "text": [
      "User  1 Elapsed: 00:00:34\n"
     ]
    },
    {
     "name": "stderr",
     "output_type": "stream",
     "text": [
      "\n",
      "\n",
      "\n",
      "\n",
      " 12%|█▏        | 3/25 [00:49<04:47, 13.09s/it]\u001b[A\u001b[A\u001b[A\u001b[A"
     ]
    },
    {
     "name": "stdout",
     "output_type": "stream",
     "text": [
      "User  2 Elapsed: 00:00:07\n"
     ]
    },
    {
     "name": "stderr",
     "output_type": "stream",
     "text": [
      "\n",
      "\n",
      "\n",
      "\n",
      " 16%|█▌        | 4/25 [00:57<04:06, 11.74s/it]\u001b[A\u001b[A\u001b[A\u001b[A"
     ]
    },
    {
     "name": "stdout",
     "output_type": "stream",
     "text": [
      "User  3 Elapsed: 00:00:08\n"
     ]
    },
    {
     "name": "stderr",
     "output_type": "stream",
     "text": [
      "\n",
      "\n",
      "\n",
      "\n",
      " 20%|██        | 5/25 [01:01<03:04,  9.21s/it]\u001b[A\u001b[A\u001b[A\u001b[A"
     ]
    },
    {
     "name": "stdout",
     "output_type": "stream",
     "text": [
      "User  4 Elapsed: 00:00:03\n"
     ]
    },
    {
     "name": "stderr",
     "output_type": "stream",
     "text": [
      "\n",
      "\n",
      "\n",
      "\n",
      " 24%|██▍       | 6/25 [01:06<02:30,  7.94s/it]\u001b[A\u001b[A\u001b[A\u001b[A"
     ]
    },
    {
     "name": "stdout",
     "output_type": "stream",
     "text": [
      "User  5 Elapsed: 00:00:04\n"
     ]
    },
    {
     "name": "stderr",
     "output_type": "stream",
     "text": [
      "\n",
      "\n",
      "\n",
      "\n",
      " 28%|██▊       | 7/25 [01:10<02:04,  6.94s/it]\u001b[A\u001b[A\u001b[A\u001b[A"
     ]
    },
    {
     "name": "stdout",
     "output_type": "stream",
     "text": [
      "User  6 Elapsed: 00:00:04\n"
     ]
    },
    {
     "name": "stderr",
     "output_type": "stream",
     "text": [
      "\n",
      "\n",
      "\n",
      "\n",
      " 32%|███▏      | 8/25 [01:15<01:48,  6.40s/it]\u001b[A\u001b[A\u001b[A\u001b[A"
     ]
    },
    {
     "name": "stdout",
     "output_type": "stream",
     "text": [
      "User  7 Elapsed: 00:00:05\n"
     ]
    },
    {
     "name": "stderr",
     "output_type": "stream",
     "text": [
      "\n",
      "\n",
      "\n",
      "\n",
      " 36%|███▌      | 9/25 [01:22<01:42,  6.39s/it]\u001b[A\u001b[A\u001b[A\u001b[A"
     ]
    },
    {
     "name": "stdout",
     "output_type": "stream",
     "text": [
      "User  8 Elapsed: 00:00:06\n"
     ]
    },
    {
     "name": "stderr",
     "output_type": "stream",
     "text": [
      "\n",
      "\n",
      "\n",
      "\n",
      " 40%|████      | 10/25 [01:34<02:01,  8.11s/it]\u001b[A\u001b[A\u001b[A\u001b[A"
     ]
    },
    {
     "name": "stdout",
     "output_type": "stream",
     "text": [
      "User  9 Elapsed: 00:00:12\n"
     ]
    },
    {
     "name": "stderr",
     "output_type": "stream",
     "text": [
      "\n",
      "\n",
      "\n",
      "\n",
      " 44%|████▍     | 11/25 [01:42<01:54,  8.20s/it]\u001b[A\u001b[A\u001b[A\u001b[A"
     ]
    },
    {
     "name": "stdout",
     "output_type": "stream",
     "text": [
      "User  10 Elapsed: 00:00:08\n"
     ]
    },
    {
     "name": "stderr",
     "output_type": "stream",
     "text": [
      "\n",
      "\n",
      "\n",
      "\n",
      " 48%|████▊     | 12/25 [01:51<01:49,  8.42s/it]\u001b[A\u001b[A\u001b[A\u001b[A"
     ]
    },
    {
     "name": "stdout",
     "output_type": "stream",
     "text": [
      "User  11 Elapsed: 00:00:08\n"
     ]
    },
    {
     "name": "stderr",
     "output_type": "stream",
     "text": [
      "\n",
      "\n",
      "\n",
      "\n",
      " 52%|█████▏    | 13/25 [01:57<01:31,  7.65s/it]\u001b[A\u001b[A\u001b[A\u001b[A"
     ]
    },
    {
     "name": "stdout",
     "output_type": "stream",
     "text": [
      "User  12 Elapsed: 00:00:05\n"
     ]
    },
    {
     "name": "stderr",
     "output_type": "stream",
     "text": [
      "\n",
      "\n",
      "\n",
      "\n",
      " 56%|█████▌    | 14/25 [02:05<01:25,  7.76s/it]\u001b[A\u001b[A\u001b[A\u001b[A"
     ]
    },
    {
     "name": "stdout",
     "output_type": "stream",
     "text": [
      "User  13 Elapsed: 00:00:08\n"
     ]
    },
    {
     "name": "stderr",
     "output_type": "stream",
     "text": [
      "\n",
      "\n",
      "\n",
      "\n",
      " 60%|██████    | 15/25 [02:12<01:16,  7.63s/it]\u001b[A\u001b[A\u001b[A\u001b[A"
     ]
    },
    {
     "name": "stdout",
     "output_type": "stream",
     "text": [
      "User  14 Elapsed: 00:00:07\n"
     ]
    },
    {
     "name": "stderr",
     "output_type": "stream",
     "text": [
      "\n",
      "\n",
      "\n",
      "\n",
      " 64%|██████▍   | 16/25 [02:19<01:05,  7.23s/it]\u001b[A\u001b[A\u001b[A\u001b[A"
     ]
    },
    {
     "name": "stdout",
     "output_type": "stream",
     "text": [
      "User  15 Elapsed: 00:00:06\n"
     ]
    },
    {
     "name": "stderr",
     "output_type": "stream",
     "text": [
      "\n",
      "\n",
      "\n",
      "\n",
      " 68%|██████▊   | 17/25 [02:34<01:17,  9.72s/it]\u001b[A\u001b[A\u001b[A\u001b[A"
     ]
    },
    {
     "name": "stdout",
     "output_type": "stream",
     "text": [
      "User  16 Elapsed: 00:00:15\n"
     ]
    },
    {
     "name": "stderr",
     "output_type": "stream",
     "text": [
      "\n",
      "\n",
      "\n",
      "\n",
      " 72%|███████▏  | 18/25 [02:52<01:23, 11.99s/it]\u001b[A\u001b[A\u001b[A\u001b[A"
     ]
    },
    {
     "name": "stdout",
     "output_type": "stream",
     "text": [
      "User  17 Elapsed: 00:00:17\n"
     ]
    },
    {
     "name": "stderr",
     "output_type": "stream",
     "text": [
      "\n",
      "\n",
      "\n",
      "\n",
      " 76%|███████▌  | 19/25 [03:00<01:06, 11.01s/it]\u001b[A\u001b[A\u001b[A\u001b[A"
     ]
    },
    {
     "name": "stdout",
     "output_type": "stream",
     "text": [
      "User  18 Elapsed: 00:00:08\n"
     ]
    },
    {
     "name": "stderr",
     "output_type": "stream",
     "text": [
      "\n",
      "\n",
      "\n",
      "\n",
      " 80%|████████  | 20/25 [03:17<01:03, 12.77s/it]\u001b[A\u001b[A\u001b[A\u001b[A"
     ]
    },
    {
     "name": "stdout",
     "output_type": "stream",
     "text": [
      "User  19 Elapsed: 00:00:16\n"
     ]
    },
    {
     "name": "stderr",
     "output_type": "stream",
     "text": [
      "\n",
      "\n",
      "\n",
      "\n",
      " 84%|████████▍ | 21/25 [03:28<00:49, 12.29s/it]\u001b[A\u001b[A\u001b[A\u001b[A"
     ]
    },
    {
     "name": "stdout",
     "output_type": "stream",
     "text": [
      "User  20 Elapsed: 00:00:11\n"
     ]
    },
    {
     "name": "stderr",
     "output_type": "stream",
     "text": [
      "\n",
      "\n",
      "\n",
      "\n",
      " 88%|████████▊ | 22/25 [03:37<00:33, 11.23s/it]\u001b[A\u001b[A\u001b[A\u001b[A"
     ]
    },
    {
     "name": "stdout",
     "output_type": "stream",
     "text": [
      "User  21 Elapsed: 00:00:08\n"
     ]
    },
    {
     "name": "stderr",
     "output_type": "stream",
     "text": [
      "\n",
      "\n",
      "\n",
      "\n",
      " 92%|█████████▏| 23/25 [03:40<00:17,  8.87s/it]\u001b[A\u001b[A\u001b[A\u001b[A"
     ]
    },
    {
     "name": "stdout",
     "output_type": "stream",
     "text": [
      "User  22 Elapsed: 00:00:03\n",
      "User  23 Elapsed: 00:00:00\n"
     ]
    },
    {
     "name": "stderr",
     "output_type": "stream",
     "text": [
      "\n",
      "\n",
      "\n",
      "\n",
      "100%|██████████| 25/25 [03:46<00:00,  9.07s/it]\u001b[A\u001b[A\u001b[A\u001b[A\n",
      "\n",
      "\n",
      "\n",
      "\n",
      "  0%|          | 0/25 [00:00<?, ?it/s]\u001b[A\u001b[A\u001b[A\u001b[A"
     ]
    },
    {
     "name": "stdout",
     "output_type": "stream",
     "text": [
      "User  24 Elapsed: 00:00:05\n"
     ]
    },
    {
     "name": "stderr",
     "output_type": "stream",
     "text": [
      "\n",
      "\n",
      "\n",
      "\n",
      "  4%|▍         | 1/25 [00:06<02:46,  6.95s/it]\u001b[A\u001b[A\u001b[A\u001b[A"
     ]
    },
    {
     "name": "stdout",
     "output_type": "stream",
     "text": [
      "User  0 Elapsed: 00:00:06\n"
     ]
    },
    {
     "name": "stderr",
     "output_type": "stream",
     "text": [
      "\n",
      "\n",
      "\n",
      "\n",
      "  8%|▊         | 2/25 [00:43<06:03, 15.81s/it]\u001b[A\u001b[A\u001b[A\u001b[A"
     ]
    },
    {
     "name": "stdout",
     "output_type": "stream",
     "text": [
      "User  1 Elapsed: 00:00:36\n"
     ]
    },
    {
     "name": "stderr",
     "output_type": "stream",
     "text": [
      "\n",
      "\n",
      "\n",
      "\n",
      " 12%|█▏        | 3/25 [00:51<04:58, 13.56s/it]\u001b[A\u001b[A\u001b[A\u001b[A"
     ]
    },
    {
     "name": "stdout",
     "output_type": "stream",
     "text": [
      "User  2 Elapsed: 00:00:08\n"
     ]
    },
    {
     "name": "stderr",
     "output_type": "stream",
     "text": [
      "\n",
      "\n",
      "\n",
      "\n",
      " 16%|█▌        | 4/25 [01:00<04:14, 12.14s/it]\u001b[A\u001b[A\u001b[A\u001b[A"
     ]
    },
    {
     "name": "stdout",
     "output_type": "stream",
     "text": [
      "User  3 Elapsed: 00:00:08\n"
     ]
    },
    {
     "name": "stderr",
     "output_type": "stream",
     "text": [
      "\n",
      "\n",
      "\n",
      "\n",
      " 20%|██        | 5/25 [01:03<03:10,  9.51s/it]\u001b[A\u001b[A\u001b[A\u001b[A"
     ]
    },
    {
     "name": "stdout",
     "output_type": "stream",
     "text": [
      "User  4 Elapsed: 00:00:03\n"
     ]
    },
    {
     "name": "stderr",
     "output_type": "stream",
     "text": [
      "\n",
      "\n",
      "\n",
      "\n",
      " 24%|██▍       | 6/25 [01:09<02:38,  8.35s/it]\u001b[A\u001b[A\u001b[A\u001b[A"
     ]
    },
    {
     "name": "stdout",
     "output_type": "stream",
     "text": [
      "User  5 Elapsed: 00:00:05\n"
     ]
    },
    {
     "name": "stderr",
     "output_type": "stream",
     "text": [
      "\n",
      "\n",
      "\n",
      "\n",
      " 28%|██▊       | 7/25 [01:14<02:10,  7.23s/it]\u001b[A\u001b[A\u001b[A\u001b[A"
     ]
    },
    {
     "name": "stdout",
     "output_type": "stream",
     "text": [
      "User  6 Elapsed: 00:00:04\n"
     ]
    },
    {
     "name": "stderr",
     "output_type": "stream",
     "text": [
      "\n",
      "\n",
      "\n",
      "\n",
      " 32%|███▏      | 8/25 [01:19<01:53,  6.70s/it]\u001b[A\u001b[A\u001b[A\u001b[A"
     ]
    },
    {
     "name": "stdout",
     "output_type": "stream",
     "text": [
      "User  7 Elapsed: 00:00:05\n"
     ]
    },
    {
     "name": "stderr",
     "output_type": "stream",
     "text": [
      "\n",
      "\n",
      "\n",
      "\n",
      " 36%|███▌      | 9/25 [01:26<01:46,  6.65s/it]\u001b[A\u001b[A\u001b[A\u001b[A"
     ]
    },
    {
     "name": "stdout",
     "output_type": "stream",
     "text": [
      "User  8 Elapsed: 00:00:06\n"
     ]
    },
    {
     "name": "stderr",
     "output_type": "stream",
     "text": [
      "\n",
      "\n",
      "\n",
      "\n",
      " 40%|████      | 10/25 [01:39<02:07,  8.53s/it]\u001b[A\u001b[A\u001b[A\u001b[A"
     ]
    },
    {
     "name": "stdout",
     "output_type": "stream",
     "text": [
      "User  9 Elapsed: 00:00:12\n"
     ]
    },
    {
     "name": "stderr",
     "output_type": "stream",
     "text": [
      "\n",
      "\n",
      "\n",
      "\n",
      " 44%|████▍     | 11/25 [01:48<02:03,  8.83s/it]\u001b[A\u001b[A\u001b[A\u001b[A"
     ]
    },
    {
     "name": "stdout",
     "output_type": "stream",
     "text": [
      "User  10 Elapsed: 00:00:09\n"
     ]
    },
    {
     "name": "stderr",
     "output_type": "stream",
     "text": [
      "\n",
      "\n",
      "\n",
      "\n",
      " 48%|████▊     | 12/25 [01:56<01:51,  8.56s/it]\u001b[A\u001b[A\u001b[A\u001b[A"
     ]
    },
    {
     "name": "stdout",
     "output_type": "stream",
     "text": [
      "User  11 Elapsed: 00:00:07\n"
     ]
    },
    {
     "name": "stderr",
     "output_type": "stream",
     "text": [
      "\n",
      "\n",
      "\n",
      "\n",
      " 52%|█████▏    | 13/25 [02:02<01:32,  7.68s/it]\u001b[A\u001b[A\u001b[A\u001b[A"
     ]
    },
    {
     "name": "stdout",
     "output_type": "stream",
     "text": [
      "User  12 Elapsed: 00:00:05\n"
     ]
    },
    {
     "name": "stderr",
     "output_type": "stream",
     "text": [
      "\n",
      "\n",
      "\n",
      "\n",
      " 56%|█████▌    | 14/25 [02:10<01:25,  7.79s/it]\u001b[A\u001b[A\u001b[A\u001b[A"
     ]
    },
    {
     "name": "stdout",
     "output_type": "stream",
     "text": [
      "User  13 Elapsed: 00:00:08\n"
     ]
    },
    {
     "name": "stderr",
     "output_type": "stream",
     "text": [
      "\n",
      "\n",
      "\n",
      "\n",
      " 60%|██████    | 15/25 [02:17<01:16,  7.70s/it]\u001b[A\u001b[A\u001b[A\u001b[A"
     ]
    },
    {
     "name": "stdout",
     "output_type": "stream",
     "text": [
      "User  14 Elapsed: 00:00:07\n"
     ]
    },
    {
     "name": "stderr",
     "output_type": "stream",
     "text": [
      "\n",
      "\n",
      "\n",
      "\n",
      " 64%|██████▍   | 16/25 [02:24<01:06,  7.39s/it]\u001b[A\u001b[A\u001b[A\u001b[A"
     ]
    },
    {
     "name": "stdout",
     "output_type": "stream",
     "text": [
      "User  15 Elapsed: 00:00:06\n"
     ]
    },
    {
     "name": "stderr",
     "output_type": "stream",
     "text": [
      "\n",
      "\n",
      "\n",
      "\n",
      " 68%|██████▊   | 17/25 [02:39<01:18,  9.79s/it]\u001b[A\u001b[A\u001b[A\u001b[A"
     ]
    },
    {
     "name": "stdout",
     "output_type": "stream",
     "text": [
      "User  16 Elapsed: 00:00:15\n"
     ]
    },
    {
     "name": "stderr",
     "output_type": "stream",
     "text": [
      "\n",
      "\n",
      "\n",
      "\n",
      " 72%|███████▏  | 18/25 [02:58<01:26, 12.32s/it]\u001b[A\u001b[A\u001b[A\u001b[A"
     ]
    },
    {
     "name": "stdout",
     "output_type": "stream",
     "text": [
      "User  17 Elapsed: 00:00:18\n"
     ]
    },
    {
     "name": "stderr",
     "output_type": "stream",
     "text": [
      "\n",
      "\n",
      "\n",
      "\n",
      " 76%|███████▌  | 19/25 [03:05<01:04, 10.83s/it]\u001b[A\u001b[A\u001b[A\u001b[A"
     ]
    },
    {
     "name": "stdout",
     "output_type": "stream",
     "text": [
      "User  18 Elapsed: 00:00:07\n"
     ]
    },
    {
     "name": "stderr",
     "output_type": "stream",
     "text": [
      "\n",
      "\n",
      "\n",
      "\n",
      " 80%|████████  | 20/25 [03:23<01:05, 13.17s/it]\u001b[A\u001b[A\u001b[A\u001b[A"
     ]
    },
    {
     "name": "stdout",
     "output_type": "stream",
     "text": [
      "User  19 Elapsed: 00:00:18\n"
     ]
    },
    {
     "name": "stderr",
     "output_type": "stream",
     "text": [
      "\n",
      "\n",
      "\n",
      "\n",
      " 84%|████████▍ | 21/25 [03:35<00:51, 12.79s/it]\u001b[A\u001b[A\u001b[A\u001b[A"
     ]
    },
    {
     "name": "stdout",
     "output_type": "stream",
     "text": [
      "User  20 Elapsed: 00:00:11\n"
     ]
    },
    {
     "name": "stderr",
     "output_type": "stream",
     "text": [
      "\n",
      "\n",
      "\n",
      "\n",
      " 88%|████████▊ | 22/25 [03:45<00:35, 11.76s/it]\u001b[A\u001b[A\u001b[A\u001b[A"
     ]
    },
    {
     "name": "stdout",
     "output_type": "stream",
     "text": [
      "User  21 Elapsed: 00:00:09\n"
     ]
    },
    {
     "name": "stderr",
     "output_type": "stream",
     "text": [
      "\n",
      "\n",
      "\n",
      "\n",
      " 92%|█████████▏| 23/25 [03:49<00:19,  9.51s/it]\u001b[A\u001b[A\u001b[A\u001b[A"
     ]
    },
    {
     "name": "stdout",
     "output_type": "stream",
     "text": [
      "User  22 Elapsed: 00:00:04\n",
      "User  23 Elapsed: 00:00:00\n"
     ]
    },
    {
     "name": "stderr",
     "output_type": "stream",
     "text": [
      "\n",
      "\n",
      "\n",
      "\n",
      "100%|██████████| 25/25 [03:55<00:00,  9.41s/it]\u001b[A\u001b[A\u001b[A\u001b[A"
     ]
    },
    {
     "name": "stdout",
     "output_type": "stream",
     "text": [
      "User  24 Elapsed: 00:00:05\n"
     ]
    },
    {
     "name": "stderr",
     "output_type": "stream",
     "text": [
      "\n",
      "\n",
      "\n",
      "\n",
      "\n",
      "  0%|          | 0/25 [00:00<?, ?it/s]\u001b[A\u001b[A\u001b[A\u001b[A\n",
      "\n",
      "\n",
      "\n",
      "  4%|▍         | 1/25 [00:06<02:35,  6.48s/it]\u001b[A\u001b[A\u001b[A\u001b[A"
     ]
    },
    {
     "name": "stdout",
     "output_type": "stream",
     "text": [
      "User  0 Elapsed: 00:00:06\n"
     ]
    },
    {
     "name": "stderr",
     "output_type": "stream",
     "text": [
      "\n",
      "\n",
      "\n",
      "\n",
      "  8%|▊         | 2/25 [00:42<05:53, 15.37s/it]\u001b[A\u001b[A\u001b[A\u001b[A"
     ]
    },
    {
     "name": "stdout",
     "output_type": "stream",
     "text": [
      "User  1 Elapsed: 00:00:36\n"
     ]
    },
    {
     "name": "stderr",
     "output_type": "stream",
     "text": [
      "\n",
      "\n",
      "\n",
      "\n",
      " 12%|█▏        | 3/25 [00:51<04:54, 13.37s/it]\u001b[A\u001b[A\u001b[A\u001b[A"
     ]
    },
    {
     "name": "stdout",
     "output_type": "stream",
     "text": [
      "User  2 Elapsed: 00:00:08\n"
     ]
    },
    {
     "name": "stderr",
     "output_type": "stream",
     "text": [
      "\n",
      "\n",
      "\n",
      "\n",
      " 16%|█▌        | 4/25 [00:59<04:08, 11.83s/it]\u001b[A\u001b[A\u001b[A\u001b[A"
     ]
    },
    {
     "name": "stdout",
     "output_type": "stream",
     "text": [
      "User  3 Elapsed: 00:00:08\n"
     ]
    },
    {
     "name": "stderr",
     "output_type": "stream",
     "text": [
      "\n",
      "\n",
      "\n",
      "\n",
      " 20%|██        | 5/25 [01:03<03:06,  9.35s/it]\u001b[A\u001b[A\u001b[A\u001b[A"
     ]
    },
    {
     "name": "stdout",
     "output_type": "stream",
     "text": [
      "User  4 Elapsed: 00:00:03\n"
     ]
    },
    {
     "name": "stderr",
     "output_type": "stream",
     "text": [
      "\n",
      "\n",
      "\n",
      "\n",
      " 24%|██▍       | 6/25 [01:09<02:40,  8.45s/it]\u001b[A\u001b[A\u001b[A\u001b[A"
     ]
    },
    {
     "name": "stdout",
     "output_type": "stream",
     "text": [
      "User  5 Elapsed: 00:00:06\n"
     ]
    },
    {
     "name": "stderr",
     "output_type": "stream",
     "text": [
      "\n",
      "\n",
      "\n",
      "\n",
      " 28%|██▊       | 7/25 [01:15<02:17,  7.65s/it]\u001b[A\u001b[A\u001b[A\u001b[A"
     ]
    },
    {
     "name": "stdout",
     "output_type": "stream",
     "text": [
      "User  6 Elapsed: 00:00:05\n"
     ]
    },
    {
     "name": "stderr",
     "output_type": "stream",
     "text": [
      "\n",
      "\n",
      "\n",
      "\n",
      " 32%|███▏      | 8/25 [01:21<02:00,  7.11s/it]\u001b[A\u001b[A\u001b[A\u001b[A"
     ]
    },
    {
     "name": "stdout",
     "output_type": "stream",
     "text": [
      "User  7 Elapsed: 00:00:05\n"
     ]
    },
    {
     "name": "stderr",
     "output_type": "stream",
     "text": [
      "\n",
      "\n",
      "\n",
      "\n",
      " 36%|███▌      | 9/25 [01:28<01:54,  7.14s/it]\u001b[A\u001b[A\u001b[A\u001b[A"
     ]
    },
    {
     "name": "stdout",
     "output_type": "stream",
     "text": [
      "User  8 Elapsed: 00:00:07\n"
     ]
    },
    {
     "name": "stderr",
     "output_type": "stream",
     "text": [
      "\n",
      "\n",
      "\n",
      "\n",
      " 40%|████      | 10/25 [01:41<02:16,  9.09s/it]\u001b[A\u001b[A\u001b[A\u001b[A"
     ]
    },
    {
     "name": "stdout",
     "output_type": "stream",
     "text": [
      "User  9 Elapsed: 00:00:13\n"
     ]
    },
    {
     "name": "stderr",
     "output_type": "stream",
     "text": [
      "\n",
      "\n",
      "\n",
      "\n",
      " 44%|████▍     | 11/25 [01:51<02:10,  9.32s/it]\u001b[A\u001b[A\u001b[A\u001b[A"
     ]
    },
    {
     "name": "stdout",
     "output_type": "stream",
     "text": [
      "User  10 Elapsed: 00:00:09\n"
     ]
    },
    {
     "name": "stderr",
     "output_type": "stream",
     "text": [
      "\n",
      "\n",
      "\n",
      "\n",
      " 48%|████▊     | 12/25 [01:59<01:56,  8.98s/it]\u001b[A\u001b[A\u001b[A\u001b[A"
     ]
    },
    {
     "name": "stdout",
     "output_type": "stream",
     "text": [
      "User  11 Elapsed: 00:00:08\n"
     ]
    },
    {
     "name": "stderr",
     "output_type": "stream",
     "text": [
      "\n",
      "\n",
      "\n",
      "\n",
      " 52%|█████▏    | 13/25 [02:06<01:37,  8.12s/it]\u001b[A\u001b[A\u001b[A\u001b[A"
     ]
    },
    {
     "name": "stdout",
     "output_type": "stream",
     "text": [
      "User  12 Elapsed: 00:00:06\n"
     ]
    },
    {
     "name": "stderr",
     "output_type": "stream",
     "text": [
      "\n",
      "\n",
      "\n",
      "\n",
      " 56%|█████▌    | 14/25 [02:14<01:30,  8.21s/it]\u001b[A\u001b[A\u001b[A\u001b[A"
     ]
    },
    {
     "name": "stdout",
     "output_type": "stream",
     "text": [
      "User  13 Elapsed: 00:00:08\n"
     ]
    },
    {
     "name": "stderr",
     "output_type": "stream",
     "text": [
      "\n",
      "\n",
      "\n",
      "\n",
      " 60%|██████    | 15/25 [02:22<01:19,  7.99s/it]\u001b[A\u001b[A\u001b[A\u001b[A"
     ]
    },
    {
     "name": "stdout",
     "output_type": "stream",
     "text": [
      "User  14 Elapsed: 00:00:07\n"
     ]
    },
    {
     "name": "stderr",
     "output_type": "stream",
     "text": [
      "\n",
      "\n",
      "\n",
      "\n",
      " 64%|██████▍   | 16/25 [02:28<01:08,  7.61s/it]\u001b[A\u001b[A\u001b[A\u001b[A"
     ]
    },
    {
     "name": "stdout",
     "output_type": "stream",
     "text": [
      "User  15 Elapsed: 00:00:06\n"
     ]
    },
    {
     "name": "stderr",
     "output_type": "stream",
     "text": [
      "\n",
      "\n",
      "\n",
      "\n",
      " 68%|██████▊   | 17/25 [02:44<01:20, 10.09s/it]\u001b[A\u001b[A\u001b[A\u001b[A"
     ]
    },
    {
     "name": "stdout",
     "output_type": "stream",
     "text": [
      "User  16 Elapsed: 00:00:15\n"
     ]
    },
    {
     "name": "stderr",
     "output_type": "stream",
     "text": [
      "\n",
      "\n",
      "\n",
      "\n",
      " 72%|███████▏  | 18/25 [03:03<01:28, 12.69s/it]\u001b[A\u001b[A\u001b[A\u001b[A"
     ]
    },
    {
     "name": "stdout",
     "output_type": "stream",
     "text": [
      "User  17 Elapsed: 00:00:18\n"
     ]
    },
    {
     "name": "stderr",
     "output_type": "stream",
     "text": [
      "\n",
      "\n",
      "\n",
      "\n",
      " 76%|███████▌  | 19/25 [03:11<01:08, 11.42s/it]\u001b[A\u001b[A\u001b[A\u001b[A"
     ]
    },
    {
     "name": "stdout",
     "output_type": "stream",
     "text": [
      "User  18 Elapsed: 00:00:08\n"
     ]
    },
    {
     "name": "stderr",
     "output_type": "stream",
     "text": [
      "\n",
      "\n",
      "\n",
      "\n",
      " 80%|████████  | 20/25 [03:30<01:07, 13.57s/it]\u001b[A\u001b[A\u001b[A\u001b[A"
     ]
    },
    {
     "name": "stdout",
     "output_type": "stream",
     "text": [
      "User  19 Elapsed: 00:00:18\n"
     ]
    },
    {
     "name": "stderr",
     "output_type": "stream",
     "text": [
      "\n",
      "\n",
      "\n",
      "\n",
      " 84%|████████▍ | 21/25 [03:42<00:52, 13.01s/it]\u001b[A\u001b[A\u001b[A\u001b[A"
     ]
    },
    {
     "name": "stdout",
     "output_type": "stream",
     "text": [
      "User  20 Elapsed: 00:00:11\n"
     ]
    },
    {
     "name": "stderr",
     "output_type": "stream",
     "text": [
      "\n",
      "\n",
      "\n",
      "\n",
      " 88%|████████▊ | 22/25 [03:51<00:36, 12.07s/it]\u001b[A\u001b[A\u001b[A\u001b[A"
     ]
    },
    {
     "name": "stdout",
     "output_type": "stream",
     "text": [
      "User  21 Elapsed: 00:00:09\n"
     ]
    },
    {
     "name": "stderr",
     "output_type": "stream",
     "text": [
      "\n",
      "\n",
      "\n",
      "\n",
      " 92%|█████████▏| 23/25 [03:56<00:19,  9.76s/it]\u001b[A\u001b[A\u001b[A\u001b[A"
     ]
    },
    {
     "name": "stdout",
     "output_type": "stream",
     "text": [
      "User  22 Elapsed: 00:00:04\n",
      "User  23 Elapsed: 00:00:00\n"
     ]
    },
    {
     "name": "stderr",
     "output_type": "stream",
     "text": [
      "\n",
      "\n",
      "\n",
      "\n",
      "100%|██████████| 25/25 [04:02<00:00,  9.69s/it]\u001b[A\u001b[A\u001b[A\u001b[A"
     ]
    },
    {
     "name": "stdout",
     "output_type": "stream",
     "text": [
      "User  24 Elapsed: 00:00:05\n"
     ]
    },
    {
     "name": "stderr",
     "output_type": "stream",
     "text": [
      "\n",
      "\n",
      "\n",
      "\n",
      "\n",
      "  0%|          | 0/25 [00:00<?, ?it/s]\u001b[A\u001b[A\u001b[A\u001b[A\n",
      "\n",
      "\n",
      "\n",
      "  4%|▍         | 1/25 [00:06<02:47,  7.00s/it]\u001b[A\u001b[A\u001b[A\u001b[A"
     ]
    },
    {
     "name": "stdout",
     "output_type": "stream",
     "text": [
      "User  0 Elapsed: 00:00:06\n"
     ]
    },
    {
     "name": "stderr",
     "output_type": "stream",
     "text": [
      "\n",
      "\n",
      "\n",
      "\n",
      "  8%|▊         | 2/25 [00:43<06:02, 15.76s/it]\u001b[A\u001b[A\u001b[A\u001b[A"
     ]
    },
    {
     "name": "stdout",
     "output_type": "stream",
     "text": [
      "User  1 Elapsed: 00:00:36\n"
     ]
    },
    {
     "name": "stderr",
     "output_type": "stream",
     "text": [
      "\n",
      "\n",
      "\n",
      "\n",
      " 12%|█▏        | 3/25 [00:51<04:57, 13.54s/it]\u001b[A\u001b[A\u001b[A\u001b[A"
     ]
    },
    {
     "name": "stdout",
     "output_type": "stream",
     "text": [
      "User  2 Elapsed: 00:00:08\n"
     ]
    },
    {
     "name": "stderr",
     "output_type": "stream",
     "text": [
      "\n",
      "\n",
      "\n",
      "\n",
      " 16%|█▌        | 4/25 [00:59<04:10, 11.95s/it]\u001b[A\u001b[A\u001b[A\u001b[A"
     ]
    },
    {
     "name": "stdout",
     "output_type": "stream",
     "text": [
      "User  3 Elapsed: 00:00:08\n"
     ]
    },
    {
     "name": "stderr",
     "output_type": "stream",
     "text": [
      "\n",
      "\n",
      "\n",
      "\n",
      " 20%|██        | 5/25 [01:03<03:08,  9.44s/it]\u001b[A\u001b[A\u001b[A\u001b[A"
     ]
    },
    {
     "name": "stdout",
     "output_type": "stream",
     "text": [
      "User  4 Elapsed: 00:00:03\n"
     ]
    },
    {
     "name": "stderr",
     "output_type": "stream",
     "text": [
      "\n",
      "\n",
      "\n",
      "\n",
      " 24%|██▍       | 6/25 [01:08<02:37,  8.28s/it]\u001b[A\u001b[A\u001b[A\u001b[A"
     ]
    },
    {
     "name": "stdout",
     "output_type": "stream",
     "text": [
      "User  5 Elapsed: 00:00:05\n"
     ]
    },
    {
     "name": "stderr",
     "output_type": "stream",
     "text": [
      "\n",
      "\n",
      "\n",
      "\n",
      " 28%|██▊       | 7/25 [01:14<02:14,  7.48s/it]\u001b[A\u001b[A\u001b[A\u001b[A"
     ]
    },
    {
     "name": "stdout",
     "output_type": "stream",
     "text": [
      "User  6 Elapsed: 00:00:05\n"
     ]
    },
    {
     "name": "stderr",
     "output_type": "stream",
     "text": [
      "\n",
      "\n",
      "\n",
      "\n",
      " 32%|███▏      | 8/25 [01:20<01:58,  6.94s/it]\u001b[A\u001b[A\u001b[A\u001b[A"
     ]
    },
    {
     "name": "stdout",
     "output_type": "stream",
     "text": [
      "User  7 Elapsed: 00:00:05\n"
     ]
    },
    {
     "name": "stderr",
     "output_type": "stream",
     "text": [
      "\n",
      "\n",
      "\n",
      "\n",
      " 36%|███▌      | 9/25 [01:27<01:51,  6.98s/it]\u001b[A\u001b[A\u001b[A\u001b[A"
     ]
    },
    {
     "name": "stdout",
     "output_type": "stream",
     "text": [
      "User  8 Elapsed: 00:00:07\n"
     ]
    },
    {
     "name": "stderr",
     "output_type": "stream",
     "text": [
      "\n",
      "\n",
      "\n",
      "\n",
      " 40%|████      | 10/25 [01:41<02:15,  9.02s/it]\u001b[A\u001b[A\u001b[A\u001b[A"
     ]
    },
    {
     "name": "stdout",
     "output_type": "stream",
     "text": [
      "User  9 Elapsed: 00:00:13\n"
     ]
    },
    {
     "name": "stderr",
     "output_type": "stream",
     "text": [
      "\n",
      "\n",
      "\n",
      "\n",
      " 44%|████▍     | 11/25 [01:50<02:08,  9.19s/it]\u001b[A\u001b[A\u001b[A\u001b[A"
     ]
    },
    {
     "name": "stdout",
     "output_type": "stream",
     "text": [
      "User  10 Elapsed: 00:00:09\n"
     ]
    },
    {
     "name": "stderr",
     "output_type": "stream",
     "text": [
      "\n",
      "\n",
      "\n",
      "\n",
      " 48%|████▊     | 12/25 [01:59<01:56,  8.95s/it]\u001b[A\u001b[A\u001b[A\u001b[A"
     ]
    },
    {
     "name": "stdout",
     "output_type": "stream",
     "text": [
      "User  11 Elapsed: 00:00:08\n"
     ]
    },
    {
     "name": "stderr",
     "output_type": "stream",
     "text": [
      "\n",
      "\n",
      "\n",
      "\n",
      " 52%|█████▏    | 13/25 [02:05<01:37,  8.15s/it]\u001b[A\u001b[A\u001b[A\u001b[A"
     ]
    },
    {
     "name": "stdout",
     "output_type": "stream",
     "text": [
      "User  12 Elapsed: 00:00:06\n"
     ]
    },
    {
     "name": "stderr",
     "output_type": "stream",
     "text": [
      "\n",
      "\n",
      "\n",
      "\n",
      " 56%|█████▌    | 14/25 [02:13<01:30,  8.26s/it]\u001b[A\u001b[A\u001b[A\u001b[A"
     ]
    },
    {
     "name": "stdout",
     "output_type": "stream",
     "text": [
      "User  13 Elapsed: 00:00:08\n"
     ]
    },
    {
     "name": "stderr",
     "output_type": "stream",
     "text": [
      "\n",
      "\n",
      "\n",
      "\n",
      " 60%|██████    | 15/25 [02:21<01:20,  8.04s/it]\u001b[A\u001b[A\u001b[A\u001b[A"
     ]
    },
    {
     "name": "stdout",
     "output_type": "stream",
     "text": [
      "User  14 Elapsed: 00:00:07\n"
     ]
    },
    {
     "name": "stderr",
     "output_type": "stream",
     "text": [
      "\n",
      "\n",
      "\n",
      "\n",
      " 64%|██████▍   | 16/25 [02:28<01:08,  7.65s/it]\u001b[A\u001b[A\u001b[A\u001b[A"
     ]
    },
    {
     "name": "stdout",
     "output_type": "stream",
     "text": [
      "User  15 Elapsed: 00:00:06\n"
     ]
    },
    {
     "name": "stderr",
     "output_type": "stream",
     "text": [
      "\n",
      "\n",
      "\n",
      "\n",
      " 68%|██████▊   | 17/25 [02:43<01:20, 10.06s/it]\u001b[A\u001b[A\u001b[A\u001b[A"
     ]
    },
    {
     "name": "stdout",
     "output_type": "stream",
     "text": [
      "User  16 Elapsed: 00:00:15\n"
     ]
    },
    {
     "name": "stderr",
     "output_type": "stream",
     "text": [
      "\n",
      "\n",
      "\n",
      "\n",
      " 72%|███████▏  | 18/25 [03:02<01:28, 12.59s/it]\u001b[A\u001b[A\u001b[A\u001b[A"
     ]
    },
    {
     "name": "stdout",
     "output_type": "stream",
     "text": [
      "User  17 Elapsed: 00:00:18\n"
     ]
    },
    {
     "name": "stderr",
     "output_type": "stream",
     "text": [
      "\n",
      "\n",
      "\n",
      "\n",
      " 76%|███████▌  | 19/25 [03:10<01:07, 11.32s/it]\u001b[A\u001b[A\u001b[A\u001b[A"
     ]
    },
    {
     "name": "stdout",
     "output_type": "stream",
     "text": [
      "User  18 Elapsed: 00:00:08\n"
     ]
    },
    {
     "name": "stderr",
     "output_type": "stream",
     "text": [
      "\n",
      "\n",
      "\n",
      "\n",
      " 80%|████████  | 20/25 [03:29<01:07, 13.53s/it]\u001b[A\u001b[A\u001b[A\u001b[A"
     ]
    },
    {
     "name": "stdout",
     "output_type": "stream",
     "text": [
      "User  19 Elapsed: 00:00:18\n"
     ]
    },
    {
     "name": "stderr",
     "output_type": "stream",
     "text": [
      "\n",
      "\n",
      "\n",
      "\n",
      " 84%|████████▍ | 21/25 [03:41<00:51, 12.99s/it]\u001b[A\u001b[A\u001b[A\u001b[A"
     ]
    },
    {
     "name": "stdout",
     "output_type": "stream",
     "text": [
      "User  20 Elapsed: 00:00:11\n"
     ]
    },
    {
     "name": "stderr",
     "output_type": "stream",
     "text": [
      "\n",
      "\n",
      "\n",
      "\n",
      " 88%|████████▊ | 22/25 [03:50<00:35, 11.95s/it]\u001b[A\u001b[A\u001b[A\u001b[A"
     ]
    },
    {
     "name": "stdout",
     "output_type": "stream",
     "text": [
      "User  21 Elapsed: 00:00:09\n"
     ]
    },
    {
     "name": "stderr",
     "output_type": "stream",
     "text": [
      "\n",
      "\n",
      "\n",
      "\n",
      " 92%|█████████▏| 23/25 [03:55<00:19,  9.69s/it]\u001b[A\u001b[A\u001b[A\u001b[A"
     ]
    },
    {
     "name": "stdout",
     "output_type": "stream",
     "text": [
      "User  22 Elapsed: 00:00:04\n",
      "User  23 Elapsed: 00:00:00\n"
     ]
    },
    {
     "name": "stderr",
     "output_type": "stream",
     "text": [
      "\n",
      "\n",
      "\n",
      "\n",
      "100%|██████████| 25/25 [04:01<00:00,  9.64s/it]\u001b[A\u001b[A\u001b[A\u001b[A"
     ]
    },
    {
     "name": "stdout",
     "output_type": "stream",
     "text": [
      "User  24 Elapsed: 00:00:05\n"
     ]
    },
    {
     "name": "stderr",
     "output_type": "stream",
     "text": [
      "\n",
      "\n",
      "\n",
      "\n",
      "\n",
      "  0%|          | 0/25 [00:00<?, ?it/s]\u001b[A\u001b[A\u001b[A\u001b[A\n",
      "\n",
      "\n",
      "\n",
      "  4%|▍         | 1/25 [00:07<02:50,  7.10s/it]\u001b[A\u001b[A\u001b[A\u001b[A"
     ]
    },
    {
     "name": "stdout",
     "output_type": "stream",
     "text": [
      "User  0 Elapsed: 00:00:07\n"
     ]
    },
    {
     "name": "stderr",
     "output_type": "stream",
     "text": [
      "\n",
      "\n",
      "\n",
      "\n",
      "  8%|▊         | 2/25 [00:44<06:09, 16.05s/it]\u001b[A\u001b[A\u001b[A\u001b[A"
     ]
    },
    {
     "name": "stdout",
     "output_type": "stream",
     "text": [
      "User  1 Elapsed: 00:00:36\n"
     ]
    },
    {
     "name": "stderr",
     "output_type": "stream",
     "text": [
      "\n",
      "\n",
      "\n",
      "\n",
      " 12%|█▏        | 3/25 [00:52<05:00, 13.67s/it]\u001b[A\u001b[A\u001b[A\u001b[A"
     ]
    },
    {
     "name": "stdout",
     "output_type": "stream",
     "text": [
      "User  2 Elapsed: 00:00:08\n"
     ]
    },
    {
     "name": "stderr",
     "output_type": "stream",
     "text": [
      "\n",
      "\n",
      "\n",
      "\n",
      " 16%|█▌        | 4/25 [01:00<04:12, 12.03s/it]\u001b[A\u001b[A\u001b[A\u001b[A"
     ]
    },
    {
     "name": "stdout",
     "output_type": "stream",
     "text": [
      "User  3 Elapsed: 00:00:08\n"
     ]
    },
    {
     "name": "stderr",
     "output_type": "stream",
     "text": [
      "\n",
      "\n",
      "\n",
      "\n",
      " 20%|██        | 5/25 [01:03<03:09,  9.46s/it]\u001b[A\u001b[A\u001b[A\u001b[A"
     ]
    },
    {
     "name": "stdout",
     "output_type": "stream",
     "text": [
      "User  4 Elapsed: 00:00:03\n"
     ]
    },
    {
     "name": "stderr",
     "output_type": "stream",
     "text": [
      "\n",
      "\n",
      "\n",
      "\n",
      " 24%|██▍       | 6/25 [01:09<02:37,  8.29s/it]\u001b[A\u001b[A\u001b[A\u001b[A"
     ]
    },
    {
     "name": "stdout",
     "output_type": "stream",
     "text": [
      "User  5 Elapsed: 00:00:05\n"
     ]
    },
    {
     "name": "stderr",
     "output_type": "stream",
     "text": [
      "\n",
      "\n",
      "\n",
      "\n",
      " 28%|██▊       | 7/25 [01:14<02:14,  7.49s/it]\u001b[A\u001b[A\u001b[A\u001b[A"
     ]
    },
    {
     "name": "stdout",
     "output_type": "stream",
     "text": [
      "User  6 Elapsed: 00:00:05\n"
     ]
    },
    {
     "name": "stderr",
     "output_type": "stream",
     "text": [
      "\n",
      "\n",
      "\n",
      "\n",
      " 32%|███▏      | 8/25 [01:20<01:58,  6.96s/it]\u001b[A\u001b[A\u001b[A\u001b[A"
     ]
    },
    {
     "name": "stdout",
     "output_type": "stream",
     "text": [
      "User  7 Elapsed: 00:00:05\n"
     ]
    },
    {
     "name": "stderr",
     "output_type": "stream",
     "text": [
      "\n",
      "\n",
      "\n",
      "\n",
      " 36%|███▌      | 9/25 [01:28<01:53,  7.09s/it]\u001b[A\u001b[A\u001b[A\u001b[A"
     ]
    },
    {
     "name": "stdout",
     "output_type": "stream",
     "text": [
      "User  8 Elapsed: 00:00:07\n"
     ]
    },
    {
     "name": "stderr",
     "output_type": "stream",
     "text": [
      "\n",
      "\n",
      "\n",
      "\n",
      " 40%|████      | 10/25 [01:42<02:18,  9.22s/it]\u001b[A\u001b[A\u001b[A\u001b[A"
     ]
    },
    {
     "name": "stdout",
     "output_type": "stream",
     "text": [
      "User  9 Elapsed: 00:00:14\n"
     ]
    },
    {
     "name": "stderr",
     "output_type": "stream",
     "text": [
      "\n",
      "\n",
      "\n",
      "\n",
      " 44%|████▍     | 11/25 [01:52<02:12,  9.44s/it]\u001b[A\u001b[A\u001b[A\u001b[A"
     ]
    },
    {
     "name": "stdout",
     "output_type": "stream",
     "text": [
      "User  10 Elapsed: 00:00:09\n"
     ]
    },
    {
     "name": "stderr",
     "output_type": "stream",
     "text": [
      "\n",
      "\n",
      "\n",
      "\n",
      " 48%|████▊     | 12/25 [02:00<01:58,  9.09s/it]\u001b[A\u001b[A\u001b[A\u001b[A"
     ]
    },
    {
     "name": "stdout",
     "output_type": "stream",
     "text": [
      "User  11 Elapsed: 00:00:08\n"
     ]
    },
    {
     "name": "stderr",
     "output_type": "stream",
     "text": [
      "\n",
      "\n",
      "\n",
      "\n",
      " 52%|█████▏    | 13/25 [02:06<01:38,  8.21s/it]\u001b[A\u001b[A\u001b[A\u001b[A"
     ]
    },
    {
     "name": "stdout",
     "output_type": "stream",
     "text": [
      "User  12 Elapsed: 00:00:06\n"
     ]
    },
    {
     "name": "stderr",
     "output_type": "stream",
     "text": [
      "\n",
      "\n",
      "\n",
      "\n",
      " 56%|█████▌    | 14/25 [02:14<01:30,  8.20s/it]\u001b[A\u001b[A\u001b[A\u001b[A"
     ]
    },
    {
     "name": "stdout",
     "output_type": "stream",
     "text": [
      "User  13 Elapsed: 00:00:08\n"
     ]
    },
    {
     "name": "stderr",
     "output_type": "stream",
     "text": [
      "\n",
      "\n",
      "\n",
      "\n",
      " 60%|██████    | 15/25 [02:22<01:20,  8.01s/it]\u001b[A\u001b[A\u001b[A\u001b[A"
     ]
    },
    {
     "name": "stdout",
     "output_type": "stream",
     "text": [
      "User  14 Elapsed: 00:00:07\n"
     ]
    },
    {
     "name": "stderr",
     "output_type": "stream",
     "text": [
      "\n",
      "\n",
      "\n",
      "\n",
      " 64%|██████▍   | 16/25 [02:29<01:08,  7.61s/it]\u001b[A\u001b[A\u001b[A\u001b[A"
     ]
    },
    {
     "name": "stdout",
     "output_type": "stream",
     "text": [
      "User  15 Elapsed: 00:00:06\n"
     ]
    },
    {
     "name": "stderr",
     "output_type": "stream",
     "text": [
      "\n",
      "\n",
      "\n",
      "\n",
      " 68%|██████▊   | 17/25 [02:45<01:22, 10.30s/it]\u001b[A\u001b[A\u001b[A\u001b[A"
     ]
    },
    {
     "name": "stdout",
     "output_type": "stream",
     "text": [
      "User  16 Elapsed: 00:00:16\n"
     ]
    },
    {
     "name": "stderr",
     "output_type": "stream",
     "text": [
      "\n",
      "\n",
      "\n",
      "\n",
      " 72%|███████▏  | 18/25 [03:04<01:29, 12.77s/it]\u001b[A\u001b[A\u001b[A\u001b[A"
     ]
    },
    {
     "name": "stdout",
     "output_type": "stream",
     "text": [
      "User  17 Elapsed: 00:00:18\n"
     ]
    },
    {
     "name": "stderr",
     "output_type": "stream",
     "text": [
      "\n",
      "\n",
      "\n",
      "\n",
      " 76%|███████▌  | 19/25 [03:12<01:07, 11.32s/it]\u001b[A\u001b[A\u001b[A\u001b[A"
     ]
    },
    {
     "name": "stdout",
     "output_type": "stream",
     "text": [
      "User  18 Elapsed: 00:00:07\n"
     ]
    },
    {
     "name": "stderr",
     "output_type": "stream",
     "text": [
      "\n",
      "\n",
      "\n",
      "\n",
      " 80%|████████  | 20/25 [03:30<01:07, 13.43s/it]\u001b[A\u001b[A\u001b[A\u001b[A"
     ]
    },
    {
     "name": "stdout",
     "output_type": "stream",
     "text": [
      "User  19 Elapsed: 00:00:18\n"
     ]
    },
    {
     "name": "stderr",
     "output_type": "stream",
     "text": [
      "\n",
      "\n",
      "\n",
      "\n",
      " 84%|████████▍ | 21/25 [03:42<00:51, 12.90s/it]\u001b[A\u001b[A\u001b[A\u001b[A"
     ]
    },
    {
     "name": "stdout",
     "output_type": "stream",
     "text": [
      "User  20 Elapsed: 00:00:11\n"
     ]
    },
    {
     "name": "stderr",
     "output_type": "stream",
     "text": [
      "\n",
      "\n",
      "\n",
      "\n",
      " 88%|████████▊ | 22/25 [03:51<00:35, 11.98s/it]\u001b[A\u001b[A\u001b[A\u001b[A"
     ]
    },
    {
     "name": "stdout",
     "output_type": "stream",
     "text": [
      "User  21 Elapsed: 00:00:09\n"
     ]
    },
    {
     "name": "stderr",
     "output_type": "stream",
     "text": [
      "\n",
      "\n",
      "\n",
      "\n",
      " 92%|█████████▏| 23/25 [03:56<00:19,  9.70s/it]\u001b[A\u001b[A\u001b[A\u001b[A"
     ]
    },
    {
     "name": "stdout",
     "output_type": "stream",
     "text": [
      "User  22 Elapsed: 00:00:04\n",
      "User  23 Elapsed: 00:00:00\n"
     ]
    },
    {
     "name": "stderr",
     "output_type": "stream",
     "text": [
      "\n",
      "\n",
      "\n",
      "\n",
      "100%|██████████| 25/25 [04:02<00:00,  9.69s/it]\u001b[A\u001b[A\u001b[A\u001b[A"
     ]
    },
    {
     "name": "stdout",
     "output_type": "stream",
     "text": [
      "User  24 Elapsed: 00:00:05\n"
     ]
    },
    {
     "name": "stderr",
     "output_type": "stream",
     "text": [
      "\n",
      "\n",
      "\n",
      "\n",
      "\n",
      "  0%|          | 0/25 [00:00<?, ?it/s]\u001b[A\u001b[A\u001b[A\u001b[A\n",
      "\n",
      "\n",
      "\n",
      "  4%|▍         | 1/25 [00:07<02:51,  7.14s/it]\u001b[A\u001b[A\u001b[A\u001b[A"
     ]
    },
    {
     "name": "stdout",
     "output_type": "stream",
     "text": [
      "User  0 Elapsed: 00:00:07\n"
     ]
    },
    {
     "name": "stderr",
     "output_type": "stream",
     "text": [
      "\n",
      "\n",
      "\n",
      "\n",
      "  8%|▊         | 2/25 [00:43<06:07, 15.98s/it]\u001b[A\u001b[A\u001b[A\u001b[A"
     ]
    },
    {
     "name": "stdout",
     "output_type": "stream",
     "text": [
      "User  1 Elapsed: 00:00:36\n"
     ]
    },
    {
     "name": "stderr",
     "output_type": "stream",
     "text": [
      "\n",
      "\n",
      "\n",
      "\n",
      " 12%|█▏        | 3/25 [00:51<05:00, 13.65s/it]\u001b[A\u001b[A\u001b[A\u001b[A"
     ]
    },
    {
     "name": "stdout",
     "output_type": "stream",
     "text": [
      "User  2 Elapsed: 00:00:08\n"
     ]
    },
    {
     "name": "stderr",
     "output_type": "stream",
     "text": [
      "\n",
      "\n",
      "\n",
      "\n",
      " 16%|█▌        | 4/25 [01:00<04:11, 11.97s/it]\u001b[A\u001b[A\u001b[A\u001b[A"
     ]
    },
    {
     "name": "stdout",
     "output_type": "stream",
     "text": [
      "User  3 Elapsed: 00:00:08\n"
     ]
    },
    {
     "name": "stderr",
     "output_type": "stream",
     "text": [
      "\n",
      "\n",
      "\n",
      "\n",
      " 20%|██        | 5/25 [01:03<03:08,  9.44s/it]\u001b[A\u001b[A\u001b[A\u001b[A"
     ]
    },
    {
     "name": "stdout",
     "output_type": "stream",
     "text": [
      "User  4 Elapsed: 00:00:03\n"
     ]
    },
    {
     "name": "stderr",
     "output_type": "stream",
     "text": [
      "\n",
      "\n",
      "\n",
      "\n",
      " 24%|██▍       | 6/25 [01:09<02:37,  8.27s/it]\u001b[A\u001b[A\u001b[A\u001b[A"
     ]
    },
    {
     "name": "stdout",
     "output_type": "stream",
     "text": [
      "User  5 Elapsed: 00:00:05\n"
     ]
    },
    {
     "name": "stderr",
     "output_type": "stream",
     "text": [
      "\n",
      "\n",
      "\n",
      "\n",
      " 28%|██▊       | 7/25 [01:14<02:14,  7.48s/it]\u001b[A\u001b[A\u001b[A\u001b[A"
     ]
    },
    {
     "name": "stdout",
     "output_type": "stream",
     "text": [
      "User  6 Elapsed: 00:00:05\n"
     ]
    },
    {
     "name": "stderr",
     "output_type": "stream",
     "text": [
      "\n",
      "\n",
      "\n",
      "\n",
      " 32%|███▏      | 8/25 [01:20<01:57,  6.92s/it]\u001b[A\u001b[A\u001b[A\u001b[A"
     ]
    },
    {
     "name": "stdout",
     "output_type": "stream",
     "text": [
      "User  7 Elapsed: 00:00:05\n"
     ]
    },
    {
     "name": "stderr",
     "output_type": "stream",
     "text": [
      "\n",
      "\n",
      "\n",
      "\n",
      " 36%|███▌      | 9/25 [01:27<01:51,  6.96s/it]\u001b[A\u001b[A\u001b[A\u001b[A"
     ]
    },
    {
     "name": "stdout",
     "output_type": "stream",
     "text": [
      "User  8 Elapsed: 00:00:07\n"
     ]
    },
    {
     "name": "stderr",
     "output_type": "stream",
     "text": [
      "\n",
      "\n",
      "\n",
      "\n",
      " 40%|████      | 10/25 [01:41<02:15,  9.02s/it]\u001b[A\u001b[A\u001b[A\u001b[A"
     ]
    },
    {
     "name": "stdout",
     "output_type": "stream",
     "text": [
      "User  9 Elapsed: 00:00:13\n"
     ]
    },
    {
     "name": "stderr",
     "output_type": "stream",
     "text": [
      "\n",
      "\n",
      "\n",
      "\n",
      " 44%|████▍     | 11/25 [01:51<02:12,  9.50s/it]\u001b[A\u001b[A\u001b[A\u001b[A"
     ]
    },
    {
     "name": "stdout",
     "output_type": "stream",
     "text": [
      "User  10 Elapsed: 00:00:10\n"
     ]
    },
    {
     "name": "stderr",
     "output_type": "stream",
     "text": [
      "\n",
      "\n",
      "\n",
      "\n",
      " 48%|████▊     | 12/25 [01:59<01:58,  9.09s/it]\u001b[A\u001b[A\u001b[A\u001b[A"
     ]
    },
    {
     "name": "stdout",
     "output_type": "stream",
     "text": [
      "User  11 Elapsed: 00:00:08\n"
     ]
    },
    {
     "name": "stderr",
     "output_type": "stream",
     "text": [
      "\n",
      "\n",
      "\n",
      "\n",
      " 52%|█████▏    | 13/25 [02:06<01:38,  8.19s/it]\u001b[A\u001b[A\u001b[A\u001b[A"
     ]
    },
    {
     "name": "stdout",
     "output_type": "stream",
     "text": [
      "User  12 Elapsed: 00:00:06\n"
     ]
    },
    {
     "name": "stderr",
     "output_type": "stream",
     "text": [
      "\n",
      "\n",
      "\n",
      "\n",
      " 56%|█████▌    | 14/25 [02:14<01:30,  8.27s/it]\u001b[A\u001b[A\u001b[A\u001b[A"
     ]
    },
    {
     "name": "stdout",
     "output_type": "stream",
     "text": [
      "User  13 Elapsed: 00:00:08\n"
     ]
    },
    {
     "name": "stderr",
     "output_type": "stream",
     "text": [
      "\n",
      "\n",
      "\n",
      "\n",
      " 60%|██████    | 15/25 [02:22<01:20,  8.03s/it]\u001b[A\u001b[A\u001b[A\u001b[A"
     ]
    },
    {
     "name": "stdout",
     "output_type": "stream",
     "text": [
      "User  14 Elapsed: 00:00:07\n"
     ]
    },
    {
     "name": "stderr",
     "output_type": "stream",
     "text": [
      "\n",
      "\n",
      "\n",
      "\n",
      " 64%|██████▍   | 16/25 [02:28<01:08,  7.63s/it]\u001b[A\u001b[A\u001b[A\u001b[A"
     ]
    },
    {
     "name": "stdout",
     "output_type": "stream",
     "text": [
      "User  15 Elapsed: 00:00:06\n"
     ]
    },
    {
     "name": "stderr",
     "output_type": "stream",
     "text": [
      "\n",
      "\n",
      "\n",
      "\n",
      " 68%|██████▊   | 17/25 [02:45<01:22, 10.36s/it]\u001b[A\u001b[A\u001b[A\u001b[A"
     ]
    },
    {
     "name": "stdout",
     "output_type": "stream",
     "text": [
      "User  16 Elapsed: 00:00:16\n"
     ]
    },
    {
     "name": "stderr",
     "output_type": "stream",
     "text": [
      "\n",
      "\n",
      "\n",
      "\n",
      " 72%|███████▏  | 18/25 [03:04<01:30, 12.88s/it]\u001b[A\u001b[A\u001b[A\u001b[A"
     ]
    },
    {
     "name": "stdout",
     "output_type": "stream",
     "text": [
      "User  17 Elapsed: 00:00:18\n"
     ]
    },
    {
     "name": "stderr",
     "output_type": "stream",
     "text": [
      "\n",
      "\n",
      "\n",
      "\n",
      " 76%|███████▌  | 19/25 [03:12<01:08, 11.46s/it]\u001b[A\u001b[A\u001b[A\u001b[A"
     ]
    },
    {
     "name": "stdout",
     "output_type": "stream",
     "text": [
      "User  18 Elapsed: 00:00:08\n"
     ]
    },
    {
     "name": "stderr",
     "output_type": "stream",
     "text": [
      "\n",
      "\n",
      "\n",
      "\n",
      " 80%|████████  | 20/25 [03:29<01:06, 13.30s/it]\u001b[A\u001b[A\u001b[A\u001b[A"
     ]
    },
    {
     "name": "stdout",
     "output_type": "stream",
     "text": [
      "User  19 Elapsed: 00:00:17\n"
     ]
    },
    {
     "name": "stderr",
     "output_type": "stream",
     "text": [
      "\n",
      "\n",
      "\n",
      "\n",
      " 84%|████████▍ | 21/25 [03:40<00:50, 12.56s/it]\u001b[A\u001b[A\u001b[A\u001b[A"
     ]
    },
    {
     "name": "stdout",
     "output_type": "stream",
     "text": [
      "User  20 Elapsed: 00:00:10\n"
     ]
    },
    {
     "name": "stderr",
     "output_type": "stream",
     "text": [
      "\n",
      "\n",
      "\n",
      "\n",
      " 88%|████████▊ | 22/25 [03:50<00:34, 11.58s/it]\u001b[A\u001b[A\u001b[A\u001b[A"
     ]
    },
    {
     "name": "stdout",
     "output_type": "stream",
     "text": [
      "User  21 Elapsed: 00:00:09\n"
     ]
    },
    {
     "name": "stderr",
     "output_type": "stream",
     "text": [
      "\n",
      "\n",
      "\n",
      "\n",
      " 92%|█████████▏| 23/25 [03:54<00:18,  9.35s/it]\u001b[A\u001b[A\u001b[A\u001b[A"
     ]
    },
    {
     "name": "stdout",
     "output_type": "stream",
     "text": [
      "User  22 Elapsed: 00:00:04\n",
      "User  23 Elapsed: 00:00:00\n"
     ]
    },
    {
     "name": "stderr",
     "output_type": "stream",
     "text": [
      "\n",
      "\n",
      "\n",
      "\n",
      "100%|██████████| 25/25 [03:59<00:00,  9.58s/it]\u001b[A\u001b[A\u001b[A\u001b[A"
     ]
    },
    {
     "name": "stdout",
     "output_type": "stream",
     "text": [
      "User  24 Elapsed: 00:00:05\n"
     ]
    },
    {
     "name": "stderr",
     "output_type": "stream",
     "text": [
      "\n",
      "\n",
      "\n",
      "\n",
      "\n",
      "  0%|          | 0/25 [00:00<?, ?it/s]\u001b[A\u001b[A\u001b[A\u001b[A\n",
      "\n",
      "\n",
      "\n",
      "  4%|▍         | 1/25 [00:06<02:40,  6.70s/it]\u001b[A\u001b[A\u001b[A\u001b[A"
     ]
    },
    {
     "name": "stdout",
     "output_type": "stream",
     "text": [
      "User  0 Elapsed: 00:00:06\n"
     ]
    },
    {
     "name": "stderr",
     "output_type": "stream",
     "text": [
      "\n",
      "\n",
      "\n",
      "\n",
      "  8%|▊         | 2/25 [00:40<05:41, 14.87s/it]\u001b[A\u001b[A\u001b[A\u001b[A"
     ]
    },
    {
     "name": "stdout",
     "output_type": "stream",
     "text": [
      "User  1 Elapsed: 00:00:33\n"
     ]
    },
    {
     "name": "stderr",
     "output_type": "stream",
     "text": [
      "\n",
      "\n",
      "\n",
      "\n",
      " 12%|█▏        | 3/25 [00:48<04:40, 12.76s/it]\u001b[A\u001b[A\u001b[A\u001b[A"
     ]
    },
    {
     "name": "stdout",
     "output_type": "stream",
     "text": [
      "User  2 Elapsed: 00:00:07\n"
     ]
    },
    {
     "name": "stderr",
     "output_type": "stream",
     "text": [
      "\n",
      "\n",
      "\n",
      "\n",
      " 16%|█▌        | 4/25 [00:56<03:55, 11.23s/it]\u001b[A\u001b[A\u001b[A\u001b[A"
     ]
    },
    {
     "name": "stdout",
     "output_type": "stream",
     "text": [
      "User  3 Elapsed: 00:00:07\n"
     ]
    },
    {
     "name": "stderr",
     "output_type": "stream",
     "text": [
      "\n",
      "\n",
      "\n",
      "\n",
      " 20%|██        | 5/25 [00:59<02:56,  8.85s/it]\u001b[A\u001b[A\u001b[A\u001b[A"
     ]
    },
    {
     "name": "stdout",
     "output_type": "stream",
     "text": [
      "User  4 Elapsed: 00:00:03\n"
     ]
    },
    {
     "name": "stderr",
     "output_type": "stream",
     "text": [
      "\n",
      "\n",
      "\n",
      "\n",
      " 24%|██▍       | 6/25 [01:04<02:27,  7.75s/it]\u001b[A\u001b[A\u001b[A\u001b[A"
     ]
    },
    {
     "name": "stdout",
     "output_type": "stream",
     "text": [
      "User  5 Elapsed: 00:00:05\n"
     ]
    },
    {
     "name": "stderr",
     "output_type": "stream",
     "text": [
      "\n",
      "\n",
      "\n",
      "\n",
      " 28%|██▊       | 7/25 [01:09<02:04,  6.94s/it]\u001b[A\u001b[A\u001b[A\u001b[A"
     ]
    },
    {
     "name": "stdout",
     "output_type": "stream",
     "text": [
      "User  6 Elapsed: 00:00:05\n"
     ]
    },
    {
     "name": "stderr",
     "output_type": "stream",
     "text": [
      "\n",
      "\n",
      "\n",
      "\n",
      " 32%|███▏      | 8/25 [01:14<01:49,  6.44s/it]\u001b[A\u001b[A\u001b[A\u001b[A"
     ]
    },
    {
     "name": "stdout",
     "output_type": "stream",
     "text": [
      "User  7 Elapsed: 00:00:05\n"
     ]
    },
    {
     "name": "stderr",
     "output_type": "stream",
     "text": [
      "\n",
      "\n",
      "\n",
      "\n",
      " 36%|███▌      | 9/25 [01:21<01:43,  6.47s/it]\u001b[A\u001b[A\u001b[A\u001b[A"
     ]
    },
    {
     "name": "stdout",
     "output_type": "stream",
     "text": [
      "User  8 Elapsed: 00:00:06\n"
     ]
    },
    {
     "name": "stderr",
     "output_type": "stream",
     "text": [
      "\n",
      "\n",
      "\n",
      "\n",
      " 40%|████      | 10/25 [01:34<02:06,  8.41s/it]\u001b[A\u001b[A\u001b[A\u001b[A"
     ]
    },
    {
     "name": "stdout",
     "output_type": "stream",
     "text": [
      "User  9 Elapsed: 00:00:12\n"
     ]
    },
    {
     "name": "stderr",
     "output_type": "stream",
     "text": [
      "\n",
      "\n",
      "\n",
      "\n",
      " 44%|████▍     | 11/25 [01:44<02:03,  8.85s/it]\u001b[A\u001b[A\u001b[A\u001b[A"
     ]
    },
    {
     "name": "stdout",
     "output_type": "stream",
     "text": [
      "User  10 Elapsed: 00:00:09\n"
     ]
    },
    {
     "name": "stderr",
     "output_type": "stream",
     "text": [
      "\n",
      "\n",
      "\n",
      "\n",
      " 48%|████▊     | 12/25 [01:52<01:50,  8.53s/it]\u001b[A\u001b[A\u001b[A\u001b[A"
     ]
    },
    {
     "name": "stdout",
     "output_type": "stream",
     "text": [
      "User  11 Elapsed: 00:00:07\n"
     ]
    },
    {
     "name": "stderr",
     "output_type": "stream",
     "text": [
      "\n",
      "\n",
      "\n",
      "\n",
      " 52%|█████▏    | 13/25 [01:57<01:32,  7.71s/it]\u001b[A\u001b[A\u001b[A\u001b[A"
     ]
    },
    {
     "name": "stdout",
     "output_type": "stream",
     "text": [
      "User  12 Elapsed: 00:00:05\n"
     ]
    },
    {
     "name": "stderr",
     "output_type": "stream",
     "text": [
      "\n",
      "\n",
      "\n",
      "\n",
      " 56%|█████▌    | 14/25 [02:05<01:25,  7.77s/it]\u001b[A\u001b[A\u001b[A\u001b[A"
     ]
    },
    {
     "name": "stdout",
     "output_type": "stream",
     "text": [
      "User  13 Elapsed: 00:00:07\n"
     ]
    },
    {
     "name": "stderr",
     "output_type": "stream",
     "text": [
      "\n",
      "\n",
      "\n",
      "\n",
      " 60%|██████    | 15/25 [02:12<01:15,  7.59s/it]\u001b[A\u001b[A\u001b[A\u001b[A"
     ]
    },
    {
     "name": "stdout",
     "output_type": "stream",
     "text": [
      "User  14 Elapsed: 00:00:07\n"
     ]
    },
    {
     "name": "stderr",
     "output_type": "stream",
     "text": [
      "\n",
      "\n",
      "\n",
      "\n",
      " 64%|██████▍   | 16/25 [02:19<01:05,  7.25s/it]\u001b[A\u001b[A\u001b[A\u001b[A"
     ]
    },
    {
     "name": "stdout",
     "output_type": "stream",
     "text": [
      "User  15 Elapsed: 00:00:06\n"
     ]
    },
    {
     "name": "stderr",
     "output_type": "stream",
     "text": [
      "\n",
      "\n",
      "\n",
      "\n",
      " 68%|██████▊   | 17/25 [02:34<01:16,  9.59s/it]\u001b[A\u001b[A\u001b[A\u001b[A"
     ]
    },
    {
     "name": "stdout",
     "output_type": "stream",
     "text": [
      "User  16 Elapsed: 00:00:15\n"
     ]
    },
    {
     "name": "stderr",
     "output_type": "stream",
     "text": [
      "\n",
      "\n",
      "\n",
      "\n",
      " 72%|███████▏  | 18/25 [02:51<01:22, 11.82s/it]\u001b[A\u001b[A\u001b[A\u001b[A"
     ]
    },
    {
     "name": "stdout",
     "output_type": "stream",
     "text": [
      "User  17 Elapsed: 00:00:17\n"
     ]
    },
    {
     "name": "stderr",
     "output_type": "stream",
     "text": [
      "\n",
      "\n",
      "\n",
      "\n",
      " 76%|███████▌  | 19/25 [02:58<01:02, 10.47s/it]\u001b[A\u001b[A\u001b[A\u001b[A"
     ]
    },
    {
     "name": "stdout",
     "output_type": "stream",
     "text": [
      "User  18 Elapsed: 00:00:07\n"
     ]
    },
    {
     "name": "stderr",
     "output_type": "stream",
     "text": [
      "\n",
      "\n",
      "\n",
      "\n",
      " 80%|████████  | 20/25 [03:16<01:02, 12.52s/it]\u001b[A\u001b[A\u001b[A\u001b[A"
     ]
    },
    {
     "name": "stdout",
     "output_type": "stream",
     "text": [
      "User  19 Elapsed: 00:00:17\n"
     ]
    },
    {
     "name": "stderr",
     "output_type": "stream",
     "text": [
      "\n",
      "\n",
      "\n",
      "\n",
      " 84%|████████▍ | 21/25 [03:27<00:48, 12.07s/it]\u001b[A\u001b[A\u001b[A\u001b[A"
     ]
    },
    {
     "name": "stdout",
     "output_type": "stream",
     "text": [
      "User  20 Elapsed: 00:00:11\n"
     ]
    },
    {
     "name": "stderr",
     "output_type": "stream",
     "text": [
      "\n",
      "\n",
      "\n",
      "\n",
      " 88%|████████▊ | 22/25 [03:36<00:33, 11.17s/it]\u001b[A\u001b[A\u001b[A\u001b[A"
     ]
    },
    {
     "name": "stdout",
     "output_type": "stream",
     "text": [
      "User  21 Elapsed: 00:00:09\n"
     ]
    },
    {
     "name": "stderr",
     "output_type": "stream",
     "text": [
      "\n",
      "\n",
      "\n",
      "\n",
      " 92%|█████████▏| 23/25 [03:40<00:18,  9.06s/it]\u001b[A\u001b[A\u001b[A\u001b[A"
     ]
    },
    {
     "name": "stdout",
     "output_type": "stream",
     "text": [
      "User  22 Elapsed: 00:00:04\n",
      "User  23 Elapsed: 00:00:00\n"
     ]
    },
    {
     "name": "stderr",
     "output_type": "stream",
     "text": [
      "\n",
      "\n",
      "\n",
      "\n",
      "100%|██████████| 25/25 [03:46<00:00,  9.06s/it]\u001b[A\u001b[A\u001b[A\u001b[A"
     ]
    },
    {
     "name": "stdout",
     "output_type": "stream",
     "text": [
      "User  24 Elapsed: 00:00:06\n"
     ]
    },
    {
     "name": "stderr",
     "output_type": "stream",
     "text": [
      "\n",
      "\n",
      "\n",
      "\n",
      "\n",
      "  0%|          | 0/25 [00:00<?, ?it/s]\u001b[A\u001b[A\u001b[A\u001b[A\n",
      "\n",
      "\n",
      "\n",
      "  4%|▍         | 1/25 [00:06<02:38,  6.62s/it]\u001b[A\u001b[A\u001b[A\u001b[A"
     ]
    },
    {
     "name": "stdout",
     "output_type": "stream",
     "text": [
      "User  0 Elapsed: 00:00:06\n"
     ]
    },
    {
     "name": "stderr",
     "output_type": "stream",
     "text": [
      "\n",
      "\n",
      "\n",
      "\n",
      "  8%|▊         | 2/25 [00:40<05:41, 14.86s/it]\u001b[A\u001b[A\u001b[A\u001b[A"
     ]
    },
    {
     "name": "stdout",
     "output_type": "stream",
     "text": [
      "User  1 Elapsed: 00:00:34\n"
     ]
    },
    {
     "name": "stderr",
     "output_type": "stream",
     "text": [
      "\n",
      "\n",
      "\n",
      "\n",
      " 12%|█▏        | 3/25 [00:48<04:38, 12.65s/it]\u001b[A\u001b[A\u001b[A\u001b[A"
     ]
    },
    {
     "name": "stdout",
     "output_type": "stream",
     "text": [
      "User  2 Elapsed: 00:00:07\n"
     ]
    },
    {
     "name": "stderr",
     "output_type": "stream",
     "text": [
      "\n",
      "\n",
      "\n",
      "\n",
      " 16%|█▌        | 4/25 [00:55<03:53, 11.11s/it]\u001b[A\u001b[A\u001b[A\u001b[A"
     ]
    },
    {
     "name": "stdout",
     "output_type": "stream",
     "text": [
      "User  3 Elapsed: 00:00:07\n"
     ]
    },
    {
     "name": "stderr",
     "output_type": "stream",
     "text": [
      "\n",
      "\n",
      "\n",
      "\n",
      " 20%|██        | 5/25 [00:59<02:55,  8.78s/it]\u001b[A\u001b[A\u001b[A\u001b[A"
     ]
    },
    {
     "name": "stdout",
     "output_type": "stream",
     "text": [
      "User  4 Elapsed: 00:00:03\n"
     ]
    },
    {
     "name": "stderr",
     "output_type": "stream",
     "text": [
      "\n",
      "\n",
      "\n",
      "\n",
      " 24%|██▍       | 6/25 [01:04<02:25,  7.64s/it]\u001b[A\u001b[A\u001b[A\u001b[A"
     ]
    },
    {
     "name": "stdout",
     "output_type": "stream",
     "text": [
      "User  5 Elapsed: 00:00:04\n"
     ]
    },
    {
     "name": "stderr",
     "output_type": "stream",
     "text": [
      "\n",
      "\n",
      "\n",
      "\n",
      " 28%|██▊       | 7/25 [01:09<02:04,  6.91s/it]\u001b[A\u001b[A\u001b[A\u001b[A"
     ]
    },
    {
     "name": "stdout",
     "output_type": "stream",
     "text": [
      "User  6 Elapsed: 00:00:05\n"
     ]
    },
    {
     "name": "stderr",
     "output_type": "stream",
     "text": [
      "\n",
      "\n",
      "\n",
      "\n",
      " 32%|███▏      | 8/25 [01:14<01:48,  6.39s/it]\u001b[A\u001b[A\u001b[A\u001b[A"
     ]
    },
    {
     "name": "stdout",
     "output_type": "stream",
     "text": [
      "User  7 Elapsed: 00:00:05\n"
     ]
    },
    {
     "name": "stderr",
     "output_type": "stream",
     "text": [
      "\n",
      "\n",
      "\n",
      "\n",
      " 36%|███▌      | 9/25 [01:21<01:43,  6.47s/it]\u001b[A\u001b[A\u001b[A\u001b[A"
     ]
    },
    {
     "name": "stdout",
     "output_type": "stream",
     "text": [
      "User  8 Elapsed: 00:00:06\n"
     ]
    },
    {
     "name": "stderr",
     "output_type": "stream",
     "text": [
      "\n",
      "\n",
      "\n",
      "\n",
      " 40%|████      | 10/25 [01:34<02:07,  8.50s/it]\u001b[A\u001b[A\u001b[A\u001b[A"
     ]
    },
    {
     "name": "stdout",
     "output_type": "stream",
     "text": [
      "User  9 Elapsed: 00:00:13\n"
     ]
    },
    {
     "name": "stderr",
     "output_type": "stream",
     "text": [
      "\n",
      "\n",
      "\n",
      "\n",
      " 44%|████▍     | 11/25 [01:44<02:05,  9.00s/it]\u001b[A\u001b[A\u001b[A\u001b[A"
     ]
    },
    {
     "name": "stdout",
     "output_type": "stream",
     "text": [
      "User  10 Elapsed: 00:00:10\n"
     ]
    },
    {
     "name": "stderr",
     "output_type": "stream",
     "text": [
      "\n",
      "\n",
      "\n",
      "\n",
      " 48%|████▊     | 12/25 [01:52<01:51,  8.59s/it]\u001b[A\u001b[A\u001b[A\u001b[A"
     ]
    },
    {
     "name": "stdout",
     "output_type": "stream",
     "text": [
      "User  11 Elapsed: 00:00:07\n"
     ]
    },
    {
     "name": "stderr",
     "output_type": "stream",
     "text": [
      "\n",
      "\n",
      "\n",
      "\n",
      " 52%|█████▏    | 13/25 [01:58<01:33,  7.81s/it]\u001b[A\u001b[A\u001b[A\u001b[A"
     ]
    },
    {
     "name": "stdout",
     "output_type": "stream",
     "text": [
      "User  12 Elapsed: 00:00:06\n"
     ]
    },
    {
     "name": "stderr",
     "output_type": "stream",
     "text": [
      "\n",
      "\n",
      "\n",
      "\n",
      " 56%|█████▌    | 14/25 [02:05<01:24,  7.72s/it]\u001b[A\u001b[A\u001b[A\u001b[A"
     ]
    },
    {
     "name": "stdout",
     "output_type": "stream",
     "text": [
      "User  13 Elapsed: 00:00:07\n"
     ]
    },
    {
     "name": "stderr",
     "output_type": "stream",
     "text": [
      "\n",
      "\n",
      "\n",
      "\n",
      " 60%|██████    | 15/25 [02:12<01:15,  7.56s/it]\u001b[A\u001b[A\u001b[A\u001b[A"
     ]
    },
    {
     "name": "stdout",
     "output_type": "stream",
     "text": [
      "User  14 Elapsed: 00:00:07\n"
     ]
    },
    {
     "name": "stderr",
     "output_type": "stream",
     "text": [
      "\n",
      "\n",
      "\n",
      "\n",
      " 64%|██████▍   | 16/25 [02:19<01:04,  7.18s/it]\u001b[A\u001b[A\u001b[A\u001b[A"
     ]
    },
    {
     "name": "stdout",
     "output_type": "stream",
     "text": [
      "User  15 Elapsed: 00:00:06\n"
     ]
    },
    {
     "name": "stderr",
     "output_type": "stream",
     "text": [
      "\n",
      "\n",
      "\n",
      "\n",
      " 68%|██████▊   | 17/25 [02:34<01:16,  9.62s/it]\u001b[A\u001b[A\u001b[A\u001b[A"
     ]
    },
    {
     "name": "stdout",
     "output_type": "stream",
     "text": [
      "User  16 Elapsed: 00:00:15\n"
     ]
    },
    {
     "name": "stderr",
     "output_type": "stream",
     "text": [
      "\n",
      "\n",
      "\n",
      "\n",
      " 72%|███████▏  | 18/25 [02:50<01:21, 11.61s/it]\u001b[A\u001b[A\u001b[A\u001b[A"
     ]
    },
    {
     "name": "stdout",
     "output_type": "stream",
     "text": [
      "User  17 Elapsed: 00:00:16\n"
     ]
    },
    {
     "name": "stderr",
     "output_type": "stream",
     "text": [
      "\n",
      "\n",
      "\n",
      "\n",
      " 76%|███████▌  | 19/25 [02:58<01:02, 10.38s/it]\u001b[A\u001b[A\u001b[A\u001b[A"
     ]
    },
    {
     "name": "stdout",
     "output_type": "stream",
     "text": [
      "User  18 Elapsed: 00:00:07\n"
     ]
    },
    {
     "name": "stderr",
     "output_type": "stream",
     "text": [
      "\n",
      "\n",
      "\n",
      "\n",
      " 80%|████████  | 20/25 [03:15<01:02, 12.59s/it]\u001b[A\u001b[A\u001b[A\u001b[A"
     ]
    },
    {
     "name": "stdout",
     "output_type": "stream",
     "text": [
      "User  19 Elapsed: 00:00:17\n"
     ]
    },
    {
     "name": "stderr",
     "output_type": "stream",
     "text": [
      "\n",
      "\n",
      "\n",
      "\n",
      " 84%|████████▍ | 21/25 [03:27<00:48, 12.20s/it]\u001b[A\u001b[A\u001b[A\u001b[A"
     ]
    },
    {
     "name": "stdout",
     "output_type": "stream",
     "text": [
      "User  20 Elapsed: 00:00:11\n"
     ]
    },
    {
     "name": "stderr",
     "output_type": "stream",
     "text": [
      "\n",
      "\n",
      "\n",
      "\n",
      " 88%|████████▊ | 22/25 [03:36<00:34, 11.36s/it]\u001b[A\u001b[A\u001b[A\u001b[A"
     ]
    },
    {
     "name": "stdout",
     "output_type": "stream",
     "text": [
      "User  21 Elapsed: 00:00:09\n"
     ]
    },
    {
     "name": "stderr",
     "output_type": "stream",
     "text": [
      "\n",
      "\n",
      "\n",
      "\n",
      " 92%|█████████▏| 23/25 [03:40<00:18,  9.18s/it]\u001b[A\u001b[A\u001b[A\u001b[A"
     ]
    },
    {
     "name": "stdout",
     "output_type": "stream",
     "text": [
      "User  22 Elapsed: 00:00:04\n",
      "User  23 Elapsed: 00:00:00\n"
     ]
    },
    {
     "name": "stderr",
     "output_type": "stream",
     "text": [
      "\n",
      "\n",
      "\n",
      "\n",
      "100%|██████████| 25/25 [03:46<00:00,  9.06s/it]\u001b[A\u001b[A\u001b[A\u001b[A"
     ]
    },
    {
     "name": "stdout",
     "output_type": "stream",
     "text": [
      "User  24 Elapsed: 00:00:05\n"
     ]
    },
    {
     "name": "stderr",
     "output_type": "stream",
     "text": [
      "\n",
      "\n",
      "\n",
      "\n",
      "\n",
      "  0%|          | 0/25 [00:00<?, ?it/s]\u001b[A\u001b[A\u001b[A\u001b[A\n",
      "\n",
      "\n",
      "\n",
      "  4%|▍         | 1/25 [00:06<02:47,  6.97s/it]\u001b[A\u001b[A\u001b[A\u001b[A"
     ]
    },
    {
     "name": "stdout",
     "output_type": "stream",
     "text": [
      "User  0 Elapsed: 00:00:06\n"
     ]
    },
    {
     "name": "stderr",
     "output_type": "stream",
     "text": [
      "\n",
      "\n",
      "\n",
      "\n",
      "  8%|▊         | 2/25 [00:40<05:41, 14.84s/it]\u001b[A\u001b[A\u001b[A\u001b[A"
     ]
    },
    {
     "name": "stdout",
     "output_type": "stream",
     "text": [
      "User  1 Elapsed: 00:00:33\n"
     ]
    },
    {
     "name": "stderr",
     "output_type": "stream",
     "text": [
      "\n",
      "\n",
      "\n",
      "\n",
      " 12%|█▏        | 3/25 [00:48<04:40, 12.75s/it]\u001b[A\u001b[A\u001b[A\u001b[A"
     ]
    },
    {
     "name": "stdout",
     "output_type": "stream",
     "text": [
      "User  2 Elapsed: 00:00:07\n"
     ]
    },
    {
     "name": "stderr",
     "output_type": "stream",
     "text": [
      "\n",
      "\n",
      "\n",
      "\n",
      " 16%|█▌        | 4/25 [00:55<03:51, 11.04s/it]\u001b[A\u001b[A\u001b[A\u001b[A"
     ]
    },
    {
     "name": "stdout",
     "output_type": "stream",
     "text": [
      "User  3 Elapsed: 00:00:07\n"
     ]
    },
    {
     "name": "stderr",
     "output_type": "stream",
     "text": [
      "\n",
      "\n",
      "\n",
      "\n",
      " 20%|██        | 5/25 [00:58<02:53,  8.67s/it]\u001b[A\u001b[A\u001b[A\u001b[A"
     ]
    },
    {
     "name": "stdout",
     "output_type": "stream",
     "text": [
      "User  4 Elapsed: 00:00:03\n"
     ]
    },
    {
     "name": "stderr",
     "output_type": "stream",
     "text": [
      "\n",
      "\n",
      "\n",
      "\n",
      " 24%|██▍       | 6/25 [01:03<02:25,  7.64s/it]\u001b[A\u001b[A\u001b[A\u001b[A"
     ]
    },
    {
     "name": "stdout",
     "output_type": "stream",
     "text": [
      "User  5 Elapsed: 00:00:05\n"
     ]
    },
    {
     "name": "stderr",
     "output_type": "stream",
     "text": [
      "\n",
      "\n",
      "\n",
      "\n",
      " 28%|██▊       | 7/25 [01:08<02:03,  6.87s/it]\u001b[A\u001b[A\u001b[A\u001b[A"
     ]
    },
    {
     "name": "stdout",
     "output_type": "stream",
     "text": [
      "User  6 Elapsed: 00:00:05\n"
     ]
    },
    {
     "name": "stderr",
     "output_type": "stream",
     "text": [
      "\n",
      "\n",
      "\n",
      "\n",
      " 32%|███▏      | 8/25 [01:13<01:49,  6.44s/it]\u001b[A\u001b[A\u001b[A\u001b[A"
     ]
    },
    {
     "name": "stdout",
     "output_type": "stream",
     "text": [
      "User  7 Elapsed: 00:00:05\n"
     ]
    },
    {
     "name": "stderr",
     "output_type": "stream",
     "text": [
      "\n",
      "\n",
      "\n",
      "\n",
      " 36%|███▌      | 9/25 [01:20<01:43,  6.48s/it]\u001b[A\u001b[A\u001b[A\u001b[A"
     ]
    },
    {
     "name": "stdout",
     "output_type": "stream",
     "text": [
      "User  8 Elapsed: 00:00:06\n"
     ]
    },
    {
     "name": "stderr",
     "output_type": "stream",
     "text": [
      "\n",
      "\n",
      "\n",
      "\n",
      " 40%|████      | 10/25 [01:33<02:07,  8.53s/it]\u001b[A\u001b[A\u001b[A\u001b[A"
     ]
    },
    {
     "name": "stdout",
     "output_type": "stream",
     "text": [
      "User  9 Elapsed: 00:00:13\n"
     ]
    },
    {
     "name": "stderr",
     "output_type": "stream",
     "text": [
      "\n",
      "\n",
      "\n",
      "\n",
      " 44%|████▍     | 11/25 [01:43<02:05,  8.93s/it]\u001b[A\u001b[A\u001b[A\u001b[A"
     ]
    },
    {
     "name": "stdout",
     "output_type": "stream",
     "text": [
      "User  10 Elapsed: 00:00:09\n"
     ]
    },
    {
     "name": "stderr",
     "output_type": "stream",
     "text": [
      "\n",
      "\n",
      "\n",
      "\n",
      " 48%|████▊     | 12/25 [01:51<01:50,  8.49s/it]\u001b[A\u001b[A\u001b[A\u001b[A"
     ]
    },
    {
     "name": "stdout",
     "output_type": "stream",
     "text": [
      "User  11 Elapsed: 00:00:07\n"
     ]
    },
    {
     "name": "stderr",
     "output_type": "stream",
     "text": [
      "\n",
      "\n",
      "\n",
      "\n",
      " 52%|█████▏    | 13/25 [01:57<01:32,  7.73s/it]\u001b[A\u001b[A\u001b[A\u001b[A"
     ]
    },
    {
     "name": "stdout",
     "output_type": "stream",
     "text": [
      "User  12 Elapsed: 00:00:05\n"
     ]
    },
    {
     "name": "stderr",
     "output_type": "stream",
     "text": [
      "\n",
      "\n",
      "\n",
      "\n",
      " 56%|█████▌    | 14/25 [02:04<01:24,  7.72s/it]\u001b[A\u001b[A\u001b[A\u001b[A"
     ]
    },
    {
     "name": "stdout",
     "output_type": "stream",
     "text": [
      "User  13 Elapsed: 00:00:07\n"
     ]
    },
    {
     "name": "stderr",
     "output_type": "stream",
     "text": [
      "\n",
      "\n",
      "\n",
      "\n",
      " 60%|██████    | 15/25 [02:11<01:14,  7.46s/it]\u001b[A\u001b[A\u001b[A\u001b[A"
     ]
    },
    {
     "name": "stdout",
     "output_type": "stream",
     "text": [
      "User  14 Elapsed: 00:00:06\n"
     ]
    },
    {
     "name": "stderr",
     "output_type": "stream",
     "text": [
      "\n",
      "\n",
      "\n",
      "\n",
      " 64%|██████▍   | 16/25 [02:18<01:04,  7.15s/it]\u001b[A\u001b[A\u001b[A\u001b[A"
     ]
    },
    {
     "name": "stdout",
     "output_type": "stream",
     "text": [
      "User  15 Elapsed: 00:00:06\n"
     ]
    },
    {
     "name": "stderr",
     "output_type": "stream",
     "text": [
      "\n",
      "\n",
      "\n",
      "\n",
      " 68%|██████▊   | 17/25 [02:33<01:15,  9.47s/it]\u001b[A\u001b[A\u001b[A\u001b[A"
     ]
    },
    {
     "name": "stdout",
     "output_type": "stream",
     "text": [
      "User  16 Elapsed: 00:00:14\n"
     ]
    },
    {
     "name": "stderr",
     "output_type": "stream",
     "text": [
      "\n",
      "\n",
      "\n",
      "\n",
      " 72%|███████▏  | 18/25 [02:49<01:21, 11.60s/it]\u001b[A\u001b[A\u001b[A\u001b[A"
     ]
    },
    {
     "name": "stdout",
     "output_type": "stream",
     "text": [
      "User  17 Elapsed: 00:00:16\n"
     ]
    },
    {
     "name": "stderr",
     "output_type": "stream",
     "text": [
      "\n",
      "\n",
      "\n",
      "\n",
      " 76%|███████▌  | 19/25 [02:57<01:02, 10.42s/it]\u001b[A\u001b[A\u001b[A\u001b[A"
     ]
    },
    {
     "name": "stdout",
     "output_type": "stream",
     "text": [
      "User  18 Elapsed: 00:00:07\n"
     ]
    },
    {
     "name": "stderr",
     "output_type": "stream",
     "text": [
      "\n",
      "\n",
      "\n",
      "\n",
      " 80%|████████  | 20/25 [03:14<01:01, 12.40s/it]\u001b[A\u001b[A\u001b[A\u001b[A"
     ]
    },
    {
     "name": "stdout",
     "output_type": "stream",
     "text": [
      "User  19 Elapsed: 00:00:17\n"
     ]
    },
    {
     "name": "stderr",
     "output_type": "stream",
     "text": [
      "\n",
      "\n",
      "\n",
      "\n",
      " 84%|████████▍ | 21/25 [03:25<00:48, 12.05s/it]\u001b[A\u001b[A\u001b[A\u001b[A"
     ]
    },
    {
     "name": "stdout",
     "output_type": "stream",
     "text": [
      "User  20 Elapsed: 00:00:11\n"
     ]
    },
    {
     "name": "stderr",
     "output_type": "stream",
     "text": [
      "\n",
      "\n",
      "\n",
      "\n",
      " 88%|████████▊ | 22/25 [03:34<00:33, 11.24s/it]\u001b[A\u001b[A\u001b[A\u001b[A"
     ]
    },
    {
     "name": "stdout",
     "output_type": "stream",
     "text": [
      "User  21 Elapsed: 00:00:09\n"
     ]
    },
    {
     "name": "stderr",
     "output_type": "stream",
     "text": [
      "\n",
      "\n",
      "\n",
      "\n",
      " 92%|█████████▏| 23/25 [03:38<00:18,  9.06s/it]\u001b[A\u001b[A\u001b[A\u001b[A"
     ]
    },
    {
     "name": "stdout",
     "output_type": "stream",
     "text": [
      "User  22 Elapsed: 00:00:03\n",
      "User  23 Elapsed: 00:00:00\n"
     ]
    },
    {
     "name": "stderr",
     "output_type": "stream",
     "text": [
      "\n",
      "\n",
      "\n",
      "\n",
      "100%|██████████| 25/25 [03:45<00:00,  9.00s/it]\u001b[A\u001b[A\u001b[A\u001b[A"
     ]
    },
    {
     "name": "stdout",
     "output_type": "stream",
     "text": [
      "User  24 Elapsed: 00:00:06\n"
     ]
    },
    {
     "name": "stderr",
     "output_type": "stream",
     "text": [
      "\n"
     ]
    }
   ],
   "source": [
    "# Single Regularization\n",
    "lambs = [0.01,0.1,1,10,30,50,70,90,100,1000]\n",
    "for lamb in lambs:\n",
    "    row = {}\n",
    "    matrix_Train = rtrain\n",
    "    matrix_Test = rtest\n",
    "    test_users = np.arange(25)\n",
    "#         test_users = [1]\n",
    "    target_ranks = [20, 50]\n",
    "    num_items_sampled = 5\n",
    "    num_keyphrases = 235\n",
    "    df = pd.DataFrame(row)\n",
    "    max_iteration_threshold = 20\n",
    "    keyphrase_popularity = keyphrase_popularity\n",
    "    dataset_name = \"yelp\"\n",
    "    model = \"plrec\"\n",
    "    parameters_row = {'iter': 10,\n",
    "                      'lambda':200,\n",
    "                      'rank':200}\n",
    "    keyphrases_names = keyphrases\n",
    "    keyphrase_selection_method = 'diff'\n",
    "    max_wanted_keyphrase = 20\n",
    "    critiquing_model = LP1Simplified(keyphrase_freq=U_K,\n",
    "                                    item_keyphrase_freq=I_K,\n",
    "                                    row=row,\n",
    "                                    matrix_Train=matrix_Train,\n",
    "                                    matrix_Test=matrix_Test,\n",
    "                                    test_users=test_users,\n",
    "                                    target_ranks=target_ranks,\n",
    "                                    num_items_sampled=num_items_sampled,\n",
    "                                    num_keyphrases=num_keyphrases,\n",
    "                                    df=df,\n",
    "                                    max_iteration_threshold=max_iteration_threshold,\n",
    "                                    keyphrase_popularity=keyphrase_popularity,\n",
    "                                    dataset_name=dataset_name,\n",
    "                                    model=model,\n",
    "                                    parameters_row=parameters_row,\n",
    "                                    keyphrases_names = keyphrases_names,\n",
    "                                    keyphrase_selection_method = keyphrase_selection_method,\n",
    "                                    max_wanted_keyphrase = max_wanted_keyphrase,\n",
    "                                    lamb = lamb)\n",
    "    df = critiquing_model.start_critiquing()\n",
    "\n",
    "    table_path = '../tables/critiquing/tuning_ranksvm3_diff/'\n",
    "    name = 'lamb_'+ str(lamb) + '_test.csv'\n",
    "    save_dataframe_csv(df, table_path, name)"
   ]
  },
  {
   "cell_type": "code",
   "execution_count": null,
   "metadata": {},
   "outputs": [
    {
     "name": "stderr",
     "output_type": "stream",
     "text": [
      "\n",
      "\n",
      "\n",
      "\n",
      "  0%|          | 0/25 [00:00<?, ?it/s]\u001b[A\u001b[A\u001b[A\u001b[A\n",
      "\n",
      "\n",
      "\n",
      "  4%|▍         | 1/25 [00:07<02:54,  7.26s/it]\u001b[A\u001b[A\u001b[A\u001b[A"
     ]
    },
    {
     "name": "stdout",
     "output_type": "stream",
     "text": [
      "User  0 Elapsed: 00:00:07\n"
     ]
    }
   ],
   "source": [
    "# 2D Regularization\n",
    "lambs = [0.01,0.1,1,10,30,50,70,90,100,1000]\n",
    "for lamb1 in lambs:\n",
    "    for lamb2 in lambs:\n",
    "        row = {}\n",
    "        matrix_Train = rtrain\n",
    "        matrix_Test = rtest\n",
    "        test_users = np.arange(25)\n",
    "    #         test_users = [1]\n",
    "        target_ranks = [20, 50]\n",
    "        num_items_sampled = 5\n",
    "        num_keyphrases = 235\n",
    "        df = pd.DataFrame(row)\n",
    "        max_iteration_threshold = 20\n",
    "        keyphrase_popularity = keyphrase_popularity\n",
    "        dataset_name = \"yelp\"\n",
    "        model = \"plrec\"\n",
    "        parameters_row = {'iter': 10,\n",
    "                          'lambda':200,\n",
    "                          'rank':200}\n",
    "        keyphrases_names = keyphrases\n",
    "        keyphrase_selection_method = 'random'\n",
    "        max_wanted_keyphrase = 20\n",
    "        critiquing_model = LP1Simplified(keyphrase_freq=U_K,\n",
    "                                        item_keyphrase_freq=I_K,\n",
    "                                        row=row,\n",
    "                                        matrix_Train=matrix_Train,\n",
    "                                        matrix_Test=matrix_Test,\n",
    "                                        test_users=test_users,\n",
    "                                        target_ranks=target_ranks,\n",
    "                                        num_items_sampled=num_items_sampled,\n",
    "                                        num_keyphrases=num_keyphrases,\n",
    "                                        df=df,\n",
    "                                        max_iteration_threshold=max_iteration_threshold,\n",
    "                                        keyphrase_popularity=keyphrase_popularity,\n",
    "                                        dataset_name=dataset_name,\n",
    "                                        model=model,\n",
    "                                        parameters_row=parameters_row,\n",
    "                                        keyphrases_names = keyphrases_names,\n",
    "                                        keyphrase_selection_method = keyphrase_selection_method,\n",
    "                                        max_wanted_keyphrase = max_wanted_keyphrase,\n",
    "                                        lamb = [lamb1,lamb2])\n",
    "        df = critiquing_model.start_critiquing()\n",
    "\n",
    "        table_path = '../tables/critiquing/tuning_ranksvm3_random/'\n",
    "        name = 'lamb1_'+ str(lamb1) + '_lamb2_'+ str(lamb2) + '_test.csv'\n",
    "        save_dataframe_csv(df, table_path, name)"
   ]
  },
  {
   "cell_type": "code",
   "execution_count": 206,
   "metadata": {},
   "outputs": [],
   "source": [
    "table_path = '../tables/critiquing/multi_step_critiquing/yelp/ranksvm/'\n",
    "name = 'ranksvm2test.csv'\n",
    "# save_dataframe_csv(df, table_path, name)\n",
    "df = load_dataframe_csv(table_path,name)"
   ]
  },
  {
   "cell_type": "code",
   "execution_count": 243,
   "metadata": {},
   "outputs": [],
   "source": [
    "def avg_successful_rate(df):\n",
    "    num_runs = len(np.where(df['iteration'] == 0)[0])\n",
    "    num_success = len(np.where(df['result'] == 'successful')[0])\n",
    "    \n",
    "    return num_success/num_runs\n",
    "def avg_length(df,include_fail = True):\n",
    "    num_runs = len(np.where(df['iteration'] == 0)[0])\n",
    "    return (len(df)-num_runs)/num_runs"
   ]
  },
  {
   "cell_type": "code",
   "execution_count": 267,
   "metadata": {},
   "outputs": [],
   "source": [
    "# df_5 =  df[df['target_rank'] == 5]\n",
    "# df_10 = df[df['target_rank'] == 10]\n",
    "df_20 = df[df['target_rank'] == 20]\n",
    "df_50 = df[df['target_rank'] == 50]"
   ]
  },
  {
   "cell_type": "code",
   "execution_count": 245,
   "metadata": {},
   "outputs": [
    {
     "name": "stdout",
     "output_type": "stream",
     "text": [
      "18.271084337349397\n",
      "0.10090361445783133\n",
      "16.94277108433735\n",
      "0.1822289156626506\n"
     ]
    }
   ],
   "source": [
    "# Ranksvm 1 50 users 20 topaffected lamb = 5\n",
    "print (avg_length(df_20))\n",
    "print (avg_successful_rate(df_20))\n",
    "print (avg_length(df_50))\n",
    "print (avg_successful_rate(df_50))"
   ]
  },
  {
   "cell_type": "code",
   "execution_count": 239,
   "metadata": {},
   "outputs": [
    {
     "name": "stdout",
     "output_type": "stream",
     "text": [
      "18.370481927710845\n",
      "0.09789156626506024\n",
      "17.049698795180724\n",
      "0.17620481927710843\n"
     ]
    }
   ],
   "source": [
    "# Ranksvm2 50 users 20topaffected lamb = 5\n",
    "print (avg_length(df_20))\n",
    "print (avg_successful_rate(df_20))\n",
    "print (avg_length(df_50))\n",
    "print (avg_successful_rate(df_50))"
   ]
  },
  {
   "cell_type": "code",
   "execution_count": 268,
   "metadata": {},
   "outputs": [
    {
     "name": "stdout",
     "output_type": "stream",
     "text": [
      "18.13102409638554\n",
      "0.11897590361445783\n",
      "16.673192771084338\n",
      "0.21234939759036145\n"
     ]
    }
   ],
   "source": [
    "# Ranksvm2 50 users 20topaffected lamb = 100, range = -100to100\n",
    "print (avg_length(df_20))\n",
    "print (avg_successful_rate(df_20))\n",
    "print (avg_length(df_50))\n",
    "print (avg_successful_rate(df_50))"
   ]
  },
  {
   "cell_type": "code",
   "execution_count": 252,
   "metadata": {},
   "outputs": [
    {
     "name": "stdout",
     "output_type": "stream",
     "text": [
      "16.003012048192772\n",
      "0.2756024096385542\n",
      "14.045180722891565\n",
      "0.39457831325301207\n"
     ]
    }
   ],
   "source": [
    "# Avg\n",
    "print (avg_length(df_20))\n",
    "print (avg_successful_rate(df_20))\n",
    "print (avg_length(df_50))\n",
    "print (avg_successful_rate(df_50))"
   ]
  },
  {
   "cell_type": "code",
   "execution_count": 219,
   "metadata": {},
   "outputs": [
    {
     "name": "stdout",
     "output_type": "stream",
     "text": [
      "20.0\n",
      "0.0\n",
      "19.08888888888889\n",
      "0.06666666666666667\n"
     ]
    }
   ],
   "source": [
    "# Ranksvm 2 bot 20 affected\n",
    "print (avg_length(df_20))\n",
    "print (avg_successful_rate(df_20))\n",
    "print (avg_length(df_50))\n",
    "print (avg_successful_rate(df_50))"
   ]
  },
  {
   "cell_type": "code",
   "execution_count": 290,
   "metadata": {},
   "outputs": [
    {
     "name": "stdout",
     "output_type": "stream",
     "text": [
      "19.377777777777776\n",
      "0.08888888888888889\n",
      "18.88888888888889\n",
      "0.15555555555555556\n"
     ]
    }
   ],
   "source": [
    "# Rating obj\n",
    "print (avg_length(df_20))\n",
    "print (avg_successful_rate(df_20))\n",
    "print (avg_length(df_50))\n",
    "print (avg_successful_rate(df_50))"
   ]
  },
  {
   "cell_type": "code",
   "execution_count": 258,
   "metadata": {},
   "outputs": [
    {
     "name": "stdout",
     "output_type": "stream",
     "text": [
      "18.466666666666665\n",
      "0.15555555555555556\n",
      "17.177777777777777\n",
      "0.26666666666666666\n"
     ]
    }
   ],
   "source": [
    "# top20items\n",
    "print (avg_length(df_20))\n",
    "print (avg_successful_rate(df_20))\n",
    "print (avg_length(df_50))\n",
    "print (avg_successful_rate(df_50))"
   ]
  }
 ],
 "metadata": {
  "kernelspec": {
   "display_name": "Python 3",
   "language": "python",
   "name": "python3"
  },
  "language_info": {
   "codemirror_mode": {
    "name": "ipython",
    "version": 3
   },
   "file_extension": ".py",
   "mimetype": "text/x-python",
   "name": "python",
   "nbconvert_exporter": "python",
   "pygments_lexer": "ipython3",
   "version": "3.6.10"
  }
 },
 "nbformat": 4,
 "nbformat_minor": 2
}
