{
 "cells": [
  {
   "cell_type": "code",
   "execution_count": 2,
   "metadata": {
    "scrolled": false
   },
   "outputs": [
    {
     "data": {
      "text/plain": [
       "['/Users/litos/opt/anaconda3/envs/tensorflow_cpu/lib/python36.zip',\n",
       " '/Users/litos/opt/anaconda3/envs/tensorflow_cpu/lib/python3.6',\n",
       " '/Users/litos/opt/anaconda3/envs/tensorflow_cpu/lib/python3.6/lib-dynload',\n",
       " '',\n",
       " '/Users/litos/opt/anaconda3/envs/tensorflow_cpu/lib/python3.6/site-packages',\n",
       " '/Users/litos/opt/anaconda3/envs/tensorflow_cpu/lib/python3.6/site-packages/IPython/extensions',\n",
       " '/Users/litos/.ipython']"
      ]
     },
     "execution_count": 2,
     "metadata": {},
     "output_type": "execute_result"
    }
   ],
   "source": [
    "import sys\n",
    "sys.path"
   ]
  },
  {
   "cell_type": "code",
   "execution_count": 3,
   "metadata": {},
   "outputs": [],
   "source": [
    "from gurobipy import *\n",
    "\n",
    "from scipy.sparse import csr_matrix, load_npz, save_npz\n",
    "from tqdm import tqdm\n",
    "from sklearn.preprocessing import normalize\n",
    "from collections import *\n",
    "import datetime\n",
    "import json\n",
    "import pandas as pd\n",
    "import time\n",
    "# import yaml\n",
    "import scipy.sparse as sparse\n",
    "from ast import literal_eval\n",
    "\n",
    "import numpy as np\n",
    "import matplotlib.pyplot as plt\n",
    "import random\n",
    "\n",
    "from sklearn.linear_model import LinearRegression\n",
    "from sklearn.preprocessing import normalize\n",
    "from sklearn.linear_model import Ridge\n",
    "from sklearn.utils.extmath import randomized_svd\n",
    "\n",
    "from scipy.optimize import minimize"
   ]
  },
  {
   "cell_type": "markdown",
   "metadata": {},
   "source": [
    "# Utils"
   ]
  },
  {
   "cell_type": "code",
   "execution_count": 4,
   "metadata": {},
   "outputs": [],
   "source": [
    "def save_dataframe_csv(df, path, name):\n",
    "    df.to_csv(path+name, index=False)\n",
    "\n",
    "\n",
    "def load_dataframe_csv(path, name, index_col=None):\n",
    "    return pd.read_csv(path+name, index_col=index_col)\n"
   ]
  },
  {
   "cell_type": "markdown",
   "metadata": {},
   "source": [
    "# Load Data"
   ]
  },
  {
   "cell_type": "code",
   "execution_count": 5,
   "metadata": {},
   "outputs": [],
   "source": [
    "# Load Original Data\n",
    "df_train = pd.read_csv('../../data/yelp/Train.csv',encoding='latin-1')\n",
    "# df_valid = pd.read_csv('../../data/yelp/Valid.csv',encoding='latin-1')\n",
    "# df_test = pd.read_csv('../../data/yelp/Test.csv',encoding='latin-1')"
   ]
  },
  {
   "cell_type": "code",
   "execution_count": 6,
   "metadata": {},
   "outputs": [],
   "source": [
    "keyphrases = pd.read_csv('../../data/yelp/KeyPhrases.csv')['Phrases'].tolist()\n",
    "keyphrase_popularity = np.loadtxt('../data/yelp/'+'keyphrase_popularity.txt', dtype=int)\n",
    "\n",
    "# Load U-I Data \n",
    "rtrain = load_npz(\"../../data/yelp/Rtrain.npz\")\n",
    "rvalid = load_npz(\"../../data/yelp/Rvalid.npz\")\n",
    "rtest = load_npz(\"../../data/yelp/Rtest.npz\")\n",
    "\n",
    "# Load user/item keyphrase data\n",
    "U_K = load_npz(\"../../data/yelp/U_K.npz\")\n",
    "I_K = load_npz(\"../../data/yelp/I_K.npz\")"
   ]
  },
  {
   "cell_type": "markdown",
   "metadata": {},
   "source": [
    "# Models"
   ]
  },
  {
   "cell_type": "code",
   "execution_count": 7,
   "metadata": {},
   "outputs": [],
   "source": [
    "def get_I_K(df, row_name = 'ItemIndex', shape = (3668,75)):\n",
    "    rows = []\n",
    "    cols = []\n",
    "    vals = []\n",
    "    for i in tqdm(range(df.shape[0])):\n",
    "        key_vector = literal_eval(df['keyVector'][i])\n",
    "        rows.extend([df[row_name][i]]*len(key_vector)) ## Item index\n",
    "        cols.extend(key_vector) ## Keyword Index\n",
    "        vals.extend(np.array([1]*len(key_vector)))\n",
    "    return csr_matrix((vals, (rows, cols)), shape=shape)\n"
   ]
  },
  {
   "cell_type": "code",
   "execution_count": 8,
   "metadata": {},
   "outputs": [],
   "source": [
    "# PLREC \n",
    "def inhour(elapsed):\n",
    "    return time.strftime('%H:%M:%S', time.gmtime(elapsed))\n",
    "\n",
    "def plrec(matrix_train, iteration=4, lamb=80, rank=200, seed=1):\n",
    "    \"\"\"\n",
    "    Function used to achieve generalized projected lrec w/o item-attribute embedding\n",
    "    :param matrix_train: user-item matrix with shape m*n\n",
    "    :param iteration: number of power iterations in randomized svd\n",
    "    :param lamb: parameter of penalty\n",
    "    :param rank: latent dimension size\n",
    "    :param seed: the seed of the pseudo random number generator to use when shuffling the data\n",
    "    :return: prediction in sparse matrix\n",
    "    \"\"\"\n",
    "    print (\"Randomized SVD\")\n",
    "    start_time = time.time()\n",
    "    P, sigma, Qt = randomized_svd(matrix_train,\n",
    "                                  n_components=rank,\n",
    "                                  n_iter=iteration,\n",
    "                                  random_state=seed)\n",
    "\n",
    "    RQ = matrix_train.dot(sparse.csc_matrix(Qt.T*np.sqrt(sigma)))\n",
    "\n",
    "    print(\"Elapsed: {}\".format(inhour(time.time() - start_time)))\n",
    "\n",
    "    print (\"Closed-Form Linear Optimization\")\n",
    "    start_time = time.time()\n",
    "    pre_inv = RQ.T.dot(RQ) + lamb * sparse.identity(rank, dtype=np.float32)\n",
    "    inverse = sparse.linalg.inv(pre_inv.tocsc())\n",
    "    Y = inverse.dot(RQ.T).dot(matrix_train)\n",
    "    print(\"Elapsed: {}\".format(inhour(time.time() - start_time)))\n",
    "\n",
    "    return np.array(RQ.todense()), np.array(Y.todense()), None\n",
    "\n",
    "# def predict_vector(rating_vector, train_vector, remove_train=True):\n",
    "#     dim = len(rating_vector)\n",
    "#     candidate_index = np.argpartition(-rating_vector, dim-1)[:dim]\n",
    "#     prediction_items = candidate_index[rating_vector[candidate_index].argsort()[::-1]]\n",
    "    \n",
    "#     if remove_train:\n",
    "#         return np.delete(prediction_items, np.isin(prediction_items, train_vector.nonzero()[1]).nonzero()[0])\n",
    "#     else:\n",
    "#         return prediction_items\n",
    "\n",
    "    \n",
    "def predict_scores(matrix_U, matrix_V, bias=None,\n",
    "                   penalize = False,\n",
    "                   keyphrase_freq = I_K, \n",
    "                   critiqued_keyphrase = 0, \n",
    "                   matrix_Train = rtrain,\n",
    "                   alpha = 0):\n",
    "    prediction = matrix_U.dot(matrix_V.T)\n",
    "    # Penalize\n",
    "    if penalize == True:\n",
    "        items_with_keyphrase = np.ravel(keyphrase_freq.T[critiqued_keyphrase].nonzero()[1])\n",
    "        items_without_keyphrase = np.setdiff1d(np.arange(matrix_Train.shape[1]), items_with_keyphrase)\n",
    "        prediction[items_without_keyphrase] = alpha # penalize\n",
    "    \n",
    "    return prediction\n",
    "\n",
    "def predict_vector(rating_vector, train_vector, remove_train=True):\n",
    "    dim = len(rating_vector)\n",
    "    candidate_index = np.argpartition(-rating_vector, dim-1)[:dim]\n",
    "    prediction_items = candidate_index[rating_vector[candidate_index].argsort()[::-1]]\n",
    "    \n",
    "    if remove_train:\n",
    "        return np.delete(prediction_items, np.isin(prediction_items, train_vector.nonzero()[1]).nonzero()[0])\n",
    "    else:\n",
    "        return prediction_items\n"
   ]
  },
  {
   "cell_type": "code",
   "execution_count": 9,
   "metadata": {},
   "outputs": [],
   "source": [
    "# initial Prediction\n",
    "def predict_scores(matrix_U, matrix_V, bias=None,\n",
    "                   penalize = False,\n",
    "                   keyphrase_freq = I_K, \n",
    "                   critiqued_keyphrase = 0, \n",
    "                   matrix_Train = rtrain,\n",
    "                   alpha = 0):\n",
    "    \n",
    "    prediction = matrix_U.dot(matrix_V.T)\n",
    "    # Penalize\n",
    "    if penalize == True:\n",
    "        items_with_keyphrase = np.ravel(keyphrase_freq.T[critiqued_keyphrase].nonzero()[1])\n",
    "        items_without_keyphrase = np.setdiff1d(np.arange(matrix_Train.shape[1]), items_with_keyphrase)\n",
    "        prediction[items_without_keyphrase] = alpha # penalize\n",
    "    \n",
    "    return prediction\n"
   ]
  },
  {
   "cell_type": "code",
   "execution_count": 10,
   "metadata": {},
   "outputs": [],
   "source": [
    "# Keyphrase Selection Helpers\n",
    "def get_valid_keyphrases(keyphrase_freq,top_recommendations,item = None,threshold=50,mutiple_keyphrases_en = False, top_items = None):\n",
    "    \"\"\"\n",
    "    Wrapper function to get either top 1 or top n keyphrases\n",
    "    \"\"\"\n",
    "    if mutiple_keyphrases_en:\n",
    "        top_keyphrases = []\n",
    "        for item in top_items:\n",
    "            top_keyphrases.extend(get_valid_keyphrases_for_one_item(keyphrase_freq,top_recommendations,item,threshold=threshold))\n",
    "        return np.ravel(list(set(top_keyphrases))) # remove duplicate and reformat to np array\n",
    "    else:\n",
    "        return get_valid_keyphrases_for_one_item(keyphrase_freq,top_recommendations,item,threshold=threshold)\n",
    "\n",
    "def get_valid_keyphrases_for_one_item(keyphrase_freq,top_recommendations, item,threshold=50):\n",
    "    \"\"\"\n",
    "    Get keyphrases of item that make sense\n",
    "    E.g. if the item has fewer than threshold=50 keyphrases, get all of them\n",
    "    otherwise get top 50 keyphrases\n",
    "    \"\"\"\n",
    "    keyphrase_length = len(keyphrase_freq[item].nonzero()[1])\n",
    "    if keyphrase_length<threshold:\n",
    "        return keyphrase_freq[item].nonzero()[1]\n",
    "    else:\n",
    "        keyphrases = np.ravel(keyphrase_freq[top_recommendations[0]].todense())\n",
    "        top_keyphrases = np.argsort(keyphrases)[::-1][:threshold]\n",
    "        return top_keyphrases\n",
    "    \n",
    "# For keyphrase selecting method # 3 \"diff\" \n",
    "def get_item_keyphrase_freq(keyphrase_freq,item):\n",
    "    \"\"\"\n",
    "    Get item's keyphrase frequency \n",
    "    \"\"\"\n",
    "    count = keyphrase_freq[item].todense()\n",
    "    return np.ravel(count/(np.sum(count)+0.001))\n",
    "\n",
    "def get_all_item_keyphrase_freq(item_keyphrase_freq = I_K):\n",
    "    res = []\n",
    "    num_items = item_keyphrase_freq.shape[0]\n",
    "    for item in range(num_items):\n",
    "        res.append(np.ravel(get_item_keyphrase_freq(item_keyphrase_freq,item)))\n",
    "    return np.array(res)\n",
    "\n",
    "def get_keyphrase_popularity(df,keyphrases):\n",
    "    \"\"\"\n",
    "    Get keyphrase popularity (count) from dataframe\n",
    "    \"\"\"\n",
    "    keyphrase_popularity = np.zeros(len(keyphrases)) #initialize\n",
    "    for i in range(len(df)):\n",
    "        keyphrase_vector = literal_eval(df['keyVector'][i])\n",
    "        keyphrase_popularity[keyphrase_vector] += 1 # count\n",
    "    return keyphrase_popularity"
   ]
  },
  {
   "cell_type": "code",
   "execution_count": 11,
   "metadata": {},
   "outputs": [],
   "source": [
    "all_item_keyphrase_freq = get_all_item_keyphrase_freq()"
   ]
  },
  {
   "cell_type": "code",
   "execution_count": 12,
   "metadata": {},
   "outputs": [],
   "source": [
    "# One hot encoding of critiquing\n",
    "def get_critiqued_UK(user_keyphrase_frequency,user_index,critiqued_keyphrase):\n",
    "    \"\"\"\n",
    "    user_keyphrase_frequency is the U_K matrix (csr sparse matrix)\n",
    "    return the one-hot encoding of the critique\n",
    "    \"\"\"\n",
    "    U_K_cp = user_keyphrase_frequency.copy()\n",
    "    U_K_cp[user_index] = 0\n",
    "    U_K_cp[user_index,critiqued_keyphrase] = 1\n",
    "    return U_K_cp\n",
    "\n",
    "def project_one_hot_encoding(reg, user_keyphrase_frequency,user_index = 0,critiqued_keyphrase = 0, normalize_en = True):\n",
    "    \"\"\"\n",
    "    Return the projection on user_sim space from one-hot encoding of critiqued keyphrase\n",
    "    The res[user_index] should be target embedding row\n",
    "    \"\"\"\n",
    "    critiqued_matrix = get_critiqued_UK(user_keyphrase_frequency, user_index, critiqued_keyphrase)\n",
    "    res = reg.predict(critiqued_matrix)\n",
    "    if normalize_en:\n",
    "        res = normalize((res))\n",
    "    return res"
   ]
  },
  {
   "cell_type": "code",
   "execution_count": 13,
   "metadata": {},
   "outputs": [],
   "source": [
    "# Upper bound method \n",
    "def get_all_affected_items(wanted_keyphrases,keyphrase_freq):\n",
    "    res = []\n",
    "    for keyphrase in wanted_keyphrases:\n",
    "        items = np.ravel(keyphrase_freq.T[keyphrase].nonzero()[1])\n",
    "        res.extend(items)\n",
    "    return np.array(list(set(res)))\n",
    "    \n",
    "def select_only_wanted_keyphrase(top_recommendations, wanted_keyphrases, keyphrase_freq, matrix_Train = rtrain):\n",
    "    all_items_with_keyphrases = get_all_affected_items(wanted_keyphrases,keyphrase_freq)\n",
    "    affected_items = np.setdiff1d(np.arange(matrix_Train.shape[1]), all_items_with_keyphrases) # Get all other keyphrases\n",
    "    top_recommendations[~np.in1d(top_recommendations, affected_items)]\n",
    "    return top_recommendations\n",
    "\n",
    "def pruning(prediction_score, \n",
    "           wanted_keyphrases_random, \n",
    "           top_recommendations, \n",
    "           keyphrase_freq, \n",
    "           matrix_Train = rtrain,\n",
    "           alpha = 0):\n",
    "    items_with_keyphrase = get_all_affected_items(wanted_keyphrases_random, keyphrase_freq)\n",
    "    #Return the unique values in ar1 that are not in ar2.\n",
    "    items_without_keyphrase = np.setdiff1d(np.arange(matrix_Train.shape[1]), items_with_keyphrase)\n",
    "#     print (items_without_keyphrase)\n",
    "    print (sum(prediction_score[items_without_keyphrase]))\n",
    "    score = np.copy(prediction_score)\n",
    "    score[items_without_keyphrase] = alpha # penalize\n",
    "    return score"
   ]
  },
  {
   "cell_type": "markdown",
   "metadata": {},
   "source": [
    "# Utils"
   ]
  },
  {
   "cell_type": "code",
   "execution_count": 14,
   "metadata": {},
   "outputs": [],
   "source": [
    "# Utility function for getting restaurant info from ItemIndex\n",
    "def get_business_df(path = \"../../data/yelp/business.json\" ):\n",
    "    with open(path,encoding=\"utf8\") as json_file:\n",
    "        data = json_file.readlines()\n",
    "        data = list(map(json.loads, data))\n",
    "    df = pd.DataFrame(data)\n",
    "    \n",
    "    return df\n",
    "\n",
    "def get_restaurant_info(business_df, business_id, name = True, review_count = True, stars = True ):\n",
    "    output_list = {}\n",
    "    row_idx = int(business_df.index[business_df['business_id'] == business_id].tolist()[0])\n",
    "    if name == True:\n",
    "        output_list['name'] = business_df['name'][row_idx].encode('utf-8').strip()\n",
    "    if review_count == True:\n",
    "        output_list['review_count'] = business_df['review_count'][row_idx]\n",
    "    if stars == True:\n",
    "        output_list['stars'] = business_df['stars'][row_idx] \n",
    "    return output_list\n",
    "\n",
    "# def get_businessid_from_Itemindex(ItemIndex_list, itemindex):\n",
    "#     return ItemIndex_list['business_id'].tolist()[itemindex]\n",
    "\n",
    "def get_restaurant_name(df_train, business_df, ItemIndex):\n",
    "    rows = np.where(df_train['ItemIndex'] == ItemIndex)\n",
    "    if len(rows)!= 0:\n",
    "        business_id = df_train.loc[rows[0][0]]['business_id']\n",
    "        item_info = get_restaurant_info(business_df, business_id)\n",
    "        return item_info['name']\n",
    "    return \"NOT_FOUND\""
   ]
  },
  {
   "cell_type": "markdown",
   "metadata": {},
   "source": [
    "# Evaluation "
   ]
  },
  {
   "cell_type": "code",
   "execution_count": 15,
   "metadata": {},
   "outputs": [],
   "source": [
    "# Evluation \n",
    "def recallk(vector_true_dense, hits, **unused):\n",
    "    hits = len(hits.nonzero()[0])\n",
    "    return float(hits)/len(vector_true_dense)\n",
    "\n",
    "def precisionk(vector_predict, hits, **unused):\n",
    "    hits = len(hits.nonzero()[0])\n",
    "    return float(hits)/len(vector_predict)\n",
    "\n",
    "\n",
    "def average_precisionk(vector_predict, hits, **unused):\n",
    "    precisions = np.cumsum(hits, dtype=np.float32)/range(1, len(vector_predict)+1)\n",
    "    return np.mean(precisions)\n",
    "\n",
    "\n",
    "def r_precision(vector_true_dense, vector_predict, **unused):\n",
    "    vector_predict_short = vector_predict[:len(vector_true_dense)]\n",
    "    hits = len(np.isin(vector_predict_short, vector_true_dense).nonzero()[0])\n",
    "    return float(hits)/len(vector_true_dense)\n",
    "\n",
    "\n",
    "def _dcg_support(size):\n",
    "    arr = np.arange(1, size+1)+1\n",
    "    return 1./np.log2(arr)\n",
    "\n",
    "\n",
    "def ndcg(vector_true_dense, vector_predict, hits):\n",
    "    idcg = np.sum(_dcg_support(len(vector_true_dense)))\n",
    "    dcg_base = _dcg_support(len(vector_predict))\n",
    "    dcg_base[np.logical_not(hits)] = 0\n",
    "    dcg = np.sum(dcg_base)\n",
    "    return dcg/idcg\n",
    "\n",
    "\n",
    "def click(hits, **unused):\n",
    "    first_hit = next((i for i, x in enumerate(hits) if x), None)\n",
    "    if first_hit is None:\n",
    "        return 5\n",
    "    else:\n",
    "        return first_hit/10\n",
    "\n",
    "\n",
    "def evaluate(matrix_Predict, matrix_Test, metric_names =['R-Precision', 'NDCG', 'Precision', 'Recall', 'MAP'], atK = [5, 10, 15, 20, 50], analytical=False):\n",
    "    \"\"\"\n",
    "    :param matrix_U: Latent representations of users, for LRecs it is RQ, for ALSs it is U\n",
    "    :param matrix_V: Latent representations of items, for LRecs it is Q, for ALSs it is V\n",
    "    :param matrix_Train: Rating matrix for training, features.\n",
    "    :param matrix_Test: Rating matrix for evaluation, true labels.\n",
    "    :param k: Top K retrieval\n",
    "    :param metric_names: Evaluation metrics\n",
    "    :return:\n",
    "    \"\"\"\n",
    "    global_metrics = {\n",
    "        \"R-Precision\": r_precision,\n",
    "        \"NDCG\": ndcg,\n",
    "        \"Clicks\": click\n",
    "    }\n",
    "\n",
    "    local_metrics = {\n",
    "        \"Precision\": precisionk,\n",
    "        \"Recall\": recallk,\n",
    "        \"MAP\": average_precisionk\n",
    "    }\n",
    "\n",
    "    output = dict()\n",
    "\n",
    "    num_users = matrix_Predict.shape[0]\n",
    "\n",
    "    for k in atK:\n",
    "\n",
    "        local_metric_names = list(set(metric_names).intersection(local_metrics.keys()))\n",
    "        results = {name: [] for name in local_metric_names}\n",
    "        topK_Predict = matrix_Predict[:, :k]\n",
    "\n",
    "        for user_index in tqdm(range(topK_Predict.shape[0])):\n",
    "            vector_predict = topK_Predict[user_index]\n",
    "            if len(vector_predict.nonzero()[0]) > 0:\n",
    "                vector_true = matrix_Test[user_index]\n",
    "                vector_true_dense = vector_true.nonzero()[1]\n",
    "                hits = np.isin(vector_predict, vector_true_dense)\n",
    "\n",
    "                if vector_true_dense.size > 0:\n",
    "                    for name in local_metric_names:\n",
    "                        results[name].append(local_metrics[name](vector_true_dense=vector_true_dense,\n",
    "                                                                 vector_predict=vector_predict,\n",
    "                                                                 hits=hits))\n",
    "\n",
    "        results_summary = dict()\n",
    "        if analytical:\n",
    "            for name in local_metric_names:\n",
    "                results_summary['{0}@{1}'.format(name, k)] = results[name]\n",
    "        else:\n",
    "            for name in local_metric_names:\n",
    "                results_summary['{0}@{1}'.format(name, k)] = (np.average(results[name]),\n",
    "                                                              1.96*np.std(results[name])/np.sqrt(num_users))\n",
    "        output.update(results_summary)\n",
    "\n",
    "    global_metric_names = list(set(metric_names).intersection(global_metrics.keys()))\n",
    "    results = {name: [] for name in global_metric_names}\n",
    "\n",
    "    topK_Predict = matrix_Predict[:]\n",
    "\n",
    "    for user_index in tqdm(range(topK_Predict.shape[0])):\n",
    "        vector_predict = topK_Predict[user_index]\n",
    "\n",
    "        if len(vector_predict.nonzero()[0]) > 0:\n",
    "            vector_true = matrix_Test[user_index]\n",
    "            vector_true_dense = vector_true.nonzero()[1]\n",
    "            hits = np.isin(vector_predict, vector_true_dense)\n",
    "\n",
    "            # if user_index == 1:\n",
    "            #     import ipdb;\n",
    "            #     ipdb.set_trace()\n",
    "\n",
    "            if vector_true_dense.size > 0:\n",
    "                for name in global_metric_names:\n",
    "                    results[name].append(global_metrics[name](vector_true_dense=vector_true_dense,\n",
    "                                                              vector_predict=vector_predict,\n",
    "                                                              hits=hits))\n",
    "\n",
    "    results_summary = dict()\n",
    "    if analytical:\n",
    "        for name in global_metric_names:\n",
    "            results_summary[name] = results[name]\n",
    "    else:\n",
    "        for name in global_metric_names:\n",
    "            results_summary[name] = (np.average(results[name]), 1.96*np.std(results[name])/np.sqrt(num_users))\n",
    "    output.update(results_summary)\n",
    "\n",
    "    return output\n",
    "\n"
   ]
  },
  {
   "cell_type": "markdown",
   "metadata": {},
   "source": [
    "# Critiquing Pipline"
   ]
  },
  {
   "cell_type": "code",
   "execution_count": 16,
   "metadata": {},
   "outputs": [],
   "source": [
    "business_df = get_business_df()"
   ]
  },
  {
   "cell_type": "code",
   "execution_count": 17,
   "metadata": {},
   "outputs": [],
   "source": [
    "keyphrase_popularity = np.loadtxt('../data/yelp/'+'keyphrase_popularity.txt', dtype=int)"
   ]
  },
  {
   "cell_type": "code",
   "execution_count": 18,
   "metadata": {},
   "outputs": [
    {
     "name": "stdout",
     "output_type": "stream",
     "text": [
      "Randomized SVD\n",
      "Elapsed: 00:00:00\n",
      "Closed-Form Linear Optimization\n",
      "Elapsed: 00:00:00\n"
     ]
    }
   ],
   "source": [
    "Y, RQt, Bias = plrec(rtrain,\n",
    "                    iteration = 10,\n",
    "                    lamb = 200,\n",
    "                    rank = 200)\n",
    "RQ = RQt.T\n",
    "reg = LinearRegression().fit(normalize(U_K), Y)"
   ]
  },
  {
   "cell_type": "code",
   "execution_count": 19,
   "metadata": {},
   "outputs": [],
   "source": [
    "# Set up dataframe \n",
    "\n",
    "# post_ranki is post rank with different lambda ratio for combining pre-post User similarity matrix \n",
    "\n",
    "columns = ['user_id', 'target_item', 'item_name', 'iter', 'pre_rank', \n",
    "           'top_prediction_item_name',\n",
    "           'post_rank_random_all',\n",
    "           'post_rank_random_upper',\n",
    "           'random_scores',\n",
    "           'post_rank_pop_all',\n",
    "           'post_rank_pop_upper',\n",
    "           'pop_scores',\n",
    "           'post_rank_diff_all',\n",
    "           'post_rank_diff_upper',\n",
    "           'diff_scores',\n",
    "           'critiqued_keyphrase_random',\n",
    "           'keyphrase_name_random',\n",
    "           'critiqued_keyphrase_pop',\n",
    "           'keyphrase_name_pop',\n",
    "           'critiqued_keyphrase_diff',\n",
    "           'keyphrase_name_diff',\n",
    "           'num_existing_keyphrases',\n",
    "           'pure_pruning_rank'] \n",
    "df = pd.DataFrame(columns=columns)\n",
    "row = {}"
   ]
  },
  {
   "cell_type": "markdown",
   "metadata": {},
   "source": [
    "## Average"
   ]
  },
  {
   "cell_type": "code",
   "execution_count": 48,
   "metadata": {},
   "outputs": [],
   "source": [
    "def Average(initial_prediction_u, keyphrase_freq, affected_items, unaffected_items, num_keyphrases, query, test_user, item_latent, reg, all_equal = True):\n",
    "    critiqued_vector = np.zeros(keyphrase_freq.shape[1])\n",
    "    \n",
    "    for q in query:\n",
    "#         critiqued_vector[q] = 1\n",
    "        critiqued_vector[q] = max(keyphrase_freq[test_user , q],1)\n",
    "        \n",
    "    num_critiques = len(query)\n",
    "    \n",
    "    # Get item latent for updating prediction\n",
    "    W2 = reg.coef_\n",
    "    W = item_latent.dot(W2)\n",
    "    \n",
    "    optimal_lambda = 1 # weight all critiquing equally\n",
    "    \n",
    "    lambdas = [optimal_lambda]*num_critiques\n",
    "    \n",
    "    # Record lambda values \n",
    "    for k in range(num_critiques):\n",
    "        critiqued_vector[query[k]] *= optimal_lambda\n",
    "\n",
    "    # Get rating score\n",
    "    critique_score = predict_scores(matrix_U=reg.predict(critiqued_vector.reshape(1, -1)),\n",
    "                                    matrix_V=item_latent)\n",
    "    new_prediction = initial_prediction_u + critique_score.flatten()\n",
    "    \n",
    "#     if all_equal:\n",
    "#         # weight initial and each critiquing equally \n",
    "#         new_prediction = initial_prediction_u/(num_critiques) + critique_score.flatten()\n",
    "#     else:\n",
    "#         # weight intial and combined critiquing equally\n",
    "#         new_prediction = initial_prediction_u + critique_score.flatten() \n",
    "# #     print (len(new_prediction))\n",
    "    return new_prediction, lambdas   \n"
   ]
  },
  {
   "cell_type": "markdown",
   "metadata": {},
   "source": [
    "## Rating Objective"
   ]
  },
  {
   "cell_type": "code",
   "execution_count": 98,
   "metadata": {},
   "outputs": [],
   "source": [
    "def LP1SimplifiedOptimize(initial_prediction_u, keyphrase_freq, affected_items, unaffected_items, num_keyphrases, \n",
    "                          query, test_user, item_latent, reg):\n",
    "\n",
    "    critiqued_vector = np.zeros(keyphrase_freq.shape[1])\n",
    "\n",
    "    for q in query:\n",
    "#         critiqued_vector[q] = -keyphrase_freq[test_user][q]\n",
    "        critiqued_vector[q] = max(keyphrase_freq[test_user , q],1)\n",
    "\n",
    "    num_critiques = len(query)\n",
    "    \n",
    "    W2 = reg.coef_\n",
    "    W = item_latent.dot(W2)\n",
    "\n",
    "    num_affected_items = len(affected_items)\n",
    "    num_unaffected_items = len(unaffected_items)\n",
    "\n",
    "    start_time = time.time()\n",
    "\n",
    "    # Model\n",
    "    m = Model(\"LP1Simplified\")\n",
    "    m.setParam('OutputFlag', 0)\n",
    "    # Assignment variables\n",
    "    lambs = []\n",
    "\n",
    "    for k in range(num_critiques):\n",
    "        lambs.append(m.addVar(lb=-1,\n",
    "                              ub=1,\n",
    "                              vtype=GRB.CONTINUOUS,\n",
    "                              name=\"lamb%d\" % query[k]))\n",
    "        \n",
    "    print ('affected_items', affected_items)\n",
    "    print (int(affected_items[0]))\n",
    "    print ('unaffected_items', unaffected_items)\n",
    "    print (int(unaffected_items[0]))\n",
    "    \n",
    "#     m.setObjective( quicksum(initial_prediction_u[unaffected_item] * num_affected_items + quicksum(lambs[i] * critiqued_vector[query[i]] * W[unaffected_item][query[i]] * num_affected_items for i in range(num_critiques) ) for unaffected_item in unaffected_items - \n",
    "#                     quicksum(initial_prediction_u[affected_item] * num_unaffected_items + quicksum(lambs[i] * critiqued_vector[query[i]] * W[affected_item][query[i]] * num_unaffected_items for i in range(num_critiques) ) for affected_item in affected_items)), GRB.MINIMIZE)\n",
    "    m.setObjective(quicksum(initial_prediction_u[affected_item] * num_unaffected_items + quicksum(lambs[k] * critiqued_vector[query[k]] * W[affected_item][query[k]] * num_unaffected_items for k in range(num_critiques)) for affected_item in affected_items) - quicksum(initial_prediction_u[unaffected_item] * num_affected_items + quicksum(lambs[k] * critiqued_vector[query[k]] * W[unaffected_item][query[k]] * num_affected_items for k in range(num_critiques)) for unaffected_item in unaffected_items), GRB.MAXIMIZE)\n",
    "\n",
    "    # Optimize\n",
    "    m.optimize()\n",
    "\n",
    "#     print(\"Elapsed: {}\".format(inhour(time.time() - start_time)))\n",
    "\n",
    "    lambdas = []\n",
    "    for k in range(num_critiques):\n",
    "        optimal_lambda = m.getVars()[k].X\n",
    "        lambdas.append(optimal_lambda)\n",
    "        critiqued_vector[query[k]] *= optimal_lambda\n",
    "\n",
    "    critique_score = predict_scores(matrix_U=reg.predict(critiqued_vector.reshape(1, -1)),\n",
    "                                    matrix_V=item_latent)\n",
    "\n",
    "    new_prediction = initial_prediction_u + critique_score.flatten()\n",
    "\n",
    "    return new_prediction, lambdas\n"
   ]
  },
  {
   "cell_type": "markdown",
   "metadata": {},
   "source": [
    "## RankSVM Objective"
   ]
  },
  {
   "cell_type": "code",
   "execution_count": 33,
   "metadata": {},
   "outputs": [],
   "source": [
    "#### See https://www.overleaf.com/read/wwftdhpcmxnx\n",
    "#### For the RankSVM math\n",
    "\n",
    "def rankSVM(initial_prediction_u, keyphrase_freq, affected_items, unaffected_items, num_keyphrases, \n",
    "            query, test_user, item_latent, reg, user_latent_embedding, item_keyphrase_freq = I_K):\n",
    "    critiques = query # fix this variable name later\n",
    "    \n",
    "#     critiqued_vector = np.zeros(keyphrase_freq.shape[1])\n",
    "    \n",
    "#     for c in critiques:\n",
    "# #         critiqued_vector[q] = 1 # set critiqued/boosted keyphrase to 1\n",
    "#         critiqued_vector[c] = max(keyphrase_freq[test_user , c],1)\n",
    "# #         print ('critiqued_vector setting: ',critiqued_vector[q])\n",
    "#     print ('affected items, ',affected_items)\n",
    "#     print ('unaffected items, ',unaffected_items)\n",
    "    \n",
    "    num_critiques = len(critiques)\n",
    "\n",
    "    W2 = reg.coef_\n",
    "    W = item_latent.dot(W2)\n",
    "\n",
    "    num_affected_items = len(affected_items)\n",
    "    num_unaffected_items = len(unaffected_items)\n",
    "\n",
    "    start_time = time.time()\n",
    "\n",
    "    # Model\n",
    "    m = Model(\"LP2RankSVM\")\n",
    "    m.setParam('OutputFlag', 0)\n",
    "    \n",
    "    # Assignment variables\n",
    "    thetas = []\n",
    "    us = []\n",
    "    xis = []\n",
    "    # weight thetas\n",
    "    for k in range(num_critiques + 1):\n",
    "        thetas.append(m.addVar(lb=-1,\n",
    "                              ub=1,\n",
    "                              vtype=GRB.CONTINUOUS,\n",
    "                              name=\"theta%d\" % k))\n",
    "    thetas = np.array(thetas)\n",
    "    # dummy variable u for absolute theta\n",
    "    for k in range(num_critiques + 1):\n",
    "        us.append(m.addVar(vtype=GRB.CONTINUOUS,\n",
    "                          name=\"u%d\" % k))\n",
    "        \n",
    "    # slack variables xi\n",
    "    for i in range(num_affected_items):\n",
    "        for j in range(num_unaffected_items):\n",
    "            xis.append(m.addVar(lb = 0, \n",
    "                                vtype = GRB.CONTINUOUS,\n",
    "                                name = \"xi_%d_%d\" % (i,j) ))\n",
    "      \n",
    "    ## constraints\n",
    "    # constraints for dummy variable u's\n",
    "    for k in range(num_critiques+1):\n",
    "        m.addConstr(us[k] >= thetas[k])\n",
    "        m.addConstr(us[k] >= -thetas[k])\n",
    "        \n",
    "    \n",
    "    ## Pre-calculate critique embedding\n",
    "    u_i = Y[test_user]\n",
    "    phi_js = []\n",
    "    phi_jprimes = []\n",
    "    k_cis = []\n",
    "    \n",
    "    user_latent_embedding = np.array(user_latent_embedding)\n",
    "#     print ('user latent embedding shape: ', user_latent_embedding.shape)\n",
    "    # constraints for rankSVM \n",
    "    for j in range(num_affected_items):\n",
    "        for j_ in range(num_unaffected_items):\n",
    "            m.addConstr( thetas.dot(user_latent_embedding.dot(RQ[affected_items[j]])) >= thetas.dot(user_latent_embedding.dot(RQ[unaffected_items[j_]])) + 1 - xis[j*num_affected_items + j_], name = \"constraints%d_%d\" % (j,j_))\n",
    "#             print ('item j embedding :',user_latent_embedding.dot(RQ[j]) )\n",
    "#             print ('item j_ embedding:',user_latent_embedding.dot(RQ[j_]) )\n",
    "    lamb = 5 #regularization parameter (trading-off margin size against training error\n",
    "    m.setObjective(quicksum(us) + lamb * quicksum(xis), GRB.MINIMIZE)\n",
    "                \n",
    "    # Optimize\n",
    "    m.optimize()\n",
    "\n",
    "#     print(\"Elapsed: {}\".format(inhour(time.time() - start_time)))\n",
    "\n",
    "    thetas = []\n",
    "    for k in range(num_critiques+1):\n",
    "        optimal_theta = m.getVarByName(\"theta%d\" % k).X\n",
    "        thetas.append(optimal_theta)\n",
    "        \n",
    "#     print ('optimal thetas: ',thetas)\n",
    "\n",
    "\n",
    "    critiqued_vector = np.zeros(keyphrase_freq.shape[1])\n",
    "    \n",
    "    # Combine weights to critiqued vector\n",
    "    for c in critiques:\n",
    "#         critiqued_vector[q] = 1 # set critiqued/boosted keyphrase to 1\n",
    "        critiqued_vector[c] = max(keyphrase_freq[test_user , c],1)\n",
    "    for k in range(num_critiques):\n",
    "        critiqued_vector[critiques[k]] *= thetas[k+1]\n",
    "    \n",
    "    # Get rating score\n",
    "    critique_score = predict_scores(matrix_U=reg.predict(critiqued_vector.reshape(1, -1)),\n",
    "                                    matrix_V=item_latent)\n",
    "    new_prediction = thetas[0]*initial_prediction_u + critique_score.flatten()\n",
    "    \n",
    "    return new_prediction, thetas"
   ]
  },
  {
   "cell_type": "code",
   "execution_count": 41,
   "metadata": {},
   "outputs": [],
   "source": [
    "#### See https://www.overleaf.com/read/wwftdhpcmxnx\n",
    "#### For the RankSVM math\n",
    "\n",
    "def rankSVM2(initial_prediction_u, keyphrase_freq, affected_items, unaffected_items, num_keyphrases, \n",
    "            query, test_user, item_latent, reg, user_latent_embedding, item_keyphrase_freq = I_K, lamb = [5,5]):\n",
    "    critiques = query # fix this variable name later\n",
    "\n",
    "    # pre calculate some value\n",
    "    num_critiques = len(critiques)\n",
    "\n",
    "    num_affected_items = len(affected_items)\n",
    "    num_unaffected_items = len(unaffected_items)\n",
    "\n",
    "#     start_time = time.time()\n",
    "\n",
    "    # Model\n",
    "    m = Model(\"LP2RankSVM2\")\n",
    "    m.setParam('OutputFlag', 0) # set to 1 for outputing details\n",
    "    \n",
    "    # Assignment variables\n",
    "    thetas = []\n",
    "    us = []\n",
    "    xi_pos = []\n",
    "    xi_neg = []\n",
    "    # weight thetas\n",
    "    for k in range(num_critiques + 1):\n",
    "        thetas.append(m.addVar(lb=-1,\n",
    "                              ub=1,\n",
    "                              vtype=GRB.CONTINUOUS,\n",
    "                              name=\"theta%d\" % k))\n",
    "    thetas = np.array(thetas)\n",
    "    \n",
    "    # dummy variable u for absolute theta\n",
    "    for k in range(num_critiques + 1):\n",
    "        us.append(m.addVar(vtype=GRB.CONTINUOUS,\n",
    "                          name=\"u%d\" % k))\n",
    "        \n",
    "    # slack variables xi\n",
    "    for i in range(num_affected_items):\n",
    "        xi_pos.append(m.addVar(lb = 0, \n",
    "                                vtype = GRB.CONTINUOUS,\n",
    "                                name = \"xi_pos%d\" % i ))\n",
    "    for i in range(num_unaffected_items):\n",
    "        xi_neg.append(m.addVar(lb = 0, \n",
    "                                vtype = GRB.CONTINUOUS,\n",
    "                                name = \"xi_neg%d\" % i ))\n",
    "        \n",
    "    ## constraints\n",
    "    # constraints for dummy variable u's\n",
    "    for k in range(num_critiques+1):\n",
    "        m.addConstr(us[k] >= thetas[k])\n",
    "        m.addConstr(us[k] >= -thetas[k])\n",
    " \n",
    "    user_latent_embedding = np.array(user_latent_embedding)\n",
    "    \n",
    "    # Affected items rank higher\n",
    "    for j in range(num_affected_items):\n",
    "        m.addConstr( thetas.dot(user_latent_embedding.dot(RQ[affected_items[j]])) >= initial_prediction_u[affected_items[j]] + 1 - xi_pos[j], name = \"pos_constraint%d\" % j )\n",
    "    \n",
    "    # Unaffected items rank lower\n",
    "    for j in range(num_unaffected_items):\n",
    "        m.addConstr( initial_prediction_u[unaffected_items[j]] - thetas.dot(user_latent_embedding.dot(RQ[unaffected_items[j]])) >=  1 - xi_neg[j], name = \"neg_constraint%d\" % j )\n",
    "            \n",
    "    # objective\n",
    "    lamb1 = lamb[0] #regularization for trading-off margin size against training error\n",
    "    lamb2 = lamb[1] #regularization for trading-off deviation from Averaging \n",
    "\n",
    "    m.setObjective(quicksum(us) + lamb1 * (quicksum(xi_pos)+quicksum(xi_neg)) + lamb2 * quicksum( [( 1- theta) for theta in thetas]), GRB.MINIMIZE) \n",
    "    \n",
    "\n",
    "                \n",
    "    # Optimize\n",
    "    m.optimize()\n",
    "\n",
    "    # Save optimal thetas\n",
    "    thetas = []\n",
    "    for k in range(num_critiques+1):\n",
    "        optimal_theta = m.getVarByName(\"theta%d\" % k).X\n",
    "        thetas.append(optimal_theta)\n",
    "        \n",
    "    critiqued_vector = np.zeros(keyphrase_freq.shape[1])\n",
    "    \n",
    "    # Combine weights to critiqued vector\n",
    "    for c in critiques:\n",
    "#         critiqued_vector[c] = 1 # set critiqued/boosted keyphrase to 1\n",
    "        critiqued_vector[c] = max(keyphrase_freq[test_user , c],1)\n",
    "    \n",
    "    for k in range(num_critiques):\n",
    "        critiqued_vector[critiques[k]] *= thetas[k+1]\n",
    "    \n",
    "    # Get rating score\n",
    "    critique_score = predict_scores(matrix_U=reg.predict(critiqued_vector.reshape(1, -1)),\n",
    "                                    matrix_V=item_latent)\n",
    "    new_prediction = thetas[0]*initial_prediction_u/num_critiques + critique_score.flatten()\n",
    "#     new_prediction = initial_prediction_u/num_critiques + critique_score.flatten()\n",
    "#     new_prediction = critique_score.flatten()\n",
    "    \n",
    "    return new_prediction, thetas"
   ]
  },
  {
   "cell_type": "code",
   "execution_count": 60,
   "metadata": {},
   "outputs": [],
   "source": [
    "#### Changes minimization objective compares to ranksvm2\n",
    "\n",
    "def rankSVM3(initial_prediction_u, keyphrase_freq, affected_items, unaffected_items, num_keyphrases, \n",
    "            query, test_user, item_latent, reg, user_latent_embedding, item_keyphrase_freq = I_K, lamb = [5,5]):\n",
    "    critiques = query # fix this variable name later\n",
    "\n",
    "    # pre calculate some value\n",
    "    num_critiques = len(critiques)\n",
    "\n",
    "    num_affected_items = len(affected_items)\n",
    "    num_unaffected_items = len(unaffected_items)\n",
    "\n",
    "#     start_time = time.time()\n",
    "\n",
    "    # Model\n",
    "    m = Model(\"LP2RankSVM2\")\n",
    "    m.setParam('OutputFlag', 0) # set to 1 for outputing details\n",
    "    \n",
    "    # Assignment variables\n",
    "    thetas = []\n",
    "    us = []\n",
    "    xi_pos = []\n",
    "    xi_neg = []\n",
    "    # weight thetas\n",
    "    for k in range(num_critiques + 1):\n",
    "        thetas.append(m.addVar(lb=-2,\n",
    "                              ub=2,\n",
    "                              vtype=GRB.CONTINUOUS,\n",
    "                              name=\"theta%d\" % k))\n",
    "    thetas = np.array(thetas)\n",
    "    \n",
    "    # dummy variable u for absolute theta\n",
    "    for k in range(num_critiques + 1):\n",
    "        us.append(m.addVar(vtype=GRB.CONTINUOUS,\n",
    "                          name=\"u%d\" % k))\n",
    "        \n",
    "    # slack variables xi\n",
    "    for i in range(num_affected_items):\n",
    "        xi_pos.append(m.addVar(lb = 0, \n",
    "                                vtype = GRB.CONTINUOUS,\n",
    "                                name = \"xi_pos%d\" % i ))\n",
    "    for i in range(num_unaffected_items):\n",
    "        xi_neg.append(m.addVar(lb = 0, \n",
    "                                vtype = GRB.CONTINUOUS,\n",
    "                                name = \"xi_neg%d\" % i ))\n",
    "        \n",
    "    ## constraints\n",
    "    # constraints for dummy variable u's\n",
    "    for k in range(num_critiques+1):\n",
    "        m.addConstr(us[k] >= thetas[k] - 1)\n",
    "        m.addConstr(us[k] >= 1 - thetas[k])\n",
    " \n",
    "    user_latent_embedding = np.array(user_latent_embedding)\n",
    "    \n",
    "    # Affected items rank higher\n",
    "    for j in range(num_affected_items):\n",
    "        m.addConstr( thetas.dot(user_latent_embedding.dot(RQ[affected_items[j]])) >= initial_prediction_u[affected_items[j]] + 1 - xi_pos[j], name = \"pos_constraint%d\" % j )\n",
    "    \n",
    "    # Unaffected items rank lower\n",
    "    for j in range(num_unaffected_items):\n",
    "        m.addConstr( initial_prediction_u[unaffected_items[j]] - thetas.dot(user_latent_embedding.dot(RQ[unaffected_items[j]])) >=  1 - xi_neg[j], name = \"neg_constraint%d\" % j )\n",
    "            \n",
    "    # objective\n",
    "    lamb1 = lamb[0] #regularization for trading-off margin size against training error\n",
    "    lamb2 = lamb[1] #regularization for trading-off deviation from Averaging \n",
    "\n",
    "    m.setObjective(lamb1* quicksum(us) + lamb2 * (quicksum(xi_pos)+quicksum(xi_neg)), GRB.MINIMIZE) \n",
    "    \n",
    "                \n",
    "    # Optimize\n",
    "    m.optimize()\n",
    "\n",
    "    # Save optimal thetas\n",
    "    thetas = []\n",
    "    for k in range(num_critiques+1):\n",
    "        optimal_theta = m.getVarByName(\"theta%d\" % k).X\n",
    "        thetas.append(optimal_theta)\n",
    "        \n",
    "    critiqued_vector = np.zeros(keyphrase_freq.shape[1])\n",
    "    \n",
    "    # Combine weights to critiqued vector\n",
    "    for c in critiques:\n",
    "#         critiqued_vector[c] = 1 # set critiqued/boosted keyphrase to 1\n",
    "        critiqued_vector[c] = max(keyphrase_freq[test_user , c],1)\n",
    "    \n",
    "    for k in range(num_critiques):\n",
    "        critiqued_vector[critiques[k]] *= thetas[k+1]\n",
    "    \n",
    "    # Get rating score\n",
    "    critique_score = predict_scores(matrix_U=reg.predict(critiqued_vector.reshape(1, -1)),\n",
    "                                    matrix_V=item_latent)\n",
    "    new_prediction = thetas[0]*initial_prediction_u/num_critiques + critique_score.flatten()\n",
    "#     new_prediction = initial_prediction_u/num_critiques + critique_score.flatten()\n",
    "#     new_prediction = critique_score.flatten()\n",
    "    \n",
    "    return new_prediction, thetas"
   ]
  },
  {
   "cell_type": "markdown",
   "metadata": {},
   "source": [
    "# Main"
   ]
  },
  {
   "cell_type": "code",
   "execution_count": 89,
   "metadata": {},
   "outputs": [],
   "source": [
    "class LP1Simplified(object):\n",
    "    def __init__(self, keyphrase_freq, item_keyphrase_freq, row, matrix_Train, matrix_Test, test_users,\n",
    "                 target_ranks, num_items_sampled, num_keyphrases, df,\n",
    "                 max_iteration_threshold, keyphrase_popularity, dataset_name,\n",
    "                 model, parameters_row, keyphrases_names, keyphrase_selection_method, max_wanted_keyphrase, lamb, **unused):\n",
    "        self.keyphrase_freq = keyphrase_freq\n",
    "        self.item_keyphrase_freq = item_keyphrase_freq\n",
    "        self.row = row\n",
    "        self.matrix_Train = matrix_Train\n",
    "        self.num_users, self.num_items = matrix_Train.shape\n",
    "        self.matrix_Test = matrix_Test\n",
    "        self.test_users = test_users\n",
    "        self.target_ranks = target_ranks\n",
    "        self.num_items_sampled = num_items_sampled\n",
    "        self.num_keyphrases = num_keyphrases\n",
    "        self.df = df\n",
    "        self.max_iteration_threshold = max_iteration_threshold\n",
    "        self.keyphrase_popularity = keyphrase_popularity\n",
    "        self.dataset_name = dataset_name\n",
    "        self.model = model\n",
    "        self.parameters_row = parameters_row\n",
    "        self.keyphrase_selection_method = keyphrase_selection_method\n",
    "        self.max_wanted_keyphrase = max_wanted_keyphrase\n",
    "        \n",
    "        self.lamb = lamb\n",
    "        self.keyphrases_names = keyphrases_names\n",
    "\n",
    "    def start_critiquing(self):\n",
    "#         self.get_initial_predictions() # No need to do it every time\n",
    "        self.RQ = RQ\n",
    "        Yt = Y.T \n",
    "        self.Y = Y\n",
    "\n",
    "        self.reg = reg\n",
    "\n",
    "        self.prediction_scores = predict_scores(matrix_U=self.RQ,\n",
    "                                                matrix_V=self.Y,\n",
    "                                                bias=Bias).T\n",
    "        \n",
    "        for user in tqdm(self.test_users):\n",
    "            start_time = time.time()\n",
    "            # User id starts from 0\n",
    "            self.row['user_id'] = user\n",
    "            \n",
    "            initial_prediction_items = predict_vector(rating_vector=self.prediction_scores[user],\n",
    "                                                            train_vector=self.matrix_Train[user],\n",
    "                                                            remove_train=True)\n",
    "            # For keyphrase selection method 'diff' \n",
    "            top_recommended_keyphrase_freq = get_item_keyphrase_freq(self.item_keyphrase_freq,item = initial_prediction_items[0])\n",
    "            \n",
    "            # The iteration will stop if the wanted item is in top n\n",
    "            for target_rank in self.target_ranks:\n",
    "                self.row['target_rank'] = target_rank\n",
    "                \n",
    "                # Pick wanted items in test items\n",
    "                candidate_items = self.matrix_Test[user].nonzero()[1]\n",
    "                train_items = self.matrix_Train[user].nonzero()[1]\n",
    "                wanted_items = np.setdiff1d(candidate_items, train_items)\n",
    "                \n",
    "                for item in wanted_items:\n",
    "                    # Item id starts from 0\n",
    "                    self.row['item_id'] = item\n",
    "                    try:\n",
    "                        self.row['item_name'] = get_restaurant_name(df_train, business_df,item)\n",
    "                    except:\n",
    "                        self.row['item_name'] = 'NOT_FOUND'\n",
    "                    # Set the wanted item's initial rank as None\n",
    "                    self.row['item_rank'] = None\n",
    "                    # Set the wanted item's initial prediction score as None\n",
    "                    self.row['item_score'] = None\n",
    "                    \n",
    "                    if self.keyphrase_selection_method == \"random\" or self.keyphrase_selection_method == \"pop\":\n",
    "                        # Get the item's existing keyphrases (we can boost)\n",
    "                        remaining_keyphrases = self.item_keyphrase_freq[item].nonzero()[1]\n",
    "                    if self.keyphrase_selection_method == \"diff\":\n",
    "                        # For keyphrase selection method 'diff' \n",
    "                        target_keyphrase_freq = get_item_keyphrase_freq(self.item_keyphrase_freq,item = item)\n",
    "                        diff_keyphrase_freq = target_keyphrase_freq - top_recommended_keyphrase_freq\n",
    "                        remaining_keyphrases = np.argsort(np.ravel(diff_keyphrase_freq))[::-1][:self.max_wanted_keyphrase]\n",
    "                        \n",
    "#                    print(\"The number of remaining_keyphrases is {}. remaining_keyphrases are: {}\".format(len(remaining_keyphrases), remaining_keyphrases))\n",
    "                    self.row['num_existing_keyphrases'] = len(remaining_keyphrases)\n",
    "                    if len(remaining_keyphrases) == 0:\n",
    "                        break\n",
    "                    self.row['iteration'] = 0\n",
    "                    self.row['critiqued_keyphrase'] = None\n",
    "                    self.row['result'] = None\n",
    "                    self.df = self.df.append(self.row, ignore_index=True)\n",
    "\n",
    "                    query = []\n",
    "                    affected_items = np.array([])\n",
    "                    \n",
    "                    # Set up latent embedding\n",
    "                    user_latent_embedding = [Y[user]]\n",
    "                    \n",
    "                    for iteration in range(self.max_iteration_threshold):\n",
    "                        self.row['iteration'] = iteration + 1\n",
    "                                                \n",
    "                        if self.keyphrase_selection_method == \"pop\":\n",
    "                            # Always critique the most popular keyphrase\n",
    "                            critiqued_keyphrase = remaining_keyphrases[np.argmax(self.keyphrase_popularity[remaining_keyphrases])]\n",
    "    #                        print(\"remaining keyphrases popularity: {}\".format(self.keyphrase_popularity[remaining_keyphrases]))\n",
    "                        elif self.keyphrase_selection_method == \"random\":\n",
    "                            critiqued_keyphrase = np.random.choice(remaining_keyphrases, size=1, replace=False)[0]\n",
    "            \n",
    "                        elif self.keyphrase_selection_method == \"diff\":\n",
    "                            critiqued_keyphrase = remaining_keyphrases[0]\n",
    "#                             print ('critiqued_keyphrase', critiqued_keyphrase)\n",
    "                        \n",
    "                        self.row['critiqued_keyphrase'] = critiqued_keyphrase\n",
    "                        self.row['critiqued_keyphrase_name'] = keyphrases_names[critiqued_keyphrase]\n",
    "                        query.append(critiqued_keyphrase)\n",
    "\n",
    "                        # Get affected items (items have critiqued keyphrase)\n",
    "                        current_affected_items = self.item_keyphrase_freq[:, critiqued_keyphrase].nonzero()[0]\n",
    "                        affected_items = np.unique(np.concatenate((affected_items, current_affected_items))).astype(int)\n",
    "                        unaffected_items = np.setdiff1d(range(self.num_items), affected_items)\n",
    "\n",
    "                        if iteration == 0:\n",
    "                            prediction_items = initial_prediction_items #calculated once for each user\n",
    "\n",
    "                        affected_items_mask = np.in1d(prediction_items, affected_items)\n",
    "                        affected_items_index_rank = np.where(affected_items_mask == True)\n",
    "                        unaffected_items_index_rank = np.where(affected_items_mask == False)\n",
    "\n",
    "                        import copy\n",
    "                        \n",
    "                        ## concat critique embeddings to user latent embedding\n",
    "                        # Get critique vector \n",
    "                        critiqued_vector = np.zeros(self.keyphrase_freq.shape[1])\n",
    "                        critiqued_vector[critiqued_keyphrase] = max(self.keyphrase_freq[user , critiqued_keyphrase],1)\n",
    "                        # map user critique to user latent embedding\n",
    "                        k_ci = reg.predict(critiqued_vector.reshape(1, -1)).flatten()\n",
    "                        user_latent_embedding.append(k_ci)\n",
    "#                         print ('user latent embedding shape: ', np.array(user_latent_embedding).shape)\n",
    "\n",
    "                        \n",
    "#                         prediction_scores_u, lambdas = Average(initial_prediction_u=self.prediction_scores[user],\n",
    "#                                                                              keyphrase_freq=copy.deepcopy(self.keyphrase_freq),\n",
    "#                                                                              affected_items=np.intersect1d(affected_items, prediction_items[affected_items_index_rank[0][:20]]),\n",
    "#                                                                              unaffected_items=np.intersect1d(unaffected_items, prediction_items[unaffected_items_index_rank[0][:20]]),\n",
    "#                                                                              num_keyphrases=self.num_keyphrases,\n",
    "#                                                                              query=query,\n",
    "#                                                                              test_user=user,\n",
    "#                                                                              item_latent=self.RQ,\n",
    "#                                                                              reg=self.reg)\n",
    "                        prediction_scores_u, lambdas = LP1SimplifiedOptimize(initial_prediction_u=self.prediction_scores[user],\n",
    "                                                                             keyphrase_freq=copy.deepcopy(self.keyphrase_freq),\n",
    "                                                                             affected_items=np.intersect1d(affected_items, prediction_items[affected_items_index_rank[0][:20]]),\n",
    "                                                                             unaffected_items=np.intersect1d(unaffected_items, prediction_items[unaffected_items_index_rank[0][:20]]),\n",
    "                                                                             num_keyphrases=self.num_keyphrases,\n",
    "                                                                             query=query,\n",
    "                                                                             test_user=user,\n",
    "                                                                             item_latent=self.RQ,\n",
    "                                                                             reg=self.reg)\n",
    "#                         prediction_scores_u, lambdas = rankSVM(initial_prediction_u=self.prediction_scores[user],\n",
    "#                                                                              keyphrase_freq=copy.deepcopy(self.keyphrase_freq),\n",
    "#                                                                              affected_items=np.intersect1d(affected_items, prediction_items[affected_items_index_rank[0][:20]]),\n",
    "#                                                                              unaffected_items=np.intersect1d(unaffected_items, prediction_items[unaffected_items_index_rank[0][:20]]),\n",
    "#                                                                              num_keyphrases=self.num_keyphrases,\n",
    "#                                                                              query=query,\n",
    "#                                                                              test_user=user,\n",
    "#                                                                              item_latent=self.RQ,\n",
    "#                                                                              reg=self.reg,\n",
    "#                                                                              user_latent_embedding = user_latent_embedding,\n",
    "#                                                                              item_keyphrase_freq = all_item_keyphrase_freq\n",
    "#                                                                              )\n",
    "#                         prediction_scores_u, lambdas = rankSVM2(initial_prediction_u=self.prediction_scores[user],\n",
    "#                                                                              keyphrase_freq=copy.deepcopy(self.keyphrase_freq),\n",
    "#                                                                              affected_items=np.intersect1d(affected_items, prediction_items[affected_items_index_rank[0][:20]]),\n",
    "#                                                                              unaffected_items=np.intersect1d(unaffected_items, prediction_items[unaffected_items_index_rank[0][:20]]),\n",
    "#                                                                              num_keyphrases=self.num_keyphrases,\n",
    "#                                                                              query=query,\n",
    "#                                                                              test_user=user,\n",
    "#                                                                              item_latent=self.RQ,\n",
    "#                                                                              reg=self.reg,\n",
    "#                                                                              user_latent_embedding = user_latent_embedding,\n",
    "#                                                                              item_keyphrase_freq = all_item_keyphrase_freq,\n",
    "#                                                                              lamb = self.lamb\n",
    "#                                                                              )    \n",
    "#                         prediction_scores_u, lambdas = rankSVM3(initial_prediction_u=self.prediction_scores[user],\n",
    "#                                                                              keyphrase_freq=copy.deepcopy(self.keyphrase_freq),\n",
    "#                                                                              affected_items=np.intersect1d(affected_items, prediction_items[affected_items_index_rank[0][:20]]),\n",
    "#                                                                              unaffected_items=np.intersect1d(unaffected_items, prediction_items[unaffected_items_index_rank[0][:20]]),\n",
    "#                                                                              num_keyphrases=self.num_keyphrases,\n",
    "#                                                                              query=query,\n",
    "#                                                                              test_user=user,\n",
    "#                                                                              item_latent=self.RQ,\n",
    "#                                                                              reg=self.reg,\n",
    "#                                                                              user_latent_embedding = user_latent_embedding,\n",
    "#                                                                              item_keyphrase_freq = all_item_keyphrase_freq,\n",
    "#                                                                              lamb = self.lamb\n",
    "#                                                                              )                       \n",
    "    \n",
    "#                         item_keyphrase_freq = get_all_item_keyphrase_freq()\n",
    "                        \n",
    "                        self.row['lambda'] = lambdas\n",
    "                        prediction_items = predict_vector(rating_vector=prediction_scores_u,\n",
    "                                                          train_vector=self.matrix_Train[user],\n",
    "                                                          remove_train=False)\n",
    "                        recommended_items = prediction_items\n",
    "                        \n",
    "                        # Current item rank\n",
    "                        item_rank = np.where(recommended_items == item)[0][0]\n",
    "\n",
    "                        self.row['item_rank'] = item_rank\n",
    "                        self.row['item_score'] = prediction_scores_u[item]\n",
    "\n",
    "                        if item_rank + 1 <= target_rank:\n",
    "                            # Items is ranked within target rank\n",
    "                            self.row['result'] = 'successful'\n",
    "                            self.df = self.df.append(self.row, ignore_index=True)\n",
    "                            break\n",
    "                        else:\n",
    "                            remaining_keyphrases = np.setdiff1d(remaining_keyphrases, critiqued_keyphrase)\n",
    "                            # Continue if more keyphrases and iterations remained\n",
    "                            if len(remaining_keyphrases) > 0 and self.row['iteration'] < self.max_iteration_threshold:\n",
    "                                self.row['result'] = None\n",
    "                                self.df = self.df.append(self.row, ignore_index=True)\n",
    "                            else:\n",
    "                                # Otherwise, mark fail\n",
    "                                self.row['result'] = 'fail'\n",
    "                                self.df = self.df.append(self.row, ignore_index=True)\n",
    "                                break\n",
    "#                         break ## For Testing LP Objective\n",
    "        \n",
    "            print(\"User \", user ,\"Elapsed: {}\".format(inhour(time.time() - start_time)))\n",
    "        return self.df\n",
    "\n",
    "\n",
    "    def get_initial_predictions(self):\n",
    "        self.RQ, Yt, Bias = plrec(self.matrix_Train,\n",
    "                                       iteration=self.parameters_row['iter'],\n",
    "                                       lamb=self.parameters_row['lambda'],\n",
    "                                       rank=self.parameters_row['rank'])\n",
    "        self.Y = Yt.T\n",
    "\n",
    "        self.reg = LinearRegression().fit(self.keyphrase_freq, self.RQ)\n",
    "\n",
    "        self.prediction_scores = predict_scores(matrix_U=self.RQ,\n",
    "                                                matrix_V=self.Y,\n",
    "                                                bias=Bias)\n",
    "\n"
   ]
  },
  {
   "cell_type": "code",
   "execution_count": 99,
   "metadata": {
    "scrolled": true
   },
   "outputs": [
    {
     "name": "stderr",
     "output_type": "stream",
     "text": [
      "\r",
      "  0%|          | 0/1 [00:00<?, ?it/s]"
     ]
    },
    {
     "name": "stdout",
     "output_type": "stream",
     "text": [
      "affected_items [  46 2320 2489 2906 3147 3244 3347 3699 3883 4729 4895 4901 5081 5136\n",
      " 5436 5558 5993 6493 6568 6660]\n",
      "46\n",
      "unaffected_items [ 635  870 1061 1107 1527 1940 2525 2882 2975 3183 3260 3335 3337 3997\n",
      " 4358 4673 4758 5870 6472 7056]\n",
      "635\n",
      "Gurobi Optimizer version 9.0.1 build v9.0.1rc0 (mac64)\n",
      "Optimize a model with 0 rows, 1 columns and 0 nonzeros\n",
      "Model fingerprint: 0x292699f2\n",
      "Coefficient statistics:\n",
      "  Matrix range     [0e+00, 0e+00]\n",
      "  Objective range  [2e+02, 2e+02]\n",
      "  Bounds range     [1e+00, 1e+00]\n",
      "  RHS range        [0e+00, 0e+00]\n",
      "Presolve removed 0 rows and 1 columns\n",
      "Presolve time: 0.01s\n",
      "Presolve: All rows and columns removed\n",
      "Iteration    Objective       Primal Inf.    Dual Inf.      Time\n",
      "       0    1.0262173e+02   0.000000e+00   0.000000e+00      0s\n",
      "\n",
      "Solved in 0 iterations and 0.01 seconds\n",
      "Optimal objective  1.026217294e+02\n",
      "Elapsed: 00:00:00\n",
      "affected_items [ 870 1061 1940 2525 2906 2975 3183 3213 3244 3347 3699 3883 3889 4358\n",
      " 4673 4901 4940 5639 5870 6660]\n",
      "870\n",
      "unaffected_items [  46  635 1107 1527 2320 2489 2882 3147 3260 3335 3337 3997 4758 4835\n",
      " 4895 5081 5558 6472 6568 7056]\n",
      "46\n",
      "Gurobi Optimizer version 9.0.1 build v9.0.1rc0 (mac64)\n",
      "Optimize a model with 0 rows, 1 columns and 0 nonzeros\n",
      "Model fingerprint: 0x9f7a2965\n",
      "Coefficient statistics:\n",
      "  Matrix range     [0e+00, 0e+00]\n",
      "  Objective range  [1e+02, 1e+02]\n",
      "  Bounds range     [1e+00, 1e+00]\n",
      "  RHS range        [0e+00, 0e+00]\n",
      "Presolve removed 0 rows and 1 columns\n",
      "Presolve time: 0.01s\n",
      "Presolve: All rows and columns removed\n",
      "Iteration    Objective       Primal Inf.    Dual Inf.      Time\n",
      "       0    1.4683328e+02   0.000000e+00   0.000000e+00      0s\n",
      "\n",
      "Solved in 0 iterations and 0.01 seconds\n",
      "Optimal objective  1.468332821e+02\n",
      "Elapsed: 00:00:00\n",
      "affected_items [  97  167  376 1090 1407 2412 2569 4707 5041 5286 5317 5340 5371 5626\n",
      " 6131 6353 6519 6735 6947 7427]\n",
      "97\n",
      "unaffected_items [  32  726  922 1709 1787 1999 2409 2528 2693 3340 3368 3728 4268 5066\n",
      " 5150 5972 6667 6691 7010 7137]\n",
      "32\n",
      "Gurobi Optimizer version 9.0.1 build v9.0.1rc0 (mac64)\n",
      "Optimize a model with 0 rows, 2 columns and 0 nonzeros\n",
      "Model fingerprint: 0x683b33ad\n",
      "Coefficient statistics:\n",
      "  Matrix range     [0e+00, 0e+00]\n",
      "  Objective range  [6e+01, 4e+02]\n",
      "  Bounds range     [1e+00, 1e+00]\n",
      "  RHS range        [0e+00, 0e+00]\n",
      "Presolve removed 0 rows and 2 columns\n",
      "Presolve time: 0.00s\n",
      "Presolve: All rows and columns removed\n",
      "Iteration    Objective       Primal Inf.    Dual Inf.      Time\n",
      "       0    5.1243570e+02   0.000000e+00   0.000000e+00      0s\n",
      "\n",
      "Solved in 0 iterations and 0.01 seconds\n",
      "Optimal objective  5.124357045e+02\n",
      "Elapsed: 00:00:00\n",
      "affected_items [  82   97  319  376  542 1522 1777 2528 2569 4037 4423 4443 5041 5286\n",
      " 5371 5730 5852 6131 6353 6947]\n",
      "82\n",
      "unaffected_items [ 726  922 1089 1787 2193 2409 2534 2693 2894 3294 3728 4268 4474 5066\n",
      " 5577 6167 6560 6667 7010 7137]\n",
      "726\n",
      "Gurobi Optimizer version 9.0.1 build v9.0.1rc0 (mac64)\n",
      "Optimize a model with 0 rows, 3 columns and 0 nonzeros\n",
      "Model fingerprint: 0x025e3f39\n",
      "Coefficient statistics:\n",
      "  Matrix range     [0e+00, 0e+00]\n",
      "  Objective range  [1e+02, 8e+02]\n",
      "  Bounds range     [1e+00, 1e+00]\n",
      "  RHS range        [0e+00, 0e+00]\n",
      "Presolve removed 0 rows and 3 columns\n",
      "Presolve time: 0.01s\n",
      "Presolve: All rows and columns removed\n",
      "Iteration    Objective       Primal Inf.    Dual Inf.      Time\n",
      "       0    1.2496452e+03   0.000000e+00   0.000000e+00      0s\n",
      "\n",
      "Solved in 0 iterations and 0.01 seconds\n",
      "Optimal objective  1.249645217e+03\n",
      "Elapsed: 00:00:00\n",
      "affected_items [  97  319  376  542 1522 2569 2729 2925 3665 4037 4443 4832 5122 5286\n",
      " 5371 5730 5972 6131 6353 7163]\n",
      "97\n",
      "unaffected_items [ 726  826  922 1710 2193 2256 2340 2409 2693 2786 3294 3787 4323 4474\n",
      " 4581 5204 6167 6539 6830 7137]\n",
      "726\n",
      "Gurobi Optimizer version 9.0.1 build v9.0.1rc0 (mac64)\n",
      "Optimize a model with 0 rows, 4 columns and 0 nonzeros\n",
      "Model fingerprint: 0x7aab3dab\n",
      "Coefficient statistics:\n",
      "  Matrix range     [0e+00, 0e+00]\n",
      "  Objective range  [1e+02, 6e+02]\n",
      "  Bounds range     [1e+00, 1e+00]\n",
      "  RHS range        [0e+00, 0e+00]\n",
      "Presolve removed 0 rows and 4 columns\n",
      "Presolve time: 0.00s\n",
      "Presolve: All rows and columns removed\n",
      "Iteration    Objective       Primal Inf.    Dual Inf.      Time\n",
      "       0    1.6842660e+03   0.000000e+00   0.000000e+00      0s\n",
      "\n",
      "Solved in 0 iterations and 0.01 seconds\n",
      "Optimal objective  1.684265987e+03\n",
      "Elapsed: 00:00:00\n",
      "affected_items [  97  376  542 1113 1522 1777 2089 2157 2569 3539 3665 4037 4443 5010\n",
      " 5286 5371 6131 6353 6732 7100]\n",
      "97\n",
      "unaffected_items [ 637  796  826 1710 2193 2409 2693 3735 3787 4276 4323 4424 4474 4581\n",
      " 5571 6167 6539 6808 6830 7137]\n",
      "637\n",
      "Gurobi Optimizer version 9.0.1 build v9.0.1rc0 (mac64)\n",
      "Optimize a model with 0 rows, 5 columns and 0 nonzeros\n",
      "Model fingerprint: 0xbcd85b0c\n",
      "Coefficient statistics:\n",
      "  Matrix range     [0e+00, 0e+00]\n",
      "  Objective range  [2e+01, 7e+02]\n",
      "  Bounds range     [1e+00, 1e+00]\n",
      "  RHS range        [0e+00, 0e+00]\n",
      "Presolve removed 0 rows and 5 columns\n",
      "Presolve time: 0.01s\n",
      "Presolve: All rows and columns removed\n",
      "Iteration    Objective       Primal Inf.    Dual Inf.      Time\n",
      "       0    2.0922545e+03   0.000000e+00   0.000000e+00      0s\n",
      "\n",
      "Solved in 0 iterations and 0.01 seconds\n",
      "Optimal objective  2.092254546e+03\n",
      "Elapsed: 00:00:00\n",
      "affected_items [  75   97  376  542 1113 1522 1777 2089 2157 3665 4037 4443 5010 5286\n",
      " 5363 5371 6131 6353 6732 7100]\n",
      "75\n",
      "unaffected_items [ 674  796  826 1710 1964 2193 2409 3735 3787 4216 4276 4323 4424 4474\n",
      " 5438 5571 6167 6539 6830 7137]\n",
      "674\n",
      "Gurobi Optimizer version 9.0.1 build v9.0.1rc0 (mac64)\n",
      "Optimize a model with 0 rows, 6 columns and 0 nonzeros\n",
      "Model fingerprint: 0x52cfcf18\n",
      "Coefficient statistics:\n",
      "  Matrix range     [0e+00, 0e+00]\n",
      "  Objective range  [3e+01, 8e+02]\n",
      "  Bounds range     [1e+00, 1e+00]\n",
      "  RHS range        [0e+00, 0e+00]\n",
      "Presolve removed 0 rows and 6 columns\n",
      "Presolve time: 0.00s\n",
      "Presolve: All rows and columns removed\n",
      "Iteration    Objective       Primal Inf.    Dual Inf.      Time\n",
      "       0    2.2657517e+03   0.000000e+00   0.000000e+00      0s\n",
      "\n",
      "Solved in 0 iterations and 0.01 seconds\n",
      "Optimal objective  2.265751730e+03\n",
      "Elapsed: 00:00:00\n",
      "affected_items [  75   97  376  683 1113 1522 1777 3665 4037 4443 5010 5286 5363 5371\n",
      " 5985 6131 6353 6732 6776 7100]\n",
      "75\n",
      "unaffected_items [ 674  892 1127 2340 2693 3273 3335 3735 4216 4424 4581 5285 5571 6040\n",
      " 6288 6294 6808 6830 7137 7247]\n",
      "674\n",
      "Gurobi Optimizer version 9.0.1 build v9.0.1rc0 (mac64)\n",
      "Optimize a model with 0 rows, 7 columns and 0 nonzeros\n",
      "Model fingerprint: 0x316755ae\n",
      "Coefficient statistics:\n",
      "  Matrix range     [0e+00, 0e+00]\n",
      "  Objective range  [2e+02, 2e+03]\n",
      "  Bounds range     [1e+00, 1e+00]\n",
      "  RHS range        [0e+00, 0e+00]\n",
      "Presolve removed 0 rows and 7 columns\n",
      "Presolve time: 0.01s\n",
      "Presolve: All rows and columns removed\n",
      "Iteration    Objective       Primal Inf.    Dual Inf.      Time\n",
      "       0    4.2232348e+03   0.000000e+00   0.000000e+00      0s\n",
      "\n",
      "Solved in 0 iterations and 0.01 seconds\n",
      "Optimal objective  4.223234843e+03\n",
      "Elapsed: 00:00:00\n",
      "affected_items [  97  376  683 1107 1113 2528 2804 3327 4037 4164 4443 4664 5010 5286\n",
      " 5371 5626 5985 6732 6776 7100]\n",
      "97\n",
      "unaffected_items [ 674  892 1461 1847 1903 2195 2886 3221 3273 4966 5268 5449 6040 6466\n",
      " 6674 6808 6830 6982 7137 7451]\n",
      "674\n",
      "Gurobi Optimizer version 9.0.1 build v9.0.1rc0 (mac64)\n",
      "Optimize a model with 0 rows, 8 columns and 0 nonzeros\n",
      "Model fingerprint: 0xd1fa8d11\n",
      "Coefficient statistics:\n",
      "  Matrix range     [0e+00, 0e+00]\n",
      "  Objective range  [8e+01, 3e+03]\n",
      "  Bounds range     [1e+00, 1e+00]\n",
      "  RHS range        [0e+00, 0e+00]\n",
      "Presolve removed 0 rows and 8 columns\n",
      "Presolve time: 0.01s\n",
      "Presolve: All rows and columns removed\n",
      "Iteration    Objective       Primal Inf.    Dual Inf.      Time\n",
      "       0    4.5959480e+03   0.000000e+00   0.000000e+00      0s\n",
      "\n",
      "Solved in 0 iterations and 0.01 seconds\n",
      "Optimal objective  4.595947959e+03\n",
      "Elapsed: 00:00:00\n",
      "affected_items [  97  376  683 1107 1113 2038 2528 2804 4037 4164 4443 5010 5286 5363\n",
      " 5371 5626 5985 6732 6776 7100]\n",
      "97\n",
      "unaffected_items [ 674  892 1461 1847 1903 2195 2886 3273 4966 5268 5449 5738 6040 6288\n",
      " 6466 6808 6830 6982 7137 7451]\n",
      "674\n",
      "Gurobi Optimizer version 9.0.1 build v9.0.1rc0 (mac64)\n",
      "Optimize a model with 0 rows, 9 columns and 0 nonzeros\n",
      "Model fingerprint: 0x46ee4b97\n",
      "Coefficient statistics:\n"
     ]
    },
    {
     "name": "stdout",
     "output_type": "stream",
     "text": [
      "  Matrix range     [0e+00, 0e+00]\n",
      "  Objective range  [1e+02, 2e+03]\n",
      "  Bounds range     [1e+00, 1e+00]\n",
      "  RHS range        [0e+00, 0e+00]\n",
      "Presolve removed 0 rows and 9 columns\n",
      "Presolve time: 0.01s\n",
      "Presolve: All rows and columns removed\n",
      "Iteration    Objective       Primal Inf.    Dual Inf.      Time\n",
      "       0    4.8039047e+03   0.000000e+00   0.000000e+00      0s\n",
      "\n",
      "Solved in 0 iterations and 0.01 seconds\n",
      "Optimal objective  4.803904748e+03\n",
      "Elapsed: 00:00:00\n",
      "affected_items [  75   97  376  683 1090 1107 1113 2804 3499 3539 4037 4164 4443 5371\n",
      " 5626 5985 6299 6732 6776 7100]\n",
      "75\n",
      "unaffected_items [ 722  892 1278 1461 1903 2195 2886 3171 4147 4543 4966 5268 5449 6040\n",
      " 6288 6466 6636 6982 7137 7325]\n",
      "722\n",
      "Gurobi Optimizer version 9.0.1 build v9.0.1rc0 (mac64)\n",
      "Optimize a model with 0 rows, 10 columns and 0 nonzeros\n",
      "Model fingerprint: 0x1aedced7\n",
      "Coefficient statistics:\n",
      "  Matrix range     [0e+00, 0e+00]\n",
      "  Objective range  [2e+01, 2e+03]\n",
      "  Bounds range     [1e+00, 1e+00]\n",
      "  RHS range        [0e+00, 0e+00]\n",
      "Presolve removed 0 rows and 10 columns\n",
      "Presolve time: 0.01s\n",
      "Presolve: All rows and columns removed\n",
      "Iteration    Objective       Primal Inf.    Dual Inf.      Time\n",
      "       0    5.4284226e+03   0.000000e+00   0.000000e+00      0s\n",
      "\n",
      "Solved in 0 iterations and 0.01 seconds\n",
      "Optimal objective  5.428422623e+03\n",
      "Elapsed: 00:00:00\n",
      "affected_items [  75  376  683 1090 1107 1113 2804 2925 3402 3499 3512 4164 4443 5031\n",
      " 5326 5626 5985 6299 6732 6776]\n",
      "75\n",
      "unaffected_items [ 722 1278 1461 1903 2195 3335 3832 3933 4147 4424 4966 5268 5449 5490\n",
      " 6040 6288 6466 6636 7137 7325]\n",
      "722\n",
      "Gurobi Optimizer version 9.0.1 build v9.0.1rc0 (mac64)\n",
      "Optimize a model with 0 rows, 11 columns and 0 nonzeros\n",
      "Model fingerprint: 0x6122b50a\n",
      "Coefficient statistics:\n",
      "  Matrix range     [0e+00, 0e+00]\n",
      "  Objective range  [5e+01, 2e+03]\n",
      "  Bounds range     [1e+00, 1e+00]\n",
      "  RHS range        [0e+00, 0e+00]\n",
      "Presolve removed 0 rows and 11 columns\n",
      "Presolve time: 0.01s\n",
      "Presolve: All rows and columns removed\n",
      "Iteration    Objective       Primal Inf.    Dual Inf.      Time\n",
      "       0    5.8529414e+03   0.000000e+00   0.000000e+00      0s\n",
      "\n",
      "Solved in 0 iterations and 0.01 seconds\n",
      "Optimal objective  5.852941437e+03\n",
      "Elapsed: 00:00:00\n",
      "affected_items [  75  376  683 1090 1107 1113 2804 2925 3402 3499 3512 4164 4443 5031\n",
      " 5326 5626 5985 6299 6732 6776]\n",
      "75\n",
      "unaffected_items [ 722 1278 1461 1903 2195 3569 3832 4147 4424 4877 4966 5268 5449 5490\n",
      " 6040 6288 6466 6636 7137 7325]\n",
      "722\n",
      "Gurobi Optimizer version 9.0.1 build v9.0.1rc0 (mac64)\n",
      "Optimize a model with 0 rows, 12 columns and 0 nonzeros\n",
      "Model fingerprint: 0xfb1e4fe4\n",
      "Coefficient statistics:\n",
      "  Matrix range     [0e+00, 0e+00]\n",
      "  Objective range  [4e+01, 2e+03]\n",
      "  Bounds range     [1e+00, 1e+00]\n",
      "  RHS range        [0e+00, 0e+00]\n",
      "Presolve removed 0 rows and 12 columns\n",
      "Presolve time: 0.01s\n",
      "Presolve: All rows and columns removed\n",
      "Iteration    Objective       Primal Inf.    Dual Inf.      Time\n",
      "       0    5.9099026e+03   0.000000e+00   0.000000e+00      0s\n",
      "\n",
      "Solved in 0 iterations and 0.01 seconds\n",
      "Optimal objective  5.909902575e+03\n",
      "Elapsed: 00:00:00\n",
      "affected_items [ 376  683 1090 1107 1113 1799 2804 2925 3402 3499 3512 4164 4443 5031\n",
      " 5326 5626 5985 6299 6732 6776]\n",
      "376\n",
      "unaffected_items [1278 1461 1903 2195 3335 3569 3832 4147 4424 4877 4966 5268 5449 5490\n",
      " 6040 6288 6466 6636 7137 7325]\n",
      "1278\n",
      "Gurobi Optimizer version 9.0.1 build v9.0.1rc0 (mac64)\n",
      "Optimize a model with 0 rows, 13 columns and 0 nonzeros\n",
      "Model fingerprint: 0xfd849f85\n",
      "Coefficient statistics:\n",
      "  Matrix range     [0e+00, 0e+00]\n",
      "  Objective range  [3e+01, 2e+03]\n",
      "  Bounds range     [1e+00, 1e+00]\n",
      "  RHS range        [0e+00, 0e+00]\n",
      "Presolve removed 0 rows and 13 columns\n",
      "Presolve time: 0.01s\n",
      "Presolve: All rows and columns removed\n",
      "Iteration    Objective       Primal Inf.    Dual Inf.      Time\n",
      "       0    6.4662279e+03   0.000000e+00   0.000000e+00      0s\n",
      "\n",
      "Solved in 0 iterations and 0.01 seconds\n",
      "Optimal objective  6.466227895e+03\n",
      "Elapsed: 00:00:00\n",
      "affected_items [ 683 1107 1113 1456 1522 2729 2804 3402 3499 3539 4164 4443 5326 5371\n",
      " 5626 5985 6299 6776 7024 7034]\n",
      "683\n",
      "unaffected_items [2864 3023 3178 3431 3569 4147 4543 4824 4877 5023 5204 5449 5456 5490\n",
      " 5738 5789 6288 6294 6636 6982]\n",
      "2864\n",
      "Gurobi Optimizer version 9.0.1 build v9.0.1rc0 (mac64)\n",
      "Optimize a model with 0 rows, 14 columns and 0 nonzeros\n",
      "Model fingerprint: 0x6026def1\n",
      "Coefficient statistics:\n",
      "  Matrix range     [0e+00, 0e+00]\n",
      "  Objective range  [2e+01, 2e+03]\n",
      "  Bounds range     [1e+00, 1e+00]\n",
      "  RHS range        [0e+00, 0e+00]\n",
      "Presolve removed 0 rows and 14 columns\n",
      "Presolve time: 0.00s\n",
      "Presolve: All rows and columns removed\n",
      "Iteration    Objective       Primal Inf.    Dual Inf.      Time\n",
      "       0    7.1880010e+03   0.000000e+00   0.000000e+00      0s\n",
      "\n",
      "Solved in 0 iterations and 0.01 seconds\n",
      "Optimal objective  7.188000955e+03\n",
      "Elapsed: 00:00:00\n",
      "affected_items [ 683 1107 1113 1456 1522 2804 3499 3539 4164 4443 5052 5326 5371 5626\n",
      " 5985 6299 6732 6776 7024 7034]\n",
      "683\n",
      "unaffected_items [ 892  995 1461 2141 2864 3023 3178 3431 4147 4543 4740 4824 5023 5204\n",
      " 5449 5456 5738 6294 6636 6982]\n",
      "892\n",
      "Gurobi Optimizer version 9.0.1 build v9.0.1rc0 (mac64)\n",
      "Optimize a model with 0 rows, 15 columns and 0 nonzeros\n",
      "Model fingerprint: 0x0567c56b\n",
      "Coefficient statistics:\n",
      "  Matrix range     [0e+00, 0e+00]\n",
      "  Objective range  [5e+01, 2e+03]\n",
      "  Bounds range     [1e+00, 1e+00]\n",
      "  RHS range        [0e+00, 0e+00]\n",
      "Presolve removed 0 rows and 15 columns\n",
      "Presolve time: 0.01s\n",
      "Presolve: All rows and columns removed\n",
      "Iteration    Objective       Primal Inf.    Dual Inf.      Time\n",
      "       0    8.1522406e+03   0.000000e+00   0.000000e+00      0s\n",
      "\n",
      "Solved in 0 iterations and 0.01 seconds\n",
      "Optimal objective  8.152240565e+03\n",
      "Elapsed: 00:00:00\n",
      "affected_items [ 683 1090 1107 1113 2188 2804 2925 3402 3499 4164 4443 5326 5371 5626\n",
      " 5659 5763 6353 6776 7034 7100]\n",
      "683\n",
      "unaffected_items [ 892 1278 1952 2201 2644 2693 2864 3376 3431 3905 4543 4824 5023 5204\n",
      " 5246 5738 6294 6472 6636 6830]\n",
      "892\n",
      "Gurobi Optimizer version 9.0.1 build v9.0.1rc0 (mac64)\n",
      "Optimize a model with 0 rows, 16 columns and 0 nonzeros\n",
      "Model fingerprint: 0xaabfa87e\n",
      "Coefficient statistics:\n",
      "  Matrix range     [0e+00, 0e+00]\n",
      "  Objective range  [3e+01, 2e+03]\n",
      "  Bounds range     [1e+00, 1e+00]\n",
      "  RHS range        [0e+00, 0e+00]\n",
      "Presolve removed 0 rows and 16 columns\n",
      "Presolve time: 0.00s\n",
      "Presolve: All rows and columns removed\n",
      "Iteration    Objective       Primal Inf.    Dual Inf.      Time\n",
      "       0    8.6123088e+03   0.000000e+00   0.000000e+00      0s\n",
      "\n",
      "Solved in 0 iterations and 0.01 seconds\n",
      "Optimal objective  8.612308776e+03\n",
      "Elapsed: 00:00:00\n",
      "affected_items [ 683 1107 1113 2188 2804 2925 3402 3499 4164 4443 5326 5371 5626 5659\n",
      " 5763 6299 6353 6776 7034 7100]\n",
      "683\n",
      "unaffected_items [ 892 1278 1952 2201 2644 2693 2864 3376 3431 3905 4543 4824 5023 5204\n",
      " 5246 5738 6294 6472 6636 6830]\n",
      "892\n",
      "Gurobi Optimizer version 9.0.1 build v9.0.1rc0 (mac64)\n",
      "Optimize a model with 0 rows, 17 columns and 0 nonzeros\n",
      "Model fingerprint: 0x4910a133\n",
      "Coefficient statistics:\n",
      "  Matrix range     [0e+00, 0e+00]\n",
      "  Objective range  [4e+01, 2e+03]\n",
      "  Bounds range     [1e+00, 1e+00]\n",
      "  RHS range        [0e+00, 0e+00]\n",
      "Presolve removed 0 rows and 17 columns\n",
      "Presolve time: 0.00s\n",
      "Presolve: All rows and columns removed\n",
      "Iteration    Objective       Primal Inf.    Dual Inf.      Time\n",
      "       0    8.7230943e+03   0.000000e+00   0.000000e+00      0s\n",
      "\n",
      "Solved in 0 iterations and 0.01 seconds\n",
      "Optimal objective  8.723094259e+03\n",
      "Elapsed: 00:00:00\n",
      "affected_items [ 683 1107 1113 2188 2804 2925 3402 3499 4164 4443 4664 5326 5371 5626\n",
      " 5659 5763 6353 6776 7034 7100]\n",
      "683\n",
      "unaffected_items [ 892 1278 1952 2201 2644 2693 2864 3242 3376 3431 3905 4543 4824 5023\n",
      " 5246 5738 6294 6472 6636 6830]\n",
      "892\n",
      "Gurobi Optimizer version 9.0.1 build v9.0.1rc0 (mac64)\n",
      "Optimize a model with 0 rows, 18 columns and 0 nonzeros\n",
      "Model fingerprint: 0x96f714a8\n",
      "Coefficient statistics:\n",
      "  Matrix range     [0e+00, 0e+00]\n",
      "  Objective range  [8e+00, 3e+03]\n",
      "  Bounds range     [1e+00, 1e+00]\n",
      "  RHS range        [0e+00, 0e+00]\n",
      "Presolve removed 0 rows and 18 columns\n",
      "Presolve time: 0.00s\n",
      "Presolve: All rows and columns removed\n",
      "Iteration    Objective       Primal Inf.    Dual Inf.      Time\n",
      "       0    9.1054756e+03   0.000000e+00   0.000000e+00      0s\n",
      "\n",
      "Solved in 0 iterations and 0.01 seconds\n"
     ]
    },
    {
     "name": "stdout",
     "output_type": "stream",
     "text": [
      "Optimal objective  9.105475573e+03\n",
      "Elapsed: 00:00:00\n",
      "affected_items [ 683 1090 1107 1113 2188 2804 2925 3402 3499 4164 4443 5326 5371 5626\n",
      " 5659 5763 6353 6776 7034 7100]\n",
      "683\n",
      "unaffected_items [ 582  892 1278 1952 2644 2693 2864 3242 3431 3905 4147 4543 4824 5023\n",
      " 5246 5738 6294 6472 6636 6830]\n",
      "582\n",
      "Gurobi Optimizer version 9.0.1 build v9.0.1rc0 (mac64)\n",
      "Optimize a model with 0 rows, 19 columns and 0 nonzeros\n",
      "Model fingerprint: 0xf13f49fa\n",
      "Coefficient statistics:\n",
      "  Matrix range     [0e+00, 0e+00]\n",
      "  Objective range  [2e+01, 2e+03]\n",
      "  Bounds range     [1e+00, 1e+00]\n",
      "  RHS range        [0e+00, 0e+00]\n",
      "Presolve removed 0 rows and 19 columns\n",
      "Presolve time: 0.00s\n",
      "Presolve: All rows and columns removed\n",
      "Iteration    Objective       Primal Inf.    Dual Inf.      Time\n",
      "       0    9.1768865e+03   0.000000e+00   0.000000e+00      0s\n",
      "\n",
      "Solved in 0 iterations and 0.01 seconds\n",
      "Optimal objective  9.176886489e+03\n",
      "Elapsed: 00:00:00\n",
      "affected_items [ 683 1090 1107 1113 2188 2804 2925 3402 3499 4164 4443 5326 5371 5626\n",
      " 5659 5763 6353 6776 7034 7100]\n",
      "683\n",
      "unaffected_items [ 582 1278 1952 2644 2693 2864 3242 3431 3905 4147 4543 4824 5023 5246\n",
      " 5738 6294 6472 6636 6830 6982]\n",
      "582\n",
      "Gurobi Optimizer version 9.0.1 build v9.0.1rc0 (mac64)\n",
      "Optimize a model with 0 rows, 20 columns and 0 nonzeros\n",
      "Model fingerprint: 0x580cc8a5\n",
      "Coefficient statistics:\n",
      "  Matrix range     [0e+00, 0e+00]\n",
      "  Objective range  [2e+01, 2e+03]\n",
      "  Bounds range     [1e+00, 1e+00]\n",
      "  RHS range        [0e+00, 0e+00]\n",
      "Presolve removed 0 rows and 20 columns\n",
      "Presolve time: 0.00s\n",
      "Presolve: All rows and columns removed\n",
      "Iteration    Objective       Primal Inf.    Dual Inf.      Time\n",
      "       0    9.1963316e+03   0.000000e+00   0.000000e+00      0s\n",
      "\n",
      "Solved in 0 iterations and 0.01 seconds\n",
      "Optimal objective  9.196331646e+03\n",
      "Elapsed: 00:00:00\n",
      "affected_items [ 870 1940 2320 2882 2906 2975 3147 3260 3347 3699 3883 3997 4358 4673\n",
      " 4758 4895 4901 5558 5870 7056]\n",
      "870\n",
      "unaffected_items [ 416  635  797 1061 1107 1199 1527 2489 2525 3294 3335 3337 3889 4499\n",
      " 5081 5639 6081 6472 6568 6660]\n",
      "416\n",
      "Gurobi Optimizer version 9.0.1 build v9.0.1rc0 (mac64)\n",
      "Optimize a model with 0 rows, 1 columns and 0 nonzeros\n",
      "Model fingerprint: 0x1c26cc69\n",
      "Coefficient statistics:\n",
      "  Matrix range     [0e+00, 0e+00]\n",
      "  Objective range  [2e+02, 2e+02]\n",
      "  Bounds range     [1e+00, 1e+00]\n",
      "  RHS range        [0e+00, 0e+00]\n",
      "Presolve removed 0 rows and 1 columns\n",
      "Presolve time: 0.00s\n",
      "Presolve: All rows and columns removed\n",
      "Iteration    Objective       Primal Inf.    Dual Inf.      Time\n",
      "       0    3.0101445e+02   0.000000e+00   0.000000e+00      0s\n",
      "\n",
      "Solved in 0 iterations and 0.01 seconds\n",
      "Optimal objective  3.010144495e+02\n",
      "Elapsed: 00:00:00\n",
      "affected_items [ 201  376  735 1983 1985 2154 3166 3211 3259 4397 4443 4848 5041 5340\n",
      " 5410 5626 6353 6732 6947 7356]\n",
      "201\n",
      "unaffected_items [ 759  922 1407 1478 1710 1787 2414 2569 2894 4268 4582 4599 5150 5370\n",
      " 6085 6233 6294 6602 6642 7137]\n",
      "759\n",
      "Gurobi Optimizer version 9.0.1 build v9.0.1rc0 (mac64)\n",
      "Optimize a model with 0 rows, 2 columns and 0 nonzeros\n",
      "Model fingerprint: 0x2ae40be6\n",
      "Coefficient statistics:\n",
      "  Matrix range     [0e+00, 0e+00]\n",
      "  Objective range  [4e+02, 2e+03]\n",
      "  Bounds range     [1e+00, 1e+00]\n",
      "  RHS range        [0e+00, 0e+00]\n",
      "Presolve removed 0 rows and 2 columns\n",
      "Presolve time: 0.00s\n",
      "Presolve: All rows and columns removed\n",
      "Iteration    Objective       Primal Inf.    Dual Inf.      Time\n",
      "       0    1.9810175e+03   0.000000e+00   0.000000e+00      0s\n",
      "\n",
      "Solved in 0 iterations and 0.01 seconds\n",
      "Optimal objective  1.981017532e+03\n",
      "Elapsed: 00:00:00\n",
      "affected_items [ 201  376  735 1983 2154 2729 3166 3211 3259 4397 4443 5010 5326 5340\n",
      " 5410 5626 6353 6732 6947 7137]\n",
      "201\n",
      "unaffected_items [ 683  922 1407 1478 1710 1787 2414 2488 2497 3665 3695 4268 4323 4892\n",
      " 6167 6233 6602 6642 6688 7163]\n",
      "683\n",
      "Gurobi Optimizer version 9.0.1 build v9.0.1rc0 (mac64)\n",
      "Optimize a model with 0 rows, 3 columns and 0 nonzeros\n",
      "Model fingerprint: 0x9cd24fb7\n",
      "Coefficient statistics:\n",
      "  Matrix range     [0e+00, 0e+00]\n",
      "  Objective range  [2e+02, 2e+03]\n",
      "  Bounds range     [1e+00, 1e+00]\n",
      "  RHS range        [0e+00, 0e+00]\n",
      "Presolve removed 0 rows and 3 columns\n",
      "Presolve time: 0.01s\n",
      "Presolve: All rows and columns removed\n",
      "Iteration    Objective       Primal Inf.    Dual Inf.      Time\n",
      "       0    2.5999621e+03   0.000000e+00   0.000000e+00      0s\n",
      "\n",
      "Solved in 0 iterations and 0.01 seconds\n",
      "Optimal objective  2.599962052e+03\n",
      "Elapsed: 00:00:00\n",
      "affected_items [ 201  376  379  735 1983 2154 2729 3148 3166 3211 4443 5010 5326 5340\n",
      " 5371 5410 5626 6131 6732 6947]\n",
      "201\n",
      "unaffected_items [ 683  759 1710 1787 2193 2414 2488 2497 2644 2693 3586 3695 4283 4323\n",
      " 4474 5577 5867 6167 6294 6602]\n",
      "683\n",
      "Gurobi Optimizer version 9.0.1 build v9.0.1rc0 (mac64)\n",
      "Optimize a model with 0 rows, 4 columns and 0 nonzeros\n",
      "Model fingerprint: 0xa180ca03\n",
      "Coefficient statistics:\n",
      "  Matrix range     [0e+00, 0e+00]\n",
      "  Objective range  [3e+01, 2e+03]\n",
      "  Bounds range     [1e+00, 1e+00]\n",
      "  RHS range        [0e+00, 0e+00]\n",
      "Presolve removed 0 rows and 4 columns\n",
      "Presolve time: 0.00s\n",
      "Presolve: All rows and columns removed\n",
      "Iteration    Objective       Primal Inf.    Dual Inf.      Time\n",
      "       0    2.8445546e+03   0.000000e+00   0.000000e+00      0s\n",
      "\n",
      "Solved in 0 iterations and 0.01 seconds\n",
      "Optimal objective  2.844554649e+03\n",
      "Elapsed: 00:00:00\n",
      "affected_items [ 201  376  542  735 1983 2154 2729 3148 3166 3211 3739 4443 5010 5340\n",
      " 5371 5410 5626 6131 6732 6947]\n",
      "201\n",
      "unaffected_items [ 123  759 1478 1710 1787 2193 2414 2488 2644 2693 3586 4323 4563 5204\n",
      " 5254 5577 5991 6167 6294 6602]\n",
      "123\n",
      "Gurobi Optimizer version 9.0.1 build v9.0.1rc0 (mac64)\n",
      "Optimize a model with 0 rows, 5 columns and 0 nonzeros\n",
      "Model fingerprint: 0xc832b919\n",
      "Coefficient statistics:\n",
      "  Matrix range     [0e+00, 0e+00]\n",
      "  Objective range  [3e+01, 2e+03]\n",
      "  Bounds range     [1e+00, 1e+00]\n",
      "  RHS range        [0e+00, 0e+00]\n",
      "Presolve removed 0 rows and 5 columns\n",
      "Presolve time: 0.01s\n",
      "Presolve: All rows and columns removed\n",
      "Iteration    Objective       Primal Inf.    Dual Inf.      Time\n",
      "       0    2.9302790e+03   0.000000e+00   0.000000e+00      0s\n",
      "\n",
      "Solved in 0 iterations and 0.01 seconds\n",
      "Optimal objective  2.930279016e+03\n",
      "Elapsed: 00:00:00\n",
      "affected_items [ 201  735 1652 1983 2154 2729 3166 3211 4037 4443 5326 5340 5371 5410\n",
      " 5626 6131 6167 6454 6732 6947]\n",
      "201\n",
      "unaffected_items [ 232 1461 1734 1787 1903 2265 2315 2414 2497 2644 2693 2840 3273 3905\n",
      " 3914 5204 5432 5823 5867 6294]\n",
      "232\n",
      "Gurobi Optimizer version 9.0.1 build v9.0.1rc0 (mac64)\n",
      "Optimize a model with 0 rows, 6 columns and 0 nonzeros\n",
      "Model fingerprint: 0x0560e113\n",
      "Coefficient statistics:\n",
      "  Matrix range     [0e+00, 0e+00]\n",
      "  Objective range  [5e+01, 2e+03]\n",
      "  Bounds range     [1e+00, 1e+00]\n",
      "  RHS range        [0e+00, 0e+00]\n",
      "Presolve removed 0 rows and 6 columns\n",
      "Presolve time: 0.00s\n",
      "Presolve: All rows and columns removed\n",
      "Iteration    Objective       Primal Inf.    Dual Inf.      Time\n",
      "       0    4.2285642e+03   0.000000e+00   0.000000e+00      0s\n",
      "\n",
      "Solved in 0 iterations and 0.01 seconds\n",
      "Optimal objective  4.228564181e+03\n",
      "Elapsed: 00:00:00\n",
      "affected_items [  97  201  683  735 1113 2154 2729 2804 3166 3211 3260 4164 4443 5340\n",
      " 5371 5410 5626 6167 6732 6776]\n",
      "97\n",
      "unaffected_items [ 232 1028 1085 1461 1903 2201 2265 2644 2840 2886 3914 4088 4966 5370\n",
      " 5738 5867 6294 6436 6513 6636]\n",
      "232\n",
      "Gurobi Optimizer version 9.0.1 build v9.0.1rc0 (mac64)\n",
      "Optimize a model with 0 rows, 7 columns and 0 nonzeros\n",
      "Model fingerprint: 0x35aa7654\n",
      "Coefficient statistics:\n",
      "  Matrix range     [0e+00, 0e+00]\n",
      "  Objective range  [3e+01, 2e+03]\n",
      "  Bounds range     [1e+00, 1e+00]\n",
      "  RHS range        [0e+00, 0e+00]\n",
      "Presolve removed 0 rows and 7 columns\n",
      "Presolve time: 0.00s\n",
      "Presolve: All rows and columns removed\n",
      "Iteration    Objective       Primal Inf.    Dual Inf.      Time\n",
      "       0    5.4154500e+03   0.000000e+00   0.000000e+00      0s\n",
      "\n",
      "Solved in 0 iterations and 0.01 seconds\n",
      "Optimal objective  5.415449960e+03\n",
      "Elapsed: 00:00:00\n",
      "affected_items [ 683  735 1113 2154 2729 2804 2895 3166 3260 4397 4443 4664 4928 5010\n",
      " 5340 5410 5626 6131 6454 7163]\n",
      "683\n",
      "unaffected_items [  19 1028 1085 1461 1601 1903 2201 2644 2886 3933 4740 4966 5533 6040\n",
      " 6061 6348 6602 6636 6969 7413]\n",
      "19\n",
      "Gurobi Optimizer version 9.0.1 build v9.0.1rc0 (mac64)\n",
      "Optimize a model with 0 rows, 8 columns and 0 nonzeros\n"
     ]
    },
    {
     "name": "stdout",
     "output_type": "stream",
     "text": [
      "Model fingerprint: 0x27dbc636\n",
      "Coefficient statistics:\n",
      "  Matrix range     [0e+00, 0e+00]\n",
      "  Objective range  [2e+01, 2e+03]\n",
      "  Bounds range     [1e+00, 1e+00]\n",
      "  RHS range        [0e+00, 0e+00]\n",
      "Presolve removed 0 rows and 8 columns\n",
      "Presolve time: 0.00s\n",
      "Presolve: All rows and columns removed\n",
      "Iteration    Objective       Primal Inf.    Dual Inf.      Time\n",
      "       0    6.5532000e+03   0.000000e+00   0.000000e+00      0s\n",
      "\n",
      "Solved in 0 iterations and 0.01 seconds\n",
      "Optimal objective  6.553199956e+03\n",
      "Elapsed: 00:00:00\n",
      "affected_items [ 683  735 1113 2154 2729 2804 2895 3166 3260 4443 4664 4928 5010 5340\n",
      " 5410 5626 6131 6454 6776 7163]\n",
      "683\n",
      "unaffected_items [  19 1028 1085 1461 1903 2201 2644 2886 3933 4740 4966 5533 6040 6061\n",
      " 6348 6559 6602 6636 6969 7413]\n",
      "19\n",
      "Gurobi Optimizer version 9.0.1 build v9.0.1rc0 (mac64)\n",
      "Optimize a model with 0 rows, 9 columns and 0 nonzeros\n",
      "Model fingerprint: 0xcea53d88\n",
      "Coefficient statistics:\n",
      "  Matrix range     [0e+00, 0e+00]\n",
      "  Objective range  [7e+01, 2e+03]\n",
      "  Bounds range     [1e+00, 1e+00]\n",
      "  RHS range        [0e+00, 0e+00]\n",
      "Presolve removed 0 rows and 9 columns\n",
      "Presolve time: 0.00s\n",
      "Presolve: All rows and columns removed\n",
      "Iteration    Objective       Primal Inf.    Dual Inf.      Time\n",
      "       0    7.1151270e+03   0.000000e+00   0.000000e+00      0s\n",
      "\n",
      "Solved in 0 iterations and 0.01 seconds\n",
      "Optimal objective  7.115127018e+03\n",
      "Elapsed: 00:00:00\n",
      "affected_items [ 683 1113 2154 2729 2804 2895 3166 3260 3402 4164 4443 4664 4762 5010\n",
      " 5340 5410 5626 6131 6299 7163]\n",
      "683\n",
      "unaffected_items [  19 1028 1085 1461 1601 1734 1903 2201 2886 3337 3933 4740 4966 5432\n",
      " 6040 6061 6348 6602 6636 7413]\n",
      "19\n",
      "Gurobi Optimizer version 9.0.1 build v9.0.1rc0 (mac64)\n",
      "Optimize a model with 0 rows, 10 columns and 0 nonzeros\n",
      "Model fingerprint: 0x97d37214\n",
      "Coefficient statistics:\n",
      "  Matrix range     [0e+00, 0e+00]\n",
      "  Objective range  [5e+01, 2e+03]\n",
      "  Bounds range     [1e+00, 1e+00]\n",
      "  RHS range        [0e+00, 0e+00]\n",
      "Presolve removed 0 rows and 10 columns\n",
      "Presolve time: 0.00s\n",
      "Presolve: All rows and columns removed\n",
      "Iteration    Objective       Primal Inf.    Dual Inf.      Time\n",
      "       0    7.5299781e+03   0.000000e+00   0.000000e+00      0s\n",
      "\n",
      "Solved in 0 iterations and 0.01 seconds\n",
      "Optimal objective  7.529978102e+03\n",
      "Elapsed: 00:00:00\n",
      "affected_items [ 683 1107 2729 2804 2895 3166 3260 3402 4095 4443 4664 4762 5010 5340\n",
      " 5410 5626 5659 6131 6299 7163]\n",
      "683\n",
      "unaffected_items [  19 1028 1085 1214 1418 1461 1601 1734 2201 2886 3041 3174 4740 4966\n",
      " 5254 6348 6602 6636 6969 7413]\n",
      "19\n",
      "Gurobi Optimizer version 9.0.1 build v9.0.1rc0 (mac64)\n",
      "Optimize a model with 0 rows, 11 columns and 0 nonzeros\n",
      "Model fingerprint: 0x959a80c3\n",
      "Coefficient statistics:\n",
      "  Matrix range     [0e+00, 0e+00]\n",
      "  Objective range  [7e+01, 2e+03]\n",
      "  Bounds range     [1e+00, 1e+00]\n",
      "  RHS range        [0e+00, 0e+00]\n",
      "Presolve removed 0 rows and 11 columns\n",
      "Presolve time: 0.00s\n",
      "Presolve: All rows and columns removed\n",
      "Iteration    Objective       Primal Inf.    Dual Inf.      Time\n",
      "       0    8.3003166e+03   0.000000e+00   0.000000e+00      0s\n",
      "\n",
      "Solved in 0 iterations and 0.01 seconds\n",
      "Optimal objective  8.300316584e+03\n",
      "Elapsed: 00:00:00\n",
      "affected_items [ 683 1107 1113 1456 2154 2729 2804 2895 3166 3260 4443 4664 5010 5340\n",
      " 5410 5626 5659 6131 6299 7163]\n",
      "683\n",
      "unaffected_items [ 335  742 1386 1578 1601 2173 2722 2886 3174 3544 3565 4147 4229 4346\n",
      " 4533 4804 4896 5313 6348 6559]\n",
      "335\n",
      "Gurobi Optimizer version 9.0.1 build v9.0.1rc0 (mac64)\n",
      "Optimize a model with 0 rows, 12 columns and 0 nonzeros\n",
      "Model fingerprint: 0x0a692078\n",
      "Coefficient statistics:\n",
      "  Matrix range     [0e+00, 0e+00]\n",
      "  Objective range  [3e+01, 2e+03]\n",
      "  Bounds range     [1e+00, 1e+00]\n",
      "  RHS range        [0e+00, 0e+00]\n",
      "Presolve removed 0 rows and 12 columns\n",
      "Presolve time: 0.00s\n",
      "Presolve: All rows and columns removed\n",
      "Iteration    Objective       Primal Inf.    Dual Inf.      Time\n",
      "       0    9.9286748e+03   0.000000e+00   0.000000e+00      0s\n",
      "\n",
      "Solved in 0 iterations and 0.01 seconds\n",
      "Optimal objective  9.928674818e+03\n",
      "Elapsed: 00:00:00\n",
      "affected_items [ 585  683 1113 2446 2729 2804 2895 3166 3512 4397 4443 5340 5363 5410\n",
      " 5626 5659 6131 6454 6776 7163]\n",
      "585\n",
      "unaffected_items [ 335 1386 1414 2173 2688 2693 2886 3174 4147 4229 4896 4949 5271 5313\n",
      " 5681 6181 6339 6348 6559 6693]\n",
      "335\n",
      "Gurobi Optimizer version 9.0.1 build v9.0.1rc0 (mac64)\n",
      "Optimize a model with 0 rows, 13 columns and 0 nonzeros\n",
      "Model fingerprint: 0xf3953611\n",
      "Coefficient statistics:\n",
      "  Matrix range     [0e+00, 0e+00]\n",
      "  Objective range  [9e+01, 3e+03]\n",
      "  Bounds range     [1e+00, 1e+00]\n",
      "  RHS range        [0e+00, 0e+00]\n",
      "Presolve removed 0 rows and 13 columns\n",
      "Presolve time: 0.00s\n",
      "Presolve: All rows and columns removed\n",
      "Iteration    Objective       Primal Inf.    Dual Inf.      Time\n",
      "       0    1.1869592e+04   0.000000e+00   0.000000e+00      0s\n",
      "\n",
      "Solved in 0 iterations and 0.01 seconds\n",
      "Optimal objective  1.186959186e+04\n",
      "Elapsed: 00:00:00\n",
      "affected_items [ 419  585  683 1113 2729 2804 2895 3166 3512 4397 4443 5326 5340 5363\n",
      " 5410 5626 5659 6454 6776 7163]\n",
      "419\n",
      "unaffected_items [ 580 1414 2171 2274 2549 2722 2886 3379 3544 3941 4156 4232 4804 4896\n",
      " 5681 5779 6181 6339 6464 6693]\n",
      "580\n",
      "Gurobi Optimizer version 9.0.1 build v9.0.1rc0 (mac64)\n",
      "Optimize a model with 0 rows, 14 columns and 0 nonzeros\n",
      "Model fingerprint: 0x692a9d4e\n",
      "Coefficient statistics:\n",
      "  Matrix range     [0e+00, 0e+00]\n",
      "  Objective range  [1e+02, 3e+03]\n",
      "  Bounds range     [1e+00, 1e+00]\n",
      "  RHS range        [0e+00, 0e+00]\n",
      "Presolve removed 0 rows and 14 columns\n",
      "Presolve time: 0.00s\n",
      "Presolve: All rows and columns removed\n",
      "Iteration    Objective       Primal Inf.    Dual Inf.      Time\n",
      "       0    1.3292762e+04   0.000000e+00   0.000000e+00      0s\n",
      "\n",
      "Solved in 0 iterations and 0.01 seconds\n",
      "Optimal objective  1.329276209e+04\n",
      "Elapsed: 00:00:00\n",
      "affected_items [ 419  585  683 1113 2729 2804 2895 3166 3512 4397 4443 5326 5363 5410\n",
      " 5626 5659 5870 6454 6776 7163]\n",
      "419\n",
      "unaffected_items [ 544  580 1414 1442 2171 2274 2471 2693 2722 2886 3379 4155 4156 4232\n",
      " 4804 4896 5681 6181 6339 6693]\n",
      "544\n",
      "Gurobi Optimizer version 9.0.1 build v9.0.1rc0 (mac64)\n",
      "Optimize a model with 0 rows, 15 columns and 0 nonzeros\n",
      "Model fingerprint: 0xfec8627c\n",
      "Coefficient statistics:\n",
      "  Matrix range     [0e+00, 0e+00]\n",
      "  Objective range  [9e+00, 3e+03]\n",
      "  Bounds range     [1e+00, 1e+00]\n",
      "  RHS range        [0e+00, 0e+00]\n",
      "Presolve removed 0 rows and 15 columns\n",
      "Presolve time: 0.00s\n",
      "Presolve: All rows and columns removed\n",
      "Iteration    Objective       Primal Inf.    Dual Inf.      Time\n",
      "       0    1.3365436e+04   0.000000e+00   0.000000e+00      0s\n",
      "\n",
      "Solved in 0 iterations and 0.01 seconds\n",
      "Optimal objective  1.336543567e+04\n",
      "Elapsed: 00:00:00\n",
      "affected_items [  97  419  585  683 1113 2804 2894 2895 3211 3512 4397 4443 5363 5410\n",
      " 5626 5659 5870 6454 6776 7163]\n",
      "97\n",
      "unaffected_items [ 544  580 1414 1442 2171 2236 2471 2693 2722 3379 3537 3941 4156 4804\n",
      " 4896 5681 5779 6181 6339 6693]\n",
      "544\n",
      "Gurobi Optimizer version 9.0.1 build v9.0.1rc0 (mac64)\n",
      "Optimize a model with 0 rows, 16 columns and 0 nonzeros\n",
      "Model fingerprint: 0x7ceeb736\n",
      "Coefficient statistics:\n",
      "  Matrix range     [0e+00, 0e+00]\n",
      "  Objective range  [5e+01, 3e+03]\n",
      "  Bounds range     [1e+00, 1e+00]\n",
      "  RHS range        [0e+00, 0e+00]\n",
      "Presolve removed 0 rows and 16 columns\n",
      "Presolve time: 0.00s\n",
      "Presolve: All rows and columns removed\n",
      "Iteration    Objective       Primal Inf.    Dual Inf.      Time\n",
      "       0    1.3585768e+04   0.000000e+00   0.000000e+00      0s\n",
      "\n",
      "Solved in 0 iterations and 0.01 seconds\n",
      "Optimal objective  1.358576828e+04\n",
      "Elapsed: 00:00:00\n",
      "affected_items [ 419  585  683 1113 2804 2894 2895 3211 3512 4397 4443 5326 5363 5410\n",
      " 5626 5659 5870 6454 6776 7163]\n",
      "419\n",
      "unaffected_items [ 544  580 1414 1442 2171 2236 2471 2693 2722 3941 4021 4156 4232 4804\n",
      " 4896 5681 5779 6181 6339 6693]\n",
      "544\n",
      "Gurobi Optimizer version 9.0.1 build v9.0.1rc0 (mac64)\n",
      "Optimize a model with 0 rows, 17 columns and 0 nonzeros\n",
      "Model fingerprint: 0x776545b5\n",
      "Coefficient statistics:\n",
      "  Matrix range     [0e+00, 0e+00]\n",
      "  Objective range  [7e+01, 3e+03]\n",
      "  Bounds range     [1e+00, 1e+00]\n",
      "  RHS range        [0e+00, 0e+00]\n",
      "Presolve removed 0 rows and 17 columns\n",
      "Presolve time: 0.00s\n",
      "Presolve: All rows and columns removed\n",
      "Iteration    Objective       Primal Inf.    Dual Inf.      Time\n",
      "       0    1.3704787e+04   0.000000e+00   0.000000e+00      0s\n"
     ]
    },
    {
     "name": "stdout",
     "output_type": "stream",
     "text": [
      "\n",
      "Solved in 0 iterations and 0.01 seconds\n",
      "Optimal objective  1.370478734e+04\n",
      "Elapsed: 00:00:00\n",
      "affected_items [ 419  585  683 1113 2804 2894 2895 3211 3512 4397 4443 5326 5363 5410\n",
      " 5626 5659 5870 6454 6776 7163]\n",
      "419\n",
      "unaffected_items [ 544  580 1414 1442 2171 2236 2471 2693 2722 3941 4021 4156 4232 4804\n",
      " 4896 5681 5779 6181 6339 6693]\n",
      "544\n",
      "Gurobi Optimizer version 9.0.1 build v9.0.1rc0 (mac64)\n",
      "Optimize a model with 0 rows, 18 columns and 0 nonzeros\n",
      "Model fingerprint: 0xf6603060\n",
      "Coefficient statistics:\n",
      "  Matrix range     [0e+00, 0e+00]\n",
      "  Objective range  [7e+01, 3e+03]\n",
      "  Bounds range     [1e+00, 1e+00]\n",
      "  RHS range        [0e+00, 0e+00]\n",
      "Presolve removed 0 rows and 18 columns\n",
      "Presolve time: 0.00s\n",
      "Presolve: All rows and columns removed\n",
      "Iteration    Objective       Primal Inf.    Dual Inf.      Time\n",
      "       0    1.3776293e+04   0.000000e+00   0.000000e+00      0s\n",
      "\n",
      "Solved in 0 iterations and 0.01 seconds\n",
      "Optimal objective  1.377629259e+04\n",
      "Elapsed: 00:00:00\n",
      "affected_items [  97  419  585  683 1113 2804 2894 2895 3211 3512 4397 4443 5363 5410\n",
      " 5626 5659 5870 6454 6776 7163]\n",
      "97\n",
      "unaffected_items [ 544  580 1414 1442 2171 2471 2693 2722 3379 3941 4021 4156 4232 4804\n",
      " 4896 5681 5779 6181 6339 6693]\n",
      "544\n",
      "Gurobi Optimizer version 9.0.1 build v9.0.1rc0 (mac64)\n",
      "Optimize a model with 0 rows, 19 columns and 0 nonzeros\n",
      "Model fingerprint: 0x638d26f7\n",
      "Coefficient statistics:\n",
      "  Matrix range     [0e+00, 0e+00]\n",
      "  Objective range  [5e+01, 3e+03]\n",
      "  Bounds range     [1e+00, 1e+00]\n",
      "  RHS range        [0e+00, 0e+00]\n",
      "Presolve removed 0 rows and 19 columns\n",
      "Presolve time: 0.01s\n",
      "Presolve: All rows and columns removed\n",
      "Iteration    Objective       Primal Inf.    Dual Inf.      Time\n",
      "       0    1.3868272e+04   0.000000e+00   0.000000e+00      0s\n",
      "\n",
      "Solved in 0 iterations and 0.01 seconds\n",
      "Optimal objective  1.386827225e+04\n",
      "Elapsed: 00:00:00\n",
      "affected_items [  97  419  585  683 1113 2804 2894 2895 3211 3512 4397 4443 5363 5410\n",
      " 5626 5659 5870 6454 6776 7163]\n",
      "97\n",
      "unaffected_items [ 544  580 1414 1442 2171 2471 2693 2722 3379 3941 4021 4156 4232 4804\n",
      " 4896 5681 5779 6181 6339 6693]\n",
      "544\n",
      "Gurobi Optimizer version 9.0.1 build v9.0.1rc0 (mac64)\n",
      "Optimize a model with 0 rows, 20 columns and 0 nonzeros\n",
      "Model fingerprint: 0x30edf6a5\n",
      "Coefficient statistics:\n",
      "  Matrix range     [0e+00, 0e+00]\n",
      "  Objective range  [5e+01, 3e+03]\n",
      "  Bounds range     [1e+00, 1e+00]\n",
      "  RHS range        [0e+00, 0e+00]\n",
      "Presolve removed 0 rows and 20 columns\n",
      "Presolve time: 0.01s\n",
      "Presolve: All rows and columns removed\n",
      "Iteration    Objective       Primal Inf.    Dual Inf.      Time\n",
      "       0    1.3957569e+04   0.000000e+00   0.000000e+00      0s\n",
      "\n",
      "Solved in 0 iterations and 0.01 seconds\n",
      "Optimal objective  1.395756935e+04\n",
      "Elapsed: 00:00:00\n",
      "affected_items [ 870 1061 1527 1940 2320 2489 2525 2906 2975 3699 3883 4358 4673 4758\n",
      " 4895 4901 5558 5870 6568 7056]\n",
      "870\n",
      "unaffected_items [ 635  797 1107 1985 2234 2882 3147 3185 3260 3294 3335 3337 3347 3997\n",
      " 4499 5081 5254 6081 6472 6660]\n",
      "635\n",
      "Gurobi Optimizer version 9.0.1 build v9.0.1rc0 (mac64)\n",
      "Optimize a model with 0 rows, 1 columns and 0 nonzeros\n",
      "Model fingerprint: 0x728834ec\n",
      "Coefficient statistics:\n",
      "  Matrix range     [0e+00, 0e+00]\n",
      "  Objective range  [5e+02, 5e+02]\n",
      "  Bounds range     [1e+00, 1e+00]\n",
      "  RHS range        [0e+00, 0e+00]\n",
      "Presolve removed 0 rows and 1 columns\n",
      "Presolve time: 0.01s\n",
      "Presolve: All rows and columns removed\n",
      "Iteration    Objective       Primal Inf.    Dual Inf.      Time\n",
      "       0    5.6355647e+02   0.000000e+00   0.000000e+00      0s\n",
      "\n",
      "Solved in 0 iterations and 0.01 seconds\n",
      "Optimal objective  5.635564746e+02\n",
      "Elapsed: 00:00:00\n",
      "affected_items [  75   97  926 1511 1548 1584 2460 2729 2895 3097 3988 4443 4832 5098\n",
      " 5315 5852 6353 6498 7205 7213]\n",
      "75\n",
      "unaffected_items [  59 1315 1410 1569 1710 2267 2407 2563 3145 3260 3465 3785 3864 4268\n",
      " 4441 4692 4966 6348 6389 6793]\n",
      "59\n",
      "Gurobi Optimizer version 9.0.1 build v9.0.1rc0 (mac64)\n",
      "Optimize a model with 0 rows, 2 columns and 0 nonzeros\n",
      "Model fingerprint: 0xdd884699\n",
      "Coefficient statistics:\n",
      "  Matrix range     [0e+00, 0e+00]\n",
      "  Objective range  [3e+03, 3e+03]\n",
      "  Bounds range     [1e+00, 1e+00]\n",
      "  RHS range        [0e+00, 0e+00]\n",
      "Presolve removed 0 rows and 2 columns\n",
      "Presolve time: 0.01s\n",
      "Presolve: All rows and columns removed\n",
      "Iteration    Objective       Primal Inf.    Dual Inf.      Time\n",
      "       0    6.6220186e+03   0.000000e+00   0.000000e+00      0s\n",
      "\n",
      "Solved in 0 iterations and 0.01 seconds\n",
      "Optimal objective  6.622018568e+03\n",
      "Elapsed: 00:00:00\n",
      "affected_items [  97  926 1548 1584 1898 2364 2412 2729 2895 3097 4443 5010 5098 5214\n",
      " 5315 5852 6353 6498 7205 7213]\n",
      "97\n",
      "unaffected_items [ 300 1079 1192 1414 2086 2152 2267 2534 2845 2885 2927 3408 3465 3558\n",
      " 4268 4966 6152 6348 6830 7339]\n",
      "300\n",
      "Gurobi Optimizer version 9.0.1 build v9.0.1rc0 (mac64)\n",
      "Optimize a model with 0 rows, 3 columns and 0 nonzeros\n",
      "Model fingerprint: 0xe937239e\n",
      "Coefficient statistics:\n",
      "  Matrix range     [0e+00, 0e+00]\n",
      "  Objective range  [1e+01, 3e+03]\n",
      "  Bounds range     [1e+00, 1e+00]\n",
      "  RHS range        [0e+00, 0e+00]\n",
      "Presolve removed 0 rows and 3 columns\n",
      "Presolve time: 0.00s\n",
      "Presolve: All rows and columns removed\n",
      "Iteration    Objective       Primal Inf.    Dual Inf.      Time\n",
      "       0    6.1952908e+03   0.000000e+00   0.000000e+00      0s\n",
      "\n",
      "Solved in 0 iterations and 0.01 seconds\n",
      "Optimal objective  6.195290765e+03\n",
      "Elapsed: 00:00:00\n",
      "affected_items [  97  926 1548 1898 2364 2412 2460 2729 2895 3097 3988 4390 4443 5010\n",
      " 5098 5315 5852 6498 7205 7213]\n",
      "97\n",
      "unaffected_items [1079 1192 1363 1414 1980 2086 2152 2267 2534 2845 3286 3465 3558 3614\n",
      " 3864 4966 5136 5293 6152 6348]\n",
      "1079\n",
      "Gurobi Optimizer version 9.0.1 build v9.0.1rc0 (mac64)\n",
      "Optimize a model with 0 rows, 4 columns and 0 nonzeros\n",
      "Model fingerprint: 0x1c975a4e\n",
      "Coefficient statistics:\n",
      "  Matrix range     [0e+00, 0e+00]\n",
      "  Objective range  [2e+02, 3e+03]\n",
      "  Bounds range     [1e+00, 1e+00]\n",
      "  RHS range        [0e+00, 0e+00]\n",
      "Presolve removed 0 rows and 4 columns\n",
      "Presolve time: 0.00s\n",
      "Presolve: All rows and columns removed\n",
      "Iteration    Objective       Primal Inf.    Dual Inf.      Time\n",
      "       0    6.7783633e+03   0.000000e+00   0.000000e+00      0s\n",
      "\n",
      "Solved in 0 iterations and 0.01 seconds\n",
      "Optimal objective  6.778363314e+03\n",
      "Elapsed: 00:00:00\n",
      "affected_items [  75  325  926 1548 1898 2412 2517 2729 2895 3097 3988 4443 5098 5315\n",
      " 6301 6454 6498 6660 7205 7213]\n",
      "75\n",
      "unaffected_items [ 484 1192 1363 1414 1980 2086 2152 2534 2845 3286 3558 3614 3864 4966\n",
      " 5136 5310 6152 6348 6800 7157]\n",
      "484\n",
      "Gurobi Optimizer version 9.0.1 build v9.0.1rc0 (mac64)\n",
      "Optimize a model with 0 rows, 5 columns and 0 nonzeros\n",
      "Model fingerprint: 0x69d85d4e\n",
      "Coefficient statistics:\n",
      "  Matrix range     [0e+00, 0e+00]\n",
      "  Objective range  [5e+02, 3e+03]\n",
      "  Bounds range     [1e+00, 1e+00]\n",
      "  RHS range        [0e+00, 0e+00]\n",
      "Presolve removed 0 rows and 5 columns\n",
      "Presolve time: 0.00s\n",
      "Presolve: All rows and columns removed\n",
      "Iteration    Objective       Primal Inf.    Dual Inf.      Time\n",
      "       0    7.5919394e+03   0.000000e+00   0.000000e+00      0s\n",
      "\n",
      "Solved in 0 iterations and 0.01 seconds\n",
      "Optimal objective  7.591939357e+03\n",
      "Elapsed: 00:00:00\n",
      "affected_items [  75  325 1548 1898 2364 2412 2517 2729 2895 3097 3988 4443 5098 5315\n",
      " 6301 6454 6498 6660 7205 7213]\n",
      "75\n",
      "unaffected_items [ 484 1363 1414 1980 2433 2534 2845 3286 3558 3614 4563 4966 5136 5310\n",
      " 5521 5759 6348 6532 6789 6800]\n",
      "484\n",
      "Gurobi Optimizer version 9.0.1 build v9.0.1rc0 (mac64)\n",
      "Optimize a model with 0 rows, 6 columns and 0 nonzeros\n",
      "Model fingerprint: 0x2e2f370c\n",
      "Coefficient statistics:\n",
      "  Matrix range     [0e+00, 0e+00]\n",
      "  Objective range  [4e+02, 3e+03]\n",
      "  Bounds range     [1e+00, 1e+00]\n",
      "  RHS range        [0e+00, 0e+00]\n",
      "Presolve removed 0 rows and 6 columns\n",
      "Presolve time: 0.01s\n",
      "Presolve: All rows and columns removed\n",
      "Iteration    Objective       Primal Inf.    Dual Inf.      Time\n",
      "       0    8.1775857e+03   0.000000e+00   0.000000e+00      0s\n",
      "\n",
      "Solved in 0 iterations and 0.01 seconds\n",
      "Optimal objective  8.177585652e+03\n",
      "Elapsed: 00:00:00\n",
      "affected_items [  75  325 1548 1898 2412 2517 2729 2895 3097 3988 4443 5098 5158 5315\n",
      " 6301 6454 6498 6660 7205 7213]\n",
      "75\n",
      "unaffected_items [  40 1363 1414 1710 1980 2315 2433 3614 4966 5030 5136 5310 5759 5853\n",
      " 6267 6348 6532 6778 6789 6800]\n",
      "40\n",
      "Gurobi Optimizer version 9.0.1 build v9.0.1rc0 (mac64)\n",
      "Optimize a model with 0 rows, 7 columns and 0 nonzeros\n"
     ]
    },
    {
     "name": "stdout",
     "output_type": "stream",
     "text": [
      "Model fingerprint: 0xa4869721\n",
      "Coefficient statistics:\n",
      "  Matrix range     [0e+00, 0e+00]\n",
      "  Objective range  [1e+02, 3e+03]\n",
      "  Bounds range     [1e+00, 1e+00]\n",
      "  RHS range        [0e+00, 0e+00]\n",
      "Presolve removed 0 rows and 7 columns\n",
      "Presolve time: 0.00s\n",
      "Presolve: All rows and columns removed\n",
      "Iteration    Objective       Primal Inf.    Dual Inf.      Time\n",
      "       0    8.2995130e+03   0.000000e+00   0.000000e+00      0s\n",
      "\n",
      "Solved in 0 iterations and 0.01 seconds\n",
      "Optimal objective  8.299512982e+03\n",
      "Elapsed: 00:00:00\n",
      "affected_items [  75 1548 1898 2364 2412 2517 2729 2895 3097 4443 5098 5158 5315 5725\n",
      " 6301 6454 6498 6660 7205 7213]\n",
      "75\n",
      "unaffected_items [  40 1363 1414 1980 2315 2433 2534 3532 3614 4966 5136 5310 5759 5853\n",
      " 6267 6348 6778 6789 6800 6974]\n",
      "40\n",
      "Gurobi Optimizer version 9.0.1 build v9.0.1rc0 (mac64)\n",
      "Optimize a model with 0 rows, 8 columns and 0 nonzeros\n",
      "Model fingerprint: 0x46b1e64a\n",
      "Coefficient statistics:\n",
      "  Matrix range     [0e+00, 0e+00]\n",
      "  Objective range  [7e+01, 3e+03]\n",
      "  Bounds range     [1e+00, 1e+00]\n",
      "  RHS range        [0e+00, 0e+00]\n",
      "Presolve removed 0 rows and 8 columns\n",
      "Presolve time: 0.00s\n",
      "Presolve: All rows and columns removed\n",
      "Iteration    Objective       Primal Inf.    Dual Inf.      Time\n",
      "       0    8.3774717e+03   0.000000e+00   0.000000e+00      0s\n",
      "\n",
      "Solved in 0 iterations and 0.01 seconds\n",
      "Optimal objective  8.377471681e+03\n",
      "Elapsed: 00:00:00\n",
      "affected_items [  75  325 1548 1898 2364 2412 2517 2729 2895 3097 4443 5098 5158 5315\n",
      " 6301 6454 6498 6660 7205 7213]\n",
      "75\n",
      "unaffected_items [  40 1363 1414 1980 2433 2534 3532 3614 4966 5030 5136 5310 5759 5853\n",
      " 6267 6348 6778 6789 6800 6974]\n",
      "40\n",
      "Gurobi Optimizer version 9.0.1 build v9.0.1rc0 (mac64)\n",
      "Optimize a model with 0 rows, 9 columns and 0 nonzeros\n",
      "Model fingerprint: 0xa601e3b2\n",
      "Coefficient statistics:\n",
      "  Matrix range     [0e+00, 0e+00]\n",
      "  Objective range  [7e+01, 3e+03]\n",
      "  Bounds range     [1e+00, 1e+00]\n",
      "  RHS range        [0e+00, 0e+00]\n",
      "Presolve removed 0 rows and 9 columns\n",
      "Presolve time: 0.00s\n",
      "Presolve: All rows and columns removed\n",
      "Iteration    Objective       Primal Inf.    Dual Inf.      Time\n",
      "       0    8.4709975e+03   0.000000e+00   0.000000e+00      0s\n",
      "\n",
      "Solved in 0 iterations and 0.01 seconds\n",
      "Optimal objective  8.470997535e+03\n",
      "Elapsed: 00:00:00\n",
      "affected_items [  75 1548 1898 2364 2412 2729 2804 2895 3097 4443 4550 5098 5158 5315\n",
      " 6301 6454 6498 6660 7205 7213]\n",
      "75\n",
      "unaffected_items [  40 1278 1414 1903 1980 2169 2433 3532 3614 4966 5030 5310 5759 6267\n",
      " 6348 6778 6789 6800 6974 7178]\n",
      "40\n",
      "Gurobi Optimizer version 9.0.1 build v9.0.1rc0 (mac64)\n",
      "Optimize a model with 0 rows, 10 columns and 0 nonzeros\n",
      "Model fingerprint: 0xa318be49\n",
      "Coefficient statistics:\n",
      "  Matrix range     [0e+00, 0e+00]\n",
      "  Objective range  [3e+01, 3e+03]\n",
      "  Bounds range     [1e+00, 1e+00]\n",
      "  RHS range        [0e+00, 0e+00]\n",
      "Presolve removed 0 rows and 10 columns\n",
      "Presolve time: 0.00s\n",
      "Presolve: All rows and columns removed\n",
      "Iteration    Objective       Primal Inf.    Dual Inf.      Time\n",
      "       0    9.6938182e+03   0.000000e+00   0.000000e+00      0s\n",
      "\n",
      "Solved in 0 iterations and 0.01 seconds\n",
      "Optimal objective  9.693818173e+03\n",
      "Elapsed: 00:00:00\n",
      "affected_items [  75  325 1548 1898 2364 2412 2517 2729 2804 2895 3097 4443 5098 5158\n",
      " 5315 6301 6454 6498 6660 7213]\n",
      "75\n",
      "unaffected_items [ 245  920 1363 1414 1970 1980 2433 3532 3614 3720 5030 5310 5759 6267\n",
      " 6348 6712 6778 6974 7103 7178]\n",
      "245\n",
      "Gurobi Optimizer version 9.0.1 build v9.0.1rc0 (mac64)\n",
      "Optimize a model with 0 rows, 11 columns and 0 nonzeros\n",
      "Model fingerprint: 0x7503a31a\n",
      "Coefficient statistics:\n",
      "  Matrix range     [0e+00, 0e+00]\n",
      "  Objective range  [4e+01, 3e+03]\n",
      "  Bounds range     [1e+00, 1e+00]\n",
      "  RHS range        [0e+00, 0e+00]\n",
      "Presolve removed 0 rows and 11 columns\n",
      "Presolve time: 0.00s\n",
      "Presolve: All rows and columns removed\n",
      "Iteration    Objective       Primal Inf.    Dual Inf.      Time\n",
      "       0    1.0155806e+04   0.000000e+00   0.000000e+00      0s\n",
      "\n",
      "Solved in 0 iterations and 0.01 seconds\n",
      "Optimal objective  1.015580564e+04\n",
      "Elapsed: 00:00:00\n",
      "affected_items [  75  325 1548 1898 2364 2412 2729 2804 2895 3097 4443 4550 5098 5158\n",
      " 5315 6301 6454 6498 6660 7213]\n",
      "75\n",
      "unaffected_items [1085 1363 1414 1970 2382 2438 2628 2787 3532 3720 5030 5107 5310 5759\n",
      " 6267 6348 6712 6778 6944 7103]\n",
      "1085\n",
      "Gurobi Optimizer version 9.0.1 build v9.0.1rc0 (mac64)\n",
      "Optimize a model with 0 rows, 12 columns and 0 nonzeros\n",
      "Model fingerprint: 0x2f0acd03\n",
      "Coefficient statistics:\n",
      "  Matrix range     [0e+00, 0e+00]\n",
      "  Objective range  [3e+01, 3e+03]\n",
      "  Bounds range     [1e+00, 1e+00]\n",
      "  RHS range        [0e+00, 0e+00]\n",
      "Presolve removed 0 rows and 12 columns\n",
      "Presolve time: 0.01s\n",
      "Presolve: All rows and columns removed\n",
      "Iteration    Objective       Primal Inf.    Dual Inf.      Time\n",
      "       0    1.0687344e+04   0.000000e+00   0.000000e+00      0s\n",
      "\n",
      "Solved in 0 iterations and 0.01 seconds\n",
      "Optimal objective  1.068734446e+04\n",
      "Elapsed: 00:00:00\n",
      "affected_items [  75  325 1548 1584 1898 2364 2412 2729 2804 2895 3097 4443 5098 5158\n",
      " 5315 5725 6454 6498 6660 7213]\n",
      "75\n",
      "unaffected_items [1085 1363 1414 1970 2382 2438 2551 2628 2697 2755 2787 2866 3532 3720\n",
      " 5030 5107 5497 6712 6778 7103]\n",
      "1085\n",
      "Gurobi Optimizer version 9.0.1 build v9.0.1rc0 (mac64)\n",
      "Optimize a model with 0 rows, 13 columns and 0 nonzeros\n",
      "Model fingerprint: 0x8f596a84\n",
      "Coefficient statistics:\n",
      "  Matrix range     [0e+00, 0e+00]\n",
      "  Objective range  [5e+01, 3e+03]\n",
      "  Bounds range     [1e+00, 1e+00]\n",
      "  RHS range        [0e+00, 0e+00]\n",
      "Presolve removed 0 rows and 13 columns\n",
      "Presolve time: 0.00s\n",
      "Presolve: All rows and columns removed\n",
      "Iteration    Objective       Primal Inf.    Dual Inf.      Time\n",
      "       0    1.1390699e+04   0.000000e+00   0.000000e+00      0s\n",
      "\n",
      "Solved in 0 iterations and 0.01 seconds\n",
      "Optimal objective  1.139069926e+04\n",
      "Elapsed: 00:00:00\n",
      "affected_items [  75  325 1548 1584 1898 2364 2412 2517 2729 2804 2895 3097 4443 5098\n",
      " 5315 5852 6454 6498 6660 7213]\n",
      "75\n",
      "unaffected_items [  14  807 1110 1363 1414 1962 2551 2697 2755 3532 3720 4704 5030 5114\n",
      " 5801 5802 5878 6193 6264 7103]\n",
      "14\n",
      "Gurobi Optimizer version 9.0.1 build v9.0.1rc0 (mac64)\n",
      "Optimize a model with 0 rows, 14 columns and 0 nonzeros\n",
      "Model fingerprint: 0x1fcb1ceb\n",
      "Coefficient statistics:\n",
      "  Matrix range     [0e+00, 0e+00]\n",
      "  Objective range  [8e+01, 3e+03]\n",
      "  Bounds range     [1e+00, 1e+00]\n",
      "  RHS range        [0e+00, 0e+00]\n",
      "Presolve removed 0 rows and 14 columns\n",
      "Presolve time: 0.00s\n",
      "Presolve: All rows and columns removed\n",
      "Iteration    Objective       Primal Inf.    Dual Inf.      Time\n",
      "       0    1.2682324e+04   0.000000e+00   0.000000e+00      0s\n",
      "\n",
      "Solved in 0 iterations and 0.01 seconds\n",
      "Optimal objective  1.268232376e+04\n",
      "Elapsed: 00:00:00\n",
      "affected_items [  75  325 1548 1898 2412 2517 2804 2895 3097 4443 4908 5098 5315 5410\n",
      " 5852 6454 6498 6938 7205 7213]\n",
      "75\n",
      "unaffected_items [  14  807 1110 1414 2697 2755 2850 3532 3594 3720 4078 4252 5030 5114\n",
      " 5802 6193 6264 6426 6462 7103]\n",
      "14\n",
      "Gurobi Optimizer version 9.0.1 build v9.0.1rc0 (mac64)\n",
      "Optimize a model with 0 rows, 15 columns and 0 nonzeros\n",
      "Model fingerprint: 0xcee722fc\n",
      "Coefficient statistics:\n",
      "  Matrix range     [0e+00, 0e+00]\n",
      "  Objective range  [2e+01, 3e+03]\n",
      "  Bounds range     [1e+00, 1e+00]\n",
      "  RHS range        [0e+00, 0e+00]\n",
      "Presolve removed 0 rows and 15 columns\n",
      "Presolve time: 0.00s\n",
      "Presolve: All rows and columns removed\n",
      "Iteration    Objective       Primal Inf.    Dual Inf.      Time\n",
      "       0    1.3432923e+04   0.000000e+00   0.000000e+00      0s\n",
      "\n",
      "Solved in 0 iterations and 0.01 seconds\n",
      "Optimal objective  1.343292320e+04\n",
      "Elapsed: 00:00:00\n",
      "affected_items [  75  325  585 1548 2412 2446 2517 2847 2895 4072 4443 4908 5098 5340\n",
      " 5410 6454 6498 6938 7205 7213]\n",
      "75\n",
      "unaffected_items [ 366  944 1110 1414 1935 2697 2755 3532 3720 4078 4092 4298 5030 5500\n",
      " 5802 5878 6264 6426 6941 7103]\n",
      "366\n",
      "Gurobi Optimizer version 9.0.1 build v9.0.1rc0 (mac64)\n",
      "Optimize a model with 0 rows, 16 columns and 0 nonzeros\n",
      "Model fingerprint: 0xebd002dd\n",
      "Coefficient statistics:\n",
      "  Matrix range     [0e+00, 0e+00]\n",
      "  Objective range  [1e+01, 3e+03]\n",
      "  Bounds range     [1e+00, 1e+00]\n",
      "  RHS range        [0e+00, 0e+00]\n",
      "Presolve removed 0 rows and 16 columns\n",
      "Presolve time: 0.00s\n",
      "Presolve: All rows and columns removed\n",
      "Iteration    Objective       Primal Inf.    Dual Inf.      Time\n",
      "       0    1.3907692e+04   0.000000e+00   0.000000e+00      0s\n"
     ]
    },
    {
     "name": "stdout",
     "output_type": "stream",
     "text": [
      "\n",
      "Solved in 0 iterations and 0.01 seconds\n",
      "Optimal objective  1.390769249e+04\n",
      "Elapsed: 00:00:00\n",
      "affected_items [  75  325  585 1548 2412 2804 2847 2895 4072 4443 4908 5098 5340 5410\n",
      " 6454 6498 6660 6938 7205 7213]\n",
      "75\n",
      "unaffected_items [ 366  944 1110 1414 1935 1962 2697 2755 3532 3720 4078 4298 5030 5208\n",
      " 5500 5802 6264 6426 6941 7103]\n",
      "366\n",
      "Gurobi Optimizer version 9.0.1 build v9.0.1rc0 (mac64)\n",
      "Optimize a model with 0 rows, 17 columns and 0 nonzeros\n",
      "Model fingerprint: 0x5fec63d2\n",
      "Coefficient statistics:\n",
      "  Matrix range     [0e+00, 0e+00]\n",
      "  Objective range  [3e+01, 3e+03]\n",
      "  Bounds range     [1e+00, 1e+00]\n",
      "  RHS range        [0e+00, 0e+00]\n",
      "Presolve removed 0 rows and 17 columns\n",
      "Presolve time: 0.00s\n",
      "Presolve: All rows and columns removed\n",
      "Iteration    Objective       Primal Inf.    Dual Inf.      Time\n",
      "       0    1.4154410e+04   0.000000e+00   0.000000e+00      0s\n",
      "\n",
      "Solved in 0 iterations and 0.01 seconds\n",
      "Optimal objective  1.415440960e+04\n",
      "Elapsed: 00:00:00\n",
      "affected_items [  75  325  585 1548 2412 2804 2847 2895 4072 4443 4908 5098 5340 5410\n",
      " 6454 6498 6660 6938 7205 7213]\n",
      "75\n",
      "unaffected_items [ 366  944 1110 1414 1935 1962 2697 2755 3532 3720 4078 4298 5030 5500\n",
      " 5802 5878 6264 6426 6941 7103]\n",
      "366\n",
      "Gurobi Optimizer version 9.0.1 build v9.0.1rc0 (mac64)\n",
      "Optimize a model with 0 rows, 18 columns and 0 nonzeros\n",
      "Model fingerprint: 0xc81284a5\n",
      "Coefficient statistics:\n",
      "  Matrix range     [0e+00, 0e+00]\n",
      "  Objective range  [2e+01, 3e+03]\n",
      "  Bounds range     [1e+00, 1e+00]\n",
      "  RHS range        [0e+00, 0e+00]\n",
      "Presolve removed 0 rows and 18 columns\n",
      "Presolve time: 0.00s\n",
      "Presolve: All rows and columns removed\n",
      "Iteration    Objective       Primal Inf.    Dual Inf.      Time\n",
      "       0    1.4174261e+04   0.000000e+00   0.000000e+00      0s\n",
      "\n",
      "Solved in 0 iterations and 0.01 seconds\n",
      "Optimal objective  1.417426054e+04\n",
      "Elapsed: 00:00:00\n",
      "affected_items [  75  325  585 1548 2412 2804 2847 2895 4072 4443 4908 5098 5315 5340\n",
      " 5410 6454 6498 6938 7205 7213]\n",
      "75\n",
      "unaffected_items [ 366  944 1110 1414 1935 1962 2697 2755 3532 3720 4078 4130 4298 5030\n",
      " 5500 5802 6264 6426 6941 7103]\n",
      "366\n",
      "Gurobi Optimizer version 9.0.1 build v9.0.1rc0 (mac64)\n",
      "Optimize a model with 0 rows, 19 columns and 0 nonzeros\n",
      "Model fingerprint: 0x4c628eb1\n",
      "Coefficient statistics:\n",
      "  Matrix range     [0e+00, 0e+00]\n",
      "  Objective range  [2e+01, 2e+03]\n",
      "  Bounds range     [1e+00, 1e+00]\n",
      "  RHS range        [0e+00, 0e+00]\n",
      "Presolve removed 0 rows and 19 columns\n",
      "Presolve time: 0.00s\n",
      "Presolve: All rows and columns removed\n",
      "Iteration    Objective       Primal Inf.    Dual Inf.      Time\n",
      "       0    1.4272983e+04   0.000000e+00   0.000000e+00      0s\n",
      "\n",
      "Solved in 0 iterations and 0.01 seconds\n",
      "Optimal objective  1.427298307e+04\n",
      "Elapsed: 00:00:00\n",
      "affected_items [  75  325  585 1548 2412 2804 2847 2895 4072 4443 4908 5098 5315 5340\n",
      " 5410 6454 6498 6938 7205 7213]\n",
      "75\n",
      "unaffected_items [ 366  944 1110 1414 1935 1962 2697 2755 3532 3720 4078 4130 4298 5030\n",
      " 5500 5802 6264 6426 6941 7103]\n",
      "366\n",
      "Gurobi Optimizer version 9.0.1 build v9.0.1rc0 (mac64)\n",
      "Optimize a model with 0 rows, 20 columns and 0 nonzeros\n",
      "Model fingerprint: 0x1dc7371d\n",
      "Coefficient statistics:\n",
      "  Matrix range     [0e+00, 0e+00]\n",
      "  Objective range  [2e+01, 2e+03]\n",
      "  Bounds range     [1e+00, 1e+00]\n",
      "  RHS range        [0e+00, 0e+00]\n",
      "Presolve removed 0 rows and 20 columns\n",
      "Presolve time: 0.00s\n",
      "Presolve: All rows and columns removed\n",
      "Iteration    Objective       Primal Inf.    Dual Inf.      Time\n",
      "       0    1.4623725e+04   0.000000e+00   0.000000e+00      0s\n",
      "\n",
      "Solved in 0 iterations and 0.01 seconds\n",
      "Optimal objective  1.462372486e+04\n",
      "Elapsed: 00:00:00\n",
      "affected_items [  46  635  797 1107 1985 2906 2975 3183 3185 3244 3347 3699 3883 3889\n",
      " 4358 4940 5639 5870 6081 6660]\n",
      "46\n",
      "unaffected_items [ 870 1061 1527 1940 2320 2489 2525 2882 3147 3260 3335 3337 3997 4673\n",
      " 4758 4895 4901 5558 6568 7056]\n",
      "870\n",
      "Gurobi Optimizer version 9.0.1 build v9.0.1rc0 (mac64)\n",
      "Optimize a model with 0 rows, 1 columns and 0 nonzeros\n",
      "Model fingerprint: 0x2e91b817\n",
      "Coefficient statistics:\n",
      "  Matrix range     [0e+00, 0e+00]\n",
      "  Objective range  [1e+02, 1e+02]\n",
      "  Bounds range     [1e+00, 1e+00]\n",
      "  RHS range        [0e+00, 0e+00]\n",
      "Presolve removed 0 rows and 1 columns\n",
      "Presolve time: 0.00s\n",
      "Presolve: All rows and columns removed\n",
      "Iteration    Objective       Primal Inf.    Dual Inf.      Time\n",
      "       0    7.4166119e+01   0.000000e+00   0.000000e+00      0s\n",
      "\n",
      "Solved in 0 iterations and 0.01 seconds\n",
      "Optimal objective  7.416611950e+01\n",
      "Elapsed: 00:00:00\n",
      "affected_items [1548 1985 2729 2895 3377 3997 4786 4788 4848 5315 5340 5371 5763 5870\n",
      " 6004 6222 6454 6947 7137 7286]\n",
      "1548\n",
      "unaffected_items [ 378  831  922 1782 1787 1798 1999 2521 2717 2910 2921 3728 5005 5122\n",
      " 5150 5197 5970 6568 6773 7414]\n",
      "378\n",
      "Gurobi Optimizer version 9.0.1 build v9.0.1rc0 (mac64)\n",
      "Optimize a model with 0 rows, 2 columns and 0 nonzeros\n",
      "Model fingerprint: 0x8d465a44\n",
      "Coefficient statistics:\n",
      "  Matrix range     [0e+00, 0e+00]\n",
      "  Objective range  [2e+03, 3e+03]\n",
      "  Bounds range     [1e+00, 1e+00]\n",
      "  RHS range        [0e+00, 0e+00]\n",
      "Presolve removed 0 rows and 2 columns\n",
      "Presolve time: 0.00s\n",
      "Presolve: All rows and columns removed\n",
      "Iteration    Objective       Primal Inf.    Dual Inf.      Time\n",
      "       0    4.5011374e+03   0.000000e+00   0.000000e+00      0s\n",
      "\n",
      "Solved in 0 iterations and 0.01 seconds\n",
      "Optimal objective  4.501137417e+03\n",
      "Elapsed: 00:00:00\n",
      "affected_items [1548 1985 2895 3377 3997 4582 4786 4788 4848 5047 5315 5763 5985 6004\n",
      " 6222 6454 6582 6947 7137 7286]\n",
      "1548\n",
      "unaffected_items [ 486  831 1782 1798 1880 2521 2657 2717 2921 3728 4087 4305 4555 4835\n",
      " 5058 5150 5172 6571 6773 7201]\n",
      "486\n",
      "Gurobi Optimizer version 9.0.1 build v9.0.1rc0 (mac64)\n",
      "Optimize a model with 0 rows, 3 columns and 0 nonzeros\n",
      "Model fingerprint: 0x8e8cee75\n",
      "Coefficient statistics:\n",
      "  Matrix range     [0e+00, 0e+00]\n",
      "  Objective range  [6e+02, 3e+03]\n",
      "  Bounds range     [1e+00, 1e+00]\n",
      "  RHS range        [0e+00, 0e+00]\n",
      "Presolve removed 0 rows and 3 columns\n",
      "Presolve time: 0.01s\n",
      "Presolve: All rows and columns removed\n",
      "Iteration    Objective       Primal Inf.    Dual Inf.      Time\n",
      "       0    5.2616822e+03   0.000000e+00   0.000000e+00      0s\n",
      "\n",
      "Solved in 0 iterations and 0.01 seconds\n",
      "Optimal objective  5.261682205e+03\n",
      "Elapsed: 00:00:00\n",
      "affected_items [1548 1985 2446 2804 2895 2921 3377 3997 4582 4786 4788 5047 5315 5763\n",
      " 6222 6454 6582 6947 7137 7286]\n",
      "1548\n",
      "unaffected_items [ 486 1339 1782 1798 1880 2521 2657 2694 2717 3337 3728 4087 4387 4563\n",
      " 4835 5150 5172 6571 6773 7201]\n",
      "486\n",
      "Gurobi Optimizer version 9.0.1 build v9.0.1rc0 (mac64)\n",
      "Optimize a model with 0 rows, 4 columns and 0 nonzeros\n",
      "Model fingerprint: 0x48795e6c\n",
      "Coefficient statistics:\n",
      "  Matrix range     [0e+00, 0e+00]\n",
      "  Objective range  [4e+01, 3e+03]\n",
      "  Bounds range     [1e+00, 1e+00]\n",
      "  RHS range        [0e+00, 0e+00]\n",
      "Presolve removed 0 rows and 4 columns\n",
      "Presolve time: 0.00s\n",
      "Presolve: All rows and columns removed\n",
      "Iteration    Objective       Primal Inf.    Dual Inf.      Time\n",
      "       0    5.5807794e+03   0.000000e+00   0.000000e+00      0s\n",
      "\n",
      "Solved in 0 iterations and 0.01 seconds\n",
      "Optimal objective  5.580779422e+03\n",
      "Elapsed: 00:00:00\n",
      "affected_items [1548 1985 2804 2895 3377 3997 4091 4582 4786 4788 4848 5047 5108 5315\n",
      " 5763 6222 6454 6582 6947 7286]\n",
      "1548\n",
      "unaffected_items [ 486 1410 1782 1798 1896 2521 2694 3337 3728 4043 4087 4554 5968 6240\n",
      " 6571 6577 6970 7201 7352 7357]\n",
      "486\n",
      "Gurobi Optimizer version 9.0.1 build v9.0.1rc0 (mac64)\n",
      "Optimize a model with 0 rows, 5 columns and 0 nonzeros\n",
      "Model fingerprint: 0x406dafb5\n",
      "Coefficient statistics:\n",
      "  Matrix range     [0e+00, 0e+00]\n",
      "  Objective range  [2e+02, 3e+03]\n",
      "  Bounds range     [1e+00, 1e+00]\n",
      "  RHS range        [0e+00, 0e+00]\n",
      "Presolve removed 0 rows and 5 columns\n",
      "Presolve time: 0.00s\n",
      "Presolve: All rows and columns removed\n",
      "Iteration    Objective       Primal Inf.    Dual Inf.      Time\n",
      "       0    6.6386096e+03   0.000000e+00   0.000000e+00      0s\n",
      "\n",
      "Solved in 0 iterations and 0.01 seconds\n",
      "Optimal objective  6.638609564e+03\n",
      "Elapsed: 00:00:00\n",
      "affected_items [1406 1548 1985 2754 2804 2895 3997 4091 4582 4786 4788 5047 5315 5659\n",
      " 5870 6222 6454 6582 6947 7286]\n",
      "1406\n",
      "unaffected_items [  77  486 1122 1367 1782 1798 1896 2521 3728 3863 4087 4554 5478 6240\n",
      " 6571 6577 6970 7201 7352 7357]\n",
      "77\n",
      "Gurobi Optimizer version 9.0.1 build v9.0.1rc0 (mac64)\n"
     ]
    },
    {
     "name": "stdout",
     "output_type": "stream",
     "text": [
      "Optimize a model with 0 rows, 6 columns and 0 nonzeros\n",
      "Model fingerprint: 0xd0cb2e4e\n",
      "Coefficient statistics:\n",
      "  Matrix range     [0e+00, 0e+00]\n",
      "  Objective range  [1e+02, 3e+03]\n",
      "  Bounds range     [1e+00, 1e+00]\n",
      "  RHS range        [0e+00, 0e+00]\n",
      "Presolve removed 0 rows and 6 columns\n",
      "Presolve time: 0.00s\n",
      "Presolve: All rows and columns removed\n",
      "Iteration    Objective       Primal Inf.    Dual Inf.      Time\n",
      "       0    7.1692744e+03   0.000000e+00   0.000000e+00      0s\n",
      "\n",
      "Solved in 0 iterations and 0.01 seconds\n",
      "Optimal objective  7.169274418e+03\n",
      "Elapsed: 00:00:00\n",
      "affected_items [1406 1445 1548 1985 2446 2804 3997 4141 4582 4786 4848 5047 5315 5659\n",
      " 5870 6222 6454 6582 7137 7286]\n",
      "1406\n",
      "unaffected_items [  77 1122 1210 1300 1896 1980 2521 3863 4087 4360 4554 4824 5005 5478\n",
      " 6240 6571 6577 6673 7118 7357]\n",
      "77\n",
      "Gurobi Optimizer version 9.0.1 build v9.0.1rc0 (mac64)\n",
      "Optimize a model with 0 rows, 7 columns and 0 nonzeros\n",
      "Model fingerprint: 0xe0276fcc\n",
      "Coefficient statistics:\n",
      "  Matrix range     [0e+00, 0e+00]\n",
      "  Objective range  [5e+02, 2e+03]\n",
      "  Bounds range     [1e+00, 1e+00]\n",
      "  RHS range        [0e+00, 0e+00]\n",
      "Presolve removed 0 rows and 7 columns\n",
      "Presolve time: 0.00s\n",
      "Presolve: All rows and columns removed\n",
      "Iteration    Objective       Primal Inf.    Dual Inf.      Time\n",
      "       0    8.6124349e+03   0.000000e+00   0.000000e+00      0s\n",
      "\n",
      "Solved in 0 iterations and 0.01 seconds\n",
      "Optimal objective  8.612434947e+03\n",
      "Elapsed: 00:00:00\n",
      "affected_items [ 325  405  796 1406 1443 1548 2804 2895 3337 3997 4671 4786 4848 5047\n",
      " 5503 5659 5870 6222 6454 7286]\n",
      "325\n",
      "unaffected_items [  94 1122 1184 1210 1649 1896 1980 2406 3023 4087 4137 4472 4730 4824\n",
      " 5045 5198 5287 6240 6470 6787]\n",
      "94\n",
      "Gurobi Optimizer version 9.0.1 build v9.0.1rc0 (mac64)\n",
      "Optimize a model with 0 rows, 8 columns and 0 nonzeros\n",
      "Model fingerprint: 0xb0a63b79\n",
      "Coefficient statistics:\n",
      "  Matrix range     [0e+00, 0e+00]\n",
      "  Objective range  [1e+02, 3e+03]\n",
      "  Bounds range     [1e+00, 1e+00]\n",
      "  RHS range        [0e+00, 0e+00]\n",
      "Presolve removed 0 rows and 8 columns\n",
      "Presolve time: 0.00s\n",
      "Presolve: All rows and columns removed\n",
      "Iteration    Objective       Primal Inf.    Dual Inf.      Time\n",
      "       0    9.7982232e+03   0.000000e+00   0.000000e+00      0s\n",
      "\n",
      "Solved in 0 iterations and 0.01 seconds\n",
      "Optimal objective  9.798223237e+03\n",
      "Elapsed: 00:00:00\n",
      "affected_items [ 325  796 1443 1548 2754 2804 2895 3337 3739 3997 4141 4671 4786 4848\n",
      " 5503 5659 5870 6222 6454 7286]\n",
      "325\n",
      "unaffected_items [  94 1093 1122 1184 1649 1896 1980 2406 3081 4087 4137 4472 4824 5045\n",
      " 5198 5287 5308 6240 6470 6787]\n",
      "94\n",
      "Gurobi Optimizer version 9.0.1 build v9.0.1rc0 (mac64)\n",
      "Optimize a model with 0 rows, 9 columns and 0 nonzeros\n",
      "Model fingerprint: 0x085b5af0\n",
      "Coefficient statistics:\n",
      "  Matrix range     [0e+00, 0e+00]\n",
      "  Objective range  [1e+02, 3e+03]\n",
      "  Bounds range     [1e+00, 1e+00]\n",
      "  RHS range        [0e+00, 0e+00]\n",
      "Presolve removed 0 rows and 9 columns\n",
      "Presolve time: 0.00s\n",
      "Presolve: All rows and columns removed\n",
      "Iteration    Objective       Primal Inf.    Dual Inf.      Time\n",
      "       0    1.0202694e+04   0.000000e+00   0.000000e+00      0s\n",
      "\n",
      "Solved in 0 iterations and 0.01 seconds\n",
      "Optimal objective  1.020269441e+04\n",
      "Elapsed: 00:00:00\n",
      "affected_items [ 405  796 1445 1548 2754 2804 2895 2898 3347 3997 4141 4671 4786 4848\n",
      " 5503 5659 5870 6222 6454 7286]\n",
      "405\n",
      "unaffected_items [  94 1122 1184 1896 1980 2406 4087 4137 4255 4360 4472 4824 5154 5198\n",
      " 5285 5308 6240 6470 6787 7118]\n",
      "94\n",
      "Gurobi Optimizer version 9.0.1 build v9.0.1rc0 (mac64)\n",
      "Optimize a model with 0 rows, 10 columns and 0 nonzeros\n",
      "Model fingerprint: 0x13680894\n",
      "Coefficient statistics:\n",
      "  Matrix range     [0e+00, 0e+00]\n",
      "  Objective range  [2e+01, 3e+03]\n",
      "  Bounds range     [1e+00, 1e+00]\n",
      "  RHS range        [0e+00, 0e+00]\n",
      "Presolve removed 0 rows and 10 columns\n",
      "Presolve time: 0.00s\n",
      "Presolve: All rows and columns removed\n",
      "Iteration    Objective       Primal Inf.    Dual Inf.      Time\n",
      "       0    1.1468838e+04   0.000000e+00   0.000000e+00      0s\n",
      "\n",
      "Solved in 0 iterations and 0.01 seconds\n",
      "Optimal objective  1.146883838e+04\n",
      "Elapsed: 00:00:00\n",
      "affected_items [ 405  796 1445 1548 2804 2895 2898 3347 3997 4141 4671 4786 5047 5503\n",
      " 5659 6222 6454 6582 6947 7286]\n",
      "405\n",
      "unaffected_items [1122 1184 1980 2406 2438 2920 3023 4087 4137 4255 4360 4472 4824 4872\n",
      " 5045 5154 5198 6470 7118 7421]\n",
      "1122\n",
      "Gurobi Optimizer version 9.0.1 build v9.0.1rc0 (mac64)\n",
      "Optimize a model with 0 rows, 11 columns and 0 nonzeros\n",
      "Model fingerprint: 0x04728442\n",
      "Coefficient statistics:\n",
      "  Matrix range     [0e+00, 0e+00]\n",
      "  Objective range  [2e+02, 3e+03]\n",
      "  Bounds range     [1e+00, 1e+00]\n",
      "  RHS range        [0e+00, 0e+00]\n",
      "Presolve removed 0 rows and 11 columns\n",
      "Presolve time: 0.00s\n",
      "Presolve: All rows and columns removed\n",
      "Iteration    Objective       Primal Inf.    Dual Inf.      Time\n",
      "       0    1.1960019e+04   0.000000e+00   0.000000e+00      0s\n",
      "\n",
      "Solved in 0 iterations and 0.01 seconds\n",
      "Optimal objective  1.196001905e+04\n",
      "Elapsed: 00:00:00\n",
      "affected_items [ 405 1406 1445 1548 2804 2895 2898 3347 3997 4671 4786 4848 5047 5410\n",
      " 5659 5870 6222 6454 6582 7286]\n",
      "405\n",
      "unaffected_items [1980 2377 2406 2438 2920 3092 3181 4087 4137 4360 4472 4714 4824 4872\n",
      " 5045 5154 6470 6787 7118 7421]\n",
      "1980\n",
      "Gurobi Optimizer version 9.0.1 build v9.0.1rc0 (mac64)\n",
      "Optimize a model with 0 rows, 12 columns and 0 nonzeros\n",
      "Model fingerprint: 0x2c19fb0b\n",
      "Coefficient statistics:\n",
      "  Matrix range     [0e+00, 0e+00]\n",
      "  Objective range  [2e+02, 2e+03]\n",
      "  Bounds range     [1e+00, 1e+00]\n",
      "  RHS range        [0e+00, 0e+00]\n",
      "Presolve removed 0 rows and 12 columns\n",
      "Presolve time: 0.00s\n",
      "Presolve: All rows and columns removed\n",
      "Iteration    Objective       Primal Inf.    Dual Inf.      Time\n",
      "       0    1.2505817e+04   0.000000e+00   0.000000e+00      0s\n",
      "\n",
      "Solved in 0 iterations and 0.01 seconds\n",
      "Optimal objective  1.250581661e+04\n",
      "Elapsed: 00:00:00\n",
      "affected_items [  60  405 1406 1445 1548 1985 2754 2804 2898 3347 3997 4671 4786 4848\n",
      " 5410 5659 5870 6222 6454 6582]\n",
      "60\n",
      "unaffected_items [ 113 1210 1980 2377 2438 2920 3181 3566 4087 4137 4255 4360 4472 4714\n",
      " 5045 5198 6787 6948 7118 7421]\n",
      "113\n",
      "Gurobi Optimizer version 9.0.1 build v9.0.1rc0 (mac64)\n",
      "Optimize a model with 0 rows, 13 columns and 0 nonzeros\n",
      "Model fingerprint: 0xff8a4f22\n",
      "Coefficient statistics:\n",
      "  Matrix range     [0e+00, 0e+00]\n",
      "  Objective range  [1e+02, 2e+03]\n",
      "  Bounds range     [1e+00, 1e+00]\n",
      "  RHS range        [0e+00, 0e+00]\n",
      "Presolve removed 0 rows and 13 columns\n",
      "Presolve time: 0.00s\n",
      "Presolve: All rows and columns removed\n",
      "Iteration    Objective       Primal Inf.    Dual Inf.      Time\n",
      "       0    1.3100461e+04   0.000000e+00   0.000000e+00      0s\n",
      "\n",
      "Solved in 0 iterations and 0.01 seconds\n",
      "Optimal objective  1.310046092e+04\n",
      "Elapsed: 00:00:00\n",
      "affected_items [1406 1445 1548 1652 1985 2754 2804 2898 3347 3997 4671 4786 5315 5410\n",
      " 5659 5870 6222 6454 6582 6739]\n",
      "1406\n",
      "unaffected_items [ 412  609 1168 1184 1210 1525 2060 2169 2377 2920 3181 3566 5198 5287\n",
      " 6289 6787 6894 6948 7184 7421]\n",
      "412\n",
      "Gurobi Optimizer version 9.0.1 build v9.0.1rc0 (mac64)\n",
      "Optimize a model with 0 rows, 14 columns and 0 nonzeros\n",
      "Model fingerprint: 0xb1621ef2\n",
      "Coefficient statistics:\n",
      "  Matrix range     [0e+00, 0e+00]\n",
      "  Objective range  [2e+02, 2e+03]\n",
      "  Bounds range     [1e+00, 1e+00]\n",
      "  RHS range        [0e+00, 0e+00]\n",
      "Presolve removed 0 rows and 14 columns\n",
      "Presolve time: 0.00s\n",
      "Presolve: All rows and columns removed\n",
      "Iteration    Objective       Primal Inf.    Dual Inf.      Time\n",
      "       0    1.4887440e+04   0.000000e+00   0.000000e+00      0s\n",
      "\n",
      "Solved in 0 iterations and 0.01 seconds\n",
      "Optimal objective  1.488744037e+04\n",
      "Elapsed: 00:00:00\n",
      "affected_items [ 585  796 1406 1445 1548 1652 2754 3347 3997 4458 4786 4848 5047 5410\n",
      " 5659 5870 6222 6454 6582 6739]\n",
      "585\n",
      "unaffected_items [1168 1184 1525 2060 2377 2471 2920 3142 3146 3181 3566 3977 5198 6289\n",
      " 6894 7076 7184 7297 7362 7421]\n",
      "1168\n",
      "Gurobi Optimizer version 9.0.1 build v9.0.1rc0 (mac64)\n",
      "Optimize a model with 0 rows, 15 columns and 0 nonzeros\n",
      "Model fingerprint: 0x65ae4335\n",
      "Coefficient statistics:\n",
      "  Matrix range     [0e+00, 0e+00]\n",
      "  Objective range  [1e+02, 2e+03]\n",
      "  Bounds range     [1e+00, 1e+00]\n",
      "  RHS range        [0e+00, 0e+00]\n",
      "Presolve removed 0 rows and 15 columns\n",
      "Presolve time: 0.00s\n",
      "Presolve: All rows and columns removed\n",
      "Iteration    Objective       Primal Inf.    Dual Inf.      Time\n"
     ]
    },
    {
     "name": "stdout",
     "output_type": "stream",
     "text": [
      "       0    1.5456275e+04   0.000000e+00   0.000000e+00      0s\n",
      "\n",
      "Solved in 0 iterations and 0.01 seconds\n",
      "Optimal objective  1.545627521e+04\n",
      "Elapsed: 00:00:00\n",
      "affected_items [1406 1445 1548 1652 2754 2804 3347 3997 4458 4786 4848 5047 5315 5410\n",
      " 5659 5870 6222 6454 6582 6739]\n",
      "1406\n",
      "unaffected_items [ 231 1168 1184 1525 2060 2377 2471 2920 3142 3146 3181 3977 5198 6289\n",
      " 6894 7076 7184 7297 7362 7421]\n",
      "231\n",
      "Gurobi Optimizer version 9.0.1 build v9.0.1rc0 (mac64)\n",
      "Optimize a model with 0 rows, 16 columns and 0 nonzeros\n",
      "Model fingerprint: 0x75cf3941\n",
      "Coefficient statistics:\n",
      "  Matrix range     [0e+00, 0e+00]\n",
      "  Objective range  [9e+01, 2e+03]\n",
      "  Bounds range     [1e+00, 1e+00]\n",
      "  RHS range        [0e+00, 0e+00]\n",
      "Presolve removed 0 rows and 16 columns\n",
      "Presolve time: 0.00s\n",
      "Presolve: All rows and columns removed\n",
      "Iteration    Objective       Primal Inf.    Dual Inf.      Time\n",
      "       0    1.5685830e+04   0.000000e+00   0.000000e+00      0s\n",
      "\n",
      "Solved in 0 iterations and 0.00 seconds\n",
      "Optimal objective  1.568582990e+04\n",
      "Elapsed: 00:00:00\n",
      "affected_items [ 796 1406 1445 1548 1652 2804 3347 3997 4458 4786 4848 5047 5315 5410\n",
      " 5659 5870 6222 6454 6582 6739]\n",
      "796\n",
      "unaffected_items [ 231 1168 1184 2060 2377 2471 2920 3142 3146 3181 3977 5198 5381 6289\n",
      " 6894 6948 7076 7184 7297 7421]\n",
      "231\n",
      "Gurobi Optimizer version 9.0.1 build v9.0.1rc0 (mac64)\n",
      "Optimize a model with 0 rows, 17 columns and 0 nonzeros\n",
      "Model fingerprint: 0x2b264b53\n",
      "Coefficient statistics:\n",
      "  Matrix range     [0e+00, 0e+00]\n",
      "  Objective range  [1e+02, 2e+03]\n",
      "  Bounds range     [1e+00, 1e+00]\n",
      "  RHS range        [0e+00, 0e+00]\n",
      "Presolve removed 0 rows and 17 columns\n",
      "Presolve time: 0.00s\n",
      "Presolve: All rows and columns removed\n",
      "Iteration    Objective       Primal Inf.    Dual Inf.      Time\n",
      "       0    1.5958712e+04   0.000000e+00   0.000000e+00      0s\n",
      "\n",
      "Solved in 0 iterations and 0.01 seconds\n",
      "Optimal objective  1.595871220e+04\n",
      "Elapsed: 00:00:00\n",
      "affected_items [  60  585 1406 1445 1548 1652 2804 3347 3997 4458 4786 4848 5047 5410\n",
      " 5659 5870 6222 6454 6582 6739]\n",
      "60\n",
      "unaffected_items [ 231 1168 1184 2060 2377 2471 2920 3142 3146 3181 3977 5198 5381 6289\n",
      " 6894 6948 7076 7184 7297 7421]\n",
      "231\n",
      "Gurobi Optimizer version 9.0.1 build v9.0.1rc0 (mac64)\n",
      "Optimize a model with 0 rows, 18 columns and 0 nonzeros\n",
      "Model fingerprint: 0x4eff76da\n",
      "Coefficient statistics:\n",
      "  Matrix range     [0e+00, 0e+00]\n",
      "  Objective range  [1e+02, 2e+03]\n",
      "  Bounds range     [1e+00, 1e+00]\n",
      "  RHS range        [0e+00, 0e+00]\n",
      "Presolve removed 0 rows and 18 columns\n",
      "Presolve time: 0.00s\n",
      "Presolve: All rows and columns removed\n",
      "Iteration    Objective       Primal Inf.    Dual Inf.      Time\n",
      "       0    1.6106738e+04   0.000000e+00   0.000000e+00      0s\n",
      "\n",
      "Solved in 0 iterations and 0.01 seconds\n",
      "Optimal objective  1.610673774e+04\n",
      "Elapsed: 00:00:00\n",
      "affected_items [ 585 1288 1406 1445 1548 1652 2804 3347 3997 4458 4786 4848 5047 5410\n",
      " 5659 5870 6222 6454 6582 6739]\n",
      "585\n",
      "unaffected_items [ 231 1168 1184 2060 2377 2471 2920 3142 3146 3181 3388 3977 5198 5880\n",
      " 6289 6894 6948 7076 7184 7297]\n",
      "231\n",
      "Gurobi Optimizer version 9.0.1 build v9.0.1rc0 (mac64)\n",
      "Optimize a model with 0 rows, 19 columns and 0 nonzeros\n",
      "Model fingerprint: 0xcba3f438\n",
      "Coefficient statistics:\n",
      "  Matrix range     [0e+00, 0e+00]\n",
      "  Objective range  [1e+02, 2e+03]\n",
      "  Bounds range     [1e+00, 1e+00]\n",
      "  RHS range        [0e+00, 0e+00]\n",
      "Presolve removed 0 rows and 19 columns\n",
      "Presolve time: 0.00s\n",
      "Presolve: All rows and columns removed\n",
      "Iteration    Objective       Primal Inf.    Dual Inf.      Time\n",
      "       0    1.6315725e+04   0.000000e+00   0.000000e+00      0s\n",
      "\n",
      "Solved in 0 iterations and 0.01 seconds\n",
      "Optimal objective  1.631572522e+04\n",
      "Elapsed: 00:00:00\n",
      "affected_items [ 585 1288 1406 1445 1548 1652 2804 3347 3997 4458 4786 4848 5047 5410\n",
      " 5659 5870 6222 6454 6582 6739]\n",
      "585\n",
      "unaffected_items [ 231 1168 1184 2060 2377 2471 2920 3142 3146 3181 3977 3981 5198 5880\n",
      " 6289 6894 6948 7076 7184 7297]\n",
      "231\n",
      "Gurobi Optimizer version 9.0.1 build v9.0.1rc0 (mac64)\n",
      "Optimize a model with 0 rows, 20 columns and 0 nonzeros\n",
      "Model fingerprint: 0x90c1d72f\n",
      "Coefficient statistics:\n",
      "  Matrix range     [0e+00, 0e+00]\n",
      "  Objective range  [1e+02, 2e+03]\n",
      "  Bounds range     [1e+00, 1e+00]\n",
      "  RHS range        [0e+00, 0e+00]\n",
      "Presolve removed 0 rows and 20 columns\n",
      "Presolve time: 0.00s\n",
      "Presolve: All rows and columns removed\n",
      "Iteration    Objective       Primal Inf.    Dual Inf.      Time\n",
      "       0    1.6687472e+04   0.000000e+00   0.000000e+00      0s\n",
      "\n",
      "Solved in 0 iterations and 0.01 seconds\n",
      "Optimal objective  1.668747168e+04\n",
      "Elapsed: 00:00:00\n",
      "affected_items [ 870 1107 1940 2320 2525 2882 2906 2975 3147 3260 3699 4358 4673 4758\n",
      " 4895 4901 5558 5870 6568 7056]\n",
      "870\n",
      "unaffected_items [ 797 1161 1527 2474 2489 3294 3335 3337 3347 3584 3997 4606 4671 4835\n",
      " 5081 5254 5546 5639 6081 6472]\n",
      "797\n",
      "Gurobi Optimizer version 9.0.1 build v9.0.1rc0 (mac64)\n",
      "Optimize a model with 0 rows, 1 columns and 0 nonzeros\n",
      "Model fingerprint: 0xa30ee3d6\n",
      "Coefficient statistics:\n",
      "  Matrix range     [0e+00, 0e+00]\n",
      "  Objective range  [7e+01, 7e+01]\n",
      "  Bounds range     [1e+00, 1e+00]\n",
      "  RHS range        [0e+00, 0e+00]\n",
      "Presolve removed 0 rows and 1 columns\n",
      "Presolve time: 0.00s\n",
      "Presolve: All rows and columns removed\n",
      "Iteration    Objective       Primal Inf.    Dual Inf.      Time\n",
      "       0    1.5447811e+02   0.000000e+00   0.000000e+00      0s\n",
      "\n",
      "Solved in 0 iterations and 0.01 seconds\n",
      "Optimal objective  1.544781054e+02\n",
      "Elapsed: 00:00:00\n",
      "affected_items [  39   97  167 1295 2193 2460 2528 2569 3428 4034 4707 4799 4848 5286\n",
      " 5410 5498 5852 6323 6744 6947]\n",
      "39\n",
      "unaffected_items [ 486  826  922 1079 1392 1410 1798 2474 2534 2644 2693 3586 4474 4563\n",
      " 5150 5285 5441 6171 7010 7451]\n",
      "486\n",
      "Gurobi Optimizer version 9.0.1 build v9.0.1rc0 (mac64)\n",
      "Optimize a model with 0 rows, 2 columns and 0 nonzeros\n",
      "Model fingerprint: 0xf27851fc\n",
      "Coefficient statistics:\n",
      "  Matrix range     [0e+00, 0e+00]\n",
      "  Objective range  [4e+02, 2e+03]\n",
      "  Bounds range     [1e+00, 1e+00]\n",
      "  RHS range        [0e+00, 0e+00]\n",
      "Presolve removed 0 rows and 2 columns\n",
      "Presolve time: 0.01s\n",
      "Presolve: All rows and columns removed\n",
      "Iteration    Objective       Primal Inf.    Dual Inf.      Time\n",
      "       0    2.0285059e+03   0.000000e+00   0.000000e+00      0s\n",
      "\n",
      "Solved in 0 iterations and 0.01 seconds\n",
      "Optimal objective  2.028505870e+03\n",
      "Elapsed: 00:00:00\n",
      "affected_items [  97 1985 2528 3428 3772 4582 4786 4848 5286 5410 5498 5763 5852 6222\n",
      " 6454 6582 6744 6947 7137 7286]\n",
      "97\n",
      "unaffected_items [ 544  599 1367 1410 2534 3905 4221 4387 4563 4581 4828 5051 5101 5441\n",
      " 5615 5738 5773 6571 7142 7240]\n",
      "544\n",
      "Gurobi Optimizer version 9.0.1 build v9.0.1rc0 (mac64)\n",
      "Optimize a model with 0 rows, 3 columns and 0 nonzeros\n",
      "Model fingerprint: 0x52a297b7\n",
      "Coefficient statistics:\n",
      "  Matrix range     [0e+00, 0e+00]\n",
      "  Objective range  [4e+00, 2e+03]\n",
      "  Bounds range     [1e+00, 1e+00]\n",
      "  RHS range        [0e+00, 0e+00]\n",
      "Presolve removed 0 rows and 3 columns\n",
      "Presolve time: 0.00s\n",
      "Presolve: All rows and columns removed\n",
      "Iteration    Objective       Primal Inf.    Dual Inf.      Time\n",
      "       0    3.3101193e+03   0.000000e+00   0.000000e+00      0s\n",
      "\n",
      "Solved in 0 iterations and 0.01 seconds\n",
      "Optimal objective  3.310119268e+03\n",
      "Elapsed: 00:00:00\n",
      "affected_items [  97  796 1898 2364 2412 2847 3428 4786 4848 4874 5098 5410 5725 5763\n",
      " 5852 6454 6498 6634 6744 7213]\n",
      "97\n",
      "unaffected_items [ 484 1172 1525 1743 1980 2267 2438 2534 2845 2927 3611 4563 5051 5058\n",
      " 5738 5773 5856 6571 6608 7240]\n",
      "484\n",
      "Gurobi Optimizer version 9.0.1 build v9.0.1rc0 (mac64)\n",
      "Optimize a model with 0 rows, 4 columns and 0 nonzeros\n",
      "Model fingerprint: 0x6bc83acd\n",
      "Coefficient statistics:\n",
      "  Matrix range     [0e+00, 0e+00]\n",
      "  Objective range  [5e+01, 3e+03]\n",
      "  Bounds range     [1e+00, 1e+00]\n",
      "  RHS range        [0e+00, 0e+00]\n",
      "Presolve removed 0 rows and 4 columns\n",
      "Presolve time: 0.00s\n",
      "Presolve: All rows and columns removed\n",
      "Iteration    Objective       Primal Inf.    Dual Inf.      Time\n",
      "       0    4.8312478e+03   0.000000e+00   0.000000e+00      0s\n",
      "\n",
      "Solved in 0 iterations and 0.01 seconds\n",
      "Optimal objective  4.831247770e+03\n",
      "Elapsed: 00:00:00\n",
      "affected_items [  97 1522 1898 2364 2412 2729 3428 4037 4443 4848 4874 5098 5410 5763\n",
      " 5852 6353 6498 6634 6744 7213]\n",
      "97\n",
      "unaffected_items [ 484  554  822 1172 1743 1980 2438 2497 2534 2845 3286 3611 4563 5051\n",
      " 5058 5738 5773 5856 6608 7240]\n",
      "484\n",
      "Gurobi Optimizer version 9.0.1 build v9.0.1rc0 (mac64)\n"
     ]
    },
    {
     "name": "stdout",
     "output_type": "stream",
     "text": [
      "Optimize a model with 0 rows, 5 columns and 0 nonzeros\n",
      "Model fingerprint: 0x721cd737\n",
      "Coefficient statistics:\n",
      "  Matrix range     [0e+00, 0e+00]\n",
      "  Objective range  [8e+01, 3e+03]\n",
      "  Bounds range     [1e+00, 1e+00]\n",
      "  RHS range        [0e+00, 0e+00]\n",
      "Presolve removed 0 rows and 5 columns\n",
      "Presolve time: 0.00s\n",
      "Presolve: All rows and columns removed\n",
      "Iteration    Objective       Primal Inf.    Dual Inf.      Time\n",
      "       0    5.1656809e+03   0.000000e+00   0.000000e+00      0s\n",
      "\n",
      "Solved in 0 iterations and 0.01 seconds\n",
      "Optimal objective  5.165680939e+03\n",
      "Elapsed: 00:00:00\n",
      "affected_items [  97 1522 1898 2364 2729 3428 4037 4443 4786 4848 5010 5098 5410 5730\n",
      " 5852 6167 6353 6634 6644 7213]\n",
      "97\n",
      "unaffected_items [ 484  822 1743 1779 1980 2438 2534 2845 3286 4078 4255 5327 5469 5500\n",
      " 5738 5773 5856 6608 7240 7243]\n",
      "484\n",
      "Gurobi Optimizer version 9.0.1 build v9.0.1rc0 (mac64)\n",
      "Optimize a model with 0 rows, 6 columns and 0 nonzeros\n",
      "Model fingerprint: 0x659eed0a\n",
      "Coefficient statistics:\n",
      "  Matrix range     [0e+00, 0e+00]\n",
      "  Objective range  [2e+02, 3e+03]\n",
      "  Bounds range     [1e+00, 1e+00]\n",
      "  RHS range        [0e+00, 0e+00]\n",
      "Presolve removed 0 rows and 6 columns\n",
      "Presolve time: 0.00s\n",
      "Presolve: All rows and columns removed\n",
      "Iteration    Objective       Primal Inf.    Dual Inf.      Time\n",
      "       0    5.5902309e+03   0.000000e+00   0.000000e+00      0s\n",
      "\n",
      "Solved in 0 iterations and 0.01 seconds\n",
      "Optimal objective  5.590230930e+03\n",
      "Elapsed: 00:00:00\n",
      "affected_items [  97 1522 2364 2729 3211 3428 3883 4443 4786 4848 5098 5410 5730 5852\n",
      " 6167 6353 6634 6644 7034 7286]\n",
      "97\n",
      "unaffected_items [ 484  554  822 1779 1980 2210 2438 2453 2534 3286 3312 3905 4616 5058\n",
      " 5065 5327 5738 5773 6193 7240]\n",
      "484\n",
      "Gurobi Optimizer version 9.0.1 build v9.0.1rc0 (mac64)\n",
      "Optimize a model with 0 rows, 7 columns and 0 nonzeros\n",
      "Model fingerprint: 0x65c80ab0\n",
      "Coefficient statistics:\n",
      "  Matrix range     [0e+00, 0e+00]\n",
      "  Objective range  [4e+02, 3e+03]\n",
      "  Bounds range     [1e+00, 1e+00]\n",
      "  RHS range        [0e+00, 0e+00]\n",
      "Presolve removed 0 rows and 7 columns\n",
      "Presolve time: 0.00s\n",
      "Presolve: All rows and columns removed\n",
      "Iteration    Objective       Primal Inf.    Dual Inf.      Time\n",
      "       0    6.6352886e+03   0.000000e+00   0.000000e+00      0s\n",
      "\n",
      "Solved in 0 iterations and 0.01 seconds\n",
      "Optimal objective  6.635288593e+03\n",
      "Elapsed: 00:00:00\n",
      "affected_items [  97 1522 1985 2157 2364 2729 3149 3211 3428 4443 4786 4848 5098 5763\n",
      " 5852 6454 6947 7034 7137 7286]\n",
      "97\n",
      "unaffected_items [ 484  553 1779 1782 1980 2210 3286 3312 4256 4616 5058 5065 5114 5327\n",
      " 5615 5773 6608 6971 7014 7240]\n",
      "484\n",
      "Gurobi Optimizer version 9.0.1 build v9.0.1rc0 (mac64)\n",
      "Optimize a model with 0 rows, 8 columns and 0 nonzeros\n",
      "Model fingerprint: 0xc8bc6596\n",
      "Coefficient statistics:\n",
      "  Matrix range     [0e+00, 0e+00]\n",
      "  Objective range  [1e+02, 2e+03]\n",
      "  Bounds range     [1e+00, 1e+00]\n",
      "  RHS range        [0e+00, 0e+00]\n",
      "Presolve removed 0 rows and 8 columns\n",
      "Presolve time: 0.00s\n",
      "Presolve: All rows and columns removed\n",
      "Iteration    Objective       Primal Inf.    Dual Inf.      Time\n",
      "       0    7.7769581e+03   0.000000e+00   0.000000e+00      0s\n",
      "\n",
      "Solved in 0 iterations and 0.01 seconds\n",
      "Optimal objective  7.776958078e+03\n",
      "Elapsed: 00:00:00\n",
      "affected_items [  97 1898 2446 2729 3211 4443 4786 4848 5098 5730 5763 5852 5985 6251\n",
      " 6353 6454 6947 7034 7137 7286]\n",
      "97\n",
      "unaffected_items [ 484  553  554 1779 1782 1980 2114 2195 2210 2453 3286 3312 4078 5058\n",
      " 5114 5327 5469 6608 7014 7240]\n",
      "484\n",
      "Gurobi Optimizer version 9.0.1 build v9.0.1rc0 (mac64)\n",
      "Optimize a model with 0 rows, 9 columns and 0 nonzeros\n",
      "Model fingerprint: 0x81ba315a\n",
      "Coefficient statistics:\n",
      "  Matrix range     [0e+00, 0e+00]\n",
      "  Objective range  [1e+02, 2e+03]\n",
      "  Bounds range     [1e+00, 1e+00]\n",
      "  RHS range        [0e+00, 0e+00]\n",
      "Presolve removed 0 rows and 9 columns\n",
      "Presolve time: 0.00s\n",
      "Presolve: All rows and columns removed\n",
      "Iteration    Objective       Primal Inf.    Dual Inf.      Time\n",
      "       0    8.7496209e+03   0.000000e+00   0.000000e+00      0s\n",
      "\n",
      "Solved in 0 iterations and 0.01 seconds\n",
      "Optimal objective  8.749620911e+03\n",
      "Elapsed: 00:00:00\n",
      "affected_items [  97  796 1898 2446 2729 3211 4443 4786 4848 5098 5730 5763 5852 5985\n",
      " 6251 6353 6454 7034 7137 7286]\n",
      "97\n",
      "unaffected_items [ 484  553 1782 1980 2114 2195 2210 2438 2453 3286 3312 4078 4256 5058\n",
      " 5114 5327 5469 6608 7014 7240]\n",
      "484\n",
      "Gurobi Optimizer version 9.0.1 build v9.0.1rc0 (mac64)\n",
      "Optimize a model with 0 rows, 10 columns and 0 nonzeros\n",
      "Model fingerprint: 0xce24f23a\n",
      "Coefficient statistics:\n",
      "  Matrix range     [0e+00, 0e+00]\n",
      "  Objective range  [2e+02, 2e+03]\n",
      "  Bounds range     [1e+00, 1e+00]\n",
      "  RHS range        [0e+00, 0e+00]\n",
      "Presolve removed 0 rows and 10 columns\n",
      "Presolve time: 0.00s\n",
      "Presolve: All rows and columns removed\n",
      "Iteration    Objective       Primal Inf.    Dual Inf.      Time\n",
      "       0    9.6455334e+03   0.000000e+00   0.000000e+00      0s\n",
      "\n",
      "Solved in 0 iterations and 0.01 seconds\n",
      "Optimal objective  9.645533396e+03\n",
      "Elapsed: 00:00:00\n",
      "affected_items [  97 2729 2804 3211 4443 4786 4848 5098 5131 5730 5763 5852 5985 6167\n",
      " 6251 6454 6776 7034 7137 7286]\n",
      "97\n",
      "unaffected_items [ 484 1782 1980 2195 2210 2453 3286 3312 3852 4078 4256 4776 5051 5058\n",
      " 5114 5327 5469 5615 7014 7240]\n",
      "484\n",
      "Gurobi Optimizer version 9.0.1 build v9.0.1rc0 (mac64)\n",
      "Optimize a model with 0 rows, 11 columns and 0 nonzeros\n",
      "Model fingerprint: 0x689b0e1b\n",
      "Coefficient statistics:\n",
      "  Matrix range     [0e+00, 0e+00]\n",
      "  Objective range  [9e+00, 2e+03]\n",
      "  Bounds range     [1e+00, 1e+00]\n",
      "  RHS range        [0e+00, 0e+00]\n",
      "Presolve removed 0 rows and 11 columns\n",
      "Presolve time: 0.00s\n",
      "Presolve: All rows and columns removed\n",
      "Iteration    Objective       Primal Inf.    Dual Inf.      Time\n",
      "       0    1.0148749e+04   0.000000e+00   0.000000e+00      0s\n",
      "\n",
      "Solved in 0 iterations and 0.01 seconds\n",
      "Optimal objective  1.014874919e+04\n",
      "Elapsed: 00:00:00\n",
      "affected_items [  97 2729 2804 3211 4443 4786 4848 5098 5131 5371 5730 5763 5852 5985\n",
      " 6167 6251 6454 6776 7034 7286]\n",
      "97\n",
      "unaffected_items [ 484 1782 1980 2195 2210 2453 3286 3312 3852 4078 4776 5051 5058 5114\n",
      " 5327 5469 5615 6971 7014 7240]\n",
      "484\n",
      "Gurobi Optimizer version 9.0.1 build v9.0.1rc0 (mac64)\n",
      "Optimize a model with 0 rows, 12 columns and 0 nonzeros\n",
      "Model fingerprint: 0xbca0c5ca\n",
      "Coefficient statistics:\n",
      "  Matrix range     [0e+00, 0e+00]\n",
      "  Objective range  [3e+01, 2e+03]\n",
      "  Bounds range     [1e+00, 1e+00]\n",
      "  RHS range        [0e+00, 0e+00]\n",
      "Presolve removed 0 rows and 12 columns\n",
      "Presolve time: 0.00s\n",
      "Presolve: All rows and columns removed\n",
      "Iteration    Objective       Primal Inf.    Dual Inf.      Time\n",
      "       0    1.0561946e+04   0.000000e+00   0.000000e+00      0s\n",
      "\n",
      "Solved in 0 iterations and 0.01 seconds\n",
      "Optimal objective  1.056194607e+04\n",
      "Elapsed: 00:00:00\n",
      "affected_items [  97 1107 2729 2804 3211 4443 4786 4848 5131 5371 5730 5763 5985 6004\n",
      " 6251 6454 6776 6947 7034 7286]\n",
      "97\n",
      "unaffected_items [ 484  553 1980 2195 2210 2453 3286 3312 4256 4640 4776 4824 5058 5114\n",
      " 5327 5615 6117 6971 7014 7240]\n",
      "484\n",
      "Gurobi Optimizer version 9.0.1 build v9.0.1rc0 (mac64)\n",
      "Optimize a model with 0 rows, 13 columns and 0 nonzeros\n",
      "Model fingerprint: 0x465ee8b0\n",
      "Coefficient statistics:\n",
      "  Matrix range     [0e+00, 0e+00]\n",
      "  Objective range  [4e+01, 3e+03]\n",
      "  Bounds range     [1e+00, 1e+00]\n",
      "  RHS range        [0e+00, 0e+00]\n",
      "Presolve removed 0 rows and 13 columns\n",
      "Presolve time: 0.00s\n",
      "Presolve: All rows and columns removed\n",
      "Iteration    Objective       Primal Inf.    Dual Inf.      Time\n",
      "       0    1.1129025e+04   0.000000e+00   0.000000e+00      0s\n",
      "\n",
      "Solved in 0 iterations and 0.01 seconds\n",
      "Optimal objective  1.112902504e+04\n",
      "Elapsed: 00:00:00\n",
      "affected_items [1107 2446 2729 2804 3211 3377 3499 4443 4786 5131 5371 5763 5985 6004\n",
      " 6251 6299 6776 7034 7137 7286]\n",
      "1107\n",
      "unaffected_items [ 318  484  516  553 1923 1980 2195 2210 3312 3905 4256 4640 4740 4776\n",
      " 4824 5058 5114 6117 6971 7014]\n",
      "318\n",
      "Gurobi Optimizer version 9.0.1 build v9.0.1rc0 (mac64)\n",
      "Optimize a model with 0 rows, 14 columns and 0 nonzeros\n",
      "Model fingerprint: 0xa0dc6c07\n",
      "Coefficient statistics:\n",
      "  Matrix range     [0e+00, 0e+00]\n",
      "  Objective range  [3e+01, 2e+03]\n",
      "  Bounds range     [1e+00, 1e+00]\n",
      "  RHS range        [0e+00, 0e+00]\n",
      "Presolve removed 0 rows and 14 columns\n",
      "Presolve time: 0.00s\n",
      "Presolve: All rows and columns removed\n",
      "Iteration    Objective       Primal Inf.    Dual Inf.      Time\n"
     ]
    },
    {
     "name": "stdout",
     "output_type": "stream",
     "text": [
      "       0    1.2694761e+04   0.000000e+00   0.000000e+00      0s\n",
      "\n",
      "Solved in 0 iterations and 0.01 seconds\n",
      "Optimal objective  1.269476108e+04\n",
      "Elapsed: 00:00:00\n",
      "affected_items [1107 2188 2446 2729 2804 2916 3499 4443 4786 5131 5371 5626 5763 5985\n",
      " 6004 6251 6299 6353 6776 7034]\n",
      "1107\n",
      "unaffected_items [ 318  484  516  554 1923 1980 3242 3312 3669 3905 4640 4740 4776 4824\n",
      " 4830 5058 6117 6971 6992 7014]\n",
      "318\n",
      "Gurobi Optimizer version 9.0.1 build v9.0.1rc0 (mac64)\n",
      "Optimize a model with 0 rows, 15 columns and 0 nonzeros\n",
      "Model fingerprint: 0x6ad75b33\n",
      "Coefficient statistics:\n",
      "  Matrix range     [0e+00, 0e+00]\n",
      "  Objective range  [1e+02, 3e+03]\n",
      "  Bounds range     [1e+00, 1e+00]\n",
      "  RHS range        [0e+00, 0e+00]\n",
      "Presolve removed 0 rows and 15 columns\n",
      "Presolve time: 0.01s\n",
      "Presolve: All rows and columns removed\n",
      "Iteration    Objective       Primal Inf.    Dual Inf.      Time\n",
      "       0    1.3263130e+04   0.000000e+00   0.000000e+00      0s\n",
      "\n",
      "Solved in 0 iterations and 0.01 seconds\n",
      "Optimal objective  1.326313027e+04\n",
      "Elapsed: 00:00:00\n",
      "affected_items [1107 2188 2446 2729 2804 3499 4443 4786 5131 5340 5371 5626 5763 5985\n",
      " 6004 6251 6299 6353 6776 7034]\n",
      "1107\n",
      "unaffected_items [ 318  484  516  554 1923 1980 2114 3242 3312 3669 3905 4640 4740 4824\n",
      " 4830 5058 6117 6971 6992 7014]\n",
      "318\n",
      "Gurobi Optimizer version 9.0.1 build v9.0.1rc0 (mac64)\n",
      "Optimize a model with 0 rows, 16 columns and 0 nonzeros\n",
      "Model fingerprint: 0x38569d81\n",
      "Coefficient statistics:\n",
      "  Matrix range     [0e+00, 0e+00]\n",
      "  Objective range  [9e+01, 3e+03]\n",
      "  Bounds range     [1e+00, 1e+00]\n",
      "  RHS range        [0e+00, 0e+00]\n",
      "Presolve removed 0 rows and 16 columns\n",
      "Presolve time: 0.01s\n",
      "Presolve: All rows and columns removed\n",
      "Iteration    Objective       Primal Inf.    Dual Inf.      Time\n",
      "       0    1.3381836e+04   0.000000e+00   0.000000e+00      0s\n",
      "\n",
      "Solved in 0 iterations and 0.01 seconds\n",
      "Optimal objective  1.338183608e+04\n",
      "Elapsed: 00:00:00\n",
      "affected_items [1107 2188 2446 2729 2804 3499 4443 4599 4786 5131 5371 5626 5763 5985\n",
      " 6004 6251 6299 6353 6776 7034]\n",
      "1107\n",
      "unaffected_items [ 318  484  516  554 1923 1980 2114 3242 3312 3669 3905 4740 4824 4830\n",
      " 5058 5779 6117 6971 6992 7014]\n",
      "318\n",
      "Gurobi Optimizer version 9.0.1 build v9.0.1rc0 (mac64)\n",
      "Optimize a model with 0 rows, 17 columns and 0 nonzeros\n",
      "Model fingerprint: 0x886d9a2f\n",
      "Coefficient statistics:\n",
      "  Matrix range     [0e+00, 0e+00]\n",
      "  Objective range  [9e+01, 3e+03]\n",
      "  Bounds range     [1e+00, 1e+00]\n",
      "  RHS range        [0e+00, 0e+00]\n",
      "Presolve removed 0 rows and 17 columns\n",
      "Presolve time: 0.00s\n",
      "Presolve: All rows and columns removed\n",
      "Iteration    Objective       Primal Inf.    Dual Inf.      Time\n",
      "       0    1.3494731e+04   0.000000e+00   0.000000e+00      0s\n",
      "\n",
      "Solved in 0 iterations and 0.01 seconds\n",
      "Optimal objective  1.349473114e+04\n",
      "Elapsed: 00:00:00\n",
      "affected_items [1107 2188 2446 2729 2804 3499 4443 4599 5131 5340 5371 5626 5763 5985\n",
      " 6004 6251 6299 6353 6776 7034]\n",
      "1107\n",
      "unaffected_items [ 318  484  516  554 1923 1980 3242 3312 3669 3905 4153 4640 4740 4824\n",
      " 4830 5058 6117 6971 6992 7014]\n",
      "318\n",
      "Gurobi Optimizer version 9.0.1 build v9.0.1rc0 (mac64)\n",
      "Optimize a model with 0 rows, 18 columns and 0 nonzeros\n",
      "Model fingerprint: 0x0a9d9bb2\n",
      "Coefficient statistics:\n",
      "  Matrix range     [0e+00, 0e+00]\n",
      "  Objective range  [2e+01, 3e+03]\n",
      "  Bounds range     [1e+00, 1e+00]\n",
      "  RHS range        [0e+00, 0e+00]\n",
      "Presolve removed 0 rows and 18 columns\n",
      "Presolve time: 0.00s\n",
      "Presolve: All rows and columns removed\n",
      "Iteration    Objective       Primal Inf.    Dual Inf.      Time\n",
      "       0    1.3527113e+04   0.000000e+00   0.000000e+00      0s\n",
      "\n",
      "Solved in 0 iterations and 0.01 seconds\n",
      "Optimal objective  1.352711286e+04\n",
      "Elapsed: 00:00:00\n",
      "affected_items [1107 2188 2446 2729 2804 3499 4443 4599 4786 5131 5340 5371 5626 5763\n",
      " 6004 6251 6299 6353 6776 7034]\n",
      "1107\n",
      "unaffected_items [ 318  484  516  554 1923 1980 2195 3242 3312 3669 3905 4153 4740 4824\n",
      " 4830 5058 6117 6971 6992 7014]\n",
      "318\n",
      "Gurobi Optimizer version 9.0.1 build v9.0.1rc0 (mac64)\n",
      "Optimize a model with 0 rows, 19 columns and 0 nonzeros\n",
      "Model fingerprint: 0xbd06b993\n",
      "Coefficient statistics:\n",
      "  Matrix range     [0e+00, 0e+00]\n",
      "  Objective range  [3e+01, 3e+03]\n",
      "  Bounds range     [1e+00, 1e+00]\n",
      "  RHS range        [0e+00, 0e+00]\n",
      "Presolve removed 0 rows and 19 columns\n",
      "Presolve time: 0.00s\n",
      "Presolve: All rows and columns removed\n",
      "Iteration    Objective       Primal Inf.    Dual Inf.      Time\n",
      "       0    1.3561480e+04   0.000000e+00   0.000000e+00      0s\n",
      "\n",
      "Solved in 0 iterations and 0.01 seconds\n",
      "Optimal objective  1.356147994e+04\n",
      "Elapsed: 00:00:00\n",
      "affected_items [1107 2188 2446 2729 2804 3499 4443 4599 5131 5340 5371 5626 5763 5985\n",
      " 6004 6251 6299 6353 6776 7034]\n",
      "1107\n",
      "unaffected_items [ 318  484  516  554 1923 1980 3242 3312 3669 3905 4153 4640 4740 4824\n",
      " 4830 5058 6117 6971 6992 7014]\n",
      "318\n",
      "Gurobi Optimizer version 9.0.1 build v9.0.1rc0 (mac64)\n",
      "Optimize a model with 0 rows, 20 columns and 0 nonzeros\n",
      "Model fingerprint: 0xab0d3086\n",
      "Coefficient statistics:\n",
      "  Matrix range     [0e+00, 0e+00]\n",
      "  Objective range  [2e+01, 3e+03]\n",
      "  Bounds range     [1e+00, 1e+00]\n",
      "  RHS range        [0e+00, 0e+00]\n",
      "Presolve removed 0 rows and 20 columns\n",
      "Presolve time: 0.00s\n",
      "Presolve: All rows and columns removed\n",
      "Iteration    Objective       Primal Inf.    Dual Inf.      Time\n",
      "       0    1.3748955e+04   0.000000e+00   0.000000e+00      0s\n",
      "\n",
      "Solved in 0 iterations and 0.01 seconds\n",
      "Optimal objective  1.374895479e+04\n",
      "Elapsed: 00:00:00\n",
      "affected_items [ 870 1061 1940 2525 2906 2975 3183 3213 3244 3347 3699 3883 3889 4358\n",
      " 4673 4901 4940 5639 5870 6660]\n",
      "870\n",
      "unaffected_items [  46  635 1107 1527 2320 2489 2882 3147 3260 3335 3337 3997 4758 4835\n",
      " 4895 5081 5558 6472 6568 7056]\n",
      "46\n",
      "Gurobi Optimizer version 9.0.1 build v9.0.1rc0 (mac64)\n",
      "Optimize a model with 0 rows, 1 columns and 0 nonzeros\n",
      "Model fingerprint: 0x9f7a2965\n",
      "Coefficient statistics:\n",
      "  Matrix range     [0e+00, 0e+00]\n",
      "  Objective range  [1e+02, 1e+02]\n",
      "  Bounds range     [1e+00, 1e+00]\n",
      "  RHS range        [0e+00, 0e+00]\n",
      "Presolve removed 0 rows and 1 columns\n",
      "Presolve time: 0.00s\n",
      "Presolve: All rows and columns removed\n",
      "Iteration    Objective       Primal Inf.    Dual Inf.      Time\n",
      "       0    1.4683328e+02   0.000000e+00   0.000000e+00      0s\n",
      "\n",
      "Solved in 0 iterations and 0.01 seconds\n",
      "Optimal objective  1.468332821e+02\n",
      "Elapsed: 00:00:00\n",
      "affected_items [  97  167  376 1407 2412 2569 3368 5041 5286 5317 5371 5626 5972 6131\n",
      " 6353 6519 6735 6947 7137 7427]\n",
      "97\n",
      "unaffected_items [ 123  922 1410 1710 1787 1798 1999 2129 2534 2693 3728 3905 4369 4474\n",
      " 4581 5066 5122 5150 6294 7010]\n",
      "123\n",
      "Gurobi Optimizer version 9.0.1 build v9.0.1rc0 (mac64)\n",
      "Optimize a model with 0 rows, 2 columns and 0 nonzeros\n",
      "Model fingerprint: 0x79ed5d52\n",
      "Coefficient statistics:\n",
      "  Matrix range     [0e+00, 0e+00]\n",
      "  Objective range  [1e+02, 5e+02]\n",
      "  Bounds range     [1e+00, 1e+00]\n",
      "  RHS range        [0e+00, 0e+00]\n",
      "Presolve removed 0 rows and 2 columns\n",
      "Presolve time: 0.01s\n",
      "Presolve: All rows and columns removed\n",
      "Iteration    Objective       Primal Inf.    Dual Inf.      Time\n",
      "       0    8.8419306e+02   0.000000e+00   0.000000e+00      0s\n",
      "\n",
      "Solved in 0 iterations and 0.01 seconds\n",
      "Optimal objective  8.841930587e+02\n",
      "Elapsed: 00:00:00\n",
      "affected_items [  75   97 1522 1548 1985 2154 3428 3772 4091 4786 4788 4874 5108 5763\n",
      " 6222 6454 6582 6947 7137 7286]\n",
      "75\n",
      "unaffected_items [ 486  544 1798 1880 2657 2717 2921 3728 3905 4087 4387 4555 4581 4835\n",
      " 5051 5150 5344 6181 6334 7201]\n",
      "486\n",
      "Gurobi Optimizer version 9.0.1 build v9.0.1rc0 (mac64)\n",
      "Optimize a model with 0 rows, 3 columns and 0 nonzeros\n",
      "Model fingerprint: 0x1292438a\n",
      "Coefficient statistics:\n",
      "  Matrix range     [0e+00, 0e+00]\n",
      "  Objective range  [1e+02, 2e+03]\n",
      "  Bounds range     [1e+00, 1e+00]\n",
      "  RHS range        [0e+00, 0e+00]\n",
      "Presolve removed 0 rows and 3 columns\n",
      "Presolve time: 0.00s\n",
      "Presolve: All rows and columns removed\n",
      "Iteration    Objective       Primal Inf.    Dual Inf.      Time\n",
      "       0    2.2264804e+03   0.000000e+00   0.000000e+00      0s\n",
      "\n",
      "Solved in 0 iterations and 0.01 seconds\n",
      "Optimal objective  2.226480407e+03\n",
      "Elapsed: 00:00:00\n",
      "affected_items [  75 1548 2446 3259 3772 3997 4091 4582 4786 5047 5108 5315 5340 5763\n",
      " 6222 6454 6582 6947 7137 7286]\n",
      "75\n",
      "unaffected_items [ 486  544  867 1339 1410 1798 1880 2657 2717 2921 3337 3728 4087 4387\n",
      " 4563 4835 5051 5150 6181 7201]\n",
      "486\n",
      "Gurobi Optimizer version 9.0.1 build v9.0.1rc0 (mac64)\n"
     ]
    },
    {
     "name": "stdout",
     "output_type": "stream",
     "text": [
      "Optimize a model with 0 rows, 4 columns and 0 nonzeros\n",
      "Model fingerprint: 0x3efdda51\n",
      "Coefficient statistics:\n",
      "  Matrix range     [0e+00, 0e+00]\n",
      "  Objective range  [2e+01, 2e+03]\n",
      "  Bounds range     [1e+00, 1e+00]\n",
      "  RHS range        [0e+00, 0e+00]\n",
      "Presolve removed 0 rows and 4 columns\n",
      "Presolve time: 0.01s\n",
      "Presolve: All rows and columns removed\n",
      "Iteration    Objective       Primal Inf.    Dual Inf.      Time\n",
      "       0    2.5982173e+03   0.000000e+00   0.000000e+00      0s\n",
      "\n",
      "Solved in 0 iterations and 0.01 seconds\n",
      "Optimal objective  2.598217319e+03\n",
      "Elapsed: 00:00:00\n",
      "affected_items [  75 1340 1548 1985 2446 2804 2895 3997 4786 5047 5081 5315 5340 5410\n",
      " 5498 5763 6222 6454 6582 7286]\n",
      "75\n",
      "unaffected_items [ 486 1367 1410 1710 1787 1798 1880 2433 2644 2657 2694 2921 3337 3683\n",
      " 3728 4087 4563 4835 5150 6773]\n",
      "486\n",
      "Gurobi Optimizer version 9.0.1 build v9.0.1rc0 (mac64)\n",
      "Optimize a model with 0 rows, 5 columns and 0 nonzeros\n",
      "Model fingerprint: 0x14b0f413\n",
      "Coefficient statistics:\n",
      "  Matrix range     [0e+00, 0e+00]\n",
      "  Objective range  [5e+01, 2e+03]\n",
      "  Bounds range     [1e+00, 1e+00]\n",
      "  RHS range        [0e+00, 0e+00]\n",
      "Presolve removed 0 rows and 5 columns\n",
      "Presolve time: 0.00s\n",
      "Presolve: All rows and columns removed\n",
      "Iteration    Objective       Primal Inf.    Dual Inf.      Time\n",
      "       0    3.0377876e+03   0.000000e+00   0.000000e+00      0s\n",
      "\n",
      "Solved in 0 iterations and 0.01 seconds\n",
      "Optimal objective  3.037787611e+03\n",
      "Elapsed: 00:00:00\n",
      "affected_items [  75 1340 1548 1985 2804 2895 3997 4786 5047 5081 5315 5340 5410 5498\n",
      " 5763 6222 6454 6582 6947 7286]\n",
      "75\n",
      "unaffected_items [ 486 1410 1787 1798 1880 2433 2644 2657 2694 2921 3337 3683 4087 4563\n",
      " 4824 4835 5150 6773 6970 7201]\n",
      "486\n",
      "Gurobi Optimizer version 9.0.1 build v9.0.1rc0 (mac64)\n",
      "Optimize a model with 0 rows, 6 columns and 0 nonzeros\n",
      "Model fingerprint: 0x9880cb42\n",
      "Coefficient statistics:\n",
      "  Matrix range     [0e+00, 0e+00]\n",
      "  Objective range  [5e+01, 2e+03]\n",
      "  Bounds range     [1e+00, 1e+00]\n",
      "  RHS range        [0e+00, 0e+00]\n",
      "Presolve removed 0 rows and 6 columns\n",
      "Presolve time: 0.00s\n",
      "Presolve: All rows and columns removed\n",
      "Iteration    Objective       Primal Inf.    Dual Inf.      Time\n",
      "       0    3.0908599e+03   0.000000e+00   0.000000e+00      0s\n",
      "\n",
      "Solved in 0 iterations and 0.01 seconds\n",
      "Optimal objective  3.090859911e+03\n",
      "Elapsed: 00:00:00\n",
      "affected_items [  75 1340 1548 1985 2446 2804 2895 3997 4786 5047 5081 5315 5340 5410\n",
      " 5498 5763 6222 6454 6582 7286]\n",
      "75\n",
      "unaffected_items [ 486 1665 1710 1787 1798 1880 2433 2644 2657 2694 2921 3337 4087 4563\n",
      " 4824 4835 5150 5546 6970 7201]\n",
      "486\n",
      "Gurobi Optimizer version 9.0.1 build v9.0.1rc0 (mac64)\n",
      "Optimize a model with 0 rows, 7 columns and 0 nonzeros\n",
      "Model fingerprint: 0x63012dea\n",
      "Coefficient statistics:\n",
      "  Matrix range     [0e+00, 0e+00]\n",
      "  Objective range  [5e+01, 2e+03]\n",
      "  Bounds range     [1e+00, 1e+00]\n",
      "  RHS range        [0e+00, 0e+00]\n",
      "Presolve removed 0 rows and 7 columns\n",
      "Presolve time: 0.00s\n",
      "Presolve: All rows and columns removed\n",
      "Iteration    Objective       Primal Inf.    Dual Inf.      Time\n",
      "       0    3.4163545e+03   0.000000e+00   0.000000e+00      0s\n",
      "\n",
      "Solved in 0 iterations and 0.01 seconds\n",
      "Optimal objective  3.416354506e+03\n",
      "Elapsed: 00:00:00\n",
      "affected_items [  75 1340 1445 1652 1985 2898 3428 3997 4786 5047 5315 5410 5498 5763\n",
      " 5870 6222 6454 6582 6739 7137]\n",
      "75\n",
      "unaffected_items [1339 1563 1798 1880 2694 2708 2717 3406 3611 4087 4360 4692 4824 4870\n",
      " 6181 6240 6834 6983 6994 7201]\n",
      "1339\n",
      "Gurobi Optimizer version 9.0.1 build v9.0.1rc0 (mac64)\n",
      "Optimize a model with 0 rows, 8 columns and 0 nonzeros\n",
      "Model fingerprint: 0x6d745460\n",
      "Coefficient statistics:\n",
      "  Matrix range     [0e+00, 0e+00]\n",
      "  Objective range  [4e+01, 2e+03]\n",
      "  Bounds range     [1e+00, 1e+00]\n",
      "  RHS range        [0e+00, 0e+00]\n",
      "Presolve removed 0 rows and 8 columns\n",
      "Presolve time: 0.00s\n",
      "Presolve: All rows and columns removed\n",
      "Iteration    Objective       Primal Inf.    Dual Inf.      Time\n",
      "       0    4.4470012e+03   0.000000e+00   0.000000e+00      0s\n",
      "\n",
      "Solved in 0 iterations and 0.01 seconds\n",
      "Optimal objective  4.447001175e+03\n",
      "Elapsed: 00:00:00\n",
      "affected_items [  60   75 1445 1652 1985 2898 3428 3997 4786 4874 5047 5315 5410 5498\n",
      " 5763 5870 6222 6454 6582 7137]\n",
      "60\n",
      "unaffected_items [ 544  553  705 1064 1300 1364 1559 1638 1750 2858 3113 3202 3483 4872\n",
      " 5982 6181 6240 6834 6894 7280]\n",
      "544\n",
      "Gurobi Optimizer version 9.0.1 build v9.0.1rc0 (mac64)\n",
      "Optimize a model with 0 rows, 9 columns and 0 nonzeros\n",
      "Model fingerprint: 0x1fd03cca\n",
      "Coefficient statistics:\n",
      "  Matrix range     [0e+00, 0e+00]\n",
      "  Objective range  [6e+00, 2e+03]\n",
      "  Bounds range     [1e+00, 1e+00]\n",
      "  RHS range        [0e+00, 0e+00]\n",
      "Presolve removed 0 rows and 9 columns\n",
      "Presolve time: 0.01s\n",
      "Presolve: All rows and columns removed\n",
      "Iteration    Objective       Primal Inf.    Dual Inf.      Time\n",
      "       0    6.2174353e+03   0.000000e+00   0.000000e+00      0s\n",
      "\n",
      "Solved in 0 iterations and 0.01 seconds\n",
      "Optimal objective  6.217435342e+03\n",
      "Elapsed: 00:00:00\n",
      "affected_items [  75 1445 1652 2446 2921 3428 3997 4195 4690 5047 5410 5422 5498 5659\n",
      " 5870 5942 6222 6454 6582 7163]\n",
      "75\n",
      "unaffected_items [ 144  544  553  599  705 1168 2692 3113 3857 3941 4078 4872 5271 6181\n",
      " 6289 6693 6834 6894 7280 7297]\n",
      "144\n",
      "Gurobi Optimizer version 9.0.1 build v9.0.1rc0 (mac64)\n",
      "Optimize a model with 0 rows, 10 columns and 0 nonzeros\n",
      "Model fingerprint: 0xe6e3a20a\n",
      "Coefficient statistics:\n",
      "  Matrix range     [0e+00, 0e+00]\n",
      "  Objective range  [8e+00, 3e+03]\n",
      "  Bounds range     [1e+00, 1e+00]\n",
      "  RHS range        [0e+00, 0e+00]\n",
      "Presolve removed 0 rows and 10 columns\n",
      "Presolve time: 0.00s\n",
      "Presolve: All rows and columns removed\n",
      "Iteration    Objective       Primal Inf.    Dual Inf.      Time\n",
      "       0    7.2792314e+03   0.000000e+00   0.000000e+00      0s\n",
      "\n",
      "Solved in 0 iterations and 0.01 seconds\n",
      "Optimal objective  7.279231391e+03\n",
      "Elapsed: 00:00:00\n",
      "affected_items [  75 1445 1652 2446 3428 3997 4195 5047 5315 5363 5410 5422 5498 5659\n",
      " 5870 5942 6222 6454 6582 7163]\n",
      "75\n",
      "unaffected_items [ 553  599  705 1027 1168 1556 2689 2692 3857 3977 4078 5795 6181 6204\n",
      " 6693 6834 6894 7280 7284 7297]\n",
      "553\n",
      "Gurobi Optimizer version 9.0.1 build v9.0.1rc0 (mac64)\n",
      "Optimize a model with 0 rows, 11 columns and 0 nonzeros\n",
      "Model fingerprint: 0xf75f8d92\n",
      "Coefficient statistics:\n",
      "  Matrix range     [0e+00, 0e+00]\n",
      "  Objective range  [2e+01, 3e+03]\n",
      "  Bounds range     [1e+00, 1e+00]\n",
      "  RHS range        [0e+00, 0e+00]\n",
      "Presolve removed 0 rows and 11 columns\n",
      "Presolve time: 0.00s\n",
      "Presolve: All rows and columns removed\n",
      "Iteration    Objective       Primal Inf.    Dual Inf.      Time\n",
      "       0    7.5024673e+03   0.000000e+00   0.000000e+00      0s\n",
      "\n",
      "Solved in 0 iterations and 0.01 seconds\n",
      "Optimal objective  7.502467291e+03\n",
      "Elapsed: 00:00:00\n",
      "affected_items [  75 1159 1340 1445 1522 1652 2446 3428 3997 4195 5363 5410 5422 5498\n",
      " 5659 5870 6222 6454 6582 6776]\n",
      "75\n",
      "unaffected_items [ 599  705 1525 1556 2471 2689 2692 2879 3977 4078 4256 4660 5198 5795\n",
      " 6181 6693 6894 7073 7184 7284]\n",
      "599\n",
      "Gurobi Optimizer version 9.0.1 build v9.0.1rc0 (mac64)\n",
      "Optimize a model with 0 rows, 12 columns and 0 nonzeros\n",
      "Model fingerprint: 0xd2d1ba8e\n",
      "Coefficient statistics:\n",
      "  Matrix range     [0e+00, 0e+00]\n",
      "  Objective range  [3e+01, 3e+03]\n",
      "  Bounds range     [1e+00, 1e+00]\n",
      "  RHS range        [0e+00, 0e+00]\n",
      "Presolve removed 0 rows and 12 columns\n",
      "Presolve time: 0.00s\n",
      "Presolve: All rows and columns removed\n",
      "Iteration    Objective       Primal Inf.    Dual Inf.      Time\n",
      "       0    7.9802562e+03   0.000000e+00   0.000000e+00      0s\n",
      "\n",
      "Solved in 0 iterations and 0.01 seconds\n",
      "Optimal objective  7.980256157e+03\n",
      "Elapsed: 00:00:00\n",
      "affected_items [  97 1159 1340 1445 1522 1652 2804 3382 3428 3997 4195 4458 5410 5422\n",
      " 5498 5659 5870 6222 6454 6776]\n",
      "97\n",
      "unaffected_items [ 599 1556 2471 2689 2692 2879 3977 4078 4660 5072 5198 5549 5635 5795\n",
      " 6181 6464 6693 6894 7073 7184]\n",
      "599\n",
      "Gurobi Optimizer version 9.0.1 build v9.0.1rc0 (mac64)\n",
      "Optimize a model with 0 rows, 13 columns and 0 nonzeros\n",
      "Model fingerprint: 0x69220bf5\n",
      "Coefficient statistics:\n",
      "  Matrix range     [0e+00, 0e+00]\n",
      "  Objective range  [1e+01, 3e+03]\n",
      "  Bounds range     [1e+00, 1e+00]\n",
      "  RHS range        [0e+00, 0e+00]\n",
      "Presolve removed 0 rows and 13 columns\n",
      "Presolve time: 0.00s\n",
      "Presolve: All rows and columns removed\n",
      "Iteration    Objective       Primal Inf.    Dual Inf.      Time\n"
     ]
    },
    {
     "name": "stdout",
     "output_type": "stream",
     "text": [
      "       0    8.2653698e+03   0.000000e+00   0.000000e+00      0s\n",
      "\n",
      "Solved in 0 iterations and 0.01 seconds\n",
      "Optimal objective  8.265369815e+03\n",
      "Elapsed: 00:00:00\n",
      "affected_items [ 683 1113 1159 1340 1445 1652 2804 3382 3428 3997 4195 4458 5410 5422\n",
      " 5498 5659 5870 6222 6454 6776]\n",
      "683\n",
      "unaffected_items [ 599 1556 2471 2689 2692 2879 3977 4078 4660 5072 5198 5549 5635 5795\n",
      " 6181 6464 6693 6894 7073 7184]\n",
      "599\n",
      "Gurobi Optimizer version 9.0.1 build v9.0.1rc0 (mac64)\n",
      "Optimize a model with 0 rows, 14 columns and 0 nonzeros\n",
      "Model fingerprint: 0xb1c716d8\n",
      "Coefficient statistics:\n",
      "  Matrix range     [0e+00, 0e+00]\n",
      "  Objective range  [3e+01, 3e+03]\n",
      "  Bounds range     [1e+00, 1e+00]\n",
      "  RHS range        [0e+00, 0e+00]\n",
      "Presolve removed 0 rows and 14 columns\n",
      "Presolve time: 0.00s\n",
      "Presolve: All rows and columns removed\n",
      "Iteration    Objective       Primal Inf.    Dual Inf.      Time\n",
      "       0    8.3764823e+03   0.000000e+00   0.000000e+00      0s\n",
      "\n",
      "Solved in 0 iterations and 0.01 seconds\n",
      "Optimal objective  8.376482281e+03\n",
      "Elapsed: 00:00:00\n",
      "affected_items [ 683 1113 1159 1340 1445 1652 2804 3428 3997 4195 4458 5108 5410 5422\n",
      " 5498 5659 5870 6222 6454 6739]\n",
      "683\n",
      "unaffected_items [ 599 1525 1556 2471 2689 2879 2908 4078 4660 5072 5198 5549 5635 5795\n",
      " 6181 6464 6693 6894 7073 7184]\n",
      "599\n",
      "Gurobi Optimizer version 9.0.1 build v9.0.1rc0 (mac64)\n",
      "Optimize a model with 0 rows, 15 columns and 0 nonzeros\n",
      "Model fingerprint: 0xf674be0b\n",
      "Coefficient statistics:\n",
      "  Matrix range     [0e+00, 0e+00]\n",
      "  Objective range  [3e+01, 3e+03]\n",
      "  Bounds range     [1e+00, 1e+00]\n",
      "  RHS range        [0e+00, 0e+00]\n",
      "Presolve removed 0 rows and 15 columns\n",
      "Presolve time: 0.00s\n",
      "Presolve: All rows and columns removed\n",
      "Iteration    Objective       Primal Inf.    Dual Inf.      Time\n",
      "       0    8.4606896e+03   0.000000e+00   0.000000e+00      0s\n",
      "\n",
      "Solved in 0 iterations and 0.01 seconds\n",
      "Optimal objective  8.460689573e+03\n",
      "Elapsed: 00:00:00\n",
      "affected_items [ 683 1113 1340 1445 1652 2804 3428 3997 4195 4458 5108 5410 5422 5498\n",
      " 5659 5870 6222 6454 6739 6776]\n",
      "683\n",
      "unaffected_items [ 599 1525 1556 2471 2689 2692 2879 4078 4660 5072 5198 5549 5635 5795\n",
      " 6181 6464 6693 6894 7073 7184]\n",
      "599\n",
      "Gurobi Optimizer version 9.0.1 build v9.0.1rc0 (mac64)\n",
      "Optimize a model with 0 rows, 16 columns and 0 nonzeros\n",
      "Model fingerprint: 0x18a43b38\n",
      "Coefficient statistics:\n",
      "  Matrix range     [0e+00, 0e+00]\n",
      "  Objective range  [2e+01, 3e+03]\n",
      "  Bounds range     [1e+00, 1e+00]\n",
      "  RHS range        [0e+00, 0e+00]\n",
      "Presolve removed 0 rows and 16 columns\n",
      "Presolve time: 0.00s\n",
      "Presolve: All rows and columns removed\n",
      "Iteration    Objective       Primal Inf.    Dual Inf.      Time\n",
      "       0    8.4834793e+03   0.000000e+00   0.000000e+00      0s\n",
      "\n",
      "Solved in 0 iterations and 0.01 seconds\n",
      "Optimal objective  8.483479315e+03\n",
      "Elapsed: 00:00:00\n",
      "affected_items [ 683 1113 1340 1445 1522 1652 2804 3428 3997 4195 4458 5410 5422 5498\n",
      " 5659 5870 6222 6454 6739 6776]\n",
      "683\n",
      "unaffected_items [ 599 1525 1556 2471 2689 2692 2879 4078 4660 5072 5198 5549 5635 5795\n",
      " 6181 6464 6693 6894 7073 7184]\n",
      "599\n",
      "Gurobi Optimizer version 9.0.1 build v9.0.1rc0 (mac64)\n",
      "Optimize a model with 0 rows, 17 columns and 0 nonzeros\n",
      "Model fingerprint: 0x1125ca0e\n",
      "Coefficient statistics:\n",
      "  Matrix range     [0e+00, 0e+00]\n",
      "  Objective range  [5e+01, 3e+03]\n",
      "  Bounds range     [1e+00, 1e+00]\n",
      "  RHS range        [0e+00, 0e+00]\n",
      "Presolve removed 0 rows and 17 columns\n",
      "Presolve time: 0.01s\n",
      "Presolve: All rows and columns removed\n",
      "Iteration    Objective       Primal Inf.    Dual Inf.      Time\n",
      "       0    8.7826683e+03   0.000000e+00   0.000000e+00      0s\n",
      "\n",
      "Solved in 0 iterations and 0.01 seconds\n",
      "Optimal objective  8.782668320e+03\n",
      "Elapsed: 00:00:00\n",
      "affected_items [ 683 1340 1445 1522 1652 2804 3428 3997 4195 4458 5363 5410 5422 5498\n",
      " 5659 5870 5942 6222 6454 6739]\n",
      "683\n",
      "unaffected_items [ 599 1525 1556 2471 2689 2692 2879 4078 4660 5072 5198 5549 5635 5795\n",
      " 6464 6693 6894 6917 7073 7184]\n",
      "599\n",
      "Gurobi Optimizer version 9.0.1 build v9.0.1rc0 (mac64)\n",
      "Optimize a model with 0 rows, 18 columns and 0 nonzeros\n",
      "Model fingerprint: 0x985bb3c5\n",
      "Coefficient statistics:\n",
      "  Matrix range     [0e+00, 0e+00]\n",
      "  Objective range  [2e+01, 3e+03]\n",
      "  Bounds range     [1e+00, 1e+00]\n",
      "  RHS range        [0e+00, 0e+00]\n",
      "Presolve removed 0 rows and 18 columns\n",
      "Presolve time: 0.01s\n",
      "Presolve: All rows and columns removed\n",
      "Iteration    Objective       Primal Inf.    Dual Inf.      Time\n",
      "       0    8.9375376e+03   0.000000e+00   0.000000e+00      0s\n",
      "\n",
      "Solved in 0 iterations and 0.01 seconds\n",
      "Optimal objective  8.937537556e+03\n",
      "Elapsed: 00:00:00\n",
      "affected_items [ 683 1340 1445 1522 1652 2804 3428 3997 4195 4458 5363 5410 5422 5498\n",
      " 5659 5870 5942 6222 6454 6739]\n",
      "683\n",
      "unaffected_items [ 599 1525 1556 2471 2689 2692 2879 4078 4660 5072 5198 5549 5635 5795\n",
      " 6464 6693 6894 6917 7073 7184]\n",
      "599\n",
      "Gurobi Optimizer version 9.0.1 build v9.0.1rc0 (mac64)\n",
      "Optimize a model with 0 rows, 19 columns and 0 nonzeros\n",
      "Model fingerprint: 0x91c49b3e\n",
      "Coefficient statistics:\n",
      "  Matrix range     [0e+00, 0e+00]\n",
      "  Objective range  [2e+01, 3e+03]\n",
      "  Bounds range     [1e+00, 1e+00]\n",
      "  RHS range        [0e+00, 0e+00]\n",
      "Presolve removed 0 rows and 19 columns\n",
      "Presolve time: 0.00s\n",
      "Presolve: All rows and columns removed\n",
      "Iteration    Objective       Primal Inf.    Dual Inf.      Time\n",
      "       0    9.3040618e+03   0.000000e+00   0.000000e+00      0s\n",
      "\n",
      "Solved in 0 iterations and 0.01 seconds\n",
      "Optimal objective  9.304061816e+03\n",
      "Elapsed: 00:00:00\n",
      "affected_items [ 683 1340 1445 1522 1652 2804 3428 3997 4195 4458 5363 5410 5422 5498\n",
      " 5659 5870 6222 6454 6739 7163]\n",
      "683\n",
      "unaffected_items [ 599 1556 2471 2570 2689 2692 2879 3146 4078 4660 5072 5198 5549 5635\n",
      " 5795 6464 6693 6894 7073 7184]\n",
      "599\n",
      "Gurobi Optimizer version 9.0.1 build v9.0.1rc0 (mac64)\n",
      "Optimize a model with 0 rows, 20 columns and 0 nonzeros\n",
      "Model fingerprint: 0x5726eda6\n",
      "Coefficient statistics:\n",
      "  Matrix range     [0e+00, 0e+00]\n",
      "  Objective range  [1e+01, 3e+03]\n",
      "  Bounds range     [1e+00, 1e+00]\n",
      "  RHS range        [0e+00, 0e+00]\n",
      "Presolve removed 0 rows and 20 columns\n",
      "Presolve time: 0.00s\n",
      "Presolve: All rows and columns removed\n",
      "Iteration    Objective       Primal Inf.    Dual Inf.      Time\n",
      "       0    9.3698315e+03   0.000000e+00   0.000000e+00      0s\n",
      "\n",
      "Solved in 0 iterations and 0.01 seconds\n",
      "Optimal objective  9.369831542e+03\n",
      "Elapsed: 00:00:00\n",
      "affected_items [  46 1940 2489 2525 2906 3183 3185 3244 3335 3889 4358 4673 4895 4901\n",
      " 5131 5558 5870 6081 6568 6660]\n",
      "46\n",
      "unaffected_items [ 635  870 1061 1107 1527 2320 2882 2975 3147 3260 3337 3347 3699 3883\n",
      " 3997 4758 4835 5081 6472 7056]\n",
      "635\n",
      "Gurobi Optimizer version 9.0.1 build v9.0.1rc0 (mac64)\n",
      "Optimize a model with 0 rows, 1 columns and 0 nonzeros\n",
      "Model fingerprint: 0x817aace7\n",
      "Coefficient statistics:\n",
      "  Matrix range     [0e+00, 0e+00]\n",
      "  Objective range  [4e+02, 4e+02]\n",
      "  Bounds range     [1e+00, 1e+00]\n",
      "  RHS range        [0e+00, 0e+00]\n",
      "Presolve removed 0 rows and 1 columns\n",
      "Presolve time: 0.00s\n",
      "Presolve: All rows and columns removed\n",
      "Iteration    Objective       Primal Inf.    Dual Inf.      Time\n",
      "       0    4.1694690e+02   0.000000e+00   0.000000e+00      0s\n",
      "\n",
      "Solved in 0 iterations and 0.01 seconds\n",
      "Optimal objective  4.169469049e+02\n",
      "Elapsed: 00:00:00\n",
      "affected_items [ 585 2569 2729 4141 4443 4908 5041 5371 5659 5972 5993 6299 6353 6519\n",
      " 6568 6732 6947 7205 7213 7427]\n",
      "585\n",
      "unaffected_items [  59   87  822 1410 1476 1526 1710 2130 2497 2534 2693 3242 3465 3861\n",
      " 3905 3993 4268 4442 6073 6573]\n",
      "59\n",
      "Gurobi Optimizer version 9.0.1 build v9.0.1rc0 (mac64)\n",
      "Optimize a model with 0 rows, 2 columns and 0 nonzeros\n",
      "Model fingerprint: 0x765ae8ce\n",
      "Coefficient statistics:\n",
      "  Matrix range     [0e+00, 0e+00]\n",
      "  Objective range  [2e+03, 2e+03]\n",
      "  Bounds range     [1e+00, 1e+00]\n",
      "  RHS range        [0e+00, 0e+00]\n",
      "Presolve removed 0 rows and 2 columns\n",
      "Presolve time: 0.00s\n",
      "Presolve: All rows and columns removed\n",
      "Iteration    Objective       Primal Inf.    Dual Inf.      Time\n",
      "       0    3.6793985e+03   0.000000e+00   0.000000e+00      0s\n",
      "\n",
      "Solved in 0 iterations and 0.01 seconds\n",
      "Optimal objective  3.679398528e+03\n",
      "Elapsed: 00:00:00\n",
      "affected_items [  97  585 1898 2412 2729 2847 4141 4443 4550 4673 5052 5098 5852 6299\n",
      " 6353 6498 6568 7034 7205 7213]\n",
      "97\n",
      "unaffected_items [  59  315  484 1192 1713 2086 2497 2845 2885 3408 3465 3861 3993 4268\n",
      " 4966 6152 6170 6830 7157 7339]\n",
      "59\n",
      "Gurobi Optimizer version 9.0.1 build v9.0.1rc0 (mac64)\n"
     ]
    },
    {
     "name": "stdout",
     "output_type": "stream",
     "text": [
      "Optimize a model with 0 rows, 3 columns and 0 nonzeros\n",
      "Model fingerprint: 0xdbe8e29b\n",
      "Coefficient statistics:\n",
      "  Matrix range     [0e+00, 0e+00]\n",
      "  Objective range  [4e+02, 3e+03]\n",
      "  Bounds range     [1e+00, 1e+00]\n",
      "  RHS range        [0e+00, 0e+00]\n",
      "Presolve removed 0 rows and 3 columns\n",
      "Presolve time: 0.00s\n",
      "Presolve: All rows and columns removed\n",
      "Iteration    Objective       Primal Inf.    Dual Inf.      Time\n",
      "       0    5.2234108e+03   0.000000e+00   0.000000e+00      0s\n",
      "\n",
      "Solved in 0 iterations and 0.01 seconds\n",
      "Optimal objective  5.223410825e+03\n",
      "Elapsed: 00:00:00\n",
      "affected_items [  97  585 1898 2364 2412 2729 2957 3211 4141 4443 4550 4673 5052 5098\n",
      " 5852 6299 6498 7034 7205 7213]\n",
      "97\n",
      "unaffected_items [ 315  395  484 1192 1713 2086 2497 2885 3408 3861 3993 4268 4966 5046\n",
      " 5738 6152 6170 6830 7157 7339]\n",
      "315\n",
      "Gurobi Optimizer version 9.0.1 build v9.0.1rc0 (mac64)\n",
      "Optimize a model with 0 rows, 4 columns and 0 nonzeros\n",
      "Model fingerprint: 0x3af04c78\n",
      "Coefficient statistics:\n",
      "  Matrix range     [0e+00, 0e+00]\n",
      "  Objective range  [5e+02, 3e+03]\n",
      "  Bounds range     [1e+00, 1e+00]\n",
      "  RHS range        [0e+00, 0e+00]\n",
      "Presolve removed 0 rows and 4 columns\n",
      "Presolve time: 0.01s\n",
      "Presolve: All rows and columns removed\n",
      "Iteration    Objective       Primal Inf.    Dual Inf.      Time\n",
      "       0    6.6969685e+03   0.000000e+00   0.000000e+00      0s\n",
      "\n",
      "Solved in 0 iterations and 0.01 seconds\n",
      "Optimal objective  6.696968506e+03\n",
      "Elapsed: 00:00:00\n",
      "affected_items [  97  585  926 1548 1584 1898 2729 2895 3097 4443 4550 5010 5098 5214\n",
      " 5315 5852 6353 6498 7205 7213]\n",
      "97\n",
      "unaffected_items [ 484 1414 1710 1980 2277 2367 2845 2885 3286 3465 4268 4906 5107 5261\n",
      " 6152 6170 6348 6830 7157 7339]\n",
      "484\n",
      "Gurobi Optimizer version 9.0.1 build v9.0.1rc0 (mac64)\n",
      "Optimize a model with 0 rows, 5 columns and 0 nonzeros\n",
      "Model fingerprint: 0x4375011c\n",
      "Coefficient statistics:\n",
      "  Matrix range     [0e+00, 0e+00]\n",
      "  Objective range  [2e+02, 3e+03]\n",
      "  Bounds range     [1e+00, 1e+00]\n",
      "  RHS range        [0e+00, 0e+00]\n",
      "Presolve removed 0 rows and 5 columns\n",
      "Presolve time: 0.00s\n",
      "Presolve: All rows and columns removed\n",
      "Iteration    Objective       Primal Inf.    Dual Inf.      Time\n",
      "       0    8.1890108e+03   0.000000e+00   0.000000e+00      0s\n",
      "\n",
      "Solved in 0 iterations and 0.01 seconds\n",
      "Optimal objective  8.189010825e+03\n",
      "Elapsed: 00:00:00\n",
      "affected_items [  97  585  926 1548 1584 1898 2460 2729 2895 3097 4443 4550 4673 5098\n",
      " 5214 5315 5852 6498 7205 7213]\n",
      "97\n",
      "unaffected_items [ 484 1414 1710 1980 2563 2845 2885 3286 3465 3614 4268 4906 5107 5261\n",
      " 6152 6170 6348 6532 6830 7339]\n",
      "484\n",
      "Gurobi Optimizer version 9.0.1 build v9.0.1rc0 (mac64)\n",
      "Optimize a model with 0 rows, 6 columns and 0 nonzeros\n",
      "Model fingerprint: 0x2dc68929\n",
      "Coefficient statistics:\n",
      "  Matrix range     [0e+00, 0e+00]\n",
      "  Objective range  [9e+01, 3e+03]\n",
      "  Bounds range     [1e+00, 1e+00]\n",
      "  RHS range        [0e+00, 0e+00]\n",
      "Presolve removed 0 rows and 6 columns\n",
      "Presolve time: 0.00s\n",
      "Presolve: All rows and columns removed\n",
      "Iteration    Objective       Primal Inf.    Dual Inf.      Time\n",
      "       0    8.3036037e+03   0.000000e+00   0.000000e+00      0s\n",
      "\n",
      "Solved in 0 iterations and 0.01 seconds\n",
      "Optimal objective  8.303603723e+03\n",
      "Elapsed: 00:00:00\n",
      "affected_items [  97  585  926 1548 1584 1898 2460 2729 2895 3097 4443 4673 5098 5214\n",
      " 5315 5852 6353 6498 7205 7213]\n",
      "97\n",
      "unaffected_items [ 484 1315 1414 1710 1980 2195 2367 2563 2845 2885 2953 3286 3614 4906\n",
      " 5107 5261 6073 6152 6348 6532]\n",
      "484\n",
      "Gurobi Optimizer version 9.0.1 build v9.0.1rc0 (mac64)\n",
      "Optimize a model with 0 rows, 7 columns and 0 nonzeros\n",
      "Model fingerprint: 0x8b6b2bf7\n",
      "Coefficient statistics:\n",
      "  Matrix range     [0e+00, 0e+00]\n",
      "  Objective range  [8e+01, 3e+03]\n",
      "  Bounds range     [1e+00, 1e+00]\n",
      "  RHS range        [0e+00, 0e+00]\n",
      "Presolve removed 0 rows and 7 columns\n",
      "Presolve time: 0.00s\n",
      "Presolve: All rows and columns removed\n",
      "Iteration    Objective       Primal Inf.    Dual Inf.      Time\n",
      "       0    8.7209063e+03   0.000000e+00   0.000000e+00      0s\n",
      "\n",
      "Solved in 0 iterations and 0.01 seconds\n",
      "Optimal objective  8.720906332e+03\n",
      "Elapsed: 00:00:00\n",
      "affected_items [  97  585  926 1548 1898 2364 2729 2895 3097 4390 4443 4550 4673 5098\n",
      " 5214 5315 5852 6498 7205 7213]\n",
      "97\n",
      "unaffected_items [ 484 1414 1980 2195 2305 2395 2563 2845 2885 3614 3905 4824 4906 5107\n",
      " 5802 6073 6152 6348 6532 7436]\n",
      "484\n",
      "Gurobi Optimizer version 9.0.1 build v9.0.1rc0 (mac64)\n",
      "Optimize a model with 0 rows, 8 columns and 0 nonzeros\n",
      "Model fingerprint: 0x89e11d3a\n",
      "Coefficient statistics:\n",
      "  Matrix range     [0e+00, 0e+00]\n",
      "  Objective range  [5e+01, 4e+03]\n",
      "  Bounds range     [1e+00, 1e+00]\n",
      "  RHS range        [0e+00, 0e+00]\n",
      "Presolve removed 0 rows and 8 columns\n",
      "Presolve time: 0.00s\n",
      "Presolve: All rows and columns removed\n",
      "Iteration    Objective       Primal Inf.    Dual Inf.      Time\n",
      "       0    8.9178252e+03   0.000000e+00   0.000000e+00      0s\n",
      "\n",
      "Solved in 0 iterations and 0.01 seconds\n",
      "Optimal objective  8.917825164e+03\n",
      "Elapsed: 00:00:00\n",
      "affected_items [  97  585  926 1548 1898 2729 2895 3097 3988 4390 4443 4550 4673 5098\n",
      " 5214 5315 5852 6498 7205 7213]\n",
      "97\n",
      "unaffected_items [ 484 1414 1980 2195 2305 2395 2563 2845 2885 3614 3632 4027 4824 4906\n",
      " 5107 5802 6073 6152 6348 6532]\n",
      "484\n",
      "Gurobi Optimizer version 9.0.1 build v9.0.1rc0 (mac64)\n",
      "Optimize a model with 0 rows, 9 columns and 0 nonzeros\n",
      "Model fingerprint: 0x3dc408a3\n",
      "Coefficient statistics:\n",
      "  Matrix range     [0e+00, 0e+00]\n",
      "  Objective range  [6e+01, 3e+03]\n",
      "  Bounds range     [1e+00, 1e+00]\n",
      "  RHS range        [0e+00, 0e+00]\n",
      "Presolve removed 0 rows and 9 columns\n",
      "Presolve time: 0.00s\n",
      "Presolve: All rows and columns removed\n",
      "Iteration    Objective       Primal Inf.    Dual Inf.      Time\n",
      "       0    9.1373509e+03   0.000000e+00   0.000000e+00      0s\n",
      "\n",
      "Solved in 0 iterations and 0.01 seconds\n",
      "Optimal objective  9.137350872e+03\n",
      "Elapsed: 00:00:00\n",
      "affected_items [  97  585  926 1548 1898 2729 2895 3097 4443 4550 4673 4848 5010 5098\n",
      " 5315 5410 5852 6454 6498 7205]\n",
      "97\n",
      "unaffected_items [ 366 1414 1782 1980 2195 2305 2395 2845 2885 3614 4906 5107 5261 5773\n",
      " 5878 6073 6152 6193 6348 7178]\n",
      "366\n",
      "Gurobi Optimizer version 9.0.1 build v9.0.1rc0 (mac64)\n",
      "Optimize a model with 0 rows, 10 columns and 0 nonzeros\n",
      "Model fingerprint: 0x0455f673\n",
      "Coefficient statistics:\n",
      "  Matrix range     [0e+00, 0e+00]\n",
      "  Objective range  [5e+01, 3e+03]\n",
      "  Bounds range     [1e+00, 1e+00]\n",
      "  RHS range        [0e+00, 0e+00]\n",
      "Presolve removed 0 rows and 10 columns\n",
      "Presolve time: 0.00s\n",
      "Presolve: All rows and columns removed\n",
      "Iteration    Objective       Primal Inf.    Dual Inf.      Time\n",
      "       0    1.0250639e+04   0.000000e+00   0.000000e+00      0s\n",
      "\n",
      "Solved in 0 iterations and 0.01 seconds\n",
      "Optimal objective  1.025063901e+04\n",
      "Elapsed: 00:00:00\n",
      "affected_items [  97  585  926 1548 2729 2895 3097 4443 4550 4673 4848 5010 5098 5315\n",
      " 5410 5852 6454 6498 7205 7213]\n",
      "97\n",
      "unaffected_items [ 366 1414 2305 2563 2638 2688 2697 2722 2938 4068 4523 4906 5802 5878\n",
      " 6193 6264 6348 6722 7178 7243]\n",
      "366\n",
      "Gurobi Optimizer version 9.0.1 build v9.0.1rc0 (mac64)\n",
      "Optimize a model with 0 rows, 11 columns and 0 nonzeros\n",
      "Model fingerprint: 0x572c9b1e\n",
      "Coefficient statistics:\n",
      "  Matrix range     [0e+00, 0e+00]\n",
      "  Objective range  [5e+01, 3e+03]\n",
      "  Bounds range     [1e+00, 1e+00]\n",
      "  RHS range        [0e+00, 0e+00]\n",
      "Presolve removed 0 rows and 11 columns\n",
      "Presolve time: 0.00s\n",
      "Presolve: All rows and columns removed\n",
      "Iteration    Objective       Primal Inf.    Dual Inf.      Time\n",
      "       0    1.2072822e+04   0.000000e+00   0.000000e+00      0s\n",
      "\n",
      "Solved in 0 iterations and 0.01 seconds\n",
      "Optimal objective  1.207282194e+04\n",
      "Elapsed: 00:00:00\n",
      "affected_items [  97  585 1548 2729 2895 3097 4195 4443 4550 4673 4848 5098 5315 5364\n",
      " 5410 5852 6454 6498 7205 7213]\n",
      "97\n",
      "unaffected_items [ 335 1168 1414 2305 2638 2688 2722 2938 4068 4523 4906 5802 5878 6193\n",
      " 6264 6348 6478 6693 7178 7243]\n",
      "335\n",
      "Gurobi Optimizer version 9.0.1 build v9.0.1rc0 (mac64)\n",
      "Optimize a model with 0 rows, 12 columns and 0 nonzeros\n",
      "Model fingerprint: 0x86503bf9\n",
      "Coefficient statistics:\n",
      "  Matrix range     [0e+00, 0e+00]\n",
      "  Objective range  [8e+01, 3e+03]\n",
      "  Bounds range     [1e+00, 1e+00]\n",
      "  RHS range        [0e+00, 0e+00]\n",
      "Presolve removed 0 rows and 12 columns\n",
      "Presolve time: 0.00s\n",
      "Presolve: All rows and columns removed\n",
      "Iteration    Objective       Primal Inf.    Dual Inf.      Time\n"
     ]
    },
    {
     "name": "stdout",
     "output_type": "stream",
     "text": [
      "       0    1.2443751e+04   0.000000e+00   0.000000e+00      0s\n",
      "\n",
      "Solved in 0 iterations and 0.01 seconds\n",
      "Optimal objective  1.244375069e+04\n",
      "Elapsed: 00:00:00\n",
      "affected_items [  97  585 1548 2729 2895 3097 4195 4443 4550 4673 4848 5098 5315 5364\n",
      " 5410 5852 6454 6498 7205 7213]\n",
      "97\n",
      "unaffected_items [  29  178 1168 1414 1917 2689 2697 2722 2850 2938 3532 4068 4260 5802\n",
      " 5878 6193 6693 6722 6834 7243]\n",
      "29\n",
      "Gurobi Optimizer version 9.0.1 build v9.0.1rc0 (mac64)\n",
      "Optimize a model with 0 rows, 13 columns and 0 nonzeros\n",
      "Model fingerprint: 0xebe78bd7\n",
      "Coefficient statistics:\n",
      "  Matrix range     [0e+00, 0e+00]\n",
      "  Objective range  [7e+01, 3e+03]\n",
      "  Bounds range     [1e+00, 1e+00]\n",
      "  RHS range        [0e+00, 0e+00]\n",
      "Presolve removed 0 rows and 13 columns\n",
      "Presolve time: 0.00s\n",
      "Presolve: All rows and columns removed\n",
      "Iteration    Objective       Primal Inf.    Dual Inf.      Time\n",
      "       0    1.3001498e+04   0.000000e+00   0.000000e+00      0s\n",
      "\n",
      "Solved in 0 iterations and 0.01 seconds\n",
      "Optimal objective  1.300149847e+04\n",
      "Elapsed: 00:00:00\n",
      "affected_items [  97  585 1548 2412 2729 2895 3097 4195 4443 4550 4673 4848 5098 5315\n",
      " 5364 5410 5852 6454 7205 7213]\n",
      "97\n",
      "unaffected_items [  29  178 1031 1168 1414 1917 2697 2722 2850 2938 4068 4260 4530 5802\n",
      " 5878 6193 6693 6722 6848 7243]\n",
      "29\n",
      "Gurobi Optimizer version 9.0.1 build v9.0.1rc0 (mac64)\n",
      "Optimize a model with 0 rows, 14 columns and 0 nonzeros\n",
      "Model fingerprint: 0x83651315\n",
      "Coefficient statistics:\n",
      "  Matrix range     [0e+00, 0e+00]\n",
      "  Objective range  [4e+01, 3e+03]\n",
      "  Bounds range     [1e+00, 1e+00]\n",
      "  RHS range        [0e+00, 0e+00]\n",
      "Presolve removed 0 rows and 14 columns\n",
      "Presolve time: 0.00s\n",
      "Presolve: All rows and columns removed\n",
      "Iteration    Objective       Primal Inf.    Dual Inf.      Time\n",
      "       0    1.3430392e+04   0.000000e+00   0.000000e+00      0s\n",
      "\n",
      "Solved in 0 iterations and 0.01 seconds\n",
      "Optimal objective  1.343039169e+04\n",
      "Elapsed: 00:00:00\n",
      "affected_items [  97  585 1548 2729 2895 3097 4195 4443 4550 4673 4848 4908 5098 5315\n",
      " 5364 5410 5852 6454 7205 7213]\n",
      "97\n",
      "unaffected_items [  29  178 1168 1414 1917 2689 2697 2722 2938 4068 4092 4260 4530 5802\n",
      " 5878 6193 6693 6722 6848 7243]\n",
      "29\n",
      "Gurobi Optimizer version 9.0.1 build v9.0.1rc0 (mac64)\n",
      "Optimize a model with 0 rows, 15 columns and 0 nonzeros\n",
      "Model fingerprint: 0xe930348d\n",
      "Coefficient statistics:\n",
      "  Matrix range     [0e+00, 0e+00]\n",
      "  Objective range  [7e+01, 3e+03]\n",
      "  Bounds range     [1e+00, 1e+00]\n",
      "  RHS range        [0e+00, 0e+00]\n",
      "Presolve removed 0 rows and 15 columns\n",
      "Presolve time: 0.00s\n",
      "Presolve: All rows and columns removed\n",
      "Iteration    Objective       Primal Inf.    Dual Inf.      Time\n",
      "       0    1.3700455e+04   0.000000e+00   0.000000e+00      0s\n",
      "\n",
      "Solved in 0 iterations and 0.01 seconds\n",
      "Optimal objective  1.370045501e+04\n",
      "Elapsed: 00:00:00\n",
      "affected_items [  97  585 1548 2446 2729 2895 3988 4195 4443 4550 4673 4762 4848 5098\n",
      " 5315 5410 5852 6454 7205 7313]\n",
      "97\n",
      "unaffected_items [ 178 1168 1414 2697 2722 2938 3433 3919 4068 4260 5649 5654 5802 5878\n",
      " 6693 6722 6834 6848 7202 7243]\n",
      "178\n",
      "Gurobi Optimizer version 9.0.1 build v9.0.1rc0 (mac64)\n",
      "Optimize a model with 0 rows, 16 columns and 0 nonzeros\n",
      "Model fingerprint: 0xba821f5b\n",
      "Coefficient statistics:\n",
      "  Matrix range     [0e+00, 0e+00]\n",
      "  Objective range  [2e+01, 3e+03]\n",
      "  Bounds range     [1e+00, 1e+00]\n",
      "  RHS range        [0e+00, 0e+00]\n",
      "Presolve removed 0 rows and 16 columns\n",
      "Presolve time: 0.00s\n",
      "Presolve: All rows and columns removed\n",
      "Iteration    Objective       Primal Inf.    Dual Inf.      Time\n",
      "       0    1.4224083e+04   0.000000e+00   0.000000e+00      0s\n",
      "\n",
      "Solved in 0 iterations and 0.01 seconds\n",
      "Optimal objective  1.422408265e+04\n",
      "Elapsed: 00:00:00\n",
      "affected_items [  97  585 1548 2412 2446 2729 2895 4195 4443 4550 4673 4762 4848 5098\n",
      " 5315 5410 5852 6454 7205 7313]\n",
      "97\n",
      "unaffected_items [ 178 1168 1414 2689 2697 2722 2938 3433 4068 4260 5649 5654 5802 5878\n",
      " 6693 6722 6834 6848 7202 7243]\n",
      "178\n",
      "Gurobi Optimizer version 9.0.1 build v9.0.1rc0 (mac64)\n",
      "Optimize a model with 0 rows, 17 columns and 0 nonzeros\n",
      "Model fingerprint: 0x63079afb\n",
      "Coefficient statistics:\n",
      "  Matrix range     [0e+00, 0e+00]\n",
      "  Objective range  [2e+01, 3e+03]\n",
      "  Bounds range     [1e+00, 1e+00]\n",
      "  RHS range        [0e+00, 0e+00]\n",
      "Presolve removed 0 rows and 17 columns\n",
      "Presolve time: 0.00s\n",
      "Presolve: All rows and columns removed\n",
      "Iteration    Objective       Primal Inf.    Dual Inf.      Time\n",
      "       0    1.4843830e+04   0.000000e+00   0.000000e+00      0s\n",
      "\n",
      "Solved in 0 iterations and 0.01 seconds\n",
      "Optimal objective  1.484383049e+04\n",
      "Elapsed: 00:00:00\n",
      "affected_items [  97  585 1548 2446 2895 3988 4072 4195 4443 4550 4673 4762 5098 5315\n",
      " 5410 5852 6454 6732 7205 7313]\n",
      "97\n",
      "unaffected_items [ 178  498 1168 1414 2591 2689 2722 3433 4068 4092 4260 4863 5649 5654\n",
      " 5802 5878 6693 6722 7202 7243]\n",
      "178\n",
      "Gurobi Optimizer version 9.0.1 build v9.0.1rc0 (mac64)\n",
      "Optimize a model with 0 rows, 18 columns and 0 nonzeros\n",
      "Model fingerprint: 0x8c5ba547\n",
      "Coefficient statistics:\n",
      "  Matrix range     [0e+00, 0e+00]\n",
      "  Objective range  [2e+01, 3e+03]\n",
      "  Bounds range     [1e+00, 1e+00]\n",
      "  RHS range        [0e+00, 0e+00]\n",
      "Presolve removed 0 rows and 18 columns\n",
      "Presolve time: 0.00s\n",
      "Presolve: All rows and columns removed\n",
      "Iteration    Objective       Primal Inf.    Dual Inf.      Time\n",
      "       0    1.5577045e+04   0.000000e+00   0.000000e+00      0s\n",
      "\n",
      "Solved in 0 iterations and 0.01 seconds\n",
      "Optimal objective  1.557704480e+04\n",
      "Elapsed: 00:00:00\n",
      "affected_items [  97  585 1548 2446 2895 3988 4072 4195 4443 4550 4673 4762 5098 5315\n",
      " 5410 5852 6454 6732 7205 7213]\n",
      "97\n",
      "unaffected_items [ 178  498  690 1168 1414 1963 2697 2722 3433 4092 4260 4395 4863 5649\n",
      " 5654 5802 5878 6693 6722 7243]\n",
      "178\n",
      "Gurobi Optimizer version 9.0.1 build v9.0.1rc0 (mac64)\n",
      "Optimize a model with 0 rows, 19 columns and 0 nonzeros\n",
      "Model fingerprint: 0x50dd836c\n",
      "Coefficient statistics:\n",
      "  Matrix range     [0e+00, 0e+00]\n",
      "  Objective range  [3e+01, 3e+03]\n",
      "  Bounds range     [1e+00, 1e+00]\n",
      "  RHS range        [0e+00, 0e+00]\n",
      "Presolve removed 0 rows and 19 columns\n",
      "Presolve time: 0.00s\n",
      "Presolve: All rows and columns removed\n",
      "Iteration    Objective       Primal Inf.    Dual Inf.      Time\n",
      "       0    1.7136438e+04   0.000000e+00   0.000000e+00      0s\n",
      "\n",
      "Solved in 0 iterations and 0.01 seconds\n",
      "Optimal objective  1.713643780e+04\n",
      "Elapsed: 00:00:00\n",
      "affected_items [  97  585 1548 2446 2895 3988 4072 4195 4443 4550 4673 4762 5098 5315\n",
      " 5410 5852 6454 6732 7205 7286]\n",
      "97\n",
      "unaffected_items [ 178  498 1168 1414 2591 2697 2722 4092 4260 4530 4863 5194 5649 5654\n",
      " 5802 5878 6693 6722 6848 7243]\n",
      "178\n",
      "Gurobi Optimizer version 9.0.1 build v9.0.1rc0 (mac64)\n",
      "Optimize a model with 0 rows, 20 columns and 0 nonzeros\n",
      "Model fingerprint: 0x2fa75091\n",
      "Coefficient statistics:\n",
      "  Matrix range     [0e+00, 0e+00]\n",
      "  Objective range  [2e+01, 2e+03]\n",
      "  Bounds range     [1e+00, 1e+00]\n",
      "  RHS range        [0e+00, 0e+00]\n",
      "Presolve removed 0 rows and 20 columns\n",
      "Presolve time: 0.00s\n",
      "Presolve: All rows and columns removed\n",
      "Iteration    Objective       Primal Inf.    Dual Inf.      Time\n",
      "       0    1.7323564e+04   0.000000e+00   0.000000e+00      0s\n",
      "\n",
      "Solved in 0 iterations and 0.01 seconds\n",
      "Optimal objective  1.732356381e+04\n",
      "Elapsed: 00:00:00\n",
      "affected_items [  46  635  870 1061 1107 1527 2525 3183 3260 3335 3347 3883 3997 4358\n",
      " 4673 4901 5081 5558 5870 7056]\n",
      "46\n",
      "unaffected_items [ 416 1940 2320 2489 2882 2906 2975 3147 3244 3337 3699 3889 4499 4758\n",
      " 4895 4940 5254 5639 6568 6660]\n",
      "416\n",
      "Gurobi Optimizer version 9.0.1 build v9.0.1rc0 (mac64)\n",
      "Optimize a model with 0 rows, 1 columns and 0 nonzeros\n",
      "Model fingerprint: 0x5e31a899\n",
      "Coefficient statistics:\n",
      "  Matrix range     [0e+00, 0e+00]\n",
      "  Objective range  [3e+02, 3e+02]\n",
      "  Bounds range     [1e+00, 1e+00]\n",
      "  RHS range        [0e+00, 0e+00]\n",
      "Presolve removed 0 rows and 1 columns\n",
      "Presolve time: 0.00s\n",
      "Presolve: All rows and columns removed\n",
      "Iteration    Objective       Primal Inf.    Dual Inf.      Time\n",
      "       0    2.7342148e+02   0.000000e+00   0.000000e+00      0s\n",
      "\n",
      "Solved in 0 iterations and 0.01 seconds\n",
      "Optimal objective  2.734214752e+02\n",
      "Elapsed: 00:00:00\n",
      "affected_items [  24 1082 1584 2157 2193 2804 2847 3333 4141 4443 5108 5340 5363 5364\n",
      " 5852 6519 6568 6947 7213 7427]\n",
      "24\n",
      "unaffected_items [  54  905 1438 2190 2414 2735 2944 3156 3401 4293 4303 4984 4993 5098\n",
      " 5371 5377 5402 6040 6726 6744]\n",
      "54\n",
      "Gurobi Optimizer version 9.0.1 build v9.0.1rc0 (mac64)\n"
     ]
    },
    {
     "name": "stdout",
     "output_type": "stream",
     "text": [
      "Optimize a model with 0 rows, 2 columns and 0 nonzeros\n",
      "Model fingerprint: 0x395d316e\n",
      "Coefficient statistics:\n",
      "  Matrix range     [0e+00, 0e+00]\n",
      "  Objective range  [3e+02, 1e+03]\n",
      "  Bounds range     [1e+00, 1e+00]\n",
      "  RHS range        [0e+00, 0e+00]\n",
      "Presolve removed 0 rows and 2 columns\n",
      "Presolve time: 0.00s\n",
      "Presolve: All rows and columns removed\n",
      "Iteration    Objective       Primal Inf.    Dual Inf.      Time\n",
      "       0    1.6531460e+03   0.000000e+00   0.000000e+00      0s\n",
      "\n",
      "Solved in 0 iterations and 0.01 seconds\n",
      "Optimal objective  1.653146047e+03\n",
      "Elapsed: 00:00:00\n",
      "affected_items [ 419  926 1082 2157 2804 3333 3402 3428 4141 4358 4443 4848 5108 5340\n",
      " 5363 5852 6519 6568 6947 7286]\n",
      "419\n",
      "unaffected_items [ 252  594  861  905 1315 1410 1689 2135 2190 2414 2735 3156 3429 4293\n",
      " 4984 5371 6040 6580 6628 7317]\n",
      "252\n",
      "Gurobi Optimizer version 9.0.1 build v9.0.1rc0 (mac64)\n",
      "Optimize a model with 0 rows, 3 columns and 0 nonzeros\n",
      "Model fingerprint: 0xc7812f0b\n",
      "Coefficient statistics:\n",
      "  Matrix range     [0e+00, 0e+00]\n",
      "  Objective range  [1e+02, 1e+03]\n",
      "  Bounds range     [1e+00, 1e+00]\n",
      "  RHS range        [0e+00, 0e+00]\n",
      "Presolve removed 0 rows and 3 columns\n",
      "Presolve time: 0.00s\n",
      "Presolve: All rows and columns removed\n",
      "Iteration    Objective       Primal Inf.    Dual Inf.      Time\n",
      "       0    2.1864551e+03   0.000000e+00   0.000000e+00      0s\n",
      "\n",
      "Solved in 0 iterations and 0.01 seconds\n",
      "Optimal objective  2.186455144e+03\n",
      "Elapsed: 00:00:00\n",
      "affected_items [ 419  926 1082 2157 2804 3333 3402 4141 4358 4443 5108 5340 5363 5852\n",
      " 5972 6519 6568 6739 6947 7286]\n",
      "419\n",
      "unaffected_items [ 861 1315 1410 1689 1864 2068 2414 2494 2735 2979 3156 3231 4293 5036\n",
      " 5266 6247 6628 6991 7083 7201]\n",
      "861\n",
      "Gurobi Optimizer version 9.0.1 build v9.0.1rc0 (mac64)\n",
      "Optimize a model with 0 rows, 4 columns and 0 nonzeros\n",
      "Model fingerprint: 0x6e5a95e0\n",
      "Coefficient statistics:\n",
      "  Matrix range     [0e+00, 0e+00]\n",
      "  Objective range  [7e+01, 1e+03]\n",
      "  Bounds range     [1e+00, 1e+00]\n",
      "  RHS range        [0e+00, 0e+00]\n",
      "Presolve removed 0 rows and 4 columns\n",
      "Presolve time: 0.00s\n",
      "Presolve: All rows and columns removed\n",
      "Iteration    Objective       Primal Inf.    Dual Inf.      Time\n",
      "       0    2.5314992e+03   0.000000e+00   0.000000e+00      0s\n",
      "\n",
      "Solved in 0 iterations and 0.01 seconds\n",
      "Optimal objective  2.531499230e+03\n",
      "Elapsed: 00:00:00\n",
      "affected_items [ 325  419  637 1522 1608 2089 2157 2804 2847 3149 4141 4443 5008 5363\n",
      " 6519 6776 7100 7163 7213 7286]\n",
      "325\n",
      "unaffected_items [ 298  652  861 1315 1410 1689 1988 2414 2435 2554 2735 2944 4293 4988\n",
      " 5266 6233 6628 7083 7135 7348]\n",
      "298\n",
      "Gurobi Optimizer version 9.0.1 build v9.0.1rc0 (mac64)\n",
      "Optimize a model with 0 rows, 5 columns and 0 nonzeros\n",
      "Model fingerprint: 0xfd47ea28\n",
      "Coefficient statistics:\n",
      "  Matrix range     [0e+00, 0e+00]\n",
      "  Objective range  [2e+01, 2e+03]\n",
      "  Bounds range     [1e+00, 1e+00]\n",
      "  RHS range        [0e+00, 0e+00]\n",
      "Presolve removed 0 rows and 5 columns\n",
      "Presolve time: 0.00s\n",
      "Presolve: All rows and columns removed\n",
      "Iteration    Objective       Primal Inf.    Dual Inf.      Time\n",
      "       0    4.1751647e+03   0.000000e+00   0.000000e+00      0s\n",
      "\n",
      "Solved in 0 iterations and 0.01 seconds\n",
      "Optimal objective  4.175164661e+03\n",
      "Elapsed: 00:00:00\n",
      "affected_items [ 419  637 1522 1584 1608 2089 2157 2804 2847 3149 3183 4141 4443 5363\n",
      " 6454 6519 6739 6776 7100 7163]\n",
      "419\n",
      "unaffected_items [ 433  652  861 1184 1315 1689 1955 1988 2285 2414 2435 2554 2735 2944\n",
      " 5266 6053 6082 6247 6628 7348]\n",
      "433\n",
      "Gurobi Optimizer version 9.0.1 build v9.0.1rc0 (mac64)\n",
      "Optimize a model with 0 rows, 6 columns and 0 nonzeros\n",
      "Model fingerprint: 0x5dee58a4\n",
      "Coefficient statistics:\n",
      "  Matrix range     [0e+00, 0e+00]\n",
      "  Objective range  [1e+02, 2e+03]\n",
      "  Bounds range     [1e+00, 1e+00]\n",
      "  RHS range        [0e+00, 0e+00]\n",
      "Presolve removed 0 rows and 6 columns\n",
      "Presolve time: 0.01s\n",
      "Presolve: All rows and columns removed\n",
      "Iteration    Objective       Primal Inf.    Dual Inf.      Time\n",
      "       0    4.7011091e+03   0.000000e+00   0.000000e+00      0s\n",
      "\n",
      "Solved in 0 iterations and 0.01 seconds\n",
      "Optimal objective  4.701109139e+03\n",
      "Elapsed: 00:00:00\n",
      "affected_items [ 637  683 1522 1608 2089 2157 2804 2847 3149 4443 5340 5363 5377 5972\n",
      " 6454 6519 6739 6776 7100 7163]\n",
      "637\n",
      "unaffected_items [ 128  433  596  652 1184 1315 1337 1988 2414 2435 2554 2735 3941 5101\n",
      " 5266 6053 6082 6247 7135 7348]\n",
      "128\n",
      "Gurobi Optimizer version 9.0.1 build v9.0.1rc0 (mac64)\n",
      "Optimize a model with 0 rows, 7 columns and 0 nonzeros\n",
      "Model fingerprint: 0x8c986bb0\n",
      "Coefficient statistics:\n",
      "  Matrix range     [0e+00, 0e+00]\n",
      "  Objective range  [1e+02, 2e+03]\n",
      "  Bounds range     [1e+00, 1e+00]\n",
      "  RHS range        [0e+00, 0e+00]\n",
      "Presolve removed 0 rows and 7 columns\n",
      "Presolve time: 0.00s\n",
      "Presolve: All rows and columns removed\n",
      "Iteration    Objective       Primal Inf.    Dual Inf.      Time\n",
      "       0    5.0393132e+03   0.000000e+00   0.000000e+00      0s\n",
      "\n",
      "Solved in 0 iterations and 0.01 seconds\n",
      "Optimal objective  5.039313203e+03\n",
      "Elapsed: 00:00:00\n",
      "affected_items [ 637  683 1522 1584 1608 2089 2157 2804 2847 3149 3428 4443 4528 5363\n",
      " 5377 6454 6739 6776 7100 7163]\n",
      "637\n",
      "unaffected_items [ 128  146  176  349  596 1184 1315 1337 1988 2414 2435 2554 2735 3941\n",
      " 5101 5266 6053 6082 6510 7348]\n",
      "128\n",
      "Gurobi Optimizer version 9.0.1 build v9.0.1rc0 (mac64)\n",
      "Optimize a model with 0 rows, 8 columns and 0 nonzeros\n",
      "Model fingerprint: 0x7687a251\n",
      "Coefficient statistics:\n",
      "  Matrix range     [0e+00, 0e+00]\n",
      "  Objective range  [5e+01, 2e+03]\n",
      "  Bounds range     [1e+00, 1e+00]\n",
      "  RHS range        [0e+00, 0e+00]\n",
      "Presolve removed 0 rows and 8 columns\n",
      "Presolve time: 0.00s\n",
      "Presolve: All rows and columns removed\n",
      "Iteration    Objective       Primal Inf.    Dual Inf.      Time\n",
      "       0    5.8466000e+03   0.000000e+00   0.000000e+00      0s\n",
      "\n",
      "Solved in 0 iterations and 0.01 seconds\n",
      "Optimal objective  5.846600038e+03\n",
      "Elapsed: 00:00:00\n",
      "affected_items [  43  419  637  683 1522 1608 2089 2157 2804 2847 3149 3428 4443 4528\n",
      " 5363 5972 6739 6776 7100 7163]\n",
      "43\n",
      "unaffected_items [  32  113  128  146 1155 1184 1315 1337 1988 2315 2414 2435 2969 3034\n",
      " 3941 5266 5622 6053 6510 7135]\n",
      "32\n",
      "Gurobi Optimizer version 9.0.1 build v9.0.1rc0 (mac64)\n",
      "Optimize a model with 0 rows, 9 columns and 0 nonzeros\n",
      "Model fingerprint: 0x040aca7b\n",
      "Coefficient statistics:\n",
      "  Matrix range     [0e+00, 0e+00]\n",
      "  Objective range  [4e+01, 2e+03]\n",
      "  Bounds range     [1e+00, 1e+00]\n",
      "  RHS range        [0e+00, 0e+00]\n",
      "Presolve removed 0 rows and 9 columns\n",
      "Presolve time: 0.00s\n",
      "Presolve: All rows and columns removed\n",
      "Iteration    Objective       Primal Inf.    Dual Inf.      Time\n",
      "       0    6.2880765e+03   0.000000e+00   0.000000e+00      0s\n",
      "\n",
      "Solved in 0 iterations and 0.01 seconds\n",
      "Optimal objective  6.288076547e+03\n",
      "Elapsed: 00:00:00\n",
      "affected_items [  43  419  637 1522 1584 1608 2089 2157 2804 2847 3149 3428 4443 4528\n",
      " 5363 5972 6739 6776 7100 7163]\n",
      "43\n",
      "unaffected_items [ 113  146  541  729 1155 1184 1315 2285 2315 2357 2435 2453 3336 3628\n",
      " 3941 4472 4519 5620 6031 6510]\n",
      "113\n",
      "Gurobi Optimizer version 9.0.1 build v9.0.1rc0 (mac64)\n",
      "Optimize a model with 0 rows, 10 columns and 0 nonzeros\n",
      "Model fingerprint: 0xcb43bdd9\n",
      "Coefficient statistics:\n",
      "  Matrix range     [0e+00, 0e+00]\n",
      "  Objective range  [8e+00, 2e+03]\n",
      "  Bounds range     [1e+00, 1e+00]\n",
      "  RHS range        [0e+00, 0e+00]\n",
      "Presolve removed 0 rows and 10 columns\n",
      "Presolve time: 0.00s\n",
      "Presolve: All rows and columns removed\n",
      "Iteration    Objective       Primal Inf.    Dual Inf.      Time\n",
      "       0    6.5728001e+03   0.000000e+00   0.000000e+00      0s\n",
      "\n",
      "Solved in 0 iterations and 0.01 seconds\n",
      "Optimal objective  6.572800089e+03\n",
      "Elapsed: 00:00:00\n",
      "affected_items [  43  419  637  683 1522 1608 2089 2157 2804 2847 3149 3428 4443 5363\n",
      " 5972 6739 6776 7100 7163 7286]\n",
      "43\n",
      "unaffected_items [ 349  541  814 1838 2260 2453 2529 2535 2832 3142 3146 3777 3784 3941\n",
      " 3977 4515 4740 6677 6949 7013]\n",
      "349\n",
      "Gurobi Optimizer version 9.0.1 build v9.0.1rc0 (mac64)\n",
      "Optimize a model with 0 rows, 11 columns and 0 nonzeros\n",
      "Model fingerprint: 0x33d818e1\n",
      "Coefficient statistics:\n",
      "  Matrix range     [0e+00, 0e+00]\n",
      "  Objective range  [2e+01, 2e+03]\n",
      "  Bounds range     [1e+00, 1e+00]\n",
      "  RHS range        [0e+00, 0e+00]\n",
      "Presolve removed 0 rows and 11 columns\n",
      "Presolve time: 0.00s\n",
      "Presolve: All rows and columns removed\n",
      "Iteration    Objective       Primal Inf.    Dual Inf.      Time\n"
     ]
    },
    {
     "name": "stdout",
     "output_type": "stream",
     "text": [
      "       0    7.6450695e+03   0.000000e+00   0.000000e+00      0s\n",
      "\n",
      "Solved in 0 iterations and 0.01 seconds\n",
      "Optimal objective  7.645069479e+03\n",
      "Elapsed: 00:00:00\n",
      "affected_items [  43  419  637  683 1522 1608 2089 2157 2804 2847 3149 3428 4443 5363\n",
      " 5972 6739 6776 7100 7163 7286]\n",
      "43\n",
      "unaffected_items [ 313  349  541 1838 2453 2464 2529 3142 3146 3777 3784 3941 3977 4217\n",
      " 4248 4515 4740 6618 6677 7279]\n",
      "313\n",
      "Gurobi Optimizer version 9.0.1 build v9.0.1rc0 (mac64)\n",
      "Optimize a model with 0 rows, 12 columns and 0 nonzeros\n",
      "Model fingerprint: 0x6b330b8c\n",
      "Coefficient statistics:\n",
      "  Matrix range     [0e+00, 0e+00]\n",
      "  Objective range  [1e+01, 2e+03]\n",
      "  Bounds range     [1e+00, 1e+00]\n",
      "  RHS range        [0e+00, 0e+00]\n",
      "Presolve removed 0 rows and 12 columns\n",
      "Presolve time: 0.00s\n",
      "Presolve: All rows and columns removed\n",
      "Iteration    Objective       Primal Inf.    Dual Inf.      Time\n",
      "       0    7.9283197e+03   0.000000e+00   0.000000e+00      0s\n",
      "\n",
      "Solved in 0 iterations and 0.01 seconds\n",
      "Optimal objective  7.928319735e+03\n",
      "Elapsed: 00:00:00\n",
      "affected_items [  43  419  637  683 1522 1608 2089 2157 2804 2847 3149 3428 4443 5363\n",
      " 5972 6739 6776 7100 7163 7286]\n",
      "43\n",
      "unaffected_items [ 349  541  814 1838 2453 2464 2529 2960 3142 3146 3777 3784 3941 3977\n",
      " 4248 4515 4740 6618 6677 6949]\n",
      "349\n",
      "Gurobi Optimizer version 9.0.1 build v9.0.1rc0 (mac64)\n",
      "Optimize a model with 0 rows, 13 columns and 0 nonzeros\n",
      "Model fingerprint: 0xce9716d0\n",
      "Coefficient statistics:\n",
      "  Matrix range     [0e+00, 0e+00]\n",
      "  Objective range  [2e+01, 2e+03]\n",
      "  Bounds range     [1e+00, 1e+00]\n",
      "  RHS range        [0e+00, 0e+00]\n",
      "Presolve removed 0 rows and 13 columns\n",
      "Presolve time: 0.00s\n",
      "Presolve: All rows and columns removed\n",
      "Iteration    Objective       Primal Inf.    Dual Inf.      Time\n",
      "       0    8.0225837e+03   0.000000e+00   0.000000e+00      0s\n",
      "\n",
      "Solved in 0 iterations and 0.01 seconds\n",
      "Optimal objective  8.022583668e+03\n",
      "Elapsed: 00:00:00\n",
      "affected_items [  43  419  637  683 1522 1608 2089 2157 2804 2847 3149 3428 4443 5363\n",
      " 5972 6739 6776 7100 7163 7286]\n",
      "43\n",
      "unaffected_items [ 349  541  814 1838 2453 2464 2529 2960 3142 3146 3777 3784 3941 3977\n",
      " 4248 4515 4740 6618 6677 6949]\n",
      "349\n",
      "Gurobi Optimizer version 9.0.1 build v9.0.1rc0 (mac64)\n",
      "Optimize a model with 0 rows, 14 columns and 0 nonzeros\n",
      "Model fingerprint: 0xabfbc5de\n",
      "Coefficient statistics:\n",
      "  Matrix range     [0e+00, 0e+00]\n",
      "  Objective range  [2e+01, 2e+03]\n",
      "  Bounds range     [1e+00, 1e+00]\n",
      "  RHS range        [0e+00, 0e+00]\n",
      "Presolve removed 0 rows and 14 columns\n",
      "Presolve time: 0.01s\n",
      "Presolve: All rows and columns removed\n",
      "Iteration    Objective       Primal Inf.    Dual Inf.      Time\n",
      "       0    8.2140314e+03   0.000000e+00   0.000000e+00      0s\n",
      "\n",
      "Solved in 0 iterations and 0.01 seconds\n",
      "Optimal objective  8.214031356e+03\n",
      "Elapsed: 00:00:00\n",
      "affected_items [  43  325  419  637 1522 1608 2089 2157 2804 2942 4443 5008 5286 5363\n",
      " 5972 6739 6776 7100 7163 7286]\n",
      "43\n",
      "unaffected_items [ 349  541  911 1838 2453 2529 2960 3146 3777 3784 3941 3977 4248 4288\n",
      " 4740 5107 5367 6677 7279 7280]\n",
      "349\n",
      "Gurobi Optimizer version 9.0.1 build v9.0.1rc0 (mac64)\n",
      "Optimize a model with 0 rows, 15 columns and 0 nonzeros\n",
      "Model fingerprint: 0xd28c18e9\n",
      "Coefficient statistics:\n",
      "  Matrix range     [0e+00, 0e+00]\n",
      "  Objective range  [5e+00, 2e+03]\n",
      "  Bounds range     [1e+00, 1e+00]\n",
      "  RHS range        [0e+00, 0e+00]\n",
      "Presolve removed 0 rows and 15 columns\n",
      "Presolve time: 0.01s\n",
      "Presolve: All rows and columns removed\n",
      "Iteration    Objective       Primal Inf.    Dual Inf.      Time\n",
      "       0    8.5862602e+03   0.000000e+00   0.000000e+00      0s\n",
      "\n",
      "Solved in 0 iterations and 0.01 seconds\n",
      "Optimal objective  8.586260163e+03\n",
      "Elapsed: 00:00:00\n",
      "affected_items [  43  325  637 1522 1608 2089 2157 2804 2942 3428 4443 5008 5286 5363\n",
      " 5972 6739 6776 6938 7100 7163]\n",
      "43\n",
      "unaffected_items [ 349  541  911 1838 2453 2529 2960 3146 3644 3777 3784 3941 3977 4248\n",
      " 4288 4740 5107 6618 6677 7279]\n",
      "349\n",
      "Gurobi Optimizer version 9.0.1 build v9.0.1rc0 (mac64)\n",
      "Optimize a model with 0 rows, 16 columns and 0 nonzeros\n",
      "Model fingerprint: 0x3b4f76f8\n",
      "Coefficient statistics:\n",
      "  Matrix range     [0e+00, 0e+00]\n",
      "  Objective range  [1e+01, 2e+03]\n",
      "  Bounds range     [1e+00, 1e+00]\n",
      "  RHS range        [0e+00, 0e+00]\n",
      "Presolve removed 0 rows and 16 columns\n",
      "Presolve time: 0.01s\n",
      "Presolve: All rows and columns removed\n",
      "Iteration    Objective       Primal Inf.    Dual Inf.      Time\n",
      "       0    9.2527835e+03   0.000000e+00   0.000000e+00      0s\n",
      "\n",
      "Solved in 0 iterations and 0.01 seconds\n",
      "Optimal objective  9.252783453e+03\n",
      "Elapsed: 00:00:00\n",
      "affected_items [  43  325  419 1522 1608 2089 2804 2942 3428 4443 5008 5286 5363 5972\n",
      " 6739 6776 6938 7100 7163 7286]\n",
      "43\n",
      "unaffected_items [ 814  911 1838 2453 2529 2535 2903 2960 3146 3777 3784 3941 3977 4288\n",
      " 4740 5138 5367 5513 5519 6677]\n",
      "814\n",
      "Gurobi Optimizer version 9.0.1 build v9.0.1rc0 (mac64)\n",
      "Optimize a model with 0 rows, 17 columns and 0 nonzeros\n",
      "Model fingerprint: 0xd70f912b\n",
      "Coefficient statistics:\n",
      "  Matrix range     [0e+00, 0e+00]\n",
      "  Objective range  [4e+01, 2e+03]\n",
      "  Bounds range     [1e+00, 1e+00]\n",
      "  RHS range        [0e+00, 0e+00]\n",
      "Presolve removed 0 rows and 17 columns\n",
      "Presolve time: 0.00s\n",
      "Presolve: All rows and columns removed\n",
      "Iteration    Objective       Primal Inf.    Dual Inf.      Time\n",
      "       0    1.0605120e+04   0.000000e+00   0.000000e+00      0s\n",
      "\n",
      "Solved in 0 iterations and 0.01 seconds\n",
      "Optimal objective  1.060512031e+04\n",
      "Elapsed: 00:00:00\n",
      "affected_items [  43  419  683 1522 1608 2157 2804 2942 3211 3428 4443 5286 5363 5870\n",
      " 5972 6739 6776 7100 7163 7286]\n",
      "43\n",
      "unaffected_items [ 911 1838 2453 2529 2903 2960 3146 3289 3777 3784 3786 3941 3977 4288\n",
      " 4740 5138 5367 5513 6677 7280]\n",
      "911\n",
      "Gurobi Optimizer version 9.0.1 build v9.0.1rc0 (mac64)\n",
      "Optimize a model with 0 rows, 18 columns and 0 nonzeros\n",
      "Model fingerprint: 0x16c0d339\n",
      "Coefficient statistics:\n",
      "  Matrix range     [0e+00, 0e+00]\n",
      "  Objective range  [6e+00, 1e+03]\n",
      "  Bounds range     [1e+00, 1e+00]\n",
      "  RHS range        [0e+00, 0e+00]\n",
      "Presolve removed 0 rows and 18 columns\n",
      "Presolve time: 0.00s\n",
      "Presolve: All rows and columns removed\n",
      "Iteration    Objective       Primal Inf.    Dual Inf.      Time\n",
      "       0    1.1002019e+04   0.000000e+00   0.000000e+00      0s\n",
      "\n",
      "Solved in 0 iterations and 0.01 seconds\n",
      "Optimal objective  1.100201868e+04\n",
      "Elapsed: 00:00:00\n",
      "affected_items [  43  419  683 1522 1608 2157 2804 2942 3211 3428 4443 5286 5363 5870\n",
      " 5972 6739 6776 7100 7163 7286]\n",
      "43\n",
      "unaffected_items [ 911 1364 1838 2529 2903 2960 3146 3777 3784 3786 3941 3977 4288 4740\n",
      " 5138 5367 5519 6677 6913 7280]\n",
      "911\n",
      "Gurobi Optimizer version 9.0.1 build v9.0.1rc0 (mac64)\n",
      "Optimize a model with 0 rows, 19 columns and 0 nonzeros\n",
      "Model fingerprint: 0x166a69ec\n",
      "Coefficient statistics:\n",
      "  Matrix range     [0e+00, 0e+00]\n",
      "  Objective range  [2e+00, 1e+03]\n",
      "  Bounds range     [1e+00, 1e+00]\n",
      "  RHS range        [0e+00, 0e+00]\n",
      "Presolve removed 0 rows and 19 columns\n",
      "Presolve time: 0.00s\n",
      "Presolve: All rows and columns removed\n",
      "Iteration    Objective       Primal Inf.    Dual Inf.      Time\n",
      "       0    1.1046036e+04   0.000000e+00   0.000000e+00      0s\n",
      "\n",
      "Solved in 0 iterations and 0.01 seconds\n",
      "Optimal objective  1.104603568e+04\n",
      "Elapsed: 00:00:00\n",
      "affected_items [  43  419  683 1522 1608 2804 2942 3211 3428 4443 5286 5363 5659 5870\n",
      " 5972 6739 6776 7100 7163 7286]\n",
      "43\n",
      "unaffected_items [ 911 1364 1462 1838 2529 2903 3289 3361 3777 3941 3977 4288 4740 5138\n",
      " 5367 5519 6551 6677 6913 7280]\n",
      "911\n",
      "Gurobi Optimizer version 9.0.1 build v9.0.1rc0 (mac64)\n",
      "Optimize a model with 0 rows, 20 columns and 0 nonzeros\n",
      "Model fingerprint: 0x55dd1644\n",
      "Coefficient statistics:\n",
      "  Matrix range     [0e+00, 0e+00]\n",
      "  Objective range  [2e+01, 2e+03]\n",
      "  Bounds range     [1e+00, 1e+00]\n",
      "  RHS range        [0e+00, 0e+00]\n",
      "Presolve removed 0 rows and 20 columns\n",
      "Presolve time: 0.01s\n",
      "Presolve: All rows and columns removed\n",
      "Iteration    Objective       Primal Inf.    Dual Inf.      Time\n",
      "       0    1.1152903e+04   0.000000e+00   0.000000e+00      0s\n",
      "\n",
      "Solved in 0 iterations and 0.01 seconds\n",
      "Optimal objective  1.115290275e+04\n",
      "Elapsed: 00:00:00\n",
      "affected_items [ 870 1107 1527 1940 2525 2882 2906 2975 3337 3347 3699 4358 4673 4758\n",
      " 4895 4901 5558 5870 6568 7056]\n",
      "870\n",
      "unaffected_items [ 437  917  966 1006 1079 1643 1713 2034 2320 2747 3109 3260 3584 3864\n",
      " 3961 4683 5136 5254 5436 6472]\n",
      "437\n",
      "Gurobi Optimizer version 9.0.1 build v9.0.1rc0 (mac64)\n"
     ]
    },
    {
     "name": "stdout",
     "output_type": "stream",
     "text": [
      "Optimize a model with 0 rows, 1 columns and 0 nonzeros\n",
      "Model fingerprint: 0x46aa340a\n",
      "Coefficient statistics:\n",
      "  Matrix range     [0e+00, 0e+00]\n",
      "  Objective range  [8e+00, 8e+00]\n",
      "  Bounds range     [1e+00, 1e+00]\n",
      "  RHS range        [0e+00, 0e+00]\n",
      "Presolve removed 0 rows and 1 columns\n",
      "Presolve time: 0.00s\n",
      "Presolve: All rows and columns removed\n",
      "Iteration    Objective       Primal Inf.    Dual Inf.      Time\n",
      "       0    1.5101096e+02   0.000000e+00   0.000000e+00      0s\n",
      "\n",
      "Solved in 0 iterations and 0.01 seconds\n",
      "Optimal objective  1.510109589e+02\n",
      "Elapsed: 00:00:00\n",
      "affected_items [  82   97  585 1898 2364 2412 2517 2847 3211 3980 4443 5098 5725 5852\n",
      " 6498 7010 7034 7205 7207 7213]\n",
      "82\n",
      "unaffected_items [ 484 1079 1172 1743 1980 2152 2497 2534 2583 2845 2885 3286 4369 5136\n",
      " 5738 6152 6170 6192 6800 7339]\n",
      "484\n",
      "Gurobi Optimizer version 9.0.1 build v9.0.1rc0 (mac64)\n",
      "Optimize a model with 0 rows, 2 columns and 0 nonzeros\n",
      "Model fingerprint: 0x27f5492e\n",
      "Coefficient statistics:\n",
      "  Matrix range     [0e+00, 0e+00]\n",
      "  Objective range  [2e+02, 4e+03]\n",
      "  Bounds range     [1e+00, 1e+00]\n",
      "  RHS range        [0e+00, 0e+00]\n",
      "Presolve removed 0 rows and 2 columns\n",
      "Presolve time: 0.00s\n",
      "Presolve: All rows and columns removed\n",
      "Iteration    Objective       Primal Inf.    Dual Inf.      Time\n",
      "       0    4.1324446e+03   0.000000e+00   0.000000e+00      0s\n",
      "\n",
      "Solved in 0 iterations and 0.01 seconds\n",
      "Optimal objective  4.132444631e+03\n",
      "Elapsed: 00:00:00\n",
      "affected_items [  97  585  796 1522 1548 1898 2364 2412 2446 2847 4443 4874 5098 5725\n",
      " 5852 6454 6498 6634 7034 7207]\n",
      "97\n",
      "unaffected_items [ 484 1202 1410 1743 1980 2152 2534 2583 2694 2845 2885 2927 4563 5293\n",
      " 5469 5738 5773 6152 6192 7339]\n",
      "484\n",
      "Gurobi Optimizer version 9.0.1 build v9.0.1rc0 (mac64)\n",
      "Optimize a model with 0 rows, 3 columns and 0 nonzeros\n",
      "Model fingerprint: 0x3f217b17\n",
      "Coefficient statistics:\n",
      "  Matrix range     [0e+00, 0e+00]\n",
      "  Objective range  [2e+02, 3e+03]\n",
      "  Bounds range     [1e+00, 1e+00]\n",
      "  RHS range        [0e+00, 0e+00]\n",
      "Presolve removed 0 rows and 3 columns\n",
      "Presolve time: 0.00s\n",
      "Presolve: All rows and columns removed\n",
      "Iteration    Objective       Primal Inf.    Dual Inf.      Time\n",
      "       0    4.6639678e+03   0.000000e+00   0.000000e+00      0s\n",
      "\n",
      "Solved in 0 iterations and 0.01 seconds\n",
      "Optimal objective  4.663967750e+03\n",
      "Elapsed: 00:00:00\n",
      "affected_items [  97  585 1522 1548 1898 2364 2412 3211 3428 4443 4874 5098 5410 5725\n",
      " 5763 5852 6353 6498 6634 7034]\n",
      "97\n",
      "unaffected_items [ 484  554  822 1002 1172 1202 1549 1743 1980 2152 2438 2497 2534 2845\n",
      " 3611 3905 5738 5773 6192 7339]\n",
      "484\n",
      "Gurobi Optimizer version 9.0.1 build v9.0.1rc0 (mac64)\n",
      "Optimize a model with 0 rows, 4 columns and 0 nonzeros\n",
      "Model fingerprint: 0x05202411\n",
      "Coefficient statistics:\n",
      "  Matrix range     [0e+00, 0e+00]\n",
      "  Objective range  [2e+02, 3e+03]\n",
      "  Bounds range     [1e+00, 1e+00]\n",
      "  RHS range        [0e+00, 0e+00]\n",
      "Presolve removed 0 rows and 4 columns\n",
      "Presolve time: 0.01s\n",
      "Presolve: All rows and columns removed\n",
      "Iteration    Objective       Primal Inf.    Dual Inf.      Time\n",
      "       0    5.0233625e+03   0.000000e+00   0.000000e+00      0s\n",
      "\n",
      "Solved in 0 iterations and 0.01 seconds\n",
      "Optimal objective  5.023362496e+03\n",
      "Elapsed: 00:00:00\n",
      "affected_items [  97  585 1522 1548 1898 2364 2412 2847 3211 3428 4443 4874 5098 5725\n",
      " 5763 5852 6353 6498 6634 7205]\n",
      "97\n",
      "unaffected_items [ 484  554  822 1002 1172 1202 1363 1410 1549 1743 1980 2438 2534 3611\n",
      " 3905 5058 5738 6192 6992 7339]\n",
      "484\n",
      "Gurobi Optimizer version 9.0.1 build v9.0.1rc0 (mac64)\n",
      "Optimize a model with 0 rows, 5 columns and 0 nonzeros\n",
      "Model fingerprint: 0xcd8cb2d8\n",
      "Coefficient statistics:\n",
      "  Matrix range     [0e+00, 0e+00]\n",
      "  Objective range  [6e+01, 3e+03]\n",
      "  Bounds range     [1e+00, 1e+00]\n",
      "  RHS range        [0e+00, 0e+00]\n",
      "Presolve removed 0 rows and 5 columns\n",
      "Presolve time: 0.00s\n",
      "Presolve: All rows and columns removed\n",
      "Iteration    Objective       Primal Inf.    Dual Inf.      Time\n",
      "       0    5.2245625e+03   0.000000e+00   0.000000e+00      0s\n",
      "\n",
      "Solved in 0 iterations and 0.01 seconds\n",
      "Optimal objective  5.224562485e+03\n",
      "Elapsed: 00:00:00\n",
      "affected_items [  97  585 1522 1548 1898 1985 2364 2412 2847 3211 3428 4443 4874 5098\n",
      " 5725 5763 5852 6353 6498 6634]\n",
      "97\n",
      "unaffected_items [ 484  554 1002 1172 1202 1363 1410 1549 1743 1980 2438 2534 2694 3611\n",
      " 3905 5058 5738 6992 7240 7339]\n",
      "484\n",
      "Gurobi Optimizer version 9.0.1 build v9.0.1rc0 (mac64)\n",
      "Optimize a model with 0 rows, 6 columns and 0 nonzeros\n",
      "Model fingerprint: 0x3538089b\n",
      "Coefficient statistics:\n",
      "  Matrix range     [0e+00, 0e+00]\n",
      "  Objective range  [7e+01, 3e+03]\n",
      "  Bounds range     [1e+00, 1e+00]\n",
      "  RHS range        [0e+00, 0e+00]\n",
      "Presolve removed 0 rows and 6 columns\n",
      "Presolve time: 0.00s\n",
      "Presolve: All rows and columns removed\n",
      "Iteration    Objective       Primal Inf.    Dual Inf.      Time\n",
      "       0    6.8987177e+03   0.000000e+00   0.000000e+00      0s\n",
      "\n",
      "Solved in 0 iterations and 0.01 seconds\n",
      "Optimal objective  6.898717702e+03\n",
      "Elapsed: 00:00:00\n",
      "affected_items [  75   97  926 1522 1548 1584 1898 1985 2412 2729 2895 3428 4443 5098\n",
      " 5852 6353 6454 6498 7205 7213]\n",
      "75\n",
      "unaffected_items [ 484  554 1002 1172 1363 1414 1549 1575 1980 2195 2267 2438 2534 2694\n",
      " 3286 3611 3614 5738 6152 6992]\n",
      "484\n",
      "Gurobi Optimizer version 9.0.1 build v9.0.1rc0 (mac64)\n",
      "Optimize a model with 0 rows, 7 columns and 0 nonzeros\n",
      "Model fingerprint: 0xbe178561\n",
      "Coefficient statistics:\n",
      "  Matrix range     [0e+00, 0e+00]\n",
      "  Objective range  [1e+01, 3e+03]\n",
      "  Bounds range     [1e+00, 1e+00]\n",
      "  RHS range        [0e+00, 0e+00]\n",
      "Presolve removed 0 rows and 7 columns\n",
      "Presolve time: 0.00s\n",
      "Presolve: All rows and columns removed\n",
      "Iteration    Objective       Primal Inf.    Dual Inf.      Time\n",
      "       0    8.1404839e+03   0.000000e+00   0.000000e+00      0s\n",
      "\n",
      "Solved in 0 iterations and 0.01 seconds\n",
      "Optimal objective  8.140483926e+03\n",
      "Elapsed: 00:00:00\n",
      "affected_items [  75   97  926 1522 1548 1584 1898 1985 2412 2895 3428 4443 4848 5098\n",
      " 5852 6353 6454 6498 7205 7213]\n",
      "75\n",
      "unaffected_items [ 484  554 1172 1363 1410 1414 1549 1575 1710 1980 2195 2267 2438 2534\n",
      " 3286 3611 3614 3909 5738 6992]\n",
      "484\n",
      "Gurobi Optimizer version 9.0.1 build v9.0.1rc0 (mac64)\n",
      "Optimize a model with 0 rows, 8 columns and 0 nonzeros\n",
      "Model fingerprint: 0xd3ed8767\n",
      "Coefficient statistics:\n",
      "  Matrix range     [0e+00, 0e+00]\n",
      "  Objective range  [6e+01, 3e+03]\n",
      "  Bounds range     [1e+00, 1e+00]\n",
      "  RHS range        [0e+00, 0e+00]\n",
      "Presolve removed 0 rows and 8 columns\n",
      "Presolve time: 0.00s\n",
      "Presolve: All rows and columns removed\n",
      "Iteration    Objective       Primal Inf.    Dual Inf.      Time\n",
      "       0    8.2686367e+03   0.000000e+00   0.000000e+00      0s\n",
      "\n",
      "Solved in 0 iterations and 0.01 seconds\n",
      "Optimal objective  8.268636687e+03\n",
      "Elapsed: 00:00:00\n",
      "affected_items [  97  926 1548 1584 1898 1985 2412 2729 2895 3428 4443 4848 5098 5852\n",
      " 6353 6454 6498 6744 7205 7213]\n",
      "97\n",
      "unaffected_items [ 484 1172 1363 1410 1414 1525 1980 2116 2195 2267 2438 2534 3286 3611\n",
      " 3614 3909 5738 5856 7240 7243]\n",
      "484\n",
      "Gurobi Optimizer version 9.0.1 build v9.0.1rc0 (mac64)\n",
      "Optimize a model with 0 rows, 9 columns and 0 nonzeros\n",
      "Model fingerprint: 0x90676656\n",
      "Coefficient statistics:\n",
      "  Matrix range     [0e+00, 0e+00]\n",
      "  Objective range  [2e+01, 3e+03]\n",
      "  Bounds range     [1e+00, 1e+00]\n",
      "  RHS range        [0e+00, 0e+00]\n",
      "Presolve removed 0 rows and 9 columns\n",
      "Presolve time: 0.00s\n",
      "Presolve: All rows and columns removed\n",
      "Iteration    Objective       Primal Inf.    Dual Inf.      Time\n",
      "       0    8.3318337e+03   0.000000e+00   0.000000e+00      0s\n",
      "\n",
      "Solved in 0 iterations and 0.01 seconds\n",
      "Optimal objective  8.331833688e+03\n",
      "Elapsed: 00:00:00\n",
      "affected_items [  97  926 1522 1548 1584 1898 1985 2412 2729 2895 3428 4443 4848 5098\n",
      " 5852 6353 6454 6498 7205 7213]\n",
      "97\n",
      "unaffected_items [ 484 1172 1363 1410 1414 1525 1980 2116 2267 2438 2534 2697 3286 3611\n",
      " 3909 5521 5738 5856 7240 7243]\n",
      "484\n",
      "Gurobi Optimizer version 9.0.1 build v9.0.1rc0 (mac64)\n",
      "Optimize a model with 0 rows, 10 columns and 0 nonzeros\n",
      "Model fingerprint: 0xe301275b\n",
      "Coefficient statistics:\n",
      "  Matrix range     [0e+00, 0e+00]\n",
      "  Objective range  [3e+00, 3e+03]\n",
      "  Bounds range     [1e+00, 1e+00]\n",
      "  RHS range        [0e+00, 0e+00]\n",
      "Presolve removed 0 rows and 10 columns\n",
      "Presolve time: 0.00s\n",
      "Presolve: All rows and columns removed\n",
      "Iteration    Objective       Primal Inf.    Dual Inf.      Time\n"
     ]
    },
    {
     "name": "stdout",
     "output_type": "stream",
     "text": [
      "       0    8.4091234e+03   0.000000e+00   0.000000e+00      0s\n",
      "\n",
      "Solved in 0 iterations and 0.01 seconds\n",
      "Optimal objective  8.409123394e+03\n",
      "Elapsed: 00:00:00\n",
      "affected_items [  75   97  926 1548 1584 1898 1985 2729 2895 3428 4443 4848 5098 5852\n",
      " 6353 6454 6498 6744 7205 7213]\n",
      "75\n",
      "unaffected_items [ 484 1172 1363 1410 1414 1525 1549 1980 2116 2169 2438 2534 2697 2866\n",
      " 3286 3611 5521 5856 7240 7243]\n",
      "484\n",
      "Gurobi Optimizer version 9.0.1 build v9.0.1rc0 (mac64)\n",
      "Optimize a model with 0 rows, 11 columns and 0 nonzeros\n",
      "Model fingerprint: 0x864475fa\n",
      "Coefficient statistics:\n",
      "  Matrix range     [0e+00, 0e+00]\n",
      "  Objective range  [4e+01, 3e+03]\n",
      "  Bounds range     [1e+00, 1e+00]\n",
      "  RHS range        [0e+00, 0e+00]\n",
      "Presolve removed 0 rows and 11 columns\n",
      "Presolve time: 0.00s\n",
      "Presolve: All rows and columns removed\n",
      "Iteration    Objective       Primal Inf.    Dual Inf.      Time\n",
      "       0    8.9261881e+03   0.000000e+00   0.000000e+00      0s\n",
      "\n",
      "Solved in 0 iterations and 0.01 seconds\n",
      "Optimal objective  8.926188113e+03\n",
      "Elapsed: 00:00:00\n",
      "affected_items [  75   97  926 1522 1584 1898 2729 2895 2898 3428 4443 4848 5098 5852\n",
      " 5985 6353 6498 6744 7205 7213]\n",
      "75\n",
      "unaffected_items [ 484  528 1172 1363 1410 1414 1525 1549 1575 2116 2438 2534 2697 3286\n",
      " 3611 5521 5802 5856 7240 7243]\n",
      "484\n",
      "Gurobi Optimizer version 9.0.1 build v9.0.1rc0 (mac64)\n",
      "Optimize a model with 0 rows, 12 columns and 0 nonzeros\n",
      "Model fingerprint: 0x7d413cd6\n",
      "Coefficient statistics:\n",
      "  Matrix range     [0e+00, 0e+00]\n",
      "  Objective range  [6e+00, 3e+03]\n",
      "  Bounds range     [1e+00, 1e+00]\n",
      "  RHS range        [0e+00, 0e+00]\n",
      "Presolve removed 0 rows and 12 columns\n",
      "Presolve time: 0.00s\n",
      "Presolve: All rows and columns removed\n",
      "Iteration    Objective       Primal Inf.    Dual Inf.      Time\n",
      "       0    9.2052338e+03   0.000000e+00   0.000000e+00      0s\n",
      "\n",
      "Solved in 0 iterations and 0.01 seconds\n",
      "Optimal objective  9.205233849e+03\n",
      "Elapsed: 00:00:00\n",
      "affected_items [  75   97  926 1522 1584 1898 2364 2729 2895 3428 4443 4848 5098 5410\n",
      " 5852 5985 6353 6498 7205 7213]\n",
      "75\n",
      "unaffected_items [ 528 1085 1172 1414 1575 2116 2210 2438 2697 2866 3286 4078 5065 5500\n",
      " 5521 5802 5856 6193 6971 7243]\n",
      "528\n",
      "Gurobi Optimizer version 9.0.1 build v9.0.1rc0 (mac64)\n",
      "Optimize a model with 0 rows, 13 columns and 0 nonzeros\n",
      "Model fingerprint: 0x63c22d04\n",
      "Coefficient statistics:\n",
      "  Matrix range     [0e+00, 0e+00]\n",
      "  Objective range  [5e+00, 3e+03]\n",
      "  Bounds range     [1e+00, 1e+00]\n",
      "  RHS range        [0e+00, 0e+00]\n",
      "Presolve removed 0 rows and 13 columns\n",
      "Presolve time: 0.00s\n",
      "Presolve: All rows and columns removed\n",
      "Iteration    Objective       Primal Inf.    Dual Inf.      Time\n",
      "       0    9.8508646e+03   0.000000e+00   0.000000e+00      0s\n",
      "\n",
      "Solved in 0 iterations and 0.01 seconds\n",
      "Optimal objective  9.850864576e+03\n",
      "Elapsed: 00:00:00\n",
      "affected_items [  75   97  926 1522 1584 1898 2364 2729 2895 3428 4443 5098 5410 5852\n",
      " 5985 6353 6454 6498 7205 7213]\n",
      "75\n",
      "unaffected_items [  94  528 1085 1172 1414 2116 2438 2697 2866 3286 4078 5065 5114 5500\n",
      " 5521 5802 5856 5878 6193 7243]\n",
      "94\n",
      "Gurobi Optimizer version 9.0.1 build v9.0.1rc0 (mac64)\n",
      "Optimize a model with 0 rows, 14 columns and 0 nonzeros\n",
      "Model fingerprint: 0x59b4174a\n",
      "Coefficient statistics:\n",
      "  Matrix range     [0e+00, 0e+00]\n",
      "  Objective range  [7e+00, 3e+03]\n",
      "  Bounds range     [1e+00, 1e+00]\n",
      "  RHS range        [0e+00, 0e+00]\n",
      "Presolve removed 0 rows and 14 columns\n",
      "Presolve time: 0.01s\n",
      "Presolve: All rows and columns removed\n",
      "Iteration    Objective       Primal Inf.    Dual Inf.      Time\n",
      "       0    1.0090234e+04   0.000000e+00   0.000000e+00      0s\n",
      "\n",
      "Solved in 0 iterations and 0.01 seconds\n",
      "Optimal objective  1.009023444e+04\n",
      "Elapsed: 00:00:00\n",
      "affected_items [  75   97  405  926 1522 1584 1898 2729 2895 2898 3428 4443 5098 5852\n",
      " 5985 6353 6454 6498 7205 7213]\n",
      "75\n",
      "unaffected_items [1172 1363 1414 1575 2116 2438 2697 3286 4078 4092 4613 5114 5521 5802\n",
      " 5856 5878 6193 6504 7243 7394]\n",
      "1172\n",
      "Gurobi Optimizer version 9.0.1 build v9.0.1rc0 (mac64)\n",
      "Optimize a model with 0 rows, 15 columns and 0 nonzeros\n",
      "Model fingerprint: 0x44877450\n",
      "Coefficient statistics:\n",
      "  Matrix range     [0e+00, 0e+00]\n",
      "  Objective range  [2e+00, 3e+03]\n",
      "  Bounds range     [1e+00, 1e+00]\n",
      "  RHS range        [0e+00, 0e+00]\n",
      "Presolve removed 0 rows and 15 columns\n",
      "Presolve time: 0.01s\n",
      "Presolve: All rows and columns removed\n",
      "Iteration    Objective       Primal Inf.    Dual Inf.      Time\n",
      "       0    1.0172460e+04   0.000000e+00   0.000000e+00      0s\n",
      "\n",
      "Solved in 0 iterations and 0.01 seconds\n",
      "Optimal objective  1.017245996e+04\n",
      "Elapsed: 00:00:00\n",
      "affected_items [  97  926 1522 1584 1898 2729 2895 2898 3428 4443 4966 5098 5315 5763\n",
      " 5852 5985 6454 6498 7205 7213]\n",
      "97\n",
      "unaffected_items [  94 1172 1363 1414 2116 2438 2697 3286 4078 4092 4713 5114 5521 5802\n",
      " 5856 5878 6193 6504 7243 7394]\n",
      "94\n",
      "Gurobi Optimizer version 9.0.1 build v9.0.1rc0 (mac64)\n",
      "Optimize a model with 0 rows, 16 columns and 0 nonzeros\n",
      "Model fingerprint: 0x508cdfc7\n",
      "Coefficient statistics:\n",
      "  Matrix range     [0e+00, 0e+00]\n",
      "  Objective range  [2e+01, 3e+03]\n",
      "  Bounds range     [1e+00, 1e+00]\n",
      "  RHS range        [0e+00, 0e+00]\n",
      "Presolve removed 0 rows and 16 columns\n",
      "Presolve time: 0.00s\n",
      "Presolve: All rows and columns removed\n",
      "Iteration    Objective       Primal Inf.    Dual Inf.      Time\n",
      "       0    1.0666470e+04   0.000000e+00   0.000000e+00      0s\n",
      "\n",
      "Solved in 0 iterations and 0.01 seconds\n",
      "Optimal objective  1.066646992e+04\n",
      "Elapsed: 00:00:00\n",
      "affected_items [  97  405  926 1522 1584 1898 2729 2895 2898 3428 4443 5098 5315 5763\n",
      " 5852 5985 6454 6498 7205 7213]\n",
      "97\n",
      "unaffected_items [  94 1248 1363 1414 2059 2116 2438 2697 2866 3286 3902 4092 4713 5114\n",
      " 5802 5878 6193 6504 7243 7394]\n",
      "94\n",
      "Gurobi Optimizer version 9.0.1 build v9.0.1rc0 (mac64)\n",
      "Optimize a model with 0 rows, 17 columns and 0 nonzeros\n",
      "Model fingerprint: 0x327af8f3\n",
      "Coefficient statistics:\n",
      "  Matrix range     [0e+00, 0e+00]\n",
      "  Objective range  [2e+01, 3e+03]\n",
      "  Bounds range     [1e+00, 1e+00]\n",
      "  RHS range        [0e+00, 0e+00]\n",
      "Presolve removed 0 rows and 17 columns\n",
      "Presolve time: 0.01s\n",
      "Presolve: All rows and columns removed\n",
      "Iteration    Objective       Primal Inf.    Dual Inf.      Time\n",
      "       0    1.1238780e+04   0.000000e+00   0.000000e+00      0s\n",
      "\n",
      "Solved in 0 iterations and 0.01 seconds\n",
      "Optimal objective  1.123878035e+04\n",
      "Elapsed: 00:00:00\n",
      "affected_items [  97 1522 1584 2364 2729 2895 2898 3428 4443 5098 5315 5410 5763 5852\n",
      " 5985 6454 6498 7034 7205 7213]\n",
      "97\n",
      "unaffected_items [  94  666 1248 1363 1414 1575 2116 2438 2697 3286 4564 4713 5114 5476\n",
      " 5519 5802 5878 6109 6193 7243]\n",
      "94\n",
      "Gurobi Optimizer version 9.0.1 build v9.0.1rc0 (mac64)\n",
      "Optimize a model with 0 rows, 18 columns and 0 nonzeros\n",
      "Model fingerprint: 0x8128eeea\n",
      "Coefficient statistics:\n",
      "  Matrix range     [0e+00, 0e+00]\n",
      "  Objective range  [2e+01, 3e+03]\n",
      "  Bounds range     [1e+00, 1e+00]\n",
      "  RHS range        [0e+00, 0e+00]\n",
      "Presolve removed 0 rows and 18 columns\n",
      "Presolve time: 0.00s\n",
      "Presolve: All rows and columns removed\n",
      "Iteration    Objective       Primal Inf.    Dual Inf.      Time\n",
      "       0    1.2466015e+04   0.000000e+00   0.000000e+00      0s\n",
      "\n",
      "Solved in 0 iterations and 0.01 seconds\n",
      "Optimal objective  1.246601450e+04\n",
      "Elapsed: 00:00:00\n",
      "affected_items [  75   97 1522 1584 2364 2729 2847 2895 2898 3428 4443 5098 5315 5410\n",
      " 5763 5852 5985 6454 7205 7213]\n",
      "75\n",
      "unaffected_items [  94  511 1248 1363 1414 1575 2116 2438 2697 3286 3479 4564 4713 5114\n",
      " 5476 5802 5878 6109 6193 7243]\n",
      "94\n",
      "Gurobi Optimizer version 9.0.1 build v9.0.1rc0 (mac64)\n",
      "Optimize a model with 0 rows, 19 columns and 0 nonzeros\n",
      "Model fingerprint: 0x6e0ce3c0\n",
      "Coefficient statistics:\n",
      "  Matrix range     [0e+00, 0e+00]\n",
      "  Objective range  [2e+00, 3e+03]\n",
      "  Bounds range     [1e+00, 1e+00]\n",
      "  RHS range        [0e+00, 0e+00]\n",
      "Presolve removed 0 rows and 19 columns\n",
      "Presolve time: 0.00s\n",
      "Presolve: All rows and columns removed\n",
      "Iteration    Objective       Primal Inf.    Dual Inf.      Time\n",
      "       0    1.2768116e+04   0.000000e+00   0.000000e+00      0s\n",
      "\n",
      "Solved in 0 iterations and 0.01 seconds\n",
      "Optimal objective  1.276811589e+04\n",
      "Elapsed: 00:00:00\n",
      "affected_items [  97 1406 2364 2729 2847 2895 2898 3428 4390 4443 5098 5315 5340 5410\n",
      " 5763 5852 6454 7205 7213 7286]\n",
      "97\n",
      "unaffected_items [  94  511  928 1363 1414 2009 2116 2697 2866 3433 3479 4713 5114 5476\n",
      " 5779 5802 5878 6193 6824 7243]\n",
      "94\n",
      "Gurobi Optimizer version 9.0.1 build v9.0.1rc0 (mac64)\n"
     ]
    },
    {
     "name": "stdout",
     "output_type": "stream",
     "text": [
      "Optimize a model with 0 rows, 20 columns and 0 nonzeros\n",
      "Model fingerprint: 0x876762f8\n",
      "Coefficient statistics:\n",
      "  Matrix range     [0e+00, 0e+00]\n",
      "  Objective range  [2e+01, 3e+03]\n",
      "  Bounds range     [1e+00, 1e+00]\n",
      "  RHS range        [0e+00, 0e+00]\n",
      "Presolve removed 0 rows and 20 columns\n",
      "Presolve time: 0.00s\n",
      "Presolve: All rows and columns removed\n",
      "Iteration    Objective       Primal Inf.    Dual Inf.      Time\n",
      "       0    1.3482071e+04   0.000000e+00   0.000000e+00      0s\n",
      "\n",
      "Solved in 0 iterations and 0.01 seconds\n",
      "Optimal objective  1.348207091e+04\n",
      "Elapsed: 00:00:00\n",
      "affected_items [ 870 1527 1940 2320 2525 2882 2906 2975 3260 3337 3347 3699 4358 4673\n",
      " 4758 4895 4901 5870 6568 7056]\n",
      "870\n",
      "unaffected_items [ 446  986 1392 2921 3335 3729 3754 3756 4276 5546 5558 6003 6202 6303\n",
      " 6390 6472 6493 6636 6680 7196]\n",
      "446\n",
      "Gurobi Optimizer version 9.0.1 build v9.0.1rc0 (mac64)\n",
      "Optimize a model with 0 rows, 1 columns and 0 nonzeros\n",
      "Model fingerprint: 0x7b139340\n",
      "Coefficient statistics:\n",
      "  Matrix range     [0e+00, 0e+00]\n",
      "  Objective range  [1e+02, 1e+02]\n",
      "  Bounds range     [1e+00, 1e+00]\n",
      "  RHS range        [0e+00, 0e+00]\n",
      "Presolve removed 0 rows and 1 columns\n",
      "Presolve time: 0.01s\n",
      "Presolve: All rows and columns removed\n",
      "Iteration    Objective       Primal Inf.    Dual Inf.      Time\n",
      "       0    2.6201355e+02   0.000000e+00   0.000000e+00      0s\n",
      "\n",
      "Solved in 0 iterations and 0.01 seconds\n",
      "Optimal objective  2.620135508e+02\n",
      "Elapsed: 00:00:00\n",
      "affected_items [  82   97 1340 2460 2528 2804 3340 3368 3739 4443 4707 4848 5317 5340\n",
      " 5371 6353 6519 6947 7213 7427]\n",
      "82\n",
      "unaffected_items [ 486  922 1410 1665 1710 1787 2066 2315 2409 3905 3941 4369 5150 5204\n",
      " 6031 6294 6559 6642 6852 7010]\n",
      "486\n",
      "Gurobi Optimizer version 9.0.1 build v9.0.1rc0 (mac64)\n",
      "Optimize a model with 0 rows, 2 columns and 0 nonzeros\n",
      "Model fingerprint: 0xcf7f9f76\n",
      "Coefficient statistics:\n",
      "  Matrix range     [0e+00, 0e+00]\n",
      "  Objective range  [6e+01, 5e+02]\n",
      "  Bounds range     [1e+00, 1e+00]\n",
      "  RHS range        [0e+00, 0e+00]\n",
      "Presolve removed 0 rows and 2 columns\n",
      "Presolve time: 0.01s\n",
      "Presolve: All rows and columns removed\n",
      "Iteration    Objective       Primal Inf.    Dual Inf.      Time\n",
      "       0    1.0243203e+03   0.000000e+00   0.000000e+00      0s\n",
      "\n",
      "Solved in 0 iterations and 0.01 seconds\n",
      "Optimal objective  1.024320346e+03\n",
      "Elapsed: 00:00:00\n",
      "affected_items [  97  683 1090 2460 2528 2847 3340 3368 3512 3739 4443 5315 5340 5371\n",
      " 5763 6353 6519 6947 7163 7427]\n",
      "97\n",
      "unaffected_items [   8   59 1410 1665 1743 1787 2315 2409 2910 3905 3941 4369 5066 5150\n",
      " 5204 6031 6294 6559 6579 7010]\n",
      "8\n",
      "Gurobi Optimizer version 9.0.1 build v9.0.1rc0 (mac64)\n",
      "Optimize a model with 0 rows, 3 columns and 0 nonzeros\n",
      "Model fingerprint: 0xe2107a1f\n",
      "Coefficient statistics:\n",
      "  Matrix range     [0e+00, 0e+00]\n",
      "  Objective range  [2e+01, 5e+02]\n",
      "  Bounds range     [1e+00, 1e+00]\n",
      "  RHS range        [0e+00, 0e+00]\n",
      "Presolve removed 0 rows and 3 columns\n",
      "Presolve time: 0.00s\n",
      "Presolve: All rows and columns removed\n",
      "Iteration    Objective       Primal Inf.    Dual Inf.      Time\n",
      "       0    1.2870193e+03   0.000000e+00   0.000000e+00      0s\n",
      "\n",
      "Solved in 0 iterations and 0.01 seconds\n",
      "Optimal objective  1.287019288e+03\n",
      "Elapsed: 00:00:00\n",
      "affected_items [  97  683 1090 2460 2528 2804 3340 3368 3512 3739 4443 5315 5340 5371\n",
      " 5763 6353 6519 6947 7163 7427]\n",
      "97\n",
      "unaffected_items [   8   59 1410 1665 1743 1787 2066 2315 2910 3905 3941 4369 5066 5150\n",
      " 5204 6031 6294 6559 6579 7010]\n",
      "8\n",
      "Gurobi Optimizer version 9.0.1 build v9.0.1rc0 (mac64)\n",
      "Optimize a model with 0 rows, 4 columns and 0 nonzeros\n",
      "Model fingerprint: 0xc90b9ec1\n",
      "Coefficient statistics:\n",
      "  Matrix range     [0e+00, 0e+00]\n",
      "  Objective range  [4e+01, 6e+02]\n",
      "  Bounds range     [1e+00, 1e+00]\n",
      "  RHS range        [0e+00, 0e+00]\n",
      "Presolve removed 0 rows and 4 columns\n",
      "Presolve time: 0.00s\n",
      "Presolve: All rows and columns removed\n",
      "Iteration    Objective       Primal Inf.    Dual Inf.      Time\n",
      "       0    1.4227947e+03   0.000000e+00   0.000000e+00      0s\n",
      "\n",
      "Solved in 0 iterations and 0.01 seconds\n",
      "Optimal objective  1.422794705e+03\n",
      "Elapsed: 00:00:00\n",
      "affected_items [  97  683 1090 1407 2460 2528 2804 3340 3368 3512 4443 5315 5340 5371\n",
      " 5763 6059 6353 6947 7163 7427]\n",
      "97\n",
      "unaffected_items [   8   59 1410 1665 1743 1787 2066 2315 2910 3905 3941 4369 5066 5150\n",
      " 5204 6031 6294 6559 6579 7010]\n",
      "8\n",
      "Gurobi Optimizer version 9.0.1 build v9.0.1rc0 (mac64)\n",
      "Optimize a model with 0 rows, 5 columns and 0 nonzeros\n",
      "Model fingerprint: 0xcc5bd47c\n",
      "Coefficient statistics:\n",
      "  Matrix range     [0e+00, 0e+00]\n",
      "  Objective range  [5e+01, 5e+02]\n",
      "  Bounds range     [1e+00, 1e+00]\n",
      "  RHS range        [0e+00, 0e+00]\n",
      "Presolve removed 0 rows and 5 columns\n",
      "Presolve time: 0.01s\n",
      "Presolve: All rows and columns removed\n",
      "Iteration    Objective       Primal Inf.    Dual Inf.      Time\n",
      "       0    1.5123668e+03   0.000000e+00   0.000000e+00      0s\n",
      "\n",
      "Solved in 0 iterations and 0.01 seconds\n",
      "Optimal objective  1.512366832e+03\n",
      "Elapsed: 00:00:00\n",
      "affected_items [ 683 1090 2528 2804 2894 3340 3368 3512 3739 4443 4599 5340 5371 5763\n",
      " 6059 6353 6947 7163 7426 7427]\n",
      "683\n",
      "unaffected_items [   8   59 1410 1665 1743 1787 2315 2609 2643 2910 3905 3941 4369 5066\n",
      " 5150 5204 6031 6294 6559 7010]\n",
      "8\n",
      "Gurobi Optimizer version 9.0.1 build v9.0.1rc0 (mac64)\n",
      "Optimize a model with 0 rows, 6 columns and 0 nonzeros\n",
      "Model fingerprint: 0xffec2c6b\n",
      "Coefficient statistics:\n",
      "  Matrix range     [0e+00, 0e+00]\n",
      "  Objective range  [4e+01, 5e+02]\n",
      "  Bounds range     [1e+00, 1e+00]\n",
      "  RHS range        [0e+00, 0e+00]\n",
      "Presolve removed 0 rows and 6 columns\n",
      "Presolve time: 0.01s\n",
      "Presolve: All rows and columns removed\n",
      "Iteration    Objective       Primal Inf.    Dual Inf.      Time\n",
      "       0    1.6081877e+03   0.000000e+00   0.000000e+00      0s\n",
      "\n",
      "Solved in 0 iterations and 0.01 seconds\n",
      "Optimal objective  1.608187711e+03\n",
      "Elapsed: 00:00:00\n",
      "affected_items [ 167 1090 1652 2528 2847 2894 2925 3512 3739 4443 4599 5340 5371 5626\n",
      " 6059 6353 6947 7163 7426 7427]\n",
      "167\n",
      "unaffected_items [   8   59 1410 1665 1743 1787 2315 2609 2644 3025 3905 3941 4369 5066\n",
      " 5150 5204 6031 6294 6559 7010]\n",
      "8\n",
      "Gurobi Optimizer version 9.0.1 build v9.0.1rc0 (mac64)\n",
      "Optimize a model with 0 rows, 7 columns and 0 nonzeros\n",
      "Model fingerprint: 0x75306c81\n",
      "Coefficient statistics:\n",
      "  Matrix range     [0e+00, 0e+00]\n",
      "  Objective range  [4e+01, 5e+02]\n",
      "  Bounds range     [1e+00, 1e+00]\n",
      "  RHS range        [0e+00, 0e+00]\n",
      "Presolve removed 0 rows and 7 columns\n",
      "Presolve time: 0.00s\n",
      "Presolve: All rows and columns removed\n",
      "Iteration    Objective       Primal Inf.    Dual Inf.      Time\n",
      "       0    1.8273375e+03   0.000000e+00   0.000000e+00      0s\n",
      "\n",
      "Solved in 0 iterations and 0.01 seconds\n",
      "Optimal objective  1.827337549e+03\n",
      "Elapsed: 00:00:00\n",
      "affected_items [ 735 1090 2188 2528 2925 3368 3512 3739 4443 4707 5315 5340 5371 5626\n",
      " 6059 6353 6947 7163 7426 7427]\n",
      "735\n",
      "unaffected_items [1410 1665 1743 1787 2229 2315 2609 3025 3905 3941 4369 5066 5150 5204\n",
      " 6031 6060 6294 6559 6579 7010]\n",
      "1410\n",
      "Gurobi Optimizer version 9.0.1 build v9.0.1rc0 (mac64)\n",
      "Optimize a model with 0 rows, 8 columns and 0 nonzeros\n",
      "Model fingerprint: 0xb672bd4c\n",
      "Coefficient statistics:\n",
      "  Matrix range     [0e+00, 0e+00]\n",
      "  Objective range  [4e+01, 5e+02]\n",
      "  Bounds range     [1e+00, 1e+00]\n",
      "  RHS range        [0e+00, 0e+00]\n",
      "Presolve removed 0 rows and 8 columns\n",
      "Presolve time: 0.00s\n",
      "Presolve: All rows and columns removed\n",
      "Iteration    Objective       Primal Inf.    Dual Inf.      Time\n",
      "       0    2.0846817e+03   0.000000e+00   0.000000e+00      0s\n",
      "\n",
      "Solved in 0 iterations and 0.01 seconds\n",
      "Optimal objective  2.084681680e+03\n",
      "Elapsed: 00:00:00\n",
      "affected_items [ 735 1090 2188 2528 2925 3368 3512 3739 4443 4707 5315 5340 5371 5626\n",
      " 6059 6353 6947 7163 7426 7427]\n",
      "735\n",
      "unaffected_items [ 392 1410 1665 1743 1787 2229 2315 2609 3905 3941 4369 5066 5150 5204\n",
      " 6031 6060 6294 6559 6579 7010]\n",
      "392\n",
      "Gurobi Optimizer version 9.0.1 build v9.0.1rc0 (mac64)\n",
      "Optimize a model with 0 rows, 9 columns and 0 nonzeros\n",
      "Model fingerprint: 0x57b8c4de\n",
      "Coefficient statistics:\n",
      "  Matrix range     [0e+00, 0e+00]\n",
      "  Objective range  [4e+01, 5e+02]\n",
      "  Bounds range     [1e+00, 1e+00]\n",
      "  RHS range        [0e+00, 0e+00]\n",
      "Presolve removed 0 rows and 9 columns\n",
      "Presolve time: 0.01s\n",
      "Presolve: All rows and columns removed\n",
      "Iteration    Objective       Primal Inf.    Dual Inf.      Time\n",
      "       0    2.1283620e+03   0.000000e+00   0.000000e+00      0s\n"
     ]
    },
    {
     "name": "stdout",
     "output_type": "stream",
     "text": [
      "\n",
      "Solved in 0 iterations and 0.01 seconds\n",
      "Optimal objective  2.128361970e+03\n",
      "Elapsed: 00:00:00\n",
      "affected_items [ 683  735 2528 2925 3347 3368 3512 3739 4443 4599 5315 5340 5371 5626\n",
      " 6059 6353 6947 7100 7163 7427]\n",
      "683\n",
      "unaffected_items [ 646 1410 1665 1743 1787 2229 2315 2609 3905 3941 4369 5066 5150 5204\n",
      " 6031 6060 6294 6559 6579 7010]\n",
      "646\n",
      "Gurobi Optimizer version 9.0.1 build v9.0.1rc0 (mac64)\n",
      "Optimize a model with 0 rows, 10 columns and 0 nonzeros\n",
      "Model fingerprint: 0x349b4225\n",
      "Coefficient statistics:\n",
      "  Matrix range     [0e+00, 0e+00]\n",
      "  Objective range  [1e+01, 5e+02]\n",
      "  Bounds range     [1e+00, 1e+00]\n",
      "  RHS range        [0e+00, 0e+00]\n",
      "Presolve removed 0 rows and 10 columns\n",
      "Presolve time: 0.00s\n",
      "Presolve: All rows and columns removed\n",
      "Iteration    Objective       Primal Inf.    Dual Inf.      Time\n",
      "       0    2.3570753e+03   0.000000e+00   0.000000e+00      0s\n",
      "\n",
      "Solved in 0 iterations and 0.01 seconds\n",
      "Optimal objective  2.357075341e+03\n",
      "Elapsed: 00:00:00\n",
      "affected_items [ 683  735 2528 2925 3347 3368 3512 4443 4599 5315 5340 5371 5626 5840\n",
      " 6222 6353 7100 7163 7426 7427]\n",
      "683\n",
      "unaffected_items [ 646 1410 1665 1787 2229 2315 2609 3905 3941 4369 5066 5150 5204 5582\n",
      " 6031 6060 6294 6559 6579 7010]\n",
      "646\n",
      "Gurobi Optimizer version 9.0.1 build v9.0.1rc0 (mac64)\n",
      "Optimize a model with 0 rows, 11 columns and 0 nonzeros\n",
      "Model fingerprint: 0xb06e1786\n",
      "Coefficient statistics:\n",
      "  Matrix range     [0e+00, 0e+00]\n",
      "  Objective range  [4e+01, 5e+02]\n",
      "  Bounds range     [1e+00, 1e+00]\n",
      "  RHS range        [0e+00, 0e+00]\n",
      "Presolve removed 0 rows and 11 columns\n",
      "Presolve time: 0.00s\n",
      "Presolve: All rows and columns removed\n",
      "Iteration    Objective       Primal Inf.    Dual Inf.      Time\n",
      "       0    2.5432798e+03   0.000000e+00   0.000000e+00      0s\n",
      "\n",
      "Solved in 0 iterations and 0.01 seconds\n",
      "Optimal objective  2.543279762e+03\n",
      "Elapsed: 00:00:00\n",
      "affected_items [ 683  735 1090 2188 2364 2460 2528 2925 3347 3512 3739 4443 4707 5315\n",
      " 5340 5626 5991 6353 6938 7163]\n",
      "683\n",
      "unaffected_items [1410 1665 1787 2229 2315 2609 2761 3534 3905 3941 4369 5066 5150 5204\n",
      " 6031 6060 6088 6559 6600 7010]\n",
      "1410\n",
      "Gurobi Optimizer version 9.0.1 build v9.0.1rc0 (mac64)\n",
      "Optimize a model with 0 rows, 12 columns and 0 nonzeros\n",
      "Model fingerprint: 0x4beb9d09\n",
      "Coefficient statistics:\n",
      "  Matrix range     [0e+00, 0e+00]\n",
      "  Objective range  [2e+01, 7e+02]\n",
      "  Bounds range     [1e+00, 1e+00]\n",
      "  RHS range        [0e+00, 0e+00]\n",
      "Presolve removed 0 rows and 12 columns\n",
      "Presolve time: 0.00s\n",
      "Presolve: All rows and columns removed\n",
      "Iteration    Objective       Primal Inf.    Dual Inf.      Time\n",
      "       0    2.8361963e+03   0.000000e+00   0.000000e+00      0s\n",
      "\n",
      "Solved in 0 iterations and 0.01 seconds\n",
      "Optimal objective  2.836196285e+03\n",
      "Elapsed: 00:00:00\n",
      "affected_items [ 683  735 1249 2188 2364 2460 2528 2925 3347 3512 3739 4443 4707 5315\n",
      " 5340 5422 5626 6353 6938 7163]\n",
      "683\n",
      "unaffected_items [1202 1410 1665 1787 2083 2229 2315 2609 3534 3905 4369 5066 5150 5204\n",
      " 6088 6267 6559 6600 6904 7010]\n",
      "1202\n",
      "Gurobi Optimizer version 9.0.1 build v9.0.1rc0 (mac64)\n",
      "Optimize a model with 0 rows, 13 columns and 0 nonzeros\n",
      "Model fingerprint: 0x3f8ddf72\n",
      "Coefficient statistics:\n",
      "  Matrix range     [0e+00, 0e+00]\n",
      "  Objective range  [2e+01, 7e+02]\n",
      "  Bounds range     [1e+00, 1e+00]\n",
      "  RHS range        [0e+00, 0e+00]\n",
      "Presolve removed 0 rows and 13 columns\n",
      "Presolve time: 0.00s\n",
      "Presolve: All rows and columns removed\n",
      "Iteration    Objective       Primal Inf.    Dual Inf.      Time\n",
      "       0    2.9689943e+03   0.000000e+00   0.000000e+00      0s\n",
      "\n",
      "Solved in 0 iterations and 0.01 seconds\n",
      "Optimal objective  2.968994287e+03\n",
      "Elapsed: 00:00:00\n",
      "affected_items [ 683  735 1249 2188 2364 2460 2528 2925 3347 3512 3739 4443 4707 5315\n",
      " 5340 5422 5626 6353 6938 7163]\n",
      "683\n",
      "unaffected_items [1202 1410 1665 1787 2083 2229 2315 2609 3534 3905 4369 5066 5150 5204\n",
      " 6031 6088 6267 6559 6600 7010]\n",
      "1202\n",
      "Gurobi Optimizer version 9.0.1 build v9.0.1rc0 (mac64)\n",
      "Optimize a model with 0 rows, 14 columns and 0 nonzeros\n",
      "Model fingerprint: 0x71e910d5\n",
      "Coefficient statistics:\n",
      "  Matrix range     [0e+00, 0e+00]\n",
      "  Objective range  [2e+01, 8e+02]\n",
      "  Bounds range     [1e+00, 1e+00]\n",
      "  RHS range        [0e+00, 0e+00]\n",
      "Presolve removed 0 rows and 14 columns\n",
      "Presolve time: 0.00s\n",
      "Presolve: All rows and columns removed\n",
      "Iteration    Objective       Primal Inf.    Dual Inf.      Time\n",
      "       0    3.0069067e+03   0.000000e+00   0.000000e+00      0s\n",
      "\n",
      "Solved in 0 iterations and 0.01 seconds\n",
      "Optimal objective  3.006906690e+03\n",
      "Elapsed: 00:00:00\n",
      "affected_items [ 683  735 1249 2188 2364 2460 2528 2804 2925 3347 3512 4443 4707 5315\n",
      " 5340 5422 5577 5626 6353 7163]\n",
      "683\n",
      "unaffected_items [1202 1410 1665 1787 2229 2315 2609 2761 3534 3905 4369 5066 5150 5204\n",
      " 6031 6088 6267 6559 6600 7010]\n",
      "1202\n",
      "Gurobi Optimizer version 9.0.1 build v9.0.1rc0 (mac64)\n",
      "Optimize a model with 0 rows, 15 columns and 0 nonzeros\n",
      "Model fingerprint: 0x388fd875\n",
      "Coefficient statistics:\n",
      "  Matrix range     [0e+00, 0e+00]\n",
      "  Objective range  [6e+01, 7e+02]\n",
      "  Bounds range     [1e+00, 1e+00]\n",
      "  RHS range        [0e+00, 0e+00]\n",
      "Presolve removed 0 rows and 15 columns\n",
      "Presolve time: 0.00s\n",
      "Presolve: All rows and columns removed\n",
      "Iteration    Objective       Primal Inf.    Dual Inf.      Time\n",
      "       0    3.2557709e+03   0.000000e+00   0.000000e+00      0s\n",
      "\n",
      "Solved in 0 iterations and 0.01 seconds\n",
      "Optimal objective  3.255770904e+03\n",
      "Elapsed: 00:00:00\n",
      "affected_items [ 201  683  735 1249 2188 2804 2925 2942 3347 3512 3739 4443 5315 5340\n",
      " 5363 5371 5577 5626 6353 7163]\n",
      "201\n",
      "unaffected_items [1410 1665 1787 2083 2315 2488 2609 2761 3534 3905 3941 5066 5204 6031\n",
      " 6088 6294 6559 6600 6904 7010]\n",
      "1410\n",
      "Gurobi Optimizer version 9.0.1 build v9.0.1rc0 (mac64)\n",
      "Optimize a model with 0 rows, 16 columns and 0 nonzeros\n",
      "Model fingerprint: 0x71e48b31\n",
      "Coefficient statistics:\n",
      "  Matrix range     [0e+00, 0e+00]\n",
      "  Objective range  [1e+01, 5e+02]\n",
      "  Bounds range     [1e+00, 1e+00]\n",
      "  RHS range        [0e+00, 0e+00]\n",
      "Presolve removed 0 rows and 16 columns\n",
      "Presolve time: 0.00s\n",
      "Presolve: All rows and columns removed\n",
      "Iteration    Objective       Primal Inf.    Dual Inf.      Time\n",
      "       0    3.6734350e+03   0.000000e+00   0.000000e+00      0s\n",
      "\n",
      "Solved in 0 iterations and 0.01 seconds\n",
      "Optimal objective  3.673435000e+03\n",
      "Elapsed: 00:00:00\n",
      "affected_items [ 201  683  735 1249 1308 2188 2804 2925 2942 3347 3512 4443 5081 5340\n",
      " 5371 5422 5577 5626 6353 7163]\n",
      "201\n",
      "unaffected_items [ 104  310  486 1320 1566 1712 2083 2124 2267 2488 2609 2761 2886 3941\n",
      " 4369 4515 4868 5107 6636 6672]\n",
      "104\n",
      "Gurobi Optimizer version 9.0.1 build v9.0.1rc0 (mac64)\n",
      "Optimize a model with 0 rows, 17 columns and 0 nonzeros\n",
      "Model fingerprint: 0x0276d894\n",
      "Coefficient statistics:\n",
      "  Matrix range     [0e+00, 0e+00]\n",
      "  Objective range  [2e+01, 6e+02]\n",
      "  Bounds range     [1e+00, 1e+00]\n",
      "  RHS range        [0e+00, 0e+00]\n",
      "Presolve removed 0 rows and 17 columns\n",
      "Presolve time: 0.00s\n",
      "Presolve: All rows and columns removed\n",
      "Iteration    Objective       Primal Inf.    Dual Inf.      Time\n",
      "       0    4.5505381e+03   0.000000e+00   0.000000e+00      0s\n",
      "\n",
      "Solved in 0 iterations and 0.01 seconds\n",
      "Optimal objective  4.550538085e+03\n",
      "Elapsed: 00:00:00\n",
      "affected_items [ 683  735 2188 2804 2942 3347 3512 3739 4443 5081 5286 5326 5410 5422\n",
      " 5577 6222 6353 6568 6776 7163]\n",
      "683\n",
      "unaffected_items [ 486  822 1442 1712 2083 2124 2267 2471 2609 2761 3941 4369 4515 4740\n",
      " 5045 5773 6267 6448 6636 7347]\n",
      "486\n",
      "Gurobi Optimizer version 9.0.1 build v9.0.1rc0 (mac64)\n",
      "Optimize a model with 0 rows, 18 columns and 0 nonzeros\n",
      "Model fingerprint: 0xb54ec210\n",
      "Coefficient statistics:\n",
      "  Matrix range     [0e+00, 0e+00]\n",
      "  Objective range  [5e+01, 2e+03]\n",
      "  Bounds range     [1e+00, 1e+00]\n",
      "  RHS range        [0e+00, 0e+00]\n",
      "Presolve removed 0 rows and 18 columns\n",
      "Presolve time: 0.01s\n",
      "Presolve: All rows and columns removed\n",
      "Iteration    Objective       Primal Inf.    Dual Inf.      Time\n",
      "       0    7.0153342e+03   0.000000e+00   0.000000e+00      0s\n",
      "\n",
      "Solved in 0 iterations and 0.01 seconds\n",
      "Optimal objective  7.015334235e+03\n",
      "Elapsed: 00:00:00\n",
      "affected_items [ 683  735 2188 2804 2925 2942 3347 3512 4443 5081 5286 5371 5422 5577\n",
      " 5626 6222 6353 6568 6776 7163]\n",
      "683\n",
      "unaffected_items [ 223  486  702 1442 1712 2124 2267 2609 2722 2761 3690 3941 4346 4369\n",
      " 4515 4740 6448 6636 6982 7347]\n",
      "223\n",
      "Gurobi Optimizer version 9.0.1 build v9.0.1rc0 (mac64)\n"
     ]
    },
    {
     "name": "stdout",
     "output_type": "stream",
     "text": [
      "Optimize a model with 0 rows, 19 columns and 0 nonzeros\n",
      "Model fingerprint: 0x75714ff1\n",
      "Coefficient statistics:\n",
      "  Matrix range     [0e+00, 0e+00]\n",
      "  Objective range  [3e+01, 2e+03]\n",
      "  Bounds range     [1e+00, 1e+00]\n",
      "  RHS range        [0e+00, 0e+00]\n",
      "Presolve removed 0 rows and 19 columns\n",
      "Presolve time: 0.00s\n",
      "Presolve: All rows and columns removed\n",
      "Iteration    Objective       Primal Inf.    Dual Inf.      Time\n",
      "       0    7.1337948e+03   0.000000e+00   0.000000e+00      0s\n",
      "\n",
      "Solved in 0 iterations and 0.01 seconds\n",
      "Optimal objective  7.133794846e+03\n",
      "Elapsed: 00:00:00\n",
      "affected_items [  75  683 2804 2925 2942 3347 3512 4443 5081 5286 5410 5422 5577 5626\n",
      " 5870 6353 6568 6607 6776 7163]\n",
      "75\n",
      "unaffected_items [ 140  224  486 1442 1712 2124 2267 2471 2609 2722 2761 3941 4515 4737\n",
      " 4740 5372 5634 5773 6636 6982]\n",
      "140\n",
      "Gurobi Optimizer version 9.0.1 build v9.0.1rc0 (mac64)\n",
      "Optimize a model with 0 rows, 20 columns and 0 nonzeros\n",
      "Model fingerprint: 0x4a92feec\n",
      "Coefficient statistics:\n",
      "  Matrix range     [0e+00, 0e+00]\n",
      "  Objective range  [2e+01, 2e+03]\n",
      "  Bounds range     [1e+00, 1e+00]\n",
      "  RHS range        [0e+00, 0e+00]\n",
      "Presolve removed 0 rows and 20 columns\n",
      "Presolve time: 0.00s\n",
      "Presolve: All rows and columns removed\n",
      "Iteration    Objective       Primal Inf.    Dual Inf.      Time\n",
      "       0    7.9139162e+03   0.000000e+00   0.000000e+00      0s\n",
      "\n",
      "Solved in 0 iterations and 0.01 seconds\n",
      "Optimal objective  7.913916153e+03\n",
      "Elapsed: 00:00:00\n",
      "affected_items [ 870 1061 1527 1940 2320 2489 2525 2906 2975 3699 3883 4358 4673 4758\n",
      " 4895 4901 5558 5870 6568 7056]\n",
      "870\n",
      "unaffected_items [ 635  797 1107 1985 2234 2882 3147 3185 3260 3294 3335 3337 3347 3997\n",
      " 4499 5081 5254 6081 6472 6660]\n",
      "635\n",
      "Gurobi Optimizer version 9.0.1 build v9.0.1rc0 (mac64)\n",
      "Optimize a model with 0 rows, 1 columns and 0 nonzeros\n",
      "Model fingerprint: 0x728834ec\n",
      "Coefficient statistics:\n",
      "  Matrix range     [0e+00, 0e+00]\n",
      "  Objective range  [5e+02, 5e+02]\n",
      "  Bounds range     [1e+00, 1e+00]\n",
      "  RHS range        [0e+00, 0e+00]\n",
      "Presolve removed 0 rows and 1 columns\n",
      "Presolve time: 0.00s\n",
      "Presolve: All rows and columns removed\n",
      "Iteration    Objective       Primal Inf.    Dual Inf.      Time\n",
      "       0    5.6355647e+02   0.000000e+00   0.000000e+00      0s\n",
      "\n",
      "Solved in 0 iterations and 0.01 seconds\n",
      "Optimal objective  5.635564746e+02\n",
      "Elapsed: 00:00:00\n",
      "affected_items [  75   97  926 1511 1548 1584 2460 2729 2895 3097 3988 4443 4832 5098\n",
      " 5315 5852 6353 6498 7205 7213]\n",
      "75\n",
      "unaffected_items [  59 1315 1410 1569 1710 2267 2407 2563 3145 3260 3465 3785 3864 4268\n",
      " 4441 4692 4966 6348 6389 6793]\n",
      "59\n",
      "Gurobi Optimizer version 9.0.1 build v9.0.1rc0 (mac64)\n",
      "Optimize a model with 0 rows, 2 columns and 0 nonzeros\n",
      "Model fingerprint: 0xdd884699\n",
      "Coefficient statistics:\n",
      "  Matrix range     [0e+00, 0e+00]\n",
      "  Objective range  [3e+03, 3e+03]\n",
      "  Bounds range     [1e+00, 1e+00]\n",
      "  RHS range        [0e+00, 0e+00]\n",
      "Presolve removed 0 rows and 2 columns\n",
      "Presolve time: 0.00s\n",
      "Presolve: All rows and columns removed\n",
      "Iteration    Objective       Primal Inf.    Dual Inf.      Time\n",
      "       0    6.6220186e+03   0.000000e+00   0.000000e+00      0s\n",
      "\n",
      "Solved in 0 iterations and 0.01 seconds\n",
      "Optimal objective  6.622018568e+03\n",
      "Elapsed: 00:00:00\n",
      "affected_items [  97  926 1548 1584 1898 2364 2412 2729 2895 3097 4443 5010 5098 5214\n",
      " 5315 5852 6353 6498 7205 7213]\n",
      "97\n",
      "unaffected_items [ 300 1079 1192 1414 2086 2152 2267 2534 2845 2885 2927 3408 3465 3558\n",
      " 4268 4966 6152 6348 6830 7339]\n",
      "300\n",
      "Gurobi Optimizer version 9.0.1 build v9.0.1rc0 (mac64)\n",
      "Optimize a model with 0 rows, 3 columns and 0 nonzeros\n",
      "Model fingerprint: 0xe937239e\n",
      "Coefficient statistics:\n",
      "  Matrix range     [0e+00, 0e+00]\n",
      "  Objective range  [1e+01, 3e+03]\n",
      "  Bounds range     [1e+00, 1e+00]\n",
      "  RHS range        [0e+00, 0e+00]\n",
      "Presolve removed 0 rows and 3 columns\n",
      "Presolve time: 0.01s\n",
      "Presolve: All rows and columns removed\n",
      "Iteration    Objective       Primal Inf.    Dual Inf.      Time\n",
      "       0    6.1952908e+03   0.000000e+00   0.000000e+00      0s\n",
      "\n",
      "Solved in 0 iterations and 0.01 seconds\n",
      "Optimal objective  6.195290765e+03\n",
      "Elapsed: 00:00:00\n",
      "affected_items [  97  926 1548 1898 2364 2412 2460 2729 2895 3097 3988 4390 4443 5010\n",
      " 5098 5315 5852 6498 7205 7213]\n",
      "97\n",
      "unaffected_items [ 300  484 1085 1363 1414 1980 2267 2679 2845 3286 3558 3735 4966 5136\n",
      " 5759 6348 6532 6800 6830 7128]\n",
      "300\n",
      "Gurobi Optimizer version 9.0.1 build v9.0.1rc0 (mac64)\n",
      "Optimize a model with 0 rows, 4 columns and 0 nonzeros\n",
      "Model fingerprint: 0xf5d271f5\n",
      "Coefficient statistics:\n",
      "  Matrix range     [0e+00, 0e+00]\n",
      "  Objective range  [7e+01, 3e+03]\n",
      "  Bounds range     [1e+00, 1e+00]\n",
      "  RHS range        [0e+00, 0e+00]\n",
      "Presolve removed 0 rows and 4 columns\n",
      "Presolve time: 0.01s\n",
      "Presolve: All rows and columns removed\n",
      "Iteration    Objective       Primal Inf.    Dual Inf.      Time\n",
      "       0    6.8087076e+03   0.000000e+00   0.000000e+00      0s\n",
      "\n",
      "Solved in 0 iterations and 0.01 seconds\n",
      "Optimal objective  6.808707594e+03\n",
      "Elapsed: 00:00:00\n",
      "affected_items [  75   97  926 1584 1898 2412 2460 2729 2895 3097 4443 5010 5098 5315\n",
      " 5852 6498 6744 7034 7205 7213]\n",
      "75\n",
      "unaffected_items [  40  300  484 1363 1710 1980 2267 2563 2845 3286 3558 3735 4966 5136\n",
      " 5310 5759 6348 6532 6800 7243]\n",
      "40\n",
      "Gurobi Optimizer version 9.0.1 build v9.0.1rc0 (mac64)\n",
      "Optimize a model with 0 rows, 5 columns and 0 nonzeros\n",
      "Model fingerprint: 0x5fae2cb7\n",
      "Coefficient statistics:\n",
      "  Matrix range     [0e+00, 0e+00]\n",
      "  Objective range  [2e+01, 3e+03]\n",
      "  Bounds range     [1e+00, 1e+00]\n",
      "  RHS range        [0e+00, 0e+00]\n",
      "Presolve removed 0 rows and 5 columns\n",
      "Presolve time: 0.01s\n",
      "Presolve: All rows and columns removed\n",
      "Iteration    Objective       Primal Inf.    Dual Inf.      Time\n",
      "       0    7.2442633e+03   0.000000e+00   0.000000e+00      0s\n",
      "\n",
      "Solved in 0 iterations and 0.01 seconds\n",
      "Optimal objective  7.244263306e+03\n",
      "Elapsed: 00:00:00\n",
      "affected_items [  97  590  926 1704 2364 2412 2460 2895 3097 3988 4443 4848 4940 5098\n",
      " 5315 5852 6353 6498 7205 7213]\n",
      "97\n",
      "unaffected_items [ 484 1075 1363 1710 1980 2267 2277 2563 2845 3286 3344 3558 3735 4966\n",
      " 5136 5738 5759 6348 6462 6992]\n",
      "484\n",
      "Gurobi Optimizer version 9.0.1 build v9.0.1rc0 (mac64)\n",
      "Optimize a model with 0 rows, 6 columns and 0 nonzeros\n",
      "Model fingerprint: 0xa099e239\n",
      "Coefficient statistics:\n",
      "  Matrix range     [0e+00, 0e+00]\n",
      "  Objective range  [8e+01, 3e+03]\n",
      "  Bounds range     [1e+00, 1e+00]\n",
      "  RHS range        [0e+00, 0e+00]\n",
      "Presolve removed 0 rows and 6 columns\n",
      "Presolve time: 0.01s\n",
      "Presolve: All rows and columns removed\n",
      "Iteration    Objective       Primal Inf.    Dual Inf.      Time\n",
      "       0    8.1587143e+03   0.000000e+00   0.000000e+00      0s\n",
      "\n",
      "Solved in 0 iterations and 0.01 seconds\n",
      "Optimal objective  8.158714254e+03\n",
      "Elapsed: 00:00:00\n",
      "affected_items [  97  590  926 1898 2364 2412 2460 2729 2895 3097 3988 4443 4848 4940\n",
      " 5098 5315 6353 6498 7205 7213]\n",
      "97\n",
      "unaffected_items [ 484 1075 1363 1710 2267 2277 2563 2845 3286 3558 3735 4966 5136 5310\n",
      " 5759 5853 6348 6462 6800 6992]\n",
      "484\n",
      "Gurobi Optimizer version 9.0.1 build v9.0.1rc0 (mac64)\n",
      "Optimize a model with 0 rows, 7 columns and 0 nonzeros\n",
      "Model fingerprint: 0xc7f404e0\n",
      "Coefficient statistics:\n",
      "  Matrix range     [0e+00, 0e+00]\n",
      "  Objective range  [3e+01, 3e+03]\n",
      "  Bounds range     [1e+00, 1e+00]\n",
      "  RHS range        [0e+00, 0e+00]\n",
      "Presolve removed 0 rows and 7 columns\n",
      "Presolve time: 0.01s\n",
      "Presolve: All rows and columns removed\n",
      "Iteration    Objective       Primal Inf.    Dual Inf.      Time\n",
      "       0    8.2177185e+03   0.000000e+00   0.000000e+00      0s\n",
      "\n",
      "Solved in 0 iterations and 0.01 seconds\n",
      "Optimal objective  8.217718458e+03\n",
      "Elapsed: 00:00:00\n",
      "affected_items [  97  590  926 1898 2364 2412 2460 2729 2895 3097 4443 4848 4940 5098\n",
      " 5315 5852 6353 6498 7205 7213]\n",
      "97\n",
      "unaffected_items [ 484 1075 1363 1454 1710 1980 2267 2277 2563 2845 3286 3558 3735 4966\n",
      " 5310 5759 5853 6348 6800 6992]\n",
      "484\n",
      "Gurobi Optimizer version 9.0.1 build v9.0.1rc0 (mac64)\n",
      "Optimize a model with 0 rows, 8 columns and 0 nonzeros\n",
      "Model fingerprint: 0xe0309bac\n",
      "Coefficient statistics:\n",
      "  Matrix range     [0e+00, 0e+00]\n",
      "  Objective range  [8e+01, 3e+03]\n",
      "  Bounds range     [1e+00, 1e+00]\n",
      "  RHS range        [0e+00, 0e+00]\n",
      "Presolve removed 0 rows and 8 columns\n",
      "Presolve time: 0.01s\n",
      "Presolve: All rows and columns removed\n",
      "Iteration    Objective       Primal Inf.    Dual Inf.      Time\n"
     ]
    },
    {
     "name": "stdout",
     "output_type": "stream",
     "text": [
      "       0    9.2018138e+03   0.000000e+00   0.000000e+00      0s\n",
      "\n",
      "Solved in 0 iterations and 0.01 seconds\n",
      "Optimal objective  9.201813841e+03\n",
      "Elapsed: 00:00:00\n",
      "affected_items [  82   97  926 1898 2412 2517 2729 3097 3593 4443 4606 4848 5098 5852\n",
      " 6059 6353 6498 7010 7205 7213]\n",
      "82\n",
      "unaffected_items [ 300  395  484  528 1172 1202 1363 1447 1710 1980 2195 2845 3286 3558\n",
      " 4651 4966 5456 6348 6800 6992]\n",
      "300\n",
      "Gurobi Optimizer version 9.0.1 build v9.0.1rc0 (mac64)\n",
      "Optimize a model with 0 rows, 9 columns and 0 nonzeros\n",
      "Model fingerprint: 0x48e0c84a\n",
      "Coefficient statistics:\n",
      "  Matrix range     [0e+00, 0e+00]\n",
      "  Objective range  [1e+02, 3e+03]\n",
      "  Bounds range     [1e+00, 1e+00]\n",
      "  RHS range        [0e+00, 0e+00]\n",
      "Presolve removed 0 rows and 9 columns\n",
      "Presolve time: 0.01s\n",
      "Presolve: All rows and columns removed\n",
      "Iteration    Objective       Primal Inf.    Dual Inf.      Time\n",
      "       0    1.0154500e+04   0.000000e+00   0.000000e+00      0s\n",
      "\n",
      "Solved in 0 iterations and 0.01 seconds\n",
      "Optimal objective  1.015450027e+04\n",
      "Elapsed: 00:00:00\n",
      "affected_items [  82   97 1898 2412 2517 2729 3097 3593 4443 4606 4848 5098 5763 5852\n",
      " 6059 6353 6498 7010 7205 7213]\n",
      "82\n",
      "unaffected_items [ 300  395  484  528 1172 1202 1363 1447 1710 1980 2195 2845 3286 3558\n",
      " 4651 4966 5456 6348 6800 6992]\n",
      "300\n",
      "Gurobi Optimizer version 9.0.1 build v9.0.1rc0 (mac64)\n",
      "Optimize a model with 0 rows, 10 columns and 0 nonzeros\n",
      "Model fingerprint: 0x7ed8fc1c\n",
      "Coefficient statistics:\n",
      "  Matrix range     [0e+00, 0e+00]\n",
      "  Objective range  [1e+02, 3e+03]\n",
      "  Bounds range     [1e+00, 1e+00]\n",
      "  RHS range        [0e+00, 0e+00]\n",
      "Presolve removed 0 rows and 10 columns\n",
      "Presolve time: 0.00s\n",
      "Presolve: All rows and columns removed\n",
      "Iteration    Objective       Primal Inf.    Dual Inf.      Time\n",
      "       0    1.0287131e+04   0.000000e+00   0.000000e+00      0s\n",
      "\n",
      "Solved in 0 iterations and 0.01 seconds\n",
      "Optimal objective  1.028713139e+04\n",
      "Elapsed: 00:00:00\n",
      "affected_items [  82   97 1898 2412 2517 2729 3097 3593 4443 4606 4673 4848 5098 5763\n",
      " 5852 6353 6498 7010 7205 7213]\n",
      "82\n",
      "unaffected_items [ 300  395  484  528 1172 1363 1447 1710 1980 2195 2845 3286 3558 4651\n",
      " 4966 5456 5521 6348 6800 6992]\n",
      "300\n",
      "Gurobi Optimizer version 9.0.1 build v9.0.1rc0 (mac64)\n",
      "Optimize a model with 0 rows, 11 columns and 0 nonzeros\n",
      "Model fingerprint: 0xb7cd0248\n",
      "Coefficient statistics:\n",
      "  Matrix range     [0e+00, 0e+00]\n",
      "  Objective range  [1e+01, 3e+03]\n",
      "  Bounds range     [1e+00, 1e+00]\n",
      "  RHS range        [0e+00, 0e+00]\n",
      "Presolve removed 0 rows and 11 columns\n",
      "Presolve time: 0.00s\n",
      "Presolve: All rows and columns removed\n",
      "Iteration    Objective       Primal Inf.    Dual Inf.      Time\n",
      "       0    1.0305418e+04   0.000000e+00   0.000000e+00      0s\n",
      "\n",
      "Solved in 0 iterations and 0.01 seconds\n",
      "Optimal objective  1.030541811e+04\n",
      "Elapsed: 00:00:00\n",
      "affected_items [  82   97  926 1898 2412 2729 3097 4443 4606 4673 4848 4940 5098 5763\n",
      " 5852 6353 6498 7010 7205 7213]\n",
      "82\n",
      "unaffected_items [ 300  395  484  528 1363 1447 1710 1980 2195 2563 2845 3286 3558 4651\n",
      " 4966 5456 5521 6348 6800 6992]\n",
      "300\n",
      "Gurobi Optimizer version 9.0.1 build v9.0.1rc0 (mac64)\n",
      "Optimize a model with 0 rows, 12 columns and 0 nonzeros\n",
      "Model fingerprint: 0xe333e72b\n",
      "Coefficient statistics:\n",
      "  Matrix range     [0e+00, 0e+00]\n",
      "  Objective range  [9e+01, 3e+03]\n",
      "  Bounds range     [1e+00, 1e+00]\n",
      "  RHS range        [0e+00, 0e+00]\n",
      "Presolve removed 0 rows and 12 columns\n",
      "Presolve time: 0.00s\n",
      "Presolve: All rows and columns removed\n",
      "Iteration    Objective       Primal Inf.    Dual Inf.      Time\n",
      "       0    1.1339563e+04   0.000000e+00   0.000000e+00      0s\n",
      "\n",
      "Solved in 0 iterations and 0.01 seconds\n",
      "Optimal objective  1.133956310e+04\n",
      "Elapsed: 00:00:00\n",
      "affected_items [  82   97  926 1898 2412 2517 2729 3097 4443 4606 4673 4848 5098 5763\n",
      " 5852 6353 6498 7010 7205 7213]\n",
      "82\n",
      "unaffected_items [ 300  395  484  528 1363 1710 1980 2195 2563 2845 3286 3558 4651 4966\n",
      " 5456 5521 5802 6348 6800 6992]\n",
      "300\n",
      "Gurobi Optimizer version 9.0.1 build v9.0.1rc0 (mac64)\n",
      "Optimize a model with 0 rows, 13 columns and 0 nonzeros\n",
      "Model fingerprint: 0x1d9012c8\n",
      "Coefficient statistics:\n",
      "  Matrix range     [0e+00, 0e+00]\n",
      "  Objective range  [9e+01, 3e+03]\n",
      "  Bounds range     [1e+00, 1e+00]\n",
      "  RHS range        [0e+00, 0e+00]\n",
      "Presolve removed 0 rows and 13 columns\n",
      "Presolve time: 0.01s\n",
      "Presolve: All rows and columns removed\n",
      "Iteration    Objective       Primal Inf.    Dual Inf.      Time\n",
      "       0    1.1419255e+04   0.000000e+00   0.000000e+00      0s\n",
      "\n",
      "Solved in 0 iterations and 0.01 seconds\n",
      "Optimal objective  1.141925494e+04\n",
      "Elapsed: 00:00:00\n",
      "affected_items [  82   97  926 1898 2412 2729 3097 4443 4606 4673 4848 5098 5763 5852\n",
      " 5985 6353 6498 7010 7205 7213]\n",
      "82\n",
      "unaffected_items [ 395  528  626 1195 1363 1442 1710 2845 2934 3078 3286 4078 4386 4651\n",
      " 5261 5521 5802 5878 6348 6462]\n",
      "395\n",
      "Gurobi Optimizer version 9.0.1 build v9.0.1rc0 (mac64)\n",
      "Optimize a model with 0 rows, 14 columns and 0 nonzeros\n",
      "Model fingerprint: 0xc5bd719f\n",
      "Coefficient statistics:\n",
      "  Matrix range     [0e+00, 0e+00]\n",
      "  Objective range  [8e+01, 3e+03]\n",
      "  Bounds range     [1e+00, 1e+00]\n",
      "  RHS range        [0e+00, 0e+00]\n",
      "Presolve removed 0 rows and 14 columns\n",
      "Presolve time: 0.01s\n",
      "Presolve: All rows and columns removed\n",
      "Iteration    Objective       Primal Inf.    Dual Inf.      Time\n",
      "       0    1.2033427e+04   0.000000e+00   0.000000e+00      0s\n",
      "\n",
      "Solved in 0 iterations and 0.01 seconds\n",
      "Optimal objective  1.203342710e+04\n",
      "Elapsed: 00:00:00\n",
      "affected_items [  82   97  926 1898 2412 2729 3097 4443 4606 4673 4848 5098 5763 5852\n",
      " 5985 6353 6498 7010 7205 7213]\n",
      "82\n",
      "unaffected_items [ 528  626 1195 1363 1442 1710 2697 2845 3078 3286 3613 4078 5497 5603\n",
      " 5802 5878 6348 6618 7084 7260]\n",
      "528\n",
      "Gurobi Optimizer version 9.0.1 build v9.0.1rc0 (mac64)\n",
      "Optimize a model with 0 rows, 15 columns and 0 nonzeros\n",
      "Model fingerprint: 0x19f2d726\n",
      "Coefficient statistics:\n",
      "  Matrix range     [0e+00, 0e+00]\n",
      "  Objective range  [2e+01, 4e+03]\n",
      "  Bounds range     [1e+00, 1e+00]\n",
      "  RHS range        [0e+00, 0e+00]\n",
      "Presolve removed 0 rows and 15 columns\n",
      "Presolve time: 0.00s\n",
      "Presolve: All rows and columns removed\n",
      "Iteration    Objective       Primal Inf.    Dual Inf.      Time\n",
      "       0    1.2558474e+04   0.000000e+00   0.000000e+00      0s\n",
      "\n",
      "Solved in 0 iterations and 0.01 seconds\n",
      "Optimal objective  1.255847360e+04\n",
      "Elapsed: 00:00:00\n",
      "affected_items [  97  585  926 1898 2412 2729 3097 4443 4606 4673 4848 5098 5763 5852\n",
      " 5985 6353 6498 7010 7205 7213]\n",
      "97\n",
      "unaffected_items [ 528  626  666 1363 1710 2697 2845 3078 3286 3613 4078 5165 5476 5497\n",
      " 5603 5802 5878 6618 7084 7260]\n",
      "528\n",
      "Gurobi Optimizer version 9.0.1 build v9.0.1rc0 (mac64)\n",
      "Optimize a model with 0 rows, 16 columns and 0 nonzeros\n",
      "Model fingerprint: 0x72ef3d49\n",
      "Coefficient statistics:\n",
      "  Matrix range     [0e+00, 0e+00]\n",
      "  Objective range  [2e+01, 4e+03]\n",
      "  Bounds range     [1e+00, 1e+00]\n",
      "  RHS range        [0e+00, 0e+00]\n",
      "Presolve removed 0 rows and 16 columns\n",
      "Presolve time: 0.00s\n",
      "Presolve: All rows and columns removed\n",
      "Iteration    Objective       Primal Inf.    Dual Inf.      Time\n",
      "       0    1.2879191e+04   0.000000e+00   0.000000e+00      0s\n",
      "\n",
      "Solved in 0 iterations and 0.01 seconds\n",
      "Optimal objective  1.287919115e+04\n",
      "Elapsed: 00:00:00\n",
      "affected_items [  97  585  926 2412 2729 2847 3097 4443 4673 4848 5098 5285 5410 5763\n",
      " 5852 5985 6251 6353 7205 7213]\n",
      "97\n",
      "unaffected_items [ 388  528  626  666 1363 1575 1710 2059 2697 2845 3286 3479 3613 3905\n",
      " 5497 5802 5878 5911 6618 7243]\n",
      "388\n",
      "Gurobi Optimizer version 9.0.1 build v9.0.1rc0 (mac64)\n",
      "Optimize a model with 0 rows, 17 columns and 0 nonzeros\n",
      "Model fingerprint: 0x965787c6\n",
      "Coefficient statistics:\n",
      "  Matrix range     [0e+00, 0e+00]\n",
      "  Objective range  [7e+01, 3e+03]\n",
      "  Bounds range     [1e+00, 1e+00]\n",
      "  RHS range        [0e+00, 0e+00]\n",
      "Presolve removed 0 rows and 17 columns\n",
      "Presolve time: 0.00s\n",
      "Presolve: All rows and columns removed\n",
      "Iteration    Objective       Primal Inf.    Dual Inf.      Time\n",
      "       0    1.3821256e+04   0.000000e+00   0.000000e+00      0s\n",
      "\n",
      "Solved in 0 iterations and 0.01 seconds\n",
      "Optimal objective  1.382125589e+04\n",
      "Elapsed: 00:00:00\n",
      "affected_items [  97  585  926 2412 2729 2847 4443 4673 4848 5098 5285 5410 5763 5852\n",
      " 5985 6251 6353 7034 7205 7213]\n",
      "97\n",
      "unaffected_items [ 528  626  666 1363 1365 1575 2059 2845 3146 3286 3479 3613 4313 5497\n",
      " 5603 5802 5878 5911 6618 7243]\n",
      "528\n"
     ]
    },
    {
     "name": "stdout",
     "output_type": "stream",
     "text": [
      "Gurobi Optimizer version 9.0.1 build v9.0.1rc0 (mac64)\n",
      "Optimize a model with 0 rows, 18 columns and 0 nonzeros\n",
      "Model fingerprint: 0x798d0129\n",
      "Coefficient statistics:\n",
      "  Matrix range     [0e+00, 0e+00]\n",
      "  Objective range  [4e+01, 3e+03]\n",
      "  Bounds range     [1e+00, 1e+00]\n",
      "  RHS range        [0e+00, 0e+00]\n",
      "Presolve removed 0 rows and 18 columns\n",
      "Presolve time: 0.00s\n",
      "Presolve: All rows and columns removed\n",
      "Iteration    Objective       Primal Inf.    Dual Inf.      Time\n",
      "       0    1.3953490e+04   0.000000e+00   0.000000e+00      0s\n",
      "\n",
      "Solved in 0 iterations and 0.01 seconds\n",
      "Optimal objective  1.395349021e+04\n",
      "Elapsed: 00:00:00\n",
      "affected_items [  97  585  926 2412 2729 2847 4443 4673 4848 5098 5285 5410 5763 5852\n",
      " 5985 6251 6353 7034 7205 7213]\n",
      "97\n",
      "unaffected_items [ 528  626  666 1363 1365 1575 2059 2845 3242 3286 3479 3613 4313 5497\n",
      " 5603 5802 5878 5911 6618 7243]\n",
      "528\n",
      "Gurobi Optimizer version 9.0.1 build v9.0.1rc0 (mac64)\n",
      "Optimize a model with 0 rows, 19 columns and 0 nonzeros\n",
      "Model fingerprint: 0x3d316d83\n",
      "Coefficient statistics:\n",
      "  Matrix range     [0e+00, 0e+00]\n",
      "  Objective range  [4e+01, 3e+03]\n",
      "  Bounds range     [1e+00, 1e+00]\n",
      "  RHS range        [0e+00, 0e+00]\n",
      "Presolve removed 0 rows and 19 columns\n",
      "Presolve time: 0.00s\n",
      "Presolve: All rows and columns removed\n",
      "Iteration    Objective       Primal Inf.    Dual Inf.      Time\n",
      "       0    1.4361926e+04   0.000000e+00   0.000000e+00      0s\n",
      "\n",
      "Solved in 0 iterations and 0.00 seconds\n",
      "Optimal objective  1.436192613e+04\n",
      "Elapsed: 00:00:00\n",
      "affected_items [  97  585  926 2729 2847 3097 4443 4673 4848 5098 5285 5410 5763 5852\n",
      " 5985 6251 6353 7034 7205 7213]\n",
      "97\n",
      "unaffected_items [ 528  626  666 1363 1365 1575 2059 2697 2845 3146 3286 3479 3613 5497\n",
      " 5603 5802 5878 5911 6618 7243]\n",
      "528\n",
      "Gurobi Optimizer version 9.0.1 build v9.0.1rc0 (mac64)\n",
      "Optimize a model with 0 rows, 20 columns and 0 nonzeros\n",
      "Model fingerprint: 0xe91146e9\n",
      "Coefficient statistics:\n",
      "  Matrix range     [0e+00, 0e+00]\n",
      "  Objective range  [4e+01, 3e+03]\n",
      "  Bounds range     [1e+00, 1e+00]\n",
      "  RHS range        [0e+00, 0e+00]\n",
      "Presolve removed 0 rows and 20 columns\n",
      "Presolve time: 0.00s\n",
      "Presolve: All rows and columns removed\n",
      "Iteration    Objective       Primal Inf.    Dual Inf.      Time\n",
      "       0    1.4486483e+04   0.000000e+00   0.000000e+00      0s\n",
      "\n",
      "Solved in 0 iterations and 0.01 seconds\n",
      "Optimal objective  1.448648323e+04\n",
      "Elapsed: 00:00:00\n",
      "affected_items [  46  635 1199 2320 2906 3185 3294 3335 3337 3347 3883 3889 4358 4499\n",
      " 4758 5081 5558 5870 6660 7056]\n",
      "46\n",
      "unaffected_items [ 870 1061 1107 1527 1940 2489 2525 2882 2975 3147 3183 3260 3699 3997\n",
      " 4673 4835 4895 4901 6472 6568]\n",
      "870\n",
      "Gurobi Optimizer version 9.0.1 build v9.0.1rc0 (mac64)\n",
      "Optimize a model with 0 rows, 1 columns and 0 nonzeros\n",
      "Model fingerprint: 0x56ece36c\n",
      "Coefficient statistics:\n",
      "  Matrix range     [0e+00, 0e+00]\n",
      "  Objective range  [2e+03, 2e+03]\n",
      "  Bounds range     [1e+00, 1e+00]\n",
      "  RHS range        [0e+00, 0e+00]\n",
      "Presolve removed 0 rows and 1 columns\n",
      "Presolve time: 0.01s\n",
      "Presolve: All rows and columns removed\n",
      "Iteration    Objective       Primal Inf.    Dual Inf.      Time\n",
      "       0    1.7181287e+03   0.000000e+00   0.000000e+00      0s\n",
      "\n",
      "Solved in 0 iterations and 0.01 seconds\n",
      "Optimal objective  1.718128715e+03\n",
      "Elapsed: 00:00:00\n",
      "affected_items [ 602  635  796 1127 1308 1443 1548 3337 3347 3368 4011 4358 4671 4711\n",
      " 4786 5346 6047 6288 6454 6667]\n",
      "602\n",
      "unaffected_items [ 163  425 1184 1433 1934 2140 2903 3460 3494 3524 3687 4434 4730 5198\n",
      " 5266 5639 5894 6124 6194 6559]\n",
      "163\n",
      "Gurobi Optimizer version 9.0.1 build v9.0.1rc0 (mac64)\n",
      "Optimize a model with 0 rows, 2 columns and 0 nonzeros\n",
      "Model fingerprint: 0x3c9b1b6f\n",
      "Coefficient statistics:\n",
      "  Matrix range     [0e+00, 0e+00]\n",
      "  Objective range  [7e+02, 5e+03]\n",
      "  Bounds range     [1e+00, 1e+00]\n",
      "  RHS range        [0e+00, 0e+00]\n",
      "Presolve removed 0 rows and 2 columns\n",
      "Presolve time: 0.01s\n",
      "Presolve: All rows and columns removed\n",
      "Iteration    Objective       Primal Inf.    Dual Inf.      Time\n",
      "       0    5.8425061e+03   0.000000e+00   0.000000e+00      0s\n",
      "\n",
      "Solved in 0 iterations and 0.01 seconds\n",
      "Optimal objective  5.842506118e+03\n",
      "Elapsed: 00:00:00\n",
      "affected_items [  39  201  727  796 1127 1308 1443 2193 2364 3337 3980 4671 4711 4786\n",
      " 5346 5626 6047 6353 6454 6667]\n",
      "39\n",
      "unaffected_items [ 163 1184 1982 2903 3460 3524 3566 3629 4087 4524 4822 4887 5266 5639\n",
      " 6124 6559 6778 6994 7031 7400]\n",
      "163\n",
      "Gurobi Optimizer version 9.0.1 build v9.0.1rc0 (mac64)\n",
      "Optimize a model with 0 rows, 3 columns and 0 nonzeros\n",
      "Model fingerprint: 0xa917d7fa\n",
      "Coefficient statistics:\n",
      "  Matrix range     [0e+00, 0e+00]\n",
      "  Objective range  [4e+00, 4e+03]\n",
      "  Bounds range     [1e+00, 1e+00]\n",
      "  RHS range        [0e+00, 0e+00]\n",
      "Presolve removed 0 rows and 3 columns\n",
      "Presolve time: 0.00s\n",
      "Presolve: All rows and columns removed\n",
      "Iteration    Objective       Primal Inf.    Dual Inf.      Time\n",
      "       0    6.4878266e+03   0.000000e+00   0.000000e+00      0s\n",
      "\n",
      "Solved in 0 iterations and 0.01 seconds\n",
      "Optimal objective  6.487826577e+03\n",
      "Elapsed: 00:00:00\n",
      "affected_items [  39  201  727  796 1127 1308 1443 2193 2364 3337 3980 4358 4671 4711\n",
      " 4786 5346 6047 6353 6454 6667]\n",
      "39\n",
      "unaffected_items [ 646  697 1184 1433 1694 1934 1982 3494 3524 3566 3629 3768 3852 4087\n",
      " 4822 5266 6157 6778 6845 7031]\n",
      "646\n",
      "Gurobi Optimizer version 9.0.1 build v9.0.1rc0 (mac64)\n",
      "Optimize a model with 0 rows, 4 columns and 0 nonzeros\n",
      "Model fingerprint: 0x9b3ee452\n",
      "Coefficient statistics:\n",
      "  Matrix range     [0e+00, 0e+00]\n",
      "  Objective range  [2e+01, 5e+03]\n",
      "  Bounds range     [1e+00, 1e+00]\n",
      "  RHS range        [0e+00, 0e+00]\n",
      "Presolve removed 0 rows and 4 columns\n",
      "Presolve time: 0.01s\n",
      "Presolve: All rows and columns removed\n",
      "Iteration    Objective       Primal Inf.    Dual Inf.      Time\n",
      "       0    6.9484393e+03   0.000000e+00   0.000000e+00      0s\n",
      "\n",
      "Solved in 0 iterations and 0.01 seconds\n",
      "Optimal objective  6.948439329e+03\n",
      "Elapsed: 00:00:00\n",
      "affected_items [  39   43  201  727  796 1127 1308 1443 1548 2364 3337 3980 4358 4671\n",
      " 4786 4848 6047 6353 6454 6667]\n",
      "39\n",
      "unaffected_items [ 425  646  697 1184 1433 1694 1934 1982 3494 3566 3768 3852 4087 4822\n",
      " 5198 5266 5287 6157 6802 6845]\n",
      "425\n",
      "Gurobi Optimizer version 9.0.1 build v9.0.1rc0 (mac64)\n",
      "Optimize a model with 0 rows, 5 columns and 0 nonzeros\n",
      "Model fingerprint: 0x8366e1a4\n",
      "Coefficient statistics:\n",
      "  Matrix range     [0e+00, 0e+00]\n",
      "  Objective range  [4e+01, 4e+03]\n",
      "  Bounds range     [1e+00, 1e+00]\n",
      "  RHS range        [0e+00, 0e+00]\n",
      "Presolve removed 0 rows and 5 columns\n",
      "Presolve time: 0.01s\n",
      "Presolve: All rows and columns removed\n",
      "Iteration    Objective       Primal Inf.    Dual Inf.      Time\n",
      "       0    7.1318824e+03   0.000000e+00   0.000000e+00      0s\n",
      "\n",
      "Solved in 0 iterations and 0.01 seconds\n",
      "Optimal objective  7.131882365e+03\n",
      "Elapsed: 00:00:00\n",
      "affected_items [  39   43  201  727  796 1127 1308 1443 1548 2364 3337 3980 4011 4358\n",
      " 4671 4786 6047 6353 6454 6667]\n",
      "39\n",
      "unaffected_items [ 425  646  697 1433 1694 1934 1982 2565 2649 3494 3566 3852 4087 4822\n",
      " 5198 5266 5287 6157 6802 6845]\n",
      "425\n",
      "Gurobi Optimizer version 9.0.1 build v9.0.1rc0 (mac64)\n",
      "Optimize a model with 0 rows, 6 columns and 0 nonzeros\n",
      "Model fingerprint: 0xa4b848a0\n",
      "Coefficient statistics:\n",
      "  Matrix range     [0e+00, 0e+00]\n",
      "  Objective range  [4e+01, 4e+03]\n",
      "  Bounds range     [1e+00, 1e+00]\n",
      "  RHS range        [0e+00, 0e+00]\n",
      "Presolve removed 0 rows and 6 columns\n",
      "Presolve time: 0.00s\n",
      "Presolve: All rows and columns removed\n",
      "Iteration    Objective       Primal Inf.    Dual Inf.      Time\n",
      "       0    7.1828940e+03   0.000000e+00   0.000000e+00      0s\n",
      "\n",
      "Solved in 0 iterations and 0.01 seconds\n",
      "Optimal objective  7.182894038e+03\n",
      "Elapsed: 00:00:00\n",
      "affected_items [  39   43  201  727  796 1127 1308 1443 1548 2364 3337 3980 4011 4358\n",
      " 4671 4786 6047 6353 6454 6667]\n",
      "39\n",
      "unaffected_items [ 425  646  697 1433 1694 1934 1982 2565 2649 3494 3566 3852 4087 4822\n",
      " 5198 5266 5287 6157 6802 6845]\n",
      "425\n",
      "Gurobi Optimizer version 9.0.1 build v9.0.1rc0 (mac64)\n",
      "Optimize a model with 0 rows, 7 columns and 0 nonzeros\n",
      "Model fingerprint: 0xb9ba1406\n",
      "Coefficient statistics:\n",
      "  Matrix range     [0e+00, 0e+00]\n",
      "  Objective range  [4e+01, 4e+03]\n",
      "  Bounds range     [1e+00, 1e+00]\n",
      "  RHS range        [0e+00, 0e+00]\n",
      "Presolve removed 0 rows and 7 columns\n",
      "Presolve time: 0.01s\n",
      "Presolve: All rows and columns removed\n",
      "Iteration    Objective       Primal Inf.    Dual Inf.      Time\n"
     ]
    },
    {
     "name": "stdout",
     "output_type": "stream",
     "text": [
      "       0    7.2512539e+03   0.000000e+00   0.000000e+00      0s\n",
      "\n",
      "Solved in 0 iterations and 0.01 seconds\n",
      "Optimal objective  7.251253938e+03\n",
      "Elapsed: 00:00:00\n",
      "affected_items [  39  201  727  796 1127 1308 1443 1548 2364 3337 3368 3980 4011 4358\n",
      " 4671 4786 6047 6353 6454 6667]\n",
      "39\n",
      "unaffected_items [ 425  646  996 1433 1694 1934 1982 2565 3494 3566 3852 4087 4822 5198\n",
      " 5266 5287 6017 6157 6802 6845]\n",
      "425\n",
      "Gurobi Optimizer version 9.0.1 build v9.0.1rc0 (mac64)\n",
      "Optimize a model with 0 rows, 8 columns and 0 nonzeros\n",
      "Model fingerprint: 0x62abec75\n",
      "Coefficient statistics:\n",
      "  Matrix range     [0e+00, 0e+00]\n",
      "  Objective range  [1e+01, 5e+03]\n",
      "  Bounds range     [1e+00, 1e+00]\n",
      "  RHS range        [0e+00, 0e+00]\n",
      "Presolve removed 0 rows and 8 columns\n",
      "Presolve time: 0.00s\n",
      "Presolve: All rows and columns removed\n",
      "Iteration    Objective       Primal Inf.    Dual Inf.      Time\n",
      "       0    7.2676483e+03   0.000000e+00   0.000000e+00      0s\n",
      "\n",
      "Solved in 0 iterations and 0.01 seconds\n",
      "Optimal objective  7.267648263e+03\n",
      "Elapsed: 00:00:00\n",
      "affected_items [  39  201  727  796 1127 1308 1443 1548 2364 3337 3368 3980 4011 4358\n",
      " 4671 4786 6047 6353 6454 6667]\n",
      "39\n",
      "unaffected_items [ 425  646 1184 1433 1694 1934 1982 2649 3494 3852 4087 4822 5198 5266\n",
      " 5287 6017 6157 6778 6802 6845]\n",
      "425\n",
      "Gurobi Optimizer version 9.0.1 build v9.0.1rc0 (mac64)\n",
      "Optimize a model with 0 rows, 9 columns and 0 nonzeros\n",
      "Model fingerprint: 0x04b7c1d5\n",
      "Coefficient statistics:\n",
      "  Matrix range     [0e+00, 0e+00]\n",
      "  Objective range  [5e+00, 5e+03]\n",
      "  Bounds range     [1e+00, 1e+00]\n",
      "  RHS range        [0e+00, 0e+00]\n",
      "Presolve removed 0 rows and 9 columns\n",
      "Presolve time: 0.01s\n",
      "Presolve: All rows and columns removed\n",
      "Iteration    Objective       Primal Inf.    Dual Inf.      Time\n",
      "       0    7.4179013e+03   0.000000e+00   0.000000e+00      0s\n",
      "\n",
      "Solved in 0 iterations and 0.01 seconds\n",
      "Optimal objective  7.417901311e+03\n",
      "Elapsed: 00:00:00\n",
      "affected_items [  39   43  201  727  796 1127 1308 1443 1548 2364 3337 3980 4011 4358\n",
      " 4671 4786 6047 6353 6454 6667]\n",
      "39\n",
      "unaffected_items [ 425  646  996 1184 1433 1694 1934 1982 2649 3494 3852 4087 4822 5198\n",
      " 5266 5287 6017 6157 6778 6845]\n",
      "425\n",
      "Gurobi Optimizer version 9.0.1 build v9.0.1rc0 (mac64)\n",
      "Optimize a model with 0 rows, 10 columns and 0 nonzeros\n",
      "Model fingerprint: 0x1230e6bd\n",
      "Coefficient statistics:\n",
      "  Matrix range     [0e+00, 0e+00]\n",
      "  Objective range  [3e+00, 4e+03]\n",
      "  Bounds range     [1e+00, 1e+00]\n",
      "  RHS range        [0e+00, 0e+00]\n",
      "Presolve removed 0 rows and 10 columns\n",
      "Presolve time: 0.01s\n",
      "Presolve: All rows and columns removed\n",
      "Iteration    Objective       Primal Inf.    Dual Inf.      Time\n",
      "       0    7.4971441e+03   0.000000e+00   0.000000e+00      0s\n",
      "\n",
      "Solved in 0 iterations and 0.01 seconds\n",
      "Optimal objective  7.497144091e+03\n",
      "Elapsed: 00:00:00\n",
      "affected_items [  39   43  201  727  796 1127 1308 1443 1548 2364 3337 3980 4011 4358\n",
      " 4671 4786 6047 6353 6454 6667]\n",
      "39\n",
      "unaffected_items [ 425  996 1184 1433 1694 1934 1982 2649 3494 3852 4087 4822 5198 5266\n",
      " 5287 6017 6157 6778 6845 7184]\n",
      "425\n",
      "Gurobi Optimizer version 9.0.1 build v9.0.1rc0 (mac64)\n",
      "Optimize a model with 0 rows, 11 columns and 0 nonzeros\n",
      "Model fingerprint: 0xe4f616ed\n",
      "Coefficient statistics:\n",
      "  Matrix range     [0e+00, 0e+00]\n",
      "  Objective range  [1e+00, 4e+03]\n",
      "  Bounds range     [1e+00, 1e+00]\n",
      "  RHS range        [0e+00, 0e+00]\n",
      "Presolve removed 0 rows and 11 columns\n",
      "Presolve time: 0.01s\n",
      "Presolve: All rows and columns removed\n",
      "Iteration    Objective       Primal Inf.    Dual Inf.      Time\n",
      "       0    7.7388505e+03   0.000000e+00   0.000000e+00      0s\n",
      "\n",
      "Solved in 0 iterations and 0.01 seconds\n",
      "Optimal objective  7.738850534e+03\n",
      "Elapsed: 00:00:00\n",
      "affected_items [  39   43  201  727  796 1127 1308 1443 1548 2364 3337 3980 4011 4358\n",
      " 4671 4786 6047 6353 6454 6667]\n",
      "39\n",
      "unaffected_items [ 425  996 1184 1433 1694 1934 1982 3494 3852 4087 4822 5266 5287 5531\n",
      " 6017 6157 6724 6778 6845 7184]\n",
      "425\n",
      "Gurobi Optimizer version 9.0.1 build v9.0.1rc0 (mac64)\n",
      "Optimize a model with 0 rows, 12 columns and 0 nonzeros\n",
      "Model fingerprint: 0x3907d30a\n",
      "Coefficient statistics:\n",
      "  Matrix range     [0e+00, 0e+00]\n",
      "  Objective range  [2e+00, 4e+03]\n",
      "  Bounds range     [1e+00, 1e+00]\n",
      "  RHS range        [0e+00, 0e+00]\n",
      "Presolve removed 0 rows and 12 columns\n",
      "Presolve time: 0.00s\n",
      "Presolve: All rows and columns removed\n",
      "Iteration    Objective       Primal Inf.    Dual Inf.      Time\n",
      "       0    8.0666107e+03   0.000000e+00   0.000000e+00      0s\n",
      "\n",
      "Solved in 0 iterations and 0.01 seconds\n",
      "Optimal objective  8.066610683e+03\n",
      "Elapsed: 00:00:00\n",
      "affected_items [  39  201  727  796 1308 1443 1548 2364 3337 3739 3980 4011 4358 4671\n",
      " 4786 5840 6047 6353 6454 6667]\n",
      "39\n",
      "unaffected_items [ 996 1184 1433 1600 1694 1883 1934 1982 2649 3378 3494 3852 4087 4822\n",
      " 5287 5531 6724 6778 6845 7073]\n",
      "996\n",
      "Gurobi Optimizer version 9.0.1 build v9.0.1rc0 (mac64)\n",
      "Optimize a model with 0 rows, 13 columns and 0 nonzeros\n",
      "Model fingerprint: 0xb1546013\n",
      "Coefficient statistics:\n",
      "  Matrix range     [0e+00, 0e+00]\n",
      "  Objective range  [8e+00, 4e+03]\n",
      "  Bounds range     [1e+00, 1e+00]\n",
      "  RHS range        [0e+00, 0e+00]\n",
      "Presolve removed 0 rows and 13 columns\n",
      "Presolve time: 0.01s\n",
      "Presolve: All rows and columns removed\n",
      "Iteration    Objective       Primal Inf.    Dual Inf.      Time\n",
      "       0    8.2114916e+03   0.000000e+00   0.000000e+00      0s\n",
      "\n",
      "Solved in 0 iterations and 0.01 seconds\n",
      "Optimal objective  8.211491607e+03\n",
      "Elapsed: 00:00:00\n",
      "affected_items [  39  201  727  796 1308 1443 1548 2364 3337 3739 3980 4011 4358 4671\n",
      " 4786 5840 6047 6353 6454 6667]\n",
      "39\n",
      "unaffected_items [ 928  996 1184 1433 1600 1883 1934 1982 2649 3378 3494 3852 4822 5287\n",
      " 5531 6724 6824 6845 7073 7184]\n",
      "928\n",
      "Gurobi Optimizer version 9.0.1 build v9.0.1rc0 (mac64)\n",
      "Optimize a model with 0 rows, 14 columns and 0 nonzeros\n",
      "Model fingerprint: 0x703a20f7\n",
      "Coefficient statistics:\n",
      "  Matrix range     [0e+00, 0e+00]\n",
      "  Objective range  [6e+00, 4e+03]\n",
      "  Bounds range     [1e+00, 1e+00]\n",
      "  RHS range        [0e+00, 0e+00]\n",
      "Presolve removed 0 rows and 14 columns\n",
      "Presolve time: 0.01s\n",
      "Presolve: All rows and columns removed\n",
      "Iteration    Objective       Primal Inf.    Dual Inf.      Time\n",
      "       0    8.3121689e+03   0.000000e+00   0.000000e+00      0s\n",
      "\n",
      "Solved in 0 iterations and 0.01 seconds\n",
      "Optimal objective  8.312168878e+03\n",
      "Elapsed: 00:00:00\n",
      "affected_items [  39  201  727  796 1308 1443 1548 2364 3337 3739 3980 4011 4358 4671\n",
      " 4786 5840 6047 6353 6454 6667]\n",
      "39\n",
      "unaffected_items [ 235  928  996 1184 1433 1600 1934 1982 2649 3378 3494 3852 5287 5531\n",
      " 6017 6724 6824 6845 7073 7184]\n",
      "235\n",
      "Gurobi Optimizer version 9.0.1 build v9.0.1rc0 (mac64)\n",
      "Optimize a model with 0 rows, 15 columns and 0 nonzeros\n",
      "Model fingerprint: 0x452df768\n",
      "Coefficient statistics:\n",
      "  Matrix range     [0e+00, 0e+00]\n",
      "  Objective range  [4e+00, 4e+03]\n",
      "  Bounds range     [1e+00, 1e+00]\n",
      "  RHS range        [0e+00, 0e+00]\n",
      "Presolve removed 0 rows and 15 columns\n",
      "Presolve time: 0.00s\n",
      "Presolve: All rows and columns removed\n",
      "Iteration    Objective       Primal Inf.    Dual Inf.      Time\n",
      "       0    8.3669012e+03   0.000000e+00   0.000000e+00      0s\n",
      "\n",
      "Solved in 0 iterations and 0.01 seconds\n",
      "Optimal objective  8.366901217e+03\n",
      "Elapsed: 00:00:00\n",
      "affected_items [  39  201  796 1308 1443 1548 2364 3337 3739 3980 4011 4358 4671 4786\n",
      " 5840 6047 6288 6353 6454 6667]\n",
      "39\n",
      "unaffected_items [ 144  425  928  996 1184 1433 1600 1934 1982 2649 2736 3494 5287 5531\n",
      " 6017 6778 6824 6845 7073 7184]\n",
      "144\n",
      "Gurobi Optimizer version 9.0.1 build v9.0.1rc0 (mac64)\n",
      "Optimize a model with 0 rows, 16 columns and 0 nonzeros\n",
      "Model fingerprint: 0x3a7a8617\n",
      "Coefficient statistics:\n",
      "  Matrix range     [0e+00, 0e+00]\n",
      "  Objective range  [4e+00, 4e+03]\n",
      "  Bounds range     [1e+00, 1e+00]\n",
      "  RHS range        [0e+00, 0e+00]\n",
      "Presolve removed 0 rows and 16 columns\n",
      "Presolve time: 0.00s\n",
      "Presolve: All rows and columns removed\n",
      "Iteration    Objective       Primal Inf.    Dual Inf.      Time\n",
      "       0    8.6076305e+03   0.000000e+00   0.000000e+00      0s\n",
      "\n",
      "Solved in 0 iterations and 0.01 seconds\n",
      "Optimal objective  8.607630528e+03\n",
      "Elapsed: 00:00:00\n",
      "affected_items [  39  201  727  796 1308 1443 1548 2364 3337 3739 3980 4011 4358 4671\n",
      " 4786 5840 6047 6353 6454 6667]\n",
      "39\n",
      "unaffected_items [ 144  928  996 1184 1433 1442 1600 1982 2649 2736 3494 5266 5531 5911\n",
      " 6618 6778 6824 6845 7073 7184]\n",
      "144\n"
     ]
    },
    {
     "name": "stdout",
     "output_type": "stream",
     "text": [
      "Gurobi Optimizer version 9.0.1 build v9.0.1rc0 (mac64)\n",
      "Optimize a model with 0 rows, 17 columns and 0 nonzeros\n",
      "Model fingerprint: 0xee04b5e2\n",
      "Coefficient statistics:\n",
      "  Matrix range     [0e+00, 0e+00]\n",
      "  Objective range  [7e+00, 4e+03]\n",
      "  Bounds range     [1e+00, 1e+00]\n",
      "  RHS range        [0e+00, 0e+00]\n",
      "Presolve removed 0 rows and 17 columns\n",
      "Presolve time: 0.01s\n",
      "Presolve: All rows and columns removed\n",
      "Iteration    Objective       Primal Inf.    Dual Inf.      Time\n",
      "       0    9.1443146e+03   0.000000e+00   0.000000e+00      0s\n",
      "\n",
      "Solved in 0 iterations and 0.01 seconds\n",
      "Optimal objective  9.144314592e+03\n",
      "Elapsed: 00:00:00\n",
      "affected_items [  39  201  727  796 1443 1548 2364 3337 3739 3980 4358 4599 4671 4786\n",
      " 5340 5840 6047 6353 6454 6667]\n",
      "39\n",
      "unaffected_items [ 928  996 1184 1433 1442 1600 1980 1982 2736 3390 3494 5531 5603 5911\n",
      " 6130 6618 6778 6824 7184 7451]\n",
      "928\n",
      "Gurobi Optimizer version 9.0.1 build v9.0.1rc0 (mac64)\n",
      "Optimize a model with 0 rows, 18 columns and 0 nonzeros\n",
      "Model fingerprint: 0x56f4ff3a\n",
      "Coefficient statistics:\n",
      "  Matrix range     [0e+00, 0e+00]\n",
      "  Objective range  [6e-01, 4e+03]\n",
      "  Bounds range     [1e+00, 1e+00]\n",
      "  RHS range        [0e+00, 0e+00]\n",
      "Presolve removed 0 rows and 18 columns\n",
      "Presolve time: 0.00s\n",
      "Presolve: All rows and columns removed\n",
      "Iteration    Objective       Primal Inf.    Dual Inf.      Time\n",
      "       0    9.3917629e+03   0.000000e+00   0.000000e+00      0s\n",
      "\n",
      "Solved in 0 iterations and 0.01 seconds\n",
      "Optimal objective  9.391762895e+03\n",
      "Elapsed: 00:00:00\n",
      "affected_items [ 201  727  796 1443 1548 2364 3337 3739 3980 4358 4599 4671 4676 4786\n",
      " 5340 5840 6047 6353 6454 6667]\n",
      "201\n",
      "unaffected_items [ 310  928  996 1433 1442 1600 1982 2736 3390 3494 3749 5603 5911 6130\n",
      " 6264 6618 6778 7023 7184 7451]\n",
      "310\n",
      "Gurobi Optimizer version 9.0.1 build v9.0.1rc0 (mac64)\n",
      "Optimize a model with 0 rows, 19 columns and 0 nonzeros\n",
      "Model fingerprint: 0x59c06166\n",
      "Coefficient statistics:\n",
      "  Matrix range     [0e+00, 0e+00]\n",
      "  Objective range  [3e+00, 4e+03]\n",
      "  Bounds range     [1e+00, 1e+00]\n",
      "  RHS range        [0e+00, 0e+00]\n",
      "Presolve removed 0 rows and 19 columns\n",
      "Presolve time: 0.00s\n",
      "Presolve: All rows and columns removed\n",
      "Iteration    Objective       Primal Inf.    Dual Inf.      Time\n",
      "       0    1.0135337e+04   0.000000e+00   0.000000e+00      0s\n",
      "\n",
      "Solved in 0 iterations and 0.01 seconds\n",
      "Optimal objective  1.013533733e+04\n",
      "Elapsed: 00:00:00\n",
      "affected_items [ 201  796 1443 1548 2364 3337 3739 3980 4599 4671 4786 5340 5626 5763\n",
      " 5840 6047 6353 6454 6667 7286]\n",
      "201\n",
      "unaffected_items [ 766  928 1442 1600 1982 2080 2443 2761 2904 3362 3390 3494 3749 5352\n",
      " 5603 5911 6264 6846 7023 7073]\n",
      "766\n",
      "Gurobi Optimizer version 9.0.1 build v9.0.1rc0 (mac64)\n",
      "Optimize a model with 0 rows, 20 columns and 0 nonzeros\n",
      "Model fingerprint: 0x13d881e3\n",
      "Coefficient statistics:\n",
      "  Matrix range     [0e+00, 0e+00]\n",
      "  Objective range  [2e+00, 4e+03]\n",
      "  Bounds range     [1e+00, 1e+00]\n",
      "  RHS range        [0e+00, 0e+00]\n",
      "Presolve removed 0 rows and 20 columns\n",
      "Presolve time: 0.00s\n",
      "Presolve: All rows and columns removed\n",
      "Iteration    Objective       Primal Inf.    Dual Inf.      Time\n",
      "       0    1.1066139e+04   0.000000e+00   0.000000e+00      0s\n",
      "\n",
      "Solved in 0 iterations and 0.01 seconds\n",
      "Optimal objective  1.106613899e+04\n",
      "Elapsed: 00:00:00\n",
      "affected_items [ 870 1107 1527 1940 2320 2525 2882 2906 2975 3260 3347 3699 4358 4673\n",
      " 4758 4895 4901 5558 5870 7056]\n",
      "870\n",
      "unaffected_items [ 635 1161 1199 1857 2474 3294 3335 3337 3584 4606 4671 5081 5136 5254\n",
      " 5285 5639 6081 6472 6568 6892]\n",
      "635\n",
      "Gurobi Optimizer version 9.0.1 build v9.0.1rc0 (mac64)\n",
      "Optimize a model with 0 rows, 1 columns and 0 nonzeros\n",
      "Model fingerprint: 0x7757db66\n",
      "Coefficient statistics:\n",
      "  Matrix range     [0e+00, 0e+00]\n",
      "  Objective range  [7e+01, 7e+01]\n",
      "  Bounds range     [1e+00, 1e+00]\n",
      "  RHS range        [0e+00, 0e+00]\n",
      "Presolve removed 0 rows and 1 columns\n",
      "Presolve time: 0.00s\n",
      "Presolve: All rows and columns removed\n",
      "Iteration    Objective       Primal Inf.    Dual Inf.      Time\n",
      "       0    1.6101296e+02   0.000000e+00   0.000000e+00      0s\n",
      "\n",
      "Solved in 0 iterations and 0.01 seconds\n",
      "Optimal objective  1.610129601e+02\n",
      "Elapsed: 00:00:00\n",
      "affected_items [ 376 1340 1407 2412 2460 2528 2569 3340 3368 4268 4443 4707 5340 5371\n",
      " 6233 6353 6519 6947 7213 7427]\n",
      "376\n",
      "unaffected_items [  66 1410 1710 1743 2315 2407 2497 2534 2643 2693 2752 3584 3735 3905\n",
      " 4369 4581 5254 6324 6472 6730]\n",
      "66\n",
      "Gurobi Optimizer version 9.0.1 build v9.0.1rc0 (mac64)\n",
      "Optimize a model with 0 rows, 2 columns and 0 nonzeros\n",
      "Model fingerprint: 0x0016a7ae\n",
      "Coefficient statistics:\n",
      "  Matrix range     [0e+00, 0e+00]\n",
      "  Objective range  [9e+01, 1e+03]\n",
      "  Bounds range     [1e+00, 1e+00]\n",
      "  RHS range        [0e+00, 0e+00]\n",
      "Presolve removed 0 rows and 2 columns\n",
      "Presolve time: 0.00s\n",
      "Presolve: All rows and columns removed\n",
      "Iteration    Objective       Primal Inf.    Dual Inf.      Time\n",
      "       0    2.2647589e+03   0.000000e+00   0.000000e+00      0s\n",
      "\n",
      "Solved in 0 iterations and 0.01 seconds\n",
      "Optimal objective  2.264758919e+03\n",
      "Elapsed: 00:00:00\n",
      "affected_items [  82   97  585 1898 2364 2412 2517 2729 2847 3980 4443 5098 5725 6353\n",
      " 6498 7010 7034 7205 7207 7213]\n",
      "82\n",
      "unaffected_items [ 300  395  484  554 1172 1410 1414 1980 2315 2845 2995 3286 3558 3735\n",
      " 4369 4966 6152 6170 6472 6800]\n",
      "300\n",
      "Gurobi Optimizer version 9.0.1 build v9.0.1rc0 (mac64)\n",
      "Optimize a model with 0 rows, 3 columns and 0 nonzeros\n",
      "Model fingerprint: 0x34c4a322\n",
      "Coefficient statistics:\n",
      "  Matrix range     [0e+00, 0e+00]\n",
      "  Objective range  [2e+01, 4e+03]\n",
      "  Bounds range     [1e+00, 1e+00]\n",
      "  RHS range        [0e+00, 0e+00]\n",
      "Presolve removed 0 rows and 3 columns\n",
      "Presolve time: 0.00s\n",
      "Presolve: All rows and columns removed\n",
      "Iteration    Objective       Primal Inf.    Dual Inf.      Time\n",
      "       0    5.2425833e+03   0.000000e+00   0.000000e+00      0s\n",
      "\n",
      "Solved in 0 iterations and 0.01 seconds\n",
      "Optimal objective  5.242583260e+03\n",
      "Elapsed: 00:00:00\n",
      "affected_items [  82  585 1090 2412 2517 2729 2804 3593 4443 4606 4673 5010 5098 5725\n",
      " 5763 6353 6498 7010 7034 7213]\n",
      "82\n",
      "unaffected_items [ 178  300  395  484  528  554 1172 1447 1710 1980 2315 2693 2845 2995\n",
      " 3286 4966 6170 6472 6800 7165]\n",
      "178\n",
      "Gurobi Optimizer version 9.0.1 build v9.0.1rc0 (mac64)\n",
      "Optimize a model with 0 rows, 4 columns and 0 nonzeros\n",
      "Model fingerprint: 0xad09f905\n",
      "Coefficient statistics:\n",
      "  Matrix range     [0e+00, 0e+00]\n",
      "  Objective range  [3e+01, 3e+03]\n",
      "  Bounds range     [1e+00, 1e+00]\n",
      "  RHS range        [0e+00, 0e+00]\n",
      "Presolve removed 0 rows and 4 columns\n",
      "Presolve time: 0.00s\n",
      "Presolve: All rows and columns removed\n",
      "Iteration    Objective       Primal Inf.    Dual Inf.      Time\n",
      "       0    6.0657949e+03   0.000000e+00   0.000000e+00      0s\n",
      "\n",
      "Solved in 0 iterations and 0.01 seconds\n",
      "Optimal objective  6.065794939e+03\n",
      "Elapsed: 00:00:00\n",
      "affected_items [  82  585 2412 2517 2729 2804 3211 3593 4443 4673 5010 5098 5725 5763\n",
      " 5852 6059 6353 6498 7010 7034]\n",
      "82\n",
      "unaffected_items [ 178  395  484  528  822 1172 1206 1710 1980 2315 2693 2845 3286 4369\n",
      " 4394 4966 5610 6472 6800 7436]\n",
      "178\n",
      "Gurobi Optimizer version 9.0.1 build v9.0.1rc0 (mac64)\n",
      "Optimize a model with 0 rows, 5 columns and 0 nonzeros\n",
      "Model fingerprint: 0x497686a0\n",
      "Coefficient statistics:\n",
      "  Matrix range     [0e+00, 0e+00]\n",
      "  Objective range  [1e+02, 3e+03]\n",
      "  Bounds range     [1e+00, 1e+00]\n",
      "  RHS range        [0e+00, 0e+00]\n",
      "Presolve removed 0 rows and 5 columns\n",
      "Presolve time: 0.00s\n",
      "Presolve: All rows and columns removed\n",
      "Iteration    Objective       Primal Inf.    Dual Inf.      Time\n",
      "       0    6.5222932e+03   0.000000e+00   0.000000e+00      0s\n",
      "\n",
      "Solved in 0 iterations and 0.01 seconds\n",
      "Optimal objective  6.522293179e+03\n",
      "Elapsed: 00:00:00\n",
      "affected_items [  82   97  585 2412 2517 2729 2804 3593 4443 4606 5010 5098 5725 5763\n",
      " 5852 6059 6353 6498 7010 7034]\n",
      "82\n",
      "unaffected_items [ 395  484  528  554  822 1172 1206 1980 2315 2693 2845 2995 3286 4394\n",
      " 4966 5469 5610 6472 6800 7436]\n",
      "395\n",
      "Gurobi Optimizer version 9.0.1 build v9.0.1rc0 (mac64)\n",
      "Optimize a model with 0 rows, 6 columns and 0 nonzeros\n",
      "Model fingerprint: 0x4a70c8e8\n",
      "Coefficient statistics:\n",
      "  Matrix range     [0e+00, 0e+00]\n",
      "  Objective range  [1e+02, 3e+03]\n",
      "  Bounds range     [1e+00, 1e+00]\n",
      "  RHS range        [0e+00, 0e+00]\n",
      "Presolve removed 0 rows and 6 columns\n",
      "Presolve time: 0.00s\n",
      "Presolve: All rows and columns removed\n"
     ]
    },
    {
     "name": "stdout",
     "output_type": "stream",
     "text": [
      "Iteration    Objective       Primal Inf.    Dual Inf.      Time\n",
      "       0    6.9524967e+03   0.000000e+00   0.000000e+00      0s\n",
      "\n",
      "Solved in 0 iterations and 0.01 seconds\n",
      "Optimal objective  6.952496740e+03\n",
      "Elapsed: 00:00:00\n",
      "affected_items [  82  585 1090 1709 1898 2412 2517 2804 3204 3593 4443 4606 5725 5763\n",
      " 6059 6299 6353 6498 7010 7034]\n",
      "82\n",
      "unaffected_items [ 395  554  822 1172 1710 1980 2315 2433 2693 2845 3286 4369 5310 5469\n",
      " 5610 5853 6472 6778 6789 6800]\n",
      "395\n",
      "Gurobi Optimizer version 9.0.1 build v9.0.1rc0 (mac64)\n",
      "Optimize a model with 0 rows, 7 columns and 0 nonzeros\n",
      "Model fingerprint: 0x454956ee\n",
      "Coefficient statistics:\n",
      "  Matrix range     [0e+00, 0e+00]\n",
      "  Objective range  [5e+01, 3e+03]\n",
      "  Bounds range     [1e+00, 1e+00]\n",
      "  RHS range        [0e+00, 0e+00]\n",
      "Presolve removed 0 rows and 7 columns\n",
      "Presolve time: 0.00s\n",
      "Presolve: All rows and columns removed\n",
      "Iteration    Objective       Primal Inf.    Dual Inf.      Time\n",
      "       0    7.9600997e+03   0.000000e+00   0.000000e+00      0s\n",
      "\n",
      "Solved in 0 iterations and 0.01 seconds\n",
      "Optimal objective  7.960099671e+03\n",
      "Elapsed: 00:00:00\n"
     ]
    },
    {
     "ename": "KeyboardInterrupt",
     "evalue": "",
     "output_type": "error",
     "traceback": [
      "\u001b[0;31m---------------------------------------------------------------------------\u001b[0m",
      "\u001b[0;31mKeyboardInterrupt\u001b[0m                         Traceback (most recent call last)",
      "\u001b[0;32m<ipython-input-99-7d5e714c2c77>\u001b[0m in \u001b[0;36m<module>\u001b[0;34m\u001b[0m\n\u001b[1;32m     38\u001b[0m                                 \u001b[0mmax_wanted_keyphrase\u001b[0m \u001b[0;34m=\u001b[0m \u001b[0mmax_wanted_keyphrase\u001b[0m\u001b[0;34m,\u001b[0m\u001b[0;34m\u001b[0m\u001b[0;34m\u001b[0m\u001b[0m\n\u001b[1;32m     39\u001b[0m                                 lamb = lamb)\n\u001b[0;32m---> 40\u001b[0;31m \u001b[0mdf\u001b[0m \u001b[0;34m=\u001b[0m \u001b[0mcritiquing_model\u001b[0m\u001b[0;34m.\u001b[0m\u001b[0mstart_critiquing\u001b[0m\u001b[0;34m(\u001b[0m\u001b[0;34m)\u001b[0m\u001b[0;34m\u001b[0m\u001b[0;34m\u001b[0m\u001b[0m\n\u001b[0m\u001b[1;32m     41\u001b[0m \u001b[0;34m\u001b[0m\u001b[0m\n\u001b[1;32m     42\u001b[0m \u001b[0mtable_path\u001b[0m \u001b[0;34m=\u001b[0m \u001b[0;34m'../tables/critiquing/multi_step_critiquing/yelp/rating/'\u001b[0m\u001b[0;34m\u001b[0m\u001b[0;34m\u001b[0m\u001b[0m\n",
      "\u001b[0;32m<ipython-input-89-8f7178a57761>\u001b[0m in \u001b[0;36mstart_critiquing\u001b[0;34m(self)\u001b[0m\n\u001b[1;32m    115\u001b[0m                         \u001b[0mcurrent_affected_items\u001b[0m \u001b[0;34m=\u001b[0m \u001b[0mself\u001b[0m\u001b[0;34m.\u001b[0m\u001b[0mitem_keyphrase_freq\u001b[0m\u001b[0;34m[\u001b[0m\u001b[0;34m:\u001b[0m\u001b[0;34m,\u001b[0m \u001b[0mcritiqued_keyphrase\u001b[0m\u001b[0;34m]\u001b[0m\u001b[0;34m.\u001b[0m\u001b[0mnonzero\u001b[0m\u001b[0;34m(\u001b[0m\u001b[0;34m)\u001b[0m\u001b[0;34m[\u001b[0m\u001b[0;36m0\u001b[0m\u001b[0;34m]\u001b[0m\u001b[0;34m\u001b[0m\u001b[0;34m\u001b[0m\u001b[0m\n\u001b[1;32m    116\u001b[0m                         \u001b[0maffected_items\u001b[0m \u001b[0;34m=\u001b[0m \u001b[0mnp\u001b[0m\u001b[0;34m.\u001b[0m\u001b[0munique\u001b[0m\u001b[0;34m(\u001b[0m\u001b[0mnp\u001b[0m\u001b[0;34m.\u001b[0m\u001b[0mconcatenate\u001b[0m\u001b[0;34m(\u001b[0m\u001b[0;34m(\u001b[0m\u001b[0maffected_items\u001b[0m\u001b[0;34m,\u001b[0m \u001b[0mcurrent_affected_items\u001b[0m\u001b[0;34m)\u001b[0m\u001b[0;34m)\u001b[0m\u001b[0;34m)\u001b[0m\u001b[0;34m.\u001b[0m\u001b[0mastype\u001b[0m\u001b[0;34m(\u001b[0m\u001b[0mint\u001b[0m\u001b[0;34m)\u001b[0m\u001b[0;34m\u001b[0m\u001b[0;34m\u001b[0m\u001b[0m\n\u001b[0;32m--> 117\u001b[0;31m                         \u001b[0munaffected_items\u001b[0m \u001b[0;34m=\u001b[0m \u001b[0mnp\u001b[0m\u001b[0;34m.\u001b[0m\u001b[0msetdiff1d\u001b[0m\u001b[0;34m(\u001b[0m\u001b[0mrange\u001b[0m\u001b[0;34m(\u001b[0m\u001b[0mself\u001b[0m\u001b[0;34m.\u001b[0m\u001b[0mnum_items\u001b[0m\u001b[0;34m)\u001b[0m\u001b[0;34m,\u001b[0m \u001b[0maffected_items\u001b[0m\u001b[0;34m)\u001b[0m\u001b[0;34m\u001b[0m\u001b[0;34m\u001b[0m\u001b[0m\n\u001b[0m\u001b[1;32m    118\u001b[0m \u001b[0;34m\u001b[0m\u001b[0m\n\u001b[1;32m    119\u001b[0m                         \u001b[0;32mif\u001b[0m \u001b[0miteration\u001b[0m \u001b[0;34m==\u001b[0m \u001b[0;36m0\u001b[0m\u001b[0;34m:\u001b[0m\u001b[0;34m\u001b[0m\u001b[0;34m\u001b[0m\u001b[0m\n",
      "\u001b[0;32m<__array_function__ internals>\u001b[0m in \u001b[0;36msetdiff1d\u001b[0;34m(*args, **kwargs)\u001b[0m\n",
      "\u001b[0;32m~/opt/anaconda3/envs/tensorflow_cpu/lib/python3.6/site-packages/numpy/lib/arraysetops.py\u001b[0m in \u001b[0;36msetdiff1d\u001b[0;34m(ar1, ar2, assume_unique)\u001b[0m\n\u001b[1;32m    783\u001b[0m         \u001b[0mar1\u001b[0m \u001b[0;34m=\u001b[0m \u001b[0mnp\u001b[0m\u001b[0;34m.\u001b[0m\u001b[0masarray\u001b[0m\u001b[0;34m(\u001b[0m\u001b[0mar1\u001b[0m\u001b[0;34m)\u001b[0m\u001b[0;34m.\u001b[0m\u001b[0mravel\u001b[0m\u001b[0;34m(\u001b[0m\u001b[0;34m)\u001b[0m\u001b[0;34m\u001b[0m\u001b[0;34m\u001b[0m\u001b[0m\n\u001b[1;32m    784\u001b[0m     \u001b[0;32melse\u001b[0m\u001b[0;34m:\u001b[0m\u001b[0;34m\u001b[0m\u001b[0;34m\u001b[0m\u001b[0m\n\u001b[0;32m--> 785\u001b[0;31m         \u001b[0mar1\u001b[0m \u001b[0;34m=\u001b[0m \u001b[0munique\u001b[0m\u001b[0;34m(\u001b[0m\u001b[0mar1\u001b[0m\u001b[0;34m)\u001b[0m\u001b[0;34m\u001b[0m\u001b[0;34m\u001b[0m\u001b[0m\n\u001b[0m\u001b[1;32m    786\u001b[0m         \u001b[0mar2\u001b[0m \u001b[0;34m=\u001b[0m \u001b[0munique\u001b[0m\u001b[0;34m(\u001b[0m\u001b[0mar2\u001b[0m\u001b[0;34m)\u001b[0m\u001b[0;34m\u001b[0m\u001b[0;34m\u001b[0m\u001b[0m\n\u001b[1;32m    787\u001b[0m     \u001b[0;32mreturn\u001b[0m \u001b[0mar1\u001b[0m\u001b[0;34m[\u001b[0m\u001b[0min1d\u001b[0m\u001b[0;34m(\u001b[0m\u001b[0mar1\u001b[0m\u001b[0;34m,\u001b[0m \u001b[0mar2\u001b[0m\u001b[0;34m,\u001b[0m \u001b[0massume_unique\u001b[0m\u001b[0;34m=\u001b[0m\u001b[0;32mTrue\u001b[0m\u001b[0;34m,\u001b[0m \u001b[0minvert\u001b[0m\u001b[0;34m=\u001b[0m\u001b[0;32mTrue\u001b[0m\u001b[0;34m)\u001b[0m\u001b[0;34m]\u001b[0m\u001b[0;34m\u001b[0m\u001b[0;34m\u001b[0m\u001b[0m\n",
      "\u001b[0;32m<__array_function__ internals>\u001b[0m in \u001b[0;36munique\u001b[0;34m(*args, **kwargs)\u001b[0m\n",
      "\u001b[0;32m~/opt/anaconda3/envs/tensorflow_cpu/lib/python3.6/site-packages/numpy/lib/arraysetops.py\u001b[0m in \u001b[0;36munique\u001b[0;34m(ar, return_index, return_inverse, return_counts, axis)\u001b[0m\n\u001b[1;32m    259\u001b[0m \u001b[0;34m\u001b[0m\u001b[0m\n\u001b[1;32m    260\u001b[0m     \"\"\"\n\u001b[0;32m--> 261\u001b[0;31m     \u001b[0mar\u001b[0m \u001b[0;34m=\u001b[0m \u001b[0mnp\u001b[0m\u001b[0;34m.\u001b[0m\u001b[0masanyarray\u001b[0m\u001b[0;34m(\u001b[0m\u001b[0mar\u001b[0m\u001b[0;34m)\u001b[0m\u001b[0;34m\u001b[0m\u001b[0;34m\u001b[0m\u001b[0m\n\u001b[0m\u001b[1;32m    262\u001b[0m     \u001b[0;32mif\u001b[0m \u001b[0maxis\u001b[0m \u001b[0;32mis\u001b[0m \u001b[0;32mNone\u001b[0m\u001b[0;34m:\u001b[0m\u001b[0;34m\u001b[0m\u001b[0;34m\u001b[0m\u001b[0m\n\u001b[1;32m    263\u001b[0m         \u001b[0mret\u001b[0m \u001b[0;34m=\u001b[0m \u001b[0m_unique1d\u001b[0m\u001b[0;34m(\u001b[0m\u001b[0mar\u001b[0m\u001b[0;34m,\u001b[0m \u001b[0mreturn_index\u001b[0m\u001b[0;34m,\u001b[0m \u001b[0mreturn_inverse\u001b[0m\u001b[0;34m,\u001b[0m \u001b[0mreturn_counts\u001b[0m\u001b[0;34m)\u001b[0m\u001b[0;34m\u001b[0m\u001b[0;34m\u001b[0m\u001b[0m\n",
      "\u001b[0;32m~/opt/anaconda3/envs/tensorflow_cpu/lib/python3.6/site-packages/numpy/core/_asarray.py\u001b[0m in \u001b[0;36masanyarray\u001b[0;34m(a, dtype, order)\u001b[0m\n\u001b[1;32m    136\u001b[0m \u001b[0;34m\u001b[0m\u001b[0m\n\u001b[1;32m    137\u001b[0m     \"\"\"\n\u001b[0;32m--> 138\u001b[0;31m     \u001b[0;32mreturn\u001b[0m \u001b[0marray\u001b[0m\u001b[0;34m(\u001b[0m\u001b[0ma\u001b[0m\u001b[0;34m,\u001b[0m \u001b[0mdtype\u001b[0m\u001b[0;34m,\u001b[0m \u001b[0mcopy\u001b[0m\u001b[0;34m=\u001b[0m\u001b[0;32mFalse\u001b[0m\u001b[0;34m,\u001b[0m \u001b[0morder\u001b[0m\u001b[0;34m=\u001b[0m\u001b[0morder\u001b[0m\u001b[0;34m,\u001b[0m \u001b[0msubok\u001b[0m\u001b[0;34m=\u001b[0m\u001b[0;32mTrue\u001b[0m\u001b[0;34m)\u001b[0m\u001b[0;34m\u001b[0m\u001b[0;34m\u001b[0m\u001b[0m\n\u001b[0m\u001b[1;32m    139\u001b[0m \u001b[0;34m\u001b[0m\u001b[0m\n\u001b[1;32m    140\u001b[0m \u001b[0;34m\u001b[0m\u001b[0m\n",
      "\u001b[0;31mKeyboardInterrupt\u001b[0m: "
     ]
    }
   ],
   "source": [
    "row = {}\n",
    "matrix_Train = rtrain\n",
    "matrix_Test = rtest\n",
    "# test_users = np.arange(25)\n",
    "test_users = [1]\n",
    "target_ranks = [20, 50]\n",
    "num_items_sampled = 5\n",
    "num_keyphrases = 235\n",
    "df = pd.DataFrame(row)\n",
    "max_iteration_threshold = 20\n",
    "keyphrase_popularity = keyphrase_popularity\n",
    "dataset_name = \"yelp\"\n",
    "model = \"plrec\"\n",
    "parameters_row = {'iter': 10,\n",
    "                  'lambda':200,\n",
    "                  'rank':200}\n",
    "keyphrases_names = keyphrases\n",
    "keyphrase_selection_method = 'diff'\n",
    "max_wanted_keyphrase = 20\n",
    "lamb = [1000,1]\n",
    "critiquing_model = LP1Simplified(keyphrase_freq=U_K,\n",
    "                                item_keyphrase_freq=I_K,\n",
    "                                row=row,\n",
    "                                matrix_Train=matrix_Train,\n",
    "                                matrix_Test=matrix_Test,\n",
    "                                test_users=test_users,\n",
    "                                target_ranks=target_ranks,\n",
    "                                num_items_sampled=num_items_sampled,\n",
    "                                num_keyphrases=num_keyphrases,\n",
    "                                df=df,\n",
    "                                max_iteration_threshold=max_iteration_threshold,\n",
    "                                keyphrase_popularity=keyphrase_popularity,\n",
    "                                dataset_name=dataset_name,\n",
    "                                model=model,\n",
    "                                parameters_row=parameters_row,\n",
    "                                keyphrases_names = keyphrases_names,\n",
    "                                keyphrase_selection_method = keyphrase_selection_method,\n",
    "                                max_wanted_keyphrase = max_wanted_keyphrase,\n",
    "                                lamb = lamb)\n",
    "df = critiquing_model.start_critiquing()\n",
    "\n",
    "table_path = '../tables/critiquing/multi_step_critiquing/yelp/rating/'\n",
    "name = 'rating_test.csv'\n",
    "save_dataframe_csv(df, table_path, name)"
   ]
  },
  {
   "cell_type": "markdown",
   "metadata": {},
   "source": [
    "# Tune lambda"
   ]
  },
  {
   "cell_type": "code",
   "execution_count": 59,
   "metadata": {},
   "outputs": [
    {
     "name": "stderr",
     "output_type": "stream",
     "text": [
      "  4%|▍         | 1/25 [00:06<02:46,  6.96s/it]"
     ]
    },
    {
     "name": "stdout",
     "output_type": "stream",
     "text": [
      "User  0 Elapsed: 00:00:06\n"
     ]
    },
    {
     "name": "stderr",
     "output_type": "stream",
     "text": [
      "\r",
      "  8%|▊         | 2/25 [00:37<05:24, 14.12s/it]"
     ]
    },
    {
     "name": "stdout",
     "output_type": "stream",
     "text": [
      "User  1 Elapsed: 00:00:30\n"
     ]
    },
    {
     "name": "stderr",
     "output_type": "stream",
     "text": [
      "\r",
      " 12%|█▏        | 3/25 [00:46<04:35, 12.51s/it]"
     ]
    },
    {
     "name": "stdout",
     "output_type": "stream",
     "text": [
      "User  2 Elapsed: 00:00:08\n"
     ]
    },
    {
     "name": "stderr",
     "output_type": "stream",
     "text": [
      "\r",
      " 16%|█▌        | 4/25 [00:55<03:57, 11.30s/it]"
     ]
    },
    {
     "name": "stdout",
     "output_type": "stream",
     "text": [
      "User  3 Elapsed: 00:00:08\n"
     ]
    },
    {
     "name": "stderr",
     "output_type": "stream",
     "text": [
      "\r",
      " 20%|██        | 5/25 [00:59<03:08,  9.40s/it]"
     ]
    },
    {
     "name": "stdout",
     "output_type": "stream",
     "text": [
      "User  4 Elapsed: 00:00:04\n"
     ]
    },
    {
     "name": "stderr",
     "output_type": "stream",
     "text": [
      "\r",
      " 24%|██▍       | 6/25 [01:05<02:38,  8.32s/it]"
     ]
    },
    {
     "name": "stdout",
     "output_type": "stream",
     "text": [
      "User  5 Elapsed: 00:00:05\n"
     ]
    },
    {
     "name": "stderr",
     "output_type": "stream",
     "text": [
      "\r",
      " 28%|██▊       | 7/25 [01:11<02:13,  7.40s/it]"
     ]
    },
    {
     "name": "stdout",
     "output_type": "stream",
     "text": [
      "User  6 Elapsed: 00:00:05\n"
     ]
    },
    {
     "name": "stderr",
     "output_type": "stream",
     "text": [
      "\r",
      " 32%|███▏      | 8/25 [01:15<01:49,  6.45s/it]"
     ]
    },
    {
     "name": "stdout",
     "output_type": "stream",
     "text": [
      "User  7 Elapsed: 00:00:04\n"
     ]
    },
    {
     "name": "stderr",
     "output_type": "stream",
     "text": [
      "\r",
      " 36%|███▌      | 9/25 [01:21<01:42,  6.40s/it]"
     ]
    },
    {
     "name": "stdout",
     "output_type": "stream",
     "text": [
      "User  8 Elapsed: 00:00:06\n"
     ]
    },
    {
     "name": "stderr",
     "output_type": "stream",
     "text": [
      "\r",
      " 40%|████      | 10/25 [01:29<01:43,  6.88s/it]"
     ]
    },
    {
     "name": "stdout",
     "output_type": "stream",
     "text": [
      "User  9 Elapsed: 00:00:07\n"
     ]
    },
    {
     "name": "stderr",
     "output_type": "stream",
     "text": [
      "\r",
      " 44%|████▍     | 11/25 [01:38<01:47,  7.65s/it]"
     ]
    },
    {
     "name": "stdout",
     "output_type": "stream",
     "text": [
      "User  10 Elapsed: 00:00:09\n"
     ]
    },
    {
     "name": "stderr",
     "output_type": "stream",
     "text": [
      "\r",
      " 48%|████▊     | 12/25 [01:48<01:46,  8.18s/it]"
     ]
    },
    {
     "name": "stdout",
     "output_type": "stream",
     "text": [
      "User  11 Elapsed: 00:00:09\n"
     ]
    },
    {
     "name": "stderr",
     "output_type": "stream",
     "text": [
      "\r",
      " 52%|█████▏    | 13/25 [01:56<01:36,  8.08s/it]"
     ]
    },
    {
     "name": "stdout",
     "output_type": "stream",
     "text": [
      "User  12 Elapsed: 00:00:07\n"
     ]
    },
    {
     "name": "stderr",
     "output_type": "stream",
     "text": [
      "\r",
      " 56%|█████▌    | 14/25 [02:07<01:38,  8.95s/it]"
     ]
    },
    {
     "name": "stdout",
     "output_type": "stream",
     "text": [
      "User  13 Elapsed: 00:00:10\n"
     ]
    },
    {
     "name": "stderr",
     "output_type": "stream",
     "text": [
      "\r",
      " 60%|██████    | 15/25 [02:15<01:26,  8.64s/it]"
     ]
    },
    {
     "name": "stdout",
     "output_type": "stream",
     "text": [
      "User  14 Elapsed: 00:00:07\n",
      "User  15 Elapsed: 00:00:00\n"
     ]
    },
    {
     "name": "stderr",
     "output_type": "stream",
     "text": [
      "\r",
      " 68%|██████▊   | 17/25 [02:31<01:07,  8.44s/it]"
     ]
    },
    {
     "name": "stdout",
     "output_type": "stream",
     "text": [
      "User  16 Elapsed: 00:00:15\n"
     ]
    },
    {
     "name": "stderr",
     "output_type": "stream",
     "text": [
      "\r",
      " 72%|███████▏  | 18/25 [02:51<01:23, 11.96s/it]"
     ]
    },
    {
     "name": "stdout",
     "output_type": "stream",
     "text": [
      "User  17 Elapsed: 00:00:20\n"
     ]
    },
    {
     "name": "stderr",
     "output_type": "stream",
     "text": [
      "\r",
      " 76%|███████▌  | 19/25 [03:01<01:07, 11.30s/it]"
     ]
    },
    {
     "name": "stdout",
     "output_type": "stream",
     "text": [
      "User  18 Elapsed: 00:00:09\n"
     ]
    },
    {
     "name": "stderr",
     "output_type": "stream",
     "text": [
      "\r",
      " 80%|████████  | 20/25 [03:17<01:04, 12.99s/it]"
     ]
    },
    {
     "name": "stdout",
     "output_type": "stream",
     "text": [
      "User  19 Elapsed: 00:00:16\n"
     ]
    },
    {
     "name": "stderr",
     "output_type": "stream",
     "text": [
      "\r",
      " 84%|████████▍ | 21/25 [03:29<00:50, 12.53s/it]"
     ]
    },
    {
     "name": "stdout",
     "output_type": "stream",
     "text": [
      "User  20 Elapsed: 00:00:11\n"
     ]
    },
    {
     "name": "stderr",
     "output_type": "stream",
     "text": [
      "\r",
      " 88%|████████▊ | 22/25 [03:39<00:35, 11.92s/it]"
     ]
    },
    {
     "name": "stdout",
     "output_type": "stream",
     "text": [
      "User  21 Elapsed: 00:00:10\n"
     ]
    },
    {
     "name": "stderr",
     "output_type": "stream",
     "text": [
      "\r",
      " 92%|█████████▏| 23/25 [03:44<00:19,  9.68s/it]"
     ]
    },
    {
     "name": "stdout",
     "output_type": "stream",
     "text": [
      "User  22 Elapsed: 00:00:04\n",
      "User  23 Elapsed: 00:00:00\n"
     ]
    },
    {
     "name": "stderr",
     "output_type": "stream",
     "text": [
      "100%|██████████| 25/25 [03:48<00:00,  9.15s/it]\n",
      "  0%|          | 0/25 [00:00<?, ?it/s]"
     ]
    },
    {
     "name": "stdout",
     "output_type": "stream",
     "text": [
      "User  24 Elapsed: 00:00:04\n"
     ]
    },
    {
     "name": "stderr",
     "output_type": "stream",
     "text": [
      "\r",
      "  4%|▍         | 1/25 [00:07<02:56,  7.34s/it]"
     ]
    },
    {
     "name": "stdout",
     "output_type": "stream",
     "text": [
      "User  0 Elapsed: 00:00:07\n"
     ]
    },
    {
     "name": "stderr",
     "output_type": "stream",
     "text": [
      "\r",
      "  8%|▊         | 2/25 [00:40<05:47, 15.12s/it]"
     ]
    },
    {
     "name": "stdout",
     "output_type": "stream",
     "text": [
      "User  1 Elapsed: 00:00:33\n"
     ]
    },
    {
     "name": "stderr",
     "output_type": "stream",
     "text": [
      "\r",
      " 12%|█▏        | 3/25 [00:48<04:45, 12.95s/it]"
     ]
    },
    {
     "name": "stdout",
     "output_type": "stream",
     "text": [
      "User  2 Elapsed: 00:00:07\n"
     ]
    },
    {
     "name": "stderr",
     "output_type": "stream",
     "text": [
      "\r",
      " 16%|█▌        | 4/25 [00:56<04:00, 11.45s/it]"
     ]
    },
    {
     "name": "stdout",
     "output_type": "stream",
     "text": [
      "User  3 Elapsed: 00:00:07\n"
     ]
    },
    {
     "name": "stderr",
     "output_type": "stream",
     "text": [
      "\r",
      " 20%|██        | 5/25 [01:01<03:10,  9.50s/it]"
     ]
    },
    {
     "name": "stdout",
     "output_type": "stream",
     "text": [
      "User  4 Elapsed: 00:00:04\n"
     ]
    },
    {
     "name": "stderr",
     "output_type": "stream",
     "text": [
      "\r",
      " 24%|██▍       | 6/25 [01:07<02:41,  8.48s/it]"
     ]
    },
    {
     "name": "stdout",
     "output_type": "stream",
     "text": [
      "User  5 Elapsed: 00:00:06\n"
     ]
    },
    {
     "name": "stderr",
     "output_type": "stream",
     "text": [
      "\r",
      " 28%|██▊       | 7/25 [01:13<02:16,  7.58s/it]"
     ]
    },
    {
     "name": "stdout",
     "output_type": "stream",
     "text": [
      "User  6 Elapsed: 00:00:05\n"
     ]
    },
    {
     "name": "stderr",
     "output_type": "stream",
     "text": [
      "\r",
      " 32%|███▏      | 8/25 [01:17<01:54,  6.73s/it]"
     ]
    },
    {
     "name": "stdout",
     "output_type": "stream",
     "text": [
      "User  7 Elapsed: 00:00:04\n"
     ]
    },
    {
     "name": "stderr",
     "output_type": "stream",
     "text": [
      "\r",
      " 36%|███▌      | 9/25 [01:24<01:48,  6.76s/it]"
     ]
    },
    {
     "name": "stdout",
     "output_type": "stream",
     "text": [
      "User  8 Elapsed: 00:00:06\n"
     ]
    },
    {
     "name": "stderr",
     "output_type": "stream",
     "text": [
      "\r",
      " 40%|████      | 10/25 [01:33<01:49,  7.28s/it]"
     ]
    },
    {
     "name": "stdout",
     "output_type": "stream",
     "text": [
      "User  9 Elapsed: 00:00:08\n"
     ]
    },
    {
     "name": "stderr",
     "output_type": "stream",
     "text": [
      "\r",
      " 44%|████▍     | 11/25 [01:42<01:50,  7.92s/it]"
     ]
    },
    {
     "name": "stdout",
     "output_type": "stream",
     "text": [
      "User  10 Elapsed: 00:00:09\n"
     ]
    },
    {
     "name": "stderr",
     "output_type": "stream",
     "text": [
      "\r",
      " 48%|████▊     | 12/25 [01:53<01:53,  8.71s/it]"
     ]
    },
    {
     "name": "stdout",
     "output_type": "stream",
     "text": [
      "User  11 Elapsed: 00:00:10\n"
     ]
    },
    {
     "name": "stderr",
     "output_type": "stream",
     "text": [
      "\r",
      " 52%|█████▏    | 13/25 [02:01<01:42,  8.54s/it]"
     ]
    },
    {
     "name": "stdout",
     "output_type": "stream",
     "text": [
      "User  12 Elapsed: 00:00:08\n"
     ]
    },
    {
     "name": "stderr",
     "output_type": "stream",
     "text": [
      "\r",
      " 56%|█████▌    | 14/25 [02:11<01:39,  9.05s/it]"
     ]
    },
    {
     "name": "stdout",
     "output_type": "stream",
     "text": [
      "User  13 Elapsed: 00:00:10\n"
     ]
    },
    {
     "name": "stderr",
     "output_type": "stream",
     "text": [
      "\r",
      " 60%|██████    | 15/25 [02:18<01:24,  8.47s/it]"
     ]
    },
    {
     "name": "stdout",
     "output_type": "stream",
     "text": [
      "User  14 Elapsed: 00:00:07\n",
      "User  15 Elapsed: 00:00:00\n"
     ]
    },
    {
     "name": "stderr",
     "output_type": "stream",
     "text": [
      "\r",
      " 68%|██████▊   | 17/25 [02:34<01:06,  8.37s/it]"
     ]
    },
    {
     "name": "stdout",
     "output_type": "stream",
     "text": [
      "User  16 Elapsed: 00:00:16\n"
     ]
    },
    {
     "name": "stderr",
     "output_type": "stream",
     "text": [
      "\r",
      " 72%|███████▏  | 18/25 [02:56<01:25, 12.27s/it]"
     ]
    },
    {
     "name": "stdout",
     "output_type": "stream",
     "text": [
      "User  17 Elapsed: 00:00:21\n"
     ]
    },
    {
     "name": "stderr",
     "output_type": "stream",
     "text": [
      "\r",
      " 76%|███████▌  | 19/25 [03:06<01:09, 11.60s/it]"
     ]
    },
    {
     "name": "stdout",
     "output_type": "stream",
     "text": [
      "User  18 Elapsed: 00:00:10\n"
     ]
    },
    {
     "name": "stderr",
     "output_type": "stream",
     "text": [
      "\r",
      " 80%|████████  | 20/25 [03:23<01:06, 13.24s/it]"
     ]
    },
    {
     "name": "stdout",
     "output_type": "stream",
     "text": [
      "User  19 Elapsed: 00:00:17\n"
     ]
    },
    {
     "name": "stderr",
     "output_type": "stream",
     "text": [
      "\r",
      " 84%|████████▍ | 21/25 [03:34<00:50, 12.68s/it]"
     ]
    },
    {
     "name": "stdout",
     "output_type": "stream",
     "text": [
      "User  20 Elapsed: 00:00:11\n"
     ]
    },
    {
     "name": "stderr",
     "output_type": "stream",
     "text": [
      "\r",
      " 88%|████████▊ | 22/25 [03:45<00:36, 12.00s/it]"
     ]
    },
    {
     "name": "stdout",
     "output_type": "stream",
     "text": [
      "User  21 Elapsed: 00:00:10\n"
     ]
    },
    {
     "name": "stderr",
     "output_type": "stream",
     "text": [
      "\r",
      " 92%|█████████▏| 23/25 [03:50<00:19,  9.98s/it]"
     ]
    },
    {
     "name": "stdout",
     "output_type": "stream",
     "text": [
      "User  22 Elapsed: 00:00:05\n",
      "User  23 Elapsed: 00:00:00\n"
     ]
    },
    {
     "name": "stderr",
     "output_type": "stream",
     "text": [
      "100%|██████████| 25/25 [03:54<00:00,  9.39s/it]\n",
      "  0%|          | 0/25 [00:00<?, ?it/s]"
     ]
    },
    {
     "name": "stdout",
     "output_type": "stream",
     "text": [
      "User  24 Elapsed: 00:00:04\n"
     ]
    },
    {
     "name": "stderr",
     "output_type": "stream",
     "text": [
      "\r",
      "  4%|▍         | 1/25 [00:07<02:55,  7.33s/it]"
     ]
    },
    {
     "name": "stdout",
     "output_type": "stream",
     "text": [
      "User  0 Elapsed: 00:00:07\n"
     ]
    },
    {
     "name": "stderr",
     "output_type": "stream",
     "text": [
      "\r",
      "  8%|▊         | 2/25 [00:41<05:55, 15.45s/it]"
     ]
    },
    {
     "name": "stdout",
     "output_type": "stream",
     "text": [
      "User  1 Elapsed: 00:00:34\n"
     ]
    },
    {
     "name": "stderr",
     "output_type": "stream",
     "text": [
      "\r",
      " 12%|█▏        | 3/25 [00:49<04:48, 13.12s/it]"
     ]
    },
    {
     "name": "stdout",
     "output_type": "stream",
     "text": [
      "User  2 Elapsed: 00:00:07\n"
     ]
    },
    {
     "name": "stderr",
     "output_type": "stream",
     "text": [
      "\r",
      " 16%|█▌        | 4/25 [00:57<04:04, 11.64s/it]"
     ]
    },
    {
     "name": "stdout",
     "output_type": "stream",
     "text": [
      "User  3 Elapsed: 00:00:08\n"
     ]
    },
    {
     "name": "stderr",
     "output_type": "stream",
     "text": [
      "\r",
      " 20%|██        | 5/25 [01:02<03:09,  9.47s/it]"
     ]
    },
    {
     "name": "stdout",
     "output_type": "stream",
     "text": [
      "User  4 Elapsed: 00:00:04\n"
     ]
    },
    {
     "name": "stderr",
     "output_type": "stream",
     "text": [
      "\r",
      " 24%|██▍       | 6/25 [01:08<02:40,  8.44s/it]"
     ]
    },
    {
     "name": "stdout",
     "output_type": "stream",
     "text": [
      "User  5 Elapsed: 00:00:06\n"
     ]
    },
    {
     "name": "stderr",
     "output_type": "stream",
     "text": [
      "\r",
      " 28%|██▊       | 7/25 [01:13<02:15,  7.53s/it]"
     ]
    },
    {
     "name": "stdout",
     "output_type": "stream",
     "text": [
      "User  6 Elapsed: 00:00:05\n"
     ]
    },
    {
     "name": "stderr",
     "output_type": "stream",
     "text": [
      "\r",
      " 32%|███▏      | 8/25 [01:18<01:54,  6.72s/it]"
     ]
    },
    {
     "name": "stdout",
     "output_type": "stream",
     "text": [
      "User  7 Elapsed: 00:00:04\n"
     ]
    },
    {
     "name": "stderr",
     "output_type": "stream",
     "text": [
      "\r",
      " 36%|███▌      | 9/25 [01:25<01:47,  6.72s/it]"
     ]
    },
    {
     "name": "stdout",
     "output_type": "stream",
     "text": [
      "User  8 Elapsed: 00:00:06\n"
     ]
    },
    {
     "name": "stderr",
     "output_type": "stream",
     "text": [
      "\r",
      " 40%|████      | 10/25 [01:33<01:49,  7.27s/it]"
     ]
    },
    {
     "name": "stdout",
     "output_type": "stream",
     "text": [
      "User  9 Elapsed: 00:00:08\n"
     ]
    },
    {
     "name": "stderr",
     "output_type": "stream",
     "text": [
      "\r",
      " 44%|████▍     | 11/25 [01:43<01:53,  8.12s/it]"
     ]
    },
    {
     "name": "stdout",
     "output_type": "stream",
     "text": [
      "User  10 Elapsed: 00:00:10\n"
     ]
    },
    {
     "name": "stderr",
     "output_type": "stream",
     "text": [
      "\r",
      " 48%|████▊     | 12/25 [01:53<01:54,  8.77s/it]"
     ]
    },
    {
     "name": "stdout",
     "output_type": "stream",
     "text": [
      "User  11 Elapsed: 00:00:10\n"
     ]
    },
    {
     "name": "stderr",
     "output_type": "stream",
     "text": [
      "\r",
      " 52%|█████▏    | 13/25 [02:01<01:40,  8.36s/it]"
     ]
    },
    {
     "name": "stdout",
     "output_type": "stream",
     "text": [
      "User  12 Elapsed: 00:00:07\n"
     ]
    },
    {
     "name": "stderr",
     "output_type": "stream",
     "text": [
      "\r",
      " 56%|█████▌    | 14/25 [02:12<01:40,  9.12s/it]"
     ]
    },
    {
     "name": "stdout",
     "output_type": "stream",
     "text": [
      "User  13 Elapsed: 00:00:10\n"
     ]
    },
    {
     "name": "stderr",
     "output_type": "stream",
     "text": [
      "\r",
      " 60%|██████    | 15/25 [02:20<01:29,  8.92s/it]"
     ]
    },
    {
     "name": "stdout",
     "output_type": "stream",
     "text": [
      "User  14 Elapsed: 00:00:08\n",
      "User  15 Elapsed: 00:00:00\n"
     ]
    },
    {
     "name": "stderr",
     "output_type": "stream",
     "text": [
      "\r",
      " 68%|██████▊   | 17/25 [02:36<01:09,  8.66s/it]"
     ]
    },
    {
     "name": "stdout",
     "output_type": "stream",
     "text": [
      "User  16 Elapsed: 00:00:16\n"
     ]
    },
    {
     "name": "stderr",
     "output_type": "stream",
     "text": [
      "\r",
      " 72%|███████▏  | 18/25 [02:57<01:26, 12.31s/it]"
     ]
    },
    {
     "name": "stdout",
     "output_type": "stream",
     "text": [
      "User  17 Elapsed: 00:00:20\n"
     ]
    },
    {
     "name": "stderr",
     "output_type": "stream",
     "text": [
      "\r",
      " 76%|███████▌  | 19/25 [03:07<01:10, 11.67s/it]"
     ]
    },
    {
     "name": "stdout",
     "output_type": "stream",
     "text": [
      "User  18 Elapsed: 00:00:10\n"
     ]
    },
    {
     "name": "stderr",
     "output_type": "stream",
     "text": [
      "\r",
      " 80%|████████  | 20/25 [03:24<01:06, 13.25s/it]"
     ]
    },
    {
     "name": "stdout",
     "output_type": "stream",
     "text": [
      "User  19 Elapsed: 00:00:16\n"
     ]
    },
    {
     "name": "stderr",
     "output_type": "stream",
     "text": [
      "\r",
      " 84%|████████▍ | 21/25 [03:36<00:50, 12.73s/it]"
     ]
    },
    {
     "name": "stdout",
     "output_type": "stream",
     "text": [
      "User  20 Elapsed: 00:00:11\n"
     ]
    },
    {
     "name": "stderr",
     "output_type": "stream",
     "text": [
      "\r",
      " 88%|████████▊ | 22/25 [03:46<00:36, 12.01s/it]"
     ]
    },
    {
     "name": "stdout",
     "output_type": "stream",
     "text": [
      "User  21 Elapsed: 00:00:10\n"
     ]
    },
    {
     "name": "stderr",
     "output_type": "stream",
     "text": [
      "\r",
      " 92%|█████████▏| 23/25 [03:51<00:19,  9.91s/it]"
     ]
    },
    {
     "name": "stdout",
     "output_type": "stream",
     "text": [
      "User  22 Elapsed: 00:00:05\n",
      "User  23 Elapsed: 00:00:00\n"
     ]
    },
    {
     "name": "stderr",
     "output_type": "stream",
     "text": [
      "100%|██████████| 25/25 [03:56<00:00,  9.45s/it]"
     ]
    },
    {
     "name": "stdout",
     "output_type": "stream",
     "text": [
      "User  24 Elapsed: 00:00:04\n"
     ]
    },
    {
     "name": "stderr",
     "output_type": "stream",
     "text": [
      "\n",
      "  4%|▍         | 1/25 [00:07<02:55,  7.29s/it]"
     ]
    },
    {
     "name": "stdout",
     "output_type": "stream",
     "text": [
      "User  0 Elapsed: 00:00:07\n"
     ]
    },
    {
     "name": "stderr",
     "output_type": "stream",
     "text": [
      "\r",
      "  8%|▊         | 2/25 [00:41<05:54, 15.43s/it]"
     ]
    },
    {
     "name": "stdout",
     "output_type": "stream",
     "text": [
      "User  1 Elapsed: 00:00:34\n"
     ]
    },
    {
     "name": "stderr",
     "output_type": "stream",
     "text": [
      "\r",
      " 12%|█▏        | 3/25 [00:49<04:48, 13.11s/it]"
     ]
    },
    {
     "name": "stdout",
     "output_type": "stream",
     "text": [
      "User  2 Elapsed: 00:00:07\n"
     ]
    },
    {
     "name": "stderr",
     "output_type": "stream",
     "text": [
      "\r",
      " 16%|█▌        | 4/25 [00:57<04:02, 11.53s/it]"
     ]
    },
    {
     "name": "stdout",
     "output_type": "stream",
     "text": [
      "User  3 Elapsed: 00:00:07\n"
     ]
    },
    {
     "name": "stderr",
     "output_type": "stream",
     "text": [
      "\r",
      " 20%|██        | 5/25 [01:01<03:07,  9.39s/it]"
     ]
    },
    {
     "name": "stdout",
     "output_type": "stream",
     "text": [
      "User  4 Elapsed: 00:00:04\n"
     ]
    },
    {
     "name": "stderr",
     "output_type": "stream",
     "text": [
      "\r",
      " 24%|██▍       | 6/25 [01:07<02:41,  8.48s/it]"
     ]
    },
    {
     "name": "stdout",
     "output_type": "stream",
     "text": [
      "User  5 Elapsed: 00:00:06\n"
     ]
    },
    {
     "name": "stderr",
     "output_type": "stream",
     "text": [
      "\r",
      " 28%|██▊       | 7/25 [01:13<02:16,  7.57s/it]"
     ]
    },
    {
     "name": "stdout",
     "output_type": "stream",
     "text": [
      "User  6 Elapsed: 00:00:05\n"
     ]
    },
    {
     "name": "stderr",
     "output_type": "stream",
     "text": [
      "\r",
      " 32%|███▏      | 8/25 [01:18<01:56,  6.85s/it]"
     ]
    },
    {
     "name": "stdout",
     "output_type": "stream",
     "text": [
      "User  7 Elapsed: 00:00:05\n"
     ]
    },
    {
     "name": "stderr",
     "output_type": "stream",
     "text": [
      "\r",
      " 36%|███▌      | 9/25 [01:25<01:48,  6.76s/it]"
     ]
    },
    {
     "name": "stdout",
     "output_type": "stream",
     "text": [
      "User  8 Elapsed: 00:00:06\n"
     ]
    },
    {
     "name": "stderr",
     "output_type": "stream",
     "text": [
      "\r",
      " 40%|████      | 10/25 [01:32<01:44,  6.99s/it]"
     ]
    },
    {
     "name": "stdout",
     "output_type": "stream",
     "text": [
      "User  9 Elapsed: 00:00:07\n"
     ]
    },
    {
     "name": "stderr",
     "output_type": "stream",
     "text": [
      "\r",
      " 44%|████▍     | 11/25 [01:41<01:47,  7.68s/it]"
     ]
    },
    {
     "name": "stdout",
     "output_type": "stream",
     "text": [
      "User  10 Elapsed: 00:00:09\n"
     ]
    },
    {
     "name": "stderr",
     "output_type": "stream",
     "text": [
      "\r",
      " 48%|████▊     | 12/25 [01:52<01:51,  8.55s/it]"
     ]
    },
    {
     "name": "stdout",
     "output_type": "stream",
     "text": [
      "User  11 Elapsed: 00:00:10\n"
     ]
    },
    {
     "name": "stderr",
     "output_type": "stream",
     "text": [
      "\r",
      " 52%|█████▏    | 13/25 [02:01<01:42,  8.55s/it]"
     ]
    },
    {
     "name": "stdout",
     "output_type": "stream",
     "text": [
      "User  12 Elapsed: 00:00:08\n"
     ]
    },
    {
     "name": "stderr",
     "output_type": "stream",
     "text": [
      "\r",
      " 56%|█████▌    | 14/25 [02:11<01:40,  9.15s/it]"
     ]
    },
    {
     "name": "stdout",
     "output_type": "stream",
     "text": [
      "User  13 Elapsed: 00:00:10\n"
     ]
    },
    {
     "name": "stderr",
     "output_type": "stream",
     "text": [
      "\r",
      " 60%|██████    | 15/25 [02:20<01:29,  8.97s/it]"
     ]
    },
    {
     "name": "stdout",
     "output_type": "stream",
     "text": [
      "User  14 Elapsed: 00:00:08\n",
      "User  15 Elapsed: 00:00:00\n"
     ]
    },
    {
     "name": "stderr",
     "output_type": "stream",
     "text": [
      "\r",
      " 68%|██████▊   | 17/25 [02:36<01:10,  8.78s/it]"
     ]
    },
    {
     "name": "stdout",
     "output_type": "stream",
     "text": [
      "User  16 Elapsed: 00:00:16\n"
     ]
    },
    {
     "name": "stderr",
     "output_type": "stream",
     "text": [
      "\r",
      " 72%|███████▏  | 18/25 [02:57<01:27, 12.45s/it]"
     ]
    },
    {
     "name": "stdout",
     "output_type": "stream",
     "text": [
      "User  17 Elapsed: 00:00:21\n"
     ]
    },
    {
     "name": "stderr",
     "output_type": "stream",
     "text": [
      "\r",
      " 76%|███████▌  | 19/25 [03:06<01:08, 11.38s/it]"
     ]
    },
    {
     "name": "stdout",
     "output_type": "stream",
     "text": [
      "User  18 Elapsed: 00:00:08\n"
     ]
    },
    {
     "name": "stderr",
     "output_type": "stream",
     "text": [
      "\r",
      " 80%|████████  | 20/25 [03:24<01:05, 13.17s/it]"
     ]
    },
    {
     "name": "stdout",
     "output_type": "stream",
     "text": [
      "User  19 Elapsed: 00:00:17\n"
     ]
    },
    {
     "name": "stderr",
     "output_type": "stream",
     "text": [
      "\r",
      " 84%|████████▍ | 21/25 [03:35<00:50, 12.71s/it]"
     ]
    },
    {
     "name": "stdout",
     "output_type": "stream",
     "text": [
      "User  20 Elapsed: 00:00:11\n"
     ]
    },
    {
     "name": "stderr",
     "output_type": "stream",
     "text": [
      "\r",
      " 88%|████████▊ | 22/25 [03:46<00:36, 12.17s/it]"
     ]
    },
    {
     "name": "stdout",
     "output_type": "stream",
     "text": [
      "User  21 Elapsed: 00:00:10\n"
     ]
    },
    {
     "name": "stderr",
     "output_type": "stream",
     "text": [
      "\r",
      " 92%|█████████▏| 23/25 [03:51<00:19,  9.90s/it]"
     ]
    },
    {
     "name": "stdout",
     "output_type": "stream",
     "text": [
      "User  22 Elapsed: 00:00:04\n",
      "User  23 Elapsed: 00:00:00\n"
     ]
    },
    {
     "name": "stderr",
     "output_type": "stream",
     "text": [
      "100%|██████████| 25/25 [03:55<00:00,  9.44s/it]"
     ]
    },
    {
     "name": "stdout",
     "output_type": "stream",
     "text": [
      "User  24 Elapsed: 00:00:04\n"
     ]
    },
    {
     "name": "stderr",
     "output_type": "stream",
     "text": [
      "\n",
      "  4%|▍         | 1/25 [00:07<02:51,  7.14s/it]"
     ]
    },
    {
     "name": "stdout",
     "output_type": "stream",
     "text": [
      "User  0 Elapsed: 00:00:07\n"
     ]
    },
    {
     "name": "stderr",
     "output_type": "stream",
     "text": [
      "\r",
      "  8%|▊         | 2/25 [00:41<05:54, 15.41s/it]"
     ]
    },
    {
     "name": "stdout",
     "output_type": "stream",
     "text": [
      "User  1 Elapsed: 00:00:34\n"
     ]
    },
    {
     "name": "stderr",
     "output_type": "stream",
     "text": [
      "\r",
      " 12%|█▏        | 3/25 [00:50<04:53, 13.32s/it]"
     ]
    },
    {
     "name": "stdout",
     "output_type": "stream",
     "text": [
      "User  2 Elapsed: 00:00:08\n"
     ]
    },
    {
     "name": "stderr",
     "output_type": "stream",
     "text": [
      "\r",
      " 16%|█▌        | 4/25 [00:58<04:07, 11.79s/it]"
     ]
    },
    {
     "name": "stdout",
     "output_type": "stream",
     "text": [
      "User  3 Elapsed: 00:00:08\n"
     ]
    },
    {
     "name": "stderr",
     "output_type": "stream",
     "text": [
      "\r",
      " 20%|██        | 5/25 [01:03<03:12,  9.64s/it]"
     ]
    },
    {
     "name": "stdout",
     "output_type": "stream",
     "text": [
      "User  4 Elapsed: 00:00:04\n"
     ]
    },
    {
     "name": "stderr",
     "output_type": "stream",
     "text": [
      "\r",
      " 24%|██▍       | 6/25 [01:08<02:40,  8.46s/it]"
     ]
    },
    {
     "name": "stdout",
     "output_type": "stream",
     "text": [
      "User  5 Elapsed: 00:00:05\n"
     ]
    },
    {
     "name": "stderr",
     "output_type": "stream",
     "text": [
      "\r",
      " 28%|██▊       | 7/25 [01:14<02:15,  7.52s/it]"
     ]
    },
    {
     "name": "stdout",
     "output_type": "stream",
     "text": [
      "User  6 Elapsed: 00:00:05\n"
     ]
    },
    {
     "name": "stderr",
     "output_type": "stream",
     "text": [
      "\r",
      " 32%|███▏      | 8/25 [01:18<01:53,  6.70s/it]"
     ]
    },
    {
     "name": "stdout",
     "output_type": "stream",
     "text": [
      "User  7 Elapsed: 00:00:04\n"
     ]
    },
    {
     "name": "stderr",
     "output_type": "stream",
     "text": [
      "\r",
      " 36%|███▌      | 9/25 [01:25<01:48,  6.79s/it]"
     ]
    },
    {
     "name": "stdout",
     "output_type": "stream",
     "text": [
      "User  8 Elapsed: 00:00:06\n"
     ]
    },
    {
     "name": "stderr",
     "output_type": "stream",
     "text": [
      "\r",
      " 40%|████      | 10/25 [01:34<01:49,  7.33s/it]"
     ]
    },
    {
     "name": "stdout",
     "output_type": "stream",
     "text": [
      "User  9 Elapsed: 00:00:08\n"
     ]
    },
    {
     "name": "stderr",
     "output_type": "stream",
     "text": [
      "\r",
      " 44%|████▍     | 11/25 [01:45<01:58,  8.47s/it]"
     ]
    },
    {
     "name": "stdout",
     "output_type": "stream",
     "text": [
      "User  10 Elapsed: 00:00:11\n"
     ]
    },
    {
     "name": "stderr",
     "output_type": "stream",
     "text": [
      "\r",
      " 48%|████▊     | 12/25 [01:56<01:57,  9.03s/it]"
     ]
    },
    {
     "name": "stdout",
     "output_type": "stream",
     "text": [
      "User  11 Elapsed: 00:00:10\n"
     ]
    },
    {
     "name": "stderr",
     "output_type": "stream",
     "text": [
      "\r",
      " 52%|█████▏    | 13/25 [02:04<01:45,  8.81s/it]"
     ]
    },
    {
     "name": "stdout",
     "output_type": "stream",
     "text": [
      "User  12 Elapsed: 00:00:08\n"
     ]
    },
    {
     "name": "stderr",
     "output_type": "stream",
     "text": [
      "\r",
      " 56%|█████▌    | 14/25 [02:15<01:45,  9.64s/it]"
     ]
    },
    {
     "name": "stdout",
     "output_type": "stream",
     "text": [
      "User  13 Elapsed: 00:00:11\n"
     ]
    },
    {
     "name": "stderr",
     "output_type": "stream",
     "text": [
      "\r",
      " 60%|██████    | 15/25 [02:24<01:32,  9.24s/it]"
     ]
    },
    {
     "name": "stdout",
     "output_type": "stream",
     "text": [
      "User  14 Elapsed: 00:00:08\n",
      "User  15 Elapsed: 00:00:00\n"
     ]
    },
    {
     "name": "stderr",
     "output_type": "stream",
     "text": [
      "\r",
      " 68%|██████▊   | 17/25 [02:41<01:12,  9.07s/it]"
     ]
    },
    {
     "name": "stdout",
     "output_type": "stream",
     "text": [
      "User  16 Elapsed: 00:00:17\n"
     ]
    },
    {
     "name": "stderr",
     "output_type": "stream",
     "text": [
      "\r",
      " 72%|███████▏  | 18/25 [03:01<01:25, 12.27s/it]"
     ]
    },
    {
     "name": "stdout",
     "output_type": "stream",
     "text": [
      "User  17 Elapsed: 00:00:19\n"
     ]
    },
    {
     "name": "stderr",
     "output_type": "stream",
     "text": [
      "\r",
      " 76%|███████▌  | 19/25 [03:10<01:07, 11.27s/it]"
     ]
    },
    {
     "name": "stdout",
     "output_type": "stream",
     "text": [
      "User  18 Elapsed: 00:00:08\n"
     ]
    },
    {
     "name": "stderr",
     "output_type": "stream",
     "text": [
      "\r",
      " 80%|████████  | 20/25 [03:26<01:03, 12.77s/it]"
     ]
    },
    {
     "name": "stdout",
     "output_type": "stream",
     "text": [
      "User  19 Elapsed: 00:00:16\n"
     ]
    },
    {
     "name": "stderr",
     "output_type": "stream",
     "text": [
      "\r",
      " 84%|████████▍ | 21/25 [03:38<00:50, 12.52s/it]"
     ]
    },
    {
     "name": "stdout",
     "output_type": "stream",
     "text": [
      "User  20 Elapsed: 00:00:11\n"
     ]
    },
    {
     "name": "stderr",
     "output_type": "stream",
     "text": [
      "\r",
      " 88%|████████▊ | 22/25 [03:47<00:34, 11.64s/it]"
     ]
    },
    {
     "name": "stdout",
     "output_type": "stream",
     "text": [
      "User  21 Elapsed: 00:00:09\n"
     ]
    },
    {
     "name": "stderr",
     "output_type": "stream",
     "text": [
      "\r",
      " 92%|█████████▏| 23/25 [03:52<00:19,  9.57s/it]"
     ]
    },
    {
     "name": "stdout",
     "output_type": "stream",
     "text": [
      "User  22 Elapsed: 00:00:04\n",
      "User  23 Elapsed: 00:00:00\n"
     ]
    },
    {
     "name": "stderr",
     "output_type": "stream",
     "text": [
      "100%|██████████| 25/25 [03:57<00:00,  9.50s/it]"
     ]
    },
    {
     "name": "stdout",
     "output_type": "stream",
     "text": [
      "User  24 Elapsed: 00:00:04\n"
     ]
    },
    {
     "name": "stderr",
     "output_type": "stream",
     "text": [
      "\n",
      "  4%|▍         | 1/25 [00:07<02:48,  7.01s/it]"
     ]
    },
    {
     "name": "stdout",
     "output_type": "stream",
     "text": [
      "User  0 Elapsed: 00:00:07\n"
     ]
    },
    {
     "name": "stderr",
     "output_type": "stream",
     "text": [
      "\r",
      "  8%|▊         | 2/25 [00:42<05:55, 15.44s/it]"
     ]
    },
    {
     "name": "stdout",
     "output_type": "stream",
     "text": [
      "User  1 Elapsed: 00:00:35\n"
     ]
    },
    {
     "name": "stderr",
     "output_type": "stream",
     "text": [
      "\r",
      " 12%|█▏        | 3/25 [00:49<04:46, 13.03s/it]"
     ]
    },
    {
     "name": "stdout",
     "output_type": "stream",
     "text": [
      "User  2 Elapsed: 00:00:07\n"
     ]
    },
    {
     "name": "stderr",
     "output_type": "stream",
     "text": [
      "\r",
      " 16%|█▌        | 4/25 [00:57<04:00, 11.44s/it]"
     ]
    },
    {
     "name": "stdout",
     "output_type": "stream",
     "text": [
      "User  3 Elapsed: 00:00:07\n"
     ]
    },
    {
     "name": "stderr",
     "output_type": "stream",
     "text": [
      "\r",
      " 20%|██        | 5/25 [01:01<03:04,  9.22s/it]"
     ]
    },
    {
     "name": "stdout",
     "output_type": "stream",
     "text": [
      "User  4 Elapsed: 00:00:04\n"
     ]
    },
    {
     "name": "stderr",
     "output_type": "stream",
     "text": [
      "\r",
      " 24%|██▍       | 6/25 [01:06<02:33,  8.06s/it]"
     ]
    },
    {
     "name": "stdout",
     "output_type": "stream",
     "text": [
      "User  5 Elapsed: 00:00:05\n"
     ]
    },
    {
     "name": "stderr",
     "output_type": "stream",
     "text": [
      "\r",
      " 28%|██▊       | 7/25 [01:12<02:10,  7.26s/it]"
     ]
    },
    {
     "name": "stdout",
     "output_type": "stream",
     "text": [
      "User  6 Elapsed: 00:00:05\n"
     ]
    },
    {
     "name": "stderr",
     "output_type": "stream",
     "text": [
      "\r",
      " 32%|███▏      | 8/25 [01:16<01:49,  6.45s/it]"
     ]
    },
    {
     "name": "stdout",
     "output_type": "stream",
     "text": [
      "User  7 Elapsed: 00:00:04\n"
     ]
    },
    {
     "name": "stderr",
     "output_type": "stream",
     "text": [
      "\r",
      " 36%|███▌      | 9/25 [01:23<01:43,  6.50s/it]"
     ]
    },
    {
     "name": "stdout",
     "output_type": "stream",
     "text": [
      "User  8 Elapsed: 00:00:06\n"
     ]
    },
    {
     "name": "stderr",
     "output_type": "stream",
     "text": [
      "\r",
      " 40%|████      | 10/25 [01:31<01:44,  6.97s/it]"
     ]
    },
    {
     "name": "stdout",
     "output_type": "stream",
     "text": [
      "User  9 Elapsed: 00:00:08\n"
     ]
    },
    {
     "name": "stderr",
     "output_type": "stream",
     "text": [
      "\r",
      " 44%|████▍     | 11/25 [01:41<01:51,  8.00s/it]"
     ]
    },
    {
     "name": "stdout",
     "output_type": "stream",
     "text": [
      "User  10 Elapsed: 00:00:10\n"
     ]
    },
    {
     "name": "stderr",
     "output_type": "stream",
     "text": [
      "\r",
      " 48%|████▊     | 12/25 [01:50<01:47,  8.23s/it]"
     ]
    },
    {
     "name": "stdout",
     "output_type": "stream",
     "text": [
      "User  11 Elapsed: 00:00:08\n"
     ]
    },
    {
     "name": "stderr",
     "output_type": "stream",
     "text": [
      "\r",
      " 52%|█████▏    | 13/25 [01:58<01:39,  8.29s/it]"
     ]
    },
    {
     "name": "stdout",
     "output_type": "stream",
     "text": [
      "User  12 Elapsed: 00:00:08\n"
     ]
    },
    {
     "name": "stderr",
     "output_type": "stream",
     "text": [
      "\r",
      " 56%|█████▌    | 14/25 [02:09<01:37,  8.91s/it]"
     ]
    },
    {
     "name": "stdout",
     "output_type": "stream",
     "text": [
      "User  13 Elapsed: 00:00:10\n"
     ]
    },
    {
     "name": "stderr",
     "output_type": "stream",
     "text": [
      "\r",
      " 60%|██████    | 15/25 [02:17<01:27,  8.79s/it]"
     ]
    },
    {
     "name": "stdout",
     "output_type": "stream",
     "text": [
      "User  14 Elapsed: 00:00:08\n",
      "User  15 Elapsed: 00:00:00\n"
     ]
    },
    {
     "name": "stderr",
     "output_type": "stream",
     "text": [
      "\r",
      " 68%|██████▊   | 17/25 [02:33<01:07,  8.50s/it]"
     ]
    },
    {
     "name": "stdout",
     "output_type": "stream",
     "text": [
      "User  16 Elapsed: 00:00:15\n"
     ]
    },
    {
     "name": "stderr",
     "output_type": "stream",
     "text": [
      "\r",
      " 72%|███████▏  | 18/25 [02:53<01:23, 11.92s/it]"
     ]
    },
    {
     "name": "stdout",
     "output_type": "stream",
     "text": [
      "User  17 Elapsed: 00:00:19\n"
     ]
    },
    {
     "name": "stderr",
     "output_type": "stream",
     "text": [
      "\r",
      " 76%|███████▌  | 19/25 [03:02<01:06, 11.13s/it]"
     ]
    },
    {
     "name": "stdout",
     "output_type": "stream",
     "text": [
      "User  18 Elapsed: 00:00:09\n"
     ]
    },
    {
     "name": "stderr",
     "output_type": "stream",
     "text": [
      "\r",
      " 80%|████████  | 20/25 [03:19<01:04, 12.82s/it]"
     ]
    },
    {
     "name": "stdout",
     "output_type": "stream",
     "text": [
      "User  19 Elapsed: 00:00:16\n"
     ]
    },
    {
     "name": "stderr",
     "output_type": "stream",
     "text": [
      "\r",
      " 84%|████████▍ | 21/25 [03:30<00:49, 12.36s/it]"
     ]
    },
    {
     "name": "stdout",
     "output_type": "stream",
     "text": [
      "User  20 Elapsed: 00:00:11\n"
     ]
    },
    {
     "name": "stderr",
     "output_type": "stream",
     "text": [
      "\r",
      " 88%|████████▊ | 22/25 [03:39<00:34, 11.41s/it]"
     ]
    },
    {
     "name": "stdout",
     "output_type": "stream",
     "text": [
      "User  21 Elapsed: 00:00:09\n"
     ]
    },
    {
     "name": "stderr",
     "output_type": "stream",
     "text": [
      "\r",
      " 92%|█████████▏| 23/25 [03:45<00:19,  9.57s/it]"
     ]
    },
    {
     "name": "stdout",
     "output_type": "stream",
     "text": [
      "User  22 Elapsed: 00:00:05\n",
      "User  23 Elapsed: 00:00:00\n"
     ]
    },
    {
     "name": "stderr",
     "output_type": "stream",
     "text": [
      "100%|██████████| 25/25 [03:49<00:00,  9.19s/it]"
     ]
    },
    {
     "name": "stdout",
     "output_type": "stream",
     "text": [
      "User  24 Elapsed: 00:00:04\n"
     ]
    },
    {
     "name": "stderr",
     "output_type": "stream",
     "text": [
      "\n",
      "  4%|▍         | 1/25 [00:07<02:52,  7.20s/it]"
     ]
    },
    {
     "name": "stdout",
     "output_type": "stream",
     "text": [
      "User  0 Elapsed: 00:00:07\n"
     ]
    },
    {
     "name": "stderr",
     "output_type": "stream",
     "text": [
      "\r",
      "  8%|▊         | 2/25 [00:38<05:34, 14.56s/it]"
     ]
    },
    {
     "name": "stdout",
     "output_type": "stream",
     "text": [
      "User  1 Elapsed: 00:00:31\n"
     ]
    },
    {
     "name": "stderr",
     "output_type": "stream",
     "text": [
      "\r",
      " 12%|█▏        | 3/25 [00:46<04:35, 12.53s/it]"
     ]
    },
    {
     "name": "stdout",
     "output_type": "stream",
     "text": [
      "User  2 Elapsed: 00:00:07\n"
     ]
    },
    {
     "name": "stderr",
     "output_type": "stream",
     "text": [
      "\r",
      " 16%|█▌        | 4/25 [00:53<03:49, 10.95s/it]"
     ]
    },
    {
     "name": "stdout",
     "output_type": "stream",
     "text": [
      "User  3 Elapsed: 00:00:07\n"
     ]
    },
    {
     "name": "stderr",
     "output_type": "stream",
     "text": [
      "\r",
      " 20%|██        | 5/25 [00:58<03:00,  9.02s/it]"
     ]
    },
    {
     "name": "stdout",
     "output_type": "stream",
     "text": [
      "User  4 Elapsed: 00:00:04\n"
     ]
    },
    {
     "name": "stderr",
     "output_type": "stream",
     "text": [
      "\r",
      " 24%|██▍       | 6/25 [01:03<02:30,  7.91s/it]"
     ]
    },
    {
     "name": "stdout",
     "output_type": "stream",
     "text": [
      "User  5 Elapsed: 00:00:05\n"
     ]
    },
    {
     "name": "stderr",
     "output_type": "stream",
     "text": [
      "\r",
      " 28%|██▊       | 7/25 [01:08<02:02,  6.80s/it]"
     ]
    },
    {
     "name": "stdout",
     "output_type": "stream",
     "text": [
      "User  6 Elapsed: 00:00:04\n"
     ]
    },
    {
     "name": "stderr",
     "output_type": "stream",
     "text": [
      "\r",
      " 32%|███▏      | 8/25 [01:12<01:44,  6.12s/it]"
     ]
    },
    {
     "name": "stdout",
     "output_type": "stream",
     "text": [
      "User  7 Elapsed: 00:00:04\n"
     ]
    },
    {
     "name": "stderr",
     "output_type": "stream",
     "text": [
      "\r",
      " 36%|███▌      | 9/25 [01:18<01:38,  6.14s/it]"
     ]
    },
    {
     "name": "stdout",
     "output_type": "stream",
     "text": [
      "User  8 Elapsed: 00:00:06\n"
     ]
    },
    {
     "name": "stderr",
     "output_type": "stream",
     "text": [
      "\r",
      " 40%|████      | 10/25 [01:26<01:37,  6.52s/it]"
     ]
    },
    {
     "name": "stdout",
     "output_type": "stream",
     "text": [
      "User  9 Elapsed: 00:00:07\n"
     ]
    },
    {
     "name": "stderr",
     "output_type": "stream",
     "text": [
      "\r",
      " 44%|████▍     | 11/25 [01:36<01:47,  7.71s/it]"
     ]
    },
    {
     "name": "stdout",
     "output_type": "stream",
     "text": [
      "User  10 Elapsed: 00:00:10\n"
     ]
    },
    {
     "name": "stderr",
     "output_type": "stream",
     "text": [
      "\r",
      " 48%|████▊     | 12/25 [01:46<01:48,  8.37s/it]"
     ]
    },
    {
     "name": "stdout",
     "output_type": "stream",
     "text": [
      "User  11 Elapsed: 00:00:09\n"
     ]
    },
    {
     "name": "stderr",
     "output_type": "stream",
     "text": [
      "\r",
      " 52%|█████▏    | 13/25 [01:54<01:40,  8.35s/it]"
     ]
    },
    {
     "name": "stdout",
     "output_type": "stream",
     "text": [
      "User  12 Elapsed: 00:00:08\n"
     ]
    },
    {
     "name": "stderr",
     "output_type": "stream",
     "text": [
      "\r",
      " 56%|█████▌    | 14/25 [02:04<01:35,  8.69s/it]"
     ]
    },
    {
     "name": "stdout",
     "output_type": "stream",
     "text": [
      "User  13 Elapsed: 00:00:09\n"
     ]
    },
    {
     "name": "stderr",
     "output_type": "stream",
     "text": [
      "\r",
      " 60%|██████    | 15/25 [02:12<01:24,  8.50s/it]"
     ]
    },
    {
     "name": "stdout",
     "output_type": "stream",
     "text": [
      "User  14 Elapsed: 00:00:08\n",
      "User  15 Elapsed: 00:00:00\n"
     ]
    },
    {
     "name": "stderr",
     "output_type": "stream",
     "text": [
      "\r",
      " 68%|██████▊   | 17/25 [02:28<01:06,  8.34s/it]"
     ]
    },
    {
     "name": "stdout",
     "output_type": "stream",
     "text": [
      "User  16 Elapsed: 00:00:15\n"
     ]
    },
    {
     "name": "stderr",
     "output_type": "stream",
     "text": [
      "\r",
      " 72%|███████▏  | 18/25 [02:48<01:22, 11.74s/it]"
     ]
    },
    {
     "name": "stdout",
     "output_type": "stream",
     "text": [
      "User  17 Elapsed: 00:00:19\n"
     ]
    },
    {
     "name": "stderr",
     "output_type": "stream",
     "text": [
      "\r",
      " 76%|███████▌  | 19/25 [02:57<01:05, 10.95s/it]"
     ]
    },
    {
     "name": "stdout",
     "output_type": "stream",
     "text": [
      "User  18 Elapsed: 00:00:09\n"
     ]
    },
    {
     "name": "stderr",
     "output_type": "stream",
     "text": [
      "\r",
      " 80%|████████  | 20/25 [03:12<01:01, 12.38s/it]"
     ]
    },
    {
     "name": "stdout",
     "output_type": "stream",
     "text": [
      "User  19 Elapsed: 00:00:15\n"
     ]
    },
    {
     "name": "stderr",
     "output_type": "stream",
     "text": [
      "\r",
      " 84%|████████▍ | 21/25 [03:24<00:48, 12.02s/it]"
     ]
    },
    {
     "name": "stdout",
     "output_type": "stream",
     "text": [
      "User  20 Elapsed: 00:00:11\n"
     ]
    },
    {
     "name": "stderr",
     "output_type": "stream",
     "text": [
      "\r",
      " 88%|████████▊ | 22/25 [03:35<00:35, 11.76s/it]"
     ]
    },
    {
     "name": "stdout",
     "output_type": "stream",
     "text": [
      "User  21 Elapsed: 00:00:11\n"
     ]
    },
    {
     "name": "stderr",
     "output_type": "stream",
     "text": [
      "\r",
      " 92%|█████████▏| 23/25 [03:40<00:19,  9.96s/it]"
     ]
    },
    {
     "name": "stdout",
     "output_type": "stream",
     "text": [
      "User  22 Elapsed: 00:00:05\n",
      "User  23 Elapsed: 00:00:00\n"
     ]
    },
    {
     "name": "stderr",
     "output_type": "stream",
     "text": [
      "100%|██████████| 25/25 [03:45<00:00,  9.03s/it]"
     ]
    },
    {
     "name": "stdout",
     "output_type": "stream",
     "text": [
      "User  24 Elapsed: 00:00:04\n"
     ]
    },
    {
     "name": "stderr",
     "output_type": "stream",
     "text": [
      "\n",
      "  4%|▍         | 1/25 [00:07<02:58,  7.44s/it]"
     ]
    },
    {
     "name": "stdout",
     "output_type": "stream",
     "text": [
      "User  0 Elapsed: 00:00:07\n"
     ]
    },
    {
     "name": "stderr",
     "output_type": "stream",
     "text": [
      "\r",
      "  8%|▊         | 2/25 [00:40<05:50, 15.23s/it]"
     ]
    },
    {
     "name": "stdout",
     "output_type": "stream",
     "text": [
      "User  1 Elapsed: 00:00:33\n"
     ]
    },
    {
     "name": "stderr",
     "output_type": "stream",
     "text": [
      "\r",
      " 12%|█▏        | 3/25 [00:48<04:46, 13.03s/it]"
     ]
    },
    {
     "name": "stdout",
     "output_type": "stream",
     "text": [
      "User  2 Elapsed: 00:00:07\n"
     ]
    },
    {
     "name": "stderr",
     "output_type": "stream",
     "text": [
      "\r",
      " 16%|█▌        | 4/25 [00:56<03:58, 11.34s/it]"
     ]
    },
    {
     "name": "stdout",
     "output_type": "stream",
     "text": [
      "User  3 Elapsed: 00:00:07\n"
     ]
    },
    {
     "name": "stderr",
     "output_type": "stream",
     "text": [
      "\r",
      " 20%|██        | 5/25 [01:00<03:06,  9.32s/it]"
     ]
    },
    {
     "name": "stdout",
     "output_type": "stream",
     "text": [
      "User  4 Elapsed: 00:00:04\n"
     ]
    },
    {
     "name": "stderr",
     "output_type": "stream",
     "text": [
      "\r",
      " 24%|██▍       | 6/25 [01:06<02:36,  8.25s/it]"
     ]
    },
    {
     "name": "stdout",
     "output_type": "stream",
     "text": [
      "User  5 Elapsed: 00:00:05\n"
     ]
    },
    {
     "name": "stderr",
     "output_type": "stream",
     "text": [
      "\r",
      " 28%|██▊       | 7/25 [01:11<02:12,  7.34s/it]"
     ]
    },
    {
     "name": "stdout",
     "output_type": "stream",
     "text": [
      "User  6 Elapsed: 00:00:05\n"
     ]
    },
    {
     "name": "stderr",
     "output_type": "stream",
     "text": [
      "\r",
      " 32%|███▏      | 8/25 [01:16<01:49,  6.47s/it]"
     ]
    },
    {
     "name": "stdout",
     "output_type": "stream",
     "text": [
      "User  7 Elapsed: 00:00:04\n"
     ]
    },
    {
     "name": "stderr",
     "output_type": "stream",
     "text": [
      "\r",
      " 36%|███▌      | 9/25 [01:22<01:42,  6.41s/it]"
     ]
    },
    {
     "name": "stdout",
     "output_type": "stream",
     "text": [
      "User  8 Elapsed: 00:00:06\n"
     ]
    },
    {
     "name": "stderr",
     "output_type": "stream",
     "text": [
      "\r",
      " 40%|████      | 10/25 [01:29<01:40,  6.68s/it]"
     ]
    },
    {
     "name": "stdout",
     "output_type": "stream",
     "text": [
      "User  9 Elapsed: 00:00:07\n"
     ]
    },
    {
     "name": "stderr",
     "output_type": "stream",
     "text": [
      "\r",
      " 44%|████▍     | 11/25 [01:39<01:45,  7.51s/it]"
     ]
    },
    {
     "name": "stdout",
     "output_type": "stream",
     "text": [
      "User  10 Elapsed: 00:00:09\n"
     ]
    },
    {
     "name": "stderr",
     "output_type": "stream",
     "text": [
      "\r",
      " 48%|████▊     | 12/25 [01:48<01:46,  8.16s/it]"
     ]
    },
    {
     "name": "stdout",
     "output_type": "stream",
     "text": [
      "User  11 Elapsed: 00:00:09\n"
     ]
    },
    {
     "name": "stderr",
     "output_type": "stream",
     "text": [
      "\r",
      " 52%|█████▏    | 13/25 [01:56<01:36,  8.04s/it]"
     ]
    },
    {
     "name": "stdout",
     "output_type": "stream",
     "text": [
      "User  12 Elapsed: 00:00:07\n"
     ]
    },
    {
     "name": "stderr",
     "output_type": "stream",
     "text": [
      "\r",
      " 56%|█████▌    | 14/25 [02:08<01:40,  9.14s/it]"
     ]
    },
    {
     "name": "stdout",
     "output_type": "stream",
     "text": [
      "User  13 Elapsed: 00:00:11\n"
     ]
    },
    {
     "name": "stderr",
     "output_type": "stream",
     "text": [
      "\r",
      " 60%|██████    | 15/25 [02:16<01:29,  8.99s/it]"
     ]
    },
    {
     "name": "stdout",
     "output_type": "stream",
     "text": [
      "User  14 Elapsed: 00:00:08\n",
      "User  15 Elapsed: 00:00:00\n"
     ]
    },
    {
     "name": "stderr",
     "output_type": "stream",
     "text": [
      "\r",
      " 68%|██████▊   | 17/25 [02:32<01:09,  8.68s/it]"
     ]
    },
    {
     "name": "stdout",
     "output_type": "stream",
     "text": [
      "User  16 Elapsed: 00:00:15\n"
     ]
    },
    {
     "name": "stderr",
     "output_type": "stream",
     "text": [
      "\r",
      " 72%|███████▏  | 18/25 [02:53<01:26, 12.35s/it]"
     ]
    },
    {
     "name": "stdout",
     "output_type": "stream",
     "text": [
      "User  17 Elapsed: 00:00:20\n"
     ]
    },
    {
     "name": "stderr",
     "output_type": "stream",
     "text": [
      "\r",
      " 76%|███████▌  | 19/25 [03:02<01:06, 11.14s/it]"
     ]
    },
    {
     "name": "stdout",
     "output_type": "stream",
     "text": [
      "User  18 Elapsed: 00:00:08\n"
     ]
    },
    {
     "name": "stderr",
     "output_type": "stream",
     "text": [
      "\r",
      " 80%|████████  | 20/25 [03:18<01:03, 12.62s/it]"
     ]
    },
    {
     "name": "stdout",
     "output_type": "stream",
     "text": [
      "User  19 Elapsed: 00:00:16\n"
     ]
    },
    {
     "name": "stderr",
     "output_type": "stream",
     "text": [
      "\r",
      " 84%|████████▍ | 21/25 [03:28<00:48, 12.07s/it]"
     ]
    },
    {
     "name": "stdout",
     "output_type": "stream",
     "text": [
      "User  20 Elapsed: 00:00:10\n"
     ]
    },
    {
     "name": "stderr",
     "output_type": "stream",
     "text": [
      "\r",
      " 88%|████████▊ | 22/25 [03:39<00:34, 11.56s/it]"
     ]
    },
    {
     "name": "stdout",
     "output_type": "stream",
     "text": [
      "User  21 Elapsed: 00:00:10\n"
     ]
    },
    {
     "name": "stderr",
     "output_type": "stream",
     "text": [
      "\r",
      " 92%|█████████▏| 23/25 [03:44<00:19,  9.61s/it]"
     ]
    },
    {
     "name": "stdout",
     "output_type": "stream",
     "text": [
      "User  22 Elapsed: 00:00:05\n",
      "User  23 Elapsed: 00:00:00\n"
     ]
    },
    {
     "name": "stderr",
     "output_type": "stream",
     "text": [
      "100%|██████████| 25/25 [03:48<00:00,  9.15s/it]"
     ]
    },
    {
     "name": "stdout",
     "output_type": "stream",
     "text": [
      "User  24 Elapsed: 00:00:04\n"
     ]
    },
    {
     "name": "stderr",
     "output_type": "stream",
     "text": [
      "\n",
      "  4%|▍         | 1/25 [00:07<02:50,  7.09s/it]"
     ]
    },
    {
     "name": "stdout",
     "output_type": "stream",
     "text": [
      "User  0 Elapsed: 00:00:07\n"
     ]
    },
    {
     "name": "stderr",
     "output_type": "stream",
     "text": [
      "\r",
      "  8%|▊         | 2/25 [00:39<05:37, 14.68s/it]"
     ]
    },
    {
     "name": "stdout",
     "output_type": "stream",
     "text": [
      "User  1 Elapsed: 00:00:32\n"
     ]
    },
    {
     "name": "stderr",
     "output_type": "stream",
     "text": [
      "\r",
      " 12%|█▏        | 3/25 [00:47<04:37, 12.60s/it]"
     ]
    },
    {
     "name": "stdout",
     "output_type": "stream",
     "text": [
      "User  2 Elapsed: 00:00:07\n"
     ]
    },
    {
     "name": "stderr",
     "output_type": "stream",
     "text": [
      "\r",
      " 16%|█▌        | 4/25 [00:54<03:53, 11.14s/it]"
     ]
    },
    {
     "name": "stdout",
     "output_type": "stream",
     "text": [
      "User  3 Elapsed: 00:00:07\n"
     ]
    },
    {
     "name": "stderr",
     "output_type": "stream",
     "text": [
      "\r",
      " 20%|██        | 5/25 [00:58<03:00,  9.00s/it]"
     ]
    },
    {
     "name": "stdout",
     "output_type": "stream",
     "text": [
      "User  4 Elapsed: 00:00:04\n"
     ]
    },
    {
     "name": "stderr",
     "output_type": "stream",
     "text": [
      "\r",
      " 24%|██▍       | 6/25 [01:04<02:32,  8.01s/it]"
     ]
    },
    {
     "name": "stdout",
     "output_type": "stream",
     "text": [
      "User  5 Elapsed: 00:00:05\n"
     ]
    },
    {
     "name": "stderr",
     "output_type": "stream",
     "text": [
      "\r",
      " 28%|██▊       | 7/25 [01:09<02:04,  6.93s/it]"
     ]
    },
    {
     "name": "stdout",
     "output_type": "stream",
     "text": [
      "User  6 Elapsed: 00:00:04\n"
     ]
    },
    {
     "name": "stderr",
     "output_type": "stream",
     "text": [
      "\r",
      " 32%|███▏      | 8/25 [01:13<01:45,  6.19s/it]"
     ]
    },
    {
     "name": "stdout",
     "output_type": "stream",
     "text": [
      "User  7 Elapsed: 00:00:04\n"
     ]
    },
    {
     "name": "stderr",
     "output_type": "stream",
     "text": [
      "\r",
      " 36%|███▌      | 9/25 [01:19<01:39,  6.20s/it]"
     ]
    },
    {
     "name": "stdout",
     "output_type": "stream",
     "text": [
      "User  8 Elapsed: 00:00:06\n"
     ]
    },
    {
     "name": "stderr",
     "output_type": "stream",
     "text": [
      "\r",
      " 40%|████      | 10/25 [01:27<01:39,  6.65s/it]"
     ]
    },
    {
     "name": "stdout",
     "output_type": "stream",
     "text": [
      "User  9 Elapsed: 00:00:07\n"
     ]
    },
    {
     "name": "stderr",
     "output_type": "stream",
     "text": [
      "\r",
      " 44%|████▍     | 11/25 [01:36<01:43,  7.42s/it]"
     ]
    },
    {
     "name": "stdout",
     "output_type": "stream",
     "text": [
      "User  10 Elapsed: 00:00:09\n"
     ]
    },
    {
     "name": "stderr",
     "output_type": "stream",
     "text": [
      "\r",
      " 48%|████▊     | 12/25 [01:46<01:44,  8.03s/it]"
     ]
    },
    {
     "name": "stdout",
     "output_type": "stream",
     "text": [
      "User  11 Elapsed: 00:00:09\n"
     ]
    },
    {
     "name": "stderr",
     "output_type": "stream",
     "text": [
      "\r",
      " 52%|█████▏    | 13/25 [01:53<01:32,  7.69s/it]"
     ]
    },
    {
     "name": "stdout",
     "output_type": "stream",
     "text": [
      "User  12 Elapsed: 00:00:06\n"
     ]
    },
    {
     "name": "stderr",
     "output_type": "stream",
     "text": [
      "\r",
      " 56%|█████▌    | 14/25 [02:03<01:32,  8.45s/it]"
     ]
    },
    {
     "name": "stdout",
     "output_type": "stream",
     "text": [
      "User  13 Elapsed: 00:00:10\n"
     ]
    },
    {
     "name": "stderr",
     "output_type": "stream",
     "text": [
      "\r",
      " 60%|██████    | 15/25 [02:11<01:23,  8.36s/it]"
     ]
    },
    {
     "name": "stdout",
     "output_type": "stream",
     "text": [
      "User  14 Elapsed: 00:00:08\n",
      "User  15 Elapsed: 00:00:00\n"
     ]
    },
    {
     "name": "stderr",
     "output_type": "stream",
     "text": [
      "\r",
      " 68%|██████▊   | 17/25 [02:27<01:05,  8.23s/it]"
     ]
    },
    {
     "name": "stdout",
     "output_type": "stream",
     "text": [
      "User  16 Elapsed: 00:00:15\n"
     ]
    },
    {
     "name": "stderr",
     "output_type": "stream",
     "text": [
      "\r",
      " 72%|███████▏  | 18/25 [02:46<01:20, 11.47s/it]"
     ]
    },
    {
     "name": "stdout",
     "output_type": "stream",
     "text": [
      "User  17 Elapsed: 00:00:19\n"
     ]
    },
    {
     "name": "stderr",
     "output_type": "stream",
     "text": [
      "\r",
      " 76%|███████▌  | 19/25 [02:54<01:03, 10.53s/it]"
     ]
    },
    {
     "name": "stdout",
     "output_type": "stream",
     "text": [
      "User  18 Elapsed: 00:00:08\n"
     ]
    },
    {
     "name": "stderr",
     "output_type": "stream",
     "text": [
      "\r",
      " 80%|████████  | 20/25 [03:10<01:00, 12.20s/it]"
     ]
    },
    {
     "name": "stdout",
     "output_type": "stream",
     "text": [
      "User  19 Elapsed: 00:00:16\n"
     ]
    },
    {
     "name": "stderr",
     "output_type": "stream",
     "text": [
      "\r",
      " 84%|████████▍ | 21/25 [03:21<00:47, 11.78s/it]"
     ]
    },
    {
     "name": "stdout",
     "output_type": "stream",
     "text": [
      "User  20 Elapsed: 00:00:10\n"
     ]
    },
    {
     "name": "stderr",
     "output_type": "stream",
     "text": [
      "\r",
      " 88%|████████▊ | 22/25 [03:31<00:33, 11.28s/it]"
     ]
    },
    {
     "name": "stdout",
     "output_type": "stream",
     "text": [
      "User  21 Elapsed: 00:00:10\n"
     ]
    },
    {
     "name": "stderr",
     "output_type": "stream",
     "text": [
      "\r",
      " 92%|█████████▏| 23/25 [03:37<00:19,  9.53s/it]"
     ]
    },
    {
     "name": "stdout",
     "output_type": "stream",
     "text": [
      "User  22 Elapsed: 00:00:05\n",
      "User  23 Elapsed: 00:00:00\n"
     ]
    },
    {
     "name": "stderr",
     "output_type": "stream",
     "text": [
      "100%|██████████| 25/25 [03:41<00:00,  8.85s/it]"
     ]
    },
    {
     "name": "stdout",
     "output_type": "stream",
     "text": [
      "User  24 Elapsed: 00:00:04\n"
     ]
    },
    {
     "name": "stderr",
     "output_type": "stream",
     "text": [
      "\n",
      "  4%|▍         | 1/25 [00:07<02:50,  7.10s/it]"
     ]
    },
    {
     "name": "stdout",
     "output_type": "stream",
     "text": [
      "User  0 Elapsed: 00:00:07\n"
     ]
    },
    {
     "name": "stderr",
     "output_type": "stream",
     "text": [
      "\r",
      "  8%|▊         | 2/25 [00:38<05:32, 14.48s/it]"
     ]
    },
    {
     "name": "stdout",
     "output_type": "stream",
     "text": [
      "User  1 Elapsed: 00:00:31\n"
     ]
    },
    {
     "name": "stderr",
     "output_type": "stream",
     "text": [
      "\r",
      " 12%|█▏        | 3/25 [00:46<04:31, 12.35s/it]"
     ]
    },
    {
     "name": "stdout",
     "output_type": "stream",
     "text": [
      "User  2 Elapsed: 00:00:07\n"
     ]
    },
    {
     "name": "stderr",
     "output_type": "stream",
     "text": [
      "\r",
      " 16%|█▌        | 4/25 [00:53<03:49, 10.93s/it]"
     ]
    },
    {
     "name": "stdout",
     "output_type": "stream",
     "text": [
      "User  3 Elapsed: 00:00:07\n"
     ]
    },
    {
     "name": "stderr",
     "output_type": "stream",
     "text": [
      "\r",
      " 20%|██        | 5/25 [00:58<02:58,  8.93s/it]"
     ]
    },
    {
     "name": "stdout",
     "output_type": "stream",
     "text": [
      "User  4 Elapsed: 00:00:04\n"
     ]
    },
    {
     "name": "stderr",
     "output_type": "stream",
     "text": [
      "\r",
      " 24%|██▍       | 6/25 [01:03<02:32,  8.02s/it]"
     ]
    },
    {
     "name": "stdout",
     "output_type": "stream",
     "text": [
      "User  5 Elapsed: 00:00:05\n"
     ]
    },
    {
     "name": "stderr",
     "output_type": "stream",
     "text": [
      "\r",
      " 28%|██▊       | 7/25 [01:08<02:08,  7.13s/it]"
     ]
    },
    {
     "name": "stdout",
     "output_type": "stream",
     "text": [
      "User  6 Elapsed: 00:00:05\n"
     ]
    },
    {
     "name": "stderr",
     "output_type": "stream",
     "text": [
      "\r",
      " 32%|███▏      | 8/25 [01:13<01:46,  6.29s/it]"
     ]
    },
    {
     "name": "stdout",
     "output_type": "stream",
     "text": [
      "User  7 Elapsed: 00:00:04\n"
     ]
    },
    {
     "name": "stderr",
     "output_type": "stream",
     "text": [
      "\r",
      " 36%|███▌      | 9/25 [01:19<01:40,  6.30s/it]"
     ]
    },
    {
     "name": "stdout",
     "output_type": "stream",
     "text": [
      "User  8 Elapsed: 00:00:06\n"
     ]
    },
    {
     "name": "stderr",
     "output_type": "stream",
     "text": [
      "\r",
      " 40%|████      | 10/25 [01:27<01:39,  6.64s/it]"
     ]
    },
    {
     "name": "stdout",
     "output_type": "stream",
     "text": [
      "User  9 Elapsed: 00:00:07\n"
     ]
    },
    {
     "name": "stderr",
     "output_type": "stream",
     "text": [
      "\r",
      " 44%|████▍     | 11/25 [01:36<01:45,  7.52s/it]"
     ]
    },
    {
     "name": "stdout",
     "output_type": "stream",
     "text": [
      "User  10 Elapsed: 00:00:09\n"
     ]
    },
    {
     "name": "stderr",
     "output_type": "stream",
     "text": [
      "\r",
      " 48%|████▊     | 12/25 [01:45<01:44,  8.01s/it]"
     ]
    },
    {
     "name": "stdout",
     "output_type": "stream",
     "text": [
      "User  11 Elapsed: 00:00:09\n"
     ]
    },
    {
     "name": "stderr",
     "output_type": "stream",
     "text": [
      "\r",
      " 52%|█████▏    | 13/25 [01:53<01:33,  7.81s/it]"
     ]
    },
    {
     "name": "stdout",
     "output_type": "stream",
     "text": [
      "User  12 Elapsed: 00:00:07\n"
     ]
    },
    {
     "name": "stderr",
     "output_type": "stream",
     "text": [
      "\r",
      " 56%|█████▌    | 14/25 [02:04<01:37,  8.86s/it]"
     ]
    },
    {
     "name": "stdout",
     "output_type": "stream",
     "text": [
      "User  13 Elapsed: 00:00:11\n"
     ]
    },
    {
     "name": "stderr",
     "output_type": "stream",
     "text": [
      "\r",
      " 60%|██████    | 15/25 [02:13<01:28,  8.81s/it]"
     ]
    },
    {
     "name": "stdout",
     "output_type": "stream",
     "text": [
      "User  14 Elapsed: 00:00:08\n",
      "User  15 Elapsed: 00:00:00\n"
     ]
    },
    {
     "name": "stderr",
     "output_type": "stream",
     "text": [
      "\r",
      " 68%|██████▊   | 17/25 [02:28<01:08,  8.50s/it]"
     ]
    },
    {
     "name": "stdout",
     "output_type": "stream",
     "text": [
      "User  16 Elapsed: 00:00:15\n"
     ]
    },
    {
     "name": "stderr",
     "output_type": "stream",
     "text": [
      "\r",
      " 72%|███████▏  | 18/25 [02:47<01:22, 11.72s/it]"
     ]
    },
    {
     "name": "stdout",
     "output_type": "stream",
     "text": [
      "User  17 Elapsed: 00:00:19\n"
     ]
    },
    {
     "name": "stderr",
     "output_type": "stream",
     "text": [
      "\r",
      " 76%|███████▌  | 19/25 [02:56<01:05, 10.90s/it]"
     ]
    },
    {
     "name": "stdout",
     "output_type": "stream",
     "text": [
      "User  18 Elapsed: 00:00:08\n"
     ]
    },
    {
     "name": "stderr",
     "output_type": "stream",
     "text": [
      "\r",
      " 80%|████████  | 20/25 [03:13<01:02, 12.54s/it]"
     ]
    },
    {
     "name": "stdout",
     "output_type": "stream",
     "text": [
      "User  19 Elapsed: 00:00:16\n"
     ]
    },
    {
     "name": "stderr",
     "output_type": "stream",
     "text": [
      "\r",
      " 84%|████████▍ | 21/25 [03:24<00:48, 12.08s/it]"
     ]
    },
    {
     "name": "stdout",
     "output_type": "stream",
     "text": [
      "User  20 Elapsed: 00:00:10\n"
     ]
    },
    {
     "name": "stderr",
     "output_type": "stream",
     "text": [
      "\r",
      " 88%|████████▊ | 22/25 [03:33<00:33, 11.26s/it]"
     ]
    },
    {
     "name": "stdout",
     "output_type": "stream",
     "text": [
      "User  21 Elapsed: 00:00:09\n"
     ]
    },
    {
     "name": "stderr",
     "output_type": "stream",
     "text": [
      "\r",
      " 92%|█████████▏| 23/25 [03:37<00:18,  9.09s/it]"
     ]
    },
    {
     "name": "stdout",
     "output_type": "stream",
     "text": [
      "User  22 Elapsed: 00:00:04\n",
      "User  23 Elapsed: 00:00:00\n"
     ]
    },
    {
     "name": "stderr",
     "output_type": "stream",
     "text": [
      "100%|██████████| 25/25 [03:41<00:00,  8.88s/it]"
     ]
    },
    {
     "name": "stdout",
     "output_type": "stream",
     "text": [
      "User  24 Elapsed: 00:00:04\n"
     ]
    },
    {
     "name": "stderr",
     "output_type": "stream",
     "text": [
      "\n"
     ]
    }
   ],
   "source": [
    "lambs = [0.01,0.1,1,10,30,50,70,90,100,1000]\n",
    "for lamb in lambs:\n",
    "    row = {}\n",
    "    matrix_Train = rtrain\n",
    "    matrix_Test = rtest\n",
    "    test_users = np.arange(25)\n",
    "#         test_users = [1]\n",
    "    target_ranks = [20, 50]\n",
    "    num_items_sampled = 5\n",
    "    num_keyphrases = 235\n",
    "    df = pd.DataFrame(row)\n",
    "    max_iteration_threshold = 20\n",
    "    keyphrase_popularity = keyphrase_popularity\n",
    "    dataset_name = \"yelp\"\n",
    "    model = \"plrec\"\n",
    "    parameters_row = {'iter': 10,\n",
    "                      'lambda':200,\n",
    "                      'rank':200}\n",
    "    keyphrases_names = keyphrases\n",
    "    keyphrase_selection_method = 'random'\n",
    "    max_wanted_keyphrase = 20\n",
    "    critiquing_model = LP1Simplified(keyphrase_freq=U_K,\n",
    "                                    item_keyphrase_freq=I_K,\n",
    "                                    row=row,\n",
    "                                    matrix_Train=matrix_Train,\n",
    "                                    matrix_Test=matrix_Test,\n",
    "                                    test_users=test_users,\n",
    "                                    target_ranks=target_ranks,\n",
    "                                    num_items_sampled=num_items_sampled,\n",
    "                                    num_keyphrases=num_keyphrases,\n",
    "                                    df=df,\n",
    "                                    max_iteration_threshold=max_iteration_threshold,\n",
    "                                    keyphrase_popularity=keyphrase_popularity,\n",
    "                                    dataset_name=dataset_name,\n",
    "                                    model=model,\n",
    "                                    parameters_row=parameters_row,\n",
    "                                    keyphrases_names = keyphrases_names,\n",
    "                                    keyphrase_selection_method = keyphrase_selection_method,\n",
    "                                    max_wanted_keyphrase = max_wanted_keyphrase,\n",
    "                                    lamb = lamb)\n",
    "    df = critiquing_model.start_critiquing()\n",
    "\n",
    "    table_path = '../tables/critiquing/tuning_ranksvm3/'\n",
    "    name = 'lamb_'+ str(lamb) + '_test.csv'\n",
    "    save_dataframe_csv(df, table_path, name)"
   ]
  },
  {
   "cell_type": "code",
   "execution_count": 206,
   "metadata": {},
   "outputs": [],
   "source": [
    "table_path = '../tables/critiquing/multi_step_critiquing/yelp/ranksvm/'\n",
    "name = 'ranksvm2test.csv'\n",
    "# save_dataframe_csv(df, table_path, name)\n",
    "df = load_dataframe_csv(table_path,name)"
   ]
  },
  {
   "cell_type": "code",
   "execution_count": 243,
   "metadata": {},
   "outputs": [],
   "source": [
    "def avg_successful_rate(df):\n",
    "    num_runs = len(np.where(df['iteration'] == 0)[0])\n",
    "    num_success = len(np.where(df['result'] == 'successful')[0])\n",
    "    \n",
    "    return num_success/num_runs\n",
    "def avg_length(df,include_fail = True):\n",
    "    num_runs = len(np.where(df['iteration'] == 0)[0])\n",
    "    return (len(df)-num_runs)/num_runs"
   ]
  },
  {
   "cell_type": "code",
   "execution_count": 267,
   "metadata": {},
   "outputs": [],
   "source": [
    "# df_5 =  df[df['target_rank'] == 5]\n",
    "# df_10 = df[df['target_rank'] == 10]\n",
    "df_20 = df[df['target_rank'] == 20]\n",
    "df_50 = df[df['target_rank'] == 50]"
   ]
  },
  {
   "cell_type": "code",
   "execution_count": 245,
   "metadata": {},
   "outputs": [
    {
     "name": "stdout",
     "output_type": "stream",
     "text": [
      "18.271084337349397\n",
      "0.10090361445783133\n",
      "16.94277108433735\n",
      "0.1822289156626506\n"
     ]
    }
   ],
   "source": [
    "# Ranksvm 1 50 users 20 topaffected lamb = 5\n",
    "print (avg_length(df_20))\n",
    "print (avg_successful_rate(df_20))\n",
    "print (avg_length(df_50))\n",
    "print (avg_successful_rate(df_50))"
   ]
  },
  {
   "cell_type": "code",
   "execution_count": 239,
   "metadata": {},
   "outputs": [
    {
     "name": "stdout",
     "output_type": "stream",
     "text": [
      "18.370481927710845\n",
      "0.09789156626506024\n",
      "17.049698795180724\n",
      "0.17620481927710843\n"
     ]
    }
   ],
   "source": [
    "# Ranksvm2 50 users 20topaffected lamb = 5\n",
    "print (avg_length(df_20))\n",
    "print (avg_successful_rate(df_20))\n",
    "print (avg_length(df_50))\n",
    "print (avg_successful_rate(df_50))"
   ]
  },
  {
   "cell_type": "code",
   "execution_count": 268,
   "metadata": {},
   "outputs": [
    {
     "name": "stdout",
     "output_type": "stream",
     "text": [
      "18.13102409638554\n",
      "0.11897590361445783\n",
      "16.673192771084338\n",
      "0.21234939759036145\n"
     ]
    }
   ],
   "source": [
    "# Ranksvm2 50 users 20topaffected lamb = 100, range = -100to100\n",
    "print (avg_length(df_20))\n",
    "print (avg_successful_rate(df_20))\n",
    "print (avg_length(df_50))\n",
    "print (avg_successful_rate(df_50))"
   ]
  },
  {
   "cell_type": "code",
   "execution_count": 252,
   "metadata": {},
   "outputs": [
    {
     "name": "stdout",
     "output_type": "stream",
     "text": [
      "16.003012048192772\n",
      "0.2756024096385542\n",
      "14.045180722891565\n",
      "0.39457831325301207\n"
     ]
    }
   ],
   "source": [
    "# Avg\n",
    "print (avg_length(df_20))\n",
    "print (avg_successful_rate(df_20))\n",
    "print (avg_length(df_50))\n",
    "print (avg_successful_rate(df_50))"
   ]
  },
  {
   "cell_type": "code",
   "execution_count": 219,
   "metadata": {},
   "outputs": [
    {
     "name": "stdout",
     "output_type": "stream",
     "text": [
      "20.0\n",
      "0.0\n",
      "19.08888888888889\n",
      "0.06666666666666667\n"
     ]
    }
   ],
   "source": [
    "# Ranksvm 2 bot 20 affected\n",
    "print (avg_length(df_20))\n",
    "print (avg_successful_rate(df_20))\n",
    "print (avg_length(df_50))\n",
    "print (avg_successful_rate(df_50))"
   ]
  },
  {
   "cell_type": "code",
   "execution_count": 290,
   "metadata": {},
   "outputs": [
    {
     "name": "stdout",
     "output_type": "stream",
     "text": [
      "19.377777777777776\n",
      "0.08888888888888889\n",
      "18.88888888888889\n",
      "0.15555555555555556\n"
     ]
    }
   ],
   "source": [
    "# Rating obj\n",
    "print (avg_length(df_20))\n",
    "print (avg_successful_rate(df_20))\n",
    "print (avg_length(df_50))\n",
    "print (avg_successful_rate(df_50))"
   ]
  },
  {
   "cell_type": "code",
   "execution_count": 258,
   "metadata": {},
   "outputs": [
    {
     "name": "stdout",
     "output_type": "stream",
     "text": [
      "18.466666666666665\n",
      "0.15555555555555556\n",
      "17.177777777777777\n",
      "0.26666666666666666\n"
     ]
    }
   ],
   "source": [
    "# top20items\n",
    "print (avg_length(df_20))\n",
    "print (avg_successful_rate(df_20))\n",
    "print (avg_length(df_50))\n",
    "print (avg_successful_rate(df_50))"
   ]
  }
 ],
 "metadata": {
  "kernelspec": {
   "display_name": "Python 3",
   "language": "python",
   "name": "python3"
  },
  "language_info": {
   "codemirror_mode": {
    "name": "ipython",
    "version": 3
   },
   "file_extension": ".py",
   "mimetype": "text/x-python",
   "name": "python",
   "nbconvert_exporter": "python",
   "pygments_lexer": "ipython3",
   "version": "3.6.10"
  }
 },
 "nbformat": 4,
 "nbformat_minor": 2
}
