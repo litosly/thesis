{
 "cells": [
  {
   "cell_type": "code",
   "execution_count": 1,
   "metadata": {
    "collapsed": true
   },
   "outputs": [],
   "source": [
    "from ast import literal_eval\n",
    "from os import listdir\n",
    "from os.path import isfile, join\n",
    "from scipy.sparse import csr_matrix, load_npz, save_npz\n",
    "from tqdm import tqdm\n",
    "from sklearn.preprocessing import normalize\n",
    "\n",
    "import seaborn as sns\n",
    "import datetime\n",
    "import json\n",
    "import numpy as np\n",
    "import pandas as pd\n",
    "import time\n",
    "import yaml\n",
    "import scipy.sparse as sparse\n",
    "from ast import literal_eval\n",
    "\n",
    "# For Python2 this have to be done\n",
    "from __future__ import division"
   ]
  },
  {
   "cell_type": "code",
   "execution_count": 2,
   "metadata": {
    "collapsed": true
   },
   "outputs": [],
   "source": [
    "# Load Original Data\n",
    "df_train = pd.read_csv('../../data/beer/Train.csv')\n",
    "df_valid = pd.read_csv('../../data/beer/Valid.csv')\n",
    "df_test = pd.read_csv('../../data/beer/Test.csv')\n",
    "key_phrase = pd.read_csv('../../data/beer/KeyPhrases.csv')"
   ]
  },
  {
   "cell_type": "code",
   "execution_count": 2,
   "metadata": {
    "collapsed": true
   },
   "outputs": [],
   "source": [
    "# Load U-I Data \n",
    "rtrain = load_npz(\"../../data/beer/Rtrain.npz\")\n",
    "# rvalid = load_npz(\"../../data/beer/Rvalid.npz\")\n",
    "# rtest = load_npz(\"../../data/beer/Rtest.npz\")"
   ]
  },
  {
   "cell_type": "code",
   "execution_count": 7,
   "metadata": {},
   "outputs": [
    {
     "data": {
      "text/plain": [
       "<6370x3668 sparse matrix of type '<type 'numpy.float32'>'\n",
       "\twith 167511 stored elements in Compressed Sparse Row format>"
      ]
     },
     "execution_count": 7,
     "metadata": {},
     "output_type": "execute_result"
    }
   ],
   "source": [
    "rtrain"
   ]
  },
  {
   "cell_type": "code",
   "execution_count": 19,
   "metadata": {},
   "outputs": [
    {
     "name": "stderr",
     "output_type": "stream",
     "text": [
      "100%|███████████████████████████████████████████████████████████████████████| 160450/160450 [00:08<00:00, 19675.05it/s]\n",
      "100%|███████████████████████████████████████████████████████████████████████| 160450/160450 [00:08<00:00, 18691.75it/s]\n",
      "100%|███████████████████████████████████████████████████████████████████████| 200546/200546 [00:10<00:00, 18589.73it/s]\n",
      "100%|███████████████████████████████████████████████████████████████████████| 200546/200546 [00:10<00:00, 19498.88it/s]\n"
     ]
    }
   ],
   "source": [
    "# Generate U_K and I_K\n",
    "# For validation set\n",
    "U_K_valid = get_I_K(df_valid, row_name = 'UserIndex', shape = (6370, 75))\n",
    "I_K_valid = get_I_K(df_valid, row_name = 'ItemIndex', shape = (3668, 75))\n",
    "# For test set\n",
    "U_K_test = get_I_K(df_test, row_name = 'UserIndex', shape = (6370, 75))\n",
    "I_K_test = get_I_K(df_test, row_name = 'ItemIndex', shape = (3668, 75))"
   ]
  },
  {
   "cell_type": "code",
   "execution_count": 23,
   "metadata": {
    "collapsed": true
   },
   "outputs": [],
   "source": [
    "# Save\n",
    "save_npz('../../data/beer/U_K_valid.npz',U_K_valid)\n",
    "save_npz('../../data/beer/I_K_valid.npz',I_K_valid)\n",
    "save_npz( '../../data/beer/U_K_test.npz',U_K_test)\n",
    "save_npz('../../data/beer/I_K_test.npz',I_K_test)"
   ]
  },
  {
   "cell_type": "code",
   "execution_count": 3,
   "metadata": {
    "collapsed": true
   },
   "outputs": [],
   "source": [
    "# Load \n",
    "U_K = load_npz('../../data/beer/U_K.npz')\n",
    "I_K = load_npz('../../data/beer/I_K.npz')\n",
    "U_K_test = load_npz('../../data/beer/U_K_test.npz')\n",
    "I_K_test = load_npz('../../data/beer/I_K_test.npz')"
   ]
  },
  {
   "cell_type": "code",
   "execution_count": 17,
   "metadata": {
    "scrolled": true
   },
   "outputs": [
    {
     "data": {
      "text/html": [
       "<div>\n",
       "<style scoped>\n",
       "    .dataframe tbody tr th:only-of-type {\n",
       "        vertical-align: middle;\n",
       "    }\n",
       "\n",
       "    .dataframe tbody tr th {\n",
       "        vertical-align: top;\n",
       "    }\n",
       "\n",
       "    .dataframe thead th {\n",
       "        text-align: right;\n",
       "    }\n",
       "</style>\n",
       "<table border=\"1\" class=\"dataframe\">\n",
       "  <thead>\n",
       "    <tr style=\"text-align: right;\">\n",
       "      <th></th>\n",
       "      <th>beer/ABV</th>\n",
       "      <th>beer/name</th>\n",
       "      <th>beer/style</th>\n",
       "      <th>review/overall</th>\n",
       "      <th>review/text</th>\n",
       "      <th>review/timeUnix</th>\n",
       "      <th>user/profileName</th>\n",
       "      <th>Binary</th>\n",
       "      <th>UserIndex</th>\n",
       "      <th>ItemIndex</th>\n",
       "      <th>review</th>\n",
       "      <th>conca_review</th>\n",
       "      <th>keyVector</th>\n",
       "      <th>keyphrases_indices_length</th>\n",
       "    </tr>\n",
       "  </thead>\n",
       "  <tbody>\n",
       "    <tr>\n",
       "      <th>0</th>\n",
       "      <td>6.0</td>\n",
       "      <td>Rodenbach Grand Cru</td>\n",
       "      <td>Flanders Red Ale</td>\n",
       "      <td>5.0</td>\n",
       "      <td>750ml corked, caged, &amp; foiled bottle. Pretty. ...</td>\n",
       "      <td>1210818510</td>\n",
       "      <td>0110x011</td>\n",
       "      <td>1</td>\n",
       "      <td>0</td>\n",
       "      <td>2615</td>\n",
       "      <td>['corked', 'caged', 'foiled', 'bottle', 'prett...</td>\n",
       "      <td>corked caged foiled bottle pretty pours clear...</td>\n",
       "      <td>[1, 2, 14, 30, 36, 38, 41, 47, 58, 61, 62, 67]</td>\n",
       "      <td>12</td>\n",
       "    </tr>\n",
       "    <tr>\n",
       "      <th>1</th>\n",
       "      <td>10.0</td>\n",
       "      <td>Adam</td>\n",
       "      <td>Old Ale</td>\n",
       "      <td>4.0</td>\n",
       "      <td>A - A dark brown bordering on black, and compl...</td>\n",
       "      <td>1237435182</td>\n",
       "      <td>0110x011</td>\n",
       "      <td>0</td>\n",
       "      <td>0</td>\n",
       "      <td>85</td>\n",
       "      <td>['dark', 'brown', 'bordering', 'black', 'compl...</td>\n",
       "      <td>dark brown bordering black completely opaque ...</td>\n",
       "      <td>[6, 14, 20, 21, 22, 31, 43, 44, 50, 54, 55, 63]</td>\n",
       "      <td>12</td>\n",
       "    </tr>\n",
       "    <tr>\n",
       "      <th>2</th>\n",
       "      <td>7.3</td>\n",
       "      <td>Green Flash West Coast I.P.A.</td>\n",
       "      <td>American IPA</td>\n",
       "      <td>4.0</td>\n",
       "      <td>A - pours a hazy, copper/gold. Thick, chunky h...</td>\n",
       "      <td>1241393157</td>\n",
       "      <td>0110x011</td>\n",
       "      <td>0</td>\n",
       "      <td>0</td>\n",
       "      <td>1347</td>\n",
       "      <td>['pours', 'hazy', 'copper', 'gold', 'thick', '...</td>\n",
       "      <td>pours hazy copper gold thick chunky head fade...</td>\n",
       "      <td>[5, 12, 14, 31, 34, 40, 45, 47]</td>\n",
       "      <td>8</td>\n",
       "    </tr>\n",
       "    <tr>\n",
       "      <th>3</th>\n",
       "      <td>8.7</td>\n",
       "      <td>Stone Sublimely Self-Righteous Ale</td>\n",
       "      <td>American Black Ale</td>\n",
       "      <td>5.0</td>\n",
       "      <td>Easily my favorite Stone beer, if not my all-t...</td>\n",
       "      <td>1208211124</td>\n",
       "      <td>0110x011</td>\n",
       "      <td>1</td>\n",
       "      <td>0</td>\n",
       "      <td>3147</td>\n",
       "      <td>['easily', 'favorite', 'stone', 'beer', 'time'...</td>\n",
       "      <td>easily favorite stone beer time favorite beer...</td>\n",
       "      <td>[0, 2, 6, 8, 13, 14, 16, 43, 50, 56, 60]</td>\n",
       "      <td>11</td>\n",
       "    </tr>\n",
       "    <tr>\n",
       "      <th>4</th>\n",
       "      <td>4.8</td>\n",
       "      <td>Calabaza Blanca</td>\n",
       "      <td>Witbier</td>\n",
       "      <td>4.5</td>\n",
       "      <td>Pours a cloudy straw yellow into a snifter. Bu...</td>\n",
       "      <td>1215571409</td>\n",
       "      <td>0110x011</td>\n",
       "      <td>1</td>\n",
       "      <td>0</td>\n",
       "      <td>657</td>\n",
       "      <td>['pours', 'cloudy', 'straw', 'yelloww', 'snift...</td>\n",
       "      <td>pours cloudy straw yelloww snifter bubbly one...</td>\n",
       "      <td>[14, 21, 30, 36, 37, 40, 51, 52]</td>\n",
       "      <td>8</td>\n",
       "    </tr>\n",
       "  </tbody>\n",
       "</table>\n",
       "</div>"
      ],
      "text/plain": [
       "   beer/ABV                           beer/name          beer/style  \\\n",
       "0       6.0                 Rodenbach Grand Cru    Flanders Red Ale   \n",
       "1      10.0                                Adam             Old Ale   \n",
       "2       7.3       Green Flash West Coast I.P.A.        American IPA   \n",
       "3       8.7  Stone Sublimely Self-Righteous Ale  American Black Ale   \n",
       "4       4.8                     Calabaza Blanca             Witbier   \n",
       "\n",
       "   review/overall                                        review/text  \\\n",
       "0             5.0  750ml corked, caged, & foiled bottle. Pretty. ...   \n",
       "1             4.0  A - A dark brown bordering on black, and compl...   \n",
       "2             4.0  A - pours a hazy, copper/gold. Thick, chunky h...   \n",
       "3             5.0  Easily my favorite Stone beer, if not my all-t...   \n",
       "4             4.5  Pours a cloudy straw yellow into a snifter. Bu...   \n",
       "\n",
       "   review/timeUnix user/profileName  Binary  UserIndex  ItemIndex  \\\n",
       "0       1210818510         0110x011       1          0       2615   \n",
       "1       1237435182         0110x011       0          0         85   \n",
       "2       1241393157         0110x011       0          0       1347   \n",
       "3       1208211124         0110x011       1          0       3147   \n",
       "4       1215571409         0110x011       1          0        657   \n",
       "\n",
       "                                              review  \\\n",
       "0  ['corked', 'caged', 'foiled', 'bottle', 'prett...   \n",
       "1  ['dark', 'brown', 'bordering', 'black', 'compl...   \n",
       "2  ['pours', 'hazy', 'copper', 'gold', 'thick', '...   \n",
       "3  ['easily', 'favorite', 'stone', 'beer', 'time'...   \n",
       "4  ['pours', 'cloudy', 'straw', 'yelloww', 'snift...   \n",
       "\n",
       "                                        conca_review  \\\n",
       "0   corked caged foiled bottle pretty pours clear...   \n",
       "1   dark brown bordering black completely opaque ...   \n",
       "2   pours hazy copper gold thick chunky head fade...   \n",
       "3   easily favorite stone beer time favorite beer...   \n",
       "4   pours cloudy straw yelloww snifter bubbly one...   \n",
       "\n",
       "                                         keyVector  keyphrases_indices_length  \n",
       "0   [1, 2, 14, 30, 36, 38, 41, 47, 58, 61, 62, 67]                         12  \n",
       "1  [6, 14, 20, 21, 22, 31, 43, 44, 50, 54, 55, 63]                         12  \n",
       "2                  [5, 12, 14, 31, 34, 40, 45, 47]                          8  \n",
       "3         [0, 2, 6, 8, 13, 14, 16, 43, 50, 56, 60]                         11  \n",
       "4                 [14, 21, 30, 36, 37, 40, 51, 52]                          8  "
      ]
     },
     "execution_count": 17,
     "metadata": {},
     "output_type": "execute_result"
    }
   ],
   "source": [
    "df_valid.head()"
   ]
  },
  {
   "cell_type": "code",
   "execution_count": 4,
   "metadata": {
    "collapsed": true
   },
   "outputs": [],
   "source": [
    "# Models\n",
    "from sklearn.metrics.pairwise import cosine_similarity\n",
    "def train(matrix_train):\n",
    "    similarity = cosine_similarity(X=matrix_train, Y=None, dense_output=True)\n",
    "    return similarity\n",
    "\n",
    "def get_I_K(df, row_name = 'ItemIndex', shape = (3668,75)):\n",
    "    rows = []\n",
    "    cols = []\n",
    "    vals = []\n",
    "    for i in tqdm(range(df.shape[0])):\n",
    "        key_vector = literal_eval(df['keyVector'][i])\n",
    "        rows.extend([df[row_name][i]]*len(key_vector)) ## Item index\n",
    "        cols.extend(key_vector) ## Keyword Index\n",
    "#         if binary:\n",
    "        vals.extend(np.array([1]*len(key_vector)))\n",
    "#         else:\n",
    "#             vals.extend(arr[arr.nonzero()])    \n",
    "    return csr_matrix((vals, (rows, cols)), shape=shape)\n",
    "\n",
    "\n",
    "def predict(matrix_train, k, similarity, item_similarity_en = False):\n",
    "    \"\"\"\n",
    "    res = similarity * matrix_train    if item_similarity_en = False\n",
    "    res = similarity * matrix_train.T  if item_similarity_en = True\n",
    "    \"\"\"\n",
    "    prediction_scores = []\n",
    "    \n",
    "    if item_similarity_en:\n",
    "        matrix_train = matrix_train.transpose()\n",
    "        \n",
    "    for user_index in tqdm(range(matrix_train.shape[0])):\n",
    "        # Get user u's prediction scores to all users\n",
    "        vector_u = similarity[user_index]\n",
    "\n",
    "        # Get closest K neighbors excluding user u self\n",
    "        similar_users = vector_u.argsort()[::-1][1:k+1]\n",
    "        # Get neighbors similarity weights and ratings\n",
    "        similar_users_weights = similarity[user_index][similar_users]\n",
    "        similar_users_ratings = matrix_train[similar_users].toarray()\n",
    "\n",
    "        prediction_scores_u = similar_users_ratings * similar_users_weights[:, np.newaxis]\n",
    "\n",
    "        prediction_scores.append(np.sum(prediction_scores_u, axis=0))\n",
    "    res = np.array(prediction_scores)\n",
    "    \n",
    "    if item_similarity_en:\n",
    "        res = res.transpose()\n",
    "    \n",
    "    return res\n",
    "\n",
    "def prediction(prediction_score, topK, matrix_Train):\n",
    "\n",
    "    prediction = []\n",
    "\n",
    "    for user_index in tqdm(range(matrix_Train.shape[0])):\n",
    "        vector_u = prediction_score[user_index]\n",
    "        vector_train = matrix_Train[user_index]\n",
    "        if len(vector_train.nonzero()[0]) > 0:\n",
    "            vector_predict = sub_routine(vector_u, vector_train, topK=topK)\n",
    "        else:\n",
    "            vector_predict = np.zeros(topK, dtype=np.float32)\n",
    "\n",
    "        prediction.append(vector_predict)\n",
    "\n",
    "    return np.vstack(prediction)\n",
    "\n",
    "\n",
    "def sub_routine(vector_u, vector_train, topK=500):\n",
    "\n",
    "    train_index = vector_train.nonzero()[1]\n",
    "\n",
    "    vector_u = vector_u\n",
    "\n",
    "    candidate_index = np.argpartition(-vector_u, topK+len(train_index))[:topK+len(train_index)]\n",
    "    vector_u = candidate_index[vector_u[candidate_index].argsort()[::-1]]\n",
    "    vector_u = np.delete(vector_u, np.isin(vector_u, train_index).nonzero()[0])\n",
    "\n",
    "    return vector_u[:topK]\n"
   ]
  },
  {
   "cell_type": "code",
   "execution_count": 5,
   "metadata": {
    "collapsed": true
   },
   "outputs": [],
   "source": [
    "# Evluation \n",
    "def recallk(vector_true_dense, hits, **unused):\n",
    "    hits = len(hits.nonzero()[0])\n",
    "    return float(hits)/len(vector_true_dense)\n",
    "\n",
    "def precisionk(vector_predict, hits, **unused):\n",
    "    hits = len(hits.nonzero()[0])\n",
    "    return float(hits)/len(vector_predict)\n",
    "\n",
    "\n",
    "def average_precisionk(vector_predict, hits, **unused):\n",
    "    precisions = np.cumsum(hits, dtype=np.float32)/range(1, len(vector_predict)+1)\n",
    "    return np.mean(precisions)\n",
    "\n",
    "\n",
    "def r_precision(vector_true_dense, vector_predict, **unused):\n",
    "    vector_predict_short = vector_predict[:len(vector_true_dense)]\n",
    "    hits = len(np.isin(vector_predict_short, vector_true_dense).nonzero()[0])\n",
    "    return float(hits)/len(vector_true_dense)\n",
    "\n",
    "\n",
    "def _dcg_support(size):\n",
    "    arr = np.arange(1, size+1)+1\n",
    "    return 1./np.log2(arr)\n",
    "\n",
    "\n",
    "def ndcg(vector_true_dense, vector_predict, hits):\n",
    "    idcg = np.sum(_dcg_support(len(vector_true_dense)))\n",
    "    dcg_base = _dcg_support(len(vector_predict))\n",
    "    dcg_base[np.logical_not(hits)] = 0\n",
    "    dcg = np.sum(dcg_base)\n",
    "    return dcg/idcg\n",
    "\n",
    "\n",
    "def click(hits, **unused):\n",
    "    first_hit = next((i for i, x in enumerate(hits) if x), None)\n",
    "    if first_hit is None:\n",
    "        return 5\n",
    "    else:\n",
    "        return first_hit/10\n",
    "\n",
    "\n",
    "def evaluate(matrix_Predict, matrix_Test, metric_names =['R-Precision', 'NDCG', 'Precision', 'Recall', 'MAP'], atK = [5, 10, 15, 20, 50], analytical=False):\n",
    "    \"\"\"\n",
    "    :param matrix_U: Latent representations of users, for LRecs it is RQ, for ALSs it is U\n",
    "    :param matrix_V: Latent representations of items, for LRecs it is Q, for ALSs it is V\n",
    "    :param matrix_Train: Rating matrix for training, features.\n",
    "    :param matrix_Test: Rating matrix for evaluation, true labels.\n",
    "    :param k: Top K retrieval\n",
    "    :param metric_names: Evaluation metrics\n",
    "    :return:\n",
    "    \"\"\"\n",
    "    global_metrics = {\n",
    "        \"R-Precision\": r_precision,\n",
    "        \"NDCG\": ndcg,\n",
    "        \"Clicks\": click\n",
    "    }\n",
    "\n",
    "    local_metrics = {\n",
    "        \"Precision\": precisionk,\n",
    "        \"Recall\": recallk,\n",
    "        \"MAP\": average_precisionk\n",
    "    }\n",
    "\n",
    "    output = dict()\n",
    "\n",
    "    num_users = matrix_Predict.shape[0]\n",
    "\n",
    "    for k in atK:\n",
    "\n",
    "        local_metric_names = list(set(metric_names).intersection(local_metrics.keys()))\n",
    "        results = {name: [] for name in local_metric_names}\n",
    "        topK_Predict = matrix_Predict[:, :k]\n",
    "\n",
    "        for user_index in tqdm(range(topK_Predict.shape[0])):\n",
    "            vector_predict = topK_Predict[user_index]\n",
    "            if len(vector_predict.nonzero()[0]) > 0:\n",
    "                vector_true = matrix_Test[user_index]\n",
    "                vector_true_dense = vector_true.nonzero()[1]\n",
    "                hits = np.isin(vector_predict, vector_true_dense)\n",
    "\n",
    "                if vector_true_dense.size > 0:\n",
    "                    for name in local_metric_names:\n",
    "                        results[name].append(local_metrics[name](vector_true_dense=vector_true_dense,\n",
    "                                                                 vector_predict=vector_predict,\n",
    "                                                                 hits=hits))\n",
    "\n",
    "        results_summary = dict()\n",
    "        if analytical:\n",
    "            for name in local_metric_names:\n",
    "                results_summary['{0}@{1}'.format(name, k)] = results[name]\n",
    "        else:\n",
    "            for name in local_metric_names:\n",
    "                results_summary['{0}@{1}'.format(name, k)] = (np.average(results[name]),\n",
    "                                                              1.96*np.std(results[name])/np.sqrt(num_users))\n",
    "        output.update(results_summary)\n",
    "\n",
    "    global_metric_names = list(set(metric_names).intersection(global_metrics.keys()))\n",
    "    results = {name: [] for name in global_metric_names}\n",
    "\n",
    "    topK_Predict = matrix_Predict[:]\n",
    "\n",
    "    for user_index in tqdm(range(topK_Predict.shape[0])):\n",
    "        vector_predict = topK_Predict[user_index]\n",
    "\n",
    "        if len(vector_predict.nonzero()[0]) > 0:\n",
    "            vector_true = matrix_Test[user_index]\n",
    "            vector_true_dense = vector_true.nonzero()[1]\n",
    "            hits = np.isin(vector_predict, vector_true_dense)\n",
    "\n",
    "            # if user_index == 1:\n",
    "            #     import ipdb;\n",
    "            #     ipdb.set_trace()\n",
    "\n",
    "            if vector_true_dense.size > 0:\n",
    "                for name in global_metric_names:\n",
    "                    results[name].append(global_metrics[name](vector_true_dense=vector_true_dense,\n",
    "                                                              vector_predict=vector_predict,\n",
    "                                                              hits=hits))\n",
    "\n",
    "    results_summary = dict()\n",
    "    if analytical:\n",
    "        for name in global_metric_names:\n",
    "            results_summary[name] = results[name]\n",
    "    else:\n",
    "        for name in global_metric_names:\n",
    "            results_summary[name] = (np.average(results[name]), 1.96*np.std(results[name])/np.sqrt(num_users))\n",
    "    output.update(results_summary)\n",
    "\n",
    "    return output\n",
    "\n",
    "def explain_evaluate(matrix_Predict, matrix_Test, metric_names =['R-Precision', 'NDCG', 'Precision', 'Recall', 'MAP'], atK = [5, 10, 15, 20, 50], analytical=False):\n",
    "    \"\"\"\n",
    "    :param matrix_U: Latent representations of users, for LRecs it is RQ, for ALSs it is U\n",
    "    :param matrix_V: Latent representations of items, for LRecs it is Q, for ALSs it is V\n",
    "    :param matrix_Train: Rating matrix for training, features.\n",
    "    :param matrix_Test: Rating matrix for evaluation, true labels.\n",
    "    :param k: Top K retrieval\n",
    "    :param metric_names: Evaluation metrics\n",
    "    :return:\n",
    "    \"\"\"\n",
    "    global_metrics = {\n",
    "        \"R-Precision\": r_precision,\n",
    "        \"NDCG\": ndcg,\n",
    "        \"Clicks\": click\n",
    "    }\n",
    "\n",
    "    local_metrics = {\n",
    "        \"Precision\": precisionk,\n",
    "        \"Recall\": recallk,\n",
    "        \"MAP\": average_precisionk\n",
    "    }\n",
    "\n",
    "    output = dict()\n",
    "\n",
    "    num_users = matrix_Predict.shape[0]\n",
    "\n",
    "    for k in atK:\n",
    "\n",
    "        local_metric_names = list(set(metric_names).intersection(local_metrics.keys()))\n",
    "        results = {name: [] for name in local_metric_names}\n",
    "        topK_Predict = matrix_Predict[:, :k]\n",
    "\n",
    "        for user_index in tqdm(range(topK_Predict.shape[0])):\n",
    "            vector_predict = topK_Predict[user_index]\n",
    "            if len(vector_predict.nonzero()[0]) > 0:\n",
    "#                 vector_true = matrix_Test[user_index]\n",
    "                vector_true = np.ravel(matrix_Test.todense()[0])\n",
    "                vector_true_dense = np.argsort(vector_true)[::-1][:k]\n",
    "#                 vector_true_dense = vector_true.nonzero()[1]\n",
    "                hits = np.isin(vector_predict, vector_true_dense)\n",
    "\n",
    "                if vector_true_dense.size > 0:\n",
    "                    for name in local_metric_names:\n",
    "                        results[name].append(local_metrics[name](vector_true_dense=vector_true_dense,\n",
    "                                                                 vector_predict=vector_predict,\n",
    "                                                                 hits=hits))\n",
    "\n",
    "        results_summary = dict()\n",
    "        if analytical:\n",
    "            for name in local_metric_names:\n",
    "                results_summary['{0}@{1}'.format(name, k)] = results[name]\n",
    "        else:\n",
    "            for name in local_metric_names:\n",
    "                results_summary['{0}@{1}'.format(name, k)] = (np.average(results[name]),\n",
    "                                                              1.96*np.std(results[name])/np.sqrt(num_users))\n",
    "        output.update(results_summary)\n",
    "\n",
    "    global_metric_names = list(set(metric_names).intersection(global_metrics.keys()))\n",
    "    results = {name: [] for name in global_metric_names}\n",
    "\n",
    "    topK_Predict = matrix_Predict[:]\n",
    "\n",
    "    for user_index in tqdm(range(topK_Predict.shape[0])):\n",
    "        vector_predict = topK_Predict[user_index]\n",
    "\n",
    "        if len(vector_predict.nonzero()[0]) > 0:\n",
    "#             vector_true = matrix_Test[user_index]\n",
    "#             vector_true_dense = vector_true.nonzero()[1]\n",
    "            vector_true = np.ravel(matrix_Test.todense()[0])\n",
    "            vector_true_dense = np.argsort(vector_true)[::-1][:k]\n",
    "            hits = np.isin(vector_predict, vector_true_dense)\n",
    "\n",
    "            # if user_index == 1:\n",
    "            #     import ipdb;\n",
    "            #     ipdb.set_trace()\n",
    "\n",
    "            if vector_true_dense.size > 0:\n",
    "                for name in global_metric_names:\n",
    "                    results[name].append(global_metrics[name](vector_true_dense=vector_true_dense,\n",
    "                                                              vector_predict=vector_predict,\n",
    "                                                              hits=hits))\n",
    "\n",
    "    results_summary = dict()\n",
    "    if analytical:\n",
    "        for name in global_metric_names:\n",
    "            results_summary[name] = results[name]\n",
    "    else:\n",
    "        for name in global_metric_names:\n",
    "            results_summary[name] = (np.average(results[name]), 1.96*np.std(results[name])/np.sqrt(num_users))\n",
    "    output.update(results_summary)\n",
    "\n",
    "    return output"
   ]
  },
  {
   "cell_type": "code",
   "execution_count": 101,
   "metadata": {
    "scrolled": false
   },
   "outputs": [
    {
     "data": {
      "text/plain": [
       "array([ 1,  7,  7,  0,  1,  3,  3,  0,  2,  0,  0,  0,  6,  3, 10,  1,  3,\n",
       "        0,  1,  0,  3,  5,  1,  1,  3,  0,  2,  2,  0,  1,  2,  5,  0,  0,\n",
       "        2,  0,  4,  1,  2,  2,  3,  2,  3,  6,  5,  1,  0,  5,  0,  0,  4,\n",
       "        2,  1,  1,  1,  2,  1,  0,  2,  0,  3,  1,  1,  2,  1,  0,  2,  3,\n",
       "        2,  0,  0,  1,  0,  0,  1])"
      ]
     },
     "execution_count": 101,
     "metadata": {},
     "output_type": "execute_result"
    }
   ],
   "source": [
    "np.ravel(U_K_valid.todense()[0])"
   ]
  },
  {
   "cell_type": "code",
   "execution_count": 103,
   "metadata": {},
   "outputs": [
    {
     "data": {
      "text/plain": [
       "array([14,  1,  2, 43, 12, 44, 21, 31, 47, 50, 36, 20, 42, 16, 40, 13, 60,\n",
       "        6, 67,  5], dtype=int64)"
      ]
     },
     "execution_count": 103,
     "metadata": {},
     "output_type": "execute_result"
    }
   ],
   "source": [
    "np.argsort(np.ravel(U_K_valid.todense()[0]))[::-1][:20]"
   ]
  },
  {
   "cell_type": "markdown",
   "metadata": {},
   "source": [
    "# Explanation Model"
   ]
  },
  {
   "cell_type": "markdown",
   "metadata": {},
   "source": [
    "Explanation could be a list of similar items or stated reasons in natural language. Keyphrases mined from user reviews are used here to reflect reasons for user like or dislike an item. "
   ]
  },
  {
   "cell_type": "code",
   "execution_count": 6,
   "metadata": {
    "collapsed": true
   },
   "outputs": [],
   "source": [
    "def explain(R,W2,k, model = \"Cosine_similarity\", item_similarity_en = True):\n",
    "    \"\"\"\n",
    "    k: knn's hyperparameter k\n",
    "    R: Rating Matrix with size U*I\n",
    "    r_ij: observed rating with user i and item j \n",
    "    s_ij: explanation vector with user i and item j \n",
    "    Z: Joint Embedding/Latent Space with size U*U, generate r_ij and s_ij\n",
    "    W2: Reconstruction matrix with size U*K \n",
    "    S: Output explanation prediction matrix with size U*K (dense numpy ndarray)\n",
    "    \"\"\"\n",
    "    Z = train(R) # Cosine similarity as default\n",
    "    S = predict(W2, k, Z, item_similarity_en=item_similarity_en) \n",
    "    if normalize_en == True:       \n",
    "        return normalize(S) # prediction score\n",
    "    return S\n",
    "\n",
    "def predict(matrix_train, k, similarity, item_similarity_en = False, normalize_en = False):\n",
    "    \"\"\"\n",
    "    matrix_train: Rating Matrix with size U*I\n",
    "    k: knn's hyperparameter k\n",
    "    similarity: Joint Embedding/Latent Space with size U*U or I*I\n",
    "    \n",
    "    res = similarity * matrix_train    if item_similarity_en = False\n",
    "    res = similarity * matrix_train.T  if item_similarity_en = True\n",
    "    \n",
    "    r_ij: observed rating with user i and item j \n",
    "    s_ij: explanation vector with user i and item j \n",
    "    \"\"\"\n",
    "    prediction_scores = []\n",
    "    \n",
    "    if item_similarity_en:\n",
    "        matrix_train = matrix_train.transpose()\n",
    "        \n",
    "    for user_index in tqdm(range(matrix_train.shape[0])):\n",
    "        # Get user u's prediction scores to all users\n",
    "        vector_u = similarity[user_index]\n",
    "\n",
    "        # Get closest K neighbors excluding user u self\n",
    "        similar_users = vector_u.argsort()[::-1][1:k+1]\n",
    "        # Get neighbors similarity weights and ratings\n",
    "        similar_users_weights = similarity[user_index][similar_users]\n",
    "        similar_users_ratings = matrix_train[similar_users].toarray()\n",
    "\n",
    "        prediction_scores_u = similar_users_ratings * similar_users_weights[:, np.newaxis]\n",
    "\n",
    "        prediction_scores.append(np.sum(prediction_scores_u, axis=0))\n",
    "    res = np.array(prediction_scores)\n",
    "    \n",
    "    if item_similarity_en:\n",
    "        res = res.transpose()\n",
    "    if normalize_en:\n",
    "        res = normalize(res)\n",
    "    return res\n",
    "\n",
    "def explain_prediction(prediction_score, topK, matrix_Train):\n",
    "    \"\"\"\n",
    "    output prediction res of the  top K items/keyphrase/whatever\n",
    "    \"\"\"\n",
    "    prediction = []\n",
    "\n",
    "    for user_index in tqdm(range(matrix_Train.shape[0])):\n",
    "        vector_u = prediction_score[user_index]\n",
    "        vector_train = matrix_Train[user_index]\n",
    "        if len(vector_train.nonzero()[0]) > 0:\n",
    "            vector_predict = sub_routine_explain(vector_u, vector_train, topK=topK)\n",
    "        else:\n",
    "            vector_predict = np.zeros(topK, dtype=np.float32)\n",
    "\n",
    "        prediction.append(vector_predict)\n",
    "    return np.vstack(prediction)\n",
    "#     return prediction\n",
    "\n",
    "def sub_routine_explain(vector_u, vector_train, topK=30):\n",
    "    \"\"\"\n",
    "    vector_u: predicted user vector\n",
    "    vector_train: true user vector\n",
    "    topK: top k items in vector\n",
    "    vector_u: top k items predicted\n",
    "    \"\"\"\n",
    "#     train_index = vector_train.nonzero()[1]\n",
    "#     candidate_index = np.argpartition(-vector_u, topK+75)[:topK+75] #  10 here to make res consistent\n",
    "#     candidate_index = np.argpartition(-vector_u, 74)[:topK]\n",
    "#     vector_u = candidate_index[vector_u[candidate_index].argsort()[::-1]]\n",
    "#     vector_u = np.delete(vector_u, np.isin(vector_u, train_index).nonzero()[0])\n",
    "\n",
    "    candidate_index = np.argsort(vector_u)[::-1][:topK]\n",
    "    return candidate_index\n",
    "\n",
    "def predict_pilot_explanation(explanation_scores, top_keyphrase = 10):\n",
    "    \"\"\"\n",
    "    Used for retrieve the 1st row of prediction scores, used for pilot test\n",
    "    \"\"\"\n",
    "    explanation = []\n",
    "    for explanation_score in tqdm(explanation_scores):\n",
    "        explanation.append(np.argsort(explanation_score)[::-1][:top_keyphrase])\n",
    "    return np.array(explanation)"
   ]
  },
  {
   "cell_type": "code",
   "execution_count": 7,
   "metadata": {
    "collapsed": true
   },
   "outputs": [],
   "source": [
    "def explain(R,W2,k):\n",
    "    \"\"\"\n",
    "    R: Rating Matrix with size U*I\n",
    "    r_ij: observed rating with user i and item j \n",
    "    s_ij: explanation vector with user i and item j \n",
    "    Z: Joint Embedding/Latent Space with size U*U, generate r_ij and s_ij\n",
    "    W2: Reconstruction matrix with size U*K \n",
    "    S: Output explanation prediction matrix with size U*K\n",
    "    \"\"\"\n",
    "    Z = train(R)\n",
    "    S = predict(W2, k, Z)\n",
    "    return normalize(S)"
   ]
  },
  {
   "cell_type": "code",
   "execution_count": 8,
   "metadata": {
    "collapsed": true
   },
   "outputs": [],
   "source": [
    "# Evaluation Model\n",
    "def recall(vector_true_dense, vector_true_predict):\n",
    "    \"\"\"\n",
    "    The fraction of relevant instances that have been retrieved over the total amount of relevant instances\n",
    "    The length of vector_true_dense and vector_true_predict has to be the same\n",
    "    Out put recall\n",
    "    \"\"\"\n",
    "    hits = len(np.isin(vector_true_predict, vector_true_dense).nonzero()[0])\n",
    "    return float(hits)/len(vector_true_dense)\n",
    "\n",
    "# Total Recall\n",
    "def recall_all(true_matrix, predict_matrix, topK = 20):\n",
    "    res = []\n",
    "    for i in tqdm(range(len(Explanation_res1))):\n",
    "        true_vector = np.argsort(np.ravel(normalize(true_matrix).todense()[i]))[-topK:]\n",
    "        predict_vector = np.argsort(predict_matrix[i])[-topK:]\n",
    "        res.append(recall(true_vector,predict_vector))\n",
    "    return sum(res)/len(res)"
   ]
  },
  {
   "cell_type": "code",
   "execution_count": 9,
   "metadata": {},
   "outputs": [
    {
     "name": "stderr",
     "output_type": "stream",
     "text": [
      "100%|█████████████████████████████████████████████████████████████████████████████| 6370/6370 [00:08<00:00, 727.09it/s]\n",
      "100%|████████████████████████████████████████████████████████████████████████████| 6370/6370 [00:01<00:00, 3357.93it/s]\n"
     ]
    }
   ],
   "source": [
    "# ( U_I * I_U ) * U_K\n",
    "similarity = train(rtrain)\n",
    "explanation_scores = predict(U_K, 100, similarity)\n",
    "# explanation =  predict_explanation(explanation_scores)\n",
    "explanation = explain_prediction(explanation_scores, 70, U_K)"
   ]
  },
  {
   "cell_type": "markdown",
   "metadata": {},
   "source": [
    "# Evaluation Model"
   ]
  },
  {
   "cell_type": "code",
   "execution_count": 10,
   "metadata": {},
   "outputs": [
    {
     "name": "stderr",
     "output_type": "stream",
     "text": [
      "100%|█████████████████████████████████████████████████████████████████████████████| 6370/6370 [00:33<00:00, 191.27it/s]\n",
      "100%|█████████████████████████████████████████████████████████████████████████████| 6370/6370 [00:33<00:00, 192.19it/s]\n",
      "100%|█████████████████████████████████████████████████████████████████████████████| 6370/6370 [00:34<00:00, 183.86it/s]\n",
      "100%|█████████████████████████████████████████████████████████████████████████████| 6370/6370 [00:33<00:00, 189.78it/s]\n"
     ]
    },
    {
     "data": {
      "text/plain": [
       "{'MAP@10': (0.88274159004261032, 0.0017655296910119374),\n",
       " 'MAP@20': (0.83116420958261306, 0.0012303964162601892),\n",
       " 'MAP@5': (0.69733699633699642, 0.0019366605097710626),\n",
       " 'NDCG': (0.91778672272069384, 0.00069386408012016905),\n",
       " 'Precision@10': (0.72006279434850851, 0.0017404610660916515),\n",
       " 'Precision@20': (0.64006279434850877, 0.0011064512227747327),\n",
       " 'Precision@5': (0.60919937205651487, 0.0025503389596737247),\n",
       " 'R-Precision': (0.64006279434850877, 0.0011064512227747327),\n",
       " 'Recall@10': (0.72006279434850851, 0.0017404610660916515),\n",
       " 'Recall@20': (0.64006279434850877, 0.0011064512227747327),\n",
       " 'Recall@5': (0.60919937205651487, 0.0025503389596737247)}"
      ]
     },
     "execution_count": 10,
     "metadata": {},
     "output_type": "execute_result"
    }
   ],
   "source": [
    "explain_evaluate(explanation, U_K_test, atK=[5,10,20])"
   ]
  },
  {
   "cell_type": "markdown",
   "metadata": {},
   "source": [
    "# Tuning"
   ]
  },
  {
   "cell_type": "markdown",
   "metadata": {},
   "source": [
    "TODO"
   ]
  },
  {
   "cell_type": "markdown",
   "metadata": {},
   "source": [
    "# Item-based non-personalized Explanation"
   ]
  },
  {
   "cell_type": "code",
   "execution_count": 11,
   "metadata": {},
   "outputs": [
    {
     "name": "stderr",
     "output_type": "stream",
     "text": [
      "100%|█████████████████████████████████████████████████████████████████████████████| 3668/3668 [00:05<00:00, 626.15it/s]\n",
      "100%|████████████████████████████████████████████████████████████████████████████| 3668/3668 [00:01<00:00, 2729.17it/s]\n"
     ]
    }
   ],
   "source": [
    "similarity = train(np.transpose(rtrain))\n",
    "explanation_scores = predict(I_K, 100, similarity)\n",
    "# explanation =  predict_explanation(explanation_scores)\n",
    "explanation = explain_prediction(explanation_scores, 70, I_K)"
   ]
  },
  {
   "cell_type": "code",
   "execution_count": 150,
   "metadata": {},
   "outputs": [
    {
     "name": "stderr",
     "output_type": "stream",
     "text": [
      "100%|████████████████████████████████████████████████████████████████████████████| 3668/3668 [00:02<00:00, 1561.52it/s]\n",
      "100%|████████████████████████████████████████████████████████████████████████████| 3668/3668 [00:02<00:00, 1516.96it/s]\n",
      "100%|████████████████████████████████████████████████████████████████████████████| 3668/3668 [00:02<00:00, 1490.45it/s]\n",
      "100%|████████████████████████████████████████████████████████████████████████████| 3668/3668 [00:02<00:00, 1368.66it/s]\n"
     ]
    },
    {
     "data": {
      "text/plain": [
       "{'MAP@10': (0.7280294178740199, 0.003719951721807636),\n",
       " 'MAP@20': (0.8368168788179973, 0.001992342237049055),\n",
       " 'MAP@5': (0.5433960378044348, 0.0029654908999895008),\n",
       " 'NDCG': (0.9257757747057292, 0.0008229360296267417),\n",
       " 'Precision@10': (0.6539531079607415, 0.004636637273117065),\n",
       " 'Precision@20': (0.6580834242093784, 0.0018566550515704686),\n",
       " 'Precision@5': (0.4323336968375136, 0.005050260732533747),\n",
       " 'R-Precision': (0.6580834242093784, 0.0018566550515704686),\n",
       " 'Recall@10': (0.6539531079607415, 0.004636637273117065),\n",
       " 'Recall@20': (0.6580834242093784, 0.0018566550515704686),\n",
       " 'Recall@5': (0.4323336968375136, 0.005050260732533747)}"
      ]
     },
     "execution_count": 150,
     "metadata": {},
     "output_type": "execute_result"
    }
   ],
   "source": [
    "explain_evaluate(explanation, I_K_valid, atK=[5,10,20]) "
   ]
  },
  {
   "cell_type": "code",
   "execution_count": 12,
   "metadata": {},
   "outputs": [
    {
     "name": "stderr",
     "output_type": "stream",
     "text": [
      "100%|█████████████████████████████████████████████████████████████████████████████| 3668/3668 [00:14<00:00, 247.49it/s]\n",
      "100%|█████████████████████████████████████████████████████████████████████████████| 3668/3668 [00:15<00:00, 244.16it/s]\n",
      "100%|█████████████████████████████████████████████████████████████████████████████| 3668/3668 [00:15<00:00, 232.61it/s]\n",
      "100%|█████████████████████████████████████████████████████████████████████████████| 3668/3668 [00:16<00:00, 225.72it/s]\n"
     ]
    },
    {
     "data": {
      "text/plain": [
       "{'MAP@10': (0.72815139732737888, 0.0037163059650557467),\n",
       " 'MAP@20': (0.74832825993365049, 0.0031152175169084509),\n",
       " 'MAP@5': (0.54312704471101414, 0.0029756141294349702),\n",
       " 'NDCG': (0.89379167048593566, 0.0011602119212643241),\n",
       " 'Precision@10': (0.65406215921483091, 0.0046303761758466466),\n",
       " 'Precision@20': (0.54847328244274807, 0.0022367207717170329),\n",
       " 'Precision@5': (0.43244274809160305, 0.0050472658635987242),\n",
       " 'R-Precision': (0.54847328244274807, 0.0022367207717170329),\n",
       " 'Recall@10': (0.65406215921483091, 0.0046303761758466466),\n",
       " 'Recall@20': (0.54847328244274807, 0.0022367207717170329),\n",
       " 'Recall@5': (0.43244274809160305, 0.0050472658635987242)}"
      ]
     },
     "execution_count": 12,
     "metadata": {},
     "output_type": "execute_result"
    }
   ],
   "source": [
    "explain_evaluate(explanation, I_K_test, atK=[5,10,20]) "
   ]
  },
  {
   "cell_type": "markdown",
   "metadata": {},
   "source": [
    "# TF-IDF "
   ]
  },
  {
   "cell_type": "code",
   "execution_count": 192,
   "metadata": {},
   "outputs": [],
   "source": [
    "def df(U_K):\n",
    "    \"\"\"\n",
    "    Get the df for keyphrase matrix\n",
    "    \"\"\"\n",
    "    DF = {}\n",
    "    for i in range(U_K.shape[0]):\n",
    "        vector_u = np.ravel(U_K[i].todense())\n",
    "        for keyword_idx in range(U_K.shape[1]):\n",
    "            keyword_frequency = vector_u[keyword_idx]\n",
    "            if keyword_idx in DF:\n",
    "                DF[keyword_idx] += keyword_frequency\n",
    "            else:\n",
    "                DF[keyword_idx] = keyword_frequency\n",
    "    return DF\n",
    "\n",
    "def keyword_popularity_matrix(U_K,df_uk):\n",
    "    \"\"\"\n",
    "    return the U_K normalized by keyphrase frequency\n",
    "    \"\"\"\n",
    "    df = normalize(np.array(df_uk.values()).reshape(1,-1))[0]\n",
    "    for i in tqdm(range(U_K.shape[0])):\n",
    "        U_K[i] = U_K[i]/df\n",
    "#         vector_u = np.ravel(U_K[i].todense())\n",
    "#         for entry in range(U_K.shape[1]):\n",
    "#             U_K[i,entry] = U_K[i,entry]/df[entry]\n",
    "    return normalize(U_K)\n",
    "    \n",
    "def tf_idf(U_K,df_uk):\n",
    "    \"\"\"\n",
    "    Change the U_K/I_K keyphrase matrix to TF-IDF.\n",
    "    where:\n",
    "    IDF = log(N/(DF+1))\n",
    "    TF_IDF = (1+log(TF))* IDF\n",
    "    \"\"\"\n",
    "    for i in tqdm(range(U_K.shape[0])):\n",
    "        vector_u = np.ravel(U_K[i].todense())\n",
    "        words_count = np.sum(vector_u)\n",
    "        \n",
    "        for entry in range(U_K.shape[1]):\n",
    "            if U_K[i,entry] == 0:\n",
    "                continue\n",
    "            else:\n",
    "                tf = U_K[i,entry]/words_count\n",
    "                df = df_uk[entry]\n",
    "                idf = np.log(U_K.shape[0]/(df+1))\n",
    "                tf_idf = (1+ np.log(tf))*idf\n",
    "                U_K[i,entry] = tf_idf\n",
    "    return normalize(U_K)"
   ]
  },
  {
   "cell_type": "code",
   "execution_count": 185,
   "metadata": {
    "collapsed": true
   },
   "outputs": [],
   "source": [
    "df = normalize(np.array(df_uk.values()).reshape(1,-1))[0]"
   ]
  },
  {
   "cell_type": "code",
   "execution_count": 190,
   "metadata": {
    "collapsed": true
   },
   "outputs": [],
   "source": [
    "U_K[0] = U_K[0]/df"
   ]
  },
  {
   "cell_type": "code",
   "execution_count": 193,
   "metadata": {
    "scrolled": true
   },
   "outputs": [
    {
     "name": "stderr",
     "output_type": "stream",
     "text": [
      "\n",
      "\n",
      "  0%|                                                                                         | 0/6370 [00:00<?, ?it/s]\n",
      "\n",
      "  0%|▏                                                                              | 12/6370 [00:00<00:54, 117.65it/s]\n",
      "\n",
      "  0%|▎                                                                              | 22/6370 [00:00<00:57, 109.53it/s]\n",
      "\n",
      "  1%|▍                                                                              | 33/6370 [00:00<00:59, 107.11it/s]\n",
      "\n",
      "  1%|▌                                                                              | 45/6370 [00:00<00:57, 109.46it/s]\n",
      "\n",
      "  1%|▋                                                                              | 57/6370 [00:00<00:57, 110.26it/s]\n",
      "\n",
      "  1%|▊                                                                              | 68/6370 [00:00<00:58, 108.23it/s]\n",
      "\n",
      "  1%|▉                                                                              | 78/6370 [00:00<01:00, 103.33it/s]\n",
      "\n",
      "  1%|█                                                                              | 90/6370 [00:00<00:59, 106.11it/s]\n",
      "\n",
      "  2%|█▏                                                                            | 101/6370 [00:00<00:58, 106.62it/s]\n",
      "\n",
      "  2%|█▎                                                                            | 112/6370 [00:01<00:59, 105.75it/s]\n",
      "\n",
      "  2%|█▌                                                                            | 124/6370 [00:01<00:58, 106.45it/s]\n",
      "\n",
      "  2%|█▋                                                                            | 135/6370 [00:01<00:58, 106.86it/s]\n",
      "\n",
      "  2%|█▊                                                                            | 146/6370 [00:01<00:59, 104.11it/s]\n",
      "\n",
      "  2%|█▉                                                                            | 157/6370 [00:01<00:59, 103.72it/s]\n",
      "\n",
      "  3%|██                                                                            | 168/6370 [00:01<01:00, 102.00it/s]\n",
      "\n",
      "  3%|██▏                                                                           | 179/6370 [00:01<00:59, 103.39it/s]\n",
      "\n",
      "  3%|██▎                                                                           | 191/6370 [00:01<00:57, 107.29it/s]\n",
      "\n",
      "  3%|██▍                                                                           | 203/6370 [00:01<00:56, 109.60it/s]\n",
      "\n",
      "  3%|██▌                                                                           | 214/6370 [00:02<00:57, 107.47it/s]\n",
      "\n",
      "  4%|██▊                                                                           | 225/6370 [00:02<00:57, 106.64it/s]\n",
      "\n",
      "  4%|██▉                                                                           | 236/6370 [00:02<00:58, 104.86it/s]\n",
      "\n",
      "  4%|███                                                                           | 247/6370 [00:02<00:58, 104.53it/s]\n",
      "\n",
      "  4%|███▏                                                                          | 258/6370 [00:02<00:58, 104.90it/s]\n",
      "\n",
      "  4%|███▎                                                                          | 271/6370 [00:02<00:55, 109.38it/s]\n",
      "\n",
      "  4%|███▍                                                                          | 283/6370 [00:02<00:55, 110.20it/s]\n",
      "\n",
      "  5%|███▌                                                                          | 295/6370 [00:02<00:54, 110.47it/s]\n",
      "\n",
      "  5%|███▊                                                                          | 307/6370 [00:02<00:54, 111.28it/s]\n",
      "\n",
      "\n",
      "  5%|███▉                                                                          | 319/6370 [00:02<00:55, 108.22it/s]\n",
      "\n",
      "  5%|████                                                                          | 331/6370 [00:03<00:56, 107.31it/s]\n",
      "\n",
      "  5%|████▏                                                                         | 342/6370 [00:03<00:59, 101.80it/s]\n",
      "\n",
      "  6%|████▍                                                                          | 353/6370 [00:03<01:03, 94.72it/s]\n",
      "\n",
      "  6%|████▌                                                                          | 363/6370 [00:03<01:04, 93.80it/s]\n",
      "\n",
      "  6%|████▋                                                                          | 373/6370 [00:03<01:06, 90.64it/s]\n",
      "\n",
      "  6%|████▋                                                                          | 383/6370 [00:03<01:05, 90.97it/s]\n",
      "\n",
      "  6%|████▉                                                                          | 396/6370 [00:03<01:00, 98.39it/s]\n",
      "\n",
      "  6%|████▉                                                                         | 407/6370 [00:03<00:59, 101.04it/s]\n",
      "\n",
      "  7%|█████                                                                         | 418/6370 [00:04<00:58, 101.01it/s]\n",
      "\n",
      "  7%|█████▎                                                                        | 431/6370 [00:04<00:55, 106.39it/s]\n",
      "\n",
      "  7%|█████▍                                                                        | 443/6370 [00:04<00:55, 107.76it/s]\n",
      "\n",
      "  7%|█████▋                                                                         | 454/6370 [00:04<00:59, 99.86it/s]\n",
      "\n",
      "  7%|█████▊                                                                         | 465/6370 [00:04<01:02, 95.23it/s]\n",
      "\n",
      "  7%|█████▉                                                                         | 476/6370 [00:04<00:59, 98.96it/s]\n",
      "\n",
      "  8%|██████                                                                         | 487/6370 [00:04<00:59, 98.74it/s]\n",
      "\n",
      "  8%|██████                                                                        | 499/6370 [00:04<00:57, 102.94it/s]\n",
      "\n",
      "  8%|██████▏                                                                       | 510/6370 [00:04<00:56, 103.48it/s]\n",
      "\n",
      "  8%|██████▍                                                                       | 521/6370 [00:05<00:55, 105.05it/s]\n",
      "\n",
      "  8%|██████▌                                                                       | 533/6370 [00:05<00:53, 109.13it/s]\n",
      "\n",
      "  9%|██████▋                                                                       | 545/6370 [00:05<00:53, 107.94it/s]\n",
      "\n",
      "  9%|██████▊                                                                       | 557/6370 [00:05<00:53, 109.47it/s]\n",
      "\n",
      "  9%|██████▉                                                                       | 569/6370 [00:05<00:52, 109.96it/s]\n",
      "\n",
      "  9%|███████                                                                       | 581/6370 [00:05<00:53, 108.50it/s]\n",
      "\n",
      "  9%|███████▏                                                                      | 592/6370 [00:05<00:53, 107.99it/s]\n",
      "\n",
      "  9%|███████▍                                                                      | 603/6370 [00:05<00:55, 103.96it/s]\n",
      "\n",
      " 10%|███████▌                                                                      | 614/6370 [00:05<00:54, 105.10it/s]\n",
      "\n",
      " 10%|███████▋                                                                      | 625/6370 [00:05<00:56, 102.07it/s]\n",
      "\n",
      " 10%|███████▉                                                                       | 636/6370 [00:06<00:57, 99.79it/s]\n",
      "\n",
      " 10%|███████▉                                                                      | 647/6370 [00:06<00:56, 101.23it/s]\n",
      "\n",
      " 10%|████████                                                                      | 659/6370 [00:06<00:54, 104.00it/s]\n",
      "\n",
      " 11%|████████▏                                                                     | 670/6370 [00:06<00:54, 104.23it/s]\n",
      "\n",
      " 11%|████████▎                                                                     | 681/6370 [00:06<00:54, 104.99it/s]\n",
      "\n",
      " 11%|████████▍                                                                     | 692/6370 [00:06<00:53, 105.52it/s]\n",
      "\n",
      " 11%|████████▌                                                                     | 703/6370 [00:06<00:54, 104.10it/s]\n",
      "\n",
      " 11%|████████▋                                                                     | 714/6370 [00:06<00:54, 104.30it/s]\n",
      "\n",
      " 11%|████████▉                                                                      | 725/6370 [00:06<00:57, 98.54it/s]\n",
      "\n",
      " 12%|█████████                                                                      | 735/6370 [00:07<00:57, 97.24it/s]\n",
      "\n",
      " 12%|█████████▏                                                                    | 746/6370 [00:07<00:56, 100.20it/s]\n",
      "\n"
     ]
    },
    {
     "name": "stderr",
     "output_type": "stream",
     "text": [
      " 12%|█████████▎                                                                    | 757/6370 [00:07<00:55, 100.69it/s]\n",
      "\n",
      " 12%|█████████▌                                                                     | 768/6370 [00:07<00:56, 99.12it/s]\n",
      "\n",
      " 12%|█████████▋                                                                     | 778/6370 [00:07<00:57, 97.35it/s]\n",
      "\n",
      " 12%|█████████▋                                                                    | 789/6370 [00:07<00:55, 100.55it/s]\n",
      "\n",
      " 13%|█████████▊                                                                    | 801/6370 [00:07<00:54, 101.66it/s]\n",
      "\n",
      " 13%|█████████▉                                                                    | 812/6370 [00:07<00:54, 101.16it/s]\n",
      "\n",
      " 13%|██████████▏                                                                    | 823/6370 [00:07<00:59, 93.84it/s]\n",
      "\n",
      " 13%|██████████▎                                                                    | 833/6370 [00:08<01:01, 89.45it/s]\n",
      "\n",
      " 13%|██████████▍                                                                    | 843/6370 [00:08<01:03, 87.29it/s]\n",
      "\n",
      " 13%|██████████▌                                                                    | 853/6370 [00:08<01:01, 89.06it/s]\n",
      "\n",
      " 14%|██████████▋                                                                    | 862/6370 [00:08<01:03, 86.75it/s]\n",
      "\n",
      " 14%|██████████▊                                                                    | 871/6370 [00:08<01:02, 87.45it/s]\n",
      "\n",
      " 14%|██████████▉                                                                    | 882/6370 [00:08<00:59, 92.71it/s]\n",
      "\n",
      " 14%|███████████                                                                    | 892/6370 [00:08<01:00, 90.66it/s]\n",
      "\n",
      " 14%|███████████▏                                                                   | 902/6370 [00:08<01:01, 89.51it/s]\n",
      "\n",
      " 14%|███████████▎                                                                   | 912/6370 [00:08<00:59, 91.91it/s]\n",
      "\n",
      " 14%|███████████▍                                                                   | 922/6370 [00:09<01:02, 87.75it/s]\n",
      "\n",
      " 15%|███████████▌                                                                   | 933/6370 [00:09<00:59, 91.78it/s]\n",
      "\n",
      " 15%|███████████▋                                                                   | 945/6370 [00:09<00:55, 98.26it/s]\n",
      "\n",
      " 15%|███████████▊                                                                   | 956/6370 [00:09<00:58, 92.54it/s]\n",
      "\n",
      " 15%|███████████▉                                                                   | 966/6370 [00:09<00:58, 92.56it/s]\n",
      "\n",
      " 15%|████████████                                                                   | 976/6370 [00:09<00:58, 92.57it/s]\n",
      "\n",
      " 15%|████████████▏                                                                  | 986/6370 [00:09<00:58, 92.06it/s]\n",
      "\n",
      " 16%|████████████▎                                                                  | 996/6370 [00:09<00:58, 92.48it/s]\n",
      "\n",
      " 16%|████████████▎                                                                 | 1006/6370 [00:09<00:58, 91.25it/s]\n",
      "\n",
      " 16%|████████████▍                                                                 | 1016/6370 [00:10<00:57, 92.92it/s]\n",
      "\n",
      " 16%|████████████▌                                                                 | 1026/6370 [00:10<00:56, 94.13it/s]\n",
      "\n",
      " 16%|████████████▋                                                                 | 1036/6370 [00:10<00:56, 94.20it/s]\n",
      "\n",
      " 16%|████████████▊                                                                 | 1047/6370 [00:10<00:54, 97.39it/s]\n",
      "\n",
      " 17%|████████████▉                                                                 | 1058/6370 [00:10<00:53, 99.76it/s]\n",
      "\n",
      " 17%|█████████████                                                                 | 1069/6370 [00:10<00:54, 97.45it/s]\n",
      "\n",
      " 17%|█████████████                                                                | 1082/6370 [00:10<00:52, 101.42it/s]\n",
      "\n",
      " 17%|█████████████▏                                                               | 1093/6370 [00:10<00:51, 102.11it/s]\n",
      "\n",
      " 17%|█████████████▎                                                               | 1104/6370 [00:10<00:52, 101.19it/s]\n",
      "\n",
      " 18%|█████████████▍                                                               | 1115/6370 [00:11<00:50, 103.10it/s]\n",
      "\n",
      " 18%|█████████████▌                                                               | 1126/6370 [00:11<00:52, 100.19it/s]\n",
      "\n",
      " 18%|█████████████▋                                                               | 1137/6370 [00:11<00:52, 100.14it/s]\n",
      "\n",
      " 18%|██████████████                                                                | 1148/6370 [00:11<00:52, 99.82it/s]\n",
      "\n",
      " 18%|██████████████                                                               | 1161/6370 [00:11<00:49, 104.45it/s]\n",
      "\n",
      " 18%|██████████████▏                                                              | 1172/6370 [00:11<00:51, 100.81it/s]\n",
      "\n",
      " 19%|██████████████▍                                                               | 1183/6370 [00:11<00:53, 96.84it/s]\n",
      "\n",
      " 19%|██████████████▌                                                               | 1194/6370 [00:11<00:52, 98.82it/s]\n",
      "\n",
      " 19%|██████████████▋                                                               | 1204/6370 [00:11<00:53, 96.87it/s]\n",
      "\n",
      " 19%|██████████████▊                                                               | 1214/6370 [00:12<00:55, 93.67it/s]\n",
      "\n",
      " 19%|██████████████▉                                                               | 1224/6370 [00:12<00:57, 89.82it/s]\n",
      "\n",
      " 19%|███████████████                                                               | 1234/6370 [00:12<00:55, 91.88it/s]\n",
      "\n",
      " 20%|███████████████▎                                                              | 1246/6370 [00:12<00:52, 97.62it/s]\n",
      "\n",
      " 20%|███████████████▍                                                              | 1257/6370 [00:12<00:51, 99.39it/s]\n",
      "\n",
      " 20%|███████████████▎                                                             | 1269/6370 [00:12<00:49, 102.90it/s]\n",
      "\n",
      " 20%|███████████████▋                                                              | 1280/6370 [00:12<00:51, 97.93it/s]\n",
      "\n",
      " 20%|███████████████▊                                                              | 1290/6370 [00:12<00:55, 91.01it/s]\n",
      "\n",
      " 20%|███████████████▉                                                              | 1300/6370 [00:12<00:57, 88.33it/s]\n",
      "\n",
      " 21%|████████████████                                                              | 1310/6370 [00:13<00:56, 90.05it/s]\n",
      "\n",
      " 21%|████████████████▏                                                             | 1320/6370 [00:13<00:55, 90.30it/s]\n",
      "\n",
      " 21%|████████████████▎                                                             | 1330/6370 [00:13<00:54, 92.49it/s]\n",
      "\n",
      " 21%|████████████████▍                                                             | 1343/6370 [00:13<00:50, 99.40it/s]\n",
      "\n",
      " 21%|████████████████▌                                                             | 1354/6370 [00:13<00:50, 99.85it/s]\n",
      "\n",
      " 21%|████████████████▌                                                            | 1366/6370 [00:13<00:48, 103.25it/s]\n",
      "\n",
      " 22%|████████████████▋                                                            | 1377/6370 [00:13<00:49, 100.29it/s]\n",
      "\n",
      " 22%|████████████████▊                                                            | 1388/6370 [00:13<00:49, 101.03it/s]\n",
      "\n",
      " 22%|████████████████▉                                                            | 1401/6370 [00:13<00:47, 105.37it/s]\n",
      "\n",
      " 22%|█████████████████                                                            | 1412/6370 [00:14<00:49, 100.02it/s]\n",
      "\n",
      " 22%|█████████████████▏                                                           | 1424/6370 [00:14<00:47, 103.11it/s]\n",
      "\n",
      " 23%|█████████████████▎                                                           | 1435/6370 [00:14<00:49, 100.48it/s]\n",
      "\n",
      " 23%|█████████████████▋                                                            | 1446/6370 [00:14<00:49, 99.79it/s]\n",
      "\n",
      " 23%|█████████████████▌                                                           | 1458/6370 [00:14<00:47, 103.20it/s]\n",
      "\n",
      " 23%|█████████████████▊                                                           | 1469/6370 [00:14<00:48, 101.65it/s]\n",
      "\n"
     ]
    },
    {
     "name": "stderr",
     "output_type": "stream",
     "text": [
      " 23%|██████████████████                                                            | 1480/6370 [00:14<00:49, 99.77it/s]\n",
      "\n",
      " 23%|██████████████████                                                           | 1491/6370 [00:14<00:48, 101.22it/s]\n",
      "\n",
      " 24%|██████████████████▏                                                          | 1502/6370 [00:14<00:48, 100.03it/s]\n",
      "\n",
      " 24%|██████████████████▎                                                          | 1513/6370 [00:15<00:48, 100.84it/s]\n",
      "\n",
      " 24%|██████████████████▍                                                          | 1525/6370 [00:15<00:47, 101.87it/s]\n",
      "\n",
      " 24%|██████████████████▌                                                          | 1536/6370 [00:15<00:46, 104.18it/s]\n",
      "\n",
      " 24%|██████████████████▋                                                          | 1547/6370 [00:15<00:47, 100.91it/s]\n",
      "\n",
      " 24%|██████████████████▊                                                          | 1558/6370 [00:15<00:46, 103.47it/s]\n",
      "\n",
      " 25%|███████████████████▏                                                          | 1569/6370 [00:15<00:48, 99.90it/s]\n",
      "\n",
      " 25%|███████████████████▎                                                          | 1580/6370 [00:15<00:48, 98.85it/s]\n",
      "\n",
      " 25%|███████████████████▍                                                          | 1590/6370 [00:15<00:48, 98.60it/s]\n",
      "\n",
      " 25%|███████████████████▌                                                          | 1600/6370 [00:15<00:49, 95.61it/s]\n",
      "\n",
      " 25%|███████████████████▋                                                          | 1610/6370 [00:16<00:49, 96.33it/s]\n",
      "\n",
      " 25%|███████████████████▊                                                          | 1620/6370 [00:16<00:49, 96.83it/s]\n",
      "\n",
      " 26%|███████████████████▉                                                          | 1630/6370 [00:16<00:48, 97.76it/s]\n",
      "\n",
      " 26%|████████████████████                                                          | 1640/6370 [00:16<00:49, 96.15it/s]\n",
      "\n",
      " 26%|███████████████████▉                                                         | 1653/6370 [00:16<00:45, 102.81it/s]\n",
      "\n",
      " 26%|████████████████████                                                         | 1664/6370 [00:16<00:45, 103.98it/s]\n",
      "\n",
      " 26%|████████████████████▏                                                        | 1675/6370 [00:16<00:46, 100.77it/s]\n",
      "\n",
      " 26%|████████████████████▋                                                         | 1686/6370 [00:16<00:47, 99.18it/s]\n",
      "\n",
      " 27%|████████████████████▊                                                         | 1696/6370 [00:16<00:47, 99.13it/s]\n",
      "\n",
      " 27%|████████████████████▋                                                        | 1707/6370 [00:17<00:46, 100.48it/s]\n",
      "\n",
      " 27%|████████████████████▊                                                        | 1720/6370 [00:17<00:45, 101.75it/s]\n",
      "\n",
      " 27%|█████████████████████▏                                                        | 1731/6370 [00:17<00:46, 98.76it/s]\n",
      "\n",
      " 27%|█████████████████████                                                        | 1742/6370 [00:17<00:45, 101.60it/s]\n",
      "\n",
      " 28%|█████████████████████▍                                                        | 1753/6370 [00:17<00:46, 99.20it/s]\n",
      "\n",
      " 28%|█████████████████████▌                                                        | 1763/6370 [00:17<00:46, 99.14it/s]\n",
      "\n",
      " 28%|█████████████████████▋                                                        | 1773/6370 [00:17<00:46, 99.40it/s]\n",
      "\n",
      " 28%|█████████████████████▊                                                        | 1785/6370 [00:17<00:47, 96.69it/s]\n",
      "\n",
      " 28%|█████████████████████▋                                                       | 1798/6370 [00:17<00:45, 101.08it/s]\n",
      "\n",
      " 28%|█████████████████████▊                                                       | 1809/6370 [00:18<00:44, 103.02it/s]\n",
      "\n",
      " 29%|██████████████████████▎                                                       | 1820/6370 [00:18<00:45, 99.87it/s]\n",
      "\n",
      " 29%|██████████████████████▍                                                       | 1831/6370 [00:18<00:46, 98.56it/s]\n",
      "\n",
      " 29%|██████████████████████▌                                                       | 1841/6370 [00:18<00:46, 97.83it/s]\n",
      "\n",
      " 29%|██████████████████████▋                                                       | 1854/6370 [00:18<00:45, 99.15it/s]\n",
      "\n",
      " 29%|██████████████████████▌                                                      | 1865/6370 [00:18<00:44, 101.32it/s]\n",
      "\n",
      " 29%|██████████████████████▋                                                      | 1876/6370 [00:18<00:44, 100.10it/s]\n",
      "\n",
      " 30%|██████████████████████▊                                                      | 1887/6370 [00:18<00:44, 101.45it/s]\n",
      "\n",
      " 30%|███████████████████████▏                                                      | 1898/6370 [00:18<00:45, 99.37it/s]\n",
      "\n",
      " 30%|███████████████████████▎                                                      | 1908/6370 [00:19<00:45, 97.52it/s]\n",
      "\n",
      " 30%|███████████████████████▏                                                     | 1920/6370 [00:19<00:43, 101.49it/s]\n",
      "\n",
      " 30%|███████████████████████▎                                                     | 1931/6370 [00:19<00:42, 103.32it/s]\n",
      "\n",
      " 30%|███████████████████████▊                                                      | 1942/6370 [00:19<00:45, 97.67it/s]\n",
      "\n",
      " 31%|███████████████████████▉                                                      | 1952/6370 [00:19<00:45, 96.36it/s]\n",
      "\n",
      " 31%|████████████████████████                                                      | 1962/6370 [00:19<00:45, 96.86it/s]\n",
      "\n",
      " 31%|███████████████████████▊                                                     | 1975/6370 [00:19<00:43, 101.92it/s]\n",
      "\n",
      " 31%|████████████████████████▎                                                     | 1986/6370 [00:19<00:44, 98.88it/s]\n",
      "\n",
      " 31%|████████████████████████▍                                                     | 1996/6370 [00:19<00:45, 95.52it/s]\n",
      "\n",
      " 31%|████████████████████████▌                                                     | 2006/6370 [00:20<00:45, 94.89it/s]\n",
      "\n",
      " 32%|████████████████████████▋                                                     | 2018/6370 [00:20<00:44, 98.50it/s]\n",
      "\n",
      " 32%|████████████████████████▊                                                     | 2028/6370 [00:20<00:45, 95.00it/s]\n",
      "\n",
      " 32%|████████████████████████▉                                                     | 2039/6370 [00:20<00:44, 97.99it/s]\n",
      "\n",
      " 32%|█████████████████████████                                                     | 2049/6370 [00:20<00:43, 98.30it/s]\n",
      "\n",
      " 32%|█████████████████████████▏                                                    | 2061/6370 [00:20<00:43, 99.79it/s]\n",
      "\n",
      " 33%|█████████████████████████▎                                                    | 2072/6370 [00:20<00:43, 98.77it/s]\n",
      "\n",
      " 33%|█████████████████████████▍                                                    | 2082/6370 [00:20<00:43, 98.26it/s]\n",
      "\n",
      " 33%|█████████████████████████▌                                                    | 2092/6370 [00:20<00:44, 95.11it/s]\n",
      "\n",
      " 33%|█████████████████████████▋                                                    | 2102/6370 [00:21<00:44, 95.42it/s]\n",
      "\n",
      " 33%|█████████████████████████▊                                                    | 2112/6370 [00:21<00:44, 95.37it/s]\n",
      "\n",
      " 33%|██████████████████████████                                                    | 2124/6370 [00:21<00:42, 99.11it/s]\n",
      "\n",
      " 34%|██████████████████████████▏                                                   | 2134/6370 [00:21<00:44, 94.31it/s]\n",
      "\n",
      " 34%|██████████████████████████▎                                                   | 2145/6370 [00:21<00:42, 98.26it/s]\n",
      "\n",
      " 34%|██████████████████████████▍                                                   | 2155/6370 [00:21<00:42, 98.20it/s]\n",
      "\n",
      " 34%|██████████████████████████▌                                                   | 2165/6370 [00:21<00:44, 95.34it/s]\n",
      "\n",
      " 34%|██████████████████████████▋                                                   | 2175/6370 [00:21<00:44, 94.77it/s]\n",
      "\n",
      " 34%|██████████████████████████▊                                                   | 2187/6370 [00:21<00:42, 98.17it/s]\n",
      "\n",
      " 34%|██████████████████████████▉                                                   | 2197/6370 [00:21<00:43, 96.15it/s]\n",
      "\n"
     ]
    },
    {
     "name": "stderr",
     "output_type": "stream",
     "text": [
      " 35%|███████████████████████████                                                   | 2207/6370 [00:22<00:43, 96.15it/s]\n",
      "\n",
      " 35%|███████████████████████████▏                                                  | 2217/6370 [00:22<00:43, 94.78it/s]\n",
      "\n",
      " 35%|███████████████████████████▎                                                  | 2229/6370 [00:22<00:41, 98.67it/s]\n",
      "\n",
      " 35%|███████████████████████████▍                                                  | 2239/6370 [00:22<00:41, 98.48it/s]\n",
      "\n",
      " 35%|███████████████████████████▏                                                 | 2251/6370 [00:22<00:41, 100.17it/s]\n",
      "\n",
      " 36%|███████████████████████████▎                                                 | 2262/6370 [00:22<00:40, 102.07it/s]\n",
      "\n",
      " 36%|███████████████████████████▊                                                  | 2273/6370 [00:22<00:41, 99.78it/s]\n",
      "\n",
      " 36%|███████████████████████████▉                                                  | 2284/6370 [00:22<00:41, 97.98it/s]\n",
      "\n",
      " 36%|████████████████████████████                                                  | 2294/6370 [00:22<00:42, 96.02it/s]\n",
      "\n",
      " 36%|████████████████████████████▏                                                 | 2304/6370 [00:23<00:42, 96.06it/s]\n",
      "\n",
      " 36%|████████████████████████████▎                                                 | 2314/6370 [00:23<00:42, 96.09it/s]\n",
      "\n",
      " 36%|████████████████████████████▍                                                 | 2324/6370 [00:23<00:42, 95.01it/s]\n",
      "\n",
      " 37%|████████████████████████████▌                                                 | 2336/6370 [00:23<00:40, 99.83it/s]\n",
      "\n",
      " 37%|████████████████████████████▋                                                 | 2347/6370 [00:23<00:41, 98.01it/s]\n",
      "\n",
      " 37%|████████████████████████████▊                                                 | 2357/6370 [00:23<00:42, 95.22it/s]\n",
      "\n",
      " 37%|████████████████████████████▉                                                 | 2367/6370 [00:23<00:41, 95.77it/s]\n",
      "\n",
      " 37%|█████████████████████████████                                                 | 2377/6370 [00:23<00:41, 96.16it/s]\n",
      "\n",
      " 37%|█████████████████████████████▏                                                | 2387/6370 [00:23<00:42, 93.73it/s]\n",
      "\n",
      " 38%|█████████████████████████████▎                                                | 2397/6370 [00:24<00:45, 86.59it/s]\n",
      "\n",
      " 38%|█████████████████████████████▍                                                | 2406/6370 [00:24<00:49, 79.47it/s]\n",
      "\n",
      " 38%|█████████████████████████████▌                                                | 2415/6370 [00:24<00:49, 79.52it/s]\n",
      "\n",
      " 38%|█████████████████████████████▋                                                | 2424/6370 [00:24<00:50, 77.70it/s]\n",
      "\n",
      " 38%|█████████████████████████████▊                                                | 2433/6370 [00:24<00:48, 80.81it/s]\n",
      "\n",
      " 38%|█████████████████████████████▉                                                | 2444/6370 [00:24<00:46, 85.15it/s]\n",
      "\n",
      " 39%|██████████████████████████████                                                | 2453/6370 [00:24<00:49, 79.02it/s]\n",
      "\n",
      " 39%|██████████████████████████████▏                                               | 2462/6370 [00:24<00:52, 75.05it/s]\n",
      "\n",
      " 39%|██████████████████████████████▏                                               | 2470/6370 [00:25<00:57, 67.39it/s]\n",
      "\n",
      " 39%|██████████████████████████████▎                                               | 2478/6370 [00:25<00:56, 68.55it/s]\n",
      "\n",
      " 39%|██████████████████████████████▍                                               | 2486/6370 [00:25<00:55, 69.93it/s]\n",
      "\n",
      " 39%|██████████████████████████████▌                                               | 2496/6370 [00:25<00:52, 74.30it/s]\n",
      "\n",
      " 39%|██████████████████████████████▋                                               | 2504/6370 [00:25<00:52, 74.02it/s]\n",
      "\n",
      " 39%|██████████████████████████████▊                                               | 2513/6370 [00:25<00:51, 75.44it/s]\n",
      "\n",
      " 40%|██████████████████████████████▊                                               | 2521/6370 [00:25<00:50, 75.66it/s]\n",
      "\n",
      " 40%|██████████████████████████████▉                                               | 2530/6370 [00:25<00:48, 78.63it/s]\n",
      "\n",
      " 40%|███████████████████████████████                                               | 2539/6370 [00:25<00:47, 81.06it/s]\n",
      "\n",
      " 40%|███████████████████████████████▏                                              | 2548/6370 [00:26<00:47, 81.29it/s]\n",
      "\n",
      " 40%|███████████████████████████████▎                                              | 2557/6370 [00:26<00:46, 82.34it/s]\n",
      "\n",
      " 40%|███████████████████████████████▍                                              | 2566/6370 [00:26<00:46, 81.51it/s]\n",
      "\n",
      " 40%|███████████████████████████████▌                                              | 2575/6370 [00:26<00:45, 82.96it/s]\n",
      "\n",
      " 41%|███████████████████████████████▋                                              | 2585/6370 [00:26<00:43, 87.43it/s]\n",
      "\n",
      " 41%|███████████████████████████████▊                                              | 2594/6370 [00:26<00:44, 84.70it/s]\n",
      "\n",
      " 41%|███████████████████████████████▊                                              | 2603/6370 [00:26<00:44, 84.05it/s]\n",
      "\n",
      " 41%|████████████████████████████████                                              | 2614/6370 [00:26<00:42, 87.43it/s]\n",
      "\n",
      " 41%|████████████████████████████████                                              | 2623/6370 [00:26<00:43, 86.66it/s]\n",
      "\n",
      " 41%|████████████████████████████████▏                                             | 2632/6370 [00:27<00:43, 85.63it/s]\n",
      "\n",
      " 41%|████████████████████████████████▎                                             | 2641/6370 [00:27<00:44, 84.69it/s]\n",
      "\n",
      " 42%|████████████████████████████████▍                                             | 2650/6370 [00:27<00:45, 81.31it/s]\n",
      "\n",
      " 42%|████████████████████████████████▌                                             | 2659/6370 [00:27<00:46, 79.52it/s]\n",
      "\n",
      " 42%|████████████████████████████████▋                                             | 2667/6370 [00:27<00:47, 77.35it/s]\n",
      "\n",
      " 42%|████████████████████████████████▊                                             | 2678/6370 [00:27<00:44, 83.56it/s]\n",
      "\n",
      " 42%|████████████████████████████████▉                                             | 2687/6370 [00:27<00:43, 84.67it/s]\n",
      "\n",
      " 42%|█████████████████████████████████                                             | 2699/6370 [00:27<00:40, 90.35it/s]\n",
      "\n",
      " 43%|█████████████████████████████████▏                                            | 2709/6370 [00:27<00:40, 89.31it/s]\n",
      "\n",
      " 43%|█████████████████████████████████▎                                            | 2719/6370 [00:28<00:40, 91.01it/s]\n",
      "\n",
      " 43%|█████████████████████████████████▍                                            | 2729/6370 [00:28<00:40, 89.51it/s]\n",
      "\n",
      " 43%|█████████████████████████████████▌                                            | 2739/6370 [00:28<00:40, 88.97it/s]\n",
      "\n",
      " 43%|█████████████████████████████████▋                                            | 2748/6370 [00:28<00:40, 88.75it/s]\n",
      "\n",
      " 43%|█████████████████████████████████▊                                            | 2757/6370 [00:28<00:41, 87.56it/s]\n",
      "\n",
      " 43%|█████████████████████████████████▉                                            | 2768/6370 [00:28<00:39, 90.73it/s]\n",
      "\n",
      " 44%|██████████████████████████████████                                            | 2778/6370 [00:28<00:40, 89.32it/s]\n",
      "\n",
      " 44%|██████████████████████████████████▏                                           | 2788/6370 [00:28<00:39, 91.52it/s]\n",
      "\n",
      " 44%|██████████████████████████████████▎                                           | 2799/6370 [00:28<00:38, 93.43it/s]\n",
      "\n",
      " 44%|██████████████████████████████████▍                                           | 2809/6370 [00:29<00:38, 93.18it/s]\n",
      "\n",
      " 44%|██████████████████████████████████▌                                           | 2820/6370 [00:29<00:37, 95.62it/s]\n",
      "\n",
      " 44%|██████████████████████████████████▋                                           | 2830/6370 [00:29<00:38, 91.07it/s]\n",
      "\n",
      " 45%|██████████████████████████████████▊                                           | 2842/6370 [00:29<00:37, 95.13it/s]\n",
      "\n",
      " 45%|██████████████████████████████████▉                                           | 2852/6370 [00:29<00:38, 91.76it/s]\n",
      "\n"
     ]
    },
    {
     "name": "stderr",
     "output_type": "stream",
     "text": [
      " 45%|███████████████████████████████████                                           | 2862/6370 [00:29<00:38, 91.00it/s]\n",
      "\n",
      " 45%|███████████████████████████████████▏                                          | 2872/6370 [00:29<00:38, 90.73it/s]\n",
      "\n",
      " 45%|███████████████████████████████████▎                                          | 2884/6370 [00:29<00:36, 96.01it/s]\n",
      "\n",
      " 45%|███████████████████████████████████▍                                          | 2894/6370 [00:29<00:35, 96.61it/s]\n",
      "\n",
      " 46%|███████████████████████████████████▌                                          | 2904/6370 [00:30<00:37, 92.98it/s]\n",
      "\n",
      " 46%|███████████████████████████████████▋                                          | 2916/6370 [00:30<00:35, 96.12it/s]\n",
      "\n",
      " 46%|███████████████████████████████████▊                                          | 2926/6370 [00:30<00:37, 92.66it/s]\n",
      "\n",
      " 46%|███████████████████████████████████▉                                          | 2937/6370 [00:30<00:36, 93.30it/s]\n",
      "\n",
      " 46%|████████████████████████████████████                                          | 2947/6370 [00:30<00:36, 94.67it/s]\n",
      "\n",
      " 46%|████████████████████████████████████▏                                         | 2959/6370 [00:30<00:35, 97.14it/s]\n",
      "\n",
      " 47%|████████████████████████████████████▎                                         | 2969/6370 [00:30<00:34, 97.70it/s]\n",
      "\n",
      " 47%|████████████████████████████████████▍                                         | 2979/6370 [00:30<00:36, 93.94it/s]\n",
      "\n",
      " 47%|████████████████████████████████████▌                                         | 2989/6370 [00:30<00:35, 95.13it/s]\n",
      "\n",
      " 47%|████████████████████████████████████▋                                         | 2999/6370 [00:31<00:36, 92.27it/s]\n",
      "\n",
      " 47%|████████████████████████████████████▊                                         | 3009/6370 [00:31<00:37, 90.36it/s]\n",
      "\n",
      " 47%|████████████████████████████████████▉                                         | 3019/6370 [00:31<00:39, 85.20it/s]\n",
      "\n",
      " 48%|█████████████████████████████████████                                         | 3028/6370 [00:31<00:40, 82.99it/s]\n",
      "\n",
      " 48%|█████████████████████████████████████▏                                        | 3037/6370 [00:31<00:40, 81.96it/s]\n",
      "\n",
      " 48%|█████████████████████████████████████▎                                        | 3046/6370 [00:31<00:39, 83.51it/s]\n",
      "\n",
      " 48%|█████████████████████████████████████▍                                        | 3057/6370 [00:31<00:36, 89.58it/s]\n",
      "\n",
      " 48%|█████████████████████████████████████▌                                        | 3067/6370 [00:31<00:37, 88.07it/s]\n",
      "\n",
      " 48%|█████████████████████████████████████▋                                        | 3076/6370 [00:31<00:38, 86.59it/s]\n",
      "\n",
      " 48%|█████████████████████████████████████▊                                        | 3087/6370 [00:32<00:36, 91.12it/s]\n",
      "\n",
      " 49%|█████████████████████████████████████▉                                        | 3097/6370 [00:32<00:36, 88.87it/s]\n",
      "\n",
      " 49%|██████████████████████████████████████                                        | 3106/6370 [00:32<00:37, 87.90it/s]\n",
      "\n",
      " 49%|██████████████████████████████████████▏                                       | 3117/6370 [00:32<00:35, 91.44it/s]\n",
      "\n",
      " 49%|██████████████████████████████████████▎                                       | 3127/6370 [00:32<00:35, 92.55it/s]\n",
      "\n",
      " 49%|█████████████████████████████████████▉                                       | 3141/6370 [00:32<00:32, 100.15it/s]\n",
      "\n",
      " 49%|██████████████████████████████████████▌                                       | 3152/6370 [00:32<00:32, 98.23it/s]\n",
      "\n",
      " 50%|██████████████████████████████████████▋                                       | 3162/6370 [00:32<00:34, 93.49it/s]\n",
      "\n",
      " 50%|██████████████████████████████████████▊                                       | 3173/6370 [00:32<00:33, 94.37it/s]\n",
      "\n",
      " 50%|██████████████████████████████████████▉                                       | 3183/6370 [00:33<00:34, 91.26it/s]\n",
      "\n",
      " 50%|███████████████████████████████████████                                       | 3194/6370 [00:33<00:34, 92.30it/s]\n",
      "\n",
      " 50%|███████████████████████████████████████▏                                      | 3205/6370 [00:33<00:34, 93.05it/s]\n",
      "\n",
      " 50%|███████████████████████████████████████▎                                      | 3215/6370 [00:33<00:34, 90.39it/s]\n",
      "\n",
      " 51%|███████████████████████████████████████▌                                      | 3226/6370 [00:33<00:34, 91.68it/s]\n",
      "\n",
      " 51%|███████████████████████████████████████▌                                      | 3236/6370 [00:33<00:34, 89.72it/s]\n",
      "\n",
      " 51%|███████████████████████████████████████▋                                      | 3246/6370 [00:33<00:34, 89.35it/s]\n",
      "\n",
      " 51%|███████████████████████████████████████▊                                      | 3256/6370 [00:33<00:34, 90.79it/s]\n",
      "\n",
      " 51%|███████████████████████████████████████▉                                      | 3266/6370 [00:33<00:34, 89.61it/s]\n",
      "\n",
      " 51%|████████████████████████████████████████                                      | 3275/6370 [00:34<00:34, 89.46it/s]\n",
      "\n",
      " 52%|████████████████████████████████████████▏                                     | 3284/6370 [00:34<00:35, 86.52it/s]\n",
      "\n",
      " 52%|████████████████████████████████████████▎                                     | 3294/6370 [00:34<00:34, 89.44it/s]\n",
      "\n",
      " 52%|████████████████████████████████████████▍                                     | 3303/6370 [00:34<00:34, 89.61it/s]\n",
      "\n",
      " 52%|████████████████████████████████████████▌                                     | 3312/6370 [00:34<00:34, 87.37it/s]\n",
      "\n",
      " 52%|████████████████████████████████████████▋                                     | 3324/6370 [00:34<00:32, 93.57it/s]\n",
      "\n",
      " 52%|████████████████████████████████████████▊                                     | 3334/6370 [00:34<00:33, 90.74it/s]\n",
      "\n",
      " 52%|████████████████████████████████████████▉                                     | 3344/6370 [00:34<00:33, 89.57it/s]\n",
      "\n",
      " 53%|█████████████████████████████████████████                                     | 3354/6370 [00:34<00:34, 88.53it/s]\n",
      "\n",
      " 53%|█████████████████████████████████████████▏                                    | 3363/6370 [00:35<00:34, 87.67it/s]\n",
      "\n",
      " 53%|█████████████████████████████████████████▎                                    | 3373/6370 [00:35<00:33, 88.15it/s]\n",
      "\n",
      " 53%|█████████████████████████████████████████▍                                    | 3382/6370 [00:35<00:33, 87.92it/s]\n",
      "\n",
      " 53%|█████████████████████████████████████████▌                                    | 3391/6370 [00:35<00:34, 86.74it/s]\n",
      "\n",
      " 53%|█████████████████████████████████████████▋                                    | 3402/6370 [00:35<00:32, 90.56it/s]\n",
      "\n",
      " 54%|█████████████████████████████████████████▊                                    | 3412/6370 [00:35<00:33, 88.97it/s]\n",
      "\n",
      " 54%|█████████████████████████████████████████▉                                    | 3422/6370 [00:35<00:32, 90.51it/s]\n",
      "\n",
      " 54%|██████████████████████████████████████████                                    | 3432/6370 [00:35<00:32, 90.39it/s]\n",
      "\n",
      " 54%|██████████████████████████████████████████▏                                   | 3442/6370 [00:35<00:32, 89.09it/s]\n",
      "\n",
      " 54%|██████████████████████████████████████████▎                                   | 3452/6370 [00:36<00:31, 92.10it/s]\n",
      "\n",
      " 54%|██████████████████████████████████████████▍                                   | 3462/6370 [00:36<00:32, 90.01it/s]\n",
      "\n",
      " 55%|██████████████████████████████████████████▌                                   | 3472/6370 [00:36<00:32, 88.36it/s]\n",
      "\n",
      " 55%|██████████████████████████████████████████▌                                   | 3481/6370 [00:36<00:33, 87.30it/s]\n",
      "\n",
      " 55%|██████████████████████████████████████████▊                                   | 3492/6370 [00:36<00:31, 91.21it/s]\n",
      "\n",
      " 55%|██████████████████████████████████████████▉                                   | 3502/6370 [00:36<00:32, 89.17it/s]\n",
      "\n",
      " 55%|███████████████████████████████████████████                                   | 3512/6370 [00:36<00:31, 91.91it/s]\n",
      "\n",
      " 55%|███████████████████████████████████████████▏                                  | 3522/6370 [00:36<00:31, 89.88it/s]\n",
      "\n",
      " 55%|███████████████████████████████████████████▏                                  | 3532/6370 [00:36<00:32, 87.35it/s]\n",
      "\n"
     ]
    },
    {
     "name": "stderr",
     "output_type": "stream",
     "text": [
      " 56%|███████████████████████████████████████████▍                                  | 3543/6370 [00:37<00:30, 91.25it/s]\n",
      "\n",
      " 56%|███████████████████████████████████████████▌                                  | 3553/6370 [00:37<00:31, 89.43it/s]\n",
      "\n",
      " 56%|███████████████████████████████████████████▋                                  | 3563/6370 [00:37<00:30, 91.60it/s]\n",
      "\n",
      " 56%|███████████████████████████████████████████▊                                  | 3573/6370 [00:37<00:31, 90.16it/s]\n",
      "\n",
      " 56%|███████████████████████████████████████████▊                                  | 3583/6370 [00:37<00:31, 88.23it/s]\n",
      "\n",
      " 56%|███████████████████████████████████████████▉                                  | 3592/6370 [00:37<00:32, 86.45it/s]\n",
      "\n",
      " 57%|████████████████████████████████████████████                                  | 3602/6370 [00:37<00:31, 88.91it/s]\n",
      "\n",
      " 57%|████████████████████████████████████████████▏                                 | 3611/6370 [00:37<00:32, 84.46it/s]\n",
      "\n",
      " 57%|████████████████████████████████████████████▎                                 | 3622/6370 [00:37<00:31, 87.74it/s]\n",
      "\n",
      " 57%|████████████████████████████████████████████▍                                 | 3631/6370 [00:38<00:32, 85.39it/s]\n",
      "\n",
      " 57%|████████████████████████████████████████████▌                                 | 3642/6370 [00:38<00:30, 90.18it/s]\n",
      "\n",
      " 57%|████████████████████████████████████████████▋                                 | 3652/6370 [00:38<00:29, 92.92it/s]\n",
      "\n",
      " 58%|████████████████████████████████████████████▊                                 | 3663/6370 [00:38<00:28, 93.72it/s]\n",
      "\n",
      " 58%|████████████████████████████████████████████▉                                 | 3673/6370 [00:38<00:29, 91.58it/s]\n",
      "\n",
      " 58%|█████████████████████████████████████████████                                 | 3683/6370 [00:38<00:28, 92.91it/s]\n",
      "\n",
      " 58%|█████████████████████████████████████████████▏                                | 3693/6370 [00:38<00:29, 90.79it/s]\n",
      "\n",
      " 58%|█████████████████████████████████████████████▎                                | 3703/6370 [00:38<00:30, 88.89it/s]\n",
      "\n",
      " 58%|█████████████████████████████████████████████▍                                | 3712/6370 [00:38<00:29, 89.22it/s]\n",
      "\n",
      " 58%|█████████████████████████████████████████████▌                                | 3721/6370 [00:39<00:30, 86.86it/s]\n",
      "\n",
      " 59%|█████████████████████████████████████████████▋                                | 3730/6370 [00:39<00:30, 86.51it/s]\n",
      "\n",
      " 59%|█████████████████████████████████████████████▊                                | 3739/6370 [00:39<00:30, 87.02it/s]\n",
      "\n",
      " 59%|█████████████████████████████████████████████▉                                | 3748/6370 [00:39<00:30, 86.88it/s]\n",
      "\n",
      " 59%|██████████████████████████████████████████████                                | 3759/6370 [00:39<00:28, 90.44it/s]\n",
      "\n",
      " 59%|██████████████████████████████████████████████▏                               | 3769/6370 [00:39<00:29, 88.42it/s]\n",
      "\n",
      " 59%|██████████████████████████████████████████████▎                               | 3778/6370 [00:39<00:29, 88.89it/s]\n",
      "\n",
      " 59%|██████████████████████████████████████████████▎                               | 3787/6370 [00:39<00:29, 86.89it/s]\n",
      "\n",
      " 60%|██████████████████████████████████████████████▌                               | 3798/6370 [00:39<00:28, 91.58it/s]\n",
      "\n",
      " 60%|██████████████████████████████████████████████▋                               | 3808/6370 [00:40<00:28, 89.18it/s]\n",
      "\n",
      " 60%|██████████████████████████████████████████████▋                               | 3817/6370 [00:40<00:29, 87.09it/s]\n",
      "\n",
      " 60%|██████████████████████████████████████████████▊                               | 3826/6370 [00:40<00:29, 87.43it/s]\n",
      "\n",
      " 60%|██████████████████████████████████████████████▉                               | 3835/6370 [00:40<00:28, 87.67it/s]\n",
      "\n",
      " 60%|███████████████████████████████████████████████                               | 3844/6370 [00:40<00:28, 87.33it/s]\n",
      "\n",
      " 60%|███████████████████████████████████████████████▏                              | 3853/6370 [00:40<00:28, 86.84it/s]\n",
      "\n",
      " 61%|███████████████████████████████████████████████▎                              | 3863/6370 [00:40<00:28, 88.96it/s]\n",
      "\n",
      " 61%|███████████████████████████████████████████████▍                              | 3872/6370 [00:40<00:28, 88.74it/s]\n",
      "\n",
      " 61%|███████████████████████████████████████████████▌                              | 3881/6370 [00:40<00:28, 88.07it/s]\n",
      "\n",
      " 61%|███████████████████████████████████████████████▋                              | 3890/6370 [00:40<00:28, 86.10it/s]\n",
      "\n",
      " 61%|███████████████████████████████████████████████▋                              | 3899/6370 [00:41<00:29, 83.82it/s]\n",
      "\n",
      " 61%|███████████████████████████████████████████████▉                              | 3910/6370 [00:41<00:27, 88.95it/s]\n",
      "\n",
      " 62%|███████████████████████████████████████████████▉                              | 3919/6370 [00:41<00:30, 79.14it/s]\n",
      "\n",
      " 62%|████████████████████████████████████████████████                              | 3929/6370 [00:41<00:28, 84.21it/s]\n",
      "\n",
      " 62%|████████████████████████████████████████████████▏                             | 3939/6370 [00:41<00:28, 86.11it/s]\n",
      "\n",
      " 62%|████████████████████████████████████████████████▎                             | 3950/6370 [00:41<00:26, 89.64it/s]\n",
      "\n",
      " 62%|████████████████████████████████████████████████▌                             | 3961/6370 [00:41<00:25, 92.75it/s]\n",
      "\n",
      " 62%|████████████████████████████████████████████████▌                             | 3971/6370 [00:41<00:26, 89.95it/s]\n",
      "\n",
      " 62%|████████████████████████████████████████████████▋                             | 3981/6370 [00:42<00:27, 85.60it/s]\n",
      "\n",
      " 63%|████████████████████████████████████████████████▊                             | 3990/6370 [00:42<00:27, 85.88it/s]\n",
      "\n",
      " 63%|████████████████████████████████████████████████▉                             | 3999/6370 [00:42<00:28, 83.21it/s]\n",
      "\n",
      " 63%|█████████████████████████████████████████████████                             | 4008/6370 [00:42<00:28, 81.66it/s]\n",
      "\n",
      " 63%|█████████████████████████████████████████████████▏                            | 4017/6370 [00:42<00:29, 79.33it/s]\n",
      "\n",
      " 63%|█████████████████████████████████████████████████▎                            | 4028/6370 [00:42<00:27, 83.80it/s]\n",
      "\n",
      " 63%|█████████████████████████████████████████████████▍                            | 4038/6370 [00:42<00:27, 86.04it/s]\n",
      "\n",
      " 64%|█████████████████████████████████████████████████▌                            | 4048/6370 [00:42<00:26, 88.37it/s]\n",
      "\n",
      " 64%|█████████████████████████████████████████████████▋                            | 4057/6370 [00:42<00:26, 87.81it/s]\n",
      "\n",
      " 64%|█████████████████████████████████████████████████▊                            | 4067/6370 [00:43<00:26, 87.78it/s]\n",
      "\n",
      " 64%|█████████████████████████████████████████████████▉                            | 4076/6370 [00:43<00:27, 84.45it/s]\n",
      "\n",
      " 64%|██████████████████████████████████████████████████                            | 4085/6370 [00:43<00:26, 85.55it/s]\n",
      "\n",
      " 64%|██████████████████████████████████████████████████▏                           | 4094/6370 [00:43<00:27, 83.00it/s]\n",
      "\n",
      " 64%|██████████████████████████████████████████████████▏                           | 4103/6370 [00:43<00:27, 83.10it/s]\n",
      "\n",
      " 65%|██████████████████████████████████████████████████▍                           | 4114/6370 [00:43<00:25, 87.54it/s]\n",
      "\n",
      " 65%|██████████████████████████████████████████████████▍                           | 4123/6370 [00:43<00:26, 85.98it/s]\n",
      "\n",
      " 65%|██████████████████████████████████████████████████▌                           | 4133/6370 [00:43<00:25, 88.33it/s]\n",
      "\n",
      " 65%|██████████████████████████████████████████████████▋                           | 4143/6370 [00:43<00:24, 89.81it/s]\n",
      "\n",
      " 65%|██████████████████████████████████████████████████▊                           | 4153/6370 [00:44<00:25, 86.40it/s]\n",
      "\n",
      " 65%|██████████████████████████████████████████████████▉                           | 4164/6370 [00:44<00:24, 88.77it/s]\n",
      "\n",
      " 66%|███████████████████████████████████████████████████                           | 4173/6370 [00:44<00:25, 86.06it/s]\n",
      "\n",
      " 66%|███████████████████████████████████████████████████▏                          | 4182/6370 [00:44<00:25, 84.74it/s]\n",
      "\n"
     ]
    },
    {
     "name": "stderr",
     "output_type": "stream",
     "text": [
      " 66%|███████████████████████████████████████████████████▎                          | 4192/6370 [00:44<00:25, 86.06it/s]\n",
      "\n",
      " 66%|███████████████████████████████████████████████████▍                          | 4201/6370 [00:44<00:25, 84.26it/s]\n",
      "\n",
      " 66%|███████████████████████████████████████████████████▌                          | 4210/6370 [00:44<00:25, 84.46it/s]\n",
      "\n",
      " 66%|███████████████████████████████████████████████████▋                          | 4220/6370 [00:44<00:24, 88.35it/s]\n",
      "\n",
      " 66%|███████████████████████████████████████████████████▊                          | 4229/6370 [00:44<00:25, 85.55it/s]\n",
      "\n",
      " 67%|███████████████████████████████████████████████████▉                          | 4238/6370 [00:45<00:24, 85.84it/s]\n",
      "\n",
      " 67%|████████████████████████████████████████████████████                          | 4248/6370 [00:45<00:24, 86.40it/s]\n",
      "\n",
      " 67%|████████████████████████████████████████████████████▏                         | 4257/6370 [00:45<00:24, 86.94it/s]\n",
      "\n",
      " 67%|████████████████████████████████████████████████████▏                         | 4266/6370 [00:45<00:24, 87.58it/s]\n",
      "\n",
      " 67%|████████████████████████████████████████████████████▎                         | 4275/6370 [00:45<00:24, 84.56it/s]\n",
      "\n",
      " 67%|████████████████████████████████████████████████████▍                         | 4284/6370 [00:45<00:24, 86.12it/s]\n",
      "\n",
      " 67%|████████████████████████████████████████████████████▌                         | 4293/6370 [00:45<00:23, 87.00it/s]\n",
      "\n",
      " 68%|████████████████████████████████████████████████████▋                         | 4302/6370 [00:45<00:24, 83.94it/s]\n",
      "\n",
      " 68%|████████████████████████████████████████████████████▊                         | 4312/6370 [00:45<00:24, 84.82it/s]\n",
      "\n",
      " 68%|████████████████████████████████████████████████████▉                         | 4321/6370 [00:45<00:23, 85.57it/s]\n",
      "\n",
      " 68%|█████████████████████████████████████████████████████                         | 4331/6370 [00:46<00:23, 85.98it/s]\n",
      "\n",
      " 68%|█████████████████████████████████████████████████████▏                        | 4340/6370 [00:46<00:25, 79.32it/s]\n",
      "\n",
      " 68%|█████████████████████████████████████████████████████▎                        | 4349/6370 [00:46<00:26, 76.77it/s]\n",
      "\n",
      " 68%|█████████████████████████████████████████████████████▍                        | 4359/6370 [00:46<00:25, 79.95it/s]\n",
      "\n",
      " 69%|█████████████████████████████████████████████████████▍                        | 4369/6370 [00:46<00:24, 82.95it/s]\n",
      "\n",
      " 69%|█████████████████████████████████████████████████████▌                        | 4378/6370 [00:46<00:25, 77.29it/s]\n",
      "\n",
      " 69%|█████████████████████████████████████████████████████▋                        | 4386/6370 [00:46<00:26, 76.08it/s]\n",
      "\n",
      " 69%|█████████████████████████████████████████████████████▊                        | 4394/6370 [00:46<00:26, 74.83it/s]\n",
      "\n",
      " 69%|█████████████████████████████████████████████████████▉                        | 4402/6370 [00:47<00:26, 74.19it/s]\n",
      "\n",
      " 69%|██████████████████████████████████████████████████████                        | 4410/6370 [00:47<00:26, 72.74it/s]\n",
      "\n",
      " 69%|██████████████████████████████████████████████████████                        | 4418/6370 [00:47<00:26, 73.33it/s]\n",
      "\n",
      " 69%|██████████████████████████████████████████████████████▏                       | 4426/6370 [00:47<00:25, 74.79it/s]\n",
      "\n",
      " 70%|██████████████████████████████████████████████████████▎                       | 4436/6370 [00:47<00:24, 78.44it/s]\n",
      "\n",
      " 70%|██████████████████████████████████████████████████████▍                       | 4444/6370 [00:47<00:24, 77.30it/s]\n",
      "\n",
      " 70%|██████████████████████████████████████████████████████▌                       | 4452/6370 [00:47<00:24, 77.86it/s]\n",
      "\n",
      " 70%|██████████████████████████████████████████████████████▌                       | 4460/6370 [00:47<00:24, 76.91it/s]\n",
      "\n",
      " 70%|██████████████████████████████████████████████████████▋                       | 4469/6370 [00:47<00:23, 80.20it/s]\n",
      "\n",
      " 70%|██████████████████████████████████████████████████████▊                       | 4478/6370 [00:48<00:23, 80.25it/s]\n",
      "\n",
      " 70%|██████████████████████████████████████████████████████▉                       | 4487/6370 [00:48<00:23, 79.22it/s]\n",
      "\n",
      " 71%|███████████████████████████████████████████████████████                       | 4495/6370 [00:48<00:23, 79.22it/s]\n",
      "\n",
      " 71%|███████████████████████████████████████████████████████▏                      | 4503/6370 [00:48<00:23, 78.75it/s]\n",
      "\n",
      " 71%|███████████████████████████████████████████████████████▏                      | 4511/6370 [00:48<00:24, 74.69it/s]\n",
      "\n",
      " 71%|███████████████████████████████████████████████████████▎                      | 4519/6370 [00:48<00:25, 73.27it/s]\n",
      "\n",
      " 71%|███████████████████████████████████████████████████████▍                      | 4527/6370 [00:48<00:25, 73.11it/s]\n",
      "\n",
      " 71%|███████████████████████████████████████████████████████▌                      | 4535/6370 [00:48<00:24, 73.60it/s]\n",
      "\n",
      " 71%|███████████████████████████████████████████████████████▋                      | 4543/6370 [00:48<00:25, 72.34it/s]\n",
      "\n",
      " 71%|███████████████████████████████████████████████████████▋                      | 4551/6370 [00:49<00:25, 71.87it/s]\n",
      "\n",
      " 72%|███████████████████████████████████████████████████████▊                      | 4559/6370 [00:49<00:25, 70.60it/s]\n",
      "\n",
      " 72%|███████████████████████████████████████████████████████▉                      | 4567/6370 [00:49<00:25, 71.03it/s]\n",
      "\n",
      " 72%|████████████████████████████████████████████████████████                      | 4575/6370 [00:49<00:24, 71.92it/s]\n",
      "\n",
      " 72%|████████████████████████████████████████████████████████                      | 4583/6370 [00:49<00:25, 71.20it/s]\n",
      "\n",
      " 72%|████████████████████████████████████████████████████████▏                     | 4591/6370 [00:49<00:24, 72.62it/s]\n",
      "\n",
      " 72%|████████████████████████████████████████████████████████▎                     | 4599/6370 [00:49<00:24, 71.68it/s]\n",
      "\n",
      " 72%|████████████████████████████████████████████████████████▍                     | 4607/6370 [00:49<00:24, 71.41it/s]\n",
      "\n",
      " 72%|████████████████████████████████████████████████████████▌                     | 4615/6370 [00:49<00:24, 71.04it/s]\n",
      "\n",
      " 73%|████████████████████████████████████████████████████████▌                     | 4623/6370 [00:50<00:24, 70.96it/s]\n",
      "\n",
      " 73%|████████████████████████████████████████████████████████▋                     | 4631/6370 [00:50<00:24, 71.68it/s]\n",
      "\n",
      " 73%|████████████████████████████████████████████████████████▊                     | 4640/6370 [00:50<00:23, 73.35it/s]\n",
      "\n",
      " 73%|████████████████████████████████████████████████████████▉                     | 4648/6370 [00:50<00:23, 73.37it/s]\n",
      "\n",
      " 73%|█████████████████████████████████████████████████████████                     | 4656/6370 [00:50<00:23, 73.37it/s]\n",
      "\n",
      " 73%|█████████████████████████████████████████████████████████                     | 4664/6370 [00:50<00:23, 72.98it/s]\n",
      "\n",
      " 73%|█████████████████████████████████████████████████████████▏                    | 4672/6370 [00:50<00:23, 73.51it/s]\n",
      "\n",
      " 73%|█████████████████████████████████████████████████████████▎                    | 4680/6370 [00:50<00:23, 71.31it/s]\n",
      "\n",
      " 74%|█████████████████████████████████████████████████████████▍                    | 4689/6370 [00:50<00:22, 73.80it/s]\n",
      "\n",
      " 74%|█████████████████████████████████████████████████████████▌                    | 4697/6370 [00:51<00:22, 74.30it/s]\n",
      "\n",
      " 74%|█████████████████████████████████████████████████████████▌                    | 4706/6370 [00:51<00:21, 76.40it/s]\n",
      "\n",
      " 74%|█████████████████████████████████████████████████████████▋                    | 4715/6370 [00:51<00:20, 79.40it/s]\n",
      "\n",
      " 74%|█████████████████████████████████████████████████████████▊                    | 4723/6370 [00:51<00:20, 78.87it/s]\n",
      "\n",
      " 74%|█████████████████████████████████████████████████████████▉                    | 4733/6370 [00:51<00:19, 82.13it/s]\n",
      "\n",
      " 74%|██████████████████████████████████████████████████████████                    | 4742/6370 [00:51<00:19, 83.41it/s]\n",
      "\n",
      " 75%|██████████████████████████████████████████████████████████▏                   | 4751/6370 [00:51<00:20, 80.69it/s]\n",
      "\n",
      " 75%|██████████████████████████████████████████████████████████▎                   | 4761/6370 [00:51<00:19, 83.72it/s]\n",
      "\n"
     ]
    },
    {
     "name": "stderr",
     "output_type": "stream",
     "text": [
      " 75%|██████████████████████████████████████████████████████████▍                   | 4770/6370 [00:51<00:19, 82.00it/s]\n",
      "\n",
      " 75%|██████████████████████████████████████████████████████████▌                   | 4779/6370 [00:52<00:19, 82.85it/s]\n",
      "\n",
      " 75%|██████████████████████████████████████████████████████████▋                   | 4788/6370 [00:52<00:19, 81.64it/s]\n",
      "\n",
      " 75%|██████████████████████████████████████████████████████████▊                   | 4798/6370 [00:52<00:18, 85.95it/s]\n",
      "\n",
      " 75%|██████████████████████████████████████████████████████████▊                   | 4807/6370 [00:52<00:18, 85.64it/s]\n",
      "\n",
      " 76%|██████████████████████████████████████████████████████████▉                   | 4817/6370 [00:52<00:17, 87.61it/s]\n",
      "\n",
      " 76%|███████████████████████████████████████████████████████████                   | 4826/6370 [00:52<00:17, 87.29it/s]\n",
      "\n",
      " 76%|███████████████████████████████████████████████████████████▏                  | 4835/6370 [00:52<00:18, 84.37it/s]\n",
      "\n",
      " 76%|███████████████████████████████████████████████████████████▎                  | 4844/6370 [00:52<00:18, 81.76it/s]\n",
      "\n",
      " 76%|███████████████████████████████████████████████████████████▍                  | 4853/6370 [00:52<00:18, 80.90it/s]\n",
      "\n",
      " 76%|███████████████████████████████████████████████████████████▌                  | 4862/6370 [00:52<00:18, 80.95it/s]\n",
      "\n",
      " 76%|███████████████████████████████████████████████████████████▋                  | 4871/6370 [00:53<00:18, 81.88it/s]\n",
      "\n",
      " 77%|███████████████████████████████████████████████████████████▊                  | 4881/6370 [00:53<00:17, 83.13it/s]\n",
      "\n",
      " 77%|███████████████████████████████████████████████████████████▉                  | 4890/6370 [00:53<00:17, 83.42it/s]\n",
      "\n",
      " 77%|████████████████████████████████████████████████████████████                  | 4900/6370 [00:53<00:17, 85.98it/s]\n",
      "\n",
      " 77%|████████████████████████████████████████████████████████████                  | 4909/6370 [00:53<00:16, 86.64it/s]\n",
      "\n",
      " 77%|████████████████████████████████████████████████████████████▏                 | 4918/6370 [00:53<00:17, 83.48it/s]\n",
      "\n",
      " 77%|████████████████████████████████████████████████████████████▎                 | 4927/6370 [00:53<00:16, 85.09it/s]\n",
      "\n",
      " 77%|████████████████████████████████████████████████████████████▍                 | 4936/6370 [00:53<00:17, 82.92it/s]\n",
      "\n",
      " 78%|████████████████████████████████████████████████████████████▌                 | 4945/6370 [00:53<00:17, 80.81it/s]\n",
      "\n",
      " 78%|████████████████████████████████████████████████████████████▋                 | 4954/6370 [00:54<00:17, 83.13it/s]\n",
      "\n",
      " 78%|████████████████████████████████████████████████████████████▊                 | 4963/6370 [00:54<00:17, 81.61it/s]\n",
      "\n",
      " 78%|████████████████████████████████████████████████████████████▉                 | 4973/6370 [00:54<00:16, 82.93it/s]\n",
      "\n",
      " 78%|█████████████████████████████████████████████████████████████                 | 4982/6370 [00:54<00:17, 81.25it/s]\n",
      "\n",
      " 78%|█████████████████████████████████████████████████████████████                 | 4991/6370 [00:54<00:16, 83.46it/s]\n",
      "\n",
      " 78%|█████████████████████████████████████████████████████████████▏                | 5000/6370 [00:54<00:16, 81.39it/s]\n",
      "\n",
      " 79%|█████████████████████████████████████████████████████████████▎                | 5010/6370 [00:54<00:16, 82.77it/s]\n",
      "\n",
      " 79%|█████████████████████████████████████████████████████████████▍                | 5019/6370 [00:54<00:15, 84.58it/s]\n",
      "\n",
      " 79%|█████████████████████████████████████████████████████████████▌                | 5028/6370 [00:54<00:16, 82.35it/s]\n",
      "\n",
      " 79%|█████████████████████████████████████████████████████████████▋                | 5037/6370 [00:55<00:16, 81.52it/s]\n",
      "\n",
      " 79%|█████████████████████████████████████████████████████████████▊                | 5046/6370 [00:55<00:15, 82.96it/s]\n",
      "\n",
      " 79%|█████████████████████████████████████████████████████████████▉                | 5055/6370 [00:55<00:16, 81.27it/s]\n",
      "\n",
      " 79%|██████████████████████████████████████████████████████████████                | 5064/6370 [00:55<00:15, 83.48it/s]\n",
      "\n",
      " 80%|██████████████████████████████████████████████████████████████                | 5073/6370 [00:55<00:15, 81.18it/s]\n",
      "\n",
      " 80%|██████████████████████████████████████████████████████████████▏               | 5083/6370 [00:55<00:15, 83.03it/s]\n",
      "\n",
      " 80%|██████████████████████████████████████████████████████████████▎               | 5092/6370 [00:55<00:15, 84.29it/s]\n",
      "\n",
      " 80%|██████████████████████████████████████████████████████████████▍               | 5101/6370 [00:55<00:15, 81.94it/s]\n",
      "\n",
      " 80%|██████████████████████████████████████████████████████████████▌               | 5110/6370 [00:55<00:15, 81.02it/s]\n",
      "\n",
      " 80%|██████████████████████████████████████████████████████████████▋               | 5119/6370 [00:56<00:15, 79.53it/s]\n",
      "\n",
      " 81%|██████████████████████████████████████████████████████████████▊               | 5129/6370 [00:56<00:15, 81.62it/s]\n",
      "\n",
      " 81%|██████████████████████████████████████████████████████████████▉               | 5138/6370 [00:56<00:14, 83.50it/s]\n",
      "\n",
      " 81%|███████████████████████████████████████████████████████████████               | 5147/6370 [00:56<00:14, 81.63it/s]\n",
      "\n",
      " 81%|███████████████████████████████████████████████████████████████▏              | 5156/6370 [00:56<00:15, 80.38it/s]\n",
      "\n",
      " 81%|███████████████████████████████████████████████████████████████▏              | 5165/6370 [00:56<00:14, 82.81it/s]\n",
      "\n",
      " 81%|███████████████████████████████████████████████████████████████▎              | 5174/6370 [00:56<00:14, 80.95it/s]\n",
      "\n",
      " 81%|███████████████████████████████████████████████████████████████▍              | 5183/6370 [00:56<00:14, 80.99it/s]\n",
      "\n",
      " 82%|███████████████████████████████████████████████████████████████▌              | 5192/6370 [00:56<00:14, 83.04it/s]\n",
      "\n",
      " 82%|███████████████████████████████████████████████████████████████▋              | 5201/6370 [00:57<00:14, 80.67it/s]\n",
      "\n",
      " 82%|███████████████████████████████████████████████████████████████▊              | 5210/6370 [00:57<00:14, 79.30it/s]\n",
      "\n",
      " 82%|███████████████████████████████████████████████████████████████▉              | 5218/6370 [00:57<00:14, 77.43it/s]\n",
      "\n",
      " 82%|████████████████████████████████████████████████████████████████              | 5228/6370 [00:57<00:13, 81.63it/s]\n",
      "\n",
      " 82%|████████████████████████████████████████████████████████████████▏             | 5237/6370 [00:57<00:13, 83.50it/s]\n",
      "\n",
      " 82%|████████████████████████████████████████████████████████████████▏             | 5246/6370 [00:57<00:14, 79.47it/s]\n",
      "\n",
      " 82%|████████████████████████████████████████████████████████████████▎             | 5255/6370 [00:57<00:14, 78.08it/s]\n",
      "\n",
      " 83%|████████████████████████████████████████████████████████████████▍             | 5263/6370 [00:57<00:14, 78.41it/s]\n",
      "\n",
      " 83%|████████████████████████████████████████████████████████████████▌             | 5271/6370 [00:57<00:14, 77.28it/s]\n",
      "\n",
      " 83%|████████████████████████████████████████████████████████████████▋             | 5281/6370 [00:58<00:13, 80.53it/s]\n",
      "\n",
      " 83%|████████████████████████████████████████████████████████████████▊             | 5290/6370 [00:58<00:13, 79.62it/s]\n",
      "\n",
      " 83%|████████████████████████████████████████████████████████████████▉             | 5299/6370 [00:58<00:14, 75.81it/s]\n",
      "\n",
      " 83%|████████████████████████████████████████████████████████████████▉             | 5308/6370 [00:58<00:13, 78.94it/s]\n",
      "\n",
      " 83%|█████████████████████████████████████████████████████████████████             | 5318/6370 [00:58<00:12, 81.39it/s]\n",
      "\n",
      " 84%|█████████████████████████████████████████████████████████████████▏            | 5327/6370 [00:58<00:13, 79.57it/s]\n",
      "\n",
      " 84%|█████████████████████████████████████████████████████████████████▎            | 5337/6370 [00:58<00:12, 83.07it/s]\n",
      "\n",
      " 84%|█████████████████████████████████████████████████████████████████▍            | 5346/6370 [00:58<00:12, 83.38it/s]\n",
      "\n",
      " 84%|█████████████████████████████████████████████████████████████████▌            | 5355/6370 [00:59<00:11, 84.78it/s]\n",
      "\n",
      " 84%|█████████████████████████████████████████████████████████████████▋            | 5364/6370 [00:59<00:12, 79.22it/s]\n",
      "\n",
      " 84%|█████████████████████████████████████████████████████████████████▊            | 5373/6370 [00:59<00:12, 79.14it/s]\n",
      "\n"
     ]
    },
    {
     "name": "stderr",
     "output_type": "stream",
     "text": [
      " 84%|█████████████████████████████████████████████████████████████████▉            | 5381/6370 [00:59<00:12, 78.69it/s]\n",
      "\n",
      " 85%|█████████████████████████████████████████████████████████████████▉            | 5389/6370 [00:59<00:12, 78.61it/s]\n",
      "\n",
      " 85%|██████████████████████████████████████████████████████████████████            | 5397/6370 [00:59<00:12, 77.64it/s]\n",
      "\n",
      " 85%|██████████████████████████████████████████████████████████████████▏           | 5407/6370 [00:59<00:11, 81.80it/s]\n",
      "\n",
      " 85%|██████████████████████████████████████████████████████████████████▎           | 5416/6370 [00:59<00:11, 80.06it/s]\n",
      "\n",
      " 85%|██████████████████████████████████████████████████████████████████▍           | 5425/6370 [00:59<00:11, 82.57it/s]\n",
      "\n",
      " 85%|██████████████████████████████████████████████████████████████████▌           | 5434/6370 [01:00<00:11, 80.79it/s]\n",
      "\n",
      " 85%|██████████████████████████████████████████████████████████████████▋           | 5443/6370 [01:00<00:11, 79.80it/s]\n",
      "\n",
      " 86%|██████████████████████████████████████████████████████████████████▊           | 5452/6370 [01:00<00:11, 82.16it/s]\n",
      "\n",
      " 86%|██████████████████████████████████████████████████████████████████▊           | 5461/6370 [01:00<00:11, 80.95it/s]\n",
      "\n",
      " 86%|██████████████████████████████████████████████████████████████████▉           | 5470/6370 [01:00<00:11, 79.49it/s]\n",
      "\n",
      " 86%|███████████████████████████████████████████████████████████████████           | 5478/6370 [01:00<00:11, 76.23it/s]\n",
      "\n",
      " 86%|███████████████████████████████████████████████████████████████████▏          | 5488/6370 [01:00<00:11, 78.97it/s]\n",
      "\n",
      " 86%|███████████████████████████████████████████████████████████████████▎          | 5496/6370 [01:00<00:11, 78.57it/s]\n",
      "\n",
      " 86%|███████████████████████████████████████████████████████████████████▍          | 5504/6370 [01:00<00:11, 77.17it/s]\n",
      "\n",
      " 87%|███████████████████████████████████████████████████████████████████▍          | 5512/6370 [01:01<00:11, 77.54it/s]\n",
      "\n",
      " 87%|███████████████████████████████████████████████████████████████████▌          | 5520/6370 [01:01<00:11, 77.13it/s]\n",
      "\n",
      " 87%|███████████████████████████████████████████████████████████████████▋          | 5528/6370 [01:01<00:10, 77.52it/s]\n",
      "\n",
      " 87%|███████████████████████████████████████████████████████████████████▊          | 5536/6370 [01:01<00:10, 77.79it/s]\n",
      "\n",
      " 87%|███████████████████████████████████████████████████████████████████▉          | 5546/6370 [01:01<00:10, 80.91it/s]\n",
      "\n",
      " 87%|████████████████████████████████████████████████████████████████████          | 5555/6370 [01:01<00:10, 79.46it/s]\n",
      "\n",
      " 87%|████████████████████████████████████████████████████████████████████▏         | 5565/6370 [01:01<00:09, 81.77it/s]\n",
      "\n",
      " 88%|████████████████████████████████████████████████████████████████████▎         | 5574/6370 [01:01<00:09, 80.04it/s]\n",
      "\n",
      " 88%|████████████████████████████████████████████████████████████████████▎         | 5583/6370 [01:01<00:09, 78.87it/s]\n",
      "\n",
      " 88%|████████████████████████████████████████████████████████████████████▍         | 5593/6370 [01:02<00:09, 80.94it/s]\n",
      "\n",
      " 88%|████████████████████████████████████████████████████████████████████▌         | 5602/6370 [01:02<00:09, 79.48it/s]\n",
      "\n",
      " 88%|████████████████████████████████████████████████████████████████████▋         | 5612/6370 [01:02<00:08, 84.48it/s]\n",
      "\n",
      " 88%|████████████████████████████████████████████████████████████████████▊         | 5621/6370 [01:02<00:08, 86.06it/s]\n",
      "\n",
      " 88%|████████████████████████████████████████████████████████████████████▉         | 5630/6370 [01:02<00:08, 84.03it/s]\n",
      "\n",
      " 89%|█████████████████████████████████████████████████████████████████████         | 5639/6370 [01:02<00:08, 81.76it/s]\n",
      "\n",
      " 89%|█████████████████████████████████████████████████████████████████████▏        | 5648/6370 [01:02<00:08, 83.37it/s]\n",
      "\n",
      " 89%|█████████████████████████████████████████████████████████████████████▎        | 5657/6370 [01:02<00:08, 81.55it/s]\n",
      "\n",
      " 89%|█████████████████████████████████████████████████████████████████████▍        | 5666/6370 [01:02<00:08, 80.32it/s]\n",
      "\n",
      " 89%|█████████████████████████████████████████████████████████████████████▍        | 5675/6370 [01:03<00:08, 79.27it/s]\n",
      "\n",
      " 89%|█████████████████████████████████████████████████████████████████████▌        | 5683/6370 [01:03<00:08, 77.86it/s]\n",
      "\n",
      " 89%|█████████████████████████████████████████████████████████████████████▋        | 5692/6370 [01:03<00:08, 79.85it/s]\n",
      "\n",
      " 89%|█████████████████████████████████████████████████████████████████████▊        | 5701/6370 [01:03<00:08, 81.97it/s]\n",
      "\n",
      " 90%|█████████████████████████████████████████████████████████████████████▉        | 5710/6370 [01:03<00:08, 80.60it/s]\n",
      "\n",
      " 90%|██████████████████████████████████████████████████████████████████████        | 5719/6370 [01:03<00:08, 79.25it/s]\n",
      "\n",
      " 90%|██████████████████████████████████████████████████████████████████████▏       | 5727/6370 [01:03<00:08, 79.48it/s]\n",
      "\n",
      " 90%|██████████████████████████████████████████████████████████████████████▏       | 5735/6370 [01:03<00:08, 78.23it/s]\n",
      "\n",
      " 90%|██████████████████████████████████████████████████████████████████████▎       | 5745/6370 [01:03<00:07, 81.85it/s]\n",
      "\n",
      " 90%|██████████████████████████████████████████████████████████████████████▍       | 5754/6370 [01:03<00:07, 79.88it/s]\n",
      "\n",
      " 90%|██████████████████████████████████████████████████████████████████████▌       | 5763/6370 [01:04<00:07, 79.18it/s]\n",
      "\n",
      " 91%|██████████████████████████████████████████████████████████████████████▋       | 5773/6370 [01:04<00:07, 81.16it/s]\n",
      "\n",
      " 91%|██████████████████████████████████████████████████████████████████████▊       | 5782/6370 [01:04<00:07, 79.63it/s]\n",
      "\n",
      " 91%|██████████████████████████████████████████████████████████████████████▉       | 5790/6370 [01:04<00:07, 76.98it/s]\n",
      "\n",
      " 91%|██████████████████████████████████████████████████████████████████████▉       | 5798/6370 [01:04<00:07, 76.96it/s]\n",
      "\n",
      " 91%|███████████████████████████████████████████████████████████████████████       | 5806/6370 [01:04<00:07, 76.29it/s]\n",
      "\n",
      " 91%|███████████████████████████████████████████████████████████████████████▏      | 5816/6370 [01:04<00:06, 80.54it/s]\n",
      "\n",
      " 91%|███████████████████████████████████████████████████████████████████████▎      | 5825/6370 [01:04<00:06, 78.80it/s]\n",
      "\n",
      " 92%|███████████████████████████████████████████████████████████████████████▍      | 5833/6370 [01:05<00:06, 76.87it/s]\n",
      "\n",
      " 92%|███████████████████████████████████████████████████████████████████████▌      | 5841/6370 [01:05<00:06, 76.67it/s]\n",
      "\n",
      " 92%|███████████████████████████████████████████████████████████████████████▌      | 5849/6370 [01:05<00:06, 76.30it/s]\n",
      "\n",
      " 92%|███████████████████████████████████████████████████████████████████████▋      | 5859/6370 [01:05<00:06, 80.36it/s]\n",
      "\n",
      " 92%|███████████████████████████████████████████████████████████████████████▊      | 5868/6370 [01:05<00:06, 78.88it/s]\n",
      "\n",
      " 92%|███████████████████████████████████████████████████████████████████████▉      | 5876/6370 [01:05<00:06, 78.98it/s]\n",
      "\n",
      " 92%|████████████████████████████████████████████████████████████████████████      | 5884/6370 [01:05<00:06, 77.67it/s]\n",
      "\n",
      " 93%|████████████████████████████████████████████████████████████████████████▏     | 5894/6370 [01:05<00:05, 81.81it/s]\n",
      "\n",
      " 93%|████████████████████████████████████████████████████████████████████████▎     | 5903/6370 [01:05<00:06, 77.78it/s]\n",
      "\n",
      " 93%|████████████████████████████████████████████████████████████████████████▍     | 5911/6370 [01:05<00:06, 75.98it/s]\n",
      "\n",
      " 93%|████████████████████████████████████████████████████████████████████████▌     | 5921/6370 [01:06<00:05, 79.72it/s]\n",
      "\n",
      " 93%|████████████████████████████████████████████████████████████████████████▌     | 5930/6370 [01:06<00:05, 78.86it/s]\n",
      "\n",
      " 93%|████████████████████████████████████████████████████████████████████████▋     | 5938/6370 [01:06<00:05, 78.73it/s]\n",
      "\n",
      " 93%|████████████████████████████████████████████████████████████████████████▊     | 5946/6370 [01:06<00:05, 76.61it/s]\n",
      "\n",
      " 93%|████████████████████████████████████████████████████████████████████████▉     | 5954/6370 [01:06<00:05, 76.48it/s]\n",
      "\n",
      " 94%|█████████████████████████████████████████████████████████████████████████     | 5962/6370 [01:06<00:05, 75.32it/s]\n",
      "\n"
     ]
    },
    {
     "name": "stderr",
     "output_type": "stream",
     "text": [
      " 94%|█████████████████████████████████████████████████████████████████████████     | 5970/6370 [01:06<00:05, 76.01it/s]\n",
      "\n",
      " 94%|█████████████████████████████████████████████████████████████████████████▏    | 5978/6370 [01:06<00:05, 76.50it/s]\n",
      "\n",
      " 94%|█████████████████████████████████████████████████████████████████████████▎    | 5986/6370 [01:06<00:04, 76.85it/s]\n",
      "\n",
      " 94%|█████████████████████████████████████████████████████████████████████████▍    | 5996/6370 [01:07<00:04, 80.01it/s]\n",
      "\n",
      " 94%|█████████████████████████████████████████████████████████████████████████▌    | 6005/6370 [01:07<00:04, 79.06it/s]\n",
      "\n",
      " 94%|█████████████████████████████████████████████████████████████████████████▋    | 6013/6370 [01:07<00:04, 79.10it/s]\n",
      "\n",
      " 95%|█████████████████████████████████████████████████████████████████████████▋    | 6021/6370 [01:07<00:04, 79.13it/s]\n",
      "\n",
      " 95%|█████████████████████████████████████████████████████████████████████████▊    | 6029/6370 [01:07<00:04, 76.00it/s]\n",
      "\n",
      " 95%|█████████████████████████████████████████████████████████████████████████▉    | 6037/6370 [01:07<00:04, 77.16it/s]\n",
      "\n",
      " 95%|██████████████████████████████████████████████████████████████████████████    | 6045/6370 [01:07<00:04, 75.34it/s]\n",
      "\n",
      " 95%|██████████████████████████████████████████████████████████████████████████    | 6053/6370 [01:07<00:04, 75.60it/s]\n",
      "\n",
      " 95%|██████████████████████████████████████████████████████████████████████████▏   | 6061/6370 [01:07<00:04, 76.42it/s]\n",
      "\n",
      " 95%|██████████████████████████████████████████████████████████████████████████▎   | 6071/6370 [01:08<00:03, 79.69it/s]\n",
      "\n",
      " 95%|██████████████████████████████████████████████████████████████████████████▍   | 6080/6370 [01:08<00:03, 78.42it/s]\n",
      "\n",
      " 96%|██████████████████████████████████████████████████████████████████████████▌   | 6089/6370 [01:08<00:03, 78.37it/s]\n",
      "\n",
      " 96%|██████████████████████████████████████████████████████████████████████████▋   | 6097/6370 [01:08<00:03, 75.08it/s]\n",
      "\n",
      " 96%|██████████████████████████████████████████████████████████████████████████▊   | 6105/6370 [01:08<00:03, 76.27it/s]\n",
      "\n",
      " 96%|██████████████████████████████████████████████████████████████████████████▊   | 6113/6370 [01:08<00:03, 75.60it/s]\n",
      "\n",
      " 96%|██████████████████████████████████████████████████████████████████████████▉   | 6123/6370 [01:08<00:03, 80.20it/s]\n",
      "\n",
      " 96%|███████████████████████████████████████████████████████████████████████████   | 6132/6370 [01:08<00:03, 78.98it/s]\n",
      "\n",
      " 96%|███████████████████████████████████████████████████████████████████████████▏  | 6140/6370 [01:08<00:03, 75.68it/s]\n",
      "\n",
      " 97%|███████████████████████████████████████████████████████████████████████████▎  | 6148/6370 [01:09<00:02, 74.15it/s]\n",
      "\n",
      " 97%|███████████████████████████████████████████████████████████████████████████▍  | 6156/6370 [01:09<00:02, 74.75it/s]\n",
      "\n",
      " 97%|███████████████████████████████████████████████████████████████████████████▍  | 6164/6370 [01:09<00:02, 74.54it/s]\n",
      "\n",
      " 97%|███████████████████████████████████████████████████████████████████████████▌  | 6174/6370 [01:09<00:02, 79.17it/s]\n",
      "\n",
      " 97%|███████████████████████████████████████████████████████████████████████████▋  | 6183/6370 [01:09<00:02, 78.08it/s]\n",
      "\n",
      " 97%|███████████████████████████████████████████████████████████████████████████▊  | 6192/6370 [01:09<00:02, 78.13it/s]\n",
      "\n",
      " 97%|███████████████████████████████████████████████████████████████████████████▉  | 6201/6370 [01:09<00:02, 79.20it/s]\n",
      "\n",
      " 97%|████████████████████████████████████████████████████████████████████████████  | 6209/6370 [01:09<00:02, 78.97it/s]\n",
      "\n",
      " 98%|████████████████████████████████████████████████████████████████████████████▏ | 6217/6370 [01:09<00:01, 76.77it/s]\n",
      "\n",
      " 98%|████████████████████████████████████████████████████████████████████████████▏ | 6225/6370 [01:10<00:01, 75.51it/s]\n",
      "\n",
      " 98%|████████████████████████████████████████████████████████████████████████████▎ | 6233/6370 [01:10<00:01, 76.36it/s]\n",
      "\n",
      " 98%|████████████████████████████████████████████████████████████████████████████▍ | 6242/6370 [01:10<00:01, 77.12it/s]\n",
      "\n",
      " 98%|████████████████████████████████████████████████████████████████████████████▌ | 6250/6370 [01:10<00:01, 77.28it/s]\n",
      "\n",
      " 98%|████████████████████████████████████████████████████████████████████████████▋ | 6258/6370 [01:10<00:01, 74.79it/s]\n",
      "\n",
      " 98%|████████████████████████████████████████████████████████████████████████████▋ | 6266/6370 [01:10<00:01, 72.94it/s]\n",
      "\n",
      " 98%|████████████████████████████████████████████████████████████████████████████▊ | 6274/6370 [01:10<00:01, 73.08it/s]\n",
      "\n",
      " 99%|████████████████████████████████████████████████████████████████████████████▉ | 6285/6370 [01:10<00:01, 80.02it/s]\n",
      "\n",
      " 99%|█████████████████████████████████████████████████████████████████████████████ | 6294/6370 [01:10<00:00, 78.86it/s]\n",
      "\n",
      " 99%|█████████████████████████████████████████████████████████████████████████████▏| 6303/6370 [01:11<00:00, 75.13it/s]\n",
      "\n",
      " 99%|█████████████████████████████████████████████████████████████████████████████▎| 6311/6370 [01:11<00:00, 75.45it/s]\n",
      "\n",
      " 99%|█████████████████████████████████████████████████████████████████████████████▍| 6321/6370 [01:11<00:00, 79.50it/s]\n",
      "\n",
      " 99%|█████████████████████████████████████████████████████████████████████████████▌| 6330/6370 [01:11<00:00, 78.50it/s]\n",
      "\n",
      " 99%|█████████████████████████████████████████████████████████████████████████████▌| 6338/6370 [01:11<00:00, 77.12it/s]\n",
      "\n",
      "100%|█████████████████████████████████████████████████████████████████████████████▋| 6348/6370 [01:11<00:00, 80.99it/s]\n",
      "\n",
      "100%|█████████████████████████████████████████████████████████████████████████████▊| 6357/6370 [01:11<00:00, 79.73it/s]\n",
      "\n",
      "100%|█████████████████████████████████████████████████████████████████████████████▉| 6366/6370 [01:11<00:00, 78.87it/s]\n",
      "\n",
      "100%|██████████████████████████████████████████████████████████████████████████████| 6370/6370 [01:11<00:00, 88.58it/s]"
     ]
    }
   ],
   "source": [
    "U_K_pop=keyword_popularity_matrix(U_K,df_uk) "
   ]
  },
  {
   "cell_type": "code",
   "execution_count": 195,
   "metadata": {},
   "outputs": [
    {
     "name": "stderr",
     "output_type": "stream",
     "text": [
      "100%|█████████████████████████████████████████████████████████████████████████████| 6370/6370 [00:57<00:00, 110.77it/s]\n"
     ]
    }
   ],
   "source": [
    "U_K_test_pop=keyword_popularity_matrix(U_K_test,df_uk) "
   ]
  },
  {
   "cell_type": "code",
   "execution_count": null,
   "metadata": {
    "collapsed": true
   },
   "outputs": [],
   "source": []
  },
  {
   "cell_type": "code",
   "execution_count": 189,
   "metadata": {
    "collapsed": true
   },
   "outputs": [],
   "source": [
    "# Load \n",
    "U_K = load_npz('../../data/beer/U_K.npz')\n",
    "I_K = load_npz('../../data/beer/I_K.npz')\n",
    "U_K_test = load_npz('../../data/beer/U_K_test.npz')\n",
    "I_K_test = load_npz('../../data/beer/I_K_test.npz')"
   ]
  },
  {
   "cell_type": "code",
   "execution_count": 20,
   "metadata": {
    "collapsed": true
   },
   "outputs": [],
   "source": [
    "df_uk = df(U_K)"
   ]
  },
  {
   "cell_type": "markdown",
   "metadata": {},
   "source": [
    "### Example of  TF-IDF vs. TF"
   ]
  },
  {
   "cell_type": "code",
   "execution_count": 90,
   "metadata": {},
   "outputs": [
    {
     "data": {
      "text/plain": [
       "matrix([[ 7, 35, 27,  1,  6,  5, 13,  6,  9,  0,  4,  7, 13,  6, 44,  1, 20,\n",
       "          4,  7,  2,  7, 16,  8,  1,  4,  0, 11,  3,  0,  1, 16, 14,  4,  3,\n",
       "          9,  2, 19,  2,  3, 13, 10,  5,  6, 22, 17,  5,  0, 11,  1,  1, 13,\n",
       "          4,  1,  5,  4, 10,  4,  0, 15,  0,  7,  4, 12, 10,  7,  2,  1, 15,\n",
       "          2,  0,  6,  0,  2,  2,  0]])"
      ]
     },
     "execution_count": 90,
     "metadata": {},
     "output_type": "execute_result"
    }
   ],
   "source": [
    "U_K[0].todense() # TF"
   ]
  },
  {
   "cell_type": "code",
   "execution_count": 88,
   "metadata": {
    "scrolled": true
   },
   "outputs": [
    {
     "data": {
      "text/plain": [
       "matrix([[ 9,  6,  6,  6,  7,  9,  8,  5,  7,  0,  9,  8,  8,  6,  5,  6,  8,\n",
       "          5,  8,  8,  6,  7,  5,  7,  9,  0,  5,  5,  0,  6,  5,  5,  5,  2,\n",
       "          6,  5,  5,  0,  7,  8,  6,  8, 11,  7,  8, 10,  0,  6,  3,  0,  7,\n",
       "          8,  7,  3,  2,  9,  6,  0,  6,  0,  5,  6,  5,  3,  4,  7,  5,  4,\n",
       "          9,  0,  1,  0,  3,  3,  0]])"
      ]
     },
     "execution_count": 88,
     "metadata": {},
     "output_type": "execute_result"
    }
   ],
   "source": [
    "U_K[0].todense() # TF-IDF"
   ]
  },
  {
   "cell_type": "code",
   "execution_count": 114,
   "metadata": {},
   "outputs": [
    {
     "name": "stderr",
     "output_type": "stream",
     "text": [
      "100%|█████████████████████████████████████████████████████████████████████████████| 6370/6370 [01:01<00:00, 103.26it/s]\n"
     ]
    }
   ],
   "source": [
    "U_K_tfidf = tf_idf(U_K, df_uk)"
   ]
  },
  {
   "cell_type": "code",
   "execution_count": 95,
   "metadata": {},
   "outputs": [
    {
     "name": "stderr",
     "output_type": "stream",
     "text": [
      "100%|█████████████████████████████████████████████████████████████████████████████| 6370/6370 [00:10<00:00, 594.55it/s]\n",
      "100%|████████████████████████████████████████████████████████████████████████████| 6370/6370 [00:02<00:00, 2776.81it/s]\n"
     ]
    }
   ],
   "source": [
    "similarity = train(rtrain)\n",
    "explanation_scores = predict(U_K_tfidf, 100, similarity)\n",
    "# explanation =  predict_explanation(explanation_scores)\n",
    "explanation = explain_prediction(explanation_scores, 70, U_K_tfidf)"
   ]
  },
  {
   "cell_type": "code",
   "execution_count": 99,
   "metadata": {
    "collapsed": true
   },
   "outputs": [],
   "source": [
    "df_uk_test = df(U_K_test)"
   ]
  },
  {
   "cell_type": "code",
   "execution_count": 100,
   "metadata": {},
   "outputs": [
    {
     "name": "stderr",
     "output_type": "stream",
     "text": [
      "100%|█████████████████████████████████████████████████████████████████████████████| 6370/6370 [00:47<00:00, 131.01it/s]\n"
     ]
    }
   ],
   "source": [
    "U_K_test_tfidf = tf_idf(U_K_test, df_uk_test)"
   ]
  },
  {
   "cell_type": "code",
   "execution_count": 101,
   "metadata": {
    "scrolled": true
   },
   "outputs": [
    {
     "name": "stderr",
     "output_type": "stream",
     "text": [
      "100%|█████████████████████████████████████████████████████████████████████████████| 6370/6370 [00:28<00:00, 220.51it/s]\n",
      "100%|█████████████████████████████████████████████████████████████████████████████| 6370/6370 [00:28<00:00, 225.70it/s]\n",
      "100%|█████████████████████████████████████████████████████████████████████████████| 6370/6370 [00:29<00:00, 214.23it/s]\n",
      "100%|█████████████████████████████████████████████████████████████████████████████| 6370/6370 [00:31<00:00, 202.97it/s]\n"
     ]
    },
    {
     "data": {
      "text/plain": [
       "{'MAP@10': (0.31673970247439637, 0.0040957390087849946),\n",
       " 'MAP@20': (0.72956795987541523, 0.0019829474684527073),\n",
       " 'MAP@5': (0.14120355834641549, 0.0043018567976726993),\n",
       " 'NDCG': (0.88171247369908323, 0.0013367377062992105),\n",
       " 'Precision@10': (0.37629513343799059, 0.0023021588046979805),\n",
       " 'Precision@20': (0.75726059654631084, 0.0014119254522028722),\n",
       " 'Precision@5': (0.15871271585557301, 0.0035101400942391058),\n",
       " 'R-Precision': (0.75726059654631084, 0.0014119254522028722),\n",
       " 'Recall@10': (0.37629513343799059, 0.0023021588046979805),\n",
       " 'Recall@20': (0.75726059654631084, 0.0014119254522028722),\n",
       " 'Recall@5': (0.15871271585557301, 0.0035101400942391058)}"
      ]
     },
     "execution_count": 101,
     "metadata": {},
     "output_type": "execute_result"
    }
   ],
   "source": [
    "explain_evaluate(explanation, U_K_test_tfidf, atK=[5,10,20])"
   ]
  },
  {
   "cell_type": "markdown",
   "metadata": {},
   "source": [
    "# TF-pop "
   ]
  },
  {
   "cell_type": "code",
   "execution_count": 194,
   "metadata": {},
   "outputs": [
    {
     "name": "stderr",
     "output_type": "stream",
     "text": [
      "100%|████████████████████████████████████████████████████████████████████████████| 6370/6370 [00:06<00:00, 1018.71it/s]\n",
      "100%|████████████████████████████████████████████████████████████████████████████| 6370/6370 [00:01<00:00, 5295.10it/s]\n"
     ]
    }
   ],
   "source": [
    "similarity = train(rtrain)\n",
    "explanation_scores = predict(U_K_pop, 100, similarity)\n",
    "# explanation =  predict_explanation(explanation_scores)\n",
    "explanation = explain_prediction(explanation_scores, 70, U_K_pop)"
   ]
  },
  {
   "cell_type": "code",
   "execution_count": 196,
   "metadata": {},
   "outputs": [
    {
     "name": "stderr",
     "output_type": "stream",
     "text": [
      "100%|█████████████████████████████████████████████████████████████████████████████| 6370/6370 [00:42<00:00, 149.54it/s]\n",
      "100%|█████████████████████████████████████████████████████████████████████████████| 6370/6370 [00:42<00:00, 148.85it/s]\n",
      "100%|█████████████████████████████████████████████████████████████████████████████| 6370/6370 [00:43<00:00, 148.03it/s]\n",
      "100%|█████████████████████████████████████████████████████████████████████████████| 6370/6370 [00:43<00:00, 146.66it/s]\n"
     ]
    },
    {
     "data": {
      "text/plain": [
       "{'MAP@10': (0.13406489995265505, 0.0042720301256862969),\n",
       " 'MAP@20': (0.18142879311319321, 0.0038381696109094855),\n",
       " 'MAP@5': (0.11403558346415489, 0.0053400341804486703),\n",
       " 'NDCG': (0.56953074240666524, 0.0023574928609448264),\n",
       " 'Precision@10': (0.09651491365777079, 0.0026611850558291295),\n",
       " 'Precision@20': (0.16945839874411303, 0.0026470594420987216),\n",
       " 'Precision@5': (0.077739403453689182, 0.0034150165762856983),\n",
       " 'R-Precision': (0.16945839874411303, 0.0026470594420987216),\n",
       " 'Recall@10': (0.09651491365777079, 0.0026611850558291295),\n",
       " 'Recall@20': (0.16945839874411303, 0.0026470594420987216),\n",
       " 'Recall@5': (0.077739403453689182, 0.0034150165762856983)}"
      ]
     },
     "execution_count": 196,
     "metadata": {},
     "output_type": "execute_result"
    }
   ],
   "source": [
    "explain_evaluate(explanation, U_K_test_pop, atK=[5,10,20])"
   ]
  },
  {
   "cell_type": "markdown",
   "metadata": {},
   "source": [
    "# TF-IDF for Item-based explanation"
   ]
  },
  {
   "cell_type": "code",
   "execution_count": 104,
   "metadata": {
    "collapsed": true
   },
   "outputs": [],
   "source": [
    "df_ik = df(I_K)"
   ]
  },
  {
   "cell_type": "code",
   "execution_count": 106,
   "metadata": {},
   "outputs": [
    {
     "name": "stderr",
     "output_type": "stream",
     "text": [
      "100%|██████████████████████████████████████████████████████████████████████████████| 3668/3668 [00:40<00:00, 91.11it/s]\n"
     ]
    }
   ],
   "source": [
    "I_K_tfidf = tf_idf(I_K,df_ik)"
   ]
  },
  {
   "cell_type": "code",
   "execution_count": 107,
   "metadata": {
    "collapsed": true
   },
   "outputs": [],
   "source": [
    "df_ik_test = df(I_K_test)"
   ]
  },
  {
   "cell_type": "code",
   "execution_count": 108,
   "metadata": {},
   "outputs": [
    {
     "name": "stderr",
     "output_type": "stream",
     "text": [
      "100%|█████████████████████████████████████████████████████████████████████████████| 3668/3668 [00:31<00:00, 117.52it/s]\n"
     ]
    }
   ],
   "source": [
    "I_K_test_tfidf = tf_idf(I_K_test,df_ik_test)"
   ]
  },
  {
   "cell_type": "code",
   "execution_count": 109,
   "metadata": {},
   "outputs": [
    {
     "name": "stderr",
     "output_type": "stream",
     "text": [
      "100%|████████████████████████████████████████████████████████████████████████████| 3668/3668 [00:02<00:00, 1391.50it/s]\n",
      "100%|████████████████████████████████████████████████████████████████████████████| 3668/3668 [00:00<00:00, 6013.11it/s]\n"
     ]
    }
   ],
   "source": [
    "similarity = train(np.transpose(rtrain))\n",
    "explanation_scores = predict(I_K_tfidf, 100, similarity)\n",
    "# explanation =  predict_explanation(explanation_scores)\n",
    "explanation = explain_prediction(explanation_scores, 70, I_K_tfidf)"
   ]
  },
  {
   "cell_type": "code",
   "execution_count": 110,
   "metadata": {},
   "outputs": [
    {
     "name": "stderr",
     "output_type": "stream",
     "text": [
      "100%|█████████████████████████████████████████████████████████████████████████████| 3668/3668 [00:10<00:00, 352.93it/s]\n",
      "100%|█████████████████████████████████████████████████████████████████████████████| 3668/3668 [00:10<00:00, 344.77it/s]\n",
      "100%|█████████████████████████████████████████████████████████████████████████████| 3668/3668 [00:10<00:00, 349.84it/s]\n",
      "100%|█████████████████████████████████████████████████████████████████████████████| 3668/3668 [00:10<00:00, 337.44it/s]\n"
     ]
    },
    {
     "data": {
      "text/plain": [
       "{'MAP@10': (0.28507111050527084, 0.0047971981576525376),\n",
       " 'MAP@20': (0.5359339768182384, 0.0042830473646057639),\n",
       " 'MAP@5': (0.11980370774263904, 0.0055372076435837875),\n",
       " 'NDCG': (0.79679938734343247, 0.0022304167988526492),\n",
       " 'Precision@10': (0.37753544165757913, 0.0038051249864415521),\n",
       " 'Precision@20': (0.61166848418756825, 0.0031038667844431093),\n",
       " 'Precision@5': (0.13718647764449293, 0.0049324913227143715),\n",
       " 'R-Precision': (0.61166848418756825, 0.0031038667844431093),\n",
       " 'Recall@10': (0.37753544165757913, 0.0038051249864415521),\n",
       " 'Recall@20': (0.61166848418756825, 0.0031038667844431093),\n",
       " 'Recall@5': (0.13718647764449293, 0.0049324913227143715)}"
      ]
     },
     "execution_count": 110,
     "metadata": {},
     "output_type": "execute_result"
    }
   ],
   "source": [
    "explain_evaluate(explanation, I_K_test_tfidf, atK=[5,10,20])"
   ]
  },
  {
   "cell_type": "markdown",
   "metadata": {
    "collapsed": true
   },
   "source": [
    "# Create a synthetic user u1"
   ]
  },
  {
   "cell_type": "markdown",
   "metadata": {},
   "source": [
    "### Variables\n",
    "- keyphrase_ids: list of 0~75, keyphrases that synthetic user like\n",
    "- top_n: number of resturants associated with keyword \n",
    "- k: knn hyperparameter"
   ]
  },
  {
   "cell_type": "code",
   "execution_count": 132,
   "metadata": {
    "collapsed": true
   },
   "outputs": [],
   "source": [
    "# Get top_items items associated with keyphrase_ids \n",
    "def item_associated_with_keyphrase(I_K, keyphrase_ids, top_items = 100):\n",
    "    \"\"\"\n",
    "    I_K: Item Keyphrase Matrix\n",
    "    Keyphrase_ids: top items described by keyphrase_ids\n",
    "    top_n: how many top items described by the keyphrases will be output \n",
    "    output item list (unique)\n",
    "    \"\"\"\n",
    "    res = []\n",
    "    for keyphrase_id in keyphrase_ids:\n",
    "        res.append(np.argsort(np.ravel(I_K.todense()[:,keyphrase_id]))[::-1][:top_items])\n",
    "    return np.unique(res)\n",
    "\n",
    "# Modify U_U latent Space from U_I\n",
    "def modify_user_preference(U_I, items, user_id = 0):\n",
    "    \"\"\"\n",
    "    TODO: Fix the function s.t. it will not modify the initial matrix\n",
    "    \"\"\"\n",
    "    U_I[user_id,:] = 0\n",
    "    for i in items:\n",
    "        U_I[0,i] = 1\n",
    "    return U_I\n",
    "\n",
    "def clear_user_keyphrase(U_K, user_id = 0):\n",
    "    U_K[user_id,:] = 0\n",
    "\n",
    "def explain_synthetic_user(rtrain, U_K, I_K, keyphrases, top_keyphrase = 20, user_id = 0, k = 100, top_items = 100, **Not_used):\n",
    "    \"\"\"\n",
    "    \n",
    "    \"\"\"\n",
    "    items = item_associated_with_keyphrase(I_K, keyphrases, top_items = top_items) # 8 is coffee\n",
    "    U_I = modify_user_preference(rtrain, items, user_id=user_id)\n",
    "    modified_U_U = train(U_I)\n",
    "    U_K[user_id, :] = 0\n",
    "    synthetic_user_keyphrase = normalize(predict(U_K, k, modified_U_U))[user_id]\n",
    "    return np.argsort(synthetic_user_keyphrase)[::-1][:top_keyphrase]\n",
    "\n",
    "def modify_user_keyphrase(U_K, keyphrase_ids, normalization = True, keyval = 1, user_id = 0, **Not_Used):\n",
    "    \"\"\"\n",
    "    Change all keyphrase_ids to some fixed number, all others to 0\n",
    "    Return the U_K matrix with user_id row the synthetic user1\n",
    "    \"\"\"\n",
    "    U_K[user_id,:] = 0\n",
    "    for keyphrase_id in keyphrase_ids:\n",
    "        U_K[user_id,keyphrase_id] = keyval\n",
    "    if normalization == True:\n",
    "        return normalize(U_K)\n",
    "    return U_K"
   ]
  },
  {
   "cell_type": "code",
   "execution_count": 8,
   "metadata": {
    "collapsed": true,
    "scrolled": true
   },
   "outputs": [],
   "source": [
    "# U_K = get_I_K(df_train, row_name = 'UserIndex', shape = (6370,75))\n",
    "U_K = load_npz('../../data/beer/U_K.npz')"
   ]
  },
  {
   "cell_type": "code",
   "execution_count": 103,
   "metadata": {
    "scrolled": true
   },
   "outputs": [],
   "source": [
    "# I_K = get_I_K(df_train, row_name = 'ItemIndex', shape = (3668,75))\n",
    "I_K = load_npz('../../data/beer/I_K.npz')"
   ]
  },
  {
   "cell_type": "markdown",
   "metadata": {},
   "source": [
    "### Experiment"
   ]
  },
  {
   "cell_type": "code",
   "execution_count": 38,
   "metadata": {
    "collapsed": true
   },
   "outputs": [],
   "source": [
    "keyphrases = pd.read_csv(\"../../data/beer/KeyPhrases.csv\")['Phrases'].tolist()"
   ]
  },
  {
   "cell_type": "code",
   "execution_count": 39,
   "metadata": {
    "scrolled": true
   },
   "outputs": [
    {
     "data": {
      "text/plain": [
       "['roast',\n",
       " 'sweet',\n",
       " 'caramel',\n",
       " 'backbone',\n",
       " 'toast',\n",
       " 'bread',\n",
       " 'chocolate',\n",
       " 'biscuit',\n",
       " 'coffee',\n",
       " 'wheat',\n",
       " 'grain',\n",
       " 'yeast',\n",
       " 'citrus',\n",
       " 'toffee',\n",
       " 'fruit',\n",
       " 'nutty',\n",
       " 'bitter',\n",
       " 'barley',\n",
       " 'floral',\n",
       " 'honey',\n",
       " 'earthy',\n",
       " 'spic',\n",
       " 'smok',\n",
       " 'molass',\n",
       " 'sugar',\n",
       " ' rye ',\n",
       " 'grass',\n",
       " 'cocoa',\n",
       " 'chew',\n",
       " 'butter',\n",
       " 'sour',\n",
       " ' pine ',\n",
       " 'herbal',\n",
       " 'citric',\n",
       " 'grapefruit',\n",
       " 'resin',\n",
       " 'crisp',\n",
       " 'pungent',\n",
       " 'wood',\n",
       " 'orang',\n",
       " 'lemon',\n",
       " 'offwhite',\n",
       " ' white',\n",
       " 'tan',\n",
       " 'brown',\n",
       " 'gold',\n",
       " 'beige',\n",
       " 'copper',\n",
       " 'mocha',\n",
       " 'khaki',\n",
       " 'black',\n",
       " 'yellow',\n",
       " 'watery',\n",
       " 'slick',\n",
       " 'silk',\n",
       " 'smooth',\n",
       " 'syrup',\n",
       " 'velvet',\n",
       " ' red ',\n",
       " 'mahogany',\n",
       " 'ruby',\n",
       " 'tulip',\n",
       " 'cherry',\n",
       " 'plum',\n",
       " 'berry',\n",
       " 'banana',\n",
       " 'bourbon',\n",
       " 'oak',\n",
       " 'apple',\n",
       " 'metallic',\n",
       " 'raspberry',\n",
       " 'clove',\n",
       " 'apricot',\n",
       " 'coriander',\n",
       " 'pepper']"
      ]
     },
     "execution_count": 39,
     "metadata": {},
     "output_type": "execute_result"
    }
   ],
   "source": [
    "keyphrases"
   ]
  },
  {
   "cell_type": "code",
   "execution_count": 41,
   "metadata": {},
   "outputs": [
    {
     "data": {
      "text/plain": [
       "'raspberry'"
      ]
     },
     "execution_count": 41,
     "metadata": {},
     "output_type": "execute_result"
    }
   ],
   "source": [
    "keyphrases[70]"
   ]
  },
  {
   "cell_type": "code",
   "execution_count": 153,
   "metadata": {
    "collapsed": true
   },
   "outputs": [],
   "source": [
    "U_K = load_npz('../../data/beer/U_K.npz')\n",
    "U_K = normalize(U_K)\n",
    "rtrain = load_npz(\"../../data/beer/Rtrain.npz\")"
   ]
  },
  {
   "cell_type": "markdown",
   "metadata": {},
   "source": [
    "## Prediction pipline"
   ]
  },
  {
   "cell_type": "code",
   "execution_count": 140,
   "metadata": {
    "scrolled": true
   },
   "outputs": [
    {
     "name": "stderr",
     "output_type": "stream",
     "text": [
      "D:\\Anaconda\\envs\\py27\\lib\\site-packages\\ipykernel_launcher.py:19: SparseEfficiencyWarning: Changing the sparsity structure of a csr_matrix is expensive. lil_matrix is more efficient.\n"
     ]
    }
   ],
   "source": [
    "# Modify user preference matrix\n",
    "items = item_associated_with_keyphrase(I_K, [70], top_items = 200) # 'raspberry'\n",
    "U_I = modify_user_preference(rtrain, items, user_id = 0)"
   ]
  },
  {
   "cell_type": "code",
   "execution_count": 141,
   "metadata": {},
   "outputs": [
    {
     "name": "stderr",
     "output_type": "stream",
     "text": [
      "D:\\Anaconda\\envs\\py27\\lib\\site-packages\\ipykernel_launcher.py:25: SparseEfficiencyWarning: Changing the sparsity structure of a csr_matrix is expensive. lil_matrix is more efficient.\n"
     ]
    }
   ],
   "source": [
    "# make synthetic user1's keyphrase preference all 0\n",
    "clear_user_keyphrase(U_K, user_id = 0)"
   ]
  },
  {
   "cell_type": "code",
   "execution_count": 142,
   "metadata": {
    "scrolled": true
   },
   "outputs": [
    {
     "name": "stderr",
     "output_type": "stream",
     "text": [
      "100%|████████████████████████████████████████████████████████████████████████████| 6370/6370 [00:03<00:00, 2035.14it/s]\n",
      "100%|██████████████████████████████████████████████████████████████████████████| 6370/6370 [00:00<00:00, 244999.78it/s]\n"
     ]
    }
   ],
   "source": [
    "# Get latent user similarity embedding\n",
    "modified_U_U = train(U_I)\n",
    "# predict\n",
    "explanation_scores1 = predict(U_K, 100, modified_U_U)\n",
    "explanation1 =  predict_pilot_explanation(explanation_scores1, top_keyphrase = 10)"
   ]
  },
  {
   "cell_type": "code",
   "execution_count": 144,
   "metadata": {},
   "outputs": [
    {
     "data": {
      "text/plain": [
       "array([ 1, 16, 14, 44, 43, 42, 55,  2, 21, 12], dtype=int64)"
      ]
     },
     "execution_count": 144,
     "metadata": {},
     "output_type": "execute_result"
    }
   ],
   "source": [
    "explanation1[0]"
   ]
  },
  {
   "cell_type": "markdown",
   "metadata": {},
   "source": [
    "## Evaluate the pilot test result"
   ]
  },
  {
   "cell_type": "markdown",
   "metadata": {},
   "source": [
    "Since we create a sterotype user1 who only likes keyphrase 0, and let him liked some beer with keyphrase 0, we can evaluate the result U_K (user1's updated keyphrase preferance) by looking into what's the top K keyphrase he likes other than keyphrase 0. Then we look into: among the top N (100 in this case) beer with keyphrase 0, whats the next K (e.g. 10) most frequent keyphrase that appear, and compare this with the updated_U_K to see if user1 actually likes the other K keyphrase as we predicted. "
   ]
  },
  {
   "cell_type": "code",
   "execution_count": 146,
   "metadata": {
    "collapsed": true
   },
   "outputs": [],
   "source": [
    "def rank_in_prediction(rtrain, U_K, I_K, top_items = 200, keyphrase = [70],user_i = 0):\n",
    "    \"\"\"\n",
    "    Get the rank for user_i with keyphrase\n",
    "    TODO: modify so that no need to reload U_K,I_K\n",
    "    \"\"\"  \n",
    "    U_K = load_npz('../../data/beer/U_K.npz')\n",
    "    U_K = normalize(U_K)\n",
    "    rtrain = load_npz(\"../../data/beer/Rtrain.npz\")\n",
    "    \n",
    "    # Modify user preference matrix\n",
    "    items = item_associated_with_keyphrase(I_K, keyphrase, top_items = top_items) # 'raspberry'\n",
    "    U_I = modify_user_preference(rtrain, items, user_id = 0)\n",
    "    \n",
    "    # make synthetic user1's keyphrase preference all 0\n",
    "    clear_user_keyphrase(U_K, user_id = 0)\n",
    "    \n",
    "    # Get latent user similarity embedding\n",
    "    modified_U_U = train(U_I)\n",
    "    # predict\n",
    "    explanation_scores1 = predict(U_K, 100, modified_U_U)\n",
    "    explanation1 =  predict_pilot_explanation(explanation_scores1, top_keyphrase = 75)\n",
    "    return list(explanation1[user_i]).index(keyphrase[0])\n",
    "    \n",
    "def evaluate_pilot_test(rtrain,U_K, I_K,keyphrase_list, top_items = 200, user_i = 0):\n",
    "    # Get the average rank for user_i with keyphrase  \n",
    "    res1 = 0\n",
    "    for i in range(75):\n",
    "        a = rank_in_prediction(rtrain, U_K, I_K, top_items = top_items, keyphrase = [i],user_i = user_i)\n",
    "        print \"keyphrase\", keyphrase_list[i], \"'s rank is \", a\n",
    "        res1+= a\n",
    "    return res1/75"
   ]
  },
  {
   "cell_type": "code",
   "execution_count": 147,
   "metadata": {
    "scrolled": true
   },
   "outputs": [
    {
     "name": "stderr",
     "output_type": "stream",
     "text": [
      "D:\\Anaconda\\envs\\py27\\lib\\site-packages\\ipykernel_launcher.py:19: SparseEfficiencyWarning: Changing the sparsity structure of a csr_matrix is expensive. lil_matrix is more efficient.\n",
      "D:\\Anaconda\\envs\\py27\\lib\\site-packages\\ipykernel_launcher.py:25: SparseEfficiencyWarning: Changing the sparsity structure of a csr_matrix is expensive. lil_matrix is more efficient.\n",
      "100%|████████████████████████████████████████████████████████████████████████████| 6370/6370 [00:03<00:00, 2040.36it/s]\n",
      "100%|██████████████████████████████████████████████████████████████████████████| 6370/6370 [00:00<00:00, 235926.36it/s]\n"
     ]
    },
    {
     "name": "stdout",
     "output_type": "stream",
     "text": [
      "keyphrase roast 's rank is  8\n"
     ]
    },
    {
     "name": "stderr",
     "output_type": "stream",
     "text": [
      "100%|████████████████████████████████████████████████████████████████████████████| 6370/6370 [00:03<00:00, 2062.82it/s]\n",
      "100%|██████████████████████████████████████████████████████████████████████████| 6370/6370 [00:00<00:00, 244999.78it/s]\n"
     ]
    },
    {
     "name": "stdout",
     "output_type": "stream",
     "text": [
      "keyphrase sweet 's rank is  0\n"
     ]
    },
    {
     "name": "stderr",
     "output_type": "stream",
     "text": [
      "100%|████████████████████████████████████████████████████████████████████████████| 6370/6370 [00:03<00:00, 2098.85it/s]\n",
      "100%|██████████████████████████████████████████████████████████████████████████| 6370/6370 [00:00<00:00, 244999.78it/s]\n"
     ]
    },
    {
     "name": "stdout",
     "output_type": "stream",
     "text": [
      "keyphrase caramel 's rank is  6\n"
     ]
    },
    {
     "name": "stderr",
     "output_type": "stream",
     "text": [
      "100%|████████████████████████████████████████████████████████████████████████████| 6370/6370 [00:03<00:00, 2066.17it/s]\n",
      "100%|██████████████████████████████████████████████████████████████████████████| 6370/6370 [00:00<00:00, 244999.78it/s]\n"
     ]
    },
    {
     "name": "stdout",
     "output_type": "stream",
     "text": [
      "keyphrase backbone 's rank is  41\n"
     ]
    },
    {
     "name": "stderr",
     "output_type": "stream",
     "text": [
      "100%|████████████████████████████████████████████████████████████████████████████| 6370/6370 [00:03<00:00, 2024.15it/s]\n",
      "100%|██████████████████████████████████████████████████████████████████████████| 6370/6370 [00:00<00:00, 235926.36it/s]\n"
     ]
    },
    {
     "name": "stdout",
     "output_type": "stream",
     "text": [
      "keyphrase toast 's rank is  25\n"
     ]
    },
    {
     "name": "stderr",
     "output_type": "stream",
     "text": [
      "100%|████████████████████████████████████████████████████████████████████████████| 6370/6370 [00:03<00:00, 1981.34it/s]\n",
      "100%|██████████████████████████████████████████████████████████████████████████| 6370/6370 [00:00<00:00, 227499.05it/s]\n"
     ]
    },
    {
     "name": "stdout",
     "output_type": "stream",
     "text": [
      "keyphrase bread 's rank is  18\n"
     ]
    },
    {
     "name": "stderr",
     "output_type": "stream",
     "text": [
      "100%|████████████████████████████████████████████████████████████████████████████| 6370/6370 [00:03<00:00, 2059.49it/s]\n",
      "100%|██████████████████████████████████████████████████████████████████████████| 6370/6370 [00:00<00:00, 235924.28it/s]\n"
     ]
    },
    {
     "name": "stdout",
     "output_type": "stream",
     "text": [
      "keyphrase chocolate 's rank is  6\n"
     ]
    },
    {
     "name": "stderr",
     "output_type": "stream",
     "text": [
      "100%|████████████████████████████████████████████████████████████████████████████| 6370/6370 [00:03<00:00, 2034.49it/s]\n",
      "100%|██████████████████████████████████████████████████████████████████████████| 6370/6370 [00:00<00:00, 235926.36it/s]\n"
     ]
    },
    {
     "name": "stdout",
     "output_type": "stream",
     "text": [
      "keyphrase biscuit 's rank is  40\n"
     ]
    },
    {
     "name": "stderr",
     "output_type": "stream",
     "text": [
      "100%|████████████████████████████████████████████████████████████████████████████| 6370/6370 [00:03<00:00, 2076.27it/s]\n",
      "100%|██████████████████████████████████████████████████████████████████████████| 6370/6370 [00:00<00:00, 219654.84it/s]\n"
     ]
    },
    {
     "name": "stdout",
     "output_type": "stream",
     "text": [
      "keyphrase coffee 's rank is  11\n"
     ]
    },
    {
     "name": "stderr",
     "output_type": "stream",
     "text": [
      "100%|████████████████████████████████████████████████████████████████████████████| 6370/6370 [00:03<00:00, 2060.16it/s]\n",
      "100%|██████████████████████████████████████████████████████████████████████████| 6370/6370 [00:00<00:00, 254801.46it/s]\n"
     ]
    },
    {
     "name": "stdout",
     "output_type": "stream",
     "text": [
      "keyphrase wheat 's rank is  13\n"
     ]
    },
    {
     "name": "stderr",
     "output_type": "stream",
     "text": [
      "100%|████████████████████████████████████████████████████████████████████████████| 6370/6370 [00:03<00:00, 2108.57it/s]\n",
      "100%|██████████████████████████████████████████████████████████████████████████| 6370/6370 [00:00<00:00, 245002.03it/s]\n"
     ]
    },
    {
     "name": "stdout",
     "output_type": "stream",
     "text": [
      "keyphrase grain 's rank is  16\n"
     ]
    },
    {
     "name": "stderr",
     "output_type": "stream",
     "text": [
      "100%|████████████████████████████████████████████████████████████████████████████| 6370/6370 [00:03<00:00, 2106.48it/s]\n",
      "100%|██████████████████████████████████████████████████████████████████████████| 6370/6370 [00:00<00:00, 244999.78it/s]\n"
     ]
    },
    {
     "name": "stdout",
     "output_type": "stream",
     "text": [
      "keyphrase yeast 's rank is  11\n"
     ]
    },
    {
     "name": "stderr",
     "output_type": "stream",
     "text": [
      "100%|████████████████████████████████████████████████████████████████████████████| 6370/6370 [00:03<00:00, 2107.88it/s]\n",
      "100%|██████████████████████████████████████████████████████████████████████████| 6370/6370 [00:00<00:00, 254801.46it/s]\n"
     ]
    },
    {
     "name": "stdout",
     "output_type": "stream",
     "text": [
      "keyphrase citrus 's rank is  3\n"
     ]
    },
    {
     "name": "stderr",
     "output_type": "stream",
     "text": [
      "100%|████████████████████████████████████████████████████████████████████████████| 6370/6370 [00:03<00:00, 2103.70it/s]\n",
      "100%|██████████████████████████████████████████████████████████████████████████| 6370/6370 [00:00<00:00, 244999.78it/s]\n"
     ]
    },
    {
     "name": "stdout",
     "output_type": "stream",
     "text": [
      "keyphrase toffee 's rank is  43\n"
     ]
    },
    {
     "name": "stderr",
     "output_type": "stream",
     "text": [
      "100%|████████████████████████████████████████████████████████████████████████████| 6370/6370 [00:03<00:00, 2107.88it/s]\n",
      "100%|██████████████████████████████████████████████████████████████████████████| 6370/6370 [00:00<00:00, 244999.78it/s]\n"
     ]
    },
    {
     "name": "stdout",
     "output_type": "stream",
     "text": [
      "keyphrase fruit 's rank is  1\n"
     ]
    },
    {
     "name": "stderr",
     "output_type": "stream",
     "text": [
      "100%|████████████████████████████████████████████████████████████████████████████| 6370/6370 [00:03<00:00, 2102.31it/s]\n",
      "100%|██████████████████████████████████████████████████████████████████████████| 6370/6370 [00:00<00:00, 235924.28it/s]\n"
     ]
    },
    {
     "name": "stdout",
     "output_type": "stream",
     "text": [
      "keyphrase nutty 's rank is  42\n"
     ]
    },
    {
     "name": "stderr",
     "output_type": "stream",
     "text": [
      "100%|████████████████████████████████████████████████████████████████████████████| 6370/6370 [00:03<00:00, 2098.16it/s]\n",
      "100%|██████████████████████████████████████████████████████████████████████████| 6370/6370 [00:00<00:00, 244999.78it/s]\n"
     ]
    },
    {
     "name": "stdout",
     "output_type": "stream",
     "text": [
      "keyphrase bitter 's rank is  1\n"
     ]
    },
    {
     "name": "stderr",
     "output_type": "stream",
     "text": [
      "100%|████████████████████████████████████████████████████████████████████████████| 6370/6370 [00:03<00:00, 2103.00it/s]\n",
      "100%|██████████████████████████████████████████████████████████████████████████| 6370/6370 [00:00<00:00, 235926.36it/s]\n"
     ]
    },
    {
     "name": "stdout",
     "output_type": "stream",
     "text": [
      "keyphrase barley 's rank is  25\n"
     ]
    },
    {
     "name": "stderr",
     "output_type": "stream",
     "text": [
      "100%|████████████████████████████████████████████████████████████████████████████| 6370/6370 [00:03<00:00, 2104.39it/s]\n",
      "100%|██████████████████████████████████████████████████████████████████████████| 6370/6370 [00:00<00:00, 244999.78it/s]\n"
     ]
    },
    {
     "name": "stdout",
     "output_type": "stream",
     "text": [
      "keyphrase floral 's rank is  16\n"
     ]
    },
    {
     "name": "stderr",
     "output_type": "stream",
     "text": [
      "100%|████████████████████████████████████████████████████████████████████████████| 6370/6370 [00:03<00:00, 2102.31it/s]\n",
      "100%|██████████████████████████████████████████████████████████████████████████| 6370/6370 [00:00<00:00, 227500.99it/s]\n"
     ]
    },
    {
     "name": "stdout",
     "output_type": "stream",
     "text": [
      "keyphrase honey 's rank is  35\n"
     ]
    },
    {
     "name": "stderr",
     "output_type": "stream",
     "text": [
      "100%|████████████████████████████████████████████████████████████████████████████| 6370/6370 [00:03<00:00, 2105.09it/s]\n",
      "100%|██████████████████████████████████████████████████████████████████████████| 6370/6370 [00:00<00:00, 235926.36it/s]\n"
     ]
    },
    {
     "name": "stdout",
     "output_type": "stream",
     "text": [
      "keyphrase earthy 's rank is  29\n"
     ]
    },
    {
     "name": "stderr",
     "output_type": "stream",
     "text": [
      "100%|████████████████████████████████████████████████████████████████████████████| 6370/6370 [00:03<00:00, 2103.70it/s]\n",
      "100%|██████████████████████████████████████████████████████████████████████████| 6370/6370 [00:00<00:00, 235926.36it/s]\n"
     ]
    },
    {
     "name": "stdout",
     "output_type": "stream",
     "text": [
      "keyphrase spic 's rank is  6\n"
     ]
    },
    {
     "name": "stderr",
     "output_type": "stream",
     "text": [
      "100%|████████████████████████████████████████████████████████████████████████████| 6370/6370 [00:03<00:00, 2096.77it/s]\n",
      "100%|██████████████████████████████████████████████████████████████████████████| 6370/6370 [00:00<00:00, 235926.36it/s]\n"
     ]
    },
    {
     "name": "stdout",
     "output_type": "stream",
     "text": [
      "keyphrase smok 's rank is  25\n"
     ]
    },
    {
     "name": "stderr",
     "output_type": "stream",
     "text": [
      "100%|████████████████████████████████████████████████████████████████████████████| 6370/6370 [00:03<00:00, 2103.00it/s]\n",
      "100%|██████████████████████████████████████████████████████████████████████████| 6370/6370 [00:00<00:00, 244999.78it/s]\n"
     ]
    },
    {
     "name": "stdout",
     "output_type": "stream",
     "text": [
      "keyphrase molass 's rank is  34\n"
     ]
    },
    {
     "name": "stderr",
     "output_type": "stream",
     "text": [
      "100%|████████████████████████████████████████████████████████████████████████████| 6370/6370 [00:03<00:00, 2103.00it/s]\n",
      "100%|██████████████████████████████████████████████████████████████████████████| 6370/6370 [00:00<00:00, 244999.78it/s]\n"
     ]
    },
    {
     "name": "stdout",
     "output_type": "stream",
     "text": [
      "keyphrase sugar 's rank is  18\n"
     ]
    },
    {
     "name": "stderr",
     "output_type": "stream",
     "text": [
      "100%|████████████████████████████████████████████████████████████████████████████| 6370/6370 [00:03<00:00, 2103.70it/s]\n",
      "100%|██████████████████████████████████████████████████████████████████████████| 6370/6370 [00:00<00:00, 235926.36it/s]\n"
     ]
    },
    {
     "name": "stdout",
     "output_type": "stream",
     "text": [
      "keyphrase  rye  's rank is  50\n"
     ]
    },
    {
     "name": "stderr",
     "output_type": "stream",
     "text": [
      "100%|████████████████████████████████████████████████████████████████████████████| 6370/6370 [00:03<00:00, 2108.57it/s]\n",
      "100%|██████████████████████████████████████████████████████████████████████████| 6370/6370 [00:00<00:00, 235926.36it/s]\n"
     ]
    },
    {
     "name": "stdout",
     "output_type": "stream",
     "text": [
      "keyphrase grass 's rank is  30\n"
     ]
    },
    {
     "name": "stderr",
     "output_type": "stream",
     "text": [
      "100%|████████████████████████████████████████████████████████████████████████████| 6370/6370 [00:03<00:00, 2109.97it/s]\n",
      "100%|██████████████████████████████████████████████████████████████████████████| 6370/6370 [00:00<00:00, 244999.78it/s]\n"
     ]
    },
    {
     "name": "stdout",
     "output_type": "stream",
     "text": [
      "keyphrase cocoa 's rank is  49\n"
     ]
    },
    {
     "name": "stderr",
     "output_type": "stream",
     "text": [
      "100%|████████████████████████████████████████████████████████████████████████████| 6370/6370 [00:03<00:00, 2108.57it/s]\n",
      "100%|██████████████████████████████████████████████████████████████████████████| 6370/6370 [00:00<00:00, 244999.78it/s]\n"
     ]
    },
    {
     "name": "stdout",
     "output_type": "stream",
     "text": [
      "keyphrase chew 's rank is  50\n"
     ]
    },
    {
     "name": "stderr",
     "output_type": "stream",
     "text": [
      "100%|████████████████████████████████████████████████████████████████████████████| 6370/6370 [00:03<00:00, 2106.48it/s]\n",
      "100%|██████████████████████████████████████████████████████████████████████████| 6370/6370 [00:00<00:00, 244999.78it/s]\n"
     ]
    },
    {
     "name": "stdout",
     "output_type": "stream",
     "text": [
      "keyphrase butter 's rank is  41\n"
     ]
    },
    {
     "name": "stderr",
     "output_type": "stream",
     "text": [
      "100%|████████████████████████████████████████████████████████████████████████████| 6370/6370 [00:03<00:00, 2103.00it/s]\n",
      "100%|██████████████████████████████████████████████████████████████████████████| 6370/6370 [00:00<00:00, 235926.36it/s]\n"
     ]
    },
    {
     "name": "stdout",
     "output_type": "stream",
     "text": [
      "keyphrase sour 's rank is  15\n"
     ]
    },
    {
     "name": "stderr",
     "output_type": "stream",
     "text": [
      "100%|████████████████████████████████████████████████████████████████████████████| 6370/6370 [00:03<00:00, 2103.00it/s]\n",
      "100%|██████████████████████████████████████████████████████████████████████████| 6370/6370 [00:00<00:00, 235926.36it/s]\n"
     ]
    },
    {
     "name": "stdout",
     "output_type": "stream",
     "text": [
      "keyphrase  pine  's rank is  12\n"
     ]
    },
    {
     "name": "stderr",
     "output_type": "stream",
     "text": [
      "100%|████████████████████████████████████████████████████████████████████████████| 6370/6370 [00:03<00:00, 2109.27it/s]\n",
      "100%|██████████████████████████████████████████████████████████████████████████| 6370/6370 [00:00<00:00, 235926.36it/s]\n"
     ]
    },
    {
     "name": "stdout",
     "output_type": "stream",
     "text": [
      "keyphrase herbal 's rank is  41\n"
     ]
    },
    {
     "name": "stderr",
     "output_type": "stream",
     "text": [
      "100%|████████████████████████████████████████████████████████████████████████████| 6370/6370 [00:03<00:00, 2107.18it/s]\n",
      "100%|██████████████████████████████████████████████████████████████████████████| 6370/6370 [00:00<00:00, 235926.36it/s]\n"
     ]
    },
    {
     "name": "stdout",
     "output_type": "stream",
     "text": [
      "keyphrase citric 's rank is  61\n"
     ]
    },
    {
     "name": "stderr",
     "output_type": "stream",
     "text": [
      "100%|████████████████████████████████████████████████████████████████████████████| 6370/6370 [00:03<00:00, 2099.54it/s]\n",
      "100%|██████████████████████████████████████████████████████████████████████████| 6370/6370 [00:00<00:00, 244999.78it/s]\n"
     ]
    },
    {
     "name": "stdout",
     "output_type": "stream",
     "text": [
      "keyphrase grapefruit 's rank is  14\n"
     ]
    },
    {
     "name": "stderr",
     "output_type": "stream",
     "text": [
      "100%|████████████████████████████████████████████████████████████████████████████| 6370/6370 [00:03<00:00, 2000.63it/s]\n",
      "100%|██████████████████████████████████████████████████████████████████████████| 6370/6370 [00:00<00:00, 244999.78it/s]\n"
     ]
    },
    {
     "name": "stdout",
     "output_type": "stream",
     "text": [
      "keyphrase resin 's rank is  35\n"
     ]
    },
    {
     "name": "stderr",
     "output_type": "stream",
     "text": [
      "100%|████████████████████████████████████████████████████████████████████████████| 6370/6370 [00:03<00:00, 2015.82it/s]\n",
      "100%|██████████████████████████████████████████████████████████████████████████| 6370/6370 [00:00<00:00, 235924.28it/s]\n"
     ]
    },
    {
     "name": "stdout",
     "output_type": "stream",
     "text": [
      "keyphrase crisp 's rank is  15\n"
     ]
    },
    {
     "name": "stderr",
     "output_type": "stream",
     "text": [
      "100%|████████████████████████████████████████████████████████████████████████████| 6370/6370 [00:03<00:00, 1930.89it/s]\n",
      "100%|██████████████████████████████████████████████████████████████████████████| 6370/6370 [00:00<00:00, 235926.36it/s]\n"
     ]
    },
    {
     "name": "stdout",
     "output_type": "stream",
     "text": [
      "keyphrase pungent 's rank is  69\n"
     ]
    },
    {
     "name": "stderr",
     "output_type": "stream",
     "text": [
      "100%|████████████████████████████████████████████████████████████████████████████| 6370/6370 [00:03<00:00, 1831.51it/s]\n",
      "100%|██████████████████████████████████████████████████████████████████████████| 6370/6370 [00:00<00:00, 212333.54it/s]\n"
     ]
    },
    {
     "name": "stdout",
     "output_type": "stream",
     "text": [
      "keyphrase wood 's rank is  36\n"
     ]
    },
    {
     "name": "stderr",
     "output_type": "stream",
     "text": [
      "100%|████████████████████████████████████████████████████████████████████████████| 6370/6370 [00:03<00:00, 1933.23it/s]\n",
      "100%|██████████████████████████████████████████████████████████████████████████| 6370/6370 [00:00<00:00, 219654.84it/s]\n"
     ]
    },
    {
     "name": "stdout",
     "output_type": "stream",
     "text": [
      "keyphrase orang 's rank is  8\n"
     ]
    },
    {
     "name": "stderr",
     "output_type": "stream",
     "text": [
      "100%|████████████████████████████████████████████████████████████████████████████| 6370/6370 [00:03<00:00, 1914.64it/s]\n",
      "100%|██████████████████████████████████████████████████████████████████████████| 6370/6370 [00:00<00:00, 227499.05it/s]\n"
     ]
    },
    {
     "name": "stdout",
     "output_type": "stream",
     "text": [
      "keyphrase lemon 's rank is  18\n"
     ]
    },
    {
     "name": "stderr",
     "output_type": "stream",
     "text": [
      "100%|████████████████████████████████████████████████████████████████████████████| 6370/6370 [00:03<00:00, 1858.23it/s]\n",
      "100%|██████████████████████████████████████████████████████████████████████████| 6370/6370 [00:00<00:00, 244999.78it/s]\n"
     ]
    },
    {
     "name": "stdout",
     "output_type": "stream",
     "text": [
      "keyphrase offwhite 's rank is  22\n"
     ]
    },
    {
     "name": "stderr",
     "output_type": "stream",
     "text": [
      "100%|████████████████████████████████████████████████████████████████████████████| 6370/6370 [00:03<00:00, 1914.64it/s]\n",
      "100%|██████████████████████████████████████████████████████████████████████████| 6370/6370 [00:00<00:00, 235926.36it/s]\n"
     ]
    },
    {
     "name": "stdout",
     "output_type": "stream",
     "text": [
      "keyphrase  white 's rank is  4\n"
     ]
    },
    {
     "name": "stderr",
     "output_type": "stream",
     "text": [
      "100%|████████████████████████████████████████████████████████████████████████████| 6370/6370 [00:03<00:00, 1949.80it/s]\n",
      "100%|██████████████████████████████████████████████████████████████████████████| 6370/6370 [00:00<00:00, 244999.78it/s]\n"
     ]
    },
    {
     "name": "stdout",
     "output_type": "stream",
     "text": [
      "keyphrase tan 's rank is  4\n"
     ]
    },
    {
     "name": "stderr",
     "output_type": "stream",
     "text": [
      "100%|████████████████████████████████████████████████████████████████████████████| 6370/6370 [00:03<00:00, 2026.08it/s]\n",
      "100%|██████████████████████████████████████████████████████████████████████████| 6370/6370 [00:00<00:00, 244999.78it/s]\n"
     ]
    },
    {
     "name": "stdout",
     "output_type": "stream",
     "text": [
      "keyphrase brown 's rank is  2\n"
     ]
    },
    {
     "name": "stderr",
     "output_type": "stream",
     "text": [
      "100%|████████████████████████████████████████████████████████████████████████████| 6370/6370 [00:03<00:00, 1994.99it/s]\n",
      "100%|██████████████████████████████████████████████████████████████████████████| 6370/6370 [00:00<00:00, 235924.28it/s]\n"
     ]
    },
    {
     "name": "stdout",
     "output_type": "stream",
     "text": [
      "keyphrase gold 's rank is  6\n"
     ]
    },
    {
     "name": "stderr",
     "output_type": "stream",
     "text": [
      "100%|████████████████████████████████████████████████████████████████████████████| 6370/6370 [00:03<00:00, 1957.59it/s]\n",
      "100%|██████████████████████████████████████████████████████████████████████████| 6370/6370 [00:00<00:00, 227500.99it/s]\n"
     ]
    },
    {
     "name": "stdout",
     "output_type": "stream",
     "text": [
      "keyphrase beige 's rank is  64\n"
     ]
    },
    {
     "name": "stderr",
     "output_type": "stream",
     "text": [
      "100%|████████████████████████████████████████████████████████████████████████████| 6370/6370 [00:03<00:00, 1955.19it/s]\n",
      "100%|██████████████████████████████████████████████████████████████████████████| 6370/6370 [00:00<00:00, 235924.28it/s]\n"
     ]
    },
    {
     "name": "stdout",
     "output_type": "stream",
     "text": [
      "keyphrase copper 's rank is  17\n"
     ]
    },
    {
     "name": "stderr",
     "output_type": "stream",
     "text": [
      "100%|████████████████████████████████████████████████████████████████████████████| 6370/6370 [00:03<00:00, 1889.09it/s]\n",
      "100%|██████████████████████████████████████████████████████████████████████████| 6370/6370 [00:00<00:00, 219654.84it/s]\n"
     ]
    },
    {
     "name": "stdout",
     "output_type": "stream",
     "text": [
      "keyphrase mocha 's rank is  48\n"
     ]
    },
    {
     "name": "stderr",
     "output_type": "stream",
     "text": [
      "100%|████████████████████████████████████████████████████████████████████████████| 6370/6370 [00:03<00:00, 1712.37it/s]\n",
      "100%|██████████████████████████████████████████████████████████████████████████| 6370/6370 [00:00<00:00, 199062.10it/s]\n"
     ]
    },
    {
     "name": "stdout",
     "output_type": "stream",
     "text": [
      "keyphrase khaki 's rank is  73\n"
     ]
    },
    {
     "name": "stderr",
     "output_type": "stream",
     "text": [
      "100%|████████████████████████████████████████████████████████████████████████████| 6370/6370 [00:03<00:00, 1935.58it/s]\n",
      "100%|██████████████████████████████████████████████████████████████████████████| 6370/6370 [00:00<00:00, 205484.54it/s]\n"
     ]
    },
    {
     "name": "stdout",
     "output_type": "stream",
     "text": [
      "keyphrase black 's rank is  9\n"
     ]
    },
    {
     "name": "stderr",
     "output_type": "stream",
     "text": [
      "100%|████████████████████████████████████████████████████████████████████████████| 6370/6370 [00:03<00:00, 1862.57it/s]\n",
      "100%|██████████████████████████████████████████████████████████████████████████| 6370/6370 [00:00<00:00, 227500.99it/s]\n"
     ]
    },
    {
     "name": "stdout",
     "output_type": "stream",
     "text": [
      "keyphrase yellow 's rank is  12\n"
     ]
    },
    {
     "name": "stderr",
     "output_type": "stream",
     "text": [
      "100%|████████████████████████████████████████████████████████████████████████████| 6370/6370 [00:03<00:00, 1885.17it/s]\n",
      "100%|██████████████████████████████████████████████████████████████████████████| 6370/6370 [00:00<00:00, 227500.99it/s]\n"
     ]
    },
    {
     "name": "stdout",
     "output_type": "stream",
     "text": [
      "keyphrase watery 's rank is  23\n"
     ]
    },
    {
     "name": "stderr",
     "output_type": "stream",
     "text": [
      "100%|████████████████████████████████████████████████████████████████████████████| 6370/6370 [00:03<00:00, 1978.26it/s]\n",
      "100%|██████████████████████████████████████████████████████████████████████████| 6370/6370 [00:00<00:00, 244999.78it/s]\n"
     ]
    },
    {
     "name": "stdout",
     "output_type": "stream",
     "text": [
      "keyphrase slick 's rank is  56\n"
     ]
    },
    {
     "name": "stderr",
     "output_type": "stream",
     "text": [
      "100%|████████████████████████████████████████████████████████████████████████████| 6370/6370 [00:03<00:00, 1956.39it/s]\n",
      "100%|██████████████████████████████████████████████████████████████████████████| 6370/6370 [00:00<00:00, 235926.36it/s]\n"
     ]
    },
    {
     "name": "stdout",
     "output_type": "stream",
     "text": [
      "keyphrase silk 's rank is  61\n"
     ]
    },
    {
     "name": "stderr",
     "output_type": "stream",
     "text": [
      "100%|████████████████████████████████████████████████████████████████████████████| 6370/6370 [00:03<00:00, 2019.02it/s]\n",
      "100%|██████████████████████████████████████████████████████████████████████████| 6370/6370 [00:00<00:00, 205484.54it/s]\n"
     ]
    },
    {
     "name": "stdout",
     "output_type": "stream",
     "text": [
      "keyphrase smooth 's rank is  5\n"
     ]
    },
    {
     "name": "stderr",
     "output_type": "stream",
     "text": [
      "100%|████████████████████████████████████████████████████████████████████████████| 6370/6370 [00:03<00:00, 1993.74it/s]\n",
      "100%|██████████████████████████████████████████████████████████████████████████| 6370/6370 [00:00<00:00, 244999.78it/s]\n"
     ]
    },
    {
     "name": "stdout",
     "output_type": "stream",
     "text": [
      "keyphrase syrup 's rank is  43\n"
     ]
    },
    {
     "name": "stderr",
     "output_type": "stream",
     "text": [
      "100%|████████████████████████████████████████████████████████████████████████████| 6370/6370 [00:03<00:00, 2056.83it/s]\n",
      "100%|██████████████████████████████████████████████████████████████████████████| 6370/6370 [00:00<00:00, 227500.99it/s]\n"
     ]
    },
    {
     "name": "stdout",
     "output_type": "stream",
     "text": [
      "keyphrase velvet 's rank is  68\n"
     ]
    },
    {
     "name": "stderr",
     "output_type": "stream",
     "text": [
      "100%|████████████████████████████████████████████████████████████████████████████| 6370/6370 [00:03<00:00, 2042.32it/s]\n",
      "100%|██████████████████████████████████████████████████████████████████████████| 6370/6370 [00:00<00:00, 235926.36it/s]\n"
     ]
    },
    {
     "name": "stdout",
     "output_type": "stream",
     "text": [
      "keyphrase  red  's rank is  15\n"
     ]
    },
    {
     "name": "stderr",
     "output_type": "stream",
     "text": [
      "100%|████████████████████████████████████████████████████████████████████████████| 6370/6370 [00:03<00:00, 2042.98it/s]\n",
      "100%|██████████████████████████████████████████████████████████████████████████| 6370/6370 [00:00<00:00, 244999.78it/s]\n"
     ]
    },
    {
     "name": "stdout",
     "output_type": "stream",
     "text": [
      "keyphrase mahogany 's rank is  55\n"
     ]
    },
    {
     "name": "stderr",
     "output_type": "stream",
     "text": [
      "100%|████████████████████████████████████████████████████████████████████████████| 6370/6370 [00:03<00:00, 1977.65it/s]\n",
      "100%|██████████████████████████████████████████████████████████████████████████| 6370/6370 [00:00<00:00, 235926.36it/s]\n"
     ]
    },
    {
     "name": "stdout",
     "output_type": "stream",
     "text": [
      "keyphrase ruby 's rank is  34\n"
     ]
    },
    {
     "name": "stderr",
     "output_type": "stream",
     "text": [
      "100%|████████████████████████████████████████████████████████████████████████████| 6370/6370 [00:03<00:00, 1947.42it/s]\n",
      "100%|██████████████████████████████████████████████████████████████████████████| 6370/6370 [00:00<00:00, 244999.78it/s]\n"
     ]
    },
    {
     "name": "stdout",
     "output_type": "stream",
     "text": [
      "keyphrase tulip 's rank is  35\n"
     ]
    },
    {
     "name": "stderr",
     "output_type": "stream",
     "text": [
      "100%|████████████████████████████████████████████████████████████████████████████| 6370/6370 [00:03<00:00, 2069.53it/s]\n",
      "100%|██████████████████████████████████████████████████████████████████████████| 6370/6370 [00:00<00:00, 244999.78it/s]\n"
     ]
    },
    {
     "name": "stdout",
     "output_type": "stream",
     "text": [
      "keyphrase cherry 's rank is  23\n"
     ]
    },
    {
     "name": "stderr",
     "output_type": "stream",
     "text": [
      "100%|████████████████████████████████████████████████████████████████████████████| 6370/6370 [00:03<00:00, 1987.52it/s]\n",
      "100%|██████████████████████████████████████████████████████████████████████████| 6370/6370 [00:00<00:00, 227500.99it/s]\n"
     ]
    },
    {
     "name": "stdout",
     "output_type": "stream",
     "text": [
      "keyphrase plum 's rank is  48\n"
     ]
    },
    {
     "name": "stderr",
     "output_type": "stream",
     "text": [
      "100%|████████████████████████████████████████████████████████████████████████████| 6370/6370 [00:03<00:00, 2071.54it/s]\n",
      "100%|██████████████████████████████████████████████████████████████████████████| 6370/6370 [00:00<00:00, 235926.36it/s]\n"
     ]
    },
    {
     "name": "stdout",
     "output_type": "stream",
     "text": [
      "keyphrase berry 's rank is  26\n"
     ]
    },
    {
     "name": "stderr",
     "output_type": "stream",
     "text": [
      "100%|████████████████████████████████████████████████████████████████████████████| 6370/6370 [00:03<00:00, 2080.34it/s]\n",
      "100%|██████████████████████████████████████████████████████████████████████████| 6370/6370 [00:00<00:00, 235926.36it/s]\n"
     ]
    },
    {
     "name": "stdout",
     "output_type": "stream",
     "text": [
      "keyphrase banana 's rank is  21\n"
     ]
    },
    {
     "name": "stderr",
     "output_type": "stream",
     "text": [
      "100%|████████████████████████████████████████████████████████████████████████████| 6370/6370 [00:03<00:00, 2081.70it/s]\n",
      "100%|██████████████████████████████████████████████████████████████████████████| 6370/6370 [00:00<00:00, 244999.78it/s]\n"
     ]
    },
    {
     "name": "stdout",
     "output_type": "stream",
     "text": [
      "keyphrase bourbon 's rank is  17\n"
     ]
    },
    {
     "name": "stderr",
     "output_type": "stream",
     "text": [
      "100%|████████████████████████████████████████████████████████████████████████████| 6370/6370 [00:03<00:00, 2075.59it/s]\n",
      "100%|██████████████████████████████████████████████████████████████████████████| 6370/6370 [00:00<00:00, 235926.36it/s]\n"
     ]
    },
    {
     "name": "stdout",
     "output_type": "stream",
     "text": [
      "keyphrase oak 's rank is  16\n"
     ]
    },
    {
     "name": "stderr",
     "output_type": "stream",
     "text": [
      "100%|████████████████████████████████████████████████████████████████████████████| 6370/6370 [00:03<00:00, 2082.38it/s]\n",
      "100%|██████████████████████████████████████████████████████████████████████████| 6370/6370 [00:00<00:00, 235924.28it/s]\n"
     ]
    },
    {
     "name": "stdout",
     "output_type": "stream",
     "text": [
      "keyphrase apple 's rank is  22\n"
     ]
    },
    {
     "name": "stderr",
     "output_type": "stream",
     "text": [
      "100%|████████████████████████████████████████████████████████████████████████████| 6370/6370 [00:03<00:00, 2082.38it/s]\n",
      "100%|██████████████████████████████████████████████████████████████████████████| 6370/6370 [00:00<00:00, 235926.36it/s]\n"
     ]
    },
    {
     "name": "stdout",
     "output_type": "stream",
     "text": [
      "keyphrase metallic 's rank is  47\n"
     ]
    },
    {
     "name": "stderr",
     "output_type": "stream",
     "text": [
      "100%|████████████████████████████████████████████████████████████████████████████| 6370/6370 [00:03<00:00, 2078.30it/s]\n",
      "100%|██████████████████████████████████████████████████████████████████████████| 6370/6370 [00:00<00:00, 235926.36it/s]\n"
     ]
    },
    {
     "name": "stdout",
     "output_type": "stream",
     "text": [
      "keyphrase raspberry 's rank is  51\n"
     ]
    },
    {
     "name": "stderr",
     "output_type": "stream",
     "text": [
      "100%|████████████████████████████████████████████████████████████████████████████| 6370/6370 [00:03<00:00, 2074.92it/s]\n",
      "100%|██████████████████████████████████████████████████████████████████████████| 6370/6370 [00:00<00:00, 227500.99it/s]\n"
     ]
    },
    {
     "name": "stdout",
     "output_type": "stream",
     "text": [
      "keyphrase clove 's rank is  23\n"
     ]
    },
    {
     "name": "stderr",
     "output_type": "stream",
     "text": [
      "100%|████████████████████████████████████████████████████████████████████████████| 6370/6370 [00:03<00:00, 2063.49it/s]\n",
      "100%|██████████████████████████████████████████████████████████████████████████| 6370/6370 [00:00<00:00, 254799.03it/s]\n"
     ]
    },
    {
     "name": "stdout",
     "output_type": "stream",
     "text": [
      "keyphrase apricot 's rank is  59\n"
     ]
    },
    {
     "name": "stderr",
     "output_type": "stream",
     "text": [
      "100%|████████████████████████████████████████████████████████████████████████████| 6370/6370 [00:03<00:00, 2072.22it/s]\n",
      "100%|██████████████████████████████████████████████████████████████████████████| 6370/6370 [00:00<00:00, 227500.99it/s]\n"
     ]
    },
    {
     "name": "stdout",
     "output_type": "stream",
     "text": [
      "keyphrase coriander 's rank is  46\n"
     ]
    },
    {
     "name": "stderr",
     "output_type": "stream",
     "text": [
      "100%|████████████████████████████████████████████████████████████████████████████| 6370/6370 [00:03<00:00, 2081.02it/s]\n",
      "100%|██████████████████████████████████████████████████████████████████████████| 6370/6370 [00:00<00:00, 244999.78it/s]\n"
     ]
    },
    {
     "name": "stdout",
     "output_type": "stream",
     "text": [
      "keyphrase pepper 's rank is  30\n"
     ]
    },
    {
     "data": {
      "text/plain": [
       "28.026666666666667"
      ]
     },
     "execution_count": 147,
     "metadata": {},
     "output_type": "execute_result"
    }
   ],
   "source": [
    "evaluate_pilot_test(rtrain,U_K,I_K,keyphrases)"
   ]
  },
  {
   "cell_type": "code",
   "execution_count": 148,
   "metadata": {
    "scrolled": true
   },
   "outputs": [
    {
     "data": {
      "text/plain": [
       "['roast',\n",
       " 'sweet',\n",
       " 'caramel',\n",
       " 'backbone',\n",
       " 'toast',\n",
       " 'bread',\n",
       " 'chocolate',\n",
       " 'biscuit',\n",
       " 'coffee',\n",
       " 'wheat',\n",
       " 'grain',\n",
       " 'yeast',\n",
       " 'citrus',\n",
       " 'toffee',\n",
       " 'fruit',\n",
       " 'nutty',\n",
       " 'bitter',\n",
       " 'barley',\n",
       " 'floral',\n",
       " 'honey',\n",
       " 'earthy',\n",
       " 'spic',\n",
       " 'smok',\n",
       " 'molass',\n",
       " 'sugar',\n",
       " ' rye ',\n",
       " 'grass',\n",
       " 'cocoa',\n",
       " 'chew',\n",
       " 'butter',\n",
       " 'sour',\n",
       " ' pine ',\n",
       " 'herbal',\n",
       " 'citric',\n",
       " 'grapefruit',\n",
       " 'resin',\n",
       " 'crisp',\n",
       " 'pungent',\n",
       " 'wood',\n",
       " 'orang',\n",
       " 'lemon',\n",
       " 'offwhite',\n",
       " ' white',\n",
       " 'tan',\n",
       " 'brown',\n",
       " 'gold',\n",
       " 'beige',\n",
       " 'copper',\n",
       " 'mocha',\n",
       " 'khaki',\n",
       " 'black',\n",
       " 'yellow',\n",
       " 'watery',\n",
       " 'slick',\n",
       " 'silk',\n",
       " 'smooth',\n",
       " 'syrup',\n",
       " 'velvet',\n",
       " ' red ',\n",
       " 'mahogany',\n",
       " 'ruby',\n",
       " 'tulip',\n",
       " 'cherry',\n",
       " 'plum',\n",
       " 'berry',\n",
       " 'banana',\n",
       " 'bourbon',\n",
       " 'oak',\n",
       " 'apple',\n",
       " 'metallic',\n",
       " 'raspberry',\n",
       " 'clove',\n",
       " 'apricot',\n",
       " 'coriander',\n",
       " 'pepper']"
      ]
     },
     "execution_count": 148,
     "metadata": {},
     "output_type": "execute_result"
    }
   ],
   "source": [
    "keyphrases"
   ]
  },
  {
   "cell_type": "markdown",
   "metadata": {},
   "source": [
    "# Create Synthetic Item i1"
   ]
  },
  {
   "cell_type": "markdown",
   "metadata": {},
   "source": [
    "2 things can be done here, we already did 1, will do 2 this time.\n",
    "1. Cold-start: we have a item1 which haven't been tried by any users, but we know its keyphrases I_K, we can predict who (users) will like it by constructing I_I and mutiply by I_U to get predicted I_U\n",
    "2. We know item1 is liked by some user (those user have a certain taste described by U_K matrix), we can then describe/categorize it with some keyphrase I_K"
   ]
  },
  {
   "cell_type": "code",
   "execution_count": 167,
   "metadata": {
    "collapsed": true
   },
   "outputs": [],
   "source": [
    "# Get top_users items associated with keyphrase_ids \n",
    "def users_with_keyphrase_preference(U_K, keyphrase_ids, top_users = 100, norm = True):\n",
    "    \"\"\"\n",
    "    U_K: User Keyphrase Matrix\n",
    "    Keyphrase_ids: top_users who like keyphrase_ids\n",
    "    output item list (unique)\n",
    "    \"\"\"\n",
    "    res = []\n",
    "    if norm:\n",
    "        U_K = normalize(U_K)\n",
    "    try:\n",
    "        for keyphrase_id in keyphrase_ids:\n",
    "            res.append(np.argsort(np.ravel(U_K.todense()[:,keyphrase_id]))[::-1][:top_users])\n",
    "    except:\n",
    "        return np.argsort(np.ravel(U_K.todense()[:,keyphrase_ids]))[::-1][:top_users]\n",
    "    return np.unique(res)\n",
    "\n",
    "# Modify I_I latent Space from U_I\n",
    "def modify_item_history(U_I, users, item_id = 0):\n",
    "    \"\"\"\n",
    "    TODO: Fix the function s.t. it will not modify the initial matrix\n",
    "    \"\"\"\n",
    "    U_I[:,item_id] = 0\n",
    "    for i in users:\n",
    "        U_I[i, item_id] = 1\n",
    "    return normalize(U_I)\n",
    "\n",
    "def clear_item_keyphrase(I_K, item_id = 0):\n",
    "    I_K[item_id, :] = 0\n",
    "\n",
    "def explain_synthetic_item(rtrain, U_K, I_K, keyphrases, top_keyphrase = 20, user_id = 0, k = 100, top_users = 100, **Not_used):\n",
    "    \"\"\"\n",
    "    \n",
    "    \"\"\"\n",
    "    items = item_associated_with_keyphrase(I_K, keyphrases, top_items = top_items) # 8 is coffee\n",
    "    U_I = modify_user_preference(rtrain, items, user_id=user_id)\n",
    "    modified_U_U = train(U_I)\n",
    "    U_K[user_id, :] = 0\n",
    "    synthetic_user_keyphrase = normalize(predict(U_K, k, modified_U_U))[user_id]\n",
    "    return np.argsort(synthetic_user_keyphrase)[::-1][:top_keyphrase]\n",
    "\n",
    "def modify_user_keyphrase(U_K, keyphrase_ids, normalization = True, keyval = 1, user_id = 0, **Not_Used):\n",
    "    \"\"\"\n",
    "    Change all keyphrase_ids to some fixed number, all others to 0\n",
    "    Return the U_K matrix with user_id row the synthetic user1\n",
    "    \"\"\"\n",
    "    U_K[user_id,:] = 0\n",
    "    for keyphrase_id in keyphrase_ids:\n",
    "        U_K[user_id,keyphrase_id] = keyval\n",
    "    if normalization == True:\n",
    "        return normalize(U_K)\n",
    "    return U_K"
   ]
  },
  {
   "cell_type": "markdown",
   "metadata": {},
   "source": [
    "## Prediction Pipeline"
   ]
  },
  {
   "cell_type": "code",
   "execution_count": 174,
   "metadata": {
    "collapsed": true
   },
   "outputs": [],
   "source": [
    "U_K = load_npz('../../data/beer/U_K.npz')\n",
    "I_K = load_npz('../../data/beer/I_K.npz')\n",
    "U_K = normalize(U_K)\n",
    "I_K = normalize(I_K)\n",
    "rtrain = load_npz(\"../../data/beer/Rtrain.npz\")"
   ]
  },
  {
   "cell_type": "code",
   "execution_count": 169,
   "metadata": {},
   "outputs": [
    {
     "name": "stderr",
     "output_type": "stream",
     "text": [
      "D:\\Anaconda\\envs\\py27\\lib\\site-packages\\ipykernel_launcher.py:23: SparseEfficiencyWarning: Changing the sparsity structure of a csr_matrix is expensive. lil_matrix is more efficient.\n"
     ]
    }
   ],
   "source": [
    "# Modify user preference matrix\n",
    "users = users_with_keyphrase_preference(U_K, 70, top_users = 100, norm = True) # 'raspberry'\n",
    "U_I = modify_item_history(rtrain, users, item_id = 0)"
   ]
  },
  {
   "cell_type": "code",
   "execution_count": 170,
   "metadata": {},
   "outputs": [
    {
     "name": "stderr",
     "output_type": "stream",
     "text": [
      "D:\\Anaconda\\envs\\py27\\lib\\site-packages\\ipykernel_launcher.py:29: SparseEfficiencyWarning: Changing the sparsity structure of a csr_matrix is expensive. lil_matrix is more efficient.\n"
     ]
    }
   ],
   "source": [
    "# make synthetic item1's keyphrase to all 0\n",
    "clear_item_keyphrase(I_K, item_id = 0)"
   ]
  },
  {
   "cell_type": "code",
   "execution_count": 179,
   "metadata": {},
   "outputs": [
    {
     "name": "stderr",
     "output_type": "stream",
     "text": [
      "100%|████████████████████████████████████████████████████████████████████████████| 3668/3668 [00:01<00:00, 2288.21it/s]\n",
      "100%|██████████████████████████████████████████████████████████████████████████| 3668/3668 [00:00<00:00, 215765.21it/s]\n"
     ]
    }
   ],
   "source": [
    "# Get latent item similarity embedding\n",
    "modified_I_I = train(np.transpose(U_I))\n",
    "# predict\n",
    "explanation_scores1 = predict(I_K, 100, modified_I_I)\n",
    "explanation1 =  predict_pilot_explanation(explanation_scores1, top_keyphrase = 70)"
   ]
  },
  {
   "cell_type": "code",
   "execution_count": 185,
   "metadata": {
    "collapsed": true
   },
   "outputs": [],
   "source": [
    "def rank_in_prediction_item(rtrain, U_K, I_K, top_users = 200, keyphrase = 70, item_i = 0):\n",
    "    \"\"\"\n",
    "    Get the rank for user_i with keyphrase\n",
    "    TODO: modify so that no need to reload U_K,I_K\n",
    "    \"\"\"  \n",
    "    U_K = load_npz('../../data/beer/U_K.npz')\n",
    "    I_K = load_npz('../../data/beer/I_K.npz')\n",
    "    U_K = normalize(U_K)\n",
    "    I_K = normalize(I_K)\n",
    "    rtrain = load_npz(\"../../data/beer/Rtrain.npz\")\n",
    "    \n",
    "    # Modify user preference matrix\n",
    "    users = users_with_keyphrase_preference(U_K, keyphrase, top_users = top_users, norm = True) # 'raspberry'\n",
    "    U_I = modify_item_history(rtrain, users, item_id = item_i)\n",
    "    \n",
    "    # make synthetic item1's keyphrase to all 0\n",
    "    clear_item_keyphrase(I_K, item_id = item_i)\n",
    "    \n",
    "    # Get latent item similarity embedding\n",
    "    modified_I_I = train(np.transpose(U_I))\n",
    "    # predict\n",
    "    explanation_scores1 = predict(I_K, 100, modified_I_I)\n",
    "    explanation1 =  predict_pilot_explanation(explanation_scores1, top_keyphrase = 75)\n",
    "    return list(explanation1[item_i]).index(keyphrase)\n",
    "\n",
    "    \n",
    "def evaluate_pilot_test_item(rtrain,U_K, I_K,keyphrase_list, top_users = 200, item_i = 0):\n",
    "    # Get the average rank for item_i with keyphrase  \n",
    "    res1 = 0\n",
    "    for i in range(75):\n",
    "        a = rank_in_prediction_item(rtrain, U_K, I_K, top_users = top_users, keyphrase = i, item_i = item_i)\n",
    "        print \"keyphrase\", keyphrase_list[i], \"'s rank is \", a\n",
    "        res1+= a\n",
    "    return res1/75"
   ]
  },
  {
   "cell_type": "code",
   "execution_count": 183,
   "metadata": {},
   "outputs": [
    {
     "name": "stderr",
     "output_type": "stream",
     "text": [
      "D:\\Anaconda\\envs\\py27\\lib\\site-packages\\ipykernel_launcher.py:23: SparseEfficiencyWarning: Changing the sparsity structure of a csr_matrix is expensive. lil_matrix is more efficient.\n",
      "D:\\Anaconda\\envs\\py27\\lib\\site-packages\\ipykernel_launcher.py:29: SparseEfficiencyWarning: Changing the sparsity structure of a csr_matrix is expensive. lil_matrix is more efficient.\n",
      "100%|████████████████████████████████████████████████████████████████████████████| 3668/3668 [00:01<00:00, 2262.80it/s]\n",
      "100%|██████████████████████████████████████████████████████████████████████████| 3668/3668 [00:00<00:00, 244535.51it/s]\n"
     ]
    },
    {
     "data": {
      "text/plain": [
       "5"
      ]
     },
     "execution_count": 183,
     "metadata": {},
     "output_type": "execute_result"
    }
   ],
   "source": [
    "rank_in_prediction_item(rtrain, U_K, I_K, top_users = 200, keyphrase = 10, item_i = 0)"
   ]
  },
  {
   "cell_type": "code",
   "execution_count": 187,
   "metadata": {
    "scrolled": true
   },
   "outputs": [
    {
     "name": "stderr",
     "output_type": "stream",
     "text": [
      "D:\\Anaconda\\envs\\py27\\lib\\site-packages\\ipykernel_launcher.py:23: SparseEfficiencyWarning: Changing the sparsity structure of a csr_matrix is expensive. lil_matrix is more efficient.\n",
      "D:\\Anaconda\\envs\\py27\\lib\\site-packages\\ipykernel_launcher.py:29: SparseEfficiencyWarning: Changing the sparsity structure of a csr_matrix is expensive. lil_matrix is more efficient.\n",
      "100%|████████████████████████████████████████████████████████████████████████████| 3668/3668 [00:01<00:00, 2248.93it/s]\n",
      "100%|██████████████████████████████████████████████████████████████████████████| 3668/3668 [00:00<00:00, 229249.54it/s]\n"
     ]
    },
    {
     "name": "stdout",
     "output_type": "stream",
     "text": [
      "keyphrase roast 's rank is  5\n"
     ]
    },
    {
     "name": "stderr",
     "output_type": "stream",
     "text": [
      "100%|████████████████████████████████████████████████████████████████████████████| 3668/3668 [00:01<00:00, 2187.24it/s]\n",
      "100%|██████████████████████████████████████████████████████████████████████████| 3668/3668 [00:00<00:00, 229249.54it/s]\n"
     ]
    },
    {
     "name": "stdout",
     "output_type": "stream",
     "text": [
      "keyphrase sweet 's rank is  0\n"
     ]
    },
    {
     "name": "stderr",
     "output_type": "stream",
     "text": [
      "100%|████████████████████████████████████████████████████████████████████████████| 3668/3668 [00:01<00:00, 2120.23it/s]\n",
      "100%|██████████████████████████████████████████████████████████████████████████| 3668/3668 [00:00<00:00, 229249.54it/s]\n"
     ]
    },
    {
     "name": "stdout",
     "output_type": "stream",
     "text": [
      "keyphrase caramel 's rank is  3\n"
     ]
    },
    {
     "name": "stderr",
     "output_type": "stream",
     "text": [
      "100%|████████████████████████████████████████████████████████████████████████████| 3668/3668 [00:01<00:00, 2153.85it/s]\n",
      "100%|██████████████████████████████████████████████████████████████████████████| 3668/3668 [00:00<00:00, 229252.95it/s]\n"
     ]
    },
    {
     "name": "stdout",
     "output_type": "stream",
     "text": [
      "keyphrase backbone 's rank is  50\n"
     ]
    },
    {
     "name": "stderr",
     "output_type": "stream",
     "text": [
      "100%|████████████████████████████████████████████████████████████████████████████| 3668/3668 [00:01<00:00, 2243.43it/s]\n",
      "100%|██████████████████████████████████████████████████████████████████████████| 3668/3668 [00:00<00:00, 229252.95it/s]\n"
     ]
    },
    {
     "name": "stdout",
     "output_type": "stream",
     "text": [
      "keyphrase toast 's rank is  22\n"
     ]
    },
    {
     "name": "stderr",
     "output_type": "stream",
     "text": [
      "100%|████████████████████████████████████████████████████████████████████████████| 3668/3668 [00:01<00:00, 2169.13it/s]\n",
      "100%|██████████████████████████████████████████████████████████████████████████| 3668/3668 [00:00<00:00, 229249.54it/s]\n"
     ]
    },
    {
     "name": "stdout",
     "output_type": "stream",
     "text": [
      "keyphrase bread 's rank is  15\n"
     ]
    },
    {
     "name": "stderr",
     "output_type": "stream",
     "text": [
      "100%|████████████████████████████████████████████████████████████████████████████| 3668/3668 [00:01<00:00, 2220.34it/s]\n",
      "100%|██████████████████████████████████████████████████████████████████████████| 3668/3668 [00:00<00:00, 229249.54it/s]\n"
     ]
    },
    {
     "name": "stdout",
     "output_type": "stream",
     "text": [
      "keyphrase chocolate 's rank is  1\n"
     ]
    },
    {
     "name": "stderr",
     "output_type": "stream",
     "text": [
      "100%|████████████████████████████████████████████████████████████████████████████| 3668/3668 [00:01<00:00, 2283.94it/s]\n",
      "100%|██████████████████████████████████████████████████████████████████████████| 3668/3668 [00:00<00:00, 229249.54it/s]\n"
     ]
    },
    {
     "name": "stdout",
     "output_type": "stream",
     "text": [
      "keyphrase biscuit 's rank is  40\n"
     ]
    },
    {
     "name": "stderr",
     "output_type": "stream",
     "text": [
      "100%|████████████████████████████████████████████████████████████████████████████| 3668/3668 [00:01<00:00, 2152.58it/s]\n",
      "100%|██████████████████████████████████████████████████████████████████████████| 3668/3668 [00:00<00:00, 229249.54it/s]\n"
     ]
    },
    {
     "name": "stdout",
     "output_type": "stream",
     "text": [
      "keyphrase coffee 's rank is  8\n"
     ]
    },
    {
     "name": "stderr",
     "output_type": "stream",
     "text": [
      "100%|████████████████████████████████████████████████████████████████████████████| 3668/3668 [00:01<00:00, 2012.07it/s]\n",
      "100%|██████████████████████████████████████████████████████████████████████████| 3668/3668 [00:00<00:00, 215765.21it/s]\n"
     ]
    },
    {
     "name": "stdout",
     "output_type": "stream",
     "text": [
      "keyphrase wheat 's rank is  6\n"
     ]
    },
    {
     "name": "stderr",
     "output_type": "stream",
     "text": [
      "100%|████████████████████████████████████████████████████████████████████████████| 3668/3668 [00:01<00:00, 2074.66it/s]\n",
      "100%|██████████████████████████████████████████████████████████████████████████| 3668/3668 [00:00<00:00, 229249.54it/s]\n"
     ]
    },
    {
     "name": "stdout",
     "output_type": "stream",
     "text": [
      "keyphrase grain 's rank is  5\n"
     ]
    },
    {
     "name": "stderr",
     "output_type": "stream",
     "text": [
      "100%|████████████████████████████████████████████████████████████████████████████| 3668/3668 [00:01<00:00, 2193.78it/s]\n",
      "100%|██████████████████████████████████████████████████████████████████████████| 3668/3668 [00:00<00:00, 244531.62it/s]\n"
     ]
    },
    {
     "name": "stdout",
     "output_type": "stream",
     "text": [
      "keyphrase yeast 's rank is  5\n"
     ]
    },
    {
     "name": "stderr",
     "output_type": "stream",
     "text": [
      "100%|████████████████████████████████████████████████████████████████████████████| 3668/3668 [00:01<00:00, 1882.96it/s]\n",
      "100%|██████████████████████████████████████████████████████████████████████████| 3668/3668 [00:00<00:00, 215765.21it/s]\n"
     ]
    },
    {
     "name": "stdout",
     "output_type": "stream",
     "text": [
      "keyphrase citrus 's rank is  3\n"
     ]
    },
    {
     "name": "stderr",
     "output_type": "stream",
     "text": [
      "100%|████████████████████████████████████████████████████████████████████████████| 3668/3668 [00:01<00:00, 2219.00it/s]\n",
      "100%|██████████████████████████████████████████████████████████████████████████| 3668/3668 [00:00<00:00, 244535.51it/s]\n"
     ]
    },
    {
     "name": "stdout",
     "output_type": "stream",
     "text": [
      "keyphrase toffee 's rank is  32\n"
     ]
    },
    {
     "name": "stderr",
     "output_type": "stream",
     "text": [
      "100%|████████████████████████████████████████████████████████████████████████████| 3668/3668 [00:01<00:00, 2155.11it/s]\n",
      "100%|██████████████████████████████████████████████████████████████████████████| 3668/3668 [00:00<00:00, 215765.21it/s]\n"
     ]
    },
    {
     "name": "stdout",
     "output_type": "stream",
     "text": [
      "keyphrase fruit 's rank is  1\n"
     ]
    },
    {
     "name": "stderr",
     "output_type": "stream",
     "text": [
      "100%|████████████████████████████████████████████████████████████████████████████| 3668/3668 [00:01<00:00, 2217.65it/s]\n",
      "100%|██████████████████████████████████████████████████████████████████████████| 3668/3668 [00:00<00:00, 229252.95it/s]\n"
     ]
    },
    {
     "name": "stdout",
     "output_type": "stream",
     "text": [
      "keyphrase nutty 's rank is  34\n"
     ]
    },
    {
     "name": "stderr",
     "output_type": "stream",
     "text": [
      "100%|████████████████████████████████████████████████████████████████████████████| 3668/3668 [00:01<00:00, 2236.59it/s]\n",
      "100%|██████████████████████████████████████████████████████████████████████████| 3668/3668 [00:00<00:00, 244535.51it/s]\n"
     ]
    },
    {
     "name": "stdout",
     "output_type": "stream",
     "text": [
      "keyphrase bitter 's rank is  1\n"
     ]
    },
    {
     "name": "stderr",
     "output_type": "stream",
     "text": [
      "100%|████████████████████████████████████████████████████████████████████████████| 3668/3668 [00:01<00:00, 2160.19it/s]\n",
      "100%|██████████████████████████████████████████████████████████████████████████| 3668/3668 [00:00<00:00, 229249.54it/s]\n"
     ]
    },
    {
     "name": "stdout",
     "output_type": "stream",
     "text": [
      "keyphrase barley 's rank is  25\n"
     ]
    },
    {
     "name": "stderr",
     "output_type": "stream",
     "text": [
      "100%|████████████████████████████████████████████████████████████████████████████| 3668/3668 [00:01<00:00, 2165.29it/s]\n",
      "100%|██████████████████████████████████████████████████████████████████████████| 3668/3668 [00:00<00:00, 229252.95it/s]\n"
     ]
    },
    {
     "name": "stdout",
     "output_type": "stream",
     "text": [
      "keyphrase floral 's rank is  13\n"
     ]
    },
    {
     "name": "stderr",
     "output_type": "stream",
     "text": [
      "100%|████████████████████████████████████████████████████████████████████████████| 3668/3668 [00:01<00:00, 2128.85it/s]\n",
      "100%|██████████████████████████████████████████████████████████████████████████| 3668/3668 [00:00<00:00, 244535.51it/s]\n"
     ]
    },
    {
     "name": "stdout",
     "output_type": "stream",
     "text": [
      "keyphrase honey 's rank is  31\n"
     ]
    },
    {
     "name": "stderr",
     "output_type": "stream",
     "text": [
      "100%|████████████████████████████████████████████████████████████████████████████| 3668/3668 [00:01<00:00, 2204.33it/s]\n",
      "100%|██████████████████████████████████████████████████████████████████████████| 3668/3668 [00:00<00:00, 244535.51it/s]\n"
     ]
    },
    {
     "name": "stdout",
     "output_type": "stream",
     "text": [
      "keyphrase earthy 's rank is  23\n"
     ]
    },
    {
     "name": "stderr",
     "output_type": "stream",
     "text": [
      "100%|████████████████████████████████████████████████████████████████████████████| 3668/3668 [00:01<00:00, 2117.78it/s]\n",
      "100%|██████████████████████████████████████████████████████████████████████████| 3668/3668 [00:00<00:00, 229252.95it/s]\n"
     ]
    },
    {
     "name": "stdout",
     "output_type": "stream",
     "text": [
      "keyphrase spic 's rank is  1\n"
     ]
    },
    {
     "name": "stderr",
     "output_type": "stream",
     "text": [
      "100%|████████████████████████████████████████████████████████████████████████████| 3668/3668 [00:01<00:00, 2289.64it/s]\n",
      "100%|██████████████████████████████████████████████████████████████████████████| 3668/3668 [00:00<00:00, 244535.51it/s]\n"
     ]
    },
    {
     "name": "stdout",
     "output_type": "stream",
     "text": [
      "keyphrase smok 's rank is  24\n"
     ]
    },
    {
     "name": "stderr",
     "output_type": "stream",
     "text": [
      "100%|████████████████████████████████████████████████████████████████████████████| 3668/3668 [00:01<00:00, 2296.81it/s]\n",
      "100%|██████████████████████████████████████████████████████████████████████████| 3668/3668 [00:00<00:00, 215765.21it/s]\n"
     ]
    },
    {
     "name": "stdout",
     "output_type": "stream",
     "text": [
      "keyphrase molass 's rank is  35\n"
     ]
    },
    {
     "name": "stderr",
     "output_type": "stream",
     "text": [
      "100%|████████████████████████████████████████████████████████████████████████████| 3668/3668 [00:01<00:00, 2304.02it/s]\n",
      "100%|██████████████████████████████████████████████████████████████████████████| 3668/3668 [00:00<00:00, 229249.54it/s]\n"
     ]
    },
    {
     "name": "stdout",
     "output_type": "stream",
     "text": [
      "keyphrase sugar 's rank is  17\n"
     ]
    },
    {
     "name": "stderr",
     "output_type": "stream",
     "text": [
      "100%|████████████████████████████████████████████████████████████████████████████| 3668/3668 [00:01<00:00, 2301.13it/s]\n",
      "100%|██████████████████████████████████████████████████████████████████████████| 3668/3668 [00:00<00:00, 229249.54it/s]\n"
     ]
    },
    {
     "name": "stdout",
     "output_type": "stream",
     "text": [
      "keyphrase  rye  's rank is  19\n"
     ]
    },
    {
     "name": "stderr",
     "output_type": "stream",
     "text": [
      "100%|████████████████████████████████████████████████████████████████████████████| 3668/3668 [00:01<00:00, 2293.93it/s]\n",
      "100%|██████████████████████████████████████████████████████████████████████████| 3668/3668 [00:00<00:00, 215765.21it/s]\n"
     ]
    },
    {
     "name": "stdout",
     "output_type": "stream",
     "text": [
      "keyphrase grass 's rank is  18\n"
     ]
    },
    {
     "name": "stderr",
     "output_type": "stream",
     "text": [
      "100%|████████████████████████████████████████████████████████████████████████████| 3668/3668 [00:01<00:00, 2286.78it/s]\n",
      "100%|██████████████████████████████████████████████████████████████████████████| 3668/3668 [00:00<00:00, 244531.62it/s]\n"
     ]
    },
    {
     "name": "stdout",
     "output_type": "stream",
     "text": [
      "keyphrase cocoa 's rank is  34\n"
     ]
    },
    {
     "name": "stderr",
     "output_type": "stream",
     "text": [
      "100%|████████████████████████████████████████████████████████████████████████████| 3668/3668 [00:01<00:00, 2292.50it/s]\n",
      "100%|██████████████████████████████████████████████████████████████████████████| 3668/3668 [00:00<00:00, 229249.54it/s]\n"
     ]
    },
    {
     "name": "stdout",
     "output_type": "stream",
     "text": [
      "keyphrase chew 's rank is  53\n"
     ]
    },
    {
     "name": "stderr",
     "output_type": "stream",
     "text": [
      "100%|████████████████████████████████████████████████████████████████████████████| 3668/3668 [00:01<00:00, 2279.68it/s]\n",
      "100%|██████████████████████████████████████████████████████████████████████████| 3668/3668 [00:00<00:00, 244535.51it/s]\n"
     ]
    },
    {
     "name": "stdout",
     "output_type": "stream",
     "text": [
      "keyphrase butter 's rank is  43\n"
     ]
    },
    {
     "name": "stderr",
     "output_type": "stream",
     "text": [
      "100%|████████████████████████████████████████████████████████████████████████████| 3668/3668 [00:01<00:00, 2293.93it/s]\n",
      "100%|██████████████████████████████████████████████████████████████████████████| 3668/3668 [00:00<00:00, 215765.21it/s]\n"
     ]
    },
    {
     "name": "stdout",
     "output_type": "stream",
     "text": [
      "keyphrase sour 's rank is  2\n"
     ]
    },
    {
     "name": "stderr",
     "output_type": "stream",
     "text": [
      "100%|████████████████████████████████████████████████████████████████████████████| 3668/3668 [00:01<00:00, 2298.25it/s]\n",
      "100%|██████████████████████████████████████████████████████████████████████████| 3668/3668 [00:00<00:00, 229249.54it/s]\n"
     ]
    },
    {
     "name": "stdout",
     "output_type": "stream",
     "text": [
      "keyphrase  pine  's rank is  6\n"
     ]
    },
    {
     "name": "stderr",
     "output_type": "stream",
     "text": [
      "100%|████████████████████████████████████████████████████████████████████████████| 3668/3668 [00:01<00:00, 2301.13it/s]\n",
      "100%|██████████████████████████████████████████████████████████████████████████| 3668/3668 [00:00<00:00, 229249.54it/s]\n"
     ]
    },
    {
     "name": "stdout",
     "output_type": "stream",
     "text": [
      "keyphrase herbal 's rank is  39\n"
     ]
    },
    {
     "name": "stderr",
     "output_type": "stream",
     "text": [
      "100%|████████████████████████████████████████████████████████████████████████████| 3668/3668 [00:01<00:00, 2298.25it/s]\n",
      "100%|██████████████████████████████████████████████████████████████████████████| 3668/3668 [00:00<00:00, 229249.54it/s]\n"
     ]
    },
    {
     "name": "stdout",
     "output_type": "stream",
     "text": [
      "keyphrase citric 's rank is  60\n"
     ]
    },
    {
     "name": "stderr",
     "output_type": "stream",
     "text": [
      "100%|████████████████████████████████████████████████████████████████████████████| 3668/3668 [00:01<00:00, 2298.25it/s]\n",
      "100%|██████████████████████████████████████████████████████████████████████████| 3668/3668 [00:00<00:00, 244535.51it/s]\n"
     ]
    },
    {
     "name": "stdout",
     "output_type": "stream",
     "text": [
      "keyphrase grapefruit 's rank is  9\n"
     ]
    },
    {
     "name": "stderr",
     "output_type": "stream",
     "text": [
      "100%|████████████████████████████████████████████████████████████████████████████| 3668/3668 [00:01<00:00, 2295.37it/s]\n",
      "100%|██████████████████████████████████████████████████████████████████████████| 3668/3668 [00:00<00:00, 215765.21it/s]\n"
     ]
    },
    {
     "name": "stdout",
     "output_type": "stream",
     "text": [
      "keyphrase resin 's rank is  23\n"
     ]
    },
    {
     "name": "stderr",
     "output_type": "stream",
     "text": [
      "100%|████████████████████████████████████████████████████████████████████████████| 3668/3668 [00:01<00:00, 2283.94it/s]\n",
      "100%|██████████████████████████████████████████████████████████████████████████| 3668/3668 [00:00<00:00, 229249.54it/s]\n"
     ]
    },
    {
     "name": "stdout",
     "output_type": "stream",
     "text": [
      "keyphrase crisp 's rank is  13\n"
     ]
    },
    {
     "name": "stderr",
     "output_type": "stream",
     "text": [
      "100%|████████████████████████████████████████████████████████████████████████████| 3668/3668 [00:01<00:00, 2288.21it/s]\n",
      "100%|██████████████████████████████████████████████████████████████████████████| 3668/3668 [00:00<00:00, 229249.54it/s]\n"
     ]
    },
    {
     "name": "stdout",
     "output_type": "stream",
     "text": [
      "keyphrase pungent 's rank is  71\n"
     ]
    },
    {
     "name": "stderr",
     "output_type": "stream",
     "text": [
      "100%|████████████████████████████████████████████████████████████████████████████| 3668/3668 [00:01<00:00, 2301.13it/s]\n",
      "100%|██████████████████████████████████████████████████████████████████████████| 3668/3668 [00:00<00:00, 229249.54it/s]\n"
     ]
    },
    {
     "name": "stdout",
     "output_type": "stream",
     "text": [
      "keyphrase wood 's rank is  29\n"
     ]
    },
    {
     "name": "stderr",
     "output_type": "stream",
     "text": [
      "100%|████████████████████████████████████████████████████████████████████████████| 3668/3668 [00:01<00:00, 2292.50it/s]\n",
      "100%|██████████████████████████████████████████████████████████████████████████| 3668/3668 [00:00<00:00, 215762.19it/s]\n"
     ]
    },
    {
     "name": "stdout",
     "output_type": "stream",
     "text": [
      "keyphrase orang 's rank is  3\n"
     ]
    },
    {
     "name": "stderr",
     "output_type": "stream",
     "text": [
      "100%|████████████████████████████████████████████████████████████████████████████| 3668/3668 [00:01<00:00, 2305.47it/s]\n",
      "100%|██████████████████████████████████████████████████████████████████████████| 3668/3668 [00:00<00:00, 229252.95it/s]\n"
     ]
    },
    {
     "name": "stdout",
     "output_type": "stream",
     "text": [
      "keyphrase lemon 's rank is  9\n"
     ]
    },
    {
     "name": "stderr",
     "output_type": "stream",
     "text": [
      "100%|████████████████████████████████████████████████████████████████████████████| 3668/3668 [00:01<00:00, 2299.69it/s]\n",
      "100%|██████████████████████████████████████████████████████████████████████████| 3668/3668 [00:00<00:00, 229249.54it/s]\n"
     ]
    },
    {
     "name": "stdout",
     "output_type": "stream",
     "text": [
      "keyphrase offwhite 's rank is  18\n"
     ]
    },
    {
     "name": "stderr",
     "output_type": "stream",
     "text": [
      "100%|████████████████████████████████████████████████████████████████████████████| 3668/3668 [00:01<00:00, 2298.25it/s]\n",
      "100%|██████████████████████████████████████████████████████████████████████████| 3668/3668 [00:00<00:00, 229249.54it/s]\n"
     ]
    },
    {
     "name": "stdout",
     "output_type": "stream",
     "text": [
      "keyphrase  white 's rank is  3\n"
     ]
    },
    {
     "name": "stderr",
     "output_type": "stream",
     "text": [
      "100%|████████████████████████████████████████████████████████████████████████████| 3668/3668 [00:01<00:00, 2298.25it/s]\n",
      "100%|██████████████████████████████████████████████████████████████████████████| 3668/3668 [00:00<00:00, 244535.51it/s]\n"
     ]
    },
    {
     "name": "stdout",
     "output_type": "stream",
     "text": [
      "keyphrase tan 's rank is  6\n"
     ]
    },
    {
     "name": "stderr",
     "output_type": "stream",
     "text": [
      "100%|████████████████████████████████████████████████████████████████████████████| 3668/3668 [00:01<00:00, 2296.81it/s]\n",
      "100%|██████████████████████████████████████████████████████████████████████████| 3668/3668 [00:00<00:00, 229249.54it/s]\n"
     ]
    },
    {
     "name": "stdout",
     "output_type": "stream",
     "text": [
      "keyphrase brown 's rank is  2\n"
     ]
    },
    {
     "name": "stderr",
     "output_type": "stream",
     "text": [
      "100%|████████████████████████████████████████████████████████████████████████████| 3668/3668 [00:01<00:00, 2272.61it/s]\n",
      "100%|██████████████████████████████████████████████████████████████████████████| 3668/3668 [00:00<00:00, 244535.51it/s]\n"
     ]
    },
    {
     "name": "stdout",
     "output_type": "stream",
     "text": [
      "keyphrase gold 's rank is  3\n"
     ]
    },
    {
     "name": "stderr",
     "output_type": "stream",
     "text": [
      "100%|████████████████████████████████████████████████████████████████████████████| 3668/3668 [00:01<00:00, 2291.07it/s]\n",
      "100%|██████████████████████████████████████████████████████████████████████████| 3668/3668 [00:00<00:00, 244535.51it/s]\n"
     ]
    },
    {
     "name": "stdout",
     "output_type": "stream",
     "text": [
      "keyphrase beige 's rank is  53\n"
     ]
    },
    {
     "name": "stderr",
     "output_type": "stream",
     "text": [
      "100%|████████████████████████████████████████████████████████████████████████████| 3668/3668 [00:01<00:00, 2302.57it/s]\n",
      "100%|██████████████████████████████████████████████████████████████████████████| 3668/3668 [00:00<00:00, 244535.51it/s]\n"
     ]
    },
    {
     "name": "stdout",
     "output_type": "stream",
     "text": [
      "keyphrase copper 's rank is  12\n"
     ]
    },
    {
     "name": "stderr",
     "output_type": "stream",
     "text": [
      "100%|████████████████████████████████████████████████████████████████████████████| 3668/3668 [00:01<00:00, 2291.07it/s]\n",
      "100%|██████████████████████████████████████████████████████████████████████████| 3668/3668 [00:00<00:00, 215765.21it/s]\n"
     ]
    },
    {
     "name": "stdout",
     "output_type": "stream",
     "text": [
      "keyphrase mocha 's rank is  40\n"
     ]
    },
    {
     "name": "stderr",
     "output_type": "stream",
     "text": [
      "100%|████████████████████████████████████████████████████████████████████████████| 3668/3668 [00:01<00:00, 2288.21it/s]\n",
      "100%|██████████████████████████████████████████████████████████████████████████| 3668/3668 [00:00<00:00, 244535.51it/s]\n"
     ]
    },
    {
     "name": "stdout",
     "output_type": "stream",
     "text": [
      "keyphrase khaki 's rank is  73\n"
     ]
    },
    {
     "name": "stderr",
     "output_type": "stream",
     "text": [
      "100%|████████████████████████████████████████████████████████████████████████████| 3668/3668 [00:01<00:00, 2301.13it/s]\n",
      "100%|██████████████████████████████████████████████████████████████████████████| 3668/3668 [00:00<00:00, 244531.62it/s]\n"
     ]
    },
    {
     "name": "stdout",
     "output_type": "stream",
     "text": [
      "keyphrase black 's rank is  1\n"
     ]
    },
    {
     "name": "stderr",
     "output_type": "stream",
     "text": [
      "100%|████████████████████████████████████████████████████████████████████████████| 3668/3668 [00:01<00:00, 2298.25it/s]\n",
      "100%|██████████████████████████████████████████████████████████████████████████| 3668/3668 [00:00<00:00, 229249.54it/s]\n"
     ]
    },
    {
     "name": "stdout",
     "output_type": "stream",
     "text": [
      "keyphrase yellow 's rank is  5\n"
     ]
    },
    {
     "name": "stderr",
     "output_type": "stream",
     "text": [
      "100%|████████████████████████████████████████████████████████████████████████████| 3668/3668 [00:01<00:00, 2292.50it/s]\n",
      "100%|██████████████████████████████████████████████████████████████████████████| 3668/3668 [00:00<00:00, 215765.21it/s]\n"
     ]
    },
    {
     "name": "stdout",
     "output_type": "stream",
     "text": [
      "keyphrase watery 's rank is  24\n"
     ]
    },
    {
     "name": "stderr",
     "output_type": "stream",
     "text": [
      "100%|████████████████████████████████████████████████████████████████████████████| 3668/3668 [00:01<00:00, 2281.09it/s]\n",
      "100%|██████████████████████████████████████████████████████████████████████████| 3668/3668 [00:00<00:00, 229249.54it/s]\n"
     ]
    },
    {
     "name": "stdout",
     "output_type": "stream",
     "text": [
      "keyphrase slick 's rank is  57\n"
     ]
    },
    {
     "name": "stderr",
     "output_type": "stream",
     "text": [
      "100%|████████████████████████████████████████████████████████████████████████████| 3668/3668 [00:01<00:00, 2292.50it/s]\n",
      "100%|██████████████████████████████████████████████████████████████████████████| 3668/3668 [00:00<00:00, 229249.54it/s]\n"
     ]
    },
    {
     "name": "stdout",
     "output_type": "stream",
     "text": [
      "keyphrase silk 's rank is  66\n"
     ]
    },
    {
     "name": "stderr",
     "output_type": "stream",
     "text": [
      "100%|████████████████████████████████████████████████████████████████████████████| 3668/3668 [00:01<00:00, 2296.81it/s]\n",
      "100%|██████████████████████████████████████████████████████████████████████████| 3668/3668 [00:00<00:00, 244535.51it/s]\n"
     ]
    },
    {
     "name": "stdout",
     "output_type": "stream",
     "text": [
      "keyphrase smooth 's rank is  7\n"
     ]
    },
    {
     "name": "stderr",
     "output_type": "stream",
     "text": [
      "100%|████████████████████████████████████████████████████████████████████████████| 3668/3668 [00:01<00:00, 2298.25it/s]\n",
      "100%|██████████████████████████████████████████████████████████████████████████| 3668/3668 [00:00<00:00, 229249.54it/s]\n"
     ]
    },
    {
     "name": "stdout",
     "output_type": "stream",
     "text": [
      "keyphrase syrup 's rank is  38\n"
     ]
    },
    {
     "name": "stderr",
     "output_type": "stream",
     "text": [
      "100%|████████████████████████████████████████████████████████████████████████████| 3668/3668 [00:01<00:00, 2288.21it/s]\n",
      "100%|██████████████████████████████████████████████████████████████████████████| 3668/3668 [00:00<00:00, 229252.95it/s]\n"
     ]
    },
    {
     "name": "stdout",
     "output_type": "stream",
     "text": [
      "keyphrase velvet 's rank is  72\n"
     ]
    },
    {
     "name": "stderr",
     "output_type": "stream",
     "text": [
      "100%|████████████████████████████████████████████████████████████████████████████| 3668/3668 [00:01<00:00, 2292.50it/s]\n",
      "100%|██████████████████████████████████████████████████████████████████████████| 3668/3668 [00:00<00:00, 244531.62it/s]\n"
     ]
    },
    {
     "name": "stdout",
     "output_type": "stream",
     "text": [
      "keyphrase  red  's rank is  8\n"
     ]
    },
    {
     "name": "stderr",
     "output_type": "stream",
     "text": [
      "100%|████████████████████████████████████████████████████████████████████████████| 3668/3668 [00:01<00:00, 2298.25it/s]\n",
      "100%|██████████████████████████████████████████████████████████████████████████| 3668/3668 [00:00<00:00, 203779.05it/s]\n"
     ]
    },
    {
     "name": "stdout",
     "output_type": "stream",
     "text": [
      "keyphrase mahogany 's rank is  64\n"
     ]
    },
    {
     "name": "stderr",
     "output_type": "stream",
     "text": [
      "100%|████████████████████████████████████████████████████████████████████████████| 3668/3668 [00:01<00:00, 2301.13it/s]\n",
      "100%|██████████████████████████████████████████████████████████████████████████| 3668/3668 [00:00<00:00, 229249.54it/s]\n"
     ]
    },
    {
     "name": "stdout",
     "output_type": "stream",
     "text": [
      "keyphrase ruby 's rank is  42\n"
     ]
    },
    {
     "name": "stderr",
     "output_type": "stream",
     "text": [
      "100%|████████████████████████████████████████████████████████████████████████████| 3668/3668 [00:01<00:00, 2286.78it/s]\n",
      "100%|██████████████████████████████████████████████████████████████████████████| 3668/3668 [00:00<00:00, 244531.62it/s]\n"
     ]
    },
    {
     "name": "stdout",
     "output_type": "stream",
     "text": [
      "keyphrase tulip 's rank is  25\n"
     ]
    },
    {
     "name": "stderr",
     "output_type": "stream",
     "text": [
      "100%|████████████████████████████████████████████████████████████████████████████| 3668/3668 [00:01<00:00, 2281.09it/s]\n",
      "100%|██████████████████████████████████████████████████████████████████████████| 3668/3668 [00:00<00:00, 244531.62it/s]\n"
     ]
    },
    {
     "name": "stdout",
     "output_type": "stream",
     "text": [
      "keyphrase cherry 's rank is  8\n"
     ]
    },
    {
     "name": "stderr",
     "output_type": "stream",
     "text": [
      "100%|████████████████████████████████████████████████████████████████████████████| 3668/3668 [00:01<00:00, 2253.07it/s]\n",
      "100%|██████████████████████████████████████████████████████████████████████████| 3668/3668 [00:00<00:00, 229252.95it/s]\n"
     ]
    },
    {
     "name": "stdout",
     "output_type": "stream",
     "text": [
      "keyphrase plum 's rank is  34\n"
     ]
    },
    {
     "name": "stderr",
     "output_type": "stream",
     "text": [
      "100%|████████████████████████████████████████████████████████████████████████████| 3668/3668 [00:01<00:00, 2279.68it/s]\n",
      "100%|██████████████████████████████████████████████████████████████████████████| 3668/3668 [00:00<00:00, 244531.62it/s]\n"
     ]
    },
    {
     "name": "stdout",
     "output_type": "stream",
     "text": [
      "keyphrase berry 's rank is  18\n"
     ]
    },
    {
     "name": "stderr",
     "output_type": "stream",
     "text": [
      "100%|████████████████████████████████████████████████████████████████████████████| 3668/3668 [00:01<00:00, 2279.68it/s]\n",
      "100%|██████████████████████████████████████████████████████████████████████████| 3668/3668 [00:00<00:00, 244531.62it/s]\n"
     ]
    },
    {
     "name": "stdout",
     "output_type": "stream",
     "text": [
      "keyphrase banana 's rank is  13\n"
     ]
    },
    {
     "name": "stderr",
     "output_type": "stream",
     "text": [
      "100%|████████████████████████████████████████████████████████████████████████████| 3668/3668 [00:01<00:00, 2288.21it/s]\n",
      "100%|██████████████████████████████████████████████████████████████████████████| 3668/3668 [00:00<00:00, 229249.54it/s]\n"
     ]
    },
    {
     "name": "stdout",
     "output_type": "stream",
     "text": [
      "keyphrase bourbon 's rank is  5\n"
     ]
    },
    {
     "name": "stderr",
     "output_type": "stream",
     "text": [
      "100%|████████████████████████████████████████████████████████████████████████████| 3668/3668 [00:01<00:00, 2292.50it/s]\n",
      "100%|██████████████████████████████████████████████████████████████████████████| 3668/3668 [00:00<00:00, 229249.54it/s]\n"
     ]
    },
    {
     "name": "stdout",
     "output_type": "stream",
     "text": [
      "keyphrase oak 's rank is  4\n"
     ]
    },
    {
     "name": "stderr",
     "output_type": "stream",
     "text": [
      "100%|████████████████████████████████████████████████████████████████████████████| 3668/3668 [00:01<00:00, 2298.25it/s]\n",
      "100%|██████████████████████████████████████████████████████████████████████████| 3668/3668 [00:00<00:00, 244531.62it/s]\n"
     ]
    },
    {
     "name": "stdout",
     "output_type": "stream",
     "text": [
      "keyphrase apple 's rank is  14\n"
     ]
    },
    {
     "name": "stderr",
     "output_type": "stream",
     "text": [
      "100%|████████████████████████████████████████████████████████████████████████████| 3668/3668 [00:01<00:00, 2292.50it/s]\n",
      "100%|██████████████████████████████████████████████████████████████████████████| 3668/3668 [00:00<00:00, 229249.54it/s]\n"
     ]
    },
    {
     "name": "stdout",
     "output_type": "stream",
     "text": [
      "keyphrase metallic 's rank is  53\n"
     ]
    },
    {
     "name": "stderr",
     "output_type": "stream",
     "text": [
      "100%|████████████████████████████████████████████████████████████████████████████| 3668/3668 [00:01<00:00, 2302.57it/s]\n",
      "100%|██████████████████████████████████████████████████████████████████████████| 3668/3668 [00:00<00:00, 244535.51it/s]\n"
     ]
    },
    {
     "name": "stdout",
     "output_type": "stream",
     "text": [
      "keyphrase raspberry 's rank is  14\n"
     ]
    },
    {
     "name": "stderr",
     "output_type": "stream",
     "text": [
      "100%|████████████████████████████████████████████████████████████████████████████| 3668/3668 [00:01<00:00, 2291.07it/s]\n",
      "100%|██████████████████████████████████████████████████████████████████████████| 3668/3668 [00:00<00:00, 229252.95it/s]\n"
     ]
    },
    {
     "name": "stdout",
     "output_type": "stream",
     "text": [
      "keyphrase clove 's rank is  19\n"
     ]
    },
    {
     "name": "stderr",
     "output_type": "stream",
     "text": [
      "100%|████████████████████████████████████████████████████████████████████████████| 3668/3668 [00:01<00:00, 2299.69it/s]\n",
      "100%|██████████████████████████████████████████████████████████████████████████| 3668/3668 [00:00<00:00, 215765.21it/s]\n"
     ]
    },
    {
     "name": "stdout",
     "output_type": "stream",
     "text": [
      "keyphrase apricot 's rank is  51\n"
     ]
    },
    {
     "name": "stderr",
     "output_type": "stream",
     "text": [
      "100%|████████████████████████████████████████████████████████████████████████████| 3668/3668 [00:01<00:00, 2292.50it/s]\n",
      "100%|██████████████████████████████████████████████████████████████████████████| 3668/3668 [00:00<00:00, 229249.54it/s]\n"
     ]
    },
    {
     "name": "stdout",
     "output_type": "stream",
     "text": [
      "keyphrase coriander 's rank is  40\n"
     ]
    },
    {
     "name": "stderr",
     "output_type": "stream",
     "text": [
      "100%|████████████████████████████████████████████████████████████████████████████| 3668/3668 [00:01<00:00, 2295.37it/s]\n",
      "100%|██████████████████████████████████████████████████████████████████████████| 3668/3668 [00:00<00:00, 229249.54it/s]\n"
     ]
    },
    {
     "name": "stdout",
     "output_type": "stream",
     "text": [
      "keyphrase pepper 's rank is  28\n"
     ]
    },
    {
     "data": {
      "text/plain": [
       "23.346666666666668"
      ]
     },
     "execution_count": 187,
     "metadata": {},
     "output_type": "execute_result"
    }
   ],
   "source": [
    "evaluate_pilot_test_item(rtrain,U_K, I_K,keyphrases, top_users = 200, item_i = 0)"
   ]
  },
  {
   "cell_type": "markdown",
   "metadata": {},
   "source": [
    "# TF-IDF pilot  test"
   ]
  },
  {
   "cell_type": "code",
   "execution_count": 112,
   "metadata": {},
   "outputs": [],
   "source": [
    "keyphrases = pd.read_csv('../../data/beer/KeyPhrases.csv')[\"Phrases\"].tolist()"
   ]
  },
  {
   "cell_type": "code",
   "execution_count": 122,
   "metadata": {
    "collapsed": true
   },
   "outputs": [],
   "source": [
    "save_npz('../../data/beer/U_K_tfidf',U_K_tfidf)\n",
    "save_npz('../../data/beer/U_K_test_tfidf',U_K_test_tfidf)\n",
    "save_npz('../../data/beer/I_K_tfidf',I_K_tfidf)\n",
    "save_npz('../../data/beer/I_K_test_tfidf',I_K_test_tfidf)"
   ]
  },
  {
   "cell_type": "code",
   "execution_count": 125,
   "metadata": {
    "collapsed": true
   },
   "outputs": [],
   "source": [
    "def rank_in_prediction(rtrain, U_K, I_K, top_items = 200, keyphrase = [70],user_i = 0):\n",
    "    \"\"\"\n",
    "    Get the rank for user_i with keyphrase\n",
    "    TODO: modify so that no need to reload U_K,I_K\n",
    "    \"\"\"  \n",
    "    U_K = load_npz('../../data/beer/U_K_tfidf.npz')\n",
    "    rtrain = load_npz(\"../../data/beer/Rtrain.npz\")\n",
    "    I_K = load_npz('../../data/beer/I_K_tfidf.npz')\n",
    "    \n",
    "    # Modify user preference matrix\n",
    "    items = item_associated_with_keyphrase(I_K, keyphrase, top_items = top_items) # 'raspberry'\n",
    "    U_I = modify_user_preference(rtrain, items, user_id = 0)\n",
    "    \n",
    "    # make synthetic user1's keyphrase preference all 0\n",
    "    clear_user_keyphrase(U_K, user_id = 0)\n",
    "    \n",
    "    # Get latent user similarity embedding\n",
    "    modified_U_U = train(U_I)\n",
    "    # predict\n",
    "    explanation_scores1 = predict(U_K, 100, modified_U_U)\n",
    "    explanation1 =  predict_pilot_explanation(explanation_scores1, top_keyphrase = 75)\n",
    "    return list(explanation1[user_i]).index(keyphrase[0])\n",
    "    \n",
    "def evaluate_pilot_test(rtrain,U_K, I_K,keyphrase_list, top_items = 200, user_i = 0):\n",
    "    # Get the average rank for user_i with keyphrase  \n",
    "    res1 = 0\n",
    "    for i in range(75):\n",
    "        a = rank_in_prediction(rtrain, U_K, I_K, top_items = top_items, keyphrase = [i],user_i = user_i)\n",
    "        print \"keyphrase\", keyphrase_list[i], \"'s rank is \", a\n",
    "        res1+= a\n",
    "    return res1/75"
   ]
  },
  {
   "cell_type": "code",
   "execution_count": 133,
   "metadata": {
    "scrolled": true
   },
   "outputs": [
    {
     "name": "stderr",
     "output_type": "stream",
     "text": [
      "100%|████████████████████████████████████████████████████████████████████████████| 6370/6370 [00:04<00:00, 1340.49it/s]\n",
      "100%|██████████████████████████████████████████████████████████████████████████| 6370/6370 [00:00<00:00, 117963.18it/s]\n"
     ]
    },
    {
     "name": "stdout",
     "output_type": "stream",
     "text": [
      "keyphrase roast 's rank is  13\n"
     ]
    },
    {
     "name": "stderr",
     "output_type": "stream",
     "text": [
      "100%|████████████████████████████████████████████████████████████████████████████| 6370/6370 [00:04<00:00, 1367.83it/s]\n",
      "100%|██████████████████████████████████████████████████████████████████████████| 6370/6370 [00:00<00:00, 132708.06it/s]\n"
     ]
    },
    {
     "name": "stdout",
     "output_type": "stream",
     "text": [
      "keyphrase sweet 's rank is  0\n"
     ]
    },
    {
     "name": "stderr",
     "output_type": "stream",
     "text": [
      "100%|████████████████████████████████████████████████████████████████████████████| 6370/6370 [00:04<00:00, 1354.17it/s]\n",
      "100%|██████████████████████████████████████████████████████████████████████████| 6370/6370 [00:00<00:00, 148138.77it/s]\n"
     ]
    },
    {
     "name": "stdout",
     "output_type": "stream",
     "text": [
      "keyphrase caramel 's rank is  11\n"
     ]
    },
    {
     "name": "stderr",
     "output_type": "stream",
     "text": [
      "100%|████████████████████████████████████████████████████████████████████████████| 6370/6370 [00:05<00:00, 1212.64it/s]\n",
      "100%|██████████████████████████████████████████████████████████████████████████| 6370/6370 [00:00<00:00, 102741.88it/s]\n"
     ]
    },
    {
     "name": "stdout",
     "output_type": "stream",
     "text": [
      "keyphrase backbone 's rank is  57\n"
     ]
    },
    {
     "name": "stderr",
     "output_type": "stream",
     "text": [
      "100%|████████████████████████████████████████████████████████████████████████████| 6370/6370 [00:05<00:00, 1260.89it/s]\n",
      "100%|██████████████████████████████████████████████████████████████████████████| 6370/6370 [00:00<00:00, 144773.02it/s]\n"
     ]
    },
    {
     "name": "stdout",
     "output_type": "stream",
     "text": [
      "keyphrase toast 's rank is  33\n"
     ]
    },
    {
     "name": "stderr",
     "output_type": "stream",
     "text": [
      "100%|████████████████████████████████████████████████████████████████████████████| 6370/6370 [00:05<00:00, 1204.61it/s]\n",
      "100%|██████████████████████████████████████████████████████████████████████████| 6370/6370 [00:00<00:00, 135532.11it/s]\n"
     ]
    },
    {
     "name": "stdout",
     "output_type": "stream",
     "text": [
      "keyphrase bread 's rank is  20\n"
     ]
    },
    {
     "name": "stderr",
     "output_type": "stream",
     "text": [
      "100%|████████████████████████████████████████████████████████████████████████████| 6370/6370 [00:04<00:00, 1297.88it/s]\n",
      "100%|██████████████████████████████████████████████████████████████████████████| 6370/6370 [00:00<00:00, 129999.93it/s]\n"
     ]
    },
    {
     "name": "stdout",
     "output_type": "stream",
     "text": [
      "keyphrase chocolate 's rank is  12\n"
     ]
    },
    {
     "name": "stderr",
     "output_type": "stream",
     "text": [
      "100%|████████████████████████████████████████████████████████████████████████████| 6370/6370 [00:04<00:00, 1280.14it/s]\n",
      "100%|██████████████████████████████████████████████████████████████████████████| 6370/6370 [00:00<00:00, 124902.26it/s]\n"
     ]
    },
    {
     "name": "stdout",
     "output_type": "stream",
     "text": [
      "keyphrase biscuit 's rank is  51\n"
     ]
    },
    {
     "name": "stderr",
     "output_type": "stream",
     "text": [
      "100%|████████████████████████████████████████████████████████████████████████████| 6370/6370 [00:04<00:00, 1334.87it/s]\n",
      "100%|██████████████████████████████████████████████████████████████████████████| 6370/6370 [00:00<00:00, 130000.57it/s]\n"
     ]
    },
    {
     "name": "stdout",
     "output_type": "stream",
     "text": [
      "keyphrase coffee 's rank is  17\n"
     ]
    },
    {
     "name": "stderr",
     "output_type": "stream",
     "text": [
      "100%|████████████████████████████████████████████████████████████████████████████| 6370/6370 [00:04<00:00, 1333.19it/s]\n",
      "100%|██████████████████████████████████████████████████████████████████████████| 6370/6370 [00:00<00:00, 138478.25it/s]\n"
     ]
    },
    {
     "name": "stdout",
     "output_type": "stream",
     "text": [
      "keyphrase wheat 's rank is  35\n"
     ]
    },
    {
     "name": "stderr",
     "output_type": "stream",
     "text": [
      "100%|████████████████████████████████████████████████████████████████████████████| 6370/6370 [00:05<00:00, 1129.83it/s]\n",
      "100%|██████████████████████████████████████████████████████████████████████████| 6370/6370 [00:00<00:00, 120188.74it/s]\n"
     ]
    },
    {
     "name": "stdout",
     "output_type": "stream",
     "text": [
      "keyphrase grain 's rank is  34\n"
     ]
    },
    {
     "name": "stderr",
     "output_type": "stream",
     "text": [
      "100%|█████████████████████████████████████████████████████████████████████████████| 6370/6370 [00:06<00:00, 913.00it/s]\n",
      "100%|███████████████████████████████████████████████████████████████████████████| 6370/6370 [00:00<00:00, 92318.83it/s]\n"
     ]
    },
    {
     "name": "stdout",
     "output_type": "stream",
     "text": [
      "keyphrase yeast 's rank is  18\n"
     ]
    },
    {
     "name": "stderr",
     "output_type": "stream",
     "text": [
      "100%|█████████████████████████████████████████████████████████████████████████████| 6370/6370 [00:07<00:00, 815.41it/s]\n",
      "100%|██████████████████████████████████████████████████████████████████████████| 6370/6370 [00:00<00:00, 117963.18it/s]\n"
     ]
    },
    {
     "name": "stdout",
     "output_type": "stream",
     "text": [
      "keyphrase citrus 's rank is  11\n"
     ]
    },
    {
     "name": "stderr",
     "output_type": "stream",
     "text": [
      "100%|████████████████████████████████████████████████████████████████████████████| 6370/6370 [00:05<00:00, 1091.88it/s]\n",
      "100%|██████████████████████████████████████████████████████████████████████████| 6370/6370 [00:00<00:00, 120188.74it/s]\n"
     ]
    },
    {
     "name": "stdout",
     "output_type": "stream",
     "text": [
      "keyphrase toffee 's rank is  44\n"
     ]
    },
    {
     "name": "stderr",
     "output_type": "stream",
     "text": [
      "100%|████████████████████████████████████████████████████████████████████████████| 6370/6370 [00:05<00:00, 1168.16it/s]\n",
      "100%|██████████████████████████████████████████████████████████████████████████| 6370/6370 [00:00<00:00, 104426.04it/s]\n"
     ]
    },
    {
     "name": "stdout",
     "output_type": "stream",
     "text": [
      "keyphrase fruit 's rank is  4\n"
     ]
    },
    {
     "name": "stderr",
     "output_type": "stream",
     "text": [
      "100%|████████████████████████████████████████████████████████████████████████████| 6370/6370 [00:06<00:00, 1023.62it/s]\n",
      "100%|███████████████████████████████████████████████████████████████████████████| 6370/6370 [00:00<00:00, 84933.55it/s]\n"
     ]
    },
    {
     "name": "stdout",
     "output_type": "stream",
     "text": [
      "keyphrase nutty 's rank is  58\n"
     ]
    },
    {
     "name": "stderr",
     "output_type": "stream",
     "text": [
      "100%|█████████████████████████████████████████████████████████████████████████████| 6370/6370 [00:06<00:00, 914.05it/s]\n",
      "100%|███████████████████████████████████████████████████████████████████████████| 6370/6370 [00:00<00:00, 84933.28it/s]\n"
     ]
    },
    {
     "name": "stdout",
     "output_type": "stream",
     "text": [
      "keyphrase bitter 's rank is  2\n"
     ]
    },
    {
     "name": "stderr",
     "output_type": "stream",
     "text": [
      "100%|█████████████████████████████████████████████████████████████████████████████| 6370/6370 [00:07<00:00, 845.95it/s]\n",
      "100%|███████████████████████████████████████████████████████████████████████████| 6370/6370 [00:00<00:00, 81666.59it/s]\n"
     ]
    },
    {
     "name": "stdout",
     "output_type": "stream",
     "text": [
      "keyphrase barley 's rank is  48\n"
     ]
    },
    {
     "name": "stderr",
     "output_type": "stream",
     "text": [
      "100%|█████████████████████████████████████████████████████████████████████████████| 6370/6370 [00:07<00:00, 842.26it/s]\n",
      "100%|██████████████████████████████████████████████████████████████████████████| 6370/6370 [00:00<00:00, 120188.74it/s]\n"
     ]
    },
    {
     "name": "stdout",
     "output_type": "stream",
     "text": [
      "keyphrase floral 's rank is  21\n"
     ]
    },
    {
     "name": "stderr",
     "output_type": "stream",
     "text": [
      "100%|████████████████████████████████████████████████████████████████████████████| 6370/6370 [00:05<00:00, 1137.09it/s]\n",
      "100%|██████████████████████████████████████████████████████████████████████████| 6370/6370 [00:00<00:00, 113750.01it/s]\n"
     ]
    },
    {
     "name": "stdout",
     "output_type": "stream",
     "text": [
      "keyphrase honey 's rank is  38\n"
     ]
    },
    {
     "name": "stderr",
     "output_type": "stream",
     "text": [
      "100%|█████████████████████████████████████████████████████████████████████████████| 6370/6370 [00:06<00:00, 966.76it/s]\n",
      "100%|███████████████████████████████████████████████████████████████████████████| 6370/6370 [00:00<00:00, 69239.12it/s]\n"
     ]
    },
    {
     "name": "stdout",
     "output_type": "stream",
     "text": [
      "keyphrase earthy 's rank is  40\n"
     ]
    },
    {
     "name": "stderr",
     "output_type": "stream",
     "text": [
      "100%|█████████████████████████████████████████████████████████████████████████████| 6370/6370 [00:07<00:00, 906.63it/s]\n",
      "100%|███████████████████████████████████████████████████████████████████████████| 6370/6370 [00:00<00:00, 81666.59it/s]\n"
     ]
    },
    {
     "name": "stdout",
     "output_type": "stream",
     "text": [
      "keyphrase spic 's rank is  14\n"
     ]
    },
    {
     "name": "stderr",
     "output_type": "stream",
     "text": [
      "100%|█████████████████████████████████████████████████████████████████████████████| 6370/6370 [00:06<00:00, 940.92it/s]\n",
      "100%|██████████████████████████████████████████████████████████████████████████| 6370/6370 [00:00<00:00, 111754.07it/s]\n"
     ]
    },
    {
     "name": "stdout",
     "output_type": "stream",
     "text": [
      "keyphrase smok 's rank is  36\n"
     ]
    },
    {
     "name": "stderr",
     "output_type": "stream",
     "text": [
      "100%|█████████████████████████████████████████████████████████████████████████████| 6370/6370 [00:07<00:00, 903.93it/s]\n",
      "100%|███████████████████████████████████████████████████████████████████████████| 6370/6370 [00:00<00:00, 47894.77it/s]\n"
     ]
    },
    {
     "name": "stdout",
     "output_type": "stream",
     "text": [
      "keyphrase molass 's rank is  50\n"
     ]
    },
    {
     "name": "stderr",
     "output_type": "stream",
     "text": [
      "100%|█████████████████████████████████████████████████████████████████████████████| 6370/6370 [00:08<00:00, 749.32it/s]\n",
      "100%|███████████████████████████████████████████████████████████████████████████| 6370/6370 [00:00<00:00, 60666.66it/s]\n"
     ]
    },
    {
     "name": "stdout",
     "output_type": "stream",
     "text": [
      "keyphrase sugar 's rank is  27\n"
     ]
    },
    {
     "name": "stderr",
     "output_type": "stream",
     "text": [
      "100%|████████████████████████████████████████████████████████████████████████████| 6370/6370 [00:06<00:00, 1030.08it/s]\n",
      "100%|███████████████████████████████████████████████████████████████████████████| 6370/6370 [00:00<00:00, 86080.94it/s]\n"
     ]
    },
    {
     "name": "stdout",
     "output_type": "stream",
     "text": [
      "keyphrase  rye  's rank is  68\n"
     ]
    },
    {
     "name": "stderr",
     "output_type": "stream",
     "text": [
      "100%|█████████████████████████████████████████████████████████████████████████████| 6370/6370 [00:09<00:00, 670.81it/s]\n",
      "100%|███████████████████████████████████████████████████████████████████████████| 6370/6370 [00:00<00:00, 82727.12it/s]\n"
     ]
    },
    {
     "name": "stdout",
     "output_type": "stream",
     "text": [
      "keyphrase grass 's rank is  38\n"
     ]
    },
    {
     "name": "stderr",
     "output_type": "stream",
     "text": [
      "100%|█████████████████████████████████████████████████████████████████████████████| 6370/6370 [00:07<00:00, 837.94it/s]\n",
      "100%|██████████████████████████████████████████████████████████████████████████| 6370/6370 [00:00<00:00, 127400.12it/s]\n"
     ]
    },
    {
     "name": "stdout",
     "output_type": "stream",
     "text": [
      "keyphrase cocoa 's rank is  57\n"
     ]
    },
    {
     "name": "stderr",
     "output_type": "stream",
     "text": [
      "100%|█████████████████████████████████████████████████████████████████████████████| 6370/6370 [00:07<00:00, 838.49it/s]\n",
      "100%|███████████████████████████████████████████████████████████████████████████| 6370/6370 [00:00<00:00, 99531.05it/s]\n"
     ]
    },
    {
     "name": "stdout",
     "output_type": "stream",
     "text": [
      "keyphrase chew 's rank is  54\n"
     ]
    },
    {
     "name": "stderr",
     "output_type": "stream",
     "text": [
      "100%|█████████████████████████████████████████████████████████████████████████████| 6370/6370 [00:07<00:00, 851.60it/s]\n",
      "100%|███████████████████████████████████████████████████████████████████████████| 6370/6370 [00:00<00:00, 95074.75it/s]\n"
     ]
    },
    {
     "name": "stdout",
     "output_type": "stream",
     "text": [
      "keyphrase butter 's rank is  55\n"
     ]
    },
    {
     "name": "stderr",
     "output_type": "stream",
     "text": [
      "100%|████████████████████████████████████████████████████████████████████████████| 6370/6370 [00:05<00:00, 1062.55it/s]\n",
      "100%|██████████████████████████████████████████████████████████████████████████| 6370/6370 [00:00<00:00, 122499.89it/s]\n"
     ]
    },
    {
     "name": "stdout",
     "output_type": "stream",
     "text": [
      "keyphrase sour 's rank is  25\n"
     ]
    },
    {
     "name": "stderr",
     "output_type": "stream",
     "text": [
      "100%|████████████████████████████████████████████████████████████████████████████| 6370/6370 [00:05<00:00, 1200.75it/s]\n",
      "100%|██████████████████████████████████████████████████████████████████████████| 6370/6370 [00:00<00:00, 124902.26it/s]\n"
     ]
    },
    {
     "name": "stdout",
     "output_type": "stream",
     "text": [
      "keyphrase  pine  's rank is  35\n"
     ]
    },
    {
     "name": "stderr",
     "output_type": "stream",
     "text": [
      "100%|████████████████████████████████████████████████████████████████████████████| 6370/6370 [00:05<00:00, 1226.42it/s]\n",
      "100%|██████████████████████████████████████████████████████████████████████████| 6370/6370 [00:00<00:00, 127400.12it/s]\n"
     ]
    },
    {
     "name": "stdout",
     "output_type": "stream",
     "text": [
      "keyphrase herbal 's rank is  55\n"
     ]
    },
    {
     "name": "stderr",
     "output_type": "stream",
     "text": [
      "100%|████████████████████████████████████████████████████████████████████████████| 6370/6370 [00:05<00:00, 1245.11it/s]\n",
      "100%|██████████████████████████████████████████████████████████████████████████| 6370/6370 [00:00<00:00, 124901.67it/s]\n"
     ]
    },
    {
     "name": "stdout",
     "output_type": "stream",
     "text": [
      "keyphrase citric 's rank is  70\n"
     ]
    },
    {
     "name": "stderr",
     "output_type": "stream",
     "text": [
      "100%|████████████████████████████████████████████████████████████████████████████| 6370/6370 [00:05<00:00, 1258.64it/s]\n",
      "100%|██████████████████████████████████████████████████████████████████████████| 6370/6370 [00:00<00:00, 120188.74it/s]\n"
     ]
    },
    {
     "name": "stdout",
     "output_type": "stream",
     "text": [
      "keyphrase grapefruit 's rank is  36\n"
     ]
    },
    {
     "name": "stderr",
     "output_type": "stream",
     "text": [
      "100%|████████████████████████████████████████████████████████████████████████████| 6370/6370 [00:04<00:00, 1288.69it/s]\n",
      "100%|███████████████████████████████████████████████████████████████████████████| 6370/6370 [00:00<00:00, 99531.42it/s]\n"
     ]
    },
    {
     "name": "stdout",
     "output_type": "stream",
     "text": [
      "keyphrase resin 's rank is  59\n"
     ]
    },
    {
     "name": "stderr",
     "output_type": "stream",
     "text": [
      "100%|████████████████████████████████████████████████████████████████████████████| 6370/6370 [00:04<00:00, 1296.82it/s]\n",
      "100%|██████████████████████████████████████████████████████████████████████████| 6370/6370 [00:00<00:00, 138478.25it/s]\n"
     ]
    },
    {
     "name": "stdout",
     "output_type": "stream",
     "text": [
      "keyphrase crisp 's rank is  24\n"
     ]
    },
    {
     "name": "stderr",
     "output_type": "stream",
     "text": [
      "100%|████████████████████████████████████████████████████████████████████████████| 6370/6370 [00:04<00:00, 1288.69it/s]\n",
      "100%|██████████████████████████████████████████████████████████████████████████| 6370/6370 [00:00<00:00, 129999.93it/s]\n"
     ]
    },
    {
     "name": "stdout",
     "output_type": "stream",
     "text": [
      "keyphrase pungent 's rank is  72\n"
     ]
    },
    {
     "name": "stderr",
     "output_type": "stream",
     "text": [
      "100%|████████████████████████████████████████████████████████████████████████████| 6370/6370 [00:05<00:00, 1216.35it/s]\n",
      "100%|██████████████████████████████████████████████████████████████████████████| 6370/6370 [00:00<00:00, 120188.20it/s]\n"
     ]
    },
    {
     "name": "stdout",
     "output_type": "stream",
     "text": [
      "keyphrase wood 's rank is  42\n"
     ]
    },
    {
     "name": "stderr",
     "output_type": "stream",
     "text": [
      "100%|████████████████████████████████████████████████████████████████████████████| 6370/6370 [00:05<00:00, 1220.07it/s]\n",
      "100%|██████████████████████████████████████████████████████████████████████████| 6370/6370 [00:00<00:00, 135531.43it/s]\n"
     ]
    },
    {
     "name": "stdout",
     "output_type": "stream",
     "text": [
      "keyphrase orang 's rank is  12\n"
     ]
    },
    {
     "name": "stderr",
     "output_type": "stream",
     "text": [
      "100%|████████████████████████████████████████████████████████████████████████████| 6370/6370 [00:04<00:00, 1274.25it/s]\n",
      "100%|██████████████████████████████████████████████████████████████████████████| 6370/6370 [00:00<00:00, 141555.32it/s]\n"
     ]
    },
    {
     "name": "stdout",
     "output_type": "stream",
     "text": [
      "keyphrase lemon 's rank is  27\n"
     ]
    },
    {
     "name": "stderr",
     "output_type": "stream",
     "text": [
      "100%|████████████████████████████████████████████████████████████████████████████| 6370/6370 [00:05<00:00, 1242.44it/s]\n",
      "100%|██████████████████████████████████████████████████████████████████████████| 6370/6370 [00:00<00:00, 122499.89it/s]\n"
     ]
    },
    {
     "name": "stdout",
     "output_type": "stream",
     "text": [
      "keyphrase offwhite 's rank is  26\n"
     ]
    },
    {
     "name": "stderr",
     "output_type": "stream",
     "text": [
      "100%|████████████████████████████████████████████████████████████████████████████| 6370/6370 [00:05<00:00, 1246.58it/s]\n",
      "100%|██████████████████████████████████████████████████████████████████████████| 6370/6370 [00:00<00:00, 141555.32it/s]\n"
     ]
    },
    {
     "name": "stdout",
     "output_type": "stream",
     "text": [
      "keyphrase  white 's rank is  13\n"
     ]
    },
    {
     "name": "stderr",
     "output_type": "stream",
     "text": [
      "100%|████████████████████████████████████████████████████████████████████████████| 6370/6370 [00:05<00:00, 1224.06it/s]\n",
      "100%|██████████████████████████████████████████████████████████████████████████| 6370/6370 [00:00<00:00, 127400.12it/s]\n"
     ]
    },
    {
     "name": "stdout",
     "output_type": "stream",
     "text": [
      "keyphrase tan 's rank is  4\n"
     ]
    },
    {
     "name": "stderr",
     "output_type": "stream",
     "text": [
      "100%|████████████████████████████████████████████████████████████████████████████| 6370/6370 [00:05<00:00, 1233.30it/s]\n",
      "100%|██████████████████████████████████████████████████████████████████████████| 6370/6370 [00:00<00:00, 124901.67it/s]\n"
     ]
    },
    {
     "name": "stdout",
     "output_type": "stream",
     "text": [
      "keyphrase brown 's rank is  4\n"
     ]
    },
    {
     "name": "stderr",
     "output_type": "stream",
     "text": [
      "100%|████████████████████████████████████████████████████████████████████████████| 6370/6370 [00:05<00:00, 1210.80it/s]\n",
      "100%|██████████████████████████████████████████████████████████████████████████| 6370/6370 [00:00<00:00, 148139.59it/s]\n"
     ]
    },
    {
     "name": "stdout",
     "output_type": "stream",
     "text": [
      "keyphrase gold 's rank is  15\n"
     ]
    },
    {
     "name": "stderr",
     "output_type": "stream",
     "text": [
      "100%|████████████████████████████████████████████████████████████████████████████| 6370/6370 [00:05<00:00, 1224.76it/s]\n",
      "100%|██████████████████████████████████████████████████████████████████████████| 6370/6370 [00:00<00:00, 104426.04it/s]\n"
     ]
    },
    {
     "name": "stdout",
     "output_type": "stream",
     "text": [
      "keyphrase beige 's rank is  68\n"
     ]
    },
    {
     "name": "stderr",
     "output_type": "stream",
     "text": [
      "100%|████████████████████████████████████████████████████████████████████████████| 6370/6370 [00:05<00:00, 1265.65it/s]\n",
      "100%|██████████████████████████████████████████████████████████████████████████| 6370/6370 [00:00<00:00, 109827.42it/s]\n"
     ]
    },
    {
     "name": "stdout",
     "output_type": "stream",
     "text": [
      "keyphrase copper 's rank is  24\n"
     ]
    },
    {
     "name": "stderr",
     "output_type": "stream",
     "text": [
      "100%|████████████████████████████████████████████████████████████████████████████| 6370/6370 [00:05<00:00, 1209.19it/s]\n",
      "100%|██████████████████████████████████████████████████████████████████████████| 6370/6370 [00:00<00:00, 124902.26it/s]\n"
     ]
    },
    {
     "name": "stdout",
     "output_type": "stream",
     "text": [
      "keyphrase mocha 's rank is  68\n"
     ]
    },
    {
     "name": "stderr",
     "output_type": "stream",
     "text": [
      "100%|████████████████████████████████████████████████████████████████████████████| 6370/6370 [00:05<00:00, 1267.91it/s]\n",
      "100%|██████████████████████████████████████████████████████████████████████████| 6370/6370 [00:00<00:00, 117963.18it/s]\n"
     ]
    },
    {
     "name": "stdout",
     "output_type": "stream",
     "text": [
      "keyphrase khaki 's rank is  73\n"
     ]
    },
    {
     "name": "stderr",
     "output_type": "stream",
     "text": [
      "100%|████████████████████████████████████████████████████████████████████████████| 6370/6370 [00:05<00:00, 1217.04it/s]\n",
      "100%|██████████████████████████████████████████████████████████████████████████| 6370/6370 [00:00<00:00, 122500.45it/s]\n"
     ]
    },
    {
     "name": "stdout",
     "output_type": "stream",
     "text": [
      "keyphrase black 's rank is  14\n"
     ]
    },
    {
     "name": "stderr",
     "output_type": "stream",
     "text": [
      "100%|████████████████████████████████████████████████████████████████████████████| 6370/6370 [00:05<00:00, 1214.03it/s]\n",
      "100%|██████████████████████████████████████████████████████████████████████████| 6370/6370 [00:00<00:00, 124902.26it/s]\n"
     ]
    },
    {
     "name": "stdout",
     "output_type": "stream",
     "text": [
      "keyphrase yellow 's rank is  24\n"
     ]
    },
    {
     "name": "stderr",
     "output_type": "stream",
     "text": [
      "100%|████████████████████████████████████████████████████████████████████████████| 6370/6370 [00:05<00:00, 1201.21it/s]\n",
      "100%|██████████████████████████████████████████████████████████████████████████| 6370/6370 [00:00<00:00, 144772.24it/s]\n"
     ]
    },
    {
     "name": "stdout",
     "output_type": "stream",
     "text": [
      "keyphrase watery 's rank is  48\n"
     ]
    },
    {
     "name": "stderr",
     "output_type": "stream",
     "text": [
      "100%|████████████████████████████████████████████████████████████████████████████| 6370/6370 [00:05<00:00, 1251.72it/s]\n",
      "100%|██████████████████████████████████████████████████████████████████████████| 6370/6370 [00:00<00:00, 124902.26it/s]\n"
     ]
    },
    {
     "name": "stdout",
     "output_type": "stream",
     "text": [
      "keyphrase slick 's rank is  67\n"
     ]
    },
    {
     "name": "stderr",
     "output_type": "stream",
     "text": [
      "100%|████████████████████████████████████████████████████████████████████████████| 6370/6370 [00:05<00:00, 1212.87it/s]\n",
      "100%|███████████████████████████████████████████████████████████████████████████| 6370/6370 [00:00<00:00, 78642.12it/s]\n"
     ]
    },
    {
     "name": "stdout",
     "output_type": "stream",
     "text": [
      "keyphrase silk 's rank is  66\n"
     ]
    },
    {
     "name": "stderr",
     "output_type": "stream",
     "text": [
      "100%|████████████████████████████████████████████████████████████████████████████| 6370/6370 [00:05<00:00, 1093.75it/s]\n",
      "100%|███████████████████████████████████████████████████████████████████████████| 6370/6370 [00:00<00:00, 55391.30it/s]\n"
     ]
    },
    {
     "name": "stdout",
     "output_type": "stream",
     "text": [
      "keyphrase smooth 's rank is  10\n"
     ]
    },
    {
     "name": "stderr",
     "output_type": "stream",
     "text": [
      "100%|█████████████████████████████████████████████████████████████████████████████| 6370/6370 [00:06<00:00, 968.67it/s]\n",
      "100%|███████████████████████████████████████████████████████████████████████████| 6370/6370 [00:00<00:00, 70777.85it/s]\n"
     ]
    },
    {
     "name": "stdout",
     "output_type": "stream",
     "text": [
      "keyphrase syrup 's rank is  42\n"
     ]
    },
    {
     "name": "stderr",
     "output_type": "stream",
     "text": [
      "100%|████████████████████████████████████████████████████████████████████████████| 6370/6370 [00:05<00:00, 1152.11it/s]\n",
      "100%|██████████████████████████████████████████████████████████████████████████| 6370/6370 [00:00<00:00, 107966.51it/s]\n"
     ]
    },
    {
     "name": "stdout",
     "output_type": "stream",
     "text": [
      "keyphrase velvet 's rank is  73\n"
     ]
    },
    {
     "name": "stderr",
     "output_type": "stream",
     "text": [
      "100%|████████████████████████████████████████████████████████████████████████████| 6370/6370 [00:05<00:00, 1071.85it/s]\n",
      "100%|██████████████████████████████████████████████████████████████████████████| 6370/6370 [00:00<00:00, 107966.07it/s]\n"
     ]
    },
    {
     "name": "stdout",
     "output_type": "stream",
     "text": [
      "keyphrase  red  's rank is  16\n"
     ]
    },
    {
     "name": "stderr",
     "output_type": "stream",
     "text": [
      "100%|████████████████████████████████████████████████████████████████████████████| 6370/6370 [00:05<00:00, 1068.43it/s]\n",
      "100%|██████████████████████████████████████████████████████████████████████████| 6370/6370 [00:00<00:00, 124902.26it/s]\n"
     ]
    },
    {
     "name": "stdout",
     "output_type": "stream",
     "text": [
      "keyphrase mahogany 's rank is  65\n"
     ]
    },
    {
     "name": "stderr",
     "output_type": "stream",
     "text": [
      "100%|████████████████████████████████████████████████████████████████████████████| 6370/6370 [00:05<00:00, 1219.14it/s]\n",
      "100%|██████████████████████████████████████████████████████████████████████████| 6370/6370 [00:00<00:00, 124901.67it/s]\n"
     ]
    },
    {
     "name": "stdout",
     "output_type": "stream",
     "text": [
      "keyphrase ruby 's rank is  45\n"
     ]
    },
    {
     "name": "stderr",
     "output_type": "stream",
     "text": [
      "100%|████████████████████████████████████████████████████████████████████████████| 6370/6370 [00:05<00:00, 1214.95it/s]\n",
      "100%|██████████████████████████████████████████████████████████████████████████| 6370/6370 [00:00<00:00, 124901.67it/s]\n"
     ]
    },
    {
     "name": "stdout",
     "output_type": "stream",
     "text": [
      "keyphrase tulip 's rank is  61\n"
     ]
    },
    {
     "name": "stderr",
     "output_type": "stream",
     "text": [
      "100%|████████████████████████████████████████████████████████████████████████████| 6370/6370 [00:05<00:00, 1207.35it/s]\n",
      "100%|██████████████████████████████████████████████████████████████████████████| 6370/6370 [00:00<00:00, 138478.25it/s]\n"
     ]
    },
    {
     "name": "stdout",
     "output_type": "stream",
     "text": [
      "keyphrase cherry 's rank is  35\n"
     ]
    },
    {
     "name": "stderr",
     "output_type": "stream",
     "text": [
      "100%|████████████████████████████████████████████████████████████████████████████| 6370/6370 [00:06<00:00, 1043.07it/s]\n",
      "100%|██████████████████████████████████████████████████████████████████████████| 6370/6370 [00:00<00:00, 129999.93it/s]\n"
     ]
    },
    {
     "name": "stdout",
     "output_type": "stream",
     "text": [
      "keyphrase plum 's rank is  59\n"
     ]
    },
    {
     "name": "stderr",
     "output_type": "stream",
     "text": [
      "100%|████████████████████████████████████████████████████████████████████████████| 6370/6370 [00:05<00:00, 1100.74it/s]\n",
      "100%|███████████████████████████████████████████████████████████████████████████| 6370/6370 [00:00<00:00, 59532.78it/s]\n"
     ]
    },
    {
     "name": "stdout",
     "output_type": "stream",
     "text": [
      "keyphrase berry 's rank is  48\n"
     ]
    },
    {
     "name": "stderr",
     "output_type": "stream",
     "text": [
      "100%|████████████████████████████████████████████████████████████████████████████| 6370/6370 [00:05<00:00, 1155.45it/s]\n",
      "100%|██████████████████████████████████████████████████████████████████████████| 6370/6370 [00:00<00:00, 115818.54it/s]\n"
     ]
    },
    {
     "name": "stdout",
     "output_type": "stream",
     "text": [
      "keyphrase banana 's rank is  41\n"
     ]
    },
    {
     "name": "stderr",
     "output_type": "stream",
     "text": [
      "100%|████████████████████████████████████████████████████████████████████████████| 6370/6370 [00:05<00:00, 1208.73it/s]\n",
      "100%|██████████████████████████████████████████████████████████████████████████| 6370/6370 [00:00<00:00, 109827.42it/s]\n"
     ]
    },
    {
     "name": "stdout",
     "output_type": "stream",
     "text": [
      "keyphrase bourbon 's rank is  60\n"
     ]
    },
    {
     "name": "stderr",
     "output_type": "stream",
     "text": [
      "100%|████████████████████████████████████████████████████████████████████████████| 6370/6370 [00:05<00:00, 1210.34it/s]\n",
      "100%|██████████████████████████████████████████████████████████████████████████| 6370/6370 [00:00<00:00, 141555.32it/s]\n"
     ]
    },
    {
     "name": "stdout",
     "output_type": "stream",
     "text": [
      "keyphrase oak 's rank is  41\n"
     ]
    },
    {
     "name": "stderr",
     "output_type": "stream",
     "text": [
      "100%|████████████████████████████████████████████████████████████████████████████| 6370/6370 [00:05<00:00, 1235.69it/s]\n",
      "100%|██████████████████████████████████████████████████████████████████████████| 6370/6370 [00:00<00:00, 127400.12it/s]\n"
     ]
    },
    {
     "name": "stdout",
     "output_type": "stream",
     "text": [
      "keyphrase apple 's rank is  33\n"
     ]
    },
    {
     "name": "stderr",
     "output_type": "stream",
     "text": [
      "100%|████████████████████████████████████████████████████████████████████████████| 6370/6370 [00:05<00:00, 1240.02it/s]\n",
      "100%|██████████████████████████████████████████████████████████████████████████| 6370/6370 [00:00<00:00, 124901.67it/s]\n"
     ]
    },
    {
     "name": "stdout",
     "output_type": "stream",
     "text": [
      "keyphrase metallic 's rank is  64\n"
     ]
    },
    {
     "name": "stderr",
     "output_type": "stream",
     "text": [
      "100%|████████████████████████████████████████████████████████████████████████████| 6370/6370 [00:05<00:00, 1208.04it/s]\n",
      "100%|██████████████████████████████████████████████████████████████████████████| 6370/6370 [00:00<00:00, 129999.93it/s]\n"
     ]
    },
    {
     "name": "stdout",
     "output_type": "stream",
     "text": [
      "keyphrase raspberry 's rank is  71\n"
     ]
    },
    {
     "name": "stderr",
     "output_type": "stream",
     "text": [
      "100%|████████████████████████████████████████████████████████████████████████████| 6370/6370 [00:05<00:00, 1146.92it/s]\n",
      "100%|██████████████████████████████████████████████████████████████████████████| 6370/6370 [00:00<00:00, 109827.87it/s]\n"
     ]
    },
    {
     "name": "stdout",
     "output_type": "stream",
     "text": [
      "keyphrase clove 's rank is  42\n"
     ]
    },
    {
     "name": "stderr",
     "output_type": "stream",
     "text": [
      "100%|████████████████████████████████████████████████████████████████████████████| 6370/6370 [00:05<00:00, 1180.72it/s]\n",
      "100%|██████████████████████████████████████████████████████████████████████████| 6370/6370 [00:00<00:00, 115818.04it/s]\n"
     ]
    },
    {
     "name": "stdout",
     "output_type": "stream",
     "text": [
      "keyphrase apricot 's rank is  60\n"
     ]
    },
    {
     "name": "stderr",
     "output_type": "stream",
     "text": [
      "100%|█████████████████████████████████████████████████████████████████████████████| 6370/6370 [00:06<00:00, 987.44it/s]\n",
      "100%|██████████████████████████████████████████████████████████████████████████| 6370/6370 [00:00<00:00, 124901.67it/s]\n"
     ]
    },
    {
     "name": "stdout",
     "output_type": "stream",
     "text": [
      "keyphrase coriander 's rank is  66\n"
     ]
    },
    {
     "name": "stderr",
     "output_type": "stream",
     "text": [
      "100%|████████████████████████████████████████████████████████████████████████████| 6370/6370 [00:05<00:00, 1270.44it/s]\n",
      "100%|███████████████████████████████████████████████████████████████████████████| 6370/6370 [00:00<00:00, 96515.17it/s]\n"
     ]
    },
    {
     "name": "stdout",
     "output_type": "stream",
     "text": [
      "keyphrase pepper 's rank is  50\n"
     ]
    },
    {
     "data": {
      "text/plain": [
       "38.92"
      ]
     },
     "execution_count": 133,
     "metadata": {},
     "output_type": "execute_result"
    }
   ],
   "source": [
    "evaluate_pilot_test(rtrain, U_K, I_K,keyphrases, top_items = 200, user_i = 0)"
   ]
  },
  {
   "cell_type": "code",
   "execution_count": null,
   "metadata": {
    "collapsed": true
   },
   "outputs": [],
   "source": []
  }
 ],
 "metadata": {
  "kernelspec": {
   "display_name": "Python 2",
   "language": "python",
   "name": "python2"
  },
  "language_info": {
   "codemirror_mode": {
    "name": "ipython",
    "version": 2
   },
   "file_extension": ".py",
   "mimetype": "text/x-python",
   "name": "python",
   "nbconvert_exporter": "python",
   "pygments_lexer": "ipython2",
   "version": "2.7.13"
  }
 },
 "nbformat": 4,
 "nbformat_minor": 2
}
