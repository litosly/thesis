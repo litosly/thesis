{
 "cells": [
  {
   "cell_type": "code",
   "execution_count": 1,
   "metadata": {
    "collapsed": true
   },
   "outputs": [],
   "source": [
    "from ast import literal_eval\n",
    "from os import listdir\n",
    "from os.path import isfile, join\n",
    "from scipy.sparse import csr_matrix, load_npz, save_npz\n",
    "from tqdm import tqdm\n",
    "\n",
    "import seaborn as sns\n",
    "import datetime\n",
    "import json\n",
    "import numpy as np\n",
    "import pandas as pd\n",
    "import time\n",
    "import yaml\n",
    "import scipy.sparse as sparse\n",
    "from ast import literal_eval"
   ]
  },
  {
   "cell_type": "code",
   "execution_count": 2,
   "metadata": {
    "collapsed": true
   },
   "outputs": [],
   "source": [
    "df_train = pd.read_csv('beer/Train.csv')"
   ]
  },
  {
   "cell_type": "code",
   "execution_count": 3,
   "metadata": {
    "collapsed": true
   },
   "outputs": [],
   "source": [
    "df_valid = pd.read_csv('beer/Valid.csv')"
   ]
  },
  {
   "cell_type": "code",
   "execution_count": 4,
   "metadata": {
    "collapsed": true
   },
   "outputs": [],
   "source": [
    "df_test = pd.read_csv('beer/Test.csv')"
   ]
  },
  {
   "cell_type": "code",
   "execution_count": 5,
   "metadata": {
    "collapsed": true
   },
   "outputs": [],
   "source": [
    "key_phrase = pd.read_csv('beer/KeyPhrases.csv')"
   ]
  },
  {
   "cell_type": "code",
   "execution_count": 6,
   "metadata": {
    "scrolled": true
   },
   "outputs": [
    {
     "data": {
      "text/html": [
       "<div>\n",
       "<style scoped>\n",
       "    .dataframe tbody tr th:only-of-type {\n",
       "        vertical-align: middle;\n",
       "    }\n",
       "\n",
       "    .dataframe tbody tr th {\n",
       "        vertical-align: top;\n",
       "    }\n",
       "\n",
       "    .dataframe thead th {\n",
       "        text-align: right;\n",
       "    }\n",
       "</style>\n",
       "<table border=\"1\" class=\"dataframe\">\n",
       "  <thead>\n",
       "    <tr style=\"text-align: right;\">\n",
       "      <th></th>\n",
       "      <th>beer/ABV</th>\n",
       "      <th>beer/name</th>\n",
       "      <th>beer/style</th>\n",
       "      <th>review/overall</th>\n",
       "      <th>review/text</th>\n",
       "      <th>review/timeUnix</th>\n",
       "      <th>user/profileName</th>\n",
       "      <th>Binary</th>\n",
       "      <th>UserIndex</th>\n",
       "      <th>ItemIndex</th>\n",
       "      <th>review</th>\n",
       "      <th>conca_review</th>\n",
       "      <th>keyVector</th>\n",
       "      <th>keyphrases_indices_length</th>\n",
       "    </tr>\n",
       "  </thead>\n",
       "  <tbody>\n",
       "    <tr>\n",
       "      <th>0</th>\n",
       "      <td>5.5</td>\n",
       "      <td>Caldera Pale Ale</td>\n",
       "      <td>American Pale Ale (APA)</td>\n",
       "      <td>4.0</td>\n",
       "      <td>Caldera- Pale Ale\\t\\tPicked up at Grape &amp; Gour...</td>\n",
       "      <td>1251327677</td>\n",
       "      <td>NJpadreFan</td>\n",
       "      <td>0</td>\n",
       "      <td>1767</td>\n",
       "      <td>659</td>\n",
       "      <td>['caldera', 'pale', 'ale', 'picked', 'grape', ...</td>\n",
       "      <td>caldera pale ale picked grape gourmet vb ligh...</td>\n",
       "      <td>[1, 7, 12, 14, 16, 29, 31, 34, 39, 40, 42, 45]</td>\n",
       "      <td>12</td>\n",
       "    </tr>\n",
       "    <tr>\n",
       "      <th>1</th>\n",
       "      <td>5.5</td>\n",
       "      <td>Caldera Pale Ale</td>\n",
       "      <td>American Pale Ale (APA)</td>\n",
       "      <td>2.5</td>\n",
       "      <td>12 oz. can poured into a pint glass. I really ...</td>\n",
       "      <td>1250928902</td>\n",
       "      <td>vacax</td>\n",
       "      <td>0</td>\n",
       "      <td>6159</td>\n",
       "      <td>659</td>\n",
       "      <td>['oz', 'poured', 'pint', 'glass', 'really', 'l...</td>\n",
       "      <td>oz poured pint glass really like beer like pa...</td>\n",
       "      <td>[1, 16, 18, 20, 24, 39, 42, 43, 45, 55]</td>\n",
       "      <td>10</td>\n",
       "    </tr>\n",
       "    <tr>\n",
       "      <th>2</th>\n",
       "      <td>5.5</td>\n",
       "      <td>Caldera Pale Ale</td>\n",
       "      <td>American Pale Ale (APA)</td>\n",
       "      <td>4.0</td>\n",
       "      <td>A: Pours a cloudy orange with a crisp white tw...</td>\n",
       "      <td>1249866208</td>\n",
       "      <td>d0ggnate</td>\n",
       "      <td>0</td>\n",
       "      <td>3516</td>\n",
       "      <td>659</td>\n",
       "      <td>['pours', 'cloudy', 'orange', 'crisp', 'white'...</td>\n",
       "      <td>pours cloudy orange crisp white two finger he...</td>\n",
       "      <td>[12, 36, 39, 42]</td>\n",
       "      <td>4</td>\n",
       "    </tr>\n",
       "    <tr>\n",
       "      <th>3</th>\n",
       "      <td>5.5</td>\n",
       "      <td>Caldera Pale Ale</td>\n",
       "      <td>American Pale Ale (APA)</td>\n",
       "      <td>4.5</td>\n",
       "      <td>Received this can through Beer Powerball. I am...</td>\n",
       "      <td>1249847121</td>\n",
       "      <td>babyhobbes</td>\n",
       "      <td>1</td>\n",
       "      <td>2893</td>\n",
       "      <td>659</td>\n",
       "      <td>['received', 'beer', 'powerball', 'really', 's...</td>\n",
       "      <td>received beer powerball really sorry nt know ...</td>\n",
       "      <td>[12, 42]</td>\n",
       "      <td>2</td>\n",
       "    </tr>\n",
       "    <tr>\n",
       "      <th>4</th>\n",
       "      <td>5.5</td>\n",
       "      <td>Caldera Pale Ale</td>\n",
       "      <td>American Pale Ale (APA)</td>\n",
       "      <td>4.5</td>\n",
       "      <td>355ml can bought from Beersofeurope.com...\\t\\t...</td>\n",
       "      <td>1249556277</td>\n",
       "      <td>mdagnew</td>\n",
       "      <td>1</td>\n",
       "      <td>4858</td>\n",
       "      <td>659</td>\n",
       "      <td>['bought', 'beersofeurope', 'com', 'poured', '...</td>\n",
       "      <td>bought beersofeurope com poured golden yellow...</td>\n",
       "      <td>[1, 5, 7, 12, 14, 16, 18, 19, 26, 31, 34, 40, ...</td>\n",
       "      <td>18</td>\n",
       "    </tr>\n",
       "  </tbody>\n",
       "</table>\n",
       "</div>"
      ],
      "text/plain": [
       "   beer/ABV         beer/name               beer/style  review/overall  \\\n",
       "0       5.5  Caldera Pale Ale  American Pale Ale (APA)             4.0   \n",
       "1       5.5  Caldera Pale Ale  American Pale Ale (APA)             2.5   \n",
       "2       5.5  Caldera Pale Ale  American Pale Ale (APA)             4.0   \n",
       "3       5.5  Caldera Pale Ale  American Pale Ale (APA)             4.5   \n",
       "4       5.5  Caldera Pale Ale  American Pale Ale (APA)             4.5   \n",
       "\n",
       "                                         review/text  review/timeUnix  \\\n",
       "0  Caldera- Pale Ale\\t\\tPicked up at Grape & Gour...       1251327677   \n",
       "1  12 oz. can poured into a pint glass. I really ...       1250928902   \n",
       "2  A: Pours a cloudy orange with a crisp white tw...       1249866208   \n",
       "3  Received this can through Beer Powerball. I am...       1249847121   \n",
       "4  355ml can bought from Beersofeurope.com...\\t\\t...       1249556277   \n",
       "\n",
       "  user/profileName  Binary  UserIndex  ItemIndex  \\\n",
       "0       NJpadreFan       0       1767        659   \n",
       "1            vacax       0       6159        659   \n",
       "2         d0ggnate       0       3516        659   \n",
       "3       babyhobbes       1       2893        659   \n",
       "4          mdagnew       1       4858        659   \n",
       "\n",
       "                                              review  \\\n",
       "0  ['caldera', 'pale', 'ale', 'picked', 'grape', ...   \n",
       "1  ['oz', 'poured', 'pint', 'glass', 'really', 'l...   \n",
       "2  ['pours', 'cloudy', 'orange', 'crisp', 'white'...   \n",
       "3  ['received', 'beer', 'powerball', 'really', 's...   \n",
       "4  ['bought', 'beersofeurope', 'com', 'poured', '...   \n",
       "\n",
       "                                        conca_review  \\\n",
       "0   caldera pale ale picked grape gourmet vb ligh...   \n",
       "1   oz poured pint glass really like beer like pa...   \n",
       "2   pours cloudy orange crisp white two finger he...   \n",
       "3   received beer powerball really sorry nt know ...   \n",
       "4   bought beersofeurope com poured golden yellow...   \n",
       "\n",
       "                                           keyVector  \\\n",
       "0     [1, 7, 12, 14, 16, 29, 31, 34, 39, 40, 42, 45]   \n",
       "1            [1, 16, 18, 20, 24, 39, 42, 43, 45, 55]   \n",
       "2                                   [12, 36, 39, 42]   \n",
       "3                                           [12, 42]   \n",
       "4  [1, 5, 7, 12, 14, 16, 18, 19, 26, 31, 34, 40, ...   \n",
       "\n",
       "   keyphrases_indices_length  \n",
       "0                         12  \n",
       "1                         10  \n",
       "2                          4  \n",
       "3                          2  \n",
       "4                         18  "
      ]
     },
     "execution_count": 6,
     "metadata": {},
     "output_type": "execute_result"
    }
   ],
   "source": [
    "df_train.head()"
   ]
  },
  {
   "cell_type": "code",
   "execution_count": 7,
   "metadata": {
    "collapsed": true
   },
   "outputs": [],
   "source": [
    "def get_beer_df(df, sampling=False, top_user_num=6100, top_item_num=4000):\n",
    "    if sampling:\n",
    "        df = filter_yelp_df(df, top_user_num=top_user_num, top_item_num=top_item_num)\n",
    "\n",
    "    rating_matrix = df_to_sparse(df, row_name='UserIndex',\n",
    "                                 col_name='ItemIndex',\n",
    "                                 value_name='Binary',\n",
    "                                 shape=None)\n",
    "\n",
    "    timestamp_matrix = df_to_sparse(df, row_name='UserIndex',\n",
    "                                    col_name='ItemIndex',\n",
    "                                    value_name='review/timeUnix',\n",
    "                                    shape=None)\n",
    "    return rating_matrix, timestamp_matrix\n",
    "\n",
    "def df_to_sparse(df, row_name='UserIndex', col_name='ItemIndex', value_name='Binary',\n",
    "                 shape=(6370,3668)):\n",
    "    rows = df[row_name]\n",
    "    cols = df[col_name]\n",
    "    if value_name is not None:\n",
    "        values = df[value_name]\n",
    "    else:\n",
    "        values = [1]*len(rows)\n",
    "\n",
    "    return csr_matrix((values, (rows, cols)), shape=shape)"
   ]
  },
  {
   "cell_type": "code",
   "execution_count": 8,
   "metadata": {
    "collapsed": true
   },
   "outputs": [],
   "source": [
    "def time_ordered_split(rating_matrix, timestamp_matrix, ratio=[0.5, 0.2, 0.3],\n",
    "                       implicit=True, remove_empty=False, threshold=4,\n",
    "                       sampling=False, sampling_ratio=0.1):\n",
    "\n",
    "    if implicit:\n",
    "#         temp_rating_matrix = sparse.csr_matrix(rating_matrix.shape)\n",
    "#         temp_rating_matrix[(rating_matrix > threshold).nonzero()] = 1\n",
    "#         rating_matrix = temp_rating_matrix\n",
    "        timestamp_matrix = timestamp_matrix.multiply(rating_matrix)\n",
    "\n",
    "    nonzero_index = None\n",
    "    \n",
    "    user_num, item_num = rating_matrix.shape\n",
    "\n",
    "    rtrain = []\n",
    "    rtime = []\n",
    "    rvalid = []\n",
    "    rtest = []\n",
    "#     item_idx_matrix = []\n",
    "#     item_idx_valid = []\n",
    "#     item_idx_test = []\n",
    "    \n",
    "    for i in tqdm(range(user_num)):\n",
    "        item_indexes = rating_matrix[i].nonzero()[1]\n",
    "        data = rating_matrix[i].data\n",
    "        timestamp = timestamp_matrix[i].data\n",
    "        num_nonzeros = len(item_indexes)\n",
    "        if num_nonzeros >= 1:\n",
    "            num_test = int(num_nonzeros * ratio[2])\n",
    "            num_valid = int(num_nonzeros * (ratio[1] + ratio[2]))\n",
    "\n",
    "            valid_offset = num_nonzeros - num_valid\n",
    "            test_offset = num_nonzeros - num_test\n",
    "\n",
    "            argsort = np.argsort(timestamp)\n",
    "            data = data[argsort]\n",
    "            item_indexes = item_indexes[argsort]\n",
    "            rtrain.append([data[:valid_offset], np.full(valid_offset, i), item_indexes[:valid_offset]])\n",
    "            rvalid.append([data[valid_offset:test_offset], np.full(test_offset - valid_offset, i),\n",
    "                           item_indexes[valid_offset:test_offset]])\n",
    "            rtest.append([data[test_offset:], np.full(num_test, i), item_indexes[test_offset:]])\n",
    "            \n",
    "#             item_idx_matrix.append(item_indexes[:valid_offset])\n",
    "#             item_idx_valid.append(item_indexes[valid_offset:test_offset])\n",
    "#             item_idx_test.append(item_indexes[test_offset:])\n",
    "#         else:\n",
    "#             item_idx_matrix.append([])\n",
    "#             item_idx_valid.append([])\n",
    "#             item_idx_test.append([])\n",
    "    rtrain = np.array(rtrain)\n",
    "    rvalid = np.array(rvalid)\n",
    "    rtest = np.array(rtest)\n",
    "\n",
    "    rtrain = sparse.csr_matrix((np.hstack(rtrain[:, 0]), (np.hstack(rtrain[:, 1]), np.hstack(rtrain[:, 2]))),\n",
    "                               shape=rating_matrix.shape, dtype=np.float32)\n",
    "    rvalid = sparse.csr_matrix((np.hstack(rvalid[:, 0]), (np.hstack(rvalid[:, 1]), np.hstack(rvalid[:, 2]))),\n",
    "                               shape=rating_matrix.shape, dtype=np.float32)\n",
    "    rtest = sparse.csr_matrix((np.hstack(rtest[:, 0]), (np.hstack(rtest[:, 1]), np.hstack(rtest[:, 2]))),\n",
    "                              shape=rating_matrix.shape, dtype=np.float32)\n",
    "\n",
    "    return rtrain, rvalid, rtest, timestamp_matrix"
   ]
  },
  {
   "cell_type": "markdown",
   "metadata": {
    "collapsed": true
   },
   "source": [
    "rating_matrix, timestamp_matrix = get_beer_df(df)"
   ]
  },
  {
   "cell_type": "markdown",
   "metadata": {},
   "source": [
    "rtrain, rvalid, rtest, timestamp_matrix = time_ordered_split(rating_matrix, timestamp_matrix)"
   ]
  },
  {
   "cell_type": "markdown",
   "metadata": {},
   "source": [
    "rating_matrix"
   ]
  },
  {
   "cell_type": "code",
   "execution_count": 9,
   "metadata": {
    "collapsed": true
   },
   "outputs": [],
   "source": [
    "def get_beer_binary(df, shape = (6370,3668)):\n",
    "    rating_matrix = df_to_sparse(df, row_name='UserIndex',\n",
    "                                 col_name='ItemIndex',\n",
    "                                 value_name='Binary',\n",
    "                                 shape=shape)\n",
    "    return rating_matrix\n",
    "\n",
    "def df_to_sparse(df, row_name='UserIndex', col_name='ItemIndex', value_name='Binary',\n",
    "                 shape=(6370,3668)):\n",
    "    rows = df[row_name]\n",
    "    cols = df[col_name]\n",
    "    if value_name is not None:\n",
    "        values = df[value_name]\n",
    "    else:\n",
    "        values = [1]*len(rows)\n",
    "\n",
    "    return csr_matrix((values, (rows, cols)), shape=shape)"
   ]
  },
  {
   "cell_type": "code",
   "execution_count": 18,
   "metadata": {
    "collapsed": true
   },
   "outputs": [],
   "source": [
    "rtrain = get_beer_binary(df_train)\n",
    "rvalid = get_beer_binary(df_valid)\n",
    "rtest = get_beer_binary(df_test)"
   ]
  },
  {
   "cell_type": "code",
   "execution_count": 17,
   "metadata": {},
   "outputs": [
    {
     "data": {
      "text/plain": [
       "<6370x3668 sparse matrix of type '<type 'numpy.int64'>'\n",
       "\twith 632987 stored elements in Compressed Sparse Row format>"
      ]
     },
     "execution_count": 17,
     "metadata": {},
     "output_type": "execute_result"
    }
   ],
   "source": [
    "rtrain"
   ]
  },
  {
   "cell_type": "code",
   "execution_count": 10,
   "metadata": {
    "collapsed": true
   },
   "outputs": [],
   "source": [
    "from sklearn.metrics.pairwise import cosine_similarity\n",
    "def train(matrix_train):\n",
    "    similarity = cosine_similarity(X=matrix_train, Y=None, dense_output=True)\n",
    "    return similarity\n",
    "\n",
    "def get_I_K(df, row_name = 'ItemIndex', shape = (3668,75)):\n",
    "    rows = []\n",
    "    cols = []\n",
    "    vals = []\n",
    "    for i in tqdm(range(df.shape[0])):\n",
    "        key_vector = literal_eval(df['keyVector'][i])\n",
    "        rows.extend([df[row_name][i]]*len(key_vector)) ## Item index\n",
    "        cols.extend(key_vector) ## Keyword Index\n",
    "#         if binary:\n",
    "        vals.extend(np.array([1]*len(key_vector)))\n",
    "#         else:\n",
    "#             vals.extend(arr[arr.nonzero()])    \n",
    "    return csr_matrix((vals, (rows, cols)), shape=shape)\n",
    "\n",
    "\n",
    "def predict(matrix_train, k, similarity, item_similarity_en = False):\n",
    "    prediction_scores = []\n",
    "    \n",
    "    if item_similarity_en:\n",
    "        matrix_train = matrix_train.transpose()\n",
    "        \n",
    "    for user_index in tqdm(range(matrix_train.shape[0])):\n",
    "        # Get user u's prediction scores for all items\n",
    "        vector_u = similarity[user_index]\n",
    "\n",
    "        # Get closest K neighbors excluding user u self\n",
    "        similar_users = vector_u.argsort()[::-1][1:k+1]\n",
    "        # Get neighbors similarity weights and ratings\n",
    "        similar_users_weights = similarity[user_index][similar_users]\n",
    "        similar_users_ratings = matrix_train[similar_users].toarray()\n",
    "\n",
    "        prediction_scores_u = similar_users_ratings * similar_users_weights[:, np.newaxis]\n",
    "\n",
    "        prediction_scores.append(np.sum(prediction_scores_u, axis=0))\n",
    "    res = np.array(prediction_scores)\n",
    "    if item_similarity_en:\n",
    "        res = res.transpose()\n",
    "    return res\n",
    "\n",
    "def prediction(prediction_score, topK, matrix_Train):\n",
    "\n",
    "    prediction = []\n",
    "\n",
    "    for user_index in tqdm(range(matrix_Train.shape[0])):\n",
    "        vector_u = prediction_score[user_index]\n",
    "        vector_train = matrix_Train[user_index]\n",
    "        if len(vector_train.nonzero()[0]) > 0:\n",
    "            vector_predict = sub_routine(vector_u, vector_train, topK=topK)\n",
    "        else:\n",
    "            vector_predict = np.zeros(topK, dtype=np.float32)\n",
    "\n",
    "        prediction.append(vector_predict)\n",
    "\n",
    "    return np.vstack(prediction)\n",
    "\n",
    "\n",
    "def sub_routine(vector_u, vector_train, topK=500):\n",
    "\n",
    "    train_index = vector_train.nonzero()[1]\n",
    "\n",
    "    vector_u = vector_u\n",
    "\n",
    "    candidate_index = np.argpartition(-vector_u, topK+len(train_index))[:topK+len(train_index)]\n",
    "    vector_u = candidate_index[vector_u[candidate_index].argsort()[::-1]]\n",
    "    vector_u = np.delete(vector_u, np.isin(vector_u, train_index).nonzero()[0])\n",
    "\n",
    "    return vector_u[:topK]\n",
    "\n"
   ]
  },
  {
   "cell_type": "code",
   "execution_count": 116,
   "metadata": {},
   "outputs": [
    {
     "data": {
      "text/plain": [
       "<3668x75 sparse matrix of type '<type 'numpy.int32'>'\n",
       "\twith 213696 stored elements in Compressed Sparse Row format>"
      ]
     },
     "execution_count": 116,
     "metadata": {},
     "output_type": "execute_result"
    }
   ],
   "source": [
    "I_K"
   ]
  },
  {
   "cell_type": "code",
   "execution_count": 117,
   "metadata": {
    "collapsed": true
   },
   "outputs": [],
   "source": [
    "save_npz('beer/I_K',I_K)"
   ]
  },
  {
   "cell_type": "code",
   "execution_count": 121,
   "metadata": {},
   "outputs": [
    {
     "name": "stderr",
     "output_type": "stream",
     "text": [
      "100%|███████████████████████████████████████████████████████████████████████| 641773/641773 [00:32<00:00, 20000.41it/s]\n"
     ]
    }
   ],
   "source": [
    "U_K = get_I_K(df_train, row_name = 'UserIndex', shape = (6370,75))"
   ]
  },
  {
   "cell_type": "code",
   "execution_count": 123,
   "metadata": {
    "collapsed": true
   },
   "outputs": [],
   "source": [
    "save_npz('beer/U_K',U_K)"
   ]
  },
  {
   "cell_type": "code",
   "execution_count": null,
   "metadata": {
    "collapsed": true
   },
   "outputs": [],
   "source": [
    "get"
   ]
  },
  {
   "cell_type": "code",
   "execution_count": 114,
   "metadata": {},
   "outputs": [
    {
     "data": {
      "text/plain": [
       "array([0.        , 0.82145752, 0.35454307, ..., 0.92327245, 0.36836629,\n",
       "       0.34408779])"
      ]
     },
     "execution_count": 114,
     "metadata": {},
     "output_type": "execute_result"
    }
   ],
   "source": [
    "similarity[0]"
   ]
  },
  {
   "cell_type": "code",
   "execution_count": 115,
   "metadata": {},
   "outputs": [
    {
     "data": {
      "text/plain": [
       "array([17.123164  , 18.35822566,  4.25679072, ...,  5.20957769,\n",
       "        4.39997092,  9.04351073])"
      ]
     },
     "execution_count": 115,
     "metadata": {},
     "output_type": "execute_result"
    }
   ],
   "source": [
    "rtrain.dot(similarity[0])"
   ]
  },
  {
   "cell_type": "code",
   "execution_count": 112,
   "metadata": {},
   "outputs": [
    {
     "data": {
      "text/plain": [
       "array([2759,  289, 3639,  184, 2744, 2809, 2691, 2028, 3015, 1037, 2468,\n",
       "       3642,  286, 3472, 2707, 2829, 2806,  474, 2923, 1800, 3214, 3621,\n",
       "       1782, 2952, 2132, 1870,  453,  345,  452, 3654, 2469, 2447, 1959,\n",
       "       1838,  999, 2354,  544, 2061,   19, 2607,  367, 2701, 3149, 1443,\n",
       "       1023, 2260, 2306, 3387, 1504,  449, 3574, 3391, 2865, 2761, 3243,\n",
       "        457, 2931, 2172, 1460, 1369,  486, 3074,   29, 2232, 2121, 2776,\n",
       "       2253, 1844, 3506, 3497, 2071, 3313, 2876,  640, 1390, 2749,  500,\n",
       "        692,  477, 1599, 1633, 1021,  305, 2053,  469, 2138, 3601, 2543,\n",
       "        287, 1249, 1410, 2244,  371, 3228, 3092,  876, 2215, 1271,  825,\n",
       "       2666], dtype=int64)"
      ]
     },
     "execution_count": 112,
     "metadata": {},
     "output_type": "execute_result"
    }
   ],
   "source": [
    "similar_users"
   ]
  },
  {
   "cell_type": "code",
   "execution_count": 98,
   "metadata": {
    "collapsed": true
   },
   "outputs": [],
   "source": [
    "similarity = I_I\n",
    "user_index = 0\n",
    "k = 100\n",
    "matrix_train = rtrain\n",
    "vector_u = similarity[user_index]\n",
    "similar_users = vector_u.argsort()[::-1][1:k+1]\n",
    "similar_users_weights = similarity[user_index][similar_users]\n",
    "similar_users_ratings = matrix_train[similar_users].toarray()\n",
    "prediction_scores_u = similar_users_ratings * similar_users_weights[:, np.newaxis]"
   ]
  },
  {
   "cell_type": "markdown",
   "metadata": {},
   "source": [
    "### Evaluation"
   ]
  },
  {
   "cell_type": "code",
   "execution_count": 11,
   "metadata": {
    "collapsed": true
   },
   "outputs": [],
   "source": [
    "def recallk(vector_true_dense, hits, **unused):\n",
    "    hits = len(hits.nonzero()[0])\n",
    "    return float(hits)/len(vector_true_dense)\n",
    "\n",
    "\n",
    "def precisionk(vector_predict, hits, **unused):\n",
    "    hits = len(hits.nonzero()[0])\n",
    "    return float(hits)/len(vector_predict)\n",
    "\n",
    "\n",
    "def average_precisionk(vector_predict, hits, **unused):\n",
    "    precisions = np.cumsum(hits, dtype=np.float32)/range(1, len(vector_predict)+1)\n",
    "    return np.mean(precisions)\n",
    "\n",
    "\n",
    "def r_precision(vector_true_dense, vector_predict, **unused):\n",
    "    vector_predict_short = vector_predict[:len(vector_true_dense)]\n",
    "    hits = len(np.isin(vector_predict_short, vector_true_dense).nonzero()[0])\n",
    "    return float(hits)/len(vector_true_dense)\n",
    "\n",
    "\n",
    "def _dcg_support(size):\n",
    "    arr = np.arange(1, size+1)+1\n",
    "    return 1./np.log2(arr)\n",
    "\n",
    "\n",
    "def ndcg(vector_true_dense, vector_predict, hits):\n",
    "    idcg = np.sum(_dcg_support(len(vector_true_dense)))\n",
    "    dcg_base = _dcg_support(len(vector_predict))\n",
    "    dcg_base[np.logical_not(hits)] = 0\n",
    "    dcg = np.sum(dcg_base)\n",
    "    return dcg/idcg\n",
    "\n",
    "\n",
    "def click(hits, **unused):\n",
    "    first_hit = next((i for i, x in enumerate(hits) if x), None)\n",
    "    if first_hit is None:\n",
    "        return 5\n",
    "    else:\n",
    "        return first_hit/10\n",
    "\n",
    "\n",
    "def evaluate(matrix_Predict, matrix_Test, metric_names =['R-Precision', 'NDCG', 'Precision', 'Recall', 'MAP'], atK = [5, 10, 15, 20, 50], analytical=False):\n",
    "    \"\"\"\n",
    "    :param matrix_U: Latent representations of users, for LRecs it is RQ, for ALSs it is U\n",
    "    :param matrix_V: Latent representations of items, for LRecs it is Q, for ALSs it is V\n",
    "    :param matrix_Train: Rating matrix for training, features.\n",
    "    :param matrix_Test: Rating matrix for evaluation, true labels.\n",
    "    :param k: Top K retrieval\n",
    "    :param metric_names: Evaluation metrics\n",
    "    :return:\n",
    "    \"\"\"\n",
    "    global_metrics = {\n",
    "        \"R-Precision\": r_precision,\n",
    "        \"NDCG\": ndcg,\n",
    "        \"Clicks\": click\n",
    "    }\n",
    "\n",
    "    local_metrics = {\n",
    "        \"Precision\": precisionk,\n",
    "        \"Recall\": recallk,\n",
    "        \"MAP\": average_precisionk\n",
    "    }\n",
    "\n",
    "    output = dict()\n",
    "\n",
    "    num_users = matrix_Predict.shape[0]\n",
    "\n",
    "    for k in atK:\n",
    "\n",
    "        local_metric_names = list(set(metric_names).intersection(local_metrics.keys()))\n",
    "        results = {name: [] for name in local_metric_names}\n",
    "        topK_Predict = matrix_Predict[:, :k]\n",
    "\n",
    "        for user_index in tqdm(range(topK_Predict.shape[0])):\n",
    "            vector_predict = topK_Predict[user_index]\n",
    "            if len(vector_predict.nonzero()[0]) > 0:\n",
    "                vector_true = matrix_Test[user_index]\n",
    "                vector_true_dense = vector_true.nonzero()[1]\n",
    "                hits = np.isin(vector_predict, vector_true_dense)\n",
    "\n",
    "                if vector_true_dense.size > 0:\n",
    "                    for name in local_metric_names:\n",
    "                        results[name].append(local_metrics[name](vector_true_dense=vector_true_dense,\n",
    "                                                                 vector_predict=vector_predict,\n",
    "                                                                 hits=hits))\n",
    "\n",
    "        results_summary = dict()\n",
    "        if analytical:\n",
    "            for name in local_metric_names:\n",
    "                results_summary['{0}@{1}'.format(name, k)] = results[name]\n",
    "        else:\n",
    "            for name in local_metric_names:\n",
    "                results_summary['{0}@{1}'.format(name, k)] = (np.average(results[name]),\n",
    "                                                              1.96*np.std(results[name])/np.sqrt(num_users))\n",
    "        output.update(results_summary)\n",
    "\n",
    "    global_metric_names = list(set(metric_names).intersection(global_metrics.keys()))\n",
    "    results = {name: [] for name in global_metric_names}\n",
    "\n",
    "    topK_Predict = matrix_Predict[:]\n",
    "\n",
    "    for user_index in tqdm(range(topK_Predict.shape[0])):\n",
    "        vector_predict = topK_Predict[user_index]\n",
    "\n",
    "        if len(vector_predict.nonzero()[0]) > 0:\n",
    "            vector_true = matrix_Test[user_index]\n",
    "            vector_true_dense = vector_true.nonzero()[1]\n",
    "            hits = np.isin(vector_predict, vector_true_dense)\n",
    "\n",
    "            # if user_index == 1:\n",
    "            #     import ipdb;\n",
    "            #     ipdb.set_trace()\n",
    "\n",
    "            if vector_true_dense.size > 0:\n",
    "                for name in global_metric_names:\n",
    "                    results[name].append(global_metrics[name](vector_true_dense=vector_true_dense,\n",
    "                                                              vector_predict=vector_predict,\n",
    "                                                              hits=hits))\n",
    "\n",
    "    results_summary = dict()\n",
    "    if analytical:\n",
    "        for name in global_metric_names:\n",
    "            results_summary[name] = results[name]\n",
    "    else:\n",
    "        for name in global_metric_names:\n",
    "            results_summary[name] = (np.average(results[name]), 1.96*np.std(results[name])/np.sqrt(num_users))\n",
    "    output.update(results_summary)\n",
    "\n",
    "    return output\n"
   ]
  },
  {
   "cell_type": "markdown",
   "metadata": {},
   "source": [
    "## User-Item "
   ]
  },
  {
   "cell_type": "code",
   "execution_count": 38,
   "metadata": {},
   "outputs": [
    {
     "name": "stderr",
     "output_type": "stream",
     "text": [
      "100%|█████████████████████████████████████████████████████████████████████████████| 6370/6370 [00:12<00:00, 496.49it/s]\n",
      "100%|████████████████████████████████████████████████████████████████████████████| 6370/6370 [00:01<00:00, 3477.07it/s]\n"
     ]
    }
   ],
   "source": [
    "similarity = train(rtrain)\n",
    "user_item_prediction_score = predict(rtrain, 100, similarity, item_similarity_en= False)\n",
    "user_item_predict = prediction(user_item_prediction_score, 50, rtrain)"
   ]
  },
  {
   "cell_type": "code",
   "execution_count": 39,
   "metadata": {
    "scrolled": false
   },
   "outputs": [
    {
     "name": "stderr",
     "output_type": "stream",
     "text": [
      "100%|████████████████████████████████████████████████████████████████████████████| 6370/6370 [00:01<00:00, 5822.67it/s]\n",
      "100%|████████████████████████████████████████████████████████████████████████████| 6370/6370 [00:01<00:00, 5822.67it/s]\n",
      "100%|████████████████████████████████████████████████████████████████████████████| 6370/6370 [00:01<00:00, 5947.71it/s]\n",
      "100%|████████████████████████████████████████████████████████████████████████████| 6370/6370 [00:01<00:00, 5844.04it/s]\n",
      "100%|████████████████████████████████████████████████████████████████████████████| 6370/6370 [00:01<00:00, 5790.91it/s]\n",
      "100%|████████████████████████████████████████████████████████████████████████████| 6370/6370 [00:01<00:00, 5128.82it/s]\n"
     ]
    }
   ],
   "source": [
    "user_item_res = evaluate(user_item_predict, rvalid)"
   ]
  },
  {
   "cell_type": "code",
   "execution_count": 40,
   "metadata": {},
   "outputs": [
    {
     "data": {
      "text/plain": [
       "{'MAP@10': (0.045144826330695706, 0.002354497505081906),\n",
       " 'MAP@15': (0.042265773714731864, 0.0019824373381772792),\n",
       " 'MAP@20': (0.040129338606794795, 0.0017567965943763916),\n",
       " 'MAP@5': (0.04956399929959726, 0.003133599222210933),\n",
       " 'MAP@50': (0.032943936395371624, 0.0012118312514037895),\n",
       " 'NDCG': (0.10093614993594359, 0.003179003332122599),\n",
       " 'Precision@10': (0.03883733146559272, 0.0017160204191020419),\n",
       " 'Precision@15': (0.035171890503706296, 0.0014211672707212524),\n",
       " 'Precision@20': (0.032708807564349504, 0.0012423089296096815),\n",
       " 'Precision@5': (0.044440553318157945, 0.002423972508292176),\n",
       " 'Precision@50': (0.024941341271230957, 0.0008480003467919996),\n",
       " 'R-Precision': (0.03997492992806294, 0.002317948843344031),\n",
       " 'Recall@10': (0.06845154159235434, 0.0040585896263153525),\n",
       " 'Recall@15': (0.09096277675804605, 0.004630203266326043),\n",
       " 'Recall@20': (0.11247720176840045, 0.005101760514228912),\n",
       " 'Recall@5': (0.040952551758442035, 0.0032340960406314727),\n",
       " 'Recall@50': (0.19980217392786573, 0.006326497493193988)}"
      ]
     },
     "execution_count": 40,
     "metadata": {},
     "output_type": "execute_result"
    }
   ],
   "source": [
    "user_item_res"
   ]
  },
  {
   "cell_type": "markdown",
   "metadata": {},
   "source": [
    "## Item-item similarity "
   ]
  },
  {
   "cell_type": "code",
   "execution_count": 26,
   "metadata": {
    "scrolled": true
   },
   "outputs": [
    {
     "name": "stderr",
     "output_type": "stream",
     "text": [
      "100%|███████████████████████████████████████████████████████████████████████| 641773/641773 [00:32<00:00, 19846.40it/s]\n"
     ]
    }
   ],
   "source": [
    "I_K = get_I_K(df_train, shape = (3668, 75))"
   ]
  },
  {
   "cell_type": "code",
   "execution_count": 27,
   "metadata": {},
   "outputs": [
    {
     "data": {
      "text/plain": [
       "<3668x75 sparse matrix of type '<type 'numpy.int32'>'\n",
       "\twith 213696 stored elements in Compressed Sparse Row format>"
      ]
     },
     "execution_count": 27,
     "metadata": {},
     "output_type": "execute_result"
    }
   ],
   "source": [
    "I_K"
   ]
  },
  {
   "cell_type": "code",
   "execution_count": 28,
   "metadata": {
    "collapsed": true,
    "scrolled": true
   },
   "outputs": [],
   "source": [
    "I_I = train(I_K)"
   ]
  },
  {
   "cell_type": "code",
   "execution_count": 29,
   "metadata": {
    "scrolled": true
   },
   "outputs": [
    {
     "name": "stderr",
     "output_type": "stream",
     "text": [
      "100%|█████████████████████████████████████████████████████████████████████████████| 3668/3668 [00:31<00:00, 115.82it/s]\n",
      "100%|████████████████████████████████████████████████████████████████████████████| 6370/6370 [00:02<00:00, 3077.29it/s]\n",
      "100%|████████████████████████████████████████████████████████████████████████████| 6370/6370 [00:01<00:00, 5892.69it/s]\n",
      "100%|████████████████████████████████████████████████████████████████████████████| 6370/6370 [00:01<00:00, 5903.61it/s]\n",
      "100%|████████████████████████████████████████████████████████████████████████████| 6370/6370 [00:01<00:00, 5764.71it/s]\n",
      "100%|████████████████████████████████████████████████████████████████████████████| 6370/6370 [00:01<00:00, 5801.46it/s]\n",
      "100%|████████████████████████████████████████████████████████████████████████████| 6370/6370 [00:01<00:00, 5713.00it/s]\n",
      "100%|████████████████████████████████████████████████████████████████████████████| 6370/6370 [00:01<00:00, 5178.86it/s]\n"
     ]
    }
   ],
   "source": [
    "item_based_prediction_score = predict(rtrain, 100, I_I, item_similarity_en= True)\n",
    "item_based_predict = prediction(item_based_prediction_score, 50, rtrain)\n",
    "item_based_res = evaluate(item_based_predict, rvalid)"
   ]
  },
  {
   "cell_type": "code",
   "execution_count": 32,
   "metadata": {},
   "outputs": [
    {
     "data": {
      "text/plain": [
       "(3668L, 3668L)"
      ]
     },
     "execution_count": 32,
     "metadata": {},
     "output_type": "execute_result"
    }
   ],
   "source": [
    "I_I.shape"
   ]
  },
  {
   "cell_type": "code",
   "execution_count": 30,
   "metadata": {
    "scrolled": true
   },
   "outputs": [
    {
     "data": {
      "text/plain": [
       "{'MAP@10': (0.012257297946319131, 0.0012345550264786004),\n",
       " 'MAP@15': (0.011561416462484578, 0.0010299391586485126),\n",
       " 'MAP@20': (0.011172197911233655, 0.0009052524737597343),\n",
       " 'MAP@5': (0.013544037821747503, 0.0016795407276965935),\n",
       " 'MAP@50': (0.009851991690077999, 0.0006024329263627383),\n",
       " 'NDCG': (0.03036794781815371, 0.0017408316332245687),\n",
       " 'Precision@10': (0.010646121519873928, 0.0008871305915328645),\n",
       " 'Precision@15': (0.010085799334617406, 0.0007331559760569813),\n",
       " 'Precision@20': (0.009884433549290843, 0.0006363352616858814),\n",
       " 'Precision@5': (0.012081947119593768, 0.0012571530710625744),\n",
       " 'Precision@50': (0.00833129049203292, 0.0004178737966964705),\n",
       " 'R-Precision': (0.010566064486017419, 0.0010758446631350643),\n",
       " 'Recall@10': (0.018115843733737758, 0.0022331758885910623),\n",
       " 'Recall@15': (0.025011070563634115, 0.0026040777674045806),\n",
       " 'Recall@20': (0.0315957917507434, 0.002862300095017566),\n",
       " 'Recall@5': (0.00998045633316055, 0.0015656795588398769),\n",
       " 'Recall@50': (0.06454957599052848, 0.003962933370238186)}"
      ]
     },
     "execution_count": 30,
     "metadata": {},
     "output_type": "execute_result"
    }
   ],
   "source": [
    "item_based_res"
   ]
  },
  {
   "cell_type": "markdown",
   "metadata": {},
   "source": [
    "## User-User similarity"
   ]
  },
  {
   "cell_type": "code",
   "execution_count": 58,
   "metadata": {
    "scrolled": true
   },
   "outputs": [
    {
     "name": "stderr",
     "output_type": "stream",
     "text": [
      "\n",
      "\n",
      "  0%|                                                                                       | 0/641773 [00:00<?, ?it/s]\n",
      "\n",
      "  0%|▏                                                                        | 1669/641773 [00:00<00:43, 14769.92it/s]\n",
      "\n",
      "  1%|▍                                                                        | 3505/641773 [00:00<00:40, 15690.33it/s]\n",
      "\n",
      "  1%|▋                                                                        | 5809/641773 [00:00<00:37, 16782.07it/s]\n",
      "\n",
      "  1%|▉                                                                        | 7817/641773 [00:00<00:36, 17605.38it/s]\n",
      "\n",
      "  2%|█                                                                        | 9775/641773 [00:00<00:34, 18104.28it/s]\n",
      "\n",
      "  2%|█▎                                                                      | 11731/641773 [00:00<00:34, 18465.28it/s]\n",
      "\n",
      "  2%|█▌                                                                      | 13472/641773 [00:00<00:34, 18079.02it/s]\n",
      "\n",
      "  2%|█▋                                                                      | 15329/641773 [00:00<00:34, 18223.56it/s]\n",
      "\n",
      "  3%|█▉                                                                      | 17182/641773 [00:00<00:34, 18260.27it/s]\n",
      "\n",
      "  3%|██▏                                                                     | 19190/641773 [00:01<00:33, 18718.11it/s]\n",
      "\n",
      "  3%|██▍                                                                     | 21172/641773 [00:01<00:32, 19035.58it/s]\n",
      "\n",
      "  4%|██▌                                                                     | 23124/641773 [00:01<00:32, 19122.01it/s]\n",
      "\n",
      "  4%|██▊                                                                     | 25021/641773 [00:01<00:33, 18571.91it/s]\n",
      "\n",
      "  4%|███                                                                     | 26871/641773 [00:01<00:33, 18114.35it/s]\n",
      "\n",
      "  4%|███▏                                                                    | 28726/641773 [00:01<00:33, 18242.87it/s]\n",
      "\n",
      "  5%|███▍                                                                    | 30747/641773 [00:01<00:32, 18739.33it/s]\n",
      "\n",
      "  5%|███▋                                                                    | 32695/641773 [00:01<00:32, 18955.54it/s]\n",
      "\n",
      "  5%|███▉                                                                    | 34603/641773 [00:01<00:32, 18936.15it/s]\n",
      "\n",
      "  6%|████                                                                    | 36600/641773 [00:01<00:31, 19179.48it/s]\n",
      "\n",
      "  6%|████▎                                                                   | 38789/641773 [00:02<00:30, 19493.70it/s]\n",
      "\n",
      "  6%|████▌                                                                   | 40741/641773 [00:02<00:31, 19385.38it/s]\n",
      "\n",
      "  7%|████▊                                                                   | 42730/641773 [00:02<00:30, 19476.67it/s]\n",
      "\n",
      "  7%|█████                                                                   | 44691/641773 [00:02<00:30, 19458.39it/s]\n",
      "\n",
      "  7%|█████▏                                                                  | 46672/641773 [00:02<00:30, 19562.55it/s]\n",
      "\n",
      "  8%|█████▍                                                                  | 48738/641773 [00:02<00:29, 19822.12it/s]\n",
      "\n",
      "  8%|█████▋                                                                  | 50750/641773 [00:02<00:29, 19851.63it/s]\n",
      "\n",
      "  8%|█████▉                                                                  | 52737/641773 [00:02<00:29, 19797.78it/s]\n",
      "\n",
      "  9%|██████▏                                                                 | 54739/641773 [00:02<00:29, 19804.97it/s]\n",
      "\n",
      "  9%|██████▎                                                                 | 56721/641773 [00:02<00:30, 19459.40it/s]\n",
      "\n",
      "  9%|██████▌                                                                 | 58669/641773 [00:03<00:30, 19121.64it/s]\n",
      "\n",
      "  9%|██████▊                                                                 | 60584/641773 [00:03<00:31, 18737.06it/s]\n",
      "\n",
      " 10%|███████                                                                 | 62516/641773 [00:03<00:30, 18852.87it/s]\n",
      "\n",
      " 10%|███████▏                                                                | 64404/641773 [00:03<00:30, 18637.57it/s]\n",
      "\n",
      " 10%|███████▍                                                                | 66357/641773 [00:03<00:30, 18841.92it/s]\n",
      "\n",
      " 11%|███████▋                                                                | 68244/641773 [00:03<00:30, 18572.04it/s]\n",
      "\n",
      " 11%|███████▊                                                                | 70107/641773 [00:03<00:30, 18533.92it/s]\n",
      "\n",
      " 11%|████████                                                                | 71963/641773 [00:03<00:31, 18107.58it/s]\n",
      "\n",
      " 11%|████████▎                                                               | 73778/641773 [00:03<00:32, 17542.33it/s]\n",
      "\n",
      " 12%|████████▍                                                               | 75594/641773 [00:04<00:32, 17671.43it/s]\n",
      "\n",
      " 12%|████████▋                                                               | 77522/641773 [00:04<00:31, 18074.13it/s]\n",
      "\n",
      " 12%|████████▉                                                               | 79335/641773 [00:04<00:32, 17413.20it/s]\n",
      "\n",
      " 13%|█████████▏                                                              | 81432/641773 [00:04<00:31, 17831.93it/s]\n",
      "\n",
      " 13%|█████████▎                                                              | 83274/641773 [00:04<00:31, 18004.36it/s]\n",
      "\n",
      " 13%|█████████▌                                                              | 85194/641773 [00:04<00:30, 18294.67it/s]\n",
      "\n",
      " 14%|█████████▊                                                              | 87190/641773 [00:04<00:29, 18711.58it/s]\n",
      "\n",
      " 14%|█████████▉                                                              | 89068/641773 [00:04<00:29, 18565.38it/s]\n",
      "\n",
      " 14%|██████████▏                                                             | 91087/641773 [00:04<00:29, 18917.68it/s]\n",
      "\n",
      " 14%|██████████▍                                                             | 93044/641773 [00:04<00:28, 19052.96it/s]\n",
      "\n",
      " 15%|██████████▋                                                             | 94953/641773 [00:05<00:28, 19064.05it/s]\n",
      "\n",
      " 15%|██████████▊                                                             | 96862/641773 [00:05<00:29, 18303.81it/s]\n",
      "\n",
      " 15%|███████████                                                             | 98701/641773 [00:05<00:30, 17745.89it/s]\n",
      "\n",
      " 16%|███████████                                                            | 100486/641773 [00:05<00:30, 17671.40it/s]\n",
      "\n",
      " 16%|███████████▎                                                           | 102389/641773 [00:05<00:29, 18006.90it/s]\n",
      "\n",
      " 16%|███████████▌                                                           | 104292/641773 [00:05<00:29, 18249.44it/s]\n",
      "\n",
      " 17%|███████████▋                                                           | 106167/641773 [00:05<00:29, 18396.77it/s]\n",
      "\n",
      " 17%|███████████▉                                                           | 108011/641773 [00:05<00:29, 18138.09it/s]\n",
      "\n",
      " 17%|████████████▏                                                          | 109829/641773 [00:05<00:29, 17882.84it/s]\n",
      "\n",
      " 17%|████████████▎                                                          | 111621/641773 [00:06<00:30, 17323.14it/s]\n",
      "\n",
      " 18%|████████████▌                                                          | 113517/641773 [00:06<00:29, 17783.73it/s]\n",
      "\n",
      " 18%|████████████▊                                                          | 115396/641773 [00:06<00:29, 18022.10it/s]\n",
      "\n",
      " 18%|████████████▉                                                          | 117356/641773 [00:06<00:28, 18416.08it/s]\n",
      "\n",
      " 19%|█████████████▏                                                         | 119296/641773 [00:06<00:27, 18700.61it/s]\n",
      "\n",
      " 19%|█████████████▍                                                         | 121311/641773 [00:06<00:27, 19058.83it/s]\n",
      "\n",
      " 19%|█████████████▋                                                         | 123384/641773 [00:06<00:26, 19531.18it/s]\n",
      "\n",
      " 20%|█████████████▉                                                         | 125442/641773 [00:06<00:26, 19777.25it/s]\n",
      "\n",
      " 20%|██████████████                                                         | 127426/641773 [00:06<00:26, 19054.55it/s]\n",
      "\n",
      " 20%|██████████████▎                                                        | 129488/641773 [00:06<00:26, 19443.48it/s]\n",
      "\n",
      " 21%|██████████████▌                                                        | 131572/641773 [00:07<00:26, 19508.05it/s]\n",
      "\n",
      " 21%|██████████████▊                                                        | 133642/641773 [00:07<00:25, 19794.03it/s]\n",
      "\n",
      " 21%|███████████████                                                        | 135700/641773 [00:07<00:25, 20023.44it/s]\n",
      "\n",
      " 21%|███████████████▏                                                       | 137718/641773 [00:07<00:25, 20010.44it/s]\n",
      "\n",
      " 22%|███████████████▌                                                       | 140110/641773 [00:07<00:24, 20189.69it/s]\n",
      "\n",
      " 22%|███████████████▊                                                       | 142483/641773 [00:07<00:24, 20321.19it/s]\n",
      "\n",
      " 23%|████████████████                                                       | 144670/641773 [00:07<00:24, 20703.34it/s]\n",
      "\n",
      " 23%|████████████████▏                                                      | 146744/641773 [00:07<00:23, 20714.32it/s]\n",
      "\n",
      " 23%|████████████████▍                                                      | 148818/641773 [00:07<00:25, 19494.90it/s]\n",
      "\n",
      " 24%|████████████████▋                                                      | 151285/641773 [00:07<00:24, 20240.87it/s]\n",
      "\n",
      " 24%|████████████████▉                                                      | 153374/641773 [00:08<00:23, 20371.56it/s]\n",
      "\n",
      " 24%|█████████████████▏                                                     | 155425/641773 [00:08<00:24, 20171.97it/s]\n",
      "\n",
      " 25%|█████████████████▍                                                     | 157461/641773 [00:08<00:24, 20167.91it/s]\n",
      "\n",
      " 25%|█████████████████▋                                                     | 159485/641773 [00:08<00:24, 19891.85it/s]\n",
      "\n",
      " 25%|█████████████████▊                                                     | 161480/641773 [00:08<00:24, 19849.83it/s]\n",
      "\n",
      " 25%|██████████████████                                                     | 163469/641773 [00:08<00:24, 19743.57it/s]\n",
      "\n",
      " 26%|██████████████████▎                                                    | 165447/641773 [00:08<00:25, 18850.82it/s]\n",
      "\n",
      " 26%|██████████████████▌                                                    | 167512/641773 [00:08<00:24, 19356.76it/s]\n",
      "\n",
      " 26%|██████████████████▋                                                    | 169469/641773 [00:08<00:24, 19362.61it/s]\n",
      "\n",
      " 27%|██████████████████▉                                                    | 171476/641773 [00:09<00:24, 19399.29it/s]\n",
      "\n",
      " 27%|███████████████████▏                                                   | 173545/641773 [00:09<00:23, 19656.58it/s]\n",
      "\n",
      " 27%|███████████████████▍                                                   | 175516/641773 [00:09<00:23, 19613.85it/s]\n",
      "\n",
      " 28%|███████████████████▋                                                   | 177531/641773 [00:09<00:23, 19771.67it/s]\n",
      "\n",
      " 28%|███████████████████▊                                                   | 179511/641773 [00:09<00:23, 19721.05it/s]\n",
      "\n",
      " 28%|████████████████████                                                   | 181485/641773 [00:09<00:23, 19667.78it/s]\n",
      "\n",
      " 29%|████████████████████▎                                                  | 183505/641773 [00:09<00:23, 19824.47it/s]\n",
      "\n",
      " 29%|████████████████████▌                                                  | 185489/641773 [00:09<00:24, 18975.69it/s]\n",
      "\n",
      " 29%|████████████████████▋                                                  | 187450/641773 [00:09<00:23, 19105.63it/s]\n",
      "\n",
      " 30%|████████████████████▉                                                  | 189419/641773 [00:09<00:23, 19277.26it/s]\n",
      "\n",
      " 30%|█████████████████████▏                                                 | 191660/641773 [00:10<00:23, 19491.08it/s]\n",
      "\n",
      " 30%|█████████████████████▍                                                 | 193693/641773 [00:10<00:22, 19621.11it/s]\n",
      "\n",
      " 31%|█████████████████████▋                                                 | 196001/641773 [00:10<00:22, 19753.53it/s]\n",
      "\n",
      " 31%|█████████████████████▉                                                 | 198015/641773 [00:10<00:22, 19751.00it/s]\n",
      "\n",
      " 31%|██████████████████████▏                                                | 200279/641773 [00:10<00:22, 19783.48it/s]\n",
      "\n",
      " 32%|██████████████████████▍                                                | 202317/641773 [00:10<00:22, 19842.14it/s]\n",
      "\n",
      " 32%|██████████████████████▋                                                | 204668/641773 [00:10<00:21, 20018.80it/s]\n",
      "\n",
      " 32%|██████████████████████▊                                                | 206671/641773 [00:11<00:36, 11976.86it/s]\n",
      "\n",
      " 32%|███████████████████████                                                | 208525/641773 [00:11<00:33, 13032.57it/s]\n",
      "\n",
      " 33%|███████████████████████▎                                               | 210472/641773 [00:11<00:29, 14467.61it/s]\n",
      "\n",
      " 33%|███████████████████████▌                                               | 212472/641773 [00:11<00:27, 15739.62it/s]\n",
      "\n",
      " 33%|███████████████████████▋                                               | 214442/641773 [00:11<00:25, 16749.80it/s]\n",
      "\n",
      " 34%|███████████████████████▉                                               | 216430/641773 [00:11<00:24, 17533.72it/s]\n",
      "\n",
      " 34%|████████████████████████▏                                              | 218446/641773 [00:11<00:23, 18246.83it/s]\n",
      "\n",
      " 34%|████████████████████████▍                                              | 220420/641773 [00:11<00:22, 18617.68it/s]\n",
      "\n",
      " 35%|████████████████████████▌                                              | 222449/641773 [00:11<00:22, 19035.98it/s]\n",
      "\n",
      " 35%|████████████████████████▊                                              | 224404/641773 [00:11<00:21, 19187.31it/s]\n",
      "\n",
      " 35%|█████████████████████████                                              | 226713/641773 [00:12<00:21, 19644.73it/s]\n",
      "\n",
      " 36%|█████████████████████████▎                                             | 228706/641773 [00:12<00:21, 19555.21it/s]\n",
      "\n",
      " 36%|█████████████████████████▌                                             | 230682/641773 [00:12<00:21, 19442.50it/s]\n",
      "\n",
      " 36%|█████████████████████████▋                                             | 232653/641773 [00:12<00:21, 19464.14it/s]\n",
      "\n",
      " 37%|█████████████████████████▉                                             | 234610/641773 [00:12<00:21, 18606.08it/s]\n",
      "\n",
      " 37%|██████████████████████████▏                                            | 236586/641773 [00:12<00:21, 18883.55it/s]\n",
      "\n",
      " 37%|██████████████████████████▍                                            | 238487/641773 [00:12<00:21, 18864.99it/s]\n",
      "\n",
      " 37%|██████████████████████████▌                                            | 240422/641773 [00:12<00:21, 19007.91it/s]\n",
      "\n",
      " 38%|██████████████████████████▊                                            | 242400/641773 [00:12<00:20, 19177.20it/s]\n",
      "\n",
      " 38%|███████████████████████████                                            | 244453/641773 [00:12<00:20, 19073.19it/s]\n",
      "\n",
      " 38%|███████████████████████████▎                                           | 246619/641773 [00:13<00:20, 18951.17it/s]\n",
      "\n",
      " 39%|███████████████████████████▍                                           | 248527/641773 [00:13<00:20, 18933.10it/s]\n",
      "\n",
      " 39%|███████████████████████████▊                                           | 250908/641773 [00:13<00:20, 19431.81it/s]\n",
      "\n",
      " 39%|███████████████████████████▉                                           | 252856/641773 [00:13<00:20, 19330.46it/s]\n",
      "\n",
      " 40%|████████████████████████████▏                                          | 255058/641773 [00:13<00:19, 19377.08it/s]\n",
      "\n",
      " 40%|████████████████████████████▍                                          | 257009/641773 [00:13<00:19, 19358.96it/s]\n",
      "\n",
      " 40%|████████████████████████████▋                                          | 258963/641773 [00:13<00:19, 19297.89it/s]\n",
      "\n",
      " 41%|████████████████████████████▉                                          | 261376/641773 [00:13<00:19, 19774.20it/s]\n",
      "\n",
      " 41%|█████████████████████████████▏                                         | 263358/641773 [00:13<00:20, 18883.00it/s]\n",
      "\n",
      " 41%|█████████████████████████████▎                                         | 265258/641773 [00:14<00:19, 18861.60it/s]\n",
      "\n"
     ]
    },
    {
     "name": "stderr",
     "output_type": "stream",
     "text": [
      " 42%|█████████████████████████████▌                                         | 267275/641773 [00:14<00:19, 19181.08it/s]\n",
      "\n",
      " 42%|█████████████████████████████▊                                         | 269520/641773 [00:14<00:19, 19331.83it/s]\n",
      "\n",
      " 42%|██████████████████████████████                                         | 271459/641773 [00:14<00:19, 19291.49it/s]\n",
      "\n",
      " 43%|██████████████████████████████▎                                        | 273729/641773 [00:14<00:18, 19423.63it/s]\n",
      "\n",
      " 43%|██████████████████████████████▌                                        | 275701/641773 [00:14<00:18, 19453.87it/s]\n",
      "\n",
      " 43%|██████████████████████████████▋                                        | 277649/641773 [00:14<00:18, 19461.69it/s]\n",
      "\n",
      " 44%|██████████████████████████████▉                                        | 279947/641773 [00:14<00:18, 19565.00it/s]\n",
      "\n",
      " 44%|███████████████████████████████▏                                       | 282060/641773 [00:14<00:18, 19952.91it/s]\n",
      "\n",
      " 44%|███████████████████████████████▍                                       | 284304/641773 [00:15<00:18, 19818.88it/s]\n",
      "\n",
      " 45%|███████████████████████████████▋                                       | 286288/641773 [00:15<00:18, 19707.06it/s]\n",
      "\n",
      " 45%|███████████████████████████████▉                                       | 288261/641773 [00:15<00:18, 19538.24it/s]\n",
      "\n",
      " 45%|████████████████████████████████                                       | 290326/641773 [00:15<00:17, 19801.86it/s]\n",
      "\n",
      " 46%|████████████████████████████████▎                                      | 292373/641773 [00:15<00:17, 19939.25it/s]\n",
      "\n",
      " 46%|████████████████████████████████▌                                      | 294369/641773 [00:15<00:18, 18350.16it/s]\n",
      "\n",
      " 46%|████████████████████████████████▊                                      | 296343/641773 [00:15<00:18, 18692.87it/s]\n",
      "\n",
      " 46%|█████████████████████████████████                                      | 298318/641773 [00:15<00:18, 18997.93it/s]\n",
      "\n",
      " 47%|█████████████████████████████████▏                                     | 300379/641773 [00:15<00:17, 19399.51it/s]\n",
      "\n",
      " 47%|█████████████████████████████████▍                                     | 302525/641773 [00:15<00:17, 19379.60it/s]\n",
      "\n",
      " 47%|█████████████████████████████████▋                                     | 304553/641773 [00:16<00:17, 19471.49it/s]\n",
      "\n",
      " 48%|█████████████████████████████████▉                                     | 306532/641773 [00:16<00:17, 19565.96it/s]\n",
      "\n",
      " 48%|██████████████████████████████████▏                                    | 308508/641773 [00:16<00:17, 19565.47it/s]\n",
      "\n",
      " 48%|██████████████████████████████████▎                                    | 310607/641773 [00:16<00:16, 19915.27it/s]\n",
      "\n",
      " 49%|██████████████████████████████████▌                                    | 312603/641773 [00:16<00:16, 19869.15it/s]\n",
      "\n",
      " 49%|██████████████████████████████████▊                                    | 314593/641773 [00:16<00:16, 19819.00it/s]\n",
      "\n",
      " 49%|███████████████████████████████████                                    | 316577/641773 [00:16<00:16, 19590.39it/s]\n",
      "\n",
      " 50%|███████████████████████████████████▏                                   | 318546/641773 [00:16<00:16, 19620.16it/s]\n",
      "\n",
      " 50%|███████████████████████████████████▍                                   | 320510/641773 [00:16<00:16, 19451.18it/s]\n",
      "\n",
      " 50%|███████████████████████████████████▋                                   | 322581/641773 [00:17<00:16, 19532.17it/s]\n",
      " 34%|████████████████████████▍                                               | 217714/641773 [00:30<00:58, 7243.61it/s]\n",
      "\n",
      " 51%|███████████████████████████████████▉                                   | 324536/641773 [00:17<00:16, 18804.61it/s]\n",
      "\n",
      " 51%|████████████████████████████████████▏                                  | 326616/641773 [00:17<00:16, 19042.77it/s]\n",
      "\n",
      " 51%|████████████████████████████████████▍                                  | 328816/641773 [00:17<00:16, 19118.69it/s]\n",
      "\n",
      " 52%|████████████████████████████████████▌                                  | 330732/641773 [00:17<00:17, 18100.88it/s]\n",
      "\n",
      " 52%|████████████████████████████████████▊                                  | 332719/641773 [00:17<00:17, 17845.98it/s]\n",
      "\n",
      " 52%|█████████████████████████████████████                                  | 334634/641773 [00:17<00:16, 18218.14it/s]\n",
      "\n",
      " 52%|█████████████████████████████████████▎                                 | 336711/641773 [00:17<00:16, 18812.54it/s]\n",
      "\n",
      " 53%|█████████████████████████████████████▌                                 | 339065/641773 [00:17<00:15, 19328.28it/s]\n",
      "\n",
      " 53%|█████████████████████████████████████▋                                 | 341010/641773 [00:17<00:15, 19364.63it/s]\n",
      "\n",
      " 53%|█████████████████████████████████████▉                                 | 342955/641773 [00:18<00:15, 19217.74it/s]\n",
      "\n",
      " 54%|██████████████████████████████████████▏                                | 344927/641773 [00:18<00:15, 19308.82it/s]\n",
      "\n",
      " 54%|██████████████████████████████████████▍                                | 347008/641773 [00:18<00:14, 19679.95it/s]\n",
      "\n",
      " 54%|██████████████████████████████████████▌                                | 349027/641773 [00:18<00:14, 19830.23it/s]\n",
      "\n",
      " 55%|██████████████████████████████████████▊                                | 351014/641773 [00:18<00:14, 19665.41it/s]\n",
      "\n",
      " 55%|███████████████████████████████████████                                | 352984/641773 [00:18<00:14, 19500.49it/s]\n",
      "\n",
      " 55%|███████████████████████████████████████▎                               | 354937/641773 [00:18<00:14, 19509.32it/s]\n",
      "\n",
      " 56%|███████████████████████████████████████▍                               | 356935/641773 [00:18<00:14, 19590.38it/s]\n",
      "\n",
      " 56%|███████████████████████████████████████▋                               | 358896/641773 [00:18<00:14, 19537.70it/s]\n",
      "\n",
      " 56%|███████████████████████████████████████▉                               | 360851/641773 [00:19<00:14, 19482.96it/s]\n",
      "\n",
      " 57%|████████████████████████████████████████▏                              | 362872/641773 [00:19<00:14, 19524.28it/s]\n",
      "\n",
      " 57%|████████████████████████████████████████▎                              | 364825/641773 [00:19<00:14, 19409.56it/s]\n",
      "\n",
      " 57%|████████████████████████████████████████▌                              | 366833/641773 [00:19<00:14, 19605.94it/s]\n",
      "\n",
      " 57%|████████████████████████████████████████▊                              | 368795/641773 [00:19<00:14, 19493.25it/s]\n",
      "\n",
      " 58%|█████████████████████████████████████████                              | 370746/641773 [00:19<00:15, 17457.03it/s]\n",
      "\n",
      " 58%|█████████████████████████████████████████▏                             | 372689/641773 [00:19<00:14, 17955.61it/s]\n",
      "\n",
      " 58%|█████████████████████████████████████████▍                             | 374605/641773 [00:19<00:14, 18248.44it/s]\n",
      "\n",
      " 59%|█████████████████████████████████████████▋                             | 376480/641773 [00:19<00:14, 18396.06it/s]\n",
      "\n",
      " 59%|█████████████████████████████████████████▊                             | 378434/641773 [00:19<00:14, 18671.26it/s]\n",
      "\n",
      " 59%|██████████████████████████████████████████                             | 380368/641773 [00:20<00:13, 18866.97it/s]\n",
      "\n",
      " 60%|██████████████████████████████████████████▎                            | 382488/641773 [00:20<00:13, 19245.43it/s]\n",
      "\n",
      " 60%|██████████████████████████████████████████▌                            | 384811/641773 [00:20<00:13, 19473.10it/s]\n",
      "\n",
      " 60%|██████████████████████████████████████████▊                            | 386819/641773 [00:20<00:13, 19593.75it/s]\n",
      "\n",
      " 61%|███████████████████████████████████████████                            | 389291/641773 [00:20<00:12, 20128.02it/s]\n",
      "\n",
      " 61%|███████████████████████████████████████████▎                           | 391311/641773 [00:20<00:12, 19911.23it/s]\n",
      "\n",
      " 61%|███████████████████████████████████████████▌                           | 393452/641773 [00:20<00:12, 19611.77it/s]\n",
      "\n",
      " 62%|███████████████████████████████████████████▋                           | 395418/641773 [00:20<00:12, 19567.62it/s]\n",
      "\n",
      " 62%|███████████████████████████████████████████▉                           | 397379/641773 [00:20<00:12, 19521.84it/s]\n",
      "\n",
      " 62%|████████████████████████████████████████████▏                          | 399601/641773 [00:21<00:12, 19461.37it/s]\n",
      "\n",
      " 63%|████████████████████████████████████████████▍                          | 401588/641773 [00:21<00:12, 19524.46it/s]\n",
      "\n",
      " 63%|████████████████████████████████████████████▋                          | 403737/641773 [00:21<00:12, 19213.76it/s]\n",
      "\n",
      " 63%|████████████████████████████████████████████▉                          | 405679/641773 [00:21<00:12, 19217.94it/s]\n",
      "\n",
      " 64%|█████████████████████████████████████████████                          | 407603/641773 [00:21<00:12, 19109.99it/s]\n",
      "\n",
      " 64%|█████████████████████████████████████████████▎                         | 409841/641773 [00:21<00:11, 19363.53it/s]\n",
      "\n",
      " 64%|█████████████████████████████████████████████▌                         | 411779/641773 [00:21<00:11, 19310.58it/s]\n",
      "\n",
      " 64%|█████████████████████████████████████████████▊                         | 413808/641773 [00:21<00:11, 19594.33it/s]\n",
      "\n",
      " 65%|█████████████████████████████████████████████▉                         | 415770/641773 [00:21<00:11, 19485.22it/s]\n",
      "\n",
      " 65%|██████████████████████████████████████████████▏                        | 417720/641773 [00:21<00:12, 17686.57it/s]\n",
      "\n",
      " 65%|██████████████████████████████████████████████▍                        | 419847/641773 [00:22<00:12, 17921.77it/s]\n",
      "\n",
      " 66%|██████████████████████████████████████████████▋                        | 421833/641773 [00:22<00:11, 18410.98it/s]\n",
      "\n",
      " 66%|██████████████████████████████████████████████▉                        | 423804/641773 [00:22<00:11, 18782.33it/s]\n",
      "\n",
      " 66%|███████████████████████████████████████████████                        | 425779/641773 [00:22<00:11, 19007.50it/s]\n",
      "\n",
      " 67%|███████████████████████████████████████████████▎                       | 427743/641773 [00:22<00:11, 19192.92it/s]\n",
      "\n",
      " 67%|███████████████████████████████████████████████▌                       | 429752/641773 [00:22<00:10, 19397.18it/s]\n",
      "\n",
      " 67%|███████████████████████████████████████████████▊                       | 431699/641773 [00:22<00:10, 19246.20it/s]\n",
      "\n",
      " 68%|███████████████████████████████████████████████▉                       | 433696/641773 [00:22<00:10, 19401.06it/s]\n",
      "\n",
      " 68%|████████████████████████████████████████████████▏                      | 435816/641773 [00:22<00:10, 19851.93it/s]\n",
      "\n",
      " 68%|████████████████████████████████████████████████▍                      | 437807/641773 [00:23<00:10, 19751.05it/s]\n",
      "\n",
      " 69%|████████████████████████████████████████████████▋                      | 439953/641773 [00:23<00:10, 19896.77it/s]\n",
      "\n",
      " 69%|████████████████████████████████████████████████▉                      | 441946/641773 [00:23<00:10, 19729.36it/s]\n",
      "\n",
      " 69%|█████████████████████████████████████████████████                      | 443988/641773 [00:23<00:09, 19873.41it/s]\n",
      "\n",
      " 69%|█████████████████████████████████████████████████▎                     | 445978/641773 [00:23<00:09, 19821.97it/s]\n",
      "\n",
      " 70%|█████████████████████████████████████████████████▌                     | 447962/641773 [00:23<00:09, 19827.36it/s]\n",
      "\n",
      " 70%|█████████████████████████████████████████████████▊                     | 449946/641773 [00:23<00:09, 19771.87it/s]\n",
      "\n",
      " 70%|█████████████████████████████████████████████████▉                     | 451924/641773 [00:23<00:09, 19656.41it/s]\n",
      "\n",
      " 71%|██████████████████████████████████████████████████▏                    | 453909/641773 [00:23<00:09, 19714.08it/s]\n",
      "\n",
      " 71%|██████████████████████████████████████████████████▍                    | 455881/641773 [00:23<00:09, 19540.04it/s]\n",
      "\n",
      " 71%|██████████████████████████████████████████████████▋                    | 457909/641773 [00:24<00:09, 19471.76it/s]\n",
      "\n",
      " 72%|██████████████████████████████████████████████████▉                    | 459932/641773 [00:24<00:09, 19298.68it/s]\n",
      "\n",
      " 72%|███████████████████████████████████████████████████▏                   | 462167/641773 [00:24<00:09, 19491.10it/s]\n",
      "\n",
      " 72%|███████████████████████████████████████████████████▍                   | 464670/641773 [00:24<00:08, 20170.47it/s]\n",
      "\n",
      " 73%|███████████████████████████████████████████████████▋                   | 466694/641773 [00:24<00:08, 20131.02it/s]\n",
      "\n",
      " 73%|███████████████████████████████████████████████████▊                   | 468712/641773 [00:24<00:08, 20085.53it/s]\n",
      "\n",
      " 73%|████████████████████████████████████████████████████                   | 470724/641773 [00:24<00:09, 18387.85it/s]\n",
      "\n",
      " 74%|████████████████████████████████████████████████████▎                  | 472594/641773 [00:24<00:09, 17794.55it/s]\n",
      "\n",
      " 74%|████████████████████████████████████████████████████▌                  | 474680/641773 [00:24<00:09, 18369.33it/s]\n",
      "\n",
      " 74%|████████████████████████████████████████████████████▋                  | 476755/641773 [00:25<00:08, 18971.96it/s]\n",
      "\n",
      " 75%|████████████████████████████████████████████████████▉                  | 478705/641773 [00:25<00:08, 19127.33it/s]\n",
      "\n",
      " 75%|█████████████████████████████████████████████████████▏                 | 480686/641773 [00:25<00:08, 19270.75it/s]\n",
      "\n",
      " 75%|█████████████████████████████████████████████████████▍                 | 482647/641773 [00:25<00:08, 19371.28it/s]\n",
      "\n",
      " 76%|█████████████████████████████████████████████████████▌                 | 484627/641773 [00:25<00:08, 19440.50it/s]\n",
      "\n",
      " 76%|█████████████████████████████████████████████████████▊                 | 486633/641773 [00:25<00:07, 19564.89it/s]\n",
      "\n",
      " 76%|██████████████████████████████████████████████████████                 | 488663/641773 [00:25<00:07, 19779.76it/s]\n",
      "\n",
      " 76%|██████████████████████████████████████████████████████▎                | 490672/641773 [00:25<00:07, 19813.04it/s]\n",
      "\n",
      " 77%|██████████████████████████████████████████████████████▌                | 492656/641773 [00:25<00:07, 19703.01it/s]\n",
      "\n",
      " 77%|██████████████████████████████████████████████████████▋                | 494629/641773 [00:25<00:07, 19535.44it/s]\n",
      "\n",
      " 77%|██████████████████████████████████████████████████████▉                | 496595/641773 [00:26<00:07, 19514.37it/s]\n",
      "\n",
      " 78%|███████████████████████████████████████████████████████▏               | 498576/641773 [00:26<00:07, 19602.12it/s]\n",
      "\n",
      " 78%|███████████████████████████████████████████████████████▍               | 500538/641773 [00:26<00:07, 19548.88it/s]\n",
      "\n",
      " 78%|███████████████████████████████████████████████████████▌               | 502494/641773 [00:26<00:07, 18498.23it/s]\n",
      "\n",
      " 79%|███████████████████████████████████████████████████████▊               | 504394/641773 [00:26<00:07, 18591.23it/s]\n",
      "\n",
      " 79%|████████████████████████████████████████████████████████               | 506454/641773 [00:26<00:07, 19151.48it/s]\n",
      "\n",
      " 79%|████████████████████████████████████████████████████████▎              | 508564/641773 [00:26<00:06, 19642.17it/s]\n",
      "\n",
      " 80%|████████████████████████████████████████████████████████▍              | 510539/641773 [00:26<00:06, 19674.39it/s]\n",
      "\n",
      " 80%|████████████████████████████████████████████████████████▋              | 512528/641773 [00:26<00:06, 19679.98it/s]\n",
      "\n",
      " 80%|████████████████████████████████████████████████████████▉              | 514502/641773 [00:26<00:06, 19580.72it/s]\n",
      "\n",
      " 81%|█████████████████████████████████████████████████████████▏             | 516770/641773 [00:27<00:06, 19673.88it/s]\n",
      "\n",
      " 81%|█████████████████████████████████████████████████████████▍             | 518779/641773 [00:27<00:06, 19738.54it/s]\n",
      "\n",
      " 81%|█████████████████████████████████████████████████████████▌             | 520793/641773 [00:27<00:06, 19798.72it/s]\n",
      "\n",
      " 82%|█████████████████████████████████████████████████████████▊             | 523046/641773 [00:27<00:06, 19736.04it/s]\n",
      "\n",
      " 82%|██████████████████████████████████████████████████████████             | 525021/641773 [00:27<00:05, 19681.22it/s]\n",
      "\n",
      " 82%|██████████████████████████████████████████████████████████▎            | 527340/641773 [00:27<00:05, 19823.96it/s]\n",
      "\n",
      " 83%|██████████████████████████████████████████████████████████▌            | 529571/641773 [00:27<00:05, 20397.08it/s]\n",
      "\n",
      " 83%|██████████████████████████████████████████████████████████▊            | 531616/641773 [00:27<00:05, 18678.93it/s]\n",
      "\n",
      " 83%|███████████████████████████████████████████████████████████            | 533516/641773 [00:27<00:05, 18663.46it/s]\n",
      "\n",
      " 83%|███████████████████████████████████████████████████████████▏           | 535451/641773 [00:28<00:05, 18864.24it/s]\n",
      "\n"
     ]
    },
    {
     "name": "stderr",
     "output_type": "stream",
     "text": [
      " 84%|███████████████████████████████████████████████████████████▍           | 537772/641773 [00:28<00:05, 19241.32it/s]\n",
      "\n",
      " 84%|███████████████████████████████████████████████████████████▋           | 539747/641773 [00:28<00:05, 19277.59it/s]\n",
      "\n",
      " 84%|███████████████████████████████████████████████████████████▉           | 541684/641773 [00:28<00:05, 19305.21it/s]\n",
      "\n",
      " 85%|████████████████████████████████████████████████████████████▏          | 543880/641773 [00:28<00:05, 19292.57it/s]\n",
      "\n",
      " 85%|████████████████████████████████████████████████████████████▍          | 545876/641773 [00:28<00:04, 19374.57it/s]\n",
      "\n",
      " 85%|████████████████████████████████████████████████████████████▋          | 548161/641773 [00:28<00:04, 19520.46it/s]\n",
      "\n",
      " 86%|████████████████████████████████████████████████████████████▊          | 550238/641773 [00:28<00:04, 19006.08it/s]\n",
      "\n",
      " 86%|█████████████████████████████████████████████████████████████          | 552215/641773 [00:28<00:04, 19173.05it/s]\n",
      "\n",
      " 86%|█████████████████████████████████████████████████████████████▎         | 554163/641773 [00:29<00:04, 19264.11it/s]\n",
      "\n",
      " 87%|█████████████████████████████████████████████████████████████▌         | 556115/641773 [00:29<00:04, 19225.87it/s]\n",
      "\n",
      " 87%|█████████████████████████████████████████████████████████████▋         | 558132/641773 [00:29<00:04, 19443.30it/s]\n",
      "\n",
      " 87%|█████████████████████████████████████████████████████████████▉         | 560101/641773 [00:29<00:04, 19458.81it/s]\n",
      "\n",
      " 88%|██████████████████████████████████████████████████████████████▏        | 562053/641773 [00:29<00:04, 19477.12it/s]\n",
      "\n",
      " 88%|██████████████████████████████████████████████████████████████▍        | 564002/641773 [00:29<00:04, 19364.84it/s]\n",
      "\n",
      " 88%|██████████████████████████████████████████████████████████████▌        | 566060/641773 [00:29<00:03, 19657.57it/s]\n",
      "\n",
      " 89%|██████████████████████████████████████████████████████████████▊        | 568070/641773 [00:29<00:03, 19788.23it/s]\n",
      "\n",
      " 89%|███████████████████████████████████████████████████████████████        | 570117/641773 [00:29<00:03, 19929.56it/s]\n",
      "\n",
      " 89%|███████████████████████████████████████████████████████████████▎       | 572152/641773 [00:29<00:03, 19994.76it/s]\n",
      "\n",
      " 89%|███████████████████████████████████████████████████████████████▌       | 574220/641773 [00:30<00:03, 19733.01it/s]\n",
      "\n",
      " 90%|███████████████████████████████████████████████████████████████▊       | 576246/641773 [00:30<00:03, 19829.81it/s]\n",
      "\n",
      " 90%|███████████████████████████████████████████████████████████████▉       | 578231/641773 [00:30<00:03, 19428.17it/s]\n",
      "\n",
      " 90%|████████████████████████████████████████████████████████████████▏      | 580177/641773 [00:30<00:03, 19264.51it/s]\n",
      "\n",
      " 91%|████████████████████████████████████████████████████████████████▍      | 582106/641773 [00:30<00:03, 19214.57it/s]\n",
      "\n",
      " 91%|████████████████████████████████████████████████████████████████▌      | 584066/641773 [00:30<00:02, 19328.59it/s]\n",
      "\n",
      " 91%|████████████████████████████████████████████████████████████████▊      | 586044/641773 [00:30<00:02, 19404.57it/s]\n",
      "\n",
      " 92%|█████████████████████████████████████████████████████████████████      | 587988/641773 [00:30<00:02, 19415.18it/s]\n",
      "\n",
      " 92%|█████████████████████████████████████████████████████████████████▎     | 590015/641773 [00:30<00:02, 19606.90it/s]\n",
      "\n",
      " 92%|█████████████████████████████████████████████████████████████████▍     | 592022/641773 [00:30<00:02, 19743.56it/s]\n",
      "\n",
      " 93%|█████████████████████████████████████████████████████████████████▋     | 594079/641773 [00:31<00:02, 19811.22it/s]\n",
      "\n",
      " 93%|█████████████████████████████████████████████████████████████████▉     | 596259/641773 [00:31<00:02, 19976.70it/s]\n",
      "\n",
      " 93%|██████████████████████████████████████████████████████████████████▏    | 598258/641773 [00:31<00:02, 17840.80it/s]\n",
      "\n",
      " 94%|██████████████████████████████████████████████████████████████████▍    | 600262/641773 [00:31<00:02, 18296.56it/s]\n",
      "\n",
      " 94%|██████████████████████████████████████████████████████████████████▋    | 602247/641773 [00:31<00:02, 18683.55it/s]\n",
      "\n",
      " 94%|██████████████████████████████████████████████████████████████████▊    | 604189/641773 [00:31<00:01, 18843.53it/s]\n",
      "\n",
      " 94%|███████████████████████████████████████████████████████████████████    | 606093/641773 [00:31<00:01, 18845.92it/s]\n",
      "\n",
      " 95%|███████████████████████████████████████████████████████████████████▎   | 608256/641773 [00:31<00:01, 18983.51it/s]\n",
      "\n",
      " 95%|███████████████████████████████████████████████████████████████████▌   | 610306/641773 [00:31<00:01, 19304.67it/s]\n",
      "\n",
      " 95%|███████████████████████████████████████████████████████████████████▋   | 612275/641773 [00:32<00:01, 19361.40it/s]\n",
      "\n",
      " 96%|███████████████████████████████████████████████████████████████████▉   | 614520/641773 [00:32<00:01, 19409.22it/s]\n",
      "\n",
      " 96%|████████████████████████████████████████████████████████████████████▏  | 616465/641773 [00:32<00:01, 19421.43it/s]\n",
      "\n",
      " 96%|████████████████████████████████████████████████████████████████████▍  | 618466/641773 [00:32<00:01, 19536.94it/s]\n",
      "\n",
      " 97%|████████████████████████████████████████████████████████████████████▋  | 620438/641773 [00:32<00:01, 19533.29it/s]\n",
      "\n",
      " 97%|████████████████████████████████████████████████████████████████████▊  | 622393/641773 [00:32<00:00, 19538.29it/s]\n",
      "\n",
      " 97%|█████████████████████████████████████████████████████████████████████  | 624382/641773 [00:32<00:00, 19584.48it/s]\n",
      "\n",
      " 98%|█████████████████████████████████████████████████████████████████████▎ | 626351/641773 [00:32<00:00, 19616.01it/s]\n",
      "\n",
      " 98%|█████████████████████████████████████████████████████████████████████▌ | 628314/641773 [00:32<00:00, 19503.24it/s]\n",
      "\n",
      " 98%|█████████████████████████████████████████████████████████████████████▋ | 630265/641773 [00:32<00:00, 19331.33it/s]\n",
      "\n",
      " 99%|█████████████████████████████████████████████████████████████████████▉ | 632437/641773 [00:33<00:00, 19558.84it/s]\n",
      "\n",
      " 99%|██████████████████████████████████████████████████████████████████████▏| 634395/641773 [00:33<00:00, 19390.80it/s]\n",
      "\n",
      " 99%|██████████████████████████████████████████████████████████████████████▍| 636492/641773 [00:33<00:00, 19839.00it/s]\n",
      "\n",
      " 99%|██████████████████████████████████████████████████████████████████████▋| 638480/641773 [00:33<00:00, 19674.47it/s]\n",
      "\n",
      "100%|██████████████████████████████████████████████████████████████████████▊| 640451/641773 [00:33<00:00, 19626.31it/s]\n",
      "\n",
      "100%|███████████████████████████████████████████████████████████████████████| 641773/641773 [00:33<00:00, 19143.69it/s]\n",
      "\n",
      "  0%|                                                                                         | 0/6370 [00:00<?, ?it/s]\n",
      "\n",
      "  0%|▎                                                                              | 29/6370 [00:00<00:22, 287.13it/s]\n",
      "\n",
      "  1%|▋                                                                              | 60/6370 [00:00<00:21, 292.80it/s]\n",
      "\n",
      "  1%|█▏                                                                             | 91/6370 [00:00<00:21, 295.20it/s]\n",
      "\n",
      "  2%|█▌                                                                            | 124/6370 [00:00<00:20, 298.23it/s]\n",
      "\n",
      "  2%|█▉                                                                            | 154/6370 [00:00<00:20, 298.76it/s]\n",
      "\n",
      "  3%|██▏                                                                           | 183/6370 [00:00<00:21, 293.38it/s]\n",
      "\n",
      "  3%|██▋                                                                           | 215/6370 [00:00<00:20, 298.37it/s]\n",
      "\n",
      "  4%|██▉                                                                           | 243/6370 [00:00<00:21, 284.58it/s]\n",
      "\n",
      "  4%|███▎                                                                          | 274/6370 [00:00<00:20, 291.76it/s]\n",
      "\n",
      "  5%|███▋                                                                          | 305/6370 [00:01<00:20, 295.30it/s]\n",
      "\n",
      "  5%|████                                                                          | 336/6370 [00:01<00:20, 296.98it/s]\n",
      "\n",
      "  6%|████▍                                                                         | 366/6370 [00:01<00:20, 296.12it/s]\n",
      "\n",
      "  6%|████▊                                                                         | 396/6370 [00:01<00:20, 296.39it/s]\n",
      "\n",
      "  7%|█████▎                                                                        | 431/6370 [00:01<00:19, 301.05it/s]\n",
      "\n",
      "  7%|█████▋                                                                        | 464/6370 [00:01<00:19, 296.68it/s]\n",
      "\n",
      "  8%|██████                                                                        | 494/6370 [00:01<00:19, 295.03it/s]\n",
      "\n",
      "  8%|██████▍                                                                       | 524/6370 [00:01<00:19, 293.89it/s]\n",
      "\n",
      "  9%|██████▊                                                                       | 559/6370 [00:01<00:19, 300.01it/s]\n",
      "\n",
      "  9%|███████▏                                                                      | 591/6370 [00:01<00:18, 304.86it/s]\n",
      "\n",
      " 10%|███████▋                                                                      | 625/6370 [00:02<00:18, 302.85it/s]\n",
      "\n",
      " 10%|████████                                                                      | 656/6370 [00:02<00:18, 303.17it/s]\n",
      "\n",
      " 11%|████████▍                                                                     | 687/6370 [00:02<00:18, 303.39it/s]\n",
      "\n",
      " 11%|████████▊                                                                     | 722/6370 [00:02<00:18, 305.27it/s]\n",
      "\n",
      " 12%|█████████▏                                                                    | 753/6370 [00:02<00:18, 304.86it/s]\n",
      "\n",
      " 12%|█████████▌                                                                    | 784/6370 [00:02<00:18, 299.29it/s]\n",
      "\n",
      " 13%|█████████▉                                                                    | 815/6370 [00:02<00:18, 301.54it/s]\n",
      "\n",
      " 13%|██████████▎                                                                   | 846/6370 [00:02<00:18, 293.66it/s]\n",
      "\n",
      " 14%|██████████▋                                                                   | 877/6370 [00:02<00:18, 295.82it/s]\n",
      "\n",
      " 14%|███████████                                                                   | 907/6370 [00:03<00:18, 296.18it/s]\n",
      "\n",
      " 15%|███████████▍                                                                  | 938/6370 [00:03<00:18, 297.60it/s]\n",
      "\n",
      " 15%|███████████▊                                                                  | 968/6370 [00:03<00:18, 296.55it/s]\n",
      "\n",
      " 16%|████████████▏                                                                | 1004/6370 [00:03<00:17, 300.56it/s]\n",
      "\n",
      " 16%|████████████▌                                                                | 1036/6370 [00:03<00:17, 302.66it/s]\n",
      "\n",
      " 17%|████████████▉                                                                | 1067/6370 [00:03<00:18, 293.57it/s]\n",
      "\n",
      " 17%|█████████████▎                                                               | 1097/6370 [00:03<00:18, 291.17it/s]\n",
      "\n",
      " 18%|█████████████▌                                                               | 1127/6370 [00:03<00:18, 287.02it/s]\n",
      "\n",
      " 18%|█████████████▉                                                               | 1158/6370 [00:03<00:17, 292.71it/s]\n",
      "\n",
      " 19%|██████████████▎                                                              | 1189/6370 [00:03<00:17, 295.99it/s]\n",
      "\n",
      " 19%|██████████████▋                                                              | 1220/6370 [00:04<00:17, 298.32it/s]\n",
      "\n",
      " 20%|███████████████                                                              | 1251/6370 [00:04<00:17, 299.11it/s]\n",
      "\n",
      " 20%|███████████████▍                                                             | 1281/6370 [00:04<00:17, 298.49it/s]\n",
      "\n",
      " 21%|███████████████▉                                                             | 1316/6370 [00:04<00:16, 301.77it/s]\n",
      "\n",
      " 21%|████████████████▎                                                            | 1347/6370 [00:04<00:16, 298.05it/s]\n",
      "\n",
      " 22%|████████████████▋                                                            | 1379/6370 [00:04<00:16, 294.24it/s]\n",
      "\n",
      " 22%|█████████████████                                                            | 1409/6370 [00:04<00:17, 281.77it/s]\n",
      "\n",
      " 23%|█████████████████▍                                                           | 1442/6370 [00:04<00:17, 283.31it/s]\n",
      "\n",
      " 23%|█████████████████▊                                                           | 1473/6370 [00:04<00:16, 289.19it/s]\n",
      "\n",
      " 24%|██████████████████▏                                                          | 1508/6370 [00:05<00:16, 293.58it/s]\n",
      "\n",
      " 24%|██████████████████▌                                                          | 1539/6370 [00:05<00:16, 296.61it/s]\n",
      "\n",
      " 25%|███████████████████                                                          | 1574/6370 [00:05<00:16, 298.12it/s]\n",
      "\n",
      " 25%|███████████████████▍                                                         | 1604/6370 [00:05<00:16, 297.79it/s]\n",
      "\n",
      " 26%|███████████████████▊                                                         | 1638/6370 [00:05<00:15, 297.93it/s]\n",
      "\n",
      " 26%|████████████████████▏                                                        | 1672/6370 [00:05<00:15, 295.69it/s]\n",
      "\n",
      " 27%|████████████████████▌                                                        | 1702/6370 [00:05<00:15, 296.97it/s]\n",
      "\n",
      " 27%|████████████████████▉                                                        | 1732/6370 [00:05<00:15, 290.10it/s]\n",
      "\n",
      " 28%|█████████████████████▎                                                       | 1765/6370 [00:05<00:15, 296.15it/s]\n",
      "\n",
      " 28%|█████████████████████▋                                                       | 1796/6370 [00:06<00:15, 297.58it/s]\n",
      "\n",
      " 29%|██████████████████████                                                       | 1826/6370 [00:06<00:15, 297.42it/s]\n",
      "\n",
      " 29%|██████████████████████▍                                                      | 1861/6370 [00:06<00:15, 300.23it/s]\n",
      "\n",
      " 30%|██████████████████████▊                                                      | 1892/6370 [00:06<00:15, 283.16it/s]\n",
      "\n",
      " 30%|███████████████████████▎                                                     | 1926/6370 [00:06<00:15, 288.99it/s]\n",
      "\n",
      " 31%|███████████████████████▋                                                     | 1956/6370 [00:06<00:15, 291.36it/s]\n",
      "\n",
      " 31%|████████████████████████                                                     | 1986/6370 [00:06<00:15, 291.33it/s]\n",
      "\n",
      " 32%|████████████████████████▍                                                    | 2017/6370 [00:06<00:14, 295.00it/s]\n",
      "\n",
      " 32%|████████████████████████▋                                                    | 2047/6370 [00:06<00:14, 293.87it/s]\n",
      "\n",
      " 33%|█████████████████████████                                                    | 2077/6370 [00:07<00:14, 293.94it/s]\n",
      "\n",
      " 33%|█████████████████████████▍                                                   | 2107/6370 [00:07<00:14, 291.42it/s]\n",
      "\n",
      " 34%|█████████████████████████▊                                                   | 2138/6370 [00:07<00:14, 294.22it/s]\n",
      "\n",
      " 34%|██████████████████████████▏                                                  | 2168/6370 [00:07<00:14, 294.19it/s]\n",
      "\n",
      " 35%|██████████████████████████▌                                                  | 2201/6370 [00:07<00:14, 291.98it/s]\n",
      "\n",
      " 35%|██████████████████████████▉                                                  | 2231/6370 [00:07<00:14, 292.62it/s]\n",
      "\n",
      " 35%|███████████████████████████▎                                                 | 2261/6370 [00:07<00:14, 292.21it/s]\n",
      "\n",
      " 36%|███████████████████████████▋                                                 | 2291/6370 [00:07<00:14, 286.90it/s]\n",
      "\n",
      " 36%|████████████████████████████                                                 | 2320/6370 [00:07<00:14, 284.44it/s]\n",
      "\n",
      " 37%|████████████████████████████▍                                                | 2350/6370 [00:07<00:13, 288.10it/s]\n",
      "\n",
      " 37%|████████████████████████████▊                                                | 2380/6370 [00:08<00:14, 284.92it/s]\n",
      "\n",
      " 38%|█████████████████████████████▏                                               | 2411/6370 [00:08<00:13, 289.56it/s]\n",
      "\n",
      " 38%|█████████████████████████████▌                                               | 2441/6370 [00:08<00:13, 291.76it/s]\n",
      "\n",
      " 39%|█████████████████████████████▉                                               | 2476/6370 [00:08<00:13, 296.17it/s]\n",
      "\n",
      " 39%|██████████████████████████████▎                                              | 2506/6370 [00:08<00:13, 287.90it/s]\n",
      "\n"
     ]
    },
    {
     "name": "stderr",
     "output_type": "stream",
     "text": [
      " 40%|██████████████████████████████▋                                              | 2538/6370 [00:08<00:13, 291.96it/s]\n",
      "\n",
      " 40%|███████████████████████████████                                              | 2568/6370 [00:08<00:12, 294.32it/s]\n",
      "\n",
      " 41%|███████████████████████████████▍                                             | 2598/6370 [00:08<00:12, 294.26it/s]\n",
      "\n",
      " 41%|███████████████████████████████▊                                             | 2631/6370 [00:08<00:12, 293.59it/s]\n",
      "\n",
      " 42%|████████████████████████████████▏                                            | 2661/6370 [00:09<00:12, 293.75it/s]\n",
      "\n",
      " 42%|████████████████████████████████▌                                            | 2695/6370 [00:09<00:12, 294.32it/s]\n",
      "\n",
      " 43%|████████████████████████████████▉                                            | 2726/6370 [00:09<00:12, 297.99it/s]\n",
      "\n",
      " 43%|█████████████████████████████████▎                                           | 2756/6370 [00:09<00:12, 297.70it/s]\n",
      "\n",
      " 44%|█████████████████████████████████▋                                           | 2786/6370 [00:09<00:12, 298.39it/s]\n",
      "\n",
      " 44%|██████████████████████████████████                                           | 2816/6370 [00:09<00:12, 283.61it/s]\n",
      "\n",
      " 45%|██████████████████████████████████▍                                          | 2845/6370 [00:09<00:12, 277.31it/s]\n",
      "\n",
      " 45%|██████████████████████████████████▊                                          | 2875/6370 [00:09<00:12, 282.15it/s]\n",
      "\n",
      " 46%|███████████████████████████████████                                          | 2904/6370 [00:09<00:12, 280.33it/s]\n",
      "\n",
      " 46%|███████████████████████████████████▍                                         | 2933/6370 [00:09<00:12, 275.11it/s]\n",
      "\n",
      " 46%|███████████████████████████████████▊                                         | 2962/6370 [00:10<00:12, 278.61it/s]\n",
      "\n",
      " 47%|████████████████████████████████████▏                                        | 2991/6370 [00:10<00:12, 279.48it/s]\n",
      "\n",
      " 47%|████████████████████████████████████▌                                        | 3020/6370 [00:10<00:11, 282.56it/s]\n",
      "\n",
      " 48%|████████████████████████████████████▉                                        | 3055/6370 [00:10<00:11, 286.63it/s]\n",
      "\n",
      " 48%|█████████████████████████████████████▎                                       | 3085/6370 [00:10<00:11, 288.84it/s]\n",
      "\n",
      " 49%|█████████████████████████████████████▋                                       | 3114/6370 [00:10<00:11, 284.92it/s]\n",
      "\n",
      " 49%|██████████████████████████████████████                                       | 3144/6370 [00:10<00:11, 286.80it/s]\n",
      "\n",
      " 50%|██████████████████████████████████████▎                                      | 3173/6370 [00:10<00:11, 277.03it/s]\n",
      "\n",
      " 50%|██████████████████████████████████████▋                                      | 3203/6370 [00:10<00:11, 281.15it/s]\n",
      "\n",
      " 51%|███████████████████████████████████████                                      | 3234/6370 [00:11<00:10, 287.62it/s]\n",
      "\n",
      " 51%|███████████████████████████████████████▍                                     | 3263/6370 [00:11<00:10, 286.62it/s]\n",
      "\n",
      " 52%|███████████████████████████████████████▊                                     | 3293/6370 [00:11<00:10, 288.83it/s]\n",
      "\n",
      " 52%|████████████████████████████████████████▏                                    | 3322/6370 [00:11<00:10, 288.32it/s]\n",
      "\n",
      " 53%|████████████████████████████████████████▌                                    | 3356/6370 [00:11<00:10, 291.22it/s]\n",
      "\n",
      " 53%|████████████████████████████████████████▉                                    | 3386/6370 [00:11<00:10, 279.83it/s]\n",
      "\n",
      " 54%|█████████████████████████████████████████▎                                   | 3415/6370 [00:11<00:11, 265.70it/s]\n",
      "\n",
      " 54%|█████████████████████████████████████████▋                                   | 3446/6370 [00:11<00:10, 271.05it/s]\n",
      "\n",
      " 55%|██████████████████████████████████████████                                   | 3475/6370 [00:11<00:10, 274.90it/s]\n",
      "\n",
      " 55%|██████████████████████████████████████████▎                                  | 3505/6370 [00:11<00:10, 279.61it/s]\n",
      "\n",
      " 56%|██████████████████████████████████████████▊                                  | 3539/6370 [00:12<00:09, 284.95it/s]\n",
      "\n",
      " 56%|███████████████████████████████████████████▏                                 | 3568/6370 [00:12<00:09, 280.63it/s]\n",
      "\n",
      " 57%|███████████████████████████████████████████▌                                 | 3601/6370 [00:12<00:09, 285.43it/s]\n",
      "\n",
      " 57%|███████████████████████████████████████████▉                                 | 3630/6370 [00:12<00:09, 285.94it/s]\n",
      "\n",
      " 57%|████████████████████████████████████████████▏                                | 3659/6370 [00:12<00:09, 282.12it/s]\n",
      "\n",
      " 58%|████████████████████████████████████████████▌                                | 3691/6370 [00:12<00:09, 285.46it/s]\n",
      "\n",
      " 58%|████████████████████████████████████████████▉                                | 3720/6370 [00:12<00:09, 280.16it/s]\n",
      "\n",
      " 59%|█████████████████████████████████████████████▎                               | 3751/6370 [00:12<00:09, 281.42it/s]\n",
      "\n",
      " 59%|█████████████████████████████████████████████▋                               | 3780/6370 [00:12<00:09, 283.11it/s]\n",
      "\n",
      " 60%|██████████████████████████████████████████████                               | 3809/6370 [00:13<00:09, 275.39it/s]\n",
      "\n",
      " 60%|██████████████████████████████████████████████▍                              | 3837/6370 [00:13<00:09, 274.32it/s]\n",
      "\n",
      " 61%|██████████████████████████████████████████████▋                              | 3866/6370 [00:13<00:09, 275.66it/s]\n",
      "\n",
      " 61%|███████████████████████████████████████████████▏                             | 3899/6370 [00:13<00:08, 278.96it/s]\n",
      "\n",
      " 62%|███████████████████████████████████████████████▍                             | 3927/6370 [00:13<00:08, 275.96it/s]\n",
      "\n",
      " 62%|███████████████████████████████████████████████▊                             | 3955/6370 [00:13<00:08, 277.16it/s]\n",
      "\n",
      " 63%|████████████████████████████████████████████████▏                            | 3984/6370 [00:13<00:08, 280.08it/s]\n",
      "\n",
      " 63%|████████████████████████████████████████████████▌                            | 4013/6370 [00:13<00:08, 274.94it/s]\n",
      "\n",
      " 63%|████████████████████████████████████████████████▊                            | 4043/6370 [00:13<00:08, 280.42it/s]\n",
      "\n",
      " 64%|█████████████████████████████████████████████████▏                           | 4072/6370 [00:14<00:08, 281.58it/s]\n",
      "\n",
      " 64%|█████████████████████████████████████████████████▌                           | 4101/6370 [00:14<00:08, 279.13it/s]\n",
      "\n",
      " 65%|█████████████████████████████████████████████████▉                           | 4130/6370 [00:14<00:08, 279.05it/s]\n",
      "\n",
      " 65%|██████████████████████████████████████████████████▎                          | 4158/6370 [00:14<00:08, 273.60it/s]\n",
      "\n",
      " 66%|██████████████████████████████████████████████████▋                          | 4190/6370 [00:14<00:07, 277.12it/s]\n",
      "\n",
      " 66%|██████████████████████████████████████████████████▉                          | 4218/6370 [00:14<00:07, 274.71it/s]\n",
      "\n",
      " 67%|███████████████████████████████████████████████████▎                         | 4246/6370 [00:14<00:08, 262.30it/s]\n",
      "\n",
      " 67%|███████████████████████████████████████████████████▋                         | 4276/6370 [00:14<00:07, 269.64it/s]\n",
      "\n",
      " 68%|████████████████████████████████████████████████████                         | 4304/6370 [00:14<00:07, 271.87it/s]\n",
      "\n",
      " 68%|████████████████████████████████████████████████████▎                        | 4332/6370 [00:14<00:07, 261.94it/s]\n",
      "\n",
      " 68%|████████████████████████████████████████████████████▋                        | 4360/6370 [00:15<00:07, 265.59it/s]\n",
      "\n",
      " 69%|█████████████████████████████████████████████████████                        | 4388/6370 [00:15<00:07, 268.98it/s]\n",
      "\n",
      " 69%|█████████████████████████████████████████████████████▍                       | 4416/6370 [00:15<00:07, 271.40it/s]\n",
      "\n",
      " 70%|█████████████████████████████████████████████████████▋                       | 4444/6370 [00:15<00:07, 269.18it/s]\n",
      "\n",
      " 70%|██████████████████████████████████████████████████████                       | 4474/6370 [00:15<00:06, 270.97it/s]\n",
      "\n",
      " 71%|██████████████████████████████████████████████████████▍                      | 4503/6370 [00:15<00:06, 271.75it/s]\n",
      "\n",
      " 71%|██████████████████████████████████████████████████████▊                      | 4531/6370 [00:15<00:06, 272.57it/s]\n",
      "\n",
      " 72%|███████████████████████████████████████████████████████▏                     | 4564/6370 [00:15<00:06, 277.43it/s]\n",
      "\n",
      " 72%|███████████████████████████████████████████████████████▌                     | 4592/6370 [00:15<00:06, 274.11it/s]\n",
      "\n",
      " 73%|███████████████████████████████████████████████████████▉                     | 4624/6370 [00:16<00:06, 277.49it/s]\n",
      "\n",
      " 73%|████████████████████████████████████████████████████████▎                    | 4657/6370 [00:16<00:06, 280.27it/s]\n",
      "\n",
      " 74%|████████████████████████████████████████████████████████▋                    | 4686/6370 [00:16<00:06, 277.43it/s]\n",
      "\n",
      " 74%|█████████████████████████████████████████████████████████                    | 4718/6370 [00:16<00:05, 281.34it/s]\n",
      "\n",
      " 75%|█████████████████████████████████████████████████████████▍                   | 4747/6370 [00:16<00:05, 281.40it/s]\n",
      "\n",
      " 75%|█████████████████████████████████████████████████████████▋                   | 4776/6370 [00:16<00:05, 275.04it/s]\n",
      "\n",
      " 75%|██████████████████████████████████████████████████████████                   | 4804/6370 [00:16<00:05, 271.68it/s]\n",
      "\n",
      " 76%|██████████████████████████████████████████████████████████▍                  | 4832/6370 [00:16<00:05, 273.32it/s]\n",
      "\n",
      " 76%|██████████████████████████████████████████████████████████▋                  | 4860/6370 [00:16<00:05, 267.40it/s]\n",
      "\n",
      " 77%|███████████████████████████████████████████████████████████                  | 4887/6370 [00:17<00:05, 264.24it/s]\n",
      "\n",
      " 77%|███████████████████████████████████████████████████████████▍                 | 4915/6370 [00:17<00:05, 268.78it/s]\n",
      "\n",
      " 78%|███████████████████████████████████████████████████████████▊                 | 4943/6370 [00:17<00:05, 271.26it/s]\n",
      "\n",
      " 78%|████████████████████████████████████████████████████████████                 | 4971/6370 [00:17<00:05, 269.86it/s]\n",
      "\n",
      " 79%|████████████████████████████████████████████████████████████▍                | 5001/6370 [00:17<00:05, 272.19it/s]\n",
      "\n",
      " 79%|████████████████████████████████████████████████████████████▊                | 5029/6370 [00:17<00:04, 269.73it/s]\n",
      "\n",
      " 79%|█████████████████████████████████████████████████████████████                | 5056/6370 [00:17<00:05, 258.94it/s]\n",
      "\n",
      " 80%|█████████████████████████████████████████████████████████████▍               | 5084/6370 [00:17<00:04, 262.68it/s]\n",
      "\n",
      " 80%|█████████████████████████████████████████████████████████████▊               | 5111/6370 [00:17<00:04, 261.75it/s]\n",
      "\n",
      " 81%|██████████████████████████████████████████████████████████████               | 5139/6370 [00:17<00:04, 264.70it/s]\n",
      "\n",
      " 81%|██████████████████████████████████████████████████████████████▍              | 5166/6370 [00:18<00:04, 265.48it/s]\n",
      "\n",
      " 82%|██████████████████████████████████████████████████████████████▊              | 5193/6370 [00:18<00:04, 257.66it/s]\n",
      "\n",
      " 82%|███████████████████████████████████████████████████████████████              | 5219/6370 [00:18<00:04, 258.35it/s]\n",
      "\n",
      " 82%|███████████████████████████████████████████████████████████████▍             | 5246/6370 [00:18<00:04, 259.48it/s]\n",
      "\n",
      " 83%|███████████████████████████████████████████████████████████████▊             | 5275/6370 [00:18<00:04, 265.00it/s]\n",
      "\n",
      " 83%|████████████████████████████████████████████████████████████████             | 5302/6370 [00:18<00:04, 257.34it/s]\n",
      "\n",
      " 84%|████████████████████████████████████████████████████████████████▍            | 5330/6370 [00:18<00:04, 259.34it/s]\n",
      "\n",
      " 84%|████████████████████████████████████████████████████████████████▊            | 5357/6370 [00:18<00:03, 261.69it/s]\n",
      "\n",
      " 85%|█████████████████████████████████████████████████████████████████            | 5384/6370 [00:18<00:03, 260.31it/s]\n",
      "\n",
      " 85%|█████████████████████████████████████████████████████████████████▍           | 5414/6370 [00:19<00:03, 263.91it/s]\n",
      "\n",
      " 85%|█████████████████████████████████████████████████████████████████▊           | 5441/6370 [00:19<00:03, 262.61it/s]\n",
      "\n",
      " 86%|██████████████████████████████████████████████████████████████████▏          | 5471/6370 [00:19<00:03, 264.86it/s]\n",
      "\n",
      " 86%|██████████████████████████████████████████████████████████████████▍          | 5498/6370 [00:19<00:03, 264.81it/s]\n",
      "\n",
      " 87%|██████████████████████████████████████████████████████████████████▊          | 5525/6370 [00:19<00:03, 263.23it/s]\n",
      "\n",
      " 87%|███████████████████████████████████████████████████████████████████▏         | 5555/6370 [00:19<00:03, 264.60it/s]\n",
      "\n",
      " 88%|███████████████████████████████████████████████████████████████████▍         | 5582/6370 [00:19<00:02, 265.41it/s]\n",
      "\n",
      " 88%|███████████████████████████████████████████████████████████████████▊         | 5609/6370 [00:19<00:02, 265.99it/s]\n",
      "\n",
      " 89%|████████████████████████████████████████████████████████████████████▏        | 5639/6370 [00:19<00:02, 265.13it/s]\n",
      "\n",
      " 89%|████████████████████████████████████████████████████████████████████▍        | 5666/6370 [00:19<00:02, 264.23it/s]\n",
      "\n",
      " 89%|████████████████████████████████████████████████████████████████████▊        | 5693/6370 [00:20<00:02, 265.93it/s]\n",
      "\n",
      " 90%|█████████████████████████████████████████████████████████████████████▏       | 5720/6370 [00:20<00:02, 264.00it/s]\n",
      "\n",
      " 90%|█████████████████████████████████████████████████████████████████████▌       | 5750/6370 [00:20<00:02, 266.56it/s]\n",
      "\n",
      " 91%|█████████████████████████████████████████████████████████████████████▊       | 5777/6370 [00:20<00:02, 266.00it/s]\n",
      "\n",
      " 91%|██████████████████████████████████████████████████████████████████████▏      | 5804/6370 [00:20<00:02, 264.05it/s]\n",
      "\n",
      " 92%|██████████████████████████████████████████████████████████████████████▍      | 5831/6370 [00:20<00:02, 262.71it/s]\n",
      "\n",
      " 92%|██████████████████████████████████████████████████████████████████████▊      | 5858/6370 [00:20<00:01, 261.77it/s]\n",
      "\n",
      " 92%|███████████████████████████████████████████████████████████████████████▏     | 5885/6370 [00:20<00:01, 261.12it/s]\n",
      "\n",
      " 93%|███████████████████████████████████████████████████████████████████████▍     | 5912/6370 [00:20<00:01, 260.67it/s]\n",
      "\n",
      " 93%|███████████████████████████████████████████████████████████████████████▊     | 5939/6370 [00:21<00:01, 261.11it/s]\n",
      "\n",
      " 94%|████████████████████████████████████████████████████████████████████████     | 5966/6370 [00:21<00:01, 262.94it/s]\n",
      "\n",
      " 94%|████████████████████████████████████████████████████████████████████████▍    | 5993/6370 [00:21<00:01, 261.94it/s]\n",
      "\n",
      " 95%|████████████████████████████████████████████████████████████████████████▊    | 6020/6370 [00:21<00:01, 262.76it/s]\n",
      "\n",
      " 95%|█████████████████████████████████████████████████████████████████████████    | 6047/6370 [00:21<00:01, 263.34it/s]\n",
      "\n",
      " 95%|█████████████████████████████████████████████████████████████████████████▍   | 6074/6370 [00:21<00:01, 256.24it/s]\n",
      "\n",
      " 96%|█████████████████████████████████████████████████████████████████████████▋   | 6100/6370 [00:21<00:01, 255.84it/s]\n",
      "\n",
      " 96%|██████████████████████████████████████████████████████████████████████████   | 6127/6370 [00:21<00:00, 256.96it/s]\n",
      "\n",
      " 97%|██████████████████████████████████████████████████████████████████████████▍  | 6154/6370 [00:21<00:00, 258.49it/s]\n",
      "\n",
      " 97%|██████████████████████████████████████████████████████████████████████████▋  | 6181/6370 [00:21<00:00, 260.32it/s]\n",
      "\n",
      " 97%|███████████████████████████████████████████████████████████████████████████  | 6208/6370 [00:22<00:00, 260.87it/s]\n",
      "\n",
      " 98%|███████████████████████████████████████████████████████████████████████████▎ | 6235/6370 [00:22<00:00, 259.74it/s]\n",
      "\n",
      " 98%|███████████████████████████████████████████████████████████████████████████▋ | 6261/6370 [00:22<00:00, 256.74it/s]\n",
      "\n",
      " 99%|████████████████████████████████████████████████████████████████████████████ | 6289/6370 [00:22<00:00, 256.78it/s]\n",
      "\n",
      " 99%|████████████████████████████████████████████████████████████████████████████▎| 6317/6370 [00:22<00:00, 258.23it/s]\n",
      "\n",
      "100%|████████████████████████████████████████████████████████████████████████████▋| 6346/6370 [00:22<00:00, 256.38it/s]\n",
      "\n",
      "100%|█████████████████████████████████████████████████████████████████████████████| 6370/6370 [00:22<00:00, 281.04it/s]\n",
      "\n"
     ]
    },
    {
     "name": "stderr",
     "output_type": "stream",
     "text": [
      "  0%|                                                                                         | 0/6370 [00:00<?, ?it/s]\n",
      "\n",
      "  5%|████                                                                         | 339/6370 [00:00<00:02, 2922.42it/s]\n",
      "\n",
      " 11%|████████▍                                                                    | 693/6370 [00:00<00:01, 2960.04it/s]\n",
      "\n",
      " 17%|████████████▊                                                               | 1077/6370 [00:00<00:01, 3064.41it/s]\n",
      "\n",
      " 22%|████████████████▉                                                           | 1419/6370 [00:00<00:01, 3154.32it/s]\n",
      "\n",
      " 28%|████████████████████▉                                                       | 1754/6370 [00:00<00:01, 3201.38it/s]\n",
      "\n",
      " 33%|█████████████████████████                                                   | 2099/6370 [00:00<00:01, 3138.18it/s]\n",
      "\n",
      " 38%|████████████████████████████▊                                               | 2419/6370 [00:00<00:01, 3156.47it/s]\n",
      "\n",
      " 43%|████████████████████████████████▊                                           | 2752/6370 [00:00<00:01, 3197.37it/s]\n",
      "\n",
      " 48%|████████████████████████████████████▊                                       | 3081/6370 [00:00<00:01, 3215.15it/s]\n",
      "\n",
      " 54%|████████████████████████████████████████▋                                   | 3409/6370 [00:01<00:00, 3234.33it/s]\n",
      "\n",
      " 59%|████████████████████████████████████████████▋                               | 3744/6370 [00:01<00:00, 3258.65it/s]\n",
      "\n",
      " 64%|████████████████████████████████████████████████▋                           | 4083/6370 [00:01<00:00, 3296.97it/s]\n",
      "\n",
      " 69%|████████████████████████████████████████████████████▊                       | 4422/6370 [00:01<00:00, 3314.59it/s]\n",
      "\n",
      " 75%|████████████████████████████████████████████████████████▋                   | 4756/6370 [00:01<00:00, 3322.17it/s]\n",
      "\n",
      " 80%|████████████████████████████████████████████████████████████▋               | 5087/6370 [00:01<00:00, 3308.56it/s]\n",
      "\n",
      " 85%|████████████████████████████████████████████████████████████████▋           | 5417/6370 [00:01<00:00, 3296.08it/s]\n",
      "\n",
      " 90%|████████████████████████████████████████████████████████████████████▌       | 5751/6370 [00:01<00:00, 3309.13it/s]\n",
      "\n",
      " 96%|████████████████████████████████████████████████████████████████████████▋   | 6091/6370 [00:01<00:00, 3316.36it/s]\n",
      "\n",
      "100%|████████████████████████████████████████████████████████████████████████████| 6370/6370 [00:01<00:00, 3251.66it/s]\n",
      "\n",
      "  0%|                                                                                         | 0/6370 [00:00<?, ?it/s]\n",
      "\n",
      "  9%|██████▊                                                                      | 568/6370 [00:00<00:01, 5679.99it/s]\n",
      "\n",
      " 18%|█████████████▌                                                              | 1133/6370 [00:00<00:00, 5653.94it/s]\n",
      "\n",
      " 27%|████████████████████▎                                                       | 1703/6370 [00:00<00:00, 5667.68it/s]\n",
      "\n",
      " 36%|███████████████████████████▎                                                | 2284/6370 [00:00<00:00, 5692.86it/s]\n",
      "\n",
      " 46%|███████████████████████████████████                                         | 2937/6370 [00:00<00:00, 5718.36it/s]\n",
      "\n",
      " 55%|█████████████████████████████████████████▊                                  | 3506/6370 [00:00<00:00, 5692.68it/s]\n",
      "\n",
      " 64%|████████████████████████████████████████████████▉                           | 4098/6370 [00:00<00:00, 5725.60it/s]\n",
      "\n",
      " 74%|███████████████████████████████████████████████████████▉                    | 4685/6370 [00:00<00:00, 5717.60it/s]\n",
      "\n",
      " 83%|██████████████████████████████████████████████████████████████▊             | 5260/6370 [00:00<00:00, 5710.22it/s]\n",
      "\n",
      " 93%|██████████████████████████████████████████████████████████████████████▊     | 5933/6370 [00:01<00:00, 5752.08it/s]\n",
      "\n",
      "100%|████████████████████████████████████████████████████████████████████████████| 6370/6370 [00:01<00:00, 5764.71it/s]\n",
      "\n",
      "  0%|                                                                                         | 0/6370 [00:00<?, ?it/s]\n",
      "\n",
      " 10%|███████▉                                                                     | 652/6370 [00:00<00:00, 5873.87it/s]\n",
      "\n",
      " 19%|██████████████▋                                                             | 1231/6370 [00:00<00:00, 5795.77it/s]\n",
      "\n",
      " 28%|█████████████████████▍                                                      | 1801/6370 [00:00<00:00, 5749.25it/s]\n",
      "\n",
      " 39%|█████████████████████████████▍                                              | 2464/6370 [00:00<00:00, 5769.05it/s]\n",
      "\n",
      " 48%|████████████████████████████████████▎                                       | 3045/6370 [00:00<00:00, 5746.97it/s]\n",
      "\n",
      " 58%|███████████████████████████████████████████▊                                | 3671/6370 [00:00<00:00, 5667.78it/s]\n",
      "\n",
      " 66%|██████████████████████████████████████████████████▍                         | 4224/6370 [00:00<00:00, 5608.61it/s]\n",
      "\n",
      " 77%|██████████████████████████████████████████████████████████▎                 | 4885/6370 [00:00<00:00, 5649.66it/s]\n",
      "\n",
      " 86%|█████████████████████████████████████████████████████████████████▏          | 5463/6370 [00:00<00:00, 5671.40it/s]\n",
      "\n",
      " 95%|████████████████████████████████████████████████████████████████████████    | 6045/6370 [00:01<00:00, 5698.39it/s]\n",
      "\n",
      "100%|████████████████████████████████████████████████████████████████████████████| 6370/6370 [00:01<00:00, 5662.22it/s]\n",
      "\n",
      "  0%|                                                                                         | 0/6370 [00:00<?, ?it/s]\n",
      "\n",
      " 10%|███████▊                                                                     | 644/6370 [00:00<00:00, 5801.81it/s]\n",
      "\n",
      " 19%|██████████████▌                                                             | 1221/6370 [00:00<00:00, 5792.23it/s]\n",
      "\n",
      " 30%|██████████████████████▌                                                     | 1894/6370 [00:00<00:00, 5795.07it/s]\n",
      "\n",
      " 39%|█████████████████████████████▍                                              | 2464/6370 [00:00<00:00, 5748.77it/s]\n",
      "\n",
      " 47%|████████████████████████████████████                                        | 3025/6370 [00:00<00:00, 5689.07it/s]\n",
      "\n",
      " 56%|██████████████████████████████████████████▊                                 | 3588/6370 [00:00<00:00, 5671.22it/s]\n",
      "\n",
      " 65%|█████████████████████████████████████████████████▌                          | 4150/6370 [00:00<00:00, 5638.73it/s]\n",
      "\n",
      " 74%|████████████████████████████████████████████████████████▎                   | 4718/6370 [00:00<00:00, 5634.23it/s]\n",
      "\n",
      " 83%|███████████████████████████████████████████████████████████████             | 5282/6370 [00:00<00:00, 5635.96it/s]\n",
      "\n",
      " 92%|█████████████████████████████████████████████████████████████████████▊      | 5855/6370 [00:01<00:00, 5647.10it/s]\n",
      "\n",
      "100%|████████████████████████████████████████████████████████████████████████████| 6370/6370 [00:01<00:00, 5667.26it/s]\n",
      "\n",
      "  0%|                                                                                         | 0/6370 [00:00<?, ?it/s]\n",
      "\n",
      "  9%|███████                                                                      | 582/6370 [00:00<00:01, 5762.37it/s]\n",
      "\n",
      " 18%|█████████████▋                                                              | 1145/6370 [00:00<00:00, 5704.62it/s]\n",
      "\n",
      " 27%|████████████████████▌                                                       | 1721/6370 [00:00<00:00, 5704.13it/s]\n",
      "\n",
      " 36%|███████████████████████████▏                                                | 2278/6370 [00:00<00:00, 5663.21it/s]\n",
      "\n",
      " 45%|█████████████████████████████████▉                                          | 2842/6370 [00:00<00:00, 5639.26it/s]\n",
      "\n",
      " 53%|████████████████████████████████████████▋                                   | 3407/6370 [00:00<00:00, 5642.48it/s]\n",
      "\n",
      " 62%|███████████████████████████████████████████████▍                            | 3972/6370 [00:00<00:00, 5627.87it/s]\n",
      "\n",
      " 71%|██████████████████████████████████████████████████████                      | 4535/6370 [00:00<00:00, 5628.50it/s]\n",
      "\n",
      " 80%|████████████████████████████████████████████████████████████▉               | 5111/6370 [00:00<00:00, 5650.64it/s]\n",
      "\n",
      " 89%|███████████████████████████████████████████████████████████████████▊        | 5682/6370 [00:01<00:00, 5651.49it/s]\n",
      "\n",
      " 98%|██████████████████████████████████████████████████████████████████████████▍ | 6244/6370 [00:01<00:00, 5642.00it/s]\n",
      "\n",
      "100%|████████████████████████████████████████████████████████████████████████████| 6370/6370 [00:01<00:00, 5622.24it/s]\n",
      "\n",
      "  0%|                                                                                         | 0/6370 [00:00<?, ?it/s]\n",
      "\n",
      "  9%|███████▏                                                                     | 595/6370 [00:00<00:01, 5560.75it/s]\n",
      "\n",
      " 19%|██████████████▊                                                             | 1240/6370 [00:00<00:00, 5589.54it/s]\n",
      "\n",
      " 28%|█████████████████████▍                                                      | 1794/6370 [00:00<00:00, 5574.58it/s]\n",
      "\n",
      " 37%|████████████████████████████▏                                               | 2366/6370 [00:00<00:00, 5600.93it/s]\n",
      "\n",
      " 47%|████████████████████████████████████                                        | 3022/6370 [00:00<00:00, 5646.10it/s]\n",
      "\n",
      " 57%|███████████████████████████████████████████                                 | 3606/6370 [00:00<00:00, 5686.24it/s]\n",
      "\n",
      " 66%|█████████████████████████████████████████████████▉                          | 4185/6370 [00:00<00:00, 5683.31it/s]\n",
      "\n",
      " 75%|████████████████████████████████████████████████████████▊                   | 4764/6370 [00:00<00:00, 5698.03it/s]\n",
      "\n",
      " 85%|████████████████████████████████████████████████████████████████▌           | 5410/6370 [00:00<00:00, 5703.65it/s]\n",
      "\n",
      " 94%|███████████████████████████████████████████████████████████████████████▌    | 5995/6370 [00:01<00:00, 5729.90it/s]\n",
      "\n",
      "100%|████████████████████████████████████████████████████████████████████████████| 6370/6370 [00:01<00:00, 5672.31it/s]\n",
      "\n",
      "  0%|                                                                                         | 0/6370 [00:00<?, ?it/s]\n",
      "\n",
      "  8%|██████▏                                                                      | 513/6370 [00:00<00:01, 5079.22it/s]\n",
      "\n",
      " 16%|████████████                                                                | 1007/6370 [00:00<00:01, 5036.63it/s]\n",
      "\n",
      " 24%|██████████████████                                                          | 1512/6370 [00:00<00:00, 5025.59it/s]\n",
      "\n",
      " 32%|████████████████████████                                                    | 2017/6370 [00:00<00:00, 5017.88it/s]\n",
      "\n",
      " 39%|█████████████████████████████▉                                              | 2509/6370 [00:00<00:00, 4988.11it/s]\n",
      "\n",
      " 47%|███████████████████████████████████▊                                        | 3006/6370 [00:00<00:00, 4967.72it/s]\n",
      "\n",
      " 55%|█████████████████████████████████████████▊                                  | 3506/6370 [00:00<00:00, 4977.36it/s]\n",
      "\n",
      " 63%|███████████████████████████████████████████████▋                            | 3999/6370 [00:00<00:00, 4948.11it/s]\n",
      "\n",
      " 71%|█████████████████████████████████████████████████████▊                      | 4509/6370 [00:00<00:00, 4963.57it/s]\n",
      "\n",
      " 79%|███████████████████████████████████████████████████████████▉                | 5022/6370 [00:01<00:00, 4997.70it/s]\n",
      "\n",
      " 87%|█████████████████████████████████████████████████████████████████▉          | 5525/6370 [00:01<00:00, 5007.35it/s]\n",
      "\n",
      " 95%|████████████████████████████████████████████████████████████████████████▏   | 6046/6370 [00:01<00:00, 5051.73it/s]\n",
      "\n",
      "100%|████████████████████████████████████████████████████████████████████████████| 6370/6370 [00:01<00:00, 4980.45it/s]"
     ]
    }
   ],
   "source": [
    "U_K = get_I_K(df_train, row_name = 'UserIndex', shape = (6370, 75))\n",
    "U_U = train(U_K)\n",
    "user_based_prediction_score = predict(rtrain, 100, U_U, item_similarity_en= False)\n",
    "user_based_predict = prediction(user_based_prediction_score, 50, rtrain)\n",
    "user_based_res = evaluate(user_based_predict, rvalid)"
   ]
  },
  {
   "cell_type": "code",
   "execution_count": 59,
   "metadata": {},
   "outputs": [
    {
     "data": {
      "text/plain": [
       "{'MAP@10': (0.031344898316532005, 0.0019419718247370961),\n",
       " 'MAP@15': (0.029866232135536987, 0.0016325577177255409),\n",
       " 'MAP@20': (0.028656128642907317, 0.0014423906282694256),\n",
       " 'MAP@5': (0.033376524835113525, 0.002590995553761898),\n",
       " 'MAP@50': (0.024320038944187366, 0.0009847994668677619),\n",
       " 'NDCG': (0.07721138347289283, 0.0028333472139054983),\n",
       " 'Precision@10': (0.028383820696900722, 0.0014345802902826993),\n",
       " 'Precision@15': (0.02613669526644487, 0.0011749008756399859),\n",
       " 'Precision@20': (0.024505340570828225, 0.001029564088716077),\n",
       " 'Precision@5': (0.030887760462265802, 0.002026027617556462),\n",
       " 'Precision@50': (0.019355629486955, 0.0006955690047862636),\n",
       " 'R-Precision': (0.028883717093828115, 0.002038446870856928),\n",
       " 'Recall@10': (0.052008110922374604, 0.0036721612954724284),\n",
       " 'Recall@15': (0.07063100178823213, 0.004204104035231979),\n",
       " 'Recall@20': (0.08660429125621157, 0.004636511047404981),\n",
       " 'Recall@5': (0.029146689761132605, 0.002806545567276444),\n",
       " 'Recall@50': (0.15816837853808208, 0.005809350841461786)}"
      ]
     },
     "execution_count": 59,
     "metadata": {},
     "output_type": "execute_result"
    }
   ],
   "source": [
    "user_based_res"
   ]
  },
  {
   "cell_type": "markdown",
   "metadata": {},
   "source": [
    "## Tunning"
   ]
  },
  {
   "cell_type": "code",
   "execution_count": 12,
   "metadata": {
    "collapsed": true
   },
   "outputs": [],
   "source": [
    "def hyper_parameter_tuning(rtrain, rvalid, save_path, I_K = None, item_based = False):\n",
    "    table_path = 'tables/'\n",
    "    try:\n",
    "        df = load_dataframe_csv(table_path, save_path)\n",
    "    except:\n",
    "        df = pd.DataFrame(columns=['model', 'k', 'topK'])\n",
    "\n",
    "    num_user = rtrain.shape[0]\n",
    "\n",
    "    for algorithm in ['user_item']:\n",
    "        for k in [10, 50, 100, 200,300]:\n",
    "#         for k in [10, 20, 30, 40, 50, 60, 70, 80, 90, 100, 150, 200, 250, 300, 350, 400, 450, 500, 550, 600, 650, 700, 750, 800, 850, 900, 950, 1000]:\n",
    "\n",
    "#                     format = \"model: {}, k: {}\"\n",
    "#                     progress.section(format.format(algorithm, k))\n",
    "\n",
    "#                     progress.subsection(\"Training\")\n",
    "#                     model = params['models'][algorithm]()\n",
    "#                     model.train(train)\n",
    "                    if item_based:\n",
    "                        similarity = train(I_K)\n",
    "                    else:\n",
    "                        similarity = train(rtrain)\n",
    "                    user_item_prediction_score = predict(rtrain, k, similarity, item_similarity_en= item_based)\n",
    "                    user_item_predict = prediction(user_item_prediction_score, 50, rtrain)\n",
    "                    result = evaluate(user_item_predict, rvalid)\n",
    "#                     progress.subsection(\"Prediction\")\n",
    "#                     prediction_score = model.predict(train, k=k)\n",
    "\n",
    "#                     prediction = predict(prediction_score=prediction_score,\n",
    "#                                          topK=params['topK'][-1],\n",
    "#                                          matrix_Train=train)\n",
    "\n",
    "#                     progress.subsection(\"Evaluation\")\n",
    "#                     result = evaluate(prediction, validation, params['metric'], params['topK'])\n",
    "\n",
    "                    result_dict = {'model': algorithm, 'k': k}\n",
    "\n",
    "                    for name in result.keys():\n",
    "                        result_dict[name] = [round(result[name][0], 4), round(result[name][1], 4)]\n",
    "\n",
    "                    df = df.append(result_dict, ignore_index=True)\n",
    "\n",
    "                    save_dataframe_csv(df, table_path, save_path)\n",
    "                    \n",
    "def save_dataframe_csv(df, path, name):\n",
    "    df.to_csv(path+name, index=False)"
   ]
  },
  {
   "cell_type": "code",
   "execution_count": 28,
   "metadata": {
    "scrolled": true
   },
   "outputs": [
    {
     "name": "stderr",
     "output_type": "stream",
     "text": [
      "100%|█████████████████████████████████████████████████████████████████████████████| 3668/3668 [00:10<00:00, 360.60it/s]\n",
      "100%|████████████████████████████████████████████████████████████████████████████| 6370/6370 [00:03<00:00, 1760.15it/s]\n",
      "100%|████████████████████████████████████████████████████████████████████████████| 6370/6370 [00:01<00:00, 4896.23it/s]\n",
      "100%|████████████████████████████████████████████████████████████████████████████| 6370/6370 [00:01<00:00, 4884.97it/s]\n",
      "100%|████████████████████████████████████████████████████████████████████████████| 6370/6370 [00:01<00:00, 4746.65it/s]\n",
      "100%|████████████████████████████████████████████████████████████████████████████| 6370/6370 [00:01<00:00, 4789.47it/s]\n",
      "100%|████████████████████████████████████████████████████████████████████████████| 6370/6370 [00:01<00:00, 4811.18it/s]\n",
      "100%|████████████████████████████████████████████████████████████████████████████| 6370/6370 [00:01<00:00, 4199.08it/s]\n",
      "100%|█████████████████████████████████████████████████████████████████████████████| 3668/3668 [00:26<00:00, 137.11it/s]\n",
      "100%|████████████████████████████████████████████████████████████████████████████| 6370/6370 [00:03<00:00, 1778.83it/s]\n",
      "100%|████████████████████████████████████████████████████████████████████████████| 6370/6370 [00:01<00:00, 4746.65it/s]\n",
      "100%|████████████████████████████████████████████████████████████████████████████| 6370/6370 [00:01<00:00, 4934.16it/s]\n",
      "100%|████████████████████████████████████████████████████████████████████████████| 6370/6370 [00:01<00:00, 4847.79it/s]\n",
      "100%|████████████████████████████████████████████████████████████████████████████| 6370/6370 [00:01<00:00, 4884.97it/s]\n",
      "100%|████████████████████████████████████████████████████████████████████████████| 6370/6370 [00:01<00:00, 4851.49it/s]\n",
      "100%|████████████████████████████████████████████████████████████████████████████| 6370/6370 [00:01<00:00, 4615.94it/s]\n",
      "100%|██████████████████████████████████████████████████████████████████████████████| 3668/3668 [00:45<00:00, 80.74it/s]\n",
      "100%|████████████████████████████████████████████████████████████████████████████| 6370/6370 [00:03<00:00, 1661.88it/s]\n",
      "100%|████████████████████████████████████████████████████████████████████████████| 6370/6370 [00:01<00:00, 4814.81it/s]\n",
      "100%|████████████████████████████████████████████████████████████████████████████| 6370/6370 [00:01<00:00, 5007.86it/s]\n",
      "100%|████████████████████████████████████████████████████████████████████████████| 6370/6370 [00:01<00:00, 5059.57it/s]\n",
      "100%|████████████████████████████████████████████████████████████████████████████| 6370/6370 [00:01<00:00, 4980.45it/s]\n",
      "100%|████████████████████████████████████████████████████████████████████████████| 6370/6370 [00:01<00:00, 4930.34it/s]\n",
      "100%|████████████████████████████████████████████████████████████████████████████| 6370/6370 [00:01<00:00, 4753.73it/s]\n",
      "100%|██████████████████████████████████████████████████████████████████████████████| 3668/3668 [01:21<00:00, 45.05it/s]\n",
      "100%|████████████████████████████████████████████████████████████████████████████| 6370/6370 [00:03<00:00, 1766.50it/s]\n",
      "100%|████████████████████████████████████████████████████████████████████████████| 6370/6370 [00:01<00:00, 4866.31it/s]\n",
      "100%|████████████████████████████████████████████████████████████████████████████| 6370/6370 [00:01<00:00, 4896.23it/s]\n",
      "100%|████████████████████████████████████████████████████████████████████████████| 6370/6370 [00:01<00:00, 4715.03it/s]\n",
      "100%|████████████████████████████████████████████████████████████████████████████| 6370/6370 [00:01<00:00, 4892.47it/s]\n",
      "100%|████████████████████████████████████████████████████████████████████████████| 6370/6370 [00:01<00:00, 4881.23it/s]\n",
      "100%|████████████████████████████████████████████████████████████████████████████| 6370/6370 [00:01<00:00, 4656.43it/s]\n",
      "100%|██████████████████████████████████████████████████████████████████████████████| 3668/3668 [02:00<00:00, 30.55it/s]\n",
      "100%|████████████████████████████████████████████████████████████████████████████| 6370/6370 [00:03<00:00, 1754.34it/s]\n",
      "100%|████████████████████████████████████████████████████████████████████████████| 6370/6370 [00:01<00:00, 4844.11it/s]\n",
      "100%|████████████████████████████████████████████████████████████████████████████| 6370/6370 [00:01<00:00, 4811.18it/s]\n",
      "100%|████████████████████████████████████████████████████████████████████████████| 6370/6370 [00:00<00:00, 7432.91it/s]\n",
      "100%|████████████████████████████████████████████████████████████████████████████| 6370/6370 [00:00<00:00, 7520.66it/s]\n",
      "100%|████████████████████████████████████████████████████████████████████████████| 6370/6370 [00:00<00:00, 7372.68it/s]\n",
      "100%|████████████████████████████████████████████████████████████████████████████| 6370/6370 [00:00<00:00, 7133.26it/s]\n"
     ]
    }
   ],
   "source": [
    "hyper_parameter_tuning(rtrain, rvalid, 'item_based_knn_tunning.csv', I_K = I_K, item_based= True)"
   ]
  },
  {
   "cell_type": "code",
   "execution_count": 132,
   "metadata": {
    "scrolled": true
   },
   "outputs": [
    {
     "data": {
      "text/plain": [
       "['MAP@5',\n",
       " 'Precision@10',\n",
       " 'Recall@20',\n",
       " 'Precision@15',\n",
       " 'MAP@10',\n",
       " 'R-Precision',\n",
       " 'Recall@50',\n",
       " 'Precision@50',\n",
       " 'MAP@50',\n",
       " 'Precision@20',\n",
       " 'MAP@20',\n",
       " 'NDCG',\n",
       " 'MAP@15',\n",
       " 'Recall@10',\n",
       " 'Recall@5',\n",
       " 'Recall@15',\n",
       " 'Precision@5']"
      ]
     },
     "execution_count": 132,
     "metadata": {},
     "output_type": "execute_result"
    }
   ],
   "source": [
    "user_item_res.keys()"
   ]
  },
  {
   "cell_type": "code",
   "execution_count": 30,
   "metadata": {
    "collapsed": true
   },
   "outputs": [],
   "source": [
    "a = I_K[0].toarray()"
   ]
  },
  {
   "cell_type": "code",
   "execution_count": 31,
   "metadata": {},
   "outputs": [
    {
     "data": {
      "text/plain": [
       "array([10, 11,  6,  1,  2,  7,  1,  6,  2,  1,  5,  3,  2,  6,  1,  1,  1,\n",
       "        1,  1,  1,  1,  1,  1,  1,  1,  8, 10,  2,  1,  8,  1,  7,  1,  2,\n",
       "        1,  1,  1,  1])"
      ]
     },
     "execution_count": 31,
     "metadata": {},
     "output_type": "execute_result"
    }
   ],
   "source": [
    "a[a.nonzero()]"
   ]
  },
  {
   "cell_type": "code",
   "execution_count": 35,
   "metadata": {},
   "outputs": [
    {
     "data": {
      "text/plain": [
       "array([3157, 3571, 1302, ...,  184, 3472,    0], dtype=int64)"
      ]
     },
     "execution_count": 35,
     "metadata": {},
     "output_type": "execute_result"
    }
   ],
   "source": [
    "np.argsort(I_I[0])"
   ]
  },
  {
   "cell_type": "code",
   "execution_count": 37,
   "metadata": {},
   "outputs": [
    {
     "data": {
      "text/plain": [
       "0.9486380093980652"
      ]
     },
     "execution_count": 37,
     "metadata": {},
     "output_type": "execute_result"
    }
   ],
   "source": [
    "I_I[0][3472]"
   ]
  },
  {
   "cell_type": "markdown",
   "metadata": {},
   "source": [
    "## Combined"
   ]
  },
  {
   "cell_type": "markdown",
   "metadata": {},
   "source": [
    "Need to change I_K in order for this to work.\n"
   ]
  },
  {
   "cell_type": "code",
   "execution_count": 38,
   "metadata": {
    "collapsed": true
   },
   "outputs": [],
   "source": [
    "## Utility functions\n",
    "def add_two_matrix(ratio, U_I_matrix,I_K_matrix, shape = (3906, 3000+5791)):\n",
    "    # ratio determine Keywords/User in the matrix\n",
    "    rows = []\n",
    "    cols = []\n",
    "    datas = []\n",
    "    I_U_matrix = U_I_matrix.transpose()\n",
    "    \n",
    "    for i in tqdm(range(I_K_matrix.shape[0])):\n",
    "        nonzero1 = I_K_matrix[i].nonzero()\n",
    "        nonzero2 = I_U_matrix[i].nonzero()\n",
    "        row = [i]*(len(nonzero1[1])+len(nonzero2[1]))\n",
    "        col = nonzero1[1].tolist()+ nonzero2[1].tolist()\n",
    "        data = [ratio]*len(nonzero1[1])+[1-ratio]*len(nonzero2[1]) # Binary representation of I-K/U matrix\n",
    "        \n",
    "        rows.extend(row)\n",
    "        cols.extend(col)\n",
    "        datas.extend(data)\n",
    "    return csr_matrix( (datas,(rows,cols)), shape=shape )\n",
    "\n",
    "def transfer_to_implicit(rating_matrix, threshold = 0):\n",
    "    temp_rating_matrix = sparse.csr_matrix(rating_matrix.shape)\n",
    "    temp_rating_matrix[(rating_matrix > threshold).nonzero()] = 1\n",
    "    rating_matrix = temp_rating_matrix\n",
    "    return rating_matrix"
   ]
  },
  {
   "cell_type": "code",
   "execution_count": 39,
   "metadata": {},
   "outputs": [
    {
     "data": {
      "text/plain": [
       "<6370x3668 sparse matrix of type '<type 'numpy.int64'>'\n",
       "\twith 159829 stored elements in Compressed Sparse Row format>"
      ]
     },
     "execution_count": 39,
     "metadata": {},
     "output_type": "execute_result"
    }
   ],
   "source": [
    "rating_matrix"
   ]
  },
  {
   "cell_type": "code",
   "execution_count": 40,
   "metadata": {
    "scrolled": true
   },
   "outputs": [
    {
     "name": "stderr",
     "output_type": "stream",
     "text": [
      "100%|█████████████████████████████████████████████████████████████████████████████| 3668/3668 [00:04<00:00, 806.69it/s]\n",
      "100%|██████████████████████████████████████████████████████████████████████████████| 3668/3668 [01:20<00:00, 45.36it/s]\n"
     ]
    },
    {
     "ename": "NameError",
     "evalue": "name 'rtrain_implicit' is not defined",
     "output_type": "error",
     "traceback": [
      "\u001b[1;31m---------------------------------------------------------------------------\u001b[0m",
      "\u001b[1;31mNameError\u001b[0m                                 Traceback (most recent call last)",
      "\u001b[1;32m<ipython-input-40-f4da6b675f71>\u001b[0m in \u001b[0;36m<module>\u001b[1;34m()\u001b[0m\n\u001b[0;32m      2\u001b[0m \u001b[0mI_I_combined\u001b[0m \u001b[1;33m=\u001b[0m \u001b[0mtrain\u001b[0m\u001b[1;33m(\u001b[0m\u001b[0mI_K_U\u001b[0m\u001b[1;33m)\u001b[0m\u001b[1;33m\u001b[0m\u001b[0m\n\u001b[0;32m      3\u001b[0m \u001b[0mcombined_prediction_score\u001b[0m \u001b[1;33m=\u001b[0m \u001b[0mpredict\u001b[0m\u001b[1;33m(\u001b[0m\u001b[0mrtrain\u001b[0m\u001b[1;33m,\u001b[0m \u001b[1;36m200\u001b[0m\u001b[1;33m,\u001b[0m \u001b[0mI_I_combined\u001b[0m\u001b[1;33m,\u001b[0m \u001b[0mitem_similarity_en\u001b[0m\u001b[1;33m=\u001b[0m \u001b[0mTrue\u001b[0m\u001b[1;33m)\u001b[0m\u001b[1;33m\u001b[0m\u001b[0m\n\u001b[1;32m----> 4\u001b[1;33m \u001b[0mcombined_predict\u001b[0m \u001b[1;33m=\u001b[0m \u001b[0mprediction\u001b[0m\u001b[1;33m(\u001b[0m\u001b[0mcombined_prediction_score\u001b[0m\u001b[1;33m,\u001b[0m \u001b[1;36m50\u001b[0m\u001b[1;33m,\u001b[0m \u001b[0mrtrain_implicit\u001b[0m\u001b[1;33m)\u001b[0m\u001b[1;33m\u001b[0m\u001b[0m\n\u001b[0m",
      "\u001b[1;31mNameError\u001b[0m: name 'rtrain_implicit' is not defined"
     ]
    }
   ],
   "source": [
    "I_K_U = add_two_matrix(0.3, rtrain, I_K, shape = (3668, 75+6370))\n",
    "I_I_combined = train(I_K_U)\n",
    "combined_prediction_score = predict(rtrain, 200, I_I_combined, item_similarity_en= True)"
   ]
  },
  {
   "cell_type": "code",
   "execution_count": 41,
   "metadata": {},
   "outputs": [
    {
     "name": "stderr",
     "output_type": "stream",
     "text": [
      "100%|████████████████████████████████████████████████████████████████████████████| 6370/6370 [00:03<00:00, 1755.79it/s]\n"
     ]
    }
   ],
   "source": [
    "combined_predict = prediction(combined_prediction_score, 50, rtrain)"
   ]
  },
  {
   "cell_type": "code",
   "execution_count": 42,
   "metadata": {
    "scrolled": true
   },
   "outputs": [
    {
     "name": "stderr",
     "output_type": "stream",
     "text": [
      "100%|████████████████████████████████████████████████████████████████████████████| 6370/6370 [00:01<00:00, 4760.84it/s]\n",
      "100%|████████████████████████████████████████████████████████████████████████████| 6370/6370 [00:01<00:00, 4903.77it/s]\n",
      "100%|████████████████████████████████████████████████████████████████████████████| 6370/6370 [00:01<00:00, 4892.47it/s]\n",
      "100%|████████████████████████████████████████████████████████████████████████████| 6370/6370 [00:01<00:00, 4818.46it/s]\n",
      "100%|████████████████████████████████████████████████████████████████████████████| 6370/6370 [00:01<00:00, 4915.12it/s]\n",
      "100%|████████████████████████████████████████████████████████████████████████████| 6370/6370 [00:01<00:00, 4530.58it/s]\n"
     ]
    }
   ],
   "source": [
    "combined_res = evaluate(combined_predict, rvalid)"
   ]
  },
  {
   "cell_type": "code",
   "execution_count": 43,
   "metadata": {
    "scrolled": true
   },
   "outputs": [
    {
     "data": {
      "text/plain": [
       "{'MAP@10': (0.00040679361272886452, 0.00022115178008677984),\n",
       " 'MAP@15': (0.00039973426963834638, 0.00017892315194170376),\n",
       " 'MAP@20': (0.00039346429045003002, 0.00015427611018432321),\n",
       " 'MAP@5': (0.00045163868904876095, 0.00031571304560911486),\n",
       " 'MAP@50': (0.00037014980068845999, 9.535978403503597e-05),\n",
       " 'NDCG': (0.0036179761762986391, 0.00076182015834055656),\n",
       " 'Precision@10': (0.0003597122302158274, 0.00014702170123510666),\n",
       " 'Precision@15': (0.00039968025579536375, 0.00012638377198138698),\n",
       " 'Precision@20': (0.0003597122302158274, 0.00010377221875087773),\n",
       " 'Precision@5': (0.0003597122302158274, 0.00020810765275028895),\n",
       " 'Precision@50': (0.00041966426858513193, 7.039590865693624e-05),\n",
       " 'R-Precision': (0.00029976019184652276, 0.00030055787611668724),\n",
       " 'Recall@10': (0.0021482813749000799, 0.00098177354787917716),\n",
       " 'Recall@15': (0.0038469224620303753, 0.0013458877288426931),\n",
       " 'Recall@20': (0.0042665867306155075, 0.0013835504455394737),\n",
       " 'Recall@5': (0.0010991207034372502, 0.00070099255937069343),\n",
       " 'Recall@50': (0.0123101518784972, 0.0023846678445047474)}"
      ]
     },
     "execution_count": 43,
     "metadata": {},
     "output_type": "execute_result"
    }
   ],
   "source": [
    "combined_res"
   ]
  },
  {
   "cell_type": "markdown",
   "metadata": {},
   "source": [
    "1. Try if I can find similar performance with already generated Rtrain/Rval/Rtest\n",
    "1. Try if I_K beat U_I with large dataset\n",
    "2. Try change I_K to implicit and test both I_K and I_U_K \n",
    "2. Try tune I_K even more"
   ]
  },
  {
   "cell_type": "markdown",
   "metadata": {},
   "source": [
    "## Get larger Keyphrase "
   ]
  },
  {
   "cell_type": "code",
   "execution_count": 78,
   "metadata": {},
   "outputs": [
    {
     "name": "stdout",
     "output_type": "stream",
     "text": [
      "('stemming:', u'invers')\n",
      "('lemmatization:', 'inversely')\n"
     ]
    }
   ],
   "source": [
    "#Stemming and Lemmatisation\n",
    "from nltk.stem.porter import PorterStemmer\n",
    "from nltk.stem.wordnet import WordNetLemmatizer\n",
    "lem = WordNetLemmatizer()\n",
    "stem = PorterStemmer()\n",
    "word = 'inversely'\n",
    "print ('stemming:', stem.stem(word))\n",
    "print ('lemmatization:', lem.lemmatize(word, \"v\"))\n",
    "import re \n",
    "import nltk\n",
    "from nltk.corpus import stopwords\n",
    "from nltk.stem.porter import PorterStemmer\n",
    "from nltk.tokenize import RegexpTokenizer\n",
    "from nltk.stem.wordnet import WordNetLemmatizer"
   ]
  },
  {
   "cell_type": "code",
   "execution_count": 79,
   "metadata": {
    "collapsed": true
   },
   "outputs": [],
   "source": [
    "stop_words = set(stopwords.words(\"english\"))"
   ]
  },
  {
   "cell_type": "code",
   "execution_count": 80,
   "metadata": {
    "collapsed": true
   },
   "outputs": [],
   "source": [
    "def get_corpus(df, review_name = 'conca_review'):\n",
    "    corpus = []\n",
    "    for i in tqdm(range(len(df))):\n",
    "        corpus.append(df[review_name][i])\n",
    "    return corpus"
   ]
  },
  {
   "cell_type": "code",
   "execution_count": 81,
   "metadata": {
    "collapsed": true
   },
   "outputs": [],
   "source": [
    "# Get corpus and CountVector\n",
    "from sklearn.feature_extraction.text import CountVectorizer\n",
    "import re"
   ]
  },
  {
   "cell_type": "code",
   "execution_count": 83,
   "metadata": {},
   "outputs": [
    {
     "name": "stderr",
     "output_type": "stream",
     "text": [
      "100%|███████████████████████████████████████████████████████████████████████| 641773/641773 [00:07<00:00, 88605.96it/s]\n"
     ]
    }
   ],
   "source": [
    "corpus = get_corpus(df_train)"
   ]
  },
  {
   "cell_type": "code",
   "execution_count": 24,
   "metadata": {
    "collapsed": true
   },
   "outputs": [],
   "source": [
    "rtrain = load_npz('beer/Rtrain.npz')"
   ]
  },
  {
   "cell_type": "code",
   "execution_count": 28,
   "metadata": {
    "collapsed": true,
    "scrolled": true
   },
   "outputs": [],
   "source": [
    "rvalid = load_npz('beer/Rvalid.npz')"
   ]
  },
  {
   "cell_type": "code",
   "execution_count": 139,
   "metadata": {
    "collapsed": true
   },
   "outputs": [],
   "source": [
    "cv=CountVectorizer(max_df=0.9,stop_words=stop_words, max_features=1500, ngram_range=(1,1))\n",
    "X1500=cv.fit_transform(corpus)"
   ]
  },
  {
   "cell_type": "code",
   "execution_count": 91,
   "metadata": {},
   "outputs": [
    {
     "data": {
      "text/plain": [
       "<641773x75 sparse matrix of type '<type 'numpy.int64'>'\n",
       "\twith 13057442 stored elements in Compressed Sparse Row format>"
      ]
     },
     "execution_count": 91,
     "metadata": {},
     "output_type": "execute_result"
    }
   ],
   "source": [
    "X"
   ]
  },
  {
   "cell_type": "code",
   "execution_count": 88,
   "metadata": {},
   "outputs": [
    {
     "data": {
      "text/plain": [
       "<641773x750 sparse matrix of type '<type 'numpy.int64'>'\n",
       "\twith 29679349 stored elements in Compressed Sparse Row format>"
      ]
     },
     "execution_count": 88,
     "metadata": {},
     "output_type": "execute_result"
    }
   ],
   "source": [
    "X750"
   ]
  },
  {
   "cell_type": "code",
   "execution_count": 110,
   "metadata": {},
   "outputs": [
    {
     "data": {
      "text/plain": [
       "<641773x5000 sparse matrix of type '<type 'numpy.int64'>'\n",
       "\twith 36884141 stored elements in Compressed Sparse Row format>"
      ]
     },
     "execution_count": 110,
     "metadata": {},
     "output_type": "execute_result"
    }
   ],
   "source": [
    "X5000"
   ]
  },
  {
   "cell_type": "code",
   "execution_count": 140,
   "metadata": {},
   "outputs": [
    {
     "data": {
      "text/plain": [
       "<641773x1500 sparse matrix of type '<type 'numpy.int64'>'\n",
       "\twith 33317676 stored elements in Compressed Sparse Row format>"
      ]
     },
     "execution_count": 140,
     "metadata": {},
     "output_type": "execute_result"
    }
   ],
   "source": [
    "X1500"
   ]
  },
  {
   "cell_type": "code",
   "execution_count": 22,
   "metadata": {
    "collapsed": true
   },
   "outputs": [],
   "source": [
    "def get_I_K_fromX(df, X, row_name = 'business_num_id', binary = True, shape = (121994,6000)):\n",
    "    rows = []\n",
    "    cols = []\n",
    "    vals = []\n",
    "    for i in tqdm(range(X.shape[0])):\n",
    "        arr = X[i].toarray() \n",
    "        nonzero_element = arr.nonzero()[1]  # Get nonzero element in each line\n",
    "        length_of_nonzero = len(nonzero_element) \n",
    "        # df[row_name][i] is the item idex\n",
    "        rows.extend(np.array([df[row_name][i]]*length_of_nonzero)) ## Item index\n",
    "        cols.extend(nonzero_element) ## Keyword Index\n",
    "        if binary:\n",
    "            vals.extend(np.array([1]*length_of_nonzero))\n",
    "        else:\n",
    "            vals.extend(arr[arr.nonzero()])    \n",
    "    return csr_matrix((vals, (rows, cols)), shape=shape)"
   ]
  },
  {
   "cell_type": "code",
   "execution_count": 141,
   "metadata": {
    "scrolled": true
   },
   "outputs": [
    {
     "name": "stderr",
     "output_type": "stream",
     "text": [
      "100%|████████████████████████████████████████████████████████████████████████| 641773/641773 [01:31<00:00, 7046.95it/s]\n"
     ]
    }
   ],
   "source": [
    "I_K1500 = get_I_K_fromX(df_train,X1500, binary=False, row_name='ItemIndex',shape = (3668,5000))"
   ]
  },
  {
   "cell_type": "code",
   "execution_count": 113,
   "metadata": {
    "collapsed": true
   },
   "outputs": [],
   "source": [
    "save_npz('I_K5000', I_K5000)"
   ]
  },
  {
   "cell_type": "code",
   "execution_count": 114,
   "metadata": {
    "collapsed": true
   },
   "outputs": [],
   "source": [
    "save_npz('I_K750', I_K750)"
   ]
  },
  {
   "cell_type": "code",
   "execution_count": null,
   "metadata": {
    "collapsed": true
   },
   "outputs": [],
   "source": [
    "save_npz('I_K1500', I_K750)"
   ]
  },
  {
   "cell_type": "code",
   "execution_count": 96,
   "metadata": {},
   "outputs": [
    {
     "data": {
      "text/plain": [
       "<3668x750 sparse matrix of type '<type 'numpy.int64'>'\n",
       "\twith 2258425 stored elements in Compressed Sparse Row format>"
      ]
     },
     "execution_count": 96,
     "metadata": {},
     "output_type": "execute_result"
    }
   ],
   "source": [
    "I_K750"
   ]
  },
  {
   "cell_type": "code",
   "execution_count": 115,
   "metadata": {},
   "outputs": [
    {
     "data": {
      "text/plain": [
       "<3668x5000 sparse matrix of type '<type 'numpy.int64'>'\n",
       "\twith 5936593 stored elements in Compressed Sparse Row format>"
      ]
     },
     "execution_count": 115,
     "metadata": {},
     "output_type": "execute_result"
    }
   ],
   "source": [
    "I_K5000"
   ]
  },
  {
   "cell_type": "code",
   "execution_count": 142,
   "metadata": {},
   "outputs": [
    {
     "data": {
      "text/plain": [
       "<3668x5000 sparse matrix of type '<type 'numpy.int64'>'\n",
       "\twith 3651979 stored elements in Compressed Sparse Row format>"
      ]
     },
     "execution_count": 142,
     "metadata": {},
     "output_type": "execute_result"
    }
   ],
   "source": [
    "I_K1500"
   ]
  },
  {
   "cell_type": "code",
   "execution_count": 143,
   "metadata": {
    "scrolled": false
   },
   "outputs": [
    {
     "name": "stderr",
     "output_type": "stream",
     "text": [
      "100%|████████████████████████████████████████████████████████████████████████| 641773/641773 [01:28<00:00, 7254.05it/s]\n"
     ]
    }
   ],
   "source": [
    "U_K1500 = get_I_K_fromX(df_train,X1500, binary=False, row_name='UserIndex',shape = (6370,5000))"
   ]
  },
  {
   "cell_type": "code",
   "execution_count": 117,
   "metadata": {
    "collapsed": true
   },
   "outputs": [],
   "source": [
    "save_npz('U_K5000', U_K5000)"
   ]
  },
  {
   "cell_type": "code",
   "execution_count": 100,
   "metadata": {},
   "outputs": [
    {
     "data": {
      "text/plain": [
       "<6370x3000 sparse matrix of type '<type 'numpy.int64'>'\n",
       "\twith 2820970 stored elements in Compressed Sparse Row format>"
      ]
     },
     "execution_count": 100,
     "metadata": {},
     "output_type": "execute_result"
    }
   ],
   "source": [
    "U_K750"
   ]
  },
  {
   "cell_type": "code",
   "execution_count": 118,
   "metadata": {},
   "outputs": [
    {
     "data": {
      "text/plain": [
       "<6370x5000 sparse matrix of type '<type 'numpy.int64'>'\n",
       "\twith 5856594 stored elements in Compressed Sparse Row format>"
      ]
     },
     "execution_count": 118,
     "metadata": {},
     "output_type": "execute_result"
    }
   ],
   "source": [
    "U_K5000"
   ]
  },
  {
   "cell_type": "code",
   "execution_count": 144,
   "metadata": {},
   "outputs": [
    {
     "data": {
      "text/plain": [
       "<6370x5000 sparse matrix of type '<type 'numpy.int64'>'\n",
       "\twith 4050822 stored elements in Compressed Sparse Row format>"
      ]
     },
     "execution_count": 144,
     "metadata": {},
     "output_type": "execute_result"
    }
   ],
   "source": [
    "U_K1500"
   ]
  },
  {
   "cell_type": "code",
   "execution_count": 47,
   "metadata": {},
   "outputs": [
    {
     "name": "stderr",
     "output_type": "stream",
     "text": [
      "100%|█████████████████████████████████████████████████████████████████████████████| 3668/3668 [00:22<00:00, 164.60it/s]\n",
      "100%|████████████████████████████████████████████████████████████████████████████| 6370/6370 [00:02<00:00, 2965.55it/s]\n",
      "100%|████████████████████████████████████████████████████████████████████████████| 6370/6370 [00:01<00:00, 5796.18it/s]\n",
      "100%|████████████████████████████████████████████████████████████████████████████| 6370/6370 [00:01<00:00, 5925.58it/s]\n",
      "100%|████████████████████████████████████████████████████████████████████████████| 6370/6370 [00:01<00:00, 5806.75it/s]\n",
      "100%|████████████████████████████████████████████████████████████████████████████| 6370/6370 [00:01<00:00, 5806.75it/s]\n",
      "100%|████████████████████████████████████████████████████████████████████████████| 6370/6370 [00:01<00:00, 5553.62it/s]\n",
      "100%|████████████████████████████████████████████████████████████████████████████| 6370/6370 [00:01<00:00, 5063.59it/s]\n"
     ]
    }
   ],
   "source": [
    "I_I = train(I_K)\n",
    "item_based_prediction_score = predict(rtrain, 100, I_I, item_similarity_en= True)\n",
    "item_based_predict = prediction(item_based_prediction_score, 50, rtrain)\n",
    "item_based_res3000 = evaluate(item_based_predict, rvalid)"
   ]
  },
  {
   "cell_type": "code",
   "execution_count": 32,
   "metadata": {},
   "outputs": [
    {
     "data": {
      "text/plain": [
       "{'MAP@10': (0.012257297946319131, 0.0012345550264786004),\n",
       " 'MAP@15': (0.011561416462484578, 0.0010299391586485126),\n",
       " 'MAP@20': (0.011172197911233655, 0.0009052524737597343),\n",
       " 'MAP@5': (0.013544037821747503, 0.0016795407276965935),\n",
       " 'MAP@50': (0.009851991690077999, 0.0006024329263627383),\n",
       " 'NDCG': (0.03036794781815371, 0.0017408316332245687),\n",
       " 'Precision@10': (0.010646121519873928, 0.0008871305915328645),\n",
       " 'Precision@15': (0.010085799334617406, 0.0007331559760569813),\n",
       " 'Precision@20': (0.009884433549290843, 0.0006363352616858814),\n",
       " 'Precision@5': (0.012081947119593768, 0.0012571530710625744),\n",
       " 'Precision@50': (0.00833129049203292, 0.0004178737966964705),\n",
       " 'R-Precision': (0.010566064486017419, 0.0010758446631350643),\n",
       " 'Recall@10': (0.018115843733737758, 0.0022331758885910623),\n",
       " 'Recall@15': (0.025011070563634115, 0.0026040777674045806),\n",
       " 'Recall@20': (0.0315957917507434, 0.002862300095017566),\n",
       " 'Recall@5': (0.00998045633316055, 0.0015656795588398769),\n",
       " 'Recall@50': (0.06454957599052848, 0.003962933370238186)}"
      ]
     },
     "execution_count": 32,
     "metadata": {},
     "output_type": "execute_result"
    }
   ],
   "source": [
    "item_based_res"
   ]
  },
  {
   "cell_type": "code",
   "execution_count": 31,
   "metadata": {
    "scrolled": true
   },
   "outputs": [
    {
     "data": {
      "text/plain": [
       "{'MAP@10': (0.017991046240477163, 0.0014869876595738748),\n",
       " 'MAP@15': (0.016964206276936098, 0.0012471364615973357),\n",
       " 'MAP@20': (0.016234061373556784, 0.0011011717453250388),\n",
       " 'MAP@5': (0.01941166170548065, 0.0019754550187593297),\n",
       " 'MAP@50': (0.013945410779668136, 0.0007453846574120812),\n",
       " 'NDCG': (0.04400215037660896, 0.0022644785370570767),\n",
       " 'Precision@10': (0.015759061460339695, 0.0010866355059710494),\n",
       " 'Precision@15': (0.014521683301231542, 0.0008866448854694443),\n",
       " 'Precision@20': (0.0138329539485204, 0.0007790373921797244),\n",
       " 'Precision@5': (0.01765014883558046, 0.0015290707020443447),\n",
       " 'Precision@50': (0.011465592715811592, 0.0005204675810102093),\n",
       " 'R-Precision': (0.016551682800371528, 0.0016000139316329407),\n",
       " 'Recall@10': (0.02846431347298235, 0.0028660771861643637),\n",
       " 'Recall@15': (0.03801597457814076, 0.003254958335878828),\n",
       " 'Recall@20': (0.04662586317584471, 0.0035250217486709275),\n",
       " 'Recall@5': (0.016572431721391685, 0.002192128277038121),\n",
       " 'Recall@50': (0.0911042557968805, 0.004714287065623822)}"
      ]
     },
     "execution_count": 31,
     "metadata": {},
     "output_type": "execute_result"
    }
   ],
   "source": [
    "item_based_res75"
   ]
  },
  {
   "cell_type": "code",
   "execution_count": 37,
   "metadata": {},
   "outputs": [
    {
     "data": {
      "text/plain": [
       "{'MAP@10': (0.017619179639403768, 0.0015029890664105914),\n",
       " 'MAP@15': (0.016772514015553762, 0.0012614256488190814),\n",
       " 'MAP@20': (0.016052700720240835, 0.0011100431225007932),\n",
       " 'MAP@5': (0.019039280919862255, 0.0019983608543342104),\n",
       " 'MAP@50': (0.013668076519028023, 0.0007372115645110378),\n",
       " 'NDCG': (0.04287477126452545, 0.0021651516647857357),\n",
       " 'Precision@10': (0.01574155139205043, 0.001092119625611785),\n",
       " 'Precision@15': (0.014603396953248119, 0.0008850400505197317),\n",
       " 'Precision@20': (0.013622833129049203, 0.0007686628521489984),\n",
       " 'Precision@5': (0.01751006828926633, 0.0015465170968568228),\n",
       " 'Precision@50': (0.011062861145158465, 0.0005040812076977075),\n",
       " 'R-Precision': (0.01609240732055417, 0.0015108287103228043),\n",
       " 'Recall@10': (0.02694689094229889, 0.0026661888631985898),\n",
       " 'Recall@15': (0.037594731540320246, 0.0031285869850064423),\n",
       " 'Recall@20': (0.04615567499698252, 0.003447128886913384),\n",
       " 'Recall@5': (0.016042986947980422, 0.0020854932682390103),\n",
       " 'Recall@50': (0.09025942884761218, 0.004693146467784906)}"
      ]
     },
     "execution_count": 37,
     "metadata": {},
     "output_type": "execute_result"
    }
   ],
   "source": [
    "item_based_res750"
   ]
  },
  {
   "cell_type": "code",
   "execution_count": 48,
   "metadata": {},
   "outputs": [
    {
     "data": {
      "text/plain": [
       "{'MAP@10': (0.01976801938892641, 0.0015590097720437385),\n",
       " 'MAP@15': (0.018514711486170076, 0.001305560652211188),\n",
       " 'MAP@20': (0.017557230326300577, 0.0011499858053791272),\n",
       " 'MAP@5': (0.02162960368878772, 0.002068661669941772),\n",
       " 'MAP@50': (0.014426404493735662, 0.0007621976719994915),\n",
       " 'NDCG': (0.04473904173034337, 0.002223276956805617),\n",
       " 'Precision@10': (0.017089826650323936, 0.00112719688733466),\n",
       " 'Precision@15': (0.015560614019728011, 0.000913971411186608),\n",
       " 'Precision@20': (0.01413938014358256, 0.000782320862125058),\n",
       " 'Precision@5': (0.019926457713185082, 0.0016213000317906318),\n",
       " 'Precision@50': (0.011265977937313956, 0.0005112883078370813),\n",
       " 'R-Precision': (0.017031337131251996, 0.00151404383743766),\n",
       " 'Recall@10': (0.030571579150129348, 0.0028730616511561356),\n",
       " 'Recall@15': (0.040335757248167084, 0.0032529199387760213),\n",
       " 'Recall@20': (0.048177782683731796, 0.0035565708122178357),\n",
       " 'Recall@5': (0.018182772590266613, 0.0022786123787694305),\n",
       " 'Recall@50': (0.09160603208786464, 0.004715478376821333)}"
      ]
     },
     "execution_count": 48,
     "metadata": {},
     "output_type": "execute_result"
    }
   ],
   "source": [
    "item_based_res3000"
   ]
  },
  {
   "cell_type": "code",
   "execution_count": 41,
   "metadata": {
    "scrolled": true
   },
   "outputs": [
    {
     "data": {
      "text/plain": [
       "{'MAP@10': (0.045144826330695706, 0.002354497505081906),\n",
       " 'MAP@15': (0.042265773714731864, 0.0019824373381772792),\n",
       " 'MAP@20': (0.040129338606794795, 0.0017567965943763916),\n",
       " 'MAP@5': (0.04956399929959726, 0.003133599222210933),\n",
       " 'MAP@50': (0.032943936395371624, 0.0012118312514037895),\n",
       " 'NDCG': (0.10093614993594359, 0.003179003332122599),\n",
       " 'Precision@10': (0.03883733146559272, 0.0017160204191020419),\n",
       " 'Precision@15': (0.035171890503706296, 0.0014211672707212524),\n",
       " 'Precision@20': (0.032708807564349504, 0.0012423089296096815),\n",
       " 'Precision@5': (0.044440553318157945, 0.002423972508292176),\n",
       " 'Precision@50': (0.024941341271230957, 0.0008480003467919996),\n",
       " 'R-Precision': (0.03997492992806294, 0.002317948843344031),\n",
       " 'Recall@10': (0.06845154159235434, 0.0040585896263153525),\n",
       " 'Recall@15': (0.09096277675804605, 0.004630203266326043),\n",
       " 'Recall@20': (0.11247720176840045, 0.005101760514228912),\n",
       " 'Recall@5': (0.040952551758442035, 0.0032340960406314727),\n",
       " 'Recall@50': (0.19980217392786573, 0.006326497493193988)}"
      ]
     },
     "execution_count": 41,
     "metadata": {},
     "output_type": "execute_result"
    }
   ],
   "source": [
    "user_item_res"
   ]
  },
  {
   "cell_type": "code",
   "execution_count": 49,
   "metadata": {},
   "outputs": [
    {
     "data": {
      "text/plain": [
       "<6370x3668 sparse matrix of type '<type 'numpy.float32'>'\n",
       "\twith 167511 stored elements in Compressed Sparse Row format>"
      ]
     },
     "execution_count": 49,
     "metadata": {},
     "output_type": "execute_result"
    }
   ],
   "source": [
    "rtrain"
   ]
  },
  {
   "cell_type": "code",
   "execution_count": 68,
   "metadata": {
    "scrolled": true
   },
   "outputs": [
    {
     "name": "stderr",
     "output_type": "stream",
     "text": [
      "100%|████████████████████████████████████████████████████████████████████████| 641773/641773 [01:06<00:00, 9621.93it/s]\n"
     ]
    }
   ],
   "source": [
    "U_K = get_I_K_fromX(df_train,X75, row_name='UserIndex',shape = (6370,3000))"
   ]
  },
  {
   "cell_type": "code",
   "execution_count": 69,
   "metadata": {
    "scrolled": true
   },
   "outputs": [
    {
     "name": "stderr",
     "output_type": "stream",
     "text": [
      "100%|█████████████████████████████████████████████████████████████████████████████| 6370/6370 [00:21<00:00, 298.26it/s]\n",
      "100%|████████████████████████████████████████████████████████████████████████████| 6370/6370 [00:01<00:00, 3428.42it/s]\n",
      "100%|████████████████████████████████████████████████████████████████████████████| 6370/6370 [00:01<00:00, 5865.56it/s]\n",
      "100%|████████████████████████████████████████████████████████████████████████████| 6370/6370 [00:01<00:00, 5849.40it/s]\n",
      "100%|████████████████████████████████████████████████████████████████████████████| 6370/6370 [00:01<00:00, 5854.78it/s]\n",
      "100%|████████████████████████████████████████████████████████████████████████████| 6370/6370 [00:01<00:00, 5828.00it/s]\n",
      "100%|████████████████████████████████████████████████████████████████████████████| 6370/6370 [00:01<00:00, 5801.46it/s]\n",
      "100%|████████████████████████████████████████████████████████████████████████████| 6370/6370 [00:01<00:00, 5191.52it/s]\n"
     ]
    }
   ],
   "source": [
    "U_U = train(U_K)\n",
    "user_based_prediction_score = predict(rtrain, 100, U_U, item_similarity_en= False)\n",
    "user_based_predict = prediction(user_based_prediction_score, 50, rtrain)\n",
    "user_based_res75 = evaluate(user_based_predict, rvalid)"
   ]
  },
  {
   "cell_type": "code",
   "execution_count": 70,
   "metadata": {},
   "outputs": [
    {
     "data": {
      "text/plain": [
       "{'MAP@10': (0.0275064967912105, 0.0018156430302940286),\n",
       " 'MAP@15': (0.026319282512593665, 0.001530283656584368),\n",
       " 'MAP@20': (0.025362228176172386, 0.0013588372235038583),\n",
       " 'MAP@5': (0.02921788361641277, 0.0024008746050957707),\n",
       " 'MAP@50': (0.022092810723263818, 0.0009415496598072742),\n",
       " 'NDCG': (0.06959200705100783, 0.0025790311726682498),\n",
       " 'Precision@10': (0.024864296970758187, 0.0013472834954877417),\n",
       " 'Precision@15': (0.023195003793848135, 0.001109670042827332),\n",
       " 'Precision@20': (0.022132726317632637, 0.0009929875445491103),\n",
       " 'Precision@5': (0.027385746804412543, 0.001889158995464853),\n",
       " 'Precision@50': (0.018182454911574157, 0.0006785318323012479),\n",
       " 'R-Precision': (0.024283658684571233, 0.0017296679054643591),\n",
       " 'Recall@10': (0.04343428093714735, 0.0033476891411462605),\n",
       " 'Recall@15': (0.061021502223511596, 0.003952847924610231),\n",
       " 'Recall@20': (0.07612098962109112, 0.004374829787968112),\n",
       " 'Recall@5': (0.024784714124989775, 0.0026296878806785972),\n",
       " 'Recall@50': (0.14855396919473482, 0.005762634834039867)}"
      ]
     },
     "execution_count": 70,
     "metadata": {},
     "output_type": "execute_result"
    }
   ],
   "source": [
    "user_based_res75"
   ]
  },
  {
   "cell_type": "code",
   "execution_count": 66,
   "metadata": {},
   "outputs": [
    {
     "data": {
      "text/plain": [
       "{'MAP@10': (0.02946533840291501, 0.0018426257387044733),\n",
       " 'MAP@15': (0.028044773277657187, 0.001551778177532631),\n",
       " 'MAP@20': (0.026904716509549707, 0.001374140519084765),\n",
       " 'MAP@5': (0.03168155022471254, 0.0024543725776863946),\n",
       " 'MAP@50': (0.02314437756365863, 0.0009472330714907702),\n",
       " 'NDCG': (0.07435153418521169, 0.0027046805809138774),\n",
       " 'Precision@10': (0.025949921204692698, 0.0013506086267753565),\n",
       " 'Precision@15': (0.024537442362691887, 0.0011328302371046938),\n",
       " 'Precision@20': (0.02287690421992646, 0.0009855800602207856),\n",
       " 'Precision@5': (0.02941691472596743, 0.0019174847810802893),\n",
       " 'Precision@50': (0.018882857643144808, 0.0006858180679522091),\n",
       " 'R-Precision': (0.028407526259754394, 0.0020410478125571893),\n",
       " 'Recall@10': (0.04667103424061802, 0.0034260790631356467),\n",
       " 'Recall@15': (0.06358967480608335, 0.003886318046289662),\n",
       " 'Recall@20': (0.07867013620878373, 0.0043359254341710845),\n",
       " 'Recall@5': (0.026691267104438997, 0.0025806494367606996),\n",
       " 'Recall@50': (0.1587641406120259, 0.005944701256293045)}"
      ]
     },
     "execution_count": 66,
     "metadata": {},
     "output_type": "execute_result"
    }
   ],
   "source": [
    "user_based_res750"
   ]
  },
  {
   "cell_type": "code",
   "execution_count": 52,
   "metadata": {},
   "outputs": [
    {
     "data": {
      "text/plain": [
       "{'MAP@10': (0.02974537442362692, 0.0018632660506386599),\n",
       " 'MAP@15': (0.028267185158272534, 0.0015706152579902275),\n",
       " 'MAP@20': (0.027139625024049967, 0.001390941617537062),\n",
       " 'MAP@5': (0.031615011965213324, 0.0024798896544236657),\n",
       " 'MAP@50': (0.02331262634689437, 0.0009567897797934154),\n",
       " 'NDCG': (0.07487032972553509, 0.0027203133697012364),\n",
       " 'Precision@10': (0.026912974960602343, 0.0013883630975664472),\n",
       " 'Precision@15': (0.02451409560497286, 0.0011264885424188734),\n",
       " 'Precision@20': (0.023095780073542294, 0.000994381981748592),\n",
       " 'Precision@5': (0.02934687445281037, 0.0019247269552682598),\n",
       " 'Precision@50': (0.019061460339695326, 0.0006936032876712233),\n",
       " 'R-Precision': (0.027941033855279757, 0.0019820565641806955),\n",
       " 'Recall@10': (0.048080167496898196, 0.0034748155450796217),\n",
       " 'Recall@15': (0.06490903998957158, 0.003986161229945652),\n",
       " 'Recall@20': (0.08057788371214346, 0.004414870896976773),\n",
       " 'Recall@5': (0.02698460589678084, 0.002642747214667879),\n",
       " 'Recall@50': (0.1591413191972895, 0.005895225333403084)}"
      ]
     },
     "execution_count": 52,
     "metadata": {},
     "output_type": "execute_result"
    }
   ],
   "source": [
    "user_based_res3000"
   ]
  },
  {
   "cell_type": "code",
   "execution_count": 60,
   "metadata": {},
   "outputs": [
    {
     "data": {
      "text/plain": [
       "{'MAP@10': (0.031344898316532005, 0.0019419718247370961),\n",
       " 'MAP@15': (0.029866232135536987, 0.0016325577177255409),\n",
       " 'MAP@20': (0.028656128642907317, 0.0014423906282694256),\n",
       " 'MAP@5': (0.033376524835113525, 0.002590995553761898),\n",
       " 'MAP@50': (0.024320038944187366, 0.0009847994668677619),\n",
       " 'NDCG': (0.07721138347289283, 0.0028333472139054983),\n",
       " 'Precision@10': (0.028383820696900722, 0.0014345802902826993),\n",
       " 'Precision@15': (0.02613669526644487, 0.0011749008756399859),\n",
       " 'Precision@20': (0.024505340570828225, 0.001029564088716077),\n",
       " 'Precision@5': (0.030887760462265802, 0.002026027617556462),\n",
       " 'Precision@50': (0.019355629486955, 0.0006955690047862636),\n",
       " 'R-Precision': (0.028883717093828115, 0.002038446870856928),\n",
       " 'Recall@10': (0.052008110922374604, 0.0036721612954724284),\n",
       " 'Recall@15': (0.07063100178823213, 0.004204104035231979),\n",
       " 'Recall@20': (0.08660429125621157, 0.004636511047404981),\n",
       " 'Recall@5': (0.029146689761132605, 0.002806545567276444),\n",
       " 'Recall@50': (0.15816837853808208, 0.005809350841461786)}"
      ]
     },
     "execution_count": 60,
     "metadata": {},
     "output_type": "execute_result"
    }
   ],
   "source": [
    "user_based_res"
   ]
  },
  {
   "cell_type": "markdown",
   "metadata": {},
   "source": [
    "1. Other dataset\n",
    "2. Better graph/table representation\n"
   ]
  },
  {
   "cell_type": "code",
   "execution_count": 73,
   "metadata": {
    "collapsed": true
   },
   "outputs": [],
   "source": [
    "def get_res(rtrain, rvalid, k=100, topK = 50, I_K = None, U_K = None, base = 0):\n",
    "    \"\"\"\n",
    "    base = 0 means regular user_item KNN\n",
    "    base = 1 means keyphrases-item_based similarity KNN\n",
    "    base = 2 means keyphrases-user_based similarity KNN\n",
    "    \"\"\"\n",
    "    if base == 0:\n",
    "        similarity = train(rtrain)\n",
    "    elif base == 1:\n",
    "        similarity = train(I_K)\n",
    "    elif base == 2:\n",
    "        similarity = train(U_K)\n",
    "    item_similarity_en = False\n",
    "    if base == 1:\n",
    "        item_similarity_en = True\n",
    "    prediction_score = predict(rtrain, k, similarity, item_similarity_en= item_similarity_en)\n",
    "    predict_res = prediction(prediction_score, topK, rtrain)\n",
    "    res = evaluate(predict_res, rvalid)\n",
    "    return res"
   ]
  },
  {
   "cell_type": "code",
   "execution_count": 75,
   "metadata": {},
   "outputs": [
    {
     "data": {
      "text/plain": [
       "<3668x3000 sparse matrix of type '<type 'numpy.int32'>'\n",
       "\twith 5101490 stored elements in Compressed Sparse Row format>"
      ]
     },
     "execution_count": 75,
     "metadata": {},
     "output_type": "execute_result"
    }
   ],
   "source": [
    "I_K"
   ]
  },
  {
   "cell_type": "code",
   "execution_count": 76,
   "metadata": {
    "scrolled": true
   },
   "outputs": [
    {
     "data": {
      "text/plain": [
       "<6370x3000 sparse matrix of type '<type 'numpy.int32'>'\n",
       "\twith 444550 stored elements in Compressed Sparse Row format>"
      ]
     },
     "execution_count": 76,
     "metadata": {},
     "output_type": "execute_result"
    }
   ],
   "source": [
    "U_K"
   ]
  },
  {
   "cell_type": "code",
   "execution_count": 122,
   "metadata": {
    "collapsed": true
   },
   "outputs": [],
   "source": [
    "def get_res(similarity, rtrain, rvalid, k=100, topK = 50, I_K = None, U_K = None, base = 0):\n",
    "    \"\"\"\n",
    "    base = 0 means regular user_item KNN\n",
    "    base = 1 means keyphrases-item_based similarity KNN\n",
    "    base = 2 means keyphrases-user_based similarity KNN\n",
    "    \"\"\"\n",
    "    item_similarity_en = False\n",
    "    if base == 1:\n",
    "        item_similarity_en = True\n",
    "    prediction_score = predict(rtrain, k, similarity, item_similarity_en= item_similarity_en)\n",
    "    predict_res = prediction(prediction_score, topK, rtrain)\n",
    "    res = evaluate(predict_res, rvalid)\n",
    "    return res"
   ]
  },
  {
   "cell_type": "code",
   "execution_count": 146,
   "metadata": {
    "collapsed": true
   },
   "outputs": [],
   "source": [
    "def hyper_parameter_tuning(rtrain, rvalid, save_path, I_K, U_K):\n",
    "    table_path = 'beer/tables/'\n",
    "    try:\n",
    "        df = load_dataframe_csv(table_path, save_path)\n",
    "    except:\n",
    "        df = pd.DataFrame(columns=['model', 'k', 'topK'])\n",
    "\n",
    "    num_user = rtrain.shape[0]\n",
    "\n",
    "    for algorithm in ['user_based']:\n",
    "        \n",
    "        if algorithm == 'user_item':\n",
    "            similarity = train(rtrain)\n",
    "        elif algorithm == 'item_based':\n",
    "            similarity = train(I_K)\n",
    "        elif algorithm == 'user_based':\n",
    "            similarity = train(U_K)\n",
    "            \n",
    "        for k in [10, 20, 30, 40, 50, 60, 70, 80, 90, 100, 150, 200, 250, 300, 350, 400, 450, 500, 600, 700, 800, 900, 1000]:\n",
    "            if algorithm == 'user_item':\n",
    "                result =  get_res(similarity, rtrain,rvalid, k=k, base = 0)\n",
    "                print \"get result for k = \",k,\" , with algorithm = \", algorithm\n",
    "            elif algorithm == 'item_based':\n",
    "                result = get_res(similarity, rtrain,rvalid, k=k, I_K = I_K, base = 1)\n",
    "                print \"get result for k = \",k,\" , with algorithm = \", algorithm\n",
    "            elif algorithm == 'user_based':\n",
    "                result = get_res(similarity, rtrain,rvalid, k=k, U_K = U_K, base = 2)\n",
    "                print \"get result for k = \",k,\" , with algorithm = \", algorithm\n",
    "\n",
    "            result_dict = {'model': algorithm, 'k': k}\n",
    "\n",
    "            for name in result.keys():\n",
    "                result_dict[name] = [round(result[name][0], 4), round(result[name][1], 4)]\n",
    "\n",
    "            df = df.append(result_dict, ignore_index=True)\n",
    "\n",
    "            save_dataframe_csv(df, table_path, save_path)\n",
    "\n",
    "def save_dataframe_csv(df, path, name):\n",
    "    df.to_csv(path+name, index=False)"
   ]
  },
  {
   "cell_type": "code",
   "execution_count": 147,
   "metadata": {
    "scrolled": true
   },
   "outputs": [
    {
     "name": "stderr",
     "output_type": "stream",
     "text": [
      "100%|█████████████████████████████████████████████████████████████████████████████| 6370/6370 [00:07<00:00, 890.41it/s]\n",
      "100%|████████████████████████████████████████████████████████████████████████████| 6370/6370 [00:01<00:00, 3523.23it/s]\n",
      "100%|████████████████████████████████████████████████████████████████████████████| 6370/6370 [00:01<00:00, 6049.38it/s]\n",
      "100%|████████████████████████████████████████████████████████████████████████████| 6370/6370 [00:01<00:00, 6066.67it/s]\n",
      "100%|████████████████████████████████████████████████████████████████████████████| 6370/6370 [00:01<00:00, 5964.42it/s]\n",
      "100%|████████████████████████████████████████████████████████████████████████████| 6370/6370 [00:01<00:00, 5964.42it/s]\n",
      "100%|████████████████████████████████████████████████████████████████████████████| 6370/6370 [00:01<00:00, 6026.49it/s]\n",
      "100%|████████████████████████████████████████████████████████████████████████████| 6370/6370 [00:01<00:00, 5268.82it/s]\n"
     ]
    },
    {
     "name": "stdout",
     "output_type": "stream",
     "text": [
      "get result for k =  10  , with algorithm =  user_based\n"
     ]
    },
    {
     "name": "stderr",
     "output_type": "stream",
     "text": [
      "100%|█████████████████████████████████████████████████████████████████████████████| 6370/6370 [00:07<00:00, 880.56it/s]\n",
      "100%|████████████████████████████████████████████████████████████████████████████| 6370/6370 [00:01<00:00, 3298.81it/s]\n",
      "100%|████████████████████████████████████████████████████████████████████████████| 6370/6370 [00:01<00:00, 5607.39it/s]\n",
      "100%|████████████████████████████████████████████████████████████████████████████| 6370/6370 [00:01<00:00, 5718.13it/s]\n",
      "100%|████████████████████████████████████████████████████████████████████████████| 6370/6370 [00:01<00:00, 5692.58it/s]\n",
      "100%|████████████████████████████████████████████████████████████████████████████| 6370/6370 [00:01<00:00, 5582.82it/s]\n",
      "100%|████████████████████████████████████████████████████████████████████████████| 6370/6370 [00:01<00:00, 5801.46it/s]\n",
      "100%|████████████████████████████████████████████████████████████████████████████| 6370/6370 [00:01<00:00, 4953.34it/s]\n"
     ]
    },
    {
     "name": "stdout",
     "output_type": "stream",
     "text": [
      "get result for k =  20  , with algorithm =  user_based\n"
     ]
    },
    {
     "name": "stderr",
     "output_type": "stream",
     "text": [
      "100%|█████████████████████████████████████████████████████████████████████████████| 6370/6370 [00:07<00:00, 797.15it/s]\n",
      "100%|████████████████████████████████████████████████████████████████████████████| 6370/6370 [00:01<00:00, 3259.98it/s]\n",
      "100%|████████████████████████████████████████████████████████████████████████████| 6370/6370 [00:01<00:00, 5453.77it/s]\n",
      "100%|████████████████████████████████████████████████████████████████████████████| 6370/6370 [00:01<00:00, 5416.67it/s]\n",
      "100%|████████████████████████████████████████████████████████████████████████████| 6370/6370 [00:01<00:00, 5662.22it/s]\n",
      "100%|████████████████████████████████████████████████████████████████████████████| 6370/6370 [00:01<00:00, 5942.16it/s]\n",
      "100%|████████████████████████████████████████████████████████████████████████████| 6370/6370 [00:01<00:00, 5677.36it/s]\n",
      "100%|████████████████████████████████████████████████████████████████████████████| 6370/6370 [00:01<00:00, 5132.96it/s]\n"
     ]
    },
    {
     "name": "stdout",
     "output_type": "stream",
     "text": [
      "get result for k =  30  , with algorithm =  user_based\n"
     ]
    },
    {
     "name": "stderr",
     "output_type": "stream",
     "text": [
      "100%|█████████████████████████████████████████████████████████████████████████████| 6370/6370 [00:11<00:00, 563.17it/s]\n",
      "100%|████████████████████████████████████████████████████████████████████████████| 6370/6370 [00:01<00:00, 3243.38it/s]\n",
      "100%|████████████████████████████████████████████████████████████████████████████| 6370/6370 [00:01<00:00, 5602.46it/s]\n",
      "100%|████████████████████████████████████████████████████████████████████████████| 6370/6370 [00:01<00:00, 5642.16it/s]\n",
      "100%|████████████████████████████████████████████████████████████████████████████| 6370/6370 [00:01<00:00, 5290.70it/s]\n",
      "100%|████████████████████████████████████████████████████████████████████████████| 6370/6370 [00:01<00:00, 5617.28it/s]\n",
      "100%|████████████████████████████████████████████████████████████████████████████| 6370/6370 [00:01<00:00, 5607.39it/s]\n",
      "100%|████████████████████████████████████████████████████████████████████████████| 6370/6370 [00:01<00:00, 5132.96it/s]\n"
     ]
    },
    {
     "name": "stdout",
     "output_type": "stream",
     "text": [
      "get result for k =  40  , with algorithm =  user_based\n"
     ]
    },
    {
     "name": "stderr",
     "output_type": "stream",
     "text": [
      "100%|█████████████████████████████████████████████████████████████████████████████| 6370/6370 [00:13<00:00, 480.86it/s]\n",
      "100%|████████████████████████████████████████████████████████████████████████████| 6370/6370 [00:01<00:00, 3220.42it/s]\n",
      "100%|████████████████████████████████████████████████████████████████████████████| 6370/6370 [00:01<00:00, 5887.25it/s]\n",
      "100%|████████████████████████████████████████████████████████████████████████████| 6370/6370 [00:01<00:00, 5860.16it/s]\n",
      "100%|████████████████████████████████████████████████████████████████████████████| 6370/6370 [00:01<00:00, 5754.29it/s]\n",
      "100%|████████████████████████████████████████████████████████████████████████████| 6370/6370 [00:01<00:00, 5812.04it/s]\n",
      "100%|████████████████████████████████████████████████████████████████████████████| 6370/6370 [00:01<00:00, 5759.49it/s]\n",
      "100%|████████████████████████████████████████████████████████████████████████████| 6370/6370 [00:01<00:00, 5059.57it/s]\n"
     ]
    },
    {
     "name": "stdout",
     "output_type": "stream",
     "text": [
      "get result for k =  50  , with algorithm =  user_based\n"
     ]
    },
    {
     "name": "stderr",
     "output_type": "stream",
     "text": [
      "100%|█████████████████████████████████████████████████████████████████████████████| 6370/6370 [00:15<00:00, 403.40it/s]\n",
      "100%|████████████████████████████████████████████████████████████████████████████| 6370/6370 [00:01<00:00, 3258.31it/s]\n",
      "100%|████████████████████████████████████████████████████████████████████████████| 6370/6370 [00:01<00:00, 5553.62it/s]\n",
      "100%|████████████████████████████████████████████████████████████████████████████| 6370/6370 [00:01<00:00, 5543.95it/s]\n",
      "100%|████████████████████████████████████████████████████████████████████████████| 6370/6370 [00:01<00:00, 5849.40it/s]\n",
      "100%|████████████████████████████████████████████████████████████████████████████| 6370/6370 [00:01<00:00, 5597.54it/s]\n",
      "100%|████████████████████████████████████████████████████████████████████████████| 6370/6370 [00:01<00:00, 5612.33it/s]\n",
      "100%|████████████████████████████████████████████████████████████████████████████| 6370/6370 [00:01<00:00, 4680.38it/s]\n"
     ]
    },
    {
     "name": "stdout",
     "output_type": "stream",
     "text": [
      "get result for k =  60  , with algorithm =  user_based\n"
     ]
    },
    {
     "name": "stderr",
     "output_type": "stream",
     "text": [
      "100%|█████████████████████████████████████████████████████████████████████████████| 6370/6370 [00:16<00:00, 382.79it/s]\n",
      "100%|████████████████████████████████████████████████████████████████████████████| 6370/6370 [00:02<00:00, 2973.86it/s]\n",
      "100%|████████████████████████████████████████████████████████████████████████████| 6370/6370 [00:01<00:00, 5510.38it/s]\n",
      "100%|████████████████████████████████████████████████████████████████████████████| 6370/6370 [00:01<00:00, 4888.72it/s]\n",
      "100%|████████████████████████████████████████████████████████████████████████████| 6370/6370 [00:01<00:00, 5383.63it/s]\n",
      "100%|████████████████████████████████████████████████████████████████████████████| 6370/6370 [00:01<00:00, 5303.91it/s]\n",
      "100%|████████████████████████████████████████████████████████████████████████████| 6370/6370 [00:01<00:00, 5407.47it/s]\n",
      "100%|████████████████████████████████████████████████████████████████████████████| 6370/6370 [00:01<00:00, 4968.80it/s]\n"
     ]
    },
    {
     "name": "stdout",
     "output_type": "stream",
     "text": [
      "get result for k =  70  , with algorithm =  user_based\n"
     ]
    },
    {
     "name": "stderr",
     "output_type": "stream",
     "text": [
      "100%|█████████████████████████████████████████████████████████████████████████████| 6370/6370 [00:19<00:00, 328.30it/s]\n",
      "100%|████████████████████████████████████████████████████████████████████████████| 6370/6370 [00:01<00:00, 3328.11it/s]\n",
      "100%|████████████████████████████████████████████████████████████████████████████| 6370/6370 [00:01<00:00, 5947.71it/s]\n",
      "100%|████████████████████████████████████████████████████████████████████████████| 6370/6370 [00:01<00:00, 5942.16it/s]\n",
      "100%|████████████████████████████████████████████████████████████████████████████| 6370/6370 [00:01<00:00, 5931.10it/s]\n",
      "100%|████████████████████████████████████████████████████████████████████████████| 6370/6370 [00:01<00:00, 5992.47it/s]\n",
      "100%|████████████████████████████████████████████████████████████████████████████| 6370/6370 [00:01<00:00, 5822.67it/s]\n",
      "100%|████████████████████████████████████████████████████████████████████████████| 6370/6370 [00:01<00:00, 5039.56it/s]\n"
     ]
    },
    {
     "name": "stdout",
     "output_type": "stream",
     "text": [
      "get result for k =  80  , with algorithm =  user_based\n"
     ]
    },
    {
     "name": "stderr",
     "output_type": "stream",
     "text": [
      "100%|█████████████████████████████████████████████████████████████████████████████| 6370/6370 [00:19<00:00, 329.42it/s]\n",
      "100%|████████████████████████████████████████████████████████████████████████████| 6370/6370 [00:01<00:00, 3534.96it/s]\n",
      "100%|████████████████████████████████████████████████████████████████████████████| 6370/6370 [00:01<00:00, 5964.42it/s]\n",
      "100%|████████████████████████████████████████████████████████████████████████████| 6370/6370 [00:01<00:00, 6032.20it/s]\n",
      "100%|████████████████████████████████████████████████████████████████████████████| 6370/6370 [00:01<00:00, 5898.15it/s]\n",
      "100%|████████████████████████████████████████████████████████████████████████████| 6370/6370 [00:01<00:00, 5992.47it/s]\n",
      "100%|████████████████████████████████████████████████████████████████████████████| 6370/6370 [00:01<00:00, 5931.10it/s]\n",
      "100%|████████████████████████████████████████████████████████████████████████████| 6370/6370 [00:01<00:00, 5055.56it/s]\n"
     ]
    },
    {
     "name": "stdout",
     "output_type": "stream",
     "text": [
      "get result for k =  90  , with algorithm =  user_based\n"
     ]
    },
    {
     "name": "stderr",
     "output_type": "stream",
     "text": [
      "100%|█████████████████████████████████████████████████████████████████████████████| 6370/6370 [00:22<00:00, 279.77it/s]\n",
      "100%|████████████████████████████████████████████████████████████████████████████| 6370/6370 [00:02<00:00, 3121.02it/s]\n",
      "100%|████████████████████████████████████████████████████████████████████████████| 6370/6370 [00:01<00:00, 5543.95it/s]\n",
      "100%|████████████████████████████████████████████████████████████████████████████| 6370/6370 [00:01<00:00, 5749.10it/s]\n",
      "100%|████████████████████████████████████████████████████████████████████████████| 6370/6370 [00:01<00:00, 5534.32it/s]\n",
      "100%|████████████████████████████████████████████████████████████████████████████| 6370/6370 [00:01<00:00, 4775.11it/s]\n",
      "100%|████████████████████████████████████████████████████████████████████████████| 6370/6370 [00:01<00:00, 5553.62it/s]\n",
      "100%|████████████████████████████████████████████████████████████████████████████| 6370/6370 [00:01<00:00, 4934.16it/s]\n"
     ]
    },
    {
     "name": "stdout",
     "output_type": "stream",
     "text": [
      "get result for k =  100  , with algorithm =  user_based\n"
     ]
    },
    {
     "name": "stderr",
     "output_type": "stream",
     "text": [
      "100%|█████████████████████████████████████████████████████████████████████████████| 6370/6370 [00:29<00:00, 212.71it/s]\n",
      "100%|████████████████████████████████████████████████████████████████████████████| 6370/6370 [00:01<00:00, 3426.57it/s]\n",
      "100%|████████████████████████████████████████████████████████████████████████████| 6370/6370 [00:01<00:00, 5914.58it/s]\n",
      "100%|████████████████████████████████████████████████████████████████████████████| 6370/6370 [00:01<00:00, 5764.71it/s]\n",
      "100%|████████████████████████████████████████████████████████████████████████████| 6370/6370 [00:01<00:00, 5723.27it/s]\n",
      "100%|████████████████████████████████████████████████████████████████████████████| 6370/6370 [00:01<00:00, 5947.71it/s]\n",
      "100%|████████████████████████████████████████████████████████████████████████████| 6370/6370 [00:01<00:00, 5838.68it/s]\n",
      "100%|████████████████████████████████████████████████████████████████████████████| 6370/6370 [00:01<00:00, 5242.80it/s]\n"
     ]
    },
    {
     "name": "stdout",
     "output_type": "stream",
     "text": [
      "get result for k =  150  , with algorithm =  user_based\n"
     ]
    },
    {
     "name": "stderr",
     "output_type": "stream",
     "text": [
      "100%|█████████████████████████████████████████████████████████████████████████████| 6370/6370 [00:39<00:00, 161.94it/s]\n",
      "100%|████████████████████████████████████████████████████████████████████████████| 6370/6370 [00:01<00:00, 3202.61it/s]\n",
      "100%|████████████████████████████████████████████████████████████████████████████| 6370/6370 [00:01<00:00, 5558.46it/s]\n",
      "100%|████████████████████████████████████████████████████████████████████████████| 6370/6370 [00:01<00:00, 5467.81it/s]\n",
      "100%|████████████████████████████████████████████████████████████████████████████| 6370/6370 [00:01<00:00, 5500.86it/s]\n",
      "100%|████████████████████████████████████████████████████████████████████████████| 6370/6370 [00:01<00:00, 5769.93it/s]\n",
      "100%|████████████████████████████████████████████████████████████████████████████| 6370/6370 [00:01<00:00, 5838.68it/s]\n",
      "100%|████████████████████████████████████████████████████████████████████████████| 6370/6370 [00:01<00:00, 5087.86it/s]\n"
     ]
    },
    {
     "name": "stdout",
     "output_type": "stream",
     "text": [
      "get result for k =  200  , with algorithm =  user_based\n"
     ]
    },
    {
     "name": "stderr",
     "output_type": "stream",
     "text": [
      "100%|█████████████████████████████████████████████████████████████████████████████| 6370/6370 [00:46<00:00, 127.09it/s]\n",
      "100%|████████████████████████████████████████████████████████████████████████████| 6370/6370 [00:01<00:00, 3197.79it/s]\n",
      "100%|████████████████████████████████████████████████████████████████████████████| 6370/6370 [00:01<00:00, 5568.18it/s]\n",
      "100%|████████████████████████████████████████████████████████████████████████████| 6370/6370 [00:01<00:00, 5964.42it/s]\n",
      "100%|████████████████████████████████████████████████████████████████████████████| 6370/6370 [00:01<00:00, 5728.42it/s]\n",
      "100%|████████████████████████████████████████████████████████████████████████████| 6370/6370 [00:01<00:00, 5909.09it/s]\n",
      "100%|████████████████████████████████████████████████████████████████████████████| 6370/6370 [00:01<00:00, 5769.93it/s]\n",
      "100%|████████████████████████████████████████████████████████████████████████████| 6370/6370 [00:01<00:00, 4829.42it/s]\n"
     ]
    },
    {
     "name": "stdout",
     "output_type": "stream",
     "text": [
      "get result for k =  250  , with algorithm =  user_based\n"
     ]
    },
    {
     "name": "stderr",
     "output_type": "stream",
     "text": [
      "100%|█████████████████████████████████████████████████████████████████████████████| 6370/6370 [00:54<00:00, 116.60it/s]\n",
      "100%|████████████████████████████████████████████████████████████████████████████| 6370/6370 [00:01<00:00, 3478.97it/s]\n",
      "100%|████████████████████████████████████████████████████████████████████████████| 6370/6370 [00:01<00:00, 5947.71it/s]\n",
      "100%|████████████████████████████████████████████████████████████████████████████| 6370/6370 [00:01<00:00, 5931.10it/s]\n",
      "100%|████████████████████████████████████████████████████████████████████████████| 6370/6370 [00:01<00:00, 5942.16it/s]\n",
      "100%|████████████████████████████████████████████████████████████████████████████| 6370/6370 [00:01<00:00, 5936.63it/s]\n",
      "100%|████████████████████████████████████████████████████████████████████████████| 6370/6370 [00:01<00:00, 5970.01it/s]\n",
      "100%|████████████████████████████████████████████████████████████████████████████| 6370/6370 [00:01<00:00, 5075.70it/s]\n"
     ]
    },
    {
     "name": "stdout",
     "output_type": "stream",
     "text": [
      "get result for k =  300  , with algorithm =  user_based\n"
     ]
    },
    {
     "name": "stderr",
     "output_type": "stream",
     "text": [
      "100%|█████████████████████████████████████████████████████████████████████████████| 6370/6370 [01:02<00:00, 101.34it/s]\n",
      "100%|████████████████████████████████████████████████████████████████████████████| 6370/6370 [00:01<00:00, 3428.42it/s]\n",
      "100%|████████████████████████████████████████████████████████████████████████████| 6370/6370 [00:01<00:00, 5849.40it/s]\n",
      "100%|████████████████████████████████████████████████████████████████████████████| 6370/6370 [00:01<00:00, 5854.78it/s]\n",
      "100%|████████████████████████████████████████████████████████████████████████████| 6370/6370 [00:01<00:00, 5268.82it/s]\n",
      "100%|████████████████████████████████████████████████████████████████████████████| 6370/6370 [00:01<00:00, 5812.04it/s]\n",
      "100%|████████████████████████████████████████████████████████████████████████████| 6370/6370 [00:01<00:00, 5743.91it/s]\n",
      "100%|████████████████████████████████████████████████████████████████████████████| 6370/6370 [00:01<00:00, 5116.47it/s]\n"
     ]
    },
    {
     "name": "stdout",
     "output_type": "stream",
     "text": [
      "get result for k =  350  , with algorithm =  user_based\n"
     ]
    },
    {
     "name": "stderr",
     "output_type": "stream",
     "text": [
      "100%|██████████████████████████████████████████████████████████████████████████████| 6370/6370 [01:12<00:00, 88.31it/s]\n",
      "100%|████████████████████████████████████████████████████████████████████████████| 6370/6370 [00:01<00:00, 3280.12it/s]\n",
      "100%|████████████████████████████████████████████████████████████████████████████| 6370/6370 [00:01<00:00, 5622.24it/s]\n",
      "100%|████████████████████████████████████████████████████████████████████████████| 6370/6370 [00:01<00:00, 5677.36it/s]\n",
      "100%|████████████████████████████████████████████████████████████████████████████| 6370/6370 [00:01<00:00, 5375.53it/s]\n",
      "100%|████████████████████████████████████████████████████████████████████████████| 6370/6370 [00:01<00:00, 5790.91it/s]\n",
      "100%|████████████████████████████████████████████████████████████████████████████| 6370/6370 [00:01<00:00, 5573.05it/s]\n",
      "100%|████████████████████████████████████████████████████████████████████████████| 6370/6370 [00:01<00:00, 4753.73it/s]\n"
     ]
    },
    {
     "name": "stdout",
     "output_type": "stream",
     "text": [
      "get result for k =  400  , with algorithm =  user_based\n"
     ]
    },
    {
     "name": "stderr",
     "output_type": "stream",
     "text": [
      "100%|██████████████████████████████████████████████████████████████████████████████| 6370/6370 [01:21<00:00, 78.64it/s]\n",
      "100%|████████████████████████████████████████████████████████████████████████████| 6370/6370 [00:01<00:00, 3230.22it/s]\n",
      "100%|████████████████████████████████████████████████████████████████████████████| 6370/6370 [00:01<00:00, 5375.53it/s]\n",
      "100%|████████████████████████████████████████████████████████████████████████████| 6370/6370 [00:01<00:00, 5486.65it/s]\n",
      "100%|████████████████████████████████████████████████████████████████████████████| 6370/6370 [00:01<00:00, 5534.32it/s]\n",
      "100%|████████████████████████████████████████████████████████████████████████████| 6370/6370 [00:01<00:00, 5667.26it/s]\n",
      "100%|████████████████████████████████████████████████████████████████████████████| 6370/6370 [00:01<00:00, 5617.28it/s]\n",
      "100%|████████████████████████████████████████████████████████████████████████████| 6370/6370 [00:01<00:00, 4807.55it/s]\n"
     ]
    },
    {
     "name": "stdout",
     "output_type": "stream",
     "text": [
      "get result for k =  450  , with algorithm =  user_based\n"
     ]
    },
    {
     "name": "stderr",
     "output_type": "stream",
     "text": [
      "100%|██████████████████████████████████████████████████████████████████████████████| 6370/6370 [01:30<00:00, 70.63it/s]\n",
      "100%|████████████████████████████████████████████████████████████████████████████| 6370/6370 [00:02<00:00, 3142.58it/s]\n",
      "100%|████████████████████████████████████████████████████████████████████████████| 6370/6370 [00:01<00:00, 5713.00it/s]\n",
      "100%|████████████████████████████████████████████████████████████████████████████| 6370/6370 [00:01<00:00, 5234.18it/s]\n",
      "100%|████████████████████████████████████████████████████████████████████████████| 6370/6370 [00:01<00:00, 5667.26it/s]\n",
      "100%|████████████████████████████████████████████████████████████████████████████| 6370/6370 [00:01<00:00, 5723.27it/s]\n",
      "100%|████████████████████████████████████████████████████████████████████████████| 6370/6370 [00:01<00:00, 5204.25it/s]\n",
      "100%|████████████████████████████████████████████████████████████████████████████| 6370/6370 [00:01<00:00, 5132.96it/s]\n"
     ]
    },
    {
     "name": "stdout",
     "output_type": "stream",
     "text": [
      "get result for k =  500  , with algorithm =  user_based\n"
     ]
    },
    {
     "name": "stderr",
     "output_type": "stream",
     "text": [
      "100%|██████████████████████████████████████████████████████████████████████████████| 6370/6370 [01:48<00:00, 58.48it/s]\n",
      "100%|████████████████████████████████████████████████████████████████████████████| 6370/6370 [00:01<00:00, 3245.03it/s]\n",
      "100%|████████████████████████████████████████████████████████████████████████████| 6370/6370 [00:01<00:00, 5728.42it/s]\n",
      "100%|████████████████████████████████████████████████████████████████████████████| 6370/6370 [00:01<00:00, 5481.93it/s]\n",
      "100%|████████████████████████████████████████████████████████████████████████████| 6370/6370 [00:01<00:00, 5637.17it/s]\n",
      "100%|████████████████████████████████████████████████████████████████████████████| 6370/6370 [00:01<00:00, 5453.77it/s]\n",
      "100%|████████████████████████████████████████████████████████████████████████████| 6370/6370 [00:01<00:00, 5481.93it/s]\n",
      "100%|████████████████████████████████████████████████████████████████████████████| 6370/6370 [00:01<00:00, 4796.69it/s]\n"
     ]
    },
    {
     "name": "stdout",
     "output_type": "stream",
     "text": [
      "get result for k =  600  , with algorithm =  user_based\n"
     ]
    },
    {
     "name": "stderr",
     "output_type": "stream",
     "text": [
      "100%|██████████████████████████████████████████████████████████████████████████████| 6370/6370 [02:06<00:00, 48.92it/s]\n",
      "100%|████████████████████████████████████████████████████████████████████████████| 6370/6370 [00:01<00:00, 3226.95it/s]\n",
      "100%|████████████████████████████████████████████████████████████████████████████| 6370/6370 [00:01<00:00, 5662.22it/s]\n",
      "100%|████████████████████████████████████████████████████████████████████████████| 6370/6370 [00:01<00:00, 5849.40it/s]\n",
      "100%|████████████████████████████████████████████████████████████████████████████| 6370/6370 [00:01<00:00, 5754.29it/s]\n",
      "100%|████████████████████████████████████████████████████████████████████████████| 6370/6370 [00:01<00:00, 6055.13it/s]\n",
      "100%|████████████████████████████████████████████████████████████████████████████| 6370/6370 [00:01<00:00, 5162.07it/s]\n",
      "100%|████████████████████████████████████████████████████████████████████████████| 6370/6370 [00:01<00:00, 4953.34it/s]\n"
     ]
    },
    {
     "name": "stdout",
     "output_type": "stream",
     "text": [
      "get result for k =  700  , with algorithm =  user_based\n"
     ]
    },
    {
     "name": "stderr",
     "output_type": "stream",
     "text": [
      "100%|██████████████████████████████████████████████████████████████████████████████| 6370/6370 [02:19<00:00, 45.69it/s]\n",
      "100%|████████████████████████████████████████████████████████████████████████████| 6370/6370 [00:01<00:00, 3207.45it/s]\n",
      "100%|████████████████████████████████████████████████████████████████████████████| 6370/6370 [00:01<00:00, 5743.91it/s]\n",
      "100%|████████████████████████████████████████████████████████████████████████████| 6370/6370 [00:01<00:00, 5769.93it/s]\n",
      "100%|████████████████████████████████████████████████████████████████████████████| 6370/6370 [00:01<00:00, 5780.40it/s]\n",
      "100%|████████████████████████████████████████████████████████████████████████████| 6370/6370 [00:01<00:00, 5780.40it/s]\n",
      "100%|████████████████████████████████████████████████████████████████████████████| 6370/6370 [00:01<00:00, 5627.21it/s]\n",
      "100%|████████████████████████████████████████████████████████████████████████████| 6370/6370 [00:01<00:00, 5087.86it/s]\n"
     ]
    },
    {
     "name": "stdout",
     "output_type": "stream",
     "text": [
      "get result for k =  800  , with algorithm =  user_based\n"
     ]
    },
    {
     "name": "stderr",
     "output_type": "stream",
     "text": [
      "100%|██████████████████████████████████████████████████████████████████████████████| 6370/6370 [02:38<00:00, 40.16it/s]\n",
      "100%|████████████████████████████████████████████████████████████████████████████| 6370/6370 [00:01<00:00, 3258.31it/s]\n",
      "100%|████████████████████████████████████████████████████████████████████████████| 6370/6370 [00:01<00:00, 5524.72it/s]\n",
      "100%|████████████████████████████████████████████████████████████████████████████| 6370/6370 [00:01<00:00, 5602.46it/s]\n",
      "100%|████████████████████████████████████████████████████████████████████████████| 6370/6370 [00:01<00:00, 5662.22it/s]\n",
      "100%|████████████████████████████████████████████████████████████████████████████| 6370/6370 [00:01<00:00, 5548.78it/s]\n",
      "100%|████████████████████████████████████████████████████████████████████████████| 6370/6370 [00:01<00:00, 5407.47it/s]\n",
      "100%|████████████████████████████████████████████████████████████████████████████| 6370/6370 [00:01<00:00, 4892.47it/s]\n"
     ]
    },
    {
     "name": "stdout",
     "output_type": "stream",
     "text": [
      "get result for k =  900  , with algorithm =  user_based\n"
     ]
    },
    {
     "name": "stderr",
     "output_type": "stream",
     "text": [
      "100%|██████████████████████████████████████████████████████████████████████████████| 6370/6370 [02:56<00:00, 36.09it/s]\n",
      "100%|████████████████████████████████████████████████████████████████████████████| 6370/6370 [00:01<00:00, 3251.66it/s]\n",
      "100%|████████████████████████████████████████████████████████████████████████████| 6370/6370 [00:01<00:00, 5519.93it/s]\n",
      "100%|████████████████████████████████████████████████████████████████████████████| 6370/6370 [00:01<00:00, 5463.12it/s]\n",
      "100%|████████████████████████████████████████████████████████████████████████████| 6370/6370 [00:01<00:00, 5642.16it/s]\n",
      "100%|████████████████████████████████████████████████████████████████████████████| 6370/6370 [00:01<00:00, 5607.39it/s]\n",
      "100%|████████████████████████████████████████████████████████████████████████████| 6370/6370 [00:01<00:00, 5510.38it/s]\n",
      "100%|████████████████████████████████████████████████████████████████████████████| 6370/6370 [00:01<00:00, 4949.50it/s]\n"
     ]
    },
    {
     "name": "stdout",
     "output_type": "stream",
     "text": [
      "get result for k =  1000  , with algorithm =  user_based\n"
     ]
    }
   ],
   "source": [
    "hyper_parameter_tuning(rtrain, rvalid, 'knn_tunning_final_1500.csv', I_K1500, U_K1500)"
   ]
  },
  {
   "cell_type": "markdown",
   "metadata": {},
   "source": [
    "# Test Result"
   ]
  },
  {
   "cell_type": "markdown",
   "metadata": {},
   "source": [
    "### User-item result"
   ]
  },
  {
   "cell_type": "code",
   "execution_count": 129,
   "metadata": {
    "collapsed": true
   },
   "outputs": [],
   "source": [
    "rtest = load_npz('beer/Rtest.npz')"
   ]
  },
  {
   "cell_type": "code",
   "execution_count": 130,
   "metadata": {},
   "outputs": [
    {
     "name": "stderr",
     "output_type": "stream",
     "text": [
      "100%|█████████████████████████████████████████████████████████████████████████████| 6370/6370 [00:22<00:00, 283.63it/s]\n",
      "100%|████████████████████████████████████████████████████████████████████████████| 6370/6370 [00:01<00:00, 3375.73it/s]\n",
      "100%|████████████████████████████████████████████████████████████████████████████| 6370/6370 [00:01<00:00, 5785.65it/s]\n",
      "100%|████████████████████████████████████████████████████████████████████████████| 6370/6370 [00:01<00:00, 5444.44it/s]\n",
      "100%|████████████████████████████████████████████████████████████████████████████| 6370/6370 [00:01<00:00, 5597.54it/s]\n",
      "100%|████████████████████████████████████████████████████████████████████████████| 6370/6370 [00:01<00:00, 5486.65it/s]\n",
      "100%|████████████████████████████████████████████████████████████████████████████| 6370/6370 [00:01<00:00, 5458.44it/s]\n",
      "100%|████████████████████████████████████████████████████████████████████████████| 6370/6370 [00:01<00:00, 4873.76it/s]\n"
     ]
    }
   ],
   "source": [
    "similarity = train(rtrain)\n",
    "user_item_test_res = get_res(similarity, rtrain,rtest, k=200 , base = 0)"
   ]
  },
  {
   "cell_type": "code",
   "execution_count": 132,
   "metadata": {},
   "outputs": [
    {
     "data": {
      "text/plain": [
       "{'MAP@10': (0.055037055095075574, 0.00271760155112745),\n",
       " 'MAP@15': (0.051745667680821276, 0.00229974479769462),\n",
       " 'MAP@20': (0.04911610731258947, 0.0020397178310452542),\n",
       " 'MAP@5': (0.06045051194539249, 0.00358743056523425),\n",
       " 'MAP@50': (0.04058976109960154, 0.0014208353232993188),\n",
       " 'NDCG': (0.11061358430162982, 0.003160283681719818),\n",
       " 'Precision@10': (0.04776450511945392, 0.00197653604717534),\n",
       " 'Precision@15': (0.0432650739476678, 0.0016336711097877305),\n",
       " 'Precision@20': (0.040051194539249144, 0.0014294610458038988),\n",
       " 'Precision@5': (0.05430034129692834, 0.0027827016714734656),\n",
       " 'Precision@50': (0.031003412969283276, 0.0009986026431826965),\n",
       " 'R-Precision': (0.04616147106833989, 0.002303717415339684),\n",
       " 'Recall@10': (0.07037424997438727, 0.0039006945367076992),\n",
       " 'Recall@15': (0.09476025058335748, 0.004467342890288348),\n",
       " 'Recall@20': (0.11499280080949816, 0.004854710107875195),\n",
       " 'Recall@5': (0.039174533796154404, 0.0028903331435289827),\n",
       " 'Recall@50': (0.20961257540339695, 0.006110170090254078)}"
      ]
     },
     "execution_count": 132,
     "metadata": {},
     "output_type": "execute_result"
    }
   ],
   "source": [
    "user_item_test_res"
   ]
  },
  {
   "cell_type": "markdown",
   "metadata": {},
   "source": [
    "### Item_based"
   ]
  },
  {
   "cell_type": "code",
   "execution_count": 131,
   "metadata": {},
   "outputs": [
    {
     "name": "stderr",
     "output_type": "stream",
     "text": [
      "100%|█████████████████████████████████████████████████████████████████████████████| 3668/3668 [00:06<00:00, 567.01it/s]\n",
      "100%|████████████████████████████████████████████████████████████████████████████| 6370/6370 [00:02<00:00, 3065.45it/s]\n",
      "100%|████████████████████████████████████████████████████████████████████████████| 6370/6370 [00:01<00:00, 5330.54it/s]\n",
      "100%|████████████████████████████████████████████████████████████████████████████| 6370/6370 [00:01<00:00, 5458.44it/s]\n",
      "100%|████████████████████████████████████████████████████████████████████████████| 6370/6370 [00:01<00:00, 5317.20it/s]\n",
      "100%|████████████████████████████████████████████████████████████████████████████| 6370/6370 [00:01<00:00, 5617.28it/s]\n",
      "100%|████████████████████████████████████████████████████████████████████████████| 6370/6370 [00:01<00:00, 5587.72it/s]\n",
      "100%|████████████████████████████████████████████████████████████████████████████| 6370/6370 [00:01<00:00, 4666.67it/s]\n"
     ]
    }
   ],
   "source": [
    "similarity = train(I_K5000)\n",
    "item_based_test_res = get_res(similarity, rtrain, rtest, k=20 , I_K = I_K5000 , base = 1)"
   ]
  },
  {
   "cell_type": "code",
   "execution_count": 133,
   "metadata": {},
   "outputs": [
    {
     "data": {
      "text/plain": [
       "{'MAP@10': (0.022312415352944363, 0.0016645119503467458),\n",
       " 'MAP@15': (0.020760076638062987, 0.0013902801832968463),\n",
       " 'MAP@20': (0.019681531591873785, 0.0012239746277176403),\n",
       " 'MAP@5': (0.024571103526734927, 0.0022296530333048496),\n",
       " 'MAP@50': (0.016267408710191472, 0.0008264043406741288),\n",
       " 'NDCG': (0.04288493444680673, 0.0020306935982967473),\n",
       " 'Precision@10': (0.01861774744027304, 0.0011760285178246187),\n",
       " 'Precision@15': (0.017064846416382253, 0.0009640787637895016),\n",
       " 'Precision@20': (0.015955631399317407, 0.0008507705336377911),\n",
       " 'Precision@5': (0.022969283276450512, 0.00172364733170156),\n",
       " 'Precision@50': (0.012580204778156997, 0.0005672840933801791),\n",
       " 'R-Precision': (0.017466114041808117, 0.0014085103984669777),\n",
       " 'Recall@10': (0.025981601839728127, 0.002409947202481572),\n",
       " 'Recall@15': (0.034509479591048456, 0.0027058987502942195),\n",
       " 'Recall@20': (0.04287631515663236, 0.0030315121081121673),\n",
       " 'Recall@5': (0.016478250732903512, 0.0019431723508946126),\n",
       " 'Recall@50': (0.08058585111864981, 0.004010568363559986)}"
      ]
     },
     "execution_count": 133,
     "metadata": {},
     "output_type": "execute_result"
    }
   ],
   "source": [
    "item_based_test_res"
   ]
  },
  {
   "cell_type": "markdown",
   "metadata": {},
   "source": [
    "### User_based"
   ]
  },
  {
   "cell_type": "code",
   "execution_count": 134,
   "metadata": {
    "scrolled": true
   },
   "outputs": [
    {
     "name": "stderr",
     "output_type": "stream",
     "text": [
      "100%|█████████████████████████████████████████████████████████████████████████████| 6370/6370 [00:53<00:00, 119.23it/s]\n",
      "100%|████████████████████████████████████████████████████████████████████████████| 6370/6370 [00:01<00:00, 3410.06it/s]\n",
      "100%|████████████████████████████████████████████████████████████████████████████| 6370/6370 [00:01<00:00, 5702.77it/s]\n",
      "100%|████████████████████████████████████████████████████████████████████████████| 6370/6370 [00:01<00:00, 5733.57it/s]\n",
      "100%|████████████████████████████████████████████████████████████████████████████| 6370/6370 [00:01<00:00, 5754.29it/s]\n",
      "100%|████████████████████████████████████████████████████████████████████████████| 6370/6370 [00:01<00:00, 5738.74it/s]\n",
      "100%|████████████████████████████████████████████████████████████████████████████| 6370/6370 [00:01<00:00, 5672.31it/s]\n",
      "100%|████████████████████████████████████████████████████████████████████████████| 6370/6370 [00:01<00:00, 4976.56it/s]\n"
     ]
    }
   ],
   "source": [
    "similarity = train(U_K5000)\n",
    "user_based_test_res = get_res(similarity, rtrain, rtest, k=300 , U_K = U_K5000 , base = 2)"
   ]
  },
  {
   "cell_type": "code",
   "execution_count": 136,
   "metadata": {},
   "outputs": [
    {
     "name": "stderr",
     "output_type": "stream",
     "text": [
      "100%|█████████████████████████████████████████████████████████████████████████████| 6370/6370 [00:38<00:00, 164.50it/s]\n",
      "100%|████████████████████████████████████████████████████████████████████████████| 6370/6370 [00:01<00:00, 3432.11it/s]\n",
      "100%|████████████████████████████████████████████████████████████████████████████| 6370/6370 [00:01<00:00, 5723.27it/s]\n",
      "100%|████████████████████████████████████████████████████████████████████████████| 6370/6370 [00:01<00:00, 5775.16it/s]\n",
      "100%|████████████████████████████████████████████████████████████████████████████| 6370/6370 [00:01<00:00, 5687.50it/s]\n",
      "100%|████████████████████████████████████████████████████████████████████████████| 6370/6370 [00:01<00:00, 5801.46it/s]\n",
      "100%|████████████████████████████████████████████████████████████████████████████| 6370/6370 [00:01<00:00, 5718.13it/s]\n",
      "100%|████████████████████████████████████████████████████████████████████████████| 6370/6370 [00:01<00:00, 5091.93it/s]\n"
     ]
    }
   ],
   "source": [
    "user_based_test_res = get_res(similarity, rtrain, rtest, k=200 , U_K = U_K5000 , base = 2)"
   ]
  },
  {
   "cell_type": "code",
   "execution_count": 135,
   "metadata": {},
   "outputs": [
    {
     "data": {
      "text/plain": [
       "{'MAP@10': (0.03732192968199794, 0.002190998285361629),\n",
       " 'MAP@15': (0.03540604781389765, 0.0018550877020044605),\n",
       " 'MAP@20': (0.03401433143888454, 0.001649645956359752),\n",
       " 'MAP@5': (0.04009158134243458, 0.0028868989007371213),\n",
       " 'MAP@50': (0.02915147391915201, 0.0011513328248138103),\n",
       " 'NDCG': (0.08112615313012567, 0.002671530721609616),\n",
       " 'Precision@10': (0.03320819112627986, 0.0016160826098981346),\n",
       " 'Precision@15': (0.030898748577929465, 0.0013541735774195904),\n",
       " 'Precision@20': (0.029215017064846416, 0.0011951077880419058),\n",
       " 'Precision@5': (0.03747440273037543, 0.0022849286183576727),\n",
       " 'Precision@50': (0.02388737201365188, 0.0008305650195755597),\n",
       " 'R-Precision': (0.0317810013374843, 0.0019073235408918732),\n",
       " 'Recall@10': (0.04585570588949454, 0.0031493405930743813),\n",
       " 'Recall@15': (0.0642284711656551, 0.0037279286209226923),\n",
       " 'Recall@20': (0.07934619698117001, 0.004060931754391117),\n",
       " 'Recall@5': (0.02554002106144808, 0.002333864577671177),\n",
       " 'Recall@50': (0.16191686996875107, 0.00550386777566844)}"
      ]
     },
     "execution_count": 135,
     "metadata": {},
     "output_type": "execute_result"
    }
   ],
   "source": [
    "user_based_test_res"
   ]
  },
  {
   "cell_type": "code",
   "execution_count": 148,
   "metadata": {
    "scrolled": true
   },
   "outputs": [
    {
     "name": "stderr",
     "output_type": "stream",
     "text": [
      "100%|█████████████████████████████████████████████████████████████████████████████| 6370/6370 [00:50<00:00, 125.37it/s]\n",
      "100%|████████████████████████████████████████████████████████████████████████████| 6370/6370 [00:01<00:00, 3210.69it/s]\n",
      "100%|████████████████████████████████████████████████████████████████████████████| 6370/6370 [00:01<00:00, 5375.53it/s]\n",
      "100%|████████████████████████████████████████████████████████████████████████████| 6370/6370 [00:01<00:00, 5339.48it/s]\n",
      "100%|████████████████████████████████████████████████████████████████████████████| 6370/6370 [00:01<00:00, 5375.53it/s]\n",
      "100%|████████████████████████████████████████████████████████████████████████████| 6370/6370 [00:01<00:00, 5389.17it/s]\n",
      "100%|████████████████████████████████████████████████████████████████████████████| 6370/6370 [00:01<00:00, 5255.78it/s]\n",
      "100%|████████████████████████████████████████████████████████████████████████████| 6370/6370 [00:01<00:00, 4636.10it/s]\n"
     ]
    }
   ],
   "source": [
    "similarity = train(U_K1500)\n",
    "user_based_test_res = get_res(similarity, rtrain, rtest, k=300 , U_K = U_K5000 , base = 2)"
   ]
  },
  {
   "cell_type": "code",
   "execution_count": 151,
   "metadata": {},
   "outputs": [
    {
     "data": {
      "text/plain": [
       "{'MAP@10': (0.037076520938295686, 0.0021836381227901313),\n",
       " 'MAP@15': (0.03519383378598396, 0.0018524455232287705),\n",
       " 'MAP@20': (0.033752377268455466, 0.0016467131664474927),\n",
       " 'MAP@5': (0.03970079635949943, 0.0028627113837744406),\n",
       " 'MAP@50': (0.02901247820595199, 0.0011484030056434567),\n",
       " 'NDCG': (0.0809328726602833, 0.0026708968864754845),\n",
       " 'Precision@10': (0.03290102389078498, 0.0016083906056846586),\n",
       " 'Precision@15': (0.030625711035267348, 0.001352170620200592),\n",
       " 'Precision@20': (0.02871160409556314, 0.0011796532304680235),\n",
       " 'Precision@5': (0.037440273037542667, 0.0022969449504500407),\n",
       " 'Precision@50': (0.023918088737201363, 0.000830700999192574),\n",
       " 'R-Precision': (0.03140600834368189, 0.0019051571701536505),\n",
       " 'Recall@10': (0.046410763095268745, 0.0032310746391458513),\n",
       " 'Recall@15': (0.06350003836979959, 0.003699626763247859),\n",
       " 'Recall@20': (0.07840436401688601, 0.00406143081888389),\n",
       " 'Recall@5': (0.02569159156512268, 0.0023676209099114825),\n",
       " 'Recall@50': (0.16196184143576622, 0.0055002529364572925)}"
      ]
     },
     "execution_count": 151,
     "metadata": {},
     "output_type": "execute_result"
    }
   ],
   "source": [
    "user_based_test_res"
   ]
  }
 ],
 "metadata": {
  "kernelspec": {
   "display_name": "Python 2",
   "language": "python",
   "name": "python2"
  },
  "language_info": {
   "codemirror_mode": {
    "name": "ipython",
    "version": 2
   },
   "file_extension": ".py",
   "mimetype": "text/x-python",
   "name": "python",
   "nbconvert_exporter": "python",
   "pygments_lexer": "ipython2",
   "version": "2.7.13"
  }
 },
 "nbformat": 4,
 "nbformat_minor": 2
}
