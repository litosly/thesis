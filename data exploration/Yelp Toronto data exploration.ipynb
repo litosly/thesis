{
 "cells": [
  {
   "cell_type": "markdown",
   "metadata": {},
   "source": [
    "# Environment: Python 3.5"
   ]
  },
  {
   "cell_type": "code",
   "execution_count": 3,
   "metadata": {},
   "outputs": [
    {
     "name": "stderr",
     "output_type": "stream",
     "text": [
      "Using TensorFlow backend.\n"
     ]
    }
   ],
   "source": [
    "from ast import literal_eval\n",
    "from os import listdir\n",
    "from os.path import isfile, join\n",
    "from scipy.sparse import csr_matrix, load_npz, save_npz\n",
    "from tqdm import tqdm\n",
    "from sklearn.preprocessing import normalize\n",
    "\n",
    "import seaborn as sns\n",
    "import datetime\n",
    "import json\n",
    "import numpy as np\n",
    "import pandas as pd\n",
    "import time\n",
    "import yaml\n",
    "import scipy.sparse as sparse\n",
    "from ast import literal_eval\n",
    "\n",
    "# For Python2 this have to be done\n",
    "# from __future__ import division\n",
    "\n",
    "\n",
    "import gzip\n",
    "import string\n",
    "import itertools\n",
    "import nltk\n",
    "from nltk.corpus import stopwords\n",
    "from nltk.stem import WordNetLemmatizer\n",
    "from nltk.tokenize import sent_tokenize\n",
    "from keras.preprocessing.text import Tokenizer"
   ]
  },
  {
   "cell_type": "code",
   "execution_count": 4,
   "metadata": {},
   "outputs": [],
   "source": [
    "ITEM_ID = 'business_id'\n",
    "USER_ID = 'user_id'\n",
    "RATING = 'rating'\n",
    "BINARY_RATING = 'Binary'\n",
    "REVIEW_TEXT = 'review_text'\n",
    "TIMESTAMP = 'review_date'\n",
    "# TIMESTAMP = 'timestamp'\n",
    "DATA_PATH = '../../data/yelp/'\n",
    "DATA_NAME = 'toronto_reviews.csv'"
   ]
  },
  {
   "cell_type": "code",
   "execution_count": 6,
   "metadata": {
    "scrolled": true
   },
   "outputs": [],
   "source": [
    "# Load Original Data\n",
    "\n",
    "dataset_name = 'yelp'\n",
    "\n",
    "df = pd.read_csv('../../data/'+ dataset_name +'/toronto_reviews.csv')\n",
    "# df_train = pd.read_csv('../../data/'+ dataset_name +'/Train.csv')\n",
    "# df_valid = pd.read_csv('../../data/'+ dataset_name +'/Valid.csv')\n",
    "# df_test = pd.read_csv('../../data/'+ dataset_name +'/Test.csv')\n",
    "# key_phrase = pd.read_csv('../data/'+ dataset_name +'/KeyPhrases.csv')"
   ]
  },
  {
   "cell_type": "code",
   "execution_count": 10,
   "metadata": {
    "scrolled": true
   },
   "outputs": [
    {
     "data": {
      "text/html": [
       "<div>\n",
       "<style>\n",
       "    .dataframe thead tr:only-child th {\n",
       "        text-align: right;\n",
       "    }\n",
       "\n",
       "    .dataframe thead th {\n",
       "        text-align: left;\n",
       "    }\n",
       "\n",
       "    .dataframe tbody tr th {\n",
       "        vertical-align: top;\n",
       "    }\n",
       "</style>\n",
       "<table border=\"1\" class=\"dataframe\">\n",
       "  <thead>\n",
       "    <tr style=\"text-align: right;\">\n",
       "      <th></th>\n",
       "      <th>business_id</th>\n",
       "      <th>friend_count</th>\n",
       "      <th>ghost</th>\n",
       "      <th>img_dsc</th>\n",
       "      <th>img_url</th>\n",
       "      <th>nr</th>\n",
       "      <th>photo_count</th>\n",
       "      <th>rating</th>\n",
       "      <th>review_count</th>\n",
       "      <th>review_date</th>\n",
       "      <th>...</th>\n",
       "      <th>review_language</th>\n",
       "      <th>review_text</th>\n",
       "      <th>ufc</th>\n",
       "      <th>user_id</th>\n",
       "      <th>user_loc</th>\n",
       "      <th>vote_count</th>\n",
       "      <th>Updated</th>\n",
       "      <th>Year</th>\n",
       "      <th>Month</th>\n",
       "      <th>Day</th>\n",
       "    </tr>\n",
       "  </thead>\n",
       "  <tbody>\n",
       "    <tr>\n",
       "      <th>0</th>\n",
       "      <td>bSQGCheX1BwvL67Az1OJlA</td>\n",
       "      <td>90</td>\n",
       "      <td>False</td>\n",
       "      <td>[]</td>\n",
       "      <td>[]</td>\n",
       "      <td>False</td>\n",
       "      <td>231.0</td>\n",
       "      <td>5.0</td>\n",
       "      <td>82</td>\n",
       "      <td>['9', '5', '2018']</td>\n",
       "      <td>...</td>\n",
       "      <td>en</td>\n",
       "      <td>I had a good experience at this store. I was g...</td>\n",
       "      <td>[10, 1, 10]</td>\n",
       "      <td>q41qqkChL9fRxF43cnkgbw</td>\n",
       "      <td>Houston, TX</td>\n",
       "      <td>11.0</td>\n",
       "      <td>False</td>\n",
       "      <td>2018</td>\n",
       "      <td>5</td>\n",
       "      <td>9</td>\n",
       "    </tr>\n",
       "    <tr>\n",
       "      <th>1</th>\n",
       "      <td>bSQGCheX1BwvL67Az1OJlA</td>\n",
       "      <td>0</td>\n",
       "      <td>False</td>\n",
       "      <td>[]</td>\n",
       "      <td>[]</td>\n",
       "      <td>False</td>\n",
       "      <td>9.0</td>\n",
       "      <td>1.0</td>\n",
       "      <td>43</td>\n",
       "      <td>['3', '6', '2018']</td>\n",
       "      <td>...</td>\n",
       "      <td>en</td>\n",
       "      <td>I reaaaaaally wish I had read all the stories ...</td>\n",
       "      <td>[0, 0, 0]</td>\n",
       "      <td>tNT5I9-QcljS-7w_doXCXQ</td>\n",
       "      <td>Toronto, Canada</td>\n",
       "      <td>0.0</td>\n",
       "      <td>False</td>\n",
       "      <td>2018</td>\n",
       "      <td>6</td>\n",
       "      <td>3</td>\n",
       "    </tr>\n",
       "    <tr>\n",
       "      <th>2</th>\n",
       "      <td>bSQGCheX1BwvL67Az1OJlA</td>\n",
       "      <td>52</td>\n",
       "      <td>False</td>\n",
       "      <td>[\"Photo of Sleep Country - Toronto, ON, Canada...</td>\n",
       "      <td>['https://s3-media1.fl.yelpcdn.com/bphoto/E_gL...</td>\n",
       "      <td>False</td>\n",
       "      <td>27.0</td>\n",
       "      <td>1.0</td>\n",
       "      <td>31</td>\n",
       "      <td>['7', '30', '2016']</td>\n",
       "      <td>...</td>\n",
       "      <td>en</td>\n",
       "      <td>Everything was fine until the delivery. I wait...</td>\n",
       "      <td>[3, 1, 2]</td>\n",
       "      <td>9q1Do6TVM27RNHUQAQxPRg</td>\n",
       "      <td>Toronto, Canada</td>\n",
       "      <td>3.0</td>\n",
       "      <td>False</td>\n",
       "      <td>2016</td>\n",
       "      <td>30</td>\n",
       "      <td>7</td>\n",
       "    </tr>\n",
       "    <tr>\n",
       "      <th>3</th>\n",
       "      <td>Z7JV11GXw_RsGr8Ik_Hsag</td>\n",
       "      <td>0</td>\n",
       "      <td>False</td>\n",
       "      <td>[]</td>\n",
       "      <td>[]</td>\n",
       "      <td>False</td>\n",
       "      <td>NaN</td>\n",
       "      <td>5.0</td>\n",
       "      <td>3</td>\n",
       "      <td>['12', '16', '2018']</td>\n",
       "      <td>...</td>\n",
       "      <td>en</td>\n",
       "      <td>Thought I had bed bugs, but it turned out to b...</td>\n",
       "      <td>[0, 0, 0]</td>\n",
       "      <td>cr-4gAf1_seYWLoO59Lp4w</td>\n",
       "      <td>Old Toronto, Toronto, Canada</td>\n",
       "      <td>0.0</td>\n",
       "      <td>False</td>\n",
       "      <td>2018</td>\n",
       "      <td>16</td>\n",
       "      <td>12</td>\n",
       "    </tr>\n",
       "    <tr>\n",
       "      <th>4</th>\n",
       "      <td>Z7JV11GXw_RsGr8Ik_Hsag</td>\n",
       "      <td>0</td>\n",
       "      <td>False</td>\n",
       "      <td>[]</td>\n",
       "      <td>[]</td>\n",
       "      <td>False</td>\n",
       "      <td>NaN</td>\n",
       "      <td>5.0</td>\n",
       "      <td>5</td>\n",
       "      <td>['8', '6', '2014']</td>\n",
       "      <td>...</td>\n",
       "      <td>en</td>\n",
       "      <td>When we called, Mr. Akram was willing to come ...</td>\n",
       "      <td>[1, 0, 0]</td>\n",
       "      <td>CQkTIyhNczRlRI4kIdAzSw</td>\n",
       "      <td>Toronto, Canada</td>\n",
       "      <td>1.0</td>\n",
       "      <td>False</td>\n",
       "      <td>2014</td>\n",
       "      <td>6</td>\n",
       "      <td>8</td>\n",
       "    </tr>\n",
       "  </tbody>\n",
       "</table>\n",
       "<p>5 rows × 21 columns</p>\n",
       "</div>"
      ],
      "text/plain": [
       "              business_id  friend_count  ghost  \\\n",
       "0  bSQGCheX1BwvL67Az1OJlA            90  False   \n",
       "1  bSQGCheX1BwvL67Az1OJlA             0  False   \n",
       "2  bSQGCheX1BwvL67Az1OJlA            52  False   \n",
       "3  Z7JV11GXw_RsGr8Ik_Hsag             0  False   \n",
       "4  Z7JV11GXw_RsGr8Ik_Hsag             0  False   \n",
       "\n",
       "                                             img_dsc  \\\n",
       "0                                                 []   \n",
       "1                                                 []   \n",
       "2  [\"Photo of Sleep Country - Toronto, ON, Canada...   \n",
       "3                                                 []   \n",
       "4                                                 []   \n",
       "\n",
       "                                             img_url     nr  photo_count  \\\n",
       "0                                                 []  False        231.0   \n",
       "1                                                 []  False          9.0   \n",
       "2  ['https://s3-media1.fl.yelpcdn.com/bphoto/E_gL...  False         27.0   \n",
       "3                                                 []  False          NaN   \n",
       "4                                                 []  False          NaN   \n",
       "\n",
       "   rating  review_count           review_date ...  review_language  \\\n",
       "0     5.0            82    ['9', '5', '2018'] ...               en   \n",
       "1     1.0            43    ['3', '6', '2018'] ...               en   \n",
       "2     1.0            31   ['7', '30', '2016'] ...               en   \n",
       "3     5.0             3  ['12', '16', '2018'] ...               en   \n",
       "4     5.0             5    ['8', '6', '2014'] ...               en   \n",
       "\n",
       "                                         review_text          ufc  \\\n",
       "0  I had a good experience at this store. I was g...  [10, 1, 10]   \n",
       "1  I reaaaaaally wish I had read all the stories ...    [0, 0, 0]   \n",
       "2  Everything was fine until the delivery. I wait...    [3, 1, 2]   \n",
       "3  Thought I had bed bugs, but it turned out to b...    [0, 0, 0]   \n",
       "4  When we called, Mr. Akram was willing to come ...    [1, 0, 0]   \n",
       "\n",
       "                  user_id                      user_loc vote_count  Updated  \\\n",
       "0  q41qqkChL9fRxF43cnkgbw                   Houston, TX       11.0    False   \n",
       "1  tNT5I9-QcljS-7w_doXCXQ               Toronto, Canada        0.0    False   \n",
       "2  9q1Do6TVM27RNHUQAQxPRg               Toronto, Canada        3.0    False   \n",
       "3  cr-4gAf1_seYWLoO59Lp4w  Old Toronto, Toronto, Canada        0.0    False   \n",
       "4  CQkTIyhNczRlRI4kIdAzSw               Toronto, Canada        1.0    False   \n",
       "\n",
       "   Year  Month  Day  \n",
       "0  2018      5    9  \n",
       "1  2018      6    3  \n",
       "2  2016     30    7  \n",
       "3  2018     16   12  \n",
       "4  2014      6    8  \n",
       "\n",
       "[5 rows x 21 columns]"
      ]
     },
     "execution_count": 10,
     "metadata": {},
     "output_type": "execute_result"
    }
   ],
   "source": [
    "df.head()"
   ]
  },
  {
   "cell_type": "code",
   "execution_count": 8,
   "metadata": {
    "collapsed": true
   },
   "outputs": [],
   "source": [
    "df = df.drop([\"Unnamed: 0\", \"Unnamed: 0.1\"],axis = 1)"
   ]
  },
  {
   "cell_type": "code",
   "execution_count": 11,
   "metadata": {
    "scrolled": true
   },
   "outputs": [
    {
     "data": {
      "text/plain": [
       "32022"
      ]
     },
     "execution_count": 11,
     "metadata": {},
     "output_type": "execute_result"
    }
   ],
   "source": [
    "df[ITEM_ID].nunique()"
   ]
  },
  {
   "cell_type": "code",
   "execution_count": 12,
   "metadata": {},
   "outputs": [
    {
     "data": {
      "text/plain": [
       "128419"
      ]
     },
     "execution_count": 12,
     "metadata": {},
     "output_type": "execute_result"
    }
   ],
   "source": [
    "df[USER_ID].nunique()"
   ]
  },
  {
   "cell_type": "code",
   "execution_count": 13,
   "metadata": {
    "collapsed": true
   },
   "outputs": [],
   "source": [
    "def filter_dataset(df, threshold=3, popularity=True, filter_by_review_count=True, \n",
    "                   user_review_threshold=10, item_review_threshold=10, \n",
    "                   num_user=None, num_item=None, user_ratio=0.25, item_ratio=0.2):\n",
    "    # Binarize rating\n",
    "    df[BINARY_RATING] = (df[RATING] > threshold)*1\n",
    "\n",
    "    # Filter dataset only based on positive ratings\n",
    "    df = df[df[BINARY_RATING] == 1]\n",
    "    \n",
    "    print(\"The total number of users is {}\".format(df[USER_ID].nunique()))\n",
    "    print(\"The total number of items is {} \\n\".format(df[ITEM_ID].nunique()))\n",
    "    \n",
    "\n",
    "    values = df[ITEM_ID].value_counts().keys().tolist()\n",
    "    counts = df[ITEM_ID].value_counts().tolist()\n",
    "    item_df = pd.DataFrame.from_dict({ITEM_ID: values, \"count\": counts})\n",
    "    \n",
    "    values = df[USER_ID].value_counts().keys().tolist()\n",
    "    counts = df[USER_ID].value_counts().tolist()\n",
    "    user_df = pd.DataFrame.from_dict({USER_ID: values, \"count\": counts})\n",
    "    \n",
    "    if popularity:\n",
    "        print(\"Filter dataset by popularity. \\n\")\n",
    "        \n",
    "        if filter_by_review_count:\n",
    "            print(\"Filter dataset by review count. \\n\")\n",
    "            \n",
    "            filtered_item_df = item_df[item_df[\"count\"] >= item_review_threshold]\n",
    "            filtered_item_id = filtered_item_df[ITEM_ID].values\n",
    "            \n",
    "            filtered_user_df = user_df[user_df[\"count\"] >= user_review_threshold]\n",
    "            filtered_user_id = filtered_user_df[USER_ID].values\n",
    "            \n",
    "        else:\n",
    "            print(\"Filter dataset by user and item number. \\n\")\n",
    "            filtered_item_id = item_df[ITEM_ID].unique()[:num_item]\n",
    "            filtered_user_id = user_df[USER_ID].unique()[:num_user]\n",
    "            \n",
    "    else:\n",
    "        print(\"Filter dataset by sampling. \\n\")\n",
    "        np.random.seed(8292)\n",
    "        \n",
    "        filtered_item_id = np.take(item_df[ITEM_ID].unique(), \n",
    "                                   indices=np.random.choice(len(item_df), int(item_ratio*len(item_df))))\n",
    "        filtered_user_id = np.take(user_df[USER_ID].unique(), \n",
    "                                   indices=np.random.choice(len(user_df), int(user_ratio*len(user_df))))\n",
    "        \n",
    "    df = df.loc[(df[USER_ID].isin(filtered_user_id)) & (df[ITEM_ID].isin(filtered_item_id))]\n",
    "    \n",
    "    print(\"Number of User: {}\".format(df[USER_ID].nunique()))\n",
    "    print(\"Number of Item: {}\".format(df[ITEM_ID].nunique()))\n",
    "\n",
    "    return df"
   ]
  },
  {
   "cell_type": "markdown",
   "metadata": {},
   "source": [
    "# Filter the dataset by popularity then by number of users and items"
   ]
  },
  {
   "cell_type": "code",
   "execution_count": 14,
   "metadata": {
    "scrolled": true
   },
   "outputs": [
    {
     "name": "stdout",
     "output_type": "stream",
     "text": [
      "The total number of users is 90758\n",
      "The total number of items is 27896 \n",
      "\n",
      "Filter dataset by popularity. \n",
      "\n",
      "Filter dataset by review count. \n",
      "\n",
      "Number of User: 5937\n",
      "Number of Item: 7895\n"
     ]
    }
   ],
   "source": [
    "filtered_df = filter_dataset(df, threshold=3, popularity=True, filter_by_review_count=True, \n",
    "                             user_review_threshold=10, item_review_threshold=10, \n",
    "                             num_user=8000, num_item=4000, user_ratio=None, item_ratio=None)"
   ]
  },
  {
   "cell_type": "markdown",
   "metadata": {},
   "source": [
    "# Analyze filtered dataset"
   ]
  },
  {
   "cell_type": "code",
   "execution_count": 15,
   "metadata": {
    "collapsed": true
   },
   "outputs": [],
   "source": [
    "filtered_df = filtered_df.reset_index(drop = True)"
   ]
  },
  {
   "cell_type": "code",
   "execution_count": 16,
   "metadata": {
    "scrolled": true
   },
   "outputs": [
    {
     "data": {
      "text/html": [
       "<div>\n",
       "<style>\n",
       "    .dataframe thead tr:only-child th {\n",
       "        text-align: right;\n",
       "    }\n",
       "\n",
       "    .dataframe thead th {\n",
       "        text-align: left;\n",
       "    }\n",
       "\n",
       "    .dataframe tbody tr th {\n",
       "        vertical-align: top;\n",
       "    }\n",
       "</style>\n",
       "<table border=\"1\" class=\"dataframe\">\n",
       "  <thead>\n",
       "    <tr style=\"text-align: right;\">\n",
       "      <th></th>\n",
       "      <th>business_id</th>\n",
       "      <th>friend_count</th>\n",
       "      <th>ghost</th>\n",
       "      <th>img_dsc</th>\n",
       "      <th>img_url</th>\n",
       "      <th>nr</th>\n",
       "      <th>photo_count</th>\n",
       "      <th>rating</th>\n",
       "      <th>review_count</th>\n",
       "      <th>review_date</th>\n",
       "      <th>...</th>\n",
       "      <th>review_text</th>\n",
       "      <th>ufc</th>\n",
       "      <th>user_id</th>\n",
       "      <th>user_loc</th>\n",
       "      <th>vote_count</th>\n",
       "      <th>Updated</th>\n",
       "      <th>Year</th>\n",
       "      <th>Month</th>\n",
       "      <th>Day</th>\n",
       "      <th>Binary</th>\n",
       "    </tr>\n",
       "  </thead>\n",
       "  <tbody>\n",
       "    <tr>\n",
       "      <th>0</th>\n",
       "      <td>Xo1LNzhnwE-ilqsM3ybs9Q</td>\n",
       "      <td>105</td>\n",
       "      <td>False</td>\n",
       "      <td>['Photo of Happy Lemon - Markham, ON, Canada. ...</td>\n",
       "      <td>['https://s3-media4.fl.yelpcdn.com/bphoto/tu7j...</td>\n",
       "      <td>False</td>\n",
       "      <td>325.0</td>\n",
       "      <td>4.0</td>\n",
       "      <td>122</td>\n",
       "      <td>['8', '23', '2016']</td>\n",
       "      <td>...</td>\n",
       "      <td>I ordered the lemon mango slush and the lemon ...</td>\n",
       "      <td>[1, 1, 1]</td>\n",
       "      <td>zsJFjhBQEFQ6gJ7BsNM_Ug</td>\n",
       "      <td>Toronto, Canada</td>\n",
       "      <td>1.0</td>\n",
       "      <td>False</td>\n",
       "      <td>2016</td>\n",
       "      <td>23</td>\n",
       "      <td>8</td>\n",
       "      <td>1</td>\n",
       "    </tr>\n",
       "    <tr>\n",
       "      <th>1</th>\n",
       "      <td>Xo1LNzhnwE-ilqsM3ybs9Q</td>\n",
       "      <td>239</td>\n",
       "      <td>False</td>\n",
       "      <td>['Photo of Happy Lemon - Markham, ON, Canada. ...</td>\n",
       "      <td>['https://s3-media4.fl.yelpcdn.com/bphoto/tS6Y...</td>\n",
       "      <td>False</td>\n",
       "      <td>78.0</td>\n",
       "      <td>5.0</td>\n",
       "      <td>49</td>\n",
       "      <td>['11', '6', '2016']</td>\n",
       "      <td>...</td>\n",
       "      <td>{Grapefruit &amp; Yakult Green Tea with Aloe Jelly...</td>\n",
       "      <td>[0, 0, 0]</td>\n",
       "      <td>C91it8b3odRg0503asUaJA</td>\n",
       "      <td>Markham, Canada</td>\n",
       "      <td>0.0</td>\n",
       "      <td>False</td>\n",
       "      <td>2016</td>\n",
       "      <td>6</td>\n",
       "      <td>11</td>\n",
       "      <td>1</td>\n",
       "    </tr>\n",
       "    <tr>\n",
       "      <th>2</th>\n",
       "      <td>Xo1LNzhnwE-ilqsM3ybs9Q</td>\n",
       "      <td>10</td>\n",
       "      <td>False</td>\n",
       "      <td>['Photo of Happy Lemon - Markham, ON, Canada',...</td>\n",
       "      <td>['https://s3-media3.fl.yelpcdn.com/bphoto/rfB0...</td>\n",
       "      <td>False</td>\n",
       "      <td>504.0</td>\n",
       "      <td>4.0</td>\n",
       "      <td>164</td>\n",
       "      <td>['9', '25', '2016']</td>\n",
       "      <td>...</td>\n",
       "      <td>Saw this newly opened bubble tea shop and want...</td>\n",
       "      <td>[0, 0, 0]</td>\n",
       "      <td>dAB-v4B-5_8QgTcoVSnZOw</td>\n",
       "      <td>Vaughan, Canada</td>\n",
       "      <td>0.0</td>\n",
       "      <td>False</td>\n",
       "      <td>2016</td>\n",
       "      <td>25</td>\n",
       "      <td>9</td>\n",
       "      <td>1</td>\n",
       "    </tr>\n",
       "    <tr>\n",
       "      <th>3</th>\n",
       "      <td>Xo1LNzhnwE-ilqsM3ybs9Q</td>\n",
       "      <td>80</td>\n",
       "      <td>False</td>\n",
       "      <td>['Photo of Happy Lemon - Markham, ON, Canada',...</td>\n",
       "      <td>['https://s3-media1.fl.yelpcdn.com/bphoto/2jVn...</td>\n",
       "      <td>False</td>\n",
       "      <td>743.0</td>\n",
       "      <td>5.0</td>\n",
       "      <td>128</td>\n",
       "      <td>['6', '30', '2018']</td>\n",
       "      <td>...</td>\n",
       "      <td>Happy Lemon has become my new favourite place ...</td>\n",
       "      <td>[5, 0, 0]</td>\n",
       "      <td>Dt_h4Dt0lVblqRxLLV25YQ</td>\n",
       "      <td>Markham, Canada</td>\n",
       "      <td>5.0</td>\n",
       "      <td>False</td>\n",
       "      <td>2018</td>\n",
       "      <td>30</td>\n",
       "      <td>6</td>\n",
       "      <td>1</td>\n",
       "    </tr>\n",
       "    <tr>\n",
       "      <th>4</th>\n",
       "      <td>Xo1LNzhnwE-ilqsM3ybs9Q</td>\n",
       "      <td>250</td>\n",
       "      <td>False</td>\n",
       "      <td>['Photo of Happy Lemon - Markham, ON, Canada. ...</td>\n",
       "      <td>['https://s3-media3.fl.yelpcdn.com/bphoto/yWze...</td>\n",
       "      <td>False</td>\n",
       "      <td>707.0</td>\n",
       "      <td>4.0</td>\n",
       "      <td>52</td>\n",
       "      <td>['1', '28', '2018']</td>\n",
       "      <td>...</td>\n",
       "      <td>As \"temporary\" duchess I guess I'll finally wr...</td>\n",
       "      <td>[1, 0, 0]</td>\n",
       "      <td>L_OxAt1gt9l1gokgGoW7Sg</td>\n",
       "      <td>Markham, Canada</td>\n",
       "      <td>1.0</td>\n",
       "      <td>False</td>\n",
       "      <td>2018</td>\n",
       "      <td>28</td>\n",
       "      <td>1</td>\n",
       "      <td>1</td>\n",
       "    </tr>\n",
       "  </tbody>\n",
       "</table>\n",
       "<p>5 rows × 22 columns</p>\n",
       "</div>"
      ],
      "text/plain": [
       "              business_id  friend_count  ghost  \\\n",
       "0  Xo1LNzhnwE-ilqsM3ybs9Q           105  False   \n",
       "1  Xo1LNzhnwE-ilqsM3ybs9Q           239  False   \n",
       "2  Xo1LNzhnwE-ilqsM3ybs9Q            10  False   \n",
       "3  Xo1LNzhnwE-ilqsM3ybs9Q            80  False   \n",
       "4  Xo1LNzhnwE-ilqsM3ybs9Q           250  False   \n",
       "\n",
       "                                             img_dsc  \\\n",
       "0  ['Photo of Happy Lemon - Markham, ON, Canada. ...   \n",
       "1  ['Photo of Happy Lemon - Markham, ON, Canada. ...   \n",
       "2  ['Photo of Happy Lemon - Markham, ON, Canada',...   \n",
       "3  ['Photo of Happy Lemon - Markham, ON, Canada',...   \n",
       "4  ['Photo of Happy Lemon - Markham, ON, Canada. ...   \n",
       "\n",
       "                                             img_url     nr  photo_count  \\\n",
       "0  ['https://s3-media4.fl.yelpcdn.com/bphoto/tu7j...  False        325.0   \n",
       "1  ['https://s3-media4.fl.yelpcdn.com/bphoto/tS6Y...  False         78.0   \n",
       "2  ['https://s3-media3.fl.yelpcdn.com/bphoto/rfB0...  False        504.0   \n",
       "3  ['https://s3-media1.fl.yelpcdn.com/bphoto/2jVn...  False        743.0   \n",
       "4  ['https://s3-media3.fl.yelpcdn.com/bphoto/yWze...  False        707.0   \n",
       "\n",
       "   rating  review_count          review_date   ...    \\\n",
       "0     4.0           122  ['8', '23', '2016']   ...     \n",
       "1     5.0            49  ['11', '6', '2016']   ...     \n",
       "2     4.0           164  ['9', '25', '2016']   ...     \n",
       "3     5.0           128  ['6', '30', '2018']   ...     \n",
       "4     4.0            52  ['1', '28', '2018']   ...     \n",
       "\n",
       "                                         review_text        ufc  \\\n",
       "0  I ordered the lemon mango slush and the lemon ...  [1, 1, 1]   \n",
       "1  {Grapefruit & Yakult Green Tea with Aloe Jelly...  [0, 0, 0]   \n",
       "2  Saw this newly opened bubble tea shop and want...  [0, 0, 0]   \n",
       "3  Happy Lemon has become my new favourite place ...  [5, 0, 0]   \n",
       "4  As \"temporary\" duchess I guess I'll finally wr...  [1, 0, 0]   \n",
       "\n",
       "                  user_id         user_loc vote_count Updated  Year  Month  \\\n",
       "0  zsJFjhBQEFQ6gJ7BsNM_Ug  Toronto, Canada        1.0   False  2016     23   \n",
       "1  C91it8b3odRg0503asUaJA  Markham, Canada        0.0   False  2016      6   \n",
       "2  dAB-v4B-5_8QgTcoVSnZOw  Vaughan, Canada        0.0   False  2016     25   \n",
       "3  Dt_h4Dt0lVblqRxLLV25YQ  Markham, Canada        5.0   False  2018     30   \n",
       "4  L_OxAt1gt9l1gokgGoW7Sg  Markham, Canada        1.0   False  2018     28   \n",
       "\n",
       "   Day  Binary  \n",
       "0    8       1  \n",
       "1   11       1  \n",
       "2    9       1  \n",
       "3    6       1  \n",
       "4    1       1  \n",
       "\n",
       "[5 rows x 22 columns]"
      ]
     },
     "execution_count": 16,
     "metadata": {},
     "output_type": "execute_result"
    }
   ],
   "source": [
    "filtered_df.head()"
   ]
  },
  {
   "cell_type": "code",
   "execution_count": 17,
   "metadata": {
    "collapsed": true
   },
   "outputs": [],
   "source": [
    "values = filtered_df[USER_ID].value_counts().keys().tolist()\n",
    "counts = filtered_df[USER_ID].value_counts().tolist()\n",
    "user_df = pd.DataFrame.from_dict({USER_ID: values, \"count\": counts})\n",
    "\n",
    "values = filtered_df[ITEM_ID].value_counts().keys().tolist()\n",
    "counts = filtered_df[ITEM_ID].value_counts().tolist()\n",
    "item_df = pd.DataFrame.from_dict({ITEM_ID: values, \"count\": counts})"
   ]
  },
  {
   "cell_type": "code",
   "execution_count": 18,
   "metadata": {},
   "outputs": [
    {
     "data": {
      "text/html": [
       "<div>\n",
       "<style>\n",
       "    .dataframe thead tr:only-child th {\n",
       "        text-align: right;\n",
       "    }\n",
       "\n",
       "    .dataframe thead th {\n",
       "        text-align: left;\n",
       "    }\n",
       "\n",
       "    .dataframe tbody tr th {\n",
       "        vertical-align: top;\n",
       "    }\n",
       "</style>\n",
       "<table border=\"1\" class=\"dataframe\">\n",
       "  <thead>\n",
       "    <tr style=\"text-align: right;\">\n",
       "      <th></th>\n",
       "      <th>business_id</th>\n",
       "      <th>count</th>\n",
       "    </tr>\n",
       "  </thead>\n",
       "  <tbody>\n",
       "    <tr>\n",
       "      <th>7890</th>\n",
       "      <td>o5R8XHxSudzAFbeXJY3aSw</td>\n",
       "      <td>1</td>\n",
       "    </tr>\n",
       "    <tr>\n",
       "      <th>7891</th>\n",
       "      <td>xTqvWZGe6rANO7bAoE_c0g</td>\n",
       "      <td>1</td>\n",
       "    </tr>\n",
       "    <tr>\n",
       "      <th>7892</th>\n",
       "      <td>m1MD1SzBPMOoGfLEFNP2yA</td>\n",
       "      <td>1</td>\n",
       "    </tr>\n",
       "    <tr>\n",
       "      <th>7893</th>\n",
       "      <td>wSNFfVa3ijabhCw2vQ3x1w</td>\n",
       "      <td>1</td>\n",
       "    </tr>\n",
       "    <tr>\n",
       "      <th>7894</th>\n",
       "      <td>cSHlKFMS_yWhHfbUXw2OyQ</td>\n",
       "      <td>1</td>\n",
       "    </tr>\n",
       "  </tbody>\n",
       "</table>\n",
       "</div>"
      ],
      "text/plain": [
       "                 business_id  count\n",
       "7890  o5R8XHxSudzAFbeXJY3aSw      1\n",
       "7891  xTqvWZGe6rANO7bAoE_c0g      1\n",
       "7892  m1MD1SzBPMOoGfLEFNP2yA      1\n",
       "7893  wSNFfVa3ijabhCw2vQ3x1w      1\n",
       "7894  cSHlKFMS_yWhHfbUXw2OyQ      1"
      ]
     },
     "execution_count": 18,
     "metadata": {},
     "output_type": "execute_result"
    }
   ],
   "source": [
    "item_df.tail()"
   ]
  },
  {
   "cell_type": "code",
   "execution_count": 19,
   "metadata": {},
   "outputs": [
    {
     "data": {
      "text/plain": [
       "18.56529449018366"
      ]
     },
     "execution_count": 19,
     "metadata": {},
     "output_type": "execute_result"
    }
   ],
   "source": [
    "item_df[\"count\"].mean()"
   ]
  },
  {
   "cell_type": "code",
   "execution_count": 20,
   "metadata": {
    "scrolled": true
   },
   "outputs": [
    {
     "data": {
      "text/html": [
       "<div>\n",
       "<style>\n",
       "    .dataframe thead tr:only-child th {\n",
       "        text-align: right;\n",
       "    }\n",
       "\n",
       "    .dataframe thead th {\n",
       "        text-align: left;\n",
       "    }\n",
       "\n",
       "    .dataframe tbody tr th {\n",
       "        vertical-align: top;\n",
       "    }\n",
       "</style>\n",
       "<table border=\"1\" class=\"dataframe\">\n",
       "  <thead>\n",
       "    <tr style=\"text-align: right;\">\n",
       "      <th></th>\n",
       "      <th>count</th>\n",
       "      <th>user_id</th>\n",
       "    </tr>\n",
       "  </thead>\n",
       "  <tbody>\n",
       "    <tr>\n",
       "      <th>0</th>\n",
       "      <td>634</td>\n",
       "      <td>CxDOIDnH8gp9KXzpBHJYXw</td>\n",
       "    </tr>\n",
       "    <tr>\n",
       "      <th>1</th>\n",
       "      <td>445</td>\n",
       "      <td>Q9mA60HnY87C1TW5kjAZ6Q</td>\n",
       "    </tr>\n",
       "    <tr>\n",
       "      <th>2</th>\n",
       "      <td>310</td>\n",
       "      <td>WeVkkF5L39888IPPlRhNpg</td>\n",
       "    </tr>\n",
       "    <tr>\n",
       "      <th>3</th>\n",
       "      <td>293</td>\n",
       "      <td>FREeRQtjdJU83AFtdETBBw</td>\n",
       "    </tr>\n",
       "    <tr>\n",
       "      <th>4</th>\n",
       "      <td>282</td>\n",
       "      <td>ic-tyi1jElL_umxZVh8KNA</td>\n",
       "    </tr>\n",
       "    <tr>\n",
       "      <th>5</th>\n",
       "      <td>274</td>\n",
       "      <td>JrXC_MDp38BWwLn2SFdNsA</td>\n",
       "    </tr>\n",
       "    <tr>\n",
       "      <th>6</th>\n",
       "      <td>240</td>\n",
       "      <td>0BBUmH7Krcax1RZgbH4fSA</td>\n",
       "    </tr>\n",
       "    <tr>\n",
       "      <th>7</th>\n",
       "      <td>239</td>\n",
       "      <td>Nq6e5N8bjgD9B46O4va_zA</td>\n",
       "    </tr>\n",
       "    <tr>\n",
       "      <th>8</th>\n",
       "      <td>219</td>\n",
       "      <td>j6wLUT0ZXi-x0otelYIFpA</td>\n",
       "    </tr>\n",
       "    <tr>\n",
       "      <th>9</th>\n",
       "      <td>218</td>\n",
       "      <td>aX6_Pf3njB-H3FrqgnNJ2g</td>\n",
       "    </tr>\n",
       "    <tr>\n",
       "      <th>10</th>\n",
       "      <td>217</td>\n",
       "      <td>Kj9cFO70zZOQorN0mgeLWA</td>\n",
       "    </tr>\n",
       "    <tr>\n",
       "      <th>11</th>\n",
       "      <td>214</td>\n",
       "      <td>2e5V6M4GNufEnbGJpVdCjw</td>\n",
       "    </tr>\n",
       "    <tr>\n",
       "      <th>12</th>\n",
       "      <td>210</td>\n",
       "      <td>yT_QCcnq-QGipWWuzIpvtw</td>\n",
       "    </tr>\n",
       "    <tr>\n",
       "      <th>13</th>\n",
       "      <td>207</td>\n",
       "      <td>JLv2Dmfj73-I0d9N41tz1A</td>\n",
       "    </tr>\n",
       "    <tr>\n",
       "      <th>14</th>\n",
       "      <td>207</td>\n",
       "      <td>V4TPbscN8JsFbEFiwOVBKw</td>\n",
       "    </tr>\n",
       "    <tr>\n",
       "      <th>15</th>\n",
       "      <td>200</td>\n",
       "      <td>J3ucveGKKJDvtuCNnb_x0g</td>\n",
       "    </tr>\n",
       "    <tr>\n",
       "      <th>16</th>\n",
       "      <td>190</td>\n",
       "      <td>tWBLn4k1M7PLBtAtwAg73g</td>\n",
       "    </tr>\n",
       "    <tr>\n",
       "      <th>17</th>\n",
       "      <td>187</td>\n",
       "      <td>JnPIjvC0cmooNDfsa9BmXg</td>\n",
       "    </tr>\n",
       "    <tr>\n",
       "      <th>18</th>\n",
       "      <td>179</td>\n",
       "      <td>alUuOskFSl1bODjnce2PpQ</td>\n",
       "    </tr>\n",
       "    <tr>\n",
       "      <th>19</th>\n",
       "      <td>178</td>\n",
       "      <td>O3q-nwYZykMmacxjru01Zg</td>\n",
       "    </tr>\n",
       "    <tr>\n",
       "      <th>20</th>\n",
       "      <td>178</td>\n",
       "      <td>jwctwzboGhQmtC50Juxa9A</td>\n",
       "    </tr>\n",
       "    <tr>\n",
       "      <th>21</th>\n",
       "      <td>177</td>\n",
       "      <td>8D8mjeNaJ3DGhl0WX8copA</td>\n",
       "    </tr>\n",
       "    <tr>\n",
       "      <th>22</th>\n",
       "      <td>174</td>\n",
       "      <td>PGeiszoVusiv0wTHVdWklA</td>\n",
       "    </tr>\n",
       "    <tr>\n",
       "      <th>23</th>\n",
       "      <td>174</td>\n",
       "      <td>KBh4r16e9Grc1HI9pG4wTg</td>\n",
       "    </tr>\n",
       "    <tr>\n",
       "      <th>24</th>\n",
       "      <td>174</td>\n",
       "      <td>TbhyP24zYZqZ2VJZgu1wrg</td>\n",
       "    </tr>\n",
       "    <tr>\n",
       "      <th>25</th>\n",
       "      <td>173</td>\n",
       "      <td>iRQ_YKpCBdaCwvc2X8_3NQ</td>\n",
       "    </tr>\n",
       "    <tr>\n",
       "      <th>26</th>\n",
       "      <td>172</td>\n",
       "      <td>U5YQX_vMl_xQy8EQDqlNQQ</td>\n",
       "    </tr>\n",
       "    <tr>\n",
       "      <th>27</th>\n",
       "      <td>172</td>\n",
       "      <td>gwIqbXEXijQNgdESVc07hg</td>\n",
       "    </tr>\n",
       "    <tr>\n",
       "      <th>28</th>\n",
       "      <td>170</td>\n",
       "      <td>orh0HRUNCWuQMt9Iia_osg</td>\n",
       "    </tr>\n",
       "    <tr>\n",
       "      <th>29</th>\n",
       "      <td>161</td>\n",
       "      <td>O3pSxv1SyHpY4qi4Q16KzA</td>\n",
       "    </tr>\n",
       "    <tr>\n",
       "      <th>...</th>\n",
       "      <td>...</td>\n",
       "      <td>...</td>\n",
       "    </tr>\n",
       "    <tr>\n",
       "      <th>2313</th>\n",
       "      <td>20</td>\n",
       "      <td>8Pg2fP7iaE92EcBJ4ciNzw</td>\n",
       "    </tr>\n",
       "    <tr>\n",
       "      <th>2314</th>\n",
       "      <td>20</td>\n",
       "      <td>9mBFC5yp_D3wc5sIeG8smg</td>\n",
       "    </tr>\n",
       "    <tr>\n",
       "      <th>2315</th>\n",
       "      <td>20</td>\n",
       "      <td>qAww7qLElXaZDmHSBz2FfA</td>\n",
       "    </tr>\n",
       "    <tr>\n",
       "      <th>2316</th>\n",
       "      <td>20</td>\n",
       "      <td>-Xa9txKVbyQbNtOcOzmyvw</td>\n",
       "    </tr>\n",
       "    <tr>\n",
       "      <th>2317</th>\n",
       "      <td>20</td>\n",
       "      <td>Mye5yI6mT9tIqcg8t9x08Q</td>\n",
       "    </tr>\n",
       "    <tr>\n",
       "      <th>2318</th>\n",
       "      <td>20</td>\n",
       "      <td>PuXpIJzTBQejeBZh9hwynQ</td>\n",
       "    </tr>\n",
       "    <tr>\n",
       "      <th>2319</th>\n",
       "      <td>20</td>\n",
       "      <td>ck1uolVkwJvVVAf6c8ykLA</td>\n",
       "    </tr>\n",
       "    <tr>\n",
       "      <th>2320</th>\n",
       "      <td>20</td>\n",
       "      <td>J_tWHP2vBryzTkRQcgEQOw</td>\n",
       "    </tr>\n",
       "    <tr>\n",
       "      <th>2321</th>\n",
       "      <td>20</td>\n",
       "      <td>3CVg_6deWqDrnUAkzMOh1A</td>\n",
       "    </tr>\n",
       "    <tr>\n",
       "      <th>2322</th>\n",
       "      <td>20</td>\n",
       "      <td>_EOmCOuRrE63A4ubRFUGmg</td>\n",
       "    </tr>\n",
       "    <tr>\n",
       "      <th>2323</th>\n",
       "      <td>20</td>\n",
       "      <td>zRkHxYXJf7JqIDtdA05bmw</td>\n",
       "    </tr>\n",
       "    <tr>\n",
       "      <th>2324</th>\n",
       "      <td>20</td>\n",
       "      <td>CV1mY0-kcJqHZj6jUEqU_Q</td>\n",
       "    </tr>\n",
       "    <tr>\n",
       "      <th>2325</th>\n",
       "      <td>20</td>\n",
       "      <td>pQ819nbu1HanVg56j0F3Cw</td>\n",
       "    </tr>\n",
       "    <tr>\n",
       "      <th>2326</th>\n",
       "      <td>20</td>\n",
       "      <td>a39kizwaoThU6uLIv_Ke2g</td>\n",
       "    </tr>\n",
       "    <tr>\n",
       "      <th>2327</th>\n",
       "      <td>20</td>\n",
       "      <td>43vDitQVuByP6eN6UaGI4g</td>\n",
       "    </tr>\n",
       "    <tr>\n",
       "      <th>2328</th>\n",
       "      <td>20</td>\n",
       "      <td>YGE_rCB5AbmOY7C3UIbSaQ</td>\n",
       "    </tr>\n",
       "    <tr>\n",
       "      <th>2329</th>\n",
       "      <td>20</td>\n",
       "      <td>1mWig_Kq2rxkmcGvOfpE6A</td>\n",
       "    </tr>\n",
       "    <tr>\n",
       "      <th>2330</th>\n",
       "      <td>20</td>\n",
       "      <td>BN5GEmbeZ92fOTiHXGG_dw</td>\n",
       "    </tr>\n",
       "    <tr>\n",
       "      <th>2331</th>\n",
       "      <td>20</td>\n",
       "      <td>6VcTc3Tz7299PD-HSGlTGw</td>\n",
       "    </tr>\n",
       "    <tr>\n",
       "      <th>2332</th>\n",
       "      <td>20</td>\n",
       "      <td>l5szlQMQ1xp5gwX--qtcgA</td>\n",
       "    </tr>\n",
       "    <tr>\n",
       "      <th>2333</th>\n",
       "      <td>20</td>\n",
       "      <td>hRkKhBHDdzWs05orxRxRhQ</td>\n",
       "    </tr>\n",
       "    <tr>\n",
       "      <th>2334</th>\n",
       "      <td>20</td>\n",
       "      <td>y0EcEh0gY06eqwytvWTnLA</td>\n",
       "    </tr>\n",
       "    <tr>\n",
       "      <th>2335</th>\n",
       "      <td>20</td>\n",
       "      <td>o2q8P9TPsrZRMMpjUhgoDA</td>\n",
       "    </tr>\n",
       "    <tr>\n",
       "      <th>2336</th>\n",
       "      <td>20</td>\n",
       "      <td>_muhtS8ZFnV61s7Q4JXDwQ</td>\n",
       "    </tr>\n",
       "    <tr>\n",
       "      <th>2337</th>\n",
       "      <td>20</td>\n",
       "      <td>SHJ-h0-eskad8HWDLOP9LA</td>\n",
       "    </tr>\n",
       "    <tr>\n",
       "      <th>2338</th>\n",
       "      <td>20</td>\n",
       "      <td>T28Y7AsnZftJptuiIQ_x6Q</td>\n",
       "    </tr>\n",
       "    <tr>\n",
       "      <th>2339</th>\n",
       "      <td>20</td>\n",
       "      <td>VFcrtQc0wfTABrk7aFKCzw</td>\n",
       "    </tr>\n",
       "    <tr>\n",
       "      <th>2340</th>\n",
       "      <td>20</td>\n",
       "      <td>KMPR0rb2m0YbLpWXrqp20w</td>\n",
       "    </tr>\n",
       "    <tr>\n",
       "      <th>2341</th>\n",
       "      <td>20</td>\n",
       "      <td>CzgZt_C31sorjhGF4Wvqeg</td>\n",
       "    </tr>\n",
       "    <tr>\n",
       "      <th>2342</th>\n",
       "      <td>20</td>\n",
       "      <td>avPTevvQPxbzmqYydeU2Jg</td>\n",
       "    </tr>\n",
       "  </tbody>\n",
       "</table>\n",
       "<p>2343 rows × 2 columns</p>\n",
       "</div>"
      ],
      "text/plain": [
       "      count                 user_id\n",
       "0       634  CxDOIDnH8gp9KXzpBHJYXw\n",
       "1       445  Q9mA60HnY87C1TW5kjAZ6Q\n",
       "2       310  WeVkkF5L39888IPPlRhNpg\n",
       "3       293  FREeRQtjdJU83AFtdETBBw\n",
       "4       282  ic-tyi1jElL_umxZVh8KNA\n",
       "5       274  JrXC_MDp38BWwLn2SFdNsA\n",
       "6       240  0BBUmH7Krcax1RZgbH4fSA\n",
       "7       239  Nq6e5N8bjgD9B46O4va_zA\n",
       "8       219  j6wLUT0ZXi-x0otelYIFpA\n",
       "9       218  aX6_Pf3njB-H3FrqgnNJ2g\n",
       "10      217  Kj9cFO70zZOQorN0mgeLWA\n",
       "11      214  2e5V6M4GNufEnbGJpVdCjw\n",
       "12      210  yT_QCcnq-QGipWWuzIpvtw\n",
       "13      207  JLv2Dmfj73-I0d9N41tz1A\n",
       "14      207  V4TPbscN8JsFbEFiwOVBKw\n",
       "15      200  J3ucveGKKJDvtuCNnb_x0g\n",
       "16      190  tWBLn4k1M7PLBtAtwAg73g\n",
       "17      187  JnPIjvC0cmooNDfsa9BmXg\n",
       "18      179  alUuOskFSl1bODjnce2PpQ\n",
       "19      178  O3q-nwYZykMmacxjru01Zg\n",
       "20      178  jwctwzboGhQmtC50Juxa9A\n",
       "21      177  8D8mjeNaJ3DGhl0WX8copA\n",
       "22      174  PGeiszoVusiv0wTHVdWklA\n",
       "23      174  KBh4r16e9Grc1HI9pG4wTg\n",
       "24      174  TbhyP24zYZqZ2VJZgu1wrg\n",
       "25      173  iRQ_YKpCBdaCwvc2X8_3NQ\n",
       "26      172  U5YQX_vMl_xQy8EQDqlNQQ\n",
       "27      172  gwIqbXEXijQNgdESVc07hg\n",
       "28      170  orh0HRUNCWuQMt9Iia_osg\n",
       "29      161  O3pSxv1SyHpY4qi4Q16KzA\n",
       "...     ...                     ...\n",
       "2313     20  8Pg2fP7iaE92EcBJ4ciNzw\n",
       "2314     20  9mBFC5yp_D3wc5sIeG8smg\n",
       "2315     20  qAww7qLElXaZDmHSBz2FfA\n",
       "2316     20  -Xa9txKVbyQbNtOcOzmyvw\n",
       "2317     20  Mye5yI6mT9tIqcg8t9x08Q\n",
       "2318     20  PuXpIJzTBQejeBZh9hwynQ\n",
       "2319     20  ck1uolVkwJvVVAf6c8ykLA\n",
       "2320     20  J_tWHP2vBryzTkRQcgEQOw\n",
       "2321     20  3CVg_6deWqDrnUAkzMOh1A\n",
       "2322     20  _EOmCOuRrE63A4ubRFUGmg\n",
       "2323     20  zRkHxYXJf7JqIDtdA05bmw\n",
       "2324     20  CV1mY0-kcJqHZj6jUEqU_Q\n",
       "2325     20  pQ819nbu1HanVg56j0F3Cw\n",
       "2326     20  a39kizwaoThU6uLIv_Ke2g\n",
       "2327     20  43vDitQVuByP6eN6UaGI4g\n",
       "2328     20  YGE_rCB5AbmOY7C3UIbSaQ\n",
       "2329     20  1mWig_Kq2rxkmcGvOfpE6A\n",
       "2330     20  BN5GEmbeZ92fOTiHXGG_dw\n",
       "2331     20  6VcTc3Tz7299PD-HSGlTGw\n",
       "2332     20  l5szlQMQ1xp5gwX--qtcgA\n",
       "2333     20  hRkKhBHDdzWs05orxRxRhQ\n",
       "2334     20  y0EcEh0gY06eqwytvWTnLA\n",
       "2335     20  o2q8P9TPsrZRMMpjUhgoDA\n",
       "2336     20  _muhtS8ZFnV61s7Q4JXDwQ\n",
       "2337     20  SHJ-h0-eskad8HWDLOP9LA\n",
       "2338     20  T28Y7AsnZftJptuiIQ_x6Q\n",
       "2339     20  VFcrtQc0wfTABrk7aFKCzw\n",
       "2340     20  KMPR0rb2m0YbLpWXrqp20w\n",
       "2341     20  CzgZt_C31sorjhGF4Wvqeg\n",
       "2342     20  avPTevvQPxbzmqYydeU2Jg\n",
       "\n",
       "[2343 rows x 2 columns]"
      ]
     },
     "execution_count": 20,
     "metadata": {},
     "output_type": "execute_result"
    }
   ],
   "source": [
    "user_df[user_df[\"count\"] >= 20]"
   ]
  },
  {
   "cell_type": "code",
   "execution_count": 21,
   "metadata": {
    "collapsed": true
   },
   "outputs": [],
   "source": [
    "users = user_df[user_df[\"count\"] >= 20][USER_ID].values"
   ]
  },
  {
   "cell_type": "code",
   "execution_count": null,
   "metadata": {
    "collapsed": true
   },
   "outputs": [],
   "source": [
    "pos_df = filtered_df.loc[filtered_df[USER_ID].isin(users)].reset_index(drop=True)\n",
    "# pos_df\n",
    "\n",
    "# Export the filtered dataset\n",
    "\n",
    "# pos_df.to_csv(DATA_PATH+DATA_NAME+\".csv\", header=False)"
   ]
  },
  {
   "cell_type": "code",
   "execution_count": 23,
   "metadata": {
    "collapsed": true
   },
   "outputs": [],
   "source": [
    "items = pos_df[ITEM_ID].values"
   ]
  },
  {
   "cell_type": "markdown",
   "metadata": {},
   "source": [
    "# Get the Final DF with reviews"
   ]
  },
  {
   "cell_type": "code",
   "execution_count": null,
   "metadata": {
    "collapsed": true
   },
   "outputs": [],
   "source": [
    "cur_df = df.loc[(df[USER_ID].isin(users)) & (df[ITEM_ID].isin(items))].reset_index(drop=True)\n",
    "# cur_df"
   ]
  },
  {
   "cell_type": "code",
   "execution_count": 25,
   "metadata": {},
   "outputs": [
    {
     "data": {
      "text/plain": [
       "2343"
      ]
     },
     "execution_count": 25,
     "metadata": {},
     "output_type": "execute_result"
    }
   ],
   "source": [
    "cur_df[USER_ID].nunique()"
   ]
  },
  {
   "cell_type": "code",
   "execution_count": 26,
   "metadata": {},
   "outputs": [
    {
     "data": {
      "text/plain": [
       "7456"
      ]
     },
     "execution_count": 26,
     "metadata": {},
     "output_type": "execute_result"
    }
   ],
   "source": [
    "cur_df[ITEM_ID].nunique()"
   ]
  },
  {
   "cell_type": "markdown",
   "metadata": {},
   "source": [
    "# Split dataset "
   ]
  },
  {
   "cell_type": "code",
   "execution_count": 214,
   "metadata": {
    "collapsed": true
   },
   "outputs": [],
   "source": [
    "# No split is done for now"
   ]
  },
  {
   "cell_type": "markdown",
   "metadata": {},
   "source": [
    "# Pre-process Reviews"
   ]
  },
  {
   "cell_type": "code",
   "execution_count": 29,
   "metadata": {
    "scrolled": true
   },
   "outputs": [],
   "source": [
    "def preprocess(text):\n",
    "#     text = text.replace('.',' ').replace('/',' ').replace('quot;', ' ').replace('amp;', '').replace('-', ' ')\n",
    "    \n",
    "    text = text.replace('.',' ').replace('/t',' ').replace('\\t',' ').replace('/',' ').replace('-',' ')\n",
    "    \n",
    "    # Tokenize\n",
    "    text = nltk.word_tokenize(text)\n",
    "    \n",
    "    # Lowercase\n",
    "    text = [w.lower() for w in text]\n",
    "\n",
    "    # Remove Punctuation\n",
    "    table = str.maketrans('', '', string.punctuation)\n",
    "    text = [w.translate(table) for w in text]\n",
    "\n",
    "    # Remove tokens that are not alphabetic\n",
    "    text = [w for w in text if w.isalpha()]\n",
    "\n",
    "    # Remove Stopwords\n",
    "    # Get english stopwords\n",
    "    en_stopwords = set(stopwords.words('english'))\n",
    "    en_stopwords.remove('off')\n",
    "    text = [w for w in text if w not in en_stopwords]\n",
    "    \n",
    "    # Lemmatizing\n",
    "    lemmatizer = WordNetLemmatizer()\n",
    "    text = [lemmatizer.lemmatize(w) for w in text]\n",
    "\n",
    "    text = \" \" + \" \".join(str(x) for x in text) + \" \"\n",
    "\n",
    "    text = text.replace('whitish', 'white')\n",
    "    text = text.replace('bisquity', ' biscuit ')\n",
    "    text = text.replace('carmel', ' caramel ')\n",
    "    text = text.replace('flower', ' floral ')\n",
    "    text = text.replace('piny', ' pine ')\n",
    "    text = text.replace('off white', 'offwhite')\n",
    "    text = text.replace('goden', 'gold')\n",
    "    text = text.replace('yello', 'yellow')\n",
    "    text = text.replace('reddish', ' red ') \n",
    "    \n",
    "\n",
    "    # Reset to token\n",
    "    text = nltk.word_tokenize(text)\n",
    "    table = str.maketrans('', '', string.punctuation)\n",
    "    text = [w.translate(table) for w in text]\n",
    "    text = [w for w in text if w.isalpha()]\n",
    "#     en_stopwords = set(stopwords.words('english'))\n",
    "    text = [w for w in text if w not in en_stopwords]\n",
    "    lemmatizer = WordNetLemmatizer()\n",
    "    text = [lemmatizer.lemmatize(w) for w in text]\n",
    "    \n",
    "    return text\n",
    "    \n",
    "cur_df[\"review\"] = cur_df[REVIEW_TEXT].apply(preprocess)\n",
    "cur_df[\"conca_review\"] = cur_df[\"review\"].apply(lambda x: \" \" + \" \".join(str(x) for x in x) + \" \")"
   ]
  },
  {
   "cell_type": "markdown",
   "metadata": {
    "collapsed": true
   },
   "source": [
    "cur_df.to_pickle('../../data/yelp/cur_df.pkl')"
   ]
  },
  {
   "cell_type": "markdown",
   "metadata": {},
   "source": [
    "# Index words since no further changes will be made on the words"
   ]
  },
  {
   "cell_type": "code",
   "execution_count": 32,
   "metadata": {},
   "outputs": [],
   "source": [
    "tokenizer = Tokenizer()\n",
    "token_list = cur_df[\"review\"].tolist()\n",
    "tokenizer.fit_on_texts(token_list)"
   ]
  },
  {
   "cell_type": "code",
   "execution_count": 33,
   "metadata": {},
   "outputs": [],
   "source": [
    "df_word_index = pd.DataFrame(list(tokenizer.word_index.items()), columns=['word','index'])"
   ]
  },
  {
   "cell_type": "code",
   "execution_count": null,
   "metadata": {
    "collapsed": true
   },
   "outputs": [],
   "source": [
    "df_word_index"
   ]
  },
  {
   "cell_type": "code",
   "execution_count": null,
   "metadata": {
    "collapsed": true
   },
   "outputs": [],
   "source": [
    "df_word_index"
   ]
  },
  {
   "cell_type": "code",
   "execution_count": 35,
   "metadata": {
    "collapsed": true
   },
   "outputs": [],
   "source": [
    "token_flatten_list = [item for sublist in token_list for item in sublist]"
   ]
  },
  {
   "cell_type": "code",
   "execution_count": 36,
   "metadata": {},
   "outputs": [
    {
     "data": {
      "text/plain": [
       "12369650"
      ]
     },
     "execution_count": 36,
     "metadata": {},
     "output_type": "execute_result"
    }
   ],
   "source": [
    "total_token = len(token_flatten_list)\n",
    "total_token"
   ]
  },
  {
   "cell_type": "code",
   "execution_count": 37,
   "metadata": {
    "collapsed": true
   },
   "outputs": [],
   "source": [
    "from nltk.probability import FreqDist\n",
    "\n",
    "fdist1 = FreqDist(token_flatten_list)"
   ]
  },
  {
   "cell_type": "code",
   "execution_count": null,
   "metadata": {
    "collapsed": true
   },
   "outputs": [],
   "source": [
    "# fdist1.most_common(250)"
   ]
  },
  {
   "cell_type": "code",
   "execution_count": null,
   "metadata": {
    "collapsed": true
   },
   "outputs": [],
   "source": [
    "# Keyphrases are chosen mannually from top-1000 \n",
    "fdist1.most_common(1000)"
   ]
  },
  {
   "cell_type": "code",
   "execution_count": 185,
   "metadata": {
    "collapsed": true
   },
   "outputs": [],
   "source": [
    "category_key = ['chinese', 'fast', 'thai', 'bar', 'fry', 'fried', 'dessert', 'dinner', 'lunch', 'soup', 'green', \n",
    "                'mexico', 'italy','mexican','vietnamese','buffet','takeout','casual','pub','bakery','indian','classic',\n",
    "               'modern','french','italian','asian','birthday', 'vegetarian', 'downtown', 'bbq','japanese','breakfast','seafood',\n",
    "               'brunch'] \n",
    "\n",
    "food_key = ['taco', 'curry', 'potato', 'crispy', 'shrimp', 'bread', 'chocolate', 'ramen', 'pizza', 'beer', 'sandwich', 'cake',\n",
    "            'sushi', 'egg', 'fish', 'coffee', 'ice', 'burger', 'cheese', 'cream', 'salad', 'pork', 'beef', 'tea', 'noodle',\n",
    "           'meat', 'rice', 'chicken', 'dim sum', 'cocktail', 'ice cream','squid','tempura','tapioca','donut','olive',\n",
    "            'espresso','octopus','croissant','banana','cookie','honey','cone','scallop','congee',\n",
    "           'skewer','miso','lettuce','pop','strawberry','apple','avocado','juice','booth','calamari','kimchi','patty',\n",
    "           'sesame','tart','four','crepe','tuna','wrap','lemon','vegan','coconut','corn','poutine','toast','belly','bubble',\n",
    "           'oyster','cocktail', 'cheesecake', 'fruit', 'sausage','latte','matcha','pancake','duck','tofu','sashimi',\n",
    "           'lamb','mango','bacon','tomato','lobster','wine','rib','waffle','bun','wing','dumpling','bean','steak','salmon',\n",
    "           'pasta','milk','fried chicken','milk tea','green tea','bubble tea','pork belly','spring roll','fried rice',\n",
    "            'pork bone soup']\n",
    "seasoning=['sugar','oil','soy','leaf','spice','butter','ginger','pepper','peanut','garlic']\n",
    "infrastruture_key = ['street', 'parking', 'store','shopping','nail','theatre','skin','movie','corner','neighbourhood','washroom',\n",
    "                    'window','station','chair','queen','king','markham','plaza','market','spring', 'mall']\n",
    "# or we call this comment\n",
    "service_key = ['quick', 'clean', 'busy', 'fresh', 'friendly','convenient','refill','soggy','greeted','bright','crowded','overpriced',\n",
    "              'cheaper','immediately','dog','quiet','efficient','spacious','pleasant','fair','complaint','disappointing','fancy',\n",
    "             'comfortable', 'dark','cozy','helpful','tax','nicely','honestly', 'pricey','yummy','music','chip','attentive',\n",
    "              'reasonable','wait']\n",
    "\n",
    "taste_key = ['traditional', 'spicy','flavorful','fluffy','smooth','frozen','sweetness','art','mayo','gravy','healthy','rare',\n",
    "            'refreshing','crunchy','chili','crust','stick','steamed','greasy','dip','gelato','salt','stuffed','topped','smoked',\n",
    "            'roasted','seasoned','chewy','pot','solid','sour', 'baked', 'juicy','creamy','deep fried']\n",
    "\n",
    "bigram_key = ['ice cream', 'come back', 'go back', 'fried chicken', 'deep fried', 'milk tea', 'green tea', 'bubble tea',\n",
    "             'pork belly', 'pad thai', 'spring roll', 'fried rice']"
   ]
  },
  {
   "cell_type": "code",
   "execution_count": 186,
   "metadata": {},
   "outputs": [
    {
     "data": {
      "text/plain": [
       "233"
      ]
     },
     "execution_count": 186,
     "metadata": {},
     "output_type": "execute_result"
    }
   ],
   "source": [
    "key = category_key + food_key + infrastruture_key + service_key + taste_key\n",
    "len(category_key) + len(food_key) + len(infrastruture_key) + len(service_key) + len(taste_key)"
   ]
  },
  {
   "cell_type": "code",
   "execution_count": 56,
   "metadata": {},
   "outputs": [
    {
     "data": {
      "text/plain": [
       "9505"
      ]
     },
     "execution_count": 56,
     "metadata": {},
     "output_type": "execute_result"
    }
   ],
   "source": [
    "fdist1['chinese']"
   ]
  },
  {
   "cell_type": "code",
   "execution_count": 57,
   "metadata": {},
   "outputs": [
    {
     "data": {
      "text/plain": [
       "6590"
      ]
     },
     "execution_count": 57,
     "metadata": {},
     "output_type": "execute_result"
    }
   ],
   "source": [
    "# A lot of chinese restuarants\n",
    "len(cur_df[cur_df[\"conca_review\"].str.contains('chinese', regex=False)])"
   ]
  },
  {
   "cell_type": "code",
   "execution_count": 59,
   "metadata": {},
   "outputs": [
    {
     "data": {
      "text/plain": [
       "542"
      ]
     },
     "execution_count": 59,
     "metadata": {},
     "output_type": "execute_result"
    }
   ],
   "source": [
    "# Not that much italy resturants\n",
    "len(cur_df[cur_df[\"conca_review\"].str.contains('italy', regex=False)])"
   ]
  },
  {
   "cell_type": "code",
   "execution_count": 62,
   "metadata": {},
   "outputs": [
    {
     "data": {
      "text/plain": [
       "264"
      ]
     },
     "execution_count": 62,
     "metadata": {},
     "output_type": "execute_result"
    }
   ],
   "source": [
    "# Not that much mexico resturants\n",
    "len(cur_df[cur_df[\"conca_review\"].str.contains('mexico', regex=False)])"
   ]
  },
  {
   "cell_type": "code",
   "execution_count": 61,
   "metadata": {},
   "outputs": [
    {
     "data": {
      "text/plain": [
       "4105"
      ]
     },
     "execution_count": 61,
     "metadata": {},
     "output_type": "execute_result"
    }
   ],
   "source": [
    "# But a lot of tacos \n",
    "len(cur_df[cur_df[\"conca_review\"].str.contains('taco', regex=False)])"
   ]
  },
  {
   "cell_type": "code",
   "execution_count": 67,
   "metadata": {},
   "outputs": [
    {
     "data": {
      "text/plain": [
       "3569"
      ]
     },
     "execution_count": 67,
     "metadata": {},
     "output_type": "execute_result"
    }
   ],
   "source": [
    "len(cur_df[cur_df[\"conca_review\"].str.contains('traditional', regex=False)])"
   ]
  },
  {
   "cell_type": "code",
   "execution_count": 72,
   "metadata": {},
   "outputs": [
    {
     "data": {
      "text/plain": [
       "14"
      ]
     },
     "execution_count": 72,
     "metadata": {},
     "output_type": "execute_result"
    }
   ],
   "source": [
    "len(cur_df[cur_df[REVIEW_TEXT].str.contains('traditional burger', regex=False)])"
   ]
  },
  {
   "cell_type": "code",
   "execution_count": 93,
   "metadata": {},
   "outputs": [
    {
     "data": {
      "text/plain": [
       "3216"
      ]
     },
     "execution_count": 93,
     "metadata": {},
     "output_type": "execute_result"
    }
   ],
   "source": [
    "len(cur_df[cur_df[REVIEW_TEXT].str.contains('cocktail', regex=False)])"
   ]
  },
  {
   "cell_type": "code",
   "execution_count": 89,
   "metadata": {},
   "outputs": [
    {
     "data": {
      "text/plain": [
       "6590"
      ]
     },
     "execution_count": 89,
     "metadata": {},
     "output_type": "execute_result"
    }
   ],
   "source": [
    "list_1 = np.array(cur_df[cur_df[\"conca_review\"].str.contains('chinese', regex=False)].index)\n",
    "len(list_1)"
   ]
  },
  {
   "cell_type": "code",
   "execution_count": 90,
   "metadata": {
    "scrolled": true
   },
   "outputs": [
    {
     "data": {
      "text/plain": [
       "73"
      ]
     },
     "execution_count": 90,
     "metadata": {},
     "output_type": "execute_result"
    }
   ],
   "source": [
    "list_2 = np.array(cur_df[cur_df[\"conca_review\"].str.contains('chinese dim sum', regex=False)].index)\n",
    "len(list_2)"
   ]
  },
  {
   "cell_type": "code",
   "execution_count": 91,
   "metadata": {
    "scrolled": true
   },
   "outputs": [
    {
     "data": {
      "text/plain": [
       "array([], dtype=int64)"
      ]
     },
     "execution_count": 91,
     "metadata": {},
     "output_type": "execute_result"
    }
   ],
   "source": [
    "np.setdiff1d(list_2,list_1)"
   ]
  },
  {
   "cell_type": "code",
   "execution_count": 80,
   "metadata": {
    "scrolled": true
   },
   "outputs": [
    {
     "data": {
      "text/plain": [
       "' customer service price amazing turn around fast beyond impressed everyone dealt professional friendly knowledgeable would highly recommend '"
      ]
     },
     "execution_count": 80,
     "metadata": {},
     "output_type": "execute_result"
    }
   ],
   "source": [
    "cur_df.iloc[157037, :][\"conca_review\"]"
   ]
  },
  {
   "cell_type": "code",
   "execution_count": 81,
   "metadata": {
    "scrolled": false
   },
   "outputs": [
    {
     "data": {
      "text/plain": [
       "'AMAZING. \\xa0Lost of choice and staff are very friendly!'"
      ]
     },
     "execution_count": 81,
     "metadata": {},
     "output_type": "execute_result"
    }
   ],
   "source": [
    "cur_df.iloc[1101, :][REVIEW_TEXT]"
   ]
  },
  {
   "cell_type": "code",
   "execution_count": 84,
   "metadata": {},
   "outputs": [
    {
     "data": {
      "text/plain": [
       "\"I have been here quite a few times now for dim sum, for their dinner service, and for a banquet. First off, beware of the parking lot area near the entrance of this restaurant - there always a lot of cars in the area of the parking lot I find. Secondly, if possible, try to make reservations - I generally like to make reservations so then I can minimize the wait time for a table especially during the dim sum service. Dim sum at this place is good - the price is reasonable and food quality is good. Dinner service here is good too. I would say the dinner service, food quality for the dinner menu, and the prices are en par with the Chinese restaurants in the area. Their Chinese bbq items are a must try in my option. However, why I gave it a three star - saying this place is only average was because of a recent banquet I attended here for a friend's wedding. I was one of her helpers for set up before cocktail hour started. They were not set up on time and they kind of messed up the floor plan, the numbering of the tables were just off and they didn't account for the table for the bar. Cocktail was to start at 6 pm and at 6:15 pm they were still setting up. The banquet food, I thought was just so so, and the portions were kind of on the small size - I wasn't really full by the end of the 10 course meal. By dessert, normally you serve the Wedding Cake with the desserts - I was not impress with the way they served the Wedding Cake. Normally (at least all the other banquets that I have been to) cut up the cake in individual slices and serve it. But here, they just hack up the cake into a huge chunk and serve it a platter with the other dessert. Overall, I would only really come for their dim sum service and maybe their dinner service. But, I would not have a banquet here - not impress with their banquet service at all.\""
      ]
     },
     "execution_count": 84,
     "metadata": {},
     "output_type": "execute_result"
    }
   ],
   "source": [
    "cur_df[cur_df[\"conca_review\"].str.contains('chinese', regex=False)][REVIEW_TEXT].values[20]"
   ]
  },
  {
   "cell_type": "code",
   "execution_count": 50,
   "metadata": {},
   "outputs": [
    {
     "data": {
      "text/plain": [
       "' definitely screaming ice cream excited place opening especially closer fairly new cute little place cookie cutter flavour like pink peppercorn black sesame roasted banana visit flavour select least another counted flavour cycle yum price fair scoop scoop l scoop service great girl working super sweet helpful recommending flavour vegan patron happy know vegan flavour available recommend peach sorbet definitely back soon pistachio calling name '"
      ]
     },
     "execution_count": 50,
     "metadata": {},
     "output_type": "execute_result"
    }
   ],
   "source": [
    "cur_df[cur_df[\"conca_review\"].str.contains('pepper', regex=False)][\"conca_review\"].values[2220]"
   ]
  },
  {
   "cell_type": "code",
   "execution_count": 51,
   "metadata": {
    "scrolled": false
   },
   "outputs": [
    {
     "data": {
      "text/plain": [
       "'toasted'"
      ]
     },
     "execution_count": 51,
     "metadata": {},
     "output_type": "execute_result"
    }
   ],
   "source": [
    "# Lemmatizing\n",
    "lemmatizer = WordNetLemmatizer()\n",
    "# lemma_flat = [lemmatizer.lemmatize(w) for w in flat_list]\n",
    "\n",
    "lemmatizer.lemmatize(\"toasted\")"
   ]
  },
  {
   "cell_type": "markdown",
   "metadata": {},
   "source": [
    "# Define Bigram Right Type (ADJ/NN)"
   ]
  },
  {
   "cell_type": "code",
   "execution_count": 105,
   "metadata": {
    "collapsed": true
   },
   "outputs": [],
   "source": [
    "#function to filter for ADJ/NN bigrams\n",
    "def filter_type(ngram):\n",
    "    if '-pron-' in ngram or 't' in ngram:\n",
    "        return False\n",
    "    for word in ngram:\n",
    "        if word.isspace():\n",
    "            return False\n",
    "    acceptable_types = ('JJ', 'JJR', 'JJS')\n",
    "    ins = ('IN','TO')\n",
    "    second_type = ('NN', 'NNS', 'NNP', 'NNPS')\n",
    "    tags = nltk.pos_tag(ngram)\n",
    "    \n",
    "    if len(tags) == 2:\n",
    "        if tags[0][1] in acceptable_types and tags[1][1] in second_type:\n",
    "            return True\n",
    "        else:\n",
    "            return False\n",
    "    elif len(tags) == 3:\n",
    "        if tags[0][1] in acceptable_types and tags[1][1] in ins and tags[2][1] in second_type:\n",
    "            return True\n",
    "        else:\n",
    "            return False\n",
    "    else:\n",
    "        if tags[0][1] in acceptable_types and tags[1][1] in ins and tags[2][1] in acceptable_types and tags[3][1] in second_type:\n",
    "            return True\n",
    "        else:\n",
    "            return False "
   ]
  },
  {
   "cell_type": "markdown",
   "metadata": {},
   "source": [
    "# Bi-gram"
   ]
  },
  {
   "cell_type": "code",
   "execution_count": 102,
   "metadata": {
    "collapsed": true
   },
   "outputs": [],
   "source": [
    "bigrams = nltk.collocations.BigramAssocMeasures()\n",
    "tokens = itertools.chain.from_iterable(token_list)\n",
    "bigramFinder = nltk.collocations.BigramCollocationFinder.from_words(tokens)\n",
    "bigramFinder.apply_freq_filter(100)\n",
    "\n",
    "bigram_freq = bigramFinder.ngram_fd.items()\n",
    "bigramFreqTable = pd.DataFrame(list(bigram_freq), \n",
    "                               columns=['ngram','freq']).sort_values(by='freq', ascending=False)"
   ]
  },
  {
   "cell_type": "code",
   "execution_count": 104,
   "metadata": {
    "scrolled": false
   },
   "outputs": [
    {
     "data": {
      "text/plain": [
       "array([('dim', 'sum'), ('dim', 'lighting'), ('place', 'dim'),\n",
       "       ('good', 'dim')], dtype=object)"
      ]
     },
     "execution_count": 104,
     "metadata": {},
     "output_type": "execute_result"
    }
   ],
   "source": [
    "bigramFreqTable[bigramFreqTable[\"ngram\"].str.contains('dim', regex=False)][:250]['ngram'].values"
   ]
  },
  {
   "cell_type": "code",
   "execution_count": null,
   "metadata": {
    "collapsed": true
   },
   "outputs": [],
   "source": [
    "for i in bigramFreqTable[:100]['ngram']:\n",
    "    print (i)"
   ]
  },
  {
   "cell_type": "code",
   "execution_count": 115,
   "metadata": {
    "collapsed": true
   },
   "outputs": [],
   "source": [
    "bigram_key = ['ice cream', 'come back', 'go back', 'fried chicken', 'deep fried', 'milk tea', 'green tea', 'bubble tea',\n",
    "             'pork belly', 'pad thai', 'spring roll', 'fried rice']"
   ]
  },
  {
   "cell_type": "code",
   "execution_count": 110,
   "metadata": {},
   "outputs": [
    {
     "data": {
      "text/plain": [
       "array([('dim', 'sum'), ('dim', 'lighting'), ('place', 'dim'),\n",
       "       ('good', 'dim')], dtype=object)"
      ]
     },
     "execution_count": 110,
     "metadata": {},
     "output_type": "execute_result"
    }
   ],
   "source": [
    "bigramFreqTable[bigramFreqTable[\"ngram\"].str.contains('dim', regex=False)][:250]['ngram'].values"
   ]
  },
  {
   "cell_type": "code",
   "execution_count": 109,
   "metadata": {},
   "outputs": [
    {
     "data": {
      "text/html": [
       "<div>\n",
       "<style>\n",
       "    .dataframe thead tr:only-child th {\n",
       "        text-align: right;\n",
       "    }\n",
       "\n",
       "    .dataframe thead th {\n",
       "        text-align: left;\n",
       "    }\n",
       "\n",
       "    .dataframe tbody tr th {\n",
       "        vertical-align: top;\n",
       "    }\n",
       "</style>\n",
       "<table border=\"1\" class=\"dataframe\">\n",
       "  <thead>\n",
       "    <tr style=\"text-align: right;\">\n",
       "      <th></th>\n",
       "      <th>ngram</th>\n",
       "      <th>freq</th>\n",
       "    </tr>\n",
       "  </thead>\n",
       "  <tbody>\n",
       "    <tr>\n",
       "      <th>5248</th>\n",
       "      <td>(dim, sum)</td>\n",
       "      <td>5182</td>\n",
       "    </tr>\n",
       "  </tbody>\n",
       "</table>\n",
       "</div>"
      ],
      "text/plain": [
       "           ngram  freq\n",
       "5248  (dim, sum)  5182"
      ]
     },
     "execution_count": 109,
     "metadata": {},
     "output_type": "execute_result"
    }
   ],
   "source": [
    "bigramFreqTable[bigramFreqTable[\"ngram\"] == (\"dim\", \"sum\")]"
   ]
  },
  {
   "cell_type": "markdown",
   "metadata": {},
   "source": [
    "# Bi-gram PMI"
   ]
  },
  {
   "cell_type": "code",
   "execution_count": null,
   "metadata": {
    "collapsed": true
   },
   "outputs": [],
   "source": [
    "bigramFinder.apply_freq_filter(100)\n",
    "bigramPMITable = pd.DataFrame(list(bigramFinder.score_ngrams(bigrams.pmi)), \n",
    "                              columns=['bigram','PMI']).sort_values(by='PMI', ascending=False)\n",
    "\n",
    "bigramPMITable"
   ]
  },
  {
   "cell_type": "code",
   "execution_count": null,
   "metadata": {
    "collapsed": true
   },
   "outputs": [],
   "source": [
    "bigramPMITable = bigramPMITable[bigramPMITable.bigram.map(lambda x: filter_type(x))]\n",
    "bigramPMITable"
   ]
  },
  {
   "cell_type": "code",
   "execution_count": 125,
   "metadata": {
    "scrolled": true
   },
   "outputs": [
    {
     "data": {
      "text/html": [
       "<div>\n",
       "<style>\n",
       "    .dataframe thead tr:only-child th {\n",
       "        text-align: right;\n",
       "    }\n",
       "\n",
       "    .dataframe thead th {\n",
       "        text-align: left;\n",
       "    }\n",
       "\n",
       "    .dataframe tbody tr th {\n",
       "        vertical-align: top;\n",
       "    }\n",
       "</style>\n",
       "<table border=\"1\" class=\"dataframe\">\n",
       "  <thead>\n",
       "    <tr style=\"text-align: right;\">\n",
       "      <th></th>\n",
       "      <th>ngram</th>\n",
       "      <th>freq</th>\n",
       "      <th>bigram</th>\n",
       "      <th>PMI</th>\n",
       "    </tr>\n",
       "  </thead>\n",
       "  <tbody>\n",
       "    <tr>\n",
       "      <th>1372</th>\n",
       "      <td>(cornish, hen)</td>\n",
       "      <td>134</td>\n",
       "      <td>(cornish, hen)</td>\n",
       "      <td>15.635666</td>\n",
       "    </tr>\n",
       "    <tr>\n",
       "      <th>1071</th>\n",
       "      <td>(hustle, bustle)</td>\n",
       "      <td>160</td>\n",
       "      <td>(hustle, bustle)</td>\n",
       "      <td>15.420942</td>\n",
       "    </tr>\n",
       "    <tr>\n",
       "      <th>1905</th>\n",
       "      <td>(sneaky, dee)</td>\n",
       "      <td>101</td>\n",
       "      <td>(sneaky, dee)</td>\n",
       "      <td>15.393156</td>\n",
       "    </tr>\n",
       "    <tr>\n",
       "      <th>1544</th>\n",
       "      <td>(lactose, intolerant)</td>\n",
       "      <td>121</td>\n",
       "      <td>(lactose, intolerant)</td>\n",
       "      <td>14.845034</td>\n",
       "    </tr>\n",
       "    <tr>\n",
       "      <th>855</th>\n",
       "      <td>(dietary, restriction)</td>\n",
       "      <td>193</td>\n",
       "      <td>(dietary, restriction)</td>\n",
       "      <td>14.707485</td>\n",
       "    </tr>\n",
       "    <tr>\n",
       "      <th>791</th>\n",
       "      <td>(obligatory, catchy)</td>\n",
       "      <td>204</td>\n",
       "      <td>(obligatory, catchy)</td>\n",
       "      <td>14.542729</td>\n",
       "    </tr>\n",
       "    <tr>\n",
       "      <th>472</th>\n",
       "      <td>(swiss, chalet)</td>\n",
       "      <td>299</td>\n",
       "      <td>(swiss, chalet)</td>\n",
       "      <td>14.134647</td>\n",
       "    </tr>\n",
       "    <tr>\n",
       "      <th>934</th>\n",
       "      <td>(obligatory, title)</td>\n",
       "      <td>180</td>\n",
       "      <td>(obligatory, title)</td>\n",
       "      <td>13.499966</td>\n",
       "    </tr>\n",
       "    <tr>\n",
       "      <th>1859</th>\n",
       "      <td>(arctic, char)</td>\n",
       "      <td>103</td>\n",
       "      <td>(arctic, char)</td>\n",
       "      <td>13.473019</td>\n",
       "    </tr>\n",
       "    <tr>\n",
       "      <th>1272</th>\n",
       "      <td>(gong, cha)</td>\n",
       "      <td>141</td>\n",
       "      <td>(gong, cha)</td>\n",
       "      <td>13.062775</td>\n",
       "    </tr>\n",
       "    <tr>\n",
       "      <th>1288</th>\n",
       "      <td>(wild, boar)</td>\n",
       "      <td>140</td>\n",
       "      <td>(wild, boar)</td>\n",
       "      <td>13.055525</td>\n",
       "    </tr>\n",
       "    <tr>\n",
       "      <th>213</th>\n",
       "      <td>(financial, district)</td>\n",
       "      <td>520</td>\n",
       "      <td>(financial, district)</td>\n",
       "      <td>12.936204</td>\n",
       "    </tr>\n",
       "    <tr>\n",
       "      <th>638</th>\n",
       "      <td>(holy, chuck)</td>\n",
       "      <td>238</td>\n",
       "      <td>(holy, chuck)</td>\n",
       "      <td>12.720330</td>\n",
       "    </tr>\n",
       "    <tr>\n",
       "      <th>480</th>\n",
       "      <td>(grand, electric)</td>\n",
       "      <td>297</td>\n",
       "      <td>(grand, electric)</td>\n",
       "      <td>12.480534</td>\n",
       "    </tr>\n",
       "    <tr>\n",
       "      <th>1526</th>\n",
       "      <td>(fellow, yelper)</td>\n",
       "      <td>122</td>\n",
       "      <td>(fellow, yelper)</td>\n",
       "      <td>11.992976</td>\n",
       "    </tr>\n",
       "    <tr>\n",
       "      <th>798</th>\n",
       "      <td>(general, tao)</td>\n",
       "      <td>202</td>\n",
       "      <td>(general, tao)</td>\n",
       "      <td>11.937180</td>\n",
       "    </tr>\n",
       "    <tr>\n",
       "      <th>1707</th>\n",
       "      <td>(public, transit)</td>\n",
       "      <td>111</td>\n",
       "      <td>(public, transit)</td>\n",
       "      <td>11.929936</td>\n",
       "    </tr>\n",
       "    <tr>\n",
       "      <th>223</th>\n",
       "      <td>(san, road)</td>\n",
       "      <td>512</td>\n",
       "      <td>(san, road)</td>\n",
       "      <td>11.779318</td>\n",
       "    </tr>\n",
       "    <tr>\n",
       "      <th>488</th>\n",
       "      <td>(fellow, yelpers)</td>\n",
       "      <td>294</td>\n",
       "      <td>(fellow, yelpers)</td>\n",
       "      <td>11.665267</td>\n",
       "    </tr>\n",
       "    <tr>\n",
       "      <th>1142</th>\n",
       "      <td>(balsamic, vinegar)</td>\n",
       "      <td>153</td>\n",
       "      <td>(balsamic, vinegar)</td>\n",
       "      <td>11.645770</td>\n",
       "    </tr>\n",
       "    <tr>\n",
       "      <th>460</th>\n",
       "      <td>(non, existent)</td>\n",
       "      <td>301</td>\n",
       "      <td>(non, existent)</td>\n",
       "      <td>11.644411</td>\n",
       "    </tr>\n",
       "    <tr>\n",
       "      <th>1917</th>\n",
       "      <td>(golden, turtle)</td>\n",
       "      <td>101</td>\n",
       "      <td>(golden, turtle)</td>\n",
       "      <td>11.591189</td>\n",
       "    </tr>\n",
       "    <tr>\n",
       "      <th>909</th>\n",
       "      <td>(uber, eats)</td>\n",
       "      <td>184</td>\n",
       "      <td>(uber, eats)</td>\n",
       "      <td>11.362794</td>\n",
       "    </tr>\n",
       "    <tr>\n",
       "      <th>1222</th>\n",
       "      <td>(blue, jay)</td>\n",
       "      <td>145</td>\n",
       "      <td>(blue, jay)</td>\n",
       "      <td>11.116158</td>\n",
       "    </tr>\n",
       "    <tr>\n",
       "      <th>1411</th>\n",
       "      <td>(canadian, tire)</td>\n",
       "      <td>131</td>\n",
       "      <td>(canadian, tire)</td>\n",
       "      <td>11.071511</td>\n",
       "    </tr>\n",
       "    <tr>\n",
       "      <th>1287</th>\n",
       "      <td>(cantonese, chow)</td>\n",
       "      <td>140</td>\n",
       "      <td>(cantonese, chow)</td>\n",
       "      <td>11.035025</td>\n",
       "    </tr>\n",
       "    <tr>\n",
       "      <th>1283</th>\n",
       "      <td>(alcoholic, beverage)</td>\n",
       "      <td>140</td>\n",
       "      <td>(alcoholic, beverage)</td>\n",
       "      <td>10.956518</td>\n",
       "    </tr>\n",
       "    <tr>\n",
       "      <th>1015</th>\n",
       "      <td>(sticky, toffee)</td>\n",
       "      <td>167</td>\n",
       "      <td>(sticky, toffee)</td>\n",
       "      <td>10.928577</td>\n",
       "    </tr>\n",
       "    <tr>\n",
       "      <th>613</th>\n",
       "      <td>(snow, pea)</td>\n",
       "      <td>245</td>\n",
       "      <td>(snow, pea)</td>\n",
       "      <td>10.870403</td>\n",
       "    </tr>\n",
       "    <tr>\n",
       "      <th>1384</th>\n",
       "      <td>(picky, eater)</td>\n",
       "      <td>133</td>\n",
       "      <td>(picky, eater)</td>\n",
       "      <td>10.869086</td>\n",
       "    </tr>\n",
       "    <tr>\n",
       "      <th>246</th>\n",
       "      <td>(grand, opening)</td>\n",
       "      <td>474</td>\n",
       "      <td>(grand, opening)</td>\n",
       "      <td>10.834178</td>\n",
       "    </tr>\n",
       "    <tr>\n",
       "      <th>381</th>\n",
       "      <td>(personal, preference)</td>\n",
       "      <td>347</td>\n",
       "      <td>(personal, preference)</td>\n",
       "      <td>10.810276</td>\n",
       "    </tr>\n",
       "    <tr>\n",
       "      <th>1458</th>\n",
       "      <td>(west, coast)</td>\n",
       "      <td>127</td>\n",
       "      <td>(west, coast)</td>\n",
       "      <td>10.761514</td>\n",
       "    </tr>\n",
       "    <tr>\n",
       "      <th>107</th>\n",
       "      <td>(north, york)</td>\n",
       "      <td>809</td>\n",
       "      <td>(north, york)</td>\n",
       "      <td>10.730912</td>\n",
       "    </tr>\n",
       "    <tr>\n",
       "      <th>416</th>\n",
       "      <td>(answer, question)</td>\n",
       "      <td>323</td>\n",
       "      <td>(answer, question)</td>\n",
       "      <td>10.516531</td>\n",
       "    </tr>\n",
       "    <tr>\n",
       "      <th>1627</th>\n",
       "      <td>(loose, leaf)</td>\n",
       "      <td>116</td>\n",
       "      <td>(loose, leaf)</td>\n",
       "      <td>10.499961</td>\n",
       "    </tr>\n",
       "    <tr>\n",
       "      <th>632</th>\n",
       "      <td>(english, muffin)</td>\n",
       "      <td>241</td>\n",
       "      <td>(english, muffin)</td>\n",
       "      <td>10.472594</td>\n",
       "    </tr>\n",
       "    <tr>\n",
       "      <th>1354</th>\n",
       "      <td>(nail, polish)</td>\n",
       "      <td>135</td>\n",
       "      <td>(nail, polish)</td>\n",
       "      <td>10.314235</td>\n",
       "    </tr>\n",
       "    <tr>\n",
       "      <th>1414</th>\n",
       "      <td>(irish, pub)</td>\n",
       "      <td>131</td>\n",
       "      <td>(irish, pub)</td>\n",
       "      <td>10.243507</td>\n",
       "    </tr>\n",
       "    <tr>\n",
       "      <th>192</th>\n",
       "      <td>(red, velvet)</td>\n",
       "      <td>556</td>\n",
       "      <td>(red, velvet)</td>\n",
       "      <td>10.243480</td>\n",
       "    </tr>\n",
       "    <tr>\n",
       "      <th>1735</th>\n",
       "      <td>(comic, book)</td>\n",
       "      <td>109</td>\n",
       "      <td>(comic, book)</td>\n",
       "      <td>10.130669</td>\n",
       "    </tr>\n",
       "    <tr>\n",
       "      <th>80</th>\n",
       "      <td>(olive, oil)</td>\n",
       "      <td>925</td>\n",
       "      <td>(olive, oil)</td>\n",
       "      <td>10.124957</td>\n",
       "    </tr>\n",
       "    <tr>\n",
       "      <th>938</th>\n",
       "      <td>(dark, horse)</td>\n",
       "      <td>179</td>\n",
       "      <td>(dark, horse)</td>\n",
       "      <td>10.115987</td>\n",
       "    </tr>\n",
       "    <tr>\n",
       "      <th>795</th>\n",
       "      <td>(key, lime)</td>\n",
       "      <td>203</td>\n",
       "      <td>(key, lime)</td>\n",
       "      <td>10.057425</td>\n",
       "    </tr>\n",
       "    <tr>\n",
       "      <th>459</th>\n",
       "      <td>(low, key)</td>\n",
       "      <td>301</td>\n",
       "      <td>(low, key)</td>\n",
       "      <td>9.971270</td>\n",
       "    </tr>\n",
       "    <tr>\n",
       "      <th>1233</th>\n",
       "      <td>(green, grotto)</td>\n",
       "      <td>144</td>\n",
       "      <td>(green, grotto)</td>\n",
       "      <td>9.964756</td>\n",
       "    </tr>\n",
       "    <tr>\n",
       "      <th>40</th>\n",
       "      <td>(french, toast)</td>\n",
       "      <td>1364</td>\n",
       "      <td>(french, toast)</td>\n",
       "      <td>9.943243</td>\n",
       "    </tr>\n",
       "    <tr>\n",
       "      <th>1382</th>\n",
       "      <td>(elite, event)</td>\n",
       "      <td>133</td>\n",
       "      <td>(elite, event)</td>\n",
       "      <td>9.937694</td>\n",
       "    </tr>\n",
       "    <tr>\n",
       "      <th>699</th>\n",
       "      <td>(asian, legend)</td>\n",
       "      <td>224</td>\n",
       "      <td>(asian, legend)</td>\n",
       "      <td>9.918217</td>\n",
       "    </tr>\n",
       "    <tr>\n",
       "      <th>407</th>\n",
       "      <td>(social, medium)</td>\n",
       "      <td>327</td>\n",
       "      <td>(social, medium)</td>\n",
       "      <td>9.834560</td>\n",
       "    </tr>\n",
       "  </tbody>\n",
       "</table>\n",
       "</div>"
      ],
      "text/plain": [
       "                       ngram  freq                  bigram        PMI\n",
       "1372          (cornish, hen)   134          (cornish, hen)  15.635666\n",
       "1071        (hustle, bustle)   160        (hustle, bustle)  15.420942\n",
       "1905           (sneaky, dee)   101           (sneaky, dee)  15.393156\n",
       "1544   (lactose, intolerant)   121   (lactose, intolerant)  14.845034\n",
       "855   (dietary, restriction)   193  (dietary, restriction)  14.707485\n",
       "791     (obligatory, catchy)   204    (obligatory, catchy)  14.542729\n",
       "472          (swiss, chalet)   299         (swiss, chalet)  14.134647\n",
       "934      (obligatory, title)   180     (obligatory, title)  13.499966\n",
       "1859          (arctic, char)   103          (arctic, char)  13.473019\n",
       "1272             (gong, cha)   141             (gong, cha)  13.062775\n",
       "1288            (wild, boar)   140            (wild, boar)  13.055525\n",
       "213    (financial, district)   520   (financial, district)  12.936204\n",
       "638            (holy, chuck)   238           (holy, chuck)  12.720330\n",
       "480        (grand, electric)   297       (grand, electric)  12.480534\n",
       "1526        (fellow, yelper)   122        (fellow, yelper)  11.992976\n",
       "798           (general, tao)   202          (general, tao)  11.937180\n",
       "1707       (public, transit)   111       (public, transit)  11.929936\n",
       "223              (san, road)   512             (san, road)  11.779318\n",
       "488        (fellow, yelpers)   294       (fellow, yelpers)  11.665267\n",
       "1142     (balsamic, vinegar)   153     (balsamic, vinegar)  11.645770\n",
       "460          (non, existent)   301         (non, existent)  11.644411\n",
       "1917        (golden, turtle)   101        (golden, turtle)  11.591189\n",
       "909             (uber, eats)   184            (uber, eats)  11.362794\n",
       "1222             (blue, jay)   145             (blue, jay)  11.116158\n",
       "1411        (canadian, tire)   131        (canadian, tire)  11.071511\n",
       "1287       (cantonese, chow)   140       (cantonese, chow)  11.035025\n",
       "1283   (alcoholic, beverage)   140   (alcoholic, beverage)  10.956518\n",
       "1015        (sticky, toffee)   167        (sticky, toffee)  10.928577\n",
       "613              (snow, pea)   245             (snow, pea)  10.870403\n",
       "1384          (picky, eater)   133          (picky, eater)  10.869086\n",
       "246         (grand, opening)   474        (grand, opening)  10.834178\n",
       "381   (personal, preference)   347  (personal, preference)  10.810276\n",
       "1458           (west, coast)   127           (west, coast)  10.761514\n",
       "107            (north, york)   809           (north, york)  10.730912\n",
       "416       (answer, question)   323      (answer, question)  10.516531\n",
       "1627           (loose, leaf)   116           (loose, leaf)  10.499961\n",
       "632        (english, muffin)   241       (english, muffin)  10.472594\n",
       "1354          (nail, polish)   135          (nail, polish)  10.314235\n",
       "1414            (irish, pub)   131            (irish, pub)  10.243507\n",
       "192            (red, velvet)   556           (red, velvet)  10.243480\n",
       "1735           (comic, book)   109           (comic, book)  10.130669\n",
       "80              (olive, oil)   925            (olive, oil)  10.124957\n",
       "938            (dark, horse)   179           (dark, horse)  10.115987\n",
       "795              (key, lime)   203             (key, lime)  10.057425\n",
       "459               (low, key)   301              (low, key)   9.971270\n",
       "1233         (green, grotto)   144         (green, grotto)   9.964756\n",
       "40           (french, toast)  1364         (french, toast)   9.943243\n",
       "1382          (elite, event)   133          (elite, event)   9.937694\n",
       "699          (asian, legend)   224         (asian, legend)   9.918217\n",
       "407         (social, medium)   327        (social, medium)   9.834560"
      ]
     },
     "execution_count": 125,
     "metadata": {},
     "output_type": "execute_result"
    }
   ],
   "source": [
    "bigram_freq_pmi = pd.merge(bigramFreqTable, bigramPMITable, how='right', left_on='ngram', right_on='bigram').sort_values(\"PMI\", ascending=False)\n",
    "bigram_freq_pmi.head(50)"
   ]
  },
  {
   "cell_type": "markdown",
   "metadata": {},
   "source": [
    "# Trigram"
   ]
  },
  {
   "cell_type": "code",
   "execution_count": 126,
   "metadata": {
    "collapsed": true
   },
   "outputs": [],
   "source": [
    "trigrams = nltk.collocations.TrigramAssocMeasures()\n",
    "tokens = itertools.chain.from_iterable(token_list)\n",
    "trigramFinder = nltk.collocations.TrigramCollocationFinder.from_words(tokens)\n",
    "trigram_freq = trigramFinder.ngram_fd.items()\n",
    "\n",
    "trigramFreqTable = pd.DataFrame(list(trigram_freq), \n",
    "                                columns=['ngram','freq']).sort_values(by='freq', ascending=False)"
   ]
  },
  {
   "cell_type": "code",
   "execution_count": 127,
   "metadata": {
    "collapsed": true
   },
   "outputs": [],
   "source": [
    "trigramFreqTable = trigramFreqTable[trigramFreqTable[\"freq\"] >= 10]"
   ]
  },
  {
   "cell_type": "code",
   "execution_count": null,
   "metadata": {
    "collapsed": true
   },
   "outputs": [],
   "source": [
    "trigramFreqTable"
   ]
  },
  {
   "cell_type": "code",
   "execution_count": null,
   "metadata": {
    "collapsed": true
   },
   "outputs": [],
   "source": [
    "trigram_key = ['pork bone soup' ]"
   ]
  },
  {
   "cell_type": "markdown",
   "metadata": {},
   "source": [
    "# Keyphrases"
   ]
  },
  {
   "cell_type": "code",
   "execution_count": 187,
   "metadata": {
    "scrolled": true
   },
   "outputs": [
    {
     "data": {
      "text/html": [
       "<div>\n",
       "<style>\n",
       "    .dataframe thead tr:only-child th {\n",
       "        text-align: right;\n",
       "    }\n",
       "\n",
       "    .dataframe thead th {\n",
       "        text-align: left;\n",
       "    }\n",
       "\n",
       "    .dataframe tbody tr th {\n",
       "        vertical-align: top;\n",
       "    }\n",
       "</style>\n",
       "<table border=\"1\" class=\"dataframe\">\n",
       "  <thead>\n",
       "    <tr style=\"text-align: right;\">\n",
       "      <th></th>\n",
       "      <th>Phrases</th>\n",
       "    </tr>\n",
       "  </thead>\n",
       "  <tbody>\n",
       "    <tr>\n",
       "      <th>0</th>\n",
       "      <td>chinese</td>\n",
       "    </tr>\n",
       "    <tr>\n",
       "      <th>1</th>\n",
       "      <td>fast</td>\n",
       "    </tr>\n",
       "    <tr>\n",
       "      <th>2</th>\n",
       "      <td>thai</td>\n",
       "    </tr>\n",
       "    <tr>\n",
       "      <th>3</th>\n",
       "      <td>bar</td>\n",
       "    </tr>\n",
       "    <tr>\n",
       "      <th>4</th>\n",
       "      <td>fry</td>\n",
       "    </tr>\n",
       "    <tr>\n",
       "      <th>5</th>\n",
       "      <td>fried</td>\n",
       "    </tr>\n",
       "    <tr>\n",
       "      <th>6</th>\n",
       "      <td>dessert</td>\n",
       "    </tr>\n",
       "    <tr>\n",
       "      <th>7</th>\n",
       "      <td>dinner</td>\n",
       "    </tr>\n",
       "    <tr>\n",
       "      <th>8</th>\n",
       "      <td>lunch</td>\n",
       "    </tr>\n",
       "    <tr>\n",
       "      <th>9</th>\n",
       "      <td>soup</td>\n",
       "    </tr>\n",
       "    <tr>\n",
       "      <th>10</th>\n",
       "      <td>green</td>\n",
       "    </tr>\n",
       "    <tr>\n",
       "      <th>11</th>\n",
       "      <td>mexico</td>\n",
       "    </tr>\n",
       "    <tr>\n",
       "      <th>12</th>\n",
       "      <td>italy</td>\n",
       "    </tr>\n",
       "    <tr>\n",
       "      <th>13</th>\n",
       "      <td>mexican</td>\n",
       "    </tr>\n",
       "    <tr>\n",
       "      <th>14</th>\n",
       "      <td>vietnamese</td>\n",
       "    </tr>\n",
       "    <tr>\n",
       "      <th>15</th>\n",
       "      <td>buffet</td>\n",
       "    </tr>\n",
       "    <tr>\n",
       "      <th>16</th>\n",
       "      <td>takeout</td>\n",
       "    </tr>\n",
       "    <tr>\n",
       "      <th>17</th>\n",
       "      <td>casual</td>\n",
       "    </tr>\n",
       "    <tr>\n",
       "      <th>18</th>\n",
       "      <td>pub</td>\n",
       "    </tr>\n",
       "    <tr>\n",
       "      <th>19</th>\n",
       "      <td>bakery</td>\n",
       "    </tr>\n",
       "    <tr>\n",
       "      <th>20</th>\n",
       "      <td>indian</td>\n",
       "    </tr>\n",
       "    <tr>\n",
       "      <th>21</th>\n",
       "      <td>classic</td>\n",
       "    </tr>\n",
       "    <tr>\n",
       "      <th>22</th>\n",
       "      <td>modern</td>\n",
       "    </tr>\n",
       "    <tr>\n",
       "      <th>23</th>\n",
       "      <td>french</td>\n",
       "    </tr>\n",
       "    <tr>\n",
       "      <th>24</th>\n",
       "      <td>italian</td>\n",
       "    </tr>\n",
       "    <tr>\n",
       "      <th>25</th>\n",
       "      <td>asian</td>\n",
       "    </tr>\n",
       "    <tr>\n",
       "      <th>26</th>\n",
       "      <td>birthday</td>\n",
       "    </tr>\n",
       "    <tr>\n",
       "      <th>27</th>\n",
       "      <td>vegetarian</td>\n",
       "    </tr>\n",
       "    <tr>\n",
       "      <th>28</th>\n",
       "      <td>downtown</td>\n",
       "    </tr>\n",
       "    <tr>\n",
       "      <th>29</th>\n",
       "      <td>bbq</td>\n",
       "    </tr>\n",
       "    <tr>\n",
       "      <th>...</th>\n",
       "      <td>...</td>\n",
       "    </tr>\n",
       "    <tr>\n",
       "      <th>203</th>\n",
       "      <td>frozen</td>\n",
       "    </tr>\n",
       "    <tr>\n",
       "      <th>204</th>\n",
       "      <td>sweetness</td>\n",
       "    </tr>\n",
       "    <tr>\n",
       "      <th>205</th>\n",
       "      <td>art</td>\n",
       "    </tr>\n",
       "    <tr>\n",
       "      <th>206</th>\n",
       "      <td>mayo</td>\n",
       "    </tr>\n",
       "    <tr>\n",
       "      <th>207</th>\n",
       "      <td>gravy</td>\n",
       "    </tr>\n",
       "    <tr>\n",
       "      <th>208</th>\n",
       "      <td>healthy</td>\n",
       "    </tr>\n",
       "    <tr>\n",
       "      <th>209</th>\n",
       "      <td>rare</td>\n",
       "    </tr>\n",
       "    <tr>\n",
       "      <th>210</th>\n",
       "      <td>refreshing</td>\n",
       "    </tr>\n",
       "    <tr>\n",
       "      <th>211</th>\n",
       "      <td>crunchy</td>\n",
       "    </tr>\n",
       "    <tr>\n",
       "      <th>212</th>\n",
       "      <td>chili</td>\n",
       "    </tr>\n",
       "    <tr>\n",
       "      <th>213</th>\n",
       "      <td>crust</td>\n",
       "    </tr>\n",
       "    <tr>\n",
       "      <th>214</th>\n",
       "      <td>stick</td>\n",
       "    </tr>\n",
       "    <tr>\n",
       "      <th>215</th>\n",
       "      <td>steamed</td>\n",
       "    </tr>\n",
       "    <tr>\n",
       "      <th>216</th>\n",
       "      <td>greasy</td>\n",
       "    </tr>\n",
       "    <tr>\n",
       "      <th>217</th>\n",
       "      <td>dip</td>\n",
       "    </tr>\n",
       "    <tr>\n",
       "      <th>218</th>\n",
       "      <td>gelato</td>\n",
       "    </tr>\n",
       "    <tr>\n",
       "      <th>219</th>\n",
       "      <td>salt</td>\n",
       "    </tr>\n",
       "    <tr>\n",
       "      <th>220</th>\n",
       "      <td>stuffed</td>\n",
       "    </tr>\n",
       "    <tr>\n",
       "      <th>221</th>\n",
       "      <td>topped</td>\n",
       "    </tr>\n",
       "    <tr>\n",
       "      <th>222</th>\n",
       "      <td>smoked</td>\n",
       "    </tr>\n",
       "    <tr>\n",
       "      <th>223</th>\n",
       "      <td>roasted</td>\n",
       "    </tr>\n",
       "    <tr>\n",
       "      <th>224</th>\n",
       "      <td>seasoned</td>\n",
       "    </tr>\n",
       "    <tr>\n",
       "      <th>225</th>\n",
       "      <td>chewy</td>\n",
       "    </tr>\n",
       "    <tr>\n",
       "      <th>226</th>\n",
       "      <td>pot</td>\n",
       "    </tr>\n",
       "    <tr>\n",
       "      <th>227</th>\n",
       "      <td>solid</td>\n",
       "    </tr>\n",
       "    <tr>\n",
       "      <th>228</th>\n",
       "      <td>sour</td>\n",
       "    </tr>\n",
       "    <tr>\n",
       "      <th>229</th>\n",
       "      <td>baked</td>\n",
       "    </tr>\n",
       "    <tr>\n",
       "      <th>230</th>\n",
       "      <td>juicy</td>\n",
       "    </tr>\n",
       "    <tr>\n",
       "      <th>231</th>\n",
       "      <td>creamy</td>\n",
       "    </tr>\n",
       "    <tr>\n",
       "      <th>232</th>\n",
       "      <td>deep fried</td>\n",
       "    </tr>\n",
       "  </tbody>\n",
       "</table>\n",
       "<p>233 rows × 1 columns</p>\n",
       "</div>"
      ],
      "text/plain": [
       "        Phrases\n",
       "0       chinese\n",
       "1          fast\n",
       "2          thai\n",
       "3           bar\n",
       "4           fry\n",
       "5         fried\n",
       "6       dessert\n",
       "7        dinner\n",
       "8         lunch\n",
       "9          soup\n",
       "10        green\n",
       "11       mexico\n",
       "12        italy\n",
       "13      mexican\n",
       "14   vietnamese\n",
       "15       buffet\n",
       "16      takeout\n",
       "17       casual\n",
       "18          pub\n",
       "19       bakery\n",
       "20       indian\n",
       "21      classic\n",
       "22       modern\n",
       "23       french\n",
       "24      italian\n",
       "25        asian\n",
       "26     birthday\n",
       "27   vegetarian\n",
       "28     downtown\n",
       "29          bbq\n",
       "..          ...\n",
       "203      frozen\n",
       "204   sweetness\n",
       "205         art\n",
       "206        mayo\n",
       "207       gravy\n",
       "208     healthy\n",
       "209        rare\n",
       "210  refreshing\n",
       "211     crunchy\n",
       "212       chili\n",
       "213       crust\n",
       "214       stick\n",
       "215     steamed\n",
       "216      greasy\n",
       "217         dip\n",
       "218      gelato\n",
       "219        salt\n",
       "220     stuffed\n",
       "221      topped\n",
       "222      smoked\n",
       "223     roasted\n",
       "224    seasoned\n",
       "225       chewy\n",
       "226         pot\n",
       "227       solid\n",
       "228        sour\n",
       "229       baked\n",
       "230       juicy\n",
       "231      creamy\n",
       "232  deep fried\n",
       "\n",
       "[233 rows x 1 columns]"
      ]
     },
     "execution_count": 187,
     "metadata": {},
     "output_type": "execute_result"
    }
   ],
   "source": [
    "df_keyphrases = pd.DataFrame.from_items([(\"Phrases\", key)])\n",
    "keyphrases = df_keyphrases['Phrases'].tolist()\n",
    "df_keyphrases"
   ]
  },
  {
   "cell_type": "code",
   "execution_count": 132,
   "metadata": {
    "collapsed": true
   },
   "outputs": [],
   "source": [
    "from nltk.util import ngrams\n",
    "\n",
    "def return_keyphrase_index(text):\n",
    "    index = [keyphrases.index(key) for key in keyphrases if key in text]\n",
    "    return index"
   ]
  },
  {
   "cell_type": "code",
   "execution_count": 188,
   "metadata": {
    "collapsed": true
   },
   "outputs": [],
   "source": [
    "cur_df[\"keyVector\"] = cur_df[\"conca_review\"].apply(return_keyphrase_index)"
   ]
  },
  {
   "cell_type": "code",
   "execution_count": 189,
   "metadata": {},
   "outputs": [
    {
     "data": {
      "text/html": [
       "<div>\n",
       "<style>\n",
       "    .dataframe thead tr:only-child th {\n",
       "        text-align: right;\n",
       "    }\n",
       "\n",
       "    .dataframe thead th {\n",
       "        text-align: left;\n",
       "    }\n",
       "\n",
       "    .dataframe tbody tr th {\n",
       "        vertical-align: top;\n",
       "    }\n",
       "</style>\n",
       "<table border=\"1\" class=\"dataframe\">\n",
       "  <thead>\n",
       "    <tr style=\"text-align: right;\">\n",
       "      <th></th>\n",
       "      <th>business_id</th>\n",
       "      <th>friend_count</th>\n",
       "      <th>ghost</th>\n",
       "      <th>img_dsc</th>\n",
       "      <th>img_url</th>\n",
       "      <th>nr</th>\n",
       "      <th>photo_count</th>\n",
       "      <th>rating</th>\n",
       "      <th>review_count</th>\n",
       "      <th>review_date</th>\n",
       "      <th>...</th>\n",
       "      <th>Year</th>\n",
       "      <th>Month</th>\n",
       "      <th>Day</th>\n",
       "      <th>Binary</th>\n",
       "      <th>review</th>\n",
       "      <th>conca_review</th>\n",
       "      <th>keyVector</th>\n",
       "      <th>keyphrases_indices_length</th>\n",
       "      <th>UserIndex</th>\n",
       "      <th>ItemIndex</th>\n",
       "    </tr>\n",
       "  </thead>\n",
       "  <tbody>\n",
       "    <tr>\n",
       "      <th>0</th>\n",
       "      <td>Xo1LNzhnwE-ilqsM3ybs9Q</td>\n",
       "      <td>105</td>\n",
       "      <td>False</td>\n",
       "      <td>['Photo of Happy Lemon - Markham, ON, Canada. ...</td>\n",
       "      <td>['https://s3-media4.fl.yelpcdn.com/bphoto/tu7j...</td>\n",
       "      <td>False</td>\n",
       "      <td>325.0</td>\n",
       "      <td>4.0</td>\n",
       "      <td>122</td>\n",
       "      <td>['8', '23', '2016']</td>\n",
       "      <td>...</td>\n",
       "      <td>2016</td>\n",
       "      <td>23</td>\n",
       "      <td>8</td>\n",
       "      <td>1</td>\n",
       "      <td>['ordered', 'lemon', 'mango', 'slush', 'lemon'...</td>\n",
       "      <td>ordered lemon mango slush lemon taste strong ...</td>\n",
       "      <td>[57, 97, 104, 117, 135, 225]</td>\n",
       "      <td>6</td>\n",
       "      <td>2335</td>\n",
       "      <td>4024</td>\n",
       "    </tr>\n",
       "    <tr>\n",
       "      <th>1</th>\n",
       "      <td>Xo1LNzhnwE-ilqsM3ybs9Q</td>\n",
       "      <td>171</td>\n",
       "      <td>False</td>\n",
       "      <td>['Photo of Happy Lemon - Markham, ON, Canada. ...</td>\n",
       "      <td>['https://s3-media3.fl.yelpcdn.com/bphoto/h110...</td>\n",
       "      <td>False</td>\n",
       "      <td>307.0</td>\n",
       "      <td>3.0</td>\n",
       "      <td>114</td>\n",
       "      <td>['10', '2', '2016']</td>\n",
       "      <td>...</td>\n",
       "      <td>2016</td>\n",
       "      <td>2</td>\n",
       "      <td>10</td>\n",
       "      <td>0</td>\n",
       "      <td>['came', 'sunday', 'afternoon', 'nt', 'busy', ...</td>\n",
       "      <td>came sunday afternoon nt busy came sunday spe...</td>\n",
       "      <td>[50, 53, 57, 60, 104, 131, 133, 135, 160, 163,...</td>\n",
       "      <td>11</td>\n",
       "      <td>966</td>\n",
       "      <td>4024</td>\n",
       "    </tr>\n",
       "    <tr>\n",
       "      <th>2</th>\n",
       "      <td>Xo1LNzhnwE-ilqsM3ybs9Q</td>\n",
       "      <td>239</td>\n",
       "      <td>False</td>\n",
       "      <td>['Photo of Happy Lemon - Markham, ON, Canada. ...</td>\n",
       "      <td>['https://s3-media4.fl.yelpcdn.com/bphoto/tS6Y...</td>\n",
       "      <td>False</td>\n",
       "      <td>78.0</td>\n",
       "      <td>5.0</td>\n",
       "      <td>49</td>\n",
       "      <td>['11', '6', '2016']</td>\n",
       "      <td>...</td>\n",
       "      <td>2016</td>\n",
       "      <td>6</td>\n",
       "      <td>11</td>\n",
       "      <td>1</td>\n",
       "      <td>['grapefruit', 'yakult', 'green', 'tea', 'aloe...</td>\n",
       "      <td>grapefruit yakult green tea aloe jelly found ...</td>\n",
       "      <td>[10, 57, 97, 108, 134, 146, 155, 204]</td>\n",
       "      <td>8</td>\n",
       "      <td>491</td>\n",
       "      <td>4024</td>\n",
       "    </tr>\n",
       "    <tr>\n",
       "      <th>3</th>\n",
       "      <td>Xo1LNzhnwE-ilqsM3ybs9Q</td>\n",
       "      <td>10</td>\n",
       "      <td>False</td>\n",
       "      <td>['Photo of Happy Lemon - Markham, ON, Canada',...</td>\n",
       "      <td>['https://s3-media3.fl.yelpcdn.com/bphoto/rfB0...</td>\n",
       "      <td>False</td>\n",
       "      <td>504.0</td>\n",
       "      <td>4.0</td>\n",
       "      <td>164</td>\n",
       "      <td>['9', '25', '2016']</td>\n",
       "      <td>...</td>\n",
       "      <td>2016</td>\n",
       "      <td>25</td>\n",
       "      <td>9</td>\n",
       "      <td>1</td>\n",
       "      <td>['saw', 'newly', 'opened', 'bubble', 'tea', 's...</td>\n",
       "      <td>saw newly opened bubble tea shop wanted give ...</td>\n",
       "      <td>[50, 52, 57, 60, 104, 131, 133, 135, 142, 173,...</td>\n",
       "      <td>12</td>\n",
       "      <td>1528</td>\n",
       "      <td>4024</td>\n",
       "    </tr>\n",
       "    <tr>\n",
       "      <th>4</th>\n",
       "      <td>Xo1LNzhnwE-ilqsM3ybs9Q</td>\n",
       "      <td>80</td>\n",
       "      <td>False</td>\n",
       "      <td>['Photo of Happy Lemon - Markham, ON, Canada',...</td>\n",
       "      <td>['https://s3-media1.fl.yelpcdn.com/bphoto/2jVn...</td>\n",
       "      <td>False</td>\n",
       "      <td>743.0</td>\n",
       "      <td>5.0</td>\n",
       "      <td>128</td>\n",
       "      <td>['6', '30', '2018']</td>\n",
       "      <td>...</td>\n",
       "      <td>2018</td>\n",
       "      <td>30</td>\n",
       "      <td>6</td>\n",
       "      <td>1</td>\n",
       "      <td>['happy', 'lemon', 'become', 'new', 'favourite...</td>\n",
       "      <td>happy lemon become new favourite place sweet ...</td>\n",
       "      <td>[57, 97, 104, 108, 131, 133, 155, 160, 164, 17...</td>\n",
       "      <td>11</td>\n",
       "      <td>551</td>\n",
       "      <td>4024</td>\n",
       "    </tr>\n",
       "  </tbody>\n",
       "</table>\n",
       "<p>5 rows × 28 columns</p>\n",
       "</div>"
      ],
      "text/plain": [
       "              business_id  friend_count  ghost  \\\n",
       "0  Xo1LNzhnwE-ilqsM3ybs9Q           105  False   \n",
       "1  Xo1LNzhnwE-ilqsM3ybs9Q           171  False   \n",
       "2  Xo1LNzhnwE-ilqsM3ybs9Q           239  False   \n",
       "3  Xo1LNzhnwE-ilqsM3ybs9Q            10  False   \n",
       "4  Xo1LNzhnwE-ilqsM3ybs9Q            80  False   \n",
       "\n",
       "                                             img_dsc  \\\n",
       "0  ['Photo of Happy Lemon - Markham, ON, Canada. ...   \n",
       "1  ['Photo of Happy Lemon - Markham, ON, Canada. ...   \n",
       "2  ['Photo of Happy Lemon - Markham, ON, Canada. ...   \n",
       "3  ['Photo of Happy Lemon - Markham, ON, Canada',...   \n",
       "4  ['Photo of Happy Lemon - Markham, ON, Canada',...   \n",
       "\n",
       "                                             img_url     nr  photo_count  \\\n",
       "0  ['https://s3-media4.fl.yelpcdn.com/bphoto/tu7j...  False        325.0   \n",
       "1  ['https://s3-media3.fl.yelpcdn.com/bphoto/h110...  False        307.0   \n",
       "2  ['https://s3-media4.fl.yelpcdn.com/bphoto/tS6Y...  False         78.0   \n",
       "3  ['https://s3-media3.fl.yelpcdn.com/bphoto/rfB0...  False        504.0   \n",
       "4  ['https://s3-media1.fl.yelpcdn.com/bphoto/2jVn...  False        743.0   \n",
       "\n",
       "   rating  review_count          review_date    ...      Year Month Day  \\\n",
       "0     4.0           122  ['8', '23', '2016']    ...      2016    23   8   \n",
       "1     3.0           114  ['10', '2', '2016']    ...      2016     2  10   \n",
       "2     5.0            49  ['11', '6', '2016']    ...      2016     6  11   \n",
       "3     4.0           164  ['9', '25', '2016']    ...      2016    25   9   \n",
       "4     5.0           128  ['6', '30', '2018']    ...      2018    30   6   \n",
       "\n",
       "  Binary                                             review  \\\n",
       "0      1  ['ordered', 'lemon', 'mango', 'slush', 'lemon'...   \n",
       "1      0  ['came', 'sunday', 'afternoon', 'nt', 'busy', ...   \n",
       "2      1  ['grapefruit', 'yakult', 'green', 'tea', 'aloe...   \n",
       "3      1  ['saw', 'newly', 'opened', 'bubble', 'tea', 's...   \n",
       "4      1  ['happy', 'lemon', 'become', 'new', 'favourite...   \n",
       "\n",
       "                                        conca_review  \\\n",
       "0   ordered lemon mango slush lemon taste strong ...   \n",
       "1   came sunday afternoon nt busy came sunday spe...   \n",
       "2   grapefruit yakult green tea aloe jelly found ...   \n",
       "3   saw newly opened bubble tea shop wanted give ...   \n",
       "4   happy lemon become new favourite place sweet ...   \n",
       "\n",
       "                                           keyVector  \\\n",
       "0                       [57, 97, 104, 117, 135, 225]   \n",
       "1  [50, 53, 57, 60, 104, 131, 133, 135, 160, 163,...   \n",
       "2              [10, 57, 97, 108, 134, 146, 155, 204]   \n",
       "3  [50, 52, 57, 60, 104, 131, 133, 135, 142, 173,...   \n",
       "4  [57, 97, 104, 108, 131, 133, 155, 160, 164, 17...   \n",
       "\n",
       "   keyphrases_indices_length  UserIndex  ItemIndex  \n",
       "0                          6       2335       4024  \n",
       "1                         11        966       4024  \n",
       "2                          8        491       4024  \n",
       "3                         12       1528       4024  \n",
       "4                         11        551       4024  \n",
       "\n",
       "[5 rows x 28 columns]"
      ]
     },
     "execution_count": 189,
     "metadata": {},
     "output_type": "execute_result"
    }
   ],
   "source": [
    "cur_df['keyphrases_indices_length'] = cur_df['keyVector'].str.len()\n",
    "cur_df.head()"
   ]
  },
  {
   "cell_type": "code",
   "execution_count": null,
   "metadata": {
    "collapsed": true
   },
   "outputs": [],
   "source": [
    "cur_df['keyVector']"
   ]
  },
  {
   "cell_type": "code",
   "execution_count": 191,
   "metadata": {},
   "outputs": [
    {
     "name": "stdout",
     "output_type": "stream",
     "text": [
      "1558573\n",
      "0.9910594887861537\n",
      "2.085932094279447\n"
     ]
    }
   ],
   "source": [
    "print(cur_df['keyphrases_indices_length'].sum())\n",
    "print(len(cur_df[cur_df['keyphrases_indices_length'] > 0])/len(cur_df))\n",
    "print(cur_df['keyphrases_indices_length'].sum() / len(df))"
   ]
  },
  {
   "cell_type": "code",
   "execution_count": 192,
   "metadata": {},
   "outputs": [
    {
     "data": {
      "text/plain": [
       "9.92481437613826"
      ]
     },
     "execution_count": 192,
     "metadata": {},
     "output_type": "execute_result"
    }
   ],
   "source": [
    "cur_df['keyphrases_indices_length'].mean()"
   ]
  },
  {
   "cell_type": "code",
   "execution_count": 193,
   "metadata": {},
   "outputs": [
    {
     "data": {
      "text/plain": [
       "array([[<matplotlib.axes._subplots.AxesSubplot object at 0x000001863BB2F630>]], dtype=object)"
      ]
     },
     "execution_count": 193,
     "metadata": {},
     "output_type": "execute_result"
    },
    {
     "data": {
      "image/png": "[encoded data removed]",
      "text/plain": [
       "<matplotlib.figure.Figure at 0x18654e29630>"
      ]
     },
     "metadata": {},
     "output_type": "display_data"
    }
   ],
   "source": [
    "import matplotlib.pyplot as plt\n",
    "%matplotlib inline\n",
    "\n",
    "cur_df.hist(column='keyphrases_indices_length')"
   ]
  },
  {
   "cell_type": "code",
   "execution_count": null,
   "metadata": {
    "collapsed": true
   },
   "outputs": [],
   "source": [
    "key_vector_index_list = [item for sublist in cur_df[\"keyVector\"].values for item in sublist]\n",
    "unique, counts = np.unique(key_vector_index_list, return_counts=True)\n",
    "[(x, count) for count, x in sorted(zip(counts,keyphrases), key=lambda pair: pair[0], reverse=True)]"
   ]
  },
  {
   "cell_type": "code",
   "execution_count": 195,
   "metadata": {},
   "outputs": [
    {
     "name": "stdout",
     "output_type": "stream",
     "text": [
      "Number of User: 2343\n",
      "Number of Item: 7456\n",
      "Number of Positive Review: 36955\n",
      "Number of key Phrase: 233\n",
      "Number of reviews: 157038\n"
     ]
    }
   ],
   "source": [
    "cur_df['UserIndex'] = cur_df[USER_ID].astype('category').cat.rename_categories(range(0, cur_df[USER_ID].nunique()))\n",
    "cur_df['ItemIndex'] = cur_df[ITEM_ID].astype('category').cat.rename_categories(range(0, cur_df[ITEM_ID].nunique()))\n",
    "cur_df['Binary'] = (cur_df[RATING] > 4)*1\n",
    "\n",
    "df_user_name = cur_df[['UserIndex',USER_ID]]\n",
    "df_item_name = cur_df[['ItemIndex',ITEM_ID]]\n",
    "\n",
    "total_review = len(cur_df)\n",
    "\n",
    "print(\"Number of User: {0}\".format(df_user_name['UserIndex'].nunique()))\n",
    "print(\"Number of Item: {0}\".format(df_item_name['ItemIndex'].nunique()))\n",
    "print(\"Number of Positive Review: {0}\".format(sum(cur_df['Binary'].tolist())))\n",
    "print(\"Number of key Phrase: {0}\".format(len(df_keyphrases)))\n",
    "print(\"Number of reviews: {0}\".format(total_review))"
   ]
  },
  {
   "cell_type": "code",
   "execution_count": 196,
   "metadata": {},
   "outputs": [
    {
     "name": "stdout",
     "output_type": "stream",
     "text": [
      "positive/all review ratio is around:  24 %\n"
     ]
    }
   ],
   "source": [
    "print ('positive/all review ratio is around: ', round(36955/157038*100), \"%\")"
   ]
  },
  {
   "cell_type": "code",
   "execution_count": 197,
   "metadata": {
    "scrolled": false
   },
   "outputs": [
    {
     "data": {
      "text/plain": [
       "<matplotlib.axes._subplots.AxesSubplot at 0x18524598588>"
      ]
     },
     "execution_count": 197,
     "metadata": {},
     "output_type": "execute_result"
    },
    {
     "data": {
      "image/png": "[encoded data removed]",
      "text/plain": [
       "<matplotlib.figure.Figure at 0x185245b7710>"
      ]
     },
     "metadata": {},
     "output_type": "display_data"
    }
   ],
   "source": [
    "cur_df['rating'].hist()"
   ]
  },
  {
   "cell_type": "markdown",
   "metadata": {},
   "source": [
    "# Save processed data"
   ]
  },
  {
   "cell_type": "code",
   "execution_count": 198,
   "metadata": {
    "collapsed": true
   },
   "outputs": [],
   "source": [
    "dataPath = '../../data/yelp/'\n",
    "\n",
    "cur_df.to_csv(dataPath+'Data.csv')\n",
    "df_word_index.to_csv(dataPath+'WordIndex.csv')\n",
    "df_keyphrases.to_csv(dataPath+'KeyPhrases.csv')\n",
    "df_user_name.to_csv(dataPath+'UserIndex.csv')\n",
    "df_item_name.to_csv(dataPath+'ItemIndex.csv')"
   ]
  },
  {
   "cell_type": "code",
   "execution_count": 199,
   "metadata": {
    "scrolled": true
   },
   "outputs": [],
   "source": [
    "cur_df = pd.read_csv('../../data/yelp/Data.csv', index_col=0,  encoding='latin-1')"
   ]
  },
  {
   "cell_type": "markdown",
   "metadata": {},
   "source": [
    "# Data Sparsity"
   ]
  },
  {
   "cell_type": "code",
   "execution_count": 201,
   "metadata": {
    "scrolled": true
   },
   "outputs": [
    {
     "data": {
      "text/plain": [
       "157038"
      ]
     },
     "execution_count": 201,
     "metadata": {},
     "output_type": "execute_result"
    }
   ],
   "source": [
    "len(cur_df)"
   ]
  },
  {
   "cell_type": "code",
   "execution_count": 203,
   "metadata": {},
   "outputs": [
    {
     "data": {
      "text/plain": [
       "\"This place is located inside Pacific Mall and I believe it's the first store in Toronto (I haven't encountered one like this yet). Apparently, it's very popular around the world, with locations all shown on their poster. As a promotion, they have buy 1 get 1, until the end of today! So today is a great idea to try it. I tried the Oreo milk tea because they ran out of their lemon mango slush. I thought it wasn't that great. The milk tea and the Oreo didn't go too well. I also tried the lemon black tea which was a lot better, maybe this is why their name is called happy lemon, as its their specialty. For the service, it was friendly but the wait took a long time! Because of their promotion, they told us to return in 30 minutes to get our drinks and it looks like their computers were down and it was cash only.Perhaps I will give this place another try, although for a large lemon tea, it was a bit pricey at $6.50.\""
      ]
     },
     "execution_count": 203,
     "metadata": {},
     "output_type": "execute_result"
    }
   ],
   "source": [
    "cur_df.loc[15][REVIEW_TEXT]"
   ]
  },
  {
   "cell_type": "code",
   "execution_count": 171,
   "metadata": {},
   "outputs": [],
   "source": [
    "cur_df[BINARY_RATING] = (cur_df[RATING] >= 4)*1"
   ]
  },
  {
   "cell_type": "code",
   "execution_count": 204,
   "metadata": {},
   "outputs": [
    {
     "data": {
      "text/plain": [
       "36955"
      ]
     },
     "execution_count": 204,
     "metadata": {},
     "output_type": "execute_result"
    }
   ],
   "source": [
    "len(cur_df[cur_df[BINARY_RATING] == 1])"
   ]
  },
  {
   "cell_type": "code",
   "execution_count": 205,
   "metadata": {},
   "outputs": [
    {
     "data": {
      "text/plain": [
       "2343"
      ]
     },
     "execution_count": 205,
     "metadata": {},
     "output_type": "execute_result"
    }
   ],
   "source": [
    "cur_df['UserIndex'].nunique()"
   ]
  },
  {
   "cell_type": "code",
   "execution_count": 206,
   "metadata": {},
   "outputs": [
    {
     "data": {
      "text/plain": [
       "7456"
      ]
     },
     "execution_count": 206,
     "metadata": {},
     "output_type": "execute_result"
    }
   ],
   "source": [
    "cur_df['ItemIndex'].nunique()"
   ]
  },
  {
   "cell_type": "code",
   "execution_count": 208,
   "metadata": {},
   "outputs": [
    {
     "data": {
      "text/plain": [
       "0.0021154122681203624"
      ]
     },
     "execution_count": 208,
     "metadata": {},
     "output_type": "execute_result"
    }
   ],
   "source": [
    "36955/(2343*7456)"
   ]
  },
  {
   "cell_type": "code",
   "execution_count": 209,
   "metadata": {
    "scrolled": true
   },
   "outputs": [
    {
     "name": "stdout",
     "output_type": "stream",
     "text": [
      "Number of Positive Review: 36955\n"
     ]
    }
   ],
   "source": [
    "print(\"Number of Positive Review: {0}\".format(sum(cur_df[BINARY_RATING].tolist())))"
   ]
  },
  {
   "cell_type": "code",
   "execution_count": 210,
   "metadata": {},
   "outputs": [
    {
     "name": "stdout",
     "output_type": "stream",
     "text": [
      "The current keyphrase set covers 99.10594887861537% reviews\n",
      "9.92481437613826\n"
     ]
    }
   ],
   "source": [
    "coverage_ratio = 1-len(cur_df[cur_df['keyphrases_indices_length'] == 0])/len(cur_df)\n",
    "print('The current keyphrase set covers {}% reviews'.format(coverage_ratio * 100))\n",
    "print(cur_df['keyphrases_indices_length'].mean())"
   ]
  },
  {
   "cell_type": "code",
   "execution_count": 211,
   "metadata": {},
   "outputs": [
    {
     "name": "stdout",
     "output_type": "stream",
     "text": [
      "A review can have at most 59 keyphrases in the current keyphrase set\n"
     ]
    }
   ],
   "source": [
    "print('A review can have at most {} keyphrases in the current keyphrase set'.format(cur_df['keyphrases_indices_length'].max()))"
   ]
  },
  {
   "cell_type": "code",
   "execution_count": 212,
   "metadata": {},
   "outputs": [
    {
     "data": {
      "image/png": "[encoded data removed]",
      "text/plain": [
       "<matplotlib.figure.Figure at 0x18610a25748>"
      ]
     },
     "metadata": {},
     "output_type": "display_data"
    }
   ],
   "source": [
    "import matplotlib.pyplot as plt\n",
    "%matplotlib inline\n",
    "\n",
    "fig1 = plt.figure(figsize=(4, 4), dpi=100)\n",
    "ax1 = fig1.add_subplot(111)\n",
    "\n",
    "cur_df.hist(column='keyphrases_indices_length', ax=ax1)\n",
    "\n",
    "ax1.set_title(\"Keyphrase converage for CD\")\n",
    "plt.xlabel('Number of keyphrases in each review')\n",
    "plt.ylabel('Number of reviews')\n",
    "\n",
    "# legend = plt.legend(loc='upper right', shadow=True,prop={'size':10})\n",
    "plt.tight_layout()"
   ]
  }
 ],
 "metadata": {
  "kernelspec": {
   "display_name": "Python 3",
   "language": "python",
   "name": "python3"
  },
  "language_info": {
   "codemirror_mode": {
    "name": "ipython",
    "version": 3
   },
   "file_extension": ".py",
   "mimetype": "text/x-python",
   "name": "python",
   "nbconvert_exporter": "python",
   "pygments_lexer": "ipython3",
   "version": "3.5.3"
  }
 },
 "nbformat": 4,
 "nbformat_minor": 2
}
