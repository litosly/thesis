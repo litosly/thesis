{
 "cells": [
  {
   "cell_type": "markdown",
   "metadata": {},
   "source": [
    "# Environment: Python 3.5"
   ]
  },
  {
   "cell_type": "code",
   "execution_count": 1,
   "metadata": {},
   "outputs": [
    {
     "name": "stderr",
     "output_type": "stream",
     "text": [
      "Using TensorFlow backend.\n"
     ]
    }
   ],
   "source": [
    "from ast import literal_eval\n",
    "from os import listdir\n",
    "from os.path import isfile, join\n",
    "from scipy.sparse import csr_matrix, load_npz, save_npz\n",
    "from tqdm import tqdm\n",
    "from sklearn.preprocessing import normalize\n",
    "\n",
    "import seaborn as sns\n",
    "import datetime\n",
    "import json\n",
    "import numpy as np\n",
    "import pandas as pd\n",
    "import time\n",
    "import yaml\n",
    "import scipy.sparse as sparse\n",
    "from ast import literal_eval\n",
    "\n",
    "# For Python2 this have to be done\n",
    "# from __future__ import division\n",
    "\n",
    "\n",
    "import gzip\n",
    "import string\n",
    "import itertools\n",
    "import nltk\n",
    "from nltk.corpus import stopwords\n",
    "from nltk.stem import WordNetLemmatizer\n",
    "from nltk.tokenize import sent_tokenize\n",
    "from keras.preprocessing.text import Tokenizer"
   ]
  },
  {
   "cell_type": "code",
   "execution_count": 2,
   "metadata": {
    "collapsed": true
   },
   "outputs": [],
   "source": [
    "ITEM_ID = 'business_id'\n",
    "USER_ID = 'user_id'\n",
    "RATING = 'rating'\n",
    "BINARY_RATING = 'Binary'\n",
    "REVIEW_TEXT = 'review_text'\n",
    "TIMESTAMP = 'review_date'\n",
    "# TIMESTAMP = 'timestamp'\n",
    "DATA_PATH = '../../data/yelp/'\n",
    "DATA_NAME = 'toronto_reviews.csv'"
   ]
  },
  {
   "cell_type": "code",
   "execution_count": 107,
   "metadata": {
    "collapsed": true,
    "scrolled": true
   },
   "outputs": [],
   "source": [
    "# Load Original Data\n",
    "\n",
    "dataset_name = 'yelp'\n",
    "\n",
    "df = pd.read_csv('../../data/'+ dataset_name +'/toronto_reviews.csv')\n",
    "# df_train = pd.read_csv('../../data/'+ dataset_name +'/Train.csv')\n",
    "# df_valid = pd.read_csv('../../data/'+ dataset_name +'/Valid.csv')\n",
    "# df_test = pd.read_csv('../../data/'+ dataset_name +'/Test.csv')\n",
    "# key_phrase = pd.read_csv('../data/'+ dataset_name +'/KeyPhrases.csv')"
   ]
  },
  {
   "cell_type": "code",
   "execution_count": 4,
   "metadata": {
    "scrolled": true
   },
   "outputs": [
    {
     "data": {
      "text/html": [
       "<div>\n",
       "<style>\n",
       "    .dataframe thead tr:only-child th {\n",
       "        text-align: right;\n",
       "    }\n",
       "\n",
       "    .dataframe thead th {\n",
       "        text-align: left;\n",
       "    }\n",
       "\n",
       "    .dataframe tbody tr th {\n",
       "        vertical-align: top;\n",
       "    }\n",
       "</style>\n",
       "<table border=\"1\" class=\"dataframe\">\n",
       "  <thead>\n",
       "    <tr style=\"text-align: right;\">\n",
       "      <th></th>\n",
       "      <th>Unnamed: 0</th>\n",
       "      <th>Unnamed: 0.1</th>\n",
       "      <th>business_id</th>\n",
       "      <th>friend_count</th>\n",
       "      <th>ghost</th>\n",
       "      <th>img_dsc</th>\n",
       "      <th>img_url</th>\n",
       "      <th>nr</th>\n",
       "      <th>photo_count</th>\n",
       "      <th>rating</th>\n",
       "      <th>...</th>\n",
       "      <th>review_language</th>\n",
       "      <th>review_text</th>\n",
       "      <th>ufc</th>\n",
       "      <th>user_id</th>\n",
       "      <th>user_loc</th>\n",
       "      <th>vote_count</th>\n",
       "      <th>Updated</th>\n",
       "      <th>Year</th>\n",
       "      <th>Month</th>\n",
       "      <th>Day</th>\n",
       "    </tr>\n",
       "  </thead>\n",
       "  <tbody>\n",
       "    <tr>\n",
       "      <th>0</th>\n",
       "      <td>0</td>\n",
       "      <td>0</td>\n",
       "      <td>bSQGCheX1BwvL67Az1OJlA</td>\n",
       "      <td>90</td>\n",
       "      <td>False</td>\n",
       "      <td>[]</td>\n",
       "      <td>[]</td>\n",
       "      <td>False</td>\n",
       "      <td>231.0</td>\n",
       "      <td>5.0</td>\n",
       "      <td>...</td>\n",
       "      <td>en</td>\n",
       "      <td>I had a good experience at this store. I was g...</td>\n",
       "      <td>[10, 1, 10]</td>\n",
       "      <td>q41qqkChL9fRxF43cnkgbw</td>\n",
       "      <td>Houston, TX</td>\n",
       "      <td>11.0</td>\n",
       "      <td>False</td>\n",
       "      <td>2018</td>\n",
       "      <td>5</td>\n",
       "      <td>9</td>\n",
       "    </tr>\n",
       "    <tr>\n",
       "      <th>1</th>\n",
       "      <td>1</td>\n",
       "      <td>1</td>\n",
       "      <td>bSQGCheX1BwvL67Az1OJlA</td>\n",
       "      <td>0</td>\n",
       "      <td>False</td>\n",
       "      <td>[]</td>\n",
       "      <td>[]</td>\n",
       "      <td>False</td>\n",
       "      <td>9.0</td>\n",
       "      <td>1.0</td>\n",
       "      <td>...</td>\n",
       "      <td>en</td>\n",
       "      <td>I reaaaaaally wish I had read all the stories ...</td>\n",
       "      <td>[0, 0, 0]</td>\n",
       "      <td>tNT5I9-QcljS-7w_doXCXQ</td>\n",
       "      <td>Toronto, Canada</td>\n",
       "      <td>0.0</td>\n",
       "      <td>False</td>\n",
       "      <td>2018</td>\n",
       "      <td>6</td>\n",
       "      <td>3</td>\n",
       "    </tr>\n",
       "    <tr>\n",
       "      <th>2</th>\n",
       "      <td>2</td>\n",
       "      <td>2</td>\n",
       "      <td>bSQGCheX1BwvL67Az1OJlA</td>\n",
       "      <td>52</td>\n",
       "      <td>False</td>\n",
       "      <td>[\"Photo of Sleep Country - Toronto, ON, Canada...</td>\n",
       "      <td>['https://s3-media1.fl.yelpcdn.com/bphoto/E_gL...</td>\n",
       "      <td>False</td>\n",
       "      <td>27.0</td>\n",
       "      <td>1.0</td>\n",
       "      <td>...</td>\n",
       "      <td>en</td>\n",
       "      <td>Everything was fine until the delivery. I wait...</td>\n",
       "      <td>[3, 1, 2]</td>\n",
       "      <td>9q1Do6TVM27RNHUQAQxPRg</td>\n",
       "      <td>Toronto, Canada</td>\n",
       "      <td>3.0</td>\n",
       "      <td>False</td>\n",
       "      <td>2016</td>\n",
       "      <td>30</td>\n",
       "      <td>7</td>\n",
       "    </tr>\n",
       "    <tr>\n",
       "      <th>3</th>\n",
       "      <td>3</td>\n",
       "      <td>3</td>\n",
       "      <td>Z7JV11GXw_RsGr8Ik_Hsag</td>\n",
       "      <td>0</td>\n",
       "      <td>False</td>\n",
       "      <td>[]</td>\n",
       "      <td>[]</td>\n",
       "      <td>False</td>\n",
       "      <td>NaN</td>\n",
       "      <td>5.0</td>\n",
       "      <td>...</td>\n",
       "      <td>en</td>\n",
       "      <td>Thought I had bed bugs, but it turned out to b...</td>\n",
       "      <td>[0, 0, 0]</td>\n",
       "      <td>cr-4gAf1_seYWLoO59Lp4w</td>\n",
       "      <td>Old Toronto, Toronto, Canada</td>\n",
       "      <td>0.0</td>\n",
       "      <td>False</td>\n",
       "      <td>2018</td>\n",
       "      <td>16</td>\n",
       "      <td>12</td>\n",
       "    </tr>\n",
       "    <tr>\n",
       "      <th>4</th>\n",
       "      <td>4</td>\n",
       "      <td>4</td>\n",
       "      <td>Z7JV11GXw_RsGr8Ik_Hsag</td>\n",
       "      <td>0</td>\n",
       "      <td>False</td>\n",
       "      <td>[]</td>\n",
       "      <td>[]</td>\n",
       "      <td>False</td>\n",
       "      <td>NaN</td>\n",
       "      <td>5.0</td>\n",
       "      <td>...</td>\n",
       "      <td>en</td>\n",
       "      <td>When we called, Mr. Akram was willing to come ...</td>\n",
       "      <td>[1, 0, 0]</td>\n",
       "      <td>CQkTIyhNczRlRI4kIdAzSw</td>\n",
       "      <td>Toronto, Canada</td>\n",
       "      <td>1.0</td>\n",
       "      <td>False</td>\n",
       "      <td>2014</td>\n",
       "      <td>6</td>\n",
       "      <td>8</td>\n",
       "    </tr>\n",
       "  </tbody>\n",
       "</table>\n",
       "<p>5 rows × 23 columns</p>\n",
       "</div>"
      ],
      "text/plain": [
       "   Unnamed: 0  Unnamed: 0.1             business_id  friend_count  ghost  \\\n",
       "0           0             0  bSQGCheX1BwvL67Az1OJlA            90  False   \n",
       "1           1             1  bSQGCheX1BwvL67Az1OJlA             0  False   \n",
       "2           2             2  bSQGCheX1BwvL67Az1OJlA            52  False   \n",
       "3           3             3  Z7JV11GXw_RsGr8Ik_Hsag             0  False   \n",
       "4           4             4  Z7JV11GXw_RsGr8Ik_Hsag             0  False   \n",
       "\n",
       "                                             img_dsc  \\\n",
       "0                                                 []   \n",
       "1                                                 []   \n",
       "2  [\"Photo of Sleep Country - Toronto, ON, Canada...   \n",
       "3                                                 []   \n",
       "4                                                 []   \n",
       "\n",
       "                                             img_url     nr  photo_count  \\\n",
       "0                                                 []  False        231.0   \n",
       "1                                                 []  False          9.0   \n",
       "2  ['https://s3-media1.fl.yelpcdn.com/bphoto/E_gL...  False         27.0   \n",
       "3                                                 []  False          NaN   \n",
       "4                                                 []  False          NaN   \n",
       "\n",
       "   rating ...   review_language  \\\n",
       "0     5.0 ...                en   \n",
       "1     1.0 ...                en   \n",
       "2     1.0 ...                en   \n",
       "3     5.0 ...                en   \n",
       "4     5.0 ...                en   \n",
       "\n",
       "                                         review_text          ufc  \\\n",
       "0  I had a good experience at this store. I was g...  [10, 1, 10]   \n",
       "1  I reaaaaaally wish I had read all the stories ...    [0, 0, 0]   \n",
       "2  Everything was fine until the delivery. I wait...    [3, 1, 2]   \n",
       "3  Thought I had bed bugs, but it turned out to b...    [0, 0, 0]   \n",
       "4  When we called, Mr. Akram was willing to come ...    [1, 0, 0]   \n",
       "\n",
       "                  user_id                      user_loc vote_count Updated  \\\n",
       "0  q41qqkChL9fRxF43cnkgbw                   Houston, TX       11.0   False   \n",
       "1  tNT5I9-QcljS-7w_doXCXQ               Toronto, Canada        0.0   False   \n",
       "2  9q1Do6TVM27RNHUQAQxPRg               Toronto, Canada        3.0   False   \n",
       "3  cr-4gAf1_seYWLoO59Lp4w  Old Toronto, Toronto, Canada        0.0   False   \n",
       "4  CQkTIyhNczRlRI4kIdAzSw               Toronto, Canada        1.0   False   \n",
       "\n",
       "   Year  Month  Day  \n",
       "0  2018      5    9  \n",
       "1  2018      6    3  \n",
       "2  2016     30    7  \n",
       "3  2018     16   12  \n",
       "4  2014      6    8  \n",
       "\n",
       "[5 rows x 23 columns]"
      ]
     },
     "execution_count": 4,
     "metadata": {},
     "output_type": "execute_result"
    }
   ],
   "source": [
    "df.head()"
   ]
  },
  {
   "cell_type": "markdown",
   "metadata": {},
   "source": [
    "### Sushi on bloor"
   ]
  },
  {
   "cell_type": "code",
   "execution_count": 31,
   "metadata": {},
   "outputs": [
    {
     "data": {
      "text/plain": [
       "(array([], dtype=int64),)"
      ]
     },
     "execution_count": 31,
     "metadata": {},
     "output_type": "execute_result"
    }
   ],
   "source": [
    "np.where(df.business_id == '6n_MDeYxU1ihB38be9TkVA')"
   ]
  },
  {
   "cell_type": "markdown",
   "metadata": {},
   "source": [
    "### Spicy Mafia"
   ]
  },
  {
   "cell_type": "code",
   "execution_count": 59,
   "metadata": {
    "scrolled": true
   },
   "outputs": [
    {
     "data": {
      "text/plain": [
       "(array([539154, 539155, 539156, 539157, 539158, 539159, 539160, 539161,\n",
       "        539162, 539163, 539164, 539165], dtype=int64),)"
      ]
     },
     "execution_count": 59,
     "metadata": {},
     "output_type": "execute_result"
    }
   ],
   "source": [
    "np.where(df.business_id == 'l_uAw0K2lkOsyVJATcnwsA')"
   ]
  },
  {
   "cell_type": "code",
   "execution_count": 39,
   "metadata": {},
   "outputs": [
    {
     "data": {
      "text/plain": [
       "business_id                                   l_uAw0K2lkOsyVJATcnwsA\n",
       "friend_count                                                       0\n",
       "ghost                                                          False\n",
       "img_dsc                                                           []\n",
       "img_url                                                           []\n",
       "nr                                                             False\n",
       "photo_count                                                       21\n",
       "rating                                                             3\n",
       "review_count                                                      24\n",
       "review_date                                      ['1', '23', '2018']\n",
       "review_id                                     Mu-yLnxsuj2JjEZBXt5A9A\n",
       "review_language                                                   en\n",
       "review_text        This place is ok. I honestly feel like I could...\n",
       "ufc                                                        [0, 0, 0]\n",
       "user_id                                       dEaOGB7DIQDlEi9o8C2uow\n",
       "user_loc                                             Toronto, Canada\n",
       "vote_count                                                         0\n",
       "Updated                                                        False\n",
       "Year                                                            2018\n",
       "Month                                                             23\n",
       "Day                                                                1\n",
       "Name: 539160, dtype: object"
      ]
     },
     "execution_count": 39,
     "metadata": {},
     "output_type": "execute_result"
    }
   ],
   "source": [
    "df.loc[539160]"
   ]
  },
  {
   "cell_type": "code",
   "execution_count": 29,
   "metadata": {
    "scrolled": true
   },
   "outputs": [
    {
     "data": {
      "text/plain": [
       "\"If you like hotpot but don't have a lot of time or the capacity to go all out on all-you-can-stuff deals, this is the place for you. \\xa0It's your own personalized hotpot bowl with all the fixings you'd want. \\xa0They have option for fresh meat (chicken or angus beef), you just have to ask at the counter. \\xa0The house special broth varies from mild to fires of Mount Doom spicy (seriously- the bowl was flaming red with hot chilli bits floating on top). Oh, the best part- you can pack it to go.\""
      ]
     },
     "execution_count": 29,
     "metadata": {},
     "output_type": "execute_result"
    }
   ],
   "source": [
    "df['review_text'][539159]"
   ]
  },
  {
   "cell_type": "markdown",
   "metadata": {},
   "source": [
    "# Filter"
   ]
  },
  {
   "cell_type": "code",
   "execution_count": 48,
   "metadata": {
    "scrolled": true
   },
   "outputs": [
    {
     "data": {
      "text/plain": [
       "32022"
      ]
     },
     "execution_count": 48,
     "metadata": {},
     "output_type": "execute_result"
    }
   ],
   "source": [
    "df[ITEM_ID].nunique()"
   ]
  },
  {
   "cell_type": "code",
   "execution_count": 49,
   "metadata": {
    "scrolled": true
   },
   "outputs": [
    {
     "data": {
      "text/plain": [
       "128419"
      ]
     },
     "execution_count": 49,
     "metadata": {},
     "output_type": "execute_result"
    }
   ],
   "source": [
    "df[USER_ID].nunique()"
   ]
  },
  {
   "cell_type": "code",
   "execution_count": 91,
   "metadata": {
    "collapsed": true
   },
   "outputs": [],
   "source": [
    "def filter_dataset(df, threshold=3, popularity=True, filter_by_review_count=True, \n",
    "                   user_review_threshold=10, item_review_threshold=10, \n",
    "                   num_user=None, num_item=None, user_ratio=0.25, item_ratio=0.2):\n",
    "    # Binarize rating\n",
    "    df[BINARY_RATING] = (df[RATING] > threshold)*1\n",
    "\n",
    "    # Filter dataset only based on positive ratings\n",
    "    df = df[df[BINARY_RATING] == 1]\n",
    "    \n",
    "    print(\"The total number of users is {}\".format(df[USER_ID].nunique()))\n",
    "    print(\"The total number of items is {} \\n\".format(df[ITEM_ID].nunique()))\n",
    "    \n",
    "\n",
    "    values = df[ITEM_ID].value_counts().keys().tolist()\n",
    "    counts = df[ITEM_ID].value_counts().tolist()\n",
    "    item_df = pd.DataFrame.from_dict({ITEM_ID: values, \"count\": counts})\n",
    "    \n",
    "    values = df[USER_ID].value_counts().keys().tolist()\n",
    "    counts = df[USER_ID].value_counts().tolist()\n",
    "    user_df = pd.DataFrame.from_dict({USER_ID: values, \"count\": counts})\n",
    "    \n",
    "    if popularity:\n",
    "        print(\"Filter dataset by popularity. \\n\")\n",
    "        \n",
    "        if filter_by_review_count:\n",
    "            print(\"Filter dataset by review count. \\n\")\n",
    "            \n",
    "            filtered_item_df = item_df[item_df[\"count\"] >= item_review_threshold]\n",
    "            filtered_item_id = filtered_item_df[ITEM_ID].values\n",
    "            \n",
    "            filtered_user_df = user_df[user_df[\"count\"] >= user_review_threshold]\n",
    "            filtered_user_id = filtered_user_df[USER_ID].values\n",
    "            \n",
    "        else:\n",
    "            print(\"Filter dataset by user and item number. \\n\")\n",
    "            filtered_item_id = item_df[ITEM_ID].unique()[:num_item]\n",
    "            filtered_user_id = user_df[USER_ID].unique()[:num_user]\n",
    "            \n",
    "    else:\n",
    "        print(\"Filter dataset by sampling. \\n\")\n",
    "        np.random.seed(8292)\n",
    "        \n",
    "        filtered_item_id = np.take(item_df[ITEM_ID].unique(), \n",
    "                                   indices=np.random.choice(len(item_df), int(item_ratio*len(item_df))))\n",
    "        filtered_user_id = np.take(user_df[USER_ID].unique(), \n",
    "                                   indices=np.random.choice(len(user_df), int(user_ratio*len(user_df))))\n",
    "        \n",
    "    df = df.loc[(df[USER_ID].isin(filtered_user_id)) & (df[ITEM_ID].isin(filtered_item_id))]\n",
    "#     df = df.loc[(df[ITEM_ID].isin(filtered_item_id))]\n",
    "    print(\"Number of User: {}\".format(df[USER_ID].nunique()))\n",
    "    print(\"Number of Item: {}\".format(df[ITEM_ID].nunique()))\n",
    "\n",
    "    return df"
   ]
  },
  {
   "cell_type": "markdown",
   "metadata": {},
   "source": [
    "# Filter the dataset by popularity then by number of users and items"
   ]
  },
  {
   "cell_type": "code",
   "execution_count": 117,
   "metadata": {
    "scrolled": true
   },
   "outputs": [
    {
     "name": "stdout",
     "output_type": "stream",
     "text": [
      "The total number of users is 90758\n",
      "The total number of items is 27896 \n",
      "\n",
      "Filter dataset by popularity. \n",
      "\n",
      "Filter dataset by review count. \n",
      "\n",
      "Number of User: 13912\n",
      "Number of Item: 11915\n"
     ]
    }
   ],
   "source": [
    "filtered_df = filter_dataset(df, threshold=3, popularity=True, filter_by_review_count=True, \n",
    "                             user_review_threshold=5, item_review_threshold=5, \n",
    "                             num_user=15000, num_item=1000, user_ratio=None, item_ratio=None)"
   ]
  },
  {
   "cell_type": "code",
   "execution_count": 118,
   "metadata": {
    "scrolled": true
   },
   "outputs": [
    {
     "data": {
      "text/plain": [
       "(array([147553, 147554, 147555, 147556], dtype=int64),)"
      ]
     },
     "execution_count": 118,
     "metadata": {},
     "output_type": "execute_result"
    }
   ],
   "source": [
    "np.where(filtered_df.business_id == 'l_uAw0K2lkOsyVJATcnwsA')"
   ]
  },
  {
   "cell_type": "markdown",
   "metadata": {},
   "source": [
    "# Analyze filtered dataset"
   ]
  },
  {
   "cell_type": "code",
   "execution_count": 120,
   "metadata": {
    "collapsed": true
   },
   "outputs": [],
   "source": [
    "filtered_df = filtered_df.reset_index(drop = True)"
   ]
  },
  {
   "cell_type": "code",
   "execution_count": 121,
   "metadata": {
    "scrolled": true
   },
   "outputs": [
    {
     "data": {
      "text/html": [
       "<div>\n",
       "<style>\n",
       "    .dataframe thead tr:only-child th {\n",
       "        text-align: right;\n",
       "    }\n",
       "\n",
       "    .dataframe thead th {\n",
       "        text-align: left;\n",
       "    }\n",
       "\n",
       "    .dataframe tbody tr th {\n",
       "        vertical-align: top;\n",
       "    }\n",
       "</style>\n",
       "<table border=\"1\" class=\"dataframe\">\n",
       "  <thead>\n",
       "    <tr style=\"text-align: right;\">\n",
       "      <th></th>\n",
       "      <th>Unnamed: 0</th>\n",
       "      <th>Unnamed: 0.1</th>\n",
       "      <th>business_id</th>\n",
       "      <th>friend_count</th>\n",
       "      <th>ghost</th>\n",
       "      <th>img_dsc</th>\n",
       "      <th>img_url</th>\n",
       "      <th>nr</th>\n",
       "      <th>photo_count</th>\n",
       "      <th>rating</th>\n",
       "      <th>...</th>\n",
       "      <th>review_text</th>\n",
       "      <th>ufc</th>\n",
       "      <th>user_id</th>\n",
       "      <th>user_loc</th>\n",
       "      <th>vote_count</th>\n",
       "      <th>Updated</th>\n",
       "      <th>Year</th>\n",
       "      <th>Month</th>\n",
       "      <th>Day</th>\n",
       "      <th>Binary</th>\n",
       "    </tr>\n",
       "  </thead>\n",
       "  <tbody>\n",
       "    <tr>\n",
       "      <th>0</th>\n",
       "      <td>6</td>\n",
       "      <td>6</td>\n",
       "      <td>Xo1LNzhnwE-ilqsM3ybs9Q</td>\n",
       "      <td>105</td>\n",
       "      <td>False</td>\n",
       "      <td>['Photo of Happy Lemon - Markham, ON, Canada. ...</td>\n",
       "      <td>['https://s3-media4.fl.yelpcdn.com/bphoto/tu7j...</td>\n",
       "      <td>False</td>\n",
       "      <td>325.0</td>\n",
       "      <td>4.0</td>\n",
       "      <td>...</td>\n",
       "      <td>I ordered the lemon mango slush and the lemon ...</td>\n",
       "      <td>[1, 1, 1]</td>\n",
       "      <td>zsJFjhBQEFQ6gJ7BsNM_Ug</td>\n",
       "      <td>Toronto, Canada</td>\n",
       "      <td>1.0</td>\n",
       "      <td>False</td>\n",
       "      <td>2016</td>\n",
       "      <td>23</td>\n",
       "      <td>8</td>\n",
       "      <td>1</td>\n",
       "    </tr>\n",
       "    <tr>\n",
       "      <th>1</th>\n",
       "      <td>8</td>\n",
       "      <td>8</td>\n",
       "      <td>Xo1LNzhnwE-ilqsM3ybs9Q</td>\n",
       "      <td>239</td>\n",
       "      <td>False</td>\n",
       "      <td>['Photo of Happy Lemon - Markham, ON, Canada. ...</td>\n",
       "      <td>['https://s3-media4.fl.yelpcdn.com/bphoto/tS6Y...</td>\n",
       "      <td>False</td>\n",
       "      <td>78.0</td>\n",
       "      <td>5.0</td>\n",
       "      <td>...</td>\n",
       "      <td>{Grapefruit &amp; Yakult Green Tea with Aloe Jelly...</td>\n",
       "      <td>[0, 0, 0]</td>\n",
       "      <td>C91it8b3odRg0503asUaJA</td>\n",
       "      <td>Markham, Canada</td>\n",
       "      <td>0.0</td>\n",
       "      <td>False</td>\n",
       "      <td>2016</td>\n",
       "      <td>6</td>\n",
       "      <td>11</td>\n",
       "      <td>1</td>\n",
       "    </tr>\n",
       "    <tr>\n",
       "      <th>2</th>\n",
       "      <td>9</td>\n",
       "      <td>9</td>\n",
       "      <td>Xo1LNzhnwE-ilqsM3ybs9Q</td>\n",
       "      <td>10</td>\n",
       "      <td>False</td>\n",
       "      <td>['Photo of Happy Lemon - Markham, ON, Canada',...</td>\n",
       "      <td>['https://s3-media3.fl.yelpcdn.com/bphoto/rfB0...</td>\n",
       "      <td>False</td>\n",
       "      <td>504.0</td>\n",
       "      <td>4.0</td>\n",
       "      <td>...</td>\n",
       "      <td>Saw this newly opened bubble tea shop and want...</td>\n",
       "      <td>[0, 0, 0]</td>\n",
       "      <td>dAB-v4B-5_8QgTcoVSnZOw</td>\n",
       "      <td>Vaughan, Canada</td>\n",
       "      <td>0.0</td>\n",
       "      <td>False</td>\n",
       "      <td>2016</td>\n",
       "      <td>25</td>\n",
       "      <td>9</td>\n",
       "      <td>1</td>\n",
       "    </tr>\n",
       "    <tr>\n",
       "      <th>3</th>\n",
       "      <td>10</td>\n",
       "      <td>10</td>\n",
       "      <td>Xo1LNzhnwE-ilqsM3ybs9Q</td>\n",
       "      <td>121</td>\n",
       "      <td>False</td>\n",
       "      <td>[]</td>\n",
       "      <td>[]</td>\n",
       "      <td>False</td>\n",
       "      <td>39.0</td>\n",
       "      <td>5.0</td>\n",
       "      <td>...</td>\n",
       "      <td>Walked by pmall and the poster of the salty ch...</td>\n",
       "      <td>[2, 2, 1]</td>\n",
       "      <td>UxwiJpYSqOZJQzUMF6Xl6A</td>\n",
       "      <td>Toronto, Canada</td>\n",
       "      <td>3.0</td>\n",
       "      <td>False</td>\n",
       "      <td>2016</td>\n",
       "      <td>6</td>\n",
       "      <td>9</td>\n",
       "      <td>1</td>\n",
       "    </tr>\n",
       "    <tr>\n",
       "      <th>4</th>\n",
       "      <td>14</td>\n",
       "      <td>14</td>\n",
       "      <td>Xo1LNzhnwE-ilqsM3ybs9Q</td>\n",
       "      <td>216</td>\n",
       "      <td>False</td>\n",
       "      <td>['Photo of Happy Lemon - Markham, ON, Canada. ...</td>\n",
       "      <td>['https://s3-media4.fl.yelpcdn.com/bphoto/T5NT...</td>\n",
       "      <td>False</td>\n",
       "      <td>10.0</td>\n",
       "      <td>4.0</td>\n",
       "      <td>...</td>\n",
       "      <td>Nice place. They have this salted cheese green...</td>\n",
       "      <td>[1, 1, 1]</td>\n",
       "      <td>OXuToHJF6vYo3dxS7VYfWA</td>\n",
       "      <td>Toronto, Canada</td>\n",
       "      <td>1.0</td>\n",
       "      <td>False</td>\n",
       "      <td>2016</td>\n",
       "      <td>21</td>\n",
       "      <td>9</td>\n",
       "      <td>1</td>\n",
       "    </tr>\n",
       "  </tbody>\n",
       "</table>\n",
       "<p>5 rows × 24 columns</p>\n",
       "</div>"
      ],
      "text/plain": [
       "   Unnamed: 0  Unnamed: 0.1             business_id  friend_count  ghost  \\\n",
       "0           6             6  Xo1LNzhnwE-ilqsM3ybs9Q           105  False   \n",
       "1           8             8  Xo1LNzhnwE-ilqsM3ybs9Q           239  False   \n",
       "2           9             9  Xo1LNzhnwE-ilqsM3ybs9Q            10  False   \n",
       "3          10            10  Xo1LNzhnwE-ilqsM3ybs9Q           121  False   \n",
       "4          14            14  Xo1LNzhnwE-ilqsM3ybs9Q           216  False   \n",
       "\n",
       "                                             img_dsc  \\\n",
       "0  ['Photo of Happy Lemon - Markham, ON, Canada. ...   \n",
       "1  ['Photo of Happy Lemon - Markham, ON, Canada. ...   \n",
       "2  ['Photo of Happy Lemon - Markham, ON, Canada',...   \n",
       "3                                                 []   \n",
       "4  ['Photo of Happy Lemon - Markham, ON, Canada. ...   \n",
       "\n",
       "                                             img_url     nr  photo_count  \\\n",
       "0  ['https://s3-media4.fl.yelpcdn.com/bphoto/tu7j...  False        325.0   \n",
       "1  ['https://s3-media4.fl.yelpcdn.com/bphoto/tS6Y...  False         78.0   \n",
       "2  ['https://s3-media3.fl.yelpcdn.com/bphoto/rfB0...  False        504.0   \n",
       "3                                                 []  False         39.0   \n",
       "4  ['https://s3-media4.fl.yelpcdn.com/bphoto/T5NT...  False         10.0   \n",
       "\n",
       "   rating   ...                                          review_text  \\\n",
       "0     4.0   ...    I ordered the lemon mango slush and the lemon ...   \n",
       "1     5.0   ...    {Grapefruit & Yakult Green Tea with Aloe Jelly...   \n",
       "2     4.0   ...    Saw this newly opened bubble tea shop and want...   \n",
       "3     5.0   ...    Walked by pmall and the poster of the salty ch...   \n",
       "4     4.0   ...    Nice place. They have this salted cheese green...   \n",
       "\n",
       "         ufc                 user_id         user_loc vote_count Updated  \\\n",
       "0  [1, 1, 1]  zsJFjhBQEFQ6gJ7BsNM_Ug  Toronto, Canada        1.0   False   \n",
       "1  [0, 0, 0]  C91it8b3odRg0503asUaJA  Markham, Canada        0.0   False   \n",
       "2  [0, 0, 0]  dAB-v4B-5_8QgTcoVSnZOw  Vaughan, Canada        0.0   False   \n",
       "3  [2, 2, 1]  UxwiJpYSqOZJQzUMF6Xl6A  Toronto, Canada        3.0   False   \n",
       "4  [1, 1, 1]  OXuToHJF6vYo3dxS7VYfWA  Toronto, Canada        1.0   False   \n",
       "\n",
       "   Year Month  Day  Binary  \n",
       "0  2016    23    8       1  \n",
       "1  2016     6   11       1  \n",
       "2  2016    25    9       1  \n",
       "3  2016     6    9       1  \n",
       "4  2016    21    9       1  \n",
       "\n",
       "[5 rows x 24 columns]"
      ]
     },
     "execution_count": 121,
     "metadata": {},
     "output_type": "execute_result"
    }
   ],
   "source": [
    "filtered_df.head()"
   ]
  },
  {
   "cell_type": "code",
   "execution_count": 122,
   "metadata": {
    "collapsed": true
   },
   "outputs": [],
   "source": [
    "values = filtered_df[USER_ID].value_counts().keys().tolist()\n",
    "counts = filtered_df[USER_ID].value_counts().tolist()\n",
    "user_df = pd.DataFrame.from_dict({USER_ID: values, \"count\": counts})\n",
    "\n",
    "values = filtered_df[ITEM_ID].value_counts().keys().tolist()\n",
    "counts = filtered_df[ITEM_ID].value_counts().tolist()\n",
    "item_df = pd.DataFrame.from_dict({ITEM_ID: values, \"count\": counts})"
   ]
  },
  {
   "cell_type": "code",
   "execution_count": 123,
   "metadata": {},
   "outputs": [
    {
     "data": {
      "text/html": [
       "<div>\n",
       "<style>\n",
       "    .dataframe thead tr:only-child th {\n",
       "        text-align: right;\n",
       "    }\n",
       "\n",
       "    .dataframe thead th {\n",
       "        text-align: left;\n",
       "    }\n",
       "\n",
       "    .dataframe tbody tr th {\n",
       "        vertical-align: top;\n",
       "    }\n",
       "</style>\n",
       "<table border=\"1\" class=\"dataframe\">\n",
       "  <thead>\n",
       "    <tr style=\"text-align: right;\">\n",
       "      <th></th>\n",
       "      <th>business_id</th>\n",
       "      <th>count</th>\n",
       "    </tr>\n",
       "  </thead>\n",
       "  <tbody>\n",
       "    <tr>\n",
       "      <th>11910</th>\n",
       "      <td>FACbuKfug1Ipy4R2lAHZfw</td>\n",
       "      <td>1</td>\n",
       "    </tr>\n",
       "    <tr>\n",
       "      <th>11911</th>\n",
       "      <td>M22Dy0HX9ZTpBAjTaPgAQQ</td>\n",
       "      <td>1</td>\n",
       "    </tr>\n",
       "    <tr>\n",
       "      <th>11912</th>\n",
       "      <td>KHn7gcZrihI-7gHYgOxEQg</td>\n",
       "      <td>1</td>\n",
       "    </tr>\n",
       "    <tr>\n",
       "      <th>11913</th>\n",
       "      <td>5qC1hMEnYok0BIzV9EqdVA</td>\n",
       "      <td>1</td>\n",
       "    </tr>\n",
       "    <tr>\n",
       "      <th>11914</th>\n",
       "      <td>01g3uA1reCJUt5HzXeJlsg</td>\n",
       "      <td>1</td>\n",
       "    </tr>\n",
       "  </tbody>\n",
       "</table>\n",
       "</div>"
      ],
      "text/plain": [
       "                  business_id  count\n",
       "11910  FACbuKfug1Ipy4R2lAHZfw      1\n",
       "11911  M22Dy0HX9ZTpBAjTaPgAQQ      1\n",
       "11912  KHn7gcZrihI-7gHYgOxEQg      1\n",
       "11913  5qC1hMEnYok0BIzV9EqdVA      1\n",
       "11914  01g3uA1reCJUt5HzXeJlsg      1"
      ]
     },
     "execution_count": 123,
     "metadata": {},
     "output_type": "execute_result"
    }
   ],
   "source": [
    "item_df.tail()"
   ]
  },
  {
   "cell_type": "code",
   "execution_count": 124,
   "metadata": {},
   "outputs": [
    {
     "data": {
      "text/plain": [
       "17.11900965169954"
      ]
     },
     "execution_count": 124,
     "metadata": {},
     "output_type": "execute_result"
    }
   ],
   "source": [
    "item_df[\"count\"].mean()"
   ]
  },
  {
   "cell_type": "code",
   "execution_count": 125,
   "metadata": {
    "scrolled": true
   },
   "outputs": [
    {
     "data": {
      "text/html": [
       "<div>\n",
       "<style>\n",
       "    .dataframe thead tr:only-child th {\n",
       "        text-align: right;\n",
       "    }\n",
       "\n",
       "    .dataframe thead th {\n",
       "        text-align: left;\n",
       "    }\n",
       "\n",
       "    .dataframe tbody tr th {\n",
       "        vertical-align: top;\n",
       "    }\n",
       "</style>\n",
       "<table border=\"1\" class=\"dataframe\">\n",
       "  <thead>\n",
       "    <tr style=\"text-align: right;\">\n",
       "      <th></th>\n",
       "      <th>count</th>\n",
       "      <th>user_id</th>\n",
       "    </tr>\n",
       "  </thead>\n",
       "  <tbody>\n",
       "    <tr>\n",
       "      <th>0</th>\n",
       "      <td>714</td>\n",
       "      <td>CxDOIDnH8gp9KXzpBHJYXw</td>\n",
       "    </tr>\n",
       "    <tr>\n",
       "      <th>1</th>\n",
       "      <td>485</td>\n",
       "      <td>Q9mA60HnY87C1TW5kjAZ6Q</td>\n",
       "    </tr>\n",
       "    <tr>\n",
       "      <th>2</th>\n",
       "      <td>346</td>\n",
       "      <td>WeVkkF5L39888IPPlRhNpg</td>\n",
       "    </tr>\n",
       "    <tr>\n",
       "      <th>3</th>\n",
       "      <td>315</td>\n",
       "      <td>ic-tyi1jElL_umxZVh8KNA</td>\n",
       "    </tr>\n",
       "    <tr>\n",
       "      <th>4</th>\n",
       "      <td>310</td>\n",
       "      <td>FREeRQtjdJU83AFtdETBBw</td>\n",
       "    </tr>\n",
       "    <tr>\n",
       "      <th>5</th>\n",
       "      <td>283</td>\n",
       "      <td>JrXC_MDp38BWwLn2SFdNsA</td>\n",
       "    </tr>\n",
       "    <tr>\n",
       "      <th>6</th>\n",
       "      <td>265</td>\n",
       "      <td>0BBUmH7Krcax1RZgbH4fSA</td>\n",
       "    </tr>\n",
       "    <tr>\n",
       "      <th>7</th>\n",
       "      <td>254</td>\n",
       "      <td>JLv2Dmfj73-I0d9N41tz1A</td>\n",
       "    </tr>\n",
       "    <tr>\n",
       "      <th>8</th>\n",
       "      <td>252</td>\n",
       "      <td>j6wLUT0ZXi-x0otelYIFpA</td>\n",
       "    </tr>\n",
       "    <tr>\n",
       "      <th>9</th>\n",
       "      <td>243</td>\n",
       "      <td>Nq6e5N8bjgD9B46O4va_zA</td>\n",
       "    </tr>\n",
       "    <tr>\n",
       "      <th>10</th>\n",
       "      <td>239</td>\n",
       "      <td>Kj9cFO70zZOQorN0mgeLWA</td>\n",
       "    </tr>\n",
       "    <tr>\n",
       "      <th>11</th>\n",
       "      <td>234</td>\n",
       "      <td>V4TPbscN8JsFbEFiwOVBKw</td>\n",
       "    </tr>\n",
       "    <tr>\n",
       "      <th>12</th>\n",
       "      <td>229</td>\n",
       "      <td>J3ucveGKKJDvtuCNnb_x0g</td>\n",
       "    </tr>\n",
       "    <tr>\n",
       "      <th>13</th>\n",
       "      <td>229</td>\n",
       "      <td>yT_QCcnq-QGipWWuzIpvtw</td>\n",
       "    </tr>\n",
       "    <tr>\n",
       "      <th>14</th>\n",
       "      <td>228</td>\n",
       "      <td>aX6_Pf3njB-H3FrqgnNJ2g</td>\n",
       "    </tr>\n",
       "    <tr>\n",
       "      <th>15</th>\n",
       "      <td>220</td>\n",
       "      <td>2e5V6M4GNufEnbGJpVdCjw</td>\n",
       "    </tr>\n",
       "    <tr>\n",
       "      <th>16</th>\n",
       "      <td>212</td>\n",
       "      <td>JnPIjvC0cmooNDfsa9BmXg</td>\n",
       "    </tr>\n",
       "    <tr>\n",
       "      <th>17</th>\n",
       "      <td>206</td>\n",
       "      <td>tWBLn4k1M7PLBtAtwAg73g</td>\n",
       "    </tr>\n",
       "    <tr>\n",
       "      <th>18</th>\n",
       "      <td>205</td>\n",
       "      <td>8D8mjeNaJ3DGhl0WX8copA</td>\n",
       "    </tr>\n",
       "    <tr>\n",
       "      <th>19</th>\n",
       "      <td>197</td>\n",
       "      <td>alUuOskFSl1bODjnce2PpQ</td>\n",
       "    </tr>\n",
       "    <tr>\n",
       "      <th>20</th>\n",
       "      <td>193</td>\n",
       "      <td>U5YQX_vMl_xQy8EQDqlNQQ</td>\n",
       "    </tr>\n",
       "    <tr>\n",
       "      <th>21</th>\n",
       "      <td>189</td>\n",
       "      <td>YBT3EKUNN4IP8m4x7sGu1g</td>\n",
       "    </tr>\n",
       "    <tr>\n",
       "      <th>22</th>\n",
       "      <td>188</td>\n",
       "      <td>PGeiszoVusiv0wTHVdWklA</td>\n",
       "    </tr>\n",
       "    <tr>\n",
       "      <th>23</th>\n",
       "      <td>186</td>\n",
       "      <td>TbhyP24zYZqZ2VJZgu1wrg</td>\n",
       "    </tr>\n",
       "    <tr>\n",
       "      <th>24</th>\n",
       "      <td>186</td>\n",
       "      <td>O3q-nwYZykMmacxjru01Zg</td>\n",
       "    </tr>\n",
       "    <tr>\n",
       "      <th>25</th>\n",
       "      <td>185</td>\n",
       "      <td>KBh4r16e9Grc1HI9pG4wTg</td>\n",
       "    </tr>\n",
       "    <tr>\n",
       "      <th>26</th>\n",
       "      <td>184</td>\n",
       "      <td>gwIqbXEXijQNgdESVc07hg</td>\n",
       "    </tr>\n",
       "    <tr>\n",
       "      <th>27</th>\n",
       "      <td>182</td>\n",
       "      <td>orh0HRUNCWuQMt9Iia_osg</td>\n",
       "    </tr>\n",
       "    <tr>\n",
       "      <th>28</th>\n",
       "      <td>180</td>\n",
       "      <td>iRQ_YKpCBdaCwvc2X8_3NQ</td>\n",
       "    </tr>\n",
       "    <tr>\n",
       "      <th>29</th>\n",
       "      <td>180</td>\n",
       "      <td>fkMiipV4j_DG5nSoBnZvbg</td>\n",
       "    </tr>\n",
       "    <tr>\n",
       "      <th>...</th>\n",
       "      <td>...</td>\n",
       "      <td>...</td>\n",
       "    </tr>\n",
       "    <tr>\n",
       "      <th>2443</th>\n",
       "      <td>20</td>\n",
       "      <td>m26NjyWi-B8S4VWX8gklZw</td>\n",
       "    </tr>\n",
       "    <tr>\n",
       "      <th>2444</th>\n",
       "      <td>20</td>\n",
       "      <td>YXEWMkmzXQNNg7J4yHZgAg</td>\n",
       "    </tr>\n",
       "    <tr>\n",
       "      <th>2445</th>\n",
       "      <td>20</td>\n",
       "      <td>E7Zdnb-4v1RTiLysJqWxDQ</td>\n",
       "    </tr>\n",
       "    <tr>\n",
       "      <th>2446</th>\n",
       "      <td>20</td>\n",
       "      <td>8wN7076HIRe2Za6RHC7LDQ</td>\n",
       "    </tr>\n",
       "    <tr>\n",
       "      <th>2447</th>\n",
       "      <td>20</td>\n",
       "      <td>lDsGqIYET6eyyP0SfPBxyw</td>\n",
       "    </tr>\n",
       "    <tr>\n",
       "      <th>2448</th>\n",
       "      <td>20</td>\n",
       "      <td>T28Y7AsnZftJptuiIQ_x6Q</td>\n",
       "    </tr>\n",
       "    <tr>\n",
       "      <th>2449</th>\n",
       "      <td>20</td>\n",
       "      <td>NkEnpS0iLKtSACV2NSf4Jg</td>\n",
       "    </tr>\n",
       "    <tr>\n",
       "      <th>2450</th>\n",
       "      <td>20</td>\n",
       "      <td>puhvSlWJgh-Tf9n_UCe5vA</td>\n",
       "    </tr>\n",
       "    <tr>\n",
       "      <th>2451</th>\n",
       "      <td>20</td>\n",
       "      <td>DRiVertDBMvZr48NxrodZA</td>\n",
       "    </tr>\n",
       "    <tr>\n",
       "      <th>2452</th>\n",
       "      <td>20</td>\n",
       "      <td>3gchbSC2jdx1nwX_CnYzEQ</td>\n",
       "    </tr>\n",
       "    <tr>\n",
       "      <th>2453</th>\n",
       "      <td>20</td>\n",
       "      <td>-2n9u5-z_uKuZZN6wnh5Ow</td>\n",
       "    </tr>\n",
       "    <tr>\n",
       "      <th>2454</th>\n",
       "      <td>20</td>\n",
       "      <td>8HLcBhTyEDLDOeu45JSAfQ</td>\n",
       "    </tr>\n",
       "    <tr>\n",
       "      <th>2455</th>\n",
       "      <td>20</td>\n",
       "      <td>_f5fHijZb6xocu_jNeZvPA</td>\n",
       "    </tr>\n",
       "    <tr>\n",
       "      <th>2456</th>\n",
       "      <td>20</td>\n",
       "      <td>WWS41PHgFQNOzb3W91zmzA</td>\n",
       "    </tr>\n",
       "    <tr>\n",
       "      <th>2457</th>\n",
       "      <td>20</td>\n",
       "      <td>ocDrELJ01D0oifYLraW71w</td>\n",
       "    </tr>\n",
       "    <tr>\n",
       "      <th>2458</th>\n",
       "      <td>20</td>\n",
       "      <td>2Z0Ey157Bkny4qk5qdLyHQ</td>\n",
       "    </tr>\n",
       "    <tr>\n",
       "      <th>2459</th>\n",
       "      <td>20</td>\n",
       "      <td>c7TTh6A7ELnkNThQ5fmWMQ</td>\n",
       "    </tr>\n",
       "    <tr>\n",
       "      <th>2460</th>\n",
       "      <td>20</td>\n",
       "      <td>7cyV7IjtS6eAgGx_qji4Rw</td>\n",
       "    </tr>\n",
       "    <tr>\n",
       "      <th>2461</th>\n",
       "      <td>20</td>\n",
       "      <td>4T-dt5G8Uo-6nIB7BYu0LA</td>\n",
       "    </tr>\n",
       "    <tr>\n",
       "      <th>2462</th>\n",
       "      <td>20</td>\n",
       "      <td>6Bai1MguJ1jVOY1wZliCUw</td>\n",
       "    </tr>\n",
       "    <tr>\n",
       "      <th>2463</th>\n",
       "      <td>20</td>\n",
       "      <td>_muhtS8ZFnV61s7Q4JXDwQ</td>\n",
       "    </tr>\n",
       "    <tr>\n",
       "      <th>2464</th>\n",
       "      <td>20</td>\n",
       "      <td>zRkHxYXJf7JqIDtdA05bmw</td>\n",
       "    </tr>\n",
       "    <tr>\n",
       "      <th>2465</th>\n",
       "      <td>20</td>\n",
       "      <td>b2dIca6Zyi9zkf9yX_cFkQ</td>\n",
       "    </tr>\n",
       "    <tr>\n",
       "      <th>2466</th>\n",
       "      <td>20</td>\n",
       "      <td>9M9pCbQFCzFXltkEdGgqxw</td>\n",
       "    </tr>\n",
       "    <tr>\n",
       "      <th>2467</th>\n",
       "      <td>20</td>\n",
       "      <td>rcUun0KBLWNWz05Q1StMAQ</td>\n",
       "    </tr>\n",
       "    <tr>\n",
       "      <th>2468</th>\n",
       "      <td>20</td>\n",
       "      <td>OYuumyluZWajjVGaTeLsSA</td>\n",
       "    </tr>\n",
       "    <tr>\n",
       "      <th>2469</th>\n",
       "      <td>20</td>\n",
       "      <td>BN5GEmbeZ92fOTiHXGG_dw</td>\n",
       "    </tr>\n",
       "    <tr>\n",
       "      <th>2470</th>\n",
       "      <td>20</td>\n",
       "      <td>J_tWHP2vBryzTkRQcgEQOw</td>\n",
       "    </tr>\n",
       "    <tr>\n",
       "      <th>2471</th>\n",
       "      <td>20</td>\n",
       "      <td>jqYVWP8RtK5PsmklnTlWTQ</td>\n",
       "    </tr>\n",
       "    <tr>\n",
       "      <th>2472</th>\n",
       "      <td>20</td>\n",
       "      <td>WgaycWkFXshvGtct42d_-w</td>\n",
       "    </tr>\n",
       "  </tbody>\n",
       "</table>\n",
       "<p>2473 rows × 2 columns</p>\n",
       "</div>"
      ],
      "text/plain": [
       "      count                 user_id\n",
       "0       714  CxDOIDnH8gp9KXzpBHJYXw\n",
       "1       485  Q9mA60HnY87C1TW5kjAZ6Q\n",
       "2       346  WeVkkF5L39888IPPlRhNpg\n",
       "3       315  ic-tyi1jElL_umxZVh8KNA\n",
       "4       310  FREeRQtjdJU83AFtdETBBw\n",
       "5       283  JrXC_MDp38BWwLn2SFdNsA\n",
       "6       265  0BBUmH7Krcax1RZgbH4fSA\n",
       "7       254  JLv2Dmfj73-I0d9N41tz1A\n",
       "8       252  j6wLUT0ZXi-x0otelYIFpA\n",
       "9       243  Nq6e5N8bjgD9B46O4va_zA\n",
       "10      239  Kj9cFO70zZOQorN0mgeLWA\n",
       "11      234  V4TPbscN8JsFbEFiwOVBKw\n",
       "12      229  J3ucveGKKJDvtuCNnb_x0g\n",
       "13      229  yT_QCcnq-QGipWWuzIpvtw\n",
       "14      228  aX6_Pf3njB-H3FrqgnNJ2g\n",
       "15      220  2e5V6M4GNufEnbGJpVdCjw\n",
       "16      212  JnPIjvC0cmooNDfsa9BmXg\n",
       "17      206  tWBLn4k1M7PLBtAtwAg73g\n",
       "18      205  8D8mjeNaJ3DGhl0WX8copA\n",
       "19      197  alUuOskFSl1bODjnce2PpQ\n",
       "20      193  U5YQX_vMl_xQy8EQDqlNQQ\n",
       "21      189  YBT3EKUNN4IP8m4x7sGu1g\n",
       "22      188  PGeiszoVusiv0wTHVdWklA\n",
       "23      186  TbhyP24zYZqZ2VJZgu1wrg\n",
       "24      186  O3q-nwYZykMmacxjru01Zg\n",
       "25      185  KBh4r16e9Grc1HI9pG4wTg\n",
       "26      184  gwIqbXEXijQNgdESVc07hg\n",
       "27      182  orh0HRUNCWuQMt9Iia_osg\n",
       "28      180  iRQ_YKpCBdaCwvc2X8_3NQ\n",
       "29      180  fkMiipV4j_DG5nSoBnZvbg\n",
       "...     ...                     ...\n",
       "2443     20  m26NjyWi-B8S4VWX8gklZw\n",
       "2444     20  YXEWMkmzXQNNg7J4yHZgAg\n",
       "2445     20  E7Zdnb-4v1RTiLysJqWxDQ\n",
       "2446     20  8wN7076HIRe2Za6RHC7LDQ\n",
       "2447     20  lDsGqIYET6eyyP0SfPBxyw\n",
       "2448     20  T28Y7AsnZftJptuiIQ_x6Q\n",
       "2449     20  NkEnpS0iLKtSACV2NSf4Jg\n",
       "2450     20  puhvSlWJgh-Tf9n_UCe5vA\n",
       "2451     20  DRiVertDBMvZr48NxrodZA\n",
       "2452     20  3gchbSC2jdx1nwX_CnYzEQ\n",
       "2453     20  -2n9u5-z_uKuZZN6wnh5Ow\n",
       "2454     20  8HLcBhTyEDLDOeu45JSAfQ\n",
       "2455     20  _f5fHijZb6xocu_jNeZvPA\n",
       "2456     20  WWS41PHgFQNOzb3W91zmzA\n",
       "2457     20  ocDrELJ01D0oifYLraW71w\n",
       "2458     20  2Z0Ey157Bkny4qk5qdLyHQ\n",
       "2459     20  c7TTh6A7ELnkNThQ5fmWMQ\n",
       "2460     20  7cyV7IjtS6eAgGx_qji4Rw\n",
       "2461     20  4T-dt5G8Uo-6nIB7BYu0LA\n",
       "2462     20  6Bai1MguJ1jVOY1wZliCUw\n",
       "2463     20  _muhtS8ZFnV61s7Q4JXDwQ\n",
       "2464     20  zRkHxYXJf7JqIDtdA05bmw\n",
       "2465     20  b2dIca6Zyi9zkf9yX_cFkQ\n",
       "2466     20  9M9pCbQFCzFXltkEdGgqxw\n",
       "2467     20  rcUun0KBLWNWz05Q1StMAQ\n",
       "2468     20  OYuumyluZWajjVGaTeLsSA\n",
       "2469     20  BN5GEmbeZ92fOTiHXGG_dw\n",
       "2470     20  J_tWHP2vBryzTkRQcgEQOw\n",
       "2471     20  jqYVWP8RtK5PsmklnTlWTQ\n",
       "2472     20  WgaycWkFXshvGtct42d_-w\n",
       "\n",
       "[2473 rows x 2 columns]"
      ]
     },
     "execution_count": 125,
     "metadata": {},
     "output_type": "execute_result"
    }
   ],
   "source": [
    "user_df[user_df[\"count\"] >= 20]"
   ]
  },
  {
   "cell_type": "code",
   "execution_count": 126,
   "metadata": {
    "collapsed": true
   },
   "outputs": [],
   "source": [
    "users = user_df[user_df[\"count\"] >= 20][USER_ID].values"
   ]
  },
  {
   "cell_type": "code",
   "execution_count": 127,
   "metadata": {
    "collapsed": true
   },
   "outputs": [],
   "source": [
    "pos_df = filtered_df.loc[filtered_df[USER_ID].isin(users)].reset_index(drop=True)\n",
    "# pos_df\n",
    "\n",
    "# Export the filtered dataset\n",
    "\n",
    "# pos_df.to_csv(DATA_PATH+DATA_NAME+\".csv\", header=False)"
   ]
  },
  {
   "cell_type": "code",
   "execution_count": 128,
   "metadata": {
    "collapsed": true
   },
   "outputs": [],
   "source": [
    "items = pos_df[ITEM_ID].values"
   ]
  },
  {
   "cell_type": "markdown",
   "metadata": {},
   "source": [
    "# Get the Final DF with reviews"
   ]
  },
  {
   "cell_type": "code",
   "execution_count": 129,
   "metadata": {
    "collapsed": true
   },
   "outputs": [],
   "source": [
    "cur_df = df.loc[(df[USER_ID].isin(users)) & (df[ITEM_ID].isin(items))].reset_index(drop=True)\n",
    "# cur_df"
   ]
  },
  {
   "cell_type": "code",
   "execution_count": 130,
   "metadata": {},
   "outputs": [
    {
     "data": {
      "text/plain": [
       "2473"
      ]
     },
     "execution_count": 130,
     "metadata": {},
     "output_type": "execute_result"
    }
   ],
   "source": [
    "cur_df[USER_ID].nunique()"
   ]
  },
  {
   "cell_type": "code",
   "execution_count": 131,
   "metadata": {},
   "outputs": [
    {
     "data": {
      "text/plain": [
       "10282"
      ]
     },
     "execution_count": 131,
     "metadata": {},
     "output_type": "execute_result"
    }
   ],
   "source": [
    "cur_df[ITEM_ID].nunique()"
   ]
  },
  {
   "cell_type": "markdown",
   "metadata": {},
   "source": [
    "# Split dataset "
   ]
  },
  {
   "cell_type": "code",
   "execution_count": 214,
   "metadata": {
    "collapsed": true
   },
   "outputs": [],
   "source": [
    "# No split is done for now"
   ]
  },
  {
   "cell_type": "markdown",
   "metadata": {},
   "source": [
    "# Pre-process Reviews"
   ]
  },
  {
   "cell_type": "code",
   "execution_count": 133,
   "metadata": {
    "collapsed": true,
    "scrolled": true
   },
   "outputs": [],
   "source": [
    "def preprocess(text):\n",
    "#     text = text.replace('.',' ').replace('/',' ').replace('quot;', ' ').replace('amp;', '').replace('-', ' ')\n",
    "    \n",
    "    text = text.replace('.',' ').replace('/t',' ').replace('\\t',' ').replace('/',' ').replace('-',' ')\n",
    "    \n",
    "    # Tokenize\n",
    "    text = nltk.word_tokenize(text)\n",
    "    \n",
    "    # Lowercase\n",
    "    text = [w.lower() for w in text]\n",
    "\n",
    "    # Remove Punctuation\n",
    "    table = str.maketrans('', '', string.punctuation)\n",
    "    text = [w.translate(table) for w in text]\n",
    "\n",
    "    # Remove tokens that are not alphabetic\n",
    "    text = [w for w in text if w.isalpha()]\n",
    "\n",
    "    # Remove Stopwords\n",
    "    # Get english stopwords\n",
    "    en_stopwords = set(stopwords.words('english'))\n",
    "    en_stopwords.remove('off')\n",
    "    text = [w for w in text if w not in en_stopwords]\n",
    "    \n",
    "    # Lemmatizing\n",
    "    lemmatizer = WordNetLemmatizer()\n",
    "    text = [lemmatizer.lemmatize(w) for w in text]\n",
    "\n",
    "    text = \" \" + \" \".join(str(x) for x in text) + \" \"\n",
    "\n",
    "    text = text.replace('whitish', 'white')\n",
    "    text = text.replace('bisquity', ' biscuit ')\n",
    "    text = text.replace('carmel', ' caramel ')\n",
    "    text = text.replace('flower', ' floral ')\n",
    "    text = text.replace('piny', ' pine ')\n",
    "    text = text.replace('off white', 'offwhite')\n",
    "    text = text.replace('goden', 'gold')\n",
    "    text = text.replace('yello', 'yellow')\n",
    "    text = text.replace('reddish', ' red ') \n",
    "    \n",
    "\n",
    "    # Reset to token\n",
    "    text = nltk.word_tokenize(text)\n",
    "    table = str.maketrans('', '', string.punctuation)\n",
    "    text = [w.translate(table) for w in text]\n",
    "    text = [w for w in text if w.isalpha()]\n",
    "#     en_stopwords = set(stopwords.words('english'))\n",
    "    text = [w for w in text if w not in en_stopwords]\n",
    "    lemmatizer = WordNetLemmatizer()\n",
    "    text = [lemmatizer.lemmatize(w) for w in text]\n",
    "    \n",
    "    return text\n",
    "    \n",
    "cur_df[\"review\"] = cur_df[REVIEW_TEXT].apply(preprocess)\n",
    "cur_df[\"conca_review\"] = cur_df[\"review\"].apply(lambda x: \" \" + \" \".join(str(x) for x in x) + \" \")"
   ]
  },
  {
   "cell_type": "markdown",
   "metadata": {
    "collapsed": true
   },
   "source": [
    "cur_df.to_pickle('../../data/yelp/cur_df.pkl')"
   ]
  },
  {
   "cell_type": "markdown",
   "metadata": {},
   "source": [
    "# Index words since no further changes will be made on the words"
   ]
  },
  {
   "cell_type": "code",
   "execution_count": 134,
   "metadata": {
    "collapsed": true
   },
   "outputs": [],
   "source": [
    "tokenizer = Tokenizer()\n",
    "token_list = cur_df[\"review\"].tolist()\n",
    "tokenizer.fit_on_texts(token_list)"
   ]
  },
  {
   "cell_type": "code",
   "execution_count": 135,
   "metadata": {
    "collapsed": true
   },
   "outputs": [],
   "source": [
    "df_word_index = pd.DataFrame(list(tokenizer.word_index.items()), columns=['word','index'])"
   ]
  },
  {
   "cell_type": "code",
   "execution_count": null,
   "metadata": {
    "collapsed": true
   },
   "outputs": [],
   "source": [
    "df_word_index"
   ]
  },
  {
   "cell_type": "code",
   "execution_count": null,
   "metadata": {
    "collapsed": true
   },
   "outputs": [],
   "source": [
    "df_word_index"
   ]
  },
  {
   "cell_type": "code",
   "execution_count": 136,
   "metadata": {
    "collapsed": true
   },
   "outputs": [],
   "source": [
    "token_flatten_list = [item for sublist in token_list for item in sublist]"
   ]
  },
  {
   "cell_type": "code",
   "execution_count": 137,
   "metadata": {},
   "outputs": [
    {
     "data": {
      "text/plain": [
       "13248601"
      ]
     },
     "execution_count": 137,
     "metadata": {},
     "output_type": "execute_result"
    }
   ],
   "source": [
    "total_token = len(token_flatten_list)\n",
    "total_token"
   ]
  },
  {
   "cell_type": "code",
   "execution_count": 138,
   "metadata": {
    "collapsed": true
   },
   "outputs": [],
   "source": [
    "from nltk.probability import FreqDist\n",
    "\n",
    "fdist1 = FreqDist(token_flatten_list)"
   ]
  },
  {
   "cell_type": "code",
   "execution_count": null,
   "metadata": {
    "collapsed": true
   },
   "outputs": [],
   "source": [
    "# fdist1.most_common(250)"
   ]
  },
  {
   "cell_type": "code",
   "execution_count": 139,
   "metadata": {},
   "outputs": [
    {
     "data": {
      "text/plain": [
       "[('nt', 173709),\n",
       " ('place', 139275),\n",
       " ('good', 129845),\n",
       " ('food', 120863),\n",
       " ('like', 97885),\n",
       " ('one', 87408),\n",
       " ('time', 86121),\n",
       " ('really', 77363),\n",
       " ('get', 76907),\n",
       " ('would', 76558),\n",
       " ('great', 73217),\n",
       " ('also', 68551),\n",
       " ('service', 68340),\n",
       " ('go', 58284),\n",
       " ('back', 56937),\n",
       " ('restaurant', 56285),\n",
       " ('come', 54176),\n",
       " ('chicken', 52148),\n",
       " ('came', 49140),\n",
       " ('ordered', 47387),\n",
       " ('dish', 47130),\n",
       " ('well', 46924),\n",
       " ('nice', 46118),\n",
       " ('got', 45811),\n",
       " ('try', 44341),\n",
       " ('order', 43970),\n",
       " ('menu', 41857),\n",
       " ('pretty', 41615),\n",
       " ('definitely', 41254),\n",
       " ('price', 40364),\n",
       " ('table', 40104),\n",
       " ('bit', 39342),\n",
       " ('much', 37906),\n",
       " ('u', 37610),\n",
       " ('even', 37242),\n",
       " ('sauce', 36946),\n",
       " ('little', 36558),\n",
       " ('friend', 36336),\n",
       " ('make', 36063),\n",
       " ('lot', 35676),\n",
       " ('delicious', 35008),\n",
       " ('people', 33972),\n",
       " ('drink', 33730),\n",
       " ('love', 33309),\n",
       " ('could', 33300),\n",
       " ('taste', 31787),\n",
       " ('thing', 31649),\n",
       " ('small', 31310),\n",
       " ('first', 31244),\n",
       " ('always', 30853),\n",
       " ('best', 30734),\n",
       " ('rice', 30341),\n",
       " ('quite', 30321),\n",
       " ('flavour', 29644),\n",
       " ('made', 28970),\n",
       " ('think', 28959),\n",
       " ('better', 28590),\n",
       " ('fresh', 28317),\n",
       " ('side', 28308),\n",
       " ('friendly', 27689),\n",
       " ('take', 27178),\n",
       " ('still', 26952),\n",
       " ('around', 26887),\n",
       " ('day', 26882),\n",
       " ('location', 26810),\n",
       " ('meat', 26671),\n",
       " ('soup', 26590),\n",
       " ('though', 26558),\n",
       " ('staff', 26433),\n",
       " ('tea', 26182),\n",
       " ('noodle', 26174),\n",
       " ('two', 25736),\n",
       " ('area', 25608),\n",
       " ('experience', 25407),\n",
       " ('meal', 25388),\n",
       " ('fried', 24766),\n",
       " ('want', 24445),\n",
       " ('sweet', 24285),\n",
       " ('way', 24280),\n",
       " ('know', 24192),\n",
       " ('lunch', 24065),\n",
       " ('beef', 24017),\n",
       " ('say', 23945),\n",
       " ('portion', 23785),\n",
       " ('wait', 23769),\n",
       " ('went', 23699),\n",
       " ('night', 23530),\n",
       " ('hot', 23451),\n",
       " ('pork', 23189),\n",
       " ('salad', 23013),\n",
       " ('right', 22973),\n",
       " ('off', 22197),\n",
       " ('sure', 22105),\n",
       " ('cream', 21831),\n",
       " ('overall', 21786),\n",
       " ('cheese', 21765),\n",
       " ('many', 21745),\n",
       " ('amazing', 21546),\n",
       " ('since', 21448),\n",
       " ('find', 21411),\n",
       " ('everything', 21401),\n",
       " ('eat', 21230),\n",
       " ('tried', 21157),\n",
       " ('dessert', 20964),\n",
       " ('special', 20962),\n",
       " ('dinner', 20928),\n",
       " ('server', 20877),\n",
       " ('see', 20643),\n",
       " ('star', 20602),\n",
       " ('never', 20515),\n",
       " ('give', 20096),\n",
       " ('big', 20001),\n",
       " ('fry', 19886),\n",
       " ('burger', 19642),\n",
       " ('super', 19633),\n",
       " ('going', 19553),\n",
       " ('spicy', 19551),\n",
       " ('quality', 19507),\n",
       " ('something', 19499),\n",
       " ('bar', 19463),\n",
       " ('ice', 19279),\n",
       " ('however', 19008),\n",
       " ('option', 18735),\n",
       " ('recommend', 18712),\n",
       " ('item', 18567),\n",
       " ('feel', 18514),\n",
       " ('coffee', 18508),\n",
       " ('worth', 18401),\n",
       " ('long', 18312),\n",
       " ('busy', 18257),\n",
       " ('look', 18231),\n",
       " ('enough', 17662),\n",
       " ('different', 17590),\n",
       " ('large', 17511),\n",
       " ('new', 17489),\n",
       " ('store', 17483),\n",
       " ('review', 17296),\n",
       " ('fish', 17247),\n",
       " ('toronto', 17148),\n",
       " ('minute', 17124),\n",
       " ('next', 17013),\n",
       " ('ca', 16992),\n",
       " ('need', 16973),\n",
       " ('bad', 16963),\n",
       " ('egg', 16923),\n",
       " ('roll', 16824),\n",
       " ('spot', 16789),\n",
       " ('tasty', 16233),\n",
       " ('another', 16188),\n",
       " ('sushi', 16077),\n",
       " ('probably', 16004),\n",
       " ('sandwich', 15720),\n",
       " ('cake', 15667),\n",
       " ('line', 15451),\n",
       " ('selection', 15434),\n",
       " ('looking', 15362),\n",
       " ('actually', 15343),\n",
       " ('decent', 15342),\n",
       " ('nothing', 15341),\n",
       " ('year', 15302),\n",
       " ('full', 15214),\n",
       " ('inside', 14989),\n",
       " ('hour', 14969),\n",
       " ('beer', 14968),\n",
       " ('every', 14915),\n",
       " ('tasted', 14732),\n",
       " ('said', 14713),\n",
       " ('work', 14577),\n",
       " ('pizza', 14550),\n",
       " ('top', 14546),\n",
       " ('piece', 14477),\n",
       " ('size', 14391),\n",
       " ('found', 14232),\n",
       " ('last', 14212),\n",
       " ('visit', 14118),\n",
       " ('kind', 14048),\n",
       " ('favourite', 13859),\n",
       " ('ever', 13826),\n",
       " ('coming', 13745),\n",
       " ('took', 13584),\n",
       " ('end', 13509),\n",
       " ('perfect', 13499),\n",
       " ('huge', 13498),\n",
       " ('free', 13446),\n",
       " ('room', 13428),\n",
       " ('bowl', 13421),\n",
       " ('group', 13392),\n",
       " ('usually', 13286),\n",
       " ('served', 13154),\n",
       " ('home', 13094),\n",
       " ('wanted', 12940),\n",
       " ('maybe', 12744),\n",
       " ('asked', 12526),\n",
       " ('thought', 12459),\n",
       " ('ramen', 12445),\n",
       " ('chocolate', 12434),\n",
       " ('enjoyed', 12413),\n",
       " ('customer', 12338),\n",
       " ('bread', 12288),\n",
       " ('quick', 12155),\n",
       " ('plate', 12076),\n",
       " ('green', 12075),\n",
       " ('clean', 12020),\n",
       " ('away', 11954),\n",
       " ('decided', 11809),\n",
       " ('shrimp', 11583),\n",
       " ('seating', 11571),\n",
       " ('half', 11560),\n",
       " ('choice', 11497),\n",
       " ('high', 11478),\n",
       " ('parking', 11369),\n",
       " ('soft', 11256),\n",
       " ('crispy', 11202),\n",
       " ('shop', 10968),\n",
       " ('cooked', 10895),\n",
       " ('street', 10853),\n",
       " ('atmosphere', 10848),\n",
       " ('used', 10812),\n",
       " ('ok', 10792),\n",
       " ('space', 10783),\n",
       " ('decor', 10777),\n",
       " ('seat', 10763),\n",
       " ('point', 10755),\n",
       " ('regular', 10747),\n",
       " ('style', 10716),\n",
       " ('hard', 10655),\n",
       " ('open', 10648),\n",
       " ('without', 10646),\n",
       " ('getting', 10639),\n",
       " ('especially', 10620),\n",
       " ('anything', 10554),\n",
       " ('check', 10445),\n",
       " ('eating', 10428),\n",
       " ('thai', 10422),\n",
       " ('potato', 10402),\n",
       " ('water', 10377),\n",
       " ('le', 10327),\n",
       " ('main', 10308),\n",
       " ('fast', 10289),\n",
       " ('extra', 10274),\n",
       " ('enjoy', 10273),\n",
       " ('house', 10273),\n",
       " ('although', 10192),\n",
       " ('chinese', 10163),\n",
       " ('variety', 10116),\n",
       " ('curry', 10104),\n",
       " ('amount', 9994),\n",
       " ('taco', 9968),\n",
       " ('ask', 9942),\n",
       " ('offer', 9870)]"
      ]
     },
     "execution_count": 139,
     "metadata": {},
     "output_type": "execute_result"
    }
   ],
   "source": [
    "# Keyphrases are chosen mannually from top-1000 \n",
    "fdist1.most_common(250)"
   ]
  },
  {
   "cell_type": "code",
   "execution_count": 213,
   "metadata": {
    "collapsed": true
   },
   "outputs": [],
   "source": [
    "category_key = ['chinese', 'fast', 'thai', 'bar', 'fry', 'fried', 'dessert', 'dinner', 'lunch', 'soup', \n",
    "                'mexico', 'italian','mexican','vietnamese','buffet','takeout','casual','pub','bakery','indian','classic',\n",
    "               'modern','french','asian','birthday', 'vegetarian', 'downtown', 'bbq','japanese','breakfast','seafood',\n",
    "               'brunch'] \n",
    "\n",
    "food_key = ['taco', 'curry', 'potato', 'crispy', 'shrimp', 'bread', 'chocolate', 'ramen', 'pizza', 'beer', 'sandwich', 'cake',\n",
    "            'sushi', 'egg', 'fish', 'coffee', 'burger', 'cheese', 'salad', 'pork', 'beef', 'tea', 'noodle',\n",
    "           'meat', 'chicken', 'dim sum', 'cocktail', 'ice cream','squid','tempura','tapioca','donut','olive',\n",
    "            'espresso','octopus','croissant','banana','cookie','honey','cone','scallop','congee',\n",
    "           'skewer','miso','lettuce','pop','strawberry','apple','avocado','juice','booth','calamari','kimchi','patty',\n",
    "           'sesame','tart','four','crepe','tuna','wrap','lemon','vegan','coconut','corn','poutine','toast','belly','bubble',\n",
    "           'oyster','cocktail', 'cheesecake', 'fruit', 'sausage','latte','matcha','pancake','duck','tofu','sashimi',\n",
    "           'lamb','mango','bacon','tomato','lobster','wine','rib','waffle','bun','wing','dumpling','bean','steak','salmon',\n",
    "           'pasta','milk','fried chicken','milk tea','green tea','bubble tea','pork belly','spring roll','fried rice',\n",
    "            'pork bone soup']\n",
    "seasoning=['sugar','oil','soy','leaf','spice','butter','ginger','pepper','peanut','garlic']\n",
    "infrastruture_key = [ 'parking', 'store','shopping','nail','theatre','movie','washroom',\n",
    "                    'window','station','chair', 'markham','plaza','market', 'mall']\n",
    "# or we call this comment\n",
    "service_key = ['quick', 'clean', 'busy', 'fresh', 'friendly','convenient','refill','soggy','greeted','bright','crowded','overpriced',\n",
    "              'cheaper','immediately','dog','quiet','efficient','spacious','pleasant','fair','complaint','disappointing','fancy',\n",
    "             'comfortable', 'dark','cozy','helpful','tax','nicely','honestly', 'pricey','yummy','music','chip','attentive',\n",
    "              'reasonable','wait']\n",
    "\n",
    "taste_key = ['traditional', 'spicy','flavorful','fluffy','smooth','frozen','sweetness','mayo','gravy','healthy','rare',\n",
    "            'refreshing','crunchy','chili','crust','stick','steamed','greasy','dip','gelato','salt','stuffed','topped','smoked',\n",
    "            'roasted','seasoned','chewy','pot','solid','sour', 'baked', 'juicy','creamy','deep fried']\n",
    "\n",
    "bigram_key = ['ice cream', 'come back', 'go back', 'fried chicken', 'deep fried', 'milk tea', 'green tea', 'bubble tea',\n",
    "             'pork belly', 'pad thai', 'spring roll']\n",
    "from_pmi = ['lactose intolerant', 'dietary restriction', 'gong cha', 'general tao', 'wild boar', 'financial district', \n",
    "           'pale ale', 'public transit', 'balsamic vinegar', 'uber eats', 'alcoholic beverage', 'grand opening', 'north york',\n",
    "           'english muffin', 'accept debit']"
   ]
  },
  {
   "cell_type": "code",
   "execution_count": 214,
   "metadata": {},
   "outputs": [
    {
     "data": {
      "text/plain": [
       "235"
      ]
     },
     "execution_count": 214,
     "metadata": {},
     "output_type": "execute_result"
    }
   ],
   "source": [
    "key = category_key + food_key + infrastruture_key + service_key + taste_key + from_pmi\n",
    "len(category_key) + len(food_key) + len(infrastruture_key) + len(service_key) + len(taste_key) + len(from_pmi)"
   ]
  },
  {
   "cell_type": "code",
   "execution_count": 142,
   "metadata": {},
   "outputs": [
    {
     "data": {
      "text/plain": [
       "10163"
      ]
     },
     "execution_count": 142,
     "metadata": {},
     "output_type": "execute_result"
    }
   ],
   "source": [
    "fdist1['chinese']"
   ]
  },
  {
   "cell_type": "code",
   "execution_count": 143,
   "metadata": {},
   "outputs": [
    {
     "data": {
      "text/plain": [
       "7000"
      ]
     },
     "execution_count": 143,
     "metadata": {},
     "output_type": "execute_result"
    }
   ],
   "source": [
    "# A lot of chinese restuarants\n",
    "len(cur_df[cur_df[\"conca_review\"].str.contains('chinese', regex=False)])"
   ]
  },
  {
   "cell_type": "code",
   "execution_count": 148,
   "metadata": {},
   "outputs": [
    {
     "data": {
      "text/plain": [
       "3356"
      ]
     },
     "execution_count": 148,
     "metadata": {},
     "output_type": "execute_result"
    }
   ],
   "source": [
    "len(cur_df[cur_df[\"conca_review\"].str.contains('italian', regex=False)])"
   ]
  },
  {
   "cell_type": "code",
   "execution_count": 149,
   "metadata": {},
   "outputs": [
    {
     "data": {
      "text/plain": [
       "1780"
      ]
     },
     "execution_count": 149,
     "metadata": {},
     "output_type": "execute_result"
    }
   ],
   "source": [
    "len(cur_df[cur_df[\"conca_review\"].str.contains('mexican', regex=False)])"
   ]
  },
  {
   "cell_type": "code",
   "execution_count": 150,
   "metadata": {},
   "outputs": [
    {
     "data": {
      "text/plain": [
       "4251"
      ]
     },
     "execution_count": 150,
     "metadata": {},
     "output_type": "execute_result"
    }
   ],
   "source": [
    "# A lot of tacos \n",
    "len(cur_df[cur_df[\"conca_review\"].str.contains('taco', regex=False)])"
   ]
  },
  {
   "cell_type": "code",
   "execution_count": 151,
   "metadata": {
    "scrolled": true
   },
   "outputs": [
    {
     "data": {
      "text/plain": [
       "3715"
      ]
     },
     "execution_count": 151,
     "metadata": {},
     "output_type": "execute_result"
    }
   ],
   "source": [
    "len(cur_df[cur_df[\"conca_review\"].str.contains('traditional', regex=False)])"
   ]
  },
  {
   "cell_type": "code",
   "execution_count": 152,
   "metadata": {},
   "outputs": [
    {
     "data": {
      "text/plain": [
       "14"
      ]
     },
     "execution_count": 152,
     "metadata": {},
     "output_type": "execute_result"
    }
   ],
   "source": [
    "len(cur_df[cur_df[REVIEW_TEXT].str.contains('traditional burger', regex=False)])"
   ]
  },
  {
   "cell_type": "code",
   "execution_count": 153,
   "metadata": {},
   "outputs": [
    {
     "data": {
      "text/plain": [
       "3305"
      ]
     },
     "execution_count": 153,
     "metadata": {},
     "output_type": "execute_result"
    }
   ],
   "source": [
    "len(cur_df[cur_df[REVIEW_TEXT].str.contains('cocktail', regex=False)])"
   ]
  },
  {
   "cell_type": "code",
   "execution_count": 154,
   "metadata": {},
   "outputs": [
    {
     "data": {
      "text/plain": [
       "7000"
      ]
     },
     "execution_count": 154,
     "metadata": {},
     "output_type": "execute_result"
    }
   ],
   "source": [
    "list_1 = np.array(cur_df[cur_df[\"conca_review\"].str.contains('chinese', regex=False)].index)\n",
    "len(list_1)"
   ]
  },
  {
   "cell_type": "code",
   "execution_count": 155,
   "metadata": {
    "scrolled": true
   },
   "outputs": [
    {
     "data": {
      "text/plain": [
       "75"
      ]
     },
     "execution_count": 155,
     "metadata": {},
     "output_type": "execute_result"
    }
   ],
   "source": [
    "list_2 = np.array(cur_df[cur_df[\"conca_review\"].str.contains('chinese dim sum', regex=False)].index)\n",
    "len(list_2)"
   ]
  },
  {
   "cell_type": "code",
   "execution_count": 156,
   "metadata": {
    "scrolled": true
   },
   "outputs": [
    {
     "data": {
      "text/plain": [
       "array([], dtype=int64)"
      ]
     },
     "execution_count": 156,
     "metadata": {},
     "output_type": "execute_result"
    }
   ],
   "source": [
    "np.setdiff1d(list_2,list_1)"
   ]
  },
  {
   "cell_type": "code",
   "execution_count": 157,
   "metadata": {
    "scrolled": true
   },
   "outputs": [
    {
     "data": {
      "text/plain": [
       "' came friend birthday pre set family style menu mean food came huge portion share nt much expectation coming surprisingly food pretty good portion huge party mostly guy could nt even finish chicken steak good juicy bibimbap nt authentic like fried rice cauli floral definitely favourite deep fried tequila shot almost never came ask server several time would nt bother next time cuz gross thank god brought cupcake birthday party obviously got drunk remember let camera eat first dip cupcake came lol great time '"
      ]
     },
     "execution_count": 157,
     "metadata": {},
     "output_type": "execute_result"
    }
   ],
   "source": [
    "cur_df.iloc[157037, :][\"conca_review\"]"
   ]
  },
  {
   "cell_type": "code",
   "execution_count": 81,
   "metadata": {
    "scrolled": false
   },
   "outputs": [
    {
     "data": {
      "text/plain": [
       "'AMAZING. \\xa0Lost of choice and staff are very friendly!'"
      ]
     },
     "execution_count": 81,
     "metadata": {},
     "output_type": "execute_result"
    }
   ],
   "source": [
    "cur_df.iloc[1101, :][REVIEW_TEXT]"
   ]
  },
  {
   "cell_type": "code",
   "execution_count": 84,
   "metadata": {},
   "outputs": [
    {
     "data": {
      "text/plain": [
       "\"I have been here quite a few times now for dim sum, for their dinner service, and for a banquet. First off, beware of the parking lot area near the entrance of this restaurant - there always a lot of cars in the area of the parking lot I find. Secondly, if possible, try to make reservations - I generally like to make reservations so then I can minimize the wait time for a table especially during the dim sum service. Dim sum at this place is good - the price is reasonable and food quality is good. Dinner service here is good too. I would say the dinner service, food quality for the dinner menu, and the prices are en par with the Chinese restaurants in the area. Their Chinese bbq items are a must try in my option. However, why I gave it a three star - saying this place is only average was because of a recent banquet I attended here for a friend's wedding. I was one of her helpers for set up before cocktail hour started. They were not set up on time and they kind of messed up the floor plan, the numbering of the tables were just off and they didn't account for the table for the bar. Cocktail was to start at 6 pm and at 6:15 pm they were still setting up. The banquet food, I thought was just so so, and the portions were kind of on the small size - I wasn't really full by the end of the 10 course meal. By dessert, normally you serve the Wedding Cake with the desserts - I was not impress with the way they served the Wedding Cake. Normally (at least all the other banquets that I have been to) cut up the cake in individual slices and serve it. But here, they just hack up the cake into a huge chunk and serve it a platter with the other dessert. Overall, I would only really come for their dim sum service and maybe their dinner service. But, I would not have a banquet here - not impress with their banquet service at all.\""
      ]
     },
     "execution_count": 84,
     "metadata": {},
     "output_type": "execute_result"
    }
   ],
   "source": [
    "cur_df[cur_df[\"conca_review\"].str.contains('chinese', regex=False)][REVIEW_TEXT].values[20]"
   ]
  },
  {
   "cell_type": "code",
   "execution_count": 50,
   "metadata": {},
   "outputs": [
    {
     "data": {
      "text/plain": [
       "' definitely screaming ice cream excited place opening especially closer fairly new cute little place cookie cutter flavour like pink peppercorn black sesame roasted banana visit flavour select least another counted flavour cycle yum price fair scoop scoop l scoop service great girl working super sweet helpful recommending flavour vegan patron happy know vegan flavour available recommend peach sorbet definitely back soon pistachio calling name '"
      ]
     },
     "execution_count": 50,
     "metadata": {},
     "output_type": "execute_result"
    }
   ],
   "source": [
    "cur_df[cur_df[\"conca_review\"].str.contains('pepper', regex=False)][\"conca_review\"].values[2220]"
   ]
  },
  {
   "cell_type": "code",
   "execution_count": 159,
   "metadata": {
    "scrolled": false
   },
   "outputs": [
    {
     "data": {
      "text/plain": [
       "'mexican'"
      ]
     },
     "execution_count": 159,
     "metadata": {},
     "output_type": "execute_result"
    }
   ],
   "source": [
    "# Lemmatizing\n",
    "lemmatizer = WordNetLemmatizer()\n",
    "# lemma_flat = [lemmatizer.lemmatize(w) for w in flat_list]\n",
    "\n",
    "lemmatizer.lemmatize(\"mexican\")"
   ]
  },
  {
   "cell_type": "markdown",
   "metadata": {},
   "source": [
    "# Define Bigram Right Type (ADJ/NN)"
   ]
  },
  {
   "cell_type": "code",
   "execution_count": 173,
   "metadata": {
    "collapsed": true
   },
   "outputs": [],
   "source": [
    "#function to filter for ADJ/NN bigrams\n",
    "def filter_type(ngram):\n",
    "    if '-pron-' in ngram or 't' in ngram:\n",
    "        return False\n",
    "    for word in ngram:\n",
    "        if word.isspace():\n",
    "            return False\n",
    "    acceptable_types = ('JJ', 'JJR', 'JJS')\n",
    "    ins = ('IN','TO')\n",
    "    second_type = ('NN', 'NNS', 'NNP', 'NNPS')\n",
    "    tags = nltk.pos_tag(ngram)\n",
    "    \n",
    "    if len(tags) == 2:\n",
    "        if tags[0][1] in acceptable_types and tags[1][1] in second_type:\n",
    "            return True\n",
    "        else:\n",
    "            return False\n",
    "    elif len(tags) == 3:\n",
    "        if tags[0][1] in acceptable_types and tags[1][1] in ins and tags[2][1] in second_type:\n",
    "            return True\n",
    "        else:\n",
    "            return False\n",
    "    else:\n",
    "        if tags[0][1] in acceptable_types and tags[1][1] in ins and tags[2][1] in acceptable_types and tags[3][1] in second_type:\n",
    "            return True\n",
    "        else:\n",
    "            return False "
   ]
  },
  {
   "cell_type": "markdown",
   "metadata": {},
   "source": [
    "# Bi-gram"
   ]
  },
  {
   "cell_type": "code",
   "execution_count": 166,
   "metadata": {
    "collapsed": true
   },
   "outputs": [],
   "source": [
    "bigrams = nltk.collocations.BigramAssocMeasures()\n",
    "tokens = itertools.chain.from_iterable(token_list)\n",
    "bigramFinder = nltk.collocations.BigramCollocationFinder.from_words(tokens)\n",
    "bigramFinder.apply_freq_filter(100)\n",
    "\n",
    "bigram_freq = bigramFinder.ngram_fd.items()\n",
    "bigramFreqTable = pd.DataFrame(list(bigram_freq), \n",
    "                               columns=['ngram','freq']).sort_values(by='freq', ascending=False)"
   ]
  },
  {
   "cell_type": "code",
   "execution_count": 167,
   "metadata": {
    "scrolled": false
   },
   "outputs": [
    {
     "data": {
      "text/plain": [
       "array([('dim', 'sum'), ('dim', 'lighting'), ('place', 'dim'),\n",
       "       ('good', 'dim')], dtype=object)"
      ]
     },
     "execution_count": 167,
     "metadata": {},
     "output_type": "execute_result"
    }
   ],
   "source": [
    "bigramFreqTable[bigramFreqTable[\"ngram\"].str.contains('dim', regex=False)][:250]['ngram'].values"
   ]
  },
  {
   "cell_type": "code",
   "execution_count": null,
   "metadata": {
    "collapsed": true
   },
   "outputs": [],
   "source": [
    "for i in bigramFreqTable[:100]['ngram']:\n",
    "    print (i)"
   ]
  },
  {
   "cell_type": "code",
   "execution_count": 168,
   "metadata": {
    "collapsed": true
   },
   "outputs": [],
   "source": [
    "bigram_key = ['ice cream', 'come back', 'go back', 'fried chicken', 'deep fried', 'milk tea', 'green tea', 'bubble tea',\n",
    "             'pork belly', 'pad thai', 'spring roll', 'fried rice']"
   ]
  },
  {
   "cell_type": "code",
   "execution_count": 169,
   "metadata": {},
   "outputs": [
    {
     "data": {
      "text/plain": [
       "array([('dim', 'sum'), ('dim', 'lighting'), ('place', 'dim'),\n",
       "       ('good', 'dim')], dtype=object)"
      ]
     },
     "execution_count": 169,
     "metadata": {},
     "output_type": "execute_result"
    }
   ],
   "source": [
    "bigramFreqTable[bigramFreqTable[\"ngram\"].str.contains('dim', regex=False)][:250]['ngram'].values"
   ]
  },
  {
   "cell_type": "code",
   "execution_count": 170,
   "metadata": {},
   "outputs": [
    {
     "data": {
      "text/html": [
       "<div>\n",
       "<style>\n",
       "    .dataframe thead tr:only-child th {\n",
       "        text-align: right;\n",
       "    }\n",
       "\n",
       "    .dataframe thead th {\n",
       "        text-align: left;\n",
       "    }\n",
       "\n",
       "    .dataframe tbody tr th {\n",
       "        vertical-align: top;\n",
       "    }\n",
       "</style>\n",
       "<table border=\"1\" class=\"dataframe\">\n",
       "  <thead>\n",
       "    <tr style=\"text-align: right;\">\n",
       "      <th></th>\n",
       "      <th>ngram</th>\n",
       "      <th>freq</th>\n",
       "    </tr>\n",
       "  </thead>\n",
       "  <tbody>\n",
       "    <tr>\n",
       "      <th>11228</th>\n",
       "      <td>(dim, sum)</td>\n",
       "      <td>5420</td>\n",
       "    </tr>\n",
       "  </tbody>\n",
       "</table>\n",
       "</div>"
      ],
      "text/plain": [
       "            ngram  freq\n",
       "11228  (dim, sum)  5420"
      ]
     },
     "execution_count": 170,
     "metadata": {},
     "output_type": "execute_result"
    }
   ],
   "source": [
    "bigramFreqTable[bigramFreqTable[\"ngram\"] == (\"dim\", \"sum\")]"
   ]
  },
  {
   "cell_type": "markdown",
   "metadata": {},
   "source": [
    "# Bi-gram PMI"
   ]
  },
  {
   "cell_type": "code",
   "execution_count": 171,
   "metadata": {
    "scrolled": true
   },
   "outputs": [
    {
     "data": {
      "text/html": [
       "<div>\n",
       "<style>\n",
       "    .dataframe thead tr:only-child th {\n",
       "        text-align: right;\n",
       "    }\n",
       "\n",
       "    .dataframe thead th {\n",
       "        text-align: left;\n",
       "    }\n",
       "\n",
       "    .dataframe tbody tr th {\n",
       "        vertical-align: top;\n",
       "    }\n",
       "</style>\n",
       "<table border=\"1\" class=\"dataframe\">\n",
       "  <thead>\n",
       "    <tr style=\"text-align: right;\">\n",
       "      <th></th>\n",
       "      <th>bigram</th>\n",
       "      <th>PMI</th>\n",
       "    </tr>\n",
       "  </thead>\n",
       "  <tbody>\n",
       "    <tr>\n",
       "      <th>0</th>\n",
       "      <td>(amuse, bouche)</td>\n",
       "      <td>16.524861</td>\n",
       "    </tr>\n",
       "    <tr>\n",
       "      <th>1</th>\n",
       "      <td>(sri, lankan)</td>\n",
       "      <td>16.499465</td>\n",
       "    </tr>\n",
       "    <tr>\n",
       "      <th>2</th>\n",
       "      <td>(knick, knack)</td>\n",
       "      <td>16.373297</td>\n",
       "    </tr>\n",
       "    <tr>\n",
       "      <th>3</th>\n",
       "      <td>(sou, vide)</td>\n",
       "      <td>16.292796</td>\n",
       "    </tr>\n",
       "    <tr>\n",
       "      <th>4</th>\n",
       "      <td>(tex, mex)</td>\n",
       "      <td>16.090198</td>\n",
       "    </tr>\n",
       "    <tr>\n",
       "      <th>5</th>\n",
       "      <td>(te, aro)</td>\n",
       "      <td>16.050869</td>\n",
       "    </tr>\n",
       "    <tr>\n",
       "      <th>6</th>\n",
       "      <td>(kee, mao)</td>\n",
       "      <td>16.034190</td>\n",
       "    </tr>\n",
       "    <tr>\n",
       "      <th>7</th>\n",
       "      <td>(holt, renfrew)</td>\n",
       "      <td>15.928098</td>\n",
       "    </tr>\n",
       "    <tr>\n",
       "      <th>8</th>\n",
       "      <td>(gra, prow)</td>\n",
       "      <td>15.807588</td>\n",
       "    </tr>\n",
       "    <tr>\n",
       "      <th>9</th>\n",
       "      <td>(mont, blanc)</td>\n",
       "      <td>15.795243</td>\n",
       "    </tr>\n",
       "    <tr>\n",
       "      <th>10</th>\n",
       "      <td>(carne, asada)</td>\n",
       "      <td>15.770639</td>\n",
       "    </tr>\n",
       "    <tr>\n",
       "      <th>11</th>\n",
       "      <td>(cornish, hen)</td>\n",
       "      <td>15.691856</td>\n",
       "    </tr>\n",
       "    <tr>\n",
       "      <th>12</th>\n",
       "      <td>(bier, markt)</td>\n",
       "      <td>15.438328</td>\n",
       "    </tr>\n",
       "    <tr>\n",
       "      <th>13</th>\n",
       "      <td>(hustle, bustle)</td>\n",
       "      <td>15.436867</td>\n",
       "    </tr>\n",
       "    <tr>\n",
       "      <th>14</th>\n",
       "      <td>(andrew, walduck)</td>\n",
       "      <td>15.411409</td>\n",
       "    </tr>\n",
       "    <tr>\n",
       "      <th>15</th>\n",
       "      <td>(playa, cabana)</td>\n",
       "      <td>15.401467</td>\n",
       "    </tr>\n",
       "    <tr>\n",
       "      <th>16</th>\n",
       "      <td>(sneaky, dee)</td>\n",
       "      <td>15.371064</td>\n",
       "    </tr>\n",
       "    <tr>\n",
       "      <th>17</th>\n",
       "      <td>(conveyor, belt)</td>\n",
       "      <td>15.332462</td>\n",
       "    </tr>\n",
       "    <tr>\n",
       "      <th>18</th>\n",
       "      <td>(wi, fi)</td>\n",
       "      <td>15.287996</td>\n",
       "    </tr>\n",
       "    <tr>\n",
       "      <th>19</th>\n",
       "      <td>(catchy, remark)</td>\n",
       "      <td>15.259955</td>\n",
       "    </tr>\n",
       "    <tr>\n",
       "      <th>20</th>\n",
       "      <td>(panna, cotta)</td>\n",
       "      <td>15.171444</td>\n",
       "    </tr>\n",
       "    <tr>\n",
       "      <th>21</th>\n",
       "      <td>(ping, pong)</td>\n",
       "      <td>15.037572</td>\n",
       "    </tr>\n",
       "    <tr>\n",
       "      <th>22</th>\n",
       "      <td>(tai, fung)</td>\n",
       "      <td>15.013630</td>\n",
       "    </tr>\n",
       "    <tr>\n",
       "      <th>23</th>\n",
       "      <td>(wal, mart)</td>\n",
       "      <td>15.013037</td>\n",
       "    </tr>\n",
       "    <tr>\n",
       "      <th>24</th>\n",
       "      <td>(nuit, blanche)</td>\n",
       "      <td>15.012166</td>\n",
       "    </tr>\n",
       "    <tr>\n",
       "      <th>25</th>\n",
       "      <td>(huevos, rancheros)</td>\n",
       "      <td>14.975740</td>\n",
       "    </tr>\n",
       "    <tr>\n",
       "      <th>26</th>\n",
       "      <td>(tater, tot)</td>\n",
       "      <td>14.946564</td>\n",
       "    </tr>\n",
       "    <tr>\n",
       "      <th>27</th>\n",
       "      <td>(lactose, intolerant)</td>\n",
       "      <td>14.863246</td>\n",
       "    </tr>\n",
       "    <tr>\n",
       "      <th>28</th>\n",
       "      <td>(buk, chang)</td>\n",
       "      <td>14.844640</td>\n",
       "    </tr>\n",
       "    <tr>\n",
       "      <th>29</th>\n",
       "      <td>(bok, choy)</td>\n",
       "      <td>14.815727</td>\n",
       "    </tr>\n",
       "    <tr>\n",
       "      <th>...</th>\n",
       "      <td>...</td>\n",
       "      <td>...</td>\n",
       "    </tr>\n",
       "    <tr>\n",
       "      <th>12096</th>\n",
       "      <td>(u, place)</td>\n",
       "      <td>-1.845709</td>\n",
       "    </tr>\n",
       "    <tr>\n",
       "      <th>12097</th>\n",
       "      <td>(order, good)</td>\n",
       "      <td>-1.856508</td>\n",
       "    </tr>\n",
       "    <tr>\n",
       "      <th>12098</th>\n",
       "      <td>(lot, nt)</td>\n",
       "      <td>-1.858415</td>\n",
       "    </tr>\n",
       "    <tr>\n",
       "      <th>12099</th>\n",
       "      <td>(come, like)</td>\n",
       "      <td>-1.863470</td>\n",
       "    </tr>\n",
       "    <tr>\n",
       "      <th>12100</th>\n",
       "      <td>(get, would)</td>\n",
       "      <td>-1.865019</td>\n",
       "    </tr>\n",
       "    <tr>\n",
       "      <th>12101</th>\n",
       "      <td>(came, nt)</td>\n",
       "      <td>-1.872155</td>\n",
       "    </tr>\n",
       "    <tr>\n",
       "      <th>12102</th>\n",
       "      <td>(would, one)</td>\n",
       "      <td>-1.936012</td>\n",
       "    </tr>\n",
       "    <tr>\n",
       "      <th>12103</th>\n",
       "      <td>(came, food)</td>\n",
       "      <td>-1.950306</td>\n",
       "    </tr>\n",
       "    <tr>\n",
       "      <th>12104</th>\n",
       "      <td>(really, one)</td>\n",
       "      <td>-1.962074</td>\n",
       "    </tr>\n",
       "    <tr>\n",
       "      <th>12105</th>\n",
       "      <td>(like, time)</td>\n",
       "      <td>-1.973691</td>\n",
       "    </tr>\n",
       "    <tr>\n",
       "      <th>12106</th>\n",
       "      <td>(ordered, good)</td>\n",
       "      <td>-2.001317</td>\n",
       "    </tr>\n",
       "    <tr>\n",
       "      <th>12107</th>\n",
       "      <td>(food, back)</td>\n",
       "      <td>-2.054971</td>\n",
       "    </tr>\n",
       "    <tr>\n",
       "      <th>12108</th>\n",
       "      <td>(nt, menu)</td>\n",
       "      <td>-2.055763</td>\n",
       "    </tr>\n",
       "    <tr>\n",
       "      <th>12109</th>\n",
       "      <td>(nt, ordered)</td>\n",
       "      <td>-2.089355</td>\n",
       "    </tr>\n",
       "    <tr>\n",
       "      <th>12110</th>\n",
       "      <td>(also, food)</td>\n",
       "      <td>-2.128695</td>\n",
       "    </tr>\n",
       "    <tr>\n",
       "      <th>12111</th>\n",
       "      <td>(also, place)</td>\n",
       "      <td>-2.189349</td>\n",
       "    </tr>\n",
       "    <tr>\n",
       "      <th>12112</th>\n",
       "      <td>(nt, time)</td>\n",
       "      <td>-2.210316</td>\n",
       "    </tr>\n",
       "    <tr>\n",
       "      <th>12113</th>\n",
       "      <td>(get, nt)</td>\n",
       "      <td>-2.216252</td>\n",
       "    </tr>\n",
       "    <tr>\n",
       "      <th>12114</th>\n",
       "      <td>(one, food)</td>\n",
       "      <td>-2.255450</td>\n",
       "    </tr>\n",
       "    <tr>\n",
       "      <th>12115</th>\n",
       "      <td>(bit, nt)</td>\n",
       "      <td>-2.282839</td>\n",
       "    </tr>\n",
       "    <tr>\n",
       "      <th>12116</th>\n",
       "      <td>(nt, nice)</td>\n",
       "      <td>-2.382038</td>\n",
       "    </tr>\n",
       "    <tr>\n",
       "      <th>12117</th>\n",
       "      <td>(get, like)</td>\n",
       "      <td>-2.422370</td>\n",
       "    </tr>\n",
       "    <tr>\n",
       "      <th>12118</th>\n",
       "      <td>(got, nt)</td>\n",
       "      <td>-2.435967</td>\n",
       "    </tr>\n",
       "    <tr>\n",
       "      <th>12119</th>\n",
       "      <td>(good, back)</td>\n",
       "      <td>-2.451748</td>\n",
       "    </tr>\n",
       "    <tr>\n",
       "      <th>12120</th>\n",
       "      <td>(nt, well)</td>\n",
       "      <td>-2.470599</td>\n",
       "    </tr>\n",
       "    <tr>\n",
       "      <th>12121</th>\n",
       "      <td>(nt, place)</td>\n",
       "      <td>-2.605734</td>\n",
       "    </tr>\n",
       "    <tr>\n",
       "      <th>12122</th>\n",
       "      <td>(really, place)</td>\n",
       "      <td>-2.623202</td>\n",
       "    </tr>\n",
       "    <tr>\n",
       "      <th>12123</th>\n",
       "      <td>(would, place)</td>\n",
       "      <td>-2.721768</td>\n",
       "    </tr>\n",
       "    <tr>\n",
       "      <th>12124</th>\n",
       "      <td>(nt, food)</td>\n",
       "      <td>-3.521465</td>\n",
       "    </tr>\n",
       "    <tr>\n",
       "      <th>12125</th>\n",
       "      <td>(nt, nt)</td>\n",
       "      <td>-3.786967</td>\n",
       "    </tr>\n",
       "  </tbody>\n",
       "</table>\n",
       "<p>12126 rows × 2 columns</p>\n",
       "</div>"
      ],
      "text/plain": [
       "                      bigram        PMI\n",
       "0            (amuse, bouche)  16.524861\n",
       "1              (sri, lankan)  16.499465\n",
       "2             (knick, knack)  16.373297\n",
       "3                (sou, vide)  16.292796\n",
       "4                 (tex, mex)  16.090198\n",
       "5                  (te, aro)  16.050869\n",
       "6                 (kee, mao)  16.034190\n",
       "7            (holt, renfrew)  15.928098\n",
       "8                (gra, prow)  15.807588\n",
       "9              (mont, blanc)  15.795243\n",
       "10            (carne, asada)  15.770639\n",
       "11            (cornish, hen)  15.691856\n",
       "12             (bier, markt)  15.438328\n",
       "13          (hustle, bustle)  15.436867\n",
       "14         (andrew, walduck)  15.411409\n",
       "15           (playa, cabana)  15.401467\n",
       "16             (sneaky, dee)  15.371064\n",
       "17          (conveyor, belt)  15.332462\n",
       "18                  (wi, fi)  15.287996\n",
       "19          (catchy, remark)  15.259955\n",
       "20            (panna, cotta)  15.171444\n",
       "21              (ping, pong)  15.037572\n",
       "22               (tai, fung)  15.013630\n",
       "23               (wal, mart)  15.013037\n",
       "24           (nuit, blanche)  15.012166\n",
       "25       (huevos, rancheros)  14.975740\n",
       "26              (tater, tot)  14.946564\n",
       "27     (lactose, intolerant)  14.863246\n",
       "28              (buk, chang)  14.844640\n",
       "29               (bok, choy)  14.815727\n",
       "...                      ...        ...\n",
       "12096             (u, place)  -1.845709\n",
       "12097          (order, good)  -1.856508\n",
       "12098              (lot, nt)  -1.858415\n",
       "12099           (come, like)  -1.863470\n",
       "12100           (get, would)  -1.865019\n",
       "12101             (came, nt)  -1.872155\n",
       "12102           (would, one)  -1.936012\n",
       "12103           (came, food)  -1.950306\n",
       "12104          (really, one)  -1.962074\n",
       "12105           (like, time)  -1.973691\n",
       "12106        (ordered, good)  -2.001317\n",
       "12107           (food, back)  -2.054971\n",
       "12108             (nt, menu)  -2.055763\n",
       "12109          (nt, ordered)  -2.089355\n",
       "12110           (also, food)  -2.128695\n",
       "12111          (also, place)  -2.189349\n",
       "12112             (nt, time)  -2.210316\n",
       "12113              (get, nt)  -2.216252\n",
       "12114            (one, food)  -2.255450\n",
       "12115              (bit, nt)  -2.282839\n",
       "12116             (nt, nice)  -2.382038\n",
       "12117            (get, like)  -2.422370\n",
       "12118              (got, nt)  -2.435967\n",
       "12119           (good, back)  -2.451748\n",
       "12120             (nt, well)  -2.470599\n",
       "12121            (nt, place)  -2.605734\n",
       "12122        (really, place)  -2.623202\n",
       "12123         (would, place)  -2.721768\n",
       "12124             (nt, food)  -3.521465\n",
       "12125               (nt, nt)  -3.786967\n",
       "\n",
       "[12126 rows x 2 columns]"
      ]
     },
     "execution_count": 171,
     "metadata": {},
     "output_type": "execute_result"
    }
   ],
   "source": [
    "bigramFinder.apply_freq_filter(100)\n",
    "bigramPMITable = pd.DataFrame(list(bigramFinder.score_ngrams(bigrams.pmi)), \n",
    "                              columns=['bigram','PMI']).sort_values(by='PMI', ascending=False)\n",
    "\n",
    "bigramPMITable"
   ]
  },
  {
   "cell_type": "code",
   "execution_count": 174,
   "metadata": {
    "scrolled": true
   },
   "outputs": [
    {
     "data": {
      "text/html": [
       "<div>\n",
       "<style>\n",
       "    .dataframe thead tr:only-child th {\n",
       "        text-align: right;\n",
       "    }\n",
       "\n",
       "    .dataframe thead th {\n",
       "        text-align: left;\n",
       "    }\n",
       "\n",
       "    .dataframe tbody tr th {\n",
       "        vertical-align: top;\n",
       "    }\n",
       "</style>\n",
       "<table border=\"1\" class=\"dataframe\">\n",
       "  <thead>\n",
       "    <tr style=\"text-align: right;\">\n",
       "      <th></th>\n",
       "      <th>bigram</th>\n",
       "      <th>PMI</th>\n",
       "    </tr>\n",
       "  </thead>\n",
       "  <tbody>\n",
       "    <tr>\n",
       "      <th>11</th>\n",
       "      <td>(cornish, hen)</td>\n",
       "      <td>15.691856</td>\n",
       "    </tr>\n",
       "    <tr>\n",
       "      <th>13</th>\n",
       "      <td>(hustle, bustle)</td>\n",
       "      <td>15.436867</td>\n",
       "    </tr>\n",
       "    <tr>\n",
       "      <th>16</th>\n",
       "      <td>(sneaky, dee)</td>\n",
       "      <td>15.371064</td>\n",
       "    </tr>\n",
       "    <tr>\n",
       "      <th>27</th>\n",
       "      <td>(lactose, intolerant)</td>\n",
       "      <td>14.863246</td>\n",
       "    </tr>\n",
       "    <tr>\n",
       "      <th>32</th>\n",
       "      <td>(dietary, restriction)</td>\n",
       "      <td>14.720310</td>\n",
       "    </tr>\n",
       "    <tr>\n",
       "      <th>34</th>\n",
       "      <td>(obligatory, catchy)</td>\n",
       "      <td>14.506266</td>\n",
       "    </tr>\n",
       "    <tr>\n",
       "      <th>54</th>\n",
       "      <td>(swiss, chalet)</td>\n",
       "      <td>13.907878</td>\n",
       "    </tr>\n",
       "    <tr>\n",
       "      <th>69</th>\n",
       "      <td>(obligatory, title)</td>\n",
       "      <td>13.551602</td>\n",
       "    </tr>\n",
       "    <tr>\n",
       "      <th>70</th>\n",
       "      <td>(arctic, char)</td>\n",
       "      <td>13.544343</td>\n",
       "    </tr>\n",
       "    <tr>\n",
       "      <th>83</th>\n",
       "      <td>(shopper, drug)</td>\n",
       "      <td>13.308219</td>\n",
       "    </tr>\n",
       "    <tr>\n",
       "      <th>95</th>\n",
       "      <td>(gong, cha)</td>\n",
       "      <td>13.100484</td>\n",
       "    </tr>\n",
       "    <tr>\n",
       "      <th>96</th>\n",
       "      <td>(wild, boar)</td>\n",
       "      <td>13.059424</td>\n",
       "    </tr>\n",
       "    <tr>\n",
       "      <th>104</th>\n",
       "      <td>(financial, district)</td>\n",
       "      <td>12.921067</td>\n",
       "    </tr>\n",
       "    <tr>\n",
       "      <th>108</th>\n",
       "      <td>(pale, ale)</td>\n",
       "      <td>12.862787</td>\n",
       "    </tr>\n",
       "    <tr>\n",
       "      <th>117</th>\n",
       "      <td>(holy, chuck)</td>\n",
       "      <td>12.740608</td>\n",
       "    </tr>\n",
       "    <tr>\n",
       "      <th>132</th>\n",
       "      <td>(grand, electric)</td>\n",
       "      <td>12.428877</td>\n",
       "    </tr>\n",
       "    <tr>\n",
       "      <th>136</th>\n",
       "      <td>(guilty, pleasure)</td>\n",
       "      <td>12.314686</td>\n",
       "    </tr>\n",
       "    <tr>\n",
       "      <th>153</th>\n",
       "      <td>(fellow, yelper)</td>\n",
       "      <td>11.960051</td>\n",
       "    </tr>\n",
       "    <tr>\n",
       "      <th>154</th>\n",
       "      <td>(general, tao)</td>\n",
       "      <td>11.919408</td>\n",
       "    </tr>\n",
       "    <tr>\n",
       "      <th>160</th>\n",
       "      <td>(public, transit)</td>\n",
       "      <td>11.829673</td>\n",
       "    </tr>\n",
       "    <tr>\n",
       "      <th>166</th>\n",
       "      <td>(san, road)</td>\n",
       "      <td>11.710305</td>\n",
       "    </tr>\n",
       "    <tr>\n",
       "      <th>168</th>\n",
       "      <td>(fellow, yelpers)</td>\n",
       "      <td>11.672421</td>\n",
       "    </tr>\n",
       "    <tr>\n",
       "      <th>169</th>\n",
       "      <td>(balsamic, vinegar)</td>\n",
       "      <td>11.671145</td>\n",
       "    </tr>\n",
       "    <tr>\n",
       "      <th>173</th>\n",
       "      <td>(non, existent)</td>\n",
       "      <td>11.622654</td>\n",
       "    </tr>\n",
       "    <tr>\n",
       "      <th>174</th>\n",
       "      <td>(golden, turtle)</td>\n",
       "      <td>11.614949</td>\n",
       "    </tr>\n",
       "    <tr>\n",
       "      <th>188</th>\n",
       "      <td>(uber, eats)</td>\n",
       "      <td>11.386949</td>\n",
       "    </tr>\n",
       "    <tr>\n",
       "      <th>198</th>\n",
       "      <td>(e, mail)</td>\n",
       "      <td>11.204621</td>\n",
       "    </tr>\n",
       "    <tr>\n",
       "      <th>207</th>\n",
       "      <td>(blue, jay)</td>\n",
       "      <td>11.113203</td>\n",
       "    </tr>\n",
       "    <tr>\n",
       "      <th>218</th>\n",
       "      <td>(cantonese, chow)</td>\n",
       "      <td>11.016361</td>\n",
       "    </tr>\n",
       "    <tr>\n",
       "      <th>220</th>\n",
       "      <td>(canadian, tire)</td>\n",
       "      <td>11.012824</td>\n",
       "    </tr>\n",
       "    <tr>\n",
       "      <th>...</th>\n",
       "      <td>...</td>\n",
       "      <td>...</td>\n",
       "    </tr>\n",
       "    <tr>\n",
       "      <th>11929</th>\n",
       "      <td>(good, dinner)</td>\n",
       "      <td>-0.979801</td>\n",
       "    </tr>\n",
       "    <tr>\n",
       "      <th>11930</th>\n",
       "      <td>(good, wait)</td>\n",
       "      <td>-0.981245</td>\n",
       "    </tr>\n",
       "    <tr>\n",
       "      <th>11932</th>\n",
       "      <td>(good, pretty)</td>\n",
       "      <td>-0.985410</td>\n",
       "    </tr>\n",
       "    <tr>\n",
       "      <th>11942</th>\n",
       "      <td>(worth, nt)</td>\n",
       "      <td>-1.007582</td>\n",
       "    </tr>\n",
       "    <tr>\n",
       "      <th>11944</th>\n",
       "      <td>(much, get)</td>\n",
       "      <td>-1.013445</td>\n",
       "    </tr>\n",
       "    <tr>\n",
       "      <th>11951</th>\n",
       "      <td>(great, nt)</td>\n",
       "      <td>-1.033423</td>\n",
       "    </tr>\n",
       "    <tr>\n",
       "      <th>11957</th>\n",
       "      <td>(much, place)</td>\n",
       "      <td>-1.060950</td>\n",
       "    </tr>\n",
       "    <tr>\n",
       "      <th>11958</th>\n",
       "      <td>(good, sauce)</td>\n",
       "      <td>-1.073960</td>\n",
       "    </tr>\n",
       "    <tr>\n",
       "      <th>11962</th>\n",
       "      <td>(dish, food)</td>\n",
       "      <td>-1.082699</td>\n",
       "    </tr>\n",
       "    <tr>\n",
       "      <th>11964</th>\n",
       "      <td>(come, service)</td>\n",
       "      <td>-1.093049</td>\n",
       "    </tr>\n",
       "    <tr>\n",
       "      <th>11969</th>\n",
       "      <td>(chicken, place)</td>\n",
       "      <td>-1.109880</td>\n",
       "    </tr>\n",
       "    <tr>\n",
       "      <th>11980</th>\n",
       "      <td>(good, try)</td>\n",
       "      <td>-1.141396</td>\n",
       "    </tr>\n",
       "    <tr>\n",
       "      <th>11987</th>\n",
       "      <td>(small, food)</td>\n",
       "      <td>-1.158012</td>\n",
       "    </tr>\n",
       "    <tr>\n",
       "      <th>11995</th>\n",
       "      <td>(good, make)</td>\n",
       "      <td>-1.189202</td>\n",
       "    </tr>\n",
       "    <tr>\n",
       "      <th>11997</th>\n",
       "      <td>(delicious, place)</td>\n",
       "      <td>-1.192720</td>\n",
       "    </tr>\n",
       "    <tr>\n",
       "      <th>12007</th>\n",
       "      <td>(little, time)</td>\n",
       "      <td>-1.234429</td>\n",
       "    </tr>\n",
       "    <tr>\n",
       "      <th>12019</th>\n",
       "      <td>(big, nt)</td>\n",
       "      <td>-1.293294</td>\n",
       "    </tr>\n",
       "    <tr>\n",
       "      <th>12025</th>\n",
       "      <td>(much, nt)</td>\n",
       "      <td>-1.320490</td>\n",
       "    </tr>\n",
       "    <tr>\n",
       "      <th>12027</th>\n",
       "      <td>(good, order)</td>\n",
       "      <td>-1.325061</td>\n",
       "    </tr>\n",
       "    <tr>\n",
       "      <th>12037</th>\n",
       "      <td>(hot, nt)</td>\n",
       "      <td>-1.357448</td>\n",
       "    </tr>\n",
       "    <tr>\n",
       "      <th>12057</th>\n",
       "      <td>(great, get)</td>\n",
       "      <td>-1.492977</td>\n",
       "    </tr>\n",
       "    <tr>\n",
       "      <th>12068</th>\n",
       "      <td>(best, nt)</td>\n",
       "      <td>-1.535583</td>\n",
       "    </tr>\n",
       "    <tr>\n",
       "      <th>12073</th>\n",
       "      <td>(dish, time)</td>\n",
       "      <td>-1.572598</td>\n",
       "    </tr>\n",
       "    <tr>\n",
       "      <th>12082</th>\n",
       "      <td>(little, food)</td>\n",
       "      <td>-1.667330</td>\n",
       "    </tr>\n",
       "    <tr>\n",
       "      <th>12085</th>\n",
       "      <td>(dish, place)</td>\n",
       "      <td>-1.695210</td>\n",
       "    </tr>\n",
       "    <tr>\n",
       "      <th>12086</th>\n",
       "      <td>(nt, thing)</td>\n",
       "      <td>-1.719569</td>\n",
       "    </tr>\n",
       "    <tr>\n",
       "      <th>12096</th>\n",
       "      <td>(u, place)</td>\n",
       "      <td>-1.845709</td>\n",
       "    </tr>\n",
       "    <tr>\n",
       "      <th>12112</th>\n",
       "      <td>(nt, time)</td>\n",
       "      <td>-2.210316</td>\n",
       "    </tr>\n",
       "    <tr>\n",
       "      <th>12116</th>\n",
       "      <td>(nt, nice)</td>\n",
       "      <td>-2.382038</td>\n",
       "    </tr>\n",
       "    <tr>\n",
       "      <th>12121</th>\n",
       "      <td>(nt, place)</td>\n",
       "      <td>-2.605734</td>\n",
       "    </tr>\n",
       "  </tbody>\n",
       "</table>\n",
       "<p>2087 rows × 2 columns</p>\n",
       "</div>"
      ],
      "text/plain": [
       "                       bigram        PMI\n",
       "11             (cornish, hen)  15.691856\n",
       "13           (hustle, bustle)  15.436867\n",
       "16              (sneaky, dee)  15.371064\n",
       "27      (lactose, intolerant)  14.863246\n",
       "32     (dietary, restriction)  14.720310\n",
       "34       (obligatory, catchy)  14.506266\n",
       "54            (swiss, chalet)  13.907878\n",
       "69        (obligatory, title)  13.551602\n",
       "70             (arctic, char)  13.544343\n",
       "83            (shopper, drug)  13.308219\n",
       "95                (gong, cha)  13.100484\n",
       "96               (wild, boar)  13.059424\n",
       "104     (financial, district)  12.921067\n",
       "108               (pale, ale)  12.862787\n",
       "117             (holy, chuck)  12.740608\n",
       "132         (grand, electric)  12.428877\n",
       "136        (guilty, pleasure)  12.314686\n",
       "153          (fellow, yelper)  11.960051\n",
       "154            (general, tao)  11.919408\n",
       "160         (public, transit)  11.829673\n",
       "166               (san, road)  11.710305\n",
       "168         (fellow, yelpers)  11.672421\n",
       "169       (balsamic, vinegar)  11.671145\n",
       "173           (non, existent)  11.622654\n",
       "174          (golden, turtle)  11.614949\n",
       "188              (uber, eats)  11.386949\n",
       "198                 (e, mail)  11.204621\n",
       "207               (blue, jay)  11.113203\n",
       "218         (cantonese, chow)  11.016361\n",
       "220          (canadian, tire)  11.012824\n",
       "...                       ...        ...\n",
       "11929          (good, dinner)  -0.979801\n",
       "11930            (good, wait)  -0.981245\n",
       "11932          (good, pretty)  -0.985410\n",
       "11942             (worth, nt)  -1.007582\n",
       "11944             (much, get)  -1.013445\n",
       "11951             (great, nt)  -1.033423\n",
       "11957           (much, place)  -1.060950\n",
       "11958           (good, sauce)  -1.073960\n",
       "11962            (dish, food)  -1.082699\n",
       "11964         (come, service)  -1.093049\n",
       "11969        (chicken, place)  -1.109880\n",
       "11980             (good, try)  -1.141396\n",
       "11987           (small, food)  -1.158012\n",
       "11995            (good, make)  -1.189202\n",
       "11997      (delicious, place)  -1.192720\n",
       "12007          (little, time)  -1.234429\n",
       "12019               (big, nt)  -1.293294\n",
       "12025              (much, nt)  -1.320490\n",
       "12027           (good, order)  -1.325061\n",
       "12037               (hot, nt)  -1.357448\n",
       "12057            (great, get)  -1.492977\n",
       "12068              (best, nt)  -1.535583\n",
       "12073            (dish, time)  -1.572598\n",
       "12082          (little, food)  -1.667330\n",
       "12085           (dish, place)  -1.695210\n",
       "12086             (nt, thing)  -1.719569\n",
       "12096              (u, place)  -1.845709\n",
       "12112              (nt, time)  -2.210316\n",
       "12116              (nt, nice)  -2.382038\n",
       "12121             (nt, place)  -2.605734\n",
       "\n",
       "[2087 rows x 2 columns]"
      ]
     },
     "execution_count": 174,
     "metadata": {},
     "output_type": "execute_result"
    }
   ],
   "source": [
    "bigramPMITable = bigramPMITable[bigramPMITable.bigram.map(lambda x: filter_type(x))]\n",
    "bigramPMITable"
   ]
  },
  {
   "cell_type": "code",
   "execution_count": 175,
   "metadata": {
    "scrolled": true
   },
   "outputs": [
    {
     "data": {
      "text/html": [
       "<div>\n",
       "<style>\n",
       "    .dataframe thead tr:only-child th {\n",
       "        text-align: right;\n",
       "    }\n",
       "\n",
       "    .dataframe thead th {\n",
       "        text-align: left;\n",
       "    }\n",
       "\n",
       "    .dataframe tbody tr th {\n",
       "        vertical-align: top;\n",
       "    }\n",
       "</style>\n",
       "<table border=\"1\" class=\"dataframe\">\n",
       "  <thead>\n",
       "    <tr style=\"text-align: right;\">\n",
       "      <th></th>\n",
       "      <th>ngram</th>\n",
       "      <th>freq</th>\n",
       "      <th>bigram</th>\n",
       "      <th>PMI</th>\n",
       "    </tr>\n",
       "  </thead>\n",
       "  <tbody>\n",
       "    <tr>\n",
       "      <th>1441</th>\n",
       "      <td>(cornish, hen)</td>\n",
       "      <td>136</td>\n",
       "      <td>(cornish, hen)</td>\n",
       "      <td>15.691856</td>\n",
       "    </tr>\n",
       "    <tr>\n",
       "      <th>1091</th>\n",
       "      <td>(hustle, bustle)</td>\n",
       "      <td>167</td>\n",
       "      <td>(hustle, bustle)</td>\n",
       "      <td>15.436867</td>\n",
       "    </tr>\n",
       "    <tr>\n",
       "      <th>1984</th>\n",
       "      <td>(sneaky, dee)</td>\n",
       "      <td>103</td>\n",
       "      <td>(sneaky, dee)</td>\n",
       "      <td>15.371064</td>\n",
       "    </tr>\n",
       "    <tr>\n",
       "      <th>1544</th>\n",
       "      <td>(lactose, intolerant)</td>\n",
       "      <td>128</td>\n",
       "      <td>(lactose, intolerant)</td>\n",
       "      <td>14.863246</td>\n",
       "    </tr>\n",
       "    <tr>\n",
       "      <th>865</th>\n",
       "      <td>(dietary, restriction)</td>\n",
       "      <td>202</td>\n",
       "      <td>(dietary, restriction)</td>\n",
       "      <td>14.720310</td>\n",
       "    </tr>\n",
       "    <tr>\n",
       "      <th>803</th>\n",
       "      <td>(obligatory, catchy)</td>\n",
       "      <td>213</td>\n",
       "      <td>(obligatory, catchy)</td>\n",
       "      <td>14.506266</td>\n",
       "    </tr>\n",
       "    <tr>\n",
       "      <th>299</th>\n",
       "      <td>(swiss, chalet)</td>\n",
       "      <td>432</td>\n",
       "      <td>(swiss, chalet)</td>\n",
       "      <td>13.907878</td>\n",
       "    </tr>\n",
       "    <tr>\n",
       "      <th>839</th>\n",
       "      <td>(obligatory, title)</td>\n",
       "      <td>207</td>\n",
       "      <td>(obligatory, title)</td>\n",
       "      <td>13.551602</td>\n",
       "    </tr>\n",
       "    <tr>\n",
       "      <th>1948</th>\n",
       "      <td>(arctic, char)</td>\n",
       "      <td>105</td>\n",
       "      <td>(arctic, char)</td>\n",
       "      <td>13.544343</td>\n",
       "    </tr>\n",
       "    <tr>\n",
       "      <th>1521</th>\n",
       "      <td>(shopper, drug)</td>\n",
       "      <td>130</td>\n",
       "      <td>(shopper, drug)</td>\n",
       "      <td>13.308219</td>\n",
       "    </tr>\n",
       "    <tr>\n",
       "      <th>1329</th>\n",
       "      <td>(gong, cha)</td>\n",
       "      <td>144</td>\n",
       "      <td>(gong, cha)</td>\n",
       "      <td>13.100484</td>\n",
       "    </tr>\n",
       "    <tr>\n",
       "      <th>1344</th>\n",
       "      <td>(wild, boar)</td>\n",
       "      <td>143</td>\n",
       "      <td>(wild, boar)</td>\n",
       "      <td>13.059424</td>\n",
       "    </tr>\n",
       "    <tr>\n",
       "      <th>210</th>\n",
       "      <td>(financial, district)</td>\n",
       "      <td>552</td>\n",
       "      <td>(financial, district)</td>\n",
       "      <td>12.921067</td>\n",
       "    </tr>\n",
       "    <tr>\n",
       "      <th>1949</th>\n",
       "      <td>(pale, ale)</td>\n",
       "      <td>105</td>\n",
       "      <td>(pale, ale)</td>\n",
       "      <td>12.862787</td>\n",
       "    </tr>\n",
       "    <tr>\n",
       "      <th>664</th>\n",
       "      <td>(holy, chuck)</td>\n",
       "      <td>244</td>\n",
       "      <td>(holy, chuck)</td>\n",
       "      <td>12.740608</td>\n",
       "    </tr>\n",
       "    <tr>\n",
       "      <th>507</th>\n",
       "      <td>(grand, electric)</td>\n",
       "      <td>301</td>\n",
       "      <td>(grand, electric)</td>\n",
       "      <td>12.428877</td>\n",
       "    </tr>\n",
       "    <tr>\n",
       "      <th>2078</th>\n",
       "      <td>(guilty, pleasure)</td>\n",
       "      <td>100</td>\n",
       "      <td>(guilty, pleasure)</td>\n",
       "      <td>12.314686</td>\n",
       "    </tr>\n",
       "    <tr>\n",
       "      <th>1558</th>\n",
       "      <td>(fellow, yelper)</td>\n",
       "      <td>127</td>\n",
       "      <td>(fellow, yelper)</td>\n",
       "      <td>11.960051</td>\n",
       "    </tr>\n",
       "    <tr>\n",
       "      <th>764</th>\n",
       "      <td>(general, tao)</td>\n",
       "      <td>222</td>\n",
       "      <td>(general, tao)</td>\n",
       "      <td>11.919408</td>\n",
       "    </tr>\n",
       "    <tr>\n",
       "      <th>1454</th>\n",
       "      <td>(public, transit)</td>\n",
       "      <td>135</td>\n",
       "      <td>(public, transit)</td>\n",
       "      <td>11.829673</td>\n",
       "    </tr>\n",
       "    <tr>\n",
       "      <th>225</th>\n",
       "      <td>(san, road)</td>\n",
       "      <td>534</td>\n",
       "      <td>(san, road)</td>\n",
       "      <td>11.710305</td>\n",
       "    </tr>\n",
       "    <tr>\n",
       "      <th>487</th>\n",
       "      <td>(fellow, yelpers)</td>\n",
       "      <td>310</td>\n",
       "      <td>(fellow, yelpers)</td>\n",
       "      <td>11.672421</td>\n",
       "    </tr>\n",
       "    <tr>\n",
       "      <th>1181</th>\n",
       "      <td>(balsamic, vinegar)</td>\n",
       "      <td>157</td>\n",
       "      <td>(balsamic, vinegar)</td>\n",
       "      <td>11.671145</td>\n",
       "    </tr>\n",
       "    <tr>\n",
       "      <th>456</th>\n",
       "      <td>(non, existent)</td>\n",
       "      <td>320</td>\n",
       "      <td>(non, existent)</td>\n",
       "      <td>11.622654</td>\n",
       "    </tr>\n",
       "    <tr>\n",
       "      <th>1990</th>\n",
       "      <td>(golden, turtle)</td>\n",
       "      <td>103</td>\n",
       "      <td>(golden, turtle)</td>\n",
       "      <td>11.614949</td>\n",
       "    </tr>\n",
       "    <tr>\n",
       "      <th>916</th>\n",
       "      <td>(uber, eats)</td>\n",
       "      <td>193</td>\n",
       "      <td>(uber, eats)</td>\n",
       "      <td>11.386949</td>\n",
       "    </tr>\n",
       "    <tr>\n",
       "      <th>1645</th>\n",
       "      <td>(e, mail)</td>\n",
       "      <td>121</td>\n",
       "      <td>(e, mail)</td>\n",
       "      <td>11.204621</td>\n",
       "    </tr>\n",
       "    <tr>\n",
       "      <th>1196</th>\n",
       "      <td>(blue, jay)</td>\n",
       "      <td>156</td>\n",
       "      <td>(blue, jay)</td>\n",
       "      <td>11.113203</td>\n",
       "    </tr>\n",
       "    <tr>\n",
       "      <th>1268</th>\n",
       "      <td>(cantonese, chow)</td>\n",
       "      <td>150</td>\n",
       "      <td>(cantonese, chow)</td>\n",
       "      <td>11.016361</td>\n",
       "    </tr>\n",
       "    <tr>\n",
       "      <th>724</th>\n",
       "      <td>(canadian, tire)</td>\n",
       "      <td>231</td>\n",
       "      <td>(canadian, tire)</td>\n",
       "      <td>11.012824</td>\n",
       "    </tr>\n",
       "    <tr>\n",
       "      <th>1084</th>\n",
       "      <td>(sticky, toffee)</td>\n",
       "      <td>168</td>\n",
       "      <td>(sticky, toffee)</td>\n",
       "      <td>10.974885</td>\n",
       "    </tr>\n",
       "    <tr>\n",
       "      <th>1335</th>\n",
       "      <td>(alcoholic, beverage)</td>\n",
       "      <td>144</td>\n",
       "      <td>(alcoholic, beverage)</td>\n",
       "      <td>10.917659</td>\n",
       "    </tr>\n",
       "    <tr>\n",
       "      <th>1388</th>\n",
       "      <td>(picky, eater)</td>\n",
       "      <td>140</td>\n",
       "      <td>(picky, eater)</td>\n",
       "      <td>10.897254</td>\n",
       "    </tr>\n",
       "    <tr>\n",
       "      <th>244</th>\n",
       "      <td>(grand, opening)</td>\n",
       "      <td>502</td>\n",
       "      <td>(grand, opening)</td>\n",
       "      <td>10.829738</td>\n",
       "    </tr>\n",
       "    <tr>\n",
       "      <th>658</th>\n",
       "      <td>(snow, pea)</td>\n",
       "      <td>246</td>\n",
       "      <td>(snow, pea)</td>\n",
       "      <td>10.822329</td>\n",
       "    </tr>\n",
       "    <tr>\n",
       "      <th>384</th>\n",
       "      <td>(personal, preference)</td>\n",
       "      <td>363</td>\n",
       "      <td>(personal, preference)</td>\n",
       "      <td>10.776718</td>\n",
       "    </tr>\n",
       "    <tr>\n",
       "      <th>1496</th>\n",
       "      <td>(west, coast)</td>\n",
       "      <td>132</td>\n",
       "      <td>(west, coast)</td>\n",
       "      <td>10.726409</td>\n",
       "    </tr>\n",
       "    <tr>\n",
       "      <th>100</th>\n",
       "      <td>(north, york)</td>\n",
       "      <td>880</td>\n",
       "      <td>(north, york)</td>\n",
       "      <td>10.661708</td>\n",
       "    </tr>\n",
       "    <tr>\n",
       "      <th>2044</th>\n",
       "      <td>(safe, bet)</td>\n",
       "      <td>101</td>\n",
       "      <td>(safe, bet)</td>\n",
       "      <td>10.579154</td>\n",
       "    </tr>\n",
       "    <tr>\n",
       "      <th>357</th>\n",
       "      <td>(answer, question)</td>\n",
       "      <td>381</td>\n",
       "      <td>(answer, question)</td>\n",
       "      <td>10.491701</td>\n",
       "    </tr>\n",
       "    <tr>\n",
       "      <th>1590</th>\n",
       "      <td>(loose, leaf)</td>\n",
       "      <td>124</td>\n",
       "      <td>(loose, leaf)</td>\n",
       "      <td>10.485850</td>\n",
       "    </tr>\n",
       "    <tr>\n",
       "      <th>652</th>\n",
       "      <td>(english, muffin)</td>\n",
       "      <td>249</td>\n",
       "      <td>(english, muffin)</td>\n",
       "      <td>10.432952</td>\n",
       "    </tr>\n",
       "    <tr>\n",
       "      <th>996</th>\n",
       "      <td>(nail, polish)</td>\n",
       "      <td>181</td>\n",
       "      <td>(nail, polish)</td>\n",
       "      <td>10.353209</td>\n",
       "    </tr>\n",
       "    <tr>\n",
       "      <th>1880</th>\n",
       "      <td>(real, estate)</td>\n",
       "      <td>108</td>\n",
       "      <td>(real, estate)</td>\n",
       "      <td>10.351519</td>\n",
       "    </tr>\n",
       "    <tr>\n",
       "      <th>184</th>\n",
       "      <td>(red, velvet)</td>\n",
       "      <td>596</td>\n",
       "      <td>(red, velvet)</td>\n",
       "      <td>10.259444</td>\n",
       "    </tr>\n",
       "    <tr>\n",
       "      <th>1480</th>\n",
       "      <td>(irish, pub)</td>\n",
       "      <td>133</td>\n",
       "      <td>(irish, pub)</td>\n",
       "      <td>10.249607</td>\n",
       "    </tr>\n",
       "    <tr>\n",
       "      <th>2021</th>\n",
       "      <td>(accept, debit)</td>\n",
       "      <td>102</td>\n",
       "      <td>(accept, debit)</td>\n",
       "      <td>10.153871</td>\n",
       "    </tr>\n",
       "    <tr>\n",
       "      <th>84</th>\n",
       "      <td>(olive, oil)</td>\n",
       "      <td>968</td>\n",
       "      <td>(olive, oil)</td>\n",
       "      <td>10.115234</td>\n",
       "    </tr>\n",
       "    <tr>\n",
       "      <th>986</th>\n",
       "      <td>(dark, horse)</td>\n",
       "      <td>182</td>\n",
       "      <td>(dark, horse)</td>\n",
       "      <td>10.106372</td>\n",
       "    </tr>\n",
       "    <tr>\n",
       "      <th>2063</th>\n",
       "      <td>(fair, trade)</td>\n",
       "      <td>101</td>\n",
       "      <td>(fair, trade)</td>\n",
       "      <td>10.048954</td>\n",
       "    </tr>\n",
       "  </tbody>\n",
       "</table>\n",
       "</div>"
      ],
      "text/plain": [
       "                       ngram  freq                  bigram        PMI\n",
       "1441          (cornish, hen)   136          (cornish, hen)  15.691856\n",
       "1091        (hustle, bustle)   167        (hustle, bustle)  15.436867\n",
       "1984           (sneaky, dee)   103           (sneaky, dee)  15.371064\n",
       "1544   (lactose, intolerant)   128   (lactose, intolerant)  14.863246\n",
       "865   (dietary, restriction)   202  (dietary, restriction)  14.720310\n",
       "803     (obligatory, catchy)   213    (obligatory, catchy)  14.506266\n",
       "299          (swiss, chalet)   432         (swiss, chalet)  13.907878\n",
       "839      (obligatory, title)   207     (obligatory, title)  13.551602\n",
       "1948          (arctic, char)   105          (arctic, char)  13.544343\n",
       "1521         (shopper, drug)   130         (shopper, drug)  13.308219\n",
       "1329             (gong, cha)   144             (gong, cha)  13.100484\n",
       "1344            (wild, boar)   143            (wild, boar)  13.059424\n",
       "210    (financial, district)   552   (financial, district)  12.921067\n",
       "1949             (pale, ale)   105             (pale, ale)  12.862787\n",
       "664            (holy, chuck)   244           (holy, chuck)  12.740608\n",
       "507        (grand, electric)   301       (grand, electric)  12.428877\n",
       "2078      (guilty, pleasure)   100      (guilty, pleasure)  12.314686\n",
       "1558        (fellow, yelper)   127        (fellow, yelper)  11.960051\n",
       "764           (general, tao)   222          (general, tao)  11.919408\n",
       "1454       (public, transit)   135       (public, transit)  11.829673\n",
       "225              (san, road)   534             (san, road)  11.710305\n",
       "487        (fellow, yelpers)   310       (fellow, yelpers)  11.672421\n",
       "1181     (balsamic, vinegar)   157     (balsamic, vinegar)  11.671145\n",
       "456          (non, existent)   320         (non, existent)  11.622654\n",
       "1990        (golden, turtle)   103        (golden, turtle)  11.614949\n",
       "916             (uber, eats)   193            (uber, eats)  11.386949\n",
       "1645               (e, mail)   121               (e, mail)  11.204621\n",
       "1196             (blue, jay)   156             (blue, jay)  11.113203\n",
       "1268       (cantonese, chow)   150       (cantonese, chow)  11.016361\n",
       "724         (canadian, tire)   231        (canadian, tire)  11.012824\n",
       "1084        (sticky, toffee)   168        (sticky, toffee)  10.974885\n",
       "1335   (alcoholic, beverage)   144   (alcoholic, beverage)  10.917659\n",
       "1388          (picky, eater)   140          (picky, eater)  10.897254\n",
       "244         (grand, opening)   502        (grand, opening)  10.829738\n",
       "658              (snow, pea)   246             (snow, pea)  10.822329\n",
       "384   (personal, preference)   363  (personal, preference)  10.776718\n",
       "1496           (west, coast)   132           (west, coast)  10.726409\n",
       "100            (north, york)   880           (north, york)  10.661708\n",
       "2044             (safe, bet)   101             (safe, bet)  10.579154\n",
       "357       (answer, question)   381      (answer, question)  10.491701\n",
       "1590           (loose, leaf)   124           (loose, leaf)  10.485850\n",
       "652        (english, muffin)   249       (english, muffin)  10.432952\n",
       "996           (nail, polish)   181          (nail, polish)  10.353209\n",
       "1880          (real, estate)   108          (real, estate)  10.351519\n",
       "184            (red, velvet)   596           (red, velvet)  10.259444\n",
       "1480            (irish, pub)   133            (irish, pub)  10.249607\n",
       "2021         (accept, debit)   102         (accept, debit)  10.153871\n",
       "84              (olive, oil)   968            (olive, oil)  10.115234\n",
       "986            (dark, horse)   182           (dark, horse)  10.106372\n",
       "2063           (fair, trade)   101           (fair, trade)  10.048954"
      ]
     },
     "execution_count": 175,
     "metadata": {},
     "output_type": "execute_result"
    }
   ],
   "source": [
    "bigram_freq_pmi = pd.merge(bigramFreqTable, bigramPMITable, how='right', left_on='ngram', right_on='bigram').sort_values(\"PMI\", ascending=False)\n",
    "bigram_freq_pmi.head(50)"
   ]
  },
  {
   "cell_type": "markdown",
   "metadata": {},
   "source": [
    "# Trigram"
   ]
  },
  {
   "cell_type": "code",
   "execution_count": null,
   "metadata": {
    "collapsed": true
   },
   "outputs": [],
   "source": [
    "trigrams = nltk.collocations.TrigramAssocMeasures()\n",
    "tokens = itertools.chain.from_iterable(token_list)\n",
    "trigramFinder = nltk.collocations.TrigramCollocationFinder.from_words(tokens)\n",
    "trigram_freq = trigramFinder.ngram_fd.items()\n",
    "\n",
    "trigramFreqTable = pd.DataFrame(list(trigram_freq), \n",
    "                                columns=['ngram','freq']).sort_values(by='freq', ascending=False)"
   ]
  },
  {
   "cell_type": "code",
   "execution_count": null,
   "metadata": {
    "collapsed": true
   },
   "outputs": [],
   "source": [
    "trigramFreqTable = trigramFreqTable[trigramFreqTable[\"freq\"] >= 10]"
   ]
  },
  {
   "cell_type": "code",
   "execution_count": null,
   "metadata": {
    "collapsed": true
   },
   "outputs": [],
   "source": [
    "trigramFreqTable"
   ]
  },
  {
   "cell_type": "code",
   "execution_count": null,
   "metadata": {
    "collapsed": true
   },
   "outputs": [],
   "source": [
    "trigram_key = ['pork bone soup' ]"
   ]
  },
  {
   "cell_type": "markdown",
   "metadata": {},
   "source": [
    "# Keyphrases"
   ]
  },
  {
   "cell_type": "code",
   "execution_count": 215,
   "metadata": {
    "scrolled": true
   },
   "outputs": [
    {
     "data": {
      "text/html": [
       "<div>\n",
       "<style>\n",
       "    .dataframe thead tr:only-child th {\n",
       "        text-align: right;\n",
       "    }\n",
       "\n",
       "    .dataframe thead th {\n",
       "        text-align: left;\n",
       "    }\n",
       "\n",
       "    .dataframe tbody tr th {\n",
       "        vertical-align: top;\n",
       "    }\n",
       "</style>\n",
       "<table border=\"1\" class=\"dataframe\">\n",
       "  <thead>\n",
       "    <tr style=\"text-align: right;\">\n",
       "      <th></th>\n",
       "      <th>Phrases</th>\n",
       "    </tr>\n",
       "  </thead>\n",
       "  <tbody>\n",
       "    <tr>\n",
       "      <th>0</th>\n",
       "      <td>chinese</td>\n",
       "    </tr>\n",
       "    <tr>\n",
       "      <th>1</th>\n",
       "      <td>fast</td>\n",
       "    </tr>\n",
       "    <tr>\n",
       "      <th>2</th>\n",
       "      <td>thai</td>\n",
       "    </tr>\n",
       "    <tr>\n",
       "      <th>3</th>\n",
       "      <td>bar</td>\n",
       "    </tr>\n",
       "    <tr>\n",
       "      <th>4</th>\n",
       "      <td>fry</td>\n",
       "    </tr>\n",
       "    <tr>\n",
       "      <th>5</th>\n",
       "      <td>fried</td>\n",
       "    </tr>\n",
       "    <tr>\n",
       "      <th>6</th>\n",
       "      <td>dessert</td>\n",
       "    </tr>\n",
       "    <tr>\n",
       "      <th>7</th>\n",
       "      <td>dinner</td>\n",
       "    </tr>\n",
       "    <tr>\n",
       "      <th>8</th>\n",
       "      <td>lunch</td>\n",
       "    </tr>\n",
       "    <tr>\n",
       "      <th>9</th>\n",
       "      <td>soup</td>\n",
       "    </tr>\n",
       "    <tr>\n",
       "      <th>10</th>\n",
       "      <td>mexico</td>\n",
       "    </tr>\n",
       "    <tr>\n",
       "      <th>11</th>\n",
       "      <td>italian</td>\n",
       "    </tr>\n",
       "    <tr>\n",
       "      <th>12</th>\n",
       "      <td>mexican</td>\n",
       "    </tr>\n",
       "    <tr>\n",
       "      <th>13</th>\n",
       "      <td>vietnamese</td>\n",
       "    </tr>\n",
       "    <tr>\n",
       "      <th>14</th>\n",
       "      <td>buffet</td>\n",
       "    </tr>\n",
       "    <tr>\n",
       "      <th>15</th>\n",
       "      <td>takeout</td>\n",
       "    </tr>\n",
       "    <tr>\n",
       "      <th>16</th>\n",
       "      <td>casual</td>\n",
       "    </tr>\n",
       "    <tr>\n",
       "      <th>17</th>\n",
       "      <td>pub</td>\n",
       "    </tr>\n",
       "    <tr>\n",
       "      <th>18</th>\n",
       "      <td>bakery</td>\n",
       "    </tr>\n",
       "    <tr>\n",
       "      <th>19</th>\n",
       "      <td>indian</td>\n",
       "    </tr>\n",
       "    <tr>\n",
       "      <th>20</th>\n",
       "      <td>classic</td>\n",
       "    </tr>\n",
       "    <tr>\n",
       "      <th>21</th>\n",
       "      <td>modern</td>\n",
       "    </tr>\n",
       "    <tr>\n",
       "      <th>22</th>\n",
       "      <td>french</td>\n",
       "    </tr>\n",
       "    <tr>\n",
       "      <th>23</th>\n",
       "      <td>asian</td>\n",
       "    </tr>\n",
       "    <tr>\n",
       "      <th>24</th>\n",
       "      <td>birthday</td>\n",
       "    </tr>\n",
       "    <tr>\n",
       "      <th>25</th>\n",
       "      <td>vegetarian</td>\n",
       "    </tr>\n",
       "    <tr>\n",
       "      <th>26</th>\n",
       "      <td>downtown</td>\n",
       "    </tr>\n",
       "    <tr>\n",
       "      <th>27</th>\n",
       "      <td>bbq</td>\n",
       "    </tr>\n",
       "    <tr>\n",
       "      <th>28</th>\n",
       "      <td>japanese</td>\n",
       "    </tr>\n",
       "    <tr>\n",
       "      <th>29</th>\n",
       "      <td>breakfast</td>\n",
       "    </tr>\n",
       "    <tr>\n",
       "      <th>...</th>\n",
       "      <td>...</td>\n",
       "    </tr>\n",
       "    <tr>\n",
       "      <th>205</th>\n",
       "      <td>gelato</td>\n",
       "    </tr>\n",
       "    <tr>\n",
       "      <th>206</th>\n",
       "      <td>salt</td>\n",
       "    </tr>\n",
       "    <tr>\n",
       "      <th>207</th>\n",
       "      <td>stuffed</td>\n",
       "    </tr>\n",
       "    <tr>\n",
       "      <th>208</th>\n",
       "      <td>topped</td>\n",
       "    </tr>\n",
       "    <tr>\n",
       "      <th>209</th>\n",
       "      <td>smoked</td>\n",
       "    </tr>\n",
       "    <tr>\n",
       "      <th>210</th>\n",
       "      <td>roasted</td>\n",
       "    </tr>\n",
       "    <tr>\n",
       "      <th>211</th>\n",
       "      <td>seasoned</td>\n",
       "    </tr>\n",
       "    <tr>\n",
       "      <th>212</th>\n",
       "      <td>chewy</td>\n",
       "    </tr>\n",
       "    <tr>\n",
       "      <th>213</th>\n",
       "      <td>pot</td>\n",
       "    </tr>\n",
       "    <tr>\n",
       "      <th>214</th>\n",
       "      <td>solid</td>\n",
       "    </tr>\n",
       "    <tr>\n",
       "      <th>215</th>\n",
       "      <td>sour</td>\n",
       "    </tr>\n",
       "    <tr>\n",
       "      <th>216</th>\n",
       "      <td>baked</td>\n",
       "    </tr>\n",
       "    <tr>\n",
       "      <th>217</th>\n",
       "      <td>juicy</td>\n",
       "    </tr>\n",
       "    <tr>\n",
       "      <th>218</th>\n",
       "      <td>creamy</td>\n",
       "    </tr>\n",
       "    <tr>\n",
       "      <th>219</th>\n",
       "      <td>deep fried</td>\n",
       "    </tr>\n",
       "    <tr>\n",
       "      <th>220</th>\n",
       "      <td>lactose intolerant</td>\n",
       "    </tr>\n",
       "    <tr>\n",
       "      <th>221</th>\n",
       "      <td>dietary restriction</td>\n",
       "    </tr>\n",
       "    <tr>\n",
       "      <th>222</th>\n",
       "      <td>gong cha</td>\n",
       "    </tr>\n",
       "    <tr>\n",
       "      <th>223</th>\n",
       "      <td>general tao</td>\n",
       "    </tr>\n",
       "    <tr>\n",
       "      <th>224</th>\n",
       "      <td>wild boar</td>\n",
       "    </tr>\n",
       "    <tr>\n",
       "      <th>225</th>\n",
       "      <td>financial district</td>\n",
       "    </tr>\n",
       "    <tr>\n",
       "      <th>226</th>\n",
       "      <td>pale ale</td>\n",
       "    </tr>\n",
       "    <tr>\n",
       "      <th>227</th>\n",
       "      <td>public transit</td>\n",
       "    </tr>\n",
       "    <tr>\n",
       "      <th>228</th>\n",
       "      <td>balsamic vinegar</td>\n",
       "    </tr>\n",
       "    <tr>\n",
       "      <th>229</th>\n",
       "      <td>uber eats</td>\n",
       "    </tr>\n",
       "    <tr>\n",
       "      <th>230</th>\n",
       "      <td>alcoholic beverage</td>\n",
       "    </tr>\n",
       "    <tr>\n",
       "      <th>231</th>\n",
       "      <td>grand opening</td>\n",
       "    </tr>\n",
       "    <tr>\n",
       "      <th>232</th>\n",
       "      <td>north york</td>\n",
       "    </tr>\n",
       "    <tr>\n",
       "      <th>233</th>\n",
       "      <td>english muffin</td>\n",
       "    </tr>\n",
       "    <tr>\n",
       "      <th>234</th>\n",
       "      <td>accept debit</td>\n",
       "    </tr>\n",
       "  </tbody>\n",
       "</table>\n",
       "<p>235 rows × 1 columns</p>\n",
       "</div>"
      ],
      "text/plain": [
       "                 Phrases\n",
       "0                chinese\n",
       "1                   fast\n",
       "2                   thai\n",
       "3                    bar\n",
       "4                    fry\n",
       "5                  fried\n",
       "6                dessert\n",
       "7                 dinner\n",
       "8                  lunch\n",
       "9                   soup\n",
       "10                mexico\n",
       "11               italian\n",
       "12               mexican\n",
       "13            vietnamese\n",
       "14                buffet\n",
       "15               takeout\n",
       "16                casual\n",
       "17                   pub\n",
       "18                bakery\n",
       "19                indian\n",
       "20               classic\n",
       "21                modern\n",
       "22                french\n",
       "23                 asian\n",
       "24              birthday\n",
       "25            vegetarian\n",
       "26              downtown\n",
       "27                   bbq\n",
       "28              japanese\n",
       "29             breakfast\n",
       "..                   ...\n",
       "205               gelato\n",
       "206                 salt\n",
       "207              stuffed\n",
       "208               topped\n",
       "209               smoked\n",
       "210              roasted\n",
       "211             seasoned\n",
       "212                chewy\n",
       "213                  pot\n",
       "214                solid\n",
       "215                 sour\n",
       "216                baked\n",
       "217                juicy\n",
       "218               creamy\n",
       "219           deep fried\n",
       "220   lactose intolerant\n",
       "221  dietary restriction\n",
       "222             gong cha\n",
       "223          general tao\n",
       "224            wild boar\n",
       "225   financial district\n",
       "226             pale ale\n",
       "227       public transit\n",
       "228     balsamic vinegar\n",
       "229            uber eats\n",
       "230   alcoholic beverage\n",
       "231        grand opening\n",
       "232           north york\n",
       "233       english muffin\n",
       "234         accept debit\n",
       "\n",
       "[235 rows x 1 columns]"
      ]
     },
     "execution_count": 215,
     "metadata": {},
     "output_type": "execute_result"
    }
   ],
   "source": [
    "df_keyphrases = pd.DataFrame.from_items([(\"Phrases\", key)])\n",
    "keyphrases = df_keyphrases['Phrases'].tolist()\n",
    "df_keyphrases"
   ]
  },
  {
   "cell_type": "code",
   "execution_count": 217,
   "metadata": {
    "collapsed": true
   },
   "outputs": [],
   "source": [
    "from nltk.util import ngrams\n",
    "\n",
    "def return_keyphrase_index(text):\n",
    "    index = [keyphrases.index(key) for key in keyphrases if key in text]\n",
    "    return index"
   ]
  },
  {
   "cell_type": "code",
   "execution_count": 218,
   "metadata": {
    "collapsed": true
   },
   "outputs": [],
   "source": [
    "cur_df[\"keyVector\"] = cur_df[\"conca_review\"].apply(return_keyphrase_index)"
   ]
  },
  {
   "cell_type": "code",
   "execution_count": 219,
   "metadata": {
    "scrolled": true
   },
   "outputs": [
    {
     "data": {
      "text/html": [
       "<div>\n",
       "<style>\n",
       "    .dataframe thead tr:only-child th {\n",
       "        text-align: right;\n",
       "    }\n",
       "\n",
       "    .dataframe thead th {\n",
       "        text-align: left;\n",
       "    }\n",
       "\n",
       "    .dataframe tbody tr th {\n",
       "        vertical-align: top;\n",
       "    }\n",
       "</style>\n",
       "<table border=\"1\" class=\"dataframe\">\n",
       "  <thead>\n",
       "    <tr style=\"text-align: right;\">\n",
       "      <th></th>\n",
       "      <th>Unnamed: 0</th>\n",
       "      <th>Unnamed: 0.1</th>\n",
       "      <th>business_id</th>\n",
       "      <th>friend_count</th>\n",
       "      <th>ghost</th>\n",
       "      <th>img_dsc</th>\n",
       "      <th>img_url</th>\n",
       "      <th>nr</th>\n",
       "      <th>photo_count</th>\n",
       "      <th>rating</th>\n",
       "      <th>...</th>\n",
       "      <th>Year</th>\n",
       "      <th>Month</th>\n",
       "      <th>Day</th>\n",
       "      <th>Binary</th>\n",
       "      <th>review</th>\n",
       "      <th>conca_review</th>\n",
       "      <th>keyVector</th>\n",
       "      <th>keyphrases_indices_length</th>\n",
       "      <th>UserIndex</th>\n",
       "      <th>ItemIndex</th>\n",
       "    </tr>\n",
       "  </thead>\n",
       "  <tbody>\n",
       "    <tr>\n",
       "      <th>0</th>\n",
       "      <td>6</td>\n",
       "      <td>6</td>\n",
       "      <td>Xo1LNzhnwE-ilqsM3ybs9Q</td>\n",
       "      <td>105</td>\n",
       "      <td>False</td>\n",
       "      <td>['Photo of Happy Lemon - Markham, ON, Canada. ...</td>\n",
       "      <td>['https://s3-media4.fl.yelpcdn.com/bphoto/tu7j...</td>\n",
       "      <td>False</td>\n",
       "      <td>325.0</td>\n",
       "      <td>4.0</td>\n",
       "      <td>...</td>\n",
       "      <td>2016</td>\n",
       "      <td>23</td>\n",
       "      <td>8</td>\n",
       "      <td>0</td>\n",
       "      <td>[ordered, lemon, mango, slush, lemon, taste, s...</td>\n",
       "      <td>ordered lemon mango slush lemon taste strong ...</td>\n",
       "      <td>[53, 92, 99, 112, 130, 212]</td>\n",
       "      <td>6</td>\n",
       "      <td>2464</td>\n",
       "      <td>5546</td>\n",
       "    </tr>\n",
       "    <tr>\n",
       "      <th>1</th>\n",
       "      <td>7</td>\n",
       "      <td>7</td>\n",
       "      <td>Xo1LNzhnwE-ilqsM3ybs9Q</td>\n",
       "      <td>171</td>\n",
       "      <td>False</td>\n",
       "      <td>['Photo of Happy Lemon - Markham, ON, Canada. ...</td>\n",
       "      <td>['https://s3-media3.fl.yelpcdn.com/bphoto/h110...</td>\n",
       "      <td>False</td>\n",
       "      <td>307.0</td>\n",
       "      <td>3.0</td>\n",
       "      <td>...</td>\n",
       "      <td>2016</td>\n",
       "      <td>2</td>\n",
       "      <td>10</td>\n",
       "      <td>0</td>\n",
       "      <td>[came, sunday, afternoon, nt, busy, came, sund...</td>\n",
       "      <td>came sunday afternoon nt busy came sunday spe...</td>\n",
       "      <td>[53, 99, 126, 128, 130, 148, 151, 171]</td>\n",
       "      <td>8</td>\n",
       "      <td>1021</td>\n",
       "      <td>5546</td>\n",
       "    </tr>\n",
       "    <tr>\n",
       "      <th>2</th>\n",
       "      <td>8</td>\n",
       "      <td>8</td>\n",
       "      <td>Xo1LNzhnwE-ilqsM3ybs9Q</td>\n",
       "      <td>239</td>\n",
       "      <td>False</td>\n",
       "      <td>['Photo of Happy Lemon - Markham, ON, Canada. ...</td>\n",
       "      <td>['https://s3-media4.fl.yelpcdn.com/bphoto/tS6Y...</td>\n",
       "      <td>False</td>\n",
       "      <td>78.0</td>\n",
       "      <td>5.0</td>\n",
       "      <td>...</td>\n",
       "      <td>2016</td>\n",
       "      <td>6</td>\n",
       "      <td>11</td>\n",
       "      <td>1</td>\n",
       "      <td>[grapefruit, yakult, green, tea, aloe, jelly, ...</td>\n",
       "      <td>grapefruit yakult green tea aloe jelly found ...</td>\n",
       "      <td>[53, 92, 103, 129, 192]</td>\n",
       "      <td>5</td>\n",
       "      <td>529</td>\n",
       "      <td>5546</td>\n",
       "    </tr>\n",
       "    <tr>\n",
       "      <th>3</th>\n",
       "      <td>9</td>\n",
       "      <td>9</td>\n",
       "      <td>Xo1LNzhnwE-ilqsM3ybs9Q</td>\n",
       "      <td>10</td>\n",
       "      <td>False</td>\n",
       "      <td>['Photo of Happy Lemon - Markham, ON, Canada',...</td>\n",
       "      <td>['https://s3-media3.fl.yelpcdn.com/bphoto/rfB0...</td>\n",
       "      <td>False</td>\n",
       "      <td>504.0</td>\n",
       "      <td>4.0</td>\n",
       "      <td>...</td>\n",
       "      <td>2016</td>\n",
       "      <td>25</td>\n",
       "      <td>9</td>\n",
       "      <td>0</td>\n",
       "      <td>[saw, newly, opened, bubble, tea, shop, wanted...</td>\n",
       "      <td>saw newly opened bubble tea shop wanted give ...</td>\n",
       "      <td>[49, 53, 99, 126, 128, 130, 136, 161, 206, 212]</td>\n",
       "      <td>10</td>\n",
       "      <td>1616</td>\n",
       "      <td>5546</td>\n",
       "    </tr>\n",
       "    <tr>\n",
       "      <th>4</th>\n",
       "      <td>22</td>\n",
       "      <td>22</td>\n",
       "      <td>Xo1LNzhnwE-ilqsM3ybs9Q</td>\n",
       "      <td>80</td>\n",
       "      <td>False</td>\n",
       "      <td>['Photo of Happy Lemon - Markham, ON, Canada',...</td>\n",
       "      <td>['https://s3-media1.fl.yelpcdn.com/bphoto/2jVn...</td>\n",
       "      <td>False</td>\n",
       "      <td>743.0</td>\n",
       "      <td>5.0</td>\n",
       "      <td>...</td>\n",
       "      <td>2018</td>\n",
       "      <td>30</td>\n",
       "      <td>6</td>\n",
       "      <td>1</td>\n",
       "      <td>[happy, lemon, become, new, favourite, place, ...</td>\n",
       "      <td>happy lemon become new favourite place sweet ...</td>\n",
       "      <td>[53, 92, 99, 103, 126, 128, 148, 152, 165, 197]</td>\n",
       "      <td>10</td>\n",
       "      <td>590</td>\n",
       "      <td>5546</td>\n",
       "    </tr>\n",
       "  </tbody>\n",
       "</table>\n",
       "<p>5 rows × 30 columns</p>\n",
       "</div>"
      ],
      "text/plain": [
       "   Unnamed: 0  Unnamed: 0.1             business_id  friend_count  ghost  \\\n",
       "0           6             6  Xo1LNzhnwE-ilqsM3ybs9Q           105  False   \n",
       "1           7             7  Xo1LNzhnwE-ilqsM3ybs9Q           171  False   \n",
       "2           8             8  Xo1LNzhnwE-ilqsM3ybs9Q           239  False   \n",
       "3           9             9  Xo1LNzhnwE-ilqsM3ybs9Q            10  False   \n",
       "4          22            22  Xo1LNzhnwE-ilqsM3ybs9Q            80  False   \n",
       "\n",
       "                                             img_dsc  \\\n",
       "0  ['Photo of Happy Lemon - Markham, ON, Canada. ...   \n",
       "1  ['Photo of Happy Lemon - Markham, ON, Canada. ...   \n",
       "2  ['Photo of Happy Lemon - Markham, ON, Canada. ...   \n",
       "3  ['Photo of Happy Lemon - Markham, ON, Canada',...   \n",
       "4  ['Photo of Happy Lemon - Markham, ON, Canada',...   \n",
       "\n",
       "                                             img_url     nr  photo_count  \\\n",
       "0  ['https://s3-media4.fl.yelpcdn.com/bphoto/tu7j...  False        325.0   \n",
       "1  ['https://s3-media3.fl.yelpcdn.com/bphoto/h110...  False        307.0   \n",
       "2  ['https://s3-media4.fl.yelpcdn.com/bphoto/tS6Y...  False         78.0   \n",
       "3  ['https://s3-media3.fl.yelpcdn.com/bphoto/rfB0...  False        504.0   \n",
       "4  ['https://s3-media1.fl.yelpcdn.com/bphoto/2jVn...  False        743.0   \n",
       "\n",
       "   rating    ...      Year Month Day Binary  \\\n",
       "0     4.0    ...      2016    23   8      0   \n",
       "1     3.0    ...      2016     2  10      0   \n",
       "2     5.0    ...      2016     6  11      1   \n",
       "3     4.0    ...      2016    25   9      0   \n",
       "4     5.0    ...      2018    30   6      1   \n",
       "\n",
       "                                              review  \\\n",
       "0  [ordered, lemon, mango, slush, lemon, taste, s...   \n",
       "1  [came, sunday, afternoon, nt, busy, came, sund...   \n",
       "2  [grapefruit, yakult, green, tea, aloe, jelly, ...   \n",
       "3  [saw, newly, opened, bubble, tea, shop, wanted...   \n",
       "4  [happy, lemon, become, new, favourite, place, ...   \n",
       "\n",
       "                                        conca_review  \\\n",
       "0   ordered lemon mango slush lemon taste strong ...   \n",
       "1   came sunday afternoon nt busy came sunday spe...   \n",
       "2   grapefruit yakult green tea aloe jelly found ...   \n",
       "3   saw newly opened bubble tea shop wanted give ...   \n",
       "4   happy lemon become new favourite place sweet ...   \n",
       "\n",
       "                                         keyVector keyphrases_indices_length  \\\n",
       "0                      [53, 92, 99, 112, 130, 212]                         6   \n",
       "1           [53, 99, 126, 128, 130, 148, 151, 171]                         8   \n",
       "2                          [53, 92, 103, 129, 192]                         5   \n",
       "3  [49, 53, 99, 126, 128, 130, 136, 161, 206, 212]                        10   \n",
       "4  [53, 92, 99, 103, 126, 128, 148, 152, 165, 197]                        10   \n",
       "\n",
       "   UserIndex  ItemIndex  \n",
       "0       2464       5546  \n",
       "1       1021       5546  \n",
       "2        529       5546  \n",
       "3       1616       5546  \n",
       "4        590       5546  \n",
       "\n",
       "[5 rows x 30 columns]"
      ]
     },
     "execution_count": 219,
     "metadata": {},
     "output_type": "execute_result"
    }
   ],
   "source": [
    "cur_df['keyphrases_indices_length'] = cur_df['keyVector'].str.len()\n",
    "cur_df.head()"
   ]
  },
  {
   "cell_type": "code",
   "execution_count": null,
   "metadata": {
    "collapsed": true
   },
   "outputs": [],
   "source": [
    "cur_df['keyVector']"
   ]
  },
  {
   "cell_type": "code",
   "execution_count": 220,
   "metadata": {
    "scrolled": true
   },
   "outputs": [
    {
     "name": "stdout",
     "output_type": "stream",
     "text": [
      "1326377\n",
      "0.9766770023711322\n",
      "1.7751702059602534\n"
     ]
    }
   ],
   "source": [
    "print(cur_df['keyphrases_indices_length'].sum())\n",
    "print(len(cur_df[cur_df['keyphrases_indices_length'] > 0])/len(cur_df))\n",
    "print(cur_df['keyphrases_indices_length'].sum() / len(df))"
   ]
  },
  {
   "cell_type": "code",
   "execution_count": 221,
   "metadata": {
    "scrolled": false
   },
   "outputs": [
    {
     "data": {
      "text/plain": [
       "7.804007978300905"
      ]
     },
     "execution_count": 221,
     "metadata": {},
     "output_type": "execute_result"
    }
   ],
   "source": [
    "cur_df['keyphrases_indices_length'].mean()"
   ]
  },
  {
   "cell_type": "code",
   "execution_count": 222,
   "metadata": {},
   "outputs": [
    {
     "data": {
      "text/plain": [
       "array([[<matplotlib.axes._subplots.AxesSubplot object at 0x000001F5D0FDAEF0>]], dtype=object)"
      ]
     },
     "execution_count": 222,
     "metadata": {},
     "output_type": "execute_result"
    },
    {
     "data": {
      "image/png": "[encoded data removed]",
      "text/plain": [
       "<matplotlib.figure.Figure at 0x1f5d0bbff60>"
      ]
     },
     "metadata": {},
     "output_type": "display_data"
    }
   ],
   "source": [
    "import matplotlib.pyplot as plt\n",
    "%matplotlib inline\n",
    "\n",
    "cur_df.hist(column='keyphrases_indices_length')"
   ]
  },
  {
   "cell_type": "code",
   "execution_count": 223,
   "metadata": {},
   "outputs": [
    {
     "data": {
      "text/plain": [
       "[('reasonable', 34286),\n",
       " ('market', 33617),\n",
       " ('tea', 30732),\n",
       " ('busy', 27643),\n",
       " ('chicken', 27581),\n",
       " ('chewy', 26607),\n",
       " ('fresh', 26395),\n",
       " ('bar', 20813),\n",
       " ('meat', 19427),\n",
       " ('egg', 18821),\n",
       " ('mall', 17421),\n",
       " ('lunch', 17355),\n",
       " ('dinner', 16701),\n",
       " ('clean', 16455),\n",
       " ('fried', 16255),\n",
       " ('tart', 16223),\n",
       " ('cheese', 15926),\n",
       " ('beef', 15538),\n",
       " ('soup', 15497),\n",
       " ('salad', 15224),\n",
       " ('fast', 14840),\n",
       " ('dessert', 14328),\n",
       " ('pork', 14114),\n",
       " ('quick', 13570),\n",
       " ('cake', 13509),\n",
       " ('noodle', 13371),\n",
       " ('traditional', 13134),\n",
       " ('fry', 12796),\n",
       " ('fish', 11916),\n",
       " ('wine', 11848),\n",
       " ('parking', 11558),\n",
       " ('coffee', 10900),\n",
       " ('bread', 10613),\n",
       " ('pop', 10572),\n",
       " ('bun', 10491),\n",
       " ('gelato', 9971),\n",
       " ('crispy', 9328),\n",
       " ('sandwich', 8943),\n",
       " ('beer', 8864),\n",
       " ('waffle', 8701),\n",
       " ('pork bone soup', 8592),\n",
       " ('pleasant', 8548),\n",
       " ('corn', 8482),\n",
       " ('burger', 8344),\n",
       " ('tuna', 8255),\n",
       " ('potato', 7986),\n",
       " ('pasta', 7821),\n",
       " ('ice cream', 7811),\n",
       " ('shrimp', 7784),\n",
       " ('chocolate', 7356),\n",
       " ('dumpling', 7301),\n",
       " ('sushi', 7129),\n",
       " ('sausage', 7087),\n",
       " ('chinese', 7000),\n",
       " ('cocktail', 6952),\n",
       " ('chip', 6495),\n",
       " ('attentive', 6428),\n",
       " ('pizza', 6407),\n",
       " ('crust', 6179),\n",
       " ('curry', 5899),\n",
       " ('downtown', 5836),\n",
       " ('brunch', 5750),\n",
       " ('steak', 5593),\n",
       " ('music', 5552),\n",
       " ('pricey', 5389),\n",
       " ('seafood', 5386),\n",
       " ('bacon', 5376),\n",
       " ('yummy', 5376),\n",
       " ('spacious', 5366),\n",
       " ('lobster', 5354),\n",
       " ('bean', 5337),\n",
       " ('breakfast', 5201),\n",
       " ('honestly', 5183),\n",
       " ('salmon', 5173),\n",
       " ('stuffed', 5117),\n",
       " ('bbq', 5107),\n",
       " ('juicy', 5062),\n",
       " ('solid', 4970),\n",
       " ('japanese', 4967),\n",
       " ('cozy', 4938),\n",
       " ('baked', 4910),\n",
       " ('thai', 4898),\n",
       " ('cheesecake', 4840),\n",
       " ('wrap', 4814),\n",
       " ('fancy', 4794),\n",
       " ('helpful', 4525),\n",
       " ('greasy', 4474),\n",
       " ('plaza', 4417),\n",
       " ('mango', 4401),\n",
       " ('nicely', 4334),\n",
       " ('ramen', 4325),\n",
       " ('asian', 4313),\n",
       " ('taco', 4251),\n",
       " ('tax', 4245),\n",
       " ('sour', 4231),\n",
       " ('toast', 4150),\n",
       " ('dark', 4141),\n",
       " ('lemon', 4106),\n",
       " ('birthday', 4086),\n",
       " ('comfortable', 4086),\n",
       " ('lamb', 4044),\n",
       " ('vegetarian', 4028),\n",
       " ('pot', 3976),\n",
       " ('sashimi', 3912),\n",
       " ('modern', 3828),\n",
       " ('apple', 3828),\n",
       " ('duck', 3828),\n",
       " ('wing', 3744),\n",
       " ('four', 3716),\n",
       " ('wait', 3715),\n",
       " ('milk', 3675),\n",
       " ('seasoned', 3612),\n",
       " ('station', 3588),\n",
       " ('fruit', 3549),\n",
       " ('classic', 3511),\n",
       " ('markham', 3498),\n",
       " ('fluffy', 3474),\n",
       " ('healthy', 3470),\n",
       " ('complaint', 3457),\n",
       " ('washroom', 3455),\n",
       " ('tofu', 3454),\n",
       " ('roasted', 3447),\n",
       " ('fair', 3445),\n",
       " ('rib', 3440),\n",
       " ('window', 3405),\n",
       " ('pancake', 3400),\n",
       " ('quiet', 3388),\n",
       " ('friendly', 3382),\n",
       " ('disappointing', 3375),\n",
       " ('italian', 3356),\n",
       " ('efficient', 3306),\n",
       " ('pub', 3298),\n",
       " ('chair', 3287),\n",
       " ('creamy', 3276),\n",
       " ('dog', 3251),\n",
       " ('convenient', 3243),\n",
       " ('chili', 3219),\n",
       " ('casual', 3193),\n",
       " ('french', 3187),\n",
       " ('movie', 3147),\n",
       " ('matcha', 3144),\n",
       " ('belly', 3098),\n",
       " ('salt', 3077),\n",
       " ('tomato', 3064),\n",
       " ('coconut', 3060),\n",
       " ('steamed', 2976),\n",
       " ('smoked', 2960),\n",
       " ('booth', 2953),\n",
       " ('greeted', 2936),\n",
       " ('rare', 2890),\n",
       " ('refreshing', 2870),\n",
       " ('juice', 2800),\n",
       " ('gravy', 2783),\n",
       " ('cheaper', 2775),\n",
       " ('bubble', 2754),\n",
       " ('overpriced', 2703),\n",
       " ('topped', 2651),\n",
       " ('sweetness', 2643),\n",
       " ('bright', 2628),\n",
       " ('latte', 2622),\n",
       " ('takeout', 2614),\n",
       " ('avocado', 2588),\n",
       " ('bakery', 2586),\n",
       " ('sesame', 2580),\n",
       " ('poutine', 2578),\n",
       " ('lettuce', 2569),\n",
       " ('dim sum', 2568),\n",
       " ('fried chicken', 2566),\n",
       " ('crunchy', 2564),\n",
       " ('vegan', 2548),\n",
       " ('stick', 2512),\n",
       " ('milk tea', 2504),\n",
       " ('crowded', 2476),\n",
       " ('spring roll', 2467),\n",
       " ('soggy', 2438),\n",
       " ('oyster', 2427),\n",
       " ('pork belly', 2422),\n",
       " ('cocktail', 2352),\n",
       " ('bubble tea', 2323),\n",
       " ('miso', 2294),\n",
       " ('calamari', 2280),\n",
       " ('patty', 2279),\n",
       " ('kimchi', 2265),\n",
       " ('store', 2264),\n",
       " ('refill', 2251),\n",
       " ('honey', 2238),\n",
       " ('strawberry', 2203),\n",
       " ('green tea', 2201),\n",
       " ('flavorful', 2194),\n",
       " ('cone', 2193),\n",
       " ('indian', 2174),\n",
       " ('frozen', 2167),\n",
       " ('smooth', 2118),\n",
       " ('spicy', 2115),\n",
       " ('immediately', 2062),\n",
       " ('olive', 2025),\n",
       " ('vietnamese', 2014),\n",
       " ('mayo', 1927),\n",
       " ('scallop', 1909),\n",
       " ('banana', 1883),\n",
       " ('skewer', 1862),\n",
       " ('theatre', 1844),\n",
       " ('espresso', 1832),\n",
       " ('mexican', 1780),\n",
       " ('squid', 1732),\n",
       " ('crepe', 1729),\n",
       " ('dip', 1719),\n",
       " ('buffet', 1710),\n",
       " ('octopus', 1701),\n",
       " ('cookie', 1643),\n",
       " ('tempura', 1574),\n",
       " ('croissant', 1477),\n",
       " ('congee', 1327),\n",
       " ('nail', 1325),\n",
       " ('shopping', 1312),\n",
       " ('tapioca', 1305),\n",
       " ('donut', 1145),\n",
       " ('fried rice', 948),\n",
       " ('grand opening', 801),\n",
       " ('wild boar', 530),\n",
       " ('alcoholic beverage', 439),\n",
       " ('mexico', 273),\n",
       " ('north york', 227),\n",
       " ('lactose intolerant', 193),\n",
       " ('gong cha', 172),\n",
       " ('balsamic vinegar', 169),\n",
       " ('public transit', 151),\n",
       " ('uber eats', 141),\n",
       " ('deep fried', 127),\n",
       " ('pale ale', 124),\n",
       " ('general tao', 123),\n",
       " ('dietary restriction', 101),\n",
       " ('english muffin', 101),\n",
       " ('financial district', 94)]"
      ]
     },
     "execution_count": 223,
     "metadata": {},
     "output_type": "execute_result"
    }
   ],
   "source": [
    "key_vector_index_list = [item for sublist in cur_df[\"keyVector\"].values for item in sublist]\n",
    "unique, counts = np.unique(key_vector_index_list, return_counts=True)\n",
    "[(x, count) for count, x in sorted(zip(counts,keyphrases), key=lambda pair: pair[0], reverse=True)]"
   ]
  },
  {
   "cell_type": "code",
   "execution_count": 224,
   "metadata": {},
   "outputs": [
    {
     "name": "stdout",
     "output_type": "stream",
     "text": [
      "Number of User: 2473\n",
      "Number of Item: 10282\n",
      "Number of Positive Review: 40500\n",
      "Number of key Phrase: 235\n",
      "Number of reviews: 169961\n"
     ]
    }
   ],
   "source": [
    "cur_df['UserIndex'] = cur_df[USER_ID].astype('category').cat.rename_categories(range(0, cur_df[USER_ID].nunique()))\n",
    "cur_df['ItemIndex'] = cur_df[ITEM_ID].astype('category').cat.rename_categories(range(0, cur_df[ITEM_ID].nunique()))\n",
    "cur_df['Binary'] = (cur_df[RATING] > 4)*1\n",
    "\n",
    "df_user_name = cur_df[['UserIndex',USER_ID]]\n",
    "df_item_name = cur_df[['ItemIndex',ITEM_ID]]\n",
    "\n",
    "total_review = len(cur_df)\n",
    "\n",
    "print(\"Number of User: {0}\".format(df_user_name['UserIndex'].nunique()))\n",
    "print(\"Number of Item: {0}\".format(df_item_name['ItemIndex'].nunique()))\n",
    "print(\"Number of Positive Review: {0}\".format(sum(cur_df['Binary'].tolist())))\n",
    "print(\"Number of key Phrase: {0}\".format(len(df_keyphrases)))\n",
    "print(\"Number of reviews: {0}\".format(total_review))"
   ]
  },
  {
   "cell_type": "code",
   "execution_count": 210,
   "metadata": {},
   "outputs": [
    {
     "name": "stdout",
     "output_type": "stream",
     "text": [
      "positive/all review ratio is around:  24 %\n"
     ]
    }
   ],
   "source": [
    "print ('positive/all review ratio is around: ', round(36955/157038*100), \"%\")"
   ]
  },
  {
   "cell_type": "code",
   "execution_count": 211,
   "metadata": {
    "scrolled": false
   },
   "outputs": [
    {
     "data": {
      "text/plain": [
       "<matplotlib.axes._subplots.AxesSubplot at 0x1f5d2e1d160>"
      ]
     },
     "execution_count": 211,
     "metadata": {},
     "output_type": "execute_result"
    },
    {
     "data": {
      "image/png": "[encoded data removed]",
      "text/plain": [
       "<matplotlib.figure.Figure at 0x1f5e6c629e8>"
      ]
     },
     "metadata": {},
     "output_type": "display_data"
    }
   ],
   "source": [
    "cur_df['rating'].hist()"
   ]
  },
  {
   "cell_type": "markdown",
   "metadata": {},
   "source": [
    "# Save processed data"
   ]
  },
  {
   "cell_type": "code",
   "execution_count": 227,
   "metadata": {
    "collapsed": true
   },
   "outputs": [],
   "source": [
    "dataPath = '../../data/yelp/'\n",
    "\n",
    "cur_df.to_csv(dataPath+'Data.csv')\n",
    "df_word_index.to_csv(dataPath+'WordIndex.csv')\n",
    "df_keyphrases.to_csv(dataPath+'KeyPhrases.csv')\n",
    "df_user_name.to_csv(dataPath+'UserIndex.csv')\n",
    "df_item_name.to_csv(dataPath+'ItemIndex.csv')"
   ]
  },
  {
   "cell_type": "code",
   "execution_count": 199,
   "metadata": {
    "collapsed": true,
    "scrolled": true
   },
   "outputs": [],
   "source": [
    "cur_df = pd.read_csv('../../data/yelp/Data.csv', index_col=0,  encoding='latin-1')"
   ]
  },
  {
   "cell_type": "markdown",
   "metadata": {},
   "source": [
    "# Data Sparsity"
   ]
  },
  {
   "cell_type": "code",
   "execution_count": 201,
   "metadata": {
    "scrolled": true
   },
   "outputs": [
    {
     "data": {
      "text/plain": [
       "157038"
      ]
     },
     "execution_count": 201,
     "metadata": {},
     "output_type": "execute_result"
    }
   ],
   "source": [
    "len(cur_df)"
   ]
  },
  {
   "cell_type": "code",
   "execution_count": 203,
   "metadata": {},
   "outputs": [
    {
     "data": {
      "text/plain": [
       "\"This place is located inside Pacific Mall and I believe it's the first store in Toronto (I haven't encountered one like this yet). Apparently, it's very popular around the world, with locations all shown on their poster. As a promotion, they have buy 1 get 1, until the end of today! So today is a great idea to try it. I tried the Oreo milk tea because they ran out of their lemon mango slush. I thought it wasn't that great. The milk tea and the Oreo didn't go too well. I also tried the lemon black tea which was a lot better, maybe this is why their name is called happy lemon, as its their specialty. For the service, it was friendly but the wait took a long time! Because of their promotion, they told us to return in 30 minutes to get our drinks and it looks like their computers were down and it was cash only.Perhaps I will give this place another try, although for a large lemon tea, it was a bit pricey at $6.50.\""
      ]
     },
     "execution_count": 203,
     "metadata": {},
     "output_type": "execute_result"
    }
   ],
   "source": [
    "cur_df.loc[15][REVIEW_TEXT]"
   ]
  },
  {
   "cell_type": "code",
   "execution_count": 171,
   "metadata": {
    "collapsed": true
   },
   "outputs": [],
   "source": [
    "cur_df[BINARY_RATING] = (cur_df[RATING] >= 4)*1"
   ]
  },
  {
   "cell_type": "code",
   "execution_count": 204,
   "metadata": {},
   "outputs": [
    {
     "data": {
      "text/plain": [
       "36955"
      ]
     },
     "execution_count": 204,
     "metadata": {},
     "output_type": "execute_result"
    }
   ],
   "source": [
    "len(cur_df[cur_df[BINARY_RATING] == 1])"
   ]
  },
  {
   "cell_type": "code",
   "execution_count": 205,
   "metadata": {},
   "outputs": [
    {
     "data": {
      "text/plain": [
       "2343"
      ]
     },
     "execution_count": 205,
     "metadata": {},
     "output_type": "execute_result"
    }
   ],
   "source": [
    "cur_df['UserIndex'].nunique()"
   ]
  },
  {
   "cell_type": "code",
   "execution_count": 206,
   "metadata": {},
   "outputs": [
    {
     "data": {
      "text/plain": [
       "7456"
      ]
     },
     "execution_count": 206,
     "metadata": {},
     "output_type": "execute_result"
    }
   ],
   "source": [
    "cur_df['ItemIndex'].nunique()"
   ]
  },
  {
   "cell_type": "code",
   "execution_count": 208,
   "metadata": {},
   "outputs": [
    {
     "data": {
      "text/plain": [
       "0.0021154122681203624"
      ]
     },
     "execution_count": 208,
     "metadata": {},
     "output_type": "execute_result"
    }
   ],
   "source": [
    "36955/(2343*7456)"
   ]
  },
  {
   "cell_type": "code",
   "execution_count": 209,
   "metadata": {
    "scrolled": true
   },
   "outputs": [
    {
     "name": "stdout",
     "output_type": "stream",
     "text": [
      "Number of Positive Review: 36955\n"
     ]
    }
   ],
   "source": [
    "print(\"Number of Positive Review: {0}\".format(sum(cur_df[BINARY_RATING].tolist())))"
   ]
  },
  {
   "cell_type": "code",
   "execution_count": 210,
   "metadata": {},
   "outputs": [
    {
     "name": "stdout",
     "output_type": "stream",
     "text": [
      "The current keyphrase set covers 99.10594887861537% reviews\n",
      "9.92481437613826\n"
     ]
    }
   ],
   "source": [
    "coverage_ratio = 1-len(cur_df[cur_df['keyphrases_indices_length'] == 0])/len(cur_df)\n",
    "print('The current keyphrase set covers {}% reviews'.format(coverage_ratio * 100))\n",
    "print(cur_df['keyphrases_indices_length'].mean())"
   ]
  },
  {
   "cell_type": "code",
   "execution_count": 211,
   "metadata": {},
   "outputs": [
    {
     "name": "stdout",
     "output_type": "stream",
     "text": [
      "A review can have at most 59 keyphrases in the current keyphrase set\n"
     ]
    }
   ],
   "source": [
    "print('A review can have at most {} keyphrases in the current keyphrase set'.format(cur_df['keyphrases_indices_length'].max()))"
   ]
  },
  {
   "cell_type": "code",
   "execution_count": 215,
   "metadata": {},
   "outputs": [
    {
     "data": {
      "image/png": "[encoded data removed]",
      "text/plain": [
       "<matplotlib.figure.Figure at 0x1863bb2c320>"
      ]
     },
     "metadata": {},
     "output_type": "display_data"
    }
   ],
   "source": [
    "import matplotlib.pyplot as plt\n",
    "%matplotlib inline\n",
    "\n",
    "fig1 = plt.figure(figsize=(4, 4), dpi=100)\n",
    "ax1 = fig1.add_subplot(111)\n",
    "\n",
    "cur_df.hist(column='keyphrases_indices_length', ax=ax1)\n",
    "\n",
    "ax1.set_title(\"Keyphrase converage for yelp Toronto\")\n",
    "plt.xlabel('Number of keyphrases in each review')\n",
    "plt.ylabel('Number of reviews')\n",
    "\n",
    "# legend = plt.legend(loc='upper right', shadow=True,prop={'size':10})\n",
    "plt.tight_layout()"
   ]
  },
  {
   "cell_type": "code",
   "execution_count": 216,
   "metadata": {},
   "outputs": [
    {
     "data": {
      "text/plain": [
       "<matplotlib.figure.Figure at 0x18613240fd0>"
      ]
     },
     "metadata": {},
     "output_type": "display_data"
    }
   ],
   "source": [
    "plt.savefig('../figs/keyphrase converage for yelp Toronto')"
   ]
  }
 ],
 "metadata": {
  "kernelspec": {
   "display_name": "Python 2",
   "language": "python",
   "name": "python2"
  },
  "language_info": {
   "codemirror_mode": {
    "name": "ipython",
    "version": 2
   },
   "file_extension": ".py",
   "mimetype": "text/x-python",
   "name": "python",
   "nbconvert_exporter": "python",
   "pygments_lexer": "ipython2",
   "version": "2.7.13"
  }
 },
 "nbformat": 4,
 "nbformat_minor": 2
}
