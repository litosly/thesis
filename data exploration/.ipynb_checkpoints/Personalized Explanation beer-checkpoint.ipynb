{
 "cells": [
  {
   "cell_type": "code",
   "execution_count": 139,
   "metadata": {
    "collapsed": true
   },
   "outputs": [],
   "source": [
    "from ast import literal_eval\n",
    "from os import listdir\n",
    "from os.path import isfile, join\n",
    "from scipy.sparse import csr_matrix, load_npz, save_npz\n",
    "from tqdm import tqdm\n",
    "\n",
    "import seaborn as sns\n",
    "import datetime\n",
    "import json\n",
    "import numpy as np\n",
    "import pandas as pd\n",
    "import time\n",
    "import yaml\n",
    "import scipy.sparse as sparse\n",
    "from ast import literal_eval\n",
    "\n",
    "# For Python2 this have to be done\n",
    "from __future__ import division"
   ]
  },
  {
   "cell_type": "code",
   "execution_count": 6,
   "metadata": {
    "collapsed": true
   },
   "outputs": [],
   "source": [
    "# Load Original Data\n",
    "df_train = pd.read_csv('../../data/beer/Train.csv')\n",
    "df_valid = pd.read_csv('../../data/beer/Valid.csv')\n",
    "df_test = pd.read_csv('../../data/beer/Test.csv')\n",
    "key_phrase = pd.read_csv('../../data/beer/KeyPhrases.csv')"
   ]
  },
  {
   "cell_type": "code",
   "execution_count": 3,
   "metadata": {},
   "outputs": [],
   "source": [
    "# Load U-I Data \n",
    "rtrain = load_npz(\"../../data/beer/Rtrain.npz\")\n",
    "rvalid = load_npz(\"../../data/beer/Rvalid.npz\")\n",
    "rtest = load_npz(\"../../data/beer/Rtest.npz\")"
   ]
  },
  {
   "cell_type": "code",
   "execution_count": 4,
   "metadata": {
    "scrolled": true
   },
   "outputs": [
    {
     "data": {
      "text/plain": [
       "<6370x3668 sparse matrix of type '<type 'numpy.float32'>'\n",
       "\twith 167511 stored elements in Compressed Sparse Row format>"
      ]
     },
     "execution_count": 4,
     "metadata": {},
     "output_type": "execute_result"
    }
   ],
   "source": [
    "rtrain"
   ]
  },
  {
   "cell_type": "code",
   "execution_count": 8,
   "metadata": {
    "scrolled": false
   },
   "outputs": [
    {
     "data": {
      "text/html": [
       "<div>\n",
       "<style scoped>\n",
       "    .dataframe tbody tr th:only-of-type {\n",
       "        vertical-align: middle;\n",
       "    }\n",
       "\n",
       "    .dataframe tbody tr th {\n",
       "        vertical-align: top;\n",
       "    }\n",
       "\n",
       "    .dataframe thead th {\n",
       "        text-align: right;\n",
       "    }\n",
       "</style>\n",
       "<table border=\"1\" class=\"dataframe\">\n",
       "  <thead>\n",
       "    <tr style=\"text-align: right;\">\n",
       "      <th></th>\n",
       "      <th>beer/ABV</th>\n",
       "      <th>beer/name</th>\n",
       "      <th>beer/style</th>\n",
       "      <th>review/overall</th>\n",
       "      <th>review/text</th>\n",
       "      <th>review/timeUnix</th>\n",
       "      <th>user/profileName</th>\n",
       "      <th>Binary</th>\n",
       "      <th>UserIndex</th>\n",
       "      <th>ItemIndex</th>\n",
       "      <th>review</th>\n",
       "      <th>conca_review</th>\n",
       "      <th>keyVector</th>\n",
       "      <th>keyphrases_indices_length</th>\n",
       "    </tr>\n",
       "  </thead>\n",
       "  <tbody>\n",
       "    <tr>\n",
       "      <th>0</th>\n",
       "      <td>5.5</td>\n",
       "      <td>Caldera Pale Ale</td>\n",
       "      <td>American Pale Ale (APA)</td>\n",
       "      <td>4.0</td>\n",
       "      <td>Caldera- Pale Ale\\t\\tPicked up at Grape &amp; Gour...</td>\n",
       "      <td>1251327677</td>\n",
       "      <td>NJpadreFan</td>\n",
       "      <td>0</td>\n",
       "      <td>1767</td>\n",
       "      <td>659</td>\n",
       "      <td>['caldera', 'pale', 'ale', 'picked', 'grape', ...</td>\n",
       "      <td>caldera pale ale picked grape gourmet vb ligh...</td>\n",
       "      <td>[1, 7, 12, 14, 16, 29, 31, 34, 39, 40, 42, 45]</td>\n",
       "      <td>12</td>\n",
       "    </tr>\n",
       "    <tr>\n",
       "      <th>1</th>\n",
       "      <td>5.5</td>\n",
       "      <td>Caldera Pale Ale</td>\n",
       "      <td>American Pale Ale (APA)</td>\n",
       "      <td>2.5</td>\n",
       "      <td>12 oz. can poured into a pint glass. I really ...</td>\n",
       "      <td>1250928902</td>\n",
       "      <td>vacax</td>\n",
       "      <td>0</td>\n",
       "      <td>6159</td>\n",
       "      <td>659</td>\n",
       "      <td>['oz', 'poured', 'pint', 'glass', 'really', 'l...</td>\n",
       "      <td>oz poured pint glass really like beer like pa...</td>\n",
       "      <td>[1, 16, 18, 20, 24, 39, 42, 43, 45, 55]</td>\n",
       "      <td>10</td>\n",
       "    </tr>\n",
       "    <tr>\n",
       "      <th>2</th>\n",
       "      <td>5.5</td>\n",
       "      <td>Caldera Pale Ale</td>\n",
       "      <td>American Pale Ale (APA)</td>\n",
       "      <td>4.0</td>\n",
       "      <td>A: Pours a cloudy orange with a crisp white tw...</td>\n",
       "      <td>1249866208</td>\n",
       "      <td>d0ggnate</td>\n",
       "      <td>0</td>\n",
       "      <td>3516</td>\n",
       "      <td>659</td>\n",
       "      <td>['pours', 'cloudy', 'orange', 'crisp', 'white'...</td>\n",
       "      <td>pours cloudy orange crisp white two finger he...</td>\n",
       "      <td>[12, 36, 39, 42]</td>\n",
       "      <td>4</td>\n",
       "    </tr>\n",
       "    <tr>\n",
       "      <th>3</th>\n",
       "      <td>5.5</td>\n",
       "      <td>Caldera Pale Ale</td>\n",
       "      <td>American Pale Ale (APA)</td>\n",
       "      <td>4.5</td>\n",
       "      <td>Received this can through Beer Powerball. I am...</td>\n",
       "      <td>1249847121</td>\n",
       "      <td>babyhobbes</td>\n",
       "      <td>1</td>\n",
       "      <td>2893</td>\n",
       "      <td>659</td>\n",
       "      <td>['received', 'beer', 'powerball', 'really', 's...</td>\n",
       "      <td>received beer powerball really sorry nt know ...</td>\n",
       "      <td>[12, 42]</td>\n",
       "      <td>2</td>\n",
       "    </tr>\n",
       "    <tr>\n",
       "      <th>4</th>\n",
       "      <td>5.5</td>\n",
       "      <td>Caldera Pale Ale</td>\n",
       "      <td>American Pale Ale (APA)</td>\n",
       "      <td>4.5</td>\n",
       "      <td>355ml can bought from Beersofeurope.com...\\t\\t...</td>\n",
       "      <td>1249556277</td>\n",
       "      <td>mdagnew</td>\n",
       "      <td>1</td>\n",
       "      <td>4858</td>\n",
       "      <td>659</td>\n",
       "      <td>['bought', 'beersofeurope', 'com', 'poured', '...</td>\n",
       "      <td>bought beersofeurope com poured golden yellow...</td>\n",
       "      <td>[1, 5, 7, 12, 14, 16, 18, 19, 26, 31, 34, 40, ...</td>\n",
       "      <td>18</td>\n",
       "    </tr>\n",
       "  </tbody>\n",
       "</table>\n",
       "</div>"
      ],
      "text/plain": [
       "   beer/ABV         beer/name               beer/style  review/overall  \\\n",
       "0       5.5  Caldera Pale Ale  American Pale Ale (APA)             4.0   \n",
       "1       5.5  Caldera Pale Ale  American Pale Ale (APA)             2.5   \n",
       "2       5.5  Caldera Pale Ale  American Pale Ale (APA)             4.0   \n",
       "3       5.5  Caldera Pale Ale  American Pale Ale (APA)             4.5   \n",
       "4       5.5  Caldera Pale Ale  American Pale Ale (APA)             4.5   \n",
       "\n",
       "                                         review/text  review/timeUnix  \\\n",
       "0  Caldera- Pale Ale\\t\\tPicked up at Grape & Gour...       1251327677   \n",
       "1  12 oz. can poured into a pint glass. I really ...       1250928902   \n",
       "2  A: Pours a cloudy orange with a crisp white tw...       1249866208   \n",
       "3  Received this can through Beer Powerball. I am...       1249847121   \n",
       "4  355ml can bought from Beersofeurope.com...\\t\\t...       1249556277   \n",
       "\n",
       "  user/profileName  Binary  UserIndex  ItemIndex  \\\n",
       "0       NJpadreFan       0       1767        659   \n",
       "1            vacax       0       6159        659   \n",
       "2         d0ggnate       0       3516        659   \n",
       "3       babyhobbes       1       2893        659   \n",
       "4          mdagnew       1       4858        659   \n",
       "\n",
       "                                              review  \\\n",
       "0  ['caldera', 'pale', 'ale', 'picked', 'grape', ...   \n",
       "1  ['oz', 'poured', 'pint', 'glass', 'really', 'l...   \n",
       "2  ['pours', 'cloudy', 'orange', 'crisp', 'white'...   \n",
       "3  ['received', 'beer', 'powerball', 'really', 's...   \n",
       "4  ['bought', 'beersofeurope', 'com', 'poured', '...   \n",
       "\n",
       "                                        conca_review  \\\n",
       "0   caldera pale ale picked grape gourmet vb ligh...   \n",
       "1   oz poured pint glass really like beer like pa...   \n",
       "2   pours cloudy orange crisp white two finger he...   \n",
       "3   received beer powerball really sorry nt know ...   \n",
       "4   bought beersofeurope com poured golden yellow...   \n",
       "\n",
       "                                           keyVector  \\\n",
       "0     [1, 7, 12, 14, 16, 29, 31, 34, 39, 40, 42, 45]   \n",
       "1            [1, 16, 18, 20, 24, 39, 42, 43, 45, 55]   \n",
       "2                                   [12, 36, 39, 42]   \n",
       "3                                           [12, 42]   \n",
       "4  [1, 5, 7, 12, 14, 16, 18, 19, 26, 31, 34, 40, ...   \n",
       "\n",
       "   keyphrases_indices_length  \n",
       "0                         12  \n",
       "1                         10  \n",
       "2                          4  \n",
       "3                          2  \n",
       "4                         18  "
      ]
     },
     "execution_count": 8,
     "metadata": {},
     "output_type": "execute_result"
    }
   ],
   "source": [
    "df_train.head()"
   ]
  },
  {
   "cell_type": "code",
   "execution_count": 7,
   "metadata": {
    "collapsed": true
   },
   "outputs": [],
   "source": [
    "# Models\n",
    "from sklearn.metrics.pairwise import cosine_similarity\n",
    "def train(matrix_train):\n",
    "    similarity = cosine_similarity(X=matrix_train, Y=None, dense_output=True)\n",
    "    return similarity\n",
    "\n",
    "def get_I_K(df, row_name = 'ItemIndex', shape = (3668,75)):\n",
    "    rows = []\n",
    "    cols = []\n",
    "    vals = []\n",
    "    for i in tqdm(range(df.shape[0])):\n",
    "        key_vector = literal_eval(df['keyVector'][i])\n",
    "        rows.extend([df[row_name][i]]*len(key_vector)) ## Item index\n",
    "        cols.extend(key_vector) ## Keyword Index\n",
    "#         if binary:\n",
    "        vals.extend(np.array([1]*len(key_vector)))\n",
    "#         else:\n",
    "#             vals.extend(arr[arr.nonzero()])    \n",
    "    return csr_matrix((vals, (rows, cols)), shape=shape)\n",
    "\n",
    "\n",
    "def predict(matrix_train, k, similarity, item_similarity_en = False):\n",
    "    \"\"\"\n",
    "    res = similarity * matrix_train    if item_similarity_en = False\n",
    "    res = similarity * matrix_train.T  if item_similarity_en = True\n",
    "    \"\"\"\n",
    "    prediction_scores = []\n",
    "    \n",
    "    if item_similarity_en:\n",
    "        matrix_train = matrix_train.transpose()\n",
    "        \n",
    "    for user_index in tqdm(range(matrix_train.shape[0])):\n",
    "        # Get user u's prediction scores to all users\n",
    "        vector_u = similarity[user_index]\n",
    "\n",
    "        # Get closest K neighbors excluding user u self\n",
    "        similar_users = vector_u.argsort()[::-1][1:k+1]\n",
    "        # Get neighbors similarity weights and ratings\n",
    "        similar_users_weights = similarity[user_index][similar_users]\n",
    "        similar_users_ratings = matrix_train[similar_users].toarray()\n",
    "\n",
    "        prediction_scores_u = similar_users_ratings * similar_users_weights[:, np.newaxis]\n",
    "\n",
    "        prediction_scores.append(np.sum(prediction_scores_u, axis=0))\n",
    "    res = np.array(prediction_scores)\n",
    "    \n",
    "    if item_similarity_en:\n",
    "        res = res.transpose()\n",
    "    \n",
    "    return res\n",
    "\n",
    "def prediction(prediction_score, topK, matrix_Train):\n",
    "\n",
    "    prediction = []\n",
    "\n",
    "    for user_index in tqdm(range(matrix_Train.shape[0])):\n",
    "        vector_u = prediction_score[user_index]\n",
    "        vector_train = matrix_Train[user_index]\n",
    "        if len(vector_train.nonzero()[0]) > 0:\n",
    "            vector_predict = sub_routine(vector_u, vector_train, topK=topK)\n",
    "        else:\n",
    "            vector_predict = np.zeros(topK, dtype=np.float32)\n",
    "\n",
    "        prediction.append(vector_predict)\n",
    "\n",
    "    return np.vstack(prediction)\n",
    "\n",
    "\n",
    "def sub_routine(vector_u, vector_train, topK=500):\n",
    "\n",
    "    train_index = vector_train.nonzero()[1]\n",
    "\n",
    "    vector_u = vector_u\n",
    "\n",
    "    candidate_index = np.argpartition(-vector_u, topK+len(train_index))[:topK+len(train_index)]\n",
    "    vector_u = candidate_index[vector_u[candidate_index].argsort()[::-1]]\n",
    "    vector_u = np.delete(vector_u, np.isin(vector_u, train_index).nonzero()[0])\n",
    "\n",
    "    return vector_u[:topK]\n"
   ]
  },
  {
   "cell_type": "markdown",
   "metadata": {},
   "source": [
    "# U_K * U_U = U_K"
   ]
  },
  {
   "cell_type": "code",
   "execution_count": 99,
   "metadata": {
    "scrolled": true
   },
   "outputs": [],
   "source": [
    "# U_K = get_I_K(df_train, row_name = 'UserIndex', shape = (6370,75))\n",
    "U_K = load_npz('../../data/beer/U_K.npz')"
   ]
  },
  {
   "cell_type": "code",
   "execution_count": 10,
   "metadata": {
    "collapsed": true
   },
   "outputs": [],
   "source": [
    "U_U_fromUI = train(rtrain)\n",
    "U_U_fromUK = train(U_K)"
   ]
  },
  {
   "cell_type": "code",
   "execution_count": 11,
   "metadata": {},
   "outputs": [
    {
     "name": "stderr",
     "output_type": "stream",
     "text": [
      "100%|████████████████████████████████████████████████████████████████████████████| 6370/6370 [00:02<00:00, 2489.25it/s]\n"
     ]
    }
   ],
   "source": [
    "k = 10\n",
    "testres = predict(U_K, k, U_U_fromUI, item_similarity_en=False)"
   ]
  },
  {
   "cell_type": "markdown",
   "metadata": {},
   "source": [
    "### Normalization"
   ]
  },
  {
   "cell_type": "code",
   "execution_count": 17,
   "metadata": {},
   "outputs": [
    {
     "name": "stdout",
     "output_type": "stream",
     "text": [
      "True\n"
     ]
    }
   ],
   "source": [
    "import numpy as np\n",
    "from sklearn.preprocessing import normalize\n",
    "\n",
    "x = np.random.rand(1000)*10\n",
    "norm1 = x / np.linalg.norm(x)\n",
    "norm2 = normalize(x[:,np.newaxis], axis=0).ravel()\n",
    "print np.all(norm1 == norm2)\n",
    "# True"
   ]
  },
  {
   "cell_type": "markdown",
   "metadata": {},
   "source": [
    "## Direct Multiplication of U_K matrices"
   ]
  },
  {
   "cell_type": "code",
   "execution_count": 15,
   "metadata": {
    "scrolled": true
   },
   "outputs": [
    {
     "data": {
      "text/plain": [
       "array([ 84.00923042, 215.8694369 , 105.07053825,   8.86858186,\n",
       "        25.78474239,  51.06063677,  78.86394581,  21.29825376,\n",
       "        63.25317055,  25.95691679,  28.74760556,  41.67915888,\n",
       "        85.61797327,  16.12536277, 144.97887605,   3.25411236,\n",
       "       143.26558426,  10.80280311,  27.22940387,  32.16788881,\n",
       "        22.40749618,  68.35865185,  22.02200086,  17.6461527 ,\n",
       "        30.71776073,   6.84443329,  52.27788997,  17.57675762,\n",
       "        11.94877864,   5.81463091,  42.41261208,  36.93191479,\n",
       "        29.80877489,  10.17466521,  41.2171516 ,  11.58094957,\n",
       "        21.56327735,   3.67121929,  21.46959995,  85.16300964,\n",
       "        37.56942199,  52.77996747, 101.33686914, 105.63312288,\n",
       "       108.88178651,  98.73462543,  29.30211134,  20.35339764,\n",
       "        19.46589303,   3.7303917 ,  76.21329193,  31.93960953,\n",
       "        15.91736342,   4.90339676,   5.75619879,  69.36156599,\n",
       "        18.50684226,   1.58225504,  59.92660914,  12.62514187,\n",
       "        16.19339716,  27.11780505,  30.83943269,   6.19179751,\n",
       "        18.95821415,  24.22539493,  18.0609204 ,  21.40700412,\n",
       "        42.63905938,   9.20757399,   9.29486783,  22.33268118,\n",
       "         4.70859022,  10.25780714,  30.75101358])"
      ]
     },
     "execution_count": 15,
     "metadata": {},
     "output_type": "execute_result"
    }
   ],
   "source": [
    "testres[0]"
   ]
  },
  {
   "cell_type": "code",
   "execution_count": 18,
   "metadata": {},
   "outputs": [
    {
     "data": {
      "text/plain": [
       "array([0.17533304, 0.45053436, 0.21928944, 0.01850934, 0.05381453,\n",
       "       0.10656706, 0.16459448, 0.04445092, 0.13201372, 0.05417387,\n",
       "       0.05999823, 0.08698727, 0.1786906 , 0.03365474, 0.30258088,\n",
       "       0.00679156, 0.29900513, 0.02254619, 0.05682964, 0.0671366 ,\n",
       "       0.04676599, 0.14266921, 0.04596143, 0.03682873, 0.06411008,\n",
       "       0.0142848 , 0.10910755, 0.0366839 , 0.02493792, 0.01213553,\n",
       "       0.08851804, 0.07707945, 0.06221296, 0.02123523, 0.08602303,\n",
       "       0.02417024, 0.04500404, 0.00766209, 0.04480853, 0.17774106,\n",
       "       0.07840997, 0.11015542, 0.21149701, 0.22046359, 0.22724378,\n",
       "       0.20606595, 0.06115552, 0.04247894, 0.04062666, 0.00778558,\n",
       "       0.15906238, 0.06666016, 0.03322063, 0.01023373, 0.01201358,\n",
       "       0.14476236, 0.03862505, 0.00330228, 0.12507095, 0.02634954,\n",
       "       0.03379673, 0.05659672, 0.06436402, 0.01292271, 0.0395671 ,\n",
       "       0.05056007, 0.03769438, 0.04467789, 0.08899065, 0.01921684,\n",
       "       0.01939903, 0.04660984, 0.00982715, 0.02140875, 0.06417948])"
      ]
     },
     "execution_count": 18,
     "metadata": {},
     "output_type": "execute_result"
    }
   ],
   "source": [
    "normalize(testres[0][:,np.newaxis], axis=0).ravel()"
   ]
  },
  {
   "cell_type": "code",
   "execution_count": 30,
   "metadata": {},
   "outputs": [
    {
     "data": {
      "text/plain": [
       "array([ 7, 35, 27,  1,  6,  5, 13,  6,  9,  0,  4,  7, 13,  6, 44,  1, 20,\n",
       "        4,  7,  2,  7, 16,  8,  1,  4,  0, 11,  3,  0,  1, 16, 14,  4,  3,\n",
       "        9,  2, 19,  2,  3, 13, 10,  5,  6, 22, 17,  5,  0, 11,  1,  1, 13,\n",
       "        4,  1,  5,  4, 10,  4,  0, 15,  0,  7,  4, 12, 10,  7,  2,  1, 15,\n",
       "        2,  0,  6,  0,  2,  2,  0])"
      ]
     },
     "execution_count": 30,
     "metadata": {},
     "output_type": "execute_result"
    }
   ],
   "source": [
    "np.array(U_K.todense()[0])[0]"
   ]
  },
  {
   "cell_type": "code",
   "execution_count": 29,
   "metadata": {},
   "outputs": [
    {
     "data": {
      "text/plain": [
       "array([0.07405438, 0.37027191, 0.28563833, 0.0105792 , 0.06347518,\n",
       "       0.05289599, 0.13752957, 0.06347518, 0.09521278, 0.        ,\n",
       "       0.04231679, 0.07405438, 0.13752957, 0.06347518, 0.46548469,\n",
       "       0.0105792 , 0.21158395, 0.04231679, 0.07405438, 0.02115839,\n",
       "       0.07405438, 0.16926716, 0.08463358, 0.0105792 , 0.04231679,\n",
       "       0.        , 0.11637117, 0.03173759, 0.        , 0.0105792 ,\n",
       "       0.16926716, 0.14810876, 0.04231679, 0.03173759, 0.09521278,\n",
       "       0.02115839, 0.20100475, 0.02115839, 0.03173759, 0.13752957,\n",
       "       0.10579197, 0.05289599, 0.06347518, 0.23274234, 0.17984636,\n",
       "       0.05289599, 0.        , 0.11637117, 0.0105792 , 0.0105792 ,\n",
       "       0.13752957, 0.04231679, 0.0105792 , 0.05289599, 0.04231679,\n",
       "       0.10579197, 0.04231679, 0.        , 0.15868796, 0.        ,\n",
       "       0.07405438, 0.04231679, 0.12695037, 0.10579197, 0.07405438,\n",
       "       0.02115839, 0.0105792 , 0.15868796, 0.02115839, 0.        ,\n",
       "       0.06347518, 0.        , 0.02115839, 0.02115839, 0.        ])"
      ]
     },
     "execution_count": 29,
     "metadata": {},
     "output_type": "execute_result"
    }
   ],
   "source": [
    "normalize(np.array(U_K.todense()[0])[0][:,np.newaxis], axis=0).ravel()"
   ]
  },
  {
   "cell_type": "code",
   "execution_count": 14,
   "metadata": {
    "scrolled": true
   },
   "outputs": [
    {
     "name": "stderr",
     "output_type": "stream",
     "text": [
      "100%|████████████████████████████████████████████████████████████████████████████| 6370/6370 [00:02<00:00, 2432.23it/s]\n"
     ]
    }
   ],
   "source": [
    "res = predict(U_K, 10, u_similarity)"
   ]
  },
  {
   "cell_type": "code",
   "execution_count": 33,
   "metadata": {
    "scrolled": true
   },
   "outputs": [
    {
     "data": {
      "text/plain": [
       "matrix([[ 7, 35, 27,  1,  6,  5, 13,  6,  9,  4,  7, 13,  6, 44,  1, 20,\n",
       "          4,  7,  2,  7, 16,  8,  1,  4, 11,  3,  1, 16, 14,  4,  3,  9,\n",
       "          2, 19,  2,  3, 13, 10,  5,  6, 22, 17,  5, 11,  1,  1, 13,  4,\n",
       "          1,  5,  4, 10,  4, 15,  7,  4, 12, 10,  7,  2,  1, 15,  2,  6,\n",
       "          2,  2]])"
      ]
     },
     "execution_count": 33,
     "metadata": {},
     "output_type": "execute_result"
    }
   ],
   "source": [
    "U_K[0][U_K[0].nonzero()]"
   ]
  },
  {
   "cell_type": "markdown",
   "metadata": {
    "collapsed": true
   },
   "source": [
    "## Creating a sterotype user u1"
   ]
  },
  {
   "cell_type": "code",
   "execution_count": 215,
   "metadata": {},
   "outputs": [],
   "source": [
    "U_K = load_npz('../../data/beer/U_K.npz')\n",
    "U_K = normalize(U_K)"
   ]
  },
  {
   "cell_type": "code",
   "execution_count": 239,
   "metadata": {
    "scrolled": true
   },
   "outputs": [
    {
     "data": {
      "text/html": [
       "<div>\n",
       "<style scoped>\n",
       "    .dataframe tbody tr th:only-of-type {\n",
       "        vertical-align: middle;\n",
       "    }\n",
       "\n",
       "    .dataframe tbody tr th {\n",
       "        vertical-align: top;\n",
       "    }\n",
       "\n",
       "    .dataframe thead th {\n",
       "        text-align: right;\n",
       "    }\n",
       "</style>\n",
       "<table border=\"1\" class=\"dataframe\">\n",
       "  <thead>\n",
       "    <tr style=\"text-align: right;\">\n",
       "      <th></th>\n",
       "      <th>Phrases</th>\n",
       "    </tr>\n",
       "  </thead>\n",
       "  <tbody>\n",
       "    <tr>\n",
       "      <th>0</th>\n",
       "      <td>roast</td>\n",
       "    </tr>\n",
       "    <tr>\n",
       "      <th>1</th>\n",
       "      <td>sweet</td>\n",
       "    </tr>\n",
       "    <tr>\n",
       "      <th>2</th>\n",
       "      <td>caramel</td>\n",
       "    </tr>\n",
       "    <tr>\n",
       "      <th>3</th>\n",
       "      <td>backbone</td>\n",
       "    </tr>\n",
       "    <tr>\n",
       "      <th>4</th>\n",
       "      <td>toast</td>\n",
       "    </tr>\n",
       "    <tr>\n",
       "      <th>5</th>\n",
       "      <td>bread</td>\n",
       "    </tr>\n",
       "    <tr>\n",
       "      <th>6</th>\n",
       "      <td>chocolate</td>\n",
       "    </tr>\n",
       "    <tr>\n",
       "      <th>7</th>\n",
       "      <td>biscuit</td>\n",
       "    </tr>\n",
       "    <tr>\n",
       "      <th>8</th>\n",
       "      <td>coffee</td>\n",
       "    </tr>\n",
       "    <tr>\n",
       "      <th>9</th>\n",
       "      <td>wheat</td>\n",
       "    </tr>\n",
       "    <tr>\n",
       "      <th>10</th>\n",
       "      <td>grain</td>\n",
       "    </tr>\n",
       "    <tr>\n",
       "      <th>11</th>\n",
       "      <td>yeast</td>\n",
       "    </tr>\n",
       "    <tr>\n",
       "      <th>12</th>\n",
       "      <td>citrus</td>\n",
       "    </tr>\n",
       "    <tr>\n",
       "      <th>13</th>\n",
       "      <td>toffee</td>\n",
       "    </tr>\n",
       "    <tr>\n",
       "      <th>14</th>\n",
       "      <td>fruit</td>\n",
       "    </tr>\n",
       "    <tr>\n",
       "      <th>15</th>\n",
       "      <td>nutty</td>\n",
       "    </tr>\n",
       "    <tr>\n",
       "      <th>16</th>\n",
       "      <td>bitter</td>\n",
       "    </tr>\n",
       "    <tr>\n",
       "      <th>17</th>\n",
       "      <td>barley</td>\n",
       "    </tr>\n",
       "    <tr>\n",
       "      <th>18</th>\n",
       "      <td>floral</td>\n",
       "    </tr>\n",
       "    <tr>\n",
       "      <th>19</th>\n",
       "      <td>honey</td>\n",
       "    </tr>\n",
       "    <tr>\n",
       "      <th>20</th>\n",
       "      <td>earthy</td>\n",
       "    </tr>\n",
       "    <tr>\n",
       "      <th>21</th>\n",
       "      <td>spic</td>\n",
       "    </tr>\n",
       "    <tr>\n",
       "      <th>22</th>\n",
       "      <td>smok</td>\n",
       "    </tr>\n",
       "    <tr>\n",
       "      <th>23</th>\n",
       "      <td>molass</td>\n",
       "    </tr>\n",
       "    <tr>\n",
       "      <th>24</th>\n",
       "      <td>sugar</td>\n",
       "    </tr>\n",
       "    <tr>\n",
       "      <th>25</th>\n",
       "      <td>rye</td>\n",
       "    </tr>\n",
       "    <tr>\n",
       "      <th>26</th>\n",
       "      <td>grass</td>\n",
       "    </tr>\n",
       "    <tr>\n",
       "      <th>27</th>\n",
       "      <td>cocoa</td>\n",
       "    </tr>\n",
       "    <tr>\n",
       "      <th>28</th>\n",
       "      <td>chew</td>\n",
       "    </tr>\n",
       "    <tr>\n",
       "      <th>29</th>\n",
       "      <td>butter</td>\n",
       "    </tr>\n",
       "    <tr>\n",
       "      <th>...</th>\n",
       "      <td>...</td>\n",
       "    </tr>\n",
       "    <tr>\n",
       "      <th>45</th>\n",
       "      <td>gold</td>\n",
       "    </tr>\n",
       "    <tr>\n",
       "      <th>46</th>\n",
       "      <td>beige</td>\n",
       "    </tr>\n",
       "    <tr>\n",
       "      <th>47</th>\n",
       "      <td>copper</td>\n",
       "    </tr>\n",
       "    <tr>\n",
       "      <th>48</th>\n",
       "      <td>mocha</td>\n",
       "    </tr>\n",
       "    <tr>\n",
       "      <th>49</th>\n",
       "      <td>khaki</td>\n",
       "    </tr>\n",
       "    <tr>\n",
       "      <th>50</th>\n",
       "      <td>black</td>\n",
       "    </tr>\n",
       "    <tr>\n",
       "      <th>51</th>\n",
       "      <td>yellow</td>\n",
       "    </tr>\n",
       "    <tr>\n",
       "      <th>52</th>\n",
       "      <td>watery</td>\n",
       "    </tr>\n",
       "    <tr>\n",
       "      <th>53</th>\n",
       "      <td>slick</td>\n",
       "    </tr>\n",
       "    <tr>\n",
       "      <th>54</th>\n",
       "      <td>silk</td>\n",
       "    </tr>\n",
       "    <tr>\n",
       "      <th>55</th>\n",
       "      <td>smooth</td>\n",
       "    </tr>\n",
       "    <tr>\n",
       "      <th>56</th>\n",
       "      <td>syrup</td>\n",
       "    </tr>\n",
       "    <tr>\n",
       "      <th>57</th>\n",
       "      <td>velvet</td>\n",
       "    </tr>\n",
       "    <tr>\n",
       "      <th>58</th>\n",
       "      <td>red</td>\n",
       "    </tr>\n",
       "    <tr>\n",
       "      <th>59</th>\n",
       "      <td>mahogany</td>\n",
       "    </tr>\n",
       "    <tr>\n",
       "      <th>60</th>\n",
       "      <td>ruby</td>\n",
       "    </tr>\n",
       "    <tr>\n",
       "      <th>61</th>\n",
       "      <td>tulip</td>\n",
       "    </tr>\n",
       "    <tr>\n",
       "      <th>62</th>\n",
       "      <td>cherry</td>\n",
       "    </tr>\n",
       "    <tr>\n",
       "      <th>63</th>\n",
       "      <td>plum</td>\n",
       "    </tr>\n",
       "    <tr>\n",
       "      <th>64</th>\n",
       "      <td>berry</td>\n",
       "    </tr>\n",
       "    <tr>\n",
       "      <th>65</th>\n",
       "      <td>banana</td>\n",
       "    </tr>\n",
       "    <tr>\n",
       "      <th>66</th>\n",
       "      <td>bourbon</td>\n",
       "    </tr>\n",
       "    <tr>\n",
       "      <th>67</th>\n",
       "      <td>oak</td>\n",
       "    </tr>\n",
       "    <tr>\n",
       "      <th>68</th>\n",
       "      <td>apple</td>\n",
       "    </tr>\n",
       "    <tr>\n",
       "      <th>69</th>\n",
       "      <td>metallic</td>\n",
       "    </tr>\n",
       "    <tr>\n",
       "      <th>70</th>\n",
       "      <td>raspberry</td>\n",
       "    </tr>\n",
       "    <tr>\n",
       "      <th>71</th>\n",
       "      <td>clove</td>\n",
       "    </tr>\n",
       "    <tr>\n",
       "      <th>72</th>\n",
       "      <td>apricot</td>\n",
       "    </tr>\n",
       "    <tr>\n",
       "      <th>73</th>\n",
       "      <td>coriander</td>\n",
       "    </tr>\n",
       "    <tr>\n",
       "      <th>74</th>\n",
       "      <td>pepper</td>\n",
       "    </tr>\n",
       "  </tbody>\n",
       "</table>\n",
       "<p>75 rows × 1 columns</p>\n",
       "</div>"
      ],
      "text/plain": [
       "      Phrases\n",
       "0       roast\n",
       "1       sweet\n",
       "2     caramel\n",
       "3    backbone\n",
       "4       toast\n",
       "5       bread\n",
       "6   chocolate\n",
       "7     biscuit\n",
       "8      coffee\n",
       "9       wheat\n",
       "10      grain\n",
       "11      yeast\n",
       "12     citrus\n",
       "13     toffee\n",
       "14      fruit\n",
       "15      nutty\n",
       "16     bitter\n",
       "17     barley\n",
       "18     floral\n",
       "19      honey\n",
       "20     earthy\n",
       "21       spic\n",
       "22       smok\n",
       "23     molass\n",
       "24      sugar\n",
       "25       rye \n",
       "26      grass\n",
       "27      cocoa\n",
       "28       chew\n",
       "29     butter\n",
       "..        ...\n",
       "45       gold\n",
       "46      beige\n",
       "47     copper\n",
       "48      mocha\n",
       "49      khaki\n",
       "50      black\n",
       "51     yellow\n",
       "52     watery\n",
       "53      slick\n",
       "54       silk\n",
       "55     smooth\n",
       "56      syrup\n",
       "57     velvet\n",
       "58       red \n",
       "59   mahogany\n",
       "60       ruby\n",
       "61      tulip\n",
       "62     cherry\n",
       "63       plum\n",
       "64      berry\n",
       "65     banana\n",
       "66    bourbon\n",
       "67        oak\n",
       "68      apple\n",
       "69   metallic\n",
       "70  raspberry\n",
       "71      clove\n",
       "72    apricot\n",
       "73  coriander\n",
       "74     pepper\n",
       "\n",
       "[75 rows x 1 columns]"
      ]
     },
     "execution_count": 239,
     "metadata": {},
     "output_type": "execute_result"
    }
   ],
   "source": [
    "key_phrase"
   ]
  },
  {
   "cell_type": "code",
   "execution_count": 162,
   "metadata": {
    "scrolled": true
   },
   "outputs": [
    {
     "name": "stdout",
     "output_type": "stream",
     "text": [
      "roast\n",
      "sweet\n",
      "caramel\n",
      "backbone\n",
      "toast\n",
      "bread\n",
      "chocolate\n",
      "biscuit\n",
      "coffee\n",
      "wheat\n",
      "grain\n",
      "yeast\n",
      "citrus\n",
      "toffee\n",
      "fruit\n",
      "nutty\n",
      "bitter\n",
      "barley\n",
      "floral\n",
      "honey\n",
      "earthy\n",
      "spic\n",
      "smok\n",
      "molass\n",
      "sugar\n",
      " rye \n",
      "grass\n",
      "cocoa\n",
      "chew\n",
      "butter\n",
      "sour\n",
      " pine \n",
      "herbal\n",
      "citric\n",
      "grapefruit\n",
      "resin\n",
      "crisp\n",
      "pungent\n",
      "wood\n",
      "orang\n",
      "lemon\n",
      "offwhite\n",
      " white\n",
      "tan\n",
      "brown\n",
      "gold\n",
      "beige\n",
      "copper\n",
      "mocha\n",
      "khaki\n",
      "black\n",
      "yellow\n",
      "watery\n",
      "slick\n",
      "silk\n",
      "smooth\n",
      "syrup\n",
      "velvet\n",
      " red \n",
      "mahogany\n",
      "ruby\n",
      "tulip\n",
      "cherry\n",
      "plum\n",
      "berry\n",
      "banana\n",
      "bourbon\n",
      "oak\n",
      "apple\n",
      "metallic\n",
      "raspberry\n",
      "clove\n",
      "apricot\n",
      "coriander\n",
      "pepper\n"
     ]
    }
   ],
   "source": [
    "## All keyphrases\n",
    "for i in key_phrase[\"Phrases\"]:\n",
    "    print i"
   ]
  },
  {
   "cell_type": "code",
   "execution_count": 243,
   "metadata": {
    "scrolled": true
   },
   "outputs": [
    {
     "data": {
      "text/plain": [
       "[]"
      ]
     },
     "execution_count": 243,
     "metadata": {},
     "output_type": "execute_result"
    }
   ],
   "source": [
    "key_phrase.index[key_phrase['Phrases'] == \"beer\"].tolist()"
   ]
  },
  {
   "cell_type": "code",
   "execution_count": 164,
   "metadata": {
    "collapsed": true
   },
   "outputs": [],
   "source": [
    "row1_origin = U_K[0]"
   ]
  },
  {
   "cell_type": "code",
   "execution_count": 207,
   "metadata": {
    "scrolled": true
   },
   "outputs": [
    {
     "name": "stderr",
     "output_type": "stream",
     "text": [
      "D:\\Anaconda\\envs\\py27\\lib\\site-packages\\ipykernel_launcher.py:2: SparseEfficiencyWarning: Changing the sparsity structure of a csr_matrix is expensive. lil_matrix is more efficient.\n",
      "  \n"
     ]
    }
   ],
   "source": [
    "#row1_new\n",
    "U_K[0,:] = 0"
   ]
  },
  {
   "cell_type": "code",
   "execution_count": 208,
   "metadata": {
    "collapsed": true
   },
   "outputs": [],
   "source": [
    "#Add number 60, \"ruby\" to the keyphrase\n",
    "U_K[0,60] = 1"
   ]
  },
  {
   "cell_type": "code",
   "execution_count": 197,
   "metadata": {
    "scrolled": true
   },
   "outputs": [
    {
     "name": "stdout",
     "output_type": "stream",
     "text": [
      "  (0, 0)\t0.0\n",
      "  (0, 1)\t0.0\n",
      "  (0, 2)\t0.0\n",
      "  (0, 3)\t0.0\n",
      "  (0, 4)\t0.0\n",
      "  (0, 5)\t0.0\n",
      "  (0, 6)\t0.0\n",
      "  (0, 7)\t0.0\n",
      "  (0, 8)\t0.0\n",
      "  (0, 9)\t0.0\n",
      "  (0, 10)\t0.0\n",
      "  (0, 11)\t0.0\n",
      "  (0, 12)\t0.0\n",
      "  (0, 13)\t0.0\n",
      "  (0, 14)\t0.0\n",
      "  (0, 15)\t0.0\n",
      "  (0, 16)\t0.0\n",
      "  (0, 17)\t0.0\n",
      "  (0, 18)\t0.0\n",
      "  (0, 19)\t0.0\n",
      "  (0, 20)\t0.0\n",
      "  (0, 21)\t0.0\n",
      "  (0, 22)\t0.0\n",
      "  (0, 23)\t0.0\n",
      "  (0, 24)\t0.0\n",
      "  :\t:\n",
      "  (6369, 20)\t0.02596745720022887\n",
      "  (6369, 21)\t0.10386982880091548\n",
      "  (6369, 22)\t0.05193491440045774\n",
      "  (6369, 24)\t0.02596745720022887\n",
      "  (6369, 30)\t0.10386982880091548\n",
      "  (6369, 34)\t0.07790237160068661\n",
      "  (6369, 36)\t0.05193491440045774\n",
      "  (6369, 39)\t0.12983728600114436\n",
      "  (6369, 41)\t0.1817722004016021\n",
      "  (6369, 42)\t0.20773965760183097\n",
      "  (6369, 43)\t0.10386982880091548\n",
      "  (6369, 44)\t0.41547931520366194\n",
      "  (6369, 45)\t0.20773965760183097\n",
      "  (6369, 47)\t0.05193491440045774\n",
      "  (6369, 50)\t0.1817722004016021\n",
      "  (6369, 51)\t0.12983728600114436\n",
      "  (6369, 54)\t0.02596745720022887\n",
      "  (6369, 55)\t0.10386982880091548\n",
      "  (6369, 56)\t0.02596745720022887\n",
      "  (6369, 58)\t0.23370711480205983\n",
      "  (6369, 60)\t0.12983728600114436\n",
      "  (6369, 64)\t0.05193491440045774\n",
      "  (6369, 65)\t0.02596745720022887\n",
      "  (6369, 69)\t0.05193491440045774\n",
      "  (6369, 71)\t0.05193491440045774\n"
     ]
    }
   ],
   "source": [
    "print U_K"
   ]
  },
  {
   "cell_type": "code",
   "execution_count": 199,
   "metadata": {
    "scrolled": true
   },
   "outputs": [
    {
     "name": "stderr",
     "output_type": "stream",
     "text": [
      "100%|████████████████████████████████████████████████████████████████████████████| 6370/6370 [00:02<00:00, 2500.00it/s]\n"
     ]
    }
   ],
   "source": [
    "testres1 = predict(U_K, k, U_U_fromUI, item_similarity_en=False)"
   ]
  },
  {
   "cell_type": "code",
   "execution_count": 202,
   "metadata": {
    "scrolled": true
   },
   "outputs": [
    {
     "name": "stdout",
     "output_type": "stream",
     "text": [
      "  (0, 0)\t0.07405438192931117\n",
      "  (0, 1)\t0.3702719096465559\n",
      "  (0, 2)\t0.28563833029877167\n",
      "  (0, 3)\t0.010579197418473024\n",
      "  (0, 4)\t0.06347518451083815\n",
      "  (0, 5)\t0.05289598709236512\n",
      "  (0, 6)\t0.13752956644014933\n",
      "  (0, 7)\t0.06347518451083815\n",
      "  (0, 8)\t0.09521277676625722\n",
      "  (0, 10)\t0.042316789673892095\n",
      "  (0, 11)\t0.07405438192931117\n",
      "  (0, 12)\t0.13752956644014933\n",
      "  (0, 13)\t0.06347518451083815\n",
      "  (0, 14)\t0.4654846864128131\n",
      "  (0, 15)\t0.010579197418473024\n",
      "  (0, 16)\t0.21158394836946048\n",
      "  (0, 17)\t0.042316789673892095\n",
      "  (0, 18)\t0.07405438192931117\n",
      "  (0, 19)\t0.021158394836946048\n",
      "  (0, 20)\t0.07405438192931117\n",
      "  (0, 21)\t0.16926715869556838\n",
      "  (0, 22)\t0.08463357934778419\n",
      "  (0, 23)\t0.010579197418473024\n",
      "  (0, 24)\t0.042316789673892095\n",
      "  (0, 26)\t0.11637117160320327\n",
      "  :\t:\n",
      "  (6369, 20)\t0.02596745720022887\n",
      "  (6369, 21)\t0.10386982880091548\n",
      "  (6369, 22)\t0.05193491440045774\n",
      "  (6369, 24)\t0.02596745720022887\n",
      "  (6369, 30)\t0.10386982880091548\n",
      "  (6369, 34)\t0.07790237160068661\n",
      "  (6369, 36)\t0.05193491440045774\n",
      "  (6369, 39)\t0.12983728600114436\n",
      "  (6369, 41)\t0.1817722004016021\n",
      "  (6369, 42)\t0.20773965760183097\n",
      "  (6369, 43)\t0.10386982880091548\n",
      "  (6369, 44)\t0.41547931520366194\n",
      "  (6369, 45)\t0.20773965760183097\n",
      "  (6369, 47)\t0.05193491440045774\n",
      "  (6369, 50)\t0.1817722004016021\n",
      "  (6369, 51)\t0.12983728600114436\n",
      "  (6369, 54)\t0.02596745720022887\n",
      "  (6369, 55)\t0.10386982880091548\n",
      "  (6369, 56)\t0.02596745720022887\n",
      "  (6369, 58)\t0.23370711480205983\n",
      "  (6369, 60)\t0.12983728600114436\n",
      "  (6369, 64)\t0.05193491440045774\n",
      "  (6369, 65)\t0.02596745720022887\n",
      "  (6369, 69)\t0.05193491440045774\n",
      "  (6369, 71)\t0.05193491440045774\n"
     ]
    }
   ],
   "source": [
    "print U_K"
   ]
  },
  {
   "cell_type": "code",
   "execution_count": 187,
   "metadata": {
    "scrolled": false
   },
   "outputs": [
    {
     "name": "stderr",
     "output_type": "stream",
     "text": [
      "100%|████████████████████████████████████████████████████████████████████████████| 6370/6370 [00:02<00:00, 2510.84it/s]\n"
     ]
    }
   ],
   "source": [
    "# New_U_K * U_U_fromUI = U_K\n",
    "testres2 = predict(U_K, k, U_U_fromUI, item_similarity_en=False)"
   ]
  },
  {
   "cell_type": "code",
   "execution_count": 192,
   "metadata": {},
   "outputs": [
    {
     "data": {
      "text/plain": [
       "matrix([[0., 0., 0., 0., 0., 0., 0., 0., 0., 0., 0., 0., 0., 0., 0., 0.,\n",
       "         0., 0., 0., 0., 0., 0., 0., 0., 0., 0., 0., 0., 0., 0., 0., 0.,\n",
       "         0., 0., 0., 0., 0., 0., 0., 0., 0., 0., 0., 0., 0., 0., 0., 0.,\n",
       "         0., 0., 0., 0., 0., 0., 0., 0., 0., 0., 0., 0., 1., 0., 0., 0.,\n",
       "         0., 0., 0., 0., 0., 0., 0., 0., 0., 0., 0.]])"
      ]
     },
     "execution_count": 192,
     "metadata": {},
     "output_type": "execute_result"
    }
   ],
   "source": [
    "U_K.todense()[0]"
   ]
  },
  {
   "cell_type": "code",
   "execution_count": 203,
   "metadata": {
    "scrolled": true
   },
   "outputs": [
    {
     "data": {
      "text/plain": [
       "array([[0.26401109, 0.7524112 , 0.32522061, ..., 0.03409106, 0.01808911,\n",
       "        0.08343225],\n",
       "       [0.28381758, 0.90050646, 0.43137004, ..., 0.01910784, 0.01170818,\n",
       "        0.01970468],\n",
       "       [0.27348309, 0.79198885, 0.30065618, ..., 0.03491223, 0.07341255,\n",
       "        0.07485244],\n",
       "       ...,\n",
       "       [0.21064221, 1.09991938, 0.4337863 , ..., 0.03899793, 0.03914799,\n",
       "        0.02654395],\n",
       "       [0.20314659, 1.02733611, 0.28003989, ..., 0.01914292, 0.10212855,\n",
       "        0.03587808],\n",
       "       [0.38008604, 1.07139911, 0.37899053, ..., 0.04529136, 0.02162177,\n",
       "        0.04132979]])"
      ]
     },
     "execution_count": 203,
     "metadata": {},
     "output_type": "execute_result"
    }
   ],
   "source": [
    "testres1"
   ]
  },
  {
   "cell_type": "code",
   "execution_count": 204,
   "metadata": {},
   "outputs": [
    {
     "data": {
      "text/plain": [
       "array([[0.26401109, 0.7524112 , 0.32522061, ..., 0.03409106, 0.01808911,\n",
       "        0.08343225],\n",
       "       [0.28381758, 0.90050646, 0.43137004, ..., 0.01910784, 0.01170818,\n",
       "        0.01970468],\n",
       "       [0.27348309, 0.79198885, 0.30065618, ..., 0.03491223, 0.07341255,\n",
       "        0.07485244],\n",
       "       ...,\n",
       "       [0.21064221, 1.09991938, 0.4337863 , ..., 0.03899793, 0.03914799,\n",
       "        0.02654395],\n",
       "       [0.20314659, 1.02733611, 0.28003989, ..., 0.01914292, 0.10212855,\n",
       "        0.03587808],\n",
       "       [0.38008604, 1.07139911, 0.37899053, ..., 0.04529136, 0.02162177,\n",
       "        0.04132979]])"
      ]
     },
     "execution_count": 204,
     "metadata": {},
     "output_type": "execute_result"
    }
   ],
   "source": [
    "testres2"
   ]
  },
  {
   "cell_type": "code",
   "execution_count": 216,
   "metadata": {},
   "outputs": [],
   "source": [
    "a = U_U_fromUI* U_K "
   ]
  },
  {
   "cell_type": "code",
   "execution_count": 211,
   "metadata": {},
   "outputs": [],
   "source": [
    "b = U_U_fromUI* U_K "
   ]
  },
  {
   "cell_type": "code",
   "execution_count": 217,
   "metadata": {},
   "outputs": [
    {
     "data": {
      "text/plain": [
       "4.193095509454516"
      ]
     },
     "execution_count": 217,
     "metadata": {},
     "output_type": "execute_result"
    }
   ],
   "source": [
    "a[0][60]"
   ]
  },
  {
   "cell_type": "code",
   "execution_count": 218,
   "metadata": {
    "scrolled": false
   },
   "outputs": [
    {
     "data": {
      "text/plain": [
       "5.119041458669164"
      ]
     },
     "execution_count": 218,
     "metadata": {},
     "output_type": "execute_result"
    }
   ],
   "source": [
    "b[0][60]"
   ]
  },
  {
   "cell_type": "markdown",
   "metadata": {},
   "source": [
    "Can see that not much changed since we are only utilizing user_1 and user_similarity matrix row 1"
   ]
  },
  {
   "cell_type": "markdown",
   "metadata": {},
   "source": [
    "# U_U * U_K = U_K"
   ]
  },
  {
   "cell_type": "markdown",
   "metadata": {},
   "source": [
    "How about do something in the U_U latent space (embedding)?"
   ]
  },
  {
   "cell_type": "code",
   "execution_count": 222,
   "metadata": {},
   "outputs": [],
   "source": [
    "# Change U_I to get different U_U similarity\n",
    "U_I = rtrain"
   ]
  },
  {
   "cell_type": "code",
   "execution_count": 224,
   "metadata": {
    "scrolled": true
   },
   "outputs": [
    {
     "name": "stdout",
     "output_type": "stream",
     "text": [
      "  (0, 33)\t1.0\n",
      "  (0, 124)\t1.0\n",
      "  (0, 128)\t1.0\n",
      "  (0, 148)\t1.0\n",
      "  (0, 160)\t1.0\n",
      "  (0, 325)\t1.0\n",
      "  (0, 481)\t1.0\n",
      "  (0, 595)\t1.0\n",
      "  (0, 605)\t1.0\n",
      "  (0, 679)\t1.0\n",
      "  (0, 793)\t1.0\n",
      "  (0, 830)\t1.0\n",
      "  (0, 970)\t1.0\n",
      "  (0, 1105)\t1.0\n",
      "  (0, 1190)\t1.0\n",
      "  (0, 1221)\t1.0\n",
      "  (0, 1278)\t1.0\n",
      "  (0, 1598)\t1.0\n",
      "  (0, 1809)\t1.0\n",
      "  (0, 2032)\t1.0\n",
      "  (0, 2064)\t1.0\n",
      "  (0, 2082)\t1.0\n",
      "  (0, 2144)\t1.0\n",
      "  (0, 2290)\t1.0\n",
      "  (0, 2502)\t1.0\n",
      "  :\t:\n",
      "  (6367, 2522)\t1.0\n",
      "  (6367, 3026)\t1.0\n",
      "  (6367, 3116)\t1.0\n",
      "  (6367, 3129)\t1.0\n",
      "  (6367, 3231)\t1.0\n",
      "  (6367, 3538)\t1.0\n",
      "  (6368, 132)\t1.0\n",
      "  (6368, 316)\t1.0\n",
      "  (6368, 967)\t1.0\n",
      "  (6368, 1137)\t1.0\n",
      "  (6368, 2174)\t1.0\n",
      "  (6368, 2953)\t1.0\n",
      "  (6368, 3460)\t1.0\n",
      "  (6369, 51)\t1.0\n",
      "  (6369, 1371)\t1.0\n",
      "  (6369, 1497)\t1.0\n",
      "  (6369, 1519)\t1.0\n",
      "  (6369, 1644)\t1.0\n",
      "  (6369, 1800)\t1.0\n",
      "  (6369, 2028)\t1.0\n",
      "  (6369, 2468)\t1.0\n",
      "  (6369, 2695)\t1.0\n",
      "  (6369, 3639)\t1.0\n",
      "  (6369, 3641)\t1.0\n",
      "  (6369, 3644)\t1.0\n"
     ]
    }
   ],
   "source": [
    "print U_I"
   ]
  },
  {
   "cell_type": "markdown",
   "metadata": {},
   "source": [
    "but by changing/manipulating the U_I matrix, we need to know more information of each item. More specifically, we need to get a item-keyphrase matrix in order to change U_I as we want."
   ]
  },
  {
   "cell_type": "markdown",
   "metadata": {},
   "source": [
    "## I_K matrix"
   ]
  },
  {
   "cell_type": "code",
   "execution_count": 226,
   "metadata": {},
   "outputs": [
    {
     "data": {
      "text/plain": [
       "<6370x3668 sparse matrix of type '<type 'numpy.float32'>'\n",
       "\twith 167511 stored elements in Compressed Sparse Row format>"
      ]
     },
     "execution_count": 226,
     "metadata": {},
     "output_type": "execute_result"
    }
   ],
   "source": [
    "rtrain"
   ]
  },
  {
   "cell_type": "code",
   "execution_count": 233,
   "metadata": {},
   "outputs": [],
   "source": [
    "# I_K = get_I_K(df_train, row_name = 'ItemIndex', shape = (3668,75))\n",
    "I_K = load_npz('../../data/beer/I_K.npz')"
   ]
  },
  {
   "cell_type": "code",
   "execution_count": 234,
   "metadata": {},
   "outputs": [
    {
     "data": {
      "text/plain": [
       "<3668x75 sparse matrix of type '<type 'numpy.int32'>'\n",
       "\twith 213696 stored elements in Compressed Sparse Row format>"
      ]
     },
     "execution_count": 234,
     "metadata": {},
     "output_type": "execute_result"
    }
   ],
   "source": [
    "I_K"
   ]
  },
  {
   "cell_type": "code",
   "execution_count": 237,
   "metadata": {
    "scrolled": true
   },
   "outputs": [
    {
     "name": "stdout",
     "output_type": "stream",
     "text": [
      "  (0, 0)\t2\n",
      "  (0, 1)\t67\n",
      "  (0, 2)\t41\n",
      "  (0, 3)\t12\n",
      "  (0, 4)\t21\n",
      "  (0, 5)\t32\n",
      "  (0, 6)\t1\n",
      "  (0, 7)\t32\n",
      "  (0, 9)\t3\n",
      "  (0, 10)\t21\n",
      "  (0, 11)\t10\n",
      "  (0, 12)\t86\n",
      "  (0, 14)\t56\n",
      "  (0, 15)\t3\n",
      "  (0, 16)\t95\n",
      "  (0, 17)\t1\n",
      "  (0, 18)\t48\n",
      "  (0, 19)\t27\n",
      "  (0, 20)\t16\n",
      "  (0, 21)\t24\n",
      "  (0, 24)\t5\n",
      "  (0, 25)\t1\n",
      "  (0, 26)\t31\n",
      "  (0, 28)\t4\n",
      "  (0, 29)\t8\n",
      "  :\t:\n",
      "  (0, 35)\t6\n",
      "  (0, 36)\t47\n",
      "  (0, 37)\t3\n",
      "  (0, 38)\t4\n",
      "  (0, 39)\t52\n",
      "  (0, 40)\t23\n",
      "  (0, 41)\t23\n",
      "  (0, 42)\t78\n",
      "  (0, 43)\t20\n",
      "  (0, 45)\t93\n",
      "  (0, 47)\t6\n",
      "  (0, 51)\t34\n",
      "  (0, 52)\t5\n",
      "  (0, 53)\t4\n",
      "  (0, 54)\t1\n",
      "  (0, 55)\t25\n",
      "  (0, 56)\t1\n",
      "  (0, 57)\t1\n",
      "  (0, 61)\t4\n",
      "  (0, 63)\t1\n",
      "  (0, 64)\t1\n",
      "  (0, 68)\t11\n",
      "  (0, 69)\t3\n",
      "  (0, 72)\t2\n",
      "  (0, 74)\t5\n"
     ]
    }
   ],
   "source": [
    "print I_K[659]"
   ]
  },
  {
   "cell_type": "markdown",
   "metadata": {},
   "source": [
    "## Back to our problem"
   ]
  },
  {
   "cell_type": "code",
   "execution_count": 262,
   "metadata": {
    "scrolled": true
   },
   "outputs": [
    {
     "data": {
      "text/plain": [
       "array([2972, 2212, 2244, 2169,  746, 2666, 3472,  946, 2034, 2698, 2451,\n",
       "       2607, 2053, 2708, 1195,  160, 2178,  879, 1800, 1433, 2710, 2052,\n",
       "       3046, 1021, 1490, 2255, 1690,  656, 3118,  764,  332, 3121,  448,\n",
       "       1088, 1374, 3280, 2275,  305,  979, 2250,  875, 1898,  108, 2912,\n",
       "       2928,  358,  751, 2125,  684, 3152, 2366, 2198, 2217, 3252,  331,\n",
       "         41, 2978,  371, 3606,  363,  569,   19,  453, 1871, 1249, 1373,\n",
       "       2744, 1323, 1202,  740, 2707, 2701, 2073,  184,  409, 1647,  268,\n",
       "        128, 3143, 3147, 1290, 1198, 2209,  374, 2923, 2691, 3628, 2732,\n",
       "       3631, 1371,  364, 2925,  361, 2874, 2468,  749, 3240, 2215, 1639,\n",
       "        597], dtype=int64)"
      ]
     },
     "execution_count": 262,
     "metadata": {},
     "output_type": "execute_result"
    }
   ],
   "source": [
    "# I_K[:,0]: Items corresponding to Keyphrase 0\n",
    "# Get top 100 items and reshape the matrix to array\n",
    "keyphrase_id = 0\n",
    "top_n = 100\n",
    "np.argsort(np.ravel(I_K.todense()[:,keyphrase_id]))[-top_n:]"
   ]
  },
  {
   "cell_type": "code",
   "execution_count": 273,
   "metadata": {},
   "outputs": [
    {
     "name": "stdout",
     "output_type": "stream",
     "text": [
      "\n"
     ]
    }
   ],
   "source": [
    "print U_I[0,]"
   ]
  },
  {
   "cell_type": "code",
   "execution_count": 274,
   "metadata": {},
   "outputs": [],
   "source": [
    "# Set some extreme U_I \n",
    "# For user1 set some items to 1\n",
    "U_I[0,:] = 0\n",
    "for i in np.argsort(np.ravel(I_K.todense()[:,keyphrase_id]))[-top_n:]:\n",
    "    U_I[0,i] = 1\n",
    "# U_I[0][np.argsort(np.ravel(I_K.todense()[:,keyphrase_id]))[-top_n:]] = 1"
   ]
  },
  {
   "cell_type": "code",
   "execution_count": 281,
   "metadata": {
    "collapsed": true
   },
   "outputs": [],
   "source": [
    "modified_U_U = train(U_I)"
   ]
  },
  {
   "cell_type": "code",
   "execution_count": 310,
   "metadata": {},
   "outputs": [
    {
     "name": "stderr",
     "output_type": "stream",
     "text": [
      "D:\\Anaconda\\envs\\py27\\lib\\site-packages\\ipykernel_launcher.py:2: SparseEfficiencyWarning: Changing the sparsity structure of a csr_matrix is expensive. lil_matrix is more efficient.\n",
      "  \n"
     ]
    }
   ],
   "source": [
    "# Also set the User1_keyphrase to 1 for keyphrase_id\n",
    "U_K[0,:] = 0\n",
    "U_K[0,keyphrase_id] = 1"
   ]
  },
  {
   "cell_type": "code",
   "execution_count": 294,
   "metadata": {},
   "outputs": [
    {
     "name": "stdout",
     "output_type": "stream",
     "text": [
      "[[0.17001743 0.44794673 0.19390975 ... 0.01747935 0.01370377 0.03259141]\n",
      " [0.15974019 0.44848965 0.19490735 ... 0.01861396 0.01403853 0.03566853]\n",
      " [0.14626473 0.45303413 0.19573486 ... 0.02276955 0.01730831 0.03394567]\n",
      " ...\n",
      " [0.15046205 0.45345233 0.19705294 ... 0.01964526 0.01478368 0.03241993]\n",
      " [0.139078   0.4623413  0.1928427  ... 0.01817866 0.01462956 0.03138462]\n",
      " [0.15461639 0.45737168 0.18380551 ... 0.0171285  0.0140413  0.03020777]]\n"
     ]
    }
   ],
   "source": [
    "a = normalize(modified_U_U*U_K)\n",
    "print a"
   ]
  },
  {
   "cell_type": "code",
   "execution_count": 295,
   "metadata": {
    "collapsed": true
   },
   "outputs": [],
   "source": [
    "U_K = load_npz('../../data/beer/U_K.npz')\n",
    "U_K = normalize(U_K)"
   ]
  },
  {
   "cell_type": "code",
   "execution_count": 296,
   "metadata": {},
   "outputs": [
    {
     "name": "stdout",
     "output_type": "stream",
     "text": [
      "[[0.15290827 0.44002485 0.19897639 ... 0.01859834 0.01452302 0.0373506 ]\n",
      " [0.15898812 0.44854481 0.19493132 ... 0.01861625 0.01404025 0.03567291]\n",
      " [0.14626473 0.45303413 0.19573486 ... 0.02276955 0.01730831 0.03394567]\n",
      " ...\n",
      " [0.15046205 0.45345233 0.19705294 ... 0.01964526 0.01478368 0.03241993]\n",
      " [0.139078   0.4623413  0.1928427  ... 0.01817866 0.01462956 0.03138462]\n",
      " [0.15363115 0.45744283 0.1838341  ... 0.01713117 0.01404348 0.03021247]]\n"
     ]
    }
   ],
   "source": [
    "c = normalize(U_U_fromUI*U_K)\n",
    "print c"
   ]
  },
  {
   "cell_type": "code",
   "execution_count": 308,
   "metadata": {},
   "outputs": [
    {
     "data": {
      "text/plain": [
       "array([ 1.71091590e-02,  7.92188612e-03, -5.06663878e-03, -4.49576412e-03,\n",
       "        2.74541551e-03, -8.32100201e-04,  1.35357631e-02, -2.52420651e-03,\n",
       "        1.66367787e-02,  8.18038390e-03,  8.94047594e-03, -9.18837313e-03,\n",
       "       -1.80837073e-02, -3.08653817e-03, -2.54688765e-02,  4.40090051e-03,\n",
       "        1.10968215e-02,  1.58061405e-03, -2.41129293e-04, -1.34216968e-03,\n",
       "       -7.11722229e-03, -2.88850162e-03,  4.57219612e-03, -2.23559302e-04,\n",
       "       -7.72380811e-03, -2.21511548e-03, -4.62649471e-03, -9.32873900e-04,\n",
       "        1.99022605e-03,  1.90004513e-03, -2.21641344e-02, -1.73565750e-02,\n",
       "       -3.30229549e-03, -1.03600799e-03, -1.31841866e-02, -8.88344242e-03,\n",
       "        8.08419646e-03, -1.60208218e-03, -6.59207977e-03, -1.30772370e-02,\n",
       "       -8.71071807e-03, -1.58236708e-03, -7.96609662e-03,  6.50708811e-03,\n",
       "        7.82693074e-03, -1.96684162e-03, -7.78590403e-04,  3.69055934e-03,\n",
       "       -2.16818199e-04, -5.38291175e-04,  1.23422451e-02,  3.86455053e-03,\n",
       "        8.60971785e-03, -9.82409692e-04,  1.00523187e-04,  2.56045544e-02,\n",
       "       -3.34335669e-03,  3.49888070e-06, -7.64154344e-04,  1.09566597e-03,\n",
       "        1.09566473e-03, -1.52011176e-02, -1.27681668e-02, -3.99091294e-03,\n",
       "       -4.06984683e-03,  6.35010807e-04, -1.07357776e-02, -2.07101022e-02,\n",
       "       -1.15515489e-02,  3.09793241e-03, -3.26221444e-03,  9.29083873e-04,\n",
       "       -1.11899114e-03, -8.19253547e-04, -4.75919054e-03])"
      ]
     },
     "execution_count": 308,
     "metadata": {},
     "output_type": "execute_result"
    }
   ],
   "source": [
    "a[0]-c[0]"
   ]
  },
  {
   "cell_type": "markdown",
   "metadata": {},
   "source": [
    "# User knn instead of matrix multiplication "
   ]
  },
  {
   "cell_type": "code",
   "execution_count": 306,
   "metadata": {
    "collapsed": true
   },
   "outputs": [],
   "source": [
    "# Makes more sense tbh"
   ]
  },
  {
   "cell_type": "code",
   "execution_count": 312,
   "metadata": {},
   "outputs": [
    {
     "name": "stderr",
     "output_type": "stream",
     "text": [
      "100%|████████████████████████████████████████████████████████████████████████████| 6370/6370 [00:03<00:00, 2093.33it/s]\n"
     ]
    }
   ],
   "source": [
    "a_ = predict(U_K, 100, modified_U_U)"
   ]
  },
  {
   "cell_type": "code",
   "execution_count": 301,
   "metadata": {},
   "outputs": [
    {
     "name": "stderr",
     "output_type": "stream",
     "text": [
      "100%|████████████████████████████████████████████████████████████████████████████| 6370/6370 [00:03<00:00, 2065.50it/s]\n"
     ]
    }
   ],
   "source": [
    "c_ = predict(U_K, 100, U_U_fromUI)"
   ]
  },
  {
   "cell_type": "code",
   "execution_count": 313,
   "metadata": {},
   "outputs": [
    {
     "data": {
      "text/plain": [
       "array([0.204817  , 0.41073236, 0.21019623, 0.02714284, 0.07049075,\n",
       "       0.08757557, 0.22480452, 0.02826776, 0.17256435, 0.04509956,\n",
       "       0.07697874, 0.08722029, 0.15929047, 0.04006089, 0.27026299,\n",
       "       0.02796288, 0.30935245, 0.04036599, 0.08312616, 0.04149064,\n",
       "       0.04623904, 0.16130054, 0.06221338, 0.0433638 , 0.0707001 ,\n",
       "       0.01064858, 0.05212279, 0.02815973, 0.03452487, 0.02329778,\n",
       "       0.05453488, 0.0621945 , 0.02588329, 0.00753236, 0.05985014,\n",
       "       0.02015382, 0.08721862, 0.00551488, 0.03602238, 0.14104107,\n",
       "       0.05547301, 0.08576007, 0.17862484, 0.25611237, 0.2658404 ,\n",
       "       0.13668961, 0.01760731, 0.07957436, 0.02732596, 0.00714931,\n",
       "       0.1994329 , 0.0698211 , 0.03268207, 0.0218936 , 0.01280388,\n",
       "       0.24472505, 0.04017002, 0.0116558 , 0.12447557, 0.021992  ,\n",
       "       0.04515072, 0.02523078, 0.04271872, 0.02437379, 0.02961988,\n",
       "       0.03217752, 0.02301125, 0.04462846, 0.05347196, 0.01260438,\n",
       "       0.01052354, 0.03353737, 0.01759872, 0.01142327, 0.02779461])"
      ]
     },
     "execution_count": 313,
     "metadata": {},
     "output_type": "execute_result"
    }
   ],
   "source": [
    "normalize(a_)[0]"
   ]
  },
  {
   "cell_type": "code",
   "execution_count": 305,
   "metadata": {
    "scrolled": true
   },
   "outputs": [
    {
     "data": {
      "text/plain": [
       "array([0.15707296, 0.41373421, 0.19636553, 0.03034219, 0.05356752,\n",
       "       0.08854313, 0.1877936 , 0.03034999, 0.1268926 , 0.04013518,\n",
       "       0.05588009, 0.11447344, 0.20743125, 0.04782659, 0.31785701,\n",
       "       0.02023799, 0.31224246, 0.03440873, 0.08985072, 0.05231089,\n",
       "       0.06714752, 0.15414929, 0.04233855, 0.02917779, 0.0750438 ,\n",
       "       0.01615909, 0.05681413, 0.02420554, 0.02617858, 0.02041283,\n",
       "       0.11086017, 0.08269542, 0.03674884, 0.01229725, 0.08051492,\n",
       "       0.04592522, 0.0695531 , 0.01294599, 0.04299386, 0.17569948,\n",
       "       0.07131478, 0.08565003, 0.20198444, 0.21604103, 0.24633009,\n",
       "       0.15648577, 0.0228525 , 0.06694769, 0.02122285, 0.00477802,\n",
       "       0.16328039, 0.08515915, 0.02333456, 0.02032284, 0.02124778,\n",
       "       0.20300859, 0.05150626, 0.00997755, 0.13102778, 0.01366483,\n",
       "       0.03398188, 0.07111063, 0.06607123, 0.02559484, 0.03698661,\n",
       "       0.03542353, 0.04296371, 0.08641341, 0.07263242, 0.00874897,\n",
       "       0.01342302, 0.03663887, 0.01802184, 0.01136855, 0.03528359])"
      ]
     },
     "execution_count": 305,
     "metadata": {},
     "output_type": "execute_result"
    }
   ],
   "source": [
    "normalize(c_)[0]"
   ]
  },
  {
   "cell_type": "code",
   "execution_count": 314,
   "metadata": {},
   "outputs": [
    {
     "data": {
      "text/plain": [
       "array([ 4.77440416e-02, -3.00185285e-03,  1.38306981e-02, -3.19934679e-03,\n",
       "        1.69232291e-02, -9.67566754e-04,  3.70109164e-02, -2.08222707e-03,\n",
       "        4.56717548e-02,  4.96437804e-03,  2.10986458e-02, -2.72531490e-02,\n",
       "       -4.81407785e-02, -7.76570666e-03, -4.75940206e-02,  7.72489000e-03,\n",
       "       -2.89001602e-03,  5.95726314e-03, -6.72455949e-03, -1.08202488e-02,\n",
       "       -2.09084867e-02,  7.15125217e-03,  1.98748283e-02,  1.41860130e-02,\n",
       "       -4.34370067e-03, -5.51051273e-03, -4.69134802e-03,  3.95418819e-03,\n",
       "        8.34628956e-03,  2.88494751e-03, -5.63252835e-02, -2.05009133e-02,\n",
       "       -1.08655470e-02, -4.76489384e-03, -2.06647762e-02, -2.57713967e-02,\n",
       "        1.76655244e-02, -7.43110099e-03, -6.97147806e-03, -3.46584078e-02,\n",
       "       -1.58417734e-02,  1.10043522e-04, -2.33596022e-02,  4.00713365e-02,\n",
       "        1.95103124e-02, -1.97961661e-02, -5.24518867e-03,  1.26266699e-02,\n",
       "        6.10310763e-03,  2.37129472e-03,  3.61525125e-02, -1.53380489e-02,\n",
       "        9.34751349e-03,  1.57076242e-03, -8.44389923e-03,  4.17164587e-02,\n",
       "       -1.13362449e-02,  1.67824635e-03, -6.55220875e-03,  8.32716799e-03,\n",
       "        1.11688354e-02, -4.58798517e-02, -2.33525097e-02, -1.22104684e-03,\n",
       "       -7.36672416e-03, -3.24601151e-03, -1.99524576e-02, -4.17849540e-02,\n",
       "       -1.91604639e-02,  3.85540468e-03, -2.89948230e-03, -3.10149994e-03,\n",
       "       -4.23117823e-04,  5.47217484e-05, -7.48897826e-03])"
      ]
     },
     "execution_count": 314,
     "metadata": {},
     "output_type": "execute_result"
    }
   ],
   "source": [
    "normalize(a_)[0]-normalize(c_)[0]\n",
    "# Makes more sense?"
   ]
  },
  {
   "cell_type": "code",
   "execution_count": 315,
   "metadata": {},
   "outputs": [
    {
     "data": {
      "text/plain": [
       "array([ 1.71091590e-02,  7.92188612e-03, -5.06663878e-03, -4.49576412e-03,\n",
       "        2.74541551e-03, -8.32100201e-04,  1.35357631e-02, -2.52420651e-03,\n",
       "        1.66367787e-02,  8.18038390e-03,  8.94047594e-03, -9.18837313e-03,\n",
       "       -1.80837073e-02, -3.08653817e-03, -2.54688765e-02,  4.40090051e-03,\n",
       "        1.10968215e-02,  1.58061405e-03, -2.41129293e-04, -1.34216968e-03,\n",
       "       -7.11722229e-03, -2.88850162e-03,  4.57219612e-03, -2.23559302e-04,\n",
       "       -7.72380811e-03, -2.21511548e-03, -4.62649471e-03, -9.32873900e-04,\n",
       "        1.99022605e-03,  1.90004513e-03, -2.21641344e-02, -1.73565750e-02,\n",
       "       -3.30229549e-03, -1.03600799e-03, -1.31841866e-02, -8.88344242e-03,\n",
       "        8.08419646e-03, -1.60208218e-03, -6.59207977e-03, -1.30772370e-02,\n",
       "       -8.71071807e-03, -1.58236708e-03, -7.96609662e-03,  6.50708811e-03,\n",
       "        7.82693074e-03, -1.96684162e-03, -7.78590403e-04,  3.69055934e-03,\n",
       "       -2.16818199e-04, -5.38291175e-04,  1.23422451e-02,  3.86455053e-03,\n",
       "        8.60971785e-03, -9.82409692e-04,  1.00523187e-04,  2.56045544e-02,\n",
       "       -3.34335669e-03,  3.49888070e-06, -7.64154344e-04,  1.09566597e-03,\n",
       "        1.09566473e-03, -1.52011176e-02, -1.27681668e-02, -3.99091294e-03,\n",
       "       -4.06984683e-03,  6.35010807e-04, -1.07357776e-02, -2.07101022e-02,\n",
       "       -1.15515489e-02,  3.09793241e-03, -3.26221444e-03,  9.29083873e-04,\n",
       "       -1.11899114e-03, -8.19253547e-04, -4.75919054e-03])"
      ]
     },
     "execution_count": 315,
     "metadata": {},
     "output_type": "execute_result"
    }
   ],
   "source": [
    "a[0]-c[0]"
   ]
  },
  {
   "cell_type": "markdown",
   "metadata": {},
   "source": [
    "# Critiquing Draft"
   ]
  },
  {
   "cell_type": "code",
   "execution_count": null,
   "metadata": {
    "collapsed": true
   },
   "outputs": [],
   "source": []
  },
  {
   "cell_type": "markdown",
   "metadata": {},
   "source": [
    "##### TF-IDF to get U_K"
   ]
  }
 ],
 "metadata": {
  "kernelspec": {
   "display_name": "Python 2",
   "language": "python",
   "name": "python2"
  },
  "language_info": {
   "codemirror_mode": {
    "name": "ipython",
    "version": 2
   },
   "file_extension": ".py",
   "mimetype": "text/x-python",
   "name": "python",
   "nbconvert_exporter": "python",
   "pygments_lexer": "ipython2",
   "version": "2.7.13"
  }
 },
 "nbformat": 4,
 "nbformat_minor": 2
}
