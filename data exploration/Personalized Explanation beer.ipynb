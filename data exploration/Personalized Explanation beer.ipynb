{
 "cells": [
  {
   "cell_type": "code",
   "execution_count": 9,
   "metadata": {
    "collapsed": true
   },
   "outputs": [],
   "source": [
    "from ast import literal_eval\n",
    "from os import listdir\n",
    "from os.path import isfile, join\n",
    "from scipy.sparse import csr_matrix, load_npz, save_npz\n",
    "from tqdm import tqdm\n",
    "from sklearn.preprocessing import normalize\n",
    "\n",
    "import seaborn as sns\n",
    "import datetime\n",
    "import json\n",
    "import numpy as np\n",
    "import pandas as pd\n",
    "import time\n",
    "import yaml\n",
    "import scipy.sparse as sparse\n",
    "from ast import literal_eval\n",
    "\n",
    "# For Python2 this have to be done\n",
    "from __future__ import division"
   ]
  },
  {
   "cell_type": "code",
   "execution_count": 117,
   "metadata": {
    "collapsed": true
   },
   "outputs": [],
   "source": [
    "# Load Original Data\n",
    "df_train = pd.read_csv('../../data/beer/Train.csv')\n",
    "df_valid = pd.read_csv('../../data/beer/Valid.csv')\n",
    "df_test = pd.read_csv('../../data/beer/Test.csv')\n",
    "key_phrase = pd.read_csv('../../data/beer/KeyPhrases.csv')"
   ]
  },
  {
   "cell_type": "code",
   "execution_count": 62,
   "metadata": {
    "collapsed": true
   },
   "outputs": [],
   "source": [
    "# Load U-I Data \n",
    "rtrain = load_npz(\"../../data/beer/Rtrain.npz\")\n",
    "# rvalid = load_npz(\"../../data/beer/Rvalid.npz\")\n",
    "# rtest = load_npz(\"../../data/beer/Rtest.npz\")"
   ]
  },
  {
   "cell_type": "code",
   "execution_count": 6,
   "metadata": {
    "scrolled": true
   },
   "outputs": [
    {
     "data": {
      "text/plain": [
       "<6370x3668 sparse matrix of type '<type 'numpy.float32'>'\n",
       "\twith 167511 stored elements in Compressed Sparse Row format>"
      ]
     },
     "execution_count": 6,
     "metadata": {},
     "output_type": "execute_result"
    }
   ],
   "source": [
    "rtrain"
   ]
  },
  {
   "cell_type": "code",
   "execution_count": 8,
   "metadata": {
    "scrolled": false
   },
   "outputs": [
    {
     "data": {
      "text/html": [
       "<div>\n",
       "<style scoped>\n",
       "    .dataframe tbody tr th:only-of-type {\n",
       "        vertical-align: middle;\n",
       "    }\n",
       "\n",
       "    .dataframe tbody tr th {\n",
       "        vertical-align: top;\n",
       "    }\n",
       "\n",
       "    .dataframe thead th {\n",
       "        text-align: right;\n",
       "    }\n",
       "</style>\n",
       "<table border=\"1\" class=\"dataframe\">\n",
       "  <thead>\n",
       "    <tr style=\"text-align: right;\">\n",
       "      <th></th>\n",
       "      <th>beer/ABV</th>\n",
       "      <th>beer/name</th>\n",
       "      <th>beer/style</th>\n",
       "      <th>review/overall</th>\n",
       "      <th>review/text</th>\n",
       "      <th>review/timeUnix</th>\n",
       "      <th>user/profileName</th>\n",
       "      <th>Binary</th>\n",
       "      <th>UserIndex</th>\n",
       "      <th>ItemIndex</th>\n",
       "      <th>review</th>\n",
       "      <th>conca_review</th>\n",
       "      <th>keyVector</th>\n",
       "      <th>keyphrases_indices_length</th>\n",
       "    </tr>\n",
       "  </thead>\n",
       "  <tbody>\n",
       "    <tr>\n",
       "      <th>0</th>\n",
       "      <td>5.5</td>\n",
       "      <td>Caldera Pale Ale</td>\n",
       "      <td>American Pale Ale (APA)</td>\n",
       "      <td>4.0</td>\n",
       "      <td>Caldera- Pale Ale\\t\\tPicked up at Grape &amp; Gour...</td>\n",
       "      <td>1251327677</td>\n",
       "      <td>NJpadreFan</td>\n",
       "      <td>0</td>\n",
       "      <td>1767</td>\n",
       "      <td>659</td>\n",
       "      <td>['caldera', 'pale', 'ale', 'picked', 'grape', ...</td>\n",
       "      <td>caldera pale ale picked grape gourmet vb ligh...</td>\n",
       "      <td>[1, 7, 12, 14, 16, 29, 31, 34, 39, 40, 42, 45]</td>\n",
       "      <td>12</td>\n",
       "    </tr>\n",
       "    <tr>\n",
       "      <th>1</th>\n",
       "      <td>5.5</td>\n",
       "      <td>Caldera Pale Ale</td>\n",
       "      <td>American Pale Ale (APA)</td>\n",
       "      <td>2.5</td>\n",
       "      <td>12 oz. can poured into a pint glass. I really ...</td>\n",
       "      <td>1250928902</td>\n",
       "      <td>vacax</td>\n",
       "      <td>0</td>\n",
       "      <td>6159</td>\n",
       "      <td>659</td>\n",
       "      <td>['oz', 'poured', 'pint', 'glass', 'really', 'l...</td>\n",
       "      <td>oz poured pint glass really like beer like pa...</td>\n",
       "      <td>[1, 16, 18, 20, 24, 39, 42, 43, 45, 55]</td>\n",
       "      <td>10</td>\n",
       "    </tr>\n",
       "    <tr>\n",
       "      <th>2</th>\n",
       "      <td>5.5</td>\n",
       "      <td>Caldera Pale Ale</td>\n",
       "      <td>American Pale Ale (APA)</td>\n",
       "      <td>4.0</td>\n",
       "      <td>A: Pours a cloudy orange with a crisp white tw...</td>\n",
       "      <td>1249866208</td>\n",
       "      <td>d0ggnate</td>\n",
       "      <td>0</td>\n",
       "      <td>3516</td>\n",
       "      <td>659</td>\n",
       "      <td>['pours', 'cloudy', 'orange', 'crisp', 'white'...</td>\n",
       "      <td>pours cloudy orange crisp white two finger he...</td>\n",
       "      <td>[12, 36, 39, 42]</td>\n",
       "      <td>4</td>\n",
       "    </tr>\n",
       "    <tr>\n",
       "      <th>3</th>\n",
       "      <td>5.5</td>\n",
       "      <td>Caldera Pale Ale</td>\n",
       "      <td>American Pale Ale (APA)</td>\n",
       "      <td>4.5</td>\n",
       "      <td>Received this can through Beer Powerball. I am...</td>\n",
       "      <td>1249847121</td>\n",
       "      <td>babyhobbes</td>\n",
       "      <td>1</td>\n",
       "      <td>2893</td>\n",
       "      <td>659</td>\n",
       "      <td>['received', 'beer', 'powerball', 'really', 's...</td>\n",
       "      <td>received beer powerball really sorry nt know ...</td>\n",
       "      <td>[12, 42]</td>\n",
       "      <td>2</td>\n",
       "    </tr>\n",
       "    <tr>\n",
       "      <th>4</th>\n",
       "      <td>5.5</td>\n",
       "      <td>Caldera Pale Ale</td>\n",
       "      <td>American Pale Ale (APA)</td>\n",
       "      <td>4.5</td>\n",
       "      <td>355ml can bought from Beersofeurope.com...\\t\\t...</td>\n",
       "      <td>1249556277</td>\n",
       "      <td>mdagnew</td>\n",
       "      <td>1</td>\n",
       "      <td>4858</td>\n",
       "      <td>659</td>\n",
       "      <td>['bought', 'beersofeurope', 'com', 'poured', '...</td>\n",
       "      <td>bought beersofeurope com poured golden yellow...</td>\n",
       "      <td>[1, 5, 7, 12, 14, 16, 18, 19, 26, 31, 34, 40, ...</td>\n",
       "      <td>18</td>\n",
       "    </tr>\n",
       "  </tbody>\n",
       "</table>\n",
       "</div>"
      ],
      "text/plain": [
       "   beer/ABV         beer/name               beer/style  review/overall  \\\n",
       "0       5.5  Caldera Pale Ale  American Pale Ale (APA)             4.0   \n",
       "1       5.5  Caldera Pale Ale  American Pale Ale (APA)             2.5   \n",
       "2       5.5  Caldera Pale Ale  American Pale Ale (APA)             4.0   \n",
       "3       5.5  Caldera Pale Ale  American Pale Ale (APA)             4.5   \n",
       "4       5.5  Caldera Pale Ale  American Pale Ale (APA)             4.5   \n",
       "\n",
       "                                         review/text  review/timeUnix  \\\n",
       "0  Caldera- Pale Ale\\t\\tPicked up at Grape & Gour...       1251327677   \n",
       "1  12 oz. can poured into a pint glass. I really ...       1250928902   \n",
       "2  A: Pours a cloudy orange with a crisp white tw...       1249866208   \n",
       "3  Received this can through Beer Powerball. I am...       1249847121   \n",
       "4  355ml can bought from Beersofeurope.com...\\t\\t...       1249556277   \n",
       "\n",
       "  user/profileName  Binary  UserIndex  ItemIndex  \\\n",
       "0       NJpadreFan       0       1767        659   \n",
       "1            vacax       0       6159        659   \n",
       "2         d0ggnate       0       3516        659   \n",
       "3       babyhobbes       1       2893        659   \n",
       "4          mdagnew       1       4858        659   \n",
       "\n",
       "                                              review  \\\n",
       "0  ['caldera', 'pale', 'ale', 'picked', 'grape', ...   \n",
       "1  ['oz', 'poured', 'pint', 'glass', 'really', 'l...   \n",
       "2  ['pours', 'cloudy', 'orange', 'crisp', 'white'...   \n",
       "3  ['received', 'beer', 'powerball', 'really', 's...   \n",
       "4  ['bought', 'beersofeurope', 'com', 'poured', '...   \n",
       "\n",
       "                                        conca_review  \\\n",
       "0   caldera pale ale picked grape gourmet vb ligh...   \n",
       "1   oz poured pint glass really like beer like pa...   \n",
       "2   pours cloudy orange crisp white two finger he...   \n",
       "3   received beer powerball really sorry nt know ...   \n",
       "4   bought beersofeurope com poured golden yellow...   \n",
       "\n",
       "                                           keyVector  \\\n",
       "0     [1, 7, 12, 14, 16, 29, 31, 34, 39, 40, 42, 45]   \n",
       "1            [1, 16, 18, 20, 24, 39, 42, 43, 45, 55]   \n",
       "2                                   [12, 36, 39, 42]   \n",
       "3                                           [12, 42]   \n",
       "4  [1, 5, 7, 12, 14, 16, 18, 19, 26, 31, 34, 40, ...   \n",
       "\n",
       "   keyphrases_indices_length  \n",
       "0                         12  \n",
       "1                         10  \n",
       "2                          4  \n",
       "3                          2  \n",
       "4                         18  "
      ]
     },
     "execution_count": 8,
     "metadata": {},
     "output_type": "execute_result"
    }
   ],
   "source": [
    "df_train.head()"
   ]
  },
  {
   "cell_type": "code",
   "execution_count": 1,
   "metadata": {
    "collapsed": true
   },
   "outputs": [],
   "source": [
    "# Models\n",
    "from sklearn.metrics.pairwise import cosine_similarity\n",
    "def train(matrix_train):\n",
    "    similarity = cosine_similarity(X=matrix_train, Y=None, dense_output=True)\n",
    "    return similarity\n",
    "\n",
    "def get_I_K(df, row_name = 'ItemIndex', shape = (3668,75)):\n",
    "    rows = []\n",
    "    cols = []\n",
    "    vals = []\n",
    "    for i in tqdm(range(df.shape[0])):\n",
    "        key_vector = literal_eval(df['keyVector'][i])\n",
    "        rows.extend([df[row_name][i]]*len(key_vector)) ## Item index\n",
    "        cols.extend(key_vector) ## Keyword Index\n",
    "#         if binary:\n",
    "        vals.extend(np.array([1]*len(key_vector)))\n",
    "#         else:\n",
    "#             vals.extend(arr[arr.nonzero()])    \n",
    "    return csr_matrix((vals, (rows, cols)), shape=shape)\n",
    "\n",
    "\n",
    "def predict(matrix_train, k, similarity, item_similarity_en = False):\n",
    "    \"\"\"\n",
    "    res = similarity * matrix_train    if item_similarity_en = False\n",
    "    res = similarity * matrix_train.T  if item_similarity_en = True\n",
    "    \"\"\"\n",
    "    prediction_scores = []\n",
    "    \n",
    "    if item_similarity_en:\n",
    "        matrix_train = matrix_train.transpose()\n",
    "        \n",
    "    for user_index in tqdm(range(matrix_train.shape[0])):\n",
    "        # Get user u's prediction scores to all users\n",
    "        vector_u = similarity[user_index]\n",
    "\n",
    "        # Get closest K neighbors excluding user u self\n",
    "        similar_users = vector_u.argsort()[::-1][1:k+1]\n",
    "        # Get neighbors similarity weights and ratings\n",
    "        similar_users_weights = similarity[user_index][similar_users]\n",
    "        similar_users_ratings = matrix_train[similar_users].toarray()\n",
    "\n",
    "        prediction_scores_u = similar_users_ratings * similar_users_weights[:, np.newaxis]\n",
    "\n",
    "        prediction_scores.append(np.sum(prediction_scores_u, axis=0))\n",
    "    res = np.array(prediction_scores)\n",
    "    \n",
    "    if item_similarity_en:\n",
    "        res = res.transpose()\n",
    "    \n",
    "    return res\n",
    "\n",
    "def prediction(prediction_score, topK, matrix_Train):\n",
    "\n",
    "    prediction = []\n",
    "\n",
    "    for user_index in tqdm(range(matrix_Train.shape[0])):\n",
    "        vector_u = prediction_score[user_index]\n",
    "        vector_train = matrix_Train[user_index]\n",
    "        if len(vector_train.nonzero()[0]) > 0:\n",
    "            vector_predict = sub_routine(vector_u, vector_train, topK=topK)\n",
    "        else:\n",
    "            vector_predict = np.zeros(topK, dtype=np.float32)\n",
    "\n",
    "        prediction.append(vector_predict)\n",
    "\n",
    "    return np.vstack(prediction)\n",
    "\n",
    "\n",
    "def sub_routine(vector_u, vector_train, topK=500):\n",
    "\n",
    "    train_index = vector_train.nonzero()[1]\n",
    "\n",
    "    vector_u = vector_u\n",
    "\n",
    "    candidate_index = np.argpartition(-vector_u, topK+len(train_index))[:topK+len(train_index)]\n",
    "    vector_u = candidate_index[vector_u[candidate_index].argsort()[::-1]]\n",
    "    vector_u = np.delete(vector_u, np.isin(vector_u, train_index).nonzero()[0])\n",
    "\n",
    "    return vector_u[:topK]\n"
   ]
  },
  {
   "cell_type": "code",
   "execution_count": 36,
   "metadata": {
    "collapsed": true
   },
   "outputs": [],
   "source": [
    "# Evluation \n",
    "def recallk(vector_true_dense, hits, **unused):\n",
    "    hits = len(hits.nonzero()[0])\n",
    "    return float(hits)/len(vector_true_dense)\n",
    "\n",
    "def precisionk(vector_predict, hits, **unused):\n",
    "    hits = len(hits.nonzero()[0])\n",
    "    return float(hits)/len(vector_predict)\n",
    "\n",
    "\n",
    "def average_precisionk(vector_predict, hits, **unused):\n",
    "    precisions = np.cumsum(hits, dtype=np.float32)/range(1, len(vector_predict)+1)\n",
    "    return np.mean(precisions)\n",
    "\n",
    "\n",
    "def r_precision(vector_true_dense, vector_predict, **unused):\n",
    "    vector_predict_short = vector_predict[:len(vector_true_dense)]\n",
    "    hits = len(np.isin(vector_predict_short, vector_true_dense).nonzero()[0])\n",
    "    return float(hits)/len(vector_true_dense)\n",
    "\n",
    "\n",
    "def _dcg_support(size):\n",
    "    arr = np.arange(1, size+1)+1\n",
    "    return 1./np.log2(arr)\n",
    "\n",
    "\n",
    "def ndcg(vector_true_dense, vector_predict, hits):\n",
    "    idcg = np.sum(_dcg_support(len(vector_true_dense)))\n",
    "    dcg_base = _dcg_support(len(vector_predict))\n",
    "    dcg_base[np.logical_not(hits)] = 0\n",
    "    dcg = np.sum(dcg_base)\n",
    "    return dcg/idcg\n",
    "\n",
    "\n",
    "def click(hits, **unused):\n",
    "    first_hit = next((i for i, x in enumerate(hits) if x), None)\n",
    "    if first_hit is None:\n",
    "        return 5\n",
    "    else:\n",
    "        return first_hit/10\n",
    "\n",
    "\n",
    "def evaluate(matrix_Predict, matrix_Test, metric_names =['R-Precision', 'NDCG', 'Precision', 'Recall', 'MAP'], atK = [5, 10, 15, 20, 50], analytical=False):\n",
    "    \"\"\"\n",
    "    :param matrix_U: Latent representations of users, for LRecs it is RQ, for ALSs it is U\n",
    "    :param matrix_V: Latent representations of items, for LRecs it is Q, for ALSs it is V\n",
    "    :param matrix_Train: Rating matrix for training, features.\n",
    "    :param matrix_Test: Rating matrix for evaluation, true labels.\n",
    "    :param k: Top K retrieval\n",
    "    :param metric_names: Evaluation metrics\n",
    "    :return:\n",
    "    \"\"\"\n",
    "    global_metrics = {\n",
    "        \"R-Precision\": r_precision,\n",
    "        \"NDCG\": ndcg,\n",
    "        \"Clicks\": click\n",
    "    }\n",
    "\n",
    "    local_metrics = {\n",
    "        \"Precision\": precisionk,\n",
    "        \"Recall\": recallk,\n",
    "        \"MAP\": average_precisionk\n",
    "    }\n",
    "\n",
    "    output = dict()\n",
    "\n",
    "    num_users = matrix_Predict.shape[0]\n",
    "\n",
    "    for k in atK:\n",
    "\n",
    "        local_metric_names = list(set(metric_names).intersection(local_metrics.keys()))\n",
    "        results = {name: [] for name in local_metric_names}\n",
    "        topK_Predict = matrix_Predict[:, :k]\n",
    "\n",
    "        for user_index in tqdm(range(topK_Predict.shape[0])):\n",
    "            vector_predict = topK_Predict[user_index]\n",
    "            if len(vector_predict.nonzero()[0]) > 0:\n",
    "                vector_true = matrix_Test[user_index]\n",
    "                vector_true_dense = vector_true.nonzero()[1]\n",
    "                hits = np.isin(vector_predict, vector_true_dense)\n",
    "\n",
    "                if vector_true_dense.size > 0:\n",
    "                    for name in local_metric_names:\n",
    "                        results[name].append(local_metrics[name](vector_true_dense=vector_true_dense,\n",
    "                                                                 vector_predict=vector_predict,\n",
    "                                                                 hits=hits))\n",
    "\n",
    "        results_summary = dict()\n",
    "        if analytical:\n",
    "            for name in local_metric_names:\n",
    "                results_summary['{0}@{1}'.format(name, k)] = results[name]\n",
    "        else:\n",
    "            for name in local_metric_names:\n",
    "                results_summary['{0}@{1}'.format(name, k)] = (np.average(results[name]),\n",
    "                                                              1.96*np.std(results[name])/np.sqrt(num_users))\n",
    "        output.update(results_summary)\n",
    "\n",
    "    global_metric_names = list(set(metric_names).intersection(global_metrics.keys()))\n",
    "    results = {name: [] for name in global_metric_names}\n",
    "\n",
    "    topK_Predict = matrix_Predict[:]\n",
    "\n",
    "    for user_index in tqdm(range(topK_Predict.shape[0])):\n",
    "        vector_predict = topK_Predict[user_index]\n",
    "\n",
    "        if len(vector_predict.nonzero()[0]) > 0:\n",
    "            vector_true = matrix_Test[user_index]\n",
    "            vector_true_dense = vector_true.nonzero()[1]\n",
    "            hits = np.isin(vector_predict, vector_true_dense)\n",
    "\n",
    "            # if user_index == 1:\n",
    "            #     import ipdb;\n",
    "            #     ipdb.set_trace()\n",
    "\n",
    "            if vector_true_dense.size > 0:\n",
    "                for name in global_metric_names:\n",
    "                    results[name].append(global_metrics[name](vector_true_dense=vector_true_dense,\n",
    "                                                              vector_predict=vector_predict,\n",
    "                                                              hits=hits))\n",
    "\n",
    "    results_summary = dict()\n",
    "    if analytical:\n",
    "        for name in global_metric_names:\n",
    "            results_summary[name] = results[name]\n",
    "    else:\n",
    "        for name in global_metric_names:\n",
    "            results_summary[name] = (np.average(results[name]), 1.96*np.std(results[name])/np.sqrt(num_users))\n",
    "    output.update(results_summary)\n",
    "\n",
    "    return output"
   ]
  },
  {
   "cell_type": "markdown",
   "metadata": {},
   "source": [
    "### Normalization"
   ]
  },
  {
   "cell_type": "code",
   "execution_count": 7,
   "metadata": {
    "scrolled": true
   },
   "outputs": [
    {
     "name": "stdout",
     "output_type": "stream",
     "text": [
      "True\n"
     ]
    }
   ],
   "source": [
    "import numpy as np\n",
    "x = np.random.rand(1000)*10\n",
    "norm1 = x / np.linalg.norm(x)\n",
    "norm2 = normalize(x[:,np.newaxis], axis=0).ravel()\n",
    "print np.all(norm1 == norm2)\n",
    "# True"
   ]
  },
  {
   "cell_type": "markdown",
   "metadata": {},
   "source": [
    "# Explanation Prediction"
   ]
  },
  {
   "cell_type": "markdown",
   "metadata": {},
   "source": [
    "Explanation could be a list of similar items or stated reasons in natural language. Keyphrases mined from user reviews are used to reflect reasons for user like or dislike an item. "
   ]
  },
  {
   "cell_type": "code",
   "execution_count": 12,
   "metadata": {
    "collapsed": true
   },
   "outputs": [],
   "source": [
    "def explain(R,W2,k):\n",
    "    \"\"\"\n",
    "    R: Rating Matrix with size U*I\n",
    "    r_ij: observed rating with user i and item j \n",
    "    s_ij: explanation vector with user i and item j \n",
    "    Z: Joint Embedding/Latent Space with size U*U, generate r_ij and s_ij\n",
    "    W2: Reconstruction matrix with size U*K \n",
    "    S: Output explanation prediction matrix with size U*K\n",
    "    \"\"\"\n",
    "    Z = train(R)\n",
    "    S = predict(W2, k, Z)\n",
    "    return normalize(S)"
   ]
  },
  {
   "cell_type": "code",
   "execution_count": 13,
   "metadata": {},
   "outputs": [
    {
     "name": "stderr",
     "output_type": "stream",
     "text": [
      "100%|████████████████████████████████████████████████████████████████████████████| 6370/6370 [00:03<00:00, 2103.70it/s]\n"
     ]
    }
   ],
   "source": [
    "Explanation_res1 = explain(rtrain, normalize(U_K), 100)"
   ]
  },
  {
   "cell_type": "code",
   "execution_count": 21,
   "metadata": {},
   "outputs": [
    {
     "data": {
      "text/plain": [
       "array([18, 30, 11,  8, 58, 21, 45,  0, 50, 39,  6,  2, 42, 55, 12, 43, 44,\n",
       "       16, 14,  1], dtype=int64)"
      ]
     },
     "execution_count": 21,
     "metadata": {},
     "output_type": "execute_result"
    }
   ],
   "source": [
    "np.argsort(Explanation_res1[0])[-20:]"
   ]
  },
  {
   "cell_type": "code",
   "execution_count": 20,
   "metadata": {
    "scrolled": true
   },
   "outputs": [
    {
     "data": {
      "text/plain": [
       "array([55, 26, 47, 62, 39, 12, 50,  6, 31, 58, 67, 21, 30, 44, 36, 16, 43,\n",
       "        2,  1, 14], dtype=int64)"
      ]
     },
     "execution_count": 20,
     "metadata": {},
     "output_type": "execute_result"
    }
   ],
   "source": [
    "np.argsort(np.ravel(normalize(U_K).todense()[0]))[-20:]"
   ]
  },
  {
   "cell_type": "code",
   "execution_count": 23,
   "metadata": {},
   "outputs": [
    {
     "data": {
      "text/plain": [
       "0.7"
      ]
     },
     "execution_count": 23,
     "metadata": {},
     "output_type": "execute_result"
    }
   ],
   "source": [
    "# Compare \n",
    "len(list(set(np.argsort(Explanation_res1[0])[-20:]).intersection(set(np.argsort(np.ravel(normalize(U_K).todense()[0]))[-20:]))))/20"
   ]
  },
  {
   "cell_type": "code",
   "execution_count": 33,
   "metadata": {
    "collapsed": true
   },
   "outputs": [],
   "source": [
    "def recall(vector_true_dense, vector_true_predict):\n",
    "    \"\"\"\n",
    "    The fraction of relevant instances that have been retrieved over the total amount of relevant instances\n",
    "    The length of vector_true_dense and vector_true_predict has to be the same\n",
    "    Out put recall\n",
    "    \"\"\"\n",
    "    hits = len(np.isin(vector_true_predict, vector_true_dense).nonzero()[0])\n",
    "    return float(hits)/len(vector_true_dense)\n",
    "\n",
    "# Total Recall\n",
    "def recall_all(true_matrix, predict_matrix, topK = 20):\n",
    "    res = []\n",
    "    for i in tqdm(range(len(Explanation_res1))):\n",
    "        true_vector = np.argsort(np.ravel(normalize(true_matrix).todense()[i]))[-topK:]\n",
    "        predict_vector = np.argsort(predict_matrix[i])[-topK:]\n",
    "        res.append(recall(true_vector,predict_vector))\n",
    "    return sum(res)/len(res)"
   ]
  },
  {
   "cell_type": "code",
   "execution_count": 34,
   "metadata": {
    "scrolled": true
   },
   "outputs": [
    {
     "name": "stderr",
     "output_type": "stream",
     "text": [
      "100%|█████████████████████████████████████████████████████████████████████████████| 6370/6370 [00:30<00:00, 205.52it/s]\n"
     ]
    },
    {
     "data": {
      "text/plain": [
       "0.7153610675039237"
      ]
     },
     "execution_count": 34,
     "metadata": {},
     "output_type": "execute_result"
    }
   ],
   "source": [
    "recall_all(U_K,Explanation_res1)"
   ]
  },
  {
   "cell_type": "code",
   "execution_count": 39,
   "metadata": {
    "scrolled": true
   },
   "outputs": [
    {
     "name": "stderr",
     "output_type": "stream",
     "text": [
      "100%|████████████████████████████████████████████████████████████████████████████| 6370/6370 [00:03<00:00, 1798.93it/s]\n",
      "100%|█████████████████████████████████████████████████████████████████████████████| 6370/6370 [00:30<00:00, 206.12it/s]\n"
     ]
    },
    {
     "data": {
      "text/plain": [
       "0.7147723704866576"
      ]
     },
     "execution_count": 39,
     "metadata": {},
     "output_type": "execute_result"
    }
   ],
   "source": [
    "Explanation_res2 = explain(rtrain, normalize(U_K), 200)\n",
    "recall_all(U_K,Explanation_res2)"
   ]
  },
  {
   "cell_type": "markdown",
   "metadata": {},
   "source": [
    "evaluate(Explanation_res1, normalize(U_K))"
   ]
  },
  {
   "cell_type": "markdown",
   "metadata": {
    "collapsed": true
   },
   "source": [
    "# Create a synthetic user u1"
   ]
  },
  {
   "cell_type": "code",
   "execution_count": 8,
   "metadata": {
    "scrolled": true
   },
   "outputs": [],
   "source": [
    "# U_K = get_I_K(df_train, row_name = 'UserIndex', shape = (6370,75))\n",
    "U_K = load_npz('../../data/beer/U_K.npz')"
   ]
  },
  {
   "cell_type": "code",
   "execution_count": 70,
   "metadata": {},
   "outputs": [],
   "source": [
    "def modify_user_keyphrase(U_K, keyphrase_ids, normalization = True, keyval = 1, user_id = 0):\n",
    "    \"\"\"\n",
    "    Change all keyphrase id to some fixed number, all others to 0\n",
    "    Return the U_K matrix with user_id row the synthetic user1\n",
    "    \"\"\"\n",
    "    U_K[user_id,:] = 0\n",
    "    for keyphrase_id in keyphrase_ids:\n",
    "        U_K[user_id,keyphrase_id] = keyval\n",
    "    if normalization == True:\n",
    "        return normalize(U_K)\n",
    "    return U_K"
   ]
  },
  {
   "cell_type": "markdown",
   "metadata": {},
   "source": [
    "## Modify U_U latent Space "
   ]
  },
  {
   "cell_type": "markdown",
   "metadata": {},
   "source": [
    "but by changing/manipulating the U_I matrix, we need to know more information of each item. More specifically, we need to get a item-keyphrase matrix in order to change U_I as we want."
   ]
  },
  {
   "cell_type": "code",
   "execution_count": 48,
   "metadata": {},
   "outputs": [],
   "source": [
    "# I_K = get_I_K(df_train, row_name = 'ItemIndex', shape = (3668,75))\n",
    "I_K = load_npz('../../data/beer/I_K.npz')"
   ]
  },
  {
   "cell_type": "code",
   "execution_count": 11,
   "metadata": {
    "scrolled": true
   },
   "outputs": [
    {
     "data": {
      "text/plain": [
       "array([2972, 2212, 2244, 2169,  746, 2666, 3472,  946, 2034, 2698, 2451,\n",
       "       2607, 2053, 2708, 1195,  160, 2178,  879, 1800, 1433, 2710, 2052,\n",
       "       3046, 1021, 1490, 2255, 1690,  656, 3118,  764,  332, 3121,  448,\n",
       "       1088, 1374, 3280, 2275,  305,  979, 2250,  875, 1898,  108, 2912,\n",
       "       2928,  358,  751, 2125,  684, 3152, 2366, 2198, 2217, 3252,  331,\n",
       "         41, 2978,  371, 3606,  363,  569,   19,  453, 1871, 1249, 1373,\n",
       "       2744, 1323, 1202,  740, 2707, 2701, 2073,  184,  409, 1647,  268,\n",
       "        128, 3143, 3147, 1290, 1198, 2209,  374, 2923, 2691, 3628, 2732,\n",
       "       3631, 1371,  364, 2925,  361, 2874, 2468,  749, 3240, 2215, 1639,\n",
       "        597], dtype=int64)"
      ]
     },
     "execution_count": 11,
     "metadata": {},
     "output_type": "execute_result"
    }
   ],
   "source": [
    "# I_K[:,0]: Items corresponding to Keyphrase 0\n",
    "# Get top 100 items and reshape the matrix to array\n",
    "keyphrase_id = 0\n",
    "top_n = 100\n",
    "np.argsort(np.ravel(I_K.todense()[:,keyphrase_id]))[-top_n:]"
   ]
  },
  {
   "cell_type": "code",
   "execution_count": 40,
   "metadata": {},
   "outputs": [
    {
     "name": "stderr",
     "output_type": "stream",
     "text": [
      "C:\\Users\\hanze\\Anaconda3\\envs\\KNN\\lib\\site-packages\\scipy\\sparse\\compressed.py:774: SparseEfficiencyWarning: Changing the sparsity structure of a csr_matrix is expensive. lil_matrix is more efficient.\n",
      "  SparseEfficiencyWarning)\n"
     ]
    }
   ],
   "source": [
    "# Set some extreme U_I \n",
    "# For user1 set some items to 1\n",
    "U_I[0,:] = 0\n",
    "for i in np.argsort(np.ravel(I_K.todense()[:,keyphrase_id]))[-top_n:]:\n",
    "    U_I[0,i] = 1\n",
    "# U_I[0][np.argsort(np.ravel(I_K.todense()[:,keyphrase_id]))[-top_n:]] = 1"
   ]
  },
  {
   "cell_type": "code",
   "execution_count": 45,
   "metadata": {
    "collapsed": true
   },
   "outputs": [],
   "source": [
    "def item_associated_with_keyphrase(I_K, keyphrase_ids, top_n = 100):\n",
    "    \"\"\"\n",
    "    I_K: Item Keyphrase Matrix\n",
    "    Keyphrase_ids: top items described by keyphrase_ids\n",
    "    output item list (list of list)\n",
    "    \"\"\"\n",
    "    res = []\n",
    "    for keyphrase_id in keyphrase_ids:\n",
    "        res.append(np.argsort(np.ravel(I_K.todense()[:,keyphrase_id]))[-top_n:])\n",
    "    return np.unique(res)"
   ]
  },
  {
   "cell_type": "code",
   "execution_count": 115,
   "metadata": {},
   "outputs": [
    {
     "data": {
      "text/plain": [
       "array([  19,   41,  108,  128,  160,  184,  268,  305,  331,  332,  358,\n",
       "        361,  363,  364,  371,  374,  409,  448,  453,  569,  597,  656,\n",
       "        684,  740,  746,  749,  751,  764,  875,  879,  946,  979, 1021,\n",
       "       1088, 1195, 1198, 1202, 1249, 1290, 1323, 1371, 1373, 1374, 1433,\n",
       "       1490, 1639, 1647, 1690, 1800, 1871, 1898, 2034, 2052, 2053, 2073,\n",
       "       2125, 2169, 2178, 2198, 2209, 2212, 2215, 2217, 2244, 2250, 2255,\n",
       "       2275, 2366, 2451, 2468, 2607, 2666, 2691, 2698, 2701, 2707, 2708,\n",
       "       2710, 2732, 2744, 2874, 2912, 2923, 2925, 2928, 2972, 2978, 3046,\n",
       "       3118, 3121, 3143, 3147, 3152, 3240, 3252, 3280, 3472, 3606, 3628,\n",
       "       3631], dtype=int64)"
      ]
     },
     "execution_count": 115,
     "metadata": {},
     "output_type": "execute_result"
    }
   ],
   "source": [
    "item_associated_with_keyphrase(I_K, [0])"
   ]
  },
  {
   "cell_type": "code",
   "execution_count": 262,
   "metadata": {},
   "outputs": [],
   "source": [
    "# Get the index corresponding to item id\n",
    "# item_idx = 3644\n",
    "# df_train.index[df_train['ItemIndex'] == item_idx].tolist()"
   ]
  },
  {
   "cell_type": "code",
   "execution_count": 185,
   "metadata": {
    "collapsed": true
   },
   "outputs": [],
   "source": [
    "def modify_user_preference(U_I, items, user_id = 0):\n",
    "    \"\"\"\n",
    "    TODO: Fix the function s.t. it will not modify the initial matrix\n",
    "    \"\"\"\n",
    "    U_I[user_id,:] = 0\n",
    "    for i in items:\n",
    "        U_I[0,i] = 1\n",
    "    return U_I"
   ]
  },
  {
   "cell_type": "markdown",
   "metadata": {},
   "source": [
    "### Experiment"
   ]
  },
  {
   "cell_type": "code",
   "execution_count": 238,
   "metadata": {
    "collapsed": true
   },
   "outputs": [],
   "source": [
    "U_K = load_npz('../../data/beer/U_K.npz')\n",
    "U_K = normalize(U_K)\n",
    "rtrain = load_npz(\"../../data/beer/Rtrain.npz\")"
   ]
  },
  {
   "cell_type": "code",
   "execution_count": 204,
   "metadata": {
    "scrolled": true
   },
   "outputs": [
    {
     "name": "stderr",
     "output_type": "stream",
     "text": [
      "D:\\Anaconda\\envs\\py27\\lib\\site-packages\\ipykernel_launcher.py:5: SparseEfficiencyWarning: Changing the sparsity structure of a csr_matrix is expensive. lil_matrix is more efficient.\n",
      "  \"\"\"\n"
     ]
    }
   ],
   "source": [
    "items = item_associated_with_keyphrase(I_K, [8]) # coffee\n",
    "U_I = modify_user_preference(rtrain, items)"
   ]
  },
  {
   "cell_type": "code",
   "execution_count": 205,
   "metadata": {},
   "outputs": [
    {
     "name": "stderr",
     "output_type": "stream",
     "text": [
      "D:\\Anaconda\\envs\\py27\\lib\\site-packages\\ipykernel_launcher.py:6: SparseEfficiencyWarning: Changing the sparsity structure of a csr_matrix is expensive. lil_matrix is more efficient.\n",
      "  \n"
     ]
    }
   ],
   "source": [
    "modified_U_U = train(U_I)\n",
    "modified_U_K = modify_user_keyphrase(U_K,keyphrase_ids=[8])"
   ]
  },
  {
   "cell_type": "code",
   "execution_count": 206,
   "metadata": {
    "scrolled": true
   },
   "outputs": [
    {
     "name": "stderr",
     "output_type": "stream",
     "text": [
      "100%|████████████████████████████████████████████████████████████████████████████| 6370/6370 [00:03<00:00, 2024.79it/s]\n"
     ]
    },
    {
     "name": "stdout",
     "output_type": "stream",
     "text": [
      "[0.2106391  0.41475516 0.20996175 0.02593623 0.0680651  0.08887984\n",
      " 0.2234473  0.02981935 0.17394346 0.04713533 0.08481757 0.0882533\n",
      " 0.17009241 0.04244185 0.28178836 0.03119407 0.30238048 0.04481298\n",
      " 0.08553967 0.04253654 0.05203158 0.15991004 0.06030151 0.04327027\n",
      " 0.07178276 0.0108858  0.05164822 0.02825977 0.03723946 0.02047524\n",
      " 0.05489275 0.06511377 0.02588423 0.00900447 0.06137628 0.02266214\n",
      " 0.08221878 0.00615714 0.04238288 0.13852531 0.05251514 0.09014796\n",
      " 0.17720271 0.24434653 0.27032971 0.1327618  0.01477079 0.08005493\n",
      " 0.02965783 0.00767421 0.20038679 0.06749889 0.03210295 0.02347733\n",
      " 0.0182822  0.22481009 0.04244211 0.01150589 0.11850405 0.02153989\n",
      " 0.04717489 0.02386378 0.04588161 0.02651843 0.03030469 0.0319958\n",
      " 0.02474507 0.05071973 0.05128094 0.01421376 0.01117445 0.032857\n",
      " 0.01658942 0.01116816 0.03050019]\n"
     ]
    }
   ],
   "source": [
    "k = 100\n",
    "user_1_keyphrase = normalize(predict(modified_U_K, k, modified_U_U))[0]\n",
    "print user_1_keyphrase"
   ]
  },
  {
   "cell_type": "code",
   "execution_count": 207,
   "metadata": {
    "collapsed": true
   },
   "outputs": [],
   "source": [
    "user1_top_keyphrase = np.argsort(user_1_keyphrase)[-20:]"
   ]
  },
  {
   "cell_type": "code",
   "execution_count": 239,
   "metadata": {
    "collapsed": true
   },
   "outputs": [],
   "source": [
    "def item_associated_with_keyphrase(I_K, keyphrase_ids, top_items = 100):\n",
    "    \"\"\"\n",
    "    I_K: Item Keyphrase Matrix\n",
    "    Keyphrase_ids: top items described by keyphrase_ids\n",
    "    top_n: how many top items described by the keyphrases will be output \n",
    "    output item list (unique)\n",
    "    \"\"\"\n",
    "    res = []\n",
    "    for keyphrase_id in keyphrase_ids:\n",
    "        res.append(np.argsort(np.ravel(I_K.todense()[:,keyphrase_id]))[-top_items:])\n",
    "    return np.unique(res)\n",
    "\n",
    "def modify_user_preference(U_I, items, user_id = 0):\n",
    "    \"\"\"\n",
    "    TODO: Fix the function s.t. it will not modify the initial matrix\n",
    "    \"\"\"\n",
    "    U_I[user_id,:] = 0\n",
    "    for i in items:\n",
    "        U_I[0,i] = 1\n",
    "    return U_I\n",
    "\n",
    "def explain_synthetic_user(rtrain, U_K, I_K, keyphrases, top_keyphrase = 20, user_id = 0, k = 100, top_items = 100):\n",
    "    items = item_associated_with_keyphrase(I_K, keyphrases, top_items = top_items) # 8 is coffee\n",
    "    U_I = modify_user_preference(rtrain, items, user_id=user_id)\n",
    "    modified_U_U = train(U_I)\n",
    "    U_K[user_id, :] = 0\n",
    "    synthetic_user_keyphrase = normalize(predict(U_K, k, modified_U_U))[user_id]\n",
    "    return np.argsort(synthetic_user_keyphrase)[-top_keyphrase:]"
   ]
  },
  {
   "cell_type": "code",
   "execution_count": 240,
   "metadata": {
    "scrolled": false
   },
   "outputs": [
    {
     "name": "stderr",
     "output_type": "stream",
     "text": [
      "D:\\Anaconda\\envs\\py27\\lib\\site-packages\\ipykernel_launcher.py:17: SparseEfficiencyWarning: Changing the sparsity structure of a csr_matrix is expensive. lil_matrix is more efficient.\n",
      "D:\\Anaconda\\envs\\py27\\lib\\site-packages\\ipykernel_launcher.py:26: SparseEfficiencyWarning: Changing the sparsity structure of a csr_matrix is expensive. lil_matrix is more efficient.\n",
      "100%|████████████████████████████████████████████████████████████████████████████| 6370/6370 [00:03<00:00, 1983.81it/s]\n"
     ]
    },
    {
     "data": {
      "text/plain": [
       "array([36, 11,  5, 58, 45, 39, 12, 21,  8, 42, 50,  0,  2,  6, 55, 43, 44,\n",
       "       14, 16,  1], dtype=int64)"
      ]
     },
     "execution_count": 240,
     "metadata": {},
     "output_type": "execute_result"
    }
   ],
   "source": [
    "explain_synthetic_user(rtrain, U_K, I_K, [0])"
   ]
  },
  {
   "cell_type": "code",
   "execution_count": 244,
   "metadata": {
    "scrolled": true
   },
   "outputs": [
    {
     "name": "stderr",
     "output_type": "stream",
     "text": [
      "100%|████████████████████████████████████████████████████████████████████████████| 6370/6370 [00:03<00:00, 2016.46it/s]\n"
     ]
    },
    {
     "data": {
      "text/plain": [
       "array([50, 47, 31, 58, 18, 36,  0,  6, 21, 45, 39, 42,  2, 44, 55, 43, 12,\n",
       "       14, 16,  1], dtype=int64)"
      ]
     },
     "execution_count": 244,
     "metadata": {},
     "output_type": "execute_result"
    }
   ],
   "source": [
    "explain_synthetic_user(rtrain, U_K, I_K, [12])"
   ]
  },
  {
   "cell_type": "code",
   "execution_count": 261,
   "metadata": {},
   "outputs": [
    {
     "data": {
      "text/plain": [
       "'ale'"
      ]
     },
     "execution_count": 261,
     "metadata": {},
     "output_type": "execute_result"
    }
   ],
   "source": [
    "keyphrase[12]"
   ]
  },
  {
   "cell_type": "code",
   "execution_count": 258,
   "metadata": {},
   "outputs": [
    {
     "name": "stderr",
     "output_type": "stream",
     "text": [
      "D:\\Anaconda\\envs\\py27\\lib\\site-packages\\ipykernel_launcher.py:17: SparseEfficiencyWarning: Changing the sparsity structure of a csr_matrix is expensive. lil_matrix is more efficient.\n",
      "100%|████████████████████████████████████████████████████████████████████████████| 6370/6370 [00:03<00:00, 2090.58it/s]\n"
     ]
    },
    {
     "name": "stdout",
     "output_type": "stream",
     "text": [
      "8\n"
     ]
    },
    {
     "name": "stderr",
     "output_type": "stream",
     "text": [
      "100%|████████████████████████████████████████████████████████████████████████████| 6370/6370 [00:03<00:00, 2096.77it/s]\n"
     ]
    },
    {
     "name": "stdout",
     "output_type": "stream",
     "text": [
      "0\n"
     ]
    },
    {
     "name": "stderr",
     "output_type": "stream",
     "text": [
      "100%|████████████████████████████████████████████████████████████████████████████| 6370/6370 [00:03<00:00, 2005.67it/s]\n"
     ]
    },
    {
     "name": "stdout",
     "output_type": "stream",
     "text": [
      "6\n"
     ]
    },
    {
     "name": "stderr",
     "output_type": "stream",
     "text": [
      "100%|████████████████████████████████████████████████████████████████████████████| 6370/6370 [00:03<00:00, 2018.38it/s]\n"
     ]
    },
    {
     "name": "stdout",
     "output_type": "stream",
     "text": [
      "41\n"
     ]
    },
    {
     "name": "stderr",
     "output_type": "stream",
     "text": [
      "100%|████████████████████████████████████████████████████████████████████████████| 6370/6370 [00:03<00:00, 2083.06it/s]\n"
     ]
    },
    {
     "name": "stdout",
     "output_type": "stream",
     "text": [
      "25\n"
     ]
    },
    {
     "name": "stderr",
     "output_type": "stream",
     "text": [
      "100%|████████████████████████████████████████████████████████████████████████████| 6370/6370 [00:03<00:00, 2085.79it/s]\n"
     ]
    },
    {
     "name": "stdout",
     "output_type": "stream",
     "text": [
      "18\n"
     ]
    },
    {
     "name": "stderr",
     "output_type": "stream",
     "text": [
      "100%|████████████████████████████████████████████████████████████████████████████| 6370/6370 [00:03<00:00, 2089.90it/s]\n"
     ]
    },
    {
     "name": "stdout",
     "output_type": "stream",
     "text": [
      "6\n"
     ]
    },
    {
     "name": "stderr",
     "output_type": "stream",
     "text": [
      "100%|████████████████████████████████████████████████████████████████████████████| 6370/6370 [00:03<00:00, 2072.22it/s]\n"
     ]
    },
    {
     "name": "stdout",
     "output_type": "stream",
     "text": [
      "40\n"
     ]
    },
    {
     "name": "stderr",
     "output_type": "stream",
     "text": [
      "100%|████████████████████████████████████████████████████████████████████████████| 6370/6370 [00:03<00:00, 2090.58it/s]\n"
     ]
    },
    {
     "name": "stdout",
     "output_type": "stream",
     "text": [
      "11\n"
     ]
    },
    {
     "name": "stderr",
     "output_type": "stream",
     "text": [
      "100%|████████████████████████████████████████████████████████████████████████████| 6370/6370 [00:03<00:00, 2094.71it/s]\n"
     ]
    },
    {
     "name": "stdout",
     "output_type": "stream",
     "text": [
      "13\n"
     ]
    },
    {
     "name": "stderr",
     "output_type": "stream",
     "text": [
      "100%|████████████████████████████████████████████████████████████████████████████| 6370/6370 [00:03<00:00, 2085.79it/s]\n"
     ]
    },
    {
     "name": "stdout",
     "output_type": "stream",
     "text": [
      "16\n"
     ]
    },
    {
     "name": "stderr",
     "output_type": "stream",
     "text": [
      "100%|████████████████████████████████████████████████████████████████████████████| 6370/6370 [00:03<00:00, 2085.79it/s]\n"
     ]
    },
    {
     "name": "stdout",
     "output_type": "stream",
     "text": [
      "11\n"
     ]
    },
    {
     "name": "stderr",
     "output_type": "stream",
     "text": [
      "100%|████████████████████████████████████████████████████████████████████████████| 6370/6370 [00:03<00:00, 2089.89it/s]\n"
     ]
    },
    {
     "name": "stdout",
     "output_type": "stream",
     "text": [
      "3\n"
     ]
    },
    {
     "name": "stderr",
     "output_type": "stream",
     "text": [
      "100%|████████████████████████████████████████████████████████████████████████████| 6370/6370 [00:03<00:00, 2087.16it/s]\n"
     ]
    },
    {
     "name": "stdout",
     "output_type": "stream",
     "text": [
      "43\n"
     ]
    },
    {
     "name": "stderr",
     "output_type": "stream",
     "text": [
      "100%|████████████████████████████████████████████████████████████████████████████| 6370/6370 [00:03<00:00, 2095.39it/s]\n"
     ]
    },
    {
     "name": "stdout",
     "output_type": "stream",
     "text": [
      "1\n"
     ]
    },
    {
     "name": "stderr",
     "output_type": "stream",
     "text": [
      "100%|████████████████████████████████████████████████████████████████████████████| 6370/6370 [00:03<00:00, 2084.42it/s]\n"
     ]
    },
    {
     "name": "stdout",
     "output_type": "stream",
     "text": [
      "42\n"
     ]
    },
    {
     "name": "stderr",
     "output_type": "stream",
     "text": [
      "100%|████████████████████████████████████████████████████████████████████████████| 6370/6370 [00:03<00:00, 2091.95it/s]\n"
     ]
    },
    {
     "name": "stdout",
     "output_type": "stream",
     "text": [
      "1\n"
     ]
    },
    {
     "name": "stderr",
     "output_type": "stream",
     "text": [
      "100%|████████████████████████████████████████████████████████████████████████████| 6370/6370 [00:03<00:00, 2085.79it/s]\n"
     ]
    },
    {
     "name": "stdout",
     "output_type": "stream",
     "text": [
      "25\n"
     ]
    },
    {
     "name": "stderr",
     "output_type": "stream",
     "text": [
      "100%|████████████████████████████████████████████████████████████████████████████| 6370/6370 [00:03<00:00, 2090.58it/s]\n"
     ]
    },
    {
     "name": "stdout",
     "output_type": "stream",
     "text": [
      "16\n"
     ]
    },
    {
     "name": "stderr",
     "output_type": "stream",
     "text": [
      "100%|████████████████████████████████████████████████████████████████████████████| 6370/6370 [00:03<00:00, 2087.16it/s]\n"
     ]
    },
    {
     "name": "stdout",
     "output_type": "stream",
     "text": [
      "35\n"
     ]
    },
    {
     "name": "stderr",
     "output_type": "stream",
     "text": [
      "100%|████████████████████████████████████████████████████████████████████████████| 6370/6370 [00:03<00:00, 2085.79it/s]\n"
     ]
    },
    {
     "name": "stdout",
     "output_type": "stream",
     "text": [
      "29\n"
     ]
    },
    {
     "name": "stderr",
     "output_type": "stream",
     "text": [
      "100%|████████████████████████████████████████████████████████████████████████████| 6370/6370 [00:03<00:00, 2089.89it/s]\n"
     ]
    },
    {
     "name": "stdout",
     "output_type": "stream",
     "text": [
      "6\n"
     ]
    },
    {
     "name": "stderr",
     "output_type": "stream",
     "text": [
      "100%|████████████████████████████████████████████████████████████████████████████| 6370/6370 [00:03<00:00, 2085.79it/s]\n"
     ]
    },
    {
     "name": "stdout",
     "output_type": "stream",
     "text": [
      "25\n"
     ]
    },
    {
     "name": "stderr",
     "output_type": "stream",
     "text": [
      "100%|████████████████████████████████████████████████████████████████████████████| 6370/6370 [00:03<00:00, 2087.16it/s]\n"
     ]
    },
    {
     "name": "stdout",
     "output_type": "stream",
     "text": [
      "34\n"
     ]
    },
    {
     "name": "stderr",
     "output_type": "stream",
     "text": [
      "100%|████████████████████████████████████████████████████████████████████████████| 6370/6370 [00:03<00:00, 2093.33it/s]\n"
     ]
    },
    {
     "name": "stdout",
     "output_type": "stream",
     "text": [
      "18\n"
     ]
    },
    {
     "name": "stderr",
     "output_type": "stream",
     "text": [
      "100%|████████████████████████████████████████████████████████████████████████████| 6370/6370 [00:03<00:00, 2096.08it/s]\n"
     ]
    },
    {
     "name": "stdout",
     "output_type": "stream",
     "text": [
      "50\n"
     ]
    },
    {
     "name": "stderr",
     "output_type": "stream",
     "text": [
      "100%|████████████████████████████████████████████████████████████████████████████| 6370/6370 [00:03<00:00, 2091.95it/s]\n"
     ]
    },
    {
     "name": "stdout",
     "output_type": "stream",
     "text": [
      "30\n"
     ]
    },
    {
     "name": "stderr",
     "output_type": "stream",
     "text": [
      "100%|████████████████████████████████████████████████████████████████████████████| 6370/6370 [00:03<00:00, 2078.98it/s]\n"
     ]
    },
    {
     "name": "stdout",
     "output_type": "stream",
     "text": [
      "49\n"
     ]
    },
    {
     "name": "stderr",
     "output_type": "stream",
     "text": [
      "100%|████████████████████████████████████████████████████████████████████████████| 6370/6370 [00:03<00:00, 2060.82it/s]\n"
     ]
    },
    {
     "name": "stdout",
     "output_type": "stream",
     "text": [
      "50\n"
     ]
    },
    {
     "name": "stderr",
     "output_type": "stream",
     "text": [
      "100%|████████████████████████████████████████████████████████████████████████████| 6370/6370 [00:03<00:00, 1976.42it/s]\n"
     ]
    },
    {
     "name": "stdout",
     "output_type": "stream",
     "text": [
      "41\n"
     ]
    },
    {
     "name": "stderr",
     "output_type": "stream",
     "text": [
      "100%|████████████████████████████████████████████████████████████████████████████| 6370/6370 [00:03<00:00, 2089.90it/s]\n"
     ]
    },
    {
     "name": "stdout",
     "output_type": "stream",
     "text": [
      "15\n"
     ]
    },
    {
     "name": "stderr",
     "output_type": "stream",
     "text": [
      "100%|████████████████████████████████████████████████████████████████████████████| 6370/6370 [00:03<00:00, 2081.70it/s]\n"
     ]
    },
    {
     "name": "stdout",
     "output_type": "stream",
     "text": [
      "12\n"
     ]
    },
    {
     "name": "stderr",
     "output_type": "stream",
     "text": [
      "100%|████████████████████████████████████████████████████████████████████████████| 6370/6370 [00:03<00:00, 2086.47it/s]\n"
     ]
    },
    {
     "name": "stdout",
     "output_type": "stream",
     "text": [
      "41\n"
     ]
    },
    {
     "name": "stderr",
     "output_type": "stream",
     "text": [
      "100%|████████████████████████████████████████████████████████████████████████████| 6370/6370 [00:03<00:00, 2086.47it/s]\n"
     ]
    },
    {
     "name": "stdout",
     "output_type": "stream",
     "text": [
      "61\n"
     ]
    },
    {
     "name": "stderr",
     "output_type": "stream",
     "text": [
      "100%|████████████████████████████████████████████████████████████████████████████| 6370/6370 [00:03<00:00, 2078.30it/s]\n"
     ]
    },
    {
     "name": "stdout",
     "output_type": "stream",
     "text": [
      "14\n"
     ]
    },
    {
     "name": "stderr",
     "output_type": "stream",
     "text": [
      "100%|████████████████████████████████████████████████████████████████████████████| 6370/6370 [00:03<00:00, 2089.21it/s]\n"
     ]
    },
    {
     "name": "stdout",
     "output_type": "stream",
     "text": [
      "35\n"
     ]
    },
    {
     "name": "stderr",
     "output_type": "stream",
     "text": [
      "100%|████████████████████████████████████████████████████████████████████████████| 6370/6370 [00:03<00:00, 2085.11it/s]\n"
     ]
    },
    {
     "name": "stdout",
     "output_type": "stream",
     "text": [
      "15\n"
     ]
    },
    {
     "name": "stderr",
     "output_type": "stream",
     "text": [
      "100%|████████████████████████████████████████████████████████████████████████████| 6370/6370 [00:03<00:00, 2087.84it/s]\n"
     ]
    },
    {
     "name": "stdout",
     "output_type": "stream",
     "text": [
      "69\n"
     ]
    },
    {
     "name": "stderr",
     "output_type": "stream",
     "text": [
      "100%|████████████████████████████████████████████████████████████████████████████| 6370/6370 [00:03<00:00, 2083.06it/s]\n"
     ]
    },
    {
     "name": "stdout",
     "output_type": "stream",
     "text": [
      "36\n"
     ]
    },
    {
     "name": "stderr",
     "output_type": "stream",
     "text": [
      "100%|████████████████████████████████████████████████████████████████████████████| 6370/6370 [00:03<00:00, 2088.52it/s]\n"
     ]
    },
    {
     "name": "stdout",
     "output_type": "stream",
     "text": [
      "8\n"
     ]
    },
    {
     "name": "stderr",
     "output_type": "stream",
     "text": [
      "100%|████████████████████████████████████████████████████████████████████████████| 6370/6370 [00:03<00:00, 2088.52it/s]\n"
     ]
    },
    {
     "name": "stdout",
     "output_type": "stream",
     "text": [
      "18\n"
     ]
    },
    {
     "name": "stderr",
     "output_type": "stream",
     "text": [
      "100%|████████████████████████████████████████████████████████████████████████████| 6370/6370 [00:03<00:00, 2090.58it/s]\n"
     ]
    },
    {
     "name": "stdout",
     "output_type": "stream",
     "text": [
      "22\n"
     ]
    },
    {
     "name": "stderr",
     "output_type": "stream",
     "text": [
      "100%|████████████████████████████████████████████████████████████████████████████| 6370/6370 [00:03<00:00, 2089.21it/s]\n"
     ]
    },
    {
     "name": "stdout",
     "output_type": "stream",
     "text": [
      "4\n"
     ]
    },
    {
     "name": "stderr",
     "output_type": "stream",
     "text": [
      "100%|████████████████████████████████████████████████████████████████████████████| 6370/6370 [00:03<00:00, 2087.84it/s]\n"
     ]
    },
    {
     "name": "stdout",
     "output_type": "stream",
     "text": [
      "4\n"
     ]
    },
    {
     "name": "stderr",
     "output_type": "stream",
     "text": [
      "100%|████████████████████████████████████████████████████████████████████████████| 6370/6370 [00:03<00:00, 2096.08it/s]\n"
     ]
    },
    {
     "name": "stdout",
     "output_type": "stream",
     "text": [
      "2\n"
     ]
    },
    {
     "name": "stderr",
     "output_type": "stream",
     "text": [
      "100%|████████████████████████████████████████████████████████████████████████████| 6370/6370 [00:03<00:00, 2085.11it/s]\n"
     ]
    },
    {
     "name": "stdout",
     "output_type": "stream",
     "text": [
      "6\n"
     ]
    },
    {
     "name": "stderr",
     "output_type": "stream",
     "text": [
      "100%|████████████████████████████████████████████████████████████████████████████| 6370/6370 [00:03<00:00, 2089.89it/s]\n"
     ]
    },
    {
     "name": "stdout",
     "output_type": "stream",
     "text": [
      "64\n"
     ]
    },
    {
     "name": "stderr",
     "output_type": "stream",
     "text": [
      "100%|████████████████████████████████████████████████████████████████████████████| 6370/6370 [00:03<00:00, 2089.90it/s]\n"
     ]
    },
    {
     "name": "stdout",
     "output_type": "stream",
     "text": [
      "17\n"
     ]
    },
    {
     "name": "stderr",
     "output_type": "stream",
     "text": [
      "100%|████████████████████████████████████████████████████████████████████████████| 6370/6370 [00:03<00:00, 2077.63it/s]\n"
     ]
    },
    {
     "name": "stdout",
     "output_type": "stream",
     "text": [
      "48\n"
     ]
    },
    {
     "name": "stderr",
     "output_type": "stream",
     "text": [
      "100%|████████████████████████████████████████████████████████████████████████████| 6370/6370 [00:03<00:00, 2085.79it/s]\n"
     ]
    },
    {
     "name": "stdout",
     "output_type": "stream",
     "text": [
      "73\n"
     ]
    },
    {
     "name": "stderr",
     "output_type": "stream",
     "text": [
      "100%|████████████████████████████████████████████████████████████████████████████| 6370/6370 [00:03<00:00, 2087.84it/s]\n"
     ]
    },
    {
     "name": "stdout",
     "output_type": "stream",
     "text": [
      "9\n"
     ]
    },
    {
     "name": "stderr",
     "output_type": "stream",
     "text": [
      "100%|████████████████████████████████████████████████████████████████████████████| 6370/6370 [00:03<00:00, 2080.34it/s]\n"
     ]
    },
    {
     "name": "stdout",
     "output_type": "stream",
     "text": [
      "12\n"
     ]
    },
    {
     "name": "stderr",
     "output_type": "stream",
     "text": [
      "100%|████████████████████████████████████████████████████████████████████████████| 6370/6370 [00:03<00:00, 2092.64it/s]\n"
     ]
    },
    {
     "name": "stdout",
     "output_type": "stream",
     "text": [
      "23\n"
     ]
    },
    {
     "name": "stderr",
     "output_type": "stream",
     "text": [
      "100%|████████████████████████████████████████████████████████████████████████████| 6370/6370 [00:03<00:00, 2091.27it/s]\n"
     ]
    },
    {
     "name": "stdout",
     "output_type": "stream",
     "text": [
      "56\n"
     ]
    },
    {
     "name": "stderr",
     "output_type": "stream",
     "text": [
      "100%|████████████████████████████████████████████████████████████████████████████| 6370/6370 [00:03<00:00, 2076.95it/s]\n"
     ]
    },
    {
     "name": "stdout",
     "output_type": "stream",
     "text": [
      "61\n"
     ]
    },
    {
     "name": "stderr",
     "output_type": "stream",
     "text": [
      "100%|████████████████████████████████████████████████████████████████████████████| 6370/6370 [00:03<00:00, 1986.90it/s]\n"
     ]
    },
    {
     "name": "stdout",
     "output_type": "stream",
     "text": [
      "5\n"
     ]
    },
    {
     "name": "stderr",
     "output_type": "stream",
     "text": [
      "100%|████████████████████████████████████████████████████████████████████████████| 6370/6370 [00:03<00:00, 2090.58it/s]\n"
     ]
    },
    {
     "name": "stdout",
     "output_type": "stream",
     "text": [
      "43\n"
     ]
    },
    {
     "name": "stderr",
     "output_type": "stream",
     "text": [
      "100%|████████████████████████████████████████████████████████████████████████████| 6370/6370 [00:03<00:00, 2088.52it/s]\n"
     ]
    },
    {
     "name": "stdout",
     "output_type": "stream",
     "text": [
      "68\n"
     ]
    },
    {
     "name": "stderr",
     "output_type": "stream",
     "text": [
      "100%|████████████████████████████████████████████████████████████████████████████| 6370/6370 [00:03<00:00, 2063.49it/s]\n"
     ]
    },
    {
     "name": "stdout",
     "output_type": "stream",
     "text": [
      "15\n"
     ]
    },
    {
     "name": "stderr",
     "output_type": "stream",
     "text": [
      "100%|████████████████████████████████████████████████████████████████████████████| 6370/6370 [00:03<00:00, 2085.11it/s]\n"
     ]
    },
    {
     "name": "stdout",
     "output_type": "stream",
     "text": [
      "55\n"
     ]
    },
    {
     "name": "stderr",
     "output_type": "stream",
     "text": [
      "100%|████████████████████████████████████████████████████████████████████████████| 6370/6370 [00:03<00:00, 2084.42it/s]\n"
     ]
    },
    {
     "name": "stdout",
     "output_type": "stream",
     "text": [
      "34\n"
     ]
    },
    {
     "name": "stderr",
     "output_type": "stream",
     "text": [
      "100%|████████████████████████████████████████████████████████████████████████████| 6370/6370 [00:03<00:00, 2066.17it/s]\n"
     ]
    },
    {
     "name": "stdout",
     "output_type": "stream",
     "text": [
      "35\n"
     ]
    },
    {
     "name": "stderr",
     "output_type": "stream",
     "text": [
      "100%|████████████████████████████████████████████████████████████████████████████| 6370/6370 [00:03<00:00, 2085.79it/s]\n"
     ]
    },
    {
     "name": "stdout",
     "output_type": "stream",
     "text": [
      "23\n"
     ]
    },
    {
     "name": "stderr",
     "output_type": "stream",
     "text": [
      "100%|████████████████████████████████████████████████████████████████████████████| 6370/6370 [00:03<00:00, 2094.02it/s]\n"
     ]
    },
    {
     "name": "stdout",
     "output_type": "stream",
     "text": [
      "48\n"
     ]
    },
    {
     "name": "stderr",
     "output_type": "stream",
     "text": [
      "100%|████████████████████████████████████████████████████████████████████████████| 6370/6370 [00:03<00:00, 2087.16it/s]\n"
     ]
    },
    {
     "name": "stdout",
     "output_type": "stream",
     "text": [
      "26\n"
     ]
    },
    {
     "name": "stderr",
     "output_type": "stream",
     "text": [
      "100%|████████████████████████████████████████████████████████████████████████████| 6370/6370 [00:03<00:00, 2089.89it/s]\n"
     ]
    },
    {
     "name": "stdout",
     "output_type": "stream",
     "text": [
      "21\n"
     ]
    },
    {
     "name": "stderr",
     "output_type": "stream",
     "text": [
      "100%|████████████████████████████████████████████████████████████████████████████| 6370/6370 [00:03<00:00, 2088.52it/s]\n"
     ]
    },
    {
     "name": "stdout",
     "output_type": "stream",
     "text": [
      "17\n"
     ]
    },
    {
     "name": "stderr",
     "output_type": "stream",
     "text": [
      "100%|████████████████████████████████████████████████████████████████████████████| 6370/6370 [00:03<00:00, 2082.38it/s]\n"
     ]
    },
    {
     "name": "stdout",
     "output_type": "stream",
     "text": [
      "16\n"
     ]
    },
    {
     "name": "stderr",
     "output_type": "stream",
     "text": [
      "100%|████████████████████████████████████████████████████████████████████████████| 6370/6370 [00:03<00:00, 2079.66it/s]\n"
     ]
    },
    {
     "name": "stdout",
     "output_type": "stream",
     "text": [
      "22\n"
     ]
    },
    {
     "name": "stderr",
     "output_type": "stream",
     "text": [
      "100%|████████████████████████████████████████████████████████████████████████████| 6370/6370 [00:03<00:00, 2091.95it/s]\n"
     ]
    },
    {
     "name": "stdout",
     "output_type": "stream",
     "text": [
      "47\n"
     ]
    },
    {
     "name": "stderr",
     "output_type": "stream",
     "text": [
      "100%|████████████████████████████████████████████████████████████████████████████| 6370/6370 [00:03<00:00, 2091.95it/s]\n"
     ]
    },
    {
     "name": "stdout",
     "output_type": "stream",
     "text": [
      "51\n"
     ]
    },
    {
     "name": "stderr",
     "output_type": "stream",
     "text": [
      "100%|████████████████████████████████████████████████████████████████████████████| 6370/6370 [00:03<00:00, 2090.58it/s]\n"
     ]
    },
    {
     "name": "stdout",
     "output_type": "stream",
     "text": [
      "23\n"
     ]
    },
    {
     "name": "stderr",
     "output_type": "stream",
     "text": [
      "100%|████████████████████████████████████████████████████████████████████████████| 6370/6370 [00:03<00:00, 2084.42it/s]\n"
     ]
    },
    {
     "name": "stdout",
     "output_type": "stream",
     "text": [
      "59\n"
     ]
    },
    {
     "name": "stderr",
     "output_type": "stream",
     "text": [
      "100%|████████████████████████████████████████████████████████████████████████████| 6370/6370 [00:03<00:00, 2089.21it/s]\n"
     ]
    },
    {
     "name": "stdout",
     "output_type": "stream",
     "text": [
      "46\n"
     ]
    },
    {
     "name": "stderr",
     "output_type": "stream",
     "text": [
      "100%|████████████████████████████████████████████████████████████████████████████| 6370/6370 [00:03<00:00, 2091.27it/s]\n"
     ]
    },
    {
     "name": "stdout",
     "output_type": "stream",
     "text": [
      "30\n"
     ]
    }
   ],
   "source": [
    "# Get the average rank \n",
    "res1 = 0\n",
    "for i in range(75):\n",
    "    rtrain = load_npz(\"../../data/beer/Rtrain.npz\")\n",
    "    a = explain_synthetic_user(rtrain, U_K, I_K, [i],top_keyphrase=75)\n",
    "    res1 += list(a[::-1]).index(i)\n",
    "    print list(a[::-1]).index(i)"
   ]
  },
  {
   "cell_type": "code",
   "execution_count": 260,
   "metadata": {
    "scrolled": false
   },
   "outputs": [
    {
     "data": {
      "text/plain": [
       "28.026666666666667"
      ]
     },
     "execution_count": 260,
     "metadata": {},
     "output_type": "execute_result"
    }
   ],
   "source": [
    "# Average rank \n",
    "res1/75"
   ]
  },
  {
   "cell_type": "markdown",
   "metadata": {},
   "source": [
    "# Evaluate the result"
   ]
  },
  {
   "cell_type": "markdown",
   "metadata": {},
   "source": [
    "Since we create a sterotype user1 who only likes keyphrase 0, and let him liked some beer with keyphrase 0, we can evaluate the result U_K (user1's updated keyphrase preferance) by looking into what's the top K keyphrase he likes other than keyphrase 0. Then we look into: among the top N (100 in this case) beer with keyphrase 0, whats the next K (e.g. 10) most frequent keyphrase that appear, and compare this with the updated_U_K to see if user1 actually likes the other K keyphrase as we predicted. "
   ]
  },
  {
   "cell_type": "code",
   "execution_count": 21,
   "metadata": {
    "collapsed": true
   },
   "outputs": [],
   "source": [
    "# For each item, whats the keyphrase (get the keyphrase collection)\n",
    "def  get_keyphrases(item_list):\n",
    "    \"\"\"\n",
    "    item_list: list of integer index of items\n",
    "    output: list of items' keyphrase\n",
    "    \"\"\"\n",
    "    keyphrases = []\n",
    "    for item in item_list:\n",
    "        keyphrase = np.ravel(I_K[item,:].todense()) # Change to np array and reshape\n",
    "        keyphrases.append(keyphrase)\n",
    "    return keyphrases"
   ]
  },
  {
   "cell_type": "markdown",
   "metadata": {},
   "source": [
    "# Critiquing Draft"
   ]
  },
  {
   "cell_type": "code",
   "execution_count": null,
   "metadata": {
    "collapsed": true
   },
   "outputs": [],
   "source": []
  },
  {
   "cell_type": "markdown",
   "metadata": {},
   "source": [
    "##### TF-IDF to get U_K"
   ]
  },
  {
   "cell_type": "markdown",
   "metadata": {},
   "source": [
    "## Get the keyphrases from dataframe"
   ]
  },
  {
   "cell_type": "code",
   "execution_count": 221,
   "metadata": {
    "collapsed": true
   },
   "outputs": [],
   "source": [
    "def get_keyphrase(df_train):\n",
    "    keyphrase = [0]*75\n",
    "    check_flg = 0\n",
    "    for i in range(len(df_train['keyVector'])):\n",
    "        keyVector = ast.literal_eval(df_train['keyVector'][i])\n",
    "        \n",
    "        for j in range(len(keyVector)):\n",
    "            if keyphrase[keyVector[j]] == 0:\n",
    "                keyphrase[keyVector[j]] = ast.literal_eval(df_train['review'][i])[j]\n",
    "                check_flg += 1\n",
    "#                 print keyphrase\n",
    "                if check_flg == 75:\n",
    "                    return keyphrase\n",
    "    return keyphrase"
   ]
  },
  {
   "cell_type": "code",
   "execution_count": 222,
   "metadata": {},
   "outputs": [],
   "source": [
    "keyphrase = get_keyphrase(df_train)"
   ]
  },
  {
   "cell_type": "code",
   "execution_count": 223,
   "metadata": {
    "scrolled": true
   },
   "outputs": [
    {
     "data": {
      "text/plain": [
       "['poured',\n",
       " 'caldera',\n",
       " 'poured',\n",
       " 'pint',\n",
       " 'clear',\n",
       " 'beersofeurope',\n",
       " 'pale',\n",
       " 'pale',\n",
       " 'black',\n",
       " 'enjoying',\n",
       " 'received',\n",
       " 'pours',\n",
       " 'ale',\n",
       " 'way',\n",
       " 'picked',\n",
       " 'color',\n",
       " 'grape',\n",
       " 'perfect',\n",
       " 'pint',\n",
       " 'slight',\n",
       " 'glass',\n",
       " 'color',\n",
       " 'coming',\n",
       " 'mahogany',\n",
       " 'really',\n",
       " 'head',\n",
       " 'haze',\n",
       " 'dark',\n",
       " 'glass',\n",
       " 'gourmet',\n",
       " 'golden',\n",
       " 'vb',\n",
       " 'brew',\n",
       " 'foamy',\n",
       " 'light',\n",
       " 'football',\n",
       " 'cloudy',\n",
       " 'small',\n",
       " 'well',\n",
       " 'golden',\n",
       " 'orange',\n",
       " 'creamy',\n",
       " 'small',\n",
       " 'like',\n",
       " 'hoppy',\n",
       " 'fluffy',\n",
       " 'beige',\n",
       " 'review',\n",
       " 'jon',\n",
       " 'pours',\n",
       " 'new',\n",
       " 'foamy',\n",
       " 'good',\n",
       " 'color',\n",
       " 'head',\n",
       " 'ale',\n",
       " 'hell',\n",
       " 'back',\n",
       " 'stick',\n",
       " 'even',\n",
       " 'source',\n",
       " 'pretty',\n",
       " 'thin',\n",
       " 'gold',\n",
       " 'oxidation',\n",
       " 'hoppy',\n",
       " 'expect',\n",
       " 'crown',\n",
       " 'decent',\n",
       " 'better',\n",
       " 'mango',\n",
       " 'color',\n",
       " 'colored',\n",
       " 'leaf',\n",
       " 'light']"
      ]
     },
     "execution_count": 223,
     "metadata": {},
     "output_type": "execute_result"
    }
   ],
   "source": [
    "keyphrase"
   ]
  }
 ],
 "metadata": {
  "kernelspec": {
   "display_name": "Python 2",
   "language": "python",
   "name": "python2"
  },
  "language_info": {
   "codemirror_mode": {
    "name": "ipython",
    "version": 2
   },
   "file_extension": ".py",
   "mimetype": "text/x-python",
   "name": "python",
   "nbconvert_exporter": "python",
   "pygments_lexer": "ipython2",
   "version": "2.7.13"
  }
 },
 "nbformat": 4,
 "nbformat_minor": 2
}
