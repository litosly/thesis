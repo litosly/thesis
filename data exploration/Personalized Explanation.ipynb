{
 "cells": [
  {
   "cell_type": "code",
   "execution_count": 1,
   "metadata": {
    "collapsed": true
   },
   "outputs": [],
   "source": [
    "from ast import literal_eval\n",
    "from os import listdir\n",
    "from os.path import isfile, join\n",
    "from scipy.sparse import csr_matrix, load_npz, save_npz\n",
    "from tqdm import tqdm\n",
    "\n",
    "import seaborn as sns\n",
    "import datetime\n",
    "import json\n",
    "import numpy as np\n",
    "import pandas as pd\n",
    "import time\n",
    "import yaml\n",
    "import scipy.sparse as sparse\n",
    "from ast import literal_eval"
   ]
  },
  {
   "cell_type": "code",
   "execution_count": 4,
   "metadata": {},
   "outputs": [],
   "source": [
    "# Load Data\n",
    "df_train = pd.read_csv('data/beer/Train.csv')\n",
    "df_valid = pd.read_csv('data/beer/Valid.csv')\n",
    "df_test = pd.read_csv('data/beer/Test.csv')\n",
    "key_phrase = pd.read_csv('data/beer/KeyPhrases.csv')"
   ]
  },
  {
   "cell_type": "code",
   "execution_count": 5,
   "metadata": {
    "collapsed": true
   },
   "outputs": [],
   "source": [
    "# Load Data 2\n",
    "rtrain = load_npz(\"data/beer/Rtrain.npz\")\n",
    "rvalid = load_npz(\"data/beer/Rvalid.npz\")\n",
    "rtest = load_npz(\"data/beer/Rtest.npz\")"
   ]
  },
  {
   "cell_type": "code",
   "execution_count": 6,
   "metadata": {
    "scrolled": true
   },
   "outputs": [
    {
     "data": {
      "text/plain": [
       "<6370x3668 sparse matrix of type '<type 'numpy.float32'>'\n",
       "\twith 167511 stored elements in Compressed Sparse Row format>"
      ]
     },
     "execution_count": 6,
     "metadata": {},
     "output_type": "execute_result"
    }
   ],
   "source": [
    "rtrain"
   ]
  },
  {
   "cell_type": "code",
   "execution_count": 8,
   "metadata": {
    "scrolled": true
   },
   "outputs": [
    {
     "data": {
      "text/html": [
       "<div>\n",
       "<style scoped>\n",
       "    .dataframe tbody tr th:only-of-type {\n",
       "        vertical-align: middle;\n",
       "    }\n",
       "\n",
       "    .dataframe tbody tr th {\n",
       "        vertical-align: top;\n",
       "    }\n",
       "\n",
       "    .dataframe thead th {\n",
       "        text-align: right;\n",
       "    }\n",
       "</style>\n",
       "<table border=\"1\" class=\"dataframe\">\n",
       "  <thead>\n",
       "    <tr style=\"text-align: right;\">\n",
       "      <th></th>\n",
       "      <th>beer/ABV</th>\n",
       "      <th>beer/name</th>\n",
       "      <th>beer/style</th>\n",
       "      <th>review/overall</th>\n",
       "      <th>review/text</th>\n",
       "      <th>review/timeUnix</th>\n",
       "      <th>user/profileName</th>\n",
       "      <th>Binary</th>\n",
       "      <th>UserIndex</th>\n",
       "      <th>ItemIndex</th>\n",
       "      <th>review</th>\n",
       "      <th>conca_review</th>\n",
       "      <th>keyVector</th>\n",
       "      <th>keyphrases_indices_length</th>\n",
       "    </tr>\n",
       "  </thead>\n",
       "  <tbody>\n",
       "    <tr>\n",
       "      <th>0</th>\n",
       "      <td>5.5</td>\n",
       "      <td>Caldera Pale Ale</td>\n",
       "      <td>American Pale Ale (APA)</td>\n",
       "      <td>4.0</td>\n",
       "      <td>Caldera- Pale Ale\\t\\tPicked up at Grape &amp; Gour...</td>\n",
       "      <td>1251327677</td>\n",
       "      <td>NJpadreFan</td>\n",
       "      <td>0</td>\n",
       "      <td>1767</td>\n",
       "      <td>659</td>\n",
       "      <td>['caldera', 'pale', 'ale', 'picked', 'grape', ...</td>\n",
       "      <td>caldera pale ale picked grape gourmet vb ligh...</td>\n",
       "      <td>[1, 7, 12, 14, 16, 29, 31, 34, 39, 40, 42, 45]</td>\n",
       "      <td>12</td>\n",
       "    </tr>\n",
       "    <tr>\n",
       "      <th>1</th>\n",
       "      <td>5.5</td>\n",
       "      <td>Caldera Pale Ale</td>\n",
       "      <td>American Pale Ale (APA)</td>\n",
       "      <td>2.5</td>\n",
       "      <td>12 oz. can poured into a pint glass. I really ...</td>\n",
       "      <td>1250928902</td>\n",
       "      <td>vacax</td>\n",
       "      <td>0</td>\n",
       "      <td>6159</td>\n",
       "      <td>659</td>\n",
       "      <td>['oz', 'poured', 'pint', 'glass', 'really', 'l...</td>\n",
       "      <td>oz poured pint glass really like beer like pa...</td>\n",
       "      <td>[1, 16, 18, 20, 24, 39, 42, 43, 45, 55]</td>\n",
       "      <td>10</td>\n",
       "    </tr>\n",
       "    <tr>\n",
       "      <th>2</th>\n",
       "      <td>5.5</td>\n",
       "      <td>Caldera Pale Ale</td>\n",
       "      <td>American Pale Ale (APA)</td>\n",
       "      <td>4.0</td>\n",
       "      <td>A: Pours a cloudy orange with a crisp white tw...</td>\n",
       "      <td>1249866208</td>\n",
       "      <td>d0ggnate</td>\n",
       "      <td>0</td>\n",
       "      <td>3516</td>\n",
       "      <td>659</td>\n",
       "      <td>['pours', 'cloudy', 'orange', 'crisp', 'white'...</td>\n",
       "      <td>pours cloudy orange crisp white two finger he...</td>\n",
       "      <td>[12, 36, 39, 42]</td>\n",
       "      <td>4</td>\n",
       "    </tr>\n",
       "    <tr>\n",
       "      <th>3</th>\n",
       "      <td>5.5</td>\n",
       "      <td>Caldera Pale Ale</td>\n",
       "      <td>American Pale Ale (APA)</td>\n",
       "      <td>4.5</td>\n",
       "      <td>Received this can through Beer Powerball. I am...</td>\n",
       "      <td>1249847121</td>\n",
       "      <td>babyhobbes</td>\n",
       "      <td>1</td>\n",
       "      <td>2893</td>\n",
       "      <td>659</td>\n",
       "      <td>['received', 'beer', 'powerball', 'really', 's...</td>\n",
       "      <td>received beer powerball really sorry nt know ...</td>\n",
       "      <td>[12, 42]</td>\n",
       "      <td>2</td>\n",
       "    </tr>\n",
       "    <tr>\n",
       "      <th>4</th>\n",
       "      <td>5.5</td>\n",
       "      <td>Caldera Pale Ale</td>\n",
       "      <td>American Pale Ale (APA)</td>\n",
       "      <td>4.5</td>\n",
       "      <td>355ml can bought from Beersofeurope.com...\\t\\t...</td>\n",
       "      <td>1249556277</td>\n",
       "      <td>mdagnew</td>\n",
       "      <td>1</td>\n",
       "      <td>4858</td>\n",
       "      <td>659</td>\n",
       "      <td>['bought', 'beersofeurope', 'com', 'poured', '...</td>\n",
       "      <td>bought beersofeurope com poured golden yellow...</td>\n",
       "      <td>[1, 5, 7, 12, 14, 16, 18, 19, 26, 31, 34, 40, ...</td>\n",
       "      <td>18</td>\n",
       "    </tr>\n",
       "  </tbody>\n",
       "</table>\n",
       "</div>"
      ],
      "text/plain": [
       "   beer/ABV         beer/name               beer/style  review/overall  \\\n",
       "0       5.5  Caldera Pale Ale  American Pale Ale (APA)             4.0   \n",
       "1       5.5  Caldera Pale Ale  American Pale Ale (APA)             2.5   \n",
       "2       5.5  Caldera Pale Ale  American Pale Ale (APA)             4.0   \n",
       "3       5.5  Caldera Pale Ale  American Pale Ale (APA)             4.5   \n",
       "4       5.5  Caldera Pale Ale  American Pale Ale (APA)             4.5   \n",
       "\n",
       "                                         review/text  review/timeUnix  \\\n",
       "0  Caldera- Pale Ale\\t\\tPicked up at Grape & Gour...       1251327677   \n",
       "1  12 oz. can poured into a pint glass. I really ...       1250928902   \n",
       "2  A: Pours a cloudy orange with a crisp white tw...       1249866208   \n",
       "3  Received this can through Beer Powerball. I am...       1249847121   \n",
       "4  355ml can bought from Beersofeurope.com...\\t\\t...       1249556277   \n",
       "\n",
       "  user/profileName  Binary  UserIndex  ItemIndex  \\\n",
       "0       NJpadreFan       0       1767        659   \n",
       "1            vacax       0       6159        659   \n",
       "2         d0ggnate       0       3516        659   \n",
       "3       babyhobbes       1       2893        659   \n",
       "4          mdagnew       1       4858        659   \n",
       "\n",
       "                                              review  \\\n",
       "0  ['caldera', 'pale', 'ale', 'picked', 'grape', ...   \n",
       "1  ['oz', 'poured', 'pint', 'glass', 'really', 'l...   \n",
       "2  ['pours', 'cloudy', 'orange', 'crisp', 'white'...   \n",
       "3  ['received', 'beer', 'powerball', 'really', 's...   \n",
       "4  ['bought', 'beersofeurope', 'com', 'poured', '...   \n",
       "\n",
       "                                        conca_review  \\\n",
       "0   caldera pale ale picked grape gourmet vb ligh...   \n",
       "1   oz poured pint glass really like beer like pa...   \n",
       "2   pours cloudy orange crisp white two finger he...   \n",
       "3   received beer powerball really sorry nt know ...   \n",
       "4   bought beersofeurope com poured golden yellow...   \n",
       "\n",
       "                                           keyVector  \\\n",
       "0     [1, 7, 12, 14, 16, 29, 31, 34, 39, 40, 42, 45]   \n",
       "1            [1, 16, 18, 20, 24, 39, 42, 43, 45, 55]   \n",
       "2                                   [12, 36, 39, 42]   \n",
       "3                                           [12, 42]   \n",
       "4  [1, 5, 7, 12, 14, 16, 18, 19, 26, 31, 34, 40, ...   \n",
       "\n",
       "   keyphrases_indices_length  \n",
       "0                         12  \n",
       "1                         10  \n",
       "2                          4  \n",
       "3                          2  \n",
       "4                         18  "
      ]
     },
     "execution_count": 8,
     "metadata": {},
     "output_type": "execute_result"
    }
   ],
   "source": [
    "df_train.head()"
   ]
  },
  {
   "cell_type": "code",
   "execution_count": 9,
   "metadata": {
    "collapsed": true
   },
   "outputs": [],
   "source": [
    "# Models\n",
    "from sklearn.metrics.pairwise import cosine_similarity\n",
    "def train(matrix_train):\n",
    "    similarity = cosine_similarity(X=matrix_train, Y=None, dense_output=True)\n",
    "    return similarity\n",
    "\n",
    "def get_I_K(df, row_name = 'ItemIndex', shape = (3668,75)):\n",
    "    rows = []\n",
    "    cols = []\n",
    "    vals = []\n",
    "    for i in tqdm(range(df.shape[0])):\n",
    "        key_vector = literal_eval(df['keyVector'][i])\n",
    "        rows.extend([df[row_name][i]]*len(key_vector)) ## Item index\n",
    "        cols.extend(key_vector) ## Keyword Index\n",
    "#         if binary:\n",
    "        vals.extend(np.array([1]*len(key_vector)))\n",
    "#         else:\n",
    "#             vals.extend(arr[arr.nonzero()])    \n",
    "    return csr_matrix((vals, (rows, cols)), shape=shape)\n",
    "\n",
    "\n",
    "def predict(matrix_train, k, similarity, item_similarity_en = False):\n",
    "    prediction_scores = []\n",
    "    \n",
    "    if item_similarity_en:\n",
    "        matrix_train = matrix_train.transpose()\n",
    "        \n",
    "    for user_index in tqdm(range(matrix_train.shape[0])):\n",
    "        # Get user u's prediction scores for all items\n",
    "        vector_u = similarity[user_index]\n",
    "\n",
    "        # Get closest K neighbors excluding user u self\n",
    "        similar_users = vector_u.argsort()[::-1][1:k+1]\n",
    "        # Get neighbors similarity weights and ratings\n",
    "        similar_users_weights = similarity[user_index][similar_users]\n",
    "        similar_users_ratings = matrix_train[similar_users].toarray()\n",
    "\n",
    "        prediction_scores_u = similar_users_ratings * similar_users_weights[:, np.newaxis]\n",
    "\n",
    "        prediction_scores.append(np.sum(prediction_scores_u, axis=0))\n",
    "    res = np.array(prediction_scores)\n",
    "    if item_similarity_en:\n",
    "        res = res.transpose()\n",
    "    return res\n",
    "\n",
    "def prediction(prediction_score, topK, matrix_Train):\n",
    "\n",
    "    prediction = []\n",
    "\n",
    "    for user_index in tqdm(range(matrix_Train.shape[0])):\n",
    "        vector_u = prediction_score[user_index]\n",
    "        vector_train = matrix_Train[user_index]\n",
    "        if len(vector_train.nonzero()[0]) > 0:\n",
    "            vector_predict = sub_routine(vector_u, vector_train, topK=topK)\n",
    "        else:\n",
    "            vector_predict = np.zeros(topK, dtype=np.float32)\n",
    "\n",
    "        prediction.append(vector_predict)\n",
    "\n",
    "    return np.vstack(prediction)\n",
    "\n",
    "\n",
    "def sub_routine(vector_u, vector_train, topK=500):\n",
    "\n",
    "    train_index = vector_train.nonzero()[1]\n",
    "\n",
    "    vector_u = vector_u\n",
    "\n",
    "    candidate_index = np.argpartition(-vector_u, topK+len(train_index))[:topK+len(train_index)]\n",
    "    vector_u = candidate_index[vector_u[candidate_index].argsort()[::-1]]\n",
    "    vector_u = np.delete(vector_u, np.isin(vector_u, train_index).nonzero()[0])\n",
    "\n",
    "    return vector_u[:topK]\n"
   ]
  },
  {
   "cell_type": "code",
   "execution_count": 10,
   "metadata": {
    "collapsed": true
   },
   "outputs": [],
   "source": [
    "u_similarity = train(rtrain)"
   ]
  },
  {
   "cell_type": "code",
   "execution_count": 13,
   "metadata": {},
   "outputs": [
    {
     "name": "stderr",
     "output_type": "stream",
     "text": [
      "100%|███████████████████████████████████████████████████████████████████████| 641773/641773 [00:32<00:00, 19864.83it/s]\n"
     ]
    }
   ],
   "source": [
    "U_K = get_I_K(df_train, row_name = 'UserIndex', shape = (6370,75))"
   ]
  },
  {
   "cell_type": "code",
   "execution_count": 14,
   "metadata": {},
   "outputs": [
    {
     "name": "stderr",
     "output_type": "stream",
     "text": [
      "100%|████████████████████████████████████████████████████████████████████████████| 6370/6370 [00:02<00:00, 2432.23it/s]\n"
     ]
    }
   ],
   "source": [
    "res = predict(U_K, 10, u_similarity)"
   ]
  },
  {
   "cell_type": "code",
   "execution_count": 33,
   "metadata": {},
   "outputs": [
    {
     "data": {
      "text/plain": [
       "matrix([[ 7, 35, 27,  1,  6,  5, 13,  6,  9,  4,  7, 13,  6, 44,  1, 20,\n",
       "          4,  7,  2,  7, 16,  8,  1,  4, 11,  3,  1, 16, 14,  4,  3,  9,\n",
       "          2, 19,  2,  3, 13, 10,  5,  6, 22, 17,  5, 11,  1,  1, 13,  4,\n",
       "          1,  5,  4, 10,  4, 15,  7,  4, 12, 10,  7,  2,  1, 15,  2,  6,\n",
       "          2,  2]])"
      ]
     },
     "execution_count": 33,
     "metadata": {},
     "output_type": "execute_result"
    }
   ],
   "source": [
    "U_K[0][U_K[0].nonzero()]"
   ]
  },
  {
   "cell_type": "code",
   "execution_count": 36,
   "metadata": {
    "scrolled": true
   },
   "outputs": [
    {
     "data": {
      "text/plain": [
       "array([ 84.00923042, 215.8694369 , 105.07053825,   8.86858186,\n",
       "        25.78474239,  51.06063677,  78.86394581,  21.29825376,\n",
       "        63.25317055,  25.95691679,  28.74760556,  41.67915888,\n",
       "        85.61797327,  16.12536277, 144.97887605,   3.25411236,\n",
       "       143.26558426,  10.80280311,  27.22940387,  32.16788881,\n",
       "        22.40749618,  68.35865185,  22.02200086,  17.6461527 ,\n",
       "        30.71776073,   6.84443329,  52.27788997,  17.57675762,\n",
       "        11.94877864,   5.81463091,  42.41261208,  36.93191479,\n",
       "        29.80877489,  10.17466521,  41.2171516 ,  11.58094957,\n",
       "        21.56327735,   3.67121929,  21.46959995,  85.16300964,\n",
       "        37.56942199,  52.77996747, 101.33686914, 105.63312288,\n",
       "       108.88178651,  98.73462543,  29.30211134,  20.35339764,\n",
       "        19.46589303,   3.7303917 ,  76.21329193,  31.93960953,\n",
       "        15.91736342,   4.90339676,   5.75619879,  69.36156599,\n",
       "        18.50684226,   1.58225504,  59.92660914,  12.62514187,\n",
       "        16.19339716,  27.11780505,  30.83943269,   6.19179751,\n",
       "        18.95821415,  24.22539493,  18.0609204 ,  21.40700412,\n",
       "        42.63905938,   9.20757399,   9.29486783,  22.33268118,\n",
       "         4.70859022,  10.25780714,  30.75101358])"
      ]
     },
     "execution_count": 36,
     "metadata": {},
     "output_type": "execute_result"
    }
   ],
   "source": [
    "res[0]"
   ]
  },
  {
   "cell_type": "code",
   "execution_count": null,
   "metadata": {
    "collapsed": true
   },
   "outputs": [],
   "source": []
  }
 ],
 "metadata": {
  "kernelspec": {
   "display_name": "Python 2",
   "language": "python",
   "name": "python2"
  },
  "language_info": {
   "codemirror_mode": {
    "name": "ipython",
    "version": 2
   },
   "file_extension": ".py",
   "mimetype": "text/x-python",
   "name": "python",
   "nbconvert_exporter": "python",
   "pygments_lexer": "ipython2",
   "version": "2.7.13"
  }
 },
 "nbformat": 4,
 "nbformat_minor": 2
}
