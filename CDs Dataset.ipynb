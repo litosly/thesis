{
 "cells": [
  {
   "cell_type": "code",
   "execution_count": 1,
   "metadata": {
    "collapsed": true
   },
   "outputs": [],
   "source": [
    "from ast import literal_eval\n",
    "from os import listdir\n",
    "from os.path import isfile, join\n",
    "from scipy.sparse import csr_matrix, load_npz, save_npz\n",
    "from tqdm import tqdm\n",
    "\n",
    "import seaborn as sns\n",
    "import datetime\n",
    "import json\n",
    "import numpy as np\n",
    "import pandas as pd\n",
    "import time\n",
    "import yaml\n",
    "import scipy.sparse as sparse\n",
    "from ast import literal_eval"
   ]
  },
  {
   "cell_type": "code",
   "execution_count": 2,
   "metadata": {
    "collapsed": true
   },
   "outputs": [],
   "source": [
    "df_train = pd.read_csv('CDsVinyl/Train.csv')\n",
    "df_valid = pd.read_csv('CDsVinyl/Valid.csv')\n",
    "df_test = pd.read_csv('CDsVinyl/Test.csv')"
   ]
  },
  {
   "cell_type": "code",
   "execution_count": 3,
   "metadata": {
    "collapsed": true
   },
   "outputs": [],
   "source": [
    "rtrain = load_npz('CDsVinyl/Rtrain.npz')\n",
    "rvalid = load_npz('CDsVinyl/Rvalid.npz')\n",
    "rtest = load_npz('CDsVinyl/Rtest.npz')"
   ]
  },
  {
   "cell_type": "code",
   "execution_count": 6,
   "metadata": {
    "collapsed": true
   },
   "outputs": [],
   "source": [
    "keyphrases = pd.read_csv('CDsVinyl/KeyPhrases.csv')"
   ]
  },
  {
   "cell_type": "code",
   "execution_count": 5,
   "metadata": {},
   "outputs": [
    {
     "data": {
      "text/html": [
       "<div>\n",
       "<style scoped>\n",
       "    .dataframe tbody tr th:only-of-type {\n",
       "        vertical-align: middle;\n",
       "    }\n",
       "\n",
       "    .dataframe tbody tr th {\n",
       "        vertical-align: top;\n",
       "    }\n",
       "\n",
       "    .dataframe thead th {\n",
       "        text-align: right;\n",
       "    }\n",
       "</style>\n",
       "<table border=\"1\" class=\"dataframe\">\n",
       "  <thead>\n",
       "    <tr style=\"text-align: right;\">\n",
       "      <th></th>\n",
       "      <th>reviewerID</th>\n",
       "      <th>asin</th>\n",
       "      <th>overall</th>\n",
       "      <th>unixReviewTime</th>\n",
       "      <th>reviewText</th>\n",
       "      <th>review</th>\n",
       "      <th>conca_review</th>\n",
       "      <th>keyVector</th>\n",
       "      <th>keyphrases_indices_length</th>\n",
       "      <th>UserIndex</th>\n",
       "      <th>ItemIndex</th>\n",
       "      <th>Binary</th>\n",
       "    </tr>\n",
       "  </thead>\n",
       "  <tbody>\n",
       "    <tr>\n",
       "      <th>0</th>\n",
       "      <td>A2GANR9I6XHTU9</td>\n",
       "      <td>0780018664</td>\n",
       "      <td>4.0</td>\n",
       "      <td>1169337600</td>\n",
       "      <td>Filmed in 1931 this is the first serial killer...</td>\n",
       "      <td>['filmed', 'first', 'serial', 'killer', 'movie...</td>\n",
       "      <td>filmed first serial killer movie story serial...</td>\n",
       "      <td>[]</td>\n",
       "      <td>0</td>\n",
       "      <td>2353</td>\n",
       "      <td>0</td>\n",
       "      <td>1</td>\n",
       "    </tr>\n",
       "    <tr>\n",
       "      <th>1</th>\n",
       "      <td>ANCOMAI0I7LVG</td>\n",
       "      <td>0780018664</td>\n",
       "      <td>5.0</td>\n",
       "      <td>1213574400</td>\n",
       "      <td>My feelings for this iconic piece of filmmakin...</td>\n",
       "      <td>['feeling', 'iconic', 'piece', 'filmmaking', '...</td>\n",
       "      <td>feeling iconic piece filmmaking mirror previo...</td>\n",
       "      <td>[12]</td>\n",
       "      <td>1</td>\n",
       "      <td>5482</td>\n",
       "      <td>0</td>\n",
       "      <td>1</td>\n",
       "    </tr>\n",
       "    <tr>\n",
       "      <th>2</th>\n",
       "      <td>A1GGOC9PVDXW7Z</td>\n",
       "      <td>0780018664</td>\n",
       "      <td>5.0</td>\n",
       "      <td>1268524800</td>\n",
       "      <td>The title M comes from a chalk mark (for 'murd...</td>\n",
       "      <td>['title', 'come', 'chalk', 'mark', 'murderer',...</td>\n",
       "      <td>title come chalk mark murderer placed beggar ...</td>\n",
       "      <td>[12]</td>\n",
       "      <td>1</td>\n",
       "      <td>755</td>\n",
       "      <td>0</td>\n",
       "      <td>1</td>\n",
       "    </tr>\n",
       "    <tr>\n",
       "      <th>3</th>\n",
       "      <td>A62G4QX6XQVLP</td>\n",
       "      <td>0780018664</td>\n",
       "      <td>5.0</td>\n",
       "      <td>1165190400</td>\n",
       "      <td>This film is easily in the Top 5 of Fritz Lang...</td>\n",
       "      <td>['film', 'easily', 'top', 'fritz', 'lang', 'be...</td>\n",
       "      <td>film easily top fritz lang best film quite po...</td>\n",
       "      <td>[12, 33]</td>\n",
       "      <td>2</td>\n",
       "      <td>4781</td>\n",
       "      <td>0</td>\n",
       "      <td>1</td>\n",
       "    </tr>\n",
       "    <tr>\n",
       "      <th>4</th>\n",
       "      <td>A2ILOYARQVO4K1</td>\n",
       "      <td>0780018664</td>\n",
       "      <td>4.0</td>\n",
       "      <td>989193600</td>\n",
       "      <td>Dark, disturbingly satirical, humorous exactly...</td>\n",
       "      <td>['dark', 'disturbingly', 'satirical', 'humorou...</td>\n",
       "      <td>dark disturbingly satirical humorous exactly ...</td>\n",
       "      <td>[5]</td>\n",
       "      <td>1</td>\n",
       "      <td>2466</td>\n",
       "      <td>0</td>\n",
       "      <td>1</td>\n",
       "    </tr>\n",
       "  </tbody>\n",
       "</table>\n",
       "</div>"
      ],
      "text/plain": [
       "       reviewerID        asin  overall  unixReviewTime  \\\n",
       "0  A2GANR9I6XHTU9  0780018664      4.0      1169337600   \n",
       "1   ANCOMAI0I7LVG  0780018664      5.0      1213574400   \n",
       "2  A1GGOC9PVDXW7Z  0780018664      5.0      1268524800   \n",
       "3   A62G4QX6XQVLP  0780018664      5.0      1165190400   \n",
       "4  A2ILOYARQVO4K1  0780018664      4.0       989193600   \n",
       "\n",
       "                                          reviewText  \\\n",
       "0  Filmed in 1931 this is the first serial killer...   \n",
       "1  My feelings for this iconic piece of filmmakin...   \n",
       "2  The title M comes from a chalk mark (for 'murd...   \n",
       "3  This film is easily in the Top 5 of Fritz Lang...   \n",
       "4  Dark, disturbingly satirical, humorous exactly...   \n",
       "\n",
       "                                              review  \\\n",
       "0  ['filmed', 'first', 'serial', 'killer', 'movie...   \n",
       "1  ['feeling', 'iconic', 'piece', 'filmmaking', '...   \n",
       "2  ['title', 'come', 'chalk', 'mark', 'murderer',...   \n",
       "3  ['film', 'easily', 'top', 'fritz', 'lang', 'be...   \n",
       "4  ['dark', 'disturbingly', 'satirical', 'humorou...   \n",
       "\n",
       "                                        conca_review keyVector  \\\n",
       "0   filmed first serial killer movie story serial...        []   \n",
       "1   feeling iconic piece filmmaking mirror previo...      [12]   \n",
       "2   title come chalk mark murderer placed beggar ...      [12]   \n",
       "3   film easily top fritz lang best film quite po...  [12, 33]   \n",
       "4   dark disturbingly satirical humorous exactly ...       [5]   \n",
       "\n",
       "   keyphrases_indices_length  UserIndex  ItemIndex  Binary  \n",
       "0                          0       2353          0       1  \n",
       "1                          1       5482          0       1  \n",
       "2                          1        755          0       1  \n",
       "3                          2       4781          0       1  \n",
       "4                          1       2466          0       1  "
      ]
     },
     "execution_count": 5,
     "metadata": {},
     "output_type": "execute_result"
    }
   ],
   "source": [
    "df_train.head()"
   ]
  },
  {
   "cell_type": "code",
   "execution_count": 9,
   "metadata": {},
   "outputs": [
    {
     "data": {
      "text/plain": [
       "<6056x4395 sparse matrix of type '<type 'numpy.float32'>'\n",
       "\twith 97781 stored elements in Compressed Sparse Row format>"
      ]
     },
     "execution_count": 9,
     "metadata": {},
     "output_type": "execute_result"
    }
   ],
   "source": [
    "rtrain"
   ]
  },
  {
   "cell_type": "code",
   "execution_count": 22,
   "metadata": {},
   "outputs": [],
   "source": [
    "from sklearn.metrics.pairwise import cosine_similarity\n",
    "def train(matrix_train):\n",
    "    similarity = cosine_similarity(X=matrix_train, Y=None, dense_output=True)\n",
    "    return similarity\n",
    "\n",
    "def get_I_K(df, row_name = 'ItemIndex', shape = (3668,75)):\n",
    "    rows = []\n",
    "    cols = []\n",
    "    vals = []\n",
    "    for i in tqdm(range(df.shape[0])):\n",
    "        key_vector = literal_eval(df['keyVector'][i])\n",
    "        rows.extend([df[row_name][i]]*len(key_vector)) ## Item index\n",
    "        cols.extend(key_vector) ## Keyword Index\n",
    "#         if binary:\n",
    "        vals.extend(np.array([1]*len(key_vector)))\n",
    "#         else:\n",
    "#             vals.extend(arr[arr.nonzero()])    \n",
    "    return csr_matrix((vals, (rows, cols)), shape=shape)\n",
    "\n",
    "def predict(matrix_train, k, similarity, item_similarity_en = False):\n",
    "    prediction_scores = []\n",
    "    \n",
    "    if item_similarity_en:\n",
    "        matrix_train = matrix_train.transpose()\n",
    "        \n",
    "    for user_index in tqdm(range(matrix_train.shape[0])):\n",
    "        # Get user u's prediction scores for all items\n",
    "        vector_u = similarity[user_index]\n",
    "        # Get closest K neighbors excluding user u self\n",
    "        similar_users = vector_u.argsort()[::-1][1:k+1]\n",
    "        # Get neighbors similarity weights and ratings\n",
    "        similar_users_weights = similarity[user_index][similar_users]\n",
    "        similar_users_ratings = matrix_train[similar_users].toarray()\n",
    "\n",
    "        prediction_scores_u = similar_users_ratings * similar_users_weights[:, np.newaxis]\n",
    "\n",
    "        prediction_scores.append(np.sum(prediction_scores_u, axis=0))\n",
    "    res = np.array(prediction_scores)\n",
    "    if item_similarity_en:\n",
    "        res = res.transpose()\n",
    "    return res\n",
    "\n",
    "def prediction(prediction_score, topK, matrix_Train):\n",
    "\n",
    "    prediction = []\n",
    "\n",
    "    for user_index in tqdm(range(matrix_Train.shape[0])):\n",
    "        vector_u = prediction_score[user_index]\n",
    "        vector_train = matrix_Train[user_index]\n",
    "        if len(vector_train.nonzero()[0]) > 0:\n",
    "            vector_predict = sub_routine(vector_u, vector_train, topK=topK)\n",
    "        else:\n",
    "            vector_predict = np.zeros(topK, dtype=np.float32)\n",
    "\n",
    "        prediction.append(vector_predict)\n",
    "\n",
    "    return np.vstack(prediction)\n",
    "\n",
    "\n",
    "def sub_routine(vector_u, vector_train, topK=500):\n",
    "\n",
    "    train_index = vector_train.nonzero()[1]\n",
    "\n",
    "    vector_u = vector_u\n",
    "\n",
    "    candidate_index = np.argpartition(-vector_u, topK+len(train_index))[:topK+len(train_index)]\n",
    "    vector_u = candidate_index[vector_u[candidate_index].argsort()[::-1]]\n",
    "    vector_u = np.delete(vector_u, np.isin(vector_u, train_index).nonzero()[0])\n",
    "\n",
    "    return vector_u[:topK]\n",
    "\n",
    "def predict2(matrix_train, k, similarity, item_similarity_en = False):\n",
    "    prediction_scores = []\n",
    "        \n",
    "    for user_index in tqdm(range(matrix_train.shape[0])):\n",
    "        # Get user u's prediction scores for all items\n",
    "        vector_u = similarity[user_index]\n",
    "\n",
    "        # Get closest K neighbors excluding user u self\n",
    "        similar_users = vector_u.argsort()[::-1][1:k+1]\n",
    "        # Get neighbors similarity weights and ratings\n",
    "        similar_users_weights = similarity[user_index][similar_users]\n",
    "        similar_users_ratings = matrix_train[similar_users].toarray()\n",
    "\n",
    "        prediction_scores_u = similar_users_ratings * similar_users_weights[:, np.newaxis]\n",
    "\n",
    "        prediction_scores.append(np.sum(prediction_scores_u, axis=0))\n",
    "    res = np.array(prediction_scores)\n",
    "    if item_similarity_en:\n",
    "        res = res.transpose()\n",
    "    return res\n"
   ]
  },
  {
   "cell_type": "code",
   "execution_count": 16,
   "metadata": {},
   "outputs": [
    {
     "name": "stderr",
     "output_type": "stream",
     "text": [
      "100%|███████████████████████████████████████████████████████████████████████| 116660/116660 [00:04<00:00, 25617.04it/s]\n"
     ]
    }
   ],
   "source": [
    "I_K = get_I_K(df_train, row_name = 'ItemIndex', shape = (4395,40))"
   ]
  },
  {
   "cell_type": "code",
   "execution_count": 17,
   "metadata": {},
   "outputs": [
    {
     "name": "stderr",
     "output_type": "stream",
     "text": [
      "100%|███████████████████████████████████████████████████████████████████████| 116660/116660 [00:04<00:00, 24529.02it/s]\n"
     ]
    }
   ],
   "source": [
    "U_K = get_I_K(df_train, row_name = 'ItemIndex', shape = (6056,40))"
   ]
  },
  {
   "cell_type": "code",
   "execution_count": 18,
   "metadata": {
    "collapsed": true
   },
   "outputs": [],
   "source": [
    "save_npz('CDsVinyl/I_K',I_K)\n",
    "save_npz('CDsVinyl/U_K',U_K)"
   ]
  },
  {
   "cell_type": "code",
   "execution_count": 19,
   "metadata": {
    "collapsed": true
   },
   "outputs": [],
   "source": [
    "def recallk(vector_true_dense, hits, **unused):\n",
    "    hits = len(hits.nonzero()[0])\n",
    "    return float(hits)/len(vector_true_dense)\n",
    "\n",
    "\n",
    "def precisionk(vector_predict, hits, **unused):\n",
    "    hits = len(hits.nonzero()[0])\n",
    "    return float(hits)/len(vector_predict)\n",
    "\n",
    "\n",
    "def average_precisionk(vector_predict, hits, **unused):\n",
    "    precisions = np.cumsum(hits, dtype=np.float32)/range(1, len(vector_predict)+1)\n",
    "    return np.mean(precisions)\n",
    "\n",
    "\n",
    "def r_precision(vector_true_dense, vector_predict, **unused):\n",
    "    vector_predict_short = vector_predict[:len(vector_true_dense)]\n",
    "    hits = len(np.isin(vector_predict_short, vector_true_dense).nonzero()[0])\n",
    "    return float(hits)/len(vector_true_dense)\n",
    "\n",
    "\n",
    "def _dcg_support(size):\n",
    "    arr = np.arange(1, size+1)+1\n",
    "    return 1./np.log2(arr)\n",
    "\n",
    "\n",
    "def ndcg(vector_true_dense, vector_predict, hits):\n",
    "    idcg = np.sum(_dcg_support(len(vector_true_dense)))\n",
    "    dcg_base = _dcg_support(len(vector_predict))\n",
    "    dcg_base[np.logical_not(hits)] = 0\n",
    "    dcg = np.sum(dcg_base)\n",
    "    return dcg/idcg\n",
    "\n",
    "\n",
    "def click(hits, **unused):\n",
    "    first_hit = next((i for i, x in enumerate(hits) if x), None)\n",
    "    if first_hit is None:\n",
    "        return 5\n",
    "    else:\n",
    "        return first_hit/10\n",
    "\n",
    "\n",
    "def evaluate(matrix_Predict, matrix_Test, metric_names =['R-Precision', 'NDCG', 'Precision', 'Recall', 'MAP'], atK = [5, 10, 15, 20, 50], analytical=False):\n",
    "    \"\"\"\n",
    "    :param matrix_U: Latent representations of users, for LRecs it is RQ, for ALSs it is U\n",
    "    :param matrix_V: Latent representations of items, for LRecs it is Q, for ALSs it is V\n",
    "    :param matrix_Train: Rating matrix for training, features.\n",
    "    :param matrix_Test: Rating matrix for evaluation, true labels.\n",
    "    :param k: Top K retrieval\n",
    "    :param metric_names: Evaluation metrics\n",
    "    :return:\n",
    "    \"\"\"\n",
    "    global_metrics = {\n",
    "        \"R-Precision\": r_precision,\n",
    "        \"NDCG\": ndcg,\n",
    "        \"Clicks\": click\n",
    "    }\n",
    "\n",
    "    local_metrics = {\n",
    "        \"Precision\": precisionk,\n",
    "        \"Recall\": recallk,\n",
    "        \"MAP\": average_precisionk\n",
    "    }\n",
    "\n",
    "    output = dict()\n",
    "\n",
    "    num_users = matrix_Predict.shape[0]\n",
    "\n",
    "    for k in atK:\n",
    "\n",
    "        local_metric_names = list(set(metric_names).intersection(local_metrics.keys()))\n",
    "        results = {name: [] for name in local_metric_names}\n",
    "        topK_Predict = matrix_Predict[:, :k]\n",
    "\n",
    "        for user_index in tqdm(range(topK_Predict.shape[0])):\n",
    "            vector_predict = topK_Predict[user_index]\n",
    "            if len(vector_predict.nonzero()[0]) > 0:\n",
    "                vector_true = matrix_Test[user_index]\n",
    "                vector_true_dense = vector_true.nonzero()[1]\n",
    "                hits = np.isin(vector_predict, vector_true_dense)\n",
    "\n",
    "                if vector_true_dense.size > 0:\n",
    "                    for name in local_metric_names:\n",
    "                        results[name].append(local_metrics[name](vector_true_dense=vector_true_dense,\n",
    "                                                                 vector_predict=vector_predict,\n",
    "                                                                 hits=hits))\n",
    "\n",
    "        results_summary = dict()\n",
    "        if analytical:\n",
    "            for name in local_metric_names:\n",
    "                results_summary['{0}@{1}'.format(name, k)] = results[name]\n",
    "        else:\n",
    "            for name in local_metric_names:\n",
    "                results_summary['{0}@{1}'.format(name, k)] = (np.average(results[name]),\n",
    "                                                              1.96*np.std(results[name])/np.sqrt(num_users))\n",
    "        output.update(results_summary)\n",
    "\n",
    "    global_metric_names = list(set(metric_names).intersection(global_metrics.keys()))\n",
    "    results = {name: [] for name in global_metric_names}\n",
    "\n",
    "    topK_Predict = matrix_Predict[:]\n",
    "\n",
    "    for user_index in tqdm(range(topK_Predict.shape[0])):\n",
    "        vector_predict = topK_Predict[user_index]\n",
    "\n",
    "        if len(vector_predict.nonzero()[0]) > 0:\n",
    "            vector_true = matrix_Test[user_index]\n",
    "            vector_true_dense = vector_true.nonzero()[1]\n",
    "            hits = np.isin(vector_predict, vector_true_dense)\n",
    "\n",
    "            # if user_index == 1:\n",
    "            #     import ipdb;\n",
    "            #     ipdb.set_trace()\n",
    "\n",
    "            if vector_true_dense.size > 0:\n",
    "                for name in global_metric_names:\n",
    "                    results[name].append(global_metrics[name](vector_true_dense=vector_true_dense,\n",
    "                                                              vector_predict=vector_predict,\n",
    "                                                              hits=hits))\n",
    "\n",
    "    results_summary = dict()\n",
    "    if analytical:\n",
    "        for name in global_metric_names:\n",
    "            results_summary[name] = results[name]\n",
    "    else:\n",
    "        for name in global_metric_names:\n",
    "            results_summary[name] = (np.average(results[name]), 1.96*np.std(results[name])/np.sqrt(num_users))\n",
    "    output.update(results_summary)\n",
    "\n",
    "    return output\n"
   ]
  },
  {
   "cell_type": "code",
   "execution_count": 26,
   "metadata": {},
   "outputs": [
    {
     "name": "stderr",
     "output_type": "stream",
     "text": [
      "100%|█████████████████████████████████████████████████████████████████████████████| 6056/6056 [00:12<00:00, 473.49it/s]\n",
      "100%|████████████████████████████████████████████████████████████████████████████| 6056/6056 [00:01<00:00, 3472.48it/s]\n",
      "100%|████████████████████████████████████████████████████████████████████████████| 6056/6056 [00:01<00:00, 5919.84it/s]\n",
      "100%|████████████████████████████████████████████████████████████████████████████| 6056/6056 [00:01<00:00, 5729.42it/s]\n",
      "100%|████████████████████████████████████████████████████████████████████████████| 6056/6056 [00:01<00:00, 5789.67it/s]\n",
      "100%|████████████████████████████████████████████████████████████████████████████| 6056/6056 [00:01<00:00, 5767.62it/s]\n",
      "100%|████████████████████████████████████████████████████████████████████████████| 6056/6056 [00:01<00:00, 5713.21it/s]\n",
      "100%|████████████████████████████████████████████████████████████████████████████| 6056/6056 [00:01<00:00, 5180.50it/s]\n"
     ]
    }
   ],
   "source": [
    "user_item_res = get_res(rtrain,rvalid, k = 100, base = 0)"
   ]
  },
  {
   "cell_type": "code",
   "execution_count": 28,
   "metadata": {
    "scrolled": true
   },
   "outputs": [
    {
     "name": "stderr",
     "output_type": "stream",
     "text": [
      "100%|█████████████████████████████████████████████████████████████████████████████| 4395/4395 [00:23<00:00, 189.36it/s]\n",
      "100%|████████████████████████████████████████████████████████████████████████████| 6056/6056 [00:01<00:00, 3046.28it/s]\n",
      "100%|████████████████████████████████████████████████████████████████████████████| 6056/6056 [00:01<00:00, 5896.79it/s]\n",
      "100%|████████████████████████████████████████████████████████████████████████████| 6056/6056 [00:01<00:00, 5885.33it/s]\n",
      "100%|████████████████████████████████████████████████████████████████████████████| 6056/6056 [00:01<00:00, 5839.92it/s]\n",
      "100%|████████████████████████████████████████████████████████████████████████████| 6056/6056 [00:01<00:00, 5868.22it/s]\n",
      "100%|████████████████████████████████████████████████████████████████████████████| 6056/6056 [00:01<00:00, 5789.67it/s]\n",
      "100%|████████████████████████████████████████████████████████████████████████████| 6056/6056 [00:01<00:00, 5207.22it/s]\n"
     ]
    }
   ],
   "source": [
    "item_based_res = get_res(rtrain,rvalid, k = 100, I_K = I_K, base = 1)"
   ]
  },
  {
   "cell_type": "code",
   "execution_count": 30,
   "metadata": {},
   "outputs": [
    {
     "name": "stderr",
     "output_type": "stream",
     "text": [
      "100%|█████████████████████████████████████████████████████████████████████████████| 6056/6056 [00:21<00:00, 287.34it/s]\n",
      "100%|████████████████████████████████████████████████████████████████████████████| 6056/6056 [00:01<00:00, 3587.68it/s]\n",
      "100%|████████████████████████████████████████████████████████████████████████████| 6056/6056 [00:01<00:00, 5919.84it/s]\n",
      "100%|████████████████████████████████████████████████████████████████████████████| 6056/6056 [00:01<00:00, 5862.54it/s]\n",
      "100%|████████████████████████████████████████████████████████████████████████████| 6056/6056 [00:01<00:00, 5862.54it/s]\n",
      "100%|████████████████████████████████████████████████████████████████████████████| 6056/6056 [00:01<00:00, 5873.91it/s]\n",
      "100%|████████████████████████████████████████████████████████████████████████████| 6056/6056 [00:01<00:00, 5773.12it/s]\n",
      "100%|████████████████████████████████████████████████████████████████████████████| 6056/6056 [00:01<00:00, 5321.62it/s]\n"
     ]
    }
   ],
   "source": [
    "user_based_res = get_res(rtrain,rvalid, k = 100, U_K = U_K, base = 2)"
   ]
  },
  {
   "cell_type": "code",
   "execution_count": 27,
   "metadata": {
    "scrolled": true
   },
   "outputs": [
    {
     "data": {
      "text/plain": [
       "{'MAP@10': (0.06168417231301177, 0.002846614511429719),\n",
       " 'MAP@15': (0.05547976387010092, 0.002346142671208233),\n",
       " 'MAP@20': (0.05093969639491765, 0.0020347192790403914),\n",
       " 'MAP@5': (0.07089213570203111, 0.0038712470885525103),\n",
       " 'MAP@50': (0.03694294299260082, 0.001273152056150982),\n",
       " 'NDCG': (0.1588749840350779, 0.004723496258055915),\n",
       " 'Precision@10': (0.04793292379213016, 0.0018987655866329243),\n",
       " 'Precision@15': (0.04035641153356578, 0.0014824463457221862),\n",
       " 'Precision@20': (0.03545575294703636, 0.001242405336155152),\n",
       " 'Precision@5': (0.06259339199734351, 0.002923707056099553),\n",
       " 'Precision@50': (0.02293541424539266, 0.000740451049508006),\n",
       " 'R-Precision': (0.06350889522349694, 0.003660306124425233),\n",
       " 'Recall@10': (0.14197793609017711, 0.006059166090170213),\n",
       " 'Recall@15': (0.17695890434443642, 0.006699604061189737),\n",
       " 'Recall@20': (0.20409379235786, 0.007038388448278041),\n",
       " 'Recall@5': (0.09501616202214352, 0.00503834384528376),\n",
       " 'Recall@50': (0.31421806458121376, 0.008115025763460492)}"
      ]
     },
     "execution_count": 27,
     "metadata": {},
     "output_type": "execute_result"
    }
   ],
   "source": [
    "user_item_res"
   ]
  },
  {
   "cell_type": "code",
   "execution_count": 29,
   "metadata": {},
   "outputs": [
    {
     "data": {
      "text/plain": [
       "{'MAP@10': (0.01866572978186792, 0.001552326498395624),\n",
       " 'MAP@15': (0.017663077325205834, 0.001288537079048407),\n",
       " 'MAP@20': (0.016941324590700704, 0.0011249645028732973),\n",
       " 'MAP@5': (0.02022967513420776, 0.002089026801829122),\n",
       " 'MAP@50': (0.014320965320317205, 0.0007266383553107286),\n",
       " 'NDCG': (0.06618155222899696, 0.0029192558408785785),\n",
       " 'Precision@10': (0.016237755271459407, 0.0011011110155266521),\n",
       " 'Precision@15': (0.015263711328795174, 0.0008802375409049988),\n",
       " 'Precision@20': (0.014394819857214013, 0.0007546292783539829),\n",
       " 'Precision@5': (0.018562178316453598, 0.0016019083775005698),\n",
       " 'Precision@50': (0.011386352316121534, 0.0004823549607395219),\n",
       " 'R-Precision': (0.01903772782640183, 0.0019929563994508727),\n",
       " 'Recall@10': (0.04635101287756888, 0.003543237586201303),\n",
       " 'Recall@15': (0.06522716006915662, 0.004121350055580288),\n",
       " 'Recall@20': (0.0806489519720455, 0.004519378555520585),\n",
       " 'Recall@5': (0.02694176586685269, 0.002712117485177165),\n",
       " 'Recall@50': (0.156427718994557, 0.006212928225213921)}"
      ]
     },
     "execution_count": 29,
     "metadata": {},
     "output_type": "execute_result"
    }
   ],
   "source": [
    "item_based_res"
   ]
  },
  {
   "cell_type": "code",
   "execution_count": 31,
   "metadata": {
    "scrolled": true
   },
   "outputs": [
    {
     "data": {
      "text/plain": [
       "{'MAP@10': (0.0043223068185711385, 0.0007359233379531491),\n",
       " 'MAP@15': (0.004069412855731967, 0.0006097757112980155),\n",
       " 'MAP@20': (0.003871958420480238, 0.0005324633690017823),\n",
       " 'MAP@5': (0.004716365045104876, 0.0010089453804348748),\n",
       " 'MAP@50': (0.003258456267190244, 0.0003377468476830535),\n",
       " 'NDCG': (0.013348753977931302, 0.001243502789898573),\n",
       " 'Precision@10': (0.003685870828490786, 0.0005046618208904838),\n",
       " 'Precision@15': (0.0034534285239913665, 0.0004171980848481958),\n",
       " 'Precision@20': (0.00319608168686701, 0.0003519296276898786),\n",
       " 'Precision@5': (0.004183961480989541, 0.0007382332383653887),\n",
       " 'Precision@50': (0.002596712601693508, 0.0002083550688013511),\n",
       " 'R-Precision': (0.0040558836361050945, 0.0007802855920234222),\n",
       " 'Recall@10': (0.008606703092025119, 0.0014433258931646248),\n",
       " 'Recall@15': (0.012157606904155158, 0.001753583774714441),\n",
       " 'Recall@20': (0.015070686498959892, 0.0019515171876247736),\n",
       " 'Recall@5': (0.004654171867105546, 0.0010161265489507072),\n",
       " 'Recall@50': (0.031415761137991285, 0.0028321934897680354)}"
      ]
     },
     "execution_count": 31,
     "metadata": {},
     "output_type": "execute_result"
    }
   ],
   "source": [
    "user_based_res"
   ]
  },
  {
   "cell_type": "markdown",
   "metadata": {},
   "source": [
    "# Try different Keyphrases size"
   ]
  },
  {
   "cell_type": "code",
   "execution_count": 42,
   "metadata": {},
   "outputs": [
    {
     "name": "stdout",
     "output_type": "stream",
     "text": [
      "('stemming:', u'invers')\n",
      "('lemmatization:', 'inversely')\n"
     ]
    }
   ],
   "source": [
    "#Stemming and Lemmatisation\n",
    "from nltk.stem.porter import PorterStemmer\n",
    "from nltk.stem.wordnet import WordNetLemmatizer\n",
    "lem = WordNetLemmatizer()\n",
    "stem = PorterStemmer()\n",
    "word = 'inversely'\n",
    "print ('stemming:', stem.stem(word))\n",
    "print ('lemmatization:', lem.lemmatize(word, \"v\"))\n",
    "import re \n",
    "import nltk\n",
    "from nltk.corpus import stopwords\n",
    "from nltk.stem.porter import PorterStemmer\n",
    "from nltk.tokenize import RegexpTokenizer\n",
    "from nltk.stem.wordnet import WordNetLemmatizer"
   ]
  },
  {
   "cell_type": "code",
   "execution_count": 43,
   "metadata": {
    "collapsed": true
   },
   "outputs": [],
   "source": [
    "stop_words = set(stopwords.words(\"english\"))"
   ]
  },
  {
   "cell_type": "code",
   "execution_count": 44,
   "metadata": {
    "collapsed": true
   },
   "outputs": [],
   "source": [
    "def get_corpus(df, review_name = 'conca_review'):\n",
    "    corpus = []\n",
    "    for i in tqdm(range(len(df))):\n",
    "        corpus.append(df[review_name][i])\n",
    "    return corpus"
   ]
  },
  {
   "cell_type": "code",
   "execution_count": 46,
   "metadata": {
    "collapsed": true
   },
   "outputs": [],
   "source": [
    "# Get corpus and CountVector\n",
    "from sklearn.feature_extraction.text import CountVectorizer\n",
    "import re"
   ]
  },
  {
   "cell_type": "code",
   "execution_count": 47,
   "metadata": {},
   "outputs": [
    {
     "name": "stderr",
     "output_type": "stream",
     "text": [
      "100%|███████████████████████████████████████████████████████████████████████| 116660/116660 [00:01<00:00, 82503.53it/s]\n"
     ]
    }
   ],
   "source": [
    "corpus = get_corpus(df_train)"
   ]
  },
  {
   "cell_type": "code",
   "execution_count": 89,
   "metadata": {
    "collapsed": true
   },
   "outputs": [],
   "source": [
    "cv=CountVectorizer(max_df=0.9,stop_words=stop_words, max_features=2000, ngram_range=(1,1))\n",
    "X2000=cv.fit_transform(corpus)"
   ]
  },
  {
   "cell_type": "code",
   "execution_count": 49,
   "metadata": {
    "collapsed": true
   },
   "outputs": [],
   "source": [
    "def get_I_K_fromX(df, X, row_name = 'business_num_id', binary = True, shape = (121994,6000)):\n",
    "    rows = []\n",
    "    cols = []\n",
    "    vals = []\n",
    "    for i in tqdm(range(X.shape[0])):\n",
    "        arr = X[i].toarray() \n",
    "        nonzero_element = arr.nonzero()[1]  # Get nonzero element in each line\n",
    "        length_of_nonzero = len(nonzero_element) \n",
    "        # df[row_name][i] is the item idex\n",
    "        rows.extend(np.array([df[row_name][i]]*length_of_nonzero)) ## Item index\n",
    "        cols.extend(nonzero_element) ## Keyword Index\n",
    "        if binary:\n",
    "            vals.extend(np.array([1]*length_of_nonzero))\n",
    "        else:\n",
    "            vals.extend(arr[arr.nonzero()])    \n",
    "    return csr_matrix((vals, (rows, cols)), shape=shape)"
   ]
  },
  {
   "cell_type": "code",
   "execution_count": 50,
   "metadata": {},
   "outputs": [
    {
     "data": {
      "text/plain": [
       "<116660x400 sparse matrix of type '<type 'numpy.int64'>'\n",
       "\twith 4757013 stored elements in Compressed Sparse Row format>"
      ]
     },
     "execution_count": 50,
     "metadata": {},
     "output_type": "execute_result"
    }
   ],
   "source": [
    "X400"
   ]
  },
  {
   "cell_type": "code",
   "execution_count": 59,
   "metadata": {},
   "outputs": [
    {
     "data": {
      "text/plain": [
       "<116660x4000 sparse matrix of type '<type 'numpy.int64'>'\n",
       "\twith 8645321 stored elements in Compressed Sparse Row format>"
      ]
     },
     "execution_count": 59,
     "metadata": {},
     "output_type": "execute_result"
    }
   ],
   "source": [
    "X4000"
   ]
  },
  {
   "cell_type": "code",
   "execution_count": 90,
   "metadata": {},
   "outputs": [
    {
     "data": {
      "text/plain": [
       "<116660x2000 sparse matrix of type '<type 'numpy.int64'>'\n",
       "\twith 7659862 stored elements in Compressed Sparse Row format>"
      ]
     },
     "execution_count": 90,
     "metadata": {},
     "output_type": "execute_result"
    }
   ],
   "source": [
    "X2000"
   ]
  },
  {
   "cell_type": "code",
   "execution_count": 51,
   "metadata": {
    "scrolled": true
   },
   "outputs": [
    {
     "data": {
      "text/plain": [
       "<6056x4395 sparse matrix of type '<type 'numpy.float32'>'\n",
       "\twith 97781 stored elements in Compressed Sparse Row format>"
      ]
     },
     "execution_count": 51,
     "metadata": {},
     "output_type": "execute_result"
    }
   ],
   "source": [
    "rtrain"
   ]
  },
  {
   "cell_type": "code",
   "execution_count": 91,
   "metadata": {
    "scrolled": true
   },
   "outputs": [
    {
     "name": "stderr",
     "output_type": "stream",
     "text": [
      "100%|████████████████████████████████████████████████████████████████████████| 116660/116660 [00:18<00:00, 6272.04it/s]\n"
     ]
    }
   ],
   "source": [
    "I_K2000 = get_I_K_fromX(df_train,X2000, binary=False, row_name='ItemIndex',shape = (4395,4000))"
   ]
  },
  {
   "cell_type": "code",
   "execution_count": 92,
   "metadata": {
    "scrolled": false
   },
   "outputs": [
    {
     "name": "stderr",
     "output_type": "stream",
     "text": [
      "100%|████████████████████████████████████████████████████████████████████████| 116660/116660 [00:18<00:00, 6275.75it/s]\n"
     ]
    }
   ],
   "source": [
    "U_K2000 = get_I_K_fromX(df_train,X2000, binary=False, row_name='UserIndex',shape = (6056,4000))"
   ]
  },
  {
   "cell_type": "code",
   "execution_count": 63,
   "metadata": {},
   "outputs": [
    {
     "data": {
      "text/plain": [
       "<4395x4000 sparse matrix of type '<type 'numpy.int64'>'\n",
       "\twith 3500695 stored elements in Compressed Sparse Row format>"
      ]
     },
     "execution_count": 63,
     "metadata": {},
     "output_type": "execute_result"
    }
   ],
   "source": [
    "I_K4000"
   ]
  },
  {
   "cell_type": "code",
   "execution_count": 64,
   "metadata": {},
   "outputs": [
    {
     "data": {
      "text/plain": [
       "<6056x4000 sparse matrix of type '<type 'numpy.int64'>'\n",
       "\twith 3521330 stored elements in Compressed Sparse Row format>"
      ]
     },
     "execution_count": 64,
     "metadata": {},
     "output_type": "execute_result"
    }
   ],
   "source": [
    "U_K4000"
   ]
  },
  {
   "cell_type": "markdown",
   "metadata": {},
   "source": [
    "# Combined ?"
   ]
  },
  {
   "cell_type": "code",
   "execution_count": 95,
   "metadata": {
    "collapsed": true
   },
   "outputs": [],
   "source": [
    "## Utility functions\n",
    "def add_two_matrix(ratio, U_I_matrix,I_K_matrix, shape = (3906, 3000+5791)):\n",
    "    # ratio determine Keywords/User in the matrix\n",
    "    rows = []\n",
    "    cols = []\n",
    "    datas = []\n",
    "    I_U_matrix = U_I_matrix.transpose()\n",
    "    \n",
    "    for i in tqdm(range(I_K_matrix.shape[0])):\n",
    "        nonzero1 = I_K_matrix[i].nonzero()\n",
    "        nonzero2 = I_U_matrix[i].nonzero()\n",
    "        row = [i]*(len(nonzero1[1])+len(nonzero2[1]))\n",
    "        col = nonzero1[1].tolist()+ nonzero2[1].tolist()\n",
    "        data = [ratio]*len(nonzero1[1])+[1-ratio]*len(nonzero2[1]) # Binary representation of I-K/U matrix\n",
    "        \n",
    "        rows.extend(row)\n",
    "        cols.extend(col)\n",
    "        datas.extend(data)\n",
    "    return csr_matrix( (datas,(rows,cols)), shape=shape )\n",
    "\n",
    "def transfer_to_implicit(rating_matrix, threshold = 0):\n",
    "    temp_rating_matrix = sparse.csr_matrix(rating_matrix.shape)\n",
    "    temp_rating_matrix[(rating_matrix > threshold).nonzero()] = 1\n",
    "    rating_matrix = temp_rating_matrix\n",
    "    return rating_matrix"
   ]
  },
  {
   "cell_type": "code",
   "execution_count": 97,
   "metadata": {},
   "outputs": [
    {
     "data": {
      "text/plain": [
       "<6056x4395 sparse matrix of type '<type 'numpy.float32'>'\n",
       "\twith 97781 stored elements in Compressed Sparse Row format>"
      ]
     },
     "execution_count": 97,
     "metadata": {},
     "output_type": "execute_result"
    }
   ],
   "source": [
    "rtrain"
   ]
  },
  {
   "cell_type": "code",
   "execution_count": 96,
   "metadata": {},
   "outputs": [
    {
     "name": "stderr",
     "output_type": "stream",
     "text": [
      "D:\\Anaconda\\envs\\py27\\lib\\site-packages\\ipykernel_launcher.py:23: SparseEfficiencyWarning: Changing the sparsity structure of a csr_matrix is expensive. lil_matrix is more efficient.\n"
     ]
    }
   ],
   "source": [
    "I_K_forcombine = transfer_to_implicit(I_K4000)"
   ]
  },
  {
   "cell_type": "code",
   "execution_count": 102,
   "metadata": {
    "scrolled": true
   },
   "outputs": [
    {
     "name": "stderr",
     "output_type": "stream",
     "text": [
      "100%|████████████████████████████████████████████████████████████████████████████| 4395/4395 [00:03<00:00, 1267.67it/s]\n",
      "100%|█████████████████████████████████████████████████████████████████████████████| 4395/4395 [00:23<00:00, 184.17it/s]\n",
      "100%|████████████████████████████████████████████████████████████████████████████| 6056/6056 [00:02<00:00, 2856.60it/s]\n",
      "100%|████████████████████████████████████████████████████████████████████████████| 6056/6056 [00:01<00:00, 5789.67it/s]\n",
      "100%|████████████████████████████████████████████████████████████████████████████| 6056/6056 [00:01<00:00, 5806.33it/s]\n",
      "100%|████████████████████████████████████████████████████████████████████████████| 6056/6056 [00:01<00:00, 5617.81it/s]\n",
      "100%|████████████████████████████████████████████████████████████████████████████| 6056/6056 [00:01<00:00, 5778.63it/s]\n",
      "100%|████████████████████████████████████████████████████████████████████████████| 6056/6056 [00:01<00:00, 5675.73it/s]\n",
      "100%|████████████████████████████████████████████████████████████████████████████| 6056/6056 [00:01<00:00, 5106.24it/s]\n"
     ]
    }
   ],
   "source": [
    "I_K_U = add_two_matrix(0.5, rtrain, I_K_forcombine, shape = (4395, 4000+6056))\n",
    "similarity = train(I_K_U)\n",
    "combined_0p5 = get_res(similarity,rtrain,rtest, k = 100, base = 1)"
   ]
  },
  {
   "cell_type": "markdown",
   "metadata": {},
   "source": [
    "# Different Similarity Calculation method"
   ]
  },
  {
   "cell_type": "code",
   "execution_count": 104,
   "metadata": {
    "collapsed": true
   },
   "outputs": [],
   "source": [
    "a = I_K4000"
   ]
  },
  {
   "cell_type": "code",
   "execution_count": 107,
   "metadata": {},
   "outputs": [],
   "source": [
    "b = a*a.transpose()"
   ]
  },
  {
   "cell_type": "code",
   "execution_count": 108,
   "metadata": {},
   "outputs": [
    {
     "data": {
      "text/plain": [
       "<4395x4395 sparse matrix of type '<type 'numpy.int64'>'\n",
       "\twith 19272068 stored elements in Compressed Sparse Row format>"
      ]
     },
     "execution_count": 108,
     "metadata": {},
     "output_type": "execute_result"
    }
   ],
   "source": [
    "b"
   ]
  },
  {
   "cell_type": "code",
   "execution_count": 112,
   "metadata": {},
   "outputs": [
    {
     "data": {
      "text/plain": [
       "matrix([[   29,    58,    49, ..., 98172, 50493, 54810]], dtype=int64)"
      ]
     },
     "execution_count": 112,
     "metadata": {},
     "output_type": "execute_result"
    }
   ],
   "source": [
    "b[0][b[0].nonzero()]"
   ]
  },
  {
   "cell_type": "code",
   "execution_count": 111,
   "metadata": {
    "scrolled": true
   },
   "outputs": [
    {
     "data": {
      "text/plain": [
       "<4395x4000 sparse matrix of type '<type 'numpy.int64'>'\n",
       "\twith 3500695 stored elements in Compressed Sparse Row format>"
      ]
     },
     "execution_count": 111,
     "metadata": {},
     "output_type": "execute_result"
    }
   ],
   "source": [
    "I_K4000"
   ]
  },
  {
   "cell_type": "markdown",
   "metadata": {},
   "source": [
    "# Tunning"
   ]
  },
  {
   "cell_type": "code",
   "execution_count": 74,
   "metadata": {
    "collapsed": true
   },
   "outputs": [],
   "source": [
    "def get_res(similarity, rtrain, rvalid, k=100, topK = 50, I_K = None, U_K = None, base = 0):\n",
    "    \"\"\"\n",
    "    base = 0 means regular user_item KNN\n",
    "    base = 1 means keyphrases-item_based similarity KNN\n",
    "    base = 2 means keyphrases-user_based similarity KNN\n",
    "    \"\"\"\n",
    "    item_similarity_en = False\n",
    "    if base == 1:\n",
    "        item_similarity_en = True\n",
    "    prediction_score = predict(rtrain, k, similarity, item_similarity_en= item_similarity_en)\n",
    "    predict_res = prediction(prediction_score, topK, rtrain)\n",
    "    res = evaluate(predict_res, rvalid)\n",
    "    return res"
   ]
  },
  {
   "cell_type": "code",
   "execution_count": 93,
   "metadata": {
    "collapsed": true
   },
   "outputs": [],
   "source": [
    "def hyper_parameter_tuning(rtrain, rvalid, save_path, I_K, U_K):\n",
    "    table_path = 'CDsVinyl/tables/'\n",
    "    try:\n",
    "        df = load_dataframe_csv(table_path, save_path)\n",
    "    except:\n",
    "        df = pd.DataFrame(columns=['model', 'k', 'topK'])\n",
    "\n",
    "    num_user = rtrain.shape[0]\n",
    "\n",
    "    for algorithm in ['item_based']:\n",
    "        \n",
    "        if algorithm == 'user_item':\n",
    "            similarity = train(rtrain)\n",
    "        elif algorithm == 'item_based':\n",
    "            similarity = train(I_K)\n",
    "        elif algorithm == 'user_based':\n",
    "            similarity = train(U_K)\n",
    "            \n",
    "        for k in [10, 20, 30, 40, 50, 60, 70, 80, 90, 100, 150, 200, 250, 300, 350, 400, 450, 500, 600, 700, 800, 900, 1000]:\n",
    "            if algorithm == 'user_item':\n",
    "                result =  get_res(similarity, rtrain,rvalid, k=k, base = 0)\n",
    "                print \"get result for k = \",k,\" , with algorithm = \", algorithm\n",
    "            elif algorithm == 'item_based':\n",
    "                result = get_res(similarity, rtrain,rvalid, k=k, I_K = I_K, base = 1)\n",
    "                print \"get result for k = \",k,\" , with algorithm = \", algorithm\n",
    "            else:\n",
    "                result = get_res(similarity, rtrain,rvalid, k=k, U_K = U_K, base = 2)\n",
    "                print \"get result for k = \",k,\" , with algorithm = \", algorithm\n",
    "\n",
    "            result_dict = {'model': algorithm, 'k': k}\n",
    "\n",
    "            for name in result.keys():\n",
    "                result_dict[name] = [round(result[name][0], 4), round(result[name][1], 4)]\n",
    "\n",
    "            df = df.append(result_dict, ignore_index=True)\n",
    "\n",
    "            save_dataframe_csv(df, table_path, save_path)\n",
    "\n",
    "def save_dataframe_csv(df, path, name):\n",
    "    df.to_csv(path+name, index=False)"
   ]
  },
  {
   "cell_type": "code",
   "execution_count": 39,
   "metadata": {
    "scrolled": true
   },
   "outputs": [
    {
     "name": "stderr",
     "output_type": "stream",
     "text": [
      "100%|████████████████████████████████████████████████████████████████████████████| 6056/6056 [00:02<00:00, 2559.59it/s]\n",
      "100%|████████████████████████████████████████████████████████████████████████████| 6056/6056 [00:01<00:00, 3749.85it/s]\n",
      "100%|████████████████████████████████████████████████████████████████████████████| 6056/6056 [00:01<00:00, 5919.84it/s]\n",
      "100%|████████████████████████████████████████████████████████████████████████████| 6056/6056 [00:01<00:00, 5828.68it/s]\n",
      "100%|████████████████████████████████████████████████████████████████████████████| 6056/6056 [00:01<00:00, 5914.06it/s]\n",
      "100%|████████████████████████████████████████████████████████████████████████████| 6056/6056 [00:01<00:00, 5891.05it/s]\n",
      "100%|████████████████████████████████████████████████████████████████████████████| 6056/6056 [00:01<00:00, 5828.68it/s]\n",
      "100%|████████████████████████████████████████████████████████████████████████████| 6056/6056 [00:01<00:00, 5302.98it/s]\n"
     ]
    },
    {
     "name": "stdout",
     "output_type": "stream",
     "text": [
      "get result for k =  10  , with algorithm =  user_item\n"
     ]
    },
    {
     "name": "stderr",
     "output_type": "stream",
     "text": [
      "100%|████████████████████████████████████████████████████████████████████████████| 6056/6056 [00:03<00:00, 1876.67it/s]\n",
      "100%|████████████████████████████████████████████████████████████████████████████| 6056/6056 [00:01<00:00, 3606.91it/s]\n",
      "100%|████████████████████████████████████████████████████████████████████████████| 6056/6056 [00:01<00:00, 5937.26it/s]\n",
      "100%|████████████████████████████████████████████████████████████████████████████| 6056/6056 [00:01<00:00, 5937.26it/s]\n",
      "100%|████████████████████████████████████████████████████████████████████████████| 6056/6056 [00:01<00:00, 5960.63it/s]\n",
      "100%|████████████████████████████████████████████████████████████████████████████| 6056/6056 [00:01<00:00, 5891.05it/s]\n",
      "100%|████████████████████████████████████████████████████████████████████████████| 6056/6056 [00:01<00:00, 5817.48it/s]\n",
      "100%|████████████████████████████████████████████████████████████████████████████| 6056/6056 [00:01<00:00, 5247.83it/s]\n"
     ]
    },
    {
     "name": "stdout",
     "output_type": "stream",
     "text": [
      "get result for k =  50  , with algorithm =  user_item\n"
     ]
    },
    {
     "name": "stderr",
     "output_type": "stream",
     "text": [
      "100%|█████████████████████████████████████████████████████████████████████████████| 6056/6056 [00:12<00:00, 479.87it/s]\n",
      "100%|████████████████████████████████████████████████████████████████████████████| 6056/6056 [00:01<00:00, 3533.26it/s]\n",
      "100%|████████████████████████████████████████████████████████████████████████████| 6056/6056 [00:01<00:00, 5984.19it/s]\n",
      "100%|████████████████████████████████████████████████████████████████████████████| 6056/6056 [00:01<00:00, 5908.29it/s]\n",
      "100%|████████████████████████████████████████████████████████████████████████████| 6056/6056 [00:01<00:00, 5978.28it/s]\n",
      "100%|████████████████████████████████████████████████████████████████████████████| 6056/6056 [00:01<00:00, 5795.21it/s]\n",
      "100%|████████████████████████████████████████████████████████████████████████████| 6056/6056 [00:01<00:00, 5845.56it/s]\n",
      "100%|████████████████████████████████████████████████████████████████████████████| 6056/6056 [00:01<00:00, 5312.28it/s]\n"
     ]
    },
    {
     "name": "stdout",
     "output_type": "stream",
     "text": [
      "get result for k =  100  , with algorithm =  user_item\n"
     ]
    },
    {
     "name": "stderr",
     "output_type": "stream",
     "text": [
      "100%|█████████████████████████████████████████████████████████████████████████████| 6056/6056 [00:23<00:00, 258.77it/s]\n",
      "100%|████████████████████████████████████████████████████████████████████████████| 6056/6056 [00:01<00:00, 3438.96it/s]\n",
      "100%|████████████████████████████████████████████████████████████████████████████| 6056/6056 [00:01<00:00, 5931.44it/s]\n",
      "100%|████████████████████████████████████████████████████████████████████████████| 6056/6056 [00:01<00:00, 5925.64it/s]\n",
      "100%|████████████████████████████████████████████████████████████████████████████| 6056/6056 [00:01<00:00, 5617.81it/s]\n",
      "100%|████████████████████████████████████████████████████████████████████████████| 6056/6056 [00:01<00:00, 5607.41it/s]\n",
      "100%|████████████████████████████████████████████████████████████████████████████| 6056/6056 [00:01<00:00, 5289.08it/s]\n",
      "100%|████████████████████████████████████████████████████████████████████████████| 6056/6056 [00:01<00:00, 5067.78it/s]\n"
     ]
    },
    {
     "name": "stdout",
     "output_type": "stream",
     "text": [
      "get result for k =  200  , with algorithm =  user_item\n"
     ]
    },
    {
     "name": "stderr",
     "output_type": "stream",
     "text": [
      "100%|█████████████████████████████████████████████████████████████████████████████| 6056/6056 [00:36<00:00, 167.77it/s]\n",
      "100%|████████████████████████████████████████████████████████████████████████████| 6056/6056 [00:01<00:00, 3375.70it/s]\n",
      "100%|████████████████████████████████████████████████████████████████████████████| 6056/6056 [00:01<00:00, 5789.67it/s]\n",
      "100%|████████████████████████████████████████████████████████████████████████████| 6056/6056 [00:01<00:00, 5885.33it/s]\n",
      "100%|████████████████████████████████████████████████████████████████████████████| 6056/6056 [00:01<00:00, 5697.08it/s]\n",
      "100%|████████████████████████████████████████████████████████████████████████████| 6056/6056 [00:01<00:00, 5734.85it/s]\n",
      "100%|████████████████████████████████████████████████████████████████████████████| 6056/6056 [00:01<00:00, 5713.21it/s]\n",
      "100%|████████████████████████████████████████████████████████████████████████████| 6056/6056 [00:01<00:00, 5140.92it/s]\n"
     ]
    },
    {
     "name": "stdout",
     "output_type": "stream",
     "text": [
      "get result for k =  300  , with algorithm =  user_item\n"
     ]
    },
    {
     "name": "stderr",
     "output_type": "stream",
     "text": [
      "100%|█████████████████████████████████████████████████████████████████████████████| 4395/4395 [00:05<00:00, 770.78it/s]\n",
      "100%|████████████████████████████████████████████████████████████████████████████| 6056/6056 [00:01<00:00, 3189.05it/s]\n",
      "100%|████████████████████████████████████████████████████████████████████████████| 6056/6056 [00:01<00:00, 5713.21it/s]\n",
      "100%|████████████████████████████████████████████████████████████████████████████| 6056/6056 [00:01<00:00, 5868.22it/s]\n",
      "100%|████████████████████████████████████████████████████████████████████████████| 6056/6056 [00:01<00:00, 5914.06it/s]\n",
      "100%|████████████████████████████████████████████████████████████████████████████| 6056/6056 [00:01<00:00, 5914.06it/s]\n",
      "100%|████████████████████████████████████████████████████████████████████████████| 6056/6056 [00:01<00:00, 5851.21it/s]\n",
      "100%|████████████████████████████████████████████████████████████████████████████| 6056/6056 [00:01<00:00, 5180.50it/s]\n"
     ]
    },
    {
     "name": "stdout",
     "output_type": "stream",
     "text": [
      "get result for k =  10  , with algorithm =  item_based\n"
     ]
    },
    {
     "name": "stderr",
     "output_type": "stream",
     "text": [
      "100%|█████████████████████████████████████████████████████████████████████████████| 4395/4395 [00:14<00:00, 311.13it/s]\n",
      "100%|████████████████████████████████████████████████████████████████████████████| 6056/6056 [00:01<00:00, 3099.28it/s]\n",
      "100%|████████████████████████████████████████████████████████████████████████████| 6056/6056 [00:01<00:00, 5954.77it/s]\n",
      "100%|████████████████████████████████████████████████████████████████████████████| 6056/6056 [00:01<00:00, 5862.54it/s]\n",
      "100%|████████████████████████████████████████████████████████████████████████████| 6056/6056 [00:01<00:00, 5914.06it/s]\n",
      "100%|████████████████████████████████████████████████████████████████████████████| 6056/6056 [00:01<00:00, 5914.06it/s]\n",
      "100%|████████████████████████████████████████████████████████████████████████████| 6056/6056 [00:01<00:00, 5834.30it/s]\n",
      "100%|████████████████████████████████████████████████████████████████████████████| 6056/6056 [00:01<00:00, 5330.99it/s]\n"
     ]
    },
    {
     "name": "stdout",
     "output_type": "stream",
     "text": [
      "get result for k =  50  , with algorithm =  item_based\n"
     ]
    },
    {
     "name": "stderr",
     "output_type": "stream",
     "text": [
      "100%|█████████████████████████████████████████████████████████████████████████████| 4395/4395 [00:23<00:00, 189.82it/s]\n",
      "100%|████████████████████████████████████████████████████████████████████████████| 6056/6056 [00:02<00:00, 2712.05it/s]\n",
      "100%|████████████████████████████████████████████████████████████████████████████| 6056/6056 [00:01<00:00, 5817.48it/s]\n",
      "100%|████████████████████████████████████████████████████████████████████████████| 6056/6056 [00:01<00:00, 5851.21it/s]\n",
      "100%|████████████████████████████████████████████████████████████████████████████| 6056/6056 [00:01<00:00, 5778.63it/s]\n",
      "100%|████████████████████████████████████████████████████████████████████████████| 6056/6056 [00:01<00:00, 5729.42it/s]\n",
      "100%|████████████████████████████████████████████████████████████████████████████| 6056/6056 [00:01<00:00, 5550.87it/s]\n",
      "100%|████████████████████████████████████████████████████████████████████████████| 6056/6056 [00:01<00:00, 4258.79it/s]\n"
     ]
    },
    {
     "name": "stdout",
     "output_type": "stream",
     "text": [
      "get result for k =  100  , with algorithm =  item_based\n"
     ]
    },
    {
     "name": "stderr",
     "output_type": "stream",
     "text": [
      "100%|█████████████████████████████████████████████████████████████████████████████| 4395/4395 [00:42<00:00, 104.15it/s]\n",
      "100%|████████████████████████████████████████████████████████████████████████████| 6056/6056 [00:02<00:00, 2959.92it/s]\n",
      "100%|████████████████████████████████████████████████████████████████████████████| 6056/6056 [00:01<00:00, 5845.56it/s]\n",
      "100%|████████████████████████████████████████████████████████████████████████████| 6056/6056 [00:01<00:00, 5896.79it/s]\n",
      "100%|████████████████████████████████████████████████████████████████████████████| 6056/6056 [00:01<00:00, 5984.19it/s]\n",
      "100%|████████████████████████████████████████████████████████████████████████████| 6056/6056 [00:01<00:00, 6037.89it/s]\n",
      "100%|████████████████████████████████████████████████████████████████████████████| 6056/6056 [00:01<00:00, 5931.44it/s]\n",
      "100%|████████████████████████████████████████████████████████████████████████████| 6056/6056 [00:01<00:00, 5411.98it/s]\n"
     ]
    },
    {
     "name": "stdout",
     "output_type": "stream",
     "text": [
      "get result for k =  200  , with algorithm =  item_based\n"
     ]
    },
    {
     "name": "stderr",
     "output_type": "stream",
     "text": [
      "100%|██████████████████████████████████████████████████████████████████████████████| 4395/4395 [01:02<00:00, 70.70it/s]\n",
      "100%|████████████████████████████████████████████████████████████████████████████| 6056/6056 [00:02<00:00, 3028.00it/s]\n",
      "100%|████████████████████████████████████████████████████████████████████████████| 6056/6056 [00:01<00:00, 5943.08it/s]\n",
      "100%|████████████████████████████████████████████████████████████████████████████| 6056/6056 [00:01<00:00, 6043.91it/s]\n",
      "100%|████████████████████████████████████████████████████████████████████████████| 6056/6056 [00:01<00:00, 6043.91it/s]\n",
      "100%|████████████████████████████████████████████████████████████████████████████| 6056/6056 [00:01<00:00, 5948.92it/s]\n",
      "100%|████████████████████████████████████████████████████████████████████████████| 6056/6056 [00:01<00:00, 5914.06it/s]\n",
      "100%|████████████████████████████████████████████████████████████████████████████| 6056/6056 [00:01<00:00, 5340.39it/s]\n"
     ]
    },
    {
     "name": "stdout",
     "output_type": "stream",
     "text": [
      "get result for k =  300  , with algorithm =  item_based\n"
     ]
    },
    {
     "name": "stderr",
     "output_type": "stream",
     "text": [
      "100%|████████████████████████████████████████████████████████████████████████████| 6056/6056 [00:03<00:00, 1655.55it/s]\n",
      "100%|████████████████████████████████████████████████████████████████████████████| 6056/6056 [00:01<00:00, 3823.23it/s]\n",
      "100%|████████████████████████████████████████████████████████████████████████████| 6056/6056 [00:01<00:00, 5984.19it/s]\n",
      "100%|████████████████████████████████████████████████████████████████████████████| 6056/6056 [00:01<00:00, 5972.39it/s]\n",
      "100%|████████████████████████████████████████████████████████████████████████████| 6056/6056 [00:01<00:00, 5948.92it/s]\n",
      "100%|████████████████████████████████████████████████████████████████████████████| 6056/6056 [00:00<00:00, 6092.56it/s]\n",
      "100%|████████████████████████████████████████████████████████████████████████████| 6056/6056 [00:01<00:00, 5896.79it/s]\n",
      "100%|████████████████████████████████████████████████████████████████████████████| 6056/6056 [00:01<00:00, 5307.62it/s]\n"
     ]
    },
    {
     "name": "stdout",
     "output_type": "stream",
     "text": [
      "get result for k =  10  , with algorithm =  user_based\n"
     ]
    },
    {
     "name": "stderr",
     "output_type": "stream",
     "text": [
      "100%|█████████████████████████████████████████████████████████████████████████████| 6056/6056 [00:09<00:00, 619.60it/s]\n",
      "100%|████████████████████████████████████████████████████████████████████████████| 6056/6056 [00:01<00:00, 3694.94it/s]\n",
      "100%|████████████████████████████████████████████████████████████████████████████| 6056/6056 [00:01<00:00, 5966.50it/s]\n",
      "100%|████████████████████████████████████████████████████████████████████████████| 6056/6056 [00:00<00:00, 6092.56it/s]\n",
      "100%|████████████████████████████████████████████████████████████████████████████| 6056/6056 [00:01<00:00, 5996.04it/s]\n",
      "100%|████████████████████████████████████████████████████████████████████████████| 6056/6056 [00:01<00:00, 5990.11it/s]\n",
      "100%|████████████████████████████████████████████████████████████████████████████| 6056/6056 [00:01<00:00, 5902.53it/s]\n",
      "100%|████████████████████████████████████████████████████████████████████████████| 6056/6056 [00:01<00:00, 5335.68it/s]\n"
     ]
    },
    {
     "name": "stdout",
     "output_type": "stream",
     "text": [
      "get result for k =  50  , with algorithm =  user_based\n"
     ]
    },
    {
     "name": "stderr",
     "output_type": "stream",
     "text": [
      "100%|█████████████████████████████████████████████████████████████████████████████| 6056/6056 [00:20<00:00, 299.09it/s]\n",
      "100%|████████████████████████████████████████████████████████████████████████████| 6056/6056 [00:01<00:00, 3617.68it/s]\n",
      "100%|████████████████████████████████████████████████████████████████████████████| 6056/6056 [00:01<00:00, 5411.98it/s]\n",
      "100%|████████████████████████████████████████████████████████████████████████████| 6056/6056 [00:01<00:00, 5996.04it/s]\n",
      "100%|████████████████████████████████████████████████████████████████████████████| 6056/6056 [00:01<00:00, 5902.53it/s]\n",
      "100%|████████████████████████████████████████████████████████████████████████████| 6056/6056 [00:01<00:00, 5902.53it/s]\n",
      "100%|████████████████████████████████████████████████████████████████████████████| 6056/6056 [00:01<00:00, 5902.53it/s]\n",
      "100%|████████████████████████████████████████████████████████████████████████████| 6056/6056 [00:01<00:00, 5330.99it/s]\n"
     ]
    },
    {
     "name": "stdout",
     "output_type": "stream",
     "text": [
      "get result for k =  100  , with algorithm =  user_based\n"
     ]
    },
    {
     "name": "stderr",
     "output_type": "stream",
     "text": [
      "100%|█████████████████████████████████████████████████████████████████████████████| 6056/6056 [00:37<00:00, 161.50it/s]\n",
      "100%|████████████████████████████████████████████████████████████████████████████| 6056/6056 [00:01<00:00, 3587.68it/s]\n",
      "100%|████████████████████████████████████████████████████████████████████████████| 6056/6056 [00:01<00:00, 5978.28it/s]\n",
      "100%|████████████████████████████████████████████████████████████████████████████| 6056/6056 [00:01<00:00, 5996.04it/s]\n",
      "100%|████████████████████████████████████████████████████████████████████████████| 6056/6056 [00:01<00:00, 6043.91it/s]\n",
      "100%|████████████████████████████████████████████████████████████████████████████| 6056/6056 [00:01<00:00, 5990.11it/s]\n",
      "100%|████████████████████████████████████████████████████████████████████████████| 6056/6056 [00:01<00:00, 5914.06it/s]\n",
      "100%|████████████████████████████████████████████████████████████████████████████| 6056/6056 [00:01<00:00, 5383.11it/s]\n"
     ]
    },
    {
     "name": "stdout",
     "output_type": "stream",
     "text": [
      "get result for k =  200  , with algorithm =  user_based\n"
     ]
    },
    {
     "name": "stderr",
     "output_type": "stream",
     "text": [
      "100%|█████████████████████████████████████████████████████████████████████████████| 6056/6056 [00:56<00:00, 107.61it/s]\n",
      "100%|████████████████████████████████████████████████████████████████████████████| 6056/6056 [00:01<00:00, 3562.35it/s]\n",
      "100%|████████████████████████████████████████████████████████████████████████████| 6056/6056 [00:01<00:00, 5931.44it/s]\n",
      "100%|████████████████████████████████████████████████████████████████████████████| 6056/6056 [00:01<00:00, 5919.84it/s]\n",
      "100%|████████████████████████████████████████████████████████████████████████████| 6056/6056 [00:01<00:00, 5919.84it/s]\n",
      "100%|████████████████████████████████████████████████████████████████████████████| 6056/6056 [00:01<00:00, 5908.29it/s]\n",
      "100%|████████████████████████████████████████████████████████████████████████████| 6056/6056 [00:01<00:00, 5828.68it/s]\n",
      "100%|████████████████████████████████████████████████████████████████████████████| 6056/6056 [00:01<00:00, 5312.28it/s]\n"
     ]
    },
    {
     "name": "stdout",
     "output_type": "stream",
     "text": [
      "get result for k =  300  , with algorithm =  user_based\n"
     ]
    }
   ],
   "source": [
    "hyper_parameter_tuning(rtrain, rvalid, 'knn_tunning.csv', I_K, U_K)"
   ]
  },
  {
   "cell_type": "code",
   "execution_count": 41,
   "metadata": {},
   "outputs": [
    {
     "name": "stderr",
     "output_type": "stream",
     "text": [
      "100%|████████████████████████████████████████████████████████████████████████████| 6056/6056 [00:02<00:00, 2214.26it/s]\n",
      "100%|████████████████████████████████████████████████████████████████████████████| 6056/6056 [00:01<00:00, 3562.35it/s]\n",
      "100%|████████████████████████████████████████████████████████████████████████████| 6056/6056 [00:01<00:00, 5697.08it/s]\n",
      "100%|████████████████████████████████████████████████████████████████████████████| 6056/6056 [00:01<00:00, 5298.34it/s]\n",
      "100%|████████████████████████████████████████████████████████████████████████████| 6056/6056 [00:01<00:00, 5681.05it/s]\n",
      "100%|████████████████████████████████████████████████████████████████████████████| 6056/6056 [00:01<00:00, 5581.57it/s]\n",
      "100%|████████████████████████████████████████████████████████████████████████████| 6056/6056 [00:01<00:00, 5500.45it/s]\n",
      "100%|████████████████████████████████████████████████████████████████████████████| 6056/6056 [00:01<00:00, 4923.58it/s]\n"
     ]
    },
    {
     "name": "stdout",
     "output_type": "stream",
     "text": [
      "get result for k =  10  , with algorithm =  user_item\n"
     ]
    },
    {
     "name": "stderr",
     "output_type": "stream",
     "text": [
      "100%|████████████████████████████████████████████████████████████████████████████| 6056/6056 [00:02<00:00, 2045.95it/s]\n",
      "100%|████████████████████████████████████████████████████████████████████████████| 6056/6056 [00:01<00:00, 3360.71it/s]\n",
      "100%|████████████████████████████████████████████████████████████████████████████| 6056/6056 [00:01<00:00, 5465.70it/s]\n",
      "100%|████████████████████████████████████████████████████████████████████████████| 6056/6056 [00:01<00:00, 5520.51it/s]\n",
      "100%|████████████████████████████████████████████████████████████████████████████| 6056/6056 [00:01<00:00, 5510.46it/s]\n",
      "100%|████████████████████████████████████████████████████████████████████████████| 6056/6056 [00:01<00:00, 5364.04it/s]\n",
      "100%|████████████████████████████████████████████████████████████████████████████| 6056/6056 [00:01<00:00, 5059.31it/s]\n",
      "100%|████████████████████████████████████████████████████████████████████████████| 6056/6056 [00:01<00:00, 4895.72it/s]\n"
     ]
    },
    {
     "name": "stdout",
     "output_type": "stream",
     "text": [
      "get result for k =  20  , with algorithm =  user_item\n"
     ]
    },
    {
     "name": "stderr",
     "output_type": "stream",
     "text": [
      "100%|████████████████████████████████████████████████████████████████████████████| 6056/6056 [00:03<00:00, 1982.32it/s]\n",
      "100%|████████████████████████████████████████████████████████████████████████████| 6056/6056 [00:01<00:00, 3066.33it/s]\n",
      "100%|████████████████████████████████████████████████████████████████████████████| 6056/6056 [00:01<00:00, 4742.37it/s]\n",
      "100%|████████████████████████████████████████████████████████████████████████████| 6056/6056 [00:01<00:00, 5229.71it/s]\n",
      "100%|████████████████████████████████████████████████████████████████████████████| 6056/6056 [00:01<00:00, 5697.08it/s]\n",
      "100%|████████████████████████████████████████████████████████████████████████████| 6056/6056 [00:01<00:00, 5686.38it/s]\n",
      "100%|████████████████████████████████████████████████████████████████████████████| 6056/6056 [00:01<00:00, 5505.46it/s]\n",
      "100%|████████████████████████████████████████████████████████████████████████████| 6056/6056 [00:01<00:00, 4984.36it/s]\n"
     ]
    },
    {
     "name": "stdout",
     "output_type": "stream",
     "text": [
      "get result for k =  30  , with algorithm =  user_item\n"
     ]
    },
    {
     "name": "stderr",
     "output_type": "stream",
     "text": [
      "100%|████████████████████████████████████████████████████████████████████████████| 6056/6056 [00:03<00:00, 1846.90it/s]\n",
      "100%|████████████████████████████████████████████████████████████████████████████| 6056/6056 [00:01<00:00, 3496.54it/s]\n",
      "100%|████████████████████████████████████████████████████████████████████████████| 6056/6056 [00:01<00:00, 5359.29it/s]\n",
      "100%|████████████████████████████████████████████████████████████████████████████| 6056/6056 [00:01<00:00, 5495.46it/s]\n",
      "100%|████████████████████████████████████████████████████████████████████████████| 6056/6056 [00:01<00:00, 5591.87it/s]\n",
      "100%|████████████████████████████████████████████████████████████████████████████| 6056/6056 [00:01<00:00, 5628.25it/s]\n",
      "100%|████████████████████████████████████████████████████████████████████████████| 6056/6056 [00:01<00:00, 5576.43it/s]\n",
      "100%|████████████████████████████████████████████████████████████████████████████| 6056/6056 [00:01<00:00, 4844.80it/s]\n"
     ]
    },
    {
     "name": "stdout",
     "output_type": "stream",
     "text": [
      "get result for k =  40  , with algorithm =  user_item\n"
     ]
    },
    {
     "name": "stderr",
     "output_type": "stream",
     "text": [
      "100%|████████████████████████████████████████████████████████████████████████████| 6056/6056 [00:03<00:00, 1712.67it/s]\n",
      "100%|████████████████████████████████████████████████████████████████████████████| 6056/6056 [00:01<00:00, 3502.60it/s]\n",
      "100%|████████████████████████████████████████████████████████████████████████████| 6056/6056 [00:01<00:00, 5839.92it/s]\n",
      "100%|████████████████████████████████████████████████████████████████████████████| 6056/6056 [00:01<00:00, 5908.29it/s]\n",
      "100%|████████████████████████████████████████████████████████████████████████████| 6056/6056 [00:01<00:00, 5767.62it/s]\n",
      "100%|████████████████████████████████████████████████████████████████████████████| 6056/6056 [00:01<00:00, 5784.15it/s]\n",
      "100%|████████████████████████████████████████████████████████████████████████████| 6056/6056 [00:01<00:00, 5638.73it/s]\n",
      "100%|████████████████████████████████████████████████████████████████████████████| 6056/6056 [00:01<00:00, 5184.93it/s]\n"
     ]
    },
    {
     "name": "stdout",
     "output_type": "stream",
     "text": [
      "get result for k =  50  , with algorithm =  user_item\n"
     ]
    },
    {
     "name": "stderr",
     "output_type": "stream",
     "text": [
      "100%|█████████████████████████████████████████████████████████████████████████████| 6056/6056 [00:08<00:00, 673.34it/s]\n",
      "100%|████████████████████████████████████████████████████████████████████████████| 6056/6056 [00:01<00:00, 3508.69it/s]\n",
      "100%|████████████████████████████████████████████████████████████████████████████| 6056/6056 [00:01<00:00, 5789.67it/s]\n",
      "100%|████████████████████████████████████████████████████████████████████████████| 6056/6056 [00:01<00:00, 5729.42it/s]\n",
      "100%|████████████████████████████████████████████████████████████████████████████| 6056/6056 [00:01<00:00, 5633.49it/s]\n",
      "100%|████████████████████████████████████████████████████████████████████████████| 6056/6056 [00:01<00:00, 5628.25it/s]\n",
      "100%|████████████████████████████████████████████████████████████████████████████| 6056/6056 [00:01<00:00, 5675.73it/s]\n",
      "100%|████████████████████████████████████████████████████████████████████████████| 6056/6056 [00:01<00:00, 5114.86it/s]\n"
     ]
    },
    {
     "name": "stdout",
     "output_type": "stream",
     "text": [
      "get result for k =  60  , with algorithm =  user_item\n"
     ]
    },
    {
     "name": "stderr",
     "output_type": "stream",
     "text": [
      "100%|█████████████████████████████████████████████████████████████████████████████| 6056/6056 [00:09<00:00, 632.94it/s]\n",
      "100%|████████████████████████████████████████████████████████████████████████████| 6056/6056 [00:01<00:00, 3591.93it/s]\n",
      "100%|████████████████████████████████████████████████████████████████████████████| 6056/6056 [00:01<00:00, 5937.26it/s]\n",
      "100%|████████████████████████████████████████████████████████████████████████████| 6056/6056 [00:01<00:00, 5919.84it/s]\n",
      "100%|████████████████████████████████████████████████████████████████████████████| 6056/6056 [00:01<00:00, 5919.84it/s]\n",
      "100%|████████████████████████████████████████████████████████████████████████████| 6056/6056 [00:01<00:00, 5828.68it/s]\n",
      "100%|████████████████████████████████████████████████████████████████████████████| 6056/6056 [00:01<00:00, 5914.06it/s]\n",
      "100%|████████████████████████████████████████████████████████████████████████████| 6056/6056 [00:01<00:00, 5302.98it/s]\n"
     ]
    },
    {
     "name": "stdout",
     "output_type": "stream",
     "text": [
      "get result for k =  70  , with algorithm =  user_item\n"
     ]
    },
    {
     "name": "stderr",
     "output_type": "stream",
     "text": [
      "100%|█████████████████████████████████████████████████████████████████████████████| 6056/6056 [00:10<00:00, 572.08it/s]\n",
      "100%|████████████████████████████████████████████████████████████████████████████| 6056/6056 [00:01<00:00, 3512.76it/s]\n",
      "100%|████████████████████████████████████████████████████████████████████████████| 6056/6056 [00:01<00:00, 5937.26it/s]\n",
      "100%|████████████████████████████████████████████████████████████████████████████| 6056/6056 [00:01<00:00, 5896.79it/s]\n",
      "100%|████████████████████████████████████████████████████████████████████████████| 6056/6056 [00:01<00:00, 5902.53it/s]\n",
      "100%|████████████████████████████████████████████████████████████████████████████| 6056/6056 [00:01<00:00, 5937.26it/s]\n",
      "100%|████████████████████████████████████████████████████████████████████████████| 6056/6056 [00:01<00:00, 5800.77it/s]\n",
      "100%|████████████████████████████████████████████████████████████████████████████| 6056/6056 [00:01<00:00, 5256.94it/s]\n"
     ]
    },
    {
     "name": "stdout",
     "output_type": "stream",
     "text": [
      "get result for k =  80  , with algorithm =  user_item\n"
     ]
    },
    {
     "name": "stderr",
     "output_type": "stream",
     "text": [
      "100%|█████████████████████████████████████████████████████████████████████████████| 6056/6056 [00:12<00:00, 502.41it/s]\n",
      "100%|████████████████████████████████████████████████████████████████████████████| 6056/6056 [00:01<00:00, 3490.49it/s]\n",
      "100%|████████████████████████████████████████████████████████████████████████████| 6056/6056 [00:01<00:00, 5960.63it/s]\n",
      "100%|████████████████████████████████████████████████████████████████████████████| 6056/6056 [00:01<00:00, 5891.05it/s]\n",
      "100%|████████████████████████████████████████████████████████████████████████████| 6056/6056 [00:01<00:00, 5978.28it/s]\n",
      "100%|████████████████████████████████████████████████████████████████████████████| 6056/6056 [00:01<00:00, 5908.29it/s]\n",
      "100%|████████████████████████████████████████████████████████████████████████████| 6056/6056 [00:01<00:00, 5851.21it/s]\n",
      "100%|████████████████████████████████████████████████████████████████████████████| 6056/6056 [00:01<00:00, 5279.86it/s]\n"
     ]
    },
    {
     "name": "stdout",
     "output_type": "stream",
     "text": [
      "get result for k =  90  , with algorithm =  user_item\n"
     ]
    },
    {
     "name": "stderr",
     "output_type": "stream",
     "text": [
      "100%|█████████████████████████████████████████████████████████████████████████████| 6056/6056 [00:12<00:00, 474.05it/s]\n",
      "100%|████████████████████████████████████████████████████████████████████████████| 6056/6056 [00:01<00:00, 3508.69it/s]\n",
      "100%|████████████████████████████████████████████████████████████████████████████| 6056/6056 [00:01<00:00, 5789.67it/s]\n",
      "100%|████████████████████████████████████████████████████████████████████████████| 6056/6056 [00:01<00:00, 5713.21it/s]\n",
      "100%|████████████████████████████████████████████████████████████████████████████| 6056/6056 [00:01<00:00, 5789.67it/s]\n",
      "100%|████████████████████████████████████████████████████████████████████████████| 6056/6056 [00:01<00:00, 5713.21it/s]\n",
      "100%|████████████████████████████████████████████████████████████████████████████| 6056/6056 [00:01<00:00, 5505.46it/s]\n",
      "100%|████████████████████████████████████████████████████████████████████████████| 6056/6056 [00:01<00:00, 5158.43it/s]\n"
     ]
    },
    {
     "name": "stdout",
     "output_type": "stream",
     "text": [
      "get result for k =  100  , with algorithm =  user_item\n"
     ]
    },
    {
     "name": "stderr",
     "output_type": "stream",
     "text": [
      "100%|█████████████████████████████████████████████████████████████████████████████| 6056/6056 [00:18<00:00, 320.92it/s]\n",
      "100%|████████████████████████████████████████████████████████████████████████████| 6056/6056 [00:01<00:00, 3240.24it/s]\n",
      "100%|████████████████████████████████████████████████████████████████████████████| 6056/6056 [00:01<00:00, 5778.63it/s]\n",
      "100%|████████████████████████████████████████████████████████████████████████████| 6056/6056 [00:01<00:00, 5828.68it/s]\n",
      "100%|████████████████████████████████████████████████████████████████████████████| 6056/6056 [00:01<00:00, 5707.82it/s]\n",
      "100%|████████████████████████████████████████████████████████████████████████████| 6056/6056 [00:01<00:00, 5597.04it/s]\n",
      "100%|████████████████████████████████████████████████████████████████████████████| 6056/6056 [00:01<00:00, 5515.48it/s]\n",
      "100%|████████████████████████████████████████████████████████████████████████████| 6056/6056 [00:01<00:00, 5063.54it/s]\n"
     ]
    },
    {
     "name": "stdout",
     "output_type": "stream",
     "text": [
      "get result for k =  150  , with algorithm =  user_item\n"
     ]
    },
    {
     "name": "stderr",
     "output_type": "stream",
     "text": [
      "100%|█████████████████████████████████████████████████████████████████████████████| 6056/6056 [00:24<00:00, 246.45it/s]\n",
      "100%|████████████████████████████████████████████████████████████████████████████| 6056/6056 [00:01<00:00, 3200.85it/s]\n",
      "100%|████████████████████████████████████████████████████████████████████████████| 6056/6056 [00:01<00:00, 5633.49it/s]\n",
      "100%|████████████████████████████████████████████████████████████████████████████| 6056/6056 [00:01<00:00, 5643.99it/s]\n",
      "100%|████████████████████████████████████████████████████████████████████████████| 6056/6056 [00:01<00:00, 5490.48it/s]\n",
      "100%|████████████████████████████████████████████████████████████████████████████| 6056/6056 [00:01<00:00, 5495.46it/s]\n",
      "100%|████████████████████████████████████████████████████████████████████████████| 6056/6056 [00:01<00:00, 5550.87it/s]\n",
      "100%|████████████████████████████████████████████████████████████████████████████| 6056/6056 [00:01<00:00, 4738.65it/s]\n"
     ]
    },
    {
     "name": "stdout",
     "output_type": "stream",
     "text": [
      "get result for k =  200  , with algorithm =  user_item\n"
     ]
    },
    {
     "name": "stderr",
     "output_type": "stream",
     "text": [
      "100%|█████████████████████████████████████████████████████████████████████████████| 6056/6056 [00:31<00:00, 193.35it/s]\n",
      "100%|████████████████████████████████████████████████████████████████████████████| 6056/6056 [00:01<00:00, 3305.68it/s]\n",
      "100%|████████████████████████████████████████████████████████████████████████████| 6056/6056 [00:01<00:00, 5581.57it/s]\n",
      "100%|████████████████████████████████████████████████████████████████████████████| 6056/6056 [00:01<00:00, 5817.48it/s]\n",
      "100%|████████████████████████████████████████████████████████████████████████████| 6056/6056 [00:01<00:00, 5773.12it/s]\n",
      "100%|████████████████████████████████████████████████████████████████████████████| 6056/6056 [00:01<00:00, 5718.60it/s]\n",
      "100%|████████████████████████████████████████████████████████████████████████████| 6056/6056 [00:01<00:00, 5751.19it/s]\n",
      "100%|████████████████████████████████████████████████████████████████████████████| 6056/6056 [00:01<00:00, 4939.64it/s]\n"
     ]
    },
    {
     "name": "stdout",
     "output_type": "stream",
     "text": [
      "get result for k =  250  , with algorithm =  user_item\n"
     ]
    },
    {
     "name": "stderr",
     "output_type": "stream",
     "text": [
      "100%|█████████████████████████████████████████████████████████████████████████████| 6056/6056 [00:35<00:00, 170.36it/s]\n",
      "100%|████████████████████████████████████████████████████████████████████████████| 6056/6056 [00:01<00:00, 3379.46it/s]\n",
      "100%|████████████████████████████████████████████████████████████████████████████| 6056/6056 [00:01<00:00, 5891.05it/s]\n",
      "100%|████████████████████████████████████████████████████████████████████████████| 6056/6056 [00:01<00:00, 5707.82it/s]\n",
      "100%|████████████████████████████████████████████████████████████████████████████| 6056/6056 [00:01<00:00, 5729.42it/s]\n",
      "100%|████████████████████████████████████████████████████████████████████████████| 6056/6056 [00:01<00:00, 5891.05it/s]\n",
      "100%|████████████████████████████████████████████████████████████████████████████| 6056/6056 [00:01<00:00, 5607.41it/s]\n",
      "100%|████████████████████████████████████████████████████████████████████████████| 6056/6056 [00:01<00:00, 5009.10it/s]\n"
     ]
    },
    {
     "name": "stdout",
     "output_type": "stream",
     "text": [
      "get result for k =  300  , with algorithm =  user_item\n"
     ]
    },
    {
     "name": "stderr",
     "output_type": "stream",
     "text": [
      "100%|█████████████████████████████████████████████████████████████████████████████| 6056/6056 [00:40<00:00, 148.89it/s]\n",
      "100%|████████████████████████████████████████████████████████████████████████████| 6056/6056 [00:01<00:00, 3394.62it/s]\n",
      "100%|████████████████████████████████████████████████████████████████████████████| 6056/6056 [00:01<00:00, 5751.19it/s]\n",
      "100%|████████████████████████████████████████████████████████████████████████████| 6056/6056 [00:01<00:00, 5756.65it/s]\n",
      "100%|████████████████████████████████████████████████████████████████████████████| 6056/6056 [00:01<00:00, 5851.21it/s]\n",
      "100%|████████████████████████████████████████████████████████████████████████████| 6056/6056 [00:01<00:00, 5811.90it/s]\n",
      "100%|████████████████████████████████████████████████████████████████████████████| 6056/6056 [00:01<00:00, 5691.73it/s]\n",
      "100%|████████████████████████████████████████████████████████████████████████████| 6056/6056 [00:01<00:00, 5145.28it/s]\n"
     ]
    },
    {
     "name": "stdout",
     "output_type": "stream",
     "text": [
      "get result for k =  350  , with algorithm =  user_item\n"
     ]
    },
    {
     "name": "stderr",
     "output_type": "stream",
     "text": [
      "100%|█████████████████████████████████████████████████████████████████████████████| 6056/6056 [00:46<00:00, 130.60it/s]\n",
      "100%|████████████████████████████████████████████████████████████████████████████| 6056/6056 [00:01<00:00, 3429.22it/s]\n",
      "100%|████████████████████████████████████████████████████████████████████████████| 6056/6056 [00:01<00:00, 5856.87it/s]\n",
      "100%|████████████████████████████████████████████████████████████████████████████| 6056/6056 [00:01<00:00, 5691.73it/s]\n",
      "100%|████████████████████████████████████████████████████████████████████████████| 6056/6056 [00:01<00:00, 5638.73it/s]\n",
      "100%|████████████████████████████████████████████████████████████████████████████| 6056/6056 [00:01<00:00, 5740.28it/s]\n",
      "100%|████████████████████████████████████████████████████████████████████████████| 6056/6056 [00:01<00:00, 5773.12it/s]\n",
      "100%|████████████████████████████████████████████████████████████████████████████| 6056/6056 [00:01<00:00, 5171.65it/s]\n"
     ]
    },
    {
     "name": "stdout",
     "output_type": "stream",
     "text": [
      "get result for k =  400  , with algorithm =  user_item\n"
     ]
    },
    {
     "name": "stderr",
     "output_type": "stream",
     "text": [
      "100%|█████████████████████████████████████████████████████████████████████████████| 6056/6056 [00:53<00:00, 114.10it/s]\n",
      "100%|████████████████████████████████████████████████████████████████████████████| 6056/6056 [00:01<00:00, 3204.23it/s]\n",
      "100%|████████████████████████████████████████████████████████████████████████████| 6056/6056 [00:01<00:00, 5520.51it/s]\n",
      "100%|████████████████████████████████████████████████████████████████████████████| 6056/6056 [00:01<00:00, 5591.87it/s]\n",
      "100%|████████████████████████████████████████████████████████████████████████████| 6056/6056 [00:01<00:00, 5550.87it/s]\n",
      "100%|████████████████████████████████████████████████████████████████████████████| 6056/6056 [00:01<00:00, 5628.25it/s]\n",
      "100%|████████████████████████████████████████████████████████████████████████████| 6056/6056 [00:01<00:00, 5465.70it/s]\n",
      "100%|████████████████████████████████████████████████████████████████████████████| 6056/6056 [00:01<00:00, 5013.25it/s]\n"
     ]
    },
    {
     "name": "stdout",
     "output_type": "stream",
     "text": [
      "get result for k =  450  , with algorithm =  user_item\n"
     ]
    },
    {
     "name": "stderr",
     "output_type": "stream",
     "text": [
      "100%|█████████████████████████████████████████████████████████████████████████████| 6056/6056 [00:58<00:00, 103.28it/s]\n",
      "100%|████████████████████████████████████████████████████████████████████████████| 6056/6056 [00:01<00:00, 3285.95it/s]\n",
      "100%|████████████████████████████████████████████████████████████████████████████| 6056/6056 [00:01<00:00, 5665.11it/s]\n",
      "100%|████████████████████████████████████████████████████████████████████████████| 6056/6056 [00:01<00:00, 5607.41it/s]\n",
      "100%|████████████████████████████████████████████████████████████████████████████| 6056/6056 [00:01<00:00, 5591.87it/s]\n",
      "100%|████████████████████████████████████████████████████████████████████████████| 6056/6056 [00:01<00:00, 5643.99it/s]\n",
      "100%|████████████████████████████████████████████████████████████████████████████| 6056/6056 [00:01<00:00, 5312.28it/s]\n",
      "100%|████████████████████████████████████████████████████████████████████████████| 6056/6056 [00:01<00:00, 5093.36it/s]\n"
     ]
    },
    {
     "name": "stdout",
     "output_type": "stream",
     "text": [
      "get result for k =  500  , with algorithm =  user_item\n"
     ]
    },
    {
     "name": "stderr",
     "output_type": "stream",
     "text": [
      "100%|██████████████████████████████████████████████████████████████████████████████| 6056/6056 [01:09<00:00, 87.28it/s]\n",
      "100%|████████████████████████████████████████████████████████████████████████████| 6056/6056 [00:01<00:00, 3396.52it/s]\n",
      "100%|████████████████████████████████████████████████████████████████████████████| 6056/6056 [00:01<00:00, 5480.54it/s]\n",
      "100%|████████████████████████████████████████████████████████████████████████████| 6056/6056 [00:01<00:00, 5110.55it/s]\n",
      "100%|████████████████████████████████████████████████████████████████████████████| 6056/6056 [00:01<00:00, 5225.19it/s]\n",
      "100%|████████████████████████████████████████████████████████████████████████████| 6056/6056 [00:01<00:00, 5321.62it/s]\n",
      "100%|████████████████████████████████████████████████████████████████████████████| 6056/6056 [00:01<00:00, 5581.57it/s]\n",
      "100%|████████████████████████████████████████████████████████████████████████████| 6056/6056 [00:01<00:00, 5038.27it/s]\n"
     ]
    },
    {
     "name": "stdout",
     "output_type": "stream",
     "text": [
      "get result for k =  600  , with algorithm =  user_item\n"
     ]
    },
    {
     "name": "stderr",
     "output_type": "stream",
     "text": [
      "100%|██████████████████████████████████████████████████████████████████████████████| 6056/6056 [01:22<00:00, 73.84it/s]\n",
      "100%|████████████████████████████████████████████████████████████████████████████| 6056/6056 [00:01<00:00, 3128.10it/s]\n",
      "100%|████████████████████████████████████████████████████████████████████████████| 6056/6056 [00:01<00:00, 5359.29it/s]\n",
      "100%|████████████████████████████████████████████████████████████████████████████| 6056/6056 [00:01<00:00, 5402.32it/s]\n",
      "100%|████████████████████████████████████████████████████████████████████████████| 6056/6056 [00:01<00:00, 5225.19it/s]\n",
      "100%|████████████████████████████████████████████████████████████████████████████| 6056/6056 [00:01<00:00, 5279.86it/s]\n",
      "100%|████████████████████████████████████████████████████████████████████████████| 6056/6056 [00:01<00:00, 5510.46it/s]\n",
      "100%|████████████████████████████████████████████████████████████████████████████| 6056/6056 [00:01<00:00, 5046.67it/s]\n"
     ]
    },
    {
     "name": "stdout",
     "output_type": "stream",
     "text": [
      "get result for k =  700  , with algorithm =  user_item\n"
     ]
    },
    {
     "name": "stderr",
     "output_type": "stream",
     "text": [
      "100%|██████████████████████████████████████████████████████████████████████████████| 6056/6056 [01:34<00:00, 64.34it/s]\n",
      "100%|████████████████████████████████████████████████████████████████████████████| 6056/6056 [00:01<00:00, 3364.44it/s]\n",
      "100%|████████████████████████████████████████████████████████████████████████████| 6056/6056 [00:01<00:00, 5784.15it/s]\n",
      "100%|████████████████████████████████████████████████████████████████████████████| 6056/6056 [00:01<00:00, 5806.33it/s]\n",
      "100%|████████████████████████████████████████████████████████████████████████████| 6056/6056 [00:01<00:00, 5495.46it/s]\n",
      "100%|████████████████████████████████████████████████████████████████████████████| 6056/6056 [00:01<00:00, 5387.90it/s]\n",
      "100%|████████████████████████████████████████████████████████████████████████████| 6056/6056 [00:01<00:00, 5387.90it/s]\n",
      "100%|████████████████████████████████████████████████████████████████████████████| 6056/6056 [00:01<00:00, 5072.03it/s]\n"
     ]
    },
    {
     "name": "stdout",
     "output_type": "stream",
     "text": [
      "get result for k =  800  , with algorithm =  user_item\n"
     ]
    },
    {
     "name": "stderr",
     "output_type": "stream",
     "text": [
      "100%|██████████████████████████████████████████████████████████████████████████████| 6056/6056 [01:49<00:00, 55.06it/s]\n",
      "100%|████████████████████████████████████████████████████████████████████████████| 6056/6056 [00:01<00:00, 3189.05it/s]\n",
      "100%|████████████████████████████████████████████████████████████████████████████| 6056/6056 [00:01<00:00, 5495.46it/s]\n",
      "100%|████████████████████████████████████████████████████████████████████████████| 6056/6056 [00:01<00:00, 5607.41it/s]\n",
      "100%|████████████████████████████████████████████████████████████████████████████| 6056/6056 [00:01<00:00, 5561.07it/s]\n",
      "100%|████████████████████████████████████████████████████████████████████████████| 6056/6056 [00:01<00:00, 5416.82it/s]\n",
      "100%|████████████████████████████████████████████████████████████████████████████| 6056/6056 [00:01<00:00, 5359.29it/s]\n",
      "100%|████████████████████████████████████████████████████████████████████████████| 6056/6056 [00:01<00:00, 4833.20it/s]\n"
     ]
    },
    {
     "name": "stdout",
     "output_type": "stream",
     "text": [
      "get result for k =  900  , with algorithm =  user_item\n"
     ]
    },
    {
     "name": "stderr",
     "output_type": "stream",
     "text": [
      "100%|██████████████████████████████████████████████████████████████████████████████| 6056/6056 [01:56<00:00, 51.77it/s]\n",
      "100%|████████████████████████████████████████████████████████████████████████████| 6056/6056 [00:01<00:00, 3224.71it/s]\n",
      "100%|████████████████████████████████████████████████████████████████████████████| 6056/6056 [00:01<00:00, 5566.18it/s]\n",
      "100%|████████████████████████████████████████████████████████████████████████████| 6056/6056 [00:01<00:00, 5691.73it/s]\n",
      "100%|████████████████████████████████████████████████████████████████████████████| 6056/6056 [00:01<00:00, 5555.96it/s]\n",
      "100%|████████████████████████████████████████████████████████████████████████████| 6056/6056 [00:01<00:00, 5550.87it/s]\n",
      "100%|████████████████████████████████████████████████████████████████████████████| 6056/6056 [00:01<00:00, 5607.41it/s]\n",
      "100%|████████████████████████████████████████████████████████████████████████████| 6056/6056 [00:01<00:00, 5042.46it/s]\n"
     ]
    },
    {
     "name": "stdout",
     "output_type": "stream",
     "text": [
      "get result for k =  1000  , with algorithm =  user_item\n"
     ]
    },
    {
     "name": "stderr",
     "output_type": "stream",
     "text": [
      "100%|█████████████████████████████████████████████████████████████████████████████| 4395/4395 [00:05<00:00, 751.92it/s]\n",
      "100%|████████████████████████████████████████████████████████████████████████████| 6056/6056 [00:01<00:00, 3074.11it/s]\n",
      "100%|████████████████████████████████████████████████████████████████████████████| 6056/6056 [00:01<00:00, 5856.87it/s]\n",
      "100%|████████████████████████████████████████████████████████████████████████████| 6056/6056 [00:01<00:00, 5784.14it/s]\n",
      "100%|████████████████████████████████████████████████████████████████████████████| 6056/6056 [00:01<00:00, 5659.81it/s]\n",
      "100%|████████████████████████████████████████████████████████████████████████████| 6056/6056 [00:01<00:00, 5591.87it/s]\n",
      "100%|████████████████████████████████████████████████████████████████████████████| 6056/6056 [00:01<00:00, 5520.51it/s]\n",
      "100%|████████████████████████████████████████████████████████████████████████████| 6056/6056 [00:01<00:00, 5084.80it/s]\n"
     ]
    },
    {
     "name": "stdout",
     "output_type": "stream",
     "text": [
      "get result for k =  10  , with algorithm =  item_based\n"
     ]
    },
    {
     "name": "stderr",
     "output_type": "stream",
     "text": [
      "100%|█████████████████████████████████████████████████████████████████████████████| 4395/4395 [00:06<00:00, 673.56it/s]\n",
      "100%|████████████████████████████████████████████████████████████████████████████| 6056/6056 [00:02<00:00, 2995.05it/s]\n",
      "100%|████████████████████████████████████████████████████████████████████████████| 6056/6056 [00:01<00:00, 5873.91it/s]\n",
      "100%|████████████████████████████████████████████████████████████████████████████| 6056/6056 [00:01<00:00, 5740.29it/s]\n",
      "100%|████████████████████████████████████████████████████████████████████████████| 6056/6056 [00:01<00:00, 5510.46it/s]\n",
      "100%|████████████████████████████████████████████████████████████████████████████| 6056/6056 [00:01<00:00, 5778.63it/s]\n",
      "100%|████████████████████████████████████████████████████████████████████████████| 6056/6056 [00:01<00:00, 5773.12it/s]\n",
      "100%|████████████████████████████████████████████████████████████████████████████| 6056/6056 [00:01<00:00, 5132.20it/s]\n"
     ]
    },
    {
     "name": "stdout",
     "output_type": "stream",
     "text": [
      "get result for k =  20  , with algorithm =  item_based\n"
     ]
    },
    {
     "name": "stderr",
     "output_type": "stream",
     "text": [
      "100%|█████████████████████████████████████████████████████████████████████████████| 4395/4395 [00:09<00:00, 458.29it/s]\n",
      "100%|████████████████████████████████████████████████████████████████████████████| 6056/6056 [00:02<00:00, 2908.74it/s]\n",
      "100%|████████████████████████████████████████████████████████████████████████████| 6056/6056 [00:01<00:00, 5520.51it/s]\n",
      "100%|████████████████████████████████████████████████████████████████████████████| 6056/6056 [00:01<00:00, 5505.45it/s]\n",
      "100%|████████████████████████████████████████████████████████████████████████████| 6056/6056 [00:01<00:00, 5576.43it/s]\n",
      "100%|████████████████████████████████████████████████████████████████████████████| 6056/6056 [00:01<00:00, 5566.18it/s]\n",
      "100%|████████████████████████████████████████████████████████████████████████████| 6056/6056 [00:01<00:00, 5525.55it/s]\n",
      "100%|████████████████████████████████████████████████████████████████████████████| 6056/6056 [00:01<00:00, 4980.26it/s]\n"
     ]
    },
    {
     "name": "stdout",
     "output_type": "stream",
     "text": [
      "get result for k =  30  , with algorithm =  item_based\n"
     ]
    },
    {
     "name": "stderr",
     "output_type": "stream",
     "text": [
      "100%|█████████████████████████████████████████████████████████████████████████████| 4395/4395 [00:11<00:00, 378.29it/s]\n",
      "100%|████████████████████████████████████████████████████████████████████████████| 6056/6056 [00:02<00:00, 2945.53it/s]\n",
      "100%|████████████████████████████████████████████████████████████████████████████| 6056/6056 [00:01<00:00, 5364.04it/s]\n",
      "100%|████████████████████████████████████████████████████████████████████████████| 6056/6056 [00:01<00:00, 5176.07it/s]\n",
      "100%|████████████████████████████████████████████████████████████████████████████| 6056/6056 [00:01<00:00, 5110.55it/s]\n",
      "100%|████████████████████████████████████████████████████████████████████████████| 6056/6056 [00:01<00:00, 5140.92it/s]\n",
      "100%|████████████████████████████████████████████████████████████████████████████| 6056/6056 [00:01<00:00, 5397.50it/s]\n",
      "100%|████████████████████████████████████████████████████████████████████████████| 6056/6056 [00:01<00:00, 4791.14it/s]\n"
     ]
    },
    {
     "name": "stdout",
     "output_type": "stream",
     "text": [
      "get result for k =  40  , with algorithm =  item_based\n"
     ]
    },
    {
     "name": "stderr",
     "output_type": "stream",
     "text": [
      "100%|█████████████████████████████████████████████████████████████████████████████| 4395/4395 [00:14<00:00, 293.43it/s]\n",
      "100%|████████████████████████████████████████████████████████████████████████████| 6056/6056 [00:01<00:00, 3078.80it/s]\n",
      "100%|████████████████████████████████████████████████████████████████████████████| 6056/6056 [00:01<00:00, 5811.90it/s]\n",
      "100%|████████████████████████████████████████████████████████████████████████████| 6056/6056 [00:01<00:00, 5800.77it/s]\n",
      "100%|████████████████████████████████████████████████████████████████████████████| 6056/6056 [00:01<00:00, 5839.92it/s]\n",
      "100%|████████████████████████████████████████████████████████████████████████████| 6056/6056 [00:01<00:00, 5879.61it/s]\n",
      "100%|████████████████████████████████████████████████████████████████████████████| 6056/6056 [00:01<00:00, 5628.25it/s]\n",
      "100%|████████████████████████████████████████████████████████████████████████████| 6056/6056 [00:01<00:00, 5154.04it/s]\n"
     ]
    },
    {
     "name": "stdout",
     "output_type": "stream",
     "text": [
      "get result for k =  50  , with algorithm =  item_based\n"
     ]
    },
    {
     "name": "stderr",
     "output_type": "stream",
     "text": [
      "100%|█████████████████████████████████████████████████████████████████████████████| 4395/4395 [00:17<00:00, 258.24it/s]\n",
      "100%|████████████████████████████████████████████████████████████████████████████| 6056/6056 [00:02<00:00, 3023.46it/s]\n",
      "100%|████████████████████████████████████████████████████████████████████████████| 6056/6056 [00:01<00:00, 5675.73it/s]\n",
      "100%|████████████████████████████████████████████████████████████████████████████| 6056/6056 [00:01<00:00, 5718.60it/s]\n",
      "100%|████████████████████████████████████████████████████████████████████████████| 6056/6056 [00:01<00:00, 5773.12it/s]\n",
      "100%|████████████████████████████████████████████████████████████████████████████| 6056/6056 [00:01<00:00, 5665.11it/s]\n",
      "100%|████████████████████████████████████████████████████████████████████████████| 6056/6056 [00:01<00:00, 5745.73it/s]\n",
      "100%|████████████████████████████████████████████████████████████████████████████| 6056/6056 [00:01<00:00, 5089.08it/s]\n"
     ]
    },
    {
     "name": "stdout",
     "output_type": "stream",
     "text": [
      "get result for k =  60  , with algorithm =  item_based\n"
     ]
    },
    {
     "name": "stderr",
     "output_type": "stream",
     "text": [
      "100%|█████████████████████████████████████████████████████████████████████████████| 4395/4395 [00:18<00:00, 232.49it/s]\n",
      "100%|████████████████████████████████████████████████████████████████████████████| 6056/6056 [00:02<00:00, 2924.19it/s]\n",
      "100%|████████████████████████████████████████████████████████████████████████████| 6056/6056 [00:01<00:00, 5734.85it/s]\n",
      "100%|████████████████████████████████████████████████████████████████████████████| 6056/6056 [00:01<00:00, 5729.42it/s]\n",
      "100%|████████████████████████████████████████████████████████████████████████████| 6056/6056 [00:01<00:00, 5617.81it/s]\n",
      "100%|████████████████████████████████████████████████████████████████████████████| 6056/6056 [00:01<00:00, 5649.25it/s]\n",
      "100%|████████████████████████████████████████████████████████████████████████████| 6056/6056 [00:01<00:00, 5740.28it/s]\n",
      "100%|████████████████████████████████████████████████████████████████████████████| 6056/6056 [00:01<00:00, 5198.28it/s]\n"
     ]
    },
    {
     "name": "stdout",
     "output_type": "stream",
     "text": [
      "get result for k =  70  , with algorithm =  item_based\n"
     ]
    },
    {
     "name": "stderr",
     "output_type": "stream",
     "text": [
      "100%|█████████████████████████████████████████████████████████████████████████████| 4395/4395 [00:20<00:00, 209.98it/s]\n",
      "100%|████████████████████████████████████████████████████████████████████████████| 6056/6056 [00:02<00:00, 2990.62it/s]\n",
      "100%|████████████████████████████████████████████████████████████████████████████| 6056/6056 [00:01<00:00, 5873.91it/s]\n",
      "100%|████████████████████████████████████████████████████████████████████████████| 6056/6056 [00:01<00:00, 5806.33it/s]\n",
      "100%|████████████████████████████████████████████████████████████████████████████| 6056/6056 [00:01<00:00, 5681.05it/s]\n",
      "100%|████████████████████████████████████████████████████████████████████████████| 6056/6056 [00:01<00:00, 5729.42it/s]\n",
      "100%|████████████████████████████████████████████████████████████████████████████| 6056/6056 [00:01<00:00, 5675.73it/s]\n",
      "100%|████████████████████████████████████████████████████████████████████████████| 6056/6056 [00:01<00:00, 5189.37it/s]\n"
     ]
    },
    {
     "name": "stdout",
     "output_type": "stream",
     "text": [
      "get result for k =  80  , with algorithm =  item_based\n"
     ]
    },
    {
     "name": "stderr",
     "output_type": "stream",
     "text": [
      "100%|█████████████████████████████████████████████████████████████████████████████| 4395/4395 [00:22<00:00, 195.46it/s]\n",
      "100%|████████████████████████████████████████████████████████████████████████████| 6056/6056 [00:02<00:00, 2977.38it/s]\n",
      "100%|████████████████████████████████████████████████████████████████████████████| 6056/6056 [00:01<00:00, 5800.77it/s]\n",
      "100%|████████████████████████████████████████████████████████████████████████████| 6056/6056 [00:01<00:00, 5773.12it/s]\n",
      "100%|████████████████████████████████████████████████████████████████████████████| 6056/6056 [00:01<00:00, 5806.33it/s]\n",
      "100%|████████████████████████████████████████████████████████████████████████████| 6056/6056 [00:01<00:00, 5724.01it/s]\n",
      "100%|████████████████████████████████████████████████████████████████████████████| 6056/6056 [00:01<00:00, 5623.03it/s]\n",
      "100%|████████████████████████████████████████████████████████████████████████████| 6056/6056 [00:01<00:00, 5184.93it/s]\n"
     ]
    },
    {
     "name": "stdout",
     "output_type": "stream",
     "text": [
      "get result for k =  90  , with algorithm =  item_based\n"
     ]
    },
    {
     "name": "stderr",
     "output_type": "stream",
     "text": [
      "100%|█████████████████████████████████████████████████████████████████████████████| 4395/4395 [00:22<00:00, 191.98it/s]\n",
      "100%|████████████████████████████████████████████████████████████████████████████| 6056/6056 [00:02<00:00, 3024.97it/s]\n",
      "100%|████████████████████████████████████████████████████████████████████████████| 6056/6056 [00:01<00:00, 5902.53it/s]\n",
      "100%|████████████████████████████████████████████████████████████████████████████| 6056/6056 [00:01<00:00, 5896.79it/s]\n",
      "100%|████████████████████████████████████████████████████████████████████████████| 6056/6056 [00:01<00:00, 5811.90it/s]\n",
      "100%|████████████████████████████████████████████████████████████████████████████| 6056/6056 [00:01<00:00, 5834.30it/s]\n",
      "100%|████████████████████████████████████████████████████████████████████████████| 6056/6056 [00:01<00:00, 5718.60it/s]\n",
      "100%|████████████████████████████████████████████████████████████████████████████| 6056/6056 [00:01<00:00, 5127.86it/s]\n"
     ]
    },
    {
     "name": "stdout",
     "output_type": "stream",
     "text": [
      "get result for k =  100  , with algorithm =  item_based\n"
     ]
    },
    {
     "name": "stderr",
     "output_type": "stream",
     "text": [
      "100%|█████████████████████████████████████████████████████████████████████████████| 4395/4395 [00:33<00:00, 130.28it/s]\n",
      "100%|████████████████████████████████████████████████████████████████████████████| 6056/6056 [00:02<00:00, 2957.03it/s]\n",
      "100%|████████████████████████████████████████████████████████████████████████████| 6056/6056 [00:01<00:00, 5834.30it/s]\n",
      "100%|████████████████████████████████████████████████████████████████████████████| 6056/6056 [00:01<00:00, 5811.90it/s]\n",
      "100%|████████████████████████████████████████████████████████████████████████████| 6056/6056 [00:01<00:00, 5789.67it/s]\n",
      "100%|████████████████████████████████████████████████████████████████████████████| 6056/6056 [00:01<00:00, 5834.30it/s]\n",
      "100%|████████████████████████████████████████████████████████████████████████████| 6056/6056 [00:01<00:00, 5718.60it/s]\n",
      "100%|████████████████████████████████████████████████████████████████████████████| 6056/6056 [00:01<00:00, 5167.24it/s]\n"
     ]
    },
    {
     "name": "stdout",
     "output_type": "stream",
     "text": [
      "get result for k =  150  , with algorithm =  item_based\n"
     ]
    },
    {
     "name": "stderr",
     "output_type": "stream",
     "text": [
      "100%|█████████████████████████████████████████████████████████████████████████████| 4395/4395 [00:40<00:00, 100.23it/s]\n",
      "100%|████████████████████████████████████████████████████████████████████████████| 6056/6056 [00:02<00:00, 2941.23it/s]\n",
      "100%|████████████████████████████████████████████████████████████████████████████| 6056/6056 [00:01<00:00, 5623.03it/s]\n",
      "100%|████████████████████████████████████████████████████████████████████████████| 6056/6056 [00:01<00:00, 5649.25it/s]\n",
      "100%|████████████████████████████████████████████████████████████████████████████| 6056/6056 [00:01<00:00, 5654.53it/s]\n",
      "100%|████████████████████████████████████████████████████████████████████████████| 6056/6056 [00:01<00:00, 5891.05it/s]\n",
      "100%|████████████████████████████████████████████████████████████████████████████| 6056/6056 [00:01<00:00, 5724.01it/s]\n",
      "100%|████████████████████████████████████████████████████████████████████████████| 6056/6056 [00:01<00:00, 5184.93it/s]\n"
     ]
    },
    {
     "name": "stdout",
     "output_type": "stream",
     "text": [
      "get result for k =  200  , with algorithm =  item_based\n"
     ]
    },
    {
     "name": "stderr",
     "output_type": "stream",
     "text": [
      "100%|██████████████████████████████████████████████████████████████████████████████| 4395/4395 [00:54<00:00, 81.15it/s]\n",
      "100%|████████████████████████████████████████████████████████████████████████████| 6056/6056 [00:02<00:00, 2883.81it/s]\n",
      "100%|████████████████████████████████████████████████████████████████████████████| 6056/6056 [00:01<00:00, 5718.60it/s]\n",
      "100%|████████████████████████████████████████████████████████████████████████████| 6056/6056 [00:01<00:00, 5784.15it/s]\n",
      "100%|████████████████████████████████████████████████████████████████████████████| 6056/6056 [00:01<00:00, 5555.96it/s]\n",
      "100%|████████████████████████████████████████████████████████████████████████████| 6056/6056 [00:01<00:00, 5392.70it/s]\n",
      "100%|████████████████████████████████████████████████████████████████████████████| 6056/6056 [00:01<00:00, 5383.11it/s]\n",
      "100%|████████████████████████████████████████████████████████████████████████████| 6056/6056 [00:01<00:00, 4829.35it/s]\n"
     ]
    },
    {
     "name": "stdout",
     "output_type": "stream",
     "text": [
      "get result for k =  250  , with algorithm =  item_based\n"
     ]
    },
    {
     "name": "stderr",
     "output_type": "stream",
     "text": [
      "100%|██████████████████████████████████████████████████████████████████████████████| 4395/4395 [01:04<00:00, 68.49it/s]\n",
      "100%|████████████████████████████████████████████████████████████████████████████| 6056/6056 [00:02<00:00, 2971.54it/s]\n",
      "100%|████████████████████████████████████████████████████████████████████████████| 6056/6056 [00:01<00:00, 5851.21it/s]\n",
      "100%|████████████████████████████████████████████████████████████████████████████| 6056/6056 [00:01<00:00, 5856.87it/s]\n",
      "100%|████████████████████████████████████████████████████████████████████████████| 6056/6056 [00:01<00:00, 5879.61it/s]\n",
      "100%|████████████████████████████████████████████████████████████████████████████| 6056/6056 [00:01<00:00, 5868.22it/s]\n",
      "100%|████████████████████████████████████████████████████████████████████████████| 6056/6056 [00:01<00:00, 5707.82it/s]\n",
      "100%|████████████████████████████████████████████████████████████████████████████| 6056/6056 [00:01<00:00, 5202.75it/s]\n"
     ]
    },
    {
     "name": "stdout",
     "output_type": "stream",
     "text": [
      "get result for k =  300  , with algorithm =  item_based\n"
     ]
    },
    {
     "name": "stderr",
     "output_type": "stream",
     "text": [
      "100%|██████████████████████████████████████████████████████████████████████████████| 4395/4395 [01:15<00:00, 57.91it/s]\n",
      "100%|████████████████████████████████████████████████████████████████████████████| 6056/6056 [00:02<00:00, 2799.82it/s]\n",
      "100%|████████████████████████████████████████████████████████████████████████████| 6056/6056 [00:01<00:00, 5591.87it/s]\n",
      "100%|████████████████████████████████████████████████████████████████████████████| 6056/6056 [00:01<00:00, 5628.25it/s]\n",
      "100%|████████████████████████████████████████████████████████████████████████████| 6056/6056 [00:01<00:00, 5602.22it/s]\n",
      "100%|████████████████████████████████████████████████████████████████████████████| 6056/6056 [00:01<00:00, 5602.22it/s]\n",
      "100%|████████████████████████████████████████████████████████████████████████████| 6056/6056 [00:01<00:00, 5561.07it/s]\n",
      "100%|████████████████████████████████████████████████████████████████████████████| 6056/6056 [00:01<00:00, 4864.26it/s]\n"
     ]
    },
    {
     "name": "stdout",
     "output_type": "stream",
     "text": [
      "get result for k =  350  , with algorithm =  item_based\n"
     ]
    },
    {
     "name": "stderr",
     "output_type": "stream",
     "text": [
      "100%|██████████████████████████████████████████████████████████████████████████████| 4395/4395 [01:25<00:00, 51.34it/s]\n",
      "100%|████████████████████████████████████████████████████████████████████████████| 6056/6056 [00:02<00:00, 2868.78it/s]\n",
      "100%|████████████████████████████████████████████████████████████████████████████| 6056/6056 [00:01<00:00, 5571.30it/s]\n",
      "100%|████████████████████████████████████████████████████████████████████████████| 6056/6056 [00:01<00:00, 5948.92it/s]\n",
      "100%|████████████████████████████████████████████████████████████████████████████| 6056/6056 [00:01<00:00, 5495.46it/s]\n",
      "100%|████████████████████████████████████████████████████████████████████████████| 6056/6056 [00:01<00:00, 5591.87it/s]\n",
      "100%|████████████████████████████████████████████████████████████████████████████| 6056/6056 [00:01<00:00, 5659.81it/s]\n",
      "100%|████████████████████████████████████████████████████████████████████████████| 6056/6056 [00:01<00:00, 5076.28it/s]\n"
     ]
    },
    {
     "name": "stdout",
     "output_type": "stream",
     "text": [
      "get result for k =  400  , with algorithm =  item_based\n"
     ]
    },
    {
     "name": "stderr",
     "output_type": "stream",
     "text": [
      "100%|██████████████████████████████████████████████████████████████████████████████| 4395/4395 [01:34<00:00, 46.52it/s]\n",
      "100%|████████████████████████████████████████████████████████████████████████████| 6056/6056 [00:02<00:00, 2905.95it/s]\n",
      "100%|████████████████████████████████████████████████████████████████████████████| 6056/6056 [00:01<00:00, 5729.42it/s]\n",
      "100%|████████████████████████████████████████████████████████████████████████████| 6056/6056 [00:01<00:00, 5931.44it/s]\n",
      "100%|████████████████████████████████████████████████████████████████████████████| 6056/6056 [00:01<00:00, 5851.21it/s]\n",
      "100%|████████████████████████████████████████████████████████████████████████████| 6056/6056 [00:01<00:00, 5925.64it/s]\n",
      "100%|████████████████████████████████████████████████████████████████████████████| 6056/6056 [00:01<00:00, 5525.55it/s]\n",
      "100%|████████████████████████████████████████████████████████████████████████████| 6056/6056 [00:01<00:00, 4899.68it/s]\n"
     ]
    },
    {
     "name": "stdout",
     "output_type": "stream",
     "text": [
      "get result for k =  450  , with algorithm =  item_based\n"
     ]
    },
    {
     "name": "stderr",
     "output_type": "stream",
     "text": [
      "100%|██████████████████████████████████████████████████████████████████████████████| 4395/4395 [01:44<00:00, 41.92it/s]\n",
      "100%|████████████████████████████████████████████████████████████████████████████| 6056/6056 [00:02<00:00, 2962.82it/s]\n",
      "100%|████████████████████████████████████████████████████████████████████████████| 6056/6056 [00:01<00:00, 5654.53it/s]\n",
      "100%|████████████████████████████████████████████████████████████████████████████| 6056/6056 [00:01<00:00, 5937.26it/s]\n",
      "100%|████████████████████████████████████████████████████████████████████████████| 6056/6056 [00:01<00:00, 5806.33it/s]\n",
      "100%|████████████████████████████████████████████████████████████████████████████| 6056/6056 [00:01<00:00, 5745.73it/s]\n",
      "100%|████████████████████████████████████████████████████████████████████████████| 6056/6056 [00:01<00:00, 5643.99it/s]\n",
      "100%|████████████████████████████████████████████████████████████████████████████| 6056/6056 [00:01<00:00, 5167.24it/s]\n"
     ]
    },
    {
     "name": "stdout",
     "output_type": "stream",
     "text": [
      "get result for k =  500  , with algorithm =  item_based\n"
     ]
    },
    {
     "name": "stderr",
     "output_type": "stream",
     "text": [
      "100%|██████████████████████████████████████████████████████████████████████████████| 4395/4395 [02:07<00:00, 34.47it/s]\n",
      "100%|████████████████████████████████████████████████████████████████████████████| 6056/6056 [00:02<00:00, 2901.77it/s]\n",
      "100%|████████████████████████████████████████████████████████████████████████████| 6056/6056 [00:01<00:00, 5800.77it/s]\n",
      "100%|████████████████████████████████████████████████████████████████████████████| 6056/6056 [00:01<00:00, 5856.87it/s]\n",
      "100%|████████████████████████████████████████████████████████████████████████████| 6056/6056 [00:01<00:00, 5789.68it/s]\n",
      "100%|████████████████████████████████████████████████████████████████████████████| 6056/6056 [00:01<00:00, 5839.92it/s]\n",
      "100%|████████████████████████████████████████████████████████████████████████████| 6056/6056 [00:01<00:00, 5784.15it/s]\n",
      "100%|████████████████████████████████████████████████████████████████████████████| 6056/6056 [00:01<00:00, 5127.86it/s]\n"
     ]
    },
    {
     "name": "stdout",
     "output_type": "stream",
     "text": [
      "get result for k =  600  , with algorithm =  item_based\n"
     ]
    },
    {
     "name": "stderr",
     "output_type": "stream",
     "text": [
      "100%|██████████████████████████████████████████████████████████████████████████████| 4395/4395 [02:25<00:00, 30.27it/s]\n",
      "100%|████████████████████████████████████████████████████████████████████████████| 6056/6056 [00:02<00:00, 2954.15it/s]\n",
      "100%|████████████████████████████████████████████████████████████████████████████| 6056/6056 [00:01<00:00, 5834.30it/s]\n",
      "100%|████████████████████████████████████████████████████████████████████████████| 6056/6056 [00:01<00:00, 5868.22it/s]\n",
      "100%|████████████████████████████████████████████████████████████████████████████| 6056/6056 [00:01<00:00, 5806.33it/s]\n",
      "100%|████████████████████████████████████████████████████████████████████████████| 6056/6056 [00:01<00:00, 5828.68it/s]\n",
      "100%|████████████████████████████████████████████████████████████████████████████| 6056/6056 [00:01<00:00, 5806.33it/s]\n",
      "100%|████████████████████████████████████████████████████████████████████████████| 6056/6056 [00:01<00:00, 5216.19it/s]\n"
     ]
    },
    {
     "name": "stdout",
     "output_type": "stream",
     "text": [
      "get result for k =  700  , with algorithm =  item_based\n"
     ]
    },
    {
     "name": "stderr",
     "output_type": "stream",
     "text": [
      "100%|██████████████████████████████████████████████████████████████████████████████| 4395/4395 [02:42<00:00, 27.70it/s]\n",
      "100%|████████████████████████████████████████████████████████████████████████████| 6056/6056 [00:02<00:00, 2936.95it/s]\n",
      "100%|████████████████████████████████████████████████████████████████████████████| 6056/6056 [00:01<00:00, 5908.29it/s]\n",
      "100%|████████████████████████████████████████████████████████████████████████████| 6056/6056 [00:01<00:00, 5885.33it/s]\n",
      "100%|████████████████████████████████████████████████████████████████████████████| 6056/6056 [00:01<00:00, 5839.92it/s]\n",
      "100%|████████████████████████████████████████████████████████████████████████████| 6056/6056 [00:01<00:00, 5896.79it/s]\n",
      "100%|████████████████████████████████████████████████████████████████████████████| 6056/6056 [00:01<00:00, 5834.30it/s]\n",
      "100%|████████████████████████████████████████████████████████████████████████████| 6056/6056 [00:01<00:00, 5275.26it/s]\n"
     ]
    },
    {
     "name": "stdout",
     "output_type": "stream",
     "text": [
      "get result for k =  800  , with algorithm =  item_based\n"
     ]
    },
    {
     "name": "stderr",
     "output_type": "stream",
     "text": [
      "100%|██████████████████████████████████████████████████████████████████████████████| 4395/4395 [03:00<00:00, 23.56it/s]\n",
      "100%|████████████████████████████████████████████████████████████████████████████| 6056/6056 [00:02<00:00, 2908.74it/s]\n",
      "100%|████████████████████████████████████████████████████████████████████████████| 6056/6056 [00:01<00:00, 5834.30it/s]\n",
      "100%|████████████████████████████████████████████████████████████████████████████| 6056/6056 [00:01<00:00, 5862.54it/s]\n",
      "100%|████████████████████████████████████████████████████████████████████████████| 6056/6056 [00:01<00:00, 5834.30it/s]\n",
      "100%|████████████████████████████████████████████████████████████████████████████| 6056/6056 [00:01<00:00, 5896.79it/s]\n",
      "100%|████████████████████████████████████████████████████████████████████████████| 6056/6056 [00:01<00:00, 5724.01it/s]\n",
      "100%|████████████████████████████████████████████████████████████████████████████| 6056/6056 [00:01<00:00, 5207.22it/s]\n"
     ]
    },
    {
     "name": "stdout",
     "output_type": "stream",
     "text": [
      "get result for k =  900  , with algorithm =  item_based\n"
     ]
    },
    {
     "name": "stderr",
     "output_type": "stream",
     "text": [
      "100%|██████████████████████████████████████████████████████████████████████████████| 4395/4395 [03:18<00:00, 22.83it/s]\n",
      "100%|████████████████████████████████████████████████████████████████████████████| 6056/6056 [00:02<00:00, 2961.37it/s]\n",
      "100%|████████████████████████████████████████████████████████████████████████████| 6056/6056 [00:01<00:00, 5885.33it/s]\n",
      "100%|████████████████████████████████████████████████████████████████████████████| 6056/6056 [00:01<00:00, 5919.84it/s]\n",
      "100%|████████████████████████████████████████████████████████████████████████████| 6056/6056 [00:01<00:00, 5925.64it/s]\n",
      "100%|████████████████████████████████████████████████████████████████████████████| 6056/6056 [00:01<00:00, 5851.21it/s]\n",
      "100%|████████████████████████████████████████████████████████████████████████████| 6056/6056 [00:01<00:00, 5856.87it/s]\n",
      "100%|████████████████████████████████████████████████████████████████████████████| 6056/6056 [00:01<00:00, 5238.75it/s]\n"
     ]
    },
    {
     "name": "stdout",
     "output_type": "stream",
     "text": [
      "get result for k =  1000  , with algorithm =  item_based\n"
     ]
    },
    {
     "name": "stderr",
     "output_type": "stream",
     "text": [
      "100%|████████████████████████████████████████████████████████████████████████████| 6056/6056 [00:03<00:00, 1607.22it/s]\n",
      "100%|████████████████████████████████████████████████████████████████████████████| 6056/6056 [00:01<00:00, 3724.48it/s]\n",
      "100%|████████████████████████████████████████████████████████████████████████████| 6056/6056 [00:01<00:00, 5885.33it/s]\n",
      "100%|████████████████████████████████████████████████████████████████████████████| 6056/6056 [00:01<00:00, 5873.91it/s]\n",
      "100%|████████████████████████████████████████████████████████████████████████████| 6056/6056 [00:01<00:00, 5943.08it/s]\n",
      "100%|████████████████████████████████████████████████████████████████████████████| 6056/6056 [00:01<00:00, 5778.63it/s]\n",
      "100%|████████████████████████████████████████████████████████████████████████████| 6056/6056 [00:01<00:00, 5845.56it/s]\n",
      "100%|████████████████████████████████████████████████████████████████████████████| 6056/6056 [00:01<00:00, 5279.86it/s]\n"
     ]
    },
    {
     "name": "stdout",
     "output_type": "stream",
     "text": [
      "get result for k =  10  , with algorithm =  user_based\n"
     ]
    },
    {
     "name": "stderr",
     "output_type": "stream",
     "text": [
      "100%|████████████████████████████████████████████████████████████████████████████| 6056/6056 [00:04<00:00, 1421.26it/s]\n",
      "100%|████████████████████████████████████████████████████████████████████████████| 6056/6056 [00:01<00:00, 3701.71it/s]\n",
      "100%|████████████████████████████████████████████████████████████████████████████| 6056/6056 [00:01<00:00, 5868.22it/s]\n",
      "100%|████████████████████████████████████████████████████████████████████████████| 6056/6056 [00:01<00:00, 5943.08it/s]\n",
      "100%|████████████████████████████████████████████████████████████████████████████| 6056/6056 [00:01<00:00, 5885.33it/s]\n",
      "100%|████████████████████████████████████████████████████████████████████████████| 6056/6056 [00:01<00:00, 5734.85it/s]\n",
      "100%|████████████████████████████████████████████████████████████████████████████| 6056/6056 [00:01<00:00, 5851.21it/s]\n",
      "100%|████████████████████████████████████████████████████████████████████████████| 6056/6056 [00:01<00:00, 5289.08it/s]\n"
     ]
    },
    {
     "name": "stdout",
     "output_type": "stream",
     "text": [
      "get result for k =  20  , with algorithm =  user_based\n"
     ]
    },
    {
     "name": "stderr",
     "output_type": "stream",
     "text": [
      "100%|█████████████████████████████████████████████████████████████████████████████| 6056/6056 [00:07<00:00, 814.75it/s]\n",
      "100%|████████████████████████████████████████████████████████████████████████████| 6056/6056 [00:01<00:00, 3674.76it/s]\n",
      "100%|████████████████████████████████████████████████████████████████████████████| 6056/6056 [00:01<00:00, 5925.64it/s]\n",
      "100%|████████████████████████████████████████████████████████████████████████████| 6056/6056 [00:01<00:00, 5873.91it/s]\n",
      "100%|████████████████████████████████████████████████████████████████████████████| 6056/6056 [00:01<00:00, 5839.92it/s]\n",
      "100%|████████████████████████████████████████████████████████████████████████████| 6056/6056 [00:01<00:00, 5896.79it/s]\n",
      "100%|████████████████████████████████████████████████████████████████████████████| 6056/6056 [00:01<00:00, 5691.73it/s]\n",
      "100%|████████████████████████████████████████████████████████████████████████████| 6056/6056 [00:01<00:00, 5220.69it/s]\n"
     ]
    },
    {
     "name": "stdout",
     "output_type": "stream",
     "text": [
      "get result for k =  30  , with algorithm =  user_based\n"
     ]
    },
    {
     "name": "stderr",
     "output_type": "stream",
     "text": [
      "100%|█████████████████████████████████████████████████████████████████████████████| 6056/6056 [00:08<00:00, 701.98it/s]\n",
      "100%|████████████████████████████████████████████████████████████████████████████| 6056/6056 [00:01<00:00, 3657.01it/s]\n",
      "100%|████████████████████████████████████████████████████████████████████████████| 6056/6056 [00:01<00:00, 5948.92it/s]\n",
      "100%|████████████████████████████████████████████████████████████████████████████| 6056/6056 [00:01<00:00, 5960.63it/s]\n",
      "100%|████████████████████████████████████████████████████████████████████████████| 6056/6056 [00:01<00:00, 5891.05it/s]\n",
      "100%|████████████████████████████████████████████████████████████████████████████| 6056/6056 [00:01<00:00, 5851.21it/s]\n",
      "100%|████████████████████████████████████████████████████████████████████████████| 6056/6056 [00:01<00:00, 5817.48it/s]\n",
      "100%|████████████████████████████████████████████████████████████████████████████| 6056/6056 [00:01<00:00, 5302.98it/s]\n"
     ]
    },
    {
     "name": "stdout",
     "output_type": "stream",
     "text": [
      "get result for k =  40  , with algorithm =  user_based\n"
     ]
    },
    {
     "name": "stderr",
     "output_type": "stream",
     "text": [
      "100%|█████████████████████████████████████████████████████████████████████████████| 6056/6056 [00:10<00:00, 598.30it/s]\n",
      "100%|████████████████████████████████████████████████████████████████████████████| 6056/6056 [00:01<00:00, 3602.62it/s]\n",
      "100%|████████████████████████████████████████████████████████████████████████████| 6056/6056 [00:01<00:00, 5925.64it/s]\n",
      "100%|████████████████████████████████████████████████████████████████████████████| 6056/6056 [00:01<00:00, 5948.92it/s]\n",
      "100%|████████████████████████████████████████████████████████████████████████████| 6056/6056 [00:01<00:00, 5966.50it/s]\n",
      "100%|████████████████████████████████████████████████████████████████████████████| 6056/6056 [00:01<00:00, 5902.54it/s]\n",
      "100%|████████████████████████████████████████████████████████████████████████████| 6056/6056 [00:01<00:00, 5845.56it/s]\n",
      "100%|████████████████████████████████████████████████████████████████████████████| 6056/6056 [00:01<00:00, 5275.26it/s]\n"
     ]
    },
    {
     "name": "stdout",
     "output_type": "stream",
     "text": [
      "get result for k =  50  , with algorithm =  user_based\n"
     ]
    },
    {
     "name": "stderr",
     "output_type": "stream",
     "text": [
      "100%|█████████████████████████████████████████████████████████████████████████████| 6056/6056 [00:13<00:00, 447.96it/s]\n",
      "100%|████████████████████████████████████████████████████████████████████████████| 6056/6056 [00:01<00:00, 3572.86it/s]\n",
      "100%|████████████████████████████████████████████████████████████████████████████| 6056/6056 [00:01<00:00, 5823.08it/s]\n",
      "100%|████████████████████████████████████████████████████████████████████████████| 6056/6056 [00:01<00:00, 5823.08it/s]\n",
      "100%|████████████████████████████████████████████████████████████████████████████| 6056/6056 [00:01<00:00, 5914.06it/s]\n",
      "100%|████████████████████████████████████████████████████████████████████████████| 6056/6056 [00:01<00:00, 5879.61it/s]\n",
      "100%|████████████████████████████████████████████████████████████████████████████| 6056/6056 [00:01<00:00, 5767.62it/s]\n",
      "100%|████████████████████████████████████████████████████████████████████████████| 6056/6056 [00:01<00:00, 5225.19it/s]\n"
     ]
    },
    {
     "name": "stdout",
     "output_type": "stream",
     "text": [
      "get result for k =  60  , with algorithm =  user_based\n"
     ]
    },
    {
     "name": "stderr",
     "output_type": "stream",
     "text": [
      "100%|█████████████████████████████████████████████████████████████████████████████| 6056/6056 [00:15<00:00, 398.79it/s]\n",
      "100%|████████████████████████████████████████████████████████████████████████████| 6056/6056 [00:01<00:00, 3533.26it/s]\n",
      "100%|████████████████████████████████████████████████████████████████████████████| 6056/6056 [00:01<00:00, 5937.25it/s]\n",
      "100%|████████████████████████████████████████████████████████████████████████████| 6056/6056 [00:01<00:00, 5891.05it/s]\n",
      "100%|████████████████████████████████████████████████████████████████████████████| 6056/6056 [00:01<00:00, 5943.08it/s]\n",
      "100%|████████████████████████████████████████████████████████████████████████████| 6056/6056 [00:01<00:00, 5778.63it/s]\n",
      "100%|████████████████████████████████████████████████████████████████████████████| 6056/6056 [00:01<00:00, 5873.91it/s]\n",
      "100%|████████████████████████████████████████████████████████████████████████████| 6056/6056 [00:01<00:00, 5293.71it/s]\n"
     ]
    },
    {
     "name": "stdout",
     "output_type": "stream",
     "text": [
      "get result for k =  70  , with algorithm =  user_based\n"
     ]
    },
    {
     "name": "stderr",
     "output_type": "stream",
     "text": [
      "100%|█████████████████████████████████████████████████████████████████████████████| 6056/6056 [00:17<00:00, 355.86it/s]\n",
      "100%|████████████████████████████████████████████████████████████████████████████| 6056/6056 [00:01<00:00, 3558.17it/s]\n",
      "100%|████████████████████████████████████████████████████████████████████████████| 6056/6056 [00:01<00:00, 5862.54it/s]\n",
      "100%|████████████████████████████████████████████████████████████████████████████| 6056/6056 [00:01<00:00, 5885.33it/s]\n",
      "100%|████████████████████████████████████████████████████████████████████████████| 6056/6056 [00:01<00:00, 5784.15it/s]\n",
      "100%|████████████████████████████████████████████████████████████████████████████| 6056/6056 [00:01<00:00, 5811.90it/s]\n",
      "100%|████████████████████████████████████████████████████████████████████████████| 6056/6056 [00:01<00:00, 5806.33it/s]\n",
      "100%|████████████████████████████████████████████████████████████████████████████| 6056/6056 [00:01<00:00, 5312.28it/s]\n"
     ]
    },
    {
     "name": "stdout",
     "output_type": "stream",
     "text": [
      "get result for k =  80  , with algorithm =  user_based\n"
     ]
    },
    {
     "name": "stderr",
     "output_type": "stream",
     "text": [
      "100%|█████████████████████████████████████████████████████████████████████████████| 6056/6056 [00:18<00:00, 325.08it/s]\n",
      "100%|████████████████████████████████████████████████████████████████████████████| 6056/6056 [00:01<00:00, 3596.20it/s]\n",
      "100%|████████████████████████████████████████████████████████████████████████████| 6056/6056 [00:01<00:00, 5914.06it/s]\n",
      "100%|████████████████████████████████████████████████████████████████████████████| 6056/6056 [00:01<00:00, 5919.84it/s]\n",
      "100%|████████████████████████████████████████████████████████████████████████████| 6056/6056 [00:01<00:00, 5919.84it/s]\n",
      "100%|████████████████████████████████████████████████████████████████████████████| 6056/6056 [00:01<00:00, 5931.44it/s]\n",
      "100%|████████████████████████████████████████████████████████████████████████████| 6056/6056 [00:01<00:00, 5873.91it/s]\n",
      "100%|████████████████████████████████████████████████████████████████████████████| 6056/6056 [00:01<00:00, 5275.26it/s]\n"
     ]
    },
    {
     "name": "stdout",
     "output_type": "stream",
     "text": [
      "get result for k =  90  , with algorithm =  user_based\n"
     ]
    },
    {
     "name": "stderr",
     "output_type": "stream",
     "text": [
      "100%|█████████████████████████████████████████████████████████████████████████████| 6056/6056 [00:20<00:00, 294.21it/s]\n",
      "100%|████████████████████████████████████████████████████████████████████████████| 6056/6056 [00:01<00:00, 3549.82it/s]\n",
      "100%|████████████████████████████████████████████████████████████████████████████| 6056/6056 [00:01<00:00, 5902.53it/s]\n",
      "100%|████████████████████████████████████████████████████████████████████████████| 6056/6056 [00:01<00:00, 5891.05it/s]\n",
      "100%|████████████████████████████████████████████████████████████████████████████| 6056/6056 [00:01<00:00, 5990.11it/s]\n",
      "100%|████████████████████████████████████████████████████████████████████████████| 6056/6056 [00:01<00:00, 5868.22it/s]\n",
      "100%|████████████████████████████████████████████████████████████████████████████| 6056/6056 [00:01<00:00, 5828.68it/s]\n",
      "100%|████████████████████████████████████████████████████████████████████████████| 6056/6056 [00:01<00:00, 5162.83it/s]\n"
     ]
    },
    {
     "name": "stdout",
     "output_type": "stream",
     "text": [
      "get result for k =  100  , with algorithm =  user_based\n"
     ]
    },
    {
     "name": "stderr",
     "output_type": "stream",
     "text": [
      "100%|█████████████████████████████████████████████████████████████████████████████| 6056/6056 [00:29<00:00, 208.21it/s]\n",
      "100%|████████████████████████████████████████████████████████████████████████████| 6056/6056 [00:01<00:00, 3535.32it/s]\n",
      "100%|████████████████████████████████████████████████████████████████████████████| 6056/6056 [00:01<00:00, 5856.87it/s]\n",
      "100%|████████████████████████████████████████████████████████████████████████████| 6056/6056 [00:01<00:00, 5851.21it/s]\n",
      "100%|████████████████████████████████████████████████████████████████████████████| 6056/6056 [00:01<00:00, 5845.56it/s]\n",
      "100%|████████████████████████████████████████████████████████████████████████████| 6056/6056 [00:01<00:00, 5879.61it/s]\n",
      "100%|████████████████████████████████████████████████████████████████████████████| 6056/6056 [00:01<00:00, 5817.48it/s]\n",
      "100%|████████████████████████████████████████████████████████████████████████████| 6056/6056 [00:01<00:00, 5261.51it/s]\n"
     ]
    },
    {
     "name": "stdout",
     "output_type": "stream",
     "text": [
      "get result for k =  150  , with algorithm =  user_based\n"
     ]
    },
    {
     "name": "stderr",
     "output_type": "stream",
     "text": [
      "100%|█████████████████████████████████████████████████████████████████████████████| 6056/6056 [00:37<00:00, 160.55it/s]\n",
      "100%|████████████████████████████████████████████████████████████████████████████| 6056/6056 [00:01<00:00, 3514.80it/s]\n",
      "100%|████████████████████████████████████████████████████████████████████████████| 6056/6056 [00:01<00:00, 5966.50it/s]\n",
      "100%|████████████████████████████████████████████████████████████████████████████| 6056/6056 [00:01<00:00, 5879.61it/s]\n",
      "100%|████████████████████████████████████████████████████████████████████████████| 6056/6056 [00:01<00:00, 5908.29it/s]\n",
      "100%|████████████████████████████████████████████████████████████████████████████| 6056/6056 [00:01<00:00, 5856.87it/s]\n",
      "100%|████████████████████████████████████████████████████████████████████████████| 6056/6056 [00:01<00:00, 5724.01it/s]\n",
      "100%|████████████████████████████████████████████████████████████████████████████| 6056/6056 [00:01<00:00, 5220.69it/s]\n"
     ]
    },
    {
     "name": "stdout",
     "output_type": "stream",
     "text": [
      "get result for k =  200  , with algorithm =  user_based\n"
     ]
    },
    {
     "name": "stderr",
     "output_type": "stream",
     "text": [
      "100%|█████████████████████████████████████████████████████████████████████████████| 6056/6056 [00:46<00:00, 131.05it/s]\n",
      "100%|████████████████████████████████████████████████████████████████████████████| 6056/6056 [00:01<00:00, 3520.93it/s]\n",
      "100%|████████████████████████████████████████████████████████████████████████████| 6056/6056 [00:01<00:00, 5896.79it/s]\n",
      "100%|████████████████████████████████████████████████████████████████████████████| 6056/6056 [00:01<00:00, 5966.50it/s]\n",
      "100%|████████████████████████████████████████████████████████████████████████████| 6056/6056 [00:01<00:00, 5851.21it/s]\n",
      "100%|████████████████████████████████████████████████████████████████████████████| 6056/6056 [00:01<00:00, 5937.26it/s]\n",
      "100%|████████████████████████████████████████████████████████████████████████████| 6056/6056 [00:01<00:00, 5806.33it/s]\n",
      "100%|████████████████████████████████████████████████████████████████████████████| 6056/6056 [00:01<00:00, 5238.75it/s]\n"
     ]
    },
    {
     "name": "stdout",
     "output_type": "stream",
     "text": [
      "get result for k =  250  , with algorithm =  user_based\n"
     ]
    },
    {
     "name": "stderr",
     "output_type": "stream",
     "text": [
      "100%|█████████████████████████████████████████████████████████████████████████████| 6056/6056 [00:55<00:00, 109.75it/s]\n",
      "100%|████████████████████████████████████████████████████████████████████████████| 6056/6056 [00:01<00:00, 3522.98it/s]\n",
      "100%|████████████████████████████████████████████████████████████████████████████| 6056/6056 [00:01<00:00, 5937.26it/s]\n",
      "100%|████████████████████████████████████████████████████████████████████████████| 6056/6056 [00:01<00:00, 5891.05it/s]\n",
      "100%|████████████████████████████████████████████████████████████████████████████| 6056/6056 [00:01<00:00, 5966.50it/s]\n",
      "100%|████████████████████████████████████████████████████████████████████████████| 6056/6056 [00:01<00:00, 5879.61it/s]\n",
      "100%|████████████████████████████████████████████████████████████████████████████| 6056/6056 [00:01<00:00, 5745.73it/s]\n",
      "100%|████████████████████████████████████████████████████████████████████████████| 6056/6056 [00:01<00:00, 5247.83it/s]\n"
     ]
    },
    {
     "name": "stdout",
     "output_type": "stream",
     "text": [
      "get result for k =  300  , with algorithm =  user_based\n"
     ]
    },
    {
     "name": "stderr",
     "output_type": "stream",
     "text": [
      "100%|██████████████████████████████████████████████████████████████████████████████| 6056/6056 [01:04<00:00, 94.23it/s]\n",
      "100%|████████████████████████████████████████████████████████████████████████████| 6056/6056 [00:01<00:00, 3522.98it/s]\n",
      "100%|████████████████████████████████████████████████████████████████████████████| 6056/6056 [00:01<00:00, 5891.05it/s]\n",
      "100%|████████████████████████████████████████████████████████████████████████████| 6056/6056 [00:01<00:00, 5914.06it/s]\n",
      "100%|████████████████████████████████████████████████████████████████████████████| 6056/6056 [00:01<00:00, 5845.56it/s]\n",
      "100%|████████████████████████████████████████████████████████████████████████████| 6056/6056 [00:01<00:00, 5873.91it/s]\n",
      "100%|████████████████████████████████████████████████████████████████████████████| 6056/6056 [00:01<00:00, 5734.85it/s]\n",
      "100%|████████████████████████████████████████████████████████████████████████████| 6056/6056 [00:01<00:00, 5243.29it/s]\n"
     ]
    },
    {
     "name": "stdout",
     "output_type": "stream",
     "text": [
      "get result for k =  350  , with algorithm =  user_based\n"
     ]
    },
    {
     "name": "stderr",
     "output_type": "stream",
     "text": [
      "100%|██████████████████████████████████████████████████████████████████████████████| 6056/6056 [01:13<00:00, 82.53it/s]\n",
      "100%|████████████████████████████████████████████████████████████████████████████| 6056/6056 [00:01<00:00, 3512.76it/s]\n",
      "100%|████████████████████████████████████████████████████████████████████████████| 6056/6056 [00:01<00:00, 5885.33it/s]\n",
      "100%|████████████████████████████████████████████████████████████████████████████| 6056/6056 [00:01<00:00, 5868.22it/s]\n",
      "100%|████████████████████████████████████████████████████████████████████████████| 6056/6056 [00:01<00:00, 5851.21it/s]\n",
      "100%|████████████████████████████████████████████████████████████████████████████| 6056/6056 [00:01<00:00, 5839.92it/s]\n",
      "100%|████████████████████████████████████████████████████████████████████████████| 6056/6056 [00:01<00:00, 5767.62it/s]\n",
      "100%|████████████████████████████████████████████████████████████████████████████| 6056/6056 [00:01<00:00, 5171.65it/s]\n"
     ]
    },
    {
     "name": "stdout",
     "output_type": "stream",
     "text": [
      "get result for k =  400  , with algorithm =  user_based\n"
     ]
    },
    {
     "name": "stderr",
     "output_type": "stream",
     "text": [
      "100%|██████████████████████████████████████████████████████████████████████████████| 6056/6056 [01:23<00:00, 72.88it/s]\n",
      "100%|████████████████████████████████████████████████████████████████████████████| 6056/6056 [00:01<00:00, 3512.76it/s]\n",
      "100%|████████████████████████████████████████████████████████████████████████████| 6056/6056 [00:01<00:00, 5925.64it/s]\n",
      "100%|████████████████████████████████████████████████████████████████████████████| 6056/6056 [00:01<00:00, 5885.33it/s]\n",
      "100%|████████████████████████████████████████████████████████████████████████████| 6056/6056 [00:01<00:00, 5851.21it/s]\n",
      "100%|████████████████████████████████████████████████████████████████████████████| 6056/6056 [00:01<00:00, 5834.30it/s]\n",
      "100%|████████████████████████████████████████████████████████████████████████████| 6056/6056 [00:01<00:00, 5811.90it/s]\n",
      "100%|████████████████████████████████████████████████████████████████████████████| 6056/6056 [00:01<00:00, 5261.51it/s]\n"
     ]
    },
    {
     "name": "stdout",
     "output_type": "stream",
     "text": [
      "get result for k =  450  , with algorithm =  user_based\n"
     ]
    },
    {
     "name": "stderr",
     "output_type": "stream",
     "text": [
      "100%|██████████████████████████████████████████████████████████████████████████████| 6056/6056 [01:32<00:00, 67.53it/s]\n",
      "100%|████████████████████████████████████████████████████████████████████████████| 6056/6056 [00:01<00:00, 3492.50it/s]\n",
      "100%|████████████████████████████████████████████████████████████████████████████| 6056/6056 [00:01<00:00, 5851.21it/s]\n",
      "100%|████████████████████████████████████████████████████████████████████████████| 6056/6056 [00:01<00:00, 5817.48it/s]\n",
      "100%|████████████████████████████████████████████████████████████████████████████| 6056/6056 [00:01<00:00, 5914.06it/s]\n",
      "100%|████████████████████████████████████████████████████████████████████████████| 6056/6056 [00:01<00:00, 5868.22it/s]\n",
      "100%|████████████████████████████████████████████████████████████████████████████| 6056/6056 [00:01<00:00, 5734.85it/s]\n",
      "100%|████████████████████████████████████████████████████████████████████████████| 6056/6056 [00:01<00:00, 5321.62it/s]\n"
     ]
    },
    {
     "name": "stdout",
     "output_type": "stream",
     "text": [
      "get result for k =  500  , with algorithm =  user_based\n"
     ]
    },
    {
     "name": "stderr",
     "output_type": "stream",
     "text": [
      "100%|██████████████████████████████████████████████████████████████████████████████| 6056/6056 [01:49<00:00, 55.16it/s]\n",
      "100%|████████████████████████████████████████████████████████████████████████████| 6056/6056 [00:01<00:00, 3496.54it/s]\n",
      "100%|████████████████████████████████████████████████████████████████████████████| 6056/6056 [00:01<00:00, 5943.08it/s]\n",
      "100%|████████████████████████████████████████████████████████████████████████████| 6056/6056 [00:01<00:00, 5856.87it/s]\n",
      "100%|████████████████████████████████████████████████████████████████████████████| 6056/6056 [00:01<00:00, 5839.92it/s]\n",
      "100%|████████████████████████████████████████████████████████████████████████████| 6056/6056 [00:01<00:00, 5908.29it/s]\n",
      "100%|████████████████████████████████████████████████████████████████████████████| 6056/6056 [00:01<00:00, 5789.67it/s]\n",
      "100%|████████████████████████████████████████████████████████████████████████████| 6056/6056 [00:01<00:00, 5149.66it/s]\n"
     ]
    },
    {
     "name": "stdout",
     "output_type": "stream",
     "text": [
      "get result for k =  600  , with algorithm =  user_based\n"
     ]
    },
    {
     "name": "stderr",
     "output_type": "stream",
     "text": [
      "100%|██████████████████████████████████████████████████████████████████████████████| 6056/6056 [02:06<00:00, 47.71it/s]\n",
      "100%|████████████████████████████████████████████████████████████████████████████| 6056/6056 [00:01<00:00, 3529.14it/s]\n",
      "100%|████████████████████████████████████████████████████████████████████████████| 6056/6056 [00:01<00:00, 5839.92it/s]\n",
      "100%|████████████████████████████████████████████████████████████████████████████| 6056/6056 [00:01<00:00, 5834.30it/s]\n",
      "100%|████████████████████████████████████████████████████████████████████████████| 6056/6056 [00:01<00:00, 5828.68it/s]\n",
      "100%|████████████████████████████████████████████████████████████████████████████| 6056/6056 [00:01<00:00, 5931.44it/s]\n",
      "100%|████████████████████████████████████████████████████████████████████████████| 6056/6056 [00:01<00:00, 5784.15it/s]\n",
      "100%|████████████████████████████████████████████████████████████████████████████| 6056/6056 [00:01<00:00, 5216.19it/s]\n"
     ]
    },
    {
     "name": "stdout",
     "output_type": "stream",
     "text": [
      "get result for k =  700  , with algorithm =  user_based\n"
     ]
    },
    {
     "name": "stderr",
     "output_type": "stream",
     "text": [
      "100%|██████████████████████████████████████████████████████████████████████████████| 6056/6056 [02:23<00:00, 40.74it/s]\n",
      "100%|████████████████████████████████████████████████████████████████████████████| 6056/6056 [00:01<00:00, 3522.98it/s]\n",
      "100%|████████████████████████████████████████████████████████████████████████████| 6056/6056 [00:01<00:00, 5954.77it/s]\n",
      "100%|████████████████████████████████████████████████████████████████████████████| 6056/6056 [00:01<00:00, 5896.79it/s]\n",
      "100%|████████████████████████████████████████████████████████████████████████████| 6056/6056 [00:01<00:00, 5834.30it/s]\n",
      "100%|████████████████████████████████████████████████████████████████████████████| 6056/6056 [00:01<00:00, 5943.08it/s]\n",
      "100%|████████████████████████████████████████████████████████████████████████████| 6056/6056 [00:01<00:00, 5713.21it/s]\n",
      "100%|████████████████████████████████████████████████████████████████████████████| 6056/6056 [00:01<00:00, 5321.62it/s]\n"
     ]
    },
    {
     "name": "stdout",
     "output_type": "stream",
     "text": [
      "get result for k =  800  , with algorithm =  user_based\n"
     ]
    },
    {
     "name": "stderr",
     "output_type": "stream",
     "text": [
      "100%|██████████████████████████████████████████████████████████████████████████████| 6056/6056 [02:41<00:00, 37.59it/s]\n",
      "100%|████████████████████████████████████████████████████████████████████████████| 6056/6056 [00:01<00:00, 3545.67it/s]\n",
      "100%|████████████████████████████████████████████████████████████████████████████| 6056/6056 [00:01<00:00, 5795.22it/s]\n",
      "100%|████████████████████████████████████████████████████████████████████████████| 6056/6056 [00:01<00:00, 5943.08it/s]\n",
      "100%|████████████████████████████████████████████████████████████████████████████| 6056/6056 [00:01<00:00, 5937.26it/s]\n",
      "100%|████████████████████████████████████████████████████████████████████████████| 6056/6056 [00:01<00:00, 5868.22it/s]\n",
      "100%|████████████████████████████████████████████████████████████████████████████| 6056/6056 [00:01<00:00, 5834.30it/s]\n",
      "100%|████████████████████████████████████████████████████████████████████████████| 6056/6056 [00:01<00:00, 5270.67it/s]\n"
     ]
    },
    {
     "name": "stdout",
     "output_type": "stream",
     "text": [
      "get result for k =  900  , with algorithm =  user_based\n"
     ]
    },
    {
     "name": "stderr",
     "output_type": "stream",
     "text": [
      "100%|██████████████████████████████████████████████████████████████████████████████| 6056/6056 [03:00<00:00, 33.53it/s]\n",
      "100%|████████████████████████████████████████████████████████████████████████████| 6056/6056 [00:01<00:00, 3630.70it/s]\n",
      "100%|████████████████████████████████████████████████████████████████████████████| 6056/6056 [00:01<00:00, 5891.05it/s]\n",
      "100%|████████████████████████████████████████████████████████████████████████████| 6056/6056 [00:01<00:00, 5896.79it/s]\n",
      "100%|████████████████████████████████████████████████████████████████████████████| 6056/6056 [00:01<00:00, 5891.05it/s]\n",
      "100%|████████████████████████████████████████████████████████████████████████████| 6056/6056 [00:01<00:00, 5851.21it/s]\n",
      "100%|████████████████████████████████████████████████████████████████████████████| 6056/6056 [00:01<00:00, 5707.82it/s]\n",
      "100%|████████████████████████████████████████████████████████████████████████████| 6056/6056 [00:01<00:00, 5247.83it/s]\n"
     ]
    },
    {
     "name": "stdout",
     "output_type": "stream",
     "text": [
      "get result for k =  1000  , with algorithm =  user_based\n"
     ]
    }
   ],
   "source": [
    "hyper_parameter_tuning(rtrain, rvalid, 'knn_tunning_final.csv', I_K, U_K)"
   ]
  },
  {
   "cell_type": "code",
   "execution_count": 94,
   "metadata": {
    "scrolled": true
   },
   "outputs": [
    {
     "name": "stderr",
     "output_type": "stream",
     "text": [
      "100%|█████████████████████████████████████████████████████████████████████████████| 4395/4395 [00:06<00:00, 659.12it/s]\n",
      "100%|████████████████████████████████████████████████████████████████████████████| 6056/6056 [00:02<00:00, 2802.41it/s]\n",
      "100%|████████████████████████████████████████████████████████████████████████████| 6056/6056 [00:01<00:00, 5220.69it/s]\n",
      "100%|████████████████████████████████████████████████████████████████████████████| 6056/6056 [00:01<00:00, 5275.26it/s]\n",
      "100%|████████████████████████████████████████████████████████████████████████████| 6056/6056 [00:01<00:00, 5136.56it/s]\n",
      "100%|████████████████████████████████████████████████████████████████████████████| 6056/6056 [00:01<00:00, 5321.62it/s]\n",
      "100%|████████████████████████████████████████████████████████████████████████████| 6056/6056 [00:01<00:00, 5307.62it/s]\n",
      "100%|████████████████████████████████████████████████████████████████████████████| 6056/6056 [00:01<00:00, 4947.71it/s]\n"
     ]
    },
    {
     "name": "stdout",
     "output_type": "stream",
     "text": [
      "get result for k =  10  , with algorithm =  item_based\n"
     ]
    },
    {
     "name": "stderr",
     "output_type": "stream",
     "text": [
      "100%|█████████████████████████████████████████████████████████████████████████████| 4395/4395 [00:07<00:00, 612.20it/s]\n",
      "100%|████████████████████████████████████████████████████████████████████████████| 6056/6056 [00:02<00:00, 2832.55it/s]\n",
      "100%|████████████████████████████████████████████████████████████████████████████| 6056/6056 [00:01<00:00, 5505.46it/s]\n",
      "100%|████████████████████████████████████████████████████████████████████████████| 6056/6056 [00:01<00:00, 5500.45it/s]\n",
      "100%|████████████████████████████████████████████████████████████████████████████| 6056/6056 [00:01<00:00, 5505.46it/s]\n",
      "100%|████████████████████████████████████████████████████████████████████████████| 6056/6056 [00:01<00:00, 5530.59it/s]\n",
      "100%|████████████████████████████████████████████████████████████████████████████| 6056/6056 [00:01<00:00, 5470.64it/s]\n",
      "100%|████████████████████████████████████████████████████████████████████████████| 6056/6056 [00:01<00:00, 4794.93it/s]\n"
     ]
    },
    {
     "name": "stdout",
     "output_type": "stream",
     "text": [
      "get result for k =  20  , with algorithm =  item_based\n"
     ]
    },
    {
     "name": "stderr",
     "output_type": "stream",
     "text": [
      "100%|█████████████████████████████████████████████████████████████████████████████| 4395/4395 [00:10<00:00, 406.68it/s]\n",
      "100%|████████████████████████████████████████████████████████████████████████████| 6056/6056 [00:02<00:00, 2843.19it/s]\n",
      "100%|████████████████████████████████████████████████████████████████████████████| 6056/6056 [00:01<00:00, 5530.59it/s]\n",
      "100%|████████████████████████████████████████████████████████████████████████████| 6056/6056 [00:01<00:00, 5561.06it/s]\n",
      "100%|████████████████████████████████████████████████████████████████████████████| 6056/6056 [00:01<00:00, 5455.86it/s]\n",
      "100%|████████████████████████████████████████████████████████████████████████████| 6056/6056 [00:01<00:00, 5597.04it/s]\n",
      "100%|████████████████████████████████████████████████████████████████████████████| 6056/6056 [00:01<00:00, 5475.59it/s]\n",
      "100%|████████████████████████████████████████████████████████████████████████████| 6056/6056 [00:01<00:00, 4939.64it/s]\n"
     ]
    },
    {
     "name": "stdout",
     "output_type": "stream",
     "text": [
      "get result for k =  30  , with algorithm =  item_based\n"
     ]
    },
    {
     "name": "stderr",
     "output_type": "stream",
     "text": [
      "100%|█████████████████████████████████████████████████████████████████████████████| 4395/4395 [00:12<00:00, 345.22it/s]\n",
      "100%|████████████████████████████████████████████████████████████████████████████| 6056/6056 [00:02<00:00, 2795.94it/s]\n",
      "100%|████████████████████████████████████████████████████████████████████████████| 6056/6056 [00:01<00:00, 5561.07it/s]\n",
      "100%|████████████████████████████████████████████████████████████████████████████| 6056/6056 [00:01<00:00, 5530.59it/s]\n",
      "100%|████████████████████████████████████████████████████████████████████████████| 6056/6056 [00:01<00:00, 5515.48it/s]\n",
      "100%|████████████████████████████████████████████████████████████████████████████| 6056/6056 [00:01<00:00, 5446.04it/s]\n",
      "100%|████████████████████████████████████████████████████████████████████████████| 6056/6056 [00:01<00:00, 5581.57it/s]\n",
      "100%|████████████████████████████████████████████████████████████████████████████| 6056/6056 [00:01<00:00, 4984.36it/s]\n"
     ]
    },
    {
     "name": "stdout",
     "output_type": "stream",
     "text": [
      "get result for k =  40  , with algorithm =  item_based\n"
     ]
    },
    {
     "name": "stderr",
     "output_type": "stream",
     "text": [
      "100%|█████████████████████████████████████████████████████████████████████████████| 4395/4395 [00:15<00:00, 283.82it/s]\n",
      "100%|████████████████████████████████████████████████████████████████████████████| 6056/6056 [00:02<00:00, 2811.51it/s]\n",
      "100%|████████████████████████████████████████████████████████████████████████████| 6056/6056 [00:01<00:00, 5535.65it/s]\n",
      "100%|████████████████████████████████████████████████████████████████████████████| 6056/6056 [00:01<00:00, 5510.46it/s]\n",
      "100%|████████████████████████████████████████████████████████████████████████████| 6056/6056 [00:01<00:00, 5535.65it/s]\n",
      "100%|████████████████████████████████████████████████████████████████████████████| 6056/6056 [00:01<00:00, 5460.78it/s]\n",
      "100%|████████████████████████████████████████████████████████████████████████████| 6056/6056 [00:01<00:00, 5441.15it/s]\n",
      "100%|████████████████████████████████████████████████████████████████████████████| 6056/6056 [00:01<00:00, 4879.94it/s]\n"
     ]
    },
    {
     "name": "stdout",
     "output_type": "stream",
     "text": [
      "get result for k =  50  , with algorithm =  item_based\n"
     ]
    },
    {
     "name": "stderr",
     "output_type": "stream",
     "text": [
      "100%|█████████████████████████████████████████████████████████████████████████████| 4395/4395 [00:17<00:00, 245.81it/s]\n",
      "100%|████████████████████████████████████████████████████████████████████████████| 6056/6056 [00:02<00:00, 2797.23it/s]\n",
      "100%|████████████████████████████████████████████████████████████████████████████| 6056/6056 [00:01<00:00, 5470.64it/s]\n",
      "100%|████████████████████████████████████████████████████████████████████████████| 6056/6056 [00:01<00:00, 5686.38it/s]\n",
      "100%|████████████████████████████████████████████████████████████████████████████| 6056/6056 [00:01<00:00, 5607.41it/s]\n",
      "100%|████████████████████████████████████████████████████████████████████████████| 6056/6056 [00:01<00:00, 5515.48it/s]\n",
      "100%|████████████████████████████████████████████████████████████████████████████| 6056/6056 [00:01<00:00, 5465.70it/s]\n",
      "100%|████████████████████████████████████████████████████████████████████████████| 6056/6056 [00:01<00:00, 4947.71it/s]\n"
     ]
    },
    {
     "name": "stdout",
     "output_type": "stream",
     "text": [
      "get result for k =  60  , with algorithm =  item_based\n"
     ]
    },
    {
     "name": "stderr",
     "output_type": "stream",
     "text": [
      "100%|█████████████████████████████████████████████████████████████████████████████| 4395/4395 [00:19<00:00, 221.76it/s]\n",
      "100%|████████████████████████████████████████████████████████████████████████████| 6056/6056 [00:02<00:00, 2808.91it/s]\n",
      "100%|████████████████████████████████████████████████████████████████████████████| 6056/6056 [00:01<00:00, 5475.59it/s]\n",
      "100%|████████████████████████████████████████████████████████████████████████████| 6056/6056 [00:01<00:00, 5500.45it/s]\n",
      "100%|████████████████████████████████████████████████████████████████████████████| 6056/6056 [00:01<00:00, 5485.51it/s]\n",
      "100%|████████████████████████████████████████████████████████████████████████████| 6056/6056 [00:01<00:00, 5465.70it/s]\n",
      "100%|████████████████████████████████████████████████████████████████████████████| 6056/6056 [00:01<00:00, 5397.50it/s]\n",
      "100%|████████████████████████████████████████████████████████████████████████████| 6056/6056 [00:01<00:00, 4931.60it/s]\n"
     ]
    },
    {
     "name": "stdout",
     "output_type": "stream",
     "text": [
      "get result for k =  70  , with algorithm =  item_based\n"
     ]
    },
    {
     "name": "stderr",
     "output_type": "stream",
     "text": [
      "100%|█████████████████████████████████████████████████████████████████████████████| 4395/4395 [00:22<00:00, 198.46it/s]\n",
      "100%|████████████████████████████████████████████████████████████████████████████| 6056/6056 [00:02<00:00, 2798.52it/s]\n",
      "100%|████████████████████████████████████████████████████████████████████████████| 6056/6056 [00:01<00:00, 5535.65it/s]\n",
      "100%|████████████████████████████████████████████████████████████████████████████| 6056/6056 [00:01<00:00, 5659.81it/s]\n",
      "100%|████████████████████████████████████████████████████████████████████████████| 6056/6056 [00:01<00:00, 5550.87it/s]\n",
      "100%|████████████████████████████████████████████████████████████████████████████| 6056/6056 [00:01<00:00, 5555.96it/s]\n",
      "100%|████████████████████████████████████████████████████████████████████████████| 6056/6056 [00:01<00:00, 5561.07it/s]\n",
      "100%|████████████████████████████████████████████████████████████████████████████| 6056/6056 [00:01<00:00, 4935.61it/s]\n"
     ]
    },
    {
     "name": "stdout",
     "output_type": "stream",
     "text": [
      "get result for k =  80  , with algorithm =  item_based\n"
     ]
    },
    {
     "name": "stderr",
     "output_type": "stream",
     "text": [
      "100%|█████████████████████████████████████████████████████████████████████████████| 4395/4395 [00:23<00:00, 183.87it/s]\n",
      "100%|████████████████████████████████████████████████████████████████████████████| 6056/6056 [00:02<00:00, 2747.73it/s]\n",
      "100%|████████████████████████████████████████████████████████████████████████████| 6056/6056 [00:01<00:00, 5576.43it/s]\n",
      "100%|████████████████████████████████████████████████████████████████████████████| 6056/6056 [00:01<00:00, 5675.73it/s]\n",
      "100%|████████████████████████████████████████████████████████████████████████████| 6056/6056 [00:01<00:00, 5446.04it/s]\n",
      "100%|████████████████████████████████████████████████████████████████████████████| 6056/6056 [00:01<00:00, 5475.59it/s]\n",
      "100%|████████████████████████████████████████████████████████████████████████████| 6056/6056 [00:01<00:00, 5421.67it/s]\n",
      "100%|████████████████████████████████████████████████████████████████████████████| 6056/6056 [00:01<00:00, 4963.93it/s]\n"
     ]
    },
    {
     "name": "stdout",
     "output_type": "stream",
     "text": [
      "get result for k =  90  , with algorithm =  item_based\n"
     ]
    },
    {
     "name": "stderr",
     "output_type": "stream",
     "text": [
      "100%|█████████████████████████████████████████████████████████████████████████████| 4395/4395 [00:26<00:00, 167.88it/s]\n",
      "100%|████████████████████████████████████████████████████████████████████████████| 6056/6056 [00:02<00:00, 2762.77it/s]\n",
      "100%|████████████████████████████████████████████████████████████████████████████| 6056/6056 [00:01<00:00, 5561.07it/s]\n",
      "100%|████████████████████████████████████████████████████████████████████████████| 6056/6056 [00:01<00:00, 5480.54it/s]\n",
      "100%|████████████████████████████████████████████████████████████████████████████| 6056/6056 [00:01<00:00, 5475.59it/s]\n",
      "100%|████████████████████████████████████████████████████████████████████████████| 6056/6056 [00:01<00:00, 5571.30it/s]\n",
      "100%|████████████████████████████████████████████████████████████████████████████| 6056/6056 [00:01<00:00, 5460.78it/s]\n",
      "100%|████████████████████████████████████████████████████████████████████████████| 6056/6056 [00:01<00:00, 4860.35it/s]\n"
     ]
    },
    {
     "name": "stdout",
     "output_type": "stream",
     "text": [
      "get result for k =  100  , with algorithm =  item_based\n"
     ]
    },
    {
     "name": "stderr",
     "output_type": "stream",
     "text": [
      "100%|█████████████████████████████████████████████████████████████████████████████| 4395/4395 [00:33<00:00, 131.26it/s]\n",
      "100%|████████████████████████████████████████████████████████████████████████████| 6056/6056 [00:02<00:00, 2925.60it/s]\n",
      "100%|████████████████████████████████████████████████████████████████████████████| 6056/6056 [00:01<00:00, 5873.91it/s]\n",
      "100%|████████████████████████████████████████████████████████████████████████████| 6056/6056 [00:01<00:00, 5902.53it/s]\n",
      "100%|████████████████████████████████████████████████████████████████████████████| 6056/6056 [00:01<00:00, 5914.06it/s]\n",
      "100%|████████████████████████████████████████████████████████████████████████████| 6056/6056 [00:01<00:00, 5891.05it/s]\n",
      "100%|████████████████████████████████████████████████████████████████████████████| 6056/6056 [00:01<00:00, 5806.33it/s]\n",
      "100%|████████████████████████████████████████████████████████████████████████████| 6056/6056 [00:01<00:00, 5202.75it/s]\n"
     ]
    },
    {
     "name": "stdout",
     "output_type": "stream",
     "text": [
      "get result for k =  150  , with algorithm =  item_based\n"
     ]
    },
    {
     "name": "stderr",
     "output_type": "stream",
     "text": [
      "100%|█████████████████████████████████████████████████████████████████████████████| 4395/4395 [00:41<00:00, 105.46it/s]\n",
      "100%|████████████████████████████████████████████████████████████████████████████| 6056/6056 [00:02<00:00, 2831.23it/s]\n",
      "100%|████████████████████████████████████████████████████████████████████████████| 6056/6056 [00:01<00:00, 5851.21it/s]\n",
      "100%|████████████████████████████████████████████████████████████████████████████| 6056/6056 [00:01<00:00, 5862.54it/s]\n",
      "100%|████████████████████████████████████████████████████████████████████████████| 6056/6056 [00:01<00:00, 5845.56it/s]\n",
      "100%|████████████████████████████████████████████████████████████████████████████| 6056/6056 [00:01<00:00, 5902.53it/s]\n",
      "100%|████████████████████████████████████████████████████████████████████████████| 6056/6056 [00:01<00:00, 5851.21it/s]\n",
      "100%|████████████████████████████████████████████████████████████████████████████| 6056/6056 [00:01<00:00, 5284.47it/s]\n"
     ]
    },
    {
     "name": "stdout",
     "output_type": "stream",
     "text": [
      "get result for k =  200  , with algorithm =  item_based\n"
     ]
    },
    {
     "name": "stderr",
     "output_type": "stream",
     "text": [
      "100%|██████████████████████████████████████████████████████████████████████████████| 4395/4395 [00:53<00:00, 82.76it/s]\n",
      "100%|████████████████████████████████████████████████████████████████████████████| 6056/6056 [00:02<00:00, 2859.30it/s]\n",
      "100%|████████████████████████████████████████████████████████████████████████████| 6056/6056 [00:01<00:00, 5868.22it/s]\n",
      "100%|████████████████████████████████████████████████████████████████████████████| 6056/6056 [00:01<00:00, 5931.44it/s]\n",
      "100%|████████████████████████████████████████████████████████████████████████████| 6056/6056 [00:01<00:00, 5862.54it/s]\n",
      "100%|████████████████████████████████████████████████████████████████████████████| 6056/6056 [00:01<00:00, 5908.29it/s]\n",
      "100%|████████████████████████████████████████████████████████████████████████████| 6056/6056 [00:01<00:00, 5784.15it/s]\n",
      "100%|████████████████████████████████████████████████████████████████████████████| 6056/6056 [00:01<00:00, 5225.19it/s]\n"
     ]
    },
    {
     "name": "stdout",
     "output_type": "stream",
     "text": [
      "get result for k =  250  , with algorithm =  item_based\n"
     ]
    },
    {
     "name": "stderr",
     "output_type": "stream",
     "text": [
      "100%|██████████████████████████████████████████████████████████████████████████████| 4395/4395 [01:02<00:00, 70.01it/s]\n",
      "100%|████████████████████████████████████████████████████████████████████████████| 6056/6056 [00:02<00:00, 2829.91it/s]\n",
      "100%|████████████████████████████████████████████████████████████████████████████| 6056/6056 [00:01<00:00, 5896.79it/s]\n",
      "100%|████████████████████████████████████████████████████████████████████████████| 6056/6056 [00:01<00:00, 5902.53it/s]\n",
      "100%|████████████████████████████████████████████████████████████████████████████| 6056/6056 [00:01<00:00, 5873.91it/s]\n",
      "100%|████████████████████████████████████████████████████████████████████████████| 6056/6056 [00:01<00:00, 5851.21it/s]\n",
      "100%|████████████████████████████████████████████████████████████████████████████| 6056/6056 [00:01<00:00, 5834.30it/s]\n",
      "100%|████████████████████████████████████████████████████████████████████████████| 6056/6056 [00:01<00:00, 5261.51it/s]\n"
     ]
    },
    {
     "name": "stdout",
     "output_type": "stream",
     "text": [
      "get result for k =  300  , with algorithm =  item_based\n"
     ]
    },
    {
     "name": "stderr",
     "output_type": "stream",
     "text": [
      "100%|██████████████████████████████████████████████████████████████████████████████| 4395/4395 [01:13<00:00, 60.07it/s]\n",
      "100%|████████████████████████████████████████████████████████████████████████████| 6056/6056 [00:02<00:00, 2816.74it/s]\n",
      "100%|████████████████████████████████████████████████████████████████████████████| 6056/6056 [00:01<00:00, 5931.44it/s]\n",
      "100%|████████████████████████████████████████████████████████████████████████████| 6056/6056 [00:01<00:00, 5868.22it/s]\n",
      "100%|████████████████████████████████████████████████████████████████████████████| 6056/6056 [00:01<00:00, 5839.92it/s]\n",
      "100%|████████████████████████████████████████████████████████████████████████████| 6056/6056 [00:01<00:00, 5767.62it/s]\n",
      "100%|████████████████████████████████████████████████████████████████████████████| 6056/6056 [00:01<00:00, 5828.68it/s]\n",
      "100%|████████████████████████████████████████████████████████████████████████████| 6056/6056 [00:01<00:00, 5279.86it/s]\n"
     ]
    },
    {
     "name": "stdout",
     "output_type": "stream",
     "text": [
      "get result for k =  350  , with algorithm =  item_based\n"
     ]
    },
    {
     "name": "stderr",
     "output_type": "stream",
     "text": [
      "100%|██████████████████████████████████████████████████████████████████████████████| 4395/4395 [01:24<00:00, 52.21it/s]\n",
      "100%|████████████████████████████████████████████████████████████████████████████| 6056/6056 [00:02<00:00, 2824.63it/s]\n",
      "100%|████████████████████████████████████████████████████████████████████████████| 6056/6056 [00:01<00:00, 5902.53it/s]\n",
      "100%|████████████████████████████████████████████████████████████████████████████| 6056/6056 [00:01<00:00, 5902.53it/s]\n",
      "100%|████████████████████████████████████████████████████████████████████████████| 6056/6056 [00:01<00:00, 5868.22it/s]\n",
      "100%|████████████████████████████████████████████████████████████████████████████| 6056/6056 [00:01<00:00, 5856.87it/s]\n",
      "100%|████████████████████████████████████████████████████████████████████████████| 6056/6056 [00:01<00:00, 5789.67it/s]\n",
      "100%|████████████████████████████████████████████████████████████████████████████| 6056/6056 [00:01<00:00, 5261.51it/s]\n"
     ]
    },
    {
     "name": "stdout",
     "output_type": "stream",
     "text": [
      "get result for k =  400  , with algorithm =  item_based\n"
     ]
    },
    {
     "name": "stderr",
     "output_type": "stream",
     "text": [
      "100%|██████████████████████████████████████████████████████████████████████████████| 4395/4395 [01:33<00:00, 47.07it/s]\n",
      "100%|████████████████████████████████████████████████████████████████████████████| 6056/6056 [00:02<00:00, 2802.41it/s]\n",
      "100%|████████████████████████████████████████████████████████████████████████████| 6056/6056 [00:01<00:00, 5919.84it/s]\n",
      "100%|████████████████████████████████████████████████████████████████████████████| 6056/6056 [00:01<00:00, 5862.54it/s]\n",
      "100%|████████████████████████████████████████████████████████████████████████████| 6056/6056 [00:01<00:00, 5873.91it/s]\n",
      "100%|████████████████████████████████████████████████████████████████████████████| 6056/6056 [00:01<00:00, 5845.56it/s]\n",
      "100%|████████████████████████████████████████████████████████████████████████████| 6056/6056 [00:01<00:00, 5817.48it/s]\n",
      "100%|████████████████████████████████████████████████████████████████████████████| 6056/6056 [00:01<00:00, 5238.75it/s]\n"
     ]
    },
    {
     "name": "stdout",
     "output_type": "stream",
     "text": [
      "get result for k =  450  , with algorithm =  item_based\n"
     ]
    },
    {
     "name": "stderr",
     "output_type": "stream",
     "text": [
      "100%|██████████████████████████████████████████████████████████████████████████████| 4395/4395 [01:48<00:00, 40.63it/s]\n",
      "100%|████████████████████████████████████████████████████████████████████████████| 6056/6056 [00:02<00:00, 2815.43it/s]\n",
      "100%|████████████████████████████████████████████████████████████████████████████| 6056/6056 [00:01<00:00, 5943.08it/s]\n",
      "100%|████████████████████████████████████████████████████████████████████████████| 6056/6056 [00:01<00:00, 5465.70it/s]\n",
      "100%|████████████████████████████████████████████████████████████████████████████| 6056/6056 [00:01<00:00, 5623.03it/s]\n",
      "100%|████████████████████████████████████████████████████████████████████████████| 6056/6056 [00:01<00:00, 5535.65it/s]\n",
      "100%|████████████████████████████████████████████████████████████████████████████| 6056/6056 [00:01<00:00, 5839.92it/s]\n",
      "100%|████████████████████████████████████████████████████████████████████████████| 6056/6056 [00:01<00:00, 5270.67it/s]\n"
     ]
    },
    {
     "name": "stdout",
     "output_type": "stream",
     "text": [
      "get result for k =  500  , with algorithm =  item_based\n"
     ]
    },
    {
     "name": "stderr",
     "output_type": "stream",
     "text": [
      "100%|██████████████████████████████████████████████████████████████████████████████| 4395/4395 [02:12<00:00, 33.18it/s]\n",
      "100%|████████████████████████████████████████████████████████████████████████████| 6056/6056 [00:02<00:00, 2836.53it/s]\n",
      "100%|████████████████████████████████████████████████████████████████████████████| 6056/6056 [00:01<00:00, 5931.44it/s]\n",
      "100%|████████████████████████████████████████████████████████████████████████████| 6056/6056 [00:01<00:00, 5834.30it/s]\n",
      "100%|████████████████████████████████████████████████████████████████████████████| 6056/6056 [00:01<00:00, 5873.91it/s]\n",
      "100%|████████████████████████████████████████████████████████████████████████████| 6056/6056 [00:01<00:00, 5943.08it/s]\n",
      "100%|████████████████████████████████████████████████████████████████████████████| 6056/6056 [00:01<00:00, 5862.54it/s]\n",
      "100%|████████████████████████████████████████████████████████████████████████████| 6056/6056 [00:01<00:00, 5289.08it/s]\n"
     ]
    },
    {
     "name": "stdout",
     "output_type": "stream",
     "text": [
      "get result for k =  600  , with algorithm =  item_based\n"
     ]
    },
    {
     "name": "stderr",
     "output_type": "stream",
     "text": [
      "100%|██████████████████████████████████████████████████████████████████████████████| 4395/4395 [02:31<00:00, 29.06it/s]\n",
      "100%|████████████████████████████████████████████████████████████████████████████| 6056/6056 [00:02<00:00, 2557.43it/s]\n",
      "100%|████████████████████████████████████████████████████████████████████████████| 6056/6056 [00:01<00:00, 5475.59it/s]\n",
      "100%|████████████████████████████████████████████████████████████████████████████| 6056/6056 [00:01<00:00, 5330.99it/s]\n",
      "100%|████████████████████████████████████████████████████████████████████████████| 6056/6056 [00:01<00:00, 5373.56it/s]\n",
      "100%|████████████████████████████████████████████████████████████████████████████| 6056/6056 [00:01<00:00, 5724.01it/s]\n",
      "100%|████████████████████████████████████████████████████████████████████████████| 6056/6056 [00:01<00:00, 5649.25it/s]\n",
      "100%|████████████████████████████████████████████████████████████████████████████| 6056/6056 [00:01<00:00, 5216.19it/s]\n"
     ]
    },
    {
     "name": "stdout",
     "output_type": "stream",
     "text": [
      "get result for k =  700  , with algorithm =  item_based\n"
     ]
    },
    {
     "name": "stderr",
     "output_type": "stream",
     "text": [
      "100%|██████████████████████████████████████████████████████████████████████████████| 4395/4395 [02:56<00:00, 24.96it/s]\n",
      "100%|████████████████████████████████████████████████████████████████████████████| 6056/6056 [00:02<00:00, 2820.68it/s]\n",
      "100%|████████████████████████████████████████████████████████████████████████████| 6056/6056 [00:01<00:00, 5925.64it/s]\n",
      "100%|████████████████████████████████████████████████████████████████████████████| 6056/6056 [00:01<00:00, 5845.56it/s]\n",
      "100%|████████████████████████████████████████████████████████████████████████████| 6056/6056 [00:01<00:00, 5914.06it/s]\n",
      "100%|████████████████████████████████████████████████████████████████████████████| 6056/6056 [00:01<00:00, 5806.33it/s]\n",
      "100%|████████████████████████████████████████████████████████████████████████████| 6056/6056 [00:01<00:00, 5756.65it/s]\n",
      "100%|████████████████████████████████████████████████████████████████████████████| 6056/6056 [00:01<00:00, 5225.19it/s]\n"
     ]
    },
    {
     "name": "stdout",
     "output_type": "stream",
     "text": [
      "get result for k =  800  , with algorithm =  item_based\n"
     ]
    },
    {
     "name": "stderr",
     "output_type": "stream",
     "text": [
      "100%|██████████████████████████████████████████████████████████████████████████████| 4395/4395 [03:08<00:00, 22.96it/s]\n",
      "100%|████████████████████████████████████████████████████████████████████████████| 6056/6056 [00:02<00:00, 2795.94it/s]\n",
      "100%|████████████████████████████████████████████████████████████████████████████| 6056/6056 [00:01<00:00, 5891.05it/s]\n",
      "100%|████████████████████████████████████████████████████████████████████████████| 6056/6056 [00:01<00:00, 5868.22it/s]\n",
      "100%|████████████████████████████████████████████████████████████████████████████| 6056/6056 [00:01<00:00, 5795.21it/s]\n",
      "100%|████████████████████████████████████████████████████████████████████████████| 6056/6056 [00:01<00:00, 5581.57it/s]\n",
      "100%|████████████████████████████████████████████████████████████████████████████| 6056/6056 [00:01<00:00, 5612.60it/s]\n",
      "100%|████████████████████████████████████████████████████████████████████████████| 6056/6056 [00:01<00:00, 5154.04it/s]\n"
     ]
    },
    {
     "name": "stdout",
     "output_type": "stream",
     "text": [
      "get result for k =  900  , with algorithm =  item_based\n"
     ]
    },
    {
     "name": "stderr",
     "output_type": "stream",
     "text": [
      "100%|██████████████████████████████████████████████████████████████████████████████| 4395/4395 [03:26<00:00, 19.82it/s]\n",
      "100%|████████████████████████████████████████████████████████████████████████████| 6056/6056 [00:02<00:00, 2474.87it/s]\n",
      "100%|████████████████████████████████████████████████████████████████████████████| 6056/6056 [00:01<00:00, 5411.98it/s]\n",
      "100%|████████████████████████████████████████████████████████████████████████████| 6056/6056 [00:01<00:00, 5426.52it/s]\n",
      "100%|████████████████████████████████████████████████████████████████████████████| 6056/6056 [00:01<00:00, 5460.78it/s]\n",
      "100%|████████████████████████████████████████████████████████████████████████████| 6056/6056 [00:01<00:00, 5345.10it/s]\n",
      "100%|████████████████████████████████████████████████████████████████████████████| 6056/6056 [00:01<00:00, 5106.24it/s]\n",
      "100%|████████████████████████████████████████████████████████████████████████████| 6056/6056 [00:01<00:00, 4587.88it/s]\n"
     ]
    },
    {
     "name": "stdout",
     "output_type": "stream",
     "text": [
      "get result for k =  1000  , with algorithm =  item_based\n"
     ]
    }
   ],
   "source": [
    "hyper_parameter_tuning(rtrain, rvalid, 'knn_tunning_final_2000.csv', I_K2000, U_K2000)"
   ]
  },
  {
   "cell_type": "code",
   "execution_count": 76,
   "metadata": {
    "scrolled": true
   },
   "outputs": [
    {
     "name": "stderr",
     "output_type": "stream",
     "text": [
      "100%|█████████████████████████████████████████████████████████████████████████████| 4395/4395 [00:06<00:00, 687.69it/s]\n",
      "100%|████████████████████████████████████████████████████████████████████████████| 6056/6056 [00:02<00:00, 2714.48it/s]\n",
      "100%|████████████████████████████████████████████████████████████████████████████| 6056/6056 [00:01<00:00, 4947.71it/s]\n",
      "100%|████████████████████████████████████████████████████████████████████████████| 6056/6056 [00:01<00:00, 4972.09it/s]\n",
      "100%|████████████████████████████████████████████████████████████████████████████| 6056/6056 [00:01<00:00, 5302.98it/s]\n",
      "100%|████████████████████████████████████████████████████████████████████████████| 6056/6056 [00:01<00:00, 5067.78it/s]\n",
      "100%|████████████████████████████████████████████████████████████████████████████| 6056/6056 [00:01<00:00, 4532.93it/s]\n",
      "100%|████████████████████████████████████████████████████████████████████████████| 6056/6056 [00:01<00:00, 4401.16it/s]\n"
     ]
    },
    {
     "name": "stdout",
     "output_type": "stream",
     "text": [
      "get result for k =  10  , with algorithm =  item_based\n"
     ]
    },
    {
     "name": "stderr",
     "output_type": "stream",
     "text": [
      "100%|█████████████████████████████████████████████████████████████████████████████| 4395/4395 [00:07<00:00, 596.09it/s]\n",
      "100%|████████████████████████████████████████████████████████████████████████████| 6056/6056 [00:02<00:00, 2864.71it/s]\n",
      "100%|████████████████████████████████████████████████████████████████████████████| 6056/6056 [00:01<00:00, 5500.45it/s]\n",
      "100%|████████████████████████████████████████████████████████████████████████████| 6056/6056 [00:01<00:00, 5545.79it/s]\n",
      "100%|████████████████████████████████████████████████████████████████████████████| 6056/6056 [00:01<00:00, 5581.57it/s]\n",
      "100%|████████████████████████████████████████████████████████████████████████████| 6056/6056 [00:01<00:00, 5566.18it/s]\n",
      "100%|████████████████████████████████████████████████████████████████████████████| 6056/6056 [00:01<00:00, 5520.51it/s]\n",
      "100%|████████████████████████████████████████████████████████████████████████████| 6056/6056 [00:01<00:00, 5021.56it/s]\n"
     ]
    },
    {
     "name": "stdout",
     "output_type": "stream",
     "text": [
      "get result for k =  20  , with algorithm =  item_based\n"
     ]
    },
    {
     "name": "stderr",
     "output_type": "stream",
     "text": [
      "100%|█████████████████████████████████████████████████████████████████████████████| 4395/4395 [00:10<00:00, 415.41it/s]\n",
      "100%|████████████████████████████████████████████████████████████████████████████| 6056/6056 [00:02<00:00, 2766.56it/s]\n",
      "100%|████████████████████████████████████████████████████████████████████████████| 6056/6056 [00:01<00:00, 5335.68it/s]\n",
      "100%|████████████████████████████████████████████████████████████████████████████| 6056/6056 [00:01<00:00, 5505.46it/s]\n",
      "100%|████████████████████████████████████████████████████████████████████████████| 6056/6056 [00:01<00:00, 5597.04it/s]\n",
      "100%|████████████████████████████████████████████████████████████████████████████| 6056/6056 [00:01<00:00, 5298.34it/s]\n",
      "100%|████████████████████████████████████████████████████████████████████████████| 6056/6056 [00:01<00:00, 5392.70it/s]\n",
      "100%|████████████████████████████████████████████████████████████████████████████| 6056/6056 [00:01<00:00, 4931.60it/s]\n"
     ]
    },
    {
     "name": "stdout",
     "output_type": "stream",
     "text": [
      "get result for k =  30  , with algorithm =  item_based\n"
     ]
    },
    {
     "name": "stderr",
     "output_type": "stream",
     "text": [
      "100%|█████████████████████████████████████████████████████████████████████████████| 4395/4395 [00:12<00:00, 352.36it/s]\n",
      "100%|████████████████████████████████████████████████████████████████████████████| 6056/6056 [00:02<00:00, 2914.34it/s]\n",
      "100%|████████████████████████████████████████████████████████████████████████████| 6056/6056 [00:01<00:00, 5670.41it/s]\n",
      "100%|████████████████████████████████████████████████████████████████████████████| 6056/6056 [00:01<00:00, 5675.73it/s]\n",
      "100%|████████████████████████████████████████████████████████████████████████████| 6056/6056 [00:01<00:00, 5697.08it/s]\n",
      "100%|████████████████████████████████████████████████████████████████████████████| 6056/6056 [00:01<00:00, 5659.81it/s]\n",
      "100%|████████████████████████████████████████████████████████████████████████████| 6056/6056 [00:01<00:00, 5638.73it/s]\n",
      "100%|████████████████████████████████████████████████████████████████████████████| 6056/6056 [00:01<00:00, 5072.03it/s]\n"
     ]
    },
    {
     "name": "stdout",
     "output_type": "stream",
     "text": [
      "get result for k =  40  , with algorithm =  item_based\n"
     ]
    },
    {
     "name": "stderr",
     "output_type": "stream",
     "text": [
      "100%|█████████████████████████████████████████████████████████████████████████████| 4395/4395 [00:15<00:00, 286.90it/s]\n",
      "100%|████████████████████████████████████████████████████████████████████████████| 6056/6056 [00:02<00:00, 2919.96it/s]\n",
      "100%|████████████████████████████████████████████████████████████████████████████| 6056/6056 [00:01<00:00, 5649.25it/s]\n",
      "100%|████████████████████████████████████████████████████████████████████████████| 6056/6056 [00:01<00:00, 5628.25it/s]\n",
      "100%|████████████████████████████████████████████████████████████████████████████| 6056/6056 [00:01<00:00, 5441.15it/s]\n",
      "100%|████████████████████████████████████████████████████████████████████████████| 6056/6056 [00:01<00:00, 5591.87it/s]\n",
      "100%|████████████████████████████████████████████████████████████████████████████| 6056/6056 [00:01<00:00, 5597.04it/s]\n",
      "100%|████████████████████████████████████████████████████████████████████████████| 6056/6056 [00:01<00:00, 5034.08it/s]\n"
     ]
    },
    {
     "name": "stdout",
     "output_type": "stream",
     "text": [
      "get result for k =  50  , with algorithm =  item_based\n"
     ]
    },
    {
     "name": "stderr",
     "output_type": "stream",
     "text": [
      "100%|█████████████████████████████████████████████████████████████████████████████| 4395/4395 [00:17<00:00, 255.15it/s]\n",
      "100%|████████████████████████████████████████████████████████████████████████████| 6056/6056 [00:02<00:00, 2897.61it/s]\n",
      "100%|████████████████████████████████████████████████████████████████████████████| 6056/6056 [00:01<00:00, 5649.25it/s]\n",
      "100%|████████████████████████████████████████████████████████████████████████████| 6056/6056 [00:01<00:00, 5686.38it/s]\n",
      "100%|████████████████████████████████████████████████████████████████████████████| 6056/6056 [00:01<00:00, 5525.55it/s]\n",
      "100%|████████████████████████████████████████████████████████████████████████████| 6056/6056 [00:01<00:00, 5724.01it/s]\n",
      "100%|████████████████████████████████████████████████████████████████████████████| 6056/6056 [00:01<00:00, 5617.81it/s]\n",
      "100%|████████████████████████████████████████████████████████████████████████████| 6056/6056 [00:01<00:00, 5093.36it/s]\n"
     ]
    },
    {
     "name": "stdout",
     "output_type": "stream",
     "text": [
      "get result for k =  60  , with algorithm =  item_based\n"
     ]
    },
    {
     "name": "stderr",
     "output_type": "stream",
     "text": [
      "100%|█████████████████████████████████████████████████████████████████████████████| 4395/4395 [00:19<00:00, 226.65it/s]\n",
      "100%|████████████████████████████████████████████████████████████████████████████| 6056/6056 [00:02<00:00, 2901.77it/s]\n",
      "100%|████████████████████████████████████████████████████████████████████████████| 6056/6056 [00:01<00:00, 5745.73it/s]\n",
      "100%|████████████████████████████████████████████████████████████████████████████| 6056/6056 [00:01<00:00, 5633.49it/s]\n",
      "100%|████████████████████████████████████████████████████████████████████████████| 6056/6056 [00:01<00:00, 5229.71it/s]\n",
      "100%|████████████████████████████████████████████████████████████████████████████| 6056/6056 [00:01<00:00, 5586.72it/s]\n",
      "100%|████████████████████████████████████████████████████████████████████████████| 6056/6056 [00:01<00:00, 5510.46it/s]\n",
      "100%|████████████████████████████████████████████████████████████████████████████| 6056/6056 [00:01<00:00, 4939.64it/s]\n"
     ]
    },
    {
     "name": "stdout",
     "output_type": "stream",
     "text": [
      "get result for k =  70  , with algorithm =  item_based\n"
     ]
    },
    {
     "name": "stderr",
     "output_type": "stream",
     "text": [
      "100%|█████████████████████████████████████████████████████████████████████████████| 4395/4395 [00:22<00:00, 198.22it/s]\n",
      "100%|████████████████████████████████████████████████████████████████████████████| 6056/6056 [00:02<00:00, 2774.16it/s]\n",
      "100%|████████████████████████████████████████████████████████████████████████████| 6056/6056 [00:01<00:00, 5520.51it/s]\n",
      "100%|████████████████████████████████████████████████████████████████████████████| 6056/6056 [00:01<00:00, 5586.72it/s]\n",
      "100%|████████████████████████████████████████████████████████████████████████████| 6056/6056 [00:01<00:00, 5555.96it/s]\n",
      "100%|████████████████████████████████████████████████████████████████████████████| 6056/6056 [00:01<00:00, 5550.87it/s]\n",
      "100%|████████████████████████████████████████████████████████████████████████████| 6056/6056 [00:01<00:00, 5431.39it/s]\n",
      "100%|████████████████████████████████████████████████████████████████████████████| 6056/6056 [00:01<00:00, 4903.64it/s]\n"
     ]
    },
    {
     "name": "stdout",
     "output_type": "stream",
     "text": [
      "get result for k =  80  , with algorithm =  item_based\n"
     ]
    },
    {
     "name": "stderr",
     "output_type": "stream",
     "text": [
      "100%|█████████████████████████████████████████████████████████████████████████████| 4395/4395 [00:23<00:00, 185.04it/s]\n",
      "100%|████████████████████████████████████████████████████████████████████████████| 6056/6056 [00:02<00:00, 2823.31it/s]\n",
      "100%|████████████████████████████████████████████████████████████████████████████| 6056/6056 [00:01<00:00, 5681.05it/s]\n",
      "100%|████████████████████████████████████████████████████████████████████████████| 6056/6056 [00:01<00:00, 5515.48it/s]\n",
      "100%|████████████████████████████████████████████████████████████████████████████| 6056/6056 [00:01<00:00, 5540.71it/s]\n",
      "100%|████████████████████████████████████████████████████████████████████████████| 6056/6056 [00:01<00:00, 5540.71it/s]\n",
      "100%|████████████████████████████████████████████████████████████████████████████| 6056/6056 [00:01<00:00, 5349.82it/s]\n",
      "100%|████████████████████████████████████████████████████████████████████████████| 6056/6056 [00:01<00:00, 4860.35it/s]\n"
     ]
    },
    {
     "name": "stdout",
     "output_type": "stream",
     "text": [
      "get result for k =  90  , with algorithm =  item_based\n"
     ]
    },
    {
     "name": "stderr",
     "output_type": "stream",
     "text": [
      "100%|█████████████████████████████████████████████████████████████████████████████| 4395/4395 [00:25<00:00, 169.56it/s]\n",
      "100%|████████████████████████████████████████████████████████████████████████████| 6056/6056 [00:02<00:00, 2805.00it/s]\n",
      "100%|████████████████████████████████████████████████████████████████████████████| 6056/6056 [00:01<00:00, 5597.04it/s]\n",
      "100%|████████████████████████████████████████████████████████████████████████████| 6056/6056 [00:01<00:00, 5545.79it/s]\n",
      "100%|████████████████████████████████████████████████████████████████████████████| 6056/6056 [00:01<00:00, 5540.71it/s]\n",
      "100%|████████████████████████████████████████████████████████████████████████████| 6056/6056 [00:01<00:00, 5500.45it/s]\n",
      "100%|████████████████████████████████████████████████████████████████████████████| 6056/6056 [00:01<00:00, 5402.32it/s]\n",
      "100%|████████████████████████████████████████████████████████████████████████████| 6056/6056 [00:01<00:00, 4821.66it/s]\n"
     ]
    },
    {
     "name": "stdout",
     "output_type": "stream",
     "text": [
      "get result for k =  100  , with algorithm =  item_based\n"
     ]
    },
    {
     "name": "stderr",
     "output_type": "stream",
     "text": [
      "100%|█████████████████████████████████████████████████████████████████████████████| 4395/4395 [00:36<00:00, 121.82it/s]\n",
      "100%|████████████████████████████████████████████████████████████████████████████| 6056/6056 [00:02<00:00, 2755.23it/s]\n",
      "100%|████████████████████████████████████████████████████████████████████████████| 6056/6056 [00:01<00:00, 5670.41it/s]\n",
      "100%|████████████████████████████████████████████████████████████████████████████| 6056/6056 [00:01<00:00, 5485.51it/s]\n",
      "100%|████████████████████████████████████████████████████████████████████████████| 6056/6056 [00:01<00:00, 5586.72it/s]\n",
      "100%|████████████████████████████████████████████████████████████████████████████| 6056/6056 [00:01<00:00, 5571.30it/s]\n",
      "100%|████████████████████████████████████████████████████████████████████████████| 6056/6056 [00:01<00:00, 5460.77it/s]\n",
      "100%|████████████████████████████████████████████████████████████████████████████| 6056/6056 [00:01<00:00, 4899.68it/s]\n"
     ]
    },
    {
     "name": "stdout",
     "output_type": "stream",
     "text": [
      "get result for k =  150  , with algorithm =  item_based\n"
     ]
    },
    {
     "name": "stderr",
     "output_type": "stream",
     "text": [
      "100%|██████████████████████████████████████████████████████████████████████████████| 4395/4395 [00:46<00:00, 93.96it/s]\n",
      "100%|████████████████████████████████████████████████████████████████████████████| 6056/6056 [00:02<00:00, 2604.73it/s]\n",
      "100%|████████████████████████████████████████████████████████████████████████████| 6056/6056 [00:01<00:00, 5063.54it/s]\n",
      "100%|████████████████████████████████████████████████████████████████████████████| 6056/6056 [00:01<00:00, 4947.71it/s]\n",
      "100%|████████████████████████████████████████████████████████████████████████████| 6056/6056 [00:01<00:00, 5013.25it/s]\n",
      "100%|████████████████████████████████████████████████████████████████████████████| 6056/6056 [00:01<00:00, 5270.67it/s]\n",
      "100%|████████████████████████████████████████████████████████████████████████████| 6056/6056 [00:01<00:00, 5392.70it/s]\n",
      "100%|████████████████████████████████████████████████████████████████████████████| 6056/6056 [00:01<00:00, 4947.71it/s]\n"
     ]
    },
    {
     "name": "stdout",
     "output_type": "stream",
     "text": [
      "get result for k =  200  , with algorithm =  item_based\n"
     ]
    },
    {
     "name": "stderr",
     "output_type": "stream",
     "text": [
      "100%|██████████████████████████████████████████████████████████████████████████████| 4395/4395 [00:57<00:00, 75.87it/s]\n",
      "100%|████████████████████████████████████████████████████████████████████████████| 6056/6056 [00:02<00:00, 2759.00it/s]\n",
      "100%|████████████████████████████████████████████████████████████████████████████| 6056/6056 [00:01<00:00, 5628.25it/s]\n",
      "100%|████████████████████████████████████████████████████████████████████████████| 6056/6056 [00:01<00:00, 5633.49it/s]\n",
      "100%|████████████████████████████████████████████████████████████████████████████| 6056/6056 [00:01<00:00, 5633.49it/s]\n",
      "100%|████████████████████████████████████████████████████████████████████████████| 6056/6056 [00:01<00:00, 5638.73it/s]\n",
      "100%|████████████████████████████████████████████████████████████████████████████| 6056/6056 [00:01<00:00, 5571.30it/s]\n",
      "100%|████████████████████████████████████████████████████████████████████████████| 6056/6056 [00:01<00:00, 4968.01it/s]\n"
     ]
    },
    {
     "name": "stdout",
     "output_type": "stream",
     "text": [
      "get result for k =  250  , with algorithm =  item_based\n"
     ]
    },
    {
     "name": "stderr",
     "output_type": "stream",
     "text": [
      "100%|██████████████████████████████████████████████████████████████████████████████| 4395/4395 [01:08<00:00, 63.95it/s]\n",
      "100%|████████████████████████████████████████████████████████████████████████████| 6056/6056 [00:02<00:00, 2721.80it/s]\n",
      "100%|████████████████████████████████████████████████████████████████████████████| 6056/6056 [00:01<00:00, 5649.25it/s]\n",
      "100%|████████████████████████████████████████████████████████████████████████████| 6056/6056 [00:01<00:00, 5681.05it/s]\n",
      "100%|████████████████████████████████████████████████████████████████████████████| 6056/6056 [00:01<00:00, 5628.25it/s]\n",
      "100%|████████████████████████████████████████████████████████████████████████████| 6056/6056 [00:01<00:00, 5602.22it/s]\n",
      "100%|████████████████████████████████████████████████████████████████████████████| 6056/6056 [00:01<00:00, 5571.30it/s]\n",
      "100%|████████████████████████████████████████████████████████████████████████████| 6056/6056 [00:01<00:00, 5059.31it/s]\n"
     ]
    },
    {
     "name": "stdout",
     "output_type": "stream",
     "text": [
      "get result for k =  300  , with algorithm =  item_based\n"
     ]
    },
    {
     "name": "stderr",
     "output_type": "stream",
     "text": [
      "100%|██████████████████████████████████████████████████████████████████████████████| 4395/4395 [01:19<00:00, 55.31it/s]\n",
      "100%|████████████████████████████████████████████████████████████████████████████| 6056/6056 [00:02<00:00, 2702.37it/s]\n",
      "100%|████████████████████████████████████████████████████████████████████████████| 6056/6056 [00:01<00:00, 5628.25it/s]\n",
      "100%|████████████████████████████████████████████████████████████████████████████| 6056/6056 [00:01<00:00, 5670.41it/s]\n",
      "100%|████████████████████████████████████████████████████████████████████████████| 6056/6056 [00:01<00:00, 5581.57it/s]\n",
      "100%|████████████████████████████████████████████████████████████████████████████| 6056/6056 [00:01<00:00, 5612.60it/s]\n",
      "100%|████████████████████████████████████████████████████████████████████████████| 6056/6056 [00:01<00:00, 5571.30it/s]\n",
      "100%|████████████████████████████████████████████████████████████████████████████| 6056/6056 [00:01<00:00, 5025.73it/s]\n"
     ]
    },
    {
     "name": "stdout",
     "output_type": "stream",
     "text": [
      "get result for k =  350  , with algorithm =  item_based\n"
     ]
    },
    {
     "name": "stderr",
     "output_type": "stream",
     "text": [
      "100%|██████████████████████████████████████████████████████████████████████████████| 4395/4395 [01:30<00:00, 48.76it/s]\n",
      "100%|████████████████████████████████████████████████████████████████████████████| 6056/6056 [00:02<00:00, 2692.75it/s]\n",
      "100%|████████████████████████████████████████████████████████████████████████████| 6056/6056 [00:01<00:00, 5654.53it/s]\n",
      "100%|████████████████████████████████████████████████████████████████████████████| 6056/6056 [00:01<00:00, 5633.49it/s]\n",
      "100%|████████████████████████████████████████████████████████████████████████████| 6056/6056 [00:01<00:00, 5643.99it/s]\n",
      "100%|████████████████████████████████████████████████████████████████████████████| 6056/6056 [00:01<00:00, 5686.39it/s]\n",
      "100%|████████████████████████████████████████████████████████████████████████████| 6056/6056 [00:01<00:00, 5561.07it/s]\n",
      "100%|████████████████████████████████████████████████████████████████████████████| 6056/6056 [00:01<00:00, 5055.09it/s]\n"
     ]
    },
    {
     "name": "stdout",
     "output_type": "stream",
     "text": [
      "get result for k =  400  , with algorithm =  item_based\n"
     ]
    },
    {
     "name": "stderr",
     "output_type": "stream",
     "text": [
      "100%|██████████████████████████████████████████████████████████████████████████████| 4395/4395 [01:42<00:00, 43.08it/s]\n",
      "100%|████████████████████████████████████████████████████████████████████████████| 6056/6056 [00:02<00:00, 2223.20it/s]\n",
      "100%|████████████████████████████████████████████████████████████████████████████| 6056/6056 [00:01<00:00, 4753.53it/s]\n",
      "100%|████████████████████████████████████████████████████████████████████████████| 6056/6056 [00:01<00:00, 5284.47it/s]\n",
      "100%|████████████████████████████████████████████████████████████████████████████| 6056/6056 [00:01<00:00, 5154.04it/s]\n",
      "100%|████████████████████████████████████████████████████████████████████████████| 6056/6056 [00:01<00:00, 5229.71it/s]\n",
      "100%|████████████████████████████████████████████████████████████████████████████| 6056/6056 [00:01<00:00, 5510.46it/s]\n",
      "100%|████████████████████████████████████████████████████████████████████████████| 6056/6056 [00:01<00:00, 4868.17it/s]\n"
     ]
    },
    {
     "name": "stdout",
     "output_type": "stream",
     "text": [
      "get result for k =  450  , with algorithm =  item_based\n"
     ]
    },
    {
     "name": "stderr",
     "output_type": "stream",
     "text": [
      "100%|██████████████████████████████████████████████████████████████████████████████| 4395/4395 [01:53<00:00, 39.45it/s]\n",
      "100%|████████████████████████████████████████████████████████████████████████████| 6056/6056 [00:02<00:00, 2712.05it/s]\n",
      "100%|████████████████████████████████████████████████████████████████████████████| 6056/6056 [00:01<00:00, 5643.99it/s]\n",
      "100%|████████████████████████████████████████████████████████████████████████████| 6056/6056 [00:01<00:00, 5659.81it/s]\n",
      "100%|████████████████████████████████████████████████████████████████████████████| 6056/6056 [00:01<00:00, 5681.05it/s]\n",
      "100%|████████████████████████████████████████████████████████████████████████████| 6056/6056 [00:01<00:00, 5581.57it/s]\n",
      "100%|████████████████████████████████████████████████████████████████████████████| 6056/6056 [00:01<00:00, 5530.59it/s]\n",
      "100%|████████████████████████████████████████████████████████████████████████████| 6056/6056 [00:01<00:00, 5017.40it/s]\n"
     ]
    },
    {
     "name": "stdout",
     "output_type": "stream",
     "text": [
      "get result for k =  500  , with algorithm =  item_based\n"
     ]
    },
    {
     "name": "stderr",
     "output_type": "stream",
     "text": [
      "100%|██████████████████████████████████████████████████████████████████████████████| 4395/4395 [02:13<00:00, 32.90it/s]\n",
      "100%|████████████████████████████████████████████████████████████████████████████| 6056/6056 [00:02<00:00, 2680.83it/s]\n",
      "100%|████████████████████████████████████████████████████████████████████████████| 6056/6056 [00:01<00:00, 5550.87it/s]\n",
      "100%|████████████████████████████████████████████████████████████████████████████| 6056/6056 [00:01<00:00, 5649.25it/s]\n",
      "100%|████████████████████████████████████████████████████████████████████████████| 6056/6056 [00:01<00:00, 5612.60it/s]\n",
      "100%|████████████████████████████████████████████████████████████████████████████| 6056/6056 [00:01<00:00, 5612.60it/s]\n",
      "100%|████████████████████████████████████████████████████████████████████████████| 6056/6056 [00:01<00:00, 5530.59it/s]\n",
      "100%|████████████████████████████████████████████████████████████████████████████| 6056/6056 [00:01<00:00, 5059.31it/s]\n"
     ]
    },
    {
     "name": "stdout",
     "output_type": "stream",
     "text": [
      "get result for k =  600  , with algorithm =  item_based\n"
     ]
    },
    {
     "name": "stderr",
     "output_type": "stream",
     "text": [
      "100%|██████████████████████████████████████████████████████████████████████████████| 4395/4395 [02:34<00:00, 28.59it/s]\n",
      "100%|████████████████████████████████████████████████████████████████████████████| 6056/6056 [00:02<00:00, 2727.93it/s]\n",
      "100%|████████████████████████████████████████████████████████████████████████████| 6056/6056 [00:01<00:00, 5713.21it/s]\n",
      "100%|████████████████████████████████████████████████████████████████████████████| 6056/6056 [00:01<00:00, 5686.38it/s]\n",
      "100%|████████████████████████████████████████████████████████████████████████████| 6056/6056 [00:01<00:00, 5628.25it/s]\n",
      "100%|████████████████████████████████████████████████████████████████████████████| 6056/6056 [00:01<00:00, 5607.41it/s]\n",
      "100%|████████████████████████████████████████████████████████████████████████████| 6056/6056 [00:01<00:00, 5607.41it/s]\n",
      "100%|████████████████████████████████████████████████████████████████████████████| 6056/6056 [00:01<00:00, 5021.56it/s]\n"
     ]
    },
    {
     "name": "stdout",
     "output_type": "stream",
     "text": [
      "get result for k =  700  , with algorithm =  item_based\n"
     ]
    },
    {
     "name": "stderr",
     "output_type": "stream",
     "text": [
      "100%|██████████████████████████████████████████████████████████████████████████████| 4395/4395 [03:01<00:00, 19.20it/s]\n",
      "100%|████████████████████████████████████████████████████████████████████████████| 6056/6056 [00:03<00:00, 1982.32it/s]\n",
      "100%|████████████████████████████████████████████████████████████████████████████| 6056/6056 [00:01<00:00, 5063.54it/s]\n",
      "100%|████████████████████████████████████████████████████████████████████████████| 6056/6056 [00:01<00:00, 5184.93it/s]\n",
      "100%|████████████████████████████████████████████████████████████████████████████| 6056/6056 [00:01<00:00, 4519.40it/s]\n",
      "100%|████████████████████████████████████████████████████████████████████████████| 6056/6056 [00:01<00:00, 4931.60it/s]\n",
      "100%|████████████████████████████████████████████████████████████████████████████| 6056/6056 [00:01<00:00, 4738.65it/s]\n",
      "100%|████████████████████████████████████████████████████████████████████████████| 6056/6056 [00:01<00:00, 4598.33it/s]\n"
     ]
    },
    {
     "name": "stdout",
     "output_type": "stream",
     "text": [
      "get result for k =  800  , with algorithm =  item_based\n"
     ]
    },
    {
     "name": "stderr",
     "output_type": "stream",
     "text": [
      "100%|██████████████████████████████████████████████████████████████████████████████| 4395/4395 [03:23<00:00, 22.60it/s]\n",
      "100%|████████████████████████████████████████████████████████████████████████████| 6056/6056 [00:02<00:00, 2680.83it/s]\n",
      "100%|████████████████████████████████████████████████████████████████████████████| 6056/6056 [00:01<00:00, 5545.79it/s]\n",
      "100%|████████████████████████████████████████████████████████████████████████████| 6056/6056 [00:01<00:00, 5525.55it/s]\n",
      "100%|████████████████████████████████████████████████████████████████████████████| 6056/6056 [00:01<00:00, 5550.87it/s]\n",
      "100%|████████████████████████████████████████████████████████████████████████████| 6056/6056 [00:01<00:00, 5555.96it/s]\n",
      "100%|████████████████████████████████████████████████████████████████████████████| 6056/6056 [00:01<00:00, 5525.55it/s]\n",
      "100%|████████████████████████████████████████████████████████████████████████████| 6056/6056 [00:01<00:00, 4972.09it/s]\n"
     ]
    },
    {
     "name": "stdout",
     "output_type": "stream",
     "text": [
      "get result for k =  900  , with algorithm =  item_based\n"
     ]
    },
    {
     "name": "stderr",
     "output_type": "stream",
     "text": [
      "100%|██████████████████████████████████████████████████████████████████████████████| 4395/4395 [03:33<00:00, 20.58it/s]\n",
      "100%|████████████████████████████████████████████████████████████████████████████| 6056/6056 [00:02<00:00, 2752.73it/s]\n",
      "100%|████████████████████████████████████████████████████████████████████████████| 6056/6056 [00:01<00:00, 4996.70it/s]\n",
      "100%|████████████████████████████████████████████████████████████████████████████| 6056/6056 [00:01<00:00, 4903.64it/s]\n",
      "100%|████████████████████████████████████████████████████████████████████████████| 6056/6056 [00:01<00:00, 4899.68it/s]\n",
      "100%|████████████████████████████████████████████████████████████████████████████| 6056/6056 [00:01<00:00, 5220.69it/s]\n",
      "100%|████████████████████████████████████████████████████████████████████████████| 6056/6056 [00:01<00:00, 5149.66it/s]\n",
      "100%|████████████████████████████████████████████████████████████████████████████| 6056/6056 [00:01<00:00, 4716.51it/s]\n"
     ]
    },
    {
     "name": "stdout",
     "output_type": "stream",
     "text": [
      "get result for k =  1000  , with algorithm =  item_based\n"
     ]
    },
    {
     "name": "stderr",
     "output_type": "stream",
     "text": [
      "100%|████████████████████████████████████████████████████████████████████████████| 6056/6056 [00:05<00:00, 1088.03it/s]\n",
      "100%|████████████████████████████████████████████████████████████████████████████| 6056/6056 [00:01<00:00, 3128.10it/s]\n",
      "100%|████████████████████████████████████████████████████████████████████████████| 6056/6056 [00:01<00:00, 5359.29it/s]\n",
      "100%|████████████████████████████████████████████████████████████████████████████| 6056/6056 [00:01<00:00, 4988.47it/s]\n",
      "100%|████████████████████████████████████████████████████████████████████████████| 6056/6056 [00:01<00:00, 5101.94it/s]\n",
      "100%|████████████████████████████████████████████████████████████████████████████| 6056/6056 [00:01<00:00, 5515.48it/s]\n",
      "100%|████████████████████████████████████████████████████████████████████████████| 6056/6056 [00:01<00:00, 5298.34it/s]\n",
      "100%|████████████████████████████████████████████████████████████████████████████| 6056/6056 [00:01<00:00, 4903.64it/s]\n"
     ]
    },
    {
     "name": "stdout",
     "output_type": "stream",
     "text": [
      "get result for k =  10  , with algorithm =  user_based\n"
     ]
    },
    {
     "name": "stderr",
     "output_type": "stream",
     "text": [
      "100%|████████████████████████████████████████████████████████████████████████████| 6056/6056 [00:05<00:00, 1056.34it/s]\n",
      "100%|████████████████████████████████████████████████████████████████████████████| 6056/6056 [00:01<00:00, 3275.28it/s]\n",
      "100%|████████████████████████████████████████████████████████████████████████████| 6056/6056 [00:01<00:00, 5691.73it/s]\n",
      "100%|████████████████████████████████████████████████████████████████████████████| 6056/6056 [00:01<00:00, 5540.71it/s]\n",
      "100%|████████████████████████████████████████████████████████████████████████████| 6056/6056 [00:01<00:00, 5550.87it/s]\n",
      "100%|████████████████████████████████████████████████████████████████████████████| 6056/6056 [00:01<00:00, 5520.51it/s]\n",
      "100%|████████████████████████████████████████████████████████████████████████████| 6056/6056 [00:01<00:00, 5520.51it/s]\n",
      "100%|████████████████████████████████████████████████████████████████████████████| 6056/6056 [00:01<00:00, 4984.36it/s]\n"
     ]
    },
    {
     "name": "stdout",
     "output_type": "stream",
     "text": [
      "get result for k =  20  , with algorithm =  user_based\n"
     ]
    },
    {
     "name": "stderr",
     "output_type": "stream",
     "text": [
      "100%|█████████████████████████████████████████████████████████████████████████████| 6056/6056 [00:09<00:00, 639.29it/s]\n",
      "100%|████████████████████████████████████████████████████████████████████████████| 6056/6056 [00:02<00:00, 2879.70it/s]\n",
      "100%|████████████████████████████████████████████████████████████████████████████| 6056/6056 [00:01<00:00, 4844.80it/s]\n",
      "100%|████████████████████████████████████████████████████████████████████████████| 6056/6056 [00:01<00:00, 4931.60it/s]\n",
      "100%|████████████████████████████████████████████████████████████████████████████| 6056/6056 [00:01<00:00, 4891.76it/s]\n",
      "100%|████████████████████████████████████████████████████████████████████████████| 6056/6056 [00:01<00:00, 5106.24it/s]\n",
      "100%|████████████████████████████████████████████████████████████████████████████| 6056/6056 [00:01<00:00, 5349.82it/s]\n",
      "100%|████████████████████████████████████████████████████████████████████████████| 6056/6056 [00:01<00:00, 4825.50it/s]\n"
     ]
    },
    {
     "name": "stdout",
     "output_type": "stream",
     "text": [
      "get result for k =  30  , with algorithm =  user_based\n"
     ]
    },
    {
     "name": "stderr",
     "output_type": "stream",
     "text": [
      "100%|█████████████████████████████████████████████████████████████████████████████| 6056/6056 [00:11<00:00, 540.23it/s]\n",
      "100%|████████████████████████████████████████████████████████████████████████████| 6056/6056 [00:01<00:00, 3145.97it/s]\n",
      "100%|████████████████████████████████████████████████████████████████████████████| 6056/6056 [00:01<00:00, 5421.67it/s]\n",
      "100%|████████████████████████████████████████████████████████████████████████████| 6056/6056 [00:01<00:00, 5515.48it/s]\n",
      "100%|████████████████████████████████████████████████████████████████████████████| 6056/6056 [00:01<00:00, 5545.79it/s]\n",
      "100%|████████████████████████████████████████████████████████████████████████████| 6056/6056 [00:01<00:00, 5495.46it/s]\n",
      "100%|████████████████████████████████████████████████████████████████████████████| 6056/6056 [00:01<00:00, 5450.94it/s]\n",
      "100%|████████████████████████████████████████████████████████████████████████████| 6056/6056 [00:01<00:00, 4968.01it/s]\n"
     ]
    },
    {
     "name": "stdout",
     "output_type": "stream",
     "text": [
      "get result for k =  40  , with algorithm =  user_based\n"
     ]
    },
    {
     "name": "stderr",
     "output_type": "stream",
     "text": [
      "100%|█████████████████████████████████████████████████████████████████████████████| 6056/6056 [00:12<00:00, 478.28it/s]\n",
      "100%|████████████████████████████████████████████████████████████████████████████| 6056/6056 [00:01<00:00, 3212.73it/s]\n",
      "100%|████████████████████████████████████████████████████████████████████████████| 6056/6056 [00:01<00:00, 5659.81it/s]\n",
      "100%|████████████████████████████████████████████████████████████████████████████| 6056/6056 [00:01<00:00, 5633.49it/s]\n",
      "100%|████████████████████████████████████████████████████████████████████████████| 6056/6056 [00:01<00:00, 5510.46it/s]\n",
      "100%|████████████████████████████████████████████████████████████████████████████| 6056/6056 [00:01<00:00, 5530.59it/s]\n",
      "100%|████████████████████████████████████████████████████████████████████████████| 6056/6056 [00:01<00:00, 5426.52it/s]\n",
      "100%|████████████████████████████████████████████████████████████████████████████| 6056/6056 [00:01<00:00, 4939.64it/s]\n"
     ]
    },
    {
     "name": "stdout",
     "output_type": "stream",
     "text": [
      "get result for k =  50  , with algorithm =  user_based\n"
     ]
    },
    {
     "name": "stderr",
     "output_type": "stream",
     "text": [
      "100%|█████████████████████████████████████████████████████████████████████████████| 6056/6056 [00:16<00:00, 369.63it/s]\n",
      "100%|████████████████████████████████████████████████████████████████████████████| 6056/6056 [00:01<00:00, 3169.02it/s]\n",
      "100%|████████████████████████████████████████████████████████████████████████████| 6056/6056 [00:01<00:00, 5602.22it/s]\n",
      "100%|████████████████████████████████████████████████████████████████████████████| 6056/6056 [00:01<00:00, 5638.73it/s]\n",
      "100%|████████████████████████████████████████████████████████████████████████████| 6056/6056 [00:01<00:00, 5649.25it/s]\n",
      "100%|████████████████████████████████████████████████████████████████████████████| 6056/6056 [00:01<00:00, 5633.49it/s]\n",
      "100%|████████████████████████████████████████████████████████████████████████████| 6056/6056 [00:01<00:00, 5581.57it/s]\n",
      "100%|████████████████████████████████████████████████████████████████████████████| 6056/6056 [00:01<00:00, 4972.08it/s]\n"
     ]
    },
    {
     "name": "stdout",
     "output_type": "stream",
     "text": [
      "get result for k =  60  , with algorithm =  user_based\n"
     ]
    },
    {
     "name": "stderr",
     "output_type": "stream",
     "text": [
      "100%|█████████████████████████████████████████████████████████████████████████████| 6056/6056 [00:18<00:00, 332.73it/s]\n",
      "100%|████████████████████████████████████████████████████████████████████████████| 6056/6056 [00:01<00:00, 3150.88it/s]\n",
      "100%|████████████████████████████████████████████████████████████████████████████| 6056/6056 [00:01<00:00, 5602.22it/s]\n",
      "100%|████████████████████████████████████████████████████████████████████████████| 6056/6056 [00:01<00:00, 5602.22it/s]\n",
      "100%|████████████████████████████████████████████████████████████████████████████| 6056/6056 [00:01<00:00, 5561.07it/s]\n",
      "100%|████████████████████████████████████████████████████████████████████████████| 6056/6056 [00:01<00:00, 5441.15it/s]\n",
      "100%|████████████████████████████████████████████████████████████████████████████| 6056/6056 [00:01<00:00, 5510.46it/s]\n",
      "100%|████████████████████████████████████████████████████████████████████████████| 6056/6056 [00:01<00:00, 4907.62it/s]\n"
     ]
    },
    {
     "name": "stdout",
     "output_type": "stream",
     "text": [
      "get result for k =  70  , with algorithm =  user_based\n"
     ]
    },
    {
     "name": "stderr",
     "output_type": "stream",
     "text": [
      "100%|█████████████████████████████████████████████████████████████████████████████| 6056/6056 [00:20<00:00, 296.35it/s]\n",
      "100%|████████████████████████████████████████████████████████████████████████████| 6056/6056 [00:01<00:00, 3110.43it/s]\n",
      "100%|████████████████████████████████████████████████████████████████████████████| 6056/6056 [00:01<00:00, 5407.14it/s]\n",
      "100%|████████████████████████████████████████████████████████████████████████████| 6056/6056 [00:01<00:00, 5561.07it/s]\n",
      "100%|████████████████████████████████████████████████████████████████████████████| 6056/6056 [00:01<00:00, 5530.59it/s]\n",
      "100%|████████████████████████████████████████████████████████████████████████████| 6056/6056 [00:01<00:00, 5581.57it/s]\n",
      "100%|████████████████████████████████████████████████████████████████████████████| 6056/6056 [00:01<00:00, 5485.51it/s]\n",
      "100%|████████████████████████████████████████████████████████████████████████████| 6056/6056 [00:01<00:00, 4963.93it/s]\n"
     ]
    },
    {
     "name": "stdout",
     "output_type": "stream",
     "text": [
      "get result for k =  80  , with algorithm =  user_based\n"
     ]
    },
    {
     "name": "stderr",
     "output_type": "stream",
     "text": [
      "100%|█████████████████████████████████████████████████████████████████████████████| 6056/6056 [00:22<00:00, 270.57it/s]\n",
      "100%|████████████████████████████████████████████████████████████████████████████| 6056/6056 [00:01<00:00, 3165.71it/s]\n",
      "100%|████████████████████████████████████████████████████████████████████████████| 6056/6056 [00:01<00:00, 5607.41it/s]\n",
      "100%|████████████████████████████████████████████████████████████████████████████| 6056/6056 [00:01<00:00, 5607.41it/s]\n",
      "100%|████████████████████████████████████████████████████████████████████████████| 6056/6056 [00:01<00:00, 5591.87it/s]\n",
      "100%|████████████████████████████████████████████████████████████████████████████| 6056/6056 [00:01<00:00, 5586.72it/s]\n",
      "100%|████████████████████████████████████████████████████████████████████████████| 6056/6056 [00:01<00:00, 5566.18it/s]\n",
      "100%|████████████████████████████████████████████████████████████████████████████| 6056/6056 [00:01<00:00, 5042.46it/s]\n"
     ]
    },
    {
     "name": "stdout",
     "output_type": "stream",
     "text": [
      "get result for k =  90  , with algorithm =  user_based\n"
     ]
    },
    {
     "name": "stderr",
     "output_type": "stream",
     "text": [
      "100%|█████████████████████████████████████████████████████████████████████████████| 6056/6056 [00:24<00:00, 251.04it/s]\n",
      "100%|████████████████████████████████████████████████████████████████████████████| 6056/6056 [00:01<00:00, 3089.80it/s]\n",
      "100%|████████████████████████████████████████████████████████████████████████████| 6056/6056 [00:01<00:00, 5392.70it/s]\n",
      "100%|████████████████████████████████████████████████████████████████████████████| 6056/6056 [00:01<00:00, 5345.10it/s]\n",
      "100%|████████████████████████████████████████████████████████████████████████████| 6056/6056 [00:01<00:00, 5284.47it/s]\n",
      "100%|████████████████████████████████████████████████████████████████████████████| 6056/6056 [00:01<00:00, 5387.90it/s]\n",
      "100%|████████████████████████████████████████████████████████████████████████████| 6056/6056 [00:01<00:00, 5284.47it/s]\n",
      "100%|████████████████████████████████████████████████████████████████████████████| 6056/6056 [00:01<00:00, 4821.66it/s]\n"
     ]
    },
    {
     "name": "stdout",
     "output_type": "stream",
     "text": [
      "get result for k =  100  , with algorithm =  user_based\n"
     ]
    },
    {
     "name": "stderr",
     "output_type": "stream",
     "text": [
      "100%|█████████████████████████████████████████████████████████████████████████████| 6056/6056 [00:34<00:00, 175.34it/s]\n",
      "100%|████████████████████████████████████████████████████████████████████████████| 6056/6056 [00:01<00:00, 3083.50it/s]\n",
      "100%|████████████████████████████████████████████████████████████████████████████| 6056/6056 [00:01<00:00, 5545.79it/s]\n",
      "100%|████████████████████████████████████████████████████████████████████████████| 6056/6056 [00:01<00:00, 5407.14it/s]\n",
      "100%|████████████████████████████████████████████████████████████████████████████| 6056/6056 [00:01<00:00, 5485.51it/s]\n",
      "100%|████████████████████████████████████████████████████████████████████████████| 6056/6056 [00:01<00:00, 5354.55it/s]\n",
      "100%|████████████████████████████████████████████████████████████████████████████| 6056/6056 [00:01<00:00, 5397.50it/s]\n",
      "100%|████████████████████████████████████████████████████████████████████████████| 6056/6056 [00:01<00:00, 4860.35it/s]\n"
     ]
    },
    {
     "name": "stdout",
     "output_type": "stream",
     "text": [
      "get result for k =  150  , with algorithm =  user_based\n"
     ]
    },
    {
     "name": "stderr",
     "output_type": "stream",
     "text": [
      "100%|█████████████████████████████████████████████████████████████████████████████| 6056/6056 [00:44<00:00, 137.32it/s]\n",
      "100%|████████████████████████████████████████████████████████████████████████████| 6056/6056 [00:01<00:00, 3102.46it/s]\n",
      "100%|████████████████████████████████████████████████████████████████████████████| 6056/6056 [00:01<00:00, 5455.86it/s]\n",
      "100%|████████████████████████████████████████████████████████████████████████████| 6056/6056 [00:01<00:00, 5441.15it/s]\n",
      "100%|████████████████████████████████████████████████████████████████████████████| 6056/6056 [00:01<00:00, 5436.27it/s]\n",
      "100%|████████████████████████████████████████████████████████████████████████████| 6056/6056 [00:01<00:00, 5510.46it/s]\n",
      "100%|████████████████████████████████████████████████████████████████████████████| 6056/6056 [00:01<00:00, 5411.98it/s]\n",
      "100%|████████████████████████████████████████████████████████████████████████████| 6056/6056 [00:01<00:00, 4939.64it/s]\n"
     ]
    },
    {
     "name": "stdout",
     "output_type": "stream",
     "text": [
      "get result for k =  200  , with algorithm =  user_based\n"
     ]
    },
    {
     "name": "stderr",
     "output_type": "stream",
     "text": [
      "100%|█████████████████████████████████████████████████████████████████████████████| 6056/6056 [00:53<00:00, 112.49it/s]\n",
      "100%|████████████████████████████████████████████████████████████████████████████| 6056/6056 [00:01<00:00, 3077.24it/s]\n",
      "100%|████████████████████████████████████████████████████████████████████████████| 6056/6056 [00:01<00:00, 5441.15it/s]\n",
      "100%|████████████████████████████████████████████████████████████████████████████| 6056/6056 [00:01<00:00, 5555.96it/s]\n",
      "100%|████████████████████████████████████████████████████████████████████████████| 6056/6056 [00:01<00:00, 5465.70it/s]\n",
      "100%|████████████████████████████████████████████████████████████████████████████| 6056/6056 [00:01<00:00, 5378.33it/s]\n",
      "100%|████████████████████████████████████████████████████████████████████████████| 6056/6056 [00:01<00:00, 5302.98it/s]\n",
      "100%|████████████████████████████████████████████████████████████████████████████| 6056/6056 [00:01<00:00, 4876.01it/s]\n"
     ]
    },
    {
     "name": "stdout",
     "output_type": "stream",
     "text": [
      "get result for k =  250  , with algorithm =  user_based\n"
     ]
    },
    {
     "name": "stderr",
     "output_type": "stream",
     "text": [
      "100%|██████████████████████████████████████████████████████████████████████████████| 6056/6056 [01:03<00:00, 95.21it/s]\n",
      "100%|████████████████████████████████████████████████████████████████████████████| 6056/6056 [00:01<00:00, 3080.37it/s]\n",
      "100%|████████████████████████████████████████████████████████████████████████████| 6056/6056 [00:01<00:00, 5485.51it/s]\n",
      "100%|████████████████████████████████████████████████████████████████████████████| 6056/6056 [00:01<00:00, 5411.98it/s]\n",
      "100%|████████████████████████████████████████████████████████████████████████████| 6056/6056 [00:01<00:00, 5470.64it/s]\n",
      "100%|████████████████████████████████████████████████████████████████████████████| 6056/6056 [00:01<00:00, 5446.04it/s]\n",
      "100%|████████████████████████████████████████████████████████████████████████████| 6056/6056 [00:01<00:00, 5345.10it/s]\n",
      "100%|████████████████████████████████████████████████████████████████████████████| 6056/6056 [00:01<00:00, 4891.76it/s]\n"
     ]
    },
    {
     "name": "stdout",
     "output_type": "stream",
     "text": [
      "get result for k =  300  , with algorithm =  user_based\n"
     ]
    },
    {
     "name": "stderr",
     "output_type": "stream",
     "text": [
      "100%|██████████████████████████████████████████████████████████████████████████████| 6056/6056 [01:13<00:00, 82.27it/s]\n",
      "100%|████████████████████████████████████████████████████████████████████████████| 6056/6056 [00:01<00:00, 3099.28it/s]\n",
      "100%|████████████████████████████████████████████████████████████████████████████| 6056/6056 [00:01<00:00, 5530.59it/s]\n",
      "100%|████████████████████████████████████████████████████████████████████████████| 6056/6056 [00:01<00:00, 5416.82it/s]\n",
      "100%|████████████████████████████████████████████████████████████████████████████| 6056/6056 [00:01<00:00, 5373.56it/s]\n",
      "100%|████████████████████████████████████████████████████████████████████████████| 6056/6056 [00:01<00:00, 5407.14it/s]\n",
      "100%|████████████████████████████████████████████████████████████████████████████| 6056/6056 [00:01<00:00, 5364.04it/s]\n",
      "100%|████████████████████████████████████████████████████████████████████████████| 6056/6056 [00:01<00:00, 4864.26it/s]\n"
     ]
    },
    {
     "name": "stdout",
     "output_type": "stream",
     "text": [
      "get result for k =  350  , with algorithm =  user_based\n"
     ]
    },
    {
     "name": "stderr",
     "output_type": "stream",
     "text": [
      "100%|██████████████████████████████████████████████████████████████████████████████| 6056/6056 [01:24<00:00, 71.99it/s]\n",
      "100%|████████████████████████████████████████████████████████████████████████████| 6056/6056 [00:02<00:00, 2867.42it/s]\n",
      "100%|████████████████████████████████████████████████████████████████████████████| 6056/6056 [00:01<00:00, 4887.81it/s]\n",
      "100%|████████████████████████████████████████████████████████████████████████████| 6056/6056 [00:01<00:00, 5335.68it/s]\n",
      "100%|████████████████████████████████████████████████████████████████████████████| 6056/6056 [00:01<00:00, 5441.15it/s]\n",
      "100%|████████████████████████████████████████████████████████████████████████████| 6056/6056 [00:01<00:00, 5480.54it/s]\n",
      "100%|████████████████████████████████████████████████████████████████████████████| 6056/6056 [00:01<00:00, 5216.19it/s]\n",
      "100%|████████████████████████████████████████████████████████████████████████████| 6056/6056 [00:01<00:00, 4761.01it/s]\n"
     ]
    },
    {
     "name": "stdout",
     "output_type": "stream",
     "text": [
      "get result for k =  400  , with algorithm =  user_based\n"
     ]
    },
    {
     "name": "stderr",
     "output_type": "stream",
     "text": [
      "100%|██████████████████████████████████████████████████████████████████████████████| 6056/6056 [01:38<00:00, 61.42it/s]\n",
      "100%|████████████████████████████████████████████████████████████████████████████| 6056/6056 [00:02<00:00, 2981.78it/s]\n",
      "100%|████████████████████████████████████████████████████████████████████████████| 6056/6056 [00:01<00:00, 5475.59it/s]\n",
      "100%|████████████████████████████████████████████████████████████████████████████| 6056/6056 [00:01<00:00, 5495.46it/s]\n",
      "100%|████████████████████████████████████████████████████████████████████████████| 6056/6056 [00:01<00:00, 4723.87it/s]\n",
      "100%|████████████████████████████████████████████████████████████████████████████| 6056/6056 [00:01<00:00, 4591.36it/s]\n",
      "100%|████████████████████████████████████████████████████████████████████████████| 6056/6056 [00:01<00:00, 4731.25it/s]\n",
      "100%|████████████████████████████████████████████████████████████████████████████| 6056/6056 [00:01<00:00, 3997.36it/s]\n"
     ]
    },
    {
     "name": "stdout",
     "output_type": "stream",
     "text": [
      "get result for k =  450  , with algorithm =  user_based\n"
     ]
    },
    {
     "name": "stderr",
     "output_type": "stream",
     "text": [
      "100%|██████████████████████████████████████████████████████████████████████████████| 6056/6056 [01:52<00:00, 54.01it/s]\n",
      "100%|████████████████████████████████████████████████████████████████████████████| 6056/6056 [00:02<00:00, 2770.36it/s]\n",
      "100%|████████████████████████████████████████████████████████████████████████████| 6056/6056 [00:01<00:00, 5009.10it/s]\n",
      "100%|████████████████████████████████████████████████████████████████████████████| 6056/6056 [00:01<00:00, 4919.58it/s]\n",
      "100%|████████████████████████████████████████████████████████████████████████████| 6056/6056 [00:01<00:00, 4817.82it/s]\n",
      "100%|████████████████████████████████████████████████████████████████████████████| 6056/6056 [00:01<00:00, 4840.93it/s]\n",
      "100%|████████████████████████████████████████████████████████████████████████████| 6056/6056 [00:01<00:00, 4202.64it/s]\n",
      "100%|████████████████████████████████████████████████████████████████████████████| 6056/6056 [00:01<00:00, 3914.67it/s]\n"
     ]
    },
    {
     "name": "stdout",
     "output_type": "stream",
     "text": [
      "get result for k =  500  , with algorithm =  user_based\n"
     ]
    },
    {
     "name": "stderr",
     "output_type": "stream",
     "text": [
      "100%|██████████████████████████████████████████████████████████████████████████████| 6056/6056 [02:07<00:00, 47.50it/s]\n",
      "100%|████████████████████████████████████████████████████████████████████████████| 6056/6056 [00:01<00:00, 3066.33it/s]\n",
      "100%|████████████████████████████████████████████████████████████████████████████| 6056/6056 [00:01<00:00, 5623.03it/s]\n",
      "100%|████████████████████████████████████████████████████████████████████████████| 6056/6056 [00:01<00:00, 5581.57it/s]\n",
      "100%|████████████████████████████████████████████████████████████████████████████| 6056/6056 [00:01<00:00, 5597.04it/s]\n",
      "100%|████████████████████████████████████████████████████████████████████████████| 6056/6056 [00:01<00:00, 5561.07it/s]\n",
      "100%|████████████████████████████████████████████████████████████████████████████| 6056/6056 [00:01<00:00, 5510.46it/s]\n",
      "100%|████████████████████████████████████████████████████████████████████████████| 6056/6056 [00:01<00:00, 4939.64it/s]\n"
     ]
    },
    {
     "name": "stdout",
     "output_type": "stream",
     "text": [
      "get result for k =  600  , with algorithm =  user_based\n"
     ]
    },
    {
     "name": "stderr",
     "output_type": "stream",
     "text": [
      "100%|██████████████████████████████████████████████████████████████████████████████| 6056/6056 [02:19<00:00, 43.30it/s]\n",
      "100%|████████████████████████████████████████████████████████████████████████████| 6056/6056 [00:01<00:00, 3207.63it/s]\n",
      "100%|████████████████████████████████████████████████████████████████████████████| 6056/6056 [00:01<00:00, 5607.41it/s]\n",
      "100%|████████████████████████████████████████████████████████████████████████████| 6056/6056 [00:01<00:00, 5602.22it/s]\n",
      "100%|████████████████████████████████████████████████████████████████████████████| 6056/6056 [00:01<00:00, 5597.04it/s]\n",
      "100%|████████████████████████████████████████████████████████████████████████████| 6056/6056 [00:01<00:00, 5571.30it/s]\n",
      "100%|████████████████████████████████████████████████████████████████████████████| 6056/6056 [00:01<00:00, 5540.71it/s]\n",
      "100%|████████████████████████████████████████████████████████████████████████████| 6056/6056 [00:01<00:00, 4972.09it/s]\n"
     ]
    },
    {
     "name": "stdout",
     "output_type": "stream",
     "text": [
      "get result for k =  700  , with algorithm =  user_based\n"
     ]
    },
    {
     "name": "stderr",
     "output_type": "stream",
     "text": [
      "100%|██████████████████████████████████████████████████████████████████████████████| 6056/6056 [02:38<00:00, 38.18it/s]\n",
      "100%|████████████████████████████████████████████████████████████████████████████| 6056/6056 [00:01<00:00, 3155.81it/s]\n",
      "100%|████████████████████████████████████████████████████████████████████████████| 6056/6056 [00:01<00:00, 5555.96it/s]\n",
      "100%|████████████████████████████████████████████████████████████████████████████| 6056/6056 [00:01<00:00, 5586.72it/s]\n",
      "100%|████████████████████████████████████████████████████████████████████████████| 6056/6056 [00:01<00:00, 5545.79it/s]\n",
      "100%|████████████████████████████████████████████████████████████████████████████| 6056/6056 [00:01<00:00, 5612.60it/s]\n",
      "100%|████████████████████████████████████████████████████████████████████████████| 6056/6056 [00:01<00:00, 5485.51it/s]\n",
      "100%|████████████████████████████████████████████████████████████████████████████| 6056/6056 [00:01<00:00, 4988.47it/s]\n"
     ]
    },
    {
     "name": "stdout",
     "output_type": "stream",
     "text": [
      "get result for k =  800  , with algorithm =  user_based\n"
     ]
    },
    {
     "name": "stderr",
     "output_type": "stream",
     "text": [
      "100%|██████████████████████████████████████████████████████████████████████████████| 6056/6056 [02:58<00:00, 33.93it/s]\n",
      "100%|████████████████████████████████████████████████████████████████████████████| 6056/6056 [00:01<00:00, 3296.68it/s]\n",
      "100%|████████████████████████████████████████████████████████████████████████████| 6056/6056 [00:01<00:00, 5784.15it/s]\n",
      "100%|████████████████████████████████████████████████████████████████████████████| 6056/6056 [00:01<00:00, 5729.42it/s]\n",
      "100%|████████████████████████████████████████████████████████████████████████████| 6056/6056 [00:01<00:00, 5740.28it/s]\n",
      "100%|████████████████████████████████████████████████████████████████████████████| 6056/6056 [00:01<00:00, 5740.28it/s]\n",
      "100%|████████████████████████████████████████████████████████████████████████████| 6056/6056 [00:01<00:00, 5665.11it/s]\n",
      "100%|████████████████████████████████████████████████████████████████████████████| 6056/6056 [00:01<00:00, 5154.04it/s]\n"
     ]
    },
    {
     "name": "stdout",
     "output_type": "stream",
     "text": [
      "get result for k =  900  , with algorithm =  user_based\n"
     ]
    },
    {
     "name": "stderr",
     "output_type": "stream",
     "text": [
      "100%|██████████████████████████████████████████████████████████████████████████████| 6056/6056 [03:14<00:00, 31.09it/s]\n",
      "100%|████████████████████████████████████████████████████████████████████████████| 6056/6056 [00:01<00:00, 3104.05it/s]\n",
      "100%|████████████████████████████████████████████████████████████████████████████| 6056/6056 [00:01<00:00, 5495.46it/s]\n",
      "100%|████████████████████████████████████████████████████████████████████████████| 6056/6056 [00:01<00:00, 5470.64it/s]\n",
      "100%|████████████████████████████████████████████████████████████████████████████| 6056/6056 [00:01<00:00, 5298.34it/s]\n",
      "100%|████████████████████████████████████████████████████████████████████████████| 6056/6056 [00:01<00:00, 5475.59it/s]\n",
      "100%|████████████████████████████████████████████████████████████████████████████| 6056/6056 [00:01<00:00, 4984.36it/s]\n",
      "100%|████████████████████████████████████████████████████████████████████████████| 6056/6056 [00:01<00:00, 4378.89it/s]\n"
     ]
    },
    {
     "name": "stdout",
     "output_type": "stream",
     "text": [
      "get result for k =  1000  , with algorithm =  user_based\n"
     ]
    }
   ],
   "source": [
    "hyper_parameter_tuning(rtrain, rvalid, 'knn_tunning_final_4000.csv', I_K4000, U_K4000)"
   ]
  },
  {
   "cell_type": "markdown",
   "metadata": {},
   "source": [
    "# Test Res"
   ]
  },
  {
   "cell_type": "markdown",
   "metadata": {},
   "source": [
    "### User-item"
   ]
  },
  {
   "cell_type": "code",
   "execution_count": 79,
   "metadata": {
    "scrolled": true
   },
   "outputs": [
    {
     "name": "stderr",
     "output_type": "stream",
     "text": [
      "100%|█████████████████████████████████████████████████████████████████████████████| 6056/6056 [00:12<00:00, 467.25it/s]\n",
      "100%|████████████████████████████████████████████████████████████████████████████| 6056/6056 [00:01<00:00, 3440.91it/s]\n",
      "100%|████████████████████████████████████████████████████████████████████████████| 6056/6056 [00:01<00:00, 5724.01it/s]\n",
      "100%|████████████████████████████████████████████████████████████████████████████| 6056/6056 [00:01<00:00, 5745.73it/s]\n",
      "100%|████████████████████████████████████████████████████████████████████████████| 6056/6056 [00:01<00:00, 5628.25it/s]\n",
      "100%|████████████████████████████████████████████████████████████████████████████| 6056/6056 [00:01<00:00, 5649.25it/s]\n",
      "100%|████████████████████████████████████████████████████████████████████████████| 6056/6056 [00:01<00:00, 5571.30it/s]\n",
      "100%|████████████████████████████████████████████████████████████████████████████| 6056/6056 [00:01<00:00, 4996.70it/s]\n"
     ]
    }
   ],
   "source": [
    "similarity = train(rtrain)\n",
    "user_item_test_res = get_res(similarity, rtrain,rtest, k=100 , base = 0)"
   ]
  },
  {
   "cell_type": "code",
   "execution_count": 81,
   "metadata": {},
   "outputs": [
    {
     "data": {
      "text/plain": [
       "{'MAP@10': (0.06967576301474467, 0.003166036638077451),\n",
       " 'MAP@15': (0.06299312349816566, 0.002642216310283345),\n",
       " 'MAP@20': (0.05815498052932873, 0.002313510028788075),\n",
       " 'MAP@5': (0.07996363035212431, 0.004219137398488782),\n",
       " 'MAP@50': (0.04287378323036822, 0.0014896505793858103),\n",
       " 'NDCG': (0.16056426673261637, 0.004679162839418328),\n",
       " 'Precision@10': (0.05435609191601918, 0.002179272606282965),\n",
       " 'Precision@15': (0.04690582465421282, 0.0017270471705763456),\n",
       " 'Precision@20': (0.04169284179203174, 0.00147050452077659),\n",
       " 'Precision@5': (0.06877169780128947, 0.0032115203466584427),\n",
       " 'Precision@50': (0.026963134402380563, 0.0008807019950014483),\n",
       " 'R-Precision': (0.06971269444272153, 0.0036516275234849916),\n",
       " 'Recall@10': (0.13016474382769494, 0.005599369026932372),\n",
       " 'Recall@15': (0.16674700005122858, 0.0061824760781168915),\n",
       " 'Recall@20': (0.19547171410919253, 0.006590533272274745),\n",
       " 'Recall@5': (0.08534234229083451, 0.004539139168287699),\n",
       " 'Recall@50': (0.30009099604718237, 0.007562927041383074)}"
      ]
     },
     "execution_count": 81,
     "metadata": {},
     "output_type": "execute_result"
    }
   ],
   "source": [
    "user_item_test_res"
   ]
  },
  {
   "cell_type": "markdown",
   "metadata": {},
   "source": [
    "### Item_based"
   ]
  },
  {
   "cell_type": "code",
   "execution_count": 80,
   "metadata": {
    "scrolled": true
   },
   "outputs": [
    {
     "name": "stderr",
     "output_type": "stream",
     "text": [
      "100%|█████████████████████████████████████████████████████████████████████████████| 4395/4395 [00:06<00:00, 703.65it/s]\n",
      "100%|████████████████████████████████████████████████████████████████████████████| 6056/6056 [00:02<00:00, 2959.92it/s]\n",
      "100%|████████████████████████████████████████████████████████████████████████████| 6056/6056 [00:01<00:00, 5586.72it/s]\n",
      "100%|████████████████████████████████████████████████████████████████████████████| 6056/6056 [00:01<00:00, 5510.46it/s]\n",
      "100%|████████████████████████████████████████████████████████████████████████████| 6056/6056 [00:01<00:00, 5561.07it/s]\n",
      "100%|████████████████████████████████████████████████████████████████████████████| 6056/6056 [00:01<00:00, 5561.07it/s]\n",
      "100%|████████████████████████████████████████████████████████████████████████████| 6056/6056 [00:01<00:00, 5515.48it/s]\n",
      "100%|████████████████████████████████████████████████████████████████████████████| 6056/6056 [00:01<00:00, 4988.47it/s]\n"
     ]
    }
   ],
   "source": [
    "similarity = train(I_K4000)\n",
    "item_based_test_res = get_res(similarity, rtrain, rtest, k=10 , I_K = I_K4000 , base = 1)"
   ]
  },
  {
   "cell_type": "code",
   "execution_count": 86,
   "metadata": {},
   "outputs": [
    {
     "data": {
      "text/plain": [
       "{'MAP@10': (0.07178887629333984, 0.0031642553731385755),\n",
       " 'MAP@15': (0.064992031749347, 0.002635286591977173),\n",
       " 'MAP@20': (0.06000381513721743, 0.002304365891757811),\n",
       " 'MAP@5': (0.08220697635972887, 0.0042622624420715505),\n",
       " 'MAP@50': (0.044192917573934835, 0.0014837377050769267),\n",
       " 'NDCG': (0.16778164007455423, 0.004908149428189497),\n",
       " 'Precision@10': (0.056670524053562564, 0.002183254014644424),\n",
       " 'Precision@15': (0.04838265278007384, 0.0017324994225048935),\n",
       " 'Precision@20': (0.04308976690362043, 0.001466437083771068),\n",
       " 'Precision@5': (0.07019342040006613, 0.003196544742899958),\n",
       " 'Precision@50': (0.027554967763266658, 0.0009091317645205956),\n",
       " 'R-Precision': (0.07243349225360872, 0.0037471162564621336),\n",
       " 'Recall@10': (0.1419863086006407, 0.005926964704051735),\n",
       " 'Recall@15': (0.17839619650584668, 0.006543351311776944),\n",
       " 'Recall@20': (0.20791309653313403, 0.006932247875513412),\n",
       " 'Recall@5': (0.09135255791336933, 0.004732662881220303),\n",
       " 'Recall@50': (0.30698083409364585, 0.007815814255038857)}"
      ]
     },
     "execution_count": 86,
     "metadata": {},
     "output_type": "execute_result"
    }
   ],
   "source": [
    "item_based_test_res"
   ]
  },
  {
   "cell_type": "markdown",
   "metadata": {},
   "source": [
    "### user_based"
   ]
  },
  {
   "cell_type": "code",
   "execution_count": 87,
   "metadata": {},
   "outputs": [
    {
     "name": "stderr",
     "output_type": "stream",
     "text": [
      "100%|█████████████████████████████████████████████████████████████████████████████| 6056/6056 [00:14<00:00, 405.63it/s]\n",
      "100%|████████████████████████████████████████████████████████████████████████████| 6056/6056 [00:01<00:00, 3360.71it/s]\n",
      "100%|████████████████████████████████████████████████████████████████████████████| 6056/6056 [00:01<00:00, 5734.85it/s]\n",
      "100%|████████████████████████████████████████████████████████████████████████████| 6056/6056 [00:01<00:00, 5817.48it/s]\n",
      "100%|████████████████████████████████████████████████████████████████████████████| 6056/6056 [00:01<00:00, 5665.11it/s]\n",
      "100%|████████████████████████████████████████████████████████████████████████████| 6056/6056 [00:01<00:00, 5784.15it/s]\n",
      "100%|████████████████████████████████████████████████████████████████████████████| 6056/6056 [00:01<00:00, 5702.45it/s]\n",
      "100%|████████████████████████████████████████████████████████████████████████████| 6056/6056 [00:01<00:00, 5055.09it/s]\n"
     ]
    }
   ],
   "source": [
    "similarity = train(U_K4000)\n",
    "user_based_test_res = get_res(similarity, rtrain, rtest, k=60 , U_K = U_K4000 , base = 2)"
   ]
  },
  {
   "cell_type": "code",
   "execution_count": 88,
   "metadata": {},
   "outputs": [
    {
     "data": {
      "text/plain": [
       "{'MAP@10': (0.027662961475988426, 0.0020350425531479774),\n",
       " 'MAP@15': (0.02533236979095799, 0.0017040315413899023),\n",
       " 'MAP@20': (0.02365930147648219, 0.001495541701848737),\n",
       " 'MAP@5': (0.030833746624786464, 0.0026988426807522743),\n",
       " 'MAP@50': (0.018425052652704506, 0.0009706651132499718),\n",
       " 'NDCG': (0.06930589317092652, 0.0031603934852285132),\n",
       " 'Precision@10': (0.022648371631674658, 0.001422552135699057),\n",
       " 'Precision@15': (0.01962858874745137, 0.0011206733198182316),\n",
       " 'Precision@20': (0.017912051578773354, 0.0009585532836581427),\n",
       " 'Precision@5': (0.028004628864275093, 0.0020950784481967824),\n",
       " 'Precision@50': (0.013066622582244999, 0.0005930316778871791),\n",
       " 'R-Precision': (0.026034915073542435, 0.0021865854175256334),\n",
       " 'Recall@10': (0.05141660514915298, 0.0035963108493951806),\n",
       " 'Recall@15': (0.06612453783626274, 0.004046048067636085),\n",
       " 'Recall@20': (0.07933286856577168, 0.004426999086434319),\n",
       " 'Recall@5': (0.03247410939701062, 0.002846364877967614),\n",
       " 'Recall@50': (0.1397135668983857, 0.005679354921733084)}"
      ]
     },
     "execution_count": 88,
     "metadata": {},
     "output_type": "execute_result"
    }
   ],
   "source": [
    "user_based_test_res"
   ]
  },
  {
   "cell_type": "markdown",
   "metadata": {},
   "source": [
    "### Combined"
   ]
  },
  {
   "cell_type": "code",
   "execution_count": 99,
   "metadata": {},
   "outputs": [
    {
     "data": {
      "text/plain": [
       "{'MAP@10': (0.05122108599873519, 0.002653053174158122),\n",
       " 'MAP@15': (0.04728615084211051, 0.002234313162919645),\n",
       " 'MAP@20': (0.044302953077863805, 0.001973353451834665),\n",
       " 'MAP@5': (0.05715159530500909, 0.0035125556806445434),\n",
       " 'MAP@50': (0.0343378474411469, 0.0013191224541127305),\n",
       " 'NDCG': (0.1291822309749353, 0.004058282726779298),\n",
       " 'Precision@10': (0.04289965283517937, 0.0019288484020809802),\n",
       " 'Precision@15': (0.03743869510111864, 0.0015467812090507785),\n",
       " 'Precision@20': (0.0339890891056373, 0.0013391918788232815),\n",
       " 'Precision@5': (0.05121507687221028, 0.002722001741904351),\n",
       " 'Precision@50': (0.02368655976194413, 0.0008491465294527612),\n",
       " 'R-Precision': (0.05140323281327665, 0.003060655529551258),\n",
       " 'Recall@10': (0.10058189191918364, 0.004825023648988774),\n",
       " 'Recall@15': (0.1302496659116421, 0.005459024789206498),\n",
       " 'Recall@20': (0.15525854859961502, 0.005890230082023904),\n",
       " 'Recall@5': (0.061712547308052854, 0.003772189331154954),\n",
       " 'Recall@50': (0.25575726922052294, 0.007141997259463763)}"
      ]
     },
     "execution_count": 99,
     "metadata": {},
     "output_type": "execute_result"
    }
   ],
   "source": [
    "combined_0p3"
   ]
  },
  {
   "cell_type": "code",
   "execution_count": 101,
   "metadata": {},
   "outputs": [
    {
     "data": {
      "text/plain": [
       "{'MAP@10': (0.03673916979587339, 0.002286533377179637),\n",
       " 'MAP@15': (0.034118915745630904, 0.0019212596961479982),\n",
       " 'MAP@20': (0.03208210771095433, 0.0016927545980589594),\n",
       " 'MAP@5': (0.041125805918333605, 0.003047809332245553),\n",
       " 'MAP@50': (0.025521729435212723, 0.0011243306147876919),\n",
       " 'NDCG': (0.09622570632715484, 0.0034663463788181885),\n",
       " 'Precision@10': (0.030798479087452472, 0.0016503500760144765),\n",
       " 'Precision@15': (0.0274205102771808, 0.0013242743079636638),\n",
       " 'Precision@20': (0.02514465200859646, 0.0011463190745644226),\n",
       " 'Precision@5': (0.03613820466192759, 0.002331153330160032),\n",
       " 'Precision@50': (0.018515457100347164, 0.0007355982299518363),\n",
       " 'R-Precision': (0.03640024899739321, 0.002535947262955616),\n",
       " 'Recall@10': (0.06939098096256677, 0.003972644327012725),\n",
       " 'Recall@15': (0.09166402392141766, 0.004539900718811375),\n",
       " 'Recall@20': (0.11041799333938261, 0.004922715482932636),\n",
       " 'Recall@5': (0.042286912206791864, 0.0031134462589319286),\n",
       " 'Recall@50': (0.19606840268027342, 0.006325619133004782)}"
      ]
     },
     "execution_count": 101,
     "metadata": {},
     "output_type": "execute_result"
    }
   ],
   "source": [
    "combined_0p7"
   ]
  },
  {
   "cell_type": "code",
   "execution_count": 103,
   "metadata": {},
   "outputs": [
    {
     "data": {
      "text/plain": [
       "{'MAP@10': (0.039651254175555706, 0.0023419353616829044),\n",
       " 'MAP@15': (0.03661492769031205, 0.0019680544909394947),\n",
       " 'MAP@20': (0.03438411411806222, 0.0017331121658462432),\n",
       " 'MAP@5': (0.044217225987766576, 0.0031041659709597543),\n",
       " 'MAP@50': (0.027279216705910336, 0.0011602997177624112),\n",
       " 'NDCG': (0.10280954981495931, 0.003574171634216811),\n",
       " 'Precision@10': (0.03293106298561745, 0.0016814437954542605),\n",
       " 'Precision@15': (0.02930511930346614, 0.0013568683818841788),\n",
       " 'Precision@20': (0.026839146966440734, 0.0011669307215516078),\n",
       " 'Precision@5': (0.03911390312448339, 0.0023881604933671404),\n",
       " 'Precision@50': (0.019623078194742936, 0.0007657227552223958),\n",
       " 'R-Precision': (0.03840522703948805, 0.0026043921678075422),\n",
       " 'Recall@10': (0.0751278602576423, 0.004067021736928121),\n",
       " 'Recall@15': (0.09940257453920837, 0.004692868904043398),\n",
       " 'Recall@20': (0.11954810329703666, 0.005100662755024354),\n",
       " 'Recall@5': (0.04600078165534367, 0.003243473193381281),\n",
       " 'Recall@50': (0.20873636149442928, 0.006526595393191413)}"
      ]
     },
     "execution_count": 103,
     "metadata": {},
     "output_type": "execute_result"
    }
   ],
   "source": [
    "combined_0p5"
   ]
  }
 ],
 "metadata": {
  "kernelspec": {
   "display_name": "Python 2",
   "language": "python",
   "name": "python2"
  },
  "language_info": {
   "codemirror_mode": {
    "name": "ipython",
    "version": 2
   },
   "file_extension": ".py",
   "mimetype": "text/x-python",
   "name": "python",
   "nbconvert_exporter": "python",
   "pygments_lexer": "ipython2",
   "version": "2.7.13"
  }
 },
 "nbformat": 4,
 "nbformat_minor": 2
}
